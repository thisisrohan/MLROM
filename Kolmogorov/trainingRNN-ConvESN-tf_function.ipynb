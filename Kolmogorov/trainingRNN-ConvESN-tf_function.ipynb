{
 "cells": [
  {
   "cell_type": "code",
   "execution_count": null,
   "metadata": {
    "executionInfo": {
     "elapsed": 3,
     "status": "ok",
     "timestamp": 1667868739487,
     "user": {
      "displayName": "Rohan Kaushik",
      "userId": "13918477614376051685"
     },
     "user_tz": -60
    },
    "id": "4xhxMpe_r-Y5"
   },
   "outputs": [],
   "source": [
    "# enabling 3rd party widgets\n",
    "# from google.colab import output\n",
    "# output.enable_custom_widget_manager()\n",
    "# output.disable_custom_widget_manager()\n",
    "\n",
    "# interactive 3D plot\n",
    "# !pip install ipympl\n",
    "# %matplotlib widget"
   ]
  },
  {
   "cell_type": "code",
   "execution_count": null,
   "metadata": {
    "executionInfo": {
     "elapsed": 3563,
     "status": "ok",
     "timestamp": 1667868743047,
     "user": {
      "displayName": "Rohan Kaushik",
      "userId": "13918477614376051685"
     },
     "user_tz": -60
    },
    "id": "a5qPupCDsjSz"
   },
   "outputs": [],
   "source": [
    "import os\n",
    "import numpy as np\n",
    "import matplotlib.pyplot as plt\n",
    "from scipy import linalg\n",
    "import scipy.sparse as sp\n",
    "\n",
    "import time as time\n",
    "\n",
    "import tensorflow as tf\n",
    "from tensorflow.keras import layers, losses\n",
    "from tensorflow.keras.models import Model\n",
    "from tensorflow.keras import backend as K\n",
    "from tensorflow.keras.regularizers import L2\n",
    "import h5py\n",
    "\n",
    "tf.keras.backend.set_floatx('float32')"
   ]
  },
  {
   "cell_type": "code",
   "execution_count": null,
   "metadata": {
    "colab": {
     "base_uri": "https://localhost:8080/"
    },
    "executionInfo": {
     "elapsed": 10,
     "status": "ok",
     "timestamp": 1667868743048,
     "user": {
      "displayName": "Rohan Kaushik",
      "userId": "13918477614376051685"
     },
     "user_tz": -60
    },
    "id": "h_qXhHdbCgoj",
    "outputId": "3473a883-d145-4778-9be7-7d44e0c6ea67"
   },
   "outputs": [],
   "source": [
    "colab_flag = False\n",
    "FTYPE = np.float32\n",
    "ITYPE = np.int32\n",
    "\n",
    "array = np.array\n",
    "float32 = np.float32\n",
    "int32 = np.int32\n",
    "float64 = np.float64\n",
    "int64 = np.int64\n",
    "\n",
    "strategy = None\n",
    "# strategy = tf.distribute.MirroredStrategy()"
   ]
  },
  {
   "cell_type": "code",
   "execution_count": null,
   "metadata": {
    "executionInfo": {
     "elapsed": 7,
     "status": "ok",
     "timestamp": 1667868743048,
     "user": {
      "displayName": "Rohan Kaushik",
      "userId": "13918477614376051685"
     },
     "user_tz": -60
    },
    "id": "BiLIUmBPneQR"
   },
   "outputs": [],
   "source": [
    "dir_sep = '/'"
   ]
  },
  {
   "cell_type": "code",
   "execution_count": null,
   "metadata": {
    "colab": {
     "base_uri": "https://localhost:8080/"
    },
    "executionInfo": {
     "elapsed": 18870,
     "status": "ok",
     "timestamp": 1667868761912,
     "user": {
      "displayName": "Rohan Kaushik",
      "userId": "13918477614376051685"
     },
     "user_tz": -60
    },
    "id": "fnTV6Anhni6O",
    "outputId": "bf1d11f8-667f-4cb5-d8d5-b9d860b44d99"
   },
   "outputs": [],
   "source": [
    "if colab_flag == True:\n",
    "    from google.colab import drive\n",
    "    drive.mount('/content/drive')\n",
    "    os.chdir('/content/drive/MyDrive/Github/MLROM/KS/')"
   ]
  },
  {
   "cell_type": "code",
   "execution_count": null,
   "metadata": {
    "colab": {
     "base_uri": "https://localhost:8080/"
    },
    "executionInfo": {
     "elapsed": 6,
     "status": "ok",
     "timestamp": 1667868761912,
     "user": {
      "displayName": "Rohan Kaushik",
      "userId": "13918477614376051685"
     },
     "user_tz": -60
    },
    "id": "paDfPOrjnkAS",
    "outputId": "58054510-4476-49b4-f8ba-e2978a028b36"
   },
   "outputs": [],
   "source": [
    "print(os.getcwd())"
   ]
  },
  {
   "cell_type": "code",
   "execution_count": null,
   "metadata": {
    "executionInfo": {
     "elapsed": 4575,
     "status": "ok",
     "timestamp": 1667868766483,
     "user": {
      "displayName": "Rohan Kaushik",
      "userId": "13918477614376051685"
     },
     "user_tz": -60
    },
    "id": "P6K2YWlR6ZPD"
   },
   "outputs": [],
   "source": [
    "from tools.misc_tools import create_data_for_RNN, mytimecallback, SaveLosses, plot_losses, readAndReturnLossHistories\n",
    "from tools.ae_v2 import Autoencoder\n",
    "from tools.ConvESN_v3 import ESN"
   ]
  },
  {
   "cell_type": "code",
   "execution_count": null,
   "metadata": {},
   "outputs": [],
   "source": []
  },
  {
   "cell_type": "code",
   "execution_count": null,
   "metadata": {
    "executionInfo": {
     "elapsed": 9,
     "status": "ok",
     "timestamp": 1667868766483,
     "user": {
      "displayName": "Rohan Kaushik",
      "userId": "13918477614376051685"
     },
     "user_tz": -60
    },
    "id": "_xtkwXE2tGTP"
   },
   "outputs": [],
   "source": [
    "behaviour = 'initialiseAndTrainFromScratch'\n",
    "# behaviour = 'loadCheckpointAndContinueTraining'\n",
    "# behaviour = 'loadFinalNetAndPlot'"
   ]
  },
  {
   "cell_type": "code",
   "execution_count": null,
   "metadata": {
    "executionInfo": {
     "elapsed": 9,
     "status": "ok",
     "timestamp": 1667868766484,
     "user": {
      "displayName": "Rohan Kaushik",
      "userId": "13918477614376051685"
     },
     "user_tz": -60
    },
    "id": "8S1AHEkl48bn"
   },
   "outputs": [],
   "source": [
    "# setting seed for PRNGs\n",
    "if behaviour == 'initialiseAndTrainFromScratch':\n",
    "    prng_seed = 42\n",
    "    np.random.seed(prng_seed)\n",
    "    tf.random.set_seed(prng_seed)"
   ]
  },
  {
   "cell_type": "code",
   "execution_count": null,
   "metadata": {
    "colab": {
     "base_uri": "https://localhost:8080/"
    },
    "executionInfo": {
     "elapsed": 9,
     "status": "ok",
     "timestamp": 1667868766484,
     "user": {
      "displayName": "Rohan Kaushik",
      "userId": "13918477614376051685"
     },
     "user_tz": -60
    },
    "id": "qvA9oeCHCTVM",
    "outputId": "0f2de849-59ee-4ed9-b65d-c5952e0dcb55"
   },
   "outputs": [],
   "source": [
    "gpus = tf.config.list_physical_devices('GPU')\n",
    "print(gpus)\n",
    "\n",
    "if colab_flag == False:\n",
    "    if strategy is None:\n",
    "        if gpus:\n",
    "            gpu_to_use = 0\n",
    "            tf.config.set_visible_devices(gpus[gpu_to_use], 'GPU')\n",
    "    logical_devices = tf.config.list_logical_devices('GPU')\n",
    "    print(logical_devices)"
   ]
  },
  {
   "cell_type": "code",
   "execution_count": null,
   "metadata": {
    "colab": {
     "base_uri": "https://localhost:8080/"
    },
    "executionInfo": {
     "elapsed": 8,
     "status": "ok",
     "timestamp": 1667868766484,
     "user": {
      "displayName": "Rohan Kaushik",
      "userId": "13918477614376051685"
     },
     "user_tz": -60
    },
    "id": "tc3zO9xL_tNl",
    "outputId": "c9786b4c-8510-47d0-801d-181e3b12239c"
   },
   "outputs": [],
   "source": [
    "# print(tf.test.gpu_device_name())\n",
    "print(tf.config.list_physical_devices())\n",
    "print(tf.config.list_logical_devices())\n",
    "print(tf.__version__)"
   ]
  },
  {
   "cell_type": "markdown",
   "metadata": {
    "id": "7UbdnOtc4_z9"
   },
   "source": [
    "# KS System"
   ]
  },
  {
   "cell_type": "code",
   "execution_count": null,
   "metadata": {
    "executionInfo": {
     "elapsed": 6,
     "status": "ok",
     "timestamp": 1667868766485,
     "user": {
      "displayName": "Rohan Kaushik",
      "userId": "13918477614376051685"
     },
     "user_tz": -60
    },
    "id": "8aNkoXfyGq52"
   },
   "outputs": [],
   "source": []
  },
  {
   "cell_type": "code",
   "execution_count": null,
   "metadata": {
    "colab": {
     "base_uri": "https://localhost:8080/"
    },
    "executionInfo": {
     "elapsed": 5768,
     "status": "ok",
     "timestamp": 1667868772247,
     "user": {
      "displayName": "Rohan Kaushik",
      "userId": "13918477614376051685"
     },
     "user_tz": -60
    },
    "id": "O7sl7i5H5Dqz",
    "outputId": "419ef0e0-4d58-454e-d0af-17af3b846b85"
   },
   "outputs": [],
   "source": [
    "# setting up params (and saving, if applicable)\n",
    "# from numpy import *\n",
    "\n",
    "if behaviour == 'initialiseAndTrainFromScratch':\n",
    "    # making RNN save directory\n",
    "    dir_name_rnn = os.getcwd() + dir_sep + 'saved_ConvESN'\n",
    "    if not os.path.isdir(dir_name_rnn):\n",
    "        os.makedirs(dir_name_rnn)\n",
    "\n",
    "    counter = 0\n",
    "    while True:\n",
    "        dir_check = 'ESN_' + str(counter).zfill(3)\n",
    "        if os.path.isdir(dir_name_rnn + dir_sep + dir_check):\n",
    "            counter += 1\n",
    "        else:\n",
    "            break\n",
    "\n",
    "    dir_name_rnn = dir_name_rnn + dir_sep + dir_check\n",
    "    os.makedirs(dir_name_rnn)\n",
    "    os.makedirs(dir_name_rnn+dir_sep+'plots')\n",
    "    \n",
    "    # whether to use AE data or just work on raw data\n",
    "    use_ae_data = True # if false, specifying ae_idx will only show which dataset to use\n",
    "    \n",
    "    # autoencoder directory\n",
    "    ae_idx = '013'\n",
    "    dir_name_ae = os.getcwd()+'{ds}saved_ae{ds}ae_'.format(ds=dir_sep)+ae_idx\n",
    "else:\n",
    "    # RNN directory\n",
    "    dir_name_rnn = os.getcwd()+'/saved_ConvESN/ESN_008'\n",
    "\n",
    "    # reading AE directory\n",
    "    with open(dir_name_rnn + '/sim_data_AE_params.txt') as f:\n",
    "        lines = f.readlines()\n",
    "\n",
    "    params_dict = eval(''.join(lines))\n",
    "\n",
    "    use_ae_data = params_dict['use_ae_data']\n",
    "    \n",
    "    dir_name_ae = params_dict['dir_name_ae']\n",
    "    ae_idx = dir_name_ae[-3:]\n",
    "    dir_name_ae = os.getcwd()+'/saved_ae/ae_'+ae_idx\n",
    "\n",
    "    # reading RNN paramaters\n",
    "    with open(dir_name_rnn + '/RNN_specific_data.txt') as f:\n",
    "        lines = f.readlines()\n",
    "\n",
    "    params_rnn_dict = eval(''.join(lines))\n",
    "\n",
    "    dt_rnn = params_rnn_dict['dt_rnn']\n",
    "    T_sample_input = params_rnn_dict['T_sample_input']\n",
    "    T_sample_output = params_rnn_dict['T_sample_output']\n",
    "    T_offset = params_rnn_dict['T_offset']\n",
    "    return_params_arr = params_rnn_dict['return_params_arr']\n",
    "    params = params_rnn_dict['params']\n",
    "    try:\n",
    "        normalize_dataset = params_rnn_dict['normalize_dataset']\n",
    "    except:\n",
    "        print(\"'normalize_dataset' not present in RNN_specific_data, set to False.\")\n",
    "        normalize_dataset = False\n",
    "    try:\n",
    "        stddev_multiplier = params_rnn_dict['stddev_multiplier']\n",
    "    except:\n",
    "        print(\"'stddev_multiplier' not present in RNN_specific_data, set to None.\")\n",
    "        stddev_multiplier = None\n",
    "    try:\n",
    "        skip_intermediate = params_rnn_dict['skip_intermediate']\n",
    "    except:\n",
    "        print(\"'skip_intermediate' not present in RNN_specific_data, set to 1.\")\n",
    "        skip_intermediate = 1\n",
    "    try:\n",
    "        normalization_type = params_rnn_dict['normalization_type']\n",
    "    except:\n",
    "        print(\"'normalization_type' not present in RNN_specific_data, set to 'stddev'.\")\n",
    "        normalization_type = 'stddev'\n",
    "    \n",
    "\n",
    "    normalization_arr = None\n",
    "    try:\n",
    "        with open(dir_name_rnn + '/final_net/rnn_normalization.txt') as f:\n",
    "            lines = f.readlines()\n",
    "        rnn_norm_arr_dict = eval(lines)\n",
    "        normalization_arr = rnn_norm_arr_dict['normalization_arr']\n",
    "    except:\n",
    "        pass\n",
    "    if os.path.exists(dir_name_rnn+dir_sep+'normalization_data.npz'):\n",
    "        with np.load(dir_name_rnn+dir_sep+'normalization_data.npz', allow_pickle=True) as fl:\n",
    "            normalization_arr = fl['normalization_arr'][0]\n",
    "\n",
    "# reading simulation parameters\n",
    "with open(dir_name_ae + dir_sep + 'ae_data.txt') as f:\n",
    "    lines = f.readlines()\n",
    "params_dict = eval(''.join(lines))\n",
    "data_dir_idx = params_dict['data_dir_idx']\n",
    "normalizeforae_flag = params_dict['normalizeforae_flag']\n",
    "\n",
    "with np.load(dir_name_ae+dir_sep+'normalization_data.npz', allow_pickle=True) as fl:\n",
    "    normalization_constant_arr_aedata = fl['normalization_constant_arr_aedata'][0]\n",
    "\n",
    "print('dir_name_rnn:', dir_name_rnn)\n",
    "print('use_ae_data : ' + str(use_ae_data) + ', dir_name_ae:', dir_name_ae)\n",
    "print('data_dir_idx:', data_dir_idx)\n",
    "\n",
    "# loading data\n",
    "dir_name_data = os.getcwd() + dir_sep + 'saved_data' + dir_sep + 'data_' + data_dir_idx\n",
    "\n",
    "with h5py.File(dir_name_data + '/data.h5', 'r') as f:\n",
    "    t_recorded_samples = np.array(f['t'])\n",
    "    \n",
    "    N = int(0.5*(np.array(f['num_wavenumbers'])-1))\n",
    "    print(N, type(N))\n",
    "    \n",
    "    u_ref = np.array(f['u_reference'], dtype=FTYPE)\n",
    "    v_ref = np.array(f['v_reference'], dtype=FTYPE)"
   ]
  },
  {
   "cell_type": "code",
   "execution_count": null,
   "metadata": {
    "colab": {
     "base_uri": "https://localhost:8080/"
    },
    "executionInfo": {
     "elapsed": 541,
     "status": "ok",
     "timestamp": 1667868772777,
     "user": {
      "displayName": "Rohan Kaushik",
      "userId": "13918477614376051685"
     },
     "user_tz": -60
    },
    "id": "ySVDz_2U5FH5",
    "outputId": "c57be82f-527d-4e83-a605-aac85c39088e"
   },
   "outputs": [],
   "source": [
    "all_data = np.empty(shape=(u_ref.shape[0], 2, u_ref.shape[1], u_ref.shape[2]), dtype=FTYPE)\n",
    "all_data[:, 0, :, :] = u_ref\n",
    "del(u_ref)\n",
    "all_data[:, 1, :, :] = v_ref\n",
    "del(v_ref)"
   ]
  },
  {
   "cell_type": "code",
   "execution_count": null,
   "metadata": {
    "executionInfo": {
     "elapsed": 3,
     "status": "ok",
     "timestamp": 1667868772778,
     "user": {
      "displayName": "Rohan Kaushik",
      "userId": "13918477614376051685"
     },
     "user_tz": -60
    },
    "id": "bkQx9q_p5Gro"
   },
   "outputs": [],
   "source": [
    "# all_data = all_data[]"
   ]
  },
  {
   "cell_type": "code",
   "execution_count": null,
   "metadata": {
    "colab": {
     "base_uri": "https://localhost:8080/",
     "height": 370
    },
    "executionInfo": {
     "elapsed": 1487,
     "status": "ok",
     "timestamp": 1667868774262,
     "user": {
      "displayName": "Rohan Kaushik",
      "userId": "13918477614376051685"
     },
     "user_tz": -60
    },
    "id": "uDhfYHU45IS8",
    "outputId": "5307dc6a-17c5-4c77-dac5-fcb96116ac44"
   },
   "outputs": [],
   "source": [
    "delta_t = 1.\n",
    "T = t_recorded_samples[-1]"
   ]
  },
  {
   "cell_type": "code",
   "execution_count": null,
   "metadata": {
    "executionInfo": {
     "elapsed": 6,
     "status": "ok",
     "timestamp": 1667868774263,
     "user": {
      "displayName": "Rohan Kaushik",
      "userId": "13918477614376051685"
     },
     "user_tz": -60
    },
    "id": "-MJa7P5t5KiC",
    "scrolled": true
   },
   "outputs": [],
   "source": [
    "# delaing with normalizing the data before feeding into autoencoder\n",
    "if use_ae_data == True:\n",
    "    if normalizeforae_flag == True:\n",
    "        all_data -= normalization_constant_arr_aedata[0]\n",
    "        all_data /= normalization_constant_arr_aedata[1]"
   ]
  },
  {
   "cell_type": "code",
   "execution_count": null,
   "metadata": {},
   "outputs": [],
   "source": [
    "print('all_data.shape : {}'.format(all_data.shape))"
   ]
  },
  {
   "cell_type": "code",
   "execution_count": null,
   "metadata": {
    "colab": {
     "base_uri": "https://localhost:8080/",
     "height": 370
    },
    "executionInfo": {
     "elapsed": 932,
     "status": "ok",
     "timestamp": 1667868775190,
     "user": {
      "displayName": "Rohan Kaushik",
      "userId": "13918477614376051685"
     },
     "user_tz": -60
    },
    "id": "sMENXULAGFPm",
    "outputId": "dbf2c14d-2e8a-42c9-b6c5-f5f7c7a6092f"
   },
   "outputs": [],
   "source": [
    "all_data = all_data[0:int(all_data.shape[0]/3)]"
   ]
  },
  {
   "cell_type": "code",
   "execution_count": null,
   "metadata": {},
   "outputs": [],
   "source": [
    "print('all_data.shape : {}'.format(all_data.shape))"
   ]
  },
  {
   "cell_type": "markdown",
   "metadata": {
    "id": "1v6KQEjR5LkK"
   },
   "source": [
    "# Autoencoder"
   ]
  },
  {
   "cell_type": "code",
   "execution_count": null,
   "metadata": {
    "executionInfo": {
     "elapsed": 4,
     "status": "ok",
     "timestamp": 1667868775191,
     "user": {
      "displayName": "Rohan Kaushik",
      "userId": "13918477614376051685"
     },
     "user_tz": -60
    },
    "id": "ZBTJl9PeneQb"
   },
   "outputs": [],
   "source": [
    "if use_ae_data == True:\n",
    "    load_file = dir_name_ae+dir_sep+'final_net'+dir_sep+'final_net_class_dict.txt'\n",
    "    wt_file = dir_name_ae+dir_sep+'final_net'+dir_sep+'final_net_ae_weights.h5'"
   ]
  },
  {
   "cell_type": "code",
   "execution_count": null,
   "metadata": {
    "executionInfo": {
     "elapsed": 1365,
     "status": "ok",
     "timestamp": 1667868776552,
     "user": {
      "displayName": "Rohan Kaushik",
      "userId": "13918477614376051685"
     },
     "user_tz": -60
    },
    "id": "a3Pq-qorneQb"
   },
   "outputs": [],
   "source": [
    "if use_ae_data == True:\n",
    "    ae_net = Autoencoder(all_data.shape[1:], load_file=load_file)\n",
    "    ae_net.load_weights_from_file(wt_file)"
   ]
  },
  {
   "cell_type": "code",
   "execution_count": null,
   "metadata": {
    "executionInfo": {
     "elapsed": 5,
     "status": "ok",
     "timestamp": 1667868776553,
     "user": {
      "displayName": "Rohan Kaushik",
      "userId": "13918477614376051685"
     },
     "user_tz": -60
    },
    "id": "wwt4brHcOaXi"
   },
   "outputs": [],
   "source": []
  },
  {
   "cell_type": "code",
   "execution_count": null,
   "metadata": {
    "executionInfo": {
     "elapsed": 4,
     "status": "ok",
     "timestamp": 1667868776553,
     "user": {
      "displayName": "Rohan Kaushik",
      "userId": "13918477614376051685"
     },
     "user_tz": -60
    },
    "id": "Zl6ZvgtNtA_u",
    "scrolled": true
   },
   "outputs": [],
   "source": []
  },
  {
   "cell_type": "code",
   "execution_count": null,
   "metadata": {
    "executionInfo": {
     "elapsed": 5,
     "status": "ok",
     "timestamp": 1667868776554,
     "user": {
      "displayName": "Rohan Kaushik",
      "userId": "13918477614376051685"
     },
     "user_tz": -60
    },
    "id": "lXpoaKRIneQc"
   },
   "outputs": [],
   "source": []
  },
  {
   "cell_type": "code",
   "execution_count": null,
   "metadata": {
    "colab": {
     "base_uri": "https://localhost:8080/"
    },
    "executionInfo": {
     "elapsed": 960,
     "status": "ok",
     "timestamp": 1667868777509,
     "user": {
      "displayName": "Rohan Kaushik",
      "userId": "13918477614376051685"
     },
     "user_tz": -60
    },
    "id": "Q3a8HHyvneQc",
    "outputId": "51084913-6faf-4bb5-db69-2cbea705dd28"
   },
   "outputs": [],
   "source": [
    "# create data\n",
    "if use_ae_data == True:\n",
    "    latent_states_all = ae_net.encoder_net.predict(all_data)\n",
    "    del(all_data)\n",
    "else:\n",
    "    latent_states_all = all_data\n",
    "# num_latent_states = latent_states_all.shape[1]\n",
    "\n",
    "temp_ = latent_states_all.reshape(latent_states_all.shape[0], -1)\n",
    "time_stddev_AEproducedlatentstates = np.std(temp_, axis=0)"
   ]
  },
  {
   "cell_type": "code",
   "execution_count": null,
   "metadata": {
    "colab": {
     "base_uri": "https://localhost:8080/",
     "height": 384
    },
    "executionInfo": {
     "elapsed": 797,
     "status": "ok",
     "timestamp": 1667868778304,
     "user": {
      "displayName": "Rohan Kaushik",
      "userId": "13918477614376051685"
     },
     "user_tz": -60
    },
    "id": "wjgPNitSrt5p",
    "outputId": "0c916524-33ec-47bf-a16a-51e53d2e25f6"
   },
   "outputs": [],
   "source": []
  },
  {
   "cell_type": "code",
   "execution_count": null,
   "metadata": {
    "executionInfo": {
     "elapsed": 6,
     "status": "ok",
     "timestamp": 1667868778305,
     "user": {
      "displayName": "Rohan Kaushik",
      "userId": "13918477614376051685"
     },
     "user_tz": -60
    },
    "id": "wnLnqg0Jrt5t"
   },
   "outputs": [],
   "source": [
    "# for i in range(ae_net.layers):\n",
    "#     tf.keras.utils.plot_model(\n",
    "#         ae_net.layers[i],\n",
    "#         to_file=dir_name_ae+'/plots/netlayer_{}.png'.format(i),\n",
    "#         show_shapes=True,\n",
    "#         dpi=300\n",
    "# )"
   ]
  },
  {
   "cell_type": "code",
   "execution_count": null,
   "metadata": {
    "executionInfo": {
     "elapsed": 488,
     "status": "ok",
     "timestamp": 1667868778788,
     "user": {
      "displayName": "Rohan Kaushik",
      "userId": "13918477614376051685"
     },
     "user_tz": -60
    },
    "id": "BOJE8vREtque"
   },
   "outputs": [],
   "source": []
  },
  {
   "cell_type": "code",
   "execution_count": null,
   "metadata": {
    "executionInfo": {
     "elapsed": 12,
     "status": "ok",
     "timestamp": 1667868778788,
     "user": {
      "displayName": "Rohan Kaushik",
      "userId": "13918477614376051685"
     },
     "user_tz": -60
    },
    "id": "fwjcsAxKneQe"
   },
   "outputs": [],
   "source": []
  },
  {
   "cell_type": "code",
   "execution_count": null,
   "metadata": {
    "executionInfo": {
     "elapsed": 11,
     "status": "ok",
     "timestamp": 1667868778788,
     "user": {
      "displayName": "Rohan Kaushik",
      "userId": "13918477614376051685"
     },
     "user_tz": -60
    },
    "id": "aFd7XgwVneQe"
   },
   "outputs": [],
   "source": []
  },
  {
   "cell_type": "markdown",
   "metadata": {
    "id": "8IAcFjRRn_IQ"
   },
   "source": [
    "# ESN"
   ]
  },
  {
   "cell_type": "code",
   "execution_count": null,
   "metadata": {
    "executionInfo": {
     "elapsed": 12,
     "status": "ok",
     "timestamp": 1667868778789,
     "user": {
      "displayName": "Rohan Kaushik",
      "userId": "13918477614376051685"
     },
     "user_tz": -60
    },
    "id": "lPVqWNwjoAGP"
   },
   "outputs": [],
   "source": [
    "if behaviour == 'initialiseAndTrainFromScratch':\n",
    "    # RNN data parameters\n",
    "    dt_rnn = 0.25\n",
    "    num_input_tsteps = 500\n",
    "    T_sample_input = num_input_tsteps*dt_rnn\n",
    "    T_sample_output = T_sample_input\n",
    "    T_offset = dt_rnn\n",
    "    normalize_dataset = True # whether the data for the RNN should be normalized by the dataset's mean and std\n",
    "    normalization_arr = None\n",
    "    stddev_multiplier = 3\n",
    "    skip_intermediate = 'full sample'\n",
    "    noise_type = 'normal' # can be 'uniform' or 'normal'\n",
    "    normalization_type = 'stddev' # can be 'minmax' or 'stddev', if it is\n",
    "                                  # 'minmax' then stddev_multiplier has no effect\n",
    "    res_channels = 100\n",
    "    kernel_size = 5 # ae_net.kernel_size\n",
    "    stateful = True\n",
    "    omega_in = 1.0\n",
    "    rho_res = 0.6\n",
    "    usebias_Win = False\n",
    "    alpha = 0.99\n",
    "    ESN_cell_activations = 'tanh'\n",
    "    usebias_Wout = True\n",
    "    \n",
    "    # saving simulation data\n",
    "    sim_data = {\n",
    "        'T':T,\n",
    "        'delta_t':delta_t,\n",
    "        'dir_name_ae':dir_name_ae,\n",
    "        'normalize_dataset':normalize_dataset,\n",
    "        'stddev_multiplier':stddev_multiplier,\n",
    "        'use_ae_data':use_ae_data,\n",
    "    }\n",
    "\n",
    "\n",
    "    with open(dir_name_rnn+dir_sep+'sim_data_AE_params.txt', 'w') as f:\n",
    "        f.write(str(sim_data))\n",
    "        \n",
    "    # saving RNN specific data\n",
    "    RNN_specific_data = {\n",
    "        'dt_rnn':dt_rnn,\n",
    "        'T_sample_input':T_sample_input,\n",
    "        'T_sample_output':T_sample_output,\n",
    "        'T_offset':T_offset,\n",
    "        'delta_t':delta_t,\n",
    "        'normalize_dataset':normalize_dataset,\n",
    "        'num_input_tsteps':num_input_tsteps,\n",
    "        'stddev_multiplier':stddev_multiplier,\n",
    "        'skip_intermediate':skip_intermediate,\n",
    "        'module':ESN.__module__,\n",
    "        'noise_type':noise_type,\n",
    "        'normalization_type':normalization_type,\n",
    "    }\n",
    "\n",
    "    with open(dir_name_rnn+dir_sep+'RNN_specific_data.txt', 'w') as f:\n",
    "        f.write(str(RNN_specific_data))"
   ]
  },
  {
   "cell_type": "code",
   "execution_count": null,
   "metadata": {
    "executionInfo": {
     "elapsed": 11,
     "status": "ok",
     "timestamp": 1667868778789,
     "user": {
      "displayName": "Rohan Kaushik",
      "userId": "13918477614376051685"
     },
     "user_tz": -60
    },
    "id": "S21-VEUYrkk-"
   },
   "outputs": [],
   "source": []
  },
  {
   "cell_type": "code",
   "execution_count": null,
   "metadata": {
    "executionInfo": {
     "elapsed": 11,
     "status": "ok",
     "timestamp": 1667868778789,
     "user": {
      "displayName": "Rohan Kaushik",
      "userId": "13918477614376051685"
     },
     "user_tz": -60
    },
    "id": "UGnj8uQQ83-y"
   },
   "outputs": [],
   "source": [
    "og_ls_shape = latent_states_all.shape\n",
    "latent_states_all = latent_states_all.reshape((latent_states_all.shape[0], -1))"
   ]
  },
  {
   "cell_type": "code",
   "execution_count": null,
   "metadata": {
    "executionInfo": {
     "elapsed": 12,
     "status": "ok",
     "timestamp": 1667868778790,
     "user": {
      "displayName": "Rohan Kaushik",
      "userId": "13918477614376051685"
     },
     "user_tz": -60
    },
    "id": "0t2_8mzI1fhX"
   },
   "outputs": [],
   "source": [
    "rnn_res_dict = create_data_for_RNN(\n",
    "    latent_states_all,\n",
    "    dt_rnn,\n",
    "    T_sample_input,\n",
    "    T_sample_output,\n",
    "    T_offset,\n",
    "    None,\n",
    "    [latent_states_all.shape[0]],#boundary_idx_arr,\n",
    "    dt_rnn,#delta_t,\n",
    "    #params=params,\n",
    "    return_numsamples=True,\n",
    "    normalize_dataset=normalize_dataset,\n",
    "    stddev_multiplier=stddev_multiplier,\n",
    "    skip_intermediate=skip_intermediate,\n",
    "    return_OrgDataIdxArr=False,\n",
    "    normalization_arr_external=normalization_arr,\n",
    "    normalization_type=normalization_type,\n",
    "    FTYPE=FTYPE,\n",
    "    ITYPE=ITYPE)\n",
    "    \n",
    "data_rnn_input = rnn_res_dict['data_rnn_input']\n",
    "data_rnn_output = rnn_res_dict['data_rnn_output']\n",
    "org_data_idx_arr_input = rnn_res_dict['org_data_idx_arr_input']\n",
    "org_data_idx_arr_output = rnn_res_dict['org_data_idx_arr_output']\n",
    "num_samples = rnn_res_dict['num_samples']\n",
    "normalization_arr = rnn_res_dict['normalization_arr']\n",
    "rnn_data_boundary_idx_arr = rnn_res_dict['rnn_data_boundary_idx_arr']"
   ]
  },
  {
   "cell_type": "code",
   "execution_count": null,
   "metadata": {},
   "outputs": [],
   "source": [
    "print( 'data_rnn_input.shape : ', data_rnn_input.shape)\n",
    "print('data_rnn_output.shape : ', data_rnn_output.shape)"
   ]
  },
  {
   "cell_type": "code",
   "execution_count": null,
   "metadata": {
    "executionInfo": {
     "elapsed": 11,
     "status": "ok",
     "timestamp": 1667868778790,
     "user": {
      "displayName": "Rohan Kaushik",
      "userId": "13918477614376051685"
     },
     "user_tz": -60
    },
    "id": "pIsWCXkbr7ws"
   },
   "outputs": [],
   "source": [
    "temp = np.divide(latent_states_all-normalization_arr[0], normalization_arr[1])\n",
    "time_stddev = np.std(temp, axis=0) # time stddev of the rnn_data\n",
    "timeMeanofSpaceRMS = np.mean(np.mean(temp**2, axis=1)**0.5)\n",
    "del(org_data_idx_arr_input)\n",
    "del(org_data_idx_arr_output)\n",
    "del(latent_states_all)\n",
    "del(temp)"
   ]
  },
  {
   "cell_type": "code",
   "execution_count": null,
   "metadata": {
    "executionInfo": {
     "elapsed": 11,
     "status": "ok",
     "timestamp": 1667868778790,
     "user": {
      "displayName": "Rohan Kaushik",
      "userId": "13918477614376051685"
     },
     "user_tz": -60
    },
    "id": "Hem_9PUqneQi"
   },
   "outputs": [],
   "source": [
    "data_rnn_input = data_rnn_input.reshape(data_rnn_input.shape[0:2]+og_ls_shape[1:])\n",
    "data_rnn_output = data_rnn_output.reshape(data_rnn_output.shape[0:2]+og_ls_shape[1:])"
   ]
  },
  {
   "cell_type": "code",
   "execution_count": null,
   "metadata": {
    "executionInfo": {
     "elapsed": 12,
     "status": "ok",
     "timestamp": 1667868778791,
     "user": {
      "displayName": "Rohan Kaushik",
      "userId": "13918477614376051685"
     },
     "user_tz": -60
    },
    "id": "uskBAAXpneQi"
   },
   "outputs": [],
   "source": [
    "print( 'data_rnn_input.shape : ', data_rnn_input.shape)\n",
    "print('data_rnn_output.shape : ', data_rnn_output.shape)"
   ]
  },
  {
   "cell_type": "code",
   "execution_count": null,
   "metadata": {
    "executionInfo": {
     "elapsed": 431,
     "status": "ok",
     "timestamp": 1667868779211,
     "user": {
      "displayName": "Rohan Kaushik",
      "userId": "13918477614376051685"
     },
     "user_tz": -60
    },
    "id": "-1uL-GomneQi"
   },
   "outputs": [],
   "source": [
    "# setting up training params\n",
    "if behaviour == 'initialiseAndTrainFromScratch':\n",
    "    epochs = 1\n",
    "    lambda_reg = 1e-7 # weight for regularizer\n",
    "    min_delta = 1e-6\n",
    "    patience = 5\n",
    "    train_split = 0.8\n",
    "    val_split = 0.1\n",
    "    test_split = 1 - train_split - val_split\n",
    "    batch_size = 1\n",
    "    fRMS = 0.5/100\n",
    "    use_best = False\n",
    "\n",
    "    stddev = fRMS*timeMeanofSpaceRMS\n",
    "    \n",
    "    # saving training params\n",
    "    training_specific_params = {\n",
    "        'epochs':epochs,\n",
    "        'prng_seed':prng_seed,\n",
    "        'train_split':train_split,\n",
    "        'val_split':val_split,\n",
    "        'batch_size':batch_size,\n",
    "        'fRMS':fRMS,\n",
    "        'timeMeanofSpaceRMS':timeMeanofSpaceRMS,\n",
    "        'stddev':stddev,\n",
    "        'lambda_reg':lambda_reg,\n",
    "        'min_delta':min_delta,\n",
    "        'patience':patience,\n",
    "        'use_best':use_best,\n",
    "    }\n",
    "\n",
    "    with open(dir_name_rnn+dir_sep+'training_specific_params.txt', 'w') as f:\n",
    "        f.write(str(training_specific_params))\n",
    "    \n",
    "    np.savez(\n",
    "        dir_name_rnn+dir_sep+'normalization_data',\n",
    "        normalization_arr=[normalization_arr],\n",
    "    )\n",
    "    \n",
    "else:\n",
    "    # dir_name_rnn_og = dir_name_rnn\n",
    "    # dir_name_rnn_temp = '/home/rkaushik/Documents/Thesis/MLROM/CDV/saved_rnn/rnn_'+dir_name_rnn_og[-3:]\n",
    "    # dir_name_rnn = dir_name_rnn_temp\n",
    "\n",
    "    with open(dir_name_rnn + dir_sep + 'training_specific_params.txt') as f:\n",
    "        lines = f.readlines()\n",
    "\n",
    "\n",
    "    tparams_dict = eval(''.join(lines))\n",
    "\n",
    "    epochs = tparams_dict['epochs']\n",
    "    prng_seed = tparams_dict['prng_seed']\n",
    "    train_split = tparams_dict['train_split']\n",
    "    val_split = tparams_dict['val_split']\n",
    "    batch_size = tparams_dict['batch_size']\n",
    "    lambda_reg = tparams_dict['lambda_reg']\n",
    "    min_delta = tparams_dict['min_delta']\n",
    "    patience = tparams_dict['patience']\n",
    "    try:\n",
    "        use_best = tparams_dict['use_best']\n",
    "    except:\n",
    "        print(\"'use_best' not present in 'training_specific_params', set to True.\")\n",
    "        use_best = True\n",
    "\n",
    "    test_split = 1 - train_split - val_split\n",
    "\n",
    "    # setting seed for PRNGs\n",
    "    np.random.seed(prng_seed)\n",
    "    tf.random.set_seed(prng_seed)"
   ]
  },
  {
   "cell_type": "code",
   "execution_count": null,
   "metadata": {
    "executionInfo": {
     "elapsed": 3,
     "status": "ok",
     "timestamp": 1667868779212,
     "user": {
      "displayName": "Rohan Kaushik",
      "userId": "13918477614376051685"
     },
     "user_tz": -60
    },
    "id": "4hx9ZaSpEMmv"
   },
   "outputs": [],
   "source": [
    "# idx = np.arange(data_rnn_input.shape[0])\n",
    "# np.random.shuffle(idx)\n",
    "# boundary = int(np.round(train_split*data_rnn_input.shape[0]))\n",
    "\n",
    "# training_data_rnn_input = data_rnn_input[idx[0:boundary]]\n",
    "# training_data_rnn_output = data_rnn_output[idx[0:boundary]]\n",
    "\n",
    "# testing_data_rnn_input = data_rnn_input[idx[boundary:]]\n",
    "# testing_data_rnn_output = data_rnn_output[idx[boundary:]]"
   ]
  },
  {
   "cell_type": "code",
   "execution_count": null,
   "metadata": {
    "executionInfo": {
     "elapsed": 391,
     "status": "ok",
     "timestamp": 1667868779601,
     "user": {
      "displayName": "Rohan Kaushik",
      "userId": "13918477614376051685"
     },
     "user_tz": -60
    },
    "id": "EENXaWqcKW7j"
   },
   "outputs": [],
   "source": [
    "cum_samples = rnn_data_boundary_idx_arr[-1]\n",
    "# idx = np.arange(cum_samples)\n",
    "# np.random.shuffle(idx)\n",
    "num_train = 0\n",
    "num_val = 0\n",
    "begin_idx = 0\n",
    "for i in range(len(rnn_data_boundary_idx_arr)):\n",
    "    num_samples = rnn_data_boundary_idx_arr[i] - begin_idx\n",
    "    num_train += int( np.round(train_split*num_samples) )\n",
    "    num_val += int( np.round(val_split*num_samples) )\n",
    "    begin_idx = rnn_data_boundary_idx_arr[i]\n",
    "\n",
    "# defining shapes\n",
    "training_input_shape = [num_train]\n",
    "training_input_shape.extend(data_rnn_input.shape[1:])\n",
    "\n",
    "training_output_shape = [num_train]\n",
    "training_output_shape.extend(data_rnn_output.shape[1:])\n",
    "\n",
    "val_input_shape = [num_val]\n",
    "val_input_shape.extend(data_rnn_input.shape[1:])\n",
    "\n",
    "val_output_shape = [num_val]\n",
    "val_output_shape.extend(data_rnn_output.shape[1:])\n",
    "\n",
    "testing_input_shape = [cum_samples-num_train-num_val]\n",
    "testing_input_shape.extend(data_rnn_input.shape[1:])\n",
    "\n",
    "testing_output_shape = [cum_samples-num_train-num_val]\n",
    "testing_output_shape.extend(data_rnn_output.shape[1:])\n",
    "\n",
    "# defining required arrays\n",
    "training_data_rnn_input = np.empty(shape=training_input_shape, dtype=FTYPE)\n",
    "training_data_rnn_output = np.empty(shape=training_output_shape, dtype=FTYPE)\n",
    "\n",
    "val_data_rnn_input = np.empty(shape=val_input_shape, dtype=FTYPE)\n",
    "val_data_rnn_output = np.empty(shape=val_output_shape, dtype=FTYPE)\n",
    "\n",
    "testing_data_rnn_input = np.empty(shape=testing_input_shape, dtype=FTYPE)\n",
    "testing_data_rnn_output = np.empty(shape=testing_output_shape, dtype=FTYPE)\n",
    "\n",
    "begin_idx = 0\n",
    "training_data_rolling_count = 0\n",
    "val_data_rolling_count = 0\n",
    "testing_data_rolling_count = 0\n",
    "for i in range(len(rnn_data_boundary_idx_arr)):\n",
    "    idx = np.arange(begin_idx, rnn_data_boundary_idx_arr[i])\n",
    "    # np.random.shuffle(idx)\n",
    "    num_samples = idx.shape[0]\n",
    "    num_train = int( np.round(train_split*num_samples) )\n",
    "    num_val = int( np.round(val_split*num_samples) )\n",
    "\n",
    "    training_data_rnn_input[training_data_rolling_count:training_data_rolling_count+num_train] = data_rnn_input[idx[0:num_train]]\n",
    "    training_data_rnn_output[training_data_rolling_count:training_data_rolling_count+num_train] = data_rnn_output[idx[0:num_train]]\n",
    "    training_data_rolling_count += num_train\n",
    "\n",
    "    val_data_rnn_input[val_data_rolling_count:val_data_rolling_count+num_val] = data_rnn_input[idx[num_train:num_train+num_val]]\n",
    "    val_data_rnn_output[val_data_rolling_count:val_data_rolling_count+num_val] = data_rnn_output[idx[num_train:num_train+num_val]]\n",
    "    val_data_rolling_count += num_val\n",
    "\n",
    "    num_test = num_samples-num_train-num_val+1\n",
    "    testing_data_rnn_input[testing_data_rolling_count:testing_data_rolling_count+num_test] = data_rnn_input[idx[num_train+num_val:]]\n",
    "    testing_data_rnn_output[testing_data_rolling_count:testing_data_rolling_count+num_test] = data_rnn_output[idx[num_train+num_val:]]\n",
    "    testing_data_rolling_count += num_test\n",
    "\n",
    "    begin_idx = rnn_data_boundary_idx_arr[i]\n",
    "\n",
    "# cleaning up\n",
    "del(data_rnn_input)\n",
    "del(data_rnn_output)\n",
    "\n",
    "# further shuffling\n",
    "# idx = np.arange(0, training_data_rnn_input.shape[0])\n",
    "# np.random.shuffle(idx)\n",
    "# training_data_rnn_input = training_data_rnn_input[idx]\n",
    "# training_data_rnn_output = training_data_rnn_output[idx]\n",
    "\n",
    "# idx = np.arange(0, val_data_rnn_input.shape[0])\n",
    "# np.random.shuffle(idx)\n",
    "# val_data_rnn_input = val_data_rnn_input[idx]\n",
    "# val_data_rnn_output = val_data_rnn_output[idx]\n",
    "\n",
    "# idx = np.arange(0, testing_data_rnn_input.shape[0])\n",
    "# np.random.shuffle(idx)\n",
    "# testing_data_rnn_input = testing_data_rnn_input[idx]\n",
    "# testing_data_rnn_output = testing_data_rnn_output[idx]\n",
    "\n",
    "# del(idx)"
   ]
  },
  {
   "cell_type": "code",
   "execution_count": null,
   "metadata": {
    "executionInfo": {
     "elapsed": 5,
     "status": "ok",
     "timestamp": 1667868779603,
     "user": {
      "displayName": "Rohan Kaushik",
      "userId": "13918477614376051685"
     },
     "user_tz": -60
    },
    "id": "8isZN1tYBifp"
   },
   "outputs": [],
   "source": [
    "print('training_data_rnn_input.shape : ', training_data_rnn_input.shape)\n",
    "print(' testing_data_rnn_input.shape : ', testing_data_rnn_input.shape)\n",
    "print('     val_data_rnn_input.shape : ', val_data_rnn_input.shape)"
   ]
  },
  {
   "cell_type": "code",
   "execution_count": null,
   "metadata": {
    "executionInfo": {
     "elapsed": 7,
     "status": "ok",
     "timestamp": 1667868779605,
     "user": {
      "displayName": "Rohan Kaushik",
      "userId": "13918477614376051685"
     },
     "user_tz": -60
    },
    "id": "x3KglJsgneQj"
   },
   "outputs": [],
   "source": []
  },
  {
   "cell_type": "code",
   "execution_count": null,
   "metadata": {
    "executionInfo": {
     "elapsed": 8,
     "status": "ok",
     "timestamp": 1667868779606,
     "user": {
      "displayName": "Rohan Kaushik",
      "userId": "13918477614376051685"
     },
     "user_tz": -60
    },
    "id": "ixetsZHjCMKO"
   },
   "outputs": [],
   "source": []
  },
  {
   "cell_type": "code",
   "execution_count": null,
   "metadata": {
    "executionInfo": {
     "elapsed": 7,
     "status": "ok",
     "timestamp": 1667868779606,
     "user": {
      "displayName": "Rohan Kaushik",
      "userId": "13918477614376051685"
     },
     "user_tz": -60
    },
    "id": "_NSTtZuyneQk"
   },
   "outputs": [],
   "source": []
  },
  {
   "cell_type": "code",
   "execution_count": null,
   "metadata": {
    "colab": {
     "base_uri": "https://localhost:8080/"
    },
    "executionInfo": {
     "elapsed": 3631,
     "status": "ok",
     "timestamp": 1667868783230,
     "user": {
      "displayName": "Rohan Kaushik",
      "userId": "13918477614376051685"
     },
     "user_tz": -60
    },
    "id": "Py-Jg0QKneQk",
    "outputId": "1b768270-9013-4d53-8b5e-63e69776e3ac",
    "scrolled": false
   },
   "outputs": [],
   "source": [
    "# Initialize network\n",
    "if behaviour == 'initialiseAndTrainFromScratch':\n",
    "    # timeMeanofSpaceRMS = np.mean(np.mean(latent_states_all**2, axis=1)**0.5)\n",
    "    print('timeMeanofSpaceRMS :', timeMeanofSpaceRMS)\n",
    "    print('stddev :', stddev)\n",
    "    data_dim = training_data_rnn_input.shape[2:]\n",
    "\n",
    "\n",
    "    rnn_net = ESN(\n",
    "        data_dim=data_dim,\n",
    "        dt_rnn=dt_rnn,\n",
    "        lambda_reg=lambda_reg,\n",
    "        res_channels=res_channels,\n",
    "        kernel_size=kernel_size,\n",
    "        stddev=stddev,\n",
    "        noise_type=noise_type,\n",
    "        stateful=stateful,\n",
    "        omega_in=omega_in,\n",
    "        rho_res=rho_res,\n",
    "        usebias_Win=usebias_Win,\n",
    "        alpha=alpha,\n",
    "        ESN_cell_activations=ESN_cell_activations,\n",
    "        prng_seed=prng_seed,\n",
    "        usebias_Wout=usebias_Wout,\n",
    "    )\n",
    "    save_path = dir_name_rnn+dir_sep+'final_net'\n",
    "    if not os.path.isdir(save_path):\n",
    "        os.makedirs(save_path)\n",
    "    rnn_net.build(input_shape=(1,) + training_data_rnn_input.shape[1:])\n",
    "    rnn_net.save_class_dict(save_path+dir_sep+'final_net_class_dict.txt')\n",
    "else:\n",
    "    load_file = dir_name_rnn + dir_sep + 'final_net' + dir_sep + 'final_net_class_dict.txt'\n",
    "    \n",
    "    rnn_net = ESN(\n",
    "        load_file=load_file,\n",
    "    )\n",
    "    \n",
    "    if behaviour == 'loadCheckpointAndContinueTraining':\n",
    "        wt_file = tf.train.latest_checkpoint(dir_name_rnn+dir_sep+'checkpoints')\n",
    "    elif behaviour == 'loadFinalNetAndPlot':\n",
    "        wt_file = dir_name_rnn+dir_sep+'final_net'+dir_sep+'final_net_ESN_weights.h5'\n",
    "        # wt_file = dir_name_rnn+dir_sep+'final_net'+dir_sep+'f2'#+dir_sep+'saved_model.pb'\n",
    "        rnn_net.load_weights_from_file(wt_file)\n",
    "    \n",
    "    # this forces the model to initialize its kernel weights/biases\n",
    "    # temp = rnn_net.predict(tf.ones(shape=[batch_size, int(T_sample_input//dt_rnn), rnn_net.data_dim]))\n",
    "    # this loads just the kernel wieghts and biases of the model\n",
    "#     rnn_net.load_weights_from_file(wt_file)\n",
    "\n",
    "    # rnn_net = tf.keras.models.load_model(wt_file)"
   ]
  },
  {
   "cell_type": "code",
   "execution_count": null,
   "metadata": {},
   "outputs": [],
   "source": [
    "rnn_net.rnn_list[0].cell.og_spectral_rad_Wres\n",
    "# rnn_net.rnn_list[0].cell.Wres.kernel#.numpy().max()"
   ]
  },
  {
   "cell_type": "code",
   "execution_count": null,
   "metadata": {
    "executionInfo": {
     "elapsed": 4,
     "status": "ok",
     "timestamp": 1667868783568,
     "user": {
      "displayName": "Rohan Kaushik",
      "userId": "13918477614376051685"
     },
     "user_tz": -60
    },
    "id": "7ASCopnIH6nl"
   },
   "outputs": [],
   "source": [
    "if behaviour == 'initialiseAndTrainFromScratch':\n",
    "    val_loss_hist = []\n",
    "    train_loss_hist = []\n",
    "# elif behaviour == 'loadCheckpointAndContinueTraining':\n",
    "#     val_loss_hist, train_loss_hist, lr_change, starting_lr_idx, num_epochs_left, val_loss_arr_fromckpt, train_loss_arr_fromckpt, earlystopping_wait = readAndReturnLossHistories(\n",
    "#         dir_name_ae=dir_name_rnn,\n",
    "#         dir_sep=dir_sep,\n",
    "#         epochs=epochs,\n",
    "#         learning_rate_list=learning_rate_list,\n",
    "#         return_earlystopping_wait=True)\n",
    "#     savelosses_cb_vallossarr = val_loss_arr_fromckpt\n",
    "#     savelosses_cb_trainlossarr = train_loss_arr_fromckpt\n",
    "elif behaviour == 'loadFinalNetAndPlot':\n",
    "    with open(dir_name_rnn+'{ds}final_net{ds}losses.txt'.format(ds=dir_sep), 'r') as f:\n",
    "        lines = f.readlines()\n",
    "    \n",
    "    losses_dict = eval(''.join(lines))\n",
    "\n",
    "    val_loss_hist = losses_dict['val_loss_hist']\n",
    "    train_loss_hist = losses_dict['train_loss_hist']\n",
    "    lr_change = losses_dict['lr_change']\n",
    "    test_loss = losses_dict['test_loss']"
   ]
  },
  {
   "cell_type": "code",
   "execution_count": null,
   "metadata": {},
   "outputs": [],
   "source": [
    "training_data_rnn_input.dtype"
   ]
  },
  {
   "cell_type": "code",
   "execution_count": null,
   "metadata": {},
   "outputs": [],
   "source": [
    "def make_Umat_SUmatlst(\n",
    "        kernel_size, input_channels,\n",
    "        input_ylen, input_xlen,\n",
    "        output_ylen, output_xlen,\n",
    "        use_bias,\n",
    "    ):\n",
    "    \n",
    "    ##### making the U matrix #####\n",
    "    output_channels = 1\n",
    "\n",
    "    U_shape_rows_0 = kernel_size*kernel_size*input_channels\n",
    "    U_shape_cols_0 = input_channels*input_ylen*input_xlen\n",
    "\n",
    "    U_shape_cols = U_shape_cols_0\n",
    "    if use_bias == True:\n",
    "        U_shape_rows_0 += 1\n",
    "        U_shape_cols += 1\n",
    "\n",
    "    U_shape_rows_1 = U_shape_rows_0*output_channels\n",
    "    U_shape_rows = U_shape_rows_1*output_ylen*output_xlen*output_channels\n",
    "\n",
    "    row_ind = []\n",
    "    col_ind = []\n",
    "\n",
    "    for l0 in range(output_channels):\n",
    "        begin_row_l0 = l0*int(U_shape_rows/output_channels)\n",
    "        for i0 in range(output_ylen):\n",
    "            begin_row_i0 = begin_row_l0 + U_shape_rows_1*output_xlen*i0\n",
    "            for i1 in range(output_xlen):\n",
    "                begin_row_i1 = begin_row_i0 + U_shape_rows_1*i1\n",
    "                begin_row_j0 = begin_row_i1 + U_shape_rows_0*l0\n",
    "                for j1 in range(input_channels):\n",
    "                    begin_row_j1 = begin_row_j0 + j1*kernel_size*kernel_size\n",
    "                    begin_col_j1 = j1*input_xlen*input_ylen\n",
    "\n",
    "                    for k0 in range(kernel_size):\n",
    "                        begin_col_k0 = begin_col_j1 + i0*input_xlen + i1 + k0*input_xlen\n",
    "                        for k1 in range(kernel_size):\n",
    "                            row_ind.append(begin_row_j1+k0*kernel_size+k1)\n",
    "                            col_ind.append(begin_col_k0+k1)\n",
    "                if use_bias == True:\n",
    "                    row_ind.append(begin_row_j0+input_channels*kernel_size*kernel_size)\n",
    "                    col_ind.append(U_shape_cols-1)\n",
    "\n",
    "    row_ind = np.array(row_ind)\n",
    "    col_ind = np.array(col_ind)\n",
    "    data = np.ones_like(row_ind)\n",
    "    \n",
    "    U_mat = sp.coo_array((data, (row_ind, col_ind)), shape=(U_shape_rows, U_shape_cols)).tocsr()\n",
    "    \n",
    "    ##### making the SU matrices #####\n",
    "    SU_mat_lst = []\n",
    "    SU_mat_rows = output_xlen*output_ylen*output_channels\n",
    "\n",
    "    U_rows_to_index = np.arange(0, U_shape_rows, U_shape_rows_1)-1\n",
    "    for i0 in range(U_shape_rows_1):\n",
    "        # iter_time = time.time()\n",
    "        U_rows_to_index += 1\n",
    "        SU_mat_ind = []\n",
    "        SU_mat_indptr = [0]\n",
    "        elems_row_ind = 0\n",
    "        for i1_iter in range(len(U_rows_to_index)):\n",
    "            i1 = U_rows_to_index[i1_iter]\n",
    "            row = U_mat.getrow(i1)\n",
    "            row_ind = row.indices\n",
    "            SU_mat_ind.extend(row_ind)\n",
    "            SU_mat_indptr.append(len(SU_mat_ind))\n",
    "            elems_row_ind += len(row_ind)\n",
    "        SU_mat_ind = np.array(SU_mat_ind)\n",
    "        SU_mat_indptr = np.array(SU_mat_indptr)\n",
    "        SU_mat_data = np.ones_like(SU_mat_ind)\n",
    "        SU_mat_lst.append(sp.csr_array(\n",
    "            (SU_mat_data, SU_mat_ind, SU_mat_indptr),\n",
    "            shape=(SU_mat_rows, U_shape_cols),\n",
    "        ))\n",
    "        # print('iter_time : {} s.'.format(time.time() - iter_time))\n",
    "\n",
    "    return U_mat, SU_mat_lst"
   ]
  },
  {
   "cell_type": "code",
   "execution_count": null,
   "metadata": {},
   "outputs": [],
   "source": [
    "def print_s(s, filler='-', num_chars=80, above_filler=True, below_filler=True):\n",
    "    s = int((num_chars - len(s))//2)*filler + s\n",
    "    s = s + (num_chars-len(s))*filler\n",
    "    if above_filler:\n",
    "        print('\\n\\n' + filler*len(s))\n",
    "    print('\\n' + s+'\\n')\n",
    "    if below_filler:\n",
    "        print(filler*len(s) + '\\n\\n')\n",
    "    return"
   ]
  },
  {
   "cell_type": "code",
   "execution_count": null,
   "metadata": {},
   "outputs": [],
   "source": [
    "@tf.function\n",
    "def compute_Amat_elems(\n",
    "        kernel_elems_Wout, tfsp_SU_mat_lst, input_x):\n",
    "\n",
    "    for i1 in range(kernel_elems_Wout):\n",
    "        SUi1_x = tf.sparse.sparse_dense_matmul(tfsp_SU_mat_lst[i1], input_x)\n",
    "        # SU_x_lst.append(SUi1_x)\n",
    "        SU_x_lst[i1] = SUi1_x\n",
    "        for i2 in range(i1):\n",
    "            SUi2_x = SU_x_lst[i2]\n",
    "            A_mat[i1, i2] += np.sum(SUi2_x*SUi1_x)\n",
    "        A_mat[i1, i1] += np.sum(SUi1_x*SUi1_x)\n",
    "    "
   ]
  },
  {
   "cell_type": "code",
   "execution_count": null,
   "metadata": {
    "colab": {
     "base_uri": "https://localhost:8080/"
    },
    "executionInfo": {
     "elapsed": 4769220,
     "status": "ok",
     "timestamp": 1667873552785,
     "user": {
      "displayName": "Rohan Kaushik",
      "userId": "13918477614376051685"
     },
     "user_tz": -60
    },
    "id": "6hh1pbKjCcO4",
    "outputId": "e594f4de-ec70-465e-eef7-bdef301361fa",
    "scrolled": true
   },
   "outputs": [],
   "source": [
    "# compiling the network\n",
    "rnn_net.compile(\n",
    "    optimizer=tf.keras.optimizers.Adam(),\n",
    "    loss=losses.MeanSquaredError(),\n",
    "    metrics=['mse'],\n",
    "    run_eagerly=False\n",
    ")\n",
    "\n",
    "# training_data_rnn_input = training_data_rnn_input[0:3]\n",
    "lambda_reg = float(lambda_reg)\n",
    "\n",
    "if behaviour == 'loadCheckpointAndContinueTraining':\n",
    "    # this loads the weights/attributes of the optimizer as well\n",
    "    rnn_net.load_weights(wt_file)\n",
    "    \n",
    "if behaviour == 'initialiseAndTrainFromScratch' or behaviour == 'loadCheckpointAndContinueTraining':\n",
    "\n",
    "    Wout_kernels = 0\n",
    "    if usebias_Wout == True:\n",
    "        Wout_kernels_bias = 0\n",
    "    val_mse_best = np.inf\n",
    "    wait = 0\n",
    "    \n",
    "    channels_in_Wout = res_channels\n",
    "    channels_out_Wout = data_dim[-3]\n",
    "    output_ylen_Wout = data_dim[-2]\n",
    "    output_xlen_Wout = data_dim[-1]\n",
    "    input_ylen_Wout = output_ylen_Wout + kernel_size-1 # because res output is padded before feeding into Wout\n",
    "    input_xlen_Wout = output_xlen_Wout + kernel_size-1 # because res output is padded before feeding into Wout\n",
    "\n",
    "    kernel_elems_Wout = kernel_size*kernel_size*channels_in_Wout\n",
    "    if usebias_Wout == True:\n",
    "        kernel_elems_Wout += 1\n",
    "    A_mat = np.zeros(shape=(kernel_elems_Wout, kernel_elems_Wout))\n",
    "    B_vec = np.zeros(shape=(channels_out_Wout, kernel_elems_Wout))\n",
    "  \n",
    "    U_mat, SU_mat_lst = make_Umat_SUmatlst(\n",
    "        kernel_size, channels_in_Wout,\n",
    "        input_ylen_Wout, input_xlen_Wout,\n",
    "        output_ylen_Wout, output_xlen_Wout,\n",
    "        usebias_Wout\n",
    "    )\n",
    "\n",
    "    kernels = np.zeros(shape=(kernel_size, kernel_size, channels_in_Wout, channels_out_Wout))\n",
    "    if usebias_Wout == True:\n",
    "        kernels_bias = np.zeros(shape=channels_out_Wout)\n",
    "\n",
    "\n",
    "    num_batches = training_data_rnn_input.shape[0]\n",
    "    SU_x_lst = np.empty(shape=(kernel_elems_Wout, SU_mat_lst[0].shape[0], training_data_rnn_input.shape[1]))\n",
    "    # SU_x_buffer = np.empty_like(SU_x_lst)\n",
    "    \n",
    "    for i in range(epochs):\n",
    "        epoch_totaltime = time.time()\n",
    "        print_s(' EPOCH : {} '.format(i+1))\n",
    "        \n",
    "        ##### computing Wout #####\n",
    "        epoch_time = time.time()\n",
    "        \n",
    "        # computing the A matrix and the individual output channel B vectors\n",
    "        A_mat_compute_time = time.time()\n",
    "        A_mat[:, :] = 0.0\n",
    "        B_vec[:, :] = 0.0\n",
    "        BvecAmatj_time_mean = 0.0\n",
    "        runs = training_data_rnn_input.shape[0]\n",
    "        for j in range(runs):\n",
    "            start_time = time.time()\n",
    "            input_x = np.array(rnn_net(training_data_rnn_input[j:j+1], manual_training=True))\n",
    "            if len(input_x.shape) > 4:\n",
    "                input_x = input_x[0]\n",
    "            input_x = input_x.reshape(input_x.shape[0], -1)\n",
    "            if usebias_Wout == True:\n",
    "                input_x = np.concatenate(\n",
    "                    (input_x, np.ones(shape=(input_x.shape[0], 1))),\n",
    "                    axis=1\n",
    "                )\n",
    "            # SU_x_lst = []\n",
    "            input_x = input_x.transpose()\n",
    "            for i1 in range(kernel_elems_Wout):\n",
    "                SUi1_x = SU_mat_lst[i1].dot(input_x)\n",
    "                # SU_x_lst.append(SUi1_x)\n",
    "                SU_x_lst[i1] = SUi1_x\n",
    "                for i2 in range(i1):\n",
    "                    SUi2_x = SU_x_lst[i2]\n",
    "                    A_mat[i1, i2] += np.sum(SUi2_x*SUi1_x)\n",
    "                A_mat[i1, i1] += np.sum(SUi1_x*SUi1_x)\n",
    "            # for i1 in range(kernel_elems_Wout):\n",
    "            #     SUi1_x = SU_mat_lst[i1].dot(input_x)\n",
    "            #     SU_x_lst[i1] = SUi1_x\n",
    "            #     A_mat[i1, 0:i1+1] += np.sum(\n",
    "            #         SU_x_lst[0:i1+1]*SUi1_x,\n",
    "            #         axis=(-2, -1)\n",
    "            #     )\n",
    "            Amatj_time = time.time()-start_time\n",
    "\n",
    "            for l in range(channels_out_Wout):\n",
    "                time_single_channel = time.time()\n",
    "                output_y = training_data_rnn_output[j, :, l]\n",
    "                output_y = output_y.reshape(output_y.shape[0], -1).transpose()\n",
    "                for i1 in range(kernel_elems_Wout):\n",
    "                    B_vec[l, i1] += np.sum(output_y*SU_x_lst[i1])\n",
    "            BvecAmatj_time = time.time()-start_time\n",
    "            BvecAmatj_time_mean = (j*BvecAmatj_time_mean+BvecAmatj_time)/(j+1)\n",
    "            eta = BvecAmatj_time_mean*(runs-j-1)\n",
    "            print('{}/{} A_mat j time : {:.4f} s.; A_mat and B_vec j time : {:.4f} s.; eta : {:.0f} h {:.0f} m {:.0f} s.'.format(\n",
    "                j+1,\n",
    "                runs,\n",
    "                Amatj_time,\n",
    "                BvecAmatj_time,\n",
    "                int(eta // 3600),\n",
    "                int( (eta % 3600) // 60),\n",
    "                int(eta % 60),\n",
    "            ))\n",
    "\n",
    "        for i1 in range(kernel_elems_Wout):\n",
    "            for i2 in range(i1+1, kernel_elems_Wout):\n",
    "                A_mat[i1, i2] = A_mat[i2, i1]\n",
    "        A_mat += lambda_reg*np.eye(A_mat.shape[0])\n",
    "        A_inv = np.linalg.inv(A_mat)\n",
    "        A_mat_compute_time = time.time() - A_mat_compute_time\n",
    "        print_s('A_mat & B_vec computed, time taken : {:.4f} s.'.format(A_mat_compute_time), filler='', above_filler=False, below_filler=False)\n",
    "        \n",
    "        # computing the kernels\n",
    "        for l in range(channels_out_Wout):\n",
    "            time_single_channel = time.time()\n",
    "            kernel_elems_l = A_inv @ B_vec[l].reshape(B_vec[l].shape[0], 1)\n",
    "            if usebias_Wout == True:\n",
    "                kernels_bias[l] = kernel_elems_l[-1]\n",
    "                kernel_elems_l = kernel_elems_l[0:-1]\n",
    "            kernel_elems_l = kernel_elems_l.reshape(channels_in_Wout, kernel_size, kernel_size)\n",
    "            kernel_elems_l = np.transpose(kernel_elems_l, axes=(1, 2, 0))\n",
    "            kernels[:, :, :, l] = kernel_elems_l\n",
    "            print('time for out_channel {} : {:.4f} s'.format(l, time.time()-time_single_channel))\n",
    "        \n",
    "        print('\\nepoch_time : {} sec'.format(time.time() - epoch_time))\n",
    "\n",
    "        # averaging Wout\n",
    "        Wout_kernels = Wout_kernels*i/(i+1) + kernels*1/(i+1)\n",
    "        tf.keras.backend.set_value(rnn_net.Wout.kernel, Wout_kernels)\n",
    "        if usebias_Wout == True:\n",
    "            Wout_kernels_bias = Wout_kernels_bias*i/(i+1) + kernels_bias*1/(i+1)\n",
    "            tf.keras.backend.set_value(rnn_net.Wout.bias, Wout_kernels_bias)\n",
    "\n",
    "        for layer in rnn_net.rnn_list:\n",
    "            layer.reset_states()\n",
    "\n",
    "        print('\\nval mse')\n",
    "        # '''\n",
    "        val_mse = 0\n",
    "        for j in range(val_data_rnn_input.shape[0]):\n",
    "            batch_time = time.time()\n",
    "            val_pred = np.array(rnn_net(val_data_rnn_input[j:j+1], training=False))\n",
    "            temp = (val_pred - val_data_rnn_output[j:j+1])**2\n",
    "            temp = temp.reshape(temp.shape[0], temp.shape[1], -1)\n",
    "            temp = np.mean(temp, axis=-1) # do a sqrt here to get rmse\n",
    "            temp = np.mean(temp, axis=-1)\n",
    "            temp = np.mean(temp, axis=-1)\n",
    "            val_mse = val_mse*j/(j+1) + temp*1/(j+1)\n",
    "            print('{} / {} -- batch_time : {} sec'.format(\n",
    "                j+1,\n",
    "                val_data_rnn_input.shape[0],\n",
    "                time.time() - batch_time\n",
    "            ))\n",
    "\n",
    "        for layer in rnn_net.rnn_list:\n",
    "            layer.reset_states()\n",
    "\n",
    "        print('\\ntraining mse')\n",
    "        # '''\n",
    "        train_mse = 0\n",
    "        for j in range(training_data_rnn_input.shape[0]):\n",
    "            batch_time = time.time()\n",
    "            train_pred = np.array(rnn_net(training_data_rnn_input[j:j+1], training=False))\n",
    "            temp = (train_pred - training_data_rnn_output[j:j+1])**2\n",
    "            temp = temp.reshape(temp.shape[0], temp.shape[1], -1)\n",
    "            temp = np.mean(temp, axis=-1) # do a sqrt here to get rmse\n",
    "            temp = np.mean(temp, axis=-1)\n",
    "            temp = np.mean(temp, axis=-1)\n",
    "            train_mse = train_mse*j/(j+1) + temp*1/(j+1)\n",
    "            print('{} / {} -- batch_time : {} sec'.format(\n",
    "                j+1,\n",
    "                training_data_rnn_input.shape[0],\n",
    "                time.time() - batch_time\n",
    "            ))\n",
    "        \n",
    "        for layer in rnn_net.rnn_list:\n",
    "            layer.reset_states()\n",
    "\n",
    "        val_loss_hist.append(val_mse)\n",
    "        train_loss_hist.append(train_mse)\n",
    "        \n",
    "        # print('\\ntest_mse : {}'.format(test_mse))\n",
    "        print('\\ntrain_mse : {}'.format(train_mse))\n",
    "        print('val_mse : {}'.format(val_mse))\n",
    "        if val_mse + min_delta <= val_mse_best:\n",
    "            print('val_mse improved from {}'.format(val_mse_best))\n",
    "            Wout_kernels_best = Wout_kernels\n",
    "            if usebias_Wout == True:\n",
    "                Wout_kernels_bias_best = Wout_kernels_bias\n",
    "            val_mse_best = val_mse\n",
    "            wait = 0\n",
    "        else:\n",
    "            wait += 1\n",
    "            print('val_mse did not improve from {}, wait : {}'.format(val_mse_best, wait))\n",
    "\n",
    "        print('\\nTotal epoch computation time : {} sec'.format(time.time()-epoch_totaltime))\n",
    "            \n",
    "        if wait >= patience:\n",
    "            print('\\nearly stopping')\n",
    "            break\n",
    "        \n",
    "if use_best == True:\n",
    "    tf.keras.backend.set_value(rnn_net.Wout.kernel, Wout_kernels_best)\n",
    "    if usebias_Wout == True:\n",
    "        tf.keras.backend.set_value(rnn_net.Wout.bias, Wout_kernels_bias_best)\n",
    "print('\\ntest mse')\n",
    "test_mse = 0\n",
    "for j in range(testing_data_rnn_input.shape[0]):\n",
    "    print('{} / {}'.format(j+1, testing_data_rnn_input.shape[0]))\n",
    "    test_pred = np.array(rnn_net(testing_data_rnn_input[j:j+1], training=False))\n",
    "    temp = (test_pred - testing_data_rnn_output[j:j+1])**2\n",
    "    temp = temp.reshape(temp.shape[0], temp.shape[1], -1)\n",
    "    temp = np.mean(temp, axis=-1) # do a sqrt here to get rmse\n",
    "    temp = np.mean(temp, axis=-1)\n",
    "    temp = np.mean(temp, axis=-1)\n",
    "    test_mse = test_mse*j/(j+1) + temp*1/(j+1)\n",
    "print('test_mse : {}'.format(test_mse))\n",
    "\n",
    "for layer in rnn_net.rnn_list:\n",
    "    layer.reset_states()"
   ]
  },
  {
   "cell_type": "code",
   "execution_count": null,
   "metadata": {},
   "outputs": [],
   "source": [
    "row_i = 9\n",
    "ind_i = U_mat.indptr[row_i]\n",
    "ind_ip1 = U_mat.indptr[row_i+1]\n",
    "\n",
    "U_mat.indices[ind_i:ind_ip1]"
   ]
  },
  {
   "cell_type": "code",
   "execution_count": null,
   "metadata": {},
   "outputs": [],
   "source": [
    "A_mat[:, :].diagonal(A_mat.shape[0]-1 -24)"
   ]
  },
  {
   "cell_type": "code",
   "execution_count": null,
   "metadata": {},
   "outputs": [],
   "source": [
    "rnn_net.rnn_list[0].cell.Win.kernel"
   ]
  },
  {
   "cell_type": "code",
   "execution_count": null,
   "metadata": {},
   "outputs": [],
   "source": [
    "(kernels**2).mean()**0.5"
   ]
  },
  {
   "cell_type": "code",
   "execution_count": null,
   "metadata": {
    "colab": {
     "base_uri": "https://localhost:8080/"
    },
    "executionInfo": {
     "elapsed": 10543,
     "status": "ok",
     "timestamp": 1667873563321,
     "user": {
      "displayName": "Rohan Kaushik",
      "userId": "13918477614376051685"
     },
     "user_tz": -60
    },
    "id": "SO7iK4mbneQm",
    "outputId": "48110900-962a-49c1-c532-718999590884"
   },
   "outputs": [],
   "source": [
    "if behaviour == 'initialiseAndTrainFromScratch' or behaviour == 'loadCheckpointAndContinueTraining':\n",
    "#     test_loss = rnn_net.evaluate(\n",
    "#         testing_data_rnn_input, testing_data_rnn_output,\n",
    "#     )\n",
    "\n",
    "    save_path = dir_name_rnn+dir_sep+'final_net'\n",
    "\n",
    "    if not os.path.isdir(save_path):\n",
    "        os.makedirs(save_path)\n",
    "\n",
    "\n",
    "    with open(save_path+dir_sep+'losses.txt', 'w') as f:\n",
    "        f.write(str({\n",
    "            'val_loss_hist':val_loss_hist,\n",
    "            'train_loss_hist':train_loss_hist,\n",
    "#             'lr_change':lr_change,\n",
    "            'test_loss':test_mse\n",
    "        }))\n",
    "        \n",
    "    if normalize_dataset == True:\n",
    "        with open(save_path+dir_sep+'rnn_normalization.txt', 'w') as f:\n",
    "            f.write(str({\n",
    "                'normalization_arr':normalization_arr\n",
    "            }))\n",
    "\n",
    "    rnn_net.save_everything(\n",
    "        file_name=save_path+dir_sep+'final_net')"
   ]
  },
  {
   "cell_type": "code",
   "execution_count": null,
   "metadata": {
    "colab": {
     "base_uri": "https://localhost:8080/",
     "height": 279
    },
    "executionInfo": {
     "elapsed": 1226,
     "status": "ok",
     "timestamp": 1667873564544,
     "user": {
      "displayName": "Rohan Kaushik",
      "userId": "13918477614376051685"
     },
     "user_tz": -60
    },
    "id": "nDv5D8APneQm",
    "outputId": "ee911dc8-4d36-48af-8ad0-07cef0dbaf81"
   },
   "outputs": [],
   "source": [
    "# plotting losses\n",
    "dir_name_plot = dir_name_rnn+dir_sep+'plots'\n",
    "if not os.path.isdir(dir_name_plot):\n",
    "    os.makedirs(dir_name_plot)\n",
    "\n",
    "# Visualize loss history\n",
    "fig, ax = plot_losses(\n",
    "    training_loss=train_loss_hist,\n",
    "    val_loss=val_loss_hist,\n",
    "    lr_change=None,\n",
    "    learning_rate_list=None,\n",
    "    traininglossplot_kwargs={'marker':'o'}\n",
    ")\n",
    "\n",
    "plt.savefig(dir_name_rnn+'{ds}plots{ds}loss_history.png'.format(ds=dir_sep), dpi=300, bbox_inches='tight')\n",
    "plt.show()\n"
   ]
  },
  {
   "cell_type": "code",
   "execution_count": null,
   "metadata": {
    "colab": {
     "base_uri": "https://localhost:8080/",
     "height": 433
    },
    "executionInfo": {
     "elapsed": 11096,
     "status": "ok",
     "timestamp": 1667873575637,
     "user": {
      "displayName": "Rohan Kaushik",
      "userId": "13918477614376051685"
     },
     "user_tz": -60
    },
    "id": "dbLa0AwlDBWh",
    "outputId": "d3f93f58-9ce7-4994-8d68-29520477e02d"
   },
   "outputs": [],
   "source": []
  },
  {
   "cell_type": "code",
   "execution_count": null,
   "metadata": {
    "colab": {
     "base_uri": "https://localhost:8080/"
    },
    "executionInfo": {
     "elapsed": 8,
     "status": "ok",
     "timestamp": 1667873575638,
     "user": {
      "displayName": "Rohan Kaushik",
      "userId": "13918477614376051685"
     },
     "user_tz": -60
    },
    "id": "MDopQ4JMhRPV",
    "outputId": "f6480bb7-5837-4a80-9333-f9acd175b27a"
   },
   "outputs": [],
   "source": []
  },
  {
   "cell_type": "code",
   "execution_count": null,
   "metadata": {
    "executionInfo": {
     "elapsed": 9,
     "status": "ok",
     "timestamp": 1667873576097,
     "user": {
      "displayName": "Rohan Kaushik",
      "userId": "13918477614376051685"
     },
     "user_tz": -60
    },
    "id": "2_fAlJz2Vdev"
   },
   "outputs": [],
   "source": [
    "def rescale_data(data, normalization_arr):\n",
    "    '''\n",
    "    data - [num_batches x num_timesteps x num_states]\n",
    "    normalization_arr = [2 x num_states]\n",
    "    '''\n",
    "    new_data = data.copy()\n",
    "    shape = new_data.shape\n",
    "    # for i in range(data.shape[-1]):\n",
    "    #     new_data[:, i] -= normalization_arr[0, i]\n",
    "    #     new_data[:, i] /= normalization_arr[1, i]\n",
    "    new_data -= normalization_arr[0]\n",
    "    new_data *= normalization_arr[1]\n",
    "    \n",
    "    return new_data\n",
    "\n",
    "def norm_sq_time_average(data):\n",
    "    data_norm_sq = np.zeros(shape=data.shape[0])\n",
    "    for i in range(data.shape[1]):\n",
    "        data_norm_sq[:] += data[:, i]**2\n",
    "    # integrating using the trapezoidal rule\n",
    "    norm_sq_time_avg = np.sum(data_norm_sq) - 0.5*(data_norm_sq[0]+data_norm_sq[-1])\n",
    "    norm_sq_time_avg /= data_norm_sq.shape[0]\n",
    "    return norm_sq_time_avg\n",
    "\n",
    "def invert_normalization(data, normalization_arr):\n",
    "    new_data = data.copy()\n",
    "    shape = new_data.shape\n",
    "    # for i in range(shape[-1]):\n",
    "    #     if len(shape) == 2:\n",
    "    #         new_data[:, i] *= normalization_arr[1, i]\n",
    "    #         new_data[:, i] += normalization_arr[0, i]\n",
    "    #     elif len(shape) == 3:\n",
    "    #         new_data[:, :, i] *= normalization_arr[1, i]\n",
    "    #         new_data[:, :, i] += normalization_arr[0, i]\n",
    "    new_data *= normalization_arr[1]\n",
    "    new_data += normalization_arr[0]\n",
    "    return new_data"
   ]
  },
  {
   "cell_type": "code",
   "execution_count": null,
   "metadata": {
    "executionInfo": {
     "elapsed": 9,
     "status": "ok",
     "timestamp": 1667873576098,
     "user": {
      "displayName": "Rohan Kaushik",
      "userId": "13918477614376051685"
     },
     "user_tz": -60
    },
    "id": "s5BNteRC7COC",
    "scrolled": true
   },
   "outputs": [],
   "source": []
  },
  {
   "cell_type": "markdown",
   "metadata": {},
   "source": [
    "# Auto Regressive ESN"
   ]
  },
  {
   "cell_type": "code",
   "execution_count": null,
   "metadata": {},
   "outputs": [],
   "source": [
    "s_in = testing_data_rnn_input.shape\n",
    "testing_data_rnn_input = testing_data_rnn_input.reshape((1, s_in[0]*s_in[1]) + s_in[2:])\n",
    "\n",
    "s_out = testing_data_rnn_output.shape\n",
    "testing_data_rnn_output = testing_data_rnn_output.reshape((1, s_out[0]*s_out[1]) + s_out[2:])"
   ]
  },
  {
   "cell_type": "code",
   "execution_count": null,
   "metadata": {},
   "outputs": [],
   "source": [
    "T_sample_input_AR = 1*(1/0.065) # np.mean(lyapunov_time_arr)#50.1*dt_rnn\n",
    "num_sample_input_AR = int((T_sample_input_AR+0.5*dt_rnn)//dt_rnn)\n",
    "\n",
    "T_sample_output_AR = 10*(1/0.065) # np.mean(lyapunov_time_arr)\n",
    "num_sample_output_AR = int((T_sample_output_AR+0.5*dt_rnn)//dt_rnn)\n",
    "\n",
    "num_offset_AR = num_sample_input_AR\n",
    "T_offset_AR = num_offset_AR*dt_rnn"
   ]
  },
  {
   "cell_type": "code",
   "execution_count": null,
   "metadata": {},
   "outputs": [],
   "source": [
    "# data_to_consider = 'training'\n",
    "data_to_consider = 'testing'\n",
    "\n",
    "data_in = eval(data_to_consider+'_data_rnn_input')\n",
    "data_out = eval(data_to_consider+'_data_rnn_output')\n",
    "\n",
    "batch_idx = np.random.randint(low=0, high=data_in.shape[0])\n",
    "maxpossible_num_runs = data_in.shape[1]-(num_sample_input_AR+num_sample_output_AR)\n",
    "\n",
    "data_idx = np.random.randint(low=0, high=maxpossible_num_runs)\n",
    "\n",
    "print('batch_idx : {}'.format(batch_idx))\n",
    "print('data_idx : {}'.format(data_idx))\n",
    "data_ = data_in[batch_idx:batch_idx+1, data_idx:data_idx+(num_sample_input_AR+num_sample_output_AR), :]\n",
    "print('data_.shape :', data_.shape)\n",
    "\n",
    "plt.plot(dt_rnn*np.arange(num_sample_input_AR), data_[0, 0:num_sample_input_AR, 0, 0, 0])\n",
    "plt.plot(dt_rnn*num_sample_input_AR+dt_rnn*np.arange(num_sample_output_AR), data_[0, num_sample_input_AR:, 0, 0, 0])\n",
    "plt.grid(True)\n",
    "plt.show()"
   ]
  },
  {
   "cell_type": "code",
   "execution_count": null,
   "metadata": {},
   "outputs": [],
   "source": [
    "prediction_lst = []\n",
    "\n",
    "for layer in rnn_net.rnn_list:\n",
    "    layer.reset_states()\n",
    "    \n",
    "input_preds = np.array(rnn_net(data_[:, 0:num_sample_input_AR, :], training=False))[0]\n",
    "\n",
    "prediction_lst.append(input_preds[-1])\n",
    "\n",
    "for i in range(1, num_sample_output_AR):\n",
    "    data_in_i = np.array([[prediction_lst[-1]]])\n",
    "    output = np.array(rnn_net(data_in_i, training=False))[0, 0]\n",
    "    prediction_lst.append(output)"
   ]
  },
  {
   "cell_type": "code",
   "execution_count": null,
   "metadata": {},
   "outputs": [],
   "source": [
    "prediction_lst = np.stack(prediction_lst)\n",
    "\n",
    "print('input_preds.shape : {}'.format(input_preds.shape))\n",
    "print('prediction_lst.shape : {}'.format(prediction_lst.shape))"
   ]
  },
  {
   "cell_type": "code",
   "execution_count": null,
   "metadata": {},
   "outputs": [],
   "source": [
    "input_preds = input_preds.reshape(input_preds.shape[0], -1)\n",
    "prediction_lst = prediction_lst.reshape(prediction_lst.shape[0], -1)\n",
    "\n",
    "print('input_preds.shape : {}'.format(input_preds.shape))\n",
    "print('prediction_lst.shape : {}'.format(prediction_lst.shape))"
   ]
  },
  {
   "cell_type": "code",
   "execution_count": null,
   "metadata": {
    "scrolled": true
   },
   "outputs": [],
   "source": [
    "lyap_time = (1/0.065)# np.mean(lyapunov_time_arr)\n",
    "\n",
    "n = 1\n",
    "num_latent_states = 32#input_preds.shape[-1]# *input_preds.shape[-2]*input_preds.shape[-3]\n",
    "N = num_sample_output_AR#num_output_timesteps\n",
    "\n",
    "if num_latent_states != input_preds.shape[-1]:\n",
    "    print('Only plotting the first {} latent states because of memory constraints.'.format(num_latent_states))\n",
    "\n",
    "num_cols = 1\n",
    "num_rows = n*num_latent_states\n",
    "\n",
    "ax_ylabels = [r'$x^*_{'+str(i+1)+'}$' for i in range(num_latent_states)]\n",
    "\n",
    "fig, ax = plt.subplots(num_latent_states, 1, sharex=True, figsize=(7.5*num_cols, 2.5*num_rows))\n",
    "if num_latent_states == 1:\n",
    "    ax = [ax]\n",
    "\n",
    "cmap = plt.get_cmap('jet')\n",
    "colors = [cmap(i) for i in np.linspace(0, 1, 2*n)]\n",
    "\n",
    "prev_idx = 0\n",
    "\n",
    "time_arr_warmup1 = (np.arange(num_sample_input_AR) - num_sample_input_AR)*dt_rnn\n",
    "time_arr_warmup2 = time_arr_warmup1 + dt_rnn\n",
    "\n",
    "time_arr_warmup1 /= lyap_time\n",
    "time_arr_warmup2 /= lyap_time\n",
    "\n",
    "input_time = time_arr_warmup2[-1]+np.arange(N, dtype=float)*dt_rnn/lyap_time\n",
    "\n",
    "temp_ = data_[0, 0:num_sample_input_AR+N]\n",
    "temp_ = temp_.reshape(temp_.shape[0], -1)\n",
    "temp_ = invert_normalization(temp_, normalization_arr)\n",
    "prediction_lst = invert_normalization(prediction_lst, normalization_arr)\n",
    "input_preds = invert_normalization(input_preds, normalization_arr)\n",
    "for j in range(num_latent_states):\n",
    "    for i in range(n):\n",
    "        ax[j].plot(time_arr_warmup1, temp_[:num_sample_input_AR, j], linestyle='--', linewidth=1, color=colors[2*i], label='Case {} - actual warmup data'.format(i+1))\n",
    "        ax[j].plot(time_arr_warmup2, input_preds[:, j], linestyle='--', linewidth=1, color=colors[2*i+1], label='Case {} - predicted warmup data'.format(i+1))\n",
    "        ax[j].plot(input_time, temp_[num_sample_input_AR:num_sample_input_AR+N, j], linewidth=1, color=colors[2*i], label='Case {} - actual data'.format(i+1))\n",
    "        ax[j].plot(input_time, prediction_lst[:, j], linewidth=1, color=colors[2*i+1], label='Case {} - predicted data'.format(i+1))\n",
    "    ax[j].set_ylabel(ax_ylabels[j])\n",
    "    ax[j].grid(True)\n",
    "    ax[j].set_axisbelow(True)\n",
    "    ax[j].set_ylim([-1, 1])\n",
    "    ax[j].set_xlim([input_time[0] - 0.5, input_time[-1]])\n",
    "\n",
    "\n",
    "ax[-1].set_xlabel('Time$^+$')\n",
    "\n",
    "max_rows = 10\n",
    "max_rows = float(max_rows)\n",
    "ncols = int(np.ceil(len(rnn_data_boundary_idx_arr) / max_rows))\n",
    "ax[0].legend(\n",
    "    loc='best',\n",
    "    ncol=ncols,\n",
    ")\n",
    "ax[0].set_title(r'Latent States', size=12)\n",
    "\n",
    "\n",
    "### error computation\n",
    "error = (temp_[num_sample_input_AR:num_sample_input_AR+N, :] - prediction_lst[:, :])**2\n",
    "# error /= norm_sq_time_average(data_out)**0.5\n",
    "error = np.mean(np.divide(error, time_stddev_AEproducedlatentstates**2), axis=1)**0.5\n",
    "\n",
    "# print(norm_sq_time_average(data_out)**0.5)\n",
    "\n",
    "fig2, ax2 = plt.subplots(1, 1, figsize=(7.5, 2.5))\n",
    "ax2.plot(input_time, error)\n",
    "ax2.grid(True)\n",
    "ax2.set_axisbelow(True)\n",
    "ax2.set_xlabel('Time$^+$')\n",
    "ax2.set_ylabel('Normalized Error')\n",
    "\n",
    "error_threshold = 0.5\n",
    "\n",
    "predhor_idx = np.where(error >= error_threshold)[0]\n",
    "if len(predhor_idx.shape) == 0:\n",
    "    predhor_idx = error.shape[0]-1\n",
    "else:\n",
    "    predhor_idx = predhor_idx[0]\n",
    "ax2.plot(input_time[predhor_idx], error[predhor_idx], 'o', color='k')\n",
    "ax2.axhline(error[predhor_idx], linewidth=0.9, linestyle='--', color='k')\n",
    "ax2.axvline(input_time[predhor_idx], linewidth=0.9, linestyle='--', color='k')\n",
    "ax2.set_ylim([0, 2])\n",
    "\n",
    "prediction_horizon = predhor_idx*dt_rnn/lyap_time\n",
    "print(prediction_horizon)"
   ]
  },
  {
   "cell_type": "code",
   "execution_count": null,
   "metadata": {},
   "outputs": [],
   "source": [
    "try:\n",
    "    if use_weights_post_dense == True:\n",
    "        print(rnn_net.postWout.individual_weights)\n",
    "except:\n",
    "    pass"
   ]
  },
  {
   "cell_type": "markdown",
   "metadata": {},
   "source": [
    "### Prediction horizon computation"
   ]
  },
  {
   "cell_type": "code",
   "execution_count": null,
   "metadata": {},
   "outputs": [],
   "source": [
    "def plot_histogram_and_save(\n",
    "    prediction_horizon_arr,\n",
    "    save_dir,\n",
    "    savefig_fname='pre_ARtraining',\n",
    "    bin_width=0.05,\n",
    "    bin_begin=0.0):\n",
    "    \n",
    "    fig, ax = plt.subplots()\n",
    "\n",
    "    ph_mean = np.mean(prediction_horizon_arr)\n",
    "    ph_stddev = np.std(prediction_horizon_arr)\n",
    "    ph_max = np.max(prediction_horizon_arr)\n",
    "    ph_min = np.min(prediction_horizon_arr)\n",
    "    \n",
    "    bin_end = bin_width*np.round((np.max(prediction_horizon_arr)+0.5*bin_width)//bin_width)\n",
    "    nbins = int(np.round(bin_end/bin_width))\n",
    "\n",
    "    ax.hist(prediction_horizon_arr, bins=nbins, range = [bin_begin, bin_end], density=True)\n",
    "    ax.axvline(ph_mean, linewidth=0.9, linestyle='--', color='k')\n",
    "\n",
    "    ax.set_xlabel('Prediction Horizon (Lyapunov times)')\n",
    "    ax.set_ylabel('PDF')\n",
    "\n",
    "    ax.grid(True)\n",
    "    # ax.set_axisbelow(True)\n",
    "\n",
    "    ax.text(\n",
    "        0.01 + ax.transAxes.inverted().transform(ax.transData.transform([prediction_horizon, 0]))[0],\n",
    "        0.8,\n",
    "        'mean',\n",
    "        rotation=90,\n",
    "        verticalalignment='bottom',\n",
    "        horizontalalignment='left',\n",
    "        bbox=dict(facecolor=np.array([255,255,153])/255, alpha=1, boxstyle='square,pad=0.2'),\n",
    "        transform=ax.transAxes\n",
    "    )\n",
    "\n",
    "    text_xy = [0.95, 0.95]\n",
    "    ax.text(\n",
    "        text_xy[0],\n",
    "        text_xy[1],\n",
    "        'mean : {:.4f}\\nmax : {:.4f}\\nmin : {:.4f}\\nstddev : {:.4f}'.format(\n",
    "            ph_mean,\n",
    "            ph_max,\n",
    "            ph_min,\n",
    "            ph_stddev,\n",
    "        ),\n",
    "        transform=ax.transAxes,\n",
    "        bbox=dict(\n",
    "            boxstyle=\"round\",\n",
    "            ec=(0.6, 0.6, 1),\n",
    "            fc=(0.9, 0.9, 1),\n",
    "        ),\n",
    "        # bbox=dict(facecolor='C0', alpha=0.5, boxstyle='round,pad=0.2'),\n",
    "        horizontalalignment='right',\n",
    "        verticalalignment='top'\n",
    "    )\n",
    "\n",
    "    ax.set_title('nbins = {}'.format(nbins))\n",
    "    \n",
    "    if not os.path.isdir(save_dir):\n",
    "        os.mkdir(save_dir)\n",
    "\n",
    "    fig.savefig(save_dir+'/'+savefig_fname+'.png', dpi=300, bbox_inches='tight')\n",
    "    fig.clear()\n",
    "    plt.close()"
   ]
  },
  {
   "cell_type": "code",
   "execution_count": null,
   "metadata": {},
   "outputs": [],
   "source": [
    "normalization_arr.shape, time_stddev.shape"
   ]
  },
  {
   "cell_type": "code",
   "execution_count": null,
   "metadata": {},
   "outputs": [],
   "source": [
    "num_runs = 100\n",
    "num_runs = np.min([num_runs, maxpossible_num_runs])\n",
    "print('num_runs : {}'.format(num_runs))\n",
    "\n",
    "data_idx_arr = np.linspace(0, maxpossible_num_runs-1, num_runs, dtype=np.int32)\n",
    "\n",
    "savefig_fname = 'pre_ARtraining-'+data_to_consider+'data'\n",
    "npsavedata_fname = '/prediction_horizons-'+data_to_consider+'data'\n",
    "plot_dir = '/plots'\n",
    "\n",
    "analysis_time = time.time()\n",
    "\n",
    "sidx1 = dir_name_rnn[::-1].index('/')\n",
    "sidx2 = dir_name_rnn[-sidx1-2::-1].index('/')\n",
    "print(dir_name_rnn[-(sidx1+sidx2+1):])\n",
    "\n",
    "prediction_horizon_arr = np.empty(shape=num_runs)\n",
    "\n",
    "for i in range(num_runs):\n",
    "    data_idx = data_idx_arr[i]\n",
    "\n",
    "    # for j in range(len(rnn_data_boundary_idx_arr)):\n",
    "    #     if data_idx < rnn_data_boundary_idx_arr[j]:\n",
    "    #         case_idx = j\n",
    "    #         break\n",
    "    lyap_time = (1/0.065)#lyapunov_time_arr[0]\n",
    "\n",
    "    ### picking the data\n",
    "    data_ = data_in[0:1, data_idx:data_idx+(num_sample_input_AR+num_sample_output_AR), :]\n",
    "\n",
    "    ### doing the predictions\n",
    "    prediction_lst = []\n",
    "\n",
    "    for layer in rnn_net.rnn_list:\n",
    "        layer.reset_states()\n",
    "\n",
    "    input_preds = np.array(rnn_net(data_[:, 0:num_sample_input_AR, :], training=False))[0]\n",
    "\n",
    "    prediction_lst.append(input_preds[-1])\n",
    "\n",
    "    for j in range(1, num_sample_output_AR):\n",
    "        data_in_j = np.array([[prediction_lst[-1]]])\n",
    "        output = np.array(rnn_net(data_in_j, training=False))[0, 0]\n",
    "        prediction_lst.append(output)\n",
    "    prediction_lst = np.stack(prediction_lst)\n",
    "    prediction_lst = prediction_lst.reshape(prediction_lst.shape[0], -1)\n",
    "    prediction_lst = invert_normalization(prediction_lst, normalization_arr) # don't invert if using time_stddev in error\n",
    "    \n",
    "    data_out = data_[0, num_sample_input_AR:num_sample_input_AR+num_sample_output_AR]\n",
    "    data_out = data_out.reshape(data_out.shape[0], -1)\n",
    "    data_out = invert_normalization(data_out, normalization_arr)\n",
    "\n",
    "    ### Error and prediction horizon\n",
    "    # error = np.linalg.norm(data_out[:, :] - prediction[i, :, :], axis=1)\n",
    "    error = (data_out[:, :] - prediction_lst[:, :])**2\n",
    "    # error /= norm_sq_time_average(data_out)**0.5\n",
    "    error = np.mean(np.divide(error, time_stddev_AEproducedlatentstates**2), axis=1)**0.5\n",
    "\n",
    "    predhor_idx = np.where(error >= error_threshold)[0]\n",
    "    if predhor_idx.shape[0] == 0:\n",
    "        predhor_idx = error.shape[0]\n",
    "    else:\n",
    "        predhor_idx = predhor_idx[0]\n",
    "\n",
    "    prediction_horizon_arr[i] = predhor_idx*dt_rnn/lyap_time\n",
    "\n",
    "median_idx = int(np.round(0.5*num_runs-1))\n",
    "quartile_1_idx = int(np.round(0.25*num_runs-1))\n",
    "quartile_3_idx = int(np.round(0.75*num_runs-1))\n",
    "\n",
    "prediction_horizon_arr.sort()\n",
    "\n",
    "median = prediction_horizon_arr[median_idx]\n",
    "quartile_1 = prediction_horizon_arr[quartile_1_idx]\n",
    "quartile_3 = prediction_horizon_arr[quartile_3_idx]\n",
    "IQR = quartile_3 - quartile_1\n",
    "\n",
    "prediction_horizon = np.mean(prediction_horizon_arr)\n",
    "stddev_ph = np.std(prediction_horizon_arr)\n",
    "\n",
    "s = 'error_threshold = {}\\n'.format(error_threshold)\n",
    "s += 'prediction_horizon : {}, median : {}\\n'.format(prediction_horizon, median)\n",
    "s += 'ph_min : {}, ph_max : {}\\n'.format(prediction_horizon_arr.min(), prediction_horizon_arr.max())\n",
    "s += 'stddev : {}, IQR : {}\\n'.format(stddev_ph, IQR)\n",
    "s += '1st quartile : {}, 3rd quartile : {}'.format(quartile_1, quartile_3)\n",
    "\n",
    "print('\\n'+s)\n",
    "\n",
    "plot_histogram_and_save(\n",
    "    prediction_horizon_arr,\n",
    "    save_dir=dir_name_rnn+plot_dir,\n",
    "    savefig_fname=savefig_fname\n",
    ")\n",
    "\n",
    "npsavedata_fname = '/prediction_horizons-'+data_to_consider+'data'\n",
    "np.savez(\n",
    "    dir_name_rnn+npsavedata_fname,\n",
    "    prediction_horizon_arr=prediction_horizon_arr,\n",
    "    error_threshold=error_threshold,\n",
    ")\n",
    "\n",
    "with open(dir_name_rnn+npsavedata_fname+'--statistics.txt', 'w') as fl:\n",
    "    fl.write(s)\n",
    "\n",
    "print('analysis time : {} s\\n'.format(time.time() - analysis_time))"
   ]
  },
  {
   "cell_type": "code",
   "execution_count": null,
   "metadata": {},
   "outputs": [],
   "source": [
    "print('num_runs : {}'.format(num_runs))"
   ]
  },
  {
   "cell_type": "code",
   "execution_count": null,
   "metadata": {},
   "outputs": [],
   "source": [
    "prediction_horizon_arr"
   ]
  },
  {
   "cell_type": "code",
   "execution_count": null,
   "metadata": {},
   "outputs": [],
   "source": [
    "data_out.shape"
   ]
  },
  {
   "cell_type": "code",
   "execution_count": null,
   "metadata": {},
   "outputs": [],
   "source": []
  }
 ],
 "metadata": {
  "accelerator": "GPU",
  "colab": {
   "collapsed_sections": [],
   "provenance": []
  },
  "gpuClass": "standard",
  "kernelspec": {
   "display_name": "Python 3 (ipykernel)",
   "language": "python",
   "name": "python3"
  },
  "language_info": {
   "codemirror_mode": {
    "name": "ipython",
    "version": 3
   },
   "file_extension": ".py",
   "mimetype": "text/x-python",
   "name": "python",
   "nbconvert_exporter": "python",
   "pygments_lexer": "ipython3",
   "version": "3.10.6"
  }
 },
 "nbformat": 4,
 "nbformat_minor": 1
}
