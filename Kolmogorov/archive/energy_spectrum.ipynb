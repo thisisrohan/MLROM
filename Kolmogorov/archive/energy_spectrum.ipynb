{
 "cells": [
  {
   "cell_type": "code",
   "execution_count": 1,
   "id": "82ab0645",
   "metadata": {},
   "outputs": [],
   "source": [
    "import numpy as np\n",
    "import matplotlib.pyplot as plt\n",
    "import h5py"
   ]
  },
  {
   "cell_type": "code",
   "execution_count": 2,
   "id": "016ae3f1",
   "metadata": {},
   "outputs": [
    {
     "data": {
      "text/plain": [
       "0.1962946451439682"
      ]
     },
     "execution_count": 2,
     "metadata": {},
     "output_type": "execute_result"
    }
   ],
   "source": [
    "np.log10(22/14)"
   ]
  },
  {
   "cell_type": "code",
   "execution_count": 2,
   "id": "3e548076",
   "metadata": {},
   "outputs": [],
   "source": [
    "################################################################################\n",
    "################################# READING DATA #################################\n",
    "################################################################################\n",
    "\n",
    "fln = 'Kolmogorov_Re40.0_T12500.0_DT01.h5'\n",
    "\n",
    "with h5py.File(fln, 'r') as f:\n",
    "    t_recorded_samples = np.array(f['t'])\n",
    "    snapshot_idx = int(t_recorded_samples.shape[0] / 2)\n",
    "\n",
    "    D = np.array(f['Dissipation'])\n",
    "\n",
    "    # u_ref = np.array(f['u_reference'])\n",
    "    # u_mean = np.sum(u_ref, axis=0) / u_ref.shape[0]\n",
    "    # u_snapshot = u_ref[snapshot_idx].copy()\n",
    "    # del(u_ref)\n",
    "    # v_ref = np.array(f['v_reference'])\n",
    "    # v_mean = np.sum(v_ref, axis=0) / v_ref.shape[0]\n",
    "    # v_snapshot = v_ref[snapshot_idx].copy()\n",
    "    # del(v_ref)\n",
    "    # vort_ref = np.array(f['vort_reference'])\n",
    "    # vort_mean = np.sum(vort_ref, axis=0) / vort_ref.shape[0]\n",
    "    # vort_snapshot = vort_ref[snapshot_idx].copy()\n",
    "    # del(vort_ref)\n",
    "    \n",
    "    u = np.array(f['u'])\n",
    "    u_mean_org = np.mean(u, axis=0) # np.sum(u, axis=0) / u.shape[0]\n",
    "    v = np.array(f['v'])\n",
    "    v_mean_org = np.mean(v, axis=0) # np.sum(v, axis=0) / v.shape[0]\n",
    "\n",
    "T = t_recorded_samples[-1]"
   ]
  },
  {
   "cell_type": "code",
   "execution_count": 3,
   "id": "2bc41ea1",
   "metadata": {},
   "outputs": [],
   "source": [
    "################################################################################\n",
    "######################## COMPUTING REQUIRED QUANTITIES #########################\n",
    "################################################################################\n",
    "\n",
    "### computing KE\n",
    "u_prime = u - u_mean_org\n",
    "v_prime = v - v_mean_org\n",
    "K = np.mean(0.5*(u_prime**2 + v_prime**2), axis=-1) # TKE\n",
    "K = 0.5*np.mean(K, axis=-1)\n",
    "\n",
    "uh = np.fft.fftshift(np.fft.fft2(u_prime))\n",
    "del(u_prime)\n",
    "del(u)\n",
    "vh = np.fft.fftshift(np.fft.fft2(v_prime))\n",
    "del(v_prime)\n",
    "del(v)\n",
    "def aap(f1, f2):\n",
    "    # anti-aliased product\n",
    "    N = int(0.5*(f1.shape[-1]-1))\n",
    "    ndim = f1.ndim\n",
    "    assert ndim < 4, 'input dimensions is greater than 3.'\n",
    "    if ndim == 2:\n",
    "        # f1_h, f2_h = np.expand_dims(f1, axis=0).copy(), np.expand_dims(f2, axis=0).copy()\n",
    "        f1_h, f2_h = np.expand_dims(f1.copy(), axis=0), np.expand_dims(f2.copy(), axis=0)\n",
    "    elif ndim == 3:\n",
    "        f1_h, f2_h = f1.copy(), f2.copy()\n",
    "    \n",
    "    sz2 = 4*N + 1\n",
    "    ff1_h = np.zeros((f1_h.shape[0], sz2, sz2), dtype=np.complex128)\n",
    "    ff2_h = np.zeros((f2_h.shape[0], sz2, sz2), dtype=np.complex128)\n",
    "\n",
    "    idx1, idx2 = N, 3*N + 1\n",
    "    ff1_h[:, idx1:idx2, idx1:idx2] = f1_h\n",
    "    ff2_h[:, idx1:idx2, idx1:idx2] = f2_h\n",
    "\n",
    "    ff1 = np.fft.irfft2(np.fft.ifftshift(ff1_h), s=ff1_h.shape[-2:])\n",
    "    ff2 = np.fft.irfft2(np.fft.ifftshift(ff2_h), s=ff2_h.shape[-2:])          # must take real part or use irfft2\n",
    "\n",
    "    pp_h = (sz2/f1.shape[-1])**2 * np.fft.fft2(ff1*ff2)\n",
    "    pp_h = np.fft.fftshift(pp_h)\n",
    "\n",
    "    p_h = pp_h[:, idx1:idx2, idx1:idx2]\n",
    "\n",
    "    if ndim == 2:\n",
    "        p_h = p_h[0,:,:]\n",
    "\n",
    "    return p_h\n",
    "\n",
    "Ehat = 0.5 * (aap(uh, uh) + aap(vh, vh))\n",
    "Ehat_mean_abs = np.mean(np.abs(Ehat), axis=0)\n",
    "del(Ehat)"
   ]
  },
  {
   "cell_type": "code",
   "execution_count": 4,
   "id": "b7076c7a",
   "metadata": {},
   "outputs": [
    {
     "name": "stdout",
     "output_type": "stream",
     "text": [
      "initial energy_spec_kk shape:  153\n",
      "new energy_spec_kk shape:  135\n"
     ]
    }
   ],
   "source": [
    "N = int(0.5*(uh.shape[-1]-1))\n",
    "domain_len = 2*np.pi\n",
    "\n",
    "dk = 2*np.pi / domain_len\n",
    "k = np.arange(-N, N+1)*dk\n",
    "\n",
    "kk1, kk2 = np.meshgrid(k, k)\n",
    "kk = kk1**2 + kk2**2\n",
    "\n",
    "num_circles = int(0.5*(N+1)*(N+2))\n",
    "# energy_spectrum = np.zeros(shape=num_circles)\n",
    "energy_spec_kk = np.zeros(shape=num_circles)\n",
    "print('initial energy_spec_kk shape: ', energy_spec_kk.shape[0])\n",
    "num_elems = 1\n",
    "for i in range(1, N+1):\n",
    "    for j in range(i+1):\n",
    "        energy_spec_kk[num_elems] = i**2 + j**2\n",
    "        num_elems += 1\n",
    "it = 0\n",
    "while(it < len(energy_spec_kk)):\n",
    "    elem = energy_spec_kk[it]\n",
    "#     temp = []\n",
    "#     if it > 0:\n",
    "#         temp.extend(energy_spec_kk[:it])\n",
    "#     if it+1 < len(energy_spec_kk):\n",
    "#         temp.extend(energy_spec_kk[it+1:])\n",
    "#     temp = np.array(temp)\n",
    "    idx = np.where(energy_spec_kk == elem)[0]\n",
    "    idx = np.setdiff1d(idx, [it])\n",
    "    if len(idx) > 0:\n",
    "        idx_new = np.setdiff1d(np.arange(energy_spec_kk.shape[0]), idx)\n",
    "        energy_spec_kk = energy_spec_kk[idx_new]\n",
    "    it += 1\n",
    "energy_spec_kk *= dk\n",
    "\n",
    "energy_spectrum = np.zeros(shape=energy_spec_kk.shape[0])\n",
    "\n",
    "print('new energy_spec_kk shape: ', energy_spec_kk.shape[0])"
   ]
  },
  {
   "cell_type": "code",
   "execution_count": 5,
   "id": "18c81c98",
   "metadata": {},
   "outputs": [],
   "source": [
    "for i in range(len(k)):\n",
    "    for j in range(len(k)):\n",
    "        e = Ehat_mean_abs[i, j]\n",
    "        idx = np.where(energy_spec_kk == kk[i, j])[0]\n",
    "        if len(idx) > 1:\n",
    "            print(i, j, idx)\n",
    "        energy_spectrum[idx] += e"
   ]
  },
  {
   "cell_type": "code",
   "execution_count": 6,
   "id": "1cdce7a1",
   "metadata": {},
   "outputs": [],
   "source": [
    "# energy_spec_kk[[61, 85]]\n",
    "# kk[2, 11]"
   ]
  },
  {
   "cell_type": "code",
   "execution_count": null,
   "id": "6acef567",
   "metadata": {},
   "outputs": [],
   "source": []
  },
  {
   "cell_type": "code",
   "execution_count": 7,
   "id": "e53107cf",
   "metadata": {},
   "outputs": [],
   "source": [
    "idx_sort = np.argsort(energy_spec_kk)\n",
    "energy_spec_kk = energy_spec_kk[idx_sort]**0.5\n",
    "energy_spectrum = energy_spectrum[idx_sort]"
   ]
  },
  {
   "cell_type": "code",
   "execution_count": 15,
   "id": "0df9627b",
   "metadata": {},
   "outputs": [
    {
     "data": {
      "image/png": "[encoded data removed]",
      "text/plain": [
       "<Figure size 640x480 with 1 Axes>"
      ]
     },
     "metadata": {},
     "output_type": "display_data"
    }
   ],
   "source": [
    "kfit1 = 10\n",
    "kfit2 = 18\n",
    "\n",
    "temp = np.abs(energy_spec_kk - kfit1)\n",
    "idx1 = np.where(temp == np.min(temp))[0][0]\n",
    "temp = np.abs(energy_spec_kk - kfit2)\n",
    "idx2 = np.where(temp == np.min(temp))[0][0]\n",
    "\n",
    "coeffs = np.polyfit(np.log10(energy_spec_kk[idx1:idx2+1]), np.log10(energy_spectrum[idx1:idx2+1]), deg=1)\n",
    "a = coeffs[0]\n",
    "b = coeffs[1]\n",
    "\n",
    "xplot = np.linspace(5.5, 25, 100)\n",
    "yplot = (10**b) * (xplot**a)\n",
    "\n",
    "plt.loglog(energy_spec_kk, energy_spectrum, label='_nolegend_', linewidth=0.8)\n",
    "plt.loglog(xplot, yplot, '--', color='r', label='slope = {:.3f}'.format(a))\n",
    "plt.grid(True)\n",
    "plt.legend()\n",
    "plt.xlabel(r'$k$')\n",
    "plt.ylabel(r'$E(k)$')\n",
    "plt.savefig(fln[0:-3]+'-energy_spec.png', dpi=300, bbox_inches='tight')\n",
    "plt.show()"
   ]
  },
  {
   "cell_type": "code",
   "execution_count": null,
   "id": "86f6629b",
   "metadata": {},
   "outputs": [],
   "source": []
  }
 ],
 "metadata": {
  "kernelspec": {
   "display_name": "Python 3 (ipykernel)",
   "language": "python",
   "name": "python3"
  },
  "language_info": {
   "codemirror_mode": {
    "name": "ipython",
    "version": 3
   },
   "file_extension": ".py",
   "mimetype": "text/x-python",
   "name": "python",
   "nbconvert_exporter": "python",
   "pygments_lexer": "ipython3",
   "version": "3.10.6"
  }
 },
 "nbformat": 4,
 "nbformat_minor": 5
}
