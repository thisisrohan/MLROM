{
 "cells": [
  {
   "cell_type": "code",
   "execution_count": 1,
   "metadata": {
    "executionInfo": {
     "elapsed": 289,
     "status": "ok",
     "timestamp": 1666881736051,
     "user": {
      "displayName": "Rohan Kaushik",
      "userId": "13918477614376051685"
     },
     "user_tz": -120
    },
    "id": "4xhxMpe_r-Y5",
    "scrolled": false
   },
   "outputs": [],
   "source": [
    "# enabling 3rd party widgets\n",
    "# from google.colab import output\n",
    "# output.enable_custom_widget_manager()\n",
    "# output.disable_custom_widget_manager()\n",
    "\n",
    "# interactive 3D plot\n",
    "# !pip install ipympl\n",
    "# %matplotlib widget"
   ]
  },
  {
   "cell_type": "code",
   "execution_count": 2,
   "metadata": {
    "executionInfo": {
     "elapsed": 24,
     "status": "ok",
     "timestamp": 1666881736054,
     "user": {
      "displayName": "Rohan Kaushik",
      "userId": "13918477614376051685"
     },
     "user_tz": -120
    },
    "id": "a5qPupCDsjSz",
    "scrolled": false
   },
   "outputs": [],
   "source": [
    "import os\n",
    "import math\n",
    "from collections import OrderedDict\n",
    "import numpy as np\n",
    "import matplotlib.pyplot as plt\n",
    "from scipy import linalg, fft\n",
    "\n",
    "import time as time\n",
    "import platform as platform\n",
    "\n",
    "import tensorflow as tf\n",
    "from tensorflow.keras import layers, losses\n",
    "from tensorflow.keras.models import Model\n",
    "from tensorflow.keras import backend as K\n",
    "from tensorflow.keras.regularizers import L2\n",
    "import h5py\n",
    "\n",
    "tf.keras.backend.set_floatx('float32')\n",
    "plt.rcParams.update({\"text.usetex\":True})"
   ]
  },
  {
   "cell_type": "code",
   "execution_count": 3,
   "metadata": {
    "executionInfo": {
     "elapsed": 25,
     "status": "ok",
     "timestamp": 1666881736057,
     "user": {
      "displayName": "Rohan Kaushik",
      "userId": "13918477614376051685"
     },
     "user_tz": -120
    },
    "id": "h_qXhHdbCgoj",
    "scrolled": false
   },
   "outputs": [],
   "source": [
    "colab_flag = False\n",
    "\n",
    "FTYPE = np.float32\n",
    "ITYPE = np.int32\n",
    "\n",
    "strategy = None\n",
    "# strategy = tf.distribute.MirroredStrategy()"
   ]
  },
  {
   "cell_type": "code",
   "execution_count": 4,
   "metadata": {
    "executionInfo": {
     "elapsed": 25,
     "status": "ok",
     "timestamp": 1666881736059,
     "user": {
      "displayName": "Rohan Kaushik",
      "userId": "13918477614376051685"
     },
     "user_tz": -120
    },
    "id": "BiLIUmBPneQR",
    "scrolled": false
   },
   "outputs": [],
   "source": [
    "current_sys = platform.system()\n",
    "\n",
    "if current_sys == 'Windows':\n",
    "    dir_sep = '\\\\'\n",
    "else:\n",
    "    dir_sep = '/'"
   ]
  },
  {
   "cell_type": "code",
   "execution_count": 5,
   "metadata": {
    "colab": {
     "base_uri": "https://localhost:8080/"
    },
    "executionInfo": {
     "elapsed": 3724,
     "status": "ok",
     "timestamp": 1666881739760,
     "user": {
      "displayName": "Rohan Kaushik",
      "userId": "13918477614376051685"
     },
     "user_tz": -120
    },
    "id": "fnTV6Anhni6O",
    "outputId": "73e76758-0242-43e5-f503-48adf76593b5",
    "scrolled": false
   },
   "outputs": [],
   "source": [
    "if colab_flag == True:\n",
    "    from google.colab import drive\n",
    "    drive.mount('/content/drive')\n",
    "    os.chdir('/content/drive/MyDrive/Github/MLROM/KS/')"
   ]
  },
  {
   "cell_type": "code",
   "execution_count": 6,
   "metadata": {
    "colab": {
     "base_uri": "https://localhost:8080/"
    },
    "executionInfo": {
     "elapsed": 22,
     "status": "ok",
     "timestamp": 1666881739761,
     "user": {
      "displayName": "Rohan Kaushik",
      "userId": "13918477614376051685"
     },
     "user_tz": -120
    },
    "id": "paDfPOrjnkAS",
    "outputId": "f0786e31-2aea-4ffa-e170-722245e6f70c",
    "scrolled": false
   },
   "outputs": [
    {
     "name": "stdout",
     "output_type": "stream",
     "text": [
      "/home/rkaushik/Documents/Thesis/MLROM/Kolmogorov\n"
     ]
    }
   ],
   "source": [
    "print(os.getcwd())"
   ]
  },
  {
   "cell_type": "code",
   "execution_count": 7,
   "metadata": {
    "executionInfo": {
     "elapsed": 18,
     "status": "ok",
     "timestamp": 1666881739761,
     "user": {
      "displayName": "Rohan Kaushik",
      "userId": "13918477614376051685"
     },
     "user_tz": -120
    },
    "id": "P6K2YWlR6ZPD",
    "scrolled": false
   },
   "outputs": [],
   "source": [
    "from tools.ae_v5 import Autoencoder as ae_v5\n",
    "from tools.ae_v6 import Autoencoder as ae_v6\n",
    "from tools.ae_v7 import Autoencoder as ae_v7\n",
    "from tools.ae_v8 import Autoencoder as ae_v8"
   ]
  },
  {
   "cell_type": "code",
   "execution_count": 8,
   "metadata": {
    "colab": {
     "base_uri": "https://localhost:8080/"
    },
    "executionInfo": {
     "elapsed": 18,
     "status": "ok",
     "timestamp": 1666881739762,
     "user": {
      "displayName": "Rohan Kaushik",
      "userId": "13918477614376051685"
     },
     "user_tz": -120
    },
    "id": "qvA9oeCHCTVM",
    "outputId": "f4c3fd7d-28db-4e93-c1ef-21cc1045663b",
    "scrolled": false
   },
   "outputs": [
    {
     "name": "stdout",
     "output_type": "stream",
     "text": [
      "[PhysicalDevice(name='/physical_device:GPU:0', device_type='GPU'), PhysicalDevice(name='/physical_device:GPU:1', device_type='GPU')]\n",
      "[LogicalDevice(name='/device:GPU:0', device_type='GPU')]\n"
     ]
    },
    {
     "name": "stderr",
     "output_type": "stream",
     "text": [
      "2023-06-14 09:09:09.153826: I tensorflow/stream_executor/cuda/cuda_gpu_executor.cc:936] successful NUMA node read from SysFS had negative value (-1), but there must be at least one NUMA node, so returning NUMA node zero\n",
      "2023-06-14 09:09:09.154345: I tensorflow/stream_executor/cuda/cuda_gpu_executor.cc:936] successful NUMA node read from SysFS had negative value (-1), but there must be at least one NUMA node, so returning NUMA node zero\n",
      "2023-06-14 09:09:09.195321: I tensorflow/stream_executor/cuda/cuda_gpu_executor.cc:936] successful NUMA node read from SysFS had negative value (-1), but there must be at least one NUMA node, so returning NUMA node zero\n",
      "2023-06-14 09:09:09.195622: I tensorflow/stream_executor/cuda/cuda_gpu_executor.cc:936] successful NUMA node read from SysFS had negative value (-1), but there must be at least one NUMA node, so returning NUMA node zero\n",
      "2023-06-14 09:09:09.195888: I tensorflow/stream_executor/cuda/cuda_gpu_executor.cc:936] successful NUMA node read from SysFS had negative value (-1), but there must be at least one NUMA node, so returning NUMA node zero\n",
      "2023-06-14 09:09:09.196139: I tensorflow/stream_executor/cuda/cuda_gpu_executor.cc:936] successful NUMA node read from SysFS had negative value (-1), but there must be at least one NUMA node, so returning NUMA node zero\n",
      "2023-06-14 09:09:09.197796: I tensorflow/core/platform/cpu_feature_guard.cc:151] This TensorFlow binary is optimized with oneAPI Deep Neural Network Library (oneDNN) to use the following CPU instructions in performance-critical operations:  SSE4.1 SSE4.2 AVX AVX2 FMA\n",
      "To enable them in other operations, rebuild TensorFlow with the appropriate compiler flags.\n",
      "2023-06-14 09:09:09.198624: I tensorflow/stream_executor/cuda/cuda_gpu_executor.cc:936] successful NUMA node read from SysFS had negative value (-1), but there must be at least one NUMA node, so returning NUMA node zero\n",
      "2023-06-14 09:09:09.198897: I tensorflow/stream_executor/cuda/cuda_gpu_executor.cc:936] successful NUMA node read from SysFS had negative value (-1), but there must be at least one NUMA node, so returning NUMA node zero\n",
      "2023-06-14 09:09:09.199089: I tensorflow/stream_executor/cuda/cuda_gpu_executor.cc:936] successful NUMA node read from SysFS had negative value (-1), but there must be at least one NUMA node, so returning NUMA node zero\n",
      "2023-06-14 09:09:09.785327: I tensorflow/stream_executor/cuda/cuda_gpu_executor.cc:936] successful NUMA node read from SysFS had negative value (-1), but there must be at least one NUMA node, so returning NUMA node zero\n",
      "2023-06-14 09:09:09.785542: I tensorflow/stream_executor/cuda/cuda_gpu_executor.cc:936] successful NUMA node read from SysFS had negative value (-1), but there must be at least one NUMA node, so returning NUMA node zero\n",
      "2023-06-14 09:09:09.785723: I tensorflow/stream_executor/cuda/cuda_gpu_executor.cc:936] successful NUMA node read from SysFS had negative value (-1), but there must be at least one NUMA node, so returning NUMA node zero\n",
      "2023-06-14 09:09:09.785873: I tensorflow/core/common_runtime/gpu/gpu_device.cc:1525] Created device /job:localhost/replica:0/task:0/device:GPU:0 with 3365 MB memory:  -> device: 1, name: Quadro K2200, pci bus id: 0000:03:00.0, compute capability: 5.0\n"
     ]
    }
   ],
   "source": [
    "gpus = tf.config.list_physical_devices('GPU')\n",
    "print(gpus)\n",
    "\n",
    "if colab_flag == False:\n",
    "    if strategy is None:\n",
    "        if gpus:\n",
    "            gpu_to_use = 1\n",
    "            tf.config.set_visible_devices(gpus[gpu_to_use], 'GPU')\n",
    "    logical_devices = tf.config.list_logical_devices('GPU')\n",
    "    print(logical_devices)"
   ]
  },
  {
   "cell_type": "code",
   "execution_count": 9,
   "metadata": {
    "colab": {
     "base_uri": "https://localhost:8080/"
    },
    "executionInfo": {
     "elapsed": 17,
     "status": "ok",
     "timestamp": 1666881739763,
     "user": {
      "displayName": "Rohan Kaushik",
      "userId": "13918477614376051685"
     },
     "user_tz": -120
    },
    "id": "tc3zO9xL_tNl",
    "outputId": "c91130b9-d725-4a03-bf17-6ba1ab3d839f",
    "scrolled": false
   },
   "outputs": [
    {
     "name": "stdout",
     "output_type": "stream",
     "text": [
      "[PhysicalDevice(name='/physical_device:CPU:0', device_type='CPU'), PhysicalDevice(name='/physical_device:GPU:0', device_type='GPU'), PhysicalDevice(name='/physical_device:GPU:1', device_type='GPU')]\n",
      "[LogicalDevice(name='/device:CPU:0', device_type='CPU'), LogicalDevice(name='/device:GPU:0', device_type='GPU')]\n",
      "2.8.1\n"
     ]
    }
   ],
   "source": [
    "# print(tf.test.gpu_device_name())\n",
    "print(tf.config.list_physical_devices())\n",
    "print(tf.config.list_logical_devices())\n",
    "print(tf.__version__)"
   ]
  },
  {
   "cell_type": "markdown",
   "metadata": {
    "id": "7UbdnOtc4_z9"
   },
   "source": [
    "# KS System"
   ]
  },
  {
   "cell_type": "code",
   "execution_count": 10,
   "metadata": {},
   "outputs": [],
   "source": [
    "prng_seed = 42\n",
    "np.random.seed(prng_seed)\n",
    "\n",
    "train_split = 0.8\n",
    "val_split = 0.1\n",
    "test_split = 0.1"
   ]
  },
  {
   "cell_type": "code",
   "execution_count": null,
   "metadata": {
    "executionInfo": {
     "elapsed": 13,
     "status": "ok",
     "timestamp": 1666881739763,
     "user": {
      "displayName": "Rohan Kaushik",
      "userId": "13918477614376051685"
     },
     "user_tz": -120
    },
    "id": "wIjaZVvsm7kC",
    "scrolled": false
   },
   "outputs": [],
   "source": []
  },
  {
   "cell_type": "code",
   "execution_count": null,
   "metadata": {},
   "outputs": [],
   "source": []
  },
  {
   "cell_type": "code",
   "execution_count": 11,
   "metadata": {
    "colab": {
     "base_uri": "https://localhost:8080/"
    },
    "executionInfo": {
     "elapsed": 13,
     "status": "ok",
     "timestamp": 1666881739764,
     "user": {
      "displayName": "Rohan Kaushik",
      "userId": "13918477614376051685"
     },
     "user_tz": -120
    },
    "id": "1Iyg8Bceiv_S",
    "outputId": "8e428d14-702a-4c97-958b-ae81d580a2c5",
    "scrolled": false
   },
   "outputs": [
    {
     "name": "stdout",
     "output_type": "stream",
     "text": [
      "24 <class 'int'>\n"
     ]
    }
   ],
   "source": [
    "from numpy import *\n",
    "\n",
    "data_dir_idx = '000'\n",
    "\n",
    "dir_name_data = os.getcwd() + dir_sep + 'saved_data' + dir_sep + 'data_' + data_dir_idx\n",
    "    \n",
    "with open(dir_name_data + dir_sep + 'sim_data.txt') as f:\n",
    "    lines = f.readlines()\n",
    "params_dict = eval(''.join(lines))\n",
    "Re = params_dict['Re']\n",
    "delta_t = params_dict['dTr']\n",
    "\n",
    "with h5py.File(dir_name_data + '/data.h5', 'r') as f:\n",
    "    t_recorded_samples = np.array(f['t'])\n",
    "    \n",
    "    N = int(0.5*(np.array(f['num_wavenumbers'])-1))\n",
    "    print(N, type(N))\n",
    "    \n",
    "    u_ref = np.array(f['u_reference'], dtype=FTYPE)\n",
    "    v_ref = np.array(f['v_reference'], dtype=FTYPE)"
   ]
  },
  {
   "cell_type": "code",
   "execution_count": 12,
   "metadata": {},
   "outputs": [],
   "source": [
    "all_data_og = np.empty(shape=(u_ref.shape[0], 2, u_ref.shape[1], u_ref.shape[2]), dtype=FTYPE)\n",
    "all_data_og[:, 0, :, :] = u_ref\n",
    "del(u_ref)\n",
    "all_data_og[:, 1, :, :] = v_ref\n",
    "del(v_ref)"
   ]
  },
  {
   "cell_type": "code",
   "execution_count": null,
   "metadata": {},
   "outputs": [],
   "source": []
  },
  {
   "cell_type": "code",
   "execution_count": 13,
   "metadata": {},
   "outputs": [
    {
     "name": "stdout",
     "output_type": "stream",
     "text": [
      "num_params :  1\n",
      "og_vars :  (2, 50, 50)\n",
      "all_data_og.shape :  (100001, 2, 50, 50)\n"
     ]
    }
   ],
   "source": [
    "num_params = 1\n",
    "og_vars = all_data_og.shape[1:]\n",
    "all_data_og_shape = all_data_og.shape\n",
    "\n",
    "print('num_params : ', num_params)\n",
    "print('og_vars : ', og_vars)\n",
    "print('all_data_og.shape : ', all_data_og_shape)"
   ]
  },
  {
   "cell_type": "code",
   "execution_count": 14,
   "metadata": {
    "scrolled": false
   },
   "outputs": [
    {
     "name": "stdout",
     "output_type": "stream",
     "text": [
      "all_data_og.shape :  (33334, 2, 50, 50)\n"
     ]
    }
   ],
   "source": [
    "all_data_og = all_data_og[::3]\n",
    "all_data_og_shape = all_data_og.shape\n",
    "print('all_data_og.shape : ', all_data_og_shape)"
   ]
  },
  {
   "cell_type": "code",
   "execution_count": 15,
   "metadata": {},
   "outputs": [],
   "source": [
    "num_train = int(all_data_og.shape[0]*train_split)\n",
    "num_val = int(all_data_og.shape[0]*val_split)\n",
    "num_test = all_data_og.shape[0] - num_train - num_val\n",
    "\n",
    "idx = np.arange(all_data_og.shape[0])\n",
    "np.random.shuffle(idx)\n",
    "\n",
    "training_data = np.empty(shape=(num_train, ) + tuple(all_data_og.shape[1:]), dtype=FTYPE)\n",
    "val_data = np.empty(shape=(num_val, ) + tuple(all_data_og.shape[1:]), dtype=FTYPE)\n",
    "testing_data = np.empty(shape=(num_test, ) + tuple(all_data_og.shape[1:]), dtype=FTYPE)\n",
    "\n",
    "training_data[:] = all_data_og[idx[0:num_train]]\n",
    "val_data[:] = all_data_og[idx[num_train:num_train+num_val]]\n",
    "testing_data[:] = all_data_og[idx[num_train+num_val:]]"
   ]
  },
  {
   "cell_type": "code",
   "execution_count": 16,
   "metadata": {},
   "outputs": [],
   "source": [
    "del(all_data_og)"
   ]
  },
  {
   "cell_type": "code",
   "execution_count": 17,
   "metadata": {},
   "outputs": [
    {
     "name": "stdout",
     "output_type": "stream",
     "text": [
      "training_data.shape :  (26667, 2, 50, 50)\n",
      "val_data.shape :  (3333, 2, 50, 50)\n",
      "testing_data.shape :  (3334, 2, 50, 50)\n"
     ]
    }
   ],
   "source": [
    "print('training_data.shape : ', training_data.shape)\n",
    "print('val_data.shape : ', val_data.shape)\n",
    "print('testing_data.shape : ', testing_data.shape)"
   ]
  },
  {
   "cell_type": "code",
   "execution_count": 18,
   "metadata": {
    "scrolled": false
   },
   "outputs": [],
   "source": [
    "podcentering_means_trainingdata = np.mean(training_data[:], axis=0)\n",
    "meancentered_trainingdata = training_data[:] - podcentering_means_trainingdata\n",
    "meancentered_trainingdata_flat = np.reshape(meancentered_trainingdata, (meancentered_trainingdata.shape[0], -1))\n",
    "\n",
    "covmat_trainingdata = np.matmul(\n",
    "    meancentered_trainingdata_flat.transpose(),\n",
    "    meancentered_trainingdata_flat\n",
    ") / (meancentered_trainingdata_flat.shape[0] - 1)\n",
    "# eigvals_og = np.abs(np.linalg.eigvals(covmat_og))\n",
    "# eigvals_og = np.sort(eigvals_og)\n",
    "# eigvals_og = eigvals_og[::-1]\n",
    "\n",
    "eigenvals_trainingdata, eigenvecs_trainingdata = linalg.eig(covmat_trainingdata)\n",
    "sorted_idx = np.argsort(eigenvals_trainingdata)\n",
    "eigenvals_trainingdata = eigenvals_trainingdata[sorted_idx]\n",
    "eigenvecs_trainingdata = eigenvecs_trainingdata[:, sorted_idx]\n",
    "\n",
    "eigvals_og = np.abs(eigenvals_trainingdata)\n",
    "eigvals_og = np.sort(eigvals_og)[::-1]"
   ]
  },
  {
   "cell_type": "code",
   "execution_count": 19,
   "metadata": {},
   "outputs": [
    {
     "name": "stdout",
     "output_type": "stream",
     "text": [
      "eigvals sum (trainingdata) :  3061.7083\n"
     ]
    }
   ],
   "source": [
    "print('eigvals sum (trainingdata) : ', np.sum(eigvals_og))"
   ]
  },
  {
   "cell_type": "code",
   "execution_count": 20,
   "metadata": {},
   "outputs": [],
   "source": [
    "podcentering_means_testingdata = np.mean(testing_data[:], axis=0)\n",
    "meancentered_testingdata = testing_data[:] - podcentering_means_testingdata\n",
    "meancentered_testingdata_flat = np.reshape(meancentered_testingdata, (meancentered_testingdata.shape[0], -1))\n",
    "\n",
    "covmat_testingdata = np.matmul(\n",
    "    meancentered_testingdata_flat.transpose(),\n",
    "    meancentered_testingdata_flat\n",
    ") / (meancentered_testingdata_flat.shape[0] - 1)\n",
    "# eigvals_og = np.abs(np.linalg.eigvals(covmat_og))\n",
    "# eigvals_og = np.sort(eigvals_og)\n",
    "# eigvals_og = eigvals_og[::-1]\n",
    "\n",
    "eigenvals_testingdata, eigenvecs_testingdata = linalg.eig(covmat_testingdata)\n",
    "sorted_idx = np.argsort(eigenvals_testingdata)\n",
    "eigenvals_testingdata = eigenvals_testingdata[sorted_idx]\n",
    "eigenvecs_testingdata = eigenvecs_testingdata[:, sorted_idx]\n",
    "\n",
    "eigvals_og = np.abs(eigenvals_testingdata)\n",
    "eigvals_og = np.sort(eigvals_og)[::-1]"
   ]
  },
  {
   "cell_type": "code",
   "execution_count": 21,
   "metadata": {
    "colab": {
     "base_uri": "https://localhost:8080/",
     "height": 370
    },
    "executionInfo": {
     "elapsed": 1439,
     "status": "ok",
     "timestamp": 1666881741193,
     "user": {
      "displayName": "Rohan Kaushik",
      "userId": "13918477614376051685"
     },
     "user_tz": -120
    },
    "id": "6zKGDWE-nBkC",
    "outputId": "935e3d2a-c78e-4e0b-f709-0afc683b4dd2",
    "scrolled": false
   },
   "outputs": [
    {
     "name": "stdout",
     "output_type": "stream",
     "text": [
      "eigvals sum (testingdata) :  3056.469\n"
     ]
    }
   ],
   "source": [
    "print('eigvals sum (testingdata) : ', np.sum(eigvals_og))"
   ]
  },
  {
   "cell_type": "code",
   "execution_count": 22,
   "metadata": {
    "colab": {
     "base_uri": "https://localhost:8080/"
    },
    "executionInfo": {
     "elapsed": 4785,
     "status": "ok",
     "timestamp": 1666881745969,
     "user": {
      "displayName": "Rohan Kaushik",
      "userId": "13918477614376051685"
     },
     "user_tz": -120
    },
    "id": "fyYb5aE0mqbg",
    "outputId": "3fc8ae85-4ab3-43a5-f6ee-3a7168b28bab",
    "scrolled": false
   },
   "outputs": [
    {
     "name": "stdout",
     "output_type": "stream",
     "text": [
      "chosen_dir_list: ['ae_036', 'ae_038', 'ae_037', 'ae_035', 'ae_040', 'ae_041', 'ae_042', 'ae_039']\n"
     ]
    }
   ],
   "source": [
    "dir_name_all_ae = os.getcwd()+'{ds}saved_ae'.format(ds=dir_sep)\n",
    "# dir_contents_list = os.listdir(dir_name_all_ae)\n",
    "# chosen_dir_list = []\n",
    "# for elem in dir_contents_list:\n",
    "#     dir_name_ae = dir_name_all_ae + dir_sep + elem\n",
    "#     if os.path.isdir(dir_name_ae):\n",
    "#         with open(dir_name_ae + dir_sep + 'ae_data.txt') as f:\n",
    "#             lines = f.readlines()\n",
    "#             params_dict = eval(''.join(lines))\n",
    "#             if data_dir_idx == params_dict['data_dir_idx']:\n",
    "#                 chosen_dir_list.append(elem)\n",
    "\n",
    "chosen_dir_list = [\n",
    "    'ae_036',\n",
    "    'ae_038',\n",
    "    'ae_037',\n",
    "    'ae_035',\n",
    "    'ae_040',\n",
    "    'ae_041',\n",
    "    'ae_042',\n",
    "    'ae_039',\n",
    "]\n",
    "print('chosen_dir_list:', chosen_dir_list)"
   ]
  },
  {
   "cell_type": "code",
   "execution_count": 23,
   "metadata": {
    "colab": {
     "base_uri": "https://localhost:8080/",
     "height": 1000,
     "output_embedded_package_id": "1HlIMAPkolsqKBbcu4lYHUcsAvUpxrr1O"
    },
    "executionInfo": {
     "elapsed": 34065,
     "status": "ok",
     "timestamp": 1666881779991,
     "user": {
      "displayName": "Rohan Kaushik",
      "userId": "13918477614376051685"
     },
     "user_tz": -120
    },
    "id": "Pu_rpXYUmT14",
    "outputId": "b648863c-7bc8-401e-bdfb-5c4fb4946551",
    "scrolled": true
   },
   "outputs": [
    {
     "name": "stdout",
     "output_type": "stream",
     "text": [
      "\n",
      "\n",
      "-------------------- ae_036 --------------------\n",
      "'use_ae_data' not present in RNN_specific_data, set to True.\n",
      "ae_module :  tools.ae_v5\n"
     ]
    },
    {
     "name": "stderr",
     "output_type": "stream",
     "text": [
      "2023-06-14 09:11:44.057433: I tensorflow/stream_executor/cuda/cuda_dnn.cc:368] Loaded cuDNN version 8401\n"
     ]
    },
    {
     "name": "stdout",
     "output_type": "stream",
     "text": [
      "\n",
      "\n",
      "-------------------- ae_038 --------------------\n",
      "'use_ae_data' not present in RNN_specific_data, set to True.\n",
      "ae_module :  tools.ae_v5\n",
      "\n",
      "\n",
      "-------------------- ae_037 --------------------\n",
      "'use_ae_data' not present in RNN_specific_data, set to True.\n",
      "ae_module :  tools.ae_v5\n",
      "\n",
      "\n",
      "-------------------- ae_035 --------------------\n",
      "'use_ae_data' not present in RNN_specific_data, set to True.\n",
      "ae_module :  tools.ae_v5\n",
      "\n",
      "\n",
      "-------------------- ae_040 --------------------\n",
      "'use_ae_data' not present in RNN_specific_data, set to True.\n",
      "ae_module :  tools.ae_v7\n",
      "WARNING:tensorflow:5 out of the last 5 calls to <function Autoencoder.call at 0x7fda2d75b0a0> triggered tf.function retracing. Tracing is expensive and the excessive number of tracings could be due to (1) creating @tf.function repeatedly in a loop, (2) passing tensors with different shapes, (3) passing Python objects instead of tensors. For (1), please define your @tf.function outside of the loop. For (2), @tf.function has experimental_relax_shapes=True option that relaxes argument shapes that can avoid unnecessary retracing. For (3), please refer to https://www.tensorflow.org/guide/function#controlling_retracing and https://www.tensorflow.org/api_docs/python/tf/function for  more details.\n",
      "\n",
      "\n",
      "-------------------- ae_041 --------------------\n",
      "'use_ae_data' not present in RNN_specific_data, set to True.\n",
      "ae_module :  tools.ae_v7\n",
      "WARNING:tensorflow:6 out of the last 6 calls to <function Autoencoder.call at 0x7fda601d93f0> triggered tf.function retracing. Tracing is expensive and the excessive number of tracings could be due to (1) creating @tf.function repeatedly in a loop, (2) passing tensors with different shapes, (3) passing Python objects instead of tensors. For (1), please define your @tf.function outside of the loop. For (2), @tf.function has experimental_relax_shapes=True option that relaxes argument shapes that can avoid unnecessary retracing. For (3), please refer to https://www.tensorflow.org/guide/function#controlling_retracing and https://www.tensorflow.org/api_docs/python/tf/function for  more details.\n",
      "\n",
      "\n",
      "-------------------- ae_042 --------------------\n",
      "'use_ae_data' not present in RNN_specific_data, set to True.\n",
      "ae_module :  tools.ae_v7\n",
      "\n",
      "\n",
      "-------------------- ae_039 --------------------\n",
      "'use_ae_data' not present in RNN_specific_data, set to True.\n",
      "ae_module :  tools.ae_v7\n"
     ]
    }
   ],
   "source": [
    "latent_states_shape_list = []\n",
    "kernel_size_list = []\n",
    "attention_used_list = []\n",
    "timeAvgEnergySpectrum = []\n",
    "covmat_list_AE = []\n",
    "eigvals_list_AE = []\n",
    "latent_states_covmat_list = []\n",
    "latent_states_eigenvals_list = []\n",
    "\n",
    "AE_recon_MSE_lst = []\n",
    "AE_recon_RMSE_lst = []\n",
    "AE_recon_NMSE_lst = []\n",
    "AE_recon_NRMSE_lst = []\n",
    "AE_recon_newNRMSE_lst = []\n",
    "\n",
    "for elem in chosen_dir_list:\n",
    "    print('\\n\\n-------------------- {} --------------------'.format(elem))\n",
    "    dir_name_ae = dir_name_all_ae + dir_sep + elem\n",
    "    # reading simulation parameters\n",
    "    with open(dir_name_ae + dir_sep + 'ae_data.txt') as f:\n",
    "        lines = f.readlines()\n",
    "    params_dict = eval(''.join(lines))\n",
    "    data_dir_idx = params_dict['data_dir_idx']\n",
    "    normalizeforae_flag = params_dict['normalizeforae_flag']\n",
    "    ae_module = params_dict['module']\n",
    "    try:\n",
    "        use_ae_data = params_rnn_dict['use_ae_data']\n",
    "    except:\n",
    "        print(\"'use_ae_data' not present in RNN_specific_data, set to True.\")\n",
    "        use_ae_data = True\n",
    "    try:\n",
    "        ae_data_with_params = params_dict['ae_data_with_params']\n",
    "    except:\n",
    "        print(\"'ae_data_with_params' not present in ae_data, set to 'True'.\")\n",
    "        ae_data_with_params = True\n",
    "\n",
    "    if os.path.exists(dir_name_ae+dir_sep+'normalization_data.npz'):\n",
    "        fl = np.load(dir_name_ae+dir_sep+'normalization_data.npz', allow_pickle=True)\n",
    "        normalization_constant_arr_aedata = fl['normalization_constant_arr_aedata'][0]\n",
    "    \n",
    "    # dealing with normalizing the data before feeding into autoencoder\n",
    "    all_data = testing_data\n",
    "    if normalizeforae_flag == True:\n",
    "        all_data = testing_data.copy()\n",
    "        all_data[:] -= normalization_constant_arr_aedata[0]\n",
    "        all_data[:] /= normalization_constant_arr_aedata[1]\n",
    "    # if ae_data_with_params == False:\n",
    "    #     all_data = all_data[:, 0:og_vars]\n",
    "    \n",
    "    load_file = dir_name_ae+dir_sep+'final_net'+dir_sep+'final_net_class_dict.txt'\n",
    "    wt_file = dir_name_ae+dir_sep+'final_net'+dir_sep+'final_net_ae_weights.h5'\n",
    "\n",
    "    print('ae_module : ', ae_module)\n",
    "    if ae_module.endswith('ae_v5') or ae_module.endswith('ae_v7'):\n",
    "        Autoencoder = ae_v7\n",
    "    elif ae_module.endswith('ae_v6') or ae_module.endswith('ae_v8'):\n",
    "        Autoencoder = ae_v8\n",
    "\n",
    "    ae_net = Autoencoder(load_file=load_file)\n",
    "#     ae_net.load_weights_from_file(wt_file)\n",
    "    ae_net.load_weights(wt_file, by_name=True)\n",
    "    \n",
    "    attention_used_list.append(ae_net.use_attention_module)\n",
    "    kernel_size_list.append(ae_net.kernel_size)\n",
    "\n",
    "    # create data\n",
    "    latent_states_all = ae_net.encoder_net.predict(all_data)\n",
    "    latent_states_shape = latent_states_all.shape[1:]\n",
    "    latent_states_shape_list.append(latent_states_shape)\n",
    "    \n",
    "    reconstructed_data = ae_net.decoder_net.predict(latent_states_all)\n",
    "\n",
    "    if normalizeforae_flag == True:\n",
    "        reconstructed_data[:] *= normalization_constant_arr_aedata[1]\n",
    "        reconstructed_data[:] += normalization_constant_arr_aedata[0]\n",
    "        all_data[:] *= normalization_constant_arr_aedata[1]\n",
    "        all_data[:] += normalization_constant_arr_aedata[0]\n",
    "\n",
    "    meancentereddata_ae = reconstructed_data[:] - np.mean(reconstructed_data[:], axis=0)\n",
    "    meancentereddata_flat_ae = np.reshape(meancentereddata_ae, (meancentereddata_ae.shape[0], -1))\n",
    "    covmat_ae = np.matmul(\n",
    "        meancentereddata_flat_ae.transpose(),\n",
    "        meancentereddata_flat_ae\n",
    "    ) / (meancentereddata_flat_ae.shape[0] - 1)\n",
    "    eigvals_ae = np.abs(np.linalg.eigvals(covmat_ae))\n",
    "    eigvals_ae = np.sort(eigvals_ae)\n",
    "    eigvals_ae = eigvals_ae[::-1]\n",
    "    covmat_list_AE.append(covmat_ae)\n",
    "    eigvals_list_AE.append(eigvals_ae)\n",
    "    \n",
    "    reconstruction_MSE = (reconstructed_data - all_data)**2\n",
    "    reconstruction_MSE = np.reshape(reconstruction_MSE, (reconstruction_MSE.shape[0], -1))\n",
    "    stddev_all_data = np.std(all_data, axis=0)\n",
    "    stddev_all_data = stddev_all_data.reshape((-1,))\n",
    "    normalized_recon_MSE = np.average(reconstruction_MSE/stddev_all_data**2, axis=1)\n",
    "    normalized_recon_RMSE = np.average(normalized_recon_MSE**0.5, axis=0)\n",
    "    normalized_recon_MSE = np.average(normalized_recon_MSE, axis=0)\n",
    "    reconstruction_MSE = np.average(reconstruction_MSE, axis=1)\n",
    "    reconstruction_newNRMSE = reconstruction_MSE / np.sum(stddev_all_data**2)\n",
    "    reconstruction_newNRMSE = np.average(reconstruction_newNRMSE**0.5, axis=0)\n",
    "    reconstruction_RMSE = np.average(reconstruction_MSE**0.5, axis=0)\n",
    "    reconstruction_MSE = np.average(reconstruction_MSE, axis=0)\n",
    "    \n",
    "    AE_recon_MSE_lst.append(reconstruction_MSE)\n",
    "    AE_recon_RMSE_lst.append(reconstruction_RMSE)\n",
    "    AE_recon_NMSE_lst.append(normalized_recon_MSE)\n",
    "    AE_recon_NRMSE_lst.append(normalized_recon_RMSE)\n",
    "    AE_recon_newNRMSE_lst.append(reconstruction_newNRMSE)\n",
    "    \n",
    "    del(latent_states_all)\n",
    "    del(reconstructed_data)"
   ]
  },
  {
   "cell_type": "code",
   "execution_count": 24,
   "metadata": {},
   "outputs": [],
   "source": [
    "# ae_net.encoder_attention_modules_list[0][0].name"
   ]
  },
  {
   "cell_type": "code",
   "execution_count": 25,
   "metadata": {},
   "outputs": [],
   "source": [
    "# ae_net.encoder_layers_list[0][8].name"
   ]
  },
  {
   "cell_type": "code",
   "execution_count": 26,
   "metadata": {},
   "outputs": [],
   "source": [
    "# import h5py"
   ]
  },
  {
   "cell_type": "code",
   "execution_count": 27,
   "metadata": {},
   "outputs": [],
   "source": [
    "# dir_name_temp = dir_name_all_ae+'/ae_039'\n",
    "# with h5py.File(dir_name_temp+'/final_net/final_net_ae_weights.h5', 'r') as f:\n",
    "#     for key in f.keys():\n",
    "#         print(key)\n",
    "#     l = f['attention_module_10/attention_module_10']\n",
    "#     print(l['Wh/kernel:0'])"
   ]
  },
  {
   "cell_type": "code",
   "execution_count": 28,
   "metadata": {},
   "outputs": [
    {
     "data": {
      "text/plain": [
       "(2, 2, 50, 50)"
      ]
     },
     "execution_count": 28,
     "metadata": {},
     "output_type": "execute_result"
    }
   ],
   "source": [
    "normalization_constant_arr_aedata.shape"
   ]
  },
  {
   "cell_type": "code",
   "execution_count": 29,
   "metadata": {
    "executionInfo": {
     "elapsed": 75,
     "status": "ok",
     "timestamp": 1666881779994,
     "user": {
      "displayName": "Rohan Kaushik",
      "userId": "13918477614376051685"
     },
     "user_tz": -120
    },
    "id": "O7sl7i5H5Dqz",
    "scrolled": false
   },
   "outputs": [
    {
     "name": "stderr",
     "output_type": "stream",
     "text": [
      "/tmp/ipykernel_3433990/2053377564.py:3: VisibleDeprecationWarning: Creating an ndarray from ragged nested sequences (which is a list-or-tuple of lists-or-tuples-or ndarrays with different lengths or shapes) is deprecated. If you meant to do this, you must specify 'dtype=object' when creating the ndarray.\n",
      "  kernel_size_list = np.array(kernel_size_list)[sorted_idx]\n"
     ]
    }
   ],
   "source": [
    "# sorted_idx = np.argsort(kernel_size_list)\n",
    "sorted_idx = np.arange(len(kernel_size_list))\n",
    "kernel_size_list = np.array(kernel_size_list)[sorted_idx]\n",
    "covmat_list_AE = np.array(covmat_list_AE)[sorted_idx, :]\n",
    "eigvals_list_AE = np.array(eigvals_list_AE)[sorted_idx, :]\n",
    "chosen_dir_list = np.array(chosen_dir_list)[sorted_idx]\n",
    "AE_recon_MSE_lst = np.array(AE_recon_MSE_lst)[sorted_idx]\n",
    "AE_recon_RMSE_lst = np.array(AE_recon_RMSE_lst)[sorted_idx]\n",
    "AE_recon_NMSE_lst = np.array(AE_recon_NMSE_lst)[sorted_idx]\n",
    "AE_recon_NRMSE_lst = np.array(AE_recon_NRMSE_lst)[sorted_idx]\n",
    "attention_used_list = np.array(attention_used_list)[sorted_idx]"
   ]
  },
  {
   "cell_type": "code",
   "execution_count": 30,
   "metadata": {},
   "outputs": [
    {
     "data": {
      "text/plain": [
       "array([2876.465 , 2921.2024, 2941.3342, 2926.4417, 2878.634 , 2914.3481,\n",
       "       2933.61  , 2939.1587], dtype=float32)"
      ]
     },
     "execution_count": 30,
     "metadata": {},
     "output_type": "execute_result"
    }
   ],
   "source": [
    "np.sum(eigvals_list_AE, axis=1)"
   ]
  },
  {
   "cell_type": "code",
   "execution_count": 52,
   "metadata": {},
   "outputs": [],
   "source": [
    "save_dir = dir_name_all_ae + '/AE_POD_comparisons'\n",
    "if not os.path.isdir(save_dir):\n",
    "    os.makedirs(save_dir)\n",
    "\n",
    "counter = 0\n",
    "while True:\n",
    "    dir_check = 'ae_pod_' + str(counter).zfill(3)\n",
    "    if os.path.isdir(save_dir + '/' + dir_check):\n",
    "        counter += 1\n",
    "    else:\n",
    "        break\n",
    "\n",
    "save_dir = save_dir + '/' + dir_check\n",
    "os.makedirs(save_dir)\n",
    "os.makedirs(save_dir+dir_sep+'plots')"
   ]
  },
  {
   "cell_type": "code",
   "execution_count": 104,
   "metadata": {},
   "outputs": [],
   "source": [
    "with open(save_dir+'/chosen_dirs.txt', 'w') as f:\n",
    "    s = 'dir_name, kernel_size, use_attention, latent_state_shape\\n'#, enc_filters, dec_filters/n'\n",
    "    f.write(s)\n",
    "    for i in range(len(chosen_dir_list)):\n",
    "        s = chosen_dir_list[i] + ', ' + str(kernel_size_list[i])\n",
    "        s += ', ' + str(attention_used_list[i]) + ', ' + str(latent_states_shape_list[i]) + '\\n'\n",
    "        f.write(s)"
   ]
  },
  {
   "cell_type": "code",
   "execution_count": 59,
   "metadata": {
    "colab": {
     "base_uri": "https://localhost:8080/",
     "height": 279
    },
    "executionInfo": {
     "elapsed": 75,
     "status": "ok",
     "timestamp": 1666881779997,
     "user": {
      "displayName": "Rohan Kaushik",
      "userId": "13918477614376051685"
     },
     "user_tz": -120
    },
    "id": "ySVDz_2U5FH5",
    "outputId": "b7c7374d-957b-439d-8876-014a1adde398",
    "scrolled": false
   },
   "outputs": [
    {
     "data": {
      "image/png": "[encoded data removed]",
      "text/plain": [
       "<Figure size 640x480 with 1 Axes>"
      ]
     },
     "metadata": {},
     "output_type": "display_data"
    }
   ],
   "source": [
    "if len(np.where(attention_used_list==True)[0]) > 0:\n",
    "    plt.plot(\n",
    "        # kernel_size_list[attention_used_list],\n",
    "        np.sum(eigvals_list_AE[attention_used_list], axis=1)/np.sum(eigvals_og),\n",
    "        '--',\n",
    "        marker='o',\n",
    "        label=r'With Attention'\n",
    "    )\n",
    "if len(np.where(attention_used_list==False)[0]) > 0:\n",
    "    plt.plot(\n",
    "        # kernel_size_list[np.logical_not(attention_used_list)],\n",
    "        np.sum(eigvals_list_AE[np.logical_not(attention_used_list)], axis=1)/np.sum(eigvals_og),\n",
    "        '--',\n",
    "        marker='^',\n",
    "        label=r'Without Attention'\n",
    "    )\n",
    "plt.grid(True)\n",
    "plt.xlabel('Kernel Size(s)', fontsize=15)\n",
    "plt.ylabel('Energy content of reconstructed\\ndata relative to original data', fontsize=15)\n",
    "# plt.ylim([0, 1.2])\n",
    "\n",
    "xtick_labels = []\n",
    "for i in range(len(kernel_size_list)):\n",
    "    if len(kernel_size_list[i]) == 1:\n",
    "        xl = '$'+str(kernel_size_list[i][0])+'$'\n",
    "    else:\n",
    "        xl = '$[' + ', '.join([str(elem) for elem in np.sort(kernel_size_list[i])]) + ']$'\n",
    "    match_flag = False\n",
    "    for j in range(len(xtick_labels)):\n",
    "        if xtick_labels[j] == xl:\n",
    "            match_flag = True\n",
    "    if match_flag == False:\n",
    "        xtick_labels.append(xl)\n",
    "        \n",
    "# plt.xticks(\n",
    "#     np.arange(0, len(kernel_size_list)),\n",
    "#     labels=[\n",
    "#         r'$'+', '.join([str(elem) for elem in kernels])+'$' for kernels in kernel_size_list\n",
    "#     ]\n",
    "# )\n",
    "plt.xticks(np.arange(0, len(xtick_labels)), labels=xtick_labels)\n",
    "\n",
    "plt.legend(fontsize=12)\n",
    "plt.gca().tick_params(axis='x', labelsize=12)\n",
    "plt.gca().tick_params(axis='y', labelsize=12)\n",
    "\n",
    "\n",
    "plt.savefig(save_dir+'/plots/energy_content_ONLY_AE.png', dpi=300, bbox_inches='tight')\n",
    "plt.show()"
   ]
  },
  {
   "cell_type": "code",
   "execution_count": 58,
   "metadata": {
    "scrolled": false
   },
   "outputs": [
    {
     "data": {
      "image/png": "[encoded data removed]",
      "text/plain": [
       "<Figure size 640x480 with 1 Axes>"
      ]
     },
     "metadata": {},
     "output_type": "display_data"
    }
   ],
   "source": [
    "if len(np.where(attention_used_list==True)[0]) > 0:\n",
    "    plt.semilogy(\n",
    "#         kernel_size_list[attention_used_list],\n",
    "        AE_recon_NRMSE_lst[attention_used_list],\n",
    "        '--',\n",
    "        marker='o',\n",
    "        label=r'With Attention'\n",
    "    )\n",
    "if len(np.where(attention_used_list==False)[0]) > 0:\n",
    "    plt.semilogy(\n",
    "#         kernel_size_list[np.logical_not(attention_used_list)],\n",
    "        AE_recon_NRMSE_lst[np.logical_not(attention_used_list)],\n",
    "        '--',\n",
    "        marker='^',\n",
    "        label=r'Without Attention'\n",
    "    )\n",
    "plt.grid(True)\n",
    "plt.xlabel('Kernel Size', fontsize=15)\n",
    "plt.ylabel('NRMSE', fontsize=15)\n",
    "# plt.xticks(\n",
    "#     np.arange(0, len(kernel_size_list)),\n",
    "#     labels=[\n",
    "#         r'$'+', '.join([str(elem) for elem in kernels])+'$' for kernels in kernel_size_list\n",
    "#     ]\n",
    "# )\n",
    "plt.xticks(\n",
    "    np.arange(0, len(xtick_labels)),\n",
    "    labels=xtick_labels,\n",
    ")\n",
    "plt.legend(fontsize=12)\n",
    "plt.gca().tick_params(axis='x', labelsize=12)\n",
    "plt.gca().tick_params(axis='y', labelsize=12)\n",
    "\n",
    "plt.savefig(save_dir+'/plots/NRMSE_ONLY_AE.png', dpi=300, bbox_inches='tight')\n",
    "plt.show()"
   ]
  },
  {
   "cell_type": "code",
   "execution_count": 60,
   "metadata": {},
   "outputs": [
    {
     "data": {
      "image/png": "[encoded data removed]",
      "text/plain": [
       "<Figure size 640x480 with 1 Axes>"
      ]
     },
     "metadata": {},
     "output_type": "display_data"
    }
   ],
   "source": [
    "if len(np.where(attention_used_list==True)[0]) > 0:\n",
    "    plt.semilogy(\n",
    "#         kernel_size_list[attention_used_list],\n",
    "        AE_recon_MSE_lst[attention_used_list],\n",
    "        '--',\n",
    "        marker='o',\n",
    "        label=r'With Attention'\n",
    "    )\n",
    "if len(np.where(attention_used_list==False)[0]) > 0:\n",
    "    plt.semilogy(\n",
    "#         kernel_size_list[np.logical_not(attention_used_list)],\n",
    "        AE_recon_MSE_lst[np.logical_not(attention_used_list)],\n",
    "        '--',\n",
    "        marker='^',\n",
    "        label=r'Without Attention'\n",
    "    )\n",
    "plt.grid(True)\n",
    "plt.xlabel('Kernel Size', fontsize=15)\n",
    "plt.ylabel('MSE', fontsize=15)\n",
    "# plt.xticks(\n",
    "#     np.arange(0, len(kernel_size_list)),\n",
    "#     labels=[\n",
    "#         r'$'+', '.join([str(elem) for elem in kernels])+'$' for kernels in kernel_size_list\n",
    "#     ]\n",
    "# )\n",
    "plt.xticks(\n",
    "    np.arange(0, len(xtick_labels)),\n",
    "    labels=xtick_labels,\n",
    ")\n",
    "plt.legend(fontsize=12)\n",
    "plt.gca().tick_params(axis='x', labelsize=12)\n",
    "plt.gca().tick_params(axis='y', labelsize=12)\n",
    "\n",
    "plt.savefig(save_dir+'/plots/MSE_ONLY_AE.png', dpi=300, bbox_inches='tight')\n",
    "plt.show()"
   ]
  },
  {
   "cell_type": "code",
   "execution_count": 61,
   "metadata": {},
   "outputs": [
    {
     "data": {
      "image/png": "[encoded data removed]",
      "text/plain": [
       "<Figure size 640x480 with 1 Axes>"
      ]
     },
     "metadata": {},
     "output_type": "display_data"
    }
   ],
   "source": [
    "AE_recon_newNRMSE_lst = np.array(AE_recon_newNRMSE_lst)\n",
    "\n",
    "if len(np.where(attention_used_list==True)[0]) > 0:\n",
    "    plt.semilogy(\n",
    "#         kernel_size_list[attention_used_list],\n",
    "        AE_recon_newNRMSE_lst[attention_used_list],\n",
    "        '--',\n",
    "        marker='o',\n",
    "        label=r'With Attention'\n",
    "    )\n",
    "if len(np.where(attention_used_list==False)[0]) > 0:\n",
    "    plt.semilogy(\n",
    "#         kernel_size_list[np.logical_not(attention_used_list)],\n",
    "        AE_recon_newNRMSE_lst[np.logical_not(attention_used_list)],\n",
    "        '--',\n",
    "        marker='^',\n",
    "        label=r'Without Attention'\n",
    "    )\n",
    "plt.grid(True)\n",
    "plt.xlabel('Kernel Size', fontsize=15)\n",
    "plt.ylabel('new NRMSE', fontsize=15)\n",
    "# plt.xticks(\n",
    "#     np.arange(0, len(kernel_size_list)),\n",
    "#     labels=[\n",
    "#         r'$'+', '.join([str(elem) for elem in kernels])+'$' for kernels in kernel_size_list\n",
    "#     ]\n",
    "# )\n",
    "plt.xticks(\n",
    "    np.arange(0, len(xtick_labels)),\n",
    "    labels=xtick_labels,\n",
    ")\n",
    "plt.legend(fontsize=12)\n",
    "plt.gca().tick_params(axis='x', labelsize=12)\n",
    "plt.gca().tick_params(axis='y', labelsize=12)\n",
    "\n",
    "plt.savefig(save_dir+'/plots/newNRMSE_ONLY_AE.png', dpi=300, bbox_inches='tight')\n",
    "plt.show()"
   ]
  },
  {
   "cell_type": "code",
   "execution_count": 62,
   "metadata": {},
   "outputs": [
    {
     "data": {
      "image/png": "[encoded data removed]",
      "text/plain": [
       "<Figure size 640x480 with 1 Axes>"
      ]
     },
     "metadata": {},
     "output_type": "display_data"
    }
   ],
   "source": [
    "if len(np.where(attention_used_list==True)[0]) > 0:\n",
    "    plt.semilogy(\n",
    "#         kernel_size_list[attention_used_list],\n",
    "        1-AE_recon_newNRMSE_lst[attention_used_list],\n",
    "        '--',\n",
    "        marker='o',\n",
    "        label=r'With Attention'\n",
    "    )\n",
    "if len(np.where(attention_used_list==False)[0]) > 0:\n",
    "    plt.semilogy(\n",
    "#         kernel_size_list[np.logical_not(attention_used_list)],\n",
    "        1-AE_recon_newNRMSE_lst[np.logical_not(attention_used_list)],\n",
    "        '--',\n",
    "        marker='^',\n",
    "        label=r'Without Attention'\n",
    "    )\n",
    "plt.grid(True)\n",
    "plt.xlabel('Kernel Size', fontsize=15)\n",
    "plt.ylabel('1 - new NRMSE', fontsize=15)\n",
    "\n",
    "# plt.xticks(\n",
    "#     np.arange(0, len(kernel_size_list)),\n",
    "#     labels=[\n",
    "#         r'$'+', '.join([str(elem) for elem in kernels])+'$' for kernels in kernel_size_list\n",
    "#     ]\n",
    "# )\n",
    "plt.xticks(\n",
    "    np.arange(0, len(xtick_labels)),\n",
    "    labels=xtick_labels,\n",
    ")\n",
    "plt.legend(fontsize=12)\n",
    "plt.gca().tick_params(axis='x', labelsize=12)\n",
    "plt.gca().tick_params(axis='y', labelsize=12)\n",
    "\n",
    "plt.savefig(save_dir+'/plots/oneminusnewNRMSE_ONLY_AE.png', dpi=300, bbox_inches='tight')\n",
    "plt.show()"
   ]
  },
  {
   "cell_type": "markdown",
   "metadata": {
    "id": "1v6KQEjR5LkK"
   },
   "source": [
    "# POD"
   ]
  },
  {
   "cell_type": "code",
   "execution_count": null,
   "metadata": {
    "executionInfo": {
     "elapsed": 71,
     "status": "ok",
     "timestamp": 1666881779999,
     "user": {
      "displayName": "Rohan Kaushik",
      "userId": "13918477614376051685"
     },
     "user_tz": -120
    },
    "id": "ZBTJl9PeneQb",
    "scrolled": false
   },
   "outputs": [],
   "source": []
  },
  {
   "cell_type": "code",
   "execution_count": null,
   "metadata": {
    "executionInfo": {
     "elapsed": 448,
     "status": "ok",
     "timestamp": 1666881780380,
     "user": {
      "displayName": "Rohan Kaushik",
      "userId": "13918477614376051685"
     },
     "user_tz": -120
    },
    "id": "a3Pq-qorneQb",
    "scrolled": false
   },
   "outputs": [],
   "source": []
  },
  {
   "cell_type": "code",
   "execution_count": 63,
   "metadata": {
    "scrolled": true
   },
   "outputs": [],
   "source": [
    "# for i in range(len(eigenvals)):\n",
    "#     ev = eigenvals[i]\n",
    "#     if ev < 0.0:\n",
    "#         print(i, ev)\n",
    "# #         eigenvals[i] *= -1\n",
    "# #         eigenvecs[:, i] *= -1\n",
    "# #         print(i, ev)"
   ]
  },
  {
   "cell_type": "code",
   "execution_count": null,
   "metadata": {
    "executionInfo": {
     "elapsed": 35,
     "status": "ok",
     "timestamp": 1666881780383,
     "user": {
      "displayName": "Rohan Kaushik",
      "userId": "13918477614376051685"
     },
     "user_tz": -120
    },
    "id": "Q3a8HHyvneQc",
    "scrolled": false
   },
   "outputs": [],
   "source": [
    "# sorted_idx = np.argsort(eigenvals)\n",
    "# eigenvals = eigenvals[sorted_idx]\n",
    "# eigenvecs = eigenvecs[:, sorted_idx]"
   ]
  },
  {
   "cell_type": "code",
   "execution_count": null,
   "metadata": {
    "scrolled": true
   },
   "outputs": [],
   "source": [
    "# print(eigenvals)\n",
    "\n",
    "# for i in range(eigenvecs.shape[1]):\n",
    "#     print('norm(ev[:, {}]) : {}'.format(i, np.sum(eigenvecs[:, i]**2)))"
   ]
  },
  {
   "cell_type": "code",
   "execution_count": 37,
   "metadata": {},
   "outputs": [
    {
     "name": "stdout",
     "output_type": "stream",
     "text": [
      "[(3, 3, 3)]\n"
     ]
    }
   ],
   "source": [
    "latent_states_shape_set = set(latent_states_shape_list)\n",
    "latent_states_shape_set = list(latent_states_shape_set)\n",
    "print(latent_states_shape_set)"
   ]
  },
  {
   "cell_type": "code",
   "execution_count": 38,
   "metadata": {
    "executionInfo": {
     "elapsed": 35,
     "status": "ok",
     "timestamp": 1666881780385,
     "user": {
      "displayName": "Rohan Kaushik",
      "userId": "13918477614376051685"
     },
     "user_tz": -120
    },
    "id": "wjgPNitSrt5p",
    "scrolled": false
   },
   "outputs": [],
   "source": [
    "# pod_timeAvgEnergySpectrum = []\n",
    "# pod_idx_list = []\n",
    "covmat_list_pod = {}\n",
    "eigvals_list_pod = {}\n",
    "POD_recon_MSE_lst = {}\n",
    "POD_recon_RMSE_lst = {}\n",
    "POD_recon_NMSE_lst = {}\n",
    "POD_recon_NRMSE_lst = {}\n",
    "POD_recon_newNRMSE_lst = {}\n",
    "\n",
    "stddev_all_data = np.std(testing_data, axis=0)\n",
    "stddev_all_data = np.reshape(stddev_all_data, (-1,))\n",
    "\n",
    "for latent_states_shape in latent_states_shape_set:\n",
    "    # num_latent_states = num_latent_states_list[i]\n",
    "    num_latent_states = 1\n",
    "    for dim in latent_states_shape:\n",
    "        num_latent_states *= dim\n",
    "    Wl = eigenvecs_trainingdata[:, -num_latent_states:]\n",
    "    Xl = np.reshape(\n",
    "        testing_data-podcentering_means_trainingdata,\n",
    "        (testing_data.shape[0], -1)\n",
    "    ) @ Wl @ Wl.transpose()\n",
    "    Xl = np.reshape(Xl, (Xl.shape[0],)+tuple(all_data_og_shape[1:]))\n",
    "    Xl += podcentering_means_trainingdata\n",
    "    # FourierCoeffs = fft.fft(Xl, axis=1)\n",
    "    # energySpectrum = FourierCoeffs.real**2 + FourierCoeffs.imag**2\n",
    "    # energySpectrum = np.mean(energySpectrum, axis=0)\n",
    "    # pod_timeAvgEnergySpectrum.append(energySpectrum)\n",
    "    \n",
    "    meancentereddata_pod = Xl - np.mean(Xl, axis=0)\n",
    "    meancentereddata_flat_pod = np.reshape(meancentereddata_pod, (meancentereddata_pod.shape[0], -1))\n",
    "    covmat_pod = np.matmul(meancentereddata_flat_pod.transpose(), meancentereddata_flat_pod) / (meancentereddata_pod.shape[0] - 1)\n",
    "    eigvals_pod = np.abs(np.linalg.eigvals(covmat_pod))\n",
    "    eigvals_pod = np.sort(eigvals_pod)\n",
    "    eigvals_pod = eigvals_pod[::-1]\n",
    "    covmat_list_pod[str(num_latent_states)] = covmat_pod\n",
    "    eigvals_list_pod[str(num_latent_states)] = eigvals_pod\n",
    "    \n",
    "    reconstruction_MSE = (Xl - testing_data)**2\n",
    "    reconstruction_MSE = np.reshape(reconstruction_MSE, (reconstruction_MSE.shape[0], -1))\n",
    "#     stddev_all_data = np.std(all_data_og, axis=0)\n",
    "    normalized_recon_MSE = np.average(reconstruction_MSE/stddev_all_data**2, axis=1)\n",
    "    normalized_recon_RMSE = np.average(normalized_recon_MSE**0.5, axis=0)\n",
    "    normalized_recon_MSE = np.average(normalized_recon_MSE, axis=0)\n",
    "    reconstruction_MSE = np.average(reconstruction_MSE, axis=1)\n",
    "    reconstruction_newNRMSE = reconstruction_MSE / np.sum(stddev_all_data**2)\n",
    "    reconstruction_newNRMSE = np.average(reconstruction_newNRMSE**0.5, axis=0)\n",
    "    reconstruction_RMSE = np.average(reconstruction_MSE**0.5, axis=0)\n",
    "    reconstruction_MSE = np.average(reconstruction_MSE, axis=0)\n",
    "    \n",
    "    POD_recon_MSE_lst[str(num_latent_states)] = reconstruction_MSE\n",
    "    POD_recon_RMSE_lst[str(num_latent_states)] = reconstruction_RMSE\n",
    "    POD_recon_NMSE_lst[str(num_latent_states)] = normalized_recon_MSE\n",
    "    POD_recon_NRMSE_lst[str(num_latent_states)] = normalized_recon_RMSE\n",
    "    POD_recon_newNRMSE_lst[str(num_latent_states)] = reconstruction_newNRMSE"
   ]
  },
  {
   "cell_type": "code",
   "execution_count": 39,
   "metadata": {},
   "outputs": [],
   "source": [
    "# POD_recon_MSE_lst = np.array(POD_recon_MSE_lst)\n",
    "# POD_recon_RMSE_lst = np.array(POD_recon_RMSE_lst)\n",
    "# POD_recon_NMSE_lst = np.array(POD_recon_NMSE_lst)\n",
    "# POD_recon_NRMSE_lst = np.array(POD_recon_NRMSE_lst)\n",
    "# POD_recon_newNRMSE_lst = np.array(POD_recon_newNRMSE_lst)"
   ]
  },
  {
   "cell_type": "code",
   "execution_count": 111,
   "metadata": {},
   "outputs": [],
   "source": [
    "if type(POD_recon_MSE_lst) == type(np.array(['a'])):\n",
    "    POD_recon_MSE_lst = POD_recon_MSE_lst.item()\n",
    "if type(POD_recon_RMSE_lst) == type(np.array(['a'])):\n",
    "    POD_recon_RMSE_lst = POD_recon_RMSE_lst.item()\n",
    "if type(POD_recon_NMSE_lst) == type(np.array(['a'])):\n",
    "    POD_recon_NMSE_lst = POD_recon_NMSE_lst.item()\n",
    "if type(POD_recon_NRMSE_lst) == type(np.array(['a'])):\n",
    "    POD_recon_NRMSE_lst = POD_recon_NRMSE_lst.item()\n",
    "if type(POD_recon_newNRMSE_lst) == type(np.array(['a'])):\n",
    "    POD_recon_newNRMSE_lst = POD_recon_newNRMSE_lst.item()"
   ]
  },
  {
   "cell_type": "code",
   "execution_count": 40,
   "metadata": {},
   "outputs": [
    {
     "name": "stdout",
     "output_type": "stream",
     "text": [
      "num_latent_states :  27\n"
     ]
    }
   ],
   "source": [
    "print('num_latent_states : ', num_latent_states)"
   ]
  },
  {
   "cell_type": "markdown",
   "metadata": {},
   "source": [
    "# Comparison of Time Averaged RMSE"
   ]
  },
  {
   "cell_type": "code",
   "execution_count": 41,
   "metadata": {
    "scrolled": false
   },
   "outputs": [],
   "source": [
    "# stddev_all_data = np.std(all_data_og, axis=0)\n",
    "# stddev_all_data = np.reshape(stddev_all_data, (-1,))\n",
    "\n",
    "# for latent_states_shape in [[20]]:\n",
    "#     # num_latent_states = num_latent_states_list[i]\n",
    "#     num_latent_states = 1\n",
    "#     for dim in latent_states_shape:\n",
    "#         num_latent_states *= dim\n",
    "#     Wl = eigenvecs[:, -num_latent_states:]\n",
    "#     Xl = np.reshape(all_data_og-podcentering_means, (all_data_og.shape[0], -1)) @ Wl @ Wl.transpose()\n",
    "#     Xl = np.reshape(Xl, (Xl.shape[0],)+tuple(all_data_og_shape[1:]))\n",
    "#     Xl += podcentering_means\n",
    "#     # FourierCoeffs = fft.fft(Xl, axis=1)\n",
    "#     # energySpectrum = FourierCoeffs.real**2 + FourierCoeffs.imag**2\n",
    "#     # energySpectrum = np.mean(energySpectrum, axis=0)\n",
    "#     # pod_timeAvgEnergySpectrum.append(energySpectrum)\n",
    "    \n",
    "#     meancentereddata_pod = Xl - np.mean(Xl, axis=0)\n",
    "#     meancentereddata_flat_pod = np.reshape(meancentereddata_pod, (meancentereddata_pod.shape[0], -1))\n",
    "#     covmat_pod = np.matmul(meancentereddata_flat_pod.transpose(), meancentereddata_flat_pod) / (meancentereddata_pod.shape[0] - 1)\n",
    "#     eigvals_pod = np.abs(np.linalg.eigvals(covmat_pod))\n",
    "#     eigvals_pod = np.sort(eigvals_pod)\n",
    "#     eigvals_pod = eigvals_pod[::-1]\n",
    "    \n",
    "#     reconstruction_MSE = (Xl - all_data_og)**2\n",
    "#     reconstruction_MSE = np.reshape(reconstruction_MSE, (reconstruction_MSE.shape[0], -1))\n",
    "# #     stddev_all_data = np.std(all_data_og, axis=0)\n",
    "#     normalized_recon_MSE = np.average(reconstruction_MSE/stddev_all_data**2, axis=1)\n",
    "#     normalized_recon_RMSE = np.average(normalized_recon_MSE**0.5, axis=0)\n",
    "#     normalized_recon_MSE = np.average(normalized_recon_MSE, axis=0)\n",
    "#     reconstruction_MSE = np.average(reconstruction_MSE, axis=1)\n",
    "#     reconstruction_RMSE = np.average(reconstruction_MSE**0.5, axis=0)\n",
    "#     reconstruction_MSE = np.average(reconstruction_MSE, axis=0)\n",
    "    \n",
    "#     print('reconstruction_MSE : ', reconstruction_MSE)\n",
    "#     print('reconstruction_RMSE : ', reconstruction_RMSE)\n",
    "#     print('normalized_recon_MSE : ', normalized_recon_MSE)\n",
    "#     print('normalized_recon_RMSE : ', normalized_recon_RMSE)\n",
    "#     print('eigvals_ratio : ', np.sum(eigvals_pod)/np.sum(eigvals_og))"
   ]
  },
  {
   "cell_type": "code",
   "execution_count": null,
   "metadata": {
    "colab": {
     "base_uri": "https://localhost:8080/",
     "height": 295
    },
    "executionInfo": {
     "elapsed": 2265,
     "status": "ok",
     "timestamp": 1666881886306,
     "user": {
      "displayName": "Rohan Kaushik",
      "userId": "13918477614376051685"
     },
     "user_tz": -120
    },
    "id": "X85PatZNxpWO",
    "outputId": "dd031cb9-03d1-4e35-e4ee-35cd3587560f",
    "scrolled": false
   },
   "outputs": [],
   "source": []
  },
  {
   "cell_type": "code",
   "execution_count": 115,
   "metadata": {
    "executionInfo": {
     "elapsed": 30,
     "status": "ok",
     "timestamp": 1666881780387,
     "user": {
      "displayName": "Rohan Kaushik",
      "userId": "13918477614376051685"
     },
     "user_tz": -120
    },
    "id": "tSrsL5bG1KId",
    "scrolled": false
   },
   "outputs": [
    {
     "data": {
      "image/png": "[encoded data removed]",
      "text/plain": [
       "<Figure size 640x480 with 1 Axes>"
      ]
     },
     "metadata": {},
     "output_type": "display_data"
    }
   ],
   "source": [
    "width = 0.15\n",
    "ind = np.arange(len(kernel_size_list[attention_used_list]))\n",
    "\n",
    "if len(np.where(attention_used_list==True)[0]) > 0:\n",
    "    plt.bar(\n",
    "        np.arange(len(kernel_size_list[attention_used_list]))-width,\n",
    "        np.sum(eigvals_list_AE[attention_used_list], axis=1)/np.sum(eigvals_og),\n",
    "        width,\n",
    "        label=r'AE (with attention)'\n",
    "    )\n",
    "\n",
    "if len(np.where(attention_used_list==False)[0]) > 0:\n",
    "    plt.bar(\n",
    "        np.arange(len(kernel_size_list[np.logical_not(attention_used_list)])),\n",
    "        np.sum(eigvals_list_AE[np.logical_not(attention_used_list)], axis=1)/np.sum(eigvals_og),\n",
    "        width,\n",
    "        label=r'AE (without attention)'\n",
    "    )\n",
    "\n",
    "plt.bar(\n",
    "    np.arange(len(kernel_size_list[attention_used_list]))+width,\n",
    "    np.sum(eigvals_list_pod['27'])/np.sum(eigvals_og),\n",
    "    width,\n",
    "    label=r'POD'\n",
    ")\n",
    "\n",
    "# plt.bar(ind+width, np.sum(eigvals_list_pod, axis=1)/np.sum(eigvals_og), width, label='POD')\n",
    "\n",
    "\n",
    "plt.grid(True)\n",
    "plt.xlabel('Kernel Size', fontsize=15)\n",
    "plt.ylabel('Energy content of reconstructed\\ndata relative to original data', fontsize=15)\n",
    "# plt.xticks(ind, [r''+str(elem) for elem in kernel_size_list[attention_used_list]])\n",
    "plt.xticks(\n",
    "    ind,\n",
    "#     labels=[\n",
    "#         r'$'+', '.join([str(elem) for elem in kernels])+'$' for kernels in kernel_size_list[attention_used_list]\n",
    "#     ]\n",
    "    labels=xtick_labels\n",
    ")\n",
    "# plt.ylim([-0.05, 1.05])\n",
    "plt.xlim(-0.5, ind[-1]+width+0.5)\n",
    "plt.legend(loc='lower right', fontsize=12)\n",
    "plt.gca().tick_params(axis='x', labelsize=12)\n",
    "plt.gca().tick_params(axis='y', labelsize=12)\n",
    "\n",
    "plt.savefig(save_dir+'/plots/energy_content_AE_and_POD.png', dpi=300, bbox_inches='tight')\n",
    "plt.show()\n",
    "\n",
    "# print('AE:', np.sum(timeAvgEnergySpectrum, axis=1)/np.sum(energySpectrum_og))\n",
    "# print('POD:', np.sum(pod_timeAvgEnergySpectrum, axis=1)/np.sum(energySpectrum_og))\n",
    "# print('AE:', np.sum(eigvals_list_AE, axis=1)/np.sum(eigvals_og))\n",
    "# print('POD:', np.sum(eigvals_list_pod, axis=1)/np.sum(eigvals_og))\n",
    "\n",
    "with open(save_dir+'/energy_content_AE_POD.txt', 'w') as f:\n",
    "    s =  '   kernel_size_list : '\n",
    "    temp_lst = [str(elem) for elem in kernel_size_list]\n",
    "    s += ', '.join(temp_lst)\n",
    "    s += \"\\n\"\n",
    "    s +=  'attention_used_list : '\n",
    "    temp_lst = [str(elem) for elem in attention_used_list]\n",
    "    s += ', '.join(temp_lst)\n",
    "    s += \"\\n\"\n",
    "    s += '                 AE : '\n",
    "    temp_lst = [\"{:.4f} %\".format(100*elem) for elem in np.sum(eigvals_list_AE, axis=1)/np.sum(eigvals_og)]\n",
    "    s += ', '.join(temp_lst)\n",
    "    s += \"\\n\"\n",
    "    s += '                POD : '\n",
    "    temp_lst = [\"{:.4f} %\".format(100*elem) for elem in [np.sum(eigvals_list_pod['27'])/np.sum(eigvals_og)]*len(kernel_size_list)]\n",
    "    s += ', '.join(temp_lst)\n",
    "    s += \"\\n\"\n",
    "    f.write(s)"
   ]
  },
  {
   "cell_type": "code",
   "execution_count": 98,
   "metadata": {},
   "outputs": [
    {
     "data": {
      "image/png": "[encoded data removed]",
      "text/plain": [
       "<Figure size 640x480 with 1 Axes>"
      ]
     },
     "metadata": {},
     "output_type": "display_data"
    }
   ],
   "source": [
    "# reconstruction errors\n",
    "error_type = 'newNRMSE'\n",
    "AE_error = eval('AE_recon_'+error_type+'_lst')\n",
    "POD_error = eval('POD_recon_'+error_type+'_lst')\n",
    "\n",
    "if len(np.where(attention_used_list==True)[0]) > 0:\n",
    "    plt.semilogy(\n",
    "#         kernel_size_list[attention_used_list],\n",
    "        AE_error[attention_used_list],\n",
    "        '--',\n",
    "        marker='o',\n",
    "        label=r'AE (with attention)'\n",
    "    )\n",
    "\n",
    "if len(np.where(attention_used_list==False)[0]) > 0:\n",
    "    plt.semilogy(\n",
    "#         kernel_size_list[np.logical_not(attention_used_list)],\n",
    "        AE_error[np.logical_not(attention_used_list)],\n",
    "        '--',\n",
    "        marker='^',\n",
    "        label=r'AE (without attention)'\n",
    "    )\n",
    "\n",
    "\n",
    "plt.semilogy(\n",
    "    [POD_error['27']]*len(xtick_labels),\n",
    "    '--',\n",
    "    marker='o',\n",
    "    label=r'POD'\n",
    ")\n",
    "plt.grid(True)\n",
    "plt.xlabel('Kernel Size', fontsize=15)\n",
    "plt.ylabel('Error', fontsize=15)\n",
    "plt.title(error_type, fontsize=17)\n",
    "# plt.xticks(kernel_size_list[attention_used_list], [r''+str(elem) for elem in kernel_size_list[attention_used_list]])\n",
    "plt.xticks(\n",
    "    np.arange(0, len(xtick_labels)),\n",
    "#     labels=[\n",
    "#         r'$'+', '.join([str(elem) for elem in kernels])+'$' for kernels in kernel_size_list\n",
    "#     ]\n",
    "    labels=xtick_labels,\n",
    ")\n",
    "# plt.ylim([-0.05, 1.05])\n",
    "# plt.xlim(-0.5, ind[-1]+width+0.5)\n",
    "plt.gca().tick_params(axis='x', labelsize=12)\n",
    "plt.gca().tick_params(axis='y', labelsize=12)\n",
    "plt.legend(fontsize=12)#loc='lower right')\n",
    "\n",
    "# plt.savefig('AE_POD_'+error_type+'.png', dpi=300, bbox_inches='tight')\n",
    "plt.savefig(save_dir+'/plots/AE_POD_'+error_type+'.png', dpi=300, bbox_inches='tight')\n",
    "plt.show()\n",
    "\n",
    "\n",
    "# with open('AE_POD_'+error_type+'.txt', 'w') as f:\n",
    "#     s =  'num_latent_states : '\n",
    "#     temp_lst = [\"{:02d}\".format(elem) for elem in num_latent_states_list]\n",
    "#     s += ', '.join(temp_lst)\n",
    "#     s += \"\\n\"\n",
    "#     s += '               AE : '\n",
    "#     temp_lst = [\"{:.4E} %\".format(elem) for elem in AE_error]\n",
    "#     s += ', '.join(temp_lst)\n",
    "#     s += \"\\n\"\n",
    "#     s += '              POD : '\n",
    "#     temp_lst = [\"{:.4E} %\".format(elem) for elem in POD_error]\n",
    "#     s += ', '.join(temp_lst)\n",
    "#     s += \"\\n\"\n",
    "#     f.write(s)"
   ]
  },
  {
   "cell_type": "code",
   "execution_count": null,
   "metadata": {},
   "outputs": [],
   "source": []
  },
  {
   "cell_type": "code",
   "execution_count": 120,
   "metadata": {},
   "outputs": [
    {
     "data": {
      "image/png": "[encoded data removed]",
      "text/plain": [
       "<Figure size 640x480 with 1 Axes>"
      ]
     },
     "metadata": {},
     "output_type": "display_data"
    }
   ],
   "source": [
    "# reconstruction errors\n",
    "error_type = 'newNRMSE'\n",
    "AE_error = eval('AE_recon_'+error_type+'_lst')\n",
    "POD_error = eval('POD_recon_'+error_type+'_lst')\n",
    "\n",
    "if len(np.where(attention_used_list==True)[0]) > 0:\n",
    "    plt.semilogy(\n",
    "#         kernel_size_list[attention_used_list],\n",
    "        AE_error[attention_used_list],\n",
    "        '--',\n",
    "        marker='o',\n",
    "        label=r'AE (with attention)'\n",
    "    )\n",
    "\n",
    "if len(np.where(attention_used_list==False)[0]) > 0:\n",
    "    plt.semilogy(\n",
    "#         kernel_size_list[np.logical_not(attention_used_list)],\n",
    "        AE_error[np.logical_not(attention_used_list)],\n",
    "        '--',\n",
    "        marker='^',\n",
    "        label=r'AE (without attention)'\n",
    "    )\n",
    "\n",
    "\n",
    "plt.semilogy(\n",
    "    [POD_error['27']]*len(xtick_labels),\n",
    "    '--',\n",
    "    marker='o',\n",
    "    label=r'POD'\n",
    ")\n",
    "plt.grid(True)\n",
    "plt.xlabel('Kernel Size', fontsize=15)\n",
    "plt.ylabel('Error', fontsize=15)\n",
    "plt.title(error_type, fontsize=17)\n",
    "# plt.xticks(kernel_size_list[attention_used_list], [r''+str(elem) for elem in kernel_size_list[attention_used_list]])\n",
    "plt.xticks(\n",
    "    np.arange(0, len(xtick_labels)),\n",
    "#     labels=[\n",
    "#         r'$'+', '.join([str(elem) for elem in kernels])+'$' for kernels in kernel_size_list\n",
    "#     ]\n",
    "    labels=xtick_labels,\n",
    ")\n",
    "# plt.ylim([-0.05, 1.05])\n",
    "# plt.xlim(-0.5, ind[-1]+width+0.5)\n",
    "plt.gca().tick_params(axis='x', labelsize=12)\n",
    "plt.gca().tick_params(axis='y', labelsize=12)\n",
    "plt.legend(fontsize=12)#loc='lower right')\n",
    "\n",
    "# plt.savefig('AE_POD_'+error_type+'.png', dpi=300, bbox_inches='tight')\n",
    "# plt.savefig(save_dir+'/plots/AE_POD_'+error_type+'.png', dpi=300, bbox_inches='tight')\n",
    "plt.show()\n",
    "\n",
    "\n",
    "with open(save_dir+'/AE_POD_'+error_type+'.txt', 'w') as f:\n",
    "    s =  '   kernel_size_list : '\n",
    "    temp_lst = [str(elem) for elem in kernel_size_list]\n",
    "    s += ', '.join(temp_lst)\n",
    "    s += \"\\n\"\n",
    "    s +=  'attention_used_list : '\n",
    "    temp_lst = [str(elem) for elem in attention_used_list]\n",
    "    s += ', '.join(temp_lst)\n",
    "    s += \"\\n\"\n",
    "    s += '                 AE : '\n",
    "    temp_lst = [\"{:.4E}\".format(elem) for elem in AE_error]\n",
    "    s += ', '.join(temp_lst)\n",
    "    s += \"\\n\"\n",
    "    s += '                POD : '\n",
    "    temp_lst = [\"{:.4E}\".format(elem) for elem in [POD_error['27']]*len(kernel_size_list)]\n",
    "    s += ', '.join(temp_lst)\n",
    "    s += \"\\n\"\n",
    "    f.write(s)"
   ]
  },
  {
   "cell_type": "code",
   "execution_count": null,
   "metadata": {
    "scrolled": false
   },
   "outputs": [],
   "source": [
    "k = fft.fftfreq(og_vars, d=1/og_vars)\n",
    "idx = np.where(k<0)[0]\n",
    "k[idx] += og_vars\n",
    "print(k)#*numpoints_xgrid*2*np.pi/xgrid[-1])"
   ]
  },
  {
   "cell_type": "code",
   "execution_count": null,
   "metadata": {
    "scrolled": false
   },
   "outputs": [],
   "source": [
    "y1 = energySpectrum_og/np.sum(energySpectrum_og)\n",
    "for i in range(len(chosen_dir_list)):\n",
    "    y2 = timeAvgEnergySpectrum[i]/np.sum(energySpectrum_og)# np.sum(timeAvgEnergySpectrum[i])\n",
    "    y3 = pod_timeAvgEnergySpectrum[i]/np.sum(energySpectrum_og)# np.sum(pod_timeAvgEnergySpectrum[i])\n",
    "    plt.semilogy(k, y3, marker='s', markersize=3, linewidth=0.95, linestyle='--', label='POD Reconstruction')\n",
    "    plt.semilogy(k, y1, marker='^', markersize=4, linewidth=0.95, linestyle='--', label='Original Data')\n",
    "    plt.semilogy(k, y2, marker='o', markersize=4, linewidth=0.95, linestyle='--', label='AE Reconstruction')\n",
    "    plt.title('num_latent_states : {}'.format(num_latent_states_list[i]))\n",
    "    plt.grid(True)\n",
    "    plt.legend()\n",
    "    plt.show()"
   ]
  },
  {
   "cell_type": "code",
   "execution_count": null,
   "metadata": {
    "scrolled": false
   },
   "outputs": [],
   "source": [
    "for i in range(len(chosen_dir_list)):\n",
    "    fig_eigvals, ax_eigvals = plt.subplots()\n",
    "    ax_eigvals.semilogy(eigvals_og, linestyle='--', marker='s', linewidth=0.9, markersize=2)\n",
    "    ax_eigvals.semilogy(eigvals_list_pod[i], linestyle='--', marker='^', linewidth=0.9, markersize=2)\n",
    "    ax_eigvals.semilogy(eigvals_list_AE[i], linestyle='--', marker='^', linewidth=0.9, markersize=2)\n",
    "    ax_eigvals.grid(True)\n",
    "    ax_eigvals.legend([r'Original Data', r'POD Reconstruction', r'AE Reconstruction'])\n",
    "    ax_eigvals.set_axisbelow(True)\n",
    "    ax_eigvals.set_title('Eigenvalues of the covariance matrix')\n",
    "    plt.title('num_latent_states : {}'.format(num_latent_states_list[i]))\n",
    "    plt.show()"
   ]
  },
  {
   "cell_type": "code",
   "execution_count": null,
   "metadata": {
    "scrolled": false
   },
   "outputs": [],
   "source": [
    "covmat_og_normd = np.divide(np.transpose(covmat_og), np.diag(covmat_og)).transpose()\n",
    "for i in range(len(chosen_dir_list)):\n",
    "    fig_covmat = plt.figure(figsize=(5.0*3, 5.0*1))\n",
    "    subplot1 = 1\n",
    "    subplot2 = subplot1 + 1\n",
    "    \n",
    "    covmat_ae_normd = np.divide(np.transpose(covmat_list_AE[i]), np.diag(covmat_og)).transpose()\n",
    "\n",
    "    vmin_snap = 0.05\n",
    "    vmax_snap = 0.05\n",
    "    vmin = np.min([\n",
    "        covmat_og_normd.min(),\n",
    "        covmat_ae_normd.min()\n",
    "    ])\n",
    "    vmin = min(vmin, -1.0)\n",
    "    vmin = -vmin_snap*np.round(-vmin/vmin_snap + 0.5)\n",
    "    vmax = np.max([\n",
    "        covmat_og_normd.max(),\n",
    "        covmat_ae_normd.max()\n",
    "    ])\n",
    "    vmax = max(vmax, 1.0)\n",
    "    vmax = vmax_snap*np.round(vmax/vmax_snap + 0.5)\n",
    "\n",
    "    # plotting the original data\n",
    "    ax_covmat_orig = fig_covmat.add_subplot(1, 3, subplot1)\n",
    "    im_orig = ax_covmat_orig.imshow(\n",
    "        covmat_og_normd,\n",
    "        aspect='equal',\n",
    "        origin='upper',\n",
    "        vmin=vmin,\n",
    "        vmax=vmax\n",
    "    )\n",
    "    ax_covmat_orig.title.set_text('Covariance Matrix (True Data)')\n",
    "    # xticks = np.arange(0, N, int((xticks_snapto+0.5*delta_t)//delta_t))\n",
    "    # ax_covmat_orig.set_xticks(ticks=xticks)\n",
    "    # ax_covmat_orig.set_xticklabels(np.round(xticks*delta_t, 1))\n",
    "    # ax_covmat_orig.tick_params(axis='x', rotation=270+45)\n",
    "    # yticks = np.linspace(0, 1, num_yticks)*(len(xgrid)-1)\n",
    "    # yticklabels = np.round(xgrid[0]+np.linspace(0, 1, yticks.shape[0])*(xgrid[-1]-xgrid[0]), 2)\n",
    "    # ax_covmat_orig.set_yticks(ticks=yticks)\n",
    "    # ax_covmat_orig.set_yticklabels(yticklabels)\n",
    "    # ax_covmat_orig.set_xlabel(xlabel)\n",
    "    # ax_covmat_orig.set_ylabel(ylabel)\n",
    "\n",
    "    # plotting the predicted data\n",
    "    ax_covmat_predict = fig_covmat.add_subplot(1, 3, subplot2, sharey=ax_covmat_orig, sharex=ax_covmat_orig)\n",
    "    im_predict = ax_covmat_predict.imshow(\n",
    "        covmat_ae_normd,\n",
    "        aspect='equal',\n",
    "        origin='upper',\n",
    "        vmin=vmin,\n",
    "        vmax=vmax\n",
    "    )\n",
    "    ax_covmat_predict.title.set_text('Covariance Matrix (AE Data)')\n",
    "    # ax_covmat_predict.tick_params(axis='x', rotation=270+45)\n",
    "    # ax_covmat_predict.set_xlabel(xlabel)\n",
    "    # ax_covmat_predict.set_ylabel(ylabel)\n",
    "\n",
    "    # subplots adjustment to account for colorbars\n",
    "    fig_covmat.subplots_adjust(\n",
    "        bottom=0.2,\n",
    "        left=0.1,\n",
    "    )\n",
    "\n",
    "    # original data and recon data colorbar\n",
    "    cb_xbegin = ax_covmat_orig.transData.transform([0, 0])\n",
    "    cb_xbegin = fig_covmat.transFigure.inverted().transform(cb_xbegin)[0]\n",
    "    cb_xend = ax_covmat_predict.transData.transform([covmat_ae_normd.shape[-1], 0])\n",
    "    cb_xend = fig_covmat.transFigure.inverted().transform(cb_xend)[0]\n",
    "\n",
    "    cb_ax = fig_covmat.add_axes([cb_xbegin, 0.0, cb_xend-cb_xbegin, 0.025])\n",
    "    cbar = fig_covmat.colorbar(im_predict, cax=cb_ax, orientation='horizontal')\n",
    "\n",
    "    # computing the normalized error\n",
    "    subplot3 = subplot2+1\n",
    "    error = np.abs(covmat_og_normd-covmat_ae_normd)\n",
    "    vmax_error_snap = 0.02\n",
    "    vmax_error = np.max(error)\n",
    "    vmax_error = vmax_error_snap*np.round(vmax_error/vmax_error_snap + 0.5)\n",
    "    # error = 100*error / np.abs(pod_covmat_dataout)\n",
    "    # plotting the normalized error\n",
    "    ax_covmat_error = fig_covmat.add_subplot(1, 3, subplot3, sharey=ax_covmat_orig, sharex=ax_covmat_orig)\n",
    "    im_error = ax_covmat_error.imshow(\n",
    "        error,\n",
    "        aspect='equal',\n",
    "        origin='upper',\n",
    "        vmin=0.0,\n",
    "        vmax=vmax_error\n",
    "    )\n",
    "    ax_covmat_error.title.set_text(r'Error')\n",
    "    # ax_error.tick_params(axis='x', rotation=270+45)\n",
    "    # ax_error.set_xlabel(xlabel)\n",
    "    # ax_error.set_ylabel(ylabel)\n",
    "\n",
    "    # error colorbar\n",
    "    cbe_xbegin = ax_covmat_error.transData.transform([0, 0])\n",
    "    cbe_xbegin = fig_covmat.transFigure.inverted().transform(cbe_xbegin)[0]\n",
    "    cbe_xend = ax_covmat_error.transData.transform([covmat_ae_normd.shape[-1], 0])\n",
    "    cbe_xend = fig_covmat.transFigure.inverted().transform(cbe_xend)[0]\n",
    "    error_cb_ax = fig_covmat.add_axes([cbe_xbegin, 0.0, cbe_xend-cbe_xbegin, 0.025])\n",
    "    error_cb_ax.tick_params(axis='x', rotation=270+45)\n",
    "    cbar_error = fig_covmat.colorbar(im_error, cax=error_cb_ax, orientation='horizontal')\n",
    "    plt.title('num_latent_states : {}'.format(num_latent_states_list[i]))\n",
    "    plt.show()"
   ]
  },
  {
   "cell_type": "code",
   "execution_count": null,
   "metadata": {
    "scrolled": false
   },
   "outputs": [],
   "source": [
    "covmat_og_normd = np.divide(np.transpose(covmat_og), np.diag(covmat_og)).transpose()\n",
    "for i in range(len(chosen_dir_list)):\n",
    "    fig_covmat = plt.figure(figsize=(5.0*3, 5.0*1))\n",
    "    subplot1 = 1\n",
    "    subplot2 = subplot1 + 1\n",
    "    \n",
    "    covmat_pod_normd = np.divide(np.transpose(covmat_list_pod[i]), np.diag(covmat_og)).transpose()\n",
    "\n",
    "    vmin_snap = 0.05\n",
    "    vmax_snap = 0.05\n",
    "    vmin = np.min([\n",
    "        covmat_og_normd.min(),\n",
    "        covmat_pod_normd.min()\n",
    "    ])\n",
    "    vmin = min(vmin, -1.0)\n",
    "    vmin = -vmin_snap*np.round(-vmin/vmin_snap + 0.5)\n",
    "    vmax = np.max([\n",
    "        covmat_og_normd.max(),\n",
    "        covmat_pod_normd.max()\n",
    "    ])\n",
    "    vmax = max(vmax, 1.0)\n",
    "    vmax = vmax_snap*np.round(vmax/vmax_snap + 0.5)\n",
    "\n",
    "    # plotting the original data\n",
    "    ax_covmat_orig = fig_covmat.add_subplot(1, 3, subplot1)\n",
    "    im_orig = ax_covmat_orig.imshow(\n",
    "        covmat_og_normd,\n",
    "        aspect='equal',\n",
    "        origin='upper',\n",
    "        vmin=vmin,\n",
    "        vmax=vmax\n",
    "    )\n",
    "    ax_covmat_orig.title.set_text('Covariance Matrix (True Data)')\n",
    "    # xticks = np.arange(0, N, int((xticks_snapto+0.5*delta_t)//delta_t))\n",
    "    # ax_covmat_orig.set_xticks(ticks=xticks)\n",
    "    # ax_covmat_orig.set_xticklabels(np.round(xticks*delta_t, 1))\n",
    "    # ax_covmat_orig.tick_params(axis='x', rotation=270+45)\n",
    "    # yticks = np.linspace(0, 1, num_yticks)*(len(xgrid)-1)\n",
    "    # yticklabels = np.round(xgrid[0]+np.linspace(0, 1, yticks.shape[0])*(xgrid[-1]-xgrid[0]), 2)\n",
    "    # ax_covmat_orig.set_yticks(ticks=yticks)\n",
    "    # ax_covmat_orig.set_yticklabels(yticklabels)\n",
    "    # ax_covmat_orig.set_xlabel(xlabel)\n",
    "    # ax_covmat_orig.set_ylabel(ylabel)\n",
    "\n",
    "    # plotting the predicted data\n",
    "    ax_covmat_predict = fig_covmat.add_subplot(1, 3, subplot2, sharey=ax_covmat_orig, sharex=ax_covmat_orig)\n",
    "    im_predict = ax_covmat_predict.imshow(\n",
    "        covmat_pod_normd,\n",
    "        aspect='equal',\n",
    "        origin='upper',\n",
    "        vmin=vmin,\n",
    "        vmax=vmax\n",
    "    )\n",
    "    ax_covmat_predict.title.set_text('Covariance Matrix (POD Data)')\n",
    "    # ax_covmat_predict.tick_params(axis='x', rotation=270+45)\n",
    "    # ax_covmat_predict.set_xlabel(xlabel)\n",
    "    # ax_covmat_predict.set_ylabel(ylabel)\n",
    "\n",
    "    # subplots adjustment to account for colorbars\n",
    "    fig_covmat.subplots_adjust(\n",
    "        bottom=0.2,\n",
    "        left=0.1,\n",
    "    )\n",
    "\n",
    "    # original data and recon data colorbar\n",
    "    cb_xbegin = ax_covmat_orig.transData.transform([0, 0])\n",
    "    cb_xbegin = fig_covmat.transFigure.inverted().transform(cb_xbegin)[0]\n",
    "    cb_xend = ax_covmat_predict.transData.transform([covmat_pod_normd.shape[-1], 0])\n",
    "    cb_xend = fig_covmat.transFigure.inverted().transform(cb_xend)[0]\n",
    "\n",
    "    cb_ax = fig_covmat.add_axes([cb_xbegin, 0.0, cb_xend-cb_xbegin, 0.025])\n",
    "    cbar = fig_covmat.colorbar(im_predict, cax=cb_ax, orientation='horizontal')\n",
    "\n",
    "    # computing the normalized error\n",
    "    subplot3 = subplot2+1\n",
    "    error = np.abs(covmat_og_normd-covmat_pod_normd)\n",
    "    vmax_error_snap = 0.01\n",
    "    vmax_error = np.max(error)\n",
    "    vmax_error = vmax_error_snap*np.round(vmax_error/vmax_error_snap + 0.5)\n",
    "    # error = 100*error / np.abs(pod_covmat_dataout)\n",
    "    # plotting the normalized error\n",
    "    ax_covmat_error = fig_covmat.add_subplot(1, 3, subplot3, sharey=ax_covmat_orig, sharex=ax_covmat_orig)\n",
    "    im_error = ax_covmat_error.imshow(\n",
    "        error,\n",
    "        aspect='equal',\n",
    "        origin='upper',\n",
    "        vmin=0.0,\n",
    "        vmax=vmax_error\n",
    "    )\n",
    "    ax_covmat_error.title.set_text(r'Error')\n",
    "    # ax_error.tick_params(axis='x', rotation=270+45)\n",
    "    # ax_error.set_xlabel(xlabel)\n",
    "    # ax_error.set_ylabel(ylabel)\n",
    "\n",
    "    # error colorbar\n",
    "    cbe_xbegin = ax_covmat_error.transData.transform([0, 0])\n",
    "    cbe_xbegin = fig_covmat.transFigure.inverted().transform(cbe_xbegin)[0]\n",
    "    cbe_xend = ax_covmat_error.transData.transform([covmat_pod_normd.shape[-1], 0])\n",
    "    cbe_xend = fig_covmat.transFigure.inverted().transform(cbe_xend)[0]\n",
    "    error_cb_ax = fig_covmat.add_axes([cbe_xbegin, 0.0, cbe_xend-cbe_xbegin, 0.025])\n",
    "    error_cb_ax.tick_params(axis='x', rotation=270+45)\n",
    "    cbar_error = fig_covmat.colorbar(im_error, cax=error_cb_ax, orientation='horizontal')\n",
    "    plt.title('num_latent_states : {}'.format(num_latent_states_list[i]))\n",
    "    plt.show()"
   ]
  },
  {
   "cell_type": "code",
   "execution_count": null,
   "metadata": {
    "scrolled": false
   },
   "outputs": [],
   "source": []
  }
 ],
 "metadata": {
  "colab": {
   "collapsed_sections": [],
   "provenance": []
  },
  "gpuClass": "standard",
  "kernelspec": {
   "display_name": "Python 3 (ipykernel)",
   "language": "python",
   "name": "python3"
  },
  "language_info": {
   "codemirror_mode": {
    "name": "ipython",
    "version": 3
   },
   "file_extension": ".py",
   "mimetype": "text/x-python",
   "name": "python",
   "nbconvert_exporter": "python",
   "pygments_lexer": "ipython3",
   "version": "3.10.6"
  }
 },
 "nbformat": 4,
 "nbformat_minor": 1
}
