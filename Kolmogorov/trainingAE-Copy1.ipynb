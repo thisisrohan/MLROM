{
 "cells": [
  {
   "cell_type": "code",
   "execution_count": 1,
   "metadata": {
    "executionInfo": {
     "elapsed": 5,
     "status": "ok",
     "timestamp": 1666788634667,
     "user": {
      "displayName": "Rohan Kaushik",
      "userId": "13918477614376051685"
     },
     "user_tz": -120
    },
    "id": "4xhxMpe_r-Y5"
   },
   "outputs": [],
   "source": [
    "# enabling 3rd party widgets\n",
    "# from google.colab import output\n",
    "# output.enable_custom_widget_manager()\n",
    "# output.disable_custom_widget_manager()\n",
    "\n",
    "# interactive 3D plot\n",
    "# !pip install ipympl\n",
    "# %matplotlib widget"
   ]
  },
  {
   "cell_type": "code",
   "execution_count": 2,
   "metadata": {
    "executionInfo": {
     "elapsed": 3089,
     "status": "ok",
     "timestamp": 1666788637752,
     "user": {
      "displayName": "Rohan Kaushik",
      "userId": "13918477614376051685"
     },
     "user_tz": -120
    },
    "id": "a5qPupCDsjSz"
   },
   "outputs": [],
   "source": [
    "import os\n",
    "import math\n",
    "from collections import OrderedDict\n",
    "import numpy as np\n",
    "import matplotlib.pyplot as plt\n",
    "from scipy import linalg\n",
    "\n",
    "import time as time\n",
    "import platform as platform\n",
    "\n",
    "import tensorflow as tf\n",
    "from tensorflow.keras import layers, losses\n",
    "from tensorflow.keras.models import Model\n",
    "from tensorflow.keras import backend as K\n",
    "from tensorflow.keras.regularizers import L2\n",
    "import h5py\n",
    "\n",
    "tf.keras.backend.set_floatx('float32')"
   ]
  },
  {
   "cell_type": "code",
   "execution_count": 3,
   "metadata": {
    "executionInfo": {
     "elapsed": 8,
     "status": "ok",
     "timestamp": 1666788637752,
     "user": {
      "displayName": "Rohan Kaushik",
      "userId": "13918477614376051685"
     },
     "user_tz": -120
    },
    "id": "3AVrZNGlZu4Z"
   },
   "outputs": [],
   "source": [
    "colab_flag = False\n",
    "\n",
    "FTYPE = np.float32\n",
    "ITYPE = np.int32\n",
    "\n",
    "strategy = None\n",
    "# strategy = tf.distribute.MirroredStrategy()"
   ]
  },
  {
   "cell_type": "code",
   "execution_count": 4,
   "metadata": {
    "executionInfo": {
     "elapsed": 7,
     "status": "ok",
     "timestamp": 1666788637753,
     "user": {
      "displayName": "Rohan Kaushik",
      "userId": "13918477614376051685"
     },
     "user_tz": -120
    },
    "id": "SxAd7iDL0Ami"
   },
   "outputs": [],
   "source": [
    "current_sys = platform.system()\n",
    "\n",
    "if current_sys == 'Windows':\n",
    "    dir_sep = '\\\\'\n",
    "else:\n",
    "    dir_sep = '/'"
   ]
  },
  {
   "cell_type": "code",
   "execution_count": 5,
   "metadata": {
    "colab": {
     "base_uri": "https://localhost:8080/"
    },
    "executionInfo": {
     "elapsed": 27766,
     "status": "ok",
     "timestamp": 1666788665512,
     "user": {
      "displayName": "Rohan Kaushik",
      "userId": "13918477614376051685"
     },
     "user_tz": -120
    },
    "id": "JjNnPRuk0IIX",
    "outputId": "f93a8628-71fe-4d6d-b3b6-245dfcb8eb60"
   },
   "outputs": [],
   "source": [
    "if colab_flag == True:\n",
    "    from google.colab import drive\n",
    "    drive.mount('/content/drive')\n",
    "    os.chdir('/content/drive/MyDrive/Github/MLROM/KS/')"
   ]
  },
  {
   "cell_type": "code",
   "execution_count": 6,
   "metadata": {
    "colab": {
     "base_uri": "https://localhost:8080/"
    },
    "executionInfo": {
     "elapsed": 5,
     "status": "ok",
     "timestamp": 1666788665512,
     "user": {
      "displayName": "Rohan Kaushik",
      "userId": "13918477614376051685"
     },
     "user_tz": -120
    },
    "id": "9REiGIIy0IzV",
    "outputId": "2b5b0b02-2f67-4635-a00c-82084a8d2ffb"
   },
   "outputs": [
    {
     "name": "stdout",
     "output_type": "stream",
     "text": [
      "/home/rkaushik/Documents/Thesis/MLROM/Kolmogorov\n"
     ]
    }
   ],
   "source": [
    "print(os.getcwd())"
   ]
  },
  {
   "cell_type": "code",
   "execution_count": 7,
   "metadata": {
    "executionInfo": {
     "elapsed": 1381,
     "status": "ok",
     "timestamp": 1666788666890,
     "user": {
      "displayName": "Rohan Kaushik",
      "userId": "13918477614376051685"
     },
     "user_tz": -120
    },
    "id": "8S1AHEkl48bn"
   },
   "outputs": [],
   "source": [
    "from tools.misc_tools import mytimecallback, SaveLosses, plot_losses, readAndReturnLossHistories\n",
    "from tools.ae_v2 import Autoencoder"
   ]
  },
  {
   "cell_type": "code",
   "execution_count": 8,
   "metadata": {
    "executionInfo": {
     "elapsed": 7,
     "status": "ok",
     "timestamp": 1666788666891,
     "user": {
      "displayName": "Rohan Kaushik",
      "userId": "13918477614376051685"
     },
     "user_tz": -120
    },
    "id": "-mIQj_v4gzMh"
   },
   "outputs": [],
   "source": [
    "behaviour = 'initialiseAndTrainFromScratch'\n",
    "# behaviour = 'loadCheckpointAndContinueTraining'\n",
    "# behaviour = 'loadFinalNetAndPlot'"
   ]
  },
  {
   "cell_type": "code",
   "execution_count": 9,
   "metadata": {
    "executionInfo": {
     "elapsed": 8,
     "status": "ok",
     "timestamp": 1666788666892,
     "user": {
      "displayName": "Rohan Kaushik",
      "userId": "13918477614376051685"
     },
     "user_tz": -120
    },
    "id": "QL5n-abCg0nI"
   },
   "outputs": [],
   "source": [
    "# setting seed for PRNGs\n",
    "if behaviour == 'initialiseAndTrainFromScratch':\n",
    "    prng_seed = 42\n",
    "    np.random.seed(prng_seed)\n",
    "    tf.random.set_seed(prng_seed)"
   ]
  },
  {
   "cell_type": "code",
   "execution_count": 10,
   "metadata": {
    "colab": {
     "base_uri": "https://localhost:8080/",
     "height": 35
    },
    "executionInfo": {
     "elapsed": 7,
     "status": "ok",
     "timestamp": 1666788666892,
     "user": {
      "displayName": "Rohan Kaushik",
      "userId": "13918477614376051685"
     },
     "user_tz": -120
    },
    "id": "tc3zO9xL_tNl",
    "outputId": "f77bf689-c865-4a8d-8d40-37ec9c75f1ee"
   },
   "outputs": [
    {
     "name": "stdout",
     "output_type": "stream",
     "text": [
      "[PhysicalDevice(name='/physical_device:GPU:0', device_type='GPU'), PhysicalDevice(name='/physical_device:GPU:1', device_type='GPU')]\n",
      "[LogicalDevice(name='/device:GPU:0', device_type='GPU')]\n"
     ]
    },
    {
     "name": "stderr",
     "output_type": "stream",
     "text": [
      "2023-02-17 15:43:20.763298: I tensorflow/stream_executor/cuda/cuda_gpu_executor.cc:936] successful NUMA node read from SysFS had negative value (-1), but there must be at least one NUMA node, so returning NUMA node zero\n",
      "2023-02-17 15:43:20.763794: I tensorflow/stream_executor/cuda/cuda_gpu_executor.cc:936] successful NUMA node read from SysFS had negative value (-1), but there must be at least one NUMA node, so returning NUMA node zero\n",
      "2023-02-17 15:43:20.801264: I tensorflow/stream_executor/cuda/cuda_gpu_executor.cc:936] successful NUMA node read from SysFS had negative value (-1), but there must be at least one NUMA node, so returning NUMA node zero\n",
      "2023-02-17 15:43:20.801557: I tensorflow/stream_executor/cuda/cuda_gpu_executor.cc:936] successful NUMA node read from SysFS had negative value (-1), but there must be at least one NUMA node, so returning NUMA node zero\n",
      "2023-02-17 15:43:20.801876: I tensorflow/stream_executor/cuda/cuda_gpu_executor.cc:936] successful NUMA node read from SysFS had negative value (-1), but there must be at least one NUMA node, so returning NUMA node zero\n",
      "2023-02-17 15:43:20.802088: I tensorflow/stream_executor/cuda/cuda_gpu_executor.cc:936] successful NUMA node read from SysFS had negative value (-1), but there must be at least one NUMA node, so returning NUMA node zero\n",
      "2023-02-17 15:43:20.803235: I tensorflow/core/platform/cpu_feature_guard.cc:151] This TensorFlow binary is optimized with oneAPI Deep Neural Network Library (oneDNN) to use the following CPU instructions in performance-critical operations:  SSE4.1 SSE4.2 AVX AVX2 FMA\n",
      "To enable them in other operations, rebuild TensorFlow with the appropriate compiler flags.\n",
      "2023-02-17 15:43:20.803777: I tensorflow/stream_executor/cuda/cuda_gpu_executor.cc:936] successful NUMA node read from SysFS had negative value (-1), but there must be at least one NUMA node, so returning NUMA node zero\n",
      "2023-02-17 15:43:20.804007: I tensorflow/stream_executor/cuda/cuda_gpu_executor.cc:936] successful NUMA node read from SysFS had negative value (-1), but there must be at least one NUMA node, so returning NUMA node zero\n",
      "2023-02-17 15:43:20.804219: I tensorflow/stream_executor/cuda/cuda_gpu_executor.cc:936] successful NUMA node read from SysFS had negative value (-1), but there must be at least one NUMA node, so returning NUMA node zero\n",
      "2023-02-17 15:43:21.399688: I tensorflow/stream_executor/cuda/cuda_gpu_executor.cc:936] successful NUMA node read from SysFS had negative value (-1), but there must be at least one NUMA node, so returning NUMA node zero\n",
      "2023-02-17 15:43:21.399932: I tensorflow/stream_executor/cuda/cuda_gpu_executor.cc:936] successful NUMA node read from SysFS had negative value (-1), but there must be at least one NUMA node, so returning NUMA node zero\n",
      "2023-02-17 15:43:21.400135: I tensorflow/stream_executor/cuda/cuda_gpu_executor.cc:936] successful NUMA node read from SysFS had negative value (-1), but there must be at least one NUMA node, so returning NUMA node zero\n",
      "2023-02-17 15:43:21.400306: I tensorflow/core/common_runtime/gpu/gpu_device.cc:1525] Created device /job:localhost/replica:0/task:0/device:GPU:0 with 3359 MB memory:  -> device: 0, name: Quadro K2200, pci bus id: 0000:02:00.0, compute capability: 5.0\n"
     ]
    }
   ],
   "source": [
    "gpus = tf.config.list_physical_devices('GPU')\n",
    "print(gpus)\n",
    "\n",
    "if colab_flag == False:\n",
    "    if strategy is None:\n",
    "        if gpus:\n",
    "            gpu_to_use = 0\n",
    "            tf.config.set_visible_devices(gpus[gpu_to_use], 'GPU')\n",
    "    logical_devices = tf.config.list_logical_devices('GPU')\n",
    "    print(logical_devices)"
   ]
  },
  {
   "cell_type": "code",
   "execution_count": 11,
   "metadata": {},
   "outputs": [
    {
     "name": "stdout",
     "output_type": "stream",
     "text": [
      "[PhysicalDevice(name='/physical_device:CPU:0', device_type='CPU'), PhysicalDevice(name='/physical_device:GPU:0', device_type='GPU'), PhysicalDevice(name='/physical_device:GPU:1', device_type='GPU')]\n",
      "[LogicalDevice(name='/device:CPU:0', device_type='CPU'), LogicalDevice(name='/device:GPU:0', device_type='GPU')]\n",
      "2.8.1\n"
     ]
    }
   ],
   "source": [
    "# print(tf.test.gpu_device_name())\n",
    "print(tf.config.list_physical_devices())\n",
    "print(tf.config.list_logical_devices())\n",
    "print(tf.__version__)"
   ]
  },
  {
   "cell_type": "markdown",
   "metadata": {
    "id": "7UbdnOtc4_z9"
   },
   "source": [
    "# KS System"
   ]
  },
  {
   "cell_type": "code",
   "execution_count": 12,
   "metadata": {
    "colab": {
     "base_uri": "https://localhost:8080/"
    },
    "executionInfo": {
     "elapsed": 2030,
     "status": "ok",
     "timestamp": 1666788668916,
     "user": {
      "displayName": "Rohan Kaushik",
      "userId": "13918477614376051685"
     },
     "user_tz": -120
    },
    "id": "xcNgt4hqg6Xv",
    "outputId": "7735ac54-495c-493f-869b-7d15538ee30c"
   },
   "outputs": [
    {
     "name": "stdout",
     "output_type": "stream",
     "text": [
      "dir_name_ae: /home/rkaushik/Documents/Thesis/MLROM/Kolmogorov/saved_ae/ae_017\n",
      "24 <class 'int'>\n"
     ]
    }
   ],
   "source": [
    "# setting up params (and saving, if applicable)\n",
    "from numpy import *\n",
    "\n",
    "if behaviour == 'initialiseAndTrainFromScratch':\n",
    "    # loading data directory\n",
    "    data_dir_idx = '000'\n",
    "\n",
    "    # making ae save directory\n",
    "    dir_name_ae = os.getcwd() + dir_sep + 'saved_ae'\n",
    "    if not os.path.isdir(dir_name_ae):\n",
    "        os.makedirs(dir_name_ae)\n",
    "\n",
    "    counter = 0\n",
    "    while True:\n",
    "        dir_check = 'ae_' + str(counter).zfill(3)\n",
    "        if os.path.isdir(dir_name_ae + dir_sep + dir_check):\n",
    "            counter += 1\n",
    "        else:\n",
    "            break\n",
    "\n",
    "    dir_name_ae = dir_name_ae + dir_sep + dir_check\n",
    "    os.makedirs(dir_name_ae)\n",
    "    os.makedirs(dir_name_ae+dir_sep+'plots')\n",
    "else:\n",
    "    # some paramaters\n",
    "    dir_name_ae = os.getcwd()+'{ds}saved_ae{ds}ae_015'.format(ds=dir_sep)\n",
    "\n",
    "    with open(dir_name_ae + dir_sep + 'ae_data.txt') as f:\n",
    "        lines = f.readlines()\n",
    "\n",
    "    params_dict = eval(''.join(lines))\n",
    "    data_dir_idx = params_dict['data_dir_idx']\n",
    "    normalizeforae_flag = params_dict['normalizeforae_flag']\n",
    "    normalization_constant_arr_aedata = params_dict['normalization_constant_arr_aedata']\n",
    "    if os.path.exists(dir_name_ae+dir_sep+'normalization_data.npz'):\n",
    "        with np.load(dir_name_ae+dir_sep+'normalization_data.npz', allow_pickle=True) as fl:\n",
    "            normalization_constant_arr_aedata = fl['normalization_constant_arr_aedata'][0]\n",
    "\n",
    "print('dir_name_ae:', dir_name_ae)\n",
    "# loading data\n",
    "dir_name_data = os.getcwd() + dir_sep + 'saved_data' + dir_sep + 'data_' + data_dir_idx\n",
    "    \n",
    "with h5py.File(dir_name_data + '/data.h5', 'r') as f:\n",
    "    t_recorded_samples = np.array(f['t'])\n",
    "    \n",
    "    N = int(0.5*(np.array(f['num_wavenumbers'])-1))\n",
    "    print(N, type(N))\n",
    "    \n",
    "    u_ref = np.array(f['u_reference'], dtype=FTYPE)\n",
    "    v_ref = np.array(f['v_reference'], dtype=FTYPE)"
   ]
  },
  {
   "cell_type": "code",
   "execution_count": 13,
   "metadata": {},
   "outputs": [],
   "source": [
    "all_data = np.empty(shape=(u_ref.shape[0], 2, u_ref.shape[1], u_ref.shape[2]), dtype=FTYPE)\n",
    "all_data[:, 0, :, :] = u_ref\n",
    "del(u_ref)\n",
    "all_data[:, 1, :, :] = v_ref\n",
    "del(v_ref)"
   ]
  },
  {
   "cell_type": "code",
   "execution_count": null,
   "metadata": {
    "executionInfo": {
     "elapsed": 2,
     "status": "ok",
     "timestamp": 1666788668916,
     "user": {
      "displayName": "Rohan Kaushik",
      "userId": "13918477614376051685"
     },
     "user_tz": -120
    },
    "id": "O7sl7i5H5Dqz"
   },
   "outputs": [],
   "source": []
  },
  {
   "cell_type": "code",
   "execution_count": null,
   "metadata": {
    "colab": {
     "base_uri": "https://localhost:8080/",
     "height": 1000
    },
    "executionInfo": {
     "elapsed": 2415,
     "status": "ok",
     "timestamp": 1666788671329,
     "user": {
      "displayName": "Rohan Kaushik",
      "userId": "13918477614376051685"
     },
     "user_tz": -120
    },
    "id": "ySVDz_2U5FH5",
    "outputId": "53f23b1d-fa61-4f27-bbc4-2e624421a866"
   },
   "outputs": [],
   "source": []
  },
  {
   "cell_type": "code",
   "execution_count": 14,
   "metadata": {
    "executionInfo": {
     "elapsed": 11,
     "status": "ok",
     "timestamp": 1666788671330,
     "user": {
      "displayName": "Rohan Kaushik",
      "userId": "13918477614376051685"
     },
     "user_tz": -120
    },
    "id": "bkQx9q_p5Gro"
   },
   "outputs": [],
   "source": [
    "# dealing with normalizing the data before feeding into autoencoder\n",
    "if behaviour == 'initialiseAndTrainFromScratch':\n",
    "    # normalize data before feeding into autoencoder?\n",
    "    normalizeforae_flag = True\n",
    "    normalization_type = 'stddev' # could be 'stddev' or 'minmax'\n",
    "    stddev_multiplier = 3\n",
    "    \n",
    "    normalization_constant_arr_aedata = None\n",
    "    if normalizeforae_flag == True:\n",
    "        normalization_constant_arr_aedata = np.empty(shape=(2,) + tuple(all_data.shape[1:]), dtype=FTYPE)\n",
    "        if normalization_type == 'stddev':\n",
    "            normalization_constant_arr_aedata[0] = np.mean(all_data, axis=0)\n",
    "            normalization_constant_arr_aedata[1] = stddev_multiplier * np.std(all_data, axis=0)\n",
    "        elif normalization_type == 'minmax':\n",
    "            sample_min = all_data.min(axis=0)\n",
    "            sample_max = all_data.max(axis=0)\n",
    "            idx = np.where(sample_min == sample_max)\n",
    "            if len(idx) > 0:\n",
    "                num_elems = len(idx[0])\n",
    "                for i in range(num_elems):\n",
    "                    i0 = idx[0][i]\n",
    "                    i1 = idx[1][i]\n",
    "                    i2 = idx[2][i]\n",
    "                    sample_min[i0, i1, i2] -= 0.5\n",
    "                    sample_max[i0, i1, i2] = sample_min[i0, i1, i2] + 1.\n",
    "            normalization_constant_arr_aedata[0] = sample_min\n",
    "            normalization_constant_arr_aedata[1] = sample_max - sample_min\n",
    "        all_data -= normalization_constant_arr_aedata[0]\n",
    "        all_data /= normalization_constant_arr_aedata[1]\n",
    "            \n",
    "    # saving sim data\n",
    "    ae_data = {\n",
    "        'data_dir_idx':data_dir_idx,\n",
    "        'normalizeforae_flag':normalizeforae_flag,\n",
    "        # 'normalization_constant_arr_aedata':normalization_constant_arr_aedata,\n",
    "        'normalization_type':normalization_type,\n",
    "        'stddev_multiplier':stddev_multiplier,\n",
    "        'ae_data_with_params':False,\n",
    "        'module':Autoencoder.__module__,\n",
    "    }\n",
    "    with open(dir_name_ae+dir_sep+'ae_data.txt', 'w') as f:\n",
    "        f.write(str(ae_data))\n",
    "    np.savez(\n",
    "        dir_name_ae+dir_sep+'normalization_data',\n",
    "        normalization_constant_arr_aedata=[normalization_constant_arr_aedata],\n",
    "    )\n",
    "else:\n",
    "    if normalizeforae_flag == True:\n",
    "        all_data -= normalization_constant_arr_aedata[0]\n",
    "        all_data /= normalization_constant_arr_aedata[1]\n",
    "            \n",
    "time_stddev = np.std(all_data, axis=0)"
   ]
  },
  {
   "cell_type": "code",
   "execution_count": 15,
   "metadata": {
    "colab": {
     "base_uri": "https://localhost:8080/",
     "height": 1000
    },
    "executionInfo": {
     "elapsed": 1020,
     "status": "ok",
     "timestamp": 1666788672340,
     "user": {
      "displayName": "Rohan Kaushik",
      "userId": "13918477614376051685"
     },
     "user_tz": -120
    },
    "id": "uDhfYHU45IS8",
    "outputId": "982f534f-255c-41b9-f40a-327730ac89ae"
   },
   "outputs": [],
   "source": [
    "all_data = all_data[::4]"
   ]
  },
  {
   "cell_type": "code",
   "execution_count": null,
   "metadata": {
    "executionInfo": {
     "elapsed": 13,
     "status": "ok",
     "timestamp": 1666788672341,
     "user": {
      "displayName": "Rohan Kaushik",
      "userId": "13918477614376051685"
     },
     "user_tz": -120
    },
    "id": "59kkrSP1GvzO"
   },
   "outputs": [],
   "source": []
  },
  {
   "cell_type": "code",
   "execution_count": null,
   "metadata": {
    "executionInfo": {
     "elapsed": 11,
     "status": "ok",
     "timestamp": 1666788672342,
     "user": {
      "displayName": "Rohan Kaushik",
      "userId": "13918477614376051685"
     },
     "user_tz": -120
    },
    "id": "-MJa7P5t5KiC",
    "scrolled": false
   },
   "outputs": [],
   "source": []
  },
  {
   "cell_type": "markdown",
   "metadata": {
    "id": "1v6KQEjR5LkK"
   },
   "source": [
    "# Autoencoder"
   ]
  },
  {
   "cell_type": "code",
   "execution_count": 16,
   "metadata": {
    "executionInfo": {
     "elapsed": 432,
     "status": "ok",
     "timestamp": 1666788672765,
     "user": {
      "displayName": "Rohan Kaushik",
      "userId": "13918477614376051685"
     },
     "user_tz": -120
    },
    "id": "c5cjQ1lnjcwt"
   },
   "outputs": [],
   "source": [
    "# setting up training params\n",
    "if behaviour == 'initialiseAndTrainFromScratch':\n",
    "    learning_rate_list = [1e-3, 1e-4, 1e-5]\n",
    "    epochs = 200\n",
    "    patience = 10  # parameter for early stopping\n",
    "    min_delta = 1e-6  # parameter for early stopping\n",
    "    lambda_reg = 5e-7 # weight for regularizer\n",
    "    train_split = 0.8\n",
    "    val_split = 0.1\n",
    "    test_split = 1 - train_split - val_split\n",
    "    batch_size = 16\n",
    "    fRMS = 2/100\n",
    "    timeMeanofSpaceRMS = np.mean(np.mean(all_data**2, axis=1)**0.5)\n",
    "    \n",
    "    # stddev = fRMS*timeMeanofSpaceRMS\n",
    "    stddev = fRMS * np.mean(time_stddev)\n",
    "    use_weights_post_dense = False\n",
    "    use_batch_norm = True\n",
    "\n",
    "    # saving training params\n",
    "    training_specific_params = {\n",
    "        'learning_rate_list':learning_rate_list,\n",
    "        'epochs':epochs,\n",
    "        'patience':patience,\n",
    "        'min_delta':min_delta,\n",
    "        'prng_seed':prng_seed,\n",
    "        'train_split':train_split,\n",
    "        'val_split':val_split,\n",
    "        'batch_size':batch_size,\n",
    "        'fRMS':fRMS,\n",
    "        'timeMeanofSpaceRMS':timeMeanofSpaceRMS,\n",
    "        'stddev':stddev,\n",
    "        'use_batch_norm':use_batch_norm,\n",
    "    }\n",
    "\n",
    "    with open(dir_name_ae+dir_sep+'training_specific_params.txt', 'w') as f:\n",
    "        f.write(str(training_specific_params))\n",
    "else:\n",
    "    with open(dir_name_ae + dir_sep + 'training_specific_params.txt') as f:\n",
    "        lines = f.readlines()\n",
    "\n",
    "    tparams_dict = eval(''.join(lines))\n",
    "\n",
    "    learning_rate_list = tparams_dict['learning_rate_list']\n",
    "    epochs = tparams_dict['epochs']\n",
    "    patience = tparams_dict['patience']\n",
    "    min_delta = tparams_dict['min_delta']\n",
    "    prng_seed = tparams_dict['prng_seed']\n",
    "    train_split = tparams_dict['train_split']\n",
    "    val_split = tparams_dict['val_split']\n",
    "    batch_size = tparams_dict['batch_size']\n",
    "    try:\n",
    "        stddev = tparams_dict['stddev']\n",
    "    except:\n",
    "        print(\"'stddev' not in tparams_dict, set to 0\")\n",
    "        stddev = 0.0\n",
    "\n",
    "    test_split = 1 - train_split - val_split\n",
    "\n",
    "    # setting seed for PRNGs\n",
    "    np.random.seed(prng_seed)\n",
    "    tf.random.set_seed(prng_seed)"
   ]
  },
  {
   "cell_type": "code",
   "execution_count": null,
   "metadata": {
    "executionInfo": {
     "elapsed": 22,
     "status": "ok",
     "timestamp": 1666788672769,
     "user": {
      "displayName": "Rohan Kaushik",
      "userId": "13918477614376051685"
     },
     "user_tz": -120
    },
    "id": "lovTI3zuhlX0"
   },
   "outputs": [],
   "source": []
  },
  {
   "cell_type": "code",
   "execution_count": 17,
   "metadata": {
    "executionInfo": {
     "elapsed": 22,
     "status": "ok",
     "timestamp": 1666788672770,
     "user": {
      "displayName": "Rohan Kaushik",
      "userId": "13918477614376051685"
     },
     "user_tz": -120
    },
    "id": "IjsRi02g5ORG"
   },
   "outputs": [],
   "source": [
    "# # setting up data\n",
    "# idx = np.arange(all_data.shape[0])\n",
    "# np.random.shuffle(idx)\n",
    "# boundary = int(np.round((1-test_split)*all_data.shape[0]))\n",
    "# training_data = all_data[idx[0:boundary], :]\n",
    "# testing_data = all_data[idx[boundary:], :]"
   ]
  },
  {
   "cell_type": "code",
   "execution_count": 18,
   "metadata": {
    "executionInfo": {
     "elapsed": 21,
     "status": "ok",
     "timestamp": 1666788672771,
     "user": {
      "displayName": "Rohan Kaushik",
      "userId": "13918477614376051685"
     },
     "user_tz": -120
    },
    "id": "Qwietg7eTG-s"
   },
   "outputs": [],
   "source": [
    "num_train = int(all_data.shape[0]*train_split)\n",
    "num_val = int(all_data.shape[0]*val_split)\n",
    "num_test = all_data.shape[0] - num_train - num_val\n",
    "\n",
    "idx = np.arange(all_data.shape[0])\n",
    "np.random.shuffle(idx)\n",
    "\n",
    "training_data = np.empty(shape=(num_train, ) + tuple(all_data.shape[1:]), dtype=FTYPE)\n",
    "val_data = np.empty(shape=(num_val, ) + tuple(all_data.shape[1:]), dtype=FTYPE)\n",
    "testing_data = np.empty(shape=(num_test, ) + tuple(all_data.shape[1:]), dtype=FTYPE)\n",
    "\n",
    "training_data[:] = all_data[idx[0:num_train]]\n",
    "val_data[:] = all_data[idx[num_train:num_train+num_val]]\n",
    "testing_data[:] = all_data[idx[num_train+num_val:]]"
   ]
  },
  {
   "cell_type": "code",
   "execution_count": 19,
   "metadata": {
    "executionInfo": {
     "elapsed": 21,
     "status": "ok",
     "timestamp": 1666788672772,
     "user": {
      "displayName": "Rohan Kaushik",
      "userId": "13918477614376051685"
     },
     "user_tz": -120
    },
    "id": "gJ-28EnzJ4Ur"
   },
   "outputs": [],
   "source": [
    "del(all_data)"
   ]
  },
  {
   "cell_type": "code",
   "execution_count": null,
   "metadata": {
    "executionInfo": {
     "elapsed": 20,
     "status": "ok",
     "timestamp": 1666788672773,
     "user": {
      "displayName": "Rohan Kaushik",
      "userId": "13918477614376051685"
     },
     "user_tz": -120
    },
    "id": "7xTsmS7lgpps"
   },
   "outputs": [],
   "source": []
  },
  {
   "cell_type": "code",
   "execution_count": 20,
   "metadata": {
    "executionInfo": {
     "elapsed": 1626,
     "status": "ok",
     "timestamp": 1666788674381,
     "user": {
      "displayName": "Rohan Kaushik",
      "userId": "13918477614376051685"
     },
     "user_tz": -120
    },
    "id": "7l5kI1tfMszJ"
   },
   "outputs": [
    {
     "name": "stderr",
     "output_type": "stream",
     "text": [
      "2023-02-17 15:43:30.169817: I tensorflow/stream_executor/cuda/cuda_dnn.cc:368] Loaded cuDNN version 8401\n"
     ]
    }
   ],
   "source": [
    "# Initialize network\n",
    "if behaviour == 'initialiseAndTrainFromScratch':\n",
    "    enc_filters = [8, 16, 32, 16, 6, 2] # [8, 8, 3, 1]\n",
    "    enc_strides = [2,  2,  2,  2, 1, 1] # [2, 2, 1, 1]\n",
    "    enc_attn_placement = [1, 2, 3]\n",
    "    dec_filters = [6, 16, 32, 16, 8, 2] # [3, 8, 8, 2]\n",
    "    dec_strides = [1,  1,  2,  2, 2, 2] # [1, 1, 2, 2]\n",
    "    dec_attn_placement = [1, 2, 3]\n",
    "    kernel_size = 5\n",
    "    \n",
    "    enc_layer_act_func = 'elu'\n",
    "    enc_final_layer_act_func = 'tanh'\n",
    "    dec_layer_act_func = 'elu'\n",
    "    dec_final_layer_act_func = 'tanh'\n",
    "    reg_name = 'L2'\n",
    "    \n",
    "    use_periodic_padding = True\n",
    "    use_attention_module = True\n",
    "    \n",
    "    if strategy is not None:\n",
    "        with strategy.scope():\n",
    "            ae_net = Autoencoder(\n",
    "                data_dim=training_data.shape[1:],\n",
    "                kernel_size=kernel_size,\n",
    "                enc_filters=enc_filters, # number of filters\n",
    "                dec_filters=dec_filters, # number of filters\n",
    "                lambda_reg=lambda_reg,\n",
    "                reg_name=reg_name,\n",
    "                enc_layer_act_func=enc_layer_act_func,\n",
    "                enc_final_layer_act_func=enc_final_layer_act_func,\n",
    "                dec_layer_act_func=dec_layer_act_func,\n",
    "                dec_final_layer_act_func=dec_final_layer_act_func,\n",
    "                load_file=None,\n",
    "                stddev=stddev,\n",
    "                use_weights_post_dense=use_weights_post_dense,\n",
    "                use_batch_norm=use_batch_norm,\n",
    "                use_periodic_padding=use_periodic_padding,\n",
    "                use_attention_module=use_attention_module,\n",
    "                enc_strides=enc_strides,\n",
    "                enc_attn_placement=enc_attn_placement,\n",
    "                dec_strides=dec_strides,\n",
    "                dec_attn_placement=dec_attn_placement,)\n",
    "    else:\n",
    "        ae_net = Autoencoder(\n",
    "            data_dim=training_data.shape[1:],\n",
    "            kernel_size=kernel_size,\n",
    "            enc_filters=enc_filters, # number of filters\n",
    "            dec_filters=dec_filters, # number of filters\n",
    "            lambda_reg=lambda_reg,\n",
    "            reg_name=reg_name,\n",
    "            enc_layer_act_func=enc_layer_act_func,\n",
    "            enc_final_layer_act_func=enc_final_layer_act_func,\n",
    "            dec_layer_act_func=dec_layer_act_func,\n",
    "            dec_final_layer_act_func=dec_final_layer_act_func,\n",
    "            load_file=None,\n",
    "            stddev=stddev,\n",
    "            use_weights_post_dense=use_weights_post_dense,\n",
    "            use_batch_norm=use_batch_norm,\n",
    "            use_periodic_padding=use_periodic_padding,\n",
    "            use_attention_module=use_attention_module,\n",
    "            enc_strides=enc_strides,\n",
    "            enc_attn_placement=enc_attn_placement,\n",
    "            dec_strides=dec_strides,\n",
    "            dec_attn_placement=dec_attn_placement,)\n",
    "    # saving the AE configuration\n",
    "    save_path = dir_name_ae+dir_sep+'final_net'\n",
    "    if not os.path.isdir(save_path):\n",
    "        os.makedirs(save_path)\n",
    "    ae_net.save_class_dict(save_path+dir_sep+'final_net_class_dict.txt')\n",
    "else:\n",
    "    load_file = dir_name_ae + dir_sep + 'final_net' + dir_sep + 'final_net_class_dict.txt'\n",
    "    if strategy is not None:\n",
    "        with strategy.scope():\n",
    "            ae_net = Autoencoder(data_dim=training_data.shape[1:], load_file=load_file)\n",
    "    else:\n",
    "        ae_net = Autoencoder(data_dim=training_data.shape[1:], load_file=load_file)\n",
    "    \n",
    "    if behaviour == 'loadCheckpointAndContinueTraining':\n",
    "        wt_file = tf.train.latest_checkpoint(dir_name_ae+dir_sep+'checkpoints')\n",
    "        # ae_net.load_weights(wt_file)\n",
    "    elif behaviour == 'loadFinalNetAndPlot':\n",
    "        wt_file = dir_name_ae+dir_sep+'final_net'+dir_sep+'final_net_ae_weights.h5'\n",
    "        ae_net.load_weights_from_file(wt_file)"
   ]
  },
  {
   "cell_type": "code",
   "execution_count": null,
   "metadata": {
    "executionInfo": {
     "elapsed": 259,
     "status": "ok",
     "timestamp": 1666788674637,
     "user": {
      "displayName": "Rohan Kaushik",
      "userId": "13918477614376051685"
     },
     "user_tz": -120
    },
    "id": "48tkgZxT0Amt"
   },
   "outputs": [],
   "source": []
  },
  {
   "cell_type": "code",
   "execution_count": 21,
   "metadata": {
    "executionInfo": {
     "elapsed": 322,
     "status": "ok",
     "timestamp": 1666788674956,
     "user": {
      "displayName": "Rohan Kaushik",
      "userId": "13918477614376051685"
     },
     "user_tz": -120
    },
    "id": "yUChBAKqIFtX"
   },
   "outputs": [],
   "source": [
    "if behaviour == 'initialiseAndTrainFromScratch':\n",
    "    val_loss_hist = []\n",
    "    train_loss_hist = []\n",
    "    lr_change=[0, 0]\n",
    "    savelosses_cb_vallossarr = np.ones(shape=epochs*len(learning_rate_list))*np.NaN\n",
    "    savelosses_cb_trainlossarr = np.ones(shape=epochs*len(learning_rate_list))*np.NaN\n",
    "    starting_lr_idx = 0\n",
    "    num_epochs_left = epochs\n",
    "elif behaviour == 'loadCheckpointAndContinueTraining':\n",
    "    val_loss_hist, train_loss_hist, lr_change, starting_lr_idx, num_epochs_left, val_loss_arr_fromckpt, train_loss_arr_fromckpt = readAndReturnLossHistories(\n",
    "        dir_name_ae=dir_name_ae,\n",
    "        dir_sep=dir_sep,\n",
    "        epochs=epochs,\n",
    "        learning_rate_list=learning_rate_list)\n",
    "    savelosses_cb_vallossarr = val_loss_arr_fromckpt\n",
    "    savelosses_cb_trainlossarr = train_loss_arr_fromckpt\n",
    "elif behaviour == 'loadFinalNetAndPlot':\n",
    "    with open(dir_name_ae+'{ds}final_net{ds}losses.txt'.format(ds=dir_sep), 'r') as f:\n",
    "        lines = f.readlines()\n",
    "    \n",
    "    losses_dict = eval(''.join(lines))\n",
    "\n",
    "    val_loss_hist = losses_dict['val_loss_hist']\n",
    "    train_loss_hist = losses_dict['train_loss_hist']\n",
    "    lr_change = losses_dict['lr_change']\n",
    "    test_loss = losses_dict['test_loss']"
   ]
  },
  {
   "cell_type": "code",
   "execution_count": 22,
   "metadata": {},
   "outputs": [],
   "source": [
    "train_MSE_hist = []\n",
    "val_MSE_hist = []\n",
    "\n",
    "train_NMSE_hist = []\n",
    "val_NMSE_hist = []\n",
    "\n",
    "if use_attention_module == True:\n",
    "    encoder_attention_lambdas = {}\n",
    "    for i in range(len(ae_net.encoder_attention_modules_list)):\n",
    "        l = ae_net.encoder_attention_modules_list[i]\n",
    "        encoder_attention_lambdas['encoder_attention_module_{}_lambda'.format(i)] = [0]\n",
    "    decoder_attention_lambdas = {}\n",
    "    for i in range(len(ae_net.decoder_attention_modules_list)):\n",
    "        l = ae_net.decoder_attention_modules_list[i]\n",
    "        decoder_attention_lambdas['decoder_attention_module_{}_lambda'.format(i)] = [0]"
   ]
  },
  {
   "cell_type": "code",
   "execution_count": 23,
   "metadata": {
    "executionInfo": {
     "elapsed": 5,
     "status": "ok",
     "timestamp": 1666788674957,
     "user": {
      "displayName": "Rohan Kaushik",
      "userId": "13918477614376051685"
     },
     "user_tz": -120
    },
    "id": "Z0oEGp6WKGu2"
   },
   "outputs": [],
   "source": [
    "class NMSE(tf.keras.metrics.MeanSquaredError):\n",
    "    def __init__(self, divisor_arr, name='NMSE', **kwargs):\n",
    "        super(NMSE, self).__init__(name, **kwargs)\n",
    "        self.divisor_arr = divisor_arr\n",
    "\n",
    "    def update_state(self, y_true, y_pred, sample_weight=None):\n",
    "        y_true = y_true / self.divisor_arr\n",
    "        y_pred = y_pred / self.divisor_arr\n",
    "        return super(NMSE, self).update_state(y_true, y_pred, sample_weight)"
   ]
  },
  {
   "cell_type": "code",
   "execution_count": 24,
   "metadata": {},
   "outputs": [],
   "source": [
    "if strategy is not None:\n",
    "    with strategy.scope():\n",
    "        NMSE_metric = NMSE(divisor_arr=tf.constant(time_stddev))\n",
    "else:\n",
    "    NMSE_metric = NMSE(divisor_arr=tf.constant(time_stddev))"
   ]
  },
  {
   "cell_type": "code",
   "execution_count": 25,
   "metadata": {
    "colab": {
     "base_uri": "https://localhost:8080/"
    },
    "executionInfo": {
     "elapsed": 191278,
     "status": "ok",
     "timestamp": 1666788866231,
     "user": {
      "displayName": "Rohan Kaushik",
      "userId": "13918477614376051685"
     },
     "user_tz": -120
    },
    "id": "gELga1WnQeMK",
    "outputId": "e923a97a-2d9d-4c74-c328-4793de05b919",
    "scrolled": true
   },
   "outputs": [
    {
     "name": "stdout",
     "output_type": "stream",
     "text": [
      "WARNING:tensorflow:`period` argument is deprecated. Please use `save_freq` to specify the frequency in number of batches seen.\n",
      "\n",
      "\n",
      "--------------------------------------------------------------------------------\n",
      "\n",
      "---------------------------- LEARNING RATE : 0.001 -----------------------------\n",
      "\n",
      "--------------------------------------------------------------------------------\n",
      "\n",
      "\n",
      "Epoch 1/200\n",
      "1250/1250 [==============================] - ETA: 0s - loss: 0.0378 - mse: 0.0377 - NMSE: 0.3392 - encoder_attention_module_0_lambda: -0.0518 - encoder_attention_module_1_lambda: 0.0528 - encoder_attention_module_2_lambda: -0.0178 - decoder_attention_module_0_lambda: -0.1106 - decoder_attention_module_1_lambda: -0.1302 - decoder_attention_module_2_lambda: 0.1316 - tot_time: 0h 0m 37.0s\n",
      "\n",
      "Epoch 1: val_NMSE improved from inf to 0.14563, saving model to /home/rkaushik/Documents/Thesis/MLROM/Kolmogorov/saved_ae/ae_017/checkpoints/checkpoint\n",
      " - saving loss histories at /home/rkaushik/Documents/Thesis/MLROM/Kolmogorov/saved_ae/ae_017/checkpoints/LossHistoriesCheckpoint\n",
      "1250/1250 [==============================] - 36s 26ms/step - loss: 0.0378 - mse: 0.0377 - NMSE: 0.3392 - encoder_attention_module_0_lambda: -0.0518 - encoder_attention_module_1_lambda: 0.0528 - encoder_attention_module_2_lambda: -0.0178 - decoder_attention_module_0_lambda: -0.1106 - decoder_attention_module_1_lambda: -0.1302 - decoder_attention_module_2_lambda: 0.1316 - val_loss: 0.0163 - val_mse: 0.0162 - val_NMSE: 0.1456\n",
      "Epoch 2/200\n",
      "1250/1250 [==============================] - ETA: 0s - loss: 0.0167 - mse: 0.0166 - NMSE: 0.1492 - encoder_attention_module_0_lambda: -0.0802 - encoder_attention_module_1_lambda: 0.0161 - encoder_attention_module_2_lambda: -0.0276 - decoder_attention_module_0_lambda: -0.1482 - decoder_attention_module_1_lambda: -0.1346 - decoder_attention_module_2_lambda: 0.1763 - tot_time: 0h 1m 8.8s\n",
      "\n",
      "Epoch 2: val_NMSE did not improve from 0.14563\n",
      " - saving loss histories at /home/rkaushik/Documents/Thesis/MLROM/Kolmogorov/saved_ae/ae_017/checkpoints/LossHistoriesCheckpoint\n",
      "1250/1250 [==============================] - 32s 25ms/step - loss: 0.0167 - mse: 0.0166 - NMSE: 0.1492 - encoder_attention_module_0_lambda: -0.0802 - encoder_attention_module_1_lambda: 0.0161 - encoder_attention_module_2_lambda: -0.0276 - decoder_attention_module_0_lambda: -0.1482 - decoder_attention_module_1_lambda: -0.1346 - decoder_attention_module_2_lambda: 0.1763 - val_loss: 0.0165 - val_mse: 0.0164 - val_NMSE: 0.1474\n",
      "Epoch 3/200\n",
      "1248/1250 [============================>.] - ETA: 0s - loss: 0.0123 - mse: 0.0122 - NMSE: 0.1096 - encoder_attention_module_0_lambda: -0.0600 - encoder_attention_module_1_lambda: 0.0115 - encoder_attention_module_2_lambda: -0.0239 - decoder_attention_module_0_lambda: -0.1510 - decoder_attention_module_1_lambda: -0.1557 - decoder_attention_module_2_lambda: 0.1904 - tot_time: 0h 1m 40.3s\n",
      "\n",
      "Epoch 3: val_NMSE improved from 0.14563 to 0.10455, saving model to /home/rkaushik/Documents/Thesis/MLROM/Kolmogorov/saved_ae/ae_017/checkpoints/checkpoint\n",
      " - saving loss histories at /home/rkaushik/Documents/Thesis/MLROM/Kolmogorov/saved_ae/ae_017/checkpoints/LossHistoriesCheckpoint\n",
      "1250/1250 [==============================] - 32s 25ms/step - loss: 0.0123 - mse: 0.0122 - NMSE: 0.1096 - encoder_attention_module_0_lambda: -0.0600 - encoder_attention_module_1_lambda: 0.0115 - encoder_attention_module_2_lambda: -0.0239 - decoder_attention_module_0_lambda: -0.1510 - decoder_attention_module_1_lambda: -0.1557 - decoder_attention_module_2_lambda: 0.1904 - val_loss: 0.0117 - val_mse: 0.0116 - val_NMSE: 0.1045\n",
      "Epoch 4/200\n",
      "1249/1250 [============================>.] - ETA: 0s - loss: 0.0112 - mse: 0.0111 - NMSE: 0.0996 - encoder_attention_module_0_lambda: -0.0392 - encoder_attention_module_1_lambda: 2.2947e-04 - encoder_attention_module_2_lambda: -0.0275 - decoder_attention_module_0_lambda: -0.1406 - decoder_attention_module_1_lambda: -0.1704 - decoder_attention_module_2_lambda: 0.2110 - tot_time: 0h 2m 11.2s\n",
      "\n",
      "Epoch 4: val_NMSE improved from 0.10455 to 0.07581, saving model to /home/rkaushik/Documents/Thesis/MLROM/Kolmogorov/saved_ae/ae_017/checkpoints/checkpoint\n",
      " - saving loss histories at /home/rkaushik/Documents/Thesis/MLROM/Kolmogorov/saved_ae/ae_017/checkpoints/LossHistoriesCheckpoint\n",
      "1250/1250 [==============================] - 31s 25ms/step - loss: 0.0112 - mse: 0.0111 - NMSE: 0.0996 - encoder_attention_module_0_lambda: -0.0391 - encoder_attention_module_1_lambda: 2.3271e-04 - encoder_attention_module_2_lambda: -0.0275 - decoder_attention_module_0_lambda: -0.1406 - decoder_attention_module_1_lambda: -0.1704 - decoder_attention_module_2_lambda: 0.2111 - val_loss: 0.0086 - val_mse: 0.0084 - val_NMSE: 0.0758\n",
      "Epoch 5/200\n",
      "1248/1250 [============================>.] - ETA: 0s - loss: 0.0087 - mse: 0.0085 - NMSE: 0.0767 - encoder_attention_module_0_lambda: -0.0348 - encoder_attention_module_1_lambda: 0.0056 - encoder_attention_module_2_lambda: -0.0285 - decoder_attention_module_0_lambda: -0.1410 - decoder_attention_module_1_lambda: -0.1737 - decoder_attention_module_2_lambda: 0.2237 - tot_time: 0h 2m 42.5s\n",
      "\n",
      "Epoch 5: val_NMSE improved from 0.07581 to 0.07249, saving model to /home/rkaushik/Documents/Thesis/MLROM/Kolmogorov/saved_ae/ae_017/checkpoints/checkpoint\n",
      " - saving loss histories at /home/rkaushik/Documents/Thesis/MLROM/Kolmogorov/saved_ae/ae_017/checkpoints/LossHistoriesCheckpoint\n",
      "1250/1250 [==============================] - 31s 25ms/step - loss: 0.0087 - mse: 0.0085 - NMSE: 0.0767 - encoder_attention_module_0_lambda: -0.0348 - encoder_attention_module_1_lambda: 0.0056 - encoder_attention_module_2_lambda: -0.0285 - decoder_attention_module_0_lambda: -0.1410 - decoder_attention_module_1_lambda: -0.1737 - decoder_attention_module_2_lambda: 0.2238 - val_loss: 0.0082 - val_mse: 0.0081 - val_NMSE: 0.0725\n",
      "Epoch 6/200\n",
      "1250/1250 [==============================] - ETA: 0s - loss: 0.0082 - mse: 0.0080 - NMSE: 0.0724 - encoder_attention_module_0_lambda: -0.0348 - encoder_attention_module_1_lambda: 0.0057 - encoder_attention_module_2_lambda: -0.0078 - decoder_attention_module_0_lambda: -0.1388 - decoder_attention_module_1_lambda: -0.1614 - decoder_attention_module_2_lambda: 0.2405 - tot_time: 0h 3m 14.6s\n",
      "\n",
      "Epoch 6: val_NMSE did not improve from 0.07249\n",
      " - saving loss histories at /home/rkaushik/Documents/Thesis/MLROM/Kolmogorov/saved_ae/ae_017/checkpoints/LossHistoriesCheckpoint\n",
      "1250/1250 [==============================] - 32s 26ms/step - loss: 0.0082 - mse: 0.0080 - NMSE: 0.0724 - encoder_attention_module_0_lambda: -0.0348 - encoder_attention_module_1_lambda: 0.0057 - encoder_attention_module_2_lambda: -0.0077 - decoder_attention_module_0_lambda: -0.1388 - decoder_attention_module_1_lambda: -0.1614 - decoder_attention_module_2_lambda: 0.2406 - val_loss: 0.0083 - val_mse: 0.0081 - val_NMSE: 0.0728\n",
      "Epoch 7/200\n",
      "1248/1250 [============================>.] - ETA: 0s - loss: 0.0074 - mse: 0.0072 - NMSE: 0.0651 - encoder_attention_module_0_lambda: -0.0328 - encoder_attention_module_1_lambda: 9.9197e-04 - encoder_attention_module_2_lambda: -1.2948e-05 - decoder_attention_module_0_lambda: -0.1334 - decoder_attention_module_1_lambda: -0.1548 - decoder_attention_module_2_lambda: 0.2597 - tot_time: 0h 3m 46.0s\n",
      "\n",
      "Epoch 7: val_NMSE improved from 0.07249 to 0.05988, saving model to /home/rkaushik/Documents/Thesis/MLROM/Kolmogorov/saved_ae/ae_017/checkpoints/checkpoint\n",
      " - saving loss histories at /home/rkaushik/Documents/Thesis/MLROM/Kolmogorov/saved_ae/ae_017/checkpoints/LossHistoriesCheckpoint\n",
      "1250/1250 [==============================] - 32s 25ms/step - loss: 0.0074 - mse: 0.0072 - NMSE: 0.0651 - encoder_attention_module_0_lambda: -0.0327 - encoder_attention_module_1_lambda: 9.8040e-04 - encoder_attention_module_2_lambda: -2.4002e-05 - decoder_attention_module_0_lambda: -0.1334 - decoder_attention_module_1_lambda: -0.1548 - decoder_attention_module_2_lambda: 0.2597 - val_loss: 0.0069 - val_mse: 0.0067 - val_NMSE: 0.0599\n",
      "Epoch 8/200\n"
     ]
    },
    {
     "name": "stdout",
     "output_type": "stream",
     "text": [
      "1248/1250 [============================>.] - ETA: 0s - loss: 0.0085 - mse: 0.0083 - NMSE: 0.0749 - encoder_attention_module_0_lambda: -0.0533 - encoder_attention_module_1_lambda: 0.0067 - encoder_attention_module_2_lambda: -0.0238 - decoder_attention_module_0_lambda: -0.1397 - decoder_attention_module_1_lambda: -0.1650 - decoder_attention_module_2_lambda: 0.2982 - tot_time: 0h 4m 16.8s\n",
      "\n",
      "Epoch 8: val_NMSE did not improve from 0.05988\n",
      " - saving loss histories at /home/rkaushik/Documents/Thesis/MLROM/Kolmogorov/saved_ae/ae_017/checkpoints/LossHistoriesCheckpoint\n",
      "1250/1250 [==============================] - 31s 25ms/step - loss: 0.0085 - mse: 0.0083 - NMSE: 0.0749 - encoder_attention_module_0_lambda: -0.0533 - encoder_attention_module_1_lambda: 0.0067 - encoder_attention_module_2_lambda: -0.0238 - decoder_attention_module_0_lambda: -0.1396 - decoder_attention_module_1_lambda: -0.1650 - decoder_attention_module_2_lambda: 0.2982 - val_loss: 0.0082 - val_mse: 0.0080 - val_NMSE: 0.0721\n",
      "Epoch 9/200\n",
      "1249/1250 [============================>.] - ETA: 0s - loss: 0.0067 - mse: 0.0065 - NMSE: 0.0584 - encoder_attention_module_0_lambda: -0.0473 - encoder_attention_module_1_lambda: 0.0099 - encoder_attention_module_2_lambda: -0.0194 - decoder_attention_module_0_lambda: -0.1241 - decoder_attention_module_1_lambda: -0.1535 - decoder_attention_module_2_lambda: 0.3069 - tot_time: 0h 4m 47.9s\n",
      "\n",
      "Epoch 9: val_NMSE improved from 0.05988 to 0.04714, saving model to /home/rkaushik/Documents/Thesis/MLROM/Kolmogorov/saved_ae/ae_017/checkpoints/checkpoint\n",
      " - saving loss histories at /home/rkaushik/Documents/Thesis/MLROM/Kolmogorov/saved_ae/ae_017/checkpoints/LossHistoriesCheckpoint\n",
      "1250/1250 [==============================] - 31s 25ms/step - loss: 0.0067 - mse: 0.0065 - NMSE: 0.0584 - encoder_attention_module_0_lambda: -0.0473 - encoder_attention_module_1_lambda: 0.0099 - encoder_attention_module_2_lambda: -0.0194 - decoder_attention_module_0_lambda: -0.1241 - decoder_attention_module_1_lambda: -0.1535 - decoder_attention_module_2_lambda: 0.3069 - val_loss: 0.0055 - val_mse: 0.0052 - val_NMSE: 0.0471\n",
      "Epoch 10/200\n",
      "1250/1250 [==============================] - ETA: 0s - loss: 0.0058 - mse: 0.0056 - NMSE: 0.0501 - encoder_attention_module_0_lambda: -0.0465 - encoder_attention_module_1_lambda: 0.0077 - encoder_attention_module_2_lambda: -0.0122 - decoder_attention_module_0_lambda: -0.1207 - decoder_attention_module_1_lambda: -0.1550 - decoder_attention_module_2_lambda: 0.3105 - tot_time: 0h 5m 19.4s\n",
      "\n",
      "Epoch 10: val_NMSE did not improve from 0.04714\n",
      " - saving loss histories at /home/rkaushik/Documents/Thesis/MLROM/Kolmogorov/saved_ae/ae_017/checkpoints/LossHistoriesCheckpoint\n",
      "1250/1250 [==============================] - 31s 25ms/step - loss: 0.0058 - mse: 0.0056 - NMSE: 0.0501 - encoder_attention_module_0_lambda: -0.0465 - encoder_attention_module_1_lambda: 0.0077 - encoder_attention_module_2_lambda: -0.0122 - decoder_attention_module_0_lambda: -0.1207 - decoder_attention_module_1_lambda: -0.1550 - decoder_attention_module_2_lambda: 0.3105 - val_loss: 0.0057 - val_mse: 0.0054 - val_NMSE: 0.0489\n",
      "Epoch 11/200\n",
      "1248/1250 [============================>.] - ETA: 0s - loss: 0.0052 - mse: 0.0050 - NMSE: 0.0449 - encoder_attention_module_0_lambda: -0.0494 - encoder_attention_module_1_lambda: 0.0172 - encoder_attention_module_2_lambda: -0.0124 - decoder_attention_module_0_lambda: -0.1180 - decoder_attention_module_1_lambda: -0.1520 - decoder_attention_module_2_lambda: 0.3134 - tot_time: 0h 5m 51.7s\n",
      "\n",
      "Epoch 11: val_NMSE improved from 0.04714 to 0.04026, saving model to /home/rkaushik/Documents/Thesis/MLROM/Kolmogorov/saved_ae/ae_017/checkpoints/checkpoint\n",
      " - saving loss histories at /home/rkaushik/Documents/Thesis/MLROM/Kolmogorov/saved_ae/ae_017/checkpoints/LossHistoriesCheckpoint\n",
      "1250/1250 [==============================] - 32s 26ms/step - loss: 0.0052 - mse: 0.0050 - NMSE: 0.0449 - encoder_attention_module_0_lambda: -0.0494 - encoder_attention_module_1_lambda: 0.0172 - encoder_attention_module_2_lambda: -0.0124 - decoder_attention_module_0_lambda: -0.1181 - decoder_attention_module_1_lambda: -0.1520 - decoder_attention_module_2_lambda: 0.3134 - val_loss: 0.0047 - val_mse: 0.0045 - val_NMSE: 0.0403\n",
      "Epoch 12/200\n",
      "1250/1250 [==============================] - ETA: 0s - loss: 0.0046 - mse: 0.0044 - NMSE: 0.0394 - encoder_attention_module_0_lambda: -0.0524 - encoder_attention_module_1_lambda: 0.0246 - encoder_attention_module_2_lambda: -0.0173 - decoder_attention_module_0_lambda: -0.1211 - decoder_attention_module_1_lambda: -0.1566 - decoder_attention_module_2_lambda: 0.3039 - tot_time: 0h 6m 24.1s\n",
      "\n",
      "Epoch 12: val_NMSE improved from 0.04026 to 0.03721, saving model to /home/rkaushik/Documents/Thesis/MLROM/Kolmogorov/saved_ae/ae_017/checkpoints/checkpoint\n",
      " - saving loss histories at /home/rkaushik/Documents/Thesis/MLROM/Kolmogorov/saved_ae/ae_017/checkpoints/LossHistoriesCheckpoint\n",
      "1250/1250 [==============================] - 32s 26ms/step - loss: 0.0046 - mse: 0.0044 - NMSE: 0.0394 - encoder_attention_module_0_lambda: -0.0524 - encoder_attention_module_1_lambda: 0.0246 - encoder_attention_module_2_lambda: -0.0173 - decoder_attention_module_0_lambda: -0.1211 - decoder_attention_module_1_lambda: -0.1566 - decoder_attention_module_2_lambda: 0.3039 - val_loss: 0.0044 - val_mse: 0.0041 - val_NMSE: 0.0372\n",
      "Epoch 13/200\n",
      "1248/1250 [============================>.] - ETA: 0s - loss: 0.0042 - mse: 0.0040 - NMSE: 0.0359 - encoder_attention_module_0_lambda: -0.0575 - encoder_attention_module_1_lambda: 0.0286 - encoder_attention_module_2_lambda: -0.0212 - decoder_attention_module_0_lambda: -0.1234 - decoder_attention_module_1_lambda: -0.1646 - decoder_attention_module_2_lambda: 0.2996 - tot_time: 0h 6m 56.4s\n",
      "\n",
      "Epoch 13: val_NMSE improved from 0.03721 to 0.03216, saving model to /home/rkaushik/Documents/Thesis/MLROM/Kolmogorov/saved_ae/ae_017/checkpoints/checkpoint\n",
      " - saving loss histories at /home/rkaushik/Documents/Thesis/MLROM/Kolmogorov/saved_ae/ae_017/checkpoints/LossHistoriesCheckpoint\n",
      "1250/1250 [==============================] - 32s 26ms/step - loss: 0.0042 - mse: 0.0040 - NMSE: 0.0359 - encoder_attention_module_0_lambda: -0.0575 - encoder_attention_module_1_lambda: 0.0286 - encoder_attention_module_2_lambda: -0.0212 - decoder_attention_module_0_lambda: -0.1234 - decoder_attention_module_1_lambda: -0.1646 - decoder_attention_module_2_lambda: 0.2996 - val_loss: 0.0038 - val_mse: 0.0036 - val_NMSE: 0.0322\n",
      "Epoch 14/200\n",
      "1249/1250 [============================>.] - ETA: 0s - loss: 0.0040 - mse: 0.0037 - NMSE: 0.0335 - encoder_attention_module_0_lambda: -0.0648 - encoder_attention_module_1_lambda: 0.0346 - encoder_attention_module_2_lambda: -0.0250 - decoder_attention_module_0_lambda: -0.1285 - decoder_attention_module_1_lambda: -0.1734 - decoder_attention_module_2_lambda: 0.2984 - tot_time: 0h 7m 27.7s\n",
      "\n",
      "Epoch 14: val_NMSE improved from 0.03216 to 0.03029, saving model to /home/rkaushik/Documents/Thesis/MLROM/Kolmogorov/saved_ae/ae_017/checkpoints/checkpoint\n",
      " - saving loss histories at /home/rkaushik/Documents/Thesis/MLROM/Kolmogorov/saved_ae/ae_017/checkpoints/LossHistoriesCheckpoint\n",
      "1250/1250 [==============================] - 31s 25ms/step - loss: 0.0040 - mse: 0.0037 - NMSE: 0.0335 - encoder_attention_module_0_lambda: -0.0648 - encoder_attention_module_1_lambda: 0.0346 - encoder_attention_module_2_lambda: -0.0251 - decoder_attention_module_0_lambda: -0.1285 - decoder_attention_module_1_lambda: -0.1734 - decoder_attention_module_2_lambda: 0.2984 - val_loss: 0.0036 - val_mse: 0.0034 - val_NMSE: 0.0303\n",
      "Epoch 15/200\n",
      "1250/1250 [==============================] - ETA: 0s - loss: 0.0037 - mse: 0.0035 - NMSE: 0.0313 - encoder_attention_module_0_lambda: -0.0727 - encoder_attention_module_1_lambda: 0.0380 - encoder_attention_module_2_lambda: -0.0300 - decoder_attention_module_0_lambda: -0.1372 - decoder_attention_module_1_lambda: -0.1812 - decoder_attention_module_2_lambda: 0.2986 - tot_time: 0h 7m 58.6s\n",
      "\n",
      "Epoch 15: val_NMSE improved from 0.03029 to 0.02954, saving model to /home/rkaushik/Documents/Thesis/MLROM/Kolmogorov/saved_ae/ae_017/checkpoints/checkpoint\n",
      " - saving loss histories at /home/rkaushik/Documents/Thesis/MLROM/Kolmogorov/saved_ae/ae_017/checkpoints/LossHistoriesCheckpoint\n",
      "1250/1250 [==============================] - 31s 25ms/step - loss: 0.0037 - mse: 0.0035 - NMSE: 0.0313 - encoder_attention_module_0_lambda: -0.0727 - encoder_attention_module_1_lambda: 0.0380 - encoder_attention_module_2_lambda: -0.0300 - decoder_attention_module_0_lambda: -0.1372 - decoder_attention_module_1_lambda: -0.1812 - decoder_attention_module_2_lambda: 0.2986 - val_loss: 0.0035 - val_mse: 0.0033 - val_NMSE: 0.0295\n"
     ]
    },
    {
     "name": "stdout",
     "output_type": "stream",
     "text": [
      "Epoch 16/200\n",
      "1250/1250 [==============================] - ETA: 0s - loss: 0.0035 - mse: 0.0033 - NMSE: 0.0297 - encoder_attention_module_0_lambda: -0.0806 - encoder_attention_module_1_lambda: 0.0406 - encoder_attention_module_2_lambda: -0.0352 - decoder_attention_module_0_lambda: -0.1465 - decoder_attention_module_1_lambda: -0.1897 - decoder_attention_module_2_lambda: 0.2971 - tot_time: 0h 8m 29.5s\n",
      "\n",
      "Epoch 16: val_NMSE improved from 0.02954 to 0.02843, saving model to /home/rkaushik/Documents/Thesis/MLROM/Kolmogorov/saved_ae/ae_017/checkpoints/checkpoint\n",
      " - saving loss histories at /home/rkaushik/Documents/Thesis/MLROM/Kolmogorov/saved_ae/ae_017/checkpoints/LossHistoriesCheckpoint\n",
      "1250/1250 [==============================] - 31s 25ms/step - loss: 0.0035 - mse: 0.0033 - NMSE: 0.0297 - encoder_attention_module_0_lambda: -0.0806 - encoder_attention_module_1_lambda: 0.0406 - encoder_attention_module_2_lambda: -0.0352 - decoder_attention_module_0_lambda: -0.1465 - decoder_attention_module_1_lambda: -0.1897 - decoder_attention_module_2_lambda: 0.2971 - val_loss: 0.0034 - val_mse: 0.0032 - val_NMSE: 0.0284\n",
      "Epoch 17/200\n",
      "1250/1250 [==============================] - ETA: 0s - loss: 0.0034 - mse: 0.0032 - NMSE: 0.0285 - encoder_attention_module_0_lambda: -0.0902 - encoder_attention_module_1_lambda: 0.0454 - encoder_attention_module_2_lambda: -0.0400 - decoder_attention_module_0_lambda: -0.1533 - decoder_attention_module_1_lambda: -0.1963 - decoder_attention_module_2_lambda: 0.2976 - tot_time: 0h 9m 0.4s\n",
      "\n",
      "Epoch 17: val_NMSE improved from 0.02843 to 0.02568, saving model to /home/rkaushik/Documents/Thesis/MLROM/Kolmogorov/saved_ae/ae_017/checkpoints/checkpoint\n",
      " - saving loss histories at /home/rkaushik/Documents/Thesis/MLROM/Kolmogorov/saved_ae/ae_017/checkpoints/LossHistoriesCheckpoint\n",
      "1250/1250 [==============================] - 31s 25ms/step - loss: 0.0034 - mse: 0.0032 - NMSE: 0.0285 - encoder_attention_module_0_lambda: -0.0902 - encoder_attention_module_1_lambda: 0.0454 - encoder_attention_module_2_lambda: -0.0400 - decoder_attention_module_0_lambda: -0.1533 - decoder_attention_module_1_lambda: -0.1963 - decoder_attention_module_2_lambda: 0.2976 - val_loss: 0.0031 - val_mse: 0.0029 - val_NMSE: 0.0257\n",
      "Epoch 18/200\n",
      "1249/1250 [============================>.] - ETA: 0s - loss: 0.0033 - mse: 0.0031 - NMSE: 0.0275 - encoder_attention_module_0_lambda: -0.1012 - encoder_attention_module_1_lambda: 0.0485 - encoder_attention_module_2_lambda: -0.0430 - decoder_attention_module_0_lambda: -0.1612 - decoder_attention_module_1_lambda: -0.2034 - decoder_attention_module_2_lambda: 0.3007 - tot_time: 0h 9m 31.3s\n",
      "\n",
      "Epoch 18: val_NMSE improved from 0.02568 to 0.02509, saving model to /home/rkaushik/Documents/Thesis/MLROM/Kolmogorov/saved_ae/ae_017/checkpoints/checkpoint\n",
      " - saving loss histories at /home/rkaushik/Documents/Thesis/MLROM/Kolmogorov/saved_ae/ae_017/checkpoints/LossHistoriesCheckpoint\n",
      "1250/1250 [==============================] - 31s 25ms/step - loss: 0.0033 - mse: 0.0031 - NMSE: 0.0275 - encoder_attention_module_0_lambda: -0.1012 - encoder_attention_module_1_lambda: 0.0485 - encoder_attention_module_2_lambda: -0.0430 - decoder_attention_module_0_lambda: -0.1612 - decoder_attention_module_1_lambda: -0.2034 - decoder_attention_module_2_lambda: 0.3007 - val_loss: 0.0030 - val_mse: 0.0028 - val_NMSE: 0.0251\n",
      "Epoch 19/200\n",
      "1250/1250 [==============================] - ETA: 0s - loss: 0.0032 - mse: 0.0030 - NMSE: 0.0266 - encoder_attention_module_0_lambda: -0.1110 - encoder_attention_module_1_lambda: 0.0531 - encoder_attention_module_2_lambda: -0.0455 - decoder_attention_module_0_lambda: -0.1670 - decoder_attention_module_1_lambda: -0.2085 - decoder_attention_module_2_lambda: 0.3065 - tot_time: 0h 10m 2.1s\n",
      "\n",
      "Epoch 19: val_NMSE did not improve from 0.02509\n",
      " - saving loss histories at /home/rkaushik/Documents/Thesis/MLROM/Kolmogorov/saved_ae/ae_017/checkpoints/LossHistoriesCheckpoint\n",
      "1250/1250 [==============================] - 31s 24ms/step - loss: 0.0032 - mse: 0.0030 - NMSE: 0.0266 - encoder_attention_module_0_lambda: -0.1110 - encoder_attention_module_1_lambda: 0.0531 - encoder_attention_module_2_lambda: -0.0455 - decoder_attention_module_0_lambda: -0.1670 - decoder_attention_module_1_lambda: -0.2085 - decoder_attention_module_2_lambda: 0.3065 - val_loss: 0.0033 - val_mse: 0.0030 - val_NMSE: 0.0272\n",
      "Epoch 20/200\n",
      "1248/1250 [============================>.] - ETA: 0s - loss: 0.0031 - mse: 0.0029 - NMSE: 0.0258 - encoder_attention_module_0_lambda: -0.1202 - encoder_attention_module_1_lambda: 0.0574 - encoder_attention_module_2_lambda: -0.0476 - decoder_attention_module_0_lambda: -0.1720 - decoder_attention_module_1_lambda: -0.2131 - decoder_attention_module_2_lambda: 0.3128 - tot_time: 0h 10m 33.0s\n",
      "\n",
      "Epoch 20: val_NMSE improved from 0.02509 to 0.02302, saving model to /home/rkaushik/Documents/Thesis/MLROM/Kolmogorov/saved_ae/ae_017/checkpoints/checkpoint\n",
      " - saving loss histories at /home/rkaushik/Documents/Thesis/MLROM/Kolmogorov/saved_ae/ae_017/checkpoints/LossHistoriesCheckpoint\n",
      "1250/1250 [==============================] - 31s 25ms/step - loss: 0.0031 - mse: 0.0029 - NMSE: 0.0258 - encoder_attention_module_0_lambda: -0.1202 - encoder_attention_module_1_lambda: 0.0574 - encoder_attention_module_2_lambda: -0.0476 - decoder_attention_module_0_lambda: -0.1721 - decoder_attention_module_1_lambda: -0.2131 - decoder_attention_module_2_lambda: 0.3128 - val_loss: 0.0028 - val_mse: 0.0026 - val_NMSE: 0.0230\n",
      "Epoch 21/200\n",
      "1249/1250 [============================>.] - ETA: 0s - loss: 0.0031 - mse: 0.0028 - NMSE: 0.0254 - encoder_attention_module_0_lambda: -0.1301 - encoder_attention_module_1_lambda: 0.0603 - encoder_attention_module_2_lambda: -0.0460 - decoder_attention_module_0_lambda: -0.1774 - decoder_attention_module_1_lambda: -0.2169 - decoder_attention_module_2_lambda: 0.3176 - tot_time: 0h 11m 3.8s\n",
      "\n",
      "Epoch 21: val_NMSE did not improve from 0.02302\n",
      " - saving loss histories at /home/rkaushik/Documents/Thesis/MLROM/Kolmogorov/saved_ae/ae_017/checkpoints/LossHistoriesCheckpoint\n",
      "1250/1250 [==============================] - 31s 25ms/step - loss: 0.0031 - mse: 0.0028 - NMSE: 0.0254 - encoder_attention_module_0_lambda: -0.1301 - encoder_attention_module_1_lambda: 0.0603 - encoder_attention_module_2_lambda: -0.0460 - decoder_attention_module_0_lambda: -0.1774 - decoder_attention_module_1_lambda: -0.2169 - decoder_attention_module_2_lambda: 0.3176 - val_loss: 0.0030 - val_mse: 0.0028 - val_NMSE: 0.0248\n",
      "Epoch 22/200\n",
      "1249/1250 [============================>.] - ETA: 0s - loss: 0.0030 - mse: 0.0028 - NMSE: 0.0249 - encoder_attention_module_0_lambda: -0.1374 - encoder_attention_module_1_lambda: 0.0641 - encoder_attention_module_2_lambda: -0.0505 - decoder_attention_module_0_lambda: -0.1802 - decoder_attention_module_1_lambda: -0.2198 - decoder_attention_module_2_lambda: 0.3229 - tot_time: 0h 11m 34.5s\n",
      "\n",
      "Epoch 22: val_NMSE did not improve from 0.02302\n",
      " - saving loss histories at /home/rkaushik/Documents/Thesis/MLROM/Kolmogorov/saved_ae/ae_017/checkpoints/LossHistoriesCheckpoint\n",
      "1250/1250 [==============================] - 31s 25ms/step - loss: 0.0030 - mse: 0.0028 - NMSE: 0.0249 - encoder_attention_module_0_lambda: -0.1374 - encoder_attention_module_1_lambda: 0.0640 - encoder_attention_module_2_lambda: -0.0505 - decoder_attention_module_0_lambda: -0.1802 - decoder_attention_module_1_lambda: -0.2198 - decoder_attention_module_2_lambda: 0.3229 - val_loss: 0.0029 - val_mse: 0.0026 - val_NMSE: 0.0237\n",
      "Epoch 23/200\n",
      "1250/1250 [==============================] - ETA: 0s - loss: 0.0030 - mse: 0.0027 - NMSE: 0.0245 - encoder_attention_module_0_lambda: -0.1449 - encoder_attention_module_1_lambda: 0.0652 - encoder_attention_module_2_lambda: -0.0512 - decoder_attention_module_0_lambda: -0.1856 - decoder_attention_module_1_lambda: -0.2232 - decoder_attention_module_2_lambda: 0.3270 - tot_time: 0h 12m 5.5s\n",
      "\n",
      "Epoch 23: val_NMSE improved from 0.02302 to 0.02149, saving model to /home/rkaushik/Documents/Thesis/MLROM/Kolmogorov/saved_ae/ae_017/checkpoints/checkpoint\n",
      " - saving loss histories at /home/rkaushik/Documents/Thesis/MLROM/Kolmogorov/saved_ae/ae_017/checkpoints/LossHistoriesCheckpoint\n",
      "1250/1250 [==============================] - 31s 25ms/step - loss: 0.0030 - mse: 0.0027 - NMSE: 0.0245 - encoder_attention_module_0_lambda: -0.1449 - encoder_attention_module_1_lambda: 0.0652 - encoder_attention_module_2_lambda: -0.0512 - decoder_attention_module_0_lambda: -0.1856 - decoder_attention_module_1_lambda: -0.2232 - decoder_attention_module_2_lambda: 0.3270 - val_loss: 0.0026 - val_mse: 0.0024 - val_NMSE: 0.0215\n"
     ]
    },
    {
     "name": "stdout",
     "output_type": "stream",
     "text": [
      "Epoch 24/200\n",
      "1249/1250 [============================>.] - ETA: 0s - loss: 0.0029 - mse: 0.0027 - NMSE: 0.0241 - encoder_attention_module_0_lambda: -0.1537 - encoder_attention_module_1_lambda: 0.0678 - encoder_attention_module_2_lambda: -0.0539 - decoder_attention_module_0_lambda: -0.1882 - decoder_attention_module_1_lambda: -0.2263 - decoder_attention_module_2_lambda: 0.3318 - tot_time: 0h 12m 36.3s\n",
      "\n",
      "Epoch 24: val_NMSE did not improve from 0.02149\n",
      " - saving loss histories at /home/rkaushik/Documents/Thesis/MLROM/Kolmogorov/saved_ae/ae_017/checkpoints/LossHistoriesCheckpoint\n",
      "1250/1250 [==============================] - 31s 25ms/step - loss: 0.0029 - mse: 0.0027 - NMSE: 0.0241 - encoder_attention_module_0_lambda: -0.1537 - encoder_attention_module_1_lambda: 0.0678 - encoder_attention_module_2_lambda: -0.0539 - decoder_attention_module_0_lambda: -0.1882 - decoder_attention_module_1_lambda: -0.2263 - decoder_attention_module_2_lambda: 0.3318 - val_loss: 0.0026 - val_mse: 0.0024 - val_NMSE: 0.0216\n",
      "Epoch 25/200\n",
      "1250/1250 [==============================] - ETA: 0s - loss: 0.0029 - mse: 0.0026 - NMSE: 0.0237 - encoder_attention_module_0_lambda: -0.1605 - encoder_attention_module_1_lambda: 0.0705 - encoder_attention_module_2_lambda: -0.0556 - decoder_attention_module_0_lambda: -0.1922 - decoder_attention_module_1_lambda: -0.2288 - decoder_attention_module_2_lambda: 0.3355 - tot_time: 0h 13m 7.2s\n",
      "\n",
      "Epoch 25: val_NMSE did not improve from 0.02149\n",
      " - saving loss histories at /home/rkaushik/Documents/Thesis/MLROM/Kolmogorov/saved_ae/ae_017/checkpoints/LossHistoriesCheckpoint\n",
      "1250/1250 [==============================] - 31s 25ms/step - loss: 0.0029 - mse: 0.0026 - NMSE: 0.0237 - encoder_attention_module_0_lambda: -0.1605 - encoder_attention_module_1_lambda: 0.0704 - encoder_attention_module_2_lambda: -0.0556 - decoder_attention_module_0_lambda: -0.1922 - decoder_attention_module_1_lambda: -0.2288 - decoder_attention_module_2_lambda: 0.3355 - val_loss: 0.0027 - val_mse: 0.0024 - val_NMSE: 0.0218\n",
      "Epoch 26/200\n",
      "1249/1250 [============================>.] - ETA: 0s - loss: 0.0028 - mse: 0.0026 - NMSE: 0.0232 - encoder_attention_module_0_lambda: -0.1665 - encoder_attention_module_1_lambda: 0.0729 - encoder_attention_module_2_lambda: -0.0586 - decoder_attention_module_0_lambda: -0.1943 - decoder_attention_module_1_lambda: -0.2322 - decoder_attention_module_2_lambda: 0.3387 - tot_time: 0h 13m 38.1s\n",
      "\n",
      "Epoch 26: val_NMSE did not improve from 0.02149\n",
      " - saving loss histories at /home/rkaushik/Documents/Thesis/MLROM/Kolmogorov/saved_ae/ae_017/checkpoints/LossHistoriesCheckpoint\n",
      "1250/1250 [==============================] - 31s 25ms/step - loss: 0.0028 - mse: 0.0026 - NMSE: 0.0232 - encoder_attention_module_0_lambda: -0.1666 - encoder_attention_module_1_lambda: 0.0729 - encoder_attention_module_2_lambda: -0.0586 - decoder_attention_module_0_lambda: -0.1943 - decoder_attention_module_1_lambda: -0.2322 - decoder_attention_module_2_lambda: 0.3387 - val_loss: 0.0028 - val_mse: 0.0025 - val_NMSE: 0.0227\n",
      "Epoch 27/200\n",
      "1250/1250 [==============================] - ETA: 0s - loss: 0.0028 - mse: 0.0025 - NMSE: 0.0229 - encoder_attention_module_0_lambda: -0.1704 - encoder_attention_module_1_lambda: 0.0734 - encoder_attention_module_2_lambda: -0.0612 - decoder_attention_module_0_lambda: -0.1971 - decoder_attention_module_1_lambda: -0.2346 - decoder_attention_module_2_lambda: 0.3435 - tot_time: 0h 14m 9.1s\n",
      "\n",
      "Epoch 27: val_NMSE improved from 0.02149 to 0.02014, saving model to /home/rkaushik/Documents/Thesis/MLROM/Kolmogorov/saved_ae/ae_017/checkpoints/checkpoint\n",
      " - saving loss histories at /home/rkaushik/Documents/Thesis/MLROM/Kolmogorov/saved_ae/ae_017/checkpoints/LossHistoriesCheckpoint\n",
      "1250/1250 [==============================] - 31s 25ms/step - loss: 0.0028 - mse: 0.0025 - NMSE: 0.0229 - encoder_attention_module_0_lambda: -0.1704 - encoder_attention_module_1_lambda: 0.0734 - encoder_attention_module_2_lambda: -0.0612 - decoder_attention_module_0_lambda: -0.1971 - decoder_attention_module_1_lambda: -0.2346 - decoder_attention_module_2_lambda: 0.3435 - val_loss: 0.0025 - val_mse: 0.0022 - val_NMSE: 0.0201\n",
      "Epoch 28/200\n",
      "1249/1250 [============================>.] - ETA: 0s - loss: 0.0028 - mse: 0.0025 - NMSE: 0.0228 - encoder_attention_module_0_lambda: -0.1769 - encoder_attention_module_1_lambda: 0.0743 - encoder_attention_module_2_lambda: -0.0668 - decoder_attention_module_0_lambda: -0.1993 - decoder_attention_module_1_lambda: -0.2354 - decoder_attention_module_2_lambda: 0.3441 - tot_time: 0h 14m 40.0s\n",
      "\n",
      "Epoch 28: val_NMSE did not improve from 0.02014\n",
      " - saving loss histories at /home/rkaushik/Documents/Thesis/MLROM/Kolmogorov/saved_ae/ae_017/checkpoints/LossHistoriesCheckpoint\n",
      "1250/1250 [==============================] - 31s 25ms/step - loss: 0.0028 - mse: 0.0025 - NMSE: 0.0228 - encoder_attention_module_0_lambda: -0.1769 - encoder_attention_module_1_lambda: 0.0743 - encoder_attention_module_2_lambda: -0.0668 - decoder_attention_module_0_lambda: -0.1993 - decoder_attention_module_1_lambda: -0.2354 - decoder_attention_module_2_lambda: 0.3441 - val_loss: 0.0027 - val_mse: 0.0025 - val_NMSE: 0.0223\n",
      "Epoch 29/200\n",
      "1249/1250 [============================>.] - ETA: 0s - loss: 0.0028 - mse: 0.0025 - NMSE: 0.0228 - encoder_attention_module_0_lambda: -0.1808 - encoder_attention_module_1_lambda: 0.0753 - encoder_attention_module_2_lambda: -0.0692 - decoder_attention_module_0_lambda: -0.2011 - decoder_attention_module_1_lambda: -0.2391 - decoder_attention_module_2_lambda: 0.3453 - tot_time: 0h 15m 10.9s\n",
      "\n",
      "Epoch 29: val_NMSE did not improve from 0.02014\n",
      " - saving loss histories at /home/rkaushik/Documents/Thesis/MLROM/Kolmogorov/saved_ae/ae_017/checkpoints/LossHistoriesCheckpoint\n",
      "1250/1250 [==============================] - 31s 25ms/step - loss: 0.0028 - mse: 0.0025 - NMSE: 0.0228 - encoder_attention_module_0_lambda: -0.1808 - encoder_attention_module_1_lambda: 0.0753 - encoder_attention_module_2_lambda: -0.0692 - decoder_attention_module_0_lambda: -0.2011 - decoder_attention_module_1_lambda: -0.2391 - decoder_attention_module_2_lambda: 0.3453 - val_loss: 0.0026 - val_mse: 0.0023 - val_NMSE: 0.0210\n",
      "Epoch 30/200\n",
      "1250/1250 [==============================] - ETA: 0s - loss: 0.0027 - mse: 0.0025 - NMSE: 0.0223 - encoder_attention_module_0_lambda: -0.1851 - encoder_attention_module_1_lambda: 0.0754 - encoder_attention_module_2_lambda: -0.0727 - decoder_attention_module_0_lambda: -0.2036 - decoder_attention_module_1_lambda: -0.2387 - decoder_attention_module_2_lambda: 0.3460 - tot_time: 0h 15m 41.6s\n",
      "\n",
      "Epoch 30: val_NMSE did not improve from 0.02014\n",
      " - saving loss histories at /home/rkaushik/Documents/Thesis/MLROM/Kolmogorov/saved_ae/ae_017/checkpoints/LossHistoriesCheckpoint\n",
      "1250/1250 [==============================] - 31s 25ms/step - loss: 0.0027 - mse: 0.0025 - NMSE: 0.0223 - encoder_attention_module_0_lambda: -0.1851 - encoder_attention_module_1_lambda: 0.0754 - encoder_attention_module_2_lambda: -0.0727 - decoder_attention_module_0_lambda: -0.2036 - decoder_attention_module_1_lambda: -0.2387 - decoder_attention_module_2_lambda: 0.3460 - val_loss: 0.0025 - val_mse: 0.0023 - val_NMSE: 0.0207\n",
      "Epoch 31/200\n",
      "1249/1250 [============================>.] - ETA: 0s - loss: 0.0027 - mse: 0.0025 - NMSE: 0.0221 - encoder_attention_module_0_lambda: -0.1893 - encoder_attention_module_1_lambda: 0.0758 - encoder_attention_module_2_lambda: -0.0802 - decoder_attention_module_0_lambda: -0.2069 - decoder_attention_module_1_lambda: -0.2423 - decoder_attention_module_2_lambda: 0.3471 - tot_time: 0h 16m 12.5s\n",
      "\n",
      "Epoch 31: val_NMSE did not improve from 0.02014\n",
      " - saving loss histories at /home/rkaushik/Documents/Thesis/MLROM/Kolmogorov/saved_ae/ae_017/checkpoints/LossHistoriesCheckpoint\n",
      "1250/1250 [==============================] - 31s 25ms/step - loss: 0.0027 - mse: 0.0025 - NMSE: 0.0221 - encoder_attention_module_0_lambda: -0.1893 - encoder_attention_module_1_lambda: 0.0758 - encoder_attention_module_2_lambda: -0.0802 - decoder_attention_module_0_lambda: -0.2069 - decoder_attention_module_1_lambda: -0.2423 - decoder_attention_module_2_lambda: 0.3471 - val_loss: 0.0027 - val_mse: 0.0024 - val_NMSE: 0.0219\n",
      "Epoch 32/200\n"
     ]
    },
    {
     "name": "stdout",
     "output_type": "stream",
     "text": [
      "1250/1250 [==============================] - ETA: 0s - loss: 0.0027 - mse: 0.0024 - NMSE: 0.0220 - encoder_attention_module_0_lambda: -0.1939 - encoder_attention_module_1_lambda: 0.0763 - encoder_attention_module_2_lambda: -0.0822 - decoder_attention_module_0_lambda: -0.2083 - decoder_attention_module_1_lambda: -0.2439 - decoder_attention_module_2_lambda: 0.3479 - tot_time: 0h 16m 43.3s\n",
      "\n",
      "Epoch 32: val_NMSE did not improve from 0.02014\n",
      " - saving loss histories at /home/rkaushik/Documents/Thesis/MLROM/Kolmogorov/saved_ae/ae_017/checkpoints/LossHistoriesCheckpoint\n",
      "1250/1250 [==============================] - 31s 25ms/step - loss: 0.0027 - mse: 0.0024 - NMSE: 0.0220 - encoder_attention_module_0_lambda: -0.1939 - encoder_attention_module_1_lambda: 0.0763 - encoder_attention_module_2_lambda: -0.0822 - decoder_attention_module_0_lambda: -0.2083 - decoder_attention_module_1_lambda: -0.2439 - decoder_attention_module_2_lambda: 0.3479 - val_loss: 0.0025 - val_mse: 0.0023 - val_NMSE: 0.0203\n",
      "Epoch 33/200\n",
      "1248/1250 [============================>.] - ETA: 0s - loss: 0.0027 - mse: 0.0024 - NMSE: 0.0219 - encoder_attention_module_0_lambda: -0.1976 - encoder_attention_module_1_lambda: 0.0770 - encoder_attention_module_2_lambda: -0.0854 - decoder_attention_module_0_lambda: -0.2092 - decoder_attention_module_1_lambda: -0.2451 - decoder_attention_module_2_lambda: 0.3478 - tot_time: 0h 17m 14.2s\n",
      "\n",
      "Epoch 33: val_NMSE improved from 0.02014 to 0.02009, saving model to /home/rkaushik/Documents/Thesis/MLROM/Kolmogorov/saved_ae/ae_017/checkpoints/checkpoint\n",
      " - saving loss histories at /home/rkaushik/Documents/Thesis/MLROM/Kolmogorov/saved_ae/ae_017/checkpoints/LossHistoriesCheckpoint\n",
      "1250/1250 [==============================] - 31s 25ms/step - loss: 0.0027 - mse: 0.0024 - NMSE: 0.0219 - encoder_attention_module_0_lambda: -0.1976 - encoder_attention_module_1_lambda: 0.0770 - encoder_attention_module_2_lambda: -0.0854 - decoder_attention_module_0_lambda: -0.2092 - decoder_attention_module_1_lambda: -0.2451 - decoder_attention_module_2_lambda: 0.3478 - val_loss: 0.0025 - val_mse: 0.0022 - val_NMSE: 0.0201\n",
      "Epoch 34/200\n",
      "1250/1250 [==============================] - ETA: 0s - loss: 0.0027 - mse: 0.0024 - NMSE: 0.0217 - encoder_attention_module_0_lambda: -0.2020 - encoder_attention_module_1_lambda: 0.0780 - encoder_attention_module_2_lambda: -0.0864 - decoder_attention_module_0_lambda: -0.2129 - decoder_attention_module_1_lambda: -0.2476 - decoder_attention_module_2_lambda: 0.3465 - tot_time: 0h 17m 46.8s\n",
      "\n",
      "Epoch 34: val_NMSE improved from 0.02009 to 0.01917, saving model to /home/rkaushik/Documents/Thesis/MLROM/Kolmogorov/saved_ae/ae_017/checkpoints/checkpoint\n",
      " - saving loss histories at /home/rkaushik/Documents/Thesis/MLROM/Kolmogorov/saved_ae/ae_017/checkpoints/LossHistoriesCheckpoint\n",
      "1250/1250 [==============================] - 33s 26ms/step - loss: 0.0027 - mse: 0.0024 - NMSE: 0.0217 - encoder_attention_module_0_lambda: -0.2020 - encoder_attention_module_1_lambda: 0.0780 - encoder_attention_module_2_lambda: -0.0864 - decoder_attention_module_0_lambda: -0.2129 - decoder_attention_module_1_lambda: -0.2476 - decoder_attention_module_2_lambda: 0.3465 - val_loss: 0.0024 - val_mse: 0.0021 - val_NMSE: 0.0192\n",
      "Epoch 35/200\n",
      "1249/1250 [============================>.] - ETA: 0s - loss: 0.0026 - mse: 0.0024 - NMSE: 0.0215 - encoder_attention_module_0_lambda: -0.2070 - encoder_attention_module_1_lambda: 0.0789 - encoder_attention_module_2_lambda: -0.0914 - decoder_attention_module_0_lambda: -0.2142 - decoder_attention_module_1_lambda: -0.2495 - decoder_attention_module_2_lambda: 0.3476 - tot_time: 0h 18m 19.3s\n",
      "\n",
      "Epoch 35: val_NMSE did not improve from 0.01917\n",
      " - saving loss histories at /home/rkaushik/Documents/Thesis/MLROM/Kolmogorov/saved_ae/ae_017/checkpoints/LossHistoriesCheckpoint\n",
      "1250/1250 [==============================] - 32s 26ms/step - loss: 0.0026 - mse: 0.0024 - NMSE: 0.0215 - encoder_attention_module_0_lambda: -0.2070 - encoder_attention_module_1_lambda: 0.0789 - encoder_attention_module_2_lambda: -0.0914 - decoder_attention_module_0_lambda: -0.2142 - decoder_attention_module_1_lambda: -0.2495 - decoder_attention_module_2_lambda: 0.3476 - val_loss: 0.0024 - val_mse: 0.0022 - val_NMSE: 0.0196\n",
      "Epoch 36/200\n",
      "1249/1250 [============================>.] - ETA: 0s - loss: 0.0026 - mse: 0.0024 - NMSE: 0.0215 - encoder_attention_module_0_lambda: -0.2110 - encoder_attention_module_1_lambda: 0.0797 - encoder_attention_module_2_lambda: -0.0922 - decoder_attention_module_0_lambda: -0.2160 - decoder_attention_module_1_lambda: -0.2505 - decoder_attention_module_2_lambda: 0.3470 - tot_time: 0h 18m 51.7s\n",
      "\n",
      "Epoch 36: val_NMSE did not improve from 0.01917\n",
      " - saving loss histories at /home/rkaushik/Documents/Thesis/MLROM/Kolmogorov/saved_ae/ae_017/checkpoints/LossHistoriesCheckpoint\n",
      "1250/1250 [==============================] - 32s 26ms/step - loss: 0.0026 - mse: 0.0024 - NMSE: 0.0215 - encoder_attention_module_0_lambda: -0.2110 - encoder_attention_module_1_lambda: 0.0797 - encoder_attention_module_2_lambda: -0.0922 - decoder_attention_module_0_lambda: -0.2160 - decoder_attention_module_1_lambda: -0.2505 - decoder_attention_module_2_lambda: 0.3470 - val_loss: 0.0025 - val_mse: 0.0023 - val_NMSE: 0.0206\n",
      "Epoch 37/200\n",
      "1249/1250 [============================>.] - ETA: 0s - loss: 0.0026 - mse: 0.0023 - NMSE: 0.0211 - encoder_attention_module_0_lambda: -0.2155 - encoder_attention_module_1_lambda: 0.0804 - encoder_attention_module_2_lambda: -0.0950 - decoder_attention_module_0_lambda: -0.2168 - decoder_attention_module_1_lambda: -0.2517 - decoder_attention_module_2_lambda: 0.3481 - tot_time: 0h 19m 24.3s\n",
      "\n",
      "Epoch 37: val_NMSE improved from 0.01917 to 0.01885, saving model to /home/rkaushik/Documents/Thesis/MLROM/Kolmogorov/saved_ae/ae_017/checkpoints/checkpoint\n",
      " - saving loss histories at /home/rkaushik/Documents/Thesis/MLROM/Kolmogorov/saved_ae/ae_017/checkpoints/LossHistoriesCheckpoint\n",
      "1250/1250 [==============================] - 33s 26ms/step - loss: 0.0026 - mse: 0.0023 - NMSE: 0.0211 - encoder_attention_module_0_lambda: -0.2155 - encoder_attention_module_1_lambda: 0.0804 - encoder_attention_module_2_lambda: -0.0950 - decoder_attention_module_0_lambda: -0.2168 - decoder_attention_module_1_lambda: -0.2517 - decoder_attention_module_2_lambda: 0.3481 - val_loss: 0.0023 - val_mse: 0.0021 - val_NMSE: 0.0188\n",
      "Epoch 38/200\n",
      "1250/1250 [==============================] - ETA: 0s - loss: 0.0026 - mse: 0.0024 - NMSE: 0.0213 - encoder_attention_module_0_lambda: -0.2168 - encoder_attention_module_1_lambda: 0.0808 - encoder_attention_module_2_lambda: -0.0974 - decoder_attention_module_0_lambda: -0.2193 - decoder_attention_module_1_lambda: -0.2520 - decoder_attention_module_2_lambda: 0.3474 - tot_time: 0h 19m 56.9s\n",
      "\n",
      "Epoch 38: val_NMSE did not improve from 0.01885\n",
      " - saving loss histories at /home/rkaushik/Documents/Thesis/MLROM/Kolmogorov/saved_ae/ae_017/checkpoints/LossHistoriesCheckpoint\n",
      "1250/1250 [==============================] - 32s 26ms/step - loss: 0.0026 - mse: 0.0024 - NMSE: 0.0213 - encoder_attention_module_0_lambda: -0.2168 - encoder_attention_module_1_lambda: 0.0808 - encoder_attention_module_2_lambda: -0.0974 - decoder_attention_module_0_lambda: -0.2193 - decoder_attention_module_1_lambda: -0.2520 - decoder_attention_module_2_lambda: 0.3474 - val_loss: 0.0024 - val_mse: 0.0021 - val_NMSE: 0.0193\n",
      "Epoch 39/200\n",
      "1248/1250 [============================>.] - ETA: 0s - loss: 0.0026 - mse: 0.0023 - NMSE: 0.0211 - encoder_attention_module_0_lambda: -0.2215 - encoder_attention_module_1_lambda: 0.0806 - encoder_attention_module_2_lambda: -0.0997 - decoder_attention_module_0_lambda: -0.2211 - decoder_attention_module_1_lambda: -0.2535 - decoder_attention_module_2_lambda: 0.3496 - tot_time: 0h 20m 29.4s\n",
      "\n",
      "Epoch 39: val_NMSE did not improve from 0.01885\n",
      " - saving loss histories at /home/rkaushik/Documents/Thesis/MLROM/Kolmogorov/saved_ae/ae_017/checkpoints/LossHistoriesCheckpoint\n",
      "1250/1250 [==============================] - 32s 26ms/step - loss: 0.0026 - mse: 0.0023 - NMSE: 0.0211 - encoder_attention_module_0_lambda: -0.2215 - encoder_attention_module_1_lambda: 0.0807 - encoder_attention_module_2_lambda: -0.0997 - decoder_attention_module_0_lambda: -0.2211 - decoder_attention_module_1_lambda: -0.2535 - decoder_attention_module_2_lambda: 0.3496 - val_loss: 0.0025 - val_mse: 0.0022 - val_NMSE: 0.0199\n"
     ]
    },
    {
     "name": "stdout",
     "output_type": "stream",
     "text": [
      "Epoch 40/200\n",
      "1249/1250 [============================>.] - ETA: 0s - loss: 0.0026 - mse: 0.0023 - NMSE: 0.0210 - encoder_attention_module_0_lambda: -0.2258 - encoder_attention_module_1_lambda: 0.0818 - encoder_attention_module_2_lambda: -0.1024 - decoder_attention_module_0_lambda: -0.2236 - decoder_attention_module_1_lambda: -0.2548 - decoder_attention_module_2_lambda: 0.3491 - tot_time: 0h 21m 1.9s\n",
      "\n",
      "Epoch 40: val_NMSE did not improve from 0.01885\n",
      " - saving loss histories at /home/rkaushik/Documents/Thesis/MLROM/Kolmogorov/saved_ae/ae_017/checkpoints/LossHistoriesCheckpoint\n",
      "1250/1250 [==============================] - 32s 26ms/step - loss: 0.0026 - mse: 0.0023 - NMSE: 0.0210 - encoder_attention_module_0_lambda: -0.2258 - encoder_attention_module_1_lambda: 0.0818 - encoder_attention_module_2_lambda: -0.1024 - decoder_attention_module_0_lambda: -0.2236 - decoder_attention_module_1_lambda: -0.2548 - decoder_attention_module_2_lambda: 0.3491 - val_loss: 0.0026 - val_mse: 0.0023 - val_NMSE: 0.0211\n",
      "Epoch 41/200\n",
      "1250/1250 [==============================] - ETA: 0s - loss: 0.0026 - mse: 0.0023 - NMSE: 0.0208 - encoder_attention_module_0_lambda: -0.2299 - encoder_attention_module_1_lambda: 0.0825 - encoder_attention_module_2_lambda: -0.1054 - decoder_attention_module_0_lambda: -0.2244 - decoder_attention_module_1_lambda: -0.2558 - decoder_attention_module_2_lambda: 0.3505 - tot_time: 0h 21m 34.3s\n",
      "\n",
      "Epoch 41: val_NMSE did not improve from 0.01885\n",
      " - saving loss histories at /home/rkaushik/Documents/Thesis/MLROM/Kolmogorov/saved_ae/ae_017/checkpoints/LossHistoriesCheckpoint\n",
      "1250/1250 [==============================] - 32s 26ms/step - loss: 0.0026 - mse: 0.0023 - NMSE: 0.0208 - encoder_attention_module_0_lambda: -0.2299 - encoder_attention_module_1_lambda: 0.0825 - encoder_attention_module_2_lambda: -0.1054 - decoder_attention_module_0_lambda: -0.2244 - decoder_attention_module_1_lambda: -0.2558 - decoder_attention_module_2_lambda: 0.3505 - val_loss: 0.0024 - val_mse: 0.0021 - val_NMSE: 0.0192\n",
      "Epoch 42/200\n",
      "1249/1250 [============================>.] - ETA: 0s - loss: 0.0026 - mse: 0.0023 - NMSE: 0.0208 - encoder_attention_module_0_lambda: -0.2325 - encoder_attention_module_1_lambda: 0.0819 - encoder_attention_module_2_lambda: -0.1075 - decoder_attention_module_0_lambda: -0.2256 - decoder_attention_module_1_lambda: -0.2567 - decoder_attention_module_2_lambda: 0.3498 - tot_time: 0h 22m 6.7s\n",
      "\n",
      "Epoch 42: val_NMSE improved from 0.01885 to 0.01873, saving model to /home/rkaushik/Documents/Thesis/MLROM/Kolmogorov/saved_ae/ae_017/checkpoints/checkpoint\n",
      " - saving loss histories at /home/rkaushik/Documents/Thesis/MLROM/Kolmogorov/saved_ae/ae_017/checkpoints/LossHistoriesCheckpoint\n",
      "1250/1250 [==============================] - 33s 26ms/step - loss: 0.0026 - mse: 0.0023 - NMSE: 0.0208 - encoder_attention_module_0_lambda: -0.2325 - encoder_attention_module_1_lambda: 0.0819 - encoder_attention_module_2_lambda: -0.1075 - decoder_attention_module_0_lambda: -0.2256 - decoder_attention_module_1_lambda: -0.2567 - decoder_attention_module_2_lambda: 0.3498 - val_loss: 0.0023 - val_mse: 0.0021 - val_NMSE: 0.0187\n",
      "Epoch 43/200\n",
      "1249/1250 [============================>.] - ETA: 0s - loss: 0.0026 - mse: 0.0023 - NMSE: 0.0208 - encoder_attention_module_0_lambda: -0.2356 - encoder_attention_module_1_lambda: 0.0844 - encoder_attention_module_2_lambda: -0.1105 - decoder_attention_module_0_lambda: -0.2267 - decoder_attention_module_1_lambda: -0.2571 - decoder_attention_module_2_lambda: 0.3512 - tot_time: 0h 22m 39.2s\n",
      "\n",
      "Epoch 43: val_NMSE did not improve from 0.01873\n",
      " - saving loss histories at /home/rkaushik/Documents/Thesis/MLROM/Kolmogorov/saved_ae/ae_017/checkpoints/LossHistoriesCheckpoint\n",
      "1250/1250 [==============================] - 32s 26ms/step - loss: 0.0026 - mse: 0.0023 - NMSE: 0.0208 - encoder_attention_module_0_lambda: -0.2356 - encoder_attention_module_1_lambda: 0.0844 - encoder_attention_module_2_lambda: -0.1105 - decoder_attention_module_0_lambda: -0.2267 - decoder_attention_module_1_lambda: -0.2571 - decoder_attention_module_2_lambda: 0.3512 - val_loss: 0.0025 - val_mse: 0.0022 - val_NMSE: 0.0200\n",
      "Epoch 44/200\n",
      "1248/1250 [============================>.] - ETA: 0s - loss: 0.0025 - mse: 0.0023 - NMSE: 0.0206 - encoder_attention_module_0_lambda: -0.2399 - encoder_attention_module_1_lambda: 0.0873 - encoder_attention_module_2_lambda: -0.1131 - decoder_attention_module_0_lambda: -0.2282 - decoder_attention_module_1_lambda: -0.2584 - decoder_attention_module_2_lambda: 0.3508 - tot_time: 0h 23m 11.7s\n",
      "\n",
      "Epoch 44: val_NMSE did not improve from 0.01873\n",
      " - saving loss histories at /home/rkaushik/Documents/Thesis/MLROM/Kolmogorov/saved_ae/ae_017/checkpoints/LossHistoriesCheckpoint\n",
      "1250/1250 [==============================] - 33s 26ms/step - loss: 0.0025 - mse: 0.0023 - NMSE: 0.0206 - encoder_attention_module_0_lambda: -0.2399 - encoder_attention_module_1_lambda: 0.0873 - encoder_attention_module_2_lambda: -0.1131 - decoder_attention_module_0_lambda: -0.2282 - decoder_attention_module_1_lambda: -0.2584 - decoder_attention_module_2_lambda: 0.3508 - val_loss: 0.0024 - val_mse: 0.0022 - val_NMSE: 0.0195\n",
      "Epoch 45/200\n",
      "1249/1250 [============================>.] - ETA: 0s - loss: 0.0025 - mse: 0.0023 - NMSE: 0.0206 - encoder_attention_module_0_lambda: -0.2416 - encoder_attention_module_1_lambda: 0.0883 - encoder_attention_module_2_lambda: -0.1158 - decoder_attention_module_0_lambda: -0.2294 - decoder_attention_module_1_lambda: -0.2595 - decoder_attention_module_2_lambda: 0.3514 - tot_time: 0h 23m 44.5s\n",
      "\n",
      "Epoch 45: val_NMSE did not improve from 0.01873\n",
      " - saving loss histories at /home/rkaushik/Documents/Thesis/MLROM/Kolmogorov/saved_ae/ae_017/checkpoints/LossHistoriesCheckpoint\n",
      "1250/1250 [==============================] - 33s 26ms/step - loss: 0.0025 - mse: 0.0023 - NMSE: 0.0206 - encoder_attention_module_0_lambda: -0.2416 - encoder_attention_module_1_lambda: 0.0883 - encoder_attention_module_2_lambda: -0.1158 - decoder_attention_module_0_lambda: -0.2294 - decoder_attention_module_1_lambda: -0.2595 - decoder_attention_module_2_lambda: 0.3514 - val_loss: 0.0024 - val_mse: 0.0022 - val_NMSE: 0.0198\n",
      "Epoch 46/200\n",
      "1248/1250 [============================>.] - ETA: 0s - loss: 0.0025 - mse: 0.0023 - NMSE: 0.0205 - encoder_attention_module_0_lambda: -0.2446 - encoder_attention_module_1_lambda: 0.0879 - encoder_attention_module_2_lambda: -0.1169 - decoder_attention_module_0_lambda: -0.2310 - decoder_attention_module_1_lambda: -0.2608 - decoder_attention_module_2_lambda: 0.3515 - tot_time: 0h 24m 17.0s\n",
      "\n",
      "Epoch 46: val_NMSE did not improve from 0.01873\n",
      " - saving loss histories at /home/rkaushik/Documents/Thesis/MLROM/Kolmogorov/saved_ae/ae_017/checkpoints/LossHistoriesCheckpoint\n",
      "1250/1250 [==============================] - 33s 26ms/step - loss: 0.0025 - mse: 0.0023 - NMSE: 0.0204 - encoder_attention_module_0_lambda: -0.2445 - encoder_attention_module_1_lambda: 0.0879 - encoder_attention_module_2_lambda: -0.1169 - decoder_attention_module_0_lambda: -0.2310 - decoder_attention_module_1_lambda: -0.2608 - decoder_attention_module_2_lambda: 0.3515 - val_loss: 0.0025 - val_mse: 0.0022 - val_NMSE: 0.0200\n",
      "Epoch 47/200\n",
      "1250/1250 [==============================] - ETA: 0s - loss: 0.0025 - mse: 0.0023 - NMSE: 0.0204 - encoder_attention_module_0_lambda: -0.2479 - encoder_attention_module_1_lambda: 0.0897 - encoder_attention_module_2_lambda: -0.1180 - decoder_attention_module_0_lambda: -0.2320 - decoder_attention_module_1_lambda: -0.2599 - decoder_attention_module_2_lambda: 0.3507 - tot_time: 0h 24m 49.4s\n",
      "\n",
      "Epoch 47: val_NMSE did not improve from 0.01873\n",
      " - saving loss histories at /home/rkaushik/Documents/Thesis/MLROM/Kolmogorov/saved_ae/ae_017/checkpoints/LossHistoriesCheckpoint\n",
      "1250/1250 [==============================] - 32s 26ms/step - loss: 0.0025 - mse: 0.0023 - NMSE: 0.0204 - encoder_attention_module_0_lambda: -0.2479 - encoder_attention_module_1_lambda: 0.0897 - encoder_attention_module_2_lambda: -0.1180 - decoder_attention_module_0_lambda: -0.2320 - decoder_attention_module_1_lambda: -0.2599 - decoder_attention_module_2_lambda: 0.3507 - val_loss: 0.0026 - val_mse: 0.0023 - val_NMSE: 0.0208\n",
      "Epoch 48/200\n"
     ]
    },
    {
     "name": "stdout",
     "output_type": "stream",
     "text": [
      "1249/1250 [============================>.] - ETA: 0s - loss: 0.0025 - mse: 0.0023 - NMSE: 0.0203 - encoder_attention_module_0_lambda: -0.2516 - encoder_attention_module_1_lambda: 0.0908 - encoder_attention_module_2_lambda: -0.1213 - decoder_attention_module_0_lambda: -0.2335 - decoder_attention_module_1_lambda: -0.2600 - decoder_attention_module_2_lambda: 0.3515 - tot_time: 0h 25m 22.1s\n",
      "\n",
      "Epoch 48: val_NMSE did not improve from 0.01873\n",
      " - saving loss histories at /home/rkaushik/Documents/Thesis/MLROM/Kolmogorov/saved_ae/ae_017/checkpoints/LossHistoriesCheckpoint\n",
      "1250/1250 [==============================] - 33s 26ms/step - loss: 0.0025 - mse: 0.0023 - NMSE: 0.0203 - encoder_attention_module_0_lambda: -0.2516 - encoder_attention_module_1_lambda: 0.0908 - encoder_attention_module_2_lambda: -0.1213 - decoder_attention_module_0_lambda: -0.2335 - decoder_attention_module_1_lambda: -0.2600 - decoder_attention_module_2_lambda: 0.3515 - val_loss: 0.0023 - val_mse: 0.0021 - val_NMSE: 0.0188\n",
      "Epoch 49/200\n",
      "1250/1250 [==============================] - ETA: 0s - loss: 0.0025 - mse: 0.0022 - NMSE: 0.0202 - encoder_attention_module_0_lambda: -0.2565 - encoder_attention_module_1_lambda: 0.0901 - encoder_attention_module_2_lambda: -0.1231 - decoder_attention_module_0_lambda: -0.2349 - decoder_attention_module_1_lambda: -0.2612 - decoder_attention_module_2_lambda: 0.3528 - tot_time: 0h 25m 54.7s\n",
      "\n",
      "Epoch 49: val_NMSE did not improve from 0.01873\n",
      " - saving loss histories at /home/rkaushik/Documents/Thesis/MLROM/Kolmogorov/saved_ae/ae_017/checkpoints/LossHistoriesCheckpoint\n",
      "1250/1250 [==============================] - 33s 26ms/step - loss: 0.0025 - mse: 0.0022 - NMSE: 0.0202 - encoder_attention_module_0_lambda: -0.2565 - encoder_attention_module_1_lambda: 0.0901 - encoder_attention_module_2_lambda: -0.1231 - decoder_attention_module_0_lambda: -0.2349 - decoder_attention_module_1_lambda: -0.2612 - decoder_attention_module_2_lambda: 0.3528 - val_loss: 0.0025 - val_mse: 0.0022 - val_NMSE: 0.0202\n",
      "Epoch 50/200\n",
      "1250/1250 [==============================] - ETA: 0s - loss: 0.0025 - mse: 0.0022 - NMSE: 0.0202 - encoder_attention_module_0_lambda: -0.2586 - encoder_attention_module_1_lambda: 0.0915 - encoder_attention_module_2_lambda: -0.1223 - decoder_attention_module_0_lambda: -0.2367 - decoder_attention_module_1_lambda: -0.2621 - decoder_attention_module_2_lambda: 0.3532 - tot_time: 0h 26m 27.0s\n",
      "\n",
      "Epoch 50: val_NMSE did not improve from 0.01873\n",
      " - saving loss histories at /home/rkaushik/Documents/Thesis/MLROM/Kolmogorov/saved_ae/ae_017/checkpoints/LossHistoriesCheckpoint\n",
      "1250/1250 [==============================] - 32s 26ms/step - loss: 0.0025 - mse: 0.0022 - NMSE: 0.0202 - encoder_attention_module_0_lambda: -0.2586 - encoder_attention_module_1_lambda: 0.0915 - encoder_attention_module_2_lambda: -0.1223 - decoder_attention_module_0_lambda: -0.2367 - decoder_attention_module_1_lambda: -0.2621 - decoder_attention_module_2_lambda: 0.3532 - val_loss: 0.0025 - val_mse: 0.0022 - val_NMSE: 0.0200\n",
      "Epoch 51/200\n",
      "1249/1250 [============================>.] - ETA: 0s - loss: 0.0025 - mse: 0.0023 - NMSE: 0.0203 - encoder_attention_module_0_lambda: -0.2601 - encoder_attention_module_1_lambda: 0.0908 - encoder_attention_module_2_lambda: -0.1249 - decoder_attention_module_0_lambda: -0.2363 - decoder_attention_module_1_lambda: -0.2616 - decoder_attention_module_2_lambda: 0.3539 - tot_time: 0h 26m 59.7s\n",
      "\n",
      "Epoch 51: val_NMSE did not improve from 0.01873\n",
      " - saving loss histories at /home/rkaushik/Documents/Thesis/MLROM/Kolmogorov/saved_ae/ae_017/checkpoints/LossHistoriesCheckpoint\n",
      "1250/1250 [==============================] - 33s 26ms/step - loss: 0.0025 - mse: 0.0023 - NMSE: 0.0203 - encoder_attention_module_0_lambda: -0.2601 - encoder_attention_module_1_lambda: 0.0908 - encoder_attention_module_2_lambda: -0.1249 - decoder_attention_module_0_lambda: -0.2363 - decoder_attention_module_1_lambda: -0.2616 - decoder_attention_module_2_lambda: 0.3539 - val_loss: 0.0025 - val_mse: 0.0023 - val_NMSE: 0.0204\n",
      "Epoch 52/200\n",
      "1249/1250 [============================>.] - ETA: 0s - loss: 0.0025 - mse: 0.0022 - NMSE: 0.0200 - encoder_attention_module_0_lambda: -0.2615 - encoder_attention_module_1_lambda: 0.0903 - encoder_attention_module_2_lambda: -0.1254 - decoder_attention_module_0_lambda: -0.2370 - decoder_attention_module_1_lambda: -0.2624 - decoder_attention_module_2_lambda: 0.3539 - tot_time: 0h 27m 31.8s\n",
      "\n",
      "Epoch 52: val_NMSE improved from 0.01873 to 0.01840, saving model to /home/rkaushik/Documents/Thesis/MLROM/Kolmogorov/saved_ae/ae_017/checkpoints/checkpoint\n",
      " - saving loss histories at /home/rkaushik/Documents/Thesis/MLROM/Kolmogorov/saved_ae/ae_017/checkpoints/LossHistoriesCheckpoint\n",
      "1250/1250 [==============================] - 32s 26ms/step - loss: 0.0025 - mse: 0.0022 - NMSE: 0.0200 - encoder_attention_module_0_lambda: -0.2615 - encoder_attention_module_1_lambda: 0.0903 - encoder_attention_module_2_lambda: -0.1254 - decoder_attention_module_0_lambda: -0.2370 - decoder_attention_module_1_lambda: -0.2624 - decoder_attention_module_2_lambda: 0.3539 - val_loss: 0.0023 - val_mse: 0.0020 - val_NMSE: 0.0184\n",
      "Epoch 53/200\n",
      "1250/1250 [==============================] - ETA: 0s - loss: 0.0025 - mse: 0.0022 - NMSE: 0.0201 - encoder_attention_module_0_lambda: -0.2627 - encoder_attention_module_1_lambda: 0.0913 - encoder_attention_module_2_lambda: -0.1271 - decoder_attention_module_0_lambda: -0.2382 - decoder_attention_module_1_lambda: -0.2626 - decoder_attention_module_2_lambda: 0.3550 - tot_time: 0h 28m 3.9s\n",
      "\n",
      "Epoch 53: val_NMSE did not improve from 0.01840\n",
      " - saving loss histories at /home/rkaushik/Documents/Thesis/MLROM/Kolmogorov/saved_ae/ae_017/checkpoints/LossHistoriesCheckpoint\n",
      "1250/1250 [==============================] - 32s 26ms/step - loss: 0.0025 - mse: 0.0022 - NMSE: 0.0201 - encoder_attention_module_0_lambda: -0.2627 - encoder_attention_module_1_lambda: 0.0913 - encoder_attention_module_2_lambda: -0.1271 - decoder_attention_module_0_lambda: -0.2382 - decoder_attention_module_1_lambda: -0.2626 - decoder_attention_module_2_lambda: 0.3550 - val_loss: 0.0025 - val_mse: 0.0023 - val_NMSE: 0.0203\n",
      "Epoch 54/200\n",
      "1249/1250 [============================>.] - ETA: 0s - loss: 0.0025 - mse: 0.0022 - NMSE: 0.0201 - encoder_attention_module_0_lambda: -0.2672 - encoder_attention_module_1_lambda: 0.0939 - encoder_attention_module_2_lambda: -0.1313 - decoder_attention_module_0_lambda: -0.2408 - decoder_attention_module_1_lambda: -0.2615 - decoder_attention_module_2_lambda: 0.3550 - tot_time: 0h 28m 35.8s\n",
      "\n",
      "Epoch 54: val_NMSE did not improve from 0.01840\n",
      " - saving loss histories at /home/rkaushik/Documents/Thesis/MLROM/Kolmogorov/saved_ae/ae_017/checkpoints/LossHistoriesCheckpoint\n",
      "1250/1250 [==============================] - 32s 26ms/step - loss: 0.0025 - mse: 0.0022 - NMSE: 0.0201 - encoder_attention_module_0_lambda: -0.2672 - encoder_attention_module_1_lambda: 0.0939 - encoder_attention_module_2_lambda: -0.1313 - decoder_attention_module_0_lambda: -0.2408 - decoder_attention_module_1_lambda: -0.2615 - decoder_attention_module_2_lambda: 0.3550 - val_loss: 0.0025 - val_mse: 0.0022 - val_NMSE: 0.0199\n",
      "Epoch 55/200\n",
      "1250/1250 [==============================] - ETA: 0s - loss: 0.0025 - mse: 0.0022 - NMSE: 0.0199 - encoder_attention_module_0_lambda: -0.2706 - encoder_attention_module_1_lambda: 0.0929 - encoder_attention_module_2_lambda: -0.1313 - decoder_attention_module_0_lambda: -0.2414 - decoder_attention_module_1_lambda: -0.2611 - decoder_attention_module_2_lambda: 0.3556 - tot_time: 0h 29m 7.9s\n",
      "\n",
      "Epoch 55: val_NMSE did not improve from 0.01840\n",
      " - saving loss histories at /home/rkaushik/Documents/Thesis/MLROM/Kolmogorov/saved_ae/ae_017/checkpoints/LossHistoriesCheckpoint\n",
      "1250/1250 [==============================] - 32s 26ms/step - loss: 0.0025 - mse: 0.0022 - NMSE: 0.0199 - encoder_attention_module_0_lambda: -0.2706 - encoder_attention_module_1_lambda: 0.0929 - encoder_attention_module_2_lambda: -0.1313 - decoder_attention_module_0_lambda: -0.2414 - decoder_attention_module_1_lambda: -0.2611 - decoder_attention_module_2_lambda: 0.3556 - val_loss: 0.0025 - val_mse: 0.0022 - val_NMSE: 0.0202\n",
      "Epoch 56/200\n"
     ]
    },
    {
     "name": "stdout",
     "output_type": "stream",
     "text": [
      "1250/1250 [==============================] - ETA: 0s - loss: 0.0025 - mse: 0.0022 - NMSE: 0.0199 - encoder_attention_module_0_lambda: -0.2724 - encoder_attention_module_1_lambda: 0.0942 - encoder_attention_module_2_lambda: -0.1342 - decoder_attention_module_0_lambda: -0.2434 - decoder_attention_module_1_lambda: -0.2616 - decoder_attention_module_2_lambda: 0.3562 - tot_time: 0h 29m 40.3s\n",
      "\n",
      "Epoch 56: val_NMSE did not improve from 0.01840\n",
      " - saving loss histories at /home/rkaushik/Documents/Thesis/MLROM/Kolmogorov/saved_ae/ae_017/checkpoints/LossHistoriesCheckpoint\n",
      "1250/1250 [==============================] - 32s 26ms/step - loss: 0.0025 - mse: 0.0022 - NMSE: 0.0199 - encoder_attention_module_0_lambda: -0.2724 - encoder_attention_module_1_lambda: 0.0942 - encoder_attention_module_2_lambda: -0.1342 - decoder_attention_module_0_lambda: -0.2434 - decoder_attention_module_1_lambda: -0.2616 - decoder_attention_module_2_lambda: 0.3562 - val_loss: 0.0025 - val_mse: 0.0023 - val_NMSE: 0.0206\n",
      "Epoch 57/200\n",
      "1250/1250 [==============================] - ETA: 0s - loss: 0.0025 - mse: 0.0022 - NMSE: 0.0200 - encoder_attention_module_0_lambda: -0.2744 - encoder_attention_module_1_lambda: 0.0949 - encoder_attention_module_2_lambda: -0.1366 - decoder_attention_module_0_lambda: -0.2440 - decoder_attention_module_1_lambda: -0.2617 - decoder_attention_module_2_lambda: 0.3564 - tot_time: 0h 30m 12.2s\n",
      "\n",
      "Epoch 57: val_NMSE did not improve from 0.01840\n",
      " - saving loss histories at /home/rkaushik/Documents/Thesis/MLROM/Kolmogorov/saved_ae/ae_017/checkpoints/LossHistoriesCheckpoint\n",
      "1250/1250 [==============================] - 32s 25ms/step - loss: 0.0025 - mse: 0.0022 - NMSE: 0.0200 - encoder_attention_module_0_lambda: -0.2744 - encoder_attention_module_1_lambda: 0.0949 - encoder_attention_module_2_lambda: -0.1366 - decoder_attention_module_0_lambda: -0.2440 - decoder_attention_module_1_lambda: -0.2617 - decoder_attention_module_2_lambda: 0.3564 - val_loss: 0.0023 - val_mse: 0.0021 - val_NMSE: 0.0189\n",
      "Epoch 58/200\n",
      "1249/1250 [============================>.] - ETA: 0s - loss: 0.0025 - mse: 0.0022 - NMSE: 0.0198 - encoder_attention_module_0_lambda: -0.2770 - encoder_attention_module_1_lambda: 0.0957 - encoder_attention_module_2_lambda: -0.1363 - decoder_attention_module_0_lambda: -0.2450 - decoder_attention_module_1_lambda: -0.2614 - decoder_attention_module_2_lambda: 0.3561 - tot_time: 0h 30m 44.3s\n",
      "\n",
      "Epoch 58: val_NMSE did not improve from 0.01840\n",
      " - saving loss histories at /home/rkaushik/Documents/Thesis/MLROM/Kolmogorov/saved_ae/ae_017/checkpoints/LossHistoriesCheckpoint\n",
      "1250/1250 [==============================] - 32s 26ms/step - loss: 0.0025 - mse: 0.0022 - NMSE: 0.0199 - encoder_attention_module_0_lambda: -0.2770 - encoder_attention_module_1_lambda: 0.0957 - encoder_attention_module_2_lambda: -0.1363 - decoder_attention_module_0_lambda: -0.2450 - decoder_attention_module_1_lambda: -0.2614 - decoder_attention_module_2_lambda: 0.3560 - val_loss: 0.0023 - val_mse: 0.0021 - val_NMSE: 0.0188\n",
      "Epoch 59/200\n",
      "1250/1250 [==============================] - ETA: 0s - loss: 0.0024 - mse: 0.0022 - NMSE: 0.0197 - encoder_attention_module_0_lambda: -0.2778 - encoder_attention_module_1_lambda: 0.0963 - encoder_attention_module_2_lambda: -0.1376 - decoder_attention_module_0_lambda: -0.2451 - decoder_attention_module_1_lambda: -0.2616 - decoder_attention_module_2_lambda: 0.3567 - tot_time: 0h 31m 16.6s\n",
      "\n",
      "Epoch 59: val_NMSE did not improve from 0.01840\n",
      " - saving loss histories at /home/rkaushik/Documents/Thesis/MLROM/Kolmogorov/saved_ae/ae_017/checkpoints/LossHistoriesCheckpoint\n",
      "1250/1250 [==============================] - 32s 26ms/step - loss: 0.0024 - mse: 0.0022 - NMSE: 0.0197 - encoder_attention_module_0_lambda: -0.2778 - encoder_attention_module_1_lambda: 0.0963 - encoder_attention_module_2_lambda: -0.1376 - decoder_attention_module_0_lambda: -0.2451 - decoder_attention_module_1_lambda: -0.2616 - decoder_attention_module_2_lambda: 0.3567 - val_loss: 0.0023 - val_mse: 0.0021 - val_NMSE: 0.0185\n",
      "Epoch 60/200\n",
      "1249/1250 [============================>.] - ETA: 0s - loss: 0.0024 - mse: 0.0022 - NMSE: 0.0197 - encoder_attention_module_0_lambda: -0.2772 - encoder_attention_module_1_lambda: 0.0961 - encoder_attention_module_2_lambda: -0.1388 - decoder_attention_module_0_lambda: -0.2461 - decoder_attention_module_1_lambda: -0.2603 - decoder_attention_module_2_lambda: 0.3576 - tot_time: 0h 31m 48.7s\n",
      "\n",
      "Epoch 60: val_NMSE did not improve from 0.01840\n",
      " - saving loss histories at /home/rkaushik/Documents/Thesis/MLROM/Kolmogorov/saved_ae/ae_017/checkpoints/LossHistoriesCheckpoint\n",
      "1250/1250 [==============================] - 32s 26ms/step - loss: 0.0024 - mse: 0.0022 - NMSE: 0.0197 - encoder_attention_module_0_lambda: -0.2772 - encoder_attention_module_1_lambda: 0.0961 - encoder_attention_module_2_lambda: -0.1388 - decoder_attention_module_0_lambda: -0.2461 - decoder_attention_module_1_lambda: -0.2603 - decoder_attention_module_2_lambda: 0.3576 - val_loss: 0.0025 - val_mse: 0.0022 - val_NMSE: 0.0199\n",
      "Epoch 61/200\n",
      "1248/1250 [============================>.] - ETA: 0s - loss: 0.0024 - mse: 0.0022 - NMSE: 0.0197 - encoder_attention_module_0_lambda: -0.2794 - encoder_attention_module_1_lambda: 0.0974 - encoder_attention_module_2_lambda: -0.1417 - decoder_attention_module_0_lambda: -0.2477 - decoder_attention_module_1_lambda: -0.2605 - decoder_attention_module_2_lambda: 0.3586 - tot_time: 0h 32m 20.6s\n",
      "\n",
      "Epoch 61: val_NMSE did not improve from 0.01840\n",
      " - saving loss histories at /home/rkaushik/Documents/Thesis/MLROM/Kolmogorov/saved_ae/ae_017/checkpoints/LossHistoriesCheckpoint\n",
      "1250/1250 [==============================] - 32s 25ms/step - loss: 0.0024 - mse: 0.0022 - NMSE: 0.0197 - encoder_attention_module_0_lambda: -0.2794 - encoder_attention_module_1_lambda: 0.0974 - encoder_attention_module_2_lambda: -0.1417 - decoder_attention_module_0_lambda: -0.2477 - decoder_attention_module_1_lambda: -0.2605 - decoder_attention_module_2_lambda: 0.3586 - val_loss: 0.0024 - val_mse: 0.0022 - val_NMSE: 0.0195\n",
      "Epoch 62/200\n",
      "1250/1250 [==============================] - ETA: 0s - loss: 0.0024 - mse: 0.0022 - NMSE: 0.0196 - encoder_attention_module_0_lambda: -0.2833 - encoder_attention_module_1_lambda: 0.0973 - encoder_attention_module_2_lambda: -0.1402 - decoder_attention_module_0_lambda: -0.2471 - decoder_attention_module_1_lambda: -0.2597 - decoder_attention_module_2_lambda: 0.3593Restoring model weights from the end of the best epoch: 52.\n",
      " - tot_time: 0h 32m 52.9s\n",
      "\n",
      "Epoch 62: val_NMSE did not improve from 0.01840\n",
      " - saving loss histories at /home/rkaushik/Documents/Thesis/MLROM/Kolmogorov/saved_ae/ae_017/checkpoints/LossHistoriesCheckpoint\n",
      "1250/1250 [==============================] - 32s 26ms/step - loss: 0.0024 - mse: 0.0022 - NMSE: 0.0196 - encoder_attention_module_0_lambda: -0.2833 - encoder_attention_module_1_lambda: 0.0973 - encoder_attention_module_2_lambda: -0.1402 - decoder_attention_module_0_lambda: -0.2471 - decoder_attention_module_1_lambda: -0.2597 - decoder_attention_module_2_lambda: 0.3593 - val_loss: 0.0023 - val_mse: 0.0021 - val_NMSE: 0.0189\n",
      "Epoch 62: early stopping\n",
      "\n",
      "\n",
      "--------------------------------------------------------------------------------\n",
      "\n",
      "---------------------------- LEARNING RATE : 0.0001 ----------------------------\n",
      "\n",
      "--------------------------------------------------------------------------------\n",
      "\n",
      "\n",
      "Epoch 1/200\n",
      "1250/1250 [==============================] - ETA: 0s - loss: 0.0022 - mse: 0.0020 - NMSE: 0.0177 - encoder_attention_module_0_lambda: -0.2643 - encoder_attention_module_1_lambda: 0.0936 - encoder_attention_module_2_lambda: -0.1270 - decoder_attention_module_0_lambda: -0.2380 - decoder_attention_module_1_lambda: -0.2643 - decoder_attention_module_2_lambda: 0.3560 - tot_time: 0h 33m 26.5s\n",
      "\n",
      "Epoch 1: val_NMSE improved from 0.01840 to 0.01663, saving model to /home/rkaushik/Documents/Thesis/MLROM/Kolmogorov/saved_ae/ae_017/checkpoints/checkpoint\n",
      " - saving loss histories at /home/rkaushik/Documents/Thesis/MLROM/Kolmogorov/saved_ae/ae_017/checkpoints/LossHistoriesCheckpoint\n",
      "1250/1250 [==============================] - 33s 26ms/step - loss: 0.0022 - mse: 0.0020 - NMSE: 0.0177 - encoder_attention_module_0_lambda: -0.2643 - encoder_attention_module_1_lambda: 0.0936 - encoder_attention_module_2_lambda: -0.1270 - decoder_attention_module_0_lambda: -0.2380 - decoder_attention_module_1_lambda: -0.2643 - decoder_attention_module_2_lambda: 0.3560 - val_loss: 0.0021 - val_mse: 0.0018 - val_NMSE: 0.0166\n"
     ]
    },
    {
     "name": "stdout",
     "output_type": "stream",
     "text": [
      "Epoch 2/200\n",
      "1250/1250 [==============================] - ETA: 0s - loss: 0.0022 - mse: 0.0019 - NMSE: 0.0175 - encoder_attention_module_0_lambda: -0.2669 - encoder_attention_module_1_lambda: 0.0983 - encoder_attention_module_2_lambda: -0.1284 - decoder_attention_module_0_lambda: -0.2389 - decoder_attention_module_1_lambda: -0.2674 - decoder_attention_module_2_lambda: 0.3576 - tot_time: 0h 33m 59.2s\n",
      "\n",
      "Epoch 2: val_NMSE improved from 0.01663 to 0.01607, saving model to /home/rkaushik/Documents/Thesis/MLROM/Kolmogorov/saved_ae/ae_017/checkpoints/checkpoint\n",
      " - saving loss histories at /home/rkaushik/Documents/Thesis/MLROM/Kolmogorov/saved_ae/ae_017/checkpoints/LossHistoriesCheckpoint\n",
      "1250/1250 [==============================] - 33s 26ms/step - loss: 0.0022 - mse: 0.0019 - NMSE: 0.0175 - encoder_attention_module_0_lambda: -0.2669 - encoder_attention_module_1_lambda: 0.0983 - encoder_attention_module_2_lambda: -0.1284 - decoder_attention_module_0_lambda: -0.2389 - decoder_attention_module_1_lambda: -0.2674 - decoder_attention_module_2_lambda: 0.3576 - val_loss: 0.0020 - val_mse: 0.0018 - val_NMSE: 0.0161\n",
      "Epoch 3/200\n",
      "1248/1250 [============================>.] - ETA: 0s - loss: 0.0022 - mse: 0.0019 - NMSE: 0.0175 - encoder_attention_module_0_lambda: -0.2678 - encoder_attention_module_1_lambda: 0.1010 - encoder_attention_module_2_lambda: -0.1296 - decoder_attention_module_0_lambda: -0.2388 - decoder_attention_module_1_lambda: -0.2699 - decoder_attention_module_2_lambda: 0.3582 - tot_time: 0h 34m 32.2s\n",
      "\n",
      "Epoch 3: val_NMSE did not improve from 0.01607\n",
      " - saving loss histories at /home/rkaushik/Documents/Thesis/MLROM/Kolmogorov/saved_ae/ae_017/checkpoints/LossHistoriesCheckpoint\n",
      "1250/1250 [==============================] - 33s 26ms/step - loss: 0.0022 - mse: 0.0019 - NMSE: 0.0175 - encoder_attention_module_0_lambda: -0.2678 - encoder_attention_module_1_lambda: 0.1010 - encoder_attention_module_2_lambda: -0.1296 - decoder_attention_module_0_lambda: -0.2388 - decoder_attention_module_1_lambda: -0.2699 - decoder_attention_module_2_lambda: 0.3582 - val_loss: 0.0020 - val_mse: 0.0018 - val_NMSE: 0.0161\n",
      "Epoch 4/200\n",
      "1250/1250 [==============================] - ETA: 0s - loss: 0.0022 - mse: 0.0019 - NMSE: 0.0175 - encoder_attention_module_0_lambda: -0.2677 - encoder_attention_module_1_lambda: 0.1017 - encoder_attention_module_2_lambda: -0.1308 - decoder_attention_module_0_lambda: -0.2388 - decoder_attention_module_1_lambda: -0.2712 - decoder_attention_module_2_lambda: 0.3587 - tot_time: 0h 35m 4.5s\n",
      "\n",
      "Epoch 4: val_NMSE did not improve from 0.01607\n",
      " - saving loss histories at /home/rkaushik/Documents/Thesis/MLROM/Kolmogorov/saved_ae/ae_017/checkpoints/LossHistoriesCheckpoint\n",
      "1250/1250 [==============================] - 32s 26ms/step - loss: 0.0022 - mse: 0.0019 - NMSE: 0.0175 - encoder_attention_module_0_lambda: -0.2677 - encoder_attention_module_1_lambda: 0.1017 - encoder_attention_module_2_lambda: -0.1308 - decoder_attention_module_0_lambda: -0.2388 - decoder_attention_module_1_lambda: -0.2712 - decoder_attention_module_2_lambda: 0.3587 - val_loss: 0.0020 - val_mse: 0.0018 - val_NMSE: 0.0161\n",
      "Epoch 5/200\n",
      "1249/1250 [============================>.] - ETA: 0s - loss: 0.0022 - mse: 0.0019 - NMSE: 0.0173 - encoder_attention_module_0_lambda: -0.2679 - encoder_attention_module_1_lambda: 0.1025 - encoder_attention_module_2_lambda: -0.1310 - decoder_attention_module_0_lambda: -0.2390 - decoder_attention_module_1_lambda: -0.2727 - decoder_attention_module_2_lambda: 0.3595 - tot_time: 0h 35m 36.7s\n",
      "\n",
      "Epoch 5: val_NMSE did not improve from 0.01607\n",
      " - saving loss histories at /home/rkaushik/Documents/Thesis/MLROM/Kolmogorov/saved_ae/ae_017/checkpoints/LossHistoriesCheckpoint\n",
      "1250/1250 [==============================] - 32s 26ms/step - loss: 0.0022 - mse: 0.0019 - NMSE: 0.0173 - encoder_attention_module_0_lambda: -0.2679 - encoder_attention_module_1_lambda: 0.1025 - encoder_attention_module_2_lambda: -0.1310 - decoder_attention_module_0_lambda: -0.2390 - decoder_attention_module_1_lambda: -0.2727 - decoder_attention_module_2_lambda: 0.3595 - val_loss: 0.0020 - val_mse: 0.0018 - val_NMSE: 0.0161\n",
      "Epoch 6/200\n",
      "1248/1250 [============================>.] - ETA: 0s - loss: 0.0022 - mse: 0.0019 - NMSE: 0.0173 - encoder_attention_module_0_lambda: -0.2680 - encoder_attention_module_1_lambda: 0.1037 - encoder_attention_module_2_lambda: -0.1317 - decoder_attention_module_0_lambda: -0.2392 - decoder_attention_module_1_lambda: -0.2741 - decoder_attention_module_2_lambda: 0.3599 - tot_time: 0h 36m 8.4s\n",
      "\n",
      "Epoch 6: val_NMSE did not improve from 0.01607\n",
      " - saving loss histories at /home/rkaushik/Documents/Thesis/MLROM/Kolmogorov/saved_ae/ae_017/checkpoints/LossHistoriesCheckpoint\n",
      "1250/1250 [==============================] - 32s 25ms/step - loss: 0.0022 - mse: 0.0019 - NMSE: 0.0173 - encoder_attention_module_0_lambda: -0.2680 - encoder_attention_module_1_lambda: 0.1037 - encoder_attention_module_2_lambda: -0.1317 - decoder_attention_module_0_lambda: -0.2392 - decoder_attention_module_1_lambda: -0.2741 - decoder_attention_module_2_lambda: 0.3599 - val_loss: 0.0020 - val_mse: 0.0018 - val_NMSE: 0.0162\n",
      "Epoch 7/200\n",
      "1249/1250 [============================>.] - ETA: 0s - loss: 0.0021 - mse: 0.0019 - NMSE: 0.0173 - encoder_attention_module_0_lambda: -0.2682 - encoder_attention_module_1_lambda: 0.1040 - encoder_attention_module_2_lambda: -0.1319 - decoder_attention_module_0_lambda: -0.2392 - decoder_attention_module_1_lambda: -0.2752 - decoder_attention_module_2_lambda: 0.3606 - tot_time: 0h 36m 40.1s\n",
      "\n",
      "Epoch 7: val_NMSE improved from 0.01607 to 0.01602, saving model to /home/rkaushik/Documents/Thesis/MLROM/Kolmogorov/saved_ae/ae_017/checkpoints/checkpoint\n",
      " - saving loss histories at /home/rkaushik/Documents/Thesis/MLROM/Kolmogorov/saved_ae/ae_017/checkpoints/LossHistoriesCheckpoint\n",
      "1250/1250 [==============================] - 32s 25ms/step - loss: 0.0021 - mse: 0.0019 - NMSE: 0.0173 - encoder_attention_module_0_lambda: -0.2682 - encoder_attention_module_1_lambda: 0.1040 - encoder_attention_module_2_lambda: -0.1319 - decoder_attention_module_0_lambda: -0.2392 - decoder_attention_module_1_lambda: -0.2752 - decoder_attention_module_2_lambda: 0.3606 - val_loss: 0.0020 - val_mse: 0.0018 - val_NMSE: 0.0160\n",
      "Epoch 8/200\n",
      "1249/1250 [============================>.] - ETA: 0s - loss: 0.0021 - mse: 0.0019 - NMSE: 0.0172 - encoder_attention_module_0_lambda: -0.2683 - encoder_attention_module_1_lambda: 0.1044 - encoder_attention_module_2_lambda: -0.1328 - decoder_attention_module_0_lambda: -0.2395 - decoder_attention_module_1_lambda: -0.2762 - decoder_attention_module_2_lambda: 0.3611 - tot_time: 0h 37m 11.6s\n",
      "\n",
      "Epoch 8: val_NMSE did not improve from 0.01602\n",
      " - saving loss histories at /home/rkaushik/Documents/Thesis/MLROM/Kolmogorov/saved_ae/ae_017/checkpoints/LossHistoriesCheckpoint\n",
      "1250/1250 [==============================] - 31s 25ms/step - loss: 0.0021 - mse: 0.0019 - NMSE: 0.0172 - encoder_attention_module_0_lambda: -0.2683 - encoder_attention_module_1_lambda: 0.1044 - encoder_attention_module_2_lambda: -0.1328 - decoder_attention_module_0_lambda: -0.2395 - decoder_attention_module_1_lambda: -0.2762 - decoder_attention_module_2_lambda: 0.3611 - val_loss: 0.0020 - val_mse: 0.0018 - val_NMSE: 0.0163\n",
      "Epoch 9/200\n",
      "1249/1250 [============================>.] - ETA: 0s - loss: 0.0021 - mse: 0.0019 - NMSE: 0.0171 - encoder_attention_module_0_lambda: -0.2685 - encoder_attention_module_1_lambda: 0.1053 - encoder_attention_module_2_lambda: -0.1334 - decoder_attention_module_0_lambda: -0.2391 - decoder_attention_module_1_lambda: -0.2768 - decoder_attention_module_2_lambda: 0.3616 - tot_time: 0h 37m 43.3s\n",
      "\n",
      "Epoch 9: val_NMSE did not improve from 0.01602\n",
      " - saving loss histories at /home/rkaushik/Documents/Thesis/MLROM/Kolmogorov/saved_ae/ae_017/checkpoints/LossHistoriesCheckpoint\n",
      "1250/1250 [==============================] - 32s 25ms/step - loss: 0.0021 - mse: 0.0019 - NMSE: 0.0171 - encoder_attention_module_0_lambda: -0.2685 - encoder_attention_module_1_lambda: 0.1053 - encoder_attention_module_2_lambda: -0.1334 - decoder_attention_module_0_lambda: -0.2391 - decoder_attention_module_1_lambda: -0.2768 - decoder_attention_module_2_lambda: 0.3616 - val_loss: 0.0020 - val_mse: 0.0018 - val_NMSE: 0.0160\n"
     ]
    },
    {
     "name": "stdout",
     "output_type": "stream",
     "text": [
      "Epoch 10/200\n",
      "1249/1250 [============================>.] - ETA: 0s - loss: 0.0021 - mse: 0.0019 - NMSE: 0.0172 - encoder_attention_module_0_lambda: -0.2687 - encoder_attention_module_1_lambda: 0.1057 - encoder_attention_module_2_lambda: -0.1335 - decoder_attention_module_0_lambda: -0.2391 - decoder_attention_module_1_lambda: -0.2780 - decoder_attention_module_2_lambda: 0.3618 - tot_time: 0h 38m 14.8s\n",
      "\n",
      "Epoch 10: val_NMSE improved from 0.01602 to 0.01585, saving model to /home/rkaushik/Documents/Thesis/MLROM/Kolmogorov/saved_ae/ae_017/checkpoints/checkpoint\n",
      " - saving loss histories at /home/rkaushik/Documents/Thesis/MLROM/Kolmogorov/saved_ae/ae_017/checkpoints/LossHistoriesCheckpoint\n",
      "1250/1250 [==============================] - 32s 25ms/step - loss: 0.0021 - mse: 0.0019 - NMSE: 0.0172 - encoder_attention_module_0_lambda: -0.2687 - encoder_attention_module_1_lambda: 0.1057 - encoder_attention_module_2_lambda: -0.1335 - decoder_attention_module_0_lambda: -0.2391 - decoder_attention_module_1_lambda: -0.2780 - decoder_attention_module_2_lambda: 0.3618 - val_loss: 0.0020 - val_mse: 0.0018 - val_NMSE: 0.0159\n",
      "Epoch 11/200\n",
      "1249/1250 [============================>.] - ETA: 0s - loss: 0.0021 - mse: 0.0019 - NMSE: 0.0171 - encoder_attention_module_0_lambda: -0.2684 - encoder_attention_module_1_lambda: 0.1062 - encoder_attention_module_2_lambda: -0.1342 - decoder_attention_module_0_lambda: -0.2396 - decoder_attention_module_1_lambda: -0.2787 - decoder_attention_module_2_lambda: 0.3622 - tot_time: 0h 38m 46.4s\n",
      "\n",
      "Epoch 11: val_NMSE did not improve from 0.01585\n",
      " - saving loss histories at /home/rkaushik/Documents/Thesis/MLROM/Kolmogorov/saved_ae/ae_017/checkpoints/LossHistoriesCheckpoint\n",
      "1250/1250 [==============================] - 32s 25ms/step - loss: 0.0021 - mse: 0.0019 - NMSE: 0.0171 - encoder_attention_module_0_lambda: -0.2684 - encoder_attention_module_1_lambda: 0.1063 - encoder_attention_module_2_lambda: -0.1342 - decoder_attention_module_0_lambda: -0.2396 - decoder_attention_module_1_lambda: -0.2787 - decoder_attention_module_2_lambda: 0.3622 - val_loss: 0.0020 - val_mse: 0.0018 - val_NMSE: 0.0161\n",
      "Epoch 12/200\n",
      "1249/1250 [============================>.] - ETA: 0s - loss: 0.0021 - mse: 0.0019 - NMSE: 0.0171 - encoder_attention_module_0_lambda: -0.2687 - encoder_attention_module_1_lambda: 0.1072 - encoder_attention_module_2_lambda: -0.1349 - decoder_attention_module_0_lambda: -0.2397 - decoder_attention_module_1_lambda: -0.2793 - decoder_attention_module_2_lambda: 0.3625 - tot_time: 0h 39m 17.5s\n",
      "\n",
      "Epoch 12: val_NMSE improved from 0.01585 to 0.01579, saving model to /home/rkaushik/Documents/Thesis/MLROM/Kolmogorov/saved_ae/ae_017/checkpoints/checkpoint\n",
      " - saving loss histories at /home/rkaushik/Documents/Thesis/MLROM/Kolmogorov/saved_ae/ae_017/checkpoints/LossHistoriesCheckpoint\n",
      "1250/1250 [==============================] - 31s 25ms/step - loss: 0.0021 - mse: 0.0019 - NMSE: 0.0171 - encoder_attention_module_0_lambda: -0.2687 - encoder_attention_module_1_lambda: 0.1072 - encoder_attention_module_2_lambda: -0.1349 - decoder_attention_module_0_lambda: -0.2397 - decoder_attention_module_1_lambda: -0.2793 - decoder_attention_module_2_lambda: 0.3625 - val_loss: 0.0020 - val_mse: 0.0018 - val_NMSE: 0.0158\n",
      "Epoch 13/200\n",
      "1250/1250 [==============================] - ETA: 0s - loss: 0.0021 - mse: 0.0019 - NMSE: 0.0171 - encoder_attention_module_0_lambda: -0.2698 - encoder_attention_module_1_lambda: 0.1076 - encoder_attention_module_2_lambda: -0.1352 - decoder_attention_module_0_lambda: -0.2398 - decoder_attention_module_1_lambda: -0.2802 - decoder_attention_module_2_lambda: 0.3630 - tot_time: 0h 39m 48.7s\n",
      "\n",
      "Epoch 13: val_NMSE did not improve from 0.01579\n",
      " - saving loss histories at /home/rkaushik/Documents/Thesis/MLROM/Kolmogorov/saved_ae/ae_017/checkpoints/LossHistoriesCheckpoint\n",
      "1250/1250 [==============================] - 31s 25ms/step - loss: 0.0021 - mse: 0.0019 - NMSE: 0.0171 - encoder_attention_module_0_lambda: -0.2698 - encoder_attention_module_1_lambda: 0.1076 - encoder_attention_module_2_lambda: -0.1352 - decoder_attention_module_0_lambda: -0.2398 - decoder_attention_module_1_lambda: -0.2802 - decoder_attention_module_2_lambda: 0.3630 - val_loss: 0.0020 - val_mse: 0.0018 - val_NMSE: 0.0159\n",
      "Epoch 14/200\n",
      "1249/1250 [============================>.] - ETA: 0s - loss: 0.0021 - mse: 0.0019 - NMSE: 0.0172 - encoder_attention_module_0_lambda: -0.2698 - encoder_attention_module_1_lambda: 0.1082 - encoder_attention_module_2_lambda: -0.1353 - decoder_attention_module_0_lambda: -0.2400 - decoder_attention_module_1_lambda: -0.2810 - decoder_attention_module_2_lambda: 0.3634 - tot_time: 0h 40m 18.5s\n",
      "\n",
      "Epoch 14: val_NMSE did not improve from 0.01579\n",
      " - saving loss histories at /home/rkaushik/Documents/Thesis/MLROM/Kolmogorov/saved_ae/ae_017/checkpoints/LossHistoriesCheckpoint\n",
      "1250/1250 [==============================] - 30s 24ms/step - loss: 0.0021 - mse: 0.0019 - NMSE: 0.0172 - encoder_attention_module_0_lambda: -0.2698 - encoder_attention_module_1_lambda: 0.1082 - encoder_attention_module_2_lambda: -0.1353 - decoder_attention_module_0_lambda: -0.2400 - decoder_attention_module_1_lambda: -0.2810 - decoder_attention_module_2_lambda: 0.3634 - val_loss: 0.0020 - val_mse: 0.0018 - val_NMSE: 0.0160\n",
      "Epoch 15/200\n",
      "1250/1250 [==============================] - ETA: 0s - loss: 0.0021 - mse: 0.0019 - NMSE: 0.0170 - encoder_attention_module_0_lambda: -0.2700 - encoder_attention_module_1_lambda: 0.1091 - encoder_attention_module_2_lambda: -0.1358 - decoder_attention_module_0_lambda: -0.2397 - decoder_attention_module_1_lambda: -0.2818 - decoder_attention_module_2_lambda: 0.3639 - tot_time: 0h 40m 48.4s\n",
      "\n",
      "Epoch 15: val_NMSE did not improve from 0.01579\n",
      " - saving loss histories at /home/rkaushik/Documents/Thesis/MLROM/Kolmogorov/saved_ae/ae_017/checkpoints/LossHistoriesCheckpoint\n",
      "1250/1250 [==============================] - 30s 24ms/step - loss: 0.0021 - mse: 0.0019 - NMSE: 0.0170 - encoder_attention_module_0_lambda: -0.2700 - encoder_attention_module_1_lambda: 0.1091 - encoder_attention_module_2_lambda: -0.1358 - decoder_attention_module_0_lambda: -0.2397 - decoder_attention_module_1_lambda: -0.2818 - decoder_attention_module_2_lambda: 0.3639 - val_loss: 0.0020 - val_mse: 0.0018 - val_NMSE: 0.0159\n",
      "Epoch 16/200\n",
      "1250/1250 [==============================] - ETA: 0s - loss: 0.0021 - mse: 0.0019 - NMSE: 0.0171 - encoder_attention_module_0_lambda: -0.2701 - encoder_attention_module_1_lambda: 0.1096 - encoder_attention_module_2_lambda: -0.1364 - decoder_attention_module_0_lambda: -0.2400 - decoder_attention_module_1_lambda: -0.2823 - decoder_attention_module_2_lambda: 0.3644 - tot_time: 0h 41m 20.1s\n",
      "\n",
      "Epoch 16: val_NMSE did not improve from 0.01579\n",
      " - saving loss histories at /home/rkaushik/Documents/Thesis/MLROM/Kolmogorov/saved_ae/ae_017/checkpoints/LossHistoriesCheckpoint\n",
      "1250/1250 [==============================] - 32s 25ms/step - loss: 0.0021 - mse: 0.0019 - NMSE: 0.0171 - encoder_attention_module_0_lambda: -0.2701 - encoder_attention_module_1_lambda: 0.1096 - encoder_attention_module_2_lambda: -0.1364 - decoder_attention_module_0_lambda: -0.2400 - decoder_attention_module_1_lambda: -0.2823 - decoder_attention_module_2_lambda: 0.3644 - val_loss: 0.0020 - val_mse: 0.0018 - val_NMSE: 0.0158\n",
      "Epoch 17/200\n",
      "1248/1250 [============================>.] - ETA: 0s - loss: 0.0021 - mse: 0.0019 - NMSE: 0.0170 - encoder_attention_module_0_lambda: -0.2704 - encoder_attention_module_1_lambda: 0.1104 - encoder_attention_module_2_lambda: -0.1368 - decoder_attention_module_0_lambda: -0.2403 - decoder_attention_module_1_lambda: -0.2836 - decoder_attention_module_2_lambda: 0.3649 - tot_time: 0h 41m 51.5s\n",
      "\n",
      "Epoch 17: val_NMSE did not improve from 0.01579\n",
      " - saving loss histories at /home/rkaushik/Documents/Thesis/MLROM/Kolmogorov/saved_ae/ae_017/checkpoints/LossHistoriesCheckpoint\n",
      "1250/1250 [==============================] - 31s 25ms/step - loss: 0.0021 - mse: 0.0019 - NMSE: 0.0170 - encoder_attention_module_0_lambda: -0.2704 - encoder_attention_module_1_lambda: 0.1104 - encoder_attention_module_2_lambda: -0.1368 - decoder_attention_module_0_lambda: -0.2403 - decoder_attention_module_1_lambda: -0.2836 - decoder_attention_module_2_lambda: 0.3649 - val_loss: 0.0020 - val_mse: 0.0018 - val_NMSE: 0.0159\n"
     ]
    },
    {
     "name": "stdout",
     "output_type": "stream",
     "text": [
      "Epoch 18/200\n",
      "1250/1250 [==============================] - ETA: 0s - loss: 0.0021 - mse: 0.0019 - NMSE: 0.0170 - encoder_attention_module_0_lambda: -0.2708 - encoder_attention_module_1_lambda: 0.1103 - encoder_attention_module_2_lambda: -0.1371 - decoder_attention_module_0_lambda: -0.2402 - decoder_attention_module_1_lambda: -0.2843 - decoder_attention_module_2_lambda: 0.3653 - tot_time: 0h 42m 22.9s\n",
      "\n",
      "Epoch 18: val_NMSE did not improve from 0.01579\n",
      " - saving loss histories at /home/rkaushik/Documents/Thesis/MLROM/Kolmogorov/saved_ae/ae_017/checkpoints/LossHistoriesCheckpoint\n",
      "1250/1250 [==============================] - 31s 25ms/step - loss: 0.0021 - mse: 0.0019 - NMSE: 0.0170 - encoder_attention_module_0_lambda: -0.2708 - encoder_attention_module_1_lambda: 0.1103 - encoder_attention_module_2_lambda: -0.1371 - decoder_attention_module_0_lambda: -0.2402 - decoder_attention_module_1_lambda: -0.2843 - decoder_attention_module_2_lambda: 0.3653 - val_loss: 0.0020 - val_mse: 0.0018 - val_NMSE: 0.0159\n",
      "Epoch 19/200\n",
      "1248/1250 [============================>.] - ETA: 0s - loss: 0.0021 - mse: 0.0019 - NMSE: 0.0170 - encoder_attention_module_0_lambda: -0.2711 - encoder_attention_module_1_lambda: 0.1107 - encoder_attention_module_2_lambda: -0.1379 - decoder_attention_module_0_lambda: -0.2406 - decoder_attention_module_1_lambda: -0.2846 - decoder_attention_module_2_lambda: 0.3655 - tot_time: 0h 42m 54.8s\n",
      "\n",
      "Epoch 19: val_NMSE did not improve from 0.01579\n",
      " - saving loss histories at /home/rkaushik/Documents/Thesis/MLROM/Kolmogorov/saved_ae/ae_017/checkpoints/LossHistoriesCheckpoint\n",
      "1250/1250 [==============================] - 32s 26ms/step - loss: 0.0021 - mse: 0.0019 - NMSE: 0.0170 - encoder_attention_module_0_lambda: -0.2711 - encoder_attention_module_1_lambda: 0.1107 - encoder_attention_module_2_lambda: -0.1379 - decoder_attention_module_0_lambda: -0.2406 - decoder_attention_module_1_lambda: -0.2846 - decoder_attention_module_2_lambda: 0.3655 - val_loss: 0.0020 - val_mse: 0.0018 - val_NMSE: 0.0161\n",
      "Epoch 20/200\n",
      "1248/1250 [============================>.] - ETA: 0s - loss: 0.0021 - mse: 0.0019 - NMSE: 0.0169 - encoder_attention_module_0_lambda: -0.2712 - encoder_attention_module_1_lambda: 0.1117 - encoder_attention_module_2_lambda: -0.1379 - decoder_attention_module_0_lambda: -0.2406 - decoder_attention_module_1_lambda: -0.2850 - decoder_attention_module_2_lambda: 0.3661 - tot_time: 0h 43m 27.1s\n",
      "\n",
      "Epoch 20: val_NMSE improved from 0.01579 to 0.01569, saving model to /home/rkaushik/Documents/Thesis/MLROM/Kolmogorov/saved_ae/ae_017/checkpoints/checkpoint\n",
      " - saving loss histories at /home/rkaushik/Documents/Thesis/MLROM/Kolmogorov/saved_ae/ae_017/checkpoints/LossHistoriesCheckpoint\n",
      "1250/1250 [==============================] - 32s 26ms/step - loss: 0.0021 - mse: 0.0019 - NMSE: 0.0169 - encoder_attention_module_0_lambda: -0.2712 - encoder_attention_module_1_lambda: 0.1117 - encoder_attention_module_2_lambda: -0.1379 - decoder_attention_module_0_lambda: -0.2406 - decoder_attention_module_1_lambda: -0.2850 - decoder_attention_module_2_lambda: 0.3661 - val_loss: 0.0020 - val_mse: 0.0017 - val_NMSE: 0.0157\n",
      "Epoch 21/200\n",
      "1250/1250 [==============================] - ETA: 0s - loss: 0.0021 - mse: 0.0019 - NMSE: 0.0170 - encoder_attention_module_0_lambda: -0.2716 - encoder_attention_module_1_lambda: 0.1122 - encoder_attention_module_2_lambda: -0.1380 - decoder_attention_module_0_lambda: -0.2410 - decoder_attention_module_1_lambda: -0.2858 - decoder_attention_module_2_lambda: 0.3663 - tot_time: 0h 43m 58.8s\n",
      "\n",
      "Epoch 21: val_NMSE did not improve from 0.01569\n",
      " - saving loss histories at /home/rkaushik/Documents/Thesis/MLROM/Kolmogorov/saved_ae/ae_017/checkpoints/LossHistoriesCheckpoint\n",
      "1250/1250 [==============================] - 32s 25ms/step - loss: 0.0021 - mse: 0.0019 - NMSE: 0.0170 - encoder_attention_module_0_lambda: -0.2716 - encoder_attention_module_1_lambda: 0.1123 - encoder_attention_module_2_lambda: -0.1380 - decoder_attention_module_0_lambda: -0.2410 - decoder_attention_module_1_lambda: -0.2858 - decoder_attention_module_2_lambda: 0.3663 - val_loss: 0.0020 - val_mse: 0.0018 - val_NMSE: 0.0160\n",
      "Epoch 22/200\n",
      "1250/1250 [==============================] - ETA: 0s - loss: 0.0021 - mse: 0.0019 - NMSE: 0.0170 - encoder_attention_module_0_lambda: -0.2721 - encoder_attention_module_1_lambda: 0.1124 - encoder_attention_module_2_lambda: -0.1382 - decoder_attention_module_0_lambda: -0.2411 - decoder_attention_module_1_lambda: -0.2864 - decoder_attention_module_2_lambda: 0.3669 - tot_time: 0h 44m 30.3s\n",
      "\n",
      "Epoch 22: val_NMSE did not improve from 0.01569\n",
      " - saving loss histories at /home/rkaushik/Documents/Thesis/MLROM/Kolmogorov/saved_ae/ae_017/checkpoints/LossHistoriesCheckpoint\n",
      "1250/1250 [==============================] - 31s 25ms/step - loss: 0.0021 - mse: 0.0019 - NMSE: 0.0170 - encoder_attention_module_0_lambda: -0.2721 - encoder_attention_module_1_lambda: 0.1124 - encoder_attention_module_2_lambda: -0.1382 - decoder_attention_module_0_lambda: -0.2411 - decoder_attention_module_1_lambda: -0.2864 - decoder_attention_module_2_lambda: 0.3669 - val_loss: 0.0020 - val_mse: 0.0018 - val_NMSE: 0.0161\n",
      "Epoch 23/200\n",
      "1250/1250 [==============================] - ETA: 0s - loss: 0.0021 - mse: 0.0019 - NMSE: 0.0170 - encoder_attention_module_0_lambda: -0.2721 - encoder_attention_module_1_lambda: 0.1129 - encoder_attention_module_2_lambda: -0.1390 - decoder_attention_module_0_lambda: -0.2411 - decoder_attention_module_1_lambda: -0.2869 - decoder_attention_module_2_lambda: 0.3672 - tot_time: 0h 45m 2.3s\n",
      "\n",
      "Epoch 23: val_NMSE improved from 0.01569 to 0.01564, saving model to /home/rkaushik/Documents/Thesis/MLROM/Kolmogorov/saved_ae/ae_017/checkpoints/checkpoint\n",
      " - saving loss histories at /home/rkaushik/Documents/Thesis/MLROM/Kolmogorov/saved_ae/ae_017/checkpoints/LossHistoriesCheckpoint\n",
      "1250/1250 [==============================] - 32s 26ms/step - loss: 0.0021 - mse: 0.0019 - NMSE: 0.0170 - encoder_attention_module_0_lambda: -0.2721 - encoder_attention_module_1_lambda: 0.1129 - encoder_attention_module_2_lambda: -0.1390 - decoder_attention_module_0_lambda: -0.2411 - decoder_attention_module_1_lambda: -0.2869 - decoder_attention_module_2_lambda: 0.3672 - val_loss: 0.0019 - val_mse: 0.0017 - val_NMSE: 0.0156\n",
      "Epoch 24/200\n",
      "1249/1250 [============================>.] - ETA: 0s - loss: 0.0021 - mse: 0.0019 - NMSE: 0.0170 - encoder_attention_module_0_lambda: -0.2728 - encoder_attention_module_1_lambda: 0.1133 - encoder_attention_module_2_lambda: -0.1389 - decoder_attention_module_0_lambda: -0.2412 - decoder_attention_module_1_lambda: -0.2876 - decoder_attention_module_2_lambda: 0.3677 - tot_time: 0h 45m 34.2s\n",
      "\n",
      "Epoch 24: val_NMSE did not improve from 0.01564\n",
      " - saving loss histories at /home/rkaushik/Documents/Thesis/MLROM/Kolmogorov/saved_ae/ae_017/checkpoints/LossHistoriesCheckpoint\n",
      "1250/1250 [==============================] - 32s 25ms/step - loss: 0.0021 - mse: 0.0019 - NMSE: 0.0170 - encoder_attention_module_0_lambda: -0.2728 - encoder_attention_module_1_lambda: 0.1133 - encoder_attention_module_2_lambda: -0.1389 - decoder_attention_module_0_lambda: -0.2412 - decoder_attention_module_1_lambda: -0.2876 - decoder_attention_module_2_lambda: 0.3677 - val_loss: 0.0019 - val_mse: 0.0017 - val_NMSE: 0.0156\n",
      "Epoch 25/200\n",
      "1250/1250 [==============================] - ETA: 0s - loss: 0.0021 - mse: 0.0019 - NMSE: 0.0169 - encoder_attention_module_0_lambda: -0.2734 - encoder_attention_module_1_lambda: 0.1139 - encoder_attention_module_2_lambda: -0.1388 - decoder_attention_module_0_lambda: -0.2412 - decoder_attention_module_1_lambda: -0.2883 - decoder_attention_module_2_lambda: 0.3680 - tot_time: 0h 46m 5.8s\n",
      "\n",
      "Epoch 25: val_NMSE did not improve from 0.01564\n",
      " - saving loss histories at /home/rkaushik/Documents/Thesis/MLROM/Kolmogorov/saved_ae/ae_017/checkpoints/LossHistoriesCheckpoint\n",
      "1250/1250 [==============================] - 32s 25ms/step - loss: 0.0021 - mse: 0.0019 - NMSE: 0.0169 - encoder_attention_module_0_lambda: -0.2734 - encoder_attention_module_1_lambda: 0.1139 - encoder_attention_module_2_lambda: -0.1388 - decoder_attention_module_0_lambda: -0.2412 - decoder_attention_module_1_lambda: -0.2883 - decoder_attention_module_2_lambda: 0.3680 - val_loss: 0.0019 - val_mse: 0.0017 - val_NMSE: 0.0157\n"
     ]
    },
    {
     "name": "stdout",
     "output_type": "stream",
     "text": [
      "Epoch 26/200\n",
      "1249/1250 [============================>.] - ETA: 0s - loss: 0.0021 - mse: 0.0019 - NMSE: 0.0168 - encoder_attention_module_0_lambda: -0.2734 - encoder_attention_module_1_lambda: 0.1145 - encoder_attention_module_2_lambda: -0.1394 - decoder_attention_module_0_lambda: -0.2414 - decoder_attention_module_1_lambda: -0.2889 - decoder_attention_module_2_lambda: 0.3685 - tot_time: 0h 46m 37.4s\n",
      "\n",
      "Epoch 26: val_NMSE improved from 0.01564 to 0.01562, saving model to /home/rkaushik/Documents/Thesis/MLROM/Kolmogorov/saved_ae/ae_017/checkpoints/checkpoint\n",
      " - saving loss histories at /home/rkaushik/Documents/Thesis/MLROM/Kolmogorov/saved_ae/ae_017/checkpoints/LossHistoriesCheckpoint\n",
      "1250/1250 [==============================] - 32s 25ms/step - loss: 0.0021 - mse: 0.0019 - NMSE: 0.0168 - encoder_attention_module_0_lambda: -0.2734 - encoder_attention_module_1_lambda: 0.1145 - encoder_attention_module_2_lambda: -0.1394 - decoder_attention_module_0_lambda: -0.2414 - decoder_attention_module_1_lambda: -0.2889 - decoder_attention_module_2_lambda: 0.3685 - val_loss: 0.0019 - val_mse: 0.0017 - val_NMSE: 0.0156\n",
      "Epoch 27/200\n",
      "1250/1250 [==============================] - ETA: 0s - loss: 0.0021 - mse: 0.0019 - NMSE: 0.0168 - encoder_attention_module_0_lambda: -0.2738 - encoder_attention_module_1_lambda: 0.1148 - encoder_attention_module_2_lambda: -0.1399 - decoder_attention_module_0_lambda: -0.2414 - decoder_attention_module_1_lambda: -0.2897 - decoder_attention_module_2_lambda: 0.3688 - tot_time: 0h 47m 9.4s\n",
      "\n",
      "Epoch 27: val_NMSE did not improve from 0.01562\n",
      " - saving loss histories at /home/rkaushik/Documents/Thesis/MLROM/Kolmogorov/saved_ae/ae_017/checkpoints/LossHistoriesCheckpoint\n",
      "1250/1250 [==============================] - 32s 25ms/step - loss: 0.0021 - mse: 0.0019 - NMSE: 0.0168 - encoder_attention_module_0_lambda: -0.2738 - encoder_attention_module_1_lambda: 0.1148 - encoder_attention_module_2_lambda: -0.1399 - decoder_attention_module_0_lambda: -0.2414 - decoder_attention_module_1_lambda: -0.2897 - decoder_attention_module_2_lambda: 0.3688 - val_loss: 0.0019 - val_mse: 0.0017 - val_NMSE: 0.0157\n",
      "Epoch 28/200\n",
      "1248/1250 [============================>.] - ETA: 0s - loss: 0.0021 - mse: 0.0019 - NMSE: 0.0168 - encoder_attention_module_0_lambda: -0.2735 - encoder_attention_module_1_lambda: 0.1158 - encoder_attention_module_2_lambda: -0.1400 - decoder_attention_module_0_lambda: -0.2415 - decoder_attention_module_1_lambda: -0.2900 - decoder_attention_module_2_lambda: 0.3690 - tot_time: 0h 47m 41.1s\n",
      "\n",
      "Epoch 28: val_NMSE improved from 0.01562 to 0.01561, saving model to /home/rkaushik/Documents/Thesis/MLROM/Kolmogorov/saved_ae/ae_017/checkpoints/checkpoint\n",
      " - saving loss histories at /home/rkaushik/Documents/Thesis/MLROM/Kolmogorov/saved_ae/ae_017/checkpoints/LossHistoriesCheckpoint\n",
      "1250/1250 [==============================] - 32s 25ms/step - loss: 0.0021 - mse: 0.0019 - NMSE: 0.0168 - encoder_attention_module_0_lambda: -0.2735 - encoder_attention_module_1_lambda: 0.1158 - encoder_attention_module_2_lambda: -0.1400 - decoder_attention_module_0_lambda: -0.2415 - decoder_attention_module_1_lambda: -0.2900 - decoder_attention_module_2_lambda: 0.3690 - val_loss: 0.0019 - val_mse: 0.0017 - val_NMSE: 0.0156\n",
      "Epoch 29/200\n",
      "1249/1250 [============================>.] - ETA: 0s - loss: 0.0021 - mse: 0.0019 - NMSE: 0.0170 - encoder_attention_module_0_lambda: -0.2744 - encoder_attention_module_1_lambda: 0.1165 - encoder_attention_module_2_lambda: -0.1406 - decoder_attention_module_0_lambda: -0.2417 - decoder_attention_module_1_lambda: -0.2910 - decoder_attention_module_2_lambda: 0.3692 - tot_time: 0h 48m 12.5s\n",
      "\n",
      "Epoch 29: val_NMSE did not improve from 0.01561\n",
      " - saving loss histories at /home/rkaushik/Documents/Thesis/MLROM/Kolmogorov/saved_ae/ae_017/checkpoints/LossHistoriesCheckpoint\n",
      "1250/1250 [==============================] - 31s 25ms/step - loss: 0.0021 - mse: 0.0019 - NMSE: 0.0170 - encoder_attention_module_0_lambda: -0.2744 - encoder_attention_module_1_lambda: 0.1165 - encoder_attention_module_2_lambda: -0.1406 - decoder_attention_module_0_lambda: -0.2417 - decoder_attention_module_1_lambda: -0.2910 - decoder_attention_module_2_lambda: 0.3692 - val_loss: 0.0020 - val_mse: 0.0018 - val_NMSE: 0.0161\n",
      "Epoch 30/200\n",
      "1249/1250 [============================>.] - ETA: 0s - loss: 0.0021 - mse: 0.0019 - NMSE: 0.0168 - encoder_attention_module_0_lambda: -0.2746 - encoder_attention_module_1_lambda: 0.1169 - encoder_attention_module_2_lambda: -0.1409 - decoder_attention_module_0_lambda: -0.2418 - decoder_attention_module_1_lambda: -0.2908 - decoder_attention_module_2_lambda: 0.3699 - tot_time: 0h 48m 44.3s\n",
      "\n",
      "Epoch 30: val_NMSE improved from 0.01561 to 0.01560, saving model to /home/rkaushik/Documents/Thesis/MLROM/Kolmogorov/saved_ae/ae_017/checkpoints/checkpoint\n",
      " - saving loss histories at /home/rkaushik/Documents/Thesis/MLROM/Kolmogorov/saved_ae/ae_017/checkpoints/LossHistoriesCheckpoint\n",
      "1250/1250 [==============================] - 32s 26ms/step - loss: 0.0021 - mse: 0.0019 - NMSE: 0.0168 - encoder_attention_module_0_lambda: -0.2746 - encoder_attention_module_1_lambda: 0.1169 - encoder_attention_module_2_lambda: -0.1409 - decoder_attention_module_0_lambda: -0.2418 - decoder_attention_module_1_lambda: -0.2908 - decoder_attention_module_2_lambda: 0.3699 - val_loss: 0.0019 - val_mse: 0.0017 - val_NMSE: 0.0156\n",
      "Epoch 31/200\n",
      "1250/1250 [==============================] - ETA: 0s - loss: 0.0021 - mse: 0.0019 - NMSE: 0.0167 - encoder_attention_module_0_lambda: -0.2752 - encoder_attention_module_1_lambda: 0.1175 - encoder_attention_module_2_lambda: -0.1414 - decoder_attention_module_0_lambda: -0.2419 - decoder_attention_module_1_lambda: -0.2917 - decoder_attention_module_2_lambda: 0.3700 - tot_time: 0h 49m 15.9s\n",
      "\n",
      "Epoch 31: val_NMSE did not improve from 0.01560\n",
      " - saving loss histories at /home/rkaushik/Documents/Thesis/MLROM/Kolmogorov/saved_ae/ae_017/checkpoints/LossHistoriesCheckpoint\n",
      "1250/1250 [==============================] - 31s 25ms/step - loss: 0.0021 - mse: 0.0019 - NMSE: 0.0167 - encoder_attention_module_0_lambda: -0.2752 - encoder_attention_module_1_lambda: 0.1175 - encoder_attention_module_2_lambda: -0.1414 - decoder_attention_module_0_lambda: -0.2419 - decoder_attention_module_1_lambda: -0.2917 - decoder_attention_module_2_lambda: 0.3700 - val_loss: 0.0020 - val_mse: 0.0018 - val_NMSE: 0.0162\n",
      "Epoch 32/200\n",
      "1249/1250 [============================>.] - ETA: 0s - loss: 0.0021 - mse: 0.0019 - NMSE: 0.0168 - encoder_attention_module_0_lambda: -0.2753 - encoder_attention_module_1_lambda: 0.1178 - encoder_attention_module_2_lambda: -0.1414 - decoder_attention_module_0_lambda: -0.2420 - decoder_attention_module_1_lambda: -0.2922 - decoder_attention_module_2_lambda: 0.3705 - tot_time: 0h 49m 47.5s\n",
      "\n",
      "Epoch 32: val_NMSE did not improve from 0.01560\n",
      " - saving loss histories at /home/rkaushik/Documents/Thesis/MLROM/Kolmogorov/saved_ae/ae_017/checkpoints/LossHistoriesCheckpoint\n",
      "1250/1250 [==============================] - 32s 25ms/step - loss: 0.0021 - mse: 0.0019 - NMSE: 0.0168 - encoder_attention_module_0_lambda: -0.2753 - encoder_attention_module_1_lambda: 0.1178 - encoder_attention_module_2_lambda: -0.1414 - decoder_attention_module_0_lambda: -0.2420 - decoder_attention_module_1_lambda: -0.2922 - decoder_attention_module_2_lambda: 0.3705 - val_loss: 0.0020 - val_mse: 0.0018 - val_NMSE: 0.0159\n",
      "Epoch 33/200\n",
      "1248/1250 [============================>.] - ETA: 0s - loss: 0.0021 - mse: 0.0019 - NMSE: 0.0168 - encoder_attention_module_0_lambda: -0.2758 - encoder_attention_module_1_lambda: 0.1184 - encoder_attention_module_2_lambda: -0.1423 - decoder_attention_module_0_lambda: -0.2423 - decoder_attention_module_1_lambda: -0.2925 - decoder_attention_module_2_lambda: 0.3709 - tot_time: 0h 50m 19.0s\n",
      "\n",
      "Epoch 33: val_NMSE improved from 0.01560 to 0.01554, saving model to /home/rkaushik/Documents/Thesis/MLROM/Kolmogorov/saved_ae/ae_017/checkpoints/checkpoint\n",
      " - saving loss histories at /home/rkaushik/Documents/Thesis/MLROM/Kolmogorov/saved_ae/ae_017/checkpoints/LossHistoriesCheckpoint\n",
      "1250/1250 [==============================] - 32s 25ms/step - loss: 0.0021 - mse: 0.0019 - NMSE: 0.0168 - encoder_attention_module_0_lambda: -0.2758 - encoder_attention_module_1_lambda: 0.1184 - encoder_attention_module_2_lambda: -0.1423 - decoder_attention_module_0_lambda: -0.2423 - decoder_attention_module_1_lambda: -0.2925 - decoder_attention_module_2_lambda: 0.3709 - val_loss: 0.0019 - val_mse: 0.0017 - val_NMSE: 0.0155\n"
     ]
    },
    {
     "name": "stdout",
     "output_type": "stream",
     "text": [
      "Epoch 34/200\n",
      "1250/1250 [==============================] - ETA: 0s - loss: 0.0020 - mse: 0.0019 - NMSE: 0.0167 - encoder_attention_module_0_lambda: -0.2762 - encoder_attention_module_1_lambda: 0.1190 - encoder_attention_module_2_lambda: -0.1423 - decoder_attention_module_0_lambda: -0.2425 - decoder_attention_module_1_lambda: -0.2928 - decoder_attention_module_2_lambda: 0.3712 - tot_time: 0h 50m 50.4s\n",
      "\n",
      "Epoch 34: val_NMSE did not improve from 0.01554\n",
      " - saving loss histories at /home/rkaushik/Documents/Thesis/MLROM/Kolmogorov/saved_ae/ae_017/checkpoints/LossHistoriesCheckpoint\n",
      "1250/1250 [==============================] - 31s 25ms/step - loss: 0.0020 - mse: 0.0019 - NMSE: 0.0167 - encoder_attention_module_0_lambda: -0.2762 - encoder_attention_module_1_lambda: 0.1190 - encoder_attention_module_2_lambda: -0.1423 - decoder_attention_module_0_lambda: -0.2425 - decoder_attention_module_1_lambda: -0.2928 - decoder_attention_module_2_lambda: 0.3712 - val_loss: 0.0019 - val_mse: 0.0018 - val_NMSE: 0.0158\n",
      "Epoch 35/200\n",
      "1249/1250 [============================>.] - ETA: 0s - loss: 0.0020 - mse: 0.0019 - NMSE: 0.0167 - encoder_attention_module_0_lambda: -0.2768 - encoder_attention_module_1_lambda: 0.1192 - encoder_attention_module_2_lambda: -0.1428 - decoder_attention_module_0_lambda: -0.2427 - decoder_attention_module_1_lambda: -0.2936 - decoder_attention_module_2_lambda: 0.3719 - tot_time: 0h 51m 21.9s\n",
      "\n",
      "Epoch 35: val_NMSE did not improve from 0.01554\n",
      " - saving loss histories at /home/rkaushik/Documents/Thesis/MLROM/Kolmogorov/saved_ae/ae_017/checkpoints/LossHistoriesCheckpoint\n",
      "1250/1250 [==============================] - 31s 25ms/step - loss: 0.0020 - mse: 0.0019 - NMSE: 0.0167 - encoder_attention_module_0_lambda: -0.2768 - encoder_attention_module_1_lambda: 0.1192 - encoder_attention_module_2_lambda: -0.1428 - decoder_attention_module_0_lambda: -0.2427 - decoder_attention_module_1_lambda: -0.2936 - decoder_attention_module_2_lambda: 0.3719 - val_loss: 0.0019 - val_mse: 0.0018 - val_NMSE: 0.0158\n",
      "Epoch 36/200\n",
      "1250/1250 [==============================] - ETA: 0s - loss: 0.0021 - mse: 0.0019 - NMSE: 0.0168 - encoder_attention_module_0_lambda: -0.2770 - encoder_attention_module_1_lambda: 0.1200 - encoder_attention_module_2_lambda: -0.1427 - decoder_attention_module_0_lambda: -0.2426 - decoder_attention_module_1_lambda: -0.2938 - decoder_attention_module_2_lambda: 0.3720 - tot_time: 0h 51m 53.6s\n",
      "\n",
      "Epoch 36: val_NMSE did not improve from 0.01554\n",
      " - saving loss histories at /home/rkaushik/Documents/Thesis/MLROM/Kolmogorov/saved_ae/ae_017/checkpoints/LossHistoriesCheckpoint\n",
      "1250/1250 [==============================] - 32s 25ms/step - loss: 0.0021 - mse: 0.0019 - NMSE: 0.0168 - encoder_attention_module_0_lambda: -0.2770 - encoder_attention_module_1_lambda: 0.1200 - encoder_attention_module_2_lambda: -0.1427 - decoder_attention_module_0_lambda: -0.2426 - decoder_attention_module_1_lambda: -0.2938 - decoder_attention_module_2_lambda: 0.3720 - val_loss: 0.0020 - val_mse: 0.0018 - val_NMSE: 0.0159\n",
      "Epoch 37/200\n",
      "1249/1250 [============================>.] - ETA: 0s - loss: 0.0020 - mse: 0.0018 - NMSE: 0.0166 - encoder_attention_module_0_lambda: -0.2777 - encoder_attention_module_1_lambda: 0.1207 - encoder_attention_module_2_lambda: -0.1431 - decoder_attention_module_0_lambda: -0.2429 - decoder_attention_module_1_lambda: -0.2944 - decoder_attention_module_2_lambda: 0.3728 - tot_time: 0h 52m 25.0s\n",
      "\n",
      "Epoch 37: val_NMSE did not improve from 0.01554\n",
      " - saving loss histories at /home/rkaushik/Documents/Thesis/MLROM/Kolmogorov/saved_ae/ae_017/checkpoints/LossHistoriesCheckpoint\n",
      "1250/1250 [==============================] - 31s 25ms/step - loss: 0.0020 - mse: 0.0018 - NMSE: 0.0166 - encoder_attention_module_0_lambda: -0.2777 - encoder_attention_module_1_lambda: 0.1207 - encoder_attention_module_2_lambda: -0.1431 - decoder_attention_module_0_lambda: -0.2429 - decoder_attention_module_1_lambda: -0.2944 - decoder_attention_module_2_lambda: 0.3728 - val_loss: 0.0019 - val_mse: 0.0017 - val_NMSE: 0.0156\n",
      "Epoch 38/200\n",
      "1250/1250 [==============================] - ETA: 0s - loss: 0.0020 - mse: 0.0019 - NMSE: 0.0167 - encoder_attention_module_0_lambda: -0.2786 - encoder_attention_module_1_lambda: 0.1211 - encoder_attention_module_2_lambda: -0.1432 - decoder_attention_module_0_lambda: -0.2430 - decoder_attention_module_1_lambda: -0.2952 - decoder_attention_module_2_lambda: 0.3728 - tot_time: 0h 52m 57.0s\n",
      "\n",
      "Epoch 38: val_NMSE did not improve from 0.01554\n",
      " - saving loss histories at /home/rkaushik/Documents/Thesis/MLROM/Kolmogorov/saved_ae/ae_017/checkpoints/LossHistoriesCheckpoint\n",
      "1250/1250 [==============================] - 32s 26ms/step - loss: 0.0020 - mse: 0.0019 - NMSE: 0.0167 - encoder_attention_module_0_lambda: -0.2786 - encoder_attention_module_1_lambda: 0.1211 - encoder_attention_module_2_lambda: -0.1432 - decoder_attention_module_0_lambda: -0.2430 - decoder_attention_module_1_lambda: -0.2952 - decoder_attention_module_2_lambda: 0.3728 - val_loss: 0.0019 - val_mse: 0.0017 - val_NMSE: 0.0157\n",
      "Epoch 39/200\n",
      "1250/1250 [==============================] - ETA: 0s - loss: 0.0020 - mse: 0.0019 - NMSE: 0.0167 - encoder_attention_module_0_lambda: -0.2788 - encoder_attention_module_1_lambda: 0.1210 - encoder_attention_module_2_lambda: -0.1435 - decoder_attention_module_0_lambda: -0.2431 - decoder_attention_module_1_lambda: -0.2956 - decoder_attention_module_2_lambda: 0.3733 - tot_time: 0h 53m 29.0s\n",
      "\n",
      "Epoch 39: val_NMSE did not improve from 0.01554\n",
      " - saving loss histories at /home/rkaushik/Documents/Thesis/MLROM/Kolmogorov/saved_ae/ae_017/checkpoints/LossHistoriesCheckpoint\n",
      "1250/1250 [==============================] - 32s 26ms/step - loss: 0.0020 - mse: 0.0019 - NMSE: 0.0167 - encoder_attention_module_0_lambda: -0.2788 - encoder_attention_module_1_lambda: 0.1210 - encoder_attention_module_2_lambda: -0.1435 - decoder_attention_module_0_lambda: -0.2431 - decoder_attention_module_1_lambda: -0.2956 - decoder_attention_module_2_lambda: 0.3733 - val_loss: 0.0019 - val_mse: 0.0018 - val_NMSE: 0.0159\n",
      "Epoch 40/200\n",
      "1249/1250 [============================>.] - ETA: 0s - loss: 0.0020 - mse: 0.0019 - NMSE: 0.0167 - encoder_attention_module_0_lambda: -0.2795 - encoder_attention_module_1_lambda: 0.1210 - encoder_attention_module_2_lambda: -0.1437 - decoder_attention_module_0_lambda: -0.2435 - decoder_attention_module_1_lambda: -0.2963 - decoder_attention_module_2_lambda: 0.3735 - tot_time: 0h 54m 0.8s\n",
      "\n",
      "Epoch 40: val_NMSE did not improve from 0.01554\n",
      " - saving loss histories at /home/rkaushik/Documents/Thesis/MLROM/Kolmogorov/saved_ae/ae_017/checkpoints/LossHistoriesCheckpoint\n",
      "1250/1250 [==============================] - 32s 25ms/step - loss: 0.0020 - mse: 0.0019 - NMSE: 0.0167 - encoder_attention_module_0_lambda: -0.2795 - encoder_attention_module_1_lambda: 0.1210 - encoder_attention_module_2_lambda: -0.1437 - decoder_attention_module_0_lambda: -0.2435 - decoder_attention_module_1_lambda: -0.2963 - decoder_attention_module_2_lambda: 0.3735 - val_loss: 0.0019 - val_mse: 0.0017 - val_NMSE: 0.0157\n",
      "Epoch 41/200\n",
      "1250/1250 [==============================] - ETA: 0s - loss: 0.0020 - mse: 0.0018 - NMSE: 0.0166 - encoder_attention_module_0_lambda: -0.2797 - encoder_attention_module_1_lambda: 0.1221 - encoder_attention_module_2_lambda: -0.1443 - decoder_attention_module_0_lambda: -0.2439 - decoder_attention_module_1_lambda: -0.2967 - decoder_attention_module_2_lambda: 0.3741 - tot_time: 0h 54m 32.0s\n",
      "\n",
      "Epoch 41: val_NMSE did not improve from 0.01554\n",
      " - saving loss histories at /home/rkaushik/Documents/Thesis/MLROM/Kolmogorov/saved_ae/ae_017/checkpoints/LossHistoriesCheckpoint\n",
      "1250/1250 [==============================] - 31s 25ms/step - loss: 0.0020 - mse: 0.0018 - NMSE: 0.0166 - encoder_attention_module_0_lambda: -0.2797 - encoder_attention_module_1_lambda: 0.1221 - encoder_attention_module_2_lambda: -0.1443 - decoder_attention_module_0_lambda: -0.2439 - decoder_attention_module_1_lambda: -0.2967 - decoder_attention_module_2_lambda: 0.3741 - val_loss: 0.0019 - val_mse: 0.0018 - val_NMSE: 0.0158\n",
      "Epoch 42/200\n"
     ]
    },
    {
     "name": "stdout",
     "output_type": "stream",
     "text": [
      "1250/1250 [==============================] - ETA: 0s - loss: 0.0020 - mse: 0.0018 - NMSE: 0.0166 - encoder_attention_module_0_lambda: -0.2802 - encoder_attention_module_1_lambda: 0.1221 - encoder_attention_module_2_lambda: -0.1443 - decoder_attention_module_0_lambda: -0.2439 - decoder_attention_module_1_lambda: -0.2970 - decoder_attention_module_2_lambda: 0.3742 - tot_time: 0h 55m 3.1s\n",
      "\n",
      "Epoch 42: val_NMSE did not improve from 0.01554\n",
      " - saving loss histories at /home/rkaushik/Documents/Thesis/MLROM/Kolmogorov/saved_ae/ae_017/checkpoints/LossHistoriesCheckpoint\n",
      "1250/1250 [==============================] - 31s 25ms/step - loss: 0.0020 - mse: 0.0018 - NMSE: 0.0166 - encoder_attention_module_0_lambda: -0.2802 - encoder_attention_module_1_lambda: 0.1221 - encoder_attention_module_2_lambda: -0.1443 - decoder_attention_module_0_lambda: -0.2439 - decoder_attention_module_1_lambda: -0.2970 - decoder_attention_module_2_lambda: 0.3742 - val_loss: 0.0020 - val_mse: 0.0018 - val_NMSE: 0.0161\n",
      "Epoch 43/200\n",
      "1249/1250 [============================>.] - ETA: 0s - loss: 0.0020 - mse: 0.0018 - NMSE: 0.0166 - encoder_attention_module_0_lambda: -0.2797 - encoder_attention_module_1_lambda: 0.1231 - encoder_attention_module_2_lambda: -0.1449 - decoder_attention_module_0_lambda: -0.2441 - decoder_attention_module_1_lambda: -0.2974 - decoder_attention_module_2_lambda: 0.3750 - tot_time: 0h 55m 34.3s\n",
      "\n",
      "Epoch 43: val_NMSE improved from 0.01554 to 0.01553, saving model to /home/rkaushik/Documents/Thesis/MLROM/Kolmogorov/saved_ae/ae_017/checkpoints/checkpoint\n",
      " - saving loss histories at /home/rkaushik/Documents/Thesis/MLROM/Kolmogorov/saved_ae/ae_017/checkpoints/LossHistoriesCheckpoint\n",
      "1250/1250 [==============================] - 31s 25ms/step - loss: 0.0020 - mse: 0.0018 - NMSE: 0.0166 - encoder_attention_module_0_lambda: -0.2797 - encoder_attention_module_1_lambda: 0.1231 - encoder_attention_module_2_lambda: -0.1449 - decoder_attention_module_0_lambda: -0.2441 - decoder_attention_module_1_lambda: -0.2974 - decoder_attention_module_2_lambda: 0.3750 - val_loss: 0.0019 - val_mse: 0.0017 - val_NMSE: 0.0155\n",
      "Epoch 44/200\n",
      "1248/1250 [============================>.] - ETA: 0s - loss: 0.0020 - mse: 0.0018 - NMSE: 0.0166 - encoder_attention_module_0_lambda: -0.2800 - encoder_attention_module_1_lambda: 0.1232 - encoder_attention_module_2_lambda: -0.1451 - decoder_attention_module_0_lambda: -0.2445 - decoder_attention_module_1_lambda: -0.2979 - decoder_attention_module_2_lambda: 0.3752 - tot_time: 0h 56m 5.4s\n",
      "\n",
      "Epoch 44: val_NMSE improved from 0.01553 to 0.01548, saving model to /home/rkaushik/Documents/Thesis/MLROM/Kolmogorov/saved_ae/ae_017/checkpoints/checkpoint\n",
      " - saving loss histories at /home/rkaushik/Documents/Thesis/MLROM/Kolmogorov/saved_ae/ae_017/checkpoints/LossHistoriesCheckpoint\n",
      "1250/1250 [==============================] - 31s 25ms/step - loss: 0.0020 - mse: 0.0018 - NMSE: 0.0166 - encoder_attention_module_0_lambda: -0.2800 - encoder_attention_module_1_lambda: 0.1232 - encoder_attention_module_2_lambda: -0.1451 - decoder_attention_module_0_lambda: -0.2445 - decoder_attention_module_1_lambda: -0.2979 - decoder_attention_module_2_lambda: 0.3752 - val_loss: 0.0019 - val_mse: 0.0017 - val_NMSE: 0.0155\n",
      "Epoch 45/200\n",
      "1250/1250 [==============================] - ETA: 0s - loss: 0.0020 - mse: 0.0018 - NMSE: 0.0166 - encoder_attention_module_0_lambda: -0.2805 - encoder_attention_module_1_lambda: 0.1239 - encoder_attention_module_2_lambda: -0.1453 - decoder_attention_module_0_lambda: -0.2446 - decoder_attention_module_1_lambda: -0.2986 - decoder_attention_module_2_lambda: 0.3756 - tot_time: 0h 56m 37.2s\n",
      "\n",
      "Epoch 45: val_NMSE did not improve from 0.01548\n",
      " - saving loss histories at /home/rkaushik/Documents/Thesis/MLROM/Kolmogorov/saved_ae/ae_017/checkpoints/LossHistoriesCheckpoint\n",
      "1250/1250 [==============================] - 32s 25ms/step - loss: 0.0020 - mse: 0.0018 - NMSE: 0.0166 - encoder_attention_module_0_lambda: -0.2805 - encoder_attention_module_1_lambda: 0.1239 - encoder_attention_module_2_lambda: -0.1453 - decoder_attention_module_0_lambda: -0.2446 - decoder_attention_module_1_lambda: -0.2986 - decoder_attention_module_2_lambda: 0.3756 - val_loss: 0.0020 - val_mse: 0.0018 - val_NMSE: 0.0161\n",
      "Epoch 46/200\n",
      "1249/1250 [============================>.] - ETA: 0s - loss: 0.0020 - mse: 0.0018 - NMSE: 0.0166 - encoder_attention_module_0_lambda: -0.2808 - encoder_attention_module_1_lambda: 0.1245 - encoder_attention_module_2_lambda: -0.1456 - decoder_attention_module_0_lambda: -0.2447 - decoder_attention_module_1_lambda: -0.2988 - decoder_attention_module_2_lambda: 0.3758 - tot_time: 0h 57m 8.6s\n",
      "\n",
      "Epoch 46: val_NMSE did not improve from 0.01548\n",
      " - saving loss histories at /home/rkaushik/Documents/Thesis/MLROM/Kolmogorov/saved_ae/ae_017/checkpoints/LossHistoriesCheckpoint\n",
      "1250/1250 [==============================] - 31s 25ms/step - loss: 0.0020 - mse: 0.0018 - NMSE: 0.0166 - encoder_attention_module_0_lambda: -0.2808 - encoder_attention_module_1_lambda: 0.1245 - encoder_attention_module_2_lambda: -0.1456 - decoder_attention_module_0_lambda: -0.2447 - decoder_attention_module_1_lambda: -0.2988 - decoder_attention_module_2_lambda: 0.3758 - val_loss: 0.0019 - val_mse: 0.0018 - val_NMSE: 0.0160\n",
      "Epoch 47/200\n",
      "1250/1250 [==============================] - ETA: 0s - loss: 0.0020 - mse: 0.0018 - NMSE: 0.0165 - encoder_attention_module_0_lambda: -0.2814 - encoder_attention_module_1_lambda: 0.1248 - encoder_attention_module_2_lambda: -0.1460 - decoder_attention_module_0_lambda: -0.2447 - decoder_attention_module_1_lambda: -0.2989 - decoder_attention_module_2_lambda: 0.3760 - tot_time: 0h 57m 40.4s\n",
      "\n",
      "Epoch 47: val_NMSE improved from 0.01548 to 0.01541, saving model to /home/rkaushik/Documents/Thesis/MLROM/Kolmogorov/saved_ae/ae_017/checkpoints/checkpoint\n",
      " - saving loss histories at /home/rkaushik/Documents/Thesis/MLROM/Kolmogorov/saved_ae/ae_017/checkpoints/LossHistoriesCheckpoint\n",
      "1250/1250 [==============================] - 32s 26ms/step - loss: 0.0020 - mse: 0.0018 - NMSE: 0.0165 - encoder_attention_module_0_lambda: -0.2814 - encoder_attention_module_1_lambda: 0.1248 - encoder_attention_module_2_lambda: -0.1460 - decoder_attention_module_0_lambda: -0.2447 - decoder_attention_module_1_lambda: -0.2989 - decoder_attention_module_2_lambda: 0.3760 - val_loss: 0.0019 - val_mse: 0.0017 - val_NMSE: 0.0154\n",
      "Epoch 48/200\n",
      "1249/1250 [============================>.] - ETA: 0s - loss: 0.0020 - mse: 0.0018 - NMSE: 0.0165 - encoder_attention_module_0_lambda: -0.2816 - encoder_attention_module_1_lambda: 0.1260 - encoder_attention_module_2_lambda: -0.1462 - decoder_attention_module_0_lambda: -0.2449 - decoder_attention_module_1_lambda: -0.2994 - decoder_attention_module_2_lambda: 0.3762 - tot_time: 0h 58m 11.6s\n",
      "\n",
      "Epoch 48: val_NMSE did not improve from 0.01541\n",
      " - saving loss histories at /home/rkaushik/Documents/Thesis/MLROM/Kolmogorov/saved_ae/ae_017/checkpoints/LossHistoriesCheckpoint\n",
      "1250/1250 [==============================] - 31s 25ms/step - loss: 0.0020 - mse: 0.0018 - NMSE: 0.0165 - encoder_attention_module_0_lambda: -0.2816 - encoder_attention_module_1_lambda: 0.1260 - encoder_attention_module_2_lambda: -0.1462 - decoder_attention_module_0_lambda: -0.2449 - decoder_attention_module_1_lambda: -0.2994 - decoder_attention_module_2_lambda: 0.3762 - val_loss: 0.0019 - val_mse: 0.0017 - val_NMSE: 0.0155\n",
      "Epoch 49/200\n",
      "1250/1250 [==============================] - ETA: 0s - loss: 0.0020 - mse: 0.0018 - NMSE: 0.0165 - encoder_attention_module_0_lambda: -0.2823 - encoder_attention_module_1_lambda: 0.1259 - encoder_attention_module_2_lambda: -0.1465 - decoder_attention_module_0_lambda: -0.2450 - decoder_attention_module_1_lambda: -0.3000 - decoder_attention_module_2_lambda: 0.3768 - tot_time: 0h 58m 42.7s\n",
      "\n",
      "Epoch 49: val_NMSE improved from 0.01541 to 0.01535, saving model to /home/rkaushik/Documents/Thesis/MLROM/Kolmogorov/saved_ae/ae_017/checkpoints/checkpoint\n",
      " - saving loss histories at /home/rkaushik/Documents/Thesis/MLROM/Kolmogorov/saved_ae/ae_017/checkpoints/LossHistoriesCheckpoint\n",
      "1250/1250 [==============================] - 31s 25ms/step - loss: 0.0020 - mse: 0.0018 - NMSE: 0.0165 - encoder_attention_module_0_lambda: -0.2823 - encoder_attention_module_1_lambda: 0.1259 - encoder_attention_module_2_lambda: -0.1465 - decoder_attention_module_0_lambda: -0.2450 - decoder_attention_module_1_lambda: -0.3000 - decoder_attention_module_2_lambda: 0.3768 - val_loss: 0.0019 - val_mse: 0.0017 - val_NMSE: 0.0154\n"
     ]
    },
    {
     "name": "stdout",
     "output_type": "stream",
     "text": [
      "Epoch 50/200\n",
      "1249/1250 [============================>.] - ETA: 0s - loss: 0.0020 - mse: 0.0018 - NMSE: 0.0165 - encoder_attention_module_0_lambda: -0.2827 - encoder_attention_module_1_lambda: 0.1264 - encoder_attention_module_2_lambda: -0.1469 - decoder_attention_module_0_lambda: -0.2452 - decoder_attention_module_1_lambda: -0.3005 - decoder_attention_module_2_lambda: 0.3770 - tot_time: 0h 59m 13.6s\n",
      "\n",
      "Epoch 50: val_NMSE did not improve from 0.01535\n",
      " - saving loss histories at /home/rkaushik/Documents/Thesis/MLROM/Kolmogorov/saved_ae/ae_017/checkpoints/LossHistoriesCheckpoint\n",
      "1250/1250 [==============================] - 31s 25ms/step - loss: 0.0020 - mse: 0.0018 - NMSE: 0.0165 - encoder_attention_module_0_lambda: -0.2827 - encoder_attention_module_1_lambda: 0.1264 - encoder_attention_module_2_lambda: -0.1469 - decoder_attention_module_0_lambda: -0.2452 - decoder_attention_module_1_lambda: -0.3005 - decoder_attention_module_2_lambda: 0.3770 - val_loss: 0.0019 - val_mse: 0.0017 - val_NMSE: 0.0155\n",
      "Epoch 51/200\n",
      "1249/1250 [============================>.] - ETA: 0s - loss: 0.0020 - mse: 0.0018 - NMSE: 0.0166 - encoder_attention_module_0_lambda: -0.2830 - encoder_attention_module_1_lambda: 0.1266 - encoder_attention_module_2_lambda: -0.1473 - decoder_attention_module_0_lambda: -0.2455 - decoder_attention_module_1_lambda: -0.3009 - decoder_attention_module_2_lambda: 0.3775 - tot_time: 0h 59m 44.3s\n",
      "\n",
      "Epoch 51: val_NMSE did not improve from 0.01535\n",
      " - saving loss histories at /home/rkaushik/Documents/Thesis/MLROM/Kolmogorov/saved_ae/ae_017/checkpoints/LossHistoriesCheckpoint\n",
      "1250/1250 [==============================] - 31s 25ms/step - loss: 0.0020 - mse: 0.0018 - NMSE: 0.0165 - encoder_attention_module_0_lambda: -0.2830 - encoder_attention_module_1_lambda: 0.1266 - encoder_attention_module_2_lambda: -0.1473 - decoder_attention_module_0_lambda: -0.2455 - decoder_attention_module_1_lambda: -0.3009 - decoder_attention_module_2_lambda: 0.3775 - val_loss: 0.0019 - val_mse: 0.0017 - val_NMSE: 0.0155\n",
      "Epoch 52/200\n",
      "1249/1250 [============================>.] - ETA: 0s - loss: 0.0020 - mse: 0.0018 - NMSE: 0.0164 - encoder_attention_module_0_lambda: -0.2830 - encoder_attention_module_1_lambda: 0.1265 - encoder_attention_module_2_lambda: -0.1475 - decoder_attention_module_0_lambda: -0.2456 - decoder_attention_module_1_lambda: -0.3012 - decoder_attention_module_2_lambda: 0.3776 - tot_time: 1h 0m 15.2s\n",
      "\n",
      "Epoch 52: val_NMSE did not improve from 0.01535\n",
      " - saving loss histories at /home/rkaushik/Documents/Thesis/MLROM/Kolmogorov/saved_ae/ae_017/checkpoints/LossHistoriesCheckpoint\n",
      "1250/1250 [==============================] - 31s 25ms/step - loss: 0.0020 - mse: 0.0018 - NMSE: 0.0164 - encoder_attention_module_0_lambda: -0.2830 - encoder_attention_module_1_lambda: 0.1265 - encoder_attention_module_2_lambda: -0.1475 - decoder_attention_module_0_lambda: -0.2456 - decoder_attention_module_1_lambda: -0.3012 - decoder_attention_module_2_lambda: 0.3776 - val_loss: 0.0019 - val_mse: 0.0018 - val_NMSE: 0.0159\n",
      "Epoch 53/200\n",
      "1249/1250 [============================>.] - ETA: 0s - loss: 0.0020 - mse: 0.0018 - NMSE: 0.0165 - encoder_attention_module_0_lambda: -0.2832 - encoder_attention_module_1_lambda: 0.1265 - encoder_attention_module_2_lambda: -0.1477 - decoder_attention_module_0_lambda: -0.2458 - decoder_attention_module_1_lambda: -0.3016 - decoder_attention_module_2_lambda: 0.3779 - tot_time: 1h 0m 46.7s\n",
      "\n",
      "Epoch 53: val_NMSE did not improve from 0.01535\n",
      " - saving loss histories at /home/rkaushik/Documents/Thesis/MLROM/Kolmogorov/saved_ae/ae_017/checkpoints/LossHistoriesCheckpoint\n",
      "1250/1250 [==============================] - 31s 25ms/step - loss: 0.0020 - mse: 0.0018 - NMSE: 0.0165 - encoder_attention_module_0_lambda: -0.2832 - encoder_attention_module_1_lambda: 0.1265 - encoder_attention_module_2_lambda: -0.1477 - decoder_attention_module_0_lambda: -0.2458 - decoder_attention_module_1_lambda: -0.3016 - decoder_attention_module_2_lambda: 0.3779 - val_loss: 0.0019 - val_mse: 0.0017 - val_NMSE: 0.0157\n",
      "Epoch 54/200\n",
      "1249/1250 [============================>.] - ETA: 0s - loss: 0.0020 - mse: 0.0018 - NMSE: 0.0165 - encoder_attention_module_0_lambda: -0.2842 - encoder_attention_module_1_lambda: 0.1275 - encoder_attention_module_2_lambda: -0.1479 - decoder_attention_module_0_lambda: -0.2459 - decoder_attention_module_1_lambda: -0.3015 - decoder_attention_module_2_lambda: 0.3783 - tot_time: 1h 1m 17.8s\n",
      "\n",
      "Epoch 54: val_NMSE did not improve from 0.01535\n",
      " - saving loss histories at /home/rkaushik/Documents/Thesis/MLROM/Kolmogorov/saved_ae/ae_017/checkpoints/LossHistoriesCheckpoint\n",
      "1250/1250 [==============================] - 31s 25ms/step - loss: 0.0020 - mse: 0.0018 - NMSE: 0.0165 - encoder_attention_module_0_lambda: -0.2842 - encoder_attention_module_1_lambda: 0.1275 - encoder_attention_module_2_lambda: -0.1479 - decoder_attention_module_0_lambda: -0.2459 - decoder_attention_module_1_lambda: -0.3015 - decoder_attention_module_2_lambda: 0.3783 - val_loss: 0.0019 - val_mse: 0.0017 - val_NMSE: 0.0154\n",
      "Epoch 55/200\n",
      "1249/1250 [============================>.] - ETA: 0s - loss: 0.0020 - mse: 0.0018 - NMSE: 0.0164 - encoder_attention_module_0_lambda: -0.2841 - encoder_attention_module_1_lambda: 0.1272 - encoder_attention_module_2_lambda: -0.1482 - decoder_attention_module_0_lambda: -0.2463 - decoder_attention_module_1_lambda: -0.3022 - decoder_attention_module_2_lambda: 0.3786 - tot_time: 1h 1m 48.7s\n",
      "\n",
      "Epoch 55: val_NMSE did not improve from 0.01535\n",
      " - saving loss histories at /home/rkaushik/Documents/Thesis/MLROM/Kolmogorov/saved_ae/ae_017/checkpoints/LossHistoriesCheckpoint\n",
      "1250/1250 [==============================] - 31s 25ms/step - loss: 0.0020 - mse: 0.0018 - NMSE: 0.0164 - encoder_attention_module_0_lambda: -0.2841 - encoder_attention_module_1_lambda: 0.1272 - encoder_attention_module_2_lambda: -0.1482 - decoder_attention_module_0_lambda: -0.2463 - decoder_attention_module_1_lambda: -0.3022 - decoder_attention_module_2_lambda: 0.3786 - val_loss: 0.0019 - val_mse: 0.0017 - val_NMSE: 0.0156\n",
      "Epoch 56/200\n",
      "1250/1250 [==============================] - ETA: 0s - loss: 0.0020 - mse: 0.0018 - NMSE: 0.0165 - encoder_attention_module_0_lambda: -0.2843 - encoder_attention_module_1_lambda: 0.1284 - encoder_attention_module_2_lambda: -0.1484 - decoder_attention_module_0_lambda: -0.2465 - decoder_attention_module_1_lambda: -0.3028 - decoder_attention_module_2_lambda: 0.3789 - tot_time: 1h 2m 19.5s\n",
      "\n",
      "Epoch 56: val_NMSE did not improve from 0.01535\n",
      " - saving loss histories at /home/rkaushik/Documents/Thesis/MLROM/Kolmogorov/saved_ae/ae_017/checkpoints/LossHistoriesCheckpoint\n",
      "1250/1250 [==============================] - 31s 25ms/step - loss: 0.0020 - mse: 0.0018 - NMSE: 0.0165 - encoder_attention_module_0_lambda: -0.2843 - encoder_attention_module_1_lambda: 0.1284 - encoder_attention_module_2_lambda: -0.1484 - decoder_attention_module_0_lambda: -0.2465 - decoder_attention_module_1_lambda: -0.3028 - decoder_attention_module_2_lambda: 0.3789 - val_loss: 0.0019 - val_mse: 0.0017 - val_NMSE: 0.0156\n",
      "Epoch 57/200\n",
      "1250/1250 [==============================] - ETA: 0s - loss: 0.0020 - mse: 0.0018 - NMSE: 0.0165 - encoder_attention_module_0_lambda: -0.2850 - encoder_attention_module_1_lambda: 0.1287 - encoder_attention_module_2_lambda: -0.1488 - decoder_attention_module_0_lambda: -0.2466 - decoder_attention_module_1_lambda: -0.3033 - decoder_attention_module_2_lambda: 0.3793 - tot_time: 1h 2m 50.8s\n",
      "\n",
      "Epoch 57: val_NMSE did not improve from 0.01535\n",
      " - saving loss histories at /home/rkaushik/Documents/Thesis/MLROM/Kolmogorov/saved_ae/ae_017/checkpoints/LossHistoriesCheckpoint\n",
      "1250/1250 [==============================] - 31s 25ms/step - loss: 0.0020 - mse: 0.0018 - NMSE: 0.0165 - encoder_attention_module_0_lambda: -0.2850 - encoder_attention_module_1_lambda: 0.1287 - encoder_attention_module_2_lambda: -0.1488 - decoder_attention_module_0_lambda: -0.2466 - decoder_attention_module_1_lambda: -0.3033 - decoder_attention_module_2_lambda: 0.3793 - val_loss: 0.0020 - val_mse: 0.0018 - val_NMSE: 0.0161\n",
      "Epoch 58/200\n"
     ]
    },
    {
     "name": "stdout",
     "output_type": "stream",
     "text": [
      "1250/1250 [==============================] - ETA: 0s - loss: 0.0020 - mse: 0.0018 - NMSE: 0.0165 - encoder_attention_module_0_lambda: -0.2856 - encoder_attention_module_1_lambda: 0.1288 - encoder_attention_module_2_lambda: -0.1489 - decoder_attention_module_0_lambda: -0.2469 - decoder_attention_module_1_lambda: -0.3036 - decoder_attention_module_2_lambda: 0.3794 - tot_time: 1h 3m 21.5s\n",
      "\n",
      "Epoch 58: val_NMSE did not improve from 0.01535\n",
      " - saving loss histories at /home/rkaushik/Documents/Thesis/MLROM/Kolmogorov/saved_ae/ae_017/checkpoints/LossHistoriesCheckpoint\n",
      "1250/1250 [==============================] - 31s 25ms/step - loss: 0.0020 - mse: 0.0018 - NMSE: 0.0165 - encoder_attention_module_0_lambda: -0.2856 - encoder_attention_module_1_lambda: 0.1288 - encoder_attention_module_2_lambda: -0.1489 - decoder_attention_module_0_lambda: -0.2469 - decoder_attention_module_1_lambda: -0.3036 - decoder_attention_module_2_lambda: 0.3794 - val_loss: 0.0019 - val_mse: 0.0017 - val_NMSE: 0.0155\n",
      "Epoch 59/200\n",
      "1249/1250 [============================>.] - ETA: 0s - loss: 0.0020 - mse: 0.0018 - NMSE: 0.0164 - encoder_attention_module_0_lambda: -0.2863 - encoder_attention_module_1_lambda: 0.1297 - encoder_attention_module_2_lambda: -0.1490 - decoder_attention_module_0_lambda: -0.2468 - decoder_attention_module_1_lambda: -0.3041 - decoder_attention_module_2_lambda: 0.3798Restoring model weights from the end of the best epoch: 49.\n",
      " - tot_time: 1h 3m 52.3s\n",
      "\n",
      "Epoch 59: val_NMSE did not improve from 0.01535\n",
      " - saving loss histories at /home/rkaushik/Documents/Thesis/MLROM/Kolmogorov/saved_ae/ae_017/checkpoints/LossHistoriesCheckpoint\n",
      "1250/1250 [==============================] - 31s 25ms/step - loss: 0.0020 - mse: 0.0018 - NMSE: 0.0164 - encoder_attention_module_0_lambda: -0.2863 - encoder_attention_module_1_lambda: 0.1297 - encoder_attention_module_2_lambda: -0.1490 - decoder_attention_module_0_lambda: -0.2468 - decoder_attention_module_1_lambda: -0.3041 - decoder_attention_module_2_lambda: 0.3798 - val_loss: 0.0020 - val_mse: 0.0018 - val_NMSE: 0.0161\n",
      "Epoch 59: early stopping\n",
      "\n",
      "\n",
      "--------------------------------------------------------------------------------\n",
      "\n",
      "---------------------------- LEARNING RATE : 1e-05 -----------------------------\n",
      "\n",
      "--------------------------------------------------------------------------------\n",
      "\n",
      "\n",
      "Epoch 1/200\n",
      "   4/1250 [..............................] - ETA: 22s - loss: 0.0019 - mse: 0.0017 - NMSE: 0.0154 - encoder_attention_module_0_lambda: -0.2825 - encoder_attention_module_1_lambda: 0.1253 - encoder_attention_module_2_lambda: -0.1473 - decoder_attention_module_0_lambda: -0.2449 - decoder_attention_module_1_lambda: -0.3003 - decoder_attention_module_2_lambda: 0.3768WARNING:tensorflow:Callback method `on_train_batch_end` is slow compared to the batch time (batch time: 0.0088s vs `on_train_batch_end` time: 0.0088s). Check your callbacks.\n",
      "1249/1250 [============================>.] - ETA: 0s - loss: 0.0020 - mse: 0.0018 - NMSE: 0.0161 - encoder_attention_module_0_lambda: -0.2826 - encoder_attention_module_1_lambda: 0.1259 - encoder_attention_module_2_lambda: -0.1471 - decoder_attention_module_0_lambda: -0.2450 - decoder_attention_module_1_lambda: -0.3004 - decoder_attention_module_2_lambda: 0.3770 - tot_time: 1h 4m 24.3s\n",
      "\n",
      "Epoch 1: val_NMSE improved from 0.01535 to 0.01524, saving model to /home/rkaushik/Documents/Thesis/MLROM/Kolmogorov/saved_ae/ae_017/checkpoints/checkpoint\n",
      " - saving loss histories at /home/rkaushik/Documents/Thesis/MLROM/Kolmogorov/saved_ae/ae_017/checkpoints/LossHistoriesCheckpoint\n",
      "1250/1250 [==============================] - 31s 25ms/step - loss: 0.0020 - mse: 0.0018 - NMSE: 0.0161 - encoder_attention_module_0_lambda: -0.2826 - encoder_attention_module_1_lambda: 0.1259 - encoder_attention_module_2_lambda: -0.1471 - decoder_attention_module_0_lambda: -0.2450 - decoder_attention_module_1_lambda: -0.3004 - decoder_attention_module_2_lambda: 0.3770 - val_loss: 0.0019 - val_mse: 0.0017 - val_NMSE: 0.0152\n",
      "Epoch 2/200\n",
      "1249/1250 [============================>.] - ETA: 0s - loss: 0.0020 - mse: 0.0018 - NMSE: 0.0161 - encoder_attention_module_0_lambda: -0.2828 - encoder_attention_module_1_lambda: 0.1266 - encoder_attention_module_2_lambda: -0.1470 - decoder_attention_module_0_lambda: -0.2452 - decoder_attention_module_1_lambda: -0.3005 - decoder_attention_module_2_lambda: 0.3772 - tot_time: 1h 4m 55.7s\n",
      "\n",
      "Epoch 2: val_NMSE improved from 0.01524 to 0.01514, saving model to /home/rkaushik/Documents/Thesis/MLROM/Kolmogorov/saved_ae/ae_017/checkpoints/checkpoint\n",
      " - saving loss histories at /home/rkaushik/Documents/Thesis/MLROM/Kolmogorov/saved_ae/ae_017/checkpoints/LossHistoriesCheckpoint\n",
      "1250/1250 [==============================] - 31s 25ms/step - loss: 0.0020 - mse: 0.0018 - NMSE: 0.0161 - encoder_attention_module_0_lambda: -0.2828 - encoder_attention_module_1_lambda: 0.1266 - encoder_attention_module_2_lambda: -0.1470 - decoder_attention_module_0_lambda: -0.2452 - decoder_attention_module_1_lambda: -0.3005 - decoder_attention_module_2_lambda: 0.3772 - val_loss: 0.0019 - val_mse: 0.0017 - val_NMSE: 0.0151\n",
      "Epoch 3/200\n",
      "1250/1250 [==============================] - ETA: 0s - loss: 0.0020 - mse: 0.0018 - NMSE: 0.0161 - encoder_attention_module_0_lambda: -0.2829 - encoder_attention_module_1_lambda: 0.1270 - encoder_attention_module_2_lambda: -0.1469 - decoder_attention_module_0_lambda: -0.2451 - decoder_attention_module_1_lambda: -0.3006 - decoder_attention_module_2_lambda: 0.3773 - tot_time: 1h 5m 27.4s\n",
      "\n",
      "Epoch 3: val_NMSE did not improve from 0.01514\n",
      " - saving loss histories at /home/rkaushik/Documents/Thesis/MLROM/Kolmogorov/saved_ae/ae_017/checkpoints/LossHistoriesCheckpoint\n",
      "1250/1250 [==============================] - 32s 25ms/step - loss: 0.0020 - mse: 0.0018 - NMSE: 0.0161 - encoder_attention_module_0_lambda: -0.2829 - encoder_attention_module_1_lambda: 0.1270 - encoder_attention_module_2_lambda: -0.1469 - decoder_attention_module_0_lambda: -0.2451 - decoder_attention_module_1_lambda: -0.3006 - decoder_attention_module_2_lambda: 0.3773 - val_loss: 0.0019 - val_mse: 0.0017 - val_NMSE: 0.0152\n",
      "Epoch 4/200\n",
      "1248/1250 [============================>.] - ETA: 0s - loss: 0.0020 - mse: 0.0018 - NMSE: 0.0162 - encoder_attention_module_0_lambda: -0.2828 - encoder_attention_module_1_lambda: 0.1273 - encoder_attention_module_2_lambda: -0.1470 - decoder_attention_module_0_lambda: -0.2451 - decoder_attention_module_1_lambda: -0.3007 - decoder_attention_module_2_lambda: 0.3774 - tot_time: 1h 5m 58.7s\n",
      "\n",
      "Epoch 4: val_NMSE did not improve from 0.01514\n",
      " - saving loss histories at /home/rkaushik/Documents/Thesis/MLROM/Kolmogorov/saved_ae/ae_017/checkpoints/LossHistoriesCheckpoint\n",
      "1250/1250 [==============================] - 31s 25ms/step - loss: 0.0020 - mse: 0.0018 - NMSE: 0.0162 - encoder_attention_module_0_lambda: -0.2828 - encoder_attention_module_1_lambda: 0.1273 - encoder_attention_module_2_lambda: -0.1470 - decoder_attention_module_0_lambda: -0.2451 - decoder_attention_module_1_lambda: -0.3007 - decoder_attention_module_2_lambda: 0.3774 - val_loss: 0.0019 - val_mse: 0.0017 - val_NMSE: 0.0152\n",
      "Epoch 5/200\n",
      "1249/1250 [============================>.] - ETA: 0s - loss: 0.0020 - mse: 0.0018 - NMSE: 0.0161 - encoder_attention_module_0_lambda: -0.2829 - encoder_attention_module_1_lambda: 0.1274 - encoder_attention_module_2_lambda: -0.1469 - decoder_attention_module_0_lambda: -0.2452 - decoder_attention_module_1_lambda: -0.3008 - decoder_attention_module_2_lambda: 0.3775 - tot_time: 1h 6m 30.2s\n",
      "\n",
      "Epoch 5: val_NMSE did not improve from 0.01514\n",
      " - saving loss histories at /home/rkaushik/Documents/Thesis/MLROM/Kolmogorov/saved_ae/ae_017/checkpoints/LossHistoriesCheckpoint\n",
      "1250/1250 [==============================] - 31s 25ms/step - loss: 0.0020 - mse: 0.0018 - NMSE: 0.0161 - encoder_attention_module_0_lambda: -0.2829 - encoder_attention_module_1_lambda: 0.1274 - encoder_attention_module_2_lambda: -0.1469 - decoder_attention_module_0_lambda: -0.2452 - decoder_attention_module_1_lambda: -0.3008 - decoder_attention_module_2_lambda: 0.3775 - val_loss: 0.0019 - val_mse: 0.0017 - val_NMSE: 0.0152\n",
      "Epoch 6/200\n"
     ]
    },
    {
     "name": "stdout",
     "output_type": "stream",
     "text": [
      "1249/1250 [============================>.] - ETA: 0s - loss: 0.0020 - mse: 0.0018 - NMSE: 0.0161 - encoder_attention_module_0_lambda: -0.2828 - encoder_attention_module_1_lambda: 0.1275 - encoder_attention_module_2_lambda: -0.1469 - decoder_attention_module_0_lambda: -0.2453 - decoder_attention_module_1_lambda: -0.3010 - decoder_attention_module_2_lambda: 0.3776 - tot_time: 1h 7m 2.0s\n",
      "\n",
      "Epoch 6: val_NMSE improved from 0.01514 to 0.01512, saving model to /home/rkaushik/Documents/Thesis/MLROM/Kolmogorov/saved_ae/ae_017/checkpoints/checkpoint\n",
      " - saving loss histories at /home/rkaushik/Documents/Thesis/MLROM/Kolmogorov/saved_ae/ae_017/checkpoints/LossHistoriesCheckpoint\n",
      "1250/1250 [==============================] - 32s 26ms/step - loss: 0.0020 - mse: 0.0018 - NMSE: 0.0161 - encoder_attention_module_0_lambda: -0.2828 - encoder_attention_module_1_lambda: 0.1275 - encoder_attention_module_2_lambda: -0.1469 - decoder_attention_module_0_lambda: -0.2453 - decoder_attention_module_1_lambda: -0.3010 - decoder_attention_module_2_lambda: 0.3776 - val_loss: 0.0019 - val_mse: 0.0017 - val_NMSE: 0.0151\n",
      "Epoch 7/200\n",
      "1248/1250 [============================>.] - ETA: 0s - loss: 0.0020 - mse: 0.0018 - NMSE: 0.0161 - encoder_attention_module_0_lambda: -0.2829 - encoder_attention_module_1_lambda: 0.1276 - encoder_attention_module_2_lambda: -0.1469 - decoder_attention_module_0_lambda: -0.2453 - decoder_attention_module_1_lambda: -0.3011 - decoder_attention_module_2_lambda: 0.3777 - tot_time: 1h 7m 33.8s\n",
      "\n",
      "Epoch 7: val_NMSE did not improve from 0.01512\n",
      " - saving loss histories at /home/rkaushik/Documents/Thesis/MLROM/Kolmogorov/saved_ae/ae_017/checkpoints/LossHistoriesCheckpoint\n",
      "1250/1250 [==============================] - 32s 25ms/step - loss: 0.0020 - mse: 0.0018 - NMSE: 0.0161 - encoder_attention_module_0_lambda: -0.2829 - encoder_attention_module_1_lambda: 0.1276 - encoder_attention_module_2_lambda: -0.1469 - decoder_attention_module_0_lambda: -0.2453 - decoder_attention_module_1_lambda: -0.3011 - decoder_attention_module_2_lambda: 0.3777 - val_loss: 0.0019 - val_mse: 0.0017 - val_NMSE: 0.0151\n",
      "Epoch 8/200\n",
      "1249/1250 [============================>.] - ETA: 0s - loss: 0.0020 - mse: 0.0018 - NMSE: 0.0161 - encoder_attention_module_0_lambda: -0.2828 - encoder_attention_module_1_lambda: 0.1275 - encoder_attention_module_2_lambda: -0.1470 - decoder_attention_module_0_lambda: -0.2454 - decoder_attention_module_1_lambda: -0.3011 - decoder_attention_module_2_lambda: 0.3778 - tot_time: 1h 8m 4.7s\n",
      "\n",
      "Epoch 8: val_NMSE did not improve from 0.01512\n",
      " - saving loss histories at /home/rkaushik/Documents/Thesis/MLROM/Kolmogorov/saved_ae/ae_017/checkpoints/LossHistoriesCheckpoint\n",
      "1250/1250 [==============================] - 31s 25ms/step - loss: 0.0020 - mse: 0.0018 - NMSE: 0.0161 - encoder_attention_module_0_lambda: -0.2828 - encoder_attention_module_1_lambda: 0.1275 - encoder_attention_module_2_lambda: -0.1470 - decoder_attention_module_0_lambda: -0.2454 - decoder_attention_module_1_lambda: -0.3011 - decoder_attention_module_2_lambda: 0.3778 - val_loss: 0.0019 - val_mse: 0.0017 - val_NMSE: 0.0152\n",
      "Epoch 9/200\n",
      "1248/1250 [============================>.] - ETA: 0s - loss: 0.0020 - mse: 0.0018 - NMSE: 0.0160 - encoder_attention_module_0_lambda: -0.2829 - encoder_attention_module_1_lambda: 0.1275 - encoder_attention_module_2_lambda: -0.1470 - decoder_attention_module_0_lambda: -0.2453 - decoder_attention_module_1_lambda: -0.3011 - decoder_attention_module_2_lambda: 0.3778 - tot_time: 1h 8m 36.6s\n",
      "\n",
      "Epoch 9: val_NMSE did not improve from 0.01512\n",
      " - saving loss histories at /home/rkaushik/Documents/Thesis/MLROM/Kolmogorov/saved_ae/ae_017/checkpoints/LossHistoriesCheckpoint\n",
      "1250/1250 [==============================] - 32s 26ms/step - loss: 0.0020 - mse: 0.0018 - NMSE: 0.0160 - encoder_attention_module_0_lambda: -0.2829 - encoder_attention_module_1_lambda: 0.1275 - encoder_attention_module_2_lambda: -0.1470 - decoder_attention_module_0_lambda: -0.2453 - decoder_attention_module_1_lambda: -0.3011 - decoder_attention_module_2_lambda: 0.3778 - val_loss: 0.0019 - val_mse: 0.0017 - val_NMSE: 0.0152\n",
      "Epoch 10/200\n",
      "1249/1250 [============================>.] - ETA: 0s - loss: 0.0020 - mse: 0.0018 - NMSE: 0.0161 - encoder_attention_module_0_lambda: -0.2829 - encoder_attention_module_1_lambda: 0.1276 - encoder_attention_module_2_lambda: -0.1470 - decoder_attention_module_0_lambda: -0.2454 - decoder_attention_module_1_lambda: -0.3013 - decoder_attention_module_2_lambda: 0.3779 - tot_time: 1h 9m 8.5s\n",
      "\n",
      "Epoch 10: val_NMSE did not improve from 0.01512\n",
      " - saving loss histories at /home/rkaushik/Documents/Thesis/MLROM/Kolmogorov/saved_ae/ae_017/checkpoints/LossHistoriesCheckpoint\n",
      "1250/1250 [==============================] - 32s 26ms/step - loss: 0.0020 - mse: 0.0018 - NMSE: 0.0161 - encoder_attention_module_0_lambda: -0.2829 - encoder_attention_module_1_lambda: 0.1276 - encoder_attention_module_2_lambda: -0.1470 - decoder_attention_module_0_lambda: -0.2454 - decoder_attention_module_1_lambda: -0.3013 - decoder_attention_module_2_lambda: 0.3779 - val_loss: 0.0019 - val_mse: 0.0017 - val_NMSE: 0.0152\n",
      "Epoch 11/200\n",
      "1249/1250 [============================>.] - ETA: 0s - loss: 0.0020 - mse: 0.0018 - NMSE: 0.0161 - encoder_attention_module_0_lambda: -0.2829 - encoder_attention_module_1_lambda: 0.1275 - encoder_attention_module_2_lambda: -0.1470 - decoder_attention_module_0_lambda: -0.2454 - decoder_attention_module_1_lambda: -0.3014 - decoder_attention_module_2_lambda: 0.3780 - tot_time: 1h 9m 40.3s\n",
      "\n",
      "Epoch 11: val_NMSE improved from 0.01512 to 0.01508, saving model to /home/rkaushik/Documents/Thesis/MLROM/Kolmogorov/saved_ae/ae_017/checkpoints/checkpoint\n",
      " - saving loss histories at /home/rkaushik/Documents/Thesis/MLROM/Kolmogorov/saved_ae/ae_017/checkpoints/LossHistoriesCheckpoint\n",
      "1250/1250 [==============================] - 32s 26ms/step - loss: 0.0020 - mse: 0.0018 - NMSE: 0.0161 - encoder_attention_module_0_lambda: -0.2829 - encoder_attention_module_1_lambda: 0.1275 - encoder_attention_module_2_lambda: -0.1470 - decoder_attention_module_0_lambda: -0.2454 - decoder_attention_module_1_lambda: -0.3014 - decoder_attention_module_2_lambda: 0.3780 - val_loss: 0.0018 - val_mse: 0.0017 - val_NMSE: 0.0151\n",
      "Epoch 12/200\n",
      "1248/1250 [============================>.] - ETA: 0s - loss: 0.0020 - mse: 0.0018 - NMSE: 0.0161 - encoder_attention_module_0_lambda: -0.2828 - encoder_attention_module_1_lambda: 0.1277 - encoder_attention_module_2_lambda: -0.1471 - decoder_attention_module_0_lambda: -0.2454 - decoder_attention_module_1_lambda: -0.3014 - decoder_attention_module_2_lambda: 0.3780 - tot_time: 1h 10m 12.4s\n",
      "\n",
      "Epoch 12: val_NMSE did not improve from 0.01508\n",
      " - saving loss histories at /home/rkaushik/Documents/Thesis/MLROM/Kolmogorov/saved_ae/ae_017/checkpoints/LossHistoriesCheckpoint\n",
      "1250/1250 [==============================] - 32s 26ms/step - loss: 0.0020 - mse: 0.0018 - NMSE: 0.0161 - encoder_attention_module_0_lambda: -0.2828 - encoder_attention_module_1_lambda: 0.1277 - encoder_attention_module_2_lambda: -0.1471 - decoder_attention_module_0_lambda: -0.2454 - decoder_attention_module_1_lambda: -0.3014 - decoder_attention_module_2_lambda: 0.3780 - val_loss: 0.0019 - val_mse: 0.0017 - val_NMSE: 0.0151\n",
      "Epoch 13/200\n",
      "1249/1250 [============================>.] - ETA: 0s - loss: 0.0020 - mse: 0.0018 - NMSE: 0.0161 - encoder_attention_module_0_lambda: -0.2830 - encoder_attention_module_1_lambda: 0.1277 - encoder_attention_module_2_lambda: -0.1471 - decoder_attention_module_0_lambda: -0.2455 - decoder_attention_module_1_lambda: -0.3015 - decoder_attention_module_2_lambda: 0.3780 - tot_time: 1h 10m 44.0s\n",
      "\n",
      "Epoch 13: val_NMSE did not improve from 0.01508\n",
      " - saving loss histories at /home/rkaushik/Documents/Thesis/MLROM/Kolmogorov/saved_ae/ae_017/checkpoints/LossHistoriesCheckpoint\n",
      "1250/1250 [==============================] - 32s 25ms/step - loss: 0.0020 - mse: 0.0018 - NMSE: 0.0161 - encoder_attention_module_0_lambda: -0.2830 - encoder_attention_module_1_lambda: 0.1277 - encoder_attention_module_2_lambda: -0.1471 - decoder_attention_module_0_lambda: -0.2455 - decoder_attention_module_1_lambda: -0.3015 - decoder_attention_module_2_lambda: 0.3780 - val_loss: 0.0018 - val_mse: 0.0017 - val_NMSE: 0.0151\n"
     ]
    },
    {
     "name": "stdout",
     "output_type": "stream",
     "text": [
      "Epoch 14/200\n",
      "1248/1250 [============================>.] - ETA: 0s - loss: 0.0020 - mse: 0.0018 - NMSE: 0.0162 - encoder_attention_module_0_lambda: -0.2830 - encoder_attention_module_1_lambda: 0.1279 - encoder_attention_module_2_lambda: -0.1471 - decoder_attention_module_0_lambda: -0.2455 - decoder_attention_module_1_lambda: -0.3016 - decoder_attention_module_2_lambda: 0.3781 - tot_time: 1h 11m 15.3s\n",
      "\n",
      "Epoch 14: val_NMSE did not improve from 0.01508\n",
      " - saving loss histories at /home/rkaushik/Documents/Thesis/MLROM/Kolmogorov/saved_ae/ae_017/checkpoints/LossHistoriesCheckpoint\n",
      "1250/1250 [==============================] - 31s 25ms/step - loss: 0.0020 - mse: 0.0018 - NMSE: 0.0162 - encoder_attention_module_0_lambda: -0.2830 - encoder_attention_module_1_lambda: 0.1279 - encoder_attention_module_2_lambda: -0.1471 - decoder_attention_module_0_lambda: -0.2455 - decoder_attention_module_1_lambda: -0.3016 - decoder_attention_module_2_lambda: 0.3781 - val_loss: 0.0019 - val_mse: 0.0017 - val_NMSE: 0.0152\n",
      "Epoch 15/200\n",
      "1249/1250 [============================>.] - ETA: 0s - loss: 0.0020 - mse: 0.0018 - NMSE: 0.0161 - encoder_attention_module_0_lambda: -0.2830 - encoder_attention_module_1_lambda: 0.1281 - encoder_attention_module_2_lambda: -0.1472 - decoder_attention_module_0_lambda: -0.2454 - decoder_attention_module_1_lambda: -0.3017 - decoder_attention_module_2_lambda: 0.3782 - tot_time: 1h 11m 45.8s\n",
      "\n",
      "Epoch 15: val_NMSE did not improve from 0.01508\n",
      " - saving loss histories at /home/rkaushik/Documents/Thesis/MLROM/Kolmogorov/saved_ae/ae_017/checkpoints/LossHistoriesCheckpoint\n",
      "1250/1250 [==============================] - 30s 24ms/step - loss: 0.0020 - mse: 0.0018 - NMSE: 0.0161 - encoder_attention_module_0_lambda: -0.2830 - encoder_attention_module_1_lambda: 0.1281 - encoder_attention_module_2_lambda: -0.1472 - decoder_attention_module_0_lambda: -0.2454 - decoder_attention_module_1_lambda: -0.3017 - decoder_attention_module_2_lambda: 0.3782 - val_loss: 0.0019 - val_mse: 0.0017 - val_NMSE: 0.0152\n",
      "Epoch 16/200\n",
      "1249/1250 [============================>.] - ETA: 0s - loss: 0.0020 - mse: 0.0018 - NMSE: 0.0161 - encoder_attention_module_0_lambda: -0.2831 - encoder_attention_module_1_lambda: 0.1281 - encoder_attention_module_2_lambda: -0.1472 - decoder_attention_module_0_lambda: -0.2455 - decoder_attention_module_1_lambda: -0.3017 - decoder_attention_module_2_lambda: 0.3782 - tot_time: 1h 12m 15.6s\n",
      "\n",
      "Epoch 16: val_NMSE did not improve from 0.01508\n",
      " - saving loss histories at /home/rkaushik/Documents/Thesis/MLROM/Kolmogorov/saved_ae/ae_017/checkpoints/LossHistoriesCheckpoint\n",
      "1250/1250 [==============================] - 30s 24ms/step - loss: 0.0020 - mse: 0.0018 - NMSE: 0.0161 - encoder_attention_module_0_lambda: -0.2831 - encoder_attention_module_1_lambda: 0.1281 - encoder_attention_module_2_lambda: -0.1472 - decoder_attention_module_0_lambda: -0.2455 - decoder_attention_module_1_lambda: -0.3017 - decoder_attention_module_2_lambda: 0.3782 - val_loss: 0.0019 - val_mse: 0.0017 - val_NMSE: 0.0151\n",
      "Epoch 17/200\n",
      "1250/1250 [==============================] - ETA: 0s - loss: 0.0020 - mse: 0.0018 - NMSE: 0.0161 - encoder_attention_module_0_lambda: -0.2830 - encoder_attention_module_1_lambda: 0.1280 - encoder_attention_module_2_lambda: -0.1472 - decoder_attention_module_0_lambda: -0.2455 - decoder_attention_module_1_lambda: -0.3018 - decoder_attention_module_2_lambda: 0.3784 - tot_time: 1h 12m 47.2s\n",
      "\n",
      "Epoch 17: val_NMSE did not improve from 0.01508\n",
      " - saving loss histories at /home/rkaushik/Documents/Thesis/MLROM/Kolmogorov/saved_ae/ae_017/checkpoints/LossHistoriesCheckpoint\n",
      "1250/1250 [==============================] - 32s 25ms/step - loss: 0.0020 - mse: 0.0018 - NMSE: 0.0161 - encoder_attention_module_0_lambda: -0.2830 - encoder_attention_module_1_lambda: 0.1280 - encoder_attention_module_2_lambda: -0.1472 - decoder_attention_module_0_lambda: -0.2455 - decoder_attention_module_1_lambda: -0.3018 - decoder_attention_module_2_lambda: 0.3784 - val_loss: 0.0019 - val_mse: 0.0017 - val_NMSE: 0.0152\n",
      "Epoch 18/200\n",
      "1250/1250 [==============================] - ETA: 0s - loss: 0.0020 - mse: 0.0018 - NMSE: 0.0161 - encoder_attention_module_0_lambda: -0.2830 - encoder_attention_module_1_lambda: 0.1280 - encoder_attention_module_2_lambda: -0.1472 - decoder_attention_module_0_lambda: -0.2455 - decoder_attention_module_1_lambda: -0.3020 - decoder_attention_module_2_lambda: 0.3784 - tot_time: 1h 13m 16.9s\n",
      "\n",
      "Epoch 18: val_NMSE did not improve from 0.01508\n",
      " - saving loss histories at /home/rkaushik/Documents/Thesis/MLROM/Kolmogorov/saved_ae/ae_017/checkpoints/LossHistoriesCheckpoint\n",
      "1250/1250 [==============================] - 30s 24ms/step - loss: 0.0020 - mse: 0.0018 - NMSE: 0.0161 - encoder_attention_module_0_lambda: -0.2830 - encoder_attention_module_1_lambda: 0.1280 - encoder_attention_module_2_lambda: -0.1472 - decoder_attention_module_0_lambda: -0.2455 - decoder_attention_module_1_lambda: -0.3020 - decoder_attention_module_2_lambda: 0.3784 - val_loss: 0.0019 - val_mse: 0.0017 - val_NMSE: 0.0152\n",
      "Epoch 19/200\n",
      "1248/1250 [============================>.] - ETA: 0s - loss: 0.0020 - mse: 0.0018 - NMSE: 0.0161 - encoder_attention_module_0_lambda: -0.2830 - encoder_attention_module_1_lambda: 0.1279 - encoder_attention_module_2_lambda: -0.1474 - decoder_attention_module_0_lambda: -0.2455 - decoder_attention_module_1_lambda: -0.3020 - decoder_attention_module_2_lambda: 0.3784 - tot_time: 1h 13m 49.8s\n",
      "\n",
      "Epoch 19: val_NMSE did not improve from 0.01508\n",
      " - saving loss histories at /home/rkaushik/Documents/Thesis/MLROM/Kolmogorov/saved_ae/ae_017/checkpoints/LossHistoriesCheckpoint\n",
      "1250/1250 [==============================] - 33s 26ms/step - loss: 0.0020 - mse: 0.0018 - NMSE: 0.0161 - encoder_attention_module_0_lambda: -0.2830 - encoder_attention_module_1_lambda: 0.1279 - encoder_attention_module_2_lambda: -0.1474 - decoder_attention_module_0_lambda: -0.2455 - decoder_attention_module_1_lambda: -0.3020 - decoder_attention_module_2_lambda: 0.3784 - val_loss: 0.0019 - val_mse: 0.0017 - val_NMSE: 0.0151\n",
      "Epoch 20/200\n",
      "1249/1250 [============================>.] - ETA: 0s - loss: 0.0020 - mse: 0.0018 - NMSE: 0.0161 - encoder_attention_module_0_lambda: -0.2830 - encoder_attention_module_1_lambda: 0.1281 - encoder_attention_module_2_lambda: -0.1474 - decoder_attention_module_0_lambda: -0.2456 - decoder_attention_module_1_lambda: -0.3019 - decoder_attention_module_2_lambda: 0.3785 - tot_time: 1h 14m 22.9s\n",
      "\n",
      "Epoch 20: val_NMSE did not improve from 0.01508\n",
      " - saving loss histories at /home/rkaushik/Documents/Thesis/MLROM/Kolmogorov/saved_ae/ae_017/checkpoints/LossHistoriesCheckpoint\n",
      "1250/1250 [==============================] - 33s 26ms/step - loss: 0.0020 - mse: 0.0018 - NMSE: 0.0161 - encoder_attention_module_0_lambda: -0.2830 - encoder_attention_module_1_lambda: 0.1281 - encoder_attention_module_2_lambda: -0.1474 - decoder_attention_module_0_lambda: -0.2456 - decoder_attention_module_1_lambda: -0.3019 - decoder_attention_module_2_lambda: 0.3785 - val_loss: 0.0018 - val_mse: 0.0017 - val_NMSE: 0.0151\n",
      "Epoch 21/200\n",
      "1250/1250 [==============================] - ETA: 0s - loss: 0.0020 - mse: 0.0018 - NMSE: 0.0161 - encoder_attention_module_0_lambda: -0.2829 - encoder_attention_module_1_lambda: 0.1281 - encoder_attention_module_2_lambda: -0.1474 - decoder_attention_module_0_lambda: -0.2456 - decoder_attention_module_1_lambda: -0.3020 - decoder_attention_module_2_lambda: 0.3785Restoring model weights from the end of the best epoch: 11.\n",
      " - tot_time: 1h 14m 56.2s\n",
      "\n",
      "Epoch 21: val_NMSE did not improve from 0.01508\n",
      " - saving loss histories at /home/rkaushik/Documents/Thesis/MLROM/Kolmogorov/saved_ae/ae_017/checkpoints/LossHistoriesCheckpoint\n",
      "1250/1250 [==============================] - 33s 27ms/step - loss: 0.0020 - mse: 0.0018 - NMSE: 0.0161 - encoder_attention_module_0_lambda: -0.2829 - encoder_attention_module_1_lambda: 0.1281 - encoder_attention_module_2_lambda: -0.1474 - decoder_attention_module_0_lambda: -0.2456 - decoder_attention_module_1_lambda: -0.3020 - decoder_attention_module_2_lambda: 0.3785 - val_loss: 0.0019 - val_mse: 0.0017 - val_NMSE: 0.0152\n",
      "Epoch 21: early stopping\n"
     ]
    }
   ],
   "source": [
    "# compiling the network\n",
    "ae_net.compile(\n",
    "    optimizer=tf.keras.optimizers.Adam(learning_rate=learning_rate_list[0]),\n",
    "    loss=losses.MeanSquaredError(),\n",
    "#     loss=losses.BinaryCrossentropy(from_logits=False),\n",
    "    run_eagerly=False,\n",
    "    metrics=['mse', NMSE_metric]\n",
    ")\n",
    "\n",
    "if behaviour == 'loadCheckpointAndContinueTraining':\n",
    "    # this loads the weights/attributes of the optimizer as well\n",
    "    if strategy is not None:\n",
    "        with strategy.scope():\n",
    "            ae_net.load_weights(wt_file)\n",
    "    else:\n",
    "        ae_net.load_weights(wt_file)\n",
    "\n",
    "if behaviour == 'initialiseAndTrainFromScratch' or behaviour == 'loadCheckpointAndContinueTraining':\n",
    "    # implementing early stopping\n",
    "    early_stopping_cb = tf.keras.callbacks.EarlyStopping(\n",
    "        monitor='val_NMSE',\n",
    "        patience=patience,\n",
    "        restore_best_weights=True,\n",
    "        verbose=True,\n",
    "        min_delta=min_delta\n",
    "    )\n",
    "\n",
    "    # time callback for each epoch\n",
    "    timekeeper_cb = mytimecallback()\n",
    "\n",
    "    # model checkpoint callback\n",
    "    dir_name_ckpt = dir_name_ae+dir_sep+'checkpoints'\n",
    "    if not os.path.isdir(dir_name_ckpt):\n",
    "        os.makedirs(dir_name_ckpt)\n",
    "    checkpoint_cb = tf.keras.callbacks.ModelCheckpoint(\n",
    "        filepath=dir_name_ckpt+dir_sep+'checkpoint',#+'/checkpoint--loss={loss:.4f}--vall_loss={val_loss:.4f}',\n",
    "        monitor='val_NMSE',\n",
    "        save_best_only=True,\n",
    "        save_weights_only=True,\n",
    "        verbose=2,\n",
    "        period=1  # saves every 5 epochs\n",
    "    )\n",
    "\n",
    "    # save losses callback\n",
    "    savelosses_cb = SaveLosses(\n",
    "        filepath=dir_name_ckpt+dir_sep+'LossHistoriesCheckpoint',\n",
    "        val_loss_arr=savelosses_cb_vallossarr,\n",
    "        train_loss_arr=savelosses_cb_trainlossarr,\n",
    "        total_epochs=epochs,\n",
    "        period=1)\n",
    "\n",
    "    # training the network\n",
    "    for i in range(starting_lr_idx, len(learning_rate_list)):\n",
    "        learning_rate = learning_rate_list[i]\n",
    "        K.set_value(ae_net.optimizer.lr, learning_rate)\n",
    "\n",
    "        savelosses_cb.update_lr_idx(i)\n",
    "\n",
    "        if i == starting_lr_idx:\n",
    "            EPOCHS = num_epochs_left\n",
    "            savelosses_cb.update_offset(epochs-num_epochs_left)\n",
    "        else:\n",
    "            EPOCHS = epochs\n",
    "            savelosses_cb.update_offset(0)\n",
    "\n",
    "        total_s_len = 80\n",
    "        sep_lr_s = ' LEARNING RATE : {} '.format(learning_rate)\n",
    "        sep_lr_s = int((total_s_len - len(sep_lr_s))//2)*'-' + sep_lr_s\n",
    "        sep_lr_s = sep_lr_s + (total_s_len-len(sep_lr_s))*'-'\n",
    "        print('\\n\\n' + '-'*len(sep_lr_s))\n",
    "        print('\\n' + sep_lr_s+'\\n')\n",
    "        print('-'*len(sep_lr_s) + '\\n\\n')\n",
    "        \n",
    "        history = ae_net.fit(training_data, training_data,\n",
    "            epochs=EPOCHS,\n",
    "            batch_size=batch_size,\n",
    "#             validation_split=val_split/train_split,\n",
    "            validation_data=(val_data, val_data),\n",
    "            callbacks=[early_stopping_cb, timekeeper_cb, checkpoint_cb, savelosses_cb],\n",
    "            verbose=1\n",
    "        )\n",
    "\n",
    "        val_loss_hist.extend(history.history['val_loss'])\n",
    "        train_loss_hist.extend(history.history['loss'])\n",
    "        \n",
    "        val_MSE_hist.extend(history.history['val_mse'])\n",
    "        train_MSE_hist.extend(history.history['mse'])\n",
    "        \n",
    "        val_NMSE_hist.extend(history.history['val_NMSE'])\n",
    "        train_NMSE_hist.extend(history.history['NMSE'])\n",
    "        \n",
    "        if use_attention_module == True:\n",
    "            for j in range(len(ae_net.encoder_attention_modules_list)):\n",
    "                key = 'encoder_attention_module_{}_lambda'.format(j)\n",
    "                lst1 = history.history[key]\n",
    "                lst2 = encoder_attention_lambdas[key]\n",
    "                lst2.extend(lst1)\n",
    "                encoder_attention_lambdas[key] = lst2\n",
    "            for j in range(len(ae_net.decoder_attention_modules_list)):\n",
    "                key = 'decoder_attention_module_{}_lambda'.format(j)\n",
    "                lst1 = history.history[key]\n",
    "                lst2 = decoder_attention_lambdas[key]\n",
    "                lst2.extend(lst1)\n",
    "                decoder_attention_lambdas[key] = lst2\n",
    "        \n",
    "        if i == starting_lr_idx:\n",
    "            lr_change[i+1] += len(history.history['val_loss'])\n",
    "        else:\n",
    "            lr_change.append(lr_change[i]+len(history.history['val_loss']))"
   ]
  },
  {
   "cell_type": "code",
   "execution_count": 26,
   "metadata": {},
   "outputs": [
    {
     "name": "stdout",
     "output_type": "stream",
     "text": [
      "Model: \"model\"\n",
      "_________________________________________________________________\n",
      " Layer (type)                Output Shape              Param #   \n",
      "=================================================================\n",
      " input_1 (InputLayer)        [(None, 2, 50, 50)]       0         \n",
      "                                                                 \n",
      " gaussian_noise (GaussianNoi  (None, 2, 50, 50)        0         \n",
      " se)                                                             \n",
      "                                                                 \n",
      " periodic_padding (periodic_  (None, 2, 54, 54)        5400      \n",
      " padding)                                                        \n",
      "                                                                 \n",
      " conv2d (Conv2D)             (None, 8, 25, 25)         400       \n",
      "                                                                 \n",
      " batch_normalization (BatchN  (None, 8, 25, 25)        32        \n",
      " ormalization)                                                   \n",
      "                                                                 \n",
      " activation (Activation)     (None, 8, 25, 25)         0         \n",
      "                                                                 \n",
      " periodic_padding_1 (periodi  (None, 8, 29, 29)        1450      \n",
      " c_padding)                                                      \n",
      "                                                                 \n",
      " conv2d_1 (Conv2D)           (None, 16, 13, 13)        3200      \n",
      "                                                                 \n",
      " batch_normalization_1 (Batc  (None, 16, 13, 13)       64        \n",
      " hNormalization)                                                 \n",
      "                                                                 \n",
      " activation_1 (Activation)   (None, 16, 13, 13)        0         \n",
      "                                                                 \n",
      " attention_module (attention  (None, 16, 13, 13)       1025      \n",
      " _module)                                                        \n",
      "                                                                 \n",
      " periodic_padding_2 (periodi  (None, 16, 17, 17)       442       \n",
      " c_padding)                                                      \n",
      "                                                                 \n",
      " conv2d_2 (Conv2D)           (None, 32, 7, 7)          12800     \n",
      "                                                                 \n",
      " batch_normalization_2 (Batc  (None, 32, 7, 7)         128       \n",
      " hNormalization)                                                 \n",
      "                                                                 \n",
      " activation_2 (Activation)   (None, 32, 7, 7)          0         \n",
      "                                                                 \n",
      " attention_module_1 (attenti  (None, 32, 7, 7)         4097      \n",
      " on_module)                                                      \n",
      "                                                                 \n",
      " periodic_padding_3 (periodi  (None, 32, 11, 11)       154       \n",
      " c_padding)                                                      \n",
      "                                                                 \n",
      " conv2d_3 (Conv2D)           (None, 16, 4, 4)          12800     \n",
      "                                                                 \n",
      " batch_normalization_3 (Batc  (None, 16, 4, 4)         64        \n",
      " hNormalization)                                                 \n",
      "                                                                 \n",
      " activation_3 (Activation)   (None, 16, 4, 4)          0         \n",
      "                                                                 \n",
      " attention_module_2 (attenti  (None, 16, 4, 4)         1025      \n",
      " on_module)                                                      \n",
      "                                                                 \n",
      " periodic_padding_4 (periodi  (None, 16, 8, 8)         64        \n",
      " c_padding)                                                      \n",
      "                                                                 \n",
      " conv2d_4 (Conv2D)           (None, 6, 4, 4)           2400      \n",
      "                                                                 \n",
      " batch_normalization_4 (Batc  (None, 6, 4, 4)          24        \n",
      " hNormalization)                                                 \n",
      "                                                                 \n",
      " activation_4 (Activation)   (None, 6, 4, 4)           0         \n",
      "                                                                 \n",
      " periodic_padding_5 (periodi  (None, 6, 8, 8)          64        \n",
      " c_padding)                                                      \n",
      "                                                                 \n",
      " conv2d_5 (Conv2D)           (None, 2, 4, 4)           300       \n",
      "                                                                 \n",
      " batch_normalization_5 (Batc  (None, 2, 4, 4)          8         \n",
      " hNormalization)                                                 \n",
      "                                                                 \n",
      " activation_5 (Activation)   (None, 2, 4, 4)           0         \n",
      "                                                                 \n",
      "=================================================================\n",
      "Total params: 45,941\n",
      "Trainable params: 38,207\n",
      "Non-trainable params: 7,734\n",
      "_________________________________________________________________\n"
     ]
    }
   ],
   "source": [
    "ae_net.encoder_net.summary()"
   ]
  },
  {
   "cell_type": "code",
   "execution_count": null,
   "metadata": {},
   "outputs": [],
   "source": []
  },
  {
   "cell_type": "code",
   "execution_count": null,
   "metadata": {},
   "outputs": [],
   "source": []
  },
  {
   "cell_type": "code",
   "execution_count": null,
   "metadata": {},
   "outputs": [],
   "source": []
  },
  {
   "cell_type": "code",
   "execution_count": 27,
   "metadata": {},
   "outputs": [
    {
     "name": "stdout",
     "output_type": "stream",
     "text": [
      "Model: \"model_1\"\n",
      "_________________________________________________________________\n",
      " Layer (type)                Output Shape              Param #   \n",
      "=================================================================\n",
      " input_2 (InputLayer)        [(None, 2, 4, 4)]         0         \n",
      "                                                                 \n",
      " periodic_padding_6 (periodi  (None, 2, 8, 8)          64        \n",
      " c_padding)                                                      \n",
      "                                                                 \n",
      " conv2d_transpose (Conv2DTra  (None, 6, 12, 12)        300       \n",
      " nspose)                                                         \n",
      "                                                                 \n",
      " cropping2d (Cropping2D)     (None, 6, 4, 4)           0         \n",
      "                                                                 \n",
      " batch_normalization_6 (Batc  (None, 6, 4, 4)          24        \n",
      " hNormalization)                                                 \n",
      "                                                                 \n",
      " activation_6 (Activation)   (None, 6, 4, 4)           0         \n",
      "                                                                 \n",
      " periodic_padding_7 (periodi  (None, 6, 8, 8)          64        \n",
      " c_padding)                                                      \n",
      "                                                                 \n",
      " conv2d_transpose_1 (Conv2DT  (None, 16, 12, 12)       2400      \n",
      " ranspose)                                                       \n",
      "                                                                 \n",
      " cropping2d_1 (Cropping2D)   (None, 16, 4, 4)          0         \n",
      "                                                                 \n",
      " batch_normalization_7 (Batc  (None, 16, 4, 4)         64        \n",
      " hNormalization)                                                 \n",
      "                                                                 \n",
      " activation_7 (Activation)   (None, 16, 4, 4)          0         \n",
      "                                                                 \n",
      " attention_module_3 (attenti  (None, 16, 4, 4)         1025      \n",
      " on_module)                                                      \n",
      "                                                                 \n",
      " periodic_padding_8 (periodi  (None, 16, 8, 8)         64        \n",
      " c_padding)                                                      \n",
      "                                                                 \n",
      " conv2d_transpose_2 (Conv2DT  (None, 32, 19, 19)       12800     \n",
      " ranspose)                                                       \n",
      "                                                                 \n",
      " cropping2d_2 (Cropping2D)   (None, 32, 7, 7)          0         \n",
      "                                                                 \n",
      " batch_normalization_8 (Batc  (None, 32, 7, 7)         128       \n",
      " hNormalization)                                                 \n",
      "                                                                 \n",
      " activation_8 (Activation)   (None, 32, 7, 7)          0         \n",
      "                                                                 \n",
      " attention_module_4 (attenti  (None, 32, 7, 7)         4097      \n",
      " on_module)                                                      \n",
      "                                                                 \n",
      " periodic_padding_9 (periodi  (None, 32, 11, 11)       154       \n",
      " c_padding)                                                      \n",
      "                                                                 \n",
      " conv2d_transpose_3 (Conv2DT  (None, 16, 25, 25)       12800     \n",
      " ranspose)                                                       \n",
      "                                                                 \n",
      " cropping2d_3 (Cropping2D)   (None, 16, 13, 13)        0         \n",
      "                                                                 \n",
      " batch_normalization_9 (Batc  (None, 16, 13, 13)       64        \n",
      " hNormalization)                                                 \n",
      "                                                                 \n",
      " activation_9 (Activation)   (None, 16, 13, 13)        0         \n",
      "                                                                 \n",
      " attention_module_5 (attenti  (None, 16, 13, 13)       1025      \n",
      " on_module)                                                      \n",
      "                                                                 \n",
      " periodic_padding_10 (period  (None, 16, 17, 17)       442       \n",
      " ic_padding)                                                     \n",
      "                                                                 \n",
      " conv2d_transpose_4 (Conv2DT  (None, 8, 37, 37)        3200      \n",
      " ranspose)                                                       \n",
      "                                                                 \n",
      " cropping2d_4 (Cropping2D)   (None, 8, 25, 25)         0         \n",
      "                                                                 \n",
      " batch_normalization_10 (Bat  (None, 8, 25, 25)        32        \n",
      " chNormalization)                                                \n",
      "                                                                 \n",
      " activation_10 (Activation)  (None, 8, 25, 25)         0         \n",
      "                                                                 \n",
      " periodic_padding_11 (period  (None, 8, 29, 29)        1450      \n",
      " ic_padding)                                                     \n",
      "                                                                 \n",
      " conv2d_transpose_5 (Conv2DT  (None, 2, 61, 61)        400       \n",
      " ranspose)                                                       \n",
      "                                                                 \n",
      " cropping2d_5 (Cropping2D)   (None, 2, 50, 50)         0         \n",
      "                                                                 \n",
      " batch_normalization_11 (Bat  (None, 2, 50, 50)        8         \n",
      " chNormalization)                                                \n",
      "                                                                 \n",
      " activation_11 (Activation)  (None, 2, 50, 50)         0         \n",
      "                                                                 \n",
      "=================================================================\n",
      "Total params: 40,605\n",
      "Trainable params: 38,207\n",
      "Non-trainable params: 2,398\n",
      "_________________________________________________________________\n"
     ]
    }
   ],
   "source": [
    "ae_net.decoder_net.summary()"
   ]
  },
  {
   "cell_type": "code",
   "execution_count": 28,
   "metadata": {},
   "outputs": [
    {
     "name": "stdout",
     "output_type": "stream",
     "text": [
      "Model: \"model_2\"\n",
      "_________________________________________________________________\n",
      " Layer (type)                Output Shape              Param #   \n",
      "=================================================================\n",
      " input_3 (InputLayer)        [(None, 2, 50, 50)]       0         \n",
      "                                                                 \n",
      " model (Functional)          (None, 2, 4, 4)           45941     \n",
      "                                                                 \n",
      " model_1 (Functional)        (None, 2, 50, 50)         40605     \n",
      "                                                                 \n",
      "=================================================================\n",
      "Total params: 86,546\n",
      "Trainable params: 76,414\n",
      "Non-trainable params: 10,132\n",
      "_________________________________________________________________\n"
     ]
    }
   ],
   "source": [
    "ae_net.ae_net.summary()"
   ]
  },
  {
   "cell_type": "code",
   "execution_count": 29,
   "metadata": {
    "colab": {
     "base_uri": "https://localhost:8080/"
    },
    "executionInfo": {
     "elapsed": 9705,
     "status": "ok",
     "timestamp": 1666788875924,
     "user": {
      "displayName": "Rohan Kaushik",
      "userId": "13918477614376051685"
     },
     "user_tz": -120
    },
    "id": "d_Od0ul4P9bK",
    "outputId": "860e9f94-e593-4a74-fcff-6a6657d925de"
   },
   "outputs": [
    {
     "name": "stdout",
     "output_type": "stream",
     "text": [
      "79/79 [==============================] - 2s 21ms/step - loss: 0.0020 - mse: 0.0018 - NMSE: 0.0161\n"
     ]
    }
   ],
   "source": [
    "if behaviour == 'initialiseAndTrainFromScratch' or behaviour == 'loadCheckpointAndContinueTraining':\n",
    "    test_metrics = ae_net.evaluate(\n",
    "        testing_data, testing_data,\n",
    "    )\n",
    "#     train_metrics = ae_net.evaluate(training_data, training_data)\n",
    "#     val_metrics = ae_net.evaluate(val_data, val_data)\n",
    "\n",
    "    save_path = dir_name_ae+dir_sep+'final_net'\n",
    "\n",
    "    if not os.path.isdir(save_path):\n",
    "        os.makedirs(save_path)\n",
    "\n",
    "    save_dict = {\n",
    "        'val_loss_hist':val_loss_hist,\n",
    "        'train_loss_hist':train_loss_hist,\n",
    "        'val_MSE_hist':val_MSE_hist,\n",
    "        'train_MSE_hist':train_MSE_hist,\n",
    "        'val_NMSE_hist':val_NMSE_hist,\n",
    "        'train_NMSE_hist':train_NMSE_hist,\n",
    "        'lr_change':lr_change,\n",
    "        'test_loss':test_metrics[0],\n",
    "        'test_mse':test_metrics[1],\n",
    "#         'train_loss':train_metrics[0],\n",
    "#         'train_mse':train_metrics[1],\n",
    "#         'val_loss':val_metrics[0],\n",
    "#         'val_mse':val_metrics[1],\n",
    "    }\n",
    "    if use_attention_module == True:\n",
    "        for i in range(len(ae_net.encoder_attention_modules_list)):\n",
    "            key = 'encoder_attention_module_{}_lambda'.format(i)\n",
    "            save_dict[key] = encoder_attention_lambdas[key]\n",
    "        for i in range(len(ae_net.decoder_attention_modules_list)):\n",
    "            key = 'decoder_attention_module_{}_lambda'.format(i)\n",
    "            save_dict[key] = decoder_attention_lambdas[key]\n",
    "\n",
    "    with open(save_path+dir_sep+'losses.txt', 'w') as f:\n",
    "        f.write(str(save_dict))\n",
    "\n",
    "    np.savez(\n",
    "        save_path+dir_sep+'losses',\n",
    "        **save_dict\n",
    "    )\n",
    "        \n",
    "\n",
    "    ae_net.save_everything(\n",
    "        file_name=save_path+dir_sep+'final_net')"
   ]
  },
  {
   "cell_type": "code",
   "execution_count": 30,
   "metadata": {
    "colab": {
     "base_uri": "https://localhost:8080/"
    },
    "executionInfo": {
     "elapsed": 7,
     "status": "ok",
     "timestamp": 1666788875925,
     "user": {
      "displayName": "Rohan Kaushik",
      "userId": "13918477614376051685"
     },
     "user_tz": -120
    },
    "id": "Dy8GNcgMVD4T",
    "outputId": "e50e8738-9da1-43de-e551-43f47b64135e"
   },
   "outputs": [
    {
     "name": "stdout",
     "output_type": "stream",
     "text": [
      "lr_change :  [0, 62, 121, 142]\n"
     ]
    }
   ],
   "source": [
    "print('lr_change : ', lr_change)"
   ]
  },
  {
   "cell_type": "code",
   "execution_count": null,
   "metadata": {},
   "outputs": [],
   "source": []
  },
  {
   "cell_type": "code",
   "execution_count": 31,
   "metadata": {
    "colab": {
     "base_uri": "https://localhost:8080/",
     "height": 279
    },
    "executionInfo": {
     "elapsed": 765,
     "status": "ok",
     "timestamp": 1666788876686,
     "user": {
      "displayName": "Rohan Kaushik",
      "userId": "13918477614376051685"
     },
     "user_tz": -120
    },
    "id": "ewTz1COFSocM",
    "outputId": "15bc2be5-d571-433e-b5cd-9c722f38b48b",
    "scrolled": false
   },
   "outputs": [
    {
     "data": {
      "image/png": "[encoded data removed]",
      "text/plain": [
       "<Figure size 640x480 with 1 Axes>"
      ]
     },
     "metadata": {},
     "output_type": "display_data"
    },
    {
     "data": {
      "image/png": "[encoded data removed]",
      "text/plain": [
       "<Figure size 640x480 with 1 Axes>"
      ]
     },
     "metadata": {},
     "output_type": "display_data"
    },
    {
     "data": {
      "text/plain": [
       "<Figure size 640x480 with 0 Axes>"
      ]
     },
     "metadata": {},
     "output_type": "display_data"
    },
    {
     "data": {
      "image/png": "[encoded data removed]",
      "text/plain": [
       "<Figure size 640x480 with 1 Axes>"
      ]
     },
     "metadata": {},
     "output_type": "display_data"
    },
    {
     "data": {
      "text/plain": [
       "<Figure size 640x480 with 0 Axes>"
      ]
     },
     "metadata": {},
     "output_type": "display_data"
    }
   ],
   "source": [
    "# plotting losses\n",
    "dir_name_plot = dir_name_ae + '/plots'\n",
    "if not os.path.isdir(dir_name_plot):\n",
    "    os.makedirs(dir_name_plot)\n",
    "\n",
    "# Visualize loss history\n",
    "fig, ax = plot_losses(\n",
    "    training_loss=train_loss_hist,\n",
    "    val_loss=val_loss_hist,\n",
    "    lr_change=lr_change,\n",
    "    learning_rate_list=learning_rate_list\n",
    ")\n",
    "\n",
    "plt.savefig(dir_name_plot + '{ds}loss_history.png'.format(ds=dir_sep), dpi=300, bbox_inches='tight')\n",
    "plt.show()\n",
    "\n",
    "\n",
    "fig, ax = plot_losses(\n",
    "    training_loss=train_MSE_hist,\n",
    "    val_loss=val_MSE_hist,\n",
    "    lr_change=lr_change,\n",
    "    learning_rate_list=learning_rate_list,\n",
    "    legend_list=['Training MSE', 'Validation MSE'],\n",
    "    xlabel='Epoch',\n",
    "    ylabel='MSE',\n",
    ")\n",
    "plt.savefig(dir_name_plot+'/MSE_history.png', dpi=300, bbox_inches='tight')\n",
    "plt.show()\n",
    "plt.clf()\n",
    "\n",
    "\n",
    "fig, ax = plot_losses(\n",
    "    training_loss=train_NMSE_hist,\n",
    "    val_loss=val_NMSE_hist,\n",
    "    lr_change=lr_change,\n",
    "    learning_rate_list=learning_rate_list,\n",
    "    legend_list=['Training NMSE', 'Validation NMSE'],\n",
    "    xlabel='Epoch',\n",
    "    ylabel='NMSE',\n",
    ")\n",
    "plt.savefig(dir_name_plot+'/NMSE_history.png', dpi=300, bbox_inches='tight')\n",
    "plt.show()\n",
    "plt.clf()"
   ]
  },
  {
   "cell_type": "code",
   "execution_count": 32,
   "metadata": {
    "colab": {
     "base_uri": "https://localhost:8080/"
    },
    "executionInfo": {
     "elapsed": 881,
     "status": "ok",
     "timestamp": 1666788877562,
     "user": {
      "displayName": "Rohan Kaushik",
      "userId": "13918477614376051685"
     },
     "user_tz": -120
    },
    "id": "wwt4brHcOaXi",
    "outputId": "7ba39105-aa8e-49e8-dbfd-619069123fdd"
   },
   "outputs": [
    {
     "data": {
      "image/png": "[encoded data removed]",
      "text/plain": [
       "<Figure size 640x480 with 1 Axes>"
      ]
     },
     "metadata": {},
     "output_type": "display_data"
    },
    {
     "data": {
      "text/plain": [
       "<Figure size 640x480 with 0 Axes>"
      ]
     },
     "metadata": {},
     "output_type": "display_data"
    },
    {
     "data": {
      "image/png": "[encoded data removed]",
      "text/plain": [
       "<Figure size 640x480 with 1 Axes>"
      ]
     },
     "metadata": {},
     "output_type": "display_data"
    },
    {
     "data": {
      "text/plain": [
       "<Figure size 640x480 with 0 Axes>"
      ]
     },
     "metadata": {},
     "output_type": "display_data"
    }
   ],
   "source": [
    "if use_attention_module == True:\n",
    "    # plotting encoder attention lambdas\n",
    "    plot_lst = []\n",
    "    legend_lst = []\n",
    "    for i in range(len(ae_net.encoder_attention_modules_list)):\n",
    "        key = 'encoder_attention_module_{}_lambda'.format(i)\n",
    "        plot_lst.append(encoder_attention_lambdas[key])\n",
    "        legend_lst.append(\"attention module (encoder) {}\".format(i+1))\n",
    "    fig, ax = plot_losses(\n",
    "        training_loss=plot_lst[0],\n",
    "        val_loss=None,\n",
    "        more_plot_arrs_lst=plot_lst[1:] if len(plot_lst)>1 else [],\n",
    "        lr_change=lr_change,\n",
    "        learning_rate_list=learning_rate_list,\n",
    "        legend_list=legend_lst,\n",
    "        xlabel='Epoch',\n",
    "        ylabel=r\"$\\lambda_{attention}$\",\n",
    "        plot_type='plot',\n",
    "        traininglossplot_args=[],\n",
    "        traininglossplot_kwargs={},\n",
    "        epoch_count_begin=0,\n",
    "        epoch_count_end=len(plot_lst[0])-1,\n",
    "    )\n",
    "    plt.savefig(dir_name_plot+'/attention_lambdas_encoder.png', dpi=300, bbox_inches='tight')\n",
    "    plt.show()\n",
    "    plt.clf()\n",
    "    \n",
    "    # plotting decoder attention lambdas\n",
    "    plot_lst = []\n",
    "    legend_lst = []\n",
    "    for i in range(len(ae_net.decoder_attention_modules_list)):\n",
    "        key = 'decoder_attention_module_{}_lambda'.format(i)\n",
    "        plot_lst.append(decoder_attention_lambdas[key])\n",
    "        legend_lst.append(\"attention module (decoder) {}\".format(i+1))\n",
    "    fig, ax = plot_losses(\n",
    "        training_loss=plot_lst[0],\n",
    "        val_loss=None,\n",
    "        more_plot_arrs_lst=plot_lst[1:] if len(plot_lst)>1 else [],\n",
    "        lr_change=lr_change,\n",
    "        learning_rate_list=learning_rate_list,\n",
    "        legend_list=legend_lst,\n",
    "        xlabel='Epoch',\n",
    "        ylabel=r\"$\\lambda_{attention}$\",\n",
    "        plot_type='plot',\n",
    "        traininglossplot_args=[],\n",
    "        traininglossplot_kwargs={},\n",
    "        epoch_count_begin=0,\n",
    "        epoch_count_end=len(plot_lst[0])-1,\n",
    "    )\n",
    "    plt.savefig(dir_name_plot+'/attention_lambdas_decoder.png', dpi=300, bbox_inches='tight')\n",
    "    plt.show()\n",
    "    plt.clf()"
   ]
  },
  {
   "cell_type": "markdown",
   "metadata": {
    "colab": {
     "base_uri": "https://localhost:8080/",
     "height": 1000,
     "output_embedded_package_id": "1kzRwBdNfA2o28NxHkc2fku7QnFPAI8Bo"
    },
    "executionInfo": {
     "elapsed": 4835,
     "status": "ok",
     "timestamp": 1666788882395,
     "user": {
      "displayName": "Rohan Kaushik",
      "userId": "13918477614376051685"
     },
     "user_tz": -120
    },
    "id": "_6rNhThyQrKc",
    "outputId": "fdeeb3f5-009a-404e-8856-b7655d596a88"
   },
   "source": [
    "# POD Comparison"
   ]
  },
  {
   "cell_type": "code",
   "execution_count": 33,
   "metadata": {
    "executionInfo": {
     "elapsed": 17515,
     "status": "ok",
     "timestamp": 1666788899903,
     "user": {
      "displayName": "Rohan Kaushik",
      "userId": "13918477614376051685"
     },
     "user_tz": -120
    },
    "id": "cAiMV0iU0EpK"
   },
   "outputs": [],
   "source": [
    "# pod_training_data = np.empty(shape=(training_data.shape[0], training_data.shape[1]*training_data.shape[2]*training_data.shape[3]))\n",
    "# pod_training_data[:, :] = np.reshape(training_data, (training_data.shape[0], training_data.shape[1]*training_data.shape[2]*training_data.shape[3]))\n",
    "\n",
    "# pod_centering_means = np.mean(pod_training_data, axis=0)\n",
    "# pod_mean_centered_data = pod_training_data - pod_centering_means"
   ]
  },
  {
   "cell_type": "code",
   "execution_count": 34,
   "metadata": {
    "scrolled": true
   },
   "outputs": [],
   "source": [
    "# C = np.transpose(pod_mean_centered_data) @ pod_mean_centered_data\n",
    "# C /= pod_mean_centered_data.shape[0] - 1"
   ]
  },
  {
   "cell_type": "code",
   "execution_count": 35,
   "metadata": {
    "colab": {
     "base_uri": "https://localhost:8080/"
    },
    "executionInfo": {
     "elapsed": 600,
     "status": "ok",
     "timestamp": 1666788900494,
     "user": {
      "displayName": "Rohan Kaushik",
      "userId": "13918477614376051685"
     },
     "user_tz": -120
    },
    "id": "jVqsAwsY0Amw",
    "outputId": "95dd7bc9-f2b0-421e-a1b4-3e7e594cd44a"
   },
   "outputs": [],
   "source": [
    "# eigenvals, eigenvecs = np.linalg.eig(C)"
   ]
  },
  {
   "cell_type": "code",
   "execution_count": 36,
   "metadata": {
    "colab": {
     "base_uri": "https://localhost:8080/",
     "height": 1000
    },
    "executionInfo": {
     "elapsed": 2127,
     "status": "ok",
     "timestamp": 1666788902619,
     "user": {
      "displayName": "Rohan Kaushik",
      "userId": "13918477614376051685"
     },
     "user_tz": -120
    },
    "id": "wjgPNitSrt5p",
    "outputId": "d60c9340-28f4-479b-8b66-5ee2a5fc5cee"
   },
   "outputs": [],
   "source": [
    "# abs_eigenvals = np.abs(eigenvals)\n",
    "# idx = np.argsort(abs_eigenvals)"
   ]
  },
  {
   "cell_type": "code",
   "execution_count": 37,
   "metadata": {
    "executionInfo": {
     "elapsed": 5242,
     "status": "ok",
     "timestamp": 1666788907858,
     "user": {
      "displayName": "Rohan Kaushik",
      "userId": "13918477614376051685"
     },
     "user_tz": -120
    },
    "id": "Jv8PgBgzV1_s"
   },
   "outputs": [],
   "source": [
    "# idx = idx[::-1]\n",
    "# W = eigenvecs[:, idx[0:4*4*enc_filters[-1]]]"
   ]
  },
  {
   "cell_type": "code",
   "execution_count": 38,
   "metadata": {
    "executionInfo": {
     "elapsed": 17,
     "status": "ok",
     "timestamp": 1666788907859,
     "user": {
      "displayName": "Rohan Kaushik",
      "userId": "13918477614376051685"
     },
     "user_tz": -120
    },
    "id": "wnLnqg0Jrt5t"
   },
   "outputs": [],
   "source": [
    "# reconstructed_val_data = val_data.reshape(val_data.shape[0], training_data.shape[1]*training_data.shape[2]*training_data.shape[3]) @ W @ W.transpose()\n",
    "# reconstructed_val_data = np.reshape(reconstructed_val_data, val_data.shape)"
   ]
  },
  {
   "cell_type": "code",
   "execution_count": 39,
   "metadata": {},
   "outputs": [],
   "source": [
    "# val_recon_MSE = np.reshape((reconstructed_val_data - val_data)**2, (val_data.shape[0], training_data.shape[1]*training_data.shape[2]*training_data.shape[3]))\n",
    "# val_recon_MSE = np.mean(np.sum(val_recon_MSE, axis=1), axis=0)"
   ]
  },
  {
   "cell_type": "code",
   "execution_count": 40,
   "metadata": {
    "scrolled": true
   },
   "outputs": [],
   "source": [
    "# print(val_recon_MSE, val_recon_MSE/np.sum(time_stddev**2), np.sum(time_stddev**2))"
   ]
  },
  {
   "cell_type": "code",
   "execution_count": 41,
   "metadata": {},
   "outputs": [],
   "source": [
    "# abs_eigenvals[idx[0:4*4*2]]"
   ]
  },
  {
   "cell_type": "code",
   "execution_count": null,
   "metadata": {},
   "outputs": [],
   "source": []
  },
  {
   "cell_type": "code",
   "execution_count": 42,
   "metadata": {},
   "outputs": [
    {
     "name": "stdout",
     "output_type": "stream",
     "text": [
      "i : 8, name : attention_module, lambda_att : -0.28280216455459595\n",
      "i : 13, name : attention_module_1, lambda_att : 0.127604141831398\n",
      "i : 18, name : attention_module_2, lambda_att : -0.14703422784805298\n",
      "\n"
     ]
    }
   ],
   "source": [
    "s = ''\n",
    "for i in range(len(ae_net.encoder_layers_list)):\n",
    "    l = ae_net.encoder_layers_list[i]\n",
    "    name = str(l.name)\n",
    "    if name.startswith('attention_module'):\n",
    "        # print(i, name, l.lambda_att.numpy())\n",
    "        s += 'i : {}, name : {}, lambda_att : {}\\n'.format(i, name, l.lambda_att.numpy())\n",
    "print(s)\n",
    "\n",
    "if s != '':\n",
    "    with open(dir_name_ae + '/attention_lambdas_encoder.txt', 'w') as f:\n",
    "        f.write(s)"
   ]
  },
  {
   "cell_type": "code",
   "execution_count": 43,
   "metadata": {},
   "outputs": [
    {
     "name": "stdout",
     "output_type": "stream",
     "text": [
      "i : 10, name : attention_module_3, lambda_att : -0.2455066740512848\n",
      "i : 16, name : attention_module_4, lambda_att : -0.30133020877838135\n",
      "i : 22, name : attention_module_5, lambda_att : 0.3779212236404419\n",
      "\n"
     ]
    }
   ],
   "source": [
    "s = ''\n",
    "for i in range(len(ae_net.decoder_layers_list)):\n",
    "    l = ae_net.decoder_layers_list[i]\n",
    "    name = str(l.name)\n",
    "    if name.startswith('attention_module'):\n",
    "        # print(i, name, l.lambda_att.numpy())\n",
    "        s += 'i : {}, name : {}, lambda_att : {}\\n'.format(i, name, l.lambda_att.numpy())\n",
    "print(s)\n",
    "\n",
    "if s != '':\n",
    "    with open(dir_name_ae + '/attention_lambdas_decoder.txt', 'w') as f:\n",
    "        f.write(s)"
   ]
  },
  {
   "cell_type": "code",
   "execution_count": 44,
   "metadata": {
    "scrolled": false
   },
   "outputs": [
    {
     "name": "stdout",
     "output_type": "stream",
     "text": [
      "0 periodic_padding <tf.Variable 'periodic_padding/M_mat:0' shape=(54, 50) dtype=float32, numpy=\n",
      "array([[0., 0., 0., ..., 0., 1., 0.],\n",
      "       [0., 0., 0., ..., 0., 0., 1.],\n",
      "       [1., 0., 0., ..., 0., 0., 0.],\n",
      "       ...,\n",
      "       [0., 0., 0., ..., 0., 0., 1.],\n",
      "       [1., 0., 0., ..., 0., 0., 0.],\n",
      "       [0., 1., 0., ..., 0., 0., 0.]], dtype=float32)>\n",
      "4 periodic_padding_1 <tf.Variable 'periodic_padding_1/M_mat:0' shape=(29, 25) dtype=float32, numpy=\n",
      "array([[0., 0., 0., 0., 0., 0., 0., 0., 0., 0., 0., 0., 0., 0., 0., 0.,\n",
      "        0., 0., 0., 0., 0., 0., 0., 1., 0.],\n",
      "       [0., 0., 0., 0., 0., 0., 0., 0., 0., 0., 0., 0., 0., 0., 0., 0.,\n",
      "        0., 0., 0., 0., 0., 0., 0., 0., 1.],\n",
      "       [1., 0., 0., 0., 0., 0., 0., 0., 0., 0., 0., 0., 0., 0., 0., 0.,\n",
      "        0., 0., 0., 0., 0., 0., 0., 0., 0.],\n",
      "       [0., 1., 0., 0., 0., 0., 0., 0., 0., 0., 0., 0., 0., 0., 0., 0.,\n",
      "        0., 0., 0., 0., 0., 0., 0., 0., 0.],\n",
      "       [0., 0., 1., 0., 0., 0., 0., 0., 0., 0., 0., 0., 0., 0., 0., 0.,\n",
      "        0., 0., 0., 0., 0., 0., 0., 0., 0.],\n",
      "       [0., 0., 0., 1., 0., 0., 0., 0., 0., 0., 0., 0., 0., 0., 0., 0.,\n",
      "        0., 0., 0., 0., 0., 0., 0., 0., 0.],\n",
      "       [0., 0., 0., 0., 1., 0., 0., 0., 0., 0., 0., 0., 0., 0., 0., 0.,\n",
      "        0., 0., 0., 0., 0., 0., 0., 0., 0.],\n",
      "       [0., 0., 0., 0., 0., 1., 0., 0., 0., 0., 0., 0., 0., 0., 0., 0.,\n",
      "        0., 0., 0., 0., 0., 0., 0., 0., 0.],\n",
      "       [0., 0., 0., 0., 0., 0., 1., 0., 0., 0., 0., 0., 0., 0., 0., 0.,\n",
      "        0., 0., 0., 0., 0., 0., 0., 0., 0.],\n",
      "       [0., 0., 0., 0., 0., 0., 0., 1., 0., 0., 0., 0., 0., 0., 0., 0.,\n",
      "        0., 0., 0., 0., 0., 0., 0., 0., 0.],\n",
      "       [0., 0., 0., 0., 0., 0., 0., 0., 1., 0., 0., 0., 0., 0., 0., 0.,\n",
      "        0., 0., 0., 0., 0., 0., 0., 0., 0.],\n",
      "       [0., 0., 0., 0., 0., 0., 0., 0., 0., 1., 0., 0., 0., 0., 0., 0.,\n",
      "        0., 0., 0., 0., 0., 0., 0., 0., 0.],\n",
      "       [0., 0., 0., 0., 0., 0., 0., 0., 0., 0., 1., 0., 0., 0., 0., 0.,\n",
      "        0., 0., 0., 0., 0., 0., 0., 0., 0.],\n",
      "       [0., 0., 0., 0., 0., 0., 0., 0., 0., 0., 0., 1., 0., 0., 0., 0.,\n",
      "        0., 0., 0., 0., 0., 0., 0., 0., 0.],\n",
      "       [0., 0., 0., 0., 0., 0., 0., 0., 0., 0., 0., 0., 1., 0., 0., 0.,\n",
      "        0., 0., 0., 0., 0., 0., 0., 0., 0.],\n",
      "       [0., 0., 0., 0., 0., 0., 0., 0., 0., 0., 0., 0., 0., 1., 0., 0.,\n",
      "        0., 0., 0., 0., 0., 0., 0., 0., 0.],\n",
      "       [0., 0., 0., 0., 0., 0., 0., 0., 0., 0., 0., 0., 0., 0., 1., 0.,\n",
      "        0., 0., 0., 0., 0., 0., 0., 0., 0.],\n",
      "       [0., 0., 0., 0., 0., 0., 0., 0., 0., 0., 0., 0., 0., 0., 0., 1.,\n",
      "        0., 0., 0., 0., 0., 0., 0., 0., 0.],\n",
      "       [0., 0., 0., 0., 0., 0., 0., 0., 0., 0., 0., 0., 0., 0., 0., 0.,\n",
      "        1., 0., 0., 0., 0., 0., 0., 0., 0.],\n",
      "       [0., 0., 0., 0., 0., 0., 0., 0., 0., 0., 0., 0., 0., 0., 0., 0.,\n",
      "        0., 1., 0., 0., 0., 0., 0., 0., 0.],\n",
      "       [0., 0., 0., 0., 0., 0., 0., 0., 0., 0., 0., 0., 0., 0., 0., 0.,\n",
      "        0., 0., 1., 0., 0., 0., 0., 0., 0.],\n",
      "       [0., 0., 0., 0., 0., 0., 0., 0., 0., 0., 0., 0., 0., 0., 0., 0.,\n",
      "        0., 0., 0., 1., 0., 0., 0., 0., 0.],\n",
      "       [0., 0., 0., 0., 0., 0., 0., 0., 0., 0., 0., 0., 0., 0., 0., 0.,\n",
      "        0., 0., 0., 0., 1., 0., 0., 0., 0.],\n",
      "       [0., 0., 0., 0., 0., 0., 0., 0., 0., 0., 0., 0., 0., 0., 0., 0.,\n",
      "        0., 0., 0., 0., 0., 1., 0., 0., 0.],\n",
      "       [0., 0., 0., 0., 0., 0., 0., 0., 0., 0., 0., 0., 0., 0., 0., 0.,\n",
      "        0., 0., 0., 0., 0., 0., 1., 0., 0.],\n",
      "       [0., 0., 0., 0., 0., 0., 0., 0., 0., 0., 0., 0., 0., 0., 0., 0.,\n",
      "        0., 0., 0., 0., 0., 0., 0., 1., 0.],\n",
      "       [0., 0., 0., 0., 0., 0., 0., 0., 0., 0., 0., 0., 0., 0., 0., 0.,\n",
      "        0., 0., 0., 0., 0., 0., 0., 0., 1.],\n",
      "       [1., 0., 0., 0., 0., 0., 0., 0., 0., 0., 0., 0., 0., 0., 0., 0.,\n",
      "        0., 0., 0., 0., 0., 0., 0., 0., 0.],\n",
      "       [0., 1., 0., 0., 0., 0., 0., 0., 0., 0., 0., 0., 0., 0., 0., 0.,\n",
      "        0., 0., 0., 0., 0., 0., 0., 0., 0.]], dtype=float32)>\n",
      "9 periodic_padding_2 <tf.Variable 'periodic_padding_2/M_mat:0' shape=(17, 13) dtype=float32, numpy=\n",
      "array([[0., 0., 0., 0., 0., 0., 0., 0., 0., 0., 0., 1., 0.],\n",
      "       [0., 0., 0., 0., 0., 0., 0., 0., 0., 0., 0., 0., 1.],\n",
      "       [1., 0., 0., 0., 0., 0., 0., 0., 0., 0., 0., 0., 0.],\n",
      "       [0., 1., 0., 0., 0., 0., 0., 0., 0., 0., 0., 0., 0.],\n",
      "       [0., 0., 1., 0., 0., 0., 0., 0., 0., 0., 0., 0., 0.],\n",
      "       [0., 0., 0., 1., 0., 0., 0., 0., 0., 0., 0., 0., 0.],\n",
      "       [0., 0., 0., 0., 1., 0., 0., 0., 0., 0., 0., 0., 0.],\n",
      "       [0., 0., 0., 0., 0., 1., 0., 0., 0., 0., 0., 0., 0.],\n",
      "       [0., 0., 0., 0., 0., 0., 1., 0., 0., 0., 0., 0., 0.],\n",
      "       [0., 0., 0., 0., 0., 0., 0., 1., 0., 0., 0., 0., 0.],\n",
      "       [0., 0., 0., 0., 0., 0., 0., 0., 1., 0., 0., 0., 0.],\n",
      "       [0., 0., 0., 0., 0., 0., 0., 0., 0., 1., 0., 0., 0.],\n",
      "       [0., 0., 0., 0., 0., 0., 0., 0., 0., 0., 1., 0., 0.],\n",
      "       [0., 0., 0., 0., 0., 0., 0., 0., 0., 0., 0., 1., 0.],\n",
      "       [0., 0., 0., 0., 0., 0., 0., 0., 0., 0., 0., 0., 1.],\n",
      "       [1., 0., 0., 0., 0., 0., 0., 0., 0., 0., 0., 0., 0.],\n",
      "       [0., 1., 0., 0., 0., 0., 0., 0., 0., 0., 0., 0., 0.]],\n",
      "      dtype=float32)>\n",
      "14 periodic_padding_3 <tf.Variable 'periodic_padding_3/M_mat:0' shape=(11, 7) dtype=float32, numpy=\n",
      "array([[0., 0., 0., 0., 0., 1., 0.],\n",
      "       [0., 0., 0., 0., 0., 0., 1.],\n",
      "       [1., 0., 0., 0., 0., 0., 0.],\n",
      "       [0., 1., 0., 0., 0., 0., 0.],\n",
      "       [0., 0., 1., 0., 0., 0., 0.],\n",
      "       [0., 0., 0., 1., 0., 0., 0.],\n",
      "       [0., 0., 0., 0., 1., 0., 0.],\n",
      "       [0., 0., 0., 0., 0., 1., 0.],\n",
      "       [0., 0., 0., 0., 0., 0., 1.],\n",
      "       [1., 0., 0., 0., 0., 0., 0.],\n",
      "       [0., 1., 0., 0., 0., 0., 0.]], dtype=float32)>\n",
      "19 periodic_padding_4 <tf.Variable 'periodic_padding_4/M_mat:0' shape=(8, 4) dtype=float32, numpy=\n",
      "array([[0., 0., 1., 0.],\n",
      "       [0., 0., 0., 1.],\n",
      "       [1., 0., 0., 0.],\n",
      "       [0., 1., 0., 0.],\n",
      "       [0., 0., 1., 0.],\n",
      "       [0., 0., 0., 1.],\n",
      "       [1., 0., 0., 0.],\n",
      "       [0., 1., 0., 0.]], dtype=float32)>\n",
      "23 periodic_padding_5 <tf.Variable 'periodic_padding_5/M_mat:0' shape=(8, 4) dtype=float32, numpy=\n",
      "array([[0., 0., 1., 0.],\n",
      "       [0., 0., 0., 1.],\n",
      "       [1., 0., 0., 0.],\n",
      "       [0., 1., 0., 0.],\n",
      "       [0., 0., 1., 0.],\n",
      "       [0., 0., 0., 1.],\n",
      "       [1., 0., 0., 0.],\n",
      "       [0., 1., 0., 0.]], dtype=float32)>\n"
     ]
    }
   ],
   "source": [
    "for i in range(len(ae_net.encoder_layers_list)):\n",
    "    l = ae_net.encoder_layers_list[i]\n",
    "    name = str(l.name)\n",
    "    if name.startswith('periodic_padding'):\n",
    "        print(i, name, l.M_mat)"
   ]
  },
  {
   "cell_type": "code",
   "execution_count": 45,
   "metadata": {},
   "outputs": [
    {
     "name": "stdout",
     "output_type": "stream",
     "text": [
      "0 periodic_padding_6 <tf.Variable 'periodic_padding_6/M_mat:0' shape=(8, 4) dtype=float32, numpy=\n",
      "array([[0., 0., 1., 0.],\n",
      "       [0., 0., 0., 1.],\n",
      "       [1., 0., 0., 0.],\n",
      "       [0., 1., 0., 0.],\n",
      "       [0., 0., 1., 0.],\n",
      "       [0., 0., 0., 1.],\n",
      "       [1., 0., 0., 0.],\n",
      "       [0., 1., 0., 0.]], dtype=float32)>\n",
      "5 periodic_padding_7 <tf.Variable 'periodic_padding_7/M_mat:0' shape=(8, 4) dtype=float32, numpy=\n",
      "array([[0., 0., 1., 0.],\n",
      "       [0., 0., 0., 1.],\n",
      "       [1., 0., 0., 0.],\n",
      "       [0., 1., 0., 0.],\n",
      "       [0., 0., 1., 0.],\n",
      "       [0., 0., 0., 1.],\n",
      "       [1., 0., 0., 0.],\n",
      "       [0., 1., 0., 0.]], dtype=float32)>\n",
      "11 periodic_padding_8 <tf.Variable 'periodic_padding_8/M_mat:0' shape=(8, 4) dtype=float32, numpy=\n",
      "array([[0., 0., 1., 0.],\n",
      "       [0., 0., 0., 1.],\n",
      "       [1., 0., 0., 0.],\n",
      "       [0., 1., 0., 0.],\n",
      "       [0., 0., 1., 0.],\n",
      "       [0., 0., 0., 1.],\n",
      "       [1., 0., 0., 0.],\n",
      "       [0., 1., 0., 0.]], dtype=float32)>\n",
      "17 periodic_padding_9 <tf.Variable 'periodic_padding_9/M_mat:0' shape=(11, 7) dtype=float32, numpy=\n",
      "array([[0., 0., 0., 0., 0., 1., 0.],\n",
      "       [0., 0., 0., 0., 0., 0., 1.],\n",
      "       [1., 0., 0., 0., 0., 0., 0.],\n",
      "       [0., 1., 0., 0., 0., 0., 0.],\n",
      "       [0., 0., 1., 0., 0., 0., 0.],\n",
      "       [0., 0., 0., 1., 0., 0., 0.],\n",
      "       [0., 0., 0., 0., 1., 0., 0.],\n",
      "       [0., 0., 0., 0., 0., 1., 0.],\n",
      "       [0., 0., 0., 0., 0., 0., 1.],\n",
      "       [1., 0., 0., 0., 0., 0., 0.],\n",
      "       [0., 1., 0., 0., 0., 0., 0.]], dtype=float32)>\n",
      "23 periodic_padding_10 <tf.Variable 'periodic_padding_10/M_mat:0' shape=(17, 13) dtype=float32, numpy=\n",
      "array([[0., 0., 0., 0., 0., 0., 0., 0., 0., 0., 0., 1., 0.],\n",
      "       [0., 0., 0., 0., 0., 0., 0., 0., 0., 0., 0., 0., 1.],\n",
      "       [1., 0., 0., 0., 0., 0., 0., 0., 0., 0., 0., 0., 0.],\n",
      "       [0., 1., 0., 0., 0., 0., 0., 0., 0., 0., 0., 0., 0.],\n",
      "       [0., 0., 1., 0., 0., 0., 0., 0., 0., 0., 0., 0., 0.],\n",
      "       [0., 0., 0., 1., 0., 0., 0., 0., 0., 0., 0., 0., 0.],\n",
      "       [0., 0., 0., 0., 1., 0., 0., 0., 0., 0., 0., 0., 0.],\n",
      "       [0., 0., 0., 0., 0., 1., 0., 0., 0., 0., 0., 0., 0.],\n",
      "       [0., 0., 0., 0., 0., 0., 1., 0., 0., 0., 0., 0., 0.],\n",
      "       [0., 0., 0., 0., 0., 0., 0., 1., 0., 0., 0., 0., 0.],\n",
      "       [0., 0., 0., 0., 0., 0., 0., 0., 1., 0., 0., 0., 0.],\n",
      "       [0., 0., 0., 0., 0., 0., 0., 0., 0., 1., 0., 0., 0.],\n",
      "       [0., 0., 0., 0., 0., 0., 0., 0., 0., 0., 1., 0., 0.],\n",
      "       [0., 0., 0., 0., 0., 0., 0., 0., 0., 0., 0., 1., 0.],\n",
      "       [0., 0., 0., 0., 0., 0., 0., 0., 0., 0., 0., 0., 1.],\n",
      "       [1., 0., 0., 0., 0., 0., 0., 0., 0., 0., 0., 0., 0.],\n",
      "       [0., 1., 0., 0., 0., 0., 0., 0., 0., 0., 0., 0., 0.]],\n",
      "      dtype=float32)>\n",
      "28 periodic_padding_11 <tf.Variable 'periodic_padding_11/M_mat:0' shape=(29, 25) dtype=float32, numpy=\n",
      "array([[0., 0., 0., 0., 0., 0., 0., 0., 0., 0., 0., 0., 0., 0., 0., 0.,\n",
      "        0., 0., 0., 0., 0., 0., 0., 1., 0.],\n",
      "       [0., 0., 0., 0., 0., 0., 0., 0., 0., 0., 0., 0., 0., 0., 0., 0.,\n",
      "        0., 0., 0., 0., 0., 0., 0., 0., 1.],\n",
      "       [1., 0., 0., 0., 0., 0., 0., 0., 0., 0., 0., 0., 0., 0., 0., 0.,\n",
      "        0., 0., 0., 0., 0., 0., 0., 0., 0.],\n",
      "       [0., 1., 0., 0., 0., 0., 0., 0., 0., 0., 0., 0., 0., 0., 0., 0.,\n",
      "        0., 0., 0., 0., 0., 0., 0., 0., 0.],\n",
      "       [0., 0., 1., 0., 0., 0., 0., 0., 0., 0., 0., 0., 0., 0., 0., 0.,\n",
      "        0., 0., 0., 0., 0., 0., 0., 0., 0.],\n",
      "       [0., 0., 0., 1., 0., 0., 0., 0., 0., 0., 0., 0., 0., 0., 0., 0.,\n",
      "        0., 0., 0., 0., 0., 0., 0., 0., 0.],\n",
      "       [0., 0., 0., 0., 1., 0., 0., 0., 0., 0., 0., 0., 0., 0., 0., 0.,\n",
      "        0., 0., 0., 0., 0., 0., 0., 0., 0.],\n",
      "       [0., 0., 0., 0., 0., 1., 0., 0., 0., 0., 0., 0., 0., 0., 0., 0.,\n",
      "        0., 0., 0., 0., 0., 0., 0., 0., 0.],\n",
      "       [0., 0., 0., 0., 0., 0., 1., 0., 0., 0., 0., 0., 0., 0., 0., 0.,\n",
      "        0., 0., 0., 0., 0., 0., 0., 0., 0.],\n",
      "       [0., 0., 0., 0., 0., 0., 0., 1., 0., 0., 0., 0., 0., 0., 0., 0.,\n",
      "        0., 0., 0., 0., 0., 0., 0., 0., 0.],\n",
      "       [0., 0., 0., 0., 0., 0., 0., 0., 1., 0., 0., 0., 0., 0., 0., 0.,\n",
      "        0., 0., 0., 0., 0., 0., 0., 0., 0.],\n",
      "       [0., 0., 0., 0., 0., 0., 0., 0., 0., 1., 0., 0., 0., 0., 0., 0.,\n",
      "        0., 0., 0., 0., 0., 0., 0., 0., 0.],\n",
      "       [0., 0., 0., 0., 0., 0., 0., 0., 0., 0., 1., 0., 0., 0., 0., 0.,\n",
      "        0., 0., 0., 0., 0., 0., 0., 0., 0.],\n",
      "       [0., 0., 0., 0., 0., 0., 0., 0., 0., 0., 0., 1., 0., 0., 0., 0.,\n",
      "        0., 0., 0., 0., 0., 0., 0., 0., 0.],\n",
      "       [0., 0., 0., 0., 0., 0., 0., 0., 0., 0., 0., 0., 1., 0., 0., 0.,\n",
      "        0., 0., 0., 0., 0., 0., 0., 0., 0.],\n",
      "       [0., 0., 0., 0., 0., 0., 0., 0., 0., 0., 0., 0., 0., 1., 0., 0.,\n",
      "        0., 0., 0., 0., 0., 0., 0., 0., 0.],\n",
      "       [0., 0., 0., 0., 0., 0., 0., 0., 0., 0., 0., 0., 0., 0., 1., 0.,\n",
      "        0., 0., 0., 0., 0., 0., 0., 0., 0.],\n",
      "       [0., 0., 0., 0., 0., 0., 0., 0., 0., 0., 0., 0., 0., 0., 0., 1.,\n",
      "        0., 0., 0., 0., 0., 0., 0., 0., 0.],\n",
      "       [0., 0., 0., 0., 0., 0., 0., 0., 0., 0., 0., 0., 0., 0., 0., 0.,\n",
      "        1., 0., 0., 0., 0., 0., 0., 0., 0.],\n",
      "       [0., 0., 0., 0., 0., 0., 0., 0., 0., 0., 0., 0., 0., 0., 0., 0.,\n",
      "        0., 1., 0., 0., 0., 0., 0., 0., 0.],\n",
      "       [0., 0., 0., 0., 0., 0., 0., 0., 0., 0., 0., 0., 0., 0., 0., 0.,\n",
      "        0., 0., 1., 0., 0., 0., 0., 0., 0.],\n",
      "       [0., 0., 0., 0., 0., 0., 0., 0., 0., 0., 0., 0., 0., 0., 0., 0.,\n",
      "        0., 0., 0., 1., 0., 0., 0., 0., 0.],\n",
      "       [0., 0., 0., 0., 0., 0., 0., 0., 0., 0., 0., 0., 0., 0., 0., 0.,\n",
      "        0., 0., 0., 0., 1., 0., 0., 0., 0.],\n",
      "       [0., 0., 0., 0., 0., 0., 0., 0., 0., 0., 0., 0., 0., 0., 0., 0.,\n",
      "        0., 0., 0., 0., 0., 1., 0., 0., 0.],\n",
      "       [0., 0., 0., 0., 0., 0., 0., 0., 0., 0., 0., 0., 0., 0., 0., 0.,\n",
      "        0., 0., 0., 0., 0., 0., 1., 0., 0.],\n",
      "       [0., 0., 0., 0., 0., 0., 0., 0., 0., 0., 0., 0., 0., 0., 0., 0.,\n",
      "        0., 0., 0., 0., 0., 0., 0., 1., 0.],\n",
      "       [0., 0., 0., 0., 0., 0., 0., 0., 0., 0., 0., 0., 0., 0., 0., 0.,\n",
      "        0., 0., 0., 0., 0., 0., 0., 0., 1.],\n",
      "       [1., 0., 0., 0., 0., 0., 0., 0., 0., 0., 0., 0., 0., 0., 0., 0.,\n",
      "        0., 0., 0., 0., 0., 0., 0., 0., 0.],\n",
      "       [0., 1., 0., 0., 0., 0., 0., 0., 0., 0., 0., 0., 0., 0., 0., 0.,\n",
      "        0., 0., 0., 0., 0., 0., 0., 0., 0.]], dtype=float32)>\n"
     ]
    }
   ],
   "source": [
    "for i in range(len(ae_net.decoder_layers_list)):\n",
    "    l = ae_net.decoder_layers_list[i]\n",
    "    name = str(l.name)\n",
    "    if name.startswith('periodic_padding'):\n",
    "        print(i, name, l.M_mat)"
   ]
  },
  {
   "cell_type": "code",
   "execution_count": null,
   "metadata": {},
   "outputs": [],
   "source": []
  },
  {
   "cell_type": "code",
   "execution_count": null,
   "metadata": {},
   "outputs": [],
   "source": []
  },
  {
   "cell_type": "code",
   "execution_count": null,
   "metadata": {},
   "outputs": [],
   "source": []
  },
  {
   "cell_type": "code",
   "execution_count": null,
   "metadata": {},
   "outputs": [],
   "source": []
  }
 ],
 "metadata": {
  "colab": {
   "collapsed_sections": [],
   "provenance": []
  },
  "gpuClass": "standard",
  "kernelspec": {
   "display_name": "Python 3 (ipykernel)",
   "language": "python",
   "name": "python3"
  },
  "language_info": {
   "codemirror_mode": {
    "name": "ipython",
    "version": 3
   },
   "file_extension": ".py",
   "mimetype": "text/x-python",
   "name": "python",
   "nbconvert_exporter": "python",
   "pygments_lexer": "ipython3",
   "version": "3.10.6"
  }
 },
 "nbformat": 4,
 "nbformat_minor": 1
}
