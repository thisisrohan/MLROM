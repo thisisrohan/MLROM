{
 "cells": [
  {
   "cell_type": "code",
   "execution_count": 1,
   "metadata": {
    "executionInfo": {
     "elapsed": 5,
     "status": "ok",
     "timestamp": 1666788634667,
     "user": {
      "displayName": "Rohan Kaushik",
      "userId": "13918477614376051685"
     },
     "user_tz": -120
    },
    "id": "4xhxMpe_r-Y5"
   },
   "outputs": [],
   "source": [
    "# enabling 3rd party widgets\n",
    "# from google.colab import output\n",
    "# output.enable_custom_widget_manager()\n",
    "# output.disable_custom_widget_manager()\n",
    "\n",
    "# interactive 3D plot\n",
    "# !pip install ipympl\n",
    "# %matplotlib widget"
   ]
  },
  {
   "cell_type": "code",
   "execution_count": 2,
   "metadata": {
    "executionInfo": {
     "elapsed": 3089,
     "status": "ok",
     "timestamp": 1666788637752,
     "user": {
      "displayName": "Rohan Kaushik",
      "userId": "13918477614376051685"
     },
     "user_tz": -120
    },
    "id": "a5qPupCDsjSz"
   },
   "outputs": [],
   "source": [
    "import os\n",
    "import math\n",
    "from collections import OrderedDict\n",
    "import numpy as np\n",
    "import matplotlib.pyplot as plt\n",
    "from scipy import linalg\n",
    "\n",
    "import time as time\n",
    "import platform as platform\n",
    "\n",
    "import tensorflow as tf\n",
    "from tensorflow.keras import layers, losses\n",
    "from tensorflow.keras.models import Model\n",
    "from tensorflow.keras import backend as K\n",
    "from tensorflow.keras.regularizers import L2\n",
    "import h5py\n",
    "\n",
    "tf.keras.backend.set_floatx('float32')"
   ]
  },
  {
   "cell_type": "code",
   "execution_count": 3,
   "metadata": {
    "executionInfo": {
     "elapsed": 8,
     "status": "ok",
     "timestamp": 1666788637752,
     "user": {
      "displayName": "Rohan Kaushik",
      "userId": "13918477614376051685"
     },
     "user_tz": -120
    },
    "id": "3AVrZNGlZu4Z"
   },
   "outputs": [],
   "source": [
    "colab_flag = False\n",
    "\n",
    "FTYPE = np.float32\n",
    "ITYPE = np.int32\n",
    "\n",
    "strategy = None\n",
    "# strategy = tf.distribute.MirroredStrategy()"
   ]
  },
  {
   "cell_type": "code",
   "execution_count": 4,
   "metadata": {
    "executionInfo": {
     "elapsed": 7,
     "status": "ok",
     "timestamp": 1666788637753,
     "user": {
      "displayName": "Rohan Kaushik",
      "userId": "13918477614376051685"
     },
     "user_tz": -120
    },
    "id": "SxAd7iDL0Ami"
   },
   "outputs": [],
   "source": [
    "current_sys = platform.system()\n",
    "\n",
    "if current_sys == 'Windows':\n",
    "    dir_sep = '\\\\'\n",
    "else:\n",
    "    dir_sep = '/'"
   ]
  },
  {
   "cell_type": "code",
   "execution_count": 5,
   "metadata": {
    "colab": {
     "base_uri": "https://localhost:8080/"
    },
    "executionInfo": {
     "elapsed": 27766,
     "status": "ok",
     "timestamp": 1666788665512,
     "user": {
      "displayName": "Rohan Kaushik",
      "userId": "13918477614376051685"
     },
     "user_tz": -120
    },
    "id": "JjNnPRuk0IIX",
    "outputId": "f93a8628-71fe-4d6d-b3b6-245dfcb8eb60"
   },
   "outputs": [],
   "source": [
    "if colab_flag == True:\n",
    "    from google.colab import drive\n",
    "    drive.mount('/content/drive')\n",
    "    os.chdir('/content/drive/MyDrive/Github/MLROM/KS/')"
   ]
  },
  {
   "cell_type": "code",
   "execution_count": 6,
   "metadata": {
    "colab": {
     "base_uri": "https://localhost:8080/"
    },
    "executionInfo": {
     "elapsed": 5,
     "status": "ok",
     "timestamp": 1666788665512,
     "user": {
      "displayName": "Rohan Kaushik",
      "userId": "13918477614376051685"
     },
     "user_tz": -120
    },
    "id": "9REiGIIy0IzV",
    "outputId": "2b5b0b02-2f67-4635-a00c-82084a8d2ffb"
   },
   "outputs": [
    {
     "name": "stdout",
     "output_type": "stream",
     "text": [
      "/home/rkaushik/Documents/Thesis/MLROM/Kolmogorov\n"
     ]
    }
   ],
   "source": [
    "print(os.getcwd())"
   ]
  },
  {
   "cell_type": "code",
   "execution_count": 7,
   "metadata": {
    "executionInfo": {
     "elapsed": 1381,
     "status": "ok",
     "timestamp": 1666788666890,
     "user": {
      "displayName": "Rohan Kaushik",
      "userId": "13918477614376051685"
     },
     "user_tz": -120
    },
    "id": "8S1AHEkl48bn"
   },
   "outputs": [],
   "source": [
    "from tools.misc_tools import mytimecallback, SaveLosses, plot_losses, readAndReturnLossHistories\n",
    "from tools.ae_v11 import Autoencoder"
   ]
  },
  {
   "cell_type": "code",
   "execution_count": 8,
   "metadata": {
    "executionInfo": {
     "elapsed": 7,
     "status": "ok",
     "timestamp": 1666788666891,
     "user": {
      "displayName": "Rohan Kaushik",
      "userId": "13918477614376051685"
     },
     "user_tz": -120
    },
    "id": "-mIQj_v4gzMh"
   },
   "outputs": [],
   "source": [
    "behaviour = 'initialiseAndTrainFromScratch'\n",
    "# behaviour = 'loadCheckpointAndContinueTraining'\n",
    "# behaviour = 'loadFinalNetAndPlot'"
   ]
  },
  {
   "cell_type": "code",
   "execution_count": 9,
   "metadata": {
    "executionInfo": {
     "elapsed": 8,
     "status": "ok",
     "timestamp": 1666788666892,
     "user": {
      "displayName": "Rohan Kaushik",
      "userId": "13918477614376051685"
     },
     "user_tz": -120
    },
    "id": "QL5n-abCg0nI"
   },
   "outputs": [],
   "source": [
    "# setting seed for PRNGs\n",
    "if behaviour == 'initialiseAndTrainFromScratch':\n",
    "    prng_seed = 42\n",
    "    np.random.seed(prng_seed)\n",
    "    tf.random.set_seed(prng_seed)"
   ]
  },
  {
   "cell_type": "code",
   "execution_count": 10,
   "metadata": {
    "colab": {
     "base_uri": "https://localhost:8080/",
     "height": 35
    },
    "executionInfo": {
     "elapsed": 7,
     "status": "ok",
     "timestamp": 1666788666892,
     "user": {
      "displayName": "Rohan Kaushik",
      "userId": "13918477614376051685"
     },
     "user_tz": -120
    },
    "id": "tc3zO9xL_tNl",
    "outputId": "f77bf689-c865-4a8d-8d40-37ec9c75f1ee"
   },
   "outputs": [
    {
     "name": "stderr",
     "output_type": "stream",
     "text": [
      "2023-06-16 01:51:10.381744: I tensorflow/stream_executor/cuda/cuda_gpu_executor.cc:936] successful NUMA node read from SysFS had negative value (-1), but there must be at least one NUMA node, so returning NUMA node zero\n",
      "2023-06-16 01:51:10.382191: I tensorflow/stream_executor/cuda/cuda_gpu_executor.cc:936] successful NUMA node read from SysFS had negative value (-1), but there must be at least one NUMA node, so returning NUMA node zero\n",
      "2023-06-16 01:51:10.445289: I tensorflow/stream_executor/cuda/cuda_gpu_executor.cc:936] successful NUMA node read from SysFS had negative value (-1), but there must be at least one NUMA node, so returning NUMA node zero\n",
      "2023-06-16 01:51:10.445688: I tensorflow/stream_executor/cuda/cuda_gpu_executor.cc:936] successful NUMA node read from SysFS had negative value (-1), but there must be at least one NUMA node, so returning NUMA node zero\n",
      "2023-06-16 01:51:10.445985: I tensorflow/stream_executor/cuda/cuda_gpu_executor.cc:936] successful NUMA node read from SysFS had negative value (-1), but there must be at least one NUMA node, so returning NUMA node zero\n",
      "2023-06-16 01:51:10.446258: I tensorflow/stream_executor/cuda/cuda_gpu_executor.cc:936] successful NUMA node read from SysFS had negative value (-1), but there must be at least one NUMA node, so returning NUMA node zero\n"
     ]
    },
    {
     "name": "stdout",
     "output_type": "stream",
     "text": [
      "[PhysicalDevice(name='/physical_device:GPU:0', device_type='GPU'), PhysicalDevice(name='/physical_device:GPU:1', device_type='GPU')]\n",
      "[LogicalDevice(name='/device:GPU:0', device_type='GPU')]\n"
     ]
    },
    {
     "name": "stderr",
     "output_type": "stream",
     "text": [
      "2023-06-16 01:51:10.447796: I tensorflow/core/platform/cpu_feature_guard.cc:151] This TensorFlow binary is optimized with oneAPI Deep Neural Network Library (oneDNN) to use the following CPU instructions in performance-critical operations:  SSE4.1 SSE4.2 AVX AVX2 FMA\n",
      "To enable them in other operations, rebuild TensorFlow with the appropriate compiler flags.\n",
      "2023-06-16 01:51:10.448359: I tensorflow/stream_executor/cuda/cuda_gpu_executor.cc:936] successful NUMA node read from SysFS had negative value (-1), but there must be at least one NUMA node, so returning NUMA node zero\n",
      "2023-06-16 01:51:10.448570: I tensorflow/stream_executor/cuda/cuda_gpu_executor.cc:936] successful NUMA node read from SysFS had negative value (-1), but there must be at least one NUMA node, so returning NUMA node zero\n",
      "2023-06-16 01:51:10.448757: I tensorflow/stream_executor/cuda/cuda_gpu_executor.cc:936] successful NUMA node read from SysFS had negative value (-1), but there must be at least one NUMA node, so returning NUMA node zero\n",
      "2023-06-16 01:51:11.047863: I tensorflow/stream_executor/cuda/cuda_gpu_executor.cc:936] successful NUMA node read from SysFS had negative value (-1), but there must be at least one NUMA node, so returning NUMA node zero\n",
      "2023-06-16 01:51:11.048173: I tensorflow/stream_executor/cuda/cuda_gpu_executor.cc:936] successful NUMA node read from SysFS had negative value (-1), but there must be at least one NUMA node, so returning NUMA node zero\n",
      "2023-06-16 01:51:11.048437: I tensorflow/stream_executor/cuda/cuda_gpu_executor.cc:936] successful NUMA node read from SysFS had negative value (-1), but there must be at least one NUMA node, so returning NUMA node zero\n",
      "2023-06-16 01:51:11.048661: I tensorflow/core/common_runtime/gpu/gpu_device.cc:1525] Created device /job:localhost/replica:0/task:0/device:GPU:0 with 3355 MB memory:  -> device: 0, name: Quadro K2200, pci bus id: 0000:02:00.0, compute capability: 5.0\n"
     ]
    }
   ],
   "source": [
    "gpus = tf.config.list_physical_devices('GPU')\n",
    "print(gpus)\n",
    "\n",
    "if colab_flag == False:\n",
    "    if strategy is None:\n",
    "        if gpus:\n",
    "            gpu_to_use = 0\n",
    "            tf.config.set_visible_devices(gpus[gpu_to_use], 'GPU')\n",
    "    logical_devices = tf.config.list_logical_devices('GPU')\n",
    "    print(logical_devices)"
   ]
  },
  {
   "cell_type": "code",
   "execution_count": 11,
   "metadata": {},
   "outputs": [
    {
     "name": "stdout",
     "output_type": "stream",
     "text": [
      "[PhysicalDevice(name='/physical_device:CPU:0', device_type='CPU'), PhysicalDevice(name='/physical_device:GPU:0', device_type='GPU'), PhysicalDevice(name='/physical_device:GPU:1', device_type='GPU')]\n",
      "[LogicalDevice(name='/device:CPU:0', device_type='CPU'), LogicalDevice(name='/device:GPU:0', device_type='GPU')]\n",
      "2.8.1\n"
     ]
    }
   ],
   "source": [
    "# print(tf.test.gpu_device_name())\n",
    "print(tf.config.list_physical_devices())\n",
    "print(tf.config.list_logical_devices())\n",
    "print(tf.__version__)"
   ]
  },
  {
   "cell_type": "markdown",
   "metadata": {
    "id": "7UbdnOtc4_z9"
   },
   "source": [
    "# KS System"
   ]
  },
  {
   "cell_type": "code",
   "execution_count": 12,
   "metadata": {
    "colab": {
     "base_uri": "https://localhost:8080/"
    },
    "executionInfo": {
     "elapsed": 2030,
     "status": "ok",
     "timestamp": 1666788668916,
     "user": {
      "displayName": "Rohan Kaushik",
      "userId": "13918477614376051685"
     },
     "user_tz": -120
    },
    "id": "xcNgt4hqg6Xv",
    "outputId": "7735ac54-495c-493f-869b-7d15538ee30c"
   },
   "outputs": [
    {
     "name": "stdout",
     "output_type": "stream",
     "text": [
      "dir_name_ae: /home/rkaushik/Documents/Thesis/MLROM/Kolmogorov/saved_ae/ae_053\n",
      "24 <class 'int'>\n"
     ]
    }
   ],
   "source": [
    "# setting up params (and saving, if applicable)\n",
    "from numpy import *\n",
    "\n",
    "if behaviour == 'initialiseAndTrainFromScratch':\n",
    "    # loading data directory\n",
    "    data_dir_idx = '000'\n",
    "\n",
    "    # making ae save directory\n",
    "    dir_name_ae = os.getcwd() + dir_sep + 'saved_ae'\n",
    "    if not os.path.isdir(dir_name_ae):\n",
    "        os.makedirs(dir_name_ae)\n",
    "\n",
    "    counter = 0\n",
    "    while True:\n",
    "        dir_check = 'ae_' + str(counter).zfill(3)\n",
    "        if os.path.isdir(dir_name_ae + dir_sep + dir_check):\n",
    "            counter += 1\n",
    "        else:\n",
    "            break\n",
    "\n",
    "    dir_name_ae = dir_name_ae + dir_sep + dir_check\n",
    "    os.makedirs(dir_name_ae)\n",
    "    os.makedirs(dir_name_ae+dir_sep+'plots')\n",
    "else:\n",
    "    # some paramaters\n",
    "    dir_name_ae = os.getcwd()+'{ds}saved_ae{ds}ae_015'.format(ds=dir_sep)\n",
    "\n",
    "    with open(dir_name_ae + dir_sep + 'ae_data.txt') as f:\n",
    "        lines = f.readlines()\n",
    "\n",
    "    params_dict = eval(''.join(lines))\n",
    "    data_dir_idx = params_dict['data_dir_idx']\n",
    "    normalizeforae_flag = params_dict['normalizeforae_flag']\n",
    "    normalization_constant_arr_aedata = params_dict['normalization_constant_arr_aedata']\n",
    "    if os.path.exists(dir_name_ae+dir_sep+'normalization_data.npz'):\n",
    "        with np.load(dir_name_ae+dir_sep+'normalization_data.npz', allow_pickle=True) as fl:\n",
    "            normalization_constant_arr_aedata = fl['normalization_constant_arr_aedata'][0]\n",
    "\n",
    "print('dir_name_ae:', dir_name_ae)\n",
    "# loading data\n",
    "dir_name_data = os.getcwd() + dir_sep + 'saved_data' + dir_sep + 'data_' + data_dir_idx\n",
    "    \n",
    "with h5py.File(dir_name_data + '/data.h5', 'r') as f:\n",
    "    t_recorded_samples = np.array(f['t'])\n",
    "    \n",
    "    N = int(0.5*(np.array(f['num_wavenumbers'])-1))\n",
    "    print(N, type(N))\n",
    "    N_ref = int(np.array(f['N_ref']))\n",
    "    \n",
    "    try:\n",
    "        u_ref = np.array(f['u_reference'], dtype=FTYPE)\n",
    "        v_ref = np.array(f['v_reference'], dtype=FTYPE)\n",
    "    except:\n",
    "        uh = np.empty(shape=(len(t_recorded_samples), 2*N+1, 2*N+1), dtype=np.complex128)\n",
    "        uh[:, :, N:] = np.array(f['uh'])\n",
    "        uh[:, 0:N, 0:N] = np.conjugate(uh[:, N+1:, N+1:][:, ::-1, ::-1])\n",
    "        uh[:, N+1:, 0:N] = np.conjugate(uh[:, 0:N, N+1:][:, ::-1, ::-1])\n",
    "\n",
    "        vh = np.empty(shape=(len(t_recorded_samples), 2*N+1, 2*N+1), dtype=np.complex128)\n",
    "        vh[:, :, N:] = np.array(f['vh'])\n",
    "        vh[:, 0:N, 0:N] = np.conjugate(vh[:, N+1:, N+1:][:, ::-1, ::-1])\n",
    "        vh[:, N+1:, 0:N] = np.conjugate(vh[:, 0:N, N+1:][:, ::-1, ::-1])\n",
    "\n",
    "        u_ref = np.fft.irfft2(np.fft.ifftshift(uh), s=(N_ref, N_ref))\n",
    "        del(uh)\n",
    "        v_ref = np.fft.irfft2(np.fft.ifftshift(vh), s=(N_ref, N_ref))\n",
    "        del(vh)"
   ]
  },
  {
   "cell_type": "code",
   "execution_count": 13,
   "metadata": {},
   "outputs": [],
   "source": [
    "all_data = np.empty(shape=(u_ref.shape[0], 2, u_ref.shape[1], u_ref.shape[2]), dtype=FTYPE)\n",
    "all_data[:, 0, :, :] = u_ref\n",
    "del(u_ref)\n",
    "all_data[:, 1, :, :] = v_ref\n",
    "del(v_ref)"
   ]
  },
  {
   "cell_type": "code",
   "execution_count": null,
   "metadata": {
    "executionInfo": {
     "elapsed": 2,
     "status": "ok",
     "timestamp": 1666788668916,
     "user": {
      "displayName": "Rohan Kaushik",
      "userId": "13918477614376051685"
     },
     "user_tz": -120
    },
    "id": "O7sl7i5H5Dqz"
   },
   "outputs": [],
   "source": []
  },
  {
   "cell_type": "code",
   "execution_count": null,
   "metadata": {
    "colab": {
     "base_uri": "https://localhost:8080/",
     "height": 1000
    },
    "executionInfo": {
     "elapsed": 2415,
     "status": "ok",
     "timestamp": 1666788671329,
     "user": {
      "displayName": "Rohan Kaushik",
      "userId": "13918477614376051685"
     },
     "user_tz": -120
    },
    "id": "ySVDz_2U5FH5",
    "outputId": "53f23b1d-fa61-4f27-bbc4-2e624421a866"
   },
   "outputs": [],
   "source": []
  },
  {
   "cell_type": "code",
   "execution_count": 14,
   "metadata": {
    "executionInfo": {
     "elapsed": 11,
     "status": "ok",
     "timestamp": 1666788671330,
     "user": {
      "displayName": "Rohan Kaushik",
      "userId": "13918477614376051685"
     },
     "user_tz": -120
    },
    "id": "bkQx9q_p5Gro"
   },
   "outputs": [],
   "source": [
    "# dealing with normalizing the data before feeding into autoencoder\n",
    "if behaviour == 'initialiseAndTrainFromScratch':\n",
    "    # normalize data before feeding into autoencoder?\n",
    "    normalizeforae_flag = True\n",
    "    normalization_type = 'stddev' # could be 'stddev' or 'minmax'\n",
    "    stddev_multiplier = 3\n",
    "    \n",
    "    normalization_constant_arr_aedata = None\n",
    "    if normalizeforae_flag == True:\n",
    "        normalization_constant_arr_aedata = np.empty(shape=(2,) + tuple(all_data.shape[1:]), dtype=FTYPE)\n",
    "        if normalization_type == 'stddev':\n",
    "            normalization_constant_arr_aedata[0] = np.mean(all_data, axis=0)\n",
    "            normalization_constant_arr_aedata[1] = stddev_multiplier * np.std(all_data, axis=0)\n",
    "        elif normalization_type == 'minmax':\n",
    "            sample_min = all_data.min(axis=0)\n",
    "            sample_max = all_data.max(axis=0)\n",
    "            idx = np.where(sample_min == sample_max)\n",
    "            if len(idx) > 0:\n",
    "                num_elems = len(idx[0])\n",
    "                for i in range(num_elems):\n",
    "                    i0 = idx[0][i]\n",
    "                    i1 = idx[1][i]\n",
    "                    i2 = idx[2][i]\n",
    "                    sample_min[i0, i1, i2] -= 0.5\n",
    "                    sample_max[i0, i1, i2] = sample_min[i0, i1, i2] + 1.\n",
    "            normalization_constant_arr_aedata[0] = sample_min\n",
    "            normalization_constant_arr_aedata[1] = sample_max - sample_min\n",
    "        all_data -= normalization_constant_arr_aedata[0]\n",
    "        all_data /= normalization_constant_arr_aedata[1]\n",
    "            \n",
    "    # saving sim data\n",
    "    ae_data = {\n",
    "        'data_dir_idx':data_dir_idx,\n",
    "        'normalizeforae_flag':normalizeforae_flag,\n",
    "        # 'normalization_constant_arr_aedata':normalization_constant_arr_aedata,\n",
    "        'normalization_type':normalization_type,\n",
    "        'stddev_multiplier':stddev_multiplier,\n",
    "        'ae_data_with_params':False,\n",
    "        'module':Autoencoder.__module__,\n",
    "    }\n",
    "    with open(dir_name_ae+dir_sep+'ae_data.txt', 'w') as f:\n",
    "        f.write(str(ae_data))\n",
    "    np.savez(\n",
    "        dir_name_ae+dir_sep+'normalization_data',\n",
    "        normalization_constant_arr_aedata=[normalization_constant_arr_aedata],\n",
    "    )\n",
    "else:\n",
    "    if normalizeforae_flag == True:\n",
    "        all_data -= normalization_constant_arr_aedata[0]\n",
    "        all_data /= normalization_constant_arr_aedata[1]\n",
    "            \n",
    "time_stddev = np.std(all_data, axis=0)"
   ]
  },
  {
   "cell_type": "code",
   "execution_count": 15,
   "metadata": {
    "colab": {
     "base_uri": "https://localhost:8080/",
     "height": 1000
    },
    "executionInfo": {
     "elapsed": 1020,
     "status": "ok",
     "timestamp": 1666788672340,
     "user": {
      "displayName": "Rohan Kaushik",
      "userId": "13918477614376051685"
     },
     "user_tz": -120
    },
    "id": "uDhfYHU45IS8",
    "outputId": "982f534f-255c-41b9-f40a-327730ac89ae"
   },
   "outputs": [],
   "source": [
    "# all_data = all_data[::4]"
   ]
  },
  {
   "cell_type": "code",
   "execution_count": null,
   "metadata": {
    "executionInfo": {
     "elapsed": 13,
     "status": "ok",
     "timestamp": 1666788672341,
     "user": {
      "displayName": "Rohan Kaushik",
      "userId": "13918477614376051685"
     },
     "user_tz": -120
    },
    "id": "59kkrSP1GvzO"
   },
   "outputs": [],
   "source": []
  },
  {
   "cell_type": "code",
   "execution_count": null,
   "metadata": {
    "executionInfo": {
     "elapsed": 11,
     "status": "ok",
     "timestamp": 1666788672342,
     "user": {
      "displayName": "Rohan Kaushik",
      "userId": "13918477614376051685"
     },
     "user_tz": -120
    },
    "id": "-MJa7P5t5KiC",
    "scrolled": false
   },
   "outputs": [],
   "source": []
  },
  {
   "cell_type": "markdown",
   "metadata": {
    "id": "1v6KQEjR5LkK"
   },
   "source": [
    "# Autoencoder"
   ]
  },
  {
   "cell_type": "code",
   "execution_count": 16,
   "metadata": {
    "executionInfo": {
     "elapsed": 432,
     "status": "ok",
     "timestamp": 1666788672765,
     "user": {
      "displayName": "Rohan Kaushik",
      "userId": "13918477614376051685"
     },
     "user_tz": -120
    },
    "id": "c5cjQ1lnjcwt"
   },
   "outputs": [],
   "source": [
    "# setting up training params\n",
    "if behaviour == 'initialiseAndTrainFromScratch':\n",
    "    learning_rate_list = [1e-3, 1e-4, 1e-5]\n",
    "    epochs = 200\n",
    "    patience = 10  # parameter for early stopping\n",
    "    min_delta = 1e-6  # parameter for early stopping\n",
    "    lambda_reg = 5e-7 # weight for regularizer\n",
    "    train_split = 0.8\n",
    "    val_split = 0.1\n",
    "    test_split = 1 - train_split - val_split\n",
    "    batch_size = 16\n",
    "    fRMS = 2/100\n",
    "    timeMeanofSpaceRMS = np.mean(np.mean(all_data**2, axis=1)**0.5)\n",
    "    \n",
    "    # stddev = fRMS*timeMeanofSpaceRMS\n",
    "    stddev = fRMS * np.mean(time_stddev)\n",
    "    use_weights_post_dense = False\n",
    "    use_batch_norm = True\n",
    "\n",
    "    # saving training params\n",
    "    training_specific_params = {\n",
    "        'learning_rate_list':learning_rate_list,\n",
    "        'epochs':epochs,\n",
    "        'patience':patience,\n",
    "        'min_delta':min_delta,\n",
    "        'prng_seed':prng_seed,\n",
    "        'train_split':train_split,\n",
    "        'val_split':val_split,\n",
    "        'batch_size':batch_size,\n",
    "        'fRMS':fRMS,\n",
    "        'timeMeanofSpaceRMS':timeMeanofSpaceRMS,\n",
    "        'stddev':stddev,\n",
    "        'use_batch_norm':use_batch_norm,\n",
    "    }\n",
    "\n",
    "    with open(dir_name_ae+dir_sep+'training_specific_params.txt', 'w') as f:\n",
    "        f.write(str(training_specific_params))\n",
    "else:\n",
    "    with open(dir_name_ae + dir_sep + 'training_specific_params.txt') as f:\n",
    "        lines = f.readlines()\n",
    "\n",
    "    tparams_dict = eval(''.join(lines))\n",
    "\n",
    "    learning_rate_list = tparams_dict['learning_rate_list']\n",
    "    epochs = tparams_dict['epochs']\n",
    "    patience = tparams_dict['patience']\n",
    "    min_delta = tparams_dict['min_delta']\n",
    "    prng_seed = tparams_dict['prng_seed']\n",
    "    train_split = tparams_dict['train_split']\n",
    "    val_split = tparams_dict['val_split']\n",
    "    batch_size = tparams_dict['batch_size']\n",
    "    try:\n",
    "        stddev = tparams_dict['stddev']\n",
    "    except:\n",
    "        print(\"'stddev' not in tparams_dict, set to 0\")\n",
    "        stddev = 0.0\n",
    "\n",
    "    test_split = 1 - train_split - val_split\n",
    "\n",
    "    # setting seed for PRNGs\n",
    "    np.random.seed(prng_seed)\n",
    "    tf.random.set_seed(prng_seed)"
   ]
  },
  {
   "cell_type": "code",
   "execution_count": null,
   "metadata": {
    "executionInfo": {
     "elapsed": 22,
     "status": "ok",
     "timestamp": 1666788672769,
     "user": {
      "displayName": "Rohan Kaushik",
      "userId": "13918477614376051685"
     },
     "user_tz": -120
    },
    "id": "lovTI3zuhlX0"
   },
   "outputs": [],
   "source": []
  },
  {
   "cell_type": "code",
   "execution_count": 17,
   "metadata": {
    "executionInfo": {
     "elapsed": 22,
     "status": "ok",
     "timestamp": 1666788672770,
     "user": {
      "displayName": "Rohan Kaushik",
      "userId": "13918477614376051685"
     },
     "user_tz": -120
    },
    "id": "IjsRi02g5ORG"
   },
   "outputs": [],
   "source": [
    "# # setting up data\n",
    "# idx = np.arange(all_data.shape[0])\n",
    "# np.random.shuffle(idx)\n",
    "# boundary = int(np.round((1-test_split)*all_data.shape[0]))\n",
    "# training_data = all_data[idx[0:boundary], :]\n",
    "# testing_data = all_data[idx[boundary:], :]"
   ]
  },
  {
   "cell_type": "code",
   "execution_count": 18,
   "metadata": {
    "executionInfo": {
     "elapsed": 21,
     "status": "ok",
     "timestamp": 1666788672771,
     "user": {
      "displayName": "Rohan Kaushik",
      "userId": "13918477614376051685"
     },
     "user_tz": -120
    },
    "id": "Qwietg7eTG-s"
   },
   "outputs": [],
   "source": [
    "num_train = int(all_data.shape[0]*train_split)\n",
    "num_val = int(all_data.shape[0]*val_split)\n",
    "num_test = all_data.shape[0] - num_train - num_val\n",
    "\n",
    "idx = np.arange(all_data.shape[0])\n",
    "np.random.shuffle(idx)\n",
    "\n",
    "training_data = np.empty(shape=(num_train, ) + tuple(all_data.shape[1:]), dtype=FTYPE)\n",
    "val_data = np.empty(shape=(num_val, ) + tuple(all_data.shape[1:]), dtype=FTYPE)\n",
    "testing_data = np.empty(shape=(num_test, ) + tuple(all_data.shape[1:]), dtype=FTYPE)\n",
    "\n",
    "training_data[:] = all_data[idx[0:num_train]]\n",
    "val_data[:] = all_data[idx[num_train:num_train+num_val]]\n",
    "testing_data[:] = all_data[idx[num_train+num_val:]]"
   ]
  },
  {
   "cell_type": "code",
   "execution_count": 19,
   "metadata": {
    "executionInfo": {
     "elapsed": 21,
     "status": "ok",
     "timestamp": 1666788672772,
     "user": {
      "displayName": "Rohan Kaushik",
      "userId": "13918477614376051685"
     },
     "user_tz": -120
    },
    "id": "gJ-28EnzJ4Ur"
   },
   "outputs": [],
   "source": [
    "del(all_data)"
   ]
  },
  {
   "cell_type": "code",
   "execution_count": null,
   "metadata": {
    "executionInfo": {
     "elapsed": 20,
     "status": "ok",
     "timestamp": 1666788672773,
     "user": {
      "displayName": "Rohan Kaushik",
      "userId": "13918477614376051685"
     },
     "user_tz": -120
    },
    "id": "7xTsmS7lgpps"
   },
   "outputs": [],
   "source": []
  },
  {
   "cell_type": "code",
   "execution_count": 20,
   "metadata": {
    "executionInfo": {
     "elapsed": 1626,
     "status": "ok",
     "timestamp": 1666788674381,
     "user": {
      "displayName": "Rohan Kaushik",
      "userId": "13918477614376051685"
     },
     "user_tz": -120
    },
    "id": "7l5kI1tfMszJ"
   },
   "outputs": [
    {
     "name": "stdout",
     "output_type": "stream",
     "text": [
      "enc_elem_spatial_dims :  [[TensorShape([50, 50]), (24, 24), (12, 12), (6, 6), (3, 3), (3, 3)], [TensorShape([50, 50]), (24, 24), (12, 12), (6, 6), (3, 3), (3, 3)], [TensorShape([50, 50]), (24, 24), (12, 12), (6, 6), (3, 3), (3, 3)]]\n",
      "dec_elem_spatial_dims :  [[TensorShape([3, 3])], [TensorShape([3, 3])], [TensorShape([3, 3])]]\n"
     ]
    },
    {
     "name": "stderr",
     "output_type": "stream",
     "text": [
      "2023-06-16 01:51:22.742668: I tensorflow/stream_executor/cuda/cuda_dnn.cc:368] Loaded cuDNN version 8401\n"
     ]
    }
   ],
   "source": [
    "# Initialize network\n",
    "if behaviour == 'initialiseAndTrainFromScratch':\n",
    "    enc_filters = [8, 16, 32, 10, 5] # [8, 3, 1]\n",
    "    enc_strides = [2, 2, 2, 2, 1] # [2, 1, 1]\n",
    "    enc_attn_placement = [1, 2, 3]\n",
    "    dec_filters = [10, 32, 16, 8, 2]# [3, 8, 2]\n",
    "    dec_strides = [1, 2, 2, 2, 2] # [1, 1, 2]\n",
    "    dec_attn_placement = [0, 1]\n",
    "    kernel_size = [3, 5, 7]\n",
    "    ls_dim = 0\n",
    "    \n",
    "    enc_layer_act_func = 'elu'\n",
    "    enc_final_layer_act_func = 'tanh'\n",
    "    dec_layer_act_func = 'elu'\n",
    "    dec_final_layer_act_func = 'tanh'\n",
    "    reg_name = 'L2'\n",
    "    \n",
    "    use_periodic_padding = True\n",
    "    use_attention_module = True\n",
    "    \n",
    "    if strategy is not None:\n",
    "        with strategy.scope():\n",
    "            ae_net = Autoencoder(\n",
    "                data_dim=training_data.shape[1:],\n",
    "                kernel_size=kernel_size,\n",
    "                enc_filters=enc_filters, # number of filters\n",
    "                dec_filters=dec_filters, # number of filters\n",
    "                lambda_reg=lambda_reg,\n",
    "                reg_name=reg_name,\n",
    "                enc_layer_act_func=enc_layer_act_func,\n",
    "                enc_final_layer_act_func=enc_final_layer_act_func,\n",
    "                dec_layer_act_func=dec_layer_act_func,\n",
    "                dec_final_layer_act_func=dec_final_layer_act_func,\n",
    "                load_file=None,\n",
    "                stddev=stddev,\n",
    "                use_weights_post_dense=use_weights_post_dense,\n",
    "                use_batch_norm=use_batch_norm,\n",
    "                use_periodic_padding=use_periodic_padding,\n",
    "                use_attention_module=use_attention_module,\n",
    "                enc_strides=enc_strides,\n",
    "                enc_attn_placement=enc_attn_placement,\n",
    "                dec_strides=dec_strides,\n",
    "                dec_attn_placement=dec_attn_placement,\n",
    "                ls_dim=ls_dim,)\n",
    "    else:\n",
    "        ae_net = Autoencoder(\n",
    "            data_dim=training_data.shape[1:],\n",
    "            kernel_size=kernel_size,\n",
    "            enc_filters=enc_filters, # number of filters\n",
    "            dec_filters=dec_filters, # number of filters\n",
    "            lambda_reg=lambda_reg,\n",
    "            reg_name=reg_name,\n",
    "            enc_layer_act_func=enc_layer_act_func,\n",
    "            enc_final_layer_act_func=enc_final_layer_act_func,\n",
    "            dec_layer_act_func=dec_layer_act_func,\n",
    "            dec_final_layer_act_func=dec_final_layer_act_func,\n",
    "            load_file=None,\n",
    "            stddev=stddev,\n",
    "            use_weights_post_dense=use_weights_post_dense,\n",
    "            use_batch_norm=use_batch_norm,\n",
    "            use_periodic_padding=use_periodic_padding,\n",
    "            use_attention_module=use_attention_module,\n",
    "            enc_strides=enc_strides,\n",
    "            enc_attn_placement=enc_attn_placement,\n",
    "            dec_strides=dec_strides,\n",
    "            dec_attn_placement=dec_attn_placement,\n",
    "            ls_dim=ls_dim,)\n",
    "    # saving the AE configuration\n",
    "    save_path = dir_name_ae+dir_sep+'final_net'\n",
    "    if not os.path.isdir(save_path):\n",
    "        os.makedirs(save_path)\n",
    "    ae_net.save_class_dict(save_path+dir_sep+'final_net_class_dict.txt')\n",
    "else:\n",
    "    load_file = dir_name_ae + dir_sep + 'final_net' + dir_sep + 'final_net_class_dict.txt'\n",
    "    if strategy is not None:\n",
    "        with strategy.scope():\n",
    "            ae_net = Autoencoder(data_dim=training_data.shape[1:], load_file=load_file)\n",
    "    else:\n",
    "        ae_net = Autoencoder(data_dim=training_data.shape[1:], load_file=load_file)\n",
    "    \n",
    "    if behaviour == 'loadCheckpointAndContinueTraining':\n",
    "        wt_file = tf.train.latest_checkpoint(dir_name_ae+dir_sep+'checkpoints')\n",
    "        # ae_net.load_weights(wt_file)\n",
    "    elif behaviour == 'loadFinalNetAndPlot':\n",
    "        wt_file = dir_name_ae+dir_sep+'final_net'+dir_sep+'final_net_ae_weights.h5'\n",
    "        ae_net.load_weights_from_file(wt_file)"
   ]
  },
  {
   "cell_type": "code",
   "execution_count": null,
   "metadata": {
    "executionInfo": {
     "elapsed": 259,
     "status": "ok",
     "timestamp": 1666788674637,
     "user": {
      "displayName": "Rohan Kaushik",
      "userId": "13918477614376051685"
     },
     "user_tz": -120
    },
    "id": "48tkgZxT0Amt"
   },
   "outputs": [],
   "source": []
  },
  {
   "cell_type": "code",
   "execution_count": 21,
   "metadata": {
    "executionInfo": {
     "elapsed": 322,
     "status": "ok",
     "timestamp": 1666788674956,
     "user": {
      "displayName": "Rohan Kaushik",
      "userId": "13918477614376051685"
     },
     "user_tz": -120
    },
    "id": "yUChBAKqIFtX"
   },
   "outputs": [],
   "source": [
    "if behaviour == 'initialiseAndTrainFromScratch':\n",
    "    val_loss_hist = []\n",
    "    train_loss_hist = []\n",
    "    lr_change=[0, 0]\n",
    "    savelosses_cb_vallossarr = np.ones(shape=epochs*len(learning_rate_list))*np.NaN\n",
    "    savelosses_cb_trainlossarr = np.ones(shape=epochs*len(learning_rate_list))*np.NaN\n",
    "    starting_lr_idx = 0\n",
    "    num_epochs_left = epochs\n",
    "elif behaviour == 'loadCheckpointAndContinueTraining':\n",
    "    val_loss_hist, train_loss_hist, lr_change, starting_lr_idx, num_epochs_left, val_loss_arr_fromckpt, train_loss_arr_fromckpt = readAndReturnLossHistories(\n",
    "        dir_name_ae=dir_name_ae,\n",
    "        dir_sep=dir_sep,\n",
    "        epochs=epochs,\n",
    "        learning_rate_list=learning_rate_list)\n",
    "    savelosses_cb_vallossarr = val_loss_arr_fromckpt\n",
    "    savelosses_cb_trainlossarr = train_loss_arr_fromckpt\n",
    "elif behaviour == 'loadFinalNetAndPlot':\n",
    "    with open(dir_name_ae+'{ds}final_net{ds}losses.txt'.format(ds=dir_sep), 'r') as f:\n",
    "        lines = f.readlines()\n",
    "    \n",
    "    losses_dict = eval(''.join(lines))\n",
    "\n",
    "    val_loss_hist = losses_dict['val_loss_hist']\n",
    "    train_loss_hist = losses_dict['train_loss_hist']\n",
    "    lr_change = losses_dict['lr_change']\n",
    "    test_loss = losses_dict['test_loss']"
   ]
  },
  {
   "cell_type": "code",
   "execution_count": 22,
   "metadata": {},
   "outputs": [],
   "source": [
    "train_MSE_hist = []\n",
    "val_MSE_hist = []\n",
    "\n",
    "train_NMSE_hist = []\n",
    "val_NMSE_hist = []\n",
    "\n",
    "if use_attention_module == True:\n",
    "    encoder_attention_lambdas = {}\n",
    "    decoder_attention_lambdas = {}\n",
    "    for ks_i in range(len(ae_net.kernel_size)):\n",
    "        for i in range(len(ae_net.encoder_attention_modules_list[ks_i])):\n",
    "            # l = ae_net.encoder_attention_modules_list[i]\n",
    "            encoder_attention_lambdas['{}__encoder_attention_module_{}_lambda'.format(ks_i, i)] = [0]\n",
    "        for i in range(len(ae_net.decoder_attention_modules_list[ks_i])):\n",
    "            # l = ae_net.decoder_attention_modules_list[i]\n",
    "            decoder_attention_lambdas['{}__decoder_attention_module_{}_lambda'.format(ks_i, i)] = [0]"
   ]
  },
  {
   "cell_type": "code",
   "execution_count": 23,
   "metadata": {
    "executionInfo": {
     "elapsed": 5,
     "status": "ok",
     "timestamp": 1666788674957,
     "user": {
      "displayName": "Rohan Kaushik",
      "userId": "13918477614376051685"
     },
     "user_tz": -120
    },
    "id": "Z0oEGp6WKGu2"
   },
   "outputs": [],
   "source": [
    "class NMSE(tf.keras.metrics.MeanSquaredError):\n",
    "    def __init__(self, divisor_arr, name='NMSE', **kwargs):\n",
    "        super(NMSE, self).__init__(name, **kwargs)\n",
    "        self.divisor_arr = divisor_arr\n",
    "\n",
    "    def update_state(self, y_true, y_pred, sample_weight=None):\n",
    "        y_true = y_true / self.divisor_arr\n",
    "        y_pred = y_pred / self.divisor_arr\n",
    "        return super(NMSE, self).update_state(y_true, y_pred, sample_weight)"
   ]
  },
  {
   "cell_type": "code",
   "execution_count": 24,
   "metadata": {},
   "outputs": [],
   "source": [
    "if strategy is not None:\n",
    "    with strategy.scope():\n",
    "        NMSE_metric = NMSE(divisor_arr=tf.constant(time_stddev))\n",
    "else:\n",
    "    NMSE_metric = NMSE(divisor_arr=tf.constant(time_stddev))"
   ]
  },
  {
   "cell_type": "code",
   "execution_count": 25,
   "metadata": {
    "colab": {
     "base_uri": "https://localhost:8080/"
    },
    "executionInfo": {
     "elapsed": 191278,
     "status": "ok",
     "timestamp": 1666788866231,
     "user": {
      "displayName": "Rohan Kaushik",
      "userId": "13918477614376051685"
     },
     "user_tz": -120
    },
    "id": "gELga1WnQeMK",
    "outputId": "e923a97a-2d9d-4c74-c328-4793de05b919",
    "scrolled": true
   },
   "outputs": [
    {
     "name": "stdout",
     "output_type": "stream",
     "text": [
      "WARNING:tensorflow:`period` argument is deprecated. Please use `save_freq` to specify the frequency in number of batches seen.\n",
      "\n",
      "\n",
      "--------------------------------------------------------------------------------\n",
      "\n",
      "---------------------------- LEARNING RATE : 0.001 -----------------------------\n",
      "\n",
      "--------------------------------------------------------------------------------\n",
      "\n",
      "\n",
      "Epoch 1/200\n",
      "1250/1250 [==============================] - ETA: 0s - loss: 0.0120 - mse: 0.0118 - NMSE: 0.1064 - 0__encoder_attention_module_0_lambda: 0.0335 - 0__encoder_attention_module_1_lambda: 0.0502 - 0__encoder_attention_module_2_lambda: 0.0120 - 0__decoder_attention_module_0_lambda: 0.0698 - 0__decoder_attention_module_1_lambda: -0.1221 - 1__encoder_attention_module_0_lambda: 0.0717 - 1__encoder_attention_module_1_lambda: 0.0248 - 1__encoder_attention_module_2_lambda: 0.0278 - 1__decoder_attention_module_0_lambda: 0.0187 - 1__decoder_attention_module_1_lambda: -0.0936 - 2__encoder_attention_module_0_lambda: -0.0664 - 2__encoder_attention_module_1_lambda: -0.0446 - 2__encoder_attention_module_2_lambda: -0.0202 - 2__decoder_attention_module_0_lambda: 0.0296 - 2__decoder_attention_module_1_lambda: 0.1260 - 0__encoded_vec_wt: 0.3010 - 1__encoded_vec_wt: 0.3418 - 2__encoded_vec_wt: 0.3575 - 0__decoded_vec_wt: 0.2488 - 1__decoded_vec_wt: 0.3654 - 2__decoded_vec_wt: 0.3281 - tot_time: 0h 1m 16.4s\n",
      "\n",
      "Epoch 1: val_NMSE improved from inf to 0.04214, saving model to /home/rkaushik/Documents/Thesis/MLROM/Kolmogorov/saved_ae/ae_053/checkpoints/checkpoint\n",
      " - saving loss histories at /home/rkaushik/Documents/Thesis/MLROM/Kolmogorov/saved_ae/ae_053/checkpoints/LossHistoriesCheckpoint\n",
      "1250/1250 [==============================] - 76s 53ms/step - loss: 0.0120 - mse: 0.0118 - NMSE: 0.1064 - 0__encoder_attention_module_0_lambda: 0.0336 - 0__encoder_attention_module_1_lambda: 0.0503 - 0__encoder_attention_module_2_lambda: 0.0120 - 0__decoder_attention_module_0_lambda: 0.0699 - 0__decoder_attention_module_1_lambda: -0.1221 - 1__encoder_attention_module_0_lambda: 0.0717 - 1__encoder_attention_module_1_lambda: 0.0248 - 1__encoder_attention_module_2_lambda: 0.0278 - 1__decoder_attention_module_0_lambda: 0.0187 - 1__decoder_attention_module_1_lambda: -0.0936 - 2__encoder_attention_module_0_lambda: -0.0665 - 2__encoder_attention_module_1_lambda: -0.0446 - 2__encoder_attention_module_2_lambda: -0.0202 - 2__decoder_attention_module_0_lambda: 0.0296 - 2__decoder_attention_module_1_lambda: 0.1260 - 0__encoded_vec_wt: 0.3010 - 1__encoded_vec_wt: 0.3418 - 2__encoded_vec_wt: 0.3575 - 0__decoded_vec_wt: 0.2488 - 1__decoded_vec_wt: 0.3654 - 2__decoded_vec_wt: 0.3281 - val_loss: 0.0049 - val_mse: 0.0047 - val_NMSE: 0.0421\n",
      "Epoch 2/200\n",
      "1249/1250 [============================>.] - ETA: 0s - loss: 0.0043 - mse: 0.0041 - NMSE: 0.0370 - 0__encoder_attention_module_0_lambda: 0.1007 - 0__encoder_attention_module_1_lambda: 0.0587 - 0__encoder_attention_module_2_lambda: 0.0199 - 0__decoder_attention_module_0_lambda: 0.0720 - 0__decoder_attention_module_1_lambda: -0.1441 - 1__encoder_attention_module_0_lambda: 0.1119 - 1__encoder_attention_module_1_lambda: 0.0372 - 1__encoder_attention_module_2_lambda: 0.0321 - 1__decoder_attention_module_0_lambda: 0.0227 - 1__decoder_attention_module_1_lambda: -0.1493 - 2__encoder_attention_module_0_lambda: -0.1185 - 2__encoder_attention_module_1_lambda: -0.0600 - 2__encoder_attention_module_2_lambda: -0.0129 - 2__decoder_attention_module_0_lambda: 0.0360 - 2__decoder_attention_module_1_lambda: 0.1903 - 0__encoded_vec_wt: 0.2812 - 1__encoded_vec_wt: 0.3426 - 2__encoded_vec_wt: 0.3678 - 0__decoded_vec_wt: 0.1881 - 1__decoded_vec_wt: 0.4376 - 2__decoded_vec_wt: 0.3672 - tot_time: 0h 2m 20.4s\n",
      "\n",
      "Epoch 2: val_NMSE improved from 0.04214 to 0.03445, saving model to /home/rkaushik/Documents/Thesis/MLROM/Kolmogorov/saved_ae/ae_053/checkpoints/checkpoint\n",
      " - saving loss histories at /home/rkaushik/Documents/Thesis/MLROM/Kolmogorov/saved_ae/ae_053/checkpoints/LossHistoriesCheckpoint\n",
      "1250/1250 [==============================] - 64s 51ms/step - loss: 0.0043 - mse: 0.0041 - NMSE: 0.0370 - 0__encoder_attention_module_0_lambda: 0.1007 - 0__encoder_attention_module_1_lambda: 0.0587 - 0__encoder_attention_module_2_lambda: 0.0199 - 0__decoder_attention_module_0_lambda: 0.0720 - 0__decoder_attention_module_1_lambda: -0.1441 - 1__encoder_attention_module_0_lambda: 0.1119 - 1__encoder_attention_module_1_lambda: 0.0372 - 1__encoder_attention_module_2_lambda: 0.0321 - 1__decoder_attention_module_0_lambda: 0.0228 - 1__decoder_attention_module_1_lambda: -0.1493 - 2__encoder_attention_module_0_lambda: -0.1185 - 2__encoder_attention_module_1_lambda: -0.0600 - 2__encoder_attention_module_2_lambda: -0.0129 - 2__decoder_attention_module_0_lambda: 0.0360 - 2__decoder_attention_module_1_lambda: 0.1903 - 0__encoded_vec_wt: 0.2812 - 1__encoded_vec_wt: 0.3426 - 2__encoded_vec_wt: 0.3678 - 0__decoded_vec_wt: 0.1881 - 1__decoded_vec_wt: 0.4376 - 2__decoded_vec_wt: 0.3672 - val_loss: 0.0040 - val_mse: 0.0038 - val_NMSE: 0.0344\n",
      "Epoch 3/200\n",
      "1250/1250 [==============================] - ETA: 0s - loss: 0.0033 - mse: 0.0031 - NMSE: 0.0277 - 0__encoder_attention_module_0_lambda: 0.1212 - 0__encoder_attention_module_1_lambda: 0.0584 - 0__encoder_attention_module_2_lambda: 0.0290 - 0__decoder_attention_module_0_lambda: 0.0606 - 0__decoder_attention_module_1_lambda: -0.1481 - 1__encoder_attention_module_0_lambda: 0.1185 - 1__encoder_attention_module_1_lambda: 0.0411 - 1__encoder_attention_module_2_lambda: 0.0331 - 1__decoder_attention_module_0_lambda: 0.0353 - 1__decoder_attention_module_1_lambda: -0.1788 - 2__encoder_attention_module_0_lambda: -0.1323 - 2__encoder_attention_module_1_lambda: -0.0599 - 2__encoder_attention_module_2_lambda: -0.0140 - 2__decoder_attention_module_0_lambda: 0.0365 - 2__decoder_attention_module_1_lambda: 0.2234 - 0__encoded_vec_wt: 0.2812 - 1__encoded_vec_wt: 0.3426 - 2__encoded_vec_wt: 0.3666 - 0__decoded_vec_wt: 0.1408 - 1__decoded_vec_wt: 0.4718 - 2__decoded_vec_wt: 0.4105 - tot_time: 0h 3m 26.1s\n",
      "\n",
      "Epoch 3: val_NMSE improved from 0.03445 to 0.02349, saving model to /home/rkaushik/Documents/Thesis/MLROM/Kolmogorov/saved_ae/ae_053/checkpoints/checkpoint\n",
      " - saving loss histories at /home/rkaushik/Documents/Thesis/MLROM/Kolmogorov/saved_ae/ae_053/checkpoints/LossHistoriesCheckpoint\n",
      "1250/1250 [==============================] - 66s 53ms/step - loss: 0.0033 - mse: 0.0031 - NMSE: 0.0277 - 0__encoder_attention_module_0_lambda: 0.1212 - 0__encoder_attention_module_1_lambda: 0.0584 - 0__encoder_attention_module_2_lambda: 0.0290 - 0__decoder_attention_module_0_lambda: 0.0606 - 0__decoder_attention_module_1_lambda: -0.1481 - 1__encoder_attention_module_0_lambda: 0.1185 - 1__encoder_attention_module_1_lambda: 0.0411 - 1__encoder_attention_module_2_lambda: 0.0331 - 1__decoder_attention_module_0_lambda: 0.0353 - 1__decoder_attention_module_1_lambda: -0.1788 - 2__encoder_attention_module_0_lambda: -0.1323 - 2__encoder_attention_module_1_lambda: -0.0599 - 2__encoder_attention_module_2_lambda: -0.0140 - 2__decoder_attention_module_0_lambda: 0.0365 - 2__decoder_attention_module_1_lambda: 0.2234 - 0__encoded_vec_wt: 0.2812 - 1__encoded_vec_wt: 0.3426 - 2__encoded_vec_wt: 0.3666 - 0__decoded_vec_wt: 0.1408 - 1__decoded_vec_wt: 0.4718 - 2__decoded_vec_wt: 0.4106 - val_loss: 0.0028 - val_mse: 0.0026 - val_NMSE: 0.0235\n",
      "Epoch 4/200\n",
      "1250/1250 [==============================] - ETA: 0s - loss: 0.0028 - mse: 0.0026 - NMSE: 0.0234 - 0__encoder_attention_module_0_lambda: 0.1294 - 0__encoder_attention_module_1_lambda: 0.0579 - 0__encoder_attention_module_2_lambda: 0.0450 - 0__decoder_attention_module_0_lambda: 0.0550 - 0__decoder_attention_module_1_lambda: -0.1551 - 1__encoder_attention_module_0_lambda: 0.1248 - 1__encoder_attention_module_1_lambda: 0.0438 - 1__encoder_attention_module_2_lambda: 0.0356 - 1__decoder_attention_module_0_lambda: 0.0483 - 1__decoder_attention_module_1_lambda: -0.2008 - 2__encoder_attention_module_0_lambda: -0.1408 - 2__encoder_attention_module_1_lambda: -0.0596 - 2__encoder_attention_module_2_lambda: -0.0164 - 2__decoder_attention_module_0_lambda: 0.0420 - 2__decoder_attention_module_1_lambda: 0.2503 - 0__encoded_vec_wt: 0.2829 - 1__encoded_vec_wt: 0.3446 - 2__encoded_vec_wt: 0.3633 - 0__decoded_vec_wt: 0.1130 - 1__decoded_vec_wt: 0.5000 - 2__decoded_vec_wt: 0.4556 - tot_time: 0h 4m 32.3s\n",
      "\n",
      "Epoch 4: val_NMSE improved from 0.02349 to 0.02190, saving model to /home/rkaushik/Documents/Thesis/MLROM/Kolmogorov/saved_ae/ae_053/checkpoints/checkpoint\n",
      " - saving loss histories at /home/rkaushik/Documents/Thesis/MLROM/Kolmogorov/saved_ae/ae_053/checkpoints/LossHistoriesCheckpoint\n",
      "1250/1250 [==============================] - 66s 53ms/step - loss: 0.0028 - mse: 0.0026 - NMSE: 0.0234 - 0__encoder_attention_module_0_lambda: 0.1294 - 0__encoder_attention_module_1_lambda: 0.0579 - 0__encoder_attention_module_2_lambda: 0.0450 - 0__decoder_attention_module_0_lambda: 0.0550 - 0__decoder_attention_module_1_lambda: -0.1551 - 1__encoder_attention_module_0_lambda: 0.1248 - 1__encoder_attention_module_1_lambda: 0.0438 - 1__encoder_attention_module_2_lambda: 0.0356 - 1__decoder_attention_module_0_lambda: 0.0483 - 1__decoder_attention_module_1_lambda: -0.2008 - 2__encoder_attention_module_0_lambda: -0.1408 - 2__encoder_attention_module_1_lambda: -0.0596 - 2__encoder_attention_module_2_lambda: -0.0164 - 2__decoder_attention_module_0_lambda: 0.0420 - 2__decoder_attention_module_1_lambda: 0.2503 - 0__encoded_vec_wt: 0.2829 - 1__encoded_vec_wt: 0.3446 - 2__encoded_vec_wt: 0.3633 - 0__decoded_vec_wt: 0.1129 - 1__decoded_vec_wt: 0.5000 - 2__decoded_vec_wt: 0.4557 - val_loss: 0.0027 - val_mse: 0.0024 - val_NMSE: 0.0219\n",
      "Epoch 5/200\n",
      "1250/1250 [==============================] - ETA: 0s - loss: 0.0026 - mse: 0.0023 - NMSE: 0.0210 - 0__encoder_attention_module_0_lambda: 0.1295 - 0__encoder_attention_module_1_lambda: 0.0546 - 0__encoder_attention_module_2_lambda: 0.0510 - 0__decoder_attention_module_0_lambda: 0.0508 - 0__decoder_attention_module_1_lambda: -0.1611 - 1__encoder_attention_module_0_lambda: 0.1306 - 1__encoder_attention_module_1_lambda: 0.0457 - 1__encoder_attention_module_2_lambda: 0.0342 - 1__decoder_attention_module_0_lambda: 0.0575 - 1__decoder_attention_module_1_lambda: -0.2220 - 2__encoder_attention_module_0_lambda: -0.1470 - 2__encoder_attention_module_1_lambda: -0.0627 - 2__encoder_attention_module_2_lambda: -0.0204 - 2__decoder_attention_module_0_lambda: 0.0442 - 2__decoder_attention_module_1_lambda: 0.2713 - 0__encoded_vec_wt: 0.2858 - 1__encoded_vec_wt: 0.3467 - 2__encoded_vec_wt: 0.3593 - 0__decoded_vec_wt: 0.0963 - 1__decoded_vec_wt: 0.5238 - 2__decoded_vec_wt: 0.4938 - tot_time: 0h 5m 38.7s\n",
      "\n",
      "Epoch 5: val_NMSE improved from 0.02190 to 0.01950, saving model to /home/rkaushik/Documents/Thesis/MLROM/Kolmogorov/saved_ae/ae_053/checkpoints/checkpoint\n",
      " - saving loss histories at /home/rkaushik/Documents/Thesis/MLROM/Kolmogorov/saved_ae/ae_053/checkpoints/LossHistoriesCheckpoint\n",
      "1250/1250 [==============================] - 66s 53ms/step - loss: 0.0026 - mse: 0.0023 - NMSE: 0.0210 - 0__encoder_attention_module_0_lambda: 0.1295 - 0__encoder_attention_module_1_lambda: 0.0546 - 0__encoder_attention_module_2_lambda: 0.0510 - 0__decoder_attention_module_0_lambda: 0.0508 - 0__decoder_attention_module_1_lambda: -0.1611 - 1__encoder_attention_module_0_lambda: 0.1306 - 1__encoder_attention_module_1_lambda: 0.0457 - 1__encoder_attention_module_2_lambda: 0.0342 - 1__decoder_attention_module_0_lambda: 0.0575 - 1__decoder_attention_module_1_lambda: -0.2220 - 2__encoder_attention_module_0_lambda: -0.1470 - 2__encoder_attention_module_1_lambda: -0.0627 - 2__encoder_attention_module_2_lambda: -0.0204 - 2__decoder_attention_module_0_lambda: 0.0442 - 2__decoder_attention_module_1_lambda: 0.2713 - 0__encoded_vec_wt: 0.2858 - 1__encoded_vec_wt: 0.3467 - 2__encoded_vec_wt: 0.3593 - 0__decoded_vec_wt: 0.0963 - 1__decoded_vec_wt: 0.5238 - 2__decoded_vec_wt: 0.4938 - val_loss: 0.0024 - val_mse: 0.0022 - val_NMSE: 0.0195\n",
      "Epoch 6/200\n",
      "1250/1250 [==============================] - ETA: 0s - loss: 0.0024 - mse: 0.0022 - NMSE: 0.0196 - 0__encoder_attention_module_0_lambda: 0.1282 - 0__encoder_attention_module_1_lambda: 0.0530 - 0__encoder_attention_module_2_lambda: 0.0539 - 0__decoder_attention_module_0_lambda: 0.0577 - 0__decoder_attention_module_1_lambda: -0.1647 - 1__encoder_attention_module_0_lambda: 0.1377 - 1__encoder_attention_module_1_lambda: 0.0477 - 1__encoder_attention_module_2_lambda: 0.0336 - 1__decoder_attention_module_0_lambda: 0.0620 - 1__decoder_attention_module_1_lambda: -0.2399 - 2__encoder_attention_module_0_lambda: -0.1510 - 2__encoder_attention_module_1_lambda: -0.0642 - 2__encoder_attention_module_2_lambda: -0.0234 - 2__decoder_attention_module_0_lambda: 0.0473 - 2__decoder_attention_module_1_lambda: 0.2850 - 0__encoded_vec_wt: 0.2888 - 1__encoded_vec_wt: 0.3484 - 2__encoded_vec_wt: 0.3556 - 0__decoded_vec_wt: 0.0868 - 1__decoded_vec_wt: 0.5442 - 2__decoded_vec_wt: 0.5269 - tot_time: 0h 6m 44.6s\n",
      "\n",
      "Epoch 6: val_NMSE improved from 0.01950 to 0.01872, saving model to /home/rkaushik/Documents/Thesis/MLROM/Kolmogorov/saved_ae/ae_053/checkpoints/checkpoint\n",
      " - saving loss histories at /home/rkaushik/Documents/Thesis/MLROM/Kolmogorov/saved_ae/ae_053/checkpoints/LossHistoriesCheckpoint\n",
      "1250/1250 [==============================] - 66s 53ms/step - loss: 0.0024 - mse: 0.0022 - NMSE: 0.0196 - 0__encoder_attention_module_0_lambda: 0.1282 - 0__encoder_attention_module_1_lambda: 0.0530 - 0__encoder_attention_module_2_lambda: 0.0539 - 0__decoder_attention_module_0_lambda: 0.0577 - 0__decoder_attention_module_1_lambda: -0.1647 - 1__encoder_attention_module_0_lambda: 0.1377 - 1__encoder_attention_module_1_lambda: 0.0477 - 1__encoder_attention_module_2_lambda: 0.0336 - 1__decoder_attention_module_0_lambda: 0.0620 - 1__decoder_attention_module_1_lambda: -0.2399 - 2__encoder_attention_module_0_lambda: -0.1510 - 2__encoder_attention_module_1_lambda: -0.0642 - 2__encoder_attention_module_2_lambda: -0.0234 - 2__decoder_attention_module_0_lambda: 0.0473 - 2__decoder_attention_module_1_lambda: 0.2850 - 0__encoded_vec_wt: 0.2888 - 1__encoded_vec_wt: 0.3484 - 2__encoded_vec_wt: 0.3556 - 0__decoded_vec_wt: 0.0868 - 1__decoded_vec_wt: 0.5442 - 2__decoded_vec_wt: 0.5269 - val_loss: 0.0023 - val_mse: 0.0021 - val_NMSE: 0.0187\n",
      "Epoch 7/200\n",
      "1250/1250 [==============================] - ETA: 0s - loss: 0.0023 - mse: 0.0020 - NMSE: 0.0184 - 0__encoder_attention_module_0_lambda: 0.1257 - 0__encoder_attention_module_1_lambda: 0.0520 - 0__encoder_attention_module_2_lambda: 0.0537 - 0__decoder_attention_module_0_lambda: 0.0744 - 0__decoder_attention_module_1_lambda: -0.1667 - 1__encoder_attention_module_0_lambda: 0.1460 - 1__encoder_attention_module_1_lambda: 0.0507 - 1__encoder_attention_module_2_lambda: 0.0348 - 1__decoder_attention_module_0_lambda: 0.0685 - 1__decoder_attention_module_1_lambda: -0.2559 - 2__encoder_attention_module_0_lambda: -0.1587 - 2__encoder_attention_module_1_lambda: -0.0679 - 2__encoder_attention_module_2_lambda: -0.0261 - 2__decoder_attention_module_0_lambda: 0.0537 - 2__decoder_attention_module_1_lambda: 0.2953 - 0__encoded_vec_wt: 0.2936 - 1__encoded_vec_wt: 0.3497 - 2__encoded_vec_wt: 0.3510 - 0__decoded_vec_wt: 0.0806 - 1__decoded_vec_wt: 0.5620 - 2__decoded_vec_wt: 0.5546 - tot_time: 0h 7m 50.6s\n",
      "\n",
      "Epoch 7: val_NMSE improved from 0.01872 to 0.01798, saving model to /home/rkaushik/Documents/Thesis/MLROM/Kolmogorov/saved_ae/ae_053/checkpoints/checkpoint\n",
      " - saving loss histories at /home/rkaushik/Documents/Thesis/MLROM/Kolmogorov/saved_ae/ae_053/checkpoints/LossHistoriesCheckpoint\n",
      "1250/1250 [==============================] - 66s 53ms/step - loss: 0.0023 - mse: 0.0020 - NMSE: 0.0184 - 0__encoder_attention_module_0_lambda: 0.1257 - 0__encoder_attention_module_1_lambda: 0.0520 - 0__encoder_attention_module_2_lambda: 0.0537 - 0__decoder_attention_module_0_lambda: 0.0744 - 0__decoder_attention_module_1_lambda: -0.1668 - 1__encoder_attention_module_0_lambda: 0.1460 - 1__encoder_attention_module_1_lambda: 0.0507 - 1__encoder_attention_module_2_lambda: 0.0348 - 1__decoder_attention_module_0_lambda: 0.0685 - 1__decoder_attention_module_1_lambda: -0.2559 - 2__encoder_attention_module_0_lambda: -0.1587 - 2__encoder_attention_module_1_lambda: -0.0679 - 2__encoder_attention_module_2_lambda: -0.0261 - 2__decoder_attention_module_0_lambda: 0.0537 - 2__decoder_attention_module_1_lambda: 0.2953 - 0__encoded_vec_wt: 0.2936 - 1__encoded_vec_wt: 0.3497 - 2__encoded_vec_wt: 0.3510 - 0__decoded_vec_wt: 0.0806 - 1__decoded_vec_wt: 0.5620 - 2__decoded_vec_wt: 0.5546 - val_loss: 0.0022 - val_mse: 0.0020 - val_NMSE: 0.0180\n"
     ]
    },
    {
     "name": "stdout",
     "output_type": "stream",
     "text": [
      "Epoch 8/200\n",
      "1249/1250 [============================>.] - ETA: 0s - loss: 0.0022 - mse: 0.0020 - NMSE: 0.0178 - 0__encoder_attention_module_0_lambda: 0.1226 - 0__encoder_attention_module_1_lambda: 0.0511 - 0__encoder_attention_module_2_lambda: 0.0558 - 0__decoder_attention_module_0_lambda: 0.0917 - 0__decoder_attention_module_1_lambda: -0.1698 - 1__encoder_attention_module_0_lambda: 0.1532 - 1__encoder_attention_module_1_lambda: 0.0505 - 1__encoder_attention_module_2_lambda: 0.0362 - 1__decoder_attention_module_0_lambda: 0.0761 - 1__decoder_attention_module_1_lambda: -0.2714 - 2__encoder_attention_module_0_lambda: -0.1682 - 2__encoder_attention_module_1_lambda: -0.0723 - 2__encoder_attention_module_2_lambda: -0.0260 - 2__decoder_attention_module_0_lambda: 0.0583 - 2__decoder_attention_module_1_lambda: 0.3062 - 0__encoded_vec_wt: 0.2971 - 1__encoded_vec_wt: 0.3512 - 2__encoded_vec_wt: 0.3470 - 0__decoded_vec_wt: 0.0772 - 1__decoded_vec_wt: 0.5770 - 2__decoded_vec_wt: 0.5785 - tot_time: 0h 8m 56.2s\n",
      "\n",
      "Epoch 8: val_NMSE did not improve from 0.01798\n",
      " - saving loss histories at /home/rkaushik/Documents/Thesis/MLROM/Kolmogorov/saved_ae/ae_053/checkpoints/LossHistoriesCheckpoint\n",
      "1250/1250 [==============================] - 65s 52ms/step - loss: 0.0022 - mse: 0.0020 - NMSE: 0.0178 - 0__encoder_attention_module_0_lambda: 0.1226 - 0__encoder_attention_module_1_lambda: 0.0511 - 0__encoder_attention_module_2_lambda: 0.0558 - 0__decoder_attention_module_0_lambda: 0.0917 - 0__decoder_attention_module_1_lambda: -0.1698 - 1__encoder_attention_module_0_lambda: 0.1532 - 1__encoder_attention_module_1_lambda: 0.0505 - 1__encoder_attention_module_2_lambda: 0.0362 - 1__decoder_attention_module_0_lambda: 0.0761 - 1__decoder_attention_module_1_lambda: -0.2714 - 2__encoder_attention_module_0_lambda: -0.1682 - 2__encoder_attention_module_1_lambda: -0.0723 - 2__encoder_attention_module_2_lambda: -0.0260 - 2__decoder_attention_module_0_lambda: 0.0583 - 2__decoder_attention_module_1_lambda: 0.3062 - 0__encoded_vec_wt: 0.2971 - 1__encoded_vec_wt: 0.3512 - 2__encoded_vec_wt: 0.3470 - 0__decoded_vec_wt: 0.0772 - 1__decoded_vec_wt: 0.5770 - 2__decoded_vec_wt: 0.5785 - val_loss: 0.0023 - val_mse: 0.0021 - val_NMSE: 0.0187\n",
      "Epoch 9/200\n",
      "1250/1250 [==============================] - ETA: 0s - loss: 0.0021 - mse: 0.0019 - NMSE: 0.0170 - 0__encoder_attention_module_0_lambda: 0.1232 - 0__encoder_attention_module_1_lambda: 0.0518 - 0__encoder_attention_module_2_lambda: 0.0554 - 0__decoder_attention_module_0_lambda: 0.1102 - 0__decoder_attention_module_1_lambda: -0.1715 - 1__encoder_attention_module_0_lambda: 0.1602 - 1__encoder_attention_module_1_lambda: 0.0543 - 1__encoder_attention_module_2_lambda: 0.0376 - 1__decoder_attention_module_0_lambda: 0.0842 - 1__decoder_attention_module_1_lambda: -0.2852 - 2__encoder_attention_module_0_lambda: -0.1762 - 2__encoder_attention_module_1_lambda: -0.0763 - 2__encoder_attention_module_2_lambda: -0.0289 - 2__decoder_attention_module_0_lambda: 0.0643 - 2__decoder_attention_module_1_lambda: 0.3154 - 0__encoded_vec_wt: 0.3012 - 1__encoded_vec_wt: 0.3519 - 2__encoded_vec_wt: 0.3430 - 0__decoded_vec_wt: 0.0775 - 1__decoded_vec_wt: 0.5906 - 2__decoded_vec_wt: 0.5999 - tot_time: 0h 10m 1.8s\n",
      "\n",
      "Epoch 9: val_NMSE improved from 0.01798 to 0.01567, saving model to /home/rkaushik/Documents/Thesis/MLROM/Kolmogorov/saved_ae/ae_053/checkpoints/checkpoint\n",
      " - saving loss histories at /home/rkaushik/Documents/Thesis/MLROM/Kolmogorov/saved_ae/ae_053/checkpoints/LossHistoriesCheckpoint\n",
      "1250/1250 [==============================] - 66s 53ms/step - loss: 0.0021 - mse: 0.0019 - NMSE: 0.0170 - 0__encoder_attention_module_0_lambda: 0.1232 - 0__encoder_attention_module_1_lambda: 0.0518 - 0__encoder_attention_module_2_lambda: 0.0554 - 0__decoder_attention_module_0_lambda: 0.1102 - 0__decoder_attention_module_1_lambda: -0.1715 - 1__encoder_attention_module_0_lambda: 0.1602 - 1__encoder_attention_module_1_lambda: 0.0543 - 1__encoder_attention_module_2_lambda: 0.0376 - 1__decoder_attention_module_0_lambda: 0.0842 - 1__decoder_attention_module_1_lambda: -0.2852 - 2__encoder_attention_module_0_lambda: -0.1762 - 2__encoder_attention_module_1_lambda: -0.0763 - 2__encoder_attention_module_2_lambda: -0.0289 - 2__decoder_attention_module_0_lambda: 0.0643 - 2__decoder_attention_module_1_lambda: 0.3154 - 0__encoded_vec_wt: 0.3012 - 1__encoded_vec_wt: 0.3519 - 2__encoded_vec_wt: 0.3430 - 0__decoded_vec_wt: 0.0775 - 1__decoded_vec_wt: 0.5906 - 2__decoded_vec_wt: 0.5999 - val_loss: 0.0020 - val_mse: 0.0017 - val_NMSE: 0.0157\n",
      "Epoch 10/200\n",
      "1250/1250 [==============================] - ETA: 0s - loss: 0.0021 - mse: 0.0018 - NMSE: 0.0166 - 0__encoder_attention_module_0_lambda: 0.1189 - 0__encoder_attention_module_1_lambda: 0.0512 - 0__encoder_attention_module_2_lambda: 0.0541 - 0__decoder_attention_module_0_lambda: 0.1167 - 0__decoder_attention_module_1_lambda: -0.1762 - 1__encoder_attention_module_0_lambda: 0.1694 - 1__encoder_attention_module_1_lambda: 0.0580 - 1__encoder_attention_module_2_lambda: 0.0394 - 1__decoder_attention_module_0_lambda: 0.0921 - 1__decoder_attention_module_1_lambda: -0.2962 - 2__encoder_attention_module_0_lambda: -0.1888 - 2__encoder_attention_module_1_lambda: -0.0798 - 2__encoder_attention_module_2_lambda: -0.0311 - 2__decoder_attention_module_0_lambda: 0.0711 - 2__decoder_attention_module_1_lambda: 0.3223 - 0__encoded_vec_wt: 0.3053 - 1__encoded_vec_wt: 0.3537 - 2__encoded_vec_wt: 0.3381 - 0__decoded_vec_wt: 0.0799 - 1__decoded_vec_wt: 0.6025 - 2__decoded_vec_wt: 0.6186 - tot_time: 0h 11m 8.0s\n",
      "\n",
      "Epoch 10: val_NMSE did not improve from 0.01567\n",
      " - saving loss histories at /home/rkaushik/Documents/Thesis/MLROM/Kolmogorov/saved_ae/ae_053/checkpoints/LossHistoriesCheckpoint\n",
      "1250/1250 [==============================] - 66s 53ms/step - loss: 0.0021 - mse: 0.0018 - NMSE: 0.0166 - 0__encoder_attention_module_0_lambda: 0.1189 - 0__encoder_attention_module_1_lambda: 0.0512 - 0__encoder_attention_module_2_lambda: 0.0541 - 0__decoder_attention_module_0_lambda: 0.1167 - 0__decoder_attention_module_1_lambda: -0.1762 - 1__encoder_attention_module_0_lambda: 0.1694 - 1__encoder_attention_module_1_lambda: 0.0580 - 1__encoder_attention_module_2_lambda: 0.0394 - 1__decoder_attention_module_0_lambda: 0.0921 - 1__decoder_attention_module_1_lambda: -0.2962 - 2__encoder_attention_module_0_lambda: -0.1888 - 2__encoder_attention_module_1_lambda: -0.0798 - 2__encoder_attention_module_2_lambda: -0.0311 - 2__decoder_attention_module_0_lambda: 0.0711 - 2__decoder_attention_module_1_lambda: 0.3223 - 0__encoded_vec_wt: 0.3053 - 1__encoded_vec_wt: 0.3537 - 2__encoded_vec_wt: 0.3381 - 0__decoded_vec_wt: 0.0799 - 1__decoded_vec_wt: 0.6025 - 2__decoded_vec_wt: 0.6187 - val_loss: 0.0023 - val_mse: 0.0020 - val_NMSE: 0.0181\n",
      "Epoch 11/200\n",
      "1250/1250 [==============================] - ETA: 0s - loss: 0.0020 - mse: 0.0018 - NMSE: 0.0162 - 0__encoder_attention_module_0_lambda: 0.1166 - 0__encoder_attention_module_1_lambda: 0.0506 - 0__encoder_attention_module_2_lambda: 0.0524 - 0__decoder_attention_module_0_lambda: 0.1239 - 0__decoder_attention_module_1_lambda: -0.1794 - 1__encoder_attention_module_0_lambda: 0.1769 - 1__encoder_attention_module_1_lambda: 0.0574 - 1__encoder_attention_module_2_lambda: 0.0422 - 1__decoder_attention_module_0_lambda: 0.1010 - 1__decoder_attention_module_1_lambda: -0.3061 - 2__encoder_attention_module_0_lambda: -0.2007 - 2__encoder_attention_module_1_lambda: -0.0844 - 2__encoder_attention_module_2_lambda: -0.0319 - 2__decoder_attention_module_0_lambda: 0.0789 - 2__decoder_attention_module_1_lambda: 0.3294 - 0__encoded_vec_wt: 0.3093 - 1__encoded_vec_wt: 0.3538 - 2__encoded_vec_wt: 0.3339 - 0__decoded_vec_wt: 0.0831 - 1__decoded_vec_wt: 0.6119 - 2__decoded_vec_wt: 0.6347 - tot_time: 0h 12m 13.4s\n",
      "\n",
      "Epoch 11: val_NMSE did not improve from 0.01567\n",
      " - saving loss histories at /home/rkaushik/Documents/Thesis/MLROM/Kolmogorov/saved_ae/ae_053/checkpoints/LossHistoriesCheckpoint\n",
      "1250/1250 [==============================] - 65s 52ms/step - loss: 0.0020 - mse: 0.0018 - NMSE: 0.0162 - 0__encoder_attention_module_0_lambda: 0.1166 - 0__encoder_attention_module_1_lambda: 0.0506 - 0__encoder_attention_module_2_lambda: 0.0524 - 0__decoder_attention_module_0_lambda: 0.1239 - 0__decoder_attention_module_1_lambda: -0.1794 - 1__encoder_attention_module_0_lambda: 0.1769 - 1__encoder_attention_module_1_lambda: 0.0574 - 1__encoder_attention_module_2_lambda: 0.0422 - 1__decoder_attention_module_0_lambda: 0.1010 - 1__decoder_attention_module_1_lambda: -0.3061 - 2__encoder_attention_module_0_lambda: -0.2007 - 2__encoder_attention_module_1_lambda: -0.0844 - 2__encoder_attention_module_2_lambda: -0.0319 - 2__decoder_attention_module_0_lambda: 0.0789 - 2__decoder_attention_module_1_lambda: 0.3294 - 0__encoded_vec_wt: 0.3093 - 1__encoded_vec_wt: 0.3538 - 2__encoded_vec_wt: 0.3339 - 0__decoded_vec_wt: 0.0831 - 1__decoded_vec_wt: 0.6119 - 2__decoded_vec_wt: 0.6348 - val_loss: 0.0020 - val_mse: 0.0017 - val_NMSE: 0.0157\n"
     ]
    },
    {
     "name": "stdout",
     "output_type": "stream",
     "text": [
      "Epoch 12/200\n",
      "1249/1250 [============================>.] - ETA: 0s - loss: 0.0020 - mse: 0.0018 - NMSE: 0.0158 - 0__encoder_attention_module_0_lambda: 0.1157 - 0__encoder_attention_module_1_lambda: 0.0496 - 0__encoder_attention_module_2_lambda: 0.0515 - 0__decoder_attention_module_0_lambda: 0.1287 - 0__decoder_attention_module_1_lambda: -0.1840 - 1__encoder_attention_module_0_lambda: 0.1832 - 1__encoder_attention_module_1_lambda: 0.0613 - 1__encoder_attention_module_2_lambda: 0.0416 - 1__decoder_attention_module_0_lambda: 0.1074 - 1__decoder_attention_module_1_lambda: -0.3145 - 2__encoder_attention_module_0_lambda: -0.2114 - 2__encoder_attention_module_1_lambda: -0.0909 - 2__encoder_attention_module_2_lambda: -0.0325 - 2__decoder_attention_module_0_lambda: 0.0849 - 2__decoder_attention_module_1_lambda: 0.3372 - 0__encoded_vec_wt: 0.3126 - 1__encoded_vec_wt: 0.3553 - 2__encoded_vec_wt: 0.3295 - 0__decoded_vec_wt: 0.0872 - 1__decoded_vec_wt: 0.6212 - 2__decoded_vec_wt: 0.6506 - tot_time: 0h 13m 18.6s\n",
      "\n",
      "Epoch 12: val_NMSE improved from 0.01567 to 0.01510, saving model to /home/rkaushik/Documents/Thesis/MLROM/Kolmogorov/saved_ae/ae_053/checkpoints/checkpoint\n",
      " - saving loss histories at /home/rkaushik/Documents/Thesis/MLROM/Kolmogorov/saved_ae/ae_053/checkpoints/LossHistoriesCheckpoint\n",
      "1250/1250 [==============================] - 66s 52ms/step - loss: 0.0020 - mse: 0.0018 - NMSE: 0.0158 - 0__encoder_attention_module_0_lambda: 0.1157 - 0__encoder_attention_module_1_lambda: 0.0496 - 0__encoder_attention_module_2_lambda: 0.0515 - 0__decoder_attention_module_0_lambda: 0.1287 - 0__decoder_attention_module_1_lambda: -0.1840 - 1__encoder_attention_module_0_lambda: 0.1832 - 1__encoder_attention_module_1_lambda: 0.0613 - 1__encoder_attention_module_2_lambda: 0.0416 - 1__decoder_attention_module_0_lambda: 0.1074 - 1__decoder_attention_module_1_lambda: -0.3145 - 2__encoder_attention_module_0_lambda: -0.2114 - 2__encoder_attention_module_1_lambda: -0.0909 - 2__encoder_attention_module_2_lambda: -0.0325 - 2__decoder_attention_module_0_lambda: 0.0849 - 2__decoder_attention_module_1_lambda: 0.3372 - 0__encoded_vec_wt: 0.3126 - 1__encoded_vec_wt: 0.3553 - 2__encoded_vec_wt: 0.3295 - 0__decoded_vec_wt: 0.0872 - 1__decoded_vec_wt: 0.6212 - 2__decoded_vec_wt: 0.6506 - val_loss: 0.0019 - val_mse: 0.0017 - val_NMSE: 0.0151\n",
      "Epoch 13/200\n",
      "1250/1250 [==============================] - ETA: 0s - loss: 0.0020 - mse: 0.0017 - NMSE: 0.0156 - 0__encoder_attention_module_0_lambda: 0.1155 - 0__encoder_attention_module_1_lambda: 0.0497 - 0__encoder_attention_module_2_lambda: 0.0490 - 0__decoder_attention_module_0_lambda: 0.1353 - 0__decoder_attention_module_1_lambda: -0.1897 - 1__encoder_attention_module_0_lambda: 0.1910 - 1__encoder_attention_module_1_lambda: 0.0634 - 1__encoder_attention_module_2_lambda: 0.0447 - 1__decoder_attention_module_0_lambda: 0.1166 - 1__decoder_attention_module_1_lambda: -0.3219 - 2__encoder_attention_module_0_lambda: -0.2226 - 2__encoder_attention_module_1_lambda: -0.0946 - 2__encoder_attention_module_2_lambda: -0.0349 - 2__decoder_attention_module_0_lambda: 0.0915 - 2__decoder_attention_module_1_lambda: 0.3428 - 0__encoded_vec_wt: 0.3157 - 1__encoded_vec_wt: 0.3559 - 2__encoded_vec_wt: 0.3255 - 0__decoded_vec_wt: 0.0918 - 1__decoded_vec_wt: 0.6293 - 2__decoded_vec_wt: 0.6651 - tot_time: 0h 14m 24.2s\n",
      "\n",
      "Epoch 13: val_NMSE improved from 0.01510 to 0.01411, saving model to /home/rkaushik/Documents/Thesis/MLROM/Kolmogorov/saved_ae/ae_053/checkpoints/checkpoint\n",
      " - saving loss histories at /home/rkaushik/Documents/Thesis/MLROM/Kolmogorov/saved_ae/ae_053/checkpoints/LossHistoriesCheckpoint\n",
      "1250/1250 [==============================] - 65s 52ms/step - loss: 0.0020 - mse: 0.0017 - NMSE: 0.0156 - 0__encoder_attention_module_0_lambda: 0.1155 - 0__encoder_attention_module_1_lambda: 0.0497 - 0__encoder_attention_module_2_lambda: 0.0490 - 0__decoder_attention_module_0_lambda: 0.1353 - 0__decoder_attention_module_1_lambda: -0.1897 - 1__encoder_attention_module_0_lambda: 0.1910 - 1__encoder_attention_module_1_lambda: 0.0634 - 1__encoder_attention_module_2_lambda: 0.0447 - 1__decoder_attention_module_0_lambda: 0.1166 - 1__decoder_attention_module_1_lambda: -0.3219 - 2__encoder_attention_module_0_lambda: -0.2226 - 2__encoder_attention_module_1_lambda: -0.0946 - 2__encoder_attention_module_2_lambda: -0.0349 - 2__decoder_attention_module_0_lambda: 0.0915 - 2__decoder_attention_module_1_lambda: 0.3428 - 0__encoded_vec_wt: 0.3157 - 1__encoded_vec_wt: 0.3559 - 2__encoded_vec_wt: 0.3255 - 0__decoded_vec_wt: 0.0918 - 1__decoded_vec_wt: 0.6293 - 2__decoded_vec_wt: 0.6651 - val_loss: 0.0018 - val_mse: 0.0016 - val_NMSE: 0.0141\n",
      "Epoch 14/200\n",
      "1250/1250 [==============================] - ETA: 0s - loss: 0.0019 - mse: 0.0017 - NMSE: 0.0153 - 0__encoder_attention_module_0_lambda: 0.1160 - 0__encoder_attention_module_1_lambda: 0.0506 - 0__encoder_attention_module_2_lambda: 0.0486 - 0__decoder_attention_module_0_lambda: 0.1431 - 0__decoder_attention_module_1_lambda: -0.1968 - 1__encoder_attention_module_0_lambda: 0.1964 - 1__encoder_attention_module_1_lambda: 0.0657 - 1__encoder_attention_module_2_lambda: 0.0437 - 1__decoder_attention_module_0_lambda: 0.1236 - 1__decoder_attention_module_1_lambda: -0.3268 - 2__encoder_attention_module_0_lambda: -0.2347 - 2__encoder_attention_module_1_lambda: -0.1001 - 2__encoder_attention_module_2_lambda: -0.0372 - 2__decoder_attention_module_0_lambda: 0.0980 - 2__decoder_attention_module_1_lambda: 0.3461 - 0__encoded_vec_wt: 0.3198 - 1__encoded_vec_wt: 0.3569 - 2__encoded_vec_wt: 0.3204 - 0__decoded_vec_wt: 0.0975 - 1__decoded_vec_wt: 0.6365 - 2__decoded_vec_wt: 0.6782 - tot_time: 0h 15m 30.1s\n",
      "\n",
      "Epoch 14: val_NMSE did not improve from 0.01411\n",
      " - saving loss histories at /home/rkaushik/Documents/Thesis/MLROM/Kolmogorov/saved_ae/ae_053/checkpoints/LossHistoriesCheckpoint\n",
      "1250/1250 [==============================] - 66s 52ms/step - loss: 0.0019 - mse: 0.0017 - NMSE: 0.0153 - 0__encoder_attention_module_0_lambda: 0.1160 - 0__encoder_attention_module_1_lambda: 0.0506 - 0__encoder_attention_module_2_lambda: 0.0486 - 0__decoder_attention_module_0_lambda: 0.1431 - 0__decoder_attention_module_1_lambda: -0.1968 - 1__encoder_attention_module_0_lambda: 0.1964 - 1__encoder_attention_module_1_lambda: 0.0657 - 1__encoder_attention_module_2_lambda: 0.0437 - 1__decoder_attention_module_0_lambda: 0.1236 - 1__decoder_attention_module_1_lambda: -0.3268 - 2__encoder_attention_module_0_lambda: -0.2347 - 2__encoder_attention_module_1_lambda: -0.1001 - 2__encoder_attention_module_2_lambda: -0.0372 - 2__decoder_attention_module_0_lambda: 0.0980 - 2__decoder_attention_module_1_lambda: 0.3461 - 0__encoded_vec_wt: 0.3198 - 1__encoded_vec_wt: 0.3569 - 2__encoded_vec_wt: 0.3204 - 0__decoded_vec_wt: 0.0975 - 1__decoded_vec_wt: 0.6365 - 2__decoded_vec_wt: 0.6782 - val_loss: 0.0018 - val_mse: 0.0016 - val_NMSE: 0.0143\n",
      "Epoch 15/200\n",
      "1250/1250 [==============================] - ETA: 0s - loss: 0.0019 - mse: 0.0017 - NMSE: 0.0150 - 0__encoder_attention_module_0_lambda: 0.1145 - 0__encoder_attention_module_1_lambda: 0.0487 - 0__encoder_attention_module_2_lambda: 0.0479 - 0__decoder_attention_module_0_lambda: 0.1463 - 0__decoder_attention_module_1_lambda: -0.2046 - 1__encoder_attention_module_0_lambda: 0.2026 - 1__encoder_attention_module_1_lambda: 0.0677 - 1__encoder_attention_module_2_lambda: 0.0476 - 1__decoder_attention_module_0_lambda: 0.1320 - 1__decoder_attention_module_1_lambda: -0.3324 - 2__encoder_attention_module_0_lambda: -0.2415 - 2__encoder_attention_module_1_lambda: -0.1053 - 2__encoder_attention_module_2_lambda: -0.0386 - 2__decoder_attention_module_0_lambda: 0.1033 - 2__decoder_attention_module_1_lambda: 0.3486 - 0__encoded_vec_wt: 0.3249 - 1__encoded_vec_wt: 0.3576 - 2__encoded_vec_wt: 0.3140 - 0__decoded_vec_wt: 0.1033 - 1__decoded_vec_wt: 0.6431 - 2__decoded_vec_wt: 0.6896 - tot_time: 0h 16m 35.8s\n",
      "\n",
      "Epoch 15: val_NMSE did not improve from 0.01411\n",
      " - saving loss histories at /home/rkaushik/Documents/Thesis/MLROM/Kolmogorov/saved_ae/ae_053/checkpoints/LossHistoriesCheckpoint\n",
      "1250/1250 [==============================] - 66s 53ms/step - loss: 0.0019 - mse: 0.0017 - NMSE: 0.0150 - 0__encoder_attention_module_0_lambda: 0.1145 - 0__encoder_attention_module_1_lambda: 0.0487 - 0__encoder_attention_module_2_lambda: 0.0479 - 0__decoder_attention_module_0_lambda: 0.1463 - 0__decoder_attention_module_1_lambda: -0.2046 - 1__encoder_attention_module_0_lambda: 0.2026 - 1__encoder_attention_module_1_lambda: 0.0677 - 1__encoder_attention_module_2_lambda: 0.0476 - 1__decoder_attention_module_0_lambda: 0.1320 - 1__decoder_attention_module_1_lambda: -0.3324 - 2__encoder_attention_module_0_lambda: -0.2415 - 2__encoder_attention_module_1_lambda: -0.1053 - 2__encoder_attention_module_2_lambda: -0.0386 - 2__decoder_attention_module_0_lambda: 0.1033 - 2__decoder_attention_module_1_lambda: 0.3486 - 0__encoded_vec_wt: 0.3249 - 1__encoded_vec_wt: 0.3576 - 2__encoded_vec_wt: 0.3140 - 0__decoded_vec_wt: 0.1033 - 1__decoded_vec_wt: 0.6431 - 2__decoded_vec_wt: 0.6896 - val_loss: 0.0018 - val_mse: 0.0016 - val_NMSE: 0.0144\n"
     ]
    },
    {
     "name": "stdout",
     "output_type": "stream",
     "text": [
      "Epoch 16/200\n",
      "1249/1250 [============================>.] - ETA: 0s - loss: 0.0019 - mse: 0.0017 - NMSE: 0.0149 - 0__encoder_attention_module_0_lambda: 0.1140 - 0__encoder_attention_module_1_lambda: 0.0500 - 0__encoder_attention_module_2_lambda: 0.0433 - 0__decoder_attention_module_0_lambda: 0.1483 - 0__decoder_attention_module_1_lambda: -0.2139 - 1__encoder_attention_module_0_lambda: 0.2075 - 1__encoder_attention_module_1_lambda: 0.0711 - 1__encoder_attention_module_2_lambda: 0.0476 - 1__decoder_attention_module_0_lambda: 0.1378 - 1__decoder_attention_module_1_lambda: -0.3361 - 2__encoder_attention_module_0_lambda: -0.2507 - 2__encoder_attention_module_1_lambda: -0.1125 - 2__encoder_attention_module_2_lambda: -0.0403 - 2__decoder_attention_module_0_lambda: 0.1093 - 2__decoder_attention_module_1_lambda: 0.3529 - 0__encoded_vec_wt: 0.3296 - 1__encoded_vec_wt: 0.3570 - 2__encoded_vec_wt: 0.3086 - 0__decoded_vec_wt: 0.1097 - 1__decoded_vec_wt: 0.6493 - 2__decoded_vec_wt: 0.7002 - tot_time: 0h 17m 41.3s\n",
      "\n",
      "Epoch 16: val_NMSE improved from 0.01411 to 0.01363, saving model to /home/rkaushik/Documents/Thesis/MLROM/Kolmogorov/saved_ae/ae_053/checkpoints/checkpoint\n",
      " - saving loss histories at /home/rkaushik/Documents/Thesis/MLROM/Kolmogorov/saved_ae/ae_053/checkpoints/LossHistoriesCheckpoint\n",
      "1250/1250 [==============================] - 66s 53ms/step - loss: 0.0019 - mse: 0.0017 - NMSE: 0.0149 - 0__encoder_attention_module_0_lambda: 0.1140 - 0__encoder_attention_module_1_lambda: 0.0500 - 0__encoder_attention_module_2_lambda: 0.0433 - 0__decoder_attention_module_0_lambda: 0.1483 - 0__decoder_attention_module_1_lambda: -0.2139 - 1__encoder_attention_module_0_lambda: 0.2075 - 1__encoder_attention_module_1_lambda: 0.0711 - 1__encoder_attention_module_2_lambda: 0.0476 - 1__decoder_attention_module_0_lambda: 0.1378 - 1__decoder_attention_module_1_lambda: -0.3361 - 2__encoder_attention_module_0_lambda: -0.2507 - 2__encoder_attention_module_1_lambda: -0.1125 - 2__encoder_attention_module_2_lambda: -0.0403 - 2__decoder_attention_module_0_lambda: 0.1093 - 2__decoder_attention_module_1_lambda: 0.3529 - 0__encoded_vec_wt: 0.3296 - 1__encoded_vec_wt: 0.3570 - 2__encoded_vec_wt: 0.3086 - 0__decoded_vec_wt: 0.1097 - 1__decoded_vec_wt: 0.6493 - 2__decoded_vec_wt: 0.7002 - val_loss: 0.0018 - val_mse: 0.0015 - val_NMSE: 0.0136\n",
      "Epoch 17/200\n",
      "1250/1250 [==============================] - ETA: 0s - loss: 0.0019 - mse: 0.0016 - NMSE: 0.0147 - 0__encoder_attention_module_0_lambda: 0.1134 - 0__encoder_attention_module_1_lambda: 0.0509 - 0__encoder_attention_module_2_lambda: 0.0438 - 0__decoder_attention_module_0_lambda: 0.1573 - 0__decoder_attention_module_1_lambda: -0.2200 - 1__encoder_attention_module_0_lambda: 0.2146 - 1__encoder_attention_module_1_lambda: 0.0758 - 1__encoder_attention_module_2_lambda: 0.0483 - 1__decoder_attention_module_0_lambda: 0.1451 - 1__decoder_attention_module_1_lambda: -0.3402 - 2__encoder_attention_module_0_lambda: -0.2632 - 2__encoder_attention_module_1_lambda: -0.1194 - 2__encoder_attention_module_2_lambda: -0.0387 - 2__decoder_attention_module_0_lambda: 0.1149 - 2__decoder_attention_module_1_lambda: 0.3559 - 0__encoded_vec_wt: 0.3351 - 1__encoded_vec_wt: 0.3565 - 2__encoded_vec_wt: 0.3020 - 0__decoded_vec_wt: 0.1166 - 1__decoded_vec_wt: 0.6550 - 2__decoded_vec_wt: 0.7088 - tot_time: 0h 18m 46.6s\n",
      "\n",
      "Epoch 17: val_NMSE did not improve from 0.01363\n",
      " - saving loss histories at /home/rkaushik/Documents/Thesis/MLROM/Kolmogorov/saved_ae/ae_053/checkpoints/LossHistoriesCheckpoint\n",
      "1250/1250 [==============================] - 65s 52ms/step - loss: 0.0019 - mse: 0.0016 - NMSE: 0.0147 - 0__encoder_attention_module_0_lambda: 0.1134 - 0__encoder_attention_module_1_lambda: 0.0509 - 0__encoder_attention_module_2_lambda: 0.0438 - 0__decoder_attention_module_0_lambda: 0.1573 - 0__decoder_attention_module_1_lambda: -0.2200 - 1__encoder_attention_module_0_lambda: 0.2146 - 1__encoder_attention_module_1_lambda: 0.0758 - 1__encoder_attention_module_2_lambda: 0.0483 - 1__decoder_attention_module_0_lambda: 0.1451 - 1__decoder_attention_module_1_lambda: -0.3402 - 2__encoder_attention_module_0_lambda: -0.2632 - 2__encoder_attention_module_1_lambda: -0.1194 - 2__encoder_attention_module_2_lambda: -0.0387 - 2__decoder_attention_module_0_lambda: 0.1149 - 2__decoder_attention_module_1_lambda: 0.3559 - 0__encoded_vec_wt: 0.3351 - 1__encoded_vec_wt: 0.3565 - 2__encoded_vec_wt: 0.3020 - 0__decoded_vec_wt: 0.1166 - 1__decoded_vec_wt: 0.6550 - 2__decoded_vec_wt: 0.7088 - val_loss: 0.0019 - val_mse: 0.0016 - val_NMSE: 0.0147\n",
      "Epoch 18/200\n",
      "1250/1250 [==============================] - ETA: 0s - loss: 0.0019 - mse: 0.0016 - NMSE: 0.0146 - 0__encoder_attention_module_0_lambda: 0.1121 - 0__encoder_attention_module_1_lambda: 0.0476 - 0__encoder_attention_module_2_lambda: 0.0407 - 0__decoder_attention_module_0_lambda: 0.1663 - 0__decoder_attention_module_1_lambda: -0.2261 - 1__encoder_attention_module_0_lambda: 0.2200 - 1__encoder_attention_module_1_lambda: 0.0779 - 1__encoder_attention_module_2_lambda: 0.0494 - 1__decoder_attention_module_0_lambda: 0.1504 - 1__decoder_attention_module_1_lambda: -0.3437 - 2__encoder_attention_module_0_lambda: -0.2667 - 2__encoder_attention_module_1_lambda: -0.1261 - 2__encoder_attention_module_2_lambda: -0.0428 - 2__decoder_attention_module_0_lambda: 0.1200 - 2__decoder_attention_module_1_lambda: 0.3577 - 0__encoded_vec_wt: 0.3384 - 1__encoded_vec_wt: 0.3567 - 2__encoded_vec_wt: 0.2972 - 0__decoded_vec_wt: 0.1237 - 1__decoded_vec_wt: 0.6613 - 2__decoded_vec_wt: 0.7181 - tot_time: 0h 19m 52.7s\n",
      "\n",
      "Epoch 18: val_NMSE improved from 0.01363 to 0.01354, saving model to /home/rkaushik/Documents/Thesis/MLROM/Kolmogorov/saved_ae/ae_053/checkpoints/checkpoint\n",
      " - saving loss histories at /home/rkaushik/Documents/Thesis/MLROM/Kolmogorov/saved_ae/ae_053/checkpoints/LossHistoriesCheckpoint\n",
      "1250/1250 [==============================] - 66s 53ms/step - loss: 0.0019 - mse: 0.0016 - NMSE: 0.0146 - 0__encoder_attention_module_0_lambda: 0.1121 - 0__encoder_attention_module_1_lambda: 0.0476 - 0__encoder_attention_module_2_lambda: 0.0407 - 0__decoder_attention_module_0_lambda: 0.1663 - 0__decoder_attention_module_1_lambda: -0.2261 - 1__encoder_attention_module_0_lambda: 0.2200 - 1__encoder_attention_module_1_lambda: 0.0779 - 1__encoder_attention_module_2_lambda: 0.0494 - 1__decoder_attention_module_0_lambda: 0.1504 - 1__decoder_attention_module_1_lambda: -0.3437 - 2__encoder_attention_module_0_lambda: -0.2667 - 2__encoder_attention_module_1_lambda: -0.1261 - 2__encoder_attention_module_2_lambda: -0.0428 - 2__decoder_attention_module_0_lambda: 0.1200 - 2__decoder_attention_module_1_lambda: 0.3577 - 0__encoded_vec_wt: 0.3384 - 1__encoded_vec_wt: 0.3567 - 2__encoded_vec_wt: 0.2972 - 0__decoded_vec_wt: 0.1237 - 1__decoded_vec_wt: 0.6613 - 2__decoded_vec_wt: 0.7181 - val_loss: 0.0017 - val_mse: 0.0015 - val_NMSE: 0.0135\n",
      "Epoch 19/200\n",
      "1249/1250 [============================>.] - ETA: 0s - loss: 0.0018 - mse: 0.0016 - NMSE: 0.0144 - 0__encoder_attention_module_0_lambda: 0.1124 - 0__encoder_attention_module_1_lambda: 0.0495 - 0__encoder_attention_module_2_lambda: 0.0412 - 0__decoder_attention_module_0_lambda: 0.1662 - 0__decoder_attention_module_1_lambda: -0.2309 - 1__encoder_attention_module_0_lambda: 0.2236 - 1__encoder_attention_module_1_lambda: 0.0789 - 1__encoder_attention_module_2_lambda: 0.0517 - 1__decoder_attention_module_0_lambda: 0.1547 - 1__decoder_attention_module_1_lambda: -0.3472 - 2__encoder_attention_module_0_lambda: -0.2754 - 2__encoder_attention_module_1_lambda: -0.1339 - 2__encoder_attention_module_2_lambda: -0.0437 - 2__decoder_attention_module_0_lambda: 0.1240 - 2__decoder_attention_module_1_lambda: 0.3585 - 0__encoded_vec_wt: 0.3427 - 1__encoded_vec_wt: 0.3573 - 2__encoded_vec_wt: 0.2902 - 0__decoded_vec_wt: 0.1303 - 1__decoded_vec_wt: 0.6666 - 2__decoded_vec_wt: 0.7259 - tot_time: 0h 20m 58.6s\n",
      "\n",
      "Epoch 19: val_NMSE did not improve from 0.01354\n",
      " - saving loss histories at /home/rkaushik/Documents/Thesis/MLROM/Kolmogorov/saved_ae/ae_053/checkpoints/LossHistoriesCheckpoint\n",
      "1250/1250 [==============================] - 66s 52ms/step - loss: 0.0018 - mse: 0.0016 - NMSE: 0.0144 - 0__encoder_attention_module_0_lambda: 0.1124 - 0__encoder_attention_module_1_lambda: 0.0495 - 0__encoder_attention_module_2_lambda: 0.0412 - 0__decoder_attention_module_0_lambda: 0.1662 - 0__decoder_attention_module_1_lambda: -0.2309 - 1__encoder_attention_module_0_lambda: 0.2236 - 1__encoder_attention_module_1_lambda: 0.0789 - 1__encoder_attention_module_2_lambda: 0.0517 - 1__decoder_attention_module_0_lambda: 0.1547 - 1__decoder_attention_module_1_lambda: -0.3472 - 2__encoder_attention_module_0_lambda: -0.2754 - 2__encoder_attention_module_1_lambda: -0.1338 - 2__encoder_attention_module_2_lambda: -0.0437 - 2__decoder_attention_module_0_lambda: 0.1240 - 2__decoder_attention_module_1_lambda: 0.3585 - 0__encoded_vec_wt: 0.3427 - 1__encoded_vec_wt: 0.3573 - 2__encoded_vec_wt: 0.2902 - 0__decoded_vec_wt: 0.1303 - 1__decoded_vec_wt: 0.6666 - 2__decoded_vec_wt: 0.7259 - val_loss: 0.0021 - val_mse: 0.0019 - val_NMSE: 0.0170\n"
     ]
    },
    {
     "name": "stdout",
     "output_type": "stream",
     "text": [
      "Epoch 20/200\n",
      "1250/1250 [==============================] - ETA: 0s - loss: 0.0018 - mse: 0.0016 - NMSE: 0.0143 - 0__encoder_attention_module_0_lambda: 0.1136 - 0__encoder_attention_module_1_lambda: 0.0501 - 0__encoder_attention_module_2_lambda: 0.0397 - 0__decoder_attention_module_0_lambda: 0.1676 - 0__decoder_attention_module_1_lambda: -0.2364 - 1__encoder_attention_module_0_lambda: 0.2290 - 1__encoder_attention_module_1_lambda: 0.0842 - 1__encoder_attention_module_2_lambda: 0.0522 - 1__decoder_attention_module_0_lambda: 0.1591 - 1__decoder_attention_module_1_lambda: -0.3505 - 2__encoder_attention_module_0_lambda: -0.2813 - 2__encoder_attention_module_1_lambda: -0.1402 - 2__encoder_attention_module_2_lambda: -0.0479 - 2__decoder_attention_module_0_lambda: 0.1289 - 2__decoder_attention_module_1_lambda: 0.3623 - 0__encoded_vec_wt: 0.3475 - 1__encoded_vec_wt: 0.3559 - 2__encoded_vec_wt: 0.2838 - 0__decoded_vec_wt: 0.1370 - 1__decoded_vec_wt: 0.6721 - 2__decoded_vec_wt: 0.7337 - tot_time: 0h 22m 3.6s\n",
      "\n",
      "Epoch 20: val_NMSE did not improve from 0.01354\n",
      " - saving loss histories at /home/rkaushik/Documents/Thesis/MLROM/Kolmogorov/saved_ae/ae_053/checkpoints/LossHistoriesCheckpoint\n",
      "1250/1250 [==============================] - 65s 52ms/step - loss: 0.0018 - mse: 0.0016 - NMSE: 0.0143 - 0__encoder_attention_module_0_lambda: 0.1136 - 0__encoder_attention_module_1_lambda: 0.0501 - 0__encoder_attention_module_2_lambda: 0.0397 - 0__decoder_attention_module_0_lambda: 0.1676 - 0__decoder_attention_module_1_lambda: -0.2364 - 1__encoder_attention_module_0_lambda: 0.2290 - 1__encoder_attention_module_1_lambda: 0.0842 - 1__encoder_attention_module_2_lambda: 0.0522 - 1__decoder_attention_module_0_lambda: 0.1592 - 1__decoder_attention_module_1_lambda: -0.3505 - 2__encoder_attention_module_0_lambda: -0.2813 - 2__encoder_attention_module_1_lambda: -0.1402 - 2__encoder_attention_module_2_lambda: -0.0479 - 2__decoder_attention_module_0_lambda: 0.1289 - 2__decoder_attention_module_1_lambda: 0.3623 - 0__encoded_vec_wt: 0.3475 - 1__encoded_vec_wt: 0.3559 - 2__encoded_vec_wt: 0.2838 - 0__decoded_vec_wt: 0.1370 - 1__decoded_vec_wt: 0.6721 - 2__decoded_vec_wt: 0.7338 - val_loss: 0.0018 - val_mse: 0.0015 - val_NMSE: 0.0136\n",
      "Epoch 21/200\n",
      "1249/1250 [============================>.] - ETA: 0s - loss: 0.0018 - mse: 0.0016 - NMSE: 0.0142 - 0__encoder_attention_module_0_lambda: 0.1134 - 0__encoder_attention_module_1_lambda: 0.0515 - 0__encoder_attention_module_2_lambda: 0.0416 - 0__decoder_attention_module_0_lambda: 0.1756 - 0__decoder_attention_module_1_lambda: -0.2431 - 1__encoder_attention_module_0_lambda: 0.2329 - 1__encoder_attention_module_1_lambda: 0.0873 - 1__encoder_attention_module_2_lambda: 0.0530 - 1__decoder_attention_module_0_lambda: 0.1624 - 1__decoder_attention_module_1_lambda: -0.3546 - 2__encoder_attention_module_0_lambda: -0.2953 - 2__encoder_attention_module_1_lambda: -0.1438 - 2__encoder_attention_module_2_lambda: -0.0492 - 2__decoder_attention_module_0_lambda: 0.1336 - 2__decoder_attention_module_1_lambda: 0.3614 - 0__encoded_vec_wt: 0.3527 - 1__encoded_vec_wt: 0.3551 - 2__encoded_vec_wt: 0.2763 - 0__decoded_vec_wt: 0.1434 - 1__decoded_vec_wt: 0.6766 - 2__decoded_vec_wt: 0.7404 - tot_time: 0h 23m 9.0s\n",
      "\n",
      "Epoch 21: val_NMSE improved from 0.01354 to 0.01319, saving model to /home/rkaushik/Documents/Thesis/MLROM/Kolmogorov/saved_ae/ae_053/checkpoints/checkpoint\n",
      " - saving loss histories at /home/rkaushik/Documents/Thesis/MLROM/Kolmogorov/saved_ae/ae_053/checkpoints/LossHistoriesCheckpoint\n",
      "1250/1250 [==============================] - 66s 53ms/step - loss: 0.0018 - mse: 0.0016 - NMSE: 0.0142 - 0__encoder_attention_module_0_lambda: 0.1134 - 0__encoder_attention_module_1_lambda: 0.0515 - 0__encoder_attention_module_2_lambda: 0.0416 - 0__decoder_attention_module_0_lambda: 0.1756 - 0__decoder_attention_module_1_lambda: -0.2431 - 1__encoder_attention_module_0_lambda: 0.2329 - 1__encoder_attention_module_1_lambda: 0.0873 - 1__encoder_attention_module_2_lambda: 0.0530 - 1__decoder_attention_module_0_lambda: 0.1624 - 1__decoder_attention_module_1_lambda: -0.3546 - 2__encoder_attention_module_0_lambda: -0.2953 - 2__encoder_attention_module_1_lambda: -0.1438 - 2__encoder_attention_module_2_lambda: -0.0492 - 2__decoder_attention_module_0_lambda: 0.1336 - 2__decoder_attention_module_1_lambda: 0.3614 - 0__encoded_vec_wt: 0.3527 - 1__encoded_vec_wt: 0.3551 - 2__encoded_vec_wt: 0.2763 - 0__decoded_vec_wt: 0.1434 - 1__decoded_vec_wt: 0.6766 - 2__decoded_vec_wt: 0.7404 - val_loss: 0.0017 - val_mse: 0.0015 - val_NMSE: 0.0132\n",
      "Epoch 22/200\n",
      "1249/1250 [============================>.] - ETA: 0s - loss: 0.0018 - mse: 0.0016 - NMSE: 0.0141 - 0__encoder_attention_module_0_lambda: 0.1125 - 0__encoder_attention_module_1_lambda: 0.0517 - 0__encoder_attention_module_2_lambda: 0.0422 - 0__decoder_attention_module_0_lambda: 0.1798 - 0__decoder_attention_module_1_lambda: -0.2480 - 1__encoder_attention_module_0_lambda: 0.2398 - 1__encoder_attention_module_1_lambda: 0.0884 - 1__encoder_attention_module_2_lambda: 0.0558 - 1__decoder_attention_module_0_lambda: 0.1648 - 1__decoder_attention_module_1_lambda: -0.3557 - 2__encoder_attention_module_0_lambda: -0.3040 - 2__encoder_attention_module_1_lambda: -0.1489 - 2__encoder_attention_module_2_lambda: -0.0475 - 2__decoder_attention_module_0_lambda: 0.1379 - 2__decoder_attention_module_1_lambda: 0.3624 - 0__encoded_vec_wt: 0.3570 - 1__encoded_vec_wt: 0.3540 - 2__encoded_vec_wt: 0.2697 - 0__decoded_vec_wt: 0.1492 - 1__decoded_vec_wt: 0.6813 - 2__decoded_vec_wt: 0.7469 - tot_time: 0h 24m 13.9s\n",
      "\n",
      "Epoch 22: val_NMSE did not improve from 0.01319\n",
      " - saving loss histories at /home/rkaushik/Documents/Thesis/MLROM/Kolmogorov/saved_ae/ae_053/checkpoints/LossHistoriesCheckpoint\n",
      "1250/1250 [==============================] - 65s 52ms/step - loss: 0.0018 - mse: 0.0016 - NMSE: 0.0141 - 0__encoder_attention_module_0_lambda: 0.1125 - 0__encoder_attention_module_1_lambda: 0.0517 - 0__encoder_attention_module_2_lambda: 0.0422 - 0__decoder_attention_module_0_lambda: 0.1798 - 0__decoder_attention_module_1_lambda: -0.2480 - 1__encoder_attention_module_0_lambda: 0.2398 - 1__encoder_attention_module_1_lambda: 0.0884 - 1__encoder_attention_module_2_lambda: 0.0558 - 1__decoder_attention_module_0_lambda: 0.1648 - 1__decoder_attention_module_1_lambda: -0.3557 - 2__encoder_attention_module_0_lambda: -0.3040 - 2__encoder_attention_module_1_lambda: -0.1489 - 2__encoder_attention_module_2_lambda: -0.0475 - 2__decoder_attention_module_0_lambda: 0.1379 - 2__decoder_attention_module_1_lambda: 0.3624 - 0__encoded_vec_wt: 0.3570 - 1__encoded_vec_wt: 0.3540 - 2__encoded_vec_wt: 0.2697 - 0__decoded_vec_wt: 0.1492 - 1__decoded_vec_wt: 0.6813 - 2__decoded_vec_wt: 0.7469 - val_loss: 0.0018 - val_mse: 0.0016 - val_NMSE: 0.0141\n",
      "Epoch 23/200\n",
      "1249/1250 [============================>.] - ETA: 0s - loss: 0.0018 - mse: 0.0016 - NMSE: 0.0141 - 0__encoder_attention_module_0_lambda: 0.1111 - 0__encoder_attention_module_1_lambda: 0.0524 - 0__encoder_attention_module_2_lambda: 0.0417 - 0__decoder_attention_module_0_lambda: 0.1815 - 0__decoder_attention_module_1_lambda: -0.2553 - 1__encoder_attention_module_0_lambda: 0.2451 - 1__encoder_attention_module_1_lambda: 0.0933 - 1__encoder_attention_module_2_lambda: 0.0557 - 1__decoder_attention_module_0_lambda: 0.1681 - 1__decoder_attention_module_1_lambda: -0.3600 - 2__encoder_attention_module_0_lambda: -0.3140 - 2__encoder_attention_module_1_lambda: -0.1540 - 2__encoder_attention_module_2_lambda: -0.0499 - 2__decoder_attention_module_0_lambda: 0.1439 - 2__decoder_attention_module_1_lambda: 0.3645 - 0__encoded_vec_wt: 0.3628 - 1__encoded_vec_wt: 0.3506 - 2__encoded_vec_wt: 0.2626 - 0__decoded_vec_wt: 0.1551 - 1__decoded_vec_wt: 0.6867 - 2__decoded_vec_wt: 0.7536 - tot_time: 0h 25m 19.1s\n",
      "\n",
      "Epoch 23: val_NMSE did not improve from 0.01319\n",
      " - saving loss histories at /home/rkaushik/Documents/Thesis/MLROM/Kolmogorov/saved_ae/ae_053/checkpoints/LossHistoriesCheckpoint\n",
      "1250/1250 [==============================] - 65s 52ms/step - loss: 0.0018 - mse: 0.0016 - NMSE: 0.0141 - 0__encoder_attention_module_0_lambda: 0.1111 - 0__encoder_attention_module_1_lambda: 0.0524 - 0__encoder_attention_module_2_lambda: 0.0417 - 0__decoder_attention_module_0_lambda: 0.1815 - 0__decoder_attention_module_1_lambda: -0.2553 - 1__encoder_attention_module_0_lambda: 0.2451 - 1__encoder_attention_module_1_lambda: 0.0933 - 1__encoder_attention_module_2_lambda: 0.0557 - 1__decoder_attention_module_0_lambda: 0.1681 - 1__decoder_attention_module_1_lambda: -0.3600 - 2__encoder_attention_module_0_lambda: -0.3140 - 2__encoder_attention_module_1_lambda: -0.1540 - 2__encoder_attention_module_2_lambda: -0.0499 - 2__decoder_attention_module_0_lambda: 0.1439 - 2__decoder_attention_module_1_lambda: 0.3645 - 0__encoded_vec_wt: 0.3628 - 1__encoded_vec_wt: 0.3506 - 2__encoded_vec_wt: 0.2626 - 0__decoded_vec_wt: 0.1551 - 1__decoded_vec_wt: 0.6867 - 2__decoded_vec_wt: 0.7536 - val_loss: 0.0017 - val_mse: 0.0015 - val_NMSE: 0.0134\n"
     ]
    },
    {
     "name": "stdout",
     "output_type": "stream",
     "text": [
      "Epoch 24/200\n",
      "1249/1250 [============================>.] - ETA: 0s - loss: 0.0018 - mse: 0.0015 - NMSE: 0.0139 - 0__encoder_attention_module_0_lambda: 0.1131 - 0__encoder_attention_module_1_lambda: 0.0528 - 0__encoder_attention_module_2_lambda: 0.0418 - 0__decoder_attention_module_0_lambda: 0.1876 - 0__decoder_attention_module_1_lambda: -0.2610 - 1__encoder_attention_module_0_lambda: 0.2508 - 1__encoder_attention_module_1_lambda: 0.0977 - 1__encoder_attention_module_2_lambda: 0.0566 - 1__decoder_attention_module_0_lambda: 0.1711 - 1__decoder_attention_module_1_lambda: -0.3625 - 2__encoder_attention_module_0_lambda: -0.3228 - 2__encoder_attention_module_1_lambda: -0.1584 - 2__encoder_attention_module_2_lambda: -0.0505 - 2__decoder_attention_module_0_lambda: 0.1498 - 2__decoder_attention_module_1_lambda: 0.3652 - 0__encoded_vec_wt: 0.3666 - 1__encoded_vec_wt: 0.3501 - 2__encoded_vec_wt: 0.2558 - 0__decoded_vec_wt: 0.1601 - 1__decoded_vec_wt: 0.6916 - 2__decoded_vec_wt: 0.7595 - tot_time: 0h 26m 24.5s\n",
      "\n",
      "Epoch 24: val_NMSE did not improve from 0.01319\n",
      " - saving loss histories at /home/rkaushik/Documents/Thesis/MLROM/Kolmogorov/saved_ae/ae_053/checkpoints/LossHistoriesCheckpoint\n",
      "1250/1250 [==============================] - 65s 52ms/step - loss: 0.0018 - mse: 0.0015 - NMSE: 0.0139 - 0__encoder_attention_module_0_lambda: 0.1131 - 0__encoder_attention_module_1_lambda: 0.0528 - 0__encoder_attention_module_2_lambda: 0.0418 - 0__decoder_attention_module_0_lambda: 0.1876 - 0__decoder_attention_module_1_lambda: -0.2610 - 1__encoder_attention_module_0_lambda: 0.2508 - 1__encoder_attention_module_1_lambda: 0.0977 - 1__encoder_attention_module_2_lambda: 0.0566 - 1__decoder_attention_module_0_lambda: 0.1711 - 1__decoder_attention_module_1_lambda: -0.3625 - 2__encoder_attention_module_0_lambda: -0.3228 - 2__encoder_attention_module_1_lambda: -0.1584 - 2__encoder_attention_module_2_lambda: -0.0505 - 2__decoder_attention_module_0_lambda: 0.1498 - 2__decoder_attention_module_1_lambda: 0.3652 - 0__encoded_vec_wt: 0.3666 - 1__encoded_vec_wt: 0.3501 - 2__encoded_vec_wt: 0.2558 - 0__decoded_vec_wt: 0.1601 - 1__decoded_vec_wt: 0.6916 - 2__decoded_vec_wt: 0.7595 - val_loss: 0.0017 - val_mse: 0.0015 - val_NMSE: 0.0136\n",
      "Epoch 25/200\n",
      "1250/1250 [==============================] - ETA: 0s - loss: 0.0018 - mse: 0.0015 - NMSE: 0.0138 - 0__encoder_attention_module_0_lambda: 0.1142 - 0__encoder_attention_module_1_lambda: 0.0497 - 0__encoder_attention_module_2_lambda: 0.0415 - 0__decoder_attention_module_0_lambda: 0.1950 - 0__decoder_attention_module_1_lambda: -0.2651 - 1__encoder_attention_module_0_lambda: 0.2553 - 1__encoder_attention_module_1_lambda: 0.0996 - 1__encoder_attention_module_2_lambda: 0.0584 - 1__decoder_attention_module_0_lambda: 0.1731 - 1__decoder_attention_module_1_lambda: -0.3640 - 2__encoder_attention_module_0_lambda: -0.3333 - 2__encoder_attention_module_1_lambda: -0.1653 - 2__encoder_attention_module_2_lambda: -0.0518 - 2__decoder_attention_module_0_lambda: 0.1558 - 2__decoder_attention_module_1_lambda: 0.3656 - 0__encoded_vec_wt: 0.3709 - 1__encoded_vec_wt: 0.3474 - 2__encoded_vec_wt: 0.2494 - 0__decoded_vec_wt: 0.1653 - 1__decoded_vec_wt: 0.6954 - 2__decoded_vec_wt: 0.7653 - tot_time: 0h 27m 29.9s\n",
      "\n",
      "Epoch 25: val_NMSE did not improve from 0.01319\n",
      " - saving loss histories at /home/rkaushik/Documents/Thesis/MLROM/Kolmogorov/saved_ae/ae_053/checkpoints/LossHistoriesCheckpoint\n",
      "1250/1250 [==============================] - 65s 52ms/step - loss: 0.0018 - mse: 0.0015 - NMSE: 0.0138 - 0__encoder_attention_module_0_lambda: 0.1142 - 0__encoder_attention_module_1_lambda: 0.0497 - 0__encoder_attention_module_2_lambda: 0.0415 - 0__decoder_attention_module_0_lambda: 0.1950 - 0__decoder_attention_module_1_lambda: -0.2651 - 1__encoder_attention_module_0_lambda: 0.2553 - 1__encoder_attention_module_1_lambda: 0.0996 - 1__encoder_attention_module_2_lambda: 0.0584 - 1__decoder_attention_module_0_lambda: 0.1731 - 1__decoder_attention_module_1_lambda: -0.3640 - 2__encoder_attention_module_0_lambda: -0.3333 - 2__encoder_attention_module_1_lambda: -0.1653 - 2__encoder_attention_module_2_lambda: -0.0518 - 2__decoder_attention_module_0_lambda: 0.1558 - 2__decoder_attention_module_1_lambda: 0.3656 - 0__encoded_vec_wt: 0.3709 - 1__encoded_vec_wt: 0.3474 - 2__encoded_vec_wt: 0.2494 - 0__decoded_vec_wt: 0.1653 - 1__decoded_vec_wt: 0.6954 - 2__decoded_vec_wt: 0.7653 - val_loss: 0.0017 - val_mse: 0.0015 - val_NMSE: 0.0136\n",
      "Epoch 26/200\n",
      "1250/1250 [==============================] - ETA: 0s - loss: 0.0018 - mse: 0.0015 - NMSE: 0.0138 - 0__encoder_attention_module_0_lambda: 0.1188 - 0__encoder_attention_module_1_lambda: 0.0517 - 0__encoder_attention_module_2_lambda: 0.0425 - 0__decoder_attention_module_0_lambda: 0.1998 - 0__decoder_attention_module_1_lambda: -0.2718 - 1__encoder_attention_module_0_lambda: 0.2620 - 1__encoder_attention_module_1_lambda: 0.1009 - 1__encoder_attention_module_2_lambda: 0.0565 - 1__decoder_attention_module_0_lambda: 0.1742 - 1__decoder_attention_module_1_lambda: -0.3661 - 2__encoder_attention_module_0_lambda: -0.3417 - 2__encoder_attention_module_1_lambda: -0.1734 - 2__encoder_attention_module_2_lambda: -0.0542 - 2__decoder_attention_module_0_lambda: 0.1610 - 2__decoder_attention_module_1_lambda: 0.3657 - 0__encoded_vec_wt: 0.3754 - 1__encoded_vec_wt: 0.3446 - 2__encoded_vec_wt: 0.2421 - 0__decoded_vec_wt: 0.1697 - 1__decoded_vec_wt: 0.6988 - 2__decoded_vec_wt: 0.7703 - tot_time: 0h 28m 35.2s\n",
      "\n",
      "Epoch 26: val_NMSE did not improve from 0.01319\n",
      " - saving loss histories at /home/rkaushik/Documents/Thesis/MLROM/Kolmogorov/saved_ae/ae_053/checkpoints/LossHistoriesCheckpoint\n",
      "1250/1250 [==============================] - 65s 52ms/step - loss: 0.0018 - mse: 0.0015 - NMSE: 0.0138 - 0__encoder_attention_module_0_lambda: 0.1188 - 0__encoder_attention_module_1_lambda: 0.0517 - 0__encoder_attention_module_2_lambda: 0.0425 - 0__decoder_attention_module_0_lambda: 0.1998 - 0__decoder_attention_module_1_lambda: -0.2718 - 1__encoder_attention_module_0_lambda: 0.2620 - 1__encoder_attention_module_1_lambda: 0.1009 - 1__encoder_attention_module_2_lambda: 0.0565 - 1__decoder_attention_module_0_lambda: 0.1742 - 1__decoder_attention_module_1_lambda: -0.3661 - 2__encoder_attention_module_0_lambda: -0.3417 - 2__encoder_attention_module_1_lambda: -0.1734 - 2__encoder_attention_module_2_lambda: -0.0542 - 2__decoder_attention_module_0_lambda: 0.1610 - 2__decoder_attention_module_1_lambda: 0.3657 - 0__encoded_vec_wt: 0.3754 - 1__encoded_vec_wt: 0.3446 - 2__encoded_vec_wt: 0.2421 - 0__decoded_vec_wt: 0.1697 - 1__decoded_vec_wt: 0.6988 - 2__decoded_vec_wt: 0.7703 - val_loss: 0.0018 - val_mse: 0.0016 - val_NMSE: 0.0144\n",
      "Epoch 27/200\n",
      "1250/1250 [==============================] - ETA: 0s - loss: 0.0018 - mse: 0.0015 - NMSE: 0.0137 - 0__encoder_attention_module_0_lambda: 0.1181 - 0__encoder_attention_module_1_lambda: 0.0526 - 0__encoder_attention_module_2_lambda: 0.0432 - 0__decoder_attention_module_0_lambda: 0.2061 - 0__decoder_attention_module_1_lambda: -0.2751 - 1__encoder_attention_module_0_lambda: 0.2677 - 1__encoder_attention_module_1_lambda: 0.1067 - 1__encoder_attention_module_2_lambda: 0.0563 - 1__decoder_attention_module_0_lambda: 0.1759 - 1__decoder_attention_module_1_lambda: -0.3683 - 2__encoder_attention_module_0_lambda: -0.3493 - 2__encoder_attention_module_1_lambda: -0.1820 - 2__encoder_attention_module_2_lambda: -0.0562 - 2__decoder_attention_module_0_lambda: 0.1684 - 2__decoder_attention_module_1_lambda: 0.3673 - 0__encoded_vec_wt: 0.3792 - 1__encoded_vec_wt: 0.3415 - 2__encoded_vec_wt: 0.2360 - 0__decoded_vec_wt: 0.1754 - 1__decoded_vec_wt: 0.7031 - 2__decoded_vec_wt: 0.7755 - tot_time: 0h 29m 41.0s\n",
      "\n",
      "Epoch 27: val_NMSE did not improve from 0.01319\n",
      " - saving loss histories at /home/rkaushik/Documents/Thesis/MLROM/Kolmogorov/saved_ae/ae_053/checkpoints/LossHistoriesCheckpoint\n",
      "1250/1250 [==============================] - 66s 53ms/step - loss: 0.0018 - mse: 0.0015 - NMSE: 0.0137 - 0__encoder_attention_module_0_lambda: 0.1181 - 0__encoder_attention_module_1_lambda: 0.0526 - 0__encoder_attention_module_2_lambda: 0.0432 - 0__decoder_attention_module_0_lambda: 0.2061 - 0__decoder_attention_module_1_lambda: -0.2751 - 1__encoder_attention_module_0_lambda: 0.2677 - 1__encoder_attention_module_1_lambda: 0.1067 - 1__encoder_attention_module_2_lambda: 0.0563 - 1__decoder_attention_module_0_lambda: 0.1759 - 1__decoder_attention_module_1_lambda: -0.3683 - 2__encoder_attention_module_0_lambda: -0.3493 - 2__encoder_attention_module_1_lambda: -0.1820 - 2__encoder_attention_module_2_lambda: -0.0562 - 2__decoder_attention_module_0_lambda: 0.1684 - 2__decoder_attention_module_1_lambda: 0.3673 - 0__encoded_vec_wt: 0.3792 - 1__encoded_vec_wt: 0.3415 - 2__encoded_vec_wt: 0.2360 - 0__decoded_vec_wt: 0.1754 - 1__decoded_vec_wt: 0.7031 - 2__decoded_vec_wt: 0.7755 - val_loss: 0.0017 - val_mse: 0.0015 - val_NMSE: 0.0134\n"
     ]
    },
    {
     "name": "stdout",
     "output_type": "stream",
     "text": [
      "Epoch 28/200\n",
      "1250/1250 [==============================] - ETA: 0s - loss: 0.0017 - mse: 0.0015 - NMSE: 0.0135 - 0__encoder_attention_module_0_lambda: 0.1211 - 0__encoder_attention_module_1_lambda: 0.0531 - 0__encoder_attention_module_2_lambda: 0.0431 - 0__decoder_attention_module_0_lambda: 0.2103 - 0__decoder_attention_module_1_lambda: -0.2781 - 1__encoder_attention_module_0_lambda: 0.2741 - 1__encoder_attention_module_1_lambda: 0.1094 - 1__encoder_attention_module_2_lambda: 0.0557 - 1__decoder_attention_module_0_lambda: 0.1771 - 1__decoder_attention_module_1_lambda: -0.3711 - 2__encoder_attention_module_0_lambda: -0.3557 - 2__encoder_attention_module_1_lambda: -0.1885 - 2__encoder_attention_module_2_lambda: -0.0579 - 2__decoder_attention_module_0_lambda: 0.1766 - 2__decoder_attention_module_1_lambda: 0.3676 - 0__encoded_vec_wt: 0.3822 - 1__encoded_vec_wt: 0.3399 - 2__encoded_vec_wt: 0.2293 - 0__decoded_vec_wt: 0.1799 - 1__decoded_vec_wt: 0.7071 - 2__decoded_vec_wt: 0.7803 - tot_time: 0h 30m 46.1s\n",
      "\n",
      "Epoch 28: val_NMSE did not improve from 0.01319\n",
      " - saving loss histories at /home/rkaushik/Documents/Thesis/MLROM/Kolmogorov/saved_ae/ae_053/checkpoints/LossHistoriesCheckpoint\n",
      "1250/1250 [==============================] - 65s 52ms/step - loss: 0.0017 - mse: 0.0015 - NMSE: 0.0135 - 0__encoder_attention_module_0_lambda: 0.1211 - 0__encoder_attention_module_1_lambda: 0.0531 - 0__encoder_attention_module_2_lambda: 0.0431 - 0__decoder_attention_module_0_lambda: 0.2103 - 0__decoder_attention_module_1_lambda: -0.2781 - 1__encoder_attention_module_0_lambda: 0.2741 - 1__encoder_attention_module_1_lambda: 0.1094 - 1__encoder_attention_module_2_lambda: 0.0557 - 1__decoder_attention_module_0_lambda: 0.1771 - 1__decoder_attention_module_1_lambda: -0.3711 - 2__encoder_attention_module_0_lambda: -0.3557 - 2__encoder_attention_module_1_lambda: -0.1885 - 2__encoder_attention_module_2_lambda: -0.0579 - 2__decoder_attention_module_0_lambda: 0.1766 - 2__decoder_attention_module_1_lambda: 0.3676 - 0__encoded_vec_wt: 0.3822 - 1__encoded_vec_wt: 0.3399 - 2__encoded_vec_wt: 0.2293 - 0__decoded_vec_wt: 0.1799 - 1__decoded_vec_wt: 0.7071 - 2__decoded_vec_wt: 0.7803 - val_loss: 0.0018 - val_mse: 0.0016 - val_NMSE: 0.0142\n",
      "Epoch 29/200\n",
      "1249/1250 [============================>.] - ETA: 0s - loss: 0.0017 - mse: 0.0015 - NMSE: 0.0135 - 0__encoder_attention_module_0_lambda: 0.1250 - 0__encoder_attention_module_1_lambda: 0.0533 - 0__encoder_attention_module_2_lambda: 0.0413 - 0__decoder_attention_module_0_lambda: 0.2132 - 0__decoder_attention_module_1_lambda: -0.2807 - 1__encoder_attention_module_0_lambda: 0.2775 - 1__encoder_attention_module_1_lambda: 0.1127 - 1__encoder_attention_module_2_lambda: 0.0564 - 1__decoder_attention_module_0_lambda: 0.1787 - 1__decoder_attention_module_1_lambda: -0.3739 - 2__encoder_attention_module_0_lambda: -0.3570 - 2__encoder_attention_module_1_lambda: -0.1941 - 2__encoder_attention_module_2_lambda: -0.0586 - 2__decoder_attention_module_0_lambda: 0.1833 - 2__decoder_attention_module_1_lambda: 0.3680 - 0__encoded_vec_wt: 0.3852 - 1__encoded_vec_wt: 0.3374 - 2__encoded_vec_wt: 0.2230 - 0__decoded_vec_wt: 0.1841 - 1__decoded_vec_wt: 0.7120 - 2__decoded_vec_wt: 0.7853 - tot_time: 0h 31m 50.7s\n",
      "\n",
      "Epoch 29: val_NMSE did not improve from 0.01319\n",
      " - saving loss histories at /home/rkaushik/Documents/Thesis/MLROM/Kolmogorov/saved_ae/ae_053/checkpoints/LossHistoriesCheckpoint\n",
      "1250/1250 [==============================] - 65s 52ms/step - loss: 0.0017 - mse: 0.0015 - NMSE: 0.0135 - 0__encoder_attention_module_0_lambda: 0.1250 - 0__encoder_attention_module_1_lambda: 0.0533 - 0__encoder_attention_module_2_lambda: 0.0413 - 0__decoder_attention_module_0_lambda: 0.2132 - 0__decoder_attention_module_1_lambda: -0.2807 - 1__encoder_attention_module_0_lambda: 0.2775 - 1__encoder_attention_module_1_lambda: 0.1127 - 1__encoder_attention_module_2_lambda: 0.0564 - 1__decoder_attention_module_0_lambda: 0.1787 - 1__decoder_attention_module_1_lambda: -0.3739 - 2__encoder_attention_module_0_lambda: -0.3571 - 2__encoder_attention_module_1_lambda: -0.1942 - 2__encoder_attention_module_2_lambda: -0.0586 - 2__decoder_attention_module_0_lambda: 0.1833 - 2__decoder_attention_module_1_lambda: 0.3680 - 0__encoded_vec_wt: 0.3852 - 1__encoded_vec_wt: 0.3374 - 2__encoded_vec_wt: 0.2230 - 0__decoded_vec_wt: 0.1841 - 1__decoded_vec_wt: 0.7120 - 2__decoded_vec_wt: 0.7853 - val_loss: 0.0018 - val_mse: 0.0015 - val_NMSE: 0.0138\n",
      "Epoch 30/200\n",
      "1250/1250 [==============================] - ETA: 0s - loss: 0.0017 - mse: 0.0015 - NMSE: 0.0135 - 0__encoder_attention_module_0_lambda: 0.1264 - 0__encoder_attention_module_1_lambda: 0.0555 - 0__encoder_attention_module_2_lambda: 0.0413 - 0__decoder_attention_module_0_lambda: 0.2168 - 0__decoder_attention_module_1_lambda: -0.2803 - 1__encoder_attention_module_0_lambda: 0.2849 - 1__encoder_attention_module_1_lambda: 0.1158 - 1__encoder_attention_module_2_lambda: 0.0583 - 1__decoder_attention_module_0_lambda: 0.1801 - 1__decoder_attention_module_1_lambda: -0.3759 - 2__encoder_attention_module_0_lambda: -0.3634 - 2__encoder_attention_module_1_lambda: -0.1994 - 2__encoder_attention_module_2_lambda: -0.0654 - 2__decoder_attention_module_0_lambda: 0.1883 - 2__decoder_attention_module_1_lambda: 0.3666 - 0__encoded_vec_wt: 0.3894 - 1__encoded_vec_wt: 0.3336 - 2__encoded_vec_wt: 0.2161 - 0__decoded_vec_wt: 0.1883 - 1__decoded_vec_wt: 0.7160 - 2__decoded_vec_wt: 0.7899 - tot_time: 0h 32m 55.4s\n",
      "\n",
      "Epoch 30: val_NMSE did not improve from 0.01319\n",
      " - saving loss histories at /home/rkaushik/Documents/Thesis/MLROM/Kolmogorov/saved_ae/ae_053/checkpoints/LossHistoriesCheckpoint\n",
      "1250/1250 [==============================] - 65s 52ms/step - loss: 0.0017 - mse: 0.0015 - NMSE: 0.0135 - 0__encoder_attention_module_0_lambda: 0.1264 - 0__encoder_attention_module_1_lambda: 0.0555 - 0__encoder_attention_module_2_lambda: 0.0413 - 0__decoder_attention_module_0_lambda: 0.2168 - 0__decoder_attention_module_1_lambda: -0.2803 - 1__encoder_attention_module_0_lambda: 0.2849 - 1__encoder_attention_module_1_lambda: 0.1158 - 1__encoder_attention_module_2_lambda: 0.0583 - 1__decoder_attention_module_0_lambda: 0.1801 - 1__decoder_attention_module_1_lambda: -0.3759 - 2__encoder_attention_module_0_lambda: -0.3634 - 2__encoder_attention_module_1_lambda: -0.1994 - 2__encoder_attention_module_2_lambda: -0.0654 - 2__decoder_attention_module_0_lambda: 0.1884 - 2__decoder_attention_module_1_lambda: 0.3666 - 0__encoded_vec_wt: 0.3894 - 1__encoded_vec_wt: 0.3336 - 2__encoded_vec_wt: 0.2161 - 0__decoded_vec_wt: 0.1883 - 1__decoded_vec_wt: 0.7160 - 2__decoded_vec_wt: 0.7899 - val_loss: 0.0017 - val_mse: 0.0015 - val_NMSE: 0.0134\n",
      "Epoch 31/200\n",
      "1250/1250 [==============================] - ETA: 0s - loss: 0.0017 - mse: 0.0015 - NMSE: 0.0134 - 0__encoder_attention_module_0_lambda: 0.1298 - 0__encoder_attention_module_1_lambda: 0.0553 - 0__encoder_attention_module_2_lambda: 0.0415 - 0__decoder_attention_module_0_lambda: 0.2209 - 0__decoder_attention_module_1_lambda: -0.2828 - 1__encoder_attention_module_0_lambda: 0.2903 - 1__encoder_attention_module_1_lambda: 0.1162 - 1__encoder_attention_module_2_lambda: 0.0549 - 1__decoder_attention_module_0_lambda: 0.1813 - 1__decoder_attention_module_1_lambda: -0.3763 - 2__encoder_attention_module_0_lambda: -0.3708 - 2__encoder_attention_module_1_lambda: -0.2049 - 2__encoder_attention_module_2_lambda: -0.0621 - 2__decoder_attention_module_0_lambda: 0.1954 - 2__decoder_attention_module_1_lambda: 0.3681 - 0__encoded_vec_wt: 0.3932 - 1__encoded_vec_wt: 0.3317 - 2__encoded_vec_wt: 0.2073 - 0__decoded_vec_wt: 0.1923 - 1__decoded_vec_wt: 0.7191 - 2__decoded_vec_wt: 0.7941Restoring model weights from the end of the best epoch: 21.\n",
      " - tot_time: 0h 34m 0.1s\n",
      "\n",
      "Epoch 31: val_NMSE did not improve from 0.01319\n",
      " - saving loss histories at /home/rkaushik/Documents/Thesis/MLROM/Kolmogorov/saved_ae/ae_053/checkpoints/LossHistoriesCheckpoint\n",
      "1250/1250 [==============================] - 65s 52ms/step - loss: 0.0017 - mse: 0.0015 - NMSE: 0.0134 - 0__encoder_attention_module_0_lambda: 0.1298 - 0__encoder_attention_module_1_lambda: 0.0553 - 0__encoder_attention_module_2_lambda: 0.0415 - 0__decoder_attention_module_0_lambda: 0.2209 - 0__decoder_attention_module_1_lambda: -0.2828 - 1__encoder_attention_module_0_lambda: 0.2903 - 1__encoder_attention_module_1_lambda: 0.1162 - 1__encoder_attention_module_2_lambda: 0.0549 - 1__decoder_attention_module_0_lambda: 0.1813 - 1__decoder_attention_module_1_lambda: -0.3763 - 2__encoder_attention_module_0_lambda: -0.3708 - 2__encoder_attention_module_1_lambda: -0.2049 - 2__encoder_attention_module_2_lambda: -0.0621 - 2__decoder_attention_module_0_lambda: 0.1954 - 2__decoder_attention_module_1_lambda: 0.3681 - 0__encoded_vec_wt: 0.3932 - 1__encoded_vec_wt: 0.3317 - 2__encoded_vec_wt: 0.2073 - 0__decoded_vec_wt: 0.1923 - 1__decoded_vec_wt: 0.7191 - 2__decoded_vec_wt: 0.7941 - val_loss: 0.0018 - val_mse: 0.0015 - val_NMSE: 0.0138\n"
     ]
    },
    {
     "name": "stdout",
     "output_type": "stream",
     "text": [
      "Epoch 31: early stopping\n",
      "\n",
      "\n",
      "--------------------------------------------------------------------------------\n",
      "\n",
      "---------------------------- LEARNING RATE : 0.0001 ----------------------------\n",
      "\n",
      "--------------------------------------------------------------------------------\n",
      "\n",
      "\n",
      "Epoch 1/200\n",
      "1249/1250 [============================>.] - ETA: 0s - loss: 0.0016 - mse: 0.0013 - NMSE: 0.0120 - 0__encoder_attention_module_0_lambda: 0.1140 - 0__encoder_attention_module_1_lambda: 0.0523 - 0__encoder_attention_module_2_lambda: 0.0430 - 0__decoder_attention_module_0_lambda: 0.1774 - 0__decoder_attention_module_1_lambda: -0.2493 - 1__encoder_attention_module_0_lambda: 0.2378 - 1__encoder_attention_module_1_lambda: 0.0868 - 1__encoder_attention_module_2_lambda: 0.0561 - 1__decoder_attention_module_0_lambda: 0.1634 - 1__decoder_attention_module_1_lambda: -0.3540 - 2__encoder_attention_module_0_lambda: -0.3014 - 2__encoder_attention_module_1_lambda: -0.1462 - 2__encoder_attention_module_2_lambda: -0.0470 - 2__decoder_attention_module_0_lambda: 0.1354 - 2__decoder_attention_module_1_lambda: 0.3619 - 0__encoded_vec_wt: 0.3539 - 1__encoded_vec_wt: 0.3555 - 2__encoded_vec_wt: 0.2733 - 0__decoded_vec_wt: 0.1484 - 1__decoded_vec_wt: 0.6806 - 2__decoded_vec_wt: 0.7460 - tot_time: 0h 35m 7.2s\n",
      "\n",
      "Epoch 1: val_NMSE improved from 0.01319 to 0.01209, saving model to /home/rkaushik/Documents/Thesis/MLROM/Kolmogorov/saved_ae/ae_053/checkpoints/checkpoint\n",
      " - saving loss histories at /home/rkaushik/Documents/Thesis/MLROM/Kolmogorov/saved_ae/ae_053/checkpoints/LossHistoriesCheckpoint\n",
      "1250/1250 [==============================] - 66s 53ms/step - loss: 0.0016 - mse: 0.0013 - NMSE: 0.0120 - 0__encoder_attention_module_0_lambda: 0.1140 - 0__encoder_attention_module_1_lambda: 0.0523 - 0__encoder_attention_module_2_lambda: 0.0430 - 0__decoder_attention_module_0_lambda: 0.1774 - 0__decoder_attention_module_1_lambda: -0.2493 - 1__encoder_attention_module_0_lambda: 0.2378 - 1__encoder_attention_module_1_lambda: 0.0868 - 1__encoder_attention_module_2_lambda: 0.0561 - 1__decoder_attention_module_0_lambda: 0.1634 - 1__decoder_attention_module_1_lambda: -0.3540 - 2__encoder_attention_module_0_lambda: -0.3014 - 2__encoder_attention_module_1_lambda: -0.1462 - 2__encoder_attention_module_2_lambda: -0.0470 - 2__decoder_attention_module_0_lambda: 0.1354 - 2__decoder_attention_module_1_lambda: 0.3619 - 0__encoded_vec_wt: 0.3539 - 1__encoded_vec_wt: 0.3555 - 2__encoded_vec_wt: 0.2733 - 0__decoded_vec_wt: 0.1484 - 1__decoded_vec_wt: 0.6806 - 2__decoded_vec_wt: 0.7460 - val_loss: 0.0016 - val_mse: 0.0013 - val_NMSE: 0.0121\n",
      "Epoch 2/200\n",
      "1249/1250 [============================>.] - ETA: 0s - loss: 0.0015 - mse: 0.0013 - NMSE: 0.0118 - 0__encoder_attention_module_0_lambda: 0.1146 - 0__encoder_attention_module_1_lambda: 0.0543 - 0__encoder_attention_module_2_lambda: 0.0425 - 0__decoder_attention_module_0_lambda: 0.1762 - 0__decoder_attention_module_1_lambda: -0.2504 - 1__encoder_attention_module_0_lambda: 0.2409 - 1__encoder_attention_module_1_lambda: 0.0905 - 1__encoder_attention_module_2_lambda: 0.0568 - 1__decoder_attention_module_0_lambda: 0.1624 - 1__decoder_attention_module_1_lambda: -0.3549 - 2__encoder_attention_module_0_lambda: -0.3019 - 2__encoder_attention_module_1_lambda: -0.1510 - 2__encoder_attention_module_2_lambda: -0.0457 - 2__decoder_attention_module_0_lambda: 0.1350 - 2__decoder_attention_module_1_lambda: 0.3656 - 0__encoded_vec_wt: 0.3517 - 1__encoded_vec_wt: 0.3569 - 2__encoded_vec_wt: 0.2744 - 0__decoded_vec_wt: 0.1513 - 1__decoded_vec_wt: 0.6818 - 2__decoded_vec_wt: 0.7476 - tot_time: 0h 36m 12.7s\n",
      "\n",
      "Epoch 2: val_NMSE improved from 0.01209 to 0.01167, saving model to /home/rkaushik/Documents/Thesis/MLROM/Kolmogorov/saved_ae/ae_053/checkpoints/checkpoint\n",
      " - saving loss histories at /home/rkaushik/Documents/Thesis/MLROM/Kolmogorov/saved_ae/ae_053/checkpoints/LossHistoriesCheckpoint\n",
      "1250/1250 [==============================] - 66s 52ms/step - loss: 0.0015 - mse: 0.0013 - NMSE: 0.0118 - 0__encoder_attention_module_0_lambda: 0.1146 - 0__encoder_attention_module_1_lambda: 0.0543 - 0__encoder_attention_module_2_lambda: 0.0425 - 0__decoder_attention_module_0_lambda: 0.1762 - 0__decoder_attention_module_1_lambda: -0.2504 - 1__encoder_attention_module_0_lambda: 0.2409 - 1__encoder_attention_module_1_lambda: 0.0905 - 1__encoder_attention_module_2_lambda: 0.0568 - 1__decoder_attention_module_0_lambda: 0.1624 - 1__decoder_attention_module_1_lambda: -0.3549 - 2__encoder_attention_module_0_lambda: -0.3019 - 2__encoder_attention_module_1_lambda: -0.1510 - 2__encoder_attention_module_2_lambda: -0.0457 - 2__decoder_attention_module_0_lambda: 0.1350 - 2__decoder_attention_module_1_lambda: 0.3656 - 0__encoded_vec_wt: 0.3517 - 1__encoded_vec_wt: 0.3569 - 2__encoded_vec_wt: 0.2744 - 0__decoded_vec_wt: 0.1513 - 1__decoded_vec_wt: 0.6818 - 2__decoded_vec_wt: 0.7476 - val_loss: 0.0015 - val_mse: 0.0013 - val_NMSE: 0.0117\n",
      "Epoch 3/200\n",
      "1250/1250 [==============================] - ETA: 0s - loss: 0.0015 - mse: 0.0013 - NMSE: 0.0117 - 0__encoder_attention_module_0_lambda: 0.1134 - 0__encoder_attention_module_1_lambda: 0.0557 - 0__encoder_attention_module_2_lambda: 0.0430 - 0__decoder_attention_module_0_lambda: 0.1744 - 0__decoder_attention_module_1_lambda: -0.2526 - 1__encoder_attention_module_0_lambda: 0.2415 - 1__encoder_attention_module_1_lambda: 0.0924 - 1__encoder_attention_module_2_lambda: 0.0576 - 1__decoder_attention_module_0_lambda: 0.1624 - 1__decoder_attention_module_1_lambda: -0.3557 - 2__encoder_attention_module_0_lambda: -0.3033 - 2__encoder_attention_module_1_lambda: -0.1539 - 2__encoder_attention_module_2_lambda: -0.0447 - 2__decoder_attention_module_0_lambda: 0.1351 - 2__decoder_attention_module_1_lambda: 0.3681 - 0__encoded_vec_wt: 0.3498 - 1__encoded_vec_wt: 0.3584 - 2__encoded_vec_wt: 0.2751 - 0__decoded_vec_wt: 0.1537 - 1__decoded_vec_wt: 0.6829 - 2__decoded_vec_wt: 0.7489 - tot_time: 0h 37m 18.7s\n",
      "\n",
      "Epoch 3: val_NMSE did not improve from 0.01167\n",
      " - saving loss histories at /home/rkaushik/Documents/Thesis/MLROM/Kolmogorov/saved_ae/ae_053/checkpoints/LossHistoriesCheckpoint\n",
      "1250/1250 [==============================] - 66s 53ms/step - loss: 0.0015 - mse: 0.0013 - NMSE: 0.0117 - 0__encoder_attention_module_0_lambda: 0.1134 - 0__encoder_attention_module_1_lambda: 0.0557 - 0__encoder_attention_module_2_lambda: 0.0430 - 0__decoder_attention_module_0_lambda: 0.1744 - 0__decoder_attention_module_1_lambda: -0.2526 - 1__encoder_attention_module_0_lambda: 0.2415 - 1__encoder_attention_module_1_lambda: 0.0924 - 1__encoder_attention_module_2_lambda: 0.0576 - 1__decoder_attention_module_0_lambda: 0.1624 - 1__decoder_attention_module_1_lambda: -0.3557 - 2__encoder_attention_module_0_lambda: -0.3033 - 2__encoder_attention_module_1_lambda: -0.1539 - 2__encoder_attention_module_2_lambda: -0.0447 - 2__decoder_attention_module_0_lambda: 0.1351 - 2__decoder_attention_module_1_lambda: 0.3681 - 0__encoded_vec_wt: 0.3498 - 1__encoded_vec_wt: 0.3584 - 2__encoded_vec_wt: 0.2751 - 0__decoded_vec_wt: 0.1537 - 1__decoded_vec_wt: 0.6829 - 2__decoded_vec_wt: 0.7489 - val_loss: 0.0016 - val_mse: 0.0014 - val_NMSE: 0.0123\n",
      "Epoch 4/200\n",
      "1250/1250 [==============================] - ETA: 0s - loss: 0.0015 - mse: 0.0013 - NMSE: 0.0116 - 0__encoder_attention_module_0_lambda: 0.1129 - 0__encoder_attention_module_1_lambda: 0.0569 - 0__encoder_attention_module_2_lambda: 0.0438 - 0__decoder_attention_module_0_lambda: 0.1729 - 0__decoder_attention_module_1_lambda: -0.2538 - 1__encoder_attention_module_0_lambda: 0.2421 - 1__encoder_attention_module_1_lambda: 0.0939 - 1__encoder_attention_module_2_lambda: 0.0582 - 1__decoder_attention_module_0_lambda: 0.1620 - 1__decoder_attention_module_1_lambda: -0.3557 - 2__encoder_attention_module_0_lambda: -0.3034 - 2__encoder_attention_module_1_lambda: -0.1570 - 2__encoder_attention_module_2_lambda: -0.0429 - 2__decoder_attention_module_0_lambda: 0.1354 - 2__decoder_attention_module_1_lambda: 0.3694 - 0__encoded_vec_wt: 0.3482 - 1__encoded_vec_wt: 0.3596 - 2__encoded_vec_wt: 0.2755 - 0__decoded_vec_wt: 0.1558 - 1__decoded_vec_wt: 0.6840 - 2__decoded_vec_wt: 0.7503 - tot_time: 0h 38m 24.8s\n",
      "\n",
      "Epoch 4: val_NMSE improved from 0.01167 to 0.01125, saving model to /home/rkaushik/Documents/Thesis/MLROM/Kolmogorov/saved_ae/ae_053/checkpoints/checkpoint\n"
     ]
    },
    {
     "name": "stdout",
     "output_type": "stream",
     "text": [
      " - saving loss histories at /home/rkaushik/Documents/Thesis/MLROM/Kolmogorov/saved_ae/ae_053/checkpoints/LossHistoriesCheckpoint\n",
      "1250/1250 [==============================] - 66s 53ms/step - loss: 0.0015 - mse: 0.0013 - NMSE: 0.0116 - 0__encoder_attention_module_0_lambda: 0.1129 - 0__encoder_attention_module_1_lambda: 0.0569 - 0__encoder_attention_module_2_lambda: 0.0438 - 0__decoder_attention_module_0_lambda: 0.1729 - 0__decoder_attention_module_1_lambda: -0.2538 - 1__encoder_attention_module_0_lambda: 0.2421 - 1__encoder_attention_module_1_lambda: 0.0939 - 1__encoder_attention_module_2_lambda: 0.0582 - 1__decoder_attention_module_0_lambda: 0.1620 - 1__decoder_attention_module_1_lambda: -0.3557 - 2__encoder_attention_module_0_lambda: -0.3034 - 2__encoder_attention_module_1_lambda: -0.1570 - 2__encoder_attention_module_2_lambda: -0.0429 - 2__decoder_attention_module_0_lambda: 0.1354 - 2__decoder_attention_module_1_lambda: 0.3694 - 0__encoded_vec_wt: 0.3482 - 1__encoded_vec_wt: 0.3596 - 2__encoded_vec_wt: 0.2755 - 0__decoded_vec_wt: 0.1558 - 1__decoded_vec_wt: 0.6840 - 2__decoded_vec_wt: 0.7503 - val_loss: 0.0015 - val_mse: 0.0013 - val_NMSE: 0.0113\n",
      "Epoch 5/200\n",
      "1250/1250 [==============================] - ETA: 0s - loss: 0.0015 - mse: 0.0013 - NMSE: 0.0116 - 0__encoder_attention_module_0_lambda: 0.1122 - 0__encoder_attention_module_1_lambda: 0.0577 - 0__encoder_attention_module_2_lambda: 0.0441 - 0__decoder_attention_module_0_lambda: 0.1720 - 0__decoder_attention_module_1_lambda: -0.2551 - 1__encoder_attention_module_0_lambda: 0.2424 - 1__encoder_attention_module_1_lambda: 0.0948 - 1__encoder_attention_module_2_lambda: 0.0577 - 1__decoder_attention_module_0_lambda: 0.1622 - 1__decoder_attention_module_1_lambda: -0.3564 - 2__encoder_attention_module_0_lambda: -0.3038 - 2__encoder_attention_module_1_lambda: -0.1589 - 2__encoder_attention_module_2_lambda: -0.0429 - 2__decoder_attention_module_0_lambda: 0.1353 - 2__decoder_attention_module_1_lambda: 0.3698 - 0__encoded_vec_wt: 0.3469 - 1__encoded_vec_wt: 0.3607 - 2__encoded_vec_wt: 0.2759 - 0__decoded_vec_wt: 0.1576 - 1__decoded_vec_wt: 0.6848 - 2__decoded_vec_wt: 0.7514 - tot_time: 0h 39m 30.8s\n",
      "\n",
      "Epoch 5: val_NMSE did not improve from 0.01125\n",
      " - saving loss histories at /home/rkaushik/Documents/Thesis/MLROM/Kolmogorov/saved_ae/ae_053/checkpoints/LossHistoriesCheckpoint\n",
      "1250/1250 [==============================] - 66s 53ms/step - loss: 0.0015 - mse: 0.0013 - NMSE: 0.0116 - 0__encoder_attention_module_0_lambda: 0.1122 - 0__encoder_attention_module_1_lambda: 0.0577 - 0__encoder_attention_module_2_lambda: 0.0441 - 0__decoder_attention_module_0_lambda: 0.1720 - 0__decoder_attention_module_1_lambda: -0.2551 - 1__encoder_attention_module_0_lambda: 0.2424 - 1__encoder_attention_module_1_lambda: 0.0948 - 1__encoder_attention_module_2_lambda: 0.0577 - 1__decoder_attention_module_0_lambda: 0.1622 - 1__decoder_attention_module_1_lambda: -0.3564 - 2__encoder_attention_module_0_lambda: -0.3038 - 2__encoder_attention_module_1_lambda: -0.1589 - 2__encoder_attention_module_2_lambda: -0.0429 - 2__decoder_attention_module_0_lambda: 0.1353 - 2__decoder_attention_module_1_lambda: 0.3698 - 0__encoded_vec_wt: 0.3469 - 1__encoded_vec_wt: 0.3607 - 2__encoded_vec_wt: 0.2759 - 0__decoded_vec_wt: 0.1576 - 1__decoded_vec_wt: 0.6848 - 2__decoded_vec_wt: 0.7514 - val_loss: 0.0015 - val_mse: 0.0013 - val_NMSE: 0.0113\n",
      "Epoch 6/200\n",
      "1250/1250 [==============================] - ETA: 0s - loss: 0.0015 - mse: 0.0013 - NMSE: 0.0115 - 0__encoder_attention_module_0_lambda: 0.1125 - 0__encoder_attention_module_1_lambda: 0.0584 - 0__encoder_attention_module_2_lambda: 0.0451 - 0__decoder_attention_module_0_lambda: 0.1725 - 0__decoder_attention_module_1_lambda: -0.2573 - 1__encoder_attention_module_0_lambda: 0.2432 - 1__encoder_attention_module_1_lambda: 0.0951 - 1__encoder_attention_module_2_lambda: 0.0586 - 1__decoder_attention_module_0_lambda: 0.1621 - 1__decoder_attention_module_1_lambda: -0.3568 - 2__encoder_attention_module_0_lambda: -0.3040 - 2__encoder_attention_module_1_lambda: -0.1607 - 2__encoder_attention_module_2_lambda: -0.0431 - 2__decoder_attention_module_0_lambda: 0.1351 - 2__decoder_attention_module_1_lambda: 0.3703 - 0__encoded_vec_wt: 0.3456 - 1__encoded_vec_wt: 0.3617 - 2__encoded_vec_wt: 0.2761 - 0__decoded_vec_wt: 0.1592 - 1__decoded_vec_wt: 0.6856 - 2__decoded_vec_wt: 0.7524 - tot_time: 0h 40m 36.3s\n",
      "\n",
      "Epoch 6: val_NMSE did not improve from 0.01125\n",
      " - saving loss histories at /home/rkaushik/Documents/Thesis/MLROM/Kolmogorov/saved_ae/ae_053/checkpoints/LossHistoriesCheckpoint\n",
      "1250/1250 [==============================] - 65s 52ms/step - loss: 0.0015 - mse: 0.0013 - NMSE: 0.0115 - 0__encoder_attention_module_0_lambda: 0.1125 - 0__encoder_attention_module_1_lambda: 0.0584 - 0__encoder_attention_module_2_lambda: 0.0451 - 0__decoder_attention_module_0_lambda: 0.1725 - 0__decoder_attention_module_1_lambda: -0.2573 - 1__encoder_attention_module_0_lambda: 0.2432 - 1__encoder_attention_module_1_lambda: 0.0951 - 1__encoder_attention_module_2_lambda: 0.0586 - 1__decoder_attention_module_0_lambda: 0.1621 - 1__decoder_attention_module_1_lambda: -0.3568 - 2__encoder_attention_module_0_lambda: -0.3040 - 2__encoder_attention_module_1_lambda: -0.1607 - 2__encoder_attention_module_2_lambda: -0.0431 - 2__decoder_attention_module_0_lambda: 0.1351 - 2__decoder_attention_module_1_lambda: 0.3703 - 0__encoded_vec_wt: 0.3456 - 1__encoded_vec_wt: 0.3617 - 2__encoded_vec_wt: 0.2761 - 0__decoded_vec_wt: 0.1592 - 1__decoded_vec_wt: 0.6856 - 2__decoded_vec_wt: 0.7524 - val_loss: 0.0015 - val_mse: 0.0013 - val_NMSE: 0.0114\n",
      "Epoch 7/200\n",
      "1250/1250 [==============================] - ETA: 0s - loss: 0.0015 - mse: 0.0013 - NMSE: 0.0114 - 0__encoder_attention_module_0_lambda: 0.1123 - 0__encoder_attention_module_1_lambda: 0.0595 - 0__encoder_attention_module_2_lambda: 0.0455 - 0__decoder_attention_module_0_lambda: 0.1721 - 0__decoder_attention_module_1_lambda: -0.2583 - 1__encoder_attention_module_0_lambda: 0.2438 - 1__encoder_attention_module_1_lambda: 0.0977 - 1__encoder_attention_module_2_lambda: 0.0583 - 1__decoder_attention_module_0_lambda: 0.1624 - 1__decoder_attention_module_1_lambda: -0.3570 - 2__encoder_attention_module_0_lambda: -0.3049 - 2__encoder_attention_module_1_lambda: -0.1628 - 2__encoder_attention_module_2_lambda: -0.0422 - 2__decoder_attention_module_0_lambda: 0.1353 - 2__decoder_attention_module_1_lambda: 0.3714 - 0__encoded_vec_wt: 0.3445 - 1__encoded_vec_wt: 0.3625 - 2__encoded_vec_wt: 0.2762 - 0__decoded_vec_wt: 0.1608 - 1__decoded_vec_wt: 0.6863 - 2__decoded_vec_wt: 0.7534 - tot_time: 0h 41m 41.3s\n",
      "\n",
      "Epoch 7: val_NMSE did not improve from 0.01125\n",
      " - saving loss histories at /home/rkaushik/Documents/Thesis/MLROM/Kolmogorov/saved_ae/ae_053/checkpoints/LossHistoriesCheckpoint\n",
      "1250/1250 [==============================] - 65s 52ms/step - loss: 0.0015 - mse: 0.0013 - NMSE: 0.0114 - 0__encoder_attention_module_0_lambda: 0.1123 - 0__encoder_attention_module_1_lambda: 0.0595 - 0__encoder_attention_module_2_lambda: 0.0455 - 0__decoder_attention_module_0_lambda: 0.1721 - 0__decoder_attention_module_1_lambda: -0.2583 - 1__encoder_attention_module_0_lambda: 0.2438 - 1__encoder_attention_module_1_lambda: 0.0977 - 1__encoder_attention_module_2_lambda: 0.0583 - 1__decoder_attention_module_0_lambda: 0.1624 - 1__decoder_attention_module_1_lambda: -0.3570 - 2__encoder_attention_module_0_lambda: -0.3049 - 2__encoder_attention_module_1_lambda: -0.1628 - 2__encoder_attention_module_2_lambda: -0.0422 - 2__decoder_attention_module_0_lambda: 0.1353 - 2__decoder_attention_module_1_lambda: 0.3714 - 0__encoded_vec_wt: 0.3445 - 1__encoded_vec_wt: 0.3625 - 2__encoded_vec_wt: 0.2762 - 0__decoded_vec_wt: 0.1608 - 1__decoded_vec_wt: 0.6863 - 2__decoded_vec_wt: 0.7534 - val_loss: 0.0015 - val_mse: 0.0013 - val_NMSE: 0.0116\n",
      "Epoch 8/200\n",
      "1250/1250 [==============================] - ETA: 0s - loss: 0.0015 - mse: 0.0013 - NMSE: 0.0114 - 0__encoder_attention_module_0_lambda: 0.1124 - 0__encoder_attention_module_1_lambda: 0.0598 - 0__encoder_attention_module_2_lambda: 0.0456 - 0__decoder_attention_module_0_lambda: 0.1721 - 0__decoder_attention_module_1_lambda: -0.2602 - 1__encoder_attention_module_0_lambda: 0.2436 - 1__encoder_attention_module_1_lambda: 0.0984 - 1__encoder_attention_module_2_lambda: 0.0583 - 1__decoder_attention_module_0_lambda: 0.1624 - 1__decoder_attention_module_1_lambda: -0.3575 - 2__encoder_attention_module_0_lambda: -0.3052 - 2__encoder_attention_module_1_lambda: -0.1646 - 2__encoder_attention_module_2_lambda: -0.0415 - 2__decoder_attention_module_0_lambda: 0.1357 - 2__decoder_attention_module_1_lambda: 0.3713 - 0__encoded_vec_wt: 0.3435 - 1__encoded_vec_wt: 0.3632 - 2__encoded_vec_wt: 0.2764 - 0__decoded_vec_wt: 0.1622 - 1__decoded_vec_wt: 0.6870 - 2__decoded_vec_wt: 0.7543 - tot_time: 0h 42m 46.7s\n",
      "\n",
      "Epoch 8: val_NMSE did not improve from 0.01125\n",
      " - saving loss histories at /home/rkaushik/Documents/Thesis/MLROM/Kolmogorov/saved_ae/ae_053/checkpoints/LossHistoriesCheckpoint\n",
      "1250/1250 [==============================] - 65s 52ms/step - loss: 0.0015 - mse: 0.0013 - NMSE: 0.0114 - 0__encoder_attention_module_0_lambda: 0.1124 - 0__encoder_attention_module_1_lambda: 0.0598 - 0__encoder_attention_module_2_lambda: 0.0456 - 0__decoder_attention_module_0_lambda: 0.1721 - 0__decoder_attention_module_1_lambda: -0.2602 - 1__encoder_attention_module_0_lambda: 0.2436 - 1__encoder_attention_module_1_lambda: 0.0984 - 1__encoder_attention_module_2_lambda: 0.0583 - 1__decoder_attention_module_0_lambda: 0.1624 - 1__decoder_attention_module_1_lambda: -0.3575 - 2__encoder_attention_module_0_lambda: -0.3052 - 2__encoder_attention_module_1_lambda: -0.1646 - 2__encoder_attention_module_2_lambda: -0.0415 - 2__decoder_attention_module_0_lambda: 0.1357 - 2__decoder_attention_module_1_lambda: 0.3713 - 0__encoded_vec_wt: 0.3435 - 1__encoded_vec_wt: 0.3632 - 2__encoded_vec_wt: 0.2764 - 0__decoded_vec_wt: 0.1622 - 1__decoded_vec_wt: 0.6870 - 2__decoded_vec_wt: 0.7543 - val_loss: 0.0015 - val_mse: 0.0013 - val_NMSE: 0.0114\n",
      "Epoch 9/200\n",
      "1250/1250 [==============================] - ETA: 0s - loss: 0.0015 - mse: 0.0013 - NMSE: 0.0114 - 0__encoder_attention_module_0_lambda: 0.1118 - 0__encoder_attention_module_1_lambda: 0.0611 - 0__encoder_attention_module_2_lambda: 0.0457 - 0__decoder_attention_module_0_lambda: 0.1715 - 0__decoder_attention_module_1_lambda: -0.2615 - 1__encoder_attention_module_0_lambda: 0.2437 - 1__encoder_attention_module_1_lambda: 0.0987 - 1__encoder_attention_module_2_lambda: 0.0582 - 1__decoder_attention_module_0_lambda: 0.1627 - 1__decoder_attention_module_1_lambda: -0.3577 - 2__encoder_attention_module_0_lambda: -0.3053 - 2__encoder_attention_module_1_lambda: -0.1663 - 2__encoder_attention_module_2_lambda: -0.0420 - 2__decoder_attention_module_0_lambda: 0.1357 - 2__decoder_attention_module_1_lambda: 0.3714 - 0__encoded_vec_wt: 0.3424 - 1__encoded_vec_wt: 0.3642 - 2__encoded_vec_wt: 0.2763 - 0__decoded_vec_wt: 0.1637 - 1__decoded_vec_wt: 0.6879 - 2__decoded_vec_wt: 0.7553 - tot_time: 0h 43m 53.2s\n",
      "\n",
      "Epoch 9: val_NMSE improved from 0.01125 to 0.01117, saving model to /home/rkaushik/Documents/Thesis/MLROM/Kolmogorov/saved_ae/ae_053/checkpoints/checkpoint\n",
      " - saving loss histories at /home/rkaushik/Documents/Thesis/MLROM/Kolmogorov/saved_ae/ae_053/checkpoints/LossHistoriesCheckpoint\n",
      "1250/1250 [==============================] - 67s 53ms/step - loss: 0.0015 - mse: 0.0013 - NMSE: 0.0114 - 0__encoder_attention_module_0_lambda: 0.1118 - 0__encoder_attention_module_1_lambda: 0.0611 - 0__encoder_attention_module_2_lambda: 0.0457 - 0__decoder_attention_module_0_lambda: 0.1715 - 0__decoder_attention_module_1_lambda: -0.2615 - 1__encoder_attention_module_0_lambda: 0.2437 - 1__encoder_attention_module_1_lambda: 0.0987 - 1__encoder_attention_module_2_lambda: 0.0582 - 1__decoder_attention_module_0_lambda: 0.1627 - 1__decoder_attention_module_1_lambda: -0.3577 - 2__encoder_attention_module_0_lambda: -0.3053 - 2__encoder_attention_module_1_lambda: -0.1663 - 2__encoder_attention_module_2_lambda: -0.0419 - 2__decoder_attention_module_0_lambda: 0.1357 - 2__decoder_attention_module_1_lambda: 0.3714 - 0__encoded_vec_wt: 0.3424 - 1__encoded_vec_wt: 0.3642 - 2__encoded_vec_wt: 0.2763 - 0__decoded_vec_wt: 0.1637 - 1__decoded_vec_wt: 0.6879 - 2__decoded_vec_wt: 0.7553 - val_loss: 0.0014 - val_mse: 0.0012 - val_NMSE: 0.0112\n",
      "Epoch 10/200\n",
      "1250/1250 [==============================] - ETA: 0s - loss: 0.0015 - mse: 0.0013 - NMSE: 0.0113 - 0__encoder_attention_module_0_lambda: 0.1119 - 0__encoder_attention_module_1_lambda: 0.0615 - 0__encoder_attention_module_2_lambda: 0.0465 - 0__decoder_attention_module_0_lambda: 0.1725 - 0__decoder_attention_module_1_lambda: -0.2632 - 1__encoder_attention_module_0_lambda: 0.2443 - 1__encoder_attention_module_1_lambda: 0.0997 - 1__encoder_attention_module_2_lambda: 0.0587 - 1__decoder_attention_module_0_lambda: 0.1627 - 1__decoder_attention_module_1_lambda: -0.3580 - 2__encoder_attention_module_0_lambda: -0.3064 - 2__encoder_attention_module_1_lambda: -0.1675 - 2__encoder_attention_module_2_lambda: -0.0417 - 2__decoder_attention_module_0_lambda: 0.1361 - 2__decoder_attention_module_1_lambda: 0.3724 - 0__encoded_vec_wt: 0.3415 - 1__encoded_vec_wt: 0.3649 - 2__encoded_vec_wt: 0.2762 - 0__decoded_vec_wt: 0.1650 - 1__decoded_vec_wt: 0.6888 - 2__decoded_vec_wt: 0.7563 - tot_time: 0h 44m 59.2s\n",
      "\n",
      "Epoch 10: val_NMSE improved from 0.01117 to 0.01101, saving model to /home/rkaushik/Documents/Thesis/MLROM/Kolmogorov/saved_ae/ae_053/checkpoints/checkpoint\n",
      " - saving loss histories at /home/rkaushik/Documents/Thesis/MLROM/Kolmogorov/saved_ae/ae_053/checkpoints/LossHistoriesCheckpoint\n",
      "1250/1250 [==============================] - 66s 53ms/step - loss: 0.0015 - mse: 0.0013 - NMSE: 0.0113 - 0__encoder_attention_module_0_lambda: 0.1119 - 0__encoder_attention_module_1_lambda: 0.0615 - 0__encoder_attention_module_2_lambda: 0.0465 - 0__decoder_attention_module_0_lambda: 0.1725 - 0__decoder_attention_module_1_lambda: -0.2632 - 1__encoder_attention_module_0_lambda: 0.2443 - 1__encoder_attention_module_1_lambda: 0.0997 - 1__encoder_attention_module_2_lambda: 0.0587 - 1__decoder_attention_module_0_lambda: 0.1627 - 1__decoder_attention_module_1_lambda: -0.3580 - 2__encoder_attention_module_0_lambda: -0.3064 - 2__encoder_attention_module_1_lambda: -0.1675 - 2__encoder_attention_module_2_lambda: -0.0417 - 2__decoder_attention_module_0_lambda: 0.1361 - 2__decoder_attention_module_1_lambda: 0.3724 - 0__encoded_vec_wt: 0.3415 - 1__encoded_vec_wt: 0.3649 - 2__encoded_vec_wt: 0.2762 - 0__decoded_vec_wt: 0.1650 - 1__decoded_vec_wt: 0.6888 - 2__decoded_vec_wt: 0.7563 - val_loss: 0.0014 - val_mse: 0.0012 - val_NMSE: 0.0110\n",
      "Epoch 11/200\n",
      "1250/1250 [==============================] - ETA: 0s - loss: 0.0014 - mse: 0.0013 - NMSE: 0.0113 - 0__encoder_attention_module_0_lambda: 0.1121 - 0__encoder_attention_module_1_lambda: 0.0620 - 0__encoder_attention_module_2_lambda: 0.0469 - 0__decoder_attention_module_0_lambda: 0.1722 - 0__decoder_attention_module_1_lambda: -0.2646 - 1__encoder_attention_module_0_lambda: 0.2446 - 1__encoder_attention_module_1_lambda: 0.1017 - 1__encoder_attention_module_2_lambda: 0.0588 - 1__decoder_attention_module_0_lambda: 0.1630 - 1__decoder_attention_module_1_lambda: -0.3583 - 2__encoder_attention_module_0_lambda: -0.3068 - 2__encoder_attention_module_1_lambda: -0.1689 - 2__encoder_attention_module_2_lambda: -0.0423 - 2__decoder_attention_module_0_lambda: 0.1364 - 2__decoder_attention_module_1_lambda: 0.3721 - 0__encoded_vec_wt: 0.3406 - 1__encoded_vec_wt: 0.3654 - 2__encoded_vec_wt: 0.2763 - 0__decoded_vec_wt: 0.1661 - 1__decoded_vec_wt: 0.6895 - 2__decoded_vec_wt: 0.7572 - tot_time: 0h 46m 5.6s\n",
      "\n",
      "Epoch 11: val_NMSE did not improve from 0.01101\n",
      " - saving loss histories at /home/rkaushik/Documents/Thesis/MLROM/Kolmogorov/saved_ae/ae_053/checkpoints/LossHistoriesCheckpoint\n",
      "1250/1250 [==============================] - 66s 53ms/step - loss: 0.0014 - mse: 0.0013 - NMSE: 0.0113 - 0__encoder_attention_module_0_lambda: 0.1121 - 0__encoder_attention_module_1_lambda: 0.0620 - 0__encoder_attention_module_2_lambda: 0.0469 - 0__decoder_attention_module_0_lambda: 0.1722 - 0__decoder_attention_module_1_lambda: -0.2646 - 1__encoder_attention_module_0_lambda: 0.2446 - 1__encoder_attention_module_1_lambda: 0.1017 - 1__encoder_attention_module_2_lambda: 0.0588 - 1__decoder_attention_module_0_lambda: 0.1630 - 1__decoder_attention_module_1_lambda: -0.3583 - 2__encoder_attention_module_0_lambda: -0.3068 - 2__encoder_attention_module_1_lambda: -0.1689 - 2__encoder_attention_module_2_lambda: -0.0423 - 2__decoder_attention_module_0_lambda: 0.1364 - 2__decoder_attention_module_1_lambda: 0.3721 - 0__encoded_vec_wt: 0.3406 - 1__encoded_vec_wt: 0.3654 - 2__encoded_vec_wt: 0.2763 - 0__decoded_vec_wt: 0.1661 - 1__decoded_vec_wt: 0.6895 - 2__decoded_vec_wt: 0.7572 - val_loss: 0.0015 - val_mse: 0.0013 - val_NMSE: 0.0116\n"
     ]
    },
    {
     "name": "stdout",
     "output_type": "stream",
     "text": [
      "Epoch 12/200\n",
      "1250/1250 [==============================] - ETA: 0s - loss: 0.0014 - mse: 0.0013 - NMSE: 0.0113 - 0__encoder_attention_module_0_lambda: 0.1120 - 0__encoder_attention_module_1_lambda: 0.0631 - 0__encoder_attention_module_2_lambda: 0.0477 - 0__decoder_attention_module_0_lambda: 0.1727 - 0__decoder_attention_module_1_lambda: -0.2662 - 1__encoder_attention_module_0_lambda: 0.2451 - 1__encoder_attention_module_1_lambda: 0.1023 - 1__encoder_attention_module_2_lambda: 0.0585 - 1__decoder_attention_module_0_lambda: 0.1631 - 1__decoder_attention_module_1_lambda: -0.3583 - 2__encoder_attention_module_0_lambda: -0.3076 - 2__encoder_attention_module_1_lambda: -0.1702 - 2__encoder_attention_module_2_lambda: -0.0427 - 2__decoder_attention_module_0_lambda: 0.1365 - 2__decoder_attention_module_1_lambda: 0.3725 - 0__encoded_vec_wt: 0.3396 - 1__encoded_vec_wt: 0.3660 - 2__encoded_vec_wt: 0.2764 - 0__decoded_vec_wt: 0.1674 - 1__decoded_vec_wt: 0.6900 - 2__decoded_vec_wt: 0.7581 - tot_time: 0h 47m 10.2s\n",
      "\n",
      "Epoch 12: val_NMSE did not improve from 0.01101\n",
      " - saving loss histories at /home/rkaushik/Documents/Thesis/MLROM/Kolmogorov/saved_ae/ae_053/checkpoints/LossHistoriesCheckpoint\n",
      "1250/1250 [==============================] - 65s 52ms/step - loss: 0.0014 - mse: 0.0013 - NMSE: 0.0113 - 0__encoder_attention_module_0_lambda: 0.1120 - 0__encoder_attention_module_1_lambda: 0.0631 - 0__encoder_attention_module_2_lambda: 0.0477 - 0__decoder_attention_module_0_lambda: 0.1727 - 0__decoder_attention_module_1_lambda: -0.2662 - 1__encoder_attention_module_0_lambda: 0.2451 - 1__encoder_attention_module_1_lambda: 0.1023 - 1__encoder_attention_module_2_lambda: 0.0585 - 1__decoder_attention_module_0_lambda: 0.1631 - 1__decoder_attention_module_1_lambda: -0.3583 - 2__encoder_attention_module_0_lambda: -0.3076 - 2__encoder_attention_module_1_lambda: -0.1702 - 2__encoder_attention_module_2_lambda: -0.0427 - 2__decoder_attention_module_0_lambda: 0.1365 - 2__decoder_attention_module_1_lambda: 0.3725 - 0__encoded_vec_wt: 0.3396 - 1__encoded_vec_wt: 0.3660 - 2__encoded_vec_wt: 0.2764 - 0__decoded_vec_wt: 0.1674 - 1__decoded_vec_wt: 0.6900 - 2__decoded_vec_wt: 0.7581 - val_loss: 0.0015 - val_mse: 0.0013 - val_NMSE: 0.0116\n",
      "Epoch 13/200\n",
      "1250/1250 [==============================] - ETA: 0s - loss: 0.0014 - mse: 0.0012 - NMSE: 0.0112 - 0__encoder_attention_module_0_lambda: 0.1124 - 0__encoder_attention_module_1_lambda: 0.0634 - 0__encoder_attention_module_2_lambda: 0.0478 - 0__decoder_attention_module_0_lambda: 0.1735 - 0__decoder_attention_module_1_lambda: -0.2678 - 1__encoder_attention_module_0_lambda: 0.2455 - 1__encoder_attention_module_1_lambda: 0.1030 - 1__encoder_attention_module_2_lambda: 0.0594 - 1__decoder_attention_module_0_lambda: 0.1633 - 1__decoder_attention_module_1_lambda: -0.3590 - 2__encoder_attention_module_0_lambda: -0.3083 - 2__encoder_attention_module_1_lambda: -0.1715 - 2__encoder_attention_module_2_lambda: -0.0434 - 2__decoder_attention_module_0_lambda: 0.1371 - 2__decoder_attention_module_1_lambda: 0.3727 - 0__encoded_vec_wt: 0.3387 - 1__encoded_vec_wt: 0.3667 - 2__encoded_vec_wt: 0.2764 - 0__decoded_vec_wt: 0.1685 - 1__decoded_vec_wt: 0.6909 - 2__decoded_vec_wt: 0.7591 - tot_time: 0h 48m 16.4s\n",
      "\n",
      "Epoch 13: val_NMSE did not improve from 0.01101\n",
      " - saving loss histories at /home/rkaushik/Documents/Thesis/MLROM/Kolmogorov/saved_ae/ae_053/checkpoints/LossHistoriesCheckpoint\n",
      "1250/1250 [==============================] - 66s 53ms/step - loss: 0.0014 - mse: 0.0012 - NMSE: 0.0112 - 0__encoder_attention_module_0_lambda: 0.1124 - 0__encoder_attention_module_1_lambda: 0.0634 - 0__encoder_attention_module_2_lambda: 0.0478 - 0__decoder_attention_module_0_lambda: 0.1735 - 0__decoder_attention_module_1_lambda: -0.2678 - 1__encoder_attention_module_0_lambda: 0.2455 - 1__encoder_attention_module_1_lambda: 0.1030 - 1__encoder_attention_module_2_lambda: 0.0594 - 1__decoder_attention_module_0_lambda: 0.1633 - 1__decoder_attention_module_1_lambda: -0.3590 - 2__encoder_attention_module_0_lambda: -0.3083 - 2__encoder_attention_module_1_lambda: -0.1715 - 2__encoder_attention_module_2_lambda: -0.0434 - 2__decoder_attention_module_0_lambda: 0.1371 - 2__decoder_attention_module_1_lambda: 0.3727 - 0__encoded_vec_wt: 0.3387 - 1__encoded_vec_wt: 0.3667 - 2__encoded_vec_wt: 0.2764 - 0__decoded_vec_wt: 0.1685 - 1__decoded_vec_wt: 0.6909 - 2__decoded_vec_wt: 0.7591 - val_loss: 0.0015 - val_mse: 0.0013 - val_NMSE: 0.0114\n",
      "Epoch 14/200\n",
      "1250/1250 [==============================] - ETA: 0s - loss: 0.0014 - mse: 0.0012 - NMSE: 0.0112 - 0__encoder_attention_module_0_lambda: 0.1123 - 0__encoder_attention_module_1_lambda: 0.0644 - 0__encoder_attention_module_2_lambda: 0.0482 - 0__decoder_attention_module_0_lambda: 0.1724 - 0__decoder_attention_module_1_lambda: -0.2683 - 1__encoder_attention_module_0_lambda: 0.2459 - 1__encoder_attention_module_1_lambda: 0.1042 - 1__encoder_attention_module_2_lambda: 0.0598 - 1__decoder_attention_module_0_lambda: 0.1633 - 1__decoder_attention_module_1_lambda: -0.3591 - 2__encoder_attention_module_0_lambda: -0.3091 - 2__encoder_attention_module_1_lambda: -0.1735 - 2__encoder_attention_module_2_lambda: -0.0441 - 2__decoder_attention_module_0_lambda: 0.1371 - 2__decoder_attention_module_1_lambda: 0.3728 - 0__encoded_vec_wt: 0.3380 - 1__encoded_vec_wt: 0.3672 - 2__encoded_vec_wt: 0.2763 - 0__decoded_vec_wt: 0.1697 - 1__decoded_vec_wt: 0.6916 - 2__decoded_vec_wt: 0.7601 - tot_time: 0h 49m 22.1s\n",
      "\n",
      "Epoch 14: val_NMSE did not improve from 0.01101\n",
      " - saving loss histories at /home/rkaushik/Documents/Thesis/MLROM/Kolmogorov/saved_ae/ae_053/checkpoints/LossHistoriesCheckpoint\n",
      "1250/1250 [==============================] - 66s 53ms/step - loss: 0.0014 - mse: 0.0012 - NMSE: 0.0112 - 0__encoder_attention_module_0_lambda: 0.1123 - 0__encoder_attention_module_1_lambda: 0.0644 - 0__encoder_attention_module_2_lambda: 0.0482 - 0__decoder_attention_module_0_lambda: 0.1724 - 0__decoder_attention_module_1_lambda: -0.2683 - 1__encoder_attention_module_0_lambda: 0.2459 - 1__encoder_attention_module_1_lambda: 0.1042 - 1__encoder_attention_module_2_lambda: 0.0598 - 1__decoder_attention_module_0_lambda: 0.1633 - 1__decoder_attention_module_1_lambda: -0.3591 - 2__encoder_attention_module_0_lambda: -0.3091 - 2__encoder_attention_module_1_lambda: -0.1735 - 2__encoder_attention_module_2_lambda: -0.0441 - 2__decoder_attention_module_0_lambda: 0.1371 - 2__decoder_attention_module_1_lambda: 0.3728 - 0__encoded_vec_wt: 0.3380 - 1__encoded_vec_wt: 0.3672 - 2__encoded_vec_wt: 0.2763 - 0__decoded_vec_wt: 0.1697 - 1__decoded_vec_wt: 0.6916 - 2__decoded_vec_wt: 0.7601 - val_loss: 0.0014 - val_mse: 0.0012 - val_NMSE: 0.0111\n",
      "Epoch 15/200\n",
      "1250/1250 [==============================] - ETA: 0s - loss: 0.0014 - mse: 0.0012 - NMSE: 0.0112 - 0__encoder_attention_module_0_lambda: 0.1124 - 0__encoder_attention_module_1_lambda: 0.0647 - 0__encoder_attention_module_2_lambda: 0.0490 - 0__decoder_attention_module_0_lambda: 0.1726 - 0__decoder_attention_module_1_lambda: -0.2700 - 1__encoder_attention_module_0_lambda: 0.2466 - 1__encoder_attention_module_1_lambda: 0.1045 - 1__encoder_attention_module_2_lambda: 0.0598 - 1__decoder_attention_module_0_lambda: 0.1635 - 1__decoder_attention_module_1_lambda: -0.3598 - 2__encoder_attention_module_0_lambda: -0.3091 - 2__encoder_attention_module_1_lambda: -0.1745 - 2__encoder_attention_module_2_lambda: -0.0443 - 2__decoder_attention_module_0_lambda: 0.1372 - 2__decoder_attention_module_1_lambda: 0.3733 - 0__encoded_vec_wt: 0.3373 - 1__encoded_vec_wt: 0.3677 - 2__encoded_vec_wt: 0.2761 - 0__decoded_vec_wt: 0.1708 - 1__decoded_vec_wt: 0.6922 - 2__decoded_vec_wt: 0.7609 - tot_time: 0h 50m 28.1s\n",
      "\n",
      "Epoch 15: val_NMSE did not improve from 0.01101\n",
      " - saving loss histories at /home/rkaushik/Documents/Thesis/MLROM/Kolmogorov/saved_ae/ae_053/checkpoints/LossHistoriesCheckpoint\n",
      "1250/1250 [==============================] - 66s 53ms/step - loss: 0.0014 - mse: 0.0012 - NMSE: 0.0112 - 0__encoder_attention_module_0_lambda: 0.1124 - 0__encoder_attention_module_1_lambda: 0.0647 - 0__encoder_attention_module_2_lambda: 0.0490 - 0__decoder_attention_module_0_lambda: 0.1726 - 0__decoder_attention_module_1_lambda: -0.2700 - 1__encoder_attention_module_0_lambda: 0.2466 - 1__encoder_attention_module_1_lambda: 0.1045 - 1__encoder_attention_module_2_lambda: 0.0598 - 1__decoder_attention_module_0_lambda: 0.1635 - 1__decoder_attention_module_1_lambda: -0.3598 - 2__encoder_attention_module_0_lambda: -0.3091 - 2__encoder_attention_module_1_lambda: -0.1745 - 2__encoder_attention_module_2_lambda: -0.0443 - 2__decoder_attention_module_0_lambda: 0.1372 - 2__decoder_attention_module_1_lambda: 0.3733 - 0__encoded_vec_wt: 0.3373 - 1__encoded_vec_wt: 0.3677 - 2__encoded_vec_wt: 0.2761 - 0__decoded_vec_wt: 0.1708 - 1__decoded_vec_wt: 0.6922 - 2__decoded_vec_wt: 0.7609 - val_loss: 0.0014 - val_mse: 0.0013 - val_NMSE: 0.0113\n"
     ]
    },
    {
     "name": "stdout",
     "output_type": "stream",
     "text": [
      "Epoch 16/200\n",
      "1250/1250 [==============================] - ETA: 0s - loss: 0.0014 - mse: 0.0012 - NMSE: 0.0111 - 0__encoder_attention_module_0_lambda: 0.1134 - 0__encoder_attention_module_1_lambda: 0.0654 - 0__encoder_attention_module_2_lambda: 0.0490 - 0__decoder_attention_module_0_lambda: 0.1727 - 0__decoder_attention_module_1_lambda: -0.2713 - 1__encoder_attention_module_0_lambda: 0.2468 - 1__encoder_attention_module_1_lambda: 0.1059 - 1__encoder_attention_module_2_lambda: 0.0598 - 1__decoder_attention_module_0_lambda: 0.1634 - 1__decoder_attention_module_1_lambda: -0.3599 - 2__encoder_attention_module_0_lambda: -0.3103 - 2__encoder_attention_module_1_lambda: -0.1756 - 2__encoder_attention_module_2_lambda: -0.0435 - 2__decoder_attention_module_0_lambda: 0.1379 - 2__decoder_attention_module_1_lambda: 0.3738 - 0__encoded_vec_wt: 0.3366 - 1__encoded_vec_wt: 0.3681 - 2__encoded_vec_wt: 0.2760 - 0__decoded_vec_wt: 0.1719 - 1__decoded_vec_wt: 0.6930 - 2__decoded_vec_wt: 0.7618 - tot_time: 0h 51m 34.0s\n",
      "\n",
      "Epoch 16: val_NMSE improved from 0.01101 to 0.01093, saving model to /home/rkaushik/Documents/Thesis/MLROM/Kolmogorov/saved_ae/ae_053/checkpoints/checkpoint\n",
      " - saving loss histories at /home/rkaushik/Documents/Thesis/MLROM/Kolmogorov/saved_ae/ae_053/checkpoints/LossHistoriesCheckpoint\n",
      "1250/1250 [==============================] - 66s 53ms/step - loss: 0.0014 - mse: 0.0012 - NMSE: 0.0111 - 0__encoder_attention_module_0_lambda: 0.1134 - 0__encoder_attention_module_1_lambda: 0.0654 - 0__encoder_attention_module_2_lambda: 0.0490 - 0__decoder_attention_module_0_lambda: 0.1727 - 0__decoder_attention_module_1_lambda: -0.2713 - 1__encoder_attention_module_0_lambda: 0.2468 - 1__encoder_attention_module_1_lambda: 0.1059 - 1__encoder_attention_module_2_lambda: 0.0598 - 1__decoder_attention_module_0_lambda: 0.1634 - 1__decoder_attention_module_1_lambda: -0.3599 - 2__encoder_attention_module_0_lambda: -0.3103 - 2__encoder_attention_module_1_lambda: -0.1756 - 2__encoder_attention_module_2_lambda: -0.0435 - 2__decoder_attention_module_0_lambda: 0.1379 - 2__decoder_attention_module_1_lambda: 0.3738 - 0__encoded_vec_wt: 0.3366 - 1__encoded_vec_wt: 0.3681 - 2__encoded_vec_wt: 0.2760 - 0__decoded_vec_wt: 0.1719 - 1__decoded_vec_wt: 0.6930 - 2__decoded_vec_wt: 0.7618 - val_loss: 0.0014 - val_mse: 0.0012 - val_NMSE: 0.0109\n",
      "Epoch 17/200\n",
      "1250/1250 [==============================] - ETA: 0s - loss: 0.0014 - mse: 0.0012 - NMSE: 0.0111 - 0__encoder_attention_module_0_lambda: 0.1138 - 0__encoder_attention_module_1_lambda: 0.0661 - 0__encoder_attention_module_2_lambda: 0.0498 - 0__decoder_attention_module_0_lambda: 0.1727 - 0__decoder_attention_module_1_lambda: -0.2726 - 1__encoder_attention_module_0_lambda: 0.2475 - 1__encoder_attention_module_1_lambda: 0.1065 - 1__encoder_attention_module_2_lambda: 0.0610 - 1__decoder_attention_module_0_lambda: 0.1638 - 1__decoder_attention_module_1_lambda: -0.3602 - 2__encoder_attention_module_0_lambda: -0.3110 - 2__encoder_attention_module_1_lambda: -0.1776 - 2__encoder_attention_module_2_lambda: -0.0435 - 2__decoder_attention_module_0_lambda: 0.1382 - 2__decoder_attention_module_1_lambda: 0.3737 - 0__encoded_vec_wt: 0.3360 - 1__encoded_vec_wt: 0.3687 - 2__encoded_vec_wt: 0.2757 - 0__decoded_vec_wt: 0.1728 - 1__decoded_vec_wt: 0.6936 - 2__decoded_vec_wt: 0.7626 - tot_time: 0h 52m 40.4s\n",
      "\n",
      "Epoch 17: val_NMSE did not improve from 0.01093\n",
      " - saving loss histories at /home/rkaushik/Documents/Thesis/MLROM/Kolmogorov/saved_ae/ae_053/checkpoints/LossHistoriesCheckpoint\n",
      "1250/1250 [==============================] - 66s 53ms/step - loss: 0.0014 - mse: 0.0012 - NMSE: 0.0111 - 0__encoder_attention_module_0_lambda: 0.1138 - 0__encoder_attention_module_1_lambda: 0.0661 - 0__encoder_attention_module_2_lambda: 0.0498 - 0__decoder_attention_module_0_lambda: 0.1727 - 0__decoder_attention_module_1_lambda: -0.2726 - 1__encoder_attention_module_0_lambda: 0.2475 - 1__encoder_attention_module_1_lambda: 0.1065 - 1__encoder_attention_module_2_lambda: 0.0610 - 1__decoder_attention_module_0_lambda: 0.1638 - 1__decoder_attention_module_1_lambda: -0.3602 - 2__encoder_attention_module_0_lambda: -0.3110 - 2__encoder_attention_module_1_lambda: -0.1776 - 2__encoder_attention_module_2_lambda: -0.0435 - 2__decoder_attention_module_0_lambda: 0.1382 - 2__decoder_attention_module_1_lambda: 0.3737 - 0__encoded_vec_wt: 0.3360 - 1__encoded_vec_wt: 0.3687 - 2__encoded_vec_wt: 0.2757 - 0__decoded_vec_wt: 0.1728 - 1__decoded_vec_wt: 0.6936 - 2__decoded_vec_wt: 0.7626 - val_loss: 0.0014 - val_mse: 0.0012 - val_NMSE: 0.0111\n",
      "Epoch 18/200\n",
      "1250/1250 [==============================] - ETA: 0s - loss: 0.0014 - mse: 0.0012 - NMSE: 0.0111 - 0__encoder_attention_module_0_lambda: 0.1133 - 0__encoder_attention_module_1_lambda: 0.0667 - 0__encoder_attention_module_2_lambda: 0.0498 - 0__decoder_attention_module_0_lambda: 0.1735 - 0__decoder_attention_module_1_lambda: -0.2744 - 1__encoder_attention_module_0_lambda: 0.2476 - 1__encoder_attention_module_1_lambda: 0.1079 - 1__encoder_attention_module_2_lambda: 0.0615 - 1__decoder_attention_module_0_lambda: 0.1640 - 1__decoder_attention_module_1_lambda: -0.3606 - 2__encoder_attention_module_0_lambda: -0.3114 - 2__encoder_attention_module_1_lambda: -0.1792 - 2__encoder_attention_module_2_lambda: -0.0438 - 2__decoder_attention_module_0_lambda: 0.1388 - 2__decoder_attention_module_1_lambda: 0.3740 - 0__encoded_vec_wt: 0.3353 - 1__encoded_vec_wt: 0.3691 - 2__encoded_vec_wt: 0.2756 - 0__decoded_vec_wt: 0.1737 - 1__decoded_vec_wt: 0.6942 - 2__decoded_vec_wt: 0.7633 - tot_time: 0h 53m 47.2s\n",
      "\n",
      "Epoch 18: val_NMSE did not improve from 0.01093\n",
      " - saving loss histories at /home/rkaushik/Documents/Thesis/MLROM/Kolmogorov/saved_ae/ae_053/checkpoints/LossHistoriesCheckpoint\n",
      "1250/1250 [==============================] - 67s 53ms/step - loss: 0.0014 - mse: 0.0012 - NMSE: 0.0111 - 0__encoder_attention_module_0_lambda: 0.1133 - 0__encoder_attention_module_1_lambda: 0.0667 - 0__encoder_attention_module_2_lambda: 0.0498 - 0__decoder_attention_module_0_lambda: 0.1735 - 0__decoder_attention_module_1_lambda: -0.2744 - 1__encoder_attention_module_0_lambda: 0.2476 - 1__encoder_attention_module_1_lambda: 0.1079 - 1__encoder_attention_module_2_lambda: 0.0615 - 1__decoder_attention_module_0_lambda: 0.1640 - 1__decoder_attention_module_1_lambda: -0.3606 - 2__encoder_attention_module_0_lambda: -0.3114 - 2__encoder_attention_module_1_lambda: -0.1792 - 2__encoder_attention_module_2_lambda: -0.0438 - 2__decoder_attention_module_0_lambda: 0.1388 - 2__decoder_attention_module_1_lambda: 0.3740 - 0__encoded_vec_wt: 0.3353 - 1__encoded_vec_wt: 0.3691 - 2__encoded_vec_wt: 0.2756 - 0__decoded_vec_wt: 0.1737 - 1__decoded_vec_wt: 0.6942 - 2__decoded_vec_wt: 0.7633 - val_loss: 0.0014 - val_mse: 0.0012 - val_NMSE: 0.0110\n",
      "Epoch 19/200\n",
      "1250/1250 [==============================] - ETA: 0s - loss: 0.0014 - mse: 0.0012 - NMSE: 0.0111 - 0__encoder_attention_module_0_lambda: 0.1139 - 0__encoder_attention_module_1_lambda: 0.0676 - 0__encoder_attention_module_2_lambda: 0.0504 - 0__decoder_attention_module_0_lambda: 0.1736 - 0__decoder_attention_module_1_lambda: -0.2760 - 1__encoder_attention_module_0_lambda: 0.2484 - 1__encoder_attention_module_1_lambda: 0.1085 - 1__encoder_attention_module_2_lambda: 0.0623 - 1__decoder_attention_module_0_lambda: 0.1642 - 1__decoder_attention_module_1_lambda: -0.3613 - 2__encoder_attention_module_0_lambda: -0.3126 - 2__encoder_attention_module_1_lambda: -0.1810 - 2__encoder_attention_module_2_lambda: -0.0443 - 2__decoder_attention_module_0_lambda: 0.1392 - 2__decoder_attention_module_1_lambda: 0.3745 - 0__encoded_vec_wt: 0.3348 - 1__encoded_vec_wt: 0.3695 - 2__encoded_vec_wt: 0.2753 - 0__decoded_vec_wt: 0.1747 - 1__decoded_vec_wt: 0.6949 - 2__decoded_vec_wt: 0.7641 - tot_time: 0h 54m 53.4s\n",
      "\n",
      "Epoch 19: val_NMSE did not improve from 0.01093\n",
      " - saving loss histories at /home/rkaushik/Documents/Thesis/MLROM/Kolmogorov/saved_ae/ae_053/checkpoints/LossHistoriesCheckpoint\n",
      "1250/1250 [==============================] - 66s 53ms/step - loss: 0.0014 - mse: 0.0012 - NMSE: 0.0111 - 0__encoder_attention_module_0_lambda: 0.1139 - 0__encoder_attention_module_1_lambda: 0.0676 - 0__encoder_attention_module_2_lambda: 0.0504 - 0__decoder_attention_module_0_lambda: 0.1736 - 0__decoder_attention_module_1_lambda: -0.2760 - 1__encoder_attention_module_0_lambda: 0.2484 - 1__encoder_attention_module_1_lambda: 0.1085 - 1__encoder_attention_module_2_lambda: 0.0623 - 1__decoder_attention_module_0_lambda: 0.1642 - 1__decoder_attention_module_1_lambda: -0.3613 - 2__encoder_attention_module_0_lambda: -0.3126 - 2__encoder_attention_module_1_lambda: -0.1810 - 2__encoder_attention_module_2_lambda: -0.0443 - 2__decoder_attention_module_0_lambda: 0.1392 - 2__decoder_attention_module_1_lambda: 0.3745 - 0__encoded_vec_wt: 0.3348 - 1__encoded_vec_wt: 0.3695 - 2__encoded_vec_wt: 0.2753 - 0__decoded_vec_wt: 0.1747 - 1__decoded_vec_wt: 0.6949 - 2__decoded_vec_wt: 0.7641 - val_loss: 0.0015 - val_mse: 0.0013 - val_NMSE: 0.0118\n"
     ]
    },
    {
     "name": "stdout",
     "output_type": "stream",
     "text": [
      "Epoch 20/200\n",
      "1250/1250 [==============================] - ETA: 0s - loss: 0.0014 - mse: 0.0012 - NMSE: 0.0110 - 0__encoder_attention_module_0_lambda: 0.1145 - 0__encoder_attention_module_1_lambda: 0.0683 - 0__encoder_attention_module_2_lambda: 0.0503 - 0__decoder_attention_module_0_lambda: 0.1732 - 0__decoder_attention_module_1_lambda: -0.2770 - 1__encoder_attention_module_0_lambda: 0.2488 - 1__encoder_attention_module_1_lambda: 0.1098 - 1__encoder_attention_module_2_lambda: 0.0622 - 1__decoder_attention_module_0_lambda: 0.1643 - 1__decoder_attention_module_1_lambda: -0.3610 - 2__encoder_attention_module_0_lambda: -0.3128 - 2__encoder_attention_module_1_lambda: -0.1817 - 2__encoder_attention_module_2_lambda: -0.0448 - 2__decoder_attention_module_0_lambda: 0.1397 - 2__decoder_attention_module_1_lambda: 0.3752 - 0__encoded_vec_wt: 0.3342 - 1__encoded_vec_wt: 0.3698 - 2__encoded_vec_wt: 0.2752 - 0__decoded_vec_wt: 0.1757 - 1__decoded_vec_wt: 0.6957 - 2__decoded_vec_wt: 0.7650 - tot_time: 0h 55m 59.2s\n",
      "\n",
      "Epoch 20: val_NMSE did not improve from 0.01093\n",
      " - saving loss histories at /home/rkaushik/Documents/Thesis/MLROM/Kolmogorov/saved_ae/ae_053/checkpoints/LossHistoriesCheckpoint\n",
      "1250/1250 [==============================] - 66s 53ms/step - loss: 0.0014 - mse: 0.0012 - NMSE: 0.0110 - 0__encoder_attention_module_0_lambda: 0.1145 - 0__encoder_attention_module_1_lambda: 0.0683 - 0__encoder_attention_module_2_lambda: 0.0503 - 0__decoder_attention_module_0_lambda: 0.1732 - 0__decoder_attention_module_1_lambda: -0.2770 - 1__encoder_attention_module_0_lambda: 0.2488 - 1__encoder_attention_module_1_lambda: 0.1098 - 1__encoder_attention_module_2_lambda: 0.0622 - 1__decoder_attention_module_0_lambda: 0.1643 - 1__decoder_attention_module_1_lambda: -0.3610 - 2__encoder_attention_module_0_lambda: -0.3128 - 2__encoder_attention_module_1_lambda: -0.1817 - 2__encoder_attention_module_2_lambda: -0.0448 - 2__decoder_attention_module_0_lambda: 0.1397 - 2__decoder_attention_module_1_lambda: 0.3752 - 0__encoded_vec_wt: 0.3342 - 1__encoded_vec_wt: 0.3698 - 2__encoded_vec_wt: 0.2752 - 0__decoded_vec_wt: 0.1757 - 1__decoded_vec_wt: 0.6957 - 2__decoded_vec_wt: 0.7650 - val_loss: 0.0014 - val_mse: 0.0012 - val_NMSE: 0.0110\n",
      "Epoch 21/200\n",
      "1249/1250 [============================>.] - ETA: 0s - loss: 0.0014 - mse: 0.0012 - NMSE: 0.0110 - 0__encoder_attention_module_0_lambda: 0.1136 - 0__encoder_attention_module_1_lambda: 0.0690 - 0__encoder_attention_module_2_lambda: 0.0511 - 0__decoder_attention_module_0_lambda: 0.1734 - 0__decoder_attention_module_1_lambda: -0.2789 - 1__encoder_attention_module_0_lambda: 0.2486 - 1__encoder_attention_module_1_lambda: 0.1107 - 1__encoder_attention_module_2_lambda: 0.0624 - 1__decoder_attention_module_0_lambda: 0.1646 - 1__decoder_attention_module_1_lambda: -0.3619 - 2__encoder_attention_module_0_lambda: -0.3136 - 2__encoder_attention_module_1_lambda: -0.1835 - 2__encoder_attention_module_2_lambda: -0.0447 - 2__decoder_attention_module_0_lambda: 0.1401 - 2__decoder_attention_module_1_lambda: 0.3755 - 0__encoded_vec_wt: 0.3337 - 1__encoded_vec_wt: 0.3701 - 2__encoded_vec_wt: 0.2750 - 0__decoded_vec_wt: 0.1766 - 1__decoded_vec_wt: 0.6962 - 2__decoded_vec_wt: 0.7658 - tot_time: 0h 57m 5.3s\n",
      "\n",
      "Epoch 21: val_NMSE did not improve from 0.01093\n",
      " - saving loss histories at /home/rkaushik/Documents/Thesis/MLROM/Kolmogorov/saved_ae/ae_053/checkpoints/LossHistoriesCheckpoint\n",
      "1250/1250 [==============================] - 66s 53ms/step - loss: 0.0014 - mse: 0.0012 - NMSE: 0.0110 - 0__encoder_attention_module_0_lambda: 0.1136 - 0__encoder_attention_module_1_lambda: 0.0690 - 0__encoder_attention_module_2_lambda: 0.0511 - 0__decoder_attention_module_0_lambda: 0.1734 - 0__decoder_attention_module_1_lambda: -0.2789 - 1__encoder_attention_module_0_lambda: 0.2486 - 1__encoder_attention_module_1_lambda: 0.1107 - 1__encoder_attention_module_2_lambda: 0.0624 - 1__decoder_attention_module_0_lambda: 0.1646 - 1__decoder_attention_module_1_lambda: -0.3619 - 2__encoder_attention_module_0_lambda: -0.3136 - 2__encoder_attention_module_1_lambda: -0.1835 - 2__encoder_attention_module_2_lambda: -0.0447 - 2__decoder_attention_module_0_lambda: 0.1401 - 2__decoder_attention_module_1_lambda: 0.3755 - 0__encoded_vec_wt: 0.3337 - 1__encoded_vec_wt: 0.3701 - 2__encoded_vec_wt: 0.2750 - 0__decoded_vec_wt: 0.1766 - 1__decoded_vec_wt: 0.6962 - 2__decoded_vec_wt: 0.7658 - val_loss: 0.0014 - val_mse: 0.0012 - val_NMSE: 0.0111\n",
      "Epoch 22/200\n",
      "1250/1250 [==============================] - ETA: 0s - loss: 0.0014 - mse: 0.0012 - NMSE: 0.0110 - 0__encoder_attention_module_0_lambda: 0.1139 - 0__encoder_attention_module_1_lambda: 0.0697 - 0__encoder_attention_module_2_lambda: 0.0513 - 0__decoder_attention_module_0_lambda: 0.1745 - 0__decoder_attention_module_1_lambda: -0.2803 - 1__encoder_attention_module_0_lambda: 0.2488 - 1__encoder_attention_module_1_lambda: 0.1113 - 1__encoder_attention_module_2_lambda: 0.0627 - 1__decoder_attention_module_0_lambda: 0.1645 - 1__decoder_attention_module_1_lambda: -0.3622 - 2__encoder_attention_module_0_lambda: -0.3147 - 2__encoder_attention_module_1_lambda: -0.1843 - 2__encoder_attention_module_2_lambda: -0.0456 - 2__decoder_attention_module_0_lambda: 0.1402 - 2__decoder_attention_module_1_lambda: 0.3753 - 0__encoded_vec_wt: 0.3330 - 1__encoded_vec_wt: 0.3706 - 2__encoded_vec_wt: 0.2747 - 0__decoded_vec_wt: 0.1776 - 1__decoded_vec_wt: 0.6968 - 2__decoded_vec_wt: 0.7667 - tot_time: 0h 58m 11.6s\n",
      "\n",
      "Epoch 22: val_NMSE did not improve from 0.01093\n",
      " - saving loss histories at /home/rkaushik/Documents/Thesis/MLROM/Kolmogorov/saved_ae/ae_053/checkpoints/LossHistoriesCheckpoint\n",
      "1250/1250 [==============================] - 66s 53ms/step - loss: 0.0014 - mse: 0.0012 - NMSE: 0.0110 - 0__encoder_attention_module_0_lambda: 0.1139 - 0__encoder_attention_module_1_lambda: 0.0697 - 0__encoder_attention_module_2_lambda: 0.0513 - 0__decoder_attention_module_0_lambda: 0.1745 - 0__decoder_attention_module_1_lambda: -0.2803 - 1__encoder_attention_module_0_lambda: 0.2488 - 1__encoder_attention_module_1_lambda: 0.1113 - 1__encoder_attention_module_2_lambda: 0.0627 - 1__decoder_attention_module_0_lambda: 0.1645 - 1__decoder_attention_module_1_lambda: -0.3622 - 2__encoder_attention_module_0_lambda: -0.3147 - 2__encoder_attention_module_1_lambda: -0.1843 - 2__encoder_attention_module_2_lambda: -0.0456 - 2__decoder_attention_module_0_lambda: 0.1402 - 2__decoder_attention_module_1_lambda: 0.3753 - 0__encoded_vec_wt: 0.3330 - 1__encoded_vec_wt: 0.3706 - 2__encoded_vec_wt: 0.2747 - 0__decoded_vec_wt: 0.1776 - 1__decoded_vec_wt: 0.6968 - 2__decoded_vec_wt: 0.7667 - val_loss: 0.0014 - val_mse: 0.0012 - val_NMSE: 0.0111\n",
      "Epoch 23/200\n",
      "1250/1250 [==============================] - ETA: 0s - loss: 0.0014 - mse: 0.0012 - NMSE: 0.0110 - 0__encoder_attention_module_0_lambda: 0.1144 - 0__encoder_attention_module_1_lambda: 0.0704 - 0__encoder_attention_module_2_lambda: 0.0517 - 0__decoder_attention_module_0_lambda: 0.1738 - 0__decoder_attention_module_1_lambda: -0.2816 - 1__encoder_attention_module_0_lambda: 0.2497 - 1__encoder_attention_module_1_lambda: 0.1119 - 1__encoder_attention_module_2_lambda: 0.0627 - 1__decoder_attention_module_0_lambda: 0.1647 - 1__decoder_attention_module_1_lambda: -0.3628 - 2__encoder_attention_module_0_lambda: -0.3149 - 2__encoder_attention_module_1_lambda: -0.1852 - 2__encoder_attention_module_2_lambda: -0.0454 - 2__decoder_attention_module_0_lambda: 0.1409 - 2__decoder_attention_module_1_lambda: 0.3760 - 0__encoded_vec_wt: 0.3325 - 1__encoded_vec_wt: 0.3708 - 2__encoded_vec_wt: 0.2745 - 0__decoded_vec_wt: 0.1786 - 1__decoded_vec_wt: 0.6974 - 2__decoded_vec_wt: 0.7676 - tot_time: 0h 59m 18.0s\n",
      "\n",
      "Epoch 23: val_NMSE improved from 0.01093 to 0.01083, saving model to /home/rkaushik/Documents/Thesis/MLROM/Kolmogorov/saved_ae/ae_053/checkpoints/checkpoint\n",
      " - saving loss histories at /home/rkaushik/Documents/Thesis/MLROM/Kolmogorov/saved_ae/ae_053/checkpoints/LossHistoriesCheckpoint\n",
      "1250/1250 [==============================] - 67s 54ms/step - loss: 0.0014 - mse: 0.0012 - NMSE: 0.0110 - 0__encoder_attention_module_0_lambda: 0.1144 - 0__encoder_attention_module_1_lambda: 0.0704 - 0__encoder_attention_module_2_lambda: 0.0517 - 0__decoder_attention_module_0_lambda: 0.1738 - 0__decoder_attention_module_1_lambda: -0.2816 - 1__encoder_attention_module_0_lambda: 0.2497 - 1__encoder_attention_module_1_lambda: 0.1119 - 1__encoder_attention_module_2_lambda: 0.0627 - 1__decoder_attention_module_0_lambda: 0.1647 - 1__decoder_attention_module_1_lambda: -0.3628 - 2__encoder_attention_module_0_lambda: -0.3149 - 2__encoder_attention_module_1_lambda: -0.1852 - 2__encoder_attention_module_2_lambda: -0.0454 - 2__decoder_attention_module_0_lambda: 0.1409 - 2__decoder_attention_module_1_lambda: 0.3760 - 0__encoded_vec_wt: 0.3325 - 1__encoded_vec_wt: 0.3708 - 2__encoded_vec_wt: 0.2745 - 0__decoded_vec_wt: 0.1786 - 1__decoded_vec_wt: 0.6974 - 2__decoded_vec_wt: 0.7676 - val_loss: 0.0014 - val_mse: 0.0012 - val_NMSE: 0.0108\n"
     ]
    },
    {
     "name": "stdout",
     "output_type": "stream",
     "text": [
      "Epoch 24/200\n",
      "1250/1250 [==============================] - ETA: 0s - loss: 0.0014 - mse: 0.0012 - NMSE: 0.0110 - 0__encoder_attention_module_0_lambda: 0.1142 - 0__encoder_attention_module_1_lambda: 0.0707 - 0__encoder_attention_module_2_lambda: 0.0516 - 0__decoder_attention_module_0_lambda: 0.1745 - 0__decoder_attention_module_1_lambda: -0.2828 - 1__encoder_attention_module_0_lambda: 0.2498 - 1__encoder_attention_module_1_lambda: 0.1133 - 1__encoder_attention_module_2_lambda: 0.0630 - 1__decoder_attention_module_0_lambda: 0.1650 - 1__decoder_attention_module_1_lambda: -0.3635 - 2__encoder_attention_module_0_lambda: -0.3151 - 2__encoder_attention_module_1_lambda: -0.1872 - 2__encoder_attention_module_2_lambda: -0.0453 - 2__decoder_attention_module_0_lambda: 0.1416 - 2__decoder_attention_module_1_lambda: 0.3764 - 0__encoded_vec_wt: 0.3319 - 1__encoded_vec_wt: 0.3713 - 2__encoded_vec_wt: 0.2741 - 0__decoded_vec_wt: 0.1795 - 1__decoded_vec_wt: 0.6983 - 2__decoded_vec_wt: 0.7685 - tot_time: 1h 0m 23.9s\n",
      "\n",
      "Epoch 24: val_NMSE did not improve from 0.01083\n",
      " - saving loss histories at /home/rkaushik/Documents/Thesis/MLROM/Kolmogorov/saved_ae/ae_053/checkpoints/LossHistoriesCheckpoint\n",
      "1250/1250 [==============================] - 65s 52ms/step - loss: 0.0014 - mse: 0.0012 - NMSE: 0.0110 - 0__encoder_attention_module_0_lambda: 0.1142 - 0__encoder_attention_module_1_lambda: 0.0707 - 0__encoder_attention_module_2_lambda: 0.0516 - 0__decoder_attention_module_0_lambda: 0.1745 - 0__decoder_attention_module_1_lambda: -0.2828 - 1__encoder_attention_module_0_lambda: 0.2498 - 1__encoder_attention_module_1_lambda: 0.1133 - 1__encoder_attention_module_2_lambda: 0.0630 - 1__decoder_attention_module_0_lambda: 0.1650 - 1__decoder_attention_module_1_lambda: -0.3635 - 2__encoder_attention_module_0_lambda: -0.3151 - 2__encoder_attention_module_1_lambda: -0.1872 - 2__encoder_attention_module_2_lambda: -0.0453 - 2__decoder_attention_module_0_lambda: 0.1416 - 2__decoder_attention_module_1_lambda: 0.3764 - 0__encoded_vec_wt: 0.3319 - 1__encoded_vec_wt: 0.3713 - 2__encoded_vec_wt: 0.2741 - 0__decoded_vec_wt: 0.1795 - 1__decoded_vec_wt: 0.6983 - 2__decoded_vec_wt: 0.7685 - val_loss: 0.0014 - val_mse: 0.0012 - val_NMSE: 0.0109\n",
      "Epoch 25/200\n",
      "1249/1250 [============================>.] - ETA: 0s - loss: 0.0014 - mse: 0.0012 - NMSE: 0.0109 - 0__encoder_attention_module_0_lambda: 0.1147 - 0__encoder_attention_module_1_lambda: 0.0708 - 0__encoder_attention_module_2_lambda: 0.0521 - 0__decoder_attention_module_0_lambda: 0.1755 - 0__decoder_attention_module_1_lambda: -0.2841 - 1__encoder_attention_module_0_lambda: 0.2503 - 1__encoder_attention_module_1_lambda: 0.1141 - 1__encoder_attention_module_2_lambda: 0.0635 - 1__decoder_attention_module_0_lambda: 0.1650 - 1__decoder_attention_module_1_lambda: -0.3640 - 2__encoder_attention_module_0_lambda: -0.3164 - 2__encoder_attention_module_1_lambda: -0.1878 - 2__encoder_attention_module_2_lambda: -0.0458 - 2__decoder_attention_module_0_lambda: 0.1422 - 2__decoder_attention_module_1_lambda: 0.3764 - 0__encoded_vec_wt: 0.3315 - 1__encoded_vec_wt: 0.3715 - 2__encoded_vec_wt: 0.2739 - 0__decoded_vec_wt: 0.1804 - 1__decoded_vec_wt: 0.6990 - 2__decoded_vec_wt: 0.7693 - tot_time: 1h 1m 29.1s\n",
      "\n",
      "Epoch 25: val_NMSE did not improve from 0.01083\n",
      " - saving loss histories at /home/rkaushik/Documents/Thesis/MLROM/Kolmogorov/saved_ae/ae_053/checkpoints/LossHistoriesCheckpoint\n",
      "1250/1250 [==============================] - 65s 52ms/step - loss: 0.0014 - mse: 0.0012 - NMSE: 0.0109 - 0__encoder_attention_module_0_lambda: 0.1147 - 0__encoder_attention_module_1_lambda: 0.0708 - 0__encoder_attention_module_2_lambda: 0.0521 - 0__decoder_attention_module_0_lambda: 0.1755 - 0__decoder_attention_module_1_lambda: -0.2841 - 1__encoder_attention_module_0_lambda: 0.2503 - 1__encoder_attention_module_1_lambda: 0.1141 - 1__encoder_attention_module_2_lambda: 0.0635 - 1__decoder_attention_module_0_lambda: 0.1650 - 1__decoder_attention_module_1_lambda: -0.3640 - 2__encoder_attention_module_0_lambda: -0.3164 - 2__encoder_attention_module_1_lambda: -0.1878 - 2__encoder_attention_module_2_lambda: -0.0458 - 2__decoder_attention_module_0_lambda: 0.1422 - 2__decoder_attention_module_1_lambda: 0.3764 - 0__encoded_vec_wt: 0.3315 - 1__encoded_vec_wt: 0.3715 - 2__encoded_vec_wt: 0.2739 - 0__decoded_vec_wt: 0.1804 - 1__decoded_vec_wt: 0.6990 - 2__decoded_vec_wt: 0.7693 - val_loss: 0.0014 - val_mse: 0.0012 - val_NMSE: 0.0112\n",
      "Epoch 26/200\n",
      "1250/1250 [==============================] - ETA: 0s - loss: 0.0014 - mse: 0.0012 - NMSE: 0.0109 - 0__encoder_attention_module_0_lambda: 0.1150 - 0__encoder_attention_module_1_lambda: 0.0717 - 0__encoder_attention_module_2_lambda: 0.0531 - 0__decoder_attention_module_0_lambda: 0.1753 - 0__decoder_attention_module_1_lambda: -0.2854 - 1__encoder_attention_module_0_lambda: 0.2507 - 1__encoder_attention_module_1_lambda: 0.1142 - 1__encoder_attention_module_2_lambda: 0.0640 - 1__decoder_attention_module_0_lambda: 0.1653 - 1__decoder_attention_module_1_lambda: -0.3642 - 2__encoder_attention_module_0_lambda: -0.3172 - 2__encoder_attention_module_1_lambda: -0.1895 - 2__encoder_attention_module_2_lambda: -0.0467 - 2__decoder_attention_module_0_lambda: 0.1424 - 2__decoder_attention_module_1_lambda: 0.3769 - 0__encoded_vec_wt: 0.3309 - 1__encoded_vec_wt: 0.3717 - 2__encoded_vec_wt: 0.2737 - 0__decoded_vec_wt: 0.1811 - 1__decoded_vec_wt: 0.6995 - 2__decoded_vec_wt: 0.7701 - tot_time: 1h 2m 35.1s\n",
      "\n",
      "Epoch 26: val_NMSE did not improve from 0.01083\n",
      " - saving loss histories at /home/rkaushik/Documents/Thesis/MLROM/Kolmogorov/saved_ae/ae_053/checkpoints/LossHistoriesCheckpoint\n",
      "1250/1250 [==============================] - 66s 53ms/step - loss: 0.0014 - mse: 0.0012 - NMSE: 0.0109 - 0__encoder_attention_module_0_lambda: 0.1150 - 0__encoder_attention_module_1_lambda: 0.0717 - 0__encoder_attention_module_2_lambda: 0.0531 - 0__decoder_attention_module_0_lambda: 0.1753 - 0__decoder_attention_module_1_lambda: -0.2854 - 1__encoder_attention_module_0_lambda: 0.2507 - 1__encoder_attention_module_1_lambda: 0.1142 - 1__encoder_attention_module_2_lambda: 0.0640 - 1__decoder_attention_module_0_lambda: 0.1653 - 1__decoder_attention_module_1_lambda: -0.3642 - 2__encoder_attention_module_0_lambda: -0.3172 - 2__encoder_attention_module_1_lambda: -0.1895 - 2__encoder_attention_module_2_lambda: -0.0467 - 2__decoder_attention_module_0_lambda: 0.1424 - 2__decoder_attention_module_1_lambda: 0.3769 - 0__encoded_vec_wt: 0.3309 - 1__encoded_vec_wt: 0.3717 - 2__encoded_vec_wt: 0.2737 - 0__decoded_vec_wt: 0.1811 - 1__decoded_vec_wt: 0.6995 - 2__decoded_vec_wt: 0.7701 - val_loss: 0.0014 - val_mse: 0.0013 - val_NMSE: 0.0116\n",
      "Epoch 27/200\n",
      "1250/1250 [==============================] - ETA: 0s - loss: 0.0014 - mse: 0.0012 - NMSE: 0.0109 - 0__encoder_attention_module_0_lambda: 0.1153 - 0__encoder_attention_module_1_lambda: 0.0721 - 0__encoder_attention_module_2_lambda: 0.0533 - 0__decoder_attention_module_0_lambda: 0.1758 - 0__decoder_attention_module_1_lambda: -0.2862 - 1__encoder_attention_module_0_lambda: 0.2513 - 1__encoder_attention_module_1_lambda: 0.1143 - 1__encoder_attention_module_2_lambda: 0.0648 - 1__decoder_attention_module_0_lambda: 0.1655 - 1__decoder_attention_module_1_lambda: -0.3646 - 2__encoder_attention_module_0_lambda: -0.3186 - 2__encoder_attention_module_1_lambda: -0.1912 - 2__encoder_attention_module_2_lambda: -0.0469 - 2__decoder_attention_module_0_lambda: 0.1430 - 2__decoder_attention_module_1_lambda: 0.3775 - 0__encoded_vec_wt: 0.3304 - 1__encoded_vec_wt: 0.3721 - 2__encoded_vec_wt: 0.2734 - 0__decoded_vec_wt: 0.1820 - 1__decoded_vec_wt: 0.7000 - 2__decoded_vec_wt: 0.7708 - tot_time: 1h 3m 41.3s\n",
      "\n",
      "Epoch 27: val_NMSE did not improve from 0.01083\n",
      " - saving loss histories at /home/rkaushik/Documents/Thesis/MLROM/Kolmogorov/saved_ae/ae_053/checkpoints/LossHistoriesCheckpoint\n",
      "1250/1250 [==============================] - 66s 53ms/step - loss: 0.0014 - mse: 0.0012 - NMSE: 0.0109 - 0__encoder_attention_module_0_lambda: 0.1153 - 0__encoder_attention_module_1_lambda: 0.0721 - 0__encoder_attention_module_2_lambda: 0.0533 - 0__decoder_attention_module_0_lambda: 0.1758 - 0__decoder_attention_module_1_lambda: -0.2862 - 1__encoder_attention_module_0_lambda: 0.2513 - 1__encoder_attention_module_1_lambda: 0.1143 - 1__encoder_attention_module_2_lambda: 0.0648 - 1__decoder_attention_module_0_lambda: 0.1655 - 1__decoder_attention_module_1_lambda: -0.3646 - 2__encoder_attention_module_0_lambda: -0.3186 - 2__encoder_attention_module_1_lambda: -0.1912 - 2__encoder_attention_module_2_lambda: -0.0469 - 2__decoder_attention_module_0_lambda: 0.1430 - 2__decoder_attention_module_1_lambda: 0.3775 - 0__encoded_vec_wt: 0.3304 - 1__encoded_vec_wt: 0.3721 - 2__encoded_vec_wt: 0.2734 - 0__decoded_vec_wt: 0.1820 - 1__decoded_vec_wt: 0.7000 - 2__decoded_vec_wt: 0.7708 - val_loss: 0.0014 - val_mse: 0.0012 - val_NMSE: 0.0109\n"
     ]
    },
    {
     "name": "stdout",
     "output_type": "stream",
     "text": [
      "Epoch 28/200\n",
      "1250/1250 [==============================] - ETA: 0s - loss: 0.0014 - mse: 0.0012 - NMSE: 0.0109 - 0__encoder_attention_module_0_lambda: 0.1160 - 0__encoder_attention_module_1_lambda: 0.0729 - 0__encoder_attention_module_2_lambda: 0.0540 - 0__decoder_attention_module_0_lambda: 0.1768 - 0__decoder_attention_module_1_lambda: -0.2877 - 1__encoder_attention_module_0_lambda: 0.2515 - 1__encoder_attention_module_1_lambda: 0.1154 - 1__encoder_attention_module_2_lambda: 0.0637 - 1__decoder_attention_module_0_lambda: 0.1655 - 1__decoder_attention_module_1_lambda: -0.3650 - 2__encoder_attention_module_0_lambda: -0.3193 - 2__encoder_attention_module_1_lambda: -0.1918 - 2__encoder_attention_module_2_lambda: -0.0483 - 2__decoder_attention_module_0_lambda: 0.1438 - 2__decoder_attention_module_1_lambda: 0.3777 - 0__encoded_vec_wt: 0.3298 - 1__encoded_vec_wt: 0.3724 - 2__encoded_vec_wt: 0.2732 - 0__decoded_vec_wt: 0.1830 - 1__decoded_vec_wt: 0.7007 - 2__decoded_vec_wt: 0.7717 - tot_time: 1h 4m 46.7s\n",
      "\n",
      "Epoch 28: val_NMSE did not improve from 0.01083\n",
      " - saving loss histories at /home/rkaushik/Documents/Thesis/MLROM/Kolmogorov/saved_ae/ae_053/checkpoints/LossHistoriesCheckpoint\n",
      "1250/1250 [==============================] - 65s 52ms/step - loss: 0.0014 - mse: 0.0012 - NMSE: 0.0109 - 0__encoder_attention_module_0_lambda: 0.1160 - 0__encoder_attention_module_1_lambda: 0.0729 - 0__encoder_attention_module_2_lambda: 0.0540 - 0__decoder_attention_module_0_lambda: 0.1768 - 0__decoder_attention_module_1_lambda: -0.2877 - 1__encoder_attention_module_0_lambda: 0.2515 - 1__encoder_attention_module_1_lambda: 0.1154 - 1__encoder_attention_module_2_lambda: 0.0637 - 1__decoder_attention_module_0_lambda: 0.1655 - 1__decoder_attention_module_1_lambda: -0.3650 - 2__encoder_attention_module_0_lambda: -0.3193 - 2__encoder_attention_module_1_lambda: -0.1918 - 2__encoder_attention_module_2_lambda: -0.0483 - 2__decoder_attention_module_0_lambda: 0.1438 - 2__decoder_attention_module_1_lambda: 0.3777 - 0__encoded_vec_wt: 0.3298 - 1__encoded_vec_wt: 0.3724 - 2__encoded_vec_wt: 0.2732 - 0__decoded_vec_wt: 0.1830 - 1__decoded_vec_wt: 0.7007 - 2__decoded_vec_wt: 0.7717 - val_loss: 0.0014 - val_mse: 0.0012 - val_NMSE: 0.0111\n",
      "Epoch 29/200\n",
      "1249/1250 [============================>.] - ETA: 0s - loss: 0.0014 - mse: 0.0012 - NMSE: 0.0109 - 0__encoder_attention_module_0_lambda: 0.1163 - 0__encoder_attention_module_1_lambda: 0.0733 - 0__encoder_attention_module_2_lambda: 0.0538 - 0__decoder_attention_module_0_lambda: 0.1777 - 0__decoder_attention_module_1_lambda: -0.2892 - 1__encoder_attention_module_0_lambda: 0.2520 - 1__encoder_attention_module_1_lambda: 0.1166 - 1__encoder_attention_module_2_lambda: 0.0642 - 1__decoder_attention_module_0_lambda: 0.1660 - 1__decoder_attention_module_1_lambda: -0.3656 - 2__encoder_attention_module_0_lambda: -0.3198 - 2__encoder_attention_module_1_lambda: -0.1933 - 2__encoder_attention_module_2_lambda: -0.0482 - 2__decoder_attention_module_0_lambda: 0.1442 - 2__decoder_attention_module_1_lambda: 0.3776 - 0__encoded_vec_wt: 0.3293 - 1__encoded_vec_wt: 0.3727 - 2__encoded_vec_wt: 0.2729 - 0__decoded_vec_wt: 0.1838 - 1__decoded_vec_wt: 0.7014 - 2__decoded_vec_wt: 0.7725 - tot_time: 1h 5m 52.0s\n",
      "\n",
      "Epoch 29: val_NMSE did not improve from 0.01083\n",
      " - saving loss histories at /home/rkaushik/Documents/Thesis/MLROM/Kolmogorov/saved_ae/ae_053/checkpoints/LossHistoriesCheckpoint\n",
      "1250/1250 [==============================] - 65s 52ms/step - loss: 0.0014 - mse: 0.0012 - NMSE: 0.0109 - 0__encoder_attention_module_0_lambda: 0.1163 - 0__encoder_attention_module_1_lambda: 0.0733 - 0__encoder_attention_module_2_lambda: 0.0538 - 0__decoder_attention_module_0_lambda: 0.1777 - 0__decoder_attention_module_1_lambda: -0.2892 - 1__encoder_attention_module_0_lambda: 0.2520 - 1__encoder_attention_module_1_lambda: 0.1166 - 1__encoder_attention_module_2_lambda: 0.0642 - 1__decoder_attention_module_0_lambda: 0.1660 - 1__decoder_attention_module_1_lambda: -0.3656 - 2__encoder_attention_module_0_lambda: -0.3198 - 2__encoder_attention_module_1_lambda: -0.1933 - 2__encoder_attention_module_2_lambda: -0.0482 - 2__decoder_attention_module_0_lambda: 0.1442 - 2__decoder_attention_module_1_lambda: 0.3776 - 0__encoded_vec_wt: 0.3293 - 1__encoded_vec_wt: 0.3727 - 2__encoded_vec_wt: 0.2729 - 0__decoded_vec_wt: 0.1838 - 1__decoded_vec_wt: 0.7014 - 2__decoded_vec_wt: 0.7725 - val_loss: 0.0014 - val_mse: 0.0012 - val_NMSE: 0.0110\n",
      "Epoch 30/200\n",
      "1250/1250 [==============================] - ETA: 0s - loss: 0.0014 - mse: 0.0012 - NMSE: 0.0108 - 0__encoder_attention_module_0_lambda: 0.1169 - 0__encoder_attention_module_1_lambda: 0.0741 - 0__encoder_attention_module_2_lambda: 0.0536 - 0__decoder_attention_module_0_lambda: 0.1779 - 0__decoder_attention_module_1_lambda: -0.2904 - 1__encoder_attention_module_0_lambda: 0.2524 - 1__encoder_attention_module_1_lambda: 0.1182 - 1__encoder_attention_module_2_lambda: 0.0648 - 1__decoder_attention_module_0_lambda: 0.1661 - 1__decoder_attention_module_1_lambda: -0.3662 - 2__encoder_attention_module_0_lambda: -0.3207 - 2__encoder_attention_module_1_lambda: -0.1945 - 2__encoder_attention_module_2_lambda: -0.0482 - 2__decoder_attention_module_0_lambda: 0.1444 - 2__decoder_attention_module_1_lambda: 0.3781 - 0__encoded_vec_wt: 0.3288 - 1__encoded_vec_wt: 0.3730 - 2__encoded_vec_wt: 0.2726 - 0__decoded_vec_wt: 0.1846 - 1__decoded_vec_wt: 0.7021 - 2__decoded_vec_wt: 0.7734 - tot_time: 1h 6m 57.8s\n",
      "\n",
      "Epoch 30: val_NMSE did not improve from 0.01083\n",
      " - saving loss histories at /home/rkaushik/Documents/Thesis/MLROM/Kolmogorov/saved_ae/ae_053/checkpoints/LossHistoriesCheckpoint\n",
      "1250/1250 [==============================] - 66s 53ms/step - loss: 0.0014 - mse: 0.0012 - NMSE: 0.0108 - 0__encoder_attention_module_0_lambda: 0.1169 - 0__encoder_attention_module_1_lambda: 0.0741 - 0__encoder_attention_module_2_lambda: 0.0536 - 0__decoder_attention_module_0_lambda: 0.1779 - 0__decoder_attention_module_1_lambda: -0.2904 - 1__encoder_attention_module_0_lambda: 0.2524 - 1__encoder_attention_module_1_lambda: 0.1182 - 1__encoder_attention_module_2_lambda: 0.0648 - 1__decoder_attention_module_0_lambda: 0.1661 - 1__decoder_attention_module_1_lambda: -0.3662 - 2__encoder_attention_module_0_lambda: -0.3207 - 2__encoder_attention_module_1_lambda: -0.1945 - 2__encoder_attention_module_2_lambda: -0.0482 - 2__decoder_attention_module_0_lambda: 0.1444 - 2__decoder_attention_module_1_lambda: 0.3781 - 0__encoded_vec_wt: 0.3288 - 1__encoded_vec_wt: 0.3730 - 2__encoded_vec_wt: 0.2726 - 0__decoded_vec_wt: 0.1846 - 1__decoded_vec_wt: 0.7021 - 2__decoded_vec_wt: 0.7734 - val_loss: 0.0014 - val_mse: 0.0012 - val_NMSE: 0.0109\n",
      "Epoch 31/200\n",
      "1250/1250 [==============================] - ETA: 0s - loss: 0.0013 - mse: 0.0012 - NMSE: 0.0108 - 0__encoder_attention_module_0_lambda: 0.1171 - 0__encoder_attention_module_1_lambda: 0.0744 - 0__encoder_attention_module_2_lambda: 0.0538 - 0__decoder_attention_module_0_lambda: 0.1782 - 0__decoder_attention_module_1_lambda: -0.2921 - 1__encoder_attention_module_0_lambda: 0.2535 - 1__encoder_attention_module_1_lambda: 0.1186 - 1__encoder_attention_module_2_lambda: 0.0645 - 1__decoder_attention_module_0_lambda: 0.1662 - 1__decoder_attention_module_1_lambda: -0.3666 - 2__encoder_attention_module_0_lambda: -0.3215 - 2__encoder_attention_module_1_lambda: -0.1956 - 2__encoder_attention_module_2_lambda: -0.0482 - 2__decoder_attention_module_0_lambda: 0.1450 - 2__decoder_attention_module_1_lambda: 0.3788 - 0__encoded_vec_wt: 0.3284 - 1__encoded_vec_wt: 0.3732 - 2__encoded_vec_wt: 0.2723 - 0__decoded_vec_wt: 0.1854 - 1__decoded_vec_wt: 0.7025 - 2__decoded_vec_wt: 0.7740 - tot_time: 1h 8m 3.8s\n",
      "\n",
      "Epoch 31: val_NMSE did not improve from 0.01083\n",
      " - saving loss histories at /home/rkaushik/Documents/Thesis/MLROM/Kolmogorov/saved_ae/ae_053/checkpoints/LossHistoriesCheckpoint\n",
      "1250/1250 [==============================] - 66s 53ms/step - loss: 0.0013 - mse: 0.0012 - NMSE: 0.0108 - 0__encoder_attention_module_0_lambda: 0.1171 - 0__encoder_attention_module_1_lambda: 0.0744 - 0__encoder_attention_module_2_lambda: 0.0538 - 0__decoder_attention_module_0_lambda: 0.1782 - 0__decoder_attention_module_1_lambda: -0.2921 - 1__encoder_attention_module_0_lambda: 0.2535 - 1__encoder_attention_module_1_lambda: 0.1186 - 1__encoder_attention_module_2_lambda: 0.0645 - 1__decoder_attention_module_0_lambda: 0.1662 - 1__decoder_attention_module_1_lambda: -0.3666 - 2__encoder_attention_module_0_lambda: -0.3215 - 2__encoder_attention_module_1_lambda: -0.1956 - 2__encoder_attention_module_2_lambda: -0.0482 - 2__decoder_attention_module_0_lambda: 0.1450 - 2__decoder_attention_module_1_lambda: 0.3788 - 0__encoded_vec_wt: 0.3284 - 1__encoded_vec_wt: 0.3732 - 2__encoded_vec_wt: 0.2723 - 0__decoded_vec_wt: 0.1854 - 1__decoded_vec_wt: 0.7025 - 2__decoded_vec_wt: 0.7740 - val_loss: 0.0014 - val_mse: 0.0012 - val_NMSE: 0.0110\n"
     ]
    },
    {
     "name": "stdout",
     "output_type": "stream",
     "text": [
      "Epoch 32/200\n",
      "1250/1250 [==============================] - ETA: 0s - loss: 0.0013 - mse: 0.0012 - NMSE: 0.0108 - 0__encoder_attention_module_0_lambda: 0.1173 - 0__encoder_attention_module_1_lambda: 0.0753 - 0__encoder_attention_module_2_lambda: 0.0544 - 0__decoder_attention_module_0_lambda: 0.1776 - 0__decoder_attention_module_1_lambda: -0.2927 - 1__encoder_attention_module_0_lambda: 0.2531 - 1__encoder_attention_module_1_lambda: 0.1199 - 1__encoder_attention_module_2_lambda: 0.0647 - 1__decoder_attention_module_0_lambda: 0.1664 - 1__decoder_attention_module_1_lambda: -0.3669 - 2__encoder_attention_module_0_lambda: -0.3221 - 2__encoder_attention_module_1_lambda: -0.1961 - 2__encoder_attention_module_2_lambda: -0.0485 - 2__decoder_attention_module_0_lambda: 0.1456 - 2__decoder_attention_module_1_lambda: 0.3792 - 0__encoded_vec_wt: 0.3278 - 1__encoded_vec_wt: 0.3736 - 2__encoded_vec_wt: 0.2719 - 0__decoded_vec_wt: 0.1862 - 1__decoded_vec_wt: 0.7030 - 2__decoded_vec_wt: 0.7748 - tot_time: 1h 9m 9.4s\n",
      "\n",
      "Epoch 32: val_NMSE did not improve from 0.01083\n",
      " - saving loss histories at /home/rkaushik/Documents/Thesis/MLROM/Kolmogorov/saved_ae/ae_053/checkpoints/LossHistoriesCheckpoint\n",
      "1250/1250 [==============================] - 66s 52ms/step - loss: 0.0013 - mse: 0.0012 - NMSE: 0.0108 - 0__encoder_attention_module_0_lambda: 0.1173 - 0__encoder_attention_module_1_lambda: 0.0753 - 0__encoder_attention_module_2_lambda: 0.0544 - 0__decoder_attention_module_0_lambda: 0.1776 - 0__decoder_attention_module_1_lambda: -0.2927 - 1__encoder_attention_module_0_lambda: 0.2531 - 1__encoder_attention_module_1_lambda: 0.1199 - 1__encoder_attention_module_2_lambda: 0.0647 - 1__decoder_attention_module_0_lambda: 0.1664 - 1__decoder_attention_module_1_lambda: -0.3669 - 2__encoder_attention_module_0_lambda: -0.3221 - 2__encoder_attention_module_1_lambda: -0.1961 - 2__encoder_attention_module_2_lambda: -0.0485 - 2__decoder_attention_module_0_lambda: 0.1456 - 2__decoder_attention_module_1_lambda: 0.3792 - 0__encoded_vec_wt: 0.3278 - 1__encoded_vec_wt: 0.3736 - 2__encoded_vec_wt: 0.2719 - 0__decoded_vec_wt: 0.1862 - 1__decoded_vec_wt: 0.7030 - 2__decoded_vec_wt: 0.7748 - val_loss: 0.0014 - val_mse: 0.0012 - val_NMSE: 0.0112\n",
      "Epoch 33/200\n",
      "1249/1250 [============================>.] - ETA: 0s - loss: 0.0013 - mse: 0.0012 - NMSE: 0.0108 - 0__encoder_attention_module_0_lambda: 0.1174 - 0__encoder_attention_module_1_lambda: 0.0759 - 0__encoder_attention_module_2_lambda: 0.0547 - 0__decoder_attention_module_0_lambda: 0.1790 - 0__decoder_attention_module_1_lambda: -0.2939 - 1__encoder_attention_module_0_lambda: 0.2537 - 1__encoder_attention_module_1_lambda: 0.1200 - 1__encoder_attention_module_2_lambda: 0.0652 - 1__decoder_attention_module_0_lambda: 0.1667 - 1__decoder_attention_module_1_lambda: -0.3677 - 2__encoder_attention_module_0_lambda: -0.3237 - 2__encoder_attention_module_1_lambda: -0.1976 - 2__encoder_attention_module_2_lambda: -0.0480 - 2__decoder_attention_module_0_lambda: 0.1461 - 2__decoder_attention_module_1_lambda: 0.3793 - 0__encoded_vec_wt: 0.3273 - 1__encoded_vec_wt: 0.3739 - 2__encoded_vec_wt: 0.2717 - 0__decoded_vec_wt: 0.1871 - 1__decoded_vec_wt: 0.7037 - 2__decoded_vec_wt: 0.7756Restoring model weights from the end of the best epoch: 23.\n",
      " - tot_time: 1h 10m 14.3s\n",
      "\n",
      "Epoch 33: val_NMSE did not improve from 0.01083\n",
      " - saving loss histories at /home/rkaushik/Documents/Thesis/MLROM/Kolmogorov/saved_ae/ae_053/checkpoints/LossHistoriesCheckpoint\n",
      "1250/1250 [==============================] - 65s 52ms/step - loss: 0.0013 - mse: 0.0012 - NMSE: 0.0108 - 0__encoder_attention_module_0_lambda: 0.1174 - 0__encoder_attention_module_1_lambda: 0.0759 - 0__encoder_attention_module_2_lambda: 0.0547 - 0__decoder_attention_module_0_lambda: 0.1790 - 0__decoder_attention_module_1_lambda: -0.2939 - 1__encoder_attention_module_0_lambda: 0.2537 - 1__encoder_attention_module_1_lambda: 0.1200 - 1__encoder_attention_module_2_lambda: 0.0652 - 1__decoder_attention_module_0_lambda: 0.1667 - 1__decoder_attention_module_1_lambda: -0.3677 - 2__encoder_attention_module_0_lambda: -0.3237 - 2__encoder_attention_module_1_lambda: -0.1976 - 2__encoder_attention_module_2_lambda: -0.0480 - 2__decoder_attention_module_0_lambda: 0.1461 - 2__decoder_attention_module_1_lambda: 0.3793 - 0__encoded_vec_wt: 0.3273 - 1__encoded_vec_wt: 0.3739 - 2__encoded_vec_wt: 0.2717 - 0__decoded_vec_wt: 0.1871 - 1__decoded_vec_wt: 0.7037 - 2__decoded_vec_wt: 0.7756 - val_loss: 0.0014 - val_mse: 0.0012 - val_NMSE: 0.0109\n",
      "Epoch 33: early stopping\n",
      "\n",
      "\n",
      "--------------------------------------------------------------------------------\n",
      "\n",
      "---------------------------- LEARNING RATE : 1e-05 -----------------------------\n",
      "\n",
      "--------------------------------------------------------------------------------\n",
      "\n",
      "\n",
      "Epoch 1/200\n",
      "1250/1250 [==============================] - ETA: 0s - loss: 0.0013 - mse: 0.0012 - NMSE: 0.0106 - 0__encoder_attention_module_0_lambda: 0.1140 - 0__encoder_attention_module_1_lambda: 0.0705 - 0__encoder_attention_module_2_lambda: 0.0515 - 0__decoder_attention_module_0_lambda: 0.1750 - 0__decoder_attention_module_1_lambda: -0.2824 - 1__encoder_attention_module_0_lambda: 0.2494 - 1__encoder_attention_module_1_lambda: 0.1115 - 1__encoder_attention_module_2_lambda: 0.0628 - 1__decoder_attention_module_0_lambda: 0.1650 - 1__decoder_attention_module_1_lambda: -0.3633 - 2__encoder_attention_module_0_lambda: -0.3146 - 2__encoder_attention_module_1_lambda: -0.1869 - 2__encoder_attention_module_2_lambda: -0.0446 - 2__decoder_attention_module_0_lambda: 0.1413 - 2__decoder_attention_module_1_lambda: 0.3763 - 0__encoded_vec_wt: 0.3322 - 1__encoded_vec_wt: 0.3711 - 2__encoded_vec_wt: 0.2743 - 0__decoded_vec_wt: 0.1791 - 1__decoded_vec_wt: 0.6980 - 2__decoded_vec_wt: 0.7681 - tot_time: 1h 11m 21.2s\n",
      "\n",
      "Epoch 1: val_NMSE improved from 0.01083 to 0.01070, saving model to /home/rkaushik/Documents/Thesis/MLROM/Kolmogorov/saved_ae/ae_053/checkpoints/checkpoint\n",
      " - saving loss histories at /home/rkaushik/Documents/Thesis/MLROM/Kolmogorov/saved_ae/ae_053/checkpoints/LossHistoriesCheckpoint\n",
      "1250/1250 [==============================] - 66s 53ms/step - loss: 0.0013 - mse: 0.0012 - NMSE: 0.0106 - 0__encoder_attention_module_0_lambda: 0.1140 - 0__encoder_attention_module_1_lambda: 0.0705 - 0__encoder_attention_module_2_lambda: 0.0515 - 0__decoder_attention_module_0_lambda: 0.1750 - 0__decoder_attention_module_1_lambda: -0.2824 - 1__encoder_attention_module_0_lambda: 0.2494 - 1__encoder_attention_module_1_lambda: 0.1115 - 1__encoder_attention_module_2_lambda: 0.0628 - 1__decoder_attention_module_0_lambda: 0.1650 - 1__decoder_attention_module_1_lambda: -0.3633 - 2__encoder_attention_module_0_lambda: -0.3146 - 2__encoder_attention_module_1_lambda: -0.1869 - 2__encoder_attention_module_2_lambda: -0.0446 - 2__decoder_attention_module_0_lambda: 0.1413 - 2__decoder_attention_module_1_lambda: 0.3763 - 0__encoded_vec_wt: 0.3322 - 1__encoded_vec_wt: 0.3711 - 2__encoded_vec_wt: 0.2743 - 0__decoded_vec_wt: 0.1791 - 1__decoded_vec_wt: 0.6980 - 2__decoded_vec_wt: 0.7681 - val_loss: 0.0013 - val_mse: 0.0012 - val_NMSE: 0.0107\n",
      "Epoch 2/200\n",
      "1250/1250 [==============================] - ETA: 0s - loss: 0.0013 - mse: 0.0012 - NMSE: 0.0106 - 0__encoder_attention_module_0_lambda: 0.1145 - 0__encoder_attention_module_1_lambda: 0.0707 - 0__encoder_attention_module_2_lambda: 0.0515 - 0__decoder_attention_module_0_lambda: 0.1749 - 0__decoder_attention_module_1_lambda: -0.2826 - 1__encoder_attention_module_0_lambda: 0.2497 - 1__encoder_attention_module_1_lambda: 0.1122 - 1__encoder_attention_module_2_lambda: 0.0629 - 1__decoder_attention_module_0_lambda: 0.1648 - 1__decoder_attention_module_1_lambda: -0.3633 - 2__encoder_attention_module_0_lambda: -0.3149 - 2__encoder_attention_module_1_lambda: -0.1870 - 2__encoder_attention_module_2_lambda: -0.0448 - 2__decoder_attention_module_0_lambda: 0.1414 - 2__decoder_attention_module_1_lambda: 0.3764 - 0__encoded_vec_wt: 0.3320 - 1__encoded_vec_wt: 0.3712 - 2__encoded_vec_wt: 0.2744 - 0__decoded_vec_wt: 0.1793 - 1__decoded_vec_wt: 0.6981 - 2__decoded_vec_wt: 0.7683 - tot_time: 1h 12m 27.6s\n",
      "\n",
      "Epoch 2: val_NMSE improved from 0.01070 to 0.01069, saving model to /home/rkaushik/Documents/Thesis/MLROM/Kolmogorov/saved_ae/ae_053/checkpoints/checkpoint\n"
     ]
    },
    {
     "name": "stdout",
     "output_type": "stream",
     "text": [
      " - saving loss histories at /home/rkaushik/Documents/Thesis/MLROM/Kolmogorov/saved_ae/ae_053/checkpoints/LossHistoriesCheckpoint\n",
      "1250/1250 [==============================] - 66s 53ms/step - loss: 0.0013 - mse: 0.0012 - NMSE: 0.0106 - 0__encoder_attention_module_0_lambda: 0.1145 - 0__encoder_attention_module_1_lambda: 0.0707 - 0__encoder_attention_module_2_lambda: 0.0515 - 0__decoder_attention_module_0_lambda: 0.1749 - 0__decoder_attention_module_1_lambda: -0.2826 - 1__encoder_attention_module_0_lambda: 0.2497 - 1__encoder_attention_module_1_lambda: 0.1122 - 1__encoder_attention_module_2_lambda: 0.0629 - 1__decoder_attention_module_0_lambda: 0.1648 - 1__decoder_attention_module_1_lambda: -0.3633 - 2__encoder_attention_module_0_lambda: -0.3149 - 2__encoder_attention_module_1_lambda: -0.1870 - 2__encoder_attention_module_2_lambda: -0.0448 - 2__decoder_attention_module_0_lambda: 0.1414 - 2__decoder_attention_module_1_lambda: 0.3764 - 0__encoded_vec_wt: 0.3320 - 1__encoded_vec_wt: 0.3712 - 2__encoded_vec_wt: 0.2744 - 0__decoded_vec_wt: 0.1793 - 1__decoded_vec_wt: 0.6981 - 2__decoded_vec_wt: 0.7683 - val_loss: 0.0013 - val_mse: 0.0012 - val_NMSE: 0.0107\n",
      "Epoch 3/200\n",
      "1250/1250 [==============================] - ETA: 0s - loss: 0.0013 - mse: 0.0012 - NMSE: 0.0106 - 0__encoder_attention_module_0_lambda: 0.1145 - 0__encoder_attention_module_1_lambda: 0.0709 - 0__encoder_attention_module_2_lambda: 0.0516 - 0__decoder_attention_module_0_lambda: 0.1748 - 0__decoder_attention_module_1_lambda: -0.2829 - 1__encoder_attention_module_0_lambda: 0.2498 - 1__encoder_attention_module_1_lambda: 0.1127 - 1__encoder_attention_module_2_lambda: 0.0630 - 1__decoder_attention_module_0_lambda: 0.1648 - 1__decoder_attention_module_1_lambda: -0.3632 - 2__encoder_attention_module_0_lambda: -0.3150 - 2__encoder_attention_module_1_lambda: -0.1872 - 2__encoder_attention_module_2_lambda: -0.0451 - 2__decoder_attention_module_0_lambda: 0.1413 - 2__decoder_attention_module_1_lambda: 0.3764 - 0__encoded_vec_wt: 0.3318 - 1__encoded_vec_wt: 0.3713 - 2__encoded_vec_wt: 0.2744 - 0__decoded_vec_wt: 0.1795 - 1__decoded_vec_wt: 0.6982 - 2__decoded_vec_wt: 0.7684 - tot_time: 1h 13m 33.2s\n",
      "\n",
      "Epoch 3: val_NMSE did not improve from 0.01069\n",
      " - saving loss histories at /home/rkaushik/Documents/Thesis/MLROM/Kolmogorov/saved_ae/ae_053/checkpoints/LossHistoriesCheckpoint\n",
      "1250/1250 [==============================] - 65s 52ms/step - loss: 0.0013 - mse: 0.0012 - NMSE: 0.0106 - 0__encoder_attention_module_0_lambda: 0.1145 - 0__encoder_attention_module_1_lambda: 0.0709 - 0__encoder_attention_module_2_lambda: 0.0516 - 0__decoder_attention_module_0_lambda: 0.1748 - 0__decoder_attention_module_1_lambda: -0.2829 - 1__encoder_attention_module_0_lambda: 0.2498 - 1__encoder_attention_module_1_lambda: 0.1127 - 1__encoder_attention_module_2_lambda: 0.0630 - 1__decoder_attention_module_0_lambda: 0.1648 - 1__decoder_attention_module_1_lambda: -0.3632 - 2__encoder_attention_module_0_lambda: -0.3150 - 2__encoder_attention_module_1_lambda: -0.1872 - 2__encoder_attention_module_2_lambda: -0.0451 - 2__decoder_attention_module_0_lambda: 0.1413 - 2__decoder_attention_module_1_lambda: 0.3764 - 0__encoded_vec_wt: 0.3318 - 1__encoded_vec_wt: 0.3713 - 2__encoded_vec_wt: 0.2744 - 0__decoded_vec_wt: 0.1795 - 1__decoded_vec_wt: 0.6982 - 2__decoded_vec_wt: 0.7684 - val_loss: 0.0013 - val_mse: 0.0012 - val_NMSE: 0.0107\n",
      "Epoch 4/200\n",
      "1250/1250 [==============================] - ETA: 0s - loss: 0.0013 - mse: 0.0012 - NMSE: 0.0106 - 0__encoder_attention_module_0_lambda: 0.1145 - 0__encoder_attention_module_1_lambda: 0.0710 - 0__encoder_attention_module_2_lambda: 0.0517 - 0__decoder_attention_module_0_lambda: 0.1747 - 0__decoder_attention_module_1_lambda: -0.2830 - 1__encoder_attention_module_0_lambda: 0.2499 - 1__encoder_attention_module_1_lambda: 0.1131 - 1__encoder_attention_module_2_lambda: 0.0631 - 1__decoder_attention_module_0_lambda: 0.1648 - 1__decoder_attention_module_1_lambda: -0.3632 - 2__encoder_attention_module_0_lambda: -0.3151 - 2__encoder_attention_module_1_lambda: -0.1875 - 2__encoder_attention_module_2_lambda: -0.0450 - 2__decoder_attention_module_0_lambda: 0.1413 - 2__decoder_attention_module_1_lambda: 0.3764 - 0__encoded_vec_wt: 0.3317 - 1__encoded_vec_wt: 0.3714 - 2__encoded_vec_wt: 0.2745 - 0__decoded_vec_wt: 0.1797 - 1__decoded_vec_wt: 0.6983 - 2__decoded_vec_wt: 0.7686 - tot_time: 1h 14m 38.5s\n",
      "\n",
      "Epoch 4: val_NMSE improved from 0.01069 to 0.01061, saving model to /home/rkaushik/Documents/Thesis/MLROM/Kolmogorov/saved_ae/ae_053/checkpoints/checkpoint\n",
      " - saving loss histories at /home/rkaushik/Documents/Thesis/MLROM/Kolmogorov/saved_ae/ae_053/checkpoints/LossHistoriesCheckpoint\n",
      "1250/1250 [==============================] - 66s 52ms/step - loss: 0.0013 - mse: 0.0012 - NMSE: 0.0106 - 0__encoder_attention_module_0_lambda: 0.1145 - 0__encoder_attention_module_1_lambda: 0.0710 - 0__encoder_attention_module_2_lambda: 0.0517 - 0__decoder_attention_module_0_lambda: 0.1747 - 0__decoder_attention_module_1_lambda: -0.2830 - 1__encoder_attention_module_0_lambda: 0.2499 - 1__encoder_attention_module_1_lambda: 0.1131 - 1__encoder_attention_module_2_lambda: 0.0631 - 1__decoder_attention_module_0_lambda: 0.1648 - 1__decoder_attention_module_1_lambda: -0.3632 - 2__encoder_attention_module_0_lambda: -0.3151 - 2__encoder_attention_module_1_lambda: -0.1875 - 2__encoder_attention_module_2_lambda: -0.0450 - 2__decoder_attention_module_0_lambda: 0.1413 - 2__decoder_attention_module_1_lambda: 0.3764 - 0__encoded_vec_wt: 0.3317 - 1__encoded_vec_wt: 0.3714 - 2__encoded_vec_wt: 0.2745 - 0__decoded_vec_wt: 0.1797 - 1__decoded_vec_wt: 0.6983 - 2__decoded_vec_wt: 0.7686 - val_loss: 0.0013 - val_mse: 0.0012 - val_NMSE: 0.0106\n",
      "Epoch 5/200\n",
      "1250/1250 [==============================] - ETA: 0s - loss: 0.0013 - mse: 0.0012 - NMSE: 0.0106 - 0__encoder_attention_module_0_lambda: 0.1144 - 0__encoder_attention_module_1_lambda: 0.0711 - 0__encoder_attention_module_2_lambda: 0.0517 - 0__decoder_attention_module_0_lambda: 0.1746 - 0__decoder_attention_module_1_lambda: -0.2832 - 1__encoder_attention_module_0_lambda: 0.2500 - 1__encoder_attention_module_1_lambda: 0.1133 - 1__encoder_attention_module_2_lambda: 0.0632 - 1__decoder_attention_module_0_lambda: 0.1648 - 1__decoder_attention_module_1_lambda: -0.3630 - 2__encoder_attention_module_0_lambda: -0.3150 - 2__encoder_attention_module_1_lambda: -0.1876 - 2__encoder_attention_module_2_lambda: -0.0450 - 2__decoder_attention_module_0_lambda: 0.1413 - 2__decoder_attention_module_1_lambda: 0.3763 - 0__encoded_vec_wt: 0.3316 - 1__encoded_vec_wt: 0.3715 - 2__encoded_vec_wt: 0.2745 - 0__decoded_vec_wt: 0.1799 - 1__decoded_vec_wt: 0.6984 - 2__decoded_vec_wt: 0.7687 - tot_time: 1h 15m 43.9s\n",
      "\n",
      "Epoch 5: val_NMSE did not improve from 0.01061\n",
      " - saving loss histories at /home/rkaushik/Documents/Thesis/MLROM/Kolmogorov/saved_ae/ae_053/checkpoints/LossHistoriesCheckpoint\n",
      "1250/1250 [==============================] - 65s 52ms/step - loss: 0.0013 - mse: 0.0012 - NMSE: 0.0106 - 0__encoder_attention_module_0_lambda: 0.1144 - 0__encoder_attention_module_1_lambda: 0.0711 - 0__encoder_attention_module_2_lambda: 0.0517 - 0__decoder_attention_module_0_lambda: 0.1746 - 0__decoder_attention_module_1_lambda: -0.2832 - 1__encoder_attention_module_0_lambda: 0.2500 - 1__encoder_attention_module_1_lambda: 0.1133 - 1__encoder_attention_module_2_lambda: 0.0632 - 1__decoder_attention_module_0_lambda: 0.1648 - 1__decoder_attention_module_1_lambda: -0.3630 - 2__encoder_attention_module_0_lambda: -0.3150 - 2__encoder_attention_module_1_lambda: -0.1876 - 2__encoder_attention_module_2_lambda: -0.0450 - 2__decoder_attention_module_0_lambda: 0.1413 - 2__decoder_attention_module_1_lambda: 0.3763 - 0__encoded_vec_wt: 0.3316 - 1__encoded_vec_wt: 0.3715 - 2__encoded_vec_wt: 0.2745 - 0__decoded_vec_wt: 0.1799 - 1__decoded_vec_wt: 0.6984 - 2__decoded_vec_wt: 0.7687 - val_loss: 0.0013 - val_mse: 0.0012 - val_NMSE: 0.0106\n",
      "Epoch 6/200\n",
      "1250/1250 [==============================] - ETA: 0s - loss: 0.0013 - mse: 0.0012 - NMSE: 0.0106 - 0__encoder_attention_module_0_lambda: 0.1143 - 0__encoder_attention_module_1_lambda: 0.0713 - 0__encoder_attention_module_2_lambda: 0.0519 - 0__decoder_attention_module_0_lambda: 0.1746 - 0__decoder_attention_module_1_lambda: -0.2834 - 1__encoder_attention_module_0_lambda: 0.2501 - 1__encoder_attention_module_1_lambda: 0.1134 - 1__encoder_attention_module_2_lambda: 0.0634 - 1__decoder_attention_module_0_lambda: 0.1647 - 1__decoder_attention_module_1_lambda: -0.3631 - 2__encoder_attention_module_0_lambda: -0.3148 - 2__encoder_attention_module_1_lambda: -0.1877 - 2__encoder_attention_module_2_lambda: -0.0451 - 2__decoder_attention_module_0_lambda: 0.1413 - 2__decoder_attention_module_1_lambda: 0.3763 - 0__encoded_vec_wt: 0.3314 - 1__encoded_vec_wt: 0.3716 - 2__encoded_vec_wt: 0.2745 - 0__decoded_vec_wt: 0.1800 - 1__decoded_vec_wt: 0.6985 - 2__decoded_vec_wt: 0.7688 - tot_time: 1h 16m 49.5s\n",
      "\n",
      "Epoch 6: val_NMSE did not improve from 0.01061\n",
      " - saving loss histories at /home/rkaushik/Documents/Thesis/MLROM/Kolmogorov/saved_ae/ae_053/checkpoints/LossHistoriesCheckpoint\n",
      "1250/1250 [==============================] - 66s 52ms/step - loss: 0.0013 - mse: 0.0012 - NMSE: 0.0106 - 0__encoder_attention_module_0_lambda: 0.1143 - 0__encoder_attention_module_1_lambda: 0.0713 - 0__encoder_attention_module_2_lambda: 0.0519 - 0__decoder_attention_module_0_lambda: 0.1746 - 0__decoder_attention_module_1_lambda: -0.2834 - 1__encoder_attention_module_0_lambda: 0.2501 - 1__encoder_attention_module_1_lambda: 0.1134 - 1__encoder_attention_module_2_lambda: 0.0634 - 1__decoder_attention_module_0_lambda: 0.1647 - 1__decoder_attention_module_1_lambda: -0.3631 - 2__encoder_attention_module_0_lambda: -0.3148 - 2__encoder_attention_module_1_lambda: -0.1877 - 2__encoder_attention_module_2_lambda: -0.0451 - 2__decoder_attention_module_0_lambda: 0.1413 - 2__decoder_attention_module_1_lambda: 0.3763 - 0__encoded_vec_wt: 0.3314 - 1__encoded_vec_wt: 0.3716 - 2__encoded_vec_wt: 0.2745 - 0__decoded_vec_wt: 0.1800 - 1__decoded_vec_wt: 0.6985 - 2__decoded_vec_wt: 0.7688 - val_loss: 0.0013 - val_mse: 0.0012 - val_NMSE: 0.0107\n",
      "Epoch 7/200\n",
      "1250/1250 [==============================] - ETA: 0s - loss: 0.0013 - mse: 0.0012 - NMSE: 0.0105 - 0__encoder_attention_module_0_lambda: 0.1144 - 0__encoder_attention_module_1_lambda: 0.0715 - 0__encoder_attention_module_2_lambda: 0.0520 - 0__decoder_attention_module_0_lambda: 0.1745 - 0__decoder_attention_module_1_lambda: -0.2836 - 1__encoder_attention_module_0_lambda: 0.2501 - 1__encoder_attention_module_1_lambda: 0.1137 - 1__encoder_attention_module_2_lambda: 0.0634 - 1__decoder_attention_module_0_lambda: 0.1647 - 1__decoder_attention_module_1_lambda: -0.3630 - 2__encoder_attention_module_0_lambda: -0.3150 - 2__encoder_attention_module_1_lambda: -0.1880 - 2__encoder_attention_module_2_lambda: -0.0451 - 2__decoder_attention_module_0_lambda: 0.1412 - 2__decoder_attention_module_1_lambda: 0.3763 - 0__encoded_vec_wt: 0.3313 - 1__encoded_vec_wt: 0.3716 - 2__encoded_vec_wt: 0.2745 - 0__decoded_vec_wt: 0.1802 - 1__decoded_vec_wt: 0.6985 - 2__decoded_vec_wt: 0.7689 - tot_time: 1h 17m 55.1s\n",
      "\n",
      "Epoch 7: val_NMSE did not improve from 0.01061\n",
      " - saving loss histories at /home/rkaushik/Documents/Thesis/MLROM/Kolmogorov/saved_ae/ae_053/checkpoints/LossHistoriesCheckpoint\n",
      "1250/1250 [==============================] - 66s 53ms/step - loss: 0.0013 - mse: 0.0012 - NMSE: 0.0105 - 0__encoder_attention_module_0_lambda: 0.1144 - 0__encoder_attention_module_1_lambda: 0.0715 - 0__encoder_attention_module_2_lambda: 0.0520 - 0__decoder_attention_module_0_lambda: 0.1745 - 0__decoder_attention_module_1_lambda: -0.2836 - 1__encoder_attention_module_0_lambda: 0.2501 - 1__encoder_attention_module_1_lambda: 0.1137 - 1__encoder_attention_module_2_lambda: 0.0634 - 1__decoder_attention_module_0_lambda: 0.1647 - 1__decoder_attention_module_1_lambda: -0.3630 - 2__encoder_attention_module_0_lambda: -0.3150 - 2__encoder_attention_module_1_lambda: -0.1880 - 2__encoder_attention_module_2_lambda: -0.0451 - 2__decoder_attention_module_0_lambda: 0.1412 - 2__decoder_attention_module_1_lambda: 0.3763 - 0__encoded_vec_wt: 0.3313 - 1__encoded_vec_wt: 0.3716 - 2__encoded_vec_wt: 0.2745 - 0__decoded_vec_wt: 0.1802 - 1__decoded_vec_wt: 0.6985 - 2__decoded_vec_wt: 0.7689 - val_loss: 0.0013 - val_mse: 0.0012 - val_NMSE: 0.0107\n",
      "Epoch 8/200\n",
      "1249/1250 [============================>.] - ETA: 0s - loss: 0.0013 - mse: 0.0012 - NMSE: 0.0105 - 0__encoder_attention_module_0_lambda: 0.1145 - 0__encoder_attention_module_1_lambda: 0.0716 - 0__encoder_attention_module_2_lambda: 0.0519 - 0__decoder_attention_module_0_lambda: 0.1745 - 0__decoder_attention_module_1_lambda: -0.2837 - 1__encoder_attention_module_0_lambda: 0.2502 - 1__encoder_attention_module_1_lambda: 0.1138 - 1__encoder_attention_module_2_lambda: 0.0634 - 1__decoder_attention_module_0_lambda: 0.1647 - 1__decoder_attention_module_1_lambda: -0.3630 - 2__encoder_attention_module_0_lambda: -0.3151 - 2__encoder_attention_module_1_lambda: -0.1881 - 2__encoder_attention_module_2_lambda: -0.0452 - 2__decoder_attention_module_0_lambda: 0.1412 - 2__decoder_attention_module_1_lambda: 0.3763 - 0__encoded_vec_wt: 0.3311 - 1__encoded_vec_wt: 0.3717 - 2__encoded_vec_wt: 0.2745 - 0__decoded_vec_wt: 0.1803 - 1__decoded_vec_wt: 0.6986 - 2__decoded_vec_wt: 0.7690 - tot_time: 1h 19m 0.9s\n",
      "\n",
      "Epoch 8: val_NMSE did not improve from 0.01061\n",
      " - saving loss histories at /home/rkaushik/Documents/Thesis/MLROM/Kolmogorov/saved_ae/ae_053/checkpoints/LossHistoriesCheckpoint\n",
      "1250/1250 [==============================] - 66s 53ms/step - loss: 0.0013 - mse: 0.0012 - NMSE: 0.0105 - 0__encoder_attention_module_0_lambda: 0.1145 - 0__encoder_attention_module_1_lambda: 0.0716 - 0__encoder_attention_module_2_lambda: 0.0519 - 0__decoder_attention_module_0_lambda: 0.1745 - 0__decoder_attention_module_1_lambda: -0.2837 - 1__encoder_attention_module_0_lambda: 0.2502 - 1__encoder_attention_module_1_lambda: 0.1138 - 1__encoder_attention_module_2_lambda: 0.0634 - 1__decoder_attention_module_0_lambda: 0.1647 - 1__decoder_attention_module_1_lambda: -0.3630 - 2__encoder_attention_module_0_lambda: -0.3151 - 2__encoder_attention_module_1_lambda: -0.1881 - 2__encoder_attention_module_2_lambda: -0.0452 - 2__decoder_attention_module_0_lambda: 0.1412 - 2__decoder_attention_module_1_lambda: 0.3763 - 0__encoded_vec_wt: 0.3311 - 1__encoded_vec_wt: 0.3717 - 2__encoded_vec_wt: 0.2745 - 0__decoded_vec_wt: 0.1803 - 1__decoded_vec_wt: 0.6986 - 2__decoded_vec_wt: 0.7690 - val_loss: 0.0013 - val_mse: 0.0012 - val_NMSE: 0.0107\n",
      "Epoch 9/200\n",
      "1250/1250 [==============================] - ETA: 0s - loss: 0.0013 - mse: 0.0012 - NMSE: 0.0105 - 0__encoder_attention_module_0_lambda: 0.1142 - 0__encoder_attention_module_1_lambda: 0.0717 - 0__encoder_attention_module_2_lambda: 0.0519 - 0__decoder_attention_module_0_lambda: 0.1745 - 0__decoder_attention_module_1_lambda: -0.2838 - 1__encoder_attention_module_0_lambda: 0.2502 - 1__encoder_attention_module_1_lambda: 0.1139 - 1__encoder_attention_module_2_lambda: 0.0635 - 1__decoder_attention_module_0_lambda: 0.1647 - 1__decoder_attention_module_1_lambda: -0.3629 - 2__encoder_attention_module_0_lambda: -0.3149 - 2__encoder_attention_module_1_lambda: -0.1882 - 2__encoder_attention_module_2_lambda: -0.0452 - 2__decoder_attention_module_0_lambda: 0.1412 - 2__decoder_attention_module_1_lambda: 0.3762 - 0__encoded_vec_wt: 0.3310 - 1__encoded_vec_wt: 0.3718 - 2__encoded_vec_wt: 0.2746 - 0__decoded_vec_wt: 0.1805 - 1__decoded_vec_wt: 0.6987 - 2__decoded_vec_wt: 0.7691 - tot_time: 1h 20m 6.5s\n",
      "\n",
      "Epoch 9: val_NMSE did not improve from 0.01061\n",
      " - saving loss histories at /home/rkaushik/Documents/Thesis/MLROM/Kolmogorov/saved_ae/ae_053/checkpoints/LossHistoriesCheckpoint\n",
      "1250/1250 [==============================] - 66s 52ms/step - loss: 0.0013 - mse: 0.0012 - NMSE: 0.0105 - 0__encoder_attention_module_0_lambda: 0.1142 - 0__encoder_attention_module_1_lambda: 0.0717 - 0__encoder_attention_module_2_lambda: 0.0519 - 0__decoder_attention_module_0_lambda: 0.1745 - 0__decoder_attention_module_1_lambda: -0.2838 - 1__encoder_attention_module_0_lambda: 0.2502 - 1__encoder_attention_module_1_lambda: 0.1139 - 1__encoder_attention_module_2_lambda: 0.0635 - 1__decoder_attention_module_0_lambda: 0.1647 - 1__decoder_attention_module_1_lambda: -0.3629 - 2__encoder_attention_module_0_lambda: -0.3149 - 2__encoder_attention_module_1_lambda: -0.1882 - 2__encoder_attention_module_2_lambda: -0.0452 - 2__decoder_attention_module_0_lambda: 0.1412 - 2__decoder_attention_module_1_lambda: 0.3762 - 0__encoded_vec_wt: 0.3310 - 1__encoded_vec_wt: 0.3718 - 2__encoded_vec_wt: 0.2746 - 0__decoded_vec_wt: 0.1805 - 1__decoded_vec_wt: 0.6987 - 2__decoded_vec_wt: 0.7691 - val_loss: 0.0013 - val_mse: 0.0012 - val_NMSE: 0.0106\n"
     ]
    },
    {
     "name": "stdout",
     "output_type": "stream",
     "text": [
      "Epoch 10/200\n",
      "1250/1250 [==============================] - ETA: 0s - loss: 0.0013 - mse: 0.0012 - NMSE: 0.0105 - 0__encoder_attention_module_0_lambda: 0.1142 - 0__encoder_attention_module_1_lambda: 0.0719 - 0__encoder_attention_module_2_lambda: 0.0519 - 0__decoder_attention_module_0_lambda: 0.1744 - 0__decoder_attention_module_1_lambda: -0.2840 - 1__encoder_attention_module_0_lambda: 0.2503 - 1__encoder_attention_module_1_lambda: 0.1139 - 1__encoder_attention_module_2_lambda: 0.0634 - 1__decoder_attention_module_0_lambda: 0.1647 - 1__decoder_attention_module_1_lambda: -0.3630 - 2__encoder_attention_module_0_lambda: -0.3150 - 2__encoder_attention_module_1_lambda: -0.1883 - 2__encoder_attention_module_2_lambda: -0.0452 - 2__decoder_attention_module_0_lambda: 0.1412 - 2__decoder_attention_module_1_lambda: 0.3763 - 0__encoded_vec_wt: 0.3309 - 1__encoded_vec_wt: 0.3719 - 2__encoded_vec_wt: 0.2745 - 0__decoded_vec_wt: 0.1807 - 1__decoded_vec_wt: 0.6988 - 2__decoded_vec_wt: 0.7692 - tot_time: 1h 21m 12.4s\n",
      "\n",
      "Epoch 10: val_NMSE did not improve from 0.01061\n",
      " - saving loss histories at /home/rkaushik/Documents/Thesis/MLROM/Kolmogorov/saved_ae/ae_053/checkpoints/LossHistoriesCheckpoint\n",
      "1250/1250 [==============================] - 66s 53ms/step - loss: 0.0013 - mse: 0.0012 - NMSE: 0.0105 - 0__encoder_attention_module_0_lambda: 0.1142 - 0__encoder_attention_module_1_lambda: 0.0719 - 0__encoder_attention_module_2_lambda: 0.0519 - 0__decoder_attention_module_0_lambda: 0.1744 - 0__decoder_attention_module_1_lambda: -0.2840 - 1__encoder_attention_module_0_lambda: 0.2503 - 1__encoder_attention_module_1_lambda: 0.1139 - 1__encoder_attention_module_2_lambda: 0.0634 - 1__decoder_attention_module_0_lambda: 0.1647 - 1__decoder_attention_module_1_lambda: -0.3630 - 2__encoder_attention_module_0_lambda: -0.3150 - 2__encoder_attention_module_1_lambda: -0.1883 - 2__encoder_attention_module_2_lambda: -0.0452 - 2__decoder_attention_module_0_lambda: 0.1412 - 2__decoder_attention_module_1_lambda: 0.3763 - 0__encoded_vec_wt: 0.3309 - 1__encoded_vec_wt: 0.3719 - 2__encoded_vec_wt: 0.2745 - 0__decoded_vec_wt: 0.1807 - 1__decoded_vec_wt: 0.6988 - 2__decoded_vec_wt: 0.7692 - val_loss: 0.0013 - val_mse: 0.0012 - val_NMSE: 0.0106\n",
      "Epoch 11/200\n",
      "1250/1250 [==============================] - ETA: 0s - loss: 0.0013 - mse: 0.0012 - NMSE: 0.0105 - 0__encoder_attention_module_0_lambda: 0.1141 - 0__encoder_attention_module_1_lambda: 0.0719 - 0__encoder_attention_module_2_lambda: 0.0520 - 0__decoder_attention_module_0_lambda: 0.1743 - 0__decoder_attention_module_1_lambda: -0.2841 - 1__encoder_attention_module_0_lambda: 0.2503 - 1__encoder_attention_module_1_lambda: 0.1142 - 1__encoder_attention_module_2_lambda: 0.0634 - 1__decoder_attention_module_0_lambda: 0.1647 - 1__decoder_attention_module_1_lambda: -0.3629 - 2__encoder_attention_module_0_lambda: -0.3149 - 2__encoder_attention_module_1_lambda: -0.1885 - 2__encoder_attention_module_2_lambda: -0.0453 - 2__decoder_attention_module_0_lambda: 0.1411 - 2__decoder_attention_module_1_lambda: 0.3762 - 0__encoded_vec_wt: 0.3308 - 1__encoded_vec_wt: 0.3720 - 2__encoded_vec_wt: 0.2746 - 0__decoded_vec_wt: 0.1808 - 1__decoded_vec_wt: 0.6989 - 2__decoded_vec_wt: 0.7693 - tot_time: 1h 22m 18.8s\n",
      "\n",
      "Epoch 11: val_NMSE did not improve from 0.01061\n",
      " - saving loss histories at /home/rkaushik/Documents/Thesis/MLROM/Kolmogorov/saved_ae/ae_053/checkpoints/LossHistoriesCheckpoint\n",
      "1250/1250 [==============================] - 66s 53ms/step - loss: 0.0013 - mse: 0.0012 - NMSE: 0.0105 - 0__encoder_attention_module_0_lambda: 0.1141 - 0__encoder_attention_module_1_lambda: 0.0719 - 0__encoder_attention_module_2_lambda: 0.0520 - 0__decoder_attention_module_0_lambda: 0.1743 - 0__decoder_attention_module_1_lambda: -0.2841 - 1__encoder_attention_module_0_lambda: 0.2503 - 1__encoder_attention_module_1_lambda: 0.1142 - 1__encoder_attention_module_2_lambda: 0.0634 - 1__decoder_attention_module_0_lambda: 0.1647 - 1__decoder_attention_module_1_lambda: -0.3629 - 2__encoder_attention_module_0_lambda: -0.3149 - 2__encoder_attention_module_1_lambda: -0.1885 - 2__encoder_attention_module_2_lambda: -0.0453 - 2__decoder_attention_module_0_lambda: 0.1411 - 2__decoder_attention_module_1_lambda: 0.3762 - 0__encoded_vec_wt: 0.3308 - 1__encoded_vec_wt: 0.3720 - 2__encoded_vec_wt: 0.2746 - 0__decoded_vec_wt: 0.1808 - 1__decoded_vec_wt: 0.6989 - 2__decoded_vec_wt: 0.7693 - val_loss: 0.0013 - val_mse: 0.0012 - val_NMSE: 0.0107\n",
      "Epoch 12/200\n",
      "1250/1250 [==============================] - ETA: 0s - loss: 0.0013 - mse: 0.0012 - NMSE: 0.0105 - 0__encoder_attention_module_0_lambda: 0.1142 - 0__encoder_attention_module_1_lambda: 0.0721 - 0__encoder_attention_module_2_lambda: 0.0521 - 0__decoder_attention_module_0_lambda: 0.1745 - 0__decoder_attention_module_1_lambda: -0.2843 - 1__encoder_attention_module_0_lambda: 0.2504 - 1__encoder_attention_module_1_lambda: 0.1143 - 1__encoder_attention_module_2_lambda: 0.0634 - 1__decoder_attention_module_0_lambda: 0.1647 - 1__decoder_attention_module_1_lambda: -0.3629 - 2__encoder_attention_module_0_lambda: -0.3150 - 2__encoder_attention_module_1_lambda: -0.1886 - 2__encoder_attention_module_2_lambda: -0.0454 - 2__decoder_attention_module_0_lambda: 0.1411 - 2__decoder_attention_module_1_lambda: 0.3762 - 0__encoded_vec_wt: 0.3306 - 1__encoded_vec_wt: 0.3721 - 2__encoded_vec_wt: 0.2746 - 0__decoded_vec_wt: 0.1809 - 1__decoded_vec_wt: 0.6990 - 2__decoded_vec_wt: 0.7694 - tot_time: 1h 23m 24.3s\n",
      "\n",
      "Epoch 12: val_NMSE did not improve from 0.01061\n",
      " - saving loss histories at /home/rkaushik/Documents/Thesis/MLROM/Kolmogorov/saved_ae/ae_053/checkpoints/LossHistoriesCheckpoint\n",
      "1250/1250 [==============================] - 66s 52ms/step - loss: 0.0013 - mse: 0.0012 - NMSE: 0.0105 - 0__encoder_attention_module_0_lambda: 0.1142 - 0__encoder_attention_module_1_lambda: 0.0721 - 0__encoder_attention_module_2_lambda: 0.0521 - 0__decoder_attention_module_0_lambda: 0.1745 - 0__decoder_attention_module_1_lambda: -0.2843 - 1__encoder_attention_module_0_lambda: 0.2504 - 1__encoder_attention_module_1_lambda: 0.1143 - 1__encoder_attention_module_2_lambda: 0.0634 - 1__decoder_attention_module_0_lambda: 0.1647 - 1__decoder_attention_module_1_lambda: -0.3629 - 2__encoder_attention_module_0_lambda: -0.3150 - 2__encoder_attention_module_1_lambda: -0.1886 - 2__encoder_attention_module_2_lambda: -0.0454 - 2__decoder_attention_module_0_lambda: 0.1411 - 2__decoder_attention_module_1_lambda: 0.3762 - 0__encoded_vec_wt: 0.3306 - 1__encoded_vec_wt: 0.3721 - 2__encoded_vec_wt: 0.2746 - 0__decoded_vec_wt: 0.1809 - 1__decoded_vec_wt: 0.6990 - 2__decoded_vec_wt: 0.7694 - val_loss: 0.0013 - val_mse: 0.0012 - val_NMSE: 0.0107\n",
      "Epoch 13/200\n",
      "1250/1250 [==============================] - ETA: 0s - loss: 0.0013 - mse: 0.0012 - NMSE: 0.0105 - 0__encoder_attention_module_0_lambda: 0.1141 - 0__encoder_attention_module_1_lambda: 0.0722 - 0__encoder_attention_module_2_lambda: 0.0522 - 0__decoder_attention_module_0_lambda: 0.1746 - 0__decoder_attention_module_1_lambda: -0.2845 - 1__encoder_attention_module_0_lambda: 0.2504 - 1__encoder_attention_module_1_lambda: 0.1143 - 1__encoder_attention_module_2_lambda: 0.0636 - 1__decoder_attention_module_0_lambda: 0.1647 - 1__decoder_attention_module_1_lambda: -0.3629 - 2__encoder_attention_module_0_lambda: -0.3149 - 2__encoder_attention_module_1_lambda: -0.1887 - 2__encoder_attention_module_2_lambda: -0.0455 - 2__decoder_attention_module_0_lambda: 0.1412 - 2__decoder_attention_module_1_lambda: 0.3762 - 0__encoded_vec_wt: 0.3305 - 1__encoded_vec_wt: 0.3722 - 2__encoded_vec_wt: 0.2746 - 0__decoded_vec_wt: 0.1811 - 1__decoded_vec_wt: 0.6991 - 2__decoded_vec_wt: 0.7695 - tot_time: 1h 24m 30.1s\n",
      "\n",
      "Epoch 13: val_NMSE improved from 0.01061 to 0.01059, saving model to /home/rkaushik/Documents/Thesis/MLROM/Kolmogorov/saved_ae/ae_053/checkpoints/checkpoint\n",
      " - saving loss histories at /home/rkaushik/Documents/Thesis/MLROM/Kolmogorov/saved_ae/ae_053/checkpoints/LossHistoriesCheckpoint\n",
      "1250/1250 [==============================] - 66s 53ms/step - loss: 0.0013 - mse: 0.0012 - NMSE: 0.0105 - 0__encoder_attention_module_0_lambda: 0.1141 - 0__encoder_attention_module_1_lambda: 0.0722 - 0__encoder_attention_module_2_lambda: 0.0522 - 0__decoder_attention_module_0_lambda: 0.1746 - 0__decoder_attention_module_1_lambda: -0.2845 - 1__encoder_attention_module_0_lambda: 0.2504 - 1__encoder_attention_module_1_lambda: 0.1143 - 1__encoder_attention_module_2_lambda: 0.0636 - 1__decoder_attention_module_0_lambda: 0.1647 - 1__decoder_attention_module_1_lambda: -0.3629 - 2__encoder_attention_module_0_lambda: -0.3149 - 2__encoder_attention_module_1_lambda: -0.1887 - 2__encoder_attention_module_2_lambda: -0.0455 - 2__decoder_attention_module_0_lambda: 0.1412 - 2__decoder_attention_module_1_lambda: 0.3762 - 0__encoded_vec_wt: 0.3305 - 1__encoded_vec_wt: 0.3722 - 2__encoded_vec_wt: 0.2746 - 0__decoded_vec_wt: 0.1811 - 1__decoded_vec_wt: 0.6991 - 2__decoded_vec_wt: 0.7695 - val_loss: 0.0013 - val_mse: 0.0012 - val_NMSE: 0.0106\n"
     ]
    },
    {
     "name": "stdout",
     "output_type": "stream",
     "text": [
      "Epoch 14/200\n",
      "1249/1250 [============================>.] - ETA: 0s - loss: 0.0013 - mse: 0.0012 - NMSE: 0.0105 - 0__encoder_attention_module_0_lambda: 0.1141 - 0__encoder_attention_module_1_lambda: 0.0724 - 0__encoder_attention_module_2_lambda: 0.0523 - 0__decoder_attention_module_0_lambda: 0.1745 - 0__decoder_attention_module_1_lambda: -0.2845 - 1__encoder_attention_module_0_lambda: 0.2504 - 1__encoder_attention_module_1_lambda: 0.1144 - 1__encoder_attention_module_2_lambda: 0.0637 - 1__decoder_attention_module_0_lambda: 0.1647 - 1__decoder_attention_module_1_lambda: -0.3628 - 2__encoder_attention_module_0_lambda: -0.3149 - 2__encoder_attention_module_1_lambda: -0.1888 - 2__encoder_attention_module_2_lambda: -0.0457 - 2__decoder_attention_module_0_lambda: 0.1411 - 2__decoder_attention_module_1_lambda: 0.3761 - 0__encoded_vec_wt: 0.3304 - 1__encoded_vec_wt: 0.3722 - 2__encoded_vec_wt: 0.2746 - 0__decoded_vec_wt: 0.1813 - 1__decoded_vec_wt: 0.6992 - 2__decoded_vec_wt: 0.7697 - tot_time: 1h 25m 36.2s\n",
      "\n",
      "Epoch 14: val_NMSE did not improve from 0.01059\n",
      " - saving loss histories at /home/rkaushik/Documents/Thesis/MLROM/Kolmogorov/saved_ae/ae_053/checkpoints/LossHistoriesCheckpoint\n",
      "1250/1250 [==============================] - 66s 53ms/step - loss: 0.0013 - mse: 0.0012 - NMSE: 0.0105 - 0__encoder_attention_module_0_lambda: 0.1141 - 0__encoder_attention_module_1_lambda: 0.0724 - 0__encoder_attention_module_2_lambda: 0.0523 - 0__decoder_attention_module_0_lambda: 0.1745 - 0__decoder_attention_module_1_lambda: -0.2845 - 1__encoder_attention_module_0_lambda: 0.2504 - 1__encoder_attention_module_1_lambda: 0.1144 - 1__encoder_attention_module_2_lambda: 0.0637 - 1__decoder_attention_module_0_lambda: 0.1647 - 1__decoder_attention_module_1_lambda: -0.3628 - 2__encoder_attention_module_0_lambda: -0.3149 - 2__encoder_attention_module_1_lambda: -0.1888 - 2__encoder_attention_module_2_lambda: -0.0457 - 2__decoder_attention_module_0_lambda: 0.1411 - 2__decoder_attention_module_1_lambda: 0.3761 - 0__encoded_vec_wt: 0.3304 - 1__encoded_vec_wt: 0.3722 - 2__encoded_vec_wt: 0.2746 - 0__decoded_vec_wt: 0.1813 - 1__decoded_vec_wt: 0.6992 - 2__decoded_vec_wt: 0.7697 - val_loss: 0.0013 - val_mse: 0.0012 - val_NMSE: 0.0106\n",
      "Epoch 15/200\n",
      "1250/1250 [==============================] - ETA: 0s - loss: 0.0013 - mse: 0.0012 - NMSE: 0.0105 - 0__encoder_attention_module_0_lambda: 0.1141 - 0__encoder_attention_module_1_lambda: 0.0724 - 0__encoder_attention_module_2_lambda: 0.0524 - 0__decoder_attention_module_0_lambda: 0.1745 - 0__decoder_attention_module_1_lambda: -0.2846 - 1__encoder_attention_module_0_lambda: 0.2504 - 1__encoder_attention_module_1_lambda: 0.1144 - 1__encoder_attention_module_2_lambda: 0.0638 - 1__decoder_attention_module_0_lambda: 0.1647 - 1__decoder_attention_module_1_lambda: -0.3629 - 2__encoder_attention_module_0_lambda: -0.3147 - 2__encoder_attention_module_1_lambda: -0.1890 - 2__encoder_attention_module_2_lambda: -0.0457 - 2__decoder_attention_module_0_lambda: 0.1411 - 2__decoder_attention_module_1_lambda: 0.3761 - 0__encoded_vec_wt: 0.3302 - 1__encoded_vec_wt: 0.3723 - 2__encoded_vec_wt: 0.2746 - 0__decoded_vec_wt: 0.1814 - 1__decoded_vec_wt: 0.6993 - 2__decoded_vec_wt: 0.7698 - tot_time: 1h 26m 42.1s\n",
      "\n",
      "Epoch 15: val_NMSE did not improve from 0.01059\n",
      " - saving loss histories at /home/rkaushik/Documents/Thesis/MLROM/Kolmogorov/saved_ae/ae_053/checkpoints/LossHistoriesCheckpoint\n",
      "1250/1250 [==============================] - 66s 53ms/step - loss: 0.0013 - mse: 0.0012 - NMSE: 0.0105 - 0__encoder_attention_module_0_lambda: 0.1141 - 0__encoder_attention_module_1_lambda: 0.0724 - 0__encoder_attention_module_2_lambda: 0.0524 - 0__decoder_attention_module_0_lambda: 0.1745 - 0__decoder_attention_module_1_lambda: -0.2846 - 1__encoder_attention_module_0_lambda: 0.2504 - 1__encoder_attention_module_1_lambda: 0.1144 - 1__encoder_attention_module_2_lambda: 0.0638 - 1__decoder_attention_module_0_lambda: 0.1647 - 1__decoder_attention_module_1_lambda: -0.3629 - 2__encoder_attention_module_0_lambda: -0.3147 - 2__encoder_attention_module_1_lambda: -0.1890 - 2__encoder_attention_module_2_lambda: -0.0457 - 2__decoder_attention_module_0_lambda: 0.1411 - 2__decoder_attention_module_1_lambda: 0.3761 - 0__encoded_vec_wt: 0.3302 - 1__encoded_vec_wt: 0.3723 - 2__encoded_vec_wt: 0.2746 - 0__decoded_vec_wt: 0.1814 - 1__decoded_vec_wt: 0.6993 - 2__decoded_vec_wt: 0.7698 - val_loss: 0.0013 - val_mse: 0.0012 - val_NMSE: 0.0107\n",
      "Epoch 16/200\n",
      "1250/1250 [==============================] - ETA: 0s - loss: 0.0013 - mse: 0.0012 - NMSE: 0.0105 - 0__encoder_attention_module_0_lambda: 0.1142 - 0__encoder_attention_module_1_lambda: 0.0724 - 0__encoder_attention_module_2_lambda: 0.0524 - 0__decoder_attention_module_0_lambda: 0.1745 - 0__decoder_attention_module_1_lambda: -0.2847 - 1__encoder_attention_module_0_lambda: 0.2505 - 1__encoder_attention_module_1_lambda: 0.1145 - 1__encoder_attention_module_2_lambda: 0.0636 - 1__decoder_attention_module_0_lambda: 0.1646 - 1__decoder_attention_module_1_lambda: -0.3629 - 2__encoder_attention_module_0_lambda: -0.3147 - 2__encoder_attention_module_1_lambda: -0.1891 - 2__encoder_attention_module_2_lambda: -0.0456 - 2__decoder_attention_module_0_lambda: 0.1411 - 2__decoder_attention_module_1_lambda: 0.3761 - 0__encoded_vec_wt: 0.3301 - 1__encoded_vec_wt: 0.3724 - 2__encoded_vec_wt: 0.2746 - 0__decoded_vec_wt: 0.1816 - 1__decoded_vec_wt: 0.6994 - 2__decoded_vec_wt: 0.7699 - tot_time: 1h 27m 47.7s\n",
      "\n",
      "Epoch 16: val_NMSE improved from 0.01059 to 0.01052, saving model to /home/rkaushik/Documents/Thesis/MLROM/Kolmogorov/saved_ae/ae_053/checkpoints/checkpoint\n",
      " - saving loss histories at /home/rkaushik/Documents/Thesis/MLROM/Kolmogorov/saved_ae/ae_053/checkpoints/LossHistoriesCheckpoint\n",
      "1250/1250 [==============================] - 66s 53ms/step - loss: 0.0013 - mse: 0.0012 - NMSE: 0.0105 - 0__encoder_attention_module_0_lambda: 0.1142 - 0__encoder_attention_module_1_lambda: 0.0724 - 0__encoder_attention_module_2_lambda: 0.0524 - 0__decoder_attention_module_0_lambda: 0.1745 - 0__decoder_attention_module_1_lambda: -0.2847 - 1__encoder_attention_module_0_lambda: 0.2505 - 1__encoder_attention_module_1_lambda: 0.1145 - 1__encoder_attention_module_2_lambda: 0.0636 - 1__decoder_attention_module_0_lambda: 0.1646 - 1__decoder_attention_module_1_lambda: -0.3629 - 2__encoder_attention_module_0_lambda: -0.3147 - 2__encoder_attention_module_1_lambda: -0.1891 - 2__encoder_attention_module_2_lambda: -0.0456 - 2__decoder_attention_module_0_lambda: 0.1411 - 2__decoder_attention_module_1_lambda: 0.3761 - 0__encoded_vec_wt: 0.3301 - 1__encoded_vec_wt: 0.3724 - 2__encoded_vec_wt: 0.2746 - 0__decoded_vec_wt: 0.1816 - 1__decoded_vec_wt: 0.6994 - 2__decoded_vec_wt: 0.7699 - val_loss: 0.0013 - val_mse: 0.0012 - val_NMSE: 0.0105\n",
      "Epoch 17/200\n",
      "1250/1250 [==============================] - ETA: 0s - loss: 0.0013 - mse: 0.0012 - NMSE: 0.0105 - 0__encoder_attention_module_0_lambda: 0.1143 - 0__encoder_attention_module_1_lambda: 0.0726 - 0__encoder_attention_module_2_lambda: 0.0525 - 0__decoder_attention_module_0_lambda: 0.1745 - 0__decoder_attention_module_1_lambda: -0.2848 - 1__encoder_attention_module_0_lambda: 0.2504 - 1__encoder_attention_module_1_lambda: 0.1145 - 1__encoder_attention_module_2_lambda: 0.0638 - 1__decoder_attention_module_0_lambda: 0.1646 - 1__decoder_attention_module_1_lambda: -0.3628 - 2__encoder_attention_module_0_lambda: -0.3148 - 2__encoder_attention_module_1_lambda: -0.1892 - 2__encoder_attention_module_2_lambda: -0.0455 - 2__decoder_attention_module_0_lambda: 0.1410 - 2__decoder_attention_module_1_lambda: 0.3761 - 0__encoded_vec_wt: 0.3300 - 1__encoded_vec_wt: 0.3725 - 2__encoded_vec_wt: 0.2746 - 0__decoded_vec_wt: 0.1817 - 1__decoded_vec_wt: 0.6994 - 2__decoded_vec_wt: 0.7700 - tot_time: 1h 28m 54.2s\n",
      "\n",
      "Epoch 17: val_NMSE did not improve from 0.01052\n",
      " - saving loss histories at /home/rkaushik/Documents/Thesis/MLROM/Kolmogorov/saved_ae/ae_053/checkpoints/LossHistoriesCheckpoint\n",
      "1250/1250 [==============================] - 66s 53ms/step - loss: 0.0013 - mse: 0.0012 - NMSE: 0.0105 - 0__encoder_attention_module_0_lambda: 0.1143 - 0__encoder_attention_module_1_lambda: 0.0726 - 0__encoder_attention_module_2_lambda: 0.0525 - 0__decoder_attention_module_0_lambda: 0.1745 - 0__decoder_attention_module_1_lambda: -0.2848 - 1__encoder_attention_module_0_lambda: 0.2504 - 1__encoder_attention_module_1_lambda: 0.1145 - 1__encoder_attention_module_2_lambda: 0.0638 - 1__decoder_attention_module_0_lambda: 0.1646 - 1__decoder_attention_module_1_lambda: -0.3628 - 2__encoder_attention_module_0_lambda: -0.3148 - 2__encoder_attention_module_1_lambda: -0.1892 - 2__encoder_attention_module_2_lambda: -0.0455 - 2__decoder_attention_module_0_lambda: 0.1410 - 2__decoder_attention_module_1_lambda: 0.3761 - 0__encoded_vec_wt: 0.3300 - 1__encoded_vec_wt: 0.3725 - 2__encoded_vec_wt: 0.2746 - 0__decoded_vec_wt: 0.1817 - 1__decoded_vec_wt: 0.6994 - 2__decoded_vec_wt: 0.7700 - val_loss: 0.0013 - val_mse: 0.0012 - val_NMSE: 0.0106\n"
     ]
    },
    {
     "name": "stdout",
     "output_type": "stream",
     "text": [
      "Epoch 18/200\n",
      "1250/1250 [==============================] - ETA: 0s - loss: 0.0013 - mse: 0.0012 - NMSE: 0.0105 - 0__encoder_attention_module_0_lambda: 0.1142 - 0__encoder_attention_module_1_lambda: 0.0728 - 0__encoder_attention_module_2_lambda: 0.0525 - 0__decoder_attention_module_0_lambda: 0.1745 - 0__decoder_attention_module_1_lambda: -0.2850 - 1__encoder_attention_module_0_lambda: 0.2505 - 1__encoder_attention_module_1_lambda: 0.1146 - 1__encoder_attention_module_2_lambda: 0.0640 - 1__decoder_attention_module_0_lambda: 0.1646 - 1__decoder_attention_module_1_lambda: -0.3627 - 2__encoder_attention_module_0_lambda: -0.3147 - 2__encoder_attention_module_1_lambda: -0.1895 - 2__encoder_attention_module_2_lambda: -0.0455 - 2__decoder_attention_module_0_lambda: 0.1411 - 2__decoder_attention_module_1_lambda: 0.3761 - 0__encoded_vec_wt: 0.3299 - 1__encoded_vec_wt: 0.3725 - 2__encoded_vec_wt: 0.2746 - 0__decoded_vec_wt: 0.1818 - 1__decoded_vec_wt: 0.6995 - 2__decoded_vec_wt: 0.7700 - tot_time: 1h 30m 0.3s\n",
      "\n",
      "Epoch 18: val_NMSE did not improve from 0.01052\n",
      " - saving loss histories at /home/rkaushik/Documents/Thesis/MLROM/Kolmogorov/saved_ae/ae_053/checkpoints/LossHistoriesCheckpoint\n",
      "1250/1250 [==============================] - 66s 53ms/step - loss: 0.0013 - mse: 0.0012 - NMSE: 0.0105 - 0__encoder_attention_module_0_lambda: 0.1142 - 0__encoder_attention_module_1_lambda: 0.0728 - 0__encoder_attention_module_2_lambda: 0.0525 - 0__decoder_attention_module_0_lambda: 0.1745 - 0__decoder_attention_module_1_lambda: -0.2850 - 1__encoder_attention_module_0_lambda: 0.2505 - 1__encoder_attention_module_1_lambda: 0.1146 - 1__encoder_attention_module_2_lambda: 0.0640 - 1__decoder_attention_module_0_lambda: 0.1646 - 1__decoder_attention_module_1_lambda: -0.3627 - 2__encoder_attention_module_0_lambda: -0.3147 - 2__encoder_attention_module_1_lambda: -0.1895 - 2__encoder_attention_module_2_lambda: -0.0455 - 2__decoder_attention_module_0_lambda: 0.1411 - 2__decoder_attention_module_1_lambda: 0.3761 - 0__encoded_vec_wt: 0.3299 - 1__encoded_vec_wt: 0.3725 - 2__encoded_vec_wt: 0.2746 - 0__decoded_vec_wt: 0.1818 - 1__decoded_vec_wt: 0.6995 - 2__decoded_vec_wt: 0.7700 - val_loss: 0.0013 - val_mse: 0.0012 - val_NMSE: 0.0106\n",
      "Epoch 19/200\n",
      "1250/1250 [==============================] - ETA: 0s - loss: 0.0013 - mse: 0.0012 - NMSE: 0.0105 - 0__encoder_attention_module_0_lambda: 0.1141 - 0__encoder_attention_module_1_lambda: 0.0728 - 0__encoder_attention_module_2_lambda: 0.0527 - 0__decoder_attention_module_0_lambda: 0.1745 - 0__decoder_attention_module_1_lambda: -0.2852 - 1__encoder_attention_module_0_lambda: 0.2506 - 1__encoder_attention_module_1_lambda: 0.1146 - 1__encoder_attention_module_2_lambda: 0.0641 - 1__decoder_attention_module_0_lambda: 0.1646 - 1__decoder_attention_module_1_lambda: -0.3629 - 2__encoder_attention_module_0_lambda: -0.3147 - 2__encoder_attention_module_1_lambda: -0.1897 - 2__encoder_attention_module_2_lambda: -0.0455 - 2__decoder_attention_module_0_lambda: 0.1410 - 2__decoder_attention_module_1_lambda: 0.3761 - 0__encoded_vec_wt: 0.3298 - 1__encoded_vec_wt: 0.3726 - 2__encoded_vec_wt: 0.2746 - 0__decoded_vec_wt: 0.1820 - 1__decoded_vec_wt: 0.6996 - 2__decoded_vec_wt: 0.7701 - tot_time: 1h 31m 5.9s\n",
      "\n",
      "Epoch 19: val_NMSE did not improve from 0.01052\n",
      " - saving loss histories at /home/rkaushik/Documents/Thesis/MLROM/Kolmogorov/saved_ae/ae_053/checkpoints/LossHistoriesCheckpoint\n",
      "1250/1250 [==============================] - 66s 52ms/step - loss: 0.0013 - mse: 0.0012 - NMSE: 0.0105 - 0__encoder_attention_module_0_lambda: 0.1141 - 0__encoder_attention_module_1_lambda: 0.0728 - 0__encoder_attention_module_2_lambda: 0.0527 - 0__decoder_attention_module_0_lambda: 0.1745 - 0__decoder_attention_module_1_lambda: -0.2852 - 1__encoder_attention_module_0_lambda: 0.2506 - 1__encoder_attention_module_1_lambda: 0.1146 - 1__encoder_attention_module_2_lambda: 0.0641 - 1__decoder_attention_module_0_lambda: 0.1646 - 1__decoder_attention_module_1_lambda: -0.3629 - 2__encoder_attention_module_0_lambda: -0.3147 - 2__encoder_attention_module_1_lambda: -0.1897 - 2__encoder_attention_module_2_lambda: -0.0455 - 2__decoder_attention_module_0_lambda: 0.1410 - 2__decoder_attention_module_1_lambda: 0.3761 - 0__encoded_vec_wt: 0.3298 - 1__encoded_vec_wt: 0.3726 - 2__encoded_vec_wt: 0.2746 - 0__decoded_vec_wt: 0.1820 - 1__decoded_vec_wt: 0.6996 - 2__decoded_vec_wt: 0.7701 - val_loss: 0.0013 - val_mse: 0.0012 - val_NMSE: 0.0106\n",
      "Epoch 20/200\n",
      "1249/1250 [============================>.] - ETA: 0s - loss: 0.0013 - mse: 0.0012 - NMSE: 0.0105 - 0__encoder_attention_module_0_lambda: 0.1143 - 0__encoder_attention_module_1_lambda: 0.0729 - 0__encoder_attention_module_2_lambda: 0.0528 - 0__decoder_attention_module_0_lambda: 0.1745 - 0__decoder_attention_module_1_lambda: -0.2853 - 1__encoder_attention_module_0_lambda: 0.2506 - 1__encoder_attention_module_1_lambda: 0.1147 - 1__encoder_attention_module_2_lambda: 0.0641 - 1__decoder_attention_module_0_lambda: 0.1646 - 1__decoder_attention_module_1_lambda: -0.3628 - 2__encoder_attention_module_0_lambda: -0.3146 - 2__encoder_attention_module_1_lambda: -0.1896 - 2__encoder_attention_module_2_lambda: -0.0456 - 2__decoder_attention_module_0_lambda: 0.1410 - 2__decoder_attention_module_1_lambda: 0.3762 - 0__encoded_vec_wt: 0.3297 - 1__encoded_vec_wt: 0.3727 - 2__encoded_vec_wt: 0.2746 - 0__decoded_vec_wt: 0.1821 - 1__decoded_vec_wt: 0.6997 - 2__decoded_vec_wt: 0.7702 - tot_time: 1h 32m 12.1s\n",
      "\n",
      "Epoch 20: val_NMSE did not improve from 0.01052\n",
      " - saving loss histories at /home/rkaushik/Documents/Thesis/MLROM/Kolmogorov/saved_ae/ae_053/checkpoints/LossHistoriesCheckpoint\n",
      "1250/1250 [==============================] - 66s 53ms/step - loss: 0.0013 - mse: 0.0012 - NMSE: 0.0105 - 0__encoder_attention_module_0_lambda: 0.1143 - 0__encoder_attention_module_1_lambda: 0.0729 - 0__encoder_attention_module_2_lambda: 0.0528 - 0__decoder_attention_module_0_lambda: 0.1745 - 0__decoder_attention_module_1_lambda: -0.2853 - 1__encoder_attention_module_0_lambda: 0.2506 - 1__encoder_attention_module_1_lambda: 0.1147 - 1__encoder_attention_module_2_lambda: 0.0641 - 1__decoder_attention_module_0_lambda: 0.1646 - 1__decoder_attention_module_1_lambda: -0.3628 - 2__encoder_attention_module_0_lambda: -0.3146 - 2__encoder_attention_module_1_lambda: -0.1896 - 2__encoder_attention_module_2_lambda: -0.0456 - 2__decoder_attention_module_0_lambda: 0.1410 - 2__decoder_attention_module_1_lambda: 0.3762 - 0__encoded_vec_wt: 0.3297 - 1__encoded_vec_wt: 0.3727 - 2__encoded_vec_wt: 0.2746 - 0__decoded_vec_wt: 0.1821 - 1__decoded_vec_wt: 0.6997 - 2__decoded_vec_wt: 0.7702 - val_loss: 0.0013 - val_mse: 0.0012 - val_NMSE: 0.0106\n",
      "Epoch 21/200\n",
      "1250/1250 [==============================] - ETA: 0s - loss: 0.0013 - mse: 0.0012 - NMSE: 0.0105 - 0__encoder_attention_module_0_lambda: 0.1140 - 0__encoder_attention_module_1_lambda: 0.0730 - 0__encoder_attention_module_2_lambda: 0.0528 - 0__decoder_attention_module_0_lambda: 0.1744 - 0__decoder_attention_module_1_lambda: -0.2855 - 1__encoder_attention_module_0_lambda: 0.2505 - 1__encoder_attention_module_1_lambda: 0.1148 - 1__encoder_attention_module_2_lambda: 0.0641 - 1__decoder_attention_module_0_lambda: 0.1646 - 1__decoder_attention_module_1_lambda: -0.3628 - 2__encoder_attention_module_0_lambda: -0.3145 - 2__encoder_attention_module_1_lambda: -0.1899 - 2__encoder_attention_module_2_lambda: -0.0456 - 2__decoder_attention_module_0_lambda: 0.1410 - 2__decoder_attention_module_1_lambda: 0.3762 - 0__encoded_vec_wt: 0.3296 - 1__encoded_vec_wt: 0.3727 - 2__encoded_vec_wt: 0.2746 - 0__decoded_vec_wt: 0.1822 - 1__decoded_vec_wt: 0.6997 - 2__decoded_vec_wt: 0.7703 - tot_time: 1h 33m 18.2s\n",
      "\n",
      "Epoch 21: val_NMSE did not improve from 0.01052\n",
      " - saving loss histories at /home/rkaushik/Documents/Thesis/MLROM/Kolmogorov/saved_ae/ae_053/checkpoints/LossHistoriesCheckpoint\n",
      "1250/1250 [==============================] - 66s 53ms/step - loss: 0.0013 - mse: 0.0012 - NMSE: 0.0105 - 0__encoder_attention_module_0_lambda: 0.1140 - 0__encoder_attention_module_1_lambda: 0.0730 - 0__encoder_attention_module_2_lambda: 0.0528 - 0__decoder_attention_module_0_lambda: 0.1744 - 0__decoder_attention_module_1_lambda: -0.2855 - 1__encoder_attention_module_0_lambda: 0.2505 - 1__encoder_attention_module_1_lambda: 0.1148 - 1__encoder_attention_module_2_lambda: 0.0641 - 1__decoder_attention_module_0_lambda: 0.1646 - 1__decoder_attention_module_1_lambda: -0.3628 - 2__encoder_attention_module_0_lambda: -0.3145 - 2__encoder_attention_module_1_lambda: -0.1899 - 2__encoder_attention_module_2_lambda: -0.0456 - 2__decoder_attention_module_0_lambda: 0.1410 - 2__decoder_attention_module_1_lambda: 0.3762 - 0__encoded_vec_wt: 0.3296 - 1__encoded_vec_wt: 0.3727 - 2__encoded_vec_wt: 0.2746 - 0__decoded_vec_wt: 0.1822 - 1__decoded_vec_wt: 0.6997 - 2__decoded_vec_wt: 0.7703 - val_loss: 0.0013 - val_mse: 0.0012 - val_NMSE: 0.0106\n"
     ]
    },
    {
     "name": "stdout",
     "output_type": "stream",
     "text": [
      "Epoch 22/200\n",
      "1250/1250 [==============================] - ETA: 0s - loss: 0.0013 - mse: 0.0012 - NMSE: 0.0105 - 0__encoder_attention_module_0_lambda: 0.1141 - 0__encoder_attention_module_1_lambda: 0.0731 - 0__encoder_attention_module_2_lambda: 0.0528 - 0__decoder_attention_module_0_lambda: 0.1744 - 0__decoder_attention_module_1_lambda: -0.2857 - 1__encoder_attention_module_0_lambda: 0.2505 - 1__encoder_attention_module_1_lambda: 0.1149 - 1__encoder_attention_module_2_lambda: 0.0643 - 1__decoder_attention_module_0_lambda: 0.1646 - 1__decoder_attention_module_1_lambda: -0.3627 - 2__encoder_attention_module_0_lambda: -0.3147 - 2__encoder_attention_module_1_lambda: -0.1900 - 2__encoder_attention_module_2_lambda: -0.0456 - 2__decoder_attention_module_0_lambda: 0.1408 - 2__decoder_attention_module_1_lambda: 0.3761 - 0__encoded_vec_wt: 0.3295 - 1__encoded_vec_wt: 0.3728 - 2__encoded_vec_wt: 0.2746 - 0__decoded_vec_wt: 0.1824 - 1__decoded_vec_wt: 0.6998 - 2__decoded_vec_wt: 0.7704 - tot_time: 1h 34m 23.5s\n",
      "\n",
      "Epoch 22: val_NMSE did not improve from 0.01052\n",
      " - saving loss histories at /home/rkaushik/Documents/Thesis/MLROM/Kolmogorov/saved_ae/ae_053/checkpoints/LossHistoriesCheckpoint\n",
      "1250/1250 [==============================] - 65s 52ms/step - loss: 0.0013 - mse: 0.0012 - NMSE: 0.0105 - 0__encoder_attention_module_0_lambda: 0.1141 - 0__encoder_attention_module_1_lambda: 0.0731 - 0__encoder_attention_module_2_lambda: 0.0528 - 0__decoder_attention_module_0_lambda: 0.1744 - 0__decoder_attention_module_1_lambda: -0.2857 - 1__encoder_attention_module_0_lambda: 0.2505 - 1__encoder_attention_module_1_lambda: 0.1149 - 1__encoder_attention_module_2_lambda: 0.0643 - 1__decoder_attention_module_0_lambda: 0.1646 - 1__decoder_attention_module_1_lambda: -0.3627 - 2__encoder_attention_module_0_lambda: -0.3147 - 2__encoder_attention_module_1_lambda: -0.1900 - 2__encoder_attention_module_2_lambda: -0.0456 - 2__decoder_attention_module_0_lambda: 0.1408 - 2__decoder_attention_module_1_lambda: 0.3761 - 0__encoded_vec_wt: 0.3295 - 1__encoded_vec_wt: 0.3728 - 2__encoded_vec_wt: 0.2746 - 0__decoded_vec_wt: 0.1824 - 1__decoded_vec_wt: 0.6998 - 2__decoded_vec_wt: 0.7704 - val_loss: 0.0013 - val_mse: 0.0012 - val_NMSE: 0.0107\n",
      "Epoch 23/200\n",
      "1250/1250 [==============================] - ETA: 0s - loss: 0.0013 - mse: 0.0012 - NMSE: 0.0105 - 0__encoder_attention_module_0_lambda: 0.1142 - 0__encoder_attention_module_1_lambda: 0.0733 - 0__encoder_attention_module_2_lambda: 0.0529 - 0__decoder_attention_module_0_lambda: 0.1743 - 0__decoder_attention_module_1_lambda: -0.2858 - 1__encoder_attention_module_0_lambda: 0.2506 - 1__encoder_attention_module_1_lambda: 0.1149 - 1__encoder_attention_module_2_lambda: 0.0644 - 1__decoder_attention_module_0_lambda: 0.1646 - 1__decoder_attention_module_1_lambda: -0.3627 - 2__encoder_attention_module_0_lambda: -0.3145 - 2__encoder_attention_module_1_lambda: -0.1900 - 2__encoder_attention_module_2_lambda: -0.0456 - 2__decoder_attention_module_0_lambda: 0.1409 - 2__decoder_attention_module_1_lambda: 0.3761 - 0__encoded_vec_wt: 0.3294 - 1__encoded_vec_wt: 0.3728 - 2__encoded_vec_wt: 0.2746 - 0__decoded_vec_wt: 0.1825 - 1__decoded_vec_wt: 0.6999 - 2__decoded_vec_wt: 0.7705 - tot_time: 1h 35m 29.4s\n",
      "\n",
      "Epoch 23: val_NMSE did not improve from 0.01052\n",
      " - saving loss histories at /home/rkaushik/Documents/Thesis/MLROM/Kolmogorov/saved_ae/ae_053/checkpoints/LossHistoriesCheckpoint\n",
      "1250/1250 [==============================] - 66s 53ms/step - loss: 0.0013 - mse: 0.0012 - NMSE: 0.0105 - 0__encoder_attention_module_0_lambda: 0.1142 - 0__encoder_attention_module_1_lambda: 0.0733 - 0__encoder_attention_module_2_lambda: 0.0529 - 0__decoder_attention_module_0_lambda: 0.1743 - 0__decoder_attention_module_1_lambda: -0.2858 - 1__encoder_attention_module_0_lambda: 0.2506 - 1__encoder_attention_module_1_lambda: 0.1149 - 1__encoder_attention_module_2_lambda: 0.0644 - 1__decoder_attention_module_0_lambda: 0.1646 - 1__decoder_attention_module_1_lambda: -0.3627 - 2__encoder_attention_module_0_lambda: -0.3145 - 2__encoder_attention_module_1_lambda: -0.1900 - 2__encoder_attention_module_2_lambda: -0.0456 - 2__decoder_attention_module_0_lambda: 0.1409 - 2__decoder_attention_module_1_lambda: 0.3761 - 0__encoded_vec_wt: 0.3294 - 1__encoded_vec_wt: 0.3728 - 2__encoded_vec_wt: 0.2746 - 0__decoded_vec_wt: 0.1825 - 1__decoded_vec_wt: 0.6999 - 2__decoded_vec_wt: 0.7705 - val_loss: 0.0013 - val_mse: 0.0012 - val_NMSE: 0.0106\n",
      "Epoch 24/200\n",
      "1250/1250 [==============================] - ETA: 0s - loss: 0.0013 - mse: 0.0012 - NMSE: 0.0105 - 0__encoder_attention_module_0_lambda: 0.1140 - 0__encoder_attention_module_1_lambda: 0.0733 - 0__encoder_attention_module_2_lambda: 0.0530 - 0__decoder_attention_module_0_lambda: 0.1744 - 0__decoder_attention_module_1_lambda: -0.2858 - 1__encoder_attention_module_0_lambda: 0.2505 - 1__encoder_attention_module_1_lambda: 0.1150 - 1__encoder_attention_module_2_lambda: 0.0645 - 1__decoder_attention_module_0_lambda: 0.1646 - 1__decoder_attention_module_1_lambda: -0.3627 - 2__encoder_attention_module_0_lambda: -0.3143 - 2__encoder_attention_module_1_lambda: -0.1903 - 2__encoder_attention_module_2_lambda: -0.0456 - 2__decoder_attention_module_0_lambda: 0.1409 - 2__decoder_attention_module_1_lambda: 0.3761 - 0__encoded_vec_wt: 0.3293 - 1__encoded_vec_wt: 0.3729 - 2__encoded_vec_wt: 0.2746 - 0__decoded_vec_wt: 0.1826 - 1__decoded_vec_wt: 0.7000 - 2__decoded_vec_wt: 0.7706 - tot_time: 1h 36m 35.2s\n",
      "\n",
      "Epoch 24: val_NMSE did not improve from 0.01052\n",
      " - saving loss histories at /home/rkaushik/Documents/Thesis/MLROM/Kolmogorov/saved_ae/ae_053/checkpoints/LossHistoriesCheckpoint\n",
      "1250/1250 [==============================] - 66s 53ms/step - loss: 0.0013 - mse: 0.0012 - NMSE: 0.0105 - 0__encoder_attention_module_0_lambda: 0.1140 - 0__encoder_attention_module_1_lambda: 0.0733 - 0__encoder_attention_module_2_lambda: 0.0530 - 0__decoder_attention_module_0_lambda: 0.1744 - 0__decoder_attention_module_1_lambda: -0.2858 - 1__encoder_attention_module_0_lambda: 0.2505 - 1__encoder_attention_module_1_lambda: 0.1150 - 1__encoder_attention_module_2_lambda: 0.0645 - 1__decoder_attention_module_0_lambda: 0.1646 - 1__decoder_attention_module_1_lambda: -0.3627 - 2__encoder_attention_module_0_lambda: -0.3143 - 2__encoder_attention_module_1_lambda: -0.1903 - 2__encoder_attention_module_2_lambda: -0.0456 - 2__decoder_attention_module_0_lambda: 0.1409 - 2__decoder_attention_module_1_lambda: 0.3761 - 0__encoded_vec_wt: 0.3293 - 1__encoded_vec_wt: 0.3729 - 2__encoded_vec_wt: 0.2746 - 0__decoded_vec_wt: 0.1826 - 1__decoded_vec_wt: 0.7000 - 2__decoded_vec_wt: 0.7706 - val_loss: 0.0013 - val_mse: 0.0012 - val_NMSE: 0.0107\n",
      "Epoch 25/200\n",
      "1250/1250 [==============================] - ETA: 0s - loss: 0.0013 - mse: 0.0012 - NMSE: 0.0105 - 0__encoder_attention_module_0_lambda: 0.1141 - 0__encoder_attention_module_1_lambda: 0.0734 - 0__encoder_attention_module_2_lambda: 0.0530 - 0__decoder_attention_module_0_lambda: 0.1744 - 0__decoder_attention_module_1_lambda: -0.2860 - 1__encoder_attention_module_0_lambda: 0.2506 - 1__encoder_attention_module_1_lambda: 0.1152 - 1__encoder_attention_module_2_lambda: 0.0645 - 1__decoder_attention_module_0_lambda: 0.1646 - 1__decoder_attention_module_1_lambda: -0.3628 - 2__encoder_attention_module_0_lambda: -0.3143 - 2__encoder_attention_module_1_lambda: -0.1902 - 2__encoder_attention_module_2_lambda: -0.0456 - 2__decoder_attention_module_0_lambda: 0.1409 - 2__decoder_attention_module_1_lambda: 0.3760 - 0__encoded_vec_wt: 0.3292 - 1__encoded_vec_wt: 0.3730 - 2__encoded_vec_wt: 0.2745 - 0__decoded_vec_wt: 0.1828 - 1__decoded_vec_wt: 0.7001 - 2__decoded_vec_wt: 0.7707 - tot_time: 1h 37m 40.4s\n",
      "\n",
      "Epoch 25: val_NMSE did not improve from 0.01052\n",
      " - saving loss histories at /home/rkaushik/Documents/Thesis/MLROM/Kolmogorov/saved_ae/ae_053/checkpoints/LossHistoriesCheckpoint\n",
      "1250/1250 [==============================] - 65s 52ms/step - loss: 0.0013 - mse: 0.0012 - NMSE: 0.0105 - 0__encoder_attention_module_0_lambda: 0.1141 - 0__encoder_attention_module_1_lambda: 0.0734 - 0__encoder_attention_module_2_lambda: 0.0530 - 0__decoder_attention_module_0_lambda: 0.1744 - 0__decoder_attention_module_1_lambda: -0.2860 - 1__encoder_attention_module_0_lambda: 0.2506 - 1__encoder_attention_module_1_lambda: 0.1152 - 1__encoder_attention_module_2_lambda: 0.0645 - 1__decoder_attention_module_0_lambda: 0.1646 - 1__decoder_attention_module_1_lambda: -0.3628 - 2__encoder_attention_module_0_lambda: -0.3143 - 2__encoder_attention_module_1_lambda: -0.1902 - 2__encoder_attention_module_2_lambda: -0.0456 - 2__decoder_attention_module_0_lambda: 0.1409 - 2__decoder_attention_module_1_lambda: 0.3760 - 0__encoded_vec_wt: 0.3292 - 1__encoded_vec_wt: 0.3730 - 2__encoded_vec_wt: 0.2745 - 0__decoded_vec_wt: 0.1828 - 1__decoded_vec_wt: 0.7001 - 2__decoded_vec_wt: 0.7707 - val_loss: 0.0013 - val_mse: 0.0012 - val_NMSE: 0.0106\n"
     ]
    },
    {
     "name": "stdout",
     "output_type": "stream",
     "text": [
      "Epoch 26/200\n",
      "1250/1250 [==============================] - ETA: 0s - loss: 0.0013 - mse: 0.0012 - NMSE: 0.0105 - 0__encoder_attention_module_0_lambda: 0.1139 - 0__encoder_attention_module_1_lambda: 0.0735 - 0__encoder_attention_module_2_lambda: 0.0532 - 0__decoder_attention_module_0_lambda: 0.1743 - 0__decoder_attention_module_1_lambda: -0.2860 - 1__encoder_attention_module_0_lambda: 0.2505 - 1__encoder_attention_module_1_lambda: 0.1151 - 1__encoder_attention_module_2_lambda: 0.0644 - 1__decoder_attention_module_0_lambda: 0.1646 - 1__decoder_attention_module_1_lambda: -0.3627 - 2__encoder_attention_module_0_lambda: -0.3142 - 2__encoder_attention_module_1_lambda: -0.1904 - 2__encoder_attention_module_2_lambda: -0.0456 - 2__decoder_attention_module_0_lambda: 0.1409 - 2__decoder_attention_module_1_lambda: 0.3760 - 0__encoded_vec_wt: 0.3291 - 1__encoded_vec_wt: 0.3730 - 2__encoded_vec_wt: 0.2745 - 0__decoded_vec_wt: 0.1829 - 1__decoded_vec_wt: 0.7002 - 2__decoded_vec_wt: 0.7708Restoring model weights from the end of the best epoch: 16.\n",
      " - tot_time: 1h 38m 46.0s\n",
      "\n",
      "Epoch 26: val_NMSE did not improve from 0.01052\n",
      " - saving loss histories at /home/rkaushik/Documents/Thesis/MLROM/Kolmogorov/saved_ae/ae_053/checkpoints/LossHistoriesCheckpoint\n",
      "1250/1250 [==============================] - 66s 52ms/step - loss: 0.0013 - mse: 0.0012 - NMSE: 0.0105 - 0__encoder_attention_module_0_lambda: 0.1139 - 0__encoder_attention_module_1_lambda: 0.0735 - 0__encoder_attention_module_2_lambda: 0.0532 - 0__decoder_attention_module_0_lambda: 0.1743 - 0__decoder_attention_module_1_lambda: -0.2860 - 1__encoder_attention_module_0_lambda: 0.2505 - 1__encoder_attention_module_1_lambda: 0.1151 - 1__encoder_attention_module_2_lambda: 0.0644 - 1__decoder_attention_module_0_lambda: 0.1646 - 1__decoder_attention_module_1_lambda: -0.3627 - 2__encoder_attention_module_0_lambda: -0.3142 - 2__encoder_attention_module_1_lambda: -0.1904 - 2__encoder_attention_module_2_lambda: -0.0456 - 2__decoder_attention_module_0_lambda: 0.1409 - 2__decoder_attention_module_1_lambda: 0.3760 - 0__encoded_vec_wt: 0.3291 - 1__encoded_vec_wt: 0.3730 - 2__encoded_vec_wt: 0.2745 - 0__decoded_vec_wt: 0.1829 - 1__decoded_vec_wt: 0.7002 - 2__decoded_vec_wt: 0.7708 - val_loss: 0.0013 - val_mse: 0.0012 - val_NMSE: 0.0107\n",
      "Epoch 26: early stopping\n"
     ]
    }
   ],
   "source": [
    "# compiling the network\n",
    "ae_net.compile(\n",
    "    optimizer=tf.keras.optimizers.Adam(learning_rate=learning_rate_list[0]),\n",
    "    loss=losses.MeanSquaredError(),\n",
    "#     loss=losses.BinaryCrossentropy(from_logits=False),\n",
    "    run_eagerly=False,\n",
    "    metrics=['mse', NMSE_metric]\n",
    ")\n",
    "\n",
    "if behaviour == 'loadCheckpointAndContinueTraining':\n",
    "    # this loads the weights/attributes of the optimizer as well\n",
    "    if strategy is not None:\n",
    "        with strategy.scope():\n",
    "            ae_net.load_weights(wt_file)\n",
    "    else:\n",
    "        ae_net.load_weights(wt_file)\n",
    "\n",
    "if behaviour == 'initialiseAndTrainFromScratch' or behaviour == 'loadCheckpointAndContinueTraining':\n",
    "    # implementing early stopping\n",
    "    early_stopping_cb = tf.keras.callbacks.EarlyStopping(\n",
    "        monitor='val_NMSE',\n",
    "        patience=patience,\n",
    "        restore_best_weights=True,\n",
    "        verbose=True,\n",
    "        min_delta=min_delta\n",
    "    )\n",
    "\n",
    "    # time callback for each epoch\n",
    "    timekeeper_cb = mytimecallback()\n",
    "\n",
    "    # model checkpoint callback\n",
    "    dir_name_ckpt = dir_name_ae+dir_sep+'checkpoints'\n",
    "    if not os.path.isdir(dir_name_ckpt):\n",
    "        os.makedirs(dir_name_ckpt)\n",
    "    checkpoint_cb = tf.keras.callbacks.ModelCheckpoint(\n",
    "        filepath=dir_name_ckpt+dir_sep+'checkpoint',#+'/checkpoint--loss={loss:.4f}--vall_loss={val_loss:.4f}',\n",
    "        monitor='val_NMSE',\n",
    "        save_best_only=True,\n",
    "        save_weights_only=True,\n",
    "        verbose=2,\n",
    "        period=1  # saves every 5 epochs\n",
    "    )\n",
    "\n",
    "    # save losses callback\n",
    "    savelosses_cb = SaveLosses(\n",
    "        filepath=dir_name_ckpt+dir_sep+'LossHistoriesCheckpoint',\n",
    "        val_loss_arr=savelosses_cb_vallossarr,\n",
    "        train_loss_arr=savelosses_cb_trainlossarr,\n",
    "        total_epochs=epochs,\n",
    "        period=1)\n",
    "\n",
    "    # training the network\n",
    "    for i in range(starting_lr_idx, len(learning_rate_list)):\n",
    "        learning_rate = learning_rate_list[i]\n",
    "        K.set_value(ae_net.optimizer.lr, learning_rate)\n",
    "\n",
    "        savelosses_cb.update_lr_idx(i)\n",
    "\n",
    "        if i == starting_lr_idx:\n",
    "            EPOCHS = num_epochs_left\n",
    "            savelosses_cb.update_offset(epochs-num_epochs_left)\n",
    "        else:\n",
    "            EPOCHS = epochs\n",
    "            savelosses_cb.update_offset(0)\n",
    "\n",
    "        total_s_len = 80\n",
    "        sep_lr_s = ' LEARNING RATE : {} '.format(learning_rate)\n",
    "        sep_lr_s = int((total_s_len - len(sep_lr_s))//2)*'-' + sep_lr_s\n",
    "        sep_lr_s = sep_lr_s + (total_s_len-len(sep_lr_s))*'-'\n",
    "        print('\\n\\n' + '-'*len(sep_lr_s))\n",
    "        print('\\n' + sep_lr_s+'\\n')\n",
    "        print('-'*len(sep_lr_s) + '\\n\\n')\n",
    "        \n",
    "        history = ae_net.fit(training_data, training_data,\n",
    "            epochs=EPOCHS,\n",
    "            batch_size=batch_size,\n",
    "#             validation_split=val_split/train_split,\n",
    "            validation_data=(val_data, val_data),\n",
    "            callbacks=[early_stopping_cb, timekeeper_cb, checkpoint_cb, savelosses_cb],\n",
    "            verbose=1\n",
    "        )\n",
    "\n",
    "        val_loss_hist.extend(history.history['val_loss'])\n",
    "        train_loss_hist.extend(history.history['loss'])\n",
    "        \n",
    "        val_MSE_hist.extend(history.history['val_mse'])\n",
    "        train_MSE_hist.extend(history.history['mse'])\n",
    "        \n",
    "        val_NMSE_hist.extend(history.history['val_NMSE'])\n",
    "        train_NMSE_hist.extend(history.history['NMSE'])\n",
    "        \n",
    "        if use_attention_module == True:\n",
    "            for ks_i in range(len(ae_net.kernel_size)):\n",
    "                for j in range(len(ae_net.encoder_attention_modules_list[ks_i])):\n",
    "                    key = '{}__encoder_attention_module_{}_lambda'.format(ks_i, j)\n",
    "                    lst1 = history.history[key]\n",
    "                    lst2 = encoder_attention_lambdas[key]\n",
    "                    lst2.extend(lst1)\n",
    "                    encoder_attention_lambdas[key] = lst2\n",
    "                for j in range(len(ae_net.decoder_attention_modules_list[ks_i])):\n",
    "                    key = '{}__decoder_attention_module_{}_lambda'.format(ks_i, j)\n",
    "                    lst1 = history.history[key]\n",
    "                    lst2 = decoder_attention_lambdas[key]\n",
    "                    lst2.extend(lst1)\n",
    "                    decoder_attention_lambdas[key] = lst2\n",
    "        \n",
    "        if i == starting_lr_idx:\n",
    "            lr_change[i+1] += len(history.history['val_loss'])\n",
    "        else:\n",
    "            lr_change.append(lr_change[i]+len(history.history['val_loss']))"
   ]
  },
  {
   "cell_type": "code",
   "execution_count": 26,
   "metadata": {},
   "outputs": [],
   "source": [
    "from io import StringIO\n",
    "import sys\n",
    "\n",
    "class Capturing(list):\n",
    "    def __enter__(self):\n",
    "        self._stdout = sys.stdout\n",
    "        sys.stdout = self._stringio = StringIO()\n",
    "        return self\n",
    "\n",
    "    def __exit__(self, *args):\n",
    "        self.extend(self._stringio.getvalue().splitlines())\n",
    "        del self._stringio\n",
    "        sys.stdout = self._stdout"
   ]
  },
  {
   "cell_type": "code",
   "execution_count": 27,
   "metadata": {},
   "outputs": [],
   "source": [
    "with Capturing() as output:\n",
    "    ae_net.encoder_net.summary()\n",
    "\n",
    "with open(dir_name_ae + '/ae_encoder_summary.txt', 'w') as f:\n",
    "    for line in output:\n",
    "        f.write(line + '\\n')"
   ]
  },
  {
   "cell_type": "code",
   "execution_count": 28,
   "metadata": {},
   "outputs": [],
   "source": [
    "with Capturing() as output:\n",
    "    ae_net.decoder_net.summary()\n",
    "\n",
    "with open(dir_name_ae + '/ae_decoder_summary.txt', 'w') as f:\n",
    "    for line in output:\n",
    "        f.write(line + '\\n')"
   ]
  },
  {
   "cell_type": "code",
   "execution_count": null,
   "metadata": {},
   "outputs": [],
   "source": []
  },
  {
   "cell_type": "code",
   "execution_count": null,
   "metadata": {},
   "outputs": [],
   "source": []
  },
  {
   "cell_type": "code",
   "execution_count": null,
   "metadata": {},
   "outputs": [],
   "source": []
  },
  {
   "cell_type": "code",
   "execution_count": 29,
   "metadata": {},
   "outputs": [
    {
     "name": "stdout",
     "output_type": "stream",
     "text": [
      "Model: \"model_2\"\n",
      "_________________________________________________________________\n",
      " Layer (type)                Output Shape              Param #   \n",
      "=================================================================\n",
      " input_3 (InputLayer)        [(None, 2, 50, 50)]       0         \n",
      "                                                                 \n",
      " model (Functional)          (None, 5, 3, 3)           123852    \n",
      "                                                                 \n",
      " model_1 (Functional)        (None, 2, 50, 50)         105267    \n",
      "                                                                 \n",
      "=================================================================\n",
      "Total params: 229,119\n",
      "Trainable params: 201,219\n",
      "Non-trainable params: 27,900\n",
      "_________________________________________________________________\n"
     ]
    }
   ],
   "source": [
    "ae_net.ae_net.summary()"
   ]
  },
  {
   "cell_type": "code",
   "execution_count": 30,
   "metadata": {
    "colab": {
     "base_uri": "https://localhost:8080/"
    },
    "executionInfo": {
     "elapsed": 9705,
     "status": "ok",
     "timestamp": 1666788875924,
     "user": {
      "displayName": "Rohan Kaushik",
      "userId": "13918477614376051685"
     },
     "user_tz": -120
    },
    "id": "d_Od0ul4P9bK",
    "outputId": "860e9f94-e593-4a74-fcff-6a6657d925de"
   },
   "outputs": [
    {
     "name": "stdout",
     "output_type": "stream",
     "text": [
      "79/79 [==============================] - 4s 43ms/step - loss: 0.0014 - mse: 0.0012 - NMSE: 0.0109\n"
     ]
    }
   ],
   "source": [
    "if behaviour == 'initialiseAndTrainFromScratch' or behaviour == 'loadCheckpointAndContinueTraining':\n",
    "    test_metrics = ae_net.evaluate(\n",
    "        testing_data, testing_data,\n",
    "    )\n",
    "#     train_metrics = ae_net.evaluate(training_data, training_data)\n",
    "#     val_metrics = ae_net.evaluate(val_data, val_data)\n",
    "\n",
    "    save_path = dir_name_ae+dir_sep+'final_net'\n",
    "\n",
    "    if not os.path.isdir(save_path):\n",
    "        os.makedirs(save_path)\n",
    "\n",
    "    save_dict = {\n",
    "        'val_loss_hist':val_loss_hist,\n",
    "        'train_loss_hist':train_loss_hist,\n",
    "        'val_MSE_hist':val_MSE_hist,\n",
    "        'train_MSE_hist':train_MSE_hist,\n",
    "        'val_NMSE_hist':val_NMSE_hist,\n",
    "        'train_NMSE_hist':train_NMSE_hist,\n",
    "        'lr_change':lr_change,\n",
    "        'test_loss':test_metrics[0],\n",
    "        'test_mse':test_metrics[1],\n",
    "#         'train_loss':train_metrics[0],\n",
    "#         'train_mse':train_metrics[1],\n",
    "#         'val_loss':val_metrics[0],\n",
    "#         'val_mse':val_metrics[1],\n",
    "    }\n",
    "    if use_attention_module == True:\n",
    "        for ks_i in range(len(ae_net.kernel_size)):\n",
    "            for i in range(len(ae_net.encoder_attention_modules_list[ks_i])):\n",
    "                key = '{}__encoder_attention_module_{}_lambda'.format(ks_i, i)\n",
    "                save_dict[key] = encoder_attention_lambdas[key]\n",
    "            for i in range(len(ae_net.decoder_attention_modules_list[ks_i])):\n",
    "                key = '{}__decoder_attention_module_{}_lambda'.format(ks_i, i)\n",
    "                save_dict[key] = decoder_attention_lambdas[key]\n",
    "\n",
    "    with open(save_path+dir_sep+'losses.txt', 'w') as f:\n",
    "        f.write(str(save_dict))\n",
    "\n",
    "    np.savez(\n",
    "        save_path+dir_sep+'losses',\n",
    "        **save_dict\n",
    "    )\n",
    "        \n",
    "\n",
    "    ae_net.save_everything(\n",
    "        file_name=save_path+dir_sep+'final_net')"
   ]
  },
  {
   "cell_type": "code",
   "execution_count": 31,
   "metadata": {
    "colab": {
     "base_uri": "https://localhost:8080/"
    },
    "executionInfo": {
     "elapsed": 7,
     "status": "ok",
     "timestamp": 1666788875925,
     "user": {
      "displayName": "Rohan Kaushik",
      "userId": "13918477614376051685"
     },
     "user_tz": -120
    },
    "id": "Dy8GNcgMVD4T",
    "outputId": "e50e8738-9da1-43de-e551-43f47b64135e"
   },
   "outputs": [
    {
     "name": "stdout",
     "output_type": "stream",
     "text": [
      "lr_change :  [0, 31, 64, 90]\n"
     ]
    }
   ],
   "source": [
    "print('lr_change : ', lr_change)"
   ]
  },
  {
   "cell_type": "code",
   "execution_count": null,
   "metadata": {},
   "outputs": [],
   "source": []
  },
  {
   "cell_type": "code",
   "execution_count": 32,
   "metadata": {
    "colab": {
     "base_uri": "https://localhost:8080/",
     "height": 279
    },
    "executionInfo": {
     "elapsed": 765,
     "status": "ok",
     "timestamp": 1666788876686,
     "user": {
      "displayName": "Rohan Kaushik",
      "userId": "13918477614376051685"
     },
     "user_tz": -120
    },
    "id": "ewTz1COFSocM",
    "outputId": "15bc2be5-d571-433e-b5cd-9c722f38b48b",
    "scrolled": false
   },
   "outputs": [
    {
     "data": {
      "image/png": "[encoded data removed]",
      "text/plain": [
       "<Figure size 640x480 with 1 Axes>"
      ]
     },
     "metadata": {},
     "output_type": "display_data"
    },
    {
     "data": {
      "image/png": "[encoded data removed]",
      "text/plain": [
       "<Figure size 640x480 with 1 Axes>"
      ]
     },
     "metadata": {},
     "output_type": "display_data"
    },
    {
     "data": {
      "text/plain": [
       "<Figure size 640x480 with 0 Axes>"
      ]
     },
     "metadata": {},
     "output_type": "display_data"
    },
    {
     "data": {
      "image/png": "[encoded data removed]",
      "text/plain": [
       "<Figure size 640x480 with 1 Axes>"
      ]
     },
     "metadata": {},
     "output_type": "display_data"
    },
    {
     "data": {
      "text/plain": [
       "<Figure size 640x480 with 0 Axes>"
      ]
     },
     "metadata": {},
     "output_type": "display_data"
    }
   ],
   "source": [
    "# plotting losses\n",
    "dir_name_plot = dir_name_ae + '/plots'\n",
    "if not os.path.isdir(dir_name_plot):\n",
    "    os.makedirs(dir_name_plot)\n",
    "\n",
    "# Visualize loss history\n",
    "fig, ax = plot_losses(\n",
    "    training_loss=train_loss_hist,\n",
    "    val_loss=val_loss_hist,\n",
    "    lr_change=lr_change,\n",
    "    learning_rate_list=learning_rate_list\n",
    ")\n",
    "\n",
    "plt.savefig(dir_name_plot + '{ds}loss_history.png'.format(ds=dir_sep), dpi=300, bbox_inches='tight')\n",
    "plt.show()\n",
    "\n",
    "\n",
    "fig, ax = plot_losses(\n",
    "    training_loss=train_MSE_hist,\n",
    "    val_loss=val_MSE_hist,\n",
    "    lr_change=lr_change,\n",
    "    learning_rate_list=learning_rate_list,\n",
    "    legend_list=['Training MSE', 'Validation MSE'],\n",
    "    xlabel='Epoch',\n",
    "    ylabel='MSE',\n",
    ")\n",
    "plt.savefig(dir_name_plot+'/MSE_history.png', dpi=300, bbox_inches='tight')\n",
    "plt.show()\n",
    "plt.clf()\n",
    "\n",
    "\n",
    "fig, ax = plot_losses(\n",
    "    training_loss=train_NMSE_hist,\n",
    "    val_loss=val_NMSE_hist,\n",
    "    lr_change=lr_change,\n",
    "    learning_rate_list=learning_rate_list,\n",
    "    legend_list=['Training NMSE', 'Validation NMSE'],\n",
    "    xlabel='Epoch',\n",
    "    ylabel='NMSE',\n",
    ")\n",
    "plt.savefig(dir_name_plot+'/NMSE_history.png', dpi=300, bbox_inches='tight')\n",
    "plt.show()\n",
    "plt.clf()"
   ]
  },
  {
   "cell_type": "code",
   "execution_count": 33,
   "metadata": {
    "colab": {
     "base_uri": "https://localhost:8080/"
    },
    "executionInfo": {
     "elapsed": 881,
     "status": "ok",
     "timestamp": 1666788877562,
     "user": {
      "displayName": "Rohan Kaushik",
      "userId": "13918477614376051685"
     },
     "user_tz": -120
    },
    "id": "wwt4brHcOaXi",
    "outputId": "7ba39105-aa8e-49e8-dbfd-619069123fdd"
   },
   "outputs": [
    {
     "data": {
      "image/png": "[encoded data removed]",
      "text/plain": [
       "<Figure size 640x480 with 1 Axes>"
      ]
     },
     "metadata": {},
     "output_type": "display_data"
    },
    {
     "data": {
      "text/plain": [
       "<Figure size 640x480 with 0 Axes>"
      ]
     },
     "metadata": {},
     "output_type": "display_data"
    },
    {
     "data": {
      "image/png": "[encoded data removed]",
      "text/plain": [
       "<Figure size 640x480 with 1 Axes>"
      ]
     },
     "metadata": {},
     "output_type": "display_data"
    },
    {
     "data": {
      "text/plain": [
       "<Figure size 640x480 with 0 Axes>"
      ]
     },
     "metadata": {},
     "output_type": "display_data"
    }
   ],
   "source": [
    "if use_attention_module == True:\n",
    "    # plotting encoder attention lambdas\n",
    "    plot_lst = []\n",
    "    legend_lst = []\n",
    "    for ks_i in range(len(ae_net.kernel_size)):\n",
    "        for i in range(len(ae_net.encoder_attention_modules_list[ks_i])):\n",
    "            key = '{}__encoder_attention_module_{}_lambda'.format(ks_i, i)\n",
    "            plot_lst.append(encoder_attention_lambdas[key])\n",
    "            legend_lst.append(\n",
    "                \"[ks : {}] attention module (encoder) {}\".format(\n",
    "                    int(ae_net.kernel_size[ks_i]),\n",
    "                    i+1\n",
    "                )\n",
    "            )\n",
    "    fig, ax = plot_losses(\n",
    "        training_loss=plot_lst[0],\n",
    "        val_loss=None,\n",
    "        more_plot_arrs_lst=plot_lst[1:] if len(plot_lst)>1 else [],\n",
    "        lr_change=lr_change,\n",
    "        learning_rate_list=learning_rate_list,\n",
    "        legend_list=legend_lst,\n",
    "        xlabel='Epoch',\n",
    "        ylabel=r\"$\\lambda_{attention}$\",\n",
    "        plot_type='plot',\n",
    "        traininglossplot_args=[],\n",
    "        traininglossplot_kwargs={},\n",
    "        epoch_count_begin=0,\n",
    "        epoch_count_end=len(plot_lst[0])-1,\n",
    "    )\n",
    "    plt.savefig(dir_name_plot+'/attention_lambdas_encoder.png', dpi=300, bbox_inches='tight')\n",
    "    plt.show()\n",
    "    plt.clf()\n",
    "    \n",
    "    # plotting decoder attention lambdas\n",
    "    plot_lst = []\n",
    "    legend_lst = []\n",
    "    for ks_i in range(len(ae_net.kernel_size)):\n",
    "        for i in range(len(ae_net.decoder_attention_modules_list[ks_i])):\n",
    "            key = '{}__decoder_attention_module_{}_lambda'.format(ks_i, i)\n",
    "            plot_lst.append(decoder_attention_lambdas[key])\n",
    "            legend_lst.append(\n",
    "                \"[ks : {}] attention module (decoder) {}\".format(\n",
    "                    int(ae_net.kernel_size[ks_i]),\n",
    "                    i+1\n",
    "                )\n",
    "            )\n",
    "    fig, ax = plot_losses(\n",
    "        training_loss=plot_lst[0],\n",
    "        val_loss=None,\n",
    "        more_plot_arrs_lst=plot_lst[1:] if len(plot_lst)>1 else [],\n",
    "        lr_change=lr_change,\n",
    "        learning_rate_list=learning_rate_list,\n",
    "        legend_list=legend_lst,\n",
    "        xlabel='Epoch',\n",
    "        ylabel=r\"$\\lambda_{attention}$\",\n",
    "        plot_type='plot',\n",
    "        traininglossplot_args=[],\n",
    "        traininglossplot_kwargs={},\n",
    "        epoch_count_begin=0,\n",
    "        epoch_count_end=len(plot_lst[0])-1,\n",
    "    )\n",
    "    plt.savefig(dir_name_plot+'/attention_lambdas_decoder.png', dpi=300, bbox_inches='tight')\n",
    "    plt.show()\n",
    "    plt.clf()"
   ]
  },
  {
   "cell_type": "markdown",
   "metadata": {
    "colab": {
     "base_uri": "https://localhost:8080/",
     "height": 1000,
     "output_embedded_package_id": "1kzRwBdNfA2o28NxHkc2fku7QnFPAI8Bo"
    },
    "executionInfo": {
     "elapsed": 4835,
     "status": "ok",
     "timestamp": 1666788882395,
     "user": {
      "displayName": "Rohan Kaushik",
      "userId": "13918477614376051685"
     },
     "user_tz": -120
    },
    "id": "_6rNhThyQrKc",
    "outputId": "fdeeb3f5-009a-404e-8856-b7655d596a88"
   },
   "source": [
    "# POD Comparison"
   ]
  },
  {
   "cell_type": "code",
   "execution_count": 34,
   "metadata": {
    "executionInfo": {
     "elapsed": 17515,
     "status": "ok",
     "timestamp": 1666788899903,
     "user": {
      "displayName": "Rohan Kaushik",
      "userId": "13918477614376051685"
     },
     "user_tz": -120
    },
    "id": "cAiMV0iU0EpK"
   },
   "outputs": [],
   "source": [
    "# pod_training_data = np.empty(shape=(training_data.shape[0], training_data.shape[1]*training_data.shape[2]*training_data.shape[3]))\n",
    "# pod_training_data[:, :] = np.reshape(training_data, (training_data.shape[0], training_data.shape[1]*training_data.shape[2]*training_data.shape[3]))\n",
    "\n",
    "# pod_centering_means = np.mean(pod_training_data, axis=0)\n",
    "# pod_mean_centered_data = pod_training_data - pod_centering_means"
   ]
  },
  {
   "cell_type": "code",
   "execution_count": 35,
   "metadata": {
    "scrolled": true
   },
   "outputs": [],
   "source": [
    "# C = np.transpose(pod_mean_centered_data) @ pod_mean_centered_data\n",
    "# C /= pod_mean_centered_data.shape[0] - 1"
   ]
  },
  {
   "cell_type": "code",
   "execution_count": 36,
   "metadata": {
    "colab": {
     "base_uri": "https://localhost:8080/"
    },
    "executionInfo": {
     "elapsed": 600,
     "status": "ok",
     "timestamp": 1666788900494,
     "user": {
      "displayName": "Rohan Kaushik",
      "userId": "13918477614376051685"
     },
     "user_tz": -120
    },
    "id": "jVqsAwsY0Amw",
    "outputId": "95dd7bc9-f2b0-421e-a1b4-3e7e594cd44a"
   },
   "outputs": [],
   "source": [
    "# eigenvals, eigenvecs = np.linalg.eig(C)"
   ]
  },
  {
   "cell_type": "code",
   "execution_count": 37,
   "metadata": {
    "colab": {
     "base_uri": "https://localhost:8080/",
     "height": 1000
    },
    "executionInfo": {
     "elapsed": 2127,
     "status": "ok",
     "timestamp": 1666788902619,
     "user": {
      "displayName": "Rohan Kaushik",
      "userId": "13918477614376051685"
     },
     "user_tz": -120
    },
    "id": "wjgPNitSrt5p",
    "outputId": "d60c9340-28f4-479b-8b66-5ee2a5fc5cee"
   },
   "outputs": [],
   "source": [
    "# abs_eigenvals = np.abs(eigenvals)\n",
    "# idx = np.argsort(abs_eigenvals)"
   ]
  },
  {
   "cell_type": "code",
   "execution_count": 38,
   "metadata": {
    "executionInfo": {
     "elapsed": 5242,
     "status": "ok",
     "timestamp": 1666788907858,
     "user": {
      "displayName": "Rohan Kaushik",
      "userId": "13918477614376051685"
     },
     "user_tz": -120
    },
    "id": "Jv8PgBgzV1_s"
   },
   "outputs": [],
   "source": [
    "# idx = idx[::-1]\n",
    "# W = eigenvecs[:, idx[0:4*4*enc_filters[-1]]]"
   ]
  },
  {
   "cell_type": "code",
   "execution_count": 39,
   "metadata": {
    "executionInfo": {
     "elapsed": 17,
     "status": "ok",
     "timestamp": 1666788907859,
     "user": {
      "displayName": "Rohan Kaushik",
      "userId": "13918477614376051685"
     },
     "user_tz": -120
    },
    "id": "wnLnqg0Jrt5t"
   },
   "outputs": [],
   "source": [
    "# reconstructed_val_data = val_data.reshape(val_data.shape[0], training_data.shape[1]*training_data.shape[2]*training_data.shape[3]) @ W @ W.transpose()\n",
    "# reconstructed_val_data = np.reshape(reconstructed_val_data, val_data.shape)"
   ]
  },
  {
   "cell_type": "code",
   "execution_count": 40,
   "metadata": {},
   "outputs": [],
   "source": [
    "# val_recon_MSE = np.reshape((reconstructed_val_data - val_data)**2, (val_data.shape[0], training_data.shape[1]*training_data.shape[2]*training_data.shape[3]))\n",
    "# val_recon_MSE = np.mean(np.sum(val_recon_MSE, axis=1), axis=0)"
   ]
  },
  {
   "cell_type": "code",
   "execution_count": 41,
   "metadata": {
    "scrolled": true
   },
   "outputs": [],
   "source": [
    "# print(val_recon_MSE, val_recon_MSE/np.sum(time_stddev**2), np.sum(time_stddev**2))"
   ]
  },
  {
   "cell_type": "code",
   "execution_count": 42,
   "metadata": {},
   "outputs": [],
   "source": [
    "# abs_eigenvals[idx[0:4*4*2]]"
   ]
  },
  {
   "cell_type": "code",
   "execution_count": null,
   "metadata": {},
   "outputs": [],
   "source": []
  },
  {
   "cell_type": "code",
   "execution_count": 43,
   "metadata": {},
   "outputs": [
    {
     "name": "stdout",
     "output_type": "stream",
     "text": [
      "i : 8, name : attention_module, lambda_att : 0.11415468901395798\n",
      "i : 13, name : attention_module_1, lambda_att : 0.07251739501953125\n",
      "i : 18, name : attention_module_2, lambda_att : 0.05237659439444542\n",
      "i : 8, name : attention_module_3, lambda_att : 0.25036540627479553\n",
      "i : 13, name : attention_module_4, lambda_att : 0.11441736668348312\n",
      "i : 18, name : attention_module_5, lambda_att : 0.06373703479766846\n",
      "i : 8, name : attention_module_6, lambda_att : -0.3147774338722229\n",
      "i : 13, name : attention_module_7, lambda_att : -0.18908657133579254\n",
      "i : 18, name : attention_module_8, lambda_att : -0.0455605611205101\n",
      "\n"
     ]
    }
   ],
   "source": [
    "s = ''\n",
    "try:\n",
    "    for ks_i in range(ae_net.num_kernel_sizes):\n",
    "        for i in range(len(ae_net.encoder_layers_list[ks_i])):\n",
    "            l = ae_net.encoder_layers_list[ks_i][i]\n",
    "            name = str(l.name)\n",
    "            if name.startswith('attention_module'):\n",
    "                # print(i, name, l.lambda_att.numpy())\n",
    "                s += 'i : {}, name : {}, lambda_att : {}\\n'.format(i, name, l.lambda_att.numpy())\n",
    "    \n",
    "except:\n",
    "    for i in range(len(ae_net.encoder_layers_list)):\n",
    "        l = ae_net.encoder_layers_list[i]\n",
    "        name = str(l.name)\n",
    "        if name.startswith('attention_module'):\n",
    "            # print(i, name, l.lambda_att.numpy())\n",
    "            s += 'i : {}, name : {}, lambda_att : {}\\n'.format(i, name, l.lambda_att.numpy())\n",
    "print(s)\n",
    "\n",
    "if s != '':\n",
    "    with open(dir_name_ae + '/attention_lambdas_encoder.txt', 'w') as f:\n",
    "        f.write(s)"
   ]
  },
  {
   "cell_type": "code",
   "execution_count": 44,
   "metadata": {},
   "outputs": [
    {
     "name": "stdout",
     "output_type": "stream",
     "text": [
      "i : 5, name : attention_module_9, lambda_att : 0.17452381551265717\n",
      "i : 11, name : attention_module_10, lambda_att : -0.2846499979496002\n",
      "i : 5, name : attention_module_11, lambda_att : 0.16464190185070038\n",
      "i : 11, name : attention_module_12, lambda_att : -0.3627248704433441\n",
      "i : 5, name : attention_module_13, lambda_att : 0.14099466800689697\n",
      "i : 11, name : attention_module_14, lambda_att : 0.3761533200740814\n",
      "\n"
     ]
    }
   ],
   "source": [
    "s = ''\n",
    "try:\n",
    "    for ks_i in range(ae_net.num_kernel_sizes):\n",
    "        for i in range(len(ae_net.decoder_layers_list[ks_i])):\n",
    "            l = ae_net.decoder_layers_list[ks_i][i]\n",
    "            name = str(l.name)\n",
    "            if name.startswith('attention_module'):\n",
    "                # print(i, name, l.lambda_att.numpy())\n",
    "                s += 'i : {}, name : {}, lambda_att : {}\\n'.format(i, name, l.lambda_att.numpy())\n",
    "except:\n",
    "    for i in range(len(ae_net.decoder_layers_list)):\n",
    "        l = ae_net.decoder_layers_list[i]\n",
    "        name = str(l.name)\n",
    "        if name.startswith('attention_module'):\n",
    "            # print(i, name, l.lambda_att.numpy())\n",
    "            s += 'i : {}, name : {}, lambda_att : {}\\n'.format(i, name, l.lambda_att.numpy())\n",
    "print(s)\n",
    "\n",
    "if s != '':\n",
    "    with open(dir_name_ae + '/attention_lambdas_decoder.txt', 'w') as f:\n",
    "        f.write(s)"
   ]
  },
  {
   "cell_type": "code",
   "execution_count": 45,
   "metadata": {},
   "outputs": [],
   "source": [
    "try:\n",
    "    s =  'ENCODED VECTOR WEIGHTS\\n'\n",
    "    s += '----------------------\\n'\n",
    "    for ks_i in range(ae_net.num_kernel_sizes):\n",
    "        s += 'i : {:02d} -- kernel_size : {:02d} -- {:.5f}\\n'.format(ks_i, ae_net.kernel_size[ks_i], ae_net.encoded_vec_weights[ks_i].value())\n",
    "    s += '\\n'\n",
    "    s +=  'DECODED VECTOR WEIGHTS\\n'\n",
    "    s += '----------------------\\n'\n",
    "    for ks_i in range(ae_net.num_kernel_sizes):\n",
    "        s += 'i : {:02d} -- kernel_size : {:02d} -- {:.5f}\\n'.format(ks_i, ae_net.kernel_size[ks_i], ae_net.decoded_vec_weights[ks_i].value())\n",
    "    print(s)\n",
    "    with open(dir_name_ae + '/encoded_decoded_vec_weights.txt', 'w') as f:\n",
    "        f.write(s)\n",
    "except:\n",
    "    pass"
   ]
  },
  {
   "cell_type": "code",
   "execution_count": 46,
   "metadata": {
    "scrolled": true
   },
   "outputs": [
    {
     "name": "stdout",
     "output_type": "stream",
     "text": [
      "0 periodic_padding <tf.Variable 'periodic_padding/M_mat:0' shape=(50, 50) dtype=float32, numpy=\n",
      "array([[1., 0., 0., ..., 0., 0., 0.],\n",
      "       [0., 1., 0., ..., 0., 0., 0.],\n",
      "       [0., 0., 1., ..., 0., 0., 0.],\n",
      "       ...,\n",
      "       [0., 0., 0., ..., 1., 0., 0.],\n",
      "       [0., 0., 0., ..., 0., 1., 0.],\n",
      "       [0., 0., 0., ..., 0., 0., 1.]], dtype=float32)>\n",
      "4 periodic_padding_1 <tf.Variable 'periodic_padding_1/M_mat:0' shape=(26, 24) dtype=float32, numpy=\n",
      "array([[0., 0., 0., 0., 0., 0., 0., 0., 0., 0., 0., 0., 0., 0., 0., 0.,\n",
      "        0., 0., 0., 0., 0., 0., 0., 1.],\n",
      "       [1., 0., 0., 0., 0., 0., 0., 0., 0., 0., 0., 0., 0., 0., 0., 0.,\n",
      "        0., 0., 0., 0., 0., 0., 0., 0.],\n",
      "       [0., 1., 0., 0., 0., 0., 0., 0., 0., 0., 0., 0., 0., 0., 0., 0.,\n",
      "        0., 0., 0., 0., 0., 0., 0., 0.],\n",
      "       [0., 0., 1., 0., 0., 0., 0., 0., 0., 0., 0., 0., 0., 0., 0., 0.,\n",
      "        0., 0., 0., 0., 0., 0., 0., 0.],\n",
      "       [0., 0., 0., 1., 0., 0., 0., 0., 0., 0., 0., 0., 0., 0., 0., 0.,\n",
      "        0., 0., 0., 0., 0., 0., 0., 0.],\n",
      "       [0., 0., 0., 0., 1., 0., 0., 0., 0., 0., 0., 0., 0., 0., 0., 0.,\n",
      "        0., 0., 0., 0., 0., 0., 0., 0.],\n",
      "       [0., 0., 0., 0., 0., 1., 0., 0., 0., 0., 0., 0., 0., 0., 0., 0.,\n",
      "        0., 0., 0., 0., 0., 0., 0., 0.],\n",
      "       [0., 0., 0., 0., 0., 0., 1., 0., 0., 0., 0., 0., 0., 0., 0., 0.,\n",
      "        0., 0., 0., 0., 0., 0., 0., 0.],\n",
      "       [0., 0., 0., 0., 0., 0., 0., 1., 0., 0., 0., 0., 0., 0., 0., 0.,\n",
      "        0., 0., 0., 0., 0., 0., 0., 0.],\n",
      "       [0., 0., 0., 0., 0., 0., 0., 0., 1., 0., 0., 0., 0., 0., 0., 0.,\n",
      "        0., 0., 0., 0., 0., 0., 0., 0.],\n",
      "       [0., 0., 0., 0., 0., 0., 0., 0., 0., 1., 0., 0., 0., 0., 0., 0.,\n",
      "        0., 0., 0., 0., 0., 0., 0., 0.],\n",
      "       [0., 0., 0., 0., 0., 0., 0., 0., 0., 0., 1., 0., 0., 0., 0., 0.,\n",
      "        0., 0., 0., 0., 0., 0., 0., 0.],\n",
      "       [0., 0., 0., 0., 0., 0., 0., 0., 0., 0., 0., 1., 0., 0., 0., 0.,\n",
      "        0., 0., 0., 0., 0., 0., 0., 0.],\n",
      "       [0., 0., 0., 0., 0., 0., 0., 0., 0., 0., 0., 0., 1., 0., 0., 0.,\n",
      "        0., 0., 0., 0., 0., 0., 0., 0.],\n",
      "       [0., 0., 0., 0., 0., 0., 0., 0., 0., 0., 0., 0., 0., 1., 0., 0.,\n",
      "        0., 0., 0., 0., 0., 0., 0., 0.],\n",
      "       [0., 0., 0., 0., 0., 0., 0., 0., 0., 0., 0., 0., 0., 0., 1., 0.,\n",
      "        0., 0., 0., 0., 0., 0., 0., 0.],\n",
      "       [0., 0., 0., 0., 0., 0., 0., 0., 0., 0., 0., 0., 0., 0., 0., 1.,\n",
      "        0., 0., 0., 0., 0., 0., 0., 0.],\n",
      "       [0., 0., 0., 0., 0., 0., 0., 0., 0., 0., 0., 0., 0., 0., 0., 0.,\n",
      "        1., 0., 0., 0., 0., 0., 0., 0.],\n",
      "       [0., 0., 0., 0., 0., 0., 0., 0., 0., 0., 0., 0., 0., 0., 0., 0.,\n",
      "        0., 1., 0., 0., 0., 0., 0., 0.],\n",
      "       [0., 0., 0., 0., 0., 0., 0., 0., 0., 0., 0., 0., 0., 0., 0., 0.,\n",
      "        0., 0., 1., 0., 0., 0., 0., 0.],\n",
      "       [0., 0., 0., 0., 0., 0., 0., 0., 0., 0., 0., 0., 0., 0., 0., 0.,\n",
      "        0., 0., 0., 1., 0., 0., 0., 0.],\n",
      "       [0., 0., 0., 0., 0., 0., 0., 0., 0., 0., 0., 0., 0., 0., 0., 0.,\n",
      "        0., 0., 0., 0., 1., 0., 0., 0.],\n",
      "       [0., 0., 0., 0., 0., 0., 0., 0., 0., 0., 0., 0., 0., 0., 0., 0.,\n",
      "        0., 0., 0., 0., 0., 1., 0., 0.],\n",
      "       [0., 0., 0., 0., 0., 0., 0., 0., 0., 0., 0., 0., 0., 0., 0., 0.,\n",
      "        0., 0., 0., 0., 0., 0., 1., 0.],\n",
      "       [0., 0., 0., 0., 0., 0., 0., 0., 0., 0., 0., 0., 0., 0., 0., 0.,\n",
      "        0., 0., 0., 0., 0., 0., 0., 1.],\n",
      "       [1., 0., 0., 0., 0., 0., 0., 0., 0., 0., 0., 0., 0., 0., 0., 0.,\n",
      "        0., 0., 0., 0., 0., 0., 0., 0.]], dtype=float32)>\n",
      "9 periodic_padding_2 <tf.Variable 'periodic_padding_2/M_mat:0' shape=(14, 12) dtype=float32, numpy=\n",
      "array([[0., 0., 0., 0., 0., 0., 0., 0., 0., 0., 0., 1.],\n",
      "       [1., 0., 0., 0., 0., 0., 0., 0., 0., 0., 0., 0.],\n",
      "       [0., 1., 0., 0., 0., 0., 0., 0., 0., 0., 0., 0.],\n",
      "       [0., 0., 1., 0., 0., 0., 0., 0., 0., 0., 0., 0.],\n",
      "       [0., 0., 0., 1., 0., 0., 0., 0., 0., 0., 0., 0.],\n",
      "       [0., 0., 0., 0., 1., 0., 0., 0., 0., 0., 0., 0.],\n",
      "       [0., 0., 0., 0., 0., 1., 0., 0., 0., 0., 0., 0.],\n",
      "       [0., 0., 0., 0., 0., 0., 1., 0., 0., 0., 0., 0.],\n",
      "       [0., 0., 0., 0., 0., 0., 0., 1., 0., 0., 0., 0.],\n",
      "       [0., 0., 0., 0., 0., 0., 0., 0., 1., 0., 0., 0.],\n",
      "       [0., 0., 0., 0., 0., 0., 0., 0., 0., 1., 0., 0.],\n",
      "       [0., 0., 0., 0., 0., 0., 0., 0., 0., 0., 1., 0.],\n",
      "       [0., 0., 0., 0., 0., 0., 0., 0., 0., 0., 0., 1.],\n",
      "       [1., 0., 0., 0., 0., 0., 0., 0., 0., 0., 0., 0.]], dtype=float32)>\n",
      "14 periodic_padding_3 <tf.Variable 'periodic_padding_3/M_mat:0' shape=(8, 6) dtype=float32, numpy=\n",
      "array([[0., 0., 0., 0., 0., 1.],\n",
      "       [1., 0., 0., 0., 0., 0.],\n",
      "       [0., 1., 0., 0., 0., 0.],\n",
      "       [0., 0., 1., 0., 0., 0.],\n",
      "       [0., 0., 0., 1., 0., 0.],\n",
      "       [0., 0., 0., 0., 1., 0.],\n",
      "       [0., 0., 0., 0., 0., 1.],\n",
      "       [1., 0., 0., 0., 0., 0.]], dtype=float32)>\n",
      "19 periodic_padding_4 <tf.Variable 'periodic_padding_4/M_mat:0' shape=(5, 3) dtype=float32, numpy=\n",
      "array([[0., 0., 1.],\n",
      "       [1., 0., 0.],\n",
      "       [0., 1., 0.],\n",
      "       [0., 0., 1.],\n",
      "       [1., 0., 0.]], dtype=float32)>\n",
      "0 periodic_padding_5 <tf.Variable 'periodic_padding_5/M_mat:0' shape=(52, 50) dtype=float32, numpy=\n",
      "array([[0., 0., 0., ..., 0., 0., 1.],\n",
      "       [1., 0., 0., ..., 0., 0., 0.],\n",
      "       [0., 1., 0., ..., 0., 0., 0.],\n",
      "       ...,\n",
      "       [0., 0., 0., ..., 0., 1., 0.],\n",
      "       [0., 0., 0., ..., 0., 0., 1.],\n",
      "       [1., 0., 0., ..., 0., 0., 0.]], dtype=float32)>\n",
      "4 periodic_padding_6 <tf.Variable 'periodic_padding_6/M_mat:0' shape=(28, 24) dtype=float32, numpy=\n",
      "array([[0., 0., 0., 0., 0., 0., 0., 0., 0., 0., 0., 0., 0., 0., 0., 0.,\n",
      "        0., 0., 0., 0., 0., 0., 1., 0.],\n",
      "       [0., 0., 0., 0., 0., 0., 0., 0., 0., 0., 0., 0., 0., 0., 0., 0.,\n",
      "        0., 0., 0., 0., 0., 0., 0., 1.],\n",
      "       [1., 0., 0., 0., 0., 0., 0., 0., 0., 0., 0., 0., 0., 0., 0., 0.,\n",
      "        0., 0., 0., 0., 0., 0., 0., 0.],\n",
      "       [0., 1., 0., 0., 0., 0., 0., 0., 0., 0., 0., 0., 0., 0., 0., 0.,\n",
      "        0., 0., 0., 0., 0., 0., 0., 0.],\n",
      "       [0., 0., 1., 0., 0., 0., 0., 0., 0., 0., 0., 0., 0., 0., 0., 0.,\n",
      "        0., 0., 0., 0., 0., 0., 0., 0.],\n",
      "       [0., 0., 0., 1., 0., 0., 0., 0., 0., 0., 0., 0., 0., 0., 0., 0.,\n",
      "        0., 0., 0., 0., 0., 0., 0., 0.],\n",
      "       [0., 0., 0., 0., 1., 0., 0., 0., 0., 0., 0., 0., 0., 0., 0., 0.,\n",
      "        0., 0., 0., 0., 0., 0., 0., 0.],\n",
      "       [0., 0., 0., 0., 0., 1., 0., 0., 0., 0., 0., 0., 0., 0., 0., 0.,\n",
      "        0., 0., 0., 0., 0., 0., 0., 0.],\n",
      "       [0., 0., 0., 0., 0., 0., 1., 0., 0., 0., 0., 0., 0., 0., 0., 0.,\n",
      "        0., 0., 0., 0., 0., 0., 0., 0.],\n",
      "       [0., 0., 0., 0., 0., 0., 0., 1., 0., 0., 0., 0., 0., 0., 0., 0.,\n",
      "        0., 0., 0., 0., 0., 0., 0., 0.],\n",
      "       [0., 0., 0., 0., 0., 0., 0., 0., 1., 0., 0., 0., 0., 0., 0., 0.,\n",
      "        0., 0., 0., 0., 0., 0., 0., 0.],\n",
      "       [0., 0., 0., 0., 0., 0., 0., 0., 0., 1., 0., 0., 0., 0., 0., 0.,\n",
      "        0., 0., 0., 0., 0., 0., 0., 0.],\n",
      "       [0., 0., 0., 0., 0., 0., 0., 0., 0., 0., 1., 0., 0., 0., 0., 0.,\n",
      "        0., 0., 0., 0., 0., 0., 0., 0.],\n",
      "       [0., 0., 0., 0., 0., 0., 0., 0., 0., 0., 0., 1., 0., 0., 0., 0.,\n",
      "        0., 0., 0., 0., 0., 0., 0., 0.],\n",
      "       [0., 0., 0., 0., 0., 0., 0., 0., 0., 0., 0., 0., 1., 0., 0., 0.,\n",
      "        0., 0., 0., 0., 0., 0., 0., 0.],\n",
      "       [0., 0., 0., 0., 0., 0., 0., 0., 0., 0., 0., 0., 0., 1., 0., 0.,\n",
      "        0., 0., 0., 0., 0., 0., 0., 0.],\n",
      "       [0., 0., 0., 0., 0., 0., 0., 0., 0., 0., 0., 0., 0., 0., 1., 0.,\n",
      "        0., 0., 0., 0., 0., 0., 0., 0.],\n",
      "       [0., 0., 0., 0., 0., 0., 0., 0., 0., 0., 0., 0., 0., 0., 0., 1.,\n",
      "        0., 0., 0., 0., 0., 0., 0., 0.],\n",
      "       [0., 0., 0., 0., 0., 0., 0., 0., 0., 0., 0., 0., 0., 0., 0., 0.,\n",
      "        1., 0., 0., 0., 0., 0., 0., 0.],\n",
      "       [0., 0., 0., 0., 0., 0., 0., 0., 0., 0., 0., 0., 0., 0., 0., 0.,\n",
      "        0., 1., 0., 0., 0., 0., 0., 0.],\n",
      "       [0., 0., 0., 0., 0., 0., 0., 0., 0., 0., 0., 0., 0., 0., 0., 0.,\n",
      "        0., 0., 1., 0., 0., 0., 0., 0.],\n",
      "       [0., 0., 0., 0., 0., 0., 0., 0., 0., 0., 0., 0., 0., 0., 0., 0.,\n",
      "        0., 0., 0., 1., 0., 0., 0., 0.],\n",
      "       [0., 0., 0., 0., 0., 0., 0., 0., 0., 0., 0., 0., 0., 0., 0., 0.,\n",
      "        0., 0., 0., 0., 1., 0., 0., 0.],\n",
      "       [0., 0., 0., 0., 0., 0., 0., 0., 0., 0., 0., 0., 0., 0., 0., 0.,\n",
      "        0., 0., 0., 0., 0., 1., 0., 0.],\n",
      "       [0., 0., 0., 0., 0., 0., 0., 0., 0., 0., 0., 0., 0., 0., 0., 0.,\n",
      "        0., 0., 0., 0., 0., 0., 1., 0.],\n",
      "       [0., 0., 0., 0., 0., 0., 0., 0., 0., 0., 0., 0., 0., 0., 0., 0.,\n",
      "        0., 0., 0., 0., 0., 0., 0., 1.],\n",
      "       [1., 0., 0., 0., 0., 0., 0., 0., 0., 0., 0., 0., 0., 0., 0., 0.,\n",
      "        0., 0., 0., 0., 0., 0., 0., 0.],\n",
      "       [0., 1., 0., 0., 0., 0., 0., 0., 0., 0., 0., 0., 0., 0., 0., 0.,\n",
      "        0., 0., 0., 0., 0., 0., 0., 0.]], dtype=float32)>\n",
      "9 periodic_padding_7 <tf.Variable 'periodic_padding_7/M_mat:0' shape=(16, 12) dtype=float32, numpy=\n",
      "array([[0., 0., 0., 0., 0., 0., 0., 0., 0., 0., 1., 0.],\n",
      "       [0., 0., 0., 0., 0., 0., 0., 0., 0., 0., 0., 1.],\n",
      "       [1., 0., 0., 0., 0., 0., 0., 0., 0., 0., 0., 0.],\n",
      "       [0., 1., 0., 0., 0., 0., 0., 0., 0., 0., 0., 0.],\n",
      "       [0., 0., 1., 0., 0., 0., 0., 0., 0., 0., 0., 0.],\n",
      "       [0., 0., 0., 1., 0., 0., 0., 0., 0., 0., 0., 0.],\n",
      "       [0., 0., 0., 0., 1., 0., 0., 0., 0., 0., 0., 0.],\n",
      "       [0., 0., 0., 0., 0., 1., 0., 0., 0., 0., 0., 0.],\n",
      "       [0., 0., 0., 0., 0., 0., 1., 0., 0., 0., 0., 0.],\n",
      "       [0., 0., 0., 0., 0., 0., 0., 1., 0., 0., 0., 0.],\n",
      "       [0., 0., 0., 0., 0., 0., 0., 0., 1., 0., 0., 0.],\n",
      "       [0., 0., 0., 0., 0., 0., 0., 0., 0., 1., 0., 0.],\n",
      "       [0., 0., 0., 0., 0., 0., 0., 0., 0., 0., 1., 0.],\n",
      "       [0., 0., 0., 0., 0., 0., 0., 0., 0., 0., 0., 1.],\n",
      "       [1., 0., 0., 0., 0., 0., 0., 0., 0., 0., 0., 0.],\n",
      "       [0., 1., 0., 0., 0., 0., 0., 0., 0., 0., 0., 0.]], dtype=float32)>\n",
      "14 periodic_padding_8 <tf.Variable 'periodic_padding_8/M_mat:0' shape=(10, 6) dtype=float32, numpy=\n",
      "array([[0., 0., 0., 0., 1., 0.],\n",
      "       [0., 0., 0., 0., 0., 1.],\n",
      "       [1., 0., 0., 0., 0., 0.],\n",
      "       [0., 1., 0., 0., 0., 0.],\n",
      "       [0., 0., 1., 0., 0., 0.],\n",
      "       [0., 0., 0., 1., 0., 0.],\n",
      "       [0., 0., 0., 0., 1., 0.],\n",
      "       [0., 0., 0., 0., 0., 1.],\n",
      "       [1., 0., 0., 0., 0., 0.],\n",
      "       [0., 1., 0., 0., 0., 0.]], dtype=float32)>\n",
      "19 periodic_padding_9 <tf.Variable 'periodic_padding_9/M_mat:0' shape=(7, 3) dtype=float32, numpy=\n",
      "array([[0., 1., 0.],\n",
      "       [0., 0., 1.],\n",
      "       [1., 0., 0.],\n",
      "       [0., 1., 0.],\n",
      "       [0., 0., 1.],\n",
      "       [1., 0., 0.],\n",
      "       [0., 1., 0.]], dtype=float32)>\n",
      "0 periodic_padding_10 <tf.Variable 'periodic_padding_10/M_mat:0' shape=(54, 50) dtype=float32, numpy=\n",
      "array([[0., 0., 0., ..., 0., 1., 0.],\n",
      "       [0., 0., 0., ..., 0., 0., 1.],\n",
      "       [1., 0., 0., ..., 0., 0., 0.],\n",
      "       ...,\n",
      "       [0., 0., 0., ..., 0., 0., 1.],\n",
      "       [1., 0., 0., ..., 0., 0., 0.],\n",
      "       [0., 1., 0., ..., 0., 0., 0.]], dtype=float32)>\n",
      "4 periodic_padding_11 <tf.Variable 'periodic_padding_11/M_mat:0' shape=(30, 24) dtype=float32, numpy=\n",
      "array([[0., 0., 0., 0., 0., 0., 0., 0., 0., 0., 0., 0., 0., 0., 0., 0.,\n",
      "        0., 0., 0., 0., 0., 1., 0., 0.],\n",
      "       [0., 0., 0., 0., 0., 0., 0., 0., 0., 0., 0., 0., 0., 0., 0., 0.,\n",
      "        0., 0., 0., 0., 0., 0., 1., 0.],\n",
      "       [0., 0., 0., 0., 0., 0., 0., 0., 0., 0., 0., 0., 0., 0., 0., 0.,\n",
      "        0., 0., 0., 0., 0., 0., 0., 1.],\n",
      "       [1., 0., 0., 0., 0., 0., 0., 0., 0., 0., 0., 0., 0., 0., 0., 0.,\n",
      "        0., 0., 0., 0., 0., 0., 0., 0.],\n",
      "       [0., 1., 0., 0., 0., 0., 0., 0., 0., 0., 0., 0., 0., 0., 0., 0.,\n",
      "        0., 0., 0., 0., 0., 0., 0., 0.],\n",
      "       [0., 0., 1., 0., 0., 0., 0., 0., 0., 0., 0., 0., 0., 0., 0., 0.,\n",
      "        0., 0., 0., 0., 0., 0., 0., 0.],\n",
      "       [0., 0., 0., 1., 0., 0., 0., 0., 0., 0., 0., 0., 0., 0., 0., 0.,\n",
      "        0., 0., 0., 0., 0., 0., 0., 0.],\n",
      "       [0., 0., 0., 0., 1., 0., 0., 0., 0., 0., 0., 0., 0., 0., 0., 0.,\n",
      "        0., 0., 0., 0., 0., 0., 0., 0.],\n",
      "       [0., 0., 0., 0., 0., 1., 0., 0., 0., 0., 0., 0., 0., 0., 0., 0.,\n",
      "        0., 0., 0., 0., 0., 0., 0., 0.],\n",
      "       [0., 0., 0., 0., 0., 0., 1., 0., 0., 0., 0., 0., 0., 0., 0., 0.,\n",
      "        0., 0., 0., 0., 0., 0., 0., 0.],\n",
      "       [0., 0., 0., 0., 0., 0., 0., 1., 0., 0., 0., 0., 0., 0., 0., 0.,\n",
      "        0., 0., 0., 0., 0., 0., 0., 0.],\n",
      "       [0., 0., 0., 0., 0., 0., 0., 0., 1., 0., 0., 0., 0., 0., 0., 0.,\n",
      "        0., 0., 0., 0., 0., 0., 0., 0.],\n",
      "       [0., 0., 0., 0., 0., 0., 0., 0., 0., 1., 0., 0., 0., 0., 0., 0.,\n",
      "        0., 0., 0., 0., 0., 0., 0., 0.],\n",
      "       [0., 0., 0., 0., 0., 0., 0., 0., 0., 0., 1., 0., 0., 0., 0., 0.,\n",
      "        0., 0., 0., 0., 0., 0., 0., 0.],\n",
      "       [0., 0., 0., 0., 0., 0., 0., 0., 0., 0., 0., 1., 0., 0., 0., 0.,\n",
      "        0., 0., 0., 0., 0., 0., 0., 0.],\n",
      "       [0., 0., 0., 0., 0., 0., 0., 0., 0., 0., 0., 0., 1., 0., 0., 0.,\n",
      "        0., 0., 0., 0., 0., 0., 0., 0.],\n",
      "       [0., 0., 0., 0., 0., 0., 0., 0., 0., 0., 0., 0., 0., 1., 0., 0.,\n",
      "        0., 0., 0., 0., 0., 0., 0., 0.],\n",
      "       [0., 0., 0., 0., 0., 0., 0., 0., 0., 0., 0., 0., 0., 0., 1., 0.,\n",
      "        0., 0., 0., 0., 0., 0., 0., 0.],\n",
      "       [0., 0., 0., 0., 0., 0., 0., 0., 0., 0., 0., 0., 0., 0., 0., 1.,\n",
      "        0., 0., 0., 0., 0., 0., 0., 0.],\n",
      "       [0., 0., 0., 0., 0., 0., 0., 0., 0., 0., 0., 0., 0., 0., 0., 0.,\n",
      "        1., 0., 0., 0., 0., 0., 0., 0.],\n",
      "       [0., 0., 0., 0., 0., 0., 0., 0., 0., 0., 0., 0., 0., 0., 0., 0.,\n",
      "        0., 1., 0., 0., 0., 0., 0., 0.],\n",
      "       [0., 0., 0., 0., 0., 0., 0., 0., 0., 0., 0., 0., 0., 0., 0., 0.,\n",
      "        0., 0., 1., 0., 0., 0., 0., 0.],\n",
      "       [0., 0., 0., 0., 0., 0., 0., 0., 0., 0., 0., 0., 0., 0., 0., 0.,\n",
      "        0., 0., 0., 1., 0., 0., 0., 0.],\n",
      "       [0., 0., 0., 0., 0., 0., 0., 0., 0., 0., 0., 0., 0., 0., 0., 0.,\n",
      "        0., 0., 0., 0., 1., 0., 0., 0.],\n",
      "       [0., 0., 0., 0., 0., 0., 0., 0., 0., 0., 0., 0., 0., 0., 0., 0.,\n",
      "        0., 0., 0., 0., 0., 1., 0., 0.],\n",
      "       [0., 0., 0., 0., 0., 0., 0., 0., 0., 0., 0., 0., 0., 0., 0., 0.,\n",
      "        0., 0., 0., 0., 0., 0., 1., 0.],\n",
      "       [0., 0., 0., 0., 0., 0., 0., 0., 0., 0., 0., 0., 0., 0., 0., 0.,\n",
      "        0., 0., 0., 0., 0., 0., 0., 1.],\n",
      "       [1., 0., 0., 0., 0., 0., 0., 0., 0., 0., 0., 0., 0., 0., 0., 0.,\n",
      "        0., 0., 0., 0., 0., 0., 0., 0.],\n",
      "       [0., 1., 0., 0., 0., 0., 0., 0., 0., 0., 0., 0., 0., 0., 0., 0.,\n",
      "        0., 0., 0., 0., 0., 0., 0., 0.],\n",
      "       [0., 0., 1., 0., 0., 0., 0., 0., 0., 0., 0., 0., 0., 0., 0., 0.,\n",
      "        0., 0., 0., 0., 0., 0., 0., 0.]], dtype=float32)>\n",
      "9 periodic_padding_12 <tf.Variable 'periodic_padding_12/M_mat:0' shape=(18, 12) dtype=float32, numpy=\n",
      "array([[0., 0., 0., 0., 0., 0., 0., 0., 0., 1., 0., 0.],\n",
      "       [0., 0., 0., 0., 0., 0., 0., 0., 0., 0., 1., 0.],\n",
      "       [0., 0., 0., 0., 0., 0., 0., 0., 0., 0., 0., 1.],\n",
      "       [1., 0., 0., 0., 0., 0., 0., 0., 0., 0., 0., 0.],\n",
      "       [0., 1., 0., 0., 0., 0., 0., 0., 0., 0., 0., 0.],\n",
      "       [0., 0., 1., 0., 0., 0., 0., 0., 0., 0., 0., 0.],\n",
      "       [0., 0., 0., 1., 0., 0., 0., 0., 0., 0., 0., 0.],\n",
      "       [0., 0., 0., 0., 1., 0., 0., 0., 0., 0., 0., 0.],\n",
      "       [0., 0., 0., 0., 0., 1., 0., 0., 0., 0., 0., 0.],\n",
      "       [0., 0., 0., 0., 0., 0., 1., 0., 0., 0., 0., 0.],\n",
      "       [0., 0., 0., 0., 0., 0., 0., 1., 0., 0., 0., 0.],\n",
      "       [0., 0., 0., 0., 0., 0., 0., 0., 1., 0., 0., 0.],\n",
      "       [0., 0., 0., 0., 0., 0., 0., 0., 0., 1., 0., 0.],\n",
      "       [0., 0., 0., 0., 0., 0., 0., 0., 0., 0., 1., 0.],\n",
      "       [0., 0., 0., 0., 0., 0., 0., 0., 0., 0., 0., 1.],\n",
      "       [1., 0., 0., 0., 0., 0., 0., 0., 0., 0., 0., 0.],\n",
      "       [0., 1., 0., 0., 0., 0., 0., 0., 0., 0., 0., 0.],\n",
      "       [0., 0., 1., 0., 0., 0., 0., 0., 0., 0., 0., 0.]], dtype=float32)>\n",
      "14 periodic_padding_13 <tf.Variable 'periodic_padding_13/M_mat:0' shape=(12, 6) dtype=float32, numpy=\n",
      "array([[0., 0., 0., 1., 0., 0.],\n",
      "       [0., 0., 0., 0., 1., 0.],\n",
      "       [0., 0., 0., 0., 0., 1.],\n",
      "       [1., 0., 0., 0., 0., 0.],\n",
      "       [0., 1., 0., 0., 0., 0.],\n",
      "       [0., 0., 1., 0., 0., 0.],\n",
      "       [0., 0., 0., 1., 0., 0.],\n",
      "       [0., 0., 0., 0., 1., 0.],\n",
      "       [0., 0., 0., 0., 0., 1.],\n",
      "       [1., 0., 0., 0., 0., 0.],\n",
      "       [0., 1., 0., 0., 0., 0.],\n",
      "       [0., 0., 1., 0., 0., 0.]], dtype=float32)>\n",
      "19 periodic_padding_14 <tf.Variable 'periodic_padding_14/M_mat:0' shape=(9, 3) dtype=float32, numpy=\n",
      "array([[1., 0., 0.],\n",
      "       [0., 1., 0.],\n",
      "       [0., 0., 1.],\n",
      "       [1., 0., 0.],\n",
      "       [0., 1., 0.],\n",
      "       [0., 0., 1.],\n",
      "       [1., 0., 0.],\n",
      "       [0., 1., 0.],\n",
      "       [0., 0., 1.]], dtype=float32)>\n"
     ]
    }
   ],
   "source": [
    "try:\n",
    "    for ks_i in range(ae_net.num_kernel_sizes):\n",
    "        for i in range(len(ae_net.encoder_layers_list[ks_i])):\n",
    "            l = ae_net.encoder_layers_list[ks_i][i]\n",
    "            name = str(l.name)\n",
    "            if name.startswith('periodic_padding'):\n",
    "                print(i, name, l.M_mat)\n",
    "except:\n",
    "    for i in range(len(ae_net.encoder_layers_list)):\n",
    "        l = ae_net.encoder_layers_list[i]\n",
    "        name = str(l.name)\n",
    "        if name.startswith('periodic_padding'):\n",
    "            print(i, name, l.M_mat)"
   ]
  },
  {
   "cell_type": "code",
   "execution_count": 47,
   "metadata": {},
   "outputs": [
    {
     "name": "stdout",
     "output_type": "stream",
     "text": [
      "0 periodic_padding_15 <tf.Variable 'periodic_padding_15/M_mat:0' shape=(5, 3) dtype=float32, numpy=\n",
      "array([[0., 0., 1.],\n",
      "       [1., 0., 0.],\n",
      "       [0., 1., 0.],\n",
      "       [0., 0., 1.],\n",
      "       [1., 0., 0.]], dtype=float32)>\n",
      "6 periodic_padding_16 <tf.Variable 'periodic_padding_16/M_mat:0' shape=(5, 3) dtype=float32, numpy=\n",
      "array([[0., 0., 1.],\n",
      "       [1., 0., 0.],\n",
      "       [0., 1., 0.],\n",
      "       [0., 0., 1.],\n",
      "       [1., 0., 0.]], dtype=float32)>\n",
      "12 periodic_padding_17 <tf.Variable 'periodic_padding_17/M_mat:0' shape=(8, 6) dtype=float32, numpy=\n",
      "array([[0., 0., 0., 0., 0., 1.],\n",
      "       [1., 0., 0., 0., 0., 0.],\n",
      "       [0., 1., 0., 0., 0., 0.],\n",
      "       [0., 0., 1., 0., 0., 0.],\n",
      "       [0., 0., 0., 1., 0., 0.],\n",
      "       [0., 0., 0., 0., 1., 0.],\n",
      "       [0., 0., 0., 0., 0., 1.],\n",
      "       [1., 0., 0., 0., 0., 0.]], dtype=float32)>\n",
      "17 periodic_padding_18 <tf.Variable 'periodic_padding_18/M_mat:0' shape=(14, 12) dtype=float32, numpy=\n",
      "array([[0., 0., 0., 0., 0., 0., 0., 0., 0., 0., 0., 1.],\n",
      "       [1., 0., 0., 0., 0., 0., 0., 0., 0., 0., 0., 0.],\n",
      "       [0., 1., 0., 0., 0., 0., 0., 0., 0., 0., 0., 0.],\n",
      "       [0., 0., 1., 0., 0., 0., 0., 0., 0., 0., 0., 0.],\n",
      "       [0., 0., 0., 1., 0., 0., 0., 0., 0., 0., 0., 0.],\n",
      "       [0., 0., 0., 0., 1., 0., 0., 0., 0., 0., 0., 0.],\n",
      "       [0., 0., 0., 0., 0., 1., 0., 0., 0., 0., 0., 0.],\n",
      "       [0., 0., 0., 0., 0., 0., 1., 0., 0., 0., 0., 0.],\n",
      "       [0., 0., 0., 0., 0., 0., 0., 1., 0., 0., 0., 0.],\n",
      "       [0., 0., 0., 0., 0., 0., 0., 0., 1., 0., 0., 0.],\n",
      "       [0., 0., 0., 0., 0., 0., 0., 0., 0., 1., 0., 0.],\n",
      "       [0., 0., 0., 0., 0., 0., 0., 0., 0., 0., 1., 0.],\n",
      "       [0., 0., 0., 0., 0., 0., 0., 0., 0., 0., 0., 1.],\n",
      "       [1., 0., 0., 0., 0., 0., 0., 0., 0., 0., 0., 0.]], dtype=float32)>\n",
      "22 periodic_padding_19 <tf.Variable 'periodic_padding_19/M_mat:0' shape=(26, 24) dtype=float32, numpy=\n",
      "array([[0., 0., 0., 0., 0., 0., 0., 0., 0., 0., 0., 0., 0., 0., 0., 0.,\n",
      "        0., 0., 0., 0., 0., 0., 0., 1.],\n",
      "       [1., 0., 0., 0., 0., 0., 0., 0., 0., 0., 0., 0., 0., 0., 0., 0.,\n",
      "        0., 0., 0., 0., 0., 0., 0., 0.],\n",
      "       [0., 1., 0., 0., 0., 0., 0., 0., 0., 0., 0., 0., 0., 0., 0., 0.,\n",
      "        0., 0., 0., 0., 0., 0., 0., 0.],\n",
      "       [0., 0., 1., 0., 0., 0., 0., 0., 0., 0., 0., 0., 0., 0., 0., 0.,\n",
      "        0., 0., 0., 0., 0., 0., 0., 0.],\n",
      "       [0., 0., 0., 1., 0., 0., 0., 0., 0., 0., 0., 0., 0., 0., 0., 0.,\n",
      "        0., 0., 0., 0., 0., 0., 0., 0.],\n",
      "       [0., 0., 0., 0., 1., 0., 0., 0., 0., 0., 0., 0., 0., 0., 0., 0.,\n",
      "        0., 0., 0., 0., 0., 0., 0., 0.],\n",
      "       [0., 0., 0., 0., 0., 1., 0., 0., 0., 0., 0., 0., 0., 0., 0., 0.,\n",
      "        0., 0., 0., 0., 0., 0., 0., 0.],\n",
      "       [0., 0., 0., 0., 0., 0., 1., 0., 0., 0., 0., 0., 0., 0., 0., 0.,\n",
      "        0., 0., 0., 0., 0., 0., 0., 0.],\n",
      "       [0., 0., 0., 0., 0., 0., 0., 1., 0., 0., 0., 0., 0., 0., 0., 0.,\n",
      "        0., 0., 0., 0., 0., 0., 0., 0.],\n",
      "       [0., 0., 0., 0., 0., 0., 0., 0., 1., 0., 0., 0., 0., 0., 0., 0.,\n",
      "        0., 0., 0., 0., 0., 0., 0., 0.],\n",
      "       [0., 0., 0., 0., 0., 0., 0., 0., 0., 1., 0., 0., 0., 0., 0., 0.,\n",
      "        0., 0., 0., 0., 0., 0., 0., 0.],\n",
      "       [0., 0., 0., 0., 0., 0., 0., 0., 0., 0., 1., 0., 0., 0., 0., 0.,\n",
      "        0., 0., 0., 0., 0., 0., 0., 0.],\n",
      "       [0., 0., 0., 0., 0., 0., 0., 0., 0., 0., 0., 1., 0., 0., 0., 0.,\n",
      "        0., 0., 0., 0., 0., 0., 0., 0.],\n",
      "       [0., 0., 0., 0., 0., 0., 0., 0., 0., 0., 0., 0., 1., 0., 0., 0.,\n",
      "        0., 0., 0., 0., 0., 0., 0., 0.],\n",
      "       [0., 0., 0., 0., 0., 0., 0., 0., 0., 0., 0., 0., 0., 1., 0., 0.,\n",
      "        0., 0., 0., 0., 0., 0., 0., 0.],\n",
      "       [0., 0., 0., 0., 0., 0., 0., 0., 0., 0., 0., 0., 0., 0., 1., 0.,\n",
      "        0., 0., 0., 0., 0., 0., 0., 0.],\n",
      "       [0., 0., 0., 0., 0., 0., 0., 0., 0., 0., 0., 0., 0., 0., 0., 1.,\n",
      "        0., 0., 0., 0., 0., 0., 0., 0.],\n",
      "       [0., 0., 0., 0., 0., 0., 0., 0., 0., 0., 0., 0., 0., 0., 0., 0.,\n",
      "        1., 0., 0., 0., 0., 0., 0., 0.],\n",
      "       [0., 0., 0., 0., 0., 0., 0., 0., 0., 0., 0., 0., 0., 0., 0., 0.,\n",
      "        0., 1., 0., 0., 0., 0., 0., 0.],\n",
      "       [0., 0., 0., 0., 0., 0., 0., 0., 0., 0., 0., 0., 0., 0., 0., 0.,\n",
      "        0., 0., 1., 0., 0., 0., 0., 0.],\n",
      "       [0., 0., 0., 0., 0., 0., 0., 0., 0., 0., 0., 0., 0., 0., 0., 0.,\n",
      "        0., 0., 0., 1., 0., 0., 0., 0.],\n",
      "       [0., 0., 0., 0., 0., 0., 0., 0., 0., 0., 0., 0., 0., 0., 0., 0.,\n",
      "        0., 0., 0., 0., 1., 0., 0., 0.],\n",
      "       [0., 0., 0., 0., 0., 0., 0., 0., 0., 0., 0., 0., 0., 0., 0., 0.,\n",
      "        0., 0., 0., 0., 0., 1., 0., 0.],\n",
      "       [0., 0., 0., 0., 0., 0., 0., 0., 0., 0., 0., 0., 0., 0., 0., 0.,\n",
      "        0., 0., 0., 0., 0., 0., 1., 0.],\n",
      "       [0., 0., 0., 0., 0., 0., 0., 0., 0., 0., 0., 0., 0., 0., 0., 0.,\n",
      "        0., 0., 0., 0., 0., 0., 0., 1.],\n",
      "       [1., 0., 0., 0., 0., 0., 0., 0., 0., 0., 0., 0., 0., 0., 0., 0.,\n",
      "        0., 0., 0., 0., 0., 0., 0., 0.]], dtype=float32)>\n",
      "0 periodic_padding_20 <tf.Variable 'periodic_padding_20/M_mat:0' shape=(7, 3) dtype=float32, numpy=\n",
      "array([[0., 1., 0.],\n",
      "       [0., 0., 1.],\n",
      "       [1., 0., 0.],\n",
      "       [0., 1., 0.],\n",
      "       [0., 0., 1.],\n",
      "       [1., 0., 0.],\n",
      "       [0., 1., 0.]], dtype=float32)>\n",
      "6 periodic_padding_21 <tf.Variable 'periodic_padding_21/M_mat:0' shape=(7, 3) dtype=float32, numpy=\n",
      "array([[0., 1., 0.],\n",
      "       [0., 0., 1.],\n",
      "       [1., 0., 0.],\n",
      "       [0., 1., 0.],\n",
      "       [0., 0., 1.],\n",
      "       [1., 0., 0.],\n",
      "       [0., 1., 0.]], dtype=float32)>\n",
      "12 periodic_padding_22 <tf.Variable 'periodic_padding_22/M_mat:0' shape=(10, 6) dtype=float32, numpy=\n",
      "array([[0., 0., 0., 0., 1., 0.],\n",
      "       [0., 0., 0., 0., 0., 1.],\n",
      "       [1., 0., 0., 0., 0., 0.],\n",
      "       [0., 1., 0., 0., 0., 0.],\n",
      "       [0., 0., 1., 0., 0., 0.],\n",
      "       [0., 0., 0., 1., 0., 0.],\n",
      "       [0., 0., 0., 0., 1., 0.],\n",
      "       [0., 0., 0., 0., 0., 1.],\n",
      "       [1., 0., 0., 0., 0., 0.],\n",
      "       [0., 1., 0., 0., 0., 0.]], dtype=float32)>\n",
      "17 periodic_padding_23 <tf.Variable 'periodic_padding_23/M_mat:0' shape=(16, 12) dtype=float32, numpy=\n",
      "array([[0., 0., 0., 0., 0., 0., 0., 0., 0., 0., 1., 0.],\n",
      "       [0., 0., 0., 0., 0., 0., 0., 0., 0., 0., 0., 1.],\n",
      "       [1., 0., 0., 0., 0., 0., 0., 0., 0., 0., 0., 0.],\n",
      "       [0., 1., 0., 0., 0., 0., 0., 0., 0., 0., 0., 0.],\n",
      "       [0., 0., 1., 0., 0., 0., 0., 0., 0., 0., 0., 0.],\n",
      "       [0., 0., 0., 1., 0., 0., 0., 0., 0., 0., 0., 0.],\n",
      "       [0., 0., 0., 0., 1., 0., 0., 0., 0., 0., 0., 0.],\n",
      "       [0., 0., 0., 0., 0., 1., 0., 0., 0., 0., 0., 0.],\n",
      "       [0., 0., 0., 0., 0., 0., 1., 0., 0., 0., 0., 0.],\n",
      "       [0., 0., 0., 0., 0., 0., 0., 1., 0., 0., 0., 0.],\n",
      "       [0., 0., 0., 0., 0., 0., 0., 0., 1., 0., 0., 0.],\n",
      "       [0., 0., 0., 0., 0., 0., 0., 0., 0., 1., 0., 0.],\n",
      "       [0., 0., 0., 0., 0., 0., 0., 0., 0., 0., 1., 0.],\n",
      "       [0., 0., 0., 0., 0., 0., 0., 0., 0., 0., 0., 1.],\n",
      "       [1., 0., 0., 0., 0., 0., 0., 0., 0., 0., 0., 0.],\n",
      "       [0., 1., 0., 0., 0., 0., 0., 0., 0., 0., 0., 0.]], dtype=float32)>\n",
      "22 periodic_padding_24 <tf.Variable 'periodic_padding_24/M_mat:0' shape=(28, 24) dtype=float32, numpy=\n",
      "array([[0., 0., 0., 0., 0., 0., 0., 0., 0., 0., 0., 0., 0., 0., 0., 0.,\n",
      "        0., 0., 0., 0., 0., 0., 1., 0.],\n",
      "       [0., 0., 0., 0., 0., 0., 0., 0., 0., 0., 0., 0., 0., 0., 0., 0.,\n",
      "        0., 0., 0., 0., 0., 0., 0., 1.],\n",
      "       [1., 0., 0., 0., 0., 0., 0., 0., 0., 0., 0., 0., 0., 0., 0., 0.,\n",
      "        0., 0., 0., 0., 0., 0., 0., 0.],\n",
      "       [0., 1., 0., 0., 0., 0., 0., 0., 0., 0., 0., 0., 0., 0., 0., 0.,\n",
      "        0., 0., 0., 0., 0., 0., 0., 0.],\n",
      "       [0., 0., 1., 0., 0., 0., 0., 0., 0., 0., 0., 0., 0., 0., 0., 0.,\n",
      "        0., 0., 0., 0., 0., 0., 0., 0.],\n",
      "       [0., 0., 0., 1., 0., 0., 0., 0., 0., 0., 0., 0., 0., 0., 0., 0.,\n",
      "        0., 0., 0., 0., 0., 0., 0., 0.],\n",
      "       [0., 0., 0., 0., 1., 0., 0., 0., 0., 0., 0., 0., 0., 0., 0., 0.,\n",
      "        0., 0., 0., 0., 0., 0., 0., 0.],\n",
      "       [0., 0., 0., 0., 0., 1., 0., 0., 0., 0., 0., 0., 0., 0., 0., 0.,\n",
      "        0., 0., 0., 0., 0., 0., 0., 0.],\n",
      "       [0., 0., 0., 0., 0., 0., 1., 0., 0., 0., 0., 0., 0., 0., 0., 0.,\n",
      "        0., 0., 0., 0., 0., 0., 0., 0.],\n",
      "       [0., 0., 0., 0., 0., 0., 0., 1., 0., 0., 0., 0., 0., 0., 0., 0.,\n",
      "        0., 0., 0., 0., 0., 0., 0., 0.],\n",
      "       [0., 0., 0., 0., 0., 0., 0., 0., 1., 0., 0., 0., 0., 0., 0., 0.,\n",
      "        0., 0., 0., 0., 0., 0., 0., 0.],\n",
      "       [0., 0., 0., 0., 0., 0., 0., 0., 0., 1., 0., 0., 0., 0., 0., 0.,\n",
      "        0., 0., 0., 0., 0., 0., 0., 0.],\n",
      "       [0., 0., 0., 0., 0., 0., 0., 0., 0., 0., 1., 0., 0., 0., 0., 0.,\n",
      "        0., 0., 0., 0., 0., 0., 0., 0.],\n",
      "       [0., 0., 0., 0., 0., 0., 0., 0., 0., 0., 0., 1., 0., 0., 0., 0.,\n",
      "        0., 0., 0., 0., 0., 0., 0., 0.],\n",
      "       [0., 0., 0., 0., 0., 0., 0., 0., 0., 0., 0., 0., 1., 0., 0., 0.,\n",
      "        0., 0., 0., 0., 0., 0., 0., 0.],\n",
      "       [0., 0., 0., 0., 0., 0., 0., 0., 0., 0., 0., 0., 0., 1., 0., 0.,\n",
      "        0., 0., 0., 0., 0., 0., 0., 0.],\n",
      "       [0., 0., 0., 0., 0., 0., 0., 0., 0., 0., 0., 0., 0., 0., 1., 0.,\n",
      "        0., 0., 0., 0., 0., 0., 0., 0.],\n",
      "       [0., 0., 0., 0., 0., 0., 0., 0., 0., 0., 0., 0., 0., 0., 0., 1.,\n",
      "        0., 0., 0., 0., 0., 0., 0., 0.],\n",
      "       [0., 0., 0., 0., 0., 0., 0., 0., 0., 0., 0., 0., 0., 0., 0., 0.,\n",
      "        1., 0., 0., 0., 0., 0., 0., 0.],\n",
      "       [0., 0., 0., 0., 0., 0., 0., 0., 0., 0., 0., 0., 0., 0., 0., 0.,\n",
      "        0., 1., 0., 0., 0., 0., 0., 0.],\n",
      "       [0., 0., 0., 0., 0., 0., 0., 0., 0., 0., 0., 0., 0., 0., 0., 0.,\n",
      "        0., 0., 1., 0., 0., 0., 0., 0.],\n",
      "       [0., 0., 0., 0., 0., 0., 0., 0., 0., 0., 0., 0., 0., 0., 0., 0.,\n",
      "        0., 0., 0., 1., 0., 0., 0., 0.],\n",
      "       [0., 0., 0., 0., 0., 0., 0., 0., 0., 0., 0., 0., 0., 0., 0., 0.,\n",
      "        0., 0., 0., 0., 1., 0., 0., 0.],\n",
      "       [0., 0., 0., 0., 0., 0., 0., 0., 0., 0., 0., 0., 0., 0., 0., 0.,\n",
      "        0., 0., 0., 0., 0., 1., 0., 0.],\n",
      "       [0., 0., 0., 0., 0., 0., 0., 0., 0., 0., 0., 0., 0., 0., 0., 0.,\n",
      "        0., 0., 0., 0., 0., 0., 1., 0.],\n",
      "       [0., 0., 0., 0., 0., 0., 0., 0., 0., 0., 0., 0., 0., 0., 0., 0.,\n",
      "        0., 0., 0., 0., 0., 0., 0., 1.],\n",
      "       [1., 0., 0., 0., 0., 0., 0., 0., 0., 0., 0., 0., 0., 0., 0., 0.,\n",
      "        0., 0., 0., 0., 0., 0., 0., 0.],\n",
      "       [0., 1., 0., 0., 0., 0., 0., 0., 0., 0., 0., 0., 0., 0., 0., 0.,\n",
      "        0., 0., 0., 0., 0., 0., 0., 0.]], dtype=float32)>\n",
      "0 periodic_padding_25 <tf.Variable 'periodic_padding_25/M_mat:0' shape=(9, 3) dtype=float32, numpy=\n",
      "array([[1., 0., 0.],\n",
      "       [0., 1., 0.],\n",
      "       [0., 0., 1.],\n",
      "       [1., 0., 0.],\n",
      "       [0., 1., 0.],\n",
      "       [0., 0., 1.],\n",
      "       [1., 0., 0.],\n",
      "       [0., 1., 0.],\n",
      "       [0., 0., 1.]], dtype=float32)>\n",
      "6 periodic_padding_26 <tf.Variable 'periodic_padding_26/M_mat:0' shape=(9, 3) dtype=float32, numpy=\n",
      "array([[1., 0., 0.],\n",
      "       [0., 1., 0.],\n",
      "       [0., 0., 1.],\n",
      "       [1., 0., 0.],\n",
      "       [0., 1., 0.],\n",
      "       [0., 0., 1.],\n",
      "       [1., 0., 0.],\n",
      "       [0., 1., 0.],\n",
      "       [0., 0., 1.]], dtype=float32)>\n",
      "12 periodic_padding_27 <tf.Variable 'periodic_padding_27/M_mat:0' shape=(12, 6) dtype=float32, numpy=\n",
      "array([[0., 0., 0., 1., 0., 0.],\n",
      "       [0., 0., 0., 0., 1., 0.],\n",
      "       [0., 0., 0., 0., 0., 1.],\n",
      "       [1., 0., 0., 0., 0., 0.],\n",
      "       [0., 1., 0., 0., 0., 0.],\n",
      "       [0., 0., 1., 0., 0., 0.],\n",
      "       [0., 0., 0., 1., 0., 0.],\n",
      "       [0., 0., 0., 0., 1., 0.],\n",
      "       [0., 0., 0., 0., 0., 1.],\n",
      "       [1., 0., 0., 0., 0., 0.],\n",
      "       [0., 1., 0., 0., 0., 0.],\n",
      "       [0., 0., 1., 0., 0., 0.]], dtype=float32)>\n",
      "17 periodic_padding_28 <tf.Variable 'periodic_padding_28/M_mat:0' shape=(18, 12) dtype=float32, numpy=\n",
      "array([[0., 0., 0., 0., 0., 0., 0., 0., 0., 1., 0., 0.],\n",
      "       [0., 0., 0., 0., 0., 0., 0., 0., 0., 0., 1., 0.],\n",
      "       [0., 0., 0., 0., 0., 0., 0., 0., 0., 0., 0., 1.],\n",
      "       [1., 0., 0., 0., 0., 0., 0., 0., 0., 0., 0., 0.],\n",
      "       [0., 1., 0., 0., 0., 0., 0., 0., 0., 0., 0., 0.],\n",
      "       [0., 0., 1., 0., 0., 0., 0., 0., 0., 0., 0., 0.],\n",
      "       [0., 0., 0., 1., 0., 0., 0., 0., 0., 0., 0., 0.],\n",
      "       [0., 0., 0., 0., 1., 0., 0., 0., 0., 0., 0., 0.],\n",
      "       [0., 0., 0., 0., 0., 1., 0., 0., 0., 0., 0., 0.],\n",
      "       [0., 0., 0., 0., 0., 0., 1., 0., 0., 0., 0., 0.],\n",
      "       [0., 0., 0., 0., 0., 0., 0., 1., 0., 0., 0., 0.],\n",
      "       [0., 0., 0., 0., 0., 0., 0., 0., 1., 0., 0., 0.],\n",
      "       [0., 0., 0., 0., 0., 0., 0., 0., 0., 1., 0., 0.],\n",
      "       [0., 0., 0., 0., 0., 0., 0., 0., 0., 0., 1., 0.],\n",
      "       [0., 0., 0., 0., 0., 0., 0., 0., 0., 0., 0., 1.],\n",
      "       [1., 0., 0., 0., 0., 0., 0., 0., 0., 0., 0., 0.],\n",
      "       [0., 1., 0., 0., 0., 0., 0., 0., 0., 0., 0., 0.],\n",
      "       [0., 0., 1., 0., 0., 0., 0., 0., 0., 0., 0., 0.]], dtype=float32)>\n",
      "22 periodic_padding_29 <tf.Variable 'periodic_padding_29/M_mat:0' shape=(30, 24) dtype=float32, numpy=\n",
      "array([[0., 0., 0., 0., 0., 0., 0., 0., 0., 0., 0., 0., 0., 0., 0., 0.,\n",
      "        0., 0., 0., 0., 0., 1., 0., 0.],\n",
      "       [0., 0., 0., 0., 0., 0., 0., 0., 0., 0., 0., 0., 0., 0., 0., 0.,\n",
      "        0., 0., 0., 0., 0., 0., 1., 0.],\n",
      "       [0., 0., 0., 0., 0., 0., 0., 0., 0., 0., 0., 0., 0., 0., 0., 0.,\n",
      "        0., 0., 0., 0., 0., 0., 0., 1.],\n",
      "       [1., 0., 0., 0., 0., 0., 0., 0., 0., 0., 0., 0., 0., 0., 0., 0.,\n",
      "        0., 0., 0., 0., 0., 0., 0., 0.],\n",
      "       [0., 1., 0., 0., 0., 0., 0., 0., 0., 0., 0., 0., 0., 0., 0., 0.,\n",
      "        0., 0., 0., 0., 0., 0., 0., 0.],\n",
      "       [0., 0., 1., 0., 0., 0., 0., 0., 0., 0., 0., 0., 0., 0., 0., 0.,\n",
      "        0., 0., 0., 0., 0., 0., 0., 0.],\n",
      "       [0., 0., 0., 1., 0., 0., 0., 0., 0., 0., 0., 0., 0., 0., 0., 0.,\n",
      "        0., 0., 0., 0., 0., 0., 0., 0.],\n",
      "       [0., 0., 0., 0., 1., 0., 0., 0., 0., 0., 0., 0., 0., 0., 0., 0.,\n",
      "        0., 0., 0., 0., 0., 0., 0., 0.],\n",
      "       [0., 0., 0., 0., 0., 1., 0., 0., 0., 0., 0., 0., 0., 0., 0., 0.,\n",
      "        0., 0., 0., 0., 0., 0., 0., 0.],\n",
      "       [0., 0., 0., 0., 0., 0., 1., 0., 0., 0., 0., 0., 0., 0., 0., 0.,\n",
      "        0., 0., 0., 0., 0., 0., 0., 0.],\n",
      "       [0., 0., 0., 0., 0., 0., 0., 1., 0., 0., 0., 0., 0., 0., 0., 0.,\n",
      "        0., 0., 0., 0., 0., 0., 0., 0.],\n",
      "       [0., 0., 0., 0., 0., 0., 0., 0., 1., 0., 0., 0., 0., 0., 0., 0.,\n",
      "        0., 0., 0., 0., 0., 0., 0., 0.],\n",
      "       [0., 0., 0., 0., 0., 0., 0., 0., 0., 1., 0., 0., 0., 0., 0., 0.,\n",
      "        0., 0., 0., 0., 0., 0., 0., 0.],\n",
      "       [0., 0., 0., 0., 0., 0., 0., 0., 0., 0., 1., 0., 0., 0., 0., 0.,\n",
      "        0., 0., 0., 0., 0., 0., 0., 0.],\n",
      "       [0., 0., 0., 0., 0., 0., 0., 0., 0., 0., 0., 1., 0., 0., 0., 0.,\n",
      "        0., 0., 0., 0., 0., 0., 0., 0.],\n",
      "       [0., 0., 0., 0., 0., 0., 0., 0., 0., 0., 0., 0., 1., 0., 0., 0.,\n",
      "        0., 0., 0., 0., 0., 0., 0., 0.],\n",
      "       [0., 0., 0., 0., 0., 0., 0., 0., 0., 0., 0., 0., 0., 1., 0., 0.,\n",
      "        0., 0., 0., 0., 0., 0., 0., 0.],\n",
      "       [0., 0., 0., 0., 0., 0., 0., 0., 0., 0., 0., 0., 0., 0., 1., 0.,\n",
      "        0., 0., 0., 0., 0., 0., 0., 0.],\n",
      "       [0., 0., 0., 0., 0., 0., 0., 0., 0., 0., 0., 0., 0., 0., 0., 1.,\n",
      "        0., 0., 0., 0., 0., 0., 0., 0.],\n",
      "       [0., 0., 0., 0., 0., 0., 0., 0., 0., 0., 0., 0., 0., 0., 0., 0.,\n",
      "        1., 0., 0., 0., 0., 0., 0., 0.],\n",
      "       [0., 0., 0., 0., 0., 0., 0., 0., 0., 0., 0., 0., 0., 0., 0., 0.,\n",
      "        0., 1., 0., 0., 0., 0., 0., 0.],\n",
      "       [0., 0., 0., 0., 0., 0., 0., 0., 0., 0., 0., 0., 0., 0., 0., 0.,\n",
      "        0., 0., 1., 0., 0., 0., 0., 0.],\n",
      "       [0., 0., 0., 0., 0., 0., 0., 0., 0., 0., 0., 0., 0., 0., 0., 0.,\n",
      "        0., 0., 0., 1., 0., 0., 0., 0.],\n",
      "       [0., 0., 0., 0., 0., 0., 0., 0., 0., 0., 0., 0., 0., 0., 0., 0.,\n",
      "        0., 0., 0., 0., 1., 0., 0., 0.],\n",
      "       [0., 0., 0., 0., 0., 0., 0., 0., 0., 0., 0., 0., 0., 0., 0., 0.,\n",
      "        0., 0., 0., 0., 0., 1., 0., 0.],\n",
      "       [0., 0., 0., 0., 0., 0., 0., 0., 0., 0., 0., 0., 0., 0., 0., 0.,\n",
      "        0., 0., 0., 0., 0., 0., 1., 0.],\n",
      "       [0., 0., 0., 0., 0., 0., 0., 0., 0., 0., 0., 0., 0., 0., 0., 0.,\n",
      "        0., 0., 0., 0., 0., 0., 0., 1.],\n",
      "       [1., 0., 0., 0., 0., 0., 0., 0., 0., 0., 0., 0., 0., 0., 0., 0.,\n",
      "        0., 0., 0., 0., 0., 0., 0., 0.],\n",
      "       [0., 1., 0., 0., 0., 0., 0., 0., 0., 0., 0., 0., 0., 0., 0., 0.,\n",
      "        0., 0., 0., 0., 0., 0., 0., 0.],\n",
      "       [0., 0., 1., 0., 0., 0., 0., 0., 0., 0., 0., 0., 0., 0., 0., 0.,\n",
      "        0., 0., 0., 0., 0., 0., 0., 0.]], dtype=float32)>\n"
     ]
    }
   ],
   "source": [
    "try:\n",
    "    for ks_i in range(ae_net.num_kernel_sizes):\n",
    "        for i in range(len(ae_net.decoder_layers_list[ks_i])):\n",
    "            l = ae_net.decoder_layers_list[ks_i][i]\n",
    "            name = str(l.name)\n",
    "            if name.startswith('periodic_padding'):\n",
    "                print(i, name, l.M_mat)\n",
    "except:\n",
    "    for i in range(len(ae_net.decoder_layers_list)):\n",
    "        l = ae_net.decoder_layers_list[i]\n",
    "        name = str(l.name)\n",
    "        if name.startswith('periodic_padding'):\n",
    "            print(i, name, l.M_mat)"
   ]
  },
  {
   "cell_type": "code",
   "execution_count": null,
   "metadata": {},
   "outputs": [],
   "source": []
  },
  {
   "cell_type": "code",
   "execution_count": null,
   "metadata": {},
   "outputs": [],
   "source": []
  },
  {
   "cell_type": "code",
   "execution_count": null,
   "metadata": {},
   "outputs": [],
   "source": []
  },
  {
   "cell_type": "code",
   "execution_count": null,
   "metadata": {},
   "outputs": [],
   "source": []
  }
 ],
 "metadata": {
  "colab": {
   "collapsed_sections": [],
   "provenance": []
  },
  "gpuClass": "standard",
  "kernelspec": {
   "display_name": "Python 3 (ipykernel)",
   "language": "python",
   "name": "python3"
  },
  "language_info": {
   "codemirror_mode": {
    "name": "ipython",
    "version": 3
   },
   "file_extension": ".py",
   "mimetype": "text/x-python",
   "name": "python",
   "nbconvert_exporter": "python",
   "pygments_lexer": "ipython3",
   "version": "3.10.6"
  }
 },
 "nbformat": 4,
 "nbformat_minor": 1
}
