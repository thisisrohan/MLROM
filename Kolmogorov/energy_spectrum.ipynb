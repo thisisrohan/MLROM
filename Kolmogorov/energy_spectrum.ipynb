{
 "cells": [
  {
   "cell_type": "code",
   "execution_count": 1,
   "id": "82ab0645",
   "metadata": {},
   "outputs": [],
   "source": [
    "import numpy as np\n",
    "import matplotlib.pyplot as plt\n",
    "import h5py\n",
    "import os"
   ]
  },
  {
   "cell_type": "code",
   "execution_count": 19,
   "id": "52bf57ec",
   "metadata": {},
   "outputs": [],
   "source": [
    "plt.rcParams.update({'text.usetex':True})"
   ]
  },
  {
   "cell_type": "code",
   "execution_count": 2,
   "id": "016ae3f1",
   "metadata": {},
   "outputs": [],
   "source": [
    "# np.log10(22/14)"
   ]
  },
  {
   "cell_type": "code",
   "execution_count": 3,
   "id": "3e548076",
   "metadata": {},
   "outputs": [],
   "source": [
    "################################################################################\n",
    "################################# READING DATA #################################\n",
    "################################################################################\n",
    "dir_name = os.getcwd() + '/saved_data/data_001'\n",
    "\n",
    "fln = dir_name + '/data.h5'\n",
    "# fln = dir_name + '/Kolmogorov_Re30.0_T25000.0_dt0.01_N16.h5'"
   ]
  },
  {
   "cell_type": "code",
   "execution_count": 4,
   "id": "d6916836",
   "metadata": {},
   "outputs": [
    {
     "name": "stdout",
     "output_type": "stream",
     "text": [
      "16 <class 'int'>\n"
     ]
    }
   ],
   "source": [
    "with h5py.File(fln, 'r') as f:\n",
    "    t_recorded_samples = np.array(f['t'])\n",
    "    snapshot_idx = int(t_recorded_samples.shape[0] / 2)\n",
    "    \n",
    "    N = int(0.5*(np.array(f['num_wavenumbers'])-1))\n",
    "    print(N, type(N))\n",
    "\n",
    "    D = np.array(f['Dissipation'])\n",
    "\n",
    "    # u_ref = np.array(f['u_reference'])\n",
    "    # u_mean = np.sum(u_ref, axis=0) / u_ref.shape[0]\n",
    "    # u_snapshot = u_ref[snapshot_idx].copy()\n",
    "    # del(u_ref)\n",
    "    # v_ref = np.array(f['v_reference'])\n",
    "    # v_mean = np.sum(v_ref, axis=0) / v_ref.shape[0]\n",
    "    # v_snapshot = v_ref[snapshot_idx].copy()\n",
    "    # del(v_ref)\n",
    "    # vort_ref = np.array(f['vort_reference'])\n",
    "    # vort_mean = np.sum(vort_ref, axis=0) / vort_ref.shape[0]\n",
    "    # vort_snapshot = vort_ref[snapshot_idx].copy()\n",
    "    # del(vort_ref)\n",
    "    \n",
    "    uh = np.empty(shape=(len(t_recorded_samples), 2*N+1, 2*N+1), dtype=np.complex128)\n",
    "    uh[:, :, N:] = np.array(f['uh'])\n",
    "    uh[:, 0:N, 0:N] = np.conjugate(uh[:, N+1:, N+1:][:, ::-1, ::-1])\n",
    "    uh[:, N+1:, 0:N] = np.conjugate(uh[:, 0:N, N+1:][:, ::-1, ::-1])\n",
    "    # uh = np.array(f['uh'])\n",
    "    # print(uh.shape)\n",
    "    \n",
    "    vh = np.empty(shape=(len(t_recorded_samples), 2*N+1, 2*N+1), dtype=np.complex128)\n",
    "    vh[:, :, N:] = np.array(f['vh'])\n",
    "    vh[:, 0:N, 0:N] = np.conjugate(vh[:, N+1:, N+1:][:, ::-1, ::-1])\n",
    "    vh[:, N+1:, 0:N] = np.conjugate(vh[:, 0:N, N+1:][:, ::-1, ::-1])\n",
    "    \n",
    "    \n",
    "    # u_mean_org = np.mean(u, axis=0) # np.sum(u, axis=0) / u.shape[0]\n",
    "    # v = np.array(f['v'])\n",
    "    # v_mean_org = np.mean(v, axis=0) # np.sum(v, axis=0) / v.shape[0]\n",
    "\n",
    "T = t_recorded_samples[-1]\n",
    "\n",
    "# print('mean(u**2) : {}'.format(np.mean(u**2)))\n",
    "# print('mean(v**2) : {}'.format(np.mean(v**2)))\n",
    "\n",
    "# print('mean(u_mean_org**2) : {}'.format(np.mean(u_mean_org**2)))\n",
    "# print('mean(v_mean_org**2) : {}'.format(np.mean(v_mean_org**2)))"
   ]
  },
  {
   "cell_type": "code",
   "execution_count": 5,
   "id": "2bc41ea1",
   "metadata": {},
   "outputs": [],
   "source": [
    "################################################################################\n",
    "######################## COMPUTING REQUIRED QUANTITIES #########################\n",
    "################################################################################\n",
    "\n",
    "### computing KE\n",
    "# u_prime = u - u_mean_org\n",
    "# v_prime = v - v_mean_org\n",
    "\n",
    "# print('mean(u_prime**2) : {}'.format(np.mean(u_prime**2)))\n",
    "# print('mean(v_prime**2) : {}'.format(np.mean(v_prime**2)))\n",
    "\n",
    "# K = np.mean(0.5*(u_prime**2 + v_prime**2), axis=-1) # TKE\n",
    "# K = 0.5*np.mean(K, axis=-1)\n",
    "\n",
    "# uh = np.fft.fftshift(np.fft.fft2(u_prime))\n",
    "# # del(u_prime)\n",
    "# del(u)\n",
    "# vh = np.fft.fftshift(np.fft.fft2(v_prime))\n",
    "# # del(v_prime)\n",
    "# del(v)\n",
    "def aap(f1, f2):\n",
    "    # anti-aliased product\n",
    "    N = int(0.5*(f1.shape[-1]-1))\n",
    "    ndim = f1.ndim\n",
    "    assert ndim < 4, 'input dimensions is greater than 3.'\n",
    "    if ndim == 2:\n",
    "        # f1_h, f2_h = np.expand_dims(f1, axis=0).copy(), np.expand_dims(f2, axis=0).copy()\n",
    "        f1_h, f2_h = np.expand_dims(f1.copy(), axis=0), np.expand_dims(f2.copy(), axis=0)\n",
    "    elif ndim == 3:\n",
    "        f1_h, f2_h = f1.copy(), f2.copy()\n",
    "    \n",
    "    sz2 = 4*N + 1\n",
    "    ff1_h = np.zeros((f1_h.shape[0], sz2, sz2), dtype=np.complex128)\n",
    "    ff2_h = np.zeros((f2_h.shape[0], sz2, sz2), dtype=np.complex128)\n",
    "\n",
    "    idx1, idx2 = N, 3*N + 1\n",
    "    ff1_h[:, idx1:idx2, idx1:idx2] = f1_h\n",
    "    ff2_h[:, idx1:idx2, idx1:idx2] = f2_h\n",
    "\n",
    "    ff1 = np.fft.irfft2(np.fft.ifftshift(ff1_h), s=ff1_h.shape[-2:])\n",
    "    ff2 = np.fft.irfft2(np.fft.ifftshift(ff2_h), s=ff2_h.shape[-2:])          # must take real part or use irfft2\n",
    "\n",
    "    pp_h = (sz2/f1.shape[-1])**2 * np.fft.fft2(ff1*ff2)\n",
    "    pp_h = np.fft.fftshift(pp_h)\n",
    "\n",
    "    p_h = pp_h[:, idx1:idx2, idx1:idx2]\n",
    "\n",
    "    if ndim == 2:\n",
    "        p_h = p_h[0,:,:]\n",
    "\n",
    "    return p_h\n",
    "\n",
    "# Ehat = 0.5 * (aap(uh, uh) + aap(vh, vh))\n",
    "# # Ehat = 0.5 * (np.abs(uh)**2 + np.abs(vh)**2)\n",
    "# # Ehat = 0.5*np.fft.fftshift(np.fft.fft2(u_prime**2 + v_prime**2))\n",
    "# Ehat_mean_abs = np.mean(np.abs(Ehat), axis=0)\n",
    "# del(Ehat)\n",
    "\n",
    "Ehat = 0.5 * (np.abs(uh)**2 + np.abs(vh)**2)"
   ]
  },
  {
   "cell_type": "code",
   "execution_count": 6,
   "id": "d8941996",
   "metadata": {},
   "outputs": [],
   "source": [
    "Ehat_mean_abs = np.mean(np.abs(Ehat), axis=0)\n",
    "del(Ehat)"
   ]
  },
  {
   "cell_type": "code",
   "execution_count": 7,
   "id": "b7076c7a",
   "metadata": {},
   "outputs": [
    {
     "name": "stdout",
     "output_type": "stream",
     "text": [
      "[False False False False False False False False False False False False\n",
      " False False False False False False False False False False False False]\n",
      "[ True  True  True  True  True  True  True  True  True  True  True  True\n",
      "  True  True  True  True  True  True  True  True  True  True  True  True]\n"
     ]
    }
   ],
   "source": [
    "N = int(0.5*(uh.shape[-1]-1))\n",
    "domain_len = 2*np.pi\n",
    "\n",
    "dk = 2*np.pi / domain_len\n",
    "n = np.arange(-N, N+1) # *dk\n",
    "\n",
    "nn1, nn2 = np.meshgrid(n, n)\n",
    "nn = nn1**2 + nn2**2\n",
    "\n",
    "num_n = 1 + int( np.round((N**2 + N**2)**0.5) )\n",
    "energy_spectrum = np.zeros(shape=num_n)\n",
    "bool_arr = np.zeros(shape=num_n, dtype=np.bool_)\n",
    "print(bool_arr)\n",
    "num_elems = 1\n",
    "for i in range(2*N+1):\n",
    "    for j in range(2*N+1):\n",
    "        e = Ehat_mean_abs[i, j]\n",
    "        idx = int( np.round(nn[i, j]**0.5) )\n",
    "        energy_spectrum[idx] += e\n",
    "        bool_arr[idx] = True\n",
    "print(bool_arr)"
   ]
  },
  {
   "cell_type": "code",
   "execution_count": 8,
   "id": "18c81c98",
   "metadata": {},
   "outputs": [],
   "source": [
    "# for i in range(len(k)):\n",
    "#     for j in range(len(k)):\n",
    "#         e = Ehat_mean_abs[i, j]\n",
    "#         idx = np.where(energy_spec_kk == kk[i, j])[0]\n",
    "#         if len(idx) > 1:\n",
    "#             print(i, j, idx)\n",
    "#         energy_spectrum[idx] += e"
   ]
  },
  {
   "cell_type": "code",
   "execution_count": 9,
   "id": "1cdce7a1",
   "metadata": {},
   "outputs": [],
   "source": [
    "# energy_spec_kk[[61, 85]]\n",
    "# kk[2, 11]"
   ]
  },
  {
   "cell_type": "code",
   "execution_count": 10,
   "id": "6acef567",
   "metadata": {},
   "outputs": [
    {
     "data": {
      "text/plain": [
       "0.0"
      ]
     },
     "execution_count": 10,
     "metadata": {},
     "output_type": "execute_result"
    }
   ],
   "source": [
    "Ehat_mean_abs[N, N]"
   ]
  },
  {
   "cell_type": "code",
   "execution_count": 11,
   "id": "1d4cfed6",
   "metadata": {},
   "outputs": [
    {
     "data": {
      "text/plain": [
       "array([0.+0.j, 0.+0.j, 0.+0.j, ..., 0.+0.j, 0.+0.j, 0.+0.j])"
      ]
     },
     "execution_count": 11,
     "metadata": {},
     "output_type": "execute_result"
    }
   ],
   "source": [
    "uh[:, N, N]"
   ]
  },
  {
   "cell_type": "code",
   "execution_count": 12,
   "id": "8c84941e",
   "metadata": {},
   "outputs": [
    {
     "data": {
      "text/plain": [
       "array([0.+0.j, 0.+0.j, 0.+0.j, ..., 0.+0.j, 0.+0.j, 0.+0.j])"
      ]
     },
     "execution_count": 12,
     "metadata": {},
     "output_type": "execute_result"
    }
   ],
   "source": [
    "vh[:, N, N]"
   ]
  },
  {
   "cell_type": "code",
   "execution_count": 13,
   "id": "e53107cf",
   "metadata": {},
   "outputs": [],
   "source": [
    "# idx_sort = np.argsort(energy_spec_kk)\n",
    "# energy_spec_kk = energy_spec_kk[idx_sort]**0.5\n",
    "# energy_spectrum = energy_spectrum[idx_sort]"
   ]
  },
  {
   "cell_type": "code",
   "execution_count": 20,
   "id": "0df9627b",
   "metadata": {},
   "outputs": [
    {
     "data": {
      "image/png": "[encoded data removed]",
      "text/plain": [
       "<Figure size 640x480 with 1 Axes>"
      ]
     },
     "metadata": {},
     "output_type": "display_data"
    }
   ],
   "source": [
    "# kfit1 = 10\n",
    "# kfit2 = 18\n",
    "\n",
    "# temp = np.abs(energy_spec_kk - kfit1)\n",
    "# idx1 = np.where(temp == np.min(temp))[0][0]\n",
    "# temp = np.abs(energy_spec_kk - kfit2)\n",
    "# idx2 = np.where(temp == np.min(temp))[0][0]\n",
    "\n",
    "# coeffs = np.polyfit(np.log10(energy_spec_kk[idx1:idx2+1]), np.log10(energy_spectrum[idx1:idx2+1]), deg=1)\n",
    "# a = coeffs[0]\n",
    "# b = coeffs[1]\n",
    "\n",
    "# xplot = np.linspace(5.5, 25, 100)\n",
    "# yplot = (10**b) * (xplot**a)\n",
    "\n",
    "# plt.loglog(energy_spec_kk, energy_spectrum, label='_nolegend_', linewidth=0.8)\n",
    "# plt.loglog(xplot, yplot, '--', color='r', label='slope = {:.3f}'.format(a))\n",
    "xEhat_plot = np.arange(num_n)[1:]\n",
    "yEhat_plot = energy_spectrum[1:] / np.sum(energy_spectrum)\n",
    "# yEhat_plot = Ehat_mean_abs[N+1:, N]\n",
    "plt.semilogy(xEhat_plot, yEhat_plot, '-', marker='o', label='_nolegend_', linewidth=0.95)\n",
    "plt.grid(True)\n",
    "# plt.legend()\n",
    "plt.xlabel(r'$k$')\n",
    "plt.ylabel(r'$E(k)$')\n",
    "plt.ylim(None, 5.)\n",
    "# plt.xlim(None, 25)\n",
    "# plt.savefig(fln[0:-3]+'-energy_spec-NEW.png', dpi=300, bbox_inches='tight')\n",
    "plt.show()"
   ]
  },
  {
   "cell_type": "code",
   "execution_count": 15,
   "id": "19028f71",
   "metadata": {},
   "outputs": [
    {
     "data": {
      "text/plain": [
       "409818.5022494977"
      ]
     },
     "execution_count": 15,
     "metadata": {},
     "output_type": "execute_result"
    }
   ],
   "source": [
    "np.sum(energy_spectrum)"
   ]
  },
  {
   "cell_type": "code",
   "execution_count": 16,
   "id": "86f6629b",
   "metadata": {},
   "outputs": [
    {
     "data": {
      "text/plain": [
       "409818.5022494977"
      ]
     },
     "execution_count": 16,
     "metadata": {},
     "output_type": "execute_result"
    }
   ],
   "source": [
    "np.sum(energy_spectrum)"
   ]
  },
  {
   "cell_type": "code",
   "execution_count": 17,
   "id": "38df073a",
   "metadata": {},
   "outputs": [
    {
     "data": {
      "text/plain": [
       "0.0"
      ]
     },
     "execution_count": 17,
     "metadata": {},
     "output_type": "execute_result"
    }
   ],
   "source": [
    "energy_spectrum[0]"
   ]
  },
  {
   "cell_type": "code",
   "execution_count": null,
   "id": "1dbe1140",
   "metadata": {},
   "outputs": [],
   "source": []
  }
 ],
 "metadata": {
  "kernelspec": {
   "display_name": "Python 3 (ipykernel)",
   "language": "python",
   "name": "python3"
  },
  "language_info": {
   "codemirror_mode": {
    "name": "ipython",
    "version": 3
   },
   "file_extension": ".py",
   "mimetype": "text/x-python",
   "name": "python",
   "nbconvert_exporter": "python",
   "pygments_lexer": "ipython3",
   "version": "3.10.6"
  }
 },
 "nbformat": 4,
 "nbformat_minor": 5
}
