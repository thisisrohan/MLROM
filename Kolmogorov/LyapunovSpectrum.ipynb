{
 "cells": [
  {
   "cell_type": "code",
   "execution_count": 1,
   "id": "c6a21692",
   "metadata": {},
   "outputs": [],
   "source": [
    "import os\n",
    "import math\n",
    "import numpy as np\n",
    "import matplotlib.pyplot as plt\n",
    "from scipy import linalg\n",
    "\n",
    "import time as time\n",
    "import platform as platform\n",
    "\n",
    "import h5py"
   ]
  },
  {
   "cell_type": "code",
   "execution_count": 2,
   "id": "ff53780b",
   "metadata": {},
   "outputs": [],
   "source": [
    "dir_sep = '/'"
   ]
  },
  {
   "cell_type": "code",
   "execution_count": 3,
   "id": "8bd37a10",
   "metadata": {},
   "outputs": [],
   "source": [
    "from tools.misc_tools import compute_lyapunov_spectrum\n",
    "from tools.lyapspec_computation_func import create_Kol_data_for_lyap, Kol2D_odd"
   ]
  },
  {
   "cell_type": "code",
   "execution_count": 4,
   "id": "e46b5a7d",
   "metadata": {},
   "outputs": [
    {
     "name": "stdout",
     "output_type": "stream",
     "text": [
      "/home/rkaushik/Documents/Thesis/MLROM/Kolmogorov\n"
     ]
    }
   ],
   "source": [
    "print(os.getcwd())"
   ]
  },
  {
   "cell_type": "code",
   "execution_count": 5,
   "id": "2ca62e5b",
   "metadata": {},
   "outputs": [],
   "source": [
    "FTYPE = np.float64\n",
    "ITYPE = np.int64"
   ]
  },
  {
   "cell_type": "code",
   "execution_count": 6,
   "id": "55c270f5",
   "metadata": {},
   "outputs": [
    {
     "name": "stdout",
     "output_type": "stream",
     "text": [
      "f.keys() :  <KeysViewHDF5 ['Dissipation', 'N_ref', 'Re', 'dTr', 'dt', 'kx', 'num_wavenumbers', 't', 'u_reference', 'uh', 'v_reference', 'vh', 'x', 'xx', 'yy']>\n",
      "\n",
      "    N :  16 <class 'int'>\n",
      "N_ref :  50 <class 'int'>\n",
      "   dt :  0.01 <class 'float'>\n",
      "   Re :  30.0 <class 'float'>\n"
     ]
    }
   ],
   "source": [
    "from numpy import *\n",
    "\n",
    "data_dir_idx = '001'\n",
    "\n",
    "dir_name_data = os.getcwd() + dir_sep + 'saved_data' + dir_sep + 'data_' + data_dir_idx\n",
    "    \n",
    "with open(dir_name_data + dir_sep + 'sim_data.txt') as f:\n",
    "    lines = f.readlines()\n",
    "params_dict = eval(''.join(lines))\n",
    "Re = params_dict['Re']\n",
    "delta_t = params_dict['dTr']\n",
    "\n",
    "with h5py.File(dir_name_data + '/data.h5', 'r') as f:\n",
    "    print('f.keys() : ', f.keys())\n",
    "    print('')\n",
    "    \n",
    "    N = int(0.5*(np.array(f['num_wavenumbers'])-1))\n",
    "    print('    N : ', N, type(N))\n",
    "    N_ref = int(np.array(f['N_ref']))\n",
    "    print('N_ref : ', N_ref, type(N_ref))\n",
    "    dt = float(np.array(f['dt']))\n",
    "    print('   dt : ', dt, type(dt))\n",
    "    Re = float(np.array(f['Re']))\n",
    "    print('   Re : ', Re, type(Re))\n",
    "    \n",
    "    u_ref = np.array(f['u_reference'], dtype=FTYPE)\n",
    "    v_ref = np.array(f['v_reference'], dtype=FTYPE)    "
   ]
  },
  {
   "cell_type": "code",
   "execution_count": 7,
   "id": "e5daa580",
   "metadata": {},
   "outputs": [],
   "source": [
    "data_meannorm = np.linalg.norm( u_ref-np.mean(u_ref, axis=0), axis=0 )**2\n",
    "data_meannorm += np.linalg.norm( v_ref-np.mean(v_ref, axis=0), axis=0 )**2\n",
    "data_meannorm = np.mean( data_meannorm**0.5 ) / u_ref.shape[0]**0.5"
   ]
  },
  {
   "cell_type": "code",
   "execution_count": 8,
   "id": "704430af",
   "metadata": {},
   "outputs": [
    {
     "name": "stdout",
     "output_type": "stream",
     "text": [
      "init_state_mat.shape :  (2, 50, 50)\n",
      "init_state_mat.shape :  (1, 5000)\n"
     ]
    }
   ],
   "source": [
    "init_state_mat = np.empty(shape=(2,)+tuple(u_ref.shape[1:]))\n",
    "print('init_state_mat.shape : ', init_state_mat.shape)\n",
    "\n",
    "init_state_mat[0, :, :] = u_ref[-1]\n",
    "del(u_ref)\n",
    "init_state_mat[1, :, :] = v_ref[-1]\n",
    "del(v_ref)\n",
    "\n",
    "init_state_mat = np.reshape(init_state_mat, (1, -1))\n",
    "print('init_state_mat.shape : ', init_state_mat.shape)"
   ]
  },
  {
   "cell_type": "code",
   "execution_count": 9,
   "id": "53ec950c",
   "metadata": {},
   "outputs": [],
   "source": [
    "n = 4 # forcing frequency"
   ]
  },
  {
   "cell_type": "code",
   "execution_count": 10,
   "id": "cc644f5b",
   "metadata": {},
   "outputs": [],
   "source": [
    "params_mat = np.array([[Re]])"
   ]
  },
  {
   "cell_type": "code",
   "execution_count": 11,
   "id": "9c65ea26",
   "metadata": {},
   "outputs": [],
   "source": [
    "u0h = np.empty(shape=(2*N+1, 2*N+1), dtype=np.complex128)\n",
    "v0h = np.empty(shape=(2*N+1, 2*N+1), dtype=np.complex128)\n",
    "\n",
    "du0h_1 = np.empty_like(u0h)\n",
    "du0h_2 = np.empty_like(u0h)\n",
    "du0h_3 = np.empty_like(u0h)\n",
    "du0h_4 = np.empty_like(u0h)\n",
    "dv0h_1 = np.empty_like(v0h)\n",
    "dv0h_2 = np.empty_like(v0h)\n",
    "dv0h_3 = np.empty_like(v0h)\n",
    "dv0h_4 = np.empty_like(v0h)\n",
    "midRK_uh = np.empty_like(u0h)\n",
    "midRK_vh = np.empty_like(v0h)\n",
    "\n",
    "uh_reference = np.zeros( (N_ref, N_ref), dtype=np.complex128 )\n",
    "vh_reference = np.zeros( (N_ref, N_ref), dtype=np.complex128 )"
   ]
  },
  {
   "cell_type": "code",
   "execution_count": 12,
   "id": "387bf2a2",
   "metadata": {},
   "outputs": [
    {
     "name": "stdout",
     "output_type": "stream",
     "text": [
      "dy_mat[0] : 3.876916689795284e-08\n",
      "\n",
      "number of evaluation intervals per parameter case: 400\n",
      "\n",
      "case 1 completion_ratio : 0.1, elapsed_time : 405.303s, global_completion : 10.0%\n",
      "case 1 completion_ratio : 0.2, elapsed_time : 795.703s, global_completion : 20.0%\n",
      "case 1 completion_ratio : 0.3, elapsed_time : 1180.877s, global_completion : 30.0%\n",
      "case 1 completion_ratio : 0.4, elapsed_time : 1563.69s, global_completion : 40.0%\n",
      "case 1 completion_ratio : 0.5, elapsed_time : 1946.808s, global_completion : 50.0%\n",
      "case 1 completion_ratio : 0.6, elapsed_time : 2330.584s, global_completion : 60.0%\n",
      "case 1 completion_ratio : 0.7, elapsed_time : 2713.682s, global_completion : 70.0%\n",
      "case 1 completion_ratio : 0.8, elapsed_time : 3096.053s, global_completion : 80.0%\n",
      "case 1 completion_ratio : 0.9, elapsed_time : 3470.77s, global_completion : 90.0%\n",
      "case 1 completion_ratio : 1.0, elapsed_time : 3868.185s, global_completion : 100.0%\n",
      "case 1 MLE : 0.003639\n",
      "\n"
     ]
    }
   ],
   "source": [
    "kol2D_obj = Kol2D_odd(Re, n, N) \n",
    "cdf_kwargs = {\n",
    "    'T':200,\n",
    "    't0':0,\n",
    "    'kol2D_obj':kol2D_obj,\n",
    "    'delta_t':dt,\n",
    "    'N_ref':N_ref,\n",
    "    'N':N,\n",
    "    'u0h':u0h,\n",
    "    'v0h':v0h,\n",
    "    'du0h_1':du0h_1,\n",
    "    'du0h_2':du0h_2,\n",
    "    'du0h_3':du0h_3,\n",
    "    'du0h_4':du0h_4,\n",
    "    'dv0h_1':dv0h_1,\n",
    "    'dv0h_2':dv0h_2,\n",
    "    'dv0h_3':dv0h_3,\n",
    "    'dv0h_4':dv0h_4,\n",
    "    'midRK_uh':midRK_uh,\n",
    "    'midRK_vh':midRK_vh,\n",
    "    'uh_reference':uh_reference,\n",
    "    'vh_reference':vh_reference,\n",
    "    'FTYPE':np.float64,\n",
    "    'ITYPE':np.int64,\n",
    "}\n",
    "\n",
    "create_data_fn = create_Kol_data_for_lyap\n",
    "num_modes = init_state_mat.shape[1]\n",
    "num_cases = 1\n",
    "num_exp = 20 # number of exponents to compute\n",
    "\n",
    "dy = 1e-7\n",
    "dy_mat = np.empty(shape=num_cases, dtype=FTYPE)\n",
    "begin_idx = 0\n",
    "for i in range(num_cases):\n",
    "    dy_mat[i] = dy*data_meannorm\n",
    "    print('dy_mat[{}] :'.format(i), dy_mat[i])\n",
    "print('')\n",
    "\n",
    "\n",
    "lpspectrum_mat, _ = compute_lyapunov_spectrum(\n",
    "    create_data_fn, cdf_kwargs, num_modes, \n",
    "    init_state_mat, params_mat, dy_mat,\n",
    "    zeta=50, delta_completionratio=0.1, num_exp=num_exp, print_flag=True)"
   ]
  },
  {
   "cell_type": "code",
   "execution_count": 13,
   "id": "5f1361cd",
   "metadata": {},
   "outputs": [],
   "source": [
    "lpspectrum_mat.sort(axis=1)\n",
    "lpspectrum_mat = lpspectrum_mat[:, -1::-1]"
   ]
  },
  {
   "cell_type": "code",
   "execution_count": 14,
   "id": "3b3256ff",
   "metadata": {},
   "outputs": [
    {
     "name": "stdout",
     "output_type": "stream",
     "text": [
      "[[ 0.00363924  0.00145827 -0.00232293 -0.00307353 -0.01358813 -0.02478011\n",
      "  -0.0352366  -0.037069   -0.03950068 -0.04603473 -0.06298151 -0.06900153\n",
      "  -0.07506466 -0.07560256 -0.08442227 -0.0853987  -0.09029686 -0.10205134\n",
      "  -0.13423373 -0.148958  ]]\n"
     ]
    }
   ],
   "source": [
    "print(lpspectrum_mat)"
   ]
  },
  {
   "cell_type": "code",
   "execution_count": 15,
   "id": "44d84cfa",
   "metadata": {},
   "outputs": [
    {
     "name": "stdout",
     "output_type": "stream",
     "text": [
      "[0.00363924]\n"
     ]
    }
   ],
   "source": [
    "print(lpspectrum_mat[:, 0])"
   ]
  },
  {
   "cell_type": "code",
   "execution_count": 16,
   "id": "927f62a7",
   "metadata": {},
   "outputs": [
    {
     "name": "stdout",
     "output_type": "stream",
     "text": [
      "[274.78294464]\n"
     ]
    }
   ],
   "source": [
    "print(lpspectrum_mat[:, 0]**(-1))"
   ]
  },
  {
   "cell_type": "code",
   "execution_count": 17,
   "id": "4b6f5ff0",
   "metadata": {},
   "outputs": [],
   "source": [
    "lpspectrum_cumsum = np.cumsum(lpspectrum_mat, axis=1)\n",
    "KY_dim_lst = np.empty(shape=lpspectrum_mat.shape[0])\n",
    "\n",
    "for i in range(lpspectrum_mat.shape[0]):\n",
    "    last_idx = np.where(lpspectrum_cumsum[i] >= 0)[0][-1]\n",
    "    KY_dim = (last_idx+1) + lpspectrum_cumsum[i, last_idx]/np.abs(lpspectrum_mat[i, last_idx+1])\n",
    "    KY_dim_lst[i] = KY_dim"
   ]
  },
  {
   "cell_type": "code",
   "execution_count": 18,
   "id": "2090c68a",
   "metadata": {},
   "outputs": [
    {
     "data": {
      "text/plain": [
       "array([[ 3.63923606e-03,  5.09750613e-03,  2.77457890e-03,\n",
       "        -2.98951649e-04, -1.38870791e-02, -3.86671877e-02,\n",
       "        -7.39037846e-02, -1.10972780e-01, -1.50473459e-01,\n",
       "        -1.96508185e-01, -2.59489695e-01, -3.28491221e-01,\n",
       "        -4.03555884e-01, -4.79158442e-01, -5.63580710e-01,\n",
       "        -6.48979410e-01, -7.39276271e-01, -8.41327608e-01,\n",
       "        -9.75561337e-01, -1.12451933e+00]])"
      ]
     },
     "execution_count": 18,
     "metadata": {},
     "output_type": "execute_result"
    }
   ],
   "source": [
    "lpspectrum_cumsum"
   ]
  },
  {
   "cell_type": "code",
   "execution_count": 19,
   "id": "dfcf6b64",
   "metadata": {},
   "outputs": [
    {
     "name": "stdout",
     "output_type": "stream",
     "text": [
      "KY_dim_lst :  [3.90273347]\n"
     ]
    }
   ],
   "source": [
    "print('KY_dim_lst : ', KY_dim_lst)"
   ]
  },
  {
   "cell_type": "code",
   "execution_count": 20,
   "id": "cb8d7acb",
   "metadata": {},
   "outputs": [],
   "source": [
    "np.savez(\n",
    "    dir_name_data+'/lyapunov_spectrum',\n",
    "    lyapunov_spectrum_mat=lpspectrum_mat,\n",
    "    KY_dim_lst=KY_dim_lst\n",
    ")"
   ]
  },
  {
   "cell_type": "code",
   "execution_count": 21,
   "id": "51f03d46",
   "metadata": {},
   "outputs": [],
   "source": [
    "with open(dir_name_data+'/lpspec.txt', 'w') as f:\n",
    "    s = 'lpspectrum : '+str(lpspectrum_mat)\n",
    "    s += '\\n'\n",
    "    s += 'lp_time : ' + str(lpspectrum_mat[:, 0]**(-1))\n",
    "    s += '\\n'\n",
    "    s += 'KY_dim : '+str(KY_dim_lst)\n",
    "    s += '\\n'\n",
    "    f.write(s)"
   ]
  },
  {
   "cell_type": "code",
   "execution_count": null,
   "id": "05d63018",
   "metadata": {},
   "outputs": [],
   "source": []
  }
 ],
 "metadata": {
  "kernelspec": {
   "display_name": "Python 3 (ipykernel)",
   "language": "python",
   "name": "python3"
  },
  "language_info": {
   "codemirror_mode": {
    "name": "ipython",
    "version": 3
   },
   "file_extension": ".py",
   "mimetype": "text/x-python",
   "name": "python",
   "nbconvert_exporter": "python",
   "pygments_lexer": "ipython3",
   "version": "3.10.6"
  }
 },
 "nbformat": 4,
 "nbformat_minor": 5
}
