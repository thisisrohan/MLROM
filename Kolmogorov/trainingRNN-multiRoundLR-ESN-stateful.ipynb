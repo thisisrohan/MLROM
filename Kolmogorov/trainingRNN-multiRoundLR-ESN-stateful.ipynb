{
 "cells": [
  {
   "cell_type": "code",
   "execution_count": 1,
   "metadata": {
    "executionInfo": {
     "elapsed": 3,
     "status": "ok",
     "timestamp": 1667868739487,
     "user": {
      "displayName": "Rohan Kaushik",
      "userId": "13918477614376051685"
     },
     "user_tz": -60
    },
    "id": "4xhxMpe_r-Y5"
   },
   "outputs": [],
   "source": [
    "# enabling 3rd party widgets\n",
    "# from google.colab import output\n",
    "# output.enable_custom_widget_manager()\n",
    "# output.disable_custom_widget_manager()\n",
    "\n",
    "# interactive 3D plot\n",
    "# !pip install ipympl\n",
    "# %matplotlib widget"
   ]
  },
  {
   "cell_type": "code",
   "execution_count": 2,
   "metadata": {
    "executionInfo": {
     "elapsed": 3563,
     "status": "ok",
     "timestamp": 1667868743047,
     "user": {
      "displayName": "Rohan Kaushik",
      "userId": "13918477614376051685"
     },
     "user_tz": -60
    },
    "id": "a5qPupCDsjSz"
   },
   "outputs": [],
   "source": [
    "import os\n",
    "import sys\n",
    "import math\n",
    "from collections import OrderedDict\n",
    "import numpy as np\n",
    "import matplotlib.pyplot as plt\n",
    "from scipy import linalg\n",
    "\n",
    "import time as time\n",
    "import platform as platform\n",
    "\n",
    "import tensorflow as tf\n",
    "from tensorflow.keras import layers, losses\n",
    "from tensorflow.keras.models import Model\n",
    "from tensorflow.keras import backend as K\n",
    "from tensorflow.keras.regularizers import L2\n",
    "import h5py\n",
    "\n",
    "tf.keras.backend.set_floatx('float32')"
   ]
  },
  {
   "cell_type": "code",
   "execution_count": 3,
   "metadata": {
    "colab": {
     "base_uri": "https://localhost:8080/"
    },
    "executionInfo": {
     "elapsed": 10,
     "status": "ok",
     "timestamp": 1667868743048,
     "user": {
      "displayName": "Rohan Kaushik",
      "userId": "13918477614376051685"
     },
     "user_tz": -60
    },
    "id": "h_qXhHdbCgoj",
    "outputId": "3473a883-d145-4778-9be7-7d44e0c6ea67"
   },
   "outputs": [],
   "source": [
    "colab_flag = False\n",
    "FTYPE = np.float32\n",
    "ITYPE = np.int32\n",
    "\n",
    "strategy = None\n",
    "# strategy = tf.distribute.MirroredStrategy()"
   ]
  },
  {
   "cell_type": "code",
   "execution_count": 4,
   "metadata": {
    "executionInfo": {
     "elapsed": 7,
     "status": "ok",
     "timestamp": 1667868743048,
     "user": {
      "displayName": "Rohan Kaushik",
      "userId": "13918477614376051685"
     },
     "user_tz": -60
    },
    "id": "BiLIUmBPneQR"
   },
   "outputs": [],
   "source": [
    "current_sys = platform.system()\n",
    "\n",
    "if current_sys == 'Windows':\n",
    "    dir_sep = '\\\\'\n",
    "else:\n",
    "    dir_sep = '/'"
   ]
  },
  {
   "cell_type": "code",
   "execution_count": 5,
   "metadata": {
    "colab": {
     "base_uri": "https://localhost:8080/"
    },
    "executionInfo": {
     "elapsed": 18870,
     "status": "ok",
     "timestamp": 1667868761912,
     "user": {
      "displayName": "Rohan Kaushik",
      "userId": "13918477614376051685"
     },
     "user_tz": -60
    },
    "id": "fnTV6Anhni6O",
    "outputId": "bf1d11f8-667f-4cb5-d8d5-b9d860b44d99"
   },
   "outputs": [],
   "source": [
    "if colab_flag == True:\n",
    "    from google.colab import drive\n",
    "    drive.mount('/content/drive')\n",
    "    os.chdir('/content/drive/MyDrive/Github/MLROM/KS/')"
   ]
  },
  {
   "cell_type": "code",
   "execution_count": 6,
   "metadata": {
    "colab": {
     "base_uri": "https://localhost:8080/"
    },
    "executionInfo": {
     "elapsed": 6,
     "status": "ok",
     "timestamp": 1667868761912,
     "user": {
      "displayName": "Rohan Kaushik",
      "userId": "13918477614376051685"
     },
     "user_tz": -60
    },
    "id": "paDfPOrjnkAS",
    "outputId": "58054510-4476-49b4-f8ba-e2978a028b36"
   },
   "outputs": [
    {
     "name": "stdout",
     "output_type": "stream",
     "text": [
      "/home/rkaushik/Documents/Thesis/MLROM/Kolmogorov\n"
     ]
    }
   ],
   "source": [
    "print(os.getcwd())"
   ]
  },
  {
   "cell_type": "code",
   "execution_count": 7,
   "metadata": {
    "executionInfo": {
     "elapsed": 4575,
     "status": "ok",
     "timestamp": 1667868766483,
     "user": {
      "displayName": "Rohan Kaushik",
      "userId": "13918477614376051685"
     },
     "user_tz": -60
    },
    "id": "P6K2YWlR6ZPD"
   },
   "outputs": [],
   "source": [
    "from tools.misc_tools import create_data_for_RNN, mytimecallback, SaveLosses, plot_losses, readAndReturnLossHistories\n",
    "from tools.ae_v2 import Autoencoder\n",
    "from tools.ESN_v2 import ESN"
   ]
  },
  {
   "cell_type": "code",
   "execution_count": null,
   "metadata": {},
   "outputs": [],
   "source": []
  },
  {
   "cell_type": "code",
   "execution_count": 8,
   "metadata": {
    "executionInfo": {
     "elapsed": 9,
     "status": "ok",
     "timestamp": 1667868766483,
     "user": {
      "displayName": "Rohan Kaushik",
      "userId": "13918477614376051685"
     },
     "user_tz": -60
    },
    "id": "_xtkwXE2tGTP"
   },
   "outputs": [],
   "source": [
    "behaviour = 'initialiseAndTrainFromScratch'\n",
    "# behaviour = 'loadCheckpointAndContinueTraining'\n",
    "# behaviour = 'loadFinalNetAndPlot'"
   ]
  },
  {
   "cell_type": "code",
   "execution_count": 9,
   "metadata": {
    "executionInfo": {
     "elapsed": 9,
     "status": "ok",
     "timestamp": 1667868766484,
     "user": {
      "displayName": "Rohan Kaushik",
      "userId": "13918477614376051685"
     },
     "user_tz": -60
    },
    "id": "8S1AHEkl48bn"
   },
   "outputs": [],
   "source": [
    "# setting seed for PRNGs\n",
    "if behaviour == 'initialiseAndTrainFromScratch':\n",
    "    prng_seed = 42\n",
    "    np.random.seed(prng_seed)\n",
    "    tf.random.set_seed(prng_seed)"
   ]
  },
  {
   "cell_type": "code",
   "execution_count": 10,
   "metadata": {
    "colab": {
     "base_uri": "https://localhost:8080/"
    },
    "executionInfo": {
     "elapsed": 9,
     "status": "ok",
     "timestamp": 1667868766484,
     "user": {
      "displayName": "Rohan Kaushik",
      "userId": "13918477614376051685"
     },
     "user_tz": -60
    },
    "id": "qvA9oeCHCTVM",
    "outputId": "0f2de849-59ee-4ed9-b65d-c5952e0dcb55"
   },
   "outputs": [
    {
     "name": "stdout",
     "output_type": "stream",
     "text": [
      "[PhysicalDevice(name='/physical_device:GPU:0', device_type='GPU'), PhysicalDevice(name='/physical_device:GPU:1', device_type='GPU')]\n",
      "[LogicalDevice(name='/device:GPU:0', device_type='GPU')]\n"
     ]
    },
    {
     "name": "stderr",
     "output_type": "stream",
     "text": [
      "2023-02-21 18:19:48.787608: I tensorflow/stream_executor/cuda/cuda_gpu_executor.cc:936] successful NUMA node read from SysFS had negative value (-1), but there must be at least one NUMA node, so returning NUMA node zero\n",
      "2023-02-21 18:19:48.787929: I tensorflow/stream_executor/cuda/cuda_gpu_executor.cc:936] successful NUMA node read from SysFS had negative value (-1), but there must be at least one NUMA node, so returning NUMA node zero\n",
      "2023-02-21 18:19:48.825253: I tensorflow/stream_executor/cuda/cuda_gpu_executor.cc:936] successful NUMA node read from SysFS had negative value (-1), but there must be at least one NUMA node, so returning NUMA node zero\n",
      "2023-02-21 18:19:48.825621: I tensorflow/stream_executor/cuda/cuda_gpu_executor.cc:936] successful NUMA node read from SysFS had negative value (-1), but there must be at least one NUMA node, so returning NUMA node zero\n",
      "2023-02-21 18:19:48.825844: I tensorflow/stream_executor/cuda/cuda_gpu_executor.cc:936] successful NUMA node read from SysFS had negative value (-1), but there must be at least one NUMA node, so returning NUMA node zero\n",
      "2023-02-21 18:19:48.826149: I tensorflow/stream_executor/cuda/cuda_gpu_executor.cc:936] successful NUMA node read from SysFS had negative value (-1), but there must be at least one NUMA node, so returning NUMA node zero\n",
      "2023-02-21 18:19:48.827247: I tensorflow/core/platform/cpu_feature_guard.cc:151] This TensorFlow binary is optimized with oneAPI Deep Neural Network Library (oneDNN) to use the following CPU instructions in performance-critical operations:  SSE4.1 SSE4.2 AVX AVX2 FMA\n",
      "To enable them in other operations, rebuild TensorFlow with the appropriate compiler flags.\n",
      "2023-02-21 18:19:48.827768: I tensorflow/stream_executor/cuda/cuda_gpu_executor.cc:936] successful NUMA node read from SysFS had negative value (-1), but there must be at least one NUMA node, so returning NUMA node zero\n",
      "2023-02-21 18:19:48.828004: I tensorflow/stream_executor/cuda/cuda_gpu_executor.cc:936] successful NUMA node read from SysFS had negative value (-1), but there must be at least one NUMA node, so returning NUMA node zero\n",
      "2023-02-21 18:19:48.828220: I tensorflow/stream_executor/cuda/cuda_gpu_executor.cc:936] successful NUMA node read from SysFS had negative value (-1), but there must be at least one NUMA node, so returning NUMA node zero\n",
      "2023-02-21 18:19:49.362865: I tensorflow/stream_executor/cuda/cuda_gpu_executor.cc:936] successful NUMA node read from SysFS had negative value (-1), but there must be at least one NUMA node, so returning NUMA node zero\n",
      "2023-02-21 18:19:49.363090: I tensorflow/stream_executor/cuda/cuda_gpu_executor.cc:936] successful NUMA node read from SysFS had negative value (-1), but there must be at least one NUMA node, so returning NUMA node zero\n",
      "2023-02-21 18:19:49.363291: I tensorflow/stream_executor/cuda/cuda_gpu_executor.cc:936] successful NUMA node read from SysFS had negative value (-1), but there must be at least one NUMA node, so returning NUMA node zero\n",
      "2023-02-21 18:19:49.363454: I tensorflow/core/common_runtime/gpu/gpu_device.cc:1525] Created device /job:localhost/replica:0/task:0/device:GPU:0 with 3369 MB memory:  -> device: 1, name: Quadro K2200, pci bus id: 0000:03:00.0, compute capability: 5.0\n"
     ]
    }
   ],
   "source": [
    "gpus = tf.config.list_physical_devices('GPU')\n",
    "print(gpus)\n",
    "\n",
    "if colab_flag == False:\n",
    "    if strategy is None:\n",
    "        if gpus:\n",
    "            gpu_to_use = 1\n",
    "            tf.config.set_visible_devices(gpus[gpu_to_use], 'GPU')\n",
    "    logical_devices = tf.config.list_logical_devices('GPU')\n",
    "    print(logical_devices)"
   ]
  },
  {
   "cell_type": "code",
   "execution_count": 11,
   "metadata": {
    "colab": {
     "base_uri": "https://localhost:8080/"
    },
    "executionInfo": {
     "elapsed": 8,
     "status": "ok",
     "timestamp": 1667868766484,
     "user": {
      "displayName": "Rohan Kaushik",
      "userId": "13918477614376051685"
     },
     "user_tz": -60
    },
    "id": "tc3zO9xL_tNl",
    "outputId": "c9786b4c-8510-47d0-801d-181e3b12239c"
   },
   "outputs": [
    {
     "name": "stdout",
     "output_type": "stream",
     "text": [
      "[PhysicalDevice(name='/physical_device:CPU:0', device_type='CPU'), PhysicalDevice(name='/physical_device:GPU:0', device_type='GPU'), PhysicalDevice(name='/physical_device:GPU:1', device_type='GPU')]\n",
      "\n",
      "[LogicalDevice(name='/device:CPU:0', device_type='CPU'), LogicalDevice(name='/device:GPU:0', device_type='GPU')]\n",
      "\n",
      "2.8.1\n"
     ]
    }
   ],
   "source": [
    "# print(tf.test.gpu_device_name())\n",
    "print(tf.config.list_physical_devices())\n",
    "print('')\n",
    "print(tf.config.list_logical_devices())\n",
    "print('')\n",
    "print(tf.__version__)"
   ]
  },
  {
   "cell_type": "markdown",
   "metadata": {
    "id": "7UbdnOtc4_z9"
   },
   "source": [
    "# KS System"
   ]
  },
  {
   "cell_type": "code",
   "execution_count": null,
   "metadata": {
    "executionInfo": {
     "elapsed": 6,
     "status": "ok",
     "timestamp": 1667868766485,
     "user": {
      "displayName": "Rohan Kaushik",
      "userId": "13918477614376051685"
     },
     "user_tz": -60
    },
    "id": "8aNkoXfyGq52"
   },
   "outputs": [],
   "source": []
  },
  {
   "cell_type": "code",
   "execution_count": 12,
   "metadata": {
    "colab": {
     "base_uri": "https://localhost:8080/"
    },
    "executionInfo": {
     "elapsed": 5768,
     "status": "ok",
     "timestamp": 1667868772247,
     "user": {
      "displayName": "Rohan Kaushik",
      "userId": "13918477614376051685"
     },
     "user_tz": -60
    },
    "id": "O7sl7i5H5Dqz",
    "outputId": "419ef0e0-4d58-454e-d0af-17af3b846b85"
   },
   "outputs": [
    {
     "name": "stdout",
     "output_type": "stream",
     "text": [
      "dir_name_rnn: /home/rkaushik/Documents/Thesis/MLROM/Kolmogorov/saved_ESN/ESN_004\n",
      "use_ae_data : True, dir_name_ae: /home/rkaushik/Documents/Thesis/MLROM/Kolmogorov/saved_ae/ae_013\n",
      "data_dir_idx: 000\n",
      "24 <class 'int'>\n"
     ]
    }
   ],
   "source": [
    "# setting up params (and saving, if applicable)\n",
    "# from numpy import *\n",
    "\n",
    "if behaviour == 'initialiseAndTrainFromScratch':\n",
    "    # making RNN save directory\n",
    "    dir_name_rnn = os.getcwd() + dir_sep + 'saved_ESN'\n",
    "    if not os.path.isdir(dir_name_rnn):\n",
    "        os.makedirs(dir_name_rnn)\n",
    "\n",
    "    counter = 0\n",
    "    while True:\n",
    "        dir_check = 'ESN_' + str(counter).zfill(3)\n",
    "        if os.path.isdir(dir_name_rnn + dir_sep + dir_check):\n",
    "            counter += 1\n",
    "        else:\n",
    "            break\n",
    "\n",
    "    dir_name_rnn = dir_name_rnn + dir_sep + dir_check\n",
    "    os.makedirs(dir_name_rnn)\n",
    "    os.makedirs(dir_name_rnn+dir_sep+'plots')\n",
    "    \n",
    "    # whether to use AE data or just work on raw data\n",
    "    use_ae_data = True # if false, specifying ae_idx will only show which dataset to use\n",
    "    \n",
    "    # autoencoder directory\n",
    "    ae_idx = '013'\n",
    "    dir_name_ae = os.getcwd()+'{ds}saved_ae{ds}ae_'.format(ds=dir_sep)+ae_idx\n",
    "else:\n",
    "    # RNN directory\n",
    "    dir_name_rnn = os.getcwd()+'/saved_ConvESN/ESN_008'\n",
    "\n",
    "    # reading AE directory\n",
    "    with open(dir_name_rnn + '/sim_data_AE_params.txt') as f:\n",
    "        lines = f.readlines()\n",
    "\n",
    "    params_dict = eval(''.join(lines))\n",
    "\n",
    "    use_ae_data = params_dict['use_ae_data']\n",
    "    \n",
    "    dir_name_ae = params_dict['dir_name_ae']\n",
    "    ae_idx = dir_name_ae[-3:]\n",
    "    dir_name_ae = os.getcwd()+'/saved_ae/ae_'+ae_idx\n",
    "\n",
    "    # reading RNN paramaters\n",
    "    with open(dir_name_rnn + '/RNN_specific_data.txt') as f:\n",
    "        lines = f.readlines()\n",
    "\n",
    "    params_rnn_dict = eval(''.join(lines))\n",
    "\n",
    "    dt_rnn = params_rnn_dict['dt_rnn']\n",
    "    T_sample_input = params_rnn_dict['T_sample_input']\n",
    "    T_sample_output = params_rnn_dict['T_sample_output']\n",
    "    T_offset = params_rnn_dict['T_offset']\n",
    "    return_params_arr = params_rnn_dict['return_params_arr']\n",
    "    params = params_rnn_dict['params']\n",
    "    try:\n",
    "        normalize_dataset = params_rnn_dict['normalize_dataset']\n",
    "    except:\n",
    "        print(\"'normalize_dataset' not present in RNN_specific_data, set to False.\")\n",
    "        normalize_dataset = False\n",
    "    try:\n",
    "        stddev_multiplier = params_rnn_dict['stddev_multiplier']\n",
    "    except:\n",
    "        print(\"'stddev_multiplier' not present in RNN_specific_data, set to None.\")\n",
    "        stddev_multiplier = None\n",
    "    try:\n",
    "        skip_intermediate = params_rnn_dict['skip_intermediate']\n",
    "    except:\n",
    "        print(\"'skip_intermediate' not present in RNN_specific_data, set to 1.\")\n",
    "        skip_intermediate = 1\n",
    "    try:\n",
    "        normalization_type = params_rnn_dict['normalization_type']\n",
    "    except:\n",
    "        print(\"'normalization_type' not present in RNN_specific_data, set to 'stddev'.\")\n",
    "        normalization_type = 'stddev'\n",
    "    \n",
    "\n",
    "    normalization_arr = None\n",
    "    try:\n",
    "        with open(dir_name_rnn + '/final_net/rnn_normalization.txt') as f:\n",
    "            lines = f.readlines()\n",
    "        rnn_norm_arr_dict = eval(lines)\n",
    "        normalization_arr = rnn_norm_arr_dict['normalization_arr']\n",
    "    except:\n",
    "        pass\n",
    "    if os.path.exists(dir_name_rnn+dir_sep+'normalization_data.npz'):\n",
    "        with np.load(dir_name_rnn+dir_sep+'normalization_data.npz', allow_pickle=True) as fl:\n",
    "            normalization_arr = fl['normalization_arr'][0]\n",
    "\n",
    "# reading simulation parameters\n",
    "with open(dir_name_ae + dir_sep + 'ae_data.txt') as f:\n",
    "    lines = f.readlines()\n",
    "params_dict = eval(''.join(lines))\n",
    "data_dir_idx = params_dict['data_dir_idx']\n",
    "normalizeforae_flag = params_dict['normalizeforae_flag']\n",
    "\n",
    "with np.load(dir_name_ae+dir_sep+'normalization_data.npz', allow_pickle=True) as fl:\n",
    "    normalization_constant_arr_aedata = fl['normalization_constant_arr_aedata'][0]\n",
    "\n",
    "print('dir_name_rnn:', dir_name_rnn)\n",
    "print('use_ae_data : ' + str(use_ae_data) + ', dir_name_ae:', dir_name_ae)\n",
    "print('data_dir_idx:', data_dir_idx)\n",
    "\n",
    "# loading data\n",
    "dir_name_data = os.getcwd() + dir_sep + 'saved_data' + dir_sep + 'data_' + data_dir_idx\n",
    "\n",
    "with h5py.File(dir_name_data + '/data.h5', 'r') as f:\n",
    "    t_recorded_samples = np.array(f['t'])\n",
    "    \n",
    "    N = int(0.5*(np.array(f['num_wavenumbers'])-1))\n",
    "    print(N, type(N))\n",
    "    \n",
    "    u_ref = np.array(f['u_reference'], dtype=FTYPE)\n",
    "    v_ref = np.array(f['v_reference'], dtype=FTYPE)"
   ]
  },
  {
   "cell_type": "code",
   "execution_count": 13,
   "metadata": {
    "colab": {
     "base_uri": "https://localhost:8080/"
    },
    "executionInfo": {
     "elapsed": 541,
     "status": "ok",
     "timestamp": 1667868772777,
     "user": {
      "displayName": "Rohan Kaushik",
      "userId": "13918477614376051685"
     },
     "user_tz": -60
    },
    "id": "ySVDz_2U5FH5",
    "outputId": "c57be82f-527d-4e83-a605-aac85c39088e"
   },
   "outputs": [],
   "source": [
    "all_data = np.empty(shape=(u_ref.shape[0], 2, u_ref.shape[1], u_ref.shape[2]), dtype=FTYPE)\n",
    "all_data[:, 0, :, :] = u_ref\n",
    "del(u_ref)\n",
    "all_data[:, 1, :, :] = v_ref\n",
    "del(v_ref)"
   ]
  },
  {
   "cell_type": "code",
   "execution_count": 14,
   "metadata": {
    "executionInfo": {
     "elapsed": 3,
     "status": "ok",
     "timestamp": 1667868772778,
     "user": {
      "displayName": "Rohan Kaushik",
      "userId": "13918477614376051685"
     },
     "user_tz": -60
    },
    "id": "bkQx9q_p5Gro"
   },
   "outputs": [],
   "source": [
    "delta_t = 1.\n",
    "T = t_recorded_samples[-1]"
   ]
  },
  {
   "cell_type": "code",
   "execution_count": 15,
   "metadata": {
    "colab": {
     "base_uri": "https://localhost:8080/",
     "height": 370
    },
    "executionInfo": {
     "elapsed": 1487,
     "status": "ok",
     "timestamp": 1667868774262,
     "user": {
      "displayName": "Rohan Kaushik",
      "userId": "13918477614376051685"
     },
     "user_tz": -60
    },
    "id": "uDhfYHU45IS8",
    "outputId": "5307dc6a-17c5-4c77-dac5-fcb96116ac44"
   },
   "outputs": [],
   "source": [
    "# delaing with normalizing the data before feeding into autoencoder\n",
    "if use_ae_data == True:\n",
    "    if normalizeforae_flag == True:\n",
    "        all_data -= normalization_constant_arr_aedata[0]\n",
    "        all_data /= normalization_constant_arr_aedata[1]"
   ]
  },
  {
   "cell_type": "code",
   "execution_count": 16,
   "metadata": {
    "executionInfo": {
     "elapsed": 6,
     "status": "ok",
     "timestamp": 1667868774263,
     "user": {
      "displayName": "Rohan Kaushik",
      "userId": "13918477614376051685"
     },
     "user_tz": -60
    },
    "id": "-MJa7P5t5KiC",
    "scrolled": true
   },
   "outputs": [
    {
     "name": "stdout",
     "output_type": "stream",
     "text": [
      "all_data.shape : (100001, 2, 50, 50)\n"
     ]
    }
   ],
   "source": [
    "print('all_data.shape : {}'.format(all_data.shape))"
   ]
  },
  {
   "cell_type": "code",
   "execution_count": 17,
   "metadata": {
    "colab": {
     "base_uri": "https://localhost:8080/",
     "height": 370
    },
    "executionInfo": {
     "elapsed": 932,
     "status": "ok",
     "timestamp": 1667868775190,
     "user": {
      "displayName": "Rohan Kaushik",
      "userId": "13918477614376051685"
     },
     "user_tz": -60
    },
    "id": "sMENXULAGFPm",
    "outputId": "dbf2c14d-2e8a-42c9-b6c5-f5f7c7a6092f"
   },
   "outputs": [],
   "source": [
    "all_data = all_data[0:int(all_data.shape[0]/3)]"
   ]
  },
  {
   "cell_type": "code",
   "execution_count": 18,
   "metadata": {},
   "outputs": [
    {
     "name": "stdout",
     "output_type": "stream",
     "text": [
      "all_data.shape : (33333, 2, 50, 50)\n"
     ]
    }
   ],
   "source": [
    "print('all_data.shape : {}'.format(all_data.shape))"
   ]
  },
  {
   "cell_type": "markdown",
   "metadata": {
    "id": "1v6KQEjR5LkK"
   },
   "source": [
    "# Autoencoder"
   ]
  },
  {
   "cell_type": "code",
   "execution_count": 19,
   "metadata": {
    "executionInfo": {
     "elapsed": 4,
     "status": "ok",
     "timestamp": 1667868775191,
     "user": {
      "displayName": "Rohan Kaushik",
      "userId": "13918477614376051685"
     },
     "user_tz": -60
    },
    "id": "ZBTJl9PeneQb"
   },
   "outputs": [],
   "source": [
    "if use_ae_data == True:\n",
    "    load_file = dir_name_ae+dir_sep+'final_net'+dir_sep+'final_net_class_dict.txt'\n",
    "    wt_file = dir_name_ae+dir_sep+'final_net'+dir_sep+'final_net_ae_weights.h5'"
   ]
  },
  {
   "cell_type": "code",
   "execution_count": 20,
   "metadata": {
    "executionInfo": {
     "elapsed": 1365,
     "status": "ok",
     "timestamp": 1667868776552,
     "user": {
      "displayName": "Rohan Kaushik",
      "userId": "13918477614376051685"
     },
     "user_tz": -60
    },
    "id": "a3Pq-qorneQb"
   },
   "outputs": [
    {
     "name": "stderr",
     "output_type": "stream",
     "text": [
      "2023-02-21 18:19:54.578029: I tensorflow/stream_executor/cuda/cuda_dnn.cc:368] Loaded cuDNN version 8401\n"
     ]
    }
   ],
   "source": [
    "if use_ae_data == True:\n",
    "    ae_net = Autoencoder(all_data.shape[1:], load_file=load_file)\n",
    "    ae_net.load_weights_from_file(wt_file)"
   ]
  },
  {
   "cell_type": "code",
   "execution_count": null,
   "metadata": {
    "executionInfo": {
     "elapsed": 5,
     "status": "ok",
     "timestamp": 1667868776553,
     "user": {
      "displayName": "Rohan Kaushik",
      "userId": "13918477614376051685"
     },
     "user_tz": -60
    },
    "id": "wwt4brHcOaXi"
   },
   "outputs": [],
   "source": []
  },
  {
   "cell_type": "code",
   "execution_count": null,
   "metadata": {
    "executionInfo": {
     "elapsed": 4,
     "status": "ok",
     "timestamp": 1667868776553,
     "user": {
      "displayName": "Rohan Kaushik",
      "userId": "13918477614376051685"
     },
     "user_tz": -60
    },
    "id": "Zl6ZvgtNtA_u",
    "scrolled": true
   },
   "outputs": [],
   "source": []
  },
  {
   "cell_type": "code",
   "execution_count": null,
   "metadata": {
    "executionInfo": {
     "elapsed": 5,
     "status": "ok",
     "timestamp": 1667868776554,
     "user": {
      "displayName": "Rohan Kaushik",
      "userId": "13918477614376051685"
     },
     "user_tz": -60
    },
    "id": "lXpoaKRIneQc"
   },
   "outputs": [],
   "source": []
  },
  {
   "cell_type": "code",
   "execution_count": 21,
   "metadata": {
    "colab": {
     "base_uri": "https://localhost:8080/"
    },
    "executionInfo": {
     "elapsed": 960,
     "status": "ok",
     "timestamp": 1667868777509,
     "user": {
      "displayName": "Rohan Kaushik",
      "userId": "13918477614376051685"
     },
     "user_tz": -60
    },
    "id": "Q3a8HHyvneQc",
    "outputId": "51084913-6faf-4bb5-db69-2cbea705dd28"
   },
   "outputs": [],
   "source": [
    "# create data\n",
    "if use_ae_data == True:\n",
    "    latent_states_all = ae_net.encoder_net.predict(all_data)\n",
    "    del(all_data)\n",
    "else:\n",
    "    latent_states_all = all_data\n",
    "# num_latent_states = latent_states_all.shape[1]"
   ]
  },
  {
   "cell_type": "code",
   "execution_count": 22,
   "metadata": {
    "colab": {
     "base_uri": "https://localhost:8080/",
     "height": 384
    },
    "executionInfo": {
     "elapsed": 797,
     "status": "ok",
     "timestamp": 1667868778304,
     "user": {
      "displayName": "Rohan Kaushik",
      "userId": "13918477614376051685"
     },
     "user_tz": -60
    },
    "id": "wjgPNitSrt5p",
    "outputId": "0c916524-33ec-47bf-a16a-51e53d2e25f6"
   },
   "outputs": [],
   "source": [
    "temp_ = latent_states_all.reshape(latent_states_all.shape[0], -1)\n",
    "time_stddev_AEproducedlatentstates = np.std(temp_, axis=0)"
   ]
  },
  {
   "cell_type": "code",
   "execution_count": null,
   "metadata": {
    "executionInfo": {
     "elapsed": 6,
     "status": "ok",
     "timestamp": 1667868778305,
     "user": {
      "displayName": "Rohan Kaushik",
      "userId": "13918477614376051685"
     },
     "user_tz": -60
    },
    "id": "wnLnqg0Jrt5t"
   },
   "outputs": [],
   "source": []
  },
  {
   "cell_type": "code",
   "execution_count": null,
   "metadata": {
    "executionInfo": {
     "elapsed": 488,
     "status": "ok",
     "timestamp": 1667868778788,
     "user": {
      "displayName": "Rohan Kaushik",
      "userId": "13918477614376051685"
     },
     "user_tz": -60
    },
    "id": "BOJE8vREtque"
   },
   "outputs": [],
   "source": []
  },
  {
   "cell_type": "code",
   "execution_count": null,
   "metadata": {
    "executionInfo": {
     "elapsed": 12,
     "status": "ok",
     "timestamp": 1667868778788,
     "user": {
      "displayName": "Rohan Kaushik",
      "userId": "13918477614376051685"
     },
     "user_tz": -60
    },
    "id": "fwjcsAxKneQe"
   },
   "outputs": [],
   "source": []
  },
  {
   "cell_type": "code",
   "execution_count": null,
   "metadata": {
    "executionInfo": {
     "elapsed": 11,
     "status": "ok",
     "timestamp": 1667868778788,
     "user": {
      "displayName": "Rohan Kaushik",
      "userId": "13918477614376051685"
     },
     "user_tz": -60
    },
    "id": "aFd7XgwVneQe"
   },
   "outputs": [],
   "source": []
  },
  {
   "cell_type": "markdown",
   "metadata": {
    "id": "8IAcFjRRn_IQ"
   },
   "source": [
    "# ESN"
   ]
  },
  {
   "cell_type": "code",
   "execution_count": 23,
   "metadata": {
    "executionInfo": {
     "elapsed": 12,
     "status": "ok",
     "timestamp": 1667868778789,
     "user": {
      "displayName": "Rohan Kaushik",
      "userId": "13918477614376051685"
     },
     "user_tz": -60
    },
    "id": "lPVqWNwjoAGP"
   },
   "outputs": [],
   "source": [
    "if behaviour == 'initialiseAndTrainFromScratch':\n",
    "    # RNN data parameters\n",
    "    dt_rnn = 0.25\n",
    "    num_input_tsteps = 100\n",
    "    T_sample_input = num_input_tsteps*dt_rnn\n",
    "    T_sample_output = T_sample_input\n",
    "    T_offset = dt_rnn\n",
    "    normalize_dataset = True # whether the data for the RNN should be normalized by the dataset's mean and std\n",
    "    normalization_arr = None\n",
    "    stddev_multiplier = 3\n",
    "    skip_intermediate = 'full sample'\n",
    "    noise_type = 'normal' # can be 'uniform' or 'normal'\n",
    "    normalization_type = 'stddev' # can be 'minmax' or 'stddev', if it is\n",
    "                                  # 'minmax' then stddev_multiplier has no effect\n",
    "    ESN_layers_units = [13*13*200]\n",
    "    stateful = True\n",
    "    omega_in = [1.0]\n",
    "    degree_of_connectivity = [3]\n",
    "    rho_res = [0.6]\n",
    "    usebias_Win = [False]\n",
    "    alpha = [0.99]\n",
    "    ESN_cell_activations = ['tanh']\n",
    "    usebias_Wout = True\n",
    "    \n",
    "    activation_post_Wout = 'linear'\n",
    "    use_weights_post_dense = False\n",
    "    \n",
    "    # computing sparsity\n",
    "    sparsity = [1-degree_of_connectivity[i]/(ESN_layers_units[i]-1) for i in range(len(ESN_layers_units))]        \n",
    "\n",
    "    # saving simulation data\n",
    "    sim_data = {\n",
    "        'T':T,\n",
    "        'delta_t':delta_t,\n",
    "        'dir_name_ae':dir_name_ae,\n",
    "        'normalize_dataset':normalize_dataset,\n",
    "        'stddev_multiplier':stddev_multiplier,\n",
    "        'use_ae_data':use_ae_data,\n",
    "    }\n",
    "\n",
    "\n",
    "    with open(dir_name_rnn+dir_sep+'sim_data_AE_params.txt', 'w') as f:\n",
    "        f.write(str(sim_data))\n",
    "        \n",
    "    # saving RNN specific data\n",
    "    RNN_specific_data = {\n",
    "        'dt_rnn':dt_rnn,\n",
    "        'T_sample_input':T_sample_input,\n",
    "        'T_sample_output':T_sample_output,\n",
    "        'T_offset':T_offset,\n",
    "        'delta_t':delta_t,\n",
    "        'normalize_dataset':normalize_dataset,\n",
    "        'num_input_tsteps':num_input_tsteps,\n",
    "        'stddev_multiplier':stddev_multiplier,\n",
    "        'skip_intermediate':skip_intermediate,\n",
    "        'module':ESN.__module__,\n",
    "        'noise_type':noise_type,\n",
    "        'normalization_type':normalization_type,\n",
    "    }\n",
    "\n",
    "    with open(dir_name_rnn+dir_sep+'RNN_specific_data.txt', 'w') as f:\n",
    "        f.write(str(RNN_specific_data))"
   ]
  },
  {
   "cell_type": "code",
   "execution_count": null,
   "metadata": {
    "executionInfo": {
     "elapsed": 11,
     "status": "ok",
     "timestamp": 1667868778789,
     "user": {
      "displayName": "Rohan Kaushik",
      "userId": "13918477614376051685"
     },
     "user_tz": -60
    },
    "id": "S21-VEUYrkk-"
   },
   "outputs": [],
   "source": []
  },
  {
   "cell_type": "code",
   "execution_count": 24,
   "metadata": {
    "executionInfo": {
     "elapsed": 11,
     "status": "ok",
     "timestamp": 1667868778789,
     "user": {
      "displayName": "Rohan Kaushik",
      "userId": "13918477614376051685"
     },
     "user_tz": -60
    },
    "id": "UGnj8uQQ83-y"
   },
   "outputs": [],
   "source": [
    "og_ls_shape = latent_states_all.shape\n",
    "latent_states_all = latent_states_all.reshape((latent_states_all.shape[0], -1))"
   ]
  },
  {
   "cell_type": "code",
   "execution_count": 25,
   "metadata": {
    "executionInfo": {
     "elapsed": 12,
     "status": "ok",
     "timestamp": 1667868778790,
     "user": {
      "displayName": "Rohan Kaushik",
      "userId": "13918477614376051685"
     },
     "user_tz": -60
    },
    "id": "0t2_8mzI1fhX"
   },
   "outputs": [],
   "source": [
    "rnn_res_dict = create_data_for_RNN(\n",
    "    latent_states_all,\n",
    "    dt_rnn,\n",
    "    T_sample_input,\n",
    "    T_sample_output,\n",
    "    T_offset,\n",
    "    None,\n",
    "    [latent_states_all.shape[0]],#boundary_idx_arr,\n",
    "    dt_rnn,#delta_t,\n",
    "    #params=params,\n",
    "    return_numsamples=True,\n",
    "    normalize_dataset=normalize_dataset,\n",
    "    stddev_multiplier=stddev_multiplier,\n",
    "    skip_intermediate=skip_intermediate,\n",
    "    return_OrgDataIdxArr=False,\n",
    "    normalization_arr_external=normalization_arr,\n",
    "    normalization_type=normalization_type,\n",
    "    FTYPE=FTYPE,\n",
    "    ITYPE=ITYPE)\n",
    "    \n",
    "data_rnn_input = rnn_res_dict['data_rnn_input']\n",
    "data_rnn_output = rnn_res_dict['data_rnn_output']\n",
    "org_data_idx_arr_input = rnn_res_dict['org_data_idx_arr_input']\n",
    "org_data_idx_arr_output = rnn_res_dict['org_data_idx_arr_output']\n",
    "num_samples = rnn_res_dict['num_samples']\n",
    "normalization_arr = rnn_res_dict['normalization_arr']\n",
    "rnn_data_boundary_idx_arr = rnn_res_dict['rnn_data_boundary_idx_arr']"
   ]
  },
  {
   "cell_type": "code",
   "execution_count": 26,
   "metadata": {},
   "outputs": [
    {
     "name": "stdout",
     "output_type": "stream",
     "text": [
      "data_rnn_input.shape :  (330, 100, 169)\n",
      "data_rnn_output.shape :  (330, 100, 169)\n"
     ]
    }
   ],
   "source": [
    "print( 'data_rnn_input.shape : ', data_rnn_input.shape)\n",
    "print('data_rnn_output.shape : ', data_rnn_output.shape)"
   ]
  },
  {
   "cell_type": "code",
   "execution_count": 27,
   "metadata": {
    "executionInfo": {
     "elapsed": 11,
     "status": "ok",
     "timestamp": 1667868778790,
     "user": {
      "displayName": "Rohan Kaushik",
      "userId": "13918477614376051685"
     },
     "user_tz": -60
    },
    "id": "pIsWCXkbr7ws"
   },
   "outputs": [],
   "source": [
    "temp = np.divide(latent_states_all-normalization_arr[0], normalization_arr[1])\n",
    "time_stddev = np.std(temp, axis=0)\n",
    "timeMeanofSpaceRMS = np.mean(np.mean(temp**2, axis=1)**0.5)\n",
    "del(org_data_idx_arr_input)\n",
    "del(org_data_idx_arr_output)\n",
    "del(latent_states_all)\n",
    "del(temp)"
   ]
  },
  {
   "cell_type": "code",
   "execution_count": 28,
   "metadata": {
    "executionInfo": {
     "elapsed": 11,
     "status": "ok",
     "timestamp": 1667868778790,
     "user": {
      "displayName": "Rohan Kaushik",
      "userId": "13918477614376051685"
     },
     "user_tz": -60
    },
    "id": "Hem_9PUqneQi"
   },
   "outputs": [],
   "source": [
    "# data_rnn_input = data_rnn_input.reshape(data_rnn_input.shape[0:2]+og_ls_shape[1:])\n",
    "# data_rnn_output = data_rnn_output.reshape(data_rnn_output.shape[0:2]+og_ls_shape[1:])"
   ]
  },
  {
   "cell_type": "code",
   "execution_count": 29,
   "metadata": {
    "executionInfo": {
     "elapsed": 12,
     "status": "ok",
     "timestamp": 1667868778791,
     "user": {
      "displayName": "Rohan Kaushik",
      "userId": "13918477614376051685"
     },
     "user_tz": -60
    },
    "id": "uskBAAXpneQi"
   },
   "outputs": [
    {
     "name": "stdout",
     "output_type": "stream",
     "text": [
      "data_rnn_input.shape :  (330, 100, 169)\n",
      "data_rnn_output.shape :  (330, 100, 169)\n"
     ]
    }
   ],
   "source": [
    "print( 'data_rnn_input.shape : ', data_rnn_input.shape)\n",
    "print('data_rnn_output.shape : ', data_rnn_output.shape)"
   ]
  },
  {
   "cell_type": "code",
   "execution_count": 30,
   "metadata": {
    "executionInfo": {
     "elapsed": 431,
     "status": "ok",
     "timestamp": 1667868779211,
     "user": {
      "displayName": "Rohan Kaushik",
      "userId": "13918477614376051685"
     },
     "user_tz": -60
    },
    "id": "-1uL-GomneQi"
   },
   "outputs": [],
   "source": [
    "# setting up training params\n",
    "if behaviour == 'initialiseAndTrainFromScratch':\n",
    "    learning_rate_list = [1e-3, 1e-4, 1e-5]\n",
    "    epochs = 1000\n",
    "    lambda_reg = 5e-6 # weight for regularizer\n",
    "    min_delta = 1e-6\n",
    "    patience = 50\n",
    "    train_split = 0.8\n",
    "    val_split = 0.1\n",
    "    test_split = 1 - train_split - val_split\n",
    "    batch_size = 16\n",
    "    fRMS = 1/100\n",
    "\n",
    "    stddev = fRMS*timeMeanofSpaceRMS\n",
    "    \n",
    "    # saving training params\n",
    "    training_specific_params = {\n",
    "        'learning_rate_list':learning_rate_list,\n",
    "        'epochs':epochs,\n",
    "        'prng_seed':prng_seed,\n",
    "        'train_split':train_split,\n",
    "        'val_split':val_split,\n",
    "        'batch_size':batch_size,\n",
    "        'fRMS':fRMS,\n",
    "        'timeMeanofSpaceRMS':timeMeanofSpaceRMS,\n",
    "        'stddev':stddev,\n",
    "        'lambda_reg':lambda_reg,\n",
    "        'min_delta':min_delta,\n",
    "        'patience':patience,\n",
    "    }\n",
    "\n",
    "    with open(dir_name_rnn+dir_sep+'training_specific_params.txt', 'w') as f:\n",
    "        f.write(str(training_specific_params))\n",
    "    \n",
    "    np.savez(\n",
    "        dir_name_rnn+dir_sep+'normalization_data',\n",
    "        normalization_arr=[normalization_arr],\n",
    "    )\n",
    "    \n",
    "else:\n",
    "    # dir_name_rnn_og = dir_name_rnn\n",
    "    # dir_name_rnn_temp = '/home/rkaushik/Documents/Thesis/MLROM/CDV/saved_rnn/rnn_'+dir_name_rnn_og[-3:]\n",
    "    # dir_name_rnn = dir_name_rnn_temp\n",
    "\n",
    "    with open(dir_name_rnn + dir_sep + 'training_specific_params.txt') as f:\n",
    "        lines = f.readlines()\n",
    "\n",
    "\n",
    "    tparams_dict = eval(''.join(lines))\n",
    "\n",
    "    learning_rate_list = tparams_dict['learning_rate_list']\n",
    "    epochs = tparams_dict['epochs']\n",
    "    prng_seed = tparams_dict['prng_seed']\n",
    "    train_split = tparams_dict['train_split']\n",
    "    val_split = tparams_dict['val_split']\n",
    "    batch_size = tparams_dict['batch_size']\n",
    "    lambda_reg = tparams_dict['lambda_reg']\n",
    "    min_delta = tparams_dict['min_delta']\n",
    "    patience = tparams_dict['patience']\n",
    "\n",
    "    test_split = 1 - train_split - val_split\n",
    "\n",
    "    # setting seed for PRNGs\n",
    "    np.random.seed(prng_seed)\n",
    "    tf.random.set_seed(prng_seed)"
   ]
  },
  {
   "cell_type": "code",
   "execution_count": 31,
   "metadata": {
    "executionInfo": {
     "elapsed": 3,
     "status": "ok",
     "timestamp": 1667868779212,
     "user": {
      "displayName": "Rohan Kaushik",
      "userId": "13918477614376051685"
     },
     "user_tz": -60
    },
    "id": "4hx9ZaSpEMmv"
   },
   "outputs": [
    {
     "data": {
      "text/plain": [
       "array([330])"
      ]
     },
     "execution_count": 31,
     "metadata": {},
     "output_type": "execute_result"
    }
   ],
   "source": [
    "# idx = np.arange(data_rnn_input.shape[0])\n",
    "# np.random.shuffle(idx)\n",
    "# boundary = int(np.round(train_split*data_rnn_input.shape[0]))\n",
    "\n",
    "# training_data_rnn_input = data_rnn_input[idx[0:boundary]]\n",
    "# training_data_rnn_output = data_rnn_output[idx[0:boundary]]\n",
    "\n",
    "# testing_data_rnn_input = data_rnn_input[idx[boundary:]]\n",
    "# testing_data_rnn_output = data_rnn_output[idx[boundary:]]\n",
    "rnn_data_boundary_idx_arr"
   ]
  },
  {
   "cell_type": "code",
   "execution_count": 32,
   "metadata": {
    "executionInfo": {
     "elapsed": 391,
     "status": "ok",
     "timestamp": 1667868779601,
     "user": {
      "displayName": "Rohan Kaushik",
      "userId": "13918477614376051685"
     },
     "user_tz": -60
    },
    "id": "EENXaWqcKW7j"
   },
   "outputs": [],
   "source": [
    "cum_samples = rnn_data_boundary_idx_arr[-1]\n",
    "# idx = np.arange(cum_samples)\n",
    "# np.random.shuffle(idx)\n",
    "num_train_arr = np.zeros(shape=rnn_data_boundary_idx_arr.shape[0], dtype='int32')\n",
    "num_val_arr = np.zeros(shape=rnn_data_boundary_idx_arr.shape[0], dtype='int32')\n",
    "num_test_arr = np.zeros(shape=rnn_data_boundary_idx_arr.shape[0], dtype='int32')\n",
    "num_samples_arr = np.zeros(shape=rnn_data_boundary_idx_arr.shape[0], dtype='int32')\n",
    "begin_idx = 0\n",
    "for i in range(len(rnn_data_boundary_idx_arr)):\n",
    "    num_samples = rnn_data_boundary_idx_arr[i] - begin_idx\n",
    "    num_samples = batch_size*int(num_samples/batch_size)\n",
    "    num_train_arr[i] = batch_size * int(np.round(train_split*num_samples/batch_size))\n",
    "    num_val_arr[i] = batch_size * int(np.round(val_split*num_samples/batch_size))\n",
    "    num_test_arr[i] = num_samples - num_train_arr[i] - num_val_arr[i]\n",
    "    num_samples_arr[i] = num_train_arr[i] + num_val_arr[i] + num_test_arr[i]\n",
    "    begin_idx = rnn_data_boundary_idx_arr[i]\n",
    "\n",
    "# defining shapes\n",
    "training_input_shape = [np.sum(num_train_arr)]\n",
    "training_input_shape.extend(data_rnn_input.shape[1:])\n",
    "\n",
    "training_output_shape = [np.sum(num_train_arr)]\n",
    "training_output_shape.extend(data_rnn_output.shape[1:])\n",
    "\n",
    "val_input_shape = [np.sum(num_val_arr)]\n",
    "val_input_shape.extend(data_rnn_input.shape[1:])\n",
    "\n",
    "val_output_shape = [np.sum(num_val_arr)]\n",
    "val_output_shape.extend(data_rnn_output.shape[1:])\n",
    "\n",
    "testing_input_shape = [np.sum(num_test_arr)]\n",
    "testing_input_shape.extend(data_rnn_input.shape[1:])\n",
    "\n",
    "testing_output_shape = [np.sum(num_test_arr)]\n",
    "testing_output_shape.extend(data_rnn_output.shape[1:])\n",
    "\n",
    "# defining required arrays\n",
    "training_data_rnn_input = np.empty(shape=training_input_shape)\n",
    "training_data_rnn_output = np.empty(shape=training_output_shape)\n",
    "\n",
    "val_data_rnn_input = np.empty(shape=val_input_shape)\n",
    "val_data_rnn_output = np.empty(shape=val_output_shape)\n",
    "\n",
    "testing_data_rnn_input = np.empty(shape=testing_input_shape)\n",
    "testing_data_rnn_output = np.empty(shape=testing_output_shape)\n",
    "\n",
    "begin_idx = 0\n",
    "training_data_rolling_count = 0\n",
    "val_data_rolling_count = 0\n",
    "testing_data_rolling_count = 0\n",
    "for i in range(len(rnn_data_boundary_idx_arr)):\n",
    "    idx = np.arange(begin_idx, rnn_data_boundary_idx_arr[i])\n",
    "    num_samples = num_samples_arr[i]\n",
    "    num_train = num_train_arr[i]\n",
    "    num_val = num_val_arr[i]\n",
    "    num_test = num_test_arr[i]\n",
    "\n",
    "    nbatches_train = num_train // batch_size\n",
    "    nbatches_val = num_val // batch_size\n",
    "    nbatches_test = num_test // batch_size\n",
    "\n",
    "    for j in range(batch_size):\n",
    "        training_data_rnn_input[training_data_rolling_count+j:training_data_rolling_count+num_train:batch_size] = data_rnn_input[idx[0:num_train]][j*nbatches_train:(j+1)*nbatches_train]\n",
    "        training_data_rnn_output[training_data_rolling_count+j:training_data_rolling_count+num_train:batch_size] = data_rnn_output[idx[0:num_train]][j*nbatches_train:(j+1)*nbatches_train]\n",
    "\n",
    "        val_data_rnn_input[val_data_rolling_count+j:val_data_rolling_count+num_val:batch_size] = data_rnn_input[idx[num_train:num_train+num_val]][j*nbatches_val:(j+1)*nbatches_val]\n",
    "        val_data_rnn_output[val_data_rolling_count+j:val_data_rolling_count+num_val:batch_size] = data_rnn_output[idx[num_train:num_train+num_val]][j*nbatches_val:(j+1)*nbatches_val]\n",
    "\n",
    "        testing_data_rnn_input[testing_data_rolling_count+j:testing_data_rolling_count+num_test:batch_size] = data_rnn_input[idx[num_train+num_val:num_samples]][j*nbatches_test:(j+1)*nbatches_test]\n",
    "        testing_data_rnn_output[testing_data_rolling_count+j:testing_data_rolling_count+num_test:batch_size] = data_rnn_output[idx[num_train+num_val:num_samples]][j*nbatches_test:(j+1)*nbatches_test]\n",
    "\n",
    "    training_data_rolling_count += num_train\n",
    "\n",
    "    val_data_rolling_count += num_val\n",
    "\n",
    "    testing_data_rolling_count += num_test\n",
    "\n",
    "    begin_idx = rnn_data_boundary_idx_arr[i]\n",
    "\n",
    "# cleaning up\n",
    "del(data_rnn_input)\n",
    "del(data_rnn_output)\n",
    "\n",
    "# further shuffling\n",
    "if stateful == False:\n",
    "    idx = np.arange(0, training_data_rnn_input.shape[0])\n",
    "    np.random.shuffle(idx)\n",
    "    training_data_rnn_input = training_data_rnn_input[idx]\n",
    "    training_data_rnn_output = training_data_rnn_output[idx]\n",
    "\n",
    "    idx = np.arange(0, val_data_rnn_input.shape[0])\n",
    "    np.random.shuffle(idx)\n",
    "    val_data_rnn_input = val_data_rnn_input[idx]\n",
    "    val_data_rnn_output = val_data_rnn_output[idx]\n",
    "\n",
    "    idx = np.arange(0, testing_data_rnn_input.shape[0])\n",
    "    np.random.shuffle(idx)\n",
    "    testing_data_rnn_input = testing_data_rnn_input[idx]\n",
    "    testing_data_rnn_output = testing_data_rnn_output[idx]\n",
    "\n",
    "    del(idx)"
   ]
  },
  {
   "cell_type": "code",
   "execution_count": 33,
   "metadata": {
    "executionInfo": {
     "elapsed": 5,
     "status": "ok",
     "timestamp": 1667868779603,
     "user": {
      "displayName": "Rohan Kaushik",
      "userId": "13918477614376051685"
     },
     "user_tz": -60
    },
    "id": "8isZN1tYBifp"
   },
   "outputs": [
    {
     "name": "stdout",
     "output_type": "stream",
     "text": [
      "training_data_rnn_input.shape :  (256, 100, 169)\n",
      " testing_data_rnn_input.shape :  (32, 100, 169)\n",
      "     val_data_rnn_input.shape :  (32, 100, 169)\n"
     ]
    }
   ],
   "source": [
    "print('training_data_rnn_input.shape : ', training_data_rnn_input.shape)\n",
    "print(' testing_data_rnn_input.shape : ', testing_data_rnn_input.shape)\n",
    "print('     val_data_rnn_input.shape : ', val_data_rnn_input.shape)"
   ]
  },
  {
   "cell_type": "code",
   "execution_count": 34,
   "metadata": {},
   "outputs": [
    {
     "name": "stdout",
     "output_type": "stream",
     "text": [
      "training_data_rnn_output.shape :  (256, 100, 169)\n",
      " testing_data_rnn_output.shape :  (32, 100, 169)\n",
      "     val_data_rnn_output.shape :  (32, 100, 169)\n"
     ]
    }
   ],
   "source": [
    "print('training_data_rnn_output.shape : ', training_data_rnn_output.shape)\n",
    "print(' testing_data_rnn_output.shape : ', testing_data_rnn_output.shape)\n",
    "print('     val_data_rnn_output.shape : ', val_data_rnn_output.shape)"
   ]
  },
  {
   "cell_type": "code",
   "execution_count": 35,
   "metadata": {
    "executionInfo": {
     "elapsed": 7,
     "status": "ok",
     "timestamp": 1667868779605,
     "user": {
      "displayName": "Rohan Kaushik",
      "userId": "13918477614376051685"
     },
     "user_tz": -60
    },
    "id": "x3KglJsgneQj"
   },
   "outputs": [],
   "source": [
    "# print(rnn_data_boundary_idx_arr)"
   ]
  },
  {
   "cell_type": "code",
   "execution_count": null,
   "metadata": {
    "executionInfo": {
     "elapsed": 8,
     "status": "ok",
     "timestamp": 1667868779606,
     "user": {
      "displayName": "Rohan Kaushik",
      "userId": "13918477614376051685"
     },
     "user_tz": -60
    },
    "id": "ixetsZHjCMKO"
   },
   "outputs": [],
   "source": []
  },
  {
   "cell_type": "code",
   "execution_count": null,
   "metadata": {
    "executionInfo": {
     "elapsed": 7,
     "status": "ok",
     "timestamp": 1667868779606,
     "user": {
      "displayName": "Rohan Kaushik",
      "userId": "13918477614376051685"
     },
     "user_tz": -60
    },
    "id": "_NSTtZuyneQk"
   },
   "outputs": [],
   "source": []
  },
  {
   "cell_type": "code",
   "execution_count": 36,
   "metadata": {
    "colab": {
     "base_uri": "https://localhost:8080/"
    },
    "executionInfo": {
     "elapsed": 3631,
     "status": "ok",
     "timestamp": 1667868783230,
     "user": {
      "displayName": "Rohan Kaushik",
      "userId": "13918477614376051685"
     },
     "user_tz": -60
    },
    "id": "Py-Jg0QKneQk",
    "outputId": "1b768270-9013-4d53-8b5e-63e69776e3ac",
    "scrolled": false
   },
   "outputs": [
    {
     "name": "stdout",
     "output_type": "stream",
     "text": [
      "timeMeanofSpaceRMS : 0.33173722\n",
      "stddev : 0.0033173722028732302\n"
     ]
    }
   ],
   "source": [
    "# Initialize network\n",
    "if behaviour == 'initialiseAndTrainFromScratch':\n",
    "    # timeMeanofSpaceRMS = np.mean(np.mean(latent_states_all**2, axis=1)**0.5)\n",
    "    print('timeMeanofSpaceRMS :', timeMeanofSpaceRMS)\n",
    "    print('stddev :', stddev)\n",
    "    data_dim = training_data_rnn_input.shape[-1]\n",
    "\n",
    "\n",
    "    rnn_net = ESN(\n",
    "        data_dim=data_dim,\n",
    "        dt_rnn=dt_rnn,\n",
    "        lambda_reg=lambda_reg,\n",
    "        ESN_layers_units=ESN_layers_units,\n",
    "        stddev=stddev,\n",
    "        noise_type=noise_type,\n",
    "        stateful=stateful,\n",
    "        omega_in=omega_in,\n",
    "        sparsity=sparsity,\n",
    "        rho_res=rho_res,\n",
    "        usebias_Win=usebias_Win,\n",
    "        alpha=alpha,\n",
    "        ESN_cell_activations=ESN_cell_activations,\n",
    "        prng_seed=prng_seed,\n",
    "        usebias_Wout=usebias_Wout,\n",
    "        use_weights_post_dense=use_weights_post_dense,\n",
    "        activation_post_Wout=activation_post_Wout,\n",
    "    )\n",
    "    save_path = dir_name_rnn+dir_sep+'final_net'\n",
    "    if not os.path.isdir(save_path):\n",
    "        os.makedirs(save_path)\n",
    "    rnn_net.build(input_shape=(batch_size,) + training_data_rnn_input.shape[1:])\n",
    "    rnn_net.save_class_dict(save_path+dir_sep+'final_net_class_dict.txt')\n",
    "else:\n",
    "    load_file = dir_name_rnn + dir_sep + 'final_net' + dir_sep + 'final_net_class_dict.txt'\n",
    "    \n",
    "    rnn_net = ESN(\n",
    "        load_file=load_file,\n",
    "    )\n",
    "    \n",
    "    if behaviour == 'loadCheckpointAndContinueTraining':\n",
    "        wt_file = tf.train.latest_checkpoint(dir_name_rnn+dir_sep+'checkpoints')\n",
    "    elif behaviour == 'loadFinalNetAndPlot':\n",
    "        wt_file = dir_name_rnn+dir_sep+'final_net'+dir_sep+'final_net_ESN_weights.h5'\n",
    "        # wt_file = dir_name_rnn+dir_sep+'final_net'+dir_sep+'f2'#+dir_sep+'saved_model.pb'\n",
    "        rnn_net.load_weights_from_file(wt_file)\n",
    "    \n",
    "    # this forces the model to initialize its kernel weights/biases\n",
    "    # temp = rnn_net.predict(tf.ones(shape=[batch_size, int(T_sample_input//dt_rnn), rnn_net.data_dim]))\n",
    "    # this loads just the kernel wieghts and biases of the model\n",
    "#     rnn_net.load_weights_from_file(wt_file)\n",
    "\n",
    "    # rnn_net = tf.keras.models.load_model(wt_file)"
   ]
  },
  {
   "cell_type": "code",
   "execution_count": 37,
   "metadata": {},
   "outputs": [
    {
     "data": {
      "text/plain": [
       "(169,)"
      ]
     },
     "execution_count": 37,
     "metadata": {},
     "output_type": "execute_result"
    }
   ],
   "source": [
    "time_stddev.shape"
   ]
  },
  {
   "cell_type": "code",
   "execution_count": 38,
   "metadata": {},
   "outputs": [],
   "source": [
    "# time_stddev = time_stddev.reshape(og_ls_shape[1:])"
   ]
  },
  {
   "cell_type": "code",
   "execution_count": 39,
   "metadata": {
    "executionInfo": {
     "elapsed": 4,
     "status": "ok",
     "timestamp": 1667868783568,
     "user": {
      "displayName": "Rohan Kaushik",
      "userId": "13918477614376051685"
     },
     "user_tz": -60
    },
    "id": "7ASCopnIH6nl"
   },
   "outputs": [],
   "source": [
    "if behaviour == 'initialiseAndTrainFromScratch':\n",
    "    val_loss_hist = []\n",
    "    train_loss_hist = []\n",
    "    lr_change=[0, 0]\n",
    "    savelosses_cb_vallossarr = np.ones(shape=epochs*len(learning_rate_list))*np.NaN\n",
    "    savelosses_cb_trainlossarr = np.ones(shape=epochs*len(learning_rate_list))*np.NaN\n",
    "    starting_lr_idx = 0\n",
    "    num_epochs_left = epochs\n",
    "    earlystopping_wait = 0\n",
    "elif behaviour == 'loadCheckpointAndContinueTraining':\n",
    "    val_loss_hist, train_loss_hist, lr_change, starting_lr_idx, num_epochs_left, val_loss_arr_fromckpt, train_loss_arr_fromckpt, earlystopping_wait = readAndReturnLossHistories(\n",
    "        dir_name_ae=dir_name_rnn,\n",
    "        dir_sep=dir_sep,\n",
    "        epochs=epochs,\n",
    "        learning_rate_list=learning_rate_list,\n",
    "        return_earlystopping_wait=True)\n",
    "    savelosses_cb_vallossarr = val_loss_arr_fromckpt\n",
    "    savelosses_cb_trainlossarr = train_loss_arr_fromckpt\n",
    "elif behaviour == 'loadFinalNetAndPlot':\n",
    "    with open(dir_name_rnn+'{ds}final_net{ds}losses.txt'.format(ds=dir_sep), 'r') as f:\n",
    "        lines = f.readlines()\n",
    "    \n",
    "    losses_dict = eval(''.join(lines))\n",
    "\n",
    "    val_loss_hist = losses_dict['val_loss_hist']\n",
    "    train_loss_hist = losses_dict['train_loss_hist']\n",
    "    lr_change = losses_dict['lr_change']\n",
    "    test_loss = losses_dict['test_loss']"
   ]
  },
  {
   "cell_type": "code",
   "execution_count": 40,
   "metadata": {},
   "outputs": [],
   "source": [
    "train_NMSE_hist = []\n",
    "val_NMSE_hist = []\n",
    "\n",
    "train_MSE_hist = []\n",
    "val_MSE_hist = []"
   ]
  },
  {
   "cell_type": "code",
   "execution_count": 41,
   "metadata": {},
   "outputs": [],
   "source": [
    "class NMSE(tf.keras.metrics.MeanSquaredError):\n",
    "    def __init__(self, divisor_arr, name='NMSE', **kwargs):\n",
    "        super(NMSE, self).__init__(name, **kwargs)\n",
    "        self.divisor_arr = divisor_arr\n",
    "\n",
    "    def update_state(self, y_true, y_pred, sample_weight=None):\n",
    "        y_true = y_true / self.divisor_arr\n",
    "        y_pred = y_pred / self.divisor_arr\n",
    "        return super(NMSE, self).update_state(y_true, y_pred, sample_weight)"
   ]
  },
  {
   "cell_type": "code",
   "execution_count": null,
   "metadata": {
    "colab": {
     "base_uri": "https://localhost:8080/"
    },
    "executionInfo": {
     "elapsed": 4769220,
     "status": "ok",
     "timestamp": 1667873552785,
     "user": {
      "displayName": "Rohan Kaushik",
      "userId": "13918477614376051685"
     },
     "user_tz": -60
    },
    "id": "6hh1pbKjCcO4",
    "outputId": "e594f4de-ec70-465e-eef7-bdef301361fa",
    "scrolled": true
   },
   "outputs": [
    {
     "name": "stdout",
     "output_type": "stream",
     "text": [
      "WARNING:tensorflow:`period` argument is deprecated. Please use `save_freq` to specify the frequency in number of batches seen.\n",
      "\n",
      "\n",
      "--------------------------------------------------------------------------------\n",
      "\n",
      "---------------------------- LEARNING RATE : 0.001 -----------------------------\n",
      "\n",
      "--------------------------------------------------------------------------------\n",
      "\n",
      "\n",
      "Epoch 1/1000\n",
      "16/16 [==============================] - ETA: 0s - loss: 0.6874 - mse: 0.6857 - NMSE: 6.1709 - tot_time: 0h 0m 11.7s\n",
      "\n",
      "Epoch 1: val_NMSE improved from inf to 5.17424, saving model to /home/rkaushik/Documents/Thesis/MLROM/Kolmogorov/saved_ESN/ESN_004/checkpoints/checkpoint\n",
      " - saving loss histories at /home/rkaushik/Documents/Thesis/MLROM/Kolmogorov/saved_ESN/ESN_004/checkpoints/LossHistoriesCheckpoint\n",
      "16/16 [==============================] - 12s 694ms/step - loss: 0.6874 - mse: 0.6857 - NMSE: 6.1709 - val_loss: 0.5766 - val_mse: 0.5749 - val_NMSE: 5.1742\n",
      "Epoch 2/1000\n",
      "16/16 [==============================] - ETA: 0s - loss: 0.3210 - mse: 0.3193 - NMSE: 2.8733 - tot_time: 0h 0m 22.3s\n",
      "\n",
      "Epoch 2: val_NMSE improved from 5.17424 to 2.05660, saving model to /home/rkaushik/Documents/Thesis/MLROM/Kolmogorov/saved_ESN/ESN_004/checkpoints/checkpoint\n",
      " - saving loss histories at /home/rkaushik/Documents/Thesis/MLROM/Kolmogorov/saved_ESN/ESN_004/checkpoints/LossHistoriesCheckpoint\n",
      "16/16 [==============================] - 11s 706ms/step - loss: 0.3210 - mse: 0.3193 - NMSE: 2.8733 - val_loss: 0.2302 - val_mse: 0.2285 - val_NMSE: 2.0566\n",
      "Epoch 3/1000\n",
      "16/16 [==============================] - ETA: 0s - loss: 0.1308 - mse: 0.1291 - NMSE: 1.1620 - tot_time: 0h 0m 33.6s\n",
      "\n",
      "Epoch 3: val_NMSE improved from 2.05660 to 0.79841, saving model to /home/rkaushik/Documents/Thesis/MLROM/Kolmogorov/saved_ESN/ESN_004/checkpoints/checkpoint\n",
      " - saving loss histories at /home/rkaushik/Documents/Thesis/MLROM/Kolmogorov/saved_ESN/ESN_004/checkpoints/LossHistoriesCheckpoint\n",
      "16/16 [==============================] - 11s 713ms/step - loss: 0.1308 - mse: 0.1291 - NMSE: 1.1620 - val_loss: 0.0904 - val_mse: 0.0887 - val_NMSE: 0.7984\n",
      "Epoch 4/1000\n",
      "16/16 [==============================] - ETA: 0s - loss: 0.0715 - mse: 0.0698 - NMSE: 0.6283 - tot_time: 0h 0m 44.8s\n",
      "\n",
      "Epoch 4: val_NMSE improved from 0.79841 to 0.61725, saving model to /home/rkaushik/Documents/Thesis/MLROM/Kolmogorov/saved_ESN/ESN_004/checkpoints/checkpoint\n",
      " - saving loss histories at /home/rkaushik/Documents/Thesis/MLROM/Kolmogorov/saved_ESN/ESN_004/checkpoints/LossHistoriesCheckpoint\n",
      "16/16 [==============================] - 11s 707ms/step - loss: 0.0715 - mse: 0.0698 - NMSE: 0.6283 - val_loss: 0.0703 - val_mse: 0.0686 - val_NMSE: 0.6172\n",
      "Epoch 5/1000\n",
      "16/16 [==============================] - ETA: 0s - loss: 0.0421 - mse: 0.0404 - NMSE: 0.3638 - tot_time: 0h 0m 56.1s\n",
      "\n",
      "Epoch 5: val_NMSE improved from 0.61725 to 0.39759, saving model to /home/rkaushik/Documents/Thesis/MLROM/Kolmogorov/saved_ESN/ESN_004/checkpoints/checkpoint\n",
      " - saving loss histories at /home/rkaushik/Documents/Thesis/MLROM/Kolmogorov/saved_ESN/ESN_004/checkpoints/LossHistoriesCheckpoint\n",
      "16/16 [==============================] - 11s 718ms/step - loss: 0.0421 - mse: 0.0404 - NMSE: 0.3638 - val_loss: 0.0458 - val_mse: 0.0442 - val_NMSE: 0.3976\n",
      "Epoch 6/1000\n",
      "16/16 [==============================] - ETA: 0s - loss: 0.0282 - mse: 0.0266 - NMSE: 0.2391 - tot_time: 0h 1m 7.4s\n",
      "\n",
      "Epoch 6: val_NMSE improved from 0.39759 to 0.31546, saving model to /home/rkaushik/Documents/Thesis/MLROM/Kolmogorov/saved_ESN/ESN_004/checkpoints/checkpoint\n",
      " - saving loss histories at /home/rkaushik/Documents/Thesis/MLROM/Kolmogorov/saved_ESN/ESN_004/checkpoints/LossHistoriesCheckpoint\n",
      "16/16 [==============================] - 11s 703ms/step - loss: 0.0282 - mse: 0.0266 - NMSE: 0.2391 - val_loss: 0.0367 - val_mse: 0.0351 - val_NMSE: 0.3155\n",
      "Epoch 7/1000\n",
      "16/16 [==============================] - ETA: 0s - loss: 0.0191 - mse: 0.0175 - NMSE: 0.1574 - tot_time: 0h 1m 18.7s\n",
      "\n",
      "Epoch 7: val_NMSE improved from 0.31546 to 0.17450, saving model to /home/rkaushik/Documents/Thesis/MLROM/Kolmogorov/saved_ESN/ESN_004/checkpoints/checkpoint\n",
      " - saving loss histories at /home/rkaushik/Documents/Thesis/MLROM/Kolmogorov/saved_ESN/ESN_004/checkpoints/LossHistoriesCheckpoint\n",
      "16/16 [==============================] - 11s 710ms/step - loss: 0.0191 - mse: 0.0175 - NMSE: 0.1574 - val_loss: 0.0210 - val_mse: 0.0194 - val_NMSE: 0.1745\n",
      "Epoch 8/1000\n",
      "16/16 [==============================] - ETA: 0s - loss: 0.0134 - mse: 0.0118 - NMSE: 0.1060 - tot_time: 0h 1m 29.7s\n",
      "\n",
      "Epoch 8: val_NMSE improved from 0.17450 to 0.11429, saving model to /home/rkaushik/Documents/Thesis/MLROM/Kolmogorov/saved_ESN/ESN_004/checkpoints/checkpoint\n",
      " - saving loss histories at /home/rkaushik/Documents/Thesis/MLROM/Kolmogorov/saved_ESN/ESN_004/checkpoints/LossHistoriesCheckpoint\n",
      "16/16 [==============================] - 11s 702ms/step - loss: 0.0134 - mse: 0.0118 - NMSE: 0.1060 - val_loss: 0.0143 - val_mse: 0.0127 - val_NMSE: 0.1143\n",
      "Epoch 9/1000\n",
      "16/16 [==============================] - ETA: 0s - loss: 0.0100 - mse: 0.0083 - NMSE: 0.0749 - tot_time: 0h 1m 40.9s\n",
      "\n",
      "Epoch 9: val_NMSE improved from 0.11429 to 0.08557, saving model to /home/rkaushik/Documents/Thesis/MLROM/Kolmogorov/saved_ESN/ESN_004/checkpoints/checkpoint\n",
      " - saving loss histories at /home/rkaushik/Documents/Thesis/MLROM/Kolmogorov/saved_ESN/ESN_004/checkpoints/LossHistoriesCheckpoint\n",
      "16/16 [==============================] - 11s 715ms/step - loss: 0.0100 - mse: 0.0083 - NMSE: 0.0749 - val_loss: 0.0111 - val_mse: 0.0095 - val_NMSE: 0.0856\n",
      "Epoch 10/1000\n",
      "16/16 [==============================] - ETA: 0s - loss: 0.0076 - mse: 0.0059 - NMSE: 0.0534 - tot_time: 0h 1m 52.2s\n",
      "\n",
      "Epoch 10: val_NMSE improved from 0.08557 to 0.06463, saving model to /home/rkaushik/Documents/Thesis/MLROM/Kolmogorov/saved_ESN/ESN_004/checkpoints/checkpoint\n",
      " - saving loss histories at /home/rkaushik/Documents/Thesis/MLROM/Kolmogorov/saved_ESN/ESN_004/checkpoints/LossHistoriesCheckpoint\n",
      "16/16 [==============================] - 11s 695ms/step - loss: 0.0076 - mse: 0.0059 - NMSE: 0.0534 - val_loss: 0.0088 - val_mse: 0.0072 - val_NMSE: 0.0646\n",
      "Epoch 11/1000\n",
      "16/16 [==============================] - ETA: 0s - loss: 0.0061 - mse: 0.0045 - NMSE: 0.0401 - tot_time: 0h 2m 3.4s\n",
      "\n",
      "Epoch 11: val_NMSE improved from 0.06463 to 0.05181, saving model to /home/rkaushik/Documents/Thesis/MLROM/Kolmogorov/saved_ESN/ESN_004/checkpoints/checkpoint\n",
      " - saving loss histories at /home/rkaushik/Documents/Thesis/MLROM/Kolmogorov/saved_ESN/ESN_004/checkpoints/LossHistoriesCheckpoint\n",
      "16/16 [==============================] - 11s 717ms/step - loss: 0.0061 - mse: 0.0045 - NMSE: 0.0401 - val_loss: 0.0074 - val_mse: 0.0058 - val_NMSE: 0.0518\n",
      "Epoch 12/1000\n",
      "16/16 [==============================] - ETA: 0s - loss: 0.0050 - mse: 0.0034 - NMSE: 0.0304 - tot_time: 0h 2m 14.7s\n",
      "\n",
      "Epoch 12: val_NMSE improved from 0.05181 to 0.04280, saving model to /home/rkaushik/Documents/Thesis/MLROM/Kolmogorov/saved_ESN/ESN_004/checkpoints/checkpoint\n",
      " - saving loss histories at /home/rkaushik/Documents/Thesis/MLROM/Kolmogorov/saved_ESN/ESN_004/checkpoints/LossHistoriesCheckpoint\n",
      "16/16 [==============================] - 11s 713ms/step - loss: 0.0050 - mse: 0.0034 - NMSE: 0.0304 - val_loss: 0.0064 - val_mse: 0.0048 - val_NMSE: 0.0428\n",
      "Epoch 13/1000\n",
      "16/16 [==============================] - ETA: 0s - loss: 0.0043 - mse: 0.0027 - NMSE: 0.0247 - tot_time: 0h 2m 25.9s\n",
      "\n",
      "Epoch 13: val_NMSE improved from 0.04280 to 0.04020, saving model to /home/rkaushik/Documents/Thesis/MLROM/Kolmogorov/saved_ESN/ESN_004/checkpoints/checkpoint\n",
      " - saving loss histories at /home/rkaushik/Documents/Thesis/MLROM/Kolmogorov/saved_ESN/ESN_004/checkpoints/LossHistoriesCheckpoint\n",
      "16/16 [==============================] - 11s 703ms/step - loss: 0.0043 - mse: 0.0027 - NMSE: 0.0247 - val_loss: 0.0061 - val_mse: 0.0045 - val_NMSE: 0.0402\n",
      "Epoch 14/1000\n",
      "16/16 [==============================] - ETA: 0s - loss: 0.0039 - mse: 0.0023 - NMSE: 0.0207 - tot_time: 0h 2m 37.1s\n",
      "\n",
      "Epoch 14: val_NMSE improved from 0.04020 to 0.03041, saving model to /home/rkaushik/Documents/Thesis/MLROM/Kolmogorov/saved_ESN/ESN_004/checkpoints/checkpoint\n",
      " - saving loss histories at /home/rkaushik/Documents/Thesis/MLROM/Kolmogorov/saved_ESN/ESN_004/checkpoints/LossHistoriesCheckpoint\n",
      "16/16 [==============================] - 11s 710ms/step - loss: 0.0039 - mse: 0.0023 - NMSE: 0.0207 - val_loss: 0.0050 - val_mse: 0.0034 - val_NMSE: 0.0304\n"
     ]
    },
    {
     "name": "stdout",
     "output_type": "stream",
     "text": [
      "Epoch 15/1000\n",
      "16/16 [==============================] - ETA: 0s - loss: 0.0035 - mse: 0.0019 - NMSE: 0.0175 - tot_time: 0h 2m 48.4s\n",
      "\n",
      "Epoch 15: val_NMSE did not improve from 0.03041\n",
      " - saving loss histories at /home/rkaushik/Documents/Thesis/MLROM/Kolmogorov/saved_ESN/ESN_004/checkpoints/LossHistoriesCheckpoint\n",
      "16/16 [==============================] - 11s 675ms/step - loss: 0.0035 - mse: 0.0019 - NMSE: 0.0175 - val_loss: 0.0051 - val_mse: 0.0035 - val_NMSE: 0.0317\n",
      "Epoch 16/1000\n",
      "16/16 [==============================] - ETA: 0s - loss: 0.0034 - mse: 0.0018 - NMSE: 0.0161 - tot_time: 0h 2m 59.0s\n",
      "\n",
      "Epoch 16: val_NMSE improved from 0.03041 to 0.02324, saving model to /home/rkaushik/Documents/Thesis/MLROM/Kolmogorov/saved_ESN/ESN_004/checkpoints/checkpoint\n",
      " - saving loss histories at /home/rkaushik/Documents/Thesis/MLROM/Kolmogorov/saved_ESN/ESN_004/checkpoints/LossHistoriesCheckpoint\n",
      "16/16 [==============================] - 11s 700ms/step - loss: 0.0034 - mse: 0.0018 - NMSE: 0.0161 - val_loss: 0.0042 - val_mse: 0.0026 - val_NMSE: 0.0232\n",
      "Epoch 17/1000\n",
      "16/16 [==============================] - ETA: 0s - loss: 0.0031 - mse: 0.0015 - NMSE: 0.0137 - tot_time: 0h 3m 10.3s\n",
      "\n",
      "Epoch 17: val_NMSE did not improve from 0.02324\n",
      " - saving loss histories at /home/rkaushik/Documents/Thesis/MLROM/Kolmogorov/saved_ESN/ESN_004/checkpoints/LossHistoriesCheckpoint\n",
      "16/16 [==============================] - 11s 675ms/step - loss: 0.0031 - mse: 0.0015 - NMSE: 0.0137 - val_loss: 0.0043 - val_mse: 0.0027 - val_NMSE: 0.0246\n",
      "Epoch 18/1000\n",
      "16/16 [==============================] - ETA: 0s - loss: 0.0030 - mse: 0.0014 - NMSE: 0.0128 - tot_time: 0h 3m 21.2s\n",
      "\n",
      "Epoch 18: val_NMSE improved from 0.02324 to 0.01899, saving model to /home/rkaushik/Documents/Thesis/MLROM/Kolmogorov/saved_ESN/ESN_004/checkpoints/checkpoint\n",
      " - saving loss histories at /home/rkaushik/Documents/Thesis/MLROM/Kolmogorov/saved_ESN/ESN_004/checkpoints/LossHistoriesCheckpoint\n",
      "16/16 [==============================] - 12s 725ms/step - loss: 0.0030 - mse: 0.0014 - NMSE: 0.0128 - val_loss: 0.0037 - val_mse: 0.0021 - val_NMSE: 0.0190\n",
      "Epoch 19/1000\n",
      "16/16 [==============================] - ETA: 0s - loss: 0.0028 - mse: 0.0013 - NMSE: 0.0113 - tot_time: 0h 3m 32.6s\n",
      "\n",
      "Epoch 19: val_NMSE did not improve from 0.01899\n",
      " - saving loss histories at /home/rkaushik/Documents/Thesis/MLROM/Kolmogorov/saved_ESN/ESN_004/checkpoints/LossHistoriesCheckpoint\n",
      "16/16 [==============================] - 11s 685ms/step - loss: 0.0028 - mse: 0.0013 - NMSE: 0.0113 - val_loss: 0.0037 - val_mse: 0.0022 - val_NMSE: 0.0196\n",
      "Epoch 20/1000\n",
      "16/16 [==============================] - ETA: 0s - loss: 0.0027 - mse: 0.0012 - NMSE: 0.0107 - tot_time: 0h 3m 43.3s\n",
      "\n",
      "Epoch 20: val_NMSE improved from 0.01899 to 0.01656, saving model to /home/rkaushik/Documents/Thesis/MLROM/Kolmogorov/saved_ESN/ESN_004/checkpoints/checkpoint\n",
      " - saving loss histories at /home/rkaushik/Documents/Thesis/MLROM/Kolmogorov/saved_ESN/ESN_004/checkpoints/LossHistoriesCheckpoint\n",
      "16/16 [==============================] - 11s 706ms/step - loss: 0.0027 - mse: 0.0012 - NMSE: 0.0107 - val_loss: 0.0034 - val_mse: 0.0018 - val_NMSE: 0.0166\n",
      "Epoch 21/1000\n",
      "16/16 [==============================] - ETA: 0s - loss: 0.0026 - mse: 0.0011 - NMSE: 0.0098 - tot_time: 0h 3m 54.6s\n",
      "\n",
      "Epoch 21: val_NMSE did not improve from 0.01656\n",
      " - saving loss histories at /home/rkaushik/Documents/Thesis/MLROM/Kolmogorov/saved_ESN/ESN_004/checkpoints/LossHistoriesCheckpoint\n",
      "16/16 [==============================] - 11s 675ms/step - loss: 0.0026 - mse: 0.0011 - NMSE: 0.0098 - val_loss: 0.0034 - val_mse: 0.0019 - val_NMSE: 0.0167\n",
      "Epoch 22/1000\n",
      "16/16 [==============================] - ETA: 0s - loss: 0.0026 - mse: 0.0010 - NMSE: 0.0094 - tot_time: 0h 4m 5.3s\n",
      "\n",
      "Epoch 22: val_NMSE improved from 0.01656 to 0.01547, saving model to /home/rkaushik/Documents/Thesis/MLROM/Kolmogorov/saved_ESN/ESN_004/checkpoints/checkpoint\n",
      " - saving loss histories at /home/rkaushik/Documents/Thesis/MLROM/Kolmogorov/saved_ESN/ESN_004/checkpoints/LossHistoriesCheckpoint\n",
      "16/16 [==============================] - 11s 713ms/step - loss: 0.0026 - mse: 0.0010 - NMSE: 0.0094 - val_loss: 0.0032 - val_mse: 0.0017 - val_NMSE: 0.0155\n",
      "Epoch 23/1000\n",
      "16/16 [==============================] - ETA: 0s - loss: 0.0025 - mse: 9.9014e-04 - NMSE: 0.0089 - tot_time: 0h 4m 16.6s\n",
      "\n",
      "Epoch 23: val_NMSE improved from 0.01547 to 0.01528, saving model to /home/rkaushik/Documents/Thesis/MLROM/Kolmogorov/saved_ESN/ESN_004/checkpoints/checkpoint\n",
      " - saving loss histories at /home/rkaushik/Documents/Thesis/MLROM/Kolmogorov/saved_ESN/ESN_004/checkpoints/LossHistoriesCheckpoint\n",
      "16/16 [==============================] - 11s 716ms/step - loss: 0.0025 - mse: 9.9014e-04 - NMSE: 0.0089 - val_loss: 0.0032 - val_mse: 0.0017 - val_NMSE: 0.0153\n",
      "Epoch 24/1000\n",
      "16/16 [==============================] - ETA: 0s - loss: 0.0025 - mse: 9.5416e-04 - NMSE: 0.0086 - tot_time: 0h 4m 28.0s\n",
      "\n",
      "Epoch 24: val_NMSE improved from 0.01528 to 0.01486, saving model to /home/rkaushik/Documents/Thesis/MLROM/Kolmogorov/saved_ESN/ESN_004/checkpoints/checkpoint\n",
      " - saving loss histories at /home/rkaushik/Documents/Thesis/MLROM/Kolmogorov/saved_ESN/ESN_004/checkpoints/LossHistoriesCheckpoint\n",
      "16/16 [==============================] - 11s 720ms/step - loss: 0.0025 - mse: 9.5416e-04 - NMSE: 0.0086 - val_loss: 0.0032 - val_mse: 0.0017 - val_NMSE: 0.0149\n",
      "Epoch 25/1000\n",
      "16/16 [==============================] - ETA: 0s - loss: 0.0024 - mse: 9.2172e-04 - NMSE: 0.0083 - tot_time: 0h 4m 39.4s\n",
      "\n",
      "Epoch 25: val_NMSE improved from 0.01486 to 0.01458, saving model to /home/rkaushik/Documents/Thesis/MLROM/Kolmogorov/saved_ESN/ESN_004/checkpoints/checkpoint\n",
      " - saving loss histories at /home/rkaushik/Documents/Thesis/MLROM/Kolmogorov/saved_ESN/ESN_004/checkpoints/LossHistoriesCheckpoint\n",
      "16/16 [==============================] - 11s 719ms/step - loss: 0.0024 - mse: 9.2172e-04 - NMSE: 0.0083 - val_loss: 0.0031 - val_mse: 0.0016 - val_NMSE: 0.0146\n",
      "Epoch 26/1000\n",
      "16/16 [==============================] - ETA: 0s - loss: 0.0024 - mse: 8.9441e-04 - NMSE: 0.0080 - tot_time: 0h 4m 50.8s\n",
      "\n",
      "Epoch 26: val_NMSE improved from 0.01458 to 0.01434, saving model to /home/rkaushik/Documents/Thesis/MLROM/Kolmogorov/saved_ESN/ESN_004/checkpoints/checkpoint\n",
      " - saving loss histories at /home/rkaushik/Documents/Thesis/MLROM/Kolmogorov/saved_ESN/ESN_004/checkpoints/LossHistoriesCheckpoint\n",
      "16/16 [==============================] - 11s 712ms/step - loss: 0.0024 - mse: 8.9441e-04 - NMSE: 0.0080 - val_loss: 0.0031 - val_mse: 0.0016 - val_NMSE: 0.0143\n",
      "Epoch 27/1000\n",
      "16/16 [==============================] - ETA: 0s - loss: 0.0024 - mse: 8.7039e-04 - NMSE: 0.0078 - tot_time: 0h 5m 2.0s\n",
      "\n",
      "Epoch 27: val_NMSE improved from 0.01434 to 0.01407, saving model to /home/rkaushik/Documents/Thesis/MLROM/Kolmogorov/saved_ESN/ESN_004/checkpoints/checkpoint\n",
      " - saving loss histories at /home/rkaushik/Documents/Thesis/MLROM/Kolmogorov/saved_ESN/ESN_004/checkpoints/LossHistoriesCheckpoint\n",
      "16/16 [==============================] - 11s 711ms/step - loss: 0.0024 - mse: 8.7039e-04 - NMSE: 0.0078 - val_loss: 0.0030 - val_mse: 0.0016 - val_NMSE: 0.0141\n",
      "Epoch 28/1000\n",
      "16/16 [==============================] - ETA: 0s - loss: 0.0023 - mse: 8.4882e-04 - NMSE: 0.0076 - tot_time: 0h 5m 13.3s\n",
      "\n",
      "Epoch 28: val_NMSE improved from 0.01407 to 0.01376, saving model to /home/rkaushik/Documents/Thesis/MLROM/Kolmogorov/saved_ESN/ESN_004/checkpoints/checkpoint\n",
      " - saving loss histories at /home/rkaushik/Documents/Thesis/MLROM/Kolmogorov/saved_ESN/ESN_004/checkpoints/LossHistoriesCheckpoint\n",
      "16/16 [==============================] - 11s 714ms/step - loss: 0.0023 - mse: 8.4882e-04 - NMSE: 0.0076 - val_loss: 0.0030 - val_mse: 0.0015 - val_NMSE: 0.0138\n",
      "Epoch 29/1000\n",
      "16/16 [==============================] - ETA: 0s - loss: 0.0023 - mse: 8.3084e-04 - NMSE: 0.0075 - tot_time: 0h 5m 24.5s\n",
      "\n",
      "Epoch 29: val_NMSE improved from 0.01376 to 0.01352, saving model to /home/rkaushik/Documents/Thesis/MLROM/Kolmogorov/saved_ESN/ESN_004/checkpoints/checkpoint\n",
      " - saving loss histories at /home/rkaushik/Documents/Thesis/MLROM/Kolmogorov/saved_ESN/ESN_004/checkpoints/LossHistoriesCheckpoint\n",
      "16/16 [==============================] - 11s 706ms/step - loss: 0.0023 - mse: 8.3084e-04 - NMSE: 0.0075 - val_loss: 0.0030 - val_mse: 0.0015 - val_NMSE: 0.0135\n"
     ]
    },
    {
     "name": "stdout",
     "output_type": "stream",
     "text": [
      "Epoch 30/1000\n",
      "16/16 [==============================] - ETA: 0s - loss: 0.0023 - mse: 8.1629e-04 - NMSE: 0.0073 - tot_time: 0h 5m 35.9s\n",
      "\n",
      "Epoch 30: val_NMSE improved from 0.01352 to 0.01324, saving model to /home/rkaushik/Documents/Thesis/MLROM/Kolmogorov/saved_ESN/ESN_004/checkpoints/checkpoint\n",
      " - saving loss histories at /home/rkaushik/Documents/Thesis/MLROM/Kolmogorov/saved_ESN/ESN_004/checkpoints/LossHistoriesCheckpoint\n",
      "16/16 [==============================] - 11s 724ms/step - loss: 0.0023 - mse: 8.1629e-04 - NMSE: 0.0073 - val_loss: 0.0029 - val_mse: 0.0015 - val_NMSE: 0.0132\n",
      "Epoch 31/1000\n",
      "16/16 [==============================] - ETA: 0s - loss: 0.0023 - mse: 8.0540e-04 - NMSE: 0.0072 - tot_time: 0h 5m 47.3s\n",
      "\n",
      "Epoch 31: val_NMSE improved from 0.01324 to 0.01294, saving model to /home/rkaushik/Documents/Thesis/MLROM/Kolmogorov/saved_ESN/ESN_004/checkpoints/checkpoint\n",
      " - saving loss histories at /home/rkaushik/Documents/Thesis/MLROM/Kolmogorov/saved_ESN/ESN_004/checkpoints/LossHistoriesCheckpoint\n",
      "16/16 [==============================] - 11s 719ms/step - loss: 0.0023 - mse: 8.0540e-04 - NMSE: 0.0072 - val_loss: 0.0029 - val_mse: 0.0014 - val_NMSE: 0.0129\n",
      "Epoch 32/1000\n",
      "16/16 [==============================] - ETA: 0s - loss: 0.0022 - mse: 7.9684e-04 - NMSE: 0.0072 - tot_time: 0h 5m 58.7s\n",
      "\n",
      "Epoch 32: val_NMSE improved from 0.01294 to 0.01266, saving model to /home/rkaushik/Documents/Thesis/MLROM/Kolmogorov/saved_ESN/ESN_004/checkpoints/checkpoint\n",
      " - saving loss histories at /home/rkaushik/Documents/Thesis/MLROM/Kolmogorov/saved_ESN/ESN_004/checkpoints/LossHistoriesCheckpoint\n",
      "16/16 [==============================] - 11s 720ms/step - loss: 0.0022 - mse: 7.9684e-04 - NMSE: 0.0072 - val_loss: 0.0028 - val_mse: 0.0014 - val_NMSE: 0.0127\n",
      "Epoch 33/1000\n",
      "16/16 [==============================] - ETA: 0s - loss: 0.0022 - mse: 7.9429e-04 - NMSE: 0.0071 - tot_time: 0h 6m 10.0s\n",
      "\n",
      "Epoch 33: val_NMSE improved from 0.01266 to 0.01253, saving model to /home/rkaushik/Documents/Thesis/MLROM/Kolmogorov/saved_ESN/ESN_004/checkpoints/checkpoint\n",
      " - saving loss histories at /home/rkaushik/Documents/Thesis/MLROM/Kolmogorov/saved_ESN/ESN_004/checkpoints/LossHistoriesCheckpoint\n",
      "16/16 [==============================] - 11s 704ms/step - loss: 0.0022 - mse: 7.9429e-04 - NMSE: 0.0071 - val_loss: 0.0028 - val_mse: 0.0014 - val_NMSE: 0.0125\n",
      "Epoch 34/1000\n",
      "16/16 [==============================] - ETA: 0s - loss: 0.0022 - mse: 7.9669e-04 - NMSE: 0.0072 - tot_time: 0h 6m 21.1s\n",
      "\n",
      "Epoch 34: val_NMSE improved from 0.01253 to 0.01241, saving model to /home/rkaushik/Documents/Thesis/MLROM/Kolmogorov/saved_ESN/ESN_004/checkpoints/checkpoint\n",
      " - saving loss histories at /home/rkaushik/Documents/Thesis/MLROM/Kolmogorov/saved_ESN/ESN_004/checkpoints/LossHistoriesCheckpoint\n",
      "16/16 [==============================] - 11s 705ms/step - loss: 0.0022 - mse: 7.9669e-04 - NMSE: 0.0072 - val_loss: 0.0028 - val_mse: 0.0014 - val_NMSE: 0.0124\n",
      "Epoch 35/1000\n",
      "16/16 [==============================] - ETA: 0s - loss: 0.0022 - mse: 8.0579e-04 - NMSE: 0.0073 - tot_time: 0h 6m 32.4s\n",
      "\n",
      "Epoch 35: val_NMSE did not improve from 0.01241\n",
      " - saving loss histories at /home/rkaushik/Documents/Thesis/MLROM/Kolmogorov/saved_ESN/ESN_004/checkpoints/LossHistoriesCheckpoint\n",
      "16/16 [==============================] - 11s 674ms/step - loss: 0.0022 - mse: 8.0579e-04 - NMSE: 0.0073 - val_loss: 0.0028 - val_mse: 0.0014 - val_NMSE: 0.0125\n",
      "Epoch 36/1000\n",
      "16/16 [==============================] - ETA: 0s - loss: 0.0022 - mse: 8.2442e-04 - NMSE: 0.0074 - tot_time: 0h 6m 43.1s\n",
      "\n",
      "Epoch 36: val_NMSE did not improve from 0.01241\n",
      " - saving loss histories at /home/rkaushik/Documents/Thesis/MLROM/Kolmogorov/saved_ESN/ESN_004/checkpoints/LossHistoriesCheckpoint\n",
      "16/16 [==============================] - 11s 674ms/step - loss: 0.0022 - mse: 8.2442e-04 - NMSE: 0.0074 - val_loss: 0.0028 - val_mse: 0.0014 - val_NMSE: 0.0129\n",
      "Epoch 37/1000\n",
      "16/16 [==============================] - ETA: 0s - loss: 0.0023 - mse: 8.5603e-04 - NMSE: 0.0077 - tot_time: 0h 6m 53.9s\n",
      "\n",
      "Epoch 37: val_NMSE did not improve from 0.01241\n",
      " - saving loss histories at /home/rkaushik/Documents/Thesis/MLROM/Kolmogorov/saved_ESN/ESN_004/checkpoints/LossHistoriesCheckpoint\n",
      "16/16 [==============================] - 11s 679ms/step - loss: 0.0023 - mse: 8.5603e-04 - NMSE: 0.0077 - val_loss: 0.0029 - val_mse: 0.0015 - val_NMSE: 0.0138\n",
      "Epoch 38/1000\n",
      "16/16 [==============================] - ETA: 0s - loss: 0.0023 - mse: 9.1414e-04 - NMSE: 0.0082 - tot_time: 0h 7m 4.6s\n",
      "\n",
      "Epoch 38: val_NMSE did not improve from 0.01241\n",
      " - saving loss histories at /home/rkaushik/Documents/Thesis/MLROM/Kolmogorov/saved_ESN/ESN_004/checkpoints/LossHistoriesCheckpoint\n",
      "16/16 [==============================] - 11s 672ms/step - loss: 0.0023 - mse: 9.1414e-04 - NMSE: 0.0082 - val_loss: 0.0031 - val_mse: 0.0017 - val_NMSE: 0.0156\n",
      "Epoch 39/1000\n",
      "16/16 [==============================] - ETA: 0s - loss: 0.0024 - mse: 0.0010 - NMSE: 0.0090 - tot_time: 0h 7m 15.2s\n",
      "\n",
      "Epoch 39: val_NMSE did not improve from 0.01241\n",
      " - saving loss histories at /home/rkaushik/Documents/Thesis/MLROM/Kolmogorov/saved_ESN/ESN_004/checkpoints/LossHistoriesCheckpoint\n",
      "16/16 [==============================] - 11s 670ms/step - loss: 0.0024 - mse: 0.0010 - NMSE: 0.0090 - val_loss: 0.0034 - val_mse: 0.0021 - val_NMSE: 0.0186\n",
      "Epoch 40/1000\n",
      "16/16 [==============================] - ETA: 0s - loss: 0.0025 - mse: 0.0011 - NMSE: 0.0102 - tot_time: 0h 7m 25.8s\n",
      "\n",
      "Epoch 40: val_NMSE did not improve from 0.01241\n",
      " - saving loss histories at /home/rkaushik/Documents/Thesis/MLROM/Kolmogorov/saved_ESN/ESN_004/checkpoints/LossHistoriesCheckpoint\n",
      "16/16 [==============================] - 11s 663ms/step - loss: 0.0025 - mse: 0.0011 - NMSE: 0.0102 - val_loss: 0.0039 - val_mse: 0.0026 - val_NMSE: 0.0231\n",
      "Epoch 41/1000\n",
      "16/16 [==============================] - ETA: 0s - loss: 0.0026 - mse: 0.0013 - NMSE: 0.0116 - tot_time: 0h 7m 36.4s\n",
      "\n",
      "Epoch 41: val_NMSE did not improve from 0.01241\n",
      " - saving loss histories at /home/rkaushik/Documents/Thesis/MLROM/Kolmogorov/saved_ESN/ESN_004/checkpoints/LossHistoriesCheckpoint\n",
      "16/16 [==============================] - 11s 670ms/step - loss: 0.0026 - mse: 0.0013 - NMSE: 0.0116 - val_loss: 0.0046 - val_mse: 0.0033 - val_NMSE: 0.0294\n",
      "Epoch 42/1000\n",
      "16/16 [==============================] - ETA: 0s - loss: 0.0029 - mse: 0.0015 - NMSE: 0.0135 - tot_time: 0h 7m 47.0s\n",
      "\n",
      "Epoch 42: val_NMSE did not improve from 0.01241\n",
      " - saving loss histories at /home/rkaushik/Documents/Thesis/MLROM/Kolmogorov/saved_ESN/ESN_004/checkpoints/LossHistoriesCheckpoint\n",
      "16/16 [==============================] - 11s 669ms/step - loss: 0.0029 - mse: 0.0015 - NMSE: 0.0135 - val_loss: 0.0056 - val_mse: 0.0042 - val_NMSE: 0.0381\n",
      "Epoch 43/1000\n",
      "16/16 [==============================] - ETA: 0s - loss: 0.0034 - mse: 0.0021 - NMSE: 0.0188 - tot_time: 0h 7m 57.8s\n",
      "\n",
      "Epoch 43: val_NMSE did not improve from 0.01241\n",
      " - saving loss histories at /home/rkaushik/Documents/Thesis/MLROM/Kolmogorov/saved_ESN/ESN_004/checkpoints/LossHistoriesCheckpoint\n",
      "16/16 [==============================] - 11s 681ms/step - loss: 0.0034 - mse: 0.0021 - NMSE: 0.0188 - val_loss: 0.0067 - val_mse: 0.0053 - val_NMSE: 0.0479\n",
      "Epoch 44/1000\n",
      "16/16 [==============================] - ETA: 0s - loss: 0.0041 - mse: 0.0027 - NMSE: 0.0245 - tot_time: 0h 8m 8.2s\n",
      "\n",
      "Epoch 44: val_NMSE did not improve from 0.01241\n",
      " - saving loss histories at /home/rkaushik/Documents/Thesis/MLROM/Kolmogorov/saved_ESN/ESN_004/checkpoints/LossHistoriesCheckpoint\n",
      "16/16 [==============================] - 10s 651ms/step - loss: 0.0041 - mse: 0.0027 - NMSE: 0.0245 - val_loss: 0.0071 - val_mse: 0.0058 - val_NMSE: 0.0522\n",
      "Epoch 45/1000\n",
      "16/16 [==============================] - ETA: 0s - loss: 0.0050 - mse: 0.0037 - NMSE: 0.0329 - tot_time: 0h 8m 18.7s\n",
      "\n",
      "Epoch 45: val_NMSE did not improve from 0.01241\n",
      " - saving loss histories at /home/rkaushik/Documents/Thesis/MLROM/Kolmogorov/saved_ESN/ESN_004/checkpoints/LossHistoriesCheckpoint\n",
      "16/16 [==============================] - 11s 666ms/step - loss: 0.0050 - mse: 0.0037 - NMSE: 0.0329 - val_loss: 0.0105 - val_mse: 0.0092 - val_NMSE: 0.0826\n",
      "Epoch 46/1000\n"
     ]
    },
    {
     "name": "stdout",
     "output_type": "stream",
     "text": [
      "16/16 [==============================] - ETA: 0s - loss: 0.0067 - mse: 0.0054 - NMSE: 0.0486 - tot_time: 0h 8m 29.2s\n",
      "\n",
      "Epoch 46: val_NMSE did not improve from 0.01241\n",
      " - saving loss histories at /home/rkaushik/Documents/Thesis/MLROM/Kolmogorov/saved_ESN/ESN_004/checkpoints/LossHistoriesCheckpoint\n",
      "16/16 [==============================] - 10s 657ms/step - loss: 0.0067 - mse: 0.0054 - NMSE: 0.0486 - val_loss: 0.0106 - val_mse: 0.0092 - val_NMSE: 0.0831\n",
      "Epoch 47/1000\n",
      "16/16 [==============================] - ETA: 0s - loss: 0.0058 - mse: 0.0045 - NMSE: 0.0407 - tot_time: 0h 8m 39.9s\n",
      "\n",
      "Epoch 47: val_NMSE did not improve from 0.01241\n",
      " - saving loss histories at /home/rkaushik/Documents/Thesis/MLROM/Kolmogorov/saved_ESN/ESN_004/checkpoints/LossHistoriesCheckpoint\n",
      "16/16 [==============================] - 11s 671ms/step - loss: 0.0058 - mse: 0.0045 - NMSE: 0.0407 - val_loss: 0.0070 - val_mse: 0.0057 - val_NMSE: 0.0515\n",
      "Epoch 48/1000\n",
      "16/16 [==============================] - ETA: 0s - loss: 0.0063 - mse: 0.0050 - NMSE: 0.0450 - tot_time: 0h 8m 50.5s\n",
      "\n",
      "Epoch 48: val_NMSE did not improve from 0.01241\n",
      " - saving loss histories at /home/rkaushik/Documents/Thesis/MLROM/Kolmogorov/saved_ESN/ESN_004/checkpoints/LossHistoriesCheckpoint\n",
      "16/16 [==============================] - 11s 666ms/step - loss: 0.0063 - mse: 0.0050 - NMSE: 0.0450 - val_loss: 0.0087 - val_mse: 0.0074 - val_NMSE: 0.0662\n",
      "Epoch 49/1000\n",
      "16/16 [==============================] - ETA: 0s - loss: 0.0074 - mse: 0.0061 - NMSE: 0.0551 - tot_time: 0h 9m 1.1s\n",
      "\n",
      "Epoch 49: val_NMSE did not improve from 0.01241\n",
      " - saving loss histories at /home/rkaushik/Documents/Thesis/MLROM/Kolmogorov/saved_ESN/ESN_004/checkpoints/LossHistoriesCheckpoint\n",
      "16/16 [==============================] - 11s 673ms/step - loss: 0.0074 - mse: 0.0061 - NMSE: 0.0551 - val_loss: 0.0120 - val_mse: 0.0107 - val_NMSE: 0.0961\n",
      "Epoch 50/1000\n",
      "16/16 [==============================] - ETA: 0s - loss: 0.0084 - mse: 0.0071 - NMSE: 0.0641 - tot_time: 0h 9m 11.8s\n",
      "\n",
      "Epoch 50: val_NMSE did not improve from 0.01241\n",
      " - saving loss histories at /home/rkaushik/Documents/Thesis/MLROM/Kolmogorov/saved_ESN/ESN_004/checkpoints/LossHistoriesCheckpoint\n",
      "16/16 [==============================] - 11s 670ms/step - loss: 0.0084 - mse: 0.0071 - NMSE: 0.0641 - val_loss: 0.0138 - val_mse: 0.0125 - val_NMSE: 0.1125\n",
      "Epoch 51/1000\n",
      "16/16 [==============================] - ETA: 0s - loss: 0.0087 - mse: 0.0074 - NMSE: 0.0666 - tot_time: 0h 9m 22.4s\n",
      "\n",
      "Epoch 51: val_NMSE did not improve from 0.01241\n",
      " - saving loss histories at /home/rkaushik/Documents/Thesis/MLROM/Kolmogorov/saved_ESN/ESN_004/checkpoints/LossHistoriesCheckpoint\n",
      "16/16 [==============================] - 11s 668ms/step - loss: 0.0087 - mse: 0.0074 - NMSE: 0.0666 - val_loss: 0.0129 - val_mse: 0.0116 - val_NMSE: 0.1045\n",
      "Epoch 52/1000\n",
      "16/16 [==============================] - ETA: 0s - loss: 0.0091 - mse: 0.0078 - NMSE: 0.0704 - tot_time: 0h 9m 33.1s\n",
      "\n",
      "Epoch 52: val_NMSE did not improve from 0.01241\n",
      " - saving loss histories at /home/rkaushik/Documents/Thesis/MLROM/Kolmogorov/saved_ESN/ESN_004/checkpoints/LossHistoriesCheckpoint\n",
      "16/16 [==============================] - 11s 673ms/step - loss: 0.0091 - mse: 0.0078 - NMSE: 0.0704 - val_loss: 0.0168 - val_mse: 0.0155 - val_NMSE: 0.1399\n",
      "Epoch 53/1000\n",
      "16/16 [==============================] - ETA: 0s - loss: 0.0110 - mse: 0.0098 - NMSE: 0.0880 - tot_time: 0h 9m 43.9s\n",
      "\n",
      "Epoch 53: val_NMSE did not improve from 0.01241\n",
      " - saving loss histories at /home/rkaushik/Documents/Thesis/MLROM/Kolmogorov/saved_ESN/ESN_004/checkpoints/LossHistoriesCheckpoint\n",
      "16/16 [==============================] - 11s 679ms/step - loss: 0.0110 - mse: 0.0098 - NMSE: 0.0880 - val_loss: 0.0207 - val_mse: 0.0194 - val_NMSE: 0.1746\n",
      "Epoch 54/1000\n",
      "16/16 [==============================] - ETA: 0s - loss: 0.0130 - mse: 0.0117 - NMSE: 0.1054 - tot_time: 0h 9m 54.7s\n",
      "\n",
      "Epoch 54: val_NMSE did not improve from 0.01241\n",
      " - saving loss histories at /home/rkaushik/Documents/Thesis/MLROM/Kolmogorov/saved_ESN/ESN_004/checkpoints/LossHistoriesCheckpoint\n",
      "16/16 [==============================] - 11s 681ms/step - loss: 0.0130 - mse: 0.0117 - NMSE: 0.1054 - val_loss: 0.0218 - val_mse: 0.0205 - val_NMSE: 0.1844\n",
      "Epoch 55/1000\n",
      "16/16 [==============================] - ETA: 0s - loss: 0.0131 - mse: 0.0118 - NMSE: 0.1065 - tot_time: 0h 10m 5.4s\n",
      "\n",
      "Epoch 55: val_NMSE did not improve from 0.01241\n",
      " - saving loss histories at /home/rkaushik/Documents/Thesis/MLROM/Kolmogorov/saved_ESN/ESN_004/checkpoints/LossHistoriesCheckpoint\n",
      "16/16 [==============================] - 11s 674ms/step - loss: 0.0131 - mse: 0.0118 - NMSE: 0.1065 - val_loss: 0.0215 - val_mse: 0.0203 - val_NMSE: 0.1824\n",
      "Epoch 56/1000\n",
      "16/16 [==============================] - ETA: 0s - loss: 0.0135 - mse: 0.0122 - NMSE: 0.1101 - tot_time: 0h 10m 16.1s\n",
      "\n",
      "Epoch 56: val_NMSE did not improve from 0.01241\n",
      " - saving loss histories at /home/rkaushik/Documents/Thesis/MLROM/Kolmogorov/saved_ESN/ESN_004/checkpoints/LossHistoriesCheckpoint\n",
      "16/16 [==============================] - 11s 676ms/step - loss: 0.0135 - mse: 0.0122 - NMSE: 0.1101 - val_loss: 0.0225 - val_mse: 0.0213 - val_NMSE: 0.1914\n",
      "Epoch 57/1000\n",
      "16/16 [==============================] - ETA: 0s - loss: 0.0156 - mse: 0.0143 - NMSE: 0.1288 - tot_time: 0h 10m 26.7s\n",
      "\n",
      "Epoch 57: val_NMSE did not improve from 0.01241\n",
      " - saving loss histories at /home/rkaushik/Documents/Thesis/MLROM/Kolmogorov/saved_ESN/ESN_004/checkpoints/LossHistoriesCheckpoint\n",
      "16/16 [==============================] - 11s 666ms/step - loss: 0.0156 - mse: 0.0143 - NMSE: 0.1288 - val_loss: 0.0263 - val_mse: 0.0250 - val_NMSE: 0.2254\n",
      "Epoch 58/1000\n",
      "16/16 [==============================] - ETA: 0s - loss: 0.0173 - mse: 0.0161 - NMSE: 0.1447 - tot_time: 0h 10m 37.5s\n",
      "\n",
      "Epoch 58: val_NMSE did not improve from 0.01241\n",
      " - saving loss histories at /home/rkaushik/Documents/Thesis/MLROM/Kolmogorov/saved_ESN/ESN_004/checkpoints/LossHistoriesCheckpoint\n",
      "16/16 [==============================] - 11s 679ms/step - loss: 0.0173 - mse: 0.0161 - NMSE: 0.1447 - val_loss: 0.0352 - val_mse: 0.0339 - val_NMSE: 0.3055\n",
      "Epoch 59/1000\n",
      "16/16 [==============================] - ETA: 0s - loss: 0.0189 - mse: 0.0177 - NMSE: 0.1589 - tot_time: 0h 10m 48.3s\n",
      "\n",
      "Epoch 59: val_NMSE did not improve from 0.01241\n",
      " - saving loss histories at /home/rkaushik/Documents/Thesis/MLROM/Kolmogorov/saved_ESN/ESN_004/checkpoints/LossHistoriesCheckpoint\n",
      "16/16 [==============================] - 11s 677ms/step - loss: 0.0189 - mse: 0.0177 - NMSE: 0.1589 - val_loss: 0.0364 - val_mse: 0.0352 - val_NMSE: 0.3169\n",
      "Epoch 60/1000\n",
      "16/16 [==============================] - ETA: 0s - loss: 0.0197 - mse: 0.0184 - NMSE: 0.1658 - tot_time: 0h 10m 59.1s\n",
      "\n",
      "Epoch 60: val_NMSE did not improve from 0.01241\n",
      " - saving loss histories at /home/rkaushik/Documents/Thesis/MLROM/Kolmogorov/saved_ESN/ESN_004/checkpoints/LossHistoriesCheckpoint\n",
      "16/16 [==============================] - 11s 681ms/step - loss: 0.0197 - mse: 0.0184 - NMSE: 0.1658 - val_loss: 0.0387 - val_mse: 0.0374 - val_NMSE: 0.3369\n",
      "Epoch 61/1000\n",
      "16/16 [==============================] - ETA: 0s - loss: 0.0230 - mse: 0.0218 - NMSE: 0.1962 - tot_time: 0h 11m 9.9s\n",
      "\n",
      "Epoch 61: val_NMSE did not improve from 0.01241\n",
      " - saving loss histories at /home/rkaushik/Documents/Thesis/MLROM/Kolmogorov/saved_ESN/ESN_004/checkpoints/LossHistoriesCheckpoint\n",
      "16/16 [==============================] - 11s 680ms/step - loss: 0.0230 - mse: 0.0218 - NMSE: 0.1962 - val_loss: 0.0515 - val_mse: 0.0503 - val_NMSE: 0.4527\n",
      "Epoch 62/1000\n",
      "16/16 [==============================] - ETA: 0s - loss: 0.0254 - mse: 0.0242 - NMSE: 0.2178 - tot_time: 0h 11m 20.6s\n",
      "\n",
      "Epoch 62: val_NMSE did not improve from 0.01241\n",
      " - saving loss histories at /home/rkaushik/Documents/Thesis/MLROM/Kolmogorov/saved_ESN/ESN_004/checkpoints/LossHistoriesCheckpoint\n",
      "16/16 [==============================] - 11s 678ms/step - loss: 0.0254 - mse: 0.0242 - NMSE: 0.2178 - val_loss: 0.0501 - val_mse: 0.0489 - val_NMSE: 0.4398\n",
      "Epoch 63/1000\n",
      "16/16 [==============================] - ETA: 0s - loss: 0.0280 - mse: 0.0268 - NMSE: 0.2412 - tot_time: 0h 11m 31.3s\n",
      "\n",
      "Epoch 63: val_NMSE did not improve from 0.01241\n",
      " - saving loss histories at /home/rkaushik/Documents/Thesis/MLROM/Kolmogorov/saved_ESN/ESN_004/checkpoints/LossHistoriesCheckpoint\n",
      "16/16 [==============================] - 11s 673ms/step - loss: 0.0280 - mse: 0.0268 - NMSE: 0.2412 - val_loss: 0.0464 - val_mse: 0.0452 - val_NMSE: 0.4068\n"
     ]
    },
    {
     "name": "stdout",
     "output_type": "stream",
     "text": [
      "Epoch 64/1000\n",
      "16/16 [==============================] - ETA: 0s - loss: 0.0316 - mse: 0.0304 - NMSE: 0.2739 - tot_time: 0h 11m 41.9s\n",
      "\n",
      "Epoch 64: val_NMSE did not improve from 0.01241\n",
      " - saving loss histories at /home/rkaushik/Documents/Thesis/MLROM/Kolmogorov/saved_ESN/ESN_004/checkpoints/LossHistoriesCheckpoint\n",
      "16/16 [==============================] - 11s 671ms/step - loss: 0.0316 - mse: 0.0304 - NMSE: 0.2739 - val_loss: 0.0546 - val_mse: 0.0534 - val_NMSE: 0.4803\n",
      "Epoch 65/1000\n",
      "16/16 [==============================] - ETA: 0s - loss: 0.0334 - mse: 0.0322 - NMSE: 0.2902 - tot_time: 0h 11m 52.6s\n",
      "\n",
      "Epoch 65: val_NMSE did not improve from 0.01241\n",
      " - saving loss histories at /home/rkaushik/Documents/Thesis/MLROM/Kolmogorov/saved_ESN/ESN_004/checkpoints/LossHistoriesCheckpoint\n",
      "16/16 [==============================] - 11s 671ms/step - loss: 0.0334 - mse: 0.0322 - NMSE: 0.2902 - val_loss: 0.0591 - val_mse: 0.0579 - val_NMSE: 0.5214\n",
      "Epoch 66/1000\n",
      "16/16 [==============================] - ETA: 0s - loss: 0.0341 - mse: 0.0329 - NMSE: 0.2964 - tot_time: 0h 12m 3.3s\n",
      "\n",
      "Epoch 66: val_NMSE did not improve from 0.01241\n",
      " - saving loss histories at /home/rkaushik/Documents/Thesis/MLROM/Kolmogorov/saved_ESN/ESN_004/checkpoints/LossHistoriesCheckpoint\n",
      "16/16 [==============================] - 11s 671ms/step - loss: 0.0341 - mse: 0.0329 - NMSE: 0.2964 - val_loss: 0.0616 - val_mse: 0.0604 - val_NMSE: 0.5438\n",
      "Epoch 67/1000\n",
      "16/16 [==============================] - ETA: 0s - loss: 0.0349 - mse: 0.0337 - NMSE: 0.3035 - tot_time: 0h 12m 13.9s\n",
      "\n",
      "Epoch 67: val_NMSE did not improve from 0.01241\n",
      " - saving loss histories at /home/rkaushik/Documents/Thesis/MLROM/Kolmogorov/saved_ESN/ESN_004/checkpoints/LossHistoriesCheckpoint\n",
      "16/16 [==============================] - 11s 673ms/step - loss: 0.0349 - mse: 0.0337 - NMSE: 0.3035 - val_loss: 0.0683 - val_mse: 0.0671 - val_NMSE: 0.6040\n",
      "Epoch 68/1000\n",
      "16/16 [==============================] - ETA: 0s - loss: 0.0385 - mse: 0.0373 - NMSE: 0.3356 - tot_time: 0h 12m 24.6s\n",
      "\n",
      "Epoch 68: val_NMSE did not improve from 0.01241\n",
      " - saving loss histories at /home/rkaushik/Documents/Thesis/MLROM/Kolmogorov/saved_ESN/ESN_004/checkpoints/LossHistoriesCheckpoint\n",
      "16/16 [==============================] - 11s 670ms/step - loss: 0.0385 - mse: 0.0373 - NMSE: 0.3356 - val_loss: 0.0711 - val_mse: 0.0699 - val_NMSE: 0.6291\n",
      "Epoch 69/1000\n",
      "13/16 [=======================>......] - ETA: 1s - loss: 0.0423 - mse: 0.0411 - NMSE: 0.3702"
     ]
    }
   ],
   "source": [
    "# compiling the network\n",
    "rnn_net.compile(\n",
    "    optimizer=tf.keras.optimizers.Adam(learning_rate=learning_rate_list[0]),\n",
    "    loss=losses.MeanSquaredError(),\n",
    "    metrics=['mse', NMSE(divisor_arr=time_stddev)],\n",
    "    run_eagerly=False\n",
    ")\n",
    "\n",
    "if behaviour == 'loadCheckpointAndContinueTraining':\n",
    "    # this loads the weights/attributes of the optimizer as well\n",
    "    if strategy is not None:\n",
    "        with strategy.scope():\n",
    "            rnn_net.load_weights(wt_file)\n",
    "    else:\n",
    "        rnn_net.load_weights(wt_file)\n",
    "\n",
    "if behaviour == 'initialiseAndTrainFromScratch' or behaviour == 'loadCheckpointAndContinueTraining':\n",
    "    # implementing early stopping\n",
    "    baseline = None\n",
    "    if behaviour == 'loadCheckpointAndContinueTraining':\n",
    "        baseline = np.min(val_loss_hist)\n",
    "    early_stopping_cb = tf.keras.callbacks.EarlyStopping(\n",
    "        monitor='val_NMSE',\n",
    "        patience=patience,\n",
    "        restore_best_weights=True,\n",
    "        verbose=True,\n",
    "        min_delta=min_delta,\n",
    "        baseline=baseline\n",
    "    )\n",
    "    #** the two lines below are useless because wait is set to 0 in on_train_begin\n",
    "    # early_stopping_cb.wait = earlystopping_wait\n",
    "    # print('early_stopping_cb.wait : {}\\n'.format(early_stopping_cb.wait))\n",
    "\n",
    "    # time callback for each epoch\n",
    "    timekeeper_cb = mytimecallback()\n",
    "\n",
    "    # model checkpoint callback\n",
    "    dir_name_ckpt = dir_name_rnn+dir_sep+'checkpoints'\n",
    "    if not os.path.isdir(dir_name_ckpt):\n",
    "        os.makedirs(dir_name_ckpt)\n",
    "    checkpoint_cb = tf.keras.callbacks.ModelCheckpoint(\n",
    "        filepath=dir_name_ckpt+dir_sep+'checkpoint',#+'/checkpoint--loss={loss:.4f}--vall_loss={val_loss:.4f}',\n",
    "        monitor='val_NMSE',\n",
    "        save_best_only=True,\n",
    "        save_weights_only=True,\n",
    "        verbose=2,\n",
    "        initial_value_threshold=baseline,\n",
    "        period=1  # saves every `period` epochs\n",
    "    )\n",
    "\n",
    "    # save losses callback\n",
    "    savelosses_cb = SaveLosses(\n",
    "        filepath=dir_name_ckpt+dir_sep+'LossHistoriesCheckpoint',\n",
    "        val_loss_arr=savelosses_cb_vallossarr,\n",
    "        train_loss_arr=savelosses_cb_trainlossarr,\n",
    "        total_epochs=epochs,\n",
    "        period=1)\n",
    "\n",
    "    for i in range(starting_lr_idx, len(learning_rate_list)):\n",
    "        learning_rate = learning_rate_list[i]\n",
    "        K.set_value(rnn_net.optimizer.lr, learning_rate)\n",
    "\n",
    "        savelosses_cb.update_lr_idx(i)\n",
    "\n",
    "        if i == starting_lr_idx:\n",
    "            EPOCHS = num_epochs_left\n",
    "            savelosses_cb.update_offset(epochs-num_epochs_left)\n",
    "        else:\n",
    "            EPOCHS = epochs\n",
    "            savelosses_cb.update_offset(0)\n",
    "\n",
    "        total_s_len = 80\n",
    "        sep_lr_s = ' LEARNING RATE : {} '.format(learning_rate)\n",
    "        sep_lr_s = int((total_s_len - len(sep_lr_s))//2)*'-' + sep_lr_s\n",
    "        sep_lr_s = sep_lr_s + (total_s_len-len(sep_lr_s))*'-'\n",
    "        print('\\n\\n' + '-'*len(sep_lr_s))\n",
    "        print('\\n' + sep_lr_s+'\\n')\n",
    "        print('-'*len(sep_lr_s) + '\\n\\n')\n",
    "        \n",
    "        history = rnn_net.fit(training_data_rnn_input, training_data_rnn_output,\n",
    "            epochs=EPOCHS,\n",
    "            batch_size=batch_size,\n",
    "#             validation_split=val_split/train_split,\n",
    "            validation_data=(val_data_rnn_input, val_data_rnn_output),\n",
    "            callbacks=[early_stopping_cb, timekeeper_cb, checkpoint_cb, savelosses_cb],\n",
    "            verbose=1,\n",
    "            shuffle=not stateful,\n",
    "        )\n",
    "\n",
    "        val_loss_hist.extend(history.history['val_loss'])\n",
    "        train_loss_hist.extend(history.history['loss'])\n",
    "        \n",
    "        val_NMSE_hist.extend(history.history['val_NMSE'])\n",
    "        train_NMSE_hist.extend(history.history['NMSE'])\n",
    "\n",
    "        val_MSE_hist.extend(history.history['val_mse'])\n",
    "        train_MSE_hist.extend(history.history['mse'])\n",
    "        \n",
    "        if i == starting_lr_idx:\n",
    "            lr_change[i+1] += len(history.history['val_loss'])\n",
    "        else:\n",
    "            lr_change.append(lr_change[i]+len(history.history['val_loss']))"
   ]
  },
  {
   "cell_type": "code",
   "execution_count": null,
   "metadata": {},
   "outputs": [],
   "source": [
    "# %pdb"
   ]
  },
  {
   "cell_type": "code",
   "execution_count": null,
   "metadata": {},
   "outputs": [],
   "source": []
  },
  {
   "cell_type": "code",
   "execution_count": null,
   "metadata": {
    "colab": {
     "base_uri": "https://localhost:8080/"
    },
    "executionInfo": {
     "elapsed": 10543,
     "status": "ok",
     "timestamp": 1667873563321,
     "user": {
      "displayName": "Rohan Kaushik",
      "userId": "13918477614376051685"
     },
     "user_tz": -60
    },
    "id": "SO7iK4mbneQm",
    "outputId": "48110900-962a-49c1-c532-718999590884"
   },
   "outputs": [],
   "source": [
    "if behaviour == 'initialiseAndTrainFromScratch' or behaviour == 'loadCheckpointAndContinueTraining':\n",
    "    for layer in rnn_net.rnn_list:\n",
    "        if layer.stateful == True:\n",
    "            layer.reset_states()\n",
    "    print(testing_data_rnn_input.shape, testing_data_rnn_output.shape)\n",
    "    # test_loss = rnn_net.evaluate(\n",
    "    #     testing_data_rnn_input, testing_data_rnn_output,\n",
    "    # )\n",
    "    test_mse = 0.0\n",
    "    for i in range(int(testing_data_rnn_input.shape[0]//batch_size)):\n",
    "        # i_test_loss = rnn_net.evaluate(\n",
    "        #     testing_data_rnn_input[i*batch_size:(i+1)*batch_size, :, :],\n",
    "        #     testing_data_rnn_output[i*batch_size:(i+1)*batch_size, :, :],\n",
    "        # )\n",
    "        data_in_i = testing_data_rnn_input[i*batch_size:(i+1)*batch_size, :, :]\n",
    "        data_out_i = testing_data_rnn_output[i*batch_size:(i+1)*batch_size, :, :]\n",
    "        temp = rnn_net.call(data_in_i, training=False)\n",
    "        i_test_mse = np.mean(\n",
    "            (\n",
    "                (data_out_i - temp.numpy()) * normalization_arr[1] / time_stddev\n",
    "            )**2\n",
    "        )\n",
    "        test_mse = (i*test_mse + i_test_mse)/(i+1)\n",
    "\n",
    "    save_path = dir_name_rnn+dir_sep+'final_net'\n",
    "\n",
    "    if not os.path.isdir(save_path):\n",
    "        os.makedirs(save_path)\n",
    "\n",
    "\n",
    "    with open(save_path+dir_sep+'losses.txt', 'w') as f:\n",
    "        f.write(str({\n",
    "            'val_loss_hist':val_loss_hist,\n",
    "            'train_loss_hist':train_loss_hist,\n",
    "            'val_MSE_hist':val_MSE_hist,\n",
    "            'train_MSE_hist':train_MSE_hist,\n",
    "            'val_NMSE_hist':val_NMSE_hist,\n",
    "            'train_NMSE_hist':train_NMSE_hist,\n",
    "            'lr_change':lr_change,\n",
    "            'test_mse':test_mse,\n",
    "        }))\n",
    "        \n",
    "    if normalize_dataset == True:\n",
    "        with open(save_path+dir_sep+'rnn_normalization.txt', 'w') as f:\n",
    "            f.write(str({\n",
    "                'normalization_arr':normalization_arr\n",
    "            }))\n",
    "\n",
    "    # import pdb; pdb.set_trace()\n",
    "    rnn_net.save_everything(\n",
    "        file_name=save_path+dir_sep+'final_net')"
   ]
  },
  {
   "cell_type": "code",
   "execution_count": null,
   "metadata": {},
   "outputs": [],
   "source": [
    "rnn_net.rnn_list[0].cell.Win.kernel.name"
   ]
  },
  {
   "cell_type": "code",
   "execution_count": null,
   "metadata": {
    "colab": {
     "base_uri": "https://localhost:8080/",
     "height": 279
    },
    "executionInfo": {
     "elapsed": 1226,
     "status": "ok",
     "timestamp": 1667873564544,
     "user": {
      "displayName": "Rohan Kaushik",
      "userId": "13918477614376051685"
     },
     "user_tz": -60
    },
    "id": "nDv5D8APneQm",
    "outputId": "ee911dc8-4d36-48af-8ad0-07cef0dbaf81"
   },
   "outputs": [],
   "source": [
    "# plotting losses\n",
    "dir_name_plot = dir_name_rnn+dir_sep+'plots'\n",
    "if not os.path.isdir(dir_name_plot):\n",
    "    os.makedirs(dir_name_plot)\n",
    "\n",
    "# Visualize loss history\n",
    "fig, ax = plot_losses(\n",
    "    training_loss=train_loss_hist,\n",
    "    val_loss=val_loss_hist,\n",
    "    lr_change=lr_change,\n",
    "    learning_rate_list=learning_rate_list\n",
    ")\n",
    "\n",
    "plt.savefig(dir_name_rnn+'{ds}plots{ds}loss_history.png'.format(ds=dir_sep), dpi=300, bbox_inches='tight')\n",
    "plt.show()\n",
    "\n",
    "\n",
    "fig, ax = plot_losses(\n",
    "    training_loss=train_MSE_hist,\n",
    "    val_loss=val_MSE_hist,\n",
    "    lr_change=lr_change,\n",
    "    learning_rate_list=learning_rate_list,\n",
    "    legend_list=['Training MSE', 'Validation MSE'],\n",
    "    xlabel='Epoch',\n",
    "    ylabel='MSE',\n",
    ")\n",
    "plt.savefig(dir_name_plot+'/MSE_history.png', dpi=300, bbox_inches='tight')\n",
    "plt.show()\n",
    "plt.clf()\n",
    "\n",
    "\n",
    "fig, ax = plot_losses(\n",
    "    training_loss=train_NMSE_hist,\n",
    "    val_loss=val_NMSE_hist,\n",
    "    lr_change=lr_change,\n",
    "    learning_rate_list=learning_rate_list,\n",
    "    legend_list=['Training NMSE', 'Validation NMSE'],\n",
    "    xlabel='Epoch',\n",
    "    ylabel='NMSE',\n",
    ")\n",
    "plt.savefig(dir_name_plot+'/NMSE_history.png', dpi=300, bbox_inches='tight')\n",
    "plt.show()\n",
    "plt.clf()\n"
   ]
  },
  {
   "cell_type": "code",
   "execution_count": null,
   "metadata": {
    "colab": {
     "base_uri": "https://localhost:8080/",
     "height": 433
    },
    "executionInfo": {
     "elapsed": 11096,
     "status": "ok",
     "timestamp": 1667873575637,
     "user": {
      "displayName": "Rohan Kaushik",
      "userId": "13918477614376051685"
     },
     "user_tz": -60
    },
    "id": "dbLa0AwlDBWh",
    "outputId": "d3f93f58-9ce7-4994-8d68-29520477e02d"
   },
   "outputs": [],
   "source": [
    "# data_type = 'training'\n",
    "rnn_net.reset_states()\n",
    "data_type = 'testing'\n",
    "\n",
    "data_in = eval(data_type+'_data_rnn_input')\n",
    "data_out = eval(data_type+'_data_rnn_output')\n",
    "\n",
    "data_idx = np.arange(data_in.shape[0])\n",
    "np.random.shuffle(data_idx)\n",
    "data_idx = data_idx[0]\n",
    "# data_idx = 3788\n",
    "print('data_idx : {}'.format(data_idx))\n",
    "\n",
    "# data_in = data_in[data_idx]\n",
    "data_out = data_out[data_idx]\n",
    "\n",
    "prediction = rnn_net.predict(data_in[data_idx:data_idx+1, :, :])\n",
    "\n"
   ]
  },
  {
   "cell_type": "code",
   "execution_count": null,
   "metadata": {
    "colab": {
     "base_uri": "https://localhost:8080/"
    },
    "executionInfo": {
     "elapsed": 8,
     "status": "ok",
     "timestamp": 1667873575638,
     "user": {
      "displayName": "Rohan Kaushik",
      "userId": "13918477614376051685"
     },
     "user_tz": -60
    },
    "id": "MDopQ4JMhRPV",
    "outputId": "f6480bb7-5837-4a80-9333-f9acd175b27a"
   },
   "outputs": [],
   "source": [
    "prediction.shape, data_out.shape, rnn_net.stateful"
   ]
  },
  {
   "cell_type": "code",
   "execution_count": null,
   "metadata": {
    "executionInfo": {
     "elapsed": 9,
     "status": "ok",
     "timestamp": 1667873576097,
     "user": {
      "displayName": "Rohan Kaushik",
      "userId": "13918477614376051685"
     },
     "user_tz": -60
    },
    "id": "2_fAlJz2Vdev"
   },
   "outputs": [],
   "source": [
    "def rescale_data(data, normalization_arr):\n",
    "    '''\n",
    "    data - [num_batches x num_timesteps x num_states]\n",
    "    normalization_arr = [2 x num_states]\n",
    "    '''\n",
    "    new_data = data.copy()\n",
    "    shape = new_data.shape\n",
    "    # for i in range(data.shape[-1]):\n",
    "    #     new_data[:, i] -= normalization_arr[0, i]\n",
    "    #     new_data[:, i] /= normalization_arr[1, i]\n",
    "    new_data -= normalization_arr[0]\n",
    "    new_data *= normalization_arr[1]\n",
    "    \n",
    "    return new_data\n",
    "\n",
    "def norm_sq_time_average(data):\n",
    "    data_norm_sq = np.zeros(shape=data.shape[0])\n",
    "    for i in range(data.shape[1]):\n",
    "        data_norm_sq[:] += data[:, i]**2\n",
    "    # integrating using the trapezoidal rule\n",
    "    norm_sq_time_avg = np.sum(data_norm_sq) - 0.5*(data_norm_sq[0]+data_norm_sq[-1])\n",
    "    norm_sq_time_avg /= data_norm_sq.shape[0]\n",
    "    return norm_sq_time_avg\n",
    "\n",
    "def invert_normalization(data, normalization_arr):\n",
    "    new_data = data.copy()\n",
    "    shape = new_data.shape\n",
    "    # for i in range(shape[-1]):\n",
    "    #     if len(shape) == 2:\n",
    "    #         new_data[:, i] *= normalization_arr[1, i]\n",
    "    #         new_data[:, i] += normalization_arr[0, i]\n",
    "    #     elif len(shape) == 3:\n",
    "    #         new_data[:, :, i] *= normalization_arr[1, i]\n",
    "    #         new_data[:, :, i] += normalization_arr[0, i]\n",
    "    new_data *= normalization_arr[1]\n",
    "    new_data += normalization_arr[0]\n",
    "    return new_data"
   ]
  },
  {
   "cell_type": "code",
   "execution_count": null,
   "metadata": {},
   "outputs": [],
   "source": []
  },
  {
   "cell_type": "code",
   "execution_count": null,
   "metadata": {
    "executionInfo": {
     "elapsed": 9,
     "status": "ok",
     "timestamp": 1667873576098,
     "user": {
      "displayName": "Rohan Kaushik",
      "userId": "13918477614376051685"
     },
     "user_tz": -60
    },
    "id": "s5BNteRC7COC",
    "scrolled": false
   },
   "outputs": [],
   "source": [
    "lyapunov_time_arr = [1/0.065]"
   ]
  },
  {
   "cell_type": "code",
   "execution_count": null,
   "metadata": {},
   "outputs": [],
   "source": [
    "normalization_arr"
   ]
  },
  {
   "cell_type": "markdown",
   "metadata": {},
   "source": [
    "# Autoregressive Mode"
   ]
  },
  {
   "cell_type": "code",
   "execution_count": null,
   "metadata": {},
   "outputs": [],
   "source": [
    "temp1 = np.empty_like(testing_data_rnn_input)\n",
    "temp2 = np.empty_like(testing_data_rnn_output)\n",
    "\n",
    "begin_idx = 0\n",
    "testing_data_rolling_count = 0\n",
    "for i in range(len(rnn_data_boundary_idx_arr)):\n",
    "    idx = np.arange(begin_idx, rnn_data_boundary_idx_arr[i])\n",
    "    # np.random.shuffle(idx)\n",
    "    # num_samples = idx.shape[0]\n",
    "    # num_train = int( (1-test_split-val_split)*num_samples )\n",
    "    # num_val = int(val_split*num_samples)\n",
    "    num_samples = num_samples_arr[i]\n",
    "    num_test = num_test_arr[i]\n",
    "\n",
    "    nbatches_test = num_test // batch_size\n",
    "\n",
    "    for j in range(batch_size):\n",
    "        temp1[testing_data_rolling_count + j*nbatches_test:testing_data_rolling_count + (j+1)*nbatches_test] = testing_data_rnn_input[testing_data_rolling_count+j:testing_data_rolling_count+num_test:batch_size]\n",
    "        temp2[testing_data_rolling_count + j*nbatches_test:testing_data_rolling_count + (j+1)*nbatches_test] = testing_data_rnn_output[testing_data_rolling_count+j:testing_data_rolling_count+num_test:batch_size]\n",
    "\n",
    "    testing_data_rolling_count += num_test\n",
    "\n",
    "    begin_idx = rnn_data_boundary_idx_arr[i]"
   ]
  },
  {
   "cell_type": "code",
   "execution_count": null,
   "metadata": {},
   "outputs": [],
   "source": [
    "testing_data_rnn_input_og = testing_data_rnn_input\n",
    "testing_data_rnn_output_og = testing_data_rnn_output\n",
    "\n",
    "testing_data_rnn_input = temp1\n",
    "testing_data_rnn_output = temp2"
   ]
  },
  {
   "cell_type": "code",
   "execution_count": null,
   "metadata": {},
   "outputs": [],
   "source": [
    "s_in = testing_data_rnn_input.shape\n",
    "testing_data_rnn_input = testing_data_rnn_input.reshape((1, s_in[0]*s_in[1]) + s_in[2:])\n",
    "# testing_data_rnn_input = testing_data_rnn_input.reshape((s_in[0], s_in[1]) + s_in[2:])\n",
    "\n",
    "s_out = testing_data_rnn_output.shape\n",
    "testing_data_rnn_output = testing_data_rnn_output.reshape((1, s_out[0]*s_out[1]) + s_out[2:])\n",
    "# testing_data_rnn_output = testing_data_rnn_output.reshape((s_out[0], s_out[1]) + s_out[2:])"
   ]
  },
  {
   "cell_type": "code",
   "execution_count": null,
   "metadata": {},
   "outputs": [],
   "source": [
    "T_sample_input_AR = 1*np.mean(lyapunov_time_arr)#50.1*dt_rnn\n",
    "num_sample_input_AR = int((T_sample_input_AR+0.5*dt_rnn)//dt_rnn)\n",
    "\n",
    "T_sample_output_AR = 10*np.mean(lyapunov_time_arr)\n",
    "num_sample_output_AR = int((T_sample_output_AR+0.5*dt_rnn)//dt_rnn)\n",
    "\n",
    "num_offset_AR = num_sample_input_AR\n",
    "T_offset_AR = num_offset_AR*dt_rnn"
   ]
  },
  {
   "cell_type": "code",
   "execution_count": null,
   "metadata": {},
   "outputs": [],
   "source": [
    "# data_to_consider = 'training'\n",
    "data_to_consider = 'testing'\n",
    "\n",
    "data_in = eval(data_to_consider+'_data_rnn_input')\n",
    "data_out = eval(data_to_consider+'_data_rnn_output')\n",
    "\n",
    "batch_idx = np.random.randint(low=0, high=data_in.shape[0])\n",
    "maxpossible_num_runs = data_in.shape[1]-(num_sample_input_AR+num_sample_output_AR)\n",
    "\n",
    "data_idx = np.random.randint(low=0, high=maxpossible_num_runs)\n",
    "\n",
    "print('batch_idx : {}'.format(batch_idx))\n",
    "print('data_idx : {}'.format(data_idx))\n",
    "data_ = data_in[batch_idx:batch_idx+1, data_idx:data_idx+(num_sample_input_AR+num_sample_output_AR), :]\n",
    "print('data_.shape :', data_.shape)\n",
    "\n",
    "plt.plot(\n",
    "    dt_rnn*np.arange(num_sample_input_AR),\n",
    "    data_[0, 0:num_sample_input_AR, 0])\n",
    "plt.plot(\n",
    "    dt_rnn*num_sample_input_AR+dt_rnn*np.arange(num_sample_output_AR),\n",
    "    data_[0, num_sample_input_AR:, 0])\n",
    "plt.grid(True)\n",
    "plt.show()"
   ]
  },
  {
   "cell_type": "code",
   "execution_count": null,
   "metadata": {},
   "outputs": [],
   "source": [
    "prediction_lst = []\n",
    "\n",
    "for layer in rnn_net.rnn_list:\n",
    "    if layer.stateful == True:\n",
    "        layer.reset_states()\n",
    "\n",
    "if data_.shape[0] != batch_size:\n",
    "    data_ = np.tile(data_, (batch_size,)+tuple([1]*len(data_.shape[1:])))\n",
    "input_preds = np.array(rnn_net(data_[:, 0:num_sample_input_AR]))\n",
    "\n",
    "prediction_lst.append(input_preds[:, -1:])\n",
    "\n",
    "for i in range(1, num_sample_output_AR):\n",
    "    data_in_i = np.array(prediction_lst[-1])\n",
    "    output = np.array(rnn_net(data_in_i, training=False))\n",
    "    prediction_lst.append(output[:, 0:1])"
   ]
  },
  {
   "cell_type": "code",
   "execution_count": null,
   "metadata": {},
   "outputs": [],
   "source": [
    "prediction_lst = np.stack(prediction_lst)[:, 0, 0]\n",
    "input_preds = input_preds[0]\n",
    "\n",
    "print('input_preds.shape : {}'.format(input_preds.shape))\n",
    "print('prediction_lst.shape : {}'.format(prediction_lst.shape))"
   ]
  },
  {
   "cell_type": "code",
   "execution_count": null,
   "metadata": {},
   "outputs": [],
   "source": [
    "input_preds = input_preds.reshape(input_preds.shape[0], -1)\n",
    "prediction_lst = prediction_lst.reshape(prediction_lst.shape[0], -1)\n",
    "\n",
    "print('input_preds.shape : {}'.format(input_preds.shape))\n",
    "print('prediction_lst.shape : {}'.format(prediction_lst.shape))"
   ]
  },
  {
   "cell_type": "code",
   "execution_count": null,
   "metadata": {
    "scrolled": true
   },
   "outputs": [],
   "source": [
    "lyap_time = (1/0.065)# np.mean(lyapunov_time_arr)\n",
    "\n",
    "n = 1\n",
    "num_latent_states = 32#input_preds.shape[-1]# *input_preds.shape[-2]*input_preds.shape[-3]\n",
    "N = num_sample_output_AR#num_output_timesteps\n",
    "\n",
    "if num_latent_states != input_preds.shape[-1]:\n",
    "    print('Only plotting the first {} latent states because of memory constraints.'.format(num_latent_states))\n",
    "\n",
    "num_cols = 1\n",
    "num_rows = n*num_latent_states\n",
    "\n",
    "ax_ylabels = [r'$x^*_{'+str(i+1)+'}$' for i in range(num_latent_states)]\n",
    "\n",
    "fig, ax = plt.subplots(num_latent_states, 1, sharex=True, figsize=(7.5*num_cols, 2.5*num_rows))\n",
    "if num_latent_states == 1:\n",
    "    ax = [ax]\n",
    "\n",
    "cmap = plt.get_cmap('jet')\n",
    "colors = [cmap(i) for i in np.linspace(0, 1, 2*n)]\n",
    "\n",
    "prev_idx = 0\n",
    "\n",
    "time_arr_warmup1 = (np.arange(num_sample_input_AR) - num_sample_input_AR)*dt_rnn\n",
    "time_arr_warmup2 = time_arr_warmup1 + dt_rnn\n",
    "\n",
    "time_arr_warmup1 /= lyap_time\n",
    "time_arr_warmup2 /= lyap_time\n",
    "\n",
    "input_time = time_arr_warmup2[-1]+np.arange(N, dtype=float)*dt_rnn/lyap_time\n",
    "\n",
    "temp_ = data_[0, 0:num_sample_input_AR+N]\n",
    "temp_ = temp_.reshape(temp_.shape[0], -1)\n",
    "temp_ = invert_normalization(temp_, normalization_arr)\n",
    "prediction_lst = invert_normalization(prediction_lst, normalization_arr)\n",
    "input_preds = invert_normalization(input_preds, normalization_arr)\n",
    "for j in range(num_latent_states):\n",
    "    for i in range(n):\n",
    "        ax[j].plot(time_arr_warmup1, temp_[:num_sample_input_AR, j], linestyle='--', linewidth=1, color=colors[2*i], label='Case {} - actual warmup data'.format(i+1))\n",
    "        ax[j].plot(time_arr_warmup2, input_preds[:, j], linestyle='--', linewidth=1, color=colors[2*i+1], label='Case {} - predicted warmup data'.format(i+1))\n",
    "        ax[j].plot(input_time, temp_[num_sample_input_AR:num_sample_input_AR+N, j], linewidth=1, color=colors[2*i], label='Case {} - actual data'.format(i+1))\n",
    "        ax[j].plot(input_time, prediction_lst[:, j], linewidth=1, color=colors[2*i+1], label='Case {} - predicted data'.format(i+1))\n",
    "    ax[j].set_ylabel(ax_ylabels[j])\n",
    "    ax[j].grid(True)\n",
    "    ax[j].set_axisbelow(True)\n",
    "    ax[j].set_ylim([-1, 1])\n",
    "    ax[j].set_xlim([input_time[0] - 0.5, input_time[-1]])\n",
    "\n",
    "\n",
    "ax[-1].set_xlabel('Time$^+$')\n",
    "\n",
    "max_rows = 10\n",
    "max_rows = float(max_rows)\n",
    "ncols = int(np.ceil(len(rnn_data_boundary_idx_arr) / max_rows))\n",
    "ax[0].legend(\n",
    "    loc='best',\n",
    "    ncol=ncols,\n",
    ")\n",
    "ax[0].set_title(r'Latent States', size=12)\n",
    "\n",
    "\n",
    "### error computation\n",
    "error = (temp_[num_sample_input_AR:num_sample_input_AR+N, :] - prediction_lst[:, :])**2\n",
    "# error /= norm_sq_time_average(data_out)**0.5\n",
    "error = np.mean(np.divide(error, time_stddev_AEproducedlatentstates**2), axis=1)**0.5\n",
    "\n",
    "# print(norm_sq_time_average(data_out)**0.5)\n",
    "\n",
    "fig2, ax2 = plt.subplots(1, 1, figsize=(7.5, 2.5))\n",
    "ax2.plot(input_time, error)\n",
    "ax2.grid(True)\n",
    "ax2.set_axisbelow(True)\n",
    "ax2.set_xlabel('Time$^+$')\n",
    "ax2.set_ylabel('Normalized Error')\n",
    "\n",
    "error_threshold = 0.5\n",
    "\n",
    "predhor_idx = np.where(error >= error_threshold)[0]\n",
    "if len(predhor_idx.shape) == 0:\n",
    "    predhor_idx = error.shape[0]-1\n",
    "else:\n",
    "    predhor_idx = predhor_idx[0]\n",
    "ax2.plot(input_time[predhor_idx], error[predhor_idx], 'o', color='k')\n",
    "ax2.axhline(error[predhor_idx], linewidth=0.9, linestyle='--', color='k')\n",
    "ax2.axvline(input_time[predhor_idx], linewidth=0.9, linestyle='--', color='k')\n",
    "ax2.set_ylim([0, 2])\n",
    "\n",
    "prediction_horizon = predhor_idx*dt_rnn/lyap_time\n",
    "print(prediction_horizon)"
   ]
  },
  {
   "cell_type": "code",
   "execution_count": null,
   "metadata": {},
   "outputs": [],
   "source": [
    "try:\n",
    "    if use_weights_post_dense == True:\n",
    "        print(rnn_net.postWout.individual_weights)\n",
    "except:\n",
    "    pass"
   ]
  },
  {
   "cell_type": "markdown",
   "metadata": {},
   "source": [
    "### Prediction horizon computation"
   ]
  },
  {
   "cell_type": "code",
   "execution_count": null,
   "metadata": {},
   "outputs": [],
   "source": [
    "def plot_histogram_and_save(\n",
    "    prediction_horizon_arr,\n",
    "    save_dir,\n",
    "    savefig_fname='pre_ARtraining',\n",
    "    bin_width=0.05,\n",
    "    bin_begin=0.0):\n",
    "    \n",
    "    fig, ax = plt.subplots()\n",
    "\n",
    "    ph_mean = np.mean(prediction_horizon_arr)\n",
    "    ph_stddev = np.std(prediction_horizon_arr)\n",
    "    ph_max = np.max(prediction_horizon_arr)\n",
    "    ph_min = np.min(prediction_horizon_arr)\n",
    "    \n",
    "    bin_end = bin_width*np.round((np.max(prediction_horizon_arr)+0.5*bin_width)//bin_width)\n",
    "    nbins = int(np.round(bin_end/bin_width))\n",
    "\n",
    "    ax.hist(prediction_horizon_arr, bins=nbins, range = [bin_begin, bin_end], density=True)\n",
    "    ax.axvline(ph_mean, linewidth=0.9, linestyle='--', color='k')\n",
    "\n",
    "    ax.set_xlabel('Prediction Horizon (Lyapunov times)')\n",
    "    ax.set_ylabel('PDF')\n",
    "\n",
    "    ax.grid(True)\n",
    "    # ax.set_axisbelow(True)\n",
    "\n",
    "    ax.text(\n",
    "        0.01 + ax.transAxes.inverted().transform(ax.transData.transform([prediction_horizon, 0]))[0],\n",
    "        0.8,\n",
    "        'mean',\n",
    "        rotation=90,\n",
    "        verticalalignment='bottom',\n",
    "        horizontalalignment='left',\n",
    "        bbox=dict(facecolor=np.array([255,255,153])/255, alpha=1, boxstyle='square,pad=0.2'),\n",
    "        transform=ax.transAxes\n",
    "    )\n",
    "\n",
    "    text_xy = [0.95, 0.95]\n",
    "    ax.text(\n",
    "        text_xy[0],\n",
    "        text_xy[1],\n",
    "        'mean : {:.4f}\\nmax : {:.4f}\\nmin : {:.4f}\\nstddev : {:.4f}'.format(\n",
    "            ph_mean,\n",
    "            ph_max,\n",
    "            ph_min,\n",
    "            ph_stddev,\n",
    "        ),\n",
    "        transform=ax.transAxes,\n",
    "        bbox=dict(\n",
    "            boxstyle=\"round\",\n",
    "            ec=(0.6, 0.6, 1),\n",
    "            fc=(0.9, 0.9, 1),\n",
    "        ),\n",
    "        # bbox=dict(facecolor='C0', alpha=0.5, boxstyle='round,pad=0.2'),\n",
    "        horizontalalignment='right',\n",
    "        verticalalignment='top'\n",
    "    )\n",
    "\n",
    "    ax.set_title('nbins = {}'.format(nbins))\n",
    "    \n",
    "    if not os.path.isdir(save_dir):\n",
    "        os.mkdir(save_dir)\n",
    "\n",
    "    fig.savefig(save_dir+'/'+savefig_fname+'.png', dpi=300, bbox_inches='tight')\n",
    "    fig.clear()\n",
    "    plt.close()"
   ]
  },
  {
   "cell_type": "code",
   "execution_count": null,
   "metadata": {},
   "outputs": [],
   "source": [
    "normalization_arr.shape, time_stddev.shape"
   ]
  },
  {
   "cell_type": "code",
   "execution_count": null,
   "metadata": {},
   "outputs": [],
   "source": [
    "num_runs = 100\n",
    "num_runs = np.min([num_runs, maxpossible_num_runs])\n",
    "print('num_runs : {}'.format(num_runs))"
   ]
  },
  {
   "cell_type": "code",
   "execution_count": null,
   "metadata": {},
   "outputs": [],
   "source": [
    "data_idx_arr = np.linspace(0, maxpossible_num_runs-1, num_runs, dtype=np.int32)\n",
    "\n",
    "savefig_fname = 'pre_ARtraining-'+data_to_consider+'data'\n",
    "npsavedata_fname = '/prediction_horizons-'+data_to_consider+'data'\n",
    "plot_dir = '/plots'\n",
    "\n",
    "analysis_time = time.time()\n",
    "\n",
    "sidx1 = dir_name_rnn[::-1].index('/')\n",
    "sidx2 = dir_name_rnn[-sidx1-2::-1].index('/')\n",
    "print(dir_name_rnn[-(sidx1+sidx2+1):])\n",
    "\n",
    "prediction_horizon_arr = np.empty(shape=num_runs)\n",
    "\n",
    "jj_max = int(num_runs // batch_size)\n",
    "data_ = np.empty(shape=(batch_size, num_sample_input_AR+num_sample_output_AR)+tuple(data_in.shape[2:]))\n",
    "for jj in range(jj_max):\n",
    "    data_idxs = data_idx_arr[batch_size*jj:batch_size*(jj+1)]\n",
    "\n",
    "    # for j in range(len(rnn_data_boundary_idx_arr)):\n",
    "    #     if data_idx < rnn_data_boundary_idx_arr[j]:\n",
    "    #         case_idx = j\n",
    "    #         break\n",
    "    lyap_time = (1/0.065)#lyapunov_time_arr[0]\n",
    "\n",
    "    ### picking the data\n",
    "    for i in range(batch_size):\n",
    "        data_[i] = data_in[0, data_idxs[i]:data_idxs[i]+(num_sample_input_AR+num_sample_output_AR)]\n",
    "\n",
    "    ### doing the predictions\n",
    "    prediction_lst = []\n",
    "\n",
    "    for layer in rnn_net.rnn_list:\n",
    "        layer.reset_states()\n",
    "\n",
    "    input_preds = np.array(rnn_net(data_[:, 0:num_sample_input_AR], training=False))\n",
    "\n",
    "    prediction_lst.append(input_preds[:, -1:])\n",
    "\n",
    "    for j in range(1, num_sample_output_AR):\n",
    "        data_in_j = np.array(prediction_lst[-1])\n",
    "        output = np.array(rnn_net(data_in_j, training=False))\n",
    "        prediction_lst.append(output)\n",
    "    prediction_lst = np.stack(prediction_lst)[:, :, 0]\n",
    "    prediction_lst = np.transpose(prediction_lst, (1, 0, 2))\n",
    "    prediction_lst = prediction_lst.reshape(prediction_lst.shape[0], prediction_lst.shape[1], -1)\n",
    "    prediction_lst = invert_normalization(prediction_lst, normalization_arr) # don't invert if using time_stddev in error\n",
    "    \n",
    "    data_out = data_[:, num_sample_input_AR:num_sample_input_AR+num_sample_output_AR]\n",
    "    data_out = data_out.reshape(data_out.shape[0], data_out.shape[1], -1)\n",
    "    data_out = invert_normalization(data_out, normalization_arr)\n",
    "\n",
    "    ### Error and prediction horizon\n",
    "    # error = np.linalg.norm(data_out[:, :] - prediction[i, :, :], axis=1)\n",
    "    error = (data_out - prediction_lst)**2\n",
    "    # error /= norm_sq_time_average(data_out)**0.5\n",
    "    error = error / time_stddev_AEproducedlatentstates**2\n",
    "    error = np.mean(error, axis=-1)**0.5\n",
    "\n",
    "    for i in range(batch_size):\n",
    "        predhor_idx = np.where(error[i] >= error_threshold)[0]\n",
    "        if predhor_idx.shape[0] == 0:\n",
    "            predhor_idx = error.shape[1]\n",
    "        else:\n",
    "            predhor_idx = predhor_idx[0]\n",
    "\n",
    "        prediction_horizon_arr[jj*batch_size+i] = predhor_idx*dt_rnn/lyap_time\n",
    "\n",
    "if num_runs > jj_max*batch_size:\n",
    "    for jj in range(jj_max*batch_size, num_runs):\n",
    "        data_idx = data_idx_arr[jj]\n",
    "\n",
    "        # for j in range(len(rnn_data_boundary_idx_arr)):\n",
    "        #     if data_idx < rnn_data_boundary_idx_arr[j]:\n",
    "        #         case_idx = j\n",
    "        #         break\n",
    "        lyap_time = (1/0.065)#lyapunov_time_arr[0]\n",
    "\n",
    "        ### picking the data\n",
    "        for i in range(batch_size):\n",
    "            data_[i] = data_in[0, data_idx:data_idx+(num_sample_input_AR+num_sample_output_AR)]\n",
    "\n",
    "        ### doing the predictions\n",
    "        prediction_lst = []\n",
    "\n",
    "        for layer in rnn_net.rnn_list:\n",
    "            layer.reset_states()\n",
    "\n",
    "        input_preds = np.array(rnn_net(data_[:, 0:num_sample_input_AR], training=False))\n",
    "\n",
    "        prediction_lst.append(input_preds[:, -1:])\n",
    "\n",
    "        for j in range(1, num_sample_output_AR):\n",
    "            data_in_j = np.array(prediction_lst[-1])\n",
    "            output = np.array(rnn_net(data_in_j, training=False))\n",
    "            prediction_lst.append(output)\n",
    "        prediction_lst = np.stack(prediction_lst)[:, 0, 0]\n",
    "        prediction_lst = prediction_lst.reshape(prediction_lst.shape[0], -1)\n",
    "        prediction_lst = invert_normalization(prediction_lst, normalization_arr) # don't invert if using time_stddev in error\n",
    "\n",
    "        data_out = data_[0, num_sample_input_AR:num_sample_input_AR+num_sample_output_AR]\n",
    "        data_out = data_out.reshape(data_out.shape[0], -1)\n",
    "        data_out = invert_normalization(data_out, normalization_arr)\n",
    "\n",
    "        ### Error and prediction horizon\n",
    "        # error = np.linalg.norm(data_out[:, :] - prediction[i, :, :], axis=1)\n",
    "        error = (data_out - prediction_lst)**2\n",
    "        # error /= norm_sq_time_average(data_out)**0.5\n",
    "        error = error / time_stddev_AEproducedlatentstates**2\n",
    "        error = np.mean(error, axis=-1)**0.5\n",
    "\n",
    "        predhor_idx = np.where(error >= error_threshold)[0]\n",
    "        if predhor_idx.shape[0] == 0:\n",
    "            predhor_idx = error.shape[0]\n",
    "        else:\n",
    "            predhor_idx = predhor_idx[0]\n",
    "\n",
    "        prediction_horizon_arr[jj] = predhor_idx*dt_rnn/lyap_time\n",
    "        \n",
    "median_idx = int(np.round(0.5*num_runs-1))\n",
    "quartile_1_idx = int(np.round(0.25*num_runs-1))\n",
    "quartile_3_idx = int(np.round(0.75*num_runs-1))\n",
    "\n",
    "prediction_horizon_arr.sort()\n",
    "\n",
    "median = prediction_horizon_arr[median_idx]\n",
    "quartile_1 = prediction_horizon_arr[quartile_1_idx]\n",
    "quartile_3 = prediction_horizon_arr[quartile_3_idx]\n",
    "IQR = quartile_3 - quartile_1\n",
    "\n",
    "prediction_horizon = np.mean(prediction_horizon_arr)\n",
    "stddev_ph = np.std(prediction_horizon_arr)\n",
    "\n",
    "s = 'error_threshold = {}\\n'.format(error_threshold)\n",
    "s += 'prediction_horizon : {}, median : {}\\n'.format(prediction_horizon, median)\n",
    "s += 'ph_min : {}, ph_max : {}\\n'.format(prediction_horizon_arr.min(), prediction_horizon_arr.max())\n",
    "s += 'stddev : {}, IQR : {}\\n'.format(stddev_ph, IQR)\n",
    "s += '1st quartile : {}, 3rd quartile : {}'.format(quartile_1, quartile_3)\n",
    "\n",
    "print('\\n'+s)\n",
    "\n",
    "plot_histogram_and_save(\n",
    "    prediction_horizon_arr,\n",
    "    save_dir=dir_name_rnn+plot_dir,\n",
    "    savefig_fname=savefig_fname\n",
    ")\n",
    "\n",
    "npsavedata_fname = '/prediction_horizons-'+data_to_consider+'data'\n",
    "np.savez(\n",
    "    dir_name_rnn+npsavedata_fname,\n",
    "    prediction_horizon_arr=prediction_horizon_arr,\n",
    "    error_threshold=error_threshold,\n",
    ")\n",
    "\n",
    "with open(dir_name_rnn+npsavedata_fname+'--statistics.txt', 'w') as fl:\n",
    "    fl.write(s)\n",
    "\n",
    "print('analysis time : {} s\\n'.format(time.time() - analysis_time))"
   ]
  },
  {
   "cell_type": "code",
   "execution_count": null,
   "metadata": {},
   "outputs": [],
   "source": []
  }
 ],
 "metadata": {
  "accelerator": "GPU",
  "colab": {
   "collapsed_sections": [],
   "provenance": []
  },
  "gpuClass": "standard",
  "kernelspec": {
   "display_name": "Python 3 (ipykernel)",
   "language": "python",
   "name": "python3"
  },
  "language_info": {
   "codemirror_mode": {
    "name": "ipython",
    "version": 3
   },
   "file_extension": ".py",
   "mimetype": "text/x-python",
   "name": "python",
   "nbconvert_exporter": "python",
   "pygments_lexer": "ipython3",
   "version": "3.10.6"
  }
 },
 "nbformat": 4,
 "nbformat_minor": 1
}
