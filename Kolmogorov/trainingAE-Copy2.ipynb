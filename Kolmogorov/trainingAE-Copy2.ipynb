{
 "cells": [
  {
   "cell_type": "code",
   "execution_count": 1,
   "metadata": {
    "executionInfo": {
     "elapsed": 5,
     "status": "ok",
     "timestamp": 1666788634667,
     "user": {
      "displayName": "Rohan Kaushik",
      "userId": "13918477614376051685"
     },
     "user_tz": -120
    },
    "id": "4xhxMpe_r-Y5"
   },
   "outputs": [],
   "source": [
    "# enabling 3rd party widgets\n",
    "# from google.colab import output\n",
    "# output.enable_custom_widget_manager()\n",
    "# output.disable_custom_widget_manager()\n",
    "\n",
    "# interactive 3D plot\n",
    "# !pip install ipympl\n",
    "# %matplotlib widget"
   ]
  },
  {
   "cell_type": "code",
   "execution_count": 2,
   "metadata": {
    "executionInfo": {
     "elapsed": 3089,
     "status": "ok",
     "timestamp": 1666788637752,
     "user": {
      "displayName": "Rohan Kaushik",
      "userId": "13918477614376051685"
     },
     "user_tz": -120
    },
    "id": "a5qPupCDsjSz"
   },
   "outputs": [],
   "source": [
    "import os\n",
    "import math\n",
    "from collections import OrderedDict\n",
    "import numpy as np\n",
    "import matplotlib.pyplot as plt\n",
    "from scipy import linalg\n",
    "\n",
    "import time as time\n",
    "import platform as platform\n",
    "\n",
    "import tensorflow as tf\n",
    "from tensorflow.keras import layers, losses\n",
    "from tensorflow.keras.models import Model\n",
    "from tensorflow.keras import backend as K\n",
    "from tensorflow.keras.regularizers import L2\n",
    "import h5py\n",
    "\n",
    "tf.keras.backend.set_floatx('float32')"
   ]
  },
  {
   "cell_type": "code",
   "execution_count": 3,
   "metadata": {
    "executionInfo": {
     "elapsed": 8,
     "status": "ok",
     "timestamp": 1666788637752,
     "user": {
      "displayName": "Rohan Kaushik",
      "userId": "13918477614376051685"
     },
     "user_tz": -120
    },
    "id": "3AVrZNGlZu4Z"
   },
   "outputs": [],
   "source": [
    "colab_flag = False\n",
    "\n",
    "FTYPE = np.float32\n",
    "ITYPE = np.int32\n",
    "\n",
    "strategy = None\n",
    "# strategy = tf.distribute.MirroredStrategy()"
   ]
  },
  {
   "cell_type": "code",
   "execution_count": 4,
   "metadata": {
    "executionInfo": {
     "elapsed": 7,
     "status": "ok",
     "timestamp": 1666788637753,
     "user": {
      "displayName": "Rohan Kaushik",
      "userId": "13918477614376051685"
     },
     "user_tz": -120
    },
    "id": "SxAd7iDL0Ami"
   },
   "outputs": [],
   "source": [
    "current_sys = platform.system()\n",
    "\n",
    "if current_sys == 'Windows':\n",
    "    dir_sep = '\\\\'\n",
    "else:\n",
    "    dir_sep = '/'"
   ]
  },
  {
   "cell_type": "code",
   "execution_count": 5,
   "metadata": {
    "colab": {
     "base_uri": "https://localhost:8080/"
    },
    "executionInfo": {
     "elapsed": 27766,
     "status": "ok",
     "timestamp": 1666788665512,
     "user": {
      "displayName": "Rohan Kaushik",
      "userId": "13918477614376051685"
     },
     "user_tz": -120
    },
    "id": "JjNnPRuk0IIX",
    "outputId": "f93a8628-71fe-4d6d-b3b6-245dfcb8eb60"
   },
   "outputs": [],
   "source": [
    "if colab_flag == True:\n",
    "    from google.colab import drive\n",
    "    drive.mount('/content/drive')\n",
    "    os.chdir('/content/drive/MyDrive/Github/MLROM/KS/')"
   ]
  },
  {
   "cell_type": "code",
   "execution_count": 6,
   "metadata": {
    "colab": {
     "base_uri": "https://localhost:8080/"
    },
    "executionInfo": {
     "elapsed": 5,
     "status": "ok",
     "timestamp": 1666788665512,
     "user": {
      "displayName": "Rohan Kaushik",
      "userId": "13918477614376051685"
     },
     "user_tz": -120
    },
    "id": "9REiGIIy0IzV",
    "outputId": "2b5b0b02-2f67-4635-a00c-82084a8d2ffb"
   },
   "outputs": [
    {
     "name": "stdout",
     "output_type": "stream",
     "text": [
      "/home/rkaushik/Documents/Thesis/MLROM/Kolmogorov\n"
     ]
    }
   ],
   "source": [
    "print(os.getcwd())"
   ]
  },
  {
   "cell_type": "code",
   "execution_count": 7,
   "metadata": {
    "executionInfo": {
     "elapsed": 1381,
     "status": "ok",
     "timestamp": 1666788666890,
     "user": {
      "displayName": "Rohan Kaushik",
      "userId": "13918477614376051685"
     },
     "user_tz": -120
    },
    "id": "8S1AHEkl48bn"
   },
   "outputs": [],
   "source": [
    "from tools.misc_tools import mytimecallback, SaveLosses, plot_losses, readAndReturnLossHistories\n",
    "from tools.ae_v3 import Autoencoder"
   ]
  },
  {
   "cell_type": "code",
   "execution_count": 8,
   "metadata": {
    "executionInfo": {
     "elapsed": 7,
     "status": "ok",
     "timestamp": 1666788666891,
     "user": {
      "displayName": "Rohan Kaushik",
      "userId": "13918477614376051685"
     },
     "user_tz": -120
    },
    "id": "-mIQj_v4gzMh"
   },
   "outputs": [],
   "source": [
    "behaviour = 'initialiseAndTrainFromScratch'\n",
    "# behaviour = 'loadCheckpointAndContinueTraining'\n",
    "# behaviour = 'loadFinalNetAndPlot'"
   ]
  },
  {
   "cell_type": "code",
   "execution_count": 9,
   "metadata": {
    "executionInfo": {
     "elapsed": 8,
     "status": "ok",
     "timestamp": 1666788666892,
     "user": {
      "displayName": "Rohan Kaushik",
      "userId": "13918477614376051685"
     },
     "user_tz": -120
    },
    "id": "QL5n-abCg0nI"
   },
   "outputs": [],
   "source": [
    "# setting seed for PRNGs\n",
    "if behaviour == 'initialiseAndTrainFromScratch':\n",
    "    prng_seed = 42\n",
    "    np.random.seed(prng_seed)\n",
    "    tf.random.set_seed(prng_seed)"
   ]
  },
  {
   "cell_type": "code",
   "execution_count": 10,
   "metadata": {
    "colab": {
     "base_uri": "https://localhost:8080/",
     "height": 35
    },
    "executionInfo": {
     "elapsed": 7,
     "status": "ok",
     "timestamp": 1666788666892,
     "user": {
      "displayName": "Rohan Kaushik",
      "userId": "13918477614376051685"
     },
     "user_tz": -120
    },
    "id": "tc3zO9xL_tNl",
    "outputId": "f77bf689-c865-4a8d-8d40-37ec9c75f1ee"
   },
   "outputs": [
    {
     "name": "stdout",
     "output_type": "stream",
     "text": [
      "[PhysicalDevice(name='/physical_device:GPU:0', device_type='GPU'), PhysicalDevice(name='/physical_device:GPU:1', device_type='GPU')]\n",
      "[LogicalDevice(name='/device:GPU:0', device_type='GPU')]\n"
     ]
    },
    {
     "name": "stderr",
     "output_type": "stream",
     "text": [
      "2023-06-08 01:30:00.013962: I tensorflow/stream_executor/cuda/cuda_gpu_executor.cc:936] successful NUMA node read from SysFS had negative value (-1), but there must be at least one NUMA node, so returning NUMA node zero\n",
      "2023-06-08 01:30:00.014374: I tensorflow/stream_executor/cuda/cuda_gpu_executor.cc:936] successful NUMA node read from SysFS had negative value (-1), but there must be at least one NUMA node, so returning NUMA node zero\n",
      "2023-06-08 01:30:00.053428: I tensorflow/stream_executor/cuda/cuda_gpu_executor.cc:936] successful NUMA node read from SysFS had negative value (-1), but there must be at least one NUMA node, so returning NUMA node zero\n",
      "2023-06-08 01:30:00.053664: I tensorflow/stream_executor/cuda/cuda_gpu_executor.cc:936] successful NUMA node read from SysFS had negative value (-1), but there must be at least one NUMA node, so returning NUMA node zero\n",
      "2023-06-08 01:30:00.053842: I tensorflow/stream_executor/cuda/cuda_gpu_executor.cc:936] successful NUMA node read from SysFS had negative value (-1), but there must be at least one NUMA node, so returning NUMA node zero\n",
      "2023-06-08 01:30:00.054013: I tensorflow/stream_executor/cuda/cuda_gpu_executor.cc:936] successful NUMA node read from SysFS had negative value (-1), but there must be at least one NUMA node, so returning NUMA node zero\n",
      "2023-06-08 01:30:00.054762: I tensorflow/core/platform/cpu_feature_guard.cc:151] This TensorFlow binary is optimized with oneAPI Deep Neural Network Library (oneDNN) to use the following CPU instructions in performance-critical operations:  SSE4.1 SSE4.2 AVX AVX2 FMA\n",
      "To enable them in other operations, rebuild TensorFlow with the appropriate compiler flags.\n",
      "2023-06-08 01:30:00.055354: I tensorflow/stream_executor/cuda/cuda_gpu_executor.cc:936] successful NUMA node read from SysFS had negative value (-1), but there must be at least one NUMA node, so returning NUMA node zero\n",
      "2023-06-08 01:30:00.055595: I tensorflow/stream_executor/cuda/cuda_gpu_executor.cc:936] successful NUMA node read from SysFS had negative value (-1), but there must be at least one NUMA node, so returning NUMA node zero\n",
      "2023-06-08 01:30:00.055807: I tensorflow/stream_executor/cuda/cuda_gpu_executor.cc:936] successful NUMA node read from SysFS had negative value (-1), but there must be at least one NUMA node, so returning NUMA node zero\n",
      "2023-06-08 01:30:00.617971: I tensorflow/stream_executor/cuda/cuda_gpu_executor.cc:936] successful NUMA node read from SysFS had negative value (-1), but there must be at least one NUMA node, so returning NUMA node zero\n",
      "2023-06-08 01:30:00.618235: I tensorflow/stream_executor/cuda/cuda_gpu_executor.cc:936] successful NUMA node read from SysFS had negative value (-1), but there must be at least one NUMA node, so returning NUMA node zero\n",
      "2023-06-08 01:30:00.618460: I tensorflow/stream_executor/cuda/cuda_gpu_executor.cc:936] successful NUMA node read from SysFS had negative value (-1), but there must be at least one NUMA node, so returning NUMA node zero\n",
      "2023-06-08 01:30:00.618646: I tensorflow/core/common_runtime/gpu/gpu_device.cc:1525] Created device /job:localhost/replica:0/task:0/device:GPU:0 with 3365 MB memory:  -> device: 1, name: Quadro K2200, pci bus id: 0000:03:00.0, compute capability: 5.0\n"
     ]
    }
   ],
   "source": [
    "gpus = tf.config.list_physical_devices('GPU')\n",
    "print(gpus)\n",
    "\n",
    "if colab_flag == False:\n",
    "    if strategy is None:\n",
    "        if gpus:\n",
    "            gpu_to_use = 1\n",
    "            tf.config.set_visible_devices(gpus[gpu_to_use], 'GPU')\n",
    "    logical_devices = tf.config.list_logical_devices('GPU')\n",
    "    print(logical_devices)"
   ]
  },
  {
   "cell_type": "code",
   "execution_count": 11,
   "metadata": {},
   "outputs": [
    {
     "name": "stdout",
     "output_type": "stream",
     "text": [
      "[PhysicalDevice(name='/physical_device:CPU:0', device_type='CPU'), PhysicalDevice(name='/physical_device:GPU:0', device_type='GPU'), PhysicalDevice(name='/physical_device:GPU:1', device_type='GPU')]\n",
      "[LogicalDevice(name='/device:CPU:0', device_type='CPU'), LogicalDevice(name='/device:GPU:0', device_type='GPU')]\n",
      "2.8.1\n"
     ]
    }
   ],
   "source": [
    "# print(tf.test.gpu_device_name())\n",
    "print(tf.config.list_physical_devices())\n",
    "print(tf.config.list_logical_devices())\n",
    "print(tf.__version__)"
   ]
  },
  {
   "cell_type": "markdown",
   "metadata": {
    "id": "7UbdnOtc4_z9"
   },
   "source": [
    "# KS System"
   ]
  },
  {
   "cell_type": "code",
   "execution_count": 12,
   "metadata": {
    "colab": {
     "base_uri": "https://localhost:8080/"
    },
    "executionInfo": {
     "elapsed": 2030,
     "status": "ok",
     "timestamp": 1666788668916,
     "user": {
      "displayName": "Rohan Kaushik",
      "userId": "13918477614376051685"
     },
     "user_tz": -120
    },
    "id": "xcNgt4hqg6Xv",
    "outputId": "7735ac54-495c-493f-869b-7d15538ee30c"
   },
   "outputs": [
    {
     "name": "stdout",
     "output_type": "stream",
     "text": [
      "dir_name_ae: /home/rkaushik/Documents/Thesis/MLROM/Kolmogorov/saved_ae/ae_030\n",
      "24 <class 'int'>\n"
     ]
    }
   ],
   "source": [
    "# setting up params (and saving, if applicable)\n",
    "from numpy import *\n",
    "\n",
    "if behaviour == 'initialiseAndTrainFromScratch':\n",
    "    # loading data directory\n",
    "    data_dir_idx = '000'\n",
    "\n",
    "    # making ae save directory\n",
    "    dir_name_ae = os.getcwd() + dir_sep + 'saved_ae'\n",
    "    if not os.path.isdir(dir_name_ae):\n",
    "        os.makedirs(dir_name_ae)\n",
    "\n",
    "    counter = 0\n",
    "    while True:\n",
    "        dir_check = 'ae_' + str(counter).zfill(3)\n",
    "        if os.path.isdir(dir_name_ae + dir_sep + dir_check):\n",
    "            counter += 1\n",
    "        else:\n",
    "            break\n",
    "\n",
    "    dir_name_ae = dir_name_ae + dir_sep + dir_check\n",
    "    os.makedirs(dir_name_ae)\n",
    "    os.makedirs(dir_name_ae+dir_sep+'plots')\n",
    "else:\n",
    "    # some paramaters\n",
    "    dir_name_ae = os.getcwd()+'{ds}saved_ae{ds}ae_015'.format(ds=dir_sep)\n",
    "\n",
    "    with open(dir_name_ae + dir_sep + 'ae_data.txt') as f:\n",
    "        lines = f.readlines()\n",
    "\n",
    "    params_dict = eval(''.join(lines))\n",
    "    data_dir_idx = params_dict['data_dir_idx']\n",
    "    normalizeforae_flag = params_dict['normalizeforae_flag']\n",
    "    normalization_constant_arr_aedata = params_dict['normalization_constant_arr_aedata']\n",
    "    if os.path.exists(dir_name_ae+dir_sep+'normalization_data.npz'):\n",
    "        with np.load(dir_name_ae+dir_sep+'normalization_data.npz', allow_pickle=True) as fl:\n",
    "            normalization_constant_arr_aedata = fl['normalization_constant_arr_aedata'][0]\n",
    "\n",
    "print('dir_name_ae:', dir_name_ae)\n",
    "# loading data\n",
    "dir_name_data = os.getcwd() + dir_sep + 'saved_data' + dir_sep + 'data_' + data_dir_idx\n",
    "    \n",
    "with h5py.File(dir_name_data + '/data.h5', 'r') as f:\n",
    "    t_recorded_samples = np.array(f['t'])\n",
    "    \n",
    "    N = int(0.5*(np.array(f['num_wavenumbers'])-1))\n",
    "    print(N, type(N))\n",
    "    \n",
    "    u_ref = np.array(f['u_reference'], dtype=FTYPE)\n",
    "    v_ref = np.array(f['v_reference'], dtype=FTYPE)"
   ]
  },
  {
   "cell_type": "code",
   "execution_count": 13,
   "metadata": {},
   "outputs": [],
   "source": [
    "all_data = np.empty(shape=(u_ref.shape[0], 2, u_ref.shape[1], u_ref.shape[2]), dtype=FTYPE)\n",
    "all_data[:, 0, :, :] = u_ref\n",
    "del(u_ref)\n",
    "all_data[:, 1, :, :] = v_ref\n",
    "del(v_ref)"
   ]
  },
  {
   "cell_type": "code",
   "execution_count": null,
   "metadata": {
    "executionInfo": {
     "elapsed": 2,
     "status": "ok",
     "timestamp": 1666788668916,
     "user": {
      "displayName": "Rohan Kaushik",
      "userId": "13918477614376051685"
     },
     "user_tz": -120
    },
    "id": "O7sl7i5H5Dqz"
   },
   "outputs": [],
   "source": []
  },
  {
   "cell_type": "code",
   "execution_count": null,
   "metadata": {
    "colab": {
     "base_uri": "https://localhost:8080/",
     "height": 1000
    },
    "executionInfo": {
     "elapsed": 2415,
     "status": "ok",
     "timestamp": 1666788671329,
     "user": {
      "displayName": "Rohan Kaushik",
      "userId": "13918477614376051685"
     },
     "user_tz": -120
    },
    "id": "ySVDz_2U5FH5",
    "outputId": "53f23b1d-fa61-4f27-bbc4-2e624421a866"
   },
   "outputs": [],
   "source": []
  },
  {
   "cell_type": "code",
   "execution_count": 14,
   "metadata": {
    "executionInfo": {
     "elapsed": 11,
     "status": "ok",
     "timestamp": 1666788671330,
     "user": {
      "displayName": "Rohan Kaushik",
      "userId": "13918477614376051685"
     },
     "user_tz": -120
    },
    "id": "bkQx9q_p5Gro"
   },
   "outputs": [],
   "source": [
    "# dealing with normalizing the data before feeding into autoencoder\n",
    "if behaviour == 'initialiseAndTrainFromScratch':\n",
    "    # normalize data before feeding into autoencoder?\n",
    "    normalizeforae_flag = True\n",
    "    normalization_type = 'stddev' # could be 'stddev' or 'minmax'\n",
    "    stddev_multiplier = 3\n",
    "    \n",
    "    normalization_constant_arr_aedata = None\n",
    "    if normalizeforae_flag == True:\n",
    "        normalization_constant_arr_aedata = np.empty(shape=(2,) + tuple(all_data.shape[1:]), dtype=FTYPE)\n",
    "        if normalization_type == 'stddev':\n",
    "            normalization_constant_arr_aedata[0] = np.mean(all_data, axis=0)\n",
    "            normalization_constant_arr_aedata[1] = stddev_multiplier * np.std(all_data, axis=0)\n",
    "        elif normalization_type == 'minmax':\n",
    "            sample_min = all_data.min(axis=0)\n",
    "            sample_max = all_data.max(axis=0)\n",
    "            idx = np.where(sample_min == sample_max)\n",
    "            if len(idx) > 0:\n",
    "                num_elems = len(idx[0])\n",
    "                for i in range(num_elems):\n",
    "                    i0 = idx[0][i]\n",
    "                    i1 = idx[1][i]\n",
    "                    i2 = idx[2][i]\n",
    "                    sample_min[i0, i1, i2] -= 0.5\n",
    "                    sample_max[i0, i1, i2] = sample_min[i0, i1, i2] + 1.\n",
    "            normalization_constant_arr_aedata[0] = sample_min\n",
    "            normalization_constant_arr_aedata[1] = sample_max - sample_min\n",
    "        all_data -= normalization_constant_arr_aedata[0]\n",
    "        all_data /= normalization_constant_arr_aedata[1]\n",
    "            \n",
    "    # saving sim data\n",
    "    ae_data = {\n",
    "        'data_dir_idx':data_dir_idx,\n",
    "        'normalizeforae_flag':normalizeforae_flag,\n",
    "        # 'normalization_constant_arr_aedata':normalization_constant_arr_aedata,\n",
    "        'normalization_type':normalization_type,\n",
    "        'stddev_multiplier':stddev_multiplier,\n",
    "        'ae_data_with_params':False,\n",
    "        'module':Autoencoder.__module__,\n",
    "    }\n",
    "    with open(dir_name_ae+dir_sep+'ae_data.txt', 'w') as f:\n",
    "        f.write(str(ae_data))\n",
    "    np.savez(\n",
    "        dir_name_ae+dir_sep+'normalization_data',\n",
    "        normalization_constant_arr_aedata=[normalization_constant_arr_aedata],\n",
    "    )\n",
    "else:\n",
    "    if normalizeforae_flag == True:\n",
    "        all_data -= normalization_constant_arr_aedata[0]\n",
    "        all_data /= normalization_constant_arr_aedata[1]\n",
    "            \n",
    "time_stddev = np.std(all_data, axis=0)"
   ]
  },
  {
   "cell_type": "code",
   "execution_count": 15,
   "metadata": {
    "colab": {
     "base_uri": "https://localhost:8080/",
     "height": 1000
    },
    "executionInfo": {
     "elapsed": 1020,
     "status": "ok",
     "timestamp": 1666788672340,
     "user": {
      "displayName": "Rohan Kaushik",
      "userId": "13918477614376051685"
     },
     "user_tz": -120
    },
    "id": "uDhfYHU45IS8",
    "outputId": "982f534f-255c-41b9-f40a-327730ac89ae"
   },
   "outputs": [],
   "source": [
    "all_data = all_data[::4]"
   ]
  },
  {
   "cell_type": "code",
   "execution_count": null,
   "metadata": {
    "executionInfo": {
     "elapsed": 13,
     "status": "ok",
     "timestamp": 1666788672341,
     "user": {
      "displayName": "Rohan Kaushik",
      "userId": "13918477614376051685"
     },
     "user_tz": -120
    },
    "id": "59kkrSP1GvzO"
   },
   "outputs": [],
   "source": []
  },
  {
   "cell_type": "code",
   "execution_count": null,
   "metadata": {
    "executionInfo": {
     "elapsed": 11,
     "status": "ok",
     "timestamp": 1666788672342,
     "user": {
      "displayName": "Rohan Kaushik",
      "userId": "13918477614376051685"
     },
     "user_tz": -120
    },
    "id": "-MJa7P5t5KiC",
    "scrolled": false
   },
   "outputs": [],
   "source": []
  },
  {
   "cell_type": "markdown",
   "metadata": {
    "id": "1v6KQEjR5LkK"
   },
   "source": [
    "# Autoencoder"
   ]
  },
  {
   "cell_type": "code",
   "execution_count": 16,
   "metadata": {
    "executionInfo": {
     "elapsed": 432,
     "status": "ok",
     "timestamp": 1666788672765,
     "user": {
      "displayName": "Rohan Kaushik",
      "userId": "13918477614376051685"
     },
     "user_tz": -120
    },
    "id": "c5cjQ1lnjcwt"
   },
   "outputs": [],
   "source": [
    "# setting up training params\n",
    "if behaviour == 'initialiseAndTrainFromScratch':\n",
    "    learning_rate_list = [1e-3, 1e-4, 1e-5]\n",
    "    epochs = 200\n",
    "    patience = 10  # parameter for early stopping\n",
    "    min_delta = 1e-6  # parameter for early stopping\n",
    "    lambda_reg = 5e-7 # weight for regularizer\n",
    "    train_split = 0.8\n",
    "    val_split = 0.1\n",
    "    test_split = 1 - train_split - val_split\n",
    "    batch_size = 16\n",
    "    fRMS = 2/100\n",
    "    timeMeanofSpaceRMS = np.mean(np.mean(all_data**2, axis=1)**0.5)\n",
    "    \n",
    "    # stddev = fRMS*timeMeanofSpaceRMS\n",
    "    stddev = fRMS * np.mean(time_stddev)\n",
    "    use_weights_post_dense = False\n",
    "    use_batch_norm = True\n",
    "\n",
    "    # saving training params\n",
    "    training_specific_params = {\n",
    "        'learning_rate_list':learning_rate_list,\n",
    "        'epochs':epochs,\n",
    "        'patience':patience,\n",
    "        'min_delta':min_delta,\n",
    "        'prng_seed':prng_seed,\n",
    "        'train_split':train_split,\n",
    "        'val_split':val_split,\n",
    "        'batch_size':batch_size,\n",
    "        'fRMS':fRMS,\n",
    "        'timeMeanofSpaceRMS':timeMeanofSpaceRMS,\n",
    "        'stddev':stddev,\n",
    "        'use_batch_norm':use_batch_norm,\n",
    "    }\n",
    "\n",
    "    with open(dir_name_ae+dir_sep+'training_specific_params.txt', 'w') as f:\n",
    "        f.write(str(training_specific_params))\n",
    "else:\n",
    "    with open(dir_name_ae + dir_sep + 'training_specific_params.txt') as f:\n",
    "        lines = f.readlines()\n",
    "\n",
    "    tparams_dict = eval(''.join(lines))\n",
    "\n",
    "    learning_rate_list = tparams_dict['learning_rate_list']\n",
    "    epochs = tparams_dict['epochs']\n",
    "    patience = tparams_dict['patience']\n",
    "    min_delta = tparams_dict['min_delta']\n",
    "    prng_seed = tparams_dict['prng_seed']\n",
    "    train_split = tparams_dict['train_split']\n",
    "    val_split = tparams_dict['val_split']\n",
    "    batch_size = tparams_dict['batch_size']\n",
    "    try:\n",
    "        stddev = tparams_dict['stddev']\n",
    "    except:\n",
    "        print(\"'stddev' not in tparams_dict, set to 0\")\n",
    "        stddev = 0.0\n",
    "\n",
    "    test_split = 1 - train_split - val_split\n",
    "\n",
    "    # setting seed for PRNGs\n",
    "    np.random.seed(prng_seed)\n",
    "    tf.random.set_seed(prng_seed)"
   ]
  },
  {
   "cell_type": "code",
   "execution_count": null,
   "metadata": {
    "executionInfo": {
     "elapsed": 22,
     "status": "ok",
     "timestamp": 1666788672769,
     "user": {
      "displayName": "Rohan Kaushik",
      "userId": "13918477614376051685"
     },
     "user_tz": -120
    },
    "id": "lovTI3zuhlX0"
   },
   "outputs": [],
   "source": []
  },
  {
   "cell_type": "code",
   "execution_count": 17,
   "metadata": {
    "executionInfo": {
     "elapsed": 22,
     "status": "ok",
     "timestamp": 1666788672770,
     "user": {
      "displayName": "Rohan Kaushik",
      "userId": "13918477614376051685"
     },
     "user_tz": -120
    },
    "id": "IjsRi02g5ORG"
   },
   "outputs": [],
   "source": [
    "# # setting up data\n",
    "# idx = np.arange(all_data.shape[0])\n",
    "# np.random.shuffle(idx)\n",
    "# boundary = int(np.round((1-test_split)*all_data.shape[0]))\n",
    "# training_data = all_data[idx[0:boundary], :]\n",
    "# testing_data = all_data[idx[boundary:], :]"
   ]
  },
  {
   "cell_type": "code",
   "execution_count": 18,
   "metadata": {
    "executionInfo": {
     "elapsed": 21,
     "status": "ok",
     "timestamp": 1666788672771,
     "user": {
      "displayName": "Rohan Kaushik",
      "userId": "13918477614376051685"
     },
     "user_tz": -120
    },
    "id": "Qwietg7eTG-s"
   },
   "outputs": [],
   "source": [
    "num_train = int(all_data.shape[0]*train_split)\n",
    "num_val = int(all_data.shape[0]*val_split)\n",
    "num_test = all_data.shape[0] - num_train - num_val\n",
    "\n",
    "idx = np.arange(all_data.shape[0])\n",
    "np.random.shuffle(idx)\n",
    "\n",
    "training_data = np.empty(shape=(num_train, ) + tuple(all_data.shape[1:]), dtype=FTYPE)\n",
    "val_data = np.empty(shape=(num_val, ) + tuple(all_data.shape[1:]), dtype=FTYPE)\n",
    "testing_data = np.empty(shape=(num_test, ) + tuple(all_data.shape[1:]), dtype=FTYPE)\n",
    "\n",
    "training_data[:] = all_data[idx[0:num_train]]\n",
    "val_data[:] = all_data[idx[num_train:num_train+num_val]]\n",
    "testing_data[:] = all_data[idx[num_train+num_val:]]"
   ]
  },
  {
   "cell_type": "code",
   "execution_count": 19,
   "metadata": {
    "executionInfo": {
     "elapsed": 21,
     "status": "ok",
     "timestamp": 1666788672772,
     "user": {
      "displayName": "Rohan Kaushik",
      "userId": "13918477614376051685"
     },
     "user_tz": -120
    },
    "id": "gJ-28EnzJ4Ur"
   },
   "outputs": [],
   "source": [
    "del(all_data)"
   ]
  },
  {
   "cell_type": "code",
   "execution_count": null,
   "metadata": {
    "executionInfo": {
     "elapsed": 20,
     "status": "ok",
     "timestamp": 1666788672773,
     "user": {
      "displayName": "Rohan Kaushik",
      "userId": "13918477614376051685"
     },
     "user_tz": -120
    },
    "id": "7xTsmS7lgpps"
   },
   "outputs": [],
   "source": []
  },
  {
   "cell_type": "code",
   "execution_count": 20,
   "metadata": {
    "executionInfo": {
     "elapsed": 1626,
     "status": "ok",
     "timestamp": 1666788674381,
     "user": {
      "displayName": "Rohan Kaushik",
      "userId": "13918477614376051685"
     },
     "user_tz": -120
    },
    "id": "7l5kI1tfMszJ"
   },
   "outputs": [
    {
     "name": "stdout",
     "output_type": "stream",
     "text": [
      "0 / 4\n",
      "1 / 4\n",
      "2 / 4\n",
      "3 / 4\n",
      "(69, 69)\n"
     ]
    },
    {
     "name": "stderr",
     "output_type": "stream",
     "text": [
      "2023-06-08 01:30:09.408314: I tensorflow/stream_executor/cuda/cuda_dnn.cc:368] Loaded cuDNN version 8401\n"
     ]
    }
   ],
   "source": [
    "# Initialize network\n",
    "if behaviour == 'initialiseAndTrainFromScratch':\n",
    "    enc_filters = [8, 16, 32, 2] # [8, 3, 1]\n",
    "    enc_strides = [2, 2, 2, 2] # [2, 1, 1]\n",
    "    enc_attn_placement = [1, 2, 3]\n",
    "    dec_filters = [32, 16, 8, 2]# [3, 8, 2]\n",
    "    dec_strides = [2, 2, 2, 2] # [1, 1, 2]\n",
    "    dec_attn_placement = [0, 1]\n",
    "    kernel_size = 3\n",
    "    \n",
    "    enc_layer_act_func = 'elu'\n",
    "    enc_final_layer_act_func = 'tanh'\n",
    "    dec_layer_act_func = 'elu'\n",
    "    dec_final_layer_act_func = 'tanh'\n",
    "    reg_name = 'L2'\n",
    "    \n",
    "    use_periodic_padding = True\n",
    "    use_attention_module = False\n",
    "    \n",
    "    if strategy is not None:\n",
    "        with strategy.scope():\n",
    "            ae_net = Autoencoder(\n",
    "                data_dim=training_data.shape[1:],\n",
    "                kernel_size=kernel_size,\n",
    "                enc_filters=enc_filters, # number of filters\n",
    "                dec_filters=dec_filters, # number of filters\n",
    "                lambda_reg=lambda_reg,\n",
    "                reg_name=reg_name,\n",
    "                enc_layer_act_func=enc_layer_act_func,\n",
    "                enc_final_layer_act_func=enc_final_layer_act_func,\n",
    "                dec_layer_act_func=dec_layer_act_func,\n",
    "                dec_final_layer_act_func=dec_final_layer_act_func,\n",
    "                load_file=None,\n",
    "                stddev=stddev,\n",
    "                use_weights_post_dense=use_weights_post_dense,\n",
    "                use_batch_norm=use_batch_norm,\n",
    "                use_periodic_padding=use_periodic_padding,\n",
    "                use_attention_module=use_attention_module,\n",
    "                enc_strides=enc_strides,\n",
    "                enc_attn_placement=enc_attn_placement,\n",
    "                dec_strides=dec_strides,\n",
    "                dec_attn_placement=dec_attn_placement,)\n",
    "    else:\n",
    "        ae_net = Autoencoder(\n",
    "            data_dim=training_data.shape[1:],\n",
    "            kernel_size=kernel_size,\n",
    "            enc_filters=enc_filters, # number of filters\n",
    "            dec_filters=dec_filters, # number of filters\n",
    "            lambda_reg=lambda_reg,\n",
    "            reg_name=reg_name,\n",
    "            enc_layer_act_func=enc_layer_act_func,\n",
    "            enc_final_layer_act_func=enc_final_layer_act_func,\n",
    "            dec_layer_act_func=dec_layer_act_func,\n",
    "            dec_final_layer_act_func=dec_final_layer_act_func,\n",
    "            load_file=None,\n",
    "            stddev=stddev,\n",
    "            use_weights_post_dense=use_weights_post_dense,\n",
    "            use_batch_norm=use_batch_norm,\n",
    "            use_periodic_padding=use_periodic_padding,\n",
    "            use_attention_module=use_attention_module,\n",
    "            enc_strides=enc_strides,\n",
    "            enc_attn_placement=enc_attn_placement,\n",
    "            dec_strides=dec_strides,\n",
    "            dec_attn_placement=dec_attn_placement,)\n",
    "    # saving the AE configuration\n",
    "    save_path = dir_name_ae+dir_sep+'final_net'\n",
    "    if not os.path.isdir(save_path):\n",
    "        os.makedirs(save_path)\n",
    "    ae_net.save_class_dict(save_path+dir_sep+'final_net_class_dict.txt')\n",
    "else:\n",
    "    load_file = dir_name_ae + dir_sep + 'final_net' + dir_sep + 'final_net_class_dict.txt'\n",
    "    if strategy is not None:\n",
    "        with strategy.scope():\n",
    "            ae_net = Autoencoder(data_dim=training_data.shape[1:], load_file=load_file)\n",
    "    else:\n",
    "        ae_net = Autoencoder(data_dim=training_data.shape[1:], load_file=load_file)\n",
    "    \n",
    "    if behaviour == 'loadCheckpointAndContinueTraining':\n",
    "        wt_file = tf.train.latest_checkpoint(dir_name_ae+dir_sep+'checkpoints')\n",
    "        # ae_net.load_weights(wt_file)\n",
    "    elif behaviour == 'loadFinalNetAndPlot':\n",
    "        wt_file = dir_name_ae+dir_sep+'final_net'+dir_sep+'final_net_ae_weights.h5'\n",
    "        ae_net.load_weights_from_file(wt_file)"
   ]
  },
  {
   "cell_type": "code",
   "execution_count": null,
   "metadata": {
    "executionInfo": {
     "elapsed": 259,
     "status": "ok",
     "timestamp": 1666788674637,
     "user": {
      "displayName": "Rohan Kaushik",
      "userId": "13918477614376051685"
     },
     "user_tz": -120
    },
    "id": "48tkgZxT0Amt"
   },
   "outputs": [],
   "source": []
  },
  {
   "cell_type": "code",
   "execution_count": 21,
   "metadata": {
    "executionInfo": {
     "elapsed": 322,
     "status": "ok",
     "timestamp": 1666788674956,
     "user": {
      "displayName": "Rohan Kaushik",
      "userId": "13918477614376051685"
     },
     "user_tz": -120
    },
    "id": "yUChBAKqIFtX"
   },
   "outputs": [],
   "source": [
    "if behaviour == 'initialiseAndTrainFromScratch':\n",
    "    val_loss_hist = []\n",
    "    train_loss_hist = []\n",
    "    lr_change=[0, 0]\n",
    "    savelosses_cb_vallossarr = np.ones(shape=epochs*len(learning_rate_list))*np.NaN\n",
    "    savelosses_cb_trainlossarr = np.ones(shape=epochs*len(learning_rate_list))*np.NaN\n",
    "    starting_lr_idx = 0\n",
    "    num_epochs_left = epochs\n",
    "elif behaviour == 'loadCheckpointAndContinueTraining':\n",
    "    val_loss_hist, train_loss_hist, lr_change, starting_lr_idx, num_epochs_left, val_loss_arr_fromckpt, train_loss_arr_fromckpt = readAndReturnLossHistories(\n",
    "        dir_name_ae=dir_name_ae,\n",
    "        dir_sep=dir_sep,\n",
    "        epochs=epochs,\n",
    "        learning_rate_list=learning_rate_list)\n",
    "    savelosses_cb_vallossarr = val_loss_arr_fromckpt\n",
    "    savelosses_cb_trainlossarr = train_loss_arr_fromckpt\n",
    "elif behaviour == 'loadFinalNetAndPlot':\n",
    "    with open(dir_name_ae+'{ds}final_net{ds}losses.txt'.format(ds=dir_sep), 'r') as f:\n",
    "        lines = f.readlines()\n",
    "    \n",
    "    losses_dict = eval(''.join(lines))\n",
    "\n",
    "    val_loss_hist = losses_dict['val_loss_hist']\n",
    "    train_loss_hist = losses_dict['train_loss_hist']\n",
    "    lr_change = losses_dict['lr_change']\n",
    "    test_loss = losses_dict['test_loss']"
   ]
  },
  {
   "cell_type": "code",
   "execution_count": 22,
   "metadata": {},
   "outputs": [],
   "source": [
    "train_MSE_hist = []\n",
    "val_MSE_hist = []\n",
    "\n",
    "train_NMSE_hist = []\n",
    "val_NMSE_hist = []\n",
    "\n",
    "if use_attention_module == True:\n",
    "    encoder_attention_lambdas = {}\n",
    "    for i in range(len(ae_net.encoder_attention_modules_list)):\n",
    "        l = ae_net.encoder_attention_modules_list[i]\n",
    "        encoder_attention_lambdas['encoder_attention_module_{}_lambda'.format(i)] = [0]\n",
    "    decoder_attention_lambdas = {}\n",
    "    for i in range(len(ae_net.decoder_attention_modules_list)):\n",
    "        l = ae_net.decoder_attention_modules_list[i]\n",
    "        decoder_attention_lambdas['decoder_attention_module_{}_lambda'.format(i)] = [0]"
   ]
  },
  {
   "cell_type": "code",
   "execution_count": 23,
   "metadata": {
    "executionInfo": {
     "elapsed": 5,
     "status": "ok",
     "timestamp": 1666788674957,
     "user": {
      "displayName": "Rohan Kaushik",
      "userId": "13918477614376051685"
     },
     "user_tz": -120
    },
    "id": "Z0oEGp6WKGu2"
   },
   "outputs": [],
   "source": [
    "class NMSE(tf.keras.metrics.MeanSquaredError):\n",
    "    def __init__(self, divisor_arr, name='NMSE', **kwargs):\n",
    "        super(NMSE, self).__init__(name, **kwargs)\n",
    "        self.divisor_arr = divisor_arr\n",
    "\n",
    "    def update_state(self, y_true, y_pred, sample_weight=None):\n",
    "        y_true = y_true / self.divisor_arr\n",
    "        y_pred = y_pred / self.divisor_arr\n",
    "        return super(NMSE, self).update_state(y_true, y_pred, sample_weight)"
   ]
  },
  {
   "cell_type": "code",
   "execution_count": 24,
   "metadata": {},
   "outputs": [],
   "source": [
    "if strategy is not None:\n",
    "    with strategy.scope():\n",
    "        NMSE_metric = NMSE(divisor_arr=tf.constant(time_stddev))\n",
    "else:\n",
    "    NMSE_metric = NMSE(divisor_arr=tf.constant(time_stddev))"
   ]
  },
  {
   "cell_type": "code",
   "execution_count": 25,
   "metadata": {
    "colab": {
     "base_uri": "https://localhost:8080/"
    },
    "executionInfo": {
     "elapsed": 191278,
     "status": "ok",
     "timestamp": 1666788866231,
     "user": {
      "displayName": "Rohan Kaushik",
      "userId": "13918477614376051685"
     },
     "user_tz": -120
    },
    "id": "gELga1WnQeMK",
    "outputId": "e923a97a-2d9d-4c74-c328-4793de05b919",
    "scrolled": true
   },
   "outputs": [
    {
     "name": "stdout",
     "output_type": "stream",
     "text": [
      "WARNING:tensorflow:`period` argument is deprecated. Please use `save_freq` to specify the frequency in number of batches seen.\n",
      "\n",
      "\n",
      "--------------------------------------------------------------------------------\n",
      "\n",
      "---------------------------- LEARNING RATE : 0.001 -----------------------------\n",
      "\n",
      "--------------------------------------------------------------------------------\n",
      "\n",
      "\n",
      "Epoch 1/200\n",
      "1248/1250 [============================>.] - ETA: 0s - loss: 0.0456 - mse: 0.0456 - NMSE: 0.4105 - tot_time: 0h 0m 15.4s\n",
      "\n",
      "Epoch 1: val_NMSE improved from inf to 0.18934, saving model to /home/rkaushik/Documents/Thesis/MLROM/Kolmogorov/saved_ae/ae_030/checkpoints/checkpoint\n",
      " - saving loss histories at /home/rkaushik/Documents/Thesis/MLROM/Kolmogorov/saved_ae/ae_030/checkpoints/LossHistoriesCheckpoint\n",
      "1250/1250 [==============================] - 14s 10ms/step - loss: 0.0456 - mse: 0.0456 - NMSE: 0.4102 - val_loss: 0.0211 - val_mse: 0.0210 - val_NMSE: 0.1893\n",
      "Epoch 2/200\n",
      "1250/1250 [==============================] - ETA: 0s - loss: 0.0196 - mse: 0.0196 - NMSE: 0.1762 - tot_time: 0h 0m 27.4s\n",
      "\n",
      "Epoch 2: val_NMSE improved from 0.18934 to 0.15872, saving model to /home/rkaushik/Documents/Thesis/MLROM/Kolmogorov/saved_ae/ae_030/checkpoints/checkpoint\n",
      " - saving loss histories at /home/rkaushik/Documents/Thesis/MLROM/Kolmogorov/saved_ae/ae_030/checkpoints/LossHistoriesCheckpoint\n",
      "1250/1250 [==============================] - 12s 10ms/step - loss: 0.0196 - mse: 0.0196 - NMSE: 0.1762 - val_loss: 0.0177 - val_mse: 0.0176 - val_NMSE: 0.1587\n",
      "Epoch 3/200\n",
      "1245/1250 [============================>.] - ETA: 0s - loss: 0.0175 - mse: 0.0175 - NMSE: 0.1574 - tot_time: 0h 0m 39.4s\n",
      "\n",
      "Epoch 3: val_NMSE improved from 0.15872 to 0.14694, saving model to /home/rkaushik/Documents/Thesis/MLROM/Kolmogorov/saved_ae/ae_030/checkpoints/checkpoint\n",
      " - saving loss histories at /home/rkaushik/Documents/Thesis/MLROM/Kolmogorov/saved_ae/ae_030/checkpoints/LossHistoriesCheckpoint\n",
      "1250/1250 [==============================] - 12s 10ms/step - loss: 0.0175 - mse: 0.0175 - NMSE: 0.1574 - val_loss: 0.0164 - val_mse: 0.0163 - val_NMSE: 0.1469\n",
      "Epoch 4/200\n",
      "1250/1250 [==============================] - ETA: 0s - loss: 0.0164 - mse: 0.0163 - NMSE: 0.1470 - tot_time: 0h 0m 51.5s\n",
      "\n",
      "Epoch 4: val_NMSE improved from 0.14694 to 0.13508, saving model to /home/rkaushik/Documents/Thesis/MLROM/Kolmogorov/saved_ae/ae_030/checkpoints/checkpoint\n",
      " - saving loss histories at /home/rkaushik/Documents/Thesis/MLROM/Kolmogorov/saved_ae/ae_030/checkpoints/LossHistoriesCheckpoint\n",
      "1250/1250 [==============================] - 12s 10ms/step - loss: 0.0164 - mse: 0.0163 - NMSE: 0.1470 - val_loss: 0.0151 - val_mse: 0.0150 - val_NMSE: 0.1351\n",
      "Epoch 5/200\n",
      "1248/1250 [============================>.] - ETA: 0s - loss: 0.0154 - mse: 0.0154 - NMSE: 0.1385 - tot_time: 0h 1m 3.7s\n",
      "\n",
      "Epoch 5: val_NMSE improved from 0.13508 to 0.13008, saving model to /home/rkaushik/Documents/Thesis/MLROM/Kolmogorov/saved_ae/ae_030/checkpoints/checkpoint\n",
      " - saving loss histories at /home/rkaushik/Documents/Thesis/MLROM/Kolmogorov/saved_ae/ae_030/checkpoints/LossHistoriesCheckpoint\n",
      "1250/1250 [==============================] - 12s 10ms/step - loss: 0.0154 - mse: 0.0154 - NMSE: 0.1384 - val_loss: 0.0145 - val_mse: 0.0145 - val_NMSE: 0.1301\n",
      "Epoch 6/200\n",
      "1248/1250 [============================>.] - ETA: 0s - loss: 0.0147 - mse: 0.0146 - NMSE: 0.1318 - tot_time: 0h 1m 15.9s\n",
      "\n",
      "Epoch 6: val_NMSE improved from 0.13008 to 0.12394, saving model to /home/rkaushik/Documents/Thesis/MLROM/Kolmogorov/saved_ae/ae_030/checkpoints/checkpoint\n",
      " - saving loss histories at /home/rkaushik/Documents/Thesis/MLROM/Kolmogorov/saved_ae/ae_030/checkpoints/LossHistoriesCheckpoint\n",
      "1250/1250 [==============================] - 12s 10ms/step - loss: 0.0147 - mse: 0.0146 - NMSE: 0.1318 - val_loss: 0.0138 - val_mse: 0.0138 - val_NMSE: 0.1239\n",
      "Epoch 7/200\n",
      "1245/1250 [============================>.] - ETA: 0s - loss: 0.0142 - mse: 0.0141 - NMSE: 0.1273 - tot_time: 0h 1m 28.1s\n",
      "\n",
      "Epoch 7: val_NMSE improved from 0.12394 to 0.11995, saving model to /home/rkaushik/Documents/Thesis/MLROM/Kolmogorov/saved_ae/ae_030/checkpoints/checkpoint\n",
      " - saving loss histories at /home/rkaushik/Documents/Thesis/MLROM/Kolmogorov/saved_ae/ae_030/checkpoints/LossHistoriesCheckpoint\n",
      "1250/1250 [==============================] - 12s 10ms/step - loss: 0.0142 - mse: 0.0141 - NMSE: 0.1272 - val_loss: 0.0134 - val_mse: 0.0133 - val_NMSE: 0.1200\n",
      "Epoch 8/200\n",
      "1246/1250 [============================>.] - ETA: 0s - loss: 0.0138 - mse: 0.0137 - NMSE: 0.1233 - tot_time: 0h 1m 40.3s\n",
      "\n",
      "Epoch 8: val_NMSE improved from 0.11995 to 0.11585, saving model to /home/rkaushik/Documents/Thesis/MLROM/Kolmogorov/saved_ae/ae_030/checkpoints/checkpoint\n",
      " - saving loss histories at /home/rkaushik/Documents/Thesis/MLROM/Kolmogorov/saved_ae/ae_030/checkpoints/LossHistoriesCheckpoint\n",
      "1250/1250 [==============================] - 12s 10ms/step - loss: 0.0138 - mse: 0.0137 - NMSE: 0.1233 - val_loss: 0.0129 - val_mse: 0.0129 - val_NMSE: 0.1159\n",
      "Epoch 9/200\n",
      "1245/1250 [============================>.] - ETA: 0s - loss: 0.0134 - mse: 0.0133 - NMSE: 0.1198 - tot_time: 0h 1m 52.6s\n",
      "\n",
      "Epoch 9: val_NMSE improved from 0.11585 to 0.11328, saving model to /home/rkaushik/Documents/Thesis/MLROM/Kolmogorov/saved_ae/ae_030/checkpoints/checkpoint\n",
      " - saving loss histories at /home/rkaushik/Documents/Thesis/MLROM/Kolmogorov/saved_ae/ae_030/checkpoints/LossHistoriesCheckpoint\n",
      "1250/1250 [==============================] - 12s 10ms/step - loss: 0.0134 - mse: 0.0133 - NMSE: 0.1198 - val_loss: 0.0127 - val_mse: 0.0126 - val_NMSE: 0.1133\n",
      "Epoch 10/200\n",
      "1245/1250 [============================>.] - ETA: 0s - loss: 0.0131 - mse: 0.0130 - NMSE: 0.1169 - tot_time: 0h 2m 4.8s\n",
      "\n",
      "Epoch 10: val_NMSE improved from 0.11328 to 0.10959, saving model to /home/rkaushik/Documents/Thesis/MLROM/Kolmogorov/saved_ae/ae_030/checkpoints/checkpoint\n",
      " - saving loss histories at /home/rkaushik/Documents/Thesis/MLROM/Kolmogorov/saved_ae/ae_030/checkpoints/LossHistoriesCheckpoint\n",
      "1250/1250 [==============================] - 12s 10ms/step - loss: 0.0131 - mse: 0.0130 - NMSE: 0.1169 - val_loss: 0.0123 - val_mse: 0.0122 - val_NMSE: 0.1096\n",
      "Epoch 11/200\n",
      "1246/1250 [============================>.] - ETA: 0s - loss: 0.0126 - mse: 0.0126 - NMSE: 0.1131 - tot_time: 0h 2m 16.8s\n",
      "\n",
      "Epoch 11: val_NMSE improved from 0.10959 to 0.10510, saving model to /home/rkaushik/Documents/Thesis/MLROM/Kolmogorov/saved_ae/ae_030/checkpoints/checkpoint\n",
      " - saving loss histories at /home/rkaushik/Documents/Thesis/MLROM/Kolmogorov/saved_ae/ae_030/checkpoints/LossHistoriesCheckpoint\n",
      "1250/1250 [==============================] - 12s 10ms/step - loss: 0.0126 - mse: 0.0126 - NMSE: 0.1131 - val_loss: 0.0118 - val_mse: 0.0117 - val_NMSE: 0.1051\n",
      "Epoch 12/200\n",
      "1249/1250 [============================>.] - ETA: 0s - loss: 0.0123 - mse: 0.0123 - NMSE: 0.1103 - tot_time: 0h 2m 29.0s\n",
      "\n",
      "Epoch 12: val_NMSE improved from 0.10510 to 0.10508, saving model to /home/rkaushik/Documents/Thesis/MLROM/Kolmogorov/saved_ae/ae_030/checkpoints/checkpoint\n",
      " - saving loss histories at /home/rkaushik/Documents/Thesis/MLROM/Kolmogorov/saved_ae/ae_030/checkpoints/LossHistoriesCheckpoint\n",
      "1250/1250 [==============================] - 12s 10ms/step - loss: 0.0123 - mse: 0.0123 - NMSE: 0.1104 - val_loss: 0.0118 - val_mse: 0.0117 - val_NMSE: 0.1051\n",
      "Epoch 13/200\n",
      "1248/1250 [============================>.] - ETA: 0s - loss: 0.0121 - mse: 0.0121 - NMSE: 0.1085 - tot_time: 0h 2m 41.1s\n",
      "\n",
      "Epoch 13: val_NMSE improved from 0.10508 to 0.10300, saving model to /home/rkaushik/Documents/Thesis/MLROM/Kolmogorov/saved_ae/ae_030/checkpoints/checkpoint\n",
      " - saving loss histories at /home/rkaushik/Documents/Thesis/MLROM/Kolmogorov/saved_ae/ae_030/checkpoints/LossHistoriesCheckpoint\n",
      "1250/1250 [==============================] - 12s 10ms/step - loss: 0.0121 - mse: 0.0121 - NMSE: 0.1085 - val_loss: 0.0115 - val_mse: 0.0114 - val_NMSE: 0.1030\n",
      "Epoch 14/200\n",
      "1247/1250 [============================>.] - ETA: 0s - loss: 0.0120 - mse: 0.0119 - NMSE: 0.1070 - tot_time: 0h 2m 53.3s\n",
      "\n",
      "Epoch 14: val_NMSE improved from 0.10300 to 0.10036, saving model to /home/rkaushik/Documents/Thesis/MLROM/Kolmogorov/saved_ae/ae_030/checkpoints/checkpoint\n",
      " - saving loss histories at /home/rkaushik/Documents/Thesis/MLROM/Kolmogorov/saved_ae/ae_030/checkpoints/LossHistoriesCheckpoint\n",
      "1250/1250 [==============================] - 12s 10ms/step - loss: 0.0120 - mse: 0.0119 - NMSE: 0.1070 - val_loss: 0.0112 - val_mse: 0.0112 - val_NMSE: 0.1004\n"
     ]
    },
    {
     "name": "stdout",
     "output_type": "stream",
     "text": [
      "Epoch 15/200\n",
      "1249/1250 [============================>.] - ETA: 0s - loss: 0.0118 - mse: 0.0118 - NMSE: 0.1058 - tot_time: 0h 3m 5.6s\n",
      "\n",
      "Epoch 15: val_NMSE improved from 0.10036 to 0.10008, saving model to /home/rkaushik/Documents/Thesis/MLROM/Kolmogorov/saved_ae/ae_030/checkpoints/checkpoint\n",
      " - saving loss histories at /home/rkaushik/Documents/Thesis/MLROM/Kolmogorov/saved_ae/ae_030/checkpoints/LossHistoriesCheckpoint\n",
      "1250/1250 [==============================] - 12s 10ms/step - loss: 0.0118 - mse: 0.0118 - NMSE: 0.1058 - val_loss: 0.0112 - val_mse: 0.0111 - val_NMSE: 0.1001\n",
      "Epoch 16/200\n",
      "1249/1250 [============================>.] - ETA: 0s - loss: 0.0117 - mse: 0.0116 - NMSE: 0.1047 - tot_time: 0h 3m 18.0s\n",
      "\n",
      "Epoch 16: val_NMSE improved from 0.10008 to 0.09981, saving model to /home/rkaushik/Documents/Thesis/MLROM/Kolmogorov/saved_ae/ae_030/checkpoints/checkpoint\n",
      " - saving loss histories at /home/rkaushik/Documents/Thesis/MLROM/Kolmogorov/saved_ae/ae_030/checkpoints/LossHistoriesCheckpoint\n",
      "1250/1250 [==============================] - 12s 10ms/step - loss: 0.0117 - mse: 0.0116 - NMSE: 0.1047 - val_loss: 0.0112 - val_mse: 0.0111 - val_NMSE: 0.0998\n",
      "Epoch 17/200\n",
      "1250/1250 [==============================] - ETA: 0s - loss: 0.0116 - mse: 0.0115 - NMSE: 0.1036 - tot_time: 0h 3m 30.3s\n",
      "\n",
      "Epoch 17: val_NMSE improved from 0.09981 to 0.09782, saving model to /home/rkaushik/Documents/Thesis/MLROM/Kolmogorov/saved_ae/ae_030/checkpoints/checkpoint\n",
      " - saving loss histories at /home/rkaushik/Documents/Thesis/MLROM/Kolmogorov/saved_ae/ae_030/checkpoints/LossHistoriesCheckpoint\n",
      "1250/1250 [==============================] - 12s 10ms/step - loss: 0.0116 - mse: 0.0115 - NMSE: 0.1036 - val_loss: 0.0110 - val_mse: 0.0109 - val_NMSE: 0.0978\n",
      "Epoch 18/200\n",
      "1250/1250 [==============================] - ETA: 0s - loss: 0.0115 - mse: 0.0114 - NMSE: 0.1030 - tot_time: 0h 3m 42.6s\n",
      "\n",
      "Epoch 18: val_NMSE improved from 0.09782 to 0.09664, saving model to /home/rkaushik/Documents/Thesis/MLROM/Kolmogorov/saved_ae/ae_030/checkpoints/checkpoint\n",
      " - saving loss histories at /home/rkaushik/Documents/Thesis/MLROM/Kolmogorov/saved_ae/ae_030/checkpoints/LossHistoriesCheckpoint\n",
      "1250/1250 [==============================] - 12s 10ms/step - loss: 0.0115 - mse: 0.0114 - NMSE: 0.1030 - val_loss: 0.0108 - val_mse: 0.0107 - val_NMSE: 0.0966\n",
      "Epoch 19/200\n",
      "1245/1250 [============================>.] - ETA: 0s - loss: 0.0114 - mse: 0.0113 - NMSE: 0.1021 - tot_time: 0h 3m 55.1s\n",
      "\n",
      "Epoch 19: val_NMSE did not improve from 0.09664\n",
      " - saving loss histories at /home/rkaushik/Documents/Thesis/MLROM/Kolmogorov/saved_ae/ae_030/checkpoints/LossHistoriesCheckpoint\n",
      "1250/1250 [==============================] - 12s 10ms/step - loss: 0.0115 - mse: 0.0114 - NMSE: 0.1022 - val_loss: 0.0111 - val_mse: 0.0110 - val_NMSE: 0.0987\n",
      "Epoch 20/200\n",
      "1249/1250 [============================>.] - ETA: 0s - loss: 0.0114 - mse: 0.0113 - NMSE: 0.1015 - tot_time: 0h 4m 7.5s\n",
      "\n",
      "Epoch 20: val_NMSE did not improve from 0.09664\n",
      " - saving loss histories at /home/rkaushik/Documents/Thesis/MLROM/Kolmogorov/saved_ae/ae_030/checkpoints/LossHistoriesCheckpoint\n",
      "1250/1250 [==============================] - 12s 10ms/step - loss: 0.0114 - mse: 0.0113 - NMSE: 0.1015 - val_loss: 0.0108 - val_mse: 0.0107 - val_NMSE: 0.0967\n",
      "Epoch 21/200\n",
      "1247/1250 [============================>.] - ETA: 0s - loss: 0.0113 - mse: 0.0112 - NMSE: 0.1009 - tot_time: 0h 4m 19.7s\n",
      "\n",
      "Epoch 21: val_NMSE improved from 0.09664 to 0.09593, saving model to /home/rkaushik/Documents/Thesis/MLROM/Kolmogorov/saved_ae/ae_030/checkpoints/checkpoint\n",
      " - saving loss histories at /home/rkaushik/Documents/Thesis/MLROM/Kolmogorov/saved_ae/ae_030/checkpoints/LossHistoriesCheckpoint\n",
      "1250/1250 [==============================] - 12s 10ms/step - loss: 0.0113 - mse: 0.0112 - NMSE: 0.1008 - val_loss: 0.0108 - val_mse: 0.0107 - val_NMSE: 0.0959\n",
      "Epoch 22/200\n",
      "1249/1250 [============================>.] - ETA: 0s - loss: 0.0113 - mse: 0.0112 - NMSE: 0.1004 - tot_time: 0h 4m 32.0s\n",
      "\n",
      "Epoch 22: val_NMSE improved from 0.09593 to 0.09515, saving model to /home/rkaushik/Documents/Thesis/MLROM/Kolmogorov/saved_ae/ae_030/checkpoints/checkpoint\n",
      " - saving loss histories at /home/rkaushik/Documents/Thesis/MLROM/Kolmogorov/saved_ae/ae_030/checkpoints/LossHistoriesCheckpoint\n",
      "1250/1250 [==============================] - 12s 10ms/step - loss: 0.0113 - mse: 0.0112 - NMSE: 0.1004 - val_loss: 0.0107 - val_mse: 0.0106 - val_NMSE: 0.0951\n",
      "Epoch 23/200\n",
      "1250/1250 [==============================] - ETA: 0s - loss: 0.0112 - mse: 0.0111 - NMSE: 0.0999 - tot_time: 0h 4m 44.2s\n",
      "\n",
      "Epoch 23: val_NMSE improved from 0.09515 to 0.09452, saving model to /home/rkaushik/Documents/Thesis/MLROM/Kolmogorov/saved_ae/ae_030/checkpoints/checkpoint\n",
      " - saving loss histories at /home/rkaushik/Documents/Thesis/MLROM/Kolmogorov/saved_ae/ae_030/checkpoints/LossHistoriesCheckpoint\n",
      "1250/1250 [==============================] - 12s 10ms/step - loss: 0.0112 - mse: 0.0111 - NMSE: 0.0999 - val_loss: 0.0106 - val_mse: 0.0105 - val_NMSE: 0.0945\n",
      "Epoch 24/200\n",
      "1247/1250 [============================>.] - ETA: 0s - loss: 0.0112 - mse: 0.0111 - NMSE: 0.0995 - tot_time: 0h 4m 56.5s\n",
      "\n",
      "Epoch 24: val_NMSE did not improve from 0.09452\n",
      " - saving loss histories at /home/rkaushik/Documents/Thesis/MLROM/Kolmogorov/saved_ae/ae_030/checkpoints/LossHistoriesCheckpoint\n",
      "1250/1250 [==============================] - 12s 10ms/step - loss: 0.0112 - mse: 0.0111 - NMSE: 0.0995 - val_loss: 0.0107 - val_mse: 0.0105 - val_NMSE: 0.0948\n",
      "Epoch 25/200\n",
      "1246/1250 [============================>.] - ETA: 0s - loss: 0.0111 - mse: 0.0110 - NMSE: 0.0989 - tot_time: 0h 5m 8.7s\n",
      "\n",
      "Epoch 25: val_NMSE did not improve from 0.09452\n",
      " - saving loss histories at /home/rkaushik/Documents/Thesis/MLROM/Kolmogorov/saved_ae/ae_030/checkpoints/LossHistoriesCheckpoint\n",
      "1250/1250 [==============================] - 12s 10ms/step - loss: 0.0111 - mse: 0.0110 - NMSE: 0.0990 - val_loss: 0.0106 - val_mse: 0.0105 - val_NMSE: 0.0946\n",
      "Epoch 26/200\n",
      "1249/1250 [============================>.] - ETA: 0s - loss: 0.0111 - mse: 0.0110 - NMSE: 0.0986 - tot_time: 0h 5m 20.8s\n",
      "\n",
      "Epoch 26: val_NMSE improved from 0.09452 to 0.09404, saving model to /home/rkaushik/Documents/Thesis/MLROM/Kolmogorov/saved_ae/ae_030/checkpoints/checkpoint\n",
      " - saving loss histories at /home/rkaushik/Documents/Thesis/MLROM/Kolmogorov/saved_ae/ae_030/checkpoints/LossHistoriesCheckpoint\n",
      "1250/1250 [==============================] - 12s 10ms/step - loss: 0.0111 - mse: 0.0110 - NMSE: 0.0986 - val_loss: 0.0106 - val_mse: 0.0104 - val_NMSE: 0.0940\n",
      "Epoch 27/200\n",
      "1247/1250 [============================>.] - ETA: 0s - loss: 0.0110 - mse: 0.0109 - NMSE: 0.0982 - tot_time: 0h 5m 33.0s\n",
      "\n",
      "Epoch 27: val_NMSE improved from 0.09404 to 0.09303, saving model to /home/rkaushik/Documents/Thesis/MLROM/Kolmogorov/saved_ae/ae_030/checkpoints/checkpoint\n",
      " - saving loss histories at /home/rkaushik/Documents/Thesis/MLROM/Kolmogorov/saved_ae/ae_030/checkpoints/LossHistoriesCheckpoint\n",
      "1250/1250 [==============================] - 12s 10ms/step - loss: 0.0110 - mse: 0.0109 - NMSE: 0.0982 - val_loss: 0.0105 - val_mse: 0.0103 - val_NMSE: 0.0930\n",
      "Epoch 28/200\n",
      "1250/1250 [==============================] - ETA: 0s - loss: 0.0110 - mse: 0.0109 - NMSE: 0.0978 - tot_time: 0h 5m 45.3s\n",
      "\n",
      "Epoch 28: val_NMSE improved from 0.09303 to 0.09252, saving model to /home/rkaushik/Documents/Thesis/MLROM/Kolmogorov/saved_ae/ae_030/checkpoints/checkpoint\n",
      " - saving loss histories at /home/rkaushik/Documents/Thesis/MLROM/Kolmogorov/saved_ae/ae_030/checkpoints/LossHistoriesCheckpoint\n",
      "1250/1250 [==============================] - 12s 10ms/step - loss: 0.0110 - mse: 0.0109 - NMSE: 0.0978 - val_loss: 0.0104 - val_mse: 0.0103 - val_NMSE: 0.0925\n",
      "Epoch 29/200\n",
      "1250/1250 [==============================] - ETA: 0s - loss: 0.0110 - mse: 0.0109 - NMSE: 0.0977 - tot_time: 0h 5m 57.5s\n",
      "\n",
      "Epoch 29: val_NMSE did not improve from 0.09252\n",
      " - saving loss histories at /home/rkaushik/Documents/Thesis/MLROM/Kolmogorov/saved_ae/ae_030/checkpoints/LossHistoriesCheckpoint\n",
      "1250/1250 [==============================] - 12s 10ms/step - loss: 0.0110 - mse: 0.0109 - NMSE: 0.0977 - val_loss: 0.0105 - val_mse: 0.0103 - val_NMSE: 0.0929\n",
      "Epoch 30/200\n"
     ]
    },
    {
     "name": "stdout",
     "output_type": "stream",
     "text": [
      "1250/1250 [==============================] - ETA: 0s - loss: 0.0109 - mse: 0.0108 - NMSE: 0.0973 - tot_time: 0h 6m 9.8s\n",
      "\n",
      "Epoch 30: val_NMSE improved from 0.09252 to 0.09200, saving model to /home/rkaushik/Documents/Thesis/MLROM/Kolmogorov/saved_ae/ae_030/checkpoints/checkpoint\n",
      " - saving loss histories at /home/rkaushik/Documents/Thesis/MLROM/Kolmogorov/saved_ae/ae_030/checkpoints/LossHistoriesCheckpoint\n",
      "1250/1250 [==============================] - 12s 10ms/step - loss: 0.0109 - mse: 0.0108 - NMSE: 0.0973 - val_loss: 0.0104 - val_mse: 0.0102 - val_NMSE: 0.0920\n",
      "Epoch 31/200\n",
      "1246/1250 [============================>.] - ETA: 0s - loss: 0.0109 - mse: 0.0108 - NMSE: 0.0968 - tot_time: 0h 6m 21.9s\n",
      "\n",
      "Epoch 31: val_NMSE did not improve from 0.09200\n",
      " - saving loss histories at /home/rkaushik/Documents/Thesis/MLROM/Kolmogorov/saved_ae/ae_030/checkpoints/LossHistoriesCheckpoint\n",
      "1250/1250 [==============================] - 12s 10ms/step - loss: 0.0109 - mse: 0.0108 - NMSE: 0.0968 - val_loss: 0.0105 - val_mse: 0.0104 - val_NMSE: 0.0933\n",
      "Epoch 32/200\n",
      "1250/1250 [==============================] - ETA: 0s - loss: 0.0109 - mse: 0.0107 - NMSE: 0.0967 - tot_time: 0h 6m 34.2s\n",
      "\n",
      "Epoch 32: val_NMSE improved from 0.09200 to 0.09156, saving model to /home/rkaushik/Documents/Thesis/MLROM/Kolmogorov/saved_ae/ae_030/checkpoints/checkpoint\n",
      " - saving loss histories at /home/rkaushik/Documents/Thesis/MLROM/Kolmogorov/saved_ae/ae_030/checkpoints/LossHistoriesCheckpoint\n",
      "1250/1250 [==============================] - 12s 10ms/step - loss: 0.0109 - mse: 0.0107 - NMSE: 0.0967 - val_loss: 0.0103 - val_mse: 0.0102 - val_NMSE: 0.0916\n",
      "Epoch 33/200\n",
      "1247/1250 [============================>.] - ETA: 0s - loss: 0.0109 - mse: 0.0107 - NMSE: 0.0965 - tot_time: 0h 6m 46.5s\n",
      "\n",
      "Epoch 33: val_NMSE improved from 0.09156 to 0.09102, saving model to /home/rkaushik/Documents/Thesis/MLROM/Kolmogorov/saved_ae/ae_030/checkpoints/checkpoint\n",
      " - saving loss histories at /home/rkaushik/Documents/Thesis/MLROM/Kolmogorov/saved_ae/ae_030/checkpoints/LossHistoriesCheckpoint\n",
      "1250/1250 [==============================] - 12s 10ms/step - loss: 0.0109 - mse: 0.0107 - NMSE: 0.0965 - val_loss: 0.0103 - val_mse: 0.0101 - val_NMSE: 0.0910\n",
      "Epoch 34/200\n",
      "1247/1250 [============================>.] - ETA: 0s - loss: 0.0108 - mse: 0.0107 - NMSE: 0.0961 - tot_time: 0h 6m 58.7s\n",
      "\n",
      "Epoch 34: val_NMSE did not improve from 0.09102\n",
      " - saving loss histories at /home/rkaushik/Documents/Thesis/MLROM/Kolmogorov/saved_ae/ae_030/checkpoints/LossHistoriesCheckpoint\n",
      "1250/1250 [==============================] - 12s 10ms/step - loss: 0.0108 - mse: 0.0107 - NMSE: 0.0961 - val_loss: 0.0103 - val_mse: 0.0101 - val_NMSE: 0.0910\n",
      "Epoch 35/200\n",
      "1250/1250 [==============================] - ETA: 0s - loss: 0.0108 - mse: 0.0107 - NMSE: 0.0960 - tot_time: 0h 7m 11.0s\n",
      "\n",
      "Epoch 35: val_NMSE did not improve from 0.09102\n",
      " - saving loss histories at /home/rkaushik/Documents/Thesis/MLROM/Kolmogorov/saved_ae/ae_030/checkpoints/LossHistoriesCheckpoint\n",
      "1250/1250 [==============================] - 12s 10ms/step - loss: 0.0108 - mse: 0.0107 - NMSE: 0.0960 - val_loss: 0.0105 - val_mse: 0.0103 - val_NMSE: 0.0930\n",
      "Epoch 36/200\n",
      "1248/1250 [============================>.] - ETA: 0s - loss: 0.0108 - mse: 0.0107 - NMSE: 0.0959 - tot_time: 0h 7m 23.1s\n",
      "\n",
      "Epoch 36: val_NMSE improved from 0.09102 to 0.08950, saving model to /home/rkaushik/Documents/Thesis/MLROM/Kolmogorov/saved_ae/ae_030/checkpoints/checkpoint\n",
      " - saving loss histories at /home/rkaushik/Documents/Thesis/MLROM/Kolmogorov/saved_ae/ae_030/checkpoints/LossHistoriesCheckpoint\n",
      "1250/1250 [==============================] - 12s 10ms/step - loss: 0.0108 - mse: 0.0107 - NMSE: 0.0959 - val_loss: 0.0101 - val_mse: 0.0099 - val_NMSE: 0.0895\n",
      "Epoch 37/200\n",
      "1247/1250 [============================>.] - ETA: 0s - loss: 0.0107 - mse: 0.0106 - NMSE: 0.0954 - tot_time: 0h 7m 35.2s\n",
      "\n",
      "Epoch 37: val_NMSE did not improve from 0.08950\n",
      " - saving loss histories at /home/rkaushik/Documents/Thesis/MLROM/Kolmogorov/saved_ae/ae_030/checkpoints/LossHistoriesCheckpoint\n",
      "1250/1250 [==============================] - 12s 10ms/step - loss: 0.0108 - mse: 0.0106 - NMSE: 0.0954 - val_loss: 0.0101 - val_mse: 0.0100 - val_NMSE: 0.0899\n",
      "Epoch 38/200\n",
      "1246/1250 [============================>.] - ETA: 0s - loss: 0.0107 - mse: 0.0106 - NMSE: 0.0954 - tot_time: 0h 7m 47.4s\n",
      "\n",
      "Epoch 38: val_NMSE did not improve from 0.08950\n",
      " - saving loss histories at /home/rkaushik/Documents/Thesis/MLROM/Kolmogorov/saved_ae/ae_030/checkpoints/LossHistoriesCheckpoint\n",
      "1250/1250 [==============================] - 12s 10ms/step - loss: 0.0107 - mse: 0.0106 - NMSE: 0.0954 - val_loss: 0.0102 - val_mse: 0.0100 - val_NMSE: 0.0901\n",
      "Epoch 39/200\n",
      "1248/1250 [============================>.] - ETA: 0s - loss: 0.0107 - mse: 0.0106 - NMSE: 0.0952 - tot_time: 0h 7m 59.5s\n",
      "\n",
      "Epoch 39: val_NMSE improved from 0.08950 to 0.08908, saving model to /home/rkaushik/Documents/Thesis/MLROM/Kolmogorov/saved_ae/ae_030/checkpoints/checkpoint\n",
      " - saving loss histories at /home/rkaushik/Documents/Thesis/MLROM/Kolmogorov/saved_ae/ae_030/checkpoints/LossHistoriesCheckpoint\n",
      "1250/1250 [==============================] - 12s 10ms/step - loss: 0.0107 - mse: 0.0106 - NMSE: 0.0952 - val_loss: 0.0101 - val_mse: 0.0099 - val_NMSE: 0.0891\n",
      "Epoch 40/200\n",
      "1250/1250 [==============================] - ETA: 0s - loss: 0.0107 - mse: 0.0105 - NMSE: 0.0949 - tot_time: 0h 8m 11.9s\n",
      "\n",
      "Epoch 40: val_NMSE did not improve from 0.08908\n",
      " - saving loss histories at /home/rkaushik/Documents/Thesis/MLROM/Kolmogorov/saved_ae/ae_030/checkpoints/LossHistoriesCheckpoint\n",
      "1250/1250 [==============================] - 12s 10ms/step - loss: 0.0107 - mse: 0.0105 - NMSE: 0.0949 - val_loss: 0.0101 - val_mse: 0.0099 - val_NMSE: 0.0895\n",
      "Epoch 41/200\n",
      "1247/1250 [============================>.] - ETA: 0s - loss: 0.0107 - mse: 0.0105 - NMSE: 0.0947 - tot_time: 0h 8m 24.1s\n",
      "\n",
      "Epoch 41: val_NMSE improved from 0.08908 to 0.08907, saving model to /home/rkaushik/Documents/Thesis/MLROM/Kolmogorov/saved_ae/ae_030/checkpoints/checkpoint\n",
      " - saving loss histories at /home/rkaushik/Documents/Thesis/MLROM/Kolmogorov/saved_ae/ae_030/checkpoints/LossHistoriesCheckpoint\n",
      "1250/1250 [==============================] - 12s 10ms/step - loss: 0.0107 - mse: 0.0105 - NMSE: 0.0947 - val_loss: 0.0101 - val_mse: 0.0099 - val_NMSE: 0.0891\n",
      "Epoch 42/200\n",
      "1247/1250 [============================>.] - ETA: 0s - loss: 0.0107 - mse: 0.0105 - NMSE: 0.0947 - tot_time: 0h 8m 36.2s\n",
      "\n",
      "Epoch 42: val_NMSE improved from 0.08907 to 0.08808, saving model to /home/rkaushik/Documents/Thesis/MLROM/Kolmogorov/saved_ae/ae_030/checkpoints/checkpoint\n",
      " - saving loss histories at /home/rkaushik/Documents/Thesis/MLROM/Kolmogorov/saved_ae/ae_030/checkpoints/LossHistoriesCheckpoint\n",
      "1250/1250 [==============================] - 12s 10ms/step - loss: 0.0107 - mse: 0.0105 - NMSE: 0.0947 - val_loss: 0.0099 - val_mse: 0.0098 - val_NMSE: 0.0881\n",
      "Epoch 43/200\n",
      "1247/1250 [============================>.] - ETA: 0s - loss: 0.0107 - mse: 0.0105 - NMSE: 0.0944 - tot_time: 0h 8m 48.3s\n",
      "\n",
      "Epoch 43: val_NMSE did not improve from 0.08808\n",
      " - saving loss histories at /home/rkaushik/Documents/Thesis/MLROM/Kolmogorov/saved_ae/ae_030/checkpoints/LossHistoriesCheckpoint\n",
      "1250/1250 [==============================] - 12s 10ms/step - loss: 0.0107 - mse: 0.0105 - NMSE: 0.0944 - val_loss: 0.0101 - val_mse: 0.0099 - val_NMSE: 0.0894\n",
      "Epoch 44/200\n",
      "1247/1250 [============================>.] - ETA: 0s - loss: 0.0106 - mse: 0.0105 - NMSE: 0.0942 - tot_time: 0h 9m 0.6s\n",
      "\n",
      "Epoch 44: val_NMSE did not improve from 0.08808\n",
      " - saving loss histories at /home/rkaushik/Documents/Thesis/MLROM/Kolmogorov/saved_ae/ae_030/checkpoints/LossHistoriesCheckpoint\n",
      "1250/1250 [==============================] - 12s 10ms/step - loss: 0.0106 - mse: 0.0105 - NMSE: 0.0942 - val_loss: 0.0100 - val_mse: 0.0099 - val_NMSE: 0.0888\n",
      "Epoch 45/200\n",
      "1249/1250 [============================>.] - ETA: 0s - loss: 0.0106 - mse: 0.0105 - NMSE: 0.0941 - tot_time: 0h 9m 12.8s\n",
      "\n",
      "Epoch 45: val_NMSE did not improve from 0.08808\n",
      " - saving loss histories at /home/rkaushik/Documents/Thesis/MLROM/Kolmogorov/saved_ae/ae_030/checkpoints/LossHistoriesCheckpoint\n",
      "1250/1250 [==============================] - 12s 10ms/step - loss: 0.0106 - mse: 0.0105 - NMSE: 0.0941 - val_loss: 0.0101 - val_mse: 0.0100 - val_NMSE: 0.0898\n"
     ]
    },
    {
     "name": "stdout",
     "output_type": "stream",
     "text": [
      "Epoch 46/200\n",
      "1249/1250 [============================>.] - ETA: 0s - loss: 0.0106 - mse: 0.0104 - NMSE: 0.0939 - tot_time: 0h 9m 25.1s\n",
      "\n",
      "Epoch 46: val_NMSE did not improve from 0.08808\n",
      " - saving loss histories at /home/rkaushik/Documents/Thesis/MLROM/Kolmogorov/saved_ae/ae_030/checkpoints/LossHistoriesCheckpoint\n",
      "1250/1250 [==============================] - 12s 10ms/step - loss: 0.0106 - mse: 0.0104 - NMSE: 0.0940 - val_loss: 0.0100 - val_mse: 0.0099 - val_NMSE: 0.0887\n",
      "Epoch 47/200\n",
      "1246/1250 [============================>.] - ETA: 0s - loss: 0.0106 - mse: 0.0104 - NMSE: 0.0938 - tot_time: 0h 9m 37.2s\n",
      "\n",
      "Epoch 47: val_NMSE did not improve from 0.08808\n",
      " - saving loss histories at /home/rkaushik/Documents/Thesis/MLROM/Kolmogorov/saved_ae/ae_030/checkpoints/LossHistoriesCheckpoint\n",
      "1250/1250 [==============================] - 12s 10ms/step - loss: 0.0106 - mse: 0.0104 - NMSE: 0.0939 - val_loss: 0.0100 - val_mse: 0.0098 - val_NMSE: 0.0886\n",
      "Epoch 48/200\n",
      "1248/1250 [============================>.] - ETA: 0s - loss: 0.0106 - mse: 0.0104 - NMSE: 0.0937 - tot_time: 0h 9m 49.5s\n",
      "\n",
      "Epoch 48: val_NMSE did not improve from 0.08808\n",
      " - saving loss histories at /home/rkaushik/Documents/Thesis/MLROM/Kolmogorov/saved_ae/ae_030/checkpoints/LossHistoriesCheckpoint\n",
      "1250/1250 [==============================] - 12s 10ms/step - loss: 0.0106 - mse: 0.0104 - NMSE: 0.0937 - val_loss: 0.0100 - val_mse: 0.0098 - val_NMSE: 0.0885\n",
      "Epoch 49/200\n",
      "1250/1250 [==============================] - ETA: 0s - loss: 0.0106 - mse: 0.0104 - NMSE: 0.0935 - tot_time: 0h 10m 1.8s\n",
      "\n",
      "Epoch 49: val_NMSE did not improve from 0.08808\n",
      " - saving loss histories at /home/rkaushik/Documents/Thesis/MLROM/Kolmogorov/saved_ae/ae_030/checkpoints/LossHistoriesCheckpoint\n",
      "1250/1250 [==============================] - 12s 10ms/step - loss: 0.0106 - mse: 0.0104 - NMSE: 0.0935 - val_loss: 0.0101 - val_mse: 0.0100 - val_NMSE: 0.0898\n",
      "Epoch 50/200\n",
      "1248/1250 [============================>.] - ETA: 0s - loss: 0.0106 - mse: 0.0104 - NMSE: 0.0936 - tot_time: 0h 10m 13.9s\n",
      "\n",
      "Epoch 50: val_NMSE did not improve from 0.08808\n",
      " - saving loss histories at /home/rkaushik/Documents/Thesis/MLROM/Kolmogorov/saved_ae/ae_030/checkpoints/LossHistoriesCheckpoint\n",
      "1250/1250 [==============================] - 12s 10ms/step - loss: 0.0106 - mse: 0.0104 - NMSE: 0.0936 - val_loss: 0.0100 - val_mse: 0.0098 - val_NMSE: 0.0882\n",
      "Epoch 51/200\n",
      "1248/1250 [============================>.] - ETA: 0s - loss: 0.0105 - mse: 0.0104 - NMSE: 0.0932 - tot_time: 0h 10m 26.0s\n",
      "\n",
      "Epoch 51: val_NMSE did not improve from 0.08808\n",
      " - saving loss histories at /home/rkaushik/Documents/Thesis/MLROM/Kolmogorov/saved_ae/ae_030/checkpoints/LossHistoriesCheckpoint\n",
      "1250/1250 [==============================] - 12s 10ms/step - loss: 0.0105 - mse: 0.0104 - NMSE: 0.0932 - val_loss: 0.0101 - val_mse: 0.0100 - val_NMSE: 0.0896\n",
      "Epoch 52/200\n",
      "1246/1250 [============================>.] - ETA: 0s - loss: 0.0105 - mse: 0.0103 - NMSE: 0.0931 - tot_time: 0h 10m 38.1s\n",
      "\n",
      "Epoch 52: val_NMSE improved from 0.08808 to 0.08806, saving model to /home/rkaushik/Documents/Thesis/MLROM/Kolmogorov/saved_ae/ae_030/checkpoints/checkpoint\n",
      " - saving loss histories at /home/rkaushik/Documents/Thesis/MLROM/Kolmogorov/saved_ae/ae_030/checkpoints/LossHistoriesCheckpoint\n",
      "1250/1250 [==============================] - 12s 10ms/step - loss: 0.0105 - mse: 0.0103 - NMSE: 0.0931 - val_loss: 0.0100 - val_mse: 0.0098 - val_NMSE: 0.0881\n",
      "Epoch 53/200\n",
      "1248/1250 [============================>.] - ETA: 0s - loss: 0.0105 - mse: 0.0103 - NMSE: 0.0931 - tot_time: 0h 10m 50.2s\n",
      "\n",
      "Epoch 53: val_NMSE did not improve from 0.08806\n",
      " - saving loss histories at /home/rkaushik/Documents/Thesis/MLROM/Kolmogorov/saved_ae/ae_030/checkpoints/LossHistoriesCheckpoint\n",
      "1250/1250 [==============================] - 12s 10ms/step - loss: 0.0105 - mse: 0.0103 - NMSE: 0.0931 - val_loss: 0.0100 - val_mse: 0.0098 - val_NMSE: 0.0881\n",
      "Epoch 54/200\n",
      "1246/1250 [============================>.] - ETA: 0s - loss: 0.0105 - mse: 0.0103 - NMSE: 0.0929 - tot_time: 0h 11m 2.7s\n",
      "\n",
      "Epoch 54: val_NMSE improved from 0.08806 to 0.08722, saving model to /home/rkaushik/Documents/Thesis/MLROM/Kolmogorov/saved_ae/ae_030/checkpoints/checkpoint\n",
      " - saving loss histories at /home/rkaushik/Documents/Thesis/MLROM/Kolmogorov/saved_ae/ae_030/checkpoints/LossHistoriesCheckpoint\n",
      "1250/1250 [==============================] - 13s 10ms/step - loss: 0.0105 - mse: 0.0103 - NMSE: 0.0929 - val_loss: 0.0099 - val_mse: 0.0097 - val_NMSE: 0.0872\n",
      "Epoch 55/200\n",
      "1250/1250 [==============================] - ETA: 0s - loss: 0.0105 - mse: 0.0103 - NMSE: 0.0928 - tot_time: 0h 11m 15.4s\n",
      "\n",
      "Epoch 55: val_NMSE did not improve from 0.08722\n",
      " - saving loss histories at /home/rkaushik/Documents/Thesis/MLROM/Kolmogorov/saved_ae/ae_030/checkpoints/LossHistoriesCheckpoint\n",
      "1250/1250 [==============================] - 13s 10ms/step - loss: 0.0105 - mse: 0.0103 - NMSE: 0.0928 - val_loss: 0.0100 - val_mse: 0.0098 - val_NMSE: 0.0883\n",
      "Epoch 56/200\n",
      "1250/1250 [==============================] - ETA: 0s - loss: 0.0105 - mse: 0.0103 - NMSE: 0.0926 - tot_time: 0h 11m 27.5s\n",
      "\n",
      "Epoch 56: val_NMSE did not improve from 0.08722\n",
      " - saving loss histories at /home/rkaushik/Documents/Thesis/MLROM/Kolmogorov/saved_ae/ae_030/checkpoints/LossHistoriesCheckpoint\n",
      "1250/1250 [==============================] - 12s 10ms/step - loss: 0.0105 - mse: 0.0103 - NMSE: 0.0926 - val_loss: 0.0100 - val_mse: 0.0098 - val_NMSE: 0.0885\n",
      "Epoch 57/200\n",
      "1246/1250 [============================>.] - ETA: 0s - loss: 0.0105 - mse: 0.0103 - NMSE: 0.0928 - tot_time: 0h 11m 39.6s\n",
      "\n",
      "Epoch 57: val_NMSE did not improve from 0.08722\n",
      " - saving loss histories at /home/rkaushik/Documents/Thesis/MLROM/Kolmogorov/saved_ae/ae_030/checkpoints/LossHistoriesCheckpoint\n",
      "1250/1250 [==============================] - 12s 10ms/step - loss: 0.0105 - mse: 0.0103 - NMSE: 0.0928 - val_loss: 0.0100 - val_mse: 0.0098 - val_NMSE: 0.0882\n",
      "Epoch 58/200\n",
      "1245/1250 [============================>.] - ETA: 0s - loss: 0.0105 - mse: 0.0103 - NMSE: 0.0926 - tot_time: 0h 11m 51.8s\n",
      "\n",
      "Epoch 58: val_NMSE improved from 0.08722 to 0.08692, saving model to /home/rkaushik/Documents/Thesis/MLROM/Kolmogorov/saved_ae/ae_030/checkpoints/checkpoint\n",
      " - saving loss histories at /home/rkaushik/Documents/Thesis/MLROM/Kolmogorov/saved_ae/ae_030/checkpoints/LossHistoriesCheckpoint\n",
      "1250/1250 [==============================] - 12s 10ms/step - loss: 0.0105 - mse: 0.0103 - NMSE: 0.0926 - val_loss: 0.0098 - val_mse: 0.0097 - val_NMSE: 0.0869\n",
      "Epoch 59/200\n",
      "1245/1250 [============================>.] - ETA: 0s - loss: 0.0104 - mse: 0.0103 - NMSE: 0.0923 - tot_time: 0h 12m 4.1s\n",
      "\n",
      "Epoch 59: val_NMSE improved from 0.08692 to 0.08665, saving model to /home/rkaushik/Documents/Thesis/MLROM/Kolmogorov/saved_ae/ae_030/checkpoints/checkpoint\n",
      " - saving loss histories at /home/rkaushik/Documents/Thesis/MLROM/Kolmogorov/saved_ae/ae_030/checkpoints/LossHistoriesCheckpoint\n",
      "1250/1250 [==============================] - 12s 10ms/step - loss: 0.0105 - mse: 0.0103 - NMSE: 0.0924 - val_loss: 0.0098 - val_mse: 0.0096 - val_NMSE: 0.0866\n",
      "Epoch 60/200\n",
      "1250/1250 [==============================] - ETA: 0s - loss: 0.0104 - mse: 0.0102 - NMSE: 0.0922 - tot_time: 0h 12m 16.0s\n",
      "\n",
      "Epoch 60: val_NMSE did not improve from 0.08665\n",
      " - saving loss histories at /home/rkaushik/Documents/Thesis/MLROM/Kolmogorov/saved_ae/ae_030/checkpoints/LossHistoriesCheckpoint\n",
      "1250/1250 [==============================] - 12s 9ms/step - loss: 0.0104 - mse: 0.0102 - NMSE: 0.0922 - val_loss: 0.0100 - val_mse: 0.0099 - val_NMSE: 0.0887\n",
      "Epoch 61/200\n",
      "1248/1250 [============================>.] - ETA: 0s - loss: 0.0104 - mse: 0.0103 - NMSE: 0.0923 - tot_time: 0h 12m 28.2s\n",
      "\n",
      "Epoch 61: val_NMSE did not improve from 0.08665\n",
      " - saving loss histories at /home/rkaushik/Documents/Thesis/MLROM/Kolmogorov/saved_ae/ae_030/checkpoints/LossHistoriesCheckpoint\n",
      "1250/1250 [==============================] - 12s 10ms/step - loss: 0.0104 - mse: 0.0103 - NMSE: 0.0923 - val_loss: 0.0099 - val_mse: 0.0097 - val_NMSE: 0.0869\n",
      "Epoch 62/200\n",
      "1248/1250 [============================>.] - ETA: 0s - loss: 0.0104 - mse: 0.0102 - NMSE: 0.0922 - tot_time: 0h 12m 40.4s\n",
      "\n",
      "Epoch 62: val_NMSE improved from 0.08665 to 0.08659, saving model to /home/rkaushik/Documents/Thesis/MLROM/Kolmogorov/saved_ae/ae_030/checkpoints/checkpoint\n"
     ]
    },
    {
     "name": "stdout",
     "output_type": "stream",
     "text": [
      " - saving loss histories at /home/rkaushik/Documents/Thesis/MLROM/Kolmogorov/saved_ae/ae_030/checkpoints/LossHistoriesCheckpoint\n",
      "1250/1250 [==============================] - 12s 10ms/step - loss: 0.0104 - mse: 0.0102 - NMSE: 0.0922 - val_loss: 0.0098 - val_mse: 0.0096 - val_NMSE: 0.0866\n",
      "Epoch 63/200\n",
      "1246/1250 [============================>.] - ETA: 0s - loss: 0.0104 - mse: 0.0102 - NMSE: 0.0921 - tot_time: 0h 12m 52.5s\n",
      "\n",
      "Epoch 63: val_NMSE did not improve from 0.08659\n",
      " - saving loss histories at /home/rkaushik/Documents/Thesis/MLROM/Kolmogorov/saved_ae/ae_030/checkpoints/LossHistoriesCheckpoint\n",
      "1250/1250 [==============================] - 12s 10ms/step - loss: 0.0104 - mse: 0.0102 - NMSE: 0.0921 - val_loss: 0.0099 - val_mse: 0.0098 - val_NMSE: 0.0878\n",
      "Epoch 64/200\n",
      "1246/1250 [============================>.] - ETA: 0s - loss: 0.0104 - mse: 0.0102 - NMSE: 0.0920 - tot_time: 0h 13m 4.8s\n",
      "\n",
      "Epoch 64: val_NMSE did not improve from 0.08659\n",
      " - saving loss histories at /home/rkaushik/Documents/Thesis/MLROM/Kolmogorov/saved_ae/ae_030/checkpoints/LossHistoriesCheckpoint\n",
      "1250/1250 [==============================] - 12s 10ms/step - loss: 0.0104 - mse: 0.0102 - NMSE: 0.0920 - val_loss: 0.0099 - val_mse: 0.0097 - val_NMSE: 0.0873\n",
      "Epoch 65/200\n",
      "1249/1250 [============================>.] - ETA: 0s - loss: 0.0104 - mse: 0.0102 - NMSE: 0.0919 - tot_time: 0h 13m 16.8s\n",
      "\n",
      "Epoch 65: val_NMSE did not improve from 0.08659\n",
      " - saving loss histories at /home/rkaushik/Documents/Thesis/MLROM/Kolmogorov/saved_ae/ae_030/checkpoints/LossHistoriesCheckpoint\n",
      "1250/1250 [==============================] - 12s 10ms/step - loss: 0.0104 - mse: 0.0102 - NMSE: 0.0919 - val_loss: 0.0099 - val_mse: 0.0097 - val_NMSE: 0.0877\n",
      "Epoch 66/200\n",
      "1248/1250 [============================>.] - ETA: 0s - loss: 0.0104 - mse: 0.0102 - NMSE: 0.0920 - tot_time: 0h 13m 28.9s\n",
      "\n",
      "Epoch 66: val_NMSE improved from 0.08659 to 0.08599, saving model to /home/rkaushik/Documents/Thesis/MLROM/Kolmogorov/saved_ae/ae_030/checkpoints/checkpoint\n",
      " - saving loss histories at /home/rkaushik/Documents/Thesis/MLROM/Kolmogorov/saved_ae/ae_030/checkpoints/LossHistoriesCheckpoint\n",
      "1250/1250 [==============================] - 12s 10ms/step - loss: 0.0104 - mse: 0.0102 - NMSE: 0.0920 - val_loss: 0.0098 - val_mse: 0.0096 - val_NMSE: 0.0860\n",
      "Epoch 67/200\n",
      "1249/1250 [============================>.] - ETA: 0s - loss: 0.0104 - mse: 0.0102 - NMSE: 0.0918 - tot_time: 0h 13m 41.1s\n",
      "\n",
      "Epoch 67: val_NMSE did not improve from 0.08599\n",
      " - saving loss histories at /home/rkaushik/Documents/Thesis/MLROM/Kolmogorov/saved_ae/ae_030/checkpoints/LossHistoriesCheckpoint\n",
      "1250/1250 [==============================] - 12s 10ms/step - loss: 0.0104 - mse: 0.0102 - NMSE: 0.0918 - val_loss: 0.0099 - val_mse: 0.0097 - val_NMSE: 0.0876\n",
      "Epoch 68/200\n",
      "1247/1250 [============================>.] - ETA: 0s - loss: 0.0104 - mse: 0.0102 - NMSE: 0.0919 - tot_time: 0h 13m 53.2s\n",
      "\n",
      "Epoch 68: val_NMSE did not improve from 0.08599\n",
      " - saving loss histories at /home/rkaushik/Documents/Thesis/MLROM/Kolmogorov/saved_ae/ae_030/checkpoints/LossHistoriesCheckpoint\n",
      "1250/1250 [==============================] - 12s 10ms/step - loss: 0.0104 - mse: 0.0102 - NMSE: 0.0919 - val_loss: 0.0098 - val_mse: 0.0096 - val_NMSE: 0.0864\n",
      "Epoch 69/200\n",
      "1250/1250 [==============================] - ETA: 0s - loss: 0.0104 - mse: 0.0102 - NMSE: 0.0916 - tot_time: 0h 14m 5.2s\n",
      "\n",
      "Epoch 69: val_NMSE did not improve from 0.08599\n",
      " - saving loss histories at /home/rkaushik/Documents/Thesis/MLROM/Kolmogorov/saved_ae/ae_030/checkpoints/LossHistoriesCheckpoint\n",
      "1250/1250 [==============================] - 12s 10ms/step - loss: 0.0104 - mse: 0.0102 - NMSE: 0.0916 - val_loss: 0.0098 - val_mse: 0.0096 - val_NMSE: 0.0862\n",
      "Epoch 70/200\n",
      "1245/1250 [============================>.] - ETA: 0s - loss: 0.0104 - mse: 0.0102 - NMSE: 0.0917 - tot_time: 0h 14m 17.2s\n",
      "\n",
      "Epoch 70: val_NMSE improved from 0.08599 to 0.08564, saving model to /home/rkaushik/Documents/Thesis/MLROM/Kolmogorov/saved_ae/ae_030/checkpoints/checkpoint\n",
      " - saving loss histories at /home/rkaushik/Documents/Thesis/MLROM/Kolmogorov/saved_ae/ae_030/checkpoints/LossHistoriesCheckpoint\n",
      "1250/1250 [==============================] - 12s 10ms/step - loss: 0.0104 - mse: 0.0102 - NMSE: 0.0917 - val_loss: 0.0097 - val_mse: 0.0095 - val_NMSE: 0.0856\n",
      "Epoch 71/200\n",
      "1246/1250 [============================>.] - ETA: 0s - loss: 0.0104 - mse: 0.0102 - NMSE: 0.0917 - tot_time: 0h 14m 29.5s\n",
      "\n",
      "Epoch 71: val_NMSE did not improve from 0.08564\n",
      " - saving loss histories at /home/rkaushik/Documents/Thesis/MLROM/Kolmogorov/saved_ae/ae_030/checkpoints/LossHistoriesCheckpoint\n",
      "1250/1250 [==============================] - 12s 10ms/step - loss: 0.0104 - mse: 0.0102 - NMSE: 0.0917 - val_loss: 0.0098 - val_mse: 0.0096 - val_NMSE: 0.0865\n",
      "Epoch 72/200\n",
      "1245/1250 [============================>.] - ETA: 0s - loss: 0.0104 - mse: 0.0102 - NMSE: 0.0914 - tot_time: 0h 14m 41.7s\n",
      "\n",
      "Epoch 72: val_NMSE did not improve from 0.08564\n",
      " - saving loss histories at /home/rkaushik/Documents/Thesis/MLROM/Kolmogorov/saved_ae/ae_030/checkpoints/LossHistoriesCheckpoint\n",
      "1250/1250 [==============================] - 12s 10ms/step - loss: 0.0104 - mse: 0.0102 - NMSE: 0.0915 - val_loss: 0.0098 - val_mse: 0.0096 - val_NMSE: 0.0866\n",
      "Epoch 73/200\n",
      "1247/1250 [============================>.] - ETA: 0s - loss: 0.0104 - mse: 0.0102 - NMSE: 0.0914 - tot_time: 0h 14m 53.6s\n",
      "\n",
      "Epoch 73: val_NMSE did not improve from 0.08564\n",
      " - saving loss histories at /home/rkaushik/Documents/Thesis/MLROM/Kolmogorov/saved_ae/ae_030/checkpoints/LossHistoriesCheckpoint\n",
      "1250/1250 [==============================] - 12s 10ms/step - loss: 0.0104 - mse: 0.0102 - NMSE: 0.0914 - val_loss: 0.0097 - val_mse: 0.0095 - val_NMSE: 0.0857\n",
      "Epoch 74/200\n",
      "1248/1250 [============================>.] - ETA: 0s - loss: 0.0103 - mse: 0.0101 - NMSE: 0.0912 - tot_time: 0h 15m 5.7s\n",
      "\n",
      "Epoch 74: val_NMSE did not improve from 0.08564\n",
      " - saving loss histories at /home/rkaushik/Documents/Thesis/MLROM/Kolmogorov/saved_ae/ae_030/checkpoints/LossHistoriesCheckpoint\n",
      "1250/1250 [==============================] - 12s 10ms/step - loss: 0.0103 - mse: 0.0101 - NMSE: 0.0912 - val_loss: 0.0098 - val_mse: 0.0096 - val_NMSE: 0.0868\n",
      "Epoch 75/200\n",
      "1245/1250 [============================>.] - ETA: 0s - loss: 0.0103 - mse: 0.0101 - NMSE: 0.0911 - tot_time: 0h 15m 17.7s\n",
      "\n",
      "Epoch 75: val_NMSE did not improve from 0.08564\n",
      " - saving loss histories at /home/rkaushik/Documents/Thesis/MLROM/Kolmogorov/saved_ae/ae_030/checkpoints/LossHistoriesCheckpoint\n",
      "1250/1250 [==============================] - 12s 10ms/step - loss: 0.0103 - mse: 0.0101 - NMSE: 0.0911 - val_loss: 0.0099 - val_mse: 0.0097 - val_NMSE: 0.0869\n",
      "Epoch 76/200\n",
      "1247/1250 [============================>.] - ETA: 0s - loss: 0.0103 - mse: 0.0101 - NMSE: 0.0912 - tot_time: 0h 15m 29.8s\n",
      "\n",
      "Epoch 76: val_NMSE did not improve from 0.08564\n",
      " - saving loss histories at /home/rkaushik/Documents/Thesis/MLROM/Kolmogorov/saved_ae/ae_030/checkpoints/LossHistoriesCheckpoint\n",
      "1250/1250 [==============================] - 12s 10ms/step - loss: 0.0103 - mse: 0.0101 - NMSE: 0.0912 - val_loss: 0.0100 - val_mse: 0.0098 - val_NMSE: 0.0880\n",
      "Epoch 77/200\n",
      "1248/1250 [============================>.] - ETA: 0s - loss: 0.0104 - mse: 0.0102 - NMSE: 0.0914 - tot_time: 0h 15m 41.9s\n",
      "\n",
      "Epoch 77: val_NMSE improved from 0.08564 to 0.08548, saving model to /home/rkaushik/Documents/Thesis/MLROM/Kolmogorov/saved_ae/ae_030/checkpoints/checkpoint\n",
      " - saving loss histories at /home/rkaushik/Documents/Thesis/MLROM/Kolmogorov/saved_ae/ae_030/checkpoints/LossHistoriesCheckpoint\n",
      "1250/1250 [==============================] - 12s 10ms/step - loss: 0.0104 - mse: 0.0102 - NMSE: 0.0914 - val_loss: 0.0097 - val_mse: 0.0095 - val_NMSE: 0.0855\n",
      "Epoch 78/200\n",
      "1249/1250 [============================>.] - ETA: 0s - loss: 0.0103 - mse: 0.0101 - NMSE: 0.0910 - tot_time: 0h 15m 54.1s\n",
      "\n",
      "Epoch 78: val_NMSE improved from 0.08548 to 0.08538, saving model to /home/rkaushik/Documents/Thesis/MLROM/Kolmogorov/saved_ae/ae_030/checkpoints/checkpoint\n",
      " - saving loss histories at /home/rkaushik/Documents/Thesis/MLROM/Kolmogorov/saved_ae/ae_030/checkpoints/LossHistoriesCheckpoint\n",
      "1250/1250 [==============================] - 12s 10ms/step - loss: 0.0103 - mse: 0.0101 - NMSE: 0.0910 - val_loss: 0.0097 - val_mse: 0.0095 - val_NMSE: 0.0854\n"
     ]
    },
    {
     "name": "stdout",
     "output_type": "stream",
     "text": [
      "Epoch 79/200\n",
      "1248/1250 [============================>.] - ETA: 0s - loss: 0.0103 - mse: 0.0101 - NMSE: 0.0909 - tot_time: 0h 16m 6.2s\n",
      "\n",
      "Epoch 79: val_NMSE did not improve from 0.08538\n",
      " - saving loss histories at /home/rkaushik/Documents/Thesis/MLROM/Kolmogorov/saved_ae/ae_030/checkpoints/LossHistoriesCheckpoint\n",
      "1250/1250 [==============================] - 12s 10ms/step - loss: 0.0103 - mse: 0.0101 - NMSE: 0.0909 - val_loss: 0.0098 - val_mse: 0.0096 - val_NMSE: 0.0865\n",
      "Epoch 80/200\n",
      "1249/1250 [============================>.] - ETA: 0s - loss: 0.0103 - mse: 0.0101 - NMSE: 0.0911 - tot_time: 0h 16m 18.4s\n",
      "\n",
      "Epoch 80: val_NMSE did not improve from 0.08538\n",
      " - saving loss histories at /home/rkaushik/Documents/Thesis/MLROM/Kolmogorov/saved_ae/ae_030/checkpoints/LossHistoriesCheckpoint\n",
      "1250/1250 [==============================] - 12s 10ms/step - loss: 0.0103 - mse: 0.0101 - NMSE: 0.0911 - val_loss: 0.0098 - val_mse: 0.0096 - val_NMSE: 0.0863\n",
      "Epoch 81/200\n",
      "1247/1250 [============================>.] - ETA: 0s - loss: 0.0103 - mse: 0.0101 - NMSE: 0.0910 - tot_time: 0h 16m 30.7s\n",
      "\n",
      "Epoch 81: val_NMSE did not improve from 0.08538\n",
      " - saving loss histories at /home/rkaushik/Documents/Thesis/MLROM/Kolmogorov/saved_ae/ae_030/checkpoints/LossHistoriesCheckpoint\n",
      "1250/1250 [==============================] - 12s 10ms/step - loss: 0.0103 - mse: 0.0101 - NMSE: 0.0910 - val_loss: 0.0097 - val_mse: 0.0095 - val_NMSE: 0.0854\n",
      "Epoch 82/200\n",
      "1249/1250 [============================>.] - ETA: 0s - loss: 0.0103 - mse: 0.0101 - NMSE: 0.0908 - tot_time: 0h 16m 42.8s\n",
      "\n",
      "Epoch 82: val_NMSE did not improve from 0.08538\n",
      " - saving loss histories at /home/rkaushik/Documents/Thesis/MLROM/Kolmogorov/saved_ae/ae_030/checkpoints/LossHistoriesCheckpoint\n",
      "1250/1250 [==============================] - 12s 10ms/step - loss: 0.0103 - mse: 0.0101 - NMSE: 0.0909 - val_loss: 0.0098 - val_mse: 0.0095 - val_NMSE: 0.0859\n",
      "Epoch 83/200\n",
      "1250/1250 [==============================] - ETA: 0s - loss: 0.0103 - mse: 0.0101 - NMSE: 0.0910 - tot_time: 0h 16m 54.9s\n",
      "\n",
      "Epoch 83: val_NMSE did not improve from 0.08538\n",
      " - saving loss histories at /home/rkaushik/Documents/Thesis/MLROM/Kolmogorov/saved_ae/ae_030/checkpoints/LossHistoriesCheckpoint\n",
      "1250/1250 [==============================] - 12s 10ms/step - loss: 0.0103 - mse: 0.0101 - NMSE: 0.0910 - val_loss: 0.0097 - val_mse: 0.0095 - val_NMSE: 0.0856\n",
      "Epoch 84/200\n",
      "1249/1250 [============================>.] - ETA: 0s - loss: 0.0103 - mse: 0.0101 - NMSE: 0.0908 - tot_time: 0h 17m 6.7s\n",
      "\n",
      "Epoch 84: val_NMSE did not improve from 0.08538\n",
      " - saving loss histories at /home/rkaushik/Documents/Thesis/MLROM/Kolmogorov/saved_ae/ae_030/checkpoints/LossHistoriesCheckpoint\n",
      "1250/1250 [==============================] - 12s 9ms/step - loss: 0.0103 - mse: 0.0101 - NMSE: 0.0908 - val_loss: 0.0098 - val_mse: 0.0096 - val_NMSE: 0.0866\n",
      "Epoch 85/200\n",
      "1250/1250 [==============================] - ETA: 0s - loss: 0.0103 - mse: 0.0101 - NMSE: 0.0908 - tot_time: 0h 17m 18.9s\n",
      "\n",
      "Epoch 85: val_NMSE did not improve from 0.08538\n",
      " - saving loss histories at /home/rkaushik/Documents/Thesis/MLROM/Kolmogorov/saved_ae/ae_030/checkpoints/LossHistoriesCheckpoint\n",
      "1250/1250 [==============================] - 12s 10ms/step - loss: 0.0103 - mse: 0.0101 - NMSE: 0.0908 - val_loss: 0.0097 - val_mse: 0.0095 - val_NMSE: 0.0855\n",
      "Epoch 86/200\n",
      "1247/1250 [============================>.] - ETA: 0s - loss: 0.0103 - mse: 0.0101 - NMSE: 0.0908 - tot_time: 0h 17m 31.1s\n",
      "\n",
      "Epoch 86: val_NMSE improved from 0.08538 to 0.08427, saving model to /home/rkaushik/Documents/Thesis/MLROM/Kolmogorov/saved_ae/ae_030/checkpoints/checkpoint\n",
      " - saving loss histories at /home/rkaushik/Documents/Thesis/MLROM/Kolmogorov/saved_ae/ae_030/checkpoints/LossHistoriesCheckpoint\n",
      "1250/1250 [==============================] - 12s 10ms/step - loss: 0.0103 - mse: 0.0101 - NMSE: 0.0908 - val_loss: 0.0096 - val_mse: 0.0094 - val_NMSE: 0.0843\n",
      "Epoch 87/200\n",
      "1249/1250 [============================>.] - ETA: 0s - loss: 0.0103 - mse: 0.0101 - NMSE: 0.0907 - tot_time: 0h 17m 43.3s\n",
      "\n",
      "Epoch 87: val_NMSE did not improve from 0.08427\n",
      " - saving loss histories at /home/rkaushik/Documents/Thesis/MLROM/Kolmogorov/saved_ae/ae_030/checkpoints/LossHistoriesCheckpoint\n",
      "1250/1250 [==============================] - 12s 10ms/step - loss: 0.0103 - mse: 0.0101 - NMSE: 0.0908 - val_loss: 0.0098 - val_mse: 0.0096 - val_NMSE: 0.0861\n",
      "Epoch 88/200\n",
      "1246/1250 [============================>.] - ETA: 0s - loss: 0.0103 - mse: 0.0101 - NMSE: 0.0906 - tot_time: 0h 17m 55.5s\n",
      "\n",
      "Epoch 88: val_NMSE did not improve from 0.08427\n",
      " - saving loss histories at /home/rkaushik/Documents/Thesis/MLROM/Kolmogorov/saved_ae/ae_030/checkpoints/LossHistoriesCheckpoint\n",
      "1250/1250 [==============================] - 12s 10ms/step - loss: 0.0103 - mse: 0.0101 - NMSE: 0.0905 - val_loss: 0.0097 - val_mse: 0.0094 - val_NMSE: 0.0850\n",
      "Epoch 89/200\n",
      "1247/1250 [============================>.] - ETA: 0s - loss: 0.0103 - mse: 0.0101 - NMSE: 0.0905 - tot_time: 0h 18m 7.5s\n",
      "\n",
      "Epoch 89: val_NMSE did not improve from 0.08427\n",
      " - saving loss histories at /home/rkaushik/Documents/Thesis/MLROM/Kolmogorov/saved_ae/ae_030/checkpoints/LossHistoriesCheckpoint\n",
      "1250/1250 [==============================] - 12s 10ms/step - loss: 0.0103 - mse: 0.0101 - NMSE: 0.0905 - val_loss: 0.0097 - val_mse: 0.0094 - val_NMSE: 0.0850\n",
      "Epoch 90/200\n",
      "1249/1250 [============================>.] - ETA: 0s - loss: 0.0103 - mse: 0.0100 - NMSE: 0.0904 - tot_time: 0h 18m 19.7s\n",
      "\n",
      "Epoch 90: val_NMSE did not improve from 0.08427\n",
      " - saving loss histories at /home/rkaushik/Documents/Thesis/MLROM/Kolmogorov/saved_ae/ae_030/checkpoints/LossHistoriesCheckpoint\n",
      "1250/1250 [==============================] - 12s 10ms/step - loss: 0.0103 - mse: 0.0100 - NMSE: 0.0904 - val_loss: 0.0098 - val_mse: 0.0096 - val_NMSE: 0.0862\n",
      "Epoch 91/200\n",
      "1249/1250 [============================>.] - ETA: 0s - loss: 0.0103 - mse: 0.0100 - NMSE: 0.0904 - tot_time: 0h 18m 31.8s\n",
      "\n",
      "Epoch 91: val_NMSE did not improve from 0.08427\n",
      " - saving loss histories at /home/rkaushik/Documents/Thesis/MLROM/Kolmogorov/saved_ae/ae_030/checkpoints/LossHistoriesCheckpoint\n",
      "1250/1250 [==============================] - 12s 10ms/step - loss: 0.0103 - mse: 0.0100 - NMSE: 0.0904 - val_loss: 0.0100 - val_mse: 0.0098 - val_NMSE: 0.0881\n",
      "Epoch 92/200\n",
      "1248/1250 [============================>.] - ETA: 0s - loss: 0.0103 - mse: 0.0100 - NMSE: 0.0903 - tot_time: 0h 18m 43.9s\n",
      "\n",
      "Epoch 92: val_NMSE did not improve from 0.08427\n",
      " - saving loss histories at /home/rkaushik/Documents/Thesis/MLROM/Kolmogorov/saved_ae/ae_030/checkpoints/LossHistoriesCheckpoint\n",
      "1250/1250 [==============================] - 12s 10ms/step - loss: 0.0103 - mse: 0.0100 - NMSE: 0.0903 - val_loss: 0.0096 - val_mse: 0.0094 - val_NMSE: 0.0847\n",
      "Epoch 93/200\n",
      "1248/1250 [============================>.] - ETA: 0s - loss: 0.0102 - mse: 0.0100 - NMSE: 0.0902 - tot_time: 0h 18m 56.0s\n",
      "\n",
      "Epoch 93: val_NMSE did not improve from 0.08427\n",
      " - saving loss histories at /home/rkaushik/Documents/Thesis/MLROM/Kolmogorov/saved_ae/ae_030/checkpoints/LossHistoriesCheckpoint\n",
      "1250/1250 [==============================] - 12s 10ms/step - loss: 0.0102 - mse: 0.0100 - NMSE: 0.0903 - val_loss: 0.0099 - val_mse: 0.0097 - val_NMSE: 0.0873\n",
      "Epoch 94/200\n",
      "1246/1250 [============================>.] - ETA: 0s - loss: 0.0103 - mse: 0.0100 - NMSE: 0.0904 - tot_time: 0h 19m 8.1s\n",
      "\n",
      "Epoch 94: val_NMSE improved from 0.08427 to 0.08423, saving model to /home/rkaushik/Documents/Thesis/MLROM/Kolmogorov/saved_ae/ae_030/checkpoints/checkpoint\n",
      " - saving loss histories at /home/rkaushik/Documents/Thesis/MLROM/Kolmogorov/saved_ae/ae_030/checkpoints/LossHistoriesCheckpoint\n",
      "1250/1250 [==============================] - 12s 10ms/step - loss: 0.0103 - mse: 0.0100 - NMSE: 0.0904 - val_loss: 0.0096 - val_mse: 0.0094 - val_NMSE: 0.0842\n",
      "Epoch 95/200\n",
      "1246/1250 [============================>.] - ETA: 0s - loss: 0.0102 - mse: 0.0100 - NMSE: 0.0902 - tot_time: 0h 19m 20.3s\n",
      "\n",
      "Epoch 95: val_NMSE did not improve from 0.08423\n",
      " - saving loss histories at /home/rkaushik/Documents/Thesis/MLROM/Kolmogorov/saved_ae/ae_030/checkpoints/LossHistoriesCheckpoint\n",
      "1250/1250 [==============================] - 12s 10ms/step - loss: 0.0102 - mse: 0.0100 - NMSE: 0.0902 - val_loss: 0.0097 - val_mse: 0.0095 - val_NMSE: 0.0854\n"
     ]
    },
    {
     "name": "stdout",
     "output_type": "stream",
     "text": [
      "Epoch 96/200\n",
      "1250/1250 [==============================] - ETA: 0s - loss: 0.0103 - mse: 0.0100 - NMSE: 0.0903 - tot_time: 0h 19m 32.4s\n",
      "\n",
      "Epoch 96: val_NMSE did not improve from 0.08423\n",
      " - saving loss histories at /home/rkaushik/Documents/Thesis/MLROM/Kolmogorov/saved_ae/ae_030/checkpoints/LossHistoriesCheckpoint\n",
      "1250/1250 [==============================] - 12s 10ms/step - loss: 0.0103 - mse: 0.0100 - NMSE: 0.0903 - val_loss: 0.0098 - val_mse: 0.0096 - val_NMSE: 0.0865\n",
      "Epoch 97/200\n",
      "1248/1250 [============================>.] - ETA: 0s - loss: 0.0103 - mse: 0.0100 - NMSE: 0.0903 - tot_time: 0h 19m 44.4s\n",
      "\n",
      "Epoch 97: val_NMSE did not improve from 0.08423\n",
      " - saving loss histories at /home/rkaushik/Documents/Thesis/MLROM/Kolmogorov/saved_ae/ae_030/checkpoints/LossHistoriesCheckpoint\n",
      "1250/1250 [==============================] - 12s 10ms/step - loss: 0.0102 - mse: 0.0100 - NMSE: 0.0903 - val_loss: 0.0096 - val_mse: 0.0094 - val_NMSE: 0.0844\n",
      "Epoch 98/200\n",
      "1245/1250 [============================>.] - ETA: 0s - loss: 0.0103 - mse: 0.0100 - NMSE: 0.0903 - tot_time: 0h 19m 56.6s\n",
      "\n",
      "Epoch 98: val_NMSE did not improve from 0.08423\n",
      " - saving loss histories at /home/rkaushik/Documents/Thesis/MLROM/Kolmogorov/saved_ae/ae_030/checkpoints/LossHistoriesCheckpoint\n",
      "1250/1250 [==============================] - 12s 10ms/step - loss: 0.0102 - mse: 0.0100 - NMSE: 0.0902 - val_loss: 0.0096 - val_mse: 0.0094 - val_NMSE: 0.0845\n",
      "Epoch 99/200\n",
      "1248/1250 [============================>.] - ETA: 0s - loss: 0.0103 - mse: 0.0100 - NMSE: 0.0903 - tot_time: 0h 20m 8.6s\n",
      "\n",
      "Epoch 99: val_NMSE did not improve from 0.08423\n",
      " - saving loss histories at /home/rkaushik/Documents/Thesis/MLROM/Kolmogorov/saved_ae/ae_030/checkpoints/LossHistoriesCheckpoint\n",
      "1250/1250 [==============================] - 12s 10ms/step - loss: 0.0102 - mse: 0.0100 - NMSE: 0.0902 - val_loss: 0.0097 - val_mse: 0.0094 - val_NMSE: 0.0850\n",
      "Epoch 100/200\n",
      "1245/1250 [============================>.] - ETA: 0s - loss: 0.0103 - mse: 0.0100 - NMSE: 0.0904 - tot_time: 0h 20m 20.9s\n",
      "\n",
      "Epoch 100: val_NMSE did not improve from 0.08423\n",
      " - saving loss histories at /home/rkaushik/Documents/Thesis/MLROM/Kolmogorov/saved_ae/ae_030/checkpoints/LossHistoriesCheckpoint\n",
      "1250/1250 [==============================] - 12s 10ms/step - loss: 0.0103 - mse: 0.0100 - NMSE: 0.0904 - val_loss: 0.0097 - val_mse: 0.0095 - val_NMSE: 0.0857\n",
      "Epoch 101/200\n",
      "1247/1250 [============================>.] - ETA: 0s - loss: 0.0102 - mse: 0.0100 - NMSE: 0.0901 - tot_time: 0h 20m 33.1s\n",
      "\n",
      "Epoch 101: val_NMSE improved from 0.08423 to 0.08382, saving model to /home/rkaushik/Documents/Thesis/MLROM/Kolmogorov/saved_ae/ae_030/checkpoints/checkpoint\n",
      " - saving loss histories at /home/rkaushik/Documents/Thesis/MLROM/Kolmogorov/saved_ae/ae_030/checkpoints/LossHistoriesCheckpoint\n",
      "1250/1250 [==============================] - 12s 10ms/step - loss: 0.0102 - mse: 0.0100 - NMSE: 0.0900 - val_loss: 0.0095 - val_mse: 0.0093 - val_NMSE: 0.0838\n",
      "Epoch 102/200\n",
      "1249/1250 [============================>.] - ETA: 0s - loss: 0.0102 - mse: 0.0100 - NMSE: 0.0898 - tot_time: 0h 20m 45.3s\n",
      "\n",
      "Epoch 102: val_NMSE improved from 0.08382 to 0.08368, saving model to /home/rkaushik/Documents/Thesis/MLROM/Kolmogorov/saved_ae/ae_030/checkpoints/checkpoint\n",
      " - saving loss histories at /home/rkaushik/Documents/Thesis/MLROM/Kolmogorov/saved_ae/ae_030/checkpoints/LossHistoriesCheckpoint\n",
      "1250/1250 [==============================] - 12s 10ms/step - loss: 0.0102 - mse: 0.0100 - NMSE: 0.0898 - val_loss: 0.0095 - val_mse: 0.0093 - val_NMSE: 0.0837\n",
      "Epoch 103/200\n",
      "1249/1250 [============================>.] - ETA: 0s - loss: 0.0102 - mse: 0.0100 - NMSE: 0.0901 - tot_time: 0h 20m 57.5s\n",
      "\n",
      "Epoch 103: val_NMSE did not improve from 0.08368\n",
      " - saving loss histories at /home/rkaushik/Documents/Thesis/MLROM/Kolmogorov/saved_ae/ae_030/checkpoints/LossHistoriesCheckpoint\n",
      "1250/1250 [==============================] - 12s 10ms/step - loss: 0.0102 - mse: 0.0100 - NMSE: 0.0901 - val_loss: 0.0097 - val_mse: 0.0095 - val_NMSE: 0.0854\n",
      "Epoch 104/200\n",
      "1245/1250 [============================>.] - ETA: 0s - loss: 0.0102 - mse: 0.0100 - NMSE: 0.0900 - tot_time: 0h 21m 9.7s\n",
      "\n",
      "Epoch 104: val_NMSE did not improve from 0.08368\n",
      " - saving loss histories at /home/rkaushik/Documents/Thesis/MLROM/Kolmogorov/saved_ae/ae_030/checkpoints/LossHistoriesCheckpoint\n",
      "1250/1250 [==============================] - 12s 10ms/step - loss: 0.0102 - mse: 0.0100 - NMSE: 0.0900 - val_loss: 0.0097 - val_mse: 0.0094 - val_NMSE: 0.0848\n",
      "Epoch 105/200\n",
      "1250/1250 [==============================] - ETA: 0s - loss: 0.0102 - mse: 0.0100 - NMSE: 0.0898 - tot_time: 0h 21m 22.6s\n",
      "\n",
      "Epoch 105: val_NMSE did not improve from 0.08368\n",
      " - saving loss histories at /home/rkaushik/Documents/Thesis/MLROM/Kolmogorov/saved_ae/ae_030/checkpoints/LossHistoriesCheckpoint\n",
      "1250/1250 [==============================] - 13s 10ms/step - loss: 0.0102 - mse: 0.0100 - NMSE: 0.0898 - val_loss: 0.0098 - val_mse: 0.0095 - val_NMSE: 0.0858\n",
      "Epoch 106/200\n",
      "1247/1250 [============================>.] - ETA: 0s - loss: 0.0102 - mse: 0.0100 - NMSE: 0.0899 - tot_time: 0h 21m 35.6s\n",
      "\n",
      "Epoch 106: val_NMSE did not improve from 0.08368\n",
      " - saving loss histories at /home/rkaushik/Documents/Thesis/MLROM/Kolmogorov/saved_ae/ae_030/checkpoints/LossHistoriesCheckpoint\n",
      "1250/1250 [==============================] - 13s 10ms/step - loss: 0.0102 - mse: 0.0100 - NMSE: 0.0899 - val_loss: 0.0097 - val_mse: 0.0094 - val_NMSE: 0.0849\n",
      "Epoch 107/200\n",
      "1247/1250 [============================>.] - ETA: 0s - loss: 0.0102 - mse: 0.0100 - NMSE: 0.0897 - tot_time: 0h 21m 48.3s\n",
      "\n",
      "Epoch 107: val_NMSE did not improve from 0.08368\n",
      " - saving loss histories at /home/rkaushik/Documents/Thesis/MLROM/Kolmogorov/saved_ae/ae_030/checkpoints/LossHistoriesCheckpoint\n",
      "1250/1250 [==============================] - 13s 10ms/step - loss: 0.0102 - mse: 0.0100 - NMSE: 0.0897 - val_loss: 0.0099 - val_mse: 0.0097 - val_NMSE: 0.0872\n",
      "Epoch 108/200\n",
      "1245/1250 [============================>.] - ETA: 0s - loss: 0.0102 - mse: 0.0100 - NMSE: 0.0897 - tot_time: 0h 22m 1.2s\n",
      "\n",
      "Epoch 108: val_NMSE did not improve from 0.08368\n",
      " - saving loss histories at /home/rkaushik/Documents/Thesis/MLROM/Kolmogorov/saved_ae/ae_030/checkpoints/LossHistoriesCheckpoint\n",
      "1250/1250 [==============================] - 13s 10ms/step - loss: 0.0102 - mse: 0.0100 - NMSE: 0.0898 - val_loss: 0.0098 - val_mse: 0.0096 - val_NMSE: 0.0864\n",
      "Epoch 109/200\n",
      "1248/1250 [============================>.] - ETA: 0s - loss: 0.0102 - mse: 0.0100 - NMSE: 0.0896 - tot_time: 0h 22m 14.1s\n",
      "\n",
      "Epoch 109: val_NMSE did not improve from 0.08368\n",
      " - saving loss histories at /home/rkaushik/Documents/Thesis/MLROM/Kolmogorov/saved_ae/ae_030/checkpoints/LossHistoriesCheckpoint\n",
      "1250/1250 [==============================] - 13s 10ms/step - loss: 0.0102 - mse: 0.0100 - NMSE: 0.0896 - val_loss: 0.0098 - val_mse: 0.0096 - val_NMSE: 0.0865\n",
      "Epoch 110/200\n",
      "1248/1250 [============================>.] - ETA: 0s - loss: 0.0102 - mse: 0.0100 - NMSE: 0.0896 - tot_time: 0h 22m 26.8s\n",
      "\n",
      "Epoch 110: val_NMSE did not improve from 0.08368\n",
      " - saving loss histories at /home/rkaushik/Documents/Thesis/MLROM/Kolmogorov/saved_ae/ae_030/checkpoints/LossHistoriesCheckpoint\n",
      "1250/1250 [==============================] - 13s 10ms/step - loss: 0.0102 - mse: 0.0100 - NMSE: 0.0897 - val_loss: 0.0097 - val_mse: 0.0095 - val_NMSE: 0.0852\n",
      "Epoch 111/200\n",
      "1246/1250 [============================>.] - ETA: 0s - loss: 0.0102 - mse: 0.0100 - NMSE: 0.0897 - tot_time: 0h 22m 39.6s\n",
      "\n",
      "Epoch 111: val_NMSE did not improve from 0.08368\n",
      " - saving loss histories at /home/rkaushik/Documents/Thesis/MLROM/Kolmogorov/saved_ae/ae_030/checkpoints/LossHistoriesCheckpoint\n",
      "1250/1250 [==============================] - 13s 10ms/step - loss: 0.0102 - mse: 0.0100 - NMSE: 0.0898 - val_loss: 0.0097 - val_mse: 0.0095 - val_NMSE: 0.0853\n",
      "Epoch 112/200\n",
      "1248/1250 [============================>.] - ETA: 0s - loss: 0.0102 - mse: 0.0100 - NMSE: 0.0897Restoring model weights from the end of the best epoch: 102.\n",
      " - tot_time: 0h 22m 52.5s\n",
      "\n",
      "Epoch 112: val_NMSE did not improve from 0.08368\n",
      " - saving loss histories at /home/rkaushik/Documents/Thesis/MLROM/Kolmogorov/saved_ae/ae_030/checkpoints/LossHistoriesCheckpoint\n",
      "1250/1250 [==============================] - 13s 10ms/step - loss: 0.0102 - mse: 0.0100 - NMSE: 0.0897 - val_loss: 0.0097 - val_mse: 0.0095 - val_NMSE: 0.0851\n"
     ]
    },
    {
     "name": "stdout",
     "output_type": "stream",
     "text": [
      "Epoch 112: early stopping\n",
      "\n",
      "\n",
      "--------------------------------------------------------------------------------\n",
      "\n",
      "---------------------------- LEARNING RATE : 0.0001 ----------------------------\n",
      "\n",
      "--------------------------------------------------------------------------------\n",
      "\n",
      "\n",
      "Epoch 1/200\n",
      "1244/1250 [============================>.] - ETA: 0s - loss: 0.0100 - mse: 0.0097 - NMSE: 0.0876 - tot_time: 0h 23m 6.6s\n",
      "\n",
      "Epoch 1: val_NMSE improved from 0.08368 to 0.08182, saving model to /home/rkaushik/Documents/Thesis/MLROM/Kolmogorov/saved_ae/ae_030/checkpoints/checkpoint\n",
      " - saving loss histories at /home/rkaushik/Documents/Thesis/MLROM/Kolmogorov/saved_ae/ae_030/checkpoints/LossHistoriesCheckpoint\n",
      "1250/1250 [==============================] - 13s 11ms/step - loss: 0.0100 - mse: 0.0097 - NMSE: 0.0876 - val_loss: 0.0093 - val_mse: 0.0091 - val_NMSE: 0.0818\n",
      "Epoch 2/200\n",
      "1246/1250 [============================>.] - ETA: 0s - loss: 0.0099 - mse: 0.0097 - NMSE: 0.0875 - tot_time: 0h 23m 19.5s\n",
      "\n",
      "Epoch 2: val_NMSE improved from 0.08182 to 0.08172, saving model to /home/rkaushik/Documents/Thesis/MLROM/Kolmogorov/saved_ae/ae_030/checkpoints/checkpoint\n",
      " - saving loss histories at /home/rkaushik/Documents/Thesis/MLROM/Kolmogorov/saved_ae/ae_030/checkpoints/LossHistoriesCheckpoint\n",
      "1250/1250 [==============================] - 13s 10ms/step - loss: 0.0100 - mse: 0.0097 - NMSE: 0.0876 - val_loss: 0.0093 - val_mse: 0.0091 - val_NMSE: 0.0817\n",
      "Epoch 3/200\n",
      "1248/1250 [============================>.] - ETA: 0s - loss: 0.0099 - mse: 0.0097 - NMSE: 0.0874 - tot_time: 0h 23m 32.6s\n",
      "\n",
      "Epoch 3: val_NMSE improved from 0.08172 to 0.08169, saving model to /home/rkaushik/Documents/Thesis/MLROM/Kolmogorov/saved_ae/ae_030/checkpoints/checkpoint\n",
      " - saving loss histories at /home/rkaushik/Documents/Thesis/MLROM/Kolmogorov/saved_ae/ae_030/checkpoints/LossHistoriesCheckpoint\n",
      "1250/1250 [==============================] - 13s 10ms/step - loss: 0.0099 - mse: 0.0097 - NMSE: 0.0874 - val_loss: 0.0093 - val_mse: 0.0091 - val_NMSE: 0.0817\n",
      "Epoch 4/200\n",
      "1247/1250 [============================>.] - ETA: 0s - loss: 0.0100 - mse: 0.0097 - NMSE: 0.0876 - tot_time: 0h 23m 45.6s\n",
      "\n",
      "Epoch 4: val_NMSE did not improve from 0.08169\n",
      " - saving loss histories at /home/rkaushik/Documents/Thesis/MLROM/Kolmogorov/saved_ae/ae_030/checkpoints/LossHistoriesCheckpoint\n",
      "1250/1250 [==============================] - 13s 10ms/step - loss: 0.0100 - mse: 0.0097 - NMSE: 0.0876 - val_loss: 0.0093 - val_mse: 0.0091 - val_NMSE: 0.0817\n",
      "Epoch 5/200\n",
      "1247/1250 [============================>.] - ETA: 0s - loss: 0.0099 - mse: 0.0097 - NMSE: 0.0874 - tot_time: 0h 23m 58.4s\n",
      "\n",
      "Epoch 5: val_NMSE improved from 0.08169 to 0.08166, saving model to /home/rkaushik/Documents/Thesis/MLROM/Kolmogorov/saved_ae/ae_030/checkpoints/checkpoint\n",
      " - saving loss histories at /home/rkaushik/Documents/Thesis/MLROM/Kolmogorov/saved_ae/ae_030/checkpoints/LossHistoriesCheckpoint\n",
      "1250/1250 [==============================] - 13s 10ms/step - loss: 0.0099 - mse: 0.0097 - NMSE: 0.0874 - val_loss: 0.0093 - val_mse: 0.0091 - val_NMSE: 0.0817\n",
      "Epoch 6/200\n",
      "1249/1250 [============================>.] - ETA: 0s - loss: 0.0099 - mse: 0.0097 - NMSE: 0.0875 - tot_time: 0h 24m 11.4s\n",
      "\n",
      "Epoch 6: val_NMSE did not improve from 0.08166\n",
      " - saving loss histories at /home/rkaushik/Documents/Thesis/MLROM/Kolmogorov/saved_ae/ae_030/checkpoints/LossHistoriesCheckpoint\n",
      "1250/1250 [==============================] - 13s 10ms/step - loss: 0.0099 - mse: 0.0097 - NMSE: 0.0874 - val_loss: 0.0093 - val_mse: 0.0091 - val_NMSE: 0.0819\n",
      "Epoch 7/200\n",
      "1246/1250 [============================>.] - ETA: 0s - loss: 0.0099 - mse: 0.0097 - NMSE: 0.0874 - tot_time: 0h 24m 24.2s\n",
      "\n",
      "Epoch 7: val_NMSE improved from 0.08166 to 0.08155, saving model to /home/rkaushik/Documents/Thesis/MLROM/Kolmogorov/saved_ae/ae_030/checkpoints/checkpoint\n",
      " - saving loss histories at /home/rkaushik/Documents/Thesis/MLROM/Kolmogorov/saved_ae/ae_030/checkpoints/LossHistoriesCheckpoint\n",
      "1250/1250 [==============================] - 13s 10ms/step - loss: 0.0099 - mse: 0.0097 - NMSE: 0.0874 - val_loss: 0.0093 - val_mse: 0.0091 - val_NMSE: 0.0815\n",
      "Epoch 8/200\n",
      "1248/1250 [============================>.] - ETA: 0s - loss: 0.0099 - mse: 0.0097 - NMSE: 0.0873 - tot_time: 0h 24m 37.3s\n",
      "\n",
      "Epoch 8: val_NMSE did not improve from 0.08155\n",
      " - saving loss histories at /home/rkaushik/Documents/Thesis/MLROM/Kolmogorov/saved_ae/ae_030/checkpoints/LossHistoriesCheckpoint\n",
      "1250/1250 [==============================] - 13s 10ms/step - loss: 0.0099 - mse: 0.0097 - NMSE: 0.0873 - val_loss: 0.0093 - val_mse: 0.0091 - val_NMSE: 0.0818\n",
      "Epoch 9/200\n",
      "1249/1250 [============================>.] - ETA: 0s - loss: 0.0099 - mse: 0.0097 - NMSE: 0.0872 - tot_time: 0h 24m 50.3s\n",
      "\n",
      "Epoch 9: val_NMSE improved from 0.08155 to 0.08150, saving model to /home/rkaushik/Documents/Thesis/MLROM/Kolmogorov/saved_ae/ae_030/checkpoints/checkpoint\n",
      " - saving loss histories at /home/rkaushik/Documents/Thesis/MLROM/Kolmogorov/saved_ae/ae_030/checkpoints/LossHistoriesCheckpoint\n",
      "1250/1250 [==============================] - 13s 10ms/step - loss: 0.0099 - mse: 0.0097 - NMSE: 0.0872 - val_loss: 0.0093 - val_mse: 0.0091 - val_NMSE: 0.0815\n",
      "Epoch 10/200\n",
      "1245/1250 [============================>.] - ETA: 0s - loss: 0.0099 - mse: 0.0097 - NMSE: 0.0874 - tot_time: 0h 25m 3.2s\n",
      "\n",
      "Epoch 10: val_NMSE did not improve from 0.08150\n",
      " - saving loss histories at /home/rkaushik/Documents/Thesis/MLROM/Kolmogorov/saved_ae/ae_030/checkpoints/LossHistoriesCheckpoint\n",
      "1250/1250 [==============================] - 13s 10ms/step - loss: 0.0099 - mse: 0.0097 - NMSE: 0.0874 - val_loss: 0.0093 - val_mse: 0.0091 - val_NMSE: 0.0817\n",
      "Epoch 11/200\n",
      "1248/1250 [============================>.] - ETA: 0s - loss: 0.0099 - mse: 0.0097 - NMSE: 0.0874 - tot_time: 0h 25m 16.2s\n",
      "\n",
      "Epoch 11: val_NMSE did not improve from 0.08150\n",
      " - saving loss histories at /home/rkaushik/Documents/Thesis/MLROM/Kolmogorov/saved_ae/ae_030/checkpoints/LossHistoriesCheckpoint\n",
      "1250/1250 [==============================] - 13s 10ms/step - loss: 0.0099 - mse: 0.0097 - NMSE: 0.0874 - val_loss: 0.0093 - val_mse: 0.0091 - val_NMSE: 0.0816\n",
      "Epoch 12/200\n",
      "1246/1250 [============================>.] - ETA: 0s - loss: 0.0099 - mse: 0.0097 - NMSE: 0.0874 - tot_time: 0h 25m 29.1s\n",
      "\n",
      "Epoch 12: val_NMSE did not improve from 0.08150\n",
      " - saving loss histories at /home/rkaushik/Documents/Thesis/MLROM/Kolmogorov/saved_ae/ae_030/checkpoints/LossHistoriesCheckpoint\n",
      "1250/1250 [==============================] - 13s 10ms/step - loss: 0.0099 - mse: 0.0097 - NMSE: 0.0874 - val_loss: 0.0093 - val_mse: 0.0091 - val_NMSE: 0.0816\n",
      "Epoch 13/200\n",
      "1248/1250 [============================>.] - ETA: 0s - loss: 0.0099 - mse: 0.0097 - NMSE: 0.0873 - tot_time: 0h 25m 41.8s\n",
      "\n",
      "Epoch 13: val_NMSE improved from 0.08150 to 0.08143, saving model to /home/rkaushik/Documents/Thesis/MLROM/Kolmogorov/saved_ae/ae_030/checkpoints/checkpoint\n",
      " - saving loss histories at /home/rkaushik/Documents/Thesis/MLROM/Kolmogorov/saved_ae/ae_030/checkpoints/LossHistoriesCheckpoint\n",
      "1250/1250 [==============================] - 13s 10ms/step - loss: 0.0099 - mse: 0.0097 - NMSE: 0.0873 - val_loss: 0.0093 - val_mse: 0.0090 - val_NMSE: 0.0814\n",
      "Epoch 14/200\n",
      "1246/1250 [============================>.] - ETA: 0s - loss: 0.0099 - mse: 0.0097 - NMSE: 0.0873 - tot_time: 0h 25m 54.7s\n",
      "\n",
      "Epoch 14: val_NMSE did not improve from 0.08143\n",
      " - saving loss histories at /home/rkaushik/Documents/Thesis/MLROM/Kolmogorov/saved_ae/ae_030/checkpoints/LossHistoriesCheckpoint\n",
      "1250/1250 [==============================] - 13s 10ms/step - loss: 0.0099 - mse: 0.0097 - NMSE: 0.0872 - val_loss: 0.0093 - val_mse: 0.0091 - val_NMSE: 0.0815\n",
      "Epoch 15/200\n",
      "1247/1250 [============================>.] - ETA: 0s - loss: 0.0099 - mse: 0.0097 - NMSE: 0.0873 - tot_time: 0h 26m 7.6s\n",
      "\n",
      "Epoch 15: val_NMSE did not improve from 0.08143\n",
      " - saving loss histories at /home/rkaushik/Documents/Thesis/MLROM/Kolmogorov/saved_ae/ae_030/checkpoints/LossHistoriesCheckpoint\n",
      "1250/1250 [==============================] - 13s 10ms/step - loss: 0.0099 - mse: 0.0097 - NMSE: 0.0873 - val_loss: 0.0093 - val_mse: 0.0091 - val_NMSE: 0.0815\n",
      "Epoch 16/200\n"
     ]
    },
    {
     "name": "stdout",
     "output_type": "stream",
     "text": [
      "1250/1250 [==============================] - ETA: 0s - loss: 0.0099 - mse: 0.0097 - NMSE: 0.0872 - tot_time: 0h 26m 20.6s\n",
      "\n",
      "Epoch 16: val_NMSE did not improve from 0.08143\n",
      " - saving loss histories at /home/rkaushik/Documents/Thesis/MLROM/Kolmogorov/saved_ae/ae_030/checkpoints/LossHistoriesCheckpoint\n",
      "1250/1250 [==============================] - 13s 10ms/step - loss: 0.0099 - mse: 0.0097 - NMSE: 0.0872 - val_loss: 0.0093 - val_mse: 0.0090 - val_NMSE: 0.0814\n",
      "Epoch 17/200\n",
      "1247/1250 [============================>.] - ETA: 0s - loss: 0.0099 - mse: 0.0097 - NMSE: 0.0872 - tot_time: 0h 26m 33.7s\n",
      "\n",
      "Epoch 17: val_NMSE did not improve from 0.08143\n",
      " - saving loss histories at /home/rkaushik/Documents/Thesis/MLROM/Kolmogorov/saved_ae/ae_030/checkpoints/LossHistoriesCheckpoint\n",
      "1250/1250 [==============================] - 13s 10ms/step - loss: 0.0099 - mse: 0.0097 - NMSE: 0.0872 - val_loss: 0.0093 - val_mse: 0.0091 - val_NMSE: 0.0815\n",
      "Epoch 18/200\n",
      "1247/1250 [============================>.] - ETA: 0s - loss: 0.0099 - mse: 0.0097 - NMSE: 0.0873 - tot_time: 0h 26m 46.7s\n",
      "\n",
      "Epoch 18: val_NMSE improved from 0.08143 to 0.08134, saving model to /home/rkaushik/Documents/Thesis/MLROM/Kolmogorov/saved_ae/ae_030/checkpoints/checkpoint\n",
      " - saving loss histories at /home/rkaushik/Documents/Thesis/MLROM/Kolmogorov/saved_ae/ae_030/checkpoints/LossHistoriesCheckpoint\n",
      "1250/1250 [==============================] - 13s 10ms/step - loss: 0.0099 - mse: 0.0097 - NMSE: 0.0873 - val_loss: 0.0093 - val_mse: 0.0090 - val_NMSE: 0.0813\n",
      "Epoch 19/200\n",
      "1246/1250 [============================>.] - ETA: 0s - loss: 0.0099 - mse: 0.0097 - NMSE: 0.0871 - tot_time: 0h 26m 59.9s\n",
      "\n",
      "Epoch 19: val_NMSE did not improve from 0.08134\n",
      " - saving loss histories at /home/rkaushik/Documents/Thesis/MLROM/Kolmogorov/saved_ae/ae_030/checkpoints/LossHistoriesCheckpoint\n",
      "1250/1250 [==============================] - 13s 10ms/step - loss: 0.0099 - mse: 0.0097 - NMSE: 0.0871 - val_loss: 0.0093 - val_mse: 0.0091 - val_NMSE: 0.0815\n",
      "Epoch 20/200\n",
      "1247/1250 [============================>.] - ETA: 0s - loss: 0.0099 - mse: 0.0097 - NMSE: 0.0872 - tot_time: 0h 27m 13.1s\n",
      "\n",
      "Epoch 20: val_NMSE did not improve from 0.08134\n",
      " - saving loss histories at /home/rkaushik/Documents/Thesis/MLROM/Kolmogorov/saved_ae/ae_030/checkpoints/LossHistoriesCheckpoint\n",
      "1250/1250 [==============================] - 13s 11ms/step - loss: 0.0099 - mse: 0.0097 - NMSE: 0.0872 - val_loss: 0.0093 - val_mse: 0.0091 - val_NMSE: 0.0815\n",
      "Epoch 21/200\n",
      "1250/1250 [==============================] - ETA: 0s - loss: 0.0099 - mse: 0.0097 - NMSE: 0.0871 - tot_time: 0h 27m 26.0s\n",
      "\n",
      "Epoch 21: val_NMSE did not improve from 0.08134\n",
      " - saving loss histories at /home/rkaushik/Documents/Thesis/MLROM/Kolmogorov/saved_ae/ae_030/checkpoints/LossHistoriesCheckpoint\n",
      "1250/1250 [==============================] - 13s 10ms/step - loss: 0.0099 - mse: 0.0097 - NMSE: 0.0871 - val_loss: 0.0093 - val_mse: 0.0090 - val_NMSE: 0.0814\n",
      "Epoch 22/200\n",
      "1249/1250 [============================>.] - ETA: 0s - loss: 0.0099 - mse: 0.0097 - NMSE: 0.0872 - tot_time: 0h 27m 38.9s\n",
      "\n",
      "Epoch 22: val_NMSE did not improve from 0.08134\n",
      " - saving loss histories at /home/rkaushik/Documents/Thesis/MLROM/Kolmogorov/saved_ae/ae_030/checkpoints/LossHistoriesCheckpoint\n",
      "1250/1250 [==============================] - 13s 10ms/step - loss: 0.0099 - mse: 0.0097 - NMSE: 0.0872 - val_loss: 0.0093 - val_mse: 0.0090 - val_NMSE: 0.0814\n",
      "Epoch 23/200\n",
      "1247/1250 [============================>.] - ETA: 0s - loss: 0.0099 - mse: 0.0097 - NMSE: 0.0872 - tot_time: 0h 27m 51.7s\n",
      "\n",
      "Epoch 23: val_NMSE did not improve from 0.08134\n",
      " - saving loss histories at /home/rkaushik/Documents/Thesis/MLROM/Kolmogorov/saved_ae/ae_030/checkpoints/LossHistoriesCheckpoint\n",
      "1250/1250 [==============================] - 13s 10ms/step - loss: 0.0099 - mse: 0.0097 - NMSE: 0.0872 - val_loss: 0.0093 - val_mse: 0.0090 - val_NMSE: 0.0813\n",
      "Epoch 24/200\n",
      "1247/1250 [============================>.] - ETA: 0s - loss: 0.0099 - mse: 0.0097 - NMSE: 0.0872 - tot_time: 0h 28m 4.8s\n",
      "\n",
      "Epoch 24: val_NMSE did not improve from 0.08134\n",
      " - saving loss histories at /home/rkaushik/Documents/Thesis/MLROM/Kolmogorov/saved_ae/ae_030/checkpoints/LossHistoriesCheckpoint\n",
      "1250/1250 [==============================] - 13s 10ms/step - loss: 0.0099 - mse: 0.0097 - NMSE: 0.0872 - val_loss: 0.0093 - val_mse: 0.0091 - val_NMSE: 0.0818\n",
      "Epoch 25/200\n",
      "1250/1250 [==============================] - ETA: 0s - loss: 0.0099 - mse: 0.0097 - NMSE: 0.0871 - tot_time: 0h 28m 17.7s\n",
      "\n",
      "Epoch 25: val_NMSE did not improve from 0.08134\n",
      " - saving loss histories at /home/rkaushik/Documents/Thesis/MLROM/Kolmogorov/saved_ae/ae_030/checkpoints/LossHistoriesCheckpoint\n",
      "1250/1250 [==============================] - 13s 10ms/step - loss: 0.0099 - mse: 0.0097 - NMSE: 0.0871 - val_loss: 0.0093 - val_mse: 0.0090 - val_NMSE: 0.0814\n",
      "Epoch 26/200\n",
      "1249/1250 [============================>.] - ETA: 0s - loss: 0.0099 - mse: 0.0097 - NMSE: 0.0870 - tot_time: 0h 28m 30.7s\n",
      "\n",
      "Epoch 26: val_NMSE did not improve from 0.08134\n",
      " - saving loss histories at /home/rkaushik/Documents/Thesis/MLROM/Kolmogorov/saved_ae/ae_030/checkpoints/LossHistoriesCheckpoint\n",
      "1250/1250 [==============================] - 13s 10ms/step - loss: 0.0099 - mse: 0.0097 - NMSE: 0.0871 - val_loss: 0.0093 - val_mse: 0.0091 - val_NMSE: 0.0815\n",
      "Epoch 27/200\n",
      "1246/1250 [============================>.] - ETA: 0s - loss: 0.0099 - mse: 0.0097 - NMSE: 0.0870 - tot_time: 0h 28m 43.7s\n",
      "\n",
      "Epoch 27: val_NMSE improved from 0.08134 to 0.08125, saving model to /home/rkaushik/Documents/Thesis/MLROM/Kolmogorov/saved_ae/ae_030/checkpoints/checkpoint\n",
      " - saving loss histories at /home/rkaushik/Documents/Thesis/MLROM/Kolmogorov/saved_ae/ae_030/checkpoints/LossHistoriesCheckpoint\n",
      "1250/1250 [==============================] - 13s 10ms/step - loss: 0.0099 - mse: 0.0097 - NMSE: 0.0869 - val_loss: 0.0092 - val_mse: 0.0090 - val_NMSE: 0.0812\n",
      "Epoch 28/200\n",
      "1246/1250 [============================>.] - ETA: 0s - loss: 0.0099 - mse: 0.0097 - NMSE: 0.0870 - tot_time: 0h 28m 56.9s\n",
      "\n",
      "Epoch 28: val_NMSE did not improve from 0.08125\n",
      " - saving loss histories at /home/rkaushik/Documents/Thesis/MLROM/Kolmogorov/saved_ae/ae_030/checkpoints/LossHistoriesCheckpoint\n",
      "1250/1250 [==============================] - 13s 11ms/step - loss: 0.0099 - mse: 0.0097 - NMSE: 0.0870 - val_loss: 0.0093 - val_mse: 0.0090 - val_NMSE: 0.0814\n",
      "Epoch 29/200\n",
      "1245/1250 [============================>.] - ETA: 0s - loss: 0.0099 - mse: 0.0097 - NMSE: 0.0872 - tot_time: 0h 29m 9.8s\n",
      "\n",
      "Epoch 29: val_NMSE did not improve from 0.08125\n",
      " - saving loss histories at /home/rkaushik/Documents/Thesis/MLROM/Kolmogorov/saved_ae/ae_030/checkpoints/LossHistoriesCheckpoint\n",
      "1250/1250 [==============================] - 13s 10ms/step - loss: 0.0099 - mse: 0.0097 - NMSE: 0.0872 - val_loss: 0.0093 - val_mse: 0.0091 - val_NMSE: 0.0815\n",
      "Epoch 30/200\n",
      "1245/1250 [============================>.] - ETA: 0s - loss: 0.0099 - mse: 0.0097 - NMSE: 0.0872 - tot_time: 0h 29m 22.9s\n",
      "\n",
      "Epoch 30: val_NMSE did not improve from 0.08125\n",
      " - saving loss histories at /home/rkaushik/Documents/Thesis/MLROM/Kolmogorov/saved_ae/ae_030/checkpoints/LossHistoriesCheckpoint\n",
      "1250/1250 [==============================] - 13s 10ms/step - loss: 0.0099 - mse: 0.0097 - NMSE: 0.0871 - val_loss: 0.0093 - val_mse: 0.0091 - val_NMSE: 0.0816\n",
      "Epoch 31/200\n",
      "1250/1250 [==============================] - ETA: 0s - loss: 0.0099 - mse: 0.0097 - NMSE: 0.0870 - tot_time: 0h 29m 35.8s\n",
      "\n",
      "Epoch 31: val_NMSE did not improve from 0.08125\n",
      " - saving loss histories at /home/rkaushik/Documents/Thesis/MLROM/Kolmogorov/saved_ae/ae_030/checkpoints/LossHistoriesCheckpoint\n",
      "1250/1250 [==============================] - 13s 10ms/step - loss: 0.0099 - mse: 0.0097 - NMSE: 0.0870 - val_loss: 0.0093 - val_mse: 0.0090 - val_NMSE: 0.0814\n",
      "Epoch 32/200\n",
      "1245/1250 [============================>.] - ETA: 0s - loss: 0.0099 - mse: 0.0097 - NMSE: 0.0871 - tot_time: 0h 29m 48.8s\n",
      "\n",
      "Epoch 32: val_NMSE did not improve from 0.08125\n",
      " - saving loss histories at /home/rkaushik/Documents/Thesis/MLROM/Kolmogorov/saved_ae/ae_030/checkpoints/LossHistoriesCheckpoint\n",
      "1250/1250 [==============================] - 13s 10ms/step - loss: 0.0099 - mse: 0.0097 - NMSE: 0.0870 - val_loss: 0.0093 - val_mse: 0.0091 - val_NMSE: 0.0817\n"
     ]
    },
    {
     "name": "stdout",
     "output_type": "stream",
     "text": [
      "Epoch 33/200\n",
      "1250/1250 [==============================] - ETA: 0s - loss: 0.0099 - mse: 0.0097 - NMSE: 0.0871 - tot_time: 0h 30m 2.0s\n",
      "\n",
      "Epoch 33: val_NMSE did not improve from 0.08125\n",
      " - saving loss histories at /home/rkaushik/Documents/Thesis/MLROM/Kolmogorov/saved_ae/ae_030/checkpoints/LossHistoriesCheckpoint\n",
      "1250/1250 [==============================] - 13s 11ms/step - loss: 0.0099 - mse: 0.0097 - NMSE: 0.0871 - val_loss: 0.0092 - val_mse: 0.0090 - val_NMSE: 0.0813\n",
      "Epoch 34/200\n",
      "1248/1250 [============================>.] - ETA: 0s - loss: 0.0099 - mse: 0.0097 - NMSE: 0.0870 - tot_time: 0h 30m 15.0s\n",
      "\n",
      "Epoch 34: val_NMSE improved from 0.08125 to 0.08123, saving model to /home/rkaushik/Documents/Thesis/MLROM/Kolmogorov/saved_ae/ae_030/checkpoints/checkpoint\n",
      " - saving loss histories at /home/rkaushik/Documents/Thesis/MLROM/Kolmogorov/saved_ae/ae_030/checkpoints/LossHistoriesCheckpoint\n",
      "1250/1250 [==============================] - 13s 10ms/step - loss: 0.0099 - mse: 0.0097 - NMSE: 0.0870 - val_loss: 0.0092 - val_mse: 0.0090 - val_NMSE: 0.0812\n",
      "Epoch 35/200\n",
      "1246/1250 [============================>.] - ETA: 0s - loss: 0.0099 - mse: 0.0097 - NMSE: 0.0871 - tot_time: 0h 30m 28.1s\n",
      "\n",
      "Epoch 35: val_NMSE improved from 0.08123 to 0.08123, saving model to /home/rkaushik/Documents/Thesis/MLROM/Kolmogorov/saved_ae/ae_030/checkpoints/checkpoint\n",
      " - saving loss histories at /home/rkaushik/Documents/Thesis/MLROM/Kolmogorov/saved_ae/ae_030/checkpoints/LossHistoriesCheckpoint\n",
      "1250/1250 [==============================] - 13s 10ms/step - loss: 0.0099 - mse: 0.0097 - NMSE: 0.0870 - val_loss: 0.0092 - val_mse: 0.0090 - val_NMSE: 0.0812\n",
      "Epoch 36/200\n",
      "1249/1250 [============================>.] - ETA: 0s - loss: 0.0099 - mse: 0.0097 - NMSE: 0.0872 - tot_time: 0h 30m 41.1s\n",
      "\n",
      "Epoch 36: val_NMSE did not improve from 0.08123\n",
      " - saving loss histories at /home/rkaushik/Documents/Thesis/MLROM/Kolmogorov/saved_ae/ae_030/checkpoints/LossHistoriesCheckpoint\n",
      "1250/1250 [==============================] - 13s 10ms/step - loss: 0.0099 - mse: 0.0097 - NMSE: 0.0872 - val_loss: 0.0093 - val_mse: 0.0091 - val_NMSE: 0.0816\n",
      "Epoch 37/200\n",
      "1250/1250 [==============================] - ETA: 0s - loss: 0.0099 - mse: 0.0097 - NMSE: 0.0869 - tot_time: 0h 30m 54.0s\n",
      "\n",
      "Epoch 37: val_NMSE did not improve from 0.08123\n",
      " - saving loss histories at /home/rkaushik/Documents/Thesis/MLROM/Kolmogorov/saved_ae/ae_030/checkpoints/LossHistoriesCheckpoint\n",
      "1250/1250 [==============================] - 13s 10ms/step - loss: 0.0099 - mse: 0.0097 - NMSE: 0.0869 - val_loss: 0.0092 - val_mse: 0.0090 - val_NMSE: 0.0813\n",
      "Epoch 38/200\n",
      "1250/1250 [==============================] - ETA: 0s - loss: 0.0099 - mse: 0.0097 - NMSE: 0.0871 - tot_time: 0h 31m 7.0s\n",
      "\n",
      "Epoch 38: val_NMSE did not improve from 0.08123\n",
      " - saving loss histories at /home/rkaushik/Documents/Thesis/MLROM/Kolmogorov/saved_ae/ae_030/checkpoints/LossHistoriesCheckpoint\n",
      "1250/1250 [==============================] - 13s 10ms/step - loss: 0.0099 - mse: 0.0097 - NMSE: 0.0871 - val_loss: 0.0093 - val_mse: 0.0090 - val_NMSE: 0.0814\n",
      "Epoch 39/200\n",
      "1246/1250 [============================>.] - ETA: 0s - loss: 0.0099 - mse: 0.0097 - NMSE: 0.0869 - tot_time: 0h 31m 20.0s\n",
      "\n",
      "Epoch 39: val_NMSE did not improve from 0.08123\n",
      " - saving loss histories at /home/rkaushik/Documents/Thesis/MLROM/Kolmogorov/saved_ae/ae_030/checkpoints/LossHistoriesCheckpoint\n",
      "1250/1250 [==============================] - 13s 10ms/step - loss: 0.0099 - mse: 0.0097 - NMSE: 0.0870 - val_loss: 0.0092 - val_mse: 0.0090 - val_NMSE: 0.0813\n",
      "Epoch 40/200\n",
      "1245/1250 [============================>.] - ETA: 0s - loss: 0.0099 - mse: 0.0097 - NMSE: 0.0870 - tot_time: 0h 31m 32.0s\n",
      "\n",
      "Epoch 40: val_NMSE did not improve from 0.08123\n",
      " - saving loss histories at /home/rkaushik/Documents/Thesis/MLROM/Kolmogorov/saved_ae/ae_030/checkpoints/LossHistoriesCheckpoint\n",
      "1250/1250 [==============================] - 12s 10ms/step - loss: 0.0099 - mse: 0.0097 - NMSE: 0.0870 - val_loss: 0.0092 - val_mse: 0.0090 - val_NMSE: 0.0812\n",
      "Epoch 41/200\n",
      "1249/1250 [============================>.] - ETA: 0s - loss: 0.0099 - mse: 0.0097 - NMSE: 0.0869 - tot_time: 0h 31m 44.1s\n",
      "\n",
      "Epoch 41: val_NMSE did not improve from 0.08123\n",
      " - saving loss histories at /home/rkaushik/Documents/Thesis/MLROM/Kolmogorov/saved_ae/ae_030/checkpoints/LossHistoriesCheckpoint\n",
      "1250/1250 [==============================] - 12s 10ms/step - loss: 0.0099 - mse: 0.0097 - NMSE: 0.0869 - val_loss: 0.0092 - val_mse: 0.0090 - val_NMSE: 0.0812\n",
      "Epoch 42/200\n",
      "1247/1250 [============================>.] - ETA: 0s - loss: 0.0099 - mse: 0.0097 - NMSE: 0.0870 - tot_time: 0h 31m 56.3s\n",
      "\n",
      "Epoch 42: val_NMSE improved from 0.08123 to 0.08113, saving model to /home/rkaushik/Documents/Thesis/MLROM/Kolmogorov/saved_ae/ae_030/checkpoints/checkpoint\n",
      " - saving loss histories at /home/rkaushik/Documents/Thesis/MLROM/Kolmogorov/saved_ae/ae_030/checkpoints/LossHistoriesCheckpoint\n",
      "1250/1250 [==============================] - 12s 10ms/step - loss: 0.0099 - mse: 0.0097 - NMSE: 0.0871 - val_loss: 0.0092 - val_mse: 0.0090 - val_NMSE: 0.0811\n",
      "Epoch 43/200\n",
      "1248/1250 [============================>.] - ETA: 0s - loss: 0.0099 - mse: 0.0097 - NMSE: 0.0870 - tot_time: 0h 32m 8.6s\n",
      "\n",
      "Epoch 43: val_NMSE improved from 0.08113 to 0.08112, saving model to /home/rkaushik/Documents/Thesis/MLROM/Kolmogorov/saved_ae/ae_030/checkpoints/checkpoint\n",
      " - saving loss histories at /home/rkaushik/Documents/Thesis/MLROM/Kolmogorov/saved_ae/ae_030/checkpoints/LossHistoriesCheckpoint\n",
      "1250/1250 [==============================] - 12s 10ms/step - loss: 0.0099 - mse: 0.0097 - NMSE: 0.0870 - val_loss: 0.0092 - val_mse: 0.0090 - val_NMSE: 0.0811\n",
      "Epoch 44/200\n",
      "1245/1250 [============================>.] - ETA: 0s - loss: 0.0099 - mse: 0.0097 - NMSE: 0.0869 - tot_time: 0h 32m 20.9s\n",
      "\n",
      "Epoch 44: val_NMSE did not improve from 0.08112\n",
      " - saving loss histories at /home/rkaushik/Documents/Thesis/MLROM/Kolmogorov/saved_ae/ae_030/checkpoints/LossHistoriesCheckpoint\n",
      "1250/1250 [==============================] - 12s 10ms/step - loss: 0.0099 - mse: 0.0097 - NMSE: 0.0869 - val_loss: 0.0092 - val_mse: 0.0090 - val_NMSE: 0.0812\n",
      "Epoch 45/200\n",
      "1250/1250 [==============================] - ETA: 0s - loss: 0.0099 - mse: 0.0097 - NMSE: 0.0869 - tot_time: 0h 32m 33.1s\n",
      "\n",
      "Epoch 45: val_NMSE did not improve from 0.08112\n",
      " - saving loss histories at /home/rkaushik/Documents/Thesis/MLROM/Kolmogorov/saved_ae/ae_030/checkpoints/LossHistoriesCheckpoint\n",
      "1250/1250 [==============================] - 12s 10ms/step - loss: 0.0099 - mse: 0.0097 - NMSE: 0.0869 - val_loss: 0.0093 - val_mse: 0.0090 - val_NMSE: 0.0814\n",
      "Epoch 46/200\n",
      "1247/1250 [============================>.] - ETA: 0s - loss: 0.0099 - mse: 0.0097 - NMSE: 0.0869 - tot_time: 0h 32m 45.3s\n",
      "\n",
      "Epoch 46: val_NMSE did not improve from 0.08112\n",
      " - saving loss histories at /home/rkaushik/Documents/Thesis/MLROM/Kolmogorov/saved_ae/ae_030/checkpoints/LossHistoriesCheckpoint\n",
      "1250/1250 [==============================] - 12s 10ms/step - loss: 0.0099 - mse: 0.0097 - NMSE: 0.0870 - val_loss: 0.0092 - val_mse: 0.0090 - val_NMSE: 0.0813\n",
      "Epoch 47/200\n",
      "1247/1250 [============================>.] - ETA: 0s - loss: 0.0099 - mse: 0.0097 - NMSE: 0.0869 - tot_time: 0h 32m 57.6s\n",
      "\n",
      "Epoch 47: val_NMSE did not improve from 0.08112\n",
      " - saving loss histories at /home/rkaushik/Documents/Thesis/MLROM/Kolmogorov/saved_ae/ae_030/checkpoints/LossHistoriesCheckpoint\n",
      "1250/1250 [==============================] - 12s 10ms/step - loss: 0.0099 - mse: 0.0097 - NMSE: 0.0869 - val_loss: 0.0092 - val_mse: 0.0090 - val_NMSE: 0.0812\n",
      "Epoch 48/200\n",
      "1245/1250 [============================>.] - ETA: 0s - loss: 0.0099 - mse: 0.0097 - NMSE: 0.0870 - tot_time: 0h 33m 9.8s\n",
      "\n",
      "Epoch 48: val_NMSE did not improve from 0.08112\n",
      " - saving loss histories at /home/rkaushik/Documents/Thesis/MLROM/Kolmogorov/saved_ae/ae_030/checkpoints/LossHistoriesCheckpoint\n",
      "1250/1250 [==============================] - 12s 10ms/step - loss: 0.0099 - mse: 0.0097 - NMSE: 0.0869 - val_loss: 0.0093 - val_mse: 0.0091 - val_NMSE: 0.0817\n",
      "Epoch 49/200\n",
      "1246/1250 [============================>.] - ETA: 0s - loss: 0.0099 - mse: 0.0096 - NMSE: 0.0868 - tot_time: 0h 33m 21.8s\n",
      "\n",
      "Epoch 49: val_NMSE did not improve from 0.08112\n",
      " - saving loss histories at /home/rkaushik/Documents/Thesis/MLROM/Kolmogorov/saved_ae/ae_030/checkpoints/LossHistoriesCheckpoint\n",
      "1250/1250 [==============================] - 12s 10ms/step - loss: 0.0099 - mse: 0.0097 - NMSE: 0.0869 - val_loss: 0.0092 - val_mse: 0.0090 - val_NMSE: 0.0812\n"
     ]
    },
    {
     "name": "stdout",
     "output_type": "stream",
     "text": [
      "Epoch 50/200\n",
      "1249/1250 [============================>.] - ETA: 0s - loss: 0.0099 - mse: 0.0097 - NMSE: 0.0869 - tot_time: 0h 33m 34.0s\n",
      "\n",
      "Epoch 50: val_NMSE did not improve from 0.08112\n",
      " - saving loss histories at /home/rkaushik/Documents/Thesis/MLROM/Kolmogorov/saved_ae/ae_030/checkpoints/LossHistoriesCheckpoint\n",
      "1250/1250 [==============================] - 12s 10ms/step - loss: 0.0099 - mse: 0.0097 - NMSE: 0.0869 - val_loss: 0.0092 - val_mse: 0.0090 - val_NMSE: 0.0813\n",
      "Epoch 51/200\n",
      "1249/1250 [============================>.] - ETA: 0s - loss: 0.0099 - mse: 0.0096 - NMSE: 0.0868 - tot_time: 0h 33m 46.2s\n",
      "\n",
      "Epoch 51: val_NMSE did not improve from 0.08112\n",
      " - saving loss histories at /home/rkaushik/Documents/Thesis/MLROM/Kolmogorov/saved_ae/ae_030/checkpoints/LossHistoriesCheckpoint\n",
      "1250/1250 [==============================] - 12s 10ms/step - loss: 0.0099 - mse: 0.0096 - NMSE: 0.0868 - val_loss: 0.0092 - val_mse: 0.0090 - val_NMSE: 0.0812\n",
      "Epoch 52/200\n",
      "1245/1250 [============================>.] - ETA: 0s - loss: 0.0098 - mse: 0.0096 - NMSE: 0.0868 - tot_time: 0h 33m 58.5s\n",
      "\n",
      "Epoch 52: val_NMSE did not improve from 0.08112\n",
      " - saving loss histories at /home/rkaushik/Documents/Thesis/MLROM/Kolmogorov/saved_ae/ae_030/checkpoints/LossHistoriesCheckpoint\n",
      "1250/1250 [==============================] - 12s 10ms/step - loss: 0.0098 - mse: 0.0096 - NMSE: 0.0868 - val_loss: 0.0093 - val_mse: 0.0091 - val_NMSE: 0.0817\n",
      "Epoch 53/200\n",
      "1245/1250 [============================>.] - ETA: 0s - loss: 0.0099 - mse: 0.0097 - NMSE: 0.0869Restoring model weights from the end of the best epoch: 43.\n",
      " - tot_time: 0h 34m 10.8s\n",
      "\n",
      "Epoch 53: val_NMSE did not improve from 0.08112\n",
      " - saving loss histories at /home/rkaushik/Documents/Thesis/MLROM/Kolmogorov/saved_ae/ae_030/checkpoints/LossHistoriesCheckpoint\n",
      "1250/1250 [==============================] - 12s 10ms/step - loss: 0.0099 - mse: 0.0097 - NMSE: 0.0869 - val_loss: 0.0092 - val_mse: 0.0090 - val_NMSE: 0.0813\n",
      "Epoch 53: early stopping\n",
      "\n",
      "\n",
      "--------------------------------------------------------------------------------\n",
      "\n",
      "---------------------------- LEARNING RATE : 1e-05 -----------------------------\n",
      "\n",
      "--------------------------------------------------------------------------------\n",
      "\n",
      "\n",
      "Epoch 1/200\n",
      "1249/1250 [============================>.] - ETA: 0s - loss: 0.0098 - mse: 0.0096 - NMSE: 0.0867 - tot_time: 0h 34m 24.2s\n",
      "\n",
      "Epoch 1: val_NMSE improved from 0.08112 to 0.08091, saving model to /home/rkaushik/Documents/Thesis/MLROM/Kolmogorov/saved_ae/ae_030/checkpoints/checkpoint\n",
      " - saving loss histories at /home/rkaushik/Documents/Thesis/MLROM/Kolmogorov/saved_ae/ae_030/checkpoints/LossHistoriesCheckpoint\n",
      "1250/1250 [==============================] - 12s 10ms/step - loss: 0.0098 - mse: 0.0096 - NMSE: 0.0867 - val_loss: 0.0092 - val_mse: 0.0090 - val_NMSE: 0.0809\n",
      "Epoch 2/200\n",
      "1249/1250 [============================>.] - ETA: 0s - loss: 0.0098 - mse: 0.0096 - NMSE: 0.0867 - tot_time: 0h 34m 36.4s\n",
      "\n",
      "Epoch 2: val_NMSE did not improve from 0.08091\n",
      " - saving loss histories at /home/rkaushik/Documents/Thesis/MLROM/Kolmogorov/saved_ae/ae_030/checkpoints/LossHistoriesCheckpoint\n",
      "1250/1250 [==============================] - 12s 10ms/step - loss: 0.0098 - mse: 0.0096 - NMSE: 0.0867 - val_loss: 0.0092 - val_mse: 0.0090 - val_NMSE: 0.0809\n",
      "Epoch 3/200\n",
      "1245/1250 [============================>.] - ETA: 0s - loss: 0.0098 - mse: 0.0096 - NMSE: 0.0866 - tot_time: 0h 34m 48.7s\n",
      "\n",
      "Epoch 3: val_NMSE improved from 0.08091 to 0.08091, saving model to /home/rkaushik/Documents/Thesis/MLROM/Kolmogorov/saved_ae/ae_030/checkpoints/checkpoint\n",
      " - saving loss histories at /home/rkaushik/Documents/Thesis/MLROM/Kolmogorov/saved_ae/ae_030/checkpoints/LossHistoriesCheckpoint\n",
      "1250/1250 [==============================] - 12s 10ms/step - loss: 0.0098 - mse: 0.0096 - NMSE: 0.0866 - val_loss: 0.0092 - val_mse: 0.0090 - val_NMSE: 0.0809\n",
      "Epoch 4/200\n",
      "1249/1250 [============================>.] - ETA: 0s - loss: 0.0098 - mse: 0.0096 - NMSE: 0.0867 - tot_time: 0h 35m 0.8s\n",
      "\n",
      "Epoch 4: val_NMSE did not improve from 0.08091\n",
      " - saving loss histories at /home/rkaushik/Documents/Thesis/MLROM/Kolmogorov/saved_ae/ae_030/checkpoints/LossHistoriesCheckpoint\n",
      "1250/1250 [==============================] - 12s 10ms/step - loss: 0.0098 - mse: 0.0096 - NMSE: 0.0867 - val_loss: 0.0092 - val_mse: 0.0090 - val_NMSE: 0.0809\n",
      "Epoch 5/200\n",
      "1245/1250 [============================>.] - ETA: 0s - loss: 0.0098 - mse: 0.0096 - NMSE: 0.0866 - tot_time: 0h 35m 13.0s\n",
      "\n",
      "Epoch 5: val_NMSE did not improve from 0.08091\n",
      " - saving loss histories at /home/rkaushik/Documents/Thesis/MLROM/Kolmogorov/saved_ae/ae_030/checkpoints/LossHistoriesCheckpoint\n",
      "1250/1250 [==============================] - 12s 10ms/step - loss: 0.0098 - mse: 0.0096 - NMSE: 0.0866 - val_loss: 0.0092 - val_mse: 0.0090 - val_NMSE: 0.0809\n",
      "Epoch 6/200\n",
      "1245/1250 [============================>.] - ETA: 0s - loss: 0.0098 - mse: 0.0096 - NMSE: 0.0867 - tot_time: 0h 35m 25.2s\n",
      "\n",
      "Epoch 6: val_NMSE did not improve from 0.08091\n",
      " - saving loss histories at /home/rkaushik/Documents/Thesis/MLROM/Kolmogorov/saved_ae/ae_030/checkpoints/LossHistoriesCheckpoint\n",
      "1250/1250 [==============================] - 12s 10ms/step - loss: 0.0098 - mse: 0.0096 - NMSE: 0.0867 - val_loss: 0.0092 - val_mse: 0.0090 - val_NMSE: 0.0809\n",
      "Epoch 7/200\n",
      "1248/1250 [============================>.] - ETA: 0s - loss: 0.0098 - mse: 0.0096 - NMSE: 0.0866 - tot_time: 0h 35m 37.3s\n",
      "\n",
      "Epoch 7: val_NMSE improved from 0.08091 to 0.08090, saving model to /home/rkaushik/Documents/Thesis/MLROM/Kolmogorov/saved_ae/ae_030/checkpoints/checkpoint\n",
      " - saving loss histories at /home/rkaushik/Documents/Thesis/MLROM/Kolmogorov/saved_ae/ae_030/checkpoints/LossHistoriesCheckpoint\n",
      "1250/1250 [==============================] - 12s 10ms/step - loss: 0.0098 - mse: 0.0096 - NMSE: 0.0866 - val_loss: 0.0092 - val_mse: 0.0090 - val_NMSE: 0.0809\n",
      "Epoch 8/200\n",
      "1249/1250 [============================>.] - ETA: 0s - loss: 0.0098 - mse: 0.0096 - NMSE: 0.0865 - tot_time: 0h 35m 49.6s\n",
      "\n",
      "Epoch 8: val_NMSE did not improve from 0.08090\n",
      " - saving loss histories at /home/rkaushik/Documents/Thesis/MLROM/Kolmogorov/saved_ae/ae_030/checkpoints/LossHistoriesCheckpoint\n",
      "1250/1250 [==============================] - 12s 10ms/step - loss: 0.0098 - mse: 0.0096 - NMSE: 0.0865 - val_loss: 0.0092 - val_mse: 0.0090 - val_NMSE: 0.0809\n",
      "Epoch 9/200\n",
      "1246/1250 [============================>.] - ETA: 0s - loss: 0.0098 - mse: 0.0096 - NMSE: 0.0865 - tot_time: 0h 36m 1.7s\n",
      "\n",
      "Epoch 9: val_NMSE did not improve from 0.08090\n",
      " - saving loss histories at /home/rkaushik/Documents/Thesis/MLROM/Kolmogorov/saved_ae/ae_030/checkpoints/LossHistoriesCheckpoint\n",
      "1250/1250 [==============================] - 12s 10ms/step - loss: 0.0098 - mse: 0.0096 - NMSE: 0.0865 - val_loss: 0.0092 - val_mse: 0.0090 - val_NMSE: 0.0809\n",
      "Epoch 10/200\n",
      "1250/1250 [==============================] - ETA: 0s - loss: 0.0098 - mse: 0.0096 - NMSE: 0.0867 - tot_time: 0h 36m 13.9s\n",
      "\n",
      "Epoch 10: val_NMSE did not improve from 0.08090\n",
      " - saving loss histories at /home/rkaushik/Documents/Thesis/MLROM/Kolmogorov/saved_ae/ae_030/checkpoints/LossHistoriesCheckpoint\n",
      "1250/1250 [==============================] - 12s 10ms/step - loss: 0.0098 - mse: 0.0096 - NMSE: 0.0867 - val_loss: 0.0092 - val_mse: 0.0090 - val_NMSE: 0.0809\n",
      "Epoch 11/200\n",
      "1247/1250 [============================>.] - ETA: 0s - loss: 0.0098 - mse: 0.0096 - NMSE: 0.0867 - tot_time: 0h 36m 26.0s\n",
      "\n",
      "Epoch 11: val_NMSE improved from 0.08090 to 0.08088, saving model to /home/rkaushik/Documents/Thesis/MLROM/Kolmogorov/saved_ae/ae_030/checkpoints/checkpoint\n",
      " - saving loss histories at /home/rkaushik/Documents/Thesis/MLROM/Kolmogorov/saved_ae/ae_030/checkpoints/LossHistoriesCheckpoint\n",
      "1250/1250 [==============================] - 12s 10ms/step - loss: 0.0098 - mse: 0.0096 - NMSE: 0.0867 - val_loss: 0.0092 - val_mse: 0.0090 - val_NMSE: 0.0809\n",
      "Epoch 12/200\n",
      "1248/1250 [============================>.] - ETA: 0s - loss: 0.0098 - mse: 0.0096 - NMSE: 0.0867 - tot_time: 0h 36m 38.2s\n",
      "\n",
      "Epoch 12: val_NMSE did not improve from 0.08088\n",
      " - saving loss histories at /home/rkaushik/Documents/Thesis/MLROM/Kolmogorov/saved_ae/ae_030/checkpoints/LossHistoriesCheckpoint\n",
      "1250/1250 [==============================] - 12s 10ms/step - loss: 0.0098 - mse: 0.0096 - NMSE: 0.0867 - val_loss: 0.0092 - val_mse: 0.0090 - val_NMSE: 0.0809\n"
     ]
    },
    {
     "name": "stdout",
     "output_type": "stream",
     "text": [
      "Epoch 13/200\n",
      "1246/1250 [============================>.] - ETA: 0s - loss: 0.0098 - mse: 0.0096 - NMSE: 0.0867 - tot_time: 0h 36m 50.3s\n",
      "\n",
      "Epoch 13: val_NMSE did not improve from 0.08088\n",
      " - saving loss histories at /home/rkaushik/Documents/Thesis/MLROM/Kolmogorov/saved_ae/ae_030/checkpoints/LossHistoriesCheckpoint\n",
      "1250/1250 [==============================] - 12s 10ms/step - loss: 0.0098 - mse: 0.0096 - NMSE: 0.0866 - val_loss: 0.0092 - val_mse: 0.0090 - val_NMSE: 0.0809\n",
      "Epoch 14/200\n",
      "1250/1250 [==============================] - ETA: 0s - loss: 0.0098 - mse: 0.0096 - NMSE: 0.0866 - tot_time: 0h 37m 2.5s\n",
      "\n",
      "Epoch 14: val_NMSE did not improve from 0.08088\n",
      " - saving loss histories at /home/rkaushik/Documents/Thesis/MLROM/Kolmogorov/saved_ae/ae_030/checkpoints/LossHistoriesCheckpoint\n",
      "1250/1250 [==============================] - 12s 10ms/step - loss: 0.0098 - mse: 0.0096 - NMSE: 0.0866 - val_loss: 0.0092 - val_mse: 0.0090 - val_NMSE: 0.0809\n",
      "Epoch 15/200\n",
      "1247/1250 [============================>.] - ETA: 0s - loss: 0.0098 - mse: 0.0096 - NMSE: 0.0867 - tot_time: 0h 37m 14.8s\n",
      "\n",
      "Epoch 15: val_NMSE did not improve from 0.08088\n",
      " - saving loss histories at /home/rkaushik/Documents/Thesis/MLROM/Kolmogorov/saved_ae/ae_030/checkpoints/LossHistoriesCheckpoint\n",
      "1250/1250 [==============================] - 12s 10ms/step - loss: 0.0098 - mse: 0.0096 - NMSE: 0.0867 - val_loss: 0.0092 - val_mse: 0.0090 - val_NMSE: 0.0809\n",
      "Epoch 16/200\n",
      "1248/1250 [============================>.] - ETA: 0s - loss: 0.0098 - mse: 0.0096 - NMSE: 0.0866 - tot_time: 0h 37m 27.1s\n",
      "\n",
      "Epoch 16: val_NMSE did not improve from 0.08088\n",
      " - saving loss histories at /home/rkaushik/Documents/Thesis/MLROM/Kolmogorov/saved_ae/ae_030/checkpoints/LossHistoriesCheckpoint\n",
      "1250/1250 [==============================] - 12s 10ms/step - loss: 0.0098 - mse: 0.0096 - NMSE: 0.0866 - val_loss: 0.0092 - val_mse: 0.0090 - val_NMSE: 0.0809\n",
      "Epoch 17/200\n",
      "1246/1250 [============================>.] - ETA: 0s - loss: 0.0098 - mse: 0.0096 - NMSE: 0.0866 - tot_time: 0h 37m 39.1s\n",
      "\n",
      "Epoch 17: val_NMSE did not improve from 0.08088\n",
      " - saving loss histories at /home/rkaushik/Documents/Thesis/MLROM/Kolmogorov/saved_ae/ae_030/checkpoints/LossHistoriesCheckpoint\n",
      "1250/1250 [==============================] - 12s 10ms/step - loss: 0.0098 - mse: 0.0096 - NMSE: 0.0865 - val_loss: 0.0092 - val_mse: 0.0090 - val_NMSE: 0.0809\n",
      "Epoch 18/200\n",
      "1248/1250 [============================>.] - ETA: 0s - loss: 0.0098 - mse: 0.0096 - NMSE: 0.0867 - tot_time: 0h 37m 51.4s\n",
      "\n",
      "Epoch 18: val_NMSE did not improve from 0.08088\n",
      " - saving loss histories at /home/rkaushik/Documents/Thesis/MLROM/Kolmogorov/saved_ae/ae_030/checkpoints/LossHistoriesCheckpoint\n",
      "1250/1250 [==============================] - 12s 10ms/step - loss: 0.0098 - mse: 0.0096 - NMSE: 0.0867 - val_loss: 0.0092 - val_mse: 0.0090 - val_NMSE: 0.0809\n",
      "Epoch 19/200\n",
      "1246/1250 [============================>.] - ETA: 0s - loss: 0.0098 - mse: 0.0096 - NMSE: 0.0865 - tot_time: 0h 38m 3.4s\n",
      "\n",
      "Epoch 19: val_NMSE did not improve from 0.08088\n",
      " - saving loss histories at /home/rkaushik/Documents/Thesis/MLROM/Kolmogorov/saved_ae/ae_030/checkpoints/LossHistoriesCheckpoint\n",
      "1250/1250 [==============================] - 12s 10ms/step - loss: 0.0098 - mse: 0.0096 - NMSE: 0.0865 - val_loss: 0.0092 - val_mse: 0.0090 - val_NMSE: 0.0809\n",
      "Epoch 20/200\n",
      "1248/1250 [============================>.] - ETA: 0s - loss: 0.0098 - mse: 0.0096 - NMSE: 0.0866 - tot_time: 0h 38m 15.7s\n",
      "\n",
      "Epoch 20: val_NMSE did not improve from 0.08088\n",
      " - saving loss histories at /home/rkaushik/Documents/Thesis/MLROM/Kolmogorov/saved_ae/ae_030/checkpoints/LossHistoriesCheckpoint\n",
      "1250/1250 [==============================] - 12s 10ms/step - loss: 0.0098 - mse: 0.0096 - NMSE: 0.0866 - val_loss: 0.0092 - val_mse: 0.0090 - val_NMSE: 0.0809\n",
      "Epoch 21/200\n",
      "1249/1250 [============================>.] - ETA: 0s - loss: 0.0098 - mse: 0.0096 - NMSE: 0.0865Restoring model weights from the end of the best epoch: 11.\n",
      " - tot_time: 0h 38m 28.0s\n",
      "\n",
      "Epoch 21: val_NMSE did not improve from 0.08088\n",
      " - saving loss histories at /home/rkaushik/Documents/Thesis/MLROM/Kolmogorov/saved_ae/ae_030/checkpoints/LossHistoriesCheckpoint\n",
      "1250/1250 [==============================] - 12s 10ms/step - loss: 0.0098 - mse: 0.0096 - NMSE: 0.0865 - val_loss: 0.0092 - val_mse: 0.0090 - val_NMSE: 0.0809\n",
      "Epoch 21: early stopping\n"
     ]
    }
   ],
   "source": [
    "# compiling the network\n",
    "ae_net.compile(\n",
    "    optimizer=tf.keras.optimizers.Adam(learning_rate=learning_rate_list[0]),\n",
    "    loss=losses.MeanSquaredError(),\n",
    "#     loss=losses.BinaryCrossentropy(from_logits=False),\n",
    "    run_eagerly=False,\n",
    "    metrics=['mse', NMSE_metric]\n",
    ")\n",
    "\n",
    "if behaviour == 'loadCheckpointAndContinueTraining':\n",
    "    # this loads the weights/attributes of the optimizer as well\n",
    "    if strategy is not None:\n",
    "        with strategy.scope():\n",
    "            ae_net.load_weights(wt_file)\n",
    "    else:\n",
    "        ae_net.load_weights(wt_file)\n",
    "\n",
    "if behaviour == 'initialiseAndTrainFromScratch' or behaviour == 'loadCheckpointAndContinueTraining':\n",
    "    # implementing early stopping\n",
    "    early_stopping_cb = tf.keras.callbacks.EarlyStopping(\n",
    "        monitor='val_NMSE',\n",
    "        patience=patience,\n",
    "        restore_best_weights=True,\n",
    "        verbose=True,\n",
    "        min_delta=min_delta\n",
    "    )\n",
    "\n",
    "    # time callback for each epoch\n",
    "    timekeeper_cb = mytimecallback()\n",
    "\n",
    "    # model checkpoint callback\n",
    "    dir_name_ckpt = dir_name_ae+dir_sep+'checkpoints'\n",
    "    if not os.path.isdir(dir_name_ckpt):\n",
    "        os.makedirs(dir_name_ckpt)\n",
    "    checkpoint_cb = tf.keras.callbacks.ModelCheckpoint(\n",
    "        filepath=dir_name_ckpt+dir_sep+'checkpoint',#+'/checkpoint--loss={loss:.4f}--vall_loss={val_loss:.4f}',\n",
    "        monitor='val_NMSE',\n",
    "        save_best_only=True,\n",
    "        save_weights_only=True,\n",
    "        verbose=2,\n",
    "        period=1  # saves every 5 epochs\n",
    "    )\n",
    "\n",
    "    # save losses callback\n",
    "    savelosses_cb = SaveLosses(\n",
    "        filepath=dir_name_ckpt+dir_sep+'LossHistoriesCheckpoint',\n",
    "        val_loss_arr=savelosses_cb_vallossarr,\n",
    "        train_loss_arr=savelosses_cb_trainlossarr,\n",
    "        total_epochs=epochs,\n",
    "        period=1)\n",
    "\n",
    "    # training the network\n",
    "    for i in range(starting_lr_idx, len(learning_rate_list)):\n",
    "        learning_rate = learning_rate_list[i]\n",
    "        K.set_value(ae_net.optimizer.lr, learning_rate)\n",
    "\n",
    "        savelosses_cb.update_lr_idx(i)\n",
    "\n",
    "        if i == starting_lr_idx:\n",
    "            EPOCHS = num_epochs_left\n",
    "            savelosses_cb.update_offset(epochs-num_epochs_left)\n",
    "        else:\n",
    "            EPOCHS = epochs\n",
    "            savelosses_cb.update_offset(0)\n",
    "\n",
    "        total_s_len = 80\n",
    "        sep_lr_s = ' LEARNING RATE : {} '.format(learning_rate)\n",
    "        sep_lr_s = int((total_s_len - len(sep_lr_s))//2)*'-' + sep_lr_s\n",
    "        sep_lr_s = sep_lr_s + (total_s_len-len(sep_lr_s))*'-'\n",
    "        print('\\n\\n' + '-'*len(sep_lr_s))\n",
    "        print('\\n' + sep_lr_s+'\\n')\n",
    "        print('-'*len(sep_lr_s) + '\\n\\n')\n",
    "        \n",
    "        history = ae_net.fit(training_data, training_data,\n",
    "            epochs=EPOCHS,\n",
    "            batch_size=batch_size,\n",
    "#             validation_split=val_split/train_split,\n",
    "            validation_data=(val_data, val_data),\n",
    "            callbacks=[early_stopping_cb, timekeeper_cb, checkpoint_cb, savelosses_cb],\n",
    "            verbose=1\n",
    "        )\n",
    "\n",
    "        val_loss_hist.extend(history.history['val_loss'])\n",
    "        train_loss_hist.extend(history.history['loss'])\n",
    "        \n",
    "        val_MSE_hist.extend(history.history['val_mse'])\n",
    "        train_MSE_hist.extend(history.history['mse'])\n",
    "        \n",
    "        val_NMSE_hist.extend(history.history['val_NMSE'])\n",
    "        train_NMSE_hist.extend(history.history['NMSE'])\n",
    "        \n",
    "        if use_attention_module == True:\n",
    "            for j in range(len(ae_net.encoder_attention_modules_list)):\n",
    "                key = 'encoder_attention_module_{}_lambda'.format(j)\n",
    "                lst1 = history.history[key]\n",
    "                lst2 = encoder_attention_lambdas[key]\n",
    "                lst2.extend(lst1)\n",
    "                encoder_attention_lambdas[key] = lst2\n",
    "            for j in range(len(ae_net.decoder_attention_modules_list)):\n",
    "                key = 'decoder_attention_module_{}_lambda'.format(j)\n",
    "                lst1 = history.history[key]\n",
    "                lst2 = decoder_attention_lambdas[key]\n",
    "                lst2.extend(lst1)\n",
    "                decoder_attention_lambdas[key] = lst2\n",
    "        \n",
    "        if i == starting_lr_idx:\n",
    "            lr_change[i+1] += len(history.history['val_loss'])\n",
    "        else:\n",
    "            lr_change.append(lr_change[i]+len(history.history['val_loss']))"
   ]
  },
  {
   "cell_type": "code",
   "execution_count": 26,
   "metadata": {},
   "outputs": [],
   "source": [
    "from io import StringIO\n",
    "import sys\n",
    "\n",
    "class Capturing(list):\n",
    "    def __enter__(self):\n",
    "        self._stdout = sys.stdout\n",
    "        sys.stdout = self._stringio = StringIO()\n",
    "        return self\n",
    "\n",
    "    def __exit__(self, *args):\n",
    "        self.extend(self._stringio.getvalue().splitlines())\n",
    "        del self._stringio\n",
    "        sys.stdout = self._stdout"
   ]
  },
  {
   "cell_type": "code",
   "execution_count": 27,
   "metadata": {},
   "outputs": [],
   "source": [
    "with Capturing() as output:\n",
    "    ae_net.encoder_net.summary()\n",
    "\n",
    "with open(dir_name_ae + '/ae_encoder_summary.txt', 'w') as f:\n",
    "    for line in output:\n",
    "        f.write(line + '\\n')"
   ]
  },
  {
   "cell_type": "code",
   "execution_count": 28,
   "metadata": {},
   "outputs": [],
   "source": [
    "with Capturing() as output:\n",
    "    ae_net.decoder_net.summary()\n",
    "\n",
    "with open(dir_name_ae + '/ae_decoder_summary.txt', 'w') as f:\n",
    "    for line in output:\n",
    "        f.write(line + '\\n')"
   ]
  },
  {
   "cell_type": "code",
   "execution_count": null,
   "metadata": {},
   "outputs": [],
   "source": []
  },
  {
   "cell_type": "code",
   "execution_count": null,
   "metadata": {},
   "outputs": [],
   "source": []
  },
  {
   "cell_type": "code",
   "execution_count": null,
   "metadata": {},
   "outputs": [],
   "source": []
  },
  {
   "cell_type": "code",
   "execution_count": 29,
   "metadata": {},
   "outputs": [
    {
     "name": "stdout",
     "output_type": "stream",
     "text": [
      "Model: \"model_2\"\n",
      "_________________________________________________________________\n",
      " Layer (type)                Output Shape              Param #   \n",
      "=================================================================\n",
      " input_3 (InputLayer)        [(None, 2, 50, 50)]       0         \n",
      "                                                                 \n",
      " model (Functional)          (None, 2, 4, 4)           13778     \n",
      "                                                                 \n",
      " model_1 (Functional)        (None, 2, 50, 50)         9672      \n",
      "                                                                 \n",
      "=================================================================\n",
      "Total params: 23,450\n",
      "Trainable params: 13,192\n",
      "Non-trainable params: 10,258\n",
      "_________________________________________________________________\n"
     ]
    }
   ],
   "source": [
    "ae_net.ae_net.summary()"
   ]
  },
  {
   "cell_type": "code",
   "execution_count": 30,
   "metadata": {
    "colab": {
     "base_uri": "https://localhost:8080/"
    },
    "executionInfo": {
     "elapsed": 9705,
     "status": "ok",
     "timestamp": 1666788875924,
     "user": {
      "displayName": "Rohan Kaushik",
      "userId": "13918477614376051685"
     },
     "user_tz": -120
    },
    "id": "d_Od0ul4P9bK",
    "outputId": "860e9f94-e593-4a74-fcff-6a6657d925de"
   },
   "outputs": [
    {
     "name": "stdout",
     "output_type": "stream",
     "text": [
      "79/79 [==============================] - 1s 10ms/step - loss: 0.0093 - mse: 0.0091 - NMSE: 0.0821\n"
     ]
    }
   ],
   "source": [
    "if behaviour == 'initialiseAndTrainFromScratch' or behaviour == 'loadCheckpointAndContinueTraining':\n",
    "    test_metrics = ae_net.evaluate(\n",
    "        testing_data, testing_data,\n",
    "    )\n",
    "#     train_metrics = ae_net.evaluate(training_data, training_data)\n",
    "#     val_metrics = ae_net.evaluate(val_data, val_data)\n",
    "\n",
    "    save_path = dir_name_ae+dir_sep+'final_net'\n",
    "\n",
    "    if not os.path.isdir(save_path):\n",
    "        os.makedirs(save_path)\n",
    "\n",
    "    save_dict = {\n",
    "        'val_loss_hist':val_loss_hist,\n",
    "        'train_loss_hist':train_loss_hist,\n",
    "        'val_MSE_hist':val_MSE_hist,\n",
    "        'train_MSE_hist':train_MSE_hist,\n",
    "        'val_NMSE_hist':val_NMSE_hist,\n",
    "        'train_NMSE_hist':train_NMSE_hist,\n",
    "        'lr_change':lr_change,\n",
    "        'test_loss':test_metrics[0],\n",
    "        'test_mse':test_metrics[1],\n",
    "#         'train_loss':train_metrics[0],\n",
    "#         'train_mse':train_metrics[1],\n",
    "#         'val_loss':val_metrics[0],\n",
    "#         'val_mse':val_metrics[1],\n",
    "    }\n",
    "    if use_attention_module == True:\n",
    "        for i in range(len(ae_net.encoder_attention_modules_list)):\n",
    "            key = 'encoder_attention_module_{}_lambda'.format(i)\n",
    "            save_dict[key] = encoder_attention_lambdas[key]\n",
    "        for i in range(len(ae_net.decoder_attention_modules_list)):\n",
    "            key = 'decoder_attention_module_{}_lambda'.format(i)\n",
    "            save_dict[key] = decoder_attention_lambdas[key]\n",
    "\n",
    "    with open(save_path+dir_sep+'losses.txt', 'w') as f:\n",
    "        f.write(str(save_dict))\n",
    "\n",
    "    np.savez(\n",
    "        save_path+dir_sep+'losses',\n",
    "        **save_dict\n",
    "    )\n",
    "        \n",
    "\n",
    "    ae_net.save_everything(\n",
    "        file_name=save_path+dir_sep+'final_net')"
   ]
  },
  {
   "cell_type": "code",
   "execution_count": 31,
   "metadata": {
    "colab": {
     "base_uri": "https://localhost:8080/"
    },
    "executionInfo": {
     "elapsed": 7,
     "status": "ok",
     "timestamp": 1666788875925,
     "user": {
      "displayName": "Rohan Kaushik",
      "userId": "13918477614376051685"
     },
     "user_tz": -120
    },
    "id": "Dy8GNcgMVD4T",
    "outputId": "e50e8738-9da1-43de-e551-43f47b64135e"
   },
   "outputs": [
    {
     "name": "stdout",
     "output_type": "stream",
     "text": [
      "lr_change :  [0, 112, 165, 186]\n"
     ]
    }
   ],
   "source": [
    "print('lr_change : ', lr_change)"
   ]
  },
  {
   "cell_type": "code",
   "execution_count": null,
   "metadata": {},
   "outputs": [],
   "source": []
  },
  {
   "cell_type": "code",
   "execution_count": 32,
   "metadata": {
    "colab": {
     "base_uri": "https://localhost:8080/",
     "height": 279
    },
    "executionInfo": {
     "elapsed": 765,
     "status": "ok",
     "timestamp": 1666788876686,
     "user": {
      "displayName": "Rohan Kaushik",
      "userId": "13918477614376051685"
     },
     "user_tz": -120
    },
    "id": "ewTz1COFSocM",
    "outputId": "15bc2be5-d571-433e-b5cd-9c722f38b48b",
    "scrolled": false
   },
   "outputs": [
    {
     "data": {
      "image/png": "[encoded data removed]",
      "text/plain": [
       "<Figure size 640x480 with 1 Axes>"
      ]
     },
     "metadata": {},
     "output_type": "display_data"
    },
    {
     "data": {
      "image/png": "[encoded data removed]",
      "text/plain": [
       "<Figure size 640x480 with 1 Axes>"
      ]
     },
     "metadata": {},
     "output_type": "display_data"
    },
    {
     "data": {
      "text/plain": [
       "<Figure size 640x480 with 0 Axes>"
      ]
     },
     "metadata": {},
     "output_type": "display_data"
    },
    {
     "data": {
      "image/png": "[encoded data removed]",
      "text/plain": [
       "<Figure size 640x480 with 1 Axes>"
      ]
     },
     "metadata": {},
     "output_type": "display_data"
    },
    {
     "data": {
      "text/plain": [
       "<Figure size 640x480 with 0 Axes>"
      ]
     },
     "metadata": {},
     "output_type": "display_data"
    }
   ],
   "source": [
    "# plotting losses\n",
    "dir_name_plot = dir_name_ae + '/plots'\n",
    "if not os.path.isdir(dir_name_plot):\n",
    "    os.makedirs(dir_name_plot)\n",
    "\n",
    "# Visualize loss history\n",
    "fig, ax = plot_losses(\n",
    "    training_loss=train_loss_hist,\n",
    "    val_loss=val_loss_hist,\n",
    "    lr_change=lr_change,\n",
    "    learning_rate_list=learning_rate_list\n",
    ")\n",
    "\n",
    "plt.savefig(dir_name_plot + '{ds}loss_history.png'.format(ds=dir_sep), dpi=300, bbox_inches='tight')\n",
    "plt.show()\n",
    "\n",
    "\n",
    "fig, ax = plot_losses(\n",
    "    training_loss=train_MSE_hist,\n",
    "    val_loss=val_MSE_hist,\n",
    "    lr_change=lr_change,\n",
    "    learning_rate_list=learning_rate_list,\n",
    "    legend_list=['Training MSE', 'Validation MSE'],\n",
    "    xlabel='Epoch',\n",
    "    ylabel='MSE',\n",
    ")\n",
    "plt.savefig(dir_name_plot+'/MSE_history.png', dpi=300, bbox_inches='tight')\n",
    "plt.show()\n",
    "plt.clf()\n",
    "\n",
    "\n",
    "fig, ax = plot_losses(\n",
    "    training_loss=train_NMSE_hist,\n",
    "    val_loss=val_NMSE_hist,\n",
    "    lr_change=lr_change,\n",
    "    learning_rate_list=learning_rate_list,\n",
    "    legend_list=['Training NMSE', 'Validation NMSE'],\n",
    "    xlabel='Epoch',\n",
    "    ylabel='NMSE',\n",
    ")\n",
    "plt.savefig(dir_name_plot+'/NMSE_history.png', dpi=300, bbox_inches='tight')\n",
    "plt.show()\n",
    "plt.clf()"
   ]
  },
  {
   "cell_type": "code",
   "execution_count": 33,
   "metadata": {
    "colab": {
     "base_uri": "https://localhost:8080/"
    },
    "executionInfo": {
     "elapsed": 881,
     "status": "ok",
     "timestamp": 1666788877562,
     "user": {
      "displayName": "Rohan Kaushik",
      "userId": "13918477614376051685"
     },
     "user_tz": -120
    },
    "id": "wwt4brHcOaXi",
    "outputId": "7ba39105-aa8e-49e8-dbfd-619069123fdd"
   },
   "outputs": [],
   "source": [
    "if use_attention_module == True:\n",
    "    # plotting encoder attention lambdas\n",
    "    plot_lst = []\n",
    "    legend_lst = []\n",
    "    for i in range(len(ae_net.encoder_attention_modules_list)):\n",
    "        key = 'encoder_attention_module_{}_lambda'.format(i)\n",
    "        plot_lst.append(encoder_attention_lambdas[key])\n",
    "        legend_lst.append(\"attention module (encoder) {}\".format(i+1))\n",
    "    fig, ax = plot_losses(\n",
    "        training_loss=plot_lst[0],\n",
    "        val_loss=None,\n",
    "        more_plot_arrs_lst=plot_lst[1:] if len(plot_lst)>1 else [],\n",
    "        lr_change=lr_change,\n",
    "        learning_rate_list=learning_rate_list,\n",
    "        legend_list=legend_lst,\n",
    "        xlabel='Epoch',\n",
    "        ylabel=r\"$\\lambda_{attention}$\",\n",
    "        plot_type='plot',\n",
    "        traininglossplot_args=[],\n",
    "        traininglossplot_kwargs={},\n",
    "        epoch_count_begin=0,\n",
    "        epoch_count_end=len(plot_lst[0])-1,\n",
    "    )\n",
    "    plt.savefig(dir_name_plot+'/attention_lambdas_encoder.png', dpi=300, bbox_inches='tight')\n",
    "    plt.show()\n",
    "    plt.clf()\n",
    "    \n",
    "    # plotting decoder attention lambdas\n",
    "    plot_lst = []\n",
    "    legend_lst = []\n",
    "    for i in range(len(ae_net.decoder_attention_modules_list)):\n",
    "        key = 'decoder_attention_module_{}_lambda'.format(i)\n",
    "        plot_lst.append(decoder_attention_lambdas[key])\n",
    "        legend_lst.append(\"attention module (decoder) {}\".format(i+1))\n",
    "    fig, ax = plot_losses(\n",
    "        training_loss=plot_lst[0],\n",
    "        val_loss=None,\n",
    "        more_plot_arrs_lst=plot_lst[1:] if len(plot_lst)>1 else [],\n",
    "        lr_change=lr_change,\n",
    "        learning_rate_list=learning_rate_list,\n",
    "        legend_list=legend_lst,\n",
    "        xlabel='Epoch',\n",
    "        ylabel=r\"$\\lambda_{attention}$\",\n",
    "        plot_type='plot',\n",
    "        traininglossplot_args=[],\n",
    "        traininglossplot_kwargs={},\n",
    "        epoch_count_begin=0,\n",
    "        epoch_count_end=len(plot_lst[0])-1,\n",
    "    )\n",
    "    plt.savefig(dir_name_plot+'/attention_lambdas_decoder.png', dpi=300, bbox_inches='tight')\n",
    "    plt.show()\n",
    "    plt.clf()"
   ]
  },
  {
   "cell_type": "markdown",
   "metadata": {
    "colab": {
     "base_uri": "https://localhost:8080/",
     "height": 1000,
     "output_embedded_package_id": "1kzRwBdNfA2o28NxHkc2fku7QnFPAI8Bo"
    },
    "executionInfo": {
     "elapsed": 4835,
     "status": "ok",
     "timestamp": 1666788882395,
     "user": {
      "displayName": "Rohan Kaushik",
      "userId": "13918477614376051685"
     },
     "user_tz": -120
    },
    "id": "_6rNhThyQrKc",
    "outputId": "fdeeb3f5-009a-404e-8856-b7655d596a88"
   },
   "source": [
    "# POD Comparison"
   ]
  },
  {
   "cell_type": "code",
   "execution_count": 34,
   "metadata": {
    "executionInfo": {
     "elapsed": 17515,
     "status": "ok",
     "timestamp": 1666788899903,
     "user": {
      "displayName": "Rohan Kaushik",
      "userId": "13918477614376051685"
     },
     "user_tz": -120
    },
    "id": "cAiMV0iU0EpK"
   },
   "outputs": [],
   "source": [
    "# pod_training_data = np.empty(shape=(training_data.shape[0], training_data.shape[1]*training_data.shape[2]*training_data.shape[3]))\n",
    "# pod_training_data[:, :] = np.reshape(training_data, (training_data.shape[0], training_data.shape[1]*training_data.shape[2]*training_data.shape[3]))\n",
    "\n",
    "# pod_centering_means = np.mean(pod_training_data, axis=0)\n",
    "# pod_mean_centered_data = pod_training_data - pod_centering_means"
   ]
  },
  {
   "cell_type": "code",
   "execution_count": 35,
   "metadata": {
    "scrolled": true
   },
   "outputs": [],
   "source": [
    "# C = np.transpose(pod_mean_centered_data) @ pod_mean_centered_data\n",
    "# C /= pod_mean_centered_data.shape[0] - 1"
   ]
  },
  {
   "cell_type": "code",
   "execution_count": 36,
   "metadata": {
    "colab": {
     "base_uri": "https://localhost:8080/"
    },
    "executionInfo": {
     "elapsed": 600,
     "status": "ok",
     "timestamp": 1666788900494,
     "user": {
      "displayName": "Rohan Kaushik",
      "userId": "13918477614376051685"
     },
     "user_tz": -120
    },
    "id": "jVqsAwsY0Amw",
    "outputId": "95dd7bc9-f2b0-421e-a1b4-3e7e594cd44a"
   },
   "outputs": [],
   "source": [
    "# eigenvals, eigenvecs = np.linalg.eig(C)"
   ]
  },
  {
   "cell_type": "code",
   "execution_count": 37,
   "metadata": {
    "colab": {
     "base_uri": "https://localhost:8080/",
     "height": 1000
    },
    "executionInfo": {
     "elapsed": 2127,
     "status": "ok",
     "timestamp": 1666788902619,
     "user": {
      "displayName": "Rohan Kaushik",
      "userId": "13918477614376051685"
     },
     "user_tz": -120
    },
    "id": "wjgPNitSrt5p",
    "outputId": "d60c9340-28f4-479b-8b66-5ee2a5fc5cee"
   },
   "outputs": [],
   "source": [
    "# abs_eigenvals = np.abs(eigenvals)\n",
    "# idx = np.argsort(abs_eigenvals)"
   ]
  },
  {
   "cell_type": "code",
   "execution_count": 38,
   "metadata": {
    "executionInfo": {
     "elapsed": 5242,
     "status": "ok",
     "timestamp": 1666788907858,
     "user": {
      "displayName": "Rohan Kaushik",
      "userId": "13918477614376051685"
     },
     "user_tz": -120
    },
    "id": "Jv8PgBgzV1_s"
   },
   "outputs": [],
   "source": [
    "# idx = idx[::-1]\n",
    "# W = eigenvecs[:, idx[0:4*4*enc_filters[-1]]]"
   ]
  },
  {
   "cell_type": "code",
   "execution_count": 39,
   "metadata": {
    "executionInfo": {
     "elapsed": 17,
     "status": "ok",
     "timestamp": 1666788907859,
     "user": {
      "displayName": "Rohan Kaushik",
      "userId": "13918477614376051685"
     },
     "user_tz": -120
    },
    "id": "wnLnqg0Jrt5t"
   },
   "outputs": [],
   "source": [
    "# reconstructed_val_data = val_data.reshape(val_data.shape[0], training_data.shape[1]*training_data.shape[2]*training_data.shape[3]) @ W @ W.transpose()\n",
    "# reconstructed_val_data = np.reshape(reconstructed_val_data, val_data.shape)"
   ]
  },
  {
   "cell_type": "code",
   "execution_count": 40,
   "metadata": {},
   "outputs": [],
   "source": [
    "# val_recon_MSE = np.reshape((reconstructed_val_data - val_data)**2, (val_data.shape[0], training_data.shape[1]*training_data.shape[2]*training_data.shape[3]))\n",
    "# val_recon_MSE = np.mean(np.sum(val_recon_MSE, axis=1), axis=0)"
   ]
  },
  {
   "cell_type": "code",
   "execution_count": 41,
   "metadata": {
    "scrolled": true
   },
   "outputs": [],
   "source": [
    "# print(val_recon_MSE, val_recon_MSE/np.sum(time_stddev**2), np.sum(time_stddev**2))"
   ]
  },
  {
   "cell_type": "code",
   "execution_count": 42,
   "metadata": {},
   "outputs": [],
   "source": [
    "# abs_eigenvals[idx[0:4*4*2]]"
   ]
  },
  {
   "cell_type": "code",
   "execution_count": null,
   "metadata": {},
   "outputs": [],
   "source": []
  },
  {
   "cell_type": "code",
   "execution_count": 43,
   "metadata": {},
   "outputs": [
    {
     "name": "stdout",
     "output_type": "stream",
     "text": [
      "\n"
     ]
    }
   ],
   "source": [
    "s = ''\n",
    "for i in range(len(ae_net.encoder_layers_list)):\n",
    "    l = ae_net.encoder_layers_list[i]\n",
    "    name = str(l.name)\n",
    "    if name.startswith('attention_module'):\n",
    "        # print(i, name, l.lambda_att.numpy())\n",
    "        s += 'i : {}, name : {}, lambda_att : {}\\n'.format(i, name, l.lambda_att.numpy())\n",
    "print(s)\n",
    "\n",
    "if s != '':\n",
    "    with open(dir_name_ae + '/attention_lambdas_encoder.txt', 'w') as f:\n",
    "        f.write(s)"
   ]
  },
  {
   "cell_type": "code",
   "execution_count": 44,
   "metadata": {},
   "outputs": [
    {
     "name": "stdout",
     "output_type": "stream",
     "text": [
      "\n"
     ]
    }
   ],
   "source": [
    "s = ''\n",
    "for i in range(len(ae_net.decoder_layers_list)):\n",
    "    l = ae_net.decoder_layers_list[i]\n",
    "    name = str(l.name)\n",
    "    if name.startswith('attention_module'):\n",
    "        # print(i, name, l.lambda_att.numpy())\n",
    "        s += 'i : {}, name : {}, lambda_att : {}\\n'.format(i, name, l.lambda_att.numpy())\n",
    "print(s)\n",
    "\n",
    "if s != '':\n",
    "    with open(dir_name_ae + '/attention_lambdas_decoder.txt', 'w') as f:\n",
    "        f.write(s)"
   ]
  },
  {
   "cell_type": "code",
   "execution_count": 45,
   "metadata": {
    "scrolled": false
   },
   "outputs": [
    {
     "name": "stdout",
     "output_type": "stream",
     "text": [
      "0 periodic_padding <tf.Variable 'periodic_padding/M_mat:0' shape=(52, 50) dtype=float32, numpy=\n",
      "array([[0., 0., 0., ..., 0., 0., 1.],\n",
      "       [1., 0., 0., ..., 0., 0., 0.],\n",
      "       [0., 1., 0., ..., 0., 0., 0.],\n",
      "       ...,\n",
      "       [0., 0., 0., ..., 0., 1., 0.],\n",
      "       [0., 0., 0., ..., 0., 0., 1.],\n",
      "       [1., 0., 0., ..., 0., 0., 0.]], dtype=float32)>\n",
      "4 periodic_padding_1 <tf.Variable 'periodic_padding_1/M_mat:0' shape=(27, 25) dtype=float32, numpy=\n",
      "array([[0., 0., 0., 0., 0., 0., 0., 0., 0., 0., 0., 0., 0., 0., 0., 0.,\n",
      "        0., 0., 0., 0., 0., 0., 0., 0., 1.],\n",
      "       [1., 0., 0., 0., 0., 0., 0., 0., 0., 0., 0., 0., 0., 0., 0., 0.,\n",
      "        0., 0., 0., 0., 0., 0., 0., 0., 0.],\n",
      "       [0., 1., 0., 0., 0., 0., 0., 0., 0., 0., 0., 0., 0., 0., 0., 0.,\n",
      "        0., 0., 0., 0., 0., 0., 0., 0., 0.],\n",
      "       [0., 0., 1., 0., 0., 0., 0., 0., 0., 0., 0., 0., 0., 0., 0., 0.,\n",
      "        0., 0., 0., 0., 0., 0., 0., 0., 0.],\n",
      "       [0., 0., 0., 1., 0., 0., 0., 0., 0., 0., 0., 0., 0., 0., 0., 0.,\n",
      "        0., 0., 0., 0., 0., 0., 0., 0., 0.],\n",
      "       [0., 0., 0., 0., 1., 0., 0., 0., 0., 0., 0., 0., 0., 0., 0., 0.,\n",
      "        0., 0., 0., 0., 0., 0., 0., 0., 0.],\n",
      "       [0., 0., 0., 0., 0., 1., 0., 0., 0., 0., 0., 0., 0., 0., 0., 0.,\n",
      "        0., 0., 0., 0., 0., 0., 0., 0., 0.],\n",
      "       [0., 0., 0., 0., 0., 0., 1., 0., 0., 0., 0., 0., 0., 0., 0., 0.,\n",
      "        0., 0., 0., 0., 0., 0., 0., 0., 0.],\n",
      "       [0., 0., 0., 0., 0., 0., 0., 1., 0., 0., 0., 0., 0., 0., 0., 0.,\n",
      "        0., 0., 0., 0., 0., 0., 0., 0., 0.],\n",
      "       [0., 0., 0., 0., 0., 0., 0., 0., 1., 0., 0., 0., 0., 0., 0., 0.,\n",
      "        0., 0., 0., 0., 0., 0., 0., 0., 0.],\n",
      "       [0., 0., 0., 0., 0., 0., 0., 0., 0., 1., 0., 0., 0., 0., 0., 0.,\n",
      "        0., 0., 0., 0., 0., 0., 0., 0., 0.],\n",
      "       [0., 0., 0., 0., 0., 0., 0., 0., 0., 0., 1., 0., 0., 0., 0., 0.,\n",
      "        0., 0., 0., 0., 0., 0., 0., 0., 0.],\n",
      "       [0., 0., 0., 0., 0., 0., 0., 0., 0., 0., 0., 1., 0., 0., 0., 0.,\n",
      "        0., 0., 0., 0., 0., 0., 0., 0., 0.],\n",
      "       [0., 0., 0., 0., 0., 0., 0., 0., 0., 0., 0., 0., 1., 0., 0., 0.,\n",
      "        0., 0., 0., 0., 0., 0., 0., 0., 0.],\n",
      "       [0., 0., 0., 0., 0., 0., 0., 0., 0., 0., 0., 0., 0., 1., 0., 0.,\n",
      "        0., 0., 0., 0., 0., 0., 0., 0., 0.],\n",
      "       [0., 0., 0., 0., 0., 0., 0., 0., 0., 0., 0., 0., 0., 0., 1., 0.,\n",
      "        0., 0., 0., 0., 0., 0., 0., 0., 0.],\n",
      "       [0., 0., 0., 0., 0., 0., 0., 0., 0., 0., 0., 0., 0., 0., 0., 1.,\n",
      "        0., 0., 0., 0., 0., 0., 0., 0., 0.],\n",
      "       [0., 0., 0., 0., 0., 0., 0., 0., 0., 0., 0., 0., 0., 0., 0., 0.,\n",
      "        1., 0., 0., 0., 0., 0., 0., 0., 0.],\n",
      "       [0., 0., 0., 0., 0., 0., 0., 0., 0., 0., 0., 0., 0., 0., 0., 0.,\n",
      "        0., 1., 0., 0., 0., 0., 0., 0., 0.],\n",
      "       [0., 0., 0., 0., 0., 0., 0., 0., 0., 0., 0., 0., 0., 0., 0., 0.,\n",
      "        0., 0., 1., 0., 0., 0., 0., 0., 0.],\n",
      "       [0., 0., 0., 0., 0., 0., 0., 0., 0., 0., 0., 0., 0., 0., 0., 0.,\n",
      "        0., 0., 0., 1., 0., 0., 0., 0., 0.],\n",
      "       [0., 0., 0., 0., 0., 0., 0., 0., 0., 0., 0., 0., 0., 0., 0., 0.,\n",
      "        0., 0., 0., 0., 1., 0., 0., 0., 0.],\n",
      "       [0., 0., 0., 0., 0., 0., 0., 0., 0., 0., 0., 0., 0., 0., 0., 0.,\n",
      "        0., 0., 0., 0., 0., 1., 0., 0., 0.],\n",
      "       [0., 0., 0., 0., 0., 0., 0., 0., 0., 0., 0., 0., 0., 0., 0., 0.,\n",
      "        0., 0., 0., 0., 0., 0., 1., 0., 0.],\n",
      "       [0., 0., 0., 0., 0., 0., 0., 0., 0., 0., 0., 0., 0., 0., 0., 0.,\n",
      "        0., 0., 0., 0., 0., 0., 0., 1., 0.],\n",
      "       [0., 0., 0., 0., 0., 0., 0., 0., 0., 0., 0., 0., 0., 0., 0., 0.,\n",
      "        0., 0., 0., 0., 0., 0., 0., 0., 1.],\n",
      "       [1., 0., 0., 0., 0., 0., 0., 0., 0., 0., 0., 0., 0., 0., 0., 0.,\n",
      "        0., 0., 0., 0., 0., 0., 0., 0., 0.]], dtype=float32)>\n",
      "8 periodic_padding_2 <tf.Variable 'periodic_padding_2/M_mat:0' shape=(15, 13) dtype=float32, numpy=\n",
      "array([[0., 0., 0., 0., 0., 0., 0., 0., 0., 0., 0., 0., 1.],\n",
      "       [1., 0., 0., 0., 0., 0., 0., 0., 0., 0., 0., 0., 0.],\n",
      "       [0., 1., 0., 0., 0., 0., 0., 0., 0., 0., 0., 0., 0.],\n",
      "       [0., 0., 1., 0., 0., 0., 0., 0., 0., 0., 0., 0., 0.],\n",
      "       [0., 0., 0., 1., 0., 0., 0., 0., 0., 0., 0., 0., 0.],\n",
      "       [0., 0., 0., 0., 1., 0., 0., 0., 0., 0., 0., 0., 0.],\n",
      "       [0., 0., 0., 0., 0., 1., 0., 0., 0., 0., 0., 0., 0.],\n",
      "       [0., 0., 0., 0., 0., 0., 1., 0., 0., 0., 0., 0., 0.],\n",
      "       [0., 0., 0., 0., 0., 0., 0., 1., 0., 0., 0., 0., 0.],\n",
      "       [0., 0., 0., 0., 0., 0., 0., 0., 1., 0., 0., 0., 0.],\n",
      "       [0., 0., 0., 0., 0., 0., 0., 0., 0., 1., 0., 0., 0.],\n",
      "       [0., 0., 0., 0., 0., 0., 0., 0., 0., 0., 1., 0., 0.],\n",
      "       [0., 0., 0., 0., 0., 0., 0., 0., 0., 0., 0., 1., 0.],\n",
      "       [0., 0., 0., 0., 0., 0., 0., 0., 0., 0., 0., 0., 1.],\n",
      "       [1., 0., 0., 0., 0., 0., 0., 0., 0., 0., 0., 0., 0.]],\n",
      "      dtype=float32)>\n",
      "12 periodic_padding_3 <tf.Variable 'periodic_padding_3/M_mat:0' shape=(9, 7) dtype=float32, numpy=\n",
      "array([[0., 0., 0., 0., 0., 0., 1.],\n",
      "       [1., 0., 0., 0., 0., 0., 0.],\n",
      "       [0., 1., 0., 0., 0., 0., 0.],\n",
      "       [0., 0., 1., 0., 0., 0., 0.],\n",
      "       [0., 0., 0., 1., 0., 0., 0.],\n",
      "       [0., 0., 0., 0., 1., 0., 0.],\n",
      "       [0., 0., 0., 0., 0., 1., 0.],\n",
      "       [0., 0., 0., 0., 0., 0., 1.],\n",
      "       [1., 0., 0., 0., 0., 0., 0.]], dtype=float32)>\n"
     ]
    }
   ],
   "source": [
    "for i in range(len(ae_net.encoder_layers_list)):\n",
    "    l = ae_net.encoder_layers_list[i]\n",
    "    name = str(l.name)\n",
    "    if name.startswith('periodic_padding'):\n",
    "        print(i, name, l.M_mat)"
   ]
  },
  {
   "cell_type": "code",
   "execution_count": 46,
   "metadata": {},
   "outputs": [
    {
     "name": "stdout",
     "output_type": "stream",
     "text": [
      "0 periodic_padding_4 <tf.Variable 'periodic_padding_4/M_mat:0' shape=(6, 4) dtype=float32, numpy=\n",
      "array([[0., 0., 0., 1.],\n",
      "       [1., 0., 0., 0.],\n",
      "       [0., 1., 0., 0.],\n",
      "       [0., 0., 1., 0.],\n",
      "       [0., 0., 0., 1.],\n",
      "       [1., 0., 0., 0.]], dtype=float32)>\n",
      "5 periodic_padding_5 <tf.Variable 'periodic_padding_5/M_mat:0' shape=(10, 8) dtype=float32, numpy=\n",
      "array([[0., 0., 0., 0., 0., 0., 0., 1.],\n",
      "       [1., 0., 0., 0., 0., 0., 0., 0.],\n",
      "       [0., 1., 0., 0., 0., 0., 0., 0.],\n",
      "       [0., 0., 1., 0., 0., 0., 0., 0.],\n",
      "       [0., 0., 0., 1., 0., 0., 0., 0.],\n",
      "       [0., 0., 0., 0., 1., 0., 0., 0.],\n",
      "       [0., 0., 0., 0., 0., 1., 0., 0.],\n",
      "       [0., 0., 0., 0., 0., 0., 1., 0.],\n",
      "       [0., 0., 0., 0., 0., 0., 0., 1.],\n",
      "       [1., 0., 0., 0., 0., 0., 0., 0.]], dtype=float32)>\n",
      "10 periodic_padding_6 <tf.Variable 'periodic_padding_6/M_mat:0' shape=(18, 16) dtype=float32, numpy=\n",
      "array([[0., 0., 0., 0., 0., 0., 0., 0., 0., 0., 0., 0., 0., 0., 0., 1.],\n",
      "       [1., 0., 0., 0., 0., 0., 0., 0., 0., 0., 0., 0., 0., 0., 0., 0.],\n",
      "       [0., 1., 0., 0., 0., 0., 0., 0., 0., 0., 0., 0., 0., 0., 0., 0.],\n",
      "       [0., 0., 1., 0., 0., 0., 0., 0., 0., 0., 0., 0., 0., 0., 0., 0.],\n",
      "       [0., 0., 0., 1., 0., 0., 0., 0., 0., 0., 0., 0., 0., 0., 0., 0.],\n",
      "       [0., 0., 0., 0., 1., 0., 0., 0., 0., 0., 0., 0., 0., 0., 0., 0.],\n",
      "       [0., 0., 0., 0., 0., 1., 0., 0., 0., 0., 0., 0., 0., 0., 0., 0.],\n",
      "       [0., 0., 0., 0., 0., 0., 1., 0., 0., 0., 0., 0., 0., 0., 0., 0.],\n",
      "       [0., 0., 0., 0., 0., 0., 0., 1., 0., 0., 0., 0., 0., 0., 0., 0.],\n",
      "       [0., 0., 0., 0., 0., 0., 0., 0., 1., 0., 0., 0., 0., 0., 0., 0.],\n",
      "       [0., 0., 0., 0., 0., 0., 0., 0., 0., 1., 0., 0., 0., 0., 0., 0.],\n",
      "       [0., 0., 0., 0., 0., 0., 0., 0., 0., 0., 1., 0., 0., 0., 0., 0.],\n",
      "       [0., 0., 0., 0., 0., 0., 0., 0., 0., 0., 0., 1., 0., 0., 0., 0.],\n",
      "       [0., 0., 0., 0., 0., 0., 0., 0., 0., 0., 0., 0., 1., 0., 0., 0.],\n",
      "       [0., 0., 0., 0., 0., 0., 0., 0., 0., 0., 0., 0., 0., 1., 0., 0.],\n",
      "       [0., 0., 0., 0., 0., 0., 0., 0., 0., 0., 0., 0., 0., 0., 1., 0.],\n",
      "       [0., 0., 0., 0., 0., 0., 0., 0., 0., 0., 0., 0., 0., 0., 0., 1.],\n",
      "       [1., 0., 0., 0., 0., 0., 0., 0., 0., 0., 0., 0., 0., 0., 0., 0.]],\n",
      "      dtype=float32)>\n",
      "15 periodic_padding_7 <tf.Variable 'periodic_padding_7/M_mat:0' shape=(34, 32) dtype=float32, numpy=\n",
      "array([[0., 0., 0., ..., 0., 0., 1.],\n",
      "       [1., 0., 0., ..., 0., 0., 0.],\n",
      "       [0., 1., 0., ..., 0., 0., 0.],\n",
      "       ...,\n",
      "       [0., 0., 0., ..., 0., 1., 0.],\n",
      "       [0., 0., 0., ..., 0., 0., 1.],\n",
      "       [1., 0., 0., ..., 0., 0., 0.]], dtype=float32)>\n"
     ]
    }
   ],
   "source": [
    "for i in range(len(ae_net.decoder_layers_list)):\n",
    "    l = ae_net.decoder_layers_list[i]\n",
    "    name = str(l.name)\n",
    "    if name.startswith('periodic_padding'):\n",
    "        print(i, name, l.M_mat)"
   ]
  },
  {
   "cell_type": "code",
   "execution_count": null,
   "metadata": {},
   "outputs": [],
   "source": []
  },
  {
   "cell_type": "code",
   "execution_count": null,
   "metadata": {},
   "outputs": [],
   "source": []
  },
  {
   "cell_type": "code",
   "execution_count": null,
   "metadata": {},
   "outputs": [],
   "source": []
  },
  {
   "cell_type": "code",
   "execution_count": null,
   "metadata": {},
   "outputs": [],
   "source": []
  }
 ],
 "metadata": {
  "colab": {
   "collapsed_sections": [],
   "provenance": []
  },
  "gpuClass": "standard",
  "kernelspec": {
   "display_name": "Python 3 (ipykernel)",
   "language": "python",
   "name": "python3"
  },
  "language_info": {
   "codemirror_mode": {
    "name": "ipython",
    "version": 3
   },
   "file_extension": ".py",
   "mimetype": "text/x-python",
   "name": "python",
   "nbconvert_exporter": "python",
   "pygments_lexer": "ipython3",
   "version": "3.10.6"
  }
 },
 "nbformat": 4,
 "nbformat_minor": 1
}
