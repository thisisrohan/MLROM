{
 "cells": [
  {
   "cell_type": "code",
   "execution_count": 1,
   "metadata": {
    "executionInfo": {
     "elapsed": 5,
     "status": "ok",
     "timestamp": 1666788634667,
     "user": {
      "displayName": "Rohan Kaushik",
      "userId": "13918477614376051685"
     },
     "user_tz": -120
    },
    "id": "4xhxMpe_r-Y5"
   },
   "outputs": [],
   "source": [
    "# enabling 3rd party widgets\n",
    "# from google.colab import output\n",
    "# output.enable_custom_widget_manager()\n",
    "# output.disable_custom_widget_manager()\n",
    "\n",
    "# interactive 3D plot\n",
    "# !pip install ipympl\n",
    "# %matplotlib widget"
   ]
  },
  {
   "cell_type": "code",
   "execution_count": 2,
   "metadata": {
    "executionInfo": {
     "elapsed": 3089,
     "status": "ok",
     "timestamp": 1666788637752,
     "user": {
      "displayName": "Rohan Kaushik",
      "userId": "13918477614376051685"
     },
     "user_tz": -120
    },
    "id": "a5qPupCDsjSz"
   },
   "outputs": [],
   "source": [
    "import os\n",
    "import math\n",
    "from collections import OrderedDict\n",
    "import numpy as np\n",
    "import matplotlib.pyplot as plt\n",
    "from scipy import linalg\n",
    "\n",
    "import time as time\n",
    "import platform as platform\n",
    "\n",
    "import tensorflow as tf\n",
    "from tensorflow.keras import layers, losses\n",
    "from tensorflow.keras.models import Model\n",
    "from tensorflow.keras import backend as K\n",
    "from tensorflow.keras.regularizers import L2\n",
    "import h5py\n",
    "\n",
    "tf.keras.backend.set_floatx('float32')"
   ]
  },
  {
   "cell_type": "code",
   "execution_count": 3,
   "metadata": {
    "executionInfo": {
     "elapsed": 8,
     "status": "ok",
     "timestamp": 1666788637752,
     "user": {
      "displayName": "Rohan Kaushik",
      "userId": "13918477614376051685"
     },
     "user_tz": -120
    },
    "id": "3AVrZNGlZu4Z"
   },
   "outputs": [],
   "source": [
    "colab_flag = False\n",
    "\n",
    "FTYPE = np.float32\n",
    "ITYPE = np.int32\n",
    "\n",
    "strategy = None\n",
    "# strategy = tf.distribute.MirroredStrategy()"
   ]
  },
  {
   "cell_type": "code",
   "execution_count": 4,
   "metadata": {
    "executionInfo": {
     "elapsed": 7,
     "status": "ok",
     "timestamp": 1666788637753,
     "user": {
      "displayName": "Rohan Kaushik",
      "userId": "13918477614376051685"
     },
     "user_tz": -120
    },
    "id": "SxAd7iDL0Ami"
   },
   "outputs": [],
   "source": [
    "current_sys = platform.system()\n",
    "\n",
    "if current_sys == 'Windows':\n",
    "    dir_sep = '\\\\'\n",
    "else:\n",
    "    dir_sep = '/'"
   ]
  },
  {
   "cell_type": "code",
   "execution_count": 5,
   "metadata": {
    "colab": {
     "base_uri": "https://localhost:8080/"
    },
    "executionInfo": {
     "elapsed": 27766,
     "status": "ok",
     "timestamp": 1666788665512,
     "user": {
      "displayName": "Rohan Kaushik",
      "userId": "13918477614376051685"
     },
     "user_tz": -120
    },
    "id": "JjNnPRuk0IIX",
    "outputId": "f93a8628-71fe-4d6d-b3b6-245dfcb8eb60"
   },
   "outputs": [],
   "source": [
    "if colab_flag == True:\n",
    "    from google.colab import drive\n",
    "    drive.mount('/content/drive')\n",
    "    os.chdir('/content/drive/MyDrive/Github/MLROM/KS/')"
   ]
  },
  {
   "cell_type": "code",
   "execution_count": 6,
   "metadata": {
    "colab": {
     "base_uri": "https://localhost:8080/"
    },
    "executionInfo": {
     "elapsed": 5,
     "status": "ok",
     "timestamp": 1666788665512,
     "user": {
      "displayName": "Rohan Kaushik",
      "userId": "13918477614376051685"
     },
     "user_tz": -120
    },
    "id": "9REiGIIy0IzV",
    "outputId": "2b5b0b02-2f67-4635-a00c-82084a8d2ffb"
   },
   "outputs": [
    {
     "name": "stdout",
     "output_type": "stream",
     "text": [
      "/home/rkaushik/Documents/Thesis/MLROM/Kolmogorov\n"
     ]
    }
   ],
   "source": [
    "print(os.getcwd())"
   ]
  },
  {
   "cell_type": "code",
   "execution_count": 7,
   "metadata": {
    "executionInfo": {
     "elapsed": 1381,
     "status": "ok",
     "timestamp": 1666788666890,
     "user": {
      "displayName": "Rohan Kaushik",
      "userId": "13918477614376051685"
     },
     "user_tz": -120
    },
    "id": "8S1AHEkl48bn"
   },
   "outputs": [],
   "source": [
    "from tools.misc_tools import mytimecallback, SaveLosses, plot_losses, readAndReturnLossHistories\n",
    "from tools.ae_v2 import Autoencoder"
   ]
  },
  {
   "cell_type": "code",
   "execution_count": 8,
   "metadata": {
    "executionInfo": {
     "elapsed": 7,
     "status": "ok",
     "timestamp": 1666788666891,
     "user": {
      "displayName": "Rohan Kaushik",
      "userId": "13918477614376051685"
     },
     "user_tz": -120
    },
    "id": "-mIQj_v4gzMh"
   },
   "outputs": [],
   "source": [
    "behaviour = 'initialiseAndTrainFromScratch'\n",
    "# behaviour = 'loadCheckpointAndContinueTraining'\n",
    "# behaviour = 'loadFinalNetAndPlot'"
   ]
  },
  {
   "cell_type": "code",
   "execution_count": 9,
   "metadata": {
    "executionInfo": {
     "elapsed": 8,
     "status": "ok",
     "timestamp": 1666788666892,
     "user": {
      "displayName": "Rohan Kaushik",
      "userId": "13918477614376051685"
     },
     "user_tz": -120
    },
    "id": "QL5n-abCg0nI"
   },
   "outputs": [],
   "source": [
    "# setting seed for PRNGs\n",
    "if behaviour == 'initialiseAndTrainFromScratch':\n",
    "    prng_seed = 42\n",
    "    np.random.seed(prng_seed)\n",
    "    tf.random.set_seed(prng_seed)"
   ]
  },
  {
   "cell_type": "code",
   "execution_count": 10,
   "metadata": {
    "colab": {
     "base_uri": "https://localhost:8080/",
     "height": 35
    },
    "executionInfo": {
     "elapsed": 7,
     "status": "ok",
     "timestamp": 1666788666892,
     "user": {
      "displayName": "Rohan Kaushik",
      "userId": "13918477614376051685"
     },
     "user_tz": -120
    },
    "id": "tc3zO9xL_tNl",
    "outputId": "f77bf689-c865-4a8d-8d40-37ec9c75f1ee"
   },
   "outputs": [
    {
     "name": "stderr",
     "output_type": "stream",
     "text": [
      "2023-02-16 20:58:07.355107: I tensorflow/stream_executor/cuda/cuda_gpu_executor.cc:936] successful NUMA node read from SysFS had negative value (-1), but there must be at least one NUMA node, so returning NUMA node zero\n"
     ]
    },
    {
     "name": "stdout",
     "output_type": "stream",
     "text": [
      "[PhysicalDevice(name='/physical_device:GPU:0', device_type='GPU'), PhysicalDevice(name='/physical_device:GPU:1', device_type='GPU')]\n",
      "[LogicalDevice(name='/device:GPU:0', device_type='GPU')]\n"
     ]
    },
    {
     "name": "stderr",
     "output_type": "stream",
     "text": [
      "2023-02-16 20:58:07.355584: I tensorflow/stream_executor/cuda/cuda_gpu_executor.cc:936] successful NUMA node read from SysFS had negative value (-1), but there must be at least one NUMA node, so returning NUMA node zero\n",
      "2023-02-16 20:58:07.430153: I tensorflow/stream_executor/cuda/cuda_gpu_executor.cc:936] successful NUMA node read from SysFS had negative value (-1), but there must be at least one NUMA node, so returning NUMA node zero\n",
      "2023-02-16 20:58:07.430451: I tensorflow/stream_executor/cuda/cuda_gpu_executor.cc:936] successful NUMA node read from SysFS had negative value (-1), but there must be at least one NUMA node, so returning NUMA node zero\n",
      "2023-02-16 20:58:07.430719: I tensorflow/stream_executor/cuda/cuda_gpu_executor.cc:936] successful NUMA node read from SysFS had negative value (-1), but there must be at least one NUMA node, so returning NUMA node zero\n",
      "2023-02-16 20:58:07.430952: I tensorflow/stream_executor/cuda/cuda_gpu_executor.cc:936] successful NUMA node read from SysFS had negative value (-1), but there must be at least one NUMA node, so returning NUMA node zero\n",
      "2023-02-16 20:58:07.432586: I tensorflow/core/platform/cpu_feature_guard.cc:151] This TensorFlow binary is optimized with oneAPI Deep Neural Network Library (oneDNN) to use the following CPU instructions in performance-critical operations:  SSE4.1 SSE4.2 AVX AVX2 FMA\n",
      "To enable them in other operations, rebuild TensorFlow with the appropriate compiler flags.\n",
      "2023-02-16 20:58:07.433397: I tensorflow/stream_executor/cuda/cuda_gpu_executor.cc:936] successful NUMA node read from SysFS had negative value (-1), but there must be at least one NUMA node, so returning NUMA node zero\n",
      "2023-02-16 20:58:07.433774: I tensorflow/stream_executor/cuda/cuda_gpu_executor.cc:936] successful NUMA node read from SysFS had negative value (-1), but there must be at least one NUMA node, so returning NUMA node zero\n",
      "2023-02-16 20:58:07.434122: I tensorflow/stream_executor/cuda/cuda_gpu_executor.cc:936] successful NUMA node read from SysFS had negative value (-1), but there must be at least one NUMA node, so returning NUMA node zero\n",
      "2023-02-16 20:58:08.011714: I tensorflow/stream_executor/cuda/cuda_gpu_executor.cc:936] successful NUMA node read from SysFS had negative value (-1), but there must be at least one NUMA node, so returning NUMA node zero\n",
      "2023-02-16 20:58:08.011926: I tensorflow/stream_executor/cuda/cuda_gpu_executor.cc:936] successful NUMA node read from SysFS had negative value (-1), but there must be at least one NUMA node, so returning NUMA node zero\n",
      "2023-02-16 20:58:08.012107: I tensorflow/stream_executor/cuda/cuda_gpu_executor.cc:936] successful NUMA node read from SysFS had negative value (-1), but there must be at least one NUMA node, so returning NUMA node zero\n",
      "2023-02-16 20:58:08.012268: I tensorflow/core/common_runtime/gpu/gpu_device.cc:1525] Created device /job:localhost/replica:0/task:0/device:GPU:0 with 3359 MB memory:  -> device: 0, name: Quadro K2200, pci bus id: 0000:02:00.0, compute capability: 5.0\n"
     ]
    }
   ],
   "source": [
    "gpus = tf.config.list_physical_devices('GPU')\n",
    "print(gpus)\n",
    "\n",
    "if colab_flag == False:\n",
    "    if strategy is None:\n",
    "        if gpus:\n",
    "            gpu_to_use = 0\n",
    "            tf.config.set_visible_devices(gpus[gpu_to_use], 'GPU')\n",
    "    logical_devices = tf.config.list_logical_devices('GPU')\n",
    "    print(logical_devices)"
   ]
  },
  {
   "cell_type": "code",
   "execution_count": 11,
   "metadata": {},
   "outputs": [
    {
     "name": "stdout",
     "output_type": "stream",
     "text": [
      "[PhysicalDevice(name='/physical_device:CPU:0', device_type='CPU'), PhysicalDevice(name='/physical_device:GPU:0', device_type='GPU'), PhysicalDevice(name='/physical_device:GPU:1', device_type='GPU')]\n",
      "[LogicalDevice(name='/device:CPU:0', device_type='CPU'), LogicalDevice(name='/device:GPU:0', device_type='GPU')]\n",
      "2.8.1\n"
     ]
    }
   ],
   "source": [
    "# print(tf.test.gpu_device_name())\n",
    "print(tf.config.list_physical_devices())\n",
    "print(tf.config.list_logical_devices())\n",
    "print(tf.__version__)"
   ]
  },
  {
   "cell_type": "markdown",
   "metadata": {
    "id": "7UbdnOtc4_z9"
   },
   "source": [
    "# KS System"
   ]
  },
  {
   "cell_type": "code",
   "execution_count": 12,
   "metadata": {
    "colab": {
     "base_uri": "https://localhost:8080/"
    },
    "executionInfo": {
     "elapsed": 2030,
     "status": "ok",
     "timestamp": 1666788668916,
     "user": {
      "displayName": "Rohan Kaushik",
      "userId": "13918477614376051685"
     },
     "user_tz": -120
    },
    "id": "xcNgt4hqg6Xv",
    "outputId": "7735ac54-495c-493f-869b-7d15538ee30c"
   },
   "outputs": [
    {
     "name": "stdout",
     "output_type": "stream",
     "text": [
      "dir_name_ae: /home/rkaushik/Documents/Thesis/MLROM/Kolmogorov/saved_ae/ae_012\n",
      "24 <class 'int'>\n"
     ]
    }
   ],
   "source": [
    "# setting up params (and saving, if applicable)\n",
    "from numpy import *\n",
    "\n",
    "if behaviour == 'initialiseAndTrainFromScratch':\n",
    "    # loading data directory\n",
    "    data_dir_idx = '000'\n",
    "\n",
    "    # making ae save directory\n",
    "    dir_name_ae = os.getcwd() + dir_sep + 'saved_ae'\n",
    "    if not os.path.isdir(dir_name_ae):\n",
    "        os.makedirs(dir_name_ae)\n",
    "\n",
    "    counter = 0\n",
    "    while True:\n",
    "        dir_check = 'ae_' + str(counter).zfill(3)\n",
    "        if os.path.isdir(dir_name_ae + dir_sep + dir_check):\n",
    "            counter += 1\n",
    "        else:\n",
    "            break\n",
    "\n",
    "    dir_name_ae = dir_name_ae + dir_sep + dir_check\n",
    "    os.makedirs(dir_name_ae)\n",
    "    os.makedirs(dir_name_ae+dir_sep+'plots')\n",
    "else:\n",
    "    # some paramaters\n",
    "    dir_name_ae = os.getcwd()+'{ds}saved_ae{ds}ae_015'.format(ds=dir_sep)\n",
    "\n",
    "    with open(dir_name_ae + dir_sep + 'ae_data.txt') as f:\n",
    "        lines = f.readlines()\n",
    "\n",
    "    params_dict = eval(''.join(lines))\n",
    "    data_dir_idx = params_dict['data_dir_idx']\n",
    "    normalizeforae_flag = params_dict['normalizeforae_flag']\n",
    "    normalization_constant_arr_aedata = params_dict['normalization_constant_arr_aedata']\n",
    "    if os.path.exists(dir_name_ae+dir_sep+'normalization_data.npz'):\n",
    "        with np.load(dir_name_ae+dir_sep+'normalization_data.npz', allow_pickle=True) as fl:\n",
    "            normalization_constant_arr_aedata = fl['normalization_constant_arr_aedata'][0]\n",
    "\n",
    "print('dir_name_ae:', dir_name_ae)\n",
    "# loading data\n",
    "dir_name_data = os.getcwd() + dir_sep + 'saved_data' + dir_sep + 'data_' + data_dir_idx\n",
    "    \n",
    "with h5py.File(dir_name_data + '/data.h5', 'r') as f:\n",
    "    t_recorded_samples = np.array(f['t'])\n",
    "    \n",
    "    N = int(0.5*(np.array(f['num_wavenumbers'])-1))\n",
    "    print(N, type(N))\n",
    "    \n",
    "    u_ref = np.array(f['u_reference'], dtype=FTYPE)\n",
    "    v_ref = np.array(f['v_reference'], dtype=FTYPE)"
   ]
  },
  {
   "cell_type": "code",
   "execution_count": 13,
   "metadata": {},
   "outputs": [],
   "source": [
    "all_data = np.empty(shape=(u_ref.shape[0], 2, u_ref.shape[1], u_ref.shape[2]), dtype=FTYPE)\n",
    "all_data[:, 0, :, :] = u_ref\n",
    "del(u_ref)\n",
    "all_data[:, 1, :, :] = v_ref\n",
    "del(v_ref)"
   ]
  },
  {
   "cell_type": "code",
   "execution_count": null,
   "metadata": {
    "executionInfo": {
     "elapsed": 2,
     "status": "ok",
     "timestamp": 1666788668916,
     "user": {
      "displayName": "Rohan Kaushik",
      "userId": "13918477614376051685"
     },
     "user_tz": -120
    },
    "id": "O7sl7i5H5Dqz"
   },
   "outputs": [],
   "source": []
  },
  {
   "cell_type": "code",
   "execution_count": null,
   "metadata": {
    "colab": {
     "base_uri": "https://localhost:8080/",
     "height": 1000
    },
    "executionInfo": {
     "elapsed": 2415,
     "status": "ok",
     "timestamp": 1666788671329,
     "user": {
      "displayName": "Rohan Kaushik",
      "userId": "13918477614376051685"
     },
     "user_tz": -120
    },
    "id": "ySVDz_2U5FH5",
    "outputId": "53f23b1d-fa61-4f27-bbc4-2e624421a866"
   },
   "outputs": [],
   "source": []
  },
  {
   "cell_type": "code",
   "execution_count": 14,
   "metadata": {
    "executionInfo": {
     "elapsed": 11,
     "status": "ok",
     "timestamp": 1666788671330,
     "user": {
      "displayName": "Rohan Kaushik",
      "userId": "13918477614376051685"
     },
     "user_tz": -120
    },
    "id": "bkQx9q_p5Gro"
   },
   "outputs": [],
   "source": [
    "# dealing with normalizing the data before feeding into autoencoder\n",
    "if behaviour == 'initialiseAndTrainFromScratch':\n",
    "    # normalize data before feeding into autoencoder?\n",
    "    normalizeforae_flag = True\n",
    "    normalization_type = 'stddev' # could be 'stddev' or 'minmax'\n",
    "    stddev_multiplier = 3\n",
    "    \n",
    "    normalization_constant_arr_aedata = None\n",
    "    if normalizeforae_flag == True:\n",
    "        normalization_constant_arr_aedata = np.empty(shape=(2,) + tuple(all_data.shape[1:]), dtype=FTYPE)\n",
    "        if normalization_type == 'stddev':\n",
    "            normalization_constant_arr_aedata[0] = np.mean(all_data, axis=0)\n",
    "            normalization_constant_arr_aedata[1] = stddev_multiplier * np.std(all_data, axis=0)\n",
    "        elif normalization_type == 'minmax':\n",
    "            sample_min = all_data.min(axis=0)\n",
    "            sample_max = all_data.max(axis=0)\n",
    "            idx = np.where(sample_min == sample_max)\n",
    "            if len(idx) > 0:\n",
    "                num_elems = len(idx[0])\n",
    "                for i in range(num_elems):\n",
    "                    i0 = idx[0][i]\n",
    "                    i1 = idx[1][i]\n",
    "                    i2 = idx[2][i]\n",
    "                    sample_min[i0, i1, i2] -= 0.5\n",
    "                    sample_max[i0, i1, i2] = sample_min[i0, i1, i2] + 1.\n",
    "            normalization_constant_arr_aedata[0] = sample_min\n",
    "            normalization_constant_arr_aedata[1] = sample_max - sample_min\n",
    "        all_data -= normalization_constant_arr_aedata[0]\n",
    "        all_data /= normalization_constant_arr_aedata[1]\n",
    "            \n",
    "    # saving sim data\n",
    "    ae_data = {\n",
    "        'data_dir_idx':data_dir_idx,\n",
    "        'normalizeforae_flag':normalizeforae_flag,\n",
    "        # 'normalization_constant_arr_aedata':normalization_constant_arr_aedata,\n",
    "        'normalization_type':normalization_type,\n",
    "        'stddev_multiplier':stddev_multiplier,\n",
    "        'ae_data_with_params':False,\n",
    "        'module':Autoencoder.__module__,\n",
    "    }\n",
    "    with open(dir_name_ae+dir_sep+'ae_data.txt', 'w') as f:\n",
    "        f.write(str(ae_data))\n",
    "    np.savez(\n",
    "        dir_name_ae+dir_sep+'normalization_data',\n",
    "        normalization_constant_arr_aedata=[normalization_constant_arr_aedata],\n",
    "    )\n",
    "else:\n",
    "    if normalizeforae_flag == True:\n",
    "        all_data -= normalization_constant_arr_aedata[0]\n",
    "        all_data /= normalization_constant_arr_aedata[1]\n",
    "            \n",
    "time_stddev = np.std(all_data, axis=0)"
   ]
  },
  {
   "cell_type": "code",
   "execution_count": 15,
   "metadata": {
    "colab": {
     "base_uri": "https://localhost:8080/",
     "height": 1000
    },
    "executionInfo": {
     "elapsed": 1020,
     "status": "ok",
     "timestamp": 1666788672340,
     "user": {
      "displayName": "Rohan Kaushik",
      "userId": "13918477614376051685"
     },
     "user_tz": -120
    },
    "id": "uDhfYHU45IS8",
    "outputId": "982f534f-255c-41b9-f40a-327730ac89ae"
   },
   "outputs": [],
   "source": [
    "all_data = all_data[::4]"
   ]
  },
  {
   "cell_type": "code",
   "execution_count": null,
   "metadata": {
    "executionInfo": {
     "elapsed": 13,
     "status": "ok",
     "timestamp": 1666788672341,
     "user": {
      "displayName": "Rohan Kaushik",
      "userId": "13918477614376051685"
     },
     "user_tz": -120
    },
    "id": "59kkrSP1GvzO"
   },
   "outputs": [],
   "source": []
  },
  {
   "cell_type": "code",
   "execution_count": null,
   "metadata": {
    "executionInfo": {
     "elapsed": 11,
     "status": "ok",
     "timestamp": 1666788672342,
     "user": {
      "displayName": "Rohan Kaushik",
      "userId": "13918477614376051685"
     },
     "user_tz": -120
    },
    "id": "-MJa7P5t5KiC",
    "scrolled": false
   },
   "outputs": [],
   "source": []
  },
  {
   "cell_type": "markdown",
   "metadata": {
    "id": "1v6KQEjR5LkK"
   },
   "source": [
    "# Autoencoder"
   ]
  },
  {
   "cell_type": "code",
   "execution_count": 16,
   "metadata": {
    "executionInfo": {
     "elapsed": 432,
     "status": "ok",
     "timestamp": 1666788672765,
     "user": {
      "displayName": "Rohan Kaushik",
      "userId": "13918477614376051685"
     },
     "user_tz": -120
    },
    "id": "c5cjQ1lnjcwt"
   },
   "outputs": [],
   "source": [
    "# setting up training params\n",
    "if behaviour == 'initialiseAndTrainFromScratch':\n",
    "    learning_rate_list = [1e-3, 1e-4, 1e-5]\n",
    "    epochs = 200\n",
    "    patience = 10  # parameter for early stopping\n",
    "    min_delta = 1e-6  # parameter for early stopping\n",
    "    lambda_reg = 5e-7 # weight for regularizer\n",
    "    train_split = 0.8\n",
    "    val_split = 0.1\n",
    "    test_split = 1 - train_split - val_split\n",
    "    batch_size = 16\n",
    "    fRMS = 2/100\n",
    "    timeMeanofSpaceRMS = np.mean(np.mean(all_data**2, axis=1)**0.5)\n",
    "    \n",
    "    # stddev = fRMS*timeMeanofSpaceRMS\n",
    "    stddev = fRMS * np.mean(time_stddev)\n",
    "    use_weights_post_dense = False\n",
    "    use_batch_norm = True\n",
    "\n",
    "    # saving training params\n",
    "    training_specific_params = {\n",
    "        'learning_rate_list':learning_rate_list,\n",
    "        'epochs':epochs,\n",
    "        'patience':patience,\n",
    "        'min_delta':min_delta,\n",
    "        'prng_seed':prng_seed,\n",
    "        'train_split':train_split,\n",
    "        'val_split':val_split,\n",
    "        'batch_size':batch_size,\n",
    "        'fRMS':fRMS,\n",
    "        'timeMeanofSpaceRMS':timeMeanofSpaceRMS,\n",
    "        'stddev':stddev,\n",
    "        'use_batch_norm':use_batch_norm,\n",
    "    }\n",
    "\n",
    "    with open(dir_name_ae+dir_sep+'training_specific_params.txt', 'w') as f:\n",
    "        f.write(str(training_specific_params))\n",
    "else:\n",
    "    with open(dir_name_ae + dir_sep + 'training_specific_params.txt') as f:\n",
    "        lines = f.readlines()\n",
    "\n",
    "    tparams_dict = eval(''.join(lines))\n",
    "\n",
    "    learning_rate_list = tparams_dict['learning_rate_list']\n",
    "    epochs = tparams_dict['epochs']\n",
    "    patience = tparams_dict['patience']\n",
    "    min_delta = tparams_dict['min_delta']\n",
    "    prng_seed = tparams_dict['prng_seed']\n",
    "    train_split = tparams_dict['train_split']\n",
    "    val_split = tparams_dict['val_split']\n",
    "    batch_size = tparams_dict['batch_size']\n",
    "    try:\n",
    "        stddev = tparams_dict['stddev']\n",
    "    except:\n",
    "        print(\"'stddev' not in tparams_dict, set to 0\")\n",
    "        stddev = 0.0\n",
    "\n",
    "    test_split = 1 - train_split - val_split\n",
    "\n",
    "    # setting seed for PRNGs\n",
    "    np.random.seed(prng_seed)\n",
    "    tf.random.set_seed(prng_seed)"
   ]
  },
  {
   "cell_type": "code",
   "execution_count": null,
   "metadata": {
    "executionInfo": {
     "elapsed": 22,
     "status": "ok",
     "timestamp": 1666788672769,
     "user": {
      "displayName": "Rohan Kaushik",
      "userId": "13918477614376051685"
     },
     "user_tz": -120
    },
    "id": "lovTI3zuhlX0"
   },
   "outputs": [],
   "source": []
  },
  {
   "cell_type": "code",
   "execution_count": 17,
   "metadata": {
    "executionInfo": {
     "elapsed": 22,
     "status": "ok",
     "timestamp": 1666788672770,
     "user": {
      "displayName": "Rohan Kaushik",
      "userId": "13918477614376051685"
     },
     "user_tz": -120
    },
    "id": "IjsRi02g5ORG"
   },
   "outputs": [],
   "source": [
    "# # setting up data\n",
    "# idx = np.arange(all_data.shape[0])\n",
    "# np.random.shuffle(idx)\n",
    "# boundary = int(np.round((1-test_split)*all_data.shape[0]))\n",
    "# training_data = all_data[idx[0:boundary], :]\n",
    "# testing_data = all_data[idx[boundary:], :]"
   ]
  },
  {
   "cell_type": "code",
   "execution_count": 18,
   "metadata": {
    "executionInfo": {
     "elapsed": 21,
     "status": "ok",
     "timestamp": 1666788672771,
     "user": {
      "displayName": "Rohan Kaushik",
      "userId": "13918477614376051685"
     },
     "user_tz": -120
    },
    "id": "Qwietg7eTG-s"
   },
   "outputs": [],
   "source": [
    "num_train = int(all_data.shape[0]*train_split)\n",
    "num_val = int(all_data.shape[0]*val_split)\n",
    "num_test = all_data.shape[0] - num_train - num_val\n",
    "\n",
    "idx = np.arange(all_data.shape[0])\n",
    "np.random.shuffle(idx)\n",
    "\n",
    "training_data = np.empty(shape=(num_train, ) + tuple(all_data.shape[1:]), dtype=FTYPE)\n",
    "val_data = np.empty(shape=(num_val, ) + tuple(all_data.shape[1:]), dtype=FTYPE)\n",
    "testing_data = np.empty(shape=(num_test, ) + tuple(all_data.shape[1:]), dtype=FTYPE)\n",
    "\n",
    "training_data[:] = all_data[idx[0:num_train]]\n",
    "val_data[:] = all_data[idx[num_train:num_train+num_val]]\n",
    "testing_data[:] = all_data[idx[num_train+num_val:]]"
   ]
  },
  {
   "cell_type": "code",
   "execution_count": 19,
   "metadata": {
    "executionInfo": {
     "elapsed": 21,
     "status": "ok",
     "timestamp": 1666788672772,
     "user": {
      "displayName": "Rohan Kaushik",
      "userId": "13918477614376051685"
     },
     "user_tz": -120
    },
    "id": "gJ-28EnzJ4Ur"
   },
   "outputs": [],
   "source": [
    "del(all_data)"
   ]
  },
  {
   "cell_type": "code",
   "execution_count": null,
   "metadata": {
    "executionInfo": {
     "elapsed": 20,
     "status": "ok",
     "timestamp": 1666788672773,
     "user": {
      "displayName": "Rohan Kaushik",
      "userId": "13918477614376051685"
     },
     "user_tz": -120
    },
    "id": "7xTsmS7lgpps"
   },
   "outputs": [],
   "source": []
  },
  {
   "cell_type": "code",
   "execution_count": 20,
   "metadata": {
    "executionInfo": {
     "elapsed": 1626,
     "status": "ok",
     "timestamp": 1666788674381,
     "user": {
      "displayName": "Rohan Kaushik",
      "userId": "13918477614376051685"
     },
     "user_tz": -120
    },
    "id": "7l5kI1tfMszJ"
   },
   "outputs": [
    {
     "name": "stderr",
     "output_type": "stream",
     "text": [
      "2023-02-16 20:58:16.967441: I tensorflow/stream_executor/cuda/cuda_dnn.cc:368] Loaded cuDNN version 8401\n"
     ]
    }
   ],
   "source": [
    "# Initialize network\n",
    "if behaviour == 'initialiseAndTrainFromScratch':\n",
    "    enc_filters = [8, 3, 1]\n",
    "    enc_strides = [2, 1, 1]\n",
    "    enc_attn_placement = [1]\n",
    "    dec_filters = [3, 8, 2]\n",
    "    dec_strides = [1, 1, 2]\n",
    "    dec_attn_placement = [0]\n",
    "    kernel_size = 5\n",
    "    \n",
    "    enc_layer_act_func = 'elu'\n",
    "    enc_final_layer_act_func = 'tanh'\n",
    "    dec_layer_act_func = 'elu'\n",
    "    dec_final_layer_act_func = 'tanh'\n",
    "    reg_name = 'L2'\n",
    "    \n",
    "    use_periodic_padding = True\n",
    "    use_attention_module = True\n",
    "    \n",
    "    if strategy is not None:\n",
    "        with strategy.scope():\n",
    "            ae_net = Autoencoder(\n",
    "                data_dim=training_data.shape[1:],\n",
    "                kernel_size=kernel_size,\n",
    "                enc_filters=enc_filters, # number of filters\n",
    "                dec_filters=dec_filters, # number of filters\n",
    "                lambda_reg=lambda_reg,\n",
    "                reg_name=reg_name,\n",
    "                enc_layer_act_func=enc_layer_act_func,\n",
    "                enc_final_layer_act_func=enc_final_layer_act_func,\n",
    "                dec_layer_act_func=dec_layer_act_func,\n",
    "                dec_final_layer_act_func=dec_final_layer_act_func,\n",
    "                load_file=None,\n",
    "                stddev=stddev,\n",
    "                use_weights_post_dense=use_weights_post_dense,\n",
    "                use_batch_norm=use_batch_norm,\n",
    "                use_periodic_padding=use_periodic_padding,\n",
    "                use_attention_module=use_attention_module,\n",
    "                enc_strides=enc_strides,\n",
    "                enc_attn_placement=enc_attn_placement,\n",
    "                dec_strides=dec_strides,\n",
    "                dec_attn_placement=dec_attn_placement,)\n",
    "    else:\n",
    "        ae_net = Autoencoder(\n",
    "            data_dim=training_data.shape[1:],\n",
    "            kernel_size=kernel_size,\n",
    "            enc_filters=enc_filters, # number of filters\n",
    "            dec_filters=dec_filters, # number of filters\n",
    "            lambda_reg=lambda_reg,\n",
    "            reg_name=reg_name,\n",
    "            enc_layer_act_func=enc_layer_act_func,\n",
    "            enc_final_layer_act_func=enc_final_layer_act_func,\n",
    "            dec_layer_act_func=dec_layer_act_func,\n",
    "            dec_final_layer_act_func=dec_final_layer_act_func,\n",
    "            load_file=None,\n",
    "            stddev=stddev,\n",
    "            use_weights_post_dense=use_weights_post_dense,\n",
    "            use_batch_norm=use_batch_norm,\n",
    "            use_periodic_padding=use_periodic_padding,\n",
    "            use_attention_module=use_attention_module,\n",
    "            enc_strides=enc_strides,\n",
    "            enc_attn_placement=enc_attn_placement,\n",
    "            dec_strides=dec_strides,\n",
    "            dec_attn_placement=dec_attn_placement,)\n",
    "    # saving the AE configuration\n",
    "    save_path = dir_name_ae+dir_sep+'final_net'\n",
    "    if not os.path.isdir(save_path):\n",
    "        os.makedirs(save_path)\n",
    "    ae_net.save_class_dict(save_path+dir_sep+'final_net_class_dict.txt')\n",
    "else:\n",
    "    load_file = dir_name_ae + dir_sep + 'final_net' + dir_sep + 'final_net_class_dict.txt'\n",
    "    if strategy is not None:\n",
    "        with strategy.scope():\n",
    "            ae_net = Autoencoder(data_dim=training_data.shape[1:], load_file=load_file)\n",
    "    else:\n",
    "        ae_net = Autoencoder(data_dim=training_data.shape[1:], load_file=load_file)\n",
    "    \n",
    "    if behaviour == 'loadCheckpointAndContinueTraining':\n",
    "        wt_file = tf.train.latest_checkpoint(dir_name_ae+dir_sep+'checkpoints')\n",
    "        # ae_net.load_weights(wt_file)\n",
    "    elif behaviour == 'loadFinalNetAndPlot':\n",
    "        wt_file = dir_name_ae+dir_sep+'final_net'+dir_sep+'final_net_ae_weights.h5'\n",
    "        ae_net.load_weights_from_file(wt_file)"
   ]
  },
  {
   "cell_type": "code",
   "execution_count": null,
   "metadata": {
    "executionInfo": {
     "elapsed": 259,
     "status": "ok",
     "timestamp": 1666788674637,
     "user": {
      "displayName": "Rohan Kaushik",
      "userId": "13918477614376051685"
     },
     "user_tz": -120
    },
    "id": "48tkgZxT0Amt"
   },
   "outputs": [],
   "source": []
  },
  {
   "cell_type": "code",
   "execution_count": 21,
   "metadata": {
    "executionInfo": {
     "elapsed": 322,
     "status": "ok",
     "timestamp": 1666788674956,
     "user": {
      "displayName": "Rohan Kaushik",
      "userId": "13918477614376051685"
     },
     "user_tz": -120
    },
    "id": "yUChBAKqIFtX"
   },
   "outputs": [],
   "source": [
    "if behaviour == 'initialiseAndTrainFromScratch':\n",
    "    val_loss_hist = []\n",
    "    train_loss_hist = []\n",
    "    lr_change=[0, 0]\n",
    "    savelosses_cb_vallossarr = np.ones(shape=epochs*len(learning_rate_list))*np.NaN\n",
    "    savelosses_cb_trainlossarr = np.ones(shape=epochs*len(learning_rate_list))*np.NaN\n",
    "    starting_lr_idx = 0\n",
    "    num_epochs_left = epochs\n",
    "elif behaviour == 'loadCheckpointAndContinueTraining':\n",
    "    val_loss_hist, train_loss_hist, lr_change, starting_lr_idx, num_epochs_left, val_loss_arr_fromckpt, train_loss_arr_fromckpt = readAndReturnLossHistories(\n",
    "        dir_name_ae=dir_name_ae,\n",
    "        dir_sep=dir_sep,\n",
    "        epochs=epochs,\n",
    "        learning_rate_list=learning_rate_list)\n",
    "    savelosses_cb_vallossarr = val_loss_arr_fromckpt\n",
    "    savelosses_cb_trainlossarr = train_loss_arr_fromckpt\n",
    "elif behaviour == 'loadFinalNetAndPlot':\n",
    "    with open(dir_name_ae+'{ds}final_net{ds}losses.txt'.format(ds=dir_sep), 'r') as f:\n",
    "        lines = f.readlines()\n",
    "    \n",
    "    losses_dict = eval(''.join(lines))\n",
    "\n",
    "    val_loss_hist = losses_dict['val_loss_hist']\n",
    "    train_loss_hist = losses_dict['train_loss_hist']\n",
    "    lr_change = losses_dict['lr_change']\n",
    "    test_loss = losses_dict['test_loss']"
   ]
  },
  {
   "cell_type": "code",
   "execution_count": 22,
   "metadata": {},
   "outputs": [],
   "source": [
    "train_MSE_hist = []\n",
    "val_MSE_hist = []\n",
    "\n",
    "train_NMSE_hist = []\n",
    "val_NMSE_hist = []\n",
    "\n",
    "if use_attention_module == True:\n",
    "    encoder_attention_lambdas = {}\n",
    "    for i in range(len(ae_net.encoder_attention_modules_list)):\n",
    "        l = ae_net.encoder_attention_modules_list[i]\n",
    "        encoder_attention_lambdas['encoder_attention_module_{}_lambda'.format(i)] = [0]\n",
    "    decoder_attention_lambdas = {}\n",
    "    for i in range(len(ae_net.decoder_attention_modules_list)):\n",
    "        l = ae_net.decoder_attention_modules_list[i]\n",
    "        decoder_attention_lambdas['decoder_attention_module_{}_lambda'.format(i)] = [0]"
   ]
  },
  {
   "cell_type": "code",
   "execution_count": 23,
   "metadata": {
    "executionInfo": {
     "elapsed": 5,
     "status": "ok",
     "timestamp": 1666788674957,
     "user": {
      "displayName": "Rohan Kaushik",
      "userId": "13918477614376051685"
     },
     "user_tz": -120
    },
    "id": "Z0oEGp6WKGu2"
   },
   "outputs": [],
   "source": [
    "class NMSE(tf.keras.metrics.MeanSquaredError):\n",
    "    def __init__(self, divisor_arr, name='NMSE', **kwargs):\n",
    "        super(NMSE, self).__init__(name, **kwargs)\n",
    "        self.divisor_arr = divisor_arr\n",
    "\n",
    "    def update_state(self, y_true, y_pred, sample_weight=None):\n",
    "        y_true = y_true / self.divisor_arr\n",
    "        y_pred = y_pred / self.divisor_arr\n",
    "        return super(NMSE, self).update_state(y_true, y_pred, sample_weight)"
   ]
  },
  {
   "cell_type": "code",
   "execution_count": 24,
   "metadata": {},
   "outputs": [],
   "source": [
    "if strategy is not None:\n",
    "    with strategy.scope():\n",
    "        NMSE_metric = NMSE(divisor_arr=tf.constant(time_stddev))\n",
    "else:\n",
    "    NMSE_metric = NMSE(divisor_arr=tf.constant(time_stddev))"
   ]
  },
  {
   "cell_type": "code",
   "execution_count": 25,
   "metadata": {
    "colab": {
     "base_uri": "https://localhost:8080/"
    },
    "executionInfo": {
     "elapsed": 191278,
     "status": "ok",
     "timestamp": 1666788866231,
     "user": {
      "displayName": "Rohan Kaushik",
      "userId": "13918477614376051685"
     },
     "user_tz": -120
    },
    "id": "gELga1WnQeMK",
    "outputId": "e923a97a-2d9d-4c74-c328-4793de05b919",
    "scrolled": true
   },
   "outputs": [
    {
     "name": "stdout",
     "output_type": "stream",
     "text": [
      "WARNING:tensorflow:`period` argument is deprecated. Please use `save_freq` to specify the frequency in number of batches seen.\n",
      "\n",
      "\n",
      "--------------------------------------------------------------------------------\n",
      "\n",
      "---------------------------- LEARNING RATE : 0.001 -----------------------------\n",
      "\n",
      "--------------------------------------------------------------------------------\n",
      "\n",
      "\n",
      "Epoch 1/200\n",
      "   5/1250 [..............................] - ETA: 45s - loss: 0.6125 - mse: 0.6125 - NMSE: 5.5124 - encoder_attention_module_0_lambda: -0.0028 - decoder_attention_module_0_lambda: -0.0028         WARNING:tensorflow:Callback method `on_train_batch_end` is slow compared to the batch time (batch time: 0.0099s vs `on_train_batch_end` time: 0.0216s). Check your callbacks.\n",
      "1249/1250 [============================>.] - ETA: 0s - loss: 0.0367 - mse: 0.0367 - NMSE: 0.3303 - encoder_attention_module_0_lambda: -0.1124 - decoder_attention_module_0_lambda: -0.0624 - tot_time: 0h 0m 49.1s\n",
      "\n",
      "Epoch 1: val_NMSE improved from inf to 0.09376, saving model to /home/rkaushik/Documents/Thesis/MLROM/Kolmogorov/saved_ae/ae_012/checkpoints/checkpoint\n",
      " - saving loss histories at /home/rkaushik/Documents/Thesis/MLROM/Kolmogorov/saved_ae/ae_012/checkpoints/LossHistoriesCheckpoint\n",
      "1250/1250 [==============================] - 48s 37ms/step - loss: 0.0367 - mse: 0.0367 - NMSE: 0.3302 - encoder_attention_module_0_lambda: -0.1125 - decoder_attention_module_0_lambda: -0.0624 - val_loss: 0.0104 - val_mse: 0.0104 - val_NMSE: 0.0938\n",
      "Epoch 2/200\n",
      "1249/1250 [============================>.] - ETA: 0s - loss: 0.0086 - mse: 0.0086 - NMSE: 0.0777 - encoder_attention_module_0_lambda: -0.1673 - decoder_attention_module_0_lambda: -0.0639 - tot_time: 0h 1m 34.7s\n",
      "\n",
      "Epoch 2: val_NMSE improved from 0.09376 to 0.04961, saving model to /home/rkaushik/Documents/Thesis/MLROM/Kolmogorov/saved_ae/ae_012/checkpoints/checkpoint\n",
      " - saving loss histories at /home/rkaushik/Documents/Thesis/MLROM/Kolmogorov/saved_ae/ae_012/checkpoints/LossHistoriesCheckpoint\n",
      "1250/1250 [==============================] - 46s 36ms/step - loss: 0.0086 - mse: 0.0086 - NMSE: 0.0777 - encoder_attention_module_0_lambda: -0.1673 - decoder_attention_module_0_lambda: -0.0639 - val_loss: 0.0055 - val_mse: 0.0055 - val_NMSE: 0.0496\n",
      "Epoch 3/200\n",
      "1249/1250 [============================>.] - ETA: 0s - loss: 0.0034 - mse: 0.0034 - NMSE: 0.0308 - encoder_attention_module_0_lambda: -0.1467 - decoder_attention_module_0_lambda: -0.0638 - tot_time: 0h 2m 20.3s\n",
      "\n",
      "Epoch 3: val_NMSE did not improve from 0.04961\n",
      " - saving loss histories at /home/rkaushik/Documents/Thesis/MLROM/Kolmogorov/saved_ae/ae_012/checkpoints/LossHistoriesCheckpoint\n",
      "1250/1250 [==============================] - 46s 36ms/step - loss: 0.0034 - mse: 0.0034 - NMSE: 0.0308 - encoder_attention_module_0_lambda: -0.1467 - decoder_attention_module_0_lambda: -0.0638 - val_loss: 0.0116 - val_mse: 0.0116 - val_NMSE: 0.1046\n",
      "Epoch 4/200\n",
      "1249/1250 [============================>.] - ETA: 0s - loss: 0.0018 - mse: 0.0018 - NMSE: 0.0164 - encoder_attention_module_0_lambda: -0.1186 - decoder_attention_module_0_lambda: -0.0748 - tot_time: 0h 3m 5.9s\n",
      "\n",
      "Epoch 4: val_NMSE did not improve from 0.04961\n",
      " - saving loss histories at /home/rkaushik/Documents/Thesis/MLROM/Kolmogorov/saved_ae/ae_012/checkpoints/LossHistoriesCheckpoint\n",
      "1250/1250 [==============================] - 46s 37ms/step - loss: 0.0018 - mse: 0.0018 - NMSE: 0.0164 - encoder_attention_module_0_lambda: -0.1186 - decoder_attention_module_0_lambda: -0.0748 - val_loss: 0.0230 - val_mse: 0.0230 - val_NMSE: 0.2073\n",
      "Epoch 5/200\n",
      "1249/1250 [============================>.] - ETA: 0s - loss: 0.0015 - mse: 0.0015 - NMSE: 0.0133 - encoder_attention_module_0_lambda: -0.1103 - decoder_attention_module_0_lambda: -0.1056 - tot_time: 0h 3m 51.5s\n",
      "\n",
      "Epoch 5: val_NMSE improved from 0.04961 to 0.02834, saving model to /home/rkaushik/Documents/Thesis/MLROM/Kolmogorov/saved_ae/ae_012/checkpoints/checkpoint\n",
      " - saving loss histories at /home/rkaushik/Documents/Thesis/MLROM/Kolmogorov/saved_ae/ae_012/checkpoints/LossHistoriesCheckpoint\n",
      "1250/1250 [==============================] - 46s 37ms/step - loss: 0.0015 - mse: 0.0015 - NMSE: 0.0133 - encoder_attention_module_0_lambda: -0.1103 - decoder_attention_module_0_lambda: -0.1056 - val_loss: 0.0032 - val_mse: 0.0031 - val_NMSE: 0.0283\n",
      "Epoch 6/200\n",
      "1249/1250 [============================>.] - ETA: 0s - loss: 0.0013 - mse: 0.0013 - NMSE: 0.0114 - encoder_attention_module_0_lambda: -0.1167 - decoder_attention_module_0_lambda: -0.1352 - tot_time: 0h 4m 37.2s\n",
      "\n",
      "Epoch 6: val_NMSE did not improve from 0.02834\n",
      " - saving loss histories at /home/rkaushik/Documents/Thesis/MLROM/Kolmogorov/saved_ae/ae_012/checkpoints/LossHistoriesCheckpoint\n",
      "1250/1250 [==============================] - 46s 36ms/step - loss: 0.0013 - mse: 0.0013 - NMSE: 0.0114 - encoder_attention_module_0_lambda: -0.1167 - decoder_attention_module_0_lambda: -0.1352 - val_loss: 0.0165 - val_mse: 0.0165 - val_NMSE: 0.1484\n",
      "Epoch 7/200\n",
      "1249/1250 [============================>.] - ETA: 0s - loss: 0.0011 - mse: 0.0011 - NMSE: 0.0099 - encoder_attention_module_0_lambda: -0.1339 - decoder_attention_module_0_lambda: -0.1652 - tot_time: 0h 5m 22.7s\n",
      "\n",
      "Epoch 7: val_NMSE did not improve from 0.02834\n",
      " - saving loss histories at /home/rkaushik/Documents/Thesis/MLROM/Kolmogorov/saved_ae/ae_012/checkpoints/LossHistoriesCheckpoint\n",
      "1250/1250 [==============================] - 46s 36ms/step - loss: 0.0011 - mse: 0.0011 - NMSE: 0.0099 - encoder_attention_module_0_lambda: -0.1339 - decoder_attention_module_0_lambda: -0.1652 - val_loss: 0.0333 - val_mse: 0.0333 - val_NMSE: 0.2996\n",
      "Epoch 8/200\n",
      "1249/1250 [============================>.] - ETA: 0s - loss: 0.0010 - mse: 0.0010 - NMSE: 0.0091 - encoder_attention_module_0_lambda: -0.1484 - decoder_attention_module_0_lambda: -0.1916 - tot_time: 0h 6m 8.6s\n",
      "\n",
      "Epoch 8: val_NMSE did not improve from 0.02834\n",
      " - saving loss histories at /home/rkaushik/Documents/Thesis/MLROM/Kolmogorov/saved_ae/ae_012/checkpoints/LossHistoriesCheckpoint\n",
      "1250/1250 [==============================] - 46s 37ms/step - loss: 0.0010 - mse: 0.0010 - NMSE: 0.0091 - encoder_attention_module_0_lambda: -0.1484 - decoder_attention_module_0_lambda: -0.1916 - val_loss: 0.0342 - val_mse: 0.0342 - val_NMSE: 0.3081\n",
      "Epoch 9/200\n",
      "1249/1250 [============================>.] - ETA: 0s - loss: 9.4783e-04 - mse: 9.3656e-04 - NMSE: 0.0084 - encoder_attention_module_0_lambda: -0.1598 - decoder_attention_module_0_lambda: -0.2125 - tot_time: 0h 6m 54.3s\n",
      "\n",
      "Epoch 9: val_NMSE improved from 0.02834 to 0.01836, saving model to /home/rkaushik/Documents/Thesis/MLROM/Kolmogorov/saved_ae/ae_012/checkpoints/checkpoint\n",
      " - saving loss histories at /home/rkaushik/Documents/Thesis/MLROM/Kolmogorov/saved_ae/ae_012/checkpoints/LossHistoriesCheckpoint\n",
      "1250/1250 [==============================] - 46s 37ms/step - loss: 9.4759e-04 - mse: 9.3632e-04 - NMSE: 0.0084 - encoder_attention_module_0_lambda: -0.1598 - decoder_attention_module_0_lambda: -0.2125 - val_loss: 0.0021 - val_mse: 0.0020 - val_NMSE: 0.0184\n",
      "Epoch 10/200\n",
      "1249/1250 [============================>.] - ETA: 0s - loss: 9.2097e-04 - mse: 9.0950e-04 - NMSE: 0.0082 - encoder_attention_module_0_lambda: -0.1683 - decoder_attention_module_0_lambda: -0.2371 - tot_time: 0h 7m 40.2s\n",
      "\n",
      "Epoch 10: val_NMSE did not improve from 0.01836\n",
      " - saving loss histories at /home/rkaushik/Documents/Thesis/MLROM/Kolmogorov/saved_ae/ae_012/checkpoints/LossHistoriesCheckpoint\n",
      "1250/1250 [==============================] - 46s 37ms/step - loss: 9.2078e-04 - mse: 9.0931e-04 - NMSE: 0.0082 - encoder_attention_module_0_lambda: -0.1683 - decoder_attention_module_0_lambda: -0.2371 - val_loss: 0.0217 - val_mse: 0.0216 - val_NMSE: 0.1948\n",
      "Epoch 11/200\n",
      "1249/1250 [============================>.] - ETA: 0s - loss: 8.7660e-04 - mse: 8.6495e-04 - NMSE: 0.0078 - encoder_attention_module_0_lambda: -0.1767 - decoder_attention_module_0_lambda: -0.2734 - tot_time: 0h 8m 26.0s\n",
      "\n",
      "Epoch 11: val_NMSE did not improve from 0.01836\n",
      " - saving loss histories at /home/rkaushik/Documents/Thesis/MLROM/Kolmogorov/saved_ae/ae_012/checkpoints/LossHistoriesCheckpoint\n",
      "1250/1250 [==============================] - 46s 37ms/step - loss: 8.7633e-04 - mse: 8.6467e-04 - NMSE: 0.0078 - encoder_attention_module_0_lambda: -0.1767 - decoder_attention_module_0_lambda: -0.2734 - val_loss: 0.0382 - val_mse: 0.0382 - val_NMSE: 0.3440\n"
     ]
    },
    {
     "name": "stdout",
     "output_type": "stream",
     "text": [
      "Epoch 12/200\n",
      "1249/1250 [============================>.] - ETA: 0s - loss: 8.3994e-04 - mse: 8.2808e-04 - NMSE: 0.0075 - encoder_attention_module_0_lambda: -0.1808 - decoder_attention_module_0_lambda: -0.3241 - tot_time: 0h 9m 11.8s\n",
      "\n",
      "Epoch 12: val_NMSE did not improve from 0.01836\n",
      " - saving loss histories at /home/rkaushik/Documents/Thesis/MLROM/Kolmogorov/saved_ae/ae_012/checkpoints/LossHistoriesCheckpoint\n",
      "1250/1250 [==============================] - 46s 37ms/step - loss: 8.3987e-04 - mse: 8.2802e-04 - NMSE: 0.0075 - encoder_attention_module_0_lambda: -0.1808 - decoder_attention_module_0_lambda: -0.3241 - val_loss: 0.0306 - val_mse: 0.0306 - val_NMSE: 0.2754\n",
      "Epoch 13/200\n",
      "1249/1250 [============================>.] - ETA: 0s - loss: 8.1038e-04 - mse: 7.9832e-04 - NMSE: 0.0072 - encoder_attention_module_0_lambda: -0.1854 - decoder_attention_module_0_lambda: -0.3591 - tot_time: 0h 9m 57.5s\n",
      "\n",
      "Epoch 13: val_NMSE did not improve from 0.01836\n",
      " - saving loss histories at /home/rkaushik/Documents/Thesis/MLROM/Kolmogorov/saved_ae/ae_012/checkpoints/LossHistoriesCheckpoint\n",
      "1250/1250 [==============================] - 46s 37ms/step - loss: 8.1016e-04 - mse: 7.9809e-04 - NMSE: 0.0072 - encoder_attention_module_0_lambda: -0.1854 - decoder_attention_module_0_lambda: -0.3591 - val_loss: 0.0056 - val_mse: 0.0056 - val_NMSE: 0.0504\n",
      "Epoch 14/200\n",
      "1249/1250 [============================>.] - ETA: 0s - loss: 8.0476e-04 - mse: 7.9246e-04 - NMSE: 0.0071 - encoder_attention_module_0_lambda: -0.1946 - decoder_attention_module_0_lambda: -0.3762 - tot_time: 0h 10m 43.4s\n",
      "\n",
      "Epoch 14: val_NMSE did not improve from 0.01836\n",
      " - saving loss histories at /home/rkaushik/Documents/Thesis/MLROM/Kolmogorov/saved_ae/ae_012/checkpoints/LossHistoriesCheckpoint\n",
      "1250/1250 [==============================] - 46s 37ms/step - loss: 8.0472e-04 - mse: 7.9242e-04 - NMSE: 0.0071 - encoder_attention_module_0_lambda: -0.1946 - decoder_attention_module_0_lambda: -0.3762 - val_loss: 0.0054 - val_mse: 0.0054 - val_NMSE: 0.0482\n",
      "Epoch 15/200\n",
      "1249/1250 [============================>.] - ETA: 0s - loss: 7.7723e-04 - mse: 7.6468e-04 - NMSE: 0.0069 - encoder_attention_module_0_lambda: -0.2037 - decoder_attention_module_0_lambda: -0.3858 - tot_time: 0h 11m 29.1s\n",
      "\n",
      "Epoch 15: val_NMSE did not improve from 0.01836\n",
      " - saving loss histories at /home/rkaushik/Documents/Thesis/MLROM/Kolmogorov/saved_ae/ae_012/checkpoints/LossHistoriesCheckpoint\n",
      "1250/1250 [==============================] - 46s 37ms/step - loss: 7.7705e-04 - mse: 7.6450e-04 - NMSE: 0.0069 - encoder_attention_module_0_lambda: -0.2037 - decoder_attention_module_0_lambda: -0.3858 - val_loss: 0.0145 - val_mse: 0.0145 - val_NMSE: 0.1302\n",
      "Epoch 16/200\n",
      "1249/1250 [============================>.] - ETA: 0s - loss: 7.6625e-04 - mse: 7.5348e-04 - NMSE: 0.0068 - encoder_attention_module_0_lambda: -0.2133 - decoder_attention_module_0_lambda: -0.3936 - tot_time: 0h 12m 14.9s\n",
      "\n",
      "Epoch 16: val_NMSE did not improve from 0.01836\n",
      " - saving loss histories at /home/rkaushik/Documents/Thesis/MLROM/Kolmogorov/saved_ae/ae_012/checkpoints/LossHistoriesCheckpoint\n",
      "1250/1250 [==============================] - 46s 37ms/step - loss: 7.6618e-04 - mse: 7.5341e-04 - NMSE: 0.0068 - encoder_attention_module_0_lambda: -0.2133 - decoder_attention_module_0_lambda: -0.3936 - val_loss: 0.0129 - val_mse: 0.0129 - val_NMSE: 0.1161\n",
      "Epoch 17/200\n",
      "1249/1250 [============================>.] - ETA: 0s - loss: 7.5718e-04 - mse: 7.4419e-04 - NMSE: 0.0067 - encoder_attention_module_0_lambda: -0.2209 - decoder_attention_module_0_lambda: -0.3991 - tot_time: 0h 13m 0.7s\n",
      "\n",
      "Epoch 17: val_NMSE did not improve from 0.01836\n",
      " - saving loss histories at /home/rkaushik/Documents/Thesis/MLROM/Kolmogorov/saved_ae/ae_012/checkpoints/LossHistoriesCheckpoint\n",
      "1250/1250 [==============================] - 46s 37ms/step - loss: 7.5693e-04 - mse: 7.4394e-04 - NMSE: 0.0067 - encoder_attention_module_0_lambda: -0.2209 - decoder_attention_module_0_lambda: -0.3991 - val_loss: 0.0048 - val_mse: 0.0048 - val_NMSE: 0.0433\n",
      "Epoch 18/200\n",
      "1249/1250 [============================>.] - ETA: 0s - loss: 7.4272e-04 - mse: 7.2950e-04 - NMSE: 0.0066 - encoder_attention_module_0_lambda: -0.2336 - decoder_attention_module_0_lambda: -0.4051 - tot_time: 0h 13m 45.6s\n",
      "\n",
      "Epoch 18: val_NMSE improved from 0.01836 to 0.01133, saving model to /home/rkaushik/Documents/Thesis/MLROM/Kolmogorov/saved_ae/ae_012/checkpoints/checkpoint\n",
      " - saving loss histories at /home/rkaushik/Documents/Thesis/MLROM/Kolmogorov/saved_ae/ae_012/checkpoints/LossHistoriesCheckpoint\n",
      "1250/1250 [==============================] - 45s 36ms/step - loss: 7.4289e-04 - mse: 7.2967e-04 - NMSE: 0.0066 - encoder_attention_module_0_lambda: -0.2336 - decoder_attention_module_0_lambda: -0.4051 - val_loss: 0.0013 - val_mse: 0.0013 - val_NMSE: 0.0113\n",
      "Epoch 19/200\n",
      "1249/1250 [============================>.] - ETA: 0s - loss: 7.3428e-04 - mse: 7.2085e-04 - NMSE: 0.0065 - encoder_attention_module_0_lambda: -0.2461 - decoder_attention_module_0_lambda: -0.4106 - tot_time: 0h 14m 30.4s\n",
      "\n",
      "Epoch 19: val_NMSE did not improve from 0.01133\n",
      " - saving loss histories at /home/rkaushik/Documents/Thesis/MLROM/Kolmogorov/saved_ae/ae_012/checkpoints/LossHistoriesCheckpoint\n",
      "1250/1250 [==============================] - 45s 36ms/step - loss: 7.3472e-04 - mse: 7.2129e-04 - NMSE: 0.0065 - encoder_attention_module_0_lambda: -0.2461 - decoder_attention_module_0_lambda: -0.4106 - val_loss: 0.0023 - val_mse: 0.0023 - val_NMSE: 0.0207\n",
      "Epoch 20/200\n",
      "1249/1250 [============================>.] - ETA: 0s - loss: 7.2480e-04 - mse: 7.1115e-04 - NMSE: 0.0064 - encoder_attention_module_0_lambda: -0.2597 - decoder_attention_module_0_lambda: -0.4157 - tot_time: 0h 15m 15.2s\n",
      "\n",
      "Epoch 20: val_NMSE did not improve from 0.01133\n",
      " - saving loss histories at /home/rkaushik/Documents/Thesis/MLROM/Kolmogorov/saved_ae/ae_012/checkpoints/LossHistoriesCheckpoint\n",
      "1250/1250 [==============================] - 45s 36ms/step - loss: 7.2465e-04 - mse: 7.1101e-04 - NMSE: 0.0064 - encoder_attention_module_0_lambda: -0.2597 - decoder_attention_module_0_lambda: -0.4157 - val_loss: 0.0027 - val_mse: 0.0027 - val_NMSE: 0.0245\n",
      "Epoch 21/200\n",
      "1249/1250 [============================>.] - ETA: 0s - loss: 7.2078e-04 - mse: 7.0692e-04 - NMSE: 0.0064 - encoder_attention_module_0_lambda: -0.2747 - decoder_attention_module_0_lambda: -0.4228 - tot_time: 0h 16m 0.0s\n",
      "\n",
      "Epoch 21: val_NMSE did not improve from 0.01133\n",
      " - saving loss histories at /home/rkaushik/Documents/Thesis/MLROM/Kolmogorov/saved_ae/ae_012/checkpoints/LossHistoriesCheckpoint\n",
      "1250/1250 [==============================] - 45s 36ms/step - loss: 7.2081e-04 - mse: 7.0695e-04 - NMSE: 0.0064 - encoder_attention_module_0_lambda: -0.2747 - decoder_attention_module_0_lambda: -0.4228 - val_loss: 0.0140 - val_mse: 0.0140 - val_NMSE: 0.1260\n",
      "Epoch 22/200\n",
      "1249/1250 [============================>.] - ETA: 0s - loss: 7.2264e-04 - mse: 7.0858e-04 - NMSE: 0.0064 - encoder_attention_module_0_lambda: -0.2862 - decoder_attention_module_0_lambda: -0.4272 - tot_time: 0h 16m 45.0s\n",
      "\n",
      "Epoch 22: val_NMSE did not improve from 0.01133\n",
      " - saving loss histories at /home/rkaushik/Documents/Thesis/MLROM/Kolmogorov/saved_ae/ae_012/checkpoints/LossHistoriesCheckpoint\n",
      "1250/1250 [==============================] - 45s 36ms/step - loss: 7.2238e-04 - mse: 7.0832e-04 - NMSE: 0.0064 - encoder_attention_module_0_lambda: -0.2862 - decoder_attention_module_0_lambda: -0.4272 - val_loss: 0.0042 - val_mse: 0.0042 - val_NMSE: 0.0377\n",
      "Epoch 23/200\n",
      "1249/1250 [============================>.] - ETA: 0s - loss: 7.1854e-04 - mse: 7.0427e-04 - NMSE: 0.0063 - encoder_attention_module_0_lambda: -0.2993 - decoder_attention_module_0_lambda: -0.4288 - tot_time: 0h 17m 30.1s\n",
      "\n",
      "Epoch 23: val_NMSE did not improve from 0.01133\n",
      " - saving loss histories at /home/rkaushik/Documents/Thesis/MLROM/Kolmogorov/saved_ae/ae_012/checkpoints/LossHistoriesCheckpoint\n",
      "1250/1250 [==============================] - 45s 36ms/step - loss: 7.1846e-04 - mse: 7.0419e-04 - NMSE: 0.0063 - encoder_attention_module_0_lambda: -0.2993 - decoder_attention_module_0_lambda: -0.4288 - val_loss: 0.0045 - val_mse: 0.0045 - val_NMSE: 0.0405\n",
      "Epoch 24/200\n"
     ]
    },
    {
     "name": "stdout",
     "output_type": "stream",
     "text": [
      "1249/1250 [============================>.] - ETA: 0s - loss: 7.1202e-04 - mse: 6.9755e-04 - NMSE: 0.0063 - encoder_attention_module_0_lambda: -0.3069 - decoder_attention_module_0_lambda: -0.4330 - tot_time: 0h 18m 14.9s\n",
      "\n",
      "Epoch 24: val_NMSE did not improve from 0.01133\n",
      " - saving loss histories at /home/rkaushik/Documents/Thesis/MLROM/Kolmogorov/saved_ae/ae_012/checkpoints/LossHistoriesCheckpoint\n",
      "1250/1250 [==============================] - 45s 36ms/step - loss: 7.1205e-04 - mse: 6.9757e-04 - NMSE: 0.0063 - encoder_attention_module_0_lambda: -0.3069 - decoder_attention_module_0_lambda: -0.4330 - val_loss: 0.0113 - val_mse: 0.0113 - val_NMSE: 0.1015\n",
      "Epoch 25/200\n",
      "1249/1250 [============================>.] - ETA: 0s - loss: 7.0040e-04 - mse: 6.8573e-04 - NMSE: 0.0062 - encoder_attention_module_0_lambda: -0.3161 - decoder_attention_module_0_lambda: -0.4348 - tot_time: 0h 18m 59.8s\n",
      "\n",
      "Epoch 25: val_NMSE did not improve from 0.01133\n",
      " - saving loss histories at /home/rkaushik/Documents/Thesis/MLROM/Kolmogorov/saved_ae/ae_012/checkpoints/LossHistoriesCheckpoint\n",
      "1250/1250 [==============================] - 45s 36ms/step - loss: 7.0030e-04 - mse: 6.8563e-04 - NMSE: 0.0062 - encoder_attention_module_0_lambda: -0.3161 - decoder_attention_module_0_lambda: -0.4348 - val_loss: 0.0028 - val_mse: 0.0028 - val_NMSE: 0.0252\n",
      "Epoch 26/200\n",
      "1249/1250 [============================>.] - ETA: 0s - loss: 6.8671e-04 - mse: 6.7185e-04 - NMSE: 0.0060 - encoder_attention_module_0_lambda: -0.3206 - decoder_attention_module_0_lambda: -0.4375 - tot_time: 0h 19m 44.8s\n",
      "\n",
      "Epoch 26: val_NMSE did not improve from 0.01133\n",
      " - saving loss histories at /home/rkaushik/Documents/Thesis/MLROM/Kolmogorov/saved_ae/ae_012/checkpoints/LossHistoriesCheckpoint\n",
      "1250/1250 [==============================] - 45s 36ms/step - loss: 6.8676e-04 - mse: 6.7190e-04 - NMSE: 0.0060 - encoder_attention_module_0_lambda: -0.3206 - decoder_attention_module_0_lambda: -0.4375 - val_loss: 0.0013 - val_mse: 0.0013 - val_NMSE: 0.0116\n",
      "Epoch 27/200\n",
      "1249/1250 [============================>.] - ETA: 0s - loss: 6.8691e-04 - mse: 6.7187e-04 - NMSE: 0.0060 - encoder_attention_module_0_lambda: -0.3249 - decoder_attention_module_0_lambda: -0.4404 - tot_time: 0h 20m 29.7s\n",
      "\n",
      "Epoch 27: val_NMSE improved from 0.01133 to 0.01131, saving model to /home/rkaushik/Documents/Thesis/MLROM/Kolmogorov/saved_ae/ae_012/checkpoints/checkpoint\n",
      " - saving loss histories at /home/rkaushik/Documents/Thesis/MLROM/Kolmogorov/saved_ae/ae_012/checkpoints/LossHistoriesCheckpoint\n",
      "1250/1250 [==============================] - 45s 36ms/step - loss: 6.8659e-04 - mse: 6.7155e-04 - NMSE: 0.0060 - encoder_attention_module_0_lambda: -0.3249 - decoder_attention_module_0_lambda: -0.4404 - val_loss: 0.0013 - val_mse: 0.0013 - val_NMSE: 0.0113\n",
      "Epoch 28/200\n",
      "1249/1250 [============================>.] - ETA: 0s - loss: 6.8691e-04 - mse: 6.7170e-04 - NMSE: 0.0060 - encoder_attention_module_0_lambda: -0.3273 - decoder_attention_module_0_lambda: -0.4419 - tot_time: 0h 21m 14.7s\n",
      "\n",
      "Epoch 28: val_NMSE did not improve from 0.01131\n",
      " - saving loss histories at /home/rkaushik/Documents/Thesis/MLROM/Kolmogorov/saved_ae/ae_012/checkpoints/LossHistoriesCheckpoint\n",
      "1250/1250 [==============================] - 45s 36ms/step - loss: 6.8703e-04 - mse: 6.7181e-04 - NMSE: 0.0060 - encoder_attention_module_0_lambda: -0.3273 - decoder_attention_module_0_lambda: -0.4419 - val_loss: 0.0057 - val_mse: 0.0057 - val_NMSE: 0.0509\n",
      "Epoch 29/200\n",
      "1249/1250 [============================>.] - ETA: 0s - loss: 7.0103e-04 - mse: 6.8564e-04 - NMSE: 0.0062 - encoder_attention_module_0_lambda: -0.3305 - decoder_attention_module_0_lambda: -0.4430 - tot_time: 0h 21m 59.7s\n",
      "\n",
      "Epoch 29: val_NMSE did not improve from 0.01131\n",
      " - saving loss histories at /home/rkaushik/Documents/Thesis/MLROM/Kolmogorov/saved_ae/ae_012/checkpoints/LossHistoriesCheckpoint\n",
      "1250/1250 [==============================] - 45s 36ms/step - loss: 7.0110e-04 - mse: 6.8571e-04 - NMSE: 0.0062 - encoder_attention_module_0_lambda: -0.3305 - decoder_attention_module_0_lambda: -0.4430 - val_loss: 0.0120 - val_mse: 0.0120 - val_NMSE: 0.1079\n",
      "Epoch 30/200\n",
      "1249/1250 [============================>.] - ETA: 0s - loss: 6.8416e-04 - mse: 6.6859e-04 - NMSE: 0.0060 - encoder_attention_module_0_lambda: -0.3336 - decoder_attention_module_0_lambda: -0.4454 - tot_time: 0h 22m 44.7s\n",
      "\n",
      "Epoch 30: val_NMSE did not improve from 0.01131\n",
      " - saving loss histories at /home/rkaushik/Documents/Thesis/MLROM/Kolmogorov/saved_ae/ae_012/checkpoints/LossHistoriesCheckpoint\n",
      "1250/1250 [==============================] - 45s 36ms/step - loss: 6.8395e-04 - mse: 6.6838e-04 - NMSE: 0.0060 - encoder_attention_module_0_lambda: -0.3336 - decoder_attention_module_0_lambda: -0.4454 - val_loss: 0.0062 - val_mse: 0.0062 - val_NMSE: 0.0557\n",
      "Epoch 31/200\n",
      "1249/1250 [============================>.] - ETA: 0s - loss: 6.7131e-04 - mse: 6.5559e-04 - NMSE: 0.0059 - encoder_attention_module_0_lambda: -0.3353 - decoder_attention_module_0_lambda: -0.4505 - tot_time: 0h 23m 29.6s\n",
      "\n",
      "Epoch 31: val_NMSE did not improve from 0.01131\n",
      " - saving loss histories at /home/rkaushik/Documents/Thesis/MLROM/Kolmogorov/saved_ae/ae_012/checkpoints/LossHistoriesCheckpoint\n",
      "1250/1250 [==============================] - 45s 36ms/step - loss: 6.7172e-04 - mse: 6.5599e-04 - NMSE: 0.0059 - encoder_attention_module_0_lambda: -0.3353 - decoder_attention_module_0_lambda: -0.4505 - val_loss: 0.0025 - val_mse: 0.0024 - val_NMSE: 0.0220\n",
      "Epoch 32/200\n",
      "1249/1250 [============================>.] - ETA: 0s - loss: 6.7744e-04 - mse: 6.6155e-04 - NMSE: 0.0060 - encoder_attention_module_0_lambda: -0.3352 - decoder_attention_module_0_lambda: -0.4518 - tot_time: 0h 24m 14.6s\n",
      "\n",
      "Epoch 32: val_NMSE did not improve from 0.01131\n",
      " - saving loss histories at /home/rkaushik/Documents/Thesis/MLROM/Kolmogorov/saved_ae/ae_012/checkpoints/LossHistoriesCheckpoint\n",
      "1250/1250 [==============================] - 45s 36ms/step - loss: 6.7721e-04 - mse: 6.6132e-04 - NMSE: 0.0060 - encoder_attention_module_0_lambda: -0.3352 - decoder_attention_module_0_lambda: -0.4518 - val_loss: 0.0087 - val_mse: 0.0087 - val_NMSE: 0.0781\n",
      "Epoch 33/200\n",
      "1249/1250 [============================>.] - ETA: 0s - loss: 6.7963e-04 - mse: 6.6359e-04 - NMSE: 0.0060 - encoder_attention_module_0_lambda: -0.3354 - decoder_attention_module_0_lambda: -0.4526 - tot_time: 0h 24m 59.6s\n",
      "\n",
      "Epoch 33: val_NMSE did not improve from 0.01131\n",
      " - saving loss histories at /home/rkaushik/Documents/Thesis/MLROM/Kolmogorov/saved_ae/ae_012/checkpoints/LossHistoriesCheckpoint\n",
      "1250/1250 [==============================] - 45s 36ms/step - loss: 6.7959e-04 - mse: 6.6355e-04 - NMSE: 0.0060 - encoder_attention_module_0_lambda: -0.3354 - decoder_attention_module_0_lambda: -0.4526 - val_loss: 0.0030 - val_mse: 0.0030 - val_NMSE: 0.0271\n",
      "Epoch 34/200\n",
      "1249/1250 [============================>.] - ETA: 0s - loss: 6.6908e-04 - mse: 6.5290e-04 - NMSE: 0.0059 - encoder_attention_module_0_lambda: -0.3339 - decoder_attention_module_0_lambda: -0.4560 - tot_time: 0h 25m 44.4s\n",
      "\n",
      "Epoch 34: val_NMSE did not improve from 0.01131\n",
      " - saving loss histories at /home/rkaushik/Documents/Thesis/MLROM/Kolmogorov/saved_ae/ae_012/checkpoints/LossHistoriesCheckpoint\n",
      "1250/1250 [==============================] - 45s 36ms/step - loss: 6.6894e-04 - mse: 6.5275e-04 - NMSE: 0.0059 - encoder_attention_module_0_lambda: -0.3338 - decoder_attention_module_0_lambda: -0.4560 - val_loss: 0.0038 - val_mse: 0.0038 - val_NMSE: 0.0343\n",
      "Epoch 35/200\n",
      "1249/1250 [============================>.] - ETA: 0s - loss: 6.6760e-04 - mse: 6.5128e-04 - NMSE: 0.0059 - encoder_attention_module_0_lambda: -0.3335 - decoder_attention_module_0_lambda: -0.4611 - tot_time: 0h 26m 29.1s\n",
      "\n",
      "Epoch 35: val_NMSE did not improve from 0.01131\n",
      " - saving loss histories at /home/rkaushik/Documents/Thesis/MLROM/Kolmogorov/saved_ae/ae_012/checkpoints/LossHistoriesCheckpoint\n",
      "1250/1250 [==============================] - 45s 36ms/step - loss: 6.6739e-04 - mse: 6.5107e-04 - NMSE: 0.0059 - encoder_attention_module_0_lambda: -0.3335 - decoder_attention_module_0_lambda: -0.4611 - val_loss: 0.0018 - val_mse: 0.0018 - val_NMSE: 0.0165\n",
      "Epoch 36/200\n"
     ]
    },
    {
     "name": "stdout",
     "output_type": "stream",
     "text": [
      "1249/1250 [============================>.] - ETA: 0s - loss: 6.7550e-04 - mse: 6.5906e-04 - NMSE: 0.0059 - encoder_attention_module_0_lambda: -0.3341 - decoder_attention_module_0_lambda: -0.4634 - tot_time: 0h 27m 13.8s\n",
      "\n",
      "Epoch 36: val_NMSE did not improve from 0.01131\n",
      " - saving loss histories at /home/rkaushik/Documents/Thesis/MLROM/Kolmogorov/saved_ae/ae_012/checkpoints/LossHistoriesCheckpoint\n",
      "1250/1250 [==============================] - 45s 36ms/step - loss: 6.7577e-04 - mse: 6.5932e-04 - NMSE: 0.0059 - encoder_attention_module_0_lambda: -0.3341 - decoder_attention_module_0_lambda: -0.4634 - val_loss: 0.0025 - val_mse: 0.0025 - val_NMSE: 0.0226\n",
      "Epoch 37/200\n",
      "1249/1250 [============================>.] - ETA: 0s - loss: 6.5601e-04 - mse: 6.3941e-04 - NMSE: 0.0058 - encoder_attention_module_0_lambda: -0.3378 - decoder_attention_module_0_lambda: -0.4658Restoring model weights from the end of the best epoch: 27.\n",
      " - tot_time: 0h 27m 58.5s\n",
      "\n",
      "Epoch 37: val_NMSE did not improve from 0.01131\n",
      " - saving loss histories at /home/rkaushik/Documents/Thesis/MLROM/Kolmogorov/saved_ae/ae_012/checkpoints/LossHistoriesCheckpoint\n",
      "1250/1250 [==============================] - 45s 36ms/step - loss: 6.5603e-04 - mse: 6.3943e-04 - NMSE: 0.0058 - encoder_attention_module_0_lambda: -0.3378 - decoder_attention_module_0_lambda: -0.4658 - val_loss: 0.0023 - val_mse: 0.0023 - val_NMSE: 0.0208\n",
      "Epoch 37: early stopping\n",
      "\n",
      "\n",
      "--------------------------------------------------------------------------------\n",
      "\n",
      "---------------------------- LEARNING RATE : 0.0001 ----------------------------\n",
      "\n",
      "--------------------------------------------------------------------------------\n",
      "\n",
      "\n",
      "Epoch 1/200\n",
      "   5/1250 [..............................] - ETA: 42s - loss: 6.1192e-04 - mse: 5.9678e-04 - NMSE: 0.0054 - encoder_attention_module_0_lambda: -0.3282 - decoder_attention_module_0_lambda: -0.4431WARNING:tensorflow:Callback method `on_train_batch_end` is slow compared to the batch time (batch time: 0.0071s vs `on_train_batch_end` time: 0.0271s). Check your callbacks.\n",
      "1249/1250 [============================>.] - ETA: 0s - loss: 6.4827e-04 - mse: 6.3315e-04 - NMSE: 0.0057 - encoder_attention_module_0_lambda: -0.3279 - decoder_attention_module_0_lambda: -0.4427 - tot_time: 0h 28m 44.4s\n",
      "\n",
      "Epoch 1: val_NMSE improved from 0.01131 to 0.00436, saving model to /home/rkaushik/Documents/Thesis/MLROM/Kolmogorov/saved_ae/ae_012/checkpoints/checkpoint\n",
      " - saving loss histories at /home/rkaushik/Documents/Thesis/MLROM/Kolmogorov/saved_ae/ae_012/checkpoints/LossHistoriesCheckpoint\n",
      "1250/1250 [==============================] - 45s 36ms/step - loss: 6.4803e-04 - mse: 6.3290e-04 - NMSE: 0.0057 - encoder_attention_module_0_lambda: -0.3279 - decoder_attention_module_0_lambda: -0.4427 - val_loss: 4.9968e-04 - val_mse: 4.8457e-04 - val_NMSE: 0.0044\n",
      "Epoch 2/200\n",
      "1249/1250 [============================>.] - ETA: 0s - loss: 6.5319e-04 - mse: 6.3809e-04 - NMSE: 0.0057 - encoder_attention_module_0_lambda: -0.3264 - decoder_attention_module_0_lambda: -0.4432 - tot_time: 0h 29m 29.2s\n",
      "\n",
      "Epoch 2: val_NMSE improved from 0.00436 to 0.00392, saving model to /home/rkaushik/Documents/Thesis/MLROM/Kolmogorov/saved_ae/ae_012/checkpoints/checkpoint\n",
      " - saving loss histories at /home/rkaushik/Documents/Thesis/MLROM/Kolmogorov/saved_ae/ae_012/checkpoints/LossHistoriesCheckpoint\n",
      "1250/1250 [==============================] - 45s 36ms/step - loss: 6.5368e-04 - mse: 6.3859e-04 - NMSE: 0.0057 - encoder_attention_module_0_lambda: -0.3264 - decoder_attention_module_0_lambda: -0.4432 - val_loss: 4.5022e-04 - val_mse: 4.3514e-04 - val_NMSE: 0.0039\n",
      "Epoch 3/200\n",
      "1249/1250 [============================>.] - ETA: 0s - loss: 6.5333e-04 - mse: 6.3826e-04 - NMSE: 0.0057 - encoder_attention_module_0_lambda: -0.3246 - decoder_attention_module_0_lambda: -0.4441 - tot_time: 0h 30m 14.0s\n",
      "\n",
      "Epoch 3: val_NMSE did not improve from 0.00392\n",
      " - saving loss histories at /home/rkaushik/Documents/Thesis/MLROM/Kolmogorov/saved_ae/ae_012/checkpoints/LossHistoriesCheckpoint\n",
      "1250/1250 [==============================] - 45s 36ms/step - loss: 6.5328e-04 - mse: 6.3821e-04 - NMSE: 0.0057 - encoder_attention_module_0_lambda: -0.3246 - decoder_attention_module_0_lambda: -0.4441 - val_loss: 5.3336e-04 - val_mse: 5.1831e-04 - val_NMSE: 0.0047\n",
      "Epoch 4/200\n",
      "1249/1250 [============================>.] - ETA: 0s - loss: 6.5782e-04 - mse: 6.4278e-04 - NMSE: 0.0058 - encoder_attention_module_0_lambda: -0.3236 - decoder_attention_module_0_lambda: -0.4441 - tot_time: 0h 30m 58.8s\n",
      "\n",
      "Epoch 4: val_NMSE did not improve from 0.00392\n",
      " - saving loss histories at /home/rkaushik/Documents/Thesis/MLROM/Kolmogorov/saved_ae/ae_012/checkpoints/LossHistoriesCheckpoint\n",
      "1250/1250 [==============================] - 45s 36ms/step - loss: 6.5820e-04 - mse: 6.4316e-04 - NMSE: 0.0058 - encoder_attention_module_0_lambda: -0.3236 - decoder_attention_module_0_lambda: -0.4441 - val_loss: 0.0017 - val_mse: 0.0017 - val_NMSE: 0.0151\n",
      "Epoch 5/200\n",
      "1249/1250 [============================>.] - ETA: 0s - loss: 6.4325e-04 - mse: 6.2824e-04 - NMSE: 0.0057 - encoder_attention_module_0_lambda: -0.3204 - decoder_attention_module_0_lambda: -0.4450 - tot_time: 0h 31m 43.5s\n",
      "\n",
      "Epoch 5: val_NMSE did not improve from 0.00392\n",
      " - saving loss histories at /home/rkaushik/Documents/Thesis/MLROM/Kolmogorov/saved_ae/ae_012/checkpoints/LossHistoriesCheckpoint\n",
      "1250/1250 [==============================] - 45s 36ms/step - loss: 6.4316e-04 - mse: 6.2815e-04 - NMSE: 0.0057 - encoder_attention_module_0_lambda: -0.3204 - decoder_attention_module_0_lambda: -0.4450 - val_loss: 4.6811e-04 - val_mse: 4.5312e-04 - val_NMSE: 0.0041\n",
      "Epoch 6/200\n",
      "1249/1250 [============================>.] - ETA: 0s - loss: 6.4897e-04 - mse: 6.3399e-04 - NMSE: 0.0057 - encoder_attention_module_0_lambda: -0.3202 - decoder_attention_module_0_lambda: -0.4455 - tot_time: 0h 32m 28.2s\n",
      "\n",
      "Epoch 6: val_NMSE did not improve from 0.00392\n",
      " - saving loss histories at /home/rkaushik/Documents/Thesis/MLROM/Kolmogorov/saved_ae/ae_012/checkpoints/LossHistoriesCheckpoint\n",
      "1250/1250 [==============================] - 45s 36ms/step - loss: 6.4885e-04 - mse: 6.3387e-04 - NMSE: 0.0057 - encoder_attention_module_0_lambda: -0.3202 - decoder_attention_module_0_lambda: -0.4455 - val_loss: 5.9276e-04 - val_mse: 5.7780e-04 - val_NMSE: 0.0052\n",
      "Epoch 7/200\n",
      "1249/1250 [============================>.] - ETA: 0s - loss: 6.4706e-04 - mse: 6.3212e-04 - NMSE: 0.0057 - encoder_attention_module_0_lambda: -0.3187 - decoder_attention_module_0_lambda: -0.4453 - tot_time: 0h 33m 12.9s\n",
      "\n",
      "Epoch 7: val_NMSE did not improve from 0.00392\n",
      " - saving loss histories at /home/rkaushik/Documents/Thesis/MLROM/Kolmogorov/saved_ae/ae_012/checkpoints/LossHistoriesCheckpoint\n",
      "1250/1250 [==============================] - 45s 36ms/step - loss: 6.4683e-04 - mse: 6.3188e-04 - NMSE: 0.0057 - encoder_attention_module_0_lambda: -0.3187 - decoder_attention_module_0_lambda: -0.4453 - val_loss: 0.0016 - val_mse: 0.0016 - val_NMSE: 0.0143\n",
      "Epoch 8/200\n",
      "1249/1250 [============================>.] - ETA: 0s - loss: 6.4610e-04 - mse: 6.3118e-04 - NMSE: 0.0057 - encoder_attention_module_0_lambda: -0.3174 - decoder_attention_module_0_lambda: -0.4460 - tot_time: 0h 33m 57.8s\n",
      "\n",
      "Epoch 8: val_NMSE did not improve from 0.00392\n",
      " - saving loss histories at /home/rkaushik/Documents/Thesis/MLROM/Kolmogorov/saved_ae/ae_012/checkpoints/LossHistoriesCheckpoint\n",
      "1250/1250 [==============================] - 45s 36ms/step - loss: 6.4605e-04 - mse: 6.3113e-04 - NMSE: 0.0057 - encoder_attention_module_0_lambda: -0.3174 - decoder_attention_module_0_lambda: -0.4460 - val_loss: 4.9065e-04 - val_mse: 4.7575e-04 - val_NMSE: 0.0043\n",
      "Epoch 9/200\n",
      "1249/1250 [============================>.] - ETA: 0s - loss: 6.3789e-04 - mse: 6.2300e-04 - NMSE: 0.0056 - encoder_attention_module_0_lambda: -0.3164 - decoder_attention_module_0_lambda: -0.4464 - tot_time: 0h 34m 42.5s\n",
      "\n",
      "Epoch 9: val_NMSE did not improve from 0.00392\n",
      " - saving loss histories at /home/rkaushik/Documents/Thesis/MLROM/Kolmogorov/saved_ae/ae_012/checkpoints/LossHistoriesCheckpoint\n",
      "1250/1250 [==============================] - 45s 36ms/step - loss: 6.3774e-04 - mse: 6.2286e-04 - NMSE: 0.0056 - encoder_attention_module_0_lambda: -0.3164 - decoder_attention_module_0_lambda: -0.4464 - val_loss: 7.9943e-04 - val_mse: 7.8456e-04 - val_NMSE: 0.0071\n"
     ]
    },
    {
     "name": "stdout",
     "output_type": "stream",
     "text": [
      "Epoch 10/200\n",
      "1249/1250 [============================>.] - ETA: 0s - loss: 6.4860e-04 - mse: 6.3374e-04 - NMSE: 0.0057 - encoder_attention_module_0_lambda: -0.3153 - decoder_attention_module_0_lambda: -0.4467 - tot_time: 0h 35m 27.3s\n",
      "\n",
      "Epoch 10: val_NMSE did not improve from 0.00392\n",
      " - saving loss histories at /home/rkaushik/Documents/Thesis/MLROM/Kolmogorov/saved_ae/ae_012/checkpoints/LossHistoriesCheckpoint\n",
      "1250/1250 [==============================] - 45s 36ms/step - loss: 6.4842e-04 - mse: 6.3356e-04 - NMSE: 0.0057 - encoder_attention_module_0_lambda: -0.3153 - decoder_attention_module_0_lambda: -0.4467 - val_loss: 5.9262e-04 - val_mse: 5.7778e-04 - val_NMSE: 0.0052\n",
      "Epoch 11/200\n",
      "1249/1250 [============================>.] - ETA: 0s - loss: 6.4202e-04 - mse: 6.2719e-04 - NMSE: 0.0056 - encoder_attention_module_0_lambda: -0.3136 - decoder_attention_module_0_lambda: -0.4475 - tot_time: 0h 36m 11.9s\n",
      "\n",
      "Epoch 11: val_NMSE did not improve from 0.00392\n",
      " - saving loss histories at /home/rkaushik/Documents/Thesis/MLROM/Kolmogorov/saved_ae/ae_012/checkpoints/LossHistoriesCheckpoint\n",
      "1250/1250 [==============================] - 45s 36ms/step - loss: 6.4181e-04 - mse: 6.2698e-04 - NMSE: 0.0056 - encoder_attention_module_0_lambda: -0.3136 - decoder_attention_module_0_lambda: -0.4475 - val_loss: 0.0011 - val_mse: 0.0011 - val_NMSE: 0.0100\n",
      "Epoch 12/200\n",
      "1249/1250 [============================>.] - ETA: 0s - loss: 6.4615e-04 - mse: 6.3135e-04 - NMSE: 0.0057 - encoder_attention_module_0_lambda: -0.3140 - decoder_attention_module_0_lambda: -0.4487Restoring model weights from the end of the best epoch: 2.\n",
      " - tot_time: 0h 36m 56.6s\n",
      "\n",
      "Epoch 12: val_NMSE did not improve from 0.00392\n",
      " - saving loss histories at /home/rkaushik/Documents/Thesis/MLROM/Kolmogorov/saved_ae/ae_012/checkpoints/LossHistoriesCheckpoint\n",
      "1250/1250 [==============================] - 45s 36ms/step - loss: 6.4613e-04 - mse: 6.3132e-04 - NMSE: 0.0057 - encoder_attention_module_0_lambda: -0.3140 - decoder_attention_module_0_lambda: -0.4487 - val_loss: 6.0427e-04 - val_mse: 5.8949e-04 - val_NMSE: 0.0053\n",
      "Epoch 12: early stopping\n",
      "\n",
      "\n",
      "--------------------------------------------------------------------------------\n",
      "\n",
      "---------------------------- LEARNING RATE : 1e-05 -----------------------------\n",
      "\n",
      "--------------------------------------------------------------------------------\n",
      "\n",
      "\n",
      "Epoch 1/200\n",
      "   5/1250 [..............................] - ETA: 42s - loss: 5.8704e-04 - mse: 5.7195e-04 - NMSE: 0.0051 - encoder_attention_module_0_lambda: -0.3255 - decoder_attention_module_0_lambda: -0.4441WARNING:tensorflow:Callback method `on_train_batch_end` is slow compared to the batch time (batch time: 0.0087s vs `on_train_batch_end` time: 0.0253s). Check your callbacks.\n",
      "1249/1250 [============================>.] - ETA: 0s - loss: 6.4219e-04 - mse: 6.2711e-04 - NMSE: 0.0056 - encoder_attention_module_0_lambda: -0.3251 - decoder_attention_module_0_lambda: -0.4440 - tot_time: 0h 37m 42.3s\n",
      "\n",
      "Epoch 1: val_NMSE improved from 0.00392 to 0.00386, saving model to /home/rkaushik/Documents/Thesis/MLROM/Kolmogorov/saved_ae/ae_012/checkpoints/checkpoint\n",
      " - saving loss histories at /home/rkaushik/Documents/Thesis/MLROM/Kolmogorov/saved_ae/ae_012/checkpoints/LossHistoriesCheckpoint\n",
      "1250/1250 [==============================] - 45s 36ms/step - loss: 6.4195e-04 - mse: 6.2687e-04 - NMSE: 0.0056 - encoder_attention_module_0_lambda: -0.3251 - decoder_attention_module_0_lambda: -0.4440 - val_loss: 4.4415e-04 - val_mse: 4.2907e-04 - val_NMSE: 0.0039\n",
      "Epoch 2/200\n",
      "1249/1250 [============================>.] - ETA: 0s - loss: 6.4821e-04 - mse: 6.3314e-04 - NMSE: 0.0057 - encoder_attention_module_0_lambda: -0.3248 - decoder_attention_module_0_lambda: -0.4440 - tot_time: 0h 38m 27.0s\n",
      "\n",
      "Epoch 2: val_NMSE improved from 0.00386 to 0.00376, saving model to /home/rkaushik/Documents/Thesis/MLROM/Kolmogorov/saved_ae/ae_012/checkpoints/checkpoint\n",
      " - saving loss histories at /home/rkaushik/Documents/Thesis/MLROM/Kolmogorov/saved_ae/ae_012/checkpoints/LossHistoriesCheckpoint\n",
      "1250/1250 [==============================] - 45s 36ms/step - loss: 6.4872e-04 - mse: 6.3364e-04 - NMSE: 0.0057 - encoder_attention_module_0_lambda: -0.3248 - decoder_attention_module_0_lambda: -0.4440 - val_loss: 4.3299e-04 - val_mse: 4.1792e-04 - val_NMSE: 0.0038\n",
      "Epoch 3/200\n",
      "1249/1250 [============================>.] - ETA: 0s - loss: 6.4893e-04 - mse: 6.3386e-04 - NMSE: 0.0057 - encoder_attention_module_0_lambda: -0.3247 - decoder_attention_module_0_lambda: -0.4441 - tot_time: 0h 39m 11.8s\n",
      "\n",
      "Epoch 3: val_NMSE improved from 0.00376 to 0.00372, saving model to /home/rkaushik/Documents/Thesis/MLROM/Kolmogorov/saved_ae/ae_012/checkpoints/checkpoint\n",
      " - saving loss histories at /home/rkaushik/Documents/Thesis/MLROM/Kolmogorov/saved_ae/ae_012/checkpoints/LossHistoriesCheckpoint\n",
      "1250/1250 [==============================] - 45s 36ms/step - loss: 6.4887e-04 - mse: 6.3380e-04 - NMSE: 0.0057 - encoder_attention_module_0_lambda: -0.3247 - decoder_attention_module_0_lambda: -0.4441 - val_loss: 4.2885e-04 - val_mse: 4.1378e-04 - val_NMSE: 0.0037\n",
      "Epoch 4/200\n",
      "1249/1250 [============================>.] - ETA: 0s - loss: 6.5286e-04 - mse: 6.3779e-04 - NMSE: 0.0057 - encoder_attention_module_0_lambda: -0.3246 - decoder_attention_module_0_lambda: -0.4441 - tot_time: 0h 39m 56.6s\n",
      "\n",
      "Epoch 4: val_NMSE did not improve from 0.00372\n",
      " - saving loss histories at /home/rkaushik/Documents/Thesis/MLROM/Kolmogorov/saved_ae/ae_012/checkpoints/LossHistoriesCheckpoint\n",
      "1250/1250 [==============================] - 45s 36ms/step - loss: 6.5325e-04 - mse: 6.3818e-04 - NMSE: 0.0057 - encoder_attention_module_0_lambda: -0.3246 - decoder_attention_module_0_lambda: -0.4441 - val_loss: 4.4267e-04 - val_mse: 4.2761e-04 - val_NMSE: 0.0038\n",
      "Epoch 5/200\n",
      "1249/1250 [============================>.] - ETA: 0s - loss: 6.4029e-04 - mse: 6.2523e-04 - NMSE: 0.0056 - encoder_attention_module_0_lambda: -0.3240 - decoder_attention_module_0_lambda: -0.4440 - tot_time: 0h 40m 41.2s\n",
      "\n",
      "Epoch 5: val_NMSE did not improve from 0.00372\n",
      " - saving loss histories at /home/rkaushik/Documents/Thesis/MLROM/Kolmogorov/saved_ae/ae_012/checkpoints/LossHistoriesCheckpoint\n",
      "1250/1250 [==============================] - 45s 36ms/step - loss: 6.4021e-04 - mse: 6.2515e-04 - NMSE: 0.0056 - encoder_attention_module_0_lambda: -0.3240 - decoder_attention_module_0_lambda: -0.4440 - val_loss: 4.3477e-04 - val_mse: 4.1971e-04 - val_NMSE: 0.0038\n",
      "Epoch 6/200\n",
      "1249/1250 [============================>.] - ETA: 0s - loss: 6.4570e-04 - mse: 6.3065e-04 - NMSE: 0.0057 - encoder_attention_module_0_lambda: -0.3239 - decoder_attention_module_0_lambda: -0.4440 - tot_time: 0h 41m 25.9s\n",
      "\n",
      "Epoch 6: val_NMSE did not improve from 0.00372\n",
      " - saving loss histories at /home/rkaushik/Documents/Thesis/MLROM/Kolmogorov/saved_ae/ae_012/checkpoints/LossHistoriesCheckpoint\n",
      "1250/1250 [==============================] - 45s 36ms/step - loss: 6.4558e-04 - mse: 6.3053e-04 - NMSE: 0.0057 - encoder_attention_module_0_lambda: -0.3239 - decoder_attention_module_0_lambda: -0.4440 - val_loss: 4.2902e-04 - val_mse: 4.1397e-04 - val_NMSE: 0.0037\n",
      "Epoch 7/200\n",
      "1249/1250 [============================>.] - ETA: 0s - loss: 6.4533e-04 - mse: 6.3028e-04 - NMSE: 0.0057 - encoder_attention_module_0_lambda: -0.3237 - decoder_attention_module_0_lambda: -0.4440 - tot_time: 0h 42m 10.6s\n",
      "\n",
      "Epoch 7: val_NMSE did not improve from 0.00372\n",
      " - saving loss histories at /home/rkaushik/Documents/Thesis/MLROM/Kolmogorov/saved_ae/ae_012/checkpoints/LossHistoriesCheckpoint\n",
      "1250/1250 [==============================] - 45s 36ms/step - loss: 6.4509e-04 - mse: 6.3004e-04 - NMSE: 0.0057 - encoder_attention_module_0_lambda: -0.3237 - decoder_attention_module_0_lambda: -0.4440 - val_loss: 4.7404e-04 - val_mse: 4.5899e-04 - val_NMSE: 0.0041\n",
      "Epoch 8/200\n",
      "1249/1250 [============================>.] - ETA: 0s - loss: 6.4439e-04 - mse: 6.2934e-04 - NMSE: 0.0057 - encoder_attention_module_0_lambda: -0.3234 - decoder_attention_module_0_lambda: -0.4440 - tot_time: 0h 42m 55.2s\n",
      "\n",
      "Epoch 8: val_NMSE did not improve from 0.00372\n",
      " - saving loss histories at /home/rkaushik/Documents/Thesis/MLROM/Kolmogorov/saved_ae/ae_012/checkpoints/LossHistoriesCheckpoint\n",
      "1250/1250 [==============================] - 45s 36ms/step - loss: 6.4434e-04 - mse: 6.2930e-04 - NMSE: 0.0057 - encoder_attention_module_0_lambda: -0.3234 - decoder_attention_module_0_lambda: -0.4440 - val_loss: 6.5272e-04 - val_mse: 6.3767e-04 - val_NMSE: 0.0057\n"
     ]
    },
    {
     "name": "stdout",
     "output_type": "stream",
     "text": [
      "Epoch 9/200\n",
      "1249/1250 [============================>.] - ETA: 0s - loss: 6.3702e-04 - mse: 6.2197e-04 - NMSE: 0.0056 - encoder_attention_module_0_lambda: -0.3231 - decoder_attention_module_0_lambda: -0.4440 - tot_time: 0h 43m 39.8s\n",
      "\n",
      "Epoch 9: val_NMSE did not improve from 0.00372\n",
      " - saving loss histories at /home/rkaushik/Documents/Thesis/MLROM/Kolmogorov/saved_ae/ae_012/checkpoints/LossHistoriesCheckpoint\n",
      "1250/1250 [==============================] - 45s 36ms/step - loss: 6.3687e-04 - mse: 6.2183e-04 - NMSE: 0.0056 - encoder_attention_module_0_lambda: -0.3231 - decoder_attention_module_0_lambda: -0.4440 - val_loss: 4.3668e-04 - val_mse: 4.2164e-04 - val_NMSE: 0.0038\n",
      "Epoch 10/200\n",
      "1249/1250 [============================>.] - ETA: 0s - loss: 6.4878e-04 - mse: 6.3374e-04 - NMSE: 0.0057 - encoder_attention_module_0_lambda: -0.3229 - decoder_attention_module_0_lambda: -0.4440 - tot_time: 0h 44m 24.5s\n",
      "\n",
      "Epoch 10: val_NMSE did not improve from 0.00372\n",
      " - saving loss histories at /home/rkaushik/Documents/Thesis/MLROM/Kolmogorov/saved_ae/ae_012/checkpoints/LossHistoriesCheckpoint\n",
      "1250/1250 [==============================] - 45s 36ms/step - loss: 6.4861e-04 - mse: 6.3357e-04 - NMSE: 0.0057 - encoder_attention_module_0_lambda: -0.3229 - decoder_attention_module_0_lambda: -0.4440 - val_loss: 4.3809e-04 - val_mse: 4.2305e-04 - val_NMSE: 0.0038\n",
      "Epoch 11/200\n",
      "1249/1250 [============================>.] - ETA: 0s - loss: 6.4176e-04 - mse: 6.2673e-04 - NMSE: 0.0056 - encoder_attention_module_0_lambda: -0.3224 - decoder_attention_module_0_lambda: -0.4440 - tot_time: 0h 45m 9.1s\n",
      "\n",
      "Epoch 11: val_NMSE did not improve from 0.00372\n",
      " - saving loss histories at /home/rkaushik/Documents/Thesis/MLROM/Kolmogorov/saved_ae/ae_012/checkpoints/LossHistoriesCheckpoint\n",
      "1250/1250 [==============================] - 45s 36ms/step - loss: 6.4155e-04 - mse: 6.2652e-04 - NMSE: 0.0056 - encoder_attention_module_0_lambda: -0.3224 - decoder_attention_module_0_lambda: -0.4440 - val_loss: 4.3485e-04 - val_mse: 4.1983e-04 - val_NMSE: 0.0038\n",
      "Epoch 12/200\n",
      "1249/1250 [============================>.] - ETA: 0s - loss: 6.4707e-04 - mse: 6.3205e-04 - NMSE: 0.0057 - encoder_attention_module_0_lambda: -0.3222 - decoder_attention_module_0_lambda: -0.4443 - tot_time: 0h 45m 53.9s\n",
      "\n",
      "Epoch 12: val_NMSE did not improve from 0.00372\n",
      " - saving loss histories at /home/rkaushik/Documents/Thesis/MLROM/Kolmogorov/saved_ae/ae_012/checkpoints/LossHistoriesCheckpoint\n",
      "1250/1250 [==============================] - 45s 36ms/step - loss: 6.4704e-04 - mse: 6.3201e-04 - NMSE: 0.0057 - encoder_attention_module_0_lambda: -0.3222 - decoder_attention_module_0_lambda: -0.4443 - val_loss: 5.7137e-04 - val_mse: 5.5635e-04 - val_NMSE: 0.0050\n",
      "Epoch 13/200\n",
      "1249/1250 [============================>.] - ETA: 0s - loss: 6.4328e-04 - mse: 6.2826e-04 - NMSE: 0.0057 - encoder_attention_module_0_lambda: -0.3220 - decoder_attention_module_0_lambda: -0.4443Restoring model weights from the end of the best epoch: 3.\n",
      " - tot_time: 0h 46m 38.6s\n",
      "\n",
      "Epoch 13: val_NMSE did not improve from 0.00372\n",
      " - saving loss histories at /home/rkaushik/Documents/Thesis/MLROM/Kolmogorov/saved_ae/ae_012/checkpoints/LossHistoriesCheckpoint\n",
      "1250/1250 [==============================] - 45s 36ms/step - loss: 6.4310e-04 - mse: 6.2807e-04 - NMSE: 0.0057 - encoder_attention_module_0_lambda: -0.3220 - decoder_attention_module_0_lambda: -0.4443 - val_loss: 4.4584e-04 - val_mse: 4.3082e-04 - val_NMSE: 0.0039\n",
      "Epoch 13: early stopping\n"
     ]
    }
   ],
   "source": [
    "# compiling the network\n",
    "ae_net.compile(\n",
    "    optimizer=tf.keras.optimizers.Adam(learning_rate=learning_rate_list[0]),\n",
    "    loss=losses.MeanSquaredError(),\n",
    "#     loss=losses.BinaryCrossentropy(from_logits=False),\n",
    "    run_eagerly=False,\n",
    "    metrics=['mse', NMSE_metric]\n",
    ")\n",
    "\n",
    "if behaviour == 'loadCheckpointAndContinueTraining':\n",
    "    # this loads the weights/attributes of the optimizer as well\n",
    "    if strategy is not None:\n",
    "        with strategy.scope():\n",
    "            ae_net.load_weights(wt_file)\n",
    "    else:\n",
    "        ae_net.load_weights(wt_file)\n",
    "\n",
    "if behaviour == 'initialiseAndTrainFromScratch' or behaviour == 'loadCheckpointAndContinueTraining':\n",
    "    # implementing early stopping\n",
    "    early_stopping_cb = tf.keras.callbacks.EarlyStopping(\n",
    "        monitor='val_NMSE',\n",
    "        patience=patience,\n",
    "        restore_best_weights=True,\n",
    "        verbose=True,\n",
    "        min_delta=min_delta\n",
    "    )\n",
    "\n",
    "    # time callback for each epoch\n",
    "    timekeeper_cb = mytimecallback()\n",
    "\n",
    "    # model checkpoint callback\n",
    "    dir_name_ckpt = dir_name_ae+dir_sep+'checkpoints'\n",
    "    if not os.path.isdir(dir_name_ckpt):\n",
    "        os.makedirs(dir_name_ckpt)\n",
    "    checkpoint_cb = tf.keras.callbacks.ModelCheckpoint(\n",
    "        filepath=dir_name_ckpt+dir_sep+'checkpoint',#+'/checkpoint--loss={loss:.4f}--vall_loss={val_loss:.4f}',\n",
    "        monitor='val_NMSE',\n",
    "        save_best_only=True,\n",
    "        save_weights_only=True,\n",
    "        verbose=2,\n",
    "        period=1  # saves every 5 epochs\n",
    "    )\n",
    "\n",
    "    # save losses callback\n",
    "    savelosses_cb = SaveLosses(\n",
    "        filepath=dir_name_ckpt+dir_sep+'LossHistoriesCheckpoint',\n",
    "        val_loss_arr=savelosses_cb_vallossarr,\n",
    "        train_loss_arr=savelosses_cb_trainlossarr,\n",
    "        total_epochs=epochs,\n",
    "        period=1)\n",
    "\n",
    "    # training the network\n",
    "    for i in range(starting_lr_idx, len(learning_rate_list)):\n",
    "        learning_rate = learning_rate_list[i]\n",
    "        K.set_value(ae_net.optimizer.lr, learning_rate)\n",
    "\n",
    "        savelosses_cb.update_lr_idx(i)\n",
    "\n",
    "        if i == starting_lr_idx:\n",
    "            EPOCHS = num_epochs_left\n",
    "            savelosses_cb.update_offset(epochs-num_epochs_left)\n",
    "        else:\n",
    "            EPOCHS = epochs\n",
    "            savelosses_cb.update_offset(0)\n",
    "\n",
    "        total_s_len = 80\n",
    "        sep_lr_s = ' LEARNING RATE : {} '.format(learning_rate)\n",
    "        sep_lr_s = int((total_s_len - len(sep_lr_s))//2)*'-' + sep_lr_s\n",
    "        sep_lr_s = sep_lr_s + (total_s_len-len(sep_lr_s))*'-'\n",
    "        print('\\n\\n' + '-'*len(sep_lr_s))\n",
    "        print('\\n' + sep_lr_s+'\\n')\n",
    "        print('-'*len(sep_lr_s) + '\\n\\n')\n",
    "        \n",
    "        history = ae_net.fit(training_data, training_data,\n",
    "            epochs=EPOCHS,\n",
    "            batch_size=batch_size,\n",
    "#             validation_split=val_split/train_split,\n",
    "            validation_data=(val_data, val_data),\n",
    "            callbacks=[early_stopping_cb, timekeeper_cb, checkpoint_cb, savelosses_cb],\n",
    "            verbose=1\n",
    "        )\n",
    "\n",
    "        val_loss_hist.extend(history.history['val_loss'])\n",
    "        train_loss_hist.extend(history.history['loss'])\n",
    "        \n",
    "        val_MSE_hist.extend(history.history['val_mse'])\n",
    "        train_MSE_hist.extend(history.history['mse'])\n",
    "        \n",
    "        val_NMSE_hist.extend(history.history['val_NMSE'])\n",
    "        train_NMSE_hist.extend(history.history['NMSE'])\n",
    "        \n",
    "        if use_attention_module == True:\n",
    "            for j in range(len(ae_net.encoder_attention_modules_list)):\n",
    "                key = 'encoder_attention_module_{}_lambda'.format(j)\n",
    "                lst1 = history.history[key]\n",
    "                lst2 = encoder_attention_lambdas[key]\n",
    "                lst2.extend(lst1)\n",
    "                encoder_attention_lambdas[key] = lst2\n",
    "            for j in range(len(ae_net.decoder_attention_modules_list)):\n",
    "                key = 'decoder_attention_module_{}_lambda'.format(j)\n",
    "                lst1 = history.history[key]\n",
    "                lst2 = decoder_attention_lambdas[key]\n",
    "                lst2.extend(lst1)\n",
    "                decoder_attention_lambdas[key] = lst2\n",
    "        \n",
    "        if i == starting_lr_idx:\n",
    "            lr_change[i+1] += len(history.history['val_loss'])\n",
    "        else:\n",
    "            lr_change.append(lr_change[i]+len(history.history['val_loss']))"
   ]
  },
  {
   "cell_type": "code",
   "execution_count": 26,
   "metadata": {},
   "outputs": [
    {
     "name": "stdout",
     "output_type": "stream",
     "text": [
      "Model: \"model\"\n",
      "_________________________________________________________________\n",
      " Layer (type)                Output Shape              Param #   \n",
      "=================================================================\n",
      " input_1 (InputLayer)        [(None, 2, 50, 50)]       0         \n",
      "                                                                 \n",
      " gaussian_noise (GaussianNoi  (None, 2, 50, 50)        0         \n",
      " se)                                                             \n",
      "                                                                 \n",
      " periodic_padding (periodic_  (None, 2, 54, 54)        5400      \n",
      " padding)                                                        \n",
      "                                                                 \n",
      " conv2d (Conv2D)             (None, 8, 25, 25)         400       \n",
      "                                                                 \n",
      " batch_normalization (BatchN  (None, 8, 25, 25)        32        \n",
      " ormalization)                                                   \n",
      "                                                                 \n",
      " activation (Activation)     (None, 8, 25, 25)         0         \n",
      "                                                                 \n",
      " periodic_padding_1 (periodi  (None, 8, 29, 29)        1450      \n",
      " c_padding)                                                      \n",
      "                                                                 \n",
      " conv2d_1 (Conv2D)           (None, 3, 25, 25)         600       \n",
      "                                                                 \n",
      " batch_normalization_1 (Batc  (None, 3, 25, 25)        12        \n",
      " hNormalization)                                                 \n",
      "                                                                 \n",
      " activation_1 (Activation)   (None, 3, 25, 25)         0         \n",
      "                                                                 \n",
      " attention_module (attention  (None, 3, 25, 25)        37        \n",
      " _module)                                                        \n",
      "                                                                 \n",
      " periodic_padding_2 (periodi  (None, 3, 29, 29)        1450      \n",
      " c_padding)                                                      \n",
      "                                                                 \n",
      " conv2d_2 (Conv2D)           (None, 1, 25, 25)         75        \n",
      "                                                                 \n",
      " batch_normalization_2 (Batc  (None, 1, 25, 25)        4         \n",
      " hNormalization)                                                 \n",
      "                                                                 \n",
      " activation_2 (Activation)   (None, 1, 25, 25)         0         \n",
      "                                                                 \n",
      "=================================================================\n",
      "Total params: 9,460\n",
      "Trainable params: 1,136\n",
      "Non-trainable params: 8,324\n",
      "_________________________________________________________________\n"
     ]
    }
   ],
   "source": [
    "ae_net.encoder_net.summary()"
   ]
  },
  {
   "cell_type": "code",
   "execution_count": null,
   "metadata": {},
   "outputs": [],
   "source": []
  },
  {
   "cell_type": "code",
   "execution_count": null,
   "metadata": {},
   "outputs": [],
   "source": []
  },
  {
   "cell_type": "code",
   "execution_count": null,
   "metadata": {},
   "outputs": [],
   "source": []
  },
  {
   "cell_type": "code",
   "execution_count": 27,
   "metadata": {},
   "outputs": [
    {
     "name": "stdout",
     "output_type": "stream",
     "text": [
      "Model: \"model_1\"\n",
      "_________________________________________________________________\n",
      " Layer (type)                Output Shape              Param #   \n",
      "=================================================================\n",
      " input_2 (InputLayer)        [(None, 1, 25, 25)]       0         \n",
      "                                                                 \n",
      " periodic_padding_3 (periodi  (None, 1, 29, 29)        1450      \n",
      " c_padding)                                                      \n",
      "                                                                 \n",
      " conv2d_transpose (Conv2DTra  (None, 3, 33, 33)        75        \n",
      " nspose)                                                         \n",
      "                                                                 \n",
      " cropping2d (Cropping2D)     (None, 3, 25, 25)         0         \n",
      "                                                                 \n",
      " batch_normalization_3 (Batc  (None, 3, 25, 25)        12        \n",
      " hNormalization)                                                 \n",
      "                                                                 \n",
      " activation_3 (Activation)   (None, 3, 25, 25)         0         \n",
      "                                                                 \n",
      " attention_module_1 (attenti  (None, 3, 25, 25)        37        \n",
      " on_module)                                                      \n",
      "                                                                 \n",
      " periodic_padding_4 (periodi  (None, 3, 29, 29)        1450      \n",
      " c_padding)                                                      \n",
      "                                                                 \n",
      " conv2d_transpose_1 (Conv2DT  (None, 8, 33, 33)        600       \n",
      " ranspose)                                                       \n",
      "                                                                 \n",
      " cropping2d_1 (Cropping2D)   (None, 8, 25, 25)         0         \n",
      "                                                                 \n",
      " batch_normalization_4 (Batc  (None, 8, 25, 25)        32        \n",
      " hNormalization)                                                 \n",
      "                                                                 \n",
      " activation_4 (Activation)   (None, 8, 25, 25)         0         \n",
      "                                                                 \n",
      " periodic_padding_5 (periodi  (None, 8, 29, 29)        1450      \n",
      " c_padding)                                                      \n",
      "                                                                 \n",
      " conv2d_transpose_2 (Conv2DT  (None, 2, 61, 61)        400       \n",
      " ranspose)                                                       \n",
      "                                                                 \n",
      " cropping2d_2 (Cropping2D)   (None, 2, 50, 50)         0         \n",
      "                                                                 \n",
      " batch_normalization_5 (Batc  (None, 2, 50, 50)        8         \n",
      " hNormalization)                                                 \n",
      "                                                                 \n",
      " activation_5 (Activation)   (None, 2, 50, 50)         0         \n",
      "                                                                 \n",
      "=================================================================\n",
      "Total params: 5,514\n",
      "Trainable params: 1,138\n",
      "Non-trainable params: 4,376\n",
      "_________________________________________________________________\n"
     ]
    }
   ],
   "source": [
    "ae_net.decoder_net.summary()"
   ]
  },
  {
   "cell_type": "code",
   "execution_count": 28,
   "metadata": {},
   "outputs": [
    {
     "name": "stdout",
     "output_type": "stream",
     "text": [
      "Model: \"model_2\"\n",
      "_________________________________________________________________\n",
      " Layer (type)                Output Shape              Param #   \n",
      "=================================================================\n",
      " input_3 (InputLayer)        [(None, 2, 50, 50)]       0         \n",
      "                                                                 \n",
      " model (Functional)          (None, 1, 25, 25)         9460      \n",
      "                                                                 \n",
      " model_1 (Functional)        (None, 2, 50, 50)         5514      \n",
      "                                                                 \n",
      "=================================================================\n",
      "Total params: 14,974\n",
      "Trainable params: 2,274\n",
      "Non-trainable params: 12,700\n",
      "_________________________________________________________________\n"
     ]
    }
   ],
   "source": [
    "ae_net.ae_net.summary()"
   ]
  },
  {
   "cell_type": "code",
   "execution_count": 29,
   "metadata": {
    "colab": {
     "base_uri": "https://localhost:8080/"
    },
    "executionInfo": {
     "elapsed": 9705,
     "status": "ok",
     "timestamp": 1666788875924,
     "user": {
      "displayName": "Rohan Kaushik",
      "userId": "13918477614376051685"
     },
     "user_tz": -120
    },
    "id": "d_Od0ul4P9bK",
    "outputId": "860e9f94-e593-4a74-fcff-6a6657d925de"
   },
   "outputs": [
    {
     "name": "stdout",
     "output_type": "stream",
     "text": [
      "79/79 [==============================] - 2s 24ms/step - loss: 4.4656e-04 - mse: 4.3149e-04 - NMSE: 0.0039\n"
     ]
    }
   ],
   "source": [
    "if behaviour == 'initialiseAndTrainFromScratch' or behaviour == 'loadCheckpointAndContinueTraining':\n",
    "    test_metrics = ae_net.evaluate(\n",
    "        testing_data, testing_data,\n",
    "    )\n",
    "#     train_metrics = ae_net.evaluate(training_data, training_data)\n",
    "#     val_metrics = ae_net.evaluate(val_data, val_data)\n",
    "\n",
    "    save_path = dir_name_ae+dir_sep+'final_net'\n",
    "\n",
    "    if not os.path.isdir(save_path):\n",
    "        os.makedirs(save_path)\n",
    "\n",
    "    save_dict = {\n",
    "        'val_loss_hist':val_loss_hist,\n",
    "        'train_loss_hist':train_loss_hist,\n",
    "        'val_MSE_hist':val_MSE_hist,\n",
    "        'train_MSE_hist':train_MSE_hist,\n",
    "        'val_NMSE_hist':val_NMSE_hist,\n",
    "        'train_NMSE_hist':train_NMSE_hist,\n",
    "        'lr_change':lr_change,\n",
    "        'test_loss':test_metrics[0],\n",
    "        'test_mse':test_metrics[1],\n",
    "#         'train_loss':train_metrics[0],\n",
    "#         'train_mse':train_metrics[1],\n",
    "#         'val_loss':val_metrics[0],\n",
    "#         'val_mse':val_metrics[1],\n",
    "    }\n",
    "    if use_attention_module == True:\n",
    "        for i in range(len(ae_net.encoder_attention_modules_list)):\n",
    "            key = 'encoder_attention_module_{}_lambda'.format(i)\n",
    "            save_dict[key] = encoder_attention_lambdas[key]\n",
    "        for i in range(len(ae_net.decoder_attention_modules_list)):\n",
    "            key = 'decoder_attention_module_{}_lambda'.format(i)\n",
    "            save_dict[key] = decoder_attention_lambdas[key]\n",
    "\n",
    "    with open(save_path+dir_sep+'losses.txt', 'w') as f:\n",
    "        f.write(str(save_dict))\n",
    "\n",
    "    np.savez(\n",
    "        save_path+dir_sep+'losses',\n",
    "        **save_dict\n",
    "    )\n",
    "        \n",
    "\n",
    "    ae_net.save_everything(\n",
    "        file_name=save_path+dir_sep+'final_net')"
   ]
  },
  {
   "cell_type": "code",
   "execution_count": 30,
   "metadata": {
    "colab": {
     "base_uri": "https://localhost:8080/"
    },
    "executionInfo": {
     "elapsed": 7,
     "status": "ok",
     "timestamp": 1666788875925,
     "user": {
      "displayName": "Rohan Kaushik",
      "userId": "13918477614376051685"
     },
     "user_tz": -120
    },
    "id": "Dy8GNcgMVD4T",
    "outputId": "e50e8738-9da1-43de-e551-43f47b64135e"
   },
   "outputs": [
    {
     "name": "stdout",
     "output_type": "stream",
     "text": [
      "lr_change :  [0, 37, 49, 62]\n"
     ]
    }
   ],
   "source": [
    "print('lr_change : ', lr_change)"
   ]
  },
  {
   "cell_type": "code",
   "execution_count": null,
   "metadata": {},
   "outputs": [],
   "source": []
  },
  {
   "cell_type": "code",
   "execution_count": 31,
   "metadata": {
    "colab": {
     "base_uri": "https://localhost:8080/",
     "height": 279
    },
    "executionInfo": {
     "elapsed": 765,
     "status": "ok",
     "timestamp": 1666788876686,
     "user": {
      "displayName": "Rohan Kaushik",
      "userId": "13918477614376051685"
     },
     "user_tz": -120
    },
    "id": "ewTz1COFSocM",
    "outputId": "15bc2be5-d571-433e-b5cd-9c722f38b48b",
    "scrolled": false
   },
   "outputs": [
    {
     "data": {
      "image/png": "[encoded data removed]",
      "text/plain": [
       "<Figure size 640x480 with 1 Axes>"
      ]
     },
     "metadata": {},
     "output_type": "display_data"
    },
    {
     "data": {
      "image/png": "[encoded data removed]",
      "text/plain": [
       "<Figure size 640x480 with 1 Axes>"
      ]
     },
     "metadata": {},
     "output_type": "display_data"
    },
    {
     "data": {
      "text/plain": [
       "<Figure size 640x480 with 0 Axes>"
      ]
     },
     "metadata": {},
     "output_type": "display_data"
    },
    {
     "data": {
      "image/png": "[encoded data removed]",
      "text/plain": [
       "<Figure size 640x480 with 1 Axes>"
      ]
     },
     "metadata": {},
     "output_type": "display_data"
    },
    {
     "data": {
      "text/plain": [
       "<Figure size 640x480 with 0 Axes>"
      ]
     },
     "metadata": {},
     "output_type": "display_data"
    }
   ],
   "source": [
    "# plotting losses\n",
    "dir_name_plot = dir_name_ae + '/plots'\n",
    "if not os.path.isdir(dir_name_plot):\n",
    "    os.makedirs(dir_name_plot)\n",
    "\n",
    "# Visualize loss history\n",
    "fig, ax = plot_losses(\n",
    "    training_loss=train_loss_hist,\n",
    "    val_loss=val_loss_hist,\n",
    "    lr_change=lr_change,\n",
    "    learning_rate_list=learning_rate_list\n",
    ")\n",
    "\n",
    "plt.savefig(dir_name_plot + '{ds}loss_history.png'.format(ds=dir_sep), dpi=300, bbox_inches='tight')\n",
    "plt.show()\n",
    "\n",
    "\n",
    "fig, ax = plot_losses(\n",
    "    training_loss=train_MSE_hist,\n",
    "    val_loss=val_MSE_hist,\n",
    "    lr_change=lr_change,\n",
    "    learning_rate_list=learning_rate_list,\n",
    "    legend_list=['Training MSE', 'Validation MSE'],\n",
    "    xlabel='Epoch',\n",
    "    ylabel='MSE',\n",
    ")\n",
    "plt.savefig(dir_name_plot+'/MSE_history.png', dpi=300, bbox_inches='tight')\n",
    "plt.show()\n",
    "plt.clf()\n",
    "\n",
    "\n",
    "fig, ax = plot_losses(\n",
    "    training_loss=train_NMSE_hist,\n",
    "    val_loss=val_NMSE_hist,\n",
    "    lr_change=lr_change,\n",
    "    learning_rate_list=learning_rate_list,\n",
    "    legend_list=['Training NMSE', 'Validation NMSE'],\n",
    "    xlabel='Epoch',\n",
    "    ylabel='NMSE',\n",
    ")\n",
    "plt.savefig(dir_name_plot+'/NMSE_history.png', dpi=300, bbox_inches='tight')\n",
    "plt.show()\n",
    "plt.clf()"
   ]
  },
  {
   "cell_type": "code",
   "execution_count": 34,
   "metadata": {
    "colab": {
     "base_uri": "https://localhost:8080/"
    },
    "executionInfo": {
     "elapsed": 881,
     "status": "ok",
     "timestamp": 1666788877562,
     "user": {
      "displayName": "Rohan Kaushik",
      "userId": "13918477614376051685"
     },
     "user_tz": -120
    },
    "id": "wwt4brHcOaXi",
    "outputId": "7ba39105-aa8e-49e8-dbfd-619069123fdd"
   },
   "outputs": [
    {
     "data": {
      "image/png": "[encoded data removed]",
      "text/plain": [
       "<Figure size 640x480 with 1 Axes>"
      ]
     },
     "metadata": {},
     "output_type": "display_data"
    },
    {
     "data": {
      "text/plain": [
       "<Figure size 640x480 with 0 Axes>"
      ]
     },
     "metadata": {},
     "output_type": "display_data"
    },
    {
     "data": {
      "image/png": "[encoded data removed]",
      "text/plain": [
       "<Figure size 640x480 with 1 Axes>"
      ]
     },
     "metadata": {},
     "output_type": "display_data"
    },
    {
     "data": {
      "text/plain": [
       "<Figure size 640x480 with 0 Axes>"
      ]
     },
     "metadata": {},
     "output_type": "display_data"
    }
   ],
   "source": [
    "if use_attention_module == True:\n",
    "    # plotting encoder attention lambdas\n",
    "    plot_lst = []\n",
    "    legend_lst = []\n",
    "    for i in range(len(ae_net.encoder_attention_modules_list)):\n",
    "        key = 'encoder_attention_module_{}_lambda'.format(i)\n",
    "        plot_lst.append(encoder_attention_lambdas[key])\n",
    "        legend_lst.append(\"attention module (encoder) {}\".format(i+1))\n",
    "    fig, ax = plot_losses(\n",
    "        training_loss=plot_lst[0],\n",
    "        val_loss=None,\n",
    "        more_plot_arrs_lst=plot_lst[1:] if len(plot_lst)>1 else [],\n",
    "        lr_change=lr_change,\n",
    "        learning_rate_list=learning_rate_list,\n",
    "        legend_list=legend_lst,\n",
    "        xlabel='Epoch',\n",
    "        ylabel=r\"$\\lambda_{attention}$\",\n",
    "        plot_type='plot',\n",
    "        traininglossplot_args=[],\n",
    "        traininglossplot_kwargs={},\n",
    "        epoch_count_begin=0,\n",
    "        epoch_count_end=len(plot_lst[0])-1,\n",
    "    )\n",
    "    plt.savefig(dir_name_plot+'/attention_lambdas_encoder.png', dpi=300, bbox_inches='tight')\n",
    "    plt.show()\n",
    "    plt.clf()\n",
    "    \n",
    "    # plotting decoder attention lambdas\n",
    "    plot_lst = []\n",
    "    legend_lst = []\n",
    "    for i in range(len(ae_net.decoder_attention_modules_list)):\n",
    "        key = 'decoder_attention_module_{}_lambda'.format(i)\n",
    "        plot_lst.append(decoder_attention_lambdas[key])\n",
    "        legend_lst.append(\"attention module (decoder) {}\".format(i+1))\n",
    "    fig, ax = plot_losses(\n",
    "        training_loss=plot_lst[0],\n",
    "        val_loss=None,\n",
    "        more_plot_arrs_lst=plot_lst[1:] if len(plot_lst)>1 else [],\n",
    "        lr_change=lr_change,\n",
    "        learning_rate_list=learning_rate_list,\n",
    "        legend_list=legend_lst,\n",
    "        xlabel='Epoch',\n",
    "        ylabel=r\"$\\lambda_{attention}$\",\n",
    "        plot_type='plot',\n",
    "        traininglossplot_args=[],\n",
    "        traininglossplot_kwargs={},\n",
    "        epoch_count_begin=0,\n",
    "        epoch_count_end=len(plot_lst[0])-1,\n",
    "    )\n",
    "    plt.savefig(dir_name_plot+'/attention_lambdas_decoder.png', dpi=300, bbox_inches='tight')\n",
    "    plt.show()\n",
    "    plt.clf()"
   ]
  },
  {
   "cell_type": "markdown",
   "metadata": {
    "colab": {
     "base_uri": "https://localhost:8080/",
     "height": 1000,
     "output_embedded_package_id": "1kzRwBdNfA2o28NxHkc2fku7QnFPAI8Bo"
    },
    "executionInfo": {
     "elapsed": 4835,
     "status": "ok",
     "timestamp": 1666788882395,
     "user": {
      "displayName": "Rohan Kaushik",
      "userId": "13918477614376051685"
     },
     "user_tz": -120
    },
    "id": "_6rNhThyQrKc",
    "outputId": "fdeeb3f5-009a-404e-8856-b7655d596a88"
   },
   "source": [
    "# POD Comparison"
   ]
  },
  {
   "cell_type": "code",
   "execution_count": 35,
   "metadata": {
    "executionInfo": {
     "elapsed": 17515,
     "status": "ok",
     "timestamp": 1666788899903,
     "user": {
      "displayName": "Rohan Kaushik",
      "userId": "13918477614376051685"
     },
     "user_tz": -120
    },
    "id": "cAiMV0iU0EpK"
   },
   "outputs": [],
   "source": [
    "# pod_training_data = np.empty(shape=(training_data.shape[0], training_data.shape[1]*training_data.shape[2]*training_data.shape[3]))\n",
    "# pod_training_data[:, :] = np.reshape(training_data, (training_data.shape[0], training_data.shape[1]*training_data.shape[2]*training_data.shape[3]))\n",
    "\n",
    "# pod_centering_means = np.mean(pod_training_data, axis=0)\n",
    "# pod_mean_centered_data = pod_training_data - pod_centering_means"
   ]
  },
  {
   "cell_type": "code",
   "execution_count": 36,
   "metadata": {
    "scrolled": true
   },
   "outputs": [],
   "source": [
    "# C = np.transpose(pod_mean_centered_data) @ pod_mean_centered_data\n",
    "# C /= pod_mean_centered_data.shape[0] - 1"
   ]
  },
  {
   "cell_type": "code",
   "execution_count": 37,
   "metadata": {
    "colab": {
     "base_uri": "https://localhost:8080/"
    },
    "executionInfo": {
     "elapsed": 600,
     "status": "ok",
     "timestamp": 1666788900494,
     "user": {
      "displayName": "Rohan Kaushik",
      "userId": "13918477614376051685"
     },
     "user_tz": -120
    },
    "id": "jVqsAwsY0Amw",
    "outputId": "95dd7bc9-f2b0-421e-a1b4-3e7e594cd44a"
   },
   "outputs": [],
   "source": [
    "# eigenvals, eigenvecs = np.linalg.eig(C)"
   ]
  },
  {
   "cell_type": "code",
   "execution_count": 38,
   "metadata": {
    "colab": {
     "base_uri": "https://localhost:8080/",
     "height": 1000
    },
    "executionInfo": {
     "elapsed": 2127,
     "status": "ok",
     "timestamp": 1666788902619,
     "user": {
      "displayName": "Rohan Kaushik",
      "userId": "13918477614376051685"
     },
     "user_tz": -120
    },
    "id": "wjgPNitSrt5p",
    "outputId": "d60c9340-28f4-479b-8b66-5ee2a5fc5cee"
   },
   "outputs": [],
   "source": [
    "# abs_eigenvals = np.abs(eigenvals)\n",
    "# idx = np.argsort(abs_eigenvals)"
   ]
  },
  {
   "cell_type": "code",
   "execution_count": 39,
   "metadata": {
    "executionInfo": {
     "elapsed": 5242,
     "status": "ok",
     "timestamp": 1666788907858,
     "user": {
      "displayName": "Rohan Kaushik",
      "userId": "13918477614376051685"
     },
     "user_tz": -120
    },
    "id": "Jv8PgBgzV1_s"
   },
   "outputs": [],
   "source": [
    "# idx = idx[::-1]\n",
    "# W = eigenvecs[:, idx[0:4*4*enc_filters[-1]]]"
   ]
  },
  {
   "cell_type": "code",
   "execution_count": 40,
   "metadata": {
    "executionInfo": {
     "elapsed": 17,
     "status": "ok",
     "timestamp": 1666788907859,
     "user": {
      "displayName": "Rohan Kaushik",
      "userId": "13918477614376051685"
     },
     "user_tz": -120
    },
    "id": "wnLnqg0Jrt5t"
   },
   "outputs": [],
   "source": [
    "# reconstructed_val_data = val_data.reshape(val_data.shape[0], training_data.shape[1]*training_data.shape[2]*training_data.shape[3]) @ W @ W.transpose()\n",
    "# reconstructed_val_data = np.reshape(reconstructed_val_data, val_data.shape)"
   ]
  },
  {
   "cell_type": "code",
   "execution_count": 41,
   "metadata": {},
   "outputs": [],
   "source": [
    "# val_recon_MSE = np.reshape((reconstructed_val_data - val_data)**2, (val_data.shape[0], training_data.shape[1]*training_data.shape[2]*training_data.shape[3]))\n",
    "# val_recon_MSE = np.mean(np.sum(val_recon_MSE, axis=1), axis=0)"
   ]
  },
  {
   "cell_type": "code",
   "execution_count": 42,
   "metadata": {
    "scrolled": true
   },
   "outputs": [],
   "source": [
    "# print(val_recon_MSE, val_recon_MSE/np.sum(time_stddev**2), np.sum(time_stddev**2))"
   ]
  },
  {
   "cell_type": "code",
   "execution_count": 43,
   "metadata": {},
   "outputs": [],
   "source": [
    "# abs_eigenvals[idx[0:4*4*2]]"
   ]
  },
  {
   "cell_type": "code",
   "execution_count": null,
   "metadata": {},
   "outputs": [],
   "source": []
  },
  {
   "cell_type": "code",
   "execution_count": 44,
   "metadata": {},
   "outputs": [
    {
     "name": "stdout",
     "output_type": "stream",
     "text": [
      "i : 8, name : attention_module, lambda_att : -0.32453998923301697\n",
      "\n"
     ]
    }
   ],
   "source": [
    "s = ''\n",
    "for i in range(len(ae_net.encoder_layers_list)):\n",
    "    l = ae_net.encoder_layers_list[i]\n",
    "    name = str(l.name)\n",
    "    if name.startswith('attention_module'):\n",
    "        # print(i, name, l.lambda_att.numpy())\n",
    "        s += 'i : {}, name : {}, lambda_att : {}\\n'.format(i, name, l.lambda_att.numpy())\n",
    "print(s)\n",
    "\n",
    "if s != '':\n",
    "    with open(dir_name_ae + '/attention_lambdas_encoder.txt', 'w') as f:\n",
    "        f.write(s)"
   ]
  },
  {
   "cell_type": "code",
   "execution_count": 45,
   "metadata": {},
   "outputs": [
    {
     "name": "stdout",
     "output_type": "stream",
     "text": [
      "i : 5, name : attention_module_1, lambda_att : -0.4442145824432373\n",
      "\n"
     ]
    }
   ],
   "source": [
    "s = ''\n",
    "for i in range(len(ae_net.decoder_layers_list)):\n",
    "    l = ae_net.decoder_layers_list[i]\n",
    "    name = str(l.name)\n",
    "    if name.startswith('attention_module'):\n",
    "        # print(i, name, l.lambda_att.numpy())\n",
    "        s += 'i : {}, name : {}, lambda_att : {}\\n'.format(i, name, l.lambda_att.numpy())\n",
    "print(s)\n",
    "\n",
    "if s != '':\n",
    "    with open(dir_name_ae + '/attention_lambdas_decoder.txt', 'w') as f:\n",
    "        f.write(s)"
   ]
  },
  {
   "cell_type": "code",
   "execution_count": 46,
   "metadata": {
    "scrolled": false
   },
   "outputs": [
    {
     "name": "stdout",
     "output_type": "stream",
     "text": [
      "0 periodic_padding <tf.Variable 'periodic_padding/M_mat:0' shape=(54, 50) dtype=float32, numpy=\n",
      "array([[0., 0., 0., ..., 0., 1., 0.],\n",
      "       [0., 0., 0., ..., 0., 0., 1.],\n",
      "       [1., 0., 0., ..., 0., 0., 0.],\n",
      "       ...,\n",
      "       [0., 0., 0., ..., 0., 0., 1.],\n",
      "       [1., 0., 0., ..., 0., 0., 0.],\n",
      "       [0., 1., 0., ..., 0., 0., 0.]], dtype=float32)>\n",
      "4 periodic_padding_1 <tf.Variable 'periodic_padding_1/M_mat:0' shape=(29, 25) dtype=float32, numpy=\n",
      "array([[0., 0., 0., 0., 0., 0., 0., 0., 0., 0., 0., 0., 0., 0., 0., 0.,\n",
      "        0., 0., 0., 0., 0., 0., 0., 1., 0.],\n",
      "       [0., 0., 0., 0., 0., 0., 0., 0., 0., 0., 0., 0., 0., 0., 0., 0.,\n",
      "        0., 0., 0., 0., 0., 0., 0., 0., 1.],\n",
      "       [1., 0., 0., 0., 0., 0., 0., 0., 0., 0., 0., 0., 0., 0., 0., 0.,\n",
      "        0., 0., 0., 0., 0., 0., 0., 0., 0.],\n",
      "       [0., 1., 0., 0., 0., 0., 0., 0., 0., 0., 0., 0., 0., 0., 0., 0.,\n",
      "        0., 0., 0., 0., 0., 0., 0., 0., 0.],\n",
      "       [0., 0., 1., 0., 0., 0., 0., 0., 0., 0., 0., 0., 0., 0., 0., 0.,\n",
      "        0., 0., 0., 0., 0., 0., 0., 0., 0.],\n",
      "       [0., 0., 0., 1., 0., 0., 0., 0., 0., 0., 0., 0., 0., 0., 0., 0.,\n",
      "        0., 0., 0., 0., 0., 0., 0., 0., 0.],\n",
      "       [0., 0., 0., 0., 1., 0., 0., 0., 0., 0., 0., 0., 0., 0., 0., 0.,\n",
      "        0., 0., 0., 0., 0., 0., 0., 0., 0.],\n",
      "       [0., 0., 0., 0., 0., 1., 0., 0., 0., 0., 0., 0., 0., 0., 0., 0.,\n",
      "        0., 0., 0., 0., 0., 0., 0., 0., 0.],\n",
      "       [0., 0., 0., 0., 0., 0., 1., 0., 0., 0., 0., 0., 0., 0., 0., 0.,\n",
      "        0., 0., 0., 0., 0., 0., 0., 0., 0.],\n",
      "       [0., 0., 0., 0., 0., 0., 0., 1., 0., 0., 0., 0., 0., 0., 0., 0.,\n",
      "        0., 0., 0., 0., 0., 0., 0., 0., 0.],\n",
      "       [0., 0., 0., 0., 0., 0., 0., 0., 1., 0., 0., 0., 0., 0., 0., 0.,\n",
      "        0., 0., 0., 0., 0., 0., 0., 0., 0.],\n",
      "       [0., 0., 0., 0., 0., 0., 0., 0., 0., 1., 0., 0., 0., 0., 0., 0.,\n",
      "        0., 0., 0., 0., 0., 0., 0., 0., 0.],\n",
      "       [0., 0., 0., 0., 0., 0., 0., 0., 0., 0., 1., 0., 0., 0., 0., 0.,\n",
      "        0., 0., 0., 0., 0., 0., 0., 0., 0.],\n",
      "       [0., 0., 0., 0., 0., 0., 0., 0., 0., 0., 0., 1., 0., 0., 0., 0.,\n",
      "        0., 0., 0., 0., 0., 0., 0., 0., 0.],\n",
      "       [0., 0., 0., 0., 0., 0., 0., 0., 0., 0., 0., 0., 1., 0., 0., 0.,\n",
      "        0., 0., 0., 0., 0., 0., 0., 0., 0.],\n",
      "       [0., 0., 0., 0., 0., 0., 0., 0., 0., 0., 0., 0., 0., 1., 0., 0.,\n",
      "        0., 0., 0., 0., 0., 0., 0., 0., 0.],\n",
      "       [0., 0., 0., 0., 0., 0., 0., 0., 0., 0., 0., 0., 0., 0., 1., 0.,\n",
      "        0., 0., 0., 0., 0., 0., 0., 0., 0.],\n",
      "       [0., 0., 0., 0., 0., 0., 0., 0., 0., 0., 0., 0., 0., 0., 0., 1.,\n",
      "        0., 0., 0., 0., 0., 0., 0., 0., 0.],\n",
      "       [0., 0., 0., 0., 0., 0., 0., 0., 0., 0., 0., 0., 0., 0., 0., 0.,\n",
      "        1., 0., 0., 0., 0., 0., 0., 0., 0.],\n",
      "       [0., 0., 0., 0., 0., 0., 0., 0., 0., 0., 0., 0., 0., 0., 0., 0.,\n",
      "        0., 1., 0., 0., 0., 0., 0., 0., 0.],\n",
      "       [0., 0., 0., 0., 0., 0., 0., 0., 0., 0., 0., 0., 0., 0., 0., 0.,\n",
      "        0., 0., 1., 0., 0., 0., 0., 0., 0.],\n",
      "       [0., 0., 0., 0., 0., 0., 0., 0., 0., 0., 0., 0., 0., 0., 0., 0.,\n",
      "        0., 0., 0., 1., 0., 0., 0., 0., 0.],\n",
      "       [0., 0., 0., 0., 0., 0., 0., 0., 0., 0., 0., 0., 0., 0., 0., 0.,\n",
      "        0., 0., 0., 0., 1., 0., 0., 0., 0.],\n",
      "       [0., 0., 0., 0., 0., 0., 0., 0., 0., 0., 0., 0., 0., 0., 0., 0.,\n",
      "        0., 0., 0., 0., 0., 1., 0., 0., 0.],\n",
      "       [0., 0., 0., 0., 0., 0., 0., 0., 0., 0., 0., 0., 0., 0., 0., 0.,\n",
      "        0., 0., 0., 0., 0., 0., 1., 0., 0.],\n",
      "       [0., 0., 0., 0., 0., 0., 0., 0., 0., 0., 0., 0., 0., 0., 0., 0.,\n",
      "        0., 0., 0., 0., 0., 0., 0., 1., 0.],\n",
      "       [0., 0., 0., 0., 0., 0., 0., 0., 0., 0., 0., 0., 0., 0., 0., 0.,\n",
      "        0., 0., 0., 0., 0., 0., 0., 0., 1.],\n",
      "       [1., 0., 0., 0., 0., 0., 0., 0., 0., 0., 0., 0., 0., 0., 0., 0.,\n",
      "        0., 0., 0., 0., 0., 0., 0., 0., 0.],\n",
      "       [0., 1., 0., 0., 0., 0., 0., 0., 0., 0., 0., 0., 0., 0., 0., 0.,\n",
      "        0., 0., 0., 0., 0., 0., 0., 0., 0.]], dtype=float32)>\n",
      "9 periodic_padding_2 <tf.Variable 'periodic_padding_2/M_mat:0' shape=(29, 25) dtype=float32, numpy=\n",
      "array([[0., 0., 0., 0., 0., 0., 0., 0., 0., 0., 0., 0., 0., 0., 0., 0.,\n",
      "        0., 0., 0., 0., 0., 0., 0., 1., 0.],\n",
      "       [0., 0., 0., 0., 0., 0., 0., 0., 0., 0., 0., 0., 0., 0., 0., 0.,\n",
      "        0., 0., 0., 0., 0., 0., 0., 0., 1.],\n",
      "       [1., 0., 0., 0., 0., 0., 0., 0., 0., 0., 0., 0., 0., 0., 0., 0.,\n",
      "        0., 0., 0., 0., 0., 0., 0., 0., 0.],\n",
      "       [0., 1., 0., 0., 0., 0., 0., 0., 0., 0., 0., 0., 0., 0., 0., 0.,\n",
      "        0., 0., 0., 0., 0., 0., 0., 0., 0.],\n",
      "       [0., 0., 1., 0., 0., 0., 0., 0., 0., 0., 0., 0., 0., 0., 0., 0.,\n",
      "        0., 0., 0., 0., 0., 0., 0., 0., 0.],\n",
      "       [0., 0., 0., 1., 0., 0., 0., 0., 0., 0., 0., 0., 0., 0., 0., 0.,\n",
      "        0., 0., 0., 0., 0., 0., 0., 0., 0.],\n",
      "       [0., 0., 0., 0., 1., 0., 0., 0., 0., 0., 0., 0., 0., 0., 0., 0.,\n",
      "        0., 0., 0., 0., 0., 0., 0., 0., 0.],\n",
      "       [0., 0., 0., 0., 0., 1., 0., 0., 0., 0., 0., 0., 0., 0., 0., 0.,\n",
      "        0., 0., 0., 0., 0., 0., 0., 0., 0.],\n",
      "       [0., 0., 0., 0., 0., 0., 1., 0., 0., 0., 0., 0., 0., 0., 0., 0.,\n",
      "        0., 0., 0., 0., 0., 0., 0., 0., 0.],\n",
      "       [0., 0., 0., 0., 0., 0., 0., 1., 0., 0., 0., 0., 0., 0., 0., 0.,\n",
      "        0., 0., 0., 0., 0., 0., 0., 0., 0.],\n",
      "       [0., 0., 0., 0., 0., 0., 0., 0., 1., 0., 0., 0., 0., 0., 0., 0.,\n",
      "        0., 0., 0., 0., 0., 0., 0., 0., 0.],\n",
      "       [0., 0., 0., 0., 0., 0., 0., 0., 0., 1., 0., 0., 0., 0., 0., 0.,\n",
      "        0., 0., 0., 0., 0., 0., 0., 0., 0.],\n",
      "       [0., 0., 0., 0., 0., 0., 0., 0., 0., 0., 1., 0., 0., 0., 0., 0.,\n",
      "        0., 0., 0., 0., 0., 0., 0., 0., 0.],\n",
      "       [0., 0., 0., 0., 0., 0., 0., 0., 0., 0., 0., 1., 0., 0., 0., 0.,\n",
      "        0., 0., 0., 0., 0., 0., 0., 0., 0.],\n",
      "       [0., 0., 0., 0., 0., 0., 0., 0., 0., 0., 0., 0., 1., 0., 0., 0.,\n",
      "        0., 0., 0., 0., 0., 0., 0., 0., 0.],\n",
      "       [0., 0., 0., 0., 0., 0., 0., 0., 0., 0., 0., 0., 0., 1., 0., 0.,\n",
      "        0., 0., 0., 0., 0., 0., 0., 0., 0.],\n",
      "       [0., 0., 0., 0., 0., 0., 0., 0., 0., 0., 0., 0., 0., 0., 1., 0.,\n",
      "        0., 0., 0., 0., 0., 0., 0., 0., 0.],\n",
      "       [0., 0., 0., 0., 0., 0., 0., 0., 0., 0., 0., 0., 0., 0., 0., 1.,\n",
      "        0., 0., 0., 0., 0., 0., 0., 0., 0.],\n",
      "       [0., 0., 0., 0., 0., 0., 0., 0., 0., 0., 0., 0., 0., 0., 0., 0.,\n",
      "        1., 0., 0., 0., 0., 0., 0., 0., 0.],\n",
      "       [0., 0., 0., 0., 0., 0., 0., 0., 0., 0., 0., 0., 0., 0., 0., 0.,\n",
      "        0., 1., 0., 0., 0., 0., 0., 0., 0.],\n",
      "       [0., 0., 0., 0., 0., 0., 0., 0., 0., 0., 0., 0., 0., 0., 0., 0.,\n",
      "        0., 0., 1., 0., 0., 0., 0., 0., 0.],\n",
      "       [0., 0., 0., 0., 0., 0., 0., 0., 0., 0., 0., 0., 0., 0., 0., 0.,\n",
      "        0., 0., 0., 1., 0., 0., 0., 0., 0.],\n",
      "       [0., 0., 0., 0., 0., 0., 0., 0., 0., 0., 0., 0., 0., 0., 0., 0.,\n",
      "        0., 0., 0., 0., 1., 0., 0., 0., 0.],\n",
      "       [0., 0., 0., 0., 0., 0., 0., 0., 0., 0., 0., 0., 0., 0., 0., 0.,\n",
      "        0., 0., 0., 0., 0., 1., 0., 0., 0.],\n",
      "       [0., 0., 0., 0., 0., 0., 0., 0., 0., 0., 0., 0., 0., 0., 0., 0.,\n",
      "        0., 0., 0., 0., 0., 0., 1., 0., 0.],\n",
      "       [0., 0., 0., 0., 0., 0., 0., 0., 0., 0., 0., 0., 0., 0., 0., 0.,\n",
      "        0., 0., 0., 0., 0., 0., 0., 1., 0.],\n",
      "       [0., 0., 0., 0., 0., 0., 0., 0., 0., 0., 0., 0., 0., 0., 0., 0.,\n",
      "        0., 0., 0., 0., 0., 0., 0., 0., 1.],\n",
      "       [1., 0., 0., 0., 0., 0., 0., 0., 0., 0., 0., 0., 0., 0., 0., 0.,\n",
      "        0., 0., 0., 0., 0., 0., 0., 0., 0.],\n",
      "       [0., 1., 0., 0., 0., 0., 0., 0., 0., 0., 0., 0., 0., 0., 0., 0.,\n",
      "        0., 0., 0., 0., 0., 0., 0., 0., 0.]], dtype=float32)>\n"
     ]
    }
   ],
   "source": [
    "for i in range(len(ae_net.encoder_layers_list)):\n",
    "    l = ae_net.encoder_layers_list[i]\n",
    "    name = str(l.name)\n",
    "    if name.startswith('periodic_padding'):\n",
    "        print(i, name, l.M_mat)"
   ]
  },
  {
   "cell_type": "code",
   "execution_count": 47,
   "metadata": {},
   "outputs": [
    {
     "name": "stdout",
     "output_type": "stream",
     "text": [
      "0 periodic_padding_3 <tf.Variable 'periodic_padding_3/M_mat:0' shape=(29, 25) dtype=float32, numpy=\n",
      "array([[0., 0., 0., 0., 0., 0., 0., 0., 0., 0., 0., 0., 0., 0., 0., 0.,\n",
      "        0., 0., 0., 0., 0., 0., 0., 1., 0.],\n",
      "       [0., 0., 0., 0., 0., 0., 0., 0., 0., 0., 0., 0., 0., 0., 0., 0.,\n",
      "        0., 0., 0., 0., 0., 0., 0., 0., 1.],\n",
      "       [1., 0., 0., 0., 0., 0., 0., 0., 0., 0., 0., 0., 0., 0., 0., 0.,\n",
      "        0., 0., 0., 0., 0., 0., 0., 0., 0.],\n",
      "       [0., 1., 0., 0., 0., 0., 0., 0., 0., 0., 0., 0., 0., 0., 0., 0.,\n",
      "        0., 0., 0., 0., 0., 0., 0., 0., 0.],\n",
      "       [0., 0., 1., 0., 0., 0., 0., 0., 0., 0., 0., 0., 0., 0., 0., 0.,\n",
      "        0., 0., 0., 0., 0., 0., 0., 0., 0.],\n",
      "       [0., 0., 0., 1., 0., 0., 0., 0., 0., 0., 0., 0., 0., 0., 0., 0.,\n",
      "        0., 0., 0., 0., 0., 0., 0., 0., 0.],\n",
      "       [0., 0., 0., 0., 1., 0., 0., 0., 0., 0., 0., 0., 0., 0., 0., 0.,\n",
      "        0., 0., 0., 0., 0., 0., 0., 0., 0.],\n",
      "       [0., 0., 0., 0., 0., 1., 0., 0., 0., 0., 0., 0., 0., 0., 0., 0.,\n",
      "        0., 0., 0., 0., 0., 0., 0., 0., 0.],\n",
      "       [0., 0., 0., 0., 0., 0., 1., 0., 0., 0., 0., 0., 0., 0., 0., 0.,\n",
      "        0., 0., 0., 0., 0., 0., 0., 0., 0.],\n",
      "       [0., 0., 0., 0., 0., 0., 0., 1., 0., 0., 0., 0., 0., 0., 0., 0.,\n",
      "        0., 0., 0., 0., 0., 0., 0., 0., 0.],\n",
      "       [0., 0., 0., 0., 0., 0., 0., 0., 1., 0., 0., 0., 0., 0., 0., 0.,\n",
      "        0., 0., 0., 0., 0., 0., 0., 0., 0.],\n",
      "       [0., 0., 0., 0., 0., 0., 0., 0., 0., 1., 0., 0., 0., 0., 0., 0.,\n",
      "        0., 0., 0., 0., 0., 0., 0., 0., 0.],\n",
      "       [0., 0., 0., 0., 0., 0., 0., 0., 0., 0., 1., 0., 0., 0., 0., 0.,\n",
      "        0., 0., 0., 0., 0., 0., 0., 0., 0.],\n",
      "       [0., 0., 0., 0., 0., 0., 0., 0., 0., 0., 0., 1., 0., 0., 0., 0.,\n",
      "        0., 0., 0., 0., 0., 0., 0., 0., 0.],\n",
      "       [0., 0., 0., 0., 0., 0., 0., 0., 0., 0., 0., 0., 1., 0., 0., 0.,\n",
      "        0., 0., 0., 0., 0., 0., 0., 0., 0.],\n",
      "       [0., 0., 0., 0., 0., 0., 0., 0., 0., 0., 0., 0., 0., 1., 0., 0.,\n",
      "        0., 0., 0., 0., 0., 0., 0., 0., 0.],\n",
      "       [0., 0., 0., 0., 0., 0., 0., 0., 0., 0., 0., 0., 0., 0., 1., 0.,\n",
      "        0., 0., 0., 0., 0., 0., 0., 0., 0.],\n",
      "       [0., 0., 0., 0., 0., 0., 0., 0., 0., 0., 0., 0., 0., 0., 0., 1.,\n",
      "        0., 0., 0., 0., 0., 0., 0., 0., 0.],\n",
      "       [0., 0., 0., 0., 0., 0., 0., 0., 0., 0., 0., 0., 0., 0., 0., 0.,\n",
      "        1., 0., 0., 0., 0., 0., 0., 0., 0.],\n",
      "       [0., 0., 0., 0., 0., 0., 0., 0., 0., 0., 0., 0., 0., 0., 0., 0.,\n",
      "        0., 1., 0., 0., 0., 0., 0., 0., 0.],\n",
      "       [0., 0., 0., 0., 0., 0., 0., 0., 0., 0., 0., 0., 0., 0., 0., 0.,\n",
      "        0., 0., 1., 0., 0., 0., 0., 0., 0.],\n",
      "       [0., 0., 0., 0., 0., 0., 0., 0., 0., 0., 0., 0., 0., 0., 0., 0.,\n",
      "        0., 0., 0., 1., 0., 0., 0., 0., 0.],\n",
      "       [0., 0., 0., 0., 0., 0., 0., 0., 0., 0., 0., 0., 0., 0., 0., 0.,\n",
      "        0., 0., 0., 0., 1., 0., 0., 0., 0.],\n",
      "       [0., 0., 0., 0., 0., 0., 0., 0., 0., 0., 0., 0., 0., 0., 0., 0.,\n",
      "        0., 0., 0., 0., 0., 1., 0., 0., 0.],\n",
      "       [0., 0., 0., 0., 0., 0., 0., 0., 0., 0., 0., 0., 0., 0., 0., 0.,\n",
      "        0., 0., 0., 0., 0., 0., 1., 0., 0.],\n",
      "       [0., 0., 0., 0., 0., 0., 0., 0., 0., 0., 0., 0., 0., 0., 0., 0.,\n",
      "        0., 0., 0., 0., 0., 0., 0., 1., 0.],\n",
      "       [0., 0., 0., 0., 0., 0., 0., 0., 0., 0., 0., 0., 0., 0., 0., 0.,\n",
      "        0., 0., 0., 0., 0., 0., 0., 0., 1.],\n",
      "       [1., 0., 0., 0., 0., 0., 0., 0., 0., 0., 0., 0., 0., 0., 0., 0.,\n",
      "        0., 0., 0., 0., 0., 0., 0., 0., 0.],\n",
      "       [0., 1., 0., 0., 0., 0., 0., 0., 0., 0., 0., 0., 0., 0., 0., 0.,\n",
      "        0., 0., 0., 0., 0., 0., 0., 0., 0.]], dtype=float32)>\n",
      "6 periodic_padding_4 <tf.Variable 'periodic_padding_4/M_mat:0' shape=(29, 25) dtype=float32, numpy=\n",
      "array([[0., 0., 0., 0., 0., 0., 0., 0., 0., 0., 0., 0., 0., 0., 0., 0.,\n",
      "        0., 0., 0., 0., 0., 0., 0., 1., 0.],\n",
      "       [0., 0., 0., 0., 0., 0., 0., 0., 0., 0., 0., 0., 0., 0., 0., 0.,\n",
      "        0., 0., 0., 0., 0., 0., 0., 0., 1.],\n",
      "       [1., 0., 0., 0., 0., 0., 0., 0., 0., 0., 0., 0., 0., 0., 0., 0.,\n",
      "        0., 0., 0., 0., 0., 0., 0., 0., 0.],\n",
      "       [0., 1., 0., 0., 0., 0., 0., 0., 0., 0., 0., 0., 0., 0., 0., 0.,\n",
      "        0., 0., 0., 0., 0., 0., 0., 0., 0.],\n",
      "       [0., 0., 1., 0., 0., 0., 0., 0., 0., 0., 0., 0., 0., 0., 0., 0.,\n",
      "        0., 0., 0., 0., 0., 0., 0., 0., 0.],\n",
      "       [0., 0., 0., 1., 0., 0., 0., 0., 0., 0., 0., 0., 0., 0., 0., 0.,\n",
      "        0., 0., 0., 0., 0., 0., 0., 0., 0.],\n",
      "       [0., 0., 0., 0., 1., 0., 0., 0., 0., 0., 0., 0., 0., 0., 0., 0.,\n",
      "        0., 0., 0., 0., 0., 0., 0., 0., 0.],\n",
      "       [0., 0., 0., 0., 0., 1., 0., 0., 0., 0., 0., 0., 0., 0., 0., 0.,\n",
      "        0., 0., 0., 0., 0., 0., 0., 0., 0.],\n",
      "       [0., 0., 0., 0., 0., 0., 1., 0., 0., 0., 0., 0., 0., 0., 0., 0.,\n",
      "        0., 0., 0., 0., 0., 0., 0., 0., 0.],\n",
      "       [0., 0., 0., 0., 0., 0., 0., 1., 0., 0., 0., 0., 0., 0., 0., 0.,\n",
      "        0., 0., 0., 0., 0., 0., 0., 0., 0.],\n",
      "       [0., 0., 0., 0., 0., 0., 0., 0., 1., 0., 0., 0., 0., 0., 0., 0.,\n",
      "        0., 0., 0., 0., 0., 0., 0., 0., 0.],\n",
      "       [0., 0., 0., 0., 0., 0., 0., 0., 0., 1., 0., 0., 0., 0., 0., 0.,\n",
      "        0., 0., 0., 0., 0., 0., 0., 0., 0.],\n",
      "       [0., 0., 0., 0., 0., 0., 0., 0., 0., 0., 1., 0., 0., 0., 0., 0.,\n",
      "        0., 0., 0., 0., 0., 0., 0., 0., 0.],\n",
      "       [0., 0., 0., 0., 0., 0., 0., 0., 0., 0., 0., 1., 0., 0., 0., 0.,\n",
      "        0., 0., 0., 0., 0., 0., 0., 0., 0.],\n",
      "       [0., 0., 0., 0., 0., 0., 0., 0., 0., 0., 0., 0., 1., 0., 0., 0.,\n",
      "        0., 0., 0., 0., 0., 0., 0., 0., 0.],\n",
      "       [0., 0., 0., 0., 0., 0., 0., 0., 0., 0., 0., 0., 0., 1., 0., 0.,\n",
      "        0., 0., 0., 0., 0., 0., 0., 0., 0.],\n",
      "       [0., 0., 0., 0., 0., 0., 0., 0., 0., 0., 0., 0., 0., 0., 1., 0.,\n",
      "        0., 0., 0., 0., 0., 0., 0., 0., 0.],\n",
      "       [0., 0., 0., 0., 0., 0., 0., 0., 0., 0., 0., 0., 0., 0., 0., 1.,\n",
      "        0., 0., 0., 0., 0., 0., 0., 0., 0.],\n",
      "       [0., 0., 0., 0., 0., 0., 0., 0., 0., 0., 0., 0., 0., 0., 0., 0.,\n",
      "        1., 0., 0., 0., 0., 0., 0., 0., 0.],\n",
      "       [0., 0., 0., 0., 0., 0., 0., 0., 0., 0., 0., 0., 0., 0., 0., 0.,\n",
      "        0., 1., 0., 0., 0., 0., 0., 0., 0.],\n",
      "       [0., 0., 0., 0., 0., 0., 0., 0., 0., 0., 0., 0., 0., 0., 0., 0.,\n",
      "        0., 0., 1., 0., 0., 0., 0., 0., 0.],\n",
      "       [0., 0., 0., 0., 0., 0., 0., 0., 0., 0., 0., 0., 0., 0., 0., 0.,\n",
      "        0., 0., 0., 1., 0., 0., 0., 0., 0.],\n",
      "       [0., 0., 0., 0., 0., 0., 0., 0., 0., 0., 0., 0., 0., 0., 0., 0.,\n",
      "        0., 0., 0., 0., 1., 0., 0., 0., 0.],\n",
      "       [0., 0., 0., 0., 0., 0., 0., 0., 0., 0., 0., 0., 0., 0., 0., 0.,\n",
      "        0., 0., 0., 0., 0., 1., 0., 0., 0.],\n",
      "       [0., 0., 0., 0., 0., 0., 0., 0., 0., 0., 0., 0., 0., 0., 0., 0.,\n",
      "        0., 0., 0., 0., 0., 0., 1., 0., 0.],\n",
      "       [0., 0., 0., 0., 0., 0., 0., 0., 0., 0., 0., 0., 0., 0., 0., 0.,\n",
      "        0., 0., 0., 0., 0., 0., 0., 1., 0.],\n",
      "       [0., 0., 0., 0., 0., 0., 0., 0., 0., 0., 0., 0., 0., 0., 0., 0.,\n",
      "        0., 0., 0., 0., 0., 0., 0., 0., 1.],\n",
      "       [1., 0., 0., 0., 0., 0., 0., 0., 0., 0., 0., 0., 0., 0., 0., 0.,\n",
      "        0., 0., 0., 0., 0., 0., 0., 0., 0.],\n",
      "       [0., 1., 0., 0., 0., 0., 0., 0., 0., 0., 0., 0., 0., 0., 0., 0.,\n",
      "        0., 0., 0., 0., 0., 0., 0., 0., 0.]], dtype=float32)>\n",
      "11 periodic_padding_5 <tf.Variable 'periodic_padding_5/M_mat:0' shape=(29, 25) dtype=float32, numpy=\n",
      "array([[0., 0., 0., 0., 0., 0., 0., 0., 0., 0., 0., 0., 0., 0., 0., 0.,\n",
      "        0., 0., 0., 0., 0., 0., 0., 1., 0.],\n",
      "       [0., 0., 0., 0., 0., 0., 0., 0., 0., 0., 0., 0., 0., 0., 0., 0.,\n",
      "        0., 0., 0., 0., 0., 0., 0., 0., 1.],\n",
      "       [1., 0., 0., 0., 0., 0., 0., 0., 0., 0., 0., 0., 0., 0., 0., 0.,\n",
      "        0., 0., 0., 0., 0., 0., 0., 0., 0.],\n",
      "       [0., 1., 0., 0., 0., 0., 0., 0., 0., 0., 0., 0., 0., 0., 0., 0.,\n",
      "        0., 0., 0., 0., 0., 0., 0., 0., 0.],\n",
      "       [0., 0., 1., 0., 0., 0., 0., 0., 0., 0., 0., 0., 0., 0., 0., 0.,\n",
      "        0., 0., 0., 0., 0., 0., 0., 0., 0.],\n",
      "       [0., 0., 0., 1., 0., 0., 0., 0., 0., 0., 0., 0., 0., 0., 0., 0.,\n",
      "        0., 0., 0., 0., 0., 0., 0., 0., 0.],\n",
      "       [0., 0., 0., 0., 1., 0., 0., 0., 0., 0., 0., 0., 0., 0., 0., 0.,\n",
      "        0., 0., 0., 0., 0., 0., 0., 0., 0.],\n",
      "       [0., 0., 0., 0., 0., 1., 0., 0., 0., 0., 0., 0., 0., 0., 0., 0.,\n",
      "        0., 0., 0., 0., 0., 0., 0., 0., 0.],\n",
      "       [0., 0., 0., 0., 0., 0., 1., 0., 0., 0., 0., 0., 0., 0., 0., 0.,\n",
      "        0., 0., 0., 0., 0., 0., 0., 0., 0.],\n",
      "       [0., 0., 0., 0., 0., 0., 0., 1., 0., 0., 0., 0., 0., 0., 0., 0.,\n",
      "        0., 0., 0., 0., 0., 0., 0., 0., 0.],\n",
      "       [0., 0., 0., 0., 0., 0., 0., 0., 1., 0., 0., 0., 0., 0., 0., 0.,\n",
      "        0., 0., 0., 0., 0., 0., 0., 0., 0.],\n",
      "       [0., 0., 0., 0., 0., 0., 0., 0., 0., 1., 0., 0., 0., 0., 0., 0.,\n",
      "        0., 0., 0., 0., 0., 0., 0., 0., 0.],\n",
      "       [0., 0., 0., 0., 0., 0., 0., 0., 0., 0., 1., 0., 0., 0., 0., 0.,\n",
      "        0., 0., 0., 0., 0., 0., 0., 0., 0.],\n",
      "       [0., 0., 0., 0., 0., 0., 0., 0., 0., 0., 0., 1., 0., 0., 0., 0.,\n",
      "        0., 0., 0., 0., 0., 0., 0., 0., 0.],\n",
      "       [0., 0., 0., 0., 0., 0., 0., 0., 0., 0., 0., 0., 1., 0., 0., 0.,\n",
      "        0., 0., 0., 0., 0., 0., 0., 0., 0.],\n",
      "       [0., 0., 0., 0., 0., 0., 0., 0., 0., 0., 0., 0., 0., 1., 0., 0.,\n",
      "        0., 0., 0., 0., 0., 0., 0., 0., 0.],\n",
      "       [0., 0., 0., 0., 0., 0., 0., 0., 0., 0., 0., 0., 0., 0., 1., 0.,\n",
      "        0., 0., 0., 0., 0., 0., 0., 0., 0.],\n",
      "       [0., 0., 0., 0., 0., 0., 0., 0., 0., 0., 0., 0., 0., 0., 0., 1.,\n",
      "        0., 0., 0., 0., 0., 0., 0., 0., 0.],\n",
      "       [0., 0., 0., 0., 0., 0., 0., 0., 0., 0., 0., 0., 0., 0., 0., 0.,\n",
      "        1., 0., 0., 0., 0., 0., 0., 0., 0.],\n",
      "       [0., 0., 0., 0., 0., 0., 0., 0., 0., 0., 0., 0., 0., 0., 0., 0.,\n",
      "        0., 1., 0., 0., 0., 0., 0., 0., 0.],\n",
      "       [0., 0., 0., 0., 0., 0., 0., 0., 0., 0., 0., 0., 0., 0., 0., 0.,\n",
      "        0., 0., 1., 0., 0., 0., 0., 0., 0.],\n",
      "       [0., 0., 0., 0., 0., 0., 0., 0., 0., 0., 0., 0., 0., 0., 0., 0.,\n",
      "        0., 0., 0., 1., 0., 0., 0., 0., 0.],\n",
      "       [0., 0., 0., 0., 0., 0., 0., 0., 0., 0., 0., 0., 0., 0., 0., 0.,\n",
      "        0., 0., 0., 0., 1., 0., 0., 0., 0.],\n",
      "       [0., 0., 0., 0., 0., 0., 0., 0., 0., 0., 0., 0., 0., 0., 0., 0.,\n",
      "        0., 0., 0., 0., 0., 1., 0., 0., 0.],\n",
      "       [0., 0., 0., 0., 0., 0., 0., 0., 0., 0., 0., 0., 0., 0., 0., 0.,\n",
      "        0., 0., 0., 0., 0., 0., 1., 0., 0.],\n",
      "       [0., 0., 0., 0., 0., 0., 0., 0., 0., 0., 0., 0., 0., 0., 0., 0.,\n",
      "        0., 0., 0., 0., 0., 0., 0., 1., 0.],\n",
      "       [0., 0., 0., 0., 0., 0., 0., 0., 0., 0., 0., 0., 0., 0., 0., 0.,\n",
      "        0., 0., 0., 0., 0., 0., 0., 0., 1.],\n",
      "       [1., 0., 0., 0., 0., 0., 0., 0., 0., 0., 0., 0., 0., 0., 0., 0.,\n",
      "        0., 0., 0., 0., 0., 0., 0., 0., 0.],\n",
      "       [0., 1., 0., 0., 0., 0., 0., 0., 0., 0., 0., 0., 0., 0., 0., 0.,\n",
      "        0., 0., 0., 0., 0., 0., 0., 0., 0.]], dtype=float32)>\n"
     ]
    }
   ],
   "source": [
    "for i in range(len(ae_net.decoder_layers_list)):\n",
    "    l = ae_net.decoder_layers_list[i]\n",
    "    name = str(l.name)\n",
    "    if name.startswith('periodic_padding'):\n",
    "        print(i, name, l.M_mat)"
   ]
  },
  {
   "cell_type": "code",
   "execution_count": null,
   "metadata": {},
   "outputs": [],
   "source": []
  },
  {
   "cell_type": "code",
   "execution_count": null,
   "metadata": {},
   "outputs": [],
   "source": []
  },
  {
   "cell_type": "code",
   "execution_count": null,
   "metadata": {},
   "outputs": [],
   "source": []
  },
  {
   "cell_type": "code",
   "execution_count": null,
   "metadata": {},
   "outputs": [],
   "source": []
  }
 ],
 "metadata": {
  "colab": {
   "collapsed_sections": [],
   "provenance": []
  },
  "gpuClass": "standard",
  "kernelspec": {
   "display_name": "Python 3 (ipykernel)",
   "language": "python",
   "name": "python3"
  },
  "language_info": {
   "codemirror_mode": {
    "name": "ipython",
    "version": 3
   },
   "file_extension": ".py",
   "mimetype": "text/x-python",
   "name": "python",
   "nbconvert_exporter": "python",
   "pygments_lexer": "ipython3",
   "version": "3.10.6"
  }
 },
 "nbformat": 4,
 "nbformat_minor": 1
}
