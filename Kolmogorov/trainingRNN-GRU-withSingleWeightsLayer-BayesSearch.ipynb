{
 "cells": [
  {
   "cell_type": "code",
   "execution_count": 1,
   "metadata": {
    "executionInfo": {
     "elapsed": 3,
     "status": "ok",
     "timestamp": 1667868739487,
     "user": {
      "displayName": "Rohan Kaushik",
      "userId": "13918477614376051685"
     },
     "user_tz": -60
    },
    "id": "4xhxMpe_r-Y5"
   },
   "outputs": [],
   "source": [
    "# enabling 3rd party widgets\n",
    "# from google.colab import output\n",
    "# output.enable_custom_widget_manager()\n",
    "# output.disable_custom_widget_manager()\n",
    "\n",
    "# interactive 3D plot\n",
    "# !pip install ipympl\n",
    "# %matplotlib widget"
   ]
  },
  {
   "cell_type": "code",
   "execution_count": 2,
   "metadata": {
    "executionInfo": {
     "elapsed": 3563,
     "status": "ok",
     "timestamp": 1667868743047,
     "user": {
      "displayName": "Rohan Kaushik",
      "userId": "13918477614376051685"
     },
     "user_tz": -60
    },
    "id": "a5qPupCDsjSz"
   },
   "outputs": [],
   "source": [
    "import os\n",
    "import sys\n",
    "import math\n",
    "from collections import OrderedDict\n",
    "import numpy as np\n",
    "import matplotlib.pyplot as plt\n",
    "from scipy import linalg\n",
    "\n",
    "import time as time\n",
    "import platform as platform\n",
    "\n",
    "import tensorflow as tf\n",
    "from tensorflow.keras import layers, losses\n",
    "from tensorflow.keras.models import Model\n",
    "from tensorflow.keras import backend as K\n",
    "from tensorflow.keras.regularizers import L2\n",
    "import h5py\n",
    "\n",
    "from skopt import gp_minimize\n",
    "from skopt.space import Integer, Real\n",
    "\n",
    "tf.keras.backend.set_floatx('float32')\n",
    "\n",
    "plt.rcParams.update({\n",
    "    \"text.usetex\":True,\n",
    "    \"font.family\":\"serif\"\n",
    "})"
   ]
  },
  {
   "cell_type": "code",
   "execution_count": 3,
   "metadata": {
    "colab": {
     "base_uri": "https://localhost:8080/"
    },
    "executionInfo": {
     "elapsed": 10,
     "status": "ok",
     "timestamp": 1667868743048,
     "user": {
      "displayName": "Rohan Kaushik",
      "userId": "13918477614376051685"
     },
     "user_tz": -60
    },
    "id": "h_qXhHdbCgoj",
    "outputId": "3473a883-d145-4778-9be7-7d44e0c6ea67"
   },
   "outputs": [],
   "source": [
    "colab_flag = False\n",
    "FTYPE = np.float32\n",
    "ITYPE = np.int32\n",
    "\n",
    "array = np.array\n",
    "float32 = np.float32\n",
    "int32 = np.int32\n",
    "float64 = np.float64\n",
    "int64 = np.int64\n",
    "\n",
    "strategy = None\n",
    "# strategy = tf.distribute.MirroredStrategy()"
   ]
  },
  {
   "cell_type": "code",
   "execution_count": 4,
   "metadata": {
    "executionInfo": {
     "elapsed": 7,
     "status": "ok",
     "timestamp": 1667868743048,
     "user": {
      "displayName": "Rohan Kaushik",
      "userId": "13918477614376051685"
     },
     "user_tz": -60
    },
    "id": "BiLIUmBPneQR"
   },
   "outputs": [],
   "source": [
    "current_sys = platform.system()\n",
    "\n",
    "if current_sys == 'Windows':\n",
    "    dir_sep = '\\\\'\n",
    "else:\n",
    "    dir_sep = '/'"
   ]
  },
  {
   "cell_type": "code",
   "execution_count": 5,
   "metadata": {
    "colab": {
     "base_uri": "https://localhost:8080/"
    },
    "executionInfo": {
     "elapsed": 18870,
     "status": "ok",
     "timestamp": 1667868761912,
     "user": {
      "displayName": "Rohan Kaushik",
      "userId": "13918477614376051685"
     },
     "user_tz": -60
    },
    "id": "fnTV6Anhni6O",
    "outputId": "bf1d11f8-667f-4cb5-d8d5-b9d860b44d99"
   },
   "outputs": [],
   "source": [
    "if colab_flag == True:\n",
    "    from google.colab import drive\n",
    "    drive.mount('/content/drive')\n",
    "    os.chdir('/content/drive/MyDrive/Github/MLROM/KS/')"
   ]
  },
  {
   "cell_type": "code",
   "execution_count": 6,
   "metadata": {
    "colab": {
     "base_uri": "https://localhost:8080/"
    },
    "executionInfo": {
     "elapsed": 6,
     "status": "ok",
     "timestamp": 1667868761912,
     "user": {
      "displayName": "Rohan Kaushik",
      "userId": "13918477614376051685"
     },
     "user_tz": -60
    },
    "id": "paDfPOrjnkAS",
    "outputId": "58054510-4476-49b4-f8ba-e2978a028b36"
   },
   "outputs": [
    {
     "name": "stdout",
     "output_type": "stream",
     "text": [
      "/home/rkaushik/Documents/Thesis/MLROM/Kolmogorov\n"
     ]
    }
   ],
   "source": [
    "print(os.getcwd())"
   ]
  },
  {
   "cell_type": "code",
   "execution_count": 7,
   "metadata": {
    "executionInfo": {
     "elapsed": 4575,
     "status": "ok",
     "timestamp": 1667868766483,
     "user": {
      "displayName": "Rohan Kaushik",
      "userId": "13918477614376051685"
     },
     "user_tz": -60
    },
    "id": "P6K2YWlR6ZPD"
   },
   "outputs": [],
   "source": [
    "from tools.misc_tools import create_data_for_RNN, mytimecallback, SaveLosses, plot_losses, return_hilbert_x0\n",
    "from tools.ae_v11 import Autoencoder\n",
    "from tools.GRU_SingleStep_v1 import RNN_GRU\n",
    "from tools.GRU_AR_v1 import AR_RNN_GRU\n",
    "from tools.AEGRU_AR_v1 import AR_AERNN_GRU\n",
    "from tools.hyper_param_GRU import trainGRU_and_return_PH"
   ]
  },
  {
   "cell_type": "code",
   "execution_count": null,
   "metadata": {},
   "outputs": [],
   "source": []
  },
  {
   "cell_type": "code",
   "execution_count": 8,
   "metadata": {
    "executionInfo": {
     "elapsed": 9,
     "status": "ok",
     "timestamp": 1667868766483,
     "user": {
      "displayName": "Rohan Kaushik",
      "userId": "13918477614376051685"
     },
     "user_tz": -60
    },
    "id": "_xtkwXE2tGTP"
   },
   "outputs": [],
   "source": [
    "behaviour = 'initialiseAndTrainFromScratch'\n",
    "# behaviour = 'loadCheckpointAndContinueTraining'\n",
    "# behaviour = 'loadFinalNetAndPlot'"
   ]
  },
  {
   "cell_type": "code",
   "execution_count": 9,
   "metadata": {
    "executionInfo": {
     "elapsed": 9,
     "status": "ok",
     "timestamp": 1667868766484,
     "user": {
      "displayName": "Rohan Kaushik",
      "userId": "13918477614376051685"
     },
     "user_tz": -60
    },
    "id": "8S1AHEkl48bn"
   },
   "outputs": [],
   "source": [
    "# setting seed for PRNGs\n",
    "if behaviour == 'initialiseAndTrainFromScratch':\n",
    "    prng_seed = 42\n",
    "    np.random.seed(prng_seed)\n",
    "    tf.random.set_seed(prng_seed)"
   ]
  },
  {
   "cell_type": "code",
   "execution_count": 10,
   "metadata": {
    "colab": {
     "base_uri": "https://localhost:8080/"
    },
    "executionInfo": {
     "elapsed": 9,
     "status": "ok",
     "timestamp": 1667868766484,
     "user": {
      "displayName": "Rohan Kaushik",
      "userId": "13918477614376051685"
     },
     "user_tz": -60
    },
    "id": "qvA9oeCHCTVM",
    "outputId": "0f2de849-59ee-4ed9-b65d-c5952e0dcb55"
   },
   "outputs": [
    {
     "name": "stdout",
     "output_type": "stream",
     "text": [
      "[PhysicalDevice(name='/physical_device:GPU:0', device_type='GPU'), PhysicalDevice(name='/physical_device:GPU:1', device_type='GPU')]\n",
      "[LogicalDevice(name='/device:GPU:0', device_type='GPU')]\n"
     ]
    },
    {
     "name": "stderr",
     "output_type": "stream",
     "text": [
      "2023-07-02 12:06:45.583862: I tensorflow/stream_executor/cuda/cuda_gpu_executor.cc:936] successful NUMA node read from SysFS had negative value (-1), but there must be at least one NUMA node, so returning NUMA node zero\n",
      "2023-07-02 12:06:45.584399: I tensorflow/stream_executor/cuda/cuda_gpu_executor.cc:936] successful NUMA node read from SysFS had negative value (-1), but there must be at least one NUMA node, so returning NUMA node zero\n",
      "2023-07-02 12:06:45.647754: I tensorflow/stream_executor/cuda/cuda_gpu_executor.cc:936] successful NUMA node read from SysFS had negative value (-1), but there must be at least one NUMA node, so returning NUMA node zero\n",
      "2023-07-02 12:06:45.648096: I tensorflow/stream_executor/cuda/cuda_gpu_executor.cc:936] successful NUMA node read from SysFS had negative value (-1), but there must be at least one NUMA node, so returning NUMA node zero\n",
      "2023-07-02 12:06:45.648370: I tensorflow/stream_executor/cuda/cuda_gpu_executor.cc:936] successful NUMA node read from SysFS had negative value (-1), but there must be at least one NUMA node, so returning NUMA node zero\n",
      "2023-07-02 12:06:45.648644: I tensorflow/stream_executor/cuda/cuda_gpu_executor.cc:936] successful NUMA node read from SysFS had negative value (-1), but there must be at least one NUMA node, so returning NUMA node zero\n",
      "2023-07-02 12:06:45.649791: I tensorflow/core/platform/cpu_feature_guard.cc:151] This TensorFlow binary is optimized with oneAPI Deep Neural Network Library (oneDNN) to use the following CPU instructions in performance-critical operations:  SSE4.1 SSE4.2 AVX AVX2 FMA\n",
      "To enable them in other operations, rebuild TensorFlow with the appropriate compiler flags.\n",
      "2023-07-02 12:06:45.650508: I tensorflow/stream_executor/cuda/cuda_gpu_executor.cc:936] successful NUMA node read from SysFS had negative value (-1), but there must be at least one NUMA node, so returning NUMA node zero\n",
      "2023-07-02 12:06:45.650797: I tensorflow/stream_executor/cuda/cuda_gpu_executor.cc:936] successful NUMA node read from SysFS had negative value (-1), but there must be at least one NUMA node, so returning NUMA node zero\n",
      "2023-07-02 12:06:45.651071: I tensorflow/stream_executor/cuda/cuda_gpu_executor.cc:936] successful NUMA node read from SysFS had negative value (-1), but there must be at least one NUMA node, so returning NUMA node zero\n",
      "2023-07-02 12:06:46.254884: I tensorflow/stream_executor/cuda/cuda_gpu_executor.cc:936] successful NUMA node read from SysFS had negative value (-1), but there must be at least one NUMA node, so returning NUMA node zero\n",
      "2023-07-02 12:06:46.255107: I tensorflow/stream_executor/cuda/cuda_gpu_executor.cc:936] successful NUMA node read from SysFS had negative value (-1), but there must be at least one NUMA node, so returning NUMA node zero\n",
      "2023-07-02 12:06:46.255296: I tensorflow/stream_executor/cuda/cuda_gpu_executor.cc:936] successful NUMA node read from SysFS had negative value (-1), but there must be at least one NUMA node, so returning NUMA node zero\n",
      "2023-07-02 12:06:46.255448: I tensorflow/core/common_runtime/gpu/gpu_device.cc:1525] Created device /job:localhost/replica:0/task:0/device:GPU:0 with 3355 MB memory:  -> device: 0, name: Quadro K2200, pci bus id: 0000:02:00.0, compute capability: 5.0\n"
     ]
    }
   ],
   "source": [
    "gpus = tf.config.list_physical_devices('GPU')\n",
    "print(gpus)\n",
    "\n",
    "if colab_flag == False:\n",
    "    if strategy is None:\n",
    "        if gpus:\n",
    "            gpu_to_use = 0\n",
    "            tf.config.set_visible_devices(gpus[gpu_to_use], 'GPU')\n",
    "    logical_devices = tf.config.list_logical_devices('GPU')\n",
    "    print(logical_devices)"
   ]
  },
  {
   "cell_type": "code",
   "execution_count": 11,
   "metadata": {
    "colab": {
     "base_uri": "https://localhost:8080/"
    },
    "executionInfo": {
     "elapsed": 8,
     "status": "ok",
     "timestamp": 1667868766484,
     "user": {
      "displayName": "Rohan Kaushik",
      "userId": "13918477614376051685"
     },
     "user_tz": -60
    },
    "id": "tc3zO9xL_tNl",
    "outputId": "c9786b4c-8510-47d0-801d-181e3b12239c"
   },
   "outputs": [
    {
     "name": "stdout",
     "output_type": "stream",
     "text": [
      "[PhysicalDevice(name='/physical_device:CPU:0', device_type='CPU'), PhysicalDevice(name='/physical_device:GPU:0', device_type='GPU'), PhysicalDevice(name='/physical_device:GPU:1', device_type='GPU')]\n",
      "[LogicalDevice(name='/device:CPU:0', device_type='CPU'), LogicalDevice(name='/device:GPU:0', device_type='GPU')]\n",
      "2.8.1\n"
     ]
    }
   ],
   "source": [
    "# print(tf.test.gpu_device_name())\n",
    "print(tf.config.list_physical_devices())\n",
    "print(tf.config.list_logical_devices())\n",
    "print(tf.__version__)"
   ]
  },
  {
   "cell_type": "markdown",
   "metadata": {
    "id": "7UbdnOtc4_z9"
   },
   "source": [
    "# KS System"
   ]
  },
  {
   "cell_type": "code",
   "execution_count": null,
   "metadata": {
    "executionInfo": {
     "elapsed": 6,
     "status": "ok",
     "timestamp": 1667868766485,
     "user": {
      "displayName": "Rohan Kaushik",
      "userId": "13918477614376051685"
     },
     "user_tz": -60
    },
    "id": "8aNkoXfyGq52"
   },
   "outputs": [],
   "source": []
  },
  {
   "cell_type": "code",
   "execution_count": 12,
   "metadata": {
    "colab": {
     "base_uri": "https://localhost:8080/"
    },
    "executionInfo": {
     "elapsed": 5768,
     "status": "ok",
     "timestamp": 1667868772247,
     "user": {
      "displayName": "Rohan Kaushik",
      "userId": "13918477614376051685"
     },
     "user_tz": -60
    },
    "id": "O7sl7i5H5Dqz",
    "outputId": "419ef0e0-4d58-454e-d0af-17af3b846b85"
   },
   "outputs": [
    {
     "name": "stdout",
     "output_type": "stream",
     "text": [
      "dir_name_rnn: /home/rkaushik/Documents/Thesis/MLROM/Kolmogorov/GRU_params_Search/params_search_004\n",
      "use_ae_data : True, dir_name_ae: /home/rkaushik/Documents/Thesis/MLROM/Kolmogorov/saved_ae/ae_049\n",
      "data_dir_idx: 000\n",
      "24 <class 'int'>\n"
     ]
    }
   ],
   "source": [
    "# setting up params (and saving, if applicable)\n",
    "# from numpy import *\n",
    "\n",
    "# making RNN save directory\n",
    "dir_name_rnn = os.getcwd() + dir_sep + 'GRU_params_Search'\n",
    "if not os.path.isdir(dir_name_rnn):\n",
    "    os.makedirs(dir_name_rnn)\n",
    "\n",
    "counter = 0\n",
    "while True:\n",
    "    dir_check = 'params_search_' + str(counter).zfill(3)\n",
    "    if os.path.isdir(dir_name_rnn + dir_sep + dir_check):\n",
    "        counter += 1\n",
    "    else:\n",
    "        break\n",
    "\n",
    "dir_name_rnn = dir_name_rnn + dir_sep + dir_check\n",
    "os.makedirs(dir_name_rnn)\n",
    "dir_name_rnn_plots = dir_name_rnn+dir_sep+'plots'\n",
    "os.makedirs(dir_name_rnn_plots)\n",
    "\n",
    "# whether to use AE data or just work on raw data\n",
    "use_ae_data = True # if false, specifying ae_idx will only show which dataset to use\n",
    "\n",
    "# autoencoder directory\n",
    "# ae_idx = '046'\n",
    "# dir_name_ae = os.getcwd()+'{ds}saved_ae{ds}ae_'.format(ds=dir_sep)+ae_idx\n",
    "dir_name_ae = os.getcwd()+'{ds}saved_ae{ds}ae_049'.format(ds=dir_sep)\n",
    "\n",
    "# reading simulation parameters\n",
    "with open(dir_name_ae + dir_sep + 'ae_data.txt') as f:\n",
    "    lines = f.readlines()\n",
    "params_dict = eval(''.join(lines))\n",
    "data_dir_idx = params_dict['data_dir_idx']\n",
    "normalizeforae_flag = params_dict['normalizeforae_flag']\n",
    "try:\n",
    "    ae_data_with_params = params_dict['ae_data_with_params']\n",
    "except:\n",
    "    print(\"'ae_data_with_params' not present in ae_data, set to 'True'.\")\n",
    "    ae_data_with_params = True\n",
    "\n",
    "if os.path.exists(dir_name_ae+dir_sep+'normalization_data.npz'):\n",
    "    with np.load(dir_name_ae+dir_sep+'normalization_data.npz', allow_pickle=True) as fl:\n",
    "        normalization_constant_arr_aedata = fl['normalization_constant_arr_aedata'][0]\n",
    "\n",
    "print('dir_name_rnn:', dir_name_rnn)\n",
    "print('use_ae_data : ' + str(use_ae_data) + ', dir_name_ae:', dir_name_ae)\n",
    "print('data_dir_idx:', data_dir_idx)\n",
    "\n",
    "# loading data\n",
    "dir_name_data = os.getcwd() + dir_sep + 'saved_data' + dir_sep + 'data_' + data_dir_idx\n",
    "\n",
    "with h5py.File(dir_name_data + '/data.h5', 'r') as f:\n",
    "    t_recorded_samples = np.array(f['t'])\n",
    "    \n",
    "    N = int(0.5*(np.array(f['num_wavenumbers'])-1))\n",
    "    print(N, type(N))\n",
    "    \n",
    "    u_ref = np.array(f['u_reference'], dtype=FTYPE)\n",
    "    v_ref = np.array(f['v_reference'], dtype=FTYPE)"
   ]
  },
  {
   "cell_type": "code",
   "execution_count": 13,
   "metadata": {
    "colab": {
     "base_uri": "https://localhost:8080/"
    },
    "executionInfo": {
     "elapsed": 541,
     "status": "ok",
     "timestamp": 1667868772777,
     "user": {
      "displayName": "Rohan Kaushik",
      "userId": "13918477614376051685"
     },
     "user_tz": -60
    },
    "id": "ySVDz_2U5FH5",
    "outputId": "c57be82f-527d-4e83-a605-aac85c39088e"
   },
   "outputs": [],
   "source": [
    "all_data = np.empty(shape=(u_ref.shape[0], 2, u_ref.shape[1], u_ref.shape[2]), dtype=FTYPE)\n",
    "all_data[:, 0, :, :] = u_ref\n",
    "del(u_ref)\n",
    "all_data[:, 1, :, :] = v_ref\n",
    "del(v_ref)"
   ]
  },
  {
   "cell_type": "code",
   "execution_count": 14,
   "metadata": {
    "executionInfo": {
     "elapsed": 3,
     "status": "ok",
     "timestamp": 1667868772778,
     "user": {
      "displayName": "Rohan Kaushik",
      "userId": "13918477614376051685"
     },
     "user_tz": -60
    },
    "id": "bkQx9q_p5Gro"
   },
   "outputs": [],
   "source": [
    "lyapunov_time_arr = [13.06493504]"
   ]
  },
  {
   "cell_type": "code",
   "execution_count": 15,
   "metadata": {
    "colab": {
     "base_uri": "https://localhost:8080/",
     "height": 370
    },
    "executionInfo": {
     "elapsed": 1487,
     "status": "ok",
     "timestamp": 1667868774262,
     "user": {
      "displayName": "Rohan Kaushik",
      "userId": "13918477614376051685"
     },
     "user_tz": -60
    },
    "id": "uDhfYHU45IS8",
    "outputId": "5307dc6a-17c5-4c77-dac5-fcb96116ac44"
   },
   "outputs": [],
   "source": [
    "delta_t = 1.\n",
    "T = t_recorded_samples[-1]"
   ]
  },
  {
   "cell_type": "code",
   "execution_count": 16,
   "metadata": {},
   "outputs": [],
   "source": [
    "with np.load(dir_name_data+'/sim_data.npz', 'r') as f:\n",
    "    delta_t = f['dTr']"
   ]
  },
  {
   "cell_type": "code",
   "execution_count": null,
   "metadata": {},
   "outputs": [],
   "source": []
  },
  {
   "cell_type": "code",
   "execution_count": null,
   "metadata": {},
   "outputs": [],
   "source": []
  },
  {
   "cell_type": "code",
   "execution_count": 17,
   "metadata": {},
   "outputs": [
    {
     "name": "stdout",
     "output_type": "stream",
     "text": [
      "all_data.shape :  (100001, 2, 50, 50)\n"
     ]
    }
   ],
   "source": [
    "print('all_data.shape : ', all_data.shape)"
   ]
  },
  {
   "cell_type": "code",
   "execution_count": 18,
   "metadata": {
    "executionInfo": {
     "elapsed": 6,
     "status": "ok",
     "timestamp": 1667868774263,
     "user": {
      "displayName": "Rohan Kaushik",
      "userId": "13918477614376051685"
     },
     "user_tz": -60
    },
    "id": "-MJa7P5t5KiC",
    "scrolled": true
   },
   "outputs": [],
   "source": [
    "# delaing with normalizing the data before feeding into autoencoder\n",
    "time_stddev_ogdata = np.std(all_data, axis=0)\n",
    "time_mean_ogdata = np.mean(all_data, axis=0)\n",
    "if use_ae_data == True:\n",
    "    if normalizeforae_flag == True:\n",
    "        all_data -= normalization_constant_arr_aedata[0]\n",
    "        all_data /= normalization_constant_arr_aedata[1]"
   ]
  },
  {
   "cell_type": "code",
   "execution_count": 19,
   "metadata": {
    "colab": {
     "base_uri": "https://localhost:8080/",
     "height": 370
    },
    "executionInfo": {
     "elapsed": 932,
     "status": "ok",
     "timestamp": 1667868775190,
     "user": {
      "displayName": "Rohan Kaushik",
      "userId": "13918477614376051685"
     },
     "user_tz": -60
    },
    "id": "sMENXULAGFPm",
    "outputId": "dbf2c14d-2e8a-42c9-b6c5-f5f7c7a6092f"
   },
   "outputs": [],
   "source": [
    "# a = 30000\n",
    "# all_data = all_data[0:a]\n",
    "boundary_idx_arr = [all_data.shape[0]]"
   ]
  },
  {
   "cell_type": "code",
   "execution_count": 20,
   "metadata": {},
   "outputs": [
    {
     "name": "stdout",
     "output_type": "stream",
     "text": [
      "all_data.shape :  (100001, 2, 50, 50)\n"
     ]
    }
   ],
   "source": [
    "all_data_shape_og = all_data.shape[1:]\n",
    "print('all_data.shape : ', all_data.shape)"
   ]
  },
  {
   "cell_type": "markdown",
   "metadata": {
    "id": "1v6KQEjR5LkK"
   },
   "source": [
    "# Autoencoder"
   ]
  },
  {
   "cell_type": "code",
   "execution_count": 21,
   "metadata": {
    "executionInfo": {
     "elapsed": 4,
     "status": "ok",
     "timestamp": 1667868775191,
     "user": {
      "displayName": "Rohan Kaushik",
      "userId": "13918477614376051685"
     },
     "user_tz": -60
    },
    "id": "ZBTJl9PeneQb"
   },
   "outputs": [],
   "source": [
    "if use_ae_data == True:\n",
    "    load_file = dir_name_ae+dir_sep+'final_net'+dir_sep+'final_net_class_dict.txt'\n",
    "    wt_file = dir_name_ae+dir_sep+'final_net'+dir_sep+'final_net_ae_weights.h5'"
   ]
  },
  {
   "cell_type": "code",
   "execution_count": 22,
   "metadata": {
    "executionInfo": {
     "elapsed": 1365,
     "status": "ok",
     "timestamp": 1667868776552,
     "user": {
      "displayName": "Rohan Kaushik",
      "userId": "13918477614376051685"
     },
     "user_tz": -60
    },
    "id": "a3Pq-qorneQb"
   },
   "outputs": [
    {
     "name": "stdout",
     "output_type": "stream",
     "text": [
      "enc_elem_spatial_dims :  [[TensorShape([50, 50]), (24, 24), (12, 12), (6, 6), (3, 3), (3, 3)], [TensorShape([50, 50]), (24, 24), (12, 12), (6, 6), (3, 3), (3, 3)], [TensorShape([50, 50]), (24, 24), (12, 12), (6, 6), (3, 3), (3, 3)]]\n",
      "dec_elem_spatial_dims :  [[TensorShape([3, 3])], [TensorShape([3, 3])], [TensorShape([3, 3])]]\n"
     ]
    },
    {
     "name": "stderr",
     "output_type": "stream",
     "text": [
      "2023-07-02 12:06:55.459200: I tensorflow/stream_executor/cuda/cuda_dnn.cc:368] Loaded cuDNN version 8401\n"
     ]
    }
   ],
   "source": [
    "if use_ae_data == True:\n",
    "    ae_net = Autoencoder(all_data.shape[1:], load_file=load_file)\n",
    "    ae_net.load_weights_from_file(wt_file)"
   ]
  },
  {
   "cell_type": "code",
   "execution_count": null,
   "metadata": {
    "executionInfo": {
     "elapsed": 5,
     "status": "ok",
     "timestamp": 1667868776553,
     "user": {
      "displayName": "Rohan Kaushik",
      "userId": "13918477614376051685"
     },
     "user_tz": -60
    },
    "id": "wwt4brHcOaXi"
   },
   "outputs": [],
   "source": []
  },
  {
   "cell_type": "code",
   "execution_count": null,
   "metadata": {
    "executionInfo": {
     "elapsed": 4,
     "status": "ok",
     "timestamp": 1667868776553,
     "user": {
      "displayName": "Rohan Kaushik",
      "userId": "13918477614376051685"
     },
     "user_tz": -60
    },
    "id": "Zl6ZvgtNtA_u",
    "scrolled": true
   },
   "outputs": [],
   "source": []
  },
  {
   "cell_type": "code",
   "execution_count": null,
   "metadata": {
    "executionInfo": {
     "elapsed": 5,
     "status": "ok",
     "timestamp": 1667868776554,
     "user": {
      "displayName": "Rohan Kaushik",
      "userId": "13918477614376051685"
     },
     "user_tz": -60
    },
    "id": "lXpoaKRIneQc"
   },
   "outputs": [],
   "source": []
  },
  {
   "cell_type": "code",
   "execution_count": 23,
   "metadata": {
    "colab": {
     "base_uri": "https://localhost:8080/"
    },
    "executionInfo": {
     "elapsed": 960,
     "status": "ok",
     "timestamp": 1667868777509,
     "user": {
      "displayName": "Rohan Kaushik",
      "userId": "13918477614376051685"
     },
     "user_tz": -60
    },
    "id": "Q3a8HHyvneQc",
    "outputId": "51084913-6faf-4bb5-db69-2cbea705dd28"
   },
   "outputs": [
    {
     "name": "stderr",
     "output_type": "stream",
     "text": [
      "2023-07-02 12:06:57.103644: W tensorflow/core/framework/cpu_allocator_impl.cc:82] Allocation of 2000020000 exceeds 10% of free system memory.\n",
      "2023-07-02 12:06:58.426519: W tensorflow/core/framework/cpu_allocator_impl.cc:82] Allocation of 2000020000 exceeds 10% of free system memory.\n"
     ]
    }
   ],
   "source": [
    "# create data\n",
    "if use_ae_data == True:\n",
    "    latent_states_all = ae_net.encoder_net.predict(all_data)\n",
    "    # del(all_data)\n",
    "else:\n",
    "    latent_states_all = all_data\n",
    "ls_shape = latent_states_all.shape[1:]"
   ]
  },
  {
   "cell_type": "code",
   "execution_count": 24,
   "metadata": {
    "colab": {
     "base_uri": "https://localhost:8080/",
     "height": 384
    },
    "executionInfo": {
     "elapsed": 797,
     "status": "ok",
     "timestamp": 1667868778304,
     "user": {
      "displayName": "Rohan Kaushik",
      "userId": "13918477614376051685"
     },
     "user_tz": -60
    },
    "id": "wjgPNitSrt5p",
    "outputId": "0c916524-33ec-47bf-a16a-51e53d2e25f6"
   },
   "outputs": [
    {
     "name": "stdout",
     "output_type": "stream",
     "text": [
      "ls_shape :  (3, 3, 3)\n",
      "num_latent_states :  27\n"
     ]
    }
   ],
   "source": [
    "num_latent_states = 1\n",
    "for dim in ls_shape:\n",
    "    num_latent_states *= dim\n",
    "print('ls_shape : ', ls_shape)\n",
    "print('num_latent_states : ', num_latent_states)"
   ]
  },
  {
   "cell_type": "code",
   "execution_count": null,
   "metadata": {
    "executionInfo": {
     "elapsed": 6,
     "status": "ok",
     "timestamp": 1667868778305,
     "user": {
      "displayName": "Rohan Kaushik",
      "userId": "13918477614376051685"
     },
     "user_tz": -60
    },
    "id": "wnLnqg0Jrt5t"
   },
   "outputs": [],
   "source": []
  },
  {
   "cell_type": "code",
   "execution_count": null,
   "metadata": {
    "executionInfo": {
     "elapsed": 488,
     "status": "ok",
     "timestamp": 1667868778788,
     "user": {
      "displayName": "Rohan Kaushik",
      "userId": "13918477614376051685"
     },
     "user_tz": -60
    },
    "id": "BOJE8vREtque"
   },
   "outputs": [],
   "source": []
  },
  {
   "cell_type": "code",
   "execution_count": null,
   "metadata": {
    "executionInfo": {
     "elapsed": 12,
     "status": "ok",
     "timestamp": 1667868778788,
     "user": {
      "displayName": "Rohan Kaushik",
      "userId": "13918477614376051685"
     },
     "user_tz": -60
    },
    "id": "fwjcsAxKneQe"
   },
   "outputs": [],
   "source": []
  },
  {
   "cell_type": "code",
   "execution_count": null,
   "metadata": {
    "executionInfo": {
     "elapsed": 11,
     "status": "ok",
     "timestamp": 1667868778788,
     "user": {
      "displayName": "Rohan Kaushik",
      "userId": "13918477614376051685"
     },
     "user_tz": -60
    },
    "id": "aFd7XgwVneQe"
   },
   "outputs": [],
   "source": []
  },
  {
   "cell_type": "markdown",
   "metadata": {
    "id": "8IAcFjRRn_IQ"
   },
   "source": [
    "# GRU"
   ]
  },
  {
   "cell_type": "code",
   "execution_count": 25,
   "metadata": {
    "executionInfo": {
     "elapsed": 12,
     "status": "ok",
     "timestamp": 1667868778789,
     "user": {
      "displayName": "Rohan Kaushik",
      "userId": "13918477614376051685"
     },
     "user_tz": -60
    },
    "id": "lPVqWNwjoAGP"
   },
   "outputs": [],
   "source": [
    "# RNN data parameters\n",
    "num_lyaptimesteps_totrain = 2 # int(5000/np.mean(lyapunov_time_arr))#\n",
    "dt_rnn = 0.2\n",
    "T_sample_input = num_lyaptimesteps_totrain*np.mean(lyapunov_time_arr)\n",
    "T_sample_output = num_lyaptimesteps_totrain*np.mean(lyapunov_time_arr)\n",
    "T_offset = dt_rnn\n",
    "normalize_dataset = True # whether the data for the RNN should be normalized by the dataset's mean and std\n",
    "normalization_arr = None\n",
    "skip_intermediate = 'full sample'\n",
    "noise_type = 'normal' # can be 'uniform' or 'normal'\n",
    "\n",
    "# can be 'minmax', 'minmax2', 'stddev', or a list with\n",
    "# sequential order of any of these; if it is 'minmax'\n",
    "# then stddev_multiplier has no effect\n",
    "normalization_type = 'stddev'\n",
    "stddev_multiplier = 3\n",
    "\n",
    "dense_layer_act_func = ['tanh']\n",
    "use_weights_post_dense = True\n",
    "stateful = True\n",
    "use_learnable_state = False\n",
    "use_trainable_weights_with_reslayers = False\n",
    "\n",
    "scalar_weights = None\n",
    "num_layers = 1\n",
    "if not isinstance(scalar_weights, type(None)):\n",
    "    num_layers += int(((8*len(scalar_weights)+1)**0.5 - 1)/2)\n",
    "rnn_layers_units = [20*num_latent_states]*num_layers\n",
    "    \n",
    "zoneout_x0 = 0.00\n",
    "vary_zoneout = False\n",
    "\n",
    "# saving simulation data\n",
    "sim_data = {\n",
    "    'T':T,\n",
    "    'delta_t':delta_t,\n",
    "    'dir_name_ae':dir_name_ae,\n",
    "    'normalize_dataset':normalize_dataset,\n",
    "    'stddev_multiplier':stddev_multiplier,\n",
    "    'use_ae_data':use_ae_data,\n",
    "}\n",
    "\n",
    "# saving RNN specific data\n",
    "RNN_specific_data = {    \n",
    "    'dt_rnn':dt_rnn,\n",
    "    'T_sample_input':T_sample_input,\n",
    "    'T_sample_output':T_sample_output,\n",
    "    'T_offset':T_offset,\n",
    "    'boundary_idx_arr':boundary_idx_arr,\n",
    "    'delta_t':delta_t,\n",
    "    'normalize_dataset':normalize_dataset,\n",
    "    'num_lyaptimesteps_totrain':num_lyaptimesteps_totrain,\n",
    "    'stddev_multiplier':stddev_multiplier,\n",
    "    'skip_intermediate':skip_intermediate,\n",
    "    'module':RNN_GRU.__module__,\n",
    "    'noise_type':noise_type,\n",
    "    'normalization_type':normalization_type,\n",
    "    'dense_layer_act_func':dense_layer_act_func,\n",
    "    'stateful':stateful,\n",
    "    'use_learnable_state':use_learnable_state,\n",
    "    'use_weights_post_dense':use_weights_post_dense,\n",
    "    'use_trainable_weights_with_reslayers':use_trainable_weights_with_reslayers,\n",
    "}"
   ]
  },
  {
   "cell_type": "code",
   "execution_count": null,
   "metadata": {
    "executionInfo": {
     "elapsed": 11,
     "status": "ok",
     "timestamp": 1667868778789,
     "user": {
      "displayName": "Rohan Kaushik",
      "userId": "13918477614376051685"
     },
     "user_tz": -60
    },
    "id": "S21-VEUYrkk-"
   },
   "outputs": [],
   "source": []
  },
  {
   "cell_type": "code",
   "execution_count": 26,
   "metadata": {
    "executionInfo": {
     "elapsed": 11,
     "status": "ok",
     "timestamp": 1667868778789,
     "user": {
      "displayName": "Rohan Kaushik",
      "userId": "13918477614376051685"
     },
     "user_tz": -60
    },
    "id": "UGnj8uQQ83-y"
   },
   "outputs": [],
   "source": [
    "latent_states_all = np.reshape(latent_states_all, (-1, num_latent_states))\n",
    "all_data = np.reshape(all_data, (all_data.shape[0], -1))"
   ]
  },
  {
   "cell_type": "code",
   "execution_count": 27,
   "metadata": {
    "executionInfo": {
     "elapsed": 12,
     "status": "ok",
     "timestamp": 1667868778790,
     "user": {
      "displayName": "Rohan Kaushik",
      "userId": "13918477614376051685"
     },
     "user_tz": -60
    },
    "id": "0t2_8mzI1fhX"
   },
   "outputs": [],
   "source": [
    "rnn_res_dict = create_data_for_RNN(\n",
    "    latent_states_all,\n",
    "    dt_rnn,\n",
    "    T_sample_input,\n",
    "    T_sample_output,\n",
    "    T_offset,\n",
    "    None,\n",
    "    boundary_idx_arr,\n",
    "    delta_t,\n",
    "    params=None,\n",
    "    return_numsamples=True,\n",
    "    normalize_dataset=normalize_dataset,\n",
    "    stddev_multiplier=stddev_multiplier,\n",
    "    skip_intermediate=skip_intermediate,\n",
    "    return_OrgDataIdxArr=False,\n",
    "    normalization_arr_external=normalization_arr,\n",
    "    normalization_type=normalization_type,\n",
    "    FTYPE=FTYPE,\n",
    "    ITYPE=ITYPE)\n",
    "    \n",
    "data_rnn_input = rnn_res_dict['data_rnn_input']\n",
    "data_rnn_output = rnn_res_dict['data_rnn_output']\n",
    "org_data_idx_arr_input = rnn_res_dict['org_data_idx_arr_input']\n",
    "org_data_idx_arr_output = rnn_res_dict['org_data_idx_arr_output']\n",
    "num_samples = rnn_res_dict['num_samples']\n",
    "normalization_arr = rnn_res_dict['normalization_arr']\n",
    "rnn_data_boundary_idx_arr = rnn_res_dict['rnn_data_boundary_idx_arr']"
   ]
  },
  {
   "cell_type": "code",
   "execution_count": 28,
   "metadata": {
    "executionInfo": {
     "elapsed": 11,
     "status": "ok",
     "timestamp": 1667868778790,
     "user": {
      "displayName": "Rohan Kaushik",
      "userId": "13918477614376051685"
     },
     "user_tz": -60
    },
    "id": "pIsWCXkbr7ws"
   },
   "outputs": [],
   "source": [
    "temp = np.divide(latent_states_all-normalization_arr[0], normalization_arr[1])\n",
    "time_stddev = np.std(temp, axis=0)\n",
    "timeMeanofSpaceRMS = np.mean(np.mean(temp**2, axis=1)**0.5)\n",
    "del(org_data_idx_arr_input)\n",
    "del(org_data_idx_arr_output)\n",
    "del(latent_states_all)\n",
    "del(temp)"
   ]
  },
  {
   "cell_type": "code",
   "execution_count": 29,
   "metadata": {
    "executionInfo": {
     "elapsed": 11,
     "status": "ok",
     "timestamp": 1667868778790,
     "user": {
      "displayName": "Rohan Kaushik",
      "userId": "13918477614376051685"
     },
     "user_tz": -60
    },
    "id": "Hem_9PUqneQi"
   },
   "outputs": [],
   "source": [
    "rnn_res_dict = create_data_for_RNN(\n",
    "    all_data,\n",
    "    dt_rnn,\n",
    "    T_sample_input,\n",
    "    T_sample_output,\n",
    "    T_offset,\n",
    "    None,\n",
    "    boundary_idx_arr,\n",
    "    delta_t,\n",
    "    params=None,\n",
    "    return_numsamples=True,\n",
    "    normalize_dataset=False,\n",
    "    stddev_multiplier=stddev_multiplier,\n",
    "    skip_intermediate=skip_intermediate,\n",
    "    return_OrgDataIdxArr=False,\n",
    "    normalization_arr_external=normalization_arr,\n",
    "    normalization_type=normalization_type,\n",
    "    FTYPE=FTYPE,\n",
    "    ITYPE=ITYPE)\n",
    "    \n",
    "AR_data_rnn_input = rnn_res_dict['data_rnn_input']\n",
    "AR_data_rnn_output = rnn_res_dict['data_rnn_output']\n",
    "AR_org_data_idx_arr_input = rnn_res_dict['org_data_idx_arr_input']\n",
    "AR_org_data_idx_arr_output = rnn_res_dict['org_data_idx_arr_output']\n",
    "AR_num_samples = rnn_res_dict['num_samples']\n",
    "AR_normalization_arr = rnn_res_dict['normalization_arr']\n",
    "AR_rnn_data_boundary_idx_arr = rnn_res_dict['rnn_data_boundary_idx_arr']\n",
    "\n",
    "del(AR_org_data_idx_arr_input)\n",
    "del(AR_org_data_idx_arr_output)\n",
    "del(AR_rnn_data_boundary_idx_arr)"
   ]
  },
  {
   "cell_type": "code",
   "execution_count": null,
   "metadata": {
    "executionInfo": {
     "elapsed": 12,
     "status": "ok",
     "timestamp": 1667868778791,
     "user": {
      "displayName": "Rohan Kaushik",
      "userId": "13918477614376051685"
     },
     "user_tz": -60
    },
    "id": "uskBAAXpneQi"
   },
   "outputs": [],
   "source": []
  },
  {
   "cell_type": "code",
   "execution_count": 30,
   "metadata": {
    "executionInfo": {
     "elapsed": 431,
     "status": "ok",
     "timestamp": 1667868779211,
     "user": {
      "displayName": "Rohan Kaushik",
      "userId": "13918477614376051685"
     },
     "user_tz": -60
    },
    "id": "-1uL-GomneQi"
   },
   "outputs": [],
   "source": [
    "# setting up training params\n",
    "learning_rate_list = [1e-2]#, 1e-3, 1e-4]#, 1e-5]\n",
    "epochs = 2\n",
    "patience = 10 # parameter for early stopping\n",
    "min_delta = 1e-6  # parameter for early stopping\n",
    "train_split = 0.8\n",
    "val_split = 0.1\n",
    "test_split = 1 - train_split - val_split\n",
    "batch_size = 16\n",
    "rnncell_dropout_rate = 0.0\n",
    "denselayer_dropout_rate = 0.0\n",
    "\n",
    "lambda_reg_x0 = 1e-7 # weight for regularizer\n",
    "fRMS_x0 = 1e-3\n",
    "\n",
    "rnncell_dropout_rate = 0.0\n",
    "denselayer_dropout_rate = 0.0\n",
    "\n",
    "# ph computation parameters\n",
    "num_runs = 25\n",
    "T_sample_input_AR_ratio = 1\n",
    "T_sample_output_AR_ratio = 1\n",
    "\n",
    "# saving training params\n",
    "training_specific_params = {\n",
    "    'epochs':epochs,\n",
    "    'prng_seed':prng_seed,\n",
    "    'train_split':train_split,\n",
    "    'val_split':val_split,\n",
    "    'batch_size':batch_size,\n",
    "    # 'fRMS':fRMS,\n",
    "    'timeMeanofSpaceRMS':timeMeanofSpaceRMS,\n",
    "    # 'stddev':stddev,\n",
    "    # 'lambda_reg':lambda_reg,\n",
    "    'min_delta':min_delta,\n",
    "    'patience':patience,\n",
    "    'rnncell_dropout_rate':rnncell_dropout_rate,\n",
    "    'denselayer_dropout_rate':denselayer_dropout_rate,\n",
    "}"
   ]
  },
  {
   "cell_type": "code",
   "execution_count": null,
   "metadata": {
    "executionInfo": {
     "elapsed": 3,
     "status": "ok",
     "timestamp": 1667868779212,
     "user": {
      "displayName": "Rohan Kaushik",
      "userId": "13918477614376051685"
     },
     "user_tz": -60
    },
    "id": "4hx9ZaSpEMmv"
   },
   "outputs": [],
   "source": []
  },
  {
   "cell_type": "code",
   "execution_count": 31,
   "metadata": {
    "executionInfo": {
     "elapsed": 391,
     "status": "ok",
     "timestamp": 1667868779601,
     "user": {
      "displayName": "Rohan Kaushik",
      "userId": "13918477614376051685"
     },
     "user_tz": -60
    },
    "id": "EENXaWqcKW7j"
   },
   "outputs": [],
   "source": [
    "cum_samples = rnn_data_boundary_idx_arr[-1]\n",
    "# idx = np.arange(cum_samples)\n",
    "# np.random.shuffle(idx)\n",
    "num_train_arr = np.zeros(shape=rnn_data_boundary_idx_arr.shape[0], dtype='int32')\n",
    "num_val_arr = np.zeros(shape=rnn_data_boundary_idx_arr.shape[0], dtype='int32')\n",
    "num_test_arr = np.zeros(shape=rnn_data_boundary_idx_arr.shape[0], dtype='int32')\n",
    "num_samples_arr = np.zeros(shape=rnn_data_boundary_idx_arr.shape[0], dtype='int32')\n",
    "begin_idx = 0\n",
    "for i in range(len(rnn_data_boundary_idx_arr)):\n",
    "    num_samples = bach_size * int( np.round((rnn_data_boundary_idx_arr[i] - begin_idx)//batch_size) )\n",
    "    num_train_arr[i] = batch_size * int( np.round(train_split*num_samples/batch_size) )\n",
    "    num_val_arr[i] = batch_size * int( np.round(val_split*num_samples/batch_size) )\n",
    "    num_test_arr[i] = batch_size * int( np.round((num_samples - num_train_arr[i] - num_val_arr[i])/batch_size) )\n",
    "    num_samples_arr[i] = num_train_arr[i] + num_val_arr[i] + num_test_arr[i]\n",
    "    begin_idx = rnn_data_boundary_idx_arr[i]\n",
    "\n",
    "# defining shapes\n",
    "training_input_shape = [np.sum(num_train_arr)]\n",
    "training_input_shape.extend(data_rnn_input.shape[1:])\n",
    "\n",
    "training_output_shape = [np.sum(num_train_arr)]\n",
    "training_output_shape.extend(data_rnn_output.shape[1:])\n",
    "\n",
    "val_input_shape = [np.sum(num_val_arr)]\n",
    "val_input_shape.extend(data_rnn_input.shape[1:])\n",
    "\n",
    "val_output_shape = [np.sum(num_val_arr)]\n",
    "val_output_shape.extend(data_rnn_output.shape[1:])\n",
    "\n",
    "testing_input_shape = [np.sum(num_test_arr)]\n",
    "testing_input_shape.extend(data_rnn_input.shape[1:])\n",
    "\n",
    "testing_output_shape = [np.sum(num_test_arr)]\n",
    "testing_output_shape.extend(data_rnn_output.shape[1:])\n",
    "\n",
    "# defining required arrays\n",
    "training_data_rnn_input = np.empty(shape=training_input_shape, dtype=FTYPE)\n",
    "training_data_rnn_output = np.empty(shape=training_output_shape, dtype=FTYPE)\n",
    "\n",
    "val_data_rnn_input = np.empty(shape=val_input_shape, dtype=FTYPE)\n",
    "val_data_rnn_output = np.empty(shape=val_output_shape, dtype=FTYPE)\n",
    "\n",
    "testing_data_rnn_input = np.empty(shape=testing_input_shape, dtype=FTYPE)\n",
    "testing_data_rnn_output = np.empty(shape=testing_output_shape, dtype=FTYPE)\n",
    "\n",
    "AR_testing_data_rnn_input = np.empty(shape=tuple(testing_input_shape[0:2])+tuple(AR_data_rnn_input.shape[2:]), dtype=FTYPE)\n",
    "AR_testing_data_rnn_output = np.empty(shape=tuple(testing_input_shape[0:2])+tuple(AR_data_rnn_input.shape[2:]), dtype=FTYPE)\n",
    "\n",
    "begin_idx = 0\n",
    "training_data_rolling_count = 0\n",
    "val_data_rolling_count = 0\n",
    "testing_data_rolling_count = 0\n",
    "for i in range(len(boundary_idx_arr)):\n",
    "    idx = np.arange(begin_idx, rnn_data_boundary_idx_arr[i])\n",
    "    # np.random.shuffle(idx)\n",
    "    # num_samples = idx.shape[0]\n",
    "    # num_train = int( np.round(train_split*num_samples/batch_size) )*batch_size\n",
    "    # num_val = int( np.round(val_split*num_samples/batch_size) )*batch_size\n",
    "    \n",
    "    num_samples = num_samples_arr[i]\n",
    "    num_train = num_train_arr[i]\n",
    "    num_val = num_val_arr[i]\n",
    "    num_test = num_test_arr[i]\n",
    "    \n",
    "    nbatches_train = num_train // batch_size\n",
    "    nbatches_val = num_val // batch_size\n",
    "    nbatches_test = num_test // batch_size\n",
    "\n",
    "    for j in range(batch_size):\n",
    "        training_data_rnn_input[training_data_rolling_count+j:training_data_rolling_count+num_train:batch_size] = data_rnn_input[idx[0:num_train]][j*nbatches_train:(j+1)*nbatches_train]\n",
    "        training_data_rnn_output[training_data_rolling_count+j:training_data_rolling_count+num_train:batch_size] = data_rnn_output[idx[0:num_train]][j*nbatches_train:(j+1)*nbatches_train]\n",
    "        \n",
    "        val_data_rnn_input[val_data_rolling_count+j:val_data_rolling_count+num_val:batch_size] = data_rnn_input[idx[num_train:num_train+num_val]][j*nbatches_val:(j+1)*nbatches_val]\n",
    "        val_data_rnn_output[val_data_rolling_count+j:val_data_rolling_count+num_val:batch_size] = data_rnn_output[idx[num_train:num_train+num_val]][j*nbatches_val:(j+1)*nbatches_val]\n",
    "\n",
    "        testing_data_rnn_input[testing_data_rolling_count+j:testing_data_rolling_count+num_test:batch_size] = data_rnn_input[idx[num_train+num_val:num_samples]][j*nbatches_test:(j+1)*nbatches_test]\n",
    "        testing_data_rnn_output[testing_data_rolling_count+j:testing_data_rolling_count+num_test:batch_size] = data_rnn_output[idx[num_train+num_val:num_samples]][j*nbatches_test:(j+1)*nbatches_test]\n",
    "        \n",
    "        AR_testing_data_rnn_input[testing_data_rolling_count+j:testing_data_rolling_count+num_test:batch_size] = AR_data_rnn_input[idx[num_train+num_val:num_samples]][j*nbatches_test:(j+1)*nbatches_test]\n",
    "        AR_testing_data_rnn_output[testing_data_rolling_count+j:testing_data_rolling_count+num_test:batch_size] = AR_data_rnn_output[idx[num_train+num_val:num_samples]][j*nbatches_test:(j+1)*nbatches_test]\n",
    "\n",
    "\n",
    "    # training_data_rnn_input[training_data_rolling_count:training_data_rolling_count+num_train] = data_rnn_input[idx[0:num_train]]\n",
    "    # training_data_rnn_output[training_data_rolling_count:training_data_rolling_count+num_train] = data_rnn_output[idx[0:num_train]]\n",
    "    training_data_rolling_count += num_train\n",
    "\n",
    "    # val_data_rnn_input[val_data_rolling_count:val_data_rolling_count+num_val] = data_rnn_input[idx[num_train:num_train+num_val]]\n",
    "    # val_data_rnn_output[val_data_rolling_count:val_data_rolling_count+num_val] = data_rnn_output[idx[num_train:num_train+num_val]]\n",
    "    val_data_rolling_count += num_val\n",
    "\n",
    "    # num_test = num_samples-num_train-num_val+1\n",
    "    # testing_data_rnn_input[testing_data_rolling_count:testing_data_rolling_count+num_test] = data_rnn_input[idx[num_train+num_val:]]\n",
    "    # testing_data_rnn_output[testing_data_rolling_count:testing_data_rolling_count+num_test] = data_rnn_output[idx[num_train+num_val:]]\n",
    "    testing_data_rolling_count += num_test\n",
    "\n",
    "    begin_idx = rnn_data_boundary_idx_arr[i]\n",
    "\n",
    "# cleaning up\n",
    "del(data_rnn_input)\n",
    "del(data_rnn_output)\n",
    "del(AR_data_rnn_input)\n",
    "del(AR_data_rnn_output)\n",
    "\n",
    "# further shuffling\n",
    "if stateful == False:\n",
    "    idx = np.arange(0, training_data_rnn_input.shape[0])\n",
    "    np.random.shuffle(idx)\n",
    "    training_data_rnn_input = training_data_rnn_input[idx]\n",
    "    training_data_rnn_output = training_data_rnn_output[idx]\n",
    "\n",
    "    idx = np.arange(0, val_data_rnn_input.shape[0])\n",
    "    np.random.shuffle(idx)\n",
    "    val_data_rnn_input = val_data_rnn_input[idx]\n",
    "    val_data_rnn_output = val_data_rnn_output[idx]\n",
    "\n",
    "    idx = np.arange(0, testing_data_rnn_input.shape[0])\n",
    "    np.random.shuffle(idx)\n",
    "    testing_data_rnn_input = testing_data_rnn_input[idx]\n",
    "    testing_data_rnn_output = testing_data_rnn_output[idx]\n",
    "\n",
    "    del(idx)"
   ]
  },
  {
   "cell_type": "code",
   "execution_count": 32,
   "metadata": {},
   "outputs": [
    {
     "name": "stdout",
     "output_type": "stream",
     "text": [
      "num_runs :  25\n"
     ]
    }
   ],
   "source": [
    "s_in = AR_testing_data_rnn_input.shape\n",
    "AR_testing_data_rnn_input = AR_testing_data_rnn_input.reshape((1, s_in[0]*s_in[1]) + s_in[2:])\n",
    "\n",
    "s_out = AR_testing_data_rnn_output.shape\n",
    "AR_testing_data_rnn_output = AR_testing_data_rnn_output.reshape((1, s_out[0]*s_out[1]) + s_out[2:])\n",
    "\n",
    "T_sample_input_AR = T_sample_input_AR_ratio*np.mean(lyapunov_time_arr)#50.1*dt_rnn\n",
    "num_sample_input_AR = int((T_sample_input_AR+0.5*dt_rnn)//dt_rnn)\n",
    "\n",
    "T_sample_output_AR = T_sample_output_AR_ratio*np.mean(lyapunov_time_arr)\n",
    "num_sample_output_AR = int((T_sample_output_AR+0.5*dt_rnn)//dt_rnn)\n",
    "\n",
    "num_offset_AR = num_sample_input_AR\n",
    "T_offset_AR = num_offset_AR*dt_rnn\n",
    "\n",
    "batch_idx = np.random.randint(low=0, high=AR_testing_data_rnn_input.shape[0])\n",
    "maxpossible_num_runs = AR_testing_data_rnn_input.shape[1]-(num_sample_input_AR+num_sample_output_AR)\n",
    "\n",
    "num_runs = np.min([num_runs, maxpossible_num_runs])\n",
    "\n",
    "print('num_runs : ', num_runs)\n",
    "\n",
    "data_idx_arr = np.linspace(0, maxpossible_num_runs-1, num_runs, dtype=np.int32)"
   ]
  },
  {
   "cell_type": "code",
   "execution_count": 33,
   "metadata": {},
   "outputs": [],
   "source": [
    "AR_data_in = np.empty(shape=(num_runs, num_sample_input_AR)+tuple(s_in[2:]))\n",
    "AR_data_out = np.empty(shape=(num_runs, num_sample_output_AR)+tuple(s_out[2:]))\n",
    "\n",
    "for i in range(num_runs):\n",
    "    d_idx = data_idx_arr[i]\n",
    "    AR_data_in[i] = AR_testing_data_rnn_input[0, d_idx:d_idx+num_sample_input_AR]\n",
    "    AR_data_out[i] = AR_testing_data_rnn_input[0, d_idx+num_sample_input_AR:d_idx+num_sample_input_AR+num_sample_output_AR]"
   ]
  },
  {
   "cell_type": "code",
   "execution_count": 34,
   "metadata": {},
   "outputs": [],
   "source": [
    "del(AR_testing_data_rnn_input)\n",
    "del(AR_testing_data_rnn_output)\n",
    "AR_testing_data_rnn_input = AR_data_in\n",
    "AR_testing_data_rnn_output = AR_data_out"
   ]
  },
  {
   "cell_type": "code",
   "execution_count": 35,
   "metadata": {},
   "outputs": [],
   "source": [
    "AR_testing_data_rnn_input = np.reshape(\n",
    "    AR_testing_data_rnn_input,\n",
    "    (\n",
    "        AR_testing_data_rnn_input.shape[0],\n",
    "        AR_testing_data_rnn_input.shape[1],\n",
    "    ) + tuple(all_data_shape_og)\n",
    ")\n",
    "\n",
    "AR_testing_data_rnn_output = np.reshape(\n",
    "    AR_testing_data_rnn_output,\n",
    "    (\n",
    "        AR_testing_data_rnn_output.shape[0],\n",
    "        AR_testing_data_rnn_output.shape[1],\n",
    "    ) + tuple(all_data_shape_og)\n",
    ")"
   ]
  },
  {
   "cell_type": "code",
   "execution_count": 36,
   "metadata": {
    "executionInfo": {
     "elapsed": 5,
     "status": "ok",
     "timestamp": 1667868779603,
     "user": {
      "displayName": "Rohan Kaushik",
      "userId": "13918477614376051685"
     },
     "user_tz": -60
    },
    "id": "8isZN1tYBifp"
   },
   "outputs": [
    {
     "name": "stdout",
     "output_type": "stream",
     "text": [
      "   training_data_rnn_input.shape :  (608, 131, 27)\n",
      "  training_data_rnn_output.shape :  (608, 131, 27)\n",
      "    testing_data_rnn_input.shape :  (64, 131, 27)\n",
      "   testing_data_rnn_output.shape :  (64, 131, 27)\n",
      "        val_data_rnn_input.shape :  (80, 131, 27)\n",
      "       val_data_rnn_output.shape :  (80, 131, 27)\n",
      "\n",
      " AR_testing_data_rnn_input.shape :  (25, 65, 2, 50, 50)\n",
      "AR_testing_data_rnn_output.shape :  (25, 65, 2, 50, 50)\n"
     ]
    }
   ],
   "source": [
    "print('   training_data_rnn_input.shape : ', training_data_rnn_input.shape)\n",
    "print('  training_data_rnn_output.shape : ', training_data_rnn_output.shape)\n",
    "print('    testing_data_rnn_input.shape : ', testing_data_rnn_input.shape)\n",
    "print('   testing_data_rnn_output.shape : ', testing_data_rnn_output.shape)\n",
    "print('        val_data_rnn_input.shape : ', val_data_rnn_input.shape)\n",
    "print('       val_data_rnn_output.shape : ', val_data_rnn_output.shape)\n",
    "print('')\n",
    "print(' AR_testing_data_rnn_input.shape : ', AR_testing_data_rnn_input.shape)\n",
    "print('AR_testing_data_rnn_output.shape : ', AR_testing_data_rnn_output.shape)"
   ]
  },
  {
   "cell_type": "code",
   "execution_count": null,
   "metadata": {
    "executionInfo": {
     "elapsed": 7,
     "status": "ok",
     "timestamp": 1667868779605,
     "user": {
      "displayName": "Rohan Kaushik",
      "userId": "13918477614376051685"
     },
     "user_tz": -60
    },
    "id": "x3KglJsgneQj"
   },
   "outputs": [],
   "source": []
  },
  {
   "cell_type": "code",
   "execution_count": null,
   "metadata": {
    "executionInfo": {
     "elapsed": 8,
     "status": "ok",
     "timestamp": 1667868779606,
     "user": {
      "displayName": "Rohan Kaushik",
      "userId": "13918477614376051685"
     },
     "user_tz": -60
    },
    "id": "ixetsZHjCMKO"
   },
   "outputs": [],
   "source": []
  },
  {
   "cell_type": "code",
   "execution_count": null,
   "metadata": {
    "executionInfo": {
     "elapsed": 7,
     "status": "ok",
     "timestamp": 1667868779606,
     "user": {
      "displayName": "Rohan Kaushik",
      "userId": "13918477614376051685"
     },
     "user_tz": -60
    },
    "id": "_NSTtZuyneQk"
   },
   "outputs": [],
   "source": []
  },
  {
   "cell_type": "code",
   "execution_count": null,
   "metadata": {
    "colab": {
     "base_uri": "https://localhost:8080/"
    },
    "executionInfo": {
     "elapsed": 3631,
     "status": "ok",
     "timestamp": 1667868783230,
     "user": {
      "displayName": "Rohan Kaushik",
      "userId": "13918477614376051685"
     },
     "user_tz": -60
    },
    "id": "Py-Jg0QKneQk",
    "outputId": "1b768270-9013-4d53-8b5e-63e69776e3ac",
    "scrolled": false
   },
   "outputs": [],
   "source": []
  },
  {
   "cell_type": "code",
   "execution_count": null,
   "metadata": {},
   "outputs": [],
   "source": []
  },
  {
   "cell_type": "code",
   "execution_count": null,
   "metadata": {
    "executionInfo": {
     "elapsed": 4,
     "status": "ok",
     "timestamp": 1667868783568,
     "user": {
      "displayName": "Rohan Kaushik",
      "userId": "13918477614376051685"
     },
     "user_tz": -60
    },
    "id": "7ASCopnIH6nl"
   },
   "outputs": [],
   "source": []
  },
  {
   "cell_type": "code",
   "execution_count": null,
   "metadata": {},
   "outputs": [],
   "source": []
  },
  {
   "cell_type": "code",
   "execution_count": null,
   "metadata": {},
   "outputs": [],
   "source": []
  },
  {
   "cell_type": "code",
   "execution_count": 37,
   "metadata": {},
   "outputs": [
    {
     "data": {
      "text/plain": [
       "dtype('float32')"
      ]
     },
     "execution_count": 37,
     "metadata": {},
     "output_type": "execute_result"
    }
   ],
   "source": [
    "training_data_rnn_input.dtype"
   ]
  },
  {
   "cell_type": "code",
   "execution_count": 38,
   "metadata": {
    "colab": {
     "base_uri": "https://localhost:8080/"
    },
    "executionInfo": {
     "elapsed": 4769220,
     "status": "ok",
     "timestamp": 1667873552785,
     "user": {
      "displayName": "Rohan Kaushik",
      "userId": "13918477614376051685"
     },
     "user_tz": -60
    },
    "id": "6hh1pbKjCcO4",
    "outputId": "e594f4de-ec70-465e-eef7-bdef301361fa",
    "scrolled": true
   },
   "outputs": [],
   "source": [
    "def optim_func(\n",
    "        x, # [fRMS, lambda_reg, zoneout]\n",
    "        time_stddev=time_stddev,\n",
    "        og_vars=num_latent_states,\n",
    "        RNN_GRU=RNN_GRU,\n",
    "        AR_RNN_GRU=AR_RNN_GRU,\n",
    "        AR_AERNN_GRU=AR_AERNN_GRU,\n",
    "        ae_net=ae_net,\n",
    "        mytimecallback=mytimecallback,\n",
    "        SaveLosses=SaveLosses,\n",
    "        plot_losses=plot_losses,\n",
    "        dir_name_rnn=dir_name_rnn,\n",
    "        boundary_idx_arr=rnn_data_boundary_idx_arr,\n",
    "        lyapunov_time_arr=lyapunov_time_arr,\n",
    "        sim_data_dict=sim_data,\n",
    "        RNN_specific_data_dict=RNN_specific_data,\n",
    "        training_specific_params_dict=training_specific_params,\n",
    "        normalization_arr=normalization_arr,\n",
    "        training_data_rnn_input=training_data_rnn_input,\n",
    "        training_data_rnn_output=training_data_rnn_output,\n",
    "        testing_data_rnn_input=testing_data_rnn_input,\n",
    "        testing_data_rnn_output=testing_data_rnn_output,\n",
    "        val_data_rnn_input=val_data_rnn_input,\n",
    "        val_data_rnn_output=val_data_rnn_output,\n",
    "        AR_testing_data_rnn_input=AR_testing_data_rnn_input,\n",
    "        AR_testing_data_rnn_output=AR_testing_data_rnn_output,\n",
    "        return_params_arr=False,\n",
    "        normalize_dataset=normalize_dataset,\n",
    "        dt_rnn=dt_rnn,\n",
    "        noise_type=noise_type,\n",
    "        ae_data_normalization_arr=normalization_constant_arr_aedata,\n",
    "        time_stddev_ogdata=time_stddev_ogdata,\n",
    "        time_mean_ogdata=time_mean_ogdata,\n",
    "        T_sample_input=T_sample_input_AR,\n",
    "        T_sample_output=T_sample_output_AR,\n",
    "        rnn_layers_units=rnn_layers_units,\n",
    "        stateful=stateful,\n",
    "        reg_name='L2',\n",
    "        dense_layer_act_func=dense_layer_act_func,\n",
    "        use_learnable_state=use_learnable_state,\n",
    "        use_weights_post_dense=use_weights_post_dense,\n",
    "        rnncell_dropout_rate=rnncell_dropout_rate,\n",
    "        denselayer_dropout_rate=denselayer_dropout_rate,\n",
    "        scalar_weights=scalar_weights,\n",
    "        prng_seed=prng_seed,\n",
    "        epochs=epochs,\n",
    "        learning_rate_list=learning_rate_list,\n",
    "        patience=patience,  # parameter for early stopping\n",
    "        min_delta=min_delta,  # parameter for early stopping\n",
    "        batch_size=batch_size,\n",
    "        zoneout=zoneout_x0,\n",
    "    ):\n",
    "    \n",
    "    compute_time = time.time()\n",
    "    \n",
    "    x = [elem for elem in np.array(x).flatten()]\n",
    "    if len(x) < 3:\n",
    "        x.append(zoneout)\n",
    "\n",
    "    median_PH = trainGRU_and_return_PH(\n",
    "        x, # [fRMS, lambda_reg, zoneout]\n",
    "        time_stddev,\n",
    "        og_vars,\n",
    "        RNN_GRU,\n",
    "        AR_RNN_GRU,\n",
    "        AR_AERNN_GRU,\n",
    "        ae_net,\n",
    "        mytimecallback,\n",
    "        SaveLosses,\n",
    "        plot_losses,\n",
    "        dir_name_rnn,\n",
    "        boundary_idx_arr,\n",
    "        lyapunov_time_arr,\n",
    "        sim_data_dict,\n",
    "        RNN_specific_data_dict,\n",
    "        training_specific_params_dict,\n",
    "        normalization_arr,\n",
    "        training_data_rnn_input,\n",
    "        training_data_rnn_output,\n",
    "        testing_data_rnn_input,\n",
    "        testing_data_rnn_output,\n",
    "        val_data_rnn_input,\n",
    "        val_data_rnn_output,\n",
    "        AR_testing_data_rnn_input,\n",
    "        AR_testing_data_rnn_output,\n",
    "        return_params_arr,\n",
    "        normalize_dataset,\n",
    "        dt_rnn,\n",
    "        noise_type,\n",
    "        ae_data_normalization_arr,\n",
    "        time_stddev_ogdata,\n",
    "        time_mean_ogdata,\n",
    "        T_sample_input=T_sample_input,\n",
    "        T_sample_output=T_sample_output,\n",
    "        rnn_layers_units=rnn_layers_units,\n",
    "        stateful=stateful,\n",
    "        reg_name=reg_name,\n",
    "        dense_layer_act_func=dense_layer_act_func,\n",
    "        use_learnable_state=use_learnable_state,\n",
    "        use_weights_post_dense=use_weights_post_dense,\n",
    "        rnncell_dropout_rate=rnncell_dropout_rate,\n",
    "        denselayer_dropout_rate=denselayer_dropout_rate,\n",
    "        scalar_weights=scalar_weights,\n",
    "        prng_seed=prng_seed,\n",
    "        epochs=epochs,\n",
    "        learning_rate_list=learning_rate_list,\n",
    "        patience=patience,  # parameter for early stopping\n",
    "        min_delta=min_delta,  # parameter for early stopping\n",
    "        batch_size=batch_size,\n",
    "        error_threshold=0.5,\n",
    "        xlabel_kwargs={'fontsize':15},\n",
    "        ylabel_kwargs={'fontsize':15},\n",
    "        legend_kwargs={'fontsize':12},\n",
    "    )\n",
    "    \n",
    "    compute_time = time.time() - compute_time\n",
    "    print('compute_time : {:.0f}h {:.0f}m {:.0f}s'.format(\n",
    "        float(compute_time // 3600),\n",
    "        float((compute_time%3600)//60),\n",
    "        float((compute_time%3600)%60),\n",
    "    ))\n",
    "    \n",
    "    return -median_PH"
   ]
  },
  {
   "cell_type": "code",
   "execution_count": null,
   "metadata": {},
   "outputs": [],
   "source": []
  },
  {
   "cell_type": "code",
   "execution_count": 39,
   "metadata": {},
   "outputs": [],
   "source": [
    "x_bounds = [\n",
    "    [1e-4, 1e-1, \"log-uniform\", \"Real\"], # fRMS\n",
    "    [1e-7, 1e-3, \"log-uniform\", \"Real\"], # lambda_reg\n",
    "]\n",
    "if vary_zoneout == True:\n",
    "    x_bounds.append([0.0, 0.5, \"uniform\", \"Real\"])"
   ]
  },
  {
   "cell_type": "code",
   "execution_count": 40,
   "metadata": {},
   "outputs": [
    {
     "name": "stdout",
     "output_type": "stream",
     "text": [
      "h_dims : 2 ; num_points : 2 ; h_order : 1\n"
     ]
    }
   ],
   "source": [
    "h_dims = len(x_bounds)\n",
    "# num_points = 10*h_dims\n",
    "num_points = 2\n",
    "\n",
    "h_order = 0\n",
    "while(True):\n",
    "    if 2**(h_dims*h_order) >= num_points:\n",
    "        break\n",
    "    else:\n",
    "        h_order += 1\n",
    "\n",
    "print('h_dims : {} ; num_points : {} ; h_order : {}'.format(h_dims, num_points, h_order))"
   ]
  },
  {
   "cell_type": "code",
   "execution_count": null,
   "metadata": {},
   "outputs": [],
   "source": []
  },
  {
   "cell_type": "code",
   "execution_count": 41,
   "metadata": {},
   "outputs": [],
   "source": [
    "locs = return_hilbert_x0(num_points, h_dims, h_order)\n",
    "# print(locs)\n",
    "locs = np.array(locs, dtype=np.float64)\n",
    "locs /= 2**h_order-1\n",
    "# print(locs)\n",
    "\n",
    "for i in range(h_dims):\n",
    "    x1 = x_bounds[i][0]\n",
    "    x2 = x_bounds[i][1]\n",
    "    if x_bounds[i][2] == \"log-uniform\":\n",
    "        x1 = np.log10(x1)\n",
    "        x2 = np.log10(x2)\n",
    "    spread = x2 - x1\n",
    "    locs[:, i] *= spread\n",
    "    locs[:, i] += x1\n",
    "    if x_bounds[i][2] == \"log-uniform\":\n",
    "        locs[:, i] = 10**(locs[:, i])\n",
    "\n",
    "# print(locs)"
   ]
  },
  {
   "cell_type": "code",
   "execution_count": 42,
   "metadata": {},
   "outputs": [],
   "source": [
    "dimensions = [\n",
    "    eval(elem[3])(*elem[0:3]) for elem in x_bounds\n",
    "]"
   ]
  },
  {
   "cell_type": "code",
   "execution_count": null,
   "metadata": {},
   "outputs": [],
   "source": []
  },
  {
   "cell_type": "code",
   "execution_count": null,
   "metadata": {},
   "outputs": [],
   "source": []
  },
  {
   "cell_type": "code",
   "execution_count": 43,
   "metadata": {},
   "outputs": [
    {
     "name": "stdout",
     "output_type": "stream",
     "text": [
      "[[1.e-04 1.e-07]\n",
      " [1.e-01 1.e-03]]\n",
      "[[0.0001, 1e-07], [0.1, 0.001]]\n"
     ]
    }
   ],
   "source": [
    "print(locs)\n",
    "\n",
    "x0 = [\n",
    "    [elem2 for elem2 in elem1] for elem1 in locs\n",
    "]\n",
    "\n",
    "print(x0)"
   ]
  },
  {
   "cell_type": "code",
   "execution_count": 44,
   "metadata": {},
   "outputs": [],
   "source": [
    "acq_func = \"EI\"\n",
    "n_initial_points = 0\n",
    "n_calls = n_initial_points + len(x0) + 1"
   ]
  },
  {
   "cell_type": "code",
   "execution_count": 45,
   "metadata": {},
   "outputs": [],
   "source": [
    "optim_dict = {\n",
    "    'fRMS_bounds':x_bounds[0],\n",
    "    'lambda_reg_bounds':x_bounds[1],\n",
    "    'n_calls':n_calls,\n",
    "    'acq_func':acq_func,\n",
    "    'n_initial_points':n_initial_points,\n",
    "    'random_state':prng_seed,\n",
    "    'vary_zoneout':vary_zoneout,\n",
    "}\n",
    "if vary_zoneout == True:\n",
    "    optim_dict['zoneout_bounds'] = x_bounds[2]\n",
    "with open(dir_name_rnn + '/optim_params.txt', 'w') as f:\n",
    "    f.write(str(optim_dict))"
   ]
  },
  {
   "cell_type": "code",
   "execution_count": 46,
   "metadata": {
    "colab": {
     "base_uri": "https://localhost:8080/"
    },
    "executionInfo": {
     "elapsed": 10543,
     "status": "ok",
     "timestamp": 1667873563321,
     "user": {
      "displayName": "Rohan Kaushik",
      "userId": "13918477614376051685"
     },
     "user_tz": -60
    },
    "id": "SO7iK4mbneQm",
    "outputId": "48110900-962a-49c1-c532-718999590884",
    "scrolled": true
   },
   "outputs": [
    {
     "name": "stdout",
     "output_type": "stream",
     "text": [
      "WARNING:tensorflow:`period` argument is deprecated. Please use `save_freq` to specify the frequency in number of batches seen.\n",
      "\n",
      "\n",
      "--------------------------------------------------------------------------------\n",
      "\n",
      "----------------------------- LEARNING RATE : 0.01 -----------------------------\n",
      "\n",
      "--------------------------------------------------------------------------------\n",
      "\n",
      "\n",
      "Epoch 1/2\n",
      "38/38 [==============================] - ETA: 0s - loss: 0.0323 - mse: 0.0321 - NMSE: 0.2890 - tot_time: 0h 0m 8.8s\n",
      "\n",
      "Epoch 1: val_NMSE improved from inf to 0.05981, saving model to /home/rkaushik/Documents/Thesis/MLROM/Kolmogorov/GRU_params_Search/params_search_004/tested_rnn/test_rnn_000/checkpoints/checkpoint\n",
      " - saving loss histories at /home/rkaushik/Documents/Thesis/MLROM/Kolmogorov/GRU_params_Search/params_search_004/tested_rnn/test_rnn_000/checkpoints/LossHistoriesCheckpoint\n",
      "38/38 [==============================] - 9s 188ms/step - loss: 0.0323 - mse: 0.0321 - NMSE: 0.2890 - val_loss: 0.0069 - val_mse: 0.0066 - val_NMSE: 0.0598\n",
      "Epoch 2/2\n",
      "38/38 [==============================] - ETA: 0s - loss: 0.0063 - mse: 0.0060 - NMSE: 0.0537 - tot_time: 0h 0m 16.2s\n",
      "\n",
      "Epoch 2: val_NMSE improved from 0.05981 to 0.02949, saving model to /home/rkaushik/Documents/Thesis/MLROM/Kolmogorov/GRU_params_Search/params_search_004/tested_rnn/test_rnn_000/checkpoints/checkpoint\n",
      " - saving loss histories at /home/rkaushik/Documents/Thesis/MLROM/Kolmogorov/GRU_params_Search/params_search_004/tested_rnn/test_rnn_000/checkpoints/LossHistoriesCheckpoint\n",
      "38/38 [==============================] - 7s 196ms/step - loss: 0.0063 - mse: 0.0060 - NMSE: 0.0537 - val_loss: 0.0036 - val_mse: 0.0033 - val_NMSE: 0.0295\n",
      "4/4 [==============================] - 0s 44ms/step - loss: 0.0052 - mse: 0.0049 - NMSE: 0.0437\n",
      "tested_rnn/test_rnn_000\n",
      "num_runs : 25\n",
      "    1 / 25 -- run_time : 0.01 s -- eta : 0h 0m 0s\n",
      "    2 / 25 -- run_time : 0.00 s -- eta : 0h 0m 0s\n",
      "    3 / 25 -- run_time : 0.00 s -- eta : 0h 0m 0s\n",
      "    4 / 25 -- run_time : 0.00 s -- eta : 0h 0m 0s\n",
      "    5 / 25 -- run_time : 0.00 s -- eta : 0h 0m 0s\n",
      "    6 / 25 -- run_time : 0.00 s -- eta : 0h 0m 0s\n",
      "    7 / 25 -- run_time : 0.00 s -- eta : 0h 0m 0s\n",
      "    8 / 25 -- run_time : 0.00 s -- eta : 0h 0m 0s\n",
      "    9 / 25 -- run_time : 0.00 s -- eta : 0h 0m 0s\n",
      "    10 / 25 -- run_time : 0.00 s -- eta : 0h 0m 0s\n",
      "    11 / 25 -- run_time : 0.00 s -- eta : 0h 0m 0s\n",
      "    12 / 25 -- run_time : 0.00 s -- eta : 0h 0m 0s\n",
      "    13 / 25 -- run_time : 0.00 s -- eta : 0h 0m 0s\n",
      "    14 / 25 -- run_time : 0.00 s -- eta : 0h 0m 0s\n",
      "    15 / 25 -- run_time : 0.00 s -- eta : 0h 0m 0s\n",
      "    16 / 25 -- run_time : 0.00 s -- eta : 0h 0m 0s\n",
      "    17 / 25 -- run_time : 0.00 s -- eta : 0h 0m 0s\n",
      "    18 / 25 -- run_time : 0.00 s -- eta : 0h 0m 0s\n",
      "    19 / 25 -- run_time : 0.00 s -- eta : 0h 0m 0s\n",
      "    20 / 25 -- run_time : 0.00 s -- eta : 0h 0m 0s\n",
      "    21 / 25 -- run_time : 0.00 s -- eta : 0h 0m 0s\n",
      "    22 / 25 -- run_time : 0.00 s -- eta : 0h 0m 0s\n",
      "    23 / 25 -- run_time : 0.00 s -- eta : 0h 0m 0s\n",
      "    24 / 25 -- run_time : 0.00 s -- eta : 0h 0m 0s\n",
      "    25 / 25 -- run_time : 0.00 s -- eta : 0h 0m 0s\n",
      "\n",
      "error_threshold = 0.5\n",
      "prediction_horizon : 0.0704174951642163, median : 0.061232604490622865\n",
      "ph_min : 0.0, ph_max : 0.2602385690851472\n",
      "stddev : 0.056453671933712965, IQR : 0.09184890673593431\n",
      "1st quartile : 0.015308151122655716, 3rd quartile : 0.10715705785859002\n",
      "analysis time : 54.783852100372314 s\n",
      "\n",
      "compute_time : 0h 1m 17s\n",
      "WARNING:tensorflow:`period` argument is deprecated. Please use `save_freq` to specify the frequency in number of batches seen.\n",
      "\n",
      "\n",
      "--------------------------------------------------------------------------------\n",
      "\n",
      "----------------------------- LEARNING RATE : 0.01 -----------------------------\n",
      "\n",
      "--------------------------------------------------------------------------------\n",
      "\n",
      "\n",
      "Epoch 1/2\n",
      "38/38 [==============================] - ETA: 0s - loss: 0.2157 - mse: 0.0347 - NMSE: 0.3125 - tot_time: 0h 0m 8.3s\n",
      "\n",
      "Epoch 1: val_NMSE improved from inf to 0.14780, saving model to /home/rkaushik/Documents/Thesis/MLROM/Kolmogorov/GRU_params_Search/params_search_004/tested_rnn/test_rnn_001/checkpoints/checkpoint\n",
      " - saving loss histories at /home/rkaushik/Documents/Thesis/MLROM/Kolmogorov/GRU_params_Search/params_search_004/tested_rnn/test_rnn_001/checkpoints/LossHistoriesCheckpoint\n",
      "38/38 [==============================] - 8s 192ms/step - loss: 0.2157 - mse: 0.0347 - NMSE: 0.3125 - val_loss: 0.0685 - val_mse: 0.0164 - val_NMSE: 0.1478\n",
      "Epoch 2/2\n",
      "38/38 [==============================] - ETA: 0s - loss: 0.0571 - mse: 0.0194 - NMSE: 0.1749 - tot_time: 0h 0m 15.4s\n",
      "\n",
      "Epoch 2: val_NMSE did not improve from 0.14780\n",
      " - saving loss histories at /home/rkaushik/Documents/Thesis/MLROM/Kolmogorov/GRU_params_Search/params_search_004/tested_rnn/test_rnn_001/checkpoints/LossHistoriesCheckpoint\n",
      "38/38 [==============================] - 7s 184ms/step - loss: 0.0571 - mse: 0.0194 - NMSE: 0.1749 - val_loss: 0.0485 - val_mse: 0.0170 - val_NMSE: 0.1531\n",
      "4/4 [==============================] - 0s 55ms/step - loss: 0.0552 - mse: 0.0237 - NMSE: 0.2135\n",
      "tested_rnn/test_rnn_001\n",
      "num_runs : 25\n",
      "    1 / 25 -- run_time : 0.00 s -- eta : 0h 0m 0s\n",
      "    2 / 25 -- run_time : 0.00 s -- eta : 0h 0m 0s\n",
      "    3 / 25 -- run_time : 0.00 s -- eta : 0h 0m 0s\n",
      "    4 / 25 -- run_time : 0.00 s -- eta : 0h 0m 0s\n",
      "    5 / 25 -- run_time : 0.00 s -- eta : 0h 0m 0s\n",
      "    6 / 25 -- run_time : 0.00 s -- eta : 0h 0m 0s\n",
      "    7 / 25 -- run_time : 0.00 s -- eta : 0h 0m 0s\n",
      "    8 / 25 -- run_time : 0.00 s -- eta : 0h 0m 0s\n",
      "    9 / 25 -- run_time : 0.00 s -- eta : 0h 0m 0s\n",
      "    10 / 25 -- run_time : 0.00 s -- eta : 0h 0m 0s\n",
      "    11 / 25 -- run_time : 0.00 s -- eta : 0h 0m 0s\n",
      "    12 / 25 -- run_time : 0.00 s -- eta : 0h 0m 0s\n",
      "    13 / 25 -- run_time : 0.00 s -- eta : 0h 0m 0s\n",
      "    14 / 25 -- run_time : 0.00 s -- eta : 0h 0m 0s\n",
      "    15 / 25 -- run_time : 0.00 s -- eta : 0h 0m 0s\n",
      "    16 / 25 -- run_time : 0.00 s -- eta : 0h 0m 0s\n",
      "    17 / 25 -- run_time : 0.00 s -- eta : 0h 0m 0s\n",
      "    18 / 25 -- run_time : 0.00 s -- eta : 0h 0m 0s\n",
      "    19 / 25 -- run_time : 0.00 s -- eta : 0h 0m 0s\n",
      "    20 / 25 -- run_time : 0.00 s -- eta : 0h 0m 0s\n",
      "    21 / 25 -- run_time : 0.00 s -- eta : 0h 0m 0s\n",
      "    22 / 25 -- run_time : 0.00 s -- eta : 0h 0m 0s\n",
      "    23 / 25 -- run_time : 0.00 s -- eta : 0h 0m 0s\n",
      "    24 / 25 -- run_time : 0.00 s -- eta : 0h 0m 0s\n",
      "    25 / 25 -- run_time : 0.00 s -- eta : 0h 0m 0s\n",
      "\n",
      "error_threshold = 0.5\n",
      "prediction_horizon : 0.014695825077749487, median : 0.0\n",
      "ph_min : 0.0, ph_max : 0.15308151122655717\n",
      "stddev : 0.032826615946019023, IQR : 0.015308151122655716\n",
      "1st quartile : 0.0, 3rd quartile : 0.015308151122655716\n",
      "analysis time : 53.38528108596802 s\n",
      "\n",
      "compute_time : 0h 1m 16s\n",
      "WARNING:tensorflow:`period` argument is deprecated. Please use `save_freq` to specify the frequency in number of batches seen.\n",
      "\n",
      "\n",
      "--------------------------------------------------------------------------------\n",
      "\n",
      "----------------------------- LEARNING RATE : 0.01 -----------------------------\n",
      "\n",
      "--------------------------------------------------------------------------------\n",
      "\n",
      "\n",
      "Epoch 1/2\n",
      "38/38 [==============================] - ETA: 0s - loss: 0.0323 - mse: 0.0321 - NMSE: 0.2885 - tot_time: 0h 0m 8.2s\n",
      "\n",
      "Epoch 1: val_NMSE improved from inf to 0.05945, saving model to /home/rkaushik/Documents/Thesis/MLROM/Kolmogorov/GRU_params_Search/params_search_004/tested_rnn/test_rnn_002/checkpoints/checkpoint\n",
      " - saving loss histories at /home/rkaushik/Documents/Thesis/MLROM/Kolmogorov/GRU_params_Search/params_search_004/tested_rnn/test_rnn_002/checkpoints/LossHistoriesCheckpoint\n",
      "38/38 [==============================] - 8s 190ms/step - loss: 0.0323 - mse: 0.0321 - NMSE: 0.2885 - val_loss: 0.0069 - val_mse: 0.0066 - val_NMSE: 0.0594\n",
      "Epoch 2/2\n",
      "38/38 [==============================] - ETA: 0s - loss: 0.0056 - mse: 0.0052 - NMSE: 0.0470 - tot_time: 0h 0m 15.5s\n",
      "\n",
      "Epoch 2: val_NMSE improved from 0.05945 to 0.02820, saving model to /home/rkaushik/Documents/Thesis/MLROM/Kolmogorov/GRU_params_Search/params_search_004/tested_rnn/test_rnn_002/checkpoints/checkpoint\n",
      " - saving loss histories at /home/rkaushik/Documents/Thesis/MLROM/Kolmogorov/GRU_params_Search/params_search_004/tested_rnn/test_rnn_002/checkpoints/LossHistoriesCheckpoint\n",
      "38/38 [==============================] - 7s 193ms/step - loss: 0.0056 - mse: 0.0052 - NMSE: 0.0470 - val_loss: 0.0035 - val_mse: 0.0031 - val_NMSE: 0.0282\n"
     ]
    },
    {
     "name": "stdout",
     "output_type": "stream",
     "text": [
      "4/4 [==============================] - 0s 32ms/step - loss: 0.0050 - mse: 0.0046 - NMSE: 0.0415\n",
      "tested_rnn/test_rnn_002\n",
      "num_runs : 25\n",
      "    1 / 25 -- run_time : 0.00 s -- eta : 0h 0m 0s\n",
      "    2 / 25 -- run_time : 0.00 s -- eta : 0h 0m 0s\n",
      "    3 / 25 -- run_time : 0.00 s -- eta : 0h 0m 0s\n",
      "    4 / 25 -- run_time : 0.00 s -- eta : 0h 0m 0s\n",
      "    5 / 25 -- run_time : 0.00 s -- eta : 0h 0m 0s\n",
      "    6 / 25 -- run_time : 0.00 s -- eta : 0h 0m 0s\n",
      "    7 / 25 -- run_time : 0.00 s -- eta : 0h 0m 0s\n",
      "    8 / 25 -- run_time : 0.00 s -- eta : 0h 0m 0s\n",
      "    9 / 25 -- run_time : 0.00 s -- eta : 0h 0m 0s\n",
      "    10 / 25 -- run_time : 0.00 s -- eta : 0h 0m 0s\n",
      "    11 / 25 -- run_time : 0.00 s -- eta : 0h 0m 0s\n",
      "    12 / 25 -- run_time : 0.00 s -- eta : 0h 0m 0s\n",
      "    13 / 25 -- run_time : 0.00 s -- eta : 0h 0m 0s\n",
      "    14 / 25 -- run_time : 0.00 s -- eta : 0h 0m 0s\n",
      "    15 / 25 -- run_time : 0.00 s -- eta : 0h 0m 0s\n",
      "    16 / 25 -- run_time : 0.00 s -- eta : 0h 0m 0s\n",
      "    17 / 25 -- run_time : 0.00 s -- eta : 0h 0m 0s\n",
      "    18 / 25 -- run_time : 0.00 s -- eta : 0h 0m 0s\n",
      "    19 / 25 -- run_time : 0.00 s -- eta : 0h 0m 0s\n",
      "    20 / 25 -- run_time : 0.00 s -- eta : 0h 0m 0s\n",
      "    21 / 25 -- run_time : 0.00 s -- eta : 0h 0m 0s\n",
      "    22 / 25 -- run_time : 0.00 s -- eta : 0h 0m 0s\n",
      "    23 / 25 -- run_time : 0.00 s -- eta : 0h 0m 0s\n",
      "    24 / 25 -- run_time : 0.00 s -- eta : 0h 0m 0s\n",
      "    25 / 25 -- run_time : 0.00 s -- eta : 0h 0m 0s\n",
      "\n",
      "error_threshold = 0.5\n",
      "prediction_horizon : 0.0704174951642163, median : 0.045924453367967154\n",
      "ph_min : 0.0, ph_max : 0.2755467202078029\n",
      "stddev : 0.07322354504780698, IQR : 0.0765407556132786\n",
      "1st quartile : 0.015308151122655716, 3rd quartile : 0.09184890673593431\n",
      "analysis time : 52.88508343696594 s\n",
      "\n",
      "compute_time : 0h 1m 14s\n"
     ]
    }
   ],
   "source": [
    "res = gp_minimize(\n",
    "    optim_func,\n",
    "    dimensions,\n",
    "    x0=x0,\n",
    "    n_calls=n_calls,\n",
    "    n_initial_points=n_initial_points,\n",
    "    random_state=prng_seed,\n",
    "    acq_func=acq_func,\n",
    ")"
   ]
  },
  {
   "cell_type": "code",
   "execution_count": null,
   "metadata": {
    "colab": {
     "base_uri": "https://localhost:8080/",
     "height": 279
    },
    "executionInfo": {
     "elapsed": 1226,
     "status": "ok",
     "timestamp": 1667873564544,
     "user": {
      "displayName": "Rohan Kaushik",
      "userId": "13918477614376051685"
     },
     "user_tz": -60
    },
    "id": "nDv5D8APneQm",
    "outputId": "ee911dc8-4d36-48af-8ad0-07cef0dbaf81"
   },
   "outputs": [],
   "source": []
  },
  {
   "cell_type": "code",
   "execution_count": 47,
   "metadata": {
    "colab": {
     "base_uri": "https://localhost:8080/",
     "height": 433
    },
    "executionInfo": {
     "elapsed": 11096,
     "status": "ok",
     "timestamp": 1667873575637,
     "user": {
      "displayName": "Rohan Kaushik",
      "userId": "13918477614376051685"
     },
     "user_tz": -60
    },
    "id": "dbLa0AwlDBWh",
    "outputId": "d3f93f58-9ce7-4994-8d68-29520477e02d"
   },
   "outputs": [
    {
     "data": {
      "text/plain": [
       "          fun: -0.061232604490622865\n",
       "    func_vals: array([-0.0612326 , -0.        , -0.04592445])\n",
       "       models: [GaussianProcessRegressor(kernel=1**2 * Matern(length_scale=[1, 1], nu=2.5) + WhiteKernel(noise_level=1),\n",
       "                         n_restarts_optimizer=2, noise='gaussian',\n",
       "                         normalize_y=True, random_state=1608637542), GaussianProcessRegressor(kernel=1**2 * Matern(length_scale=[1, 1], nu=2.5) + WhiteKernel(noise_level=1),\n",
       "                         n_restarts_optimizer=2, noise='gaussian',\n",
       "                         normalize_y=True, random_state=1608637542)]\n",
       " random_state: RandomState(MT19937) at 0x7F59396A7340\n",
       "        space: Space([Real(low=0.0001, high=0.1, prior='log-uniform', transform='normalize'),\n",
       "       Real(low=1e-07, high=0.001, prior='log-uniform', transform='normalize')])\n",
       "        specs: {'args': {'func': <function optim_func at 0x7f58cc3f4940>, 'dimensions': Space([Real(low=0.0001, high=0.1, prior='log-uniform', transform='normalize'),\n",
       "       Real(low=1e-07, high=0.001, prior='log-uniform', transform='normalize')]), 'base_estimator': GaussianProcessRegressor(kernel=1**2 * Matern(length_scale=[1, 1], nu=2.5),\n",
       "                         n_restarts_optimizer=2, noise='gaussian',\n",
       "                         normalize_y=True, random_state=1608637542), 'n_calls': 3, 'n_random_starts': None, 'n_initial_points': 0, 'initial_point_generator': 'random', 'acq_func': 'EI', 'acq_optimizer': 'auto', 'x0': [[0.0001, 1e-07], [0.1, 0.001]], 'y0': None, 'random_state': RandomState(MT19937) at 0x7F59396A7340, 'verbose': False, 'callback': None, 'n_points': 10000, 'n_restarts_optimizer': 5, 'xi': 0.01, 'kappa': 1.96, 'n_jobs': 1, 'model_queue_size': None}, 'function': 'base_minimize'}\n",
       "            x: [0.0001, 1e-07]\n",
       "      x_iters: [[0.0001, 1e-07], [0.1, 0.001], [0.0005306490412825486, 1.1754569802446401e-07]]"
      ]
     },
     "execution_count": 47,
     "metadata": {},
     "output_type": "execute_result"
    }
   ],
   "source": [
    "res"
   ]
  },
  {
   "cell_type": "code",
   "execution_count": 48,
   "metadata": {
    "colab": {
     "base_uri": "https://localhost:8080/"
    },
    "executionInfo": {
     "elapsed": 8,
     "status": "ok",
     "timestamp": 1667873575638,
     "user": {
      "displayName": "Rohan Kaushik",
      "userId": "13918477614376051685"
     },
     "user_tz": -60
    },
    "id": "MDopQ4JMhRPV",
    "outputId": "f6480bb7-5837-4a80-9333-f9acd175b27a"
   },
   "outputs": [],
   "source": [
    "optim_x = np.array(res.x)\n",
    "x_iters = np.array(res.x_iters)\n",
    "func_iters = np.array(res.func_vals)\n",
    "optim_func = res.fun\n",
    "\n",
    "optim_idx = np.where(x_iters[:, 0] == optim_x[0])[0]\n",
    "for i in range(optim_x.shape[0]-1):\n",
    "    i = i+1\n",
    "    optim_idx_i = np.where(x_iters[optim_idx, i] == optim_x[i])[0]\n",
    "    optim_idx = optim_idx[optim_idx_i]\n",
    "optim_idx = optim_idx[0]"
   ]
  },
  {
   "cell_type": "code",
   "execution_count": 49,
   "metadata": {
    "executionInfo": {
     "elapsed": 9,
     "status": "ok",
     "timestamp": 1667873576097,
     "user": {
      "displayName": "Rohan Kaushik",
      "userId": "13918477614376051685"
     },
     "user_tz": -60
    },
    "id": "2_fAlJz2Vdev"
   },
   "outputs": [
    {
     "data": {
      "text/plain": [
       "0"
      ]
     },
     "execution_count": 49,
     "metadata": {},
     "output_type": "execute_result"
    }
   ],
   "source": [
    "optim_idx"
   ]
  },
  {
   "cell_type": "code",
   "execution_count": 50,
   "metadata": {
    "executionInfo": {
     "elapsed": 9,
     "status": "ok",
     "timestamp": 1667873576098,
     "user": {
      "displayName": "Rohan Kaushik",
      "userId": "13918477614376051685"
     },
     "user_tz": -60
    },
    "id": "s5BNteRC7COC",
    "scrolled": false
   },
   "outputs": [
    {
     "data": {
      "image/png": "[encoded data removed]",
      "text/plain": [
       "<Figure size 640x480 with 1 Axes>"
      ]
     },
     "metadata": {},
     "output_type": "display_data"
    }
   ],
   "source": [
    "a = n_initial_points + len(x0)\n",
    "# sorted_idx = np.argsort(x_iters[a:, 0])\n",
    "\n",
    "xplot = np.arange(func_iters.shape[0])\n",
    "\n",
    "if a > 0:\n",
    "    plt.plot(\n",
    "        -func_iters[0:a+1],\n",
    "        linestyle='--',\n",
    "        color='C2',\n",
    "        marker='^',\n",
    "        label='Initial Points',\n",
    "    )\n",
    "    xplot = np.arange(a, func_iters.shape[0])\n",
    "plt.plot(\n",
    "    xplot,\n",
    "    -func_iters[a:],\n",
    "    linestyle='--',\n",
    "    marker='^',\n",
    "    label='GP Minimization',#'__nolegend__',\n",
    ")\n",
    "plt.plot([optim_idx], [-func_iters[optim_idx]], 's', label='Optimal Value')\n",
    "\n",
    "plt.xlabel('Iteration', fontsize=15)\n",
    "plt.ylabel('Median Prediction Horizon', fontsize=15)\n",
    "plt.grid(True, which='major', axis='x')\n",
    "plt.grid(True, which='both', axis='y')\n",
    "plt.legend(fontsize=12)\n",
    "\n",
    "plt.savefig(dir_name_rnn_plots+'/median_PH.pdf', bbox_inches='tight', dpi=300)\n",
    "plt.show()"
   ]
  },
  {
   "cell_type": "code",
   "execution_count": 51,
   "metadata": {},
   "outputs": [
    {
     "data": {
      "text/plain": [
       "<AxesSubplot:title={'center':'Convergence plot'}, xlabel='Number of calls $n$', ylabel='$\\\\min f(x)$ after $n$ calls'>"
      ]
     },
     "execution_count": 51,
     "metadata": {},
     "output_type": "execute_result"
    },
    {
     "data": {
      "image/png": "[encoded data removed]",
      "text/plain": [
       "<Figure size 640x480 with 1 Axes>"
      ]
     },
     "metadata": {},
     "output_type": "display_data"
    }
   ],
   "source": [
    "from skopt.plots import plot_convergence\n",
    "plot_convergence(res)"
   ]
  },
  {
   "cell_type": "code",
   "execution_count": 52,
   "metadata": {},
   "outputs": [],
   "source": [
    "optimized_vals_dict = {\n",
    "    'x_iters':x_iters,\n",
    "    'func_iters':func_iters,\n",
    "    'optim_x':optim_x,\n",
    "    'optim_idx':optim_idx,\n",
    "    'optim_fun':func_iters[optim_idx]\n",
    "}\n",
    "\n",
    "with open(dir_name_rnn+'/optimized_vals.txt', 'w') as f:\n",
    "    f.write(str(optimized_vals_dict))\n",
    "    \n",
    "np.savez(\n",
    "    dir_name_rnn+'/optimized_vals',\n",
    "    x_iters=x_iters,\n",
    "    func_iters=func_iters,\n",
    "    optim_x=optim_x,\n",
    "    optim_idx=optim_idx,\n",
    "    optim_fun=func_iters[optim_idx]\n",
    ")"
   ]
  },
  {
   "cell_type": "code",
   "execution_count": 53,
   "metadata": {
    "scrolled": true
   },
   "outputs": [
    {
     "data": {
      "image/png": "[encoded data removed]",
      "text/plain": [
       "<Figure size 640x480 with 1 Axes>"
      ]
     },
     "metadata": {},
     "output_type": "display_data"
    },
    {
     "data": {
      "image/png": "[encoded data removed]",
      "text/plain": [
       "<Figure size 640x480 with 1 Axes>"
      ]
     },
     "metadata": {},
     "output_type": "display_data"
    }
   ],
   "source": [
    "xoptim_names = [\n",
    "    [r'fRMS', 'fRMS', plt.semilogy],\n",
    "    [r'$\\Lambda_{reg}$', 'lambda_reg', plt.semilogy],\n",
    "]\n",
    "if vary_zoneout == True:\n",
    "    xoptim_names.append(\n",
    "        [r'$p^{zoneout}$', 'zoneout', plt.plot]\n",
    "    )\n",
    "\n",
    "for i in range(len(xoptim_names)):\n",
    "    a = n_initial_points + len(x0)\n",
    "    # sorted_idx = np.argsort(x_iters[a:, 0])\n",
    "\n",
    "    xplot = np.arange(x_iters.shape[0])\n",
    "    if a > 0:\n",
    "        xoptim_names[i][2](\n",
    "            x_iters[:, i][0:a+1],\n",
    "            linestyle='--',\n",
    "            color='C2',\n",
    "            marker='^',\n",
    "            label='Initial Points',\n",
    "        )\n",
    "        xplot = np.arange(a, x_iters.shape[0])\n",
    "    xoptim_names[i][2](\n",
    "        xplot,\n",
    "        x_iters[:, i][a:],\n",
    "        linestyle='--',\n",
    "        marker='^',\n",
    "        label='GP Minimization',#'__nolegend__',\n",
    "    )\n",
    "    xoptim_names[i][2]([optim_idx], [x_iters[optim_idx, i]], 's', label='Optimal Value')\n",
    "\n",
    "    plt.xlabel('Iteration', fontsize=15)\n",
    "    plt.ylabel(xoptim_names[i][0], fontsize=15)\n",
    "    plt.grid(True, which='major', axis='x')\n",
    "    plt.grid(True, which='both', axis='y')\n",
    "    plt.legend(fontsize=12)\n",
    "\n",
    "    plt.savefig(dir_name_rnn_plots+'/'+xoptim_names[i][1]+'.pdf', bbox_inches='tight', dpi=300)\n",
    "    plt.show()"
   ]
  },
  {
   "cell_type": "code",
   "execution_count": 54,
   "metadata": {},
   "outputs": [],
   "source": [
    "dir_list = os.listdir(dir_name_rnn+'/tested_rnn')\n",
    "# dir_list"
   ]
  },
  {
   "cell_type": "code",
   "execution_count": 55,
   "metadata": {},
   "outputs": [],
   "source": [
    "ph_mean_lst = []\n",
    "for dir_name in dir_list:\n",
    "    with np.load(dir_name_rnn+'/tested_rnn/'+dir_name+'/prediction_horizons-testingdata--combinedAERNN--ZEROoutsteps.npz') as f:\n",
    "        ph_mean = np.mean(f['prediction_horizon_arr'])\n",
    "        ph_mean_lst.append(ph_mean)\n",
    "ph_mean_lst = np.array(ph_mean_lst)"
   ]
  },
  {
   "cell_type": "code",
   "execution_count": 56,
   "metadata": {},
   "outputs": [],
   "source": [
    "idx = np.where(ph_mean_lst == ph_mean_lst.max())[0]"
   ]
  },
  {
   "cell_type": "code",
   "execution_count": 57,
   "metadata": {
    "scrolled": true
   },
   "outputs": [
    {
     "data": {
      "text/plain": [
       "(array([0, 1]), 'test_rnn_002')"
      ]
     },
     "execution_count": 57,
     "metadata": {},
     "output_type": "execute_result"
    }
   ],
   "source": [
    "idx, dir_list[idx[0]]"
   ]
  },
  {
   "cell_type": "code",
   "execution_count": null,
   "metadata": {},
   "outputs": [],
   "source": []
  },
  {
   "cell_type": "code",
   "execution_count": 58,
   "metadata": {},
   "outputs": [],
   "source": [
    "# convergence plot\n",
    "convergence_f = np.empty_like(func_iters)\n",
    "min_val = np.inf\n",
    "for i in range(func_iters.shape[0]):\n",
    "    if func_iters[i] < min_val:\n",
    "        min_val = func_iters[i]\n",
    "    convergence_f[i] = min_val"
   ]
  },
  {
   "cell_type": "code",
   "execution_count": 59,
   "metadata": {},
   "outputs": [
    {
     "data": {
      "image/png": "[encoded data removed]",
      "text/plain": [
       "<Figure size 640x480 with 1 Axes>"
      ]
     },
     "metadata": {},
     "output_type": "display_data"
    }
   ],
   "source": [
    "a = n_initial_points + len(x0)\n",
    "# sorted_idx = np.argsort(x_iters[a:, 0])\n",
    "\n",
    "xplot = np.arange(x_iters.shape[0])\n",
    "\n",
    "if a > 0:\n",
    "    plt.plot(\n",
    "        -convergence_f[0:a+1],\n",
    "        linestyle='--',\n",
    "        color='C2',\n",
    "        marker='^',\n",
    "        label='Initial Points',\n",
    "    )\n",
    "    xplot = np.arange(a, x_iters.shape[0])\n",
    "plt.plot(\n",
    "    xplot,\n",
    "    -convergence_f[a:],\n",
    "    linestyle='--',\n",
    "    marker='^',\n",
    "    label='GP Minimization',#'__nolegend__',\n",
    ")\n",
    "# plt.semilogy([optim_idx], [func_iters[optim_idx, 0]], 's', label='Optimal Value')\n",
    "\n",
    "plt.xlabel('Iteration', fontsize=15)\n",
    "plt.ylabel(\n",
    "#     r\"$$\\min_{0 \\leq j \\leq \\mathrm{present \\ iteration}} \\left( \\mathrm{Test \\ MSE} \\right)$$\",\n",
    "#     r\"$$\\min_{0 \\leq j \\leq \\mathrm{present \\atop iteration}} \\left( \\mathrm{Test \\ MSE} \\right)$$\",\n",
    "    r\"$$\\max_{0 \\leq j \\leq \\mathrm{present \\atop iteration}} \\left( \\mathrm{Median \\ PH} \\right)$$\",\n",
    "    fontsize=15,\n",
    ")\n",
    "plt.title('Convergence Plot', fontsize=18)\n",
    "plt.grid(True, which='major', axis='x')\n",
    "plt.grid(True, which='both', axis='y')\n",
    "plt.legend(fontsize=12)\n",
    "\n",
    "plt.savefig(dir_name_rnn_plots+'/convergence_plot.pdf', bbox_inches='tight', dpi=300)\n",
    "plt.show()"
   ]
  },
  {
   "cell_type": "markdown",
   "metadata": {},
   "source": [
    "### Prediction horizon computation"
   ]
  },
  {
   "cell_type": "code",
   "execution_count": null,
   "metadata": {},
   "outputs": [],
   "source": []
  },
  {
   "cell_type": "code",
   "execution_count": null,
   "metadata": {},
   "outputs": [],
   "source": []
  },
  {
   "cell_type": "code",
   "execution_count": null,
   "metadata": {},
   "outputs": [],
   "source": []
  }
 ],
 "metadata": {
  "accelerator": "GPU",
  "colab": {
   "collapsed_sections": [],
   "provenance": []
  },
  "gpuClass": "standard",
  "kernelspec": {
   "display_name": "Python 3 (ipykernel)",
   "language": "python",
   "name": "python3"
  },
  "language_info": {
   "codemirror_mode": {
    "name": "ipython",
    "version": 3
   },
   "file_extension": ".py",
   "mimetype": "text/x-python",
   "name": "python",
   "nbconvert_exporter": "python",
   "pygments_lexer": "ipython3",
   "version": "3.10.6"
  }
 },
 "nbformat": 4,
 "nbformat_minor": 1
}
