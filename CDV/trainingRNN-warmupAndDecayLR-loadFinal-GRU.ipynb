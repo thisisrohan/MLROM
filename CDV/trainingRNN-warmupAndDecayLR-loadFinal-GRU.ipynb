{
 "cells": [
  {
   "cell_type": "code",
   "execution_count": 1,
   "metadata": {
    "executionInfo": {
     "elapsed": 4,
     "status": "ok",
     "timestamp": 1665861346706,
     "user": {
      "displayName": "Rohan Kaushik",
      "userId": "13918477614376051685"
     },
     "user_tz": -120
    },
    "id": "4xhxMpe_r-Y5"
   },
   "outputs": [],
   "source": [
    "# enabling 3rd party widgets\n",
    "# from google.colab import output\n",
    "# output.enable_custom_widget_manager()\n",
    "# output.disable_custom_widget_manager()\n",
    "\n",
    "# interactive 3D plot\n",
    "# !pip install ipympl\n",
    "# %matplotlib widget"
   ]
  },
  {
   "cell_type": "code",
   "execution_count": 2,
   "metadata": {
    "executionInfo": {
     "elapsed": 2835,
     "status": "ok",
     "timestamp": 1665861349537,
     "user": {
      "displayName": "Rohan Kaushik",
      "userId": "13918477614376051685"
     },
     "user_tz": -120
    },
    "id": "a5qPupCDsjSz"
   },
   "outputs": [],
   "source": [
    "import os\n",
    "import math\n",
    "from collections import OrderedDict\n",
    "import numpy as np\n",
    "import matplotlib.pyplot as plt\n",
    "from scipy import linalg\n",
    "\n",
    "import time as time\n",
    "import platform as platform\n",
    "\n",
    "import tensorflow as tf\n",
    "from tensorflow.keras import layers, losses\n",
    "from tensorflow.keras.models import Model\n",
    "from tensorflow.keras import backend as K\n",
    "from tensorflow.keras.regularizers import L2\n",
    "import h5py\n",
    "\n",
    "tf.keras.backend.set_floatx('float32')"
   ]
  },
  {
   "cell_type": "code",
   "execution_count": 3,
   "metadata": {
    "executionInfo": {
     "elapsed": 11,
     "status": "ok",
     "timestamp": 1665861349539,
     "user": {
      "displayName": "Rohan Kaushik",
      "userId": "13918477614376051685"
     },
     "user_tz": -120
    },
    "id": "h_qXhHdbCgoj"
   },
   "outputs": [
    {
     "name": "stderr",
     "output_type": "stream",
     "text": [
      "2022-10-17 13:03:26.823449: I tensorflow/stream_executor/cuda/cuda_gpu_executor.cc:936] successful NUMA node read from SysFS had negative value (-1), but there must be at least one NUMA node, so returning NUMA node zero\n",
      "2022-10-17 13:03:26.823996: I tensorflow/stream_executor/cuda/cuda_gpu_executor.cc:936] successful NUMA node read from SysFS had negative value (-1), but there must be at least one NUMA node, so returning NUMA node zero\n",
      "2022-10-17 13:03:27.386492: I tensorflow/stream_executor/cuda/cuda_gpu_executor.cc:936] successful NUMA node read from SysFS had negative value (-1), but there must be at least one NUMA node, so returning NUMA node zero\n",
      "2022-10-17 13:03:27.386818: I tensorflow/stream_executor/cuda/cuda_gpu_executor.cc:936] successful NUMA node read from SysFS had negative value (-1), but there must be at least one NUMA node, so returning NUMA node zero\n",
      "2022-10-17 13:03:27.387171: I tensorflow/stream_executor/cuda/cuda_gpu_executor.cc:936] successful NUMA node read from SysFS had negative value (-1), but there must be at least one NUMA node, so returning NUMA node zero\n",
      "2022-10-17 13:03:27.387412: I tensorflow/stream_executor/cuda/cuda_gpu_executor.cc:936] successful NUMA node read from SysFS had negative value (-1), but there must be at least one NUMA node, so returning NUMA node zero\n",
      "2022-10-17 13:03:27.434856: I tensorflow/core/platform/cpu_feature_guard.cc:151] This TensorFlow binary is optimized with oneAPI Deep Neural Network Library (oneDNN) to use the following CPU instructions in performance-critical operations:  SSE4.1 SSE4.2 AVX AVX2 FMA\n",
      "To enable them in other operations, rebuild TensorFlow with the appropriate compiler flags.\n",
      "2022-10-17 13:03:27.733880: I tensorflow/stream_executor/cuda/cuda_gpu_executor.cc:936] successful NUMA node read from SysFS had negative value (-1), but there must be at least one NUMA node, so returning NUMA node zero\n",
      "2022-10-17 13:03:27.734218: I tensorflow/stream_executor/cuda/cuda_gpu_executor.cc:936] successful NUMA node read from SysFS had negative value (-1), but there must be at least one NUMA node, so returning NUMA node zero\n",
      "2022-10-17 13:03:27.734524: I tensorflow/stream_executor/cuda/cuda_gpu_executor.cc:936] successful NUMA node read from SysFS had negative value (-1), but there must be at least one NUMA node, so returning NUMA node zero\n",
      "2022-10-17 13:03:27.734837: I tensorflow/stream_executor/cuda/cuda_gpu_executor.cc:936] successful NUMA node read from SysFS had negative value (-1), but there must be at least one NUMA node, so returning NUMA node zero\n",
      "2022-10-17 13:03:27.735121: I tensorflow/stream_executor/cuda/cuda_gpu_executor.cc:936] successful NUMA node read from SysFS had negative value (-1), but there must be at least one NUMA node, so returning NUMA node zero\n",
      "2022-10-17 13:03:27.735403: I tensorflow/stream_executor/cuda/cuda_gpu_executor.cc:936] successful NUMA node read from SysFS had negative value (-1), but there must be at least one NUMA node, so returning NUMA node zero\n",
      "2022-10-17 13:03:32.666655: I tensorflow/stream_executor/cuda/cuda_gpu_executor.cc:936] successful NUMA node read from SysFS had negative value (-1), but there must be at least one NUMA node, so returning NUMA node zero\n",
      "2022-10-17 13:03:32.666916: I tensorflow/stream_executor/cuda/cuda_gpu_executor.cc:936] successful NUMA node read from SysFS had negative value (-1), but there must be at least one NUMA node, so returning NUMA node zero\n",
      "2022-10-17 13:03:32.667123: I tensorflow/stream_executor/cuda/cuda_gpu_executor.cc:936] successful NUMA node read from SysFS had negative value (-1), but there must be at least one NUMA node, so returning NUMA node zero\n",
      "2022-10-17 13:03:32.667324: I tensorflow/stream_executor/cuda/cuda_gpu_executor.cc:936] successful NUMA node read from SysFS had negative value (-1), but there must be at least one NUMA node, so returning NUMA node zero\n",
      "2022-10-17 13:03:32.667520: I tensorflow/stream_executor/cuda/cuda_gpu_executor.cc:936] successful NUMA node read from SysFS had negative value (-1), but there must be at least one NUMA node, so returning NUMA node zero\n",
      "2022-10-17 13:03:32.677839: I tensorflow/core/common_runtime/gpu/gpu_device.cc:1525] Created device /job:localhost/replica:0/task:0/device:GPU:0 with 3371 MB memory:  -> device: 0, name: Quadro K2200, pci bus id: 0000:02:00.0, compute capability: 5.0\n",
      "2022-10-17 13:03:32.703169: I tensorflow/stream_executor/cuda/cuda_gpu_executor.cc:936] successful NUMA node read from SysFS had negative value (-1), but there must be at least one NUMA node, so returning NUMA node zero\n",
      "2022-10-17 13:03:32.703332: I tensorflow/core/common_runtime/gpu/gpu_device.cc:1525] Created device /job:localhost/replica:0/task:0/device:GPU:1 with 3372 MB memory:  -> device: 1, name: Quadro K2200, pci bus id: 0000:03:00.0, compute capability: 5.0\n"
     ]
    },
    {
     "name": "stdout",
     "output_type": "stream",
     "text": [
      "INFO:tensorflow:Using MirroredStrategy with devices ('/job:localhost/replica:0/task:0/device:GPU:0', '/job:localhost/replica:0/task:0/device:GPU:1')\n"
     ]
    }
   ],
   "source": [
    "colab_flag = False\n",
    "\n",
    "# strategy = None\n",
    "strategy = tf.distribute.MirroredStrategy()"
   ]
  },
  {
   "cell_type": "code",
   "execution_count": 4,
   "metadata": {
    "executionInfo": {
     "elapsed": 10,
     "status": "ok",
     "timestamp": 1665861349540,
     "user": {
      "displayName": "Rohan Kaushik",
      "userId": "13918477614376051685"
     },
     "user_tz": -120
    },
    "id": "BiLIUmBPneQR"
   },
   "outputs": [],
   "source": [
    "current_sys = platform.system()\n",
    "\n",
    "if current_sys == 'Windows':\n",
    "    dir_sep = '\\\\'\n",
    "else:\n",
    "    dir_sep = '/'"
   ]
  },
  {
   "cell_type": "code",
   "execution_count": 5,
   "metadata": {
    "colab": {
     "base_uri": "https://localhost:8080/"
    },
    "executionInfo": {
     "elapsed": 1537,
     "status": "ok",
     "timestamp": 1665861351067,
     "user": {
      "displayName": "Rohan Kaushik",
      "userId": "13918477614376051685"
     },
     "user_tz": -120
    },
    "id": "fnTV6Anhni6O",
    "outputId": "9ac73d1f-5764-4d56-d71d-e71f1dcfaa33"
   },
   "outputs": [],
   "source": [
    "if colab_flag == True:\n",
    "    from google.colab import drive\n",
    "    drive.mount('/content/drive')\n",
    "    os.chdir('/content/drive/MyDrive/Github/MLROM/CDV/')"
   ]
  },
  {
   "cell_type": "code",
   "execution_count": 6,
   "metadata": {
    "colab": {
     "base_uri": "https://localhost:8080/"
    },
    "executionInfo": {
     "elapsed": 12,
     "status": "ok",
     "timestamp": 1665861351068,
     "user": {
      "displayName": "Rohan Kaushik",
      "userId": "13918477614376051685"
     },
     "user_tz": -120
    },
    "id": "paDfPOrjnkAS",
    "outputId": "98f79e45-fed9-4c07-f994-ea369caf4c87"
   },
   "outputs": [
    {
     "name": "stdout",
     "output_type": "stream",
     "text": [
      "/home/rkaushik/Documents/Thesis/MLROM/CDV\n"
     ]
    }
   ],
   "source": [
    "print(os.getcwd())"
   ]
  },
  {
   "cell_type": "code",
   "execution_count": 7,
   "metadata": {
    "executionInfo": {
     "elapsed": 10,
     "status": "ok",
     "timestamp": 1665861351069,
     "user": {
      "displayName": "Rohan Kaushik",
      "userId": "13918477614376051685"
     },
     "user_tz": -120
    },
    "id": "P6K2YWlR6ZPD"
   },
   "outputs": [],
   "source": [
    "from tools.misc_tools import create_CDV_data, create_data_for_RNN, mytimecallback, SaveLosses, plot_losses, plot_reconstructed_data_cdv, plot_latent_states_cdv, readAndReturnLossHistories, sigmoidWarmupAndDecayLRSchedule\n",
    "from tools.ae_v3 import Autoencoder\n",
    "from tools.GRU_SingleStep_v4 import RNN_GRU"
   ]
  },
  {
   "cell_type": "code",
   "execution_count": 8,
   "metadata": {
    "executionInfo": {
     "elapsed": 10,
     "status": "ok",
     "timestamp": 1665861351070,
     "user": {
      "displayName": "Rohan Kaushik",
      "userId": "13918477614376051685"
     },
     "user_tz": -120
    },
    "id": "_xtkwXE2tGTP"
   },
   "outputs": [],
   "source": [
    "# behaviour = 'initialiseAndTrainFromScratch'\n",
    "behaviour = 'loadCheckpointAndContinueTraining'\n",
    "# behaviour = 'loadFinalNetAndPlot'"
   ]
  },
  {
   "cell_type": "code",
   "execution_count": 9,
   "metadata": {
    "executionInfo": {
     "elapsed": 10,
     "status": "ok",
     "timestamp": 1665861351070,
     "user": {
      "displayName": "Rohan Kaushik",
      "userId": "13918477614376051685"
     },
     "user_tz": -120
    },
    "id": "8S1AHEkl48bn"
   },
   "outputs": [],
   "source": [
    "# setting seed for PRNGs\n",
    "if behaviour == 'initialiseAndTrainFromScratch':\n",
    "    prng_seed = 42\n",
    "    np.random.seed(prng_seed)\n",
    "    tf.random.set_seed(prng_seed)"
   ]
  },
  {
   "cell_type": "code",
   "execution_count": 10,
   "metadata": {
    "colab": {
     "base_uri": "https://localhost:8080/"
    },
    "executionInfo": {
     "elapsed": 316,
     "status": "ok",
     "timestamp": 1665861351377,
     "user": {
      "displayName": "Rohan Kaushik",
      "userId": "13918477614376051685"
     },
     "user_tz": -120
    },
    "id": "qvA9oeCHCTVM",
    "outputId": "64c78876-3ee8-409f-cdd0-96fba8b5e3e4"
   },
   "outputs": [
    {
     "name": "stdout",
     "output_type": "stream",
     "text": [
      "[PhysicalDevice(name='/physical_device:GPU:0', device_type='GPU'), PhysicalDevice(name='/physical_device:GPU:1', device_type='GPU')]\n",
      "[LogicalDevice(name='/device:GPU:0', device_type='GPU'), LogicalDevice(name='/device:GPU:1', device_type='GPU')]\n"
     ]
    }
   ],
   "source": [
    "gpus = tf.config.list_physical_devices('GPU')\n",
    "print(gpus)\n",
    "\n",
    "if colab_flag == False:\n",
    "    if strategy is None:\n",
    "        if gpus:\n",
    "            gpu_to_use = 1\n",
    "            tf.config.set_visible_devices(gpus[gpu_to_use], 'GPU')\n",
    "    logical_devices = tf.config.list_logical_devices('GPU')\n",
    "    print(logical_devices)"
   ]
  },
  {
   "cell_type": "code",
   "execution_count": 11,
   "metadata": {
    "colab": {
     "base_uri": "https://localhost:8080/"
    },
    "executionInfo": {
     "elapsed": 1238,
     "status": "ok",
     "timestamp": 1665861352613,
     "user": {
      "displayName": "Rohan Kaushik",
      "userId": "13918477614376051685"
     },
     "user_tz": -120
    },
    "id": "tc3zO9xL_tNl",
    "outputId": "85a81d4b-d516-4e04-c4cd-841c59e81ae8"
   },
   "outputs": [
    {
     "name": "stdout",
     "output_type": "stream",
     "text": [
      "[PhysicalDevice(name='/physical_device:CPU:0', device_type='CPU'), PhysicalDevice(name='/physical_device:GPU:0', device_type='GPU'), PhysicalDevice(name='/physical_device:GPU:1', device_type='GPU')]\n",
      "[LogicalDevice(name='/device:CPU:0', device_type='CPU'), LogicalDevice(name='/device:GPU:0', device_type='GPU'), LogicalDevice(name='/device:GPU:1', device_type='GPU')]\n",
      "2.8.1\n"
     ]
    }
   ],
   "source": [
    "# print(tf.test.gpu_device_name())\n",
    "print(tf.config.list_physical_devices())\n",
    "print(tf.config.list_logical_devices())\n",
    "print(tf.__version__)"
   ]
  },
  {
   "cell_type": "markdown",
   "metadata": {
    "id": "7UbdnOtc4_z9"
   },
   "source": [
    "# CDV System"
   ]
  },
  {
   "cell_type": "code",
   "execution_count": null,
   "metadata": {
    "executionInfo": {
     "elapsed": 7,
     "status": "ok",
     "timestamp": 1665861352614,
     "user": {
      "displayName": "Rohan Kaushik",
      "userId": "13918477614376051685"
     },
     "user_tz": -120
    },
    "id": "8aNkoXfyGq52"
   },
   "outputs": [],
   "source": []
  },
  {
   "cell_type": "code",
   "execution_count": 12,
   "metadata": {
    "executionInfo": {
     "elapsed": 7,
     "status": "ok",
     "timestamp": 1665861352615,
     "user": {
      "displayName": "Rohan Kaushik",
      "userId": "13918477614376051685"
     },
     "user_tz": -120
    },
    "id": "O7sl7i5H5Dqz"
   },
   "outputs": [],
   "source": [
    "# setting up params (and saving, if applicable)\n",
    "from numpy import *\n",
    "\n",
    "if behaviour == 'initialiseAndTrainFromScratch':\n",
    "    # making RNN save directory\n",
    "    dir_name_rnn = os.getcwd() + dir_sep + 'saved_rnn'\n",
    "    if not os.path.isdir(dir_name_rnn):\n",
    "        os.makedirs(dir_name_rnn)\n",
    "\n",
    "    counter = 0\n",
    "    while True:\n",
    "        dir_check = 'rnn_' + str(counter).zfill(3)\n",
    "        if os.path.isdir(dir_name_rnn + dir_sep + dir_check):\n",
    "            counter += 1\n",
    "        else:\n",
    "            break\n",
    "\n",
    "    dir_name_rnn = dir_name_rnn + dir_sep + dir_check\n",
    "    os.makedirs(dir_name_rnn)\n",
    "    os.makedirs(dir_name_rnn+dir_sep+'plots')\n",
    "\n",
    "    # autoencoder directory\n",
    "    ae_idx = '001'\n",
    "    dir_name_ae = os.getcwd()+'{ds}saved_ae{ds}ae_'.format(ds=dir_sep)+ae_idx\n",
    "\n",
    "    # reading simulation parameters\n",
    "    with open(dir_name_ae + dir_sep + 'sim_data_params.txt') as f:\n",
    "        lines = f.readlines()\n",
    "\n",
    "    params_dict = eval(''.join(lines))\n",
    "\n",
    "    params_mat = params_dict['params_mat']\n",
    "\n",
    "    init_state = params_dict['init_state']\n",
    "\n",
    "    t0 = params_dict['t0']\n",
    "    T = params_dict['T']\n",
    "    delta_t = params_dict['delta_t']\n",
    "\n",
    "    return_params_arr = params_dict['return_params_arr']\n",
    "    normalize_flag = params_dict['normalize_flag']\n",
    "else:\n",
    "    # RNN directory\n",
    "    dir_name_rnn = os.getcwd()+'/saved_rnn/rnn_006'\n",
    "\n",
    "    # reading simulation parameters\n",
    "    with open(dir_name_rnn + '/sim_data_AE_params.txt') as f:\n",
    "        lines = f.readlines()\n",
    "\n",
    "    params_dict = eval(''.join(lines))\n",
    "\n",
    "    dir_name_ae = params_dict['dir_name_ae']\n",
    "    ae_idx = dir_name_ae[-3:]\n",
    "    dir_name_ae = os.getcwd()+'/saved_ae/ae_'+ae_idx\n",
    "\n",
    "    params_mat = params_dict['params_mat']\n",
    "\n",
    "    init_state = params_dict['init_state']\n",
    "\n",
    "    t0 = params_dict['t0']\n",
    "    T = params_dict['T']\n",
    "    delta_t = params_dict['delta_t']\n",
    "\n",
    "    return_params_arr = params_dict['return_params_arr']\n",
    "    normalize_flag = params_dict['normalize_flag']\n",
    "\n",
    "    # reading RNN paramaters\n",
    "    with open(dir_name_rnn + '/RNN_specific_data.txt') as f:\n",
    "        lines = f.readlines()\n",
    "\n",
    "    params_rnn_dict = eval(''.join(lines))\n",
    "\n",
    "    dt_rnn = params_rnn_dict['dt_rnn']\n",
    "    T_sample_input = params_rnn_dict['T_sample_input']\n",
    "    T_sample_output = params_rnn_dict['T_sample_output']\n",
    "    T_offset = params_rnn_dict['T_offset']\n",
    "    return_params_arr = params_rnn_dict['return_params_arr']\n",
    "    params = params_rnn_dict['params']\n",
    "    try:\n",
    "        normalize_dataset = params_rnn_dict['normalize_dataset']\n",
    "    except:\n",
    "        print(\"'normalize_dataset' not present in RNN_specific_data, set to False.\")\n",
    "        normalize_dataset = False"
   ]
  },
  {
   "cell_type": "code",
   "execution_count": null,
   "metadata": {
    "executionInfo": {
     "elapsed": 7,
     "status": "ok",
     "timestamp": 1665861352615,
     "user": {
      "displayName": "Rohan Kaushik",
      "userId": "13918477614376051685"
     },
     "user_tz": -120
    },
    "id": "ySVDz_2U5FH5"
   },
   "outputs": [],
   "source": []
  },
  {
   "cell_type": "code",
   "execution_count": 13,
   "metadata": {
    "executionInfo": {
     "elapsed": 7,
     "status": "ok",
     "timestamp": 1665861352616,
     "user": {
      "displayName": "Rohan Kaushik",
      "userId": "13918477614376051685"
     },
     "user_tz": -120
    },
    "id": "bkQx9q_p5Gro"
   },
   "outputs": [],
   "source": [
    "# overriding T from autoencoder params\n",
    "T = 1000"
   ]
  },
  {
   "cell_type": "code",
   "execution_count": 14,
   "metadata": {
    "executionInfo": {
     "elapsed": 52674,
     "status": "ok",
     "timestamp": 1665861405283,
     "user": {
      "displayName": "Rohan Kaushik",
      "userId": "13918477614376051685"
     },
     "user_tz": -120
    },
    "id": "uDhfYHU45IS8"
   },
   "outputs": [],
   "source": [
    "res_dict = create_CDV_data(\n",
    "    T, t0, delta_t,\n",
    "    params_mat,\n",
    "    init_state, return_params_arr=return_params_arr,\n",
    "    normalize=normalize_flag\n",
    ")\n",
    "\n",
    "all_data = res_dict['all_data']\n",
    "N = res_dict['N']\n",
    "boundary_idx_arr = res_dict['boundary_idx_arr']\n",
    "\n",
    "if return_params_arr == True:\n",
    "    params_arr = res_dict['params_arr']\n",
    "\n",
    "if normalize_flag == True:\n",
    "    normalization_constant_arr = res_dict['normalization_constant_arr']"
   ]
  },
  {
   "cell_type": "code",
   "execution_count": 15,
   "metadata": {
    "executionInfo": {
     "elapsed": 17,
     "status": "ok",
     "timestamp": 1665861405284,
     "user": {
      "displayName": "Rohan Kaushik",
      "userId": "13918477614376051685"
     },
     "user_tz": -120
    },
    "id": "-MJa7P5t5KiC",
    "scrolled": true
   },
   "outputs": [],
   "source": [
    "n = len(boundary_idx_arr)"
   ]
  },
  {
   "cell_type": "markdown",
   "metadata": {
    "id": "1v6KQEjR5LkK"
   },
   "source": [
    "# Autoencoder"
   ]
  },
  {
   "cell_type": "code",
   "execution_count": 16,
   "metadata": {
    "executionInfo": {
     "elapsed": 16,
     "status": "ok",
     "timestamp": 1665861405286,
     "user": {
      "displayName": "Rohan Kaushik",
      "userId": "13918477614376051685"
     },
     "user_tz": -120
    },
    "id": "IjsRi02g5ORG"
   },
   "outputs": [],
   "source": [
    "# from tools.ae_v3 import Autoencoder"
   ]
  },
  {
   "cell_type": "code",
   "execution_count": 17,
   "metadata": {
    "executionInfo": {
     "elapsed": 11,
     "status": "ok",
     "timestamp": 1665861405287,
     "user": {
      "displayName": "Rohan Kaushik",
      "userId": "13918477614376051685"
     },
     "user_tz": -120
    },
    "id": "ZBTJl9PeneQb"
   },
   "outputs": [],
   "source": [
    "# load_file = dir_name_ae+dir_sep+'new_class_data'+dir_sep+'ae_'+ae_idx+'_class_dict.txt'\n",
    "# wt_file = dir_name_ae+dir_sep+'new_class_data'+dir_sep+'ae_'+ae_idx+'_ae_weights.h5'\n",
    "\n",
    "# if colab_flag == False:\n",
    "#     dir_name_ae_og = dir_name_ae\n",
    "#     dir_name_ae_temp = '/home/rkaushik/Documents/Thesis/MLROM/CDV/saved_ae/ae_'+ae_idx\n",
    "#     dir_name_ae = dir_name_ae_temp\n",
    "\n",
    "load_file = dir_name_ae+dir_sep+'final_net'+dir_sep+'final_net_class_dict.txt'\n",
    "wt_file = dir_name_ae+dir_sep+'final_net'+dir_sep+'final_net_ae_weights.h5'\n",
    "\n",
    "# if colab_flag == False:\n",
    "#     dir_name_ae = dir_name_ae_og"
   ]
  },
  {
   "cell_type": "code",
   "execution_count": 18,
   "metadata": {
    "executionInfo": {
     "elapsed": 846,
     "status": "ok",
     "timestamp": 1665861406124,
     "user": {
      "displayName": "Rohan Kaushik",
      "userId": "13918477614376051685"
     },
     "user_tz": -120
    },
    "id": "a3Pq-qorneQb"
   },
   "outputs": [],
   "source": [
    "ae_net = Autoencoder(12, load_file=load_file)\n",
    "ae_net.load_weights_from_file(wt_file)"
   ]
  },
  {
   "cell_type": "code",
   "execution_count": null,
   "metadata": {
    "executionInfo": {
     "elapsed": 9,
     "status": "ok",
     "timestamp": 1665861406126,
     "user": {
      "displayName": "Rohan Kaushik",
      "userId": "13918477614376051685"
     },
     "user_tz": -120
    },
    "id": "wwt4brHcOaXi"
   },
   "outputs": [],
   "source": []
  },
  {
   "cell_type": "code",
   "execution_count": null,
   "metadata": {
    "executionInfo": {
     "elapsed": 9,
     "status": "ok",
     "timestamp": 1665861406127,
     "user": {
      "displayName": "Rohan Kaushik",
      "userId": "13918477614376051685"
     },
     "user_tz": -120
    },
    "id": "Zl6ZvgtNtA_u",
    "scrolled": true
   },
   "outputs": [],
   "source": []
  },
  {
   "cell_type": "code",
   "execution_count": null,
   "metadata": {
    "executionInfo": {
     "elapsed": 10,
     "status": "ok",
     "timestamp": 1665861406128,
     "user": {
      "displayName": "Rohan Kaushik",
      "userId": "13918477614376051685"
     },
     "user_tz": -120
    },
    "id": "lXpoaKRIneQc"
   },
   "outputs": [],
   "source": []
  },
  {
   "cell_type": "code",
   "execution_count": 19,
   "metadata": {
    "colab": {
     "base_uri": "https://localhost:8080/"
    },
    "executionInfo": {
     "elapsed": 4939,
     "status": "ok",
     "timestamp": 1665861411059,
     "user": {
      "displayName": "Rohan Kaushik",
      "userId": "13918477614376051685"
     },
     "user_tz": -120
    },
    "id": "Q3a8HHyvneQc",
    "outputId": "c53e3329-9622-4aab-a494-8aaf11d8db03"
   },
   "outputs": [],
   "source": [
    "# create data\n",
    "latent_states_all = ae_net.encoder_net.predict(all_data)\n",
    "num_latent_states = latent_states_all.shape[1]"
   ]
  },
  {
   "cell_type": "code",
   "execution_count": 20,
   "metadata": {
    "colab": {
     "base_uri": "https://localhost:8080/",
     "height": 622
    },
    "executionInfo": {
     "elapsed": 1108,
     "status": "ok",
     "timestamp": 1665861412163,
     "user": {
      "displayName": "Rohan Kaushik",
      "userId": "13918477614376051685"
     },
     "user_tz": -120
    },
    "id": "wjgPNitSrt5p",
    "outputId": "b95cf100-b996-4317-f72f-52bcbccf3ef3"
   },
   "outputs": [
    {
     "data": {
      "image/png": "[encoded data removed]",
      "text/plain": [
       "<Figure size 750x1000 with 4 Axes>"
      ]
     },
     "metadata": {},
     "output_type": "display_data"
    }
   ],
   "source": [
    "fig, ax = plot_latent_states_cdv(\n",
    "    boundary_idx_arr,\n",
    "    latent_states_all,\n",
    "    all_data,\n",
    "    delta_t,\n",
    "    params_mat,\n",
    "    # xlim=[-1,1],\n",
    "    ylim=[-1,1],\n",
    "    cmap_name='gist_rainbow',\n",
    "    legend_markerscale=10,\n",
    "    legend_bbox_to_anchor=[1,1],\n",
    "    save_config_path=None\n",
    ")"
   ]
  },
  {
   "cell_type": "code",
   "execution_count": 21,
   "metadata": {
    "executionInfo": {
     "elapsed": 10,
     "status": "ok",
     "timestamp": 1665861412164,
     "user": {
      "displayName": "Rohan Kaushik",
      "userId": "13918477614376051685"
     },
     "user_tz": -120
    },
    "id": "wnLnqg0Jrt5t"
   },
   "outputs": [],
   "source": [
    "# for i in range(ae_net.layers):\n",
    "#     tf.keras.utils.plot_model(\n",
    "#         ae_net.layers[i],\n",
    "#         to_file=dir_name_ae+'/plots/netlayer_{}.png'.format(i),\n",
    "#         show_shapes=True,\n",
    "#         dpi=300\n",
    "# )"
   ]
  },
  {
   "cell_type": "code",
   "execution_count": null,
   "metadata": {
    "executionInfo": {
     "elapsed": 11,
     "status": "ok",
     "timestamp": 1665861412166,
     "user": {
      "displayName": "Rohan Kaushik",
      "userId": "13918477614376051685"
     },
     "user_tz": -120
    },
    "id": "BOJE8vREtque"
   },
   "outputs": [],
   "source": []
  },
  {
   "cell_type": "code",
   "execution_count": null,
   "metadata": {
    "executionInfo": {
     "elapsed": 13,
     "status": "ok",
     "timestamp": 1665861412169,
     "user": {
      "displayName": "Rohan Kaushik",
      "userId": "13918477614376051685"
     },
     "user_tz": -120
    },
    "id": "fwjcsAxKneQe"
   },
   "outputs": [],
   "source": []
  },
  {
   "cell_type": "code",
   "execution_count": null,
   "metadata": {
    "executionInfo": {
     "elapsed": 14,
     "status": "ok",
     "timestamp": 1665861412170,
     "user": {
      "displayName": "Rohan Kaushik",
      "userId": "13918477614376051685"
     },
     "user_tz": -120
    },
    "id": "aFd7XgwVneQe"
   },
   "outputs": [],
   "source": []
  },
  {
   "cell_type": "markdown",
   "metadata": {
    "id": "8IAcFjRRn_IQ"
   },
   "source": [
    "# GRU"
   ]
  },
  {
   "cell_type": "code",
   "execution_count": 22,
   "metadata": {
    "executionInfo": {
     "elapsed": 14,
     "status": "ok",
     "timestamp": 1665861412171,
     "user": {
      "displayName": "Rohan Kaushik",
      "userId": "13918477614376051685"
     },
     "user_tz": -120
    },
    "id": "lPVqWNwjoAGP"
   },
   "outputs": [],
   "source": [
    "if behaviour == 'initialiseAndTrainFromScratch':\n",
    "    # RNN data parameters\n",
    "    dt_rnn = 0.1\n",
    "    T_sample_input = 60\n",
    "    T_sample_output = 60\n",
    "    T_offset = dt_rnn\n",
    "    normalize_dataset = True # whether the data for the RNN should be normalized by the dataset's mean and std\n",
    "    if return_params_arr != False:\n",
    "        params = params_arr\n",
    "    else:\n",
    "        params = None\n",
    "\n",
    "    # saving simulation data\n",
    "    sim_data = {\n",
    "        'params_mat':params_mat,\n",
    "        'init_state':init_state,\n",
    "        't0':t0,\n",
    "        'T':T,\n",
    "        'delta_t':delta_t,\n",
    "        'return_params_arr':return_params_arr,\n",
    "        'dir_name_ae':dir_name_ae,\n",
    "        'normalize_flag':normalize_flag,\n",
    "    }\n",
    "\n",
    "\n",
    "    with open(dir_name_rnn+dir_sep+'sim_data_AE_params.txt', 'w') as f:\n",
    "        f.write(str(sim_data))\n",
    "        \n",
    "    # saving RNN specific data\n",
    "    RNN_specific_data = {\n",
    "        'dt_rnn':dt_rnn,\n",
    "        'T_sample_input':T_sample_input,\n",
    "        'T_sample_output':T_sample_output,\n",
    "        'T_offset':T_offset,\n",
    "        'N':N,\n",
    "        'boundary_idx_arr':boundary_idx_arr,\n",
    "        'delta_t':delta_t,\n",
    "        'params':params,\n",
    "        'return_params_arr':return_params_arr,\n",
    "        'normalize_dataset':normalize_dataset,\n",
    "    }\n",
    "\n",
    "    with open(dir_name_rnn+dir_sep+'RNN_specific_data.txt', 'w') as f:\n",
    "        f.write(str(RNN_specific_data))"
   ]
  },
  {
   "cell_type": "code",
   "execution_count": null,
   "metadata": {
    "executionInfo": {
     "elapsed": 15,
     "status": "ok",
     "timestamp": 1665861412172,
     "user": {
      "displayName": "Rohan Kaushik",
      "userId": "13918477614376051685"
     },
     "user_tz": -120
    },
    "id": "S21-VEUYrkk-"
   },
   "outputs": [],
   "source": []
  },
  {
   "cell_type": "code",
   "execution_count": 23,
   "metadata": {
    "executionInfo": {
     "elapsed": 14,
     "status": "ok",
     "timestamp": 1665861412172,
     "user": {
      "displayName": "Rohan Kaushik",
      "userId": "13918477614376051685"
     },
     "user_tz": -120
    },
    "id": "UGnj8uQQ83-y"
   },
   "outputs": [],
   "source": [
    "# cutting off initial transient\n",
    "initial_t0 = np.array([400])\n",
    "initial_idx = np.zeros_like(initial_t0)\n",
    "\n",
    "begin_idx = 0\n",
    "len_relevant_idx = 0\n",
    "for i in range(len(initial_t0)):\n",
    "    init_idx = (initial_t0[i] + 0.25*delta_t)//delta_t\n",
    "    initial_idx[i] = init_idx + begin_idx\n",
    "    begin_idx = boundary_idx_arr[i]\n",
    "    len_relevant_idx += begin_idx - initial_idx[i]\n",
    "\n",
    "relevant_idx = np.empty(shape=len_relevant_idx, dtype=np.int32)\n",
    "start = 0\n",
    "for i in range(len(initial_t0)):\n",
    "    end = start + (boundary_idx_arr[i] - initial_idx[i])\n",
    "    relevant_idx[start:end] = np.arange(initial_idx[i], boundary_idx_arr[i])\n",
    "    start = end"
   ]
  },
  {
   "cell_type": "code",
   "execution_count": 24,
   "metadata": {
    "executionInfo": {
     "elapsed": 2447,
     "status": "ok",
     "timestamp": 1665861414606,
     "user": {
      "displayName": "Rohan Kaushik",
      "userId": "13918477614376051685"
     },
     "user_tz": -120
    },
    "id": "0t2_8mzI1fhX"
   },
   "outputs": [],
   "source": [
    "rnn_res_dict = create_data_for_RNN(\n",
    "    latent_states_all[relevant_idx],\n",
    "    dt_rnn,\n",
    "    T_sample_input,\n",
    "    T_sample_output,\n",
    "    T_offset,\n",
    "    N,\n",
    "    boundary_idx_arr-initial_idx,\n",
    "    delta_t,\n",
    "    params=params,\n",
    "    return_numsamples=True,\n",
    "    normalize_dataset=normalize_dataset)\n",
    "    \n",
    "data_rnn_input = rnn_res_dict['data_rnn_input']\n",
    "data_rnn_output = rnn_res_dict['data_rnn_output']\n",
    "org_data_idx_arr_input = rnn_res_dict['org_data_idx_arr_input']\n",
    "org_data_idx_arr_output = rnn_res_dict['org_data_idx_arr_output']\n",
    "num_samples = rnn_res_dict['num_samples']\n",
    "normalization_arr = rnn_res_dict['normalization_arr']"
   ]
  },
  {
   "cell_type": "code",
   "execution_count": null,
   "metadata": {
    "executionInfo": {
     "elapsed": 8,
     "status": "ok",
     "timestamp": 1665861414606,
     "user": {
      "displayName": "Rohan Kaushik",
      "userId": "13918477614376051685"
     },
     "user_tz": -120
    },
    "id": "pIsWCXkbr7ws"
   },
   "outputs": [],
   "source": []
  },
  {
   "cell_type": "code",
   "execution_count": null,
   "metadata": {
    "executionInfo": {
     "elapsed": 8,
     "status": "ok",
     "timestamp": 1665861414608,
     "user": {
      "displayName": "Rohan Kaushik",
      "userId": "13918477614376051685"
     },
     "user_tz": -120
    },
    "id": "Hem_9PUqneQi"
   },
   "outputs": [],
   "source": []
  },
  {
   "cell_type": "code",
   "execution_count": null,
   "metadata": {
    "executionInfo": {
     "elapsed": 8,
     "status": "ok",
     "timestamp": 1665861414609,
     "user": {
      "displayName": "Rohan Kaushik",
      "userId": "13918477614376051685"
     },
     "user_tz": -120
    },
    "id": "uskBAAXpneQi"
   },
   "outputs": [],
   "source": []
  },
  {
   "cell_type": "code",
   "execution_count": 25,
   "metadata": {
    "executionInfo": {
     "elapsed": 364,
     "status": "ok",
     "timestamp": 1665861414965,
     "user": {
      "displayName": "Rohan Kaushik",
      "userId": "13918477614376051685"
     },
     "user_tz": -120
    },
    "id": "-1uL-GomneQi"
   },
   "outputs": [],
   "source": [
    "# setting up training params\n",
    "if behaviour == 'initialiseAndTrainFromScratch':\n",
    "    learning_rate_dict = {\n",
    "        'eta_begin':0.0001,\n",
    "        'eta_high':0.001,\n",
    "        'eta_low':0.00001\n",
    "    }\n",
    "    epochs = 200\n",
    "    patience = 20  # parameter for early stopping\n",
    "    min_delta = 5e-6  # parameter for early stopping\n",
    "    lambda_reg = 1e-4  # weight for regularizer\n",
    "    train_split = 0.8\n",
    "    val_split = 0.1\n",
    "    test_split = 1 - train_split - val_split\n",
    "    batch_size = 64\n",
    "\n",
    "    # saving training params\n",
    "    training_specific_params = {\n",
    "        'learning_rate_dict':learning_rate_dict,\n",
    "        'epochs':epochs,\n",
    "        'patience':patience,\n",
    "        'min_delta':min_delta,\n",
    "        'prng_seed':prng_seed,\n",
    "        'train_split':train_split,\n",
    "        'val_split':val_split,\n",
    "        'batch_size':batch_size\n",
    "    }\n",
    "\n",
    "    with open(dir_name_rnn+dir_sep+'training_specific_params.txt', 'w') as f:\n",
    "        f.write(str(training_specific_params))\n",
    "else:\n",
    "    # dir_name_rnn_og = dir_name_rnn\n",
    "    # dir_name_rnn_temp = '/home/rkaushik/Documents/Thesis/MLROM/CDV/saved_rnn/rnn_'+dir_name_rnn_og[-3:]\n",
    "    # dir_name_rnn = dir_name_rnn_temp\n",
    "\n",
    "    with open(dir_name_rnn + dir_sep + 'training_specific_params.txt') as f:\n",
    "        lines = f.readlines()\n",
    "\n",
    "\n",
    "    tparams_dict = eval(''.join(lines))\n",
    "\n",
    "    learning_rate_dict = tparams_dict['learning_rate_dict']\n",
    "    epochs = tparams_dict['epochs']\n",
    "    patience = tparams_dict['patience']\n",
    "    min_delta = tparams_dict['min_delta']\n",
    "    prng_seed = tparams_dict['prng_seed']\n",
    "    train_split = tparams_dict['train_split']\n",
    "    val_split = tparams_dict['val_split']\n",
    "    batch_size = tparams_dict['batch_size']\n",
    "\n",
    "    test_split = 1 - train_split - val_split\n",
    "\n",
    "    # setting seed for PRNGs\n",
    "    np.random.seed(prng_seed)\n",
    "    tf.random.set_seed(prng_seed)"
   ]
  },
  {
   "cell_type": "code",
   "execution_count": 26,
   "metadata": {
    "executionInfo": {
     "elapsed": 5,
     "status": "ok",
     "timestamp": 1665861414966,
     "user": {
      "displayName": "Rohan Kaushik",
      "userId": "13918477614376051685"
     },
     "user_tz": -120
    },
    "id": "4hx9ZaSpEMmv"
   },
   "outputs": [],
   "source": [
    "# idx = np.arange(data_rnn_input.shape[0])\n",
    "# np.random.shuffle(idx)\n",
    "# boundary = int(np.round(train_split*data_rnn_input.shape[0]))\n",
    "\n",
    "# training_data_rnn_input = data_rnn_input[idx[0:boundary]]\n",
    "# training_data_rnn_output = data_rnn_output[idx[0:boundary]]\n",
    "\n",
    "# testing_data_rnn_input = data_rnn_input[idx[boundary:]]\n",
    "# testing_data_rnn_output = data_rnn_output[idx[boundary:]]"
   ]
  },
  {
   "cell_type": "code",
   "execution_count": 27,
   "metadata": {
    "executionInfo": {
     "elapsed": 2347,
     "status": "ok",
     "timestamp": 1665861417309,
     "user": {
      "displayName": "Rohan Kaushik",
      "userId": "13918477614376051685"
     },
     "user_tz": -120
    },
    "id": "EENXaWqcKW7j"
   },
   "outputs": [],
   "source": [
    "idx = np.arange(num_samples)\n",
    "# np.random.shuffle(idx)\n",
    "boundary = int(np.round(\n",
    "    (1-test_split) * num_samples\n",
    "))\n",
    "\n",
    "# defining shapes\n",
    "training_input_shape = [boundary*len(boundary_idx_arr)]\n",
    "training_input_shape.extend(data_rnn_input.shape[1:])\n",
    "\n",
    "training_output_shape = [boundary*len(boundary_idx_arr)]\n",
    "training_output_shape.extend(data_rnn_output.shape[1:])\n",
    "\n",
    "testing_input_shape = [(num_samples-boundary)*len(boundary_idx_arr)]\n",
    "testing_input_shape.extend(data_rnn_input.shape[1:])\n",
    "\n",
    "testing_output_shape = [(num_samples-boundary)*len(boundary_idx_arr)]\n",
    "testing_output_shape.extend(data_rnn_output.shape[1:])\n",
    "\n",
    "# defining required arrays\n",
    "training_data_rnn_input = np.empty(shape=training_input_shape)\n",
    "training_data_rnn_output = np.empty(shape=training_output_shape)\n",
    "\n",
    "testing_data_rnn_input = np.empty(shape=testing_input_shape)\n",
    "testing_data_rnn_output = np.empty(shape=testing_output_shape)\n",
    "\n",
    "for i in range(len(boundary_idx_arr)):\n",
    "    np.random.shuffle(idx)\n",
    "\n",
    "    training_data_rnn_input[i*boundary:(i+1)*boundary] = data_rnn_input[i*num_samples + idx[0:boundary]]\n",
    "    training_data_rnn_output[i*boundary:(i+1)*boundary] = data_rnn_output[i*num_samples + idx[0:boundary]]\n",
    "\n",
    "    testing_data_rnn_input[i*(num_samples-boundary):(i+1)*(num_samples-boundary)] = data_rnn_input[i*num_samples + idx[boundary:]]\n",
    "    testing_data_rnn_output[i*(num_samples-boundary):(i+1)*(num_samples-boundary)] = data_rnn_output[i*num_samples + idx[boundary:]]\n",
    "\n",
    "# further shuffling\n",
    "idx = np.arange(0, training_data_rnn_input.shape[0])\n",
    "np.random.shuffle(idx)\n",
    "training_data_rnn_input = training_data_rnn_input[idx]\n",
    "training_data_rnn_output = training_data_rnn_output[idx]\n",
    "\n",
    "idx = np.arange(0, testing_data_rnn_input.shape[0])\n",
    "np.random.shuffle(idx)\n",
    "testing_data_rnn_input = testing_data_rnn_input[idx]\n",
    "testing_data_rnn_output = testing_data_rnn_output[idx]"
   ]
  },
  {
   "cell_type": "code",
   "execution_count": null,
   "metadata": {
    "executionInfo": {
     "elapsed": 8,
     "status": "ok",
     "timestamp": 1665861417310,
     "user": {
      "displayName": "Rohan Kaushik",
      "userId": "13918477614376051685"
     },
     "user_tz": -120
    },
    "id": "8isZN1tYBifp"
   },
   "outputs": [],
   "source": []
  },
  {
   "cell_type": "code",
   "execution_count": null,
   "metadata": {
    "executionInfo": {
     "elapsed": 7,
     "status": "ok",
     "timestamp": 1665861417310,
     "user": {
      "displayName": "Rohan Kaushik",
      "userId": "13918477614376051685"
     },
     "user_tz": -120
    },
    "id": "x3KglJsgneQj"
   },
   "outputs": [],
   "source": []
  },
  {
   "cell_type": "code",
   "execution_count": null,
   "metadata": {
    "executionInfo": {
     "elapsed": 7,
     "status": "ok",
     "timestamp": 1665861417311,
     "user": {
      "displayName": "Rohan Kaushik",
      "userId": "13918477614376051685"
     },
     "user_tz": -120
    },
    "id": "ixetsZHjCMKO"
   },
   "outputs": [],
   "source": []
  },
  {
   "cell_type": "code",
   "execution_count": null,
   "metadata": {
    "executionInfo": {
     "elapsed": 7,
     "status": "ok",
     "timestamp": 1665861417311,
     "user": {
      "displayName": "Rohan Kaushik",
      "userId": "13918477614376051685"
     },
     "user_tz": -120
    },
    "id": "_NSTtZuyneQk"
   },
   "outputs": [],
   "source": []
  },
  {
   "cell_type": "code",
   "execution_count": 28,
   "metadata": {
    "colab": {
     "base_uri": "https://localhost:8080/"
    },
    "executionInfo": {
     "elapsed": 887,
     "status": "ok",
     "timestamp": 1665861601595,
     "user": {
      "displayName": "Rohan Kaushik",
      "userId": "13918477614376051685"
     },
     "user_tz": -120
    },
    "id": "Py-Jg0QKneQk",
    "outputId": "12272031-23b2-418c-9270-1d160bd8d002",
    "scrolled": false
   },
   "outputs": [
    {
     "name": "stderr",
     "output_type": "stream",
     "text": [
      "2022-10-17 13:04:19.686070: W tensorflow/core/grappler/optimizers/data/auto_shard.cc:776] AUTO sharding policy will apply DATA sharding policy as it failed to apply FILE sharding policy because of the following reason: Did not find a shardable source, walked to a node which is not a dataset: name: \"FlatMapDataset/_9\"\n",
      "op: \"FlatMapDataset\"\n",
      "input: \"PrefetchDataset/_8\"\n",
      "attr {\n",
      "  key: \"Targuments\"\n",
      "  value {\n",
      "    list {\n",
      "    }\n",
      "  }\n",
      "}\n",
      "attr {\n",
      "  key: \"_cardinality\"\n",
      "  value {\n",
      "    i: -2\n",
      "  }\n",
      "}\n",
      "attr {\n",
      "  key: \"f\"\n",
      "  value {\n",
      "    func {\n",
      "      name: \"__inference_Dataset_flat_map_slice_batch_indices_10238\"\n",
      "    }\n",
      "  }\n",
      "}\n",
      "attr {\n",
      "  key: \"metadata\"\n",
      "  value {\n",
      "    s: \"\\n\\021FlatMapDataset:18\"\n",
      "  }\n",
      "}\n",
      "attr {\n",
      "  key: \"output_shapes\"\n",
      "  value {\n",
      "    list {\n",
      "      shape {\n",
      "        dim {\n",
      "          size: -1\n",
      "        }\n",
      "      }\n",
      "    }\n",
      "  }\n",
      "}\n",
      "attr {\n",
      "  key: \"output_types\"\n",
      "  value {\n",
      "    list {\n",
      "      type: DT_INT64\n",
      "    }\n",
      "  }\n",
      "}\n",
      "experimental_type {\n",
      "  type_id: TFT_PRODUCT\n",
      "  args {\n",
      "    type_id: TFT_DATASET\n",
      "    args {\n",
      "      type_id: TFT_PRODUCT\n",
      "      args {\n",
      "        type_id: TFT_TENSOR\n",
      "        args {\n",
      "          type_id: TFT_INT64\n",
      "        }\n",
      "      }\n",
      "    }\n",
      "  }\n",
      "  args {\n",
      "    type_id: TFT_DATASET\n",
      "    args {\n",
      "      type_id: TFT_PRODUCT\n",
      "      args {\n",
      "        type_id: TFT_TENSOR\n",
      "        args {\n",
      "          type_id: TFT_INT64\n",
      "        }\n",
      "      }\n",
      "    }\n",
      "  }\n",
      "}\n",
      ". Consider either turning off auto-sharding or switching the auto_shard_policy to DATA to shard this dataset. You can do this by creating a new `tf.data.Options()` object then setting `options.experimental_distribute.auto_shard_policy = AutoShardPolicy.DATA` before applying the options object to the dataset via `dataset.with_options(options)`.\n"
     ]
    }
   ],
   "source": [
    "# Initialize network\n",
    "if behaviour == 'initialiseAndTrainFromScratch':\n",
    "    rnn_layers_units = [2**7]*1\n",
    "    if return_params_arr != False:\n",
    "        data_dim = num_latent_states + 6\n",
    "    else:\n",
    "        data_dim = num_latent_states\n",
    "\n",
    "    if strategy is not None:\n",
    "        with strtegy.scope():\n",
    "            rnn_net = RNN_GRU(\n",
    "                data_dim=data_dim,\n",
    "            #     in_steps=int(T_sample_input // dt_rnn),\n",
    "            #     out_steps=int(T_sample_output // dt_rnn),\n",
    "                dt_rnn=dt_rnn,\n",
    "                lambda_reg=lambda_reg,\n",
    "                reg_name='L2',\n",
    "                rnn_layers_units=rnn_layers_units,\n",
    "                dense_layer_act_func='linear',\n",
    "                load_file=None,\n",
    "                # T_input=T_sample_input,\n",
    "                # T_output=T_sample_output\n",
    "            )\n",
    "    else:\n",
    "        rnn_net = RNN_GRU(\n",
    "            data_dim=data_dim,\n",
    "        #     in_steps=int(T_sample_input // dt_rnn),\n",
    "        #     out_steps=int(T_sample_output // dt_rnn),\n",
    "            dt_rnn=dt_rnn,\n",
    "            lambda_reg=lambda_reg,\n",
    "            reg_name='L2',\n",
    "            rnn_layers_units=rnn_layers_units,\n",
    "            dense_layer_act_func='linear',\n",
    "            load_file=None,\n",
    "            # T_input=T_sample_input,\n",
    "            # T_output=T_sample_output\n",
    "        )\n",
    "    save_path = dir_name_rnn+dir_sep+'final_net'\n",
    "    if not os.path.isdir(save_path):\n",
    "        os.makedirs(save_path)\n",
    "    rnn_net.save_class_dict(save_path+dir_sep+'final_net_class_dict.txt')\n",
    "else:\n",
    "    load_file = dir_name_rnn + dir_sep + 'final_net' + dir_sep + 'final_net_class_dict.txt'\n",
    "    if strategy is not None:\n",
    "        with strategy.scope():\n",
    "            rnn_net = RNN_GRU(\n",
    "                load_file=load_file,\n",
    "                # T_input=T_sample_input,\n",
    "                # T_output=T_sample_output\n",
    "            )\n",
    "    else:\n",
    "        rnn_net = RNN_GRU(\n",
    "            load_file=load_file,\n",
    "            # T_input=T_sample_input,\n",
    "            # T_output=T_sample_output\n",
    "        )\n",
    "    \n",
    "    if behaviour == 'loadCheckpointAndContinueTraining':\n",
    "        wt_file = tf.train.latest_checkpoint(dir_name_rnn+dir_sep+'checkpoints')\n",
    "    elif behaviour == 'loadFinalNetAndPlot':\n",
    "        wt_file = dir_name_rnn+dir_sep+'final_net'+dir_sep+'final_net_gru_weights.h5'\n",
    "        # wt_file = dir_name_rnn+dir_sep+'final_net'+dir_sep+'f2'#+dir_sep+'saved_model.pb'\n",
    "        rnn_net.load_weights_from_file(wt_file)\n",
    "    \n",
    "    # this forces the model to initialize its kernel weights/biases\n",
    "    # temp = rnn_net.predict(tf.ones(shape=[batch_size, int(T_sample_input//dt_rnn), rnn_net.data_dim]))\n",
    "    # this loads just the kernel wieghts and biases of the model\n",
    "#     rnn_net.load_weights_from_file(wt_file)\n",
    "\n",
    "    # rnn_net = tf.keras.models.load_model(wt_file)"
   ]
  },
  {
   "cell_type": "code",
   "execution_count": 29,
   "metadata": {
    "executionInfo": {
     "elapsed": 224,
     "status": "ok",
     "timestamp": 1665861611435,
     "user": {
      "displayName": "Rohan Kaushik",
      "userId": "13918477614376051685"
     },
     "user_tz": -120
    },
    "id": "7ASCopnIH6nl"
   },
   "outputs": [],
   "source": [
    "if behaviour == 'initialiseAndTrainFromScratch':\n",
    "    val_loss_hist = []\n",
    "    train_loss_hist = []\n",
    "    lr_change=[0, 0]\n",
    "    savelosses_cb_vallossarr = np.ones(shape=epochs)*np.NaN\n",
    "    savelosses_cb_trainlossarr = np.ones(shape=epochs)*np.NaN\n",
    "    starting_lr_idx = 0\n",
    "    num_epochs_left = epochs\n",
    "    earlystopping_wait = 0\n",
    "elif behaviour == 'loadCheckpointAndContinueTraining':\n",
    "    val_loss_hist, train_loss_hist, lr_change, starting_lr_idx, num_epochs_left, val_loss_arr_fromckpt, train_loss_arr_fromckpt, earlystopping_wait = readAndReturnLossHistories(\n",
    "        dir_name_ae=dir_name_rnn,\n",
    "        dir_sep=dir_sep,\n",
    "        epochs=epochs,\n",
    "        learning_rate_list=[0],\n",
    "        return_earlystopping_wait=True)\n",
    "    savelosses_cb_vallossarr = val_loss_arr_fromckpt\n",
    "    savelosses_cb_trainlossarr = train_loss_arr_fromckpt\n",
    "elif behaviour == 'loadFinalNetAndPlot':\n",
    "    with open(dir_name_rnn+'{ds}final_net{ds}losses.txt'.format(ds=dir_sep), 'r') as f:\n",
    "        lines = f.readlines()\n",
    "    \n",
    "    losses_dict = eval(''.join(lines))\n",
    "\n",
    "    val_loss_hist = losses_dict['val_loss_hist']\n",
    "    train_loss_hist = losses_dict['train_loss_hist']\n",
    "    lr_change = losses_dict['lr_change']\n",
    "    test_loss = losses_dict['test_loss']"
   ]
  },
  {
   "cell_type": "code",
   "execution_count": 30,
   "metadata": {
    "colab": {
     "base_uri": "https://localhost:8080/"
    },
    "executionInfo": {
     "elapsed": 5473052,
     "status": "ok",
     "timestamp": 1665867084820,
     "user": {
      "displayName": "Rohan Kaushik",
      "userId": "13918477614376051685"
     },
     "user_tz": -120
    },
    "id": "6hh1pbKjCcO4",
    "outputId": "1815a5cb-4faf-4cbd-aa9e-eef251b1678d",
    "scrolled": true
   },
   "outputs": [
    {
     "name": "stdout",
     "output_type": "stream",
     "text": [
      "INFO:tensorflow:Reduce to /job:localhost/replica:0/task:0/device:CPU:0 then broadcast to ('/job:localhost/replica:0/task:0/device:CPU:0',).\n",
      "INFO:tensorflow:Reduce to /job:localhost/replica:0/task:0/device:CPU:0 then broadcast to ('/job:localhost/replica:0/task:0/device:CPU:0',).\n",
      "INFO:tensorflow:Reduce to /job:localhost/replica:0/task:0/device:CPU:0 then broadcast to ('/job:localhost/replica:0/task:0/device:CPU:0',).\n",
      "INFO:tensorflow:Reduce to /job:localhost/replica:0/task:0/device:CPU:0 then broadcast to ('/job:localhost/replica:0/task:0/device:CPU:0',).\n",
      "WARNING:tensorflow:`period` argument is deprecated. Please use `save_freq` to specify the frequency in number of batches seen.\n",
      "Epoch 1/154\n"
     ]
    },
    {
     "name": "stderr",
     "output_type": "stream",
     "text": [
      "2022-10-17 13:04:25.956456: W tensorflow/core/grappler/optimizers/data/auto_shard.cc:776] AUTO sharding policy will apply DATA sharding policy as it failed to apply FILE sharding policy because of the following reason: Did not find a shardable source, walked to a node which is not a dataset: name: \"FlatMapDataset/_9\"\n",
      "op: \"FlatMapDataset\"\n",
      "input: \"PrefetchDataset/_8\"\n",
      "attr {\n",
      "  key: \"Targuments\"\n",
      "  value {\n",
      "    list {\n",
      "    }\n",
      "  }\n",
      "}\n",
      "attr {\n",
      "  key: \"_cardinality\"\n",
      "  value {\n",
      "    i: -2\n",
      "  }\n",
      "}\n",
      "attr {\n",
      "  key: \"f\"\n",
      "  value {\n",
      "    func {\n",
      "      name: \"__inference_Dataset_flat_map_slice_batch_indices_10827\"\n",
      "    }\n",
      "  }\n",
      "}\n",
      "attr {\n",
      "  key: \"metadata\"\n",
      "  value {\n",
      "    s: \"\\n\\021FlatMapDataset:45\"\n",
      "  }\n",
      "}\n",
      "attr {\n",
      "  key: \"output_shapes\"\n",
      "  value {\n",
      "    list {\n",
      "      shape {\n",
      "        dim {\n",
      "          size: -1\n",
      "        }\n",
      "      }\n",
      "    }\n",
      "  }\n",
      "}\n",
      "attr {\n",
      "  key: \"output_types\"\n",
      "  value {\n",
      "    list {\n",
      "      type: DT_INT64\n",
      "    }\n",
      "  }\n",
      "}\n",
      "experimental_type {\n",
      "  type_id: TFT_PRODUCT\n",
      "  args {\n",
      "    type_id: TFT_DATASET\n",
      "    args {\n",
      "      type_id: TFT_PRODUCT\n",
      "      args {\n",
      "        type_id: TFT_TENSOR\n",
      "        args {\n",
      "          type_id: TFT_INT64\n",
      "        }\n",
      "      }\n",
      "    }\n",
      "  }\n",
      "  args {\n",
      "    type_id: TFT_DATASET\n",
      "    args {\n",
      "      type_id: TFT_PRODUCT\n",
      "      args {\n",
      "        type_id: TFT_TENSOR\n",
      "        args {\n",
      "          type_id: TFT_INT64\n",
      "        }\n",
      "      }\n",
      "    }\n",
      "  }\n",
      "}\n",
      ". Consider either turning off auto-sharding or switching the auto_shard_policy to DATA to shard this dataset. You can do this by creating a new `tf.data.Options()` object then setting `options.experimental_distribute.auto_shard_policy = AutoShardPolicy.DATA` before applying the options object to the dataset via `dataset.with_options(options)`.\n"
     ]
    },
    {
     "name": "stdout",
     "output_type": "stream",
     "text": [
      "INFO:tensorflow:batch_all_reduce: 6 all-reduces with algorithm = nccl, num_packs = 1\n",
      "INFO:tensorflow:Reduce to /job:localhost/replica:0/task:0/device:CPU:0 then broadcast to ('/job:localhost/replica:0/task:0/device:CPU:0',).\n",
      "INFO:tensorflow:Reduce to /job:localhost/replica:0/task:0/device:CPU:0 then broadcast to ('/job:localhost/replica:0/task:0/device:CPU:0',).\n",
      "INFO:tensorflow:Reduce to /job:localhost/replica:0/task:0/device:CPU:0 then broadcast to ('/job:localhost/replica:0/task:0/device:CPU:0',).\n",
      "INFO:tensorflow:batch_all_reduce: 6 all-reduces with algorithm = nccl, num_packs = 1\n",
      "INFO:tensorflow:Reduce to /job:localhost/replica:0/task:0/device:CPU:0 then broadcast to ('/job:localhost/replica:0/task:0/device:CPU:0',).\n",
      "INFO:tensorflow:Reduce to /job:localhost/replica:0/task:0/device:CPU:0 then broadcast to ('/job:localhost/replica:0/task:0/device:CPU:0',).\n",
      "282/282 [==============================] - ETA: 0s - loss: 3.7608e-04INFO:tensorflow:Reduce to /job:localhost/replica:0/task:0/device:CPU:0 then broadcast to ('/job:localhost/replica:0/task:0/device:CPU:0',).\n"
     ]
    },
    {
     "name": "stderr",
     "output_type": "stream",
     "text": [
      "2022-10-17 13:25:01.135761: W tensorflow/core/grappler/optimizers/data/auto_shard.cc:776] AUTO sharding policy will apply DATA sharding policy as it failed to apply FILE sharding policy because of the following reason: Did not find a shardable source, walked to a node which is not a dataset: name: \"FlatMapDataset/_9\"\n",
      "op: \"FlatMapDataset\"\n",
      "input: \"PrefetchDataset/_8\"\n",
      "attr {\n",
      "  key: \"Targuments\"\n",
      "  value {\n",
      "    list {\n",
      "    }\n",
      "  }\n",
      "}\n",
      "attr {\n",
      "  key: \"_cardinality\"\n",
      "  value {\n",
      "    i: -2\n",
      "  }\n",
      "}\n",
      "attr {\n",
      "  key: \"f\"\n",
      "  value {\n",
      "    func {\n",
      "      name: \"__inference_Dataset_flat_map_slice_batch_indices_667923\"\n",
      "    }\n",
      "  }\n",
      "}\n",
      "attr {\n",
      "  key: \"metadata\"\n",
      "  value {\n",
      "    s: \"\\n\\021FlatMapDataset:75\"\n",
      "  }\n",
      "}\n",
      "attr {\n",
      "  key: \"output_shapes\"\n",
      "  value {\n",
      "    list {\n",
      "      shape {\n",
      "        dim {\n",
      "          size: -1\n",
      "        }\n",
      "      }\n",
      "    }\n",
      "  }\n",
      "}\n",
      "attr {\n",
      "  key: \"output_types\"\n",
      "  value {\n",
      "    list {\n",
      "      type: DT_INT64\n",
      "    }\n",
      "  }\n",
      "}\n",
      "experimental_type {\n",
      "  type_id: TFT_PRODUCT\n",
      "  args {\n",
      "    type_id: TFT_DATASET\n",
      "    args {\n",
      "      type_id: TFT_PRODUCT\n",
      "      args {\n",
      "        type_id: TFT_TENSOR\n",
      "        args {\n",
      "          type_id: TFT_INT64\n",
      "        }\n",
      "      }\n",
      "    }\n",
      "  }\n",
      "  args {\n",
      "    type_id: TFT_DATASET\n",
      "    args {\n",
      "      type_id: TFT_PRODUCT\n",
      "      args {\n",
      "        type_id: TFT_TENSOR\n",
      "        args {\n",
      "          type_id: TFT_INT64\n",
      "        }\n",
      "      }\n",
      "    }\n",
      "  }\n",
      "}\n",
      ". Consider either turning off auto-sharding or switching the auto_shard_policy to DATA to shard this dataset. You can do this by creating a new `tf.data.Options()` object then setting `options.experimental_distribute.auto_shard_policy = AutoShardPolicy.DATA` before applying the options object to the dataset via `dataset.with_options(options)`.\n"
     ]
    },
    {
     "name": "stdout",
     "output_type": "stream",
     "text": [
      " - tot_time: 0h 23m 9.0s\n",
      "\n",
      "Epoch 1: val_loss improved from 0.00037 to 0.00036, saving model to /home/rkaushik/Documents/Thesis/MLROM/CDV/saved_rnn/rnn_006/checkpoints/checkpoint\n",
      " - saving loss histories at /home/rkaushik/Documents/Thesis/MLROM/CDV/saved_rnn/rnn_006/checkpoints/LossHistoriesCheckpoint\n",
      "282/282 [==============================] - 1386s 1s/step - loss: 3.7608e-04 - val_loss: 3.6222e-04\n",
      "Epoch 2/154\n",
      "282/282 [==============================] - ETA: 0s - loss: 3.6223e-04 - tot_time: 0h 26m 17.0s\n",
      "\n",
      "Epoch 2: val_loss improved from 0.00036 to 0.00036, saving model to /home/rkaushik/Documents/Thesis/MLROM/CDV/saved_rnn/rnn_006/checkpoints/checkpoint\n",
      " - saving loss histories at /home/rkaushik/Documents/Thesis/MLROM/CDV/saved_rnn/rnn_006/checkpoints/LossHistoriesCheckpoint\n",
      "282/282 [==============================] - 188s 666ms/step - loss: 3.6223e-04 - val_loss: 3.6132e-04\n",
      "Epoch 3/154\n",
      "282/282 [==============================] - ETA: 0s - loss: 3.6184e-04 - tot_time: 0h 29m 23.3s\n",
      "\n",
      "Epoch 3: val_loss improved from 0.00036 to 0.00036, saving model to /home/rkaushik/Documents/Thesis/MLROM/CDV/saved_rnn/rnn_006/checkpoints/checkpoint\n",
      " - saving loss histories at /home/rkaushik/Documents/Thesis/MLROM/CDV/saved_rnn/rnn_006/checkpoints/LossHistoriesCheckpoint\n",
      "282/282 [==============================] - 186s 661ms/step - loss: 3.6184e-04 - val_loss: 3.6094e-04\n",
      "Epoch 4/154\n",
      "282/282 [==============================] - ETA: 0s - loss: 3.6144e-04 - tot_time: 0h 32m 31.1s\n",
      "\n",
      "Epoch 4: val_loss improved from 0.00036 to 0.00036, saving model to /home/rkaushik/Documents/Thesis/MLROM/CDV/saved_rnn/rnn_006/checkpoints/checkpoint\n",
      " - saving loss histories at /home/rkaushik/Documents/Thesis/MLROM/CDV/saved_rnn/rnn_006/checkpoints/LossHistoriesCheckpoint\n",
      "282/282 [==============================] - 188s 666ms/step - loss: 3.6144e-04 - val_loss: 3.6054e-04\n",
      "Epoch 5/154\n",
      "282/282 [==============================] - ETA: 0s - loss: 3.6101e-04 - tot_time: 0h 35m 40.8s\n",
      "\n",
      "Epoch 5: val_loss improved from 0.00036 to 0.00036, saving model to /home/rkaushik/Documents/Thesis/MLROM/CDV/saved_rnn/rnn_006/checkpoints/checkpoint\n",
      " - saving loss histories at /home/rkaushik/Documents/Thesis/MLROM/CDV/saved_rnn/rnn_006/checkpoints/LossHistoriesCheckpoint\n",
      "282/282 [==============================] - 190s 673ms/step - loss: 3.6101e-04 - val_loss: 3.6011e-04\n",
      "Epoch 6/154\n",
      "282/282 [==============================] - ETA: 0s - loss: 3.6055e-04 - tot_time: 0h 38m 49.6s\n",
      "\n",
      "Epoch 6: val_loss improved from 0.00036 to 0.00036, saving model to /home/rkaushik/Documents/Thesis/MLROM/CDV/saved_rnn/rnn_006/checkpoints/checkpoint\n",
      " - saving loss histories at /home/rkaushik/Documents/Thesis/MLROM/CDV/saved_rnn/rnn_006/checkpoints/LossHistoriesCheckpoint\n",
      "282/282 [==============================] - 189s 670ms/step - loss: 3.6055e-04 - val_loss: 3.5963e-04\n",
      "Epoch 7/154\n",
      "282/282 [==============================] - ETA: 0s - loss: 3.6002e-04 - tot_time: 0h 41m 59.6s\n",
      "\n",
      "Epoch 7: val_loss improved from 0.00036 to 0.00036, saving model to /home/rkaushik/Documents/Thesis/MLROM/CDV/saved_rnn/rnn_006/checkpoints/checkpoint\n",
      " - saving loss histories at /home/rkaushik/Documents/Thesis/MLROM/CDV/saved_rnn/rnn_006/checkpoints/LossHistoriesCheckpoint\n",
      "282/282 [==============================] - 190s 674ms/step - loss: 3.6002e-04 - val_loss: 3.5907e-04\n",
      "Epoch 8/154\n",
      "282/282 [==============================] - ETA: 0s - loss: 3.5939e-04 - tot_time: 0h 45m 13.2s\n",
      "\n",
      "Epoch 8: val_loss improved from 0.00036 to 0.00036, saving model to /home/rkaushik/Documents/Thesis/MLROM/CDV/saved_rnn/rnn_006/checkpoints/checkpoint\n",
      " - saving loss histories at /home/rkaushik/Documents/Thesis/MLROM/CDV/saved_rnn/rnn_006/checkpoints/LossHistoriesCheckpoint\n",
      "282/282 [==============================] - 194s 687ms/step - loss: 3.5939e-04 - val_loss: 3.5838e-04\n",
      "Epoch 9/154\n",
      "282/282 [==============================] - ETA: 0s - loss: 3.5859e-04 - tot_time: 0h 48m 27.2s\n",
      "\n",
      "Epoch 9: val_loss improved from 0.00036 to 0.00036, saving model to /home/rkaushik/Documents/Thesis/MLROM/CDV/saved_rnn/rnn_006/checkpoints/checkpoint\n",
      " - saving loss histories at /home/rkaushik/Documents/Thesis/MLROM/CDV/saved_rnn/rnn_006/checkpoints/LossHistoriesCheckpoint\n",
      "282/282 [==============================] - 194s 688ms/step - loss: 3.5859e-04 - val_loss: 3.5746e-04\n",
      "Epoch 10/154\n",
      "282/282 [==============================] - ETA: 0s - loss: 3.5853e-04 - tot_time: 0h 51m 40.7s\n",
      "\n",
      "Epoch 10: val_loss improved from 0.00036 to 0.00036, saving model to /home/rkaushik/Documents/Thesis/MLROM/CDV/saved_rnn/rnn_006/checkpoints/checkpoint\n",
      " - saving loss histories at /home/rkaushik/Documents/Thesis/MLROM/CDV/saved_rnn/rnn_006/checkpoints/LossHistoriesCheckpoint\n",
      "282/282 [==============================] - 193s 686ms/step - loss: 3.5853e-04 - val_loss: 3.5704e-04\n",
      "Epoch 11/154\n",
      "282/282 [==============================] - ETA: 0s - loss: 3.9466e-04 - tot_time: 0h 54m 51.8s\n",
      "\n",
      "Epoch 11: val_loss improved from 0.00036 to 0.00036, saving model to /home/rkaushik/Documents/Thesis/MLROM/CDV/saved_rnn/rnn_006/checkpoints/checkpoint\n",
      " - saving loss histories at /home/rkaushik/Documents/Thesis/MLROM/CDV/saved_rnn/rnn_006/checkpoints/LossHistoriesCheckpoint\n",
      "282/282 [==============================] - 191s 678ms/step - loss: 3.9466e-04 - val_loss: 3.5687e-04\n",
      "Epoch 12/154\n",
      "282/282 [==============================] - ETA: 0s - loss: 3.6049e-04 - tot_time: 0h 57m 59.0s\n",
      "\n",
      "Epoch 12: val_loss improved from 0.00036 to 0.00036, saving model to /home/rkaushik/Documents/Thesis/MLROM/CDV/saved_rnn/rnn_006/checkpoints/checkpoint\n",
      " - saving loss histories at /home/rkaushik/Documents/Thesis/MLROM/CDV/saved_rnn/rnn_006/checkpoints/LossHistoriesCheckpoint\n",
      "282/282 [==============================] - 187s 664ms/step - loss: 3.6049e-04 - val_loss: 3.5528e-04\n",
      "Epoch 13/154\n",
      "282/282 [==============================] - ETA: 0s - loss: 3.7573e-04 - tot_time: 1h 1m 5.7s\n",
      "\n",
      "Epoch 13: val_loss improved from 0.00036 to 0.00035, saving model to /home/rkaushik/Documents/Thesis/MLROM/CDV/saved_rnn/rnn_006/checkpoints/checkpoint\n",
      " - saving loss histories at /home/rkaushik/Documents/Thesis/MLROM/CDV/saved_rnn/rnn_006/checkpoints/LossHistoriesCheckpoint\n",
      "282/282 [==============================] - 187s 662ms/step - loss: 3.7573e-04 - val_loss: 3.5480e-04\n",
      "Epoch 14/154\n",
      "282/282 [==============================] - ETA: 0s - loss: 3.6752e-04 - tot_time: 1h 4m 13.7s\n",
      "\n",
      "Epoch 14: val_loss did not improve from 0.00035\n",
      " - saving loss histories at /home/rkaushik/Documents/Thesis/MLROM/CDV/saved_rnn/rnn_006/checkpoints/LossHistoriesCheckpoint\n",
      "282/282 [==============================] - 188s 667ms/step - loss: 3.6752e-04 - val_loss: 3.6643e-04\n",
      "Epoch 15/154\n",
      "282/282 [==============================] - ETA: 0s - loss: 3.7493e-04 - tot_time: 1h 7m 21.6s\n",
      "\n",
      "Epoch 15: val_loss improved from 0.00035 to 0.00035, saving model to /home/rkaushik/Documents/Thesis/MLROM/CDV/saved_rnn/rnn_006/checkpoints/checkpoint\n",
      " - saving loss histories at /home/rkaushik/Documents/Thesis/MLROM/CDV/saved_rnn/rnn_006/checkpoints/LossHistoriesCheckpoint\n",
      "282/282 [==============================] - 188s 666ms/step - loss: 3.7493e-04 - val_loss: 3.5310e-04\n",
      "Epoch 16/154\n",
      "282/282 [==============================] - ETA: 0s - loss: 3.5800e-04 - tot_time: 1h 10m 28.9s\n",
      "\n",
      "Epoch 16: val_loss did not improve from 0.00035\n",
      " - saving loss histories at /home/rkaushik/Documents/Thesis/MLROM/CDV/saved_rnn/rnn_006/checkpoints/LossHistoriesCheckpoint\n",
      "282/282 [==============================] - 187s 664ms/step - loss: 3.5800e-04 - val_loss: 3.6150e-04\n",
      "Epoch 17/154\n",
      "282/282 [==============================] - ETA: 0s - loss: 3.6311e-04 - tot_time: 1h 13m 36.4s\n",
      "\n",
      "Epoch 17: val_loss did not improve from 0.00035\n",
      " - saving loss histories at /home/rkaushik/Documents/Thesis/MLROM/CDV/saved_rnn/rnn_006/checkpoints/LossHistoriesCheckpoint\n",
      "282/282 [==============================] - 187s 665ms/step - loss: 3.6311e-04 - val_loss: 3.9205e-04\n",
      "Epoch 18/154\n",
      "282/282 [==============================] - ETA: 0s - loss: 3.6724e-04 - tot_time: 1h 16m 43.9s\n",
      "\n",
      "Epoch 18: val_loss improved from 0.00035 to 0.00035, saving model to /home/rkaushik/Documents/Thesis/MLROM/CDV/saved_rnn/rnn_006/checkpoints/checkpoint\n",
      " - saving loss histories at /home/rkaushik/Documents/Thesis/MLROM/CDV/saved_rnn/rnn_006/checkpoints/LossHistoriesCheckpoint\n",
      "282/282 [==============================] - 187s 665ms/step - loss: 3.6724e-04 - val_loss: 3.5007e-04\n"
     ]
    },
    {
     "name": "stdout",
     "output_type": "stream",
     "text": [
      "Epoch 19/154\n",
      "282/282 [==============================] - ETA: 0s - loss: 3.5717e-04 - tot_time: 1h 19m 53.8s\n",
      "\n",
      "Epoch 19: val_loss did not improve from 0.00035\n",
      " - saving loss histories at /home/rkaushik/Documents/Thesis/MLROM/CDV/saved_rnn/rnn_006/checkpoints/LossHistoriesCheckpoint\n",
      "282/282 [==============================] - 190s 673ms/step - loss: 3.5717e-04 - val_loss: 3.5279e-04\n",
      "Epoch 20/154\n",
      "282/282 [==============================] - ETA: 0s - loss: 3.6285e-04 - tot_time: 1h 23m 2.4s\n",
      "\n",
      "Epoch 20: val_loss improved from 0.00035 to 0.00035, saving model to /home/rkaushik/Documents/Thesis/MLROM/CDV/saved_rnn/rnn_006/checkpoints/checkpoint\n",
      " - saving loss histories at /home/rkaushik/Documents/Thesis/MLROM/CDV/saved_rnn/rnn_006/checkpoints/LossHistoriesCheckpoint\n",
      "282/282 [==============================] - 189s 669ms/step - loss: 3.6285e-04 - val_loss: 3.4886e-04\n",
      "Epoch 21/154\n",
      "282/282 [==============================] - ETA: 0s - loss: 3.5362e-04 - tot_time: 1h 26m 10.2s\n",
      "\n",
      "Epoch 21: val_loss improved from 0.00035 to 0.00035, saving model to /home/rkaushik/Documents/Thesis/MLROM/CDV/saved_rnn/rnn_006/checkpoints/checkpoint\n",
      " - saving loss histories at /home/rkaushik/Documents/Thesis/MLROM/CDV/saved_rnn/rnn_006/checkpoints/LossHistoriesCheckpoint\n",
      "282/282 [==============================] - 188s 666ms/step - loss: 3.5362e-04 - val_loss: 3.4694e-04\n",
      "Epoch 22/154\n",
      "282/282 [==============================] - ETA: 0s - loss: 3.5415e-04 - tot_time: 1h 29m 26.3s\n",
      "\n",
      "Epoch 22: val_loss did not improve from 0.00035\n",
      " - saving loss histories at /home/rkaushik/Documents/Thesis/MLROM/CDV/saved_rnn/rnn_006/checkpoints/LossHistoriesCheckpoint\n",
      "282/282 [==============================] - 196s 695ms/step - loss: 3.5415e-04 - val_loss: 3.5897e-04\n",
      "Epoch 23/154\n",
      "282/282 [==============================] - ETA: 0s - loss: 3.5387e-04 - tot_time: 1h 32m 41.4s\n",
      "\n",
      "Epoch 23: val_loss did not improve from 0.00035\n",
      " - saving loss histories at /home/rkaushik/Documents/Thesis/MLROM/CDV/saved_rnn/rnn_006/checkpoints/LossHistoriesCheckpoint\n",
      "282/282 [==============================] - 195s 692ms/step - loss: 3.5387e-04 - val_loss: 3.6119e-04\n",
      "Epoch 24/154\n",
      "282/282 [==============================] - ETA: 0s - loss: 3.9720e-04 - tot_time: 1h 35m 57.9s\n",
      "\n",
      "Epoch 24: val_loss improved from 0.00035 to 0.00035, saving model to /home/rkaushik/Documents/Thesis/MLROM/CDV/saved_rnn/rnn_006/checkpoints/checkpoint\n",
      " - saving loss histories at /home/rkaushik/Documents/Thesis/MLROM/CDV/saved_rnn/rnn_006/checkpoints/LossHistoriesCheckpoint\n",
      "282/282 [==============================] - 197s 697ms/step - loss: 3.9720e-04 - val_loss: 3.4665e-04\n",
      "Epoch 25/154\n",
      "282/282 [==============================] - ETA: 0s - loss: 3.5296e-04 - tot_time: 1h 39m 11.7s\n",
      "\n",
      "Epoch 25: val_loss improved from 0.00035 to 0.00034, saving model to /home/rkaushik/Documents/Thesis/MLROM/CDV/saved_rnn/rnn_006/checkpoints/checkpoint\n",
      " - saving loss histories at /home/rkaushik/Documents/Thesis/MLROM/CDV/saved_rnn/rnn_006/checkpoints/LossHistoriesCheckpoint\n",
      "282/282 [==============================] - 194s 687ms/step - loss: 3.5296e-04 - val_loss: 3.4377e-04\n",
      "Epoch 26/154\n",
      "282/282 [==============================] - ETA: 0s - loss: 3.4896e-04 - tot_time: 1h 42m 21.9s\n",
      "\n",
      "Epoch 26: val_loss improved from 0.00034 to 0.00034, saving model to /home/rkaushik/Documents/Thesis/MLROM/CDV/saved_rnn/rnn_006/checkpoints/checkpoint\n",
      " - saving loss histories at /home/rkaushik/Documents/Thesis/MLROM/CDV/saved_rnn/rnn_006/checkpoints/LossHistoriesCheckpoint\n",
      "282/282 [==============================] - 190s 675ms/step - loss: 3.4896e-04 - val_loss: 3.4249e-04\n",
      "Epoch 27/154\n",
      "282/282 [==============================] - ETA: 0s - loss: 3.5074e-04 - tot_time: 1h 45m 29.1s\n",
      "\n",
      "Epoch 27: val_loss did not improve from 0.00034\n",
      " - saving loss histories at /home/rkaushik/Documents/Thesis/MLROM/CDV/saved_rnn/rnn_006/checkpoints/LossHistoriesCheckpoint\n",
      "282/282 [==============================] - 187s 663ms/step - loss: 3.5074e-04 - val_loss: 3.7119e-04\n",
      "Epoch 28/154\n",
      "282/282 [==============================] - ETA: 0s - loss: 3.4817e-04 - tot_time: 1h 48m 37.4s\n",
      "\n",
      "Epoch 28: val_loss improved from 0.00034 to 0.00034, saving model to /home/rkaushik/Documents/Thesis/MLROM/CDV/saved_rnn/rnn_006/checkpoints/checkpoint\n",
      " - saving loss histories at /home/rkaushik/Documents/Thesis/MLROM/CDV/saved_rnn/rnn_006/checkpoints/LossHistoriesCheckpoint\n",
      "282/282 [==============================] - 188s 668ms/step - loss: 3.4817e-04 - val_loss: 3.4009e-04\n",
      "Epoch 29/154\n",
      "282/282 [==============================] - ETA: 0s - loss: 3.4970e-04 - tot_time: 1h 51m 45.3s\n",
      "\n",
      "Epoch 29: val_loss improved from 0.00034 to 0.00034, saving model to /home/rkaushik/Documents/Thesis/MLROM/CDV/saved_rnn/rnn_006/checkpoints/checkpoint\n",
      " - saving loss histories at /home/rkaushik/Documents/Thesis/MLROM/CDV/saved_rnn/rnn_006/checkpoints/LossHistoriesCheckpoint\n",
      "282/282 [==============================] - 188s 666ms/step - loss: 3.4970e-04 - val_loss: 3.3848e-04\n",
      "Epoch 30/154\n",
      "282/282 [==============================] - ETA: 0s - loss: 3.4561e-04 - tot_time: 1h 54m 54.6s\n",
      "\n",
      "Epoch 30: val_loss did not improve from 0.00034\n",
      " - saving loss histories at /home/rkaushik/Documents/Thesis/MLROM/CDV/saved_rnn/rnn_006/checkpoints/LossHistoriesCheckpoint\n",
      "282/282 [==============================] - 189s 671ms/step - loss: 3.4561e-04 - val_loss: 3.6776e-04\n",
      "Epoch 31/154\n",
      "282/282 [==============================] - ETA: 0s - loss: 3.4753e-04 - tot_time: 1h 58m 4.3s\n",
      "\n",
      "Epoch 31: val_loss improved from 0.00034 to 0.00034, saving model to /home/rkaushik/Documents/Thesis/MLROM/CDV/saved_rnn/rnn_006/checkpoints/checkpoint\n",
      " - saving loss histories at /home/rkaushik/Documents/Thesis/MLROM/CDV/saved_rnn/rnn_006/checkpoints/LossHistoriesCheckpoint\n",
      "282/282 [==============================] - 190s 673ms/step - loss: 3.4753e-04 - val_loss: 3.3790e-04\n",
      "Epoch 32/154\n",
      "282/282 [==============================] - ETA: 0s - loss: 3.4476e-04 - tot_time: 2h 1m 14.9s\n",
      "\n",
      "Epoch 32: val_loss did not improve from 0.00034\n",
      " - saving loss histories at /home/rkaushik/Documents/Thesis/MLROM/CDV/saved_rnn/rnn_006/checkpoints/LossHistoriesCheckpoint\n",
      "282/282 [==============================] - 191s 676ms/step - loss: 3.4476e-04 - val_loss: 3.5084e-04\n",
      "Epoch 33/154\n",
      "282/282 [==============================] - ETA: 0s - loss: 3.4534e-04 - tot_time: 2h 4m 24.3s\n",
      "\n",
      "Epoch 33: val_loss did not improve from 0.00034\n",
      " - saving loss histories at /home/rkaushik/Documents/Thesis/MLROM/CDV/saved_rnn/rnn_006/checkpoints/LossHistoriesCheckpoint\n",
      "282/282 [==============================] - 189s 672ms/step - loss: 3.4534e-04 - val_loss: 3.3895e-04\n",
      "Epoch 34/154\n",
      "282/282 [==============================] - ETA: 0s - loss: 3.4347e-04 - tot_time: 2h 7m 34.0s\n",
      "\n",
      "Epoch 34: val_loss improved from 0.00034 to 0.00034, saving model to /home/rkaushik/Documents/Thesis/MLROM/CDV/saved_rnn/rnn_006/checkpoints/checkpoint\n",
      " - saving loss histories at /home/rkaushik/Documents/Thesis/MLROM/CDV/saved_rnn/rnn_006/checkpoints/LossHistoriesCheckpoint\n",
      "282/282 [==============================] - 190s 673ms/step - loss: 3.4347e-04 - val_loss: 3.3587e-04\n",
      "Epoch 35/154\n",
      "282/282 [==============================] - ETA: 0s - loss: 3.4341e-04 - tot_time: 2h 10m 42.5s\n",
      "\n",
      "Epoch 35: val_loss did not improve from 0.00034\n",
      " - saving loss histories at /home/rkaushik/Documents/Thesis/MLROM/CDV/saved_rnn/rnn_006/checkpoints/LossHistoriesCheckpoint\n",
      "282/282 [==============================] - 188s 668ms/step - loss: 3.4341e-04 - val_loss: 3.4094e-04\n",
      "Epoch 36/154\n",
      "282/282 [==============================] - ETA: 0s - loss: 3.4144e-04 - tot_time: 2h 13m 51.1s\n",
      "\n",
      "Epoch 36: val_loss did not improve from 0.00034\n",
      " - saving loss histories at /home/rkaushik/Documents/Thesis/MLROM/CDV/saved_rnn/rnn_006/checkpoints/LossHistoriesCheckpoint\n",
      "282/282 [==============================] - 189s 669ms/step - loss: 3.4144e-04 - val_loss: 3.3854e-04\n",
      "Epoch 37/154\n",
      "282/282 [==============================] - ETA: 0s - loss: 3.3908e-04 - tot_time: 2h 17m 0.5s\n",
      "\n",
      "Epoch 37: val_loss did not improve from 0.00034\n",
      " - saving loss histories at /home/rkaushik/Documents/Thesis/MLROM/CDV/saved_rnn/rnn_006/checkpoints/LossHistoriesCheckpoint\n",
      "282/282 [==============================] - 189s 672ms/step - loss: 3.3908e-04 - val_loss: 3.4189e-04\n",
      "Epoch 38/154\n"
     ]
    },
    {
     "name": "stdout",
     "output_type": "stream",
     "text": [
      "282/282 [==============================] - ETA: 0s - loss: 3.3885e-04 - tot_time: 2h 20m 10.5s\n",
      "\n",
      "Epoch 38: val_loss did not improve from 0.00034\n",
      " - saving loss histories at /home/rkaushik/Documents/Thesis/MLROM/CDV/saved_rnn/rnn_006/checkpoints/LossHistoriesCheckpoint\n",
      "282/282 [==============================] - 190s 674ms/step - loss: 3.3885e-04 - val_loss: 3.5412e-04\n",
      "Epoch 39/154\n",
      "282/282 [==============================] - ETA: 0s - loss: 3.3767e-04 - tot_time: 2h 23m 23.0s\n",
      "\n",
      "Epoch 39: val_loss improved from 0.00034 to 0.00033, saving model to /home/rkaushik/Documents/Thesis/MLROM/CDV/saved_rnn/rnn_006/checkpoints/checkpoint\n",
      " - saving loss histories at /home/rkaushik/Documents/Thesis/MLROM/CDV/saved_rnn/rnn_006/checkpoints/LossHistoriesCheckpoint\n",
      "282/282 [==============================] - 192s 682ms/step - loss: 3.3767e-04 - val_loss: 3.3014e-04\n",
      "Epoch 40/154\n",
      "282/282 [==============================] - ETA: 0s - loss: 3.3636e-04 - tot_time: 2h 26m 35.0s\n",
      "\n",
      "Epoch 40: val_loss did not improve from 0.00033\n",
      " - saving loss histories at /home/rkaushik/Documents/Thesis/MLROM/CDV/saved_rnn/rnn_006/checkpoints/LossHistoriesCheckpoint\n",
      "282/282 [==============================] - 192s 681ms/step - loss: 3.3636e-04 - val_loss: 3.4260e-04\n",
      "Epoch 41/154\n",
      "282/282 [==============================] - ETA: 0s - loss: 3.3438e-04 - tot_time: 2h 29m 43.1s\n",
      "\n",
      "Epoch 41: val_loss did not improve from 0.00033\n",
      " - saving loss histories at /home/rkaushik/Documents/Thesis/MLROM/CDV/saved_rnn/rnn_006/checkpoints/LossHistoriesCheckpoint\n",
      "282/282 [==============================] - 188s 667ms/step - loss: 3.3438e-04 - val_loss: 3.3525e-04\n",
      "Epoch 42/154\n",
      "282/282 [==============================] - ETA: 0s - loss: 3.3353e-04 - tot_time: 2h 32m 53.6s\n",
      "\n",
      "Epoch 42: val_loss improved from 0.00033 to 0.00033, saving model to /home/rkaushik/Documents/Thesis/MLROM/CDV/saved_rnn/rnn_006/checkpoints/checkpoint\n",
      " - saving loss histories at /home/rkaushik/Documents/Thesis/MLROM/CDV/saved_rnn/rnn_006/checkpoints/LossHistoriesCheckpoint\n",
      "282/282 [==============================] - 191s 676ms/step - loss: 3.3353e-04 - val_loss: 3.2801e-04\n",
      "Epoch 43/154\n",
      "282/282 [==============================] - ETA: 0s - loss: 3.3210e-04 - tot_time: 2h 36m 4.4s\n",
      "\n",
      "Epoch 43: val_loss did not improve from 0.00033\n",
      " - saving loss histories at /home/rkaushik/Documents/Thesis/MLROM/CDV/saved_rnn/rnn_006/checkpoints/LossHistoriesCheckpoint\n",
      "282/282 [==============================] - 191s 676ms/step - loss: 3.3210e-04 - val_loss: 3.4058e-04\n",
      "Epoch 44/154\n",
      "282/282 [==============================] - ETA: 0s - loss: 3.2920e-04 - tot_time: 2h 39m 14.0s\n",
      "\n",
      "Epoch 44: val_loss improved from 0.00033 to 0.00033, saving model to /home/rkaushik/Documents/Thesis/MLROM/CDV/saved_rnn/rnn_006/checkpoints/checkpoint\n",
      " - saving loss histories at /home/rkaushik/Documents/Thesis/MLROM/CDV/saved_rnn/rnn_006/checkpoints/LossHistoriesCheckpoint\n",
      "282/282 [==============================] - 190s 672ms/step - loss: 3.2920e-04 - val_loss: 3.2622e-04\n",
      "Epoch 45/154\n",
      "282/282 [==============================] - ETA: 0s - loss: 3.2847e-04 - tot_time: 2h 42m 25.3s\n",
      "\n",
      "Epoch 45: val_loss did not improve from 0.00033\n",
      " - saving loss histories at /home/rkaushik/Documents/Thesis/MLROM/CDV/saved_rnn/rnn_006/checkpoints/LossHistoriesCheckpoint\n",
      "282/282 [==============================] - 191s 678ms/step - loss: 3.2847e-04 - val_loss: 3.3202e-04\n",
      "Epoch 46/154\n",
      "282/282 [==============================] - ETA: 0s - loss: 3.2752e-04 - tot_time: 2h 45m 36.4s\n",
      "\n",
      "Epoch 46: val_loss improved from 0.00033 to 0.00033, saving model to /home/rkaushik/Documents/Thesis/MLROM/CDV/saved_rnn/rnn_006/checkpoints/checkpoint\n",
      " - saving loss histories at /home/rkaushik/Documents/Thesis/MLROM/CDV/saved_rnn/rnn_006/checkpoints/LossHistoriesCheckpoint\n",
      "282/282 [==============================] - 191s 678ms/step - loss: 3.2752e-04 - val_loss: 3.2532e-04\n",
      "Epoch 47/154\n",
      "282/282 [==============================] - ETA: 0s - loss: 3.2560e-04 - tot_time: 2h 48m 45.7s\n",
      "\n",
      "Epoch 47: val_loss did not improve from 0.00033\n",
      " - saving loss histories at /home/rkaushik/Documents/Thesis/MLROM/CDV/saved_rnn/rnn_006/checkpoints/LossHistoriesCheckpoint\n",
      "282/282 [==============================] - 189s 671ms/step - loss: 3.2560e-04 - val_loss: 3.4801e-04\n",
      "Epoch 48/154\n",
      "282/282 [==============================] - ETA: 0s - loss: 3.2508e-04 - tot_time: 2h 51m 56.9s\n",
      "\n",
      "Epoch 48: val_loss improved from 0.00033 to 0.00032, saving model to /home/rkaushik/Documents/Thesis/MLROM/CDV/saved_rnn/rnn_006/checkpoints/checkpoint\n",
      " - saving loss histories at /home/rkaushik/Documents/Thesis/MLROM/CDV/saved_rnn/rnn_006/checkpoints/LossHistoriesCheckpoint\n",
      "282/282 [==============================] - 191s 678ms/step - loss: 3.2508e-04 - val_loss: 3.2476e-04\n",
      "Epoch 49/154\n",
      "282/282 [==============================] - ETA: 0s - loss: 3.2417e-04 - tot_time: 2h 55m 5.9s\n",
      "\n",
      "Epoch 49: val_loss improved from 0.00032 to 0.00032, saving model to /home/rkaushik/Documents/Thesis/MLROM/CDV/saved_rnn/rnn_006/checkpoints/checkpoint\n",
      " - saving loss histories at /home/rkaushik/Documents/Thesis/MLROM/CDV/saved_rnn/rnn_006/checkpoints/LossHistoriesCheckpoint\n",
      "282/282 [==============================] - 189s 670ms/step - loss: 3.2417e-04 - val_loss: 3.2338e-04\n",
      "Epoch 50/154\n",
      "282/282 [==============================] - ETA: 0s - loss: 3.2369e-04 - tot_time: 2h 58m 17.9s\n",
      "\n",
      "Epoch 50: val_loss improved from 0.00032 to 0.00032, saving model to /home/rkaushik/Documents/Thesis/MLROM/CDV/saved_rnn/rnn_006/checkpoints/checkpoint\n",
      " - saving loss histories at /home/rkaushik/Documents/Thesis/MLROM/CDV/saved_rnn/rnn_006/checkpoints/LossHistoriesCheckpoint\n",
      "282/282 [==============================] - 192s 681ms/step - loss: 3.2369e-04 - val_loss: 3.2302e-04\n",
      "Epoch 51/154\n",
      "282/282 [==============================] - ETA: 0s - loss: 3.2329e-04 - tot_time: 3h 1m 27.5s\n",
      "\n",
      "Epoch 51: val_loss improved from 0.00032 to 0.00032, saving model to /home/rkaushik/Documents/Thesis/MLROM/CDV/saved_rnn/rnn_006/checkpoints/checkpoint\n",
      " - saving loss histories at /home/rkaushik/Documents/Thesis/MLROM/CDV/saved_rnn/rnn_006/checkpoints/LossHistoriesCheckpoint\n",
      "282/282 [==============================] - 190s 673ms/step - loss: 3.2329e-04 - val_loss: 3.2261e-04\n",
      "Epoch 52/154\n",
      "282/282 [==============================] - ETA: 0s - loss: 3.2294e-04 - tot_time: 3h 4m 36.4s\n",
      "\n",
      "Epoch 52: val_loss improved from 0.00032 to 0.00032, saving model to /home/rkaushik/Documents/Thesis/MLROM/CDV/saved_rnn/rnn_006/checkpoints/checkpoint\n",
      " - saving loss histories at /home/rkaushik/Documents/Thesis/MLROM/CDV/saved_rnn/rnn_006/checkpoints/LossHistoriesCheckpoint\n",
      "282/282 [==============================] - 189s 670ms/step - loss: 3.2294e-04 - val_loss: 3.2224e-04\n",
      "Epoch 53/154\n",
      "282/282 [==============================] - ETA: 0s - loss: 3.2264e-04 - tot_time: 3h 7m 45.0s\n",
      "\n",
      "Epoch 53: val_loss improved from 0.00032 to 0.00032, saving model to /home/rkaushik/Documents/Thesis/MLROM/CDV/saved_rnn/rnn_006/checkpoints/checkpoint\n",
      " - saving loss histories at /home/rkaushik/Documents/Thesis/MLROM/CDV/saved_rnn/rnn_006/checkpoints/LossHistoriesCheckpoint\n",
      "282/282 [==============================] - 189s 669ms/step - loss: 3.2264e-04 - val_loss: 3.2193e-04\n",
      "Epoch 54/154\n",
      "282/282 [==============================] - ETA: 0s - loss: 3.2239e-04 - tot_time: 3h 10m 53.4s\n",
      "\n",
      "Epoch 54: val_loss improved from 0.00032 to 0.00032, saving model to /home/rkaushik/Documents/Thesis/MLROM/CDV/saved_rnn/rnn_006/checkpoints/checkpoint\n",
      " - saving loss histories at /home/rkaushik/Documents/Thesis/MLROM/CDV/saved_rnn/rnn_006/checkpoints/LossHistoriesCheckpoint\n",
      "282/282 [==============================] - 188s 668ms/step - loss: 3.2239e-04 - val_loss: 3.2175e-04\n",
      "Epoch 55/154\n",
      "282/282 [==============================] - ETA: 0s - loss: 3.2216e-04 - tot_time: 3h 14m 10.4s\n",
      "\n",
      "Epoch 55: val_loss improved from 0.00032 to 0.00032, saving model to /home/rkaushik/Documents/Thesis/MLROM/CDV/saved_rnn/rnn_006/checkpoints/checkpoint\n",
      " - saving loss histories at /home/rkaushik/Documents/Thesis/MLROM/CDV/saved_rnn/rnn_006/checkpoints/LossHistoriesCheckpoint\n",
      "282/282 [==============================] - 197s 699ms/step - loss: 3.2216e-04 - val_loss: 3.2149e-04\n",
      "Epoch 56/154\n",
      "282/282 [==============================] - ETA: 0s - loss: 3.2197e-04 - tot_time: 3h 17m 26.3s\n",
      "\n",
      "Epoch 56: val_loss improved from 0.00032 to 0.00032, saving model to /home/rkaushik/Documents/Thesis/MLROM/CDV/saved_rnn/rnn_006/checkpoints/checkpoint\n"
     ]
    },
    {
     "name": "stdout",
     "output_type": "stream",
     "text": [
      " - saving loss histories at /home/rkaushik/Documents/Thesis/MLROM/CDV/saved_rnn/rnn_006/checkpoints/LossHistoriesCheckpoint\n",
      "282/282 [==============================] - 196s 695ms/step - loss: 3.2197e-04 - val_loss: 3.2132e-04\n",
      "Epoch 57/154\n",
      "282/282 [==============================] - ETA: 0s - loss: 3.2180e-04 - tot_time: 3h 20m 43.5s\n",
      "\n",
      "Epoch 57: val_loss improved from 0.00032 to 0.00032, saving model to /home/rkaushik/Documents/Thesis/MLROM/CDV/saved_rnn/rnn_006/checkpoints/checkpoint\n",
      " - saving loss histories at /home/rkaushik/Documents/Thesis/MLROM/CDV/saved_rnn/rnn_006/checkpoints/LossHistoriesCheckpoint\n",
      "282/282 [==============================] - 197s 699ms/step - loss: 3.2180e-04 - val_loss: 3.2117e-04\n",
      "Epoch 58/154\n",
      "282/282 [==============================] - ETA: 0s - loss: 3.2166e-04 - tot_time: 3h 24m 2.1s\n",
      "\n",
      "Epoch 58: val_loss improved from 0.00032 to 0.00032, saving model to /home/rkaushik/Documents/Thesis/MLROM/CDV/saved_rnn/rnn_006/checkpoints/checkpoint\n",
      " - saving loss histories at /home/rkaushik/Documents/Thesis/MLROM/CDV/saved_rnn/rnn_006/checkpoints/LossHistoriesCheckpoint\n",
      "282/282 [==============================] - 199s 704ms/step - loss: 3.2166e-04 - val_loss: 3.2104e-04\n",
      "Epoch 59/154\n",
      "282/282 [==============================] - ETA: 0s - loss: 3.2154e-04 - tot_time: 3h 27m 22.8s\n",
      "\n",
      "Epoch 59: val_loss improved from 0.00032 to 0.00032, saving model to /home/rkaushik/Documents/Thesis/MLROM/CDV/saved_rnn/rnn_006/checkpoints/checkpoint\n",
      " - saving loss histories at /home/rkaushik/Documents/Thesis/MLROM/CDV/saved_rnn/rnn_006/checkpoints/LossHistoriesCheckpoint\n",
      "282/282 [==============================] - 201s 711ms/step - loss: 3.2154e-04 - val_loss: 3.2091e-04\n",
      "Epoch 60/154\n",
      "282/282 [==============================] - ETA: 0s - loss: 3.2143e-04 - tot_time: 3h 30m 43.6s\n",
      "\n",
      "Epoch 60: val_loss improved from 0.00032 to 0.00032, saving model to /home/rkaushik/Documents/Thesis/MLROM/CDV/saved_rnn/rnn_006/checkpoints/checkpoint\n",
      " - saving loss histories at /home/rkaushik/Documents/Thesis/MLROM/CDV/saved_rnn/rnn_006/checkpoints/LossHistoriesCheckpoint\n",
      "282/282 [==============================] - 201s 713ms/step - loss: 3.2143e-04 - val_loss: 3.2082e-04\n",
      "Epoch 61/154\n",
      "282/282 [==============================] - ETA: 0s - loss: 3.2133e-04 - tot_time: 3h 33m 56.3s\n",
      "\n",
      "Epoch 61: val_loss improved from 0.00032 to 0.00032, saving model to /home/rkaushik/Documents/Thesis/MLROM/CDV/saved_rnn/rnn_006/checkpoints/checkpoint\n",
      " - saving loss histories at /home/rkaushik/Documents/Thesis/MLROM/CDV/saved_rnn/rnn_006/checkpoints/LossHistoriesCheckpoint\n",
      "282/282 [==============================] - 193s 683ms/step - loss: 3.2133e-04 - val_loss: 3.2072e-04\n",
      "Epoch 62/154\n",
      "282/282 [==============================] - ETA: 0s - loss: 3.2125e-04 - tot_time: 3h 37m 7.6s\n",
      "\n",
      "Epoch 62: val_loss improved from 0.00032 to 0.00032, saving model to /home/rkaushik/Documents/Thesis/MLROM/CDV/saved_rnn/rnn_006/checkpoints/checkpoint\n",
      " - saving loss histories at /home/rkaushik/Documents/Thesis/MLROM/CDV/saved_rnn/rnn_006/checkpoints/LossHistoriesCheckpoint\n",
      "282/282 [==============================] - 191s 678ms/step - loss: 3.2125e-04 - val_loss: 3.2064e-04\n",
      "Epoch 63/154\n",
      "282/282 [==============================] - ETA: 0s - loss: 3.2117e-04 - tot_time: 3h 40m 19.3s\n",
      "\n",
      "Epoch 63: val_loss improved from 0.00032 to 0.00032, saving model to /home/rkaushik/Documents/Thesis/MLROM/CDV/saved_rnn/rnn_006/checkpoints/checkpoint\n",
      " - saving loss histories at /home/rkaushik/Documents/Thesis/MLROM/CDV/saved_rnn/rnn_006/checkpoints/LossHistoriesCheckpoint\n",
      "282/282 [==============================] - 192s 680ms/step - loss: 3.2117e-04 - val_loss: 3.2057e-04\n",
      "Epoch 64/154\n",
      "282/282 [==============================] - ETA: 0s - loss: 3.2110e-04 - tot_time: 3h 43m 31.0s\n",
      "\n",
      "Epoch 64: val_loss improved from 0.00032 to 0.00032, saving model to /home/rkaushik/Documents/Thesis/MLROM/CDV/saved_rnn/rnn_006/checkpoints/checkpoint\n",
      " - saving loss histories at /home/rkaushik/Documents/Thesis/MLROM/CDV/saved_rnn/rnn_006/checkpoints/LossHistoriesCheckpoint\n",
      "282/282 [==============================] - 192s 680ms/step - loss: 3.2110e-04 - val_loss: 3.2050e-04\n",
      "Epoch 65/154\n",
      "282/282 [==============================] - ETA: 0s - loss: 3.2103e-04 - tot_time: 3h 46m 41.7s\n",
      "\n",
      "Epoch 65: val_loss improved from 0.00032 to 0.00032, saving model to /home/rkaushik/Documents/Thesis/MLROM/CDV/saved_rnn/rnn_006/checkpoints/checkpoint\n",
      " - saving loss histories at /home/rkaushik/Documents/Thesis/MLROM/CDV/saved_rnn/rnn_006/checkpoints/LossHistoriesCheckpoint\n",
      "282/282 [==============================] - 191s 676ms/step - loss: 3.2103e-04 - val_loss: 3.2043e-04\n",
      "Epoch 66/154\n",
      "282/282 [==============================] - ETA: 0s - loss: 3.2097e-04 - tot_time: 3h 49m 54.2s\n",
      "\n",
      "Epoch 66: val_loss improved from 0.00032 to 0.00032, saving model to /home/rkaushik/Documents/Thesis/MLROM/CDV/saved_rnn/rnn_006/checkpoints/checkpoint\n",
      " - saving loss histories at /home/rkaushik/Documents/Thesis/MLROM/CDV/saved_rnn/rnn_006/checkpoints/LossHistoriesCheckpoint\n",
      "282/282 [==============================] - 192s 683ms/step - loss: 3.2097e-04 - val_loss: 3.2037e-04\n",
      "Epoch 67/154\n",
      "282/282 [==============================] - ETA: 0s - loss: 3.2091e-04 - tot_time: 3h 53m 3.1s\n",
      "\n",
      "Epoch 67: val_loss improved from 0.00032 to 0.00032, saving model to /home/rkaushik/Documents/Thesis/MLROM/CDV/saved_rnn/rnn_006/checkpoints/checkpoint\n",
      " - saving loss histories at /home/rkaushik/Documents/Thesis/MLROM/CDV/saved_rnn/rnn_006/checkpoints/LossHistoriesCheckpoint\n",
      "282/282 [==============================] - 189s 670ms/step - loss: 3.2091e-04 - val_loss: 3.2031e-04\n",
      "Epoch 68/154\n",
      "282/282 [==============================] - ETA: 0s - loss: 3.2085e-04Restoring model weights from the end of the best epoch: 48.\n",
      " - tot_time: 3h 56m 13.5s\n",
      "\n",
      "Epoch 68: val_loss improved from 0.00032 to 0.00032, saving model to /home/rkaushik/Documents/Thesis/MLROM/CDV/saved_rnn/rnn_006/checkpoints/checkpoint\n",
      " - saving loss histories at /home/rkaushik/Documents/Thesis/MLROM/CDV/saved_rnn/rnn_006/checkpoints/LossHistoriesCheckpoint\n",
      "282/282 [==============================] - 190s 676ms/step - loss: 3.2085e-04 - val_loss: 3.2026e-04\n",
      "Epoch 68: early stopping\n"
     ]
    }
   ],
   "source": [
    "# compiling the network\n",
    "rnn_net.compile(\n",
    "    optimizer=tf.keras.optimizers.Adam(learning_rate=learning_rate_dict['eta_begin']),\n",
    "    loss=losses.MeanSquaredError(),\n",
    "    run_eagerly=False\n",
    ")\n",
    "\n",
    "if behaviour == 'loadCheckpointAndContinueTraining':\n",
    "    # this loads the weights/attributes of the optimizer as well\n",
    "    if strategy is not None:\n",
    "        with strategy.scope():\n",
    "            rnn_net.load_weights(wt_file)\n",
    "    else:\n",
    "        rnn_net.load_weights(wt_file)\n",
    "\n",
    "if behaviour == 'initialiseAndTrainFromScratch' or behaviour == 'loadCheckpointAndContinueTraining':\n",
    "    # implementing early stopping\n",
    "    baseline = None\n",
    "    if behaviour == 'loadCheckpointAndContinueTraining':\n",
    "        baseline = np.min(val_loss_hist)\n",
    "    early_stopping_cb = tf.keras.callbacks.EarlyStopping(\n",
    "        monitor='val_loss',\n",
    "        patience=patience,\n",
    "        restore_best_weights=True,\n",
    "        verbose=True,\n",
    "        min_delta=min_delta,\n",
    "        baseline=baseline\n",
    "    )\n",
    "    # the below two lines are useless because wait is set to 0 in on_train_begin\n",
    "    # early_stopping_cb.wait = earlystopping_wait\n",
    "    # print('early_stopping_cb.wait : {}\\n'.format(early_stopping_cb.wait))\n",
    "\n",
    "    # time callback for each epoch\n",
    "    timekeeper_cb = mytimecallback()\n",
    "\n",
    "    # model checkpoint callback\n",
    "    dir_name_ckpt = dir_name_rnn+dir_sep+'checkpoints'\n",
    "    if not os.path.isdir(dir_name_ckpt):\n",
    "        os.makedirs(dir_name_ckpt)\n",
    "    checkpoint_cb = tf.keras.callbacks.ModelCheckpoint(\n",
    "        filepath=dir_name_ckpt+dir_sep+'checkpoint',#+'/checkpoint--loss={loss:.4f}--vall_loss={val_loss:.4f}',\n",
    "        monitor='val_loss',\n",
    "        save_best_only=True,\n",
    "        save_weights_only=True,\n",
    "        verbose=2,\n",
    "        initial_value_threshold=baseline,\n",
    "        period=1  # saves every `period` epochs\n",
    "    )\n",
    "\n",
    "    # save losses callback\n",
    "    savelosses_cb = SaveLosses(\n",
    "        filepath=dir_name_ckpt+dir_sep+'LossHistoriesCheckpoint',\n",
    "        val_loss_arr=savelosses_cb_vallossarr,\n",
    "        train_loss_arr=savelosses_cb_trainlossarr,\n",
    "        total_epochs=epochs,\n",
    "        period=1)\n",
    "    \n",
    "    # sigmoid annealing lr schedule\n",
    "    lrschedule_cb = sigmoidWarmupAndDecayLRSchedule(\n",
    "        eta_begin=learning_rate_dict['eta_begin'],\n",
    "        eta_high=learning_rate_dict['eta_high'],\n",
    "        eta_low=learning_rate_dict['eta_low'],\n",
    "        warmup=20,\n",
    "        expected_epochs=50,\n",
    "        g_star=0.999,\n",
    "        f_star=0.001\n",
    "    )\n",
    "\n",
    "    # training the network\n",
    "    savelosses_cb.update_offset(epochs - num_epochs_left)\n",
    "    \n",
    "    history = rnn_net.fit(training_data_rnn_input, training_data_rnn_output,\n",
    "        epochs=num_epochs_left,\n",
    "        batch_size=batch_size,\n",
    "        validation_split=val_split/(train_split+val_split),\n",
    "        callbacks=[early_stopping_cb, timekeeper_cb, checkpoint_cb, savelosses_cb, lrschedule_cb],\n",
    "        verbose=1\n",
    "    )\n",
    "\n",
    "    val_loss_hist.extend(history.history['val_loss'])\n",
    "    train_loss_hist.extend(history.history['loss'])"
   ]
  },
  {
   "cell_type": "code",
   "execution_count": 31,
   "metadata": {
    "colab": {
     "base_uri": "https://localhost:8080/"
    },
    "executionInfo": {
     "elapsed": 26864,
     "status": "ok",
     "timestamp": 1665867111906,
     "user": {
      "displayName": "Rohan Kaushik",
      "userId": "13918477614376051685"
     },
     "user_tz": -120
    },
    "id": "SO7iK4mbneQm",
    "outputId": "eeb72492-975a-43fa-96b4-929ddea3db50"
   },
   "outputs": [
    {
     "name": "stderr",
     "output_type": "stream",
     "text": [
      "2022-10-17 17:00:36.365874: W tensorflow/core/grappler/optimizers/data/auto_shard.cc:776] AUTO sharding policy will apply DATA sharding policy as it failed to apply FILE sharding policy because of the following reason: Did not find a shardable source, walked to a node which is not a dataset: name: \"FlatMapDataset/_9\"\n",
      "op: \"FlatMapDataset\"\n",
      "input: \"PrefetchDataset/_8\"\n",
      "attr {\n",
      "  key: \"Targuments\"\n",
      "  value {\n",
      "    list {\n",
      "    }\n",
      "  }\n",
      "}\n",
      "attr {\n",
      "  key: \"_cardinality\"\n",
      "  value {\n",
      "    i: -2\n",
      "  }\n",
      "}\n",
      "attr {\n",
      "  key: \"f\"\n",
      "  value {\n",
      "    func {\n",
      "      name: \"__inference_Dataset_flat_map_slice_batch_indices_907174\"\n",
      "    }\n",
      "  }\n",
      "}\n",
      "attr {\n",
      "  key: \"metadata\"\n",
      "  value {\n",
      "    s: \"\\n\\023FlatMapDataset:1040\"\n",
      "  }\n",
      "}\n",
      "attr {\n",
      "  key: \"output_shapes\"\n",
      "  value {\n",
      "    list {\n",
      "      shape {\n",
      "        dim {\n",
      "          size: -1\n",
      "        }\n",
      "      }\n",
      "    }\n",
      "  }\n",
      "}\n",
      "attr {\n",
      "  key: \"output_types\"\n",
      "  value {\n",
      "    list {\n",
      "      type: DT_INT64\n",
      "    }\n",
      "  }\n",
      "}\n",
      "experimental_type {\n",
      "  type_id: TFT_PRODUCT\n",
      "  args {\n",
      "    type_id: TFT_DATASET\n",
      "    args {\n",
      "      type_id: TFT_PRODUCT\n",
      "      args {\n",
      "        type_id: TFT_TENSOR\n",
      "        args {\n",
      "          type_id: TFT_INT64\n",
      "        }\n",
      "      }\n",
      "    }\n",
      "  }\n",
      "  args {\n",
      "    type_id: TFT_DATASET\n",
      "    args {\n",
      "      type_id: TFT_PRODUCT\n",
      "      args {\n",
      "        type_id: TFT_TENSOR\n",
      "        args {\n",
      "          type_id: TFT_INT64\n",
      "        }\n",
      "      }\n",
      "    }\n",
      "  }\n",
      "}\n",
      ". Consider either turning off auto-sharding or switching the auto_shard_policy to DATA to shard this dataset. You can do this by creating a new `tf.data.Options()` object then setting `options.experimental_distribute.auto_shard_policy = AutoShardPolicy.DATA` before applying the options object to the dataset via `dataset.with_options(options)`.\n"
     ]
    },
    {
     "name": "stdout",
     "output_type": "stream",
     "text": [
      "141/141 [==============================] - 33s 233ms/step - loss: 3.2542e-04\n"
     ]
    }
   ],
   "source": [
    "if behaviour == 'initialiseAndTrainFromScratch' or behaviour == 'loadCheckpointAndContinueTraining':\n",
    "    test_loss = rnn_net.evaluate(\n",
    "        testing_data_rnn_input, testing_data_rnn_output,\n",
    "    )\n",
    "\n",
    "    save_path = dir_name_rnn+dir_sep+'final_net'\n",
    "\n",
    "    if not os.path.isdir(save_path):\n",
    "        os.makedirs(save_path)\n",
    "\n",
    "\n",
    "    with open(save_path+dir_sep+'losses.txt', 'w') as f:\n",
    "        f.write(str({\n",
    "            'val_loss_hist':val_loss_hist,\n",
    "            'train_loss_hist':train_loss_hist,\n",
    "            'lr_change':lr_change,\n",
    "            'test_loss':test_loss\n",
    "        }))\n",
    "        \n",
    "    if normalize_dataset == True:\n",
    "        with open(save_path+dir_sep+'rnn_normalization.txt', 'w') as f:\n",
    "            f.write(str({\n",
    "                'normalization_arr':normalization_arr\n",
    "            }))\n",
    "\n",
    "    rnn_net.save_everything(\n",
    "        file_name=save_path+dir_sep+'final_net')"
   ]
  },
  {
   "cell_type": "code",
   "execution_count": 33,
   "metadata": {
    "colab": {
     "base_uri": "https://localhost:8080/",
     "height": 282
    },
    "executionInfo": {
     "elapsed": 832,
     "status": "ok",
     "timestamp": 1665867112730,
     "user": {
      "displayName": "Rohan Kaushik",
      "userId": "13918477614376051685"
     },
     "user_tz": -120
    },
    "id": "nDv5D8APneQm",
    "outputId": "5c51527f-c5e4-45b1-d6e8-f36820cbd362"
   },
   "outputs": [
    {
     "data": {
      "image/png": "[encoded data removed]",
      "text/plain": [
       "<Figure size 640x480 with 1 Axes>"
      ]
     },
     "metadata": {},
     "output_type": "display_data"
    }
   ],
   "source": [
    "# plotting losses\n",
    "dir_name_plot = dir_name_rnn+dir_sep+'plots'\n",
    "if not os.path.isdir(dir_name_plot):\n",
    "    os.makedirs(dir_name_plot)\n",
    "\n",
    "# Visualize loss history\n",
    "fig, ax = plot_losses(\n",
    "    training_loss=train_loss_hist,\n",
    "    val_loss=val_loss_hist,\n",
    "    lr_change=lr_change,\n",
    "    learning_rate_list=None\n",
    ")\n",
    "\n",
    "plt.savefig(dir_name_rnn+'{ds}plots{ds}loss_history.png'.format(ds=dir_sep), dpi=300, bbox_inches='tight')\n",
    "plt.show()\n"
   ]
  },
  {
   "cell_type": "code",
   "execution_count": 34,
   "metadata": {
    "colab": {
     "base_uri": "https://localhost:8080/",
     "height": 679
    },
    "executionInfo": {
     "elapsed": 1385,
     "status": "ok",
     "timestamp": 1665867256907,
     "user": {
      "displayName": "Rohan Kaushik",
      "userId": "13918477614376051685"
     },
     "user_tz": -120
    },
    "id": "dbLa0AwlDBWh",
    "outputId": "a38f1b87-601d-4b32-d0d5-8656cefb7f04"
   },
   "outputs": [
    {
     "name": "stdout",
     "output_type": "stream",
     "text": [
      "data_idx : 3075\n"
     ]
    },
    {
     "name": "stderr",
     "output_type": "stream",
     "text": [
      "2022-10-17 17:13:07.683217: W tensorflow/core/grappler/optimizers/data/auto_shard.cc:776] AUTO sharding policy will apply DATA sharding policy as it failed to apply FILE sharding policy because of the following reason: Did not find a shardable source, walked to a node which is not a dataset: name: \"FlatMapDataset/_9\"\n",
      "op: \"FlatMapDataset\"\n",
      "input: \"PrefetchDataset/_8\"\n",
      "attr {\n",
      "  key: \"Targuments\"\n",
      "  value {\n",
      "    list {\n",
      "    }\n",
      "  }\n",
      "}\n",
      "attr {\n",
      "  key: \"_cardinality\"\n",
      "  value {\n",
      "    i: -2\n",
      "  }\n",
      "}\n",
      "attr {\n",
      "  key: \"f\"\n",
      "  value {\n",
      "    func {\n",
      "      name: \"__inference_Dataset_flat_map_slice_batch_indices_907963\"\n",
      "    }\n",
      "  }\n",
      "}\n",
      "attr {\n",
      "  key: \"metadata\"\n",
      "  value {\n",
      "    s: \"\\n\\023FlatMapDataset:1067\"\n",
      "  }\n",
      "}\n",
      "attr {\n",
      "  key: \"output_shapes\"\n",
      "  value {\n",
      "    list {\n",
      "      shape {\n",
      "        dim {\n",
      "          size: -1\n",
      "        }\n",
      "      }\n",
      "    }\n",
      "  }\n",
      "}\n",
      "attr {\n",
      "  key: \"output_types\"\n",
      "  value {\n",
      "    list {\n",
      "      type: DT_INT64\n",
      "    }\n",
      "  }\n",
      "}\n",
      "experimental_type {\n",
      "  type_id: TFT_PRODUCT\n",
      "  args {\n",
      "    type_id: TFT_DATASET\n",
      "    args {\n",
      "      type_id: TFT_PRODUCT\n",
      "      args {\n",
      "        type_id: TFT_TENSOR\n",
      "        args {\n",
      "          type_id: TFT_INT64\n",
      "        }\n",
      "      }\n",
      "    }\n",
      "  }\n",
      "  args {\n",
      "    type_id: TFT_DATASET\n",
      "    args {\n",
      "      type_id: TFT_PRODUCT\n",
      "      args {\n",
      "        type_id: TFT_TENSOR\n",
      "        args {\n",
      "          type_id: TFT_INT64\n",
      "        }\n",
      "      }\n",
      "    }\n",
      "  }\n",
      "}\n",
      ". Consider either turning off auto-sharding or switching the auto_shard_policy to DATA to shard this dataset. You can do this by creating a new `tf.data.Options()` object then setting `options.experimental_distribute.auto_shard_policy = AutoShardPolicy.DATA` before applying the options object to the dataset via `dataset.with_options(options)`.\n"
     ]
    },
    {
     "data": {
      "text/plain": [
       "Text(0.5, 1.0, 'Latent States')"
      ]
     },
     "execution_count": 34,
     "metadata": {},
     "output_type": "execute_result"
    },
    {
     "data": {
      "image/png": "[encoded data removed]",
      "text/plain": [
       "<Figure size 750x1000 with 4 Axes>"
      ]
     },
     "metadata": {},
     "output_type": "display_data"
    }
   ],
   "source": [
    "# data_type = 'training'\n",
    "data_type = 'testing'\n",
    "\n",
    "data_in = eval(data_type+'_data_rnn_input')\n",
    "data_out = eval(data_type+'_data_rnn_output')\n",
    "\n",
    "data_idx = np.arange(data_in.shape[0])\n",
    "np.random.shuffle(data_idx)\n",
    "data_idx = data_idx[0]\n",
    "# data_idx = 3788\n",
    "print('data_idx : {}'.format(data_idx))\n",
    "\n",
    "# data_in = data_in[data_idx]\n",
    "data_out = data_out[data_idx]\n",
    "\n",
    "prediction = rnn_net.predict(data_in[data_idx:data_idx+1, :, :])\n",
    "\n",
    "n = 1\n",
    "num_latent_states = data_out.shape[-1]\n",
    "N = data_out.shape[0]\n",
    "\n",
    "num_cols = 1\n",
    "num_rows = n*num_latent_states\n",
    "\n",
    "ax_ylabels = ['$x^*_1$', '$x^*_2$', '$x^*_3$', '$x^*_4$', '$x^*_5$', '$x^*_6$']\n",
    "\n",
    "fig, ax = plt.subplots(num_latent_states, 1, sharex=True, figsize=(7.5*num_cols, 2.5*num_rows))\n",
    "if num_latent_states == 1:\n",
    "    ax = [ax]\n",
    "input_time = np.arange(0, N)*dt_rnn/30\n",
    "\n",
    "cmap = plt.get_cmap('jet')\n",
    "colors = [cmap(i) for i in np.linspace(0, 1, 2*n)]\n",
    "\n",
    "prev_idx = 0\n",
    "\n",
    "mpl_ax_artist_list = []\n",
    "for j in range(num_latent_states):\n",
    "    for i in range(n):\n",
    "        obj_in = ax[j].plot(input_time, data_out[:, j], linewidth=1, color=colors[2*i], label='Case {} - actual data'.format(i+1))\n",
    "        obj_out = ax[j].plot(input_time, prediction[0, :, j], linewidth=1, color=colors[2*i+1], label='Case {} - predicted data'.format(i+1))\n",
    "        mpl_ax_artist_list.append(obj_in[0])\n",
    "        mpl_ax_artist_list.append(obj_out[0])\n",
    "    ax[j].set_ylabel(ax_ylabels[j])\n",
    "    # if xlim is not None:\n",
    "    #     ax[j].set_xlim(xlim)\n",
    "    # if ylim is not None:\n",
    "    #     ax[j].set_ylim(ylim)\n",
    "    ax[j].grid(True)\n",
    "    ax[j].set_axisbelow(True)\n",
    "\n",
    "\n",
    "ax[-1].set_xlabel('Time$^+$')\n",
    "\n",
    "max_rows = 10\n",
    "max_rows = float(max_rows)\n",
    "ncols = int(np.ceil(len(boundary_idx_arr) / max_rows))\n",
    "# plt.figlegend(\n",
    "#     handles=mpl_ax_artist_list[0:n],\n",
    "#     # bbox_to_anchor=[1.1,0.85],\n",
    "#     loc=legend_loc,\n",
    "#     bbox_to_anchor=legend_bbox_to_anchor,\n",
    "#     ncol=ncols,\n",
    "#     markerscale=legend_markerscale\n",
    "# )\n",
    "ax[0].legend(\n",
    "    # handles=mpl_ax_artist_list[0:n],\n",
    "    # bbox_to_anchor=[1.1,0.85],\n",
    "    loc='best',\n",
    "    # bbox_to_anchor=legend_bbox_to_anchor,\n",
    "    ncol=ncols,\n",
    "    # markerscale=legend_markerscale\n",
    ")\n",
    "# fig.suptitle(r'Latent States', size=12)\n",
    "ax[0].set_title(r'Latent States', size=12)\n",
    "# plt.savefig('AR-GRU.png', dpi=300, bbox_inches='tight')"
   ]
  },
  {
   "cell_type": "code",
   "execution_count": null,
   "metadata": {
    "colab": {
     "base_uri": "https://localhost:8080/"
    },
    "executionInfo": {
     "elapsed": 31,
     "status": "ok",
     "timestamp": 1665867133618,
     "user": {
      "displayName": "Rohan Kaushik",
      "userId": "13918477614376051685"
     },
     "user_tz": -120
    },
    "id": "MDopQ4JMhRPV",
    "outputId": "c0ddcc1d-02a1-448b-de95-e80c7fbede29"
   },
   "outputs": [],
   "source": [
    "# prediction.shape\n",
    "testing_data_rnn_input[data_idx:data_idx+1, :, :].shape"
   ]
  },
  {
   "cell_type": "code",
   "execution_count": null,
   "metadata": {
    "executionInfo": {
     "elapsed": 29,
     "status": "ok",
     "timestamp": 1665867133619,
     "user": {
      "displayName": "Rohan Kaushik",
      "userId": "13918477614376051685"
     },
     "user_tz": -120
    },
    "id": "2_fAlJz2Vdev"
   },
   "outputs": [],
   "source": []
  },
  {
   "cell_type": "code",
   "execution_count": null,
   "metadata": {},
   "outputs": [],
   "source": []
  }
 ],
 "metadata": {
  "accelerator": "GPU",
  "colab": {
   "collapsed_sections": [],
   "provenance": []
  },
  "gpuClass": "standard",
  "kernelspec": {
   "display_name": "Python 3 (ipykernel)",
   "language": "python",
   "name": "python3"
  },
  "language_info": {
   "codemirror_mode": {
    "name": "ipython",
    "version": 3
   },
   "file_extension": ".py",
   "mimetype": "text/x-python",
   "name": "python",
   "nbconvert_exporter": "python",
   "pygments_lexer": "ipython3",
   "version": "3.10.6"
  }
 },
 "nbformat": 4,
 "nbformat_minor": 1
}
