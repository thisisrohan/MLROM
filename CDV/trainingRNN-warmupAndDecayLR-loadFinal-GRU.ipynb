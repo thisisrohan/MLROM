{
 "cells": [
  {
   "cell_type": "code",
   "execution_count": 1,
   "metadata": {
    "executionInfo": {
     "elapsed": 4,
     "status": "ok",
     "timestamp": 1665861346706,
     "user": {
      "displayName": "Rohan Kaushik",
      "userId": "13918477614376051685"
     },
     "user_tz": -120
    },
    "id": "4xhxMpe_r-Y5"
   },
   "outputs": [],
   "source": [
    "# enabling 3rd party widgets\n",
    "# from google.colab import output\n",
    "# output.enable_custom_widget_manager()\n",
    "# output.disable_custom_widget_manager()\n",
    "\n",
    "# interactive 3D plot\n",
    "# !pip install ipympl\n",
    "# %matplotlib widget"
   ]
  },
  {
   "cell_type": "code",
   "execution_count": 2,
   "metadata": {
    "executionInfo": {
     "elapsed": 2835,
     "status": "ok",
     "timestamp": 1665861349537,
     "user": {
      "displayName": "Rohan Kaushik",
      "userId": "13918477614376051685"
     },
     "user_tz": -120
    },
    "id": "a5qPupCDsjSz"
   },
   "outputs": [],
   "source": [
    "import os\n",
    "import math\n",
    "from collections import OrderedDict\n",
    "import numpy as np\n",
    "import matplotlib.pyplot as plt\n",
    "from scipy import linalg\n",
    "\n",
    "import time as time\n",
    "import platform as platform\n",
    "\n",
    "import tensorflow as tf\n",
    "from tensorflow.keras import layers, losses\n",
    "from tensorflow.keras.models import Model\n",
    "from tensorflow.keras import backend as K\n",
    "from tensorflow.keras.regularizers import L2\n",
    "import h5py\n",
    "\n",
    "tf.keras.backend.set_floatx('float32')"
   ]
  },
  {
   "cell_type": "code",
   "execution_count": 3,
   "metadata": {
    "executionInfo": {
     "elapsed": 11,
     "status": "ok",
     "timestamp": 1665861349539,
     "user": {
      "displayName": "Rohan Kaushik",
      "userId": "13918477614376051685"
     },
     "user_tz": -120
    },
    "id": "h_qXhHdbCgoj"
   },
   "outputs": [],
   "source": [
    "colab_flag = False\n",
    "\n",
    "# strategy = None\n",
    "strategy = tf.distribute.MirroredStrategy()"
   ]
  },
  {
   "cell_type": "code",
   "execution_count": 4,
   "metadata": {
    "executionInfo": {
     "elapsed": 10,
     "status": "ok",
     "timestamp": 1665861349540,
     "user": {
      "displayName": "Rohan Kaushik",
      "userId": "13918477614376051685"
     },
     "user_tz": -120
    },
    "id": "BiLIUmBPneQR"
   },
   "outputs": [],
   "source": [
    "current_sys = platform.system()\n",
    "\n",
    "if current_sys == 'Windows':\n",
    "    dir_sep = '\\\\'\n",
    "else:\n",
    "    dir_sep = '/'"
   ]
  },
  {
   "cell_type": "code",
   "execution_count": 5,
   "metadata": {
    "colab": {
     "base_uri": "https://localhost:8080/"
    },
    "executionInfo": {
     "elapsed": 1537,
     "status": "ok",
     "timestamp": 1665861351067,
     "user": {
      "displayName": "Rohan Kaushik",
      "userId": "13918477614376051685"
     },
     "user_tz": -120
    },
    "id": "fnTV6Anhni6O",
    "outputId": "9ac73d1f-5764-4d56-d71d-e71f1dcfaa33"
   },
   "outputs": [
    {
     "name": "stdout",
     "output_type": "stream",
     "text": [
      "Drive already mounted at /content/drive; to attempt to forcibly remount, call drive.mount(\"/content/drive\", force_remount=True).\n"
     ]
    }
   ],
   "source": [
    "if colab_flag == True:\n",
    "    from google.colab import drive\n",
    "    drive.mount('/content/drive')\n",
    "    os.chdir('/content/drive/MyDrive/Github/MLROM/CDV/')"
   ]
  },
  {
   "cell_type": "code",
   "execution_count": 6,
   "metadata": {
    "colab": {
     "base_uri": "https://localhost:8080/"
    },
    "executionInfo": {
     "elapsed": 12,
     "status": "ok",
     "timestamp": 1665861351068,
     "user": {
      "displayName": "Rohan Kaushik",
      "userId": "13918477614376051685"
     },
     "user_tz": -120
    },
    "id": "paDfPOrjnkAS",
    "outputId": "98f79e45-fed9-4c07-f994-ea369caf4c87"
   },
   "outputs": [
    {
     "name": "stdout",
     "output_type": "stream",
     "text": [
      "/content/drive/MyDrive/Github/MLROM/CDV\n"
     ]
    }
   ],
   "source": [
    "print(os.getcwd())"
   ]
  },
  {
   "cell_type": "code",
   "execution_count": 7,
   "metadata": {
    "executionInfo": {
     "elapsed": 10,
     "status": "ok",
     "timestamp": 1665861351069,
     "user": {
      "displayName": "Rohan Kaushik",
      "userId": "13918477614376051685"
     },
     "user_tz": -120
    },
    "id": "P6K2YWlR6ZPD"
   },
   "outputs": [],
   "source": [
    "from tools.misc_tools import create_CDV_data, create_data_for_RNN, mytimecallback, SaveLosses, plot_losses, plot_reconstructed_data_cdv, plot_latent_states_cdv, readAndReturnLossHistories, sigmoidWarmupAndDecayLRSchedule\n",
    "from tools.ae_v3 import Autoencoder\n",
    "from tools.GRU_SingleStep_v4 import RNN_GRU"
   ]
  },
  {
   "cell_type": "code",
   "execution_count": 8,
   "metadata": {
    "executionInfo": {
     "elapsed": 10,
     "status": "ok",
     "timestamp": 1665861351070,
     "user": {
      "displayName": "Rohan Kaushik",
      "userId": "13918477614376051685"
     },
     "user_tz": -120
    },
    "id": "_xtkwXE2tGTP"
   },
   "outputs": [],
   "source": [
    "# behaviour = 'initialiseAndTrainFromScratch'\n",
    "behaviour = 'loadCheckpointAndContinueTraining'\n",
    "# behaviour = 'loadFinalNetAndPlot'"
   ]
  },
  {
   "cell_type": "code",
   "execution_count": 9,
   "metadata": {
    "executionInfo": {
     "elapsed": 10,
     "status": "ok",
     "timestamp": 1665861351070,
     "user": {
      "displayName": "Rohan Kaushik",
      "userId": "13918477614376051685"
     },
     "user_tz": -120
    },
    "id": "8S1AHEkl48bn"
   },
   "outputs": [],
   "source": [
    "# setting seed for PRNGs\n",
    "if behaviour == 'initialiseAndTrainFromScratch':\n",
    "    prng_seed = 42\n",
    "    np.random.seed(prng_seed)\n",
    "    tf.random.set_seed(prng_seed)"
   ]
  },
  {
   "cell_type": "code",
   "execution_count": 10,
   "metadata": {
    "colab": {
     "base_uri": "https://localhost:8080/"
    },
    "executionInfo": {
     "elapsed": 316,
     "status": "ok",
     "timestamp": 1665861351377,
     "user": {
      "displayName": "Rohan Kaushik",
      "userId": "13918477614376051685"
     },
     "user_tz": -120
    },
    "id": "qvA9oeCHCTVM",
    "outputId": "64c78876-3ee8-409f-cdd0-96fba8b5e3e4"
   },
   "outputs": [
    {
     "name": "stdout",
     "output_type": "stream",
     "text": [
      "[PhysicalDevice(name='/physical_device:GPU:0', device_type='GPU')]\n"
     ]
    }
   ],
   "source": [
    "gpus = tf.config.list_physical_devices('GPU')\n",
    "print(gpus)\n",
    "\n",
    "if colab_flag == False:\n",
    "    if strategy is None:\n",
    "        if gpus:\n",
    "            gpu_to_use = 1\n",
    "            tf.config.set_visible_devices(gpus[gpu_to_use], 'GPU')\n",
    "    logical_devices = tf.config.list_logical_devices('GPU')\n",
    "    print(logical_devices)"
   ]
  },
  {
   "cell_type": "code",
   "execution_count": 11,
   "metadata": {
    "colab": {
     "base_uri": "https://localhost:8080/"
    },
    "executionInfo": {
     "elapsed": 1238,
     "status": "ok",
     "timestamp": 1665861352613,
     "user": {
      "displayName": "Rohan Kaushik",
      "userId": "13918477614376051685"
     },
     "user_tz": -120
    },
    "id": "tc3zO9xL_tNl",
    "outputId": "85a81d4b-d516-4e04-c4cd-841c59e81ae8"
   },
   "outputs": [
    {
     "name": "stdout",
     "output_type": "stream",
     "text": [
      "[PhysicalDevice(name='/physical_device:CPU:0', device_type='CPU'), PhysicalDevice(name='/physical_device:GPU:0', device_type='GPU')]\n",
      "[LogicalDevice(name='/device:CPU:0', device_type='CPU'), LogicalDevice(name='/device:GPU:0', device_type='GPU')]\n",
      "2.9.2\n"
     ]
    }
   ],
   "source": [
    "# print(tf.test.gpu_device_name())\n",
    "print(tf.config.list_physical_devices())\n",
    "print(tf.config.list_logical_devices())\n",
    "print(tf.__version__)"
   ]
  },
  {
   "cell_type": "markdown",
   "metadata": {
    "id": "7UbdnOtc4_z9"
   },
   "source": [
    "# CDV System"
   ]
  },
  {
   "cell_type": "code",
   "execution_count": 11,
   "metadata": {
    "executionInfo": {
     "elapsed": 7,
     "status": "ok",
     "timestamp": 1665861352614,
     "user": {
      "displayName": "Rohan Kaushik",
      "userId": "13918477614376051685"
     },
     "user_tz": -120
    },
    "id": "8aNkoXfyGq52"
   },
   "outputs": [],
   "source": []
  },
  {
   "cell_type": "code",
   "execution_count": 12,
   "metadata": {
    "executionInfo": {
     "elapsed": 7,
     "status": "ok",
     "timestamp": 1665861352615,
     "user": {
      "displayName": "Rohan Kaushik",
      "userId": "13918477614376051685"
     },
     "user_tz": -120
    },
    "id": "O7sl7i5H5Dqz"
   },
   "outputs": [],
   "source": [
    "# setting up params (and saving, if applicable)\n",
    "from numpy import *\n",
    "\n",
    "if behaviour == 'initialiseAndTrainFromScratch':\n",
    "    # making RNN save directory\n",
    "    dir_name_rnn = os.getcwd() + dir_sep + 'saved_rnn'\n",
    "    if not os.path.isdir(dir_name_rnn):\n",
    "        os.makedirs(dir_name_rnn)\n",
    "\n",
    "    counter = 0\n",
    "    while True:\n",
    "        dir_check = 'rnn_' + str(counter).zfill(3)\n",
    "        if os.path.isdir(dir_name_rnn + dir_sep + dir_check):\n",
    "            counter += 1\n",
    "        else:\n",
    "            break\n",
    "\n",
    "    dir_name_rnn = dir_name_rnn + dir_sep + dir_check\n",
    "    os.makedirs(dir_name_rnn)\n",
    "    os.makedirs(dir_name_rnn+dir_sep+'plots')\n",
    "\n",
    "    # autoencoder directory\n",
    "    ae_idx = '001'\n",
    "    dir_name_ae = os.getcwd()+'{ds}saved_ae{ds}ae_'.format(ds=dir_sep)+ae_idx\n",
    "\n",
    "    # reading simulation parameters\n",
    "    with open(dir_name_ae + dir_sep + 'sim_data_params.txt') as f:\n",
    "        lines = f.readlines()\n",
    "\n",
    "    params_dict = eval(''.join(lines))\n",
    "\n",
    "    params_mat = params_dict['params_mat']\n",
    "\n",
    "    init_state = params_dict['init_state']\n",
    "\n",
    "    t0 = params_dict['t0']\n",
    "    T = params_dict['T']\n",
    "    delta_t = params_dict['delta_t']\n",
    "\n",
    "    return_params_arr = params_dict['return_params_arr']\n",
    "    normalize_flag = params_dict['normalize_flag']\n",
    "else:\n",
    "    # RNN directory\n",
    "    dir_name_rnn = os.getcwd()+'/saved_rnn/rnn_006'\n",
    "\n",
    "    # reading simulation parameters\n",
    "    with open(dir_name_rnn + '/sim_data_AE_params.txt') as f:\n",
    "        lines = f.readlines()\n",
    "\n",
    "    params_dict = eval(''.join(lines))\n",
    "\n",
    "    dir_name_ae = params_dict['dir_name_ae']\n",
    "    ae_idx = dir_name_ae[-3:]\n",
    "    dir_name_ae = os.getcwd()+'/saved_ae/ae_'+ae_idx\n",
    "\n",
    "    params_mat = params_dict['params_mat']\n",
    "\n",
    "    init_state = params_dict['init_state']\n",
    "\n",
    "    t0 = params_dict['t0']\n",
    "    T = params_dict['T']\n",
    "    delta_t = params_dict['delta_t']\n",
    "\n",
    "    return_params_arr = params_dict['return_params_arr']\n",
    "    normalize_flag = params_dict['normalize_flag']\n",
    "\n",
    "    # reading RNN paramaters\n",
    "    with open(dir_name_rnn + '/RNN_specific_data.txt') as f:\n",
    "        lines = f.readlines()\n",
    "\n",
    "    params_rnn_dict = eval(''.join(lines))\n",
    "\n",
    "    dt_rnn = params_rnn_dict['dt_rnn']\n",
    "    T_sample_input = params_rnn_dict['T_sample_input']\n",
    "    T_sample_output = params_rnn_dict['T_sample_output']\n",
    "    T_offset = params_rnn_dict['T_offset']\n",
    "    return_params_arr = params_rnn_dict['return_params_arr']\n",
    "    params = params_rnn_dict['params']\n",
    "    try:\n",
    "        normalize_dataset = params_rnn_dict['normalize_dataset']\n",
    "    except:\n",
    "        print(\"'normalize_dataset' not present in RNN_specific_data, set to False.\")\n",
    "        normalize_dataset = False"
   ]
  },
  {
   "cell_type": "code",
   "execution_count": 12,
   "metadata": {
    "executionInfo": {
     "elapsed": 7,
     "status": "ok",
     "timestamp": 1665861352615,
     "user": {
      "displayName": "Rohan Kaushik",
      "userId": "13918477614376051685"
     },
     "user_tz": -120
    },
    "id": "ySVDz_2U5FH5"
   },
   "outputs": [],
   "source": []
  },
  {
   "cell_type": "code",
   "execution_count": 13,
   "metadata": {
    "executionInfo": {
     "elapsed": 7,
     "status": "ok",
     "timestamp": 1665861352616,
     "user": {
      "displayName": "Rohan Kaushik",
      "userId": "13918477614376051685"
     },
     "user_tz": -120
    },
    "id": "bkQx9q_p5Gro"
   },
   "outputs": [],
   "source": [
    "# overriding T from autoencoder params\n",
    "T = 1200"
   ]
  },
  {
   "cell_type": "code",
   "execution_count": 14,
   "metadata": {
    "executionInfo": {
     "elapsed": 52674,
     "status": "ok",
     "timestamp": 1665861405283,
     "user": {
      "displayName": "Rohan Kaushik",
      "userId": "13918477614376051685"
     },
     "user_tz": -120
    },
    "id": "uDhfYHU45IS8"
   },
   "outputs": [],
   "source": [
    "res_dict = create_CDV_data(\n",
    "    T, t0, delta_t,\n",
    "    params_mat,\n",
    "    init_state, return_params_arr=return_params_arr,\n",
    "    normalize=normalize_flag\n",
    ")\n",
    "\n",
    "all_data = res_dict['all_data']\n",
    "N = res_dict['N']\n",
    "boundary_idx_arr = res_dict['boundary_idx_arr']\n",
    "\n",
    "if return_params_arr == True:\n",
    "    params_arr = res_dict['params_arr']\n",
    "\n",
    "if normalize_flag == True:\n",
    "    normalization_constant_arr = res_dict['normalization_constant_arr']"
   ]
  },
  {
   "cell_type": "code",
   "execution_count": 15,
   "metadata": {
    "executionInfo": {
     "elapsed": 17,
     "status": "ok",
     "timestamp": 1665861405284,
     "user": {
      "displayName": "Rohan Kaushik",
      "userId": "13918477614376051685"
     },
     "user_tz": -120
    },
    "id": "-MJa7P5t5KiC",
    "scrolled": true
   },
   "outputs": [],
   "source": [
    "n = len(boundary_idx_arr)"
   ]
  },
  {
   "cell_type": "markdown",
   "metadata": {
    "id": "1v6KQEjR5LkK"
   },
   "source": [
    "# Autoencoder"
   ]
  },
  {
   "cell_type": "code",
   "execution_count": 16,
   "metadata": {
    "executionInfo": {
     "elapsed": 16,
     "status": "ok",
     "timestamp": 1665861405286,
     "user": {
      "displayName": "Rohan Kaushik",
      "userId": "13918477614376051685"
     },
     "user_tz": -120
    },
    "id": "IjsRi02g5ORG"
   },
   "outputs": [],
   "source": [
    "# from tools.ae_v3 import Autoencoder"
   ]
  },
  {
   "cell_type": "code",
   "execution_count": 17,
   "metadata": {
    "executionInfo": {
     "elapsed": 11,
     "status": "ok",
     "timestamp": 1665861405287,
     "user": {
      "displayName": "Rohan Kaushik",
      "userId": "13918477614376051685"
     },
     "user_tz": -120
    },
    "id": "ZBTJl9PeneQb"
   },
   "outputs": [],
   "source": [
    "# load_file = dir_name_ae+dir_sep+'new_class_data'+dir_sep+'ae_'+ae_idx+'_class_dict.txt'\n",
    "# wt_file = dir_name_ae+dir_sep+'new_class_data'+dir_sep+'ae_'+ae_idx+'_ae_weights.h5'\n",
    "\n",
    "# if colab_flag == False:\n",
    "#     dir_name_ae_og = dir_name_ae\n",
    "#     dir_name_ae_temp = '/home/rkaushik/Documents/Thesis/MLROM/CDV/saved_ae/ae_'+ae_idx\n",
    "#     dir_name_ae = dir_name_ae_temp\n",
    "\n",
    "load_file = dir_name_ae+dir_sep+'final_net'+dir_sep+'final_net_class_dict.txt'\n",
    "wt_file = dir_name_ae+dir_sep+'final_net'+dir_sep+'final_net_ae_weights.h5'\n",
    "\n",
    "# if colab_flag == False:\n",
    "#     dir_name_ae = dir_name_ae_og"
   ]
  },
  {
   "cell_type": "code",
   "execution_count": 18,
   "metadata": {
    "executionInfo": {
     "elapsed": 846,
     "status": "ok",
     "timestamp": 1665861406124,
     "user": {
      "displayName": "Rohan Kaushik",
      "userId": "13918477614376051685"
     },
     "user_tz": -120
    },
    "id": "a3Pq-qorneQb"
   },
   "outputs": [],
   "source": [
    "ae_net = Autoencoder(12, load_file=load_file)\n",
    "ae_net.load_weights_from_file(wt_file)"
   ]
  },
  {
   "cell_type": "code",
   "execution_count": 18,
   "metadata": {
    "executionInfo": {
     "elapsed": 9,
     "status": "ok",
     "timestamp": 1665861406126,
     "user": {
      "displayName": "Rohan Kaushik",
      "userId": "13918477614376051685"
     },
     "user_tz": -120
    },
    "id": "wwt4brHcOaXi"
   },
   "outputs": [],
   "source": []
  },
  {
   "cell_type": "code",
   "execution_count": 18,
   "metadata": {
    "executionInfo": {
     "elapsed": 9,
     "status": "ok",
     "timestamp": 1665861406127,
     "user": {
      "displayName": "Rohan Kaushik",
      "userId": "13918477614376051685"
     },
     "user_tz": -120
    },
    "id": "Zl6ZvgtNtA_u",
    "scrolled": true
   },
   "outputs": [],
   "source": []
  },
  {
   "cell_type": "code",
   "execution_count": 18,
   "metadata": {
    "executionInfo": {
     "elapsed": 10,
     "status": "ok",
     "timestamp": 1665861406128,
     "user": {
      "displayName": "Rohan Kaushik",
      "userId": "13918477614376051685"
     },
     "user_tz": -120
    },
    "id": "lXpoaKRIneQc"
   },
   "outputs": [],
   "source": []
  },
  {
   "cell_type": "code",
   "execution_count": 19,
   "metadata": {
    "colab": {
     "base_uri": "https://localhost:8080/"
    },
    "executionInfo": {
     "elapsed": 4939,
     "status": "ok",
     "timestamp": 1665861411059,
     "user": {
      "displayName": "Rohan Kaushik",
      "userId": "13918477614376051685"
     },
     "user_tz": -120
    },
    "id": "Q3a8HHyvneQc",
    "outputId": "c53e3329-9622-4aab-a494-8aaf11d8db03"
   },
   "outputs": [
    {
     "name": "stdout",
     "output_type": "stream",
     "text": [
      "3126/3126 [==============================] - 4s 1ms/step\n"
     ]
    }
   ],
   "source": [
    "# create data\n",
    "latent_states_all = ae_net.encoder_net.predict(all_data)\n",
    "num_latent_states = latent_states_all.shape[1]"
   ]
  },
  {
   "cell_type": "code",
   "execution_count": 20,
   "metadata": {
    "colab": {
     "base_uri": "https://localhost:8080/",
     "height": 622
    },
    "executionInfo": {
     "elapsed": 1108,
     "status": "ok",
     "timestamp": 1665861412163,
     "user": {
      "displayName": "Rohan Kaushik",
      "userId": "13918477614376051685"
     },
     "user_tz": -120
    },
    "id": "wjgPNitSrt5p",
    "outputId": "b95cf100-b996-4317-f72f-52bcbccf3ef3"
   },
   "outputs": [
    {
     "data": {
      "image/png": "[encoded data removed]",
      "text/plain": [
       "<Figure size 540x720 with 4 Axes>"
      ]
     },
     "metadata": {
      "needs_background": "light"
     },
     "output_type": "display_data"
    }
   ],
   "source": [
    "fig, ax = plot_latent_states_cdv(\n",
    "    boundary_idx_arr,\n",
    "    latent_states_all,\n",
    "    all_data,\n",
    "    delta_t,\n",
    "    params_mat,\n",
    "    # xlim=[-1,1],\n",
    "    ylim=[-1,1],\n",
    "    cmap_name='gist_rainbow',\n",
    "    legend_markerscale=10,\n",
    "    legend_bbox_to_anchor=[1,1],\n",
    "    save_config_path=None\n",
    ")"
   ]
  },
  {
   "cell_type": "code",
   "execution_count": 21,
   "metadata": {
    "executionInfo": {
     "elapsed": 10,
     "status": "ok",
     "timestamp": 1665861412164,
     "user": {
      "displayName": "Rohan Kaushik",
      "userId": "13918477614376051685"
     },
     "user_tz": -120
    },
    "id": "wnLnqg0Jrt5t"
   },
   "outputs": [],
   "source": [
    "# for i in range(ae_net.layers):\n",
    "#     tf.keras.utils.plot_model(\n",
    "#         ae_net.layers[i],\n",
    "#         to_file=dir_name_ae+'/plots/netlayer_{}.png'.format(i),\n",
    "#         show_shapes=True,\n",
    "#         dpi=300\n",
    "# )"
   ]
  },
  {
   "cell_type": "code",
   "execution_count": 21,
   "metadata": {
    "executionInfo": {
     "elapsed": 11,
     "status": "ok",
     "timestamp": 1665861412166,
     "user": {
      "displayName": "Rohan Kaushik",
      "userId": "13918477614376051685"
     },
     "user_tz": -120
    },
    "id": "BOJE8vREtque"
   },
   "outputs": [],
   "source": []
  },
  {
   "cell_type": "code",
   "execution_count": 21,
   "metadata": {
    "executionInfo": {
     "elapsed": 13,
     "status": "ok",
     "timestamp": 1665861412169,
     "user": {
      "displayName": "Rohan Kaushik",
      "userId": "13918477614376051685"
     },
     "user_tz": -120
    },
    "id": "fwjcsAxKneQe"
   },
   "outputs": [],
   "source": []
  },
  {
   "cell_type": "code",
   "execution_count": 21,
   "metadata": {
    "executionInfo": {
     "elapsed": 14,
     "status": "ok",
     "timestamp": 1665861412170,
     "user": {
      "displayName": "Rohan Kaushik",
      "userId": "13918477614376051685"
     },
     "user_tz": -120
    },
    "id": "aFd7XgwVneQe"
   },
   "outputs": [],
   "source": []
  },
  {
   "cell_type": "markdown",
   "metadata": {
    "id": "8IAcFjRRn_IQ"
   },
   "source": [
    "# GRU"
   ]
  },
  {
   "cell_type": "code",
   "execution_count": 22,
   "metadata": {
    "executionInfo": {
     "elapsed": 14,
     "status": "ok",
     "timestamp": 1665861412171,
     "user": {
      "displayName": "Rohan Kaushik",
      "userId": "13918477614376051685"
     },
     "user_tz": -120
    },
    "id": "lPVqWNwjoAGP"
   },
   "outputs": [],
   "source": [
    "if behaviour == 'initialiseAndTrainFromScratch':\n",
    "    # RNN data parameters\n",
    "    dt_rnn = 0.1\n",
    "    T_sample_input = 60\n",
    "    T_sample_output = 60\n",
    "    T_offset = dt_rnn\n",
    "    normalize_dataset = True # whether the data for the RNN should be normalized by the dataset's mean and std\n",
    "    if return_params_arr != False:\n",
    "        params = params_arr\n",
    "    else:\n",
    "        params = None\n",
    "\n",
    "    # saving simulation data\n",
    "    sim_data = {\n",
    "        'params_mat':params_mat,\n",
    "        'init_state':init_state,\n",
    "        't0':t0,\n",
    "        'T':T,\n",
    "        'delta_t':delta_t,\n",
    "        'return_params_arr':return_params_arr,\n",
    "        'dir_name_ae':dir_name_ae,\n",
    "        'normalize_flag':normalize_flag,\n",
    "    }\n",
    "\n",
    "\n",
    "    with open(dir_name_rnn+dir_sep+'sim_data_AE_params.txt', 'w') as f:\n",
    "        f.write(str(sim_data))\n",
    "        \n",
    "    # saving RNN specific data\n",
    "    RNN_specific_data = {\n",
    "        'dt_rnn':dt_rnn,\n",
    "        'T_sample_input':T_sample_input,\n",
    "        'T_sample_output':T_sample_output,\n",
    "        'T_offset':T_offset,\n",
    "        'N':N,\n",
    "        'boundary_idx_arr':boundary_idx_arr,\n",
    "        'delta_t':delta_t,\n",
    "        'params':params,\n",
    "        'return_params_arr':return_params_arr,\n",
    "        'normalize_dataset':normalize_dataset,\n",
    "    }\n",
    "\n",
    "    with open(dir_name_rnn+dir_sep+'RNN_specific_data.txt', 'w') as f:\n",
    "        f.write(str(RNN_specific_data))"
   ]
  },
  {
   "cell_type": "code",
   "execution_count": 22,
   "metadata": {
    "executionInfo": {
     "elapsed": 15,
     "status": "ok",
     "timestamp": 1665861412172,
     "user": {
      "displayName": "Rohan Kaushik",
      "userId": "13918477614376051685"
     },
     "user_tz": -120
    },
    "id": "S21-VEUYrkk-"
   },
   "outputs": [],
   "source": []
  },
  {
   "cell_type": "code",
   "execution_count": 23,
   "metadata": {
    "executionInfo": {
     "elapsed": 14,
     "status": "ok",
     "timestamp": 1665861412172,
     "user": {
      "displayName": "Rohan Kaushik",
      "userId": "13918477614376051685"
     },
     "user_tz": -120
    },
    "id": "UGnj8uQQ83-y"
   },
   "outputs": [],
   "source": [
    "# cutting off initial transient\n",
    "initial_t0 = np.array([400])\n",
    "initial_idx = np.zeros_like(initial_t0)\n",
    "\n",
    "begin_idx = 0\n",
    "len_relevant_idx = 0\n",
    "for i in range(len(initial_t0)):\n",
    "    init_idx = (initial_t0[i] + 0.25*delta_t)//delta_t\n",
    "    initial_idx[i] = init_idx + begin_idx\n",
    "    begin_idx = boundary_idx_arr[i]\n",
    "    len_relevant_idx += begin_idx - initial_idx[i]\n",
    "\n",
    "relevant_idx = np.empty(shape=len_relevant_idx, dtype=np.int32)\n",
    "start = 0\n",
    "for i in range(len(initial_t0)):\n",
    "    end = start + (boundary_idx_arr[i] - initial_idx[i])\n",
    "    relevant_idx[start:end] = np.arange(initial_idx[i], boundary_idx_arr[i])\n",
    "    start = end"
   ]
  },
  {
   "cell_type": "code",
   "execution_count": 24,
   "metadata": {
    "executionInfo": {
     "elapsed": 2447,
     "status": "ok",
     "timestamp": 1665861414606,
     "user": {
      "displayName": "Rohan Kaushik",
      "userId": "13918477614376051685"
     },
     "user_tz": -120
    },
    "id": "0t2_8mzI1fhX"
   },
   "outputs": [],
   "source": [
    "rnn_res_dict = create_data_for_RNN(\n",
    "    latent_states_all[relevant_idx],\n",
    "    dt_rnn,\n",
    "    T_sample_input,\n",
    "    T_sample_output,\n",
    "    T_offset,\n",
    "    N,\n",
    "    boundary_idx_arr-initial_idx,\n",
    "    delta_t,\n",
    "    params=params,\n",
    "    return_numsamples=True,\n",
    "    normalize_dataset=normalize_dataset)\n",
    "    \n",
    "data_rnn_input = rnn_res_dict['data_rnn_input']\n",
    "data_rnn_output = rnn_res_dict['data_rnn_output']\n",
    "org_data_idx_arr_input = rnn_res_dict['org_data_idx_arr_input']\n",
    "org_data_idx_arr_output = rnn_res_dict['org_data_idx_arr_output']\n",
    "num_samples = rnn_res_dict['num_samples']\n",
    "normalization_arr = rnn_res_dict['normalization_arr']"
   ]
  },
  {
   "cell_type": "code",
   "execution_count": 24,
   "metadata": {
    "executionInfo": {
     "elapsed": 8,
     "status": "ok",
     "timestamp": 1665861414606,
     "user": {
      "displayName": "Rohan Kaushik",
      "userId": "13918477614376051685"
     },
     "user_tz": -120
    },
    "id": "pIsWCXkbr7ws"
   },
   "outputs": [],
   "source": []
  },
  {
   "cell_type": "code",
   "execution_count": 24,
   "metadata": {
    "executionInfo": {
     "elapsed": 8,
     "status": "ok",
     "timestamp": 1665861414608,
     "user": {
      "displayName": "Rohan Kaushik",
      "userId": "13918477614376051685"
     },
     "user_tz": -120
    },
    "id": "Hem_9PUqneQi"
   },
   "outputs": [],
   "source": []
  },
  {
   "cell_type": "code",
   "execution_count": 24,
   "metadata": {
    "executionInfo": {
     "elapsed": 8,
     "status": "ok",
     "timestamp": 1665861414609,
     "user": {
      "displayName": "Rohan Kaushik",
      "userId": "13918477614376051685"
     },
     "user_tz": -120
    },
    "id": "uskBAAXpneQi"
   },
   "outputs": [],
   "source": []
  },
  {
   "cell_type": "code",
   "execution_count": 25,
   "metadata": {
    "executionInfo": {
     "elapsed": 364,
     "status": "ok",
     "timestamp": 1665861414965,
     "user": {
      "displayName": "Rohan Kaushik",
      "userId": "13918477614376051685"
     },
     "user_tz": -120
    },
    "id": "-1uL-GomneQi"
   },
   "outputs": [],
   "source": [
    "# setting up training params\n",
    "if behaviour == 'initialiseAndTrainFromScratch':\n",
    "    learning_rate_dict = {\n",
    "        'eta_begin':0.0001,\n",
    "        'eta_high':0.001,\n",
    "        'eta_low':0.00001\n",
    "    }\n",
    "    epochs = 200\n",
    "    patience = 20  # parameter for early stopping\n",
    "    min_delta = 5e-6  # parameter for early stopping\n",
    "    lambda_reg = 1e-4  # weight for regularizer\n",
    "    train_split = 0.8\n",
    "    val_split = 0.1\n",
    "    test_split = 1 - train_split - val_split\n",
    "    batch_size = 64\n",
    "\n",
    "    # saving training params\n",
    "    training_specific_params = {\n",
    "        'learning_rate_dict':learning_rate_dict,\n",
    "        'epochs':epochs,\n",
    "        'patience':patience,\n",
    "        'min_delta':min_delta,\n",
    "        'prng_seed':prng_seed,\n",
    "        'train_split':train_split,\n",
    "        'val_split':val_split,\n",
    "        'batch_size':batch_size\n",
    "    }\n",
    "\n",
    "    with open(dir_name_rnn+dir_sep+'training_specific_params.txt', 'w') as f:\n",
    "        f.write(str(training_specific_params))\n",
    "else:\n",
    "    # dir_name_rnn_og = dir_name_rnn\n",
    "    # dir_name_rnn_temp = '/home/rkaushik/Documents/Thesis/MLROM/CDV/saved_rnn/rnn_'+dir_name_rnn_og[-3:]\n",
    "    # dir_name_rnn = dir_name_rnn_temp\n",
    "\n",
    "    with open(dir_name_rnn + dir_sep + 'training_specific_params.txt') as f:\n",
    "        lines = f.readlines()\n",
    "\n",
    "\n",
    "    tparams_dict = eval(''.join(lines))\n",
    "\n",
    "    learning_rate_dict = tparams_dict['learning_rate_dict']\n",
    "    epochs = tparams_dict['epochs']\n",
    "    patience = tparams_dict['patience']\n",
    "    min_delta = tparams_dict['min_delta']\n",
    "    prng_seed = tparams_dict['prng_seed']\n",
    "    train_split = tparams_dict['train_split']\n",
    "    val_split = tparams_dict['val_split']\n",
    "    batch_size = tparams_dict['batch_size']\n",
    "\n",
    "    test_split = 1 - train_split - val_split\n",
    "\n",
    "    # setting seed for PRNGs\n",
    "    np.random.seed(prng_seed)\n",
    "    tf.random.set_seed(prng_seed)"
   ]
  },
  {
   "cell_type": "code",
   "execution_count": 26,
   "metadata": {
    "executionInfo": {
     "elapsed": 5,
     "status": "ok",
     "timestamp": 1665861414966,
     "user": {
      "displayName": "Rohan Kaushik",
      "userId": "13918477614376051685"
     },
     "user_tz": -120
    },
    "id": "4hx9ZaSpEMmv"
   },
   "outputs": [],
   "source": [
    "# idx = np.arange(data_rnn_input.shape[0])\n",
    "# np.random.shuffle(idx)\n",
    "# boundary = int(np.round(train_split*data_rnn_input.shape[0]))\n",
    "\n",
    "# training_data_rnn_input = data_rnn_input[idx[0:boundary]]\n",
    "# training_data_rnn_output = data_rnn_output[idx[0:boundary]]\n",
    "\n",
    "# testing_data_rnn_input = data_rnn_input[idx[boundary:]]\n",
    "# testing_data_rnn_output = data_rnn_output[idx[boundary:]]"
   ]
  },
  {
   "cell_type": "code",
   "execution_count": 27,
   "metadata": {
    "executionInfo": {
     "elapsed": 2347,
     "status": "ok",
     "timestamp": 1665861417309,
     "user": {
      "displayName": "Rohan Kaushik",
      "userId": "13918477614376051685"
     },
     "user_tz": -120
    },
    "id": "EENXaWqcKW7j"
   },
   "outputs": [],
   "source": [
    "idx = np.arange(num_samples)\n",
    "# np.random.shuffle(idx)\n",
    "boundary = int(np.round(\n",
    "    (1-test_split) * num_samples\n",
    "))\n",
    "\n",
    "# defining shapes\n",
    "training_input_shape = [boundary*len(boundary_idx_arr)]\n",
    "training_input_shape.extend(data_rnn_input.shape[1:])\n",
    "\n",
    "training_output_shape = [boundary*len(boundary_idx_arr)]\n",
    "training_output_shape.extend(data_rnn_output.shape[1:])\n",
    "\n",
    "testing_input_shape = [(num_samples-boundary)*len(boundary_idx_arr)]\n",
    "testing_input_shape.extend(data_rnn_input.shape[1:])\n",
    "\n",
    "testing_output_shape = [(num_samples-boundary)*len(boundary_idx_arr)]\n",
    "testing_output_shape.extend(data_rnn_output.shape[1:])\n",
    "\n",
    "# defining required arrays\n",
    "training_data_rnn_input = np.empty(shape=training_input_shape)\n",
    "training_data_rnn_output = np.empty(shape=training_output_shape)\n",
    "\n",
    "testing_data_rnn_input = np.empty(shape=testing_input_shape)\n",
    "testing_data_rnn_output = np.empty(shape=testing_output_shape)\n",
    "\n",
    "for i in range(len(boundary_idx_arr)):\n",
    "    np.random.shuffle(idx)\n",
    "\n",
    "    training_data_rnn_input[i*boundary:(i+1)*boundary] = data_rnn_input[i*num_samples + idx[0:boundary]]\n",
    "    training_data_rnn_output[i*boundary:(i+1)*boundary] = data_rnn_output[i*num_samples + idx[0:boundary]]\n",
    "\n",
    "    testing_data_rnn_input[i*(num_samples-boundary):(i+1)*(num_samples-boundary)] = data_rnn_input[i*num_samples + idx[boundary:]]\n",
    "    testing_data_rnn_output[i*(num_samples-boundary):(i+1)*(num_samples-boundary)] = data_rnn_output[i*num_samples + idx[boundary:]]\n",
    "\n",
    "# further shuffling\n",
    "idx = np.arange(0, training_data_rnn_input.shape[0])\n",
    "np.random.shuffle(idx)\n",
    "training_data_rnn_input = training_data_rnn_input[idx]\n",
    "training_data_rnn_output = training_data_rnn_output[idx]\n",
    "\n",
    "idx = np.arange(0, testing_data_rnn_input.shape[0])\n",
    "np.random.shuffle(idx)\n",
    "testing_data_rnn_input = testing_data_rnn_input[idx]\n",
    "testing_data_rnn_output = testing_data_rnn_output[idx]"
   ]
  },
  {
   "cell_type": "code",
   "execution_count": 27,
   "metadata": {
    "executionInfo": {
     "elapsed": 8,
     "status": "ok",
     "timestamp": 1665861417310,
     "user": {
      "displayName": "Rohan Kaushik",
      "userId": "13918477614376051685"
     },
     "user_tz": -120
    },
    "id": "8isZN1tYBifp"
   },
   "outputs": [],
   "source": []
  },
  {
   "cell_type": "code",
   "execution_count": 27,
   "metadata": {
    "executionInfo": {
     "elapsed": 7,
     "status": "ok",
     "timestamp": 1665861417310,
     "user": {
      "displayName": "Rohan Kaushik",
      "userId": "13918477614376051685"
     },
     "user_tz": -120
    },
    "id": "x3KglJsgneQj"
   },
   "outputs": [],
   "source": []
  },
  {
   "cell_type": "code",
   "execution_count": 27,
   "metadata": {
    "executionInfo": {
     "elapsed": 7,
     "status": "ok",
     "timestamp": 1665861417311,
     "user": {
      "displayName": "Rohan Kaushik",
      "userId": "13918477614376051685"
     },
     "user_tz": -120
    },
    "id": "ixetsZHjCMKO"
   },
   "outputs": [],
   "source": []
  },
  {
   "cell_type": "code",
   "execution_count": 27,
   "metadata": {
    "executionInfo": {
     "elapsed": 7,
     "status": "ok",
     "timestamp": 1665861417311,
     "user": {
      "displayName": "Rohan Kaushik",
      "userId": "13918477614376051685"
     },
     "user_tz": -120
    },
    "id": "_NSTtZuyneQk"
   },
   "outputs": [],
   "source": []
  },
  {
   "cell_type": "code",
   "execution_count": 29,
   "metadata": {
    "colab": {
     "base_uri": "https://localhost:8080/"
    },
    "executionInfo": {
     "elapsed": 887,
     "status": "ok",
     "timestamp": 1665861601595,
     "user": {
      "displayName": "Rohan Kaushik",
      "userId": "13918477614376051685"
     },
     "user_tz": -120
    },
    "id": "Py-Jg0QKneQk",
    "outputId": "12272031-23b2-418c-9270-1d160bd8d002",
    "scrolled": false
   },
   "outputs": [
    {
     "name": "stdout",
     "output_type": "stream",
     "text": [
      "1/1 [==============================] - 0s 118ms/step\n"
     ]
    }
   ],
   "source": [
    "# Initialize network\n",
    "if behaviour == 'initialiseAndTrainFromScratch':\n",
    "    rnn_layers_units = [2**7]*1\n",
    "    if return_params_arr != False:\n",
    "        data_dim = num_latent_states + 6\n",
    "    else:\n",
    "        data_dim = num_latent_states\n",
    "\n",
    "    if strategy is not None:\n",
    "        with strtegy.scope():\n",
    "            rnn_net = RNN_GRU(\n",
    "                data_dim=data_dim,\n",
    "            #     in_steps=int(T_sample_input // dt_rnn),\n",
    "            #     out_steps=int(T_sample_output // dt_rnn),\n",
    "                dt_rnn=dt_rnn,\n",
    "                lambda_reg=lambda_reg,\n",
    "                reg_name='L2',\n",
    "                rnn_layers_units=rnn_layers_units,\n",
    "                dense_layer_act_func='linear',\n",
    "                load_file=None,\n",
    "                # T_input=T_sample_input,\n",
    "                # T_output=T_sample_output\n",
    "            )\n",
    "    else:\n",
    "        rnn_net = RNN_GRU(\n",
    "            data_dim=data_dim,\n",
    "        #     in_steps=int(T_sample_input // dt_rnn),\n",
    "        #     out_steps=int(T_sample_output // dt_rnn),\n",
    "            dt_rnn=dt_rnn,\n",
    "            lambda_reg=lambda_reg,\n",
    "            reg_name='L2',\n",
    "            rnn_layers_units=rnn_layers_units,\n",
    "            dense_layer_act_func='linear',\n",
    "            load_file=None,\n",
    "            # T_input=T_sample_input,\n",
    "            # T_output=T_sample_output\n",
    "        )\n",
    "    save_path = dir_name_rnn+dir_sep+'final_net'\n",
    "    if not os.path.isdir(save_path):\n",
    "        os.makedirs(save_path)\n",
    "    rnn_net.save_class_dict(save_path+dir_sep+'final_net_class_dict.txt')\n",
    "else:\n",
    "    load_file = dir_name_rnn + dir_sep + 'final_net' + dir_sep + 'final_net_class_dict.txt'\n",
    "    if strategy is not None:\n",
    "        with strategy.scope():\n",
    "            rnn_net = RNN_GRU(\n",
    "                load_file=load_file,\n",
    "                # T_input=T_sample_input,\n",
    "                # T_output=T_sample_output\n",
    "            )\n",
    "    else:\n",
    "        rnn_net = RNN_GRU(\n",
    "            load_file=load_file,\n",
    "            # T_input=T_sample_input,\n",
    "            # T_output=T_sample_output\n",
    "        )\n",
    "    \n",
    "    if behaviour == 'loadCheckpointAndContinueTraining':\n",
    "        wt_file = tf.train.latest_checkpoint(dir_name_rnn+dir_sep+'checkpoints')\n",
    "    elif behaviour == 'loadFinalNetAndPlot':\n",
    "        wt_file = dir_name_rnn+dir_sep+'final_net'+dir_sep+'final_net_gru_weights.h5'\n",
    "        # wt_file = dir_name_rnn+dir_sep+'final_net'+dir_sep+'f2'#+dir_sep+'saved_model.pb'\n",
    "    \n",
    "    # this forces the model to initialize its kernel weights/biases\n",
    "    # temp = rnn_net.predict(tf.ones(shape=[batch_size, int(T_sample_input//dt_rnn), rnn_net.data_dim]))\n",
    "    # this loads just the kernel wieghts and biases of the model\n",
    "    rnn_net.load_weights_from_file(wt_file)\n",
    "\n",
    "    # rnn_net = tf.keras.models.load_model(wt_file)"
   ]
  },
  {
   "cell_type": "code",
   "execution_count": 30,
   "metadata": {
    "executionInfo": {
     "elapsed": 224,
     "status": "ok",
     "timestamp": 1665861611435,
     "user": {
      "displayName": "Rohan Kaushik",
      "userId": "13918477614376051685"
     },
     "user_tz": -120
    },
    "id": "7ASCopnIH6nl"
   },
   "outputs": [],
   "source": [
    "if behaviour == 'initialiseAndTrainFromScratch':\n",
    "    val_loss_hist = []\n",
    "    train_loss_hist = []\n",
    "    lr_change=[0, 0]\n",
    "    savelosses_cb_vallossarr = np.ones(shape=epochs)*np.NaN\n",
    "    savelosses_cb_trainlossarr = np.ones(shape=epochs)*np.NaN\n",
    "    starting_lr_idx = 0\n",
    "    num_epochs_left = epochs\n",
    "    earlystopping_wait = 0\n",
    "elif behaviour == 'loadCheckpointAndContinueTraining':\n",
    "    val_loss_hist, train_loss_hist, lr_change, starting_lr_idx, num_epochs_left, val_loss_arr_fromckpt, train_loss_arr_fromckpt, earlystopping_wait = readAndReturnLossHistories(\n",
    "        dir_name_ae=dir_name_rnn,\n",
    "        dir_sep=dir_sep,\n",
    "        epochs=epochs,\n",
    "        learning_rate_list=[0],\n",
    "        return_earlystopping_wait=True)\n",
    "    savelosses_cb_vallossarr = val_loss_arr_fromckpt\n",
    "    savelosses_cb_trainlossarr = train_loss_arr_fromckpt\n",
    "elif behaviour == 'loadFinalNetAndPlot':\n",
    "    with open(dir_name_rnn+'{ds}final_net{ds}losses.txt'.format(ds=dir_sep), 'r') as f:\n",
    "        lines = f.readlines()\n",
    "    \n",
    "    losses_dict = eval(''.join(lines))\n",
    "\n",
    "    val_loss_hist = losses_dict['val_loss_hist']\n",
    "    train_loss_hist = losses_dict['train_loss_hist']\n",
    "    lr_change = losses_dict['lr_change']\n",
    "    test_loss = losses_dict['test_loss']"
   ]
  },
  {
   "cell_type": "code",
   "execution_count": 31,
   "metadata": {
    "colab": {
     "base_uri": "https://localhost:8080/"
    },
    "executionInfo": {
     "elapsed": 5473052,
     "status": "ok",
     "timestamp": 1665867084820,
     "user": {
      "displayName": "Rohan Kaushik",
      "userId": "13918477614376051685"
     },
     "user_tz": -120
    },
    "id": "6hh1pbKjCcO4",
    "outputId": "1815a5cb-4faf-4cbd-aa9e-eef251b1678d",
    "scrolled": true
   },
   "outputs": [
    {
     "name": "stderr",
     "output_type": "stream",
     "text": [
      "WARNING:tensorflow:`period` argument is deprecated. Please use `save_freq` to specify the frequency in number of batches seen.\n"
     ]
    },
    {
     "name": "stdout",
     "output_type": "stream",
     "text": [
      "Epoch 1/171\n",
      "638/638 [==============================] - ETA: 0s - loss: 4.4282e-04 - tot_time: 0h 9m 0.7s\n",
      "\n",
      "Epoch 1: val_loss did not improve from 0.00043\n",
      " - saving loss histories at /content/drive/MyDrive/Github/MLROM/CDV/saved_rnn/rnn_008/checkpoints/LossHistoriesCheckpoint\n",
      "638/638 [==============================] - 540s 480ms/step - loss: 4.4282e-04 - val_loss: 4.3540e-04\n",
      "Epoch 2/171\n",
      "638/638 [==============================] - ETA: 0s - loss: 4.3162e-04 - tot_time: 0h 13m 23.1s\n",
      "\n",
      "Epoch 2: val_loss did not improve from 0.00043\n",
      " - saving loss histories at /content/drive/MyDrive/Github/MLROM/CDV/saved_rnn/rnn_008/checkpoints/LossHistoriesCheckpoint\n",
      "638/638 [==============================] - 263s 412ms/step - loss: 4.3162e-04 - val_loss: 4.3283e-04\n",
      "Epoch 3/171\n",
      "638/638 [==============================] - ETA: 0s - loss: 4.3130e-04 - tot_time: 0h 17m 45.7s\n",
      "\n",
      "Epoch 3: val_loss did not improve from 0.00043\n",
      " - saving loss histories at /content/drive/MyDrive/Github/MLROM/CDV/saved_rnn/rnn_008/checkpoints/LossHistoriesCheckpoint\n",
      "638/638 [==============================] - 263s 412ms/step - loss: 4.3130e-04 - val_loss: 4.3251e-04\n",
      "Epoch 4/171\n",
      "638/638 [==============================] - ETA: 0s - loss: 4.3096e-04 - tot_time: 0h 22m 6.9s\n",
      "\n",
      "Epoch 4: val_loss did not improve from 0.00043\n",
      " - saving loss histories at /content/drive/MyDrive/Github/MLROM/CDV/saved_rnn/rnn_008/checkpoints/LossHistoriesCheckpoint\n",
      "638/638 [==============================] - 261s 409ms/step - loss: 4.3096e-04 - val_loss: 4.3216e-04\n",
      "Epoch 5/171\n",
      "638/638 [==============================] - ETA: 0s - loss: 4.3053e-04 - tot_time: 0h 26m 29.4s\n",
      "\n",
      "Epoch 5: val_loss did not improve from 0.00043\n",
      " - saving loss histories at /content/drive/MyDrive/Github/MLROM/CDV/saved_rnn/rnn_008/checkpoints/LossHistoriesCheckpoint\n",
      "638/638 [==============================] - 262s 411ms/step - loss: 4.3053e-04 - val_loss: 4.3167e-04\n",
      "Epoch 6/171\n",
      "638/638 [==============================] - ETA: 0s - loss: 4.3001e-04 - tot_time: 0h 30m 50.1s\n",
      "\n",
      "Epoch 6: val_loss did not improve from 0.00043\n",
      " - saving loss histories at /content/drive/MyDrive/Github/MLROM/CDV/saved_rnn/rnn_008/checkpoints/LossHistoriesCheckpoint\n",
      "638/638 [==============================] - 261s 409ms/step - loss: 4.3001e-04 - val_loss: 4.3106e-04\n",
      "Epoch 7/171\n",
      "638/638 [==============================] - ETA: 0s - loss: 4.2937e-04 - tot_time: 0h 35m 9.6s\n",
      "\n",
      "Epoch 7: val_loss did not improve from 0.00043\n",
      " - saving loss histories at /content/drive/MyDrive/Github/MLROM/CDV/saved_rnn/rnn_008/checkpoints/LossHistoriesCheckpoint\n",
      "638/638 [==============================] - 259s 407ms/step - loss: 4.2937e-04 - val_loss: 4.3044e-04\n",
      "Epoch 8/171\n",
      "638/638 [==============================] - ETA: 0s - loss: 4.2866e-04 - tot_time: 0h 39m 28.6s\n",
      "\n",
      "Epoch 8: val_loss did not improve from 0.00043\n",
      " - saving loss histories at /content/drive/MyDrive/Github/MLROM/CDV/saved_rnn/rnn_008/checkpoints/LossHistoriesCheckpoint\n",
      "638/638 [==============================] - 259s 406ms/step - loss: 4.2866e-04 - val_loss: 4.2963e-04\n",
      "Epoch 9/171\n",
      "638/638 [==============================] - ETA: 0s - loss: 4.2802e-04 - tot_time: 0h 43m 47.7s\n",
      "\n",
      "Epoch 9: val_loss did not improve from 0.00043\n",
      " - saving loss histories at /content/drive/MyDrive/Github/MLROM/CDV/saved_rnn/rnn_008/checkpoints/LossHistoriesCheckpoint\n",
      "638/638 [==============================] - 259s 406ms/step - loss: 4.2802e-04 - val_loss: 4.2940e-04\n",
      "Epoch 10/171\n",
      "638/638 [==============================] - ETA: 0s - loss: 4.2825e-04 - tot_time: 0h 48m 6.2s\n",
      "\n",
      "Epoch 10: val_loss did not improve from 0.00043\n",
      " - saving loss histories at /content/drive/MyDrive/Github/MLROM/CDV/saved_rnn/rnn_008/checkpoints/LossHistoriesCheckpoint\n",
      "638/638 [==============================] - 258s 405ms/step - loss: 4.2825e-04 - val_loss: 4.2788e-04\n",
      "Epoch 11/171\n",
      "638/638 [==============================] - ETA: 0s - loss: 4.2877e-04 - tot_time: 0h 52m 25.0s\n",
      "\n",
      "Epoch 11: val_loss did not improve from 0.00043\n",
      " - saving loss histories at /content/drive/MyDrive/Github/MLROM/CDV/saved_rnn/rnn_008/checkpoints/LossHistoriesCheckpoint\n",
      "638/638 [==============================] - 259s 406ms/step - loss: 4.2877e-04 - val_loss: 4.2677e-04\n",
      "Epoch 12/171\n",
      "638/638 [==============================] - ETA: 0s - loss: 4.3047e-04 - tot_time: 0h 56m 44.5s\n",
      "\n",
      "Epoch 12: val_loss did not improve from 0.00043\n",
      " - saving loss histories at /content/drive/MyDrive/Github/MLROM/CDV/saved_rnn/rnn_008/checkpoints/LossHistoriesCheckpoint\n",
      "638/638 [==============================] - 260s 407ms/step - loss: 4.3047e-04 - val_loss: 4.2654e-04\n",
      "Epoch 13/171\n",
      "638/638 [==============================] - ETA: 0s - loss: 4.2692e-04 - tot_time: 1h 1m 3.3s\n",
      "\n",
      "Epoch 13: val_loss improved from 0.00043 to 0.00043, saving model to /content/drive/MyDrive/Github/MLROM/CDV/saved_rnn/rnn_008/checkpoints/checkpoint\n",
      " - saving loss histories at /content/drive/MyDrive/Github/MLROM/CDV/saved_rnn/rnn_008/checkpoints/LossHistoriesCheckpoint\n",
      "638/638 [==============================] - 259s 406ms/step - loss: 4.2692e-04 - val_loss: 4.2521e-04\n",
      "Epoch 14/171\n",
      "638/638 [==============================] - ETA: 0s - loss: 4.3046e-04 - tot_time: 1h 5m 24.2s\n",
      "\n",
      "Epoch 14: val_loss improved from 0.00043 to 0.00042, saving model to /content/drive/MyDrive/Github/MLROM/CDV/saved_rnn/rnn_008/checkpoints/checkpoint\n",
      " - saving loss histories at /content/drive/MyDrive/Github/MLROM/CDV/saved_rnn/rnn_008/checkpoints/LossHistoriesCheckpoint\n",
      "638/638 [==============================] - 261s 409ms/step - loss: 4.3046e-04 - val_loss: 4.2422e-04\n",
      "Epoch 15/171\n",
      "638/638 [==============================] - ETA: 0s - loss: 4.2775e-04 - tot_time: 1h 9m 41.8s\n",
      "\n",
      "Epoch 15: val_loss did not improve from 0.00042\n",
      " - saving loss histories at /content/drive/MyDrive/Github/MLROM/CDV/saved_rnn/rnn_008/checkpoints/LossHistoriesCheckpoint\n",
      "638/638 [==============================] - 257s 404ms/step - loss: 4.2775e-04 - val_loss: 4.2423e-04\n",
      "Epoch 16/171\n",
      "638/638 [==============================] - ETA: 0s - loss: 4.2489e-04 - tot_time: 1h 13m 59.1s\n",
      "\n",
      "Epoch 16: val_loss did not improve from 0.00042\n",
      " - saving loss histories at /content/drive/MyDrive/Github/MLROM/CDV/saved_rnn/rnn_008/checkpoints/LossHistoriesCheckpoint\n",
      "638/638 [==============================] - 257s 403ms/step - loss: 4.2489e-04 - val_loss: 4.4894e-04\n",
      "Epoch 17/171\n",
      "638/638 [==============================] - ETA: 0s - loss: 4.2500e-04 - tot_time: 1h 18m 16.5s\n",
      "\n",
      "Epoch 17: val_loss did not improve from 0.00042\n",
      " - saving loss histories at /content/drive/MyDrive/Github/MLROM/CDV/saved_rnn/rnn_008/checkpoints/LossHistoriesCheckpoint\n",
      "638/638 [==============================] - 257s 404ms/step - loss: 4.2500e-04 - val_loss: 4.4103e-04\n",
      "Epoch 18/171\n",
      "638/638 [==============================] - ETA: 0s - loss: 4.2376e-04 - tot_time: 1h 22m 36.1s\n",
      "\n",
      "Epoch 18: val_loss improved from 0.00042 to 0.00042, saving model to /content/drive/MyDrive/Github/MLROM/CDV/saved_rnn/rnn_008/checkpoints/checkpoint\n",
      " - saving loss histories at /content/drive/MyDrive/Github/MLROM/CDV/saved_rnn/rnn_008/checkpoints/LossHistoriesCheckpoint\n",
      "638/638 [==============================] - 260s 407ms/step - loss: 4.2376e-04 - val_loss: 4.2277e-04\n",
      "Epoch 19/171\n",
      "638/638 [==============================] - ETA: 0s - loss: 4.2366e-04 - tot_time: 1h 26m 54.8s\n",
      "\n",
      "Epoch 19: val_loss improved from 0.00042 to 0.00042, saving model to /content/drive/MyDrive/Github/MLROM/CDV/saved_rnn/rnn_008/checkpoints/checkpoint\n",
      " - saving loss histories at /content/drive/MyDrive/Github/MLROM/CDV/saved_rnn/rnn_008/checkpoints/LossHistoriesCheckpoint\n",
      "638/638 [==============================] - 259s 405ms/step - loss: 4.2366e-04 - val_loss: 4.1987e-04\n",
      "Epoch 20/171\n",
      "638/638 [==============================] - ETA: 0s - loss: 4.2018e-04Restoring model weights from the end of the best epoch: 14.\n",
      " - tot_time: 1h 31m 12.4s\n",
      "\n",
      "Epoch 20: val_loss did not improve from 0.00042\n",
      " - saving loss histories at /content/drive/MyDrive/Github/MLROM/CDV/saved_rnn/rnn_008/checkpoints/LossHistoriesCheckpoint\n",
      "638/638 [==============================] - 258s 404ms/step - loss: 4.2018e-04 - val_loss: 4.3725e-04\n",
      "Epoch 20: early stopping\n"
     ]
    }
   ],
   "source": [
    "# compiling the network\n",
    "rnn_net.compile(\n",
    "    optimizer=tf.keras.optimizers.Adam(learning_rate=learning_rate_dict['eta_begin']),\n",
    "    loss=losses.MeanSquaredError(),\n",
    "    run_eagerly=False\n",
    ")\n",
    "\n",
    "if behaviour == 'loadCheckpointAndContinueTraining':\n",
    "    # this loads the weights/attributes of the optimizer as well\n",
    "    rnn_net.load_weights(wt_file)\n",
    "\n",
    "if behaviour == 'initialiseAndTrainFromScratch' or behaviour == 'loadCheckpointAndContinueTraining':\n",
    "    # implementing early stopping\n",
    "    baseline = None\n",
    "    if behaviour == 'loadCheckpointAndContinueTraining':\n",
    "        baseline = np.min(val_loss_hist)\n",
    "    early_stopping_cb = tf.keras.callbacks.EarlyStopping(\n",
    "        monitor='val_loss',\n",
    "        patience=patience,\n",
    "        restore_best_weights=True,\n",
    "        verbose=True,\n",
    "        min_delta=min_delta,\n",
    "        baseline=baseline\n",
    "    )\n",
    "    # the below two lines are useless because wait is set to 0 in on_train_begin\n",
    "    # early_stopping_cb.wait = earlystopping_wait\n",
    "    # print('early_stopping_cb.wait : {}\\n'.format(early_stopping_cb.wait))\n",
    "\n",
    "    # time callback for each epoch\n",
    "    timekeeper_cb = mytimecallback()\n",
    "\n",
    "    # model checkpoint callback\n",
    "    dir_name_ckpt = dir_name_rnn+dir_sep+'checkpoints'\n",
    "    if not os.path.isdir(dir_name_ckpt):\n",
    "        os.makedirs(dir_name_ckpt)\n",
    "    checkpoint_cb = tf.keras.callbacks.ModelCheckpoint(\n",
    "        filepath=dir_name_ckpt+dir_sep+'checkpoint',#+'/checkpoint--loss={loss:.4f}--vall_loss={val_loss:.4f}',\n",
    "        monitor='val_loss',\n",
    "        save_best_only=True,\n",
    "        save_weights_only=True,\n",
    "        verbose=2,\n",
    "        initial_value_threshold=baseline,\n",
    "        period=1  # saves every 5 epochs\n",
    "    )\n",
    "\n",
    "    # save losses callback\n",
    "    savelosses_cb = SaveLosses(\n",
    "        filepath=dir_name_ckpt+dir_sep+'LossHistoriesCheckpoint',\n",
    "        val_loss_arr=savelosses_cb_vallossarr,\n",
    "        train_loss_arr=savelosses_cb_trainlossarr,\n",
    "        total_epochs=epochs,\n",
    "        period=1)\n",
    "    \n",
    "    # sigmoid annealing lr schedule\n",
    "    lrschedule_cb = sigmoidWarmupAndDecayLRSchedule(\n",
    "        eta_begin=learning_rate_dict['eta_begin'],\n",
    "        eta_high=learning_rate_dict['eta_high'],\n",
    "        eta_low=learning_rate_dict['eta_low'],\n",
    "        warmup=20,\n",
    "        expected_epochs=50,\n",
    "        g_star=0.999,\n",
    "        f_star=0.001\n",
    "    )\n",
    "\n",
    "    # training the network\n",
    "    savelosses_cb.update_offset(epochs - num_epochs_left)\n",
    "    \n",
    "    history = rnn_net.fit(training_data_rnn_input, training_data_rnn_output,\n",
    "        epochs=num_epochs_left,\n",
    "        batch_size=batch_size,\n",
    "        validation_split=val_split/(train_split+val_split),\n",
    "        callbacks=[early_stopping_cb, timekeeper_cb, checkpoint_cb, savelosses_cb, lrschedule_cb],\n",
    "        verbose=1\n",
    "    )\n",
    "\n",
    "    val_loss_hist.extend(history.history['val_loss'])\n",
    "    train_loss_hist.extend(history.history['loss'])"
   ]
  },
  {
   "cell_type": "code",
   "execution_count": 32,
   "metadata": {
    "colab": {
     "base_uri": "https://localhost:8080/"
    },
    "executionInfo": {
     "elapsed": 26864,
     "status": "ok",
     "timestamp": 1665867111906,
     "user": {
      "displayName": "Rohan Kaushik",
      "userId": "13918477614376051685"
     },
     "user_tz": -120
    },
    "id": "SO7iK4mbneQm",
    "outputId": "eeb72492-975a-43fa-96b4-929ddea3db50"
   },
   "outputs": [
    {
     "name": "stdout",
     "output_type": "stream",
     "text": [
      "160/160 [==============================] - 26s 160ms/step - loss: 4.2377e-04\n"
     ]
    }
   ],
   "source": [
    "if behaviour == 'initialiseAndTrainFromScratch' or behaviour == 'loadCheckpointAndContinueTraining':\n",
    "    test_loss = rnn_net.evaluate(\n",
    "        testing_data_rnn_input, testing_data_rnn_output,\n",
    "    )\n",
    "\n",
    "    save_path = dir_name_rnn+dir_sep+'final_net'\n",
    "\n",
    "    if not os.path.isdir(save_path):\n",
    "        os.makedirs(save_path)\n",
    "\n",
    "\n",
    "    with open(save_path+dir_sep+'losses.txt', 'w') as f:\n",
    "        f.write(str({\n",
    "            'val_loss_hist':val_loss_hist,\n",
    "            'train_loss_hist':train_loss_hist,\n",
    "            'lr_change':lr_change,\n",
    "            'test_loss':test_loss\n",
    "        }))\n",
    "        \n",
    "    if normalize_dataset == True:\n",
    "        with open(save_path+dir_sep+'rnn_normalization.txt', 'w') as f:\n",
    "            f.write(str({\n",
    "                'normalization_arr':normalization_arr\n",
    "            }))\n",
    "\n",
    "    rnn_net.save_everything(\n",
    "        file_name=save_path+dir_sep+'final_net')"
   ]
  },
  {
   "cell_type": "code",
   "execution_count": 33,
   "metadata": {
    "colab": {
     "base_uri": "https://localhost:8080/",
     "height": 282
    },
    "executionInfo": {
     "elapsed": 832,
     "status": "ok",
     "timestamp": 1665867112730,
     "user": {
      "displayName": "Rohan Kaushik",
      "userId": "13918477614376051685"
     },
     "user_tz": -120
    },
    "id": "nDv5D8APneQm",
    "outputId": "5c51527f-c5e4-45b1-d6e8-f36820cbd362"
   },
   "outputs": [
    {
     "data": {
      "image/png": "[encoded data removed]",
      "text/plain": [
       "<Figure size 432x288 with 1 Axes>"
      ]
     },
     "metadata": {
      "needs_background": "light"
     },
     "output_type": "display_data"
    }
   ],
   "source": [
    "# plotting losses\n",
    "\n",
    "# Visualize loss history\n",
    "fig, ax = plot_losses(\n",
    "    training_loss=train_loss_hist,\n",
    "    val_loss=val_loss_hist,\n",
    "    lr_change=lr_change,\n",
    "    learning_rate_list=None\n",
    ")\n",
    "\n",
    "plt.savefig(dir_name_rnn+'{ds}plots{ds}loss_history.png'.format(ds=dir_sep), dpi=300, bbox_inches='tight')\n",
    "plt.show()\n"
   ]
  },
  {
   "cell_type": "code",
   "execution_count": 42,
   "metadata": {
    "colab": {
     "base_uri": "https://localhost:8080/",
     "height": 679
    },
    "executionInfo": {
     "elapsed": 1385,
     "status": "ok",
     "timestamp": 1665867256907,
     "user": {
      "displayName": "Rohan Kaushik",
      "userId": "13918477614376051685"
     },
     "user_tz": -120
    },
    "id": "dbLa0AwlDBWh",
    "outputId": "a38f1b87-601d-4b32-d0d5-8656cefb7f04"
   },
   "outputs": [
    {
     "name": "stdout",
     "output_type": "stream",
     "text": [
      "data_idx : 3662\n",
      "1/1 [==============================] - 0s 169ms/step\n"
     ]
    },
    {
     "data": {
      "text/plain": [
       "Text(0.5, 1.0, 'Latent States')"
      ]
     },
     "execution_count": 42,
     "metadata": {},
     "output_type": "execute_result"
    },
    {
     "data": {
      "image/png": "[encoded data removed]",
      "text/plain": [
       "<Figure size 540x720 with 4 Axes>"
      ]
     },
     "metadata": {
      "needs_background": "light"
     },
     "output_type": "display_data"
    }
   ],
   "source": [
    "# data_type = 'training'\n",
    "data_type = 'testing'\n",
    "\n",
    "data_in = eval(data_type+'_data_rnn_input')\n",
    "data_out = eval(data_type+'_data_rnn_output')\n",
    "\n",
    "data_idx = np.arange(data_in.shape[0])\n",
    "np.random.shuffle(data_idx)\n",
    "data_idx = data_idx[0]\n",
    "# data_idx = 3788\n",
    "print('data_idx : {}'.format(data_idx))\n",
    "\n",
    "# data_in = data_in[data_idx]\n",
    "data_out = data_out[data_idx]\n",
    "\n",
    "prediction = rnn_net.predict(data_in[data_idx:data_idx+1, :, :])\n",
    "\n",
    "n = 1\n",
    "num_latent_states = data_out.shape[-1]\n",
    "N = data_out.shape[0]\n",
    "\n",
    "num_cols = 1\n",
    "num_rows = n*num_latent_states\n",
    "\n",
    "ax_ylabels = ['$x^*_1$', '$x^*_2$', '$x^*_3$', '$x^*_4$', '$x^*_5$', '$x^*_6$']\n",
    "\n",
    "fig, ax = plt.subplots(num_latent_states, 1, sharex=True, figsize=(7.5*num_cols, 2.5*num_rows))\n",
    "if num_latent_states == 1:\n",
    "    ax = [ax]\n",
    "input_time = np.arange(0, N)*dt_rnn/30\n",
    "\n",
    "cmap = plt.get_cmap('jet')\n",
    "colors = [cmap(i) for i in np.linspace(0, 1, 2*n)]\n",
    "\n",
    "prev_idx = 0\n",
    "\n",
    "mpl_ax_artist_list = []\n",
    "for j in range(num_latent_states):\n",
    "    for i in range(n):\n",
    "        obj_in = ax[j].plot(input_time, data_out[:, j], linewidth=1, color=colors[2*i], label='Case {} - actual data'.format(i+1))\n",
    "        obj_out = ax[j].plot(input_time, prediction[0, :, j], linewidth=1, color=colors[2*i+1], label='Case {} - predicted data'.format(i+1))\n",
    "        mpl_ax_artist_list.append(obj_in[0])\n",
    "        mpl_ax_artist_list.append(obj_out[0])\n",
    "    ax[j].set_ylabel(ax_ylabels[j])\n",
    "    # if xlim is not None:\n",
    "    #     ax[j].set_xlim(xlim)\n",
    "    # if ylim is not None:\n",
    "    #     ax[j].set_ylim(ylim)\n",
    "    ax[j].grid(True)\n",
    "    ax[j].set_axisbelow(True)\n",
    "\n",
    "\n",
    "ax[-1].set_xlabel('Time$^+$')\n",
    "\n",
    "max_rows = 10\n",
    "max_rows = float(max_rows)\n",
    "ncols = int(np.ceil(len(boundary_idx_arr) / max_rows))\n",
    "# plt.figlegend(\n",
    "#     handles=mpl_ax_artist_list[0:n],\n",
    "#     # bbox_to_anchor=[1.1,0.85],\n",
    "#     loc=legend_loc,\n",
    "#     bbox_to_anchor=legend_bbox_to_anchor,\n",
    "#     ncol=ncols,\n",
    "#     markerscale=legend_markerscale\n",
    "# )\n",
    "ax[0].legend(\n",
    "    # handles=mpl_ax_artist_list[0:n],\n",
    "    # bbox_to_anchor=[1.1,0.85],\n",
    "    loc='best',\n",
    "    # bbox_to_anchor=legend_bbox_to_anchor,\n",
    "    ncol=ncols,\n",
    "    # markerscale=legend_markerscale\n",
    ")\n",
    "# fig.suptitle(r'Latent States', size=12)\n",
    "ax[0].set_title(r'Latent States', size=12)\n",
    "# plt.savefig('AR-GRU.png', dpi=300, bbox_inches='tight')"
   ]
  },
  {
   "cell_type": "code",
   "execution_count": 35,
   "metadata": {
    "colab": {
     "base_uri": "https://localhost:8080/"
    },
    "executionInfo": {
     "elapsed": 31,
     "status": "ok",
     "timestamp": 1665867133618,
     "user": {
      "displayName": "Rohan Kaushik",
      "userId": "13918477614376051685"
     },
     "user_tz": -120
    },
    "id": "MDopQ4JMhRPV",
    "outputId": "c0ddcc1d-02a1-448b-de95-e80c7fbede29"
   },
   "outputs": [
    {
     "data": {
      "text/plain": [
       "(1, 900, 4)"
      ]
     },
     "execution_count": 35,
     "metadata": {},
     "output_type": "execute_result"
    }
   ],
   "source": [
    "# prediction.shape\n",
    "testing_data_rnn_input[data_idx:data_idx+1, :, :].shape"
   ]
  },
  {
   "cell_type": "code",
   "execution_count": 35,
   "metadata": {
    "executionInfo": {
     "elapsed": 29,
     "status": "ok",
     "timestamp": 1665867133619,
     "user": {
      "displayName": "Rohan Kaushik",
      "userId": "13918477614376051685"
     },
     "user_tz": -120
    },
    "id": "2_fAlJz2Vdev"
   },
   "outputs": [],
   "source": []
  }
 ],
 "metadata": {
  "accelerator": "GPU",
  "colab": {
   "collapsed_sections": [],
   "provenance": []
  },
  "gpuClass": "standard",
  "kernelspec": {
   "display_name": "Python 3 (ipykernel)",
   "language": "python",
   "name": "python3"
  },
  "language_info": {
   "codemirror_mode": {
    "name": "ipython",
    "version": 3
   },
   "file_extension": ".py",
   "mimetype": "text/x-python",
   "name": "python",
   "nbconvert_exporter": "python",
   "pygments_lexer": "ipython3",
   "version": "3.10.6"
  }
 },
 "nbformat": 4,
 "nbformat_minor": 1
}
