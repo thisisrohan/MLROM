{
 "cells": [
  {
   "cell_type": "code",
   "execution_count": 1,
   "metadata": {
    "executionInfo": {
     "elapsed": 6,
     "status": "ok",
     "timestamp": 1665443566072,
     "user": {
      "displayName": "Rohan Kaushik",
      "userId": "13918477614376051685"
     },
     "user_tz": -120
    },
    "id": "4xhxMpe_r-Y5"
   },
   "outputs": [],
   "source": [
    "# enabling 3rd party widgets\n",
    "# from google.colab import output\n",
    "# output.enable_custom_widget_manager()\n",
    "# output.disable_custom_widget_manager()\n",
    "\n",
    "# interactive 3D plot\n",
    "# !pip install ipympl\n",
    "# %matplotlib widget"
   ]
  },
  {
   "cell_type": "code",
   "execution_count": 2,
   "metadata": {
    "executionInfo": {
     "elapsed": 2609,
     "status": "ok",
     "timestamp": 1665443568677,
     "user": {
      "displayName": "Rohan Kaushik",
      "userId": "13918477614376051685"
     },
     "user_tz": -120
    },
    "id": "a5qPupCDsjSz"
   },
   "outputs": [],
   "source": [
    "import os\n",
    "import math\n",
    "from collections import OrderedDict\n",
    "import numpy as np\n",
    "import matplotlib.pyplot as plt\n",
    "from scipy import linalg\n",
    "\n",
    "import time as time\n",
    "import platform as platform\n",
    "\n",
    "import tensorflow as tf\n",
    "from tensorflow.keras import layers, losses\n",
    "from tensorflow.keras.models import Model\n",
    "from tensorflow.keras import backend as K\n",
    "from tensorflow.keras.regularizers import L2\n",
    "import h5py"
   ]
  },
  {
   "cell_type": "code",
   "execution_count": 3,
   "metadata": {
    "executionInfo": {
     "elapsed": 13,
     "status": "ok",
     "timestamp": 1665443568677,
     "user": {
      "displayName": "Rohan Kaushik",
      "userId": "13918477614376051685"
     },
     "user_tz": -120
    },
    "id": "BiLIUmBPneQR"
   },
   "outputs": [],
   "source": [
    "current_sys = platform.system()\n",
    "\n",
    "if current_sys == 'Windows':\n",
    "    dir_sep = '\\\\'\n",
    "else:\n",
    "    dir_sep = '/'"
   ]
  },
  {
   "cell_type": "code",
   "execution_count": 4,
   "metadata": {
    "colab": {
     "base_uri": "https://localhost:8080/"
    },
    "executionInfo": {
     "elapsed": 1623,
     "status": "ok",
     "timestamp": 1665443570291,
     "user": {
      "displayName": "Rohan Kaushik",
      "userId": "13918477614376051685"
     },
     "user_tz": -120
    },
    "id": "fnTV6Anhni6O",
    "outputId": "8e1c481f-0c2c-4bbd-df4a-e59d20d1bec4"
   },
   "outputs": [],
   "source": [
    "# from google.colab import drive\n",
    "# drive.mount('/content/drive')"
   ]
  },
  {
   "cell_type": "code",
   "execution_count": 5,
   "metadata": {
    "colab": {
     "base_uri": "https://localhost:8080/"
    },
    "executionInfo": {
     "elapsed": 11,
     "status": "ok",
     "timestamp": 1665443570292,
     "user": {
      "displayName": "Rohan Kaushik",
      "userId": "13918477614376051685"
     },
     "user_tz": -120
    },
    "id": "paDfPOrjnkAS",
    "outputId": "628c3bfb-64ba-4396-8308-30b63cb6b828"
   },
   "outputs": [
    {
     "name": "stdout",
     "output_type": "stream",
     "text": [
      "/home/rkaushik/Documents/Thesis/MLROM/CDV\n"
     ]
    }
   ],
   "source": [
    "# import os\n",
    "# os.chdir('/content/drive/MyDrive/Github/MLROM/CDV/')\n",
    "print(os.getcwd())"
   ]
  },
  {
   "cell_type": "code",
   "execution_count": 6,
   "metadata": {
    "executionInfo": {
     "elapsed": 7,
     "status": "ok",
     "timestamp": 1665443570292,
     "user": {
      "displayName": "Rohan Kaushik",
      "userId": "13918477614376051685"
     },
     "user_tz": -120
    },
    "id": "P6K2YWlR6ZPD"
   },
   "outputs": [],
   "source": [
    "from tools.misc_tools import create_CDV_data, create_data_for_RNN, mytimecallback, SaveLosses, plot_losses, plot_reconstructed_data_cdv, plot_latent_states_cdv, readAndReturnLossHistories, sigmoidWarmupAndDecayLRSchedule\n",
    "from tools.ae_v3 import Autoencoder\n",
    "from tools.GRU_SingleStep_v4 import RNN_GRU"
   ]
  },
  {
   "cell_type": "code",
   "execution_count": 7,
   "metadata": {
    "executionInfo": {
     "elapsed": 7,
     "status": "ok",
     "timestamp": 1665443570293,
     "user": {
      "displayName": "Rohan Kaushik",
      "userId": "13918477614376051685"
     },
     "user_tz": -120
    },
    "id": "_xtkwXE2tGTP"
   },
   "outputs": [],
   "source": [
    "behaviour = 'initialiseAndTrainFromScratch'\n",
    "# behaviour = 'loadCheckpointAndContinueTraining'\n",
    "# behaviour = 'loadFinalNetAndPlot'"
   ]
  },
  {
   "cell_type": "code",
   "execution_count": 8,
   "metadata": {
    "executionInfo": {
     "elapsed": 7,
     "status": "ok",
     "timestamp": 1665443570293,
     "user": {
      "displayName": "Rohan Kaushik",
      "userId": "13918477614376051685"
     },
     "user_tz": -120
    },
    "id": "8S1AHEkl48bn"
   },
   "outputs": [],
   "source": [
    "# setting seed for PRNGs\n",
    "if behaviour == 'initialiseAndTrainFromScratch':\n",
    "    prng_seed = 42\n",
    "    np.random.seed(prng_seed)\n",
    "    tf.random.set_seed(prng_seed)"
   ]
  },
  {
   "cell_type": "code",
   "execution_count": 9,
   "metadata": {},
   "outputs": [
    {
     "name": "stdout",
     "output_type": "stream",
     "text": [
      "[PhysicalDevice(name='/physical_device:GPU:0', device_type='GPU'), PhysicalDevice(name='/physical_device:GPU:1', device_type='GPU')]\n",
      "[LogicalDevice(name='/device:GPU:0', device_type='GPU')]\n"
     ]
    },
    {
     "name": "stderr",
     "output_type": "stream",
     "text": [
      "2022-10-12 01:21:13.105094: I tensorflow/stream_executor/cuda/cuda_gpu_executor.cc:936] successful NUMA node read from SysFS had negative value (-1), but there must be at least one NUMA node, so returning NUMA node zero\n",
      "2022-10-12 01:21:13.105324: I tensorflow/stream_executor/cuda/cuda_gpu_executor.cc:936] successful NUMA node read from SysFS had negative value (-1), but there must be at least one NUMA node, so returning NUMA node zero\n",
      "2022-10-12 01:21:13.138697: I tensorflow/stream_executor/cuda/cuda_gpu_executor.cc:936] successful NUMA node read from SysFS had negative value (-1), but there must be at least one NUMA node, so returning NUMA node zero\n",
      "2022-10-12 01:21:13.138947: I tensorflow/stream_executor/cuda/cuda_gpu_executor.cc:936] successful NUMA node read from SysFS had negative value (-1), but there must be at least one NUMA node, so returning NUMA node zero\n",
      "2022-10-12 01:21:13.139225: I tensorflow/stream_executor/cuda/cuda_gpu_executor.cc:936] successful NUMA node read from SysFS had negative value (-1), but there must be at least one NUMA node, so returning NUMA node zero\n",
      "2022-10-12 01:21:13.139400: I tensorflow/stream_executor/cuda/cuda_gpu_executor.cc:936] successful NUMA node read from SysFS had negative value (-1), but there must be at least one NUMA node, so returning NUMA node zero\n",
      "2022-10-12 01:21:13.140285: I tensorflow/core/platform/cpu_feature_guard.cc:151] This TensorFlow binary is optimized with oneAPI Deep Neural Network Library (oneDNN) to use the following CPU instructions in performance-critical operations:  SSE4.1 SSE4.2 AVX AVX2 FMA\n",
      "To enable them in other operations, rebuild TensorFlow with the appropriate compiler flags.\n",
      "2022-10-12 01:21:13.140771: I tensorflow/stream_executor/cuda/cuda_gpu_executor.cc:936] successful NUMA node read from SysFS had negative value (-1), but there must be at least one NUMA node, so returning NUMA node zero\n",
      "2022-10-12 01:21:13.141056: I tensorflow/stream_executor/cuda/cuda_gpu_executor.cc:936] successful NUMA node read from SysFS had negative value (-1), but there must be at least one NUMA node, so returning NUMA node zero\n",
      "2022-10-12 01:21:13.141347: I tensorflow/stream_executor/cuda/cuda_gpu_executor.cc:936] successful NUMA node read from SysFS had negative value (-1), but there must be at least one NUMA node, so returning NUMA node zero\n",
      "2022-10-12 01:21:13.682170: I tensorflow/stream_executor/cuda/cuda_gpu_executor.cc:936] successful NUMA node read from SysFS had negative value (-1), but there must be at least one NUMA node, so returning NUMA node zero\n",
      "2022-10-12 01:21:13.682384: I tensorflow/stream_executor/cuda/cuda_gpu_executor.cc:936] successful NUMA node read from SysFS had negative value (-1), but there must be at least one NUMA node, so returning NUMA node zero\n",
      "2022-10-12 01:21:13.682571: I tensorflow/stream_executor/cuda/cuda_gpu_executor.cc:936] successful NUMA node read from SysFS had negative value (-1), but there must be at least one NUMA node, so returning NUMA node zero\n",
      "2022-10-12 01:21:13.682724: I tensorflow/core/common_runtime/gpu/gpu_device.cc:1525] Created device /job:localhost/replica:0/task:0/device:GPU:0 with 3369 MB memory:  -> device: 1, name: Quadro K2200, pci bus id: 0000:03:00.0, compute capability: 5.0\n"
     ]
    }
   ],
   "source": [
    "gpus = tf.config.list_physical_devices('GPU')\n",
    "print(gpus)\n",
    "\n",
    "if gpus:\n",
    "    gpu_to_use = 1\n",
    "#     try:\n",
    "    tf.config.set_visible_devices(gpus[gpu_to_use], 'GPU')\n",
    "    logical_devices = tf.config.list_logical_devices('GPU')\n",
    "    print(logical_devices)\n",
    "#     except:\n",
    "#         # Invalid device or cannot modify virtual devices once initialized.\n",
    "#         print('failed')\n",
    "#         pass\n"
   ]
  },
  {
   "cell_type": "code",
   "execution_count": 10,
   "metadata": {
    "colab": {
     "base_uri": "https://localhost:8080/"
    },
    "executionInfo": {
     "elapsed": 4,
     "status": "ok",
     "timestamp": 1665443571098,
     "user": {
      "displayName": "Rohan Kaushik",
      "userId": "13918477614376051685"
     },
     "user_tz": -120
    },
    "id": "tc3zO9xL_tNl",
    "outputId": "5b5654f2-1a69-4ba9-d2fa-b4797fdefe7f"
   },
   "outputs": [
    {
     "name": "stdout",
     "output_type": "stream",
     "text": [
      "[PhysicalDevice(name='/physical_device:CPU:0', device_type='CPU'), PhysicalDevice(name='/physical_device:GPU:0', device_type='GPU'), PhysicalDevice(name='/physical_device:GPU:1', device_type='GPU')]\n",
      "[LogicalDevice(name='/device:CPU:0', device_type='CPU'), LogicalDevice(name='/device:GPU:0', device_type='GPU')]\n",
      "2.8.1\n"
     ]
    }
   ],
   "source": [
    "# print(tf.test.gpu_device_name())\n",
    "print(tf.config.list_physical_devices())\n",
    "print(tf.config.list_logical_devices())\n",
    "print(tf.__version__)"
   ]
  },
  {
   "cell_type": "markdown",
   "metadata": {
    "id": "7UbdnOtc4_z9"
   },
   "source": [
    "# CDV System"
   ]
  },
  {
   "cell_type": "code",
   "execution_count": null,
   "metadata": {
    "executionInfo": {
     "elapsed": 6,
     "status": "ok",
     "timestamp": 1665443571899,
     "user": {
      "displayName": "Rohan Kaushik",
      "userId": "13918477614376051685"
     },
     "user_tz": -120
    },
    "id": "8aNkoXfyGq52"
   },
   "outputs": [],
   "source": []
  },
  {
   "cell_type": "code",
   "execution_count": 11,
   "metadata": {
    "executionInfo": {
     "elapsed": 6,
     "status": "ok",
     "timestamp": 1665443571900,
     "user": {
      "displayName": "Rohan Kaushik",
      "userId": "13918477614376051685"
     },
     "user_tz": -120
    },
    "id": "O7sl7i5H5Dqz"
   },
   "outputs": [],
   "source": [
    "# setting up params (and saving, if applicable)\n",
    "from numpy import *\n",
    "\n",
    "if behaviour == 'initialiseAndTrainFromScratch':\n",
    "    # making RNN save directory\n",
    "    dir_name_rnn = os.getcwd() + dir_sep + 'saved_rnn'\n",
    "    if not os.path.isdir(dir_name_rnn):\n",
    "        os.makedirs(dir_name_rnn)\n",
    "\n",
    "    counter = 0\n",
    "    while True:\n",
    "        dir_check = 'rnn_' + str(counter).zfill(3)\n",
    "        if os.path.isdir(dir_name_rnn + dir_sep + dir_check):\n",
    "            counter += 1\n",
    "        else:\n",
    "            break\n",
    "\n",
    "    dir_name_rnn = dir_name_rnn + dir_sep + dir_check\n",
    "    os.makedirs(dir_name_rnn)\n",
    "    os.makedirs(dir_name_rnn+dir_sep+'plots')\n",
    "\n",
    "    # autoencoder directory\n",
    "    ae_idx = '001'\n",
    "    dir_name_ae = os.getcwd()+'{ds}saved_ae{ds}ae_'.format(ds=dir_sep)+ae_idx\n",
    "\n",
    "    # reading simulation parameters\n",
    "    with open(dir_name_ae + dir_sep + 'sim_data_params.txt') as f:\n",
    "        lines = f.readlines()\n",
    "\n",
    "    params_dict = eval(''.join(lines))\n",
    "\n",
    "    params_mat = params_dict['params_mat']\n",
    "\n",
    "    init_state = params_dict['init_state']\n",
    "\n",
    "    t0 = params_dict['t0']\n",
    "    T = params_dict['T']\n",
    "    delta_t = params_dict['delta_t']\n",
    "\n",
    "    return_params_arr = params_dict['return_params_arr']\n",
    "    normalize_flag = params_dict['normalize_flag']\n",
    "else:\n",
    "    # RNN directory\n",
    "    dir_name_rnn = os.getcwd()+'/saved_rnn/rnn_003'\n",
    "\n",
    "    # reading simulation parameters\n",
    "    with open(dir_name_rnn + '/sim_data_AE_params.txt') as f:\n",
    "        lines = f.readlines()\n",
    "\n",
    "    params_dict = eval(''.join(lines))\n",
    "\n",
    "    dir_name_ae = params_dict['dir_name_ae']\n",
    "    ae_idx = dir_name_ae[-3:]\n",
    "\n",
    "    params_mat = params_dict['params_mat']\n",
    "\n",
    "    init_state = params_dict['init_state']\n",
    "\n",
    "    t0 = params_dict['t0']\n",
    "    T = params_dict['T']\n",
    "    delta_t = params_dict['delta_t']\n",
    "\n",
    "    return_params_arr = params_dict['return_params_arr']\n",
    "    normalize_flag = params_dict['normalize_flag']\n",
    "\n",
    "    # reading RNN paramaters\n",
    "    with open(dir_name_rnn + '/RNN_specific_data.txt') as f:\n",
    "        lines = f.readlines()\n",
    "\n",
    "    params_rnn_dict = eval(''.join(lines))\n",
    "\n",
    "    dt_rnn = params_rnn_dict['dt_rnn']\n",
    "    T_sample_input = params_rnn_dict['T_sample_input']\n",
    "    T_sample_output = params_rnn_dict['T_sample_output']\n",
    "    T_offset = params_rnn_dict['T_offset']\n",
    "    return_params_arr = params_rnn_dict['return_params_arr']\n",
    "    params = params_rnn_dict['params']\n",
    "    try:\n",
    "        normalize_dataset = params_rnn_dict['normalize_dataset']\n",
    "    except:\n",
    "        print(\"'normalize_dataset' not present in RNN_specific_data, set to False.\")\n",
    "        normalize_dataset = False"
   ]
  },
  {
   "cell_type": "code",
   "execution_count": null,
   "metadata": {
    "executionInfo": {
     "elapsed": 5,
     "status": "ok",
     "timestamp": 1665443571900,
     "user": {
      "displayName": "Rohan Kaushik",
      "userId": "13918477614376051685"
     },
     "user_tz": -120
    },
    "id": "ySVDz_2U5FH5"
   },
   "outputs": [],
   "source": []
  },
  {
   "cell_type": "code",
   "execution_count": null,
   "metadata": {
    "executionInfo": {
     "elapsed": 6,
     "status": "ok",
     "timestamp": 1665443571901,
     "user": {
      "displayName": "Rohan Kaushik",
      "userId": "13918477614376051685"
     },
     "user_tz": -120
    },
    "id": "bkQx9q_p5Gro"
   },
   "outputs": [],
   "source": []
  },
  {
   "cell_type": "code",
   "execution_count": 12,
   "metadata": {
    "executionInfo": {
     "elapsed": 75045,
     "status": "ok",
     "timestamp": 1665443646941,
     "user": {
      "displayName": "Rohan Kaushik",
      "userId": "13918477614376051685"
     },
     "user_tz": -120
    },
    "id": "uDhfYHU45IS8"
   },
   "outputs": [],
   "source": [
    "res_dict = create_CDV_data(\n",
    "    T, t0, delta_t,\n",
    "    params_mat,\n",
    "    init_state, return_params_arr=return_params_arr,\n",
    "    normalize=normalize_flag\n",
    ")\n",
    "\n",
    "all_data = res_dict['all_data']\n",
    "N = res_dict['N']\n",
    "boundary_idx_arr = res_dict['boundary_idx_arr']\n",
    "\n",
    "if return_params_arr == True:\n",
    "    params_arr = res_dict['params_arr']\n",
    "\n",
    "if normalize_flag == True:\n",
    "    normalization_constant_arr = res_dict['normalization_constant_arr']"
   ]
  },
  {
   "cell_type": "code",
   "execution_count": 13,
   "metadata": {
    "executionInfo": {
     "elapsed": 16,
     "status": "ok",
     "timestamp": 1665443646942,
     "user": {
      "displayName": "Rohan Kaushik",
      "userId": "13918477614376051685"
     },
     "user_tz": -120
    },
    "id": "-MJa7P5t5KiC",
    "scrolled": true
   },
   "outputs": [],
   "source": [
    "n = len(boundary_idx_arr)"
   ]
  },
  {
   "cell_type": "markdown",
   "metadata": {
    "id": "1v6KQEjR5LkK"
   },
   "source": [
    "# Autoencoder"
   ]
  },
  {
   "cell_type": "code",
   "execution_count": 14,
   "metadata": {
    "executionInfo": {
     "elapsed": 15,
     "status": "ok",
     "timestamp": 1665443646944,
     "user": {
      "displayName": "Rohan Kaushik",
      "userId": "13918477614376051685"
     },
     "user_tz": -120
    },
    "id": "IjsRi02g5ORG"
   },
   "outputs": [],
   "source": [
    "# from tools.ae_v3 import Autoencoder"
   ]
  },
  {
   "cell_type": "code",
   "execution_count": 15,
   "metadata": {
    "executionInfo": {
     "elapsed": 15,
     "status": "ok",
     "timestamp": 1665443646946,
     "user": {
      "displayName": "Rohan Kaushik",
      "userId": "13918477614376051685"
     },
     "user_tz": -120
    },
    "id": "ZBTJl9PeneQb"
   },
   "outputs": [],
   "source": [
    "# load_file = dir_name_ae+dir_sep+'new_class_data'+dir_sep+'ae_'+ae_idx+'_class_dict.txt'\n",
    "# wt_file = dir_name_ae+dir_sep+'new_class_data'+dir_sep+'ae_'+ae_idx+'_ae_weights.h5'\n",
    "\n",
    "dir_name_ae_og = dir_name_ae\n",
    "dir_name_ae_temp = '/home/rkaushik/Documents/Thesis/MLROM/CDV/saved_ae/ae_'+ae_idx\n",
    "dir_name_ae = dir_name_ae_temp\n",
    "\n",
    "load_file = dir_name_ae+dir_sep+'final_net'+dir_sep+'final_net_class_dict.txt'\n",
    "wt_file = dir_name_ae+dir_sep+'final_net'+dir_sep+'final_net_ae_weights.h5'\n",
    "\n",
    "dir_name_ae = dir_name_ae_og"
   ]
  },
  {
   "cell_type": "code",
   "execution_count": 16,
   "metadata": {
    "executionInfo": {
     "elapsed": 1007,
     "status": "ok",
     "timestamp": 1665443647939,
     "user": {
      "displayName": "Rohan Kaushik",
      "userId": "13918477614376051685"
     },
     "user_tz": -120
    },
    "id": "a3Pq-qorneQb"
   },
   "outputs": [],
   "source": [
    "ae_net = Autoencoder(12, load_file=load_file)\n",
    "ae_net.load_weights_from_file(wt_file)"
   ]
  },
  {
   "cell_type": "code",
   "execution_count": null,
   "metadata": {
    "executionInfo": {
     "elapsed": 9,
     "status": "ok",
     "timestamp": 1665443647939,
     "user": {
      "displayName": "Rohan Kaushik",
      "userId": "13918477614376051685"
     },
     "user_tz": -120
    },
    "id": "wwt4brHcOaXi"
   },
   "outputs": [],
   "source": []
  },
  {
   "cell_type": "code",
   "execution_count": null,
   "metadata": {
    "executionInfo": {
     "elapsed": 7,
     "status": "ok",
     "timestamp": 1665443647940,
     "user": {
      "displayName": "Rohan Kaushik",
      "userId": "13918477614376051685"
     },
     "user_tz": -120
    },
    "id": "Zl6ZvgtNtA_u",
    "scrolled": true
   },
   "outputs": [],
   "source": []
  },
  {
   "cell_type": "code",
   "execution_count": null,
   "metadata": {
    "executionInfo": {
     "elapsed": 6,
     "status": "ok",
     "timestamp": 1665443647941,
     "user": {
      "displayName": "Rohan Kaushik",
      "userId": "13918477614376051685"
     },
     "user_tz": -120
    },
    "id": "lXpoaKRIneQc"
   },
   "outputs": [],
   "source": []
  },
  {
   "cell_type": "code",
   "execution_count": 17,
   "metadata": {
    "executionInfo": {
     "elapsed": 10305,
     "status": "ok",
     "timestamp": 1665443658241,
     "user": {
      "displayName": "Rohan Kaushik",
      "userId": "13918477614376051685"
     },
     "user_tz": -120
    },
    "id": "Q3a8HHyvneQc"
   },
   "outputs": [],
   "source": [
    "# create data\n",
    "latent_states_all = ae_net.encoder_net.predict(all_data)\n",
    "num_latent_states = latent_states_all.shape[1]"
   ]
  },
  {
   "cell_type": "code",
   "execution_count": 18,
   "metadata": {
    "colab": {
     "base_uri": "https://localhost:8080/",
     "height": 622
    },
    "executionInfo": {
     "elapsed": 1488,
     "status": "ok",
     "timestamp": 1665443659720,
     "user": {
      "displayName": "Rohan Kaushik",
      "userId": "13918477614376051685"
     },
     "user_tz": -120
    },
    "id": "wjgPNitSrt5p",
    "outputId": "4549dd6b-67db-4231-d47b-cbbdedf3f613"
   },
   "outputs": [
    {
     "data": {
      "image/png": "[encoded data removed]",
      "text/plain": [
       "<Figure size 750x1000 with 4 Axes>"
      ]
     },
     "metadata": {},
     "output_type": "display_data"
    }
   ],
   "source": [
    "fig, ax = plot_latent_states_cdv(\n",
    "    boundary_idx_arr,\n",
    "    latent_states_all,\n",
    "    all_data,\n",
    "    delta_t,\n",
    "    params_mat,\n",
    "    # xlim=[-1,1],\n",
    "    ylim=[-1,1],\n",
    "    cmap_name='gist_rainbow',\n",
    "    legend_markerscale=10,\n",
    "    legend_bbox_to_anchor=[1,1],\n",
    "    save_config_path=None\n",
    ")"
   ]
  },
  {
   "cell_type": "code",
   "execution_count": 19,
   "metadata": {
    "executionInfo": {
     "elapsed": 42,
     "status": "ok",
     "timestamp": 1665443659721,
     "user": {
      "displayName": "Rohan Kaushik",
      "userId": "13918477614376051685"
     },
     "user_tz": -120
    },
    "id": "wnLnqg0Jrt5t"
   },
   "outputs": [],
   "source": [
    "# for i in range(ae_net.layers):\n",
    "#     tf.keras.utils.plot_model(\n",
    "#         ae_net.layers[i],\n",
    "#         to_file=dir_name_ae+'/plots/netlayer_{}.png'.format(i),\n",
    "#         show_shapes=True,\n",
    "#         dpi=300\n",
    "# )"
   ]
  },
  {
   "cell_type": "code",
   "execution_count": null,
   "metadata": {
    "executionInfo": {
     "elapsed": 35,
     "status": "ok",
     "timestamp": 1665443659723,
     "user": {
      "displayName": "Rohan Kaushik",
      "userId": "13918477614376051685"
     },
     "user_tz": -120
    },
    "id": "BOJE8vREtque"
   },
   "outputs": [],
   "source": []
  },
  {
   "cell_type": "code",
   "execution_count": null,
   "metadata": {
    "executionInfo": {
     "elapsed": 36,
     "status": "ok",
     "timestamp": 1665443659725,
     "user": {
      "displayName": "Rohan Kaushik",
      "userId": "13918477614376051685"
     },
     "user_tz": -120
    },
    "id": "fwjcsAxKneQe"
   },
   "outputs": [],
   "source": []
  },
  {
   "cell_type": "code",
   "execution_count": null,
   "metadata": {
    "executionInfo": {
     "elapsed": 36,
     "status": "ok",
     "timestamp": 1665443659726,
     "user": {
      "displayName": "Rohan Kaushik",
      "userId": "13918477614376051685"
     },
     "user_tz": -120
    },
    "id": "aFd7XgwVneQe"
   },
   "outputs": [],
   "source": []
  },
  {
   "cell_type": "markdown",
   "metadata": {
    "id": "8IAcFjRRn_IQ"
   },
   "source": [
    "# GRU"
   ]
  },
  {
   "cell_type": "code",
   "execution_count": 20,
   "metadata": {
    "executionInfo": {
     "elapsed": 35,
     "status": "ok",
     "timestamp": 1665443659727,
     "user": {
      "displayName": "Rohan Kaushik",
      "userId": "13918477614376051685"
     },
     "user_tz": -120
    },
    "id": "lPVqWNwjoAGP"
   },
   "outputs": [],
   "source": [
    "if behaviour == 'initialiseAndTrainFromScratch':\n",
    "    # RNN data parameters\n",
    "    dt_rnn = 0.1\n",
    "    T_sample_input = 60\n",
    "    T_sample_output = 60\n",
    "    T_offset = dt_rnn\n",
    "    normalize_dataset = True # whether the data for the RNN should be normalized by the dataset's mean and std\n",
    "    if return_params_arr != False:\n",
    "        params = params_arr\n",
    "    else:\n",
    "        params = None\n",
    "\n",
    "    # saving simulation data\n",
    "    sim_data = {\n",
    "        'params_mat':params_mat,\n",
    "        'init_state':init_state,\n",
    "        't0':t0,\n",
    "        'T':T,\n",
    "        'delta_t':delta_t,\n",
    "        'return_params_arr':return_params_arr,\n",
    "        'dir_name_ae':dir_name_ae,\n",
    "        'normalize_flag':normalize_flag,\n",
    "    }\n",
    "\n",
    "\n",
    "    with open(dir_name_rnn+dir_sep+'sim_data_AE_params.txt', 'w') as f:\n",
    "        f.write(str(sim_data))\n",
    "        \n",
    "    # saving RNN specific data\n",
    "    RNN_specific_data = {\n",
    "        'dt_rnn':dt_rnn,\n",
    "        'T_sample_input':T_sample_input,\n",
    "        'T_sample_output':T_sample_output,\n",
    "        'T_offset':T_offset,\n",
    "        'N':N,\n",
    "        'boundary_idx_arr':boundary_idx_arr,\n",
    "        'delta_t':delta_t,\n",
    "        'params':params,\n",
    "        'return_params_arr':return_params_arr,\n",
    "        'normalize_dataset':normalize_dataset,\n",
    "    }\n",
    "\n",
    "    with open(dir_name_rnn+dir_sep+'RNN_specific_data.txt', 'w') as f:\n",
    "        f.write(str(RNN_specific_data))"
   ]
  },
  {
   "cell_type": "code",
   "execution_count": null,
   "metadata": {
    "executionInfo": {
     "elapsed": 34,
     "status": "ok",
     "timestamp": 1665443659727,
     "user": {
      "displayName": "Rohan Kaushik",
      "userId": "13918477614376051685"
     },
     "user_tz": -120
    },
    "id": "S21-VEUYrkk-"
   },
   "outputs": [],
   "source": []
  },
  {
   "cell_type": "code",
   "execution_count": 21,
   "metadata": {
    "executionInfo": {
     "elapsed": 35,
     "status": "ok",
     "timestamp": 1665443659730,
     "user": {
      "displayName": "Rohan Kaushik",
      "userId": "13918477614376051685"
     },
     "user_tz": -120
    },
    "id": "UGnj8uQQ83-y"
   },
   "outputs": [],
   "source": [
    "# cutting off initial transient\n",
    "initial_t0 = np.array([400])\n",
    "initial_idx = np.zeros_like(initial_t0)\n",
    "\n",
    "begin_idx = 0\n",
    "len_relevant_idx = 0\n",
    "for i in range(len(initial_t0)):\n",
    "    init_idx = (initial_t0[i] + 0.25*delta_t)//delta_t\n",
    "    initial_idx[i] = init_idx + begin_idx\n",
    "    begin_idx = boundary_idx_arr[i]\n",
    "    len_relevant_idx += begin_idx - initial_idx[i]\n",
    "\n",
    "relevant_idx = np.empty(shape=len_relevant_idx, dtype=np.int32)\n",
    "start = 0\n",
    "for i in range(len(initial_t0)):\n",
    "    end = start + (boundary_idx_arr[i] - initial_idx[i])\n",
    "    relevant_idx[start:end] = np.arange(initial_idx[i], boundary_idx_arr[i])\n",
    "    start = end"
   ]
  },
  {
   "cell_type": "code",
   "execution_count": 22,
   "metadata": {
    "executionInfo": {
     "elapsed": 1133,
     "status": "ok",
     "timestamp": 1665443660836,
     "user": {
      "displayName": "Rohan Kaushik",
      "userId": "13918477614376051685"
     },
     "user_tz": -120
    },
    "id": "0t2_8mzI1fhX"
   },
   "outputs": [],
   "source": [
    "rnn_res_dict = create_data_for_RNN(\n",
    "    latent_states_all[relevant_idx],\n",
    "    dt_rnn,\n",
    "    T_sample_input,\n",
    "    T_sample_output,\n",
    "    T_offset,\n",
    "    N,\n",
    "    boundary_idx_arr-initial_idx,\n",
    "    delta_t,\n",
    "    params=params,\n",
    "    return_numsamples=True,\n",
    "    normalize_dataset=normalize_dataset)\n",
    "    \n",
    "data_rnn_input = rnn_res_dict['data_rnn_input']\n",
    "data_rnn_output = rnn_res_dict['data_rnn_output']\n",
    "org_data_idx_arr_input = rnn_res_dict['org_data_idx_arr_input']\n",
    "org_data_idx_arr_output = rnn_res_dict['org_data_idx_arr_output']\n",
    "num_samples = rnn_res_dict['num_samples']\n",
    "normalization_arr = rnn_res_dict['normalization_arr']"
   ]
  },
  {
   "cell_type": "code",
   "execution_count": null,
   "metadata": {
    "executionInfo": {
     "elapsed": 19,
     "status": "ok",
     "timestamp": 1665443660837,
     "user": {
      "displayName": "Rohan Kaushik",
      "userId": "13918477614376051685"
     },
     "user_tz": -120
    },
    "id": "pIsWCXkbr7ws"
   },
   "outputs": [],
   "source": []
  },
  {
   "cell_type": "code",
   "execution_count": null,
   "metadata": {
    "executionInfo": {
     "elapsed": 19,
     "status": "ok",
     "timestamp": 1665443660840,
     "user": {
      "displayName": "Rohan Kaushik",
      "userId": "13918477614376051685"
     },
     "user_tz": -120
    },
    "id": "Hem_9PUqneQi"
   },
   "outputs": [],
   "source": []
  },
  {
   "cell_type": "code",
   "execution_count": null,
   "metadata": {
    "executionInfo": {
     "elapsed": 17,
     "status": "ok",
     "timestamp": 1665443660842,
     "user": {
      "displayName": "Rohan Kaushik",
      "userId": "13918477614376051685"
     },
     "user_tz": -120
    },
    "id": "uskBAAXpneQi"
   },
   "outputs": [],
   "source": []
  },
  {
   "cell_type": "code",
   "execution_count": 23,
   "metadata": {
    "executionInfo": {
     "elapsed": 19,
     "status": "ok",
     "timestamp": 1665443660844,
     "user": {
      "displayName": "Rohan Kaushik",
      "userId": "13918477614376051685"
     },
     "user_tz": -120
    },
    "id": "-1uL-GomneQi"
   },
   "outputs": [],
   "source": [
    "# setting up training params\n",
    "if behaviour == 'initialiseAndTrainFromScratch':\n",
    "    learning_rate_dict = {\n",
    "        'eta_begin':0.0001,\n",
    "        'eta_high':0.001,\n",
    "        'eta_low':0.00001\n",
    "    }\n",
    "    epochs = 200\n",
    "    patience = 20  # parameter for early stopping\n",
    "    min_delta = 1e-5  # parameter for early stopping\n",
    "    lambda_reg = 1e-4  # weight for regularizer\n",
    "    train_split = 0.8\n",
    "    val_split = 0.1\n",
    "    test_split = 1 - train_split - val_split\n",
    "    batch_size = 64\n",
    "\n",
    "    # saving training params\n",
    "    training_specific_params = {\n",
    "        'learning_rate_dict':learning_rate_dict,\n",
    "        'epochs':epochs,\n",
    "        'patience':patience,\n",
    "        'min_delta':min_delta,\n",
    "        'prng_seed':prng_seed,\n",
    "        'train_split':train_split,\n",
    "        'val_split':val_split,\n",
    "        'batch_size':batch_size\n",
    "    }\n",
    "\n",
    "    with open(dir_name_rnn+dir_sep+'training_specific_params.txt', 'w') as f:\n",
    "        f.write(str(training_specific_params))\n",
    "else:\n",
    "    dir_name_rnn_og = dir_name_rnn\n",
    "    dir_name_rnn_temp = '/home/rkaushik/Documents/Thesis/MLROM/CDV/saved_rnn/rnn_'+dir_name_rnn_og[-3:]\n",
    "    dir_name_rnn = dir_name_rnn_temp\n",
    "\n",
    "    with open(dir_name_rnn + dir_sep + 'training_specific_params.txt') as f:\n",
    "        lines = f.readlines()\n",
    "\n",
    "\n",
    "    tparams_dict = eval(''.join(lines))\n",
    "\n",
    "    learning_rate_dict = tparams_dict['learning_rate_dict']\n",
    "    epochs = tparams_dict['epochs']\n",
    "    patience = tparams_dict['patience']\n",
    "    min_delta = tparams_dict['min_delta']\n",
    "    prng_seed = tparams_dict['prng_seed']\n",
    "    train_split = tparams_dict['train_split']\n",
    "    val_split = tparams_dict['val_split']\n",
    "    batch_size = tparams_dict['batch_size']\n",
    "\n",
    "    test_split = 1 - train_split - val_split\n",
    "\n",
    "    # setting seed for PRNGs\n",
    "    np.random.seed(prng_seed)\n",
    "    tf.random.set_seed(prng_seed)"
   ]
  },
  {
   "cell_type": "code",
   "execution_count": 24,
   "metadata": {
    "executionInfo": {
     "elapsed": 18,
     "status": "ok",
     "timestamp": 1665443660844,
     "user": {
      "displayName": "Rohan Kaushik",
      "userId": "13918477614376051685"
     },
     "user_tz": -120
    },
    "id": "4hx9ZaSpEMmv"
   },
   "outputs": [],
   "source": [
    "# idx = np.arange(data_rnn_input.shape[0])\n",
    "# np.random.shuffle(idx)\n",
    "# boundary = int(np.round(train_split*data_rnn_input.shape[0]))\n",
    "\n",
    "# training_data_rnn_input = data_rnn_input[idx[0:boundary]]\n",
    "# training_data_rnn_output = data_rnn_output[idx[0:boundary]]\n",
    "\n",
    "# testing_data_rnn_input = data_rnn_input[idx[boundary:]]\n",
    "# testing_data_rnn_output = data_rnn_output[idx[boundary:]]"
   ]
  },
  {
   "cell_type": "code",
   "execution_count": 25,
   "metadata": {
    "executionInfo": {
     "elapsed": 1859,
     "status": "ok",
     "timestamp": 1665443662686,
     "user": {
      "displayName": "Rohan Kaushik",
      "userId": "13918477614376051685"
     },
     "user_tz": -120
    },
    "id": "EENXaWqcKW7j"
   },
   "outputs": [],
   "source": [
    "idx = np.arange(num_samples)\n",
    "# np.random.shuffle(idx)\n",
    "boundary = int(np.round(\n",
    "    (1-test_split) * num_samples\n",
    "))\n",
    "\n",
    "# defining shapes\n",
    "training_input_shape = [boundary*len(boundary_idx_arr)]\n",
    "training_input_shape.extend(data_rnn_input.shape[1:])\n",
    "\n",
    "training_output_shape = [boundary*len(boundary_idx_arr)]\n",
    "training_output_shape.extend(data_rnn_output.shape[1:])\n",
    "\n",
    "testing_input_shape = [(num_samples-boundary)*len(boundary_idx_arr)]\n",
    "testing_input_shape.extend(data_rnn_input.shape[1:])\n",
    "\n",
    "testing_output_shape = [(num_samples-boundary)*len(boundary_idx_arr)]\n",
    "testing_output_shape.extend(data_rnn_output.shape[1:])\n",
    "\n",
    "# defining required arrays\n",
    "training_data_rnn_input = np.empty(shape=training_input_shape)\n",
    "training_data_rnn_output = np.empty(shape=training_output_shape)\n",
    "\n",
    "testing_data_rnn_input = np.empty(shape=testing_input_shape)\n",
    "testing_data_rnn_output = np.empty(shape=testing_output_shape)\n",
    "\n",
    "for i in range(len(boundary_idx_arr)):\n",
    "    np.random.shuffle(idx)\n",
    "\n",
    "    training_data_rnn_input[i*boundary:(i+1)*boundary] = data_rnn_input[i*num_samples + idx[0:boundary]]\n",
    "    training_data_rnn_output[i*boundary:(i+1)*boundary] = data_rnn_output[i*num_samples + idx[0:boundary]]\n",
    "\n",
    "    testing_data_rnn_input[i*(num_samples-boundary):(i+1)*(num_samples-boundary)] = data_rnn_input[i*num_samples + idx[boundary:]]\n",
    "    testing_data_rnn_output[i*(num_samples-boundary):(i+1)*(num_samples-boundary)] = data_rnn_output[i*num_samples + idx[boundary:]]\n",
    "\n",
    "# further shuffling\n",
    "idx = np.arange(0, training_data_rnn_input.shape[0])\n",
    "np.random.shuffle(idx)\n",
    "training_data_rnn_input = training_data_rnn_input[idx]\n",
    "training_data_rnn_output = training_data_rnn_output[idx]\n",
    "\n",
    "idx = np.arange(0, testing_data_rnn_input.shape[0])\n",
    "np.random.shuffle(idx)\n",
    "testing_data_rnn_input = testing_data_rnn_input[idx]\n",
    "testing_data_rnn_output = testing_data_rnn_output[idx]"
   ]
  },
  {
   "cell_type": "code",
   "execution_count": null,
   "metadata": {
    "executionInfo": {
     "elapsed": 8,
     "status": "ok",
     "timestamp": 1665443662687,
     "user": {
      "displayName": "Rohan Kaushik",
      "userId": "13918477614376051685"
     },
     "user_tz": -120
    },
    "id": "8isZN1tYBifp"
   },
   "outputs": [],
   "source": []
  },
  {
   "cell_type": "code",
   "execution_count": null,
   "metadata": {
    "executionInfo": {
     "elapsed": 9,
     "status": "ok",
     "timestamp": 1665443662688,
     "user": {
      "displayName": "Rohan Kaushik",
      "userId": "13918477614376051685"
     },
     "user_tz": -120
    },
    "id": "x3KglJsgneQj"
   },
   "outputs": [],
   "source": []
  },
  {
   "cell_type": "code",
   "execution_count": null,
   "metadata": {
    "executionInfo": {
     "elapsed": 8,
     "status": "ok",
     "timestamp": 1665443662688,
     "user": {
      "displayName": "Rohan Kaushik",
      "userId": "13918477614376051685"
     },
     "user_tz": -120
    },
    "id": "ixetsZHjCMKO"
   },
   "outputs": [],
   "source": []
  },
  {
   "cell_type": "code",
   "execution_count": null,
   "metadata": {
    "executionInfo": {
     "elapsed": 8,
     "status": "ok",
     "timestamp": 1665443662688,
     "user": {
      "displayName": "Rohan Kaushik",
      "userId": "13918477614376051685"
     },
     "user_tz": -120
    },
    "id": "_NSTtZuyneQk"
   },
   "outputs": [],
   "source": []
  },
  {
   "cell_type": "code",
   "execution_count": 26,
   "metadata": {
    "executionInfo": {
     "elapsed": 24020,
     "status": "ok",
     "timestamp": 1665443686701,
     "user": {
      "displayName": "Rohan Kaushik",
      "userId": "13918477614376051685"
     },
     "user_tz": -120
    },
    "id": "Py-Jg0QKneQk",
    "scrolled": false
   },
   "outputs": [],
   "source": [
    "# Initialize network\n",
    "if behaviour == 'initialiseAndTrainFromScratch':\n",
    "    rnn_layers_units = [2**6]*1\n",
    "    if return_params_arr != False:\n",
    "        data_dim = num_latent_states + 6\n",
    "    else:\n",
    "        data_dim = num_latent_states\n",
    "\n",
    "    rnn_net = RNN_GRU(\n",
    "        data_dim=data_dim,\n",
    "    #     in_steps=int(T_sample_input // dt_rnn),\n",
    "    #     out_steps=int(T_sample_output // dt_rnn),\n",
    "        dt_rnn=dt_rnn,\n",
    "        lambda_reg=lambda_reg,\n",
    "        reg_name='L2',\n",
    "        rnn_layers_units=rnn_layers_units,\n",
    "        dense_layer_act_func='linear',\n",
    "        load_file=None,\n",
    "        # T_input=T_sample_input,\n",
    "        # T_output=T_sample_output\n",
    "    )\n",
    "    save_path = dir_name_rnn+dir_sep+'final_net'\n",
    "    if not os.path.isdir(save_path):\n",
    "        os.makedirs(save_path)\n",
    "    rnn_net.save_class_dict(save_path+dir_sep+'final_net_class_dict.txt')\n",
    "else:\n",
    "    load_file = dir_name_rnn + dir_sep + 'final_net' + dir_sep + 'final_net_class_dict.txt'\n",
    "    rnn_net = RNN_GRU(\n",
    "        load_file=load_file,\n",
    "        # T_input=T_sample_input,\n",
    "        # T_output=T_sample_output\n",
    "    )\n",
    "    \n",
    "    if behaviour == 'loadCheckpointAndContinueTraining':\n",
    "        wt_file = tf.train.latest_checkpoint(dir_name_rnn+dir_sep+'checkpoints')\n",
    "    elif behaviour == 'loadFinalNetAndPlot':\n",
    "        wt_file = dir_name_rnn+dir_sep+'final_net'+dir_sep+'final_net_gru_weights.h5'\n",
    "        # wt_file = dir_name_rnn+dir_sep+'final_net'+dir_sep+'f2'#+dir_sep+'saved_model.pb'\n",
    "    \n",
    "    # this forces the model to initialize its kernel weights/biases\n",
    "    temp = rnn_net.predict(tf.ones(shape=[batch_size, int(T_sample_input//dt_rnn), rnn_net.data_dim]))\n",
    "    # this loads just the kernel wieghts and biases of the model\n",
    "    rnn_net.load_weights_from_file(wt_file)\n",
    "\n",
    "    # rnn_net = tf.keras.models.load_model(wt_file)"
   ]
  },
  {
   "cell_type": "code",
   "execution_count": 27,
   "metadata": {
    "executionInfo": {
     "elapsed": 39,
     "status": "ok",
     "timestamp": 1665443687724,
     "user": {
      "displayName": "Rohan Kaushik",
      "userId": "13918477614376051685"
     },
     "user_tz": -120
    },
    "id": "7ASCopnIH6nl"
   },
   "outputs": [],
   "source": [
    "if behaviour == 'initialiseAndTrainFromScratch':\n",
    "    val_loss_hist = []\n",
    "    train_loss_hist = []\n",
    "    lr_change=[0, 0]\n",
    "    savelosses_cb_vallossarr = np.ones(shape=epochs)*np.NaN\n",
    "    savelosses_cb_trainlossarr = np.ones(shape=epochs)*np.NaN\n",
    "    starting_lr_idx = 0\n",
    "    num_epochs_left = epochs\n",
    "    earlystopping_wait = 0\n",
    "elif behaviour == 'loadCheckpointAndContinueTraining':\n",
    "    val_loss_hist, train_loss_hist, lr_change, starting_lr_idx, num_epochs_left, val_loss_arr_fromckpt, train_loss_arr_fromckpt, earlystopping_wait = readAndReturnLossHistories(\n",
    "        dir_name_ae=dir_name_rnn,\n",
    "        dir_sep=dir_sep,\n",
    "        epochs=epochs,\n",
    "        learning_rate_list=[0],\n",
    "        return_earlystopping_wait=True)\n",
    "    savelosses_cb_vallossarr = val_loss_arr_fromckpt\n",
    "    savelosses_cb_trainlossarr = train_loss_arr_fromckpt\n",
    "elif behaviour == 'loadFinalNetAndPlot':\n",
    "    with open(dir_name_rnn+'{ds}final_net{ds}losses.txt'.format(ds=dir_sep), 'r') as f:\n",
    "        lines = f.readlines()\n",
    "    \n",
    "    losses_dict = eval(''.join(lines))\n",
    "\n",
    "    val_loss_hist = losses_dict['val_loss_hist']\n",
    "    train_loss_hist = losses_dict['train_loss_hist']\n",
    "    lr_change = losses_dict['lr_change']\n",
    "    test_loss = losses_dict['test_loss']"
   ]
  },
  {
   "cell_type": "code",
   "execution_count": 28,
   "metadata": {
    "colab": {
     "base_uri": "https://localhost:8080/",
     "height": 1000
    },
    "executionInfo": {
     "elapsed": 62495,
     "status": "error",
     "timestamp": 1665446212637,
     "user": {
      "displayName": "Rohan Kaushik",
      "userId": "13918477614376051685"
     },
     "user_tz": -120
    },
    "id": "6hh1pbKjCcO4",
    "outputId": "5273e931-c096-4f30-b7dd-0262d10f1004",
    "scrolled": true
   },
   "outputs": [
    {
     "name": "stdout",
     "output_type": "stream",
     "text": [
      "WARNING:tensorflow:`period` argument is deprecated. Please use `save_freq` to specify the frequency in number of batches seen.\n",
      "Epoch 1/200\n",
      "1300/1300 [==============================] - ETA: 0s - loss: 0.0105 - tot_time: 0h 5m 41.5s\n",
      "\n",
      "Epoch 1: val_loss improved from inf to 0.00608, saving model to /home/rkaushik/Documents/Thesis/MLROM/CDV/saved_rnn/rnn_005/checkpoints/checkpoint\n",
      " - saving loss histories at /home/rkaushik/Documents/Thesis/MLROM/CDV/saved_rnn/rnn_005/checkpoints/LossHistoriesCheckpoint\n",
      "1300/1300 [==============================] - 337s 212ms/step - loss: 0.0105 - val_loss: 0.0061\n",
      "Epoch 2/200\n",
      "1300/1300 [==============================] - ETA: 0s - loss: 0.0054 - tot_time: 0h 9m 56.0s\n",
      "\n",
      "Epoch 2: val_loss improved from 0.00608 to 0.00475, saving model to /home/rkaushik/Documents/Thesis/MLROM/CDV/saved_rnn/rnn_005/checkpoints/checkpoint\n",
      " - saving loss histories at /home/rkaushik/Documents/Thesis/MLROM/CDV/saved_rnn/rnn_005/checkpoints/LossHistoriesCheckpoint\n",
      "1300/1300 [==============================] - 255s 196ms/step - loss: 0.0054 - val_loss: 0.0048\n",
      "Epoch 3/200\n",
      "1300/1300 [==============================] - ETA: 0s - loss: 0.0042 - tot_time: 0h 14m 9.9s\n",
      "\n",
      "Epoch 3: val_loss improved from 0.00475 to 0.00365, saving model to /home/rkaushik/Documents/Thesis/MLROM/CDV/saved_rnn/rnn_005/checkpoints/checkpoint\n",
      " - saving loss histories at /home/rkaushik/Documents/Thesis/MLROM/CDV/saved_rnn/rnn_005/checkpoints/LossHistoriesCheckpoint\n",
      "1300/1300 [==============================] - 254s 195ms/step - loss: 0.0042 - val_loss: 0.0037\n",
      "Epoch 4/200\n",
      "1300/1300 [==============================] - ETA: 0s - loss: 0.0032 - tot_time: 0h 18m 27.7s\n",
      "\n",
      "Epoch 4: val_loss improved from 0.00365 to 0.00270, saving model to /home/rkaushik/Documents/Thesis/MLROM/CDV/saved_rnn/rnn_005/checkpoints/checkpoint\n",
      " - saving loss histories at /home/rkaushik/Documents/Thesis/MLROM/CDV/saved_rnn/rnn_005/checkpoints/LossHistoriesCheckpoint\n",
      "1300/1300 [==============================] - 258s 198ms/step - loss: 0.0032 - val_loss: 0.0027\n",
      "Epoch 5/200\n",
      "1300/1300 [==============================] - ETA: 0s - loss: 0.0023 - tot_time: 0h 22m 46.8s\n",
      "\n",
      "Epoch 5: val_loss improved from 0.00270 to 0.00192, saving model to /home/rkaushik/Documents/Thesis/MLROM/CDV/saved_rnn/rnn_005/checkpoints/checkpoint\n",
      " - saving loss histories at /home/rkaushik/Documents/Thesis/MLROM/CDV/saved_rnn/rnn_005/checkpoints/LossHistoriesCheckpoint\n",
      "1300/1300 [==============================] - 259s 199ms/step - loss: 0.0023 - val_loss: 0.0019\n",
      "Epoch 6/200\n",
      "1300/1300 [==============================] - ETA: 0s - loss: 0.0016 - tot_time: 0h 27m 2.1s\n",
      "\n",
      "Epoch 6: val_loss improved from 0.00192 to 0.00133, saving model to /home/rkaushik/Documents/Thesis/MLROM/CDV/saved_rnn/rnn_005/checkpoints/checkpoint\n",
      " - saving loss histories at /home/rkaushik/Documents/Thesis/MLROM/CDV/saved_rnn/rnn_005/checkpoints/LossHistoriesCheckpoint\n",
      "1300/1300 [==============================] - 255s 196ms/step - loss: 0.0016 - val_loss: 0.0013\n",
      "Epoch 7/200\n",
      "1300/1300 [==============================] - ETA: 0s - loss: 0.0011 - tot_time: 0h 31m 16.7s\n",
      "\n",
      "Epoch 7: val_loss improved from 0.00133 to 0.00088, saving model to /home/rkaushik/Documents/Thesis/MLROM/CDV/saved_rnn/rnn_005/checkpoints/checkpoint\n",
      " - saving loss histories at /home/rkaushik/Documents/Thesis/MLROM/CDV/saved_rnn/rnn_005/checkpoints/LossHistoriesCheckpoint\n",
      "1300/1300 [==============================] - 255s 196ms/step - loss: 0.0011 - val_loss: 8.8004e-04\n",
      "Epoch 8/200\n",
      "1300/1300 [==============================] - ETA: 0s - loss: 6.9776e-04 - tot_time: 0h 35m 32.3s\n",
      "\n",
      "Epoch 8: val_loss improved from 0.00088 to 0.00054, saving model to /home/rkaushik/Documents/Thesis/MLROM/CDV/saved_rnn/rnn_005/checkpoints/checkpoint\n",
      " - saving loss histories at /home/rkaushik/Documents/Thesis/MLROM/CDV/saved_rnn/rnn_005/checkpoints/LossHistoriesCheckpoint\n",
      "1300/1300 [==============================] - 256s 197ms/step - loss: 6.9776e-04 - val_loss: 5.4063e-04\n",
      "Epoch 9/200\n",
      "1300/1300 [==============================] - ETA: 0s - loss: 4.0355e-04 - tot_time: 0h 39m 46.4s\n",
      "\n",
      "Epoch 9: val_loss improved from 0.00054 to 0.00029, saving model to /home/rkaushik/Documents/Thesis/MLROM/CDV/saved_rnn/rnn_005/checkpoints/checkpoint\n",
      " - saving loss histories at /home/rkaushik/Documents/Thesis/MLROM/CDV/saved_rnn/rnn_005/checkpoints/LossHistoriesCheckpoint\n",
      "1300/1300 [==============================] - 254s 196ms/step - loss: 4.0355e-04 - val_loss: 2.9315e-04\n",
      "Epoch 10/200\n",
      "1300/1300 [==============================] - ETA: 0s - loss: 2.1264e-04 - tot_time: 0h 43m 58.5s\n",
      "\n",
      "Epoch 10: val_loss improved from 0.00029 to 0.00015, saving model to /home/rkaushik/Documents/Thesis/MLROM/CDV/saved_rnn/rnn_005/checkpoints/checkpoint\n",
      " - saving loss histories at /home/rkaushik/Documents/Thesis/MLROM/CDV/saved_rnn/rnn_005/checkpoints/LossHistoriesCheckpoint\n",
      "1300/1300 [==============================] - 252s 194ms/step - loss: 2.1264e-04 - val_loss: 1.4977e-04\n",
      "Epoch 11/200\n",
      "1300/1300 [==============================] - ETA: 0s - loss: 1.1353e-04 - tot_time: 0h 48m 13.4s\n",
      "\n",
      "Epoch 11: val_loss improved from 0.00015 to 0.00009, saving model to /home/rkaushik/Documents/Thesis/MLROM/CDV/saved_rnn/rnn_005/checkpoints/checkpoint\n",
      " - saving loss histories at /home/rkaushik/Documents/Thesis/MLROM/CDV/saved_rnn/rnn_005/checkpoints/LossHistoriesCheckpoint\n",
      "1300/1300 [==============================] - 255s 196ms/step - loss: 1.1353e-04 - val_loss: 9.1490e-05\n",
      "Epoch 12/200\n",
      "1300/1300 [==============================] - ETA: 0s - loss: 8.2416e-05 - tot_time: 0h 52m 27.8s\n",
      "\n",
      "Epoch 12: val_loss improved from 0.00009 to 0.00008, saving model to /home/rkaushik/Documents/Thesis/MLROM/CDV/saved_rnn/rnn_005/checkpoints/checkpoint\n",
      " - saving loss histories at /home/rkaushik/Documents/Thesis/MLROM/CDV/saved_rnn/rnn_005/checkpoints/LossHistoriesCheckpoint\n",
      "1300/1300 [==============================] - 254s 196ms/step - loss: 8.2416e-05 - val_loss: 7.5527e-05\n",
      "Epoch 13/200\n",
      "1300/1300 [==============================] - ETA: 0s - loss: 7.5291e-05 - tot_time: 0h 56m 45.1s\n",
      "\n",
      "Epoch 13: val_loss improved from 0.00008 to 0.00007, saving model to /home/rkaushik/Documents/Thesis/MLROM/CDV/saved_rnn/rnn_005/checkpoints/checkpoint\n",
      " - saving loss histories at /home/rkaushik/Documents/Thesis/MLROM/CDV/saved_rnn/rnn_005/checkpoints/LossHistoriesCheckpoint\n",
      "1300/1300 [==============================] - 257s 198ms/step - loss: 7.5291e-05 - val_loss: 6.9732e-05\n",
      "Epoch 14/200\n",
      "1300/1300 [==============================] - ETA: 0s - loss: 6.8577e-05 - tot_time: 1h 1m 5.6s\n",
      "\n",
      "Epoch 14: val_loss improved from 0.00007 to 0.00007, saving model to /home/rkaushik/Documents/Thesis/MLROM/CDV/saved_rnn/rnn_005/checkpoints/checkpoint\n",
      " - saving loss histories at /home/rkaushik/Documents/Thesis/MLROM/CDV/saved_rnn/rnn_005/checkpoints/LossHistoriesCheckpoint\n",
      "1300/1300 [==============================] - 261s 200ms/step - loss: 6.8577e-05 - val_loss: 6.6914e-05\n",
      "Epoch 15/200\n",
      "1300/1300 [==============================] - ETA: 0s - loss: 6.4012e-05 - tot_time: 1h 5m 26.9s\n",
      "\n",
      "Epoch 15: val_loss improved from 0.00007 to 0.00006, saving model to /home/rkaushik/Documents/Thesis/MLROM/CDV/saved_rnn/rnn_005/checkpoints/checkpoint\n",
      " - saving loss histories at /home/rkaushik/Documents/Thesis/MLROM/CDV/saved_rnn/rnn_005/checkpoints/LossHistoriesCheckpoint\n",
      "1300/1300 [==============================] - 261s 201ms/step - loss: 6.4012e-05 - val_loss: 6.1746e-05\n",
      "Epoch 16/200\n",
      "1300/1300 [==============================] - ETA: 0s - loss: 6.0992e-05 - tot_time: 1h 9m 48.5s\n",
      "\n",
      "Epoch 16: val_loss improved from 0.00006 to 0.00006, saving model to /home/rkaushik/Documents/Thesis/MLROM/CDV/saved_rnn/rnn_005/checkpoints/checkpoint\n",
      " - saving loss histories at /home/rkaushik/Documents/Thesis/MLROM/CDV/saved_rnn/rnn_005/checkpoints/LossHistoriesCheckpoint\n",
      "1300/1300 [==============================] - 262s 201ms/step - loss: 6.0992e-05 - val_loss: 5.8333e-05\n",
      "Epoch 17/200\n",
      "1300/1300 [==============================] - ETA: 0s - loss: 5.8460e-05 - tot_time: 1h 14m 9.0s\n",
      "\n",
      "Epoch 17: val_loss improved from 0.00006 to 0.00006, saving model to /home/rkaushik/Documents/Thesis/MLROM/CDV/saved_rnn/rnn_005/checkpoints/checkpoint\n",
      " - saving loss histories at /home/rkaushik/Documents/Thesis/MLROM/CDV/saved_rnn/rnn_005/checkpoints/LossHistoriesCheckpoint\n",
      "1300/1300 [==============================] - 260s 200ms/step - loss: 5.8460e-05 - val_loss: 5.6138e-05\n"
     ]
    },
    {
     "name": "stdout",
     "output_type": "stream",
     "text": [
      "Epoch 18/200\n",
      "1300/1300 [==============================] - ETA: 0s - loss: 5.6521e-05 - tot_time: 1h 18m 24.5s\n",
      "\n",
      "Epoch 18: val_loss improved from 0.00006 to 0.00005, saving model to /home/rkaushik/Documents/Thesis/MLROM/CDV/saved_rnn/rnn_005/checkpoints/checkpoint\n",
      " - saving loss histories at /home/rkaushik/Documents/Thesis/MLROM/CDV/saved_rnn/rnn_005/checkpoints/LossHistoriesCheckpoint\n",
      "1300/1300 [==============================] - 256s 197ms/step - loss: 5.6521e-05 - val_loss: 5.4426e-05\n",
      "Epoch 19/200\n",
      "1300/1300 [==============================] - ETA: 0s - loss: 5.4938e-05 - tot_time: 1h 22m 38.7s\n",
      "\n",
      "Epoch 19: val_loss did not improve from 0.00005\n",
      " - saving loss histories at /home/rkaushik/Documents/Thesis/MLROM/CDV/saved_rnn/rnn_005/checkpoints/LossHistoriesCheckpoint\n",
      "1300/1300 [==============================] - 254s 196ms/step - loss: 5.4938e-05 - val_loss: 6.3090e-05\n",
      "Epoch 20/200\n",
      "1300/1300 [==============================] - ETA: 0s - loss: 5.3504e-05 - tot_time: 1h 26m 53.7s\n",
      "\n",
      "Epoch 20: val_loss improved from 0.00005 to 0.00005, saving model to /home/rkaushik/Documents/Thesis/MLROM/CDV/saved_rnn/rnn_005/checkpoints/checkpoint\n",
      " - saving loss histories at /home/rkaushik/Documents/Thesis/MLROM/CDV/saved_rnn/rnn_005/checkpoints/LossHistoriesCheckpoint\n",
      "1300/1300 [==============================] - 255s 196ms/step - loss: 5.3504e-05 - val_loss: 5.1796e-05\n",
      "Epoch 21/200\n",
      "1300/1300 [==============================] - ETA: 0s - loss: 5.2322e-05 - tot_time: 1h 31m 9.3s\n",
      "\n",
      "Epoch 21: val_loss improved from 0.00005 to 0.00005, saving model to /home/rkaushik/Documents/Thesis/MLROM/CDV/saved_rnn/rnn_005/checkpoints/checkpoint\n",
      " - saving loss histories at /home/rkaushik/Documents/Thesis/MLROM/CDV/saved_rnn/rnn_005/checkpoints/LossHistoriesCheckpoint\n",
      "1300/1300 [==============================] - 256s 197ms/step - loss: 5.2322e-05 - val_loss: 5.0698e-05\n",
      "Epoch 22/200\n",
      "1300/1300 [==============================] - ETA: 0s - loss: 5.1411e-05 - tot_time: 1h 35m 24.7s\n",
      "\n",
      "Epoch 22: val_loss improved from 0.00005 to 0.00005, saving model to /home/rkaushik/Documents/Thesis/MLROM/CDV/saved_rnn/rnn_005/checkpoints/checkpoint\n",
      " - saving loss histories at /home/rkaushik/Documents/Thesis/MLROM/CDV/saved_rnn/rnn_005/checkpoints/LossHistoriesCheckpoint\n",
      "1300/1300 [==============================] - 255s 196ms/step - loss: 5.1411e-05 - val_loss: 4.9595e-05\n",
      "Epoch 23/200\n",
      "1300/1300 [==============================] - ETA: 0s - loss: 5.0320e-05 - tot_time: 1h 39m 45.1s\n",
      "\n",
      "Epoch 23: val_loss improved from 0.00005 to 0.00005, saving model to /home/rkaushik/Documents/Thesis/MLROM/CDV/saved_rnn/rnn_005/checkpoints/checkpoint\n",
      " - saving loss histories at /home/rkaushik/Documents/Thesis/MLROM/CDV/saved_rnn/rnn_005/checkpoints/LossHistoriesCheckpoint\n",
      "1300/1300 [==============================] - 260s 200ms/step - loss: 5.0320e-05 - val_loss: 4.8575e-05\n",
      "Epoch 24/200\n",
      "1300/1300 [==============================] - ETA: 0s - loss: 4.9510e-05 - tot_time: 1h 44m 5.7s\n",
      "\n",
      "Epoch 24: val_loss improved from 0.00005 to 0.00005, saving model to /home/rkaushik/Documents/Thesis/MLROM/CDV/saved_rnn/rnn_005/checkpoints/checkpoint\n",
      " - saving loss histories at /home/rkaushik/Documents/Thesis/MLROM/CDV/saved_rnn/rnn_005/checkpoints/LossHistoriesCheckpoint\n",
      "1300/1300 [==============================] - 261s 200ms/step - loss: 4.9510e-05 - val_loss: 4.7725e-05\n",
      "Epoch 25/200\n",
      "1300/1300 [==============================] - ETA: 0s - loss: 4.8764e-05 - tot_time: 1h 48m 26.0s\n",
      "\n",
      "Epoch 25: val_loss improved from 0.00005 to 0.00005, saving model to /home/rkaushik/Documents/Thesis/MLROM/CDV/saved_rnn/rnn_005/checkpoints/checkpoint\n",
      " - saving loss histories at /home/rkaushik/Documents/Thesis/MLROM/CDV/saved_rnn/rnn_005/checkpoints/LossHistoriesCheckpoint\n",
      "1300/1300 [==============================] - 260s 200ms/step - loss: 4.8764e-05 - val_loss: 4.6974e-05\n",
      "Epoch 26/200\n",
      "1300/1300 [==============================] - ETA: 0s - loss: 4.8048e-05 - tot_time: 1h 52m 52.1s\n",
      "\n",
      "Epoch 26: val_loss did not improve from 0.00005\n",
      " - saving loss histories at /home/rkaushik/Documents/Thesis/MLROM/CDV/saved_rnn/rnn_005/checkpoints/LossHistoriesCheckpoint\n",
      "1300/1300 [==============================] - 266s 205ms/step - loss: 4.8048e-05 - val_loss: 5.0527e-05\n",
      "Epoch 27/200\n",
      "1300/1300 [==============================] - ETA: 0s - loss: 4.7415e-05 - tot_time: 1h 57m 11.2s\n",
      "\n",
      "Epoch 27: val_loss improved from 0.00005 to 0.00005, saving model to /home/rkaushik/Documents/Thesis/MLROM/CDV/saved_rnn/rnn_005/checkpoints/checkpoint\n",
      " - saving loss histories at /home/rkaushik/Documents/Thesis/MLROM/CDV/saved_rnn/rnn_005/checkpoints/LossHistoriesCheckpoint\n",
      "1300/1300 [==============================] - 259s 199ms/step - loss: 4.7415e-05 - val_loss: 4.5854e-05\n",
      "Epoch 28/200\n",
      "1300/1300 [==============================] - ETA: 0s - loss: 4.6766e-05 - tot_time: 2h 1m 24.5s\n",
      "\n",
      "Epoch 28: val_loss did not improve from 0.00005\n",
      " - saving loss histories at /home/rkaushik/Documents/Thesis/MLROM/CDV/saved_rnn/rnn_005/checkpoints/LossHistoriesCheckpoint\n",
      "1300/1300 [==============================] - 253s 195ms/step - loss: 4.6766e-05 - val_loss: 4.5922e-05\n",
      "Epoch 29/200\n",
      "1300/1300 [==============================] - ETA: 0s - loss: 4.6221e-05 - tot_time: 2h 5m 37.8s\n",
      "\n",
      "Epoch 29: val_loss improved from 0.00005 to 0.00004, saving model to /home/rkaushik/Documents/Thesis/MLROM/CDV/saved_rnn/rnn_005/checkpoints/checkpoint\n",
      " - saving loss histories at /home/rkaushik/Documents/Thesis/MLROM/CDV/saved_rnn/rnn_005/checkpoints/LossHistoriesCheckpoint\n",
      "1300/1300 [==============================] - 253s 195ms/step - loss: 4.6221e-05 - val_loss: 4.4588e-05\n",
      "Epoch 30/200\n",
      "1300/1300 [==============================] - ETA: 0s - loss: 4.5885e-05 - tot_time: 2h 9m 53.6s\n",
      "\n",
      "Epoch 30: val_loss did not improve from 0.00004\n",
      " - saving loss histories at /home/rkaushik/Documents/Thesis/MLROM/CDV/saved_rnn/rnn_005/checkpoints/LossHistoriesCheckpoint\n",
      "1300/1300 [==============================] - 256s 197ms/step - loss: 4.5885e-05 - val_loss: 4.6041e-05\n",
      "Epoch 31/200\n",
      "1300/1300 [==============================] - ETA: 0s - loss: 4.5134e-05 - tot_time: 2h 14m 8.4s\n",
      "\n",
      "Epoch 31: val_loss improved from 0.00004 to 0.00004, saving model to /home/rkaushik/Documents/Thesis/MLROM/CDV/saved_rnn/rnn_005/checkpoints/checkpoint\n",
      " - saving loss histories at /home/rkaushik/Documents/Thesis/MLROM/CDV/saved_rnn/rnn_005/checkpoints/LossHistoriesCheckpoint\n",
      "1300/1300 [==============================] - 255s 196ms/step - loss: 4.5134e-05 - val_loss: 4.4254e-05\n",
      "Epoch 32/200\n",
      "1300/1300 [==============================] - ETA: 0s - loss: 4.4713e-05 - tot_time: 2h 18m 22.9s\n",
      "\n",
      "Epoch 32: val_loss improved from 0.00004 to 0.00004, saving model to /home/rkaushik/Documents/Thesis/MLROM/CDV/saved_rnn/rnn_005/checkpoints/checkpoint\n",
      " - saving loss histories at /home/rkaushik/Documents/Thesis/MLROM/CDV/saved_rnn/rnn_005/checkpoints/LossHistoriesCheckpoint\n",
      "1300/1300 [==============================] - 255s 196ms/step - loss: 4.4713e-05 - val_loss: 4.3239e-05\n",
      "Epoch 33/200\n",
      "1300/1300 [==============================] - ETA: 0s - loss: 4.4406e-05 - tot_time: 2h 22m 36.5s\n",
      "\n",
      "Epoch 33: val_loss improved from 0.00004 to 0.00004, saving model to /home/rkaushik/Documents/Thesis/MLROM/CDV/saved_rnn/rnn_005/checkpoints/checkpoint\n",
      " - saving loss histories at /home/rkaushik/Documents/Thesis/MLROM/CDV/saved_rnn/rnn_005/checkpoints/LossHistoriesCheckpoint\n",
      "1300/1300 [==============================] - 254s 195ms/step - loss: 4.4406e-05 - val_loss: 4.3214e-05\n",
      "Epoch 34/200\n",
      "1300/1300 [==============================] - ETA: 0s - loss: 4.3880e-05 - tot_time: 2h 26m 49.7s\n",
      "\n",
      "Epoch 34: val_loss improved from 0.00004 to 0.00004, saving model to /home/rkaushik/Documents/Thesis/MLROM/CDV/saved_rnn/rnn_005/checkpoints/checkpoint\n",
      " - saving loss histories at /home/rkaushik/Documents/Thesis/MLROM/CDV/saved_rnn/rnn_005/checkpoints/LossHistoriesCheckpoint\n",
      "1300/1300 [==============================] - 253s 195ms/step - loss: 4.3880e-05 - val_loss: 4.2524e-05\n",
      "Epoch 35/200\n",
      "1300/1300 [==============================] - ETA: 0s - loss: 4.3528e-05 - tot_time: 2h 31m 5.9s\n",
      "\n",
      "Epoch 35: val_loss did not improve from 0.00004\n",
      " - saving loss histories at /home/rkaushik/Documents/Thesis/MLROM/CDV/saved_rnn/rnn_005/checkpoints/LossHistoriesCheckpoint\n",
      "1300/1300 [==============================] - 256s 197ms/step - loss: 4.3528e-05 - val_loss: 4.3910e-05\n"
     ]
    },
    {
     "name": "stdout",
     "output_type": "stream",
     "text": [
      "Epoch 36/200\n",
      "1300/1300 [==============================] - ETA: 0s - loss: 4.3125e-05 - tot_time: 2h 35m 20.9s\n",
      "\n",
      "Epoch 36: val_loss did not improve from 0.00004\n",
      " - saving loss histories at /home/rkaushik/Documents/Thesis/MLROM/CDV/saved_rnn/rnn_005/checkpoints/LossHistoriesCheckpoint\n",
      "1300/1300 [==============================] - 255s 196ms/step - loss: 4.3125e-05 - val_loss: 4.3414e-05\n",
      "Epoch 37/200\n",
      "1300/1300 [==============================] - ETA: 0s - loss: 4.2767e-05 - tot_time: 2h 39m 40.8s\n",
      "\n",
      "Epoch 37: val_loss did not improve from 0.00004\n",
      " - saving loss histories at /home/rkaushik/Documents/Thesis/MLROM/CDV/saved_rnn/rnn_005/checkpoints/LossHistoriesCheckpoint\n",
      "1300/1300 [==============================] - 260s 200ms/step - loss: 4.2767e-05 - val_loss: 4.8389e-05\n",
      "Epoch 38/200\n",
      "1300/1300 [==============================] - ETA: 0s - loss: 4.2356e-05 - tot_time: 2h 44m 2.1s\n",
      "\n",
      "Epoch 38: val_loss improved from 0.00004 to 0.00004, saving model to /home/rkaushik/Documents/Thesis/MLROM/CDV/saved_rnn/rnn_005/checkpoints/checkpoint\n",
      " - saving loss histories at /home/rkaushik/Documents/Thesis/MLROM/CDV/saved_rnn/rnn_005/checkpoints/LossHistoriesCheckpoint\n",
      "1300/1300 [==============================] - 261s 201ms/step - loss: 4.2356e-05 - val_loss: 4.1619e-05\n",
      "Epoch 39/200\n",
      "1300/1300 [==============================] - ETA: 0s - loss: 4.2287e-05 - tot_time: 2h 48m 24.9s\n",
      "\n",
      "Epoch 39: val_loss did not improve from 0.00004\n",
      " - saving loss histories at /home/rkaushik/Documents/Thesis/MLROM/CDV/saved_rnn/rnn_005/checkpoints/LossHistoriesCheckpoint\n",
      "1300/1300 [==============================] - 263s 202ms/step - loss: 4.2287e-05 - val_loss: 4.5969e-05\n",
      "Epoch 40/200\n",
      "1300/1300 [==============================] - ETA: 0s - loss: 4.1621e-05 - tot_time: 2h 52m 47.8s\n",
      "\n",
      "Epoch 40: val_loss improved from 0.00004 to 0.00004, saving model to /home/rkaushik/Documents/Thesis/MLROM/CDV/saved_rnn/rnn_005/checkpoints/checkpoint\n",
      " - saving loss histories at /home/rkaushik/Documents/Thesis/MLROM/CDV/saved_rnn/rnn_005/checkpoints/LossHistoriesCheckpoint\n",
      "1300/1300 [==============================] - 263s 202ms/step - loss: 4.1621e-05 - val_loss: 4.0884e-05\n",
      "Epoch 41/200\n",
      "1300/1300 [==============================] - ETA: 0s - loss: 4.1363e-05 - tot_time: 2h 57m 10.3s\n",
      "\n",
      "Epoch 41: val_loss improved from 0.00004 to 0.00004, saving model to /home/rkaushik/Documents/Thesis/MLROM/CDV/saved_rnn/rnn_005/checkpoints/checkpoint\n",
      " - saving loss histories at /home/rkaushik/Documents/Thesis/MLROM/CDV/saved_rnn/rnn_005/checkpoints/LossHistoriesCheckpoint\n",
      "1300/1300 [==============================] - 262s 202ms/step - loss: 4.1363e-05 - val_loss: 4.0414e-05\n",
      "Epoch 42/200\n",
      "1300/1300 [==============================] - ETA: 0s - loss: 4.1062e-05 - tot_time: 3h 1m 37.2s\n",
      "\n",
      "Epoch 42: val_loss improved from 0.00004 to 0.00004, saving model to /home/rkaushik/Documents/Thesis/MLROM/CDV/saved_rnn/rnn_005/checkpoints/checkpoint\n",
      " - saving loss histories at /home/rkaushik/Documents/Thesis/MLROM/CDV/saved_rnn/rnn_005/checkpoints/LossHistoriesCheckpoint\n",
      "1300/1300 [==============================] - 267s 205ms/step - loss: 4.1062e-05 - val_loss: 4.0236e-05\n",
      "Epoch 43/200\n",
      "1300/1300 [==============================] - ETA: 0s - loss: 4.0637e-05 - tot_time: 3h 6m 3.3s\n",
      "\n",
      "Epoch 43: val_loss improved from 0.00004 to 0.00004, saving model to /home/rkaushik/Documents/Thesis/MLROM/CDV/saved_rnn/rnn_005/checkpoints/checkpoint\n",
      " - saving loss histories at /home/rkaushik/Documents/Thesis/MLROM/CDV/saved_rnn/rnn_005/checkpoints/LossHistoriesCheckpoint\n",
      "1300/1300 [==============================] - 266s 205ms/step - loss: 4.0637e-05 - val_loss: 4.0112e-05\n",
      "Epoch 44/200\n",
      "1300/1300 [==============================] - ETA: 0s - loss: 4.0350e-05 - tot_time: 3h 10m 25.5s\n",
      "\n",
      "Epoch 44: val_loss improved from 0.00004 to 0.00004, saving model to /home/rkaushik/Documents/Thesis/MLROM/CDV/saved_rnn/rnn_005/checkpoints/checkpoint\n",
      " - saving loss histories at /home/rkaushik/Documents/Thesis/MLROM/CDV/saved_rnn/rnn_005/checkpoints/LossHistoriesCheckpoint\n",
      "1300/1300 [==============================] - 262s 202ms/step - loss: 4.0350e-05 - val_loss: 4.0055e-05\n",
      "Epoch 45/200\n",
      "1300/1300 [==============================] - ETA: 0s - loss: 4.0030e-05 - tot_time: 3h 14m 49.0s\n",
      "\n",
      "Epoch 45: val_loss improved from 0.00004 to 0.00004, saving model to /home/rkaushik/Documents/Thesis/MLROM/CDV/saved_rnn/rnn_005/checkpoints/checkpoint\n",
      " - saving loss histories at /home/rkaushik/Documents/Thesis/MLROM/CDV/saved_rnn/rnn_005/checkpoints/LossHistoriesCheckpoint\n",
      "1300/1300 [==============================] - 264s 203ms/step - loss: 4.0030e-05 - val_loss: 3.9348e-05\n",
      "Epoch 46/200\n",
      "1300/1300 [==============================] - ETA: 0s - loss: 3.9730e-05 - tot_time: 3h 19m 10.8s\n",
      "\n",
      "Epoch 46: val_loss did not improve from 0.00004\n",
      " - saving loss histories at /home/rkaushik/Documents/Thesis/MLROM/CDV/saved_rnn/rnn_005/checkpoints/LossHistoriesCheckpoint\n",
      "1300/1300 [==============================] - 262s 201ms/step - loss: 3.9730e-05 - val_loss: 4.0435e-05\n",
      "Epoch 47/200\n",
      "1300/1300 [==============================] - ETA: 0s - loss: 3.9414e-05 - tot_time: 3h 23m 30.7s\n",
      "\n",
      "Epoch 47: val_loss improved from 0.00004 to 0.00004, saving model to /home/rkaushik/Documents/Thesis/MLROM/CDV/saved_rnn/rnn_005/checkpoints/checkpoint\n",
      " - saving loss histories at /home/rkaushik/Documents/Thesis/MLROM/CDV/saved_rnn/rnn_005/checkpoints/LossHistoriesCheckpoint\n",
      "1300/1300 [==============================] - 260s 200ms/step - loss: 3.9414e-05 - val_loss: 3.8971e-05\n",
      "Epoch 48/200\n",
      "1300/1300 [==============================] - ETA: 0s - loss: 3.9171e-05 - tot_time: 3h 27m 49.0s\n",
      "\n",
      "Epoch 48: val_loss did not improve from 0.00004\n",
      " - saving loss histories at /home/rkaushik/Documents/Thesis/MLROM/CDV/saved_rnn/rnn_005/checkpoints/LossHistoriesCheckpoint\n",
      "1300/1300 [==============================] - 258s 199ms/step - loss: 3.9171e-05 - val_loss: 4.0148e-05\n",
      "Epoch 49/200\n",
      "1300/1300 [==============================] - ETA: 0s - loss: 3.8955e-05 - tot_time: 3h 32m 11.2s\n",
      "\n",
      "Epoch 49: val_loss improved from 0.00004 to 0.00004, saving model to /home/rkaushik/Documents/Thesis/MLROM/CDV/saved_rnn/rnn_005/checkpoints/checkpoint\n",
      " - saving loss histories at /home/rkaushik/Documents/Thesis/MLROM/CDV/saved_rnn/rnn_005/checkpoints/LossHistoriesCheckpoint\n",
      "1300/1300 [==============================] - 262s 202ms/step - loss: 3.8955e-05 - val_loss: 3.8686e-05\n",
      "Epoch 50/200\n",
      "1300/1300 [==============================] - ETA: 0s - loss: 3.8760e-05 - tot_time: 3h 36m 35.1s\n",
      "\n",
      "Epoch 50: val_loss did not improve from 0.00004\n",
      " - saving loss histories at /home/rkaushik/Documents/Thesis/MLROM/CDV/saved_rnn/rnn_005/checkpoints/LossHistoriesCheckpoint\n",
      "1300/1300 [==============================] - 264s 203ms/step - loss: 3.8760e-05 - val_loss: 3.9275e-05\n",
      "Epoch 51/200\n",
      "1300/1300 [==============================] - ETA: 0s - loss: 3.8612e-05 - tot_time: 3h 40m 59.3s\n",
      "\n",
      "Epoch 51: val_loss improved from 0.00004 to 0.00004, saving model to /home/rkaushik/Documents/Thesis/MLROM/CDV/saved_rnn/rnn_005/checkpoints/checkpoint\n",
      " - saving loss histories at /home/rkaushik/Documents/Thesis/MLROM/CDV/saved_rnn/rnn_005/checkpoints/LossHistoriesCheckpoint\n",
      "1300/1300 [==============================] - 264s 203ms/step - loss: 3.8612e-05 - val_loss: 3.8566e-05\n",
      "Epoch 52/200\n",
      "1300/1300 [==============================] - ETA: 0s - loss: 3.8479e-05 - tot_time: 3h 45m 22.6s\n",
      "\n",
      "Epoch 52: val_loss improved from 0.00004 to 0.00004, saving model to /home/rkaushik/Documents/Thesis/MLROM/CDV/saved_rnn/rnn_005/checkpoints/checkpoint\n",
      " - saving loss histories at /home/rkaushik/Documents/Thesis/MLROM/CDV/saved_rnn/rnn_005/checkpoints/LossHistoriesCheckpoint\n",
      "1300/1300 [==============================] - 263s 203ms/step - loss: 3.8479e-05 - val_loss: 3.8409e-05\n",
      "Epoch 53/200\n",
      "1300/1300 [==============================] - ETA: 0s - loss: 3.8377e-05 - tot_time: 3h 49m 48.0s\n",
      "\n",
      "Epoch 53: val_loss improved from 0.00004 to 0.00004, saving model to /home/rkaushik/Documents/Thesis/MLROM/CDV/saved_rnn/rnn_005/checkpoints/checkpoint\n",
      " - saving loss histories at /home/rkaushik/Documents/Thesis/MLROM/CDV/saved_rnn/rnn_005/checkpoints/LossHistoriesCheckpoint\n",
      "1300/1300 [==============================] - 265s 204ms/step - loss: 3.8377e-05 - val_loss: 3.8345e-05\n",
      "Epoch 54/200\n"
     ]
    },
    {
     "name": "stdout",
     "output_type": "stream",
     "text": [
      "1300/1300 [==============================] - ETA: 0s - loss: 3.8291e-05 - tot_time: 3h 54m 11.2s\n",
      "\n",
      "Epoch 54: val_loss improved from 0.00004 to 0.00004, saving model to /home/rkaushik/Documents/Thesis/MLROM/CDV/saved_rnn/rnn_005/checkpoints/checkpoint\n",
      " - saving loss histories at /home/rkaushik/Documents/Thesis/MLROM/CDV/saved_rnn/rnn_005/checkpoints/LossHistoriesCheckpoint\n",
      "1300/1300 [==============================] - 263s 202ms/step - loss: 3.8291e-05 - val_loss: 3.8191e-05\n",
      "Epoch 55/200\n",
      "1300/1300 [==============================] - ETA: 0s - loss: 3.8224e-05 - tot_time: 3h 58m 37.9s\n",
      "\n",
      "Epoch 55: val_loss improved from 0.00004 to 0.00004, saving model to /home/rkaushik/Documents/Thesis/MLROM/CDV/saved_rnn/rnn_005/checkpoints/checkpoint\n",
      " - saving loss histories at /home/rkaushik/Documents/Thesis/MLROM/CDV/saved_rnn/rnn_005/checkpoints/LossHistoriesCheckpoint\n",
      "1300/1300 [==============================] - 267s 205ms/step - loss: 3.8224e-05 - val_loss: 3.8125e-05\n",
      "Epoch 56/200\n",
      "1300/1300 [==============================] - ETA: 0s - loss: 3.8167e-05 - tot_time: 4h 3m 5.0s\n",
      "\n",
      "Epoch 56: val_loss improved from 0.00004 to 0.00004, saving model to /home/rkaushik/Documents/Thesis/MLROM/CDV/saved_rnn/rnn_005/checkpoints/checkpoint\n",
      " - saving loss histories at /home/rkaushik/Documents/Thesis/MLROM/CDV/saved_rnn/rnn_005/checkpoints/LossHistoriesCheckpoint\n",
      "1300/1300 [==============================] - 267s 205ms/step - loss: 3.8167e-05 - val_loss: 3.8072e-05\n",
      "Epoch 57/200\n",
      "1300/1300 [==============================] - ETA: 0s - loss: 3.8123e-05 - tot_time: 4h 7m 28.1s\n",
      "\n",
      "Epoch 57: val_loss improved from 0.00004 to 0.00004, saving model to /home/rkaushik/Documents/Thesis/MLROM/CDV/saved_rnn/rnn_005/checkpoints/checkpoint\n",
      " - saving loss histories at /home/rkaushik/Documents/Thesis/MLROM/CDV/saved_rnn/rnn_005/checkpoints/LossHistoriesCheckpoint\n",
      "1300/1300 [==============================] - 263s 202ms/step - loss: 3.8123e-05 - val_loss: 3.8036e-05\n",
      "Epoch 58/200\n",
      "1300/1300 [==============================] - ETA: 0s - loss: 3.8086e-05 - tot_time: 4h 11m 50.3s\n",
      "\n",
      "Epoch 58: val_loss improved from 0.00004 to 0.00004, saving model to /home/rkaushik/Documents/Thesis/MLROM/CDV/saved_rnn/rnn_005/checkpoints/checkpoint\n",
      " - saving loss histories at /home/rkaushik/Documents/Thesis/MLROM/CDV/saved_rnn/rnn_005/checkpoints/LossHistoriesCheckpoint\n",
      "1300/1300 [==============================] - 262s 202ms/step - loss: 3.8086e-05 - val_loss: 3.7997e-05\n",
      "Epoch 59/200\n",
      "1300/1300 [==============================] - ETA: 0s - loss: 3.8055e-05 - tot_time: 4h 16m 9.7s\n",
      "\n",
      "Epoch 59: val_loss improved from 0.00004 to 0.00004, saving model to /home/rkaushik/Documents/Thesis/MLROM/CDV/saved_rnn/rnn_005/checkpoints/checkpoint\n",
      " - saving loss histories at /home/rkaushik/Documents/Thesis/MLROM/CDV/saved_rnn/rnn_005/checkpoints/LossHistoriesCheckpoint\n",
      "1300/1300 [==============================] - 259s 200ms/step - loss: 3.8055e-05 - val_loss: 3.7981e-05\n",
      "Epoch 60/200\n",
      "1300/1300 [==============================] - ETA: 0s - loss: 3.8029e-05 - tot_time: 4h 20m 26.5s\n",
      "\n",
      "Epoch 60: val_loss improved from 0.00004 to 0.00004, saving model to /home/rkaushik/Documents/Thesis/MLROM/CDV/saved_rnn/rnn_005/checkpoints/checkpoint\n",
      " - saving loss histories at /home/rkaushik/Documents/Thesis/MLROM/CDV/saved_rnn/rnn_005/checkpoints/LossHistoriesCheckpoint\n",
      "1300/1300 [==============================] - 257s 198ms/step - loss: 3.8029e-05 - val_loss: 3.7958e-05\n",
      "Epoch 61/200\n",
      "1300/1300 [==============================] - ETA: 0s - loss: 3.8008e-05Restoring model weights from the end of the best epoch: 41.\n",
      " - tot_time: 4h 24m 43.9s\n",
      "\n",
      "Epoch 61: val_loss improved from 0.00004 to 0.00004, saving model to /home/rkaushik/Documents/Thesis/MLROM/CDV/saved_rnn/rnn_005/checkpoints/checkpoint\n",
      " - saving loss histories at /home/rkaushik/Documents/Thesis/MLROM/CDV/saved_rnn/rnn_005/checkpoints/LossHistoriesCheckpoint\n",
      "1300/1300 [==============================] - 257s 198ms/step - loss: 3.8008e-05 - val_loss: 3.7937e-05\n",
      "Epoch 61: early stopping\n"
     ]
    }
   ],
   "source": [
    "# compiling the network\n",
    "rnn_net.compile(\n",
    "    optimizer=tf.keras.optimizers.Adam(learning_rate=learning_rate_dict['eta_begin']),\n",
    "    loss=losses.MeanSquaredError(),\n",
    "    run_eagerly=False\n",
    ")\n",
    "\n",
    "if behaviour == 'loadCheckpointAndContinueTraining':\n",
    "    # this loads the weights/attributes of the optimizer as well\n",
    "    rnn_net.load_weights(wt_file)\n",
    "\n",
    "if behaviour == 'initialiseAndTrainFromScratch' or behaviour == 'loadCheckpointAndContinueTraining':\n",
    "    # implementing early stopping\n",
    "    baseline = None\n",
    "    if behaviour == 'loadCheckpointAndContinueTraining':\n",
    "        baseline = np.min(val_loss_hist)\n",
    "    early_stopping_cb = tf.keras.callbacks.EarlyStopping(\n",
    "        monitor='val_loss',\n",
    "        patience=patience,\n",
    "        restore_best_weights=True,\n",
    "        verbose=True,\n",
    "        min_delta=min_delta,\n",
    "        baseline=baseline\n",
    "    )\n",
    "    # the below two lines are useless because wait is set to 0 in on_train_begin\n",
    "    # early_stopping_cb.wait = earlystopping_wait\n",
    "    # print('early_stopping_cb.wait : {}\\n'.format(early_stopping_cb.wait))\n",
    "\n",
    "    # time callback for each epoch\n",
    "    timekeeper_cb = mytimecallback()\n",
    "\n",
    "    # model checkpoint callback\n",
    "    dir_name_ckpt = dir_name_rnn+dir_sep+'checkpoints'\n",
    "    if not os.path.isdir(dir_name_ckpt):\n",
    "        os.makedirs(dir_name_ckpt)\n",
    "    checkpoint_cb = tf.keras.callbacks.ModelCheckpoint(\n",
    "        filepath=dir_name_ckpt+dir_sep+'checkpoint',#+'/checkpoint--loss={loss:.4f}--vall_loss={val_loss:.4f}',\n",
    "        monitor='val_loss',\n",
    "        save_best_only=True,\n",
    "        save_weights_only=True,\n",
    "        verbose=2,\n",
    "        initial_value_threshold=baseline,\n",
    "        period=1  # saves every 5 epochs\n",
    "    )\n",
    "\n",
    "    # save losses callback\n",
    "    savelosses_cb = SaveLosses(\n",
    "        filepath=dir_name_ckpt+dir_sep+'LossHistoriesCheckpoint',\n",
    "        val_loss_arr=savelosses_cb_vallossarr,\n",
    "        train_loss_arr=savelosses_cb_trainlossarr,\n",
    "        total_epochs=epochs,\n",
    "        period=1)\n",
    "    \n",
    "    # sigmoid annealing lr schedule\n",
    "    lrschedule_cb = sigmoidWarmupAndDecayLRSchedule(\n",
    "        eta_begin=learning_rate_dict['eta_begin'],\n",
    "        eta_high=learning_rate_dict['eta_high'],\n",
    "        eta_low=learning_rate_dict['eta_low'],\n",
    "        warmup=20,\n",
    "        expected_epochs=50,\n",
    "        g_star=0.999,\n",
    "        f_star=0.001\n",
    "    )\n",
    "\n",
    "    # training the network\n",
    "    savelosses_cb.update_offset(epochs - num_epochs_left)\n",
    "    \n",
    "    history = rnn_net.fit(training_data_rnn_input, training_data_rnn_output,\n",
    "        epochs=num_epochs_left,\n",
    "        batch_size=batch_size,\n",
    "        validation_split=val_split/(train_split+val_split),\n",
    "        callbacks=[early_stopping_cb, timekeeper_cb, checkpoint_cb, savelosses_cb, lrschedule_cb],\n",
    "        verbose=1\n",
    "    )\n",
    "\n",
    "    val_loss_hist.extend(history.history['val_loss'])\n",
    "    train_loss_hist.extend(history.history['loss'])"
   ]
  },
  {
   "cell_type": "code",
   "execution_count": 29,
   "metadata": {
    "colab": {
     "base_uri": "https://localhost:8080/"
    },
    "executionInfo": {
     "elapsed": 39901,
     "status": "ok",
     "timestamp": 1665446257928,
     "user": {
      "displayName": "Rohan Kaushik",
      "userId": "13918477614376051685"
     },
     "user_tz": -120
    },
    "id": "SO7iK4mbneQm",
    "outputId": "04e8b915-5ebd-493c-97ce-16a27d5688a7"
   },
   "outputs": [
    {
     "name": "stdout",
     "output_type": "stream",
     "text": [
      "325/325 [==============================] - 42s 94ms/step - loss: 4.0484e-05\n"
     ]
    }
   ],
   "source": [
    "if behaviour == 'initialiseAndTrainFromScratch' or behaviour == 'loadCheckpointAndContinueTraining':\n",
    "    test_loss = rnn_net.evaluate(\n",
    "        testing_data_rnn_input, testing_data_rnn_output,\n",
    "    )\n",
    "\n",
    "    save_path = dir_name_rnn+dir_sep+'final_net'\n",
    "\n",
    "    if not os.path.isdir(save_path):\n",
    "        os.makedirs(save_path)\n",
    "\n",
    "\n",
    "    with open(save_path+dir_sep+'losses.txt', 'w') as f:\n",
    "        f.write(str({\n",
    "            'val_loss_hist':val_loss_hist,\n",
    "            'train_loss_hist':train_loss_hist,\n",
    "            'lr_change':lr_change,\n",
    "            'test_loss':test_loss\n",
    "        }))\n",
    "        \n",
    "    if normalize_dataset == True:\n",
    "        with open(save_path+dir_sep+'rnn_normalization.txt', 'w') as f:\n",
    "            f.write(str({\n",
    "                'normalization_arr':normalization_arr\n",
    "            }))\n",
    "\n",
    "    rnn_net.save_everything(\n",
    "        file_name=save_path+dir_sep+'final_net')"
   ]
  },
  {
   "cell_type": "code",
   "execution_count": 30,
   "metadata": {
    "colab": {
     "base_uri": "https://localhost:8080/",
     "height": 279
    },
    "executionInfo": {
     "elapsed": 1002,
     "status": "ok",
     "timestamp": 1665446262298,
     "user": {
      "displayName": "Rohan Kaushik",
      "userId": "13918477614376051685"
     },
     "user_tz": -120
    },
    "id": "nDv5D8APneQm",
    "outputId": "90d7bcfc-2b84-4903-c200-83234ae5fe95"
   },
   "outputs": [
    {
     "data": {
      "image/png": "[encoded data removed]",
      "text/plain": [
       "<Figure size 640x480 with 1 Axes>"
      ]
     },
     "metadata": {},
     "output_type": "display_data"
    }
   ],
   "source": [
    "# plotting losses\n",
    "\n",
    "# Visualize loss history\n",
    "fig, ax = plot_losses(\n",
    "    training_loss=train_loss_hist,\n",
    "    val_loss=val_loss_hist,\n",
    "    lr_change=lr_change,\n",
    "    learning_rate_list=None\n",
    ")\n",
    "\n",
    "plt.savefig(dir_name_rnn+'{ds}plots{ds}loss_history.png'.format(ds=dir_sep), dpi=300, bbox_inches='tight')\n",
    "plt.show()\n"
   ]
  },
  {
   "cell_type": "code",
   "execution_count": 37,
   "metadata": {
    "colab": {
     "base_uri": "https://localhost:8080/",
     "height": 283
    },
    "executionInfo": {
     "elapsed": 610,
     "status": "ok",
     "timestamp": 1665446409570,
     "user": {
      "displayName": "Rohan Kaushik",
      "userId": "13918477614376051685"
     },
     "user_tz": -120
    },
    "id": "dbLa0AwlDBWh",
    "outputId": "7696b6e3-1b15-4272-86dc-5ec656f29d2a"
   },
   "outputs": [
    {
     "name": "stdout",
     "output_type": "stream",
     "text": [
      "data_idx : 8436\n"
     ]
    },
    {
     "data": {
      "image/png": "[encoded data removed]",
      "text/plain": [
       "<Figure size 640x480 with 1 Axes>"
      ]
     },
     "metadata": {},
     "output_type": "display_data"
    }
   ],
   "source": [
    "data_idx = np.arange(testing_data_rnn_output.shape[0])\n",
    "np.random.shuffle(data_idx)\n",
    "data_idx = data_idx[0]\n",
    "# data_idx = 10\n",
    "print('data_idx : {}'.format(data_idx))\n",
    "\n",
    "\n",
    "plt.plot(testing_data_rnn_output[data_idx, :, 0], testing_data_rnn_output[data_idx, :, 1], color='C0')\n",
    "plt.plot(testing_data_rnn_output[data_idx, 0, 0], testing_data_rnn_output[data_idx, 0, 1], marker='o', color='C0')\n",
    "\n",
    "plt.plot(testing_data_rnn_input[data_idx, 0, 0], testing_data_rnn_input[data_idx, 0, 1], marker='x', color='C1')\n",
    "\n",
    "prediction = rnn_net.predict(testing_data_rnn_input[data_idx:data_idx+1, :, :])\n",
    "plt.plot(prediction[0, :, 0], prediction[0, :, 1], color='C2')\n",
    "plt.plot(prediction[0, 0, 0], prediction[0, 0, 1], marker='o', color='C2')\n",
    "\n",
    "plt.grid(True)\n",
    "plt.show()"
   ]
  },
  {
   "cell_type": "code",
   "execution_count": 32,
   "metadata": {
    "colab": {
     "base_uri": "https://localhost:8080/"
    },
    "executionInfo": {
     "elapsed": 518,
     "status": "ok",
     "timestamp": 1665446405412,
     "user": {
      "displayName": "Rohan Kaushik",
      "userId": "13918477614376051685"
     },
     "user_tz": -120
    },
    "id": "MDopQ4JMhRPV",
    "outputId": "898d81cd-50f8-4b91-cb95-4ceab56db361"
   },
   "outputs": [
    {
     "data": {
      "text/plain": [
       "(1, 600, 4)"
      ]
     },
     "execution_count": 32,
     "metadata": {},
     "output_type": "execute_result"
    }
   ],
   "source": [
    "# prediction.shape\n",
    "testing_data_rnn_input[data_idx:data_idx+1, :, :].shape"
   ]
  },
  {
   "cell_type": "code",
   "execution_count": null,
   "metadata": {
    "id": "2_fAlJz2Vdev"
   },
   "outputs": [],
   "source": []
  }
 ],
 "metadata": {
  "accelerator": "GPU",
  "colab": {
   "collapsed_sections": [],
   "provenance": []
  },
  "gpuClass": "standard",
  "kernelspec": {
   "display_name": "Python 3 (ipykernel)",
   "language": "python",
   "name": "python3"
  },
  "language_info": {
   "codemirror_mode": {
    "name": "ipython",
    "version": 3
   },
   "file_extension": ".py",
   "mimetype": "text/x-python",
   "name": "python",
   "nbconvert_exporter": "python",
   "pygments_lexer": "ipython3",
   "version": "3.10.6"
  }
 },
 "nbformat": 4,
 "nbformat_minor": 1
}
