{
 "cells": [
  {
   "cell_type": "code",
   "execution_count": 1,
   "metadata": {
    "executionInfo": {
     "elapsed": 5,
     "status": "ok",
     "timestamp": 1666788634667,
     "user": {
      "displayName": "Rohan Kaushik",
      "userId": "13918477614376051685"
     },
     "user_tz": -120
    },
    "id": "4xhxMpe_r-Y5"
   },
   "outputs": [],
   "source": [
    "# enabling 3rd party widgets\n",
    "# from google.colab import output\n",
    "# output.enable_custom_widget_manager()\n",
    "# output.disable_custom_widget_manager()\n",
    "\n",
    "# interactive 3D plot\n",
    "# !pip install ipympl\n",
    "# %matplotlib widget"
   ]
  },
  {
   "cell_type": "code",
   "execution_count": 2,
   "metadata": {
    "executionInfo": {
     "elapsed": 3089,
     "status": "ok",
     "timestamp": 1666788637752,
     "user": {
      "displayName": "Rohan Kaushik",
      "userId": "13918477614376051685"
     },
     "user_tz": -120
    },
    "id": "a5qPupCDsjSz"
   },
   "outputs": [],
   "source": [
    "import os\n",
    "import math\n",
    "from collections import OrderedDict\n",
    "import numpy as np\n",
    "import matplotlib.pyplot as plt\n",
    "from scipy import linalg\n",
    "\n",
    "import time as time\n",
    "import platform as platform\n",
    "\n",
    "import tensorflow as tf\n",
    "from tensorflow.keras import layers, losses\n",
    "from tensorflow.keras.models import Model\n",
    "from tensorflow.keras import backend as K\n",
    "from tensorflow.keras.regularizers import L2\n",
    "import h5py\n",
    "\n",
    "tf.keras.backend.set_floatx('float32')\n",
    "plt.rcParams.update({\"text.usetex\":True}) # enable tex rendering in matplotlib"
   ]
  },
  {
   "cell_type": "code",
   "execution_count": 3,
   "metadata": {
    "executionInfo": {
     "elapsed": 8,
     "status": "ok",
     "timestamp": 1666788637752,
     "user": {
      "displayName": "Rohan Kaushik",
      "userId": "13918477614376051685"
     },
     "user_tz": -120
    },
    "id": "3AVrZNGlZu4Z"
   },
   "outputs": [],
   "source": [
    "colab_flag = False\n",
    "\n",
    "FTYPE = np.float32\n",
    "ITYPE = np.int32\n",
    "\n",
    "strategy = None\n",
    "# strategy = tf.distribute.MirroredStrategy()"
   ]
  },
  {
   "cell_type": "code",
   "execution_count": 4,
   "metadata": {
    "executionInfo": {
     "elapsed": 7,
     "status": "ok",
     "timestamp": 1666788637753,
     "user": {
      "displayName": "Rohan Kaushik",
      "userId": "13918477614376051685"
     },
     "user_tz": -120
    },
    "id": "SxAd7iDL0Ami"
   },
   "outputs": [],
   "source": [
    "current_sys = platform.system()\n",
    "\n",
    "if current_sys == 'Windows':\n",
    "    dir_sep = '\\\\'\n",
    "else:\n",
    "    dir_sep = '/'"
   ]
  },
  {
   "cell_type": "code",
   "execution_count": 5,
   "metadata": {
    "colab": {
     "base_uri": "https://localhost:8080/"
    },
    "executionInfo": {
     "elapsed": 27766,
     "status": "ok",
     "timestamp": 1666788665512,
     "user": {
      "displayName": "Rohan Kaushik",
      "userId": "13918477614376051685"
     },
     "user_tz": -120
    },
    "id": "JjNnPRuk0IIX",
    "outputId": "f93a8628-71fe-4d6d-b3b6-245dfcb8eb60"
   },
   "outputs": [],
   "source": [
    "if colab_flag == True:\n",
    "    from google.colab import drive\n",
    "    drive.mount('/content/drive')\n",
    "    os.chdir('/content/drive/MyDrive/Github/MLROM/KS/')"
   ]
  },
  {
   "cell_type": "code",
   "execution_count": 6,
   "metadata": {
    "colab": {
     "base_uri": "https://localhost:8080/"
    },
    "executionInfo": {
     "elapsed": 5,
     "status": "ok",
     "timestamp": 1666788665512,
     "user": {
      "displayName": "Rohan Kaushik",
      "userId": "13918477614376051685"
     },
     "user_tz": -120
    },
    "id": "9REiGIIy0IzV",
    "outputId": "2b5b0b02-2f67-4635-a00c-82084a8d2ffb"
   },
   "outputs": [
    {
     "name": "stdout",
     "output_type": "stream",
     "text": [
      "/home/rkaushik/Documents/Thesis/MLROM/new_cdv\n"
     ]
    }
   ],
   "source": [
    "print(os.getcwd())"
   ]
  },
  {
   "cell_type": "code",
   "execution_count": 7,
   "metadata": {
    "executionInfo": {
     "elapsed": 1381,
     "status": "ok",
     "timestamp": 1666788666890,
     "user": {
      "displayName": "Rohan Kaushik",
      "userId": "13918477614376051685"
     },
     "user_tz": -120
    },
    "id": "8S1AHEkl48bn"
   },
   "outputs": [],
   "source": [
    "from tools.misc_tools import mytimecallback, SaveLosses, plot_losses, readAndReturnLossHistories, plot_reconstructed_data_cdv, plot_latent_states_cdv\n",
    "from tools.ae_v2 import Autoencoder"
   ]
  },
  {
   "cell_type": "code",
   "execution_count": 8,
   "metadata": {
    "executionInfo": {
     "elapsed": 7,
     "status": "ok",
     "timestamp": 1666788666891,
     "user": {
      "displayName": "Rohan Kaushik",
      "userId": "13918477614376051685"
     },
     "user_tz": -120
    },
    "id": "-mIQj_v4gzMh"
   },
   "outputs": [],
   "source": [
    "behaviour = 'initialiseAndTrainFromScratch'\n",
    "# behaviour = 'loadCheckpointAndContinueTraining'\n",
    "# behaviour = 'loadFinalNetAndPlot'"
   ]
  },
  {
   "cell_type": "code",
   "execution_count": 9,
   "metadata": {
    "executionInfo": {
     "elapsed": 8,
     "status": "ok",
     "timestamp": 1666788666892,
     "user": {
      "displayName": "Rohan Kaushik",
      "userId": "13918477614376051685"
     },
     "user_tz": -120
    },
    "id": "QL5n-abCg0nI"
   },
   "outputs": [],
   "source": [
    "# setting seed for PRNGs\n",
    "if behaviour == 'initialiseAndTrainFromScratch':\n",
    "    prng_seed = 42\n",
    "    np.random.seed(prng_seed)\n",
    "    tf.random.set_seed(prng_seed)"
   ]
  },
  {
   "cell_type": "code",
   "execution_count": 10,
   "metadata": {
    "colab": {
     "base_uri": "https://localhost:8080/",
     "height": 35
    },
    "executionInfo": {
     "elapsed": 7,
     "status": "ok",
     "timestamp": 1666788666892,
     "user": {
      "displayName": "Rohan Kaushik",
      "userId": "13918477614376051685"
     },
     "user_tz": -120
    },
    "id": "tc3zO9xL_tNl",
    "outputId": "f77bf689-c865-4a8d-8d40-37ec9c75f1ee"
   },
   "outputs": [
    {
     "name": "stdout",
     "output_type": "stream",
     "text": [
      "[PhysicalDevice(name='/physical_device:GPU:0', device_type='GPU'), PhysicalDevice(name='/physical_device:GPU:1', device_type='GPU')]\n",
      "[LogicalDevice(name='/device:GPU:0', device_type='GPU')]\n"
     ]
    },
    {
     "name": "stderr",
     "output_type": "stream",
     "text": [
      "2023-05-24 21:01:42.739900: I tensorflow/stream_executor/cuda/cuda_gpu_executor.cc:936] successful NUMA node read from SysFS had negative value (-1), but there must be at least one NUMA node, so returning NUMA node zero\n",
      "2023-05-24 21:01:42.740581: I tensorflow/stream_executor/cuda/cuda_gpu_executor.cc:936] successful NUMA node read from SysFS had negative value (-1), but there must be at least one NUMA node, so returning NUMA node zero\n",
      "2023-05-24 21:01:42.798868: I tensorflow/stream_executor/cuda/cuda_gpu_executor.cc:936] successful NUMA node read from SysFS had negative value (-1), but there must be at least one NUMA node, so returning NUMA node zero\n",
      "2023-05-24 21:01:42.799166: I tensorflow/stream_executor/cuda/cuda_gpu_executor.cc:936] successful NUMA node read from SysFS had negative value (-1), but there must be at least one NUMA node, so returning NUMA node zero\n",
      "2023-05-24 21:01:42.799398: I tensorflow/stream_executor/cuda/cuda_gpu_executor.cc:936] successful NUMA node read from SysFS had negative value (-1), but there must be at least one NUMA node, so returning NUMA node zero\n",
      "2023-05-24 21:01:42.799597: I tensorflow/stream_executor/cuda/cuda_gpu_executor.cc:936] successful NUMA node read from SysFS had negative value (-1), but there must be at least one NUMA node, so returning NUMA node zero\n",
      "2023-05-24 21:01:42.800620: I tensorflow/core/platform/cpu_feature_guard.cc:151] This TensorFlow binary is optimized with oneAPI Deep Neural Network Library (oneDNN) to use the following CPU instructions in performance-critical operations:  SSE4.1 SSE4.2 AVX AVX2 FMA\n",
      "To enable them in other operations, rebuild TensorFlow with the appropriate compiler flags.\n",
      "2023-05-24 21:01:42.801394: I tensorflow/stream_executor/cuda/cuda_gpu_executor.cc:936] successful NUMA node read from SysFS had negative value (-1), but there must be at least one NUMA node, so returning NUMA node zero\n",
      "2023-05-24 21:01:42.801688: I tensorflow/stream_executor/cuda/cuda_gpu_executor.cc:936] successful NUMA node read from SysFS had negative value (-1), but there must be at least one NUMA node, so returning NUMA node zero\n",
      "2023-05-24 21:01:42.801888: I tensorflow/stream_executor/cuda/cuda_gpu_executor.cc:936] successful NUMA node read from SysFS had negative value (-1), but there must be at least one NUMA node, so returning NUMA node zero\n",
      "2023-05-24 21:01:43.350030: I tensorflow/stream_executor/cuda/cuda_gpu_executor.cc:936] successful NUMA node read from SysFS had negative value (-1), but there must be at least one NUMA node, so returning NUMA node zero\n",
      "2023-05-24 21:01:43.350239: I tensorflow/stream_executor/cuda/cuda_gpu_executor.cc:936] successful NUMA node read from SysFS had negative value (-1), but there must be at least one NUMA node, so returning NUMA node zero\n",
      "2023-05-24 21:01:43.350420: I tensorflow/stream_executor/cuda/cuda_gpu_executor.cc:936] successful NUMA node read from SysFS had negative value (-1), but there must be at least one NUMA node, so returning NUMA node zero\n",
      "2023-05-24 21:01:43.350570: I tensorflow/core/common_runtime/gpu/gpu_device.cc:1525] Created device /job:localhost/replica:0/task:0/device:GPU:0 with 3365 MB memory:  -> device: 1, name: Quadro K2200, pci bus id: 0000:03:00.0, compute capability: 5.0\n"
     ]
    }
   ],
   "source": [
    "gpus = tf.config.list_physical_devices('GPU')\n",
    "print(gpus)\n",
    "\n",
    "if colab_flag == False:\n",
    "    if strategy is None:\n",
    "        if gpus:\n",
    "            gpu_to_use = 1\n",
    "            tf.config.set_visible_devices(gpus[gpu_to_use], 'GPU')\n",
    "    logical_devices = tf.config.list_logical_devices('GPU')\n",
    "    print(logical_devices)"
   ]
  },
  {
   "cell_type": "code",
   "execution_count": 11,
   "metadata": {},
   "outputs": [
    {
     "name": "stdout",
     "output_type": "stream",
     "text": [
      "[PhysicalDevice(name='/physical_device:CPU:0', device_type='CPU'), PhysicalDevice(name='/physical_device:GPU:0', device_type='GPU'), PhysicalDevice(name='/physical_device:GPU:1', device_type='GPU')]\n",
      "[LogicalDevice(name='/device:CPU:0', device_type='CPU'), LogicalDevice(name='/device:GPU:0', device_type='GPU')]\n",
      "2.8.1\n"
     ]
    }
   ],
   "source": [
    "# print(tf.test.gpu_device_name())\n",
    "print(tf.config.list_physical_devices())\n",
    "print(tf.config.list_logical_devices())\n",
    "print(tf.__version__)"
   ]
  },
  {
   "cell_type": "markdown",
   "metadata": {
    "id": "7UbdnOtc4_z9"
   },
   "source": [
    "# KS System"
   ]
  },
  {
   "cell_type": "code",
   "execution_count": 12,
   "metadata": {
    "colab": {
     "base_uri": "https://localhost:8080/"
    },
    "executionInfo": {
     "elapsed": 2030,
     "status": "ok",
     "timestamp": 1666788668916,
     "user": {
      "displayName": "Rohan Kaushik",
      "userId": "13918477614376051685"
     },
     "user_tz": -120
    },
    "id": "xcNgt4hqg6Xv",
    "outputId": "7735ac54-495c-493f-869b-7d15538ee30c"
   },
   "outputs": [
    {
     "name": "stdout",
     "output_type": "stream",
     "text": [
      "dir_name_ae: /home/rkaushik/Documents/Thesis/MLROM/new_cdv/saved_ae/ae_007\n",
      "normalize_flag_ogdata: False\n"
     ]
    }
   ],
   "source": [
    "# setting up params (and saving, if applicable)\n",
    "from numpy import *\n",
    "\n",
    "if behaviour == 'initialiseAndTrainFromScratch':\n",
    "    # loading data directory\n",
    "    data_dir_idx = '004'\n",
    "\n",
    "    # making ae save directory\n",
    "    dir_name_ae = os.getcwd() + dir_sep + 'saved_ae'\n",
    "    if not os.path.isdir(dir_name_ae):\n",
    "        os.makedirs(dir_name_ae)\n",
    "\n",
    "    counter = 0\n",
    "    while True:\n",
    "        dir_check = 'ae_' + str(counter).zfill(3)\n",
    "        if os.path.isdir(dir_name_ae + dir_sep + dir_check):\n",
    "            counter += 1\n",
    "        else:\n",
    "            break\n",
    "\n",
    "    dir_name_ae = dir_name_ae + dir_sep + dir_check\n",
    "    os.makedirs(dir_name_ae)\n",
    "    os.makedirs(dir_name_ae+dir_sep+'plots')\n",
    "else:\n",
    "    # some paramaters\n",
    "    dir_name_ae = os.getcwd()+'{ds}saved_ae{ds}ae_015'.format(ds=dir_sep)\n",
    "\n",
    "    with open(dir_name_ae + dir_sep + 'ae_data.txt') as f:\n",
    "        lines = f.readlines()\n",
    "\n",
    "    params_dict = eval(''.join(lines))\n",
    "    data_dir_idx = params_dict['data_dir_idx']\n",
    "    normalizeforae_flag = params_dict['normalizeforae_flag']\n",
    "    normalization_constant_arr_aedata = params_dict['normalization_constant_arr_aedata']\n",
    "    if os.path.exists(dir_name_ae+dir_sep+'normalization_data.npz'):\n",
    "        with np.load(dir_name_ae+dir_sep+'normalization_data.npz', allow_pickle=True) as fl:\n",
    "            normalization_constant_arr_aedata = fl['normalization_constant_arr_aedata'][0]\n",
    "\n",
    "print('dir_name_ae:', dir_name_ae)\n",
    "# loading data\n",
    "dir_name_data = os.getcwd() + dir_sep + 'saved_data' + dir_sep + 'data_' + data_dir_idx\n",
    "    \n",
    "with open(dir_name_data + dir_sep + 'sim_data_params.txt') as f:\n",
    "    lines = f.readlines()\n",
    "params_dict = eval(''.join(lines))\n",
    "params_mat = params_dict['params_mat']\n",
    "# init_state = params_dict['init_state']\n",
    "t0 = params_dict['t0']\n",
    "T = params_dict['T']\n",
    "delta_t = params_dict['delta_t']\n",
    "return_params_arr = params_dict['return_params_arr']\n",
    "normalize_flag_ogdata = params_dict['normalize_flag']\n",
    "print('normalize_flag_ogdata:', normalize_flag_ogdata)\n",
    "alldata_withparams_flag = params_dict['alldata_withparams_flag']\n",
    "\n",
    "with np.load(dir_name_data+dir_sep+'data.npz', allow_pickle=True) as fl:\n",
    "    all_data = fl['all_data'].astype(FTYPE)\n",
    "    boundary_idx_arr = fl['boundary_idx_arr']\n",
    "    normalization_constant_arr_ogdata = fl['normalization_constant_arr'][0]\n",
    "    initial_t0 = fl['initial_t0']\n",
    "    init_state_mat = fl['init_state_mat']\n",
    "\n",
    "    lyapunov_spectrum_mat = fl['lyapunov_spectrum_mat']"
   ]
  },
  {
   "cell_type": "code",
   "execution_count": 13,
   "metadata": {},
   "outputs": [
    {
     "name": "stdout",
     "output_type": "stream",
     "text": [
      "Case : 1, lyapunov exponent : 0.027086916024239262, lyapunov time : 36.91819381713867s\n"
     ]
    }
   ],
   "source": [
    "lyapunov_time_arr = np.empty(shape=lyapunov_spectrum_mat.shape[0], dtype=FTYPE)\n",
    "for i in range(lyapunov_spectrum_mat.shape[0]):\n",
    "    lyapunov_time_arr[i] = 1/lyapunov_spectrum_mat[i, 0]\n",
    "    print('Case : {}, lyapunov exponent : {}, lyapunov time : {}s'.format(i+1, lyapunov_spectrum_mat[i, 0], lyapunov_time_arr[i]))"
   ]
  },
  {
   "cell_type": "code",
   "execution_count": 14,
   "metadata": {
    "executionInfo": {
     "elapsed": 2,
     "status": "ok",
     "timestamp": 1666788668916,
     "user": {
      "displayName": "Rohan Kaushik",
      "userId": "13918477614376051685"
     },
     "user_tz": -120
    },
    "id": "O7sl7i5H5Dqz"
   },
   "outputs": [
    {
     "name": "stdout",
     "output_type": "stream",
     "text": [
      "[0]\n"
     ]
    }
   ],
   "source": [
    "positve_lp_idx = np.where(lyapunov_time_arr > 0)[0]\n",
    "print(positve_lp_idx)"
   ]
  },
  {
   "cell_type": "code",
   "execution_count": 15,
   "metadata": {
    "colab": {
     "base_uri": "https://localhost:8080/",
     "height": 1000
    },
    "executionInfo": {
     "elapsed": 2415,
     "status": "ok",
     "timestamp": 1666788671329,
     "user": {
      "displayName": "Rohan Kaushik",
      "userId": "13918477614376051685"
     },
     "user_tz": -120
    },
    "id": "ySVDz_2U5FH5",
    "outputId": "53f23b1d-fa61-4f27-bbc4-2e624421a866",
    "scrolled": true
   },
   "outputs": [
    {
     "name": "stdout",
     "output_type": "stream",
     "text": [
      "[     0 500001]\n"
     ]
    }
   ],
   "source": [
    "last_idx = all_data.shape[0]\n",
    "temp_bia = np.zeros(shape=1+boundary_idx_arr.shape[0], dtype=np.int32)\n",
    "temp_bia[1:] = boundary_idx_arr\n",
    "print(temp_bia)\n",
    "for i in range(boundary_idx_arr.shape[0]-1, -1, -1):\n",
    "    if not (i in positve_lp_idx):\n",
    "        print(i)\n",
    "        num_idxs = last_idx - temp_bia[i+1]\n",
    "        all_data[temp_bia[i]:temp_bia[i]+num_idxs] = all_data[temp_bia[i+1]:last_idx]\n",
    "        last_idx = last_idx - (temp_bia[i+1]-temp_bia[i])"
   ]
  },
  {
   "cell_type": "code",
   "execution_count": 16,
   "metadata": {},
   "outputs": [],
   "source": [
    "new_bia = np.empty_like(boundary_idx_arr)\n",
    "new_bia[:] = boundary_idx_arr\n",
    "new_pmat = np.empty_like(params_mat)\n",
    "new_pmat[:, :] = params_mat\n",
    "counter = 0\n",
    "bia_counter = boundary_idx_arr.shape[0]\n",
    "for i in range(boundary_idx_arr.shape[0]):\n",
    "    if not (i in positve_lp_idx):\n",
    "        new_bia[i:] -= temp_bia[i+1] - temp_bia[i]\n",
    "        new_bia[i:bia_counter-1] = new_bia[i+1:bia_counter]\n",
    "        new_pmat[i:bia_counter-1] = new_pmat[i+1:bia_counter]\n",
    "        bia_counter -= 1"
   ]
  },
  {
   "cell_type": "code",
   "execution_count": 17,
   "metadata": {},
   "outputs": [],
   "source": [
    "new_bia = new_bia[0:bia_counter]\n",
    "new_pmat = new_pmat[0:bia_counter]"
   ]
  },
  {
   "cell_type": "code",
   "execution_count": 18,
   "metadata": {},
   "outputs": [],
   "source": [
    "all_data = all_data[0:new_bia[-1]]"
   ]
  },
  {
   "cell_type": "code",
   "execution_count": 19,
   "metadata": {},
   "outputs": [],
   "source": [
    "new_bia, boundary_idx_arr = boundary_idx_arr, new_bia\n",
    "new_pmat, params_mat = params_mat, new_pmat"
   ]
  },
  {
   "cell_type": "code",
   "execution_count": null,
   "metadata": {},
   "outputs": [],
   "source": []
  },
  {
   "cell_type": "code",
   "execution_count": null,
   "metadata": {
    "scrolled": true
   },
   "outputs": [],
   "source": []
  },
  {
   "cell_type": "code",
   "execution_count": null,
   "metadata": {},
   "outputs": [],
   "source": []
  },
  {
   "cell_type": "code",
   "execution_count": 20,
   "metadata": {
    "executionInfo": {
     "elapsed": 11,
     "status": "ok",
     "timestamp": 1666788671330,
     "user": {
      "displayName": "Rohan Kaushik",
      "userId": "13918477614376051685"
     },
     "user_tz": -120
    },
    "id": "bkQx9q_p5Gro"
   },
   "outputs": [],
   "source": [
    "# dealing with normalizing the data before feeding into autoencoder\n",
    "if behaviour == 'initialiseAndTrainFromScratch':\n",
    "    # normalize data before feeding into autoencoder?\n",
    "    normalizeforae_flag = True\n",
    "    normalization_type = 'stddev' # could be 'stddev' or 'minmax'\n",
    "    stddev_multiplier = 3\n",
    "    stddev_multiplier_pm = 1\n",
    "    num_params = params_mat.shape[1]\n",
    "\n",
    "    ae_data_with_params = False # whether to feed in the parameters to the AE along with the data?\n",
    "\n",
    "    og_vars = all_data.shape[1]\n",
    "    if alldata_withparams_flag == True:\n",
    "        og_vars -= num_params\n",
    "\n",
    "    if ae_data_with_params == False:\n",
    "        stddev_multiplier_pm = None\n",
    "    if normalizeforae_flag == False:\n",
    "        stddev_multiplier = None\n",
    "\n",
    "    if ae_data_with_params == True and alldata_withparams_flag == False:\n",
    "        new_all_data = np.empty(shape=(all_data.shape[0], og_vars+num_params), dtype=FTYPE)\n",
    "        new_all_data[:, 0:og_vars] = all_data[:, 0:og_vars]\n",
    "        del(all_data)\n",
    "        all_data = new_all_data\n",
    "        prev_idx = 0\n",
    "        for i in range(boundary_idx_arr.shape[0]):\n",
    "            all_data[prev_idx:boundary_idx_arr[i], num_params:] = params_mat[i]\n",
    "            prev_idx = boundary_idx_arr[i]\n",
    "\n",
    "    normalization_constant_arr_aedata = None\n",
    "    if normalizeforae_flag == True:\n",
    "        normalization_constant_arr_aedata = np.empty(shape=(2, all_data.shape[1]), dtype=FTYPE)\n",
    "        if normalization_type == 'stddev':\n",
    "            sample_mean = np.mean(all_data, axis=0)\n",
    "            sample_std = np.std(all_data, axis=0)\n",
    "            normalization_constant_arr_aedata[0, :] = sample_mean\n",
    "            normalization_constant_arr_aedata[1, 0:og_vars] = stddev_multiplier*sample_std[0:og_vars]\n",
    "            if ae_data_with_params == True:\n",
    "                normalization_constant_arr_aedata[1, og_vars:] = stddev_multiplier_pm*sample_std[og_vars:]\n",
    "            zero_idx = np.where(normalization_constant_arr_aedata[1] == 0.0)[0]\n",
    "            if len(zero_idx) > 0:\n",
    "                normalization_constant_arr_aedata[1, zero_idx] = 1.0\n",
    "        elif normalization_type == 'minmax':\n",
    "            for i in range(all_data.shape[1]):\n",
    "                sample_min = np.min(all_data[:, i])\n",
    "                sample_max = np.max(all_data[:, i])\n",
    "                if sample_max - sample_min == 0:\n",
    "                    sample_min = sample_min - 0.5\n",
    "                    sample_max = sample_min + 1\n",
    "                normalization_constant_arr_aedata[0, i] = sample_min\n",
    "                normalization_constant_arr_aedata[1, i] = sample_max - sample_min\n",
    "        # if ae_data_with_params == True:\n",
    "        #     normalization_constant_arr_aedata[0, og_vars:] = 0.0\n",
    "        #     normalization_constant_arr_aedata[1, og_vars:] = 1.0\n",
    "        for i in range(all_data.shape[1]):\n",
    "            all_data[:, i] -= normalization_constant_arr_aedata[0, i]\n",
    "            all_data[:, i] /= normalization_constant_arr_aedata[1, i]\n",
    "\n",
    "    # saving sim data\n",
    "    ae_data = {\n",
    "        'data_dir_idx':data_dir_idx,\n",
    "        'normalizeforae_flag':normalizeforae_flag,\n",
    "        'normalization_constant_arr_aedata':normalization_constant_arr_aedata,\n",
    "        'normalization_type':normalization_type,\n",
    "        'stddev_multiplier':stddev_multiplier,\n",
    "        'stddev_multiplier_pm':stddev_multiplier_pm,\n",
    "        'ae_data_with_params':ae_data_with_params,\n",
    "        'module':Autoencoder.__module__,\n",
    "    }\n",
    "    with open(dir_name_ae+dir_sep+'ae_data.txt', 'w') as f:\n",
    "        f.write(str(ae_data))\n",
    "    np.savez(\n",
    "        dir_name_ae+dir_sep+'normalization_data',\n",
    "        normalization_constant_arr_aedata=[normalization_constant_arr_aedata],\n",
    "    )\n",
    "else:\n",
    "    if normalizeforae_flag == True:\n",
    "        for i in range(all_data.shape[1]):\n",
    "            all_data[:, i] -= normalization_constant_arr_aedata[0, i]\n",
    "            all_data[:, i] /= normalization_constant_arr_aedata[1, i]\n",
    "            \n",
    "time_stddev = np.std(all_data, axis=0)\n",
    "if ae_data_with_params == False:\n",
    "    all_data = all_data[:, 0:og_vars]\n",
    "    time_stddev = time_stddev[0:og_vars]\n",
    "else:\n",
    "    time_stddev[og_vars:] = 1.0"
   ]
  },
  {
   "cell_type": "code",
   "execution_count": 21,
   "metadata": {},
   "outputs": [
    {
     "data": {
      "text/plain": [
       "array([[ 0.8598464 ,  0.20818995, -0.15084821, -0.4832867 , -0.19962065,\n",
       "         0.18153833],\n",
       "       [ 0.18234183,  0.22417355,  0.37001276,  0.33698028,  0.34491393,\n",
       "         0.42713565]], dtype=float32)"
      ]
     },
     "execution_count": 21,
     "metadata": {},
     "output_type": "execute_result"
    }
   ],
   "source": [
    "normalization_constant_arr_aedata"
   ]
  },
  {
   "cell_type": "code",
   "execution_count": null,
   "metadata": {
    "colab": {
     "base_uri": "https://localhost:8080/",
     "height": 1000
    },
    "executionInfo": {
     "elapsed": 1020,
     "status": "ok",
     "timestamp": 1666788672340,
     "user": {
      "displayName": "Rohan Kaushik",
      "userId": "13918477614376051685"
     },
     "user_tz": -120
    },
    "id": "uDhfYHU45IS8",
    "outputId": "982f534f-255c-41b9-f40a-327730ac89ae"
   },
   "outputs": [],
   "source": []
  },
  {
   "cell_type": "code",
   "execution_count": null,
   "metadata": {
    "executionInfo": {
     "elapsed": 13,
     "status": "ok",
     "timestamp": 1666788672341,
     "user": {
      "displayName": "Rohan Kaushik",
      "userId": "13918477614376051685"
     },
     "user_tz": -120
    },
    "id": "59kkrSP1GvzO"
   },
   "outputs": [],
   "source": []
  },
  {
   "cell_type": "code",
   "execution_count": null,
   "metadata": {
    "executionInfo": {
     "elapsed": 11,
     "status": "ok",
     "timestamp": 1666788672342,
     "user": {
      "displayName": "Rohan Kaushik",
      "userId": "13918477614376051685"
     },
     "user_tz": -120
    },
    "id": "-MJa7P5t5KiC",
    "scrolled": false
   },
   "outputs": [],
   "source": []
  },
  {
   "cell_type": "markdown",
   "metadata": {
    "id": "1v6KQEjR5LkK"
   },
   "source": [
    "# Autoencoder"
   ]
  },
  {
   "cell_type": "code",
   "execution_count": 22,
   "metadata": {
    "executionInfo": {
     "elapsed": 432,
     "status": "ok",
     "timestamp": 1666788672765,
     "user": {
      "displayName": "Rohan Kaushik",
      "userId": "13918477614376051685"
     },
     "user_tz": -120
    },
    "id": "c5cjQ1lnjcwt"
   },
   "outputs": [
    {
     "name": "stdout",
     "output_type": "stream",
     "text": [
      "stddev :  0.0025974366408567833\n"
     ]
    }
   ],
   "source": [
    "# setting up training params\n",
    "if behaviour == 'initialiseAndTrainFromScratch':\n",
    "    learning_rate_list = [1e-3, 1e-4, 1e-5]\n",
    "    epochs = 200\n",
    "    patience = 10  # parameter for early stopping\n",
    "    min_delta = 1e-6  # parameter for early stopping\n",
    "    lambda_reg = 1.99491662e-06 # weight for regularizer\n",
    "    train_split = 0.8\n",
    "    val_split = 0.1\n",
    "    test_split = 1 - train_split - val_split\n",
    "    batch_size = 2**6\n",
    "    fRMS = 7.79229715e-03\n",
    "    timeMeanofSpaceRMS = np.mean(np.mean(all_data[:, 0:og_vars]**2, axis=1)**0.5)\n",
    "    \n",
    "    dt_ae = 0.2\n",
    "    \n",
    "    # stddev = fRMS*timeMeanofSpaceRMS\n",
    "    stddev = fRMS * np.mean(time_stddev[0:og_vars])\n",
    "    contractive_lmda = 0.0\n",
    "    use_weights_post_dense = True\n",
    "    dropout_rate = 0.0\n",
    "    \n",
    "    print('stddev : ', stddev)\n",
    "\n",
    "    # saving training params\n",
    "    training_specific_params = {\n",
    "        'learning_rate_list':learning_rate_list,\n",
    "        'epochs':epochs,\n",
    "        'patience':patience,\n",
    "        'min_delta':min_delta,\n",
    "        'prng_seed':prng_seed,\n",
    "        'train_split':train_split,\n",
    "        'val_split':val_split,\n",
    "        'batch_size':batch_size,\n",
    "        'fRMS':fRMS,\n",
    "        'timeMeanofSpaceRMS':timeMeanofSpaceRMS,\n",
    "        'stddev':stddev,\n",
    "        'contractive_lmda':contractive_lmda,\n",
    "        'dropout_rate':dropout_rate,\n",
    "        'dt_ae':dt_ae,\n",
    "    }\n",
    "\n",
    "    with open(dir_name_ae+dir_sep+'training_specific_params.txt', 'w') as f:\n",
    "        f.write(str(training_specific_params))\n",
    "else:\n",
    "    with open(dir_name_ae + dir_sep + 'training_specific_params.txt') as f:\n",
    "        lines = f.readlines()\n",
    "\n",
    "    tparams_dict = eval(''.join(lines))\n",
    "\n",
    "    learning_rate_list = tparams_dict['learning_rate_list']\n",
    "    epochs = tparams_dict['epochs']\n",
    "    patience = tparams_dict['patience']\n",
    "    min_delta = tparams_dict['min_delta']\n",
    "    prng_seed = tparams_dict['prng_seed']\n",
    "    train_split = tparams_dict['train_split']\n",
    "    val_split = tparams_dict['val_split']\n",
    "    batch_size = tparams_dict['batch_size']\n",
    "    try:\n",
    "        stddev = tparams_dict['stddev']\n",
    "    except:\n",
    "        print(\"'stddev' not in tparams_dict, set to 0\")\n",
    "        stddev = 0.0\n",
    "    try:\n",
    "        contractive_lmda = tparams_dict['contractive_lmda']\n",
    "    except:\n",
    "        print(\"'contractive_lmda' not in tparams_dict, set to 0\")\n",
    "        contractive_lmda = 0.0\n",
    "    try:\n",
    "        dropout_rate = tparams_dict['dropout_rate']\n",
    "    except:\n",
    "        print(\"'dropout_rate' not in tparams_dict, set to 0\")\n",
    "        dropout_rate = 0.0\n",
    "\n",
    "    test_split = 1 - train_split - val_split\n",
    "\n",
    "    # setting seed for PRNGs\n",
    "    np.random.seed(prng_seed)\n",
    "    tf.random.set_seed(prng_seed)"
   ]
  },
  {
   "cell_type": "code",
   "execution_count": 23,
   "metadata": {
    "executionInfo": {
     "elapsed": 22,
     "status": "ok",
     "timestamp": 1666788672769,
     "user": {
      "displayName": "Rohan Kaushik",
      "userId": "13918477614376051685"
     },
     "user_tz": -120
    },
    "id": "lovTI3zuhlX0"
   },
   "outputs": [],
   "source": [
    "all_data = all_data[0:370001]\n",
    "boundary_idx_arr[0] = 370001"
   ]
  },
  {
   "cell_type": "code",
   "execution_count": 24,
   "metadata": {},
   "outputs": [],
   "source": [
    "skip_factor = int(dt_ae/delta_t)\n",
    "\n",
    "for i in range(len(boundary_idx_arr)-1, -1, -1):\n",
    "    end_idx = boundary_idx_arr[i]\n",
    "    if i == 0:\n",
    "        begin_idx = 0\n",
    "    else:\n",
    "        begin_idx = boundary_idx_arr[i-1]\n",
    "\n",
    "    num_elems_pre_indexing = end_idx - begin_idx\n",
    "    num_elems_post_indexing = 1 + num_elems_pre_indexing//skip_factor\n",
    "\n",
    "    boundary_idx_arr[i:] -= num_elems_pre_indexing-num_elems_post_indexing\n",
    "\n",
    "    all_data[begin_idx:begin_idx+num_elems_post_indexing] = all_data[begin_idx:end_idx:skip_factor]\n",
    "    all_data[begin_idx+num_elems_post_indexing:begin_idx+(boundary_idx_arr[-1]-boundary_idx_arr[i])] = all_data[end_idx:boundary_idx_arr[-1]+num_elems_post_indexing]\n",
    "\n",
    "all_data = all_data[0:boundary_idx_arr[-1]]"
   ]
  },
  {
   "cell_type": "code",
   "execution_count": 25,
   "metadata": {},
   "outputs": [
    {
     "data": {
      "text/plain": [
       "array([185001])"
      ]
     },
     "execution_count": 25,
     "metadata": {},
     "output_type": "execute_result"
    }
   ],
   "source": [
    "boundary_idx_arr"
   ]
  },
  {
   "cell_type": "code",
   "execution_count": 26,
   "metadata": {},
   "outputs": [
    {
     "data": {
      "text/plain": [
       "(185001, 6)"
      ]
     },
     "execution_count": 26,
     "metadata": {},
     "output_type": "execute_result"
    }
   ],
   "source": [
    "all_data.shape"
   ]
  },
  {
   "cell_type": "code",
   "execution_count": 27,
   "metadata": {
    "executionInfo": {
     "elapsed": 22,
     "status": "ok",
     "timestamp": 1666788672770,
     "user": {
      "displayName": "Rohan Kaushik",
      "userId": "13918477614376051685"
     },
     "user_tz": -120
    },
    "id": "IjsRi02g5ORG"
   },
   "outputs": [],
   "source": [
    "# # setting up data\n",
    "# idx = np.arange(all_data.shape[0])\n",
    "# np.random.shuffle(idx)\n",
    "# boundary = int(np.round((1-test_split)*all_data.shape[0]))\n",
    "# training_data = all_data[idx[0:boundary], :]\n",
    "# testing_data = all_data[idx[boundary:], :]"
   ]
  },
  {
   "cell_type": "code",
   "execution_count": 28,
   "metadata": {
    "executionInfo": {
     "elapsed": 21,
     "status": "ok",
     "timestamp": 1666788672771,
     "user": {
      "displayName": "Rohan Kaushik",
      "userId": "13918477614376051685"
     },
     "user_tz": -120
    },
    "id": "Qwietg7eTG-s"
   },
   "outputs": [],
   "source": [
    "cum_samples = boundary_idx_arr[-1]\n",
    "# idx = np.arange(cum_samples)\n",
    "# np.random.shuffle(idx)\n",
    "num_train = 0\n",
    "num_val = 0\n",
    "begin_idx = 0\n",
    "for i in range(len(boundary_idx_arr)):\n",
    "    num_samples = boundary_idx_arr[i] - begin_idx\n",
    "    num_train += int( np.round(train_split*num_samples) )\n",
    "    num_val += int( np.round(val_split*num_samples) )\n",
    "    begin_idx = boundary_idx_arr[i]\n",
    "\n",
    "# defining shapes\n",
    "training_shape = [num_train]\n",
    "training_shape.extend(all_data.shape[1:])\n",
    "\n",
    "val_shape = [num_val]\n",
    "val_shape.extend(all_data.shape[1:])\n",
    "\n",
    "testing_shape = [cum_samples-num_train-num_val]\n",
    "testing_shape.extend(all_data.shape[1:])\n",
    "\n",
    "# defining required arrays\n",
    "training_data = np.empty(shape=training_shape)\n",
    "\n",
    "val_data = np.empty(shape=val_shape)\n",
    "\n",
    "testing_data = np.empty(shape=testing_shape)\n",
    "\n",
    "begin_idx = 0\n",
    "training_data_rolling_count = 0\n",
    "val_data_rolling_count = 0\n",
    "testing_data_rolling_count = 0\n",
    "for i in range(len(boundary_idx_arr)):\n",
    "    num_samples = boundary_idx_arr[i] - begin_idx\n",
    "    num_train = int( np.round(train_split*num_samples) )\n",
    "    num_val = int( np.round(val_split*num_samples) )\n",
    "\n",
    "    training_data[training_data_rolling_count:training_data_rolling_count+num_train] = all_data[begin_idx:begin_idx+num_train]\n",
    "    training_data_rolling_count += num_train\n",
    "\n",
    "    val_data[val_data_rolling_count:val_data_rolling_count+num_val] = all_data[begin_idx+num_train:begin_idx+num_train+num_val]\n",
    "    val_data_rolling_count += num_val\n",
    "\n",
    "    num_test = num_samples-num_train-num_val\n",
    "    testing_data[testing_data_rolling_count:testing_data_rolling_count+num_test] = all_data[begin_idx+num_train+num_val:begin_idx+num_train+num_val+num_test]\n",
    "    testing_data_rolling_count += num_test\n",
    "\n",
    "    begin_idx = boundary_idx_arr[i]\n",
    "\n",
    "# further shuffling\n",
    "# idx = np.arange(0, training_data.shape[0])\n",
    "# np.random.shuffle(idx)\n",
    "# training_data_rnn_input = training_data_rnn_input[idx]\n",
    "np.random.shuffle(training_data)\n",
    "\n",
    "# idx = np.arange(0, val_data.shape[0])\n",
    "# np.random.shuffle(idx)\n",
    "# val_data = val_data[idx]\n",
    "np.random.shuffle(val_data)\n",
    "\n",
    "# idx = np.arange(0, testing_data.shape[0])\n",
    "# np.random.shuffle(idx)\n",
    "# testing_data = testing_data[idx]\n",
    "np.random.shuffle(testing_data)"
   ]
  },
  {
   "cell_type": "code",
   "execution_count": 29,
   "metadata": {
    "executionInfo": {
     "elapsed": 21,
     "status": "ok",
     "timestamp": 1666788672772,
     "user": {
      "displayName": "Rohan Kaushik",
      "userId": "13918477614376051685"
     },
     "user_tz": -120
    },
    "id": "gJ-28EnzJ4Ur"
   },
   "outputs": [],
   "source": [
    "#"
   ]
  },
  {
   "cell_type": "code",
   "execution_count": null,
   "metadata": {
    "executionInfo": {
     "elapsed": 20,
     "status": "ok",
     "timestamp": 1666788672773,
     "user": {
      "displayName": "Rohan Kaushik",
      "userId": "13918477614376051685"
     },
     "user_tz": -120
    },
    "id": "7xTsmS7lgpps"
   },
   "outputs": [],
   "source": []
  },
  {
   "cell_type": "code",
   "execution_count": 30,
   "metadata": {
    "executionInfo": {
     "elapsed": 1626,
     "status": "ok",
     "timestamp": 1666788674381,
     "user": {
      "displayName": "Rohan Kaushik",
      "userId": "13918477614376051685"
     },
     "user_tz": -120
    },
    "id": "7l5kI1tfMszJ"
   },
   "outputs": [],
   "source": [
    "# Initialize network\n",
    "if behaviour == 'initialiseAndTrainFromScratch':\n",
    "    latent_space_dim = 2\n",
    "    # enc_layers = [128, 96, 64, 48, 32, 24, 26, 8, 4]\n",
    "    # enc_layers = [192, 96, 48, 24, 12, 6, 3]\n",
    "    # enc_layers = [96, 48, 24, 12, 6, 3]\n",
    "    # enc_layers = [128, 64, 32, 16, 8, 4]\n",
    "    # enc_layers = []\n",
    "    # enc_layers = [32, 16, 8, 4]\n",
    "    # for i in range(len(enc_layers)):\n",
    "    #     if latent_space_dim < enc_layers[-i-1]:\n",
    "    #         enc_layers = enc_layers[0:-i]\n",
    "    #         break\n",
    "    #     if i == len(enc_layers)-1:\n",
    "    #         enc_layers = []\n",
    "    # dec_layers = enc_layers[::-1]\n",
    "    enc_layers = [16, 8, 8]\n",
    "    dec_layers = [8, 8, 16]\n",
    "    \n",
    "    enc_layer_act_func = 'elu'\n",
    "    enc_final_layer_act_func = 'tanh'\n",
    "    dec_layer_act_func = 'elu'\n",
    "    dec_final_layer_act_func = 'tanh'\n",
    "    reg_name = 'L2'\n",
    "    \n",
    "    if strategy is not None:\n",
    "        with strategy.scope():\n",
    "            ae_net = Autoencoder(\n",
    "                data_dim=all_data.shape[1],\n",
    "                enc_layers=enc_layers,\n",
    "                dec_layers=dec_layers,\n",
    "                latent_space_dim=latent_space_dim,\n",
    "                lambda_reg=lambda_reg,\n",
    "                reg_name=reg_name,\n",
    "                enc_layer_act_func=enc_layer_act_func,\n",
    "                enc_final_layer_act_func=enc_final_layer_act_func,\n",
    "                dec_layer_act_func=dec_layer_act_func,\n",
    "                dec_final_layer_act_func=dec_final_layer_act_func,\n",
    "                load_file=None,\n",
    "                stddev=stddev,\n",
    "                contractive_lmda=contractive_lmda,\n",
    "                dropout_rate=dropout_rate,\n",
    "                use_weights_post_dense=use_weights_post_dense,)\n",
    "    else:\n",
    "        ae_net = Autoencoder(\n",
    "            data_dim=all_data.shape[1],\n",
    "            enc_layers=enc_layers,\n",
    "            dec_layers=dec_layers,\n",
    "            latent_space_dim=latent_space_dim,\n",
    "            lambda_reg=lambda_reg,\n",
    "            reg_name=reg_name,\n",
    "            enc_layer_act_func=enc_layer_act_func,\n",
    "            enc_final_layer_act_func=enc_final_layer_act_func,\n",
    "            dec_layer_act_func=dec_layer_act_func,\n",
    "            dec_final_layer_act_func=dec_final_layer_act_func,\n",
    "            load_file=None,\n",
    "            stddev=stddev,\n",
    "            contractive_lmda=contractive_lmda,\n",
    "            dropout_rate=dropout_rate,\n",
    "            use_weights_post_dense=use_weights_post_dense,)\n",
    "    # saving the AE configuration\n",
    "    save_path = dir_name_ae+dir_sep+'final_net'\n",
    "    if not os.path.isdir(save_path):\n",
    "        os.makedirs(save_path)\n",
    "    ae_net.save_class_dict(save_path+dir_sep+'final_net_class_dict.txt')\n",
    "else:\n",
    "    load_file = dir_name_ae + dir_sep + 'final_net' + dir_sep + 'final_net_class_dict.txt'\n",
    "    if strategy is not None:\n",
    "        with strategy.scope():\n",
    "            ae_net = Autoencoder(data_dim=all_data.shape[1], load_file=load_file)\n",
    "    else:\n",
    "        ae_net = Autoencoder(data_dim=all_data.shape[1], load_file=load_file)\n",
    "    \n",
    "    if behaviour == 'loadCheckpointAndContinueTraining':\n",
    "        wt_file = tf.train.latest_checkpoint(dir_name_ae+dir_sep+'checkpoints')\n",
    "        # ae_net.load_weights(wt_file)\n",
    "    elif behaviour == 'loadFinalNetAndPlot':\n",
    "        wt_file = dir_name_ae+dir_sep+'final_net'+dir_sep+'final_net_ae_weights.h5'\n",
    "        ae_net.load_weights_from_file(wt_file)"
   ]
  },
  {
   "cell_type": "code",
   "execution_count": 31,
   "metadata": {
    "executionInfo": {
     "elapsed": 259,
     "status": "ok",
     "timestamp": 1666788674637,
     "user": {
      "displayName": "Rohan Kaushik",
      "userId": "13918477614376051685"
     },
     "user_tz": -120
    },
    "id": "48tkgZxT0Amt"
   },
   "outputs": [],
   "source": [
    "#"
   ]
  },
  {
   "cell_type": "code",
   "execution_count": 32,
   "metadata": {
    "executionInfo": {
     "elapsed": 322,
     "status": "ok",
     "timestamp": 1666788674956,
     "user": {
      "displayName": "Rohan Kaushik",
      "userId": "13918477614376051685"
     },
     "user_tz": -120
    },
    "id": "yUChBAKqIFtX"
   },
   "outputs": [],
   "source": [
    "if behaviour == 'initialiseAndTrainFromScratch':\n",
    "    val_loss_hist = []\n",
    "    train_loss_hist = []\n",
    "    lr_change=[0, 0]\n",
    "    savelosses_cb_vallossarr = np.ones(shape=epochs*len(learning_rate_list))*np.NaN\n",
    "    savelosses_cb_trainlossarr = np.ones(shape=epochs*len(learning_rate_list))*np.NaN\n",
    "    starting_lr_idx = 0\n",
    "    num_epochs_left = epochs\n",
    "elif behaviour == 'loadCheckpointAndContinueTraining':\n",
    "    val_loss_hist, train_loss_hist, lr_change, starting_lr_idx, num_epochs_left, val_loss_arr_fromckpt, train_loss_arr_fromckpt = readAndReturnLossHistories(\n",
    "        dir_name_ae=dir_name_ae,\n",
    "        dir_sep=dir_sep,\n",
    "        epochs=epochs,\n",
    "        learning_rate_list=learning_rate_list)\n",
    "    savelosses_cb_vallossarr = val_loss_arr_fromckpt\n",
    "    savelosses_cb_trainlossarr = train_loss_arr_fromckpt\n",
    "elif behaviour == 'loadFinalNetAndPlot':\n",
    "    with open(dir_name_ae+'{ds}final_net{ds}losses.txt'.format(ds=dir_sep), 'r') as f:\n",
    "        lines = f.readlines()\n",
    "    \n",
    "    losses_dict = eval(''.join(lines))\n",
    "\n",
    "    val_loss_hist = losses_dict['val_loss_hist']\n",
    "    train_loss_hist = losses_dict['train_loss_hist']\n",
    "    lr_change = losses_dict['lr_change']\n",
    "    test_loss = losses_dict['test_loss']"
   ]
  },
  {
   "cell_type": "code",
   "execution_count": 33,
   "metadata": {},
   "outputs": [],
   "source": [
    "train_MSE_hist = []\n",
    "val_MSE_hist = []\n",
    "\n",
    "train_NMSE_hist = []\n",
    "val_NMSE_hist = []\n",
    "\n",
    "train_ls_jacobian_norm_hist = []\n",
    "\n",
    "train_real_MSE_hist = []\n",
    "val_real_MSE_hist = []\n",
    "\n",
    "train_params_MSE_hist = []\n",
    "val_params_MSE_hist = []"
   ]
  },
  {
   "cell_type": "code",
   "execution_count": 34,
   "metadata": {
    "executionInfo": {
     "elapsed": 5,
     "status": "ok",
     "timestamp": 1666788674957,
     "user": {
      "displayName": "Rohan Kaushik",
      "userId": "13918477614376051685"
     },
     "user_tz": -120
    },
    "id": "Z0oEGp6WKGu2"
   },
   "outputs": [],
   "source": [
    "class NMSE(tf.keras.metrics.MeanSquaredError):\n",
    "    def __init__(self, divisor_arr, name='NMSE', **kwargs):\n",
    "        super(NMSE, self).__init__(name, **kwargs)\n",
    "        self.divisor_arr = divisor_arr\n",
    "\n",
    "    def update_state(self, y_true, y_pred, sample_weight=None):\n",
    "        y_true = y_true / self.divisor_arr\n",
    "        y_pred = y_pred / self.divisor_arr\n",
    "        return super(NMSE, self).update_state(y_true, y_pred, sample_weight)\n",
    "\n",
    "class real_MSE(tf.keras.metrics.MeanSquaredError):\n",
    "    def __init__(self, og_vars, name='real_MSE', **kwargs):\n",
    "        super().__init__(name, **kwargs)\n",
    "        self.og_vars = og_vars\n",
    "\n",
    "    def update_state(self, y_true, y_pred, sample_weight=None):\n",
    "        y_true = y_true[:, 0:self.og_vars]\n",
    "        y_pred = y_pred[:, 0:self.og_vars]\n",
    "        return super().update_state(y_true, y_pred, sample_weight)\n",
    "    \n",
    "class params_MSE(tf.keras.metrics.MeanSquaredError):\n",
    "    def __init__(self, og_vars, name='params_MSE', **kwargs):\n",
    "        super().__init__(name, **kwargs)\n",
    "        self.og_vars = og_vars\n",
    "\n",
    "    def update_state(self, y_true, y_pred, sample_weight=None):\n",
    "        y_true = y_true[:, self.og_vars:]\n",
    "        y_pred = y_pred[:, self.og_vars:]\n",
    "        return super().update_state(y_true, y_pred, sample_weight)"
   ]
  },
  {
   "cell_type": "code",
   "execution_count": 35,
   "metadata": {
    "colab": {
     "base_uri": "https://localhost:8080/"
    },
    "executionInfo": {
     "elapsed": 191278,
     "status": "ok",
     "timestamp": 1666788866231,
     "user": {
      "displayName": "Rohan Kaushik",
      "userId": "13918477614376051685"
     },
     "user_tz": -120
    },
    "id": "gELga1WnQeMK",
    "outputId": "e923a97a-2d9d-4c74-c328-4793de05b919",
    "scrolled": true
   },
   "outputs": [
    {
     "name": "stdout",
     "output_type": "stream",
     "text": [
      "WARNING:tensorflow:`period` argument is deprecated. Please use `save_freq` to specify the frequency in number of batches seen.\n",
      "\n",
      "\n",
      "--------------------------------------------------------------------------------\n",
      "\n",
      "---------------------------- LEARNING RATE : 0.001 -----------------------------\n",
      "\n",
      "--------------------------------------------------------------------------------\n",
      "\n",
      "\n",
      "Epoch 1/200\n",
      "2306/2313 [============================>.] - ETA: 0s - loss: 0.0095 - mse: 0.0093 - NMSE: 0.0840 - real_MSE: 0.0093 - params_MSE: nan - ls_jacobian_norm: 0.7688 - tot_time: 0h 0m 16.4s\n",
      "\n",
      "Epoch 1: val_mse improved from inf to 0.00521, saving model to /home/rkaushik/Documents/Thesis/MLROM/new_cdv/saved_ae/ae_007/checkpoints/checkpoint\n",
      " - saving loss histories at /home/rkaushik/Documents/Thesis/MLROM/new_cdv/saved_ae/ae_007/checkpoints/LossHistoriesCheckpoint\n",
      "2313/2313 [==============================] - 16s 6ms/step - loss: 0.0095 - mse: 0.0093 - NMSE: 0.0839 - real_MSE: 0.0093 - params_MSE: nan - ls_jacobian_norm: 0.7689 - val_loss: 0.0054 - val_mse: 0.0052 - val_NMSE: 0.0469 - val_real_MSE: 0.0052 - val_params_MSE: nan - val_ls_jacobian_norm: -1.0000\n",
      "Epoch 2/200\n",
      "2304/2313 [============================>.] - ETA: 0s - loss: 0.0051 - mse: 0.0049 - NMSE: 0.0441 - real_MSE: 0.0049 - params_MSE: nan - ls_jacobian_norm: 0.7659 - tot_time: 0h 0m 31.3s\n",
      "\n",
      "Epoch 2: val_mse improved from 0.00521 to 0.00443, saving model to /home/rkaushik/Documents/Thesis/MLROM/new_cdv/saved_ae/ae_007/checkpoints/checkpoint\n",
      " - saving loss histories at /home/rkaushik/Documents/Thesis/MLROM/new_cdv/saved_ae/ae_007/checkpoints/LossHistoriesCheckpoint\n",
      "2313/2313 [==============================] - 15s 6ms/step - loss: 0.0051 - mse: 0.0049 - NMSE: 0.0441 - real_MSE: 0.0049 - params_MSE: nan - ls_jacobian_norm: 0.7659 - val_loss: 0.0046 - val_mse: 0.0044 - val_NMSE: 0.0399 - val_real_MSE: 0.0044 - val_params_MSE: nan - val_ls_jacobian_norm: -1.0000\n",
      "Epoch 3/200\n",
      "2312/2313 [============================>.] - ETA: 0s - loss: 0.0044 - mse: 0.0043 - NMSE: 0.0384 - real_MSE: 0.0043 - params_MSE: nan - ls_jacobian_norm: 0.7922 - tot_time: 0h 0m 46.2s\n",
      "\n",
      "Epoch 3: val_mse improved from 0.00443 to 0.00390, saving model to /home/rkaushik/Documents/Thesis/MLROM/new_cdv/saved_ae/ae_007/checkpoints/checkpoint\n",
      " - saving loss histories at /home/rkaushik/Documents/Thesis/MLROM/new_cdv/saved_ae/ae_007/checkpoints/LossHistoriesCheckpoint\n",
      "2313/2313 [==============================] - 15s 6ms/step - loss: 0.0044 - mse: 0.0043 - NMSE: 0.0384 - real_MSE: 0.0043 - params_MSE: nan - ls_jacobian_norm: 0.7923 - val_loss: 0.0041 - val_mse: 0.0039 - val_NMSE: 0.0351 - val_real_MSE: 0.0039 - val_params_MSE: nan - val_ls_jacobian_norm: -1.0000\n",
      "Epoch 4/200\n",
      "2309/2313 [============================>.] - ETA: 0s - loss: 0.0039 - mse: 0.0037 - NMSE: 0.0332 - real_MSE: 0.0037 - params_MSE: nan - ls_jacobian_norm: 0.8729 - tot_time: 0h 1m 1.3s\n",
      "\n",
      "Epoch 4: val_mse improved from 0.00390 to 0.00334, saving model to /home/rkaushik/Documents/Thesis/MLROM/new_cdv/saved_ae/ae_007/checkpoints/checkpoint\n",
      " - saving loss histories at /home/rkaushik/Documents/Thesis/MLROM/new_cdv/saved_ae/ae_007/checkpoints/LossHistoriesCheckpoint\n",
      "2313/2313 [==============================] - 15s 7ms/step - loss: 0.0039 - mse: 0.0037 - NMSE: 0.0332 - real_MSE: 0.0037 - params_MSE: nan - ls_jacobian_norm: 0.8730 - val_loss: 0.0035 - val_mse: 0.0033 - val_NMSE: 0.0301 - val_real_MSE: 0.0033 - val_params_MSE: nan - val_ls_jacobian_norm: -1.0000\n",
      "Epoch 5/200\n",
      "2313/2313 [==============================] - ETA: 0s - loss: 0.0034 - mse: 0.0032 - NMSE: 0.0286 - real_MSE: 0.0032 - params_MSE: nan - ls_jacobian_norm: 0.9290 - tot_time: 0h 1m 15.4s\n",
      "\n",
      "Epoch 5: val_mse improved from 0.00334 to 0.00304, saving model to /home/rkaushik/Documents/Thesis/MLROM/new_cdv/saved_ae/ae_007/checkpoints/checkpoint\n",
      " - saving loss histories at /home/rkaushik/Documents/Thesis/MLROM/new_cdv/saved_ae/ae_007/checkpoints/LossHistoriesCheckpoint\n",
      "2313/2313 [==============================] - 14s 6ms/step - loss: 0.0034 - mse: 0.0032 - NMSE: 0.0286 - real_MSE: 0.0032 - params_MSE: nan - ls_jacobian_norm: 0.9290 - val_loss: 0.0032 - val_mse: 0.0030 - val_NMSE: 0.0273 - val_real_MSE: 0.0030 - val_params_MSE: nan - val_ls_jacobian_norm: -1.0000\n",
      "Epoch 6/200\n",
      "2302/2313 [============================>.] - ETA: 0s - loss: 0.0031 - mse: 0.0029 - NMSE: 0.0262 - real_MSE: 0.0029 - params_MSE: nan - ls_jacobian_norm: 0.9496 - tot_time: 0h 1m 30.7s\n",
      "\n",
      "Epoch 6: val_mse improved from 0.00304 to 0.00272, saving model to /home/rkaushik/Documents/Thesis/MLROM/new_cdv/saved_ae/ae_007/checkpoints/checkpoint\n",
      " - saving loss histories at /home/rkaushik/Documents/Thesis/MLROM/new_cdv/saved_ae/ae_007/checkpoints/LossHistoriesCheckpoint\n",
      "2313/2313 [==============================] - 15s 7ms/step - loss: 0.0031 - mse: 0.0029 - NMSE: 0.0262 - real_MSE: 0.0029 - params_MSE: nan - ls_jacobian_norm: 0.9496 - val_loss: 0.0029 - val_mse: 0.0027 - val_NMSE: 0.0245 - val_real_MSE: 0.0027 - val_params_MSE: nan - val_ls_jacobian_norm: -1.0000\n",
      "Epoch 7/200\n",
      "2310/2313 [============================>.] - ETA: 0s - loss: 0.0029 - mse: 0.0027 - NMSE: 0.0239 - real_MSE: 0.0027 - params_MSE: nan - ls_jacobian_norm: 0.9471 - tot_time: 0h 1m 45.1s\n",
      "\n",
      "Epoch 7: val_mse improved from 0.00272 to 0.00250, saving model to /home/rkaushik/Documents/Thesis/MLROM/new_cdv/saved_ae/ae_007/checkpoints/checkpoint\n",
      " - saving loss histories at /home/rkaushik/Documents/Thesis/MLROM/new_cdv/saved_ae/ae_007/checkpoints/LossHistoriesCheckpoint\n",
      "2313/2313 [==============================] - 14s 6ms/step - loss: 0.0029 - mse: 0.0027 - NMSE: 0.0239 - real_MSE: 0.0027 - params_MSE: nan - ls_jacobian_norm: 0.9472 - val_loss: 0.0027 - val_mse: 0.0025 - val_NMSE: 0.0225 - val_real_MSE: 0.0025 - val_params_MSE: nan - val_ls_jacobian_norm: -1.0000\n",
      "Epoch 8/200\n",
      "2307/2313 [============================>.] - ETA: 0s - loss: 0.0027 - mse: 0.0024 - NMSE: 0.0220 - real_MSE: 0.0024 - params_MSE: nan - ls_jacobian_norm: 0.9282 - tot_time: 0h 1m 59.1s\n",
      "\n",
      "Epoch 8: val_mse improved from 0.00250 to 0.00224, saving model to /home/rkaushik/Documents/Thesis/MLROM/new_cdv/saved_ae/ae_007/checkpoints/checkpoint\n",
      " - saving loss histories at /home/rkaushik/Documents/Thesis/MLROM/new_cdv/saved_ae/ae_007/checkpoints/LossHistoriesCheckpoint\n",
      "2313/2313 [==============================] - 14s 6ms/step - loss: 0.0027 - mse: 0.0024 - NMSE: 0.0219 - real_MSE: 0.0024 - params_MSE: nan - ls_jacobian_norm: 0.9281 - val_loss: 0.0025 - val_mse: 0.0022 - val_NMSE: 0.0202 - val_real_MSE: 0.0022 - val_params_MSE: nan - val_ls_jacobian_norm: -1.0000\n",
      "Epoch 9/200\n",
      "2307/2313 [============================>.] - ETA: 0s - loss: 0.0025 - mse: 0.0023 - NMSE: 0.0206 - real_MSE: 0.0023 - params_MSE: nan - ls_jacobian_norm: 0.9173 - tot_time: 0h 2m 14.6s\n",
      "\n",
      "Epoch 9: val_mse did not improve from 0.00224\n",
      " - saving loss histories at /home/rkaushik/Documents/Thesis/MLROM/new_cdv/saved_ae/ae_007/checkpoints/LossHistoriesCheckpoint\n",
      "2313/2313 [==============================] - 15s 7ms/step - loss: 0.0025 - mse: 0.0023 - NMSE: 0.0206 - real_MSE: 0.0023 - params_MSE: nan - ls_jacobian_norm: 0.9173 - val_loss: 0.0025 - val_mse: 0.0023 - val_NMSE: 0.0204 - val_real_MSE: 0.0023 - val_params_MSE: nan - val_ls_jacobian_norm: -1.0000\n",
      "Epoch 10/200\n",
      "2312/2313 [============================>.] - ETA: 0s - loss: 0.0024 - mse: 0.0022 - NMSE: 0.0197 - real_MSE: 0.0022 - params_MSE: nan - ls_jacobian_norm: 0.9056 - tot_time: 0h 2m 29.9s\n",
      "\n",
      "Epoch 10: val_mse improved from 0.00224 to 0.00204, saving model to /home/rkaushik/Documents/Thesis/MLROM/new_cdv/saved_ae/ae_007/checkpoints/checkpoint\n",
      " - saving loss histories at /home/rkaushik/Documents/Thesis/MLROM/new_cdv/saved_ae/ae_007/checkpoints/LossHistoriesCheckpoint\n",
      "2313/2313 [==============================] - 15s 7ms/step - loss: 0.0024 - mse: 0.0022 - NMSE: 0.0197 - real_MSE: 0.0022 - params_MSE: nan - ls_jacobian_norm: 0.9055 - val_loss: 0.0023 - val_mse: 0.0020 - val_NMSE: 0.0183 - val_real_MSE: 0.0020 - val_params_MSE: nan - val_ls_jacobian_norm: -1.0000\n",
      "Epoch 11/200\n",
      "2302/2313 [============================>.] - ETA: 0s - loss: 0.0024 - mse: 0.0021 - NMSE: 0.0190 - real_MSE: 0.0021 - params_MSE: nan - ls_jacobian_norm: 0.8984 - tot_time: 0h 2m 45.5s\n",
      "\n",
      "Epoch 11: val_mse improved from 0.00204 to 0.00198, saving model to /home/rkaushik/Documents/Thesis/MLROM/new_cdv/saved_ae/ae_007/checkpoints/checkpoint\n"
     ]
    },
    {
     "name": "stdout",
     "output_type": "stream",
     "text": [
      " - saving loss histories at /home/rkaushik/Documents/Thesis/MLROM/new_cdv/saved_ae/ae_007/checkpoints/LossHistoriesCheckpoint\n",
      "2313/2313 [==============================] - 16s 7ms/step - loss: 0.0024 - mse: 0.0021 - NMSE: 0.0190 - real_MSE: 0.0021 - params_MSE: nan - ls_jacobian_norm: 0.8984 - val_loss: 0.0022 - val_mse: 0.0020 - val_NMSE: 0.0178 - val_real_MSE: 0.0020 - val_params_MSE: nan - val_ls_jacobian_norm: -1.0000\n",
      "Epoch 12/200\n",
      "2304/2313 [============================>.] - ETA: 0s - loss: 0.0023 - mse: 0.0020 - NMSE: 0.0184 - real_MSE: 0.0020 - params_MSE: nan - ls_jacobian_norm: 0.8950 - tot_time: 0h 3m 0.3s\n",
      "\n",
      "Epoch 12: val_mse improved from 0.00198 to 0.00191, saving model to /home/rkaushik/Documents/Thesis/MLROM/new_cdv/saved_ae/ae_007/checkpoints/checkpoint\n",
      " - saving loss histories at /home/rkaushik/Documents/Thesis/MLROM/new_cdv/saved_ae/ae_007/checkpoints/LossHistoriesCheckpoint\n",
      "2313/2313 [==============================] - 15s 6ms/step - loss: 0.0023 - mse: 0.0020 - NMSE: 0.0184 - real_MSE: 0.0020 - params_MSE: nan - ls_jacobian_norm: 0.8951 - val_loss: 0.0022 - val_mse: 0.0019 - val_NMSE: 0.0172 - val_real_MSE: 0.0019 - val_params_MSE: nan - val_ls_jacobian_norm: -1.0000\n",
      "Epoch 13/200\n",
      "2306/2313 [============================>.] - ETA: 0s - loss: 0.0022 - mse: 0.0020 - NMSE: 0.0177 - real_MSE: 0.0020 - params_MSE: nan - ls_jacobian_norm: 0.8907 - tot_time: 0h 3m 15.3s\n",
      "\n",
      "Epoch 13: val_mse improved from 0.00191 to 0.00187, saving model to /home/rkaushik/Documents/Thesis/MLROM/new_cdv/saved_ae/ae_007/checkpoints/checkpoint\n",
      " - saving loss histories at /home/rkaushik/Documents/Thesis/MLROM/new_cdv/saved_ae/ae_007/checkpoints/LossHistoriesCheckpoint\n",
      "2313/2313 [==============================] - 15s 6ms/step - loss: 0.0022 - mse: 0.0020 - NMSE: 0.0177 - real_MSE: 0.0020 - params_MSE: nan - ls_jacobian_norm: 0.8907 - val_loss: 0.0021 - val_mse: 0.0019 - val_NMSE: 0.0168 - val_real_MSE: 0.0019 - val_params_MSE: nan - val_ls_jacobian_norm: -1.0000\n",
      "Epoch 14/200\n",
      "2309/2313 [============================>.] - ETA: 0s - loss: 0.0022 - mse: 0.0019 - NMSE: 0.0174 - real_MSE: 0.0019 - params_MSE: nan - ls_jacobian_norm: 0.8877 - tot_time: 0h 3m 29.9s\n",
      "\n",
      "Epoch 14: val_mse did not improve from 0.00187\n",
      " - saving loss histories at /home/rkaushik/Documents/Thesis/MLROM/new_cdv/saved_ae/ae_007/checkpoints/LossHistoriesCheckpoint\n",
      "2313/2313 [==============================] - 15s 6ms/step - loss: 0.0022 - mse: 0.0019 - NMSE: 0.0174 - real_MSE: 0.0019 - params_MSE: nan - ls_jacobian_norm: 0.8876 - val_loss: 0.0022 - val_mse: 0.0020 - val_NMSE: 0.0177 - val_real_MSE: 0.0020 - val_params_MSE: nan - val_ls_jacobian_norm: -1.0000\n",
      "Epoch 15/200\n",
      "2311/2313 [============================>.] - ETA: 0s - loss: 0.0022 - mse: 0.0019 - NMSE: 0.0171 - real_MSE: 0.0019 - params_MSE: nan - ls_jacobian_norm: 0.8839 - tot_time: 0h 3m 44.9s\n",
      "\n",
      "Epoch 15: val_mse improved from 0.00187 to 0.00177, saving model to /home/rkaushik/Documents/Thesis/MLROM/new_cdv/saved_ae/ae_007/checkpoints/checkpoint\n",
      " - saving loss histories at /home/rkaushik/Documents/Thesis/MLROM/new_cdv/saved_ae/ae_007/checkpoints/LossHistoriesCheckpoint\n",
      "2313/2313 [==============================] - 15s 7ms/step - loss: 0.0022 - mse: 0.0019 - NMSE: 0.0171 - real_MSE: 0.0019 - params_MSE: nan - ls_jacobian_norm: 0.8839 - val_loss: 0.0020 - val_mse: 0.0018 - val_NMSE: 0.0159 - val_real_MSE: 0.0018 - val_params_MSE: nan - val_ls_jacobian_norm: -1.0000\n",
      "Epoch 16/200\n",
      "2312/2313 [============================>.] - ETA: 0s - loss: 0.0021 - mse: 0.0019 - NMSE: 0.0168 - real_MSE: 0.0019 - params_MSE: nan - ls_jacobian_norm: 0.8834 - tot_time: 0h 4m 0.7s\n",
      "\n",
      "Epoch 16: val_mse improved from 0.00177 to 0.00177, saving model to /home/rkaushik/Documents/Thesis/MLROM/new_cdv/saved_ae/ae_007/checkpoints/checkpoint\n",
      " - saving loss histories at /home/rkaushik/Documents/Thesis/MLROM/new_cdv/saved_ae/ae_007/checkpoints/LossHistoriesCheckpoint\n",
      "2313/2313 [==============================] - 16s 7ms/step - loss: 0.0021 - mse: 0.0019 - NMSE: 0.0168 - real_MSE: 0.0019 - params_MSE: nan - ls_jacobian_norm: 0.8833 - val_loss: 0.0020 - val_mse: 0.0018 - val_NMSE: 0.0159 - val_real_MSE: 0.0018 - val_params_MSE: nan - val_ls_jacobian_norm: -1.0000\n",
      "Epoch 17/200\n",
      "2311/2313 [============================>.] - ETA: 0s - loss: 0.0021 - mse: 0.0018 - NMSE: 0.0166 - real_MSE: 0.0018 - params_MSE: nan - ls_jacobian_norm: 0.8801 - tot_time: 0h 4m 15.7s\n",
      "\n",
      "Epoch 17: val_mse improved from 0.00177 to 0.00172, saving model to /home/rkaushik/Documents/Thesis/MLROM/new_cdv/saved_ae/ae_007/checkpoints/checkpoint\n",
      " - saving loss histories at /home/rkaushik/Documents/Thesis/MLROM/new_cdv/saved_ae/ae_007/checkpoints/LossHistoriesCheckpoint\n",
      "2313/2313 [==============================] - 15s 6ms/step - loss: 0.0021 - mse: 0.0018 - NMSE: 0.0166 - real_MSE: 0.0018 - params_MSE: nan - ls_jacobian_norm: 0.8801 - val_loss: 0.0020 - val_mse: 0.0017 - val_NMSE: 0.0155 - val_real_MSE: 0.0017 - val_params_MSE: nan - val_ls_jacobian_norm: -1.0000\n",
      "Epoch 18/200\n",
      "2313/2313 [==============================] - ETA: 0s - loss: 0.0021 - mse: 0.0018 - NMSE: 0.0163 - real_MSE: 0.0018 - params_MSE: nan - ls_jacobian_norm: 0.8830 - tot_time: 0h 4m 30.5s\n",
      "\n",
      "Epoch 18: val_mse improved from 0.00172 to 0.00169, saving model to /home/rkaushik/Documents/Thesis/MLROM/new_cdv/saved_ae/ae_007/checkpoints/checkpoint\n",
      " - saving loss histories at /home/rkaushik/Documents/Thesis/MLROM/new_cdv/saved_ae/ae_007/checkpoints/LossHistoriesCheckpoint\n",
      "2313/2313 [==============================] - 15s 6ms/step - loss: 0.0021 - mse: 0.0018 - NMSE: 0.0163 - real_MSE: 0.0018 - params_MSE: nan - ls_jacobian_norm: 0.8830 - val_loss: 0.0020 - val_mse: 0.0017 - val_NMSE: 0.0152 - val_real_MSE: 0.0017 - val_params_MSE: nan - val_ls_jacobian_norm: -1.0000\n",
      "Epoch 19/200\n",
      "2309/2313 [============================>.] - ETA: 0s - loss: 0.0021 - mse: 0.0018 - NMSE: 0.0161 - real_MSE: 0.0018 - params_MSE: nan - ls_jacobian_norm: 0.8816 - tot_time: 0h 4m 45.8s\n",
      "\n",
      "Epoch 19: val_mse improved from 0.00169 to 0.00169, saving model to /home/rkaushik/Documents/Thesis/MLROM/new_cdv/saved_ae/ae_007/checkpoints/checkpoint\n",
      " - saving loss histories at /home/rkaushik/Documents/Thesis/MLROM/new_cdv/saved_ae/ae_007/checkpoints/LossHistoriesCheckpoint\n",
      "2313/2313 [==============================] - 15s 7ms/step - loss: 0.0021 - mse: 0.0018 - NMSE: 0.0161 - real_MSE: 0.0018 - params_MSE: nan - ls_jacobian_norm: 0.8815 - val_loss: 0.0020 - val_mse: 0.0017 - val_NMSE: 0.0152 - val_real_MSE: 0.0017 - val_params_MSE: nan - val_ls_jacobian_norm: -1.0000\n",
      "Epoch 20/200\n",
      "2312/2313 [============================>.] - ETA: 0s - loss: 0.0021 - mse: 0.0018 - NMSE: 0.0160 - real_MSE: 0.0018 - params_MSE: nan - ls_jacobian_norm: 0.8847 - tot_time: 0h 5m 0.5s\n",
      "\n",
      "Epoch 20: val_mse improved from 0.00169 to 0.00166, saving model to /home/rkaushik/Documents/Thesis/MLROM/new_cdv/saved_ae/ae_007/checkpoints/checkpoint\n",
      " - saving loss histories at /home/rkaushik/Documents/Thesis/MLROM/new_cdv/saved_ae/ae_007/checkpoints/LossHistoriesCheckpoint\n",
      "2313/2313 [==============================] - 15s 6ms/step - loss: 0.0021 - mse: 0.0018 - NMSE: 0.0160 - real_MSE: 0.0018 - params_MSE: nan - ls_jacobian_norm: 0.8848 - val_loss: 0.0019 - val_mse: 0.0017 - val_NMSE: 0.0149 - val_real_MSE: 0.0017 - val_params_MSE: nan - val_ls_jacobian_norm: -1.0000\n",
      "Epoch 21/200\n",
      "2311/2313 [============================>.] - ETA: 0s - loss: 0.0020 - mse: 0.0018 - NMSE: 0.0158 - real_MSE: 0.0018 - params_MSE: nan - ls_jacobian_norm: 0.8879 - tot_time: 0h 5m 15.6s\n",
      "\n",
      "Epoch 21: val_mse did not improve from 0.00166\n",
      " - saving loss histories at /home/rkaushik/Documents/Thesis/MLROM/new_cdv/saved_ae/ae_007/checkpoints/LossHistoriesCheckpoint\n",
      "2313/2313 [==============================] - 15s 7ms/step - loss: 0.0020 - mse: 0.0018 - NMSE: 0.0158 - real_MSE: 0.0018 - params_MSE: nan - ls_jacobian_norm: 0.8879 - val_loss: 0.0020 - val_mse: 0.0017 - val_NMSE: 0.0152 - val_real_MSE: 0.0017 - val_params_MSE: nan - val_ls_jacobian_norm: -1.0000\n",
      "Epoch 22/200\n",
      "2303/2313 [============================>.] - ETA: 0s - loss: 0.0020 - mse: 0.0017 - NMSE: 0.0156 - real_MSE: 0.0017 - params_MSE: nan - ls_jacobian_norm: 0.8936 - tot_time: 0h 5m 29.2s\n",
      "\n",
      "Epoch 22: val_mse did not improve from 0.00166\n"
     ]
    },
    {
     "name": "stdout",
     "output_type": "stream",
     "text": [
      " - saving loss histories at /home/rkaushik/Documents/Thesis/MLROM/new_cdv/saved_ae/ae_007/checkpoints/LossHistoriesCheckpoint\n",
      "2313/2313 [==============================] - 14s 6ms/step - loss: 0.0020 - mse: 0.0017 - NMSE: 0.0156 - real_MSE: 0.0017 - params_MSE: nan - ls_jacobian_norm: 0.8937 - val_loss: 0.0020 - val_mse: 0.0017 - val_NMSE: 0.0153 - val_real_MSE: 0.0017 - val_params_MSE: nan - val_ls_jacobian_norm: -1.0000\n",
      "Epoch 23/200\n",
      "2312/2313 [============================>.] - ETA: 0s - loss: 0.0020 - mse: 0.0017 - NMSE: 0.0155 - real_MSE: 0.0017 - params_MSE: nan - ls_jacobian_norm: 0.8985 - tot_time: 0h 5m 44.9s\n",
      "\n",
      "Epoch 23: val_mse improved from 0.00166 to 0.00159, saving model to /home/rkaushik/Documents/Thesis/MLROM/new_cdv/saved_ae/ae_007/checkpoints/checkpoint\n",
      " - saving loss histories at /home/rkaushik/Documents/Thesis/MLROM/new_cdv/saved_ae/ae_007/checkpoints/LossHistoriesCheckpoint\n",
      "2313/2313 [==============================] - 16s 7ms/step - loss: 0.0020 - mse: 0.0017 - NMSE: 0.0155 - real_MSE: 0.0017 - params_MSE: nan - ls_jacobian_norm: 0.8985 - val_loss: 0.0019 - val_mse: 0.0016 - val_NMSE: 0.0144 - val_real_MSE: 0.0016 - val_params_MSE: nan - val_ls_jacobian_norm: -1.0000\n",
      "Epoch 24/200\n",
      "2308/2313 [============================>.] - ETA: 0s - loss: 0.0020 - mse: 0.0017 - NMSE: 0.0154 - real_MSE: 0.0017 - params_MSE: nan - ls_jacobian_norm: 0.9052 - tot_time: 0h 5m 59.4s\n",
      "\n",
      "Epoch 24: val_mse did not improve from 0.00159\n",
      " - saving loss histories at /home/rkaushik/Documents/Thesis/MLROM/new_cdv/saved_ae/ae_007/checkpoints/LossHistoriesCheckpoint\n",
      "2313/2313 [==============================] - 14s 6ms/step - loss: 0.0020 - mse: 0.0017 - NMSE: 0.0154 - real_MSE: 0.0017 - params_MSE: nan - ls_jacobian_norm: 0.9051 - val_loss: 0.0020 - val_mse: 0.0017 - val_NMSE: 0.0150 - val_real_MSE: 0.0017 - val_params_MSE: nan - val_ls_jacobian_norm: -1.0000\n",
      "Epoch 25/200\n",
      "2309/2313 [============================>.] - ETA: 0s - loss: 0.0020 - mse: 0.0017 - NMSE: 0.0152 - real_MSE: 0.0017 - params_MSE: nan - ls_jacobian_norm: 0.9018 - tot_time: 0h 6m 14.6s\n",
      "\n",
      "Epoch 25: val_mse did not improve from 0.00159\n",
      " - saving loss histories at /home/rkaushik/Documents/Thesis/MLROM/new_cdv/saved_ae/ae_007/checkpoints/LossHistoriesCheckpoint\n",
      "2313/2313 [==============================] - 15s 7ms/step - loss: 0.0020 - mse: 0.0017 - NMSE: 0.0152 - real_MSE: 0.0017 - params_MSE: nan - ls_jacobian_norm: 0.9020 - val_loss: 0.0019 - val_mse: 0.0016 - val_NMSE: 0.0144 - val_real_MSE: 0.0016 - val_params_MSE: nan - val_ls_jacobian_norm: -1.0000\n",
      "Epoch 26/200\n",
      "2307/2313 [============================>.] - ETA: 0s - loss: 0.0020 - mse: 0.0017 - NMSE: 0.0153 - real_MSE: 0.0017 - params_MSE: nan - ls_jacobian_norm: 0.8916 - tot_time: 0h 6m 29.6s\n",
      "\n",
      "Epoch 26: val_mse improved from 0.00159 to 0.00155, saving model to /home/rkaushik/Documents/Thesis/MLROM/new_cdv/saved_ae/ae_007/checkpoints/checkpoint\n",
      " - saving loss histories at /home/rkaushik/Documents/Thesis/MLROM/new_cdv/saved_ae/ae_007/checkpoints/LossHistoriesCheckpoint\n",
      "2313/2313 [==============================] - 15s 7ms/step - loss: 0.0020 - mse: 0.0017 - NMSE: 0.0153 - real_MSE: 0.0017 - params_MSE: nan - ls_jacobian_norm: 0.8917 - val_loss: 0.0018 - val_mse: 0.0016 - val_NMSE: 0.0140 - val_real_MSE: 0.0016 - val_params_MSE: nan - val_ls_jacobian_norm: -1.0000\n",
      "Epoch 27/200\n",
      "2308/2313 [============================>.] - ETA: 0s - loss: 0.0020 - mse: 0.0017 - NMSE: 0.0151 - real_MSE: 0.0017 - params_MSE: nan - ls_jacobian_norm: 0.8896 - tot_time: 0h 6m 43.4s\n",
      "\n",
      "Epoch 27: val_mse did not improve from 0.00155\n",
      " - saving loss histories at /home/rkaushik/Documents/Thesis/MLROM/new_cdv/saved_ae/ae_007/checkpoints/LossHistoriesCheckpoint\n",
      "2313/2313 [==============================] - 14s 6ms/step - loss: 0.0020 - mse: 0.0017 - NMSE: 0.0151 - real_MSE: 0.0017 - params_MSE: nan - ls_jacobian_norm: 0.8895 - val_loss: 0.0019 - val_mse: 0.0016 - val_NMSE: 0.0145 - val_real_MSE: 0.0016 - val_params_MSE: nan - val_ls_jacobian_norm: -1.0000\n",
      "Epoch 28/200\n",
      "2310/2313 [============================>.] - ETA: 0s - loss: 0.0020 - mse: 0.0017 - NMSE: 0.0150 - real_MSE: 0.0017 - params_MSE: nan - ls_jacobian_norm: 0.8857 - tot_time: 0h 6m 58.5s\n",
      "\n",
      "Epoch 28: val_mse did not improve from 0.00155\n",
      " - saving loss histories at /home/rkaushik/Documents/Thesis/MLROM/new_cdv/saved_ae/ae_007/checkpoints/LossHistoriesCheckpoint\n",
      "2313/2313 [==============================] - 15s 7ms/step - loss: 0.0020 - mse: 0.0017 - NMSE: 0.0150 - real_MSE: 0.0017 - params_MSE: nan - ls_jacobian_norm: 0.8859 - val_loss: 0.0019 - val_mse: 0.0016 - val_NMSE: 0.0144 - val_real_MSE: 0.0016 - val_params_MSE: nan - val_ls_jacobian_norm: -1.0000\n",
      "Epoch 29/200\n",
      "2310/2313 [============================>.] - ETA: 0s - loss: 0.0019 - mse: 0.0017 - NMSE: 0.0149 - real_MSE: 0.0017 - params_MSE: nan - ls_jacobian_norm: 0.8922 - tot_time: 0h 7m 12.9s\n",
      "\n",
      "Epoch 29: val_mse did not improve from 0.00155\n",
      " - saving loss histories at /home/rkaushik/Documents/Thesis/MLROM/new_cdv/saved_ae/ae_007/checkpoints/LossHistoriesCheckpoint\n",
      "2313/2313 [==============================] - 14s 6ms/step - loss: 0.0019 - mse: 0.0017 - NMSE: 0.0149 - real_MSE: 0.0017 - params_MSE: nan - ls_jacobian_norm: 0.8922 - val_loss: 0.0019 - val_mse: 0.0016 - val_NMSE: 0.0141 - val_real_MSE: 0.0016 - val_params_MSE: nan - val_ls_jacobian_norm: -1.0000\n",
      "Epoch 30/200\n",
      "2313/2313 [==============================] - ETA: 0s - loss: 0.0019 - mse: 0.0016 - NMSE: 0.0147 - real_MSE: 0.0016 - params_MSE: nan - ls_jacobian_norm: 0.8937 - tot_time: 0h 7m 27.4s\n",
      "\n",
      "Epoch 30: val_mse did not improve from 0.00155\n",
      " - saving loss histories at /home/rkaushik/Documents/Thesis/MLROM/new_cdv/saved_ae/ae_007/checkpoints/LossHistoriesCheckpoint\n",
      "2313/2313 [==============================] - 15s 6ms/step - loss: 0.0019 - mse: 0.0016 - NMSE: 0.0147 - real_MSE: 0.0016 - params_MSE: nan - ls_jacobian_norm: 0.8936 - val_loss: 0.0019 - val_mse: 0.0016 - val_NMSE: 0.0141 - val_real_MSE: 0.0016 - val_params_MSE: nan - val_ls_jacobian_norm: -1.0000\n",
      "Epoch 31/200\n",
      "2306/2313 [============================>.] - ETA: 0s - loss: 0.0019 - mse: 0.0016 - NMSE: 0.0147 - real_MSE: 0.0016 - params_MSE: nan - ls_jacobian_norm: 0.8907 - tot_time: 0h 7m 42.3s\n",
      "\n",
      "Epoch 31: val_mse did not improve from 0.00155\n",
      " - saving loss histories at /home/rkaushik/Documents/Thesis/MLROM/new_cdv/saved_ae/ae_007/checkpoints/LossHistoriesCheckpoint\n",
      "2313/2313 [==============================] - 15s 6ms/step - loss: 0.0019 - mse: 0.0016 - NMSE: 0.0147 - real_MSE: 0.0016 - params_MSE: nan - ls_jacobian_norm: 0.8907 - val_loss: 0.0019 - val_mse: 0.0016 - val_NMSE: 0.0142 - val_real_MSE: 0.0016 - val_params_MSE: nan - val_ls_jacobian_norm: -1.0000\n",
      "Epoch 32/200\n",
      "2309/2313 [============================>.] - ETA: 0s - loss: 0.0019 - mse: 0.0016 - NMSE: 0.0146 - real_MSE: 0.0016 - params_MSE: nan - ls_jacobian_norm: 0.8938 - tot_time: 0h 7m 57.3s\n",
      "\n",
      "Epoch 32: val_mse improved from 0.00155 to 0.00151, saving model to /home/rkaushik/Documents/Thesis/MLROM/new_cdv/saved_ae/ae_007/checkpoints/checkpoint\n",
      " - saving loss histories at /home/rkaushik/Documents/Thesis/MLROM/new_cdv/saved_ae/ae_007/checkpoints/LossHistoriesCheckpoint\n",
      "2313/2313 [==============================] - 15s 6ms/step - loss: 0.0019 - mse: 0.0016 - NMSE: 0.0146 - real_MSE: 0.0016 - params_MSE: nan - ls_jacobian_norm: 0.8938 - val_loss: 0.0018 - val_mse: 0.0015 - val_NMSE: 0.0136 - val_real_MSE: 0.0015 - val_params_MSE: nan - val_ls_jacobian_norm: -1.0000\n",
      "Epoch 33/200\n",
      "2313/2313 [==============================] - ETA: 0s - loss: 0.0019 - mse: 0.0016 - NMSE: 0.0144 - real_MSE: 0.0016 - params_MSE: nan - ls_jacobian_norm: 0.8991 - tot_time: 0h 8m 12.7s\n",
      "\n",
      "Epoch 33: val_mse did not improve from 0.00151\n",
      " - saving loss histories at /home/rkaushik/Documents/Thesis/MLROM/new_cdv/saved_ae/ae_007/checkpoints/LossHistoriesCheckpoint\n",
      "2313/2313 [==============================] - 15s 7ms/step - loss: 0.0019 - mse: 0.0016 - NMSE: 0.0144 - real_MSE: 0.0016 - params_MSE: nan - ls_jacobian_norm: 0.8990 - val_loss: 0.0020 - val_mse: 0.0017 - val_NMSE: 0.0154 - val_real_MSE: 0.0017 - val_params_MSE: nan - val_ls_jacobian_norm: -1.0000\n",
      "Epoch 34/200\n"
     ]
    },
    {
     "name": "stdout",
     "output_type": "stream",
     "text": [
      "2313/2313 [==============================] - ETA: 0s - loss: 0.0019 - mse: 0.0016 - NMSE: 0.0143 - real_MSE: 0.0016 - params_MSE: nan - ls_jacobian_norm: 0.8973 - tot_time: 0h 8m 28.4s\n",
      "\n",
      "Epoch 34: val_mse did not improve from 0.00151\n",
      " - saving loss histories at /home/rkaushik/Documents/Thesis/MLROM/new_cdv/saved_ae/ae_007/checkpoints/LossHistoriesCheckpoint\n",
      "2313/2313 [==============================] - 16s 7ms/step - loss: 0.0019 - mse: 0.0016 - NMSE: 0.0143 - real_MSE: 0.0016 - params_MSE: nan - ls_jacobian_norm: 0.8973 - val_loss: 0.0019 - val_mse: 0.0016 - val_NMSE: 0.0140 - val_real_MSE: 0.0016 - val_params_MSE: nan - val_ls_jacobian_norm: -1.0000\n",
      "Epoch 35/200\n",
      "2308/2313 [============================>.] - ETA: 0s - loss: 0.0019 - mse: 0.0016 - NMSE: 0.0144 - real_MSE: 0.0016 - params_MSE: nan - ls_jacobian_norm: 0.9059 - tot_time: 0h 8m 44.4s\n",
      "\n",
      "Epoch 35: val_mse did not improve from 0.00151\n",
      " - saving loss histories at /home/rkaushik/Documents/Thesis/MLROM/new_cdv/saved_ae/ae_007/checkpoints/LossHistoriesCheckpoint\n",
      "2313/2313 [==============================] - 16s 7ms/step - loss: 0.0019 - mse: 0.0016 - NMSE: 0.0144 - real_MSE: 0.0016 - params_MSE: nan - ls_jacobian_norm: 0.9067 - val_loss: 0.0019 - val_mse: 0.0016 - val_NMSE: 0.0147 - val_real_MSE: 0.0016 - val_params_MSE: nan - val_ls_jacobian_norm: -1.0000\n",
      "Epoch 36/200\n",
      "2310/2313 [============================>.] - ETA: 0s - loss: 0.0019 - mse: 0.0016 - NMSE: 0.0143 - real_MSE: 0.0016 - params_MSE: nan - ls_jacobian_norm: 0.8869 - tot_time: 0h 9m 0.6s\n",
      "\n",
      "Epoch 36: val_mse did not improve from 0.00151\n",
      " - saving loss histories at /home/rkaushik/Documents/Thesis/MLROM/new_cdv/saved_ae/ae_007/checkpoints/LossHistoriesCheckpoint\n",
      "2313/2313 [==============================] - 16s 7ms/step - loss: 0.0019 - mse: 0.0016 - NMSE: 0.0143 - real_MSE: 0.0016 - params_MSE: nan - ls_jacobian_norm: 0.8867 - val_loss: 0.0018 - val_mse: 0.0015 - val_NMSE: 0.0139 - val_real_MSE: 0.0015 - val_params_MSE: nan - val_ls_jacobian_norm: -1.0000\n",
      "Epoch 37/200\n",
      "2304/2313 [============================>.] - ETA: 0s - loss: 0.0019 - mse: 0.0016 - NMSE: 0.0141 - real_MSE: 0.0016 - params_MSE: nan - ls_jacobian_norm: 0.8860 - tot_time: 0h 9m 15.1s\n",
      "\n",
      "Epoch 37: val_mse improved from 0.00151 to 0.00149, saving model to /home/rkaushik/Documents/Thesis/MLROM/new_cdv/saved_ae/ae_007/checkpoints/checkpoint\n",
      " - saving loss histories at /home/rkaushik/Documents/Thesis/MLROM/new_cdv/saved_ae/ae_007/checkpoints/LossHistoriesCheckpoint\n",
      "2313/2313 [==============================] - 14s 6ms/step - loss: 0.0019 - mse: 0.0016 - NMSE: 0.0141 - real_MSE: 0.0016 - params_MSE: nan - ls_jacobian_norm: 0.8859 - val_loss: 0.0018 - val_mse: 0.0015 - val_NMSE: 0.0134 - val_real_MSE: 0.0015 - val_params_MSE: nan - val_ls_jacobian_norm: -1.0000\n",
      "Epoch 38/200\n",
      "2310/2313 [============================>.] - ETA: 0s - loss: 0.0018 - mse: 0.0015 - NMSE: 0.0138 - real_MSE: 0.0015 - params_MSE: nan - ls_jacobian_norm: 0.8915 - tot_time: 0h 9m 30.2s\n",
      "\n",
      "Epoch 38: val_mse did not improve from 0.00149\n",
      " - saving loss histories at /home/rkaushik/Documents/Thesis/MLROM/new_cdv/saved_ae/ae_007/checkpoints/LossHistoriesCheckpoint\n",
      "2313/2313 [==============================] - 15s 7ms/step - loss: 0.0018 - mse: 0.0015 - NMSE: 0.0138 - real_MSE: 0.0015 - params_MSE: nan - ls_jacobian_norm: 0.8914 - val_loss: 0.0018 - val_mse: 0.0015 - val_NMSE: 0.0134 - val_real_MSE: 0.0015 - val_params_MSE: nan - val_ls_jacobian_norm: -1.0000\n",
      "Epoch 39/200\n",
      "2312/2313 [============================>.] - ETA: 0s - loss: 0.0018 - mse: 0.0015 - NMSE: 0.0138 - real_MSE: 0.0015 - params_MSE: nan - ls_jacobian_norm: 0.9092 - tot_time: 0h 9m 45.1s\n",
      "\n",
      "Epoch 39: val_mse improved from 0.00149 to 0.00147, saving model to /home/rkaushik/Documents/Thesis/MLROM/new_cdv/saved_ae/ae_007/checkpoints/checkpoint\n",
      " - saving loss histories at /home/rkaushik/Documents/Thesis/MLROM/new_cdv/saved_ae/ae_007/checkpoints/LossHistoriesCheckpoint\n",
      "2313/2313 [==============================] - 15s 6ms/step - loss: 0.0018 - mse: 0.0015 - NMSE: 0.0138 - real_MSE: 0.0015 - params_MSE: nan - ls_jacobian_norm: 0.9092 - val_loss: 0.0018 - val_mse: 0.0015 - val_NMSE: 0.0132 - val_real_MSE: 0.0015 - val_params_MSE: nan - val_ls_jacobian_norm: -1.0000\n",
      "Epoch 40/200\n",
      "2311/2313 [============================>.] - ETA: 0s - loss: 0.0018 - mse: 0.0015 - NMSE: 0.0137 - real_MSE: 0.0015 - params_MSE: nan - ls_jacobian_norm: 0.9376 - tot_time: 0h 10m 0.7s\n",
      "\n",
      "Epoch 40: val_mse improved from 0.00147 to 0.00146, saving model to /home/rkaushik/Documents/Thesis/MLROM/new_cdv/saved_ae/ae_007/checkpoints/checkpoint\n",
      " - saving loss histories at /home/rkaushik/Documents/Thesis/MLROM/new_cdv/saved_ae/ae_007/checkpoints/LossHistoriesCheckpoint\n",
      "2313/2313 [==============================] - 16s 7ms/step - loss: 0.0018 - mse: 0.0015 - NMSE: 0.0137 - real_MSE: 0.0015 - params_MSE: nan - ls_jacobian_norm: 0.9374 - val_loss: 0.0018 - val_mse: 0.0015 - val_NMSE: 0.0132 - val_real_MSE: 0.0015 - val_params_MSE: nan - val_ls_jacobian_norm: -1.0000\n",
      "Epoch 41/200\n",
      "2311/2313 [============================>.] - ETA: 0s - loss: 0.0018 - mse: 0.0015 - NMSE: 0.0134 - real_MSE: 0.0015 - params_MSE: nan - ls_jacobian_norm: 0.9379 - tot_time: 0h 10m 16.2s\n",
      "\n",
      "Epoch 41: val_mse improved from 0.00146 to 0.00144, saving model to /home/rkaushik/Documents/Thesis/MLROM/new_cdv/saved_ae/ae_007/checkpoints/checkpoint\n",
      " - saving loss histories at /home/rkaushik/Documents/Thesis/MLROM/new_cdv/saved_ae/ae_007/checkpoints/LossHistoriesCheckpoint\n",
      "2313/2313 [==============================] - 15s 7ms/step - loss: 0.0018 - mse: 0.0015 - NMSE: 0.0134 - real_MSE: 0.0015 - params_MSE: nan - ls_jacobian_norm: 0.9378 - val_loss: 0.0018 - val_mse: 0.0014 - val_NMSE: 0.0130 - val_real_MSE: 0.0014 - val_params_MSE: nan - val_ls_jacobian_norm: -1.0000\n",
      "Epoch 42/200\n",
      "2305/2313 [============================>.] - ETA: 0s - loss: 0.0018 - mse: 0.0015 - NMSE: 0.0134 - real_MSE: 0.0015 - params_MSE: nan - ls_jacobian_norm: 0.9360 - tot_time: 0h 10m 31.0s\n",
      "\n",
      "Epoch 42: val_mse did not improve from 0.00144\n",
      " - saving loss histories at /home/rkaushik/Documents/Thesis/MLROM/new_cdv/saved_ae/ae_007/checkpoints/LossHistoriesCheckpoint\n",
      "2313/2313 [==============================] - 15s 6ms/step - loss: 0.0018 - mse: 0.0015 - NMSE: 0.0134 - real_MSE: 0.0015 - params_MSE: nan - ls_jacobian_norm: 0.9357 - val_loss: 0.0018 - val_mse: 0.0014 - val_NMSE: 0.0130 - val_real_MSE: 0.0014 - val_params_MSE: nan - val_ls_jacobian_norm: -1.0000\n",
      "Epoch 43/200\n",
      "2307/2313 [============================>.] - ETA: 0s - loss: 0.0018 - mse: 0.0015 - NMSE: 0.0132 - real_MSE: 0.0015 - params_MSE: nan - ls_jacobian_norm: 0.9142 - tot_time: 0h 10m 46.7s\n",
      "\n",
      "Epoch 43: val_mse improved from 0.00144 to 0.00141, saving model to /home/rkaushik/Documents/Thesis/MLROM/new_cdv/saved_ae/ae_007/checkpoints/checkpoint\n",
      " - saving loss histories at /home/rkaushik/Documents/Thesis/MLROM/new_cdv/saved_ae/ae_007/checkpoints/LossHistoriesCheckpoint\n",
      "2313/2313 [==============================] - 16s 7ms/step - loss: 0.0018 - mse: 0.0015 - NMSE: 0.0132 - real_MSE: 0.0015 - params_MSE: nan - ls_jacobian_norm: 0.9145 - val_loss: 0.0017 - val_mse: 0.0014 - val_NMSE: 0.0127 - val_real_MSE: 0.0014 - val_params_MSE: nan - val_ls_jacobian_norm: -1.0000\n",
      "Epoch 44/200\n",
      "2310/2313 [============================>.] - ETA: 0s - loss: 0.0018 - mse: 0.0015 - NMSE: 0.0132 - real_MSE: 0.0015 - params_MSE: nan - ls_jacobian_norm: 0.9133 - tot_time: 0h 11m 2.0s\n",
      "\n",
      "Epoch 44: val_mse improved from 0.00141 to 0.00137, saving model to /home/rkaushik/Documents/Thesis/MLROM/new_cdv/saved_ae/ae_007/checkpoints/checkpoint\n",
      " - saving loss histories at /home/rkaushik/Documents/Thesis/MLROM/new_cdv/saved_ae/ae_007/checkpoints/LossHistoriesCheckpoint\n",
      "2313/2313 [==============================] - 15s 7ms/step - loss: 0.0018 - mse: 0.0015 - NMSE: 0.0132 - real_MSE: 0.0015 - params_MSE: nan - ls_jacobian_norm: 0.9133 - val_loss: 0.0017 - val_mse: 0.0014 - val_NMSE: 0.0123 - val_real_MSE: 0.0014 - val_params_MSE: nan - val_ls_jacobian_norm: -1.0000\n",
      "Epoch 45/200\n",
      "2310/2313 [============================>.] - ETA: 0s - loss: 0.0018 - mse: 0.0015 - NMSE: 0.0131 - real_MSE: 0.0015 - params_MSE: nan - ls_jacobian_norm: 0.9343 - tot_time: 0h 11m 17.4s\n",
      "\n",
      "Epoch 45: val_mse improved from 0.00137 to 0.00134, saving model to /home/rkaushik/Documents/Thesis/MLROM/new_cdv/saved_ae/ae_007/checkpoints/checkpoint\n"
     ]
    },
    {
     "name": "stdout",
     "output_type": "stream",
     "text": [
      " - saving loss histories at /home/rkaushik/Documents/Thesis/MLROM/new_cdv/saved_ae/ae_007/checkpoints/LossHistoriesCheckpoint\n",
      "2313/2313 [==============================] - 15s 7ms/step - loss: 0.0018 - mse: 0.0015 - NMSE: 0.0131 - real_MSE: 0.0015 - params_MSE: nan - ls_jacobian_norm: 0.9343 - val_loss: 0.0017 - val_mse: 0.0013 - val_NMSE: 0.0121 - val_real_MSE: 0.0013 - val_params_MSE: nan - val_ls_jacobian_norm: -1.0000\n",
      "Epoch 46/200\n",
      "2310/2313 [============================>.] - ETA: 0s - loss: 0.0018 - mse: 0.0014 - NMSE: 0.0129 - real_MSE: 0.0014 - params_MSE: nan - ls_jacobian_norm: 0.9447 - tot_time: 0h 11m 32.6s\n",
      "\n",
      "Epoch 46: val_mse did not improve from 0.00134\n",
      " - saving loss histories at /home/rkaushik/Documents/Thesis/MLROM/new_cdv/saved_ae/ae_007/checkpoints/LossHistoriesCheckpoint\n",
      "2313/2313 [==============================] - 15s 7ms/step - loss: 0.0018 - mse: 0.0014 - NMSE: 0.0130 - real_MSE: 0.0014 - params_MSE: nan - ls_jacobian_norm: 0.9449 - val_loss: 0.0018 - val_mse: 0.0014 - val_NMSE: 0.0130 - val_real_MSE: 0.0014 - val_params_MSE: nan - val_ls_jacobian_norm: -1.0000\n",
      "Epoch 47/200\n",
      "2313/2313 [==============================] - ETA: 0s - loss: 0.0018 - mse: 0.0014 - NMSE: 0.0130 - real_MSE: 0.0014 - params_MSE: nan - ls_jacobian_norm: 0.9579 - tot_time: 0h 11m 48.0s\n",
      "\n",
      "Epoch 47: val_mse did not improve from 0.00134\n",
      " - saving loss histories at /home/rkaushik/Documents/Thesis/MLROM/new_cdv/saved_ae/ae_007/checkpoints/LossHistoriesCheckpoint\n",
      "2313/2313 [==============================] - 15s 7ms/step - loss: 0.0018 - mse: 0.0014 - NMSE: 0.0130 - real_MSE: 0.0014 - params_MSE: nan - ls_jacobian_norm: 0.9579 - val_loss: 0.0017 - val_mse: 0.0014 - val_NMSE: 0.0124 - val_real_MSE: 0.0014 - val_params_MSE: nan - val_ls_jacobian_norm: -1.0000\n",
      "Epoch 48/200\n",
      "2309/2313 [============================>.] - ETA: 0s - loss: 0.0017 - mse: 0.0014 - NMSE: 0.0129 - real_MSE: 0.0014 - params_MSE: nan - ls_jacobian_norm: 0.9246 - tot_time: 0h 12m 3.2s\n",
      "\n",
      "Epoch 48: val_mse did not improve from 0.00134\n",
      " - saving loss histories at /home/rkaushik/Documents/Thesis/MLROM/new_cdv/saved_ae/ae_007/checkpoints/LossHistoriesCheckpoint\n",
      "2313/2313 [==============================] - 15s 7ms/step - loss: 0.0017 - mse: 0.0014 - NMSE: 0.0129 - real_MSE: 0.0014 - params_MSE: nan - ls_jacobian_norm: 0.9246 - val_loss: 0.0017 - val_mse: 0.0014 - val_NMSE: 0.0126 - val_real_MSE: 0.0014 - val_params_MSE: nan - val_ls_jacobian_norm: -1.0000\n",
      "Epoch 49/200\n",
      "2313/2313 [==============================] - ETA: 0s - loss: 0.0018 - mse: 0.0014 - NMSE: 0.0129 - real_MSE: 0.0014 - params_MSE: nan - ls_jacobian_norm: 0.9197 - tot_time: 0h 12m 18.4s\n",
      "\n",
      "Epoch 49: val_mse did not improve from 0.00134\n",
      " - saving loss histories at /home/rkaushik/Documents/Thesis/MLROM/new_cdv/saved_ae/ae_007/checkpoints/LossHistoriesCheckpoint\n",
      "2313/2313 [==============================] - 15s 7ms/step - loss: 0.0018 - mse: 0.0014 - NMSE: 0.0129 - real_MSE: 0.0014 - params_MSE: nan - ls_jacobian_norm: 0.9197 - val_loss: 0.0018 - val_mse: 0.0015 - val_NMSE: 0.0133 - val_real_MSE: 0.0015 - val_params_MSE: nan - val_ls_jacobian_norm: -1.0000\n",
      "Epoch 50/200\n",
      "2312/2313 [============================>.] - ETA: 0s - loss: 0.0018 - mse: 0.0014 - NMSE: 0.0130 - real_MSE: 0.0014 - params_MSE: nan - ls_jacobian_norm: 0.9030 - tot_time: 0h 12m 33.6s\n",
      "\n",
      "Epoch 50: val_mse did not improve from 0.00134\n",
      " - saving loss histories at /home/rkaushik/Documents/Thesis/MLROM/new_cdv/saved_ae/ae_007/checkpoints/LossHistoriesCheckpoint\n",
      "2313/2313 [==============================] - 15s 7ms/step - loss: 0.0018 - mse: 0.0014 - NMSE: 0.0130 - real_MSE: 0.0014 - params_MSE: nan - ls_jacobian_norm: 0.9030 - val_loss: 0.0017 - val_mse: 0.0014 - val_NMSE: 0.0129 - val_real_MSE: 0.0014 - val_params_MSE: nan - val_ls_jacobian_norm: -1.0000\n",
      "Epoch 51/200\n",
      "2309/2313 [============================>.] - ETA: 0s - loss: 0.0018 - mse: 0.0014 - NMSE: 0.0129 - real_MSE: 0.0014 - params_MSE: nan - ls_jacobian_norm: 0.9206 - tot_time: 0h 12m 48.8s\n",
      "\n",
      "Epoch 51: val_mse did not improve from 0.00134\n",
      " - saving loss histories at /home/rkaushik/Documents/Thesis/MLROM/new_cdv/saved_ae/ae_007/checkpoints/LossHistoriesCheckpoint\n",
      "2313/2313 [==============================] - 15s 7ms/step - loss: 0.0018 - mse: 0.0014 - NMSE: 0.0129 - real_MSE: 0.0014 - params_MSE: nan - ls_jacobian_norm: 0.9205 - val_loss: 0.0017 - val_mse: 0.0014 - val_NMSE: 0.0126 - val_real_MSE: 0.0014 - val_params_MSE: nan - val_ls_jacobian_norm: -1.0000\n",
      "Epoch 52/200\n",
      "2311/2313 [============================>.] - ETA: 0s - loss: 0.0017 - mse: 0.0014 - NMSE: 0.0128 - real_MSE: 0.0014 - params_MSE: nan - ls_jacobian_norm: 0.9612 - tot_time: 0h 13m 3.7s\n",
      "\n",
      "Epoch 52: val_mse did not improve from 0.00134\n",
      " - saving loss histories at /home/rkaushik/Documents/Thesis/MLROM/new_cdv/saved_ae/ae_007/checkpoints/LossHistoriesCheckpoint\n",
      "2313/2313 [==============================] - 15s 6ms/step - loss: 0.0017 - mse: 0.0014 - NMSE: 0.0128 - real_MSE: 0.0014 - params_MSE: nan - ls_jacobian_norm: 0.9611 - val_loss: 0.0017 - val_mse: 0.0014 - val_NMSE: 0.0128 - val_real_MSE: 0.0014 - val_params_MSE: nan - val_ls_jacobian_norm: -1.0000\n",
      "Epoch 53/200\n",
      "2313/2313 [==============================] - ETA: 0s - loss: 0.0017 - mse: 0.0014 - NMSE: 0.0126 - real_MSE: 0.0014 - params_MSE: nan - ls_jacobian_norm: 0.9949 - tot_time: 0h 13m 19.2s\n",
      "\n",
      "Epoch 53: val_mse did not improve from 0.00134\n",
      " - saving loss histories at /home/rkaushik/Documents/Thesis/MLROM/new_cdv/saved_ae/ae_007/checkpoints/LossHistoriesCheckpoint\n",
      "2313/2313 [==============================] - 15s 7ms/step - loss: 0.0017 - mse: 0.0014 - NMSE: 0.0126 - real_MSE: 0.0014 - params_MSE: nan - ls_jacobian_norm: 0.9949 - val_loss: 0.0017 - val_mse: 0.0014 - val_NMSE: 0.0122 - val_real_MSE: 0.0014 - val_params_MSE: nan - val_ls_jacobian_norm: -1.0000\n",
      "Epoch 54/200\n",
      "2310/2313 [============================>.] - ETA: 0s - loss: 0.0017 - mse: 0.0014 - NMSE: 0.0125 - real_MSE: 0.0014 - params_MSE: nan - ls_jacobian_norm: 1.0057 - tot_time: 0h 13m 34.5s\n",
      "\n",
      "Epoch 54: val_mse improved from 0.00134 to 0.00129, saving model to /home/rkaushik/Documents/Thesis/MLROM/new_cdv/saved_ae/ae_007/checkpoints/checkpoint\n",
      " - saving loss histories at /home/rkaushik/Documents/Thesis/MLROM/new_cdv/saved_ae/ae_007/checkpoints/LossHistoriesCheckpoint\n",
      "2313/2313 [==============================] - 15s 7ms/step - loss: 0.0017 - mse: 0.0014 - NMSE: 0.0125 - real_MSE: 0.0014 - params_MSE: nan - ls_jacobian_norm: 1.0057 - val_loss: 0.0016 - val_mse: 0.0013 - val_NMSE: 0.0116 - val_real_MSE: 0.0013 - val_params_MSE: nan - val_ls_jacobian_norm: -1.0000\n",
      "Epoch 55/200\n",
      "2312/2313 [============================>.] - ETA: 0s - loss: 0.0017 - mse: 0.0014 - NMSE: 0.0122 - real_MSE: 0.0014 - params_MSE: nan - ls_jacobian_norm: 1.0194 - tot_time: 0h 13m 49.9s\n",
      "\n",
      "Epoch 55: val_mse did not improve from 0.00129\n",
      " - saving loss histories at /home/rkaushik/Documents/Thesis/MLROM/new_cdv/saved_ae/ae_007/checkpoints/LossHistoriesCheckpoint\n",
      "2313/2313 [==============================] - 15s 7ms/step - loss: 0.0017 - mse: 0.0014 - NMSE: 0.0122 - real_MSE: 0.0014 - params_MSE: nan - ls_jacobian_norm: 1.0193 - val_loss: 0.0016 - val_mse: 0.0013 - val_NMSE: 0.0116 - val_real_MSE: 0.0013 - val_params_MSE: nan - val_ls_jacobian_norm: -1.0000\n",
      "Epoch 56/200\n",
      "2313/2313 [==============================] - ETA: 0s - loss: 0.0017 - mse: 0.0013 - NMSE: 0.0120 - real_MSE: 0.0013 - params_MSE: nan - ls_jacobian_norm: 1.0461 - tot_time: 0h 14m 5.2s\n",
      "\n",
      "Epoch 56: val_mse improved from 0.00129 to 0.00128, saving model to /home/rkaushik/Documents/Thesis/MLROM/new_cdv/saved_ae/ae_007/checkpoints/checkpoint\n",
      " - saving loss histories at /home/rkaushik/Documents/Thesis/MLROM/new_cdv/saved_ae/ae_007/checkpoints/LossHistoriesCheckpoint\n",
      "2313/2313 [==============================] - 15s 7ms/step - loss: 0.0017 - mse: 0.0013 - NMSE: 0.0120 - real_MSE: 0.0013 - params_MSE: nan - ls_jacobian_norm: 1.0461 - val_loss: 0.0016 - val_mse: 0.0013 - val_NMSE: 0.0116 - val_real_MSE: 0.0013 - val_params_MSE: nan - val_ls_jacobian_norm: -1.0000\n",
      "Epoch 57/200\n"
     ]
    },
    {
     "name": "stdout",
     "output_type": "stream",
     "text": [
      "2312/2313 [============================>.] - ETA: 0s - loss: 0.0016 - mse: 0.0013 - NMSE: 0.0116 - real_MSE: 0.0013 - params_MSE: nan - ls_jacobian_norm: 1.0556 - tot_time: 0h 14m 20.4s\n",
      "\n",
      "Epoch 57: val_mse improved from 0.00128 to 0.00120, saving model to /home/rkaushik/Documents/Thesis/MLROM/new_cdv/saved_ae/ae_007/checkpoints/checkpoint\n",
      " - saving loss histories at /home/rkaushik/Documents/Thesis/MLROM/new_cdv/saved_ae/ae_007/checkpoints/LossHistoriesCheckpoint\n",
      "2313/2313 [==============================] - 15s 7ms/step - loss: 0.0016 - mse: 0.0013 - NMSE: 0.0116 - real_MSE: 0.0013 - params_MSE: nan - ls_jacobian_norm: 1.0554 - val_loss: 0.0015 - val_mse: 0.0012 - val_NMSE: 0.0108 - val_real_MSE: 0.0012 - val_params_MSE: nan - val_ls_jacobian_norm: -1.0000\n",
      "Epoch 58/200\n",
      "2312/2313 [============================>.] - ETA: 0s - loss: 0.0016 - mse: 0.0013 - NMSE: 0.0113 - real_MSE: 0.0013 - params_MSE: nan - ls_jacobian_norm: 1.0672 - tot_time: 0h 14m 35.9s\n",
      "\n",
      "Epoch 58: val_mse did not improve from 0.00120\n",
      " - saving loss histories at /home/rkaushik/Documents/Thesis/MLROM/new_cdv/saved_ae/ae_007/checkpoints/LossHistoriesCheckpoint\n",
      "2313/2313 [==============================] - 15s 7ms/step - loss: 0.0016 - mse: 0.0013 - NMSE: 0.0113 - real_MSE: 0.0013 - params_MSE: nan - ls_jacobian_norm: 1.0673 - val_loss: 0.0016 - val_mse: 0.0012 - val_NMSE: 0.0111 - val_real_MSE: 0.0012 - val_params_MSE: nan - val_ls_jacobian_norm: -1.0000\n",
      "Epoch 59/200\n",
      "2303/2313 [============================>.] - ETA: 0s - loss: 0.0016 - mse: 0.0012 - NMSE: 0.0111 - real_MSE: 0.0012 - params_MSE: nan - ls_jacobian_norm: 1.0497 - tot_time: 0h 14m 51.5s\n",
      "\n",
      "Epoch 59: val_mse improved from 0.00120 to 0.00119, saving model to /home/rkaushik/Documents/Thesis/MLROM/new_cdv/saved_ae/ae_007/checkpoints/checkpoint\n",
      " - saving loss histories at /home/rkaushik/Documents/Thesis/MLROM/new_cdv/saved_ae/ae_007/checkpoints/LossHistoriesCheckpoint\n",
      "2313/2313 [==============================] - 16s 7ms/step - loss: 0.0016 - mse: 0.0012 - NMSE: 0.0111 - real_MSE: 0.0012 - params_MSE: nan - ls_jacobian_norm: 1.0501 - val_loss: 0.0015 - val_mse: 0.0012 - val_NMSE: 0.0107 - val_real_MSE: 0.0012 - val_params_MSE: nan - val_ls_jacobian_norm: -1.0000\n",
      "Epoch 60/200\n",
      "2312/2313 [============================>.] - ETA: 0s - loss: 0.0016 - mse: 0.0012 - NMSE: 0.0110 - real_MSE: 0.0012 - params_MSE: nan - ls_jacobian_norm: 1.0419 - tot_time: 0h 15m 7.2s\n",
      "\n",
      "Epoch 60: val_mse improved from 0.00119 to 0.00116, saving model to /home/rkaushik/Documents/Thesis/MLROM/new_cdv/saved_ae/ae_007/checkpoints/checkpoint\n",
      " - saving loss histories at /home/rkaushik/Documents/Thesis/MLROM/new_cdv/saved_ae/ae_007/checkpoints/LossHistoriesCheckpoint\n",
      "2313/2313 [==============================] - 16s 7ms/step - loss: 0.0016 - mse: 0.0012 - NMSE: 0.0110 - real_MSE: 0.0012 - params_MSE: nan - ls_jacobian_norm: 1.0420 - val_loss: 0.0015 - val_mse: 0.0012 - val_NMSE: 0.0105 - val_real_MSE: 0.0012 - val_params_MSE: nan - val_ls_jacobian_norm: -1.0000\n",
      "Epoch 61/200\n",
      "2310/2313 [============================>.] - ETA: 0s - loss: 0.0015 - mse: 0.0012 - NMSE: 0.0109 - real_MSE: 0.0012 - params_MSE: nan - ls_jacobian_norm: 1.0514 - tot_time: 0h 15m 22.5s\n",
      "\n",
      "Epoch 61: val_mse improved from 0.00116 to 0.00110, saving model to /home/rkaushik/Documents/Thesis/MLROM/new_cdv/saved_ae/ae_007/checkpoints/checkpoint\n",
      " - saving loss histories at /home/rkaushik/Documents/Thesis/MLROM/new_cdv/saved_ae/ae_007/checkpoints/LossHistoriesCheckpoint\n",
      "2313/2313 [==============================] - 15s 7ms/step - loss: 0.0015 - mse: 0.0012 - NMSE: 0.0109 - real_MSE: 0.0012 - params_MSE: nan - ls_jacobian_norm: 1.0513 - val_loss: 0.0014 - val_mse: 0.0011 - val_NMSE: 0.0099 - val_real_MSE: 0.0011 - val_params_MSE: nan - val_ls_jacobian_norm: -1.0000\n",
      "Epoch 62/200\n",
      "2312/2313 [============================>.] - ETA: 0s - loss: 0.0015 - mse: 0.0012 - NMSE: 0.0108 - real_MSE: 0.0012 - params_MSE: nan - ls_jacobian_norm: 1.0512 - tot_time: 0h 15m 37.9s\n",
      "\n",
      "Epoch 62: val_mse did not improve from 0.00110\n",
      " - saving loss histories at /home/rkaushik/Documents/Thesis/MLROM/new_cdv/saved_ae/ae_007/checkpoints/LossHistoriesCheckpoint\n",
      "2313/2313 [==============================] - 15s 7ms/step - loss: 0.0015 - mse: 0.0012 - NMSE: 0.0108 - real_MSE: 0.0012 - params_MSE: nan - ls_jacobian_norm: 1.0512 - val_loss: 0.0015 - val_mse: 0.0012 - val_NMSE: 0.0105 - val_real_MSE: 0.0012 - val_params_MSE: nan - val_ls_jacobian_norm: -1.0000\n",
      "Epoch 63/200\n",
      "2312/2313 [============================>.] - ETA: 0s - loss: 0.0015 - mse: 0.0012 - NMSE: 0.0107 - real_MSE: 0.0012 - params_MSE: nan - ls_jacobian_norm: 1.0621 - tot_time: 0h 15m 53.6s\n",
      "\n",
      "Epoch 63: val_mse did not improve from 0.00110\n",
      " - saving loss histories at /home/rkaushik/Documents/Thesis/MLROM/new_cdv/saved_ae/ae_007/checkpoints/LossHistoriesCheckpoint\n",
      "2313/2313 [==============================] - 16s 7ms/step - loss: 0.0015 - mse: 0.0012 - NMSE: 0.0107 - real_MSE: 0.0012 - params_MSE: nan - ls_jacobian_norm: 1.0620 - val_loss: 0.0015 - val_mse: 0.0012 - val_NMSE: 0.0104 - val_real_MSE: 0.0012 - val_params_MSE: nan - val_ls_jacobian_norm: -1.0000\n",
      "Epoch 64/200\n",
      "2313/2313 [==============================] - ETA: 0s - loss: 0.0015 - mse: 0.0012 - NMSE: 0.0105 - real_MSE: 0.0012 - params_MSE: nan - ls_jacobian_norm: 1.0709 - tot_time: 0h 16m 9.3s\n",
      "\n",
      "Epoch 64: val_mse improved from 0.00110 to 0.00110, saving model to /home/rkaushik/Documents/Thesis/MLROM/new_cdv/saved_ae/ae_007/checkpoints/checkpoint\n",
      " - saving loss histories at /home/rkaushik/Documents/Thesis/MLROM/new_cdv/saved_ae/ae_007/checkpoints/LossHistoriesCheckpoint\n",
      "2313/2313 [==============================] - 16s 7ms/step - loss: 0.0015 - mse: 0.0012 - NMSE: 0.0105 - real_MSE: 0.0012 - params_MSE: nan - ls_jacobian_norm: 1.0708 - val_loss: 0.0014 - val_mse: 0.0011 - val_NMSE: 0.0099 - val_real_MSE: 0.0011 - val_params_MSE: nan - val_ls_jacobian_norm: -1.0000\n",
      "Epoch 65/200\n",
      "2310/2313 [============================>.] - ETA: 0s - loss: 0.0015 - mse: 0.0011 - NMSE: 0.0103 - real_MSE: 0.0011 - params_MSE: nan - ls_jacobian_norm: 1.0757 - tot_time: 0h 16m 24.0s\n",
      "\n",
      "Epoch 65: val_mse improved from 0.00110 to 0.00110, saving model to /home/rkaushik/Documents/Thesis/MLROM/new_cdv/saved_ae/ae_007/checkpoints/checkpoint\n",
      " - saving loss histories at /home/rkaushik/Documents/Thesis/MLROM/new_cdv/saved_ae/ae_007/checkpoints/LossHistoriesCheckpoint\n",
      "2313/2313 [==============================] - 15s 6ms/step - loss: 0.0015 - mse: 0.0011 - NMSE: 0.0103 - real_MSE: 0.0011 - params_MSE: nan - ls_jacobian_norm: 1.0756 - val_loss: 0.0014 - val_mse: 0.0011 - val_NMSE: 0.0099 - val_real_MSE: 0.0011 - val_params_MSE: nan - val_ls_jacobian_norm: -1.0000\n",
      "Epoch 66/200\n",
      "2311/2313 [============================>.] - ETA: 0s - loss: 0.0015 - mse: 0.0011 - NMSE: 0.0103 - real_MSE: 0.0011 - params_MSE: nan - ls_jacobian_norm: 1.1004 - tot_time: 0h 16m 40.0s\n",
      "\n",
      "Epoch 66: val_mse improved from 0.00110 to 0.00108, saving model to /home/rkaushik/Documents/Thesis/MLROM/new_cdv/saved_ae/ae_007/checkpoints/checkpoint\n",
      " - saving loss histories at /home/rkaushik/Documents/Thesis/MLROM/new_cdv/saved_ae/ae_007/checkpoints/LossHistoriesCheckpoint\n",
      "2313/2313 [==============================] - 16s 7ms/step - loss: 0.0015 - mse: 0.0011 - NMSE: 0.0103 - real_MSE: 0.0011 - params_MSE: nan - ls_jacobian_norm: 1.1002 - val_loss: 0.0014 - val_mse: 0.0011 - val_NMSE: 0.0097 - val_real_MSE: 0.0011 - val_params_MSE: nan - val_ls_jacobian_norm: -1.0000\n",
      "Epoch 67/200\n",
      "2313/2313 [==============================] - ETA: 0s - loss: 0.0015 - mse: 0.0011 - NMSE: 0.0101 - real_MSE: 0.0011 - params_MSE: nan - ls_jacobian_norm: 1.1046 - tot_time: 0h 16m 55.2s\n",
      "\n",
      "Epoch 67: val_mse did not improve from 0.00108\n",
      " - saving loss histories at /home/rkaushik/Documents/Thesis/MLROM/new_cdv/saved_ae/ae_007/checkpoints/LossHistoriesCheckpoint\n",
      "2313/2313 [==============================] - 15s 7ms/step - loss: 0.0015 - mse: 0.0011 - NMSE: 0.0101 - real_MSE: 0.0011 - params_MSE: nan - ls_jacobian_norm: 1.1046 - val_loss: 0.0014 - val_mse: 0.0011 - val_NMSE: 0.0098 - val_real_MSE: 0.0011 - val_params_MSE: nan - val_ls_jacobian_norm: -1.0000\n",
      "Epoch 68/200\n"
     ]
    },
    {
     "name": "stdout",
     "output_type": "stream",
     "text": [
      "2307/2313 [============================>.] - ETA: 0s - loss: 0.0015 - mse: 0.0011 - NMSE: 0.0100 - real_MSE: 0.0011 - params_MSE: nan - ls_jacobian_norm: 1.0914 - tot_time: 0h 17m 11.0s\n",
      "\n",
      "Epoch 68: val_mse improved from 0.00108 to 0.00104, saving model to /home/rkaushik/Documents/Thesis/MLROM/new_cdv/saved_ae/ae_007/checkpoints/checkpoint\n",
      " - saving loss histories at /home/rkaushik/Documents/Thesis/MLROM/new_cdv/saved_ae/ae_007/checkpoints/LossHistoriesCheckpoint\n",
      "2313/2313 [==============================] - 16s 7ms/step - loss: 0.0015 - mse: 0.0011 - NMSE: 0.0100 - real_MSE: 0.0011 - params_MSE: nan - ls_jacobian_norm: 1.0914 - val_loss: 0.0014 - val_mse: 0.0010 - val_NMSE: 0.0093 - val_real_MSE: 0.0010 - val_params_MSE: nan - val_ls_jacobian_norm: -1.0000\n",
      "Epoch 69/200\n",
      "2310/2313 [============================>.] - ETA: 0s - loss: 0.0015 - mse: 0.0011 - NMSE: 0.0100 - real_MSE: 0.0011 - params_MSE: nan - ls_jacobian_norm: 1.1058 - tot_time: 0h 17m 26.7s\n",
      "\n",
      "Epoch 69: val_mse did not improve from 0.00104\n",
      " - saving loss histories at /home/rkaushik/Documents/Thesis/MLROM/new_cdv/saved_ae/ae_007/checkpoints/LossHistoriesCheckpoint\n",
      "2313/2313 [==============================] - 16s 7ms/step - loss: 0.0015 - mse: 0.0011 - NMSE: 0.0100 - real_MSE: 0.0011 - params_MSE: nan - ls_jacobian_norm: 1.1056 - val_loss: 0.0014 - val_mse: 0.0011 - val_NMSE: 0.0095 - val_real_MSE: 0.0011 - val_params_MSE: nan - val_ls_jacobian_norm: -1.0000\n",
      "Epoch 70/200\n",
      "2306/2313 [============================>.] - ETA: 0s - loss: 0.0015 - mse: 0.0011 - NMSE: 0.0100 - real_MSE: 0.0011 - params_MSE: nan - ls_jacobian_norm: 1.0966 - tot_time: 0h 17m 42.1s\n",
      "\n",
      "Epoch 70: val_mse improved from 0.00104 to 0.00102, saving model to /home/rkaushik/Documents/Thesis/MLROM/new_cdv/saved_ae/ae_007/checkpoints/checkpoint\n",
      " - saving loss histories at /home/rkaushik/Documents/Thesis/MLROM/new_cdv/saved_ae/ae_007/checkpoints/LossHistoriesCheckpoint\n",
      "2313/2313 [==============================] - 15s 7ms/step - loss: 0.0015 - mse: 0.0011 - NMSE: 0.0100 - real_MSE: 0.0011 - params_MSE: nan - ls_jacobian_norm: 1.0962 - val_loss: 0.0014 - val_mse: 0.0010 - val_NMSE: 0.0091 - val_real_MSE: 0.0010 - val_params_MSE: nan - val_ls_jacobian_norm: -1.0000\n",
      "Epoch 71/200\n",
      "2308/2313 [============================>.] - ETA: 0s - loss: 0.0015 - mse: 0.0011 - NMSE: 0.0099 - real_MSE: 0.0011 - params_MSE: nan - ls_jacobian_norm: 1.0932 - tot_time: 0h 17m 57.6s\n",
      "\n",
      "Epoch 71: val_mse did not improve from 0.00102\n",
      " - saving loss histories at /home/rkaushik/Documents/Thesis/MLROM/new_cdv/saved_ae/ae_007/checkpoints/LossHistoriesCheckpoint\n",
      "2313/2313 [==============================] - 15s 7ms/step - loss: 0.0015 - mse: 0.0011 - NMSE: 0.0099 - real_MSE: 0.0011 - params_MSE: nan - ls_jacobian_norm: 1.0935 - val_loss: 0.0014 - val_mse: 0.0011 - val_NMSE: 0.0096 - val_real_MSE: 0.0011 - val_params_MSE: nan - val_ls_jacobian_norm: -1.0000\n",
      "Epoch 72/200\n",
      "2313/2313 [==============================] - ETA: 0s - loss: 0.0014 - mse: 0.0011 - NMSE: 0.0099 - real_MSE: 0.0011 - params_MSE: nan - ls_jacobian_norm: 1.1142 - tot_time: 0h 18m 12.9s\n",
      "\n",
      "Epoch 72: val_mse did not improve from 0.00102\n",
      " - saving loss histories at /home/rkaushik/Documents/Thesis/MLROM/new_cdv/saved_ae/ae_007/checkpoints/LossHistoriesCheckpoint\n",
      "2313/2313 [==============================] - 15s 7ms/step - loss: 0.0014 - mse: 0.0011 - NMSE: 0.0099 - real_MSE: 0.0011 - params_MSE: nan - ls_jacobian_norm: 1.1142 - val_loss: 0.0014 - val_mse: 0.0011 - val_NMSE: 0.0098 - val_real_MSE: 0.0011 - val_params_MSE: nan - val_ls_jacobian_norm: -1.0000\n",
      "Epoch 73/200\n",
      "2308/2313 [============================>.] - ETA: 0s - loss: 0.0014 - mse: 0.0011 - NMSE: 0.0099 - real_MSE: 0.0011 - params_MSE: nan - ls_jacobian_norm: 1.1388 - tot_time: 0h 18m 28.3s\n",
      "\n",
      "Epoch 73: val_mse improved from 0.00102 to 0.00101, saving model to /home/rkaushik/Documents/Thesis/MLROM/new_cdv/saved_ae/ae_007/checkpoints/checkpoint\n",
      " - saving loss histories at /home/rkaushik/Documents/Thesis/MLROM/new_cdv/saved_ae/ae_007/checkpoints/LossHistoriesCheckpoint\n",
      "2313/2313 [==============================] - 15s 7ms/step - loss: 0.0014 - mse: 0.0011 - NMSE: 0.0099 - real_MSE: 0.0011 - params_MSE: nan - ls_jacobian_norm: 1.1386 - val_loss: 0.0014 - val_mse: 0.0010 - val_NMSE: 0.0091 - val_real_MSE: 0.0010 - val_params_MSE: nan - val_ls_jacobian_norm: -1.0000\n",
      "Epoch 74/200\n",
      "2306/2313 [============================>.] - ETA: 0s - loss: 0.0014 - mse: 0.0011 - NMSE: 0.0097 - real_MSE: 0.0011 - params_MSE: nan - ls_jacobian_norm: 1.1198 - tot_time: 0h 18m 43.6s\n",
      "\n",
      "Epoch 74: val_mse did not improve from 0.00101\n",
      " - saving loss histories at /home/rkaushik/Documents/Thesis/MLROM/new_cdv/saved_ae/ae_007/checkpoints/LossHistoriesCheckpoint\n",
      "2313/2313 [==============================] - 15s 7ms/step - loss: 0.0014 - mse: 0.0011 - NMSE: 0.0097 - real_MSE: 0.0011 - params_MSE: nan - ls_jacobian_norm: 1.1197 - val_loss: 0.0014 - val_mse: 0.0010 - val_NMSE: 0.0092 - val_real_MSE: 0.0010 - val_params_MSE: nan - val_ls_jacobian_norm: -1.0000\n",
      "Epoch 75/200\n",
      "2308/2313 [============================>.] - ETA: 0s - loss: 0.0014 - mse: 0.0011 - NMSE: 0.0096 - real_MSE: 0.0011 - params_MSE: nan - ls_jacobian_norm: 1.1482 - tot_time: 0h 18m 58.4s\n",
      "\n",
      "Epoch 75: val_mse did not improve from 0.00101\n",
      " - saving loss histories at /home/rkaushik/Documents/Thesis/MLROM/new_cdv/saved_ae/ae_007/checkpoints/LossHistoriesCheckpoint\n",
      "2313/2313 [==============================] - 15s 6ms/step - loss: 0.0014 - mse: 0.0011 - NMSE: 0.0096 - real_MSE: 0.0011 - params_MSE: nan - ls_jacobian_norm: 1.1483 - val_loss: 0.0014 - val_mse: 0.0010 - val_NMSE: 0.0092 - val_real_MSE: 0.0010 - val_params_MSE: nan - val_ls_jacobian_norm: -1.0000\n",
      "Epoch 76/200\n",
      "2313/2313 [==============================] - ETA: 0s - loss: 0.0014 - mse: 0.0011 - NMSE: 0.0096 - real_MSE: 0.0011 - params_MSE: nan - ls_jacobian_norm: 1.1220 - tot_time: 0h 19m 13.5s\n",
      "\n",
      "Epoch 76: val_mse did not improve from 0.00101\n",
      " - saving loss histories at /home/rkaushik/Documents/Thesis/MLROM/new_cdv/saved_ae/ae_007/checkpoints/LossHistoriesCheckpoint\n",
      "2313/2313 [==============================] - 15s 7ms/step - loss: 0.0014 - mse: 0.0011 - NMSE: 0.0096 - real_MSE: 0.0011 - params_MSE: nan - ls_jacobian_norm: 1.1222 - val_loss: 0.0014 - val_mse: 0.0010 - val_NMSE: 0.0091 - val_real_MSE: 0.0010 - val_params_MSE: nan - val_ls_jacobian_norm: -1.0000\n",
      "Epoch 77/200\n",
      "2312/2313 [============================>.] - ETA: 0s - loss: 0.0014 - mse: 0.0011 - NMSE: 0.0096 - real_MSE: 0.0011 - params_MSE: nan - ls_jacobian_norm: 1.1503 - tot_time: 0h 19m 28.7s\n",
      "\n",
      "Epoch 77: val_mse improved from 0.00101 to 0.00099, saving model to /home/rkaushik/Documents/Thesis/MLROM/new_cdv/saved_ae/ae_007/checkpoints/checkpoint\n",
      " - saving loss histories at /home/rkaushik/Documents/Thesis/MLROM/new_cdv/saved_ae/ae_007/checkpoints/LossHistoriesCheckpoint\n",
      "2313/2313 [==============================] - 15s 7ms/step - loss: 0.0014 - mse: 0.0011 - NMSE: 0.0096 - real_MSE: 0.0011 - params_MSE: nan - ls_jacobian_norm: 1.1501 - val_loss: 0.0013 - val_mse: 9.9209e-04 - val_NMSE: 0.0089 - val_real_MSE: 9.9209e-04 - val_params_MSE: nan - val_ls_jacobian_norm: -1.0000\n",
      "Epoch 78/200\n",
      "2310/2313 [============================>.] - ETA: 0s - loss: 0.0014 - mse: 0.0010 - NMSE: 0.0094 - real_MSE: 0.0010 - params_MSE: nan - ls_jacobian_norm: 1.1795 - tot_time: 0h 19m 43.7s\n",
      "\n",
      "Epoch 78: val_mse did not improve from 0.00099\n",
      " - saving loss histories at /home/rkaushik/Documents/Thesis/MLROM/new_cdv/saved_ae/ae_007/checkpoints/LossHistoriesCheckpoint\n",
      "2313/2313 [==============================] - 15s 6ms/step - loss: 0.0014 - mse: 0.0010 - NMSE: 0.0094 - real_MSE: 0.0010 - params_MSE: nan - ls_jacobian_norm: 1.1796 - val_loss: 0.0014 - val_mse: 9.9911e-04 - val_NMSE: 0.0090 - val_real_MSE: 9.9911e-04 - val_params_MSE: nan - val_ls_jacobian_norm: -1.0000\n",
      "Epoch 79/200\n",
      "2303/2313 [============================>.] - ETA: 0s - loss: 0.0014 - mse: 0.0010 - NMSE: 0.0094 - real_MSE: 0.0010 - params_MSE: nan - ls_jacobian_norm: 1.2039 - tot_time: 0h 19m 58.8s\n",
      "\n",
      "Epoch 79: val_mse improved from 0.00099 to 0.00098, saving model to /home/rkaushik/Documents/Thesis/MLROM/new_cdv/saved_ae/ae_007/checkpoints/checkpoint\n",
      " - saving loss histories at /home/rkaushik/Documents/Thesis/MLROM/new_cdv/saved_ae/ae_007/checkpoints/LossHistoriesCheckpoint\n",
      "2313/2313 [==============================] - 15s 7ms/step - loss: 0.0014 - mse: 0.0010 - NMSE: 0.0094 - real_MSE: 0.0010 - params_MSE: nan - ls_jacobian_norm: 1.2039 - val_loss: 0.0013 - val_mse: 9.8238e-04 - val_NMSE: 0.0088 - val_real_MSE: 9.8238e-04 - val_params_MSE: nan - val_ls_jacobian_norm: -1.0000\n"
     ]
    },
    {
     "name": "stdout",
     "output_type": "stream",
     "text": [
      "Epoch 80/200\n",
      "2308/2313 [============================>.] - ETA: 0s - loss: 0.0014 - mse: 0.0010 - NMSE: 0.0092 - real_MSE: 0.0010 - params_MSE: nan - ls_jacobian_norm: 1.2119 - tot_time: 0h 20m 14.1s\n",
      "\n",
      "Epoch 80: val_mse improved from 0.00098 to 0.00095, saving model to /home/rkaushik/Documents/Thesis/MLROM/new_cdv/saved_ae/ae_007/checkpoints/checkpoint\n",
      " - saving loss histories at /home/rkaushik/Documents/Thesis/MLROM/new_cdv/saved_ae/ae_007/checkpoints/LossHistoriesCheckpoint\n",
      "2313/2313 [==============================] - 15s 7ms/step - loss: 0.0014 - mse: 0.0010 - NMSE: 0.0092 - real_MSE: 0.0010 - params_MSE: nan - ls_jacobian_norm: 1.2117 - val_loss: 0.0013 - val_mse: 9.5174e-04 - val_NMSE: 0.0086 - val_real_MSE: 9.5174e-04 - val_params_MSE: nan - val_ls_jacobian_norm: -1.0000\n",
      "Epoch 81/200\n",
      "2307/2313 [============================>.] - ETA: 0s - loss: 0.0014 - mse: 0.0010 - NMSE: 0.0092 - real_MSE: 0.0010 - params_MSE: nan - ls_jacobian_norm: 1.1827 - tot_time: 0h 20m 29.9s\n",
      "\n",
      "Epoch 81: val_mse did not improve from 0.00095\n",
      " - saving loss histories at /home/rkaushik/Documents/Thesis/MLROM/new_cdv/saved_ae/ae_007/checkpoints/LossHistoriesCheckpoint\n",
      "2313/2313 [==============================] - 16s 7ms/step - loss: 0.0014 - mse: 0.0010 - NMSE: 0.0092 - real_MSE: 0.0010 - params_MSE: nan - ls_jacobian_norm: 1.1824 - val_loss: 0.0013 - val_mse: 9.8761e-04 - val_NMSE: 0.0089 - val_real_MSE: 9.8761e-04 - val_params_MSE: nan - val_ls_jacobian_norm: -1.0000\n",
      "Epoch 82/200\n",
      "2311/2313 [============================>.] - ETA: 0s - loss: 0.0014 - mse: 0.0010 - NMSE: 0.0092 - real_MSE: 0.0010 - params_MSE: nan - ls_jacobian_norm: 1.2230 - tot_time: 0h 20m 45.3s\n",
      "\n",
      "Epoch 82: val_mse improved from 0.00095 to 0.00093, saving model to /home/rkaushik/Documents/Thesis/MLROM/new_cdv/saved_ae/ae_007/checkpoints/checkpoint\n",
      " - saving loss histories at /home/rkaushik/Documents/Thesis/MLROM/new_cdv/saved_ae/ae_007/checkpoints/LossHistoriesCheckpoint\n",
      "2313/2313 [==============================] - 15s 7ms/step - loss: 0.0014 - mse: 0.0010 - NMSE: 0.0092 - real_MSE: 0.0010 - params_MSE: nan - ls_jacobian_norm: 1.2229 - val_loss: 0.0013 - val_mse: 9.2522e-04 - val_NMSE: 0.0083 - val_real_MSE: 9.2522e-04 - val_params_MSE: nan - val_ls_jacobian_norm: -1.0000\n",
      "Epoch 83/200\n",
      "2304/2313 [============================>.] - ETA: 0s - loss: 0.0014 - mse: 0.0010 - NMSE: 0.0090 - real_MSE: 0.0010 - params_MSE: nan - ls_jacobian_norm: 1.2010 - tot_time: 0h 21m 1.2s\n",
      "\n",
      "Epoch 83: val_mse did not improve from 0.00093\n",
      " - saving loss histories at /home/rkaushik/Documents/Thesis/MLROM/new_cdv/saved_ae/ae_007/checkpoints/LossHistoriesCheckpoint\n",
      "2313/2313 [==============================] - 16s 7ms/step - loss: 0.0014 - mse: 0.0010 - NMSE: 0.0090 - real_MSE: 0.0010 - params_MSE: nan - ls_jacobian_norm: 1.2015 - val_loss: 0.0013 - val_mse: 9.6135e-04 - val_NMSE: 0.0087 - val_real_MSE: 9.6135e-04 - val_params_MSE: nan - val_ls_jacobian_norm: -1.0000\n",
      "Epoch 84/200\n",
      "2307/2313 [============================>.] - ETA: 0s - loss: 0.0014 - mse: 0.0010 - NMSE: 0.0090 - real_MSE: 0.0010 - params_MSE: nan - ls_jacobian_norm: 1.1992 - tot_time: 0h 21m 16.9s\n",
      "\n",
      "Epoch 84: val_mse improved from 0.00093 to 0.00089, saving model to /home/rkaushik/Documents/Thesis/MLROM/new_cdv/saved_ae/ae_007/checkpoints/checkpoint\n",
      " - saving loss histories at /home/rkaushik/Documents/Thesis/MLROM/new_cdv/saved_ae/ae_007/checkpoints/LossHistoriesCheckpoint\n",
      "2313/2313 [==============================] - 16s 7ms/step - loss: 0.0014 - mse: 0.0010 - NMSE: 0.0090 - real_MSE: 0.0010 - params_MSE: nan - ls_jacobian_norm: 1.1994 - val_loss: 0.0012 - val_mse: 8.9425e-04 - val_NMSE: 0.0080 - val_real_MSE: 8.9425e-04 - val_params_MSE: nan - val_ls_jacobian_norm: -1.0000\n",
      "Epoch 85/200\n",
      "2313/2313 [==============================] - ETA: 0s - loss: 0.0013 - mse: 9.8927e-04 - NMSE: 0.0089 - real_MSE: 9.8927e-04 - params_MSE: nan - ls_jacobian_norm: 1.2172 - tot_time: 0h 21m 32.9s\n",
      "\n",
      "Epoch 85: val_mse did not improve from 0.00089\n",
      " - saving loss histories at /home/rkaushik/Documents/Thesis/MLROM/new_cdv/saved_ae/ae_007/checkpoints/LossHistoriesCheckpoint\n",
      "2313/2313 [==============================] - 16s 7ms/step - loss: 0.0013 - mse: 9.8927e-04 - NMSE: 0.0089 - real_MSE: 9.8927e-04 - params_MSE: nan - ls_jacobian_norm: 1.2171 - val_loss: 0.0013 - val_mse: 9.2706e-04 - val_NMSE: 0.0083 - val_real_MSE: 9.2706e-04 - val_params_MSE: nan - val_ls_jacobian_norm: -1.0000\n",
      "Epoch 86/200\n",
      "2302/2313 [============================>.] - ETA: 0s - loss: 0.0013 - mse: 9.8372e-04 - NMSE: 0.0089 - real_MSE: 9.8372e-04 - params_MSE: nan - ls_jacobian_norm: 1.2301 - tot_time: 0h 21m 49.1s\n",
      "\n",
      "Epoch 86: val_mse did not improve from 0.00089\n",
      " - saving loss histories at /home/rkaushik/Documents/Thesis/MLROM/new_cdv/saved_ae/ae_007/checkpoints/LossHistoriesCheckpoint\n",
      "2313/2313 [==============================] - 16s 7ms/step - loss: 0.0013 - mse: 9.8391e-04 - NMSE: 0.0089 - real_MSE: 9.8391e-04 - params_MSE: nan - ls_jacobian_norm: 1.2297 - val_loss: 0.0013 - val_mse: 9.6669e-04 - val_NMSE: 0.0087 - val_real_MSE: 9.6669e-04 - val_params_MSE: nan - val_ls_jacobian_norm: -1.0000\n",
      "Epoch 87/200\n",
      "2309/2313 [============================>.] - ETA: 0s - loss: 0.0013 - mse: 9.8076e-04 - NMSE: 0.0088 - real_MSE: 9.8076e-04 - params_MSE: nan - ls_jacobian_norm: 1.2174 - tot_time: 0h 22m 5.3s\n",
      "\n",
      "Epoch 87: val_mse did not improve from 0.00089\n",
      " - saving loss histories at /home/rkaushik/Documents/Thesis/MLROM/new_cdv/saved_ae/ae_007/checkpoints/LossHistoriesCheckpoint\n",
      "2313/2313 [==============================] - 16s 7ms/step - loss: 0.0013 - mse: 9.8048e-04 - NMSE: 0.0088 - real_MSE: 9.8048e-04 - params_MSE: nan - ls_jacobian_norm: 1.2171 - val_loss: 0.0013 - val_mse: 9.2314e-04 - val_NMSE: 0.0083 - val_real_MSE: 9.2314e-04 - val_params_MSE: nan - val_ls_jacobian_norm: -1.0000\n",
      "Epoch 88/200\n",
      "2307/2313 [============================>.] - ETA: 0s - loss: 0.0013 - mse: 9.6845e-04 - NMSE: 0.0087 - real_MSE: 9.6845e-04 - params_MSE: nan - ls_jacobian_norm: 1.2581 - tot_time: 0h 22m 21.3s\n",
      "\n",
      "Epoch 88: val_mse did not improve from 0.00089\n",
      " - saving loss histories at /home/rkaushik/Documents/Thesis/MLROM/new_cdv/saved_ae/ae_007/checkpoints/LossHistoriesCheckpoint\n",
      "2313/2313 [==============================] - 16s 7ms/step - loss: 0.0013 - mse: 9.6834e-04 - NMSE: 0.0087 - real_MSE: 9.6834e-04 - params_MSE: nan - ls_jacobian_norm: 1.2578 - val_loss: 0.0013 - val_mse: 9.5121e-04 - val_NMSE: 0.0086 - val_real_MSE: 9.5121e-04 - val_params_MSE: nan - val_ls_jacobian_norm: -1.0000\n",
      "Epoch 89/200\n",
      "2303/2313 [============================>.] - ETA: 0s - loss: 0.0013 - mse: 9.4120e-04 - NMSE: 0.0085 - real_MSE: 9.4120e-04 - params_MSE: nan - ls_jacobian_norm: 1.2758 - tot_time: 0h 22m 37.3s\n",
      "\n",
      "Epoch 89: val_mse improved from 0.00089 to 0.00084, saving model to /home/rkaushik/Documents/Thesis/MLROM/new_cdv/saved_ae/ae_007/checkpoints/checkpoint\n",
      " - saving loss histories at /home/rkaushik/Documents/Thesis/MLROM/new_cdv/saved_ae/ae_007/checkpoints/LossHistoriesCheckpoint\n",
      "2313/2313 [==============================] - 16s 7ms/step - loss: 0.0013 - mse: 9.4142e-04 - NMSE: 0.0085 - real_MSE: 9.4142e-04 - params_MSE: nan - ls_jacobian_norm: 1.2762 - val_loss: 0.0012 - val_mse: 8.3553e-04 - val_NMSE: 0.0075 - val_real_MSE: 8.3553e-04 - val_params_MSE: nan - val_ls_jacobian_norm: -1.0000\n",
      "Epoch 90/200\n",
      "2311/2313 [============================>.] - ETA: 0s - loss: 0.0013 - mse: 9.1938e-04 - NMSE: 0.0083 - real_MSE: 9.1938e-04 - params_MSE: nan - ls_jacobian_norm: 1.2705 - tot_time: 0h 22m 54.1s\n",
      "\n",
      "Epoch 90: val_mse did not improve from 0.00084\n",
      " - saving loss histories at /home/rkaushik/Documents/Thesis/MLROM/new_cdv/saved_ae/ae_007/checkpoints/LossHistoriesCheckpoint\n",
      "2313/2313 [==============================] - 17s 7ms/step - loss: 0.0013 - mse: 9.1936e-04 - NMSE: 0.0083 - real_MSE: 9.1936e-04 - params_MSE: nan - ls_jacobian_norm: 1.2705 - val_loss: 0.0012 - val_mse: 8.5882e-04 - val_NMSE: 0.0077 - val_real_MSE: 8.5882e-04 - val_params_MSE: nan - val_ls_jacobian_norm: -1.0000\n",
      "Epoch 91/200\n",
      "2310/2313 [============================>.] - ETA: 0s - loss: 0.0013 - mse: 9.2702e-04 - NMSE: 0.0083 - real_MSE: 9.2702e-04 - params_MSE: nan - ls_jacobian_norm: 1.2653 - tot_time: 0h 23m 10.4s\n",
      "\n",
      "Epoch 91: val_mse did not improve from 0.00084\n"
     ]
    },
    {
     "name": "stdout",
     "output_type": "stream",
     "text": [
      " - saving loss histories at /home/rkaushik/Documents/Thesis/MLROM/new_cdv/saved_ae/ae_007/checkpoints/LossHistoriesCheckpoint\n",
      "2313/2313 [==============================] - 16s 7ms/step - loss: 0.0013 - mse: 9.2688e-04 - NMSE: 0.0083 - real_MSE: 9.2688e-04 - params_MSE: nan - ls_jacobian_norm: 1.2651 - val_loss: 0.0012 - val_mse: 8.5663e-04 - val_NMSE: 0.0077 - val_real_MSE: 8.5663e-04 - val_params_MSE: nan - val_ls_jacobian_norm: -1.0000\n",
      "Epoch 92/200\n",
      "2309/2313 [============================>.] - ETA: 0s - loss: 0.0013 - mse: 9.0740e-04 - NMSE: 0.0082 - real_MSE: 9.0740e-04 - params_MSE: nan - ls_jacobian_norm: 1.2835 - tot_time: 0h 23m 27.2s\n",
      "\n",
      "Epoch 92: val_mse did not improve from 0.00084\n",
      " - saving loss histories at /home/rkaushik/Documents/Thesis/MLROM/new_cdv/saved_ae/ae_007/checkpoints/LossHistoriesCheckpoint\n",
      "2313/2313 [==============================] - 17s 7ms/step - loss: 0.0013 - mse: 9.0747e-04 - NMSE: 0.0082 - real_MSE: 9.0747e-04 - params_MSE: nan - ls_jacobian_norm: 1.2836 - val_loss: 0.0012 - val_mse: 8.5483e-04 - val_NMSE: 0.0077 - val_real_MSE: 8.5483e-04 - val_params_MSE: nan - val_ls_jacobian_norm: -1.0000\n",
      "Epoch 93/200\n",
      "2311/2313 [============================>.] - ETA: 0s - loss: 0.0012 - mse: 8.9363e-04 - NMSE: 0.0080 - real_MSE: 8.9363e-04 - params_MSE: nan - ls_jacobian_norm: 1.2743 - tot_time: 0h 23m 43.1s\n",
      "\n",
      "Epoch 93: val_mse did not improve from 0.00084\n",
      " - saving loss histories at /home/rkaushik/Documents/Thesis/MLROM/new_cdv/saved_ae/ae_007/checkpoints/LossHistoriesCheckpoint\n",
      "2313/2313 [==============================] - 16s 7ms/step - loss: 0.0012 - mse: 8.9346e-04 - NMSE: 0.0080 - real_MSE: 8.9346e-04 - params_MSE: nan - ls_jacobian_norm: 1.2739 - val_loss: 0.0012 - val_mse: 8.7173e-04 - val_NMSE: 0.0078 - val_real_MSE: 8.7173e-04 - val_params_MSE: nan - val_ls_jacobian_norm: -1.0000\n",
      "Epoch 94/200\n",
      "2312/2313 [============================>.] - ETA: 0s - loss: 0.0012 - mse: 8.8958e-04 - NMSE: 0.0080 - real_MSE: 8.8958e-04 - params_MSE: nan - ls_jacobian_norm: 1.2595 - tot_time: 0h 23m 59.1s\n",
      "\n",
      "Epoch 94: val_mse improved from 0.00084 to 0.00082, saving model to /home/rkaushik/Documents/Thesis/MLROM/new_cdv/saved_ae/ae_007/checkpoints/checkpoint\n",
      " - saving loss histories at /home/rkaushik/Documents/Thesis/MLROM/new_cdv/saved_ae/ae_007/checkpoints/LossHistoriesCheckpoint\n",
      "2313/2313 [==============================] - 16s 7ms/step - loss: 0.0012 - mse: 8.8962e-04 - NMSE: 0.0080 - real_MSE: 8.8962e-04 - params_MSE: nan - ls_jacobian_norm: 1.2594 - val_loss: 0.0012 - val_mse: 8.2064e-04 - val_NMSE: 0.0074 - val_real_MSE: 8.2064e-04 - val_params_MSE: nan - val_ls_jacobian_norm: -1.0000\n",
      "Epoch 95/200\n",
      "2308/2313 [============================>.] - ETA: 0s - loss: 0.0012 - mse: 8.8140e-04 - NMSE: 0.0079 - real_MSE: 8.8140e-04 - params_MSE: nan - ls_jacobian_norm: 1.2702 - tot_time: 0h 24m 13.6s\n",
      "\n",
      "Epoch 95: val_mse improved from 0.00082 to 0.00081, saving model to /home/rkaushik/Documents/Thesis/MLROM/new_cdv/saved_ae/ae_007/checkpoints/checkpoint\n",
      " - saving loss histories at /home/rkaushik/Documents/Thesis/MLROM/new_cdv/saved_ae/ae_007/checkpoints/LossHistoriesCheckpoint\n",
      "2313/2313 [==============================] - 15s 6ms/step - loss: 0.0012 - mse: 8.8139e-04 - NMSE: 0.0079 - real_MSE: 8.8139e-04 - params_MSE: nan - ls_jacobian_norm: 1.2700 - val_loss: 0.0012 - val_mse: 8.1175e-04 - val_NMSE: 0.0073 - val_real_MSE: 8.1175e-04 - val_params_MSE: nan - val_ls_jacobian_norm: -1.0000\n",
      "Epoch 96/200\n",
      "2311/2313 [============================>.] - ETA: 0s - loss: 0.0012 - mse: 8.6694e-04 - NMSE: 0.0078 - real_MSE: 8.6694e-04 - params_MSE: nan - ls_jacobian_norm: 1.2680 - tot_time: 0h 24m 29.3s\n",
      "\n",
      "Epoch 96: val_mse did not improve from 0.00081\n",
      " - saving loss histories at /home/rkaushik/Documents/Thesis/MLROM/new_cdv/saved_ae/ae_007/checkpoints/LossHistoriesCheckpoint\n",
      "2313/2313 [==============================] - 16s 7ms/step - loss: 0.0012 - mse: 8.6715e-04 - NMSE: 0.0078 - real_MSE: 8.6715e-04 - params_MSE: nan - ls_jacobian_norm: 1.2679 - val_loss: 0.0012 - val_mse: 8.6735e-04 - val_NMSE: 0.0078 - val_real_MSE: 8.6735e-04 - val_params_MSE: nan - val_ls_jacobian_norm: -1.0000\n",
      "Epoch 97/200\n",
      "2308/2313 [============================>.] - ETA: 0s - loss: 0.0012 - mse: 8.5996e-04 - NMSE: 0.0077 - real_MSE: 8.5996e-04 - params_MSE: nan - ls_jacobian_norm: 1.2754 - tot_time: 0h 24m 44.0s\n",
      "\n",
      "Epoch 97: val_mse improved from 0.00081 to 0.00079, saving model to /home/rkaushik/Documents/Thesis/MLROM/new_cdv/saved_ae/ae_007/checkpoints/checkpoint\n",
      " - saving loss histories at /home/rkaushik/Documents/Thesis/MLROM/new_cdv/saved_ae/ae_007/checkpoints/LossHistoriesCheckpoint\n",
      "2313/2313 [==============================] - 15s 6ms/step - loss: 0.0012 - mse: 8.6020e-04 - NMSE: 0.0077 - real_MSE: 8.6020e-04 - params_MSE: nan - ls_jacobian_norm: 1.2754 - val_loss: 0.0011 - val_mse: 7.9432e-04 - val_NMSE: 0.0071 - val_real_MSE: 7.9432e-04 - val_params_MSE: nan - val_ls_jacobian_norm: -1.0000\n",
      "Epoch 98/200\n",
      "2311/2313 [============================>.] - ETA: 0s - loss: 0.0012 - mse: 8.5470e-04 - NMSE: 0.0077 - real_MSE: 8.5470e-04 - params_MSE: nan - ls_jacobian_norm: 1.3097 - tot_time: 0h 24m 58.2s\n",
      "\n",
      "Epoch 98: val_mse improved from 0.00079 to 0.00079, saving model to /home/rkaushik/Documents/Thesis/MLROM/new_cdv/saved_ae/ae_007/checkpoints/checkpoint\n",
      " - saving loss histories at /home/rkaushik/Documents/Thesis/MLROM/new_cdv/saved_ae/ae_007/checkpoints/LossHistoriesCheckpoint\n",
      "2313/2313 [==============================] - 14s 6ms/step - loss: 0.0012 - mse: 8.5471e-04 - NMSE: 0.0077 - real_MSE: 8.5471e-04 - params_MSE: nan - ls_jacobian_norm: 1.3097 - val_loss: 0.0011 - val_mse: 7.8682e-04 - val_NMSE: 0.0071 - val_real_MSE: 7.8682e-04 - val_params_MSE: nan - val_ls_jacobian_norm: -1.0000\n",
      "Epoch 99/200\n",
      "2313/2313 [==============================] - ETA: 0s - loss: 0.0012 - mse: 8.4548e-04 - NMSE: 0.0076 - real_MSE: 8.4548e-04 - params_MSE: nan - ls_jacobian_norm: 1.2849 - tot_time: 0h 25m 12.3s\n",
      "\n",
      "Epoch 99: val_mse did not improve from 0.00079\n",
      " - saving loss histories at /home/rkaushik/Documents/Thesis/MLROM/new_cdv/saved_ae/ae_007/checkpoints/LossHistoriesCheckpoint\n",
      "2313/2313 [==============================] - 14s 6ms/step - loss: 0.0012 - mse: 8.4548e-04 - NMSE: 0.0076 - real_MSE: 8.4548e-04 - params_MSE: nan - ls_jacobian_norm: 1.2849 - val_loss: 0.0012 - val_mse: 8.6075e-04 - val_NMSE: 0.0077 - val_real_MSE: 8.6075e-04 - val_params_MSE: nan - val_ls_jacobian_norm: -1.0000\n",
      "Epoch 100/200\n",
      "2312/2313 [============================>.] - ETA: 0s - loss: 0.0012 - mse: 8.3830e-04 - NMSE: 0.0075 - real_MSE: 8.3830e-04 - params_MSE: nan - ls_jacobian_norm: 1.2782 - tot_time: 0h 25m 26.1s\n",
      "\n",
      "Epoch 100: val_mse improved from 0.00079 to 0.00078, saving model to /home/rkaushik/Documents/Thesis/MLROM/new_cdv/saved_ae/ae_007/checkpoints/checkpoint\n",
      " - saving loss histories at /home/rkaushik/Documents/Thesis/MLROM/new_cdv/saved_ae/ae_007/checkpoints/LossHistoriesCheckpoint\n",
      "2313/2313 [==============================] - 14s 6ms/step - loss: 0.0012 - mse: 8.3836e-04 - NMSE: 0.0075 - real_MSE: 8.3836e-04 - params_MSE: nan - ls_jacobian_norm: 1.2784 - val_loss: 0.0011 - val_mse: 7.7703e-04 - val_NMSE: 0.0070 - val_real_MSE: 7.7703e-04 - val_params_MSE: nan - val_ls_jacobian_norm: -1.0000\n",
      "Epoch 101/200\n",
      "2311/2313 [============================>.] - ETA: 0s - loss: 0.0012 - mse: 8.3800e-04 - NMSE: 0.0075 - real_MSE: 8.3800e-04 - params_MSE: nan - ls_jacobian_norm: 1.2510 - tot_time: 0h 25m 40.4s\n",
      "\n",
      "Epoch 101: val_mse did not improve from 0.00078\n",
      " - saving loss histories at /home/rkaushik/Documents/Thesis/MLROM/new_cdv/saved_ae/ae_007/checkpoints/LossHistoriesCheckpoint\n",
      "2313/2313 [==============================] - 14s 6ms/step - loss: 0.0012 - mse: 8.3789e-04 - NMSE: 0.0075 - real_MSE: 8.3789e-04 - params_MSE: nan - ls_jacobian_norm: 1.2510 - val_loss: 0.0011 - val_mse: 7.8631e-04 - val_NMSE: 0.0071 - val_real_MSE: 7.8631e-04 - val_params_MSE: nan - val_ls_jacobian_norm: -1.0000\n",
      "Epoch 102/200\n",
      "2312/2313 [============================>.] - ETA: 0s - loss: 0.0012 - mse: 8.3919e-04 - NMSE: 0.0076 - real_MSE: 8.3919e-04 - params_MSE: nan - ls_jacobian_norm: 1.2423 - tot_time: 0h 25m 54.5s\n",
      "\n",
      "Epoch 102: val_mse did not improve from 0.00078\n",
      " - saving loss histories at /home/rkaushik/Documents/Thesis/MLROM/new_cdv/saved_ae/ae_007/checkpoints/LossHistoriesCheckpoint\n",
      "2313/2313 [==============================] - 14s 6ms/step - loss: 0.0012 - mse: 8.3924e-04 - NMSE: 0.0076 - real_MSE: 8.3924e-04 - params_MSE: nan - ls_jacobian_norm: 1.2423 - val_loss: 0.0012 - val_mse: 8.3712e-04 - val_NMSE: 0.0075 - val_real_MSE: 8.3712e-04 - val_params_MSE: nan - val_ls_jacobian_norm: -1.0000\n"
     ]
    },
    {
     "name": "stdout",
     "output_type": "stream",
     "text": [
      "Epoch 103/200\n",
      "2309/2313 [============================>.] - ETA: 0s - loss: 0.0012 - mse: 8.2982e-04 - NMSE: 0.0075 - real_MSE: 8.2982e-04 - params_MSE: nan - ls_jacobian_norm: 1.2356 - tot_time: 0h 26m 9.3s\n",
      "\n",
      "Epoch 103: val_mse did not improve from 0.00078\n",
      " - saving loss histories at /home/rkaushik/Documents/Thesis/MLROM/new_cdv/saved_ae/ae_007/checkpoints/LossHistoriesCheckpoint\n",
      "2313/2313 [==============================] - 15s 6ms/step - loss: 0.0012 - mse: 8.3017e-04 - NMSE: 0.0075 - real_MSE: 8.3017e-04 - params_MSE: nan - ls_jacobian_norm: 1.2356 - val_loss: 0.0012 - val_mse: 8.1995e-04 - val_NMSE: 0.0074 - val_real_MSE: 8.1995e-04 - val_params_MSE: nan - val_ls_jacobian_norm: -1.0000\n",
      "Epoch 104/200\n",
      "2309/2313 [============================>.] - ETA: 0s - loss: 0.0012 - mse: 8.1718e-04 - NMSE: 0.0074 - real_MSE: 8.1718e-04 - params_MSE: nan - ls_jacobian_norm: 1.2387 - tot_time: 0h 26m 23.3s\n",
      "\n",
      "Epoch 104: val_mse improved from 0.00078 to 0.00077, saving model to /home/rkaushik/Documents/Thesis/MLROM/new_cdv/saved_ae/ae_007/checkpoints/checkpoint\n",
      " - saving loss histories at /home/rkaushik/Documents/Thesis/MLROM/new_cdv/saved_ae/ae_007/checkpoints/LossHistoriesCheckpoint\n",
      "2313/2313 [==============================] - 14s 6ms/step - loss: 0.0012 - mse: 8.1673e-04 - NMSE: 0.0074 - real_MSE: 8.1673e-04 - params_MSE: nan - ls_jacobian_norm: 1.2383 - val_loss: 0.0011 - val_mse: 7.7499e-04 - val_NMSE: 0.0070 - val_real_MSE: 7.7499e-04 - val_params_MSE: nan - val_ls_jacobian_norm: -1.0000\n",
      "Epoch 105/200\n",
      "2308/2313 [============================>.] - ETA: 0s - loss: 0.0012 - mse: 8.1078e-04 - NMSE: 0.0073 - real_MSE: 8.1078e-04 - params_MSE: nan - ls_jacobian_norm: 1.2567 - tot_time: 0h 26m 37.7s\n",
      "\n",
      "Epoch 105: val_mse did not improve from 0.00077\n",
      " - saving loss histories at /home/rkaushik/Documents/Thesis/MLROM/new_cdv/saved_ae/ae_007/checkpoints/LossHistoriesCheckpoint\n",
      "2313/2313 [==============================] - 14s 6ms/step - loss: 0.0012 - mse: 8.1055e-04 - NMSE: 0.0073 - real_MSE: 8.1055e-04 - params_MSE: nan - ls_jacobian_norm: 1.2568 - val_loss: 0.0011 - val_mse: 7.7991e-04 - val_NMSE: 0.0070 - val_real_MSE: 7.7991e-04 - val_params_MSE: nan - val_ls_jacobian_norm: -1.0000\n",
      "Epoch 106/200\n",
      "2313/2313 [==============================] - ETA: 0s - loss: 0.0012 - mse: 8.0913e-04 - NMSE: 0.0073 - real_MSE: 8.0913e-04 - params_MSE: nan - ls_jacobian_norm: 1.2612 - tot_time: 0h 26m 52.0s\n",
      "\n",
      "Epoch 106: val_mse improved from 0.00077 to 0.00077, saving model to /home/rkaushik/Documents/Thesis/MLROM/new_cdv/saved_ae/ae_007/checkpoints/checkpoint\n",
      " - saving loss histories at /home/rkaushik/Documents/Thesis/MLROM/new_cdv/saved_ae/ae_007/checkpoints/LossHistoriesCheckpoint\n",
      "2313/2313 [==============================] - 14s 6ms/step - loss: 0.0012 - mse: 8.0913e-04 - NMSE: 0.0073 - real_MSE: 8.0913e-04 - params_MSE: nan - ls_jacobian_norm: 1.2611 - val_loss: 0.0011 - val_mse: 7.7082e-04 - val_NMSE: 0.0069 - val_real_MSE: 7.7082e-04 - val_params_MSE: nan - val_ls_jacobian_norm: -1.0000\n",
      "Epoch 107/200\n",
      "2306/2313 [============================>.] - ETA: 0s - loss: 0.0012 - mse: 8.0982e-04 - NMSE: 0.0073 - real_MSE: 8.0982e-04 - params_MSE: nan - ls_jacobian_norm: 1.2535 - tot_time: 0h 27m 6.0s\n",
      "\n",
      "Epoch 107: val_mse did not improve from 0.00077\n",
      " - saving loss histories at /home/rkaushik/Documents/Thesis/MLROM/new_cdv/saved_ae/ae_007/checkpoints/LossHistoriesCheckpoint\n",
      "2313/2313 [==============================] - 14s 6ms/step - loss: 0.0012 - mse: 8.1023e-04 - NMSE: 0.0073 - real_MSE: 8.1023e-04 - params_MSE: nan - ls_jacobian_norm: 1.2535 - val_loss: 0.0011 - val_mse: 7.8936e-04 - val_NMSE: 0.0071 - val_real_MSE: 7.8936e-04 - val_params_MSE: nan - val_ls_jacobian_norm: -1.0000\n",
      "Epoch 108/200\n",
      "2312/2313 [============================>.] - ETA: 0s - loss: 0.0012 - mse: 8.0875e-04 - NMSE: 0.0073 - real_MSE: 8.0875e-04 - params_MSE: nan - ls_jacobian_norm: 1.2594 - tot_time: 0h 27m 20.3s\n",
      "\n",
      "Epoch 108: val_mse improved from 0.00077 to 0.00072, saving model to /home/rkaushik/Documents/Thesis/MLROM/new_cdv/saved_ae/ae_007/checkpoints/checkpoint\n",
      " - saving loss histories at /home/rkaushik/Documents/Thesis/MLROM/new_cdv/saved_ae/ae_007/checkpoints/LossHistoriesCheckpoint\n",
      "2313/2313 [==============================] - 14s 6ms/step - loss: 0.0012 - mse: 8.0869e-04 - NMSE: 0.0073 - real_MSE: 8.0869e-04 - params_MSE: nan - ls_jacobian_norm: 1.2593 - val_loss: 0.0011 - val_mse: 7.2244e-04 - val_NMSE: 0.0065 - val_real_MSE: 7.2244e-04 - val_params_MSE: nan - val_ls_jacobian_norm: -1.0000\n",
      "Epoch 109/200\n",
      "2310/2313 [============================>.] - ETA: 0s - loss: 0.0012 - mse: 8.0885e-04 - NMSE: 0.0073 - real_MSE: 8.0885e-04 - params_MSE: nan - ls_jacobian_norm: 1.2735 - tot_time: 0h 27m 35.4s\n",
      "\n",
      "Epoch 109: val_mse did not improve from 0.00072\n",
      " - saving loss histories at /home/rkaushik/Documents/Thesis/MLROM/new_cdv/saved_ae/ae_007/checkpoints/LossHistoriesCheckpoint\n",
      "2313/2313 [==============================] - 15s 7ms/step - loss: 0.0012 - mse: 8.0896e-04 - NMSE: 0.0073 - real_MSE: 8.0896e-04 - params_MSE: nan - ls_jacobian_norm: 1.2736 - val_loss: 0.0011 - val_mse: 7.4262e-04 - val_NMSE: 0.0067 - val_real_MSE: 7.4262e-04 - val_params_MSE: nan - val_ls_jacobian_norm: -1.0000\n",
      "Epoch 110/200\n",
      "2308/2313 [============================>.] - ETA: 0s - loss: 0.0012 - mse: 7.9873e-04 - NMSE: 0.0072 - real_MSE: 7.9873e-04 - params_MSE: nan - ls_jacobian_norm: 1.2708 - tot_time: 0h 27m 49.6s\n",
      "\n",
      "Epoch 110: val_mse did not improve from 0.00072\n",
      " - saving loss histories at /home/rkaushik/Documents/Thesis/MLROM/new_cdv/saved_ae/ae_007/checkpoints/LossHistoriesCheckpoint\n",
      "2313/2313 [==============================] - 14s 6ms/step - loss: 0.0012 - mse: 7.9865e-04 - NMSE: 0.0072 - real_MSE: 7.9865e-04 - params_MSE: nan - ls_jacobian_norm: 1.2708 - val_loss: 0.0011 - val_mse: 7.5399e-04 - val_NMSE: 0.0068 - val_real_MSE: 7.5399e-04 - val_params_MSE: nan - val_ls_jacobian_norm: -1.0000\n",
      "Epoch 111/200\n",
      "2311/2313 [============================>.] - ETA: 0s - loss: 0.0011 - mse: 7.9250e-04 - NMSE: 0.0071 - real_MSE: 7.9250e-04 - params_MSE: nan - ls_jacobian_norm: 1.2620 - tot_time: 0h 28m 4.9s\n",
      "\n",
      "Epoch 111: val_mse did not improve from 0.00072\n",
      " - saving loss histories at /home/rkaushik/Documents/Thesis/MLROM/new_cdv/saved_ae/ae_007/checkpoints/LossHistoriesCheckpoint\n",
      "2313/2313 [==============================] - 15s 7ms/step - loss: 0.0011 - mse: 7.9246e-04 - NMSE: 0.0071 - real_MSE: 7.9246e-04 - params_MSE: nan - ls_jacobian_norm: 1.2621 - val_loss: 0.0011 - val_mse: 7.2582e-04 - val_NMSE: 0.0065 - val_real_MSE: 7.2582e-04 - val_params_MSE: nan - val_ls_jacobian_norm: -1.0000\n",
      "Epoch 112/200\n",
      "2306/2313 [============================>.] - ETA: 0s - loss: 0.0012 - mse: 8.0231e-04 - NMSE: 0.0072 - real_MSE: 8.0231e-04 - params_MSE: nan - ls_jacobian_norm: 1.2424 - tot_time: 0h 28m 20.3s\n",
      "\n",
      "Epoch 112: val_mse did not improve from 0.00072\n",
      " - saving loss histories at /home/rkaushik/Documents/Thesis/MLROM/new_cdv/saved_ae/ae_007/checkpoints/LossHistoriesCheckpoint\n",
      "2313/2313 [==============================] - 15s 7ms/step - loss: 0.0012 - mse: 8.0298e-04 - NMSE: 0.0072 - real_MSE: 8.0298e-04 - params_MSE: nan - ls_jacobian_norm: 1.2429 - val_loss: 0.0011 - val_mse: 7.3326e-04 - val_NMSE: 0.0066 - val_real_MSE: 7.3326e-04 - val_params_MSE: nan - val_ls_jacobian_norm: -1.0000\n",
      "Epoch 113/200\n",
      "2307/2313 [============================>.] - ETA: 0s - loss: 0.0012 - mse: 8.0103e-04 - NMSE: 0.0072 - real_MSE: 8.0103e-04 - params_MSE: nan - ls_jacobian_norm: 1.2450 - tot_time: 0h 28m 35.6s\n",
      "\n",
      "Epoch 113: val_mse did not improve from 0.00072\n",
      " - saving loss histories at /home/rkaushik/Documents/Thesis/MLROM/new_cdv/saved_ae/ae_007/checkpoints/LossHistoriesCheckpoint\n",
      "2313/2313 [==============================] - 15s 7ms/step - loss: 0.0012 - mse: 8.0047e-04 - NMSE: 0.0072 - real_MSE: 8.0047e-04 - params_MSE: nan - ls_jacobian_norm: 1.2447 - val_loss: 0.0011 - val_mse: 7.5436e-04 - val_NMSE: 0.0068 - val_real_MSE: 7.5436e-04 - val_params_MSE: nan - val_ls_jacobian_norm: -1.0000\n",
      "Epoch 114/200\n",
      "2309/2313 [============================>.] - ETA: 0s - loss: 0.0011 - mse: 7.8893e-04 - NMSE: 0.0071 - real_MSE: 7.8893e-04 - params_MSE: nan - ls_jacobian_norm: 1.2747 - tot_time: 0h 28m 51.1s\n",
      "\n",
      "Epoch 114: val_mse did not improve from 0.00072\n"
     ]
    },
    {
     "name": "stdout",
     "output_type": "stream",
     "text": [
      " - saving loss histories at /home/rkaushik/Documents/Thesis/MLROM/new_cdv/saved_ae/ae_007/checkpoints/LossHistoriesCheckpoint\n",
      "2313/2313 [==============================] - 15s 7ms/step - loss: 0.0011 - mse: 7.8924e-04 - NMSE: 0.0071 - real_MSE: 7.8924e-04 - params_MSE: nan - ls_jacobian_norm: 1.2749 - val_loss: 0.0011 - val_mse: 7.2901e-04 - val_NMSE: 0.0066 - val_real_MSE: 7.2901e-04 - val_params_MSE: nan - val_ls_jacobian_norm: -1.0000\n",
      "Epoch 115/200\n",
      "2308/2313 [============================>.] - ETA: 0s - loss: 0.0011 - mse: 7.8590e-04 - NMSE: 0.0071 - real_MSE: 7.8590e-04 - params_MSE: nan - ls_jacobian_norm: 1.3007 - tot_time: 0h 29m 6.5s\n",
      "\n",
      "Epoch 115: val_mse did not improve from 0.00072\n",
      " - saving loss histories at /home/rkaushik/Documents/Thesis/MLROM/new_cdv/saved_ae/ae_007/checkpoints/LossHistoriesCheckpoint\n",
      "2313/2313 [==============================] - 15s 7ms/step - loss: 0.0011 - mse: 7.8592e-04 - NMSE: 0.0071 - real_MSE: 7.8592e-04 - params_MSE: nan - ls_jacobian_norm: 1.3009 - val_loss: 0.0011 - val_mse: 7.2849e-04 - val_NMSE: 0.0066 - val_real_MSE: 7.2849e-04 - val_params_MSE: nan - val_ls_jacobian_norm: -1.0000\n",
      "Epoch 116/200\n",
      "2312/2313 [============================>.] - ETA: 0s - loss: 0.0011 - mse: 7.7746e-04 - NMSE: 0.0070 - real_MSE: 7.7746e-04 - params_MSE: nan - ls_jacobian_norm: 1.2685 - tot_time: 0h 29m 22.2s\n",
      "\n",
      "Epoch 116: val_mse improved from 0.00072 to 0.00072, saving model to /home/rkaushik/Documents/Thesis/MLROM/new_cdv/saved_ae/ae_007/checkpoints/checkpoint\n",
      " - saving loss histories at /home/rkaushik/Documents/Thesis/MLROM/new_cdv/saved_ae/ae_007/checkpoints/LossHistoriesCheckpoint\n",
      "2313/2313 [==============================] - 16s 7ms/step - loss: 0.0011 - mse: 7.7742e-04 - NMSE: 0.0070 - real_MSE: 7.7742e-04 - params_MSE: nan - ls_jacobian_norm: 1.2686 - val_loss: 0.0011 - val_mse: 7.1898e-04 - val_NMSE: 0.0065 - val_real_MSE: 7.1898e-04 - val_params_MSE: nan - val_ls_jacobian_norm: -1.0000\n",
      "Epoch 117/200\n",
      "2302/2313 [============================>.] - ETA: 0s - loss: 0.0011 - mse: 7.8016e-04 - NMSE: 0.0070 - real_MSE: 7.8016e-04 - params_MSE: nan - ls_jacobian_norm: 1.2838 - tot_time: 0h 29m 38.0s\n",
      "\n",
      "Epoch 117: val_mse did not improve from 0.00072\n",
      " - saving loss histories at /home/rkaushik/Documents/Thesis/MLROM/new_cdv/saved_ae/ae_007/checkpoints/LossHistoriesCheckpoint\n",
      "2313/2313 [==============================] - 16s 7ms/step - loss: 0.0011 - mse: 7.8167e-04 - NMSE: 0.0070 - real_MSE: 7.8167e-04 - params_MSE: nan - ls_jacobian_norm: 1.2842 - val_loss: 0.0011 - val_mse: 7.4925e-04 - val_NMSE: 0.0067 - val_real_MSE: 7.4925e-04 - val_params_MSE: nan - val_ls_jacobian_norm: -1.0000\n",
      "Epoch 118/200\n",
      "2313/2313 [==============================] - ETA: 0s - loss: 0.0011 - mse: 7.7636e-04 - NMSE: 0.0070 - real_MSE: 7.7636e-04 - params_MSE: nan - ls_jacobian_norm: 1.2878 - tot_time: 0h 29m 54.0s\n",
      "\n",
      "Epoch 118: val_mse improved from 0.00072 to 0.00071, saving model to /home/rkaushik/Documents/Thesis/MLROM/new_cdv/saved_ae/ae_007/checkpoints/checkpoint\n",
      " - saving loss histories at /home/rkaushik/Documents/Thesis/MLROM/new_cdv/saved_ae/ae_007/checkpoints/LossHistoriesCheckpoint\n",
      "2313/2313 [==============================] - 16s 7ms/step - loss: 0.0011 - mse: 7.7636e-04 - NMSE: 0.0070 - real_MSE: 7.7636e-04 - params_MSE: nan - ls_jacobian_norm: 1.2879 - val_loss: 0.0011 - val_mse: 7.0982e-04 - val_NMSE: 0.0064 - val_real_MSE: 7.0982e-04 - val_params_MSE: nan - val_ls_jacobian_norm: -1.0000\n",
      "Epoch 119/200\n",
      "2311/2313 [============================>.] - ETA: 0s - loss: 0.0011 - mse: 7.8401e-04 - NMSE: 0.0071 - real_MSE: 7.8401e-04 - params_MSE: nan - ls_jacobian_norm: 1.2837 - tot_time: 0h 30m 10.1s\n",
      "\n",
      "Epoch 119: val_mse did not improve from 0.00071\n",
      " - saving loss histories at /home/rkaushik/Documents/Thesis/MLROM/new_cdv/saved_ae/ae_007/checkpoints/LossHistoriesCheckpoint\n",
      "2313/2313 [==============================] - 16s 7ms/step - loss: 0.0011 - mse: 7.8393e-04 - NMSE: 0.0071 - real_MSE: 7.8393e-04 - params_MSE: nan - ls_jacobian_norm: 1.2838 - val_loss: 0.0011 - val_mse: 7.1540e-04 - val_NMSE: 0.0064 - val_real_MSE: 7.1540e-04 - val_params_MSE: nan - val_ls_jacobian_norm: -1.0000\n",
      "Epoch 120/200\n",
      "2309/2313 [============================>.] - ETA: 0s - loss: 0.0011 - mse: 7.8335e-04 - NMSE: 0.0071 - real_MSE: 7.8335e-04 - params_MSE: nan - ls_jacobian_norm: 1.2675 - tot_time: 0h 30m 25.9s\n",
      "\n",
      "Epoch 120: val_mse did not improve from 0.00071\n",
      " - saving loss histories at /home/rkaushik/Documents/Thesis/MLROM/new_cdv/saved_ae/ae_007/checkpoints/LossHistoriesCheckpoint\n",
      "2313/2313 [==============================] - 16s 7ms/step - loss: 0.0011 - mse: 7.8310e-04 - NMSE: 0.0070 - real_MSE: 7.8310e-04 - params_MSE: nan - ls_jacobian_norm: 1.2673 - val_loss: 0.0011 - val_mse: 7.6300e-04 - val_NMSE: 0.0069 - val_real_MSE: 7.6300e-04 - val_params_MSE: nan - val_ls_jacobian_norm: -1.0000\n",
      "Epoch 121/200\n",
      "2309/2313 [============================>.] - ETA: 0s - loss: 0.0011 - mse: 7.6725e-04 - NMSE: 0.0069 - real_MSE: 7.6725e-04 - params_MSE: nan - ls_jacobian_norm: 1.2895 - tot_time: 0h 30m 40.9s\n",
      "\n",
      "Epoch 121: val_mse did not improve from 0.00071\n",
      " - saving loss histories at /home/rkaushik/Documents/Thesis/MLROM/new_cdv/saved_ae/ae_007/checkpoints/LossHistoriesCheckpoint\n",
      "2313/2313 [==============================] - 15s 6ms/step - loss: 0.0011 - mse: 7.6736e-04 - NMSE: 0.0069 - real_MSE: 7.6736e-04 - params_MSE: nan - ls_jacobian_norm: 1.2896 - val_loss: 0.0011 - val_mse: 7.2028e-04 - val_NMSE: 0.0065 - val_real_MSE: 7.2028e-04 - val_params_MSE: nan - val_ls_jacobian_norm: -1.0000\n",
      "Epoch 122/200\n",
      "2313/2313 [==============================] - ETA: 0s - loss: 0.0011 - mse: 7.6850e-04 - NMSE: 0.0069 - real_MSE: 7.6850e-04 - params_MSE: nan - ls_jacobian_norm: 1.3165 - tot_time: 0h 30m 56.3s\n",
      "\n",
      "Epoch 122: val_mse improved from 0.00071 to 0.00069, saving model to /home/rkaushik/Documents/Thesis/MLROM/new_cdv/saved_ae/ae_007/checkpoints/checkpoint\n",
      " - saving loss histories at /home/rkaushik/Documents/Thesis/MLROM/new_cdv/saved_ae/ae_007/checkpoints/LossHistoriesCheckpoint\n",
      "2313/2313 [==============================] - 16s 7ms/step - loss: 0.0011 - mse: 7.6850e-04 - NMSE: 0.0069 - real_MSE: 7.6850e-04 - params_MSE: nan - ls_jacobian_norm: 1.3164 - val_loss: 0.0010 - val_mse: 6.9431e-04 - val_NMSE: 0.0062 - val_real_MSE: 6.9431e-04 - val_params_MSE: nan - val_ls_jacobian_norm: -1.0000\n",
      "Epoch 123/200\n",
      "2311/2313 [============================>.] - ETA: 0s - loss: 0.0011 - mse: 7.7520e-04 - NMSE: 0.0070 - real_MSE: 7.7520e-04 - params_MSE: nan - ls_jacobian_norm: 1.2882 - tot_time: 0h 31m 12.2s\n",
      "\n",
      "Epoch 123: val_mse did not improve from 0.00069\n",
      " - saving loss histories at /home/rkaushik/Documents/Thesis/MLROM/new_cdv/saved_ae/ae_007/checkpoints/LossHistoriesCheckpoint\n",
      "2313/2313 [==============================] - 16s 7ms/step - loss: 0.0011 - mse: 7.7504e-04 - NMSE: 0.0070 - real_MSE: 7.7504e-04 - params_MSE: nan - ls_jacobian_norm: 1.2881 - val_loss: 0.0011 - val_mse: 7.3155e-04 - val_NMSE: 0.0066 - val_real_MSE: 7.3155e-04 - val_params_MSE: nan - val_ls_jacobian_norm: -1.0000\n",
      "Epoch 124/200\n",
      "2308/2313 [============================>.] - ETA: 0s - loss: 0.0011 - mse: 7.6579e-04 - NMSE: 0.0069 - real_MSE: 7.6579e-04 - params_MSE: nan - ls_jacobian_norm: 1.3001 - tot_time: 0h 31m 27.7s\n",
      "\n",
      "Epoch 124: val_mse improved from 0.00069 to 0.00069, saving model to /home/rkaushik/Documents/Thesis/MLROM/new_cdv/saved_ae/ae_007/checkpoints/checkpoint\n",
      " - saving loss histories at /home/rkaushik/Documents/Thesis/MLROM/new_cdv/saved_ae/ae_007/checkpoints/LossHistoriesCheckpoint\n",
      "2313/2313 [==============================] - 16s 7ms/step - loss: 0.0011 - mse: 7.6584e-04 - NMSE: 0.0069 - real_MSE: 7.6584e-04 - params_MSE: nan - ls_jacobian_norm: 1.3002 - val_loss: 0.0010 - val_mse: 6.9108e-04 - val_NMSE: 0.0062 - val_real_MSE: 6.9108e-04 - val_params_MSE: nan - val_ls_jacobian_norm: -1.0000\n",
      "Epoch 125/200\n",
      "2308/2313 [============================>.] - ETA: 0s - loss: 0.0011 - mse: 7.7301e-04 - NMSE: 0.0070 - real_MSE: 7.7301e-04 - params_MSE: nan - ls_jacobian_norm: 1.3138 - tot_time: 0h 31m 43.2s\n",
      "\n",
      "Epoch 125: val_mse did not improve from 0.00069\n",
      " - saving loss histories at /home/rkaushik/Documents/Thesis/MLROM/new_cdv/saved_ae/ae_007/checkpoints/LossHistoriesCheckpoint\n",
      "2313/2313 [==============================] - 15s 7ms/step - loss: 0.0011 - mse: 7.7280e-04 - NMSE: 0.0070 - real_MSE: 7.7280e-04 - params_MSE: nan - ls_jacobian_norm: 1.3138 - val_loss: 0.0011 - val_mse: 6.9969e-04 - val_NMSE: 0.0063 - val_real_MSE: 6.9969e-04 - val_params_MSE: nan - val_ls_jacobian_norm: -1.0000\n"
     ]
    },
    {
     "name": "stdout",
     "output_type": "stream",
     "text": [
      "Epoch 126/200\n",
      "2308/2313 [============================>.] - ETA: 0s - loss: 0.0011 - mse: 7.5346e-04 - NMSE: 0.0068 - real_MSE: 7.5346e-04 - params_MSE: nan - ls_jacobian_norm: 1.3088 - tot_time: 0h 31m 58.4s\n",
      "\n",
      "Epoch 126: val_mse did not improve from 0.00069\n",
      " - saving loss histories at /home/rkaushik/Documents/Thesis/MLROM/new_cdv/saved_ae/ae_007/checkpoints/LossHistoriesCheckpoint\n",
      "2313/2313 [==============================] - 15s 7ms/step - loss: 0.0011 - mse: 7.5382e-04 - NMSE: 0.0068 - real_MSE: 7.5382e-04 - params_MSE: nan - ls_jacobian_norm: 1.3088 - val_loss: 0.0011 - val_mse: 7.2571e-04 - val_NMSE: 0.0065 - val_real_MSE: 7.2571e-04 - val_params_MSE: nan - val_ls_jacobian_norm: -1.0000\n",
      "Epoch 127/200\n",
      "2309/2313 [============================>.] - ETA: 0s - loss: 0.0011 - mse: 7.5895e-04 - NMSE: 0.0068 - real_MSE: 7.5895e-04 - params_MSE: nan - ls_jacobian_norm: 1.3193 - tot_time: 0h 32m 13.8s\n",
      "\n",
      "Epoch 127: val_mse did not improve from 0.00069\n",
      " - saving loss histories at /home/rkaushik/Documents/Thesis/MLROM/new_cdv/saved_ae/ae_007/checkpoints/LossHistoriesCheckpoint\n",
      "2313/2313 [==============================] - 15s 7ms/step - loss: 0.0011 - mse: 7.5900e-04 - NMSE: 0.0068 - real_MSE: 7.5900e-04 - params_MSE: nan - ls_jacobian_norm: 1.3192 - val_loss: 0.0011 - val_mse: 7.0944e-04 - val_NMSE: 0.0064 - val_real_MSE: 7.0944e-04 - val_params_MSE: nan - val_ls_jacobian_norm: -1.0000\n",
      "Epoch 128/200\n",
      "2308/2313 [============================>.] - ETA: 0s - loss: 0.0011 - mse: 7.6127e-04 - NMSE: 0.0069 - real_MSE: 7.6127e-04 - params_MSE: nan - ls_jacobian_norm: 1.3247 - tot_time: 0h 32m 29.1s\n",
      "\n",
      "Epoch 128: val_mse improved from 0.00069 to 0.00066, saving model to /home/rkaushik/Documents/Thesis/MLROM/new_cdv/saved_ae/ae_007/checkpoints/checkpoint\n",
      " - saving loss histories at /home/rkaushik/Documents/Thesis/MLROM/new_cdv/saved_ae/ae_007/checkpoints/LossHistoriesCheckpoint\n",
      "2313/2313 [==============================] - 15s 7ms/step - loss: 0.0011 - mse: 7.6103e-04 - NMSE: 0.0068 - real_MSE: 7.6103e-04 - params_MSE: nan - ls_jacobian_norm: 1.3245 - val_loss: 0.0010 - val_mse: 6.6187e-04 - val_NMSE: 0.0060 - val_real_MSE: 6.6187e-04 - val_params_MSE: nan - val_ls_jacobian_norm: -1.0000\n",
      "Epoch 129/200\n",
      "2310/2313 [============================>.] - ETA: 0s - loss: 0.0011 - mse: 7.5707e-04 - NMSE: 0.0068 - real_MSE: 7.5707e-04 - params_MSE: nan - ls_jacobian_norm: 1.3372 - tot_time: 0h 32m 44.4s\n",
      "\n",
      "Epoch 129: val_mse did not improve from 0.00066\n",
      " - saving loss histories at /home/rkaushik/Documents/Thesis/MLROM/new_cdv/saved_ae/ae_007/checkpoints/LossHistoriesCheckpoint\n",
      "2313/2313 [==============================] - 15s 7ms/step - loss: 0.0011 - mse: 7.5693e-04 - NMSE: 0.0068 - real_MSE: 7.5693e-04 - params_MSE: nan - ls_jacobian_norm: 1.3372 - val_loss: 0.0010 - val_mse: 6.9726e-04 - val_NMSE: 0.0063 - val_real_MSE: 6.9726e-04 - val_params_MSE: nan - val_ls_jacobian_norm: -1.0000\n",
      "Epoch 130/200\n",
      "2309/2313 [============================>.] - ETA: 0s - loss: 0.0011 - mse: 7.5695e-04 - NMSE: 0.0068 - real_MSE: 7.5695e-04 - params_MSE: nan - ls_jacobian_norm: 1.3312 - tot_time: 0h 32m 59.6s\n",
      "\n",
      "Epoch 130: val_mse did not improve from 0.00066\n",
      " - saving loss histories at /home/rkaushik/Documents/Thesis/MLROM/new_cdv/saved_ae/ae_007/checkpoints/LossHistoriesCheckpoint\n",
      "2313/2313 [==============================] - 15s 7ms/step - loss: 0.0011 - mse: 7.5688e-04 - NMSE: 0.0068 - real_MSE: 7.5688e-04 - params_MSE: nan - ls_jacobian_norm: 1.3311 - val_loss: 0.0011 - val_mse: 7.2181e-04 - val_NMSE: 0.0065 - val_real_MSE: 7.2181e-04 - val_params_MSE: nan - val_ls_jacobian_norm: -1.0000\n",
      "Epoch 131/200\n",
      "2309/2313 [============================>.] - ETA: 0s - loss: 0.0011 - mse: 7.4377e-04 - NMSE: 0.0067 - real_MSE: 7.4377e-04 - params_MSE: nan - ls_jacobian_norm: 1.3051 - tot_time: 0h 33m 15.0s\n",
      "\n",
      "Epoch 131: val_mse did not improve from 0.00066\n",
      " - saving loss histories at /home/rkaushik/Documents/Thesis/MLROM/new_cdv/saved_ae/ae_007/checkpoints/LossHistoriesCheckpoint\n",
      "2313/2313 [==============================] - 15s 7ms/step - loss: 0.0011 - mse: 7.4389e-04 - NMSE: 0.0067 - real_MSE: 7.4389e-04 - params_MSE: nan - ls_jacobian_norm: 1.3053 - val_loss: 0.0011 - val_mse: 7.4276e-04 - val_NMSE: 0.0067 - val_real_MSE: 7.4276e-04 - val_params_MSE: nan - val_ls_jacobian_norm: -1.0000\n",
      "Epoch 132/200\n",
      "2312/2313 [============================>.] - ETA: 0s - loss: 0.0011 - mse: 7.5616e-04 - NMSE: 0.0068 - real_MSE: 7.5616e-04 - params_MSE: nan - ls_jacobian_norm: 1.2911 - tot_time: 0h 33m 30.6s\n",
      "\n",
      "Epoch 132: val_mse did not improve from 0.00066\n",
      " - saving loss histories at /home/rkaushik/Documents/Thesis/MLROM/new_cdv/saved_ae/ae_007/checkpoints/LossHistoriesCheckpoint\n",
      "2313/2313 [==============================] - 16s 7ms/step - loss: 0.0011 - mse: 7.5613e-04 - NMSE: 0.0068 - real_MSE: 7.5613e-04 - params_MSE: nan - ls_jacobian_norm: 1.2912 - val_loss: 0.0010 - val_mse: 6.8605e-04 - val_NMSE: 0.0062 - val_real_MSE: 6.8605e-04 - val_params_MSE: nan - val_ls_jacobian_norm: -1.0000\n",
      "Epoch 133/200\n",
      "2312/2313 [============================>.] - ETA: 0s - loss: 0.0011 - mse: 7.5468e-04 - NMSE: 0.0068 - real_MSE: 7.5468e-04 - params_MSE: nan - ls_jacobian_norm: 1.2976 - tot_time: 0h 33m 46.0s\n",
      "\n",
      "Epoch 133: val_mse did not improve from 0.00066\n",
      " - saving loss histories at /home/rkaushik/Documents/Thesis/MLROM/new_cdv/saved_ae/ae_007/checkpoints/LossHistoriesCheckpoint\n",
      "2313/2313 [==============================] - 15s 7ms/step - loss: 0.0011 - mse: 7.5465e-04 - NMSE: 0.0068 - real_MSE: 7.5465e-04 - params_MSE: nan - ls_jacobian_norm: 1.2976 - val_loss: 0.0010 - val_mse: 6.8801e-04 - val_NMSE: 0.0062 - val_real_MSE: 6.8801e-04 - val_params_MSE: nan - val_ls_jacobian_norm: -1.0000\n",
      "Epoch 134/200\n",
      "2312/2313 [============================>.] - ETA: 0s - loss: 0.0011 - mse: 7.5759e-04 - NMSE: 0.0068 - real_MSE: 7.5759e-04 - params_MSE: nan - ls_jacobian_norm: 1.3428 - tot_time: 0h 34m 1.1s\n",
      "\n",
      "Epoch 134: val_mse did not improve from 0.00066\n",
      " - saving loss histories at /home/rkaushik/Documents/Thesis/MLROM/new_cdv/saved_ae/ae_007/checkpoints/LossHistoriesCheckpoint\n",
      "2313/2313 [==============================] - 15s 7ms/step - loss: 0.0011 - mse: 7.5753e-04 - NMSE: 0.0068 - real_MSE: 7.5753e-04 - params_MSE: nan - ls_jacobian_norm: 1.3426 - val_loss: 0.0011 - val_mse: 7.2875e-04 - val_NMSE: 0.0066 - val_real_MSE: 7.2875e-04 - val_params_MSE: nan - val_ls_jacobian_norm: -1.0000\n",
      "Epoch 135/200\n",
      "2308/2313 [============================>.] - ETA: 0s - loss: 0.0011 - mse: 7.5437e-04 - NMSE: 0.0068 - real_MSE: 7.5437e-04 - params_MSE: nan - ls_jacobian_norm: 1.3330 - tot_time: 0h 34m 16.4s\n",
      "\n",
      "Epoch 135: val_mse did not improve from 0.00066\n",
      " - saving loss histories at /home/rkaushik/Documents/Thesis/MLROM/new_cdv/saved_ae/ae_007/checkpoints/LossHistoriesCheckpoint\n",
      "2313/2313 [==============================] - 15s 7ms/step - loss: 0.0011 - mse: 7.5430e-04 - NMSE: 0.0068 - real_MSE: 7.5430e-04 - params_MSE: nan - ls_jacobian_norm: 1.3331 - val_loss: 0.0010 - val_mse: 6.7904e-04 - val_NMSE: 0.0061 - val_real_MSE: 6.7904e-04 - val_params_MSE: nan - val_ls_jacobian_norm: -1.0000\n",
      "Epoch 136/200\n",
      "2312/2313 [============================>.] - ETA: 0s - loss: 0.0011 - mse: 7.5449e-04 - NMSE: 0.0068 - real_MSE: 7.5449e-04 - params_MSE: nan - ls_jacobian_norm: 1.2869 - tot_time: 0h 34m 32.1s\n",
      "\n",
      "Epoch 136: val_mse did not improve from 0.00066\n",
      " - saving loss histories at /home/rkaushik/Documents/Thesis/MLROM/new_cdv/saved_ae/ae_007/checkpoints/LossHistoriesCheckpoint\n",
      "2313/2313 [==============================] - 16s 7ms/step - loss: 0.0011 - mse: 7.5448e-04 - NMSE: 0.0068 - real_MSE: 7.5448e-04 - params_MSE: nan - ls_jacobian_norm: 1.2868 - val_loss: 0.0010 - val_mse: 6.6749e-04 - val_NMSE: 0.0060 - val_real_MSE: 6.6749e-04 - val_params_MSE: nan - val_ls_jacobian_norm: -1.0000\n",
      "Epoch 137/200\n",
      "2306/2313 [============================>.] - ETA: 0s - loss: 0.0011 - mse: 7.4573e-04 - NMSE: 0.0067 - real_MSE: 7.4573e-04 - params_MSE: nan - ls_jacobian_norm: 1.3006 - tot_time: 0h 34m 47.6s\n",
      "\n",
      "Epoch 137: val_mse did not improve from 0.00066\n",
      " - saving loss histories at /home/rkaushik/Documents/Thesis/MLROM/new_cdv/saved_ae/ae_007/checkpoints/LossHistoriesCheckpoint\n",
      "2313/2313 [==============================] - 16s 7ms/step - loss: 0.0011 - mse: 7.4594e-04 - NMSE: 0.0067 - real_MSE: 7.4594e-04 - params_MSE: nan - ls_jacobian_norm: 1.3009 - val_loss: 0.0010 - val_mse: 6.9351e-04 - val_NMSE: 0.0062 - val_real_MSE: 6.9351e-04 - val_params_MSE: nan - val_ls_jacobian_norm: -1.0000\n"
     ]
    },
    {
     "name": "stdout",
     "output_type": "stream",
     "text": [
      "Epoch 138/200\n",
      "2312/2313 [============================>.] - ETA: 0s - loss: 0.0011 - mse: 7.4724e-04 - NMSE: 0.0067 - real_MSE: 7.4724e-04 - params_MSE: nan - ls_jacobian_norm: 1.3195Restoring model weights from the end of the best epoch: 128.\n",
      " - tot_time: 0h 35m 3.1s\n",
      "\n",
      "Epoch 138: val_mse did not improve from 0.00066\n",
      " - saving loss histories at /home/rkaushik/Documents/Thesis/MLROM/new_cdv/saved_ae/ae_007/checkpoints/LossHistoriesCheckpoint\n",
      "2313/2313 [==============================] - 15s 7ms/step - loss: 0.0011 - mse: 7.4719e-04 - NMSE: 0.0067 - real_MSE: 7.4719e-04 - params_MSE: nan - ls_jacobian_norm: 1.3193 - val_loss: 0.0011 - val_mse: 7.8640e-04 - val_NMSE: 0.0071 - val_real_MSE: 7.8640e-04 - val_params_MSE: nan - val_ls_jacobian_norm: -1.0000\n",
      "Epoch 138: early stopping\n",
      "\n",
      "\n",
      "--------------------------------------------------------------------------------\n",
      "\n",
      "---------------------------- LEARNING RATE : 0.0001 ----------------------------\n",
      "\n",
      "--------------------------------------------------------------------------------\n",
      "\n",
      "\n",
      "Epoch 1/200\n",
      "2306/2313 [============================>.] - ETA: 0s - loss: 0.0010 - mse: 6.7826e-04 - NMSE: 0.0061 - real_MSE: 6.7826e-04 - params_MSE: nan - ls_jacobian_norm: 1.3190 - tot_time: 0h 35m 18.7s\n",
      "\n",
      "Epoch 1: val_mse improved from 0.00066 to 0.00063, saving model to /home/rkaushik/Documents/Thesis/MLROM/new_cdv/saved_ae/ae_007/checkpoints/checkpoint\n",
      " - saving loss histories at /home/rkaushik/Documents/Thesis/MLROM/new_cdv/saved_ae/ae_007/checkpoints/LossHistoriesCheckpoint\n",
      "2313/2313 [==============================] - 16s 7ms/step - loss: 0.0010 - mse: 6.7824e-04 - NMSE: 0.0061 - real_MSE: 6.7824e-04 - params_MSE: nan - ls_jacobian_norm: 1.3190 - val_loss: 9.8023e-04 - val_mse: 6.2764e-04 - val_NMSE: 0.0056 - val_real_MSE: 6.2764e-04 - val_params_MSE: nan - val_ls_jacobian_norm: -1.0000\n",
      "Epoch 2/200\n",
      "2304/2313 [============================>.] - ETA: 0s - loss: 0.0010 - mse: 6.7769e-04 - NMSE: 0.0061 - real_MSE: 6.7769e-04 - params_MSE: nan - ls_jacobian_norm: 1.3209 - tot_time: 0h 35m 34.5s\n",
      "\n",
      "Epoch 2: val_mse did not improve from 0.00063\n",
      " - saving loss histories at /home/rkaushik/Documents/Thesis/MLROM/new_cdv/saved_ae/ae_007/checkpoints/LossHistoriesCheckpoint\n",
      "2313/2313 [==============================] - 16s 7ms/step - loss: 0.0010 - mse: 6.7746e-04 - NMSE: 0.0061 - real_MSE: 6.7746e-04 - params_MSE: nan - ls_jacobian_norm: 1.3209 - val_loss: 9.8327e-04 - val_mse: 6.3043e-04 - val_NMSE: 0.0057 - val_real_MSE: 6.3043e-04 - val_params_MSE: nan - val_ls_jacobian_norm: -1.0000\n",
      "Epoch 3/200\n",
      "2305/2313 [============================>.] - ETA: 0s - loss: 0.0010 - mse: 6.7712e-04 - NMSE: 0.0061 - real_MSE: 6.7712e-04 - params_MSE: nan - ls_jacobian_norm: 1.3087 - tot_time: 0h 35m 50.1s\n",
      "\n",
      "Epoch 3: val_mse did not improve from 0.00063\n",
      " - saving loss histories at /home/rkaushik/Documents/Thesis/MLROM/new_cdv/saved_ae/ae_007/checkpoints/LossHistoriesCheckpoint\n",
      "2313/2313 [==============================] - 16s 7ms/step - loss: 0.0010 - mse: 6.7733e-04 - NMSE: 0.0061 - real_MSE: 6.7733e-04 - params_MSE: nan - ls_jacobian_norm: 1.3088 - val_loss: 9.8253e-04 - val_mse: 6.2945e-04 - val_NMSE: 0.0057 - val_real_MSE: 6.2945e-04 - val_params_MSE: nan - val_ls_jacobian_norm: -1.0000\n",
      "Epoch 4/200\n",
      "2313/2313 [==============================] - ETA: 0s - loss: 0.0010 - mse: 6.7558e-04 - NMSE: 0.0061 - real_MSE: 6.7558e-04 - params_MSE: nan - ls_jacobian_norm: 1.3110 - tot_time: 0h 36m 6.0s\n",
      "\n",
      "Epoch 4: val_mse improved from 0.00063 to 0.00063, saving model to /home/rkaushik/Documents/Thesis/MLROM/new_cdv/saved_ae/ae_007/checkpoints/checkpoint\n",
      " - saving loss histories at /home/rkaushik/Documents/Thesis/MLROM/new_cdv/saved_ae/ae_007/checkpoints/LossHistoriesCheckpoint\n",
      "2313/2313 [==============================] - 16s 7ms/step - loss: 0.0010 - mse: 6.7558e-04 - NMSE: 0.0061 - real_MSE: 6.7558e-04 - params_MSE: nan - ls_jacobian_norm: 1.3109 - val_loss: 9.7991e-04 - val_mse: 6.2665e-04 - val_NMSE: 0.0056 - val_real_MSE: 6.2665e-04 - val_params_MSE: nan - val_ls_jacobian_norm: -1.0000\n",
      "Epoch 5/200\n",
      "2308/2313 [============================>.] - ETA: 0s - loss: 0.0010 - mse: 6.7639e-04 - NMSE: 0.0061 - real_MSE: 6.7639e-04 - params_MSE: nan - ls_jacobian_norm: 1.2947 - tot_time: 0h 36m 22.2s\n",
      "\n",
      "Epoch 5: val_mse improved from 0.00063 to 0.00062, saving model to /home/rkaushik/Documents/Thesis/MLROM/new_cdv/saved_ae/ae_007/checkpoints/checkpoint\n",
      " - saving loss histories at /home/rkaushik/Documents/Thesis/MLROM/new_cdv/saved_ae/ae_007/checkpoints/LossHistoriesCheckpoint\n",
      "2313/2313 [==============================] - 16s 7ms/step - loss: 0.0010 - mse: 6.7633e-04 - NMSE: 0.0061 - real_MSE: 6.7633e-04 - params_MSE: nan - ls_jacobian_norm: 1.2948 - val_loss: 9.7407e-04 - val_mse: 6.2073e-04 - val_NMSE: 0.0056 - val_real_MSE: 6.2073e-04 - val_params_MSE: nan - val_ls_jacobian_norm: -1.0000\n",
      "Epoch 6/200\n",
      "2305/2313 [============================>.] - ETA: 0s - loss: 0.0010 - mse: 6.7438e-04 - NMSE: 0.0061 - real_MSE: 6.7438e-04 - params_MSE: nan - ls_jacobian_norm: 1.2962 - tot_time: 0h 36m 37.9s\n",
      "\n",
      "Epoch 6: val_mse improved from 0.00062 to 0.00062, saving model to /home/rkaushik/Documents/Thesis/MLROM/new_cdv/saved_ae/ae_007/checkpoints/checkpoint\n",
      " - saving loss histories at /home/rkaushik/Documents/Thesis/MLROM/new_cdv/saved_ae/ae_007/checkpoints/LossHistoriesCheckpoint\n",
      "2313/2313 [==============================] - 16s 7ms/step - loss: 0.0010 - mse: 6.7442e-04 - NMSE: 0.0061 - real_MSE: 6.7442e-04 - params_MSE: nan - ls_jacobian_norm: 1.2964 - val_loss: 9.7173e-04 - val_mse: 6.1832e-04 - val_NMSE: 0.0056 - val_real_MSE: 6.1832e-04 - val_params_MSE: nan - val_ls_jacobian_norm: -1.0000\n",
      "Epoch 7/200\n",
      "2313/2313 [==============================] - ETA: 0s - loss: 0.0010 - mse: 6.7260e-04 - NMSE: 0.0061 - real_MSE: 6.7260e-04 - params_MSE: nan - ls_jacobian_norm: 1.2907 - tot_time: 0h 36m 53.4s\n",
      "\n",
      "Epoch 7: val_mse did not improve from 0.00062\n",
      " - saving loss histories at /home/rkaushik/Documents/Thesis/MLROM/new_cdv/saved_ae/ae_007/checkpoints/LossHistoriesCheckpoint\n",
      "2313/2313 [==============================] - 16s 7ms/step - loss: 0.0010 - mse: 6.7260e-04 - NMSE: 0.0061 - real_MSE: 6.7260e-04 - params_MSE: nan - ls_jacobian_norm: 1.2908 - val_loss: 9.7374e-04 - val_mse: 6.2026e-04 - val_NMSE: 0.0056 - val_real_MSE: 6.2026e-04 - val_params_MSE: nan - val_ls_jacobian_norm: -1.0000\n",
      "Epoch 8/200\n",
      "2307/2313 [============================>.] - ETA: 0s - loss: 0.0010 - mse: 6.7400e-04 - NMSE: 0.0061 - real_MSE: 6.7400e-04 - params_MSE: nan - ls_jacobian_norm: 1.3105 - tot_time: 0h 37m 9.2s\n",
      "\n",
      "Epoch 8: val_mse did not improve from 0.00062\n",
      " - saving loss histories at /home/rkaushik/Documents/Thesis/MLROM/new_cdv/saved_ae/ae_007/checkpoints/LossHistoriesCheckpoint\n",
      "2313/2313 [==============================] - 16s 7ms/step - loss: 0.0010 - mse: 6.7416e-04 - NMSE: 0.0061 - real_MSE: 6.7416e-04 - params_MSE: nan - ls_jacobian_norm: 1.3104 - val_loss: 9.8191e-04 - val_mse: 6.2821e-04 - val_NMSE: 0.0057 - val_real_MSE: 6.2821e-04 - val_params_MSE: nan - val_ls_jacobian_norm: -1.0000\n",
      "Epoch 9/200\n",
      "2309/2313 [============================>.] - ETA: 0s - loss: 0.0010 - mse: 6.7069e-04 - NMSE: 0.0060 - real_MSE: 6.7069e-04 - params_MSE: nan - ls_jacobian_norm: 1.3081 - tot_time: 0h 37m 24.7s\n",
      "\n",
      "Epoch 9: val_mse did not improve from 0.00062\n",
      " - saving loss histories at /home/rkaushik/Documents/Thesis/MLROM/new_cdv/saved_ae/ae_007/checkpoints/LossHistoriesCheckpoint\n",
      "2313/2313 [==============================] - 15s 7ms/step - loss: 0.0010 - mse: 6.7090e-04 - NMSE: 0.0060 - real_MSE: 6.7090e-04 - params_MSE: nan - ls_jacobian_norm: 1.3080 - val_loss: 9.8167e-04 - val_mse: 6.2774e-04 - val_NMSE: 0.0056 - val_real_MSE: 6.2774e-04 - val_params_MSE: nan - val_ls_jacobian_norm: -1.0000\n",
      "Epoch 10/200\n",
      "2312/2313 [============================>.] - ETA: 0s - loss: 0.0010 - mse: 6.7025e-04 - NMSE: 0.0060 - real_MSE: 6.7025e-04 - params_MSE: nan - ls_jacobian_norm: 1.3010 - tot_time: 0h 37m 40.4s\n",
      "\n",
      "Epoch 10: val_mse improved from 0.00062 to 0.00062, saving model to /home/rkaushik/Documents/Thesis/MLROM/new_cdv/saved_ae/ae_007/checkpoints/checkpoint\n",
      " - saving loss histories at /home/rkaushik/Documents/Thesis/MLROM/new_cdv/saved_ae/ae_007/checkpoints/LossHistoriesCheckpoint\n",
      "2313/2313 [==============================] - 16s 7ms/step - loss: 0.0010 - mse: 6.7020e-04 - NMSE: 0.0060 - real_MSE: 6.7020e-04 - params_MSE: nan - ls_jacobian_norm: 1.3009 - val_loss: 9.6939e-04 - val_mse: 6.1555e-04 - val_NMSE: 0.0055 - val_real_MSE: 6.1555e-04 - val_params_MSE: nan - val_ls_jacobian_norm: -1.0000\n"
     ]
    },
    {
     "name": "stdout",
     "output_type": "stream",
     "text": [
      "Epoch 11/200\n",
      "2313/2313 [==============================] - ETA: 0s - loss: 0.0010 - mse: 6.7191e-04 - NMSE: 0.0060 - real_MSE: 6.7191e-04 - params_MSE: nan - ls_jacobian_norm: 1.2949 - tot_time: 0h 37m 56.4s\n",
      "\n",
      "Epoch 11: val_mse did not improve from 0.00062\n",
      " - saving loss histories at /home/rkaushik/Documents/Thesis/MLROM/new_cdv/saved_ae/ae_007/checkpoints/LossHistoriesCheckpoint\n",
      "2313/2313 [==============================] - 16s 7ms/step - loss: 0.0010 - mse: 6.7191e-04 - NMSE: 0.0060 - real_MSE: 6.7191e-04 - params_MSE: nan - ls_jacobian_norm: 1.2949 - val_loss: 9.7194e-04 - val_mse: 6.1806e-04 - val_NMSE: 0.0056 - val_real_MSE: 6.1806e-04 - val_params_MSE: nan - val_ls_jacobian_norm: -1.0000\n",
      "Epoch 12/200\n",
      "2313/2313 [==============================] - ETA: 0s - loss: 0.0010 - mse: 6.6946e-04 - NMSE: 0.0060 - real_MSE: 6.6946e-04 - params_MSE: nan - ls_jacobian_norm: 1.3113 - tot_time: 0h 38m 12.5s\n",
      "\n",
      "Epoch 12: val_mse did not improve from 0.00062\n",
      " - saving loss histories at /home/rkaushik/Documents/Thesis/MLROM/new_cdv/saved_ae/ae_007/checkpoints/LossHistoriesCheckpoint\n",
      "2313/2313 [==============================] - 16s 7ms/step - loss: 0.0010 - mse: 6.6946e-04 - NMSE: 0.0060 - real_MSE: 6.6946e-04 - params_MSE: nan - ls_jacobian_norm: 1.3115 - val_loss: 9.7779e-04 - val_mse: 6.2370e-04 - val_NMSE: 0.0056 - val_real_MSE: 6.2370e-04 - val_params_MSE: nan - val_ls_jacobian_norm: -1.0000\n",
      "Epoch 13/200\n",
      "2312/2313 [============================>.] - ETA: 0s - loss: 0.0010 - mse: 6.6645e-04 - NMSE: 0.0060 - real_MSE: 6.6645e-04 - params_MSE: nan - ls_jacobian_norm: 1.3094 - tot_time: 0h 38m 28.9s\n",
      "\n",
      "Epoch 13: val_mse improved from 0.00062 to 0.00061, saving model to /home/rkaushik/Documents/Thesis/MLROM/new_cdv/saved_ae/ae_007/checkpoints/checkpoint\n",
      " - saving loss histories at /home/rkaushik/Documents/Thesis/MLROM/new_cdv/saved_ae/ae_007/checkpoints/LossHistoriesCheckpoint\n",
      "2313/2313 [==============================] - 16s 7ms/step - loss: 0.0010 - mse: 6.6643e-04 - NMSE: 0.0060 - real_MSE: 6.6643e-04 - params_MSE: nan - ls_jacobian_norm: 1.3093 - val_loss: 9.6868e-04 - val_mse: 6.1454e-04 - val_NMSE: 0.0055 - val_real_MSE: 6.1454e-04 - val_params_MSE: nan - val_ls_jacobian_norm: -1.0000\n",
      "Epoch 14/200\n",
      "2313/2313 [==============================] - ETA: 0s - loss: 0.0010 - mse: 6.7242e-04 - NMSE: 0.0061 - real_MSE: 6.7242e-04 - params_MSE: nan - ls_jacobian_norm: 1.3121 - tot_time: 0h 38m 45.5s\n",
      "\n",
      "Epoch 14: val_mse did not improve from 0.00061\n",
      " - saving loss histories at /home/rkaushik/Documents/Thesis/MLROM/new_cdv/saved_ae/ae_007/checkpoints/LossHistoriesCheckpoint\n",
      "2313/2313 [==============================] - 16s 7ms/step - loss: 0.0010 - mse: 6.7242e-04 - NMSE: 0.0061 - real_MSE: 6.7242e-04 - params_MSE: nan - ls_jacobian_norm: 1.3122 - val_loss: 9.8790e-04 - val_mse: 6.3377e-04 - val_NMSE: 0.0057 - val_real_MSE: 6.3377e-04 - val_params_MSE: nan - val_ls_jacobian_norm: -1.0000\n",
      "Epoch 15/200\n",
      "2307/2313 [============================>.] - ETA: 0s - loss: 0.0010 - mse: 6.6901e-04 - NMSE: 0.0060 - real_MSE: 6.6901e-04 - params_MSE: nan - ls_jacobian_norm: 1.3045 - tot_time: 0h 39m 1.4s\n",
      "\n",
      "Epoch 15: val_mse did not improve from 0.00061\n",
      " - saving loss histories at /home/rkaushik/Documents/Thesis/MLROM/new_cdv/saved_ae/ae_007/checkpoints/LossHistoriesCheckpoint\n",
      "2313/2313 [==============================] - 16s 7ms/step - loss: 0.0010 - mse: 6.6917e-04 - NMSE: 0.0060 - real_MSE: 6.6917e-04 - params_MSE: nan - ls_jacobian_norm: 1.3046 - val_loss: 9.6989e-04 - val_mse: 6.1581e-04 - val_NMSE: 0.0055 - val_real_MSE: 6.1581e-04 - val_params_MSE: nan - val_ls_jacobian_norm: -1.0000\n",
      "Epoch 16/200\n",
      "2312/2313 [============================>.] - ETA: 0s - loss: 0.0010 - mse: 6.6691e-04 - NMSE: 0.0060 - real_MSE: 6.6691e-04 - params_MSE: nan - ls_jacobian_norm: 1.3036 - tot_time: 0h 39m 17.5s\n",
      "\n",
      "Epoch 16: val_mse did not improve from 0.00061\n",
      " - saving loss histories at /home/rkaushik/Documents/Thesis/MLROM/new_cdv/saved_ae/ae_007/checkpoints/LossHistoriesCheckpoint\n",
      "2313/2313 [==============================] - 16s 7ms/step - loss: 0.0010 - mse: 6.6688e-04 - NMSE: 0.0060 - real_MSE: 6.6688e-04 - params_MSE: nan - ls_jacobian_norm: 1.3036 - val_loss: 9.7280e-04 - val_mse: 6.1860e-04 - val_NMSE: 0.0056 - val_real_MSE: 6.1860e-04 - val_params_MSE: nan - val_ls_jacobian_norm: -1.0000\n",
      "Epoch 17/200\n",
      "2312/2313 [============================>.] - ETA: 0s - loss: 0.0010 - mse: 6.6972e-04 - NMSE: 0.0060 - real_MSE: 6.6972e-04 - params_MSE: nan - ls_jacobian_norm: 1.3078 - tot_time: 0h 39m 33.9s\n",
      "\n",
      "Epoch 17: val_mse did not improve from 0.00061\n",
      " - saving loss histories at /home/rkaushik/Documents/Thesis/MLROM/new_cdv/saved_ae/ae_007/checkpoints/LossHistoriesCheckpoint\n",
      "2313/2313 [==============================] - 16s 7ms/step - loss: 0.0010 - mse: 6.6967e-04 - NMSE: 0.0060 - real_MSE: 6.6967e-04 - params_MSE: nan - ls_jacobian_norm: 1.3078 - val_loss: 9.7173e-04 - val_mse: 6.1753e-04 - val_NMSE: 0.0056 - val_real_MSE: 6.1753e-04 - val_params_MSE: nan - val_ls_jacobian_norm: -1.0000\n",
      "Epoch 18/200\n",
      "2304/2313 [============================>.] - ETA: 0s - loss: 0.0010 - mse: 6.6709e-04 - NMSE: 0.0060 - real_MSE: 6.6709e-04 - params_MSE: nan - ls_jacobian_norm: 1.3071 - tot_time: 0h 39m 49.9s\n",
      "\n",
      "Epoch 18: val_mse improved from 0.00061 to 0.00061, saving model to /home/rkaushik/Documents/Thesis/MLROM/new_cdv/saved_ae/ae_007/checkpoints/checkpoint\n",
      " - saving loss histories at /home/rkaushik/Documents/Thesis/MLROM/new_cdv/saved_ae/ae_007/checkpoints/LossHistoriesCheckpoint\n",
      "2313/2313 [==============================] - 16s 7ms/step - loss: 0.0010 - mse: 6.6652e-04 - NMSE: 0.0060 - real_MSE: 6.6652e-04 - params_MSE: nan - ls_jacobian_norm: 1.3069 - val_loss: 9.6843e-04 - val_mse: 6.1422e-04 - val_NMSE: 0.0055 - val_real_MSE: 6.1422e-04 - val_params_MSE: nan - val_ls_jacobian_norm: -1.0000\n",
      "Epoch 19/200\n",
      "2305/2313 [============================>.] - ETA: 0s - loss: 0.0010 - mse: 6.6733e-04 - NMSE: 0.0060 - real_MSE: 6.6733e-04 - params_MSE: nan - ls_jacobian_norm: 1.3124 - tot_time: 0h 40m 6.1s\n",
      "\n",
      "Epoch 19: val_mse improved from 0.00061 to 0.00061, saving model to /home/rkaushik/Documents/Thesis/MLROM/new_cdv/saved_ae/ae_007/checkpoints/checkpoint\n",
      " - saving loss histories at /home/rkaushik/Documents/Thesis/MLROM/new_cdv/saved_ae/ae_007/checkpoints/LossHistoriesCheckpoint\n",
      "2313/2313 [==============================] - 16s 7ms/step - loss: 0.0010 - mse: 6.6782e-04 - NMSE: 0.0060 - real_MSE: 6.6782e-04 - params_MSE: nan - ls_jacobian_norm: 1.3123 - val_loss: 9.6641e-04 - val_mse: 6.1220e-04 - val_NMSE: 0.0055 - val_real_MSE: 6.1220e-04 - val_params_MSE: nan - val_ls_jacobian_norm: -1.0000\n",
      "Epoch 20/200\n",
      "2307/2313 [============================>.] - ETA: 0s - loss: 0.0010 - mse: 6.6238e-04 - NMSE: 0.0060 - real_MSE: 6.6238e-04 - params_MSE: nan - ls_jacobian_norm: 1.3131 - tot_time: 0h 40m 22.3s\n",
      "\n",
      "Epoch 20: val_mse did not improve from 0.00061\n",
      " - saving loss histories at /home/rkaushik/Documents/Thesis/MLROM/new_cdv/saved_ae/ae_007/checkpoints/LossHistoriesCheckpoint\n",
      "2313/2313 [==============================] - 16s 7ms/step - loss: 0.0010 - mse: 6.6260e-04 - NMSE: 0.0060 - real_MSE: 6.6260e-04 - params_MSE: nan - ls_jacobian_norm: 1.3131 - val_loss: 9.7303e-04 - val_mse: 6.1870e-04 - val_NMSE: 0.0056 - val_real_MSE: 6.1870e-04 - val_params_MSE: nan - val_ls_jacobian_norm: -1.0000\n",
      "Epoch 21/200\n",
      "2313/2313 [==============================] - ETA: 0s - loss: 0.0010 - mse: 6.6467e-04 - NMSE: 0.0060 - real_MSE: 6.6467e-04 - params_MSE: nan - ls_jacobian_norm: 1.3110 - tot_time: 0h 40m 38.3s\n",
      "\n",
      "Epoch 21: val_mse did not improve from 0.00061\n",
      " - saving loss histories at /home/rkaushik/Documents/Thesis/MLROM/new_cdv/saved_ae/ae_007/checkpoints/LossHistoriesCheckpoint\n",
      "2313/2313 [==============================] - 16s 7ms/step - loss: 0.0010 - mse: 6.6467e-04 - NMSE: 0.0060 - real_MSE: 6.6467e-04 - params_MSE: nan - ls_jacobian_norm: 1.3110 - val_loss: 9.7194e-04 - val_mse: 6.1757e-04 - val_NMSE: 0.0056 - val_real_MSE: 6.1757e-04 - val_params_MSE: nan - val_ls_jacobian_norm: -1.0000\n",
      "Epoch 22/200\n"
     ]
    },
    {
     "name": "stdout",
     "output_type": "stream",
     "text": [
      "2306/2313 [============================>.] - ETA: 0s - loss: 0.0010 - mse: 6.6634e-04 - NMSE: 0.0060 - real_MSE: 6.6634e-04 - params_MSE: nan - ls_jacobian_norm: 1.3148 - tot_time: 0h 40m 54.3s\n",
      "\n",
      "Epoch 22: val_mse did not improve from 0.00061\n",
      " - saving loss histories at /home/rkaushik/Documents/Thesis/MLROM/new_cdv/saved_ae/ae_007/checkpoints/LossHistoriesCheckpoint\n",
      "2313/2313 [==============================] - 16s 7ms/step - loss: 0.0010 - mse: 6.6640e-04 - NMSE: 0.0060 - real_MSE: 6.6640e-04 - params_MSE: nan - ls_jacobian_norm: 1.3150 - val_loss: 9.7731e-04 - val_mse: 6.2287e-04 - val_NMSE: 0.0056 - val_real_MSE: 6.2287e-04 - val_params_MSE: nan - val_ls_jacobian_norm: -1.0000\n",
      "Epoch 23/200\n",
      "2308/2313 [============================>.] - ETA: 0s - loss: 0.0010 - mse: 6.6478e-04 - NMSE: 0.0060 - real_MSE: 6.6478e-04 - params_MSE: nan - ls_jacobian_norm: 1.3023 - tot_time: 0h 41m 10.6s\n",
      "\n",
      "Epoch 23: val_mse did not improve from 0.00061\n",
      " - saving loss histories at /home/rkaushik/Documents/Thesis/MLROM/new_cdv/saved_ae/ae_007/checkpoints/LossHistoriesCheckpoint\n",
      "2313/2313 [==============================] - 16s 7ms/step - loss: 0.0010 - mse: 6.6482e-04 - NMSE: 0.0060 - real_MSE: 6.6482e-04 - params_MSE: nan - ls_jacobian_norm: 1.3022 - val_loss: 9.6733e-04 - val_mse: 6.1307e-04 - val_NMSE: 0.0055 - val_real_MSE: 6.1307e-04 - val_params_MSE: nan - val_ls_jacobian_norm: -1.0000\n",
      "Epoch 24/200\n",
      "2312/2313 [============================>.] - ETA: 0s - loss: 0.0010 - mse: 6.6207e-04 - NMSE: 0.0060 - real_MSE: 6.6207e-04 - params_MSE: nan - ls_jacobian_norm: 1.3021 - tot_time: 0h 41m 26.9s\n",
      "\n",
      "Epoch 24: val_mse improved from 0.00061 to 0.00061, saving model to /home/rkaushik/Documents/Thesis/MLROM/new_cdv/saved_ae/ae_007/checkpoints/checkpoint\n",
      " - saving loss histories at /home/rkaushik/Documents/Thesis/MLROM/new_cdv/saved_ae/ae_007/checkpoints/LossHistoriesCheckpoint\n",
      "2313/2313 [==============================] - 16s 7ms/step - loss: 0.0010 - mse: 6.6203e-04 - NMSE: 0.0060 - real_MSE: 6.6203e-04 - params_MSE: nan - ls_jacobian_norm: 1.3019 - val_loss: 9.6492e-04 - val_mse: 6.1068e-04 - val_NMSE: 0.0055 - val_real_MSE: 6.1068e-04 - val_params_MSE: nan - val_ls_jacobian_norm: -1.0000\n",
      "Epoch 25/200\n",
      "2307/2313 [============================>.] - ETA: 0s - loss: 0.0010 - mse: 6.6412e-04 - NMSE: 0.0060 - real_MSE: 6.6412e-04 - params_MSE: nan - ls_jacobian_norm: 1.3009 - tot_time: 0h 41m 43.5s\n",
      "\n",
      "Epoch 25: val_mse did not improve from 0.00061\n",
      " - saving loss histories at /home/rkaushik/Documents/Thesis/MLROM/new_cdv/saved_ae/ae_007/checkpoints/LossHistoriesCheckpoint\n",
      "2313/2313 [==============================] - 17s 7ms/step - loss: 0.0010 - mse: 6.6402e-04 - NMSE: 0.0060 - real_MSE: 6.6402e-04 - params_MSE: nan - ls_jacobian_norm: 1.3009 - val_loss: 9.6634e-04 - val_mse: 6.1208e-04 - val_NMSE: 0.0055 - val_real_MSE: 6.1208e-04 - val_params_MSE: nan - val_ls_jacobian_norm: -1.0000\n",
      "Epoch 26/200\n",
      "2308/2313 [============================>.] - ETA: 0s - loss: 0.0010 - mse: 6.6297e-04 - NMSE: 0.0060 - real_MSE: 6.6297e-04 - params_MSE: nan - ls_jacobian_norm: 1.2957 - tot_time: 0h 42m 0.0s\n",
      "\n",
      "Epoch 26: val_mse did not improve from 0.00061\n",
      " - saving loss histories at /home/rkaushik/Documents/Thesis/MLROM/new_cdv/saved_ae/ae_007/checkpoints/LossHistoriesCheckpoint\n",
      "2313/2313 [==============================] - 17s 7ms/step - loss: 0.0010 - mse: 6.6320e-04 - NMSE: 0.0060 - real_MSE: 6.6320e-04 - params_MSE: nan - ls_jacobian_norm: 1.2958 - val_loss: 9.7171e-04 - val_mse: 6.1756e-04 - val_NMSE: 0.0056 - val_real_MSE: 6.1756e-04 - val_params_MSE: nan - val_ls_jacobian_norm: -1.0000\n",
      "Epoch 27/200\n",
      "2312/2313 [============================>.] - ETA: 0s - loss: 0.0010 - mse: 6.6280e-04 - NMSE: 0.0060 - real_MSE: 6.6280e-04 - params_MSE: nan - ls_jacobian_norm: 1.3004 - tot_time: 0h 42m 16.6s\n",
      "\n",
      "Epoch 27: val_mse did not improve from 0.00061\n",
      " - saving loss histories at /home/rkaushik/Documents/Thesis/MLROM/new_cdv/saved_ae/ae_007/checkpoints/LossHistoriesCheckpoint\n",
      "2313/2313 [==============================] - 17s 7ms/step - loss: 0.0010 - mse: 6.6286e-04 - NMSE: 0.0060 - real_MSE: 6.6286e-04 - params_MSE: nan - ls_jacobian_norm: 1.3002 - val_loss: 9.6647e-04 - val_mse: 6.1233e-04 - val_NMSE: 0.0055 - val_real_MSE: 6.1233e-04 - val_params_MSE: nan - val_ls_jacobian_norm: -1.0000\n",
      "Epoch 28/200\n",
      "2311/2313 [============================>.] - ETA: 0s - loss: 0.0010 - mse: 6.6119e-04 - NMSE: 0.0060 - real_MSE: 6.6119e-04 - params_MSE: nan - ls_jacobian_norm: 1.3018 - tot_time: 0h 42m 33.1s\n",
      "\n",
      "Epoch 28: val_mse improved from 0.00061 to 0.00061, saving model to /home/rkaushik/Documents/Thesis/MLROM/new_cdv/saved_ae/ae_007/checkpoints/checkpoint\n",
      " - saving loss histories at /home/rkaushik/Documents/Thesis/MLROM/new_cdv/saved_ae/ae_007/checkpoints/LossHistoriesCheckpoint\n",
      "2313/2313 [==============================] - 16s 7ms/step - loss: 0.0010 - mse: 6.6144e-04 - NMSE: 0.0060 - real_MSE: 6.6144e-04 - params_MSE: nan - ls_jacobian_norm: 1.3019 - val_loss: 9.6280e-04 - val_mse: 6.0866e-04 - val_NMSE: 0.0055 - val_real_MSE: 6.0866e-04 - val_params_MSE: nan - val_ls_jacobian_norm: -1.0000\n",
      "Epoch 29/200\n",
      "2303/2313 [============================>.] - ETA: 0s - loss: 0.0010 - mse: 6.6112e-04 - NMSE: 0.0060 - real_MSE: 6.6112e-04 - params_MSE: nan - ls_jacobian_norm: 1.3037 - tot_time: 0h 42m 49.2s\n",
      "\n",
      "Epoch 29: val_mse did not improve from 0.00061\n",
      " - saving loss histories at /home/rkaushik/Documents/Thesis/MLROM/new_cdv/saved_ae/ae_007/checkpoints/LossHistoriesCheckpoint\n",
      "2313/2313 [==============================] - 16s 7ms/step - loss: 0.0010 - mse: 6.6239e-04 - NMSE: 0.0060 - real_MSE: 6.6239e-04 - params_MSE: nan - ls_jacobian_norm: 1.3041 - val_loss: 9.6919e-04 - val_mse: 6.1504e-04 - val_NMSE: 0.0055 - val_real_MSE: 6.1504e-04 - val_params_MSE: nan - val_ls_jacobian_norm: -1.0000\n",
      "Epoch 30/200\n",
      "2308/2313 [============================>.] - ETA: 0s - loss: 0.0010 - mse: 6.6300e-04 - NMSE: 0.0060 - real_MSE: 6.6300e-04 - params_MSE: nan - ls_jacobian_norm: 1.3071 - tot_time: 0h 43m 5.9s\n",
      "\n",
      "Epoch 30: val_mse did not improve from 0.00061\n",
      " - saving loss histories at /home/rkaushik/Documents/Thesis/MLROM/new_cdv/saved_ae/ae_007/checkpoints/LossHistoriesCheckpoint\n",
      "2313/2313 [==============================] - 17s 7ms/step - loss: 0.0010 - mse: 6.6291e-04 - NMSE: 0.0060 - real_MSE: 6.6291e-04 - params_MSE: nan - ls_jacobian_norm: 1.3073 - val_loss: 9.6880e-04 - val_mse: 6.1463e-04 - val_NMSE: 0.0055 - val_real_MSE: 6.1463e-04 - val_params_MSE: nan - val_ls_jacobian_norm: -1.0000\n",
      "Epoch 31/200\n",
      "2306/2313 [============================>.] - ETA: 0s - loss: 0.0010 - mse: 6.6177e-04 - NMSE: 0.0060 - real_MSE: 6.6177e-04 - params_MSE: nan - ls_jacobian_norm: 1.3046 - tot_time: 0h 43m 22.3s\n",
      "\n",
      "Epoch 31: val_mse did not improve from 0.00061\n",
      " - saving loss histories at /home/rkaushik/Documents/Thesis/MLROM/new_cdv/saved_ae/ae_007/checkpoints/LossHistoriesCheckpoint\n",
      "2313/2313 [==============================] - 16s 7ms/step - loss: 0.0010 - mse: 6.6194e-04 - NMSE: 0.0060 - real_MSE: 6.6194e-04 - params_MSE: nan - ls_jacobian_norm: 1.3044 - val_loss: 9.6351e-04 - val_mse: 6.0937e-04 - val_NMSE: 0.0055 - val_real_MSE: 6.0937e-04 - val_params_MSE: nan - val_ls_jacobian_norm: -1.0000\n",
      "Epoch 32/200\n",
      "2311/2313 [============================>.] - ETA: 0s - loss: 0.0010 - mse: 6.6157e-04 - NMSE: 0.0060 - real_MSE: 6.6157e-04 - params_MSE: nan - ls_jacobian_norm: 1.3050 - tot_time: 0h 43m 38.7s\n",
      "\n",
      "Epoch 32: val_mse did not improve from 0.00061\n",
      " - saving loss histories at /home/rkaushik/Documents/Thesis/MLROM/new_cdv/saved_ae/ae_007/checkpoints/LossHistoriesCheckpoint\n",
      "2313/2313 [==============================] - 16s 7ms/step - loss: 0.0010 - mse: 6.6154e-04 - NMSE: 0.0060 - real_MSE: 6.6154e-04 - params_MSE: nan - ls_jacobian_norm: 1.3051 - val_loss: 9.6540e-04 - val_mse: 6.1128e-04 - val_NMSE: 0.0055 - val_real_MSE: 6.1128e-04 - val_params_MSE: nan - val_ls_jacobian_norm: -1.0000\n",
      "Epoch 33/200\n",
      "2312/2313 [============================>.] - ETA: 0s - loss: 0.0010 - mse: 6.6095e-04 - NMSE: 0.0059 - real_MSE: 6.6095e-04 - params_MSE: nan - ls_jacobian_norm: 1.3064 - tot_time: 0h 43m 55.1s\n",
      "\n",
      "Epoch 33: val_mse did not improve from 0.00061\n",
      " - saving loss histories at /home/rkaushik/Documents/Thesis/MLROM/new_cdv/saved_ae/ae_007/checkpoints/LossHistoriesCheckpoint\n",
      "2313/2313 [==============================] - 16s 7ms/step - loss: 0.0010 - mse: 6.6089e-04 - NMSE: 0.0059 - real_MSE: 6.6089e-04 - params_MSE: nan - ls_jacobian_norm: 1.3061 - val_loss: 9.6500e-04 - val_mse: 6.1085e-04 - val_NMSE: 0.0055 - val_real_MSE: 6.1085e-04 - val_params_MSE: nan - val_ls_jacobian_norm: -1.0000\n"
     ]
    },
    {
     "name": "stdout",
     "output_type": "stream",
     "text": [
      "Epoch 34/200\n",
      "2310/2313 [============================>.] - ETA: 0s - loss: 0.0010 - mse: 6.6259e-04 - NMSE: 0.0060 - real_MSE: 6.6259e-04 - params_MSE: nan - ls_jacobian_norm: 1.3056 - tot_time: 0h 44m 11.0s\n",
      "\n",
      "Epoch 34: val_mse did not improve from 0.00061\n",
      " - saving loss histories at /home/rkaushik/Documents/Thesis/MLROM/new_cdv/saved_ae/ae_007/checkpoints/LossHistoriesCheckpoint\n",
      "2313/2313 [==============================] - 16s 7ms/step - loss: 0.0010 - mse: 6.6260e-04 - NMSE: 0.0060 - real_MSE: 6.6260e-04 - params_MSE: nan - ls_jacobian_norm: 1.3058 - val_loss: 9.6441e-04 - val_mse: 6.1029e-04 - val_NMSE: 0.0055 - val_real_MSE: 6.1029e-04 - val_params_MSE: nan - val_ls_jacobian_norm: -1.0000\n",
      "Epoch 35/200\n",
      "2311/2313 [============================>.] - ETA: 0s - loss: 0.0010 - mse: 6.6078e-04 - NMSE: 0.0059 - real_MSE: 6.6078e-04 - params_MSE: nan - ls_jacobian_norm: 1.3036 - tot_time: 0h 44m 27.6s\n",
      "\n",
      "Epoch 35: val_mse improved from 0.00061 to 0.00061, saving model to /home/rkaushik/Documents/Thesis/MLROM/new_cdv/saved_ae/ae_007/checkpoints/checkpoint\n",
      " - saving loss histories at /home/rkaushik/Documents/Thesis/MLROM/new_cdv/saved_ae/ae_007/checkpoints/LossHistoriesCheckpoint\n",
      "2313/2313 [==============================] - 17s 7ms/step - loss: 0.0010 - mse: 6.6061e-04 - NMSE: 0.0059 - real_MSE: 6.6061e-04 - params_MSE: nan - ls_jacobian_norm: 1.3037 - val_loss: 9.5987e-04 - val_mse: 6.0583e-04 - val_NMSE: 0.0055 - val_real_MSE: 6.0583e-04 - val_params_MSE: nan - val_ls_jacobian_norm: -1.0000\n",
      "Epoch 36/200\n",
      "2310/2313 [============================>.] - ETA: 0s - loss: 0.0010 - mse: 6.5817e-04 - NMSE: 0.0059 - real_MSE: 6.5817e-04 - params_MSE: nan - ls_jacobian_norm: 1.3073 - tot_time: 0h 44m 43.8s\n",
      "\n",
      "Epoch 36: val_mse did not improve from 0.00061\n",
      " - saving loss histories at /home/rkaushik/Documents/Thesis/MLROM/new_cdv/saved_ae/ae_007/checkpoints/LossHistoriesCheckpoint\n",
      "2313/2313 [==============================] - 16s 7ms/step - loss: 0.0010 - mse: 6.5818e-04 - NMSE: 0.0059 - real_MSE: 6.5818e-04 - params_MSE: nan - ls_jacobian_norm: 1.3069 - val_loss: 9.6314e-04 - val_mse: 6.0904e-04 - val_NMSE: 0.0055 - val_real_MSE: 6.0904e-04 - val_params_MSE: nan - val_ls_jacobian_norm: -1.0000\n",
      "Epoch 37/200\n",
      "2307/2313 [============================>.] - ETA: 0s - loss: 0.0010 - mse: 6.5982e-04 - NMSE: 0.0059 - real_MSE: 6.5982e-04 - params_MSE: nan - ls_jacobian_norm: 1.3072 - tot_time: 0h 45m 0.3s\n",
      "\n",
      "Epoch 37: val_mse did not improve from 0.00061\n",
      " - saving loss histories at /home/rkaushik/Documents/Thesis/MLROM/new_cdv/saved_ae/ae_007/checkpoints/LossHistoriesCheckpoint\n",
      "2313/2313 [==============================] - 17s 7ms/step - loss: 0.0010 - mse: 6.5972e-04 - NMSE: 0.0059 - real_MSE: 6.5972e-04 - params_MSE: nan - ls_jacobian_norm: 1.3073 - val_loss: 9.6191e-04 - val_mse: 6.0790e-04 - val_NMSE: 0.0055 - val_real_MSE: 6.0790e-04 - val_params_MSE: nan - val_ls_jacobian_norm: -1.0000\n",
      "Epoch 38/200\n",
      "2312/2313 [============================>.] - ETA: 0s - loss: 0.0010 - mse: 6.5853e-04 - NMSE: 0.0059 - real_MSE: 6.5853e-04 - params_MSE: nan - ls_jacobian_norm: 1.3049 - tot_time: 0h 45m 16.5s\n",
      "\n",
      "Epoch 38: val_mse did not improve from 0.00061\n",
      " - saving loss histories at /home/rkaushik/Documents/Thesis/MLROM/new_cdv/saved_ae/ae_007/checkpoints/LossHistoriesCheckpoint\n",
      "2313/2313 [==============================] - 16s 7ms/step - loss: 0.0010 - mse: 6.5858e-04 - NMSE: 0.0059 - real_MSE: 6.5858e-04 - params_MSE: nan - ls_jacobian_norm: 1.3049 - val_loss: 9.6163e-04 - val_mse: 6.0762e-04 - val_NMSE: 0.0055 - val_real_MSE: 6.0762e-04 - val_params_MSE: nan - val_ls_jacobian_norm: -1.0000\n",
      "Epoch 39/200\n",
      "2310/2313 [============================>.] - ETA: 0s - loss: 0.0010 - mse: 6.6142e-04 - NMSE: 0.0060 - real_MSE: 6.6142e-04 - params_MSE: nan - ls_jacobian_norm: 1.2988 - tot_time: 0h 45m 32.5s\n",
      "\n",
      "Epoch 39: val_mse did not improve from 0.00061\n",
      " - saving loss histories at /home/rkaushik/Documents/Thesis/MLROM/new_cdv/saved_ae/ae_007/checkpoints/LossHistoriesCheckpoint\n",
      "2313/2313 [==============================] - 16s 7ms/step - loss: 0.0010 - mse: 6.6143e-04 - NMSE: 0.0060 - real_MSE: 6.6143e-04 - params_MSE: nan - ls_jacobian_norm: 1.2990 - val_loss: 9.7582e-04 - val_mse: 6.2190e-04 - val_NMSE: 0.0056 - val_real_MSE: 6.2190e-04 - val_params_MSE: nan - val_ls_jacobian_norm: -1.0000\n",
      "Epoch 40/200\n",
      "2313/2313 [==============================] - ETA: 0s - loss: 0.0010 - mse: 6.5933e-04 - NMSE: 0.0059 - real_MSE: 6.5933e-04 - params_MSE: nan - ls_jacobian_norm: 1.3092 - tot_time: 0h 45m 47.0s\n",
      "\n",
      "Epoch 40: val_mse did not improve from 0.00061\n",
      " - saving loss histories at /home/rkaushik/Documents/Thesis/MLROM/new_cdv/saved_ae/ae_007/checkpoints/LossHistoriesCheckpoint\n",
      "2313/2313 [==============================] - 14s 6ms/step - loss: 0.0010 - mse: 6.5933e-04 - NMSE: 0.0059 - real_MSE: 6.5933e-04 - params_MSE: nan - ls_jacobian_norm: 1.3092 - val_loss: 9.6536e-04 - val_mse: 6.1141e-04 - val_NMSE: 0.0055 - val_real_MSE: 6.1141e-04 - val_params_MSE: nan - val_ls_jacobian_norm: -1.0000\n",
      "Epoch 41/200\n",
      "2309/2313 [============================>.] - ETA: 0s - loss: 0.0010 - mse: 6.5793e-04 - NMSE: 0.0059 - real_MSE: 6.5793e-04 - params_MSE: nan - ls_jacobian_norm: 1.3050 - tot_time: 0h 46m 2.4s\n",
      "\n",
      "Epoch 41: val_mse did not improve from 0.00061\n",
      " - saving loss histories at /home/rkaushik/Documents/Thesis/MLROM/new_cdv/saved_ae/ae_007/checkpoints/LossHistoriesCheckpoint\n",
      "2313/2313 [==============================] - 15s 7ms/step - loss: 0.0010 - mse: 6.5781e-04 - NMSE: 0.0059 - real_MSE: 6.5781e-04 - params_MSE: nan - ls_jacobian_norm: 1.3047 - val_loss: 9.6684e-04 - val_mse: 6.1292e-04 - val_NMSE: 0.0055 - val_real_MSE: 6.1292e-04 - val_params_MSE: nan - val_ls_jacobian_norm: -1.0000\n",
      "Epoch 42/200\n",
      "2310/2313 [============================>.] - ETA: 0s - loss: 0.0010 - mse: 6.5705e-04 - NMSE: 0.0059 - real_MSE: 6.5705e-04 - params_MSE: nan - ls_jacobian_norm: 1.3004 - tot_time: 0h 46m 18.1s\n",
      "\n",
      "Epoch 42: val_mse improved from 0.00061 to 0.00060, saving model to /home/rkaushik/Documents/Thesis/MLROM/new_cdv/saved_ae/ae_007/checkpoints/checkpoint\n",
      " - saving loss histories at /home/rkaushik/Documents/Thesis/MLROM/new_cdv/saved_ae/ae_007/checkpoints/LossHistoriesCheckpoint\n",
      "2313/2313 [==============================] - 16s 7ms/step - loss: 0.0010 - mse: 6.5704e-04 - NMSE: 0.0059 - real_MSE: 6.5704e-04 - params_MSE: nan - ls_jacobian_norm: 1.3005 - val_loss: 9.5806e-04 - val_mse: 6.0422e-04 - val_NMSE: 0.0054 - val_real_MSE: 6.0422e-04 - val_params_MSE: nan - val_ls_jacobian_norm: -1.0000\n",
      "Epoch 43/200\n",
      "2311/2313 [============================>.] - ETA: 0s - loss: 0.0010 - mse: 6.5728e-04 - NMSE: 0.0059 - real_MSE: 6.5728e-04 - params_MSE: nan - ls_jacobian_norm: 1.3073 - tot_time: 0h 46m 32.2s\n",
      "\n",
      "Epoch 43: val_mse did not improve from 0.00060\n",
      " - saving loss histories at /home/rkaushik/Documents/Thesis/MLROM/new_cdv/saved_ae/ae_007/checkpoints/LossHistoriesCheckpoint\n",
      "2313/2313 [==============================] - 14s 6ms/step - loss: 0.0010 - mse: 6.5724e-04 - NMSE: 0.0059 - real_MSE: 6.5724e-04 - params_MSE: nan - ls_jacobian_norm: 1.3072 - val_loss: 9.6224e-04 - val_mse: 6.0841e-04 - val_NMSE: 0.0055 - val_real_MSE: 6.0841e-04 - val_params_MSE: nan - val_ls_jacobian_norm: -1.0000\n",
      "Epoch 44/200\n",
      "2311/2313 [============================>.] - ETA: 0s - loss: 0.0010 - mse: 6.5447e-04 - NMSE: 0.0059 - real_MSE: 6.5447e-04 - params_MSE: nan - ls_jacobian_norm: 1.3061 - tot_time: 0h 46m 46.7s\n",
      "\n",
      "Epoch 44: val_mse improved from 0.00060 to 0.00060, saving model to /home/rkaushik/Documents/Thesis/MLROM/new_cdv/saved_ae/ae_007/checkpoints/checkpoint\n",
      " - saving loss histories at /home/rkaushik/Documents/Thesis/MLROM/new_cdv/saved_ae/ae_007/checkpoints/LossHistoriesCheckpoint\n",
      "2313/2313 [==============================] - 14s 6ms/step - loss: 0.0010 - mse: 6.5469e-04 - NMSE: 0.0059 - real_MSE: 6.5469e-04 - params_MSE: nan - ls_jacobian_norm: 1.3064 - val_loss: 9.5753e-04 - val_mse: 6.0364e-04 - val_NMSE: 0.0054 - val_real_MSE: 6.0364e-04 - val_params_MSE: nan - val_ls_jacobian_norm: -1.0000\n",
      "Epoch 45/200\n"
     ]
    },
    {
     "name": "stdout",
     "output_type": "stream",
     "text": [
      "2313/2313 [==============================] - ETA: 0s - loss: 0.0010 - mse: 6.5890e-04 - NMSE: 0.0059 - real_MSE: 6.5890e-04 - params_MSE: nan - ls_jacobian_norm: 1.3021 - tot_time: 0h 47m 0.5s\n",
      "\n",
      "Epoch 45: val_mse did not improve from 0.00060\n",
      " - saving loss histories at /home/rkaushik/Documents/Thesis/MLROM/new_cdv/saved_ae/ae_007/checkpoints/LossHistoriesCheckpoint\n",
      "2313/2313 [==============================] - 14s 6ms/step - loss: 0.0010 - mse: 6.5890e-04 - NMSE: 0.0059 - real_MSE: 6.5890e-04 - params_MSE: nan - ls_jacobian_norm: 1.3021 - val_loss: 9.5835e-04 - val_mse: 6.0452e-04 - val_NMSE: 0.0054 - val_real_MSE: 6.0452e-04 - val_params_MSE: nan - val_ls_jacobian_norm: -1.0000\n",
      "Epoch 46/200\n",
      "2312/2313 [============================>.] - ETA: 0s - loss: 0.0010 - mse: 6.5950e-04 - NMSE: 0.0059 - real_MSE: 6.5950e-04 - params_MSE: nan - ls_jacobian_norm: 1.2884 - tot_time: 0h 47m 15.9s\n",
      "\n",
      "Epoch 46: val_mse did not improve from 0.00060\n",
      " - saving loss histories at /home/rkaushik/Documents/Thesis/MLROM/new_cdv/saved_ae/ae_007/checkpoints/LossHistoriesCheckpoint\n",
      "2313/2313 [==============================] - 15s 7ms/step - loss: 0.0010 - mse: 6.5944e-04 - NMSE: 0.0059 - real_MSE: 6.5944e-04 - params_MSE: nan - ls_jacobian_norm: 1.2885 - val_loss: 9.6002e-04 - val_mse: 6.0643e-04 - val_NMSE: 0.0055 - val_real_MSE: 6.0643e-04 - val_params_MSE: nan - val_ls_jacobian_norm: -1.0000\n",
      "Epoch 47/200\n",
      "2313/2313 [==============================] - ETA: 0s - loss: 0.0010 - mse: 6.5782e-04 - NMSE: 0.0059 - real_MSE: 6.5782e-04 - params_MSE: nan - ls_jacobian_norm: 1.2864 - tot_time: 0h 47m 31.7s\n",
      "\n",
      "Epoch 47: val_mse improved from 0.00060 to 0.00060, saving model to /home/rkaushik/Documents/Thesis/MLROM/new_cdv/saved_ae/ae_007/checkpoints/checkpoint\n",
      " - saving loss histories at /home/rkaushik/Documents/Thesis/MLROM/new_cdv/saved_ae/ae_007/checkpoints/LossHistoriesCheckpoint\n",
      "2313/2313 [==============================] - 16s 7ms/step - loss: 0.0010 - mse: 6.5782e-04 - NMSE: 0.0059 - real_MSE: 6.5782e-04 - params_MSE: nan - ls_jacobian_norm: 1.2865 - val_loss: 9.5487e-04 - val_mse: 6.0136e-04 - val_NMSE: 0.0054 - val_real_MSE: 6.0136e-04 - val_params_MSE: nan - val_ls_jacobian_norm: -1.0000\n",
      "Epoch 48/200\n",
      "2306/2313 [============================>.] - ETA: 0s - loss: 0.0010 - mse: 6.5803e-04 - NMSE: 0.0059 - real_MSE: 6.5803e-04 - params_MSE: nan - ls_jacobian_norm: 1.2956 - tot_time: 0h 47m 47.4s\n",
      "\n",
      "Epoch 48: val_mse did not improve from 0.00060\n",
      " - saving loss histories at /home/rkaushik/Documents/Thesis/MLROM/new_cdv/saved_ae/ae_007/checkpoints/LossHistoriesCheckpoint\n",
      "2313/2313 [==============================] - 16s 7ms/step - loss: 0.0010 - mse: 6.5853e-04 - NMSE: 0.0059 - real_MSE: 6.5853e-04 - params_MSE: nan - ls_jacobian_norm: 1.2957 - val_loss: 9.5780e-04 - val_mse: 6.0422e-04 - val_NMSE: 0.0054 - val_real_MSE: 6.0422e-04 - val_params_MSE: nan - val_ls_jacobian_norm: -1.0000\n",
      "Epoch 49/200\n",
      "2310/2313 [============================>.] - ETA: 0s - loss: 0.0010 - mse: 6.5608e-04 - NMSE: 0.0059 - real_MSE: 6.5608e-04 - params_MSE: nan - ls_jacobian_norm: 1.2885 - tot_time: 0h 48m 2.7s\n",
      "\n",
      "Epoch 49: val_mse did not improve from 0.00060\n",
      " - saving loss histories at /home/rkaushik/Documents/Thesis/MLROM/new_cdv/saved_ae/ae_007/checkpoints/LossHistoriesCheckpoint\n",
      "2313/2313 [==============================] - 15s 7ms/step - loss: 0.0010 - mse: 6.5637e-04 - NMSE: 0.0059 - real_MSE: 6.5637e-04 - params_MSE: nan - ls_jacobian_norm: 1.2891 - val_loss: 9.7066e-04 - val_mse: 6.1726e-04 - val_NMSE: 0.0056 - val_real_MSE: 6.1726e-04 - val_params_MSE: nan - val_ls_jacobian_norm: -1.0000\n",
      "Epoch 50/200\n",
      "2309/2313 [============================>.] - ETA: 0s - loss: 0.0010 - mse: 6.5719e-04 - NMSE: 0.0059 - real_MSE: 6.5719e-04 - params_MSE: nan - ls_jacobian_norm: 1.2860 - tot_time: 0h 48m 18.3s\n",
      "\n",
      "Epoch 50: val_mse did not improve from 0.00060\n",
      " - saving loss histories at /home/rkaushik/Documents/Thesis/MLROM/new_cdv/saved_ae/ae_007/checkpoints/LossHistoriesCheckpoint\n",
      "2313/2313 [==============================] - 16s 7ms/step - loss: 0.0010 - mse: 6.5697e-04 - NMSE: 0.0059 - real_MSE: 6.5697e-04 - params_MSE: nan - ls_jacobian_norm: 1.2859 - val_loss: 9.5589e-04 - val_mse: 6.0252e-04 - val_NMSE: 0.0054 - val_real_MSE: 6.0252e-04 - val_params_MSE: nan - val_ls_jacobian_norm: -1.0000\n",
      "Epoch 51/200\n",
      "2310/2313 [============================>.] - ETA: 0s - loss: 0.0010 - mse: 6.6053e-04 - NMSE: 0.0059 - real_MSE: 6.6053e-04 - params_MSE: nan - ls_jacobian_norm: 1.3039 - tot_time: 0h 48m 33.9s\n",
      "\n",
      "Epoch 51: val_mse did not improve from 0.00060\n",
      " - saving loss histories at /home/rkaushik/Documents/Thesis/MLROM/new_cdv/saved_ae/ae_007/checkpoints/LossHistoriesCheckpoint\n",
      "2313/2313 [==============================] - 16s 7ms/step - loss: 0.0010 - mse: 6.6051e-04 - NMSE: 0.0059 - real_MSE: 6.6051e-04 - params_MSE: nan - ls_jacobian_norm: 1.3039 - val_loss: 9.5545e-04 - val_mse: 6.0200e-04 - val_NMSE: 0.0054 - val_real_MSE: 6.0200e-04 - val_params_MSE: nan - val_ls_jacobian_norm: -1.0000\n",
      "Epoch 52/200\n",
      "2313/2313 [==============================] - ETA: 0s - loss: 0.0010 - mse: 6.5769e-04 - NMSE: 0.0059 - real_MSE: 6.5769e-04 - params_MSE: nan - ls_jacobian_norm: 1.2984 - tot_time: 0h 48m 49.2s\n",
      "\n",
      "Epoch 52: val_mse did not improve from 0.00060\n",
      " - saving loss histories at /home/rkaushik/Documents/Thesis/MLROM/new_cdv/saved_ae/ae_007/checkpoints/LossHistoriesCheckpoint\n",
      "2313/2313 [==============================] - 15s 7ms/step - loss: 0.0010 - mse: 6.5769e-04 - NMSE: 0.0059 - real_MSE: 6.5769e-04 - params_MSE: nan - ls_jacobian_norm: 1.2983 - val_loss: 9.5527e-04 - val_mse: 6.0188e-04 - val_NMSE: 0.0054 - val_real_MSE: 6.0188e-04 - val_params_MSE: nan - val_ls_jacobian_norm: -1.0000\n",
      "Epoch 53/200\n",
      "2312/2313 [============================>.] - ETA: 0s - loss: 0.0010 - mse: 6.5684e-04 - NMSE: 0.0059 - real_MSE: 6.5684e-04 - params_MSE: nan - ls_jacobian_norm: 1.3035 - tot_time: 0h 49m 4.6s\n",
      "\n",
      "Epoch 53: val_mse did not improve from 0.00060\n",
      " - saving loss histories at /home/rkaushik/Documents/Thesis/MLROM/new_cdv/saved_ae/ae_007/checkpoints/LossHistoriesCheckpoint\n",
      "2313/2313 [==============================] - 15s 7ms/step - loss: 0.0010 - mse: 6.5684e-04 - NMSE: 0.0059 - real_MSE: 6.5684e-04 - params_MSE: nan - ls_jacobian_norm: 1.3036 - val_loss: 9.5869e-04 - val_mse: 6.0528e-04 - val_NMSE: 0.0054 - val_real_MSE: 6.0528e-04 - val_params_MSE: nan - val_ls_jacobian_norm: -1.0000\n",
      "Epoch 54/200\n",
      "2312/2313 [============================>.] - ETA: 0s - loss: 0.0010 - mse: 6.5783e-04 - NMSE: 0.0059 - real_MSE: 6.5783e-04 - params_MSE: nan - ls_jacobian_norm: 1.2953 - tot_time: 0h 49m 19.9s\n",
      "\n",
      "Epoch 54: val_mse did not improve from 0.00060\n",
      " - saving loss histories at /home/rkaushik/Documents/Thesis/MLROM/new_cdv/saved_ae/ae_007/checkpoints/LossHistoriesCheckpoint\n",
      "2313/2313 [==============================] - 15s 7ms/step - loss: 0.0010 - mse: 6.5801e-04 - NMSE: 0.0059 - real_MSE: 6.5801e-04 - params_MSE: nan - ls_jacobian_norm: 1.2956 - val_loss: 9.5543e-04 - val_mse: 6.0209e-04 - val_NMSE: 0.0054 - val_real_MSE: 6.0209e-04 - val_params_MSE: nan - val_ls_jacobian_norm: -1.0000\n",
      "Epoch 55/200\n",
      "2312/2313 [============================>.] - ETA: 0s - loss: 0.0010 - mse: 6.5586e-04 - NMSE: 0.0059 - real_MSE: 6.5586e-04 - params_MSE: nan - ls_jacobian_norm: 1.3008 - tot_time: 0h 49m 35.5s\n",
      "\n",
      "Epoch 55: val_mse did not improve from 0.00060\n",
      " - saving loss histories at /home/rkaushik/Documents/Thesis/MLROM/new_cdv/saved_ae/ae_007/checkpoints/LossHistoriesCheckpoint\n",
      "2313/2313 [==============================] - 16s 7ms/step - loss: 0.0010 - mse: 6.5592e-04 - NMSE: 0.0059 - real_MSE: 6.5592e-04 - params_MSE: nan - ls_jacobian_norm: 1.3007 - val_loss: 9.5480e-04 - val_mse: 6.0155e-04 - val_NMSE: 0.0054 - val_real_MSE: 6.0155e-04 - val_params_MSE: nan - val_ls_jacobian_norm: -1.0000\n",
      "Epoch 56/200\n",
      "2307/2313 [============================>.] - ETA: 0s - loss: 0.0010 - mse: 6.5493e-04 - NMSE: 0.0059 - real_MSE: 6.5493e-04 - params_MSE: nan - ls_jacobian_norm: 1.3069 - tot_time: 0h 49m 50.8s\n",
      "\n",
      "Epoch 56: val_mse did not improve from 0.00060\n",
      " - saving loss histories at /home/rkaushik/Documents/Thesis/MLROM/new_cdv/saved_ae/ae_007/checkpoints/LossHistoriesCheckpoint\n",
      "2313/2313 [==============================] - 15s 7ms/step - loss: 0.0010 - mse: 6.5570e-04 - NMSE: 0.0059 - real_MSE: 6.5570e-04 - params_MSE: nan - ls_jacobian_norm: 1.3069 - val_loss: 9.6383e-04 - val_mse: 6.1061e-04 - val_NMSE: 0.0055 - val_real_MSE: 6.1061e-04 - val_params_MSE: nan - val_ls_jacobian_norm: -1.0000\n"
     ]
    },
    {
     "name": "stdout",
     "output_type": "stream",
     "text": [
      "Epoch 57/200\n",
      "2312/2313 [============================>.] - ETA: 0s - loss: 0.0010 - mse: 6.5615e-04 - NMSE: 0.0059 - real_MSE: 6.5615e-04 - params_MSE: nan - ls_jacobian_norm: 1.3082Restoring model weights from the end of the best epoch: 47.\n",
      " - tot_time: 0h 50m 6.5s\n",
      "\n",
      "Epoch 57: val_mse did not improve from 0.00060\n",
      " - saving loss histories at /home/rkaushik/Documents/Thesis/MLROM/new_cdv/saved_ae/ae_007/checkpoints/LossHistoriesCheckpoint\n",
      "2313/2313 [==============================] - 16s 7ms/step - loss: 0.0010 - mse: 6.5620e-04 - NMSE: 0.0059 - real_MSE: 6.5620e-04 - params_MSE: nan - ls_jacobian_norm: 1.3082 - val_loss: 9.5914e-04 - val_mse: 6.0582e-04 - val_NMSE: 0.0055 - val_real_MSE: 6.0582e-04 - val_params_MSE: nan - val_ls_jacobian_norm: -1.0000\n",
      "Epoch 57: early stopping\n",
      "\n",
      "\n",
      "--------------------------------------------------------------------------------\n",
      "\n",
      "---------------------------- LEARNING RATE : 1e-05 -----------------------------\n",
      "\n",
      "--------------------------------------------------------------------------------\n",
      "\n",
      "\n",
      "Epoch 1/200\n",
      "2312/2313 [============================>.] - ETA: 0s - loss: 9.9906e-04 - mse: 6.4555e-04 - NMSE: 0.0058 - real_MSE: 6.4555e-04 - params_MSE: nan - ls_jacobian_norm: 1.2939 - tot_time: 0h 50m 22.0s\n",
      "\n",
      "Epoch 1: val_mse improved from 0.00060 to 0.00060, saving model to /home/rkaushik/Documents/Thesis/MLROM/new_cdv/saved_ae/ae_007/checkpoints/checkpoint\n",
      " - saving loss histories at /home/rkaushik/Documents/Thesis/MLROM/new_cdv/saved_ae/ae_007/checkpoints/LossHistoriesCheckpoint\n",
      "2313/2313 [==============================] - 16s 7ms/step - loss: 9.9898e-04 - mse: 6.4547e-04 - NMSE: 0.0058 - real_MSE: 6.4547e-04 - params_MSE: nan - ls_jacobian_norm: 1.2940 - val_loss: 9.4917e-04 - val_mse: 5.9565e-04 - val_NMSE: 0.0054 - val_real_MSE: 5.9565e-04 - val_params_MSE: nan - val_ls_jacobian_norm: -1.0000\n",
      "Epoch 2/200\n",
      "2306/2313 [============================>.] - ETA: 0s - loss: 0.0010 - mse: 6.4748e-04 - NMSE: 0.0058 - real_MSE: 6.4748e-04 - params_MSE: nan - ls_jacobian_norm: 1.2943 - tot_time: 0h 50m 37.5s\n",
      "\n",
      "Epoch 2: val_mse improved from 0.00060 to 0.00060, saving model to /home/rkaushik/Documents/Thesis/MLROM/new_cdv/saved_ae/ae_007/checkpoints/checkpoint\n",
      " - saving loss histories at /home/rkaushik/Documents/Thesis/MLROM/new_cdv/saved_ae/ae_007/checkpoints/LossHistoriesCheckpoint\n",
      "2313/2313 [==============================] - 15s 7ms/step - loss: 0.0010 - mse: 6.4721e-04 - NMSE: 0.0058 - real_MSE: 6.4721e-04 - params_MSE: nan - ls_jacobian_norm: 1.2942 - val_loss: 9.4917e-04 - val_mse: 5.9564e-04 - val_NMSE: 0.0054 - val_real_MSE: 5.9564e-04 - val_params_MSE: nan - val_ls_jacobian_norm: -1.0000\n",
      "Epoch 3/200\n",
      "2302/2313 [============================>.] - ETA: 0s - loss: 0.0010 - mse: 6.4735e-04 - NMSE: 0.0058 - real_MSE: 6.4735e-04 - params_MSE: nan - ls_jacobian_norm: 1.2945 - tot_time: 0h 50m 53.2s\n",
      "\n",
      "Epoch 3: val_mse improved from 0.00060 to 0.00060, saving model to /home/rkaushik/Documents/Thesis/MLROM/new_cdv/saved_ae/ae_007/checkpoints/checkpoint\n",
      " - saving loss histories at /home/rkaushik/Documents/Thesis/MLROM/new_cdv/saved_ae/ae_007/checkpoints/LossHistoriesCheckpoint\n",
      "2313/2313 [==============================] - 16s 7ms/step - loss: 0.0010 - mse: 6.4773e-04 - NMSE: 0.0058 - real_MSE: 6.4773e-04 - params_MSE: nan - ls_jacobian_norm: 1.2947 - val_loss: 9.4862e-04 - val_mse: 5.9508e-04 - val_NMSE: 0.0054 - val_real_MSE: 5.9508e-04 - val_params_MSE: nan - val_ls_jacobian_norm: -1.0000\n",
      "Epoch 4/200\n",
      "2307/2313 [============================>.] - ETA: 0s - loss: 9.9869e-04 - mse: 6.4514e-04 - NMSE: 0.0058 - real_MSE: 6.4514e-04 - params_MSE: nan - ls_jacobian_norm: 1.2934 - tot_time: 0h 51m 8.1s\n",
      "\n",
      "Epoch 4: val_mse improved from 0.00060 to 0.00060, saving model to /home/rkaushik/Documents/Thesis/MLROM/new_cdv/saved_ae/ae_007/checkpoints/checkpoint\n",
      " - saving loss histories at /home/rkaushik/Documents/Thesis/MLROM/new_cdv/saved_ae/ae_007/checkpoints/LossHistoriesCheckpoint\n",
      "2313/2313 [==============================] - 15s 6ms/step - loss: 9.9866e-04 - mse: 6.4511e-04 - NMSE: 0.0058 - real_MSE: 6.4511e-04 - params_MSE: nan - ls_jacobian_norm: 1.2933 - val_loss: 9.4859e-04 - val_mse: 5.9504e-04 - val_NMSE: 0.0054 - val_real_MSE: 5.9504e-04 - val_params_MSE: nan - val_ls_jacobian_norm: -1.0000\n",
      "Epoch 5/200\n",
      "2307/2313 [============================>.] - ETA: 0s - loss: 9.9942e-04 - mse: 6.4586e-04 - NMSE: 0.0058 - real_MSE: 6.4586e-04 - params_MSE: nan - ls_jacobian_norm: 1.2958 - tot_time: 0h 51m 23.4s\n",
      "\n",
      "Epoch 5: val_mse did not improve from 0.00060\n",
      " - saving loss histories at /home/rkaushik/Documents/Thesis/MLROM/new_cdv/saved_ae/ae_007/checkpoints/LossHistoriesCheckpoint\n",
      "2313/2313 [==============================] - 15s 7ms/step - loss: 9.9926e-04 - mse: 6.4570e-04 - NMSE: 0.0058 - real_MSE: 6.4570e-04 - params_MSE: nan - ls_jacobian_norm: 1.2958 - val_loss: 9.4922e-04 - val_mse: 5.9564e-04 - val_NMSE: 0.0054 - val_real_MSE: 5.9564e-04 - val_params_MSE: nan - val_ls_jacobian_norm: -1.0000\n",
      "Epoch 6/200\n",
      "2311/2313 [============================>.] - ETA: 0s - loss: 0.0010 - mse: 6.4694e-04 - NMSE: 0.0058 - real_MSE: 6.4694e-04 - params_MSE: nan - ls_jacobian_norm: 1.2960 - tot_time: 0h 51m 38.6s\n",
      "\n",
      "Epoch 6: val_mse did not improve from 0.00060\n",
      " - saving loss histories at /home/rkaushik/Documents/Thesis/MLROM/new_cdv/saved_ae/ae_007/checkpoints/LossHistoriesCheckpoint\n",
      "2313/2313 [==============================] - 15s 7ms/step - loss: 0.0010 - mse: 6.4696e-04 - NMSE: 0.0058 - real_MSE: 6.4696e-04 - params_MSE: nan - ls_jacobian_norm: 1.2961 - val_loss: 9.4888e-04 - val_mse: 5.9530e-04 - val_NMSE: 0.0054 - val_real_MSE: 5.9530e-04 - val_params_MSE: nan - val_ls_jacobian_norm: -1.0000\n",
      "Epoch 7/200\n",
      "2312/2313 [============================>.] - ETA: 0s - loss: 0.0010 - mse: 6.4670e-04 - NMSE: 0.0058 - real_MSE: 6.4670e-04 - params_MSE: nan - ls_jacobian_norm: 1.2954 - tot_time: 0h 51m 53.9s\n",
      "\n",
      "Epoch 7: val_mse did not improve from 0.00060\n",
      " - saving loss histories at /home/rkaushik/Documents/Thesis/MLROM/new_cdv/saved_ae/ae_007/checkpoints/LossHistoriesCheckpoint\n",
      "2313/2313 [==============================] - 15s 7ms/step - loss: 0.0010 - mse: 6.4688e-04 - NMSE: 0.0058 - real_MSE: 6.4688e-04 - params_MSE: nan - ls_jacobian_norm: 1.2956 - val_loss: 9.5009e-04 - val_mse: 5.9651e-04 - val_NMSE: 0.0054 - val_real_MSE: 5.9651e-04 - val_params_MSE: nan - val_ls_jacobian_norm: -1.0000\n",
      "Epoch 8/200\n",
      "2309/2313 [============================>.] - ETA: 0s - loss: 0.0010 - mse: 6.4802e-04 - NMSE: 0.0058 - real_MSE: 6.4802e-04 - params_MSE: nan - ls_jacobian_norm: 1.2982 - tot_time: 0h 52m 9.1s\n",
      "\n",
      "Epoch 8: val_mse did not improve from 0.00060\n",
      " - saving loss histories at /home/rkaushik/Documents/Thesis/MLROM/new_cdv/saved_ae/ae_007/checkpoints/LossHistoriesCheckpoint\n",
      "2313/2313 [==============================] - 15s 7ms/step - loss: 0.0010 - mse: 6.4803e-04 - NMSE: 0.0058 - real_MSE: 6.4803e-04 - params_MSE: nan - ls_jacobian_norm: 1.2981 - val_loss: 9.4891e-04 - val_mse: 5.9532e-04 - val_NMSE: 0.0054 - val_real_MSE: 5.9532e-04 - val_params_MSE: nan - val_ls_jacobian_norm: -1.0000\n",
      "Epoch 9/200\n",
      "2313/2313 [==============================] - ETA: 0s - loss: 0.0010 - mse: 6.4648e-04 - NMSE: 0.0058 - real_MSE: 6.4648e-04 - params_MSE: nan - ls_jacobian_norm: 1.2984     - tot_time: 0h 52m 24.2s\n",
      "\n",
      "Epoch 9: val_mse did not improve from 0.00060\n",
      " - saving loss histories at /home/rkaushik/Documents/Thesis/MLROM/new_cdv/saved_ae/ae_007/checkpoints/LossHistoriesCheckpoint\n",
      "2313/2313 [==============================] - 15s 7ms/step - loss: 0.0010 - mse: 6.4648e-04 - NMSE: 0.0058 - real_MSE: 6.4648e-04 - params_MSE: nan - ls_jacobian_norm: 1.2984 - val_loss: 9.5075e-04 - val_mse: 5.9714e-04 - val_NMSE: 0.0054 - val_real_MSE: 5.9714e-04 - val_params_MSE: nan - val_ls_jacobian_norm: -1.0000\n",
      "Epoch 10/200\n",
      "2307/2313 [============================>.] - ETA: 0s - loss: 0.0010 - mse: 6.4721e-04 - NMSE: 0.0058 - real_MSE: 6.4721e-04 - params_MSE: nan - ls_jacobian_norm: 1.3008 - tot_time: 0h 52m 39.7s\n",
      "\n",
      "Epoch 10: val_mse did not improve from 0.00060\n",
      " - saving loss histories at /home/rkaushik/Documents/Thesis/MLROM/new_cdv/saved_ae/ae_007/checkpoints/LossHistoriesCheckpoint\n",
      "2313/2313 [==============================] - 15s 7ms/step - loss: 0.0010 - mse: 6.4689e-04 - NMSE: 0.0058 - real_MSE: 6.4689e-04 - params_MSE: nan - ls_jacobian_norm: 1.3005 - val_loss: 9.4910e-04 - val_mse: 5.9549e-04 - val_NMSE: 0.0054 - val_real_MSE: 5.9549e-04 - val_params_MSE: nan - val_ls_jacobian_norm: -1.0000\n"
     ]
    },
    {
     "name": "stdout",
     "output_type": "stream",
     "text": [
      "Epoch 11/200\n",
      "2308/2313 [============================>.] - ETA: 0s - loss: 9.9843e-04 - mse: 6.4481e-04 - NMSE: 0.0058 - real_MSE: 6.4481e-04 - params_MSE: nan - ls_jacobian_norm: 1.2972Restoring model weights from the end of the best epoch: 1.\n",
      " - tot_time: 0h 52m 55.1s\n",
      "\n",
      "Epoch 11: val_mse did not improve from 0.00060\n",
      " - saving loss histories at /home/rkaushik/Documents/Thesis/MLROM/new_cdv/saved_ae/ae_007/checkpoints/LossHistoriesCheckpoint\n",
      "2313/2313 [==============================] - 15s 7ms/step - loss: 9.9837e-04 - mse: 6.4475e-04 - NMSE: 0.0058 - real_MSE: 6.4475e-04 - params_MSE: nan - ls_jacobian_norm: 1.2970 - val_loss: 9.4926e-04 - val_mse: 5.9563e-04 - val_NMSE: 0.0054 - val_real_MSE: 5.9563e-04 - val_params_MSE: nan - val_ls_jacobian_norm: -1.0000\n",
      "Epoch 11: early stopping\n"
     ]
    }
   ],
   "source": [
    "# compiling the network\n",
    "ae_net.compile(\n",
    "    optimizer=tf.keras.optimizers.Adam(learning_rate=learning_rate_list[0]),\n",
    "    loss=losses.MeanSquaredError(),\n",
    "#     loss=losses.BinaryCrossentropy(from_logits=False),\n",
    "    run_eagerly=False,\n",
    "    metrics=['mse', NMSE(divisor_arr=tf.constant(time_stddev)), real_MSE(og_vars), params_MSE(og_vars)]\n",
    ")\n",
    "\n",
    "if behaviour == 'loadCheckpointAndContinueTraining':\n",
    "    # this loads the weights/attributes of the optimizer as well\n",
    "    if strategy is not None:\n",
    "        with strategy.scope():\n",
    "            ae_net.load_weights(wt_file)\n",
    "    else:\n",
    "        ae_net.load_weights(wt_file)\n",
    "\n",
    "if behaviour == 'initialiseAndTrainFromScratch' or behaviour == 'loadCheckpointAndContinueTraining':\n",
    "    metric_to_use = 'val_mse'\n",
    "    # implementing early stopping\n",
    "    early_stopping_cb = tf.keras.callbacks.EarlyStopping(\n",
    "        monitor=metric_to_use,\n",
    "        patience=patience,\n",
    "        restore_best_weights=True,\n",
    "        verbose=True,\n",
    "        min_delta=min_delta\n",
    "    )\n",
    "\n",
    "    # time callback for each epoch\n",
    "    timekeeper_cb = mytimecallback()\n",
    "\n",
    "    # model checkpoint callback\n",
    "    dir_name_ckpt = dir_name_ae+dir_sep+'checkpoints'\n",
    "    if not os.path.isdir(dir_name_ckpt):\n",
    "        os.makedirs(dir_name_ckpt)\n",
    "    checkpoint_cb = tf.keras.callbacks.ModelCheckpoint(\n",
    "        filepath=dir_name_ckpt+dir_sep+'checkpoint',#+'/checkpoint--loss={loss:.4f}--vall_loss={val_loss:.4f}',\n",
    "        monitor=metric_to_use,\n",
    "        save_best_only=True,\n",
    "        save_weights_only=True,\n",
    "        verbose=2,\n",
    "        period=1  # saves every 5 epochs\n",
    "    )\n",
    "\n",
    "    # save losses callback\n",
    "    savelosses_cb = SaveLosses(\n",
    "        filepath=dir_name_ckpt+dir_sep+'LossHistoriesCheckpoint',\n",
    "        val_loss_arr=savelosses_cb_vallossarr,\n",
    "        train_loss_arr=savelosses_cb_trainlossarr,\n",
    "        total_epochs=epochs,\n",
    "        period=1)\n",
    "\n",
    "    # training the network\n",
    "    for i in range(starting_lr_idx, len(learning_rate_list)):\n",
    "        learning_rate = learning_rate_list[i]\n",
    "        K.set_value(ae_net.optimizer.lr, learning_rate)\n",
    "\n",
    "        savelosses_cb.update_lr_idx(i)\n",
    "\n",
    "        if i == starting_lr_idx:\n",
    "            EPOCHS = num_epochs_left\n",
    "            savelosses_cb.update_offset(epochs-num_epochs_left)\n",
    "        else:\n",
    "            EPOCHS = epochs\n",
    "            savelosses_cb.update_offset(0)\n",
    "\n",
    "        total_s_len = 80\n",
    "        sep_lr_s = ' LEARNING RATE : {} '.format(learning_rate)\n",
    "        sep_lr_s = int((total_s_len - len(sep_lr_s))//2)*'-' + sep_lr_s\n",
    "        sep_lr_s = sep_lr_s + (total_s_len-len(sep_lr_s))*'-'\n",
    "        print('\\n\\n' + '-'*len(sep_lr_s))\n",
    "        print('\\n' + sep_lr_s+'\\n')\n",
    "        print('-'*len(sep_lr_s) + '\\n\\n')\n",
    "        \n",
    "        history = ae_net.fit(training_data, training_data,\n",
    "            epochs=EPOCHS,\n",
    "            batch_size=batch_size,\n",
    "#             validation_split=val_split/train_split,\n",
    "            validation_data=(val_data, val_data),\n",
    "            callbacks=[early_stopping_cb, timekeeper_cb, checkpoint_cb, savelosses_cb],\n",
    "            verbose=1,\n",
    "            shuffle=True,\n",
    "        )\n",
    "\n",
    "        val_loss_hist.extend(history.history['val_loss'])\n",
    "        train_loss_hist.extend(history.history['loss'])\n",
    "        \n",
    "        val_MSE_hist.extend(history.history['val_mse'])\n",
    "        train_MSE_hist.extend(history.history['mse'])\n",
    "        \n",
    "        val_NMSE_hist.extend(history.history['val_NMSE'])\n",
    "        train_NMSE_hist.extend(history.history['NMSE'])\n",
    "        \n",
    "        train_ls_jacobian_norm_hist.append(history.history['ls_jacobian_norm'])\n",
    "        \n",
    "        if i == starting_lr_idx:\n",
    "            lr_change[i+1] += len(history.history['val_loss'])\n",
    "        else:\n",
    "            lr_change.append(lr_change[i]+len(history.history['val_loss']))"
   ]
  },
  {
   "cell_type": "code",
   "execution_count": 36,
   "metadata": {},
   "outputs": [],
   "source": [
    "temp = []\n",
    "for lst in train_ls_jacobian_norm_hist:\n",
    "    temp.extend(lst)\n",
    "train_ls_jacobian_norm_hist_og = train_ls_jacobian_norm_hist\n",
    "train_ls_jacobian_norm_hist = np.array(temp)"
   ]
  },
  {
   "cell_type": "code",
   "execution_count": 37,
   "metadata": {
    "colab": {
     "base_uri": "https://localhost:8080/"
    },
    "executionInfo": {
     "elapsed": 9705,
     "status": "ok",
     "timestamp": 1666788875924,
     "user": {
      "displayName": "Rohan Kaushik",
      "userId": "13918477614376051685"
     },
     "user_tz": -120
    },
    "id": "d_Od0ul4P9bK",
    "outputId": "860e9f94-e593-4a74-fcff-6a6657d925de"
   },
   "outputs": [
    {
     "name": "stdout",
     "output_type": "stream",
     "text": [
      "579/579 [==============================] - 2s 3ms/step - loss: 0.0010 - mse: 6.7030e-04 - NMSE: 0.0060 - real_MSE: 6.7030e-04 - params_MSE: nan - ls_jacobian_norm: -1.0000\n",
      "4626/4626 [==============================] - 14s 3ms/step - loss: 9.8711e-04 - mse: 6.3359e-04 - NMSE: 0.0057 - real_MSE: 6.3359e-04 - params_MSE: nan - ls_jacobian_norm: -1.0000\n",
      "579/579 [==============================] - 2s 3ms/step - loss: 9.4917e-04 - mse: 5.9565e-04 - NMSE: 0.0054 - real_MSE: 5.9565e-04 - params_MSE: nan - ls_jacobian_norm: -1.0000\n"
     ]
    }
   ],
   "source": [
    "if behaviour == 'initialiseAndTrainFromScratch' or behaviour == 'loadCheckpointAndContinueTraining':\n",
    "    test_metrics = ae_net.evaluate(\n",
    "        testing_data, testing_data,\n",
    "    )\n",
    "    train_metrics = ae_net.evaluate(training_data, training_data)\n",
    "    val_metrics = ae_net.evaluate(val_data, val_data)\n",
    "\n",
    "    save_path = dir_name_ae+dir_sep+'final_net'\n",
    "\n",
    "    if not os.path.isdir(save_path):\n",
    "        os.makedirs(save_path)\n",
    "\n",
    "\n",
    "    with open(save_path+dir_sep+'losses.txt', 'w') as f:\n",
    "        f.write(str({\n",
    "            'val_loss_hist':val_loss_hist,\n",
    "            'train_loss_hist':train_loss_hist,\n",
    "            'val_MSE_hist':val_MSE_hist,\n",
    "            'train_MSE_hist':train_MSE_hist,\n",
    "            'val_NMSE_hist':val_NMSE_hist,\n",
    "            'train_NMSE_hist':train_NMSE_hist,\n",
    "            'train_ls_jacobian_norm_hist':train_ls_jacobian_norm_hist,\n",
    "            'lr_change':lr_change,\n",
    "            'test_loss':test_metrics[0],\n",
    "            'test_mse':test_metrics[1],\n",
    "            'train_loss':train_metrics[0],\n",
    "            'train_mse':train_metrics[1],\n",
    "            'val_loss':val_metrics[0],\n",
    "            'val_mse':val_metrics[1],\n",
    "        }))\n",
    "\n",
    "    ae_net.save_everything(\n",
    "        file_name=save_path+dir_sep+'final_net')"
   ]
  },
  {
   "cell_type": "code",
   "execution_count": 38,
   "metadata": {
    "colab": {
     "base_uri": "https://localhost:8080/"
    },
    "executionInfo": {
     "elapsed": 7,
     "status": "ok",
     "timestamp": 1666788875925,
     "user": {
      "displayName": "Rohan Kaushik",
      "userId": "13918477614376051685"
     },
     "user_tz": -120
    },
    "id": "Dy8GNcgMVD4T",
    "outputId": "e50e8738-9da1-43de-e551-43f47b64135e"
   },
   "outputs": [
    {
     "name": "stdout",
     "output_type": "stream",
     "text": [
      "lr_change :  [0, 138, 195, 206]\n"
     ]
    }
   ],
   "source": [
    "print('lr_change : ', lr_change)"
   ]
  },
  {
   "cell_type": "code",
   "execution_count": null,
   "metadata": {},
   "outputs": [],
   "source": []
  },
  {
   "cell_type": "code",
   "execution_count": 39,
   "metadata": {
    "colab": {
     "base_uri": "https://localhost:8080/",
     "height": 279
    },
    "executionInfo": {
     "elapsed": 765,
     "status": "ok",
     "timestamp": 1666788876686,
     "user": {
      "displayName": "Rohan Kaushik",
      "userId": "13918477614376051685"
     },
     "user_tz": -120
    },
    "id": "ewTz1COFSocM",
    "outputId": "15bc2be5-d571-433e-b5cd-9c722f38b48b",
    "scrolled": false
   },
   "outputs": [
    {
     "data": {
      "image/png": "[encoded data removed]",
      "text/plain": [
       "<Figure size 640x480 with 1 Axes>"
      ]
     },
     "metadata": {},
     "output_type": "display_data"
    },
    {
     "data": {
      "image/png": "[encoded data removed]",
      "text/plain": [
       "<Figure size 640x480 with 1 Axes>"
      ]
     },
     "metadata": {},
     "output_type": "display_data"
    },
    {
     "data": {
      "text/plain": [
       "<Figure size 640x480 with 0 Axes>"
      ]
     },
     "metadata": {},
     "output_type": "display_data"
    },
    {
     "data": {
      "image/png": "[encoded data removed]",
      "text/plain": [
       "<Figure size 640x480 with 1 Axes>"
      ]
     },
     "metadata": {},
     "output_type": "display_data"
    },
    {
     "data": {
      "text/plain": [
       "<Figure size 640x480 with 0 Axes>"
      ]
     },
     "metadata": {},
     "output_type": "display_data"
    },
    {
     "data": {
      "image/png": "[encoded data removed]",
      "text/plain": [
       "<Figure size 640x480 with 1 Axes>"
      ]
     },
     "metadata": {},
     "output_type": "display_data"
    },
    {
     "data": {
      "text/plain": [
       "<Figure size 640x480 with 0 Axes>"
      ]
     },
     "metadata": {},
     "output_type": "display_data"
    }
   ],
   "source": [
    "# plotting losses\n",
    "dir_name_plot = dir_name_ae + '/plots'\n",
    "if not os.path.isdir(dir_name_plot):\n",
    "    os.makedirs(dir_name_plot)\n",
    "\n",
    "# Visualize loss history\n",
    "fig, ax = plot_losses(\n",
    "    training_loss=train_loss_hist,\n",
    "    val_loss=val_loss_hist,\n",
    "    lr_change=lr_change,\n",
    "    learning_rate_list=learning_rate_list\n",
    ")\n",
    "\n",
    "plt.savefig(dir_name_plot + '{ds}loss_history.png'.format(ds=dir_sep), dpi=300, bbox_inches='tight')\n",
    "plt.show()\n",
    "\n",
    "\n",
    "fig, ax = plot_losses(\n",
    "    training_loss=train_MSE_hist,\n",
    "    val_loss=val_MSE_hist,\n",
    "    lr_change=lr_change,\n",
    "    learning_rate_list=learning_rate_list,\n",
    "    legend_list=['Training MSE', 'Validation MSE'],\n",
    "    xlabel='Epoch',\n",
    "    ylabel='MSE',\n",
    ")\n",
    "plt.savefig(dir_name_plot+'/MSE_history.png', dpi=300, bbox_inches='tight')\n",
    "plt.show()\n",
    "plt.clf()\n",
    "\n",
    "\n",
    "fig, ax = plot_losses(\n",
    "    training_loss=train_NMSE_hist,\n",
    "    val_loss=val_NMSE_hist,\n",
    "    lr_change=lr_change,\n",
    "    learning_rate_list=learning_rate_list,\n",
    "    legend_list=['Training NMSE', 'Validation NMSE'],\n",
    "    xlabel='Epoch',\n",
    "    ylabel='NMSE',\n",
    ")\n",
    "plt.savefig(dir_name_plot+'/NMSE_history.png', dpi=300, bbox_inches='tight')\n",
    "plt.show()\n",
    "plt.clf()\n",
    "\n",
    "\n",
    "fig, ax = plot_losses(\n",
    "    training_loss=train_ls_jacobian_norm_hist,\n",
    "    val_loss=None,\n",
    "    lr_change=lr_change,\n",
    "    learning_rate_list=learning_rate_list,\n",
    "    legend_list=[r\"$\\| \\nabla_{x} z^{encoded} \\|$\"],\n",
    "    xlabel='Epoch',\n",
    "    ylabel=r\"$\\| \\nabla_{x} v^{encoded} \\|$\",\n",
    "    plot_type='plot',\n",
    ")\n",
    "plt.savefig(dir_name_plot+'/train_ls_jacobian_norm_hist.png', dpi=300, bbox_inches='tight')\n",
    "plt.show()\n",
    "plt.clf()"
   ]
  },
  {
   "cell_type": "code",
   "execution_count": 40,
   "metadata": {
    "colab": {
     "base_uri": "https://localhost:8080/"
    },
    "executionInfo": {
     "elapsed": 881,
     "status": "ok",
     "timestamp": 1666788877562,
     "user": {
      "displayName": "Rohan Kaushik",
      "userId": "13918477614376051685"
     },
     "user_tz": -120
    },
    "id": "wwt4brHcOaXi",
    "outputId": "7ba39105-aa8e-49e8-dbfd-619069123fdd"
   },
   "outputs": [],
   "source": [
    "reconstructed_data = ae_net.predict(all_data)"
   ]
  },
  {
   "cell_type": "code",
   "execution_count": 41,
   "metadata": {
    "colab": {
     "base_uri": "https://localhost:8080/",
     "height": 1000,
     "output_embedded_package_id": "1kzRwBdNfA2o28NxHkc2fku7QnFPAI8Bo"
    },
    "executionInfo": {
     "elapsed": 4835,
     "status": "ok",
     "timestamp": 1666788882395,
     "user": {
      "displayName": "Rohan Kaushik",
      "userId": "13918477614376051685"
     },
     "user_tz": -120
    },
    "id": "_6rNhThyQrKc",
    "outputId": "fdeeb3f5-009a-404e-8856-b7655d596a88"
   },
   "outputs": [],
   "source": [
    "plot_reconstructed_data_cdv(\n",
    "    boundary_idx_arr,\n",
    "    dir_name_ae,\n",
    "    all_data,\n",
    "    reconstructed_data,\n",
    "    params_mat,\n",
    "    delta_t,\n",
    "    save_figs=True)"
   ]
  },
  {
   "cell_type": "code",
   "execution_count": null,
   "metadata": {
    "executionInfo": {
     "elapsed": 17515,
     "status": "ok",
     "timestamp": 1666788899903,
     "user": {
      "displayName": "Rohan Kaushik",
      "userId": "13918477614376051685"
     },
     "user_tz": -120
    },
    "id": "cAiMV0iU0EpK"
   },
   "outputs": [],
   "source": []
  },
  {
   "cell_type": "code",
   "execution_count": null,
   "metadata": {
    "scrolled": true
   },
   "outputs": [],
   "source": []
  },
  {
   "cell_type": "code",
   "execution_count": 42,
   "metadata": {
    "colab": {
     "base_uri": "https://localhost:8080/"
    },
    "executionInfo": {
     "elapsed": 600,
     "status": "ok",
     "timestamp": 1666788900494,
     "user": {
      "displayName": "Rohan Kaushik",
      "userId": "13918477614376051685"
     },
     "user_tz": -120
    },
    "id": "jVqsAwsY0Amw",
    "outputId": "95dd7bc9-f2b0-421e-a1b4-3e7e594cd44a"
   },
   "outputs": [],
   "source": [
    "# create data\n",
    "latent_states_all = ae_net.encoder_net.predict(all_data)"
   ]
  },
  {
   "cell_type": "code",
   "execution_count": 43,
   "metadata": {
    "colab": {
     "base_uri": "https://localhost:8080/",
     "height": 1000
    },
    "executionInfo": {
     "elapsed": 2127,
     "status": "ok",
     "timestamp": 1666788902619,
     "user": {
      "displayName": "Rohan Kaushik",
      "userId": "13918477614376051685"
     },
     "user_tz": -120
    },
    "id": "wjgPNitSrt5p",
    "outputId": "d60c9340-28f4-479b-8b66-5ee2a5fc5cee"
   },
   "outputs": [
    {
     "data": {
      "image/png": "[encoded data removed]",
      "text/plain": [
       "<Figure size 750x500 with 2 Axes>"
      ]
     },
     "metadata": {},
     "output_type": "display_data"
    }
   ],
   "source": [
    "fig, ax = plot_latent_states_cdv(\n",
    "    boundary_idx_arr,\n",
    "    latent_states_all,\n",
    "    delta_t,\n",
    "    params_mat,\n",
    "    save_config_path=dir_name_plot)\n",
    "fig.savefig(dir_name_plot+'/latent_states.png', dpi=300, bbox_inches='tight')"
   ]
  },
  {
   "cell_type": "code",
   "execution_count": 44,
   "metadata": {
    "executionInfo": {
     "elapsed": 5242,
     "status": "ok",
     "timestamp": 1666788907858,
     "user": {
      "displayName": "Rohan Kaushik",
      "userId": "13918477614376051685"
     },
     "user_tz": -120
    },
    "id": "Jv8PgBgzV1_s"
   },
   "outputs": [],
   "source": [
    "# fig.savefig(dir_name_plot+'/latent_states.png', dpi=300, bbox_inches='tight')"
   ]
  },
  {
   "cell_type": "code",
   "execution_count": 45,
   "metadata": {
    "executionInfo": {
     "elapsed": 17,
     "status": "ok",
     "timestamp": 1666788907859,
     "user": {
      "displayName": "Rohan Kaushik",
      "userId": "13918477614376051685"
     },
     "user_tz": -120
    },
    "id": "wnLnqg0Jrt5t"
   },
   "outputs": [],
   "source": [
    "# ae_net.summary()"
   ]
  },
  {
   "cell_type": "code",
   "execution_count": null,
   "metadata": {
    "scrolled": true
   },
   "outputs": [],
   "source": []
  },
  {
   "cell_type": "markdown",
   "metadata": {},
   "source": [
    "# KE and Dissipation"
   ]
  },
  {
   "cell_type": "code",
   "execution_count": null,
   "metadata": {},
   "outputs": [],
   "source": []
  },
  {
   "cell_type": "code",
   "execution_count": null,
   "metadata": {},
   "outputs": [],
   "source": []
  },
  {
   "cell_type": "code",
   "execution_count": null,
   "metadata": {},
   "outputs": [],
   "source": []
  },
  {
   "cell_type": "code",
   "execution_count": null,
   "metadata": {},
   "outputs": [],
   "source": []
  },
  {
   "cell_type": "code",
   "execution_count": null,
   "metadata": {},
   "outputs": [],
   "source": []
  },
  {
   "cell_type": "code",
   "execution_count": null,
   "metadata": {},
   "outputs": [],
   "source": []
  },
  {
   "cell_type": "code",
   "execution_count": null,
   "metadata": {},
   "outputs": [],
   "source": []
  },
  {
   "cell_type": "code",
   "execution_count": null,
   "metadata": {},
   "outputs": [],
   "source": []
  },
  {
   "cell_type": "code",
   "execution_count": 46,
   "metadata": {},
   "outputs": [
    {
     "name": "stdout",
     "output_type": "stream",
     "text": [
      "<tf.Variable 'single_weights/individual_weights:0' shape=(6,) dtype=float32, numpy=\n",
      "array([1.4197407, 1.8039479, 0.937332 , 1.2379377, 2.080841 , 1.2862147],\n",
      "      dtype=float32)>\n"
     ]
    }
   ],
   "source": [
    "if ae_net.use_weights_post_dense == True:\n",
    "    print(ae_net.decoder_layers_list[-1].individual_weights)"
   ]
  },
  {
   "cell_type": "code",
   "execution_count": null,
   "metadata": {},
   "outputs": [],
   "source": []
  }
 ],
 "metadata": {
  "colab": {
   "collapsed_sections": [],
   "provenance": []
  },
  "gpuClass": "standard",
  "kernelspec": {
   "display_name": "Python 3 (ipykernel)",
   "language": "python",
   "name": "python3"
  },
  "language_info": {
   "codemirror_mode": {
    "name": "ipython",
    "version": 3
   },
   "file_extension": ".py",
   "mimetype": "text/x-python",
   "name": "python",
   "nbconvert_exporter": "python",
   "pygments_lexer": "ipython3",
   "version": "3.10.6"
  }
 },
 "nbformat": 4,
 "nbformat_minor": 1
}
