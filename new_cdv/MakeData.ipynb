{
 "cells": [
  {
   "cell_type": "code",
   "execution_count": 1,
   "metadata": {
    "executionInfo": {
     "elapsed": 4,
     "status": "ok",
     "timestamp": 1667835216146,
     "user": {
      "displayName": "Rohan Kaushik",
      "userId": "13918477614376051685"
     },
     "user_tz": -60
    },
    "id": "4xhxMpe_r-Y5"
   },
   "outputs": [],
   "source": [
    "# enabling 3rd party widgets\n",
    "# from google.colab import output\n",
    "# output.enable_custom_widget_manager()\n",
    "# output.disable_custom_widget_manager()\n",
    "\n",
    "# interactive 3D plot\n",
    "# !pip install ipympl\n",
    "# %matplotlib widget"
   ]
  },
  {
   "cell_type": "code",
   "execution_count": 2,
   "metadata": {
    "executionInfo": {
     "elapsed": 5229,
     "status": "ok",
     "timestamp": 1667835221372,
     "user": {
      "displayName": "Rohan Kaushik",
      "userId": "13918477614376051685"
     },
     "user_tz": -60
    },
    "id": "a5qPupCDsjSz"
   },
   "outputs": [],
   "source": [
    "import os\n",
    "import math\n",
    "import numpy as np\n",
    "import matplotlib.pyplot as plt\n",
    "\n",
    "import time as time\n",
    "import platform as platform\n",
    "\n",
    "import h5py"
   ]
  },
  {
   "cell_type": "code",
   "execution_count": 3,
   "metadata": {
    "executionInfo": {
     "elapsed": 6,
     "status": "ok",
     "timestamp": 1667835221372,
     "user": {
      "displayName": "Rohan Kaushik",
      "userId": "13918477614376051685"
     },
     "user_tz": -60
    },
    "id": "3AVrZNGlZu4Z"
   },
   "outputs": [],
   "source": [
    "colab_flag = False\n",
    "\n",
    "strategy = None\n",
    "# strategy = tf.distribute.MirroredStrategy()"
   ]
  },
  {
   "cell_type": "code",
   "execution_count": 4,
   "metadata": {
    "executionInfo": {
     "elapsed": 6,
     "status": "ok",
     "timestamp": 1667835221373,
     "user": {
      "displayName": "Rohan Kaushik",
      "userId": "13918477614376051685"
     },
     "user_tz": -60
    },
    "id": "SxAd7iDL0Ami"
   },
   "outputs": [],
   "source": [
    "current_sys = platform.system()\n",
    "\n",
    "if current_sys == 'Windows':\n",
    "    dir_sep = '\\\\'\n",
    "else:\n",
    "    dir_sep = '/'"
   ]
  },
  {
   "cell_type": "code",
   "execution_count": 5,
   "metadata": {
    "colab": {
     "base_uri": "https://localhost:8080/"
    },
    "executionInfo": {
     "elapsed": 1436,
     "status": "ok",
     "timestamp": 1667835222803,
     "user": {
      "displayName": "Rohan Kaushik",
      "userId": "13918477614376051685"
     },
     "user_tz": -60
    },
    "id": "JjNnPRuk0IIX",
    "outputId": "5925d1cb-1395-4d17-af03-237a121bd46d"
   },
   "outputs": [],
   "source": [
    "if colab_flag == True:\n",
    "    from google.colab import drive\n",
    "    drive.mount('/content/drive')\n",
    "    os.chdir('/content/drive/MyDrive/Github/MLROM/KS/')"
   ]
  },
  {
   "cell_type": "code",
   "execution_count": 6,
   "metadata": {
    "colab": {
     "base_uri": "https://localhost:8080/"
    },
    "executionInfo": {
     "elapsed": 9,
     "status": "ok",
     "timestamp": 1667835222803,
     "user": {
      "displayName": "Rohan Kaushik",
      "userId": "13918477614376051685"
     },
     "user_tz": -60
    },
    "id": "9REiGIIy0IzV",
    "outputId": "41ed12f4-29aa-408a-ecf7-c8c10cbc7c1d"
   },
   "outputs": [
    {
     "name": "stdout",
     "output_type": "stream",
     "text": [
      "/home/rkaushik/Documents/Thesis/MLROM/new_cdv\n"
     ]
    }
   ],
   "source": [
    "print(os.getcwd())"
   ]
  },
  {
   "cell_type": "code",
   "execution_count": 7,
   "metadata": {
    "executionInfo": {
     "elapsed": 8,
     "status": "ok",
     "timestamp": 1667835222804,
     "user": {
      "displayName": "Rohan Kaushik",
      "userId": "13918477614376051685"
     },
     "user_tz": -60
    },
    "id": "8S1AHEkl48bn"
   },
   "outputs": [],
   "source": [
    "from tools.misc_tools import create_CDV_data, compute_lyapunov_spectrum"
   ]
  },
  {
   "cell_type": "code",
   "execution_count": null,
   "metadata": {
    "executionInfo": {
     "elapsed": 8,
     "status": "ok",
     "timestamp": 1667835222804,
     "user": {
      "displayName": "Rohan Kaushik",
      "userId": "13918477614376051685"
     },
     "user_tz": -60
    },
    "id": "-mIQj_v4gzMh"
   },
   "outputs": [],
   "source": []
  },
  {
   "cell_type": "code",
   "execution_count": 8,
   "metadata": {
    "executionInfo": {
     "elapsed": 9,
     "status": "ok",
     "timestamp": 1667835222805,
     "user": {
      "displayName": "Rohan Kaushik",
      "userId": "13918477614376051685"
     },
     "user_tz": -60
    },
    "id": "QL5n-abCg0nI"
   },
   "outputs": [],
   "source": [
    "# setting seed for PRNGs\n",
    "prng_seed = 42\n",
    "np.random.seed(prng_seed)\n",
    "\n",
    "FTYPE = np.float64\n",
    "ITYPE = np.int64"
   ]
  },
  {
   "cell_type": "code",
   "execution_count": null,
   "metadata": {
    "colab": {
     "base_uri": "https://localhost:8080/",
     "height": 35
    },
    "executionInfo": {
     "elapsed": 8,
     "status": "ok",
     "timestamp": 1667835222805,
     "user": {
      "displayName": "Rohan Kaushik",
      "userId": "13918477614376051685"
     },
     "user_tz": -60
    },
    "id": "tc3zO9xL_tNl",
    "outputId": "e164d4fe-a18e-4aab-b626-767477e62346"
   },
   "outputs": [],
   "source": []
  },
  {
   "cell_type": "markdown",
   "metadata": {
    "id": "7UbdnOtc4_z9"
   },
   "source": [
    "# Lorenz System"
   ]
  },
  {
   "cell_type": "code",
   "execution_count": null,
   "metadata": {},
   "outputs": [],
   "source": []
  },
  {
   "cell_type": "code",
   "execution_count": 9,
   "metadata": {
    "executionInfo": {
     "elapsed": 284,
     "status": "ok",
     "timestamp": 1667835223082,
     "user": {
      "displayName": "Rohan Kaushik",
      "userId": "13918477614376051685"
     },
     "user_tz": -60
    },
    "id": "xcNgt4hqg6Xv",
    "scrolled": false
   },
   "outputs": [
    {
     "name": "stdout",
     "output_type": "stream",
     "text": [
      "[[ 0.95    -0.76095  0.1      1.25     0.2      0.5    ]]\n"
     ]
    }
   ],
   "source": [
    "# setting up params (and saving, if applicable)\n",
    "params_mat = np.array([\n",
    "    [0.95, -0.76095, 0.1, 1.25, 0.2, 0.5],\n",
    "#     [0.99, -0.801*0.99, 0.1, 1.25, 0.2, 0.5]\n",
    "])\n",
    "print(params_mat)\n",
    "num_cases = params_mat.shape[0]\n",
    "\n",
    "t0 = 0.0\n",
    "T = 51000.0\n",
    "delta_t = 0.1\n",
    "\n",
    "return_params_arr = False\n",
    "normalize_flag = False\n",
    "alldata_withparams_flag = False\n",
    "\n",
    "init_state = np.array([0.9, 0.2, -0.1, -0.5, -0.2, 0.2], dtype=FTYPE)"
   ]
  },
  {
   "cell_type": "markdown",
   "metadata": {
    "id": "Db0_RQerLZDX"
   },
   "source": [
    "### Creating initial data, for transient inspection and cutoff"
   ]
  },
  {
   "cell_type": "code",
   "execution_count": 10,
   "metadata": {
    "executionInfo": {
     "elapsed": 1901,
     "status": "ok",
     "timestamp": 1667835224981,
     "user": {
      "displayName": "Rohan Kaushik",
      "userId": "13918477614376051685"
     },
     "user_tz": -60
    },
    "id": "uDhfYHU45IS8"
   },
   "outputs": [
    {
     "name": "stdout",
     "output_type": "stream",
     "text": [
      "time_creation : 134 s\n"
     ]
    }
   ],
   "source": [
    "time_creation = time.time()\n",
    "res_dict = create_CDV_data(\n",
    "    T, t0, delta_t, \n",
    "    params_mat, init_state,\n",
    "    return_params_arr=return_params_arr,\n",
    "    normalize=normalize_flag,\n",
    "    alldata_withparams=alldata_withparams_flag, FTYPE=FTYPE, ITYPE=ITYPE\n",
    ")\n",
    "time_creation = time.time() - time_creation\n",
    "print('time_creation : {:.0f} s'.format(time_creation))\n",
    "\n",
    "all_data = res_dict['all_data']\n",
    "N = res_dict['N']\n",
    "boundary_idx_arr = res_dict['boundary_idx_arr']\n",
    "params_arr = res_dict['params_arr']\n",
    "normalization_constant_arr = res_dict['normalization_constant_arr']"
   ]
  },
  {
   "cell_type": "code",
   "execution_count": null,
   "metadata": {
    "executionInfo": {
     "elapsed": 5,
     "status": "ok",
     "timestamp": 1667835224981,
     "user": {
      "displayName": "Rohan Kaushik",
      "userId": "13918477614376051685"
     },
     "user_tz": -60
    },
    "id": "59kkrSP1GvzO"
   },
   "outputs": [],
   "source": []
  },
  {
   "cell_type": "code",
   "execution_count": null,
   "metadata": {
    "colab": {
     "base_uri": "https://localhost:8080/",
     "height": 1000
    },
    "executionInfo": {
     "elapsed": 3565,
     "status": "ok",
     "timestamp": 1667835228542,
     "user": {
      "displayName": "Rohan Kaushik",
      "userId": "13918477614376051685"
     },
     "user_tz": -60
    },
    "id": "Rt6uWhERbAV_",
    "outputId": "ad148898-4dad-4e06-e79f-a16a7b7130ff",
    "scrolled": false
   },
   "outputs": [],
   "source": []
  },
  {
   "cell_type": "code",
   "execution_count": 11,
   "metadata": {
    "executionInfo": {
     "elapsed": 10,
     "status": "ok",
     "timestamp": 1667835228543,
     "user": {
      "displayName": "Rohan Kaushik",
      "userId": "13918477614376051685"
     },
     "user_tz": -60
    },
    "id": "9fqESpG_d8CI"
   },
   "outputs": [],
   "source": [
    "# making relevant helper arrays to cut off initial transient\n",
    "initial_t0 = 1000\n",
    "T -= initial_t0\n",
    "\n",
    "\n",
    "initial_t0 = np.array(\n",
    "    [initial_t0]*params_mat.shape[0], dtype=FTYPE) # try to keep all entries the same\n",
    "initial_idx = np.zeros_like(initial_t0, dtype=ITYPE)\n",
    "\n",
    "begin_idx = 0\n",
    "len_relevant_idx = 0\n",
    "for i in range(len(initial_t0)):\n",
    "    init_idx = ITYPE( (initial_t0[i] + 0.5*delta_t)//delta_t )\n",
    "    initial_idx[i] = init_idx + begin_idx\n",
    "    len_relevant_idx += boundary_idx_arr[i] - initial_idx[i]\n",
    "    begin_idx = boundary_idx_arr[i]\n",
    "\n",
    "relevant_idx = np.empty(shape=len_relevant_idx, dtype=ITYPE)\n",
    "start = 0\n",
    "for i in range(len(initial_t0)):\n",
    "    end = start + (boundary_idx_arr[i] - initial_idx[i])\n",
    "    relevant_idx[start:end] = np.arange(initial_idx[i], boundary_idx_arr[i])\n",
    "    start = end"
   ]
  },
  {
   "cell_type": "code",
   "execution_count": 12,
   "metadata": {
    "colab": {
     "base_uri": "https://localhost:8080/"
    },
    "executionInfo": {
     "elapsed": 9,
     "status": "ok",
     "timestamp": 1667835228543,
     "user": {
      "displayName": "Rohan Kaushik",
      "userId": "13918477614376051685"
     },
     "user_tz": -60
    },
    "id": "wDnYk3U0EAwY",
    "outputId": "77bf33cc-dde4-4f71-dcd4-f204ca244302"
   },
   "outputs": [
    {
     "name": "stdout",
     "output_type": "stream",
     "text": [
      "boundary_idx_arr : [510001]\n",
      "initial_idx : [10000]\n"
     ]
    }
   ],
   "source": [
    "print('boundary_idx_arr :', boundary_idx_arr)\n",
    "print('initial_idx :', initial_idx)"
   ]
  },
  {
   "cell_type": "code",
   "execution_count": 13,
   "metadata": {
    "executionInfo": {
     "elapsed": 8,
     "status": "ok",
     "timestamp": 1667835228544,
     "user": {
      "displayName": "Rohan Kaushik",
      "userId": "13918477614376051685"
     },
     "user_tz": -60
    },
    "id": "ivUYhrpWgtPQ"
   },
   "outputs": [],
   "source": [
    "# cutting off initial transient\n",
    "all_data = all_data[relevant_idx]\n",
    "# init_idx = 0\n",
    "# for i in range(len(boundary_idx_arr)):\n",
    "#     init_idx += (initial_t0[i] + 0.25*delta_t)//delta_t\n",
    "#     boundary_idx_arr[i] -= init_idx\n",
    "\n",
    "prev_boundary_idx = 0\n",
    "for i in range(num_cases):\n",
    "    boundary_idx_arr[i] = prev_boundary_idx + (boundary_idx_arr[i] - initial_idx[i])\n",
    "    prev_boundary_idx = boundary_idx_arr[i]"
   ]
  },
  {
   "cell_type": "code",
   "execution_count": 14,
   "metadata": {
    "colab": {
     "base_uri": "https://localhost:8080/"
    },
    "executionInfo": {
     "elapsed": 7,
     "status": "ok",
     "timestamp": 1667835228544,
     "user": {
      "displayName": "Rohan Kaushik",
      "userId": "13918477614376051685"
     },
     "user_tz": -60
    },
    "id": "xURwJI6GD8lw",
    "outputId": "5491b0b4-3d0d-42e0-f345-f4980905a629"
   },
   "outputs": [
    {
     "data": {
      "text/plain": [
       "array([500001])"
      ]
     },
     "execution_count": 14,
     "metadata": {},
     "output_type": "execute_result"
    }
   ],
   "source": [
    "boundary_idx_arr"
   ]
  },
  {
   "cell_type": "markdown",
   "metadata": {
    "colab": {
     "base_uri": "https://localhost:8080/",
     "height": 1000
    },
    "executionInfo": {
     "elapsed": 2476,
     "status": "ok",
     "timestamp": 1667835231015,
     "user": {
      "displayName": "Rohan Kaushik",
      "userId": "13918477614376051685"
     },
     "user_tz": -60
    },
    "id": "1KcW3uc7eJtI",
    "outputId": "f6956099-1234-49e8-8032-9bf4fd6ea990",
    "scrolled": false
   },
   "source": [
    "### Saving the data"
   ]
  },
  {
   "cell_type": "code",
   "execution_count": 15,
   "metadata": {},
   "outputs": [
    {
     "name": "stdout",
     "output_type": "stream",
     "text": [
      "dir_name_data: /home/rkaushik/Documents/Thesis/MLROM/new_cdv/saved_data/data_004\n"
     ]
    }
   ],
   "source": [
    "# making ae save directory\n",
    "dir_name_data = os.getcwd() + dir_sep + 'saved_data'\n",
    "if not os.path.isdir(dir_name_data):\n",
    "    os.makedirs(dir_name_data)\n",
    "\n",
    "counter = 0\n",
    "while True:\n",
    "    dir_check = 'data_' + str(counter).zfill(3)\n",
    "    if os.path.isdir(dir_name_data + dir_sep + dir_check):\n",
    "        counter += 1\n",
    "    else:\n",
    "        break\n",
    "\n",
    "dir_name_data = dir_name_data + dir_sep + dir_check\n",
    "os.makedirs(dir_name_data)\n",
    "print('dir_name_data:', dir_name_data)\n",
    "\n",
    "\n",
    "# saving sim data\n",
    "sim_data = {\n",
    "    'params_mat':params_mat,\n",
    "    't0':t0,\n",
    "    'T':T,\n",
    "    'delta_t':delta_t,\n",
    "    'return_params_arr':return_params_arr,\n",
    "    'normalize_flag':normalize_flag,\n",
    "    'alldata_withparams_flag':alldata_withparams_flag,\n",
    "    'prng_seed':prng_seed,\n",
    "}\n",
    "with open(dir_name_data+dir_sep+'sim_data_params.txt', 'w') as f:\n",
    "    f.write(str(sim_data))"
   ]
  },
  {
   "cell_type": "code",
   "execution_count": 16,
   "metadata": {},
   "outputs": [],
   "source": [
    "# saving the data\n",
    "np.savez(\n",
    "    dir_name_data+dir_sep+'data',\n",
    "    all_data=all_data,\n",
    "    boundary_idx_arr=boundary_idx_arr,\n",
    "    normalization_constant_arr=[normalization_constant_arr],\n",
    "    initial_t0=initial_t0,\n",
    "    init_state_org=init_state,\n",
    "    # init_state_mat=init_state_mat,\n",
    "    # lyapunov_spectrum_mat=lpspectrum_mat,\n",
    "    )"
   ]
  },
  {
   "cell_type": "markdown",
   "metadata": {
    "id": "OjW1bWb9Llgq"
   },
   "source": [
    "### Computing the Lyapunov spectrum"
   ]
  },
  {
   "cell_type": "code",
   "execution_count": 17,
   "metadata": {
    "colab": {
     "base_uri": "https://localhost:8080/"
    },
    "executionInfo": {
     "elapsed": 795474,
     "status": "ok",
     "timestamp": 1667836026484,
     "user": {
      "displayName": "Rohan Kaushik",
      "userId": "13918477614376051685"
     },
     "user_tz": -60
    },
    "id": "vyITXxqHlUiK",
    "outputId": "f1a05587-cde0-4791-af47-9ea2da73c8d4",
    "scrolled": true
   },
   "outputs": [
    {
     "name": "stdout",
     "output_type": "stream",
     "text": [
      "dy_mat[0] : 3.7248332512042945e-10\n",
      "\n",
      "number of evaluation intervals per case: 10000\n",
      "\n",
      "case 1 completion_ratio : 0.1, elapsed_time : 19.177s, global_completion : 10.0%\n",
      "case 1 completion_ratio : 0.2, elapsed_time : 37.942s, global_completion : 20.0%\n",
      "case 1 completion_ratio : 0.3, elapsed_time : 56.877s, global_completion : 30.0%\n",
      "case 1 completion_ratio : 0.4, elapsed_time : 76.252s, global_completion : 40.0%\n",
      "case 1 completion_ratio : 0.5, elapsed_time : 95.375s, global_completion : 50.0%\n",
      "case 1 completion_ratio : 0.6, elapsed_time : 114.877s, global_completion : 60.0%\n",
      "case 1 completion_ratio : 0.7, elapsed_time : 134.298s, global_completion : 70.0%\n",
      "case 1 completion_ratio : 0.8, elapsed_time : 153.546s, global_completion : 80.0%\n",
      "case 1 completion_ratio : 0.9, elapsed_time : 171.811s, global_completion : 90.0%\n",
      "case 1 completion_ratio : 1.0, elapsed_time : 190.24s, global_completion : 100.0%\n",
      "case 1 MLE : 0.027087\n",
      "\n"
     ]
    }
   ],
   "source": [
    "cdf_kwargs = {\n",
    "    'T':10000,\n",
    "    't0':0,\n",
    "    'delta_t':delta_t,\n",
    "    'return_params_arr':False,\n",
    "    'normalize':False,\n",
    "    'alldata_withparams':False,\n",
    "    'FTYPE':np.float64,\n",
    "    'ITYPE':np.int64\n",
    "}\n",
    "\n",
    "create_data_fn = create_CDV_data\n",
    "num_modes = 6\n",
    "\n",
    "init_state_mat = np.empty(shape=(num_cases, num_modes), dtype=FTYPE)\n",
    "begin_idx = 0\n",
    "for i in range(num_cases):\n",
    "    init_state_mat[i, :] = all_data[begin_idx, 0:num_modes]\n",
    "    begin_idx = boundary_idx_arr[i]\n",
    "\n",
    "dy = 1e-9\n",
    "dy_mat = np.empty(shape=num_cases, dtype=FTYPE)\n",
    "begin_idx = 0\n",
    "for i in range(num_cases):\n",
    "    # dy_mat[i] = dy * np.mean(  np.linalg.norm( all_data[begin_idx:boundary_idx_arr[i]], axis=1 )/xgrid.shape[0]  ) timeMean of spaceMeanofSpaceNorm\n",
    "    # dy_mat[i] = dy * np.mean( np.linalg.norm( all_data[begin_idx:boundary_idx_arr[i], 0:num_modes], axis=0 )/( (boundary_idx_arr[i]-begin_idx)**0.5 ) ) # spaceMean of timeRMS\n",
    "    dy_mat[i] = np.mean( np.mean(all_data[begin_idx:boundary_idx_arr[i], 0:num_modes]**2, axis=0)**0.5 )\n",
    "    # print(dy_mat[i])\n",
    "    dy_mat[i] *= dy\n",
    "    begin_idx = boundary_idx_arr[i]\n",
    "    print('dy_mat[{}] :'.format(i), dy_mat[i])\n",
    "print('')\n",
    "\n",
    "# cleaning up\n",
    "del(all_data)\n",
    "del(boundary_idx_arr)\n",
    "del(params_arr)\n",
    "del(normalization_constant_arr)\n",
    "del(relevant_idx)\n",
    "del(res_dict)\n",
    "\n",
    "lpspectrum_mat, _ = compute_lyapunov_spectrum(\n",
    "    create_data_fn, cdf_kwargs, num_modes, \n",
    "    init_state_mat, params_mat, dy_mat,\n",
    "    zeta=10, delta_completionratio=0.1, num_exp=None, print_flag=True)"
   ]
  },
  {
   "cell_type": "code",
   "execution_count": 18,
   "metadata": {
    "executionInfo": {
     "elapsed": 12,
     "status": "ok",
     "timestamp": 1667836026485,
     "user": {
      "displayName": "Rohan Kaushik",
      "userId": "13918477614376051685"
     },
     "user_tz": -60
    },
    "id": "1MjUlS8KsezG"
   },
   "outputs": [],
   "source": [
    "lpspectrum_mat.sort(axis=1)\n",
    "lpspectrum_mat = lpspectrum_mat[:, -1::-1]"
   ]
  },
  {
   "cell_type": "code",
   "execution_count": 19,
   "metadata": {
    "colab": {
     "base_uri": "https://localhost:8080/"
    },
    "executionInfo": {
     "elapsed": 9,
     "status": "ok",
     "timestamp": 1667836026486,
     "user": {
      "displayName": "Rohan Kaushik",
      "userId": "13918477614376051685"
     },
     "user_tz": -60
    },
    "id": "biT9BbTIzh4F",
    "outputId": "97716f51-97cc-4798-8185-7d26a09b6e6e"
   },
   "outputs": [
    {
     "name": "stdout",
     "output_type": "stream",
     "text": [
      "[0.02708692]\n"
     ]
    }
   ],
   "source": [
    "print(lpspectrum_mat[:, 0])"
   ]
  },
  {
   "cell_type": "code",
   "execution_count": 20,
   "metadata": {},
   "outputs": [],
   "source": [
    "def find_DKY(lp_spectrum):\n",
    "    # lp_spectrum is sorted largest to smallest\n",
    "    running_sum = np.empty_like(lp_spectrum)\n",
    "    running_sum[:] = lp_spectrum\n",
    "    for i in range(1, lp_spectrum.shape[0]):\n",
    "        running_sum[i] += running_sum[i-1]\n",
    "    idx = np.where(running_sum >= 0)[0]\n",
    "    idx.sort()\n",
    "    idx = idx[-1]\n",
    "    DKY = (idx+1) + running_sum[idx]/np.abs(lp_spectrum[idx+1])\n",
    "    return DKY"
   ]
  },
  {
   "cell_type": "code",
   "execution_count": 21,
   "metadata": {},
   "outputs": [
    {
     "name": "stdout",
     "output_type": "stream",
     "text": [
      "2.321165029661567 [ 0.02708692 -0.00164554 -0.07921591 -0.10164063 -0.21914134 -0.22544346]\n"
     ]
    }
   ],
   "source": [
    "DKY_lst = []\n",
    "for i in range(lpspectrum_mat.shape[0]):\n",
    "    DKY = find_DKY(lpspectrum_mat[i])\n",
    "    print(DKY, lpspectrum_mat[i])\n",
    "    DKY_lst.append(DKY)"
   ]
  },
  {
   "cell_type": "markdown",
   "metadata": {
    "id": "Rf_XeTS4Lr4B"
   },
   "source": [
    "### Computing new data based on 'initial states' from the transient cutoffs and total time from mean Lyapunov time"
   ]
  },
  {
   "cell_type": "code",
   "execution_count": 22,
   "metadata": {},
   "outputs": [],
   "source": [
    "with np.load(dir_name_data+dir_sep+'data.npz', allow_pickle=True) as fl:\n",
    "    all_data = np.array(fl['all_data'])\n",
    "    boundary_idx_arr = np.array(fl['boundary_idx_arr'])\n",
    "    normalization_constant_arr = np.array(fl['normalization_constant_arr'])\n",
    "    initial_t0 = np.array(fl['initial_t0'])\n",
    "    init_state_org = np.array(fl['init_state_org'])"
   ]
  },
  {
   "cell_type": "code",
   "execution_count": 23,
   "metadata": {
    "executionInfo": {
     "elapsed": 7839,
     "status": "ok",
     "timestamp": 1667836034319,
     "user": {
      "displayName": "Rohan Kaushik",
      "userId": "13918477614376051685"
     },
     "user_tz": -60
    },
    "id": "_4YpGszrIOVY"
   },
   "outputs": [],
   "source": [
    "# saving the data\n",
    "np.savez(\n",
    "    dir_name_data+dir_sep+'data',\n",
    "    all_data=all_data,\n",
    "    boundary_idx_arr=boundary_idx_arr,\n",
    "    normalization_constant_arr=normalization_constant_arr,\n",
    "    initial_t0=initial_t0,\n",
    "    init_state_org=init_state_org,\n",
    "    init_state_mat=init_state_mat,\n",
    "    lyapunov_spectrum_mat=lpspectrum_mat,\n",
    "    DKY_lst=np.array(DKY_lst)\n",
    ")"
   ]
  },
  {
   "cell_type": "code",
   "execution_count": 24,
   "metadata": {
    "colab": {
     "base_uri": "https://localhost:8080/"
    },
    "executionInfo": {
     "elapsed": 6,
     "status": "ok",
     "timestamp": 1667836034320,
     "user": {
      "displayName": "Rohan Kaushik",
      "userId": "13918477614376051685"
     },
     "user_tz": -60
    },
    "id": "2FJ4ns1a3wBK",
    "outputId": "956e72ef-0fcd-4ef2-c86a-0ca34264537c"
   },
   "outputs": [],
   "source": [
    "lp_dict = {\n",
    "    'lp_exp':list(lpspectrum_mat),\n",
    "    'DKY_lst':list(DKY_lst),\n",
    "}\n",
    "with open(dir_name_data+dir_sep+'lp_exp.txt', 'w') as f:\n",
    "    f.write(str(lp_dict))"
   ]
  },
  {
   "cell_type": "code",
   "execution_count": null,
   "metadata": {
    "executionInfo": {
     "elapsed": 5,
     "status": "ok",
     "timestamp": 1667836034321,
     "user": {
      "displayName": "Rohan Kaushik",
      "userId": "13918477614376051685"
     },
     "user_tz": -60
    },
    "id": "-MJa7P5t5KiC",
    "scrolled": false
   },
   "outputs": [],
   "source": []
  },
  {
   "cell_type": "code",
   "execution_count": null,
   "metadata": {
    "executionInfo": {
     "elapsed": 9080,
     "status": "ok",
     "timestamp": 1667836043396,
     "user": {
      "displayName": "Rohan Kaushik",
      "userId": "13918477614376051685"
     },
     "user_tz": -60
    },
    "id": "7FkCSLnvOu3W"
   },
   "outputs": [],
   "source": []
  },
  {
   "cell_type": "code",
   "execution_count": 25,
   "metadata": {
    "executionInfo": {
     "elapsed": 20,
     "status": "ok",
     "timestamp": 1667836043397,
     "user": {
      "displayName": "Rohan Kaushik",
      "userId": "13918477614376051685"
     },
     "user_tz": -60
    },
    "id": "dbLa0AwlDBWh"
   },
   "outputs": [],
   "source": [
    "# fl = np.load(dir_name_data+dir_sep+'data.npz', allow_pickle=True)"
   ]
  },
  {
   "cell_type": "code",
   "execution_count": 26,
   "metadata": {
    "colab": {
     "base_uri": "https://localhost:8080/"
    },
    "executionInfo": {
     "elapsed": 19,
     "status": "ok",
     "timestamp": 1667836043397,
     "user": {
      "displayName": "Rohan Kaushik",
      "userId": "13918477614376051685"
     },
     "user_tz": -60
    },
    "id": "fGQN5p7rNVV3",
    "outputId": "ff071364-61d3-4209-ded8-a381e593661d"
   },
   "outputs": [],
   "source": [
    "# fl.files"
   ]
  },
  {
   "cell_type": "code",
   "execution_count": null,
   "metadata": {
    "executionInfo": {
     "elapsed": 8,
     "status": "ok",
     "timestamp": 1667836043398,
     "user": {
      "displayName": "Rohan Kaushik",
      "userId": "13918477614376051685"
     },
     "user_tz": -60
    },
    "id": "wYl-tsRIcXvP"
   },
   "outputs": [],
   "source": []
  },
  {
   "cell_type": "code",
   "execution_count": null,
   "metadata": {
    "executionInfo": {
     "elapsed": 7,
     "status": "ok",
     "timestamp": 1667836043398,
     "user": {
      "displayName": "Rohan Kaushik",
      "userId": "13918477614376051685"
     },
     "user_tz": -60
    },
    "id": "edIzUzi6cyxn"
   },
   "outputs": [],
   "source": []
  },
  {
   "cell_type": "code",
   "execution_count": null,
   "metadata": {
    "executionInfo": {
     "elapsed": 7,
     "status": "ok",
     "timestamp": 1667836043399,
     "user": {
      "displayName": "Rohan Kaushik",
      "userId": "13918477614376051685"
     },
     "user_tz": -60
    },
    "id": "zX5fbgPVdIVh"
   },
   "outputs": [],
   "source": []
  }
 ],
 "metadata": {
  "colab": {
   "collapsed_sections": [],
   "provenance": []
  },
  "gpuClass": "standard",
  "kernelspec": {
   "display_name": "Python 3 (ipykernel)",
   "language": "python",
   "name": "python3"
  },
  "language_info": {
   "codemirror_mode": {
    "name": "ipython",
    "version": 3
   },
   "file_extension": ".py",
   "mimetype": "text/x-python",
   "name": "python",
   "nbconvert_exporter": "python",
   "pygments_lexer": "ipython3",
   "version": "3.10.6"
  }
 },
 "nbformat": 4,
 "nbformat_minor": 1
}
