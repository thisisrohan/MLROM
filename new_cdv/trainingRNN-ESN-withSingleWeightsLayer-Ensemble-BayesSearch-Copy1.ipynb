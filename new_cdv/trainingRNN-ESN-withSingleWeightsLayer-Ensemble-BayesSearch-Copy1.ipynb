{
 "cells": [
  {
   "cell_type": "code",
   "execution_count": 1,
   "metadata": {
    "executionInfo": {
     "elapsed": 3,
     "status": "ok",
     "timestamp": 1667868739487,
     "user": {
      "displayName": "Rohan Kaushik",
      "userId": "13918477614376051685"
     },
     "user_tz": -60
    },
    "id": "4xhxMpe_r-Y5"
   },
   "outputs": [],
   "source": [
    "# enabling 3rd party widgets\n",
    "# from google.colab import output\n",
    "# output.enable_custom_widget_manager()\n",
    "# output.disable_custom_widget_manager()\n",
    "\n",
    "# interactive 3D plot\n",
    "# !pip install ipympl\n",
    "# %matplotlib widget"
   ]
  },
  {
   "cell_type": "code",
   "execution_count": 2,
   "metadata": {
    "executionInfo": {
     "elapsed": 3563,
     "status": "ok",
     "timestamp": 1667868743047,
     "user": {
      "displayName": "Rohan Kaushik",
      "userId": "13918477614376051685"
     },
     "user_tz": -60
    },
    "id": "a5qPupCDsjSz"
   },
   "outputs": [],
   "source": [
    "import os\n",
    "import sys\n",
    "import math\n",
    "from collections import OrderedDict\n",
    "import numpy as np\n",
    "import matplotlib.pyplot as plt\n",
    "from scipy import linalg\n",
    "\n",
    "import time as time\n",
    "import platform as platform\n",
    "\n",
    "import tensorflow as tf\n",
    "from tensorflow.keras import layers, losses\n",
    "from tensorflow.keras.models import Model\n",
    "from tensorflow.keras import backend as K\n",
    "from tensorflow.keras.regularizers import L2\n",
    "import h5py\n",
    "\n",
    "from skopt import gp_minimize\n",
    "from skopt.space import Integer, Real\n",
    "\n",
    "tf.keras.backend.set_floatx('float32')\n",
    "\n",
    "plt.rcParams.update({\n",
    "    \"text.usetex\":True,\n",
    "    \"font.family\":\"serif\"\n",
    "})"
   ]
  },
  {
   "cell_type": "code",
   "execution_count": 3,
   "metadata": {
    "colab": {
     "base_uri": "https://localhost:8080/"
    },
    "executionInfo": {
     "elapsed": 10,
     "status": "ok",
     "timestamp": 1667868743048,
     "user": {
      "displayName": "Rohan Kaushik",
      "userId": "13918477614376051685"
     },
     "user_tz": -60
    },
    "id": "h_qXhHdbCgoj",
    "outputId": "3473a883-d145-4778-9be7-7d44e0c6ea67"
   },
   "outputs": [],
   "source": [
    "colab_flag = False\n",
    "FTYPE = np.float32\n",
    "ITYPE = np.int32\n",
    "\n",
    "array = np.array\n",
    "float32 = np.float32\n",
    "int32 = np.int32\n",
    "float64 = np.float64\n",
    "int64 = np.int64\n",
    "\n",
    "strategy = None\n",
    "# strategy = tf.distribute.MirroredStrategy()"
   ]
  },
  {
   "cell_type": "code",
   "execution_count": 4,
   "metadata": {
    "executionInfo": {
     "elapsed": 7,
     "status": "ok",
     "timestamp": 1667868743048,
     "user": {
      "displayName": "Rohan Kaushik",
      "userId": "13918477614376051685"
     },
     "user_tz": -60
    },
    "id": "BiLIUmBPneQR"
   },
   "outputs": [],
   "source": [
    "current_sys = platform.system()\n",
    "\n",
    "if current_sys == 'Windows':\n",
    "    dir_sep = '\\\\'\n",
    "else:\n",
    "    dir_sep = '/'"
   ]
  },
  {
   "cell_type": "code",
   "execution_count": 5,
   "metadata": {
    "colab": {
     "base_uri": "https://localhost:8080/"
    },
    "executionInfo": {
     "elapsed": 18870,
     "status": "ok",
     "timestamp": 1667868761912,
     "user": {
      "displayName": "Rohan Kaushik",
      "userId": "13918477614376051685"
     },
     "user_tz": -60
    },
    "id": "fnTV6Anhni6O",
    "outputId": "bf1d11f8-667f-4cb5-d8d5-b9d860b44d99"
   },
   "outputs": [],
   "source": [
    "if colab_flag == True:\n",
    "    from google.colab import drive\n",
    "    drive.mount('/content/drive')\n",
    "    os.chdir('/content/drive/MyDrive/Github/MLROM/KS/')"
   ]
  },
  {
   "cell_type": "code",
   "execution_count": 6,
   "metadata": {
    "colab": {
     "base_uri": "https://localhost:8080/"
    },
    "executionInfo": {
     "elapsed": 6,
     "status": "ok",
     "timestamp": 1667868761912,
     "user": {
      "displayName": "Rohan Kaushik",
      "userId": "13918477614376051685"
     },
     "user_tz": -60
    },
    "id": "paDfPOrjnkAS",
    "outputId": "58054510-4476-49b4-f8ba-e2978a028b36"
   },
   "outputs": [
    {
     "name": "stdout",
     "output_type": "stream",
     "text": [
      "/home/rkaushik/Documents/Thesis/MLROM/new_cdv\n"
     ]
    }
   ],
   "source": [
    "print(os.getcwd())"
   ]
  },
  {
   "cell_type": "code",
   "execution_count": 7,
   "metadata": {
    "executionInfo": {
     "elapsed": 4575,
     "status": "ok",
     "timestamp": 1667868766483,
     "user": {
      "displayName": "Rohan Kaushik",
      "userId": "13918477614376051685"
     },
     "user_tz": -60
    },
    "id": "P6K2YWlR6ZPD"
   },
   "outputs": [],
   "source": [
    "from tools.misc_tools import create_data_for_RNN, mytimecallback, SaveLosses, plot_losses\n",
    "from tools.ae_v2 import Autoencoder\n",
    "from tools.ESN_v1 import ESN\n",
    "from tools.hyper_param_ESN__NEW import trainESN_and_return_PH"
   ]
  },
  {
   "cell_type": "code",
   "execution_count": null,
   "metadata": {},
   "outputs": [],
   "source": []
  },
  {
   "cell_type": "code",
   "execution_count": 8,
   "metadata": {
    "executionInfo": {
     "elapsed": 9,
     "status": "ok",
     "timestamp": 1667868766483,
     "user": {
      "displayName": "Rohan Kaushik",
      "userId": "13918477614376051685"
     },
     "user_tz": -60
    },
    "id": "_xtkwXE2tGTP"
   },
   "outputs": [],
   "source": [
    "behaviour = 'initialiseAndTrainFromScratch'\n",
    "# behaviour = 'loadCheckpointAndContinueTraining'\n",
    "# behaviour = 'loadFinalNetAndPlot'"
   ]
  },
  {
   "cell_type": "code",
   "execution_count": 9,
   "metadata": {
    "executionInfo": {
     "elapsed": 9,
     "status": "ok",
     "timestamp": 1667868766484,
     "user": {
      "displayName": "Rohan Kaushik",
      "userId": "13918477614376051685"
     },
     "user_tz": -60
    },
    "id": "8S1AHEkl48bn"
   },
   "outputs": [],
   "source": [
    "# setting seed for PRNGs\n",
    "if behaviour == 'initialiseAndTrainFromScratch':\n",
    "    prng_seed = 42\n",
    "    np.random.seed(prng_seed)\n",
    "    tf.random.set_seed(prng_seed)"
   ]
  },
  {
   "cell_type": "code",
   "execution_count": 10,
   "metadata": {
    "colab": {
     "base_uri": "https://localhost:8080/"
    },
    "executionInfo": {
     "elapsed": 9,
     "status": "ok",
     "timestamp": 1667868766484,
     "user": {
      "displayName": "Rohan Kaushik",
      "userId": "13918477614376051685"
     },
     "user_tz": -60
    },
    "id": "qvA9oeCHCTVM",
    "outputId": "0f2de849-59ee-4ed9-b65d-c5952e0dcb55"
   },
   "outputs": [
    {
     "name": "stdout",
     "output_type": "stream",
     "text": [
      "[PhysicalDevice(name='/physical_device:GPU:0', device_type='GPU'), PhysicalDevice(name='/physical_device:GPU:1', device_type='GPU')]\n",
      "[LogicalDevice(name='/device:GPU:0', device_type='GPU')]\n"
     ]
    },
    {
     "name": "stderr",
     "output_type": "stream",
     "text": [
      "2023-06-20 02:28:12.498915: I tensorflow/stream_executor/cuda/cuda_gpu_executor.cc:936] successful NUMA node read from SysFS had negative value (-1), but there must be at least one NUMA node, so returning NUMA node zero\n",
      "2023-06-20 02:28:12.499221: I tensorflow/stream_executor/cuda/cuda_gpu_executor.cc:936] successful NUMA node read from SysFS had negative value (-1), but there must be at least one NUMA node, so returning NUMA node zero\n",
      "2023-06-20 02:28:12.538395: I tensorflow/stream_executor/cuda/cuda_gpu_executor.cc:936] successful NUMA node read from SysFS had negative value (-1), but there must be at least one NUMA node, so returning NUMA node zero\n",
      "2023-06-20 02:28:12.538711: I tensorflow/stream_executor/cuda/cuda_gpu_executor.cc:936] successful NUMA node read from SysFS had negative value (-1), but there must be at least one NUMA node, so returning NUMA node zero\n",
      "2023-06-20 02:28:12.539173: I tensorflow/stream_executor/cuda/cuda_gpu_executor.cc:936] successful NUMA node read from SysFS had negative value (-1), but there must be at least one NUMA node, so returning NUMA node zero\n",
      "2023-06-20 02:28:12.540033: I tensorflow/stream_executor/cuda/cuda_gpu_executor.cc:936] successful NUMA node read from SysFS had negative value (-1), but there must be at least one NUMA node, so returning NUMA node zero\n",
      "2023-06-20 02:28:12.541496: I tensorflow/core/platform/cpu_feature_guard.cc:151] This TensorFlow binary is optimized with oneAPI Deep Neural Network Library (oneDNN) to use the following CPU instructions in performance-critical operations:  SSE4.1 SSE4.2 AVX AVX2 FMA\n",
      "To enable them in other operations, rebuild TensorFlow with the appropriate compiler flags.\n",
      "2023-06-20 02:28:12.542160: I tensorflow/stream_executor/cuda/cuda_gpu_executor.cc:936] successful NUMA node read from SysFS had negative value (-1), but there must be at least one NUMA node, so returning NUMA node zero\n",
      "2023-06-20 02:28:12.542443: I tensorflow/stream_executor/cuda/cuda_gpu_executor.cc:936] successful NUMA node read from SysFS had negative value (-1), but there must be at least one NUMA node, so returning NUMA node zero\n",
      "2023-06-20 02:28:12.542647: I tensorflow/stream_executor/cuda/cuda_gpu_executor.cc:936] successful NUMA node read from SysFS had negative value (-1), but there must be at least one NUMA node, so returning NUMA node zero\n",
      "2023-06-20 02:28:13.183421: I tensorflow/stream_executor/cuda/cuda_gpu_executor.cc:936] successful NUMA node read from SysFS had negative value (-1), but there must be at least one NUMA node, so returning NUMA node zero\n",
      "2023-06-20 02:28:13.183706: I tensorflow/stream_executor/cuda/cuda_gpu_executor.cc:936] successful NUMA node read from SysFS had negative value (-1), but there must be at least one NUMA node, so returning NUMA node zero\n",
      "2023-06-20 02:28:13.183922: I tensorflow/stream_executor/cuda/cuda_gpu_executor.cc:936] successful NUMA node read from SysFS had negative value (-1), but there must be at least one NUMA node, so returning NUMA node zero\n",
      "2023-06-20 02:28:13.184078: I tensorflow/core/common_runtime/gpu/gpu_device.cc:1525] Created device /job:localhost/replica:0/task:0/device:GPU:0 with 3355 MB memory:  -> device: 0, name: Quadro K2200, pci bus id: 0000:02:00.0, compute capability: 5.0\n"
     ]
    }
   ],
   "source": [
    "gpus = tf.config.list_physical_devices('GPU')\n",
    "print(gpus)\n",
    "\n",
    "if colab_flag == False:\n",
    "    if strategy is None:\n",
    "        if gpus:\n",
    "            gpu_to_use = 0\n",
    "            tf.config.set_visible_devices(gpus[gpu_to_use], 'GPU')\n",
    "    logical_devices = tf.config.list_logical_devices('GPU')\n",
    "    print(logical_devices)"
   ]
  },
  {
   "cell_type": "code",
   "execution_count": 11,
   "metadata": {
    "colab": {
     "base_uri": "https://localhost:8080/"
    },
    "executionInfo": {
     "elapsed": 8,
     "status": "ok",
     "timestamp": 1667868766484,
     "user": {
      "displayName": "Rohan Kaushik",
      "userId": "13918477614376051685"
     },
     "user_tz": -60
    },
    "id": "tc3zO9xL_tNl",
    "outputId": "c9786b4c-8510-47d0-801d-181e3b12239c"
   },
   "outputs": [
    {
     "name": "stdout",
     "output_type": "stream",
     "text": [
      "[PhysicalDevice(name='/physical_device:CPU:0', device_type='CPU'), PhysicalDevice(name='/physical_device:GPU:0', device_type='GPU'), PhysicalDevice(name='/physical_device:GPU:1', device_type='GPU')]\n",
      "[LogicalDevice(name='/device:CPU:0', device_type='CPU'), LogicalDevice(name='/device:GPU:0', device_type='GPU')]\n",
      "2.8.1\n"
     ]
    }
   ],
   "source": [
    "# print(tf.test.gpu_device_name())\n",
    "print(tf.config.list_physical_devices())\n",
    "print(tf.config.list_logical_devices())\n",
    "print(tf.__version__)"
   ]
  },
  {
   "cell_type": "markdown",
   "metadata": {
    "id": "7UbdnOtc4_z9"
   },
   "source": [
    "# KS System"
   ]
  },
  {
   "cell_type": "code",
   "execution_count": null,
   "metadata": {
    "executionInfo": {
     "elapsed": 6,
     "status": "ok",
     "timestamp": 1667868766485,
     "user": {
      "displayName": "Rohan Kaushik",
      "userId": "13918477614376051685"
     },
     "user_tz": -60
    },
    "id": "8aNkoXfyGq52"
   },
   "outputs": [],
   "source": []
  },
  {
   "cell_type": "code",
   "execution_count": 12,
   "metadata": {
    "colab": {
     "base_uri": "https://localhost:8080/"
    },
    "executionInfo": {
     "elapsed": 5768,
     "status": "ok",
     "timestamp": 1667868772247,
     "user": {
      "displayName": "Rohan Kaushik",
      "userId": "13918477614376051685"
     },
     "user_tz": -60
    },
    "id": "O7sl7i5H5Dqz",
    "outputId": "419ef0e0-4d58-454e-d0af-17af3b846b85"
   },
   "outputs": [
    {
     "name": "stdout",
     "output_type": "stream",
     "text": [
      "dir_name_rnn: /home/rkaushik/Documents/Thesis/MLROM/new_cdv/ESN_params_Search/params_search_001\n",
      "use_ae_data : True, dir_name_ae: /home/rkaushik/Documents/Thesis/MLROM/new_cdv/saved_ae/ae_008\n",
      "data_dir_idx: 004\n",
      "normalize_flag_ogdata: False\n"
     ]
    }
   ],
   "source": [
    "# setting up params (and saving, if applicable)\n",
    "# from numpy import *\n",
    "\n",
    "# making RNN save directory\n",
    "dir_name_rnn = os.getcwd() + dir_sep + 'ESN_params_Search'\n",
    "if not os.path.isdir(dir_name_rnn):\n",
    "    os.makedirs(dir_name_rnn)\n",
    "\n",
    "counter = 0\n",
    "while True:\n",
    "    dir_check = 'params_search_' + str(counter).zfill(3)\n",
    "    if os.path.isdir(dir_name_rnn + dir_sep + dir_check):\n",
    "        counter += 1\n",
    "    else:\n",
    "        break\n",
    "\n",
    "dir_name_rnn = dir_name_rnn + dir_sep + dir_check\n",
    "os.makedirs(dir_name_rnn)\n",
    "dir_name_rnn_plots = dir_name_rnn+dir_sep+'plots'\n",
    "os.makedirs(dir_name_rnn_plots)\n",
    "\n",
    "# whether to use AE data or just work on raw data\n",
    "use_ae_data = True # if false, specifying ae_idx will only show which dataset to use\n",
    "\n",
    "# autoencoder directory\n",
    "# ae_idx = '046'\n",
    "# dir_name_ae = os.getcwd()+'{ds}saved_ae{ds}ae_'.format(ds=dir_sep)+ae_idx\n",
    "dir_name_ae = os.getcwd()+'{ds}saved_ae{ds}ae_008'.format(ds=dir_sep)\n",
    "\n",
    "# reading simulation parameters\n",
    "with open(dir_name_ae + dir_sep + 'ae_data.txt') as f:\n",
    "    lines = f.readlines()\n",
    "params_dict = eval(''.join(lines))\n",
    "data_dir_idx = params_dict['data_dir_idx']\n",
    "normalizeforae_flag = params_dict['normalizeforae_flag']\n",
    "normalization_constant_arr_aedata = params_dict['normalization_constant_arr_aedata']\n",
    "try:\n",
    "    ae_data_with_params = params_dict['ae_data_with_params']\n",
    "except:\n",
    "    print(\"'ae_data_with_params' not present in ae_data, set to 'True'.\")\n",
    "    ae_data_with_params = True\n",
    "\n",
    "if os.path.exists(dir_name_ae+dir_sep+'normalization_data.npz'):\n",
    "    with np.load(dir_name_ae+dir_sep+'normalization_data.npz', allow_pickle=True) as fl:\n",
    "        normalization_constant_arr_aedata = fl['normalization_constant_arr_aedata'][0]\n",
    "\n",
    "print('dir_name_rnn:', dir_name_rnn)\n",
    "print('use_ae_data : ' + str(use_ae_data) + ', dir_name_ae:', dir_name_ae)\n",
    "print('data_dir_idx:', data_dir_idx)\n",
    "\n",
    "# loading data\n",
    "dir_name_data = os.getcwd() + dir_sep + 'saved_data' + dir_sep + 'data_' + data_dir_idx\n",
    "    \n",
    "with open(dir_name_data + dir_sep + 'sim_data_params.txt') as f:\n",
    "    lines = f.readlines()\n",
    "params_dict = eval(''.join(lines))\n",
    "params_mat = params_dict['params_mat']\n",
    "# init_state = params_dict['init_state']\n",
    "t0 = params_dict['t0']\n",
    "T = params_dict['T']\n",
    "delta_t = params_dict['delta_t']\n",
    "return_params_arr = params_dict['return_params_arr']\n",
    "normalize_flag_ogdata = params_dict['normalize_flag']\n",
    "print('normalize_flag_ogdata:', normalize_flag_ogdata)\n",
    "alldata_withparams_flag = params_dict['alldata_withparams_flag']\n",
    "\n",
    "with np.load(dir_name_data+dir_sep+'data.npz', allow_pickle=True) as fl:\n",
    "    all_data = fl['all_data'].astype(FTYPE)\n",
    "    boundary_idx_arr = fl['boundary_idx_arr']\n",
    "    normalization_constant_arr_ogdata = fl['normalization_constant_arr'][0]\n",
    "    initial_t0 = fl['initial_t0']\n",
    "    init_state_mat = fl['init_state_mat']\n",
    "\n",
    "    lyapunov_spectrum_mat = fl['lyapunov_spectrum_mat']"
   ]
  },
  {
   "cell_type": "code",
   "execution_count": 13,
   "metadata": {
    "colab": {
     "base_uri": "https://localhost:8080/"
    },
    "executionInfo": {
     "elapsed": 541,
     "status": "ok",
     "timestamp": 1667868772777,
     "user": {
      "displayName": "Rohan Kaushik",
      "userId": "13918477614376051685"
     },
     "user_tz": -60
    },
    "id": "ySVDz_2U5FH5",
    "outputId": "c57be82f-527d-4e83-a605-aac85c39088e"
   },
   "outputs": [
    {
     "name": "stdout",
     "output_type": "stream",
     "text": [
      "Case : 1, lyapunov exponent : 0.027086916024239262, lyapunov time : 36.91819381713867s\n"
     ]
    }
   ],
   "source": [
    "lyapunov_time_arr = np.empty(shape=lyapunov_spectrum_mat.shape[0], dtype=FTYPE)\n",
    "for i in range(lyapunov_spectrum_mat.shape[0]):\n",
    "    lyapunov_time_arr[i] = 1/lyapunov_spectrum_mat[i, 0]\n",
    "    print('Case : {}, lyapunov exponent : {}, lyapunov time : {}s'.format(i+1, lyapunov_spectrum_mat[i, 0], lyapunov_time_arr[i]))"
   ]
  },
  {
   "cell_type": "code",
   "execution_count": 14,
   "metadata": {
    "executionInfo": {
     "elapsed": 3,
     "status": "ok",
     "timestamp": 1667868772778,
     "user": {
      "displayName": "Rohan Kaushik",
      "userId": "13918477614376051685"
     },
     "user_tz": -60
    },
    "id": "bkQx9q_p5Gro"
   },
   "outputs": [
    {
     "name": "stdout",
     "output_type": "stream",
     "text": [
      "[0]\n"
     ]
    }
   ],
   "source": [
    "positve_lp_idx = np.where(lyapunov_time_arr > 0)[0]\n",
    "print(positve_lp_idx)"
   ]
  },
  {
   "cell_type": "code",
   "execution_count": 15,
   "metadata": {
    "colab": {
     "base_uri": "https://localhost:8080/",
     "height": 370
    },
    "executionInfo": {
     "elapsed": 1487,
     "status": "ok",
     "timestamp": 1667868774262,
     "user": {
      "displayName": "Rohan Kaushik",
      "userId": "13918477614376051685"
     },
     "user_tz": -60
    },
    "id": "uDhfYHU45IS8",
    "outputId": "5307dc6a-17c5-4c77-dac5-fcb96116ac44"
   },
   "outputs": [
    {
     "name": "stdout",
     "output_type": "stream",
     "text": [
      "[     0 500001]\n"
     ]
    }
   ],
   "source": [
    "last_idx = all_data.shape[0]\n",
    "temp_bia = np.zeros(shape=1+boundary_idx_arr.shape[0], dtype=np.int32)\n",
    "temp_bia[1:] = boundary_idx_arr\n",
    "print(temp_bia)\n",
    "for i in range(boundary_idx_arr.shape[0]-1, -1, -1):\n",
    "    if not (i in positve_lp_idx):\n",
    "        print(i)\n",
    "        num_idxs = last_idx - temp_bia[i+1]\n",
    "        all_data[temp_bia[i]:temp_bia[i]+num_idxs] = all_data[temp_bia[i+1]:last_idx]\n",
    "        last_idx = last_idx - (temp_bia[i+1]-temp_bia[i])"
   ]
  },
  {
   "cell_type": "code",
   "execution_count": 16,
   "metadata": {},
   "outputs": [],
   "source": [
    "new_bia = np.empty_like(boundary_idx_arr)\n",
    "new_bia[:] = boundary_idx_arr\n",
    "new_pmat = np.empty_like(params_mat)\n",
    "new_pmat[:, :] = params_mat\n",
    "counter = 0\n",
    "bia_counter = boundary_idx_arr.shape[0]\n",
    "for i in range(boundary_idx_arr.shape[0]):\n",
    "    if not (i in positve_lp_idx):\n",
    "        new_bia[i:] -= temp_bia[i+1] - temp_bia[i]\n",
    "        new_bia[i:bia_counter-1] = new_bia[i+1:bia_counter]\n",
    "        new_pmat[i:bia_counter-1] = new_pmat[i+1:bia_counter]\n",
    "        bia_counter -= 1"
   ]
  },
  {
   "cell_type": "code",
   "execution_count": 17,
   "metadata": {},
   "outputs": [],
   "source": [
    "new_bia = new_bia[0:bia_counter]\n",
    "new_pmat = new_pmat[0:bia_counter]"
   ]
  },
  {
   "cell_type": "code",
   "execution_count": 18,
   "metadata": {},
   "outputs": [],
   "source": [
    "all_data = all_data[0:new_bia[-1]]"
   ]
  },
  {
   "cell_type": "code",
   "execution_count": 19,
   "metadata": {},
   "outputs": [],
   "source": [
    "new_bia, boundary_idx_arr = boundary_idx_arr, new_bia\n",
    "new_pmat, params_mat = params_mat, new_pmat"
   ]
  },
  {
   "cell_type": "code",
   "execution_count": 20,
   "metadata": {
    "executionInfo": {
     "elapsed": 6,
     "status": "ok",
     "timestamp": 1667868774263,
     "user": {
      "displayName": "Rohan Kaushik",
      "userId": "13918477614376051685"
     },
     "user_tz": -60
    },
    "id": "-MJa7P5t5KiC",
    "scrolled": true
   },
   "outputs": [],
   "source": [
    "# delaing with normalizing the data before feeding into autoencoder\n",
    "num_params = params_mat.shape[1]\n",
    "og_vars = all_data.shape[1]\n",
    "if alldata_withparams_flag == True:\n",
    "    og_vars -= num_params\n",
    "\n",
    "if use_ae_data == True:\n",
    "    if ae_data_with_params == True and alldata_withparams_flag == False:\n",
    "        new_all_data = np.empty(shape=(all_data.shape[0], og_vars+num_params), dtype=FTYPE)\n",
    "        new_all_data[:, 0:og_vars] = all_data[:, 0:og_vars]\n",
    "        del(all_data)\n",
    "        all_data = new_all_data\n",
    "        prev_idx = 0\n",
    "        for i in range(boundary_idx_arr.shape[0]):\n",
    "            all_data[prev_idx:boundary_idx_arr[i], num_params:] = params_mat[i]\n",
    "            prev_idx = boundary_idx_arr[i]\n",
    "\n",
    "    if normalizeforae_flag == True:\n",
    "        for i in range(all_data.shape[1]):\n",
    "            all_data[:, i] -= normalization_constant_arr_aedata[0, i]\n",
    "            all_data[:, i] /= normalization_constant_arr_aedata[1, i]\n",
    "\n",
    "    if ae_data_with_params == False:\n",
    "        all_data = all_data[:, 0:og_vars]\n",
    "else:\n",
    "    # using raw data, neglecting the params attached (if any)\n",
    "    all_data = all_data[:, 0:og_vars]"
   ]
  },
  {
   "cell_type": "code",
   "execution_count": null,
   "metadata": {
    "colab": {
     "base_uri": "https://localhost:8080/",
     "height": 370
    },
    "executionInfo": {
     "elapsed": 932,
     "status": "ok",
     "timestamp": 1667868775190,
     "user": {
      "displayName": "Rohan Kaushik",
      "userId": "13918477614376051685"
     },
     "user_tz": -60
    },
    "id": "sMENXULAGFPm",
    "outputId": "dbf2c14d-2e8a-42c9-b6c5-f5f7c7a6092f"
   },
   "outputs": [],
   "source": []
  },
  {
   "cell_type": "markdown",
   "metadata": {
    "id": "1v6KQEjR5LkK"
   },
   "source": [
    "# Autoencoder"
   ]
  },
  {
   "cell_type": "code",
   "execution_count": 21,
   "metadata": {
    "executionInfo": {
     "elapsed": 4,
     "status": "ok",
     "timestamp": 1667868775191,
     "user": {
      "displayName": "Rohan Kaushik",
      "userId": "13918477614376051685"
     },
     "user_tz": -60
    },
    "id": "ZBTJl9PeneQb"
   },
   "outputs": [],
   "source": [
    "if use_ae_data == True:\n",
    "    load_file = dir_name_ae+dir_sep+'final_net'+dir_sep+'final_net_class_dict.txt'\n",
    "    wt_file = dir_name_ae+dir_sep+'final_net'+dir_sep+'final_net_ae_weights.h5'"
   ]
  },
  {
   "cell_type": "code",
   "execution_count": 22,
   "metadata": {
    "executionInfo": {
     "elapsed": 1365,
     "status": "ok",
     "timestamp": 1667868776552,
     "user": {
      "displayName": "Rohan Kaushik",
      "userId": "13918477614376051685"
     },
     "user_tz": -60
    },
    "id": "a3Pq-qorneQb"
   },
   "outputs": [],
   "source": [
    "if use_ae_data == True:\n",
    "    ae_net = Autoencoder(all_data.shape[1], load_file=load_file)\n",
    "    ae_net.load_weights_from_file(wt_file)"
   ]
  },
  {
   "cell_type": "code",
   "execution_count": null,
   "metadata": {
    "executionInfo": {
     "elapsed": 5,
     "status": "ok",
     "timestamp": 1667868776553,
     "user": {
      "displayName": "Rohan Kaushik",
      "userId": "13918477614376051685"
     },
     "user_tz": -60
    },
    "id": "wwt4brHcOaXi"
   },
   "outputs": [],
   "source": []
  },
  {
   "cell_type": "code",
   "execution_count": null,
   "metadata": {
    "executionInfo": {
     "elapsed": 4,
     "status": "ok",
     "timestamp": 1667868776553,
     "user": {
      "displayName": "Rohan Kaushik",
      "userId": "13918477614376051685"
     },
     "user_tz": -60
    },
    "id": "Zl6ZvgtNtA_u",
    "scrolled": true
   },
   "outputs": [],
   "source": []
  },
  {
   "cell_type": "code",
   "execution_count": null,
   "metadata": {
    "executionInfo": {
     "elapsed": 5,
     "status": "ok",
     "timestamp": 1667868776554,
     "user": {
      "displayName": "Rohan Kaushik",
      "userId": "13918477614376051685"
     },
     "user_tz": -60
    },
    "id": "lXpoaKRIneQc"
   },
   "outputs": [],
   "source": []
  },
  {
   "cell_type": "code",
   "execution_count": 23,
   "metadata": {
    "colab": {
     "base_uri": "https://localhost:8080/"
    },
    "executionInfo": {
     "elapsed": 960,
     "status": "ok",
     "timestamp": 1667868777509,
     "user": {
      "displayName": "Rohan Kaushik",
      "userId": "13918477614376051685"
     },
     "user_tz": -60
    },
    "id": "Q3a8HHyvneQc",
    "outputId": "51084913-6faf-4bb5-db69-2cbea705dd28"
   },
   "outputs": [],
   "source": [
    "# create data\n",
    "if use_ae_data == True:\n",
    "    latent_states_all = ae_net.encoder_net.predict(all_data)\n",
    "    del(all_data)\n",
    "else:\n",
    "    latent_states_all = all_data\n",
    "num_latent_states = latent_states_all.shape[1]"
   ]
  },
  {
   "cell_type": "code",
   "execution_count": null,
   "metadata": {
    "colab": {
     "base_uri": "https://localhost:8080/",
     "height": 384
    },
    "executionInfo": {
     "elapsed": 797,
     "status": "ok",
     "timestamp": 1667868778304,
     "user": {
      "displayName": "Rohan Kaushik",
      "userId": "13918477614376051685"
     },
     "user_tz": -60
    },
    "id": "wjgPNitSrt5p",
    "outputId": "0c916524-33ec-47bf-a16a-51e53d2e25f6"
   },
   "outputs": [],
   "source": []
  },
  {
   "cell_type": "code",
   "execution_count": null,
   "metadata": {
    "executionInfo": {
     "elapsed": 6,
     "status": "ok",
     "timestamp": 1667868778305,
     "user": {
      "displayName": "Rohan Kaushik",
      "userId": "13918477614376051685"
     },
     "user_tz": -60
    },
    "id": "wnLnqg0Jrt5t"
   },
   "outputs": [],
   "source": []
  },
  {
   "cell_type": "code",
   "execution_count": null,
   "metadata": {
    "executionInfo": {
     "elapsed": 488,
     "status": "ok",
     "timestamp": 1667868778788,
     "user": {
      "displayName": "Rohan Kaushik",
      "userId": "13918477614376051685"
     },
     "user_tz": -60
    },
    "id": "BOJE8vREtque"
   },
   "outputs": [],
   "source": []
  },
  {
   "cell_type": "code",
   "execution_count": null,
   "metadata": {
    "executionInfo": {
     "elapsed": 12,
     "status": "ok",
     "timestamp": 1667868778788,
     "user": {
      "displayName": "Rohan Kaushik",
      "userId": "13918477614376051685"
     },
     "user_tz": -60
    },
    "id": "fwjcsAxKneQe"
   },
   "outputs": [],
   "source": []
  },
  {
   "cell_type": "code",
   "execution_count": null,
   "metadata": {
    "executionInfo": {
     "elapsed": 11,
     "status": "ok",
     "timestamp": 1667868778788,
     "user": {
      "displayName": "Rohan Kaushik",
      "userId": "13918477614376051685"
     },
     "user_tz": -60
    },
    "id": "aFd7XgwVneQe"
   },
   "outputs": [],
   "source": []
  },
  {
   "cell_type": "markdown",
   "metadata": {
    "id": "8IAcFjRRn_IQ"
   },
   "source": [
    "# ESN"
   ]
  },
  {
   "cell_type": "code",
   "execution_count": 24,
   "metadata": {
    "executionInfo": {
     "elapsed": 12,
     "status": "ok",
     "timestamp": 1667868778789,
     "user": {
      "displayName": "Rohan Kaushik",
      "userId": "13918477614376051685"
     },
     "user_tz": -60
    },
    "id": "lPVqWNwjoAGP"
   },
   "outputs": [],
   "source": [
    "# RNN data parameters\n",
    "dt_rnn = 0.1\n",
    "num_input_tsteps = 25000\n",
    "T_sample_input = num_input_tsteps*dt_rnn\n",
    "T_sample_output = T_sample_input\n",
    "T_offset = dt_rnn\n",
    "normalize_dataset = True # whether the data for the RNN should be normalized by the dataset's mean and std\n",
    "normalization_arr = None\n",
    "stddev_multiplier = 3\n",
    "skip_intermediate = 'full sample'\n",
    "noise_type = 'normal' # can be 'uniform' or 'normal'\n",
    "normalization_type = 'stddev' # can be 'minmax' or 'stddev', if it is\n",
    "                              # 'minmax' then stddev_multiplier has no effect\n",
    "ESN_layers_units = [num_latent_states*200]\n",
    "stateful = True\n",
    "omega_in_x0 = 1.0\n",
    "degree_of_connectivity_x0 = 3\n",
    "rho_res_x0 = 0.8\n",
    "usebias_Win = [False]\n",
    "alpha_x0 = 0.99\n",
    "ESN_cell_activations = ['tanh']\n",
    "usebias_Wout = True\n",
    "\n",
    "activation_post_Wout = 'linear'\n",
    "use_weights_post_dense = False\n",
    "\n",
    "vary_deg_connect = False # whether to search for degree_of_connectivity or use it as a constant\n",
    "\n",
    "if return_params_arr != False:\n",
    "    params = params_arr\n",
    "else:\n",
    "    params = None\n",
    "\n",
    "# saving simulation data\n",
    "sim_data = {\n",
    "    'params_mat':params_mat,\n",
    "    'init_state_mat':init_state_mat,\n",
    "    't0':t0,\n",
    "    'T':T,\n",
    "    'delta_t':delta_t,\n",
    "    'return_params_arr':return_params_arr,\n",
    "    'dir_name_ae':dir_name_ae,\n",
    "    'normalize_dataset':normalize_dataset,\n",
    "    'stddev_multiplier':stddev_multiplier,\n",
    "    'use_ae_data':use_ae_data,\n",
    "    'vary_deg_connect':vary_deg_connect,\n",
    "}\n",
    "\n",
    "# saving RNN specific data\n",
    "RNN_specific_data = {\n",
    "    'dt_rnn':dt_rnn,\n",
    "    'T_sample_input':T_sample_input,\n",
    "    'T_sample_output':T_sample_output,\n",
    "    'T_offset':T_offset,\n",
    "    'boundary_idx_arr':boundary_idx_arr,\n",
    "    'delta_t':delta_t,\n",
    "    'params':params,\n",
    "    'return_params_arr':return_params_arr,\n",
    "    'normalize_dataset':normalize_dataset,\n",
    "    'num_input_tsteps':num_input_tsteps,\n",
    "    'stddev_multiplier':stddev_multiplier,\n",
    "    'skip_intermediate':skip_intermediate,\n",
    "    'module':ESN.__module__,\n",
    "    'noise_type':noise_type,\n",
    "    'normalization_type':normalization_type,\n",
    "}"
   ]
  },
  {
   "cell_type": "code",
   "execution_count": null,
   "metadata": {
    "executionInfo": {
     "elapsed": 11,
     "status": "ok",
     "timestamp": 1667868778789,
     "user": {
      "displayName": "Rohan Kaushik",
      "userId": "13918477614376051685"
     },
     "user_tz": -60
    },
    "id": "S21-VEUYrkk-"
   },
   "outputs": [],
   "source": []
  },
  {
   "cell_type": "code",
   "execution_count": 25,
   "metadata": {
    "executionInfo": {
     "elapsed": 11,
     "status": "ok",
     "timestamp": 1667868778789,
     "user": {
      "displayName": "Rohan Kaushik",
      "userId": "13918477614376051685"
     },
     "user_tz": -60
    },
    "id": "UGnj8uQQ83-y"
   },
   "outputs": [],
   "source": [
    "latent_states_all = latent_states_all[0:150001]\n",
    "boundary_idx_arr = [150001]"
   ]
  },
  {
   "cell_type": "code",
   "execution_count": 26,
   "metadata": {
    "executionInfo": {
     "elapsed": 12,
     "status": "ok",
     "timestamp": 1667868778790,
     "user": {
      "displayName": "Rohan Kaushik",
      "userId": "13918477614376051685"
     },
     "user_tz": -60
    },
    "id": "0t2_8mzI1fhX"
   },
   "outputs": [],
   "source": [
    "rnn_res_dict = create_data_for_RNN(\n",
    "    latent_states_all,\n",
    "    dt_rnn,\n",
    "    T_sample_input,\n",
    "    T_sample_output,\n",
    "    T_offset,\n",
    "    None,\n",
    "    boundary_idx_arr,\n",
    "    delta_t,\n",
    "    params=params,\n",
    "    return_numsamples=True,\n",
    "    normalize_dataset=normalize_dataset,\n",
    "    stddev_multiplier=stddev_multiplier,\n",
    "    skip_intermediate=skip_intermediate,\n",
    "    return_OrgDataIdxArr=False,\n",
    "    normalization_arr_external=normalization_arr,\n",
    "    normalization_type=normalization_type,\n",
    "    FTYPE=FTYPE,\n",
    "    ITYPE=ITYPE)\n",
    "    \n",
    "data_rnn_input = rnn_res_dict['data_rnn_input']\n",
    "data_rnn_output = rnn_res_dict['data_rnn_output']\n",
    "org_data_idx_arr_input = rnn_res_dict['org_data_idx_arr_input']\n",
    "org_data_idx_arr_output = rnn_res_dict['org_data_idx_arr_output']\n",
    "num_samples = rnn_res_dict['num_samples']\n",
    "normalization_arr = rnn_res_dict['normalization_arr']\n",
    "rnn_data_boundary_idx_arr = rnn_res_dict['rnn_data_boundary_idx_arr']"
   ]
  },
  {
   "cell_type": "code",
   "execution_count": 27,
   "metadata": {
    "executionInfo": {
     "elapsed": 11,
     "status": "ok",
     "timestamp": 1667868778790,
     "user": {
      "displayName": "Rohan Kaushik",
      "userId": "13918477614376051685"
     },
     "user_tz": -60
    },
    "id": "pIsWCXkbr7ws"
   },
   "outputs": [],
   "source": [
    "temp = np.divide(latent_states_all-normalization_arr[0], normalization_arr[1])\n",
    "time_stddev = np.std(temp, axis=0)\n",
    "timeMeanofSpaceRMS = np.mean(np.mean(temp**2, axis=1)**0.5)\n",
    "del(org_data_idx_arr_input)\n",
    "del(org_data_idx_arr_output)\n",
    "del(latent_states_all)\n",
    "del(temp)"
   ]
  },
  {
   "cell_type": "code",
   "execution_count": null,
   "metadata": {
    "executionInfo": {
     "elapsed": 11,
     "status": "ok",
     "timestamp": 1667868778790,
     "user": {
      "displayName": "Rohan Kaushik",
      "userId": "13918477614376051685"
     },
     "user_tz": -60
    },
    "id": "Hem_9PUqneQi"
   },
   "outputs": [],
   "source": []
  },
  {
   "cell_type": "code",
   "execution_count": null,
   "metadata": {
    "executionInfo": {
     "elapsed": 12,
     "status": "ok",
     "timestamp": 1667868778791,
     "user": {
      "displayName": "Rohan Kaushik",
      "userId": "13918477614376051685"
     },
     "user_tz": -60
    },
    "id": "uskBAAXpneQi"
   },
   "outputs": [],
   "source": []
  },
  {
   "cell_type": "code",
   "execution_count": 28,
   "metadata": {
    "executionInfo": {
     "elapsed": 431,
     "status": "ok",
     "timestamp": 1667868779211,
     "user": {
      "displayName": "Rohan Kaushik",
      "userId": "13918477614376051685"
     },
     "user_tz": -60
    },
    "id": "-1uL-GomneQi"
   },
   "outputs": [],
   "source": [
    "# setting up training params\n",
    "num_ensemble_mems = 2\n",
    "epochs = 1\n",
    "lambda_reg_x0 = 1e-7 # weight for regularizer\n",
    "min_delta = 1e-6\n",
    "patience = 5\n",
    "train_split = 0.8\n",
    "val_split = 0.1\n",
    "test_split = 1 - train_split - val_split\n",
    "batch_size = 1\n",
    "fRMS_x0 = 1e-3\n",
    "use_best = False\n",
    "\n",
    "# ph computation parameters\n",
    "num_runs = 50\n",
    "T_sample_input_AR_ratio = 1\n",
    "T_sample_output_AR_ratio = 5\n",
    "\n",
    "# saving training params\n",
    "training_specific_params = {\n",
    "    'epochs':epochs,\n",
    "    'prng_seed':prng_seed,\n",
    "    'train_split':train_split,\n",
    "    'val_split':val_split,\n",
    "    'batch_size':batch_size,\n",
    "    # 'fRMS':fRMS,\n",
    "    'timeMeanofSpaceRMS':timeMeanofSpaceRMS,\n",
    "    # 'stddev':stddev,\n",
    "    # 'lambda_reg':lambda_reg,\n",
    "    'min_delta':min_delta,\n",
    "    'patience':patience,\n",
    "    'use_best':use_best,\n",
    "    'degree_of_connectivity_x0':degree_of_connectivity_x0,\n",
    "}"
   ]
  },
  {
   "cell_type": "code",
   "execution_count": null,
   "metadata": {
    "executionInfo": {
     "elapsed": 3,
     "status": "ok",
     "timestamp": 1667868779212,
     "user": {
      "displayName": "Rohan Kaushik",
      "userId": "13918477614376051685"
     },
     "user_tz": -60
    },
    "id": "4hx9ZaSpEMmv"
   },
   "outputs": [],
   "source": []
  },
  {
   "cell_type": "code",
   "execution_count": 29,
   "metadata": {
    "executionInfo": {
     "elapsed": 391,
     "status": "ok",
     "timestamp": 1667868779601,
     "user": {
      "displayName": "Rohan Kaushik",
      "userId": "13918477614376051685"
     },
     "user_tz": -60
    },
    "id": "EENXaWqcKW7j"
   },
   "outputs": [],
   "source": [
    "cum_samples = rnn_data_boundary_idx_arr[-1]\n",
    "# idx = np.arange(cum_samples)\n",
    "# np.random.shuffle(idx)\n",
    "num_train = 0\n",
    "num_val = 0\n",
    "begin_idx = 0\n",
    "for i in range(len(boundary_idx_arr)):\n",
    "    num_samples = rnn_data_boundary_idx_arr[i] - begin_idx\n",
    "    num_train += int( np.round((1-test_split-val_split)*num_samples) )\n",
    "    num_val += int( np.round(val_split*num_samples) )\n",
    "    begin_idx = rnn_data_boundary_idx_arr[i]\n",
    "\n",
    "# defining shapes\n",
    "training_input_shape = [num_train]\n",
    "training_input_shape.extend(data_rnn_input.shape[1:])\n",
    "\n",
    "training_output_shape = [num_train]\n",
    "training_output_shape.extend(data_rnn_output.shape[1:])\n",
    "\n",
    "val_input_shape = [num_val]\n",
    "val_input_shape.extend(data_rnn_input.shape[1:])\n",
    "\n",
    "val_output_shape = [num_train]\n",
    "val_output_shape.extend(data_rnn_output.shape[1:])\n",
    "\n",
    "testing_input_shape = [cum_samples-num_train-num_val]\n",
    "testing_input_shape.extend(data_rnn_input.shape[1:])\n",
    "\n",
    "testing_output_shape = [cum_samples-num_train-num_val]\n",
    "testing_output_shape.extend(data_rnn_output.shape[1:])\n",
    "\n",
    "# defining required arrays\n",
    "training_data_rnn_input = np.empty(shape=training_input_shape, dtype=FTYPE)\n",
    "training_data_rnn_output = np.empty(shape=training_output_shape, dtype=FTYPE)\n",
    "\n",
    "val_data_rnn_input = np.empty(shape=val_input_shape, dtype=FTYPE)\n",
    "val_data_rnn_output = np.empty(shape=val_output_shape, dtype=FTYPE)\n",
    "\n",
    "testing_data_rnn_input = np.empty(shape=testing_input_shape, dtype=FTYPE)\n",
    "testing_data_rnn_output = np.empty(shape=testing_output_shape, dtype=FTYPE)\n",
    "\n",
    "begin_idx = 0\n",
    "training_data_rolling_count = 0\n",
    "val_data_rolling_count = 0\n",
    "testing_data_rolling_count = 0\n",
    "for i in range(len(boundary_idx_arr)):\n",
    "    idx = np.arange(begin_idx, rnn_data_boundary_idx_arr[i])\n",
    "    # np.random.shuffle(idx)\n",
    "    num_samples = idx.shape[0]\n",
    "    num_train = int( np.round((1-test_split-val_split)*num_samples) )\n",
    "    num_val = int( np.round(val_split*num_samples) )\n",
    "\n",
    "    training_data_rnn_input[training_data_rolling_count:training_data_rolling_count+num_train] = data_rnn_input[idx[0:num_train]]\n",
    "    training_data_rnn_output[training_data_rolling_count:training_data_rolling_count+num_train] = data_rnn_output[idx[0:num_train]]\n",
    "    training_data_rolling_count += num_train\n",
    "\n",
    "    val_data_rnn_input[val_data_rolling_count:val_data_rolling_count+num_val] = data_rnn_input[idx[num_train:num_train+num_val]]\n",
    "    val_data_rnn_output[val_data_rolling_count:val_data_rolling_count+num_val] = data_rnn_output[idx[num_train:num_train+num_val]]\n",
    "    val_data_rolling_count += num_val\n",
    "\n",
    "    num_test = num_samples-num_train-num_val+1\n",
    "    testing_data_rnn_input[testing_data_rolling_count:testing_data_rolling_count+num_test] = data_rnn_input[idx[num_train+num_val:]]\n",
    "    testing_data_rnn_output[testing_data_rolling_count:testing_data_rolling_count+num_test] = data_rnn_output[idx[num_train+num_val:]]\n",
    "    testing_data_rolling_count += num_test\n",
    "\n",
    "    begin_idx = rnn_data_boundary_idx_arr[i]\n",
    "\n",
    "# cleaning up\n",
    "del(data_rnn_input)\n",
    "del(data_rnn_output)\n",
    "\n",
    "# further shuffling\n",
    "# idx = np.arange(0, training_data_rnn_input.shape[0])\n",
    "# np.random.shuffle(idx)\n",
    "# training_data_rnn_input = training_data_rnn_input[idx]\n",
    "# training_data_rnn_output = training_data_rnn_output[idx]\n",
    "\n",
    "# idx = np.arange(0, val_data_rnn_input.shape[0])\n",
    "# np.random.shuffle(idx)\n",
    "# val_data_rnn_input = val_data_rnn_input[idx]\n",
    "# val_data_rnn_output = val_data_rnn_output[idx]\n",
    "\n",
    "# idx = np.arange(0, testing_data_rnn_input.shape[0])\n",
    "# np.random.shuffle(idx)\n",
    "# testing_data_rnn_input = testing_data_rnn_input[idx]\n",
    "# testing_data_rnn_output = testing_data_rnn_output[idx]\n",
    "\n",
    "# del(idx)"
   ]
  },
  {
   "cell_type": "code",
   "execution_count": 30,
   "metadata": {
    "executionInfo": {
     "elapsed": 5,
     "status": "ok",
     "timestamp": 1667868779603,
     "user": {
      "displayName": "Rohan Kaushik",
      "userId": "13918477614376051685"
     },
     "user_tz": -60
    },
    "id": "8isZN1tYBifp"
   },
   "outputs": [
    {
     "name": "stdout",
     "output_type": "stream",
     "text": [
      "training_data_rnn_input.shape :  (4, 25000, 5)\n",
      " testing_data_rnn_input.shape :  (1, 25000, 5)\n",
      "     val_data_rnn_input.shape :  (0, 25000, 5)\n"
     ]
    }
   ],
   "source": [
    "print('training_data_rnn_input.shape : ', training_data_rnn_input.shape)\n",
    "print(' testing_data_rnn_input.shape : ', testing_data_rnn_input.shape)\n",
    "print('     val_data_rnn_input.shape : ', val_data_rnn_input.shape)"
   ]
  },
  {
   "cell_type": "code",
   "execution_count": null,
   "metadata": {
    "executionInfo": {
     "elapsed": 7,
     "status": "ok",
     "timestamp": 1667868779605,
     "user": {
      "displayName": "Rohan Kaushik",
      "userId": "13918477614376051685"
     },
     "user_tz": -60
    },
    "id": "x3KglJsgneQj"
   },
   "outputs": [],
   "source": []
  },
  {
   "cell_type": "code",
   "execution_count": null,
   "metadata": {
    "executionInfo": {
     "elapsed": 8,
     "status": "ok",
     "timestamp": 1667868779606,
     "user": {
      "displayName": "Rohan Kaushik",
      "userId": "13918477614376051685"
     },
     "user_tz": -60
    },
    "id": "ixetsZHjCMKO"
   },
   "outputs": [],
   "source": []
  },
  {
   "cell_type": "code",
   "execution_count": null,
   "metadata": {
    "executionInfo": {
     "elapsed": 7,
     "status": "ok",
     "timestamp": 1667868779606,
     "user": {
      "displayName": "Rohan Kaushik",
      "userId": "13918477614376051685"
     },
     "user_tz": -60
    },
    "id": "_NSTtZuyneQk"
   },
   "outputs": [],
   "source": []
  },
  {
   "cell_type": "code",
   "execution_count": null,
   "metadata": {
    "colab": {
     "base_uri": "https://localhost:8080/"
    },
    "executionInfo": {
     "elapsed": 3631,
     "status": "ok",
     "timestamp": 1667868783230,
     "user": {
      "displayName": "Rohan Kaushik",
      "userId": "13918477614376051685"
     },
     "user_tz": -60
    },
    "id": "Py-Jg0QKneQk",
    "outputId": "1b768270-9013-4d53-8b5e-63e69776e3ac",
    "scrolled": false
   },
   "outputs": [],
   "source": []
  },
  {
   "cell_type": "code",
   "execution_count": null,
   "metadata": {},
   "outputs": [],
   "source": []
  },
  {
   "cell_type": "code",
   "execution_count": 31,
   "metadata": {
    "executionInfo": {
     "elapsed": 4,
     "status": "ok",
     "timestamp": 1667868783568,
     "user": {
      "displayName": "Rohan Kaushik",
      "userId": "13918477614376051685"
     },
     "user_tz": -60
    },
    "id": "7ASCopnIH6nl"
   },
   "outputs": [],
   "source": [
    "val_loss_hist = []\n",
    "train_loss_hist = []"
   ]
  },
  {
   "cell_type": "code",
   "execution_count": null,
   "metadata": {},
   "outputs": [],
   "source": []
  },
  {
   "cell_type": "code",
   "execution_count": null,
   "metadata": {},
   "outputs": [],
   "source": []
  },
  {
   "cell_type": "code",
   "execution_count": 32,
   "metadata": {},
   "outputs": [
    {
     "data": {
      "text/plain": [
       "dtype('float32')"
      ]
     },
     "execution_count": 32,
     "metadata": {},
     "output_type": "execute_result"
    }
   ],
   "source": [
    "training_data_rnn_input.dtype"
   ]
  },
  {
   "cell_type": "code",
   "execution_count": 33,
   "metadata": {
    "colab": {
     "base_uri": "https://localhost:8080/"
    },
    "executionInfo": {
     "elapsed": 4769220,
     "status": "ok",
     "timestamp": 1667873552785,
     "user": {
      "displayName": "Rohan Kaushik",
      "userId": "13918477614376051685"
     },
     "user_tz": -60
    },
    "id": "6hh1pbKjCcO4",
    "outputId": "e594f4de-ec70-465e-eef7-bdef301361fa",
    "scrolled": true
   },
   "outputs": [],
   "source": [
    "def optim_func(\n",
    "        x, # [fRMS, lambda_reg, rho_res, omega_in, alpha, degree_of_connectivity]\n",
    "        time_stddev=time_stddev,\n",
    "        og_vars=og_vars,\n",
    "        ESN=ESN,\n",
    "        plot_losses=plot_losses,\n",
    "        dir_name_rnn=dir_name_rnn,\n",
    "        boundary_idx_arr=boundary_idx_arr,\n",
    "        lyapunov_time_arr=lyapunov_time_arr,\n",
    "        sim_data_dict=sim_data,\n",
    "        RNN_specific_data_dict=RNN_specific_data,\n",
    "        training_specific_params_dict=training_specific_params,\n",
    "        normalization_arr=normalization_arr,\n",
    "        training_data_rnn_input=training_data_rnn_input,\n",
    "        training_data_rnn_output=training_data_rnn_output,\n",
    "        testing_data_rnn_input=testing_data_rnn_input,\n",
    "        testing_data_rnn_output=testing_data_rnn_output,\n",
    "        val_data_rnn_input=val_data_rnn_input,\n",
    "        val_data_rnn_output=val_data_rnn_output,\n",
    "        return_params_arr=return_params_arr,\n",
    "        normalize_dataset=normalize_dataset,\n",
    "        dt_rnn=dt_rnn,\n",
    "        noise_type=noise_type,\n",
    "        num_ensemble_mems=num_ensemble_mems,\n",
    "        ESN_layers_units=ESN_layers_units,\n",
    "        stateful=stateful,\n",
    "        usebias_Win=usebias_Win,\n",
    "        ESN_cell_activations=ESN_cell_activations,\n",
    "        usebias_Wout=usebias_Wout,\n",
    "        activation_post_Wout=activation_post_Wout,\n",
    "        use_weights_post_dense=use_weights_post_dense,\n",
    "        prng_seed=prng_seed,\n",
    "        epochs=epochs,\n",
    "        patience=patience,  # parameter for early stopping\n",
    "        min_delta=min_delta,  # parameter for early stopping\n",
    "        batch_size=batch_size,\n",
    "        num_runs=num_runs,\n",
    "        T_sample_input_AR_ratio=T_sample_input_AR_ratio,\n",
    "        T_sample_output_AR_ratio=T_sample_output_AR_ratio,\n",
    "        use_best=use_best,\n",
    "        deg_of_connectivity=degree_of_connectivity_x0,\n",
    "    ):\n",
    "    \n",
    "    compute_time = time.time()\n",
    "    \n",
    "    x_in = x\n",
    "    if len(x) == 5:\n",
    "        x_in = [elem for elem in x]\n",
    "        x_in.append(deg_of_connectivity)\n",
    "\n",
    "    median_PH = trainESN_and_return_PH(\n",
    "        x_in, # [fRMS, lambda_reg, rho_res, omega_in, alpha, degree_of_connectivity]\n",
    "        time_stddev,\n",
    "        og_vars,\n",
    "        ESN,\n",
    "        plot_losses,\n",
    "        dir_name_rnn,\n",
    "        boundary_idx_arr,\n",
    "        lyapunov_time_arr,\n",
    "        sim_data_dict,\n",
    "        RNN_specific_data_dict,\n",
    "        training_specific_params_dict,\n",
    "        normalization_arr,\n",
    "        training_data_rnn_input,\n",
    "        training_data_rnn_output,\n",
    "        testing_data_rnn_input,\n",
    "        testing_data_rnn_output,\n",
    "        val_data_rnn_input,\n",
    "        val_data_rnn_output,\n",
    "        return_params_arr,\n",
    "        normalize_dataset,\n",
    "        dt_rnn,\n",
    "        noise_type,\n",
    "        num_ensemble_mems=num_ensemble_mems,\n",
    "        ESN_layers_units=ESN_layers_units,\n",
    "        stateful=stateful,\n",
    "        usebias_Win=usebias_Win,\n",
    "        ESN_cell_activations=ESN_cell_activations,\n",
    "        usebias_Wout=usebias_Wout,\n",
    "        activation_post_Wout=activation_post_Wout,\n",
    "        use_weights_post_dense=use_weights_post_dense,\n",
    "        prng_seed=prng_seed,\n",
    "        epochs=epochs,\n",
    "        patience=patience,  # parameter for early stopping\n",
    "        min_delta=min_delta,  # parameter for early stopping\n",
    "        batch_size=batch_size,\n",
    "        num_runs=num_runs,\n",
    "        T_sample_input_AR_ratio=T_sample_input_AR_ratio,\n",
    "        T_sample_output_AR_ratio=T_sample_output_AR_ratio,\n",
    "        use_best=use_best,\n",
    "    )\n",
    "    \n",
    "    compute_time = time.time() - compute_time\n",
    "    print('compute_time : {:.0f}h {:.0f}m {:.0f}s'.format(\n",
    "        float(compute_time // 3600),\n",
    "        float((compute_time%3600)//60),\n",
    "        float((compute_time%3600)%60),\n",
    "    ))\n",
    "    \n",
    "    return -median_PH"
   ]
  },
  {
   "cell_type": "code",
   "execution_count": 34,
   "metadata": {},
   "outputs": [],
   "source": [
    "fRMS_bounds = Real(0.1/100, 10/100, \"log-uniform\")\n",
    "lambda_reg_bounds = Real(1e-7, 1e-3, \"log-uniform\")\n",
    "rho_res_bounds = Real(0.2, 0.95)\n",
    "omega_in_bounds = Real(0.5, 1.5)\n",
    "alpha_bounds = Real(0.5, 1.0)\n",
    "degree_of_connectivity_bounds = Integer(1, 10)\n",
    "acq_func = \"EI\"\n",
    "n_initial_points = 10\n",
    "n_calls = n_initial_points + 50\n",
    "\n",
    "optim_dict = {\n",
    "    'fRMS_bounds':fRMS_bounds,\n",
    "    'lambda_reg_bounds':lambda_reg_bounds,\n",
    "    'rho_res_bounds':rho_res_bounds,\n",
    "    'omega_in_bounds':omega_in_bounds,\n",
    "    'alpha_bounds':alpha_bounds,\n",
    "    # 'degree_of_connectivity_bounds':degree_of_connectivity_bounds,\n",
    "    'n_calls':n_calls,\n",
    "    'acq_func':acq_func,\n",
    "    'n_initial_points':n_initial_points,\n",
    "    'random_state':prng_seed,\n",
    "}\n",
    "if vary_deg_connect == True:\n",
    "    optim_dict['degree_of_connectivity_bounds'] = degree_of_connectivity_bounds\n",
    "with open(dir_name_rnn + '/optim_params.txt', 'w') as f:\n",
    "    f.write(str(optim_dict))\n",
    "    \n",
    "dimensions = [\n",
    "    fRMS_bounds,\n",
    "    lambda_reg_bounds,\n",
    "    rho_res_bounds,\n",
    "    omega_in_bounds,\n",
    "    alpha_bounds,\n",
    "    # degree_of_connectivity_bounds\n",
    "]\n",
    "if vary_deg_connect == True:\n",
    "    dimensions.append(degree_of_connectivity_bounds)"
   ]
  },
  {
   "cell_type": "code",
   "execution_count": 35,
   "metadata": {
    "colab": {
     "base_uri": "https://localhost:8080/"
    },
    "executionInfo": {
     "elapsed": 10543,
     "status": "ok",
     "timestamp": 1667873563321,
     "user": {
      "displayName": "Rohan Kaushik",
      "userId": "13918477614376051685"
     },
     "user_tz": -60
    },
    "id": "SO7iK4mbneQm",
    "outputId": "48110900-962a-49c1-c532-718999590884",
    "scrolled": true
   },
   "outputs": [
    {
     "name": "stdout",
     "output_type": "stream",
     "text": [
      "--- ENSEMBLE MEMBER 1/2 ---\n",
      "\n",
      "\n",
      "--------------------------------------------------------------------------------\n",
      "\n",
      "---------------------------------- EPOCH : 1 -----------------------------------\n",
      "\n",
      "--------------------------------------------------------------------------------\n",
      "\n",
      "\n",
      "1 / 4 -- Wout batch_time : 4.19 s -- eta : 0h 0m 13s\n",
      "2 / 4 -- Wout batch_time : 3.97 s -- eta : 0h 0m 8s\n",
      "3 / 4 -- Wout batch_time : 3.62 s -- eta : 0h 0m 4s\n",
      "4 / 4 -- Wout batch_time : 3.64 s -- eta : 0h 0m 0s\n",
      "\n",
      "epoch_time : 15.53205680847168 sec\n",
      "\n",
      "val mse\n",
      "\n",
      "training mse\n",
      "1 / 4 -- batch_time : 3.1709864139556885 sec\n",
      "2 / 4 -- batch_time : 3.3731415271759033 sec\n",
      "3 / 4 -- batch_time : 3.2751903533935547 sec\n",
      "4 / 4 -- batch_time : 3.371429443359375 sec\n",
      "\n",
      "train_mse : 5.705479533268942e-09\n",
      "val_mse : 0\n",
      "val_mse improved from inf\n",
      "\n",
      "Total epoch computation time : 28.726703882217407 sec\n",
      "\n",
      "test mse\n",
      "1 / 1\n",
      "test_mse : 2.169272738683503e-05\n",
      "--- ENSEMBLE MEMBER 2/2 ---\n",
      "\n",
      "\n",
      "--------------------------------------------------------------------------------\n",
      "\n",
      "---------------------------------- EPOCH : 1 -----------------------------------\n",
      "\n",
      "--------------------------------------------------------------------------------\n",
      "\n",
      "\n",
      "1 / 4 -- Wout batch_time : 4.05 s -- eta : 0h 0m 12s\n",
      "2 / 4 -- Wout batch_time : 3.57 s -- eta : 0h 0m 8s\n",
      "3 / 4 -- Wout batch_time : 4.05 s -- eta : 0h 0m 4s\n",
      "4 / 4 -- Wout batch_time : 3.49 s -- eta : 0h 0m 0s\n",
      "\n",
      "epoch_time : 15.27389931678772 sec\n",
      "\n",
      "val mse\n",
      "\n",
      "training mse\n",
      "1 / 4 -- batch_time : 3.049539566040039 sec\n",
      "2 / 4 -- batch_time : 3.003730297088623 sec\n",
      "3 / 4 -- batch_time : 3.3192641735076904 sec\n",
      "4 / 4 -- batch_time : 3.1464149951934814 sec\n",
      "\n",
      "train_mse : 5.641954570201335e-09\n",
      "val_mse : 0\n",
      "val_mse improved from inf\n",
      "\n",
      "Total epoch computation time : 27.79645586013794 sec\n",
      "\n",
      "test mse\n",
      "1 / 1\n",
      "test_mse : 2.4500319341314025e-05\n",
      "tested_ESN/test_ESN_000\n",
      "num_runs : 50\n",
      "ListWrapper([])\n",
      "ListWrapper([True])\n",
      "ListWrapper([True])\n",
      "ListWrapper([True, True])\n",
      "    build_time : 0h 1m 26s\n",
      "    1 / 50 -- run_time : 1087.14 s -- eta : 14h 47m 50s\n",
      "    2 / 50 -- run_time : 3.17 s -- eta : 7h 16m 7s\n",
      "    3 / 50 -- run_time : 2.90 s -- eta : 4h 45m 27s\n",
      "    4 / 50 -- run_time : 3.26 s -- eta : 3h 30m 9s\n",
      "    5 / 50 -- run_time : 3.41 s -- eta : 2h 44m 59s\n",
      "    6 / 50 -- run_time : 3.00 s -- eta : 2h 14m 48s\n",
      "    7 / 50 -- run_time : 3.21 s -- eta : 1h 53m 15s\n",
      "    8 / 50 -- run_time : 3.41 s -- eta : 1h 37m 5s\n",
      "    9 / 50 -- run_time : 3.17 s -- eta : 1h 24m 29s\n",
      "    10 / 50 -- run_time : 3.42 s -- eta : 1h 14m 24s\n",
      "    11 / 50 -- run_time : 3.13 s -- eta : 1h 6m 8s\n",
      "    12 / 50 -- run_time : 3.36 s -- eta : 0h 59m 15s\n",
      "    13 / 50 -- run_time : 3.52 s -- eta : 0h 53m 25s\n",
      "    14 / 50 -- run_time : 3.40 s -- eta : 0h 48m 24s\n",
      "    15 / 50 -- run_time : 3.47 s -- eta : 0h 44m 4s\n",
      "    16 / 50 -- run_time : 2.91 s -- eta : 0h 40m 14s\n",
      "    17 / 50 -- run_time : 3.13 s -- eta : 0h 36m 51s\n",
      "    18 / 50 -- run_time : 3.35 s -- eta : 0h 33m 51s\n",
      "    19 / 50 -- run_time : 3.11 s -- eta : 0h 31m 9s\n",
      "    20 / 50 -- run_time : 3.31 s -- eta : 0h 28m 43s\n",
      "    21 / 50 -- run_time : 3.16 s -- eta : 0h 26m 31s\n",
      "    22 / 50 -- run_time : 2.94 s -- eta : 0h 24m 30s\n",
      "    23 / 50 -- run_time : 2.94 s -- eta : 0h 22m 39s\n",
      "    24 / 50 -- run_time : 3.03 s -- eta : 0h 20m 58s\n",
      "    25 / 50 -- run_time : 3.30 s -- eta : 0h 19m 24s\n",
      "    26 / 50 -- run_time : 2.98 s -- eta : 0h 17m 57s\n",
      "    27 / 50 -- run_time : 3.45 s -- eta : 0h 16m 37s\n",
      "    28 / 50 -- run_time : 3.18 s -- eta : 0h 15m 22s\n",
      "    29 / 50 -- run_time : 3.14 s -- eta : 0h 14m 12s\n",
      "    30 / 50 -- run_time : 3.51 s -- eta : 0h 13m 7s\n",
      "    31 / 50 -- run_time : 3.05 s -- eta : 0h 12m 5s\n",
      "    32 / 50 -- run_time : 3.43 s -- eta : 0h 11m 8s\n",
      "    33 / 50 -- run_time : 3.19 s -- eta : 0h 10m 13s\n",
      "    34 / 50 -- run_time : 3.25 s -- eta : 0h 9m 22s\n",
      "    35 / 50 -- run_time : 3.04 s -- eta : 0h 8m 33s\n",
      "    36 / 50 -- run_time : 3.28 s -- eta : 0h 7m 47s\n",
      "    37 / 50 -- run_time : 3.20 s -- eta : 0h 7m 3s\n",
      "    38 / 50 -- run_time : 2.79 s -- eta : 0h 6m 21s\n",
      "    39 / 50 -- run_time : 2.90 s -- eta : 0h 5m 41s\n",
      "    40 / 50 -- run_time : 2.98 s -- eta : 0h 5m 3s\n",
      "    41 / 50 -- run_time : 2.97 s -- eta : 0h 4m 27s\n",
      "    42 / 50 -- run_time : 3.33 s -- eta : 0h 3m 52s\n",
      "    43 / 50 -- run_time : 3.12 s -- eta : 0h 3m 19s\n",
      "    44 / 50 -- run_time : 3.30 s -- eta : 0h 2m 47s\n",
      "    45 / 50 -- run_time : 3.26 s -- eta : 0h 2m 16s\n",
      "    46 / 50 -- run_time : 3.06 s -- eta : 0h 1m 47s\n",
      "    47 / 50 -- run_time : 3.07 s -- eta : 0h 1m 19s\n",
      "    48 / 50 -- run_time : 2.92 s -- eta : 0h 0m 52s\n",
      "    49 / 50 -- run_time : 3.35 s -- eta : 0h 0m 25s\n",
      "    50 / 50 -- run_time : 2.78 s -- eta : 0h 0m 0s\n",
      "\n",
      "error_threshold = 0.5\n",
      "prediction_horizon : 0.0, median : 0.0\n",
      "ph_min : 0.0, ph_max : 0.0\n",
      "stddev : 0.0, IQR : 0.0\n",
      "1st quartile : 0.0, 3rd quartile : 0.0\n"
     ]
    },
    {
     "ename": "ValueError",
     "evalue": "`bins` must be positive, when an integer",
     "output_type": "error",
     "traceback": [
      "\u001b[0;31m---------------------------------------------------------------------------\u001b[0m",
      "\u001b[0;31mValueError\u001b[0m                                Traceback (most recent call last)",
      "Cell \u001b[0;32mIn [35], line 5\u001b[0m\n\u001b[1;32m      2\u001b[0m \u001b[38;5;28;01mif\u001b[39;00m vary_deg_connect \u001b[38;5;241m==\u001b[39m \u001b[38;5;28;01mTrue\u001b[39;00m:\n\u001b[1;32m      3\u001b[0m     x0\u001b[38;5;241m.\u001b[39mappend(degree_of_connectivity_x0)\n\u001b[0;32m----> 5\u001b[0m res \u001b[38;5;241m=\u001b[39m \u001b[43mgp_minimize\u001b[49m\u001b[43m(\u001b[49m\n\u001b[1;32m      6\u001b[0m \u001b[43m    \u001b[49m\u001b[43moptim_func\u001b[49m\u001b[43m,\u001b[49m\n\u001b[1;32m      7\u001b[0m \u001b[43m    \u001b[49m\u001b[43mdimensions\u001b[49m\u001b[43m,\u001b[49m\n\u001b[1;32m      8\u001b[0m \u001b[43m    \u001b[49m\u001b[43mx0\u001b[49m\u001b[38;5;241;43m=\u001b[39;49m\u001b[43mx0\u001b[49m\u001b[43m,\u001b[49m\n\u001b[1;32m      9\u001b[0m \u001b[43m    \u001b[49m\u001b[43mn_calls\u001b[49m\u001b[38;5;241;43m=\u001b[39;49m\u001b[43mn_calls\u001b[49m\u001b[43m,\u001b[49m\n\u001b[1;32m     10\u001b[0m \u001b[43m    \u001b[49m\u001b[43mn_initial_points\u001b[49m\u001b[38;5;241;43m=\u001b[39;49m\u001b[43mn_initial_points\u001b[49m\u001b[43m,\u001b[49m\n\u001b[1;32m     11\u001b[0m \u001b[43m    \u001b[49m\u001b[43mrandom_state\u001b[49m\u001b[38;5;241;43m=\u001b[39;49m\u001b[43mprng_seed\u001b[49m\u001b[43m,\u001b[49m\n\u001b[1;32m     12\u001b[0m \u001b[43m    \u001b[49m\u001b[43macq_func\u001b[49m\u001b[38;5;241;43m=\u001b[39;49m\u001b[43macq_func\u001b[49m\u001b[43m,\u001b[49m\n\u001b[1;32m     13\u001b[0m \u001b[43m)\u001b[49m\n",
      "File \u001b[0;32m~/miniconda3/envs/tf-gpu/lib/python3.10/site-packages/skopt/optimizer/gp.py:259\u001b[0m, in \u001b[0;36mgp_minimize\u001b[0;34m(func, dimensions, base_estimator, n_calls, n_random_starts, n_initial_points, initial_point_generator, acq_func, acq_optimizer, x0, y0, random_state, verbose, callback, n_points, n_restarts_optimizer, xi, kappa, noise, n_jobs, model_queue_size)\u001b[0m\n\u001b[1;32m    254\u001b[0m \u001b[38;5;28;01mif\u001b[39;00m base_estimator \u001b[38;5;129;01mis\u001b[39;00m \u001b[38;5;28;01mNone\u001b[39;00m:\n\u001b[1;32m    255\u001b[0m     base_estimator \u001b[38;5;241m=\u001b[39m cook_estimator(\n\u001b[1;32m    256\u001b[0m         \u001b[38;5;124m\"\u001b[39m\u001b[38;5;124mGP\u001b[39m\u001b[38;5;124m\"\u001b[39m, space\u001b[38;5;241m=\u001b[39mspace, random_state\u001b[38;5;241m=\u001b[39mrng\u001b[38;5;241m.\u001b[39mrandint(\u001b[38;5;241m0\u001b[39m, np\u001b[38;5;241m.\u001b[39miinfo(np\u001b[38;5;241m.\u001b[39mint32)\u001b[38;5;241m.\u001b[39mmax),\n\u001b[1;32m    257\u001b[0m         noise\u001b[38;5;241m=\u001b[39mnoise)\n\u001b[0;32m--> 259\u001b[0m \u001b[38;5;28;01mreturn\u001b[39;00m \u001b[43mbase_minimize\u001b[49m\u001b[43m(\u001b[49m\n\u001b[1;32m    260\u001b[0m \u001b[43m    \u001b[49m\u001b[43mfunc\u001b[49m\u001b[43m,\u001b[49m\u001b[43m \u001b[49m\u001b[43mspace\u001b[49m\u001b[43m,\u001b[49m\u001b[43m \u001b[49m\u001b[43mbase_estimator\u001b[49m\u001b[38;5;241;43m=\u001b[39;49m\u001b[43mbase_estimator\u001b[49m\u001b[43m,\u001b[49m\n\u001b[1;32m    261\u001b[0m \u001b[43m    \u001b[49m\u001b[43macq_func\u001b[49m\u001b[38;5;241;43m=\u001b[39;49m\u001b[43macq_func\u001b[49m\u001b[43m,\u001b[49m\n\u001b[1;32m    262\u001b[0m \u001b[43m    \u001b[49m\u001b[43mxi\u001b[49m\u001b[38;5;241;43m=\u001b[39;49m\u001b[43mxi\u001b[49m\u001b[43m,\u001b[49m\u001b[43m \u001b[49m\u001b[43mkappa\u001b[49m\u001b[38;5;241;43m=\u001b[39;49m\u001b[43mkappa\u001b[49m\u001b[43m,\u001b[49m\u001b[43m \u001b[49m\u001b[43macq_optimizer\u001b[49m\u001b[38;5;241;43m=\u001b[39;49m\u001b[43macq_optimizer\u001b[49m\u001b[43m,\u001b[49m\u001b[43m \u001b[49m\u001b[43mn_calls\u001b[49m\u001b[38;5;241;43m=\u001b[39;49m\u001b[43mn_calls\u001b[49m\u001b[43m,\u001b[49m\n\u001b[1;32m    263\u001b[0m \u001b[43m    \u001b[49m\u001b[43mn_points\u001b[49m\u001b[38;5;241;43m=\u001b[39;49m\u001b[43mn_points\u001b[49m\u001b[43m,\u001b[49m\u001b[43m \u001b[49m\u001b[43mn_random_starts\u001b[49m\u001b[38;5;241;43m=\u001b[39;49m\u001b[43mn_random_starts\u001b[49m\u001b[43m,\u001b[49m\n\u001b[1;32m    264\u001b[0m \u001b[43m    \u001b[49m\u001b[43mn_initial_points\u001b[49m\u001b[38;5;241;43m=\u001b[39;49m\u001b[43mn_initial_points\u001b[49m\u001b[43m,\u001b[49m\n\u001b[1;32m    265\u001b[0m \u001b[43m    \u001b[49m\u001b[43minitial_point_generator\u001b[49m\u001b[38;5;241;43m=\u001b[39;49m\u001b[43minitial_point_generator\u001b[49m\u001b[43m,\u001b[49m\n\u001b[1;32m    266\u001b[0m \u001b[43m    \u001b[49m\u001b[43mn_restarts_optimizer\u001b[49m\u001b[38;5;241;43m=\u001b[39;49m\u001b[43mn_restarts_optimizer\u001b[49m\u001b[43m,\u001b[49m\n\u001b[1;32m    267\u001b[0m \u001b[43m    \u001b[49m\u001b[43mx0\u001b[49m\u001b[38;5;241;43m=\u001b[39;49m\u001b[43mx0\u001b[49m\u001b[43m,\u001b[49m\u001b[43m \u001b[49m\u001b[43my0\u001b[49m\u001b[38;5;241;43m=\u001b[39;49m\u001b[43my0\u001b[49m\u001b[43m,\u001b[49m\u001b[43m \u001b[49m\u001b[43mrandom_state\u001b[49m\u001b[38;5;241;43m=\u001b[39;49m\u001b[43mrng\u001b[49m\u001b[43m,\u001b[49m\u001b[43m \u001b[49m\u001b[43mverbose\u001b[49m\u001b[38;5;241;43m=\u001b[39;49m\u001b[43mverbose\u001b[49m\u001b[43m,\u001b[49m\n\u001b[1;32m    268\u001b[0m \u001b[43m    \u001b[49m\u001b[43mcallback\u001b[49m\u001b[38;5;241;43m=\u001b[39;49m\u001b[43mcallback\u001b[49m\u001b[43m,\u001b[49m\u001b[43m \u001b[49m\u001b[43mn_jobs\u001b[49m\u001b[38;5;241;43m=\u001b[39;49m\u001b[43mn_jobs\u001b[49m\u001b[43m,\u001b[49m\u001b[43m \u001b[49m\u001b[43mmodel_queue_size\u001b[49m\u001b[38;5;241;43m=\u001b[39;49m\u001b[43mmodel_queue_size\u001b[49m\u001b[43m)\u001b[49m\n",
      "File \u001b[0;32m~/miniconda3/envs/tf-gpu/lib/python3.10/site-packages/skopt/optimizer/base.py:282\u001b[0m, in \u001b[0;36mbase_minimize\u001b[0;34m(func, dimensions, base_estimator, n_calls, n_random_starts, n_initial_points, initial_point_generator, acq_func, acq_optimizer, x0, y0, random_state, verbose, callback, n_points, n_restarts_optimizer, xi, kappa, n_jobs, model_queue_size)\u001b[0m\n\u001b[1;32m    280\u001b[0m \u001b[38;5;66;03m# evaluate y0 if only x0 is provided\u001b[39;00m\n\u001b[1;32m    281\u001b[0m \u001b[38;5;28;01mif\u001b[39;00m x0 \u001b[38;5;129;01mand\u001b[39;00m y0 \u001b[38;5;129;01mis\u001b[39;00m \u001b[38;5;28;01mNone\u001b[39;00m:\n\u001b[0;32m--> 282\u001b[0m     y0 \u001b[38;5;241m=\u001b[39m \u001b[38;5;28;43mlist\u001b[39;49m\u001b[43m(\u001b[49m\u001b[38;5;28;43mmap\u001b[39;49m\u001b[43m(\u001b[49m\u001b[43mfunc\u001b[49m\u001b[43m,\u001b[49m\u001b[43m \u001b[49m\u001b[43mx0\u001b[49m\u001b[43m)\u001b[49m\u001b[43m)\u001b[49m\n\u001b[1;32m    283\u001b[0m     n_calls \u001b[38;5;241m-\u001b[39m\u001b[38;5;241m=\u001b[39m \u001b[38;5;28mlen\u001b[39m(y0)\n\u001b[1;32m    284\u001b[0m \u001b[38;5;66;03m# record through tell function\u001b[39;00m\n",
      "Cell \u001b[0;32mIn [33], line 51\u001b[0m, in \u001b[0;36moptim_func\u001b[0;34m(x, time_stddev, og_vars, ESN, plot_losses, dir_name_rnn, boundary_idx_arr, lyapunov_time_arr, sim_data_dict, RNN_specific_data_dict, training_specific_params_dict, normalization_arr, training_data_rnn_input, training_data_rnn_output, testing_data_rnn_input, testing_data_rnn_output, val_data_rnn_input, val_data_rnn_output, return_params_arr, normalize_dataset, dt_rnn, noise_type, num_ensemble_mems, ESN_layers_units, stateful, usebias_Win, ESN_cell_activations, usebias_Wout, activation_post_Wout, use_weights_post_dense, prng_seed, epochs, patience, min_delta, batch_size, num_runs, T_sample_input_AR_ratio, T_sample_output_AR_ratio, use_best, deg_of_connectivity)\u001b[0m\n\u001b[1;32m     48\u001b[0m     x_in \u001b[38;5;241m=\u001b[39m [elem \u001b[38;5;28;01mfor\u001b[39;00m elem \u001b[38;5;129;01min\u001b[39;00m x]\n\u001b[1;32m     49\u001b[0m     x_in\u001b[38;5;241m.\u001b[39mappend(deg_of_connectivity)\n\u001b[0;32m---> 51\u001b[0m median_PH \u001b[38;5;241m=\u001b[39m \u001b[43mtrainESN_and_return_PH\u001b[49m\u001b[43m(\u001b[49m\n\u001b[1;32m     52\u001b[0m \u001b[43m    \u001b[49m\u001b[43mx_in\u001b[49m\u001b[43m,\u001b[49m\u001b[43m \u001b[49m\u001b[38;5;66;43;03m# [fRMS, lambda_reg, rho_res, omega_in, alpha, degree_of_connectivity]\u001b[39;49;00m\n\u001b[1;32m     53\u001b[0m \u001b[43m    \u001b[49m\u001b[43mtime_stddev\u001b[49m\u001b[43m,\u001b[49m\n\u001b[1;32m     54\u001b[0m \u001b[43m    \u001b[49m\u001b[43mog_vars\u001b[49m\u001b[43m,\u001b[49m\n\u001b[1;32m     55\u001b[0m \u001b[43m    \u001b[49m\u001b[43mESN\u001b[49m\u001b[43m,\u001b[49m\n\u001b[1;32m     56\u001b[0m \u001b[43m    \u001b[49m\u001b[43mplot_losses\u001b[49m\u001b[43m,\u001b[49m\n\u001b[1;32m     57\u001b[0m \u001b[43m    \u001b[49m\u001b[43mdir_name_rnn\u001b[49m\u001b[43m,\u001b[49m\n\u001b[1;32m     58\u001b[0m \u001b[43m    \u001b[49m\u001b[43mboundary_idx_arr\u001b[49m\u001b[43m,\u001b[49m\n\u001b[1;32m     59\u001b[0m \u001b[43m    \u001b[49m\u001b[43mlyapunov_time_arr\u001b[49m\u001b[43m,\u001b[49m\n\u001b[1;32m     60\u001b[0m \u001b[43m    \u001b[49m\u001b[43msim_data_dict\u001b[49m\u001b[43m,\u001b[49m\n\u001b[1;32m     61\u001b[0m \u001b[43m    \u001b[49m\u001b[43mRNN_specific_data_dict\u001b[49m\u001b[43m,\u001b[49m\n\u001b[1;32m     62\u001b[0m \u001b[43m    \u001b[49m\u001b[43mtraining_specific_params_dict\u001b[49m\u001b[43m,\u001b[49m\n\u001b[1;32m     63\u001b[0m \u001b[43m    \u001b[49m\u001b[43mnormalization_arr\u001b[49m\u001b[43m,\u001b[49m\n\u001b[1;32m     64\u001b[0m \u001b[43m    \u001b[49m\u001b[43mtraining_data_rnn_input\u001b[49m\u001b[43m,\u001b[49m\n\u001b[1;32m     65\u001b[0m \u001b[43m    \u001b[49m\u001b[43mtraining_data_rnn_output\u001b[49m\u001b[43m,\u001b[49m\n\u001b[1;32m     66\u001b[0m \u001b[43m    \u001b[49m\u001b[43mtesting_data_rnn_input\u001b[49m\u001b[43m,\u001b[49m\n\u001b[1;32m     67\u001b[0m \u001b[43m    \u001b[49m\u001b[43mtesting_data_rnn_output\u001b[49m\u001b[43m,\u001b[49m\n\u001b[1;32m     68\u001b[0m \u001b[43m    \u001b[49m\u001b[43mval_data_rnn_input\u001b[49m\u001b[43m,\u001b[49m\n\u001b[1;32m     69\u001b[0m \u001b[43m    \u001b[49m\u001b[43mval_data_rnn_output\u001b[49m\u001b[43m,\u001b[49m\n\u001b[1;32m     70\u001b[0m \u001b[43m    \u001b[49m\u001b[43mreturn_params_arr\u001b[49m\u001b[43m,\u001b[49m\n\u001b[1;32m     71\u001b[0m \u001b[43m    \u001b[49m\u001b[43mnormalize_dataset\u001b[49m\u001b[43m,\u001b[49m\n\u001b[1;32m     72\u001b[0m \u001b[43m    \u001b[49m\u001b[43mdt_rnn\u001b[49m\u001b[43m,\u001b[49m\n\u001b[1;32m     73\u001b[0m \u001b[43m    \u001b[49m\u001b[43mnoise_type\u001b[49m\u001b[43m,\u001b[49m\n\u001b[1;32m     74\u001b[0m \u001b[43m    \u001b[49m\u001b[43mnum_ensemble_mems\u001b[49m\u001b[38;5;241;43m=\u001b[39;49m\u001b[43mnum_ensemble_mems\u001b[49m\u001b[43m,\u001b[49m\n\u001b[1;32m     75\u001b[0m \u001b[43m    \u001b[49m\u001b[43mESN_layers_units\u001b[49m\u001b[38;5;241;43m=\u001b[39;49m\u001b[43mESN_layers_units\u001b[49m\u001b[43m,\u001b[49m\n\u001b[1;32m     76\u001b[0m \u001b[43m    \u001b[49m\u001b[43mstateful\u001b[49m\u001b[38;5;241;43m=\u001b[39;49m\u001b[43mstateful\u001b[49m\u001b[43m,\u001b[49m\n\u001b[1;32m     77\u001b[0m \u001b[43m    \u001b[49m\u001b[43musebias_Win\u001b[49m\u001b[38;5;241;43m=\u001b[39;49m\u001b[43musebias_Win\u001b[49m\u001b[43m,\u001b[49m\n\u001b[1;32m     78\u001b[0m \u001b[43m    \u001b[49m\u001b[43mESN_cell_activations\u001b[49m\u001b[38;5;241;43m=\u001b[39;49m\u001b[43mESN_cell_activations\u001b[49m\u001b[43m,\u001b[49m\n\u001b[1;32m     79\u001b[0m \u001b[43m    \u001b[49m\u001b[43musebias_Wout\u001b[49m\u001b[38;5;241;43m=\u001b[39;49m\u001b[43musebias_Wout\u001b[49m\u001b[43m,\u001b[49m\n\u001b[1;32m     80\u001b[0m \u001b[43m    \u001b[49m\u001b[43mactivation_post_Wout\u001b[49m\u001b[38;5;241;43m=\u001b[39;49m\u001b[43mactivation_post_Wout\u001b[49m\u001b[43m,\u001b[49m\n\u001b[1;32m     81\u001b[0m \u001b[43m    \u001b[49m\u001b[43muse_weights_post_dense\u001b[49m\u001b[38;5;241;43m=\u001b[39;49m\u001b[43muse_weights_post_dense\u001b[49m\u001b[43m,\u001b[49m\n\u001b[1;32m     82\u001b[0m \u001b[43m    \u001b[49m\u001b[43mprng_seed\u001b[49m\u001b[38;5;241;43m=\u001b[39;49m\u001b[43mprng_seed\u001b[49m\u001b[43m,\u001b[49m\n\u001b[1;32m     83\u001b[0m \u001b[43m    \u001b[49m\u001b[43mepochs\u001b[49m\u001b[38;5;241;43m=\u001b[39;49m\u001b[43mepochs\u001b[49m\u001b[43m,\u001b[49m\n\u001b[1;32m     84\u001b[0m \u001b[43m    \u001b[49m\u001b[43mpatience\u001b[49m\u001b[38;5;241;43m=\u001b[39;49m\u001b[43mpatience\u001b[49m\u001b[43m,\u001b[49m\u001b[43m  \u001b[49m\u001b[38;5;66;43;03m# parameter for early stopping\u001b[39;49;00m\n\u001b[1;32m     85\u001b[0m \u001b[43m    \u001b[49m\u001b[43mmin_delta\u001b[49m\u001b[38;5;241;43m=\u001b[39;49m\u001b[43mmin_delta\u001b[49m\u001b[43m,\u001b[49m\u001b[43m  \u001b[49m\u001b[38;5;66;43;03m# parameter for early stopping\u001b[39;49;00m\n\u001b[1;32m     86\u001b[0m \u001b[43m    \u001b[49m\u001b[43mbatch_size\u001b[49m\u001b[38;5;241;43m=\u001b[39;49m\u001b[43mbatch_size\u001b[49m\u001b[43m,\u001b[49m\n\u001b[1;32m     87\u001b[0m \u001b[43m    \u001b[49m\u001b[43mnum_runs\u001b[49m\u001b[38;5;241;43m=\u001b[39;49m\u001b[43mnum_runs\u001b[49m\u001b[43m,\u001b[49m\n\u001b[1;32m     88\u001b[0m \u001b[43m    \u001b[49m\u001b[43mT_sample_input_AR_ratio\u001b[49m\u001b[38;5;241;43m=\u001b[39;49m\u001b[43mT_sample_input_AR_ratio\u001b[49m\u001b[43m,\u001b[49m\n\u001b[1;32m     89\u001b[0m \u001b[43m    \u001b[49m\u001b[43mT_sample_output_AR_ratio\u001b[49m\u001b[38;5;241;43m=\u001b[39;49m\u001b[43mT_sample_output_AR_ratio\u001b[49m\u001b[43m,\u001b[49m\n\u001b[1;32m     90\u001b[0m \u001b[43m    \u001b[49m\u001b[43muse_best\u001b[49m\u001b[38;5;241;43m=\u001b[39;49m\u001b[43muse_best\u001b[49m\u001b[43m,\u001b[49m\n\u001b[1;32m     91\u001b[0m \u001b[43m\u001b[49m\u001b[43m)\u001b[49m\n\u001b[1;32m     93\u001b[0m compute_time \u001b[38;5;241m=\u001b[39m time\u001b[38;5;241m.\u001b[39mtime() \u001b[38;5;241m-\u001b[39m compute_time\n\u001b[1;32m     94\u001b[0m \u001b[38;5;28mprint\u001b[39m(\u001b[38;5;124m'\u001b[39m\u001b[38;5;124mcompute_time : \u001b[39m\u001b[38;5;132;01m{:.0f}\u001b[39;00m\u001b[38;5;124mh \u001b[39m\u001b[38;5;132;01m{:.0f}\u001b[39;00m\u001b[38;5;124mm \u001b[39m\u001b[38;5;132;01m{:.0f}\u001b[39;00m\u001b[38;5;124ms\u001b[39m\u001b[38;5;124m'\u001b[39m\u001b[38;5;241m.\u001b[39mformat(\n\u001b[1;32m     95\u001b[0m     \u001b[38;5;28mfloat\u001b[39m(compute_time \u001b[38;5;241m/\u001b[39m\u001b[38;5;241m/\u001b[39m \u001b[38;5;241m3600\u001b[39m),\n\u001b[1;32m     96\u001b[0m     \u001b[38;5;28mfloat\u001b[39m((compute_time\u001b[38;5;241m%\u001b[39m\u001b[38;5;241m3600\u001b[39m)\u001b[38;5;241m/\u001b[39m\u001b[38;5;241m/\u001b[39m\u001b[38;5;241m60\u001b[39m),\n\u001b[1;32m     97\u001b[0m     \u001b[38;5;28mfloat\u001b[39m((compute_time\u001b[38;5;241m%\u001b[39m\u001b[38;5;241m3600\u001b[39m)\u001b[38;5;241m%\u001b[39m\u001b[38;5;241m60\u001b[39m),\n\u001b[1;32m     98\u001b[0m ))\n",
      "File \u001b[0;32m~/Documents/Thesis/MLROM/new_cdv/tools/hyper_param_ESN__NEW.py:669\u001b[0m, in \u001b[0;36mtrainESN_and_return_PH\u001b[0;34m(x, time_stddev, og_vars, ESN, plot_losses, dir_name_rnn, boundary_idx_arr, lyapunov_time_arr, sim_data_dict, RNN_specific_data_dict, training_specific_params_dict, normalization_arr, training_data_rnn_input, training_data_rnn_output, testing_data_rnn_input, testing_data_rnn_output, val_data_rnn_input, val_data_rnn_output, return_params_arr, normalize_dataset, dt_rnn, noise_type, num_ensemble_mems, ESN_layers_units, stateful, usebias_Win, ESN_cell_activations, usebias_Wout, activation_post_Wout, use_weights_post_dense, prng_seed, epochs, patience, min_delta, batch_size, num_runs, T_sample_input_AR_ratio, T_sample_output_AR_ratio, use_best, error_threshold)\u001b[0m\n\u001b[1;32m    665\u001b[0m s \u001b[38;5;241m+\u001b[39m\u001b[38;5;241m=\u001b[39m \u001b[38;5;124m'\u001b[39m\u001b[38;5;124m1st quartile : \u001b[39m\u001b[38;5;132;01m{}\u001b[39;00m\u001b[38;5;124m, 3rd quartile : \u001b[39m\u001b[38;5;132;01m{}\u001b[39;00m\u001b[38;5;124m'\u001b[39m\u001b[38;5;241m.\u001b[39mformat(quartile_1, quartile_3)\n\u001b[1;32m    667\u001b[0m \u001b[38;5;28mprint\u001b[39m(\u001b[38;5;124m'\u001b[39m\u001b[38;5;130;01m\\n\u001b[39;00m\u001b[38;5;124m'\u001b[39m\u001b[38;5;241m+\u001b[39ms)\n\u001b[0;32m--> 669\u001b[0m \u001b[43mplot_histogram_and_save\u001b[49m\u001b[43m(\u001b[49m\n\u001b[1;32m    670\u001b[0m \u001b[43m    \u001b[49m\u001b[43mprediction_horizon_arr\u001b[49m\u001b[43m,\u001b[49m\u001b[43m \u001b[49m\u001b[43mmedian\u001b[49m\u001b[43m,\u001b[49m\n\u001b[1;32m    671\u001b[0m \u001b[43m    \u001b[49m\u001b[43msave_dir\u001b[49m\u001b[38;5;241;43m=\u001b[39;49m\u001b[43mdir_name_rnn\u001b[49m\u001b[38;5;241;43m+\u001b[39;49m\u001b[43mplot_dir\u001b[49m\u001b[43m,\u001b[49m\n\u001b[1;32m    672\u001b[0m \u001b[43m    \u001b[49m\u001b[43msavefig_fname\u001b[49m\u001b[38;5;241;43m=\u001b[39;49m\u001b[43msavefig_fname\u001b[49m\u001b[43m,\u001b[49m\n\u001b[1;32m    673\u001b[0m \u001b[43m\u001b[49m\u001b[43m)\u001b[49m\n\u001b[1;32m    675\u001b[0m npsavedata_fname \u001b[38;5;241m=\u001b[39m \u001b[38;5;124m'\u001b[39m\u001b[38;5;124m/prediction_horizons-\u001b[39m\u001b[38;5;124m'\u001b[39m\u001b[38;5;241m+\u001b[39mdata_to_consider\u001b[38;5;241m+\u001b[39m\u001b[38;5;124m'\u001b[39m\u001b[38;5;124mdata\u001b[39m\u001b[38;5;124m'\u001b[39m\n\u001b[1;32m    676\u001b[0m np\u001b[38;5;241m.\u001b[39msavez(\n\u001b[1;32m    677\u001b[0m     dir_name_rnn\u001b[38;5;241m+\u001b[39mnpsavedata_fname,\n\u001b[1;32m    678\u001b[0m     prediction_horizon_arr\u001b[38;5;241m=\u001b[39mprediction_horizon_arr,\n\u001b[1;32m    679\u001b[0m     error_threshold\u001b[38;5;241m=\u001b[39merror_threshold,\n\u001b[1;32m    680\u001b[0m )\n",
      "File \u001b[0;32m~/Documents/Thesis/MLROM/new_cdv/tools/hyper_param_ESN__NEW.py:129\u001b[0m, in \u001b[0;36mplot_histogram_and_save\u001b[0;34m(prediction_horizon_arr, median, save_dir, savefig_fname, bin_width, bin_begin, xlabel_kwargs, ylabel_kwargs, title_kwargs, legend_kwargs, title_text)\u001b[0m\n\u001b[1;32m    126\u001b[0m bin_end \u001b[38;5;241m=\u001b[39m bin_width\u001b[38;5;241m*\u001b[39mnp\u001b[38;5;241m.\u001b[39mround((np\u001b[38;5;241m.\u001b[39mmax(prediction_horizon_arr)\u001b[38;5;241m+\u001b[39m\u001b[38;5;241m0.5\u001b[39m\u001b[38;5;241m*\u001b[39mbin_width)\u001b[38;5;241m/\u001b[39m\u001b[38;5;241m/\u001b[39mbin_width)\n\u001b[1;32m    127\u001b[0m nbins \u001b[38;5;241m=\u001b[39m \u001b[38;5;28mint\u001b[39m(np\u001b[38;5;241m.\u001b[39mround(bin_end\u001b[38;5;241m/\u001b[39mbin_width))\n\u001b[0;32m--> 129\u001b[0m \u001b[43max\u001b[49m\u001b[38;5;241;43m.\u001b[39;49m\u001b[43mhist\u001b[49m\u001b[43m(\u001b[49m\u001b[43mprediction_horizon_arr\u001b[49m\u001b[43m,\u001b[49m\u001b[43m \u001b[49m\u001b[43mbins\u001b[49m\u001b[38;5;241;43m=\u001b[39;49m\u001b[43mnbins\u001b[49m\u001b[43m,\u001b[49m\u001b[43m \u001b[49m\u001b[38;5;28;43mrange\u001b[39;49m\u001b[43m \u001b[49m\u001b[38;5;241;43m=\u001b[39;49m\u001b[43m \u001b[49m\u001b[43m[\u001b[49m\u001b[43mbin_begin\u001b[49m\u001b[43m,\u001b[49m\u001b[43m \u001b[49m\u001b[43mbin_end\u001b[49m\u001b[43m]\u001b[49m\u001b[43m,\u001b[49m\u001b[43m \u001b[49m\u001b[43mdensity\u001b[49m\u001b[38;5;241;43m=\u001b[39;49m\u001b[38;5;28;43;01mTrue\u001b[39;49;00m\u001b[43m)\u001b[49m\n\u001b[1;32m    130\u001b[0m ax\u001b[38;5;241m.\u001b[39maxvline(ph_mean, linewidth\u001b[38;5;241m=\u001b[39m\u001b[38;5;241m0.9\u001b[39m, linestyle\u001b[38;5;241m=\u001b[39m\u001b[38;5;124m'\u001b[39m\u001b[38;5;124m--\u001b[39m\u001b[38;5;124m'\u001b[39m, color\u001b[38;5;241m=\u001b[39m\u001b[38;5;124m'\u001b[39m\u001b[38;5;124mk\u001b[39m\u001b[38;5;124m'\u001b[39m)\n\u001b[1;32m    132\u001b[0m ax\u001b[38;5;241m.\u001b[39mset_xlabel(\u001b[38;5;124m'\u001b[39m\u001b[38;5;124mPrediction Horizon (Lyapunov times)\u001b[39m\u001b[38;5;124m'\u001b[39m, \u001b[38;5;241m*\u001b[39m\u001b[38;5;241m*\u001b[39mxlabel_kwargs)\n",
      "File \u001b[0;32m~/miniconda3/envs/tf-gpu/lib/python3.10/site-packages/matplotlib/__init__.py:1414\u001b[0m, in \u001b[0;36m_preprocess_data.<locals>.inner\u001b[0;34m(ax, data, *args, **kwargs)\u001b[0m\n\u001b[1;32m   1411\u001b[0m \u001b[38;5;129m@functools\u001b[39m\u001b[38;5;241m.\u001b[39mwraps(func)\n\u001b[1;32m   1412\u001b[0m \u001b[38;5;28;01mdef\u001b[39;00m \u001b[38;5;21minner\u001b[39m(ax, \u001b[38;5;241m*\u001b[39margs, data\u001b[38;5;241m=\u001b[39m\u001b[38;5;28;01mNone\u001b[39;00m, \u001b[38;5;241m*\u001b[39m\u001b[38;5;241m*\u001b[39mkwargs):\n\u001b[1;32m   1413\u001b[0m     \u001b[38;5;28;01mif\u001b[39;00m data \u001b[38;5;129;01mis\u001b[39;00m \u001b[38;5;28;01mNone\u001b[39;00m:\n\u001b[0;32m-> 1414\u001b[0m         \u001b[38;5;28;01mreturn\u001b[39;00m \u001b[43mfunc\u001b[49m\u001b[43m(\u001b[49m\u001b[43max\u001b[49m\u001b[43m,\u001b[49m\u001b[43m \u001b[49m\u001b[38;5;241;43m*\u001b[39;49m\u001b[38;5;28;43mmap\u001b[39;49m\u001b[43m(\u001b[49m\u001b[43msanitize_sequence\u001b[49m\u001b[43m,\u001b[49m\u001b[43m \u001b[49m\u001b[43margs\u001b[49m\u001b[43m)\u001b[49m\u001b[43m,\u001b[49m\u001b[43m \u001b[49m\u001b[38;5;241;43m*\u001b[39;49m\u001b[38;5;241;43m*\u001b[39;49m\u001b[43mkwargs\u001b[49m\u001b[43m)\u001b[49m\n\u001b[1;32m   1416\u001b[0m     bound \u001b[38;5;241m=\u001b[39m new_sig\u001b[38;5;241m.\u001b[39mbind(ax, \u001b[38;5;241m*\u001b[39margs, \u001b[38;5;241m*\u001b[39m\u001b[38;5;241m*\u001b[39mkwargs)\n\u001b[1;32m   1417\u001b[0m     auto_label \u001b[38;5;241m=\u001b[39m (bound\u001b[38;5;241m.\u001b[39marguments\u001b[38;5;241m.\u001b[39mget(label_namer)\n\u001b[1;32m   1418\u001b[0m                   \u001b[38;5;129;01mor\u001b[39;00m bound\u001b[38;5;241m.\u001b[39mkwargs\u001b[38;5;241m.\u001b[39mget(label_namer))\n",
      "File \u001b[0;32m~/miniconda3/envs/tf-gpu/lib/python3.10/site-packages/matplotlib/axes/_axes.py:6641\u001b[0m, in \u001b[0;36mAxes.hist\u001b[0;34m(self, x, bins, range, density, weights, cumulative, bottom, histtype, align, orientation, rwidth, log, color, label, stacked, **kwargs)\u001b[0m\n\u001b[1;32m   6637\u001b[0m \u001b[38;5;66;03m# Loop through datasets\u001b[39;00m\n\u001b[1;32m   6638\u001b[0m \u001b[38;5;28;01mfor\u001b[39;00m i \u001b[38;5;129;01min\u001b[39;00m \u001b[38;5;28mrange\u001b[39m(nx):\n\u001b[1;32m   6639\u001b[0m     \u001b[38;5;66;03m# this will automatically overwrite bins,\u001b[39;00m\n\u001b[1;32m   6640\u001b[0m     \u001b[38;5;66;03m# so that each histogram uses the same bins\u001b[39;00m\n\u001b[0;32m-> 6641\u001b[0m     m, bins \u001b[38;5;241m=\u001b[39m \u001b[43mnp\u001b[49m\u001b[38;5;241;43m.\u001b[39;49m\u001b[43mhistogram\u001b[49m\u001b[43m(\u001b[49m\u001b[43mx\u001b[49m\u001b[43m[\u001b[49m\u001b[43mi\u001b[49m\u001b[43m]\u001b[49m\u001b[43m,\u001b[49m\u001b[43m \u001b[49m\u001b[43mbins\u001b[49m\u001b[43m,\u001b[49m\u001b[43m \u001b[49m\u001b[43mweights\u001b[49m\u001b[38;5;241;43m=\u001b[39;49m\u001b[43mw\u001b[49m\u001b[43m[\u001b[49m\u001b[43mi\u001b[49m\u001b[43m]\u001b[49m\u001b[43m,\u001b[49m\u001b[43m \u001b[49m\u001b[38;5;241;43m*\u001b[39;49m\u001b[38;5;241;43m*\u001b[39;49m\u001b[43mhist_kwargs\u001b[49m\u001b[43m)\u001b[49m\n\u001b[1;32m   6642\u001b[0m     tops\u001b[38;5;241m.\u001b[39mappend(m)\n\u001b[1;32m   6643\u001b[0m tops \u001b[38;5;241m=\u001b[39m np\u001b[38;5;241m.\u001b[39marray(tops, \u001b[38;5;28mfloat\u001b[39m)  \u001b[38;5;66;03m# causes problems later if it's an int\u001b[39;00m\n",
      "File \u001b[0;32m<__array_function__ internals>:180\u001b[0m, in \u001b[0;36mhistogram\u001b[0;34m(*args, **kwargs)\u001b[0m\n",
      "File \u001b[0;32m~/miniconda3/envs/tf-gpu/lib/python3.10/site-packages/numpy/lib/histograms.py:793\u001b[0m, in \u001b[0;36mhistogram\u001b[0;34m(a, bins, range, normed, weights, density)\u001b[0m\n\u001b[1;32m    681\u001b[0m \u001b[38;5;124mr\u001b[39m\u001b[38;5;124;03m\"\"\"\u001b[39;00m\n\u001b[1;32m    682\u001b[0m \u001b[38;5;124;03mCompute the histogram of a dataset.\u001b[39;00m\n\u001b[1;32m    683\u001b[0m \n\u001b[0;32m   (...)\u001b[0m\n\u001b[1;32m    789\u001b[0m \n\u001b[1;32m    790\u001b[0m \u001b[38;5;124;03m\"\"\"\u001b[39;00m\n\u001b[1;32m    791\u001b[0m a, weights \u001b[38;5;241m=\u001b[39m _ravel_and_check_weights(a, weights)\n\u001b[0;32m--> 793\u001b[0m bin_edges, uniform_bins \u001b[38;5;241m=\u001b[39m \u001b[43m_get_bin_edges\u001b[49m\u001b[43m(\u001b[49m\u001b[43ma\u001b[49m\u001b[43m,\u001b[49m\u001b[43m \u001b[49m\u001b[43mbins\u001b[49m\u001b[43m,\u001b[49m\u001b[43m \u001b[49m\u001b[38;5;28;43mrange\u001b[39;49m\u001b[43m,\u001b[49m\u001b[43m \u001b[49m\u001b[43mweights\u001b[49m\u001b[43m)\u001b[49m\n\u001b[1;32m    795\u001b[0m \u001b[38;5;66;03m# Histogram is an integer or a float array depending on the weights.\u001b[39;00m\n\u001b[1;32m    796\u001b[0m \u001b[38;5;28;01mif\u001b[39;00m weights \u001b[38;5;129;01mis\u001b[39;00m \u001b[38;5;28;01mNone\u001b[39;00m:\n",
      "File \u001b[0;32m~/miniconda3/envs/tf-gpu/lib/python3.10/site-packages/numpy/lib/histograms.py:424\u001b[0m, in \u001b[0;36m_get_bin_edges\u001b[0;34m(a, bins, range, weights)\u001b[0m\n\u001b[1;32m    421\u001b[0m         \u001b[38;5;28;01mraise\u001b[39;00m \u001b[38;5;167;01mTypeError\u001b[39;00m(\n\u001b[1;32m    422\u001b[0m             \u001b[38;5;124m'\u001b[39m\u001b[38;5;124m`bins` must be an integer, a string, or an array\u001b[39m\u001b[38;5;124m'\u001b[39m) \u001b[38;5;28;01mfrom\u001b[39;00m \u001b[38;5;21;01me\u001b[39;00m\n\u001b[1;32m    423\u001b[0m     \u001b[38;5;28;01mif\u001b[39;00m n_equal_bins \u001b[38;5;241m<\u001b[39m \u001b[38;5;241m1\u001b[39m:\n\u001b[0;32m--> 424\u001b[0m         \u001b[38;5;28;01mraise\u001b[39;00m \u001b[38;5;167;01mValueError\u001b[39;00m(\u001b[38;5;124m'\u001b[39m\u001b[38;5;124m`bins` must be positive, when an integer\u001b[39m\u001b[38;5;124m'\u001b[39m)\n\u001b[1;32m    426\u001b[0m     first_edge, last_edge \u001b[38;5;241m=\u001b[39m _get_outer_edges(a, \u001b[38;5;28mrange\u001b[39m)\n\u001b[1;32m    428\u001b[0m \u001b[38;5;28;01melif\u001b[39;00m np\u001b[38;5;241m.\u001b[39mndim(bins) \u001b[38;5;241m==\u001b[39m \u001b[38;5;241m1\u001b[39m:\n",
      "\u001b[0;31mValueError\u001b[0m: `bins` must be positive, when an integer"
     ]
    },
    {
     "data": {
      "image/png": "[encoded data removed]",
      "text/plain": [
       "<Figure size 640x480 with 1 Axes>"
      ]
     },
     "metadata": {},
     "output_type": "display_data"
    }
   ],
   "source": [
    "x0 = [fRMS_x0, lambda_reg_x0, rho_res_x0, omega_in_x0, alpha_x0]\n",
    "if vary_deg_connect == True:\n",
    "    x0.append(degree_of_connectivity_x0)\n",
    "\n",
    "res = gp_minimize(\n",
    "    optim_func,\n",
    "    dimensions,\n",
    "    x0=x0,\n",
    "    n_calls=n_calls,\n",
    "    n_initial_points=n_initial_points,\n",
    "    random_state=prng_seed,\n",
    "    acq_func=acq_func,\n",
    ")"
   ]
  },
  {
   "cell_type": "code",
   "execution_count": null,
   "metadata": {
    "colab": {
     "base_uri": "https://localhost:8080/",
     "height": 279
    },
    "executionInfo": {
     "elapsed": 1226,
     "status": "ok",
     "timestamp": 1667873564544,
     "user": {
      "displayName": "Rohan Kaushik",
      "userId": "13918477614376051685"
     },
     "user_tz": -60
    },
    "id": "nDv5D8APneQm",
    "outputId": "ee911dc8-4d36-48af-8ad0-07cef0dbaf81"
   },
   "outputs": [],
   "source": []
  },
  {
   "cell_type": "code",
   "execution_count": null,
   "metadata": {
    "colab": {
     "base_uri": "https://localhost:8080/",
     "height": 433
    },
    "executionInfo": {
     "elapsed": 11096,
     "status": "ok",
     "timestamp": 1667873575637,
     "user": {
      "displayName": "Rohan Kaushik",
      "userId": "13918477614376051685"
     },
     "user_tz": -60
    },
    "id": "dbLa0AwlDBWh",
    "outputId": "d3f93f58-9ce7-4994-8d68-29520477e02d"
   },
   "outputs": [],
   "source": [
    "res"
   ]
  },
  {
   "cell_type": "code",
   "execution_count": null,
   "metadata": {
    "colab": {
     "base_uri": "https://localhost:8080/"
    },
    "executionInfo": {
     "elapsed": 8,
     "status": "ok",
     "timestamp": 1667873575638,
     "user": {
      "displayName": "Rohan Kaushik",
      "userId": "13918477614376051685"
     },
     "user_tz": -60
    },
    "id": "MDopQ4JMhRPV",
    "outputId": "f6480bb7-5837-4a80-9333-f9acd175b27a"
   },
   "outputs": [],
   "source": [
    "optim_x = np.array(res.x)\n",
    "x_iters = np.array(res.x_iters)\n",
    "func_iters = np.array(res.func_vals)\n",
    "optim_func = res.fun\n",
    "\n",
    "optim_idx = np.where(x_iters[:, 0] == optim_x[0])[0]\n",
    "for i in range(optim_x.shape[0]-1):\n",
    "    i = i+1\n",
    "    optim_idx_i = np.where(x_iters[optim_idx, i] == optim_x[i])[0]\n",
    "    optim_idx = optim_idx[optim_idx_i]\n",
    "optim_idx = optim_idx[0]"
   ]
  },
  {
   "cell_type": "code",
   "execution_count": null,
   "metadata": {
    "executionInfo": {
     "elapsed": 9,
     "status": "ok",
     "timestamp": 1667873576097,
     "user": {
      "displayName": "Rohan Kaushik",
      "userId": "13918477614376051685"
     },
     "user_tz": -60
    },
    "id": "2_fAlJz2Vdev"
   },
   "outputs": [],
   "source": [
    "optim_idx"
   ]
  },
  {
   "cell_type": "code",
   "execution_count": null,
   "metadata": {
    "executionInfo": {
     "elapsed": 9,
     "status": "ok",
     "timestamp": 1667873576098,
     "user": {
      "displayName": "Rohan Kaushik",
      "userId": "13918477614376051685"
     },
     "user_tz": -60
    },
    "id": "s5BNteRC7COC",
    "scrolled": false
   },
   "outputs": [],
   "source": [
    "a = n_initial_points\n",
    "# sorted_idx = np.argsort(x_iters[a:, 0])\n",
    "\n",
    "xplot = np.arange(func_iters.shape[0])\n",
    "\n",
    "if a > 0:\n",
    "    plt.semilogy(\n",
    "        -func_iters[0:a+1],\n",
    "        linestyle='--',\n",
    "        color='C2',\n",
    "        marker='^',\n",
    "        label='Initial Points',\n",
    "    )\n",
    "    xplot = np.arange(a, func_iters.shape[0])\n",
    "plt.semilogy(\n",
    "    xplot,\n",
    "    -func_iters[a:],\n",
    "    linestyle='--',\n",
    "    marker='^',\n",
    "    label='GP Minimization',#'__nolegend__',\n",
    ")\n",
    "plt.semilogy([optim_idx], [-func_iters[optim_idx]], 's', label='Optimal Value')\n",
    "\n",
    "plt.xlabel('Iteration', fontsize=15)\n",
    "plt.ylabel('Median Prediction Horizon', fontsize=15)\n",
    "plt.grid(True, which='major', axis='x')\n",
    "plt.grid(True, which='both', axis='y')\n",
    "plt.legend(fontsize=12)\n",
    "\n",
    "plt.savefig(dir_name_rnn_plots+'/median_PH.pdf', bbox_inches='tight', dpi=300)\n",
    "plt.show()"
   ]
  },
  {
   "cell_type": "code",
   "execution_count": null,
   "metadata": {},
   "outputs": [],
   "source": [
    "from skopt.plots import plot_convergence\n",
    "plot_convergence(res)"
   ]
  },
  {
   "cell_type": "code",
   "execution_count": null,
   "metadata": {},
   "outputs": [],
   "source": [
    "optimized_vals_dict = {\n",
    "    'x_iters':x_iters,\n",
    "    'func_iters':func_iters,\n",
    "    'optim_x':optim_x,\n",
    "    'optim_idx':optim_idx,\n",
    "    'optim_fun':func_iters[optim_idx]\n",
    "}\n",
    "\n",
    "with open(dir_name_rnn+'/optimized_vals.txt', 'w') as f:\n",
    "    f.write(str(optimized_vals_dict))\n",
    "    \n",
    "np.savez(\n",
    "    dir_name_rnn+'/optimized_vals',\n",
    "    x_iters=x_iters,\n",
    "    func_iters=func_iters,\n",
    "    optim_x=optim_x,\n",
    "    optim_idx=optim_idx,\n",
    "    optim_fun=func_iters[optim_idx]\n",
    ")"
   ]
  },
  {
   "cell_type": "code",
   "execution_count": null,
   "metadata": {
    "scrolled": true
   },
   "outputs": [],
   "source": [
    "xoptim_names = [\n",
    "    [r'fRMS', 'fRMS', plt.semilogy],\n",
    "    [r'$\\Lambda_{reg}$', 'lambda_reg', plt.semilogy],\n",
    "    [r'$\\rho$', 'rho', plt.plot],\n",
    "    [r'$\\Omega$', 'omega', plt.plot],\n",
    "    [r'$\\alpha$', 'alpha', plt.plot],\n",
    "    # [r'Degree of Connectivity', 'deg_of_connectivity', plt.plot],\n",
    "]\n",
    "if vary_deg_connect == True:\n",
    "    xoptim_names.append([r'Degree of Connectivity', 'deg_of_connectivity', plt.plot])\n",
    "\n",
    "for i in range(len(xoptim_names)):\n",
    "    a = n_initial_points\n",
    "    # sorted_idx = np.argsort(x_iters[a:, 0])\n",
    "\n",
    "    xplot = np.arange(x_iters.shape[0])\n",
    "    if a > 0:\n",
    "        xoptim_names[i][2](\n",
    "            x_iters[:, i][0:a+1],\n",
    "            linestyle='--',\n",
    "            color='C2',\n",
    "            marker='^',\n",
    "            label='Initial Points',\n",
    "        )\n",
    "        xplot = np.arange(a, x_iters.shape[0])\n",
    "    xoptim_names[i][2](\n",
    "        xplot,\n",
    "        x_iters[:, i][a:],\n",
    "        linestyle='--',\n",
    "        marker='^',\n",
    "        label='GP Minimization',#'__nolegend__',\n",
    "    )\n",
    "    xoptim_names[i][2]([optim_idx], [x_iters[optim_idx, i]], 's', label='Optimal Value')\n",
    "\n",
    "    plt.xlabel('Iteration', fontsize=15)\n",
    "    plt.ylabel(xoptim_names[i][0], fontsize=15)\n",
    "    plt.grid(True, which='major', axis='x')\n",
    "    plt.grid(True, which='both', axis='y')\n",
    "    plt.legend(fontsize=12)\n",
    "\n",
    "    plt.savefig(dir_name_rnn_plots+'/'+xoptim_names[i][1]+'.pdf', bbox_inches='tight', dpi=300)\n",
    "    plt.show()"
   ]
  },
  {
   "cell_type": "code",
   "execution_count": null,
   "metadata": {},
   "outputs": [],
   "source": [
    "dir_list = os.listdir(dir_name_rnn+'/tested_ESN')\n",
    "# dir_list"
   ]
  },
  {
   "cell_type": "code",
   "execution_count": null,
   "metadata": {},
   "outputs": [],
   "source": [
    "ph_mean_lst = []\n",
    "for dir_name in dir_list:\n",
    "    with np.load(dir_name_rnn+'/tested_ESN/'+dir_name+'/prediction_horizons-testingdata.npz') as f:\n",
    "        ph_mean = np.mean(f['prediction_horizon_arr'])\n",
    "        ph_mean_lst.append(ph_mean)\n",
    "ph_mean_lst = np.array(ph_mean_lst)"
   ]
  },
  {
   "cell_type": "code",
   "execution_count": null,
   "metadata": {},
   "outputs": [],
   "source": [
    "idx = np.where(ph_mean_lst == ph_mean_lst.max())[0]"
   ]
  },
  {
   "cell_type": "code",
   "execution_count": null,
   "metadata": {
    "scrolled": true
   },
   "outputs": [],
   "source": [
    "idx, dir_list[idx[0]]"
   ]
  },
  {
   "cell_type": "code",
   "execution_count": null,
   "metadata": {},
   "outputs": [],
   "source": []
  },
  {
   "cell_type": "code",
   "execution_count": null,
   "metadata": {},
   "outputs": [],
   "source": [
    "# convergence plot\n",
    "convergence_f = np.empty_like(func_iters)\n",
    "min_val = np.inf\n",
    "for i in range(func_iters.shape[0]):\n",
    "    if func_iters[i] < min_val:\n",
    "        min_val = func_iters[i]\n",
    "    convergence_f[i] = min_val"
   ]
  },
  {
   "cell_type": "code",
   "execution_count": null,
   "metadata": {},
   "outputs": [],
   "source": [
    "a = n_initial_points\n",
    "# sorted_idx = np.argsort(x_iters[a:, 0])\n",
    "\n",
    "xplot = np.arange(x_iters.shape[0])\n",
    "\n",
    "if a > 0:\n",
    "    plt.semilogy(\n",
    "        -convergence_f[0:a+1],\n",
    "        linestyle='--',\n",
    "        color='C2',\n",
    "        marker='^',\n",
    "        label='Initial Points',\n",
    "    )\n",
    "    xplot = np.arange(a, x_iters.shape[0])\n",
    "plt.semilogy(\n",
    "    xplot,\n",
    "    -convergence_f[a:],\n",
    "    linestyle='--',\n",
    "    marker='^',\n",
    "    label='GP Minimization',#'__nolegend__',\n",
    ")\n",
    "# plt.semilogy([optim_idx], [func_iters[optim_idx, 0]], 's', label='Optimal Value')\n",
    "\n",
    "plt.xlabel('Iteration', fontsize=15)\n",
    "plt.ylabel(\n",
    "#     r\"$$\\min_{0 \\leq j \\leq \\mathrm{present \\ iteration}} \\left( \\mathrm{Test \\ MSE} \\right)$$\",\n",
    "#     r\"$$\\min_{0 \\leq j \\leq \\mathrm{present \\atop iteration}} \\left( \\mathrm{Test \\ MSE} \\right)$$\",\n",
    "    r\"$$\\max_{0 \\leq j \\leq \\mathrm{present \\atop iteration}} \\left( \\mathrm{Median \\ PH} \\right)$$\",\n",
    "    fontsize=15,\n",
    ")\n",
    "plt.title('Convergence Plot', fontsize=18)\n",
    "plt.grid(True, which='major', axis='x')\n",
    "plt.grid(True, which='both', axis='y')\n",
    "plt.legend(fontsize=12)\n",
    "\n",
    "plt.savefig(dir_name_rnn_plots+'/convergence_plot.pdf', bbox_inches='tight', dpi=300)\n",
    "plt.show()"
   ]
  },
  {
   "cell_type": "markdown",
   "metadata": {},
   "source": [
    "### Prediction horizon computation"
   ]
  },
  {
   "cell_type": "code",
   "execution_count": null,
   "metadata": {},
   "outputs": [],
   "source": []
  },
  {
   "cell_type": "code",
   "execution_count": null,
   "metadata": {},
   "outputs": [],
   "source": []
  },
  {
   "cell_type": "code",
   "execution_count": null,
   "metadata": {},
   "outputs": [],
   "source": []
  }
 ],
 "metadata": {
  "accelerator": "GPU",
  "colab": {
   "collapsed_sections": [],
   "provenance": []
  },
  "gpuClass": "standard",
  "kernelspec": {
   "display_name": "Python 3 (ipykernel)",
   "language": "python",
   "name": "python3"
  },
  "language_info": {
   "codemirror_mode": {
    "name": "ipython",
    "version": 3
   },
   "file_extension": ".py",
   "mimetype": "text/x-python",
   "name": "python",
   "nbconvert_exporter": "python",
   "pygments_lexer": "ipython3",
   "version": "3.10.6"
  }
 },
 "nbformat": 4,
 "nbformat_minor": 1
}
