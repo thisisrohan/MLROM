{
 "cells": [
  {
   "cell_type": "code",
   "execution_count": 1,
   "id": "93de6cd1",
   "metadata": {},
   "outputs": [],
   "source": [
    "import numpy as np\n",
    "import matplotlib.pyplot as plt\n",
    "import os\n",
    "import time\n",
    "import h5py"
   ]
  },
  {
   "cell_type": "code",
   "execution_count": 2,
   "id": "62329c14",
   "metadata": {},
   "outputs": [],
   "source": [
    "plt.rcParams.update({\n",
    "    \"text.usetex\":True,\n",
    "    \"font.family\":\"serif\"\n",
    "})"
   ]
  },
  {
   "cell_type": "code",
   "execution_count": 3,
   "id": "cf7b2ab1",
   "metadata": {},
   "outputs": [],
   "source": [
    "from tools.misc_tools import RK4_integrator, CDV_time_der, create_data_for_RNN"
   ]
  },
  {
   "cell_type": "code",
   "execution_count": 4,
   "id": "e03ffcba",
   "metadata": {},
   "outputs": [],
   "source": [
    "FTYPE = np.float32\n",
    "ITYPE = np.int32\n",
    "from numpy import *"
   ]
  },
  {
   "cell_type": "code",
   "execution_count": 5,
   "id": "19929669",
   "metadata": {},
   "outputs": [],
   "source": [
    "xlabel_kwargs = {'fontsize':15}\n",
    "ylabel_kwargs = {'fontsize':15}\n",
    "legend_kwargs = {'fontsize':12}\n",
    "title_kwargs = {'fontsize':18}"
   ]
  },
  {
   "cell_type": "code",
   "execution_count": 6,
   "id": "45d50995",
   "metadata": {},
   "outputs": [
    {
     "name": "stdout",
     "output_type": "stream",
     "text": [
      "['all_data', 'boundary_idx_arr', 'normalization_constant_arr', 'initial_t0', 'init_state_org', 'init_state_mat', 'lyapunov_spectrum_mat', 'DKY_lst']\n",
      "dir_name_data :  /home/rkaushik/Documents/Thesis/MLROM/new_cdv/saved_data/data_005\n"
     ]
    }
   ],
   "source": [
    "########## Loading Data ##########\n",
    "data_idx = '005'\n",
    "dir_name_data = os.getcwd() + '/saved_data/data_' + data_idx\n",
    "\n",
    "with open(dir_name_data + '/sim_data_params.txt') as f:\n",
    "    lines = f.readlines()\n",
    "params_dict = eval(''.join(lines))\n",
    "params_mat = params_dict['params_mat']\n",
    "delta_t = params_dict['delta_t']\n",
    "\n",
    "with np.load(dir_name_data+'/data.npz', allow_pickle=True) as fl:\n",
    "    all_data = fl['all_data'].astype(FTYPE)[:, 0:6]\n",
    "    boundary_idx_arr = fl['boundary_idx_arr']\n",
    "    normalization_constant_arr_ogdata = fl['normalization_constant_arr'][0]\n",
    "    print([elem for elem in fl.keys()])\n",
    "\n",
    "    lyapunov_spectrum_mat = fl['lyapunov_spectrum_mat']\n",
    "\n",
    "print('dir_name_data : ', dir_name_data)\n",
    "# print('dir_name_pod : ', dir_name_pod)"
   ]
  },
  {
   "cell_type": "code",
   "execution_count": 7,
   "id": "ae8fa3df",
   "metadata": {},
   "outputs": [
    {
     "name": "stdout",
     "output_type": "stream",
     "text": [
      "[  27.64640338 3275.37171778]\n"
     ]
    }
   ],
   "source": [
    "lyapunov_spectrum_mat = np.sort(lyapunov_spectrum_mat, axis=1)\n",
    "lyapunov_time_arr = lyapunov_spectrum_mat[:, -1]**(-1)\n",
    "print(lyapunov_time_arr)"
   ]
  },
  {
   "cell_type": "code",
   "execution_count": 8,
   "id": "53253681",
   "metadata": {},
   "outputs": [
    {
     "data": {
      "text/plain": [
       "array([[ 0.95   , -0.76095,  0.1    ,  1.25   ,  0.2    ,  0.5    ],\n",
       "       [ 0.99   , -0.79299,  0.1    ,  1.25   ,  0.2    ,  0.5    ]])"
      ]
     },
     "execution_count": 8,
     "metadata": {},
     "output_type": "execute_result"
    }
   ],
   "source": [
    "params_mat"
   ]
  },
  {
   "cell_type": "code",
   "execution_count": 9,
   "id": "171c9e1e",
   "metadata": {},
   "outputs": [
    {
     "name": "stdout",
     "output_type": "stream",
     "text": [
      "(400002, 6)\n",
      "[200001 400002]\n"
     ]
    }
   ],
   "source": [
    "print(all_data.shape)\n",
    "print(boundary_idx_arr)"
   ]
  },
  {
   "cell_type": "code",
   "execution_count": 10,
   "id": "33d75b03",
   "metadata": {},
   "outputs": [],
   "source": [
    "all_data = all_data[boundary_idx_arr[0]:]"
   ]
  },
  {
   "cell_type": "code",
   "execution_count": 11,
   "id": "0f5db387",
   "metadata": {},
   "outputs": [
    {
     "name": "stdout",
     "output_type": "stream",
     "text": [
      "(200001, 6)\n"
     ]
    }
   ],
   "source": [
    "print(all_data.shape)"
   ]
  },
  {
   "cell_type": "code",
   "execution_count": 12,
   "id": "4057f864",
   "metadata": {},
   "outputs": [],
   "source": [
    "num_test_idx = 3000\n",
    "\n",
    "data_mean = np.mean(all_data, axis=0)\n",
    "data_stddev = np.std(all_data, axis=0)\n",
    "\n",
    "ACF_arr = np.zeros(shape=num_test_idx)"
   ]
  },
  {
   "cell_type": "code",
   "execution_count": 13,
   "id": "a0f68913",
   "metadata": {},
   "outputs": [],
   "source": [
    "end_idx = all_data.shape[0] - num_test_idx\n",
    "\n",
    "for i in range(num_test_idx):\n",
    "    # ACF_arr[i] = np.mean(np.sum(all_data[0:end_idx]*all_data[i:i+end_idx]), axis=1)\n",
    "    # ACF_arr[i] = np.mean(\n",
    "    #     np.sum((all_data[0:end_idx]-data_mean)*(all_data[i:i+end_idx]-data_mean)/data_stddev**2, axis=1))\n",
    "    ACF_arr[i] = np.mean((all_data[0:end_idx]-data_mean)*(all_data[i:i+end_idx]-data_mean)/data_stddev**2)"
   ]
  },
  {
   "cell_type": "code",
   "execution_count": 34,
   "id": "a413df09",
   "metadata": {},
   "outputs": [
    {
     "data": {
      "image/png": "[encoded data removed]",
      "text/plain": [
       "<Figure size 400x300 with 1 Axes>"
      ]
     },
     "metadata": {},
     "output_type": "display_data"
    }
   ],
   "source": [
    "input_time = np.arange(0, num_test_idx)*delta_t\n",
    "\n",
    "plt.plot(input_time, ACF_arr)\n",
    "\n",
    "plt.xlabel(r'$\\tau$', fontsize=15)\n",
    "plt.ylabel(r'ACF($\\tau$)', fontsize=15)\n",
    "plt.grid(True)\n",
    "\n",
    "plt.xticks(fontsize=12)\n",
    "plt.yticks(fontsize=12)\n",
    "\n",
    "plt.gcf().set_size_inches(4,3)\n",
    "\n",
    "plt.savefig(dir_name_data+'/ACF_01.pdf', dpi=300, bbox_inches='tight')\n",
    "plt.show()\n",
    "plt.close()"
   ]
  },
  {
   "cell_type": "code",
   "execution_count": 29,
   "id": "c199750e",
   "metadata": {},
   "outputs": [],
   "source": [
    "idx = np.where(ACF_arr[10:]>=ACF_arr[10:].max()-1e-3)[0]"
   ]
  },
  {
   "cell_type": "code",
   "execution_count": 30,
   "id": "0f425501",
   "metadata": {},
   "outputs": [
    {
     "name": "stdout",
     "output_type": "stream",
     "text": [
      "[1400 2819 2820 2821]\n"
     ]
    }
   ],
   "source": [
    "print(idx-10)"
   ]
  },
  {
   "cell_type": "code",
   "execution_count": null,
   "id": "83e910a5",
   "metadata": {},
   "outputs": [],
   "source": []
  },
  {
   "cell_type": "code",
   "execution_count": null,
   "id": "aa024e93",
   "metadata": {},
   "outputs": [],
   "source": []
  },
  {
   "cell_type": "code",
   "execution_count": null,
   "id": "abc23724",
   "metadata": {
    "scrolled": true
   },
   "outputs": [],
   "source": []
  },
  {
   "cell_type": "code",
   "execution_count": null,
   "id": "dfae4c94",
   "metadata": {},
   "outputs": [],
   "source": []
  },
  {
   "cell_type": "code",
   "execution_count": null,
   "id": "73283049",
   "metadata": {},
   "outputs": [],
   "source": []
  },
  {
   "cell_type": "code",
   "execution_count": null,
   "id": "8e50a703",
   "metadata": {},
   "outputs": [],
   "source": []
  },
  {
   "cell_type": "code",
   "execution_count": null,
   "id": "5cef90c9",
   "metadata": {},
   "outputs": [],
   "source": []
  }
 ],
 "metadata": {
  "kernelspec": {
   "display_name": "Python 3 (ipykernel)",
   "language": "python",
   "name": "python3"
  },
  "language_info": {
   "codemirror_mode": {
    "name": "ipython",
    "version": 3
   },
   "file_extension": ".py",
   "mimetype": "text/x-python",
   "name": "python",
   "nbconvert_exporter": "python",
   "pygments_lexer": "ipython3",
   "version": "3.10.6"
  }
 },
 "nbformat": 4,
 "nbformat_minor": 5
}
