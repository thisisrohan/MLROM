{
 "cells": [
  {
   "cell_type": "code",
   "execution_count": 1,
   "id": "f7fe5e63",
   "metadata": {},
   "outputs": [],
   "source": [
    "import numpy as np\n",
    "import matplotlib.pyplot as plt\n",
    "import os\n",
    "\n",
    "plt.rcParams.update({\n",
    "    \"text.usetex\":True,\n",
    "    \"font.family\":\"serif\"\n",
    "})"
   ]
  },
  {
   "cell_type": "code",
   "execution_count": 2,
   "id": "6e7133e3",
   "metadata": {},
   "outputs": [],
   "source": [
    "dir_names = [\n",
    "    'ae_010',\n",
    "]\n",
    "\n",
    "params_case = [\n",
    "#     'without params',\n",
    "    'with params'\n",
    "]"
   ]
  },
  {
   "cell_type": "code",
   "execution_count": 3,
   "id": "7ad03c5b",
   "metadata": {},
   "outputs": [],
   "source": [
    "individual_errors = []\n",
    "\n",
    "for i in range(len(dir_names)):\n",
    "    fname = os.getcwd()+'/saved_ae/'+dir_names[i]+'/plots/individual_NRMSE_test.npz'\n",
    "    with np.load(fname) as f:\n",
    "        individual_errors.append(f['individual_NRMSE_test'])"
   ]
  },
  {
   "cell_type": "code",
   "execution_count": 4,
   "id": "26b4d389",
   "metadata": {},
   "outputs": [],
   "source": [
    "xlabel_kwargs = {'fontsize':15}\n",
    "ylabel_kwargs = {'fontsize':15}\n",
    "legend_kwargs = {'fontsize':12}\n",
    "title_kwargs = {'fontsize':17}"
   ]
  },
  {
   "cell_type": "code",
   "execution_count": 8,
   "id": "a6675abd",
   "metadata": {},
   "outputs": [
    {
     "data": {
      "image/png": "[encoded data removed]",
      "text/plain": [
       "<Figure size 400x300 with 1 Axes>"
      ]
     },
     "metadata": {},
     "output_type": "display_data"
    }
   ],
   "source": [
    "width = 0.2\n",
    "ind = np.arange(individual_errors[0].shape[0])\n",
    "\n",
    "bottom_cutoff = np.min([5e-3, np.min(individual_errors)])\n",
    "plt.bar(ind, individual_errors[0], width, label='AE (data {})'.format(params_case[0]), bottom=bottom_cutoff)\n",
    "#plt.bar(ind+width, individual_errors[1], width, label='AE (data {})'.format(params_case[1]), bottom=bottom_cutoff)\n",
    "plt.gca().set_yscale('log')\n",
    "plt.grid(True, which='both')\n",
    "# plt.xlabel('Number of Latent States', **xlabel_kwargs)\n",
    "plt.ylabel('Error', **ylabel_kwargs)\n",
    "plt.title('NRMSE', **title_kwargs)\n",
    "plt.xticks(\n",
    "    np.arange(individual_errors[0].shape[0]),\n",
    "    [r'Case '+str(elem) for elem in np.arange(1, individual_errors[0].shape[0]+1)],\n",
    "    rotation=270+45,\n",
    "    **legend_kwargs\n",
    ")\n",
    "# plt.ylim([-0.05, 1.05])\n",
    "plt.xlim(-0.5, ind[-1]+width+0.5)\n",
    "plt.legend(**legend_kwargs, loc='lower right')\n",
    "\n",
    "plt.gcf().set_size_inches(4,3)\n",
    "\n",
    "plt.savefig(os.getcwd()+'/saved_ae/multiregime_AE_NRMSE.pdf', dpi=300, bbox_inches='tight')\n",
    "plt.show()"
   ]
  },
  {
   "cell_type": "code",
   "execution_count": null,
   "id": "c4d5459a",
   "metadata": {},
   "outputs": [],
   "source": []
  },
  {
   "cell_type": "code",
   "execution_count": null,
   "id": "e5fef244",
   "metadata": {},
   "outputs": [],
   "source": []
  }
 ],
 "metadata": {
  "kernelspec": {
   "display_name": "Python 3 (ipykernel)",
   "language": "python",
   "name": "python3"
  },
  "language_info": {
   "codemirror_mode": {
    "name": "ipython",
    "version": 3
   },
   "file_extension": ".py",
   "mimetype": "text/x-python",
   "name": "python",
   "nbconvert_exporter": "python",
   "pygments_lexer": "ipython3",
   "version": "3.10.6"
  }
 },
 "nbformat": 4,
 "nbformat_minor": 5
}
