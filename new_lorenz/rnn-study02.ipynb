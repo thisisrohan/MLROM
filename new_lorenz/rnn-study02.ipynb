{
 "cells": [
  {
   "cell_type": "code",
   "execution_count": 1,
   "id": "ab50bddd",
   "metadata": {},
   "outputs": [],
   "source": [
    "import numpy as np\n",
    "import matplotlib.pyplot as plt\n",
    "import os\n",
    "\n",
    "plt.rcParams.update({\n",
    "    \"text.usetex\":True,\n",
    "    \"font.family\":\"serif\",\n",
    "})"
   ]
  },
  {
   "cell_type": "code",
   "execution_count": 2,
   "id": "47ce7f6a",
   "metadata": {},
   "outputs": [],
   "source": [
    "xlabel_kwargs = {'fontsize':15}\n",
    "ylabel_kwargs = {'fontsize':15}\n",
    "legend_kwargs = {'fontsize':12}\n",
    "title_kwargs = {'fontsize':18}\n",
    "xticks_kwargs = {'fontsize':12}\n",
    "yticks_kwargs = {'fontsize':12}"
   ]
  },
  {
   "cell_type": "code",
   "execution_count": 3,
   "id": "23c98c47",
   "metadata": {},
   "outputs": [
    {
     "name": "stdout",
     "output_type": "stream",
     "text": [
      "esn_dname :  ['/home/rkaushik/Documents/Thesis/MLROM/new_lorenz/saved_AR_AEESN_rnn/AR_ESN_ensemble_003', '/home/rkaushik/Documents/Thesis/MLROM/new_lorenz/saved_AR_AEESN_rnn/AR_ESN_ensemble_004', '/home/rkaushik/Documents/Thesis/MLROM/new_lorenz/saved_AR_AEESN_rnn/AR_ESN_ensemble_005']\n",
      "gru_dname :  ['/home/rkaushik/Documents/Thesis/MLROM/new_lorenz/saved_AR_AERNN_rnn/AR_rnn_000', '/home/rkaushik/Documents/Thesis/MLROM/new_lorenz/saved_AR_AERNN_rnn/AR_rnn_001', '/home/rkaushik/Documents/Thesis/MLROM/new_lorenz/saved_AR_AERNN_rnn/AR_rnn_002']\n"
     ]
    }
   ],
   "source": [
    "cwd = os.getcwd()\n",
    "\n",
    "esn_dname_list = [\n",
    "    cwd + '/saved_AR_AEESN_rnn/AR_ESN_ensemble_00{}'.format(i) for i in range(3, 6)\n",
    "#     cwd + '/saved_ESN_ensemble/ESN_ensemble_{:03d}'.format(i) for i in range(8, 11)\n",
    "]\n",
    "gru_dname_list = [\n",
    "    cwd + '/saved_AR_AERNN_rnn/AR_rnn_{:03d}'.format(i) for i in range(0, 3)\n",
    "]\n",
    "\n",
    "print('esn_dname : ', esn_dname_list)\n",
    "print('gru_dname : ', gru_dname_list)"
   ]
  },
  {
   "cell_type": "code",
   "execution_count": 4,
   "id": "7bdd266b",
   "metadata": {},
   "outputs": [],
   "source": [
    "plot_dir = cwd + '/study-02/plots'\n",
    "\n",
    "if not os.path.exists(plot_dir):\n",
    "    os.makedirs(plot_dir)"
   ]
  },
  {
   "cell_type": "code",
   "execution_count": 5,
   "id": "448eaa78",
   "metadata": {},
   "outputs": [
    {
     "name": "stdout",
     "output_type": "stream",
     "text": [
      "['/home/rkaushik/Documents/Thesis/MLROM/new_lorenz/saved_AR_AEESN_rnn/AR_ESN_ensemble_003/prediction_horizons-testingdata--20outsteps.npz', '/home/rkaushik/Documents/Thesis/MLROM/new_lorenz/saved_AR_AEESN_rnn/AR_ESN_ensemble_003/prediction_horizons-testingdata--ZEROoutsteps.npz', '/home/rkaushik/Documents/Thesis/MLROM/new_lorenz/saved_AR_AEESN_rnn/AR_ESN_ensemble_003/prediction_horizons-testingdata--10outsteps.npz', '/home/rkaushik/Documents/Thesis/MLROM/new_lorenz/saved_AR_AEESN_rnn/AR_ESN_ensemble_003/prediction_horizons-testingdata--5outsteps.npz', '/home/rkaushik/Documents/Thesis/MLROM/new_lorenz/saved_AR_AEESN_rnn/AR_ESN_ensemble_003/prediction_horizons-testingdata--15outsteps.npz']\n",
      "[20, 0, 10, 5, 15]\n",
      "\n",
      "['/home/rkaushik/Documents/Thesis/MLROM/new_lorenz/saved_AR_AEESN_rnn/AR_ESN_ensemble_003/prediction_horizons-testingdata--ZEROoutsteps.npz'\n",
      " '/home/rkaushik/Documents/Thesis/MLROM/new_lorenz/saved_AR_AEESN_rnn/AR_ESN_ensemble_003/prediction_horizons-testingdata--5outsteps.npz'\n",
      " '/home/rkaushik/Documents/Thesis/MLROM/new_lorenz/saved_AR_AEESN_rnn/AR_ESN_ensemble_003/prediction_horizons-testingdata--10outsteps.npz'\n",
      " '/home/rkaushik/Documents/Thesis/MLROM/new_lorenz/saved_AR_AEESN_rnn/AR_ESN_ensemble_003/prediction_horizons-testingdata--15outsteps.npz'\n",
      " '/home/rkaushik/Documents/Thesis/MLROM/new_lorenz/saved_AR_AEESN_rnn/AR_ESN_ensemble_003/prediction_horizons-testingdata--20outsteps.npz']\n",
      "[ 0  5 10 15 20]\n",
      "\n",
      "\n",
      "\n",
      "\n",
      "['/home/rkaushik/Documents/Thesis/MLROM/new_lorenz/saved_AR_AEESN_rnn/AR_ESN_ensemble_004/prediction_horizons-testingdata--20outsteps.npz', '/home/rkaushik/Documents/Thesis/MLROM/new_lorenz/saved_AR_AEESN_rnn/AR_ESN_ensemble_004/prediction_horizons-testingdata--ZEROoutsteps.npz', '/home/rkaushik/Documents/Thesis/MLROM/new_lorenz/saved_AR_AEESN_rnn/AR_ESN_ensemble_004/prediction_horizons-testingdata--10outsteps.npz', '/home/rkaushik/Documents/Thesis/MLROM/new_lorenz/saved_AR_AEESN_rnn/AR_ESN_ensemble_004/prediction_horizons-testingdata--5outsteps.npz', '/home/rkaushik/Documents/Thesis/MLROM/new_lorenz/saved_AR_AEESN_rnn/AR_ESN_ensemble_004/prediction_horizons-testingdata--15outsteps.npz']\n",
      "[20, 0, 10, 5, 15]\n",
      "\n",
      "['/home/rkaushik/Documents/Thesis/MLROM/new_lorenz/saved_AR_AEESN_rnn/AR_ESN_ensemble_004/prediction_horizons-testingdata--ZEROoutsteps.npz'\n",
      " '/home/rkaushik/Documents/Thesis/MLROM/new_lorenz/saved_AR_AEESN_rnn/AR_ESN_ensemble_004/prediction_horizons-testingdata--5outsteps.npz'\n",
      " '/home/rkaushik/Documents/Thesis/MLROM/new_lorenz/saved_AR_AEESN_rnn/AR_ESN_ensemble_004/prediction_horizons-testingdata--10outsteps.npz'\n",
      " '/home/rkaushik/Documents/Thesis/MLROM/new_lorenz/saved_AR_AEESN_rnn/AR_ESN_ensemble_004/prediction_horizons-testingdata--15outsteps.npz'\n",
      " '/home/rkaushik/Documents/Thesis/MLROM/new_lorenz/saved_AR_AEESN_rnn/AR_ESN_ensemble_004/prediction_horizons-testingdata--20outsteps.npz']\n",
      "[ 0  5 10 15 20]\n",
      "\n",
      "\n",
      "\n",
      "\n",
      "['/home/rkaushik/Documents/Thesis/MLROM/new_lorenz/saved_AR_AEESN_rnn/AR_ESN_ensemble_005/prediction_horizons-testingdata--20outsteps.npz', '/home/rkaushik/Documents/Thesis/MLROM/new_lorenz/saved_AR_AEESN_rnn/AR_ESN_ensemble_005/prediction_horizons-testingdata--ZEROoutsteps.npz', '/home/rkaushik/Documents/Thesis/MLROM/new_lorenz/saved_AR_AEESN_rnn/AR_ESN_ensemble_005/prediction_horizons-testingdata--10outsteps.npz', '/home/rkaushik/Documents/Thesis/MLROM/new_lorenz/saved_AR_AEESN_rnn/AR_ESN_ensemble_005/prediction_horizons-testingdata--5outsteps.npz', '/home/rkaushik/Documents/Thesis/MLROM/new_lorenz/saved_AR_AEESN_rnn/AR_ESN_ensemble_005/prediction_horizons-testingdata--15outsteps.npz']\n",
      "[20, 0, 10, 5, 15]\n",
      "\n",
      "['/home/rkaushik/Documents/Thesis/MLROM/new_lorenz/saved_AR_AEESN_rnn/AR_ESN_ensemble_005/prediction_horizons-testingdata--ZEROoutsteps.npz'\n",
      " '/home/rkaushik/Documents/Thesis/MLROM/new_lorenz/saved_AR_AEESN_rnn/AR_ESN_ensemble_005/prediction_horizons-testingdata--5outsteps.npz'\n",
      " '/home/rkaushik/Documents/Thesis/MLROM/new_lorenz/saved_AR_AEESN_rnn/AR_ESN_ensemble_005/prediction_horizons-testingdata--10outsteps.npz'\n",
      " '/home/rkaushik/Documents/Thesis/MLROM/new_lorenz/saved_AR_AEESN_rnn/AR_ESN_ensemble_005/prediction_horizons-testingdata--15outsteps.npz'\n",
      " '/home/rkaushik/Documents/Thesis/MLROM/new_lorenz/saved_AR_AEESN_rnn/AR_ESN_ensemble_005/prediction_horizons-testingdata--20outsteps.npz']\n",
      "[ 0  5 10 15 20]\n",
      "\n",
      "\n",
      "\n",
      "\n"
     ]
    }
   ],
   "source": [
    "esn_ph_list_global = []\n",
    "esn_numoutsteps_global = []\n",
    "for esn_dname in esn_dname_list:\n",
    "    esn_ph_list = []\n",
    "    esn_numoutsteps = []\n",
    "    for fname in os.listdir(esn_dname):\n",
    "        if fname.endswith('.npz') and fname.startswith('prediction_horizon'):\n",
    "            esn_ph_list.append(esn_dname + '/' + fname)\n",
    "            fname = fname[0:-4]\n",
    "            fname = fname[::-1]\n",
    "            idx = fname.find('--')\n",
    "            fname = fname[8:idx]\n",
    "            fname = fname[::-1]\n",
    "            if fname == 'ZERO':\n",
    "                esn_numoutsteps.append(0)\n",
    "            else:\n",
    "                esn_numoutsteps.append(int(fname))\n",
    "\n",
    "    print(esn_ph_list)\n",
    "    print(esn_numoutsteps)\n",
    "\n",
    "    esn_ph_list = np.array(esn_ph_list)\n",
    "    esn_numoutsteps = np.array(esn_numoutsteps)\n",
    "\n",
    "    sort_idx = np.argsort(esn_numoutsteps)\n",
    "    esn_numoutsteps = esn_numoutsteps[sort_idx]\n",
    "    esn_ph_list = esn_ph_list[sort_idx]\n",
    "\n",
    "    print('')\n",
    "    print(esn_ph_list)\n",
    "    print(esn_numoutsteps)\n",
    "    \n",
    "    esn_ph_list_global.append(esn_ph_list)\n",
    "    esn_numoutsteps_global.append(esn_numoutsteps)\n",
    "    \n",
    "    print('\\n\\n\\n')"
   ]
  },
  {
   "cell_type": "code",
   "execution_count": 6,
   "id": "62f81dd6",
   "metadata": {},
   "outputs": [
    {
     "name": "stdout",
     "output_type": "stream",
     "text": [
      "['/home/rkaushik/Documents/Thesis/MLROM/new_lorenz/saved_AR_AERNN_rnn/AR_rnn_000/prediction_horizons-testingdata--20outsteps.npz', '/home/rkaushik/Documents/Thesis/MLROM/new_lorenz/saved_AR_AERNN_rnn/AR_rnn_000/prediction_horizons-testingdata--ZEROoutsteps.npz', '/home/rkaushik/Documents/Thesis/MLROM/new_lorenz/saved_AR_AERNN_rnn/AR_rnn_000/prediction_horizons-testingdata--10outsteps.npz', '/home/rkaushik/Documents/Thesis/MLROM/new_lorenz/saved_AR_AERNN_rnn/AR_rnn_000/prediction_horizons-testingdata--5outsteps.npz', '/home/rkaushik/Documents/Thesis/MLROM/new_lorenz/saved_AR_AERNN_rnn/AR_rnn_000/prediction_horizons-testingdata--15outsteps.npz']\n",
      "[20, 0, 10, 5, 15]\n",
      "\n",
      "['/home/rkaushik/Documents/Thesis/MLROM/new_lorenz/saved_AR_AERNN_rnn/AR_rnn_000/prediction_horizons-testingdata--ZEROoutsteps.npz'\n",
      " '/home/rkaushik/Documents/Thesis/MLROM/new_lorenz/saved_AR_AERNN_rnn/AR_rnn_000/prediction_horizons-testingdata--5outsteps.npz'\n",
      " '/home/rkaushik/Documents/Thesis/MLROM/new_lorenz/saved_AR_AERNN_rnn/AR_rnn_000/prediction_horizons-testingdata--10outsteps.npz'\n",
      " '/home/rkaushik/Documents/Thesis/MLROM/new_lorenz/saved_AR_AERNN_rnn/AR_rnn_000/prediction_horizons-testingdata--15outsteps.npz'\n",
      " '/home/rkaushik/Documents/Thesis/MLROM/new_lorenz/saved_AR_AERNN_rnn/AR_rnn_000/prediction_horizons-testingdata--20outsteps.npz']\n",
      "[ 0  5 10 15 20]\n",
      "\n",
      "\n",
      "\n",
      "\n",
      "['/home/rkaushik/Documents/Thesis/MLROM/new_lorenz/saved_AR_AERNN_rnn/AR_rnn_001/prediction_horizons-testingdata--20outsteps.npz', '/home/rkaushik/Documents/Thesis/MLROM/new_lorenz/saved_AR_AERNN_rnn/AR_rnn_001/prediction_horizons-testingdata--ZEROoutsteps.npz', '/home/rkaushik/Documents/Thesis/MLROM/new_lorenz/saved_AR_AERNN_rnn/AR_rnn_001/prediction_horizons-testingdata--10outsteps.npz', '/home/rkaushik/Documents/Thesis/MLROM/new_lorenz/saved_AR_AERNN_rnn/AR_rnn_001/prediction_horizons-testingdata--5outsteps.npz', '/home/rkaushik/Documents/Thesis/MLROM/new_lorenz/saved_AR_AERNN_rnn/AR_rnn_001/prediction_horizons-testingdata--15outsteps.npz']\n",
      "[20, 0, 10, 5, 15]\n",
      "\n",
      "['/home/rkaushik/Documents/Thesis/MLROM/new_lorenz/saved_AR_AERNN_rnn/AR_rnn_001/prediction_horizons-testingdata--ZEROoutsteps.npz'\n",
      " '/home/rkaushik/Documents/Thesis/MLROM/new_lorenz/saved_AR_AERNN_rnn/AR_rnn_001/prediction_horizons-testingdata--5outsteps.npz'\n",
      " '/home/rkaushik/Documents/Thesis/MLROM/new_lorenz/saved_AR_AERNN_rnn/AR_rnn_001/prediction_horizons-testingdata--10outsteps.npz'\n",
      " '/home/rkaushik/Documents/Thesis/MLROM/new_lorenz/saved_AR_AERNN_rnn/AR_rnn_001/prediction_horizons-testingdata--15outsteps.npz'\n",
      " '/home/rkaushik/Documents/Thesis/MLROM/new_lorenz/saved_AR_AERNN_rnn/AR_rnn_001/prediction_horizons-testingdata--20outsteps.npz']\n",
      "[ 0  5 10 15 20]\n",
      "\n",
      "\n",
      "\n",
      "\n",
      "['/home/rkaushik/Documents/Thesis/MLROM/new_lorenz/saved_AR_AERNN_rnn/AR_rnn_002/prediction_horizons-testingdata--20outsteps.npz', '/home/rkaushik/Documents/Thesis/MLROM/new_lorenz/saved_AR_AERNN_rnn/AR_rnn_002/prediction_horizons-testingdata--ZEROoutsteps.npz', '/home/rkaushik/Documents/Thesis/MLROM/new_lorenz/saved_AR_AERNN_rnn/AR_rnn_002/prediction_horizons-testingdata--10outsteps.npz', '/home/rkaushik/Documents/Thesis/MLROM/new_lorenz/saved_AR_AERNN_rnn/AR_rnn_002/prediction_horizons-testingdata--5outsteps.npz', '/home/rkaushik/Documents/Thesis/MLROM/new_lorenz/saved_AR_AERNN_rnn/AR_rnn_002/prediction_horizons-testingdata--15outsteps.npz']\n",
      "[20, 0, 10, 5, 15]\n",
      "\n",
      "['/home/rkaushik/Documents/Thesis/MLROM/new_lorenz/saved_AR_AERNN_rnn/AR_rnn_002/prediction_horizons-testingdata--ZEROoutsteps.npz'\n",
      " '/home/rkaushik/Documents/Thesis/MLROM/new_lorenz/saved_AR_AERNN_rnn/AR_rnn_002/prediction_horizons-testingdata--5outsteps.npz'\n",
      " '/home/rkaushik/Documents/Thesis/MLROM/new_lorenz/saved_AR_AERNN_rnn/AR_rnn_002/prediction_horizons-testingdata--10outsteps.npz'\n",
      " '/home/rkaushik/Documents/Thesis/MLROM/new_lorenz/saved_AR_AERNN_rnn/AR_rnn_002/prediction_horizons-testingdata--15outsteps.npz'\n",
      " '/home/rkaushik/Documents/Thesis/MLROM/new_lorenz/saved_AR_AERNN_rnn/AR_rnn_002/prediction_horizons-testingdata--20outsteps.npz']\n",
      "[ 0  5 10 15 20]\n",
      "\n",
      "\n",
      "\n",
      "\n"
     ]
    }
   ],
   "source": [
    "gru_ph_list_global = []\n",
    "gru_numoutsteps_global = []\n",
    "for gru_dname in gru_dname_list:\n",
    "    gru_ph_list = []\n",
    "    gru_numoutsteps = []\n",
    "    for fname in os.listdir(gru_dname):\n",
    "        if fname.endswith('.npz') and fname.startswith('prediction_horizon'):\n",
    "            gru_ph_list.append(gru_dname + '/' + fname)\n",
    "            fname = fname[0:-4]\n",
    "            fname = fname[::-1]\n",
    "            idx = fname.find('--')\n",
    "            fname = fname[8:idx]\n",
    "            fname = fname[::-1]\n",
    "            if fname == 'ZERO':\n",
    "                gru_numoutsteps.append(0)\n",
    "            else:\n",
    "                gru_numoutsteps.append(int(fname))\n",
    "\n",
    "    print(gru_ph_list)\n",
    "    print(gru_numoutsteps)\n",
    "\n",
    "    gru_ph_list = np.array(gru_ph_list)\n",
    "    gru_numoutsteps = np.array(gru_numoutsteps)\n",
    "\n",
    "    sort_idx = np.argsort(gru_numoutsteps)\n",
    "    gru_numoutsteps = gru_numoutsteps[sort_idx]\n",
    "    gru_ph_list = gru_ph_list[sort_idx]\n",
    "\n",
    "    print('')\n",
    "    print(gru_ph_list)\n",
    "    print(gru_numoutsteps)\n",
    "    \n",
    "    gru_ph_list_global.append(gru_ph_list)\n",
    "    gru_numoutsteps_global.append(gru_numoutsteps)\n",
    "    \n",
    "    print('\\n\\n\\n')"
   ]
  },
  {
   "cell_type": "code",
   "execution_count": 7,
   "id": "4b0deac7",
   "metadata": {},
   "outputs": [
    {
     "name": "stdout",
     "output_type": "stream",
     "text": [
      "[2.0833448584014724, 2.1739250696363195, 2.3550854921060123, 2.3550854921060123, 2.3550854921060123]\n",
      "\n",
      "\n",
      "\n",
      "[2.2645052808711656, 2.6268261258105525, 2.898566759515092, 2.7174063370453987, 2.989146970749939]\n",
      "\n",
      "\n",
      "\n",
      "[2.2645052808711656, 2.0833448584014724, 2.3550854921060123, 2.2645052808711656, 2.1739250696363195]\n",
      "\n",
      "\n",
      "\n"
     ]
    }
   ],
   "source": [
    "esn_ph_arr_list_global = []\n",
    "esn_medians_global = []\n",
    "for ii in range(len(esn_ph_list_global)):\n",
    "    esn_ph_list = esn_ph_list_global[ii]\n",
    "    esn_ph_arr_list = []\n",
    "    esn_medians = []\n",
    "    for fname in esn_ph_list:\n",
    "        with np.load(fname, allow_pickle=True) as f:\n",
    "            try:\n",
    "                ph_arr = f['prediction_horizon_arr']\n",
    "            except:\n",
    "                for key in f.keys():\n",
    "                    if key.find('og') != -1:\n",
    "                        ph_arr = f[key]\n",
    "                        break\n",
    "            esn_ph_arr_list.append(ph_arr)\n",
    "        num_runs = ph_arr.shape[0]\n",
    "        ph_arr.sort()\n",
    "        esn_medians.append(ph_arr[int(0.5*num_runs-1)])\n",
    "    print(esn_medians)\n",
    "\n",
    "    esn_ph_arr_list_global.append(esn_ph_arr_list)\n",
    "    esn_medians_global.append(esn_medians)\n",
    "    print('\\n\\n')\n",
    "\n",
    "esn_ph_arr_list_global = np.array(esn_ph_arr_list_global)"
   ]
  },
  {
   "cell_type": "code",
   "execution_count": 13,
   "id": "0354bfd0",
   "metadata": {},
   "outputs": [
    {
     "data": {
      "image/png": "[encoded data removed]",
      "text/plain": [
       "<Figure size 640x480 with 1 Axes>"
      ]
     },
     "metadata": {},
     "output_type": "display_data"
    }
   ],
   "source": [
    "plt.violinplot(\n",
    "    list(esn_ph_arr_list_global[:, -1]),\n",
    "    showmedians=True)\n",
    "# plt.boxplot(\n",
    "#     list(esn_ph_arr_list_global[:, -1]),\n",
    "# #     showmedians=True,\n",
    "# #     quantiles=[[0.25, 0.75] for i in range(gru_ph_arr_list_global.shape[0])],\n",
    "# )\n",
    "plt.grid(True)\n",
    "plt.xticks(\n",
    "    np.arange(esn_ph_arr_list_global.shape[0]) + 1,\n",
    "    ['200', '500', '800'],\n",
    "#     ('Teacher\\nforced',) + tuple([str(elem) for elem in esn_numoutsteps[1:]]),\n",
    "    **xticks_kwargs\n",
    ")\n",
    "plt.yticks(**yticks_kwargs)\n",
    "plt.xlabel(r'$n^r \\atop{^{(\\mathrm{reservoir \\ size} = n^{r} \\times n^{ls})}}$', fontsize=20)#**xlabel_kwargs)\n",
    "plt.ylabel('Prediction Horizon [LT]', **ylabel_kwargs)\n",
    "plt.title('ESN', **title_kwargs)\n",
    "\n",
    "# plt.savefig(plot_dir+'/esn-study02--boxplot.pdf', dpi=300, bbox_inches='tight')\n",
    "plt.savefig(plot_dir+'/esn-study02--violinplot.pdf', dpi=300, bbox_inches='tight')\n",
    "plt.show()"
   ]
  },
  {
   "cell_type": "code",
   "execution_count": 9,
   "id": "05e54bfa",
   "metadata": {},
   "outputs": [
    {
     "name": "stdout",
     "output_type": "stream",
     "text": [
      "[1.2681229572878527, 1.6304438022272392, 1.9021844359317792, 2.0833448584014724, 2.0833448584014724]\n",
      "\n",
      "\n",
      "\n",
      "[0.8152219011136196, 1.6304438022272392, 1.8116042246969324, 1.9927646471666258, 1.9927646471666258]\n",
      "\n",
      "\n",
      "\n",
      "[1.3587031685226993, 1.8116042246969324, 2.445665703340859, 2.7174063370453987, 2.989146970749939]\n",
      "\n",
      "\n",
      "\n",
      "['/home/rkaushik/Documents/Thesis/MLROM/new_lorenz/saved_AR_AERNN_rnn/AR_rnn_002/prediction_horizons-testingdata--ZEROoutsteps.npz'\n",
      " '/home/rkaushik/Documents/Thesis/MLROM/new_lorenz/saved_AR_AERNN_rnn/AR_rnn_002/prediction_horizons-testingdata--5outsteps.npz'\n",
      " '/home/rkaushik/Documents/Thesis/MLROM/new_lorenz/saved_AR_AERNN_rnn/AR_rnn_002/prediction_horizons-testingdata--10outsteps.npz'\n",
      " '/home/rkaushik/Documents/Thesis/MLROM/new_lorenz/saved_AR_AERNN_rnn/AR_rnn_002/prediction_horizons-testingdata--15outsteps.npz'\n",
      " '/home/rkaushik/Documents/Thesis/MLROM/new_lorenz/saved_AR_AERNN_rnn/AR_rnn_002/prediction_horizons-testingdata--20outsteps.npz']\n",
      "(3, 5, 100)\n"
     ]
    }
   ],
   "source": [
    "gru_ph_arr_list_global = []\n",
    "gru_medians_global = []\n",
    "for ii in range(len(gru_ph_list_global)):\n",
    "    gru_ph_list = gru_ph_list_global[ii]\n",
    "    gru_ph_arr_list = []\n",
    "    gru_medians = []\n",
    "    for fname in gru_ph_list:\n",
    "        with np.load(fname, allow_pickle=True) as f:\n",
    "            try:\n",
    "                ph_arr = f['prediction_horizon_arr']\n",
    "            except:\n",
    "                for key in f.keys():\n",
    "                    if key.find('og') != -1:\n",
    "                        ph_arr = f[key]\n",
    "                        break\n",
    "            gru_ph_arr_list.append(ph_arr)\n",
    "        num_runs = ph_arr.shape[0]\n",
    "        ph_arr.sort()\n",
    "        gru_medians.append(ph_arr[int(0.5*num_runs-1)])\n",
    "    print(gru_medians)\n",
    "\n",
    "    gru_ph_arr_list_global.append(gru_ph_arr_list)\n",
    "    gru_medians_global.append(gru_medians)\n",
    "    print('\\n\\n')\n",
    "\n",
    "gru_ph_arr_list_global = np.array(gru_ph_arr_list_global)\n",
    "\n",
    "print(gru_ph_list)\n",
    "print(gru_ph_arr_list_global.shape)"
   ]
  },
  {
   "cell_type": "code",
   "execution_count": 19,
   "id": "30ac3122",
   "metadata": {},
   "outputs": [
    {
     "data": {
      "image/png": "[encoded data removed]",
      "text/plain": [
       "<Figure size 640x480 with 1 Axes>"
      ]
     },
     "metadata": {},
     "output_type": "display_data"
    }
   ],
   "source": [
    "# plt.violinplot(\n",
    "#     list(gru_ph_arr_list_global[:, -1]),\n",
    "#     showmedians=True,\n",
    "# #     quantiles=[[0.25, 0.75] for i in range(gru_ph_arr_list_global.shape[0])],\n",
    "# )\n",
    "plt.boxplot(\n",
    "    list(gru_ph_arr_list_global[:, -1]),\n",
    "#     showmedians=True,\n",
    "#     quantiles=[[0.25, 0.75] for i in range(gru_ph_arr_list_global.shape[0])],\n",
    ")\n",
    "plt.grid(True)\n",
    "plt.xticks(\n",
    "    np.arange(gru_ph_arr_list_global.shape[0]) + 1,\n",
    "    ['20', '50', '80'],\n",
    "#     ('Teacher\\nforced',) + tuple([str(elem) for elem in esn_numoutsteps[1:]]),\n",
    "    **xticks_kwargs\n",
    ")\n",
    "plt.yticks(**yticks_kwargs)\n",
    "plt.xlabel(r'$n^r \\atop{^{(\\mathrm{layer \\ size} = n^{r} \\times n^{ls})}}$', fontsize=20)#**xlabel_kwargs)\n",
    "plt.ylabel('Prediction Horizon [LT]', **ylabel_kwargs)\n",
    "plt.title('GRU', **title_kwargs)\n",
    "\n",
    "plt.savefig(plot_dir+'/gru-study02--boxplot.pdf', dpi=300, bbox_inches='tight')\n",
    "# plt.savefig(plot_dir+'/gru-study02--violinplot.pdf', dpi=300, bbox_inches='tight')\n",
    "plt.show()"
   ]
  },
  {
   "cell_type": "code",
   "execution_count": null,
   "id": "dd31a216",
   "metadata": {},
   "outputs": [],
   "source": []
  },
  {
   "cell_type": "code",
   "execution_count": null,
   "id": "da7d986e",
   "metadata": {},
   "outputs": [],
   "source": []
  }
 ],
 "metadata": {
  "kernelspec": {
   "display_name": "Python 3 (ipykernel)",
   "language": "python",
   "name": "python3"
  },
  "language_info": {
   "codemirror_mode": {
    "name": "ipython",
    "version": 3
   },
   "file_extension": ".py",
   "mimetype": "text/x-python",
   "name": "python",
   "nbconvert_exporter": "python",
   "pygments_lexer": "ipython3",
   "version": "3.10.6"
  }
 },
 "nbformat": 4,
 "nbformat_minor": 5
}
