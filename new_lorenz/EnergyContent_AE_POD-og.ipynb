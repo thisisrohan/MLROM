{
 "cells": [
  {
   "cell_type": "code",
   "execution_count": 1,
   "metadata": {
    "executionInfo": {
     "elapsed": 289,
     "status": "ok",
     "timestamp": 1666881736051,
     "user": {
      "displayName": "Rohan Kaushik",
      "userId": "13918477614376051685"
     },
     "user_tz": -120
    },
    "id": "4xhxMpe_r-Y5",
    "scrolled": false
   },
   "outputs": [],
   "source": [
    "# enabling 3rd party widgets\n",
    "# from google.colab import output\n",
    "# output.enable_custom_widget_manager()\n",
    "# output.disable_custom_widget_manager()\n",
    "\n",
    "# interactive 3D plot\n",
    "# !pip install ipympl\n",
    "# %matplotlib widget"
   ]
  },
  {
   "cell_type": "code",
   "execution_count": 2,
   "metadata": {
    "executionInfo": {
     "elapsed": 24,
     "status": "ok",
     "timestamp": 1666881736054,
     "user": {
      "displayName": "Rohan Kaushik",
      "userId": "13918477614376051685"
     },
     "user_tz": -120
    },
    "id": "a5qPupCDsjSz",
    "scrolled": false
   },
   "outputs": [],
   "source": [
    "import os\n",
    "import math\n",
    "from collections import OrderedDict\n",
    "import numpy as np\n",
    "import matplotlib.pyplot as plt\n",
    "from scipy import linalg, fft\n",
    "\n",
    "import time as time\n",
    "import platform as platform\n",
    "\n",
    "import tensorflow as tf\n",
    "from tensorflow.keras import layers, losses\n",
    "from tensorflow.keras.models import Model\n",
    "from tensorflow.keras import backend as K\n",
    "from tensorflow.keras.regularizers import L2\n",
    "import h5py\n",
    "\n",
    "tf.keras.backend.set_floatx('float32')\n",
    "plt.rcParams.update({\"text.usetex\":True})"
   ]
  },
  {
   "cell_type": "code",
   "execution_count": 3,
   "metadata": {
    "executionInfo": {
     "elapsed": 25,
     "status": "ok",
     "timestamp": 1666881736057,
     "user": {
      "displayName": "Rohan Kaushik",
      "userId": "13918477614376051685"
     },
     "user_tz": -120
    },
    "id": "h_qXhHdbCgoj",
    "scrolled": false
   },
   "outputs": [],
   "source": [
    "colab_flag = False\n",
    "\n",
    "FTYPE = np.float32\n",
    "ITYPE = np.int32\n",
    "\n",
    "strategy = None\n",
    "# strategy = tf.distribute.MirroredStrategy()"
   ]
  },
  {
   "cell_type": "code",
   "execution_count": 4,
   "metadata": {
    "executionInfo": {
     "elapsed": 25,
     "status": "ok",
     "timestamp": 1666881736059,
     "user": {
      "displayName": "Rohan Kaushik",
      "userId": "13918477614376051685"
     },
     "user_tz": -120
    },
    "id": "BiLIUmBPneQR",
    "scrolled": false
   },
   "outputs": [],
   "source": [
    "current_sys = platform.system()\n",
    "\n",
    "if current_sys == 'Windows':\n",
    "    dir_sep = '\\\\'\n",
    "else:\n",
    "    dir_sep = '/'"
   ]
  },
  {
   "cell_type": "code",
   "execution_count": 5,
   "metadata": {
    "colab": {
     "base_uri": "https://localhost:8080/"
    },
    "executionInfo": {
     "elapsed": 3724,
     "status": "ok",
     "timestamp": 1666881739760,
     "user": {
      "displayName": "Rohan Kaushik",
      "userId": "13918477614376051685"
     },
     "user_tz": -120
    },
    "id": "fnTV6Anhni6O",
    "outputId": "73e76758-0242-43e5-f503-48adf76593b5",
    "scrolled": false
   },
   "outputs": [],
   "source": [
    "if colab_flag == True:\n",
    "    from google.colab import drive\n",
    "    drive.mount('/content/drive')\n",
    "    os.chdir('/content/drive/MyDrive/Github/MLROM/KS/')"
   ]
  },
  {
   "cell_type": "code",
   "execution_count": 6,
   "metadata": {
    "colab": {
     "base_uri": "https://localhost:8080/"
    },
    "executionInfo": {
     "elapsed": 22,
     "status": "ok",
     "timestamp": 1666881739761,
     "user": {
      "displayName": "Rohan Kaushik",
      "userId": "13918477614376051685"
     },
     "user_tz": -120
    },
    "id": "paDfPOrjnkAS",
    "outputId": "f0786e31-2aea-4ffa-e170-722245e6f70c",
    "scrolled": false
   },
   "outputs": [
    {
     "name": "stdout",
     "output_type": "stream",
     "text": [
      "/home/rkaushik/Documents/Thesis/MLROM/new_lorenz\n"
     ]
    }
   ],
   "source": [
    "print(os.getcwd())"
   ]
  },
  {
   "cell_type": "code",
   "execution_count": 7,
   "metadata": {
    "executionInfo": {
     "elapsed": 18,
     "status": "ok",
     "timestamp": 1666881739761,
     "user": {
      "displayName": "Rohan Kaushik",
      "userId": "13918477614376051685"
     },
     "user_tz": -120
    },
    "id": "P6K2YWlR6ZPD",
    "scrolled": false
   },
   "outputs": [],
   "source": [
    "from tools.ae_v2 import Autoencoder"
   ]
  },
  {
   "cell_type": "code",
   "execution_count": 8,
   "metadata": {
    "colab": {
     "base_uri": "https://localhost:8080/"
    },
    "executionInfo": {
     "elapsed": 18,
     "status": "ok",
     "timestamp": 1666881739762,
     "user": {
      "displayName": "Rohan Kaushik",
      "userId": "13918477614376051685"
     },
     "user_tz": -120
    },
    "id": "qvA9oeCHCTVM",
    "outputId": "f4c3fd7d-28db-4e93-c1ef-21cc1045663b",
    "scrolled": false
   },
   "outputs": [
    {
     "name": "stdout",
     "output_type": "stream",
     "text": [
      "[PhysicalDevice(name='/physical_device:GPU:0', device_type='GPU'), PhysicalDevice(name='/physical_device:GPU:1', device_type='GPU')]\n",
      "[LogicalDevice(name='/device:GPU:0', device_type='GPU')]\n"
     ]
    },
    {
     "name": "stderr",
     "output_type": "stream",
     "text": [
      "2023-05-24 22:33:37.106183: I tensorflow/stream_executor/cuda/cuda_gpu_executor.cc:936] successful NUMA node read from SysFS had negative value (-1), but there must be at least one NUMA node, so returning NUMA node zero\n",
      "2023-05-24 22:33:37.106452: I tensorflow/stream_executor/cuda/cuda_gpu_executor.cc:936] successful NUMA node read from SysFS had negative value (-1), but there must be at least one NUMA node, so returning NUMA node zero\n",
      "2023-05-24 22:33:37.146056: I tensorflow/stream_executor/cuda/cuda_gpu_executor.cc:936] successful NUMA node read from SysFS had negative value (-1), but there must be at least one NUMA node, so returning NUMA node zero\n",
      "2023-05-24 22:33:37.146324: I tensorflow/stream_executor/cuda/cuda_gpu_executor.cc:936] successful NUMA node read from SysFS had negative value (-1), but there must be at least one NUMA node, so returning NUMA node zero\n",
      "2023-05-24 22:33:37.146539: I tensorflow/stream_executor/cuda/cuda_gpu_executor.cc:936] successful NUMA node read from SysFS had negative value (-1), but there must be at least one NUMA node, so returning NUMA node zero\n",
      "2023-05-24 22:33:37.146743: I tensorflow/stream_executor/cuda/cuda_gpu_executor.cc:936] successful NUMA node read from SysFS had negative value (-1), but there must be at least one NUMA node, so returning NUMA node zero\n",
      "2023-05-24 22:33:37.147842: I tensorflow/core/platform/cpu_feature_guard.cc:151] This TensorFlow binary is optimized with oneAPI Deep Neural Network Library (oneDNN) to use the following CPU instructions in performance-critical operations:  SSE4.1 SSE4.2 AVX AVX2 FMA\n",
      "To enable them in other operations, rebuild TensorFlow with the appropriate compiler flags.\n",
      "2023-05-24 22:33:37.148363: I tensorflow/stream_executor/cuda/cuda_gpu_executor.cc:936] successful NUMA node read from SysFS had negative value (-1), but there must be at least one NUMA node, so returning NUMA node zero\n",
      "2023-05-24 22:33:37.148588: I tensorflow/stream_executor/cuda/cuda_gpu_executor.cc:936] successful NUMA node read from SysFS had negative value (-1), but there must be at least one NUMA node, so returning NUMA node zero\n",
      "2023-05-24 22:33:37.148792: I tensorflow/stream_executor/cuda/cuda_gpu_executor.cc:936] successful NUMA node read from SysFS had negative value (-1), but there must be at least one NUMA node, so returning NUMA node zero\n",
      "2023-05-24 22:33:37.677575: I tensorflow/stream_executor/cuda/cuda_gpu_executor.cc:936] successful NUMA node read from SysFS had negative value (-1), but there must be at least one NUMA node, so returning NUMA node zero\n",
      "2023-05-24 22:33:37.677804: I tensorflow/stream_executor/cuda/cuda_gpu_executor.cc:936] successful NUMA node read from SysFS had negative value (-1), but there must be at least one NUMA node, so returning NUMA node zero\n",
      "2023-05-24 22:33:37.678000: I tensorflow/stream_executor/cuda/cuda_gpu_executor.cc:936] successful NUMA node read from SysFS had negative value (-1), but there must be at least one NUMA node, so returning NUMA node zero\n",
      "2023-05-24 22:33:37.678160: I tensorflow/core/common_runtime/gpu/gpu_device.cc:1525] Created device /job:localhost/replica:0/task:0/device:GPU:0 with 3365 MB memory:  -> device: 1, name: Quadro K2200, pci bus id: 0000:03:00.0, compute capability: 5.0\n"
     ]
    }
   ],
   "source": [
    "gpus = tf.config.list_physical_devices('GPU')\n",
    "print(gpus)\n",
    "\n",
    "if colab_flag == False:\n",
    "    if strategy is None:\n",
    "        if gpus:\n",
    "            gpu_to_use = 1\n",
    "            tf.config.set_visible_devices(gpus[gpu_to_use], 'GPU')\n",
    "    logical_devices = tf.config.list_logical_devices('GPU')\n",
    "    print(logical_devices)"
   ]
  },
  {
   "cell_type": "code",
   "execution_count": 9,
   "metadata": {
    "colab": {
     "base_uri": "https://localhost:8080/"
    },
    "executionInfo": {
     "elapsed": 17,
     "status": "ok",
     "timestamp": 1666881739763,
     "user": {
      "displayName": "Rohan Kaushik",
      "userId": "13918477614376051685"
     },
     "user_tz": -120
    },
    "id": "tc3zO9xL_tNl",
    "outputId": "c91130b9-d725-4a03-bf17-6ba1ab3d839f",
    "scrolled": false
   },
   "outputs": [
    {
     "name": "stdout",
     "output_type": "stream",
     "text": [
      "[PhysicalDevice(name='/physical_device:CPU:0', device_type='CPU'), PhysicalDevice(name='/physical_device:GPU:0', device_type='GPU'), PhysicalDevice(name='/physical_device:GPU:1', device_type='GPU')]\n",
      "[LogicalDevice(name='/device:CPU:0', device_type='CPU'), LogicalDevice(name='/device:GPU:0', device_type='GPU')]\n",
      "2.8.1\n"
     ]
    }
   ],
   "source": [
    "# print(tf.test.gpu_device_name())\n",
    "print(tf.config.list_physical_devices())\n",
    "print(tf.config.list_logical_devices())\n",
    "print(tf.__version__)"
   ]
  },
  {
   "cell_type": "markdown",
   "metadata": {
    "id": "7UbdnOtc4_z9"
   },
   "source": [
    "# KS System"
   ]
  },
  {
   "cell_type": "code",
   "execution_count": null,
   "metadata": {
    "executionInfo": {
     "elapsed": 13,
     "status": "ok",
     "timestamp": 1666881739763,
     "user": {
      "displayName": "Rohan Kaushik",
      "userId": "13918477614376051685"
     },
     "user_tz": -120
    },
    "id": "wIjaZVvsm7kC",
    "scrolled": false
   },
   "outputs": [],
   "source": []
  },
  {
   "cell_type": "code",
   "execution_count": 10,
   "metadata": {
    "colab": {
     "base_uri": "https://localhost:8080/"
    },
    "executionInfo": {
     "elapsed": 13,
     "status": "ok",
     "timestamp": 1666881739764,
     "user": {
      "displayName": "Rohan Kaushik",
      "userId": "13918477614376051685"
     },
     "user_tz": -120
    },
    "id": "1Iyg8Bceiv_S",
    "outputId": "8e428d14-702a-4c97-958b-ae81d580a2c5",
    "scrolled": false
   },
   "outputs": [
    {
     "name": "stdout",
     "output_type": "stream",
     "text": [
      "normalize_flag_ogdata: False\n"
     ]
    }
   ],
   "source": [
    "from numpy import *\n",
    "\n",
    "data_dir_idx = '008'\n",
    "\n",
    "dir_name_data = os.getcwd() + dir_sep + 'saved_data' + dir_sep + 'data_' + data_dir_idx\n",
    "    \n",
    "with open(dir_name_data + dir_sep + 'sim_data_params.txt') as f:\n",
    "    lines = f.readlines()\n",
    "params_dict = eval(''.join(lines))\n",
    "params_mat = params_dict['params_mat']\n",
    "# init_state = params_dict['init_state']\n",
    "t0 = params_dict['t0']\n",
    "T = params_dict['T']\n",
    "delta_t = params_dict['delta_t']\n",
    "return_params_arr = params_dict['return_params_arr']\n",
    "normalize_flag_ogdata = params_dict['normalize_flag']\n",
    "print('normalize_flag_ogdata:', normalize_flag_ogdata)\n",
    "alldata_withparams_flag = params_dict['alldata_withparams_flag']\n",
    "\n",
    "fl = np.load(dir_name_data+dir_sep+'data.npz', allow_pickle=True)\n",
    "all_data_og = fl['all_data'].astype(FTYPE)\n",
    "boundary_idx_arr = fl['boundary_idx_arr']\n",
    "normalization_constant_arr_ogdata = fl['normalization_constant_arr'][0]\n",
    "initial_t0 = fl['initial_t0']\n",
    "init_state_mat = fl['init_state_mat']\n",
    "\n",
    "lyapunov_spectrum_mat = fl['lyapunov_spectrum_mat']\n",
    "\n",
    "num_params = params_mat.shape[1]\n",
    "og_vars = all_data_og.shape[1]\n",
    "if alldata_withparams_flag == True:\n",
    "    og_vars -= num_params"
   ]
  },
  {
   "cell_type": "code",
   "execution_count": 11,
   "metadata": {
    "scrolled": false
   },
   "outputs": [],
   "source": [
    "FourierCoeffs = fft.fft(all_data_og[:, 0:og_vars], axis=1)\n",
    "energySpectrum_og = FourierCoeffs.real**2 + FourierCoeffs.imag**2\n",
    "energySpectrum_og = np.mean(energySpectrum_og, axis=0)"
   ]
  },
  {
   "cell_type": "code",
   "execution_count": 12,
   "metadata": {
    "scrolled": false
   },
   "outputs": [],
   "source": [
    "meancentereddata_og = all_data_og[:, 0:og_vars] - np.mean(all_data_og[:, 0:og_vars], axis=0)\n",
    "covmat_og = np.matmul(meancentereddata_og.transpose(), meancentereddata_og) / (meancentereddata_og.shape[0] - 1)\n",
    "eigvals_og = np.abs(np.linalg.eigvals(covmat_og))\n",
    "eigvals_og = np.sort(eigvals_og)\n",
    "eigvals_og = eigvals_og[::-1]"
   ]
  },
  {
   "cell_type": "code",
   "execution_count": 13,
   "metadata": {
    "colab": {
     "base_uri": "https://localhost:8080/",
     "height": 370
    },
    "executionInfo": {
     "elapsed": 1439,
     "status": "ok",
     "timestamp": 1666881741193,
     "user": {
      "displayName": "Rohan Kaushik",
      "userId": "13918477614376051685"
     },
     "user_tz": -120
    },
    "id": "6zKGDWE-nBkC",
    "outputId": "935e3d2a-c78e-4e0b-f709-0afc683b4dd2",
    "scrolled": false
   },
   "outputs": [
    {
     "name": "stdout",
     "output_type": "stream",
     "text": [
      "eigvals sum :  218.76265999999987\n",
      "FC sum :  2316.9647102178487\n"
     ]
    }
   ],
   "source": [
    "print('eigvals sum : ', np.sum(eigvals_og))\n",
    "print('FC sum : ', np.sum(energySpectrum_og))"
   ]
  },
  {
   "cell_type": "code",
   "execution_count": 14,
   "metadata": {
    "colab": {
     "base_uri": "https://localhost:8080/"
    },
    "executionInfo": {
     "elapsed": 4785,
     "status": "ok",
     "timestamp": 1666881745969,
     "user": {
      "displayName": "Rohan Kaushik",
      "userId": "13918477614376051685"
     },
     "user_tz": -120
    },
    "id": "fyYb5aE0mqbg",
    "outputId": "3fc8ae85-4ab3-43a5-f6ee-3a7168b28bab",
    "scrolled": false
   },
   "outputs": [
    {
     "name": "stdout",
     "output_type": "stream",
     "text": [
      "chosen_dir_list: ['test_ae_024']\n"
     ]
    }
   ],
   "source": [
    "dir_name_all_ae = os.getcwd()+'{ds}saved_ae'.format(ds=dir_sep)\n",
    "# dir_contents_list = os.listdir(dir_name_all_ae)\n",
    "# chosen_dir_list = []\n",
    "# for elem in dir_contents_list:\n",
    "#     dir_name_ae = dir_name_all_ae + dir_sep + elem\n",
    "#     if os.path.isdir(dir_name_ae):\n",
    "#         with open(dir_name_ae + dir_sep + 'ae_data.txt') as f:\n",
    "#             lines = f.readlines()\n",
    "#             params_dict = eval(''.join(lines))\n",
    "#             if data_dir_idx == params_dict['data_dir_idx']:\n",
    "#                 chosen_dir_list.append(elem)\n",
    "\n",
    "chosen_dir_list = [\n",
    "    'test_ae_024',\n",
    "#     'ae_005',\n",
    "#     'ae_006',\n",
    "#     'ae_007',\n",
    "]\n",
    "print('chosen_dir_list:', chosen_dir_list)"
   ]
  },
  {
   "cell_type": "code",
   "execution_count": 15,
   "metadata": {
    "colab": {
     "base_uri": "https://localhost:8080/",
     "height": 1000,
     "output_embedded_package_id": "1HlIMAPkolsqKBbcu4lYHUcsAvUpxrr1O"
    },
    "executionInfo": {
     "elapsed": 34065,
     "status": "ok",
     "timestamp": 1666881779991,
     "user": {
      "displayName": "Rohan Kaushik",
      "userId": "13918477614376051685"
     },
     "user_tz": -120
    },
    "id": "Pu_rpXYUmT14",
    "outputId": "b648863c-7bc8-401e-bdfb-5c4fb4946551",
    "scrolled": false
   },
   "outputs": [
    {
     "name": "stdout",
     "output_type": "stream",
     "text": [
      "\n",
      "\n",
      "-------------------- test_ae_024 --------------------\n",
      "'use_ae_data' not present in RNN_specific_data, set to True.\n"
     ]
    }
   ],
   "source": [
    "num_latent_states_list = []\n",
    "timeAvgEnergySpectrum = []\n",
    "covmat_list_AE = []\n",
    "eigvals_list_AE = []\n",
    "latent_states_covmat_list = []\n",
    "latent_states_eigenvals_list = []\n",
    "\n",
    "for elem in chosen_dir_list:\n",
    "    print('\\n\\n-------------------- {} --------------------'.format(elem))\n",
    "    dir_name_ae = dir_name_all_ae + dir_sep + elem\n",
    "    # reading simulation parameters\n",
    "    with open(dir_name_ae + dir_sep + 'ae_data.txt') as f:\n",
    "        lines = f.readlines()\n",
    "    params_dict = eval(''.join(lines))\n",
    "    data_dir_idx = params_dict['data_dir_idx']\n",
    "    normalizeforae_flag = params_dict['normalizeforae_flag']\n",
    "    normalization_constant_arr_aedata = params_dict['normalization_constant_arr_aedata']\n",
    "    try:\n",
    "        use_ae_data = params_rnn_dict['use_ae_data']\n",
    "    except:\n",
    "        print(\"'use_ae_data' not present in RNN_specific_data, set to True.\")\n",
    "        use_ae_data = True\n",
    "    try:\n",
    "        ae_data_with_params = params_dict['ae_data_with_params']\n",
    "    except:\n",
    "        print(\"'ae_data_with_params' not present in ae_data, set to 'True'.\")\n",
    "        ae_data_with_params = True\n",
    "\n",
    "    if os.path.exists(dir_name_ae+dir_sep+'normalization_data.npz'):\n",
    "        fl = np.load(dir_name_ae+dir_sep+'normalization_data.npz', allow_pickle=True)\n",
    "        normalization_constant_arr_aedata = fl['normalization_constant_arr_aedata'][0]\n",
    "    \n",
    "    # dealing with normalizing the data before feeding into autoencoder\n",
    "    all_data = all_data_og\n",
    "    if normalizeforae_flag == True:\n",
    "        all_data = all_data_og.copy()\n",
    "        for i in range(og_vars):\n",
    "            all_data[:, i] -= normalization_constant_arr_aedata[0, i]\n",
    "            all_data[:, i] /= normalization_constant_arr_aedata[1, i]\n",
    "    if ae_data_with_params == False:\n",
    "        all_data = all_data[:, 0:og_vars]\n",
    "    \n",
    "    load_file = dir_name_ae+dir_sep+'final_net'+dir_sep+'final_net_class_dict.txt'\n",
    "    wt_file = dir_name_ae+dir_sep+'final_net'+dir_sep+'final_net_ae_weights.h5'\n",
    "\n",
    "    ae_net = Autoencoder(all_data.shape[1], load_file=load_file)\n",
    "    ae_net.load_weights_from_file(wt_file)\n",
    "\n",
    "    # create data\n",
    "    latent_states_all = ae_net.encoder_net.predict(all_data)\n",
    "    num_latent_states = latent_states_all.shape[1]\n",
    "    num_latent_states_list.append(num_latent_states)\n",
    "\n",
    "#     plot_latent_states_KS(\n",
    "#         boundary_idx_arr,\n",
    "#         latent_states_all,\n",
    "#         delta_t,\n",
    "#         dir_name_ae,\n",
    "#         xticks_snapto=xticks_snapto,\n",
    "#         num_yticks=11,\n",
    "#         save_figs=False)\n",
    "    \n",
    "    reconstructed_data = ae_net.decoder_net.predict(latent_states_all)\n",
    "\n",
    "#     plot_reconstructed_data_KS(\n",
    "#         boundary_idx_arr,\n",
    "#         dir_name_ae,\n",
    "#         all_data,\n",
    "#         reconstructed_data, delta_t, xgrid,\n",
    "#         save_figs=False,\n",
    "#         normalization_constant_arr=normalization_constant_arr_aedata,\n",
    "#         xticks_snapto=xticks_snapto,\n",
    "#         num_yticks=11)\n",
    "\n",
    "    if normalizeforae_flag == True:\n",
    "        for i in range(og_vars):\n",
    "            reconstructed_data[:, i] *= normalization_constant_arr_aedata[1, i]\n",
    "            reconstructed_data[:, i] += normalization_constant_arr_aedata[0, i]\n",
    "            all_data[:, i] *= normalization_constant_arr_aedata[1, i]\n",
    "            all_data[:, i] += normalization_constant_arr_aedata[0, i]\n",
    "\n",
    "    FourierCoeffs = fft.fft(reconstructed_data[:, 0:og_vars], axis=1)\n",
    "    energySpectrum = FourierCoeffs.real**2 + FourierCoeffs.imag**2\n",
    "    energySpectrum = np.mean(energySpectrum, axis=0)\n",
    "    timeAvgEnergySpectrum.append(energySpectrum)\n",
    "    \n",
    "    meancentereddata_ae = reconstructed_data[:, 0:og_vars] - np.mean(reconstructed_data[:, 0:og_vars], axis=0)\n",
    "    covmat_ae = np.matmul(meancentereddata_ae.transpose(), meancentereddata_ae) / (meancentereddata_ae.shape[0] - 1)\n",
    "    eigvals_ae = np.abs(np.linalg.eigvals(covmat_ae))\n",
    "    eigvals_ae = np.sort(eigvals_ae)\n",
    "    eigvals_ae = eigvals_ae[::-1]\n",
    "    covmat_list_AE.append(covmat_ae)\n",
    "    eigvals_list_AE.append(eigvals_ae)\n",
    "    \n",
    "    meancentered_ls = latent_states_all - np.mean(latent_states_all, axis=0)\n",
    "    covmat_ls = np.matmul(meancentered_ls.transpose(), meancentered_ls) / (meancentered_ls.shape[0] - 1)\n",
    "    eigvals_ls = np.abs(np.linalg.eigvals(covmat_ls))\n",
    "    eigvals_ls = np.sort(eigvals_ls)\n",
    "    eigvals_ls = eigvals_ls[::-1]\n",
    "    latent_states_covmat_list.append(covmat_ls)\n",
    "    latent_states_eigenvals_list.append(eigvals_ls)\n",
    "\n",
    "    del(latent_states_all)\n",
    "    del(reconstructed_data)"
   ]
  },
  {
   "cell_type": "code",
   "execution_count": 16,
   "metadata": {
    "executionInfo": {
     "elapsed": 75,
     "status": "ok",
     "timestamp": 1666881779994,
     "user": {
      "displayName": "Rohan Kaushik",
      "userId": "13918477614376051685"
     },
     "user_tz": -120
    },
    "id": "O7sl7i5H5Dqz",
    "scrolled": false
   },
   "outputs": [],
   "source": [
    "sorted_idx = np.argsort(num_latent_states_list)\n",
    "num_latent_states_list = np.array(num_latent_states_list)[sorted_idx]\n",
    "timeAvgEnergySpectrum = np.array(timeAvgEnergySpectrum)[sorted_idx, :]\n",
    "covmat_list_AE = np.array(covmat_list_AE)[sorted_idx, :]\n",
    "eigvals_list_AE = np.array(eigvals_list_AE)[sorted_idx, :]\n",
    "chosen_dir_list = np.array(chosen_dir_list)[sorted_idx]\n",
    "\n",
    "temp1 = []\n",
    "temp2 = []\n",
    "for i in range(len(sorted_idx)):\n",
    "    temp1.append(latent_states_covmat_list[sorted_idx[i]])\n",
    "    temp2.append(latent_states_eigenvals_list[sorted_idx[i]])\n",
    "latent_states_covmat_list = temp1\n",
    "latent_states_eigenvals_list = temp2"
   ]
  },
  {
   "cell_type": "code",
   "execution_count": 17,
   "metadata": {
    "colab": {
     "base_uri": "https://localhost:8080/",
     "height": 279
    },
    "executionInfo": {
     "elapsed": 75,
     "status": "ok",
     "timestamp": 1666881779997,
     "user": {
      "displayName": "Rohan Kaushik",
      "userId": "13918477614376051685"
     },
     "user_tz": -120
    },
    "id": "ySVDz_2U5FH5",
    "outputId": "b7c7374d-957b-439d-8876-014a1adde398",
    "scrolled": false
   },
   "outputs": [
    {
     "data": {
      "image/png": "[encoded data removed]",
      "text/plain": [
       "<Figure size 640x480 with 1 Axes>"
      ]
     },
     "metadata": {},
     "output_type": "display_data"
    }
   ],
   "source": [
    "plt.plot(num_latent_states_list, np.sum(timeAvgEnergySpectrum, axis=1)/np.sum(energySpectrum_og), '--', marker='o')\n",
    "plt.grid(True)\n",
    "plt.xlabel('Number of Latent States')\n",
    "plt.ylabel('Energy content of reconstructed\\ndata relative to original data')\n",
    "plt.ylim([0, 1.2])\n",
    "plt.show()"
   ]
  },
  {
   "cell_type": "code",
   "execution_count": 18,
   "metadata": {
    "scrolled": false
   },
   "outputs": [
    {
     "name": "stdout",
     "output_type": "stream",
     "text": [
      "100.0\n"
     ]
    },
    {
     "data": {
      "image/png": "[encoded data removed]",
      "text/plain": [
       "<Figure size 640x480 with 1 Axes>"
      ]
     },
     "metadata": {},
     "output_type": "display_data"
    }
   ],
   "source": [
    "fig_eigvals, ax_eigvals = plt.subplots()\n",
    "for i in range(len(chosen_dir_list)):\n",
    "    # fig_eigvals, ax_eigvals = plt.subplots()\n",
    "    # ax_eigvals.semilogy(eigvals_og/np.sum(eigvals_og), linestyle='--', marker='s', linewidth=0.9, markersize=2, label=r'Original Data')\n",
    "    ax_eigvals.semilogy(100*latent_states_eigenvals_list[i]/np.sum(latent_states_eigenvals_list[i]), linestyle='--', marker='^', linewidth=0.9, markersize=2, label=r'AE latent space')\n",
    "    idx_end = 19\n",
    "    if len(latent_states_eigenvals_list[i]) < idx_end:\n",
    "        idx_end = len(latent_states_eigenvals_list[i])\n",
    "    print(100*np.sum(latent_states_eigenvals_list[i][0:idx_end]/np.sum(latent_states_eigenvals_list[i])))\n",
    "        \n",
    "ax_eigvals.grid(True)\n",
    "ax_eigvals.legend()\n",
    "ax_eigvals.set_axisbelow(True)\n",
    "ax_eigvals.set_title('Eigenvalues of the covariance matrix')\n",
    "plt.title('num_latent_states : {}'.format(num_latent_states_list[i]))\n",
    "plt.show()"
   ]
  },
  {
   "cell_type": "markdown",
   "metadata": {
    "id": "1v6KQEjR5LkK"
   },
   "source": [
    "# POD"
   ]
  },
  {
   "cell_type": "code",
   "execution_count": 19,
   "metadata": {
    "executionInfo": {
     "elapsed": 71,
     "status": "ok",
     "timestamp": 1666881779999,
     "user": {
      "displayName": "Rohan Kaushik",
      "userId": "13918477614376051685"
     },
     "user_tz": -120
    },
    "id": "ZBTJl9PeneQb",
    "scrolled": false
   },
   "outputs": [],
   "source": [
    "# podcentering_means = np.empty(shape=numpoints_xgrid)\n",
    "# for i in range(numpoints_xgrid):\n",
    "#     podcentering_means[i] = np.mean(all_data_og[:, i])\n",
    "#     all_data_og[:, i] -= podcentering_means[i]\n",
    "# cov_matrix = all_data_og[:, 0:xgrid.shape[0]].transpose() @ all_data_og[:, 0:xgrid.shape[0]]\n",
    "# cov_matrix /= all_data_og.shape[0]-1\n",
    "\n",
    "podcentering_means = np.mean(all_data_og[:, 0:og_vars], axis=0)\n",
    "meancentereddata_og = all_data_og[:, 0:og_vars] - podcentering_means\n",
    "cov_matrix = np.matmul(meancentereddata_og.transpose(), meancentereddata_og)\n",
    "cov_matrix /= meancentereddata_og.shape[0] - 1"
   ]
  },
  {
   "cell_type": "code",
   "execution_count": 20,
   "metadata": {
    "executionInfo": {
     "elapsed": 448,
     "status": "ok",
     "timestamp": 1666881780380,
     "user": {
      "displayName": "Rohan Kaushik",
      "userId": "13918477614376051685"
     },
     "user_tz": -120
    },
    "id": "a3Pq-qorneQb",
    "scrolled": false
   },
   "outputs": [],
   "source": [
    "eigenvals, eigenvecs = linalg.eig(cov_matrix)"
   ]
  },
  {
   "cell_type": "code",
   "execution_count": 21,
   "metadata": {
    "scrolled": false
   },
   "outputs": [],
   "source": [
    "for i in range(len(eigenvals)):\n",
    "    ev = eigenvals[i]\n",
    "    if ev < 0.0:\n",
    "        eigenvals[i] *= -1\n",
    "        eigenvecs[:, i] *= -1"
   ]
  },
  {
   "cell_type": "code",
   "execution_count": 22,
   "metadata": {
    "executionInfo": {
     "elapsed": 35,
     "status": "ok",
     "timestamp": 1666881780383,
     "user": {
      "displayName": "Rohan Kaushik",
      "userId": "13918477614376051685"
     },
     "user_tz": -120
    },
    "id": "Q3a8HHyvneQc",
    "scrolled": false
   },
   "outputs": [],
   "source": [
    "sorted_idx = np.argsort(eigenvals)\n",
    "eigenvals = eigenvals[sorted_idx]\n",
    "eigenvecs = eigenvecs[:, sorted_idx]"
   ]
  },
  {
   "cell_type": "code",
   "execution_count": 23,
   "metadata": {
    "scrolled": true
   },
   "outputs": [],
   "source": [
    "# print(eigenvals)\n",
    "\n",
    "# for i in range(eigenvecs.shape[1]):\n",
    "#     print('norm(ev[:, {}]) : {}'.format(i, np.sum(eigenvecs[:, i]**2)))"
   ]
  },
  {
   "cell_type": "code",
   "execution_count": 24,
   "metadata": {
    "executionInfo": {
     "elapsed": 35,
     "status": "ok",
     "timestamp": 1666881780385,
     "user": {
      "displayName": "Rohan Kaushik",
      "userId": "13918477614376051685"
     },
     "user_tz": -120
    },
    "id": "wjgPNitSrt5p",
    "scrolled": false
   },
   "outputs": [],
   "source": [
    "pod_timeAvgEnergySpectrum = []\n",
    "covmat_list_pod = []\n",
    "eigvals_list_pod = []\n",
    "\n",
    "for num_latent_states in num_latent_states_list:\n",
    "    # num_latent_states = num_latent_states_list[i]\n",
    "    Wl = eigenvecs[:, -num_latent_states:]\n",
    "    Xl = (all_data_og[:, 0:og_vars]-podcentering_means) @ Wl @ Wl.transpose()\n",
    "    for i in range(og_vars):\n",
    "        Xl[:, i] += podcentering_means[i]\n",
    "    FourierCoeffs = fft.fft(Xl, axis=1)\n",
    "    energySpectrum = FourierCoeffs.real**2 + FourierCoeffs.imag**2\n",
    "    energySpectrum = np.mean(energySpectrum, axis=0)\n",
    "    pod_timeAvgEnergySpectrum.append(energySpectrum)\n",
    "    \n",
    "    meancentereddata_pod = Xl[:, 0:og_vars] - np.mean(Xl[:, 0:og_vars], axis=0)\n",
    "    covmat_pod = np.matmul(meancentereddata_pod.transpose(), meancentereddata_pod) / (meancentereddata_pod.shape[0] - 1)\n",
    "    eigvals_pod = np.abs(np.linalg.eigvals(covmat_pod))\n",
    "    eigvals_pod = np.sort(eigvals_pod)\n",
    "    eigvals_pod = eigvals_pod[::-1]\n",
    "    covmat_list_pod.append(covmat_pod)\n",
    "    eigvals_list_pod.append(eigvals_pod)"
   ]
  },
  {
   "cell_type": "markdown",
   "metadata": {},
   "source": [
    "# Comparison of Time Averaged RMSE"
   ]
  },
  {
   "cell_type": "code",
   "execution_count": 25,
   "metadata": {
    "scrolled": false
   },
   "outputs": [],
   "source": [
    "# save_dir = dir_name_all_ae+dir_sep+'PODvsAE'\n",
    "# if not os.path.isdir(save_dir):\n",
    "#     os.makedirs(save_dir)\n",
    "\n",
    "# counter = 0\n",
    "# while True:\n",
    "#     dir_check = 'PODvsAE_' + str(counter).zfill(3)\n",
    "#     if os.path.isdir(save_dir + dir_sep + dir_check):\n",
    "#         counter += 1\n",
    "#     else:\n",
    "#         break\n",
    "\n",
    "# save_dir = save_dir + dir_sep + dir_check\n",
    "# os.makedirs(save_dir)\n",
    "# os.makedirs(save_dir+dir_sep+'plots')\n",
    "\n",
    "# dirdict = {\n",
    "#     'chosen_dir_list':chosen_dir_list,\n",
    "#     'data_dir_idx':data_dir_idx,\n",
    "# }\n",
    "# with open(save_dir+dir_sep+'dirdict.txt', 'w') as f:\n",
    "#     f.write(str(dirdict))"
   ]
  },
  {
   "cell_type": "code",
   "execution_count": 26,
   "metadata": {
    "colab": {
     "base_uri": "https://localhost:8080/",
     "height": 295
    },
    "executionInfo": {
     "elapsed": 2265,
     "status": "ok",
     "timestamp": 1666881886306,
     "user": {
      "displayName": "Rohan Kaushik",
      "userId": "13918477614376051685"
     },
     "user_tz": -120
    },
    "id": "X85PatZNxpWO",
    "outputId": "dd031cb9-03d1-4e35-e4ee-35cd3587560f",
    "scrolled": false
   },
   "outputs": [],
   "source": [
    "# plt.semilogy(num_latent_states_list, pod_RMSEavg_list, '--', marker='o')\n",
    "# plt.semilogy(num_latent_states_list, ae_RMSEavg_list, '--', marker='o')\n",
    "# plt.legend(['POD', 'AE'])\n",
    "# plt.grid(True)\n",
    "# plt.xlabel('Number of Latent States')\n",
    "# plt.ylabel('Time Averaged RMSE')\n",
    "# plt.title('Reconstruction Error vs. Number of Latent States', size=12)\n",
    "# plt.savefig(save_dir+dir_sep+'plots'+dir_sep+'AE_vs_POD.png', dpi=300, bbox_inches='tight')\n",
    "# plt.show()"
   ]
  },
  {
   "cell_type": "code",
   "execution_count": 27,
   "metadata": {
    "executionInfo": {
     "elapsed": 30,
     "status": "ok",
     "timestamp": 1666881780387,
     "user": {
      "displayName": "Rohan Kaushik",
      "userId": "13918477614376051685"
     },
     "user_tz": -120
    },
    "id": "tSrsL5bG1KId",
    "scrolled": false
   },
   "outputs": [
    {
     "data": {
      "image/png": "[encoded data removed]",
      "text/plain": [
       "<Figure size 640x480 with 1 Axes>"
      ]
     },
     "metadata": {},
     "output_type": "display_data"
    },
    {
     "name": "stdout",
     "output_type": "stream",
     "text": [
      "AE: [0.9912475]\n",
      "POD: [0.96058523]\n"
     ]
    }
   ],
   "source": [
    "width = 0.1\n",
    "ind = np.arange(num_latent_states_list.shape[0])\n",
    "\n",
    "# plt.bar(ind, np.sum(timeAvgEnergySpectrum, axis=1)/np.sum(energySpectrum_og), width, label='AE')\n",
    "# plt.bar(ind+width, np.sum(pod_timeAvgEnergySpectrum, axis=1)/np.sum(energySpectrum_og), width, label='POD')\n",
    "plt.bar(ind, np.sum(eigvals_list_AE, axis=1)/np.sum(eigvals_og), width, label='AE')\n",
    "plt.bar(ind+width, np.sum(eigvals_list_pod, axis=1)/np.sum(eigvals_og), width, label='POD')\n",
    "plt.grid(True)\n",
    "plt.xlabel('Number of Latent States')\n",
    "plt.ylabel('Energy content of reconstructed\\ndata relative to original data')\n",
    "plt.xticks(ind+width/2, [r''+str(elem) for elem in num_latent_states_list])\n",
    "# plt.ylim([-0.05, 1.05])\n",
    "plt.xlim(-0.5, ind[-1]+width+0.5)\n",
    "plt.legend()\n",
    "\n",
    "plt.savefig('energy_content_AE_POD.png', dpi=300, bbox_inches='tight')\n",
    "plt.show()\n",
    "\n",
    "# print('AE:', np.sum(timeAvgEnergySpectrum, axis=1)/np.sum(energySpectrum_og))\n",
    "# print('POD:', np.sum(pod_timeAvgEnergySpectrum, axis=1)/np.sum(energySpectrum_og))\n",
    "print('AE:', np.sum(eigvals_list_AE, axis=1)/np.sum(eigvals_og))\n",
    "print('POD:', np.sum(eigvals_list_pod, axis=1)/np.sum(eigvals_og))"
   ]
  },
  {
   "cell_type": "code",
   "execution_count": 28,
   "metadata": {
    "scrolled": false
   },
   "outputs": [
    {
     "name": "stdout",
     "output_type": "stream",
     "text": [
      "[0. 1. 2.]\n"
     ]
    }
   ],
   "source": [
    "k = fft.fftfreq(og_vars, d=1/og_vars)\n",
    "idx = np.where(k<0)[0]\n",
    "k[idx] += og_vars\n",
    "print(k)#*numpoints_xgrid*2*np.pi/xgrid[-1])"
   ]
  },
  {
   "cell_type": "code",
   "execution_count": 29,
   "metadata": {
    "scrolled": false
   },
   "outputs": [
    {
     "data": {
      "image/png": "[encoded data removed]",
      "text/plain": [
       "<Figure size 640x480 with 1 Axes>"
      ]
     },
     "metadata": {},
     "output_type": "display_data"
    }
   ],
   "source": [
    "y1 = energySpectrum_og/np.sum(energySpectrum_og)\n",
    "for i in range(len(chosen_dir_list)):\n",
    "    y2 = timeAvgEnergySpectrum[i]/np.sum(energySpectrum_og)# np.sum(timeAvgEnergySpectrum[i])\n",
    "    y3 = pod_timeAvgEnergySpectrum[i]/np.sum(energySpectrum_og)# np.sum(pod_timeAvgEnergySpectrum[i])\n",
    "    plt.semilogy(k, y3, marker='s', markersize=3, linewidth=0.95, linestyle='--', label='POD Reconstruction')\n",
    "    plt.semilogy(k, y1, marker='^', markersize=4, linewidth=0.95, linestyle='--', label='Original Data')\n",
    "    plt.semilogy(k, y2, marker='o', markersize=4, linewidth=0.95, linestyle='--', label='AE Reconstruction')\n",
    "    plt.title('num_latent_states : {}'.format(num_latent_states_list[i]))\n",
    "    plt.grid(True)\n",
    "    plt.legend()\n",
    "    plt.show()"
   ]
  },
  {
   "cell_type": "code",
   "execution_count": 30,
   "metadata": {
    "scrolled": false
   },
   "outputs": [
    {
     "data": {
      "image/png": "[encoded data removed]",
      "text/plain": [
       "<Figure size 640x480 with 1 Axes>"
      ]
     },
     "metadata": {},
     "output_type": "display_data"
    }
   ],
   "source": [
    "for i in range(len(chosen_dir_list)):\n",
    "    fig_eigvals, ax_eigvals = plt.subplots()\n",
    "    ax_eigvals.semilogy(eigvals_og, linestyle='--', marker='s', linewidth=0.9, markersize=2)\n",
    "    ax_eigvals.semilogy(eigvals_list_pod[i], linestyle='--', marker='^', linewidth=0.9, markersize=2)\n",
    "    ax_eigvals.semilogy(eigvals_list_AE[i], linestyle='--', marker='^', linewidth=0.9, markersize=2)\n",
    "    ax_eigvals.grid(True)\n",
    "    ax_eigvals.legend([r'Original Data', r'POD Reconstruction', r'AE Reconstruction'])\n",
    "    ax_eigvals.set_axisbelow(True)\n",
    "    ax_eigvals.set_title('Eigenvalues of the covariance matrix')\n",
    "    plt.title('num_latent_states : {}'.format(num_latent_states_list[i]))\n",
    "    plt.show()"
   ]
  },
  {
   "cell_type": "code",
   "execution_count": 31,
   "metadata": {
    "scrolled": false
   },
   "outputs": [
    {
     "data": {
      "image/png": "[encoded data removed]",
      "text/plain": [
       "<Figure size 1500x500 with 5 Axes>"
      ]
     },
     "metadata": {},
     "output_type": "display_data"
    }
   ],
   "source": [
    "covmat_og_normd = np.divide(np.transpose(covmat_og), np.diag(covmat_og)).transpose()\n",
    "for i in range(len(chosen_dir_list)):\n",
    "    fig_covmat = plt.figure(figsize=(5.0*3, 5.0*1))\n",
    "    subplot1 = 1\n",
    "    subplot2 = subplot1 + 1\n",
    "    \n",
    "    covmat_ae_normd = np.divide(np.transpose(covmat_list_AE[i]), np.diag(covmat_og)).transpose()\n",
    "\n",
    "    vmin_snap = 0.05\n",
    "    vmax_snap = 0.05\n",
    "    vmin = np.min([\n",
    "        covmat_og_normd.min(),\n",
    "        covmat_ae_normd.min()\n",
    "    ])\n",
    "    vmin = min(vmin, -1.0)\n",
    "    vmin = -vmin_snap*np.round(-vmin/vmin_snap + 0.5)\n",
    "    vmax = np.max([\n",
    "        covmat_og_normd.max(),\n",
    "        covmat_ae_normd.max()\n",
    "    ])\n",
    "    vmax = max(vmax, 1.0)\n",
    "    vmax = vmax_snap*np.round(vmax/vmax_snap + 0.5)\n",
    "\n",
    "    # plotting the original data\n",
    "    ax_covmat_orig = fig_covmat.add_subplot(1, 3, subplot1)\n",
    "    im_orig = ax_covmat_orig.imshow(\n",
    "        covmat_og_normd,\n",
    "        aspect='equal',\n",
    "        origin='upper',\n",
    "        vmin=vmin,\n",
    "        vmax=vmax\n",
    "    )\n",
    "    ax_covmat_orig.title.set_text('Covariance Matrix (True Data)')\n",
    "    # xticks = np.arange(0, N, int((xticks_snapto+0.5*delta_t)//delta_t))\n",
    "    # ax_covmat_orig.set_xticks(ticks=xticks)\n",
    "    # ax_covmat_orig.set_xticklabels(np.round(xticks*delta_t, 1))\n",
    "    # ax_covmat_orig.tick_params(axis='x', rotation=270+45)\n",
    "    # yticks = np.linspace(0, 1, num_yticks)*(len(xgrid)-1)\n",
    "    # yticklabels = np.round(xgrid[0]+np.linspace(0, 1, yticks.shape[0])*(xgrid[-1]-xgrid[0]), 2)\n",
    "    # ax_covmat_orig.set_yticks(ticks=yticks)\n",
    "    # ax_covmat_orig.set_yticklabels(yticklabels)\n",
    "    # ax_covmat_orig.set_xlabel(xlabel)\n",
    "    # ax_covmat_orig.set_ylabel(ylabel)\n",
    "\n",
    "    # plotting the predicted data\n",
    "    ax_covmat_predict = fig_covmat.add_subplot(1, 3, subplot2, sharey=ax_covmat_orig, sharex=ax_covmat_orig)\n",
    "    im_predict = ax_covmat_predict.imshow(\n",
    "        covmat_ae_normd,\n",
    "        aspect='equal',\n",
    "        origin='upper',\n",
    "        vmin=vmin,\n",
    "        vmax=vmax\n",
    "    )\n",
    "    ax_covmat_predict.title.set_text('Covariance Matrix (AE Data)')\n",
    "    # ax_covmat_predict.tick_params(axis='x', rotation=270+45)\n",
    "    # ax_covmat_predict.set_xlabel(xlabel)\n",
    "    # ax_covmat_predict.set_ylabel(ylabel)\n",
    "\n",
    "    # subplots adjustment to account for colorbars\n",
    "    fig_covmat.subplots_adjust(\n",
    "        bottom=0.2,\n",
    "        left=0.1,\n",
    "    )\n",
    "\n",
    "    # original data and recon data colorbar\n",
    "    cb_xbegin = ax_covmat_orig.transData.transform([0, 0])\n",
    "    cb_xbegin = fig_covmat.transFigure.inverted().transform(cb_xbegin)[0]\n",
    "    cb_xend = ax_covmat_predict.transData.transform([covmat_ae_normd.shape[-1], 0])\n",
    "    cb_xend = fig_covmat.transFigure.inverted().transform(cb_xend)[0]\n",
    "\n",
    "    cb_ax = fig_covmat.add_axes([cb_xbegin, 0.0, cb_xend-cb_xbegin, 0.025])\n",
    "    cbar = fig_covmat.colorbar(im_predict, cax=cb_ax, orientation='horizontal')\n",
    "\n",
    "    # computing the normalized error\n",
    "    subplot3 = subplot2+1\n",
    "    error = np.abs(covmat_og_normd-covmat_ae_normd)\n",
    "    vmax_error_snap = 0.02\n",
    "    vmax_error = np.max(error)\n",
    "    vmax_error = vmax_error_snap*np.round(vmax_error/vmax_error_snap + 0.5)\n",
    "    # error = 100*error / np.abs(pod_covmat_dataout)\n",
    "    # plotting the normalized error\n",
    "    ax_covmat_error = fig_covmat.add_subplot(1, 3, subplot3, sharey=ax_covmat_orig, sharex=ax_covmat_orig)\n",
    "    im_error = ax_covmat_error.imshow(\n",
    "        error,\n",
    "        aspect='equal',\n",
    "        origin='upper',\n",
    "        vmin=0.0,\n",
    "        vmax=vmax_error\n",
    "    )\n",
    "    ax_covmat_error.title.set_text(r'Error')\n",
    "    # ax_error.tick_params(axis='x', rotation=270+45)\n",
    "    # ax_error.set_xlabel(xlabel)\n",
    "    # ax_error.set_ylabel(ylabel)\n",
    "\n",
    "    # error colorbar\n",
    "    cbe_xbegin = ax_covmat_error.transData.transform([0, 0])\n",
    "    cbe_xbegin = fig_covmat.transFigure.inverted().transform(cbe_xbegin)[0]\n",
    "    cbe_xend = ax_covmat_error.transData.transform([covmat_ae_normd.shape[-1], 0])\n",
    "    cbe_xend = fig_covmat.transFigure.inverted().transform(cbe_xend)[0]\n",
    "    error_cb_ax = fig_covmat.add_axes([cbe_xbegin, 0.0, cbe_xend-cbe_xbegin, 0.025])\n",
    "    error_cb_ax.tick_params(axis='x', rotation=270+45)\n",
    "    cbar_error = fig_covmat.colorbar(im_error, cax=error_cb_ax, orientation='horizontal')\n",
    "    plt.title('num_latent_states : {}'.format(num_latent_states_list[i]))\n",
    "    plt.show()"
   ]
  },
  {
   "cell_type": "code",
   "execution_count": 32,
   "metadata": {
    "scrolled": false
   },
   "outputs": [
    {
     "data": {
      "image/png": "[encoded data removed]",
      "text/plain": [
       "<Figure size 1500x500 with 5 Axes>"
      ]
     },
     "metadata": {},
     "output_type": "display_data"
    }
   ],
   "source": [
    "covmat_og_normd = np.divide(np.transpose(covmat_og), np.diag(covmat_og)).transpose()\n",
    "for i in range(len(chosen_dir_list)):\n",
    "    fig_covmat = plt.figure(figsize=(5.0*3, 5.0*1))\n",
    "    subplot1 = 1\n",
    "    subplot2 = subplot1 + 1\n",
    "    \n",
    "    covmat_pod_normd = np.divide(np.transpose(covmat_list_pod[i]), np.diag(covmat_og)).transpose()\n",
    "\n",
    "    vmin_snap = 0.05\n",
    "    vmax_snap = 0.05\n",
    "    vmin = np.min([\n",
    "        covmat_og_normd.min(),\n",
    "        covmat_pod_normd.min()\n",
    "    ])\n",
    "    vmin = min(vmin, -1.0)\n",
    "    vmin = -vmin_snap*np.round(-vmin/vmin_snap + 0.5)\n",
    "    vmax = np.max([\n",
    "        covmat_og_normd.max(),\n",
    "        covmat_pod_normd.max()\n",
    "    ])\n",
    "    vmax = max(vmax, 1.0)\n",
    "    vmax = vmax_snap*np.round(vmax/vmax_snap + 0.5)\n",
    "\n",
    "    # plotting the original data\n",
    "    ax_covmat_orig = fig_covmat.add_subplot(1, 3, subplot1)\n",
    "    im_orig = ax_covmat_orig.imshow(\n",
    "        covmat_og_normd,\n",
    "        aspect='equal',\n",
    "        origin='upper',\n",
    "        vmin=vmin,\n",
    "        vmax=vmax\n",
    "    )\n",
    "    ax_covmat_orig.title.set_text('Covariance Matrix (True Data)')\n",
    "    # xticks = np.arange(0, N, int((xticks_snapto+0.5*delta_t)//delta_t))\n",
    "    # ax_covmat_orig.set_xticks(ticks=xticks)\n",
    "    # ax_covmat_orig.set_xticklabels(np.round(xticks*delta_t, 1))\n",
    "    # ax_covmat_orig.tick_params(axis='x', rotation=270+45)\n",
    "    # yticks = np.linspace(0, 1, num_yticks)*(len(xgrid)-1)\n",
    "    # yticklabels = np.round(xgrid[0]+np.linspace(0, 1, yticks.shape[0])*(xgrid[-1]-xgrid[0]), 2)\n",
    "    # ax_covmat_orig.set_yticks(ticks=yticks)\n",
    "    # ax_covmat_orig.set_yticklabels(yticklabels)\n",
    "    # ax_covmat_orig.set_xlabel(xlabel)\n",
    "    # ax_covmat_orig.set_ylabel(ylabel)\n",
    "\n",
    "    # plotting the predicted data\n",
    "    ax_covmat_predict = fig_covmat.add_subplot(1, 3, subplot2, sharey=ax_covmat_orig, sharex=ax_covmat_orig)\n",
    "    im_predict = ax_covmat_predict.imshow(\n",
    "        covmat_pod_normd,\n",
    "        aspect='equal',\n",
    "        origin='upper',\n",
    "        vmin=vmin,\n",
    "        vmax=vmax\n",
    "    )\n",
    "    ax_covmat_predict.title.set_text('Covariance Matrix (POD Data)')\n",
    "    # ax_covmat_predict.tick_params(axis='x', rotation=270+45)\n",
    "    # ax_covmat_predict.set_xlabel(xlabel)\n",
    "    # ax_covmat_predict.set_ylabel(ylabel)\n",
    "\n",
    "    # subplots adjustment to account for colorbars\n",
    "    fig_covmat.subplots_adjust(\n",
    "        bottom=0.2,\n",
    "        left=0.1,\n",
    "    )\n",
    "\n",
    "    # original data and recon data colorbar\n",
    "    cb_xbegin = ax_covmat_orig.transData.transform([0, 0])\n",
    "    cb_xbegin = fig_covmat.transFigure.inverted().transform(cb_xbegin)[0]\n",
    "    cb_xend = ax_covmat_predict.transData.transform([covmat_pod_normd.shape[-1], 0])\n",
    "    cb_xend = fig_covmat.transFigure.inverted().transform(cb_xend)[0]\n",
    "\n",
    "    cb_ax = fig_covmat.add_axes([cb_xbegin, 0.0, cb_xend-cb_xbegin, 0.025])\n",
    "    cbar = fig_covmat.colorbar(im_predict, cax=cb_ax, orientation='horizontal')\n",
    "\n",
    "    # computing the normalized error\n",
    "    subplot3 = subplot2+1\n",
    "    error = np.abs(covmat_og_normd-covmat_pod_normd)\n",
    "    vmax_error_snap = 0.01\n",
    "    vmax_error = np.max(error)\n",
    "    vmax_error = vmax_error_snap*np.round(vmax_error/vmax_error_snap + 0.5)\n",
    "    # error = 100*error / np.abs(pod_covmat_dataout)\n",
    "    # plotting the normalized error\n",
    "    ax_covmat_error = fig_covmat.add_subplot(1, 3, subplot3, sharey=ax_covmat_orig, sharex=ax_covmat_orig)\n",
    "    im_error = ax_covmat_error.imshow(\n",
    "        error,\n",
    "        aspect='equal',\n",
    "        origin='upper',\n",
    "        vmin=0.0,\n",
    "        vmax=vmax_error\n",
    "    )\n",
    "    ax_covmat_error.title.set_text(r'Error')\n",
    "    # ax_error.tick_params(axis='x', rotation=270+45)\n",
    "    # ax_error.set_xlabel(xlabel)\n",
    "    # ax_error.set_ylabel(ylabel)\n",
    "\n",
    "    # error colorbar\n",
    "    cbe_xbegin = ax_covmat_error.transData.transform([0, 0])\n",
    "    cbe_xbegin = fig_covmat.transFigure.inverted().transform(cbe_xbegin)[0]\n",
    "    cbe_xend = ax_covmat_error.transData.transform([covmat_pod_normd.shape[-1], 0])\n",
    "    cbe_xend = fig_covmat.transFigure.inverted().transform(cbe_xend)[0]\n",
    "    error_cb_ax = fig_covmat.add_axes([cbe_xbegin, 0.0, cbe_xend-cbe_xbegin, 0.025])\n",
    "    error_cb_ax.tick_params(axis='x', rotation=270+45)\n",
    "    cbar_error = fig_covmat.colorbar(im_error, cax=error_cb_ax, orientation='horizontal')\n",
    "    plt.title('num_latent_states : {}'.format(num_latent_states_list[i]))\n",
    "    plt.show()"
   ]
  },
  {
   "cell_type": "code",
   "execution_count": null,
   "metadata": {
    "scrolled": false
   },
   "outputs": [],
   "source": []
  }
 ],
 "metadata": {
  "colab": {
   "collapsed_sections": [],
   "provenance": []
  },
  "gpuClass": "standard",
  "kernelspec": {
   "display_name": "Python 3 (ipykernel)",
   "language": "python",
   "name": "python3"
  },
  "language_info": {
   "codemirror_mode": {
    "name": "ipython",
    "version": 3
   },
   "file_extension": ".py",
   "mimetype": "text/x-python",
   "name": "python",
   "nbconvert_exporter": "python",
   "pygments_lexer": "ipython3",
   "version": "3.10.6"
  }
 },
 "nbformat": 4,
 "nbformat_minor": 1
}
