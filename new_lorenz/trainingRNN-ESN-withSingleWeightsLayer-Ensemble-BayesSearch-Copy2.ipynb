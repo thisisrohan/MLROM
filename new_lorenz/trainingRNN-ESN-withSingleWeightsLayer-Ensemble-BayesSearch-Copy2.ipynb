{
 "cells": [
  {
   "cell_type": "code",
   "execution_count": 1,
   "metadata": {
    "executionInfo": {
     "elapsed": 3,
     "status": "ok",
     "timestamp": 1667868739487,
     "user": {
      "displayName": "Rohan Kaushik",
      "userId": "13918477614376051685"
     },
     "user_tz": -60
    },
    "id": "4xhxMpe_r-Y5"
   },
   "outputs": [],
   "source": [
    "# enabling 3rd party widgets\n",
    "# from google.colab import output\n",
    "# output.enable_custom_widget_manager()\n",
    "# output.disable_custom_widget_manager()\n",
    "\n",
    "# interactive 3D plot\n",
    "# !pip install ipympl\n",
    "# %matplotlib widget"
   ]
  },
  {
   "cell_type": "code",
   "execution_count": 2,
   "metadata": {
    "executionInfo": {
     "elapsed": 3563,
     "status": "ok",
     "timestamp": 1667868743047,
     "user": {
      "displayName": "Rohan Kaushik",
      "userId": "13918477614376051685"
     },
     "user_tz": -60
    },
    "id": "a5qPupCDsjSz"
   },
   "outputs": [],
   "source": [
    "import os\n",
    "import sys\n",
    "import math\n",
    "from collections import OrderedDict\n",
    "import numpy as np\n",
    "import matplotlib.pyplot as plt\n",
    "from scipy import linalg\n",
    "\n",
    "import time as time\n",
    "import platform as platform\n",
    "\n",
    "import tensorflow as tf\n",
    "from tensorflow.keras import layers, losses\n",
    "from tensorflow.keras.models import Model\n",
    "from tensorflow.keras import backend as K\n",
    "from tensorflow.keras.regularizers import L2\n",
    "import h5py\n",
    "\n",
    "from skopt import gp_minimize\n",
    "from skopt.space import Integer, Real\n",
    "\n",
    "tf.keras.backend.set_floatx('float32')\n",
    "\n",
    "plt.rcParams.update({\n",
    "    \"text.usetex\":True,\n",
    "    \"font.family\":\"serif\"\n",
    "})"
   ]
  },
  {
   "cell_type": "code",
   "execution_count": 3,
   "metadata": {
    "colab": {
     "base_uri": "https://localhost:8080/"
    },
    "executionInfo": {
     "elapsed": 10,
     "status": "ok",
     "timestamp": 1667868743048,
     "user": {
      "displayName": "Rohan Kaushik",
      "userId": "13918477614376051685"
     },
     "user_tz": -60
    },
    "id": "h_qXhHdbCgoj",
    "outputId": "3473a883-d145-4778-9be7-7d44e0c6ea67"
   },
   "outputs": [],
   "source": [
    "colab_flag = False\n",
    "FTYPE = np.float32\n",
    "ITYPE = np.int32\n",
    "\n",
    "array = np.array\n",
    "float32 = np.float32\n",
    "int32 = np.int32\n",
    "float64 = np.float64\n",
    "int64 = np.int64\n",
    "\n",
    "strategy = None\n",
    "# strategy = tf.distribute.MirroredStrategy()"
   ]
  },
  {
   "cell_type": "code",
   "execution_count": 4,
   "metadata": {
    "executionInfo": {
     "elapsed": 7,
     "status": "ok",
     "timestamp": 1667868743048,
     "user": {
      "displayName": "Rohan Kaushik",
      "userId": "13918477614376051685"
     },
     "user_tz": -60
    },
    "id": "BiLIUmBPneQR"
   },
   "outputs": [],
   "source": [
    "current_sys = platform.system()\n",
    "\n",
    "if current_sys == 'Windows':\n",
    "    dir_sep = '\\\\'\n",
    "else:\n",
    "    dir_sep = '/'"
   ]
  },
  {
   "cell_type": "code",
   "execution_count": 5,
   "metadata": {
    "colab": {
     "base_uri": "https://localhost:8080/"
    },
    "executionInfo": {
     "elapsed": 18870,
     "status": "ok",
     "timestamp": 1667868761912,
     "user": {
      "displayName": "Rohan Kaushik",
      "userId": "13918477614376051685"
     },
     "user_tz": -60
    },
    "id": "fnTV6Anhni6O",
    "outputId": "bf1d11f8-667f-4cb5-d8d5-b9d860b44d99"
   },
   "outputs": [],
   "source": [
    "if colab_flag == True:\n",
    "    from google.colab import drive\n",
    "    drive.mount('/content/drive')\n",
    "    os.chdir('/content/drive/MyDrive/Github/MLROM/KS/')"
   ]
  },
  {
   "cell_type": "code",
   "execution_count": 6,
   "metadata": {
    "colab": {
     "base_uri": "https://localhost:8080/"
    },
    "executionInfo": {
     "elapsed": 6,
     "status": "ok",
     "timestamp": 1667868761912,
     "user": {
      "displayName": "Rohan Kaushik",
      "userId": "13918477614376051685"
     },
     "user_tz": -60
    },
    "id": "paDfPOrjnkAS",
    "outputId": "58054510-4476-49b4-f8ba-e2978a028b36"
   },
   "outputs": [
    {
     "name": "stdout",
     "output_type": "stream",
     "text": [
      "/home/rkaushik/Documents/Thesis/MLROM/new_lorenz\n"
     ]
    }
   ],
   "source": [
    "print(os.getcwd())"
   ]
  },
  {
   "cell_type": "code",
   "execution_count": 7,
   "metadata": {
    "executionInfo": {
     "elapsed": 4575,
     "status": "ok",
     "timestamp": 1667868766483,
     "user": {
      "displayName": "Rohan Kaushik",
      "userId": "13918477614376051685"
     },
     "user_tz": -60
    },
    "id": "P6K2YWlR6ZPD"
   },
   "outputs": [],
   "source": [
    "from tools.misc_tools import create_data_for_RNN, mytimecallback, SaveLosses, plot_losses, return_hilbert_x0, plot_histogram_and_save\n",
    "\n",
    "from tools.ae_v2 import Autoencoder\n",
    "\n",
    "from tools.ESN_v1 import ESN as RNN_SingleStep\n",
    "from tools.ESN_v1_ensembleAR import ESN_ensemble as AR_RNN\n",
    "from tools.AEESN_AR_v1 import AR_AERNN_ESN as AR_AERNN\n",
    "\n",
    "from tools.hyper_param_ESN import trainESN_and_return_PH"
   ]
  },
  {
   "cell_type": "code",
   "execution_count": null,
   "metadata": {},
   "outputs": [],
   "source": []
  },
  {
   "cell_type": "code",
   "execution_count": 8,
   "metadata": {
    "executionInfo": {
     "elapsed": 9,
     "status": "ok",
     "timestamp": 1667868766483,
     "user": {
      "displayName": "Rohan Kaushik",
      "userId": "13918477614376051685"
     },
     "user_tz": -60
    },
    "id": "_xtkwXE2tGTP"
   },
   "outputs": [],
   "source": [
    "behaviour = 'initialiseAndTrainFromScratch'\n",
    "# behaviour = 'loadCheckpointAndContinueTraining'\n",
    "# behaviour = 'loadFinalNetAndPlot'"
   ]
  },
  {
   "cell_type": "code",
   "execution_count": 9,
   "metadata": {
    "executionInfo": {
     "elapsed": 9,
     "status": "ok",
     "timestamp": 1667868766484,
     "user": {
      "displayName": "Rohan Kaushik",
      "userId": "13918477614376051685"
     },
     "user_tz": -60
    },
    "id": "8S1AHEkl48bn"
   },
   "outputs": [],
   "source": [
    "# setting seed for PRNGs\n",
    "if behaviour == 'initialiseAndTrainFromScratch':\n",
    "    prng_seed = 42\n",
    "    np.random.seed(prng_seed)\n",
    "    tf.random.set_seed(prng_seed)"
   ]
  },
  {
   "cell_type": "code",
   "execution_count": 10,
   "metadata": {
    "colab": {
     "base_uri": "https://localhost:8080/"
    },
    "executionInfo": {
     "elapsed": 9,
     "status": "ok",
     "timestamp": 1667868766484,
     "user": {
      "displayName": "Rohan Kaushik",
      "userId": "13918477614376051685"
     },
     "user_tz": -60
    },
    "id": "qvA9oeCHCTVM",
    "outputId": "0f2de849-59ee-4ed9-b65d-c5952e0dcb55"
   },
   "outputs": [
    {
     "name": "stdout",
     "output_type": "stream",
     "text": [
      "[PhysicalDevice(name='/physical_device:GPU:0', device_type='GPU')]\n",
      "[LogicalDevice(name='/device:GPU:0', device_type='GPU')]\n"
     ]
    },
    {
     "name": "stderr",
     "output_type": "stream",
     "text": [
      "2023-07-17 17:48:59.391970: I tensorflow/stream_executor/cuda/cuda_gpu_executor.cc:936] successful NUMA node read from SysFS had negative value (-1), but there must be at least one NUMA node, so returning NUMA node zero\n",
      "2023-07-17 17:48:59.425338: I tensorflow/stream_executor/cuda/cuda_gpu_executor.cc:936] successful NUMA node read from SysFS had negative value (-1), but there must be at least one NUMA node, so returning NUMA node zero\n",
      "2023-07-17 17:48:59.425557: I tensorflow/stream_executor/cuda/cuda_gpu_executor.cc:936] successful NUMA node read from SysFS had negative value (-1), but there must be at least one NUMA node, so returning NUMA node zero\n",
      "2023-07-17 17:48:59.426399: I tensorflow/core/platform/cpu_feature_guard.cc:151] This TensorFlow binary is optimized with oneAPI Deep Neural Network Library (oneDNN) to use the following CPU instructions in performance-critical operations:  SSE4.1 SSE4.2 AVX AVX2 FMA\n",
      "To enable them in other operations, rebuild TensorFlow with the appropriate compiler flags.\n",
      "2023-07-17 17:48:59.426912: I tensorflow/stream_executor/cuda/cuda_gpu_executor.cc:936] successful NUMA node read from SysFS had negative value (-1), but there must be at least one NUMA node, so returning NUMA node zero\n",
      "2023-07-17 17:48:59.427086: I tensorflow/stream_executor/cuda/cuda_gpu_executor.cc:936] successful NUMA node read from SysFS had negative value (-1), but there must be at least one NUMA node, so returning NUMA node zero\n",
      "2023-07-17 17:48:59.427259: I tensorflow/stream_executor/cuda/cuda_gpu_executor.cc:936] successful NUMA node read from SysFS had negative value (-1), but there must be at least one NUMA node, so returning NUMA node zero\n",
      "2023-07-17 17:48:59.876066: I tensorflow/stream_executor/cuda/cuda_gpu_executor.cc:936] successful NUMA node read from SysFS had negative value (-1), but there must be at least one NUMA node, so returning NUMA node zero\n",
      "2023-07-17 17:48:59.876327: I tensorflow/stream_executor/cuda/cuda_gpu_executor.cc:936] successful NUMA node read from SysFS had negative value (-1), but there must be at least one NUMA node, so returning NUMA node zero\n",
      "2023-07-17 17:48:59.876547: I tensorflow/stream_executor/cuda/cuda_gpu_executor.cc:936] successful NUMA node read from SysFS had negative value (-1), but there must be at least one NUMA node, so returning NUMA node zero\n",
      "2023-07-17 17:48:59.876672: I tensorflow/core/common_runtime/gpu/gpu_device.cc:1525] Created device /job:localhost/replica:0/task:0/device:GPU:0 with 23656 MB memory:  -> device: 0, name: Tesla P40, pci bus id: 0000:03:00.0, compute capability: 6.1\n"
     ]
    }
   ],
   "source": [
    "gpus = tf.config.list_physical_devices('GPU')\n",
    "print(gpus)\n",
    "\n",
    "if colab_flag == False:\n",
    "    if strategy is None:\n",
    "        if gpus:\n",
    "            gpu_to_use = 0\n",
    "            tf.config.set_visible_devices(gpus[gpu_to_use], 'GPU')\n",
    "            # tf.config.set_visible_devices([], 'GPU')\n",
    "    logical_devices = tf.config.list_logical_devices('GPU')\n",
    "    print(logical_devices)"
   ]
  },
  {
   "cell_type": "code",
   "execution_count": 11,
   "metadata": {
    "colab": {
     "base_uri": "https://localhost:8080/"
    },
    "executionInfo": {
     "elapsed": 8,
     "status": "ok",
     "timestamp": 1667868766484,
     "user": {
      "displayName": "Rohan Kaushik",
      "userId": "13918477614376051685"
     },
     "user_tz": -60
    },
    "id": "tc3zO9xL_tNl",
    "outputId": "c9786b4c-8510-47d0-801d-181e3b12239c"
   },
   "outputs": [
    {
     "name": "stdout",
     "output_type": "stream",
     "text": [
      "[PhysicalDevice(name='/physical_device:CPU:0', device_type='CPU'), PhysicalDevice(name='/physical_device:GPU:0', device_type='GPU')]\n",
      "[LogicalDevice(name='/device:CPU:0', device_type='CPU'), LogicalDevice(name='/device:GPU:0', device_type='GPU')]\n",
      "2.8.1\n"
     ]
    }
   ],
   "source": [
    "# print(tf.test.gpu_device_name())\n",
    "print(tf.config.list_physical_devices())\n",
    "print(tf.config.list_logical_devices())\n",
    "print(tf.__version__)"
   ]
  },
  {
   "cell_type": "markdown",
   "metadata": {
    "id": "7UbdnOtc4_z9"
   },
   "source": [
    "# KS System"
   ]
  },
  {
   "cell_type": "code",
   "execution_count": 12,
   "metadata": {
    "executionInfo": {
     "elapsed": 6,
     "status": "ok",
     "timestamp": 1667868766485,
     "user": {
      "displayName": "Rohan Kaushik",
      "userId": "13918477614376051685"
     },
     "user_tz": -60
    },
    "id": "8aNkoXfyGq52"
   },
   "outputs": [],
   "source": [
    "# setting up params (and saving, if applicable)\n",
    "from numpy import *\n",
    "\n",
    "# making RNN save directory\n",
    "dir_name_rnn = os.getcwd() + dir_sep + 'ESN_params_Search'\n",
    "dir_name_rnn += dir_sep + 'params_search_002'\n",
    "\n",
    "with open(dir_name_rnn + '/optim_params.txt', 'r') as f:\n",
    "    lines = f.readlines()\n",
    "optimparams_dict = eval(''.join(lines))\n",
    "\n",
    "# for key in optimparams_dict.keys():\n",
    "#     print(key + ' = optimparams_dict[\"{}\"]'.format(key))\n",
    "\n",
    "# print('')\n",
    "# for key in optimparams_dict.keys():\n",
    "#     print('optimparams_dict[\"{}\"] : {}'.format(key, optimparams_dict[key]))\n",
    "    \n",
    "fRMS_bounds = optimparams_dict[\"fRMS_bounds\"]\n",
    "lambda_reg_bounds = optimparams_dict[\"lambda_reg_bounds\"]\n",
    "rho_res_bounds = optimparams_dict[\"rho_res_bounds\"]\n",
    "omega_in_bounds = optimparams_dict[\"omega_in_bounds\"]\n",
    "alpha_bounds = optimparams_dict[\"alpha_bounds\"]\n",
    "n_calls = optimparams_dict[\"n_calls\"]\n",
    "acq_func = optimparams_dict[\"acq_func\"]\n",
    "n_initial_points = optimparams_dict[\"n_initial_points\"]\n",
    "random_state = optimparams_dict[\"random_state\"]\n",
    "vary_deg_connect = optimparams_dict[\"vary_deg_connect\"]\n",
    "if vary_deg_connect == True:\n",
    "    deg_of_connectivity_bounds = optimparams_dict['deg_of_connectivity_bounds']\n",
    "\n",
    "n_pregp = 50"
   ]
  },
  {
   "cell_type": "code",
   "execution_count": 13,
   "metadata": {},
   "outputs": [
    {
     "name": "stdout",
     "output_type": "stream",
     "text": [
      "params_mat = simdataae_dict[\"params_mat\"]\n",
      "init_state_mat = simdataae_dict[\"init_state_mat\"]\n",
      "t0 = simdataae_dict[\"t0\"]\n",
      "T = simdataae_dict[\"T\"]\n",
      "delta_t = simdataae_dict[\"delta_t\"]\n",
      "return_params_arr = simdataae_dict[\"return_params_arr\"]\n",
      "dir_name_ae = simdataae_dict[\"dir_name_ae\"]\n",
      "normalize_dataset = simdataae_dict[\"normalize_dataset\"]\n",
      "stddev_multiplier = simdataae_dict[\"stddev_multiplier\"]\n",
      "use_ae_data = simdataae_dict[\"use_ae_data\"]\n",
      "vary_deg_connect = simdataae_dict[\"vary_deg_connect\"]\n"
     ]
    }
   ],
   "source": [
    "dname_single_rnn = dir_name_rnn + '/tested_ESN/test_ESN_000'\n",
    "\n",
    "with open(dname_single_rnn+'/sim_data_AE_params.txt', 'r') as f:\n",
    "    lines = f.readlines()\n",
    "rnnfnc_dict = eval(''.join(lines))\n",
    "\n",
    "for key in rnnfnc_dict.keys():\n",
    "    print(key + ' = simdataae_dict[\"{}\"]'.format(key))"
   ]
  },
  {
   "cell_type": "code",
   "execution_count": 14,
   "metadata": {
    "colab": {
     "base_uri": "https://localhost:8080/"
    },
    "executionInfo": {
     "elapsed": 5768,
     "status": "ok",
     "timestamp": 1667868772247,
     "user": {
      "displayName": "Rohan Kaushik",
      "userId": "13918477614376051685"
     },
     "user_tz": -60
    },
    "id": "O7sl7i5H5Dqz",
    "outputId": "419ef0e0-4d58-454e-d0af-17af3b846b85"
   },
   "outputs": [],
   "source": [
    "dname_single_rnn = dir_name_rnn + '/tested_ESN/test_ESN_000'\n",
    "\n",
    "with open(dname_single_rnn+'/sim_data_AE_params.txt', 'r') as f:\n",
    "    lines = f.readlines()\n",
    "simdataae_dict = eval(''.join(lines))\n",
    "\n",
    "params_mat = simdataae_dict[\"params_mat\"]\n",
    "init_state_mat = simdataae_dict[\"init_state_mat\"]\n",
    "t0 = simdataae_dict[\"t0\"]\n",
    "T = simdataae_dict[\"T\"]\n",
    "delta_t = simdataae_dict[\"delta_t\"]\n",
    "return_params_arr = simdataae_dict[\"return_params_arr\"]\n",
    "dir_name_ae = simdataae_dict[\"dir_name_ae\"]\n",
    "normalize_dataset = simdataae_dict[\"normalize_dataset\"]\n",
    "stddev_multiplier = simdataae_dict[\"stddev_multiplier\"]\n",
    "use_ae_data = simdataae_dict[\"use_ae_data\"]\n",
    "vary_deg_connect = simdataae_dict[\"vary_deg_connect\"]\n",
    "\n",
    "with open(dname_single_rnn+'/training_specific_params.txt', 'r') as f:\n",
    "    lines = f.readlines()\n",
    "rnntrainspec_dict = eval(''.join(lines))\n",
    "\n",
    "epochs = rnntrainspec_dict[\"epochs\"]\n",
    "prng_seed = rnntrainspec_dict[\"prng_seed\"]\n",
    "train_split = rnntrainspec_dict[\"train_split\"]\n",
    "val_split = rnntrainspec_dict[\"val_split\"]\n",
    "batch_size = rnntrainspec_dict[\"batch_size\"]\n",
    "timeMeanofSpaceRMS = rnntrainspec_dict[\"timeMeanofSpaceRMS\"]\n",
    "min_delta = rnntrainspec_dict[\"min_delta\"]\n",
    "patience = rnntrainspec_dict[\"patience\"]\n",
    "use_best = rnntrainspec_dict[\"use_best\"]\n",
    "degree_of_connectivity_x0 = rnntrainspec_dict[\"degree_of_connectivity_x0\"]\n",
    "fRMS = rnntrainspec_dict[\"fRMS\"]\n",
    "lambda_reg = rnntrainspec_dict[\"lambda_reg\"]\n",
    "stddev = rnntrainspec_dict[\"stddev\"]\n",
    "\n",
    "test_split = 1. - train_split - val_split\n",
    "\n",
    "with open(dname_single_rnn+'/RNN_specific_data.txt', 'r') as f:\n",
    "    lines = f.readlines()\n",
    "rnnspec_dict = eval(''.join(lines))\n",
    "\n",
    "dt_rnn = rnnspec_dict[\"dt_rnn\"]\n",
    "T_sample_input = rnnspec_dict[\"T_sample_input\"]\n",
    "T_sample_output = rnnspec_dict[\"T_sample_output\"]\n",
    "T_offset = rnnspec_dict[\"T_offset\"]\n",
    "boundary_idx_arr = rnnspec_dict[\"boundary_idx_arr\"]\n",
    "delta_t = rnnspec_dict[\"delta_t\"]\n",
    "params = rnnspec_dict[\"params\"]\n",
    "return_params_arr = rnnspec_dict[\"return_params_arr\"]\n",
    "normalize_dataset = rnnspec_dict[\"normalize_dataset\"]\n",
    "num_input_tsteps = rnnspec_dict[\"num_input_tsteps\"]\n",
    "stddev_multiplier = rnnspec_dict[\"stddev_multiplier\"]\n",
    "skip_intermediate = rnnspec_dict[\"skip_intermediate\"]\n",
    "module = rnnspec_dict[\"module\"]\n",
    "noise_type = rnnspec_dict[\"noise_type\"]\n",
    "normalization_type = rnnspec_dict[\"normalization_type\"]\n",
    "\n",
    "\n",
    "\n",
    "with open(dname_single_rnn+'/final_net/0_final_net_class_dict.txt', 'r') as f:\n",
    "    lines = f.readlines()\n",
    "rnnfnc_dict = eval(''.join(lines))\n",
    "\n",
    "data_dim = rnnfnc_dict[\"data_dim\"]\n",
    "dt_rnn = rnnfnc_dict[\"dt_rnn\"]\n",
    "lambda_reg = rnnfnc_dict[\"lambda_reg\"]\n",
    "ESN_layers_units = rnnfnc_dict[\"ESN_layers_units\"]\n",
    "mean = rnnfnc_dict[\"mean\"]\n",
    "stddev = rnnfnc_dict[\"stddev\"]\n",
    "noise_type = rnnfnc_dict[\"noise_type\"]\n",
    "stateful = rnnfnc_dict[\"stateful\"]\n",
    "omega_in = rnnfnc_dict[\"omega_in\"]\n",
    "sparsity = rnnfnc_dict[\"sparsity\"]\n",
    "rho_res = rnnfnc_dict[\"rho_res\"]\n",
    "usebias_Win = rnnfnc_dict[\"usebias_Win\"]\n",
    "prng_seed = rnnfnc_dict[\"prng_seed\"]\n",
    "alpha = rnnfnc_dict[\"alpha\"]\n",
    "ESN_cell_activations = rnnfnc_dict[\"ESN_cell_activations\"]\n",
    "usebias_Wout = rnnfnc_dict[\"usebias_Wout\"]\n",
    "activation_post_Wout = rnnfnc_dict[\"activation_post_Wout\"]\n",
    "use_weights_post_dense = rnnfnc_dict[\"use_weights_post_dense\"]\n",
    "scalar_weights = rnnfnc_dict[\"scalar_weights\"]"
   ]
  },
  {
   "cell_type": "code",
   "execution_count": 15,
   "metadata": {},
   "outputs": [
    {
     "name": "stdout",
     "output_type": "stream",
     "text": [
      "dir_name_rnn: /home/rkaushik/Documents/Thesis/MLROM/new_lorenz/ESN_params_Search/params_search_002\n",
      "use_ae_data : True, dir_name_ae: /home/rkaushik/Documents/Thesis/MLROM/new_lorenz/saved_ae/ae_024\n",
      "data_dir_idx: 010\n",
      "normalize_flag_ogdata: False\n"
     ]
    }
   ],
   "source": [
    "# reading simulation parameters\n",
    "with open(dir_name_ae + dir_sep + 'ae_data.txt') as f:\n",
    "    lines = f.readlines()\n",
    "params_dict = eval(''.join(lines))\n",
    "data_dir_idx = params_dict['data_dir_idx']\n",
    "normalizeforae_flag = params_dict['normalizeforae_flag']\n",
    "normalization_constant_arr_aedata = params_dict['normalization_constant_arr_aedata']\n",
    "try:\n",
    "    ae_data_with_params = params_dict['ae_data_with_params']\n",
    "except:\n",
    "    print(\"'ae_data_with_params' not present in ae_data, set to 'True'.\")\n",
    "    ae_data_with_params = True\n",
    "\n",
    "if os.path.exists(dir_name_ae+dir_sep+'normalization_data.npz'):\n",
    "    with np.load(dir_name_ae+dir_sep+'normalization_data.npz', allow_pickle=True) as fl:\n",
    "        normalization_constant_arr_aedata = fl['normalization_constant_arr_aedata'][0]\n",
    "\n",
    "print('dir_name_rnn:', dir_name_rnn)\n",
    "print('use_ae_data : ' + str(use_ae_data) + ', dir_name_ae:', dir_name_ae)\n",
    "print('data_dir_idx:', data_dir_idx)\n",
    "\n",
    "# loading data\n",
    "dir_name_data = os.getcwd() + dir_sep + 'saved_data' + dir_sep + 'data_' + data_dir_idx\n",
    "    \n",
    "with open(dir_name_data + dir_sep + 'sim_data_params.txt') as f:\n",
    "    lines = f.readlines()\n",
    "params_dict = eval(''.join(lines))\n",
    "params_mat = params_dict['params_mat']\n",
    "# init_state = params_dict['init_state']\n",
    "t0 = params_dict['t0']\n",
    "T = params_dict['T']\n",
    "delta_t = params_dict['delta_t']\n",
    "return_params_arr = params_dict['return_params_arr']\n",
    "normalize_flag_ogdata = params_dict['normalize_flag']\n",
    "print('normalize_flag_ogdata:', normalize_flag_ogdata)\n",
    "alldata_withparams_flag = params_dict['alldata_withparams_flag']\n",
    "\n",
    "with np.load(dir_name_data+dir_sep+'data.npz', allow_pickle=True) as fl:\n",
    "    all_data = fl['all_data'].astype(FTYPE)\n",
    "    boundary_idx_arr = fl['boundary_idx_arr']\n",
    "    normalization_constant_arr_ogdata = fl['normalization_constant_arr'][0]\n",
    "    initial_t0 = fl['initial_t0']\n",
    "    init_state_mat = fl['init_state_mat']\n",
    "\n",
    "    lyapunov_spectrum_mat = fl['lyapunov_spectrum_mat']"
   ]
  },
  {
   "cell_type": "code",
   "execution_count": 16,
   "metadata": {
    "colab": {
     "base_uri": "https://localhost:8080/"
    },
    "executionInfo": {
     "elapsed": 541,
     "status": "ok",
     "timestamp": 1667868772777,
     "user": {
      "displayName": "Rohan Kaushik",
      "userId": "13918477614376051685"
     },
     "user_tz": -60
    },
    "id": "ySVDz_2U5FH5",
    "outputId": "c57be82f-527d-4e83-a605-aac85c39088e"
   },
   "outputs": [
    {
     "name": "stdout",
     "output_type": "stream",
     "text": [
      "Case : 1, lyapunov exponent : 0.9058021372262592, lyapunov time : 1.1039938926696777s\n"
     ]
    }
   ],
   "source": [
    "lyapunov_time_arr = np.empty(shape=lyapunov_spectrum_mat.shape[0], dtype=FTYPE)\n",
    "for i in range(lyapunov_spectrum_mat.shape[0]):\n",
    "    lyapunov_time_arr[i] = 1/lyapunov_spectrum_mat[i, 0]\n",
    "    print('Case : {}, lyapunov exponent : {}, lyapunov time : {}s'.format(i+1, lyapunov_spectrum_mat[i, 0], lyapunov_time_arr[i]))"
   ]
  },
  {
   "cell_type": "code",
   "execution_count": 17,
   "metadata": {
    "executionInfo": {
     "elapsed": 3,
     "status": "ok",
     "timestamp": 1667868772778,
     "user": {
      "displayName": "Rohan Kaushik",
      "userId": "13918477614376051685"
     },
     "user_tz": -60
    },
    "id": "bkQx9q_p5Gro"
   },
   "outputs": [
    {
     "name": "stdout",
     "output_type": "stream",
     "text": [
      "[0]\n"
     ]
    }
   ],
   "source": [
    "positve_lp_idx = np.where(lyapunov_time_arr > 0)[0]\n",
    "print(positve_lp_idx)"
   ]
  },
  {
   "cell_type": "code",
   "execution_count": 18,
   "metadata": {
    "colab": {
     "base_uri": "https://localhost:8080/",
     "height": 370
    },
    "executionInfo": {
     "elapsed": 1487,
     "status": "ok",
     "timestamp": 1667868774262,
     "user": {
      "displayName": "Rohan Kaushik",
      "userId": "13918477614376051685"
     },
     "user_tz": -60
    },
    "id": "uDhfYHU45IS8",
    "outputId": "5307dc6a-17c5-4c77-dac5-fcb96116ac44"
   },
   "outputs": [
    {
     "name": "stdout",
     "output_type": "stream",
     "text": [
      "[      0 4200001]\n"
     ]
    }
   ],
   "source": [
    "last_idx = all_data.shape[0]\n",
    "temp_bia = np.zeros(shape=1+boundary_idx_arr.shape[0], dtype=np.int32)\n",
    "temp_bia[1:] = boundary_idx_arr\n",
    "print(temp_bia)\n",
    "for i in range(boundary_idx_arr.shape[0]-1, -1, -1):\n",
    "    if not (i in positve_lp_idx):\n",
    "        print(i)\n",
    "        num_idxs = last_idx - temp_bia[i+1]\n",
    "        all_data[temp_bia[i]:temp_bia[i]+num_idxs] = all_data[temp_bia[i+1]:last_idx]\n",
    "        last_idx = last_idx - (temp_bia[i+1]-temp_bia[i])"
   ]
  },
  {
   "cell_type": "code",
   "execution_count": 19,
   "metadata": {},
   "outputs": [],
   "source": [
    "new_bia = np.empty_like(boundary_idx_arr)\n",
    "new_bia[:] = boundary_idx_arr\n",
    "new_pmat = np.empty_like(params_mat)\n",
    "new_pmat[:, :] = params_mat\n",
    "counter = 0\n",
    "bia_counter = boundary_idx_arr.shape[0]\n",
    "for i in range(boundary_idx_arr.shape[0]):\n",
    "    if not (i in positve_lp_idx):\n",
    "        new_bia[i:] -= temp_bia[i+1] - temp_bia[i]\n",
    "        new_bia[i:bia_counter-1] = new_bia[i+1:bia_counter]\n",
    "        new_pmat[i:bia_counter-1] = new_pmat[i+1:bia_counter]\n",
    "        bia_counter -= 1"
   ]
  },
  {
   "cell_type": "code",
   "execution_count": 20,
   "metadata": {},
   "outputs": [],
   "source": [
    "new_bia = new_bia[0:bia_counter]\n",
    "new_pmat = new_pmat[0:bia_counter]"
   ]
  },
  {
   "cell_type": "code",
   "execution_count": 21,
   "metadata": {},
   "outputs": [],
   "source": [
    "all_data = all_data[0:new_bia[-1]]"
   ]
  },
  {
   "cell_type": "code",
   "execution_count": 22,
   "metadata": {},
   "outputs": [],
   "source": [
    "new_bia, boundary_idx_arr = boundary_idx_arr, new_bia\n",
    "new_pmat, params_mat = params_mat, new_pmat"
   ]
  },
  {
   "cell_type": "code",
   "execution_count": 23,
   "metadata": {
    "executionInfo": {
     "elapsed": 6,
     "status": "ok",
     "timestamp": 1667868774263,
     "user": {
      "displayName": "Rohan Kaushik",
      "userId": "13918477614376051685"
     },
     "user_tz": -60
    },
    "id": "-MJa7P5t5KiC",
    "scrolled": true
   },
   "outputs": [],
   "source": [
    "# delaing with normalizing the data before feeding into autoencoder\n",
    "num_params = params_mat.shape[1]\n",
    "og_vars = all_data.shape[1]\n",
    "if alldata_withparams_flag == True:\n",
    "    og_vars -= num_params\n",
    "\n",
    "time_stddev_ogdata = np.std(all_data[:, 0:og_vars], axis=0)\n",
    "time_mean_ogdata = np.mean(all_data[:, 0:og_vars], axis=0)\n",
    "    \n",
    "if use_ae_data == True:\n",
    "    if ae_data_with_params == True and alldata_withparams_flag == False:\n",
    "        new_all_data = np.empty(shape=(all_data.shape[0], og_vars+num_params), dtype=FTYPE)\n",
    "        new_all_data[:, 0:og_vars] = all_data[:, 0:og_vars]\n",
    "        del(all_data)\n",
    "        all_data = new_all_data\n",
    "        prev_idx = 0\n",
    "        for i in range(boundary_idx_arr.shape[0]):\n",
    "            all_data[prev_idx:boundary_idx_arr[i], num_params:] = params_mat[i]\n",
    "            prev_idx = boundary_idx_arr[i]\n",
    "\n",
    "    if normalizeforae_flag == True:\n",
    "        for i in range(all_data.shape[1]):\n",
    "            all_data[:, i] -= normalization_constant_arr_aedata[0, i]\n",
    "            all_data[:, i] /= normalization_constant_arr_aedata[1, i]\n",
    "\n",
    "    if ae_data_with_params == False:\n",
    "        all_data = all_data[:, 0:og_vars]\n",
    "else:\n",
    "    # using raw data, neglecting the params attached (if any)\n",
    "    all_data = all_data[:, 0:og_vars]"
   ]
  },
  {
   "cell_type": "code",
   "execution_count": null,
   "metadata": {
    "colab": {
     "base_uri": "https://localhost:8080/",
     "height": 370
    },
    "executionInfo": {
     "elapsed": 932,
     "status": "ok",
     "timestamp": 1667868775190,
     "user": {
      "displayName": "Rohan Kaushik",
      "userId": "13918477614376051685"
     },
     "user_tz": -60
    },
    "id": "sMENXULAGFPm",
    "outputId": "dbf2c14d-2e8a-42c9-b6c5-f5f7c7a6092f"
   },
   "outputs": [],
   "source": []
  },
  {
   "cell_type": "markdown",
   "metadata": {
    "id": "1v6KQEjR5LkK"
   },
   "source": [
    "# Autoencoder"
   ]
  },
  {
   "cell_type": "code",
   "execution_count": 24,
   "metadata": {
    "executionInfo": {
     "elapsed": 4,
     "status": "ok",
     "timestamp": 1667868775191,
     "user": {
      "displayName": "Rohan Kaushik",
      "userId": "13918477614376051685"
     },
     "user_tz": -60
    },
    "id": "ZBTJl9PeneQb"
   },
   "outputs": [],
   "source": [
    "if use_ae_data == True:\n",
    "    load_file = dir_name_ae+dir_sep+'final_net'+dir_sep+'final_net_class_dict.txt'\n",
    "    wt_file = dir_name_ae+dir_sep+'final_net'+dir_sep+'final_net_ae_weights.h5'"
   ]
  },
  {
   "cell_type": "code",
   "execution_count": 25,
   "metadata": {
    "executionInfo": {
     "elapsed": 1365,
     "status": "ok",
     "timestamp": 1667868776552,
     "user": {
      "displayName": "Rohan Kaushik",
      "userId": "13918477614376051685"
     },
     "user_tz": -60
    },
    "id": "a3Pq-qorneQb"
   },
   "outputs": [],
   "source": [
    "if use_ae_data == True:\n",
    "    ae_net = Autoencoder(all_data.shape[1], load_file=load_file)\n",
    "    ae_net.load_weights_from_file(wt_file)"
   ]
  },
  {
   "cell_type": "code",
   "execution_count": null,
   "metadata": {
    "executionInfo": {
     "elapsed": 5,
     "status": "ok",
     "timestamp": 1667868776553,
     "user": {
      "displayName": "Rohan Kaushik",
      "userId": "13918477614376051685"
     },
     "user_tz": -60
    },
    "id": "wwt4brHcOaXi"
   },
   "outputs": [],
   "source": []
  },
  {
   "cell_type": "code",
   "execution_count": null,
   "metadata": {
    "executionInfo": {
     "elapsed": 4,
     "status": "ok",
     "timestamp": 1667868776553,
     "user": {
      "displayName": "Rohan Kaushik",
      "userId": "13918477614376051685"
     },
     "user_tz": -60
    },
    "id": "Zl6ZvgtNtA_u",
    "scrolled": true
   },
   "outputs": [],
   "source": []
  },
  {
   "cell_type": "code",
   "execution_count": null,
   "metadata": {
    "executionInfo": {
     "elapsed": 5,
     "status": "ok",
     "timestamp": 1667868776554,
     "user": {
      "displayName": "Rohan Kaushik",
      "userId": "13918477614376051685"
     },
     "user_tz": -60
    },
    "id": "lXpoaKRIneQc"
   },
   "outputs": [],
   "source": []
  },
  {
   "cell_type": "code",
   "execution_count": 26,
   "metadata": {
    "colab": {
     "base_uri": "https://localhost:8080/"
    },
    "executionInfo": {
     "elapsed": 960,
     "status": "ok",
     "timestamp": 1667868777509,
     "user": {
      "displayName": "Rohan Kaushik",
      "userId": "13918477614376051685"
     },
     "user_tz": -60
    },
    "id": "Q3a8HHyvneQc",
    "outputId": "51084913-6faf-4bb5-db69-2cbea705dd28"
   },
   "outputs": [],
   "source": [
    "# create data\n",
    "if use_ae_data == True:\n",
    "    latent_states_all = np.array(ae_net.encoder_net.predict(all_data), dtype=FTYPE)\n",
    "    # del(all_data)\n",
    "else:\n",
    "    latent_states_all = all_data\n",
    "num_latent_states = latent_states_all.shape[1]"
   ]
  },
  {
   "cell_type": "code",
   "execution_count": 27,
   "metadata": {
    "colab": {
     "base_uri": "https://localhost:8080/",
     "height": 384
    },
    "executionInfo": {
     "elapsed": 797,
     "status": "ok",
     "timestamp": 1667868778304,
     "user": {
      "displayName": "Rohan Kaushik",
      "userId": "13918477614376051685"
     },
     "user_tz": -60
    },
    "id": "wjgPNitSrt5p",
    "outputId": "0c916524-33ec-47bf-a16a-51e53d2e25f6"
   },
   "outputs": [
    {
     "name": "stdout",
     "output_type": "stream",
     "text": [
      "(4200001, 2)\n"
     ]
    }
   ],
   "source": [
    "print(latent_states_all.shape)"
   ]
  },
  {
   "cell_type": "code",
   "execution_count": 28,
   "metadata": {
    "executionInfo": {
     "elapsed": 6,
     "status": "ok",
     "timestamp": 1667868778305,
     "user": {
      "displayName": "Rohan Kaushik",
      "userId": "13918477614376051685"
     },
     "user_tz": -60
    },
    "id": "wnLnqg0Jrt5t"
   },
   "outputs": [
    {
     "name": "stdout",
     "output_type": "stream",
     "text": [
      "(4200001, 3)\n"
     ]
    }
   ],
   "source": [
    "print(all_data.shape)"
   ]
  },
  {
   "cell_type": "code",
   "execution_count": null,
   "metadata": {
    "executionInfo": {
     "elapsed": 488,
     "status": "ok",
     "timestamp": 1667868778788,
     "user": {
      "displayName": "Rohan Kaushik",
      "userId": "13918477614376051685"
     },
     "user_tz": -60
    },
    "id": "BOJE8vREtque"
   },
   "outputs": [],
   "source": []
  },
  {
   "cell_type": "code",
   "execution_count": null,
   "metadata": {
    "executionInfo": {
     "elapsed": 12,
     "status": "ok",
     "timestamp": 1667868778788,
     "user": {
      "displayName": "Rohan Kaushik",
      "userId": "13918477614376051685"
     },
     "user_tz": -60
    },
    "id": "fwjcsAxKneQe"
   },
   "outputs": [],
   "source": []
  },
  {
   "cell_type": "code",
   "execution_count": null,
   "metadata": {
    "executionInfo": {
     "elapsed": 11,
     "status": "ok",
     "timestamp": 1667868778788,
     "user": {
      "displayName": "Rohan Kaushik",
      "userId": "13918477614376051685"
     },
     "user_tz": -60
    },
    "id": "aFd7XgwVneQe"
   },
   "outputs": [],
   "source": []
  },
  {
   "cell_type": "markdown",
   "metadata": {
    "id": "8IAcFjRRn_IQ"
   },
   "source": [
    "# GRU"
   ]
  },
  {
   "cell_type": "code",
   "execution_count": 29,
   "metadata": {
    "executionInfo": {
     "elapsed": 12,
     "status": "ok",
     "timestamp": 1667868778789,
     "user": {
      "displayName": "Rohan Kaushik",
      "userId": "13918477614376051685"
     },
     "user_tz": -60
    },
    "id": "lPVqWNwjoAGP"
   },
   "outputs": [
    {
     "name": "stdout",
     "output_type": "stream",
     "text": [
      "0.1 0.01 2000.0 2000.0 0.1\n"
     ]
    }
   ],
   "source": [
    "print(dt_rnn, delta_t, T_sample_input, T_sample_output, T_offset)"
   ]
  },
  {
   "cell_type": "code",
   "execution_count": null,
   "metadata": {
    "executionInfo": {
     "elapsed": 11,
     "status": "ok",
     "timestamp": 1667868778789,
     "user": {
      "displayName": "Rohan Kaushik",
      "userId": "13918477614376051685"
     },
     "user_tz": -60
    },
    "id": "S21-VEUYrkk-"
   },
   "outputs": [],
   "source": []
  },
  {
   "cell_type": "code",
   "execution_count": 30,
   "metadata": {
    "executionInfo": {
     "elapsed": 11,
     "status": "ok",
     "timestamp": 1667868778789,
     "user": {
      "displayName": "Rohan Kaushik",
      "userId": "13918477614376051685"
     },
     "user_tz": -60
    },
    "id": "UGnj8uQQ83-y"
   },
   "outputs": [],
   "source": [
    "# latent_states_all = latent_states_all[0:375009]\n",
    "# boundary_idx_arr = [375009]"
   ]
  },
  {
   "cell_type": "code",
   "execution_count": 31,
   "metadata": {
    "executionInfo": {
     "elapsed": 12,
     "status": "ok",
     "timestamp": 1667868778790,
     "user": {
      "displayName": "Rohan Kaushik",
      "userId": "13918477614376051685"
     },
     "user_tz": -60
    },
    "id": "0t2_8mzI1fhX"
   },
   "outputs": [],
   "source": [
    "normalization_arr = None\n",
    "rnn_res_dict = create_data_for_RNN(\n",
    "    latent_states_all,\n",
    "    dt_rnn,\n",
    "    T_sample_input,\n",
    "    T_sample_output,\n",
    "    T_offset,\n",
    "    None,\n",
    "    boundary_idx_arr,\n",
    "    delta_t,\n",
    "    params=params,\n",
    "    return_numsamples=True,\n",
    "    normalize_dataset=normalize_dataset,\n",
    "    stddev_multiplier=stddev_multiplier,\n",
    "    skip_intermediate=skip_intermediate,\n",
    "    return_OrgDataIdxArr=False,\n",
    "    normalization_arr_external=normalization_arr,\n",
    "    normalization_type=normalization_type,\n",
    "    FTYPE=FTYPE,\n",
    "    ITYPE=ITYPE)\n",
    "    \n",
    "data_rnn_input = rnn_res_dict['data_rnn_input']\n",
    "data_rnn_output = rnn_res_dict['data_rnn_output']\n",
    "org_data_idx_arr_input = rnn_res_dict['org_data_idx_arr_input']\n",
    "org_data_idx_arr_output = rnn_res_dict['org_data_idx_arr_output']\n",
    "num_samples = rnn_res_dict['num_samples']\n",
    "normalization_arr = rnn_res_dict['normalization_arr']\n",
    "rnn_data_boundary_idx_arr = rnn_res_dict['rnn_data_boundary_idx_arr']"
   ]
  },
  {
   "cell_type": "code",
   "execution_count": 32,
   "metadata": {},
   "outputs": [
    {
     "name": "stdout",
     "output_type": "stream",
     "text": [
      "(20, 20000, 2) (20, 20000, 2) (2, 2) [20]\n"
     ]
    }
   ],
   "source": [
    "print(data_rnn_input.shape, data_rnn_output.shape, normalization_arr.shape, rnn_data_boundary_idx_arr)"
   ]
  },
  {
   "cell_type": "code",
   "execution_count": 33,
   "metadata": {
    "executionInfo": {
     "elapsed": 11,
     "status": "ok",
     "timestamp": 1667868778790,
     "user": {
      "displayName": "Rohan Kaushik",
      "userId": "13918477614376051685"
     },
     "user_tz": -60
    },
    "id": "pIsWCXkbr7ws"
   },
   "outputs": [],
   "source": [
    "temp = np.divide(latent_states_all-normalization_arr[0], normalization_arr[1])\n",
    "time_stddev = np.std(temp, axis=0)\n",
    "timeMeanofSpaceRMS = np.mean(np.mean(temp**2, axis=1)**0.5)\n",
    "del(org_data_idx_arr_input)\n",
    "del(org_data_idx_arr_output)\n",
    "del(latent_states_all)\n",
    "del(temp)"
   ]
  },
  {
   "cell_type": "code",
   "execution_count": 34,
   "metadata": {
    "executionInfo": {
     "elapsed": 11,
     "status": "ok",
     "timestamp": 1667868778790,
     "user": {
      "displayName": "Rohan Kaushik",
      "userId": "13918477614376051685"
     },
     "user_tz": -60
    },
    "id": "Hem_9PUqneQi"
   },
   "outputs": [],
   "source": [
    "rnn_res_dict = create_data_for_RNN(\n",
    "    all_data,\n",
    "    dt_rnn,\n",
    "    T_sample_input,\n",
    "    T_sample_output,\n",
    "    T_offset,\n",
    "    None,\n",
    "    boundary_idx_arr,\n",
    "    delta_t,\n",
    "    params=params,\n",
    "    return_numsamples=True,\n",
    "    normalize_dataset=False,\n",
    "    stddev_multiplier=stddev_multiplier,\n",
    "    skip_intermediate=skip_intermediate,\n",
    "    return_OrgDataIdxArr=False,\n",
    "    normalization_arr_external=normalization_arr,\n",
    "    normalization_type=normalization_type,\n",
    "    FTYPE=FTYPE,\n",
    "    ITYPE=ITYPE)\n",
    "    \n",
    "AR_data_rnn_input = rnn_res_dict['data_rnn_input']\n",
    "AR_data_rnn_output = rnn_res_dict['data_rnn_output']\n",
    "AR_org_data_idx_arr_input = rnn_res_dict['org_data_idx_arr_input']\n",
    "AR_org_data_idx_arr_output = rnn_res_dict['org_data_idx_arr_output']\n",
    "AR_num_samples = rnn_res_dict['num_samples']\n",
    "AR_normalization_arr = rnn_res_dict['normalization_arr']\n",
    "AR_rnn_data_boundary_idx_arr = rnn_res_dict['rnn_data_boundary_idx_arr']\n",
    "\n",
    "del(AR_org_data_idx_arr_input)\n",
    "del(AR_org_data_idx_arr_output)\n",
    "del(AR_rnn_data_boundary_idx_arr)"
   ]
  },
  {
   "cell_type": "code",
   "execution_count": 35,
   "metadata": {
    "executionInfo": {
     "elapsed": 12,
     "status": "ok",
     "timestamp": 1667868778791,
     "user": {
      "displayName": "Rohan Kaushik",
      "userId": "13918477614376051685"
     },
     "user_tz": -60
    },
    "id": "uskBAAXpneQi"
   },
   "outputs": [
    {
     "name": "stdout",
     "output_type": "stream",
     "text": [
      "(20, 20000, 3) (20, 20000, 3)\n"
     ]
    }
   ],
   "source": [
    "print(AR_data_rnn_input.shape, AR_data_rnn_output.shape)"
   ]
  },
  {
   "cell_type": "code",
   "execution_count": 37,
   "metadata": {
    "executionInfo": {
     "elapsed": 431,
     "status": "ok",
     "timestamp": 1667868779211,
     "user": {
      "displayName": "Rohan Kaushik",
      "userId": "13918477614376051685"
     },
     "user_tz": -60
    },
    "id": "-1uL-GomneQi"
   },
   "outputs": [],
   "source": [
    "# setting up training params\n",
    "# learning_rate_list = [1e-2, 1e-3, 1e-4]#, 1e-5]\n",
    "epochs = 1\n",
    "patience = 10 # parameter for early stopping\n",
    "min_delta = 1e-6  # parameter for early stopping\n",
    "train_split = 0.8\n",
    "val_split = 0.1\n",
    "test_split = 1 - train_split - val_split\n",
    "batch_size = 1\n",
    "# rnncell_dropout_rate = 0.0\n",
    "# denselayer_dropout_rate = 0.0\n",
    "\n",
    "# lambda_reg_x0 = 1e-7 # weight for regularizer\n",
    "# fRMS_x0 = 1e-3\n",
    "\n",
    "# rnncell_dropout_rate = 0.0\n",
    "# denselayer_dropout_rate = 0.0\n",
    "\n",
    "# ph computation parameters\n",
    "num_runs = 100\n",
    "T_sample_input_AR_ratio = 1\n",
    "T_sample_output_AR_ratio = 6\n",
    "\n",
    "# saving training params\n",
    "training_specific_params = {\n",
    "    'epochs':epochs,\n",
    "    'prng_seed':prng_seed,\n",
    "    'train_split':train_split,\n",
    "    'val_split':val_split,\n",
    "    'batch_size':batch_size,\n",
    "    # 'fRMS':fRMS,\n",
    "    'timeMeanofSpaceRMS':timeMeanofSpaceRMS,\n",
    "    # 'stddev':stddev,\n",
    "    # 'lambda_reg':lambda_reg,\n",
    "    'min_delta':min_delta,\n",
    "    'patience':patience,\n",
    "    # 'rnncell_dropout_rate':rnncell_dropout_rate,\n",
    "    # 'denselayer_dropout_rate':denselayer_dropout_rate,\n",
    "    # 'learning_rate_list':learning_rate_list,\n",
    "}"
   ]
  },
  {
   "cell_type": "code",
   "execution_count": 38,
   "metadata": {
    "executionInfo": {
     "elapsed": 3,
     "status": "ok",
     "timestamp": 1667868779212,
     "user": {
      "displayName": "Rohan Kaushik",
      "userId": "13918477614376051685"
     },
     "user_tz": -60
    },
    "id": "4hx9ZaSpEMmv"
   },
   "outputs": [],
   "source": [
    "# saving simulation data\n",
    "sim_data = {\n",
    "    'params_mat':params_mat,\n",
    "    'init_state_mat':init_state_mat,\n",
    "    't0':t0,\n",
    "    'T':T,\n",
    "    'delta_t':delta_t,\n",
    "    'return_params_arr':return_params_arr,\n",
    "    'dir_name_ae':dir_name_ae,\n",
    "    'normalize_dataset':normalize_dataset,\n",
    "    'stddev_multiplier':stddev_multiplier,\n",
    "    'use_ae_data':use_ae_data,\n",
    "}\n",
    "\n",
    "# saving RNN specific data\n",
    "RNN_specific_data = {    \n",
    "    'dt_rnn':dt_rnn,\n",
    "    'T_sample_input':T_sample_input,\n",
    "    'T_sample_output':T_sample_output,\n",
    "    'T_offset':T_offset,\n",
    "    'boundary_idx_arr':boundary_idx_arr,\n",
    "    'delta_t':delta_t,\n",
    "    'params':params,\n",
    "    'return_params_arr':return_params_arr,\n",
    "    'normalize_dataset':normalize_dataset,\n",
    "    # 'num_lyaptimesteps_totrain':num_lyaptimesteps_totrain,\n",
    "    'stddev_multiplier':stddev_multiplier,\n",
    "    'skip_intermediate':skip_intermediate,\n",
    "    'module':RNN_SingleStep.__module__,\n",
    "    'noise_type':noise_type,\n",
    "    'normalization_type':normalization_type,\n",
    "    # 'dense_layer_act_func':dense_layer_act_func,\n",
    "    'stateful':stateful,\n",
    "    # 'use_learnable_state':use_learnable_state,\n",
    "    'use_weights_post_dense':use_weights_post_dense,\n",
    "    # 'use_trainable_weights_with_reslayers':use_trainable_weights_with_reslayers,\n",
    "}"
   ]
  },
  {
   "cell_type": "code",
   "execution_count": 39,
   "metadata": {
    "executionInfo": {
     "elapsed": 391,
     "status": "ok",
     "timestamp": 1667868779601,
     "user": {
      "displayName": "Rohan Kaushik",
      "userId": "13918477614376051685"
     },
     "user_tz": -60
    },
    "id": "EENXaWqcKW7j"
   },
   "outputs": [],
   "source": [
    "cum_samples = rnn_data_boundary_idx_arr[-1]\n",
    "# idx = np.arange(cum_samples)\n",
    "# np.random.shuffle(idx)\n",
    "num_train_arr = np.zeros(shape=rnn_data_boundary_idx_arr.shape[0], dtype='int32')\n",
    "num_val_arr = np.zeros(shape=rnn_data_boundary_idx_arr.shape[0], dtype='int32')\n",
    "num_test_arr = np.zeros(shape=rnn_data_boundary_idx_arr.shape[0], dtype='int32')\n",
    "num_samples_arr = np.zeros(shape=rnn_data_boundary_idx_arr.shape[0], dtype='int32')\n",
    "begin_idx = 0\n",
    "for i in range(len(rnn_data_boundary_idx_arr)):\n",
    "    num_samples = batch_size * int((rnn_data_boundary_idx_arr[i] - begin_idx) // batch_size)\n",
    "    num_train_arr[i] = batch_size * int( np.round(train_split*num_samples/batch_size) )\n",
    "    num_val_arr[i] = batch_size * int( np.round(val_split*num_samples/batch_size) )\n",
    "    num_test_arr[i] = batch_size * int( np.round((num_samples - num_train_arr[i] - num_val_arr[i])/batch_size) )\n",
    "    num_samples_arr[i] = num_train_arr[i] + num_val_arr[i] + num_test_arr[i]\n",
    "    begin_idx = rnn_data_boundary_idx_arr[i]\n",
    "\n",
    "# defining shapes\n",
    "training_input_shape = [np.sum(num_train_arr)]\n",
    "training_input_shape.extend(data_rnn_input.shape[1:])\n",
    "\n",
    "training_output_shape = [np.sum(num_train_arr)]\n",
    "training_output_shape.extend(data_rnn_output.shape[1:])\n",
    "\n",
    "val_input_shape = [np.sum(num_val_arr)]\n",
    "val_input_shape.extend(data_rnn_input.shape[1:])\n",
    "\n",
    "val_output_shape = [np.sum(num_val_arr)]\n",
    "val_output_shape.extend(data_rnn_output.shape[1:])\n",
    "\n",
    "testing_input_shape = [np.sum(num_test_arr)]\n",
    "testing_input_shape.extend(data_rnn_input.shape[1:])\n",
    "\n",
    "testing_output_shape = [np.sum(num_test_arr)]\n",
    "testing_output_shape.extend(data_rnn_output.shape[1:])\n",
    "\n",
    "# defining required arrays\n",
    "training_data_rnn_input = np.empty(shape=training_input_shape, dtype=FTYPE)\n",
    "training_data_rnn_output = np.empty(shape=training_output_shape, dtype=FTYPE)\n",
    "\n",
    "val_data_rnn_input = np.empty(shape=val_input_shape, dtype=FTYPE)\n",
    "val_data_rnn_output = np.empty(shape=val_output_shape, dtype=FTYPE)\n",
    "\n",
    "testing_data_rnn_input = np.empty(shape=testing_input_shape, dtype=FTYPE)\n",
    "testing_data_rnn_output = np.empty(shape=testing_output_shape, dtype=FTYPE)\n",
    "\n",
    "AR_testing_data_rnn_input = np.empty(shape=tuple(testing_input_shape[0:2])+tuple(AR_data_rnn_input.shape[2:]), dtype=FTYPE)\n",
    "AR_testing_data_rnn_output = np.empty(shape=tuple(testing_input_shape[0:2])+tuple(AR_data_rnn_input.shape[2:]), dtype=FTYPE)\n",
    "\n",
    "begin_idx = 0\n",
    "training_data_rolling_count = 0\n",
    "val_data_rolling_count = 0\n",
    "testing_data_rolling_count = 0\n",
    "for i in range(len(boundary_idx_arr)):\n",
    "    idx = np.arange(begin_idx, rnn_data_boundary_idx_arr[i])\n",
    "    # np.random.shuffle(idx)\n",
    "    # num_samples = idx.shape[0]\n",
    "    # num_train = int( np.round(train_split*num_samples/batch_size) )*batch_size\n",
    "    # num_val = int( np.round(val_split*num_samples/batch_size) )*batch_size\n",
    "    \n",
    "    num_samples = num_samples_arr[i]\n",
    "    num_train = num_train_arr[i]\n",
    "    num_val = num_val_arr[i]\n",
    "    num_test = num_test_arr[i]\n",
    "    \n",
    "    nbatches_train = num_train // batch_size\n",
    "    nbatches_val = num_val // batch_size\n",
    "    nbatches_test = num_test // batch_size\n",
    "\n",
    "    for j in range(batch_size):\n",
    "        training_data_rnn_input[training_data_rolling_count+j:training_data_rolling_count+num_train:batch_size] = data_rnn_input[idx[0:num_train]][j*nbatches_train:(j+1)*nbatches_train]\n",
    "        training_data_rnn_output[training_data_rolling_count+j:training_data_rolling_count+num_train:batch_size] = data_rnn_output[idx[0:num_train]][j*nbatches_train:(j+1)*nbatches_train]\n",
    "        \n",
    "        val_data_rnn_input[val_data_rolling_count+j:val_data_rolling_count+num_val:batch_size] = data_rnn_input[idx[num_train:num_train+num_val]][j*nbatches_val:(j+1)*nbatches_val]\n",
    "        val_data_rnn_output[val_data_rolling_count+j:val_data_rolling_count+num_val:batch_size] = data_rnn_output[idx[num_train:num_train+num_val]][j*nbatches_val:(j+1)*nbatches_val]\n",
    "\n",
    "        testing_data_rnn_input[testing_data_rolling_count+j:testing_data_rolling_count+num_test:batch_size] = data_rnn_input[idx[num_train+num_val:num_samples]][j*nbatches_test:(j+1)*nbatches_test]\n",
    "        testing_data_rnn_output[testing_data_rolling_count+j:testing_data_rolling_count+num_test:batch_size] = data_rnn_output[idx[num_train+num_val:num_samples]][j*nbatches_test:(j+1)*nbatches_test]\n",
    "\n",
    "    AR_testing_data_rnn_input[testing_data_rolling_count:testing_data_rolling_count+num_test] = AR_data_rnn_input[idx[num_train+num_val:num_samples]]\n",
    "    AR_testing_data_rnn_output[testing_data_rolling_count:testing_data_rolling_count+num_test] = AR_data_rnn_output[idx[num_train+num_val:num_samples]]\n",
    "\n",
    "    # training_data_rnn_input[training_data_rolling_count:training_data_rolling_count+num_train] = data_rnn_input[idx[0:num_train]]\n",
    "    # training_data_rnn_output[training_data_rolling_count:training_data_rolling_count+num_train] = data_rnn_output[idx[0:num_train]]\n",
    "    training_data_rolling_count += num_train\n",
    "\n",
    "    # val_data_rnn_input[val_data_rolling_count:val_data_rolling_count+num_val] = data_rnn_input[idx[num_train:num_train+num_val]]\n",
    "    # val_data_rnn_output[val_data_rolling_count:val_data_rolling_count+num_val] = data_rnn_output[idx[num_train:num_train+num_val]]\n",
    "    val_data_rolling_count += num_val\n",
    "\n",
    "    # num_test = num_samples-num_train-num_val+1\n",
    "    # testing_data_rnn_input[testing_data_rolling_count:testing_data_rolling_count+num_test] = data_rnn_input[idx[num_train+num_val:]]\n",
    "    # testing_data_rnn_output[testing_data_rolling_count:testing_data_rolling_count+num_test] = data_rnn_output[idx[num_train+num_val:]]\n",
    "    testing_data_rolling_count += num_test\n",
    "\n",
    "    begin_idx = rnn_data_boundary_idx_arr[i]\n",
    "\n",
    "# cleaning up\n",
    "del(data_rnn_input)\n",
    "del(data_rnn_output)\n",
    "del(AR_data_rnn_input)\n",
    "del(AR_data_rnn_output)\n",
    "\n",
    "# further shuffling\n",
    "if stateful == False:\n",
    "    idx = np.arange(0, training_data_rnn_input.shape[0])\n",
    "    np.random.shuffle(idx)\n",
    "    training_data_rnn_input = training_data_rnn_input[idx]\n",
    "    training_data_rnn_output = training_data_rnn_output[idx]\n",
    "\n",
    "    idx = np.arange(0, val_data_rnn_input.shape[0])\n",
    "    np.random.shuffle(idx)\n",
    "    val_data_rnn_input = val_data_rnn_input[idx]\n",
    "    val_data_rnn_output = val_data_rnn_output[idx]\n",
    "\n",
    "    idx = np.arange(0, testing_data_rnn_input.shape[0])\n",
    "    np.random.shuffle(idx)\n",
    "    testing_data_rnn_input = testing_data_rnn_input[idx]\n",
    "    testing_data_rnn_output = testing_data_rnn_output[idx]\n",
    "\n",
    "    del(idx)"
   ]
  },
  {
   "cell_type": "code",
   "execution_count": 40,
   "metadata": {},
   "outputs": [
    {
     "name": "stdout",
     "output_type": "stream",
     "text": [
      "   training_data_rnn_input.shape :  (16, 20000, 2)\n",
      "  training_data_rnn_output.shape :  (16, 20000, 2)\n",
      "    testing_data_rnn_input.shape :  (2, 20000, 2)\n",
      "   testing_data_rnn_output.shape :  (2, 20000, 2)\n",
      "        val_data_rnn_input.shape :  (2, 20000, 2)\n",
      "       val_data_rnn_output.shape :  (2, 20000, 2)\n",
      "\n",
      " AR_testing_data_rnn_input.shape :  (2, 20000, 3)\n",
      "AR_testing_data_rnn_output.shape :  (2, 20000, 3)\n"
     ]
    }
   ],
   "source": [
    "print('   training_data_rnn_input.shape : ', training_data_rnn_input.shape)\n",
    "print('  training_data_rnn_output.shape : ', training_data_rnn_output.shape)\n",
    "print('    testing_data_rnn_input.shape : ', testing_data_rnn_input.shape)\n",
    "print('   testing_data_rnn_output.shape : ', testing_data_rnn_output.shape)\n",
    "print('        val_data_rnn_input.shape : ', val_data_rnn_input.shape)\n",
    "print('       val_data_rnn_output.shape : ', val_data_rnn_output.shape)\n",
    "print('')\n",
    "print(' AR_testing_data_rnn_input.shape : ', AR_testing_data_rnn_input.shape)\n",
    "print('AR_testing_data_rnn_output.shape : ', AR_testing_data_rnn_output.shape)"
   ]
  },
  {
   "cell_type": "code",
   "execution_count": 41,
   "metadata": {},
   "outputs": [
    {
     "name": "stdout",
     "output_type": "stream",
     "text": [
      "num_runs :  100\n"
     ]
    }
   ],
   "source": [
    "s_in = AR_testing_data_rnn_input.shape\n",
    "AR_testing_data_rnn_input = AR_testing_data_rnn_input.reshape((1, s_in[0]*s_in[1]) + s_in[2:])\n",
    "\n",
    "s_out = AR_testing_data_rnn_output.shape\n",
    "AR_testing_data_rnn_output = AR_testing_data_rnn_output.reshape((1, s_out[0]*s_out[1]) + s_out[2:])\n",
    "\n",
    "T_sample_input_AR = T_sample_input_AR_ratio*np.mean(lyapunov_time_arr)#50.1*dt_rnn\n",
    "num_sample_input_AR = int((T_sample_input_AR+0.5*dt_rnn)//dt_rnn)\n",
    "\n",
    "T_sample_output_AR = T_sample_output_AR_ratio*np.mean(lyapunov_time_arr)\n",
    "num_sample_output_AR = int((T_sample_output_AR+0.5*dt_rnn)//dt_rnn)\n",
    "\n",
    "num_offset_AR = num_sample_input_AR\n",
    "T_offset_AR = num_offset_AR*dt_rnn\n",
    "\n",
    "batch_idx = np.random.randint(low=0, high=AR_testing_data_rnn_input.shape[0])\n",
    "maxpossible_num_runs = AR_testing_data_rnn_input.shape[1]-(num_sample_input_AR+num_sample_output_AR)\n",
    "\n",
    "num_runs = np.min([num_runs, maxpossible_num_runs])\n",
    "\n",
    "print('num_runs : ', num_runs)\n",
    "\n",
    "data_idx_arr = np.linspace(0, maxpossible_num_runs-1, num_runs, dtype=np.int32)"
   ]
  },
  {
   "cell_type": "code",
   "execution_count": 42,
   "metadata": {},
   "outputs": [],
   "source": [
    "AR_data_in = np.empty(shape=(num_runs, num_sample_input_AR)+tuple(s_in[2:]))\n",
    "AR_data_out = np.empty(shape=(num_runs, num_sample_output_AR)+tuple(s_out[2:]))\n",
    "\n",
    "for i in range(num_runs):\n",
    "    d_idx = data_idx_arr[i]\n",
    "    AR_data_in[i] = AR_testing_data_rnn_input[0, d_idx:d_idx+num_sample_input_AR]\n",
    "    AR_data_out[i] = AR_testing_data_rnn_input[0, d_idx+num_sample_input_AR:d_idx+num_sample_input_AR+num_sample_output_AR]"
   ]
  },
  {
   "cell_type": "code",
   "execution_count": 43,
   "metadata": {},
   "outputs": [],
   "source": [
    "del(AR_testing_data_rnn_input)\n",
    "del(AR_testing_data_rnn_output)\n",
    "AR_testing_data_rnn_input = AR_data_in\n",
    "AR_testing_data_rnn_output = AR_data_out"
   ]
  },
  {
   "cell_type": "code",
   "execution_count": 44,
   "metadata": {
    "executionInfo": {
     "elapsed": 5,
     "status": "ok",
     "timestamp": 1667868779603,
     "user": {
      "displayName": "Rohan Kaushik",
      "userId": "13918477614376051685"
     },
     "user_tz": -60
    },
    "id": "8isZN1tYBifp"
   },
   "outputs": [
    {
     "name": "stdout",
     "output_type": "stream",
     "text": [
      "   training_data_rnn_input.shape :  (16, 20000, 2)\n",
      "  training_data_rnn_output.shape :  (16, 20000, 2)\n",
      "    testing_data_rnn_input.shape :  (2, 20000, 2)\n",
      "   testing_data_rnn_output.shape :  (2, 20000, 2)\n",
      "        val_data_rnn_input.shape :  (2, 20000, 2)\n",
      "       val_data_rnn_output.shape :  (2, 20000, 2)\n",
      "\n",
      " AR_testing_data_rnn_input.shape :  (100, 11, 3)\n",
      "AR_testing_data_rnn_output.shape :  (100, 66, 3)\n"
     ]
    }
   ],
   "source": [
    "print('   training_data_rnn_input.shape : ', training_data_rnn_input.shape)\n",
    "print('  training_data_rnn_output.shape : ', training_data_rnn_output.shape)\n",
    "print('    testing_data_rnn_input.shape : ', testing_data_rnn_input.shape)\n",
    "print('   testing_data_rnn_output.shape : ', testing_data_rnn_output.shape)\n",
    "print('        val_data_rnn_input.shape : ', val_data_rnn_input.shape)\n",
    "print('       val_data_rnn_output.shape : ', val_data_rnn_output.shape)\n",
    "print('')\n",
    "print(' AR_testing_data_rnn_input.shape : ', AR_testing_data_rnn_input.shape)\n",
    "print('AR_testing_data_rnn_output.shape : ', AR_testing_data_rnn_output.shape)"
   ]
  },
  {
   "cell_type": "code",
   "execution_count": null,
   "metadata": {
    "executionInfo": {
     "elapsed": 7,
     "status": "ok",
     "timestamp": 1667868779605,
     "user": {
      "displayName": "Rohan Kaushik",
      "userId": "13918477614376051685"
     },
     "user_tz": -60
    },
    "id": "x3KglJsgneQj"
   },
   "outputs": [],
   "source": []
  },
  {
   "cell_type": "code",
   "execution_count": 45,
   "metadata": {
    "executionInfo": {
     "elapsed": 8,
     "status": "ok",
     "timestamp": 1667868779606,
     "user": {
      "displayName": "Rohan Kaushik",
      "userId": "13918477614376051685"
     },
     "user_tz": -60
    },
    "id": "ixetsZHjCMKO"
   },
   "outputs": [],
   "source": [
    "testrnn_dirlist = []\n",
    "testrnn_dirlist_idx = []\n",
    "for dname in os.listdir(dir_name_rnn+'/tested_ESN'):\n",
    "    if os.path.isdir(os.path.join(dir_name_rnn+'/tested_ESN', dname)):\n",
    "        testrnn_dirlist.append(os.path.join(dir_name_rnn+'/tested_ESN', dname))\n",
    "        rnnidx = int(testrnn_dirlist[-1][-3:])\n",
    "        testrnn_dirlist_idx.append(rnnidx)\n",
    "\n",
    "sorted_idx = np.argsort(testrnn_dirlist_idx)\n",
    "testrnn_dirlist_idx = np.array(testrnn_dirlist_idx)[sorted_idx]\n",
    "testrnn_dirlist = np.array(testrnn_dirlist)[sorted_idx]"
   ]
  },
  {
   "cell_type": "code",
   "execution_count": 46,
   "metadata": {},
   "outputs": [],
   "source": [
    "def invert_normalization(data, normalization_arr):\n",
    "    new_data = np.empty_like(data)\n",
    "    new_data[:] = data[:]\n",
    "    new_data *= normalization_arr[1]\n",
    "    new_data += normalization_arr[0]\n",
    "    return new_data\n",
    "\n",
    "def find_and_return_load_wt_file_lists(\n",
    "        load_dir,\n",
    "        wt_matcher='weights.hdf5',\n",
    "        classdict_matcher='class_dict.txt',\n",
    "    ):\n",
    "    contents_load_dir = [f for f in os.listdir(load_dir) if os.path.isfile(os.path.join(load_dir, f))]\n",
    "    load_files_lst = [f for f in contents_load_dir if f.endswith(classdict_matcher)]\n",
    "    wt_files_lst = [f for f in contents_load_dir if f.endswith(wt_matcher)]\n",
    "\n",
    "    load_files_lst_startingidx = []\n",
    "    for i in range(len(load_files_lst)):\n",
    "        fn = load_files_lst[i]\n",
    "        idx = fn.find('_')\n",
    "        load_files_lst_startingidx.append(int(fn[0:idx]))\n",
    "\n",
    "    wt_files_lst_startingidx = []\n",
    "    for i in range(len(wt_files_lst)):\n",
    "        fn = wt_files_lst[i]\n",
    "        idx = fn.find('_')\n",
    "        wt_files_lst_startingidx.append(int(fn[0:idx]))\n",
    "\n",
    "    load_files_sortidx = np.argsort(load_files_lst_startingidx)\n",
    "    wt_files_sortidx = np.argsort(wt_files_lst_startingidx)\n",
    "\n",
    "    load_files_lst = np.array(load_files_lst)[load_files_sortidx]\n",
    "    wt_files_lst = np.array(wt_files_lst)[wt_files_sortidx]\n",
    "\n",
    "    load_file_rnn = [load_dir + '/' + fn for fn in load_files_lst]\n",
    "    wt_file_rnn = [load_dir + '/' +  fn for fn in wt_files_lst]\n",
    "    \n",
    "    return load_file_rnn, wt_file_rnn"
   ]
  },
  {
   "cell_type": "code",
   "execution_count": 53,
   "metadata": {
    "executionInfo": {
     "elapsed": 7,
     "status": "ok",
     "timestamp": 1667868779606,
     "user": {
      "displayName": "Rohan Kaushik",
      "userId": "13918477614376051685"
     },
     "user_tz": -60
    },
    "id": "_NSTtZuyneQk",
    "scrolled": true
   },
   "outputs": [
    {
     "name": "stdout",
     "output_type": "stream",
     "text": [
      "tested_ESN/test_ESN_000\n",
      "num_runs : 100\n",
      "    analysis_time : 25 sec.\n",
      "error_threshold = 0.5, num_runs : 100\n",
      "prediction_horizon : 0.6349672807562747, median : 0.5434812674090799\n",
      "ph_min : 0.09058021123484662, ph_max : 1.721024013462086\n",
      "stddev : 0.3264647032244105, IQR : 0.4529010561742331\n",
      "1st quartile : 0.3623208449393865, 3rd quartile : 0.8152219011136196\n",
      "\n",
      "\n",
      "tested_ESN/test_ESN_001\n",
      "num_runs : 100\n",
      "    analysis_time : 24 sec.\n",
      "error_threshold = 0.5, num_runs : 100\n",
      "prediction_horizon : 0.5824307582400637, median : 0.5434812674090799\n",
      "ph_min : 0.09058021123484662, ph_max : 1.2681229572878527\n",
      "stddev : 0.23836712241595226, IQR : 0.3623208449393865\n",
      "1st quartile : 0.3623208449393865, 3rd quartile : 0.724641689878773\n",
      "\n",
      "\n",
      "tested_ESN/test_ESN_002\n",
      "num_runs : 100\n",
      "    analysis_time : 26 sec.\n",
      "error_threshold = 0.5, num_runs : 100\n",
      "prediction_horizon : 0.7273590962158184, median : 0.6340614786439264\n",
      "ph_min : 0.18116042246969324, ph_max : 2.0833448584014724\n",
      "stddev : 0.3193398891744545, IQR : 0.3623208449393863\n",
      "1st quartile : 0.5434812674090799, 3rd quartile : 0.9058021123484662\n",
      "\n",
      "\n",
      "tested_ESN/test_ESN_003\n",
      "num_runs : 100\n",
      "    analysis_time : 27 sec.\n",
      "error_threshold = 0.5, num_runs : 100\n",
      "prediction_horizon : 0.4936621512299142, median : 0.4529010561742331\n",
      "ph_min : 0.18116042246969324, ph_max : 1.0869625348181597\n",
      "stddev : 0.1892996390901173, IQR : 0.2717406337045399\n",
      "1st quartile : 0.3623208449393865, 3rd quartile : 0.6340614786439264\n",
      "\n",
      "\n",
      "tested_ESN/test_ESN_004\n",
      "num_runs : 100\n",
      "    analysis_time : 24 sec.\n",
      "error_threshold = 0.5, num_runs : 100\n",
      "prediction_horizon : 1.3768192107696688, median : 1.1775427460530061\n",
      "ph_min : 0.18116042246969324, ph_max : 5.344232462855951\n",
      "stddev : 0.6955239135981759, IQR : 0.8152219011136198\n",
      "1st quartile : 0.9058021123484662, 3rd quartile : 1.721024013462086\n",
      "\n",
      "\n",
      "tested_ESN/test_ESN_005\n",
      "num_runs : 100\n",
      "    analysis_time : 25 sec.\n",
      "error_threshold = 0.5, num_runs : 100\n",
      "prediction_horizon : 0.7056198455194551, median : 0.6340614786439264\n",
      "ph_min : 0.18116042246969324, ph_max : 1.5398635909923928\n",
      "stddev : 0.26634124970878337, IQR : 0.3623208449393863\n",
      "1st quartile : 0.5434812674090799, 3rd quartile : 0.9058021123484662\n",
      "\n",
      "\n",
      "tested_ESN/test_ESN_006\n",
      "num_runs : 100\n",
      "    analysis_time : 27 sec.\n",
      "error_threshold = 0.5, num_runs : 100\n",
      "prediction_horizon : 0.6603297399020319, median : 0.6340614786439264\n",
      "ph_min : 0.09058021123484662, ph_max : 1.721024013462086\n",
      "stddev : 0.3018632256140454, IQR : 0.3623208449393865\n",
      "1st quartile : 0.4529010561742331, 3rd quartile : 0.8152219011136196\n",
      "\n",
      "\n",
      "tested_ESN/test_ESN_007\n",
      "num_runs : 100\n",
      "    analysis_time : 27 sec.\n",
      "error_threshold = 0.5, num_runs : 100\n",
      "prediction_horizon : 0.790765244080211, median : 0.724641689878773\n",
      "ph_min : 0.09058021123484662, ph_max : 2.8079865482802453\n",
      "stddev : 0.41703408625827304, IQR : 0.45290105617423304\n",
      "1st quartile : 0.5434812674090799, 3rd quartile : 0.9963823235833129\n",
      "\n",
      "\n",
      "tested_ESN/test_ESN_008\n",
      "num_runs : 100\n",
      "    analysis_time : 26 sec.\n",
      "error_threshold = 0.5, num_runs : 100\n",
      "prediction_horizon : 1.1014553686157351, median : 0.9058021123484662\n",
      "ph_min : 0.27174063370453994, ph_max : 4.529010561742331\n",
      "stddev : 0.7243834902767544, IQR : 0.8152219011136195\n",
      "1st quartile : 0.5434812674090799, 3rd quartile : 1.3587031685226993\n",
      "\n",
      "\n",
      "tested_ESN/test_ESN_009\n",
      "num_runs : 100\n",
      "    analysis_time : 25 sec.\n",
      "error_threshold = 0.5, num_runs : 100\n",
      "prediction_horizon : 0.7355113152269546, median : 0.724641689878773\n",
      "ph_min : 0.09058021123484662, ph_max : 1.6304438022272392\n",
      "stddev : 0.31069936727673986, IQR : 0.3623208449393863\n",
      "1st quartile : 0.5434812674090799, 3rd quartile : 0.9058021123484662\n",
      "\n",
      "\n",
      "tested_ESN/test_ESN_010\n",
      "num_runs : 100\n",
      "    analysis_time : 26 sec.\n",
      "error_threshold = 0.5, num_runs : 100\n",
      "prediction_horizon : 0.8260915264618011, median : 0.724641689878773\n",
      "ph_min : 0.18116042246969324, ph_max : 2.898566759515092\n",
      "stddev : 0.42626242840913575, IQR : 0.5434812674090799\n",
      "1st quartile : 0.5434812674090799, 3rd quartile : 1.0869625348181597\n",
      "\n",
      "\n",
      "tested_ESN/test_ESN_011\n",
      "num_runs : 100\n",
      "    analysis_time : 25 sec.\n",
      "error_threshold = 0.5, num_runs : 100\n",
      "prediction_horizon : 0.7092430539688492, median : 0.6340614786439264\n",
      "ph_min : 0.18116042246969324, ph_max : 2.0833448584014724\n",
      "stddev : 0.34918759543968153, IQR : 0.3623208449393865\n",
      "1st quartile : 0.4529010561742331, 3rd quartile : 0.8152219011136196\n",
      "\n",
      "\n",
      "tested_ESN/test_ESN_012\n",
      "num_runs : 100\n",
      "    analysis_time : 28 sec.\n",
      "error_threshold = 0.5, num_runs : 100\n",
      "prediction_horizon : 1.0462014397624784, median : 0.9963823235833129\n",
      "ph_min : 0.27174063370453994, ph_max : 2.8079865482802453\n",
      "stddev : 0.5313245565253178, IQR : 0.6340614786439264\n",
      "1st quartile : 0.724641689878773, 3rd quartile : 1.3587031685226993\n",
      "\n",
      "\n",
      "tested_ESN/test_ESN_013\n",
      "num_runs : 100\n",
      "    analysis_time : 24 sec.\n",
      "error_threshold = 0.5, num_runs : 100\n",
      "prediction_horizon : 0.9755488749992983, median : 0.8152219011136196\n",
      "ph_min : 0.27174063370453994, ph_max : 2.6268261258105525\n",
      "stddev : 0.5341706366732245, IQR : 0.7246416898787729\n",
      "1st quartile : 0.5434812674090799, 3rd quartile : 1.2681229572878527\n",
      "\n",
      "\n",
      "tested_ESN/test_ESN_014\n",
      "num_runs : 100\n",
      "    analysis_time : 26 sec.\n",
      "error_threshold = 0.5, num_runs : 100\n",
      "prediction_horizon : 0.7454751384627878, median : 0.6340614786439264\n",
      "ph_min : 0.18116042246969324, ph_max : 2.898566759515092\n",
      "stddev : 0.44996671537309146, IQR : 0.4529010561742331\n",
      "1st quartile : 0.4529010561742331, 3rd quartile : 0.9058021123484662\n",
      "\n",
      "\n",
      "tested_ESN/test_ESN_015\n",
      "num_runs : 100\n",
      "    analysis_time : 23 sec.\n",
      "error_threshold = 0.5, num_runs : 100\n",
      "prediction_horizon : 0.7644969828221057, median : 0.6340614786439264\n",
      "ph_min : 0.18116042246969324, ph_max : 2.445665703340859\n",
      "stddev : 0.4268471719163997, IQR : 0.4529010561742331\n",
      "1st quartile : 0.4529010561742331, 3rd quartile : 0.9058021123484662\n",
      "\n",
      "\n",
      "tested_ESN/test_ESN_016\n",
      "num_runs : 100\n",
      "    analysis_time : 25 sec.\n",
      "error_threshold = 0.5, num_runs : 100\n",
      "prediction_horizon : 0.7137720645305913, median : 0.6340614786439264\n",
      "ph_min : 0.18116042246969324, ph_max : 2.2645052808711656\n",
      "stddev : 0.34331692495604565, IQR : 0.3623208449393865\n",
      "1st quartile : 0.4529010561742331, 3rd quartile : 0.8152219011136196\n",
      "\n",
      "\n",
      "tested_ESN/test_ESN_017\n",
      "num_runs : 100\n",
      "    analysis_time : 25 sec.\n",
      "error_threshold = 0.5, num_runs : 100\n",
      "prediction_horizon : 1.2762751762989888, median : 1.0869625348181597\n",
      "ph_min : 0.18116042246969324, ph_max : 4.619590772977178\n",
      "stddev : 0.7895659366367562, IQR : 0.9058021123484662\n",
      "1st quartile : 0.724641689878773, 3rd quartile : 1.6304438022272392\n",
      "\n",
      "\n",
      "tested_ESN/test_ESN_018\n",
      "num_runs : 100\n",
      "    analysis_time : 23 sec.\n",
      "error_threshold = 0.5, num_runs : 100\n",
      "prediction_horizon : 0.7690259933838479, median : 0.6340614786439264\n",
      "ph_min : 0.18116042246969324, ph_max : 2.1739250696363195\n",
      "stddev : 0.4276489294476863, IQR : 0.5434812674090799\n",
      "1st quartile : 0.4529010561742331, 3rd quartile : 0.9963823235833129\n",
      "\n",
      "\n",
      "tested_ESN/test_ESN_019\n",
      "num_runs : 100\n",
      "    analysis_time : 28 sec.\n",
      "error_threshold = 0.5, num_runs : 100\n",
      "prediction_horizon : 0.9302587693818748, median : 0.8152219011136196\n",
      "ph_min : 0.4529010561742331, ph_max : 2.1739250696363195\n",
      "stddev : 0.3649955434676148, IQR : 0.5434812674090798\n",
      "1st quartile : 0.6340614786439264, 3rd quartile : 1.1775427460530061\n",
      "\n",
      "\n",
      "tested_ESN/test_ESN_020\n",
      "num_runs : 100\n",
      "    analysis_time : 25 sec.\n",
      "error_threshold = 0.5, num_runs : 100\n",
      "prediction_horizon : 0.8976498933373301, median : 0.8152219011136196\n",
      "ph_min : 0.3623208449393865, ph_max : 2.445665703340859\n",
      "stddev : 0.3845330006351923, IQR : 0.4529010561742334\n",
      "1st quartile : 0.6340614786439264, 3rd quartile : 1.0869625348181597\n",
      "\n",
      "\n",
      "tested_ESN/test_ESN_021\n",
      "num_runs : 100\n",
      "    analysis_time : 27 sec.\n",
      "error_threshold = 0.5, num_runs : 100\n",
      "prediction_horizon : 0.916671737696648, median : 0.8152219011136196\n",
      "ph_min : 0.27174063370453994, ph_max : 3.8949490830984046\n",
      "stddev : 0.511161395399284, IQR : 0.5434812674090799\n",
      "1st quartile : 0.5434812674090799, 3rd quartile : 1.0869625348181597\n",
      "\n",
      "\n",
      "tested_ESN/test_ESN_022\n",
      "num_runs : 100\n",
      "    analysis_time : 23 sec.\n",
      "error_threshold = 0.5, num_runs : 100\n",
      "prediction_horizon : 0.8750048405286183, median : 0.8152219011136196\n",
      "ph_min : 0.4529010561742331, ph_max : 3.442048026924172\n",
      "stddev : 0.40003650711135147, IQR : 0.4529010561742334\n",
      "1st quartile : 0.6340614786439264, 3rd quartile : 1.0869625348181597\n",
      "\n",
      "\n"
     ]
    },
    {
     "name": "stdout",
     "output_type": "stream",
     "text": [
      "tested_ESN/test_ESN_023\n",
      "num_runs : 100\n",
      "    analysis_time : 25 sec.\n",
      "error_threshold = 0.5, num_runs : 100\n",
      "prediction_horizon : 0.7744608060579387, median : 0.724641689878773\n",
      "ph_min : 0.09058021123484662, ph_max : 2.445665703340859\n",
      "stddev : 0.4316363292852413, IQR : 0.4529010561742331\n",
      "1st quartile : 0.4529010561742331, 3rd quartile : 0.9058021123484662\n",
      "\n",
      "\n",
      "tested_ESN/test_ESN_024\n",
      "num_runs : 100\n",
      "    analysis_time : 25 sec.\n",
      "error_threshold = 0.5, num_runs : 100\n",
      "prediction_horizon : 0.5806191540153669, median : 0.5434812674090799\n",
      "ph_min : 0.18116042246969324, ph_max : 1.1775427460530061\n",
      "stddev : 0.20258198934904142, IQR : 0.18116042246969327\n",
      "1st quartile : 0.4529010561742331, 3rd quartile : 0.6340614786439264\n",
      "\n",
      "\n",
      "tested_ESN/test_ESN_025\n",
      "num_runs : 100\n",
      "    analysis_time : 23 sec.\n",
      "error_threshold = 0.5, num_runs : 100\n",
      "prediction_horizon : 1.0344260123019486, median : 0.9058021123484662\n",
      "ph_min : 0.27174063370453994, ph_max : 2.989146970749939\n",
      "stddev : 0.5538267005610368, IQR : 0.6340614786439264\n",
      "1st quartile : 0.6340614786439264, 3rd quartile : 1.2681229572878527\n",
      "\n",
      "\n",
      "tested_ESN/test_ESN_026\n",
      "num_runs : 100\n",
      "    analysis_time : 27 sec.\n",
      "error_threshold = 0.5, num_runs : 100\n",
      "prediction_horizon : 1.6014581346320882, median : 1.449283379757546\n",
      "ph_min : 0.18116042246969324, ph_max : 4.076109505568098\n",
      "stddev : 0.8403852163777263, IQR : 0.9963823235833129\n",
      "1st quartile : 0.9963823235833129, 3rd quartile : 1.9927646471666258\n",
      "\n",
      "\n",
      "tested_ESN/test_ESN_027\n",
      "num_runs : 100\n",
      "    analysis_time : 24 sec.\n",
      "error_threshold = 0.5, num_runs : 100\n",
      "prediction_horizon : 1.0090635531561913, median : 0.9058021123484662\n",
      "ph_min : 0.09058021123484662, ph_max : 2.8079865482802453\n",
      "stddev : 0.47725027676837156, IQR : 0.6340614786439264\n",
      "1st quartile : 0.6340614786439264, 3rd quartile : 1.2681229572878527\n",
      "\n",
      "\n",
      "tested_ESN/test_ESN_028\n",
      "num_runs : 100\n",
      "    analysis_time : 27 sec.\n",
      "error_threshold = 0.5, num_runs : 100\n",
      "prediction_horizon : 1.9764602091443542, median : 1.9021844359317792\n",
      "ph_min : 0.3623208449393865, ph_max : 5.978293941499878\n",
      "stddev : 0.9210168084231994, IQR : 0.9058021123484663\n",
      "1st quartile : 1.3587031685226993, 3rd quartile : 2.2645052808711656\n",
      "\n",
      "\n",
      "tested_ESN/test_ESN_029\n",
      "num_runs : 100\n",
      "    analysis_time : 27 sec.\n",
      "error_threshold = 0.5, num_runs : 100\n",
      "prediction_horizon : 1.902184435931779, median : 1.721024013462086\n",
      "ph_min : 0.3623208449393865, ph_max : 5.344232462855951\n",
      "stddev : 0.8529943830416165, IQR : 0.8152219011136201\n",
      "1st quartile : 1.3587031685226993, 3rd quartile : 2.1739250696363195\n",
      "\n",
      "\n",
      "tested_ESN/test_ESN_030\n",
      "num_runs : 100\n",
      "    analysis_time : 24 sec.\n",
      "error_threshold = 0.5, num_runs : 100\n",
      "prediction_horizon : 2.1078015154348813, median : 2.0833448584014724\n",
      "ph_min : 0.3623208449393865, ph_max : 4.347850139272639\n",
      "stddev : 0.7417468539508058, IQR : 0.9058021123484663\n",
      "1st quartile : 1.6304438022272392, 3rd quartile : 2.5362459145757055\n",
      "\n",
      "\n",
      "tested_ESN/test_ESN_031\n",
      "num_runs : 100\n",
      "    analysis_time : 26 sec.\n",
      "error_threshold = 0.5, num_runs : 100\n",
      "prediction_horizon : 2.2237441858154847, median : 2.2645052808711656\n",
      "ph_min : 0.09058021123484662, ph_max : 5.434812674090797\n",
      "stddev : 0.8335717453471868, IQR : 0.9963823235833127\n",
      "1st quartile : 1.721024013462086, 3rd quartile : 2.7174063370453987\n",
      "\n",
      "\n",
      "tested_ESN/test_ESN_032\n",
      "num_runs : 100\n",
      "    analysis_time : 23 sec.\n",
      "error_threshold = 0.5, num_runs : 100\n",
      "prediction_horizon : 1.5797188839357248, median : 1.449283379757546\n",
      "ph_min : 0.09058021123484662, ph_max : 3.9855292943332516\n",
      "stddev : 0.7814421548022707, IQR : 0.996382323583313\n",
      "1st quartile : 0.9058021123484662, 3rd quartile : 1.9021844359317792\n",
      "\n",
      "\n",
      "tested_ESN/test_ESN_033\n",
      "num_runs : 100\n",
      "    analysis_time : 27 sec.\n",
      "error_threshold = 0.5, num_runs : 100\n",
      "prediction_horizon : 2.094214483749654, median : 1.9927646471666258\n",
      "ph_min : 0.3623208449393865, ph_max : 4.438430350507485\n",
      "stddev : 0.7963108268954414, IQR : 0.9963823235833127\n",
      "1st quartile : 1.5398635909923928, 3rd quartile : 2.5362459145757055\n",
      "\n",
      "\n",
      "tested_ESN/test_ESN_034\n",
      "num_runs : 100\n",
      "    analysis_time : 22 sec.\n",
      "error_threshold = 0.5, num_runs : 100\n",
      "prediction_horizon : 1.9556267605603386, median : 1.9021844359317792\n",
      "ph_min : 0.09058021123484662, ph_max : 5.344232462855951\n",
      "stddev : 1.013292204126715, IQR : 1.0869625348181595\n",
      "1st quartile : 1.3587031685226993, 3rd quartile : 2.445665703340859\n",
      "\n",
      "\n",
      "tested_ESN/test_ESN_035\n",
      "num_runs : 100\n",
      "    analysis_time : 26 sec.\n",
      "error_threshold = 0.5, num_runs : 100\n",
      "prediction_horizon : 1.9828008239307928, median : 1.9021844359317792\n",
      "ph_min : 0.09058021123484662, ph_max : 5.978293941499878\n",
      "stddev : 1.0764874100469697, IQR : 1.2681229572878527\n",
      "1st quartile : 1.2681229572878527, 3rd quartile : 2.5362459145757055\n",
      "\n",
      "\n",
      "tested_ESN/test_ESN_036\n",
      "num_runs : 100\n",
      "    analysis_time : 26 sec.\n",
      "error_threshold = 0.5, num_runs : 100\n",
      "prediction_horizon : 1.961967375346778, median : 1.6304438022272392\n",
      "ph_min : 0.09058021123484662, ph_max : 5.344232462855951\n",
      "stddev : 1.1196989194330456, IQR : 1.7210240134620858\n",
      "1st quartile : 0.9963823235833129, 3rd quartile : 2.7174063370453987\n",
      "\n",
      "\n",
      "tested_ESN/test_ESN_037\n",
      "num_runs : 100\n",
      "    analysis_time : 23 sec.\n",
      "error_threshold = 0.5, num_runs : 100\n",
      "prediction_horizon : 1.047107241874827, median : 0.8152219011136196\n",
      "ph_min : 0.27174063370453994, ph_max : 2.898566759515092\n",
      "stddev : 0.6007482837494412, IQR : 0.8152219011136195\n",
      "1st quartile : 0.5434812674090799, 3rd quartile : 1.3587031685226993\n",
      "\n",
      "\n",
      "tested_ESN/test_ESN_038\n",
      "num_runs : 100\n",
      "    analysis_time : 26 sec.\n",
      "error_threshold = 0.5, num_runs : 100\n",
      "prediction_horizon : 1.125006223536795, median : 0.9963823235833129\n",
      "ph_min : 0.27174063370453994, ph_max : 3.0797271819847856\n",
      "stddev : 0.5729053358826219, IQR : 0.724641689878773\n",
      "1st quartile : 0.724641689878773, 3rd quartile : 1.449283379757546\n",
      "\n",
      "\n",
      "tested_ESN/test_ESN_039\n",
      "num_runs : 100\n",
      "    analysis_time : 23 sec.\n",
      "error_threshold = 0.5, num_runs : 100\n",
      "prediction_horizon : 1.9257352908528396, median : 1.6304438022272392\n",
      "ph_min : 0.09058021123484662, ph_max : 5.434812674090797\n",
      "stddev : 1.1184085074321561, IQR : 1.6304438022272396\n",
      "1st quartile : 0.9963823235833129, 3rd quartile : 2.6268261258105525\n",
      "\n",
      "\n",
      "tested_ESN/test_ESN_040\n",
      "num_runs : 100\n",
      "    analysis_time : 28 sec.\n",
      "error_threshold = 0.5, num_runs : 100\n",
      "prediction_horizon : 1.8215680479327658, median : 1.8116042246969324\n",
      "ph_min : 0.09058021123484662, ph_max : 4.076109505568098\n",
      "stddev : 0.8391165186820762, IQR : 1.1775427460530061\n",
      "1st quartile : 1.2681229572878527, 3rd quartile : 2.445665703340859\n",
      "\n",
      "\n",
      "tested_ESN/test_ESN_041\n",
      "num_runs : 100\n",
      "    analysis_time : 23 sec.\n",
      "error_threshold = 0.5, num_runs : 100\n",
      "prediction_horizon : 1.9438513330998088, median : 1.9021844359317792\n",
      "ph_min : 0.09058021123484662, ph_max : 5.978293941499878\n",
      "stddev : 1.0200972715483858, IQR : 1.0869625348181595\n",
      "1st quartile : 1.3587031685226993, 3rd quartile : 2.445665703340859\n",
      "\n",
      "\n",
      "tested_ESN/test_ESN_042\n",
      "num_runs : 100\n",
      "    analysis_time : 24 sec.\n",
      "error_threshold = 0.5, num_runs : 100\n",
      "prediction_horizon : 2.4112452230716177, median : 2.2645052808711656\n",
      "ph_min : 0.09058021123484662, ph_max : 5.978293941499878\n",
      "stddev : 1.0649074389412925, IQR : 1.0869625348181593\n",
      "1st quartile : 1.721024013462086, 3rd quartile : 2.8079865482802453\n",
      "\n",
      "\n",
      "tested_ESN/test_ESN_043\n",
      "num_runs : 100\n",
      "    analysis_time : 24 sec.\n",
      "error_threshold = 0.5, num_runs : 100\n",
      "prediction_horizon : 1.729176232473222, median : 1.6304438022272392\n",
      "ph_min : 0.09058021123484662, ph_max : 3.9855292943332516\n",
      "stddev : 0.7892541300601709, IQR : 1.0869625348181595\n",
      "1st quartile : 1.2681229572878527, 3rd quartile : 2.3550854921060123\n",
      "\n",
      "\n",
      "tested_ESN/test_ESN_044\n",
      "num_runs : 100\n",
      "    analysis_time : 23 sec.\n",
      "error_threshold = 0.5, num_runs : 100\n",
      "prediction_horizon : 2.175736673861016, median : 2.1739250696363195\n",
      "ph_min : 0.3623208449393865, ph_max : 5.615973096560491\n",
      "stddev : 0.9273732790638842, IQR : 1.1775427460530066\n",
      "1st quartile : 1.449283379757546, 3rd quartile : 2.6268261258105525\n",
      "\n",
      "\n",
      "tested_ESN/test_ESN_045\n",
      "num_runs : 100\n",
      "    analysis_time : 23 sec.\n",
      "error_threshold = 0.5, num_runs : 100\n",
      "prediction_horizon : 2.2735633019946504, median : 2.2645052808711656\n",
      "ph_min : 0.3623208449393865, ph_max : 5.1630720403862576\n",
      "stddev : 0.8801208873469941, IQR : 0.9058021123484665\n",
      "1st quartile : 1.721024013462086, 3rd quartile : 2.6268261258105525\n",
      "\n",
      "\n",
      "tested_ESN/test_ESN_046\n",
      "num_runs : 100\n"
     ]
    },
    {
     "name": "stdout",
     "output_type": "stream",
     "text": [
      "    analysis_time : 23 sec.\n",
      "error_threshold = 0.5, num_runs : 100\n",
      "prediction_horizon : 2.375918940690027, median : 2.2645052808711656\n",
      "ph_min : 0.3623208449393865, ph_max : 5.978293941499878\n",
      "stddev : 0.9281581472061512, IQR : 0.9058021123484663\n",
      "1st quartile : 1.8116042246969324, 3rd quartile : 2.7174063370453987\n",
      "\n",
      "\n",
      "tested_ESN/test_ESN_047\n",
      "num_runs : 100\n",
      "    analysis_time : 24 sec.\n",
      "error_threshold = 0.5, num_runs : 100\n",
      "prediction_horizon : 2.2554472597476813, median : 2.1739250696363195\n",
      "ph_min : 0.3623208449393865, ph_max : 5.978293941499878\n",
      "stddev : 0.9893167187853009, IQR : 0.9963823235833127\n",
      "1st quartile : 1.5398635909923928, 3rd quartile : 2.5362459145757055\n",
      "\n",
      "\n",
      "tested_ESN/test_ESN_048\n",
      "num_runs : 100\n",
      "    analysis_time : 23 sec.\n",
      "error_threshold = 0.5, num_runs : 100\n",
      "prediction_horizon : 1.7934881824499633, median : 1.721024013462086\n",
      "ph_min : 0.3623208449393865, ph_max : 3.6232084493938648\n",
      "stddev : 0.6563159833767919, IQR : 0.7246416898787731\n",
      "1st quartile : 1.3587031685226993, 3rd quartile : 2.0833448584014724\n",
      "\n",
      "\n",
      "tested_ESN/test_ESN_049\n",
      "num_runs : 100\n",
      "    analysis_time : 27 sec.\n",
      "error_threshold = 0.5, num_runs : 100\n",
      "prediction_horizon : 1.8215680479327656, median : 1.721024013462086\n",
      "ph_min : 0.27174063370453994, ph_max : 4.076109505568098\n",
      "stddev : 0.8095555387995758, IQR : 1.0869625348181595\n",
      "1st quartile : 1.2681229572878527, 3rd quartile : 2.3550854921060123\n",
      "\n",
      "\n",
      "tested_ESN/test_ESN_050\n",
      "num_runs : 100\n",
      "    analysis_time : 23 sec.\n",
      "error_threshold = 0.5, num_runs : 100\n",
      "prediction_horizon : 0.8596062046186945, median : 0.8152219011136196\n",
      "ph_min : 0.3623208449393865, ph_max : 2.1739250696363195\n",
      "stddev : 0.378814847193817, IQR : 0.5434812674090799\n",
      "1st quartile : 0.5434812674090799, 3rd quartile : 1.0869625348181597\n",
      "\n",
      "\n",
      "tested_ESN/test_ESN_051\n",
      "num_runs : 100\n",
      "    analysis_time : 26 sec.\n",
      "error_threshold = 0.5, num_runs : 100\n",
      "prediction_horizon : 1.0407666270883877, median : 0.8152219011136196\n",
      "ph_min : 0.18116042246969324, ph_max : 4.438430350507485\n",
      "stddev : 0.70437341208847, IQR : 0.6340614786439264\n",
      "1st quartile : 0.6340614786439264, 3rd quartile : 1.2681229572878527\n",
      "\n",
      "\n",
      "tested_ESN/test_ESN_052\n",
      "num_runs : 100\n",
      "    analysis_time : 23 sec.\n",
      "error_threshold = 0.5, num_runs : 100\n",
      "prediction_horizon : 2.0924028795249567, median : 1.9021844359317792\n",
      "ph_min : 0.4529010561742331, ph_max : 3.9855292943332516\n",
      "stddev : 0.7338115299027016, IQR : 0.9963823235833127\n",
      "1st quartile : 1.5398635909923928, 3rd quartile : 2.5362459145757055\n",
      "\n",
      "\n",
      "tested_ESN/test_ESN_053\n",
      "num_runs : 100\n",
      "    analysis_time : 28 sec.\n",
      "error_threshold = 0.5, num_runs : 100\n",
      "prediction_horizon : 1.856894330314356, median : 1.721024013462086\n",
      "ph_min : 0.09058021123484662, ph_max : 4.529010561742331\n",
      "stddev : 0.8993023067693275, IQR : 0.9058021123484663\n",
      "1st quartile : 1.3587031685226993, 3rd quartile : 2.2645052808711656\n",
      "\n",
      "\n",
      "tested_ESN/test_ESN_054\n",
      "num_runs : 100\n",
      "    analysis_time : 25 sec.\n",
      "error_threshold = 0.5, num_runs : 100\n",
      "prediction_horizon : 1.1005495665033864, median : 1.0869625348181597\n",
      "ph_min : 0.09058021123484662, ph_max : 2.898566759515092\n",
      "stddev : 0.5762175967904514, IQR : 0.8152219011136196\n",
      "1st quartile : 0.6340614786439264, 3rd quartile : 1.449283379757546\n",
      "\n",
      "\n",
      "tested_ESN/test_ESN_055\n",
      "num_runs : 100\n",
      "    analysis_time : 27 sec.\n",
      "error_threshold = 0.5, num_runs : 100\n",
      "prediction_horizon : 0.86232361095574, median : 0.724641689878773\n",
      "ph_min : 0.09058021123484662, ph_max : 2.445665703340859\n",
      "stddev : 0.44494711013026583, IQR : 0.6340614786439263\n",
      "1st quartile : 0.5434812674090799, 3rd quartile : 1.1775427460530061\n",
      "\n",
      "\n",
      "tested_ESN/test_ESN_056\n",
      "num_runs : 100\n",
      "    analysis_time : 28 sec.\n",
      "error_threshold = 0.5, num_runs : 100\n",
      "prediction_horizon : 2.250918249185939, median : 2.0833448584014724\n",
      "ph_min : 0.09058021123484662, ph_max : 5.344232462855951\n",
      "stddev : 1.123514161297063, IQR : 1.449283379757546\n",
      "1st quartile : 1.449283379757546, 3rd quartile : 2.898566759515092\n",
      "\n",
      "\n",
      "tested_ESN/test_ESN_057\n",
      "num_runs : 100\n",
      "    analysis_time : 25 sec.\n",
      "error_threshold = 0.5, num_runs : 100\n",
      "prediction_horizon : 2.140410391479426, median : 1.9021844359317792\n",
      "ph_min : 0.09058021123484662, ph_max : 5.978293941499878\n",
      "stddev : 1.2030917395895389, IQR : 1.3587031685226993\n",
      "1st quartile : 1.3587031685226993, 3rd quartile : 2.7174063370453987\n",
      "\n",
      "\n",
      "tested_ESN/test_ESN_058\n",
      "num_runs : 100\n",
      "    analysis_time : 28 sec.\n",
      "error_threshold = 0.5, num_runs : 100\n",
      "prediction_horizon : 1.8605175387637494, median : 1.8116042246969324\n",
      "ph_min : 0.3623208449393865, ph_max : 4.529010561742331\n",
      "stddev : 0.6854737905708973, IQR : 0.7246416898787735\n",
      "1st quartile : 1.449283379757546, 3rd quartile : 2.1739250696363195\n",
      "\n",
      "\n",
      "tested_ESN/test_ESN_059\n",
      "num_runs : 100\n",
      "    analysis_time : 26 sec.\n",
      "error_threshold = 0.5, num_runs : 100\n",
      "prediction_horizon : 0.6721051673625621, median : 0.6340614786439264\n",
      "ph_min : 0.18116042246969324, ph_max : 1.5398635909923928\n",
      "stddev : 0.21896442917999984, IQR : 0.2717406337045397\n",
      "1st quartile : 0.5434812674090799, 3rd quartile : 0.8152219011136196\n",
      "\n",
      "\n"
     ]
    }
   ],
   "source": [
    "x0 = []\n",
    "ph_mean = []\n",
    "ph_median = []\n",
    "ae_data_normalization_arr = normalization_constant_arr_aedata\n",
    "error_threshold = 0.5\n",
    "\n",
    "for dname in testrnn_dirlist:\n",
    "    analysis_time = time.time()\n",
    "\n",
    "    with open(dname+'/training_specific_params.txt', 'r') as f:\n",
    "        lines = f.readlines()\n",
    "    rnntrainspec_dict = eval(''.join(lines))\n",
    "\n",
    "    lambda_reg_i = rnntrainspec_dict[\"lambda_reg\"]\n",
    "    fRMS_i = rnntrainspec_dict[\"fRMS\"]\n",
    "    degree_of_connectivity_i = rnntrainspec_dict[\"degree_of_connectivity_x0\"]\n",
    "    \n",
    "    with open(dname+'/final_net/0_final_net_class_dict.txt', 'r') as f:\n",
    "        lines = f.readlines()\n",
    "    rnnfnc_dict = eval(''.join(lines))\n",
    "\n",
    "    omega_in_i = rnnfnc_dict[\"omega_in\"]\n",
    "    rho_res_i = rnnfnc_dict[\"rho_res\"]\n",
    "    alpha_i = rnnfnc_dict[\"alpha\"]\n",
    "\n",
    "    lambda_reg_i = rnntrainspec_dict[\"lambda_reg\"]\n",
    "    fRMS_i = rnntrainspec_dict[\"fRMS\"]\n",
    "    degree_of_connectivity_i = rnntrainspec_dict[\"degree_of_connectivity_x0\"]\n",
    "    \n",
    "    x0_i = [fRMS_i, lambda_reg_i, rho_res_i, omega_in_i, alpha_i]\n",
    "    if vary_deg_connect == True:\n",
    "        x0_i.append(degree_of_connectivity_i)\n",
    "    x0.append(x0_i)\n",
    "\n",
    "    rnn_load_file, rnn_wt_file = find_and_return_load_wt_file_lists(dname+'/final_net')\n",
    "    \n",
    "    num_runs = AR_testing_data_rnn_input.shape[0]\n",
    "    \n",
    "    AR_rnn_kwargs = {'wts_to_be_loaded':True}\n",
    "    AR_rnn_net = AR_RNN(\n",
    "        load_file=rnn_load_file,\n",
    "        T_input=T_sample_input_AR,\n",
    "        T_output=T_sample_output_AR,\n",
    "        stddev=0.0,\n",
    "        batch_size=num_runs,\n",
    "        lambda_reg=lambda_reg/len(rnn_load_file),\n",
    "        **AR_rnn_kwargs\n",
    "    )\n",
    "    AR_rnn_net.build(input_shape=tuple(AR_testing_data_rnn_input.shape[0:2]) + tuple(testing_data_rnn_input.shape[2:]))\n",
    "    AR_rnn_net.load_weights_from_file(rnn_wt_file)\n",
    "\n",
    "    AR_AERNN_net = AR_AERNN(\n",
    "        ae_net,\n",
    "        AR_rnn_net,\n",
    "        normalization_arr,\n",
    "        normalization_constant_arr_aedata,\n",
    "        covmat_lmda=0.0,\n",
    "        time_stddev_ogdata=time_stddev_ogdata,\n",
    "        time_mean_ogdata=time_mean_ogdata,\n",
    "        loss_weights=None,\n",
    "        clipnorm=None,\n",
    "        global_clipnorm=None\n",
    "    )\n",
    "    AR_AERNN_net.build(input_shape=AR_testing_data_rnn_input.shape)\n",
    "\n",
    "    savefig_fname = 'pre_ARtraining-testingdata--combinedAERNN--ZEROoutsteps'\n",
    "    npsavedata_fname = '/prediction_horizons-testingdata--combinedAERNN--ZEROoutsteps'\n",
    "    plot_dir = '/plots'\n",
    "\n",
    "    sidx1 = dname[::-1].index('/')\n",
    "    sidx2 = dname[-sidx1-2::-1].index('/')\n",
    "    print(dname[-(sidx1+sidx2+1):])\n",
    "    print('num_runs :', num_runs)\n",
    "\n",
    "    prediction_horizon_arr = np.empty(shape=num_runs)\n",
    "    prediction = np.array(AR_AERNN_net.call(AR_testing_data_rnn_input, training=False))\n",
    "    prediction = invert_normalization(prediction, ae_data_normalization_arr)\n",
    "    if len(prediction.shape) == 4:\n",
    "        print(prediction.shape)\n",
    "        prediction = prediction[0]\n",
    "\n",
    "    data_in_og = AR_testing_data_rnn_input\n",
    "    data_out_og = AR_testing_data_rnn_output\n",
    "\n",
    "    energySpectrum_dataout = 0.0\n",
    "    energySpectrum_pred = 0.0\n",
    "\n",
    "    avg_time = 0.\n",
    "    for i in range(num_runs):\n",
    "        run_time = time.time()\n",
    "        lyap_time = lyapunov_time_arr[0]\n",
    "\n",
    "        data_out = data_out_og[i]\n",
    "        data_out = invert_normalization(data_out, ae_data_normalization_arr)\n",
    "\n",
    "        ### Error and prediction horizon\n",
    "        error = (data_out - prediction[i])**2\n",
    "        error = np.mean(np.divide(error, time_stddev_ogdata**2), axis=1)**0.5\n",
    "\n",
    "        predhor_idx = np.where(error >= error_threshold)[0]\n",
    "        if predhor_idx.shape[0] == 0:\n",
    "            predhor_idx = error.shape[0]\n",
    "        else:\n",
    "            predhor_idx = predhor_idx[0]\n",
    "\n",
    "        prediction_horizon_arr[i] = predhor_idx*dt_rnn/lyap_time\n",
    "        \n",
    "        run_time = time.time() - run_time\n",
    "        avg_time = (avg_time*i + run_time)/(i+1)\n",
    "        eta = avg_time * (num_runs-1 - i)\n",
    "        # print('    {} / {} -- run_time : {:.2f} s -- eta : {:.0f}h {:.0f}m {:.0f}s'.format(\n",
    "        #     i+1,\n",
    "        #     num_runs,\n",
    "        #     run_time,\n",
    "        #     float(eta // 3600),\n",
    "        #     float((eta%3600)//60),\n",
    "        #     float((eta%3600)%60),\n",
    "        # ))\n",
    "\n",
    "    median_idx = int(np.round(0.5*num_runs-1))\n",
    "    quartile_1_idx = int(np.round(0.25*num_runs-1))\n",
    "    quartile_3_idx = int(np.round(0.75*num_runs-1))\n",
    "\n",
    "    prediction_horizon_arr.sort()\n",
    "\n",
    "    median = prediction_horizon_arr[median_idx]\n",
    "    quartile_1 = prediction_horizon_arr[quartile_1_idx]\n",
    "    quartile_3 = prediction_horizon_arr[quartile_3_idx]\n",
    "    IQR = quartile_3 - quartile_1\n",
    "\n",
    "    prediction_horizon = np.mean(prediction_horizon_arr)\n",
    "    stddev_ph = np.std(prediction_horizon_arr)\n",
    "\n",
    "    analysis_time = time.time() - analysis_time\n",
    "    s = 'error_threshold = {}, num_runs : {}\\n'.format(error_threshold, num_runs)\n",
    "    s += 'prediction_horizon : {}, median : {}\\n'.format(prediction_horizon, median)\n",
    "    s += 'ph_min : {}, ph_max : {}\\n'.format(prediction_horizon_arr.min(), prediction_horizon_arr.max())\n",
    "    s += 'stddev : {}, IQR : {}\\n'.format(stddev_ph, IQR)\n",
    "    s += '1st quartile : {}, 3rd quartile : {}\\n\\n'.format(quartile_1, quartile_3)\n",
    "\n",
    "    print('    analysis_time : {:.0f} sec.\\n'.format(analysis_time)+s)\n",
    "    \n",
    "    ph_mean.append(prediction_horizon)\n",
    "    ph_median.append(median)\n",
    "    \n",
    "    plot_histogram_and_save(\n",
    "        prediction_horizon_arr, median,\n",
    "        save_dir=dname+'/plots',\n",
    "        savefig_fname=savefig_fname,\n",
    "    )\n",
    "\n",
    "    np.savez(\n",
    "        dname+npsavedata_fname,\n",
    "        prediction_horizon_arr=prediction_horizon_arr,\n",
    "        error_threshold=error_threshold,\n",
    "    )\n",
    "\n",
    "    with open(dname+npsavedata_fname+'--statistics.txt', 'w') as fl:\n",
    "        fl.write(s)"
   ]
  },
  {
   "cell_type": "code",
   "execution_count": 54,
   "metadata": {
    "colab": {
     "base_uri": "https://localhost:8080/"
    },
    "executionInfo": {
     "elapsed": 3631,
     "status": "ok",
     "timestamp": 1667868783230,
     "user": {
      "displayName": "Rohan Kaushik",
      "userId": "13918477614376051685"
     },
     "user_tz": -60
    },
    "id": "Py-Jg0QKneQk",
    "outputId": "1b768270-9013-4d53-8b5e-63e69776e3ac",
    "scrolled": false
   },
   "outputs": [
    {
     "data": {
      "image/png": "[encoded data removed]",
      "text/plain": [
       "<Figure size 640x480 with 1 Axes>"
      ]
     },
     "metadata": {},
     "output_type": "display_data"
    }
   ],
   "source": [
    "ph_mean = np.array(ph_mean)\n",
    "ph_median = np.array(ph_median)\n",
    "\n",
    "plt.plot(np.arange(0, n_pregp+1), ph_mean[0:n_pregp+1], color='C0', linestyle='--', marker='o', label='__nolegend__')\n",
    "plt.plot(np.arange(n_pregp, ph_mean.shape[0]), ph_mean[n_pregp:], color='C0', linestyle='-', marker='s', label='mean')\n",
    "\n",
    "plt.plot(np.arange(0, n_pregp+1), ph_median[0:n_pregp+1], color='C1', linestyle='--', marker='o', label='__nolegend__')\n",
    "plt.plot(np.arange(n_pregp, ph_median.shape[0]), ph_median[n_pregp:], color='C1', linestyle='-', marker='s', label='median')\n",
    "\n",
    "plt.xlabel('Iteration', fontsize=15)\n",
    "plt.ylabel('Prediction Horizon $[ LT ]$', fontsize=15)\n",
    "plt.grid(True)\n",
    "\n",
    "plt.legend(fontsize=12)\n",
    "\n",
    "# plt.show()\n",
    "plt.savefig(dir_name_rnn+'/plots/CORRECTED_PH.pdf', dpi=300, bbox_inches='tight')"
   ]
  },
  {
   "cell_type": "code",
   "execution_count": 55,
   "metadata": {},
   "outputs": [],
   "source": [
    "np.savez(\n",
    "    dir_name_rnn+'/corrected_ph',\n",
    "    ph_median=ph_median,\n",
    "    ph_mean=ph_mean,\n",
    "    num_runs=num_runs,\n",
    "    error_threshold=error_threshold,\n",
    ")\n",
    "\n",
    "write_dict = {\n",
    "    'ph_median':ph_median,\n",
    "    'ph_mean':ph_mean,\n",
    "    'num_runs':num_runs,\n",
    "    'error_threshold':error_threshold,\n",
    "}\n",
    "with open(dir_name_rnn+'/corrected_ph.txt', 'w') as f:\n",
    "    f.write(str(write_dict))"
   ]
  },
  {
   "cell_type": "code",
   "execution_count": null,
   "metadata": {
    "executionInfo": {
     "elapsed": 4,
     "status": "ok",
     "timestamp": 1667868783568,
     "user": {
      "displayName": "Rohan Kaushik",
      "userId": "13918477614376051685"
     },
     "user_tz": -60
    },
    "id": "7ASCopnIH6nl"
   },
   "outputs": [],
   "source": []
  },
  {
   "cell_type": "code",
   "execution_count": null,
   "metadata": {},
   "outputs": [],
   "source": []
  },
  {
   "cell_type": "code",
   "execution_count": null,
   "metadata": {},
   "outputs": [],
   "source": []
  },
  {
   "cell_type": "code",
   "execution_count": null,
   "metadata": {},
   "outputs": [],
   "source": [
    "training_data_rnn_input.dtype"
   ]
  },
  {
   "cell_type": "code",
   "execution_count": null,
   "metadata": {
    "colab": {
     "base_uri": "https://localhost:8080/"
    },
    "executionInfo": {
     "elapsed": 4769220,
     "status": "ok",
     "timestamp": 1667873552785,
     "user": {
      "displayName": "Rohan Kaushik",
      "userId": "13918477614376051685"
     },
     "user_tz": -60
    },
    "id": "6hh1pbKjCcO4",
    "outputId": "e594f4de-ec70-465e-eef7-bdef301361fa",
    "scrolled": true
   },
   "outputs": [],
   "source": [
    "def optim_func(\n",
    "        x, # [fRMS, lambda_reg, zoneout]\n",
    "        time_stddev=time_stddev,\n",
    "        og_vars=og_vars,\n",
    "        RNN_GRU=RNN_GRU,\n",
    "        AR_RNN_GRU=AR_RNN_GRU,\n",
    "        AR_AERNN_GRU=AR_AERNN_GRU,\n",
    "        ae_net=ae_net,\n",
    "        mytimecallback=mytimecallback,\n",
    "        SaveLosses=SaveLosses,\n",
    "        plot_losses=plot_losses,\n",
    "        dir_name_rnn=dir_name_rnn,\n",
    "        boundary_idx_arr=rnn_data_boundary_idx_arr,\n",
    "        lyapunov_time_arr=lyapunov_time_arr,\n",
    "        sim_data_dict=sim_data,\n",
    "        RNN_specific_data_dict=RNN_specific_data,\n",
    "        training_specific_params_dict=training_specific_params,\n",
    "        normalization_arr=normalization_arr,\n",
    "        training_data_rnn_input=training_data_rnn_input,\n",
    "        training_data_rnn_output=training_data_rnn_output,\n",
    "        testing_data_rnn_input=testing_data_rnn_input,\n",
    "        testing_data_rnn_output=testing_data_rnn_output,\n",
    "        val_data_rnn_input=val_data_rnn_input,\n",
    "        val_data_rnn_output=val_data_rnn_output,\n",
    "        AR_testing_data_rnn_input=AR_testing_data_rnn_input,\n",
    "        AR_testing_data_rnn_output=AR_testing_data_rnn_output,\n",
    "        return_params_arr=return_params_arr,\n",
    "        normalize_dataset=normalize_dataset,\n",
    "        dt_rnn=dt_rnn,\n",
    "        noise_type=noise_type,\n",
    "        ae_data_normalization_arr=normalization_constant_arr_aedata,\n",
    "        time_stddev_ogdata=time_stddev_ogdata,\n",
    "        time_mean_ogdata=time_mean_ogdata,\n",
    "        T_sample_input=T_sample_input_AR,\n",
    "        T_sample_output=T_sample_output_AR,\n",
    "        rnn_layers_units=rnn_layers_units,\n",
    "        stateful=stateful,\n",
    "        reg_name='L2',\n",
    "        dense_layer_act_func=dense_layer_act_func,\n",
    "        use_learnable_state=use_learnable_state,\n",
    "        use_weights_post_dense=use_weights_post_dense,\n",
    "        rnncell_dropout_rate=rnncell_dropout_rate,\n",
    "        denselayer_dropout_rate=denselayer_dropout_rate,\n",
    "        scalar_weights=scalar_weights,\n",
    "        prng_seed=prng_seed,\n",
    "        epochs=epochs,\n",
    "        learning_rate_list=learning_rate_list,\n",
    "        patience=patience,  # parameter for early stopping\n",
    "        min_delta=min_delta,  # parameter for early stopping\n",
    "        batch_size=batch_size,\n",
    "        zoneout=zoneout_x0,\n",
    "    ):\n",
    "    \n",
    "    compute_time = time.time()\n",
    "    \n",
    "    x = [elem for elem in np.array(x).flatten()]\n",
    "    if len(x) < 3:\n",
    "        x.append(zoneout)\n",
    "\n",
    "    median_PH = trainGRU_and_return_PH(\n",
    "        x, # [fRMS, lambda_reg, zoneout]\n",
    "        time_stddev,\n",
    "        og_vars,\n",
    "        RNN_GRU,\n",
    "        AR_RNN_GRU,\n",
    "        AR_AERNN_GRU,\n",
    "        ae_net,\n",
    "        mytimecallback,\n",
    "        SaveLosses,\n",
    "        plot_losses,\n",
    "        dir_name_rnn,\n",
    "        boundary_idx_arr,\n",
    "        lyapunov_time_arr,\n",
    "        sim_data_dict,\n",
    "        RNN_specific_data_dict,\n",
    "        training_specific_params_dict,\n",
    "        normalization_arr,\n",
    "        training_data_rnn_input,\n",
    "        training_data_rnn_output,\n",
    "        testing_data_rnn_input,\n",
    "        testing_data_rnn_output,\n",
    "        val_data_rnn_input,\n",
    "        val_data_rnn_output,\n",
    "        AR_testing_data_rnn_input,\n",
    "        AR_testing_data_rnn_output,\n",
    "        return_params_arr,\n",
    "        normalize_dataset,\n",
    "        dt_rnn,\n",
    "        noise_type,\n",
    "        ae_data_normalization_arr,\n",
    "        time_stddev_ogdata,\n",
    "        time_mean_ogdata,\n",
    "        T_sample_input=T_sample_input,\n",
    "        T_sample_output=T_sample_output,\n",
    "        rnn_layers_units=rnn_layers_units,\n",
    "        stateful=stateful,\n",
    "        reg_name=reg_name,\n",
    "        dense_layer_act_func=dense_layer_act_func,\n",
    "        use_learnable_state=use_learnable_state,\n",
    "        use_weights_post_dense=use_weights_post_dense,\n",
    "        rnncell_dropout_rate=rnncell_dropout_rate,\n",
    "        denselayer_dropout_rate=denselayer_dropout_rate,\n",
    "        scalar_weights=scalar_weights,\n",
    "        prng_seed=prng_seed,\n",
    "        epochs=epochs,\n",
    "        learning_rate_list=learning_rate_list,\n",
    "        patience=patience,  # parameter for early stopping\n",
    "        min_delta=min_delta,  # parameter for early stopping\n",
    "        batch_size=batch_size,\n",
    "        error_threshold=0.5,\n",
    "        xlabel_kwargs={'fontsize':15},\n",
    "        ylabel_kwargs={'fontsize':15},\n",
    "        legend_kwargs={'fontsize':12},\n",
    "    )\n",
    "    \n",
    "    compute_time = time.time() - compute_time\n",
    "    print('compute_time : {:.0f}h {:.0f}m {:.0f}s'.format(\n",
    "        float(compute_time // 3600),\n",
    "        float((compute_time%3600)//60),\n",
    "        float((compute_time%3600)%60),\n",
    "    ))\n",
    "    \n",
    "    return -median_PH"
   ]
  },
  {
   "cell_type": "code",
   "execution_count": null,
   "metadata": {},
   "outputs": [],
   "source": []
  },
  {
   "cell_type": "code",
   "execution_count": null,
   "metadata": {},
   "outputs": [],
   "source": [
    "x_bounds = [\n",
    "    fRMS_bounds, # fRMS\n",
    "    lambda_reg_bounds, # lambda_reg\n",
    "]\n",
    "if vary_zoneout == True:\n",
    "    x_bounds.append(zoneout_bounds)"
   ]
  },
  {
   "cell_type": "code",
   "execution_count": null,
   "metadata": {},
   "outputs": [],
   "source": [
    "dimensions = [\n",
    "    eval(elem[3])(*elem[0:3]) for elem in x_bounds\n",
    "]"
   ]
  },
  {
   "cell_type": "code",
   "execution_count": null,
   "metadata": {},
   "outputs": [],
   "source": [
    "x0_gp = np.array(x0)[0:n_pregp]\n",
    "print(x0_gp)"
   ]
  },
  {
   "cell_type": "code",
   "execution_count": null,
   "metadata": {},
   "outputs": [],
   "source": [
    "y0_gp = -ph_median[0:n_pregp]\n",
    "print(y0_gp)"
   ]
  },
  {
   "cell_type": "code",
   "execution_count": null,
   "metadata": {},
   "outputs": [],
   "source": [
    "acq_func = \"EI\"\n",
    "n_initial_points = 0\n",
    "# n_calls = n_initial_points + len(x0_gp) + 10\n",
    "n_calls = 10\n",
    "print('n_calls : {}'.format(n_calls))"
   ]
  },
  {
   "cell_type": "code",
   "execution_count": null,
   "metadata": {},
   "outputs": [],
   "source": [
    "optim_dict = {\n",
    "    'fRMS_bounds':x_bounds[0],\n",
    "    'lambda_reg_bounds':x_bounds[1],\n",
    "    'n_calls':n_calls,\n",
    "    'acq_func':acq_func,\n",
    "    'n_initial_points':n_initial_points,\n",
    "    'num_x0':len(x0_gp),\n",
    "    'random_state':prng_seed,\n",
    "    'vary_zoneout':vary_zoneout,\n",
    "}\n",
    "if vary_zoneout == True:\n",
    "    optim_dict['zoneout_bounds'] = x_bounds[2]\n",
    "with open(dir_name_rnn + '/optim_params-corrected.txt', 'w') as f:\n",
    "    f.write(str(optim_dict))"
   ]
  },
  {
   "cell_type": "code",
   "execution_count": null,
   "metadata": {
    "scrolled": true
   },
   "outputs": [],
   "source": [
    "res = gp_minimize(\n",
    "    optim_func,\n",
    "    dimensions,\n",
    "    x0=[[elem2 for elem2 in elem1] for elem1 in x0_gp],\n",
    "    y0=[elem1 for elem1 in y0_gp],\n",
    "    n_calls=n_calls,\n",
    "    n_initial_points=n_initial_points,\n",
    "    random_state=prng_seed,\n",
    "    acq_func=acq_func,\n",
    ")"
   ]
  },
  {
   "cell_type": "code",
   "execution_count": null,
   "metadata": {},
   "outputs": [],
   "source": [
    "# %pdb"
   ]
  },
  {
   "cell_type": "code",
   "execution_count": null,
   "metadata": {},
   "outputs": [],
   "source": [
    "testrnn_dirlist_new = []\n",
    "testrnn_dirlist_idx_new = []\n",
    "for dname in os.listdir(dir_name_rnn+'/tested_rnn'):\n",
    "    if os.path.isdir(os.path.join(dir_name_rnn+'/tested_rnn', dname)):\n",
    "        testrnn_dirlist_new.append(os.path.join(dir_name_rnn+'/tested_rnn', dname))\n",
    "        rnnidx = int(testrnn_dirlist_new[-1][-3:])\n",
    "        testrnn_dirlist_idx_new.append(rnnidx)\n",
    "\n",
    "sorted_idx = np.argsort(testrnn_dirlist_idx_new)\n",
    "testrnn_dirlist_idx_new = np.array(testrnn_dirlist_idx_new)[sorted_idx]\n",
    "testrnn_dirlist_new = np.array(testrnn_dirlist_new)[sorted_idx]"
   ]
  },
  {
   "cell_type": "code",
   "execution_count": null,
   "metadata": {},
   "outputs": [],
   "source": [
    "print(testrnn_dirlist_new)"
   ]
  },
  {
   "cell_type": "code",
   "execution_count": null,
   "metadata": {
    "scrolled": true
   },
   "outputs": [],
   "source": [
    "x0_new = [[elem2 for elem2 in elem1] for elem1 in x0]\n",
    "ph_mean_new = [elem1 for elem1 in ph_mean]\n",
    "ph_median_new = [elem1 for elem1 in ph_median]\n",
    "ae_data_normalization_arr = normalization_constant_arr_aedata\n",
    "error_threshold = 0.5\n",
    "\n",
    "for dname in testrnn_dirlist_new[testrnn_dirlist.shape[0]:]:\n",
    "    analysis_time = time.time()\n",
    "\n",
    "    with open(dname+'/training_specific_params.txt', 'r') as f:\n",
    "        lines = f.readlines()\n",
    "    rnntrainspec_dict = eval(''.join(lines))\n",
    "\n",
    "    lambda_reg_i = rnntrainspec_dict[\"lambda_reg\"]\n",
    "    fRMS_i = rnntrainspec_dict[\"fRMS\"]\n",
    "    zoneout_rate_i = rnntrainspec_dict[\"zoneout_rate\"]\n",
    "    \n",
    "    x0_i = [fRMS_i, lambda_reg_i]\n",
    "    if vary_zoneout == True:\n",
    "        x0_i.append(zoneout_rate_i)\n",
    "    x0_new.append(x0_i)\n",
    "\n",
    "    npsavedata_fname = '/prediction_horizons-testingdata--combinedAERNN--ZEROoutsteps.npz'\n",
    "    \n",
    "    with np.load(dname+npsavedata_fname, allow_pickle=True) as f:\n",
    "        prediction_horizon_arr = np.array(f['prediction_horizon_arr'])\n",
    "\n",
    "    if len(prediction_horizon_arr.shape) == 2:\n",
    "        prediction_horizon_arr = prediction_horizon_arr[0]\n",
    "    num_runs = prediction_horizon_arr.shape[0]\n",
    "    median_idx = int(np.round(0.5*num_runs-1))\n",
    "    quartile_1_idx = int(np.round(0.25*num_runs-1))\n",
    "    quartile_3_idx = int(np.round(0.75*num_runs-1))\n",
    "\n",
    "    prediction_horizon_arr.sort()\n",
    "\n",
    "    median = prediction_horizon_arr[median_idx]\n",
    "    quartile_1 = prediction_horizon_arr[quartile_1_idx]\n",
    "    quartile_3 = prediction_horizon_arr[quartile_3_idx]\n",
    "    IQR = quartile_3 - quartile_1\n",
    "\n",
    "    prediction_horizon = np.mean(prediction_horizon_arr)\n",
    "    stddev_ph = np.std(prediction_horizon_arr)\n",
    "\n",
    "    analysis_time = time.time() - analysis_time\n",
    "    s = 'error_threshold = {}, num_runs : {}\\n'.format(error_threshold, num_runs)\n",
    "    s += 'prediction_horizon : {}, median : {}\\n'.format(prediction_horizon, median)\n",
    "    s += 'ph_min : {}, ph_max : {}\\n'.format(prediction_horizon_arr.min(), prediction_horizon_arr.max())\n",
    "    s += 'stddev : {}, IQR : {}\\n'.format(stddev_ph, IQR)\n",
    "    s += '1st quartile : {}, 3rd quartile : {}\\n\\n'.format(quartile_1, quartile_3)\n",
    "\n",
    "    print('    analysis_time : {:.0f} sec.\\n'.format(analysis_time)+s)\n",
    "    \n",
    "    ph_mean_new.append(prediction_horizon)\n",
    "    ph_median_new.append(median)"
   ]
  },
  {
   "cell_type": "code",
   "execution_count": null,
   "metadata": {
    "colab": {
     "base_uri": "https://localhost:8080/"
    },
    "executionInfo": {
     "elapsed": 10543,
     "status": "ok",
     "timestamp": 1667873563321,
     "user": {
      "displayName": "Rohan Kaushik",
      "userId": "13918477614376051685"
     },
     "user_tz": -60
    },
    "id": "SO7iK4mbneQm",
    "outputId": "48110900-962a-49c1-c532-718999590884",
    "scrolled": false
   },
   "outputs": [],
   "source": [
    "ph_mean_new = np.array(ph_mean_new)\n",
    "ph_median_new = np.array(ph_median_new)\n",
    "\n",
    "plt.plot(np.arange(0, n_pregp+1), ph_mean_new[0:n_pregp+1], color='C0', linestyle='--', marker='o', label='__nolegend__')\n",
    "plt.plot(np.arange(n_pregp, ph_mean_new.shape[0]), ph_mean_new[n_pregp:], color='C0', linestyle='-', marker='s', label='mean')\n",
    "\n",
    "plt.plot(np.arange(0, n_pregp+1), ph_median_new[0:n_pregp+1], color='C1', linestyle='--', marker='o', label='__nolegend__')\n",
    "plt.plot(np.arange(n_pregp, ph_median_new.shape[0]), ph_median_new[n_pregp:], color='C1', linestyle='-', marker='s', label='median')\n",
    "\n",
    "plt.xlabel('Iteration', fontsize=15)\n",
    "plt.ylabel('Prediction Horizon $[ LT ]$', fontsize=15)\n",
    "plt.grid(True)\n",
    "\n",
    "plt.legend(fontsize=12)\n",
    "\n",
    "plt.show()\n",
    "# plt.savefig(dir_name_rnn+'/plots/CORRECTED_PH.pdf', dpi=300, bbox_inches='tight')"
   ]
  },
  {
   "cell_type": "code",
   "execution_count": null,
   "metadata": {
    "colab": {
     "base_uri": "https://localhost:8080/",
     "height": 279
    },
    "executionInfo": {
     "elapsed": 1226,
     "status": "ok",
     "timestamp": 1667873564544,
     "user": {
      "displayName": "Rohan Kaushik",
      "userId": "13918477614376051685"
     },
     "user_tz": -60
    },
    "id": "nDv5D8APneQm",
    "outputId": "ee911dc8-4d36-48af-8ad0-07cef0dbaf81"
   },
   "outputs": [],
   "source": [
    "to_plot = [\n",
    "    [np.array(x0_new)[:, 0], 'fRMS', 'fRMS', 'plt.semilogy'],\n",
    "    [np.array(x0_new)[:, 1], '$\\Lambda_{reg}$', 'lambda_reg', 'plt.semilogy']\n",
    "]\n",
    "\n",
    "for i in range(len(to_plot)):\n",
    "    eval(to_plot[i][3])(np.arange(0, n_pregp+1), to_plot[i][0][0:n_pregp+1], color='C0', linestyle='--', marker='o', label='__nolegend__')\n",
    "    eval(to_plot[i][3])(np.arange(n_pregp, to_plot[i][0].shape[0]), to_plot[i][0][n_pregp:], color='C0', linestyle='-', marker='s', label='mean')\n",
    "\n",
    "    plt.xlabel('Iteration', fontsize=15)\n",
    "    plt.ylabel(to_plot[i][1], fontsize=15)\n",
    "    plt.grid(True)\n",
    "\n",
    "    plt.legend(fontsize=12)\n",
    "\n",
    "    plt.show()\n",
    "    # plt.savefig(dir_name_rnn+'/plots/CORRECTED_PH.pdf', dpi=300, bbox_inches='tight')"
   ]
  },
  {
   "cell_type": "code",
   "execution_count": null,
   "metadata": {
    "colab": {
     "base_uri": "https://localhost:8080/",
     "height": 433
    },
    "executionInfo": {
     "elapsed": 11096,
     "status": "ok",
     "timestamp": 1667873575637,
     "user": {
      "displayName": "Rohan Kaushik",
      "userId": "13918477614376051685"
     },
     "user_tz": -60
    },
    "id": "dbLa0AwlDBWh",
    "outputId": "d3f93f58-9ce7-4994-8d68-29520477e02d"
   },
   "outputs": [],
   "source": [
    "res"
   ]
  },
  {
   "cell_type": "code",
   "execution_count": null,
   "metadata": {
    "colab": {
     "base_uri": "https://localhost:8080/"
    },
    "executionInfo": {
     "elapsed": 8,
     "status": "ok",
     "timestamp": 1667873575638,
     "user": {
      "displayName": "Rohan Kaushik",
      "userId": "13918477614376051685"
     },
     "user_tz": -60
    },
    "id": "MDopQ4JMhRPV",
    "outputId": "f6480bb7-5837-4a80-9333-f9acd175b27a"
   },
   "outputs": [],
   "source": [
    "optim_x = np.array(res.x)\n",
    "x_iters = np.array(res.x_iters)\n",
    "func_iters = np.array(res.func_vals)\n",
    "optim_func = res.fun\n",
    "\n",
    "optim_idx = np.where(x_iters[:, 0] == optim_x[0])[0]\n",
    "for i in range(optim_x.shape[0]-1):\n",
    "    i = i+1\n",
    "    optim_idx_i = np.where(x_iters[optim_idx, i] == optim_x[i])[0]\n",
    "    optim_idx = optim_idx[optim_idx_i]\n",
    "optim_idx = optim_idx[0]"
   ]
  },
  {
   "cell_type": "code",
   "execution_count": null,
   "metadata": {
    "executionInfo": {
     "elapsed": 9,
     "status": "ok",
     "timestamp": 1667873576097,
     "user": {
      "displayName": "Rohan Kaushik",
      "userId": "13918477614376051685"
     },
     "user_tz": -60
    },
    "id": "2_fAlJz2Vdev"
   },
   "outputs": [],
   "source": [
    "optim_idx"
   ]
  },
  {
   "cell_type": "code",
   "execution_count": null,
   "metadata": {
    "executionInfo": {
     "elapsed": 9,
     "status": "ok",
     "timestamp": 1667873576098,
     "user": {
      "displayName": "Rohan Kaushik",
      "userId": "13918477614376051685"
     },
     "user_tz": -60
    },
    "id": "s5BNteRC7COC",
    "scrolled": false
   },
   "outputs": [],
   "source": [
    "a = n_initial_points + len(x0)\n",
    "# sorted_idx = np.argsort(x_iters[a:, 0])\n",
    "\n",
    "xplot = np.arange(func_iters.shape[0])\n",
    "\n",
    "if a > 0:\n",
    "    plt.plot(\n",
    "        -func_iters[0:a+1],\n",
    "        linestyle='--',\n",
    "        color='C2',\n",
    "        marker='^',\n",
    "        label='Initial Points',\n",
    "    )\n",
    "    xplot = np.arange(a, func_iters.shape[0])\n",
    "plt.plot(\n",
    "    xplot,\n",
    "    -func_iters[a:],\n",
    "    linestyle='--',\n",
    "    marker='^',\n",
    "    label='GP Minimization',#'__nolegend__',\n",
    ")\n",
    "plt.plot([optim_idx], [-func_iters[optim_idx]], 's', label='Optimal Value')\n",
    "\n",
    "plt.xlabel('Iteration', fontsize=15)\n",
    "plt.ylabel('Median Prediction Horizon', fontsize=15)\n",
    "plt.grid(True, which='major', axis='x')\n",
    "plt.grid(True, which='both', axis='y')\n",
    "plt.legend(fontsize=12)\n",
    "\n",
    "plt.savefig(dir_name_rnn_plots+'/median_PH.pdf', bbox_inches='tight', dpi=300)\n",
    "plt.show()"
   ]
  },
  {
   "cell_type": "code",
   "execution_count": null,
   "metadata": {},
   "outputs": [],
   "source": [
    "from skopt.plots import plot_convergence\n",
    "plot_convergence(res)"
   ]
  },
  {
   "cell_type": "code",
   "execution_count": null,
   "metadata": {},
   "outputs": [],
   "source": [
    "optimized_vals_dict = {\n",
    "    'x_iters':x_iters,\n",
    "    'func_iters':func_iters,\n",
    "    'optim_x':optim_x,\n",
    "    'optim_idx':optim_idx,\n",
    "    'optim_fun':func_iters[optim_idx]\n",
    "}\n",
    "\n",
    "with open(dir_name_rnn+'/optimized_vals.txt', 'w') as f:\n",
    "    f.write(str(optimized_vals_dict))\n",
    "    \n",
    "np.savez(\n",
    "    dir_name_rnn+'/optimized_vals',\n",
    "    x_iters=x_iters,\n",
    "    func_iters=func_iters,\n",
    "    optim_x=optim_x,\n",
    "    optim_idx=optim_idx,\n",
    "    optim_fun=func_iters[optim_idx]\n",
    ")"
   ]
  },
  {
   "cell_type": "code",
   "execution_count": null,
   "metadata": {
    "scrolled": true
   },
   "outputs": [],
   "source": [
    "xoptim_names = [\n",
    "    [r'fRMS', 'fRMS', plt.semilogy],\n",
    "    [r'$\\Lambda_{reg}$', 'lambda_reg', plt.semilogy],\n",
    "]\n",
    "if vary_zoneout == True:\n",
    "    xoptim_names.append(\n",
    "        [r'$p^{zoneout}$', 'zoneout', plt.plot]\n",
    "    )\n",
    "\n",
    "for i in range(len(xoptim_names)):\n",
    "    a = n_initial_points + len(x0)\n",
    "    # sorted_idx = np.argsort(x_iters[a:, 0])\n",
    "\n",
    "    xplot = np.arange(x_iters.shape[0])\n",
    "    if a > 0:\n",
    "        xoptim_names[i][2](\n",
    "            x_iters[:, i][0:a+1],\n",
    "            linestyle='--',\n",
    "            color='C2',\n",
    "            marker='^',\n",
    "            label='Initial Points',\n",
    "        )\n",
    "        xplot = np.arange(a, x_iters.shape[0])\n",
    "    xoptim_names[i][2](\n",
    "        xplot,\n",
    "        x_iters[:, i][a:],\n",
    "        linestyle='--',\n",
    "        marker='^',\n",
    "        label='GP Minimization',#'__nolegend__',\n",
    "    )\n",
    "    xoptim_names[i][2]([optim_idx], [x_iters[optim_idx, i]], 's', label='Optimal Value')\n",
    "\n",
    "    plt.xlabel('Iteration', fontsize=15)\n",
    "    plt.ylabel(xoptim_names[i][0], fontsize=15)\n",
    "    plt.grid(True, which='major', axis='x')\n",
    "    plt.grid(True, which='both', axis='y')\n",
    "    plt.legend(fontsize=12)\n",
    "\n",
    "    plt.savefig(dir_name_rnn_plots+'/'+xoptim_names[i][1]+'.pdf', bbox_inches='tight', dpi=300)\n",
    "    plt.show()"
   ]
  },
  {
   "cell_type": "code",
   "execution_count": null,
   "metadata": {},
   "outputs": [],
   "source": [
    "dir_list = os.listdir(dir_name_rnn+'/tested_rnn')\n",
    "# dir_list"
   ]
  },
  {
   "cell_type": "code",
   "execution_count": null,
   "metadata": {},
   "outputs": [],
   "source": [
    "ph_mean_lst = []\n",
    "for dir_name in dir_list:\n",
    "    with np.load(dir_name_rnn+'/tested_rnn/'+dir_name+'/prediction_horizons-testingdata--combinedAERNN--ZEROoutsteps.npz') as f:\n",
    "        ph_mean = np.mean(f['prediction_horizon_arr'])\n",
    "        ph_mean_lst.append(ph_mean)\n",
    "ph_mean_lst = np.array(ph_mean_lst)"
   ]
  },
  {
   "cell_type": "code",
   "execution_count": null,
   "metadata": {},
   "outputs": [],
   "source": [
    "idx = np.where(ph_mean_lst == ph_mean_lst.max())[0]"
   ]
  },
  {
   "cell_type": "code",
   "execution_count": null,
   "metadata": {
    "scrolled": true
   },
   "outputs": [],
   "source": [
    "idx, dir_list[idx[0]]"
   ]
  },
  {
   "cell_type": "code",
   "execution_count": null,
   "metadata": {},
   "outputs": [],
   "source": []
  },
  {
   "cell_type": "code",
   "execution_count": null,
   "metadata": {},
   "outputs": [],
   "source": [
    "# convergence plot\n",
    "convergence_f = np.empty_like(func_iters)\n",
    "min_val = np.inf\n",
    "for i in range(func_iters.shape[0]):\n",
    "    if func_iters[i] < min_val:\n",
    "        min_val = func_iters[i]\n",
    "    convergence_f[i] = min_val"
   ]
  },
  {
   "cell_type": "code",
   "execution_count": null,
   "metadata": {},
   "outputs": [],
   "source": [
    "a = n_initial_points + len(x0)\n",
    "# sorted_idx = np.argsort(x_iters[a:, 0])\n",
    "\n",
    "xplot = np.arange(x_iters.shape[0])\n",
    "\n",
    "if a > 0:\n",
    "    plt.plot(\n",
    "        -convergence_f[0:a+1],\n",
    "        linestyle='--',\n",
    "        color='C2',\n",
    "        marker='^',\n",
    "        label='Initial Points',\n",
    "    )\n",
    "    xplot = np.arange(a, x_iters.shape[0])\n",
    "plt.plot(\n",
    "    xplot,\n",
    "    -convergence_f[a:],\n",
    "    linestyle='--',\n",
    "    marker='^',\n",
    "    label='GP Minimization',#'__nolegend__',\n",
    ")\n",
    "# plt.semilogy([optim_idx], [func_iters[optim_idx, 0]], 's', label='Optimal Value')\n",
    "\n",
    "plt.xlabel('Iteration', fontsize=15)\n",
    "plt.ylabel(\n",
    "#     r\"$$\\min_{0 \\leq j \\leq \\mathrm{present \\ iteration}} \\left( \\mathrm{Test \\ MSE} \\right)$$\",\n",
    "#     r\"$$\\min_{0 \\leq j \\leq \\mathrm{present \\atop iteration}} \\left( \\mathrm{Test \\ MSE} \\right)$$\",\n",
    "    r\"$$\\max_{0 \\leq j \\leq \\mathrm{present \\atop iteration}} \\left( \\mathrm{Median \\ PH} \\right)$$\",\n",
    "    fontsize=15,\n",
    ")\n",
    "plt.title('Convergence Plot', fontsize=18)\n",
    "plt.grid(True, which='major', axis='x')\n",
    "plt.grid(True, which='both', axis='y')\n",
    "plt.legend(fontsize=12)\n",
    "\n",
    "plt.savefig(dir_name_rnn_plots+'/convergence_plot.pdf', bbox_inches='tight', dpi=300)\n",
    "plt.show()"
   ]
  },
  {
   "cell_type": "markdown",
   "metadata": {},
   "source": [
    "### Prediction horizon computation"
   ]
  },
  {
   "cell_type": "code",
   "execution_count": null,
   "metadata": {},
   "outputs": [],
   "source": []
  },
  {
   "cell_type": "code",
   "execution_count": null,
   "metadata": {},
   "outputs": [],
   "source": []
  },
  {
   "cell_type": "code",
   "execution_count": null,
   "metadata": {},
   "outputs": [],
   "source": []
  }
 ],
 "metadata": {
  "accelerator": "GPU",
  "colab": {
   "collapsed_sections": [],
   "provenance": []
  },
  "gpuClass": "standard",
  "kernelspec": {
   "display_name": "Python 3 (ipykernel)",
   "language": "python",
   "name": "python3"
  },
  "language_info": {
   "codemirror_mode": {
    "name": "ipython",
    "version": 3
   },
   "file_extension": ".py",
   "mimetype": "text/x-python",
   "name": "python",
   "nbconvert_exporter": "python",
   "pygments_lexer": "ipython3",
   "version": "3.10.6"
  }
 },
 "nbformat": 4,
 "nbformat_minor": 1
}
