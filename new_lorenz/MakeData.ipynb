{
 "cells": [
  {
   "cell_type": "code",
   "execution_count": 1,
   "metadata": {
    "executionInfo": {
     "elapsed": 4,
     "status": "ok",
     "timestamp": 1667835216146,
     "user": {
      "displayName": "Rohan Kaushik",
      "userId": "13918477614376051685"
     },
     "user_tz": -60
    },
    "id": "4xhxMpe_r-Y5"
   },
   "outputs": [],
   "source": [
    "# enabling 3rd party widgets\n",
    "# from google.colab import output\n",
    "# output.enable_custom_widget_manager()\n",
    "# output.disable_custom_widget_manager()\n",
    "\n",
    "# interactive 3D plot\n",
    "# !pip install ipympl\n",
    "# %matplotlib widget"
   ]
  },
  {
   "cell_type": "code",
   "execution_count": 2,
   "metadata": {
    "executionInfo": {
     "elapsed": 5229,
     "status": "ok",
     "timestamp": 1667835221372,
     "user": {
      "displayName": "Rohan Kaushik",
      "userId": "13918477614376051685"
     },
     "user_tz": -60
    },
    "id": "a5qPupCDsjSz"
   },
   "outputs": [],
   "source": [
    "import os\n",
    "import math\n",
    "import numpy as np\n",
    "import matplotlib.pyplot as plt\n",
    "\n",
    "import time as time\n",
    "import platform as platform\n",
    "\n",
    "import h5py"
   ]
  },
  {
   "cell_type": "code",
   "execution_count": 3,
   "metadata": {
    "executionInfo": {
     "elapsed": 6,
     "status": "ok",
     "timestamp": 1667835221372,
     "user": {
      "displayName": "Rohan Kaushik",
      "userId": "13918477614376051685"
     },
     "user_tz": -60
    },
    "id": "3AVrZNGlZu4Z"
   },
   "outputs": [],
   "source": [
    "colab_flag = False\n",
    "\n",
    "strategy = None\n",
    "# strategy = tf.distribute.MirroredStrategy()"
   ]
  },
  {
   "cell_type": "code",
   "execution_count": 4,
   "metadata": {
    "executionInfo": {
     "elapsed": 6,
     "status": "ok",
     "timestamp": 1667835221373,
     "user": {
      "displayName": "Rohan Kaushik",
      "userId": "13918477614376051685"
     },
     "user_tz": -60
    },
    "id": "SxAd7iDL0Ami"
   },
   "outputs": [],
   "source": [
    "current_sys = platform.system()\n",
    "\n",
    "if current_sys == 'Windows':\n",
    "    dir_sep = '\\\\'\n",
    "else:\n",
    "    dir_sep = '/'"
   ]
  },
  {
   "cell_type": "code",
   "execution_count": 5,
   "metadata": {
    "colab": {
     "base_uri": "https://localhost:8080/"
    },
    "executionInfo": {
     "elapsed": 1436,
     "status": "ok",
     "timestamp": 1667835222803,
     "user": {
      "displayName": "Rohan Kaushik",
      "userId": "13918477614376051685"
     },
     "user_tz": -60
    },
    "id": "JjNnPRuk0IIX",
    "outputId": "5925d1cb-1395-4d17-af03-237a121bd46d"
   },
   "outputs": [],
   "source": [
    "if colab_flag == True:\n",
    "    from google.colab import drive\n",
    "    drive.mount('/content/drive')\n",
    "    os.chdir('/content/drive/MyDrive/Github/MLROM/KS/')"
   ]
  },
  {
   "cell_type": "code",
   "execution_count": 6,
   "metadata": {
    "colab": {
     "base_uri": "https://localhost:8080/"
    },
    "executionInfo": {
     "elapsed": 9,
     "status": "ok",
     "timestamp": 1667835222803,
     "user": {
      "displayName": "Rohan Kaushik",
      "userId": "13918477614376051685"
     },
     "user_tz": -60
    },
    "id": "9REiGIIy0IzV",
    "outputId": "41ed12f4-29aa-408a-ecf7-c8c10cbc7c1d"
   },
   "outputs": [
    {
     "name": "stdout",
     "output_type": "stream",
     "text": [
      "/home/rkaushik/Documents/Thesis/MLROM/new_lorenz\n"
     ]
    }
   ],
   "source": [
    "print(os.getcwd())"
   ]
  },
  {
   "cell_type": "code",
   "execution_count": 7,
   "metadata": {
    "executionInfo": {
     "elapsed": 8,
     "status": "ok",
     "timestamp": 1667835222804,
     "user": {
      "displayName": "Rohan Kaushik",
      "userId": "13918477614376051685"
     },
     "user_tz": -60
    },
    "id": "8S1AHEkl48bn"
   },
   "outputs": [],
   "source": [
    "from tools.misc_tools import create_Lorenz_data, compute_lyapunov_spectrum"
   ]
  },
  {
   "cell_type": "code",
   "execution_count": null,
   "metadata": {
    "executionInfo": {
     "elapsed": 8,
     "status": "ok",
     "timestamp": 1667835222804,
     "user": {
      "displayName": "Rohan Kaushik",
      "userId": "13918477614376051685"
     },
     "user_tz": -60
    },
    "id": "-mIQj_v4gzMh"
   },
   "outputs": [],
   "source": []
  },
  {
   "cell_type": "code",
   "execution_count": 8,
   "metadata": {
    "executionInfo": {
     "elapsed": 9,
     "status": "ok",
     "timestamp": 1667835222805,
     "user": {
      "displayName": "Rohan Kaushik",
      "userId": "13918477614376051685"
     },
     "user_tz": -60
    },
    "id": "QL5n-abCg0nI"
   },
   "outputs": [],
   "source": [
    "# setting seed for PRNGs\n",
    "prng_seed = 42\n",
    "np.random.seed(prng_seed)\n",
    "\n",
    "FTYPE = np.float64\n",
    "ITYPE = np.int64"
   ]
  },
  {
   "cell_type": "code",
   "execution_count": null,
   "metadata": {
    "colab": {
     "base_uri": "https://localhost:8080/",
     "height": 35
    },
    "executionInfo": {
     "elapsed": 8,
     "status": "ok",
     "timestamp": 1667835222805,
     "user": {
      "displayName": "Rohan Kaushik",
      "userId": "13918477614376051685"
     },
     "user_tz": -60
    },
    "id": "tc3zO9xL_tNl",
    "outputId": "e164d4fe-a18e-4aab-b626-767477e62346"
   },
   "outputs": [],
   "source": []
  },
  {
   "cell_type": "markdown",
   "metadata": {
    "id": "7UbdnOtc4_z9"
   },
   "source": [
    "# Lorenz System"
   ]
  },
  {
   "cell_type": "code",
   "execution_count": 9,
   "metadata": {},
   "outputs": [
    {
     "name": "stdout",
     "output_type": "stream",
     "text": [
      "sigma : 10.00, rho : 35.00, beta : 1.33 -- yes chaos\n",
      "sigma : 10.00, rho : 35.00, beta : 2.67 -- yes chaos\n",
      "sigma : 10.00, rho : 45.00, beta : 1.33 -- yes chaos\n",
      "sigma : 10.00, rho : 45.00, beta : 2.67 -- yes chaos\n",
      "sigma : 20.00, rho : 35.00, beta : 1.33 -- yes chaos\n",
      "sigma : 20.00, rho : 35.00, beta : 2.67 -- yes chaos\n",
      "sigma : 20.00, rho : 45.00, beta : 1.33 -- yes chaos\n",
      "sigma : 20.00, rho : 45.00, beta : 2.67 -- yes chaos\n"
     ]
    }
   ],
   "source": [
    "rho_arr = [35, 45]# [20, 25, 30]\n",
    "beta_arr = [4/3, 8/3]\n",
    "sigma_arr = [10, 20]\n",
    "\n",
    "params_mat = np.empty(shape=(len(rho_arr)*len(beta_arr)*len(sigma_arr), 3), dtype=FTYPE)\n",
    "counter = 0\n",
    "for i in range(len(sigma_arr)):\n",
    "    for j in range(len(rho_arr)):\n",
    "        for k in range(len(beta_arr)):\n",
    "            sigma = sigma_arr[i]\n",
    "            rho = rho_arr[j]\n",
    "            beta = beta_arr[k]\n",
    "            params_mat[counter, 0] = sigma\n",
    "            params_mat[counter, 1] = rho\n",
    "            params_mat[counter, 2] = beta\n",
    "            chaos_cond = sigma + beta + 3\n",
    "            chaos_cond /= sigma - beta - 1\n",
    "            chaos_cond *= sigma\n",
    "            chaos_cond = rho - chaos_cond\n",
    "            if chaos_cond < 0:\n",
    "                print('sigma : {:.2f}, rho : {:.2f}, beta : {:.2f} -- no chaos'.format(sigma, rho, beta))\n",
    "            elif chaos_cond == 0.0:\n",
    "                print('sigma : {:.2f}, rho : {:.2f}, beta : {:.2f} -- borderline chaos'.format(sigma, rho, beta))\n",
    "            else:\n",
    "                print('sigma : {:.2f}, rho : {:.2f}, beta : {:.2f} -- yes chaos'.format(sigma, rho, beta))\n",
    "            counter += 1"
   ]
  },
  {
   "cell_type": "code",
   "execution_count": 10,
   "metadata": {
    "executionInfo": {
     "elapsed": 284,
     "status": "ok",
     "timestamp": 1667835223082,
     "user": {
      "displayName": "Rohan Kaushik",
      "userId": "13918477614376051685"
     },
     "user_tz": -60
    },
    "id": "xcNgt4hqg6Xv",
    "scrolled": false
   },
   "outputs": [
    {
     "name": "stdout",
     "output_type": "stream",
     "text": [
      "[[10.         35.          1.33333333]\n",
      " [10.         35.          2.66666667]\n",
      " [10.         45.          1.33333333]\n",
      " [10.         45.          2.66666667]\n",
      " [20.         35.          1.33333333]\n",
      " [20.         35.          2.66666667]\n",
      " [20.         45.          1.33333333]\n",
      " [20.         45.          2.66666667]]\n"
     ]
    }
   ],
   "source": [
    "# setting up params (and saving, if applicable)\n",
    "print(params_mat)\n",
    "num_cases = params_mat.shape[0]\n",
    "\n",
    "t0 = 0.0\n",
    "T = 600.0\n",
    "delta_t = 0.01\n",
    "\n",
    "return_params_arr = False\n",
    "normalize_flag = False\n",
    "alldata_withparams_flag = False\n",
    "\n",
    "init_state = np.array([1, 1, 1], dtype=FTYPE)"
   ]
  },
  {
   "cell_type": "markdown",
   "metadata": {
    "id": "Db0_RQerLZDX"
   },
   "source": [
    "### Creating initial data, for transient inspection and cutoff"
   ]
  },
  {
   "cell_type": "code",
   "execution_count": 11,
   "metadata": {
    "executionInfo": {
     "elapsed": 1901,
     "status": "ok",
     "timestamp": 1667835224981,
     "user": {
      "displayName": "Rohan Kaushik",
      "userId": "13918477614376051685"
     },
     "user_tz": -60
    },
    "id": "uDhfYHU45IS8"
   },
   "outputs": [
    {
     "name": "stdout",
     "output_type": "stream",
     "text": [
      "time_creation : 33 s\n"
     ]
    }
   ],
   "source": [
    "time_creation = time.time()\n",
    "res_dict = create_Lorenz_data(\n",
    "    T, t0, delta_t, \n",
    "    params_mat, init_state,\n",
    "    return_params_arr=return_params_arr,\n",
    "    normalize=normalize_flag,\n",
    "    alldata_withparams=alldata_withparams_flag, FTYPE=FTYPE, ITYPE=ITYPE\n",
    ")\n",
    "time_creation = time.time() - time_creation\n",
    "print('time_creation : {:.0f} s'.format(time_creation))\n",
    "\n",
    "all_data = res_dict['all_data']\n",
    "N = res_dict['N']\n",
    "boundary_idx_arr = res_dict['boundary_idx_arr']\n",
    "params_arr = res_dict['params_arr']\n",
    "normalization_constant_arr = res_dict['normalization_constant_arr']"
   ]
  },
  {
   "cell_type": "code",
   "execution_count": null,
   "metadata": {
    "executionInfo": {
     "elapsed": 5,
     "status": "ok",
     "timestamp": 1667835224981,
     "user": {
      "displayName": "Rohan Kaushik",
      "userId": "13918477614376051685"
     },
     "user_tz": -60
    },
    "id": "59kkrSP1GvzO"
   },
   "outputs": [],
   "source": []
  },
  {
   "cell_type": "code",
   "execution_count": null,
   "metadata": {
    "colab": {
     "base_uri": "https://localhost:8080/",
     "height": 1000
    },
    "executionInfo": {
     "elapsed": 3565,
     "status": "ok",
     "timestamp": 1667835228542,
     "user": {
      "displayName": "Rohan Kaushik",
      "userId": "13918477614376051685"
     },
     "user_tz": -60
    },
    "id": "Rt6uWhERbAV_",
    "outputId": "ad148898-4dad-4e06-e79f-a16a7b7130ff",
    "scrolled": false
   },
   "outputs": [],
   "source": []
  },
  {
   "cell_type": "code",
   "execution_count": 12,
   "metadata": {
    "executionInfo": {
     "elapsed": 10,
     "status": "ok",
     "timestamp": 1667835228543,
     "user": {
      "displayName": "Rohan Kaushik",
      "userId": "13918477614376051685"
     },
     "user_tz": -60
    },
    "id": "9fqESpG_d8CI"
   },
   "outputs": [],
   "source": [
    "# making relevant helper arrays to cut off initial transient\n",
    "initial_t0 = 500\n",
    "T -= initial_t0\n",
    "\n",
    "\n",
    "initial_t0 = np.array(\n",
    "    [initial_t0]*params_mat.shape[0], dtype=FTYPE) # try to keep all entries the same\n",
    "initial_idx = np.zeros_like(initial_t0, dtype=ITYPE)\n",
    "\n",
    "begin_idx = 0\n",
    "len_relevant_idx = 0\n",
    "for i in range(len(initial_t0)):\n",
    "    init_idx = ITYPE( (initial_t0[i] + 0.5*delta_t)//delta_t )\n",
    "    initial_idx[i] = init_idx + begin_idx\n",
    "    len_relevant_idx += boundary_idx_arr[i] - initial_idx[i]\n",
    "    begin_idx = boundary_idx_arr[i]\n",
    "\n",
    "relevant_idx = np.empty(shape=len_relevant_idx, dtype=ITYPE)\n",
    "start = 0\n",
    "for i in range(len(initial_t0)):\n",
    "    end = start + (boundary_idx_arr[i] - initial_idx[i])\n",
    "    relevant_idx[start:end] = np.arange(initial_idx[i], boundary_idx_arr[i])\n",
    "    start = end"
   ]
  },
  {
   "cell_type": "code",
   "execution_count": 13,
   "metadata": {
    "colab": {
     "base_uri": "https://localhost:8080/"
    },
    "executionInfo": {
     "elapsed": 9,
     "status": "ok",
     "timestamp": 1667835228543,
     "user": {
      "displayName": "Rohan Kaushik",
      "userId": "13918477614376051685"
     },
     "user_tz": -60
    },
    "id": "wDnYk3U0EAwY",
    "outputId": "77bf33cc-dde4-4f71-dcd4-f204ca244302"
   },
   "outputs": [
    {
     "name": "stdout",
     "output_type": "stream",
     "text": [
      "boundary_idx_arr : [ 60001 120002 180003 240004 300005 360006 420007 480008]\n",
      "initial_idx : [ 50000 110001 170002 230003 290004 350005 410006 470007]\n"
     ]
    }
   ],
   "source": [
    "print('boundary_idx_arr :', boundary_idx_arr)\n",
    "print('initial_idx :', initial_idx)"
   ]
  },
  {
   "cell_type": "code",
   "execution_count": 14,
   "metadata": {
    "executionInfo": {
     "elapsed": 8,
     "status": "ok",
     "timestamp": 1667835228544,
     "user": {
      "displayName": "Rohan Kaushik",
      "userId": "13918477614376051685"
     },
     "user_tz": -60
    },
    "id": "ivUYhrpWgtPQ"
   },
   "outputs": [],
   "source": [
    "# cutting off initial transient\n",
    "all_data = all_data[relevant_idx]\n",
    "# init_idx = 0\n",
    "# for i in range(len(boundary_idx_arr)):\n",
    "#     init_idx += (initial_t0[i] + 0.25*delta_t)//delta_t\n",
    "#     boundary_idx_arr[i] -= init_idx\n",
    "\n",
    "prev_boundary_idx = 0\n",
    "for i in range(num_cases):\n",
    "    boundary_idx_arr[i] = prev_boundary_idx + (boundary_idx_arr[i] - initial_idx[i])\n",
    "    prev_boundary_idx = boundary_idx_arr[i]"
   ]
  },
  {
   "cell_type": "code",
   "execution_count": 15,
   "metadata": {
    "colab": {
     "base_uri": "https://localhost:8080/"
    },
    "executionInfo": {
     "elapsed": 7,
     "status": "ok",
     "timestamp": 1667835228544,
     "user": {
      "displayName": "Rohan Kaushik",
      "userId": "13918477614376051685"
     },
     "user_tz": -60
    },
    "id": "xURwJI6GD8lw",
    "outputId": "5491b0b4-3d0d-42e0-f345-f4980905a629"
   },
   "outputs": [
    {
     "data": {
      "text/plain": [
       "array([10001, 20002, 30003, 40004, 50005, 60006, 70007, 80008])"
      ]
     },
     "execution_count": 15,
     "metadata": {},
     "output_type": "execute_result"
    }
   ],
   "source": [
    "boundary_idx_arr"
   ]
  },
  {
   "cell_type": "markdown",
   "metadata": {
    "colab": {
     "base_uri": "https://localhost:8080/",
     "height": 1000
    },
    "executionInfo": {
     "elapsed": 2476,
     "status": "ok",
     "timestamp": 1667835231015,
     "user": {
      "displayName": "Rohan Kaushik",
      "userId": "13918477614376051685"
     },
     "user_tz": -60
    },
    "id": "1KcW3uc7eJtI",
    "outputId": "f6956099-1234-49e8-8032-9bf4fd6ea990",
    "scrolled": false
   },
   "source": [
    "### Saving the data"
   ]
  },
  {
   "cell_type": "code",
   "execution_count": 16,
   "metadata": {},
   "outputs": [
    {
     "name": "stdout",
     "output_type": "stream",
     "text": [
      "dir_name_data: /home/rkaushik/Documents/Thesis/MLROM/new_lorenz/saved_data/data_011\n"
     ]
    }
   ],
   "source": [
    "# making ae save directory\n",
    "dir_name_data = os.getcwd() + dir_sep + 'saved_data'\n",
    "if not os.path.isdir(dir_name_data):\n",
    "    os.makedirs(dir_name_data)\n",
    "\n",
    "counter = 0\n",
    "while True:\n",
    "    dir_check = 'data_' + str(counter).zfill(3)\n",
    "    if os.path.isdir(dir_name_data + dir_sep + dir_check):\n",
    "        counter += 1\n",
    "    else:\n",
    "        break\n",
    "\n",
    "dir_name_data = dir_name_data + dir_sep + dir_check\n",
    "os.makedirs(dir_name_data)\n",
    "print('dir_name_data:', dir_name_data)\n",
    "\n",
    "\n",
    "# saving sim data\n",
    "sim_data = {\n",
    "    'params_mat':params_mat,\n",
    "    't0':t0,\n",
    "    'T':T,\n",
    "    'delta_t':delta_t,\n",
    "    'return_params_arr':return_params_arr,\n",
    "    'normalize_flag':normalize_flag,\n",
    "    'alldata_withparams_flag':alldata_withparams_flag,\n",
    "    'prng_seed':prng_seed,\n",
    "}\n",
    "with open(dir_name_data+dir_sep+'sim_data_params.txt', 'w') as f:\n",
    "    f.write(str(sim_data))"
   ]
  },
  {
   "cell_type": "code",
   "execution_count": 17,
   "metadata": {},
   "outputs": [],
   "source": [
    "# saving the data\n",
    "np.savez(\n",
    "    dir_name_data+dir_sep+'data',\n",
    "    all_data=all_data,\n",
    "    boundary_idx_arr=boundary_idx_arr,\n",
    "    normalization_constant_arr=[normalization_constant_arr],\n",
    "    initial_t0=initial_t0,\n",
    "    init_state_org=init_state,\n",
    "    # init_state_mat=init_state_mat,\n",
    "    # lyapunov_spectrum_mat=lpspectrum_mat,\n",
    "    )"
   ]
  },
  {
   "cell_type": "markdown",
   "metadata": {
    "id": "OjW1bWb9Llgq"
   },
   "source": [
    "### Computing the Lyapunov spectrum"
   ]
  },
  {
   "cell_type": "code",
   "execution_count": 18,
   "metadata": {
    "colab": {
     "base_uri": "https://localhost:8080/"
    },
    "executionInfo": {
     "elapsed": 795474,
     "status": "ok",
     "timestamp": 1667836026484,
     "user": {
      "displayName": "Rohan Kaushik",
      "userId": "13918477614376051685"
     },
     "user_tz": -60
    },
    "id": "vyITXxqHlUiK",
    "outputId": "f1a05587-cde0-4791-af47-9ea2da73c8d4",
    "scrolled": true
   },
   "outputs": [
    {
     "name": "stdout",
     "output_type": "stream",
     "text": [
      "dy_mat[0] : 1.5596181693181222e-08\n",
      "dy_mat[1] : 1.7194007917633028e-08\n",
      "dy_mat[2] : 1.9642692109108038e-08\n",
      "dy_mat[3] : 2.1589664299171166e-08\n",
      "dy_mat[4] : 1.5314014655658193e-08\n",
      "dy_mat[5] : 1.6942159103805054e-08\n",
      "dy_mat[6] : 1.9275544997910122e-08\n",
      "dy_mat[7] : 2.1318886267286237e-08\n",
      "\n",
      "number of evaluation intervals per case: 5000\n",
      "\n",
      "case 1 completion_ratio : 0.1, elapsed_time : 1.578s, global_completion : 1.25%\n",
      "case 1 completion_ratio : 0.2, elapsed_time : 3.167s, global_completion : 2.5%\n",
      "case 1 completion_ratio : 0.3, elapsed_time : 4.775s, global_completion : 3.75%\n",
      "case 1 completion_ratio : 0.4, elapsed_time : 6.321s, global_completion : 5.0%\n",
      "case 1 completion_ratio : 0.5, elapsed_time : 7.963s, global_completion : 6.25%\n",
      "case 1 completion_ratio : 0.6, elapsed_time : 9.578s, global_completion : 7.5%\n",
      "case 1 completion_ratio : 0.7, elapsed_time : 10.96s, global_completion : 8.75%\n",
      "case 1 completion_ratio : 0.8, elapsed_time : 12.506s, global_completion : 10.0%\n",
      "case 1 completion_ratio : 0.9, elapsed_time : 14.007s, global_completion : 11.25%\n",
      "case 1 completion_ratio : 1.0, elapsed_time : 15.563s, global_completion : 12.5%\n",
      "case 1 MLE : 0.736139\n",
      "\n",
      "case 2 completion_ratio : 0.1, elapsed_time : 17.123s, global_completion : 13.75%\n",
      "case 2 completion_ratio : 0.2, elapsed_time : 18.736s, global_completion : 15.0%\n",
      "case 2 completion_ratio : 0.3, elapsed_time : 20.303s, global_completion : 16.25%\n",
      "case 2 completion_ratio : 0.4, elapsed_time : 21.84s, global_completion : 17.5%\n",
      "case 2 completion_ratio : 0.5, elapsed_time : 23.413s, global_completion : 18.75%\n",
      "case 2 completion_ratio : 0.6, elapsed_time : 24.993s, global_completion : 20.0%\n",
      "case 2 completion_ratio : 0.7, elapsed_time : 26.517s, global_completion : 21.25%\n",
      "case 2 completion_ratio : 0.8, elapsed_time : 28.063s, global_completion : 22.5%\n",
      "case 2 completion_ratio : 0.9, elapsed_time : 29.774s, global_completion : 23.75%\n",
      "case 2 completion_ratio : 1.0, elapsed_time : 31.266s, global_completion : 25.0%\n",
      "case 2 MLE : 1.040365\n",
      "\n",
      "case 3 completion_ratio : 0.1, elapsed_time : 32.881s, global_completion : 26.25%\n",
      "case 3 completion_ratio : 0.2, elapsed_time : 34.363s, global_completion : 27.5%\n",
      "case 3 completion_ratio : 0.3, elapsed_time : 35.791s, global_completion : 28.75%\n",
      "case 3 completion_ratio : 0.4, elapsed_time : 37.316s, global_completion : 30.0%\n",
      "case 3 completion_ratio : 0.5, elapsed_time : 38.789s, global_completion : 31.25%\n",
      "case 3 completion_ratio : 0.6, elapsed_time : 40.367s, global_completion : 32.5%\n",
      "case 3 completion_ratio : 0.7, elapsed_time : 41.853s, global_completion : 33.75%\n",
      "case 3 completion_ratio : 0.8, elapsed_time : 43.425s, global_completion : 35.0%\n",
      "case 3 completion_ratio : 0.9, elapsed_time : 44.943s, global_completion : 36.25%\n",
      "case 3 completion_ratio : 1.0, elapsed_time : 46.463s, global_completion : 37.5%\n",
      "case 3 MLE : 0.929783\n",
      "\n",
      "case 4 completion_ratio : 0.1, elapsed_time : 48.055s, global_completion : 38.75%\n",
      "case 4 completion_ratio : 0.2, elapsed_time : 49.54s, global_completion : 40.0%\n",
      "case 4 completion_ratio : 0.3, elapsed_time : 51.107s, global_completion : 41.25%\n",
      "case 4 completion_ratio : 0.4, elapsed_time : 52.638s, global_completion : 42.5%\n",
      "case 4 completion_ratio : 0.5, elapsed_time : 54.134s, global_completion : 43.75%\n",
      "case 4 completion_ratio : 0.6, elapsed_time : 55.767s, global_completion : 45.0%\n",
      "case 4 completion_ratio : 0.7, elapsed_time : 57.298s, global_completion : 46.25%\n",
      "case 4 completion_ratio : 0.8, elapsed_time : 58.882s, global_completion : 47.5%\n",
      "case 4 completion_ratio : 0.9, elapsed_time : 60.449s, global_completion : 48.75%\n",
      "case 4 completion_ratio : 1.0, elapsed_time : 61.865s, global_completion : 50.0%\n",
      "case 4 MLE : 1.212865\n",
      "\n",
      "case 5 completion_ratio : 0.1, elapsed_time : 63.448s, global_completion : 51.25%\n",
      "case 5 completion_ratio : 0.2, elapsed_time : 64.959s, global_completion : 52.5%\n",
      "case 5 completion_ratio : 0.3, elapsed_time : 66.477s, global_completion : 53.75%\n",
      "case 5 completion_ratio : 0.4, elapsed_time : 68.035s, global_completion : 55.0%\n",
      "case 5 completion_ratio : 0.5, elapsed_time : 69.503s, global_completion : 56.25%\n",
      "case 5 completion_ratio : 0.6, elapsed_time : 71.088s, global_completion : 57.5%\n",
      "case 5 completion_ratio : 0.7, elapsed_time : 72.558s, global_completion : 58.75%\n",
      "case 5 completion_ratio : 0.8, elapsed_time : 74.094s, global_completion : 60.0%\n",
      "case 5 completion_ratio : 0.9, elapsed_time : 75.658s, global_completion : 61.25%\n",
      "case 5 completion_ratio : 1.0, elapsed_time : 77.226s, global_completion : 62.5%\n",
      "case 5 MLE : 0.001517\n",
      "\n",
      "case 6 completion_ratio : 0.1, elapsed_time : 78.802s, global_completion : 63.75%\n",
      "case 6 completion_ratio : 0.2, elapsed_time : 80.304s, global_completion : 65.0%\n",
      "case 6 completion_ratio : 0.3, elapsed_time : 81.832s, global_completion : 66.25%\n",
      "case 6 completion_ratio : 0.4, elapsed_time : 83.396s, global_completion : 67.5%\n",
      "case 6 completion_ratio : 0.5, elapsed_time : 84.881s, global_completion : 68.75%\n",
      "case 6 completion_ratio : 0.6, elapsed_time : 86.394s, global_completion : 70.0%\n",
      "case 6 completion_ratio : 0.7, elapsed_time : 87.896s, global_completion : 71.25%\n",
      "case 6 completion_ratio : 0.8, elapsed_time : 89.378s, global_completion : 72.5%\n",
      "case 6 completion_ratio : 0.9, elapsed_time : 90.988s, global_completion : 73.75%\n",
      "case 6 completion_ratio : 1.0, elapsed_time : 92.48s, global_completion : 75.0%\n",
      "case 6 MLE : 1.044221\n",
      "\n",
      "case 7 completion_ratio : 0.1, elapsed_time : 94.04s, global_completion : 76.25%\n",
      "case 7 completion_ratio : 0.2, elapsed_time : 95.55s, global_completion : 77.5%\n",
      "case 7 completion_ratio : 0.3, elapsed_time : 97.096s, global_completion : 78.75%\n",
      "case 7 completion_ratio : 0.4, elapsed_time : 98.683s, global_completion : 80.0%\n",
      "case 7 completion_ratio : 0.5, elapsed_time : 100.14s, global_completion : 81.25%\n",
      "case 7 completion_ratio : 0.6, elapsed_time : 101.69s, global_completion : 82.5%\n",
      "case 7 completion_ratio : 0.7, elapsed_time : 103.219s, global_completion : 83.75%\n",
      "case 7 completion_ratio : 0.8, elapsed_time : 104.697s, global_completion : 85.0%\n",
      "case 7 completion_ratio : 0.9, elapsed_time : 106.325s, global_completion : 86.25%\n",
      "case 7 completion_ratio : 1.0, elapsed_time : 107.826s, global_completion : 87.5%\n",
      "case 7 MLE : 0.605984\n",
      "\n",
      "case 8 completion_ratio : 0.1, elapsed_time : 109.365s, global_completion : 88.75%\n",
      "case 8 completion_ratio : 0.2, elapsed_time : 110.869s, global_completion : 90.0%\n",
      "case 8 completion_ratio : 0.3, elapsed_time : 112.27s, global_completion : 91.25%\n",
      "case 8 completion_ratio : 0.4, elapsed_time : 113.864s, global_completion : 92.5%\n",
      "case 8 completion_ratio : 0.5, elapsed_time : 115.341s, global_completion : 93.75%\n",
      "case 8 completion_ratio : 0.6, elapsed_time : 116.931s, global_completion : 95.0%\n",
      "case 8 completion_ratio : 0.7, elapsed_time : 118.455s, global_completion : 96.25%\n",
      "case 8 completion_ratio : 0.8, elapsed_time : 119.98s, global_completion : 97.5%\n",
      "case 8 completion_ratio : 0.9, elapsed_time : 121.567s, global_completion : 98.75%\n",
      "case 8 completion_ratio : 1.0, elapsed_time : 123.046s, global_completion : 100.0%\n",
      "case 8 MLE : 1.176213\n",
      "\n"
     ]
    }
   ],
   "source": [
    "cdf_kwargs = {\n",
    "    'T':500,\n",
    "    't0':0,\n",
    "    'delta_t':delta_t,\n",
    "    'return_params_arr':False,\n",
    "    'normalize':False,\n",
    "    'alldata_withparams':False,\n",
    "    'FTYPE':np.float64,\n",
    "    'ITYPE':np.int64\n",
    "}\n",
    "\n",
    "create_data_fn = create_Lorenz_data\n",
    "num_modes = 3\n",
    "\n",
    "init_state_mat = np.empty(shape=(num_cases, num_modes), dtype=FTYPE)\n",
    "begin_idx = 0\n",
    "for i in range(num_cases):\n",
    "    init_state_mat[i, :] = all_data[begin_idx, 0:num_modes]\n",
    "    begin_idx = boundary_idx_arr[i]\n",
    "\n",
    "dy = 1e-9\n",
    "dy_mat = np.empty(shape=num_cases, dtype=FTYPE)\n",
    "begin_idx = 0\n",
    "for i in range(num_cases):\n",
    "    # dy_mat[i] = dy * np.mean(  np.linalg.norm( all_data[begin_idx:boundary_idx_arr[i]], axis=1 )/xgrid.shape[0]  ) timeMean of spaceMeanofSpaceNorm\n",
    "    # dy_mat[i] = dy * np.mean( np.linalg.norm( all_data[begin_idx:boundary_idx_arr[i], 0:num_modes], axis=0 )/( (boundary_idx_arr[i]-begin_idx)**0.5 ) ) # spaceMean of timeRMS\n",
    "    dy_mat[i] = np.mean( np.mean(all_data[begin_idx:boundary_idx_arr[i], 0:num_modes]**2, axis=0)**0.5 )\n",
    "    # print(dy_mat[i])\n",
    "    dy_mat[i] *= dy\n",
    "    begin_idx = boundary_idx_arr[i]\n",
    "    print('dy_mat[{}] :'.format(i), dy_mat[i])\n",
    "print('')\n",
    "\n",
    "# cleaning up\n",
    "del(all_data)\n",
    "del(boundary_idx_arr)\n",
    "del(params_arr)\n",
    "del(normalization_constant_arr)\n",
    "del(relevant_idx)\n",
    "del(res_dict)\n",
    "\n",
    "lpspectrum_mat, _ = compute_lyapunov_spectrum(\n",
    "    create_data_fn, cdf_kwargs, num_modes, \n",
    "    init_state_mat, params_mat, dy_mat,\n",
    "    zeta=10, delta_completionratio=0.1, num_exp=None, print_flag=True)"
   ]
  },
  {
   "cell_type": "code",
   "execution_count": 19,
   "metadata": {
    "executionInfo": {
     "elapsed": 12,
     "status": "ok",
     "timestamp": 1667836026485,
     "user": {
      "displayName": "Rohan Kaushik",
      "userId": "13918477614376051685"
     },
     "user_tz": -60
    },
    "id": "1MjUlS8KsezG"
   },
   "outputs": [],
   "source": [
    "lpspectrum_mat.sort(axis=1)\n",
    "lpspectrum_mat = lpspectrum_mat[:, -1::-1]"
   ]
  },
  {
   "cell_type": "code",
   "execution_count": 20,
   "metadata": {
    "colab": {
     "base_uri": "https://localhost:8080/"
    },
    "executionInfo": {
     "elapsed": 9,
     "status": "ok",
     "timestamp": 1667836026486,
     "user": {
      "displayName": "Rohan Kaushik",
      "userId": "13918477614376051685"
     },
     "user_tz": -60
    },
    "id": "biT9BbTIzh4F",
    "outputId": "97716f51-97cc-4798-8185-7d26a09b6e6e"
   },
   "outputs": [
    {
     "name": "stdout",
     "output_type": "stream",
     "text": [
      "[[ 7.36138692e-01 -3.30291032e-03 -1.30660998e+01]\n",
      " [ 1.04036506e+00 -1.24485352e-03 -1.47056782e+01]\n",
      " [ 9.29783380e-01 -8.57869983e-04 -1.32621840e+01]\n",
      " [ 1.21286483e+00 -2.40770179e-03 -1.48770083e+01]\n",
      " [ 1.51698138e-03 -1.05745310e-02 -2.23230654e+01]\n",
      " [ 1.04422142e+00 -4.59426401e-03 -2.47047118e+01]\n",
      " [ 6.05984066e-01 -3.13855514e-03 -2.29347385e+01]\n",
      " [ 1.17621285e+00 -2.13240356e-03 -2.48389982e+01]]\n"
     ]
    }
   ],
   "source": [
    "print(lpspectrum_mat)"
   ]
  },
  {
   "cell_type": "code",
   "execution_count": 21,
   "metadata": {},
   "outputs": [
    {
     "name": "stdout",
     "output_type": "stream",
     "text": [
      "[2.0560868  2.07066115 2.07004318 2.08136428 1.14345614 2.04208214\n",
      " 2.02628526 2.04726762]\n"
     ]
    }
   ],
   "source": [
    "KY_dim_lst = []\n",
    "\n",
    "for i in range(lpspectrum_mat.shape[0]):\n",
    "    sum_ = np.cumsum(lpspectrum_mat[i])\n",
    "    KY_idx = np.where(sum_ >= 0.0)[0]\n",
    "    KY_idx = np.max(KY_idx) + 1\n",
    "    KY_dim = KY_idx + sum_[KY_idx-1]/np.abs(lpspectrum_mat[i, KY_idx])\n",
    "    KY_dim_lst.append(KY_dim)\n",
    "    \n",
    "KY_dim_lst = np.array(KY_dim_lst)\n",
    "print(KY_dim_lst)"
   ]
  },
  {
   "cell_type": "markdown",
   "metadata": {
    "id": "Rf_XeTS4Lr4B"
   },
   "source": [
    "### Computing new data based on 'initial states' from the transient cutoffs and total time from mean Lyapunov time"
   ]
  },
  {
   "cell_type": "code",
   "execution_count": 22,
   "metadata": {},
   "outputs": [],
   "source": [
    "with np.load(dir_name_data+dir_sep+'data.npz', allow_pickle=True) as fl:\n",
    "    all_data = np.array(fl['all_data'])\n",
    "    boundary_idx_arr = np.array(fl['boundary_idx_arr'])\n",
    "    normalization_constant_arr = np.array(fl['normalization_constant_arr'])\n",
    "    initial_t0 = np.array(fl['initial_t0'])\n",
    "    init_state_org = np.array(fl['init_state_org'])"
   ]
  },
  {
   "cell_type": "code",
   "execution_count": 23,
   "metadata": {
    "executionInfo": {
     "elapsed": 7839,
     "status": "ok",
     "timestamp": 1667836034319,
     "user": {
      "displayName": "Rohan Kaushik",
      "userId": "13918477614376051685"
     },
     "user_tz": -60
    },
    "id": "_4YpGszrIOVY"
   },
   "outputs": [],
   "source": [
    "# saving the data\n",
    "np.savez(\n",
    "    dir_name_data+dir_sep+'data',\n",
    "    all_data=all_data,\n",
    "    boundary_idx_arr=boundary_idx_arr,\n",
    "    normalization_constant_arr=normalization_constant_arr,\n",
    "    initial_t0=initial_t0,\n",
    "    init_state_org=init_state_org,\n",
    "    init_state_mat=init_state_mat,\n",
    "    lyapunov_spectrum_mat=lpspectrum_mat,\n",
    "    KY_dim_arr=KY_dim_lst,\n",
    ")"
   ]
  },
  {
   "cell_type": "code",
   "execution_count": 24,
   "metadata": {
    "colab": {
     "base_uri": "https://localhost:8080/"
    },
    "executionInfo": {
     "elapsed": 6,
     "status": "ok",
     "timestamp": 1667836034320,
     "user": {
      "displayName": "Rohan Kaushik",
      "userId": "13918477614376051685"
     },
     "user_tz": -60
    },
    "id": "2FJ4ns1a3wBK",
    "outputId": "956e72ef-0fcd-4ef2-c86a-0ca34264537c"
   },
   "outputs": [],
   "source": [
    "with open(dir_name_data+'/lp_exp.txt', 'w') as f:\n",
    "    f.write(str({\n",
    "        'lp_exp':list(lpspectrum_mat),\n",
    "        'DKY_lst':list(KY_dim_lst),\n",
    "        'lp_time':list(lpspectrum_mat[:, 0]**(-1))\n",
    "    }))"
   ]
  },
  {
   "cell_type": "code",
   "execution_count": null,
   "metadata": {
    "executionInfo": {
     "elapsed": 5,
     "status": "ok",
     "timestamp": 1667836034321,
     "user": {
      "displayName": "Rohan Kaushik",
      "userId": "13918477614376051685"
     },
     "user_tz": -60
    },
    "id": "-MJa7P5t5KiC",
    "scrolled": false
   },
   "outputs": [],
   "source": []
  },
  {
   "cell_type": "code",
   "execution_count": null,
   "metadata": {
    "executionInfo": {
     "elapsed": 9080,
     "status": "ok",
     "timestamp": 1667836043396,
     "user": {
      "displayName": "Rohan Kaushik",
      "userId": "13918477614376051685"
     },
     "user_tz": -60
    },
    "id": "7FkCSLnvOu3W"
   },
   "outputs": [],
   "source": []
  },
  {
   "cell_type": "code",
   "execution_count": 25,
   "metadata": {
    "executionInfo": {
     "elapsed": 20,
     "status": "ok",
     "timestamp": 1667836043397,
     "user": {
      "displayName": "Rohan Kaushik",
      "userId": "13918477614376051685"
     },
     "user_tz": -60
    },
    "id": "dbLa0AwlDBWh"
   },
   "outputs": [],
   "source": [
    "# fl = np.load(dir_name_data+dir_sep+'data.npz', allow_pickle=True)"
   ]
  },
  {
   "cell_type": "code",
   "execution_count": 26,
   "metadata": {
    "colab": {
     "base_uri": "https://localhost:8080/"
    },
    "executionInfo": {
     "elapsed": 19,
     "status": "ok",
     "timestamp": 1667836043397,
     "user": {
      "displayName": "Rohan Kaushik",
      "userId": "13918477614376051685"
     },
     "user_tz": -60
    },
    "id": "fGQN5p7rNVV3",
    "outputId": "ff071364-61d3-4209-ded8-a381e593661d"
   },
   "outputs": [],
   "source": [
    "# fl.files"
   ]
  },
  {
   "cell_type": "code",
   "execution_count": null,
   "metadata": {
    "executionInfo": {
     "elapsed": 8,
     "status": "ok",
     "timestamp": 1667836043398,
     "user": {
      "displayName": "Rohan Kaushik",
      "userId": "13918477614376051685"
     },
     "user_tz": -60
    },
    "id": "wYl-tsRIcXvP"
   },
   "outputs": [],
   "source": []
  },
  {
   "cell_type": "code",
   "execution_count": null,
   "metadata": {
    "executionInfo": {
     "elapsed": 7,
     "status": "ok",
     "timestamp": 1667836043398,
     "user": {
      "displayName": "Rohan Kaushik",
      "userId": "13918477614376051685"
     },
     "user_tz": -60
    },
    "id": "edIzUzi6cyxn"
   },
   "outputs": [],
   "source": []
  },
  {
   "cell_type": "code",
   "execution_count": null,
   "metadata": {
    "executionInfo": {
     "elapsed": 7,
     "status": "ok",
     "timestamp": 1667836043399,
     "user": {
      "displayName": "Rohan Kaushik",
      "userId": "13918477614376051685"
     },
     "user_tz": -60
    },
    "id": "zX5fbgPVdIVh"
   },
   "outputs": [],
   "source": []
  }
 ],
 "metadata": {
  "colab": {
   "collapsed_sections": [],
   "provenance": []
  },
  "gpuClass": "standard",
  "kernelspec": {
   "display_name": "Python 3 (ipykernel)",
   "language": "python",
   "name": "python3"
  },
  "language_info": {
   "codemirror_mode": {
    "name": "ipython",
    "version": 3
   },
   "file_extension": ".py",
   "mimetype": "text/x-python",
   "name": "python",
   "nbconvert_exporter": "python",
   "pygments_lexer": "ipython3",
   "version": "3.10.6"
  }
 },
 "nbformat": 4,
 "nbformat_minor": 1
}
