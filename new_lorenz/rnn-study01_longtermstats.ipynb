{
 "cells": [
  {
   "cell_type": "code",
   "execution_count": 112,
   "id": "ab50bddd",
   "metadata": {},
   "outputs": [],
   "source": [
    "import numpy as np\n",
    "import matplotlib.pyplot as plt\n",
    "import os\n",
    "\n",
    "plt.rcParams.update({\n",
    "    \"text.usetex\":True,\n",
    "    \"font.family\":\"serif\",\n",
    "})"
   ]
  },
  {
   "cell_type": "code",
   "execution_count": 113,
   "id": "47ce7f6a",
   "metadata": {},
   "outputs": [],
   "source": [
    "xlabel_kwargs = {'fontsize':15}\n",
    "ylabel_kwargs = {'fontsize':15}\n",
    "legend_kwargs = {'fontsize':12}\n",
    "title_kwargs = {'fontsize':18}\n",
    "xticks_kwargs = {'fontsize':12}\n",
    "yticks_kwargs = {'fontsize':12}"
   ]
  },
  {
   "cell_type": "code",
   "execution_count": 114,
   "id": "23c98c47",
   "metadata": {},
   "outputs": [
    {
     "name": "stdout",
     "output_type": "stream",
     "text": [
      "esn_dname :  /home/rkaushik/Documents/Thesis/MLROM/new_lorenz/saved_AR_AEESN_rnn/AR_ESN_ensemble_008\n",
      "gru_dname :  /home/rkaushik/Documents/Thesis/MLROM/new_lorenz/saved_AR_AERNN_rnn/AR_rnn_007\n"
     ]
    }
   ],
   "source": [
    "cwd = os.getcwd()\n",
    "\n",
    "esn_dname = cwd + '/saved_AR_AEESN_rnn/AR_ESN_ensemble_008'\n",
    "gru_dname = cwd + '/saved_AR_AERNN_rnn/AR_rnn_007'\n",
    "\n",
    "print('esn_dname : ', esn_dname)\n",
    "print('gru_dname : ', gru_dname)"
   ]
  },
  {
   "cell_type": "code",
   "execution_count": 115,
   "id": "7bdd266b",
   "metadata": {},
   "outputs": [],
   "source": [
    "# plot_dir = cwd + '/study-01/plots'\n",
    "\n",
    "# if not os.path.exists(plot_dir):\n",
    "#     os.makedirs(plot_dir)\n",
    "\n",
    "esn_plot_dir = esn_dname + '/plots/study-01'\n",
    "if not os.path.exists(esn_plot_dir):\n",
    "    os.makedirs(esn_plot_dir)\n",
    "    \n",
    "gru_plot_dir = gru_dname + '/plots/study-01'\n",
    "if not os.path.exists(gru_plot_dir):\n",
    "    os.makedirs(gru_plot_dir)"
   ]
  },
  {
   "cell_type": "code",
   "execution_count": 116,
   "id": "448eaa78",
   "metadata": {},
   "outputs": [
    {
     "data": {
      "text/plain": [
       "['num_outsteps_AR :  0, 15, 20, 25, 30\\n',\n",
       " 'x1 W1 : 8.6673E-01, 3.2654E-01, 3.2654E-01, 4.1550E-01, 4.1550E-01\\n',\n",
       " 'x2 W1 : 8.3294E-01, 6.1020E-01, 6.1020E-01, 9.4169E-01, 9.4169E-01\\n',\n",
       " 'x3 W1 : 2.7882E-01, 6.8123E-01, 6.8123E-01, 8.4681E-01, 8.4681E-01\\n']"
      ]
     },
     "execution_count": 116,
     "metadata": {},
     "output_type": "execute_result"
    }
   ],
   "source": [
    "with open(esn_dname + '/plots/longterm--pdf--W1.txt', 'r') as f:\n",
    "    s = f.readlines()\n",
    "\n",
    "s"
   ]
  },
  {
   "cell_type": "code",
   "execution_count": 117,
   "id": "ec1ef880",
   "metadata": {},
   "outputs": [
    {
     "name": "stdout",
     "output_type": "stream",
     "text": [
      "num_outsteps_esn : [0, 15, 20, 25, 30]\n",
      "[0.86673, 0.32654, 0.32654, 0.4155, 0.4155]\n",
      "[0.83294, 0.6102, 0.6102, 0.94169, 0.94169]\n",
      "[0.27882, 0.68123, 0.68123, 0.84681, 0.84681]\n"
     ]
    }
   ],
   "source": [
    "num_outsteps_esn = s[0].split(':')[1].strip().split(',')\n",
    "num_outsteps_esn = [int(elem.strip()) for elem in num_outsteps_esn]\n",
    "print('num_outsteps_esn : {}'.format(num_outsteps_esn))\n",
    "\n",
    "W1_esn = []\n",
    "for i in range(1, len(s)):\n",
    "    temp_ = s[i].split(':')[1].strip().split(',')\n",
    "    temp_ = [float(elem.strip()) for elem in temp_]\n",
    "    print(temp_)\n",
    "    W1_esn.append(temp_)"
   ]
  },
  {
   "cell_type": "code",
   "execution_count": 118,
   "id": "62f81dd6",
   "metadata": {},
   "outputs": [
    {
     "data": {
      "text/plain": [
       "['num_outsteps_AR :  0,  5, 10, 15, 20\\n',\n",
       " 'x1 W1 : 1.9558E+00, 1.1550E+00, 2.0193E+00, 1.9848E+00, 1.0672E+00\\n',\n",
       " 'x2 W1 : 1.9007E+00, 1.2022E+00, 2.2119E+00, 2.1773E+00, 1.1560E+00\\n',\n",
       " 'x3 W1 : 2.3335E-01, 2.2704E-01, 6.7833E-01, 6.2840E-01, 5.3480E-01\\n']"
      ]
     },
     "execution_count": 118,
     "metadata": {},
     "output_type": "execute_result"
    }
   ],
   "source": [
    "with open(gru_dname + '/plots/longterm--pdf--W1.txt', 'r') as f:\n",
    "    s = f.readlines()\n",
    "\n",
    "s"
   ]
  },
  {
   "cell_type": "code",
   "execution_count": 119,
   "id": "e9f406ca",
   "metadata": {},
   "outputs": [
    {
     "name": "stdout",
     "output_type": "stream",
     "text": [
      "num_outsteps_gru : [0, 5, 10, 15, 20]\n",
      "[1.9558, 1.155, 2.0193, 1.9848, 1.0672]\n",
      "[1.9007, 1.2022, 2.2119, 2.1773, 1.156]\n",
      "[0.23335, 0.22704, 0.67833, 0.6284, 0.5348]\n"
     ]
    }
   ],
   "source": [
    "num_outsteps_gru = s[0].split(':')[1].strip().split(',')\n",
    "num_outsteps_gru = [int(elem.strip()) for elem in num_outsteps_gru]\n",
    "print('num_outsteps_gru : {}'.format(num_outsteps_gru))\n",
    "\n",
    "W1_gru = []\n",
    "for i in range(1, len(s)):\n",
    "    temp_ = s[i].split(':')[1].strip().split(',')\n",
    "    temp_ = [float(elem.strip()) for elem in temp_]\n",
    "    print(temp_)\n",
    "    W1_gru.append(temp_)"
   ]
  },
  {
   "cell_type": "code",
   "execution_count": 120,
   "id": "4b0deac7",
   "metadata": {},
   "outputs": [
    {
     "data": {
      "image/png": "[encoded data removed]",
      "text/plain": [
       "<Figure size 640x480 with 1 Axes>"
      ]
     },
     "metadata": {},
     "output_type": "display_data"
    }
   ],
   "source": [
    "width = 0.15\n",
    "\n",
    "labels = [r'$x_1$', r'$x_2$', r'$x_3$']\n",
    "ind = np.arange(0, len(num_outsteps_esn))\n",
    "\n",
    "for i in range(len(W1_esn)):\n",
    "    plt.bar(\n",
    "        ind+(i-int(0.5*len(W1_esn)))*width,\n",
    "        W1_esn[i],\n",
    "        label=labels[i],\n",
    "        width=width\n",
    "    )\n",
    "\n",
    "plt.grid(True, which='both')\n",
    "plt.legend(**legend_kwargs)\n",
    "\n",
    "plt.ylabel(r'Wasserstein Metric ($W_1$)', **ylabel_kwargs)\n",
    "plt.xlabel(r'AR Training Steps', **xlabel_kwargs)\n",
    "\n",
    "xticks_pos = ind\n",
    "xticks_labels = ['Teacher\\nforced']\n",
    "xticks_labels.extend(['{:d}'.format(elem) for elem in num_outsteps_esn[1:]])\n",
    "\n",
    "plt.xticks(xticks_pos, xticks_labels, **legend_kwargs)\n",
    "\n",
    "plt.gca().set_yscale('log')\n",
    "\n",
    "plt.title(r'ESN Auto-regressive Training', **title_kwargs)\n",
    "\n",
    "plt.savefig(esn_plot_dir+'/longterm--W1.pdf', dpi=300, bbox_inches='tight')\n",
    "plt.show()"
   ]
  },
  {
   "cell_type": "code",
   "execution_count": 121,
   "id": "0354bfd0",
   "metadata": {},
   "outputs": [
    {
     "data": {
      "image/png": "[encoded data removed]",
      "text/plain": [
       "<Figure size 640x480 with 1 Axes>"
      ]
     },
     "metadata": {},
     "output_type": "display_data"
    }
   ],
   "source": [
    "width = 0.15\n",
    "\n",
    "labels = [r'$x_1$', r'$x_2$', r'$x_3$']\n",
    "ind = np.arange(0, len(num_outsteps_gru))\n",
    "\n",
    "for i in range(len(W1_gru)):\n",
    "    plt.bar(\n",
    "        ind+(i-int(0.5*len(W1_gru)))*width,\n",
    "        W1_gru[i],\n",
    "        label=labels[i],\n",
    "        width=width\n",
    "    )\n",
    "\n",
    "plt.grid(True, which='both')\n",
    "plt.legend(**legend_kwargs)\n",
    "\n",
    "plt.ylabel(r'Wasserstein Metric ($W_1$)', **ylabel_kwargs)\n",
    "plt.xlabel(r'AR Training Steps', **xlabel_kwargs)\n",
    "\n",
    "xticks_pos = ind\n",
    "xticks_labels = ['Teacher\\nforced']\n",
    "xticks_labels.extend(['{:d}'.format(elem) for elem in num_outsteps_gru[1:]])\n",
    "\n",
    "plt.xticks(xticks_pos, xticks_labels, **legend_kwargs)\n",
    "\n",
    "plt.gca().set_yscale('log')\n",
    "\n",
    "plt.title(r'Simple RNN Auto-regressive Training', **title_kwargs)\n",
    "\n",
    "plt.savefig(gru_plot_dir+'/longterm--W1.pdf', dpi=300, bbox_inches='tight')\n",
    "plt.show()"
   ]
  },
  {
   "cell_type": "code",
   "execution_count": null,
   "id": "fc1bd1f0",
   "metadata": {},
   "outputs": [],
   "source": []
  },
  {
   "cell_type": "code",
   "execution_count": null,
   "id": "7daa1ee4",
   "metadata": {},
   "outputs": [],
   "source": []
  },
  {
   "cell_type": "code",
   "execution_count": null,
   "id": "9938c346",
   "metadata": {},
   "outputs": [],
   "source": []
  },
  {
   "cell_type": "code",
   "execution_count": null,
   "id": "0039e43f",
   "metadata": {},
   "outputs": [],
   "source": []
  },
  {
   "cell_type": "code",
   "execution_count": null,
   "id": "05e54bfa",
   "metadata": {},
   "outputs": [],
   "source": []
  },
  {
   "cell_type": "code",
   "execution_count": null,
   "id": "30ac3122",
   "metadata": {},
   "outputs": [],
   "source": []
  },
  {
   "cell_type": "code",
   "execution_count": null,
   "id": "dd31a216",
   "metadata": {},
   "outputs": [],
   "source": []
  },
  {
   "cell_type": "code",
   "execution_count": null,
   "id": "da7d986e",
   "metadata": {},
   "outputs": [],
   "source": []
  }
 ],
 "metadata": {
  "kernelspec": {
   "display_name": "Python 3 (ipykernel)",
   "language": "python",
   "name": "python3"
  },
  "language_info": {
   "codemirror_mode": {
    "name": "ipython",
    "version": 3
   },
   "file_extension": ".py",
   "mimetype": "text/x-python",
   "name": "python",
   "nbconvert_exporter": "python",
   "pygments_lexer": "ipython3",
   "version": "3.10.6"
  }
 },
 "nbformat": 4,
 "nbformat_minor": 5
}
