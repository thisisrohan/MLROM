{
 "cells": [
  {
   "cell_type": "code",
   "execution_count": null,
   "metadata": {
    "executionInfo": {
     "elapsed": 4,
     "status": "ok",
     "timestamp": 1667835216146,
     "user": {
      "displayName": "Rohan Kaushik",
      "userId": "13918477614376051685"
     },
     "user_tz": -60
    },
    "id": "4xhxMpe_r-Y5"
   },
   "outputs": [],
   "source": [
    "# enabling 3rd party widgets\n",
    "# from google.colab import output\n",
    "# output.enable_custom_widget_manager()\n",
    "# output.disable_custom_widget_manager()\n",
    "\n",
    "# interactive 3D plot\n",
    "# !pip install ipympl\n",
    "# %matplotlib widget"
   ]
  },
  {
   "cell_type": "code",
   "execution_count": null,
   "metadata": {
    "executionInfo": {
     "elapsed": 5229,
     "status": "ok",
     "timestamp": 1667835221372,
     "user": {
      "displayName": "Rohan Kaushik",
      "userId": "13918477614376051685"
     },
     "user_tz": -60
    },
    "id": "a5qPupCDsjSz"
   },
   "outputs": [],
   "source": [
    "import os\n",
    "import math\n",
    "import numpy as np\n",
    "import matplotlib.pyplot as plt\n",
    "\n",
    "import time as time\n",
    "import platform as platform\n",
    "\n",
    "import h5py\n",
    "\n",
    "plt.rcParams.update({\"text.usetex\":True})"
   ]
  },
  {
   "cell_type": "code",
   "execution_count": null,
   "metadata": {
    "executionInfo": {
     "elapsed": 6,
     "status": "ok",
     "timestamp": 1667835221372,
     "user": {
      "displayName": "Rohan Kaushik",
      "userId": "13918477614376051685"
     },
     "user_tz": -60
    },
    "id": "3AVrZNGlZu4Z"
   },
   "outputs": [],
   "source": [
    "colab_flag = False\n",
    "\n",
    "strategy = None\n",
    "# strategy = tf.distribute.MirroredStrategy()"
   ]
  },
  {
   "cell_type": "code",
   "execution_count": null,
   "metadata": {
    "executionInfo": {
     "elapsed": 6,
     "status": "ok",
     "timestamp": 1667835221373,
     "user": {
      "displayName": "Rohan Kaushik",
      "userId": "13918477614376051685"
     },
     "user_tz": -60
    },
    "id": "SxAd7iDL0Ami"
   },
   "outputs": [],
   "source": [
    "current_sys = platform.system()\n",
    "\n",
    "if current_sys == 'Windows':\n",
    "    dir_sep = '\\\\'\n",
    "else:\n",
    "    dir_sep = '/'"
   ]
  },
  {
   "cell_type": "code",
   "execution_count": null,
   "metadata": {
    "colab": {
     "base_uri": "https://localhost:8080/"
    },
    "executionInfo": {
     "elapsed": 1436,
     "status": "ok",
     "timestamp": 1667835222803,
     "user": {
      "displayName": "Rohan Kaushik",
      "userId": "13918477614376051685"
     },
     "user_tz": -60
    },
    "id": "JjNnPRuk0IIX",
    "outputId": "5925d1cb-1395-4d17-af03-237a121bd46d"
   },
   "outputs": [],
   "source": [
    "if colab_flag == True:\n",
    "    from google.colab import drive\n",
    "    drive.mount('/content/drive')\n",
    "    os.chdir('/content/drive/MyDrive/Github/MLROM/KS/')"
   ]
  },
  {
   "cell_type": "code",
   "execution_count": null,
   "metadata": {
    "colab": {
     "base_uri": "https://localhost:8080/"
    },
    "executionInfo": {
     "elapsed": 9,
     "status": "ok",
     "timestamp": 1667835222803,
     "user": {
      "displayName": "Rohan Kaushik",
      "userId": "13918477614376051685"
     },
     "user_tz": -60
    },
    "id": "9REiGIIy0IzV",
    "outputId": "41ed12f4-29aa-408a-ecf7-c8c10cbc7c1d"
   },
   "outputs": [],
   "source": [
    "print(os.getcwd())"
   ]
  },
  {
   "cell_type": "code",
   "execution_count": null,
   "metadata": {
    "executionInfo": {
     "elapsed": 8,
     "status": "ok",
     "timestamp": 1667835222804,
     "user": {
      "displayName": "Rohan Kaushik",
      "userId": "13918477614376051685"
     },
     "user_tz": -60
    },
    "id": "8S1AHEkl48bn"
   },
   "outputs": [],
   "source": [
    "from tools.misc_tools import create_KS_data, compute_lyapunov_spectrum"
   ]
  },
  {
   "cell_type": "code",
   "execution_count": null,
   "metadata": {
    "executionInfo": {
     "elapsed": 8,
     "status": "ok",
     "timestamp": 1667835222804,
     "user": {
      "displayName": "Rohan Kaushik",
      "userId": "13918477614376051685"
     },
     "user_tz": -60
    },
    "id": "-mIQj_v4gzMh"
   },
   "outputs": [],
   "source": []
  },
  {
   "cell_type": "code",
   "execution_count": null,
   "metadata": {
    "executionInfo": {
     "elapsed": 9,
     "status": "ok",
     "timestamp": 1667835222805,
     "user": {
      "displayName": "Rohan Kaushik",
      "userId": "13918477614376051685"
     },
     "user_tz": -60
    },
    "id": "QL5n-abCg0nI"
   },
   "outputs": [],
   "source": [
    "# setting seed for PRNGs\n",
    "prng_seed = 42\n",
    "np.random.seed(prng_seed)\n",
    "\n",
    "FTYPE = np.float64\n",
    "ITYPE = np.int64"
   ]
  },
  {
   "cell_type": "code",
   "execution_count": null,
   "metadata": {
    "colab": {
     "base_uri": "https://localhost:8080/",
     "height": 35
    },
    "executionInfo": {
     "elapsed": 8,
     "status": "ok",
     "timestamp": 1667835222805,
     "user": {
      "displayName": "Rohan Kaushik",
      "userId": "13918477614376051685"
     },
     "user_tz": -60
    },
    "id": "tc3zO9xL_tNl",
    "outputId": "e164d4fe-a18e-4aab-b626-767477e62346"
   },
   "outputs": [],
   "source": []
  },
  {
   "cell_type": "markdown",
   "metadata": {
    "id": "7UbdnOtc4_z9"
   },
   "source": [
    "# KS System"
   ]
  },
  {
   "cell_type": "code",
   "execution_count": null,
   "metadata": {
    "executionInfo": {
     "elapsed": 284,
     "status": "ok",
     "timestamp": 1667835223082,
     "user": {
      "displayName": "Rohan Kaushik",
      "userId": "13918477614376051685"
     },
     "user_tz": -60
    },
    "id": "xcNgt4hqg6Xv"
   },
   "outputs": [],
   "source": [
    "# setting up params (and saving, if applicable)\n",
    "params_mat = np.array([\n",
    "    [1.0, 1.0, 1.0],\n",
    "#     [2.0, 1.0, 1.0],\n",
    "#     [1.0, 2.0, 1.0],\n",
    "#     [1.0, 1.0, 2.0]\n",
    "], dtype=FTYPE)\n",
    "num_cases = params_mat.shape[0]\n",
    "\n",
    "t0 = 0.0\n",
    "T = 60000.0\n",
    "delta_t = 0.1\n",
    "\n",
    "return_params_arr = False\n",
    "normalize_flag = False\n",
    "alldata_withparams_flag = True\n",
    "\n",
    "numpoints_xgrid = 64\n",
    "length = 35\n",
    "xgrid = length*np.linspace(0, 1, numpoints_xgrid, dtype=FTYPE)\n",
    "\n",
    "init_state = np.sin(5*np.pi*xgrid/xgrid[-1], dtype=FTYPE)"
   ]
  },
  {
   "cell_type": "markdown",
   "metadata": {
    "id": "Db0_RQerLZDX"
   },
   "source": [
    "### Creating initial data, for transient inspection and cutoff"
   ]
  },
  {
   "cell_type": "code",
   "execution_count": null,
   "metadata": {
    "executionInfo": {
     "elapsed": 1901,
     "status": "ok",
     "timestamp": 1667835224981,
     "user": {
      "displayName": "Rohan Kaushik",
      "userId": "13918477614376051685"
     },
     "user_tz": -60
    },
    "id": "uDhfYHU45IS8"
   },
   "outputs": [],
   "source": [
    "res_dict = create_KS_data(\n",
    "    T, t0, delta_t, xgrid,\n",
    "    init_state, params_mat,\n",
    "    return_params_arr=return_params_arr,\n",
    "    normalize=normalize_flag,\n",
    "    alldata_withparams=alldata_withparams_flag, FTYPE=FTYPE, ITYPE=ITYPE\n",
    ")\n",
    "\n",
    "all_data = res_dict['all_data']\n",
    "N = res_dict['N']\n",
    "boundary_idx_arr = res_dict['boundary_idx_arr']\n",
    "params_arr = res_dict['params_arr']\n",
    "normalization_constant_arr = res_dict['normalization_constant_arr']"
   ]
  },
  {
   "cell_type": "code",
   "execution_count": null,
   "metadata": {
    "executionInfo": {
     "elapsed": 5,
     "status": "ok",
     "timestamp": 1667835224981,
     "user": {
      "displayName": "Rohan Kaushik",
      "userId": "13918477614376051685"
     },
     "user_tz": -60
    },
    "id": "59kkrSP1GvzO"
   },
   "outputs": [],
   "source": [
    "def plot(\n",
    "        boundary_idx_arr,\n",
    "        delta_t,\n",
    "        all_data,\n",
    "        xgrid,\n",
    "        xticks_snapto=20,\n",
    "        num_yticks=11,\n",
    "        save_dir=None,\n",
    "        xlabel=r'Time',\n",
    "        ylabel=r'$x$',\n",
    "        ax_titles_list=None,\n",
    "        cmap='viridis'\n",
    "    ):\n",
    "\n",
    "    n = len(boundary_idx_arr)\n",
    "    num_digits_n = int(np.log10(n)+1)\n",
    "\n",
    "    # '''\n",
    "    num_cols = 1\n",
    "    num_rows = 1\n",
    "    factor = 1\n",
    "    # fig = plt.figure(figsize=(7.5*num_cols, 7.5*num_rows))\n",
    "\n",
    "    num_modes = xgrid.shape[0]\n",
    "\n",
    "    prev_idx = 0\n",
    "    for i in range(len(boundary_idx_arr)):\n",
    "        next_idx = boundary_idx_arr[i]\n",
    "        fig, ax = plt.subplots(figsize=(factor*7.5*num_cols, factor*5.0*num_rows))\n",
    "        N = next_idx - prev_idx\n",
    "        input_time = np.arange(0, N)*delta_t\n",
    "\n",
    "        im = ax.imshow(\n",
    "            all_data[prev_idx:next_idx, 0:num_modes].transpose(),\n",
    "            aspect='auto',\n",
    "            # aspect=8/11,\n",
    "            origin='lower',\n",
    "            cmap=cmap,\n",
    "        )\n",
    "        num_xticks = 1 + int((N*delta_t + 0.5*xticks_snapto) // xticks_snapto)\n",
    "        # xticks = np.linspace(0, N, num_xticks, dtype=np.int32)\n",
    "        xticks = np.arange(0, N, int((xticks_snapto+0.5*delta_t)//delta_t))\n",
    "        ax.set_xticks(ticks=xticks)\n",
    "        ax.set_xticklabels(np.round(xticks*delta_t, 1))\n",
    "        ax.tick_params(axis='x', rotation=270+45)\n",
    "\n",
    "        yticks = np.linspace(0, 1, 10+1)*(len(xgrid)-1)\n",
    "        yticklabels = np.round(np.linspace(0, 1, yticks.shape[0])*xgrid[-1], 2)\n",
    "        ax.set_yticks(ticks=yticks)\n",
    "        ax.set_yticklabels(yticklabels)\n",
    "\n",
    "        ax.set_xlabel('Time')\n",
    "        ax.set_ylabel(r'$x$')\n",
    "        # ax.title.set_text(r'Latent States')\n",
    "        if ax_titles_list is not None:\n",
    "            ax.title.set_text(ax_titles_list[i])\n",
    "        else:\n",
    "            ax.title.set_text(r'Case '+str(i+1))\n",
    "\n",
    "        plt.colorbar(im)\n",
    "\n",
    "        # ax.axis('tight')\n",
    "        # ax.axis('off')\n",
    "        \n",
    "        if save_dir is not None:\n",
    "            fig.savefig(save_dir+'/Case_'+str(i+1).zfill(num_digits_n)+'.png', dpi=300, bbox_inches='tight')\n",
    "            fig.clear()\n",
    "            plt.close()\n",
    "        else:\n",
    "            plt.show()\n",
    "            print('')\n",
    "\n",
    "        prev_idx = next_idx\n",
    "\n",
    "    # '''"
   ]
  },
  {
   "cell_type": "code",
   "execution_count": null,
   "metadata": {
    "colab": {
     "base_uri": "https://localhost:8080/",
     "height": 1000
    },
    "executionInfo": {
     "elapsed": 3565,
     "status": "ok",
     "timestamp": 1667835228542,
     "user": {
      "displayName": "Rohan Kaushik",
      "userId": "13918477614376051685"
     },
     "user_tz": -60
    },
    "id": "Rt6uWhERbAV_",
    "outputId": "ad148898-4dad-4e06-e79f-a16a7b7130ff",
    "scrolled": false
   },
   "outputs": [],
   "source": [
    "# plot_time_begin = 10000.\n",
    "# plot_time_duration = 500\n",
    "\n",
    "# computing xticks_snapto\n",
    "chosen_interval = T//10\n",
    "# chosen_interval = plot_time_duration//10\n",
    "sn = np.format_float_scientific(chosen_interval, exp_digits=4)\n",
    "# print(sn)\n",
    "snap = 25*np.round(10*float(sn[0:-6])/25)/10\n",
    "if snap == 0.0:\n",
    "    snap = 0.1\n",
    "snap *= float('1'+sn[-6:])\n",
    "xticks_snapto = int(snap*np.round(chosen_interval/snap))\n",
    "\n",
    "plot(\n",
    "    boundary_idx_arr,\n",
    "    # [int(plot_time_duration/delta_t)],\n",
    "    delta_t,\n",
    "    all_data,#[int(plot_time_begin/delta_t):int((plot_time_begin+plot_time_duration)/delta_t), :],\n",
    "    xgrid,\n",
    "    xticks_snapto=xticks_snapto,\n",
    "    # xticks_snapto=int(plot_time_duration//10),\n",
    "    # cmap='cividis',\n",
    "    # save_dir=os.getcwd()\n",
    ")"
   ]
  },
  {
   "cell_type": "code",
   "execution_count": null,
   "metadata": {
    "executionInfo": {
     "elapsed": 10,
     "status": "ok",
     "timestamp": 1667835228543,
     "user": {
      "displayName": "Rohan Kaushik",
      "userId": "13918477614376051685"
     },
     "user_tz": -60
    },
    "id": "9fqESpG_d8CI"
   },
   "outputs": [],
   "source": [
    "# making relevant helper arrays to cut off initial transient\n",
    "initial_t0 = np.array([\n",
    "    10000,\n",
    "#     10000,\n",
    "#     10000,\n",
    "#     10000\n",
    "], dtype=FTYPE) # try to keep all entries the same\n",
    "initial_idx = np.zeros_like(initial_t0, dtype=ITYPE)\n",
    "\n",
    "begin_idx = 0\n",
    "len_relevant_idx = 0\n",
    "for i in range(len(initial_t0)):\n",
    "    init_idx = ITYPE( (initial_t0[i] + 0.5*delta_t)//delta_t )\n",
    "    initial_idx[i] = init_idx + begin_idx\n",
    "    len_relevant_idx += boundary_idx_arr[i] - initial_idx[i]\n",
    "    begin_idx = boundary_idx_arr[i]\n",
    "\n",
    "relevant_idx = np.empty(shape=len_relevant_idx, dtype=ITYPE)\n",
    "start = 0\n",
    "for i in range(len(initial_t0)):\n",
    "    end = start + (boundary_idx_arr[i] - initial_idx[i])\n",
    "    relevant_idx[start:end] = np.arange(initial_idx[i], boundary_idx_arr[i])\n",
    "    start = end"
   ]
  },
  {
   "cell_type": "code",
   "execution_count": null,
   "metadata": {
    "colab": {
     "base_uri": "https://localhost:8080/"
    },
    "executionInfo": {
     "elapsed": 9,
     "status": "ok",
     "timestamp": 1667835228543,
     "user": {
      "displayName": "Rohan Kaushik",
      "userId": "13918477614376051685"
     },
     "user_tz": -60
    },
    "id": "wDnYk3U0EAwY",
    "outputId": "77bf33cc-dde4-4f71-dcd4-f204ca244302"
   },
   "outputs": [],
   "source": [
    "print('boundary_idx_arr :', boundary_idx_arr)\n",
    "print('initial_idx :', initial_idx)"
   ]
  },
  {
   "cell_type": "code",
   "execution_count": null,
   "metadata": {
    "executionInfo": {
     "elapsed": 8,
     "status": "ok",
     "timestamp": 1667835228544,
     "user": {
      "displayName": "Rohan Kaushik",
      "userId": "13918477614376051685"
     },
     "user_tz": -60
    },
    "id": "ivUYhrpWgtPQ"
   },
   "outputs": [],
   "source": [
    "# cutting off initial transient\n",
    "all_data = all_data[relevant_idx]\n",
    "# init_idx = 0\n",
    "# for i in range(len(boundary_idx_arr)):\n",
    "#     init_idx += (initial_t0[i] + 0.25*delta_t)//delta_t\n",
    "#     boundary_idx_arr[i] -= init_idx\n",
    "\n",
    "prev_boundary_idx = 0\n",
    "for i in range(num_cases):\n",
    "    boundary_idx_arr[i] = prev_boundary_idx + (boundary_idx_arr[i] - initial_idx[i])\n",
    "    prev_boundary_idx = boundary_idx_arr[i]"
   ]
  },
  {
   "cell_type": "code",
   "execution_count": null,
   "metadata": {
    "colab": {
     "base_uri": "https://localhost:8080/"
    },
    "executionInfo": {
     "elapsed": 7,
     "status": "ok",
     "timestamp": 1667835228544,
     "user": {
      "displayName": "Rohan Kaushik",
      "userId": "13918477614376051685"
     },
     "user_tz": -60
    },
    "id": "xURwJI6GD8lw",
    "outputId": "5491b0b4-3d0d-42e0-f345-f4980905a629"
   },
   "outputs": [],
   "source": [
    "boundary_idx_arr"
   ]
  },
  {
   "cell_type": "code",
   "execution_count": null,
   "metadata": {
    "colab": {
     "base_uri": "https://localhost:8080/",
     "height": 1000
    },
    "executionInfo": {
     "elapsed": 2476,
     "status": "ok",
     "timestamp": 1667835231015,
     "user": {
      "displayName": "Rohan Kaushik",
      "userId": "13918477614376051685"
     },
     "user_tz": -60
    },
    "id": "1KcW3uc7eJtI",
    "outputId": "f6956099-1234-49e8-8032-9bf4fd6ea990",
    "scrolled": false
   },
   "outputs": [],
   "source": [
    "# computing xticks_snapto\n",
    "chosen_interval = ((boundary_idx_arr[0]+np.sum(boundary_idx_arr[1:]-boundary_idx_arr[0:-1]))*delta_t/boundary_idx_arr.shape[0])//10\n",
    "sn = np.format_float_scientific(chosen_interval, exp_digits=4)\n",
    "snap = np.max([0.1, 25*np.round(10*float(sn[0:-6])/25)/10])\n",
    "snap *= float('1'+sn[-6:])\n",
    "xticks_snapto = int(snap*np.round(chosen_interval/snap))\n",
    "\n",
    "plot(\n",
    "    boundary_idx_arr,\n",
    "    delta_t,\n",
    "    all_data,\n",
    "    xgrid,\n",
    "    xticks_snapto=xticks_snapto\n",
    ")"
   ]
  },
  {
   "cell_type": "code",
   "execution_count": null,
   "metadata": {},
   "outputs": [],
   "source": []
  },
  {
   "cell_type": "markdown",
   "metadata": {
    "id": "OjW1bWb9Llgq"
   },
   "source": [
    "### Computing the Lyapunov spectrum"
   ]
  },
  {
   "cell_type": "code",
   "execution_count": null,
   "metadata": {
    "colab": {
     "base_uri": "https://localhost:8080/"
    },
    "executionInfo": {
     "elapsed": 795474,
     "status": "ok",
     "timestamp": 1667836026484,
     "user": {
      "displayName": "Rohan Kaushik",
      "userId": "13918477614376051685"
     },
     "user_tz": -60
    },
    "id": "vyITXxqHlUiK",
    "outputId": "f1a05587-cde0-4791-af47-9ea2da73c8d4"
   },
   "outputs": [],
   "source": [
    "cdf_kwargs = {\n",
    "    'T':1000,\n",
    "    't0':0,\n",
    "    'delta_t':delta_t,\n",
    "    'xgrid':xgrid,\n",
    "    'return_params_arr':False,\n",
    "    'normalize':False,\n",
    "    'alldata_withparams':False,\n",
    "    'FTYPE':np.float64,\n",
    "    'ITYPE':np.int64\n",
    "}\n",
    "\n",
    "create_data_fn = create_KS_data\n",
    "num_modes = xgrid.shape[0]\n",
    "\n",
    "init_state_mat = np.empty(shape=(num_cases, num_modes), dtype=FTYPE)\n",
    "begin_idx = 0\n",
    "for i in range(num_cases):\n",
    "    init_state_mat[i, :] = all_data[begin_idx, 0:num_modes]\n",
    "    begin_idx = boundary_idx_arr[i]\n",
    "\n",
    "dy = 1e-9\n",
    "dy_mat = np.empty(shape=num_cases, dtype=FTYPE)\n",
    "begin_idx = 0\n",
    "for i in range(num_cases):\n",
    "    # dy_mat[i] = dy * np.mean(  np.linalg.norm( all_data[begin_idx:boundary_idx_arr[i]], axis=1 )/xgrid.shape[0]  ) timeMean of spaceMeanofSpaceNorm\n",
    "    dy_mat[i] = dy * np.mean( np.linalg.norm( all_data[begin_idx:boundary_idx_arr[i], 0:num_modes], axis=0 )/( (boundary_idx_arr[i]-begin_idx)**0.5 ) ) # spaceMean of timeRMS\n",
    "    begin_idx = boundary_idx_arr[i]\n",
    "    print('dy_mat[{}] :'.format(i), dy_mat[i])\n",
    "print('')\n",
    "\n",
    "# cleaning up\n",
    "del(all_data)\n",
    "del(boundary_idx_arr)\n",
    "del(params_arr)\n",
    "del(normalization_constant_arr)\n",
    "del(relevant_idx)\n",
    "del(res_dict)\n",
    "\n",
    "lpspectrum_mat, _ = compute_lyapunov_spectrum(\n",
    "    create_data_fn, cdf_kwargs, num_modes, \n",
    "    init_state_mat, params_mat, dy_mat,\n",
    "    zeta=10, delta_completionratio=0.1, num_exp=None, print_flag=True)"
   ]
  },
  {
   "cell_type": "code",
   "execution_count": null,
   "metadata": {
    "executionInfo": {
     "elapsed": 12,
     "status": "ok",
     "timestamp": 1667836026485,
     "user": {
      "displayName": "Rohan Kaushik",
      "userId": "13918477614376051685"
     },
     "user_tz": -60
    },
    "id": "1MjUlS8KsezG"
   },
   "outputs": [],
   "source": [
    "lpspectrum_mat.sort(axis=1)\n",
    "lpspectrum_mat = lpspectrum_mat[:, -1::-1]"
   ]
  },
  {
   "cell_type": "code",
   "execution_count": null,
   "metadata": {
    "colab": {
     "base_uri": "https://localhost:8080/"
    },
    "executionInfo": {
     "elapsed": 9,
     "status": "ok",
     "timestamp": 1667836026486,
     "user": {
      "displayName": "Rohan Kaushik",
      "userId": "13918477614376051685"
     },
     "user_tz": -60
    },
    "id": "biT9BbTIzh4F",
    "outputId": "97716f51-97cc-4798-8185-7d26a09b6e6e"
   },
   "outputs": [],
   "source": [
    "print(lpspectrum_mat[:, 0])"
   ]
  },
  {
   "cell_type": "markdown",
   "metadata": {
    "id": "Rf_XeTS4Lr4B"
   },
   "source": [
    "### Computing new data based on 'initial states' from the transient cutoffs and total time from mean Lyapunov time"
   ]
  },
  {
   "cell_type": "code",
   "execution_count": null,
   "metadata": {
    "executionInfo": {
     "elapsed": 7839,
     "status": "ok",
     "timestamp": 1667836034319,
     "user": {
      "displayName": "Rohan Kaushik",
      "userId": "13918477614376051685"
     },
     "user_tz": -60
    },
    "id": "_4YpGszrIOVY"
   },
   "outputs": [],
   "source": [
    "# re-creating data according to mean lyapunov time\n",
    "mean_lyaptime = np.mean(lpspectrum_mat[:, 0]**(-1))\n",
    "total_lyaptimesteps_totrain = (50000+0.5*mean_lyaptime)//mean_lyaptime\n",
    "T = total_lyaptimesteps_totrain*mean_lyaptime\n",
    "# T = 60000\n",
    "\n",
    "# creating new data\n",
    "res_dict = create_KS_data(\n",
    "    T, t0, delta_t, xgrid,\n",
    "    init_state_mat, params_mat,\n",
    "    return_params_arr=return_params_arr,\n",
    "    normalize=normalize_flag,\n",
    "    alldata_withparams=alldata_withparams_flag, FTYPE=FTYPE, ITYPE=ITYPE\n",
    ")\n",
    "\n",
    "all_data = res_dict['all_data']\n",
    "N = res_dict['N']\n",
    "boundary_idx_arr = res_dict['boundary_idx_arr']\n",
    "params_arr = res_dict['params_arr']\n",
    "normalization_constant_arr = res_dict['normalization_constant_arr']"
   ]
  },
  {
   "cell_type": "code",
   "execution_count": null,
   "metadata": {
    "colab": {
     "base_uri": "https://localhost:8080/"
    },
    "executionInfo": {
     "elapsed": 6,
     "status": "ok",
     "timestamp": 1667836034320,
     "user": {
      "displayName": "Rohan Kaushik",
      "userId": "13918477614376051685"
     },
     "user_tz": -60
    },
    "id": "2FJ4ns1a3wBK",
    "outputId": "956e72ef-0fcd-4ef2-c86a-0ca34264537c"
   },
   "outputs": [],
   "source": [
    "# making ae save directory\n",
    "dir_name_data = os.getcwd() + dir_sep + 'saved_data'\n",
    "if not os.path.isdir(dir_name_data):\n",
    "    os.makedirs(dir_name_data)\n",
    "\n",
    "counter = 0\n",
    "while True:\n",
    "    dir_check = 'data_' + str(counter).zfill(3)\n",
    "    if os.path.isdir(dir_name_data + dir_sep + dir_check):\n",
    "        counter += 1\n",
    "    else:\n",
    "        break\n",
    "\n",
    "dir_name_data = dir_name_data + dir_sep + dir_check\n",
    "os.makedirs(dir_name_data)\n",
    "print('dir_name_data:', dir_name_data)\n",
    "\n",
    "total_lyaptimesteps_totrain = int((T+0.5*mean_lyaptime)//mean_lyaptime)\n",
    "\n",
    "# saving sim data\n",
    "sim_data = {\n",
    "    'params_mat':params_mat,\n",
    "    't0':t0,\n",
    "    'T':T,\n",
    "    'delta_t':delta_t,\n",
    "    'numpoints_xgrid':numpoints_xgrid,\n",
    "    'length':length,\n",
    "    'return_params_arr':return_params_arr,\n",
    "    'normalize_flag':normalize_flag,\n",
    "    'alldata_withparams_flag':alldata_withparams_flag,\n",
    "    'prng_seed':prng_seed,\n",
    "    'total_lyaptimesteps_totrain':total_lyaptimesteps_totrain\n",
    "}\n",
    "with open(dir_name_data+dir_sep+'sim_data_params.txt', 'w') as f:\n",
    "    f.write(str(sim_data))"
   ]
  },
  {
   "cell_type": "code",
   "execution_count": null,
   "metadata": {
    "executionInfo": {
     "elapsed": 5,
     "status": "ok",
     "timestamp": 1667836034321,
     "user": {
      "displayName": "Rohan Kaushik",
      "userId": "13918477614376051685"
     },
     "user_tz": -60
    },
    "id": "-MJa7P5t5KiC",
    "scrolled": false
   },
   "outputs": [],
   "source": [
    "# saving the data\n",
    "np.savez(\n",
    "    dir_name_data+dir_sep+'data',\n",
    "    all_data=all_data,\n",
    "    boundary_idx_arr=boundary_idx_arr,\n",
    "    normalization_constant_arr=[normalization_constant_arr],\n",
    "    initial_t0=initial_t0,\n",
    "    init_state_org=init_state,\n",
    "    init_state_mat=init_state_mat,\n",
    "    lyapunov_spectrum_mat=lpspectrum_mat,\n",
    "    )"
   ]
  },
  {
   "cell_type": "code",
   "execution_count": null,
   "metadata": {
    "executionInfo": {
     "elapsed": 9080,
     "status": "ok",
     "timestamp": 1667836043396,
     "user": {
      "displayName": "Rohan Kaushik",
      "userId": "13918477614376051685"
     },
     "user_tz": -60
    },
    "id": "7FkCSLnvOu3W"
   },
   "outputs": [],
   "source": [
    "# plotting the data and saving the plots\n",
    "dir_plot = dir_name_data+dir_sep+'plots'\n",
    "os.makedirs(dir_plot)\n",
    "\n",
    "# computing xticks_snapto\n",
    "chosen_interval = ((boundary_idx_arr[0]+np.sum(boundary_idx_arr[1:]-boundary_idx_arr[0:-1]))*delta_t/boundary_idx_arr.shape[0])//10\n",
    "sn = np.format_float_scientific(chosen_interval, exp_digits=4)\n",
    "snap = np.max([0.1, 25*np.round(100*float(sn[0:-6])/25)/100])\n",
    "snap *= float('1'+sn[-6:])\n",
    "xticks_snapto = int(snap*np.round(chosen_interval/snap))\n",
    "# roundtomultipleof = 5000\n",
    "# xticks_snapto = int(roundtomultipleof*np.round((T/10)/roundtomultipleof, 0))\n",
    "\n",
    "plot(\n",
    "    boundary_idx_arr,\n",
    "    delta_t,\n",
    "    all_data,\n",
    "    xgrid,\n",
    "    xticks_snapto=xticks_snapto,\n",
    "    num_yticks=11,\n",
    "    save_dir=dir_plot,\n",
    "    xlabel=r'Time',\n",
    "    ylabel=r'$x$',\n",
    "    ax_titles_list=None\n",
    ")"
   ]
  },
  {
   "cell_type": "code",
   "execution_count": null,
   "metadata": {},
   "outputs": [],
   "source": [
    "plt.plot(lpspectrum_mat, '--', marker='^', linewidth=0.9)\n",
    "# plt.xlabel(r'$$')\n",
    "plt.ylabel(r'Lyapunov exponent ($\\lambda_i$)')\n",
    "plt.title(r'Lyapunov Spectrum')\n",
    "plt.show()\n",
    "plt.savefig(dir_plot+'/lp_spectrum.png', dpi=300, bbox_inches='tight')"
   ]
  },
  {
   "cell_type": "code",
   "execution_count": null,
   "metadata": {
    "executionInfo": {
     "elapsed": 20,
     "status": "ok",
     "timestamp": 1667836043397,
     "user": {
      "displayName": "Rohan Kaushik",
      "userId": "13918477614376051685"
     },
     "user_tz": -60
    },
    "id": "dbLa0AwlDBWh"
   },
   "outputs": [],
   "source": [
    "fl = np.load(dir_name_data+dir_sep+'data.npz', allow_pickle=True)"
   ]
  },
  {
   "cell_type": "code",
   "execution_count": null,
   "metadata": {
    "colab": {
     "base_uri": "https://localhost:8080/"
    },
    "executionInfo": {
     "elapsed": 19,
     "status": "ok",
     "timestamp": 1667836043397,
     "user": {
      "displayName": "Rohan Kaushik",
      "userId": "13918477614376051685"
     },
     "user_tz": -60
    },
    "id": "fGQN5p7rNVV3",
    "outputId": "ff071364-61d3-4209-ded8-a381e593661d"
   },
   "outputs": [],
   "source": [
    "fl.files"
   ]
  },
  {
   "cell_type": "code",
   "execution_count": null,
   "metadata": {
    "executionInfo": {
     "elapsed": 8,
     "status": "ok",
     "timestamp": 1667836043398,
     "user": {
      "displayName": "Rohan Kaushik",
      "userId": "13918477614376051685"
     },
     "user_tz": -60
    },
    "id": "wYl-tsRIcXvP"
   },
   "outputs": [],
   "source": []
  },
  {
   "cell_type": "code",
   "execution_count": null,
   "metadata": {
    "executionInfo": {
     "elapsed": 7,
     "status": "ok",
     "timestamp": 1667836043398,
     "user": {
      "displayName": "Rohan Kaushik",
      "userId": "13918477614376051685"
     },
     "user_tz": -60
    },
    "id": "edIzUzi6cyxn"
   },
   "outputs": [],
   "source": []
  },
  {
   "cell_type": "code",
   "execution_count": null,
   "metadata": {
    "executionInfo": {
     "elapsed": 7,
     "status": "ok",
     "timestamp": 1667836043399,
     "user": {
      "displayName": "Rohan Kaushik",
      "userId": "13918477614376051685"
     },
     "user_tz": -60
    },
    "id": "zX5fbgPVdIVh"
   },
   "outputs": [],
   "source": []
  }
 ],
 "metadata": {
  "colab": {
   "collapsed_sections": [],
   "provenance": []
  },
  "gpuClass": "standard",
  "kernelspec": {
   "display_name": "Python 3 (ipykernel)",
   "language": "python",
   "name": "python3"
  },
  "language_info": {
   "codemirror_mode": {
    "name": "ipython",
    "version": 3
   },
   "file_extension": ".py",
   "mimetype": "text/x-python",
   "name": "python",
   "nbconvert_exporter": "python",
   "pygments_lexer": "ipython3",
   "version": "3.10.6"
  }
 },
 "nbformat": 4,
 "nbformat_minor": 1
}
