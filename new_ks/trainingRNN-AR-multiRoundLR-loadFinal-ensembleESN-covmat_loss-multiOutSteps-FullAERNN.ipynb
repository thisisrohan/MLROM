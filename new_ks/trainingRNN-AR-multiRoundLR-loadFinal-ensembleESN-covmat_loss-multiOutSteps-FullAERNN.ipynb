{
 "cells": [
  {
   "cell_type": "code",
   "execution_count": 1,
   "metadata": {
    "executionInfo": {
     "elapsed": 3,
     "status": "ok",
     "timestamp": 1667868739487,
     "user": {
      "displayName": "Rohan Kaushik",
      "userId": "13918477614376051685"
     },
     "user_tz": -60
    },
    "id": "4xhxMpe_r-Y5"
   },
   "outputs": [],
   "source": [
    "# enabling 3rd party widgets\n",
    "# from google.colab import output\n",
    "# output.enable_custom_widget_manager()\n",
    "# output.disable_custom_widget_manager()\n",
    "\n",
    "# interactive 3D plot\n",
    "# !pip install ipympl\n",
    "# %matplotlib widget"
   ]
  },
  {
   "cell_type": "code",
   "execution_count": 2,
   "metadata": {
    "executionInfo": {
     "elapsed": 3563,
     "status": "ok",
     "timestamp": 1667868743047,
     "user": {
      "displayName": "Rohan Kaushik",
      "userId": "13918477614376051685"
     },
     "user_tz": -60
    },
    "id": "a5qPupCDsjSz"
   },
   "outputs": [],
   "source": [
    "import os\n",
    "import math\n",
    "from collections import OrderedDict\n",
    "import numpy as np\n",
    "import matplotlib.pyplot as plt\n",
    "from scipy import linalg\n",
    "\n",
    "import time as time\n",
    "import platform as platform\n",
    "\n",
    "import tensorflow as tf\n",
    "from tensorflow.keras import layers, losses\n",
    "from tensorflow.keras.models import Model\n",
    "from tensorflow.keras import backend as K\n",
    "from tensorflow.keras.regularizers import L2\n",
    "from keras.engine import data_adapter\n",
    "import h5py\n",
    "\n",
    "tf.keras.backend.set_floatx('float32')\n",
    "\n",
    "plt.rcParams.update({\n",
    "    \"text.usetex\":True,\n",
    "    \"font.family\":\"serif\"\n",
    "})"
   ]
  },
  {
   "cell_type": "code",
   "execution_count": 3,
   "metadata": {
    "colab": {
     "base_uri": "https://localhost:8080/"
    },
    "executionInfo": {
     "elapsed": 10,
     "status": "ok",
     "timestamp": 1667868743048,
     "user": {
      "displayName": "Rohan Kaushik",
      "userId": "13918477614376051685"
     },
     "user_tz": -60
    },
    "id": "h_qXhHdbCgoj",
    "outputId": "3473a883-d145-4778-9be7-7d44e0c6ea67"
   },
   "outputs": [],
   "source": [
    "colab_flag = False\n",
    "FTYPE = np.float32\n",
    "ITYPE = np.int32\n",
    "\n",
    "strategy = None\n",
    "# strategy = tf.distribute.MirroredStrategy()"
   ]
  },
  {
   "cell_type": "code",
   "execution_count": 4,
   "metadata": {
    "executionInfo": {
     "elapsed": 7,
     "status": "ok",
     "timestamp": 1667868743048,
     "user": {
      "displayName": "Rohan Kaushik",
      "userId": "13918477614376051685"
     },
     "user_tz": -60
    },
    "id": "BiLIUmBPneQR"
   },
   "outputs": [],
   "source": [
    "current_sys = platform.system()\n",
    "\n",
    "if current_sys == 'Windows':\n",
    "    dir_sep = '\\\\'\n",
    "else:\n",
    "    dir_sep = '/'"
   ]
  },
  {
   "cell_type": "code",
   "execution_count": 5,
   "metadata": {
    "colab": {
     "base_uri": "https://localhost:8080/"
    },
    "executionInfo": {
     "elapsed": 18870,
     "status": "ok",
     "timestamp": 1667868761912,
     "user": {
      "displayName": "Rohan Kaushik",
      "userId": "13918477614376051685"
     },
     "user_tz": -60
    },
    "id": "fnTV6Anhni6O",
    "outputId": "bf1d11f8-667f-4cb5-d8d5-b9d860b44d99"
   },
   "outputs": [],
   "source": [
    "if colab_flag == True:\n",
    "    from google.colab import drive\n",
    "    drive.mount('/content/drive')\n",
    "    os.chdir('/content/drive/MyDrive/Github/MLROM/KS/')"
   ]
  },
  {
   "cell_type": "code",
   "execution_count": 6,
   "metadata": {
    "colab": {
     "base_uri": "https://localhost:8080/"
    },
    "executionInfo": {
     "elapsed": 6,
     "status": "ok",
     "timestamp": 1667868761912,
     "user": {
      "displayName": "Rohan Kaushik",
      "userId": "13918477614376051685"
     },
     "user_tz": -60
    },
    "id": "paDfPOrjnkAS",
    "outputId": "58054510-4476-49b4-f8ba-e2978a028b36"
   },
   "outputs": [
    {
     "name": "stdout",
     "output_type": "stream",
     "text": [
      "/home/rkaushik/Documents/Thesis/MLROM/new_ks\n"
     ]
    }
   ],
   "source": [
    "print(os.getcwd())"
   ]
  },
  {
   "cell_type": "code",
   "execution_count": 7,
   "metadata": {
    "executionInfo": {
     "elapsed": 4575,
     "status": "ok",
     "timestamp": 1667868766483,
     "user": {
      "displayName": "Rohan Kaushik",
      "userId": "13918477614376051685"
     },
     "user_tz": -60
    },
    "id": "P6K2YWlR6ZPD"
   },
   "outputs": [],
   "source": [
    "from tools.misc_tools import create_data_for_RNN, mytimecallback, SaveLosses, plot_losses, plot_reconstructed_data_KS, plot_latent_states_KS , readAndReturnLossHistories, sigmoidWarmupAndDecayLRSchedule\n",
    "from tools.ae_v1 import Autoencoder\n",
    "from tools.ESN_v1_ensembleAR import ESN_ensemble as AR_RNN\n",
    "from tools.AEESN_AR_v2 import AR_AERNN_ESN as AR_AERNN\n",
    "from tools.trainAEESN_ensemble import trainAERNN"
   ]
  },
  {
   "cell_type": "code",
   "execution_count": 8,
   "metadata": {
    "executionInfo": {
     "elapsed": 9,
     "status": "ok",
     "timestamp": 1667868766483,
     "user": {
      "displayName": "Rohan Kaushik",
      "userId": "13918477614376051685"
     },
     "user_tz": -60
    },
    "id": "_xtkwXE2tGTP"
   },
   "outputs": [],
   "source": [
    "behaviour = 'initialiseAndTrainFromScratch'\n",
    "# behaviour = 'loadCheckpointAndContinueTraining'\n",
    "# behaviour = 'loadFinalNetAndPlot'"
   ]
  },
  {
   "cell_type": "code",
   "execution_count": null,
   "metadata": {
    "executionInfo": {
     "elapsed": 9,
     "status": "ok",
     "timestamp": 1667868766484,
     "user": {
      "displayName": "Rohan Kaushik",
      "userId": "13918477614376051685"
     },
     "user_tz": -60
    },
    "id": "8S1AHEkl48bn"
   },
   "outputs": [],
   "source": []
  },
  {
   "cell_type": "code",
   "execution_count": 9,
   "metadata": {
    "colab": {
     "base_uri": "https://localhost:8080/"
    },
    "executionInfo": {
     "elapsed": 9,
     "status": "ok",
     "timestamp": 1667868766484,
     "user": {
      "displayName": "Rohan Kaushik",
      "userId": "13918477614376051685"
     },
     "user_tz": -60
    },
    "id": "qvA9oeCHCTVM",
    "outputId": "0f2de849-59ee-4ed9-b65d-c5952e0dcb55"
   },
   "outputs": [
    {
     "name": "stdout",
     "output_type": "stream",
     "text": [
      "[PhysicalDevice(name='/physical_device:GPU:0', device_type='GPU'), PhysicalDevice(name='/physical_device:GPU:1', device_type='GPU')]\n",
      "[LogicalDevice(name='/device:GPU:0', device_type='GPU')]\n"
     ]
    },
    {
     "name": "stderr",
     "output_type": "stream",
     "text": [
      "2023-06-21 17:21:10.536630: I tensorflow/stream_executor/cuda/cuda_gpu_executor.cc:936] successful NUMA node read from SysFS had negative value (-1), but there must be at least one NUMA node, so returning NUMA node zero\n",
      "2023-06-21 17:21:10.536893: I tensorflow/stream_executor/cuda/cuda_gpu_executor.cc:936] successful NUMA node read from SysFS had negative value (-1), but there must be at least one NUMA node, so returning NUMA node zero\n",
      "2023-06-21 17:21:10.572053: I tensorflow/stream_executor/cuda/cuda_gpu_executor.cc:936] successful NUMA node read from SysFS had negative value (-1), but there must be at least one NUMA node, so returning NUMA node zero\n",
      "2023-06-21 17:21:10.572288: I tensorflow/stream_executor/cuda/cuda_gpu_executor.cc:936] successful NUMA node read from SysFS had negative value (-1), but there must be at least one NUMA node, so returning NUMA node zero\n",
      "2023-06-21 17:21:10.572468: I tensorflow/stream_executor/cuda/cuda_gpu_executor.cc:936] successful NUMA node read from SysFS had negative value (-1), but there must be at least one NUMA node, so returning NUMA node zero\n",
      "2023-06-21 17:21:10.572639: I tensorflow/stream_executor/cuda/cuda_gpu_executor.cc:936] successful NUMA node read from SysFS had negative value (-1), but there must be at least one NUMA node, so returning NUMA node zero\n",
      "2023-06-21 17:21:10.573447: I tensorflow/core/platform/cpu_feature_guard.cc:151] This TensorFlow binary is optimized with oneAPI Deep Neural Network Library (oneDNN) to use the following CPU instructions in performance-critical operations:  SSE4.1 SSE4.2 AVX AVX2 FMA\n",
      "To enable them in other operations, rebuild TensorFlow with the appropriate compiler flags.\n",
      "2023-06-21 17:21:10.574063: I tensorflow/stream_executor/cuda/cuda_gpu_executor.cc:936] successful NUMA node read from SysFS had negative value (-1), but there must be at least one NUMA node, so returning NUMA node zero\n",
      "2023-06-21 17:21:10.574271: I tensorflow/stream_executor/cuda/cuda_gpu_executor.cc:936] successful NUMA node read from SysFS had negative value (-1), but there must be at least one NUMA node, so returning NUMA node zero\n",
      "2023-06-21 17:21:10.574453: I tensorflow/stream_executor/cuda/cuda_gpu_executor.cc:936] successful NUMA node read from SysFS had negative value (-1), but there must be at least one NUMA node, so returning NUMA node zero\n",
      "2023-06-21 17:21:11.079877: I tensorflow/stream_executor/cuda/cuda_gpu_executor.cc:936] successful NUMA node read from SysFS had negative value (-1), but there must be at least one NUMA node, so returning NUMA node zero\n",
      "2023-06-21 17:21:11.080091: I tensorflow/stream_executor/cuda/cuda_gpu_executor.cc:936] successful NUMA node read from SysFS had negative value (-1), but there must be at least one NUMA node, so returning NUMA node zero\n",
      "2023-06-21 17:21:11.080270: I tensorflow/stream_executor/cuda/cuda_gpu_executor.cc:936] successful NUMA node read from SysFS had negative value (-1), but there must be at least one NUMA node, so returning NUMA node zero\n",
      "2023-06-21 17:21:11.080420: I tensorflow/core/common_runtime/gpu/gpu_device.cc:1525] Created device /job:localhost/replica:0/task:0/device:GPU:0 with 3365 MB memory:  -> device: 1, name: Quadro K2200, pci bus id: 0000:03:00.0, compute capability: 5.0\n"
     ]
    }
   ],
   "source": [
    "gpus = tf.config.list_physical_devices('GPU')\n",
    "print(gpus)\n",
    "\n",
    "if colab_flag == False:\n",
    "    if strategy is None:\n",
    "        if gpus:\n",
    "            gpu_to_use = 1\n",
    "            tf.config.set_visible_devices(gpus[gpu_to_use], 'GPU')\n",
    "    logical_devices = tf.config.list_logical_devices('GPU')\n",
    "    print(logical_devices)"
   ]
  },
  {
   "cell_type": "code",
   "execution_count": 10,
   "metadata": {
    "colab": {
     "base_uri": "https://localhost:8080/"
    },
    "executionInfo": {
     "elapsed": 8,
     "status": "ok",
     "timestamp": 1667868766484,
     "user": {
      "displayName": "Rohan Kaushik",
      "userId": "13918477614376051685"
     },
     "user_tz": -60
    },
    "id": "tc3zO9xL_tNl",
    "outputId": "c9786b4c-8510-47d0-801d-181e3b12239c"
   },
   "outputs": [
    {
     "name": "stdout",
     "output_type": "stream",
     "text": [
      "[PhysicalDevice(name='/physical_device:CPU:0', device_type='CPU'), PhysicalDevice(name='/physical_device:GPU:0', device_type='GPU'), PhysicalDevice(name='/physical_device:GPU:1', device_type='GPU')]\n",
      "\n",
      "[LogicalDevice(name='/device:CPU:0', device_type='CPU'), LogicalDevice(name='/device:GPU:0', device_type='GPU')]\n",
      "\n",
      "2.8.1\n"
     ]
    }
   ],
   "source": [
    "# print(tf.test.gpu_device_name())\n",
    "print(tf.config.list_physical_devices())\n",
    "print('')\n",
    "print(tf.config.list_logical_devices())\n",
    "print('')\n",
    "print(tf.__version__)"
   ]
  },
  {
   "cell_type": "markdown",
   "metadata": {
    "id": "7UbdnOtc4_z9"
   },
   "source": [
    "# KS System"
   ]
  },
  {
   "cell_type": "code",
   "execution_count": 11,
   "metadata": {
    "executionInfo": {
     "elapsed": 6,
     "status": "ok",
     "timestamp": 1667868766485,
     "user": {
      "displayName": "Rohan Kaushik",
      "userId": "13918477614376051685"
     },
     "user_tz": -60
    },
    "id": "8aNkoXfyGq52"
   },
   "outputs": [
    {
     "name": "stdout",
     "output_type": "stream",
     "text": [
      "dir_name_AR_AErnn: /home/rkaushik/Documents/Thesis/MLROM/new_ks/saved_AR_AEESN_rnn/AR_ESN_ensemble_003\n",
      "dir_name_rnn: /home/rkaushik/Documents/Thesis/MLROM/new_ks/saved_ESN_ensemble/ESN_ensemble_000\n",
      "dir_name_ae: /home/rkaushik/Documents/Thesis/MLROM/new_ks/saved_ae/ae_000\n",
      "data_dir_idx: 000\n",
      "normalize_flag_ogdata: False\n"
     ]
    }
   ],
   "source": [
    "# setting up params (and saving, if applicable)\n",
    "from numpy import *\n",
    "\n",
    "if behaviour == 'initialiseAndTrainFromScratch':\n",
    "    # RNN directory\n",
    "    dir_name_rnn = os.getcwd()+'/saved_ESN_ensemble/ESN_ensemble_000'\n",
    "\n",
    "    # making AR-RNN save directory\n",
    "    dir_name_ARrnn = os.getcwd() + dir_sep + 'saved_AR_AEESN_rnn'\n",
    "    if not os.path.isdir(dir_name_ARrnn):\n",
    "        os.makedirs(dir_name_ARrnn)\n",
    "\n",
    "    counter = 0\n",
    "    while True:\n",
    "        dir_check = 'AR_ESN_ensemble_' + str(counter).zfill(3)\n",
    "        if os.path.isdir(dir_name_ARrnn + dir_sep + dir_check):\n",
    "            counter += 1\n",
    "        else:\n",
    "            break\n",
    "\n",
    "    dir_name_ARrnn = dir_name_ARrnn + dir_sep + dir_check\n",
    "    os.makedirs(dir_name_ARrnn)\n",
    "    os.makedirs(dir_name_ARrnn+dir_sep+'plots')\n",
    "    \n",
    "    # reading RNN paramaters\n",
    "    with open(dir_name_rnn + '/RNN_specific_data.txt') as f:\n",
    "        lines = f.readlines()\n",
    "\n",
    "    params_rnn_dict = eval(''.join(lines))\n",
    "\n",
    "    dt_rnn = params_rnn_dict['dt_rnn']\n",
    "    return_params_arr = params_rnn_dict['return_params_arr']\n",
    "    params = params_rnn_dict['params']\n",
    "    try:\n",
    "        normalize_dataset = params_rnn_dict['normalize_dataset']\n",
    "    except:\n",
    "        print(\"'normalize_dataset' not present in rnn_specific_data, set to False.\")\n",
    "        normalize_dataset = False\n",
    "    try:\n",
    "        stddev_multiplier = params_rnn_dict['stddev_multiplier']\n",
    "    except:\n",
    "        print(\"'stddev_multiplier' not present in RNN_specific_data, set to None.\")\n",
    "        stddev_multiplier = None\n",
    "    try:\n",
    "        skip_intermediate = params_rnn_dict['skip_intermediate']\n",
    "    except:\n",
    "        print(\"'skip_intermediate' not present in RNN_specific_data, set to 1.\")\n",
    "        skip_intermediate = 1\n",
    "    try:\n",
    "        normalization_type = params_rnn_dict['normalization_type']\n",
    "    except:\n",
    "        print(\"'normalization_type' not present in RNN_specific_data, set to 'stddev'.\")\n",
    "        normalization_type = 'stddev'\n",
    "        \n",
    "    \n",
    "    # training params\n",
    "    with open(dir_name_rnn + dir_sep + 'training_specific_params.txt') as f:\n",
    "        lines = f.readlines()\n",
    "\n",
    "    tparams_dict = eval(''.join(lines))\n",
    "\n",
    "    prng_seed = tparams_dict['prng_seed']\n",
    "    train_split = tparams_dict['train_split']\n",
    "    val_split = tparams_dict['val_split']\n",
    "    batch_size = tparams_dict['batch_size']\n",
    "    try:\n",
    "        fRMS = tparams_dict['fRMS']\n",
    "    except:\n",
    "        fRMS = 0.0\n",
    "\n",
    "    loss_weights = 0.98\n",
    "else:\n",
    "    # AR-RNN directory\n",
    "    dir_name_ARrnn = os.getcwd()+'/saved_AR_AERNN_rnn/AR_rnn_014'\n",
    "\n",
    "    # reading AR-RNN parameters\n",
    "    with open(dir_name_ARrnn + '/AR_RNN_specific_data.txt') as f:\n",
    "        lines = f.readlines()\n",
    "    \n",
    "    params_AR_rnn_dict = eval(''.join(lines))\n",
    "\n",
    "    dir_name_rnn = params_AR_rnn_dict['dir_name_rnn']\n",
    "    rnn_idx = dir_name_rnn[-3:]\n",
    "    dir_name_rnn = os.getcwd()+'/saved_ESN/ESN_'+rnn_idx\n",
    "\n",
    "    dt_rnn = params_AR_rnn_dict['dt_rnn']\n",
    "    T_sample_input = params_AR_rnn_dict['T_sample_input']\n",
    "    T_sample_output = params_AR_rnn_dict['T_sample_output']\n",
    "    T_offset = params_AR_rnn_dict['T_offset']\n",
    "    return_params_arr = params_AR_rnn_dict['return_params_arr']\n",
    "    params = params_AR_rnn_dict['params']\n",
    "    try:\n",
    "        normalize_dataset = params_AR_rnn_dict['normalize_dataset']\n",
    "    except:\n",
    "        print(\"'normalize_dataset' not present in AR_rnn_specific_data, set to False.\")\n",
    "        normalize_dataset = False\n",
    "    try:\n",
    "        stddev_multiplier = params_AR_rnn_dict['stddev_multiplier']\n",
    "    except:\n",
    "        print(\"'stddev_multiplier' not present in AR_RNN_specific_data, set to None.\")\n",
    "        stddev_multiplier = None\n",
    "    try:\n",
    "        skip_intermediate = params_AR_rnn_dict['skip_intermediate']\n",
    "    except:\n",
    "        print(\"'skip_intermediate' not present in AR_RNN_specific_data, set to 1.\")\n",
    "        skip_intermediate = 1\n",
    "    try:\n",
    "        use_ae_data = params_AR_rnn_dict['use_ae_data']\n",
    "    except:\n",
    "        print(\"'use_ae_data' not present in AR_RNN_specific_data, set to True.\")\n",
    "        use_ae_data = True\n",
    "    try:\n",
    "        normalization_type = params_AR_rnn_dict['normalization_type']\n",
    "    except:\n",
    "        print(\"'normalization_type' not present in AR_RNN_specific_data, set to 'stddev'.\")\n",
    "        normalization_type = 'stddev'\n",
    "\n",
    "    # training params\n",
    "    with open(dir_name_ARrnn + dir_sep + 'training_specific_params.txt') as f:\n",
    "        lines = f.readlines()\n",
    "\n",
    "    tparams_dict = eval(''.join(lines))\n",
    "\n",
    "    learning_rate_list = tparams_dict['learning_rate_list']\n",
    "    epochs = tparams_dict['epochs']\n",
    "    patience = tparams_dict['patience']\n",
    "    min_delta = tparams_dict['min_delta']\n",
    "    prng_seed = tparams_dict['prng_seed']\n",
    "    train_split = tparams_dict['train_split']\n",
    "    val_split = tparams_dict['val_split']\n",
    "    batch_size = tparams_dict['batch_size']\n",
    "    covmat_lmda = tparams_dict['covmat_lmda']\n",
    "    try:\n",
    "        lambda_reg = tparams_dict['lambda_reg']\n",
    "    except:\n",
    "        lambda_reg = 1e-6\n",
    "    try:\n",
    "        fRMS = tparams_dict['fRMS']\n",
    "    except:\n",
    "        fRMS = 0.0\n",
    "    try:\n",
    "        loss_weights = tparams_dict['loss_weights']\n",
    "    except:\n",
    "        loss_weights = None\n",
    "    if 'freeze_layers' in tparams_dict.keys():\n",
    "        freeze_layers = tparams_dict['freeze_layers']\n",
    "    else:\n",
    "        freeze_layers = None\n",
    "    if 'clipnorm' in tparams_dict.keys():\n",
    "        clipnorm = tparams_dict['clipnorm']\n",
    "    else:\n",
    "        clipnorm = None\n",
    "    \n",
    "\n",
    "\n",
    "# reading stddev\n",
    "with open(dir_name_rnn + '/final_net/0_final_net_class_dict.txt') as f:\n",
    "    lines = f.readlines()\n",
    "finalnet_dict = eval(''.join(lines))\n",
    "stddev = finalnet_dict['stddev']\n",
    "# stddev = 0.0\n",
    "\n",
    "# reading RNN normalization constants\n",
    "normalization_arr_rnn = None\n",
    "if normalize_dataset == True:\n",
    "    with open(dir_name_rnn + '/final_net/rnn_normalization.txt') as f:\n",
    "        lines = f.readlines()\n",
    "    normarr_rnn_dict = eval(''.join(lines))\n",
    "    normalization_arr_rnn = normarr_rnn_dict['normalization_arr']\n",
    "\n",
    "if os.path.exists(dir_name_rnn+dir_sep+'normalization_data.npz'):\n",
    "    with np.load(dir_name_rnn+dir_sep+'normalization_data.npz', allow_pickle=True) as fl:\n",
    "        normalization_arr_rnn = fl['normalization_arr'][0]\n",
    "\n",
    "# reading AE directory\n",
    "with open(dir_name_rnn + '/sim_data_AE_params.txt') as f:\n",
    "    lines = f.readlines()\n",
    "\n",
    "params_dict = eval(''.join(lines))\n",
    "\n",
    "dir_name_ae = params_dict['dir_name_ae']\n",
    "ae_idx = dir_name_ae[-3:]\n",
    "dir_name_ae = os.getcwd()+'/saved_ae/ae_'+ae_idx\n",
    "try:\n",
    "    use_ae_data = params_dict['use_ae_data']\n",
    "except:\n",
    "    print(\"'use_ae_data' not present in sim_data_AE_params, set to True.\")\n",
    "    use_ae_data = True\n",
    "\n",
    "# reading simulation parameters\n",
    "with open(dir_name_ae + dir_sep + 'ae_data.txt') as f:\n",
    "    lines = f.readlines()\n",
    "params_dict = eval(''.join(lines))\n",
    "data_dir_idx = params_dict['data_dir_idx']\n",
    "normalizeforae_flag = params_dict['normalizeforae_flag']\n",
    "normalization_constant_arr_aedata = params_dict['normalization_constant_arr_aedata']\n",
    "if os.path.exists(dir_name_ae+dir_sep+'normalization_data.npz'):\n",
    "    with np.load(dir_name_ae+dir_sep+'normalization_data.npz', allow_pickle=True) as fl:\n",
    "        normalization_constant_arr_aedata = fl['normalization_constant_arr_aedata'][0]\n",
    "try:\n",
    "    ae_data_with_params = params_dict['ae_data_with_params']\n",
    "except:\n",
    "    print(\"'ae_data_with_params' not present in ae_data, set to True.\")\n",
    "    ae_data_with_params = True\n",
    "\n",
    "print('dir_name_AR_AErnn:', dir_name_ARrnn)\n",
    "print('dir_name_rnn:', dir_name_rnn)\n",
    "print('dir_name_ae:', dir_name_ae)\n",
    "print('data_dir_idx:', data_dir_idx)\n",
    "\n",
    "# loading data\n",
    "dir_name_data = os.getcwd() + dir_sep + 'saved_data' + dir_sep + 'data_' + data_dir_idx\n",
    "    \n",
    "with open(dir_name_data + dir_sep + 'sim_data_params.txt') as f:\n",
    "    lines = f.readlines()\n",
    "params_dict = eval(''.join(lines))\n",
    "params_mat = params_dict['params_mat']\n",
    "# init_state_mat = params_dict['init_state_mat']\n",
    "t0 = params_dict['t0']\n",
    "T = params_dict['T']\n",
    "delta_t = params_dict['delta_t']\n",
    "numpoints_xgrid = params_dict['numpoints_xgrid']\n",
    "length = params_dict['length']\n",
    "return_params_arr = params_dict['return_params_arr']\n",
    "normalize_flag_ogdata = params_dict['normalize_flag']\n",
    "print('normalize_flag_ogdata:', normalize_flag_ogdata)\n",
    "alldata_withparams_flag = params_dict['alldata_withparams_flag']\n",
    "\n",
    "xgrid = length*np.linspace(0, 1, numpoints_xgrid)\n",
    "\n",
    "with np.load(dir_name_data+dir_sep+'data.npz', allow_pickle=True) as fl:\n",
    "    all_data = fl['all_data']\n",
    "    boundary_idx_arr = fl['boundary_idx_arr']\n",
    "    normalization_constant_arr_ogdata = fl['normalization_constant_arr'][0]\n",
    "    initial_t0 = fl['initial_t0']\n",
    "    init_state_mat = fl['init_state_mat']\n",
    "    lyapunov_spectrum_mat = fl['lyapunov_spectrum_mat']\n",
    "\n",
    "\n",
    "test_split = 1 - train_split - val_split\n",
    "\n",
    "# setting seed for PRNGs\n",
    "np.random.seed(prng_seed)\n",
    "tf.random.set_seed(prng_seed)"
   ]
  },
  {
   "cell_type": "code",
   "execution_count": null,
   "metadata": {
    "colab": {
     "base_uri": "https://localhost:8080/"
    },
    "executionInfo": {
     "elapsed": 5768,
     "status": "ok",
     "timestamp": 1667868772247,
     "user": {
      "displayName": "Rohan Kaushik",
      "userId": "13918477614376051685"
     },
     "user_tz": -60
    },
    "id": "O7sl7i5H5Dqz",
    "outputId": "419ef0e0-4d58-454e-d0af-17af3b846b85"
   },
   "outputs": [],
   "source": []
  },
  {
   "cell_type": "code",
   "execution_count": 12,
   "metadata": {
    "colab": {
     "base_uri": "https://localhost:8080/"
    },
    "executionInfo": {
     "elapsed": 541,
     "status": "ok",
     "timestamp": 1667868772777,
     "user": {
      "displayName": "Rohan Kaushik",
      "userId": "13918477614376051685"
     },
     "user_tz": -60
    },
    "id": "ySVDz_2U5FH5",
    "outputId": "c57be82f-527d-4e83-a605-aac85c39088e"
   },
   "outputs": [
    {
     "name": "stdout",
     "output_type": "stream",
     "text": [
      "Case : 1, lyapunov exponent : 0.06465670311438651, lyapunov time : 15.466300964355469s\n"
     ]
    }
   ],
   "source": [
    "lyapunov_time_arr = np.empty(shape=lyapunov_spectrum_mat.shape[0], dtype=FTYPE)\n",
    "for i in range(lyapunov_spectrum_mat.shape[0]):\n",
    "    lyapunov_time_arr[i] = 1/lyapunov_spectrum_mat[i, 0]\n",
    "    print('Case : {}, lyapunov exponent : {}, lyapunov time : {}s'.format(i+1, lyapunov_spectrum_mat[i, 0], lyapunov_time_arr[i]))"
   ]
  },
  {
   "cell_type": "code",
   "execution_count": null,
   "metadata": {
    "executionInfo": {
     "elapsed": 3,
     "status": "ok",
     "timestamp": 1667868772778,
     "user": {
      "displayName": "Rohan Kaushik",
      "userId": "13918477614376051685"
     },
     "user_tz": -60
    },
    "id": "bkQx9q_p5Gro"
   },
   "outputs": [],
   "source": []
  },
  {
   "cell_type": "code",
   "execution_count": null,
   "metadata": {
    "colab": {
     "base_uri": "https://localhost:8080/",
     "height": 370
    },
    "executionInfo": {
     "elapsed": 1487,
     "status": "ok",
     "timestamp": 1667868774262,
     "user": {
      "displayName": "Rohan Kaushik",
      "userId": "13918477614376051685"
     },
     "user_tz": -60
    },
    "id": "uDhfYHU45IS8",
    "outputId": "5307dc6a-17c5-4c77-dac5-fcb96116ac44"
   },
   "outputs": [],
   "source": []
  },
  {
   "cell_type": "code",
   "execution_count": 13,
   "metadata": {
    "executionInfo": {
     "elapsed": 6,
     "status": "ok",
     "timestamp": 1667868774263,
     "user": {
      "displayName": "Rohan Kaushik",
      "userId": "13918477614376051685"
     },
     "user_tz": -60
    },
    "id": "-MJa7P5t5KiC",
    "scrolled": true
   },
   "outputs": [],
   "source": [
    "# delaing with normalizing the data before feeding into autoencoder\n",
    "num_params = params_mat.shape[1]\n",
    "og_vars = all_data.shape[1]\n",
    "if alldata_withparams_flag == True:\n",
    "    og_vars -= num_params\n",
    "\n",
    "# if use_ae_data == True:\n",
    "#     if ae_data_with_params == True and alldata_withparams_flag == False:\n",
    "#         new_all_data = np.empty(shape=(all_data.shape[0], og_vars+num_params), dtype=FTYPE)\n",
    "#         new_all_data[:, 0:og_vars] = all_data[:, 0:og_vars]\n",
    "#         del(all_data)\n",
    "#         all_data = new_all_data\n",
    "#         prev_idx = 0\n",
    "#         for i in range(boundary_idx_arr.shape[0]):\n",
    "#             all_data[prev_idx:boundary_idx_arr[i], num_params:] = params_mat[i]\n",
    "#             prev_idx = boundary_idx_arr[i]\n",
    "\n",
    "#     if normalizeforae_flag == True:\n",
    "#         for i in range(all_data.shape[1]):\n",
    "#             all_data[:, i] -= normalization_constant_arr_aedata[0, i]\n",
    "#             all_data[:, i] /= normalization_constant_arr_aedata[1, i]\n",
    "\n",
    "#     if ae_data_with_params == False:\n",
    "#         all_data = all_data[:, 0:og_vars]\n",
    "# else:\n",
    "#     # using raw data, neglecting the params attached (if any)\n",
    "#     all_data = all_data[:, 0:og_vars]\n",
    "\n",
    "if use_ae_data == True and ae_data_with_params == False:\n",
    "    all_data = all_data[:, 0:og_vars]\n",
    "else:\n",
    "    all_data = all_data[:, 0:og_vars]\n",
    "    \n",
    "normalization_constant_arr_aedata = normalization_constant_arr_aedata[:, 0:all_data.shape[1]]"
   ]
  },
  {
   "cell_type": "code",
   "execution_count": 14,
   "metadata": {
    "colab": {
     "base_uri": "https://localhost:8080/",
     "height": 370
    },
    "executionInfo": {
     "elapsed": 932,
     "status": "ok",
     "timestamp": 1667868775190,
     "user": {
      "displayName": "Rohan Kaushik",
      "userId": "13918477614376051685"
     },
     "user_tz": -60
    },
    "id": "sMENXULAGFPm",
    "outputId": "dbf2c14d-2e8a-42c9-b6c5-f5f7c7a6092f"
   },
   "outputs": [
    {
     "name": "stdout",
     "output_type": "stream",
     "text": [
      "all_data.shape :  (500026, 64)\n",
      "all_data.dtype :  float64\n"
     ]
    }
   ],
   "source": [
    "print('all_data.shape : ', all_data.shape)\n",
    "print('all_data.dtype : ', all_data.dtype)"
   ]
  },
  {
   "cell_type": "markdown",
   "metadata": {
    "id": "1v6KQEjR5LkK"
   },
   "source": [
    "# Autoencoder"
   ]
  },
  {
   "cell_type": "code",
   "execution_count": 15,
   "metadata": {
    "executionInfo": {
     "elapsed": 4,
     "status": "ok",
     "timestamp": 1667868775191,
     "user": {
      "displayName": "Rohan Kaushik",
      "userId": "13918477614376051685"
     },
     "user_tz": -60
    },
    "id": "ZBTJl9PeneQb"
   },
   "outputs": [],
   "source": [
    "# if use_ae_data == True:\n",
    "#     load_file = dir_name_ae+dir_sep+'final_net'+dir_sep+'final_net_class_dict.txt'\n",
    "#     wt_file = dir_name_ae+dir_sep+'final_net'+dir_sep+'final_net_ae_weights.h5'"
   ]
  },
  {
   "cell_type": "code",
   "execution_count": 16,
   "metadata": {
    "executionInfo": {
     "elapsed": 1365,
     "status": "ok",
     "timestamp": 1667868776552,
     "user": {
      "displayName": "Rohan Kaushik",
      "userId": "13918477614376051685"
     },
     "user_tz": -60
    },
    "id": "a3Pq-qorneQb"
   },
   "outputs": [],
   "source": [
    "# if use_ae_data == True:\n",
    "#     ae_net = Autoencoder(all_data.shape[1], load_file=load_file)\n",
    "#     ae_net.load_weights_from_file(wt_file)"
   ]
  },
  {
   "cell_type": "code",
   "execution_count": null,
   "metadata": {
    "executionInfo": {
     "elapsed": 5,
     "status": "ok",
     "timestamp": 1667868776553,
     "user": {
      "displayName": "Rohan Kaushik",
      "userId": "13918477614376051685"
     },
     "user_tz": -60
    },
    "id": "wwt4brHcOaXi"
   },
   "outputs": [],
   "source": []
  },
  {
   "cell_type": "markdown",
   "metadata": {
    "id": "8IAcFjRRn_IQ"
   },
   "source": [
    "# ESN"
   ]
  },
  {
   "cell_type": "code",
   "execution_count": 17,
   "metadata": {
    "executionInfo": {
     "elapsed": 12,
     "status": "ok",
     "timestamp": 1667868778789,
     "user": {
      "displayName": "Rohan Kaushik",
      "userId": "13918477614376051685"
     },
     "user_tz": -60
    },
    "id": "lPVqWNwjoAGP"
   },
   "outputs": [],
   "source": [
    "if behaviour == 'initialiseAndTrainFromScratch':\n",
    "    # RNN data parameters\n",
    "    num_lyaptimesteps_totrain = np.array([\n",
    "        # 5,\n",
    "        10,\n",
    "        30,\n",
    "        40\n",
    "    ])*dt_rnn/np.mean(lyapunov_time_arr)\n",
    "    num_timesteps_warmup = 1*np.mean(lyapunov_time_arr)/dt_rnn\n",
    "    T_sample_input = num_timesteps_warmup*dt_rnn\n",
    "    T_sample_output = num_lyaptimesteps_totrain*np.mean(lyapunov_time_arr)\n",
    "    T_offset = T_sample_input\n",
    "    skip_intermediate = 'full sample'\n",
    "    stateful = True\n",
    "    if return_params_arr != False:\n",
    "        params = params_arr\n",
    "    else:\n",
    "        params = None\n",
    "\n",
    "    # saving AR RNN specific data\n",
    "    AR_RNN_specific_data = {\n",
    "        'dt_rnn':dt_rnn,\n",
    "        'T_sample_input':T_sample_input,\n",
    "        'T_sample_output':T_sample_output,\n",
    "        'T_offset':T_offset,\n",
    "        'boundary_idx_arr':boundary_idx_arr,\n",
    "        'delta_t':delta_t,\n",
    "        'params':params,\n",
    "        'return_params_arr':return_params_arr,\n",
    "        'normalize_dataset':normalize_dataset,\n",
    "        'num_lyaptimesteps_totrain':num_lyaptimesteps_totrain,\n",
    "        'num_timesteps_warmup':num_timesteps_warmup,\n",
    "        'dir_name_rnn':dir_name_rnn,\n",
    "        'dir_name_ae':dir_name_ae,\n",
    "        'stddev_multiplier':stddev_multiplier,\n",
    "        'skip_intermediate':skip_intermediate,\n",
    "        'module':AR_RNN.__module__,\n",
    "        'normalization_type':normalization_type,\n",
    "        'use_ae_data':use_ae_data,\n",
    "        'stateful':stateful,\n",
    "    }\n",
    "\n",
    "    with open(dir_name_ARrnn+dir_sep+'AR_RNN_specific_data.txt', 'w') as f:\n",
    "        f.write(str(AR_RNN_specific_data))"
   ]
  },
  {
   "cell_type": "code",
   "execution_count": null,
   "metadata": {
    "executionInfo": {
     "elapsed": 11,
     "status": "ok",
     "timestamp": 1667868778789,
     "user": {
      "displayName": "Rohan Kaushik",
      "userId": "13918477614376051685"
     },
     "user_tz": -60
    },
    "id": "S21-VEUYrkk-"
   },
   "outputs": [],
   "source": []
  },
  {
   "cell_type": "code",
   "execution_count": 18,
   "metadata": {
    "executionInfo": {
     "elapsed": 431,
     "status": "ok",
     "timestamp": 1667868779211,
     "user": {
      "displayName": "Rohan Kaushik",
      "userId": "13918477614376051685"
     },
     "user_tz": -60
    },
    "id": "-1uL-GomneQi"
   },
   "outputs": [],
   "source": [
    "# setting up training params\n",
    "if behaviour == 'initialiseAndTrainFromScratch':\n",
    "    learning_rate_list = [\n",
    "        # [1e-3],\n",
    "        [1e-4],\n",
    "        [1e-5],\n",
    "        [1e-6],\n",
    "    ]\n",
    "    epochs = [\n",
    "        # [200],\n",
    "        [200],\n",
    "        [200],\n",
    "        [200],\n",
    "    ]\n",
    "    patience = [\n",
    "        # [10],\n",
    "        [20],\n",
    "        [20],\n",
    "        [20],\n",
    "    ] # parameter for early stopping\n",
    "    min_delta = 1e-6  # parameter for early stopping\n",
    "    lambda_reg = 7e-9  # weight for regularizer\n",
    "    covmat_lmda = 5e-5  # weight for the covmat loss\n",
    "\n",
    "    if loss_weights is None:\n",
    "        loss_weights = 1.0\n",
    "        \n",
    "    freeze_layers = [\n",
    "        [],\n",
    "        [],\n",
    "        [],\n",
    "    ]\n",
    "    \n",
    "    clipnorm = None #1.0\n",
    "    batch_size = 32\n",
    "    \n",
    "    train_alpha = [False]*3\n",
    "    train_omega_in = [False]*3\n",
    "    train_rho_res = [False]*3\n",
    "    \n",
    "    # saving training params\n",
    "    training_specific_params = {\n",
    "        'learning_rate_list':learning_rate_list,\n",
    "        'epochs':epochs,\n",
    "        'patience':patience,\n",
    "        'min_delta':min_delta,\n",
    "        'prng_seed':prng_seed,\n",
    "        'train_split':train_split,\n",
    "        'val_split':val_split,\n",
    "        'batch_size':batch_size,\n",
    "        'fRMS':fRMS,\n",
    "        'loss_weights':loss_weights,\n",
    "        'stddev':stddev,\n",
    "        'covmat_lmda':covmat_lmda,\n",
    "        'freeze_layers':freeze_layers,\n",
    "        'clipnorm':clipnorm,\n",
    "        'lambda_reg':lambda_reg,\n",
    "    }\n",
    "\n",
    "    with open(dir_name_ARrnn+dir_sep+'training_specific_params.txt', 'w') as f:\n",
    "        f.write(str(training_specific_params))\n",
    "    \n",
    "    np.savez(\n",
    "        dir_name_ARrnn+dir_sep+'normalization_data',\n",
    "        normalization_arr=[normalization_arr_rnn],\n",
    "    )"
   ]
  },
  {
   "cell_type": "code",
   "execution_count": 19,
   "metadata": {
    "executionInfo": {
     "elapsed": 3,
     "status": "ok",
     "timestamp": 1667868779212,
     "user": {
      "displayName": "Rohan Kaushik",
      "userId": "13918477614376051685"
     },
     "user_tz": -60
    },
    "id": "4hx9ZaSpEMmv"
   },
   "outputs": [],
   "source": [
    "rnn_kwargs = {}\n",
    "if behaviour == 'initialiseAndTrainFromScratch' or behaviour == 'loadCheckpointAndContinueTraining':\n",
    "    load_file_rnn = dir_name_rnn + '/final_net/final_net_class_dict.txt'\n",
    "    wt_file_rnn = dir_name_rnn+'/final_net/final_net_ESN_weights.hdf5'\n",
    "    \n",
    "    load_file_ae = dir_name_ae+'/final_net/final_net_class_dict.txt'\n",
    "    wt_file_ae = dir_name_ae+'/final_net/final_net_ae_weights.h5'\n",
    "    \n",
    "    rnn_kwargs = {\n",
    "        'train_alpha':train_alpha,\n",
    "        'train_omega_in':train_omega_in,\n",
    "        'train_rho_res':train_rho_res,\n",
    "    }"
   ]
  },
  {
   "cell_type": "code",
   "execution_count": 20,
   "metadata": {},
   "outputs": [],
   "source": [
    "def find_and_return_load_wt_file_lists(\n",
    "        load_dir,\n",
    "        wt_matcher='weights.hdf5',\n",
    "        classdict_matcher='class_dict.txt',\n",
    "    ):\n",
    "    contents_load_dir = [f for f in os.listdir(load_dir) if os.path.isfile(os.path.join(load_dir, f))]\n",
    "    load_files_lst = [f for f in contents_load_dir if f.endswith(classdict_matcher)]\n",
    "    wt_files_lst = [f for f in contents_load_dir if f.endswith(wt_matcher)]\n",
    "\n",
    "    load_files_lst_startingidx = []\n",
    "    for i in range(len(load_files_lst)):\n",
    "        fn = load_files_lst[i]\n",
    "        idx = fn.find('_')\n",
    "        load_files_lst_startingidx.append(int(fn[0:idx]))\n",
    "\n",
    "    wt_files_lst_startingidx = []\n",
    "    for i in range(len(wt_files_lst)):\n",
    "        fn = wt_files_lst[i]\n",
    "        idx = fn.find('_')\n",
    "        wt_files_lst_startingidx.append(int(fn[0:idx]))\n",
    "\n",
    "    load_files_sortidx = np.argsort(load_files_lst_startingidx)\n",
    "    wt_files_sortidx = np.argsort(wt_files_lst_startingidx)\n",
    "\n",
    "    load_files_lst = np.array(load_files_lst)[load_files_sortidx]\n",
    "    wt_files_lst = np.array(wt_files_lst)[wt_files_sortidx]\n",
    "\n",
    "    load_file_rnn = [load_dir + '/' + fn for fn in load_files_lst]\n",
    "    wt_file_rnn = [load_dir + '/' +  fn for fn in wt_files_lst]\n",
    "    \n",
    "    return load_file_rnn, wt_file_rnn"
   ]
  },
  {
   "cell_type": "code",
   "execution_count": null,
   "metadata": {},
   "outputs": [],
   "source": []
  },
  {
   "cell_type": "code",
   "execution_count": null,
   "metadata": {},
   "outputs": [],
   "source": []
  },
  {
   "cell_type": "code",
   "execution_count": null,
   "metadata": {},
   "outputs": [],
   "source": []
  },
  {
   "cell_type": "code",
   "execution_count": null,
   "metadata": {},
   "outputs": [],
   "source": []
  },
  {
   "cell_type": "code",
   "execution_count": 21,
   "metadata": {},
   "outputs": [],
   "source": [
    "load_dir = dir_name_rnn + '/final_net'\n",
    "load_file_rnn, wt_file_rnn = find_and_return_load_wt_file_lists(load_dir)"
   ]
  },
  {
   "cell_type": "code",
   "execution_count": null,
   "metadata": {
    "colab": {
     "base_uri": "https://localhost:8080/"
    },
    "executionInfo": {
     "elapsed": 3631,
     "status": "ok",
     "timestamp": 1667868783230,
     "user": {
      "displayName": "Rohan Kaushik",
      "userId": "13918477614376051685"
     },
     "user_tz": -60
    },
    "id": "Py-Jg0QKneQk",
    "outputId": "1b768270-9013-4d53-8b5e-63e69776e3ac",
    "scrolled": true
   },
   "outputs": [
    {
     "name": "stdout",
     "output_type": "stream",
     "text": [
      "\n",
      "\n",
      "********************************************************************************\n",
      ">>>>>>>>>>>>>>>>>>>>>>>>>>>>>> num_outsteps : 10 <<<<<<<<<<<<<<<<<<<<<<<<<<<<<<<\n",
      "********************************************************************************\n",
      "\n",
      "\n",
      "clipnorm : None, global_clipnorm : None\n",
      "WARNING:tensorflow:`period` argument is deprecated. Please use `save_freq` to specify the frequency in number of batches seen.\n",
      "\n",
      "\n",
      "--------------------------------------------------------------------------------\n",
      "\n",
      "---------------------------- LEARNING RATE : 0.0001 ----------------------------\n",
      "\n",
      "--------------------------------------------------------------------------------\n",
      "\n",
      "\n",
      "Epoch 1/200\n",
      "71/71 [==============================] - ETA: 0s - loss: 0.0170 - mse: 0.0022 - NMSE: 0.0194 - NMSE_wt: 0.0169 - covmat_fro_loss: 0.0045 - global_gradnorm: 3.9167 - tot_time: 0h 1m 41.9s\n",
      "\n",
      "Epoch 1: val_NMSE improved from inf to 0.00972, saving model to /home/rkaushik/Documents/Thesis/MLROM/new_ks/saved_AR_AEESN_rnn/AR_ESN_ensemble_003/checkpoints/checkpoint-10_outsteps\n",
      " - saving loss histories at /home/rkaushik/Documents/Thesis/MLROM/new_ks/saved_AR_AEESN_rnn/AR_ESN_ensemble_003/checkpoints/LossHistoriesCheckpoint-10_outsteps\n",
      "71/71 [==============================] - 102s 629ms/step - loss: 0.0170 - mse: 0.0022 - NMSE: 0.0194 - NMSE_wt: 0.0169 - covmat_fro_loss: 0.0045 - global_gradnorm: 3.8973 - val_loss: 0.0086 - val_mse: 0.0011 - val_NMSE: 0.0097 - val_NMSE_wt: 0.0085 - val_covmat_fro_loss: 0.0000e+00 - val_global_gradnorm: 0.0000e+00\n",
      "Epoch 2/200\n",
      "71/71 [==============================] - ETA: 0s - loss: 0.0080 - mse: 0.0010 - NMSE: 0.0091 - NMSE_wt: 0.0079 - covmat_fro_loss: 0.0033 - global_gradnorm: 2.9867 - tot_time: 0h 2m 13.5s\n",
      "\n",
      "Epoch 2: val_NMSE did not improve from 0.00972\n",
      " - saving loss histories at /home/rkaushik/Documents/Thesis/MLROM/new_ks/saved_AR_AEESN_rnn/AR_ESN_ensemble_003/checkpoints/LossHistoriesCheckpoint-10_outsteps\n",
      "71/71 [==============================] - 31s 443ms/step - loss: 0.0080 - mse: 0.0010 - NMSE: 0.0091 - NMSE_wt: 0.0079 - covmat_fro_loss: 0.0033 - global_gradnorm: 2.9796 - val_loss: 0.0088 - val_mse: 0.0011 - val_NMSE: 0.0100 - val_NMSE_wt: 0.0087 - val_covmat_fro_loss: 0.0000e+00 - val_global_gradnorm: 0.0000e+00\n",
      "Epoch 3/200\n",
      "71/71 [==============================] - ETA: 0s - loss: 0.0084 - mse: 0.0011 - NMSE: 0.0095 - NMSE_wt: 0.0082 - covmat_fro_loss: 0.0033 - global_gradnorm: 2.6677 - tot_time: 0h 2m 44.1s\n",
      "\n",
      "Epoch 3: val_NMSE did not improve from 0.00972\n",
      " - saving loss histories at /home/rkaushik/Documents/Thesis/MLROM/new_ks/saved_AR_AEESN_rnn/AR_ESN_ensemble_003/checkpoints/LossHistoriesCheckpoint-10_outsteps\n",
      "71/71 [==============================] - 31s 431ms/step - loss: 0.0084 - mse: 0.0011 - NMSE: 0.0095 - NMSE_wt: 0.0082 - covmat_fro_loss: 0.0033 - global_gradnorm: 2.6802 - val_loss: 0.0098 - val_mse: 0.0012 - val_NMSE: 0.0111 - val_NMSE_wt: 0.0097 - val_covmat_fro_loss: 0.0000e+00 - val_global_gradnorm: 0.0000e+00\n",
      "Epoch 4/200\n",
      "71/71 [==============================] - ETA: 0s - loss: 0.0084 - mse: 0.0011 - NMSE: 0.0095 - NMSE_wt: 0.0083 - covmat_fro_loss: 0.0033 - global_gradnorm: 2.7017 - tot_time: 0h 3m 15.2s\n",
      "\n",
      "Epoch 4: val_NMSE did not improve from 0.00972\n",
      " - saving loss histories at /home/rkaushik/Documents/Thesis/MLROM/new_ks/saved_AR_AEESN_rnn/AR_ESN_ensemble_003/checkpoints/LossHistoriesCheckpoint-10_outsteps\n",
      "71/71 [==============================] - 31s 439ms/step - loss: 0.0084 - mse: 0.0011 - NMSE: 0.0095 - NMSE_wt: 0.0083 - covmat_fro_loss: 0.0033 - global_gradnorm: 2.7133 - val_loss: 0.0094 - val_mse: 0.0012 - val_NMSE: 0.0106 - val_NMSE_wt: 0.0093 - val_covmat_fro_loss: 0.0000e+00 - val_global_gradnorm: 0.0000e+00\n",
      "Epoch 5/200\n",
      "71/71 [==============================] - ETA: 0s - loss: 0.0093 - mse: 0.0012 - NMSE: 0.0105 - NMSE_wt: 0.0091 - covmat_fro_loss: 0.0035 - global_gradnorm: 2.7071 - tot_time: 0h 3m 56.0s\n",
      "\n",
      "Epoch 5: val_NMSE did not improve from 0.00972\n",
      " - saving loss histories at /home/rkaushik/Documents/Thesis/MLROM/new_ks/saved_AR_AEESN_rnn/AR_ESN_ensemble_003/checkpoints/LossHistoriesCheckpoint-10_outsteps\n",
      "71/71 [==============================] - 41s 576ms/step - loss: 0.0093 - mse: 0.0012 - NMSE: 0.0105 - NMSE_wt: 0.0091 - covmat_fro_loss: 0.0035 - global_gradnorm: 2.7057 - val_loss: 0.0092 - val_mse: 0.0012 - val_NMSE: 0.0104 - val_NMSE_wt: 0.0090 - val_covmat_fro_loss: 0.0000e+00 - val_global_gradnorm: 0.0000e+00\n",
      "Epoch 6/200\n",
      "71/71 [==============================] - ETA: 0s - loss: 0.0086 - mse: 0.0011 - NMSE: 0.0097 - NMSE_wt: 0.0085 - covmat_fro_loss: 0.0034 - global_gradnorm: 2.5395 - tot_time: 0h 4m 42.4s\n",
      "\n",
      "Epoch 6: val_NMSE did not improve from 0.00972\n",
      " - saving loss histories at /home/rkaushik/Documents/Thesis/MLROM/new_ks/saved_AR_AEESN_rnn/AR_ESN_ensemble_003/checkpoints/LossHistoriesCheckpoint-10_outsteps\n",
      "71/71 [==============================] - 46s 655ms/step - loss: 0.0086 - mse: 0.0011 - NMSE: 0.0097 - NMSE_wt: 0.0085 - covmat_fro_loss: 0.0034 - global_gradnorm: 2.5530 - val_loss: 0.0092 - val_mse: 0.0012 - val_NMSE: 0.0104 - val_NMSE_wt: 0.0091 - val_covmat_fro_loss: 0.0000e+00 - val_global_gradnorm: 0.0000e+00\n",
      "Epoch 7/200\n",
      "71/71 [==============================] - ETA: 0s - loss: 0.0085 - mse: 0.0011 - NMSE: 0.0096 - NMSE_wt: 0.0084 - covmat_fro_loss: 0.0034 - global_gradnorm: 2.7179 - tot_time: 0h 5m 29.6s\n",
      "\n",
      "Epoch 7: val_NMSE improved from 0.00972 to 0.00971, saving model to /home/rkaushik/Documents/Thesis/MLROM/new_ks/saved_AR_AEESN_rnn/AR_ESN_ensemble_003/checkpoints/checkpoint-10_outsteps\n",
      " - saving loss histories at /home/rkaushik/Documents/Thesis/MLROM/new_ks/saved_AR_AEESN_rnn/AR_ESN_ensemble_003/checkpoints/LossHistoriesCheckpoint-10_outsteps\n",
      "71/71 [==============================] - 48s 671ms/step - loss: 0.0085 - mse: 0.0011 - NMSE: 0.0096 - NMSE_wt: 0.0084 - covmat_fro_loss: 0.0034 - global_gradnorm: 2.7154 - val_loss: 0.0086 - val_mse: 0.0011 - val_NMSE: 0.0097 - val_NMSE_wt: 0.0085 - val_covmat_fro_loss: 0.0000e+00 - val_global_gradnorm: 0.0000e+00\n",
      "Epoch 8/200\n",
      "71/71 [==============================] - ETA: 0s - loss: 0.0079 - mse: 9.9351e-04 - NMSE: 0.0089 - NMSE_wt: 0.0078 - covmat_fro_loss: 0.0032 - global_gradnorm: 2.3268 - tot_time: 0h 6m 22.0s\n",
      "\n",
      "Epoch 8: val_NMSE improved from 0.00971 to 0.00868, saving model to /home/rkaushik/Documents/Thesis/MLROM/new_ks/saved_AR_AEESN_rnn/AR_ESN_ensemble_003/checkpoints/checkpoint-10_outsteps\n",
      " - saving loss histories at /home/rkaushik/Documents/Thesis/MLROM/new_ks/saved_AR_AEESN_rnn/AR_ESN_ensemble_003/checkpoints/LossHistoriesCheckpoint-10_outsteps\n",
      "71/71 [==============================] - 52s 737ms/step - loss: 0.0079 - mse: 9.9351e-04 - NMSE: 0.0089 - NMSE_wt: 0.0078 - covmat_fro_loss: 0.0032 - global_gradnorm: 2.3248 - val_loss: 0.0077 - val_mse: 9.6456e-04 - val_NMSE: 0.0087 - val_NMSE_wt: 0.0076 - val_covmat_fro_loss: 0.0000e+00 - val_global_gradnorm: 0.0000e+00\n",
      "Epoch 9/200\n",
      "71/71 [==============================] - ETA: 0s - loss: 0.0080 - mse: 9.9942e-04 - NMSE: 0.0090 - NMSE_wt: 0.0078 - covmat_fro_loss: 0.0033 - global_gradnorm: 2.3927 - tot_time: 0h 7m 19.5s\n",
      "\n",
      "Epoch 9: val_NMSE did not improve from 0.00868\n",
      " - saving loss histories at /home/rkaushik/Documents/Thesis/MLROM/new_ks/saved_AR_AEESN_rnn/AR_ESN_ensemble_003/checkpoints/LossHistoriesCheckpoint-10_outsteps\n",
      "71/71 [==============================] - 57s 803ms/step - loss: 0.0080 - mse: 9.9942e-04 - NMSE: 0.0090 - NMSE_wt: 0.0078 - covmat_fro_loss: 0.0033 - global_gradnorm: 2.4016 - val_loss: 0.0094 - val_mse: 0.0012 - val_NMSE: 0.0107 - val_NMSE_wt: 0.0093 - val_covmat_fro_loss: 0.0000e+00 - val_global_gradnorm: 0.0000e+00\n",
      "Epoch 10/200\n",
      "71/71 [==============================] - ETA: 0s - loss: 0.0095 - mse: 0.0012 - NMSE: 0.0108 - NMSE_wt: 0.0094 - covmat_fro_loss: 0.0036 - global_gradnorm: 2.5912 - tot_time: 0h 8m 11.2s\n",
      "\n",
      "Epoch 10: val_NMSE did not improve from 0.00868\n",
      " - saving loss histories at /home/rkaushik/Documents/Thesis/MLROM/new_ks/saved_AR_AEESN_rnn/AR_ESN_ensemble_003/checkpoints/LossHistoriesCheckpoint-10_outsteps\n",
      "71/71 [==============================] - 52s 728ms/step - loss: 0.0095 - mse: 0.0012 - NMSE: 0.0108 - NMSE_wt: 0.0094 - covmat_fro_loss: 0.0036 - global_gradnorm: 2.5862 - val_loss: 0.0095 - val_mse: 0.0012 - val_NMSE: 0.0107 - val_NMSE_wt: 0.0093 - val_covmat_fro_loss: 0.0000e+00 - val_global_gradnorm: 0.0000e+00\n"
     ]
    },
    {
     "name": "stdout",
     "output_type": "stream",
     "text": [
      "Epoch 11/200\n",
      "71/71 [==============================] - ETA: 0s - loss: 0.0075 - mse: 9.4410e-04 - NMSE: 0.0085 - NMSE_wt: 0.0074 - covmat_fro_loss: 0.0032 - global_gradnorm: 2.2261 - tot_time: 0h 9m 1.3s\n",
      "\n",
      "Epoch 11: val_NMSE improved from 0.00868 to 0.00791, saving model to /home/rkaushik/Documents/Thesis/MLROM/new_ks/saved_AR_AEESN_rnn/AR_ESN_ensemble_003/checkpoints/checkpoint-10_outsteps\n",
      " - saving loss histories at /home/rkaushik/Documents/Thesis/MLROM/new_ks/saved_AR_AEESN_rnn/AR_ESN_ensemble_003/checkpoints/LossHistoriesCheckpoint-10_outsteps\n",
      "71/71 [==============================] - 50s 709ms/step - loss: 0.0075 - mse: 9.4410e-04 - NMSE: 0.0085 - NMSE_wt: 0.0074 - covmat_fro_loss: 0.0032 - global_gradnorm: 2.2314 - val_loss: 0.0070 - val_mse: 8.7915e-04 - val_NMSE: 0.0079 - val_NMSE_wt: 0.0069 - val_covmat_fro_loss: 0.0000e+00 - val_global_gradnorm: 0.0000e+00\n",
      "Epoch 12/200\n",
      "71/71 [==============================] - ETA: 0s - loss: 0.0072 - mse: 8.9960e-04 - NMSE: 0.0081 - NMSE_wt: 0.0071 - covmat_fro_loss: 0.0031 - global_gradnorm: 2.1604 - tot_time: 0h 9m 51.6s\n",
      "\n",
      "Epoch 12: val_NMSE did not improve from 0.00791\n",
      " - saving loss histories at /home/rkaushik/Documents/Thesis/MLROM/new_ks/saved_AR_AEESN_rnn/AR_ESN_ensemble_003/checkpoints/LossHistoriesCheckpoint-10_outsteps\n",
      "71/71 [==============================] - 50s 705ms/step - loss: 0.0072 - mse: 8.9960e-04 - NMSE: 0.0081 - NMSE_wt: 0.0071 - covmat_fro_loss: 0.0031 - global_gradnorm: 2.1667 - val_loss: 0.0079 - val_mse: 9.9407e-04 - val_NMSE: 0.0089 - val_NMSE_wt: 0.0078 - val_covmat_fro_loss: 0.0000e+00 - val_global_gradnorm: 0.0000e+00\n",
      "Epoch 13/200\n",
      "71/71 [==============================] - ETA: 0s - loss: 0.0073 - mse: 9.1592e-04 - NMSE: 0.0082 - NMSE_wt: 0.0072 - covmat_fro_loss: 0.0031 - global_gradnorm: 2.0822 - tot_time: 0h 10m 41.2s\n",
      "\n",
      "Epoch 13: val_NMSE did not improve from 0.00791\n",
      " - saving loss histories at /home/rkaushik/Documents/Thesis/MLROM/new_ks/saved_AR_AEESN_rnn/AR_ESN_ensemble_003/checkpoints/LossHistoriesCheckpoint-10_outsteps\n",
      "71/71 [==============================] - 50s 698ms/step - loss: 0.0073 - mse: 9.1592e-04 - NMSE: 0.0082 - NMSE_wt: 0.0072 - covmat_fro_loss: 0.0031 - global_gradnorm: 2.0928 - val_loss: 0.0075 - val_mse: 9.3634e-04 - val_NMSE: 0.0084 - val_NMSE_wt: 0.0073 - val_covmat_fro_loss: 0.0000e+00 - val_global_gradnorm: 0.0000e+00\n",
      "Epoch 14/200\n",
      "71/71 [==============================] - ETA: 0s - loss: 0.0073 - mse: 9.1317e-04 - NMSE: 0.0082 - NMSE_wt: 0.0072 - covmat_fro_loss: 0.0031 - global_gradnorm: 2.0911 - tot_time: 0h 11m 30.6s\n",
      "\n",
      "Epoch 14: val_NMSE did not improve from 0.00791\n",
      " - saving loss histories at /home/rkaushik/Documents/Thesis/MLROM/new_ks/saved_AR_AEESN_rnn/AR_ESN_ensemble_003/checkpoints/LossHistoriesCheckpoint-10_outsteps\n",
      "71/71 [==============================] - 49s 696ms/step - loss: 0.0073 - mse: 9.1317e-04 - NMSE: 0.0082 - NMSE_wt: 0.0072 - covmat_fro_loss: 0.0031 - global_gradnorm: 2.0888 - val_loss: 0.0086 - val_mse: 0.0011 - val_NMSE: 0.0098 - val_NMSE_wt: 0.0085 - val_covmat_fro_loss: 0.0000e+00 - val_global_gradnorm: 0.0000e+00\n",
      "Epoch 15/200\n",
      "71/71 [==============================] - ETA: 0s - loss: 0.0079 - mse: 9.9686e-04 - NMSE: 0.0090 - NMSE_wt: 0.0078 - covmat_fro_loss: 0.0033 - global_gradnorm: 2.1403 - tot_time: 0h 12m 20.8s\n",
      "\n",
      "Epoch 15: val_NMSE did not improve from 0.00791\n",
      " - saving loss histories at /home/rkaushik/Documents/Thesis/MLROM/new_ks/saved_AR_AEESN_rnn/AR_ESN_ensemble_003/checkpoints/LossHistoriesCheckpoint-10_outsteps\n",
      "71/71 [==============================] - 50s 706ms/step - loss: 0.0079 - mse: 9.9686e-04 - NMSE: 0.0090 - NMSE_wt: 0.0078 - covmat_fro_loss: 0.0033 - global_gradnorm: 2.1369 - val_loss: 0.0086 - val_mse: 0.0011 - val_NMSE: 0.0097 - val_NMSE_wt: 0.0085 - val_covmat_fro_loss: 0.0000e+00 - val_global_gradnorm: 0.0000e+00\n",
      "Epoch 16/200\n",
      "71/71 [==============================] - ETA: 0s - loss: 0.0077 - mse: 9.6817e-04 - NMSE: 0.0087 - NMSE_wt: 0.0076 - covmat_fro_loss: 0.0032 - global_gradnorm: 2.1440 - tot_time: 0h 13m 6.1s\n",
      "\n",
      "Epoch 16: val_NMSE did not improve from 0.00791\n",
      " - saving loss histories at /home/rkaushik/Documents/Thesis/MLROM/new_ks/saved_AR_AEESN_rnn/AR_ESN_ensemble_003/checkpoints/LossHistoriesCheckpoint-10_outsteps\n",
      "71/71 [==============================] - 45s 637ms/step - loss: 0.0077 - mse: 9.6817e-04 - NMSE: 0.0087 - NMSE_wt: 0.0076 - covmat_fro_loss: 0.0032 - global_gradnorm: 2.1459 - val_loss: 0.0081 - val_mse: 0.0010 - val_NMSE: 0.0092 - val_NMSE_wt: 0.0080 - val_covmat_fro_loss: 0.0000e+00 - val_global_gradnorm: 0.0000e+00\n",
      "Epoch 17/200\n",
      "71/71 [==============================] - ETA: 0s - loss: 0.0079 - mse: 9.8712e-04 - NMSE: 0.0089 - NMSE_wt: 0.0077 - covmat_fro_loss: 0.0032 - global_gradnorm: 2.0845 - tot_time: 0h 13m 44.1s\n",
      "\n",
      "Epoch 17: val_NMSE did not improve from 0.00791\n",
      " - saving loss histories at /home/rkaushik/Documents/Thesis/MLROM/new_ks/saved_AR_AEESN_rnn/AR_ESN_ensemble_003/checkpoints/LossHistoriesCheckpoint-10_outsteps\n",
      "71/71 [==============================] - 38s 536ms/step - loss: 0.0079 - mse: 9.8712e-04 - NMSE: 0.0089 - NMSE_wt: 0.0077 - covmat_fro_loss: 0.0032 - global_gradnorm: 2.0808 - val_loss: 0.0082 - val_mse: 0.0010 - val_NMSE: 0.0092 - val_NMSE_wt: 0.0080 - val_covmat_fro_loss: 0.0000e+00 - val_global_gradnorm: 0.0000e+00\n",
      "Epoch 18/200\n",
      "71/71 [==============================] - ETA: 0s - loss: 0.0082 - mse: 0.0010 - NMSE: 0.0092 - NMSE_wt: 0.0081 - covmat_fro_loss: 0.0033 - global_gradnorm: 2.1857 - tot_time: 0h 14m 15.7s\n",
      "\n",
      "Epoch 18: val_NMSE did not improve from 0.00791\n",
      " - saving loss histories at /home/rkaushik/Documents/Thesis/MLROM/new_ks/saved_AR_AEESN_rnn/AR_ESN_ensemble_003/checkpoints/LossHistoriesCheckpoint-10_outsteps\n",
      "71/71 [==============================] - 32s 445ms/step - loss: 0.0082 - mse: 0.0010 - NMSE: 0.0092 - NMSE_wt: 0.0081 - covmat_fro_loss: 0.0033 - global_gradnorm: 2.1878 - val_loss: 0.0095 - val_mse: 0.0012 - val_NMSE: 0.0107 - val_NMSE_wt: 0.0093 - val_covmat_fro_loss: 0.0000e+00 - val_global_gradnorm: 0.0000e+00\n",
      "Epoch 19/200\n",
      "71/71 [==============================] - ETA: 0s - loss: 0.0084 - mse: 0.0011 - NMSE: 0.0095 - NMSE_wt: 0.0083 - covmat_fro_loss: 0.0034 - global_gradnorm: 2.0772 - tot_time: 0h 14m 46.4s\n",
      "\n",
      "Epoch 19: val_NMSE did not improve from 0.00791\n",
      " - saving loss histories at /home/rkaushik/Documents/Thesis/MLROM/new_ks/saved_AR_AEESN_rnn/AR_ESN_ensemble_003/checkpoints/LossHistoriesCheckpoint-10_outsteps\n",
      "71/71 [==============================] - 31s 432ms/step - loss: 0.0084 - mse: 0.0011 - NMSE: 0.0095 - NMSE_wt: 0.0083 - covmat_fro_loss: 0.0034 - global_gradnorm: 2.0696 - val_loss: 0.0078 - val_mse: 9.8269e-04 - val_NMSE: 0.0088 - val_NMSE_wt: 0.0077 - val_covmat_fro_loss: 0.0000e+00 - val_global_gradnorm: 0.0000e+00\n",
      "Epoch 20/200\n",
      "71/71 [==============================] - ETA: 0s - loss: 0.0079 - mse: 9.8647e-04 - NMSE: 0.0089 - NMSE_wt: 0.0077 - covmat_fro_loss: 0.0033 - global_gradnorm: 2.1015 - tot_time: 0h 15m 16.7s\n",
      "\n",
      "Epoch 20: val_NMSE did not improve from 0.00791\n",
      " - saving loss histories at /home/rkaushik/Documents/Thesis/MLROM/new_ks/saved_AR_AEESN_rnn/AR_ESN_ensemble_003/checkpoints/LossHistoriesCheckpoint-10_outsteps\n",
      "71/71 [==============================] - 30s 428ms/step - loss: 0.0079 - mse: 9.8647e-04 - NMSE: 0.0089 - NMSE_wt: 0.0077 - covmat_fro_loss: 0.0033 - global_gradnorm: 2.1003 - val_loss: 0.0093 - val_mse: 0.0012 - val_NMSE: 0.0105 - val_NMSE_wt: 0.0092 - val_covmat_fro_loss: 0.0000e+00 - val_global_gradnorm: 0.0000e+00\n",
      "Epoch 21/200\n",
      "71/71 [==============================] - ETA: 0s - loss: 0.0075 - mse: 9.3774e-04 - NMSE: 0.0084 - NMSE_wt: 0.0074 - covmat_fro_loss: 0.0032 - global_gradnorm: 2.0629 - tot_time: 0h 15m 47.0s\n",
      "\n",
      "Epoch 21: val_NMSE did not improve from 0.00791\n",
      " - saving loss histories at /home/rkaushik/Documents/Thesis/MLROM/new_ks/saved_AR_AEESN_rnn/AR_ESN_ensemble_003/checkpoints/LossHistoriesCheckpoint-10_outsteps\n",
      "71/71 [==============================] - 30s 427ms/step - loss: 0.0075 - mse: 9.3774e-04 - NMSE: 0.0084 - NMSE_wt: 0.0074 - covmat_fro_loss: 0.0032 - global_gradnorm: 2.0612 - val_loss: 0.0086 - val_mse: 0.0011 - val_NMSE: 0.0098 - val_NMSE_wt: 0.0085 - val_covmat_fro_loss: 0.0000e+00 - val_global_gradnorm: 0.0000e+00\n"
     ]
    },
    {
     "name": "stdout",
     "output_type": "stream",
     "text": [
      "Epoch 22/200\n",
      "71/71 [==============================] - ETA: 0s - loss: 0.0066 - mse: 8.2843e-04 - NMSE: 0.0075 - NMSE_wt: 0.0065 - covmat_fro_loss: 0.0030 - global_gradnorm: 1.7057 - tot_time: 0h 16m 17.3s\n",
      "\n",
      "Epoch 22: val_NMSE did not improve from 0.00791\n",
      " - saving loss histories at /home/rkaushik/Documents/Thesis/MLROM/new_ks/saved_AR_AEESN_rnn/AR_ESN_ensemble_003/checkpoints/LossHistoriesCheckpoint-10_outsteps\n",
      "71/71 [==============================] - 30s 428ms/step - loss: 0.0066 - mse: 8.2843e-04 - NMSE: 0.0075 - NMSE_wt: 0.0065 - covmat_fro_loss: 0.0030 - global_gradnorm: 1.7011 - val_loss: 0.0071 - val_mse: 8.8768e-04 - val_NMSE: 0.0080 - val_NMSE_wt: 0.0070 - val_covmat_fro_loss: 0.0000e+00 - val_global_gradnorm: 0.0000e+00\n",
      "Epoch 23/200\n",
      "71/71 [==============================] - ETA: 0s - loss: 0.0068 - mse: 8.4453e-04 - NMSE: 0.0076 - NMSE_wt: 0.0066 - covmat_fro_loss: 0.0030 - global_gradnorm: 1.7581 - tot_time: 0h 16m 47.6s\n",
      "\n",
      "Epoch 23: val_NMSE did not improve from 0.00791\n",
      " - saving loss histories at /home/rkaushik/Documents/Thesis/MLROM/new_ks/saved_AR_AEESN_rnn/AR_ESN_ensemble_003/checkpoints/LossHistoriesCheckpoint-10_outsteps\n",
      "71/71 [==============================] - 30s 427ms/step - loss: 0.0068 - mse: 8.4453e-04 - NMSE: 0.0076 - NMSE_wt: 0.0066 - covmat_fro_loss: 0.0030 - global_gradnorm: 1.7602 - val_loss: 0.0074 - val_mse: 9.2610e-04 - val_NMSE: 0.0083 - val_NMSE_wt: 0.0073 - val_covmat_fro_loss: 0.0000e+00 - val_global_gradnorm: 0.0000e+00\n",
      "Epoch 24/200\n",
      "71/71 [==============================] - ETA: 0s - loss: 0.0066 - mse: 8.2780e-04 - NMSE: 0.0074 - NMSE_wt: 0.0065 - covmat_fro_loss: 0.0030 - global_gradnorm: 1.7698 - tot_time: 0h 17m 17.8s\n",
      "\n",
      "Epoch 24: val_NMSE improved from 0.00791 to 0.00769, saving model to /home/rkaushik/Documents/Thesis/MLROM/new_ks/saved_AR_AEESN_rnn/AR_ESN_ensemble_003/checkpoints/checkpoint-10_outsteps\n",
      " - saving loss histories at /home/rkaushik/Documents/Thesis/MLROM/new_ks/saved_AR_AEESN_rnn/AR_ESN_ensemble_003/checkpoints/LossHistoriesCheckpoint-10_outsteps\n",
      "71/71 [==============================] - 30s 428ms/step - loss: 0.0066 - mse: 8.2780e-04 - NMSE: 0.0074 - NMSE_wt: 0.0065 - covmat_fro_loss: 0.0030 - global_gradnorm: 1.7733 - val_loss: 0.0068 - val_mse: 8.5440e-04 - val_NMSE: 0.0077 - val_NMSE_wt: 0.0067 - val_covmat_fro_loss: 0.0000e+00 - val_global_gradnorm: 0.0000e+00\n",
      "Epoch 25/200\n",
      "71/71 [==============================] - ETA: 0s - loss: 0.0071 - mse: 8.9062e-04 - NMSE: 0.0080 - NMSE_wt: 0.0070 - covmat_fro_loss: 0.0031 - global_gradnorm: 1.9210 - tot_time: 0h 17m 47.8s\n",
      "\n",
      "Epoch 25: val_NMSE did not improve from 0.00769\n",
      " - saving loss histories at /home/rkaushik/Documents/Thesis/MLROM/new_ks/saved_AR_AEESN_rnn/AR_ESN_ensemble_003/checkpoints/LossHistoriesCheckpoint-10_outsteps\n",
      "71/71 [==============================] - 30s 421ms/step - loss: 0.0071 - mse: 8.9062e-04 - NMSE: 0.0080 - NMSE_wt: 0.0070 - covmat_fro_loss: 0.0031 - global_gradnorm: 1.9232 - val_loss: 0.0076 - val_mse: 9.5401e-04 - val_NMSE: 0.0086 - val_NMSE_wt: 0.0075 - val_covmat_fro_loss: 0.0000e+00 - val_global_gradnorm: 0.0000e+00\n",
      "Epoch 26/200\n",
      "71/71 [==============================] - ETA: 0s - loss: 0.0076 - mse: 9.5500e-04 - NMSE: 0.0086 - NMSE_wt: 0.0075 - covmat_fro_loss: 0.0032 - global_gradnorm: 1.9452 - tot_time: 0h 18m 18.0s\n",
      "\n",
      "Epoch 26: val_NMSE did not improve from 0.00769\n",
      " - saving loss histories at /home/rkaushik/Documents/Thesis/MLROM/new_ks/saved_AR_AEESN_rnn/AR_ESN_ensemble_003/checkpoints/LossHistoriesCheckpoint-10_outsteps\n",
      "71/71 [==============================] - 30s 426ms/step - loss: 0.0076 - mse: 9.5500e-04 - NMSE: 0.0086 - NMSE_wt: 0.0075 - covmat_fro_loss: 0.0032 - global_gradnorm: 1.9382 - val_loss: 0.0068 - val_mse: 8.5602e-04 - val_NMSE: 0.0077 - val_NMSE_wt: 0.0067 - val_covmat_fro_loss: 0.0000e+00 - val_global_gradnorm: 0.0000e+00\n",
      "Epoch 27/200\n",
      "71/71 [==============================] - ETA: 0s - loss: 0.0074 - mse: 9.2461e-04 - NMSE: 0.0083 - NMSE_wt: 0.0073 - covmat_fro_loss: 0.0032 - global_gradnorm: 1.8261 - tot_time: 0h 18m 48.1s\n",
      "\n",
      "Epoch 27: val_NMSE did not improve from 0.00769\n",
      " - saving loss histories at /home/rkaushik/Documents/Thesis/MLROM/new_ks/saved_AR_AEESN_rnn/AR_ESN_ensemble_003/checkpoints/LossHistoriesCheckpoint-10_outsteps\n",
      "71/71 [==============================] - 30s 424ms/step - loss: 0.0074 - mse: 9.2461e-04 - NMSE: 0.0083 - NMSE_wt: 0.0073 - covmat_fro_loss: 0.0032 - global_gradnorm: 1.8274 - val_loss: 0.0073 - val_mse: 9.0939e-04 - val_NMSE: 0.0082 - val_NMSE_wt: 0.0071 - val_covmat_fro_loss: 0.0000e+00 - val_global_gradnorm: 0.0000e+00\n",
      "Epoch 28/200\n",
      "71/71 [==============================] - ETA: 0s - loss: 0.0070 - mse: 8.6952e-04 - NMSE: 0.0078 - NMSE_wt: 0.0068 - covmat_fro_loss: 0.0031 - global_gradnorm: 1.7304 - tot_time: 0h 19m 18.2s\n",
      "\n",
      "Epoch 28: val_NMSE did not improve from 0.00769\n",
      " - saving loss histories at /home/rkaushik/Documents/Thesis/MLROM/new_ks/saved_AR_AEESN_rnn/AR_ESN_ensemble_003/checkpoints/LossHistoriesCheckpoint-10_outsteps\n",
      "71/71 [==============================] - 30s 424ms/step - loss: 0.0070 - mse: 8.6952e-04 - NMSE: 0.0078 - NMSE_wt: 0.0068 - covmat_fro_loss: 0.0031 - global_gradnorm: 1.7316 - val_loss: 0.0087 - val_mse: 0.0011 - val_NMSE: 0.0099 - val_NMSE_wt: 0.0086 - val_covmat_fro_loss: 0.0000e+00 - val_global_gradnorm: 0.0000e+00\n",
      "Epoch 29/200\n",
      "71/71 [==============================] - ETA: 0s - loss: 0.0088 - mse: 0.0011 - NMSE: 0.0100 - NMSE_wt: 0.0087 - covmat_fro_loss: 0.0034 - global_gradnorm: 2.2240 - tot_time: 0h 19m 47.8s\n",
      "\n",
      "Epoch 29: val_NMSE did not improve from 0.00769\n",
      " - saving loss histories at /home/rkaushik/Documents/Thesis/MLROM/new_ks/saved_AR_AEESN_rnn/AR_ESN_ensemble_003/checkpoints/LossHistoriesCheckpoint-10_outsteps\n",
      "71/71 [==============================] - 30s 417ms/step - loss: 0.0088 - mse: 0.0011 - NMSE: 0.0100 - NMSE_wt: 0.0087 - covmat_fro_loss: 0.0034 - global_gradnorm: 2.2183 - val_loss: 0.0091 - val_mse: 0.0011 - val_NMSE: 0.0103 - val_NMSE_wt: 0.0090 - val_covmat_fro_loss: 0.0000e+00 - val_global_gradnorm: 0.0000e+00\n",
      "Epoch 30/200\n",
      "71/71 [==============================] - ETA: 0s - loss: 0.0079 - mse: 9.8494e-04 - NMSE: 0.0089 - NMSE_wt: 0.0077 - covmat_fro_loss: 0.0033 - global_gradnorm: 1.7185 - tot_time: 0h 20m 17.9s\n",
      "\n",
      "Epoch 30: val_NMSE improved from 0.00769 to 0.00717, saving model to /home/rkaushik/Documents/Thesis/MLROM/new_ks/saved_AR_AEESN_rnn/AR_ESN_ensemble_003/checkpoints/checkpoint-10_outsteps\n",
      " - saving loss histories at /home/rkaushik/Documents/Thesis/MLROM/new_ks/saved_AR_AEESN_rnn/AR_ESN_ensemble_003/checkpoints/LossHistoriesCheckpoint-10_outsteps\n",
      "71/71 [==============================] - 30s 426ms/step - loss: 0.0079 - mse: 9.8494e-04 - NMSE: 0.0089 - NMSE_wt: 0.0077 - covmat_fro_loss: 0.0033 - global_gradnorm: 1.7177 - val_loss: 0.0064 - val_mse: 7.9639e-04 - val_NMSE: 0.0072 - val_NMSE_wt: 0.0063 - val_covmat_fro_loss: 0.0000e+00 - val_global_gradnorm: 0.0000e+00\n",
      "Epoch 31/200\n",
      "71/71 [==============================] - ETA: 0s - loss: 0.0069 - mse: 8.5654e-04 - NMSE: 0.0077 - NMSE_wt: 0.0067 - covmat_fro_loss: 0.0030 - global_gradnorm: 1.8576 - tot_time: 0h 20m 47.9s\n",
      "\n",
      "Epoch 31: val_NMSE did not improve from 0.00717\n",
      " - saving loss histories at /home/rkaushik/Documents/Thesis/MLROM/new_ks/saved_AR_AEESN_rnn/AR_ESN_ensemble_003/checkpoints/LossHistoriesCheckpoint-10_outsteps\n",
      "71/71 [==============================] - 30s 422ms/step - loss: 0.0069 - mse: 8.5654e-04 - NMSE: 0.0077 - NMSE_wt: 0.0067 - covmat_fro_loss: 0.0030 - global_gradnorm: 1.8476 - val_loss: 0.0066 - val_mse: 8.2696e-04 - val_NMSE: 0.0074 - val_NMSE_wt: 0.0065 - val_covmat_fro_loss: 0.0000e+00 - val_global_gradnorm: 0.0000e+00\n",
      "Epoch 32/200\n",
      "71/71 [==============================] - ETA: 0s - loss: 0.0068 - mse: 8.5615e-04 - NMSE: 0.0077 - NMSE_wt: 0.0067 - covmat_fro_loss: 0.0030 - global_gradnorm: 1.7215 - tot_time: 0h 21m 17.9s\n",
      "\n",
      "Epoch 32: val_NMSE did not improve from 0.00717\n",
      " - saving loss histories at /home/rkaushik/Documents/Thesis/MLROM/new_ks/saved_AR_AEESN_rnn/AR_ESN_ensemble_003/checkpoints/LossHistoriesCheckpoint-10_outsteps\n",
      "71/71 [==============================] - 30s 423ms/step - loss: 0.0068 - mse: 8.5615e-04 - NMSE: 0.0077 - NMSE_wt: 0.0067 - covmat_fro_loss: 0.0030 - global_gradnorm: 1.7304 - val_loss: 0.0068 - val_mse: 8.5318e-04 - val_NMSE: 0.0077 - val_NMSE_wt: 0.0067 - val_covmat_fro_loss: 0.0000e+00 - val_global_gradnorm: 0.0000e+00\n"
     ]
    },
    {
     "name": "stdout",
     "output_type": "stream",
     "text": [
      "Epoch 33/200\n",
      "71/71 [==============================] - ETA: 0s - loss: 0.0071 - mse: 8.9324e-04 - NMSE: 0.0080 - NMSE_wt: 0.0070 - covmat_fro_loss: 0.0031 - global_gradnorm: 1.7263 - tot_time: 0h 21m 47.8s\n",
      "\n",
      "Epoch 33: val_NMSE did not improve from 0.00717\n",
      " - saving loss histories at /home/rkaushik/Documents/Thesis/MLROM/new_ks/saved_AR_AEESN_rnn/AR_ESN_ensemble_003/checkpoints/LossHistoriesCheckpoint-10_outsteps\n",
      "71/71 [==============================] - 30s 422ms/step - loss: 0.0071 - mse: 8.9324e-04 - NMSE: 0.0080 - NMSE_wt: 0.0070 - covmat_fro_loss: 0.0031 - global_gradnorm: 1.7223 - val_loss: 0.0074 - val_mse: 9.2078e-04 - val_NMSE: 0.0083 - val_NMSE_wt: 0.0072 - val_covmat_fro_loss: 0.0000e+00 - val_global_gradnorm: 0.0000e+00\n",
      "Epoch 34/200\n",
      "71/71 [==============================] - ETA: 0s - loss: 0.0067 - mse: 8.3821e-04 - NMSE: 0.0075 - NMSE_wt: 0.0066 - covmat_fro_loss: 0.0030 - global_gradnorm: 1.5888 - tot_time: 0h 22m 18.0s\n",
      "\n",
      "Epoch 34: val_NMSE did not improve from 0.00717\n",
      " - saving loss histories at /home/rkaushik/Documents/Thesis/MLROM/new_ks/saved_AR_AEESN_rnn/AR_ESN_ensemble_003/checkpoints/LossHistoriesCheckpoint-10_outsteps\n",
      "71/71 [==============================] - 30s 426ms/step - loss: 0.0067 - mse: 8.3821e-04 - NMSE: 0.0075 - NMSE_wt: 0.0066 - covmat_fro_loss: 0.0030 - global_gradnorm: 1.5894 - val_loss: 0.0072 - val_mse: 8.9910e-04 - val_NMSE: 0.0081 - val_NMSE_wt: 0.0071 - val_covmat_fro_loss: 0.0000e+00 - val_global_gradnorm: 0.0000e+00\n",
      "Epoch 35/200\n",
      "71/71 [==============================] - ETA: 0s - loss: 0.0066 - mse: 8.1830e-04 - NMSE: 0.0074 - NMSE_wt: 0.0064 - covmat_fro_loss: 0.0030 - global_gradnorm: 1.4128 - tot_time: 0h 22m 55.2s\n",
      "\n",
      "Epoch 35: val_NMSE did not improve from 0.00717\n",
      " - saving loss histories at /home/rkaushik/Documents/Thesis/MLROM/new_ks/saved_AR_AEESN_rnn/AR_ESN_ensemble_003/checkpoints/LossHistoriesCheckpoint-10_outsteps\n",
      "71/71 [==============================] - 37s 525ms/step - loss: 0.0066 - mse: 8.1830e-04 - NMSE: 0.0074 - NMSE_wt: 0.0064 - covmat_fro_loss: 0.0030 - global_gradnorm: 1.4071 - val_loss: 0.0065 - val_mse: 8.1509e-04 - val_NMSE: 0.0073 - val_NMSE_wt: 0.0064 - val_covmat_fro_loss: 0.0000e+00 - val_global_gradnorm: 0.0000e+00\n",
      "Epoch 36/200\n",
      "71/71 [==============================] - ETA: 0s - loss: 0.0065 - mse: 8.0809e-04 - NMSE: 0.0073 - NMSE_wt: 0.0063 - covmat_fro_loss: 0.0030 - global_gradnorm: 1.5118 - tot_time: 0h 23m 34.2s\n",
      "\n",
      "Epoch 36: val_NMSE did not improve from 0.00717\n",
      " - saving loss histories at /home/rkaushik/Documents/Thesis/MLROM/new_ks/saved_AR_AEESN_rnn/AR_ESN_ensemble_003/checkpoints/LossHistoriesCheckpoint-10_outsteps\n",
      "71/71 [==============================] - 39s 548ms/step - loss: 0.0065 - mse: 8.0809e-04 - NMSE: 0.0073 - NMSE_wt: 0.0063 - covmat_fro_loss: 0.0030 - global_gradnorm: 1.5177 - val_loss: 0.0074 - val_mse: 9.2181e-04 - val_NMSE: 0.0083 - val_NMSE_wt: 0.0072 - val_covmat_fro_loss: 0.0000e+00 - val_global_gradnorm: 0.0000e+00\n",
      "Epoch 37/200\n",
      "71/71 [==============================] - ETA: 0s - loss: 0.0070 - mse: 8.7515e-04 - NMSE: 0.0079 - NMSE_wt: 0.0069 - covmat_fro_loss: 0.0031 - global_gradnorm: 1.7715 - tot_time: 0h 24m 4.1s\n",
      "\n",
      "Epoch 37: val_NMSE did not improve from 0.00717\n",
      " - saving loss histories at /home/rkaushik/Documents/Thesis/MLROM/new_ks/saved_AR_AEESN_rnn/AR_ESN_ensemble_003/checkpoints/LossHistoriesCheckpoint-10_outsteps\n",
      "71/71 [==============================] - 30s 422ms/step - loss: 0.0070 - mse: 8.7515e-04 - NMSE: 0.0079 - NMSE_wt: 0.0069 - covmat_fro_loss: 0.0031 - global_gradnorm: 1.7633 - val_loss: 0.0076 - val_mse: 9.5293e-04 - val_NMSE: 0.0086 - val_NMSE_wt: 0.0075 - val_covmat_fro_loss: 0.0000e+00 - val_global_gradnorm: 0.0000e+00\n",
      "Epoch 38/200\n",
      "71/71 [==============================] - ETA: 0s - loss: 0.0061 - mse: 7.5406e-04 - NMSE: 0.0068 - NMSE_wt: 0.0059 - covmat_fro_loss: 0.0029 - global_gradnorm: 1.4562 - tot_time: 0h 24m 33.9s\n",
      "\n",
      "Epoch 38: val_NMSE did not improve from 0.00717\n",
      " - saving loss histories at /home/rkaushik/Documents/Thesis/MLROM/new_ks/saved_AR_AEESN_rnn/AR_ESN_ensemble_003/checkpoints/LossHistoriesCheckpoint-10_outsteps\n",
      "71/71 [==============================] - 30s 420ms/step - loss: 0.0061 - mse: 7.5406e-04 - NMSE: 0.0068 - NMSE_wt: 0.0059 - covmat_fro_loss: 0.0029 - global_gradnorm: 1.4600 - val_loss: 0.0068 - val_mse: 8.5010e-04 - val_NMSE: 0.0076 - val_NMSE_wt: 0.0067 - val_covmat_fro_loss: 0.0000e+00 - val_global_gradnorm: 0.0000e+00\n",
      "Epoch 39/200\n",
      "71/71 [==============================] - ETA: 0s - loss: 0.0069 - mse: 8.5845e-04 - NMSE: 0.0077 - NMSE_wt: 0.0067 - covmat_fro_loss: 0.0031 - global_gradnorm: 1.5868 - tot_time: 0h 25m 3.6s\n",
      "\n",
      "Epoch 39: val_NMSE did not improve from 0.00717\n",
      " - saving loss histories at /home/rkaushik/Documents/Thesis/MLROM/new_ks/saved_AR_AEESN_rnn/AR_ESN_ensemble_003/checkpoints/LossHistoriesCheckpoint-10_outsteps\n",
      "71/71 [==============================] - 30s 419ms/step - loss: 0.0069 - mse: 8.5845e-04 - NMSE: 0.0077 - NMSE_wt: 0.0067 - covmat_fro_loss: 0.0031 - global_gradnorm: 1.5901 - val_loss: 0.0072 - val_mse: 9.0601e-04 - val_NMSE: 0.0082 - val_NMSE_wt: 0.0071 - val_covmat_fro_loss: 0.0000e+00 - val_global_gradnorm: 0.0000e+00\n",
      "Epoch 40/200\n",
      "71/71 [==============================] - ETA: 0s - loss: 0.0069 - mse: 8.5880e-04 - NMSE: 0.0077 - NMSE_wt: 0.0067 - covmat_fro_loss: 0.0031 - global_gradnorm: 1.5052 - tot_time: 0h 25m 33.3s\n",
      "\n",
      "Epoch 40: val_NMSE did not improve from 0.00717\n",
      " - saving loss histories at /home/rkaushik/Documents/Thesis/MLROM/new_ks/saved_AR_AEESN_rnn/AR_ESN_ensemble_003/checkpoints/LossHistoriesCheckpoint-10_outsteps\n",
      "71/71 [==============================] - 30s 419ms/step - loss: 0.0069 - mse: 8.5880e-04 - NMSE: 0.0077 - NMSE_wt: 0.0067 - covmat_fro_loss: 0.0031 - global_gradnorm: 1.5061 - val_loss: 0.0068 - val_mse: 8.4780e-04 - val_NMSE: 0.0076 - val_NMSE_wt: 0.0067 - val_covmat_fro_loss: 0.0000e+00 - val_global_gradnorm: 0.0000e+00\n",
      "Epoch 41/200\n",
      "71/71 [==============================] - ETA: 0s - loss: 0.0076 - mse: 9.4810e-04 - NMSE: 0.0085 - NMSE_wt: 0.0074 - covmat_fro_loss: 0.0032 - global_gradnorm: 1.6491 - tot_time: 0h 26m 2.9s\n",
      "\n",
      "Epoch 41: val_NMSE did not improve from 0.00717\n",
      " - saving loss histories at /home/rkaushik/Documents/Thesis/MLROM/new_ks/saved_AR_AEESN_rnn/AR_ESN_ensemble_003/checkpoints/LossHistoriesCheckpoint-10_outsteps\n",
      "71/71 [==============================] - 30s 418ms/step - loss: 0.0076 - mse: 9.4810e-04 - NMSE: 0.0085 - NMSE_wt: 0.0074 - covmat_fro_loss: 0.0032 - global_gradnorm: 1.6451 - val_loss: 0.0081 - val_mse: 0.0010 - val_NMSE: 0.0092 - val_NMSE_wt: 0.0080 - val_covmat_fro_loss: 0.0000e+00 - val_global_gradnorm: 0.0000e+00\n",
      "Epoch 42/200\n",
      "71/71 [==============================] - ETA: 0s - loss: 0.0063 - mse: 7.8563e-04 - NMSE: 0.0071 - NMSE_wt: 0.0062 - covmat_fro_loss: 0.0029 - global_gradnorm: 1.4167 - tot_time: 0h 26m 32.8s\n",
      "\n",
      "Epoch 42: val_NMSE did not improve from 0.00717\n",
      " - saving loss histories at /home/rkaushik/Documents/Thesis/MLROM/new_ks/saved_AR_AEESN_rnn/AR_ESN_ensemble_003/checkpoints/LossHistoriesCheckpoint-10_outsteps\n",
      "71/71 [==============================] - 30s 421ms/step - loss: 0.0063 - mse: 7.8563e-04 - NMSE: 0.0071 - NMSE_wt: 0.0062 - covmat_fro_loss: 0.0029 - global_gradnorm: 1.4139 - val_loss: 0.0066 - val_mse: 8.2910e-04 - val_NMSE: 0.0075 - val_NMSE_wt: 0.0065 - val_covmat_fro_loss: 0.0000e+00 - val_global_gradnorm: 0.0000e+00\n",
      "Epoch 43/200\n",
      "71/71 [==============================] - ETA: 0s - loss: 0.0062 - mse: 7.7043e-04 - NMSE: 0.0069 - NMSE_wt: 0.0060 - covmat_fro_loss: 0.0029 - global_gradnorm: 1.4258 - tot_time: 0h 27m 2.9s\n",
      "\n",
      "Epoch 43: val_NMSE did not improve from 0.00717\n",
      " - saving loss histories at /home/rkaushik/Documents/Thesis/MLROM/new_ks/saved_AR_AEESN_rnn/AR_ESN_ensemble_003/checkpoints/LossHistoriesCheckpoint-10_outsteps\n",
      "71/71 [==============================] - 30s 425ms/step - loss: 0.0062 - mse: 7.7043e-04 - NMSE: 0.0069 - NMSE_wt: 0.0060 - covmat_fro_loss: 0.0029 - global_gradnorm: 1.4216 - val_loss: 0.0070 - val_mse: 8.7911e-04 - val_NMSE: 0.0079 - val_NMSE_wt: 0.0069 - val_covmat_fro_loss: 0.0000e+00 - val_global_gradnorm: 0.0000e+00\n",
      "Epoch 44/200\n"
     ]
    },
    {
     "name": "stdout",
     "output_type": "stream",
     "text": [
      "71/71 [==============================] - ETA: 0s - loss: 0.0065 - mse: 8.1638e-04 - NMSE: 0.0073 - NMSE_wt: 0.0064 - covmat_fro_loss: 0.0030 - global_gradnorm: 1.5945 - tot_time: 0h 27m 32.8s\n",
      "\n",
      "Epoch 44: val_NMSE did not improve from 0.00717\n",
      " - saving loss histories at /home/rkaushik/Documents/Thesis/MLROM/new_ks/saved_AR_AEESN_rnn/AR_ESN_ensemble_003/checkpoints/LossHistoriesCheckpoint-10_outsteps\n",
      "71/71 [==============================] - 30s 421ms/step - loss: 0.0065 - mse: 8.1638e-04 - NMSE: 0.0073 - NMSE_wt: 0.0064 - covmat_fro_loss: 0.0030 - global_gradnorm: 1.5994 - val_loss: 0.0085 - val_mse: 0.0011 - val_NMSE: 0.0096 - val_NMSE_wt: 0.0084 - val_covmat_fro_loss: 0.0000e+00 - val_global_gradnorm: 0.0000e+00\n",
      "Epoch 45/200\n",
      "71/71 [==============================] - ETA: 0s - loss: 0.0068 - mse: 8.4481e-04 - NMSE: 0.0076 - NMSE_wt: 0.0066 - covmat_fro_loss: 0.0030 - global_gradnorm: 1.5855 - tot_time: 0h 28m 2.8s\n",
      "\n",
      "Epoch 45: val_NMSE did not improve from 0.00717\n",
      " - saving loss histories at /home/rkaushik/Documents/Thesis/MLROM/new_ks/saved_AR_AEESN_rnn/AR_ESN_ensemble_003/checkpoints/LossHistoriesCheckpoint-10_outsteps\n",
      "71/71 [==============================] - 30s 423ms/step - loss: 0.0068 - mse: 8.4481e-04 - NMSE: 0.0076 - NMSE_wt: 0.0066 - covmat_fro_loss: 0.0030 - global_gradnorm: 1.5884 - val_loss: 0.0067 - val_mse: 8.3416e-04 - val_NMSE: 0.0075 - val_NMSE_wt: 0.0066 - val_covmat_fro_loss: 0.0000e+00 - val_global_gradnorm: 0.0000e+00\n",
      "Epoch 46/200\n",
      "71/71 [==============================] - ETA: 0s - loss: 0.0060 - mse: 7.4252e-04 - NMSE: 0.0067 - NMSE_wt: 0.0058 - covmat_fro_loss: 0.0028 - global_gradnorm: 1.3945 - tot_time: 0h 28m 32.2s\n",
      "\n",
      "Epoch 46: val_NMSE did not improve from 0.00717\n",
      " - saving loss histories at /home/rkaushik/Documents/Thesis/MLROM/new_ks/saved_AR_AEESN_rnn/AR_ESN_ensemble_003/checkpoints/LossHistoriesCheckpoint-10_outsteps\n",
      "71/71 [==============================] - 29s 416ms/step - loss: 0.0060 - mse: 7.4252e-04 - NMSE: 0.0067 - NMSE_wt: 0.0058 - covmat_fro_loss: 0.0028 - global_gradnorm: 1.3993 - val_loss: 0.0074 - val_mse: 9.2642e-04 - val_NMSE: 0.0083 - val_NMSE_wt: 0.0073 - val_covmat_fro_loss: 0.0000e+00 - val_global_gradnorm: 0.0000e+00\n",
      "Epoch 47/200\n",
      "71/71 [==============================] - ETA: 0s - loss: 0.0071 - mse: 8.8648e-04 - NMSE: 0.0080 - NMSE_wt: 0.0070 - covmat_fro_loss: 0.0031 - global_gradnorm: 1.5469 - tot_time: 0h 29m 2.5s\n",
      "\n",
      "Epoch 47: val_NMSE did not improve from 0.00717\n",
      " - saving loss histories at /home/rkaushik/Documents/Thesis/MLROM/new_ks/saved_AR_AEESN_rnn/AR_ESN_ensemble_003/checkpoints/LossHistoriesCheckpoint-10_outsteps\n",
      "71/71 [==============================] - 30s 425ms/step - loss: 0.0071 - mse: 8.8648e-04 - NMSE: 0.0080 - NMSE_wt: 0.0070 - covmat_fro_loss: 0.0031 - global_gradnorm: 1.5474 - val_loss: 0.0066 - val_mse: 8.2178e-04 - val_NMSE: 0.0074 - val_NMSE_wt: 0.0064 - val_covmat_fro_loss: 0.0000e+00 - val_global_gradnorm: 0.0000e+00\n",
      "Epoch 48/200\n",
      "71/71 [==============================] - ETA: 0s - loss: 0.0070 - mse: 8.7392e-04 - NMSE: 0.0079 - NMSE_wt: 0.0069 - covmat_fro_loss: 0.0031 - global_gradnorm: 1.5693 - tot_time: 0h 29m 32.4s\n",
      "\n",
      "Epoch 48: val_NMSE improved from 0.00717 to 0.00686, saving model to /home/rkaushik/Documents/Thesis/MLROM/new_ks/saved_AR_AEESN_rnn/AR_ESN_ensemble_003/checkpoints/checkpoint-10_outsteps\n",
      " - saving loss histories at /home/rkaushik/Documents/Thesis/MLROM/new_ks/saved_AR_AEESN_rnn/AR_ESN_ensemble_003/checkpoints/LossHistoriesCheckpoint-10_outsteps\n",
      "71/71 [==============================] - 30s 423ms/step - loss: 0.0070 - mse: 8.7392e-04 - NMSE: 0.0079 - NMSE_wt: 0.0069 - covmat_fro_loss: 0.0031 - global_gradnorm: 1.5648 - val_loss: 0.0061 - val_mse: 7.6226e-04 - val_NMSE: 0.0069 - val_NMSE_wt: 0.0060 - val_covmat_fro_loss: 0.0000e+00 - val_global_gradnorm: 0.0000e+00\n",
      "Epoch 49/200\n",
      "71/71 [==============================] - ETA: 0s - loss: 0.0059 - mse: 7.3742e-04 - NMSE: 0.0066 - NMSE_wt: 0.0058 - covmat_fro_loss: 0.0028 - global_gradnorm: 1.3445 - tot_time: 0h 30m 2.8s\n",
      "\n",
      "Epoch 49: val_NMSE did not improve from 0.00686\n",
      " - saving loss histories at /home/rkaushik/Documents/Thesis/MLROM/new_ks/saved_AR_AEESN_rnn/AR_ESN_ensemble_003/checkpoints/LossHistoriesCheckpoint-10_outsteps\n",
      "71/71 [==============================] - 30s 427ms/step - loss: 0.0059 - mse: 7.3742e-04 - NMSE: 0.0066 - NMSE_wt: 0.0058 - covmat_fro_loss: 0.0028 - global_gradnorm: 1.3434 - val_loss: 0.0063 - val_mse: 7.9171e-04 - val_NMSE: 0.0071 - val_NMSE_wt: 0.0062 - val_covmat_fro_loss: 0.0000e+00 - val_global_gradnorm: 0.0000e+00\n",
      "Epoch 50/200\n",
      "71/71 [==============================] - ETA: 0s - loss: 0.0067 - mse: 8.3267e-04 - NMSE: 0.0075 - NMSE_wt: 0.0065 - covmat_fro_loss: 0.0030 - global_gradnorm: 1.3722 - tot_time: 0h 30m 33.0s\n",
      "\n",
      "Epoch 50: val_NMSE did not improve from 0.00686\n",
      " - saving loss histories at /home/rkaushik/Documents/Thesis/MLROM/new_ks/saved_AR_AEESN_rnn/AR_ESN_ensemble_003/checkpoints/LossHistoriesCheckpoint-10_outsteps\n",
      "71/71 [==============================] - 30s 426ms/step - loss: 0.0067 - mse: 8.3267e-04 - NMSE: 0.0075 - NMSE_wt: 0.0065 - covmat_fro_loss: 0.0030 - global_gradnorm: 1.3706 - val_loss: 0.0074 - val_mse: 9.2682e-04 - val_NMSE: 0.0083 - val_NMSE_wt: 0.0073 - val_covmat_fro_loss: 0.0000e+00 - val_global_gradnorm: 0.0000e+00\n",
      "Epoch 51/200\n",
      "71/71 [==============================] - ETA: 0s - loss: 0.0067 - mse: 8.3549e-04 - NMSE: 0.0075 - NMSE_wt: 0.0066 - covmat_fro_loss: 0.0030 - global_gradnorm: 1.4876 - tot_time: 0h 31m 2.7s\n",
      "\n",
      "Epoch 51: val_NMSE did not improve from 0.00686\n",
      " - saving loss histories at /home/rkaushik/Documents/Thesis/MLROM/new_ks/saved_AR_AEESN_rnn/AR_ESN_ensemble_003/checkpoints/LossHistoriesCheckpoint-10_outsteps\n",
      "71/71 [==============================] - 30s 419ms/step - loss: 0.0067 - mse: 8.3549e-04 - NMSE: 0.0075 - NMSE_wt: 0.0066 - covmat_fro_loss: 0.0030 - global_gradnorm: 1.4920 - val_loss: 0.0069 - val_mse: 8.6607e-04 - val_NMSE: 0.0078 - val_NMSE_wt: 0.0068 - val_covmat_fro_loss: 0.0000e+00 - val_global_gradnorm: 0.0000e+00\n",
      "Epoch 52/200\n",
      "71/71 [==============================] - ETA: 0s - loss: 0.0063 - mse: 7.8044e-04 - NMSE: 0.0070 - NMSE_wt: 0.0061 - covmat_fro_loss: 0.0029 - global_gradnorm: 1.3618 - tot_time: 0h 31m 32.9s\n",
      "\n",
      "Epoch 52: val_NMSE improved from 0.00686 to 0.00684, saving model to /home/rkaushik/Documents/Thesis/MLROM/new_ks/saved_AR_AEESN_rnn/AR_ESN_ensemble_003/checkpoints/checkpoint-10_outsteps\n",
      " - saving loss histories at /home/rkaushik/Documents/Thesis/MLROM/new_ks/saved_AR_AEESN_rnn/AR_ESN_ensemble_003/checkpoints/LossHistoriesCheckpoint-10_outsteps\n",
      "71/71 [==============================] - 30s 427ms/step - loss: 0.0063 - mse: 7.8044e-04 - NMSE: 0.0070 - NMSE_wt: 0.0061 - covmat_fro_loss: 0.0029 - global_gradnorm: 1.3596 - val_loss: 0.0061 - val_mse: 7.6060e-04 - val_NMSE: 0.0068 - val_NMSE_wt: 0.0060 - val_covmat_fro_loss: 0.0000e+00 - val_global_gradnorm: 0.0000e+00\n",
      "Epoch 53/200\n",
      "71/71 [==============================] - ETA: 0s - loss: 0.0061 - mse: 7.6121e-04 - NMSE: 0.0068 - NMSE_wt: 0.0060 - covmat_fro_loss: 0.0029 - global_gradnorm: 1.3211 - tot_time: 0h 32m 3.2s\n",
      "\n",
      "Epoch 53: val_NMSE did not improve from 0.00684\n",
      " - saving loss histories at /home/rkaushik/Documents/Thesis/MLROM/new_ks/saved_AR_AEESN_rnn/AR_ESN_ensemble_003/checkpoints/LossHistoriesCheckpoint-10_outsteps\n",
      "71/71 [==============================] - 30s 425ms/step - loss: 0.0061 - mse: 7.6121e-04 - NMSE: 0.0068 - NMSE_wt: 0.0060 - covmat_fro_loss: 0.0029 - global_gradnorm: 1.3204 - val_loss: 0.0064 - val_mse: 7.9422e-04 - val_NMSE: 0.0071 - val_NMSE_wt: 0.0062 - val_covmat_fro_loss: 0.0000e+00 - val_global_gradnorm: 0.0000e+00\n",
      "Epoch 54/200\n",
      "71/71 [==============================] - ETA: 0s - loss: 0.0056 - mse: 7.0226e-04 - NMSE: 0.0063 - NMSE_wt: 0.0055 - covmat_fro_loss: 0.0028 - global_gradnorm: 1.2114 - tot_time: 0h 32m 33.3s\n",
      "\n",
      "Epoch 54: val_NMSE did not improve from 0.00684\n",
      " - saving loss histories at /home/rkaushik/Documents/Thesis/MLROM/new_ks/saved_AR_AEESN_rnn/AR_ESN_ensemble_003/checkpoints/LossHistoriesCheckpoint-10_outsteps\n",
      "71/71 [==============================] - 30s 424ms/step - loss: 0.0056 - mse: 7.0226e-04 - NMSE: 0.0063 - NMSE_wt: 0.0055 - covmat_fro_loss: 0.0028 - global_gradnorm: 1.2123 - val_loss: 0.0061 - val_mse: 7.6292e-04 - val_NMSE: 0.0069 - val_NMSE_wt: 0.0060 - val_covmat_fro_loss: 0.0000e+00 - val_global_gradnorm: 0.0000e+00\n"
     ]
    },
    {
     "name": "stdout",
     "output_type": "stream",
     "text": [
      "Epoch 55/200\n",
      "71/71 [==============================] - ETA: 0s - loss: 0.0065 - mse: 8.1177e-04 - NMSE: 0.0073 - NMSE_wt: 0.0064 - covmat_fro_loss: 0.0030 - global_gradnorm: 1.4172 - tot_time: 0h 33m 3.3s\n",
      "\n",
      "Epoch 55: val_NMSE improved from 0.00684 to 0.00667, saving model to /home/rkaushik/Documents/Thesis/MLROM/new_ks/saved_AR_AEESN_rnn/AR_ESN_ensemble_003/checkpoints/checkpoint-10_outsteps\n",
      " - saving loss histories at /home/rkaushik/Documents/Thesis/MLROM/new_ks/saved_AR_AEESN_rnn/AR_ESN_ensemble_003/checkpoints/LossHistoriesCheckpoint-10_outsteps\n",
      "71/71 [==============================] - 30s 425ms/step - loss: 0.0065 - mse: 8.1177e-04 - NMSE: 0.0073 - NMSE_wt: 0.0064 - covmat_fro_loss: 0.0030 - global_gradnorm: 1.4132 - val_loss: 0.0060 - val_mse: 7.4107e-04 - val_NMSE: 0.0067 - val_NMSE_wt: 0.0058 - val_covmat_fro_loss: 0.0000e+00 - val_global_gradnorm: 0.0000e+00\n",
      "Epoch 56/200\n",
      "71/71 [==============================] - ETA: 0s - loss: 0.0058 - mse: 7.2549e-04 - NMSE: 0.0065 - NMSE_wt: 0.0057 - covmat_fro_loss: 0.0028 - global_gradnorm: 1.2604 - tot_time: 0h 33m 33.3s\n",
      "\n",
      "Epoch 56: val_NMSE did not improve from 0.00667\n",
      " - saving loss histories at /home/rkaushik/Documents/Thesis/MLROM/new_ks/saved_AR_AEESN_rnn/AR_ESN_ensemble_003/checkpoints/LossHistoriesCheckpoint-10_outsteps\n",
      "71/71 [==============================] - 30s 424ms/step - loss: 0.0058 - mse: 7.2549e-04 - NMSE: 0.0065 - NMSE_wt: 0.0057 - covmat_fro_loss: 0.0028 - global_gradnorm: 1.2573 - val_loss: 0.0063 - val_mse: 7.8126e-04 - val_NMSE: 0.0070 - val_NMSE_wt: 0.0061 - val_covmat_fro_loss: 0.0000e+00 - val_global_gradnorm: 0.0000e+00\n",
      "Epoch 57/200\n",
      "71/71 [==============================] - ETA: 0s - loss: 0.0057 - mse: 7.1456e-04 - NMSE: 0.0064 - NMSE_wt: 0.0056 - covmat_fro_loss: 0.0028 - global_gradnorm: 1.2230 - tot_time: 0h 34m 3.5s\n",
      "\n",
      "Epoch 57: val_NMSE did not improve from 0.00667\n",
      " - saving loss histories at /home/rkaushik/Documents/Thesis/MLROM/new_ks/saved_AR_AEESN_rnn/AR_ESN_ensemble_003/checkpoints/LossHistoriesCheckpoint-10_outsteps\n",
      "71/71 [==============================] - 30s 424ms/step - loss: 0.0057 - mse: 7.1456e-04 - NMSE: 0.0064 - NMSE_wt: 0.0056 - covmat_fro_loss: 0.0028 - global_gradnorm: 1.2238 - val_loss: 0.0066 - val_mse: 8.1926e-04 - val_NMSE: 0.0074 - val_NMSE_wt: 0.0064 - val_covmat_fro_loss: 0.0000e+00 - val_global_gradnorm: 0.0000e+00\n",
      "Epoch 58/200\n",
      "71/71 [==============================] - ETA: 0s - loss: 0.0067 - mse: 8.3995e-04 - NMSE: 0.0076 - NMSE_wt: 0.0066 - covmat_fro_loss: 0.0030 - global_gradnorm: 1.3846 - tot_time: 0h 34m 33.9s\n",
      "\n",
      "Epoch 58: val_NMSE did not improve from 0.00667\n",
      " - saving loss histories at /home/rkaushik/Documents/Thesis/MLROM/new_ks/saved_AR_AEESN_rnn/AR_ESN_ensemble_003/checkpoints/LossHistoriesCheckpoint-10_outsteps\n",
      "71/71 [==============================] - 30s 429ms/step - loss: 0.0067 - mse: 8.3995e-04 - NMSE: 0.0076 - NMSE_wt: 0.0066 - covmat_fro_loss: 0.0030 - global_gradnorm: 1.3869 - val_loss: 0.0080 - val_mse: 9.9667e-04 - val_NMSE: 0.0090 - val_NMSE_wt: 0.0078 - val_covmat_fro_loss: 0.0000e+00 - val_global_gradnorm: 0.0000e+00\n",
      "Epoch 59/200\n",
      "71/71 [==============================] - ETA: 0s - loss: 0.0060 - mse: 7.4184e-04 - NMSE: 0.0067 - NMSE_wt: 0.0058 - covmat_fro_loss: 0.0028 - global_gradnorm: 1.2324 - tot_time: 0h 35m 4.1s\n",
      "\n",
      "Epoch 59: val_NMSE did not improve from 0.00667\n",
      " - saving loss histories at /home/rkaushik/Documents/Thesis/MLROM/new_ks/saved_AR_AEESN_rnn/AR_ESN_ensemble_003/checkpoints/LossHistoriesCheckpoint-10_outsteps\n",
      "71/71 [==============================] - 30s 425ms/step - loss: 0.0060 - mse: 7.4184e-04 - NMSE: 0.0067 - NMSE_wt: 0.0058 - covmat_fro_loss: 0.0028 - global_gradnorm: 1.2303 - val_loss: 0.0066 - val_mse: 8.2219e-04 - val_NMSE: 0.0074 - val_NMSE_wt: 0.0065 - val_covmat_fro_loss: 0.0000e+00 - val_global_gradnorm: 0.0000e+00\n",
      "Epoch 60/200\n",
      "71/71 [==============================] - ETA: 0s - loss: 0.0065 - mse: 8.1417e-04 - NMSE: 0.0073 - NMSE_wt: 0.0064 - covmat_fro_loss: 0.0030 - global_gradnorm: 1.4070 - tot_time: 0h 35m 34.7s\n",
      "\n",
      "Epoch 60: val_NMSE did not improve from 0.00667\n",
      " - saving loss histories at /home/rkaushik/Documents/Thesis/MLROM/new_ks/saved_AR_AEESN_rnn/AR_ESN_ensemble_003/checkpoints/LossHistoriesCheckpoint-10_outsteps\n",
      "71/71 [==============================] - 31s 431ms/step - loss: 0.0065 - mse: 8.1417e-04 - NMSE: 0.0073 - NMSE_wt: 0.0064 - covmat_fro_loss: 0.0030 - global_gradnorm: 1.4057 - val_loss: 0.0066 - val_mse: 8.2214e-04 - val_NMSE: 0.0074 - val_NMSE_wt: 0.0065 - val_covmat_fro_loss: 0.0000e+00 - val_global_gradnorm: 0.0000e+00\n",
      "Epoch 61/200\n",
      "71/71 [==============================] - ETA: 0s - loss: 0.0059 - mse: 7.3068e-04 - NMSE: 0.0066 - NMSE_wt: 0.0057 - covmat_fro_loss: 0.0028 - global_gradnorm: 1.2139 - tot_time: 0h 36m 5.0s\n",
      "\n",
      "Epoch 61: val_NMSE did not improve from 0.00667\n",
      " - saving loss histories at /home/rkaushik/Documents/Thesis/MLROM/new_ks/saved_AR_AEESN_rnn/AR_ESN_ensemble_003/checkpoints/LossHistoriesCheckpoint-10_outsteps\n",
      "71/71 [==============================] - 30s 428ms/step - loss: 0.0059 - mse: 7.3068e-04 - NMSE: 0.0066 - NMSE_wt: 0.0057 - covmat_fro_loss: 0.0028 - global_gradnorm: 1.2152 - val_loss: 0.0075 - val_mse: 9.3653e-04 - val_NMSE: 0.0084 - val_NMSE_wt: 0.0073 - val_covmat_fro_loss: 0.0000e+00 - val_global_gradnorm: 0.0000e+00\n",
      "Epoch 62/200\n",
      "71/71 [==============================] - ETA: 0s - loss: 0.0065 - mse: 8.1514e-04 - NMSE: 0.0073 - NMSE_wt: 0.0064 - covmat_fro_loss: 0.0030 - global_gradnorm: 1.2945 - tot_time: 0h 36m 35.2s\n",
      "\n",
      "Epoch 62: val_NMSE did not improve from 0.00667\n",
      " - saving loss histories at /home/rkaushik/Documents/Thesis/MLROM/new_ks/saved_AR_AEESN_rnn/AR_ESN_ensemble_003/checkpoints/LossHistoriesCheckpoint-10_outsteps\n",
      "71/71 [==============================] - 30s 425ms/step - loss: 0.0065 - mse: 8.1514e-04 - NMSE: 0.0073 - NMSE_wt: 0.0064 - covmat_fro_loss: 0.0030 - global_gradnorm: 1.2929 - val_loss: 0.0067 - val_mse: 8.3466e-04 - val_NMSE: 0.0075 - val_NMSE_wt: 0.0066 - val_covmat_fro_loss: 0.0000e+00 - val_global_gradnorm: 0.0000e+00\n",
      "Epoch 63/200\n",
      "71/71 [==============================] - ETA: 0s - loss: 0.0064 - mse: 7.9369e-04 - NMSE: 0.0071 - NMSE_wt: 0.0062 - covmat_fro_loss: 0.0029 - global_gradnorm: 1.4079 - tot_time: 0h 37m 5.2s\n",
      "\n",
      "Epoch 63: val_NMSE did not improve from 0.00667\n",
      " - saving loss histories at /home/rkaushik/Documents/Thesis/MLROM/new_ks/saved_AR_AEESN_rnn/AR_ESN_ensemble_003/checkpoints/LossHistoriesCheckpoint-10_outsteps\n",
      "71/71 [==============================] - 30s 423ms/step - loss: 0.0064 - mse: 7.9369e-04 - NMSE: 0.0071 - NMSE_wt: 0.0062 - covmat_fro_loss: 0.0029 - global_gradnorm: 1.4027 - val_loss: 0.0067 - val_mse: 8.3144e-04 - val_NMSE: 0.0075 - val_NMSE_wt: 0.0065 - val_covmat_fro_loss: 0.0000e+00 - val_global_gradnorm: 0.0000e+00\n",
      "Epoch 64/200\n",
      "71/71 [==============================] - ETA: 0s - loss: 0.0057 - mse: 7.0416e-04 - NMSE: 0.0063 - NMSE_wt: 0.0055 - covmat_fro_loss: 0.0028 - global_gradnorm: 1.1159 - tot_time: 0h 37m 35.0s\n",
      "\n",
      "Epoch 64: val_NMSE improved from 0.00667 to 0.00591, saving model to /home/rkaushik/Documents/Thesis/MLROM/new_ks/saved_AR_AEESN_rnn/AR_ESN_ensemble_003/checkpoints/checkpoint-10_outsteps\n",
      " - saving loss histories at /home/rkaushik/Documents/Thesis/MLROM/new_ks/saved_AR_AEESN_rnn/AR_ESN_ensemble_003/checkpoints/LossHistoriesCheckpoint-10_outsteps\n",
      "71/71 [==============================] - 30s 423ms/step - loss: 0.0057 - mse: 7.0416e-04 - NMSE: 0.0063 - NMSE_wt: 0.0055 - covmat_fro_loss: 0.0028 - global_gradnorm: 1.1160 - val_loss: 0.0053 - val_mse: 6.5641e-04 - val_NMSE: 0.0059 - val_NMSE_wt: 0.0052 - val_covmat_fro_loss: 0.0000e+00 - val_global_gradnorm: 0.0000e+00\n",
      "Epoch 65/200\n",
      "71/71 [==============================] - ETA: 0s - loss: 0.0054 - mse: 6.7628e-04 - NMSE: 0.0061 - NMSE_wt: 0.0053 - covmat_fro_loss: 0.0027 - global_gradnorm: 1.1622 - tot_time: 0h 38m 5.5s\n",
      "\n",
      "Epoch 65: val_NMSE did not improve from 0.00591\n",
      " - saving loss histories at /home/rkaushik/Documents/Thesis/MLROM/new_ks/saved_AR_AEESN_rnn/AR_ESN_ensemble_003/checkpoints/LossHistoriesCheckpoint-10_outsteps\n",
      "71/71 [==============================] - 30s 428ms/step - loss: 0.0054 - mse: 6.7628e-04 - NMSE: 0.0061 - NMSE_wt: 0.0053 - covmat_fro_loss: 0.0027 - global_gradnorm: 1.1629 - val_loss: 0.0059 - val_mse: 7.3576e-04 - val_NMSE: 0.0066 - val_NMSE_wt: 0.0058 - val_covmat_fro_loss: 0.0000e+00 - val_global_gradnorm: 0.0000e+00\n"
     ]
    },
    {
     "name": "stdout",
     "output_type": "stream",
     "text": [
      "Epoch 66/200\n",
      "71/71 [==============================] - ETA: 0s - loss: 0.0060 - mse: 7.4693e-04 - NMSE: 0.0067 - NMSE_wt: 0.0059 - covmat_fro_loss: 0.0029 - global_gradnorm: 1.2561 - tot_time: 0h 38m 37.0s\n",
      "\n",
      "Epoch 66: val_NMSE did not improve from 0.00591\n",
      " - saving loss histories at /home/rkaushik/Documents/Thesis/MLROM/new_ks/saved_AR_AEESN_rnn/AR_ESN_ensemble_003/checkpoints/LossHistoriesCheckpoint-10_outsteps\n",
      "71/71 [==============================] - 31s 444ms/step - loss: 0.0060 - mse: 7.4693e-04 - NMSE: 0.0067 - NMSE_wt: 0.0059 - covmat_fro_loss: 0.0029 - global_gradnorm: 1.2558 - val_loss: 0.0072 - val_mse: 8.9680e-04 - val_NMSE: 0.0081 - val_NMSE_wt: 0.0070 - val_covmat_fro_loss: 0.0000e+00 - val_global_gradnorm: 0.0000e+00\n",
      "Epoch 67/200\n",
      "71/71 [==============================] - ETA: 0s - loss: 0.0068 - mse: 8.5537e-04 - NMSE: 0.0077 - NMSE_wt: 0.0067 - covmat_fro_loss: 0.0031 - global_gradnorm: 1.3044 - tot_time: 0h 39m 8.8s\n",
      "\n",
      "Epoch 67: val_NMSE did not improve from 0.00591\n",
      " - saving loss histories at /home/rkaushik/Documents/Thesis/MLROM/new_ks/saved_AR_AEESN_rnn/AR_ESN_ensemble_003/checkpoints/LossHistoriesCheckpoint-10_outsteps\n",
      "71/71 [==============================] - 32s 449ms/step - loss: 0.0068 - mse: 8.5537e-04 - NMSE: 0.0077 - NMSE_wt: 0.0067 - covmat_fro_loss: 0.0031 - global_gradnorm: 1.3068 - val_loss: 0.0095 - val_mse: 0.0012 - val_NMSE: 0.0108 - val_NMSE_wt: 0.0094 - val_covmat_fro_loss: 0.0000e+00 - val_global_gradnorm: 0.0000e+00\n",
      "Epoch 68/200\n",
      "71/71 [==============================] - ETA: 0s - loss: 0.0062 - mse: 7.6860e-04 - NMSE: 0.0069 - NMSE_wt: 0.0060 - covmat_fro_loss: 0.0029 - global_gradnorm: 1.1999 - tot_time: 0h 39m 40.3s\n",
      "\n",
      "Epoch 68: val_NMSE did not improve from 0.00591\n",
      " - saving loss histories at /home/rkaushik/Documents/Thesis/MLROM/new_ks/saved_AR_AEESN_rnn/AR_ESN_ensemble_003/checkpoints/LossHistoriesCheckpoint-10_outsteps\n",
      "71/71 [==============================] - 31s 443ms/step - loss: 0.0062 - mse: 7.6860e-04 - NMSE: 0.0069 - NMSE_wt: 0.0060 - covmat_fro_loss: 0.0029 - global_gradnorm: 1.2009 - val_loss: 0.0056 - val_mse: 6.9825e-04 - val_NMSE: 0.0063 - val_NMSE_wt: 0.0055 - val_covmat_fro_loss: 0.0000e+00 - val_global_gradnorm: 0.0000e+00\n",
      "Epoch 69/200\n",
      "71/71 [==============================] - ETA: 0s - loss: 0.0060 - mse: 7.4832e-04 - NMSE: 0.0067 - NMSE_wt: 0.0059 - covmat_fro_loss: 0.0029 - global_gradnorm: 1.2733 - tot_time: 0h 40m 11.8s\n",
      "\n",
      "Epoch 69: val_NMSE did not improve from 0.00591\n",
      " - saving loss histories at /home/rkaushik/Documents/Thesis/MLROM/new_ks/saved_AR_AEESN_rnn/AR_ESN_ensemble_003/checkpoints/LossHistoriesCheckpoint-10_outsteps\n",
      "71/71 [==============================] - 31s 444ms/step - loss: 0.0060 - mse: 7.4832e-04 - NMSE: 0.0067 - NMSE_wt: 0.0059 - covmat_fro_loss: 0.0029 - global_gradnorm: 1.2744 - val_loss: 0.0069 - val_mse: 8.6102e-04 - val_NMSE: 0.0077 - val_NMSE_wt: 0.0068 - val_covmat_fro_loss: 0.0000e+00 - val_global_gradnorm: 0.0000e+00\n",
      "Epoch 70/200\n",
      "71/71 [==============================] - ETA: 0s - loss: 0.0061 - mse: 7.6323e-04 - NMSE: 0.0069 - NMSE_wt: 0.0060 - covmat_fro_loss: 0.0029 - global_gradnorm: 1.2457 - tot_time: 0h 40m 43.4s\n",
      "\n",
      "Epoch 70: val_NMSE did not improve from 0.00591\n",
      " - saving loss histories at /home/rkaushik/Documents/Thesis/MLROM/new_ks/saved_AR_AEESN_rnn/AR_ESN_ensemble_003/checkpoints/LossHistoriesCheckpoint-10_outsteps\n",
      "71/71 [==============================] - 32s 447ms/step - loss: 0.0061 - mse: 7.6323e-04 - NMSE: 0.0069 - NMSE_wt: 0.0060 - covmat_fro_loss: 0.0029 - global_gradnorm: 1.2512 - val_loss: 0.0063 - val_mse: 7.8662e-04 - val_NMSE: 0.0071 - val_NMSE_wt: 0.0062 - val_covmat_fro_loss: 0.0000e+00 - val_global_gradnorm: 0.0000e+00\n",
      "Epoch 71/200\n",
      "71/71 [==============================] - ETA: 0s - loss: 0.0057 - mse: 7.0511e-04 - NMSE: 0.0063 - NMSE_wt: 0.0055 - covmat_fro_loss: 0.0028 - global_gradnorm: 1.0831 - tot_time: 0h 41m 15.1s\n",
      "\n",
      "Epoch 71: val_NMSE did not improve from 0.00591\n",
      " - saving loss histories at /home/rkaushik/Documents/Thesis/MLROM/new_ks/saved_AR_AEESN_rnn/AR_ESN_ensemble_003/checkpoints/LossHistoriesCheckpoint-10_outsteps\n",
      "71/71 [==============================] - 32s 446ms/step - loss: 0.0057 - mse: 7.0511e-04 - NMSE: 0.0063 - NMSE_wt: 0.0055 - covmat_fro_loss: 0.0028 - global_gradnorm: 1.0810 - val_loss: 0.0058 - val_mse: 7.1971e-04 - val_NMSE: 0.0065 - val_NMSE_wt: 0.0057 - val_covmat_fro_loss: 0.0000e+00 - val_global_gradnorm: 0.0000e+00\n",
      "Epoch 72/200\n",
      "71/71 [==============================] - ETA: 0s - loss: 0.0054 - mse: 6.7083e-04 - NMSE: 0.0060 - NMSE_wt: 0.0053 - covmat_fro_loss: 0.0027 - global_gradnorm: 1.1116 - tot_time: 0h 41m 46.5s\n",
      "\n",
      "Epoch 72: val_NMSE did not improve from 0.00591\n",
      " - saving loss histories at /home/rkaushik/Documents/Thesis/MLROM/new_ks/saved_AR_AEESN_rnn/AR_ESN_ensemble_003/checkpoints/LossHistoriesCheckpoint-10_outsteps\n",
      "71/71 [==============================] - 31s 443ms/step - loss: 0.0054 - mse: 6.7083e-04 - NMSE: 0.0060 - NMSE_wt: 0.0053 - covmat_fro_loss: 0.0027 - global_gradnorm: 1.1169 - val_loss: 0.0057 - val_mse: 7.0851e-04 - val_NMSE: 0.0064 - val_NMSE_wt: 0.0056 - val_covmat_fro_loss: 0.0000e+00 - val_global_gradnorm: 0.0000e+00\n",
      "Epoch 73/200\n",
      "71/71 [==============================] - ETA: 0s - loss: 0.0058 - mse: 7.2576e-04 - NMSE: 0.0065 - NMSE_wt: 0.0057 - covmat_fro_loss: 0.0028 - global_gradnorm: 1.2155 - tot_time: 0h 42m 18.1s\n",
      "\n",
      "Epoch 73: val_NMSE did not improve from 0.00591\n",
      " - saving loss histories at /home/rkaushik/Documents/Thesis/MLROM/new_ks/saved_AR_AEESN_rnn/AR_ESN_ensemble_003/checkpoints/LossHistoriesCheckpoint-10_outsteps\n",
      "71/71 [==============================] - 32s 446ms/step - loss: 0.0058 - mse: 7.2576e-04 - NMSE: 0.0065 - NMSE_wt: 0.0057 - covmat_fro_loss: 0.0028 - global_gradnorm: 1.2138 - val_loss: 0.0056 - val_mse: 6.9501e-04 - val_NMSE: 0.0063 - val_NMSE_wt: 0.0055 - val_covmat_fro_loss: 0.0000e+00 - val_global_gradnorm: 0.0000e+00\n",
      "Epoch 74/200\n",
      "71/71 [==============================] - ETA: 0s - loss: 0.0057 - mse: 7.1419e-04 - NMSE: 0.0064 - NMSE_wt: 0.0056 - covmat_fro_loss: 0.0028 - global_gradnorm: 1.1816 - tot_time: 0h 42m 49.8s\n",
      "\n",
      "Epoch 74: val_NMSE did not improve from 0.00591\n",
      " - saving loss histories at /home/rkaushik/Documents/Thesis/MLROM/new_ks/saved_AR_AEESN_rnn/AR_ESN_ensemble_003/checkpoints/LossHistoriesCheckpoint-10_outsteps\n",
      "71/71 [==============================] - 32s 446ms/step - loss: 0.0057 - mse: 7.1419e-04 - NMSE: 0.0064 - NMSE_wt: 0.0056 - covmat_fro_loss: 0.0028 - global_gradnorm: 1.1816 - val_loss: 0.0065 - val_mse: 8.0797e-04 - val_NMSE: 0.0073 - val_NMSE_wt: 0.0063 - val_covmat_fro_loss: 0.0000e+00 - val_global_gradnorm: 0.0000e+00\n",
      "Epoch 75/200\n",
      "71/71 [==============================] - ETA: 0s - loss: 0.0065 - mse: 8.1012e-04 - NMSE: 0.0073 - NMSE_wt: 0.0064 - covmat_fro_loss: 0.0030 - global_gradnorm: 1.2322 - tot_time: 0h 43m 20.8s\n",
      "\n",
      "Epoch 75: val_NMSE did not improve from 0.00591\n",
      " - saving loss histories at /home/rkaushik/Documents/Thesis/MLROM/new_ks/saved_AR_AEESN_rnn/AR_ESN_ensemble_003/checkpoints/LossHistoriesCheckpoint-10_outsteps\n",
      "71/71 [==============================] - 31s 437ms/step - loss: 0.0065 - mse: 8.1012e-04 - NMSE: 0.0073 - NMSE_wt: 0.0064 - covmat_fro_loss: 0.0030 - global_gradnorm: 1.2304 - val_loss: 0.0077 - val_mse: 9.6676e-04 - val_NMSE: 0.0087 - val_NMSE_wt: 0.0076 - val_covmat_fro_loss: 0.0000e+00 - val_global_gradnorm: 0.0000e+00\n",
      "Epoch 76/200\n",
      "71/71 [==============================] - ETA: 0s - loss: 0.0060 - mse: 7.4518e-04 - NMSE: 0.0067 - NMSE_wt: 0.0059 - covmat_fro_loss: 0.0029 - global_gradnorm: 1.1097 - tot_time: 0h 43m 52.2s\n",
      "\n",
      "Epoch 76: val_NMSE did not improve from 0.00591\n",
      " - saving loss histories at /home/rkaushik/Documents/Thesis/MLROM/new_ks/saved_AR_AEESN_rnn/AR_ESN_ensemble_003/checkpoints/LossHistoriesCheckpoint-10_outsteps\n",
      "71/71 [==============================] - 31s 444ms/step - loss: 0.0060 - mse: 7.4518e-04 - NMSE: 0.0067 - NMSE_wt: 0.0059 - covmat_fro_loss: 0.0029 - global_gradnorm: 1.1087 - val_loss: 0.0065 - val_mse: 8.1477e-04 - val_NMSE: 0.0073 - val_NMSE_wt: 0.0064 - val_covmat_fro_loss: 0.0000e+00 - val_global_gradnorm: 0.0000e+00\n",
      "Epoch 77/200\n"
     ]
    },
    {
     "name": "stdout",
     "output_type": "stream",
     "text": [
      "71/71 [==============================] - ETA: 0s - loss: 0.0060 - mse: 7.4412e-04 - NMSE: 0.0067 - NMSE_wt: 0.0058 - covmat_fro_loss: 0.0029 - global_gradnorm: 1.1485 - tot_time: 0h 44m 23.6s\n",
      "\n",
      "Epoch 77: val_NMSE did not improve from 0.00591\n",
      " - saving loss histories at /home/rkaushik/Documents/Thesis/MLROM/new_ks/saved_AR_AEESN_rnn/AR_ESN_ensemble_003/checkpoints/LossHistoriesCheckpoint-10_outsteps\n",
      "71/71 [==============================] - 31s 443ms/step - loss: 0.0060 - mse: 7.4412e-04 - NMSE: 0.0067 - NMSE_wt: 0.0058 - covmat_fro_loss: 0.0029 - global_gradnorm: 1.1476 - val_loss: 0.0059 - val_mse: 7.3231e-04 - val_NMSE: 0.0066 - val_NMSE_wt: 0.0058 - val_covmat_fro_loss: 0.0000e+00 - val_global_gradnorm: 0.0000e+00\n",
      "Epoch 78/200\n",
      "71/71 [==============================] - ETA: 0s - loss: 0.0057 - mse: 7.1004e-04 - NMSE: 0.0064 - NMSE_wt: 0.0056 - covmat_fro_loss: 0.0028 - global_gradnorm: 1.1923 - tot_time: 0h 44m 54.9s\n",
      "\n",
      "Epoch 78: val_NMSE did not improve from 0.00591\n",
      " - saving loss histories at /home/rkaushik/Documents/Thesis/MLROM/new_ks/saved_AR_AEESN_rnn/AR_ESN_ensemble_003/checkpoints/LossHistoriesCheckpoint-10_outsteps\n",
      "71/71 [==============================] - 31s 441ms/step - loss: 0.0057 - mse: 7.1004e-04 - NMSE: 0.0064 - NMSE_wt: 0.0056 - covmat_fro_loss: 0.0028 - global_gradnorm: 1.1964 - val_loss: 0.0072 - val_mse: 9.0615e-04 - val_NMSE: 0.0082 - val_NMSE_wt: 0.0071 - val_covmat_fro_loss: 0.0000e+00 - val_global_gradnorm: 0.0000e+00\n",
      "Epoch 79/200\n",
      "71/71 [==============================] - ETA: 0s - loss: 0.0057 - mse: 7.0911e-04 - NMSE: 0.0064 - NMSE_wt: 0.0056 - covmat_fro_loss: 0.0028 - global_gradnorm: 1.1528 - tot_time: 0h 45m 26.1s\n",
      "\n",
      "Epoch 79: val_NMSE did not improve from 0.00591\n",
      " - saving loss histories at /home/rkaushik/Documents/Thesis/MLROM/new_ks/saved_AR_AEESN_rnn/AR_ESN_ensemble_003/checkpoints/LossHistoriesCheckpoint-10_outsteps\n",
      "71/71 [==============================] - 31s 440ms/step - loss: 0.0057 - mse: 7.0911e-04 - NMSE: 0.0064 - NMSE_wt: 0.0056 - covmat_fro_loss: 0.0028 - global_gradnorm: 1.1536 - val_loss: 0.0060 - val_mse: 7.4918e-04 - val_NMSE: 0.0067 - val_NMSE_wt: 0.0059 - val_covmat_fro_loss: 0.0000e+00 - val_global_gradnorm: 0.0000e+00\n",
      "Epoch 80/200\n",
      "71/71 [==============================] - ETA: 0s - loss: 0.0057 - mse: 7.0379e-04 - NMSE: 0.0063 - NMSE_wt: 0.0055 - covmat_fro_loss: 0.0028 - global_gradnorm: 1.1214 - tot_time: 0h 45m 57.6s\n",
      "\n",
      "Epoch 80: val_NMSE did not improve from 0.00591\n",
      " - saving loss histories at /home/rkaushik/Documents/Thesis/MLROM/new_ks/saved_AR_AEESN_rnn/AR_ESN_ensemble_003/checkpoints/LossHistoriesCheckpoint-10_outsteps\n",
      "71/71 [==============================] - 31s 443ms/step - loss: 0.0057 - mse: 7.0379e-04 - NMSE: 0.0063 - NMSE_wt: 0.0055 - covmat_fro_loss: 0.0028 - global_gradnorm: 1.1200 - val_loss: 0.0065 - val_mse: 8.1050e-04 - val_NMSE: 0.0073 - val_NMSE_wt: 0.0064 - val_covmat_fro_loss: 0.0000e+00 - val_global_gradnorm: 0.0000e+00\n",
      "Epoch 81/200\n",
      "71/71 [==============================] - ETA: 0s - loss: 0.0063 - mse: 7.8658e-04 - NMSE: 0.0071 - NMSE_wt: 0.0062 - covmat_fro_loss: 0.0029 - global_gradnorm: 1.2434 - tot_time: 0h 46m 29.3s\n",
      "\n",
      "Epoch 81: val_NMSE did not improve from 0.00591\n",
      " - saving loss histories at /home/rkaushik/Documents/Thesis/MLROM/new_ks/saved_AR_AEESN_rnn/AR_ESN_ensemble_003/checkpoints/LossHistoriesCheckpoint-10_outsteps\n",
      "71/71 [==============================] - 32s 447ms/step - loss: 0.0063 - mse: 7.8658e-04 - NMSE: 0.0071 - NMSE_wt: 0.0062 - covmat_fro_loss: 0.0029 - global_gradnorm: 1.2438 - val_loss: 0.0072 - val_mse: 8.9716e-04 - val_NMSE: 0.0081 - val_NMSE_wt: 0.0070 - val_covmat_fro_loss: 0.0000e+00 - val_global_gradnorm: 0.0000e+00\n",
      "Epoch 82/200\n",
      "71/71 [==============================] - ETA: 0s - loss: 0.0054 - mse: 6.7070e-04 - NMSE: 0.0060 - NMSE_wt: 0.0053 - covmat_fro_loss: 0.0027 - global_gradnorm: 1.0336 - tot_time: 0h 47m 1.1s\n",
      "\n",
      "Epoch 82: val_NMSE did not improve from 0.00591\n",
      " - saving loss histories at /home/rkaushik/Documents/Thesis/MLROM/new_ks/saved_AR_AEESN_rnn/AR_ESN_ensemble_003/checkpoints/LossHistoriesCheckpoint-10_outsteps\n",
      "71/71 [==============================] - 32s 448ms/step - loss: 0.0054 - mse: 6.7070e-04 - NMSE: 0.0060 - NMSE_wt: 0.0053 - covmat_fro_loss: 0.0027 - global_gradnorm: 1.0358 - val_loss: 0.0064 - val_mse: 7.9888e-04 - val_NMSE: 0.0072 - val_NMSE_wt: 0.0063 - val_covmat_fro_loss: 0.0000e+00 - val_global_gradnorm: 0.0000e+00\n",
      "Epoch 83/200\n",
      "71/71 [==============================] - ETA: 0s - loss: 0.0060 - mse: 7.4361e-04 - NMSE: 0.0067 - NMSE_wt: 0.0058 - covmat_fro_loss: 0.0028 - global_gradnorm: 1.1719 - tot_time: 0h 47m 32.7s\n",
      "\n",
      "Epoch 83: val_NMSE did not improve from 0.00591\n",
      " - saving loss histories at /home/rkaushik/Documents/Thesis/MLROM/new_ks/saved_AR_AEESN_rnn/AR_ESN_ensemble_003/checkpoints/LossHistoriesCheckpoint-10_outsteps\n",
      "71/71 [==============================] - 32s 446ms/step - loss: 0.0060 - mse: 7.4361e-04 - NMSE: 0.0067 - NMSE_wt: 0.0058 - covmat_fro_loss: 0.0029 - global_gradnorm: 1.1734 - val_loss: 0.0067 - val_mse: 8.3582e-04 - val_NMSE: 0.0075 - val_NMSE_wt: 0.0066 - val_covmat_fro_loss: 0.0000e+00 - val_global_gradnorm: 0.0000e+00\n",
      "Epoch 84/200\n",
      "71/71 [==============================] - ETA: 0s - loss: 0.0064 - mse: 7.9839e-04 - NMSE: 0.0072 - NMSE_wt: 0.0063 - covmat_fro_loss: 0.0030 - global_gradnorm: 1.2041Restoring model weights from the end of the best epoch: 64.\n",
      " - tot_time: 0h 48m 4.4s\n",
      "\n",
      "Epoch 84: val_NMSE did not improve from 0.00591\n",
      " - saving loss histories at /home/rkaushik/Documents/Thesis/MLROM/new_ks/saved_AR_AEESN_rnn/AR_ESN_ensemble_003/checkpoints/LossHistoriesCheckpoint-10_outsteps\n",
      "71/71 [==============================] - 32s 447ms/step - loss: 0.0064 - mse: 7.9839e-04 - NMSE: 0.0072 - NMSE_wt: 0.0063 - covmat_fro_loss: 0.0030 - global_gradnorm: 1.2025 - val_loss: 0.0064 - val_mse: 7.9667e-04 - val_NMSE: 0.0072 - val_NMSE_wt: 0.0063 - val_covmat_fro_loss: 0.0000e+00 - val_global_gradnorm: 0.0000e+00\n",
      "Epoch 84: early stopping\n"
     ]
    },
    {
     "data": {
      "image/png": "[encoded data removed]",
      "text/plain": [
       "<Figure size 640x480 with 1 Axes>"
      ]
     },
     "metadata": {},
     "output_type": "display_data"
    },
    {
     "data": {
      "text/plain": [
       "<Figure size 640x480 with 0 Axes>"
      ]
     },
     "metadata": {},
     "output_type": "display_data"
    },
    {
     "data": {
      "image/png": "[encoded data removed]",
      "text/plain": [
       "<Figure size 640x480 with 1 Axes>"
      ]
     },
     "metadata": {},
     "output_type": "display_data"
    },
    {
     "data": {
      "text/plain": [
       "<Figure size 640x480 with 0 Axes>"
      ]
     },
     "metadata": {},
     "output_type": "display_data"
    },
    {
     "data": {
      "image/png": "[encoded data removed]",
      "text/plain": [
       "<Figure size 640x480 with 1 Axes>"
      ]
     },
     "metadata": {},
     "output_type": "display_data"
    },
    {
     "data": {
      "text/plain": [
       "<Figure size 640x480 with 0 Axes>"
      ]
     },
     "metadata": {},
     "output_type": "display_data"
    },
    {
     "data": {
      "image/png": "[encoded data removed]",
      "text/plain": [
       "<Figure size 640x480 with 1 Axes>"
      ]
     },
     "metadata": {},
     "output_type": "display_data"
    },
    {
     "data": {
      "text/plain": [
       "<Figure size 640x480 with 0 Axes>"
      ]
     },
     "metadata": {},
     "output_type": "display_data"
    },
    {
     "data": {
      "image/png": "[encoded data removed]",
      "text/plain": [
       "<Figure size 640x480 with 1 Axes>"
      ]
     },
     "metadata": {},
     "output_type": "display_data"
    },
    {
     "name": "stdout",
     "output_type": "stream",
     "text": [
      "\n",
      "\n",
      "********************************************************************************\n",
      ">>>>>>>>>>>>>>>>>>>>>>>>>>>>>> num_outsteps : 30 <<<<<<<<<<<<<<<<<<<<<<<<<<<<<<<\n",
      "********************************************************************************\n",
      "\n",
      "\n",
      "clipnorm : None, global_clipnorm : 3.6\n",
      "WARNING:tensorflow:`period` argument is deprecated. Please use `save_freq` to specify the frequency in number of batches seen.\n",
      "\n",
      "\n",
      "--------------------------------------------------------------------------------\n",
      "\n",
      "---------------------------- LEARNING RATE : 1e-05 -----------------------------\n",
      "\n",
      "--------------------------------------------------------------------------------\n",
      "\n",
      "\n",
      "Epoch 1/200\n",
      "58/58 [==============================] - ETA: 0s - loss: 0.0215 - mse: 0.0037 - NMSE: 0.0333 - NMSE_wt: 0.0214 - covmat_fro_loss: 0.0117 - global_gradnorm: 2.5049 - tot_time: 0h 4m 33.8s\n",
      "\n",
      "Epoch 1: val_NMSE improved from inf to 0.03069, saving model to /home/rkaushik/Documents/Thesis/MLROM/new_ks/saved_AR_AEESN_rnn/AR_ESN_ensemble_003/checkpoints/checkpoint-30_outsteps\n",
      " - saving loss histories at /home/rkaushik/Documents/Thesis/MLROM/new_ks/saved_AR_AEESN_rnn/AR_ESN_ensemble_003/checkpoints/LossHistoriesCheckpoint-30_outsteps\n",
      "58/58 [==============================] - 274s 1s/step - loss: 0.0215 - mse: 0.0037 - NMSE: 0.0333 - NMSE_wt: 0.0214 - covmat_fro_loss: 0.0116 - global_gradnorm: 2.5014 - val_loss: 0.0199 - val_mse: 0.0034 - val_NMSE: 0.0307 - val_NMSE_wt: 0.0198 - val_covmat_fro_loss: 0.0000e+00 - val_global_gradnorm: 0.0000e+00\n",
      "Epoch 2/200\n",
      "58/58 [==============================] - ETA: 0s - loss: 0.0195 - mse: 0.0033 - NMSE: 0.0301 - NMSE_wt: 0.0194 - covmat_fro_loss: 0.0110 - global_gradnorm: 2.5305 - tot_time: 0h 5m 18.6s\n",
      "\n",
      "Epoch 2: val_NMSE improved from 0.03069 to 0.02980, saving model to /home/rkaushik/Documents/Thesis/MLROM/new_ks/saved_AR_AEESN_rnn/AR_ESN_ensemble_003/checkpoints/checkpoint-30_outsteps\n",
      " - saving loss histories at /home/rkaushik/Documents/Thesis/MLROM/new_ks/saved_AR_AEESN_rnn/AR_ESN_ensemble_003/checkpoints/LossHistoriesCheckpoint-30_outsteps\n",
      "58/58 [==============================] - 45s 773ms/step - loss: 0.0195 - mse: 0.0033 - NMSE: 0.0301 - NMSE_wt: 0.0194 - covmat_fro_loss: 0.0110 - global_gradnorm: 2.5449 - val_loss: 0.0194 - val_mse: 0.0033 - val_NMSE: 0.0298 - val_NMSE_wt: 0.0192 - val_covmat_fro_loss: 0.0000e+00 - val_global_gradnorm: 0.0000e+00\n",
      "Epoch 3/200\n",
      "58/58 [==============================] - ETA: 0s - loss: 0.0182 - mse: 0.0031 - NMSE: 0.0281 - NMSE_wt: 0.0181 - covmat_fro_loss: 0.0107 - global_gradnorm: 2.3204 - tot_time: 0h 6m 3.5s\n",
      "\n",
      "Epoch 3: val_NMSE did not improve from 0.02980\n",
      " - saving loss histories at /home/rkaushik/Documents/Thesis/MLROM/new_ks/saved_AR_AEESN_rnn/AR_ESN_ensemble_003/checkpoints/LossHistoriesCheckpoint-30_outsteps\n",
      "58/58 [==============================] - 45s 771ms/step - loss: 0.0182 - mse: 0.0031 - NMSE: 0.0281 - NMSE_wt: 0.0181 - covmat_fro_loss: 0.0107 - global_gradnorm: 2.3118 - val_loss: 0.0194 - val_mse: 0.0033 - val_NMSE: 0.0300 - val_NMSE_wt: 0.0193 - val_covmat_fro_loss: 0.0000e+00 - val_global_gradnorm: 0.0000e+00\n",
      "Epoch 4/200\n",
      "58/58 [==============================] - ETA: 0s - loss: 0.0180 - mse: 0.0031 - NMSE: 0.0278 - NMSE_wt: 0.0179 - covmat_fro_loss: 0.0106 - global_gradnorm: 2.2117 - tot_time: 0h 6m 48.5s\n",
      "\n",
      "Epoch 4: val_NMSE improved from 0.02980 to 0.02979, saving model to /home/rkaushik/Documents/Thesis/MLROM/new_ks/saved_AR_AEESN_rnn/AR_ESN_ensemble_003/checkpoints/checkpoint-30_outsteps\n",
      " - saving loss histories at /home/rkaushik/Documents/Thesis/MLROM/new_ks/saved_AR_AEESN_rnn/AR_ESN_ensemble_003/checkpoints/LossHistoriesCheckpoint-30_outsteps\n",
      "58/58 [==============================] - 45s 779ms/step - loss: 0.0180 - mse: 0.0031 - NMSE: 0.0278 - NMSE_wt: 0.0179 - covmat_fro_loss: 0.0106 - global_gradnorm: 2.2130 - val_loss: 0.0194 - val_mse: 0.0033 - val_NMSE: 0.0298 - val_NMSE_wt: 0.0192 - val_covmat_fro_loss: 0.0000e+00 - val_global_gradnorm: 0.0000e+00\n",
      "Epoch 5/200\n",
      "28/58 [=============>................] - ETA: 21s - loss: 0.0180 - mse: 0.0031 - NMSE: 0.0277 - NMSE_wt: 0.0178 - covmat_fro_loss: 0.0106 - global_gradnorm: 2.2800"
     ]
    }
   ],
   "source": [
    "global_clipnorm = None\n",
    "for kk in range(len(T_sample_output)):\n",
    "\n",
    "    num_outsteps = int((T_sample_output[kk] + 0.5*dt_rnn)//dt_rnn)\n",
    "    if type(freeze_layers) == type(None):\n",
    "        freeze_layers_thisoutstep = []\n",
    "    else:\n",
    "        if kk > len(freeze_layers) - 1:\n",
    "            freeze_layers_thisoutstep = freeze_layers[-1]\n",
    "        else:\n",
    "            freeze_layers_thisoutstep = freeze_layers[kk]\n",
    "        \n",
    "        if type(freeze_layers_thisoutstep) == type(None):\n",
    "            freeze_layers_thisoutstep = []\n",
    "\n",
    "    total_s_len = 80\n",
    "    sep_lr_s = ' num_outsteps : {} '.format(num_outsteps)\n",
    "    sep_lr_s = int((total_s_len - len(sep_lr_s))//2)*'>' + sep_lr_s\n",
    "    sep_lr_s = sep_lr_s + (total_s_len-len(sep_lr_s))*'<'\n",
    "    print('\\n\\n' + '*'*len(sep_lr_s))\n",
    "    print('' + sep_lr_s+'')\n",
    "    print('*'*len(sep_lr_s) + '\\n\\n')\n",
    "\n",
    "    if behaviour == 'loadCheckpointAndContinueTraining':\n",
    "        if kk < len(T_sample_output) - 1:\n",
    "            temp = int((T_sample_output[kk+1] + 0.5*dt_rnn)//dt_rnn)\n",
    "        else:\n",
    "            temp = num_outsteps\n",
    "        checkfile1 = dir_name_ARrnn+'/final_net/final_net-{}_outsteps_rnn_weights.hdf5'.format(temp)\n",
    "        checkfile2 = dir_name_ARrnn+'/final_net/final_net-{}_outsteps_ae_weights.h5'.format(temp)\n",
    "        check1 = os.path.exists(checkfile1)\n",
    "        check2 = os.path.exists(checkfile2)\n",
    "        if check1 and check2:\n",
    "            # move on to checking the next time-step\n",
    "            continue\n",
    "        else:\n",
    "            pass\n",
    "    \n",
    "    print('clipnorm : {}, global_clipnorm : {}'.format(clipnorm, global_clipnorm))\n",
    "    \n",
    "    trainAERNN(\n",
    "        create_data_for_RNN,\n",
    "        Autoencoder,\n",
    "        AR_RNN,\n",
    "        all_data,\n",
    "        AR_AERNN,\n",
    "        dt_rnn=dt_rnn,\n",
    "        T_sample_input=T_sample_input,\n",
    "        T_sample_output=T_sample_output[kk],\n",
    "        T_offset=T_offset,\n",
    "        boundary_idx_arr=boundary_idx_arr,\n",
    "        delta_t=delta_t,\n",
    "        params=params,\n",
    "        normalize_dataset=normalize_dataset,\n",
    "        stddev_multiplier=stddev_multiplier,\n",
    "        skip_intermediate=skip_intermediate,\n",
    "        normalization_type=normalization_type,\n",
    "        normalization_constant_arr_aedata=normalization_constant_arr_aedata,\n",
    "        normalization_constant_arr_rnndata=normalization_arr_rnn,\n",
    "        learning_rate_list=learning_rate_list[kk],\n",
    "        epochs=epochs[kk],\n",
    "        patience=patience[kk],\n",
    "        loss_weights=loss_weights,\n",
    "        min_delta=min_delta,\n",
    "        lambda_reg=lambda_reg,\n",
    "        stddev_rnn=stddev,\n",
    "        stateful=False,\n",
    "        behaviour=behaviour,\n",
    "        strategy=strategy,\n",
    "        dir_name_rnn=dir_name_rnn,\n",
    "        dir_name_AR_AErnn=dir_name_ARrnn,\n",
    "        batch_size=batch_size,\n",
    "        load_file_rnn=load_file_rnn,\n",
    "        wt_file_rnn=wt_file_rnn,\n",
    "        load_file_ae=load_file_ae,\n",
    "        wt_file_ae=wt_file_ae,\n",
    "        covmat_lmda=covmat_lmda,\n",
    "        readAndReturnLossHistories=readAndReturnLossHistories,\n",
    "        mytimecallback=mytimecallback,\n",
    "        plot_losses=plot_losses,\n",
    "        SaveLosses=SaveLosses,\n",
    "        train_split=train_split,\n",
    "        test_split=test_split,\n",
    "        val_split=val_split,\n",
    "        freeze_layers=freeze_layers_thisoutstep,\n",
    "        clipnorm=clipnorm,\n",
    "        global_clipnorm=global_clipnorm,\n",
    "        ESN_flag=True,\n",
    "        rnn_kwargs=rnn_kwargs,\n",
    "    )\n",
    "    \n",
    "    \n",
    "    load_dir = dir_name_ARrnn+'/final_net/{}_outsteps'.format(num_outsteps)\n",
    "    load_file_rnn, wt_file_rnn = find_and_return_load_wt_file_lists(\n",
    "        load_dir,\n",
    "        wt_matcher='ESN_weights.hdf5',\n",
    "        classdict_matcher='ESN_class_dict.txt'\n",
    "    )\n",
    "    \n",
    "    load_file_ae = load_dir + '/final_net-{}_outsteps_ae_class_dict.txt'.format(num_outsteps)\n",
    "    wt_file_ae = load_dir + '/final_net-{}_outsteps_ae_weights.h5'.format(num_outsteps)\n",
    "    \n",
    "    with open(load_dir+'/losses-{}_outsteps.txt'.format(num_outsteps), 'r') as fl:\n",
    "        lines = fl.readlines()\n",
    "\n",
    "    loss_dict = eval(''.join(lines))\n",
    "    train_global_gradnorm_hist = loss_dict['train_global_gradnorm_hist']\n",
    "    # lr_change = loss_dict['lr_change']\n",
    "    # trained_epochs = len(train_global_gradnorm_hist)\n",
    "    # if lr_change[-1] - lr_change[-2] == epochs[kk][-1]:\n",
    "    #     global_clipnorm = train_global_gradnorm_hist[-1]\n",
    "    # else:\n",
    "    #     global_clipnorm = train_global_gradnorm_hist[-patience[kk][-1]]\n",
    "\n",
    "    # alpha1 = 0.9\n",
    "    # alpha2 = 0.1\n",
    "    # global_clipnorm = train_global_gradnorm_hist[0]\n",
    "    # for i in range(1, len(train_global_gradnorm_hist)):\n",
    "    #     global_clipnorm = alpha1*global_clipnorm + alpha2*train_global_gradnorm_hist[i]\n",
    "\n",
    "    idxs_to_ignore = 0\n",
    "    global_clipnorm = np.max(train_global_gradnorm_hist[idxs_to_ignore:])\n",
    "    global_clipnorm = 0.1 * np.round(10*global_clipnorm)"
   ]
  },
  {
   "cell_type": "code",
   "execution_count": null,
   "metadata": {},
   "outputs": [],
   "source": []
  },
  {
   "cell_type": "code",
   "execution_count": null,
   "metadata": {},
   "outputs": [],
   "source": [
    "### Training the combined AE-RNN\n"
   ]
  },
  {
   "cell_type": "code",
   "execution_count": null,
   "metadata": {},
   "outputs": [],
   "source": []
  },
  {
   "cell_type": "code",
   "execution_count": null,
   "metadata": {},
   "outputs": [],
   "source": []
  },
  {
   "cell_type": "code",
   "execution_count": null,
   "metadata": {
    "scrolled": false
   },
   "outputs": [],
   "source": []
  },
  {
   "cell_type": "code",
   "execution_count": null,
   "metadata": {
    "executionInfo": {
     "elapsed": 4,
     "status": "ok",
     "timestamp": 1667868783568,
     "user": {
      "displayName": "Rohan Kaushik",
      "userId": "13918477614376051685"
     },
     "user_tz": -60
    },
    "id": "7ASCopnIH6nl"
   },
   "outputs": [],
   "source": []
  },
  {
   "cell_type": "code",
   "execution_count": null,
   "metadata": {
    "colab": {
     "base_uri": "https://localhost:8080/"
    },
    "executionInfo": {
     "elapsed": 4769220,
     "status": "ok",
     "timestamp": 1667873552785,
     "user": {
      "displayName": "Rohan Kaushik",
      "userId": "13918477614376051685"
     },
     "user_tz": -60
    },
    "id": "6hh1pbKjCcO4",
    "outputId": "e594f4de-ec70-465e-eef7-bdef301361fa",
    "scrolled": true
   },
   "outputs": [],
   "source": []
  },
  {
   "cell_type": "code",
   "execution_count": null,
   "metadata": {
    "colab": {
     "base_uri": "https://localhost:8080/"
    },
    "executionInfo": {
     "elapsed": 10543,
     "status": "ok",
     "timestamp": 1667873563321,
     "user": {
      "displayName": "Rohan Kaushik",
      "userId": "13918477614376051685"
     },
     "user_tz": -60
    },
    "id": "SO7iK4mbneQm",
    "outputId": "48110900-962a-49c1-c532-718999590884"
   },
   "outputs": [],
   "source": []
  },
  {
   "cell_type": "code",
   "execution_count": null,
   "metadata": {
    "colab": {
     "base_uri": "https://localhost:8080/",
     "height": 279
    },
    "executionInfo": {
     "elapsed": 1226,
     "status": "ok",
     "timestamp": 1667873564544,
     "user": {
      "displayName": "Rohan Kaushik",
      "userId": "13918477614376051685"
     },
     "user_tz": -60
    },
    "id": "nDv5D8APneQm",
    "outputId": "ee911dc8-4d36-48af-8ad0-07cef0dbaf81"
   },
   "outputs": [],
   "source": []
  },
  {
   "cell_type": "code",
   "execution_count": null,
   "metadata": {
    "colab": {
     "base_uri": "https://localhost:8080/",
     "height": 433
    },
    "executionInfo": {
     "elapsed": 11096,
     "status": "ok",
     "timestamp": 1667873575637,
     "user": {
      "displayName": "Rohan Kaushik",
      "userId": "13918477614376051685"
     },
     "user_tz": -60
    },
    "id": "dbLa0AwlDBWh",
    "outputId": "d3f93f58-9ce7-4994-8d68-29520477e02d"
   },
   "outputs": [],
   "source": []
  },
  {
   "cell_type": "code",
   "execution_count": null,
   "metadata": {
    "colab": {
     "base_uri": "https://localhost:8080/"
    },
    "executionInfo": {
     "elapsed": 8,
     "status": "ok",
     "timestamp": 1667873575638,
     "user": {
      "displayName": "Rohan Kaushik",
      "userId": "13918477614376051685"
     },
     "user_tz": -60
    },
    "id": "MDopQ4JMhRPV",
    "outputId": "f6480bb7-5837-4a80-9333-f9acd175b27a"
   },
   "outputs": [],
   "source": []
  },
  {
   "cell_type": "code",
   "execution_count": null,
   "metadata": {
    "executionInfo": {
     "elapsed": 9,
     "status": "ok",
     "timestamp": 1667873576097,
     "user": {
      "displayName": "Rohan Kaushik",
      "userId": "13918477614376051685"
     },
     "user_tz": -60
    },
    "id": "2_fAlJz2Vdev"
   },
   "outputs": [],
   "source": []
  },
  {
   "cell_type": "code",
   "execution_count": null,
   "metadata": {
    "executionInfo": {
     "elapsed": 9,
     "status": "ok",
     "timestamp": 1667873576098,
     "user": {
      "displayName": "Rohan Kaushik",
      "userId": "13918477614376051685"
     },
     "user_tz": -60
    },
    "id": "s5BNteRC7COC",
    "scrolled": false
   },
   "outputs": [],
   "source": []
  },
  {
   "cell_type": "markdown",
   "metadata": {},
   "source": [
    "# "
   ]
  }
 ],
 "metadata": {
  "accelerator": "GPU",
  "colab": {
   "collapsed_sections": [],
   "provenance": []
  },
  "gpuClass": "standard",
  "kernelspec": {
   "display_name": "Python 3 (ipykernel)",
   "language": "python",
   "name": "python3"
  },
  "language_info": {
   "codemirror_mode": {
    "name": "ipython",
    "version": 3
   },
   "file_extension": ".py",
   "mimetype": "text/x-python",
   "name": "python",
   "nbconvert_exporter": "python",
   "pygments_lexer": "ipython3",
   "version": "3.10.6"
  }
 },
 "nbformat": 4,
 "nbformat_minor": 1
}
