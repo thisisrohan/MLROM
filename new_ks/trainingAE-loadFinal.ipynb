{
 "cells": [
  {
   "cell_type": "code",
   "execution_count": 1,
   "metadata": {
    "executionInfo": {
     "elapsed": 5,
     "status": "ok",
     "timestamp": 1666788634667,
     "user": {
      "displayName": "Rohan Kaushik",
      "userId": "13918477614376051685"
     },
     "user_tz": -120
    },
    "id": "4xhxMpe_r-Y5"
   },
   "outputs": [],
   "source": [
    "# enabling 3rd party widgets\n",
    "# from google.colab import output\n",
    "# output.enable_custom_widget_manager()\n",
    "# output.disable_custom_widget_manager()\n",
    "\n",
    "# interactive 3D plot\n",
    "# !pip install ipympl\n",
    "# %matplotlib widget"
   ]
  },
  {
   "cell_type": "code",
   "execution_count": 2,
   "metadata": {
    "executionInfo": {
     "elapsed": 3089,
     "status": "ok",
     "timestamp": 1666788637752,
     "user": {
      "displayName": "Rohan Kaushik",
      "userId": "13918477614376051685"
     },
     "user_tz": -120
    },
    "id": "a5qPupCDsjSz"
   },
   "outputs": [],
   "source": [
    "import os\n",
    "import math\n",
    "from collections import OrderedDict\n",
    "import numpy as np\n",
    "import matplotlib.pyplot as plt\n",
    "from scipy import linalg\n",
    "\n",
    "import time as time\n",
    "import platform as platform\n",
    "\n",
    "import tensorflow as tf\n",
    "from tensorflow.keras import layers, losses\n",
    "from tensorflow.keras.models import Model\n",
    "from tensorflow.keras import backend as K\n",
    "from tensorflow.keras.regularizers import L2\n",
    "import h5py\n",
    "\n",
    "tf.keras.backend.set_floatx('float32')\n",
    "plt.rcParams.update({\"text.usetex\":True}) # enable tex rendering in matplotlib"
   ]
  },
  {
   "cell_type": "code",
   "execution_count": 3,
   "metadata": {
    "executionInfo": {
     "elapsed": 8,
     "status": "ok",
     "timestamp": 1666788637752,
     "user": {
      "displayName": "Rohan Kaushik",
      "userId": "13918477614376051685"
     },
     "user_tz": -120
    },
    "id": "3AVrZNGlZu4Z"
   },
   "outputs": [],
   "source": [
    "colab_flag = False\n",
    "\n",
    "FTYPE = np.float32\n",
    "ITYPE = np.int32\n",
    "\n",
    "strategy = None\n",
    "# strategy = tf.distribute.MirroredStrategy()"
   ]
  },
  {
   "cell_type": "code",
   "execution_count": 4,
   "metadata": {
    "executionInfo": {
     "elapsed": 7,
     "status": "ok",
     "timestamp": 1666788637753,
     "user": {
      "displayName": "Rohan Kaushik",
      "userId": "13918477614376051685"
     },
     "user_tz": -120
    },
    "id": "SxAd7iDL0Ami"
   },
   "outputs": [],
   "source": [
    "current_sys = platform.system()\n",
    "\n",
    "if current_sys == 'Windows':\n",
    "    dir_sep = '\\\\'\n",
    "else:\n",
    "    dir_sep = '/'"
   ]
  },
  {
   "cell_type": "code",
   "execution_count": 5,
   "metadata": {
    "colab": {
     "base_uri": "https://localhost:8080/"
    },
    "executionInfo": {
     "elapsed": 27766,
     "status": "ok",
     "timestamp": 1666788665512,
     "user": {
      "displayName": "Rohan Kaushik",
      "userId": "13918477614376051685"
     },
     "user_tz": -120
    },
    "id": "JjNnPRuk0IIX",
    "outputId": "f93a8628-71fe-4d6d-b3b6-245dfcb8eb60"
   },
   "outputs": [],
   "source": [
    "if colab_flag == True:\n",
    "    from google.colab import drive\n",
    "    drive.mount('/content/drive')\n",
    "    os.chdir('/content/drive/MyDrive/Github/MLROM/KS/')"
   ]
  },
  {
   "cell_type": "code",
   "execution_count": 6,
   "metadata": {
    "colab": {
     "base_uri": "https://localhost:8080/"
    },
    "executionInfo": {
     "elapsed": 5,
     "status": "ok",
     "timestamp": 1666788665512,
     "user": {
      "displayName": "Rohan Kaushik",
      "userId": "13918477614376051685"
     },
     "user_tz": -120
    },
    "id": "9REiGIIy0IzV",
    "outputId": "2b5b0b02-2f67-4635-a00c-82084a8d2ffb"
   },
   "outputs": [
    {
     "name": "stdout",
     "output_type": "stream",
     "text": [
      "/home/rkaushik/Documents/Thesis/MLROM/new_ks\n"
     ]
    }
   ],
   "source": [
    "print(os.getcwd())"
   ]
  },
  {
   "cell_type": "code",
   "execution_count": 7,
   "metadata": {
    "executionInfo": {
     "elapsed": 1381,
     "status": "ok",
     "timestamp": 1666788666890,
     "user": {
      "displayName": "Rohan Kaushik",
      "userId": "13918477614376051685"
     },
     "user_tz": -120
    },
    "id": "8S1AHEkl48bn"
   },
   "outputs": [],
   "source": [
    "from tools.misc_tools import mytimecallback, SaveLosses, plot_losses, readAndReturnLossHistories, plot_reconstructed_data_KS, plot_latent_states_KS\n",
    "from tools.ae_v1 import Autoencoder"
   ]
  },
  {
   "cell_type": "code",
   "execution_count": 8,
   "metadata": {
    "executionInfo": {
     "elapsed": 7,
     "status": "ok",
     "timestamp": 1666788666891,
     "user": {
      "displayName": "Rohan Kaushik",
      "userId": "13918477614376051685"
     },
     "user_tz": -120
    },
    "id": "-mIQj_v4gzMh"
   },
   "outputs": [],
   "source": [
    "behaviour = 'initialiseAndTrainFromScratch'\n",
    "# behaviour = 'loadCheckpointAndContinueTraining'\n",
    "# behaviour = 'loadFinalNetAndPlot'"
   ]
  },
  {
   "cell_type": "code",
   "execution_count": 9,
   "metadata": {
    "executionInfo": {
     "elapsed": 8,
     "status": "ok",
     "timestamp": 1666788666892,
     "user": {
      "displayName": "Rohan Kaushik",
      "userId": "13918477614376051685"
     },
     "user_tz": -120
    },
    "id": "QL5n-abCg0nI"
   },
   "outputs": [],
   "source": [
    "# setting seed for PRNGs\n",
    "if behaviour == 'initialiseAndTrainFromScratch':\n",
    "    prng_seed = 42\n",
    "    np.random.seed(prng_seed)\n",
    "    tf.random.set_seed(prng_seed)"
   ]
  },
  {
   "cell_type": "code",
   "execution_count": 10,
   "metadata": {
    "colab": {
     "base_uri": "https://localhost:8080/",
     "height": 35
    },
    "executionInfo": {
     "elapsed": 7,
     "status": "ok",
     "timestamp": 1666788666892,
     "user": {
      "displayName": "Rohan Kaushik",
      "userId": "13918477614376051685"
     },
     "user_tz": -120
    },
    "id": "tc3zO9xL_tNl",
    "outputId": "f77bf689-c865-4a8d-8d40-37ec9c75f1ee"
   },
   "outputs": [
    {
     "name": "stdout",
     "output_type": "stream",
     "text": [
      "[PhysicalDevice(name='/physical_device:GPU:0', device_type='GPU'), PhysicalDevice(name='/physical_device:GPU:1', device_type='GPU')]\n",
      "[LogicalDevice(name='/device:GPU:0', device_type='GPU')]\n"
     ]
    },
    {
     "name": "stderr",
     "output_type": "stream",
     "text": [
      "2023-05-26 17:14:32.405242: I tensorflow/stream_executor/cuda/cuda_gpu_executor.cc:936] successful NUMA node read from SysFS had negative value (-1), but there must be at least one NUMA node, so returning NUMA node zero\n",
      "2023-05-26 17:14:32.405524: I tensorflow/stream_executor/cuda/cuda_gpu_executor.cc:936] successful NUMA node read from SysFS had negative value (-1), but there must be at least one NUMA node, so returning NUMA node zero\n",
      "2023-05-26 17:14:32.480858: I tensorflow/stream_executor/cuda/cuda_gpu_executor.cc:936] successful NUMA node read from SysFS had negative value (-1), but there must be at least one NUMA node, so returning NUMA node zero\n",
      "2023-05-26 17:14:32.481171: I tensorflow/stream_executor/cuda/cuda_gpu_executor.cc:936] successful NUMA node read from SysFS had negative value (-1), but there must be at least one NUMA node, so returning NUMA node zero\n",
      "2023-05-26 17:14:32.481396: I tensorflow/stream_executor/cuda/cuda_gpu_executor.cc:936] successful NUMA node read from SysFS had negative value (-1), but there must be at least one NUMA node, so returning NUMA node zero\n",
      "2023-05-26 17:14:32.481670: I tensorflow/stream_executor/cuda/cuda_gpu_executor.cc:936] successful NUMA node read from SysFS had negative value (-1), but there must be at least one NUMA node, so returning NUMA node zero\n",
      "2023-05-26 17:14:32.483235: I tensorflow/core/platform/cpu_feature_guard.cc:151] This TensorFlow binary is optimized with oneAPI Deep Neural Network Library (oneDNN) to use the following CPU instructions in performance-critical operations:  SSE4.1 SSE4.2 AVX AVX2 FMA\n",
      "To enable them in other operations, rebuild TensorFlow with the appropriate compiler flags.\n",
      "2023-05-26 17:14:32.483991: I tensorflow/stream_executor/cuda/cuda_gpu_executor.cc:936] successful NUMA node read from SysFS had negative value (-1), but there must be at least one NUMA node, so returning NUMA node zero\n",
      "2023-05-26 17:14:32.484332: I tensorflow/stream_executor/cuda/cuda_gpu_executor.cc:936] successful NUMA node read from SysFS had negative value (-1), but there must be at least one NUMA node, so returning NUMA node zero\n",
      "2023-05-26 17:14:32.484647: I tensorflow/stream_executor/cuda/cuda_gpu_executor.cc:936] successful NUMA node read from SysFS had negative value (-1), but there must be at least one NUMA node, so returning NUMA node zero\n",
      "2023-05-26 17:14:33.132299: I tensorflow/stream_executor/cuda/cuda_gpu_executor.cc:936] successful NUMA node read from SysFS had negative value (-1), but there must be at least one NUMA node, so returning NUMA node zero\n",
      "2023-05-26 17:14:33.132595: I tensorflow/stream_executor/cuda/cuda_gpu_executor.cc:936] successful NUMA node read from SysFS had negative value (-1), but there must be at least one NUMA node, so returning NUMA node zero\n",
      "2023-05-26 17:14:33.132873: I tensorflow/stream_executor/cuda/cuda_gpu_executor.cc:936] successful NUMA node read from SysFS had negative value (-1), but there must be at least one NUMA node, so returning NUMA node zero\n",
      "2023-05-26 17:14:33.133098: I tensorflow/core/common_runtime/gpu/gpu_device.cc:1525] Created device /job:localhost/replica:0/task:0/device:GPU:0 with 3355 MB memory:  -> device: 0, name: Quadro K2200, pci bus id: 0000:02:00.0, compute capability: 5.0\n"
     ]
    }
   ],
   "source": [
    "gpus = tf.config.list_physical_devices('GPU')\n",
    "print(gpus)\n",
    "\n",
    "if colab_flag == False:\n",
    "    if strategy is None:\n",
    "        if gpus:\n",
    "            gpu_to_use = 0\n",
    "            tf.config.set_visible_devices(gpus[gpu_to_use], 'GPU')\n",
    "    logical_devices = tf.config.list_logical_devices('GPU')\n",
    "    print(logical_devices)"
   ]
  },
  {
   "cell_type": "code",
   "execution_count": 11,
   "metadata": {},
   "outputs": [
    {
     "name": "stdout",
     "output_type": "stream",
     "text": [
      "[PhysicalDevice(name='/physical_device:CPU:0', device_type='CPU'), PhysicalDevice(name='/physical_device:GPU:0', device_type='GPU'), PhysicalDevice(name='/physical_device:GPU:1', device_type='GPU')]\n",
      "[LogicalDevice(name='/device:CPU:0', device_type='CPU'), LogicalDevice(name='/device:GPU:0', device_type='GPU')]\n",
      "2.8.1\n"
     ]
    }
   ],
   "source": [
    "# print(tf.test.gpu_device_name())\n",
    "print(tf.config.list_physical_devices())\n",
    "print(tf.config.list_logical_devices())\n",
    "print(tf.__version__)"
   ]
  },
  {
   "cell_type": "markdown",
   "metadata": {
    "id": "7UbdnOtc4_z9"
   },
   "source": [
    "# KS System"
   ]
  },
  {
   "cell_type": "code",
   "execution_count": 12,
   "metadata": {
    "colab": {
     "base_uri": "https://localhost:8080/"
    },
    "executionInfo": {
     "elapsed": 2030,
     "status": "ok",
     "timestamp": 1666788668916,
     "user": {
      "displayName": "Rohan Kaushik",
      "userId": "13918477614376051685"
     },
     "user_tz": -120
    },
    "id": "xcNgt4hqg6Xv",
    "outputId": "7735ac54-495c-493f-869b-7d15538ee30c"
   },
   "outputs": [
    {
     "name": "stdout",
     "output_type": "stream",
     "text": [
      "dir_name_ae: /home/rkaushik/Documents/Thesis/MLROM/new_ks/saved_ae/ae_011\n",
      "normalize_flag_ogdata: False\n"
     ]
    }
   ],
   "source": [
    "# setting up params (and saving, if applicable)\n",
    "from numpy import *\n",
    "\n",
    "if behaviour == 'initialiseAndTrainFromScratch':\n",
    "    # loading data directory\n",
    "    data_dir_idx = '000'\n",
    "\n",
    "    # making ae save directory\n",
    "    dir_name_ae = os.getcwd() + dir_sep + 'saved_ae'\n",
    "    if not os.path.isdir(dir_name_ae):\n",
    "        os.makedirs(dir_name_ae)\n",
    "\n",
    "    counter = 0\n",
    "    while True:\n",
    "        dir_check = 'ae_' + str(counter).zfill(3)\n",
    "        if os.path.isdir(dir_name_ae + dir_sep + dir_check):\n",
    "            counter += 1\n",
    "        else:\n",
    "            break\n",
    "\n",
    "    dir_name_ae = dir_name_ae + dir_sep + dir_check\n",
    "    os.makedirs(dir_name_ae)\n",
    "    os.makedirs(dir_name_ae+dir_sep+'plots')\n",
    "else:\n",
    "    # some paramaters\n",
    "    dir_name_ae = os.getcwd()+'{ds}saved_ae{ds}ae_015'.format(ds=dir_sep)\n",
    "\n",
    "    with open(dir_name_ae + dir_sep + 'ae_data.txt') as f:\n",
    "        lines = f.readlines()\n",
    "\n",
    "    params_dict = eval(''.join(lines))\n",
    "    data_dir_idx = params_dict['data_dir_idx']\n",
    "    normalizeforae_flag = params_dict['normalizeforae_flag']\n",
    "    normalization_constant_arr_aedata = params_dict['normalization_constant_arr_aedata']\n",
    "    if os.path.exists(dir_name_ae+dir_sep+'normalization_data.npz'):\n",
    "        with np.load(dir_name_ae+dir_sep+'normalization_data.npz', allow_pickle=True) as fl:\n",
    "            normalization_constant_arr_aedata = fl['normalization_constant_arr_aedata'][0]\n",
    "\n",
    "print('dir_name_ae:', dir_name_ae)\n",
    "# loading data\n",
    "dir_name_data = os.getcwd() + dir_sep + 'saved_data' + dir_sep + 'data_' + data_dir_idx\n",
    "    \n",
    "with open(dir_name_data + dir_sep + 'sim_data_params.txt') as f:\n",
    "    lines = f.readlines()\n",
    "params_dict = eval(''.join(lines))\n",
    "params_mat = params_dict['params_mat']\n",
    "# init_state = params_dict['init_state']\n",
    "t0 = params_dict['t0']\n",
    "T = params_dict['T']\n",
    "delta_t = params_dict['delta_t']\n",
    "numpoints_xgrid = params_dict['numpoints_xgrid']\n",
    "length = params_dict['length']\n",
    "return_params_arr = params_dict['return_params_arr']\n",
    "normalize_flag_ogdata = params_dict['normalize_flag']\n",
    "print('normalize_flag_ogdata:', normalize_flag_ogdata)\n",
    "alldata_withparams_flag = params_dict['alldata_withparams_flag']\n",
    "\n",
    "xgrid = length*np.linspace(0, 1, numpoints_xgrid)\n",
    "\n",
    "with np.load(dir_name_data+dir_sep+'data.npz', allow_pickle=True) as fl:\n",
    "    all_data = fl['all_data'].astype(FTYPE)\n",
    "    boundary_idx_arr = fl['boundary_idx_arr']\n",
    "    normalization_constant_arr_ogdata = fl['normalization_constant_arr'][0]\n",
    "    initial_t0 = fl['initial_t0']\n",
    "    init_state_mat = fl['init_state_mat']\n",
    "\n",
    "    lyapunov_spectrum_mat = fl['lyapunov_spectrum_mat']"
   ]
  },
  {
   "cell_type": "code",
   "execution_count": 13,
   "metadata": {},
   "outputs": [
    {
     "name": "stdout",
     "output_type": "stream",
     "text": [
      "Case : 1, lyapunov exponent : 0.06465670311438651, lyapunov time : 15.466300964355469s\n"
     ]
    }
   ],
   "source": [
    "lyapunov_time_arr = np.empty(shape=lyapunov_spectrum_mat.shape[0], dtype=FTYPE)\n",
    "for i in range(lyapunov_spectrum_mat.shape[0]):\n",
    "    lyapunov_time_arr[i] = 1/lyapunov_spectrum_mat[i, 0]\n",
    "    print('Case : {}, lyapunov exponent : {}, lyapunov time : {}s'.format(i+1, lyapunov_spectrum_mat[i, 0], lyapunov_time_arr[i]))"
   ]
  },
  {
   "cell_type": "code",
   "execution_count": 14,
   "metadata": {
    "executionInfo": {
     "elapsed": 2,
     "status": "ok",
     "timestamp": 1666788668916,
     "user": {
      "displayName": "Rohan Kaushik",
      "userId": "13918477614376051685"
     },
     "user_tz": -120
    },
    "id": "O7sl7i5H5Dqz"
   },
   "outputs": [
    {
     "name": "stdout",
     "output_type": "stream",
     "text": [
      "[0]\n"
     ]
    }
   ],
   "source": [
    "positve_lp_idx = np.where(lyapunov_time_arr > 0)[0]\n",
    "print(positve_lp_idx)"
   ]
  },
  {
   "cell_type": "code",
   "execution_count": 15,
   "metadata": {
    "colab": {
     "base_uri": "https://localhost:8080/",
     "height": 1000
    },
    "executionInfo": {
     "elapsed": 2415,
     "status": "ok",
     "timestamp": 1666788671329,
     "user": {
      "displayName": "Rohan Kaushik",
      "userId": "13918477614376051685"
     },
     "user_tz": -120
    },
    "id": "ySVDz_2U5FH5",
    "outputId": "53f23b1d-fa61-4f27-bbc4-2e624421a866",
    "scrolled": true
   },
   "outputs": [
    {
     "name": "stdout",
     "output_type": "stream",
     "text": [
      "[     0 500026]\n"
     ]
    }
   ],
   "source": [
    "last_idx = all_data.shape[0]\n",
    "temp_bia = np.zeros(shape=1+boundary_idx_arr.shape[0], dtype=np.int32)\n",
    "temp_bia[1:] = boundary_idx_arr\n",
    "print(temp_bia)\n",
    "for i in range(boundary_idx_arr.shape[0]-1, -1, -1):\n",
    "    if not (i in positve_lp_idx):\n",
    "        print(i)\n",
    "        num_idxs = last_idx - temp_bia[i+1]\n",
    "        all_data[temp_bia[i]:temp_bia[i]+num_idxs] = all_data[temp_bia[i+1]:last_idx]\n",
    "        last_idx = last_idx - (temp_bia[i+1]-temp_bia[i])"
   ]
  },
  {
   "cell_type": "code",
   "execution_count": 16,
   "metadata": {},
   "outputs": [],
   "source": [
    "new_bia = np.empty_like(boundary_idx_arr)\n",
    "new_bia[:] = boundary_idx_arr\n",
    "new_pmat = np.empty_like(params_mat)\n",
    "new_pmat[:, :] = params_mat\n",
    "counter = 0\n",
    "bia_counter = boundary_idx_arr.shape[0]\n",
    "for i in range(boundary_idx_arr.shape[0]):\n",
    "    if not (i in positve_lp_idx):\n",
    "        new_bia[i:] -= temp_bia[i+1] - temp_bia[i]\n",
    "        new_bia[i:bia_counter-1] = new_bia[i+1:bia_counter]\n",
    "        new_pmat[i:bia_counter-1] = new_pmat[i+1:bia_counter]\n",
    "        bia_counter -= 1"
   ]
  },
  {
   "cell_type": "code",
   "execution_count": 17,
   "metadata": {},
   "outputs": [],
   "source": [
    "new_bia = new_bia[0:bia_counter]\n",
    "new_pmat = new_pmat[0:bia_counter]"
   ]
  },
  {
   "cell_type": "code",
   "execution_count": 18,
   "metadata": {},
   "outputs": [],
   "source": [
    "all_data = all_data[0:new_bia[-1]]"
   ]
  },
  {
   "cell_type": "code",
   "execution_count": 19,
   "metadata": {},
   "outputs": [],
   "source": [
    "new_bia, boundary_idx_arr = boundary_idx_arr, new_bia\n",
    "new_pmat, params_mat = params_mat, new_pmat"
   ]
  },
  {
   "cell_type": "code",
   "execution_count": null,
   "metadata": {},
   "outputs": [],
   "source": []
  },
  {
   "cell_type": "code",
   "execution_count": null,
   "metadata": {
    "scrolled": true
   },
   "outputs": [],
   "source": []
  },
  {
   "cell_type": "code",
   "execution_count": null,
   "metadata": {},
   "outputs": [],
   "source": []
  },
  {
   "cell_type": "code",
   "execution_count": 20,
   "metadata": {
    "executionInfo": {
     "elapsed": 11,
     "status": "ok",
     "timestamp": 1666788671330,
     "user": {
      "displayName": "Rohan Kaushik",
      "userId": "13918477614376051685"
     },
     "user_tz": -120
    },
    "id": "bkQx9q_p5Gro"
   },
   "outputs": [],
   "source": [
    "# dealing with normalizing the data before feeding into autoencoder\n",
    "if behaviour == 'initialiseAndTrainFromScratch':\n",
    "    # normalize data before feeding into autoencoder?\n",
    "    normalizeforae_flag = True\n",
    "    normalization_type = 'stddev' # could be 'stddev' or 'minmax'\n",
    "    stddev_multiplier = 3\n",
    "    stddev_multiplier_pm = 1\n",
    "    num_params = params_mat.shape[1]\n",
    "\n",
    "    ae_data_with_params = False # whether to feed in the parameters to the AE along with the data?\n",
    "\n",
    "    og_vars = all_data.shape[1]\n",
    "    if alldata_withparams_flag == True:\n",
    "        og_vars -= num_params\n",
    "\n",
    "    if ae_data_with_params == False:\n",
    "        stddev_multiplier_pm = None\n",
    "    if normalizeforae_flag == False:\n",
    "        stddev_multiplier = None\n",
    "\n",
    "    if ae_data_with_params == True and alldata_withparams_flag == False:\n",
    "        new_all_data = np.empty(shape=(all_data.shape[0], og_vars+num_params), dtype=FTYPE)\n",
    "        new_all_data[:, 0:og_vars] = all_data[:, 0:og_vars]\n",
    "        del(all_data)\n",
    "        all_data = new_all_data\n",
    "        prev_idx = 0\n",
    "        for i in range(boundary_idx_arr.shape[0]):\n",
    "            all_data[prev_idx:boundary_idx_arr[i], num_params:] = params_mat[i]\n",
    "            prev_idx = boundary_idx_arr[i]\n",
    "\n",
    "    normalization_constant_arr_aedata = None\n",
    "    if normalizeforae_flag == True:\n",
    "        normalization_constant_arr_aedata = np.empty(shape=(2, all_data.shape[1]), dtype=FTYPE)\n",
    "        if normalization_type == 'stddev':\n",
    "            sample_mean = np.mean(all_data, axis=0)\n",
    "            sample_std = np.std(all_data, axis=0)\n",
    "            normalization_constant_arr_aedata[0, :] = sample_mean\n",
    "            normalization_constant_arr_aedata[1, 0:og_vars] = stddev_multiplier*sample_std[0:og_vars]\n",
    "            if ae_data_with_params == True:\n",
    "                normalization_constant_arr_aedata[1, og_vars:] = stddev_multiplier_pm*sample_std[og_vars:]\n",
    "            zero_idx = np.where(normalization_constant_arr_aedata[1] == 0.0)[0]\n",
    "            if len(zero_idx) > 0:\n",
    "                normalization_constant_arr_aedata[1, zero_idx] = 1.0\n",
    "        elif normalization_type == 'minmax':\n",
    "            for i in range(all_data.shape[1]):\n",
    "                sample_min = np.min(all_data[:, i])\n",
    "                sample_max = np.max(all_data[:, i])\n",
    "                if sample_max - sample_min == 0:\n",
    "                    sample_min = sample_min - 0.5\n",
    "                    sample_max = sample_min + 1\n",
    "                normalization_constant_arr_aedata[0, i] = sample_min\n",
    "                normalization_constant_arr_aedata[1, i] = sample_max - sample_min\n",
    "        # if ae_data_with_params == True:\n",
    "        #     normalization_constant_arr_aedata[0, og_vars:] = 0.0\n",
    "        #     normalization_constant_arr_aedata[1, og_vars:] = 1.0\n",
    "        for i in range(all_data.shape[1]):\n",
    "            all_data[:, i] -= normalization_constant_arr_aedata[0, i]\n",
    "            all_data[:, i] /= normalization_constant_arr_aedata[1, i]\n",
    "\n",
    "    # saving sim data\n",
    "    ae_data = {\n",
    "        'data_dir_idx':data_dir_idx,\n",
    "        'normalizeforae_flag':normalizeforae_flag,\n",
    "        'normalization_constant_arr_aedata':normalization_constant_arr_aedata,\n",
    "        'normalization_type':normalization_type,\n",
    "        'stddev_multiplier':stddev_multiplier,\n",
    "        'stddev_multiplier_pm':stddev_multiplier_pm,\n",
    "        'ae_data_with_params':ae_data_with_params,\n",
    "        'module':Autoencoder.__module__,\n",
    "    }\n",
    "    with open(dir_name_ae+dir_sep+'ae_data.txt', 'w') as f:\n",
    "        f.write(str(ae_data))\n",
    "    np.savez(\n",
    "        dir_name_ae+dir_sep+'normalization_data',\n",
    "        normalization_constant_arr_aedata=[normalization_constant_arr_aedata],\n",
    "    )\n",
    "else:\n",
    "    if normalizeforae_flag == True:\n",
    "        for i in range(all_data.shape[1]):\n",
    "            all_data[:, i] -= normalization_constant_arr_aedata[0, i]\n",
    "            all_data[:, i] /= normalization_constant_arr_aedata[1, i]\n",
    "            \n",
    "time_stddev = np.std(all_data, axis=0)\n",
    "if ae_data_with_params == False:\n",
    "    all_data = all_data[:, 0:og_vars]\n",
    "    time_stddev = time_stddev[0:og_vars]\n",
    "else:\n",
    "    time_stddev[og_vars:] = 1.0"
   ]
  },
  {
   "cell_type": "code",
   "execution_count": 21,
   "metadata": {},
   "outputs": [
    {
     "data": {
      "text/plain": [
       "array([[1.04895428e-01, 1.00677975e-01, 1.01455748e-01, 1.07038975e-01,\n",
       "        1.15524963e-01, 1.24498643e-01, 1.32090986e-01, 1.37528211e-01,\n",
       "        1.41156599e-01, 1.44102126e-01, 1.47524297e-01, 1.51665181e-01,\n",
       "        1.54968590e-01, 1.54004678e-01, 1.45411506e-01, 1.28925756e-01,\n",
       "        1.08675964e-01, 9.11559835e-02, 8.14666823e-02, 8.09827968e-02,\n",
       "        8.77058581e-02, 9.81689095e-02, 1.08952150e-01, 1.17303252e-01,\n",
       "        1.21563986e-01, 1.21806026e-01, 1.19666912e-01, 1.17023595e-01,\n",
       "        1.14840910e-01, 1.13341480e-01, 1.12681627e-01, 1.12990953e-01,\n",
       "        1.14061654e-01, 1.15491308e-01, 1.17183998e-01, 1.19535834e-01,\n",
       "        1.23133965e-01, 1.28426880e-01, 1.35574624e-01, 1.44235477e-01,\n",
       "        1.52901426e-01, 1.58540055e-01, 1.57794520e-01, 1.49408311e-01,\n",
       "        1.35650888e-01, 1.21296138e-01, 1.11013673e-01, 1.07349895e-01,\n",
       "        1.10332102e-01, 1.18103951e-01, 1.27738327e-01, 1.36243924e-01,\n",
       "        1.41599804e-01, 1.43402293e-01, 1.42630473e-01, 1.40722007e-01,\n",
       "        1.38598144e-01, 1.36453435e-01, 1.34177536e-01, 1.31779462e-01,\n",
       "        1.29136369e-01, 1.25477180e-01, 1.19783379e-01, 1.12233356e-01,\n",
       "        1.00000000e+00, 1.00000000e+00, 1.00000000e+00],\n",
       "       [3.87245655e+00, 3.88224077e+00, 3.89115667e+00, 3.88957405e+00,\n",
       "        3.87810326e+00, 3.86446166e+00, 3.85328817e+00, 3.84544230e+00,\n",
       "        3.84306145e+00, 3.84787941e+00, 3.86336732e+00, 3.89230514e+00,\n",
       "        3.92157555e+00, 3.92568207e+00, 3.90006137e+00, 3.87337661e+00,\n",
       "        3.87466383e+00, 3.89997864e+00, 3.92207336e+00, 3.92162800e+00,\n",
       "        3.90289736e+00, 3.88486767e+00, 3.87614894e+00, 3.86834049e+00,\n",
       "        3.85725069e+00, 3.85564470e+00, 3.87098908e+00, 3.88760161e+00,\n",
       "        3.88989735e+00, 3.88463759e+00, 3.88416338e+00, 3.88634729e+00,\n",
       "        3.88307619e+00, 3.87416649e+00, 3.86595392e+00, 3.86169505e+00,\n",
       "        3.85812426e+00, 3.85279322e+00, 3.85329080e+00, 3.86900759e+00,\n",
       "        3.89145827e+00, 3.89858532e+00, 3.88309193e+00, 3.86389065e+00,\n",
       "        3.86344433e+00, 3.88093138e+00, 3.89761066e+00, 3.90168142e+00,\n",
       "        3.89690924e+00, 3.88927889e+00, 3.87856340e+00, 3.86514997e+00,\n",
       "        3.85411477e+00, 3.85260773e+00, 3.86278152e+00, 3.87751102e+00,\n",
       "        3.88719273e+00, 3.88777208e+00, 3.88603306e+00, 3.89404488e+00,\n",
       "        3.90860868e+00, 3.91097903e+00, 3.89455223e+00, 3.87583208e+00,\n",
       "        4.58476832e-41, 1.77124126e-42, 1.00000000e+00]], dtype=float32)"
      ]
     },
     "execution_count": 21,
     "metadata": {},
     "output_type": "execute_result"
    }
   ],
   "source": [
    "normalization_constant_arr_aedata"
   ]
  },
  {
   "cell_type": "code",
   "execution_count": null,
   "metadata": {
    "colab": {
     "base_uri": "https://localhost:8080/",
     "height": 1000
    },
    "executionInfo": {
     "elapsed": 1020,
     "status": "ok",
     "timestamp": 1666788672340,
     "user": {
      "displayName": "Rohan Kaushik",
      "userId": "13918477614376051685"
     },
     "user_tz": -120
    },
    "id": "uDhfYHU45IS8",
    "outputId": "982f534f-255c-41b9-f40a-327730ac89ae"
   },
   "outputs": [],
   "source": []
  },
  {
   "cell_type": "code",
   "execution_count": null,
   "metadata": {
    "executionInfo": {
     "elapsed": 13,
     "status": "ok",
     "timestamp": 1666788672341,
     "user": {
      "displayName": "Rohan Kaushik",
      "userId": "13918477614376051685"
     },
     "user_tz": -120
    },
    "id": "59kkrSP1GvzO"
   },
   "outputs": [],
   "source": []
  },
  {
   "cell_type": "code",
   "execution_count": null,
   "metadata": {
    "executionInfo": {
     "elapsed": 11,
     "status": "ok",
     "timestamp": 1666788672342,
     "user": {
      "displayName": "Rohan Kaushik",
      "userId": "13918477614376051685"
     },
     "user_tz": -120
    },
    "id": "-MJa7P5t5KiC",
    "scrolled": false
   },
   "outputs": [],
   "source": []
  },
  {
   "cell_type": "markdown",
   "metadata": {
    "id": "1v6KQEjR5LkK"
   },
   "source": [
    "# Autoencoder"
   ]
  },
  {
   "cell_type": "code",
   "execution_count": 22,
   "metadata": {
    "executionInfo": {
     "elapsed": 432,
     "status": "ok",
     "timestamp": 1666788672765,
     "user": {
      "displayName": "Rohan Kaushik",
      "userId": "13918477614376051685"
     },
     "user_tz": -120
    },
    "id": "c5cjQ1lnjcwt"
   },
   "outputs": [
    {
     "name": "stdout",
     "output_type": "stream",
     "text": [
      "stddev :  0.0003583286209950661\n"
     ]
    }
   ],
   "source": [
    "# setting up training params\n",
    "if behaviour == 'initialiseAndTrainFromScratch':\n",
    "    learning_rate_list = [1e-3, 1e-4, 1e-5]\n",
    "    epochs = 200\n",
    "    patience = 10  # parameter for early stopping\n",
    "    min_delta = 1e-6  # parameter for early stopping\n",
    "    lambda_reg = 1.0054249328085788e-07 # weight for regularizer\n",
    "    train_split = 0.8\n",
    "    val_split = 0.1\n",
    "    test_split = 1 - train_split - val_split\n",
    "    batch_size = 2**6\n",
    "    fRMS = 0.0010749823709553397\n",
    "    timeMeanofSpaceRMS = np.mean(np.mean(all_data[:, 0:og_vars]**2, axis=1)**0.5)\n",
    "    \n",
    "    dt_ae = 0.2\n",
    "    \n",
    "    # stddev = fRMS*timeMeanofSpaceRMS\n",
    "    stddev = fRMS * np.mean(time_stddev[0:og_vars])\n",
    "    contractive_lmda = 0.0\n",
    "    use_weights_post_dense = True\n",
    "    dropout_rate = 0.0\n",
    "    \n",
    "    print('stddev : ', stddev)\n",
    "\n",
    "    # saving training params\n",
    "    training_specific_params = {\n",
    "        'learning_rate_list':learning_rate_list,\n",
    "        'epochs':epochs,\n",
    "        'patience':patience,\n",
    "        'min_delta':min_delta,\n",
    "        'prng_seed':prng_seed,\n",
    "        'train_split':train_split,\n",
    "        'val_split':val_split,\n",
    "        'batch_size':batch_size,\n",
    "        'fRMS':fRMS,\n",
    "        'timeMeanofSpaceRMS':timeMeanofSpaceRMS,\n",
    "        'stddev':stddev,\n",
    "        'contractive_lmda':contractive_lmda,\n",
    "        'dropout_rate':dropout_rate,\n",
    "        'dt_ae':dt_ae,\n",
    "    }\n",
    "\n",
    "    with open(dir_name_ae+dir_sep+'training_specific_params.txt', 'w') as f:\n",
    "        f.write(str(training_specific_params))\n",
    "else:\n",
    "    with open(dir_name_ae + dir_sep + 'training_specific_params.txt') as f:\n",
    "        lines = f.readlines()\n",
    "\n",
    "    tparams_dict = eval(''.join(lines))\n",
    "\n",
    "    learning_rate_list = tparams_dict['learning_rate_list']\n",
    "    epochs = tparams_dict['epochs']\n",
    "    patience = tparams_dict['patience']\n",
    "    min_delta = tparams_dict['min_delta']\n",
    "    prng_seed = tparams_dict['prng_seed']\n",
    "    train_split = tparams_dict['train_split']\n",
    "    val_split = tparams_dict['val_split']\n",
    "    batch_size = tparams_dict['batch_size']\n",
    "    try:\n",
    "        stddev = tparams_dict['stddev']\n",
    "    except:\n",
    "        print(\"'stddev' not in tparams_dict, set to 0\")\n",
    "        stddev = 0.0\n",
    "    try:\n",
    "        contractive_lmda = tparams_dict['contractive_lmda']\n",
    "    except:\n",
    "        print(\"'contractive_lmda' not in tparams_dict, set to 0\")\n",
    "        contractive_lmda = 0.0\n",
    "    try:\n",
    "        dropout_rate = tparams_dict['dropout_rate']\n",
    "    except:\n",
    "        print(\"'dropout_rate' not in tparams_dict, set to 0\")\n",
    "        dropout_rate = 0.0\n",
    "\n",
    "    test_split = 1 - train_split - val_split\n",
    "\n",
    "    # setting seed for PRNGs\n",
    "    np.random.seed(prng_seed)\n",
    "    tf.random.set_seed(prng_seed)"
   ]
  },
  {
   "cell_type": "code",
   "execution_count": 23,
   "metadata": {
    "executionInfo": {
     "elapsed": 22,
     "status": "ok",
     "timestamp": 1666788672769,
     "user": {
      "displayName": "Rohan Kaushik",
      "userId": "13918477614376051685"
     },
     "user_tz": -120
    },
    "id": "lovTI3zuhlX0"
   },
   "outputs": [],
   "source": [
    "# all_data = all_data[0:370001]\n",
    "# boundary_idx_arr[0] = 370001"
   ]
  },
  {
   "cell_type": "code",
   "execution_count": 24,
   "metadata": {},
   "outputs": [],
   "source": [
    "skip_factor = int(dt_ae/delta_t)\n",
    "\n",
    "for i in range(len(boundary_idx_arr)-1, -1, -1):\n",
    "    end_idx = boundary_idx_arr[i]\n",
    "    if i == 0:\n",
    "        begin_idx = 0\n",
    "    else:\n",
    "        begin_idx = boundary_idx_arr[i-1]\n",
    "\n",
    "    num_elems_pre_indexing = end_idx - begin_idx\n",
    "    num_elems_post_indexing = (num_elems_pre_indexing+skip_factor-1)//skip_factor\n",
    "\n",
    "    boundary_idx_arr[i:] -= num_elems_pre_indexing-num_elems_post_indexing\n",
    "\n",
    "    all_data[begin_idx:begin_idx+num_elems_post_indexing] = all_data[begin_idx:end_idx:skip_factor]\n",
    "    all_data[begin_idx+num_elems_post_indexing:begin_idx+(boundary_idx_arr[-1]-boundary_idx_arr[i])] = all_data[end_idx:boundary_idx_arr[-1]+num_elems_post_indexing]\n",
    "\n",
    "all_data = all_data[0:boundary_idx_arr[-1]]"
   ]
  },
  {
   "cell_type": "code",
   "execution_count": 25,
   "metadata": {},
   "outputs": [
    {
     "data": {
      "text/plain": [
       "array([250013])"
      ]
     },
     "execution_count": 25,
     "metadata": {},
     "output_type": "execute_result"
    }
   ],
   "source": [
    "boundary_idx_arr"
   ]
  },
  {
   "cell_type": "code",
   "execution_count": 26,
   "metadata": {},
   "outputs": [
    {
     "data": {
      "text/plain": [
       "(250013, 64)"
      ]
     },
     "execution_count": 26,
     "metadata": {},
     "output_type": "execute_result"
    }
   ],
   "source": [
    "all_data.shape"
   ]
  },
  {
   "cell_type": "code",
   "execution_count": 27,
   "metadata": {
    "executionInfo": {
     "elapsed": 22,
     "status": "ok",
     "timestamp": 1666788672770,
     "user": {
      "displayName": "Rohan Kaushik",
      "userId": "13918477614376051685"
     },
     "user_tz": -120
    },
    "id": "IjsRi02g5ORG"
   },
   "outputs": [],
   "source": [
    "# # setting up data\n",
    "# idx = np.arange(all_data.shape[0])\n",
    "# np.random.shuffle(idx)\n",
    "# boundary = int(np.round((1-test_split)*all_data.shape[0]))\n",
    "# training_data = all_data[idx[0:boundary], :]\n",
    "# testing_data = all_data[idx[boundary:], :]"
   ]
  },
  {
   "cell_type": "code",
   "execution_count": 28,
   "metadata": {
    "executionInfo": {
     "elapsed": 21,
     "status": "ok",
     "timestamp": 1666788672771,
     "user": {
      "displayName": "Rohan Kaushik",
      "userId": "13918477614376051685"
     },
     "user_tz": -120
    },
    "id": "Qwietg7eTG-s"
   },
   "outputs": [],
   "source": [
    "cum_samples = boundary_idx_arr[-1]\n",
    "# idx = np.arange(cum_samples)\n",
    "# np.random.shuffle(idx)\n",
    "num_train = 0\n",
    "num_val = 0\n",
    "begin_idx = 0\n",
    "for i in range(len(boundary_idx_arr)):\n",
    "    num_samples = boundary_idx_arr[i] - begin_idx\n",
    "    num_train += int( np.round(train_split*num_samples) )\n",
    "    num_val += int( np.round(val_split*num_samples) )\n",
    "    begin_idx = boundary_idx_arr[i]\n",
    "\n",
    "# defining shapes\n",
    "training_shape = [num_train]\n",
    "training_shape.extend(all_data.shape[1:])\n",
    "\n",
    "val_shape = [num_val]\n",
    "val_shape.extend(all_data.shape[1:])\n",
    "\n",
    "testing_shape = [cum_samples-num_train-num_val]\n",
    "testing_shape.extend(all_data.shape[1:])\n",
    "\n",
    "# defining required arrays\n",
    "training_data = np.empty(shape=training_shape)\n",
    "\n",
    "val_data = np.empty(shape=val_shape)\n",
    "\n",
    "testing_data = np.empty(shape=testing_shape)\n",
    "\n",
    "begin_idx = 0\n",
    "training_data_rolling_count = 0\n",
    "val_data_rolling_count = 0\n",
    "testing_data_rolling_count = 0\n",
    "for i in range(len(boundary_idx_arr)):\n",
    "    num_samples = boundary_idx_arr[i] - begin_idx\n",
    "    num_train = int( np.round(train_split*num_samples) )\n",
    "    num_val = int( np.round(val_split*num_samples) )\n",
    "\n",
    "    training_data[training_data_rolling_count:training_data_rolling_count+num_train] = all_data[begin_idx:begin_idx+num_train]\n",
    "    training_data_rolling_count += num_train\n",
    "\n",
    "    val_data[val_data_rolling_count:val_data_rolling_count+num_val] = all_data[begin_idx+num_train:begin_idx+num_train+num_val]\n",
    "    val_data_rolling_count += num_val\n",
    "\n",
    "    num_test = num_samples-num_train-num_val\n",
    "    testing_data[testing_data_rolling_count:testing_data_rolling_count+num_test] = all_data[begin_idx+num_train+num_val:begin_idx+num_train+num_val+num_test]\n",
    "    testing_data_rolling_count += num_test\n",
    "\n",
    "    begin_idx = boundary_idx_arr[i]\n",
    "\n",
    "# further shuffling\n",
    "# idx = np.arange(0, training_data.shape[0])\n",
    "# np.random.shuffle(idx)\n",
    "# training_data_rnn_input = training_data_rnn_input[idx]\n",
    "np.random.shuffle(training_data)\n",
    "\n",
    "# idx = np.arange(0, val_data.shape[0])\n",
    "# np.random.shuffle(idx)\n",
    "# val_data = val_data[idx]\n",
    "np.random.shuffle(val_data)\n",
    "\n",
    "# idx = np.arange(0, testing_data.shape[0])\n",
    "# np.random.shuffle(idx)\n",
    "# testing_data = testing_data[idx]\n",
    "np.random.shuffle(testing_data)"
   ]
  },
  {
   "cell_type": "code",
   "execution_count": 29,
   "metadata": {
    "executionInfo": {
     "elapsed": 21,
     "status": "ok",
     "timestamp": 1666788672772,
     "user": {
      "displayName": "Rohan Kaushik",
      "userId": "13918477614376051685"
     },
     "user_tz": -120
    },
    "id": "gJ-28EnzJ4Ur"
   },
   "outputs": [],
   "source": [
    "#"
   ]
  },
  {
   "cell_type": "code",
   "execution_count": null,
   "metadata": {
    "executionInfo": {
     "elapsed": 20,
     "status": "ok",
     "timestamp": 1666788672773,
     "user": {
      "displayName": "Rohan Kaushik",
      "userId": "13918477614376051685"
     },
     "user_tz": -120
    },
    "id": "7xTsmS7lgpps"
   },
   "outputs": [],
   "source": []
  },
  {
   "cell_type": "code",
   "execution_count": 30,
   "metadata": {
    "executionInfo": {
     "elapsed": 1626,
     "status": "ok",
     "timestamp": 1666788674381,
     "user": {
      "displayName": "Rohan Kaushik",
      "userId": "13918477614376051685"
     },
     "user_tz": -120
    },
    "id": "7l5kI1tfMszJ"
   },
   "outputs": [],
   "source": [
    "# Initialize network\n",
    "if behaviour == 'initialiseAndTrainFromScratch':\n",
    "    latent_space_dim = 17\n",
    "    enc_layers = [128, 96, 64, 48, 32, 24, 16, 8, 4]\n",
    "    # enc_layers = [192, 96, 48, 24, 12, 6, 3]\n",
    "    # enc_layers = [96, 48, 24, 12, 6, 3]\n",
    "    # enc_layers = [128, 64, 32, 16, 8, 4]\n",
    "    # enc_layers = []\n",
    "    # enc_layers = [32, 16, 8, 4]\n",
    "    for i in range(len(enc_layers)):\n",
    "        if latent_space_dim < enc_layers[-i-1]:\n",
    "            enc_layers = enc_layers[0:-i]\n",
    "            break\n",
    "        if i == len(enc_layers)-1:\n",
    "            enc_layers = []\n",
    "    dec_layers = enc_layers[::-1]\n",
    "    # enc_layers = [16, 8, 8]\n",
    "    # dec_layers = [8, 8, 16]\n",
    "    \n",
    "    enc_layer_act_func = 'elu'\n",
    "    enc_final_layer_act_func = 'tanh'\n",
    "    dec_layer_act_func = 'elu'\n",
    "    dec_final_layer_act_func = 'tanh'\n",
    "    reg_name = 'L2'\n",
    "    \n",
    "    if strategy is not None:\n",
    "        with strategy.scope():\n",
    "            ae_net = Autoencoder(\n",
    "                data_dim=all_data.shape[1],\n",
    "                enc_layers=enc_layers,\n",
    "                dec_layers=dec_layers,\n",
    "                latent_space_dim=latent_space_dim,\n",
    "                lambda_reg=lambda_reg,\n",
    "                reg_name=reg_name,\n",
    "                enc_layer_act_func=enc_layer_act_func,\n",
    "                enc_final_layer_act_func=enc_final_layer_act_func,\n",
    "                dec_layer_act_func=dec_layer_act_func,\n",
    "                dec_final_layer_act_func=dec_final_layer_act_func,\n",
    "                load_file=None,\n",
    "                stddev=stddev,\n",
    "                contractive_lmda=contractive_lmda,\n",
    "                dropout_rate=dropout_rate,\n",
    "                use_weights_post_dense=use_weights_post_dense,)\n",
    "    else:\n",
    "        ae_net = Autoencoder(\n",
    "            data_dim=all_data.shape[1],\n",
    "            enc_layers=enc_layers,\n",
    "            dec_layers=dec_layers,\n",
    "            latent_space_dim=latent_space_dim,\n",
    "            lambda_reg=lambda_reg,\n",
    "            reg_name=reg_name,\n",
    "            enc_layer_act_func=enc_layer_act_func,\n",
    "            enc_final_layer_act_func=enc_final_layer_act_func,\n",
    "            dec_layer_act_func=dec_layer_act_func,\n",
    "            dec_final_layer_act_func=dec_final_layer_act_func,\n",
    "            load_file=None,\n",
    "            stddev=stddev,\n",
    "            contractive_lmda=contractive_lmda,\n",
    "            dropout_rate=dropout_rate,\n",
    "            use_weights_post_dense=use_weights_post_dense,)\n",
    "    # saving the AE configuration\n",
    "    save_path = dir_name_ae+dir_sep+'final_net'\n",
    "    if not os.path.isdir(save_path):\n",
    "        os.makedirs(save_path)\n",
    "    ae_net.save_class_dict(save_path+dir_sep+'final_net_class_dict.txt')\n",
    "else:\n",
    "    load_file = dir_name_ae + dir_sep + 'final_net' + dir_sep + 'final_net_class_dict.txt'\n",
    "    if strategy is not None:\n",
    "        with strategy.scope():\n",
    "            ae_net = Autoencoder(data_dim=all_data.shape[1], load_file=load_file)\n",
    "    else:\n",
    "        ae_net = Autoencoder(data_dim=all_data.shape[1], load_file=load_file)\n",
    "    \n",
    "    if behaviour == 'loadCheckpointAndContinueTraining':\n",
    "        wt_file = tf.train.latest_checkpoint(dir_name_ae+dir_sep+'checkpoints')\n",
    "        # ae_net.load_weights(wt_file)\n",
    "    elif behaviour == 'loadFinalNetAndPlot':\n",
    "        wt_file = dir_name_ae+dir_sep+'final_net'+dir_sep+'final_net_ae_weights.h5'\n",
    "        ae_net.load_weights_from_file(wt_file)"
   ]
  },
  {
   "cell_type": "code",
   "execution_count": 31,
   "metadata": {
    "executionInfo": {
     "elapsed": 259,
     "status": "ok",
     "timestamp": 1666788674637,
     "user": {
      "displayName": "Rohan Kaushik",
      "userId": "13918477614376051685"
     },
     "user_tz": -120
    },
    "id": "48tkgZxT0Amt"
   },
   "outputs": [],
   "source": [
    "#"
   ]
  },
  {
   "cell_type": "code",
   "execution_count": 32,
   "metadata": {
    "executionInfo": {
     "elapsed": 322,
     "status": "ok",
     "timestamp": 1666788674956,
     "user": {
      "displayName": "Rohan Kaushik",
      "userId": "13918477614376051685"
     },
     "user_tz": -120
    },
    "id": "yUChBAKqIFtX"
   },
   "outputs": [],
   "source": [
    "if behaviour == 'initialiseAndTrainFromScratch':\n",
    "    val_loss_hist = []\n",
    "    train_loss_hist = []\n",
    "    lr_change=[0, 0]\n",
    "    savelosses_cb_vallossarr = np.ones(shape=epochs*len(learning_rate_list))*np.NaN\n",
    "    savelosses_cb_trainlossarr = np.ones(shape=epochs*len(learning_rate_list))*np.NaN\n",
    "    starting_lr_idx = 0\n",
    "    num_epochs_left = epochs\n",
    "elif behaviour == 'loadCheckpointAndContinueTraining':\n",
    "    val_loss_hist, train_loss_hist, lr_change, starting_lr_idx, num_epochs_left, val_loss_arr_fromckpt, train_loss_arr_fromckpt = readAndReturnLossHistories(\n",
    "        dir_name_ae=dir_name_ae,\n",
    "        dir_sep=dir_sep,\n",
    "        epochs=epochs,\n",
    "        learning_rate_list=learning_rate_list)\n",
    "    savelosses_cb_vallossarr = val_loss_arr_fromckpt\n",
    "    savelosses_cb_trainlossarr = train_loss_arr_fromckpt\n",
    "elif behaviour == 'loadFinalNetAndPlot':\n",
    "    with open(dir_name_ae+'{ds}final_net{ds}losses.txt'.format(ds=dir_sep), 'r') as f:\n",
    "        lines = f.readlines()\n",
    "    \n",
    "    losses_dict = eval(''.join(lines))\n",
    "\n",
    "    val_loss_hist = losses_dict['val_loss_hist']\n",
    "    train_loss_hist = losses_dict['train_loss_hist']\n",
    "    lr_change = losses_dict['lr_change']\n",
    "    test_loss = losses_dict['test_loss']"
   ]
  },
  {
   "cell_type": "code",
   "execution_count": 33,
   "metadata": {},
   "outputs": [],
   "source": [
    "train_MSE_hist = []\n",
    "val_MSE_hist = []\n",
    "\n",
    "train_NMSE_hist = []\n",
    "val_NMSE_hist = []\n",
    "\n",
    "train_ls_jacobian_norm_hist = []\n",
    "\n",
    "train_real_MSE_hist = []\n",
    "val_real_MSE_hist = []\n",
    "\n",
    "train_params_MSE_hist = []\n",
    "val_params_MSE_hist = []"
   ]
  },
  {
   "cell_type": "code",
   "execution_count": 34,
   "metadata": {
    "executionInfo": {
     "elapsed": 5,
     "status": "ok",
     "timestamp": 1666788674957,
     "user": {
      "displayName": "Rohan Kaushik",
      "userId": "13918477614376051685"
     },
     "user_tz": -120
    },
    "id": "Z0oEGp6WKGu2"
   },
   "outputs": [],
   "source": [
    "class NMSE(tf.keras.metrics.MeanSquaredError):\n",
    "    def __init__(self, divisor_arr, name='NMSE', **kwargs):\n",
    "        super(NMSE, self).__init__(name, **kwargs)\n",
    "        self.divisor_arr = divisor_arr\n",
    "\n",
    "    def update_state(self, y_true, y_pred, sample_weight=None):\n",
    "        y_true = y_true / self.divisor_arr\n",
    "        y_pred = y_pred / self.divisor_arr\n",
    "        return super(NMSE, self).update_state(y_true, y_pred, sample_weight)\n",
    "\n",
    "class real_MSE(tf.keras.metrics.MeanSquaredError):\n",
    "    def __init__(self, og_vars, name='real_MSE', **kwargs):\n",
    "        super().__init__(name, **kwargs)\n",
    "        self.og_vars = og_vars\n",
    "\n",
    "    def update_state(self, y_true, y_pred, sample_weight=None):\n",
    "        y_true = y_true[:, 0:self.og_vars]\n",
    "        y_pred = y_pred[:, 0:self.og_vars]\n",
    "        return super().update_state(y_true, y_pred, sample_weight)\n",
    "    \n",
    "class params_MSE(tf.keras.metrics.MeanSquaredError):\n",
    "    def __init__(self, og_vars, name='params_MSE', **kwargs):\n",
    "        super().__init__(name, **kwargs)\n",
    "        self.og_vars = og_vars\n",
    "\n",
    "    def update_state(self, y_true, y_pred, sample_weight=None):\n",
    "        y_true = y_true[:, self.og_vars:]\n",
    "        y_pred = y_pred[:, self.og_vars:]\n",
    "        return super().update_state(y_true, y_pred, sample_weight)"
   ]
  },
  {
   "cell_type": "code",
   "execution_count": 35,
   "metadata": {
    "colab": {
     "base_uri": "https://localhost:8080/"
    },
    "executionInfo": {
     "elapsed": 191278,
     "status": "ok",
     "timestamp": 1666788866231,
     "user": {
      "displayName": "Rohan Kaushik",
      "userId": "13918477614376051685"
     },
     "user_tz": -120
    },
    "id": "gELga1WnQeMK",
    "outputId": "e923a97a-2d9d-4c74-c328-4793de05b919",
    "scrolled": true
   },
   "outputs": [
    {
     "name": "stdout",
     "output_type": "stream",
     "text": [
      "WARNING:tensorflow:`period` argument is deprecated. Please use `save_freq` to specify the frequency in number of batches seen.\n",
      "\n",
      "\n",
      "--------------------------------------------------------------------------------\n",
      "\n",
      "---------------------------- LEARNING RATE : 0.001 -----------------------------\n",
      "\n",
      "--------------------------------------------------------------------------------\n",
      "\n",
      "\n",
      "Epoch 1/200\n",
      "3124/3126 [============================>.] - ETA: 0s - loss: 0.0032 - mse: 0.0031 - NMSE: 0.0279 - real_MSE: 0.0031 - params_MSE: nan - ls_jacobian_norm: 1.6849 - tot_time: 0h 0m 24.7s\n",
      "\n",
      "Epoch 1: val_mse improved from inf to 0.00051, saving model to /home/rkaushik/Documents/Thesis/MLROM/new_ks/saved_ae/ae_011/checkpoints/checkpoint\n",
      " - saving loss histories at /home/rkaushik/Documents/Thesis/MLROM/new_ks/saved_ae/ae_011/checkpoints/LossHistoriesCheckpoint\n",
      "3126/3126 [==============================] - 24s 7ms/step - loss: 0.0032 - mse: 0.0031 - NMSE: 0.0279 - real_MSE: 0.0031 - params_MSE: nan - ls_jacobian_norm: 1.6844 - val_loss: 6.0825e-04 - val_mse: 5.1351e-04 - val_NMSE: 0.0046 - val_real_MSE: 5.1351e-04 - val_params_MSE: nan - val_ls_jacobian_norm: -1.0000\n",
      "Epoch 2/200\n",
      "3121/3126 [============================>.] - ETA: 0s - loss: 4.9237e-04 - mse: 3.9779e-04 - NMSE: 0.0036 - real_MSE: 3.9779e-04 - params_MSE: nan - ls_jacobian_norm: 1.0786 - tot_time: 0h 0m 45.8s\n",
      "\n",
      "Epoch 2: val_mse improved from 0.00051 to 0.00040, saving model to /home/rkaushik/Documents/Thesis/MLROM/new_ks/saved_ae/ae_011/checkpoints/checkpoint\n",
      " - saving loss histories at /home/rkaushik/Documents/Thesis/MLROM/new_ks/saved_ae/ae_011/checkpoints/LossHistoriesCheckpoint\n",
      "3126/3126 [==============================] - 21s 7ms/step - loss: 4.9224e-04 - mse: 3.9766e-04 - NMSE: 0.0036 - real_MSE: 3.9766e-04 - params_MSE: nan - ls_jacobian_norm: 1.0784 - val_loss: 4.9164e-04 - val_mse: 3.9754e-04 - val_NMSE: 0.0036 - val_real_MSE: 3.9754e-04 - val_params_MSE: nan - val_ls_jacobian_norm: -1.0000\n",
      "Epoch 3/200\n",
      "3120/3126 [============================>.] - ETA: 0s - loss: 3.6998e-04 - mse: 2.7673e-04 - NMSE: 0.0025 - real_MSE: 2.7673e-04 - params_MSE: nan - ls_jacobian_norm: 0.9747 - tot_time: 0h 1m 7.9s\n",
      "\n",
      "Epoch 3: val_mse did not improve from 0.00040\n",
      " - saving loss histories at /home/rkaushik/Documents/Thesis/MLROM/new_ks/saved_ae/ae_011/checkpoints/LossHistoriesCheckpoint\n",
      "3126/3126 [==============================] - 22s 7ms/step - loss: 3.6997e-04 - mse: 2.7672e-04 - NMSE: 0.0025 - real_MSE: 2.7672e-04 - params_MSE: nan - ls_jacobian_norm: 0.9747 - val_loss: 5.0188e-04 - val_mse: 4.0964e-04 - val_NMSE: 0.0037 - val_real_MSE: 4.0964e-04 - val_params_MSE: nan - val_ls_jacobian_norm: -1.0000\n",
      "Epoch 4/200\n",
      "3124/3126 [============================>.] - ETA: 0s - loss: 3.2302e-04 - mse: 2.3200e-04 - NMSE: 0.0021 - real_MSE: 2.3200e-04 - params_MSE: nan - ls_jacobian_norm: 0.9629 - tot_time: 0h 1m 30.1s\n",
      "\n",
      "Epoch 4: val_mse improved from 0.00040 to 0.00029, saving model to /home/rkaushik/Documents/Thesis/MLROM/new_ks/saved_ae/ae_011/checkpoints/checkpoint\n",
      " - saving loss histories at /home/rkaushik/Documents/Thesis/MLROM/new_ks/saved_ae/ae_011/checkpoints/LossHistoriesCheckpoint\n",
      "3126/3126 [==============================] - 22s 7ms/step - loss: 3.2302e-04 - mse: 2.3200e-04 - NMSE: 0.0021 - real_MSE: 2.3200e-04 - params_MSE: nan - ls_jacobian_norm: 0.9629 - val_loss: 3.7834e-04 - val_mse: 2.8852e-04 - val_NMSE: 0.0026 - val_real_MSE: 2.8852e-04 - val_params_MSE: nan - val_ls_jacobian_norm: -1.0000\n",
      "Epoch 5/200\n",
      "3125/3126 [============================>.] - ETA: 0s - loss: 2.9708e-04 - mse: 2.0860e-04 - NMSE: 0.0019 - real_MSE: 2.0860e-04 - params_MSE: nan - ls_jacobian_norm: 0.9620 - tot_time: 0h 1m 51.8s\n",
      "\n",
      "Epoch 5: val_mse did not improve from 0.00029\n",
      " - saving loss histories at /home/rkaushik/Documents/Thesis/MLROM/new_ks/saved_ae/ae_011/checkpoints/LossHistoriesCheckpoint\n",
      "3126/3126 [==============================] - 22s 7ms/step - loss: 2.9708e-04 - mse: 2.0859e-04 - NMSE: 0.0019 - real_MSE: 2.0859e-04 - params_MSE: nan - ls_jacobian_norm: 0.9620 - val_loss: 4.0430e-04 - val_mse: 3.1711e-04 - val_NMSE: 0.0029 - val_real_MSE: 3.1711e-04 - val_params_MSE: nan - val_ls_jacobian_norm: -1.0000\n",
      "Epoch 6/200\n",
      "3121/3126 [============================>.] - ETA: 0s - loss: 2.8315e-04 - mse: 1.9732e-04 - NMSE: 0.0018 - real_MSE: 1.9732e-04 - params_MSE: nan - ls_jacobian_norm: 0.9643 - tot_time: 0h 2m 13.2s\n",
      "\n",
      "Epoch 6: val_mse did not improve from 0.00029\n",
      " - saving loss histories at /home/rkaushik/Documents/Thesis/MLROM/new_ks/saved_ae/ae_011/checkpoints/LossHistoriesCheckpoint\n",
      "3126/3126 [==============================] - 21s 7ms/step - loss: 2.8312e-04 - mse: 1.9729e-04 - NMSE: 0.0018 - real_MSE: 1.9729e-04 - params_MSE: nan - ls_jacobian_norm: 0.9643 - val_loss: 4.2168e-04 - val_mse: 3.3716e-04 - val_NMSE: 0.0030 - val_real_MSE: 3.3716e-04 - val_params_MSE: nan - val_ls_jacobian_norm: -1.0000\n",
      "Epoch 7/200\n",
      "3125/3126 [============================>.] - ETA: 0s - loss: 2.6686e-04 - mse: 1.8367e-04 - NMSE: 0.0017 - real_MSE: 1.8367e-04 - params_MSE: nan - ls_jacobian_norm: 0.9703 - tot_time: 0h 2m 34.5s\n",
      "\n",
      "Epoch 7: val_mse improved from 0.00029 to 0.00023, saving model to /home/rkaushik/Documents/Thesis/MLROM/new_ks/saved_ae/ae_011/checkpoints/checkpoint\n",
      " - saving loss histories at /home/rkaushik/Documents/Thesis/MLROM/new_ks/saved_ae/ae_011/checkpoints/LossHistoriesCheckpoint\n",
      "3126/3126 [==============================] - 21s 7ms/step - loss: 2.6686e-04 - mse: 1.8367e-04 - NMSE: 0.0017 - real_MSE: 1.8367e-04 - params_MSE: nan - ls_jacobian_norm: 0.9703 - val_loss: 3.1057e-04 - val_mse: 2.2867e-04 - val_NMSE: 0.0021 - val_real_MSE: 2.2867e-04 - val_params_MSE: nan - val_ls_jacobian_norm: -1.0000\n",
      "Epoch 8/200\n",
      "3120/3126 [============================>.] - ETA: 0s - loss: 2.5503e-04 - mse: 1.7436e-04 - NMSE: 0.0016 - real_MSE: 1.7436e-04 - params_MSE: nan - ls_jacobian_norm: 0.9739 - tot_time: 0h 2m 56.1s\n",
      "\n",
      "Epoch 8: val_mse did not improve from 0.00023\n",
      " - saving loss histories at /home/rkaushik/Documents/Thesis/MLROM/new_ks/saved_ae/ae_011/checkpoints/LossHistoriesCheckpoint\n",
      "3126/3126 [==============================] - 21s 7ms/step - loss: 2.5503e-04 - mse: 1.7437e-04 - NMSE: 0.0016 - real_MSE: 1.7437e-04 - params_MSE: nan - ls_jacobian_norm: 0.9740 - val_loss: 3.6607e-04 - val_mse: 2.8670e-04 - val_NMSE: 0.0026 - val_real_MSE: 2.8670e-04 - val_params_MSE: nan - val_ls_jacobian_norm: -1.0000\n",
      "Epoch 9/200\n",
      "3123/3126 [============================>.] - ETA: 0s - loss: 2.4581e-04 - mse: 1.6752e-04 - NMSE: 0.0015 - real_MSE: 1.6752e-04 - params_MSE: nan - ls_jacobian_norm: 0.9800 - tot_time: 0h 3m 17.6s\n",
      "\n",
      "Epoch 9: val_mse did not improve from 0.00023\n",
      " - saving loss histories at /home/rkaushik/Documents/Thesis/MLROM/new_ks/saved_ae/ae_011/checkpoints/LossHistoriesCheckpoint\n",
      "3126/3126 [==============================] - 22s 7ms/step - loss: 2.4582e-04 - mse: 1.6754e-04 - NMSE: 0.0015 - real_MSE: 1.6754e-04 - params_MSE: nan - ls_jacobian_norm: 0.9800 - val_loss: 3.2465e-04 - val_mse: 2.4747e-04 - val_NMSE: 0.0022 - val_real_MSE: 2.4747e-04 - val_params_MSE: nan - val_ls_jacobian_norm: -1.0000\n",
      "Epoch 10/200\n",
      "3125/3126 [============================>.] - ETA: 0s - loss: 2.3676e-04 - mse: 1.6063e-04 - NMSE: 0.0014 - real_MSE: 1.6063e-04 - params_MSE: nan - ls_jacobian_norm: 0.9812 - tot_time: 0h 3m 38.8s\n",
      "\n",
      "Epoch 10: val_mse improved from 0.00023 to 0.00020, saving model to /home/rkaushik/Documents/Thesis/MLROM/new_ks/saved_ae/ae_011/checkpoints/checkpoint\n",
      " - saving loss histories at /home/rkaushik/Documents/Thesis/MLROM/new_ks/saved_ae/ae_011/checkpoints/LossHistoriesCheckpoint\n",
      "3126/3126 [==============================] - 21s 7ms/step - loss: 2.3676e-04 - mse: 1.6063e-04 - NMSE: 0.0014 - real_MSE: 1.6063e-04 - params_MSE: nan - ls_jacobian_norm: 0.9812 - val_loss: 2.7086e-04 - val_mse: 1.9574e-04 - val_NMSE: 0.0018 - val_real_MSE: 1.9574e-04 - val_params_MSE: nan - val_ls_jacobian_norm: -1.0000\n",
      "Epoch 11/200\n",
      "3123/3126 [============================>.] - ETA: 0s - loss: 2.2956e-04 - mse: 1.5543e-04 - NMSE: 0.0014 - real_MSE: 1.5543e-04 - params_MSE: nan - ls_jacobian_norm: 0.9832 - tot_time: 0h 4m 0.8s\n",
      "\n",
      "Epoch 11: val_mse improved from 0.00020 to 0.00019, saving model to /home/rkaushik/Documents/Thesis/MLROM/new_ks/saved_ae/ae_011/checkpoints/checkpoint\n"
     ]
    },
    {
     "name": "stdout",
     "output_type": "stream",
     "text": [
      " - saving loss histories at /home/rkaushik/Documents/Thesis/MLROM/new_ks/saved_ae/ae_011/checkpoints/LossHistoriesCheckpoint\n",
      "3126/3126 [==============================] - 22s 7ms/step - loss: 2.2955e-04 - mse: 1.5543e-04 - NMSE: 0.0014 - real_MSE: 1.5543e-04 - params_MSE: nan - ls_jacobian_norm: 0.9833 - val_loss: 2.6042e-04 - val_mse: 1.8729e-04 - val_NMSE: 0.0017 - val_real_MSE: 1.8729e-04 - val_params_MSE: nan - val_ls_jacobian_norm: -1.0000\n",
      "Epoch 12/200\n",
      "3125/3126 [============================>.] - ETA: 0s - loss: 2.2146e-04 - mse: 1.4920e-04 - NMSE: 0.0013 - real_MSE: 1.4920e-04 - params_MSE: nan - ls_jacobian_norm: 0.9872 - tot_time: 0h 4m 22.4s\n",
      "\n",
      "Epoch 12: val_mse improved from 0.00019 to 0.00017, saving model to /home/rkaushik/Documents/Thesis/MLROM/new_ks/saved_ae/ae_011/checkpoints/checkpoint\n",
      " - saving loss histories at /home/rkaushik/Documents/Thesis/MLROM/new_ks/saved_ae/ae_011/checkpoints/LossHistoriesCheckpoint\n",
      "3126/3126 [==============================] - 22s 7ms/step - loss: 2.2145e-04 - mse: 1.4920e-04 - NMSE: 0.0013 - real_MSE: 1.4920e-04 - params_MSE: nan - ls_jacobian_norm: 0.9872 - val_loss: 2.4567e-04 - val_mse: 1.7433e-04 - val_NMSE: 0.0016 - val_real_MSE: 1.7433e-04 - val_params_MSE: nan - val_ls_jacobian_norm: -1.0000\n",
      "Epoch 13/200\n",
      "3120/3126 [============================>.] - ETA: 0s - loss: 2.1626e-04 - mse: 1.4580e-04 - NMSE: 0.0013 - real_MSE: 1.4580e-04 - params_MSE: nan - ls_jacobian_norm: 0.9934 - tot_time: 0h 4m 44.6s\n",
      "\n",
      "Epoch 13: val_mse improved from 0.00017 to 0.00017, saving model to /home/rkaushik/Documents/Thesis/MLROM/new_ks/saved_ae/ae_011/checkpoints/checkpoint\n",
      " - saving loss histories at /home/rkaushik/Documents/Thesis/MLROM/new_ks/saved_ae/ae_011/checkpoints/LossHistoriesCheckpoint\n",
      "3126/3126 [==============================] - 22s 7ms/step - loss: 2.1622e-04 - mse: 1.4576e-04 - NMSE: 0.0013 - real_MSE: 1.4576e-04 - params_MSE: nan - ls_jacobian_norm: 0.9934 - val_loss: 2.3668e-04 - val_mse: 1.6704e-04 - val_NMSE: 0.0015 - val_real_MSE: 1.6704e-04 - val_params_MSE: nan - val_ls_jacobian_norm: -1.0000\n",
      "Epoch 14/200\n",
      "3123/3126 [============================>.] - ETA: 0s - loss: 2.1180e-04 - mse: 1.4298e-04 - NMSE: 0.0013 - real_MSE: 1.4298e-04 - params_MSE: nan - ls_jacobian_norm: 0.9962 - tot_time: 0h 5m 6.7s\n",
      "\n",
      "Epoch 14: val_mse did not improve from 0.00017\n",
      " - saving loss histories at /home/rkaushik/Documents/Thesis/MLROM/new_ks/saved_ae/ae_011/checkpoints/LossHistoriesCheckpoint\n",
      "3126/3126 [==============================] - 22s 7ms/step - loss: 2.1178e-04 - mse: 1.4296e-04 - NMSE: 0.0013 - real_MSE: 1.4296e-04 - params_MSE: nan - ls_jacobian_norm: 0.9962 - val_loss: 2.5800e-04 - val_mse: 1.8995e-04 - val_NMSE: 0.0017 - val_real_MSE: 1.8995e-04 - val_params_MSE: nan - val_ls_jacobian_norm: -1.0000\n",
      "Epoch 15/200\n",
      "3126/3126 [==============================] - ETA: 0s - loss: 2.0635e-04 - mse: 1.3900e-04 - NMSE: 0.0013 - real_MSE: 1.3900e-04 - params_MSE: nan - ls_jacobian_norm: 0.9987 - tot_time: 0h 5m 27.9s\n",
      "\n",
      "Epoch 15: val_mse did not improve from 0.00017\n",
      " - saving loss histories at /home/rkaushik/Documents/Thesis/MLROM/new_ks/saved_ae/ae_011/checkpoints/LossHistoriesCheckpoint\n",
      "3126/3126 [==============================] - 21s 7ms/step - loss: 2.0635e-04 - mse: 1.3900e-04 - NMSE: 0.0013 - real_MSE: 1.3900e-04 - params_MSE: nan - ls_jacobian_norm: 0.9987 - val_loss: 2.7176e-04 - val_mse: 2.0506e-04 - val_NMSE: 0.0018 - val_real_MSE: 2.0506e-04 - val_params_MSE: nan - val_ls_jacobian_norm: -1.0000\n",
      "Epoch 16/200\n",
      "3121/3126 [============================>.] - ETA: 0s - loss: 2.0540e-04 - mse: 1.3937e-04 - NMSE: 0.0013 - real_MSE: 1.3937e-04 - params_MSE: nan - ls_jacobian_norm: 1.0023 - tot_time: 0h 5m 49.5s\n",
      "\n",
      "Epoch 16: val_mse did not improve from 0.00017\n",
      " - saving loss histories at /home/rkaushik/Documents/Thesis/MLROM/new_ks/saved_ae/ae_011/checkpoints/LossHistoriesCheckpoint\n",
      "3126/3126 [==============================] - 22s 7ms/step - loss: 2.0541e-04 - mse: 1.3939e-04 - NMSE: 0.0013 - real_MSE: 1.3939e-04 - params_MSE: nan - ls_jacobian_norm: 1.0023 - val_loss: 2.3952e-04 - val_mse: 1.7411e-04 - val_NMSE: 0.0016 - val_real_MSE: 1.7411e-04 - val_params_MSE: nan - val_ls_jacobian_norm: -1.0000\n",
      "Epoch 17/200\n",
      "3123/3126 [============================>.] - ETA: 0s - loss: 1.9996e-04 - mse: 1.3512e-04 - NMSE: 0.0012 - real_MSE: 1.3512e-04 - params_MSE: nan - ls_jacobian_norm: 1.0079 - tot_time: 0h 6m 11.3s\n",
      "\n",
      "Epoch 17: val_mse did not improve from 0.00017\n",
      " - saving loss histories at /home/rkaushik/Documents/Thesis/MLROM/new_ks/saved_ae/ae_011/checkpoints/LossHistoriesCheckpoint\n",
      "3126/3126 [==============================] - 22s 7ms/step - loss: 1.9995e-04 - mse: 1.3511e-04 - NMSE: 0.0012 - real_MSE: 1.3511e-04 - params_MSE: nan - ls_jacobian_norm: 1.0079 - val_loss: 2.4008e-04 - val_mse: 1.7579e-04 - val_NMSE: 0.0016 - val_real_MSE: 1.7579e-04 - val_params_MSE: nan - val_ls_jacobian_norm: -1.0000\n",
      "Epoch 18/200\n",
      "3120/3126 [============================>.] - ETA: 0s - loss: 1.9475e-04 - mse: 1.3095e-04 - NMSE: 0.0012 - real_MSE: 1.3095e-04 - params_MSE: nan - ls_jacobian_norm: 1.0080 - tot_time: 0h 6m 32.8s\n",
      "\n",
      "Epoch 18: val_mse did not improve from 0.00017\n",
      " - saving loss histories at /home/rkaushik/Documents/Thesis/MLROM/new_ks/saved_ae/ae_011/checkpoints/LossHistoriesCheckpoint\n",
      "3126/3126 [==============================] - 22s 7ms/step - loss: 1.9480e-04 - mse: 1.3100e-04 - NMSE: 0.0012 - real_MSE: 1.3100e-04 - params_MSE: nan - ls_jacobian_norm: 1.0080 - val_loss: 3.6722e-04 - val_mse: 3.0392e-04 - val_NMSE: 0.0027 - val_real_MSE: 3.0392e-04 - val_params_MSE: nan - val_ls_jacobian_norm: -1.0000\n",
      "Epoch 19/200\n",
      "3121/3126 [============================>.] - ETA: 0s - loss: 1.9576e-04 - mse: 1.3294e-04 - NMSE: 0.0012 - real_MSE: 1.3294e-04 - params_MSE: nan - ls_jacobian_norm: 1.0141 - tot_time: 0h 6m 54.5s\n",
      "\n",
      "Epoch 19: val_mse did not improve from 0.00017\n",
      " - saving loss histories at /home/rkaushik/Documents/Thesis/MLROM/new_ks/saved_ae/ae_011/checkpoints/LossHistoriesCheckpoint\n",
      "3126/3126 [==============================] - 22s 7ms/step - loss: 1.9575e-04 - mse: 1.3292e-04 - NMSE: 0.0012 - real_MSE: 1.3292e-04 - params_MSE: nan - ls_jacobian_norm: 1.0141 - val_loss: 2.6727e-04 - val_mse: 2.0491e-04 - val_NMSE: 0.0018 - val_real_MSE: 2.0491e-04 - val_params_MSE: nan - val_ls_jacobian_norm: -1.0000\n",
      "Epoch 20/200\n",
      "3122/3126 [============================>.] - ETA: 0s - loss: 1.8778e-04 - mse: 1.2581e-04 - NMSE: 0.0011 - real_MSE: 1.2581e-04 - params_MSE: nan - ls_jacobian_norm: 1.0137 - tot_time: 0h 7m 16.3s\n",
      "\n",
      "Epoch 20: val_mse improved from 0.00017 to 0.00014, saving model to /home/rkaushik/Documents/Thesis/MLROM/new_ks/saved_ae/ae_011/checkpoints/checkpoint\n",
      " - saving loss histories at /home/rkaushik/Documents/Thesis/MLROM/new_ks/saved_ae/ae_011/checkpoints/LossHistoriesCheckpoint\n",
      "3126/3126 [==============================] - 22s 7ms/step - loss: 1.8776e-04 - mse: 1.2579e-04 - NMSE: 0.0011 - real_MSE: 1.2579e-04 - params_MSE: nan - ls_jacobian_norm: 1.0137 - val_loss: 2.0259e-04 - val_mse: 1.4100e-04 - val_NMSE: 0.0013 - val_real_MSE: 1.4100e-04 - val_params_MSE: nan - val_ls_jacobian_norm: -1.0000\n",
      "Epoch 21/200\n",
      "3124/3126 [============================>.] - ETA: 0s - loss: 1.8942e-04 - mse: 1.2825e-04 - NMSE: 0.0012 - real_MSE: 1.2825e-04 - params_MSE: nan - ls_jacobian_norm: 1.0167 - tot_time: 0h 7m 38.5s\n",
      "\n",
      "Epoch 21: val_mse did not improve from 0.00014\n",
      " - saving loss histories at /home/rkaushik/Documents/Thesis/MLROM/new_ks/saved_ae/ae_011/checkpoints/LossHistoriesCheckpoint\n",
      "3126/3126 [==============================] - 22s 7ms/step - loss: 1.8942e-04 - mse: 1.2825e-04 - NMSE: 0.0012 - real_MSE: 1.2825e-04 - params_MSE: nan - ls_jacobian_norm: 1.0167 - val_loss: 2.5138e-04 - val_mse: 1.9060e-04 - val_NMSE: 0.0017 - val_real_MSE: 1.9060e-04 - val_params_MSE: nan - val_ls_jacobian_norm: -1.0000\n",
      "Epoch 22/200\n",
      "3123/3126 [============================>.] - ETA: 0s - loss: 1.8443e-04 - mse: 1.2402e-04 - NMSE: 0.0011 - real_MSE: 1.2402e-04 - params_MSE: nan - ls_jacobian_norm: 1.0204 - tot_time: 0h 7m 60.0s\n",
      "\n",
      "Epoch 22: val_mse did not improve from 0.00014\n",
      " - saving loss histories at /home/rkaushik/Documents/Thesis/MLROM/new_ks/saved_ae/ae_011/checkpoints/LossHistoriesCheckpoint\n",
      "3126/3126 [==============================] - 21s 7ms/step - loss: 1.8445e-04 - mse: 1.2404e-04 - NMSE: 0.0011 - real_MSE: 1.2404e-04 - params_MSE: nan - ls_jacobian_norm: 1.0204 - val_loss: 2.8672e-04 - val_mse: 2.2667e-04 - val_NMSE: 0.0020 - val_real_MSE: 2.2667e-04 - val_params_MSE: nan - val_ls_jacobian_norm: -1.0000\n"
     ]
    },
    {
     "name": "stdout",
     "output_type": "stream",
     "text": [
      "Epoch 23/200\n",
      "3120/3126 [============================>.] - ETA: 0s - loss: 1.8329e-04 - mse: 1.2356e-04 - NMSE: 0.0011 - real_MSE: 1.2356e-04 - params_MSE: nan - ls_jacobian_norm: 1.0209 - tot_time: 0h 8m 21.2s\n",
      "\n",
      "Epoch 23: val_mse did not improve from 0.00014\n",
      " - saving loss histories at /home/rkaushik/Documents/Thesis/MLROM/new_ks/saved_ae/ae_011/checkpoints/LossHistoriesCheckpoint\n",
      "3126/3126 [==============================] - 21s 7ms/step - loss: 1.8332e-04 - mse: 1.2359e-04 - NMSE: 0.0011 - real_MSE: 1.2359e-04 - params_MSE: nan - ls_jacobian_norm: 1.0210 - val_loss: 2.4326e-04 - val_mse: 1.8386e-04 - val_NMSE: 0.0017 - val_real_MSE: 1.8386e-04 - val_params_MSE: nan - val_ls_jacobian_norm: -1.0000\n",
      "Epoch 24/200\n",
      "3121/3126 [============================>.] - ETA: 0s - loss: 1.8128e-04 - mse: 1.2217e-04 - NMSE: 0.0011 - real_MSE: 1.2217e-04 - params_MSE: nan - ls_jacobian_norm: 1.0236 - tot_time: 0h 8m 42.7s\n",
      "\n",
      "Epoch 24: val_mse did not improve from 0.00014\n",
      " - saving loss histories at /home/rkaushik/Documents/Thesis/MLROM/new_ks/saved_ae/ae_011/checkpoints/LossHistoriesCheckpoint\n",
      "3126/3126 [==============================] - 22s 7ms/step - loss: 1.8129e-04 - mse: 1.2218e-04 - NMSE: 0.0011 - real_MSE: 1.2218e-04 - params_MSE: nan - ls_jacobian_norm: 1.0236 - val_loss: 2.5362e-04 - val_mse: 1.9482e-04 - val_NMSE: 0.0018 - val_real_MSE: 1.9482e-04 - val_params_MSE: nan - val_ls_jacobian_norm: -1.0000\n",
      "Epoch 25/200\n",
      "3125/3126 [============================>.] - ETA: 0s - loss: 1.7808e-04 - mse: 1.1951e-04 - NMSE: 0.0011 - real_MSE: 1.1951e-04 - params_MSE: nan - ls_jacobian_norm: 1.0264 - tot_time: 0h 9m 4.6s\n",
      "\n",
      "Epoch 25: val_mse did not improve from 0.00014\n",
      " - saving loss histories at /home/rkaushik/Documents/Thesis/MLROM/new_ks/saved_ae/ae_011/checkpoints/LossHistoriesCheckpoint\n",
      "3126/3126 [==============================] - 22s 7ms/step - loss: 1.7808e-04 - mse: 1.1950e-04 - NMSE: 0.0011 - real_MSE: 1.1950e-04 - params_MSE: nan - ls_jacobian_norm: 1.0265 - val_loss: 2.1190e-04 - val_mse: 1.5358e-04 - val_NMSE: 0.0014 - val_real_MSE: 1.5358e-04 - val_params_MSE: nan - val_ls_jacobian_norm: -1.0000\n",
      "Epoch 26/200\n",
      "3124/3126 [============================>.] - ETA: 0s - loss: 1.7773e-04 - mse: 1.1964e-04 - NMSE: 0.0011 - real_MSE: 1.1964e-04 - params_MSE: nan - ls_jacobian_norm: 1.0271 - tot_time: 0h 9m 26.6s\n",
      "\n",
      "Epoch 26: val_mse did not improve from 0.00014\n",
      " - saving loss histories at /home/rkaushik/Documents/Thesis/MLROM/new_ks/saved_ae/ae_011/checkpoints/LossHistoriesCheckpoint\n",
      "3126/3126 [==============================] - 22s 7ms/step - loss: 1.7772e-04 - mse: 1.1963e-04 - NMSE: 0.0011 - real_MSE: 1.1963e-04 - params_MSE: nan - ls_jacobian_norm: 1.0271 - val_loss: 2.3920e-04 - val_mse: 1.8136e-04 - val_NMSE: 0.0016 - val_real_MSE: 1.8136e-04 - val_params_MSE: nan - val_ls_jacobian_norm: -1.0000\n",
      "Epoch 27/200\n",
      "3119/3126 [============================>.] - ETA: 0s - loss: 1.7778e-04 - mse: 1.2016e-04 - NMSE: 0.0011 - real_MSE: 1.2016e-04 - params_MSE: nan - ls_jacobian_norm: 1.0302 - tot_time: 0h 9m 48.3s\n",
      "\n",
      "Epoch 27: val_mse did not improve from 0.00014\n",
      " - saving loss histories at /home/rkaushik/Documents/Thesis/MLROM/new_ks/saved_ae/ae_011/checkpoints/LossHistoriesCheckpoint\n",
      "3126/3126 [==============================] - 22s 7ms/step - loss: 1.7790e-04 - mse: 1.2028e-04 - NMSE: 0.0011 - real_MSE: 1.2028e-04 - params_MSE: nan - ls_jacobian_norm: 1.0302 - val_loss: 3.5539e-04 - val_mse: 2.9803e-04 - val_NMSE: 0.0027 - val_real_MSE: 2.9803e-04 - val_params_MSE: nan - val_ls_jacobian_norm: -1.0000\n",
      "Epoch 28/200\n",
      "3125/3126 [============================>.] - ETA: 0s - loss: 1.7424e-04 - mse: 1.1704e-04 - NMSE: 0.0011 - real_MSE: 1.1704e-04 - params_MSE: nan - ls_jacobian_norm: 1.0334 - tot_time: 0h 10m 9.9s\n",
      "\n",
      "Epoch 28: val_mse did not improve from 0.00014\n",
      " - saving loss histories at /home/rkaushik/Documents/Thesis/MLROM/new_ks/saved_ae/ae_011/checkpoints/LossHistoriesCheckpoint\n",
      "3126/3126 [==============================] - 22s 7ms/step - loss: 1.7424e-04 - mse: 1.1704e-04 - NMSE: 0.0011 - real_MSE: 1.1704e-04 - params_MSE: nan - ls_jacobian_norm: 1.0334 - val_loss: 2.4757e-04 - val_mse: 1.9057e-04 - val_NMSE: 0.0017 - val_real_MSE: 1.9057e-04 - val_params_MSE: nan - val_ls_jacobian_norm: -1.0000\n",
      "Epoch 29/200\n",
      "3123/3126 [============================>.] - ETA: 0s - loss: 1.7356e-04 - mse: 1.1677e-04 - NMSE: 0.0011 - real_MSE: 1.1677e-04 - params_MSE: nan - ls_jacobian_norm: 1.0366 - tot_time: 0h 10m 31.5s\n",
      "\n",
      "Epoch 29: val_mse did not improve from 0.00014\n",
      " - saving loss histories at /home/rkaushik/Documents/Thesis/MLROM/new_ks/saved_ae/ae_011/checkpoints/LossHistoriesCheckpoint\n",
      "3126/3126 [==============================] - 22s 7ms/step - loss: 1.7356e-04 - mse: 1.1677e-04 - NMSE: 0.0011 - real_MSE: 1.1677e-04 - params_MSE: nan - ls_jacobian_norm: 1.0366 - val_loss: 2.0315e-04 - val_mse: 1.4654e-04 - val_NMSE: 0.0013 - val_real_MSE: 1.4654e-04 - val_params_MSE: nan - val_ls_jacobian_norm: -1.0000\n",
      "Epoch 30/200\n",
      "3118/3126 [============================>.] - ETA: 0s - loss: 1.7070e-04 - mse: 1.1428e-04 - NMSE: 0.0010 - real_MSE: 1.1428e-04 - params_MSE: nan - ls_jacobian_norm: 1.0378Restoring model weights from the end of the best epoch: 20.\n",
      " - tot_time: 0h 10m 53.4s\n",
      "\n",
      "Epoch 30: val_mse did not improve from 0.00014\n",
      " - saving loss histories at /home/rkaushik/Documents/Thesis/MLROM/new_ks/saved_ae/ae_011/checkpoints/LossHistoriesCheckpoint\n",
      "3126/3126 [==============================] - 22s 7ms/step - loss: 1.7074e-04 - mse: 1.1431e-04 - NMSE: 0.0010 - real_MSE: 1.1431e-04 - params_MSE: nan - ls_jacobian_norm: 1.0378 - val_loss: 2.1796e-04 - val_mse: 1.6171e-04 - val_NMSE: 0.0015 - val_real_MSE: 1.6171e-04 - val_params_MSE: nan - val_ls_jacobian_norm: -1.0000\n",
      "Epoch 30: early stopping\n",
      "\n",
      "\n",
      "--------------------------------------------------------------------------------\n",
      "\n",
      "---------------------------- LEARNING RATE : 0.0001 ----------------------------\n",
      "\n",
      "--------------------------------------------------------------------------------\n",
      "\n",
      "\n",
      "Epoch 1/200\n",
      "3121/3126 [============================>.] - ETA: 0s - loss: 9.8464e-05 - mse: 3.6765e-05 - NMSE: 3.3088e-04 - real_MSE: 3.6765e-05 - params_MSE: nan - ls_jacobian_norm: 0.9776 - tot_time: 0h 11m 15.5s\n",
      "\n",
      "Epoch 1: val_mse improved from 0.00014 to 0.00004, saving model to /home/rkaushik/Documents/Thesis/MLROM/new_ks/saved_ae/ae_011/checkpoints/checkpoint\n",
      " - saving loss histories at /home/rkaushik/Documents/Thesis/MLROM/new_ks/saved_ae/ae_011/checkpoints/LossHistoriesCheckpoint\n",
      "3126/3126 [==============================] - 22s 7ms/step - loss: 9.8462e-05 - mse: 3.6764e-05 - NMSE: 3.3087e-04 - real_MSE: 3.6764e-05 - params_MSE: nan - ls_jacobian_norm: 0.9776 - val_loss: 1.0032e-04 - val_mse: 3.8546e-05 - val_NMSE: 3.4691e-04 - val_real_MSE: 3.8546e-05 - val_params_MSE: nan - val_ls_jacobian_norm: -1.0000\n",
      "Epoch 2/200\n",
      "3121/3126 [============================>.] - ETA: 0s - loss: 9.6914e-05 - mse: 3.5096e-05 - NMSE: 3.1586e-04 - real_MSE: 3.5096e-05 - params_MSE: nan - ls_jacobian_norm: 0.9250 - tot_time: 0h 11m 37.2s\n",
      "\n",
      "Epoch 2: val_mse improved from 0.00004 to 0.00004, saving model to /home/rkaushik/Documents/Thesis/MLROM/new_ks/saved_ae/ae_011/checkpoints/checkpoint\n",
      " - saving loss histories at /home/rkaushik/Documents/Thesis/MLROM/new_ks/saved_ae/ae_011/checkpoints/LossHistoriesCheckpoint\n",
      "3126/3126 [==============================] - 22s 7ms/step - loss: 9.6912e-05 - mse: 3.5094e-05 - NMSE: 3.1585e-04 - real_MSE: 3.5094e-05 - params_MSE: nan - ls_jacobian_norm: 0.9250 - val_loss: 9.9653e-05 - val_mse: 3.7801e-05 - val_NMSE: 3.4021e-04 - val_real_MSE: 3.7801e-05 - val_params_MSE: nan - val_ls_jacobian_norm: -1.0000\n",
      "Epoch 3/200\n",
      "3125/3126 [============================>.] - ETA: 0s - loss: 9.4629e-05 - mse: 3.2756e-05 - NMSE: 2.9480e-04 - real_MSE: 3.2756e-05 - params_MSE: nan - ls_jacobian_norm: 0.8868 - tot_time: 0h 11m 59.1s\n",
      "\n",
      "Epoch 3: val_mse improved from 0.00004 to 0.00004, saving model to /home/rkaushik/Documents/Thesis/MLROM/new_ks/saved_ae/ae_011/checkpoints/checkpoint\n",
      " - saving loss histories at /home/rkaushik/Documents/Thesis/MLROM/new_ks/saved_ae/ae_011/checkpoints/LossHistoriesCheckpoint\n",
      "3126/3126 [==============================] - 22s 7ms/step - loss: 9.4629e-05 - mse: 3.2756e-05 - NMSE: 2.9480e-04 - real_MSE: 3.2756e-05 - params_MSE: nan - ls_jacobian_norm: 0.8868 - val_loss: 9.7795e-05 - val_mse: 3.5907e-05 - val_NMSE: 3.2316e-04 - val_real_MSE: 3.5907e-05 - val_params_MSE: nan - val_ls_jacobian_norm: -1.0000\n"
     ]
    },
    {
     "name": "stdout",
     "output_type": "stream",
     "text": [
      "Epoch 4/200\n",
      "3124/3126 [============================>.] - ETA: 0s - loss: 9.2788e-05 - mse: 3.0895e-05 - NMSE: 2.7806e-04 - real_MSE: 3.0895e-05 - params_MSE: nan - ls_jacobian_norm: 0.8582 - tot_time: 0h 12m 20.6s\n",
      "\n",
      "Epoch 4: val_mse improved from 0.00004 to 0.00003, saving model to /home/rkaushik/Documents/Thesis/MLROM/new_ks/saved_ae/ae_011/checkpoints/checkpoint\n",
      " - saving loss histories at /home/rkaushik/Documents/Thesis/MLROM/new_ks/saved_ae/ae_011/checkpoints/LossHistoriesCheckpoint\n",
      "3126/3126 [==============================] - 21s 7ms/step - loss: 9.2788e-05 - mse: 3.0895e-05 - NMSE: 2.7806e-04 - real_MSE: 3.0895e-05 - params_MSE: nan - ls_jacobian_norm: 0.8582 - val_loss: 9.6465e-05 - val_mse: 3.4573e-05 - val_NMSE: 3.1115e-04 - val_real_MSE: 3.4573e-05 - val_params_MSE: nan - val_ls_jacobian_norm: -1.0000\n",
      "Epoch 5/200\n",
      "3125/3126 [============================>.] - ETA: 0s - loss: 9.1421e-05 - mse: 2.9533e-05 - NMSE: 2.6580e-04 - real_MSE: 2.9533e-05 - params_MSE: nan - ls_jacobian_norm: 0.8357 - tot_time: 0h 12m 42.5s\n",
      "\n",
      "Epoch 5: val_mse improved from 0.00003 to 0.00003, saving model to /home/rkaushik/Documents/Thesis/MLROM/new_ks/saved_ae/ae_011/checkpoints/checkpoint\n",
      " - saving loss histories at /home/rkaushik/Documents/Thesis/MLROM/new_ks/saved_ae/ae_011/checkpoints/LossHistoriesCheckpoint\n",
      "3126/3126 [==============================] - 22s 7ms/step - loss: 9.1421e-05 - mse: 2.9533e-05 - NMSE: 2.6580e-04 - real_MSE: 2.9533e-05 - params_MSE: nan - ls_jacobian_norm: 0.8357 - val_loss: 9.2506e-05 - val_mse: 3.0633e-05 - val_NMSE: 2.7570e-04 - val_real_MSE: 3.0633e-05 - val_params_MSE: nan - val_ls_jacobian_norm: -1.0000\n",
      "Epoch 6/200\n",
      "3122/3126 [============================>.] - ETA: 0s - loss: 9.0186e-05 - mse: 2.8321e-05 - NMSE: 2.5489e-04 - real_MSE: 2.8321e-05 - params_MSE: nan - ls_jacobian_norm: 0.8173 - tot_time: 0h 13m 4.5s\n",
      "\n",
      "Epoch 6: val_mse improved from 0.00003 to 0.00003, saving model to /home/rkaushik/Documents/Thesis/MLROM/new_ks/saved_ae/ae_011/checkpoints/checkpoint\n",
      " - saving loss histories at /home/rkaushik/Documents/Thesis/MLROM/new_ks/saved_ae/ae_011/checkpoints/LossHistoriesCheckpoint\n",
      "3126/3126 [==============================] - 22s 7ms/step - loss: 9.0186e-05 - mse: 2.8321e-05 - NMSE: 2.5489e-04 - real_MSE: 2.8321e-05 - params_MSE: nan - ls_jacobian_norm: 0.8173 - val_loss: 9.1532e-05 - val_mse: 2.9682e-05 - val_NMSE: 2.6714e-04 - val_real_MSE: 2.9682e-05 - val_params_MSE: nan - val_ls_jacobian_norm: -1.0000\n",
      "Epoch 7/200\n",
      "3122/3126 [============================>.] - ETA: 0s - loss: 8.9104e-05 - mse: 2.7274e-05 - NMSE: 2.4547e-04 - real_MSE: 2.7274e-05 - params_MSE: nan - ls_jacobian_norm: 0.8016 - tot_time: 0h 13m 26.5s\n",
      "\n",
      "Epoch 7: val_mse did not improve from 0.00003\n",
      " - saving loss histories at /home/rkaushik/Documents/Thesis/MLROM/new_ks/saved_ae/ae_011/checkpoints/LossHistoriesCheckpoint\n",
      "3126/3126 [==============================] - 22s 7ms/step - loss: 8.9103e-05 - mse: 2.7273e-05 - NMSE: 2.4546e-04 - real_MSE: 2.7273e-05 - params_MSE: nan - ls_jacobian_norm: 0.8016 - val_loss: 9.2498e-05 - val_mse: 3.0686e-05 - val_NMSE: 2.7617e-04 - val_real_MSE: 3.0686e-05 - val_params_MSE: nan - val_ls_jacobian_norm: -1.0000\n",
      "Epoch 8/200\n",
      "3121/3126 [============================>.] - ETA: 0s - loss: 8.8282e-05 - mse: 2.6498e-05 - NMSE: 2.3848e-04 - real_MSE: 2.6498e-05 - params_MSE: nan - ls_jacobian_norm: 0.7884 - tot_time: 0h 13m 47.6s\n",
      "\n",
      "Epoch 8: val_mse improved from 0.00003 to 0.00003, saving model to /home/rkaushik/Documents/Thesis/MLROM/new_ks/saved_ae/ae_011/checkpoints/checkpoint\n",
      " - saving loss histories at /home/rkaushik/Documents/Thesis/MLROM/new_ks/saved_ae/ae_011/checkpoints/LossHistoriesCheckpoint\n",
      "3126/3126 [==============================] - 21s 7ms/step - loss: 8.8282e-05 - mse: 2.6498e-05 - NMSE: 2.3848e-04 - real_MSE: 2.6498e-05 - params_MSE: nan - ls_jacobian_norm: 0.7884 - val_loss: 9.0145e-05 - val_mse: 2.8388e-05 - val_NMSE: 2.5549e-04 - val_real_MSE: 2.8388e-05 - val_params_MSE: nan - val_ls_jacobian_norm: -1.0000\n",
      "Epoch 9/200\n",
      "3125/3126 [============================>.] - ETA: 0s - loss: 8.7430e-05 - mse: 2.5704e-05 - NMSE: 2.3134e-04 - real_MSE: 2.5704e-05 - params_MSE: nan - ls_jacobian_norm: 0.7771 - tot_time: 0h 14m 8.5s\n",
      "\n",
      "Epoch 9: val_mse did not improve from 0.00003\n",
      " - saving loss histories at /home/rkaushik/Documents/Thesis/MLROM/new_ks/saved_ae/ae_011/checkpoints/LossHistoriesCheckpoint\n",
      "3126/3126 [==============================] - 21s 7ms/step - loss: 8.7430e-05 - mse: 2.5704e-05 - NMSE: 2.3133e-04 - real_MSE: 2.5704e-05 - params_MSE: nan - ls_jacobian_norm: 0.7771 - val_loss: 9.0442e-05 - val_mse: 2.8745e-05 - val_NMSE: 2.5870e-04 - val_real_MSE: 2.8745e-05 - val_params_MSE: nan - val_ls_jacobian_norm: -1.0000\n",
      "Epoch 10/200\n",
      "3124/3126 [============================>.] - ETA: 0s - loss: 8.6675e-05 - mse: 2.5014e-05 - NMSE: 2.2512e-04 - real_MSE: 2.5014e-05 - params_MSE: nan - ls_jacobian_norm: 0.7670 - tot_time: 0h 14m 29.4s\n",
      "\n",
      "Epoch 10: val_mse did not improve from 0.00003\n",
      " - saving loss histories at /home/rkaushik/Documents/Thesis/MLROM/new_ks/saved_ae/ae_011/checkpoints/LossHistoriesCheckpoint\n",
      "3126/3126 [==============================] - 21s 7ms/step - loss: 8.6676e-05 - mse: 2.5014e-05 - NMSE: 2.2512e-04 - real_MSE: 2.5014e-05 - params_MSE: nan - ls_jacobian_norm: 0.7670 - val_loss: 9.0941e-05 - val_mse: 2.9315e-05 - val_NMSE: 2.6383e-04 - val_real_MSE: 2.9315e-05 - val_params_MSE: nan - val_ls_jacobian_norm: -1.0000\n",
      "Epoch 11/200\n",
      "3124/3126 [============================>.] - ETA: 0s - loss: 8.5986e-05 - mse: 2.4396e-05 - NMSE: 2.1956e-04 - real_MSE: 2.4396e-05 - params_MSE: nan - ls_jacobian_norm: 0.7582 - tot_time: 0h 14m 50.6s\n",
      "\n",
      "Epoch 11: val_mse improved from 0.00003 to 0.00003, saving model to /home/rkaushik/Documents/Thesis/MLROM/new_ks/saved_ae/ae_011/checkpoints/checkpoint\n",
      " - saving loss histories at /home/rkaushik/Documents/Thesis/MLROM/new_ks/saved_ae/ae_011/checkpoints/LossHistoriesCheckpoint\n",
      "3126/3126 [==============================] - 21s 7ms/step - loss: 8.5987e-05 - mse: 2.4396e-05 - NMSE: 2.1956e-04 - real_MSE: 2.4396e-05 - params_MSE: nan - ls_jacobian_norm: 0.7582 - val_loss: 8.8532e-05 - val_mse: 2.6981e-05 - val_NMSE: 2.4282e-04 - val_real_MSE: 2.6981e-05 - val_params_MSE: nan - val_ls_jacobian_norm: -1.0000\n",
      "Epoch 12/200\n",
      "3123/3126 [============================>.] - ETA: 0s - loss: 8.5414e-05 - mse: 2.3899e-05 - NMSE: 2.1509e-04 - real_MSE: 2.3899e-05 - params_MSE: nan - ls_jacobian_norm: 0.7504 - tot_time: 0h 15m 11.6s\n",
      "\n",
      "Epoch 12: val_mse improved from 0.00003 to 0.00003, saving model to /home/rkaushik/Documents/Thesis/MLROM/new_ks/saved_ae/ae_011/checkpoints/checkpoint\n",
      " - saving loss histories at /home/rkaushik/Documents/Thesis/MLROM/new_ks/saved_ae/ae_011/checkpoints/LossHistoriesCheckpoint\n",
      "3126/3126 [==============================] - 21s 7ms/step - loss: 8.5413e-05 - mse: 2.3899e-05 - NMSE: 2.1509e-04 - real_MSE: 2.3899e-05 - params_MSE: nan - ls_jacobian_norm: 0.7504 - val_loss: 8.7506e-05 - val_mse: 2.6031e-05 - val_NMSE: 2.3428e-04 - val_real_MSE: 2.6031e-05 - val_params_MSE: nan - val_ls_jacobian_norm: -1.0000\n",
      "Epoch 13/200\n",
      "3119/3126 [============================>.] - ETA: 0s - loss: 8.4869e-05 - mse: 2.3438e-05 - NMSE: 2.1094e-04 - real_MSE: 2.3438e-05 - params_MSE: nan - ls_jacobian_norm: 0.7437 - tot_time: 0h 15m 32.7s\n",
      "\n",
      "Epoch 13: val_mse improved from 0.00003 to 0.00002, saving model to /home/rkaushik/Documents/Thesis/MLROM/new_ks/saved_ae/ae_011/checkpoints/checkpoint\n",
      " - saving loss histories at /home/rkaushik/Documents/Thesis/MLROM/new_ks/saved_ae/ae_011/checkpoints/LossHistoriesCheckpoint\n",
      "3126/3126 [==============================] - 21s 7ms/step - loss: 8.4867e-05 - mse: 2.3436e-05 - NMSE: 2.1092e-04 - real_MSE: 2.3436e-05 - params_MSE: nan - ls_jacobian_norm: 0.7437 - val_loss: 8.6138e-05 - val_mse: 2.4751e-05 - val_NMSE: 2.2276e-04 - val_real_MSE: 2.4751e-05 - val_params_MSE: nan - val_ls_jacobian_norm: -1.0000\n",
      "Epoch 14/200\n",
      "3118/3126 [============================>.] - ETA: 0s - loss: 8.4311e-05 - mse: 2.2967e-05 - NMSE: 2.0670e-04 - real_MSE: 2.2967e-05 - params_MSE: nan - ls_jacobian_norm: 0.7377 - tot_time: 0h 15m 53.7s\n",
      "\n",
      "Epoch 14: val_mse did not improve from 0.00002\n",
      " - saving loss histories at /home/rkaushik/Documents/Thesis/MLROM/new_ks/saved_ae/ae_011/checkpoints/LossHistoriesCheckpoint\n",
      "3126/3126 [==============================] - 21s 7ms/step - loss: 8.4312e-05 - mse: 2.2967e-05 - NMSE: 2.0670e-04 - real_MSE: 2.2967e-05 - params_MSE: nan - ls_jacobian_norm: 0.7377 - val_loss: 8.6644e-05 - val_mse: 2.5344e-05 - val_NMSE: 2.2809e-04 - val_real_MSE: 2.5344e-05 - val_params_MSE: nan - val_ls_jacobian_norm: -1.0000\n"
     ]
    },
    {
     "name": "stdout",
     "output_type": "stream",
     "text": [
      "Epoch 15/200\n",
      "3123/3126 [============================>.] - ETA: 0s - loss: 8.3839e-05 - mse: 2.2585e-05 - NMSE: 2.0326e-04 - real_MSE: 2.2585e-05 - params_MSE: nan - ls_jacobian_norm: 0.7321 - tot_time: 0h 16m 15.0s\n",
      "\n",
      "Epoch 15: val_mse did not improve from 0.00002\n",
      " - saving loss histories at /home/rkaushik/Documents/Thesis/MLROM/new_ks/saved_ae/ae_011/checkpoints/LossHistoriesCheckpoint\n",
      "3126/3126 [==============================] - 21s 7ms/step - loss: 8.3838e-05 - mse: 2.2584e-05 - NMSE: 2.0325e-04 - real_MSE: 2.2584e-05 - params_MSE: nan - ls_jacobian_norm: 0.7321 - val_loss: 8.7670e-05 - val_mse: 2.6460e-05 - val_NMSE: 2.3814e-04 - val_real_MSE: 2.6460e-05 - val_params_MSE: nan - val_ls_jacobian_norm: -1.0000\n",
      "Epoch 16/200\n",
      "3119/3126 [============================>.] - ETA: 0s - loss: 8.3349e-05 - mse: 2.2187e-05 - NMSE: 1.9969e-04 - real_MSE: 2.2187e-05 - params_MSE: nan - ls_jacobian_norm: 0.7271 - tot_time: 0h 16m 36.3s\n",
      "\n",
      "Epoch 16: val_mse did not improve from 0.00002\n",
      " - saving loss histories at /home/rkaushik/Documents/Thesis/MLROM/new_ks/saved_ae/ae_011/checkpoints/LossHistoriesCheckpoint\n",
      "3126/3126 [==============================] - 21s 7ms/step - loss: 8.3349e-05 - mse: 2.2188e-05 - NMSE: 1.9969e-04 - real_MSE: 2.2188e-05 - params_MSE: nan - ls_jacobian_norm: 0.7271 - val_loss: 8.6492e-05 - val_mse: 2.5374e-05 - val_NMSE: 2.2836e-04 - val_real_MSE: 2.5374e-05 - val_params_MSE: nan - val_ls_jacobian_norm: -1.0000\n",
      "Epoch 17/200\n",
      "3125/3126 [============================>.] - ETA: 0s - loss: 8.2986e-05 - mse: 2.1921e-05 - NMSE: 1.9728e-04 - real_MSE: 2.1921e-05 - params_MSE: nan - ls_jacobian_norm: 0.7227 - tot_time: 0h 16m 57.1s\n",
      "\n",
      "Epoch 17: val_mse improved from 0.00002 to 0.00002, saving model to /home/rkaushik/Documents/Thesis/MLROM/new_ks/saved_ae/ae_011/checkpoints/checkpoint\n",
      " - saving loss histories at /home/rkaushik/Documents/Thesis/MLROM/new_ks/saved_ae/ae_011/checkpoints/LossHistoriesCheckpoint\n",
      "3126/3126 [==============================] - 21s 7ms/step - loss: 8.2986e-05 - mse: 2.1921e-05 - NMSE: 1.9728e-04 - real_MSE: 2.1921e-05 - params_MSE: nan - ls_jacobian_norm: 0.7227 - val_loss: 8.5416e-05 - val_mse: 2.4398e-05 - val_NMSE: 2.1958e-04 - val_real_MSE: 2.4398e-05 - val_params_MSE: nan - val_ls_jacobian_norm: -1.0000\n",
      "Epoch 18/200\n",
      "3120/3126 [============================>.] - ETA: 0s - loss: 8.2528e-05 - mse: 2.1561e-05 - NMSE: 1.9405e-04 - real_MSE: 2.1561e-05 - params_MSE: nan - ls_jacobian_norm: 0.7187 - tot_time: 0h 17m 18.4s\n",
      "\n",
      "Epoch 18: val_mse improved from 0.00002 to 0.00002, saving model to /home/rkaushik/Documents/Thesis/MLROM/new_ks/saved_ae/ae_011/checkpoints/checkpoint\n",
      " - saving loss histories at /home/rkaushik/Documents/Thesis/MLROM/new_ks/saved_ae/ae_011/checkpoints/LossHistoriesCheckpoint\n",
      "3126/3126 [==============================] - 21s 7ms/step - loss: 8.2527e-05 - mse: 2.1559e-05 - NMSE: 1.9403e-04 - real_MSE: 2.1559e-05 - params_MSE: nan - ls_jacobian_norm: 0.7187 - val_loss: 8.4508e-05 - val_mse: 2.3589e-05 - val_NMSE: 2.1230e-04 - val_real_MSE: 2.3589e-05 - val_params_MSE: nan - val_ls_jacobian_norm: -1.0000\n",
      "Epoch 19/200\n",
      "3124/3126 [============================>.] - ETA: 0s - loss: 8.2098e-05 - mse: 2.1230e-05 - NMSE: 1.9107e-04 - real_MSE: 2.1230e-05 - params_MSE: nan - ls_jacobian_norm: 0.7149 - tot_time: 0h 17m 39.6s\n",
      "\n",
      "Epoch 19: val_mse improved from 0.00002 to 0.00002, saving model to /home/rkaushik/Documents/Thesis/MLROM/new_ks/saved_ae/ae_011/checkpoints/checkpoint\n",
      " - saving loss histories at /home/rkaushik/Documents/Thesis/MLROM/new_ks/saved_ae/ae_011/checkpoints/LossHistoriesCheckpoint\n",
      "3126/3126 [==============================] - 21s 7ms/step - loss: 8.2098e-05 - mse: 2.1230e-05 - NMSE: 1.9107e-04 - real_MSE: 2.1230e-05 - params_MSE: nan - ls_jacobian_norm: 0.7149 - val_loss: 8.4375e-05 - val_mse: 2.3559e-05 - val_NMSE: 2.1203e-04 - val_real_MSE: 2.3559e-05 - val_params_MSE: nan - val_ls_jacobian_norm: -1.0000\n",
      "Epoch 20/200\n",
      "3120/3126 [============================>.] - ETA: 0s - loss: 8.1705e-05 - mse: 2.0937e-05 - NMSE: 1.8844e-04 - real_MSE: 2.0937e-05 - params_MSE: nan - ls_jacobian_norm: 0.7113 - tot_time: 0h 18m 0.8s\n",
      "\n",
      "Epoch 20: val_mse did not improve from 0.00002\n",
      " - saving loss histories at /home/rkaushik/Documents/Thesis/MLROM/new_ks/saved_ae/ae_011/checkpoints/LossHistoriesCheckpoint\n",
      "3126/3126 [==============================] - 21s 7ms/step - loss: 8.1703e-05 - mse: 2.0936e-05 - NMSE: 1.8842e-04 - real_MSE: 2.0936e-05 - params_MSE: nan - ls_jacobian_norm: 0.7113 - val_loss: 8.5288e-05 - val_mse: 2.4574e-05 - val_NMSE: 2.2116e-04 - val_real_MSE: 2.4574e-05 - val_params_MSE: nan - val_ls_jacobian_norm: -1.0000\n",
      "Epoch 21/200\n",
      "3125/3126 [============================>.] - ETA: 0s - loss: 8.1431e-05 - mse: 2.0768e-05 - NMSE: 1.8691e-04 - real_MSE: 2.0768e-05 - params_MSE: nan - ls_jacobian_norm: 0.7084 - tot_time: 0h 18m 22.0s\n",
      "\n",
      "Epoch 21: val_mse improved from 0.00002 to 0.00002, saving model to /home/rkaushik/Documents/Thesis/MLROM/new_ks/saved_ae/ae_011/checkpoints/checkpoint\n",
      " - saving loss histories at /home/rkaushik/Documents/Thesis/MLROM/new_ks/saved_ae/ae_011/checkpoints/LossHistoriesCheckpoint\n",
      "3126/3126 [==============================] - 21s 7ms/step - loss: 8.1430e-05 - mse: 2.0768e-05 - NMSE: 1.8691e-04 - real_MSE: 2.0768e-05 - params_MSE: nan - ls_jacobian_norm: 0.7084 - val_loss: 8.3416e-05 - val_mse: 2.2808e-05 - val_NMSE: 2.0527e-04 - val_real_MSE: 2.2808e-05 - val_params_MSE: nan - val_ls_jacobian_norm: -1.0000\n",
      "Epoch 22/200\n",
      "3125/3126 [============================>.] - ETA: 0s - loss: 8.1057e-05 - mse: 2.0500e-05 - NMSE: 1.8450e-04 - real_MSE: 2.0500e-05 - params_MSE: nan - ls_jacobian_norm: 0.7056 - tot_time: 0h 18m 43.0s\n",
      "\n",
      "Epoch 22: val_mse improved from 0.00002 to 0.00002, saving model to /home/rkaushik/Documents/Thesis/MLROM/new_ks/saved_ae/ae_011/checkpoints/checkpoint\n",
      " - saving loss histories at /home/rkaushik/Documents/Thesis/MLROM/new_ks/saved_ae/ae_011/checkpoints/LossHistoriesCheckpoint\n",
      "3126/3126 [==============================] - 21s 7ms/step - loss: 8.1057e-05 - mse: 2.0500e-05 - NMSE: 1.8450e-04 - real_MSE: 2.0500e-05 - params_MSE: nan - ls_jacobian_norm: 0.7056 - val_loss: 8.2291e-05 - val_mse: 2.1785e-05 - val_NMSE: 1.9607e-04 - val_real_MSE: 2.1785e-05 - val_params_MSE: nan - val_ls_jacobian_norm: -1.0000\n",
      "Epoch 23/200\n",
      "3119/3126 [============================>.] - ETA: 0s - loss: 8.0747e-05 - mse: 2.0295e-05 - NMSE: 1.8266e-04 - real_MSE: 2.0295e-05 - params_MSE: nan - ls_jacobian_norm: 0.7030 - tot_time: 0h 19m 4.3s\n",
      "\n",
      "Epoch 23: val_mse did not improve from 0.00002\n",
      " - saving loss histories at /home/rkaushik/Documents/Thesis/MLROM/new_ks/saved_ae/ae_011/checkpoints/LossHistoriesCheckpoint\n",
      "3126/3126 [==============================] - 21s 7ms/step - loss: 8.0749e-05 - mse: 2.0297e-05 - NMSE: 1.8267e-04 - real_MSE: 2.0297e-05 - params_MSE: nan - ls_jacobian_norm: 0.7030 - val_loss: 8.3411e-05 - val_mse: 2.3011e-05 - val_NMSE: 2.0710e-04 - val_real_MSE: 2.3011e-05 - val_params_MSE: nan - val_ls_jacobian_norm: -1.0000\n",
      "Epoch 24/200\n",
      "3120/3126 [============================>.] - ETA: 0s - loss: 8.0387e-05 - mse: 2.0041e-05 - NMSE: 1.8037e-04 - real_MSE: 2.0041e-05 - params_MSE: nan - ls_jacobian_norm: 0.7006 - tot_time: 0h 19m 25.9s\n",
      "\n",
      "Epoch 24: val_mse did not improve from 0.00002\n",
      " - saving loss histories at /home/rkaushik/Documents/Thesis/MLROM/new_ks/saved_ae/ae_011/checkpoints/LossHistoriesCheckpoint\n",
      "3126/3126 [==============================] - 22s 7ms/step - loss: 8.0385e-05 - mse: 2.0038e-05 - NMSE: 1.8035e-04 - real_MSE: 2.0038e-05 - params_MSE: nan - ls_jacobian_norm: 0.7006 - val_loss: 8.2434e-05 - val_mse: 2.2139e-05 - val_NMSE: 1.9925e-04 - val_real_MSE: 2.2139e-05 - val_params_MSE: nan - val_ls_jacobian_norm: -1.0000\n",
      "Epoch 25/200\n",
      "3121/3126 [============================>.] - ETA: 0s - loss: 8.0106e-05 - mse: 1.9866e-05 - NMSE: 1.7879e-04 - real_MSE: 1.9866e-05 - params_MSE: nan - ls_jacobian_norm: 0.6984 - tot_time: 0h 19m 46.9s\n",
      "\n",
      "Epoch 25: val_mse did not improve from 0.00002\n",
      " - saving loss histories at /home/rkaushik/Documents/Thesis/MLROM/new_ks/saved_ae/ae_011/checkpoints/LossHistoriesCheckpoint\n",
      "3126/3126 [==============================] - 21s 7ms/step - loss: 8.0104e-05 - mse: 1.9864e-05 - NMSE: 1.7878e-04 - real_MSE: 1.9864e-05 - params_MSE: nan - ls_jacobian_norm: 0.6984 - val_loss: 8.2870e-05 - val_mse: 2.2683e-05 - val_NMSE: 2.0414e-04 - val_real_MSE: 2.2683e-05 - val_params_MSE: nan - val_ls_jacobian_norm: -1.0000\n"
     ]
    },
    {
     "name": "stdout",
     "output_type": "stream",
     "text": [
      "Epoch 26/200\n",
      "3122/3126 [============================>.] - ETA: 0s - loss: 7.9874e-05 - mse: 1.9741e-05 - NMSE: 1.7767e-04 - real_MSE: 1.9741e-05 - params_MSE: nan - ls_jacobian_norm: 0.6966 - tot_time: 0h 20m 7.5s\n",
      "\n",
      "Epoch 26: val_mse improved from 0.00002 to 0.00002, saving model to /home/rkaushik/Documents/Thesis/MLROM/new_ks/saved_ae/ae_011/checkpoints/checkpoint\n",
      " - saving loss histories at /home/rkaushik/Documents/Thesis/MLROM/new_ks/saved_ae/ae_011/checkpoints/LossHistoriesCheckpoint\n",
      "3126/3126 [==============================] - 21s 7ms/step - loss: 7.9874e-05 - mse: 1.9742e-05 - NMSE: 1.7767e-04 - real_MSE: 1.9742e-05 - params_MSE: nan - ls_jacobian_norm: 0.6966 - val_loss: 8.1677e-05 - val_mse: 2.1598e-05 - val_NMSE: 1.9438e-04 - val_real_MSE: 2.1598e-05 - val_params_MSE: nan - val_ls_jacobian_norm: -1.0000\n",
      "Epoch 27/200\n",
      "3126/3126 [==============================] - ETA: 0s - loss: 7.9563e-05 - mse: 1.9537e-05 - NMSE: 1.7583e-04 - real_MSE: 1.9537e-05 - params_MSE: nan - ls_jacobian_norm: 0.6948 - tot_time: 0h 20m 28.8s\n",
      "\n",
      "Epoch 27: val_mse did not improve from 0.00002\n",
      " - saving loss histories at /home/rkaushik/Documents/Thesis/MLROM/new_ks/saved_ae/ae_011/checkpoints/LossHistoriesCheckpoint\n",
      "3126/3126 [==============================] - 21s 7ms/step - loss: 7.9563e-05 - mse: 1.9537e-05 - NMSE: 1.7583e-04 - real_MSE: 1.9537e-05 - params_MSE: nan - ls_jacobian_norm: 0.6948 - val_loss: 8.2229e-05 - val_mse: 2.2257e-05 - val_NMSE: 2.0031e-04 - val_real_MSE: 2.2257e-05 - val_params_MSE: nan - val_ls_jacobian_norm: -1.0000\n",
      "Epoch 28/200\n",
      "3124/3126 [============================>.] - ETA: 0s - loss: 7.9336e-05 - mse: 1.9416e-05 - NMSE: 1.7475e-04 - real_MSE: 1.9416e-05 - params_MSE: nan - ls_jacobian_norm: 0.6930 - tot_time: 0h 20m 50.1s\n",
      "\n",
      "Epoch 28: val_mse did not improve from 0.00002\n",
      " - saving loss histories at /home/rkaushik/Documents/Thesis/MLROM/new_ks/saved_ae/ae_011/checkpoints/LossHistoriesCheckpoint\n",
      "3126/3126 [==============================] - 21s 7ms/step - loss: 7.9336e-05 - mse: 1.9416e-05 - NMSE: 1.7474e-04 - real_MSE: 1.9416e-05 - params_MSE: nan - ls_jacobian_norm: 0.6930 - val_loss: 8.2323e-05 - val_mse: 2.2456e-05 - val_NMSE: 2.0210e-04 - val_real_MSE: 2.2456e-05 - val_params_MSE: nan - val_ls_jacobian_norm: -1.0000\n",
      "Epoch 29/200\n",
      "3119/3126 [============================>.] - ETA: 0s - loss: 7.9050e-05 - mse: 1.9237e-05 - NMSE: 1.7313e-04 - real_MSE: 1.9237e-05 - params_MSE: nan - ls_jacobian_norm: 0.6917 - tot_time: 0h 21m 10.9s\n",
      "\n",
      "Epoch 29: val_mse improved from 0.00002 to 0.00002, saving model to /home/rkaushik/Documents/Thesis/MLROM/new_ks/saved_ae/ae_011/checkpoints/checkpoint\n",
      " - saving loss histories at /home/rkaushik/Documents/Thesis/MLROM/new_ks/saved_ae/ae_011/checkpoints/LossHistoriesCheckpoint\n",
      "3126/3126 [==============================] - 21s 7ms/step - loss: 7.9049e-05 - mse: 1.9236e-05 - NMSE: 1.7312e-04 - real_MSE: 1.9236e-05 - params_MSE: nan - ls_jacobian_norm: 0.6916 - val_loss: 8.1218e-05 - val_mse: 2.1455e-05 - val_NMSE: 1.9309e-04 - val_real_MSE: 2.1455e-05 - val_params_MSE: nan - val_ls_jacobian_norm: -1.0000\n",
      "Epoch 30/200\n",
      "3125/3126 [============================>.] - ETA: 0s - loss: 7.8852e-05 - mse: 1.9145e-05 - NMSE: 1.7230e-04 - real_MSE: 1.9145e-05 - params_MSE: nan - ls_jacobian_norm: 0.6902 - tot_time: 0h 21m 32.2s\n",
      "\n",
      "Epoch 30: val_mse did not improve from 0.00002\n",
      " - saving loss histories at /home/rkaushik/Documents/Thesis/MLROM/new_ks/saved_ae/ae_011/checkpoints/LossHistoriesCheckpoint\n",
      "3126/3126 [==============================] - 21s 7ms/step - loss: 7.8852e-05 - mse: 1.9145e-05 - NMSE: 1.7230e-04 - real_MSE: 1.9145e-05 - params_MSE: nan - ls_jacobian_norm: 0.6902 - val_loss: 8.1253e-05 - val_mse: 2.1600e-05 - val_NMSE: 1.9440e-04 - val_real_MSE: 2.1600e-05 - val_params_MSE: nan - val_ls_jacobian_norm: -1.0000\n",
      "Epoch 31/200\n",
      "3125/3126 [============================>.] - ETA: 0s - loss: 7.8512e-05 - mse: 1.8909e-05 - NMSE: 1.7018e-04 - real_MSE: 1.8909e-05 - params_MSE: nan - ls_jacobian_norm: 0.6888 - tot_time: 0h 21m 53.0s\n",
      "\n",
      "Epoch 31: val_mse did not improve from 0.00002\n",
      " - saving loss histories at /home/rkaushik/Documents/Thesis/MLROM/new_ks/saved_ae/ae_011/checkpoints/LossHistoriesCheckpoint\n",
      "3126/3126 [==============================] - 21s 7ms/step - loss: 7.8512e-05 - mse: 1.8909e-05 - NMSE: 1.7018e-04 - real_MSE: 1.8909e-05 - params_MSE: nan - ls_jacobian_norm: 0.6888 - val_loss: 8.1347e-05 - val_mse: 2.1796e-05 - val_NMSE: 1.9616e-04 - val_real_MSE: 2.1796e-05 - val_params_MSE: nan - val_ls_jacobian_norm: -1.0000\n",
      "Epoch 32/200\n",
      "3124/3126 [============================>.] - ETA: 0s - loss: 7.8306e-05 - mse: 1.8808e-05 - NMSE: 1.6927e-04 - real_MSE: 1.8808e-05 - params_MSE: nan - ls_jacobian_norm: 0.6875 - tot_time: 0h 22m 14.2s\n",
      "\n",
      "Epoch 32: val_mse improved from 0.00002 to 0.00002, saving model to /home/rkaushik/Documents/Thesis/MLROM/new_ks/saved_ae/ae_011/checkpoints/checkpoint\n",
      " - saving loss histories at /home/rkaushik/Documents/Thesis/MLROM/new_ks/saved_ae/ae_011/checkpoints/LossHistoriesCheckpoint\n",
      "3126/3126 [==============================] - 21s 7ms/step - loss: 7.8306e-05 - mse: 1.8807e-05 - NMSE: 1.6927e-04 - real_MSE: 1.8807e-05 - params_MSE: nan - ls_jacobian_norm: 0.6875 - val_loss: 8.0203e-05 - val_mse: 2.0760e-05 - val_NMSE: 1.8683e-04 - val_real_MSE: 2.0760e-05 - val_params_MSE: nan - val_ls_jacobian_norm: -1.0000\n",
      "Epoch 33/200\n",
      "3119/3126 [============================>.] - ETA: 0s - loss: 7.8075e-05 - mse: 1.8681e-05 - NMSE: 1.6813e-04 - real_MSE: 1.8681e-05 - params_MSE: nan - ls_jacobian_norm: 0.6864 - tot_time: 0h 22m 35.4s\n",
      "\n",
      "Epoch 33: val_mse improved from 0.00002 to 0.00002, saving model to /home/rkaushik/Documents/Thesis/MLROM/new_ks/saved_ae/ae_011/checkpoints/checkpoint\n",
      " - saving loss histories at /home/rkaushik/Documents/Thesis/MLROM/new_ks/saved_ae/ae_011/checkpoints/LossHistoriesCheckpoint\n",
      "3126/3126 [==============================] - 21s 7ms/step - loss: 7.8075e-05 - mse: 1.8681e-05 - NMSE: 1.6813e-04 - real_MSE: 1.8681e-05 - params_MSE: nan - ls_jacobian_norm: 0.6863 - val_loss: 7.9026e-05 - val_mse: 1.9684e-05 - val_NMSE: 1.7715e-04 - val_real_MSE: 1.9684e-05 - val_params_MSE: nan - val_ls_jacobian_norm: -1.0000\n",
      "Epoch 34/200\n",
      "3121/3126 [============================>.] - ETA: 0s - loss: 7.7820e-05 - mse: 1.8530e-05 - NMSE: 1.6677e-04 - real_MSE: 1.8530e-05 - params_MSE: nan - ls_jacobian_norm: 0.6853 - tot_time: 0h 22m 56.8s\n",
      "\n",
      "Epoch 34: val_mse did not improve from 0.00002\n",
      " - saving loss histories at /home/rkaushik/Documents/Thesis/MLROM/new_ks/saved_ae/ae_011/checkpoints/LossHistoriesCheckpoint\n",
      "3126/3126 [==============================] - 21s 7ms/step - loss: 7.7819e-05 - mse: 1.8529e-05 - NMSE: 1.6676e-04 - real_MSE: 1.8529e-05 - params_MSE: nan - ls_jacobian_norm: 0.6853 - val_loss: 8.0856e-05 - val_mse: 2.1614e-05 - val_NMSE: 1.9452e-04 - val_real_MSE: 2.1614e-05 - val_params_MSE: nan - val_ls_jacobian_norm: -1.0000\n",
      "Epoch 35/200\n",
      "3121/3126 [============================>.] - ETA: 0s - loss: 7.7610e-05 - mse: 1.8423e-05 - NMSE: 1.6580e-04 - real_MSE: 1.8423e-05 - params_MSE: nan - ls_jacobian_norm: 0.6843 - tot_time: 0h 23m 18.2s\n",
      "\n",
      "Epoch 35: val_mse did not improve from 0.00002\n",
      " - saving loss histories at /home/rkaushik/Documents/Thesis/MLROM/new_ks/saved_ae/ae_011/checkpoints/LossHistoriesCheckpoint\n",
      "3126/3126 [==============================] - 21s 7ms/step - loss: 7.7611e-05 - mse: 1.8424e-05 - NMSE: 1.6581e-04 - real_MSE: 1.8424e-05 - params_MSE: nan - ls_jacobian_norm: 0.6843 - val_loss: 7.9863e-05 - val_mse: 2.0727e-05 - val_NMSE: 1.8654e-04 - val_real_MSE: 2.0727e-05 - val_params_MSE: nan - val_ls_jacobian_norm: -1.0000\n",
      "Epoch 36/200\n",
      "3120/3126 [============================>.] - ETA: 0s - loss: 7.7455e-05 - mse: 1.8370e-05 - NMSE: 1.6532e-04 - real_MSE: 1.8370e-05 - params_MSE: nan - ls_jacobian_norm: 0.6833 - tot_time: 0h 23m 39.2s\n",
      "\n",
      "Epoch 36: val_mse did not improve from 0.00002\n",
      " - saving loss histories at /home/rkaushik/Documents/Thesis/MLROM/new_ks/saved_ae/ae_011/checkpoints/LossHistoriesCheckpoint\n",
      "3126/3126 [==============================] - 21s 7ms/step - loss: 7.7453e-05 - mse: 1.8368e-05 - NMSE: 1.6531e-04 - real_MSE: 1.8368e-05 - params_MSE: nan - ls_jacobian_norm: 0.6833 - val_loss: 7.8793e-05 - val_mse: 1.9763e-05 - val_NMSE: 1.7787e-04 - val_real_MSE: 1.9763e-05 - val_params_MSE: nan - val_ls_jacobian_norm: -1.0000\n"
     ]
    },
    {
     "name": "stdout",
     "output_type": "stream",
     "text": [
      "Epoch 37/200\n",
      "3123/3126 [============================>.] - ETA: 0s - loss: 7.7174e-05 - mse: 1.8192e-05 - NMSE: 1.6372e-04 - real_MSE: 1.8192e-05 - params_MSE: nan - ls_jacobian_norm: 0.6826 - tot_time: 0h 23m 59.9s\n",
      "\n",
      "Epoch 37: val_mse did not improve from 0.00002\n",
      " - saving loss histories at /home/rkaushik/Documents/Thesis/MLROM/new_ks/saved_ae/ae_011/checkpoints/LossHistoriesCheckpoint\n",
      "3126/3126 [==============================] - 21s 7ms/step - loss: 7.7175e-05 - mse: 1.8192e-05 - NMSE: 1.6373e-04 - real_MSE: 1.8192e-05 - params_MSE: nan - ls_jacobian_norm: 0.6826 - val_loss: 8.0469e-05 - val_mse: 2.1537e-05 - val_NMSE: 1.9383e-04 - val_real_MSE: 2.1537e-05 - val_params_MSE: nan - val_ls_jacobian_norm: -1.0000\n",
      "Epoch 38/200\n",
      "3121/3126 [============================>.] - ETA: 0s - loss: 7.7008e-05 - mse: 1.8125e-05 - NMSE: 1.6313e-04 - real_MSE: 1.8125e-05 - params_MSE: nan - ls_jacobian_norm: 0.6818 - tot_time: 0h 24m 20.9s\n",
      "\n",
      "Epoch 38: val_mse did not improve from 0.00002\n",
      " - saving loss histories at /home/rkaushik/Documents/Thesis/MLROM/new_ks/saved_ae/ae_011/checkpoints/LossHistoriesCheckpoint\n",
      "3126/3126 [==============================] - 21s 7ms/step - loss: 7.7008e-05 - mse: 1.8125e-05 - NMSE: 1.6313e-04 - real_MSE: 1.8125e-05 - params_MSE: nan - ls_jacobian_norm: 0.6818 - val_loss: 7.9118e-05 - val_mse: 2.0286e-05 - val_NMSE: 1.8257e-04 - val_real_MSE: 2.0286e-05 - val_params_MSE: nan - val_ls_jacobian_norm: -1.0000\n",
      "Epoch 39/200\n",
      "3126/3126 [==============================] - ETA: 0s - loss: 7.6853e-05 - mse: 1.8071e-05 - NMSE: 1.6264e-04 - real_MSE: 1.8071e-05 - params_MSE: nan - ls_jacobian_norm: 0.6812 - tot_time: 0h 24m 41.8s\n",
      "\n",
      "Epoch 39: val_mse did not improve from 0.00002\n",
      " - saving loss histories at /home/rkaushik/Documents/Thesis/MLROM/new_ks/saved_ae/ae_011/checkpoints/LossHistoriesCheckpoint\n",
      "3126/3126 [==============================] - 21s 7ms/step - loss: 7.6853e-05 - mse: 1.8071e-05 - NMSE: 1.6264e-04 - real_MSE: 1.8071e-05 - params_MSE: nan - ls_jacobian_norm: 0.6812 - val_loss: 7.9409e-05 - val_mse: 2.0677e-05 - val_NMSE: 1.8609e-04 - val_real_MSE: 2.0677e-05 - val_params_MSE: nan - val_ls_jacobian_norm: -1.0000\n",
      "Epoch 40/200\n",
      "3122/3126 [============================>.] - ETA: 0s - loss: 7.6650e-05 - mse: 1.7968e-05 - NMSE: 1.6171e-04 - real_MSE: 1.7968e-05 - params_MSE: nan - ls_jacobian_norm: 0.6805 - tot_time: 0h 25m 3.0s\n",
      "\n",
      "Epoch 40: val_mse improved from 0.00002 to 0.00002, saving model to /home/rkaushik/Documents/Thesis/MLROM/new_ks/saved_ae/ae_011/checkpoints/checkpoint\n",
      " - saving loss histories at /home/rkaushik/Documents/Thesis/MLROM/new_ks/saved_ae/ae_011/checkpoints/LossHistoriesCheckpoint\n",
      "3126/3126 [==============================] - 21s 7ms/step - loss: 7.6650e-05 - mse: 1.7968e-05 - NMSE: 1.6171e-04 - real_MSE: 1.7968e-05 - params_MSE: nan - ls_jacobian_norm: 0.6804 - val_loss: 7.8024e-05 - val_mse: 1.9393e-05 - val_NMSE: 1.7453e-04 - val_real_MSE: 1.9393e-05 - val_params_MSE: nan - val_ls_jacobian_norm: -1.0000\n",
      "Epoch 41/200\n",
      "3123/3126 [============================>.] - ETA: 0s - loss: 7.6473e-05 - mse: 1.7890e-05 - NMSE: 1.6101e-04 - real_MSE: 1.7890e-05 - params_MSE: nan - ls_jacobian_norm: 0.6800 - tot_time: 0h 25m 24.5s\n",
      "\n",
      "Epoch 41: val_mse did not improve from 0.00002\n",
      " - saving loss histories at /home/rkaushik/Documents/Thesis/MLROM/new_ks/saved_ae/ae_011/checkpoints/LossHistoriesCheckpoint\n",
      "3126/3126 [==============================] - 22s 7ms/step - loss: 7.6474e-05 - mse: 1.7890e-05 - NMSE: 1.6101e-04 - real_MSE: 1.7890e-05 - params_MSE: nan - ls_jacobian_norm: 0.6800 - val_loss: 7.9878e-05 - val_mse: 2.1343e-05 - val_NMSE: 1.9208e-04 - val_real_MSE: 2.1343e-05 - val_params_MSE: nan - val_ls_jacobian_norm: -1.0000\n",
      "Epoch 42/200\n",
      "3119/3126 [============================>.] - ETA: 0s - loss: 7.6231e-05 - mse: 1.7742e-05 - NMSE: 1.5968e-04 - real_MSE: 1.7742e-05 - params_MSE: nan - ls_jacobian_norm: 0.6792 - tot_time: 0h 25m 45.6s\n",
      "\n",
      "Epoch 42: val_mse did not improve from 0.00002\n",
      " - saving loss histories at /home/rkaushik/Documents/Thesis/MLROM/new_ks/saved_ae/ae_011/checkpoints/LossHistoriesCheckpoint\n",
      "3126/3126 [==============================] - 21s 7ms/step - loss: 7.6233e-05 - mse: 1.7745e-05 - NMSE: 1.5970e-04 - real_MSE: 1.7745e-05 - params_MSE: nan - ls_jacobian_norm: 0.6792 - val_loss: 7.8730e-05 - val_mse: 2.0285e-05 - val_NMSE: 1.8256e-04 - val_real_MSE: 2.0285e-05 - val_params_MSE: nan - val_ls_jacobian_norm: -1.0000\n",
      "Epoch 43/200\n",
      "3120/3126 [============================>.] - ETA: 0s - loss: 7.6090e-05 - mse: 1.7696e-05 - NMSE: 1.5926e-04 - real_MSE: 1.7696e-05 - params_MSE: nan - ls_jacobian_norm: 0.6786Restoring model weights from the end of the best epoch: 33.\n",
      " - tot_time: 0h 26m 6.9s\n",
      "\n",
      "Epoch 43: val_mse did not improve from 0.00002\n",
      " - saving loss histories at /home/rkaushik/Documents/Thesis/MLROM/new_ks/saved_ae/ae_011/checkpoints/LossHistoriesCheckpoint\n",
      "3126/3126 [==============================] - 21s 7ms/step - loss: 7.6090e-05 - mse: 1.7696e-05 - NMSE: 1.5927e-04 - real_MSE: 1.7696e-05 - params_MSE: nan - ls_jacobian_norm: 0.6786 - val_loss: 7.9042e-05 - val_mse: 2.0697e-05 - val_NMSE: 1.8627e-04 - val_real_MSE: 2.0697e-05 - val_params_MSE: nan - val_ls_jacobian_norm: -1.0000\n",
      "Epoch 43: early stopping\n",
      "\n",
      "\n",
      "--------------------------------------------------------------------------------\n",
      "\n",
      "---------------------------- LEARNING RATE : 1e-05 -----------------------------\n",
      "\n",
      "--------------------------------------------------------------------------------\n",
      "\n",
      "\n",
      "Epoch 1/200\n",
      "3126/3126 [==============================] - ETA: 0s - loss: 7.4051e-05 - mse: 1.4708e-05 - NMSE: 1.3237e-04 - real_MSE: 1.4708e-05 - params_MSE: nan - ls_jacobian_norm: 0.6851 - tot_time: 0h 26m 28.4s\n",
      "\n",
      "Epoch 1: val_mse improved from 0.00002 to 0.00002, saving model to /home/rkaushik/Documents/Thesis/MLROM/new_ks/saved_ae/ae_011/checkpoints/checkpoint\n",
      " - saving loss histories at /home/rkaushik/Documents/Thesis/MLROM/new_ks/saved_ae/ae_011/checkpoints/LossHistoriesCheckpoint\n",
      "3126/3126 [==============================] - 21s 7ms/step - loss: 7.4051e-05 - mse: 1.4708e-05 - NMSE: 1.3237e-04 - real_MSE: 1.4708e-05 - params_MSE: nan - ls_jacobian_norm: 0.6851 - val_loss: 7.5158e-05 - val_mse: 1.5816e-05 - val_NMSE: 1.4234e-04 - val_real_MSE: 1.5816e-05 - val_params_MSE: nan - val_ls_jacobian_norm: -1.0000\n",
      "Epoch 2/200\n",
      "3124/3126 [============================>.] - ETA: 0s - loss: 7.4076e-05 - mse: 1.4736e-05 - NMSE: 1.3262e-04 - real_MSE: 1.4736e-05 - params_MSE: nan - ls_jacobian_norm: 0.6839 - tot_time: 0h 26m 49.5s\n",
      "\n",
      "Epoch 2: val_mse did not improve from 0.00002\n",
      " - saving loss histories at /home/rkaushik/Documents/Thesis/MLROM/new_ks/saved_ae/ae_011/checkpoints/LossHistoriesCheckpoint\n",
      "3126/3126 [==============================] - 21s 7ms/step - loss: 7.4076e-05 - mse: 1.4736e-05 - NMSE: 1.3262e-04 - real_MSE: 1.4736e-05 - params_MSE: nan - ls_jacobian_norm: 0.6839 - val_loss: 7.5241e-05 - val_mse: 1.5904e-05 - val_NMSE: 1.4314e-04 - val_real_MSE: 1.5904e-05 - val_params_MSE: nan - val_ls_jacobian_norm: -1.0000\n",
      "Epoch 3/200\n",
      "3119/3126 [============================>.] - ETA: 0s - loss: 7.4042e-05 - mse: 1.4709e-05 - NMSE: 1.3238e-04 - real_MSE: 1.4709e-05 - params_MSE: nan - ls_jacobian_norm: 0.6828 - tot_time: 0h 27m 10.9s\n",
      "\n",
      "Epoch 3: val_mse improved from 0.00002 to 0.00002, saving model to /home/rkaushik/Documents/Thesis/MLROM/new_ks/saved_ae/ae_011/checkpoints/checkpoint\n",
      " - saving loss histories at /home/rkaushik/Documents/Thesis/MLROM/new_ks/saved_ae/ae_011/checkpoints/LossHistoriesCheckpoint\n",
      "3126/3126 [==============================] - 21s 7ms/step - loss: 7.4041e-05 - mse: 1.4708e-05 - NMSE: 1.3237e-04 - real_MSE: 1.4708e-05 - params_MSE: nan - ls_jacobian_norm: 0.6828 - val_loss: 7.5098e-05 - val_mse: 1.5768e-05 - val_NMSE: 1.4192e-04 - val_real_MSE: 1.5768e-05 - val_params_MSE: nan - val_ls_jacobian_norm: -1.0000\n",
      "Epoch 4/200\n",
      "3120/3126 [============================>.] - ETA: 0s - loss: 7.3998e-05 - mse: 1.4674e-05 - NMSE: 1.3206e-04 - real_MSE: 1.4674e-05 - params_MSE: nan - ls_jacobian_norm: 0.6819 - tot_time: 0h 27m 32.2s\n",
      "\n",
      "Epoch 4: val_mse improved from 0.00002 to 0.00002, saving model to /home/rkaushik/Documents/Thesis/MLROM/new_ks/saved_ae/ae_011/checkpoints/checkpoint\n"
     ]
    },
    {
     "name": "stdout",
     "output_type": "stream",
     "text": [
      " - saving loss histories at /home/rkaushik/Documents/Thesis/MLROM/new_ks/saved_ae/ae_011/checkpoints/LossHistoriesCheckpoint\n",
      "3126/3126 [==============================] - 21s 7ms/step - loss: 7.3998e-05 - mse: 1.4674e-05 - NMSE: 1.3206e-04 - real_MSE: 1.4674e-05 - params_MSE: nan - ls_jacobian_norm: 0.6819 - val_loss: 7.5025e-05 - val_mse: 1.5705e-05 - val_NMSE: 1.4135e-04 - val_real_MSE: 1.5705e-05 - val_params_MSE: nan - val_ls_jacobian_norm: -1.0000\n",
      "Epoch 5/200\n",
      "3126/3126 [==============================] - ETA: 0s - loss: 7.3951e-05 - mse: 1.4636e-05 - NMSE: 1.3172e-04 - real_MSE: 1.4636e-05 - params_MSE: nan - ls_jacobian_norm: 0.6810 - tot_time: 0h 27m 53.3s\n",
      "\n",
      "Epoch 5: val_mse improved from 0.00002 to 0.00002, saving model to /home/rkaushik/Documents/Thesis/MLROM/new_ks/saved_ae/ae_011/checkpoints/checkpoint\n",
      " - saving loss histories at /home/rkaushik/Documents/Thesis/MLROM/new_ks/saved_ae/ae_011/checkpoints/LossHistoriesCheckpoint\n",
      "3126/3126 [==============================] - 21s 7ms/step - loss: 7.3951e-05 - mse: 1.4636e-05 - NMSE: 1.3172e-04 - real_MSE: 1.4636e-05 - params_MSE: nan - ls_jacobian_norm: 0.6810 - val_loss: 7.5011e-05 - val_mse: 1.5702e-05 - val_NMSE: 1.4132e-04 - val_real_MSE: 1.5702e-05 - val_params_MSE: nan - val_ls_jacobian_norm: -1.0000\n",
      "Epoch 6/200\n",
      "3125/3126 [============================>.] - ETA: 0s - loss: 7.3913e-05 - mse: 1.4608e-05 - NMSE: 1.3147e-04 - real_MSE: 1.4608e-05 - params_MSE: nan - ls_jacobian_norm: 0.6802 - tot_time: 0h 28m 14.0s\n",
      "\n",
      "Epoch 6: val_mse improved from 0.00002 to 0.00002, saving model to /home/rkaushik/Documents/Thesis/MLROM/new_ks/saved_ae/ae_011/checkpoints/checkpoint\n",
      " - saving loss histories at /home/rkaushik/Documents/Thesis/MLROM/new_ks/saved_ae/ae_011/checkpoints/LossHistoriesCheckpoint\n",
      "3126/3126 [==============================] - 21s 7ms/step - loss: 7.3913e-05 - mse: 1.4608e-05 - NMSE: 1.3147e-04 - real_MSE: 1.4608e-05 - params_MSE: nan - ls_jacobian_norm: 0.6802 - val_loss: 7.4904e-05 - val_mse: 1.5604e-05 - val_NMSE: 1.4043e-04 - val_real_MSE: 1.5604e-05 - val_params_MSE: nan - val_ls_jacobian_norm: -1.0000\n",
      "Epoch 7/200\n",
      "3120/3126 [============================>.] - ETA: 0s - loss: 7.3871e-05 - mse: 1.4576e-05 - NMSE: 1.3118e-04 - real_MSE: 1.4576e-05 - params_MSE: nan - ls_jacobian_norm: 0.6793 - tot_time: 0h 28m 35.3s\n",
      "\n",
      "Epoch 7: val_mse improved from 0.00002 to 0.00002, saving model to /home/rkaushik/Documents/Thesis/MLROM/new_ks/saved_ae/ae_011/checkpoints/checkpoint\n",
      " - saving loss histories at /home/rkaushik/Documents/Thesis/MLROM/new_ks/saved_ae/ae_011/checkpoints/LossHistoriesCheckpoint\n",
      "3126/3126 [==============================] - 21s 7ms/step - loss: 7.3871e-05 - mse: 1.4576e-05 - NMSE: 1.3118e-04 - real_MSE: 1.4576e-05 - params_MSE: nan - ls_jacobian_norm: 0.6794 - val_loss: 7.4842e-05 - val_mse: 1.5552e-05 - val_NMSE: 1.3997e-04 - val_real_MSE: 1.5552e-05 - val_params_MSE: nan - val_ls_jacobian_norm: -1.0000\n",
      "Epoch 8/200\n",
      "3124/3126 [============================>.] - ETA: 0s - loss: 7.3828e-05 - mse: 1.4544e-05 - NMSE: 1.3089e-04 - real_MSE: 1.4544e-05 - params_MSE: nan - ls_jacobian_norm: 0.6786 - tot_time: 0h 28m 56.3s\n",
      "\n",
      "Epoch 8: val_mse improved from 0.00002 to 0.00002, saving model to /home/rkaushik/Documents/Thesis/MLROM/new_ks/saved_ae/ae_011/checkpoints/checkpoint\n",
      " - saving loss histories at /home/rkaushik/Documents/Thesis/MLROM/new_ks/saved_ae/ae_011/checkpoints/LossHistoriesCheckpoint\n",
      "3126/3126 [==============================] - 21s 7ms/step - loss: 7.3829e-05 - mse: 1.4544e-05 - NMSE: 1.3090e-04 - real_MSE: 1.4544e-05 - params_MSE: nan - ls_jacobian_norm: 0.6786 - val_loss: 7.4798e-05 - val_mse: 1.5519e-05 - val_NMSE: 1.3967e-04 - val_real_MSE: 1.5519e-05 - val_params_MSE: nan - val_ls_jacobian_norm: -1.0000\n",
      "Epoch 9/200\n",
      "3123/3126 [============================>.] - ETA: 0s - loss: 7.3795e-05 - mse: 1.4521e-05 - NMSE: 1.3069e-04 - real_MSE: 1.4521e-05 - params_MSE: nan - ls_jacobian_norm: 0.6779 - tot_time: 0h 29m 17.6s\n",
      "\n",
      "Epoch 9: val_mse did not improve from 0.00002\n",
      " - saving loss histories at /home/rkaushik/Documents/Thesis/MLROM/new_ks/saved_ae/ae_011/checkpoints/LossHistoriesCheckpoint\n",
      "3126/3126 [==============================] - 21s 7ms/step - loss: 7.3795e-05 - mse: 1.4521e-05 - NMSE: 1.3069e-04 - real_MSE: 1.4521e-05 - params_MSE: nan - ls_jacobian_norm: 0.6779 - val_loss: 7.4859e-05 - val_mse: 1.5591e-05 - val_NMSE: 1.4032e-04 - val_real_MSE: 1.5591e-05 - val_params_MSE: nan - val_ls_jacobian_norm: -1.0000\n",
      "Epoch 10/200\n",
      "3118/3126 [============================>.] - ETA: 0s - loss: 7.3756e-05 - mse: 1.4493e-05 - NMSE: 1.3044e-04 - real_MSE: 1.4493e-05 - params_MSE: nan - ls_jacobian_norm: 0.6772 - tot_time: 0h 29m 38.8s\n",
      "\n",
      "Epoch 10: val_mse did not improve from 0.00002\n",
      " - saving loss histories at /home/rkaushik/Documents/Thesis/MLROM/new_ks/saved_ae/ae_011/checkpoints/LossHistoriesCheckpoint\n",
      "3126/3126 [==============================] - 21s 7ms/step - loss: 7.3757e-05 - mse: 1.4494e-05 - NMSE: 1.3045e-04 - real_MSE: 1.4494e-05 - params_MSE: nan - ls_jacobian_norm: 0.6772 - val_loss: 7.4837e-05 - val_mse: 1.5580e-05 - val_NMSE: 1.4022e-04 - val_real_MSE: 1.5580e-05 - val_params_MSE: nan - val_ls_jacobian_norm: -1.0000\n",
      "Epoch 11/200\n",
      "3126/3126 [==============================] - ETA: 0s - loss: 7.3715e-05 - mse: 1.4463e-05 - NMSE: 1.3017e-04 - real_MSE: 1.4463e-05 - params_MSE: nan - ls_jacobian_norm: 0.6765Restoring model weights from the end of the best epoch: 1.\n",
      " - tot_time: 0h 29m 59.8s\n",
      "\n",
      "Epoch 11: val_mse improved from 0.00002 to 0.00002, saving model to /home/rkaushik/Documents/Thesis/MLROM/new_ks/saved_ae/ae_011/checkpoints/checkpoint\n",
      " - saving loss histories at /home/rkaushik/Documents/Thesis/MLROM/new_ks/saved_ae/ae_011/checkpoints/LossHistoriesCheckpoint\n",
      "3126/3126 [==============================] - 21s 7ms/step - loss: 7.3715e-05 - mse: 1.4463e-05 - NMSE: 1.3017e-04 - real_MSE: 1.4463e-05 - params_MSE: nan - ls_jacobian_norm: 0.6765 - val_loss: 7.4718e-05 - val_mse: 1.5471e-05 - val_NMSE: 1.3924e-04 - val_real_MSE: 1.5471e-05 - val_params_MSE: nan - val_ls_jacobian_norm: -1.0000\n",
      "Epoch 11: early stopping\n"
     ]
    }
   ],
   "source": [
    "# compiling the network\n",
    "ae_net.compile(\n",
    "    optimizer=tf.keras.optimizers.Adam(learning_rate=learning_rate_list[0]),\n",
    "    loss=losses.MeanSquaredError(),\n",
    "#     loss=losses.BinaryCrossentropy(from_logits=False),\n",
    "    run_eagerly=False,\n",
    "    metrics=['mse', NMSE(divisor_arr=tf.constant(time_stddev)), real_MSE(og_vars), params_MSE(og_vars)]\n",
    ")\n",
    "\n",
    "if behaviour == 'loadCheckpointAndContinueTraining':\n",
    "    # this loads the weights/attributes of the optimizer as well\n",
    "    if strategy is not None:\n",
    "        with strategy.scope():\n",
    "            ae_net.load_weights(wt_file)\n",
    "    else:\n",
    "        ae_net.load_weights(wt_file)\n",
    "\n",
    "if behaviour == 'initialiseAndTrainFromScratch' or behaviour == 'loadCheckpointAndContinueTraining':\n",
    "    metric_to_use = 'val_mse'\n",
    "    # implementing early stopping\n",
    "    early_stopping_cb = tf.keras.callbacks.EarlyStopping(\n",
    "        monitor=metric_to_use,\n",
    "        patience=patience,\n",
    "        restore_best_weights=True,\n",
    "        verbose=True,\n",
    "        min_delta=min_delta\n",
    "    )\n",
    "\n",
    "    # time callback for each epoch\n",
    "    timekeeper_cb = mytimecallback()\n",
    "\n",
    "    # model checkpoint callback\n",
    "    dir_name_ckpt = dir_name_ae+dir_sep+'checkpoints'\n",
    "    if not os.path.isdir(dir_name_ckpt):\n",
    "        os.makedirs(dir_name_ckpt)\n",
    "    checkpoint_cb = tf.keras.callbacks.ModelCheckpoint(\n",
    "        filepath=dir_name_ckpt+dir_sep+'checkpoint',#+'/checkpoint--loss={loss:.4f}--vall_loss={val_loss:.4f}',\n",
    "        monitor=metric_to_use,\n",
    "        save_best_only=True,\n",
    "        save_weights_only=True,\n",
    "        verbose=2,\n",
    "        period=1  # saves every 5 epochs\n",
    "    )\n",
    "\n",
    "    # save losses callback\n",
    "    savelosses_cb = SaveLosses(\n",
    "        filepath=dir_name_ckpt+dir_sep+'LossHistoriesCheckpoint',\n",
    "        val_loss_arr=savelosses_cb_vallossarr,\n",
    "        train_loss_arr=savelosses_cb_trainlossarr,\n",
    "        total_epochs=epochs,\n",
    "        period=1)\n",
    "\n",
    "    # training the network\n",
    "    for i in range(starting_lr_idx, len(learning_rate_list)):\n",
    "        learning_rate = learning_rate_list[i]\n",
    "        K.set_value(ae_net.optimizer.lr, learning_rate)\n",
    "\n",
    "        savelosses_cb.update_lr_idx(i)\n",
    "\n",
    "        if i == starting_lr_idx:\n",
    "            EPOCHS = num_epochs_left\n",
    "            savelosses_cb.update_offset(epochs-num_epochs_left)\n",
    "        else:\n",
    "            EPOCHS = epochs\n",
    "            savelosses_cb.update_offset(0)\n",
    "\n",
    "        total_s_len = 80\n",
    "        sep_lr_s = ' LEARNING RATE : {} '.format(learning_rate)\n",
    "        sep_lr_s = int((total_s_len - len(sep_lr_s))//2)*'-' + sep_lr_s\n",
    "        sep_lr_s = sep_lr_s + (total_s_len-len(sep_lr_s))*'-'\n",
    "        print('\\n\\n' + '-'*len(sep_lr_s))\n",
    "        print('\\n' + sep_lr_s+'\\n')\n",
    "        print('-'*len(sep_lr_s) + '\\n\\n')\n",
    "        \n",
    "        history = ae_net.fit(training_data, training_data,\n",
    "            epochs=EPOCHS,\n",
    "            batch_size=batch_size,\n",
    "#             validation_split=val_split/train_split,\n",
    "            validation_data=(val_data, val_data),\n",
    "            callbacks=[early_stopping_cb, timekeeper_cb, checkpoint_cb, savelosses_cb],\n",
    "            verbose=1,\n",
    "            shuffle=True,\n",
    "        )\n",
    "\n",
    "        val_loss_hist.extend(history.history['val_loss'])\n",
    "        train_loss_hist.extend(history.history['loss'])\n",
    "        \n",
    "        val_MSE_hist.extend(history.history['val_mse'])\n",
    "        train_MSE_hist.extend(history.history['mse'])\n",
    "        \n",
    "        val_NMSE_hist.extend(history.history['val_NMSE'])\n",
    "        train_NMSE_hist.extend(history.history['NMSE'])\n",
    "        \n",
    "        train_ls_jacobian_norm_hist.append(history.history['ls_jacobian_norm'])\n",
    "        \n",
    "        if i == starting_lr_idx:\n",
    "            lr_change[i+1] += len(history.history['val_loss'])\n",
    "        else:\n",
    "            lr_change.append(lr_change[i]+len(history.history['val_loss']))"
   ]
  },
  {
   "cell_type": "code",
   "execution_count": 36,
   "metadata": {},
   "outputs": [],
   "source": [
    "temp = []\n",
    "for lst in train_ls_jacobian_norm_hist:\n",
    "    temp.extend(lst)\n",
    "train_ls_jacobian_norm_hist_og = train_ls_jacobian_norm_hist\n",
    "train_ls_jacobian_norm_hist = np.array(temp)"
   ]
  },
  {
   "cell_type": "code",
   "execution_count": 37,
   "metadata": {
    "colab": {
     "base_uri": "https://localhost:8080/"
    },
    "executionInfo": {
     "elapsed": 9705,
     "status": "ok",
     "timestamp": 1666788875924,
     "user": {
      "displayName": "Rohan Kaushik",
      "userId": "13918477614376051685"
     },
     "user_tz": -120
    },
    "id": "d_Od0ul4P9bK",
    "outputId": "860e9f94-e593-4a74-fcff-6a6657d925de"
   },
   "outputs": [
    {
     "name": "stdout",
     "output_type": "stream",
     "text": [
      "782/782 [==============================] - 2s 3ms/step - loss: 7.5480e-05 - mse: 1.6137e-05 - NMSE: 1.4523e-04 - real_MSE: 1.6137e-05 - params_MSE: nan - ls_jacobian_norm: -1.0000\n",
      "6251/6251 [==============================] - 17s 3ms/step - loss: 7.4071e-05 - mse: 1.4729e-05 - NMSE: 1.3256e-04 - real_MSE: 1.4729e-05 - params_MSE: nan - ls_jacobian_norm: -1.0000\n",
      "782/782 [==============================] - 2s 3ms/step - loss: 7.5158e-05 - mse: 1.5816e-05 - NMSE: 1.4234e-04 - real_MSE: 1.5816e-05 - params_MSE: nan - ls_jacobian_norm: -1.0000\n"
     ]
    }
   ],
   "source": [
    "if behaviour == 'initialiseAndTrainFromScratch' or behaviour == 'loadCheckpointAndContinueTraining':\n",
    "    test_metrics = ae_net.evaluate(\n",
    "        testing_data, testing_data,\n",
    "    )\n",
    "    train_metrics = ae_net.evaluate(training_data, training_data)\n",
    "    val_metrics = ae_net.evaluate(val_data, val_data)\n",
    "\n",
    "    save_path = dir_name_ae+dir_sep+'final_net'\n",
    "\n",
    "    if not os.path.isdir(save_path):\n",
    "        os.makedirs(save_path)\n",
    "\n",
    "\n",
    "    with open(save_path+dir_sep+'losses.txt', 'w') as f:\n",
    "        f.write(str({\n",
    "            'val_loss_hist':val_loss_hist,\n",
    "            'train_loss_hist':train_loss_hist,\n",
    "            'val_MSE_hist':val_MSE_hist,\n",
    "            'train_MSE_hist':train_MSE_hist,\n",
    "            'val_NMSE_hist':val_NMSE_hist,\n",
    "            'train_NMSE_hist':train_NMSE_hist,\n",
    "            'train_ls_jacobian_norm_hist':train_ls_jacobian_norm_hist,\n",
    "            'lr_change':lr_change,\n",
    "            'test_loss':test_metrics[0],\n",
    "            'test_mse':test_metrics[1],\n",
    "            'train_loss':train_metrics[0],\n",
    "            'train_mse':train_metrics[1],\n",
    "            'val_loss':val_metrics[0],\n",
    "            'val_mse':val_metrics[1],\n",
    "        }))\n",
    "\n",
    "    ae_net.save_everything(\n",
    "        file_name=save_path+dir_sep+'final_net')"
   ]
  },
  {
   "cell_type": "code",
   "execution_count": 38,
   "metadata": {
    "colab": {
     "base_uri": "https://localhost:8080/"
    },
    "executionInfo": {
     "elapsed": 7,
     "status": "ok",
     "timestamp": 1666788875925,
     "user": {
      "displayName": "Rohan Kaushik",
      "userId": "13918477614376051685"
     },
     "user_tz": -120
    },
    "id": "Dy8GNcgMVD4T",
    "outputId": "e50e8738-9da1-43de-e551-43f47b64135e"
   },
   "outputs": [
    {
     "name": "stdout",
     "output_type": "stream",
     "text": [
      "lr_change :  [0, 30, 73, 84]\n"
     ]
    }
   ],
   "source": [
    "print('lr_change : ', lr_change)"
   ]
  },
  {
   "cell_type": "code",
   "execution_count": null,
   "metadata": {},
   "outputs": [],
   "source": []
  },
  {
   "cell_type": "code",
   "execution_count": 39,
   "metadata": {
    "colab": {
     "base_uri": "https://localhost:8080/",
     "height": 279
    },
    "executionInfo": {
     "elapsed": 765,
     "status": "ok",
     "timestamp": 1666788876686,
     "user": {
      "displayName": "Rohan Kaushik",
      "userId": "13918477614376051685"
     },
     "user_tz": -120
    },
    "id": "ewTz1COFSocM",
    "outputId": "15bc2be5-d571-433e-b5cd-9c722f38b48b",
    "scrolled": false
   },
   "outputs": [
    {
     "data": {
      "image/png": "[encoded data removed]",
      "text/plain": [
       "<Figure size 640x480 with 1 Axes>"
      ]
     },
     "metadata": {},
     "output_type": "display_data"
    },
    {
     "data": {
      "image/png": "[encoded data removed]",
      "text/plain": [
       "<Figure size 640x480 with 1 Axes>"
      ]
     },
     "metadata": {},
     "output_type": "display_data"
    },
    {
     "data": {
      "text/plain": [
       "<Figure size 640x480 with 0 Axes>"
      ]
     },
     "metadata": {},
     "output_type": "display_data"
    },
    {
     "data": {
      "image/png": "[encoded data removed]",
      "text/plain": [
       "<Figure size 640x480 with 1 Axes>"
      ]
     },
     "metadata": {},
     "output_type": "display_data"
    },
    {
     "data": {
      "text/plain": [
       "<Figure size 640x480 with 0 Axes>"
      ]
     },
     "metadata": {},
     "output_type": "display_data"
    },
    {
     "data": {
      "image/png": "[encoded data removed]",
      "text/plain": [
       "<Figure size 640x480 with 1 Axes>"
      ]
     },
     "metadata": {},
     "output_type": "display_data"
    },
    {
     "data": {
      "text/plain": [
       "<Figure size 640x480 with 0 Axes>"
      ]
     },
     "metadata": {},
     "output_type": "display_data"
    }
   ],
   "source": [
    "# plotting losses\n",
    "dir_name_plot = dir_name_ae + '/plots'\n",
    "if not os.path.isdir(dir_name_plot):\n",
    "    os.makedirs(dir_name_plot)\n",
    "\n",
    "# Visualize loss history\n",
    "fig, ax = plot_losses(\n",
    "    training_loss=train_loss_hist,\n",
    "    val_loss=val_loss_hist,\n",
    "    lr_change=lr_change,\n",
    "    learning_rate_list=learning_rate_list\n",
    ")\n",
    "\n",
    "plt.savefig(dir_name_plot + '{ds}loss_history.png'.format(ds=dir_sep), dpi=300, bbox_inches='tight')\n",
    "plt.show()\n",
    "\n",
    "\n",
    "fig, ax = plot_losses(\n",
    "    training_loss=train_MSE_hist,\n",
    "    val_loss=val_MSE_hist,\n",
    "    lr_change=lr_change,\n",
    "    learning_rate_list=learning_rate_list,\n",
    "    legend_list=['Training MSE', 'Validation MSE'],\n",
    "    xlabel='Epoch',\n",
    "    ylabel='MSE',\n",
    ")\n",
    "plt.savefig(dir_name_plot+'/MSE_history.png', dpi=300, bbox_inches='tight')\n",
    "plt.show()\n",
    "plt.clf()\n",
    "\n",
    "\n",
    "fig, ax = plot_losses(\n",
    "    training_loss=train_NMSE_hist,\n",
    "    val_loss=val_NMSE_hist,\n",
    "    lr_change=lr_change,\n",
    "    learning_rate_list=learning_rate_list,\n",
    "    legend_list=['Training NMSE', 'Validation NMSE'],\n",
    "    xlabel='Epoch',\n",
    "    ylabel='NMSE',\n",
    ")\n",
    "plt.savefig(dir_name_plot+'/NMSE_history.png', dpi=300, bbox_inches='tight')\n",
    "plt.show()\n",
    "plt.clf()\n",
    "\n",
    "\n",
    "fig, ax = plot_losses(\n",
    "    training_loss=train_ls_jacobian_norm_hist,\n",
    "    val_loss=None,\n",
    "    lr_change=lr_change,\n",
    "    learning_rate_list=learning_rate_list,\n",
    "    legend_list=[r\"$\\| \\nabla_{x} z^{encoded} \\|$\"],\n",
    "    xlabel='Epoch',\n",
    "    ylabel=r\"$\\| \\nabla_{x} v^{encoded} \\|$\",\n",
    "    plot_type='plot',\n",
    ")\n",
    "plt.savefig(dir_name_plot+'/train_ls_jacobian_norm_hist.png', dpi=300, bbox_inches='tight')\n",
    "plt.show()\n",
    "plt.clf()"
   ]
  },
  {
   "cell_type": "code",
   "execution_count": 40,
   "metadata": {
    "colab": {
     "base_uri": "https://localhost:8080/"
    },
    "executionInfo": {
     "elapsed": 881,
     "status": "ok",
     "timestamp": 1666788877562,
     "user": {
      "displayName": "Rohan Kaushik",
      "userId": "13918477614376051685"
     },
     "user_tz": -120
    },
    "id": "wwt4brHcOaXi",
    "outputId": "7ba39105-aa8e-49e8-dbfd-619069123fdd"
   },
   "outputs": [],
   "source": [
    "reconstructed_data = ae_net.predict(all_data)"
   ]
  },
  {
   "cell_type": "code",
   "execution_count": 41,
   "metadata": {
    "colab": {
     "base_uri": "https://localhost:8080/",
     "height": 1000,
     "output_embedded_package_id": "1kzRwBdNfA2o28NxHkc2fku7QnFPAI8Bo"
    },
    "executionInfo": {
     "elapsed": 4835,
     "status": "ok",
     "timestamp": 1666788882395,
     "user": {
      "displayName": "Rohan Kaushik",
      "userId": "13918477614376051685"
     },
     "user_tz": -120
    },
    "id": "_6rNhThyQrKc",
    "outputId": "fdeeb3f5-009a-404e-8856-b7655d596a88"
   },
   "outputs": [],
   "source": [
    "temp = boundary_idx_arr[0] + np.sum(boundary_idx_arr[1:] - boundary_idx_arr[0:-1])\n",
    "temp /= len(boundary_idx_arr)\n",
    "temp *= dt_ae\n",
    "chosen_interval = temp//10\n",
    "sn = np.format_float_scientific(chosen_interval, exp_digits=4)\n",
    "snap = np.max([0.1, 25*np.round(10*float(sn[0:-6])/25)/10])\n",
    "snap *= float('1'+sn[-6:])\n",
    "xticks_snapto = int(snap*np.round(chosen_interval/snap))\n",
    "\n",
    "plot_reconstructed_data_KS(\n",
    "    boundary_idx_arr,\n",
    "    dir_name_ae,\n",
    "    all_data,\n",
    "    reconstructed_data, dt_ae, xgrid,\n",
    "    save_figs=True,\n",
    "    normalization_constant_arr=normalization_constant_arr_aedata,\n",
    "    xticks_snapto=xticks_snapto,\n",
    "    num_yticks=11)"
   ]
  },
  {
   "cell_type": "code",
   "execution_count": null,
   "metadata": {
    "executionInfo": {
     "elapsed": 17515,
     "status": "ok",
     "timestamp": 1666788899903,
     "user": {
      "displayName": "Rohan Kaushik",
      "userId": "13918477614376051685"
     },
     "user_tz": -120
    },
    "id": "cAiMV0iU0EpK"
   },
   "outputs": [],
   "source": []
  },
  {
   "cell_type": "code",
   "execution_count": null,
   "metadata": {
    "scrolled": true
   },
   "outputs": [],
   "source": []
  },
  {
   "cell_type": "code",
   "execution_count": 42,
   "metadata": {
    "colab": {
     "base_uri": "https://localhost:8080/"
    },
    "executionInfo": {
     "elapsed": 600,
     "status": "ok",
     "timestamp": 1666788900494,
     "user": {
      "displayName": "Rohan Kaushik",
      "userId": "13918477614376051685"
     },
     "user_tz": -120
    },
    "id": "jVqsAwsY0Amw",
    "outputId": "95dd7bc9-f2b0-421e-a1b4-3e7e594cd44a"
   },
   "outputs": [],
   "source": [
    "# create data\n",
    "latent_states_all = ae_net.encoder_net.predict(all_data)"
   ]
  },
  {
   "cell_type": "code",
   "execution_count": 43,
   "metadata": {
    "colab": {
     "base_uri": "https://localhost:8080/",
     "height": 1000
    },
    "executionInfo": {
     "elapsed": 2127,
     "status": "ok",
     "timestamp": 1666788902619,
     "user": {
      "displayName": "Rohan Kaushik",
      "userId": "13918477614376051685"
     },
     "user_tz": -120
    },
    "id": "wjgPNitSrt5p",
    "outputId": "d60c9340-28f4-479b-8b66-5ee2a5fc5cee"
   },
   "outputs": [],
   "source": [
    "plot_latent_states_KS(\n",
    "    boundary_idx_arr,\n",
    "    latent_states_all,\n",
    "    dt_ae,\n",
    "    dir_name_ae,\n",
    "    xticks_snapto=xticks_snapto,\n",
    "    num_yticks=11,\n",
    "    save_figs=True)"
   ]
  },
  {
   "cell_type": "code",
   "execution_count": 44,
   "metadata": {
    "executionInfo": {
     "elapsed": 5242,
     "status": "ok",
     "timestamp": 1666788907858,
     "user": {
      "displayName": "Rohan Kaushik",
      "userId": "13918477614376051685"
     },
     "user_tz": -120
    },
    "id": "Jv8PgBgzV1_s"
   },
   "outputs": [],
   "source": [
    "# fig.savefig(dir_name_plot+'/latent_states.png', dpi=300, bbox_inches='tight')"
   ]
  },
  {
   "cell_type": "code",
   "execution_count": 45,
   "metadata": {
    "executionInfo": {
     "elapsed": 17,
     "status": "ok",
     "timestamp": 1666788907859,
     "user": {
      "displayName": "Rohan Kaushik",
      "userId": "13918477614376051685"
     },
     "user_tz": -120
    },
    "id": "wnLnqg0Jrt5t"
   },
   "outputs": [],
   "source": [
    "# ae_net.summary()"
   ]
  },
  {
   "cell_type": "code",
   "execution_count": 46,
   "metadata": {
    "scrolled": true
   },
   "outputs": [
    {
     "name": "stdout",
     "output_type": "stream",
     "text": [
      "\n"
     ]
    }
   ],
   "source": [
    "n = len(boundary_idx_arr)\n",
    "num_digits_n = int(np.log10(n)+1)\n",
    "\n",
    "# '''\n",
    "num_cols = 4\n",
    "num_rows = (latent_states_all.shape[-1] + num_cols-1)//num_cols\n",
    "factor = 1\n",
    "num_modes = xgrid.shape[0]\n",
    "\n",
    "prev_idx = 0\n",
    "for i in range(n):\n",
    "    lyap_time = lyapunov_time_arr[i]\n",
    "    start_time = 0\n",
    "    plot_time = 20*lyap_time\n",
    "    # next_idx = boundary_idx_arr[i]\n",
    "    prev_idx += int((start_time + 0.5*dt_ae)//dt_ae) \n",
    "    next_idx = prev_idx + int((plot_time+0.5*dt_ae)//dt_ae)\n",
    "    fig, ax = plt.subplots(num_rows, num_cols, sharex=False, figsize=(factor*7.5*num_cols, factor*5.0*num_rows))\n",
    "    N = next_idx - prev_idx\n",
    "    # print(N)\n",
    "    input_time = (start_time + np.arange(0, N)*dt_ae)/lyap_time\n",
    "    \n",
    "    # temp = N*delta_t\n",
    "    # chosen_interval = temp//10\n",
    "    # sn = np.format_float_scientific(chosen_interval, exp_digits=4)\n",
    "    # # print(temp, sn)\n",
    "    # snap = 25*np.round(10*float(sn[0:-6])/25)/10\n",
    "    # if snap == 0:\n",
    "    #     snap = 0.1\n",
    "    # snap *= float('1'+sn[-6:])\n",
    "    # xticks_snapto = int(snap*np.round(chosen_interval/snap))\n",
    "\n",
    "    for j in range(latent_states_all.shape[-1]):\n",
    "        row = j // num_cols\n",
    "        col = j % num_cols\n",
    "        ax[row, col].plot(input_time, latent_states_all[prev_idx:next_idx, j])\n",
    "        # ax[j].plot(input_time, D_reconstructed_list[i][prev_idx:next_idx], color='C0', label='Reconstructed Data')\n",
    "        # num_xticks = 1 + int((N*delta_t + 0.5*xticks_snapto) // xticks_snapto)\n",
    "        # xticks = np.linspace(0, N, num_xticks, dtype=np.int32)\n",
    "        # xticks = int((start_time + 0.5*delta_t)//delta_t) + np.arange(0, N+1, int((xticks_snapto+0.5*delta_t)//delta_t))\n",
    "        # print(xticks)\n",
    "        # ax[j].set_xticks(ticks=np.round(xticks*delta_t, 1))\n",
    "        # ax[j].set_xticklabels('')\n",
    "        ax[row, col].tick_params(axis='x', rotation=270+45)\n",
    "        ax[row, col].set_ylabel('latent state {}'.format(j+1))\n",
    "        ax[row, col].set_xlabel(r'Time$^+$')\n",
    "        ax[row, col].grid(True)\n",
    "\n",
    "    # yticks = np.linspace(0, 1, 10+1)*(len(xgrid)-1)\n",
    "    # yticklabels = np.round(np.linspace(0, 1, yticks.shape[0])*xgrid[-1], 2)\n",
    "    # ax.set_yticks(ticks=yticks)\n",
    "    # ax.set_yticklabels(yticklabels)\n",
    "\n",
    "    # ax[-1].set_xlabel(r'Time$^+$')\n",
    "    # ax[0].legend()\n",
    "    # ax.title.set_text(r'Latent States')\n",
    "    # if ax_titles_list is not None:\n",
    "    #     ax.title.set_text(ax_titles_list[i])\n",
    "    # else:\n",
    "    # ax.title.set_text(r'Case '+str(i+1))\n",
    "\n",
    "    fig.tight_layout(rect=[0, 0.03, 1, 0.95])\n",
    "    fig.suptitle('Case '+str(i+1), size=16)\n",
    "    \n",
    "    fig.savefig(dir_name_plot+'/LatentSpace-Case_'+str(i+1).zfill(num_digits_n)+'.png', dpi=300, bbox_inches='tight')\n",
    "    fig.clear()\n",
    "    plt.close()\n",
    "    \n",
    "    print('')\n",
    "\n",
    "    prev_idx = boundary_idx_arr[i]"
   ]
  },
  {
   "cell_type": "markdown",
   "metadata": {},
   "source": [
    "# KE and Dissipation"
   ]
  },
  {
   "cell_type": "code",
   "execution_count": 47,
   "metadata": {},
   "outputs": [],
   "source": [
    "save_dir = dir_name_ae+dir_sep+'plots'\n",
    "# save_dir = None"
   ]
  },
  {
   "cell_type": "code",
   "execution_count": 48,
   "metadata": {},
   "outputs": [
    {
     "name": "stdout",
     "output_type": "stream",
     "text": [
      "Case 1 - KE_nrmse : 0.005990706570869827\n"
     ]
    }
   ],
   "source": [
    "# Time evolution of Kinetic Energy\n",
    "KE_org_list = []\n",
    "KE_reconstructed_list = []\n",
    "KE_nrmse = []\n",
    "\n",
    "if normalizeforae_flag == True:\n",
    "    rescaled_org_data = all_data[:, 0:xgrid.shape[0]]#.copy()\n",
    "    rescaled_recon_data = reconstructed_data[:, 0:xgrid.shape[0]]#.copy()\n",
    "    for i in range(xgrid.shape[0]):\n",
    "        rescaled_org_data[:, i] *= normalization_constant_arr_aedata[1, i]\n",
    "        rescaled_org_data[:, i] += normalization_constant_arr_aedata[0, i]\n",
    "        rescaled_recon_data[:, i] *= normalization_constant_arr_aedata[1, i]\n",
    "        rescaled_recon_data[:, i] += normalization_constant_arr_aedata[0, i]\n",
    "else:\n",
    "    rescaled_org_data = all_data[:, 0:xgrid.shape[0]]\n",
    "    rescaled_recon_data = reconstructed_data[:, 0:xgrid.shape[0]]\n",
    "\n",
    "if normalize_flag_ogdata == True:\n",
    "    for i in range(xgrid.shape[0]):\n",
    "        rescaled_org_data[:, i] *= normalization_constant_arr_ogdata[1, i]\n",
    "        rescaled_org_data[:, i] += normalization_constant_arr_ogdata[0, i]\n",
    "        rescaled_recon_data[:, i] *= normalization_constant_arr_ogdata[1, i]\n",
    "        rescaled_recon_data[:, i] += normalization_constant_arr_ogdata[0, i]\n",
    "\n",
    "begin_idx = 0\n",
    "for i in range(len(boundary_idx_arr)):\n",
    "    KE_org = np.sum(rescaled_org_data[begin_idx:boundary_idx_arr[i], 1:-1]**2, axis=1)\n",
    "    KE_org += 0.5*(rescaled_org_data[begin_idx:boundary_idx_arr[i], 0]**2)\n",
    "    KE_org += 0.5*(rescaled_org_data[begin_idx:boundary_idx_arr[i], -1]**2)\n",
    "    KE_org /= xgrid.shape[0]-1\n",
    "    KE_org_list.append(KE_org)\n",
    "    \n",
    "    KE_recon = np.sum(rescaled_recon_data[begin_idx:boundary_idx_arr[i], 1:-1]**2, axis=1)\n",
    "    KE_recon += 0.5*(rescaled_recon_data[begin_idx:boundary_idx_arr[i], 0]**2)\n",
    "    KE_recon += 0.5*(rescaled_recon_data[begin_idx:boundary_idx_arr[i], -1]**2)\n",
    "    KE_recon /= xgrid.shape[0]-1\n",
    "    KE_reconstructed_list.append(KE_recon)\n",
    "\n",
    "    KE_rmse = np.mean((KE_recon - KE_org)**2)**0.5\n",
    "    KE_mean = np.mean(KE_org)\n",
    "    KE_rmse_normalized = KE_rmse/KE_mean\n",
    "    KE_nrmse.append(KE_rmse_normalized)\n",
    "    \n",
    "    print('Case {} - KE_nrmse : {}'.format(i+1, KE_rmse_normalized))\n",
    "\n",
    "    begin_idx = boundary_idx_arr[i]"
   ]
  },
  {
   "cell_type": "code",
   "execution_count": 49,
   "metadata": {},
   "outputs": [
    {
     "name": "stdout",
     "output_type": "stream",
     "text": [
      "15.466301\n"
     ]
    }
   ],
   "source": [
    "n = len(boundary_idx_arr)\n",
    "num_digits_n = int(np.log10(n)+1)\n",
    "\n",
    "# '''\n",
    "num_cols = 1\n",
    "num_rows = 1\n",
    "factor = 1\n",
    "\n",
    "num_modes = xgrid.shape[0]\n",
    "\n",
    "prev_idx = 0\n",
    "for i in range(n):\n",
    "    lyap_time = lyapunov_time_arr[i]\n",
    "    print(lyap_time)\n",
    "    start_time = 0\n",
    "    plot_time = 20*lyap_time\n",
    "    # next_idx = boundary_idx_arr[i]\n",
    "    prev_idx += int((start_time + 0.5*dt_ae)//dt_ae) \n",
    "    next_idx = prev_idx + int((plot_time+0.5*dt_ae)//dt_ae)\n",
    "    fig, ax = plt.subplots(figsize=(factor*7.5*num_cols, factor*5.0*num_rows))\n",
    "    N = next_idx - prev_idx\n",
    "    # print(N)\n",
    "    input_time = (start_time + np.arange(0, N)*dt_ae)/lyap_time\n",
    "\n",
    "    # temp = N*delta_t\n",
    "    # chosen_interval = temp//10\n",
    "    # sn = np.format_float_scientific(chosen_interval, exp_digits=4)\n",
    "    # # print(temp, sn)\n",
    "    # snap = 25*np.round(10*float(sn[0:-6])/25)/10\n",
    "    # if snap == 0:\n",
    "    #     snap = 0.1\n",
    "    # snap *= float('1'+sn[-6:])\n",
    "    # xticks_snapto = int(snap*np.round(chosen_interval/snap))\n",
    "\n",
    "    # prev_idx = boundary_idx_arr[i] - (next_idx-prev_idx)\n",
    "    # next_idx = boundary_idx_arr[i]\n",
    "    \n",
    "    ax.plot(input_time, KE_org_list[i][prev_idx:next_idx], color='k', label='Original Data')\n",
    "    ax.plot(input_time, KE_reconstructed_list[i][prev_idx:next_idx], color='C0', label='Reconstructed Data')\n",
    "    # num_xticks = 1 + int((N*delta_t + 0.5*xticks_snapto) // xticks_snapto)\n",
    "    # xticks = np.linspace(0, N, num_xticks, dtype=np.int32)\n",
    "    # xticks = int((start_time + 0.5*delta_t)//delta_t) + np.arange(0, N+1, int((xticks_snapto+0.5*delta_t)//delta_t))\n",
    "    # print(xticks)\n",
    "    # ax.set_xticks(ticks=np.round(xticks*delta_t, 1))\n",
    "    # ax.set_xticklabels(np.round(xticks*delta_t, 1))\n",
    "    ax.tick_params(axis='x', rotation=270+45)\n",
    "\n",
    "    # yticks = np.linspace(0, 1, 10+1)*(len(xgrid)-1)\n",
    "    # yticklabels = np.round(np.linspace(0, 1, yticks.shape[0])*xgrid[-1], 2)\n",
    "    # ax.set_yticks(ticks=yticks)\n",
    "    # ax.set_yticklabels(yticklabels)\n",
    "\n",
    "    ax.set_xlabel(r'Time$^+$')\n",
    "    ax.set_ylabel(r'$KE$')\n",
    "    ax.grid(True)\n",
    "    ax.legend()\n",
    "    # ax.title.set_text(r'Latent States')\n",
    "    # if ax_titles_list is not None:\n",
    "    # ax.title.set_text(ax_titles_list[i])\n",
    "    # else:\n",
    "    ax.title.set_text(r'Case '+str(i+1))\n",
    "\n",
    "    text_xy = [0.05, 0.05]\n",
    "    ax.text(\n",
    "        text_xy[0],\n",
    "        text_xy[1],\n",
    "        'latent space dimensions : {}'.format(\n",
    "            latent_states_all.shape[1],\n",
    "        ),\n",
    "        transform=ax.transAxes,\n",
    "        bbox=dict(\n",
    "            boxstyle=\"round\",\n",
    "            ec=(0.6, 0.6, 1),\n",
    "            fc=(0.9, 0.9, 1),\n",
    "            alpha=0.8\n",
    "        ),\n",
    "        # bbox=dict(facecolor='C0', alpha=0.5, boxstyle='round,pad=0.2'),\n",
    "        horizontalalignment='left',\n",
    "        verticalalignment='bottom'\n",
    "    )\n",
    "    \n",
    "    # plt.colorbar(im)\n",
    "    if save_dir is not None:\n",
    "        fig.savefig(save_dir+dir_sep+'KE-Case_'+str(i+1).zfill(num_digits_n)+'.png', dpi=300, bbox_inches='tight')\n",
    "        fig.clear()\n",
    "        plt.close()\n",
    "    else:\n",
    "        plt.show()\n",
    "        print('')\n",
    "\n",
    "    prev_idx = next_idx"
   ]
  },
  {
   "cell_type": "code",
   "execution_count": 50,
   "metadata": {},
   "outputs": [],
   "source": [
    "def compute_laplace_operator(\n",
    "        data,\n",
    "        xgrid\n",
    "    ):\n",
    "    from scipy.fft import fft, ifft, fftfreq\n",
    "    M = xgrid.shape[0]\n",
    "    length = xgrid[-1]\n",
    "    k = fftfreq(M) * M * 2*np.pi/length\n",
    "    laplace_operated_data = data[:, 0:M].copy()\n",
    "    for i in range(data.shape[0]):\n",
    "        v = fft(data[i, 0:M])\n",
    "        v = k*k*v\n",
    "        laplace_operated_data[i, :] = np.real(ifft(v))\n",
    "    return laplace_operated_data"
   ]
  },
  {
   "cell_type": "code",
   "execution_count": 51,
   "metadata": {},
   "outputs": [
    {
     "name": "stdout",
     "output_type": "stream",
     "text": [
      "Case 1 - D_nrmse : 0.012049266296651547\n"
     ]
    }
   ],
   "source": [
    "# Time evolution of Dissipation\n",
    "D_org_list = []\n",
    "D_reconstructed_list = []\n",
    "D_nrmse = []\n",
    "\n",
    "begin_idx = 0\n",
    "for i in range(len(boundary_idx_arr)):\n",
    "    temp = compute_laplace_operator(rescaled_org_data[begin_idx:boundary_idx_arr[i]], xgrid)\n",
    "    D_org = np.sum(temp[:, 1:-1]**2, axis=1)\n",
    "    D_org += 0.5*(temp[:, 0]**2)\n",
    "    D_org += 0.5*(temp[:, -1]**2)\n",
    "    D_org /= xgrid.shape[0]-1\n",
    "    D_org_list.append(D_org)\n",
    "    \n",
    "    temp = compute_laplace_operator(rescaled_recon_data[begin_idx:boundary_idx_arr[i]], xgrid)\n",
    "    D_recon = np.sum(temp[:, 1:-1]**2, axis=1)\n",
    "    D_recon += 0.5*(temp[:, 0]**2)\n",
    "    D_recon += 0.5*(temp[:, -1]**2)\n",
    "    D_recon /= xgrid.shape[0]-1\n",
    "    D_reconstructed_list.append(D_recon)\n",
    "    \n",
    "    D_rmse = np.mean((D_recon - D_org)**2)**0.5\n",
    "    D_mean = np.mean(D_org)\n",
    "    D_rmse_normalized = D_rmse/D_mean\n",
    "    D_nrmse.append(D_rmse_normalized)\n",
    "    \n",
    "    print('Case {} - D_nrmse : {}'.format(i+1, D_rmse_normalized))\n",
    "    \n",
    "    begin_idx = boundary_idx_arr[i]"
   ]
  },
  {
   "cell_type": "code",
   "execution_count": 52,
   "metadata": {},
   "outputs": [],
   "source": [
    "n = len(boundary_idx_arr)\n",
    "num_digits_n = int(np.log10(n)+1)\n",
    "\n",
    "# '''\n",
    "num_cols = 1\n",
    "num_rows = 1\n",
    "factor = 1\n",
    "num_modes = xgrid.shape[0]\n",
    "\n",
    "prev_idx = 0\n",
    "for i in range(n):\n",
    "    lyap_time = lyapunov_time_arr[i]\n",
    "    start_time = 0\n",
    "    plot_time = 20*lyap_time\n",
    "    # next_idx = boundary_idx_arr[i]\n",
    "    prev_idx += int((start_time + 0.5*dt_ae)//dt_ae) \n",
    "    next_idx = prev_idx + int((plot_time+0.5*dt_ae)//dt_ae)\n",
    "    fig, ax = plt.subplots(figsize=(factor*7.5*num_cols, factor*5.0*num_rows))\n",
    "    N = next_idx - prev_idx\n",
    "    # print(N)\n",
    "    input_time = (start_time + np.arange(0, N)*dt_ae)/lyap_time\n",
    "    \n",
    "    # temp = N*delta_t\n",
    "    # chosen_interval = temp//10\n",
    "    # sn = np.format_float_scientific(chosen_interval, exp_digits=4)\n",
    "    # # print(temp, sn)\n",
    "    # snap = 25*np.round(10*float(sn[0:-6])/25)/10\n",
    "    # if snap == 0:\n",
    "    #     snap = 0.1\n",
    "    # snap *= float('1'+sn[-6:])\n",
    "    # xticks_snapto = int(snap*np.round(chosen_interval/snap))\n",
    "\n",
    "    ax.plot(input_time, D_org_list[i][prev_idx:next_idx], color='k', label='Original Data')\n",
    "    ax.plot(input_time, D_reconstructed_list[i][prev_idx:next_idx], color='C0', label='Reconstructed Data')\n",
    "    # num_xticks = 1 + int((N*delta_t + 0.5*xticks_snapto) // xticks_snapto)\n",
    "    # xticks = np.linspace(0, N, num_xticks, dtype=np.int32)\n",
    "    # xticks = int((start_time + 0.5*delta_t)//delta_t) + np.arange(0, N+1, int((xticks_snapto+0.5*delta_t)//delta_t))\n",
    "    # print(xticks)\n",
    "    # ax.set_xticks(ticks=np.round(xticks*delta_t, 1))\n",
    "    # ax.set_xticklabels(np.round(xticks*delta_t, 1))\n",
    "    ax.tick_params(axis='x', rotation=270+45)\n",
    "\n",
    "    # yticks = np.linspace(0, 1, 10+1)*(len(xgrid)-1)\n",
    "    # yticklabels = np.round(np.linspace(0, 1, yticks.shape[0])*xgrid[-1], 2)\n",
    "    # ax.set_yticks(ticks=yticks)\n",
    "    # ax.set_yticklabels(yticklabels)\n",
    "\n",
    "    ax.set_xlabel(r'Time$^+$')\n",
    "    ax.set_ylabel(r'$D$')\n",
    "    ax.grid(True)\n",
    "    ax.legend()\n",
    "    # ax.title.set_text(r'Latent States')\n",
    "    # if ax_titles_list is not None:\n",
    "    #     ax.title.set_text(ax_titles_list[i])\n",
    "    # else:\n",
    "    ax.title.set_text(r'Case '+str(i+1))\n",
    "\n",
    "    text_xy = [0.05, 0.05]\n",
    "    ax.text(\n",
    "        text_xy[0],\n",
    "        text_xy[1],\n",
    "        'latent space dimensions : {}'.format(\n",
    "            latent_states_all.shape[1],\n",
    "        ),\n",
    "        transform=ax.transAxes,\n",
    "        bbox=dict(\n",
    "            boxstyle=\"round\",\n",
    "            ec=(0.6, 0.6, 1),\n",
    "            fc=(0.9, 0.9, 1),\n",
    "            alpha=0.8\n",
    "        ),\n",
    "        # bbox=dict(facecolor='C0', alpha=0.5, boxstyle='round,pad=0.2'),\n",
    "        horizontalalignment='left',\n",
    "        verticalalignment='bottom'\n",
    "    )\n",
    "\n",
    "    if save_dir is not None:\n",
    "        fig.savefig(save_dir+'/Dissipation-Case_'+str(i+1).zfill(num_digits_n)+'.png', dpi=300, bbox_inches='tight')\n",
    "        fig.clear()\n",
    "        plt.close()\n",
    "    else:\n",
    "        plt.show()\n",
    "        print('')\n",
    "\n",
    "    prev_idx = next_idx"
   ]
  },
  {
   "cell_type": "code",
   "execution_count": 53,
   "metadata": {},
   "outputs": [],
   "source": [
    "np.savez(\n",
    "    dir_name_ae+dir_sep+'KE_D_data',\n",
    "    KE_org_list=KE_org_list,\n",
    "    KE_reconstructed_list=KE_reconstructed_list,\n",
    "    KE_nrmse=KE_nrmse,\n",
    "    D_org_list=D_org_list,\n",
    "    D_reconstructed_list=D_reconstructed_list,\n",
    "    D_nrmse=D_nrmse,\n",
    "    num_latent_states=[latent_states_all.shape[1]],\n",
    ")"
   ]
  },
  {
   "cell_type": "code",
   "execution_count": 54,
   "metadata": {},
   "outputs": [],
   "source": [
    "KE_D_data_dict = {\n",
    "    'KE_org_list':list(KE_org_list),\n",
    "    'KE_reconstructed_list':list(KE_reconstructed_list),\n",
    "    'KE_nrmse':list(KE_nrmse),\n",
    "    'D_org_list':list(D_org_list),\n",
    "    'D_reconstructed_list':list(D_reconstructed_list),\n",
    "    'D_nrmse':list(D_nrmse),\n",
    "    'num_latent_states':[latent_states_all.shape[1]],\n",
    "}\n",
    "\n",
    "with open(dir_name_ae+'/KE_D_data.txt', 'w') as f:\n",
    "    f.write(str(KE_D_data_dict))"
   ]
  },
  {
   "cell_type": "code",
   "execution_count": 55,
   "metadata": {},
   "outputs": [
    {
     "name": "stdout",
     "output_type": "stream",
     "text": [
      "<tf.Variable 'single_weights/individual_weights:0' shape=(64,) dtype=float32, numpy=\n",
      "array([1.641056 , 1.6156361, 1.6089268, 1.6333565, 1.6428756, 1.6110235,\n",
      "       1.6274734, 1.6470201, 1.6410958, 1.6174463, 1.6415147, 1.6479906,\n",
      "       1.6076162, 1.6150287, 1.6324683, 1.6371652, 1.6159337, 1.6396441,\n",
      "       1.6316781, 1.6065577, 1.6120981, 1.6345109, 1.625059 , 1.6219254,\n",
      "       1.6279627, 1.6418865, 1.6228954, 1.6273608, 1.6475651, 1.6215837,\n",
      "       1.5953202, 1.6320578, 1.6505284, 1.613939 , 1.6096987, 1.6441283,\n",
      "       1.6415684, 1.6158767, 1.6248872, 1.634701 , 1.6161354, 1.6070487,\n",
      "       1.6400073, 1.6412207, 1.6228209, 1.614241 , 1.6430298, 1.6359874,\n",
      "       1.6130555, 1.6183144, 1.6432619, 1.6226279, 1.6151534, 1.6202698,\n",
      "       1.6115996, 1.6061175, 1.6195599, 1.6493742, 1.6299744, 1.6074243,\n",
      "       1.6195449, 1.6187949, 1.602939 , 1.6197274], dtype=float32)>\n"
     ]
    }
   ],
   "source": [
    "if ae_net.use_weights_post_dense == True:\n",
    "    print(ae_net.decoder_layers_list[-1].individual_weights)"
   ]
  },
  {
   "cell_type": "code",
   "execution_count": null,
   "metadata": {},
   "outputs": [],
   "source": []
  },
  {
   "cell_type": "code",
   "execution_count": null,
   "metadata": {},
   "outputs": [],
   "source": []
  }
 ],
 "metadata": {
  "colab": {
   "collapsed_sections": [],
   "provenance": []
  },
  "gpuClass": "standard",
  "kernelspec": {
   "display_name": "Python 3 (ipykernel)",
   "language": "python",
   "name": "python3"
  },
  "language_info": {
   "codemirror_mode": {
    "name": "ipython",
    "version": 3
   },
   "file_extension": ".py",
   "mimetype": "text/x-python",
   "name": "python",
   "nbconvert_exporter": "python",
   "pygments_lexer": "ipython3",
   "version": "3.10.6"
  }
 },
 "nbformat": 4,
 "nbformat_minor": 1
}
