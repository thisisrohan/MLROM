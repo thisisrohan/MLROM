{
 "cells": [
  {
   "cell_type": "code",
   "execution_count": 9,
   "metadata": {
    "executionInfo": {
     "elapsed": 3,
     "status": "ok",
     "timestamp": 1667868739487,
     "user": {
      "displayName": "Rohan Kaushik",
      "userId": "13918477614376051685"
     },
     "user_tz": -60
    },
    "id": "4xhxMpe_r-Y5"
   },
   "outputs": [],
   "source": [
    "# enabling 3rd party widgets\n",
    "# from google.colab import output\n",
    "# output.enable_custom_widget_manager()\n",
    "# output.disable_custom_widget_manager()\n",
    "\n",
    "# interactive 3D plot\n",
    "# !pip install ipympl\n",
    "# %matplotlib widget"
   ]
  },
  {
   "cell_type": "code",
   "execution_count": 10,
   "metadata": {
    "executionInfo": {
     "elapsed": 3563,
     "status": "ok",
     "timestamp": 1667868743047,
     "user": {
      "displayName": "Rohan Kaushik",
      "userId": "13918477614376051685"
     },
     "user_tz": -60
    },
    "id": "a5qPupCDsjSz"
   },
   "outputs": [],
   "source": [
    "import os\n",
    "import sys\n",
    "import math\n",
    "from collections import OrderedDict\n",
    "import numpy as np\n",
    "import matplotlib.pyplot as plt\n",
    "from scipy import linalg\n",
    "\n",
    "import time as time\n",
    "import platform as platform\n",
    "\n",
    "import tensorflow as tf\n",
    "from tensorflow.keras import layers, losses\n",
    "from tensorflow.keras.models import Model\n",
    "from tensorflow.keras import backend as K\n",
    "from tensorflow.keras.regularizers import L2\n",
    "import h5py\n",
    "\n",
    "from skopt import gp_minimize\n",
    "from skopt.space import Integer, Real\n",
    "\n",
    "tf.keras.backend.set_floatx('float32')\n",
    "\n",
    "plt.rcParams.update({\n",
    "    \"text.usetex\":True,\n",
    "    \"font.family\":\"serif\"\n",
    "})"
   ]
  },
  {
   "cell_type": "code",
   "execution_count": 11,
   "metadata": {
    "colab": {
     "base_uri": "https://localhost:8080/"
    },
    "executionInfo": {
     "elapsed": 10,
     "status": "ok",
     "timestamp": 1667868743048,
     "user": {
      "displayName": "Rohan Kaushik",
      "userId": "13918477614376051685"
     },
     "user_tz": -60
    },
    "id": "h_qXhHdbCgoj",
    "outputId": "3473a883-d145-4778-9be7-7d44e0c6ea67"
   },
   "outputs": [],
   "source": [
    "colab_flag = False\n",
    "FTYPE = np.float32\n",
    "ITYPE = np.int32\n",
    "\n",
    "array = np.array\n",
    "float32 = np.float32\n",
    "int32 = np.int32\n",
    "float64 = np.float64\n",
    "int64 = np.int64\n",
    "\n",
    "strategy = None\n",
    "# strategy = tf.distribute.MirroredStrategy()"
   ]
  },
  {
   "cell_type": "code",
   "execution_count": 12,
   "metadata": {
    "executionInfo": {
     "elapsed": 7,
     "status": "ok",
     "timestamp": 1667868743048,
     "user": {
      "displayName": "Rohan Kaushik",
      "userId": "13918477614376051685"
     },
     "user_tz": -60
    },
    "id": "BiLIUmBPneQR"
   },
   "outputs": [],
   "source": [
    "current_sys = platform.system()\n",
    "\n",
    "if current_sys == 'Windows':\n",
    "    dir_sep = '\\\\'\n",
    "else:\n",
    "    dir_sep = '/'"
   ]
  },
  {
   "cell_type": "code",
   "execution_count": 13,
   "metadata": {
    "colab": {
     "base_uri": "https://localhost:8080/"
    },
    "executionInfo": {
     "elapsed": 18870,
     "status": "ok",
     "timestamp": 1667868761912,
     "user": {
      "displayName": "Rohan Kaushik",
      "userId": "13918477614376051685"
     },
     "user_tz": -60
    },
    "id": "fnTV6Anhni6O",
    "outputId": "bf1d11f8-667f-4cb5-d8d5-b9d860b44d99"
   },
   "outputs": [],
   "source": [
    "if colab_flag == True:\n",
    "    from google.colab import drive\n",
    "    drive.mount('/content/drive')\n",
    "    os.chdir('/content/drive/MyDrive/Github/MLROM/KS/')"
   ]
  },
  {
   "cell_type": "code",
   "execution_count": 14,
   "metadata": {
    "colab": {
     "base_uri": "https://localhost:8080/"
    },
    "executionInfo": {
     "elapsed": 6,
     "status": "ok",
     "timestamp": 1667868761912,
     "user": {
      "displayName": "Rohan Kaushik",
      "userId": "13918477614376051685"
     },
     "user_tz": -60
    },
    "id": "paDfPOrjnkAS",
    "outputId": "58054510-4476-49b4-f8ba-e2978a028b36"
   },
   "outputs": [
    {
     "name": "stdout",
     "output_type": "stream",
     "text": [
      "/home/rkaushik/Documents/Thesis/MLROM/new_ks\n"
     ]
    }
   ],
   "source": [
    "print(os.getcwd())"
   ]
  },
  {
   "cell_type": "code",
   "execution_count": 15,
   "metadata": {
    "executionInfo": {
     "elapsed": 4575,
     "status": "ok",
     "timestamp": 1667868766483,
     "user": {
      "displayName": "Rohan Kaushik",
      "userId": "13918477614376051685"
     },
     "user_tz": -60
    },
    "id": "P6K2YWlR6ZPD"
   },
   "outputs": [],
   "source": [
    "from tools.misc_tools import create_data_for_RNN, mytimecallback, SaveLosses, plot_losses, return_hilbert_x0, plot_histogram_and_save\n",
    "from tools.ae_v1 import Autoencoder\n",
    "from tools.GRU_SingleStep_v1 import RNN_GRU\n",
    "from tools.GRU_AR_v1 import AR_RNN_GRU\n",
    "from tools.AEGRU_AR_v1 import AR_AERNN_GRU\n",
    "from tools.hyper_param_GRU import trainGRU_and_return_PH"
   ]
  },
  {
   "cell_type": "code",
   "execution_count": null,
   "metadata": {},
   "outputs": [],
   "source": []
  },
  {
   "cell_type": "code",
   "execution_count": 16,
   "metadata": {
    "executionInfo": {
     "elapsed": 9,
     "status": "ok",
     "timestamp": 1667868766483,
     "user": {
      "displayName": "Rohan Kaushik",
      "userId": "13918477614376051685"
     },
     "user_tz": -60
    },
    "id": "_xtkwXE2tGTP"
   },
   "outputs": [],
   "source": [
    "behaviour = 'initialiseAndTrainFromScratch'\n",
    "# behaviour = 'loadCheckpointAndContinueTraining'\n",
    "# behaviour = 'loadFinalNetAndPlot'"
   ]
  },
  {
   "cell_type": "code",
   "execution_count": 17,
   "metadata": {
    "executionInfo": {
     "elapsed": 9,
     "status": "ok",
     "timestamp": 1667868766484,
     "user": {
      "displayName": "Rohan Kaushik",
      "userId": "13918477614376051685"
     },
     "user_tz": -60
    },
    "id": "8S1AHEkl48bn"
   },
   "outputs": [],
   "source": [
    "# setting seed for PRNGs\n",
    "if behaviour == 'initialiseAndTrainFromScratch':\n",
    "    prng_seed = 42\n",
    "    np.random.seed(prng_seed)\n",
    "    tf.random.set_seed(prng_seed)"
   ]
  },
  {
   "cell_type": "code",
   "execution_count": 18,
   "metadata": {
    "colab": {
     "base_uri": "https://localhost:8080/"
    },
    "executionInfo": {
     "elapsed": 9,
     "status": "ok",
     "timestamp": 1667868766484,
     "user": {
      "displayName": "Rohan Kaushik",
      "userId": "13918477614376051685"
     },
     "user_tz": -60
    },
    "id": "qvA9oeCHCTVM",
    "outputId": "0f2de849-59ee-4ed9-b65d-c5952e0dcb55"
   },
   "outputs": [
    {
     "name": "stdout",
     "output_type": "stream",
     "text": [
      "[PhysicalDevice(name='/physical_device:GPU:0', device_type='GPU')]\n",
      "[LogicalDevice(name='/device:GPU:0', device_type='GPU')]\n"
     ]
    },
    {
     "name": "stderr",
     "output_type": "stream",
     "text": [
      "2023-07-12 01:10:43.998491: I tensorflow/stream_executor/cuda/cuda_gpu_executor.cc:936] successful NUMA node read from SysFS had negative value (-1), but there must be at least one NUMA node, so returning NUMA node zero\n",
      "2023-07-12 01:10:44.031844: I tensorflow/stream_executor/cuda/cuda_gpu_executor.cc:936] successful NUMA node read from SysFS had negative value (-1), but there must be at least one NUMA node, so returning NUMA node zero\n",
      "2023-07-12 01:10:44.032087: I tensorflow/stream_executor/cuda/cuda_gpu_executor.cc:936] successful NUMA node read from SysFS had negative value (-1), but there must be at least one NUMA node, so returning NUMA node zero\n",
      "2023-07-12 01:10:44.032968: I tensorflow/core/platform/cpu_feature_guard.cc:151] This TensorFlow binary is optimized with oneAPI Deep Neural Network Library (oneDNN) to use the following CPU instructions in performance-critical operations:  SSE4.1 SSE4.2 AVX AVX2 FMA\n",
      "To enable them in other operations, rebuild TensorFlow with the appropriate compiler flags.\n",
      "2023-07-12 01:10:44.033522: I tensorflow/stream_executor/cuda/cuda_gpu_executor.cc:936] successful NUMA node read from SysFS had negative value (-1), but there must be at least one NUMA node, so returning NUMA node zero\n",
      "2023-07-12 01:10:44.033700: I tensorflow/stream_executor/cuda/cuda_gpu_executor.cc:936] successful NUMA node read from SysFS had negative value (-1), but there must be at least one NUMA node, so returning NUMA node zero\n",
      "2023-07-12 01:10:44.033867: I tensorflow/stream_executor/cuda/cuda_gpu_executor.cc:936] successful NUMA node read from SysFS had negative value (-1), but there must be at least one NUMA node, so returning NUMA node zero\n",
      "2023-07-12 01:10:44.451322: I tensorflow/stream_executor/cuda/cuda_gpu_executor.cc:936] successful NUMA node read from SysFS had negative value (-1), but there must be at least one NUMA node, so returning NUMA node zero\n",
      "2023-07-12 01:10:44.451517: I tensorflow/stream_executor/cuda/cuda_gpu_executor.cc:936] successful NUMA node read from SysFS had negative value (-1), but there must be at least one NUMA node, so returning NUMA node zero\n",
      "2023-07-12 01:10:44.451680: I tensorflow/stream_executor/cuda/cuda_gpu_executor.cc:936] successful NUMA node read from SysFS had negative value (-1), but there must be at least one NUMA node, so returning NUMA node zero\n",
      "2023-07-12 01:10:44.451792: I tensorflow/core/common_runtime/gpu/gpu_device.cc:1525] Created device /job:localhost/replica:0/task:0/device:GPU:0 with 23651 MB memory:  -> device: 0, name: Tesla P40, pci bus id: 0000:03:00.0, compute capability: 6.1\n"
     ]
    }
   ],
   "source": [
    "gpus = tf.config.list_physical_devices('GPU')\n",
    "print(gpus)\n",
    "\n",
    "if colab_flag == False:\n",
    "    if strategy is None:\n",
    "        if gpus:\n",
    "            gpu_to_use = 0\n",
    "            tf.config.set_visible_devices(gpus[gpu_to_use], 'GPU')\n",
    "    logical_devices = tf.config.list_logical_devices('GPU')\n",
    "    print(logical_devices)"
   ]
  },
  {
   "cell_type": "code",
   "execution_count": 19,
   "metadata": {
    "colab": {
     "base_uri": "https://localhost:8080/"
    },
    "executionInfo": {
     "elapsed": 8,
     "status": "ok",
     "timestamp": 1667868766484,
     "user": {
      "displayName": "Rohan Kaushik",
      "userId": "13918477614376051685"
     },
     "user_tz": -60
    },
    "id": "tc3zO9xL_tNl",
    "outputId": "c9786b4c-8510-47d0-801d-181e3b12239c"
   },
   "outputs": [
    {
     "name": "stdout",
     "output_type": "stream",
     "text": [
      "[PhysicalDevice(name='/physical_device:CPU:0', device_type='CPU'), PhysicalDevice(name='/physical_device:GPU:0', device_type='GPU')]\n",
      "[LogicalDevice(name='/device:CPU:0', device_type='CPU'), LogicalDevice(name='/device:GPU:0', device_type='GPU')]\n",
      "2.8.1\n"
     ]
    }
   ],
   "source": [
    "# print(tf.test.gpu_device_name())\n",
    "print(tf.config.list_physical_devices())\n",
    "print(tf.config.list_logical_devices())\n",
    "print(tf.__version__)"
   ]
  },
  {
   "cell_type": "markdown",
   "metadata": {
    "id": "7UbdnOtc4_z9"
   },
   "source": [
    "# KS System"
   ]
  },
  {
   "cell_type": "code",
   "execution_count": 23,
   "metadata": {
    "executionInfo": {
     "elapsed": 6,
     "status": "ok",
     "timestamp": 1667868766485,
     "user": {
      "displayName": "Rohan Kaushik",
      "userId": "13918477614376051685"
     },
     "user_tz": -60
    },
    "id": "8aNkoXfyGq52"
   },
   "outputs": [],
   "source": [
    "# setting up params (and saving, if applicable)\n",
    "from numpy import *\n",
    "\n",
    "# making RNN save directory\n",
    "dir_name_rnn = os.getcwd() + dir_sep + 'GRU_params_Search'\n",
    "dir_name_rnn += dir_sep + 'params_search_000'\n",
    "\n",
    "with open(dir_name_rnn + '/optim_params.txt', 'r') as f:\n",
    "    lines = f.readlines()\n",
    "optimparams_dict = eval(''.join(lines))\n",
    "\n",
    "vary_zoneout = True# optimparams_dict['vary_zoneout']\n",
    "fRMS_bounds = optimparams_dict['fRMS_bounds']\n",
    "lambda_reg_bounds = optimparams_dict['lambda_reg_bounds']\n",
    "if vary_zoneout == True:\n",
    "    zoneout_bounds = optimparams_dict['zoneout_bounds']\n",
    "\n",
    "n_pregp = 30"
   ]
  },
  {
   "cell_type": "code",
   "execution_count": 24,
   "metadata": {},
   "outputs": [],
   "source": [
    "# dname_single_rnn = dir_name_rnn + '/tested_rnn/test_rnn_000'\n",
    "\n",
    "# with open(dname_single_rnn+'/final_net/final_net_class_dict.txt', 'r') as f:\n",
    "#     lines = f.readlines()\n",
    "# rnnfnc_dict = eval(''.join(lines))\n",
    "\n",
    "# for key in rnnfnc_dict.keys():\n",
    "#     print(key + ' = rnnfnc_dict[\"{}\"]'.format(key))"
   ]
  },
  {
   "cell_type": "code",
   "execution_count": 25,
   "metadata": {
    "colab": {
     "base_uri": "https://localhost:8080/"
    },
    "executionInfo": {
     "elapsed": 5768,
     "status": "ok",
     "timestamp": 1667868772247,
     "user": {
      "displayName": "Rohan Kaushik",
      "userId": "13918477614376051685"
     },
     "user_tz": -60
    },
    "id": "O7sl7i5H5Dqz",
    "outputId": "419ef0e0-4d58-454e-d0af-17af3b846b85"
   },
   "outputs": [],
   "source": [
    "dname_single_rnn = dir_name_rnn + '/tested_rnn/test_rnn_000'\n",
    "\n",
    "with open(dname_single_rnn+'/sim_data_AE_params.txt', 'r') as f:\n",
    "    lines = f.readlines()\n",
    "simdataae_dict = eval(''.join(lines))\n",
    "\n",
    "params_mat = simdataae_dict[\"params_mat\"]\n",
    "init_state_mat = simdataae_dict[\"init_state_mat\"]\n",
    "t0 = simdataae_dict[\"t0\"]\n",
    "T = simdataae_dict[\"T\"]\n",
    "delta_t = simdataae_dict[\"delta_t\"]\n",
    "return_params_arr = simdataae_dict[\"return_params_arr\"]\n",
    "dir_name_ae = simdataae_dict[\"dir_name_ae\"]\n",
    "normalize_dataset = simdataae_dict[\"normalize_dataset\"]\n",
    "stddev_multiplier = simdataae_dict[\"stddev_multiplier\"]\n",
    "use_ae_data = simdataae_dict[\"use_ae_data\"]\n",
    "\n",
    "with open(dname_single_rnn+'/training_specific_params.txt', 'r') as f:\n",
    "    lines = f.readlines()\n",
    "rnntrainspec_dict = eval(''.join(lines))\n",
    "\n",
    "epochs = rnntrainspec_dict[\"epochs\"]\n",
    "prng_seed = rnntrainspec_dict[\"prng_seed\"]\n",
    "train_split = rnntrainspec_dict[\"train_split\"]\n",
    "val_split = rnntrainspec_dict[\"val_split\"]\n",
    "batch_size = rnntrainspec_dict[\"batch_size\"]\n",
    "timeMeanofSpaceRMS = rnntrainspec_dict[\"timeMeanofSpaceRMS\"]\n",
    "min_delta = rnntrainspec_dict[\"min_delta\"]\n",
    "patience = rnntrainspec_dict[\"patience\"]\n",
    "rnncell_dropout_rate = rnntrainspec_dict[\"rnncell_dropout_rate\"]\n",
    "denselayer_dropout_rate = rnntrainspec_dict[\"denselayer_dropout_rate\"]\n",
    "fRMS = rnntrainspec_dict[\"fRMS\"]\n",
    "lambda_reg = rnntrainspec_dict[\"lambda_reg\"]\n",
    "stddev = rnntrainspec_dict[\"stddev\"]\n",
    "zoneout_rate = rnntrainspec_dict[\"zoneout_rate\"]\n",
    "\n",
    "test_split = 1. - train_split - val_split\n",
    "\n",
    "with open(dname_single_rnn+'/RNN_specific_data.txt', 'r') as f:\n",
    "    lines = f.readlines()\n",
    "rnnspec_dict = eval(''.join(lines))\n",
    "\n",
    "dt_rnn = rnnspec_dict[\"dt_rnn\"]\n",
    "T_sample_input = rnnspec_dict[\"T_sample_input\"]\n",
    "T_sample_output = rnnspec_dict[\"T_sample_output\"]\n",
    "T_offset = rnnspec_dict[\"T_offset\"]\n",
    "boundary_idx_arr = rnnspec_dict[\"boundary_idx_arr\"]\n",
    "delta_t = rnnspec_dict[\"delta_t\"]\n",
    "params = rnnspec_dict[\"params\"]\n",
    "return_params_arr = rnnspec_dict[\"return_params_arr\"]\n",
    "normalize_dataset = rnnspec_dict[\"normalize_dataset\"]\n",
    "num_lyaptimesteps_totrain = rnnspec_dict[\"num_lyaptimesteps_totrain\"]\n",
    "stddev_multiplier = rnnspec_dict[\"stddev_multiplier\"]\n",
    "skip_intermediate = rnnspec_dict[\"skip_intermediate\"]\n",
    "module = rnnspec_dict[\"module\"]\n",
    "noise_type = rnnspec_dict[\"noise_type\"]\n",
    "normalization_type = rnnspec_dict[\"normalization_type\"]\n",
    "dense_layer_act_func = rnnspec_dict[\"dense_layer_act_func\"]\n",
    "stateful = rnnspec_dict[\"stateful\"]\n",
    "use_learnable_state = rnnspec_dict[\"use_learnable_state\"]\n",
    "use_weights_post_dense = rnnspec_dict[\"use_weights_post_dense\"]\n",
    "use_trainable_weights_with_reslayers = rnnspec_dict[\"use_trainable_weights_with_reslayers\"]\n",
    "\n",
    "\n",
    "with open(dname_single_rnn+'/final_net/final_net_class_dict.txt', 'r') as f:\n",
    "    lines = f.readlines()\n",
    "rnnfnc_dict = eval(''.join(lines))\n",
    "\n",
    "reg_name = rnnfnc_dict[\"reg_name\"]\n",
    "rnn_layers_units = rnnfnc_dict[\"rnn_layers_units\"]\n",
    "dense_layer_act_func = rnnfnc_dict[\"dense_layer_act_func\"]\n",
    "mean = rnnfnc_dict[\"mean\"]\n",
    "noise_type = rnnfnc_dict[\"noise_type\"]\n",
    "dense_dim = rnnfnc_dict[\"dense_dim\"]\n",
    "use_learnable_state = rnnfnc_dict[\"use_learnable_state\"]\n",
    "stateful = rnnfnc_dict[\"stateful\"]\n",
    "scalar_weights = rnnfnc_dict[\"scalar_weights\"]\n",
    "use_weights_post_dense = rnnfnc_dict[\"use_weights_post_dense\"]\n",
    "zoneout_rate = rnnfnc_dict[\"zoneout_rate\"]\n",
    "if vary_zoneout == False:\n",
    "    zoneout_x0 = zoneout_rate\n",
    "rnncell_dropout_rate = rnnfnc_dict[\"rnncell_dropout_rate\"]\n",
    "denselayer_dropout_rate = rnnfnc_dict[\"denselayer_dropout_rate\"]"
   ]
  },
  {
   "cell_type": "code",
   "execution_count": 26,
   "metadata": {},
   "outputs": [
    {
     "name": "stdout",
     "output_type": "stream",
     "text": [
      "dir_name_rnn: /home/rkaushik/Documents/Thesis/MLROM/new_ks/GRU_params_Search/params_search_000\n",
      "use_ae_data : True, dir_name_ae: /home/rkaushik/Documents/Thesis/MLROM/new_ks/saved_ae/ae_000\n",
      "data_dir_idx: 000\n",
      "normalize_flag_ogdata: False\n"
     ]
    }
   ],
   "source": [
    "# reading simulation parameters\n",
    "with open(dir_name_ae + dir_sep + 'ae_data.txt') as f:\n",
    "    lines = f.readlines()\n",
    "params_dict = eval(''.join(lines))\n",
    "data_dir_idx = params_dict['data_dir_idx']\n",
    "normalizeforae_flag = params_dict['normalizeforae_flag']\n",
    "normalization_constant_arr_aedata = params_dict['normalization_constant_arr_aedata']\n",
    "try:\n",
    "    ae_data_with_params = params_dict['ae_data_with_params']\n",
    "except:\n",
    "    print(\"'ae_data_with_params' not present in ae_data, set to 'True'.\")\n",
    "    ae_data_with_params = True\n",
    "\n",
    "if os.path.exists(dir_name_ae+dir_sep+'normalization_data.npz'):\n",
    "    with np.load(dir_name_ae+dir_sep+'normalization_data.npz', allow_pickle=True) as fl:\n",
    "        normalization_constant_arr_aedata = fl['normalization_constant_arr_aedata'][0]\n",
    "\n",
    "print('dir_name_rnn:', dir_name_rnn)\n",
    "print('use_ae_data : ' + str(use_ae_data) + ', dir_name_ae:', dir_name_ae)\n",
    "print('data_dir_idx:', data_dir_idx)\n",
    "\n",
    "# loading data\n",
    "dir_name_data = os.getcwd() + dir_sep + 'saved_data' + dir_sep + 'data_' + data_dir_idx\n",
    "    \n",
    "with open(dir_name_data + dir_sep + 'sim_data_params.txt') as f:\n",
    "    lines = f.readlines()\n",
    "params_dict = eval(''.join(lines))\n",
    "params_mat = params_dict['params_mat']\n",
    "# init_state = params_dict['init_state']\n",
    "t0 = params_dict['t0']\n",
    "T = params_dict['T']\n",
    "delta_t = params_dict['delta_t']\n",
    "return_params_arr = params_dict['return_params_arr']\n",
    "normalize_flag_ogdata = params_dict['normalize_flag']\n",
    "print('normalize_flag_ogdata:', normalize_flag_ogdata)\n",
    "alldata_withparams_flag = params_dict['alldata_withparams_flag']\n",
    "\n",
    "with np.load(dir_name_data+dir_sep+'data.npz', allow_pickle=True) as fl:\n",
    "    all_data = fl['all_data'].astype(FTYPE)\n",
    "    boundary_idx_arr = fl['boundary_idx_arr']\n",
    "    normalization_constant_arr_ogdata = fl['normalization_constant_arr'][0]\n",
    "    initial_t0 = fl['initial_t0']\n",
    "    init_state_mat = fl['init_state_mat']\n",
    "\n",
    "    lyapunov_spectrum_mat = fl['lyapunov_spectrum_mat']"
   ]
  },
  {
   "cell_type": "code",
   "execution_count": 27,
   "metadata": {
    "colab": {
     "base_uri": "https://localhost:8080/"
    },
    "executionInfo": {
     "elapsed": 541,
     "status": "ok",
     "timestamp": 1667868772777,
     "user": {
      "displayName": "Rohan Kaushik",
      "userId": "13918477614376051685"
     },
     "user_tz": -60
    },
    "id": "ySVDz_2U5FH5",
    "outputId": "c57be82f-527d-4e83-a605-aac85c39088e"
   },
   "outputs": [
    {
     "name": "stdout",
     "output_type": "stream",
     "text": [
      "Case : 1, lyapunov exponent : 0.06465670311438651, lyapunov time : 15.466300964355469s\n"
     ]
    }
   ],
   "source": [
    "lyapunov_time_arr = np.empty(shape=lyapunov_spectrum_mat.shape[0], dtype=FTYPE)\n",
    "for i in range(lyapunov_spectrum_mat.shape[0]):\n",
    "    lyapunov_time_arr[i] = 1/lyapunov_spectrum_mat[i, 0]\n",
    "    print('Case : {}, lyapunov exponent : {}, lyapunov time : {}s'.format(i+1, lyapunov_spectrum_mat[i, 0], lyapunov_time_arr[i]))"
   ]
  },
  {
   "cell_type": "code",
   "execution_count": 28,
   "metadata": {
    "executionInfo": {
     "elapsed": 3,
     "status": "ok",
     "timestamp": 1667868772778,
     "user": {
      "displayName": "Rohan Kaushik",
      "userId": "13918477614376051685"
     },
     "user_tz": -60
    },
    "id": "bkQx9q_p5Gro"
   },
   "outputs": [
    {
     "name": "stdout",
     "output_type": "stream",
     "text": [
      "[0]\n"
     ]
    }
   ],
   "source": [
    "positve_lp_idx = np.where(lyapunov_time_arr > 0)[0]\n",
    "print(positve_lp_idx)"
   ]
  },
  {
   "cell_type": "code",
   "execution_count": 29,
   "metadata": {
    "colab": {
     "base_uri": "https://localhost:8080/",
     "height": 370
    },
    "executionInfo": {
     "elapsed": 1487,
     "status": "ok",
     "timestamp": 1667868774262,
     "user": {
      "displayName": "Rohan Kaushik",
      "userId": "13918477614376051685"
     },
     "user_tz": -60
    },
    "id": "uDhfYHU45IS8",
    "outputId": "5307dc6a-17c5-4c77-dac5-fcb96116ac44"
   },
   "outputs": [
    {
     "name": "stdout",
     "output_type": "stream",
     "text": [
      "[     0 500026]\n"
     ]
    }
   ],
   "source": [
    "last_idx = all_data.shape[0]\n",
    "temp_bia = np.zeros(shape=1+boundary_idx_arr.shape[0], dtype=np.int32)\n",
    "temp_bia[1:] = boundary_idx_arr\n",
    "print(temp_bia)\n",
    "for i in range(boundary_idx_arr.shape[0]-1, -1, -1):\n",
    "    if not (i in positve_lp_idx):\n",
    "        print(i)\n",
    "        num_idxs = last_idx - temp_bia[i+1]\n",
    "        all_data[temp_bia[i]:temp_bia[i]+num_idxs] = all_data[temp_bia[i+1]:last_idx]\n",
    "        last_idx = last_idx - (temp_bia[i+1]-temp_bia[i])"
   ]
  },
  {
   "cell_type": "code",
   "execution_count": 30,
   "metadata": {},
   "outputs": [],
   "source": [
    "new_bia = np.empty_like(boundary_idx_arr)\n",
    "new_bia[:] = boundary_idx_arr\n",
    "new_pmat = np.empty_like(params_mat)\n",
    "new_pmat[:, :] = params_mat\n",
    "counter = 0\n",
    "bia_counter = boundary_idx_arr.shape[0]\n",
    "for i in range(boundary_idx_arr.shape[0]):\n",
    "    if not (i in positve_lp_idx):\n",
    "        new_bia[i:] -= temp_bia[i+1] - temp_bia[i]\n",
    "        new_bia[i:bia_counter-1] = new_bia[i+1:bia_counter]\n",
    "        new_pmat[i:bia_counter-1] = new_pmat[i+1:bia_counter]\n",
    "        bia_counter -= 1"
   ]
  },
  {
   "cell_type": "code",
   "execution_count": 31,
   "metadata": {},
   "outputs": [],
   "source": [
    "new_bia = new_bia[0:bia_counter]\n",
    "new_pmat = new_pmat[0:bia_counter]"
   ]
  },
  {
   "cell_type": "code",
   "execution_count": 32,
   "metadata": {},
   "outputs": [],
   "source": [
    "all_data = all_data[0:new_bia[-1]]"
   ]
  },
  {
   "cell_type": "code",
   "execution_count": 33,
   "metadata": {},
   "outputs": [],
   "source": [
    "new_bia, boundary_idx_arr = boundary_idx_arr, new_bia\n",
    "new_pmat, params_mat = params_mat, new_pmat"
   ]
  },
  {
   "cell_type": "code",
   "execution_count": 34,
   "metadata": {
    "executionInfo": {
     "elapsed": 6,
     "status": "ok",
     "timestamp": 1667868774263,
     "user": {
      "displayName": "Rohan Kaushik",
      "userId": "13918477614376051685"
     },
     "user_tz": -60
    },
    "id": "-MJa7P5t5KiC",
    "scrolled": true
   },
   "outputs": [],
   "source": [
    "# delaing with normalizing the data before feeding into autoencoder\n",
    "num_params = params_mat.shape[1]\n",
    "og_vars = all_data.shape[1]\n",
    "if alldata_withparams_flag == True:\n",
    "    og_vars -= num_params\n",
    "\n",
    "time_stddev_ogdata = np.std(all_data[:, 0:og_vars], axis=0)\n",
    "time_mean_ogdata = np.mean(all_data[:, 0:og_vars], axis=0)\n",
    "    \n",
    "if use_ae_data == True:\n",
    "    if ae_data_with_params == True and alldata_withparams_flag == False:\n",
    "        new_all_data = np.empty(shape=(all_data.shape[0], og_vars+num_params), dtype=FTYPE)\n",
    "        new_all_data[:, 0:og_vars] = all_data[:, 0:og_vars]\n",
    "        del(all_data)\n",
    "        all_data = new_all_data\n",
    "        prev_idx = 0\n",
    "        for i in range(boundary_idx_arr.shape[0]):\n",
    "            all_data[prev_idx:boundary_idx_arr[i], num_params:] = params_mat[i]\n",
    "            prev_idx = boundary_idx_arr[i]\n",
    "\n",
    "    if normalizeforae_flag == True:\n",
    "        for i in range(all_data.shape[1]):\n",
    "            all_data[:, i] -= normalization_constant_arr_aedata[0, i]\n",
    "            all_data[:, i] /= normalization_constant_arr_aedata[1, i]\n",
    "\n",
    "    if ae_data_with_params == False:\n",
    "        all_data = all_data[:, 0:og_vars]\n",
    "else:\n",
    "    # using raw data, neglecting the params attached (if any)\n",
    "    all_data = all_data[:, 0:og_vars]"
   ]
  },
  {
   "cell_type": "code",
   "execution_count": 53,
   "metadata": {
    "colab": {
     "base_uri": "https://localhost:8080/",
     "height": 370
    },
    "executionInfo": {
     "elapsed": 932,
     "status": "ok",
     "timestamp": 1667868775190,
     "user": {
      "displayName": "Rohan Kaushik",
      "userId": "13918477614376051685"
     },
     "user_tz": -60
    },
    "id": "sMENXULAGFPm",
    "outputId": "dbf2c14d-2e8a-42c9-b6c5-f5f7c7a6092f"
   },
   "outputs": [],
   "source": [
    "normalization_constant_arr_aedata = normalization_constant_arr_aedata[:, 0:og_vars]"
   ]
  },
  {
   "cell_type": "markdown",
   "metadata": {
    "id": "1v6KQEjR5LkK"
   },
   "source": [
    "# Autoencoder"
   ]
  },
  {
   "cell_type": "code",
   "execution_count": 35,
   "metadata": {
    "executionInfo": {
     "elapsed": 4,
     "status": "ok",
     "timestamp": 1667868775191,
     "user": {
      "displayName": "Rohan Kaushik",
      "userId": "13918477614376051685"
     },
     "user_tz": -60
    },
    "id": "ZBTJl9PeneQb"
   },
   "outputs": [],
   "source": [
    "if use_ae_data == True:\n",
    "    load_file = dir_name_ae+dir_sep+'final_net'+dir_sep+'final_net_class_dict.txt'\n",
    "    wt_file = dir_name_ae+dir_sep+'final_net'+dir_sep+'final_net_ae_weights.h5'"
   ]
  },
  {
   "cell_type": "code",
   "execution_count": 36,
   "metadata": {
    "executionInfo": {
     "elapsed": 1365,
     "status": "ok",
     "timestamp": 1667868776552,
     "user": {
      "displayName": "Rohan Kaushik",
      "userId": "13918477614376051685"
     },
     "user_tz": -60
    },
    "id": "a3Pq-qorneQb"
   },
   "outputs": [],
   "source": [
    "if use_ae_data == True:\n",
    "    ae_net = Autoencoder(all_data.shape[1], load_file=load_file)\n",
    "    ae_net.load_weights_from_file(wt_file)"
   ]
  },
  {
   "cell_type": "code",
   "execution_count": null,
   "metadata": {
    "executionInfo": {
     "elapsed": 5,
     "status": "ok",
     "timestamp": 1667868776553,
     "user": {
      "displayName": "Rohan Kaushik",
      "userId": "13918477614376051685"
     },
     "user_tz": -60
    },
    "id": "wwt4brHcOaXi"
   },
   "outputs": [],
   "source": []
  },
  {
   "cell_type": "code",
   "execution_count": null,
   "metadata": {
    "executionInfo": {
     "elapsed": 4,
     "status": "ok",
     "timestamp": 1667868776553,
     "user": {
      "displayName": "Rohan Kaushik",
      "userId": "13918477614376051685"
     },
     "user_tz": -60
    },
    "id": "Zl6ZvgtNtA_u",
    "scrolled": true
   },
   "outputs": [],
   "source": []
  },
  {
   "cell_type": "code",
   "execution_count": null,
   "metadata": {
    "executionInfo": {
     "elapsed": 5,
     "status": "ok",
     "timestamp": 1667868776554,
     "user": {
      "displayName": "Rohan Kaushik",
      "userId": "13918477614376051685"
     },
     "user_tz": -60
    },
    "id": "lXpoaKRIneQc"
   },
   "outputs": [],
   "source": []
  },
  {
   "cell_type": "code",
   "execution_count": 37,
   "metadata": {
    "colab": {
     "base_uri": "https://localhost:8080/"
    },
    "executionInfo": {
     "elapsed": 960,
     "status": "ok",
     "timestamp": 1667868777509,
     "user": {
      "displayName": "Rohan Kaushik",
      "userId": "13918477614376051685"
     },
     "user_tz": -60
    },
    "id": "Q3a8HHyvneQc",
    "outputId": "51084913-6faf-4bb5-db69-2cbea705dd28"
   },
   "outputs": [],
   "source": [
    "# create data\n",
    "if use_ae_data == True:\n",
    "    latent_states_all = ae_net.encoder_net.predict(all_data)\n",
    "    # del(all_data)\n",
    "else:\n",
    "    latent_states_all = all_data\n",
    "num_latent_states = latent_states_all.shape[1]"
   ]
  },
  {
   "cell_type": "code",
   "execution_count": null,
   "metadata": {
    "colab": {
     "base_uri": "https://localhost:8080/",
     "height": 384
    },
    "executionInfo": {
     "elapsed": 797,
     "status": "ok",
     "timestamp": 1667868778304,
     "user": {
      "displayName": "Rohan Kaushik",
      "userId": "13918477614376051685"
     },
     "user_tz": -60
    },
    "id": "wjgPNitSrt5p",
    "outputId": "0c916524-33ec-47bf-a16a-51e53d2e25f6"
   },
   "outputs": [],
   "source": []
  },
  {
   "cell_type": "code",
   "execution_count": null,
   "metadata": {
    "executionInfo": {
     "elapsed": 6,
     "status": "ok",
     "timestamp": 1667868778305,
     "user": {
      "displayName": "Rohan Kaushik",
      "userId": "13918477614376051685"
     },
     "user_tz": -60
    },
    "id": "wnLnqg0Jrt5t"
   },
   "outputs": [],
   "source": []
  },
  {
   "cell_type": "code",
   "execution_count": null,
   "metadata": {
    "executionInfo": {
     "elapsed": 488,
     "status": "ok",
     "timestamp": 1667868778788,
     "user": {
      "displayName": "Rohan Kaushik",
      "userId": "13918477614376051685"
     },
     "user_tz": -60
    },
    "id": "BOJE8vREtque"
   },
   "outputs": [],
   "source": []
  },
  {
   "cell_type": "code",
   "execution_count": null,
   "metadata": {
    "executionInfo": {
     "elapsed": 12,
     "status": "ok",
     "timestamp": 1667868778788,
     "user": {
      "displayName": "Rohan Kaushik",
      "userId": "13918477614376051685"
     },
     "user_tz": -60
    },
    "id": "fwjcsAxKneQe"
   },
   "outputs": [],
   "source": []
  },
  {
   "cell_type": "code",
   "execution_count": null,
   "metadata": {
    "executionInfo": {
     "elapsed": 11,
     "status": "ok",
     "timestamp": 1667868778788,
     "user": {
      "displayName": "Rohan Kaushik",
      "userId": "13918477614376051685"
     },
     "user_tz": -60
    },
    "id": "aFd7XgwVneQe"
   },
   "outputs": [],
   "source": []
  },
  {
   "cell_type": "markdown",
   "metadata": {
    "id": "8IAcFjRRn_IQ"
   },
   "source": [
    "# GRU"
   ]
  },
  {
   "cell_type": "code",
   "execution_count": null,
   "metadata": {
    "executionInfo": {
     "elapsed": 12,
     "status": "ok",
     "timestamp": 1667868778789,
     "user": {
      "displayName": "Rohan Kaushik",
      "userId": "13918477614376051685"
     },
     "user_tz": -60
    },
    "id": "lPVqWNwjoAGP"
   },
   "outputs": [],
   "source": []
  },
  {
   "cell_type": "code",
   "execution_count": null,
   "metadata": {
    "executionInfo": {
     "elapsed": 11,
     "status": "ok",
     "timestamp": 1667868778789,
     "user": {
      "displayName": "Rohan Kaushik",
      "userId": "13918477614376051685"
     },
     "user_tz": -60
    },
    "id": "S21-VEUYrkk-"
   },
   "outputs": [],
   "source": []
  },
  {
   "cell_type": "code",
   "execution_count": 38,
   "metadata": {
    "executionInfo": {
     "elapsed": 11,
     "status": "ok",
     "timestamp": 1667868778789,
     "user": {
      "displayName": "Rohan Kaushik",
      "userId": "13918477614376051685"
     },
     "user_tz": -60
    },
    "id": "UGnj8uQQ83-y"
   },
   "outputs": [],
   "source": [
    "# latent_states_all = latent_states_all[0:375009]\n",
    "# boundary_idx_arr = [375009]"
   ]
  },
  {
   "cell_type": "code",
   "execution_count": 39,
   "metadata": {
    "executionInfo": {
     "elapsed": 12,
     "status": "ok",
     "timestamp": 1667868778790,
     "user": {
      "displayName": "Rohan Kaushik",
      "userId": "13918477614376051685"
     },
     "user_tz": -60
    },
    "id": "0t2_8mzI1fhX"
   },
   "outputs": [],
   "source": [
    "normalization_arr = None\n",
    "rnn_res_dict = create_data_for_RNN(\n",
    "    latent_states_all,\n",
    "    dt_rnn,\n",
    "    T_sample_input,\n",
    "    T_sample_output,\n",
    "    T_offset,\n",
    "    None,\n",
    "    boundary_idx_arr,\n",
    "    delta_t,\n",
    "    params=params,\n",
    "    return_numsamples=True,\n",
    "    normalize_dataset=normalize_dataset,\n",
    "    stddev_multiplier=stddev_multiplier,\n",
    "    skip_intermediate=skip_intermediate,\n",
    "    return_OrgDataIdxArr=False,\n",
    "    normalization_arr_external=normalization_arr,\n",
    "    normalization_type=normalization_type,\n",
    "    FTYPE=FTYPE,\n",
    "    ITYPE=ITYPE)\n",
    "    \n",
    "data_rnn_input = rnn_res_dict['data_rnn_input']\n",
    "data_rnn_output = rnn_res_dict['data_rnn_output']\n",
    "org_data_idx_arr_input = rnn_res_dict['org_data_idx_arr_input']\n",
    "org_data_idx_arr_output = rnn_res_dict['org_data_idx_arr_output']\n",
    "num_samples = rnn_res_dict['num_samples']\n",
    "normalization_arr = rnn_res_dict['normalization_arr']\n",
    "rnn_data_boundary_idx_arr = rnn_res_dict['rnn_data_boundary_idx_arr']"
   ]
  },
  {
   "cell_type": "code",
   "execution_count": 40,
   "metadata": {
    "executionInfo": {
     "elapsed": 11,
     "status": "ok",
     "timestamp": 1667868778790,
     "user": {
      "displayName": "Rohan Kaushik",
      "userId": "13918477614376051685"
     },
     "user_tz": -60
    },
    "id": "pIsWCXkbr7ws"
   },
   "outputs": [],
   "source": [
    "temp = np.divide(latent_states_all-normalization_arr[0], normalization_arr[1])\n",
    "time_stddev = np.std(temp, axis=0)\n",
    "timeMeanofSpaceRMS = np.mean(np.mean(temp**2, axis=1)**0.5)\n",
    "del(org_data_idx_arr_input)\n",
    "del(org_data_idx_arr_output)\n",
    "del(latent_states_all)\n",
    "del(temp)"
   ]
  },
  {
   "cell_type": "code",
   "execution_count": 41,
   "metadata": {
    "executionInfo": {
     "elapsed": 11,
     "status": "ok",
     "timestamp": 1667868778790,
     "user": {
      "displayName": "Rohan Kaushik",
      "userId": "13918477614376051685"
     },
     "user_tz": -60
    },
    "id": "Hem_9PUqneQi"
   },
   "outputs": [],
   "source": [
    "rnn_res_dict = create_data_for_RNN(\n",
    "    all_data,\n",
    "    dt_rnn,\n",
    "    T_sample_input,\n",
    "    T_sample_output,\n",
    "    T_offset,\n",
    "    None,\n",
    "    boundary_idx_arr,\n",
    "    delta_t,\n",
    "    params=params,\n",
    "    return_numsamples=True,\n",
    "    normalize_dataset=False,\n",
    "    stddev_multiplier=stddev_multiplier,\n",
    "    skip_intermediate=skip_intermediate,\n",
    "    return_OrgDataIdxArr=False,\n",
    "    normalization_arr_external=normalization_arr,\n",
    "    normalization_type=normalization_type,\n",
    "    FTYPE=FTYPE,\n",
    "    ITYPE=ITYPE)\n",
    "    \n",
    "AR_data_rnn_input = rnn_res_dict['data_rnn_input']\n",
    "AR_data_rnn_output = rnn_res_dict['data_rnn_output']\n",
    "AR_org_data_idx_arr_input = rnn_res_dict['org_data_idx_arr_input']\n",
    "AR_org_data_idx_arr_output = rnn_res_dict['org_data_idx_arr_output']\n",
    "AR_num_samples = rnn_res_dict['num_samples']\n",
    "AR_normalization_arr = rnn_res_dict['normalization_arr']\n",
    "AR_rnn_data_boundary_idx_arr = rnn_res_dict['rnn_data_boundary_idx_arr']\n",
    "\n",
    "del(AR_org_data_idx_arr_input)\n",
    "del(AR_org_data_idx_arr_output)\n",
    "del(AR_rnn_data_boundary_idx_arr)"
   ]
  },
  {
   "cell_type": "code",
   "execution_count": null,
   "metadata": {
    "executionInfo": {
     "elapsed": 12,
     "status": "ok",
     "timestamp": 1667868778791,
     "user": {
      "displayName": "Rohan Kaushik",
      "userId": "13918477614376051685"
     },
     "user_tz": -60
    },
    "id": "uskBAAXpneQi"
   },
   "outputs": [],
   "source": []
  },
  {
   "cell_type": "code",
   "execution_count": 42,
   "metadata": {
    "executionInfo": {
     "elapsed": 431,
     "status": "ok",
     "timestamp": 1667868779211,
     "user": {
      "displayName": "Rohan Kaushik",
      "userId": "13918477614376051685"
     },
     "user_tz": -60
    },
    "id": "-1uL-GomneQi"
   },
   "outputs": [],
   "source": [
    "# setting up training params\n",
    "learning_rate_list = [1e-2, 1e-3, 1e-4]#, 1e-5]\n",
    "epochs = 150\n",
    "patience = 10 # parameter for early stopping\n",
    "min_delta = 1e-6  # parameter for early stopping\n",
    "train_split = 0.8\n",
    "val_split = 0.1\n",
    "test_split = 1 - train_split - val_split\n",
    "batch_size = 32\n",
    "rnncell_dropout_rate = 0.0\n",
    "denselayer_dropout_rate = 0.0\n",
    "\n",
    "lambda_reg_x0 = 1e-7 # weight for regularizer\n",
    "fRMS_x0 = 1e-3\n",
    "\n",
    "rnncell_dropout_rate = 0.0\n",
    "denselayer_dropout_rate = 0.0\n",
    "\n",
    "# ph computation parameters\n",
    "num_runs = 50\n",
    "T_sample_input_AR_ratio = 1\n",
    "T_sample_output_AR_ratio = 3\n",
    "\n",
    "# saving training params\n",
    "training_specific_params = {\n",
    "    'epochs':epochs,\n",
    "    'prng_seed':prng_seed,\n",
    "    'train_split':train_split,\n",
    "    'val_split':val_split,\n",
    "    'batch_size':batch_size,\n",
    "    # 'fRMS':fRMS,\n",
    "    'timeMeanofSpaceRMS':timeMeanofSpaceRMS,\n",
    "    # 'stddev':stddev,\n",
    "    # 'lambda_reg':lambda_reg,\n",
    "    'min_delta':min_delta,\n",
    "    'patience':patience,\n",
    "    'rnncell_dropout_rate':rnncell_dropout_rate,\n",
    "    'denselayer_dropout_rate':denselayer_dropout_rate,\n",
    "    'learning_rate_list':learning_rate_list,\n",
    "}"
   ]
  },
  {
   "cell_type": "code",
   "execution_count": 43,
   "metadata": {
    "executionInfo": {
     "elapsed": 3,
     "status": "ok",
     "timestamp": 1667868779212,
     "user": {
      "displayName": "Rohan Kaushik",
      "userId": "13918477614376051685"
     },
     "user_tz": -60
    },
    "id": "4hx9ZaSpEMmv"
   },
   "outputs": [],
   "source": [
    "# saving simulation data\n",
    "sim_data = {\n",
    "    'params_mat':params_mat,\n",
    "    'init_state_mat':init_state_mat,\n",
    "    't0':t0,\n",
    "    'T':T,\n",
    "    'delta_t':delta_t,\n",
    "    'return_params_arr':return_params_arr,\n",
    "    'dir_name_ae':dir_name_ae,\n",
    "    'normalize_dataset':normalize_dataset,\n",
    "    'stddev_multiplier':stddev_multiplier,\n",
    "    'use_ae_data':use_ae_data,\n",
    "}\n",
    "\n",
    "# saving RNN specific data\n",
    "RNN_specific_data = {    \n",
    "    'dt_rnn':dt_rnn,\n",
    "    'T_sample_input':T_sample_input,\n",
    "    'T_sample_output':T_sample_output,\n",
    "    'T_offset':T_offset,\n",
    "    'boundary_idx_arr':boundary_idx_arr,\n",
    "    'delta_t':delta_t,\n",
    "    'params':params,\n",
    "    'return_params_arr':return_params_arr,\n",
    "    'normalize_dataset':normalize_dataset,\n",
    "    'num_lyaptimesteps_totrain':num_lyaptimesteps_totrain,\n",
    "    'stddev_multiplier':stddev_multiplier,\n",
    "    'skip_intermediate':skip_intermediate,\n",
    "    'module':RNN_GRU.__module__,\n",
    "    'noise_type':noise_type,\n",
    "    'normalization_type':normalization_type,\n",
    "    'dense_layer_act_func':dense_layer_act_func,\n",
    "    'stateful':stateful,\n",
    "    'use_learnable_state':use_learnable_state,\n",
    "    'use_weights_post_dense':use_weights_post_dense,\n",
    "    'use_trainable_weights_with_reslayers':use_trainable_weights_with_reslayers,\n",
    "}"
   ]
  },
  {
   "cell_type": "code",
   "execution_count": 44,
   "metadata": {
    "executionInfo": {
     "elapsed": 391,
     "status": "ok",
     "timestamp": 1667868779601,
     "user": {
      "displayName": "Rohan Kaushik",
      "userId": "13918477614376051685"
     },
     "user_tz": -60
    },
    "id": "EENXaWqcKW7j"
   },
   "outputs": [],
   "source": [
    "cum_samples = rnn_data_boundary_idx_arr[-1]\n",
    "# idx = np.arange(cum_samples)\n",
    "# np.random.shuffle(idx)\n",
    "num_train_arr = np.zeros(shape=rnn_data_boundary_idx_arr.shape[0], dtype='int32')\n",
    "num_val_arr = np.zeros(shape=rnn_data_boundary_idx_arr.shape[0], dtype='int32')\n",
    "num_test_arr = np.zeros(shape=rnn_data_boundary_idx_arr.shape[0], dtype='int32')\n",
    "num_samples_arr = np.zeros(shape=rnn_data_boundary_idx_arr.shape[0], dtype='int32')\n",
    "begin_idx = 0\n",
    "for i in range(len(rnn_data_boundary_idx_arr)):\n",
    "    num_samples = batch_size * int((rnn_data_boundary_idx_arr[i] - begin_idx) // batch_size)\n",
    "    num_train_arr[i] = batch_size * int( np.round(train_split*num_samples/batch_size) )\n",
    "    num_val_arr[i] = batch_size * int( np.round(val_split*num_samples/batch_size) )\n",
    "    num_test_arr[i] = batch_size * int( np.round((num_samples - num_train_arr[i] - num_val_arr[i])/batch_size) )\n",
    "    num_samples_arr[i] = num_train_arr[i] + num_val_arr[i] + num_test_arr[i]\n",
    "    begin_idx = rnn_data_boundary_idx_arr[i]\n",
    "\n",
    "# defining shapes\n",
    "training_input_shape = [np.sum(num_train_arr)]\n",
    "training_input_shape.extend(data_rnn_input.shape[1:])\n",
    "\n",
    "training_output_shape = [np.sum(num_train_arr)]\n",
    "training_output_shape.extend(data_rnn_output.shape[1:])\n",
    "\n",
    "val_input_shape = [np.sum(num_val_arr)]\n",
    "val_input_shape.extend(data_rnn_input.shape[1:])\n",
    "\n",
    "val_output_shape = [np.sum(num_val_arr)]\n",
    "val_output_shape.extend(data_rnn_output.shape[1:])\n",
    "\n",
    "testing_input_shape = [np.sum(num_test_arr)]\n",
    "testing_input_shape.extend(data_rnn_input.shape[1:])\n",
    "\n",
    "testing_output_shape = [np.sum(num_test_arr)]\n",
    "testing_output_shape.extend(data_rnn_output.shape[1:])\n",
    "\n",
    "# defining required arrays\n",
    "training_data_rnn_input = np.empty(shape=training_input_shape, dtype=FTYPE)\n",
    "training_data_rnn_output = np.empty(shape=training_output_shape, dtype=FTYPE)\n",
    "\n",
    "val_data_rnn_input = np.empty(shape=val_input_shape, dtype=FTYPE)\n",
    "val_data_rnn_output = np.empty(shape=val_output_shape, dtype=FTYPE)\n",
    "\n",
    "testing_data_rnn_input = np.empty(shape=testing_input_shape, dtype=FTYPE)\n",
    "testing_data_rnn_output = np.empty(shape=testing_output_shape, dtype=FTYPE)\n",
    "\n",
    "AR_testing_data_rnn_input = np.empty(shape=tuple(testing_input_shape[0:2])+tuple(AR_data_rnn_input.shape[2:]), dtype=FTYPE)\n",
    "AR_testing_data_rnn_output = np.empty(shape=tuple(testing_input_shape[0:2])+tuple(AR_data_rnn_input.shape[2:]), dtype=FTYPE)\n",
    "\n",
    "begin_idx = 0\n",
    "training_data_rolling_count = 0\n",
    "val_data_rolling_count = 0\n",
    "testing_data_rolling_count = 0\n",
    "for i in range(len(boundary_idx_arr)):\n",
    "    idx = np.arange(begin_idx, rnn_data_boundary_idx_arr[i])\n",
    "    # np.random.shuffle(idx)\n",
    "    # num_samples = idx.shape[0]\n",
    "    # num_train = int( np.round(train_split*num_samples/batch_size) )*batch_size\n",
    "    # num_val = int( np.round(val_split*num_samples/batch_size) )*batch_size\n",
    "    \n",
    "    num_samples = num_samples_arr[i]\n",
    "    num_train = num_train_arr[i]\n",
    "    num_val = num_val_arr[i]\n",
    "    num_test = num_test_arr[i]\n",
    "    \n",
    "    nbatches_train = num_train // batch_size\n",
    "    nbatches_val = num_val // batch_size\n",
    "    nbatches_test = num_test // batch_size\n",
    "\n",
    "    for j in range(batch_size):\n",
    "        training_data_rnn_input[training_data_rolling_count+j:training_data_rolling_count+num_train:batch_size] = data_rnn_input[idx[0:num_train]][j*nbatches_train:(j+1)*nbatches_train]\n",
    "        training_data_rnn_output[training_data_rolling_count+j:training_data_rolling_count+num_train:batch_size] = data_rnn_output[idx[0:num_train]][j*nbatches_train:(j+1)*nbatches_train]\n",
    "        \n",
    "        val_data_rnn_input[val_data_rolling_count+j:val_data_rolling_count+num_val:batch_size] = data_rnn_input[idx[num_train:num_train+num_val]][j*nbatches_val:(j+1)*nbatches_val]\n",
    "        val_data_rnn_output[val_data_rolling_count+j:val_data_rolling_count+num_val:batch_size] = data_rnn_output[idx[num_train:num_train+num_val]][j*nbatches_val:(j+1)*nbatches_val]\n",
    "\n",
    "        testing_data_rnn_input[testing_data_rolling_count+j:testing_data_rolling_count+num_test:batch_size] = data_rnn_input[idx[num_train+num_val:num_samples]][j*nbatches_test:(j+1)*nbatches_test]\n",
    "        testing_data_rnn_output[testing_data_rolling_count+j:testing_data_rolling_count+num_test:batch_size] = data_rnn_output[idx[num_train+num_val:num_samples]][j*nbatches_test:(j+1)*nbatches_test]\n",
    "\n",
    "    AR_testing_data_rnn_input[testing_data_rolling_count:testing_data_rolling_count+num_test] = AR_data_rnn_input[idx[num_train+num_val:num_samples]]\n",
    "    AR_testing_data_rnn_output[testing_data_rolling_count:testing_data_rolling_count+num_test] = AR_data_rnn_output[idx[num_train+num_val:num_samples]]\n",
    "\n",
    "    # training_data_rnn_input[training_data_rolling_count:training_data_rolling_count+num_train] = data_rnn_input[idx[0:num_train]]\n",
    "    # training_data_rnn_output[training_data_rolling_count:training_data_rolling_count+num_train] = data_rnn_output[idx[0:num_train]]\n",
    "    training_data_rolling_count += num_train\n",
    "\n",
    "    # val_data_rnn_input[val_data_rolling_count:val_data_rolling_count+num_val] = data_rnn_input[idx[num_train:num_train+num_val]]\n",
    "    # val_data_rnn_output[val_data_rolling_count:val_data_rolling_count+num_val] = data_rnn_output[idx[num_train:num_train+num_val]]\n",
    "    val_data_rolling_count += num_val\n",
    "\n",
    "    # num_test = num_samples-num_train-num_val+1\n",
    "    # testing_data_rnn_input[testing_data_rolling_count:testing_data_rolling_count+num_test] = data_rnn_input[idx[num_train+num_val:]]\n",
    "    # testing_data_rnn_output[testing_data_rolling_count:testing_data_rolling_count+num_test] = data_rnn_output[idx[num_train+num_val:]]\n",
    "    testing_data_rolling_count += num_test\n",
    "\n",
    "    begin_idx = rnn_data_boundary_idx_arr[i]\n",
    "\n",
    "# cleaning up\n",
    "del(data_rnn_input)\n",
    "del(data_rnn_output)\n",
    "del(AR_data_rnn_input)\n",
    "del(AR_data_rnn_output)\n",
    "\n",
    "# further shuffling\n",
    "if stateful == False:\n",
    "    idx = np.arange(0, training_data_rnn_input.shape[0])\n",
    "    np.random.shuffle(idx)\n",
    "    training_data_rnn_input = training_data_rnn_input[idx]\n",
    "    training_data_rnn_output = training_data_rnn_output[idx]\n",
    "\n",
    "    idx = np.arange(0, val_data_rnn_input.shape[0])\n",
    "    np.random.shuffle(idx)\n",
    "    val_data_rnn_input = val_data_rnn_input[idx]\n",
    "    val_data_rnn_output = val_data_rnn_output[idx]\n",
    "\n",
    "    idx = np.arange(0, testing_data_rnn_input.shape[0])\n",
    "    np.random.shuffle(idx)\n",
    "    testing_data_rnn_input = testing_data_rnn_input[idx]\n",
    "    testing_data_rnn_output = testing_data_rnn_output[idx]\n",
    "\n",
    "    del(idx)"
   ]
  },
  {
   "cell_type": "code",
   "execution_count": 45,
   "metadata": {},
   "outputs": [
    {
     "name": "stdout",
     "output_type": "stream",
     "text": [
      "num_runs :  50\n"
     ]
    }
   ],
   "source": [
    "s_in = AR_testing_data_rnn_input.shape\n",
    "AR_testing_data_rnn_input = AR_testing_data_rnn_input.reshape((1, s_in[0]*s_in[1]) + s_in[2:])\n",
    "\n",
    "s_out = AR_testing_data_rnn_output.shape\n",
    "AR_testing_data_rnn_output = AR_testing_data_rnn_output.reshape((1, s_out[0]*s_out[1]) + s_out[2:])\n",
    "\n",
    "T_sample_input_AR = T_sample_input_AR_ratio*np.mean(lyapunov_time_arr)#50.1*dt_rnn\n",
    "num_sample_input_AR = int((T_sample_input_AR+0.5*dt_rnn)//dt_rnn)\n",
    "\n",
    "T_sample_output_AR = T_sample_output_AR_ratio*np.mean(lyapunov_time_arr)\n",
    "num_sample_output_AR = int((T_sample_output_AR+0.5*dt_rnn)//dt_rnn)\n",
    "\n",
    "num_offset_AR = num_sample_input_AR\n",
    "T_offset_AR = num_offset_AR*dt_rnn\n",
    "\n",
    "batch_idx = np.random.randint(low=0, high=AR_testing_data_rnn_input.shape[0])\n",
    "maxpossible_num_runs = AR_testing_data_rnn_input.shape[1]-(num_sample_input_AR+num_sample_output_AR)\n",
    "\n",
    "num_runs = np.min([num_runs, maxpossible_num_runs])\n",
    "\n",
    "print('num_runs : ', num_runs)\n",
    "\n",
    "data_idx_arr = np.linspace(0, maxpossible_num_runs-1, num_runs, dtype=np.int32)"
   ]
  },
  {
   "cell_type": "code",
   "execution_count": 46,
   "metadata": {},
   "outputs": [],
   "source": [
    "AR_data_in = np.empty(shape=(num_runs, num_sample_input_AR)+tuple(s_in[2:]))\n",
    "AR_data_out = np.empty(shape=(num_runs, num_sample_output_AR)+tuple(s_out[2:]))\n",
    "\n",
    "for i in range(num_runs):\n",
    "    d_idx = data_idx_arr[i]\n",
    "    AR_data_in[i] = AR_testing_data_rnn_input[0, d_idx:d_idx+num_sample_input_AR]\n",
    "    AR_data_out[i] = AR_testing_data_rnn_input[0, d_idx+num_sample_input_AR:d_idx+num_sample_input_AR+num_sample_output_AR]"
   ]
  },
  {
   "cell_type": "code",
   "execution_count": 47,
   "metadata": {},
   "outputs": [],
   "source": [
    "del(AR_testing_data_rnn_input)\n",
    "del(AR_testing_data_rnn_output)\n",
    "AR_testing_data_rnn_input = AR_data_in\n",
    "AR_testing_data_rnn_output = AR_data_out"
   ]
  },
  {
   "cell_type": "code",
   "execution_count": 48,
   "metadata": {
    "executionInfo": {
     "elapsed": 5,
     "status": "ok",
     "timestamp": 1667868779603,
     "user": {
      "displayName": "Rohan Kaushik",
      "userId": "13918477614376051685"
     },
     "user_tz": -60
    },
    "id": "8isZN1tYBifp"
   },
   "outputs": [
    {
     "name": "stdout",
     "output_type": "stream",
     "text": [
      "   training_data_rnn_input.shape :  (512, 387, 16)\n",
      "  training_data_rnn_output.shape :  (512, 387, 16)\n",
      "    testing_data_rnn_input.shape :  (64, 387, 16)\n",
      "   testing_data_rnn_output.shape :  (64, 387, 16)\n",
      "        val_data_rnn_input.shape :  (64, 387, 16)\n",
      "       val_data_rnn_output.shape :  (64, 387, 16)\n",
      "\n",
      " AR_testing_data_rnn_input.shape :  (50, 77, 64)\n",
      "AR_testing_data_rnn_output.shape :  (50, 232, 64)\n"
     ]
    }
   ],
   "source": [
    "print('   training_data_rnn_input.shape : ', training_data_rnn_input.shape)\n",
    "print('  training_data_rnn_output.shape : ', training_data_rnn_output.shape)\n",
    "print('    testing_data_rnn_input.shape : ', testing_data_rnn_input.shape)\n",
    "print('   testing_data_rnn_output.shape : ', testing_data_rnn_output.shape)\n",
    "print('        val_data_rnn_input.shape : ', val_data_rnn_input.shape)\n",
    "print('       val_data_rnn_output.shape : ', val_data_rnn_output.shape)\n",
    "print('')\n",
    "print(' AR_testing_data_rnn_input.shape : ', AR_testing_data_rnn_input.shape)\n",
    "print('AR_testing_data_rnn_output.shape : ', AR_testing_data_rnn_output.shape)"
   ]
  },
  {
   "cell_type": "code",
   "execution_count": null,
   "metadata": {
    "executionInfo": {
     "elapsed": 7,
     "status": "ok",
     "timestamp": 1667868779605,
     "user": {
      "displayName": "Rohan Kaushik",
      "userId": "13918477614376051685"
     },
     "user_tz": -60
    },
    "id": "x3KglJsgneQj"
   },
   "outputs": [],
   "source": []
  },
  {
   "cell_type": "code",
   "execution_count": 49,
   "metadata": {
    "executionInfo": {
     "elapsed": 8,
     "status": "ok",
     "timestamp": 1667868779606,
     "user": {
      "displayName": "Rohan Kaushik",
      "userId": "13918477614376051685"
     },
     "user_tz": -60
    },
    "id": "ixetsZHjCMKO"
   },
   "outputs": [],
   "source": [
    "testrnn_dirlist = []\n",
    "testrnn_dirlist_idx = []\n",
    "for dname in os.listdir(dir_name_rnn+'/tested_rnn'):\n",
    "    if os.path.isdir(os.path.join(dir_name_rnn+'/tested_rnn', dname)):\n",
    "        testrnn_dirlist.append(os.path.join(dir_name_rnn+'/tested_rnn', dname))\n",
    "        rnnidx = int(testrnn_dirlist[-1][-3:])\n",
    "        testrnn_dirlist_idx.append(rnnidx)\n",
    "\n",
    "sorted_idx = np.argsort(testrnn_dirlist_idx)\n",
    "testrnn_dirlist_idx = np.array(testrnn_dirlist_idx)[sorted_idx]\n",
    "testrnn_dirlist = np.array(testrnn_dirlist)[sorted_idx]"
   ]
  },
  {
   "cell_type": "code",
   "execution_count": 50,
   "metadata": {},
   "outputs": [],
   "source": [
    "def invert_normalization(data, normalization_arr):\n",
    "    new_data = np.empty_like(data)\n",
    "    new_data[:] = data[:]\n",
    "    new_data *= normalization_arr[1]\n",
    "    new_data += normalization_arr[0]\n",
    "    return new_data"
   ]
  },
  {
   "cell_type": "code",
   "execution_count": 54,
   "metadata": {
    "executionInfo": {
     "elapsed": 7,
     "status": "ok",
     "timestamp": 1667868779606,
     "user": {
      "displayName": "Rohan Kaushik",
      "userId": "13918477614376051685"
     },
     "user_tz": -60
    },
    "id": "_NSTtZuyneQk"
   },
   "outputs": [
    {
     "name": "stdout",
     "output_type": "stream",
     "text": [
      "tested_rnn/test_rnn_000\n",
      "num_runs : 50\n",
      "    analysis_time : 54 sec.\n",
      "error_threshold = 0.5, num_runs : 50\n",
      "prediction_horizon : 0.2731099058355889, median : 0.2586268047685501\n",
      "ph_min : 0.15517608286113008, ph_max : 0.49139092906024523\n",
      "stddev : 0.07613649842016677, IQR : 0.07758804143056502\n",
      "1st quartile : 0.21983278405326762, 3rd quartile : 0.29742082548383264\n",
      "\n",
      "\n",
      "tested_rnn/test_rnn_001\n",
      "num_runs : 50\n",
      "    analysis_time : 54 sec.\n",
      "error_threshold = 0.5, num_runs : 50\n",
      "prediction_horizon : 0.21000496547206268, median : 0.1939701035764126\n",
      "ph_min : 0.10345072190742005, ph_max : 0.4655282485833902\n",
      "stddev : 0.07151206529540344, IQR : 0.07758804143056502\n",
      "1st quartile : 0.15517608286113008, 3rd quartile : 0.2327641242916951\n",
      "\n",
      "\n",
      "tested_rnn/test_rnn_002\n",
      "num_runs : 50\n",
      "    analysis_time : 54 sec.\n",
      "error_threshold = 0.5, num_runs : 50\n",
      "prediction_horizon : 0.2043151757671546, median : 0.1939701035764126\n",
      "ph_min : 0.10345072190742005, ph_max : 0.4784595888218177\n",
      "stddev : 0.06377130787433495, IQR : 0.06465670119213754\n",
      "1st quartile : 0.16810742309955756, 3rd quartile : 0.2327641242916951\n",
      "\n",
      "\n",
      "tested_rnn/test_rnn_003\n",
      "num_runs : 50\n",
      "    analysis_time : 54 sec.\n",
      "error_threshold = 0.5, num_runs : 50\n",
      "prediction_horizon : 0.2030220417433119, median : 0.1939701035764126\n",
      "ph_min : 0.11638206214584755, ph_max : 0.4525969083449627\n",
      "stddev : 0.0529553776992508, IQR : 0.05172536095371005\n",
      "1st quartile : 0.16810742309955756, 3rd quartile : 0.21983278405326762\n",
      "\n",
      "\n",
      "tested_rnn/test_rnn_004\n",
      "num_runs : 50\n",
      "    analysis_time : 53 sec.\n",
      "error_threshold = 0.5, num_runs : 50\n",
      "prediction_horizon : 0.185694045823819, median : 0.18103876333798508\n",
      "ph_min : 0.10345072190742005, ph_max : 0.31035216572226015\n",
      "stddev : 0.04646365689544069, IQR : 0.051725360953710026\n",
      "1st quartile : 0.15517608286113008, 3rd quartile : 0.2069014438148401\n",
      "\n",
      "\n",
      "tested_rnn/test_rnn_005\n",
      "num_runs : 50\n",
      "    analysis_time : 53 sec.\n",
      "error_threshold = 0.5, num_runs : 50\n",
      "prediction_horizon : 0.1981081324527094, median : 0.18103876333798508\n",
      "ph_min : 0.09051938166899254, ph_max : 0.3879402071528252\n",
      "stddev : 0.0601795176990934, IQR : 0.06465670119213754\n",
      "1st quartile : 0.15517608286113008, 3rd quartile : 0.21983278405326762\n",
      "\n",
      "\n",
      "tested_rnn/test_rnn_006\n",
      "num_runs : 50\n",
      "    analysis_time : 53 sec.\n",
      "error_threshold = 0.5, num_runs : 50\n",
      "prediction_horizon : 0.17379721280446567, median : 0.15517608286113008\n",
      "ph_min : 0.07758804143056504, ph_max : 0.4525969083449627\n",
      "stddev : 0.07050415263758719, IQR : 0.06465670119213754\n",
      "1st quartile : 0.12931340238427505, 3rd quartile : 0.1939701035764126\n",
      "\n",
      "\n",
      "tested_rnn/test_rnn_007\n",
      "num_runs : 50\n",
      "    analysis_time : 53 sec.\n",
      "error_threshold = 0.5, num_runs : 50\n",
      "prediction_horizon : 0.19888401286701501, median : 0.1939701035764126\n",
      "ph_min : 0.09051938166899254, ph_max : 0.4267342278681077\n",
      "stddev : 0.06042631407127136, IQR : 0.07758804143056502\n",
      "1st quartile : 0.15517608286113008, 3rd quartile : 0.2327641242916951\n",
      "\n",
      "\n",
      "tested_rnn/test_rnn_008\n",
      "num_runs : 50\n",
      "    analysis_time : 52 sec.\n",
      "error_threshold = 0.5, num_runs : 50\n",
      "prediction_horizon : 0.15052080037529617, median : 0.11638206214584755\n",
      "ph_min : 0.051725360953710026, ph_max : 0.8405371154977879\n",
      "stddev : 0.12116217269429379, IQR : 0.051725360953710026\n",
      "1st quartile : 0.10345072190742005, 3rd quartile : 0.15517608286113008\n",
      "\n",
      "\n",
      "tested_rnn/test_rnn_009\n",
      "num_runs : 50\n",
      "    analysis_time : 52 sec.\n",
      "error_threshold = 0.5, num_runs : 50\n",
      "prediction_horizon : 0.17353858599969713, median : 0.15517608286113008\n",
      "ph_min : 0.07758804143056504, ph_max : 0.4655282485833902\n",
      "stddev : 0.07338304868341787, IQR : 0.06465670119213754\n",
      "1st quartile : 0.12931340238427505, 3rd quartile : 0.1939701035764126\n",
      "\n",
      "\n",
      "tested_rnn/test_rnn_010\n",
      "num_runs : 50\n",
      "    analysis_time : 52 sec.\n",
      "error_threshold = 0.5, num_runs : 50\n",
      "prediction_horizon : 0.16733154268525194, median : 0.15517608286113008\n",
      "ph_min : 0.07758804143056504, ph_max : 0.4525969083449627\n",
      "stddev : 0.06457440549482694, IQR : 0.06465670119213754\n",
      "1st quartile : 0.12931340238427505, 3rd quartile : 0.1939701035764126\n",
      "\n",
      "\n",
      "tested_rnn/test_rnn_011\n",
      "num_runs : 50\n",
      "    analysis_time : 52 sec.\n",
      "error_threshold = 0.5, num_runs : 50\n",
      "prediction_horizon : 0.2037979221576175, median : 0.1939701035764126\n",
      "ph_min : 0.10345072190742005, ph_max : 0.5043222692986727\n",
      "stddev : 0.06616803924268391, IQR : 0.05172536095371005\n",
      "1st quartile : 0.16810742309955756, 3rd quartile : 0.21983278405326762\n",
      "\n",
      "\n",
      "tested_rnn/test_rnn_012\n",
      "num_runs : 50\n",
      "    analysis_time : 52 sec.\n",
      "error_threshold = 0.5, num_runs : 50\n",
      "prediction_horizon : 0.18078013653321656, median : 0.16810742309955756\n",
      "ph_min : 0.09051938166899254, ph_max : 0.43966556810653523\n",
      "stddev : 0.06999618725889077, IQR : 0.06465670119213754\n",
      "1st quartile : 0.14224474262270256, 3rd quartile : 0.2069014438148401\n",
      "\n",
      "\n",
      "tested_rnn/test_rnn_013\n",
      "num_runs : 50\n",
      "    analysis_time : 52 sec.\n",
      "error_threshold = 0.5, num_runs : 50\n",
      "prediction_horizon : 0.20431517576715458, median : 0.1939701035764126\n",
      "ph_min : 0.11638206214584755, ph_max : 0.4138028876296802\n",
      "stddev : 0.05387886012049508, IQR : 0.05172536095371005\n",
      "1st quartile : 0.16810742309955756, 3rd quartile : 0.21983278405326762\n",
      "\n",
      "\n",
      "tested_rnn/test_rnn_014\n",
      "num_runs : 50\n",
      "    analysis_time : 52 sec.\n",
      "error_threshold = 0.5, num_runs : 50\n",
      "prediction_horizon : 0.14534826427992517, median : 0.12931340238427505\n",
      "ph_min : 0.06465670119213753, ph_max : 0.4267342278681077\n",
      "stddev : 0.07014271731829438, IQR : 0.051725360953710026\n",
      "1st quartile : 0.10345072190742005, 3rd quartile : 0.15517608286113008\n",
      "\n",
      "\n",
      "tested_rnn/test_rnn_015\n",
      "num_runs : 50\n",
      "    analysis_time : 52 sec.\n",
      "error_threshold = 0.5, num_runs : 50\n",
      "prediction_horizon : 0.20716007061960867, median : 0.1939701035764126\n",
      "ph_min : 0.10345072190742005, ph_max : 0.43966556810653523\n",
      "stddev : 0.05525723739371619, IQR : 0.06465670119213754\n",
      "1st quartile : 0.16810742309955756, 3rd quartile : 0.2327641242916951\n",
      "\n",
      "\n",
      "tested_rnn/test_rnn_016\n",
      "num_runs : 50\n",
      "    analysis_time : 52 sec.\n",
      "error_threshold = 0.5, num_runs : 50\n",
      "prediction_horizon : 0.20353929535284895, median : 0.1939701035764126\n",
      "ph_min : 0.10345072190742005, ph_max : 0.43966556810653523\n",
      "stddev : 0.05902190075967391, IQR : 0.05172536095371005\n",
      "1st quartile : 0.16810742309955756, 3rd quartile : 0.21983278405326762\n",
      "\n",
      "\n",
      "tested_rnn/test_rnn_017\n",
      "num_runs : 50\n",
      "    analysis_time : 52 sec.\n",
      "error_threshold = 0.5, num_runs : 50\n",
      "prediction_horizon : 0.14638277149899934, median : 0.14224474262270256\n",
      "ph_min : 0.09051938166899254, ph_max : 0.2586268047685501\n",
      "stddev : 0.033265480045407456, IQR : 0.025862680476855027\n",
      "1st quartile : 0.12931340238427505, 3rd quartile : 0.15517608286113008\n",
      "\n",
      "\n",
      "tested_rnn/test_rnn_018\n",
      "num_runs : 50\n",
      "    analysis_time : 52 sec.\n",
      "error_threshold = 0.5, num_runs : 50\n",
      "prediction_horizon : 0.16112449937080672, median : 0.15517608286113008\n",
      "ph_min : 0.07758804143056504, ph_max : 0.3750088669143977\n",
      "stddev : 0.0473513120531786, IQR : 0.051725360953710026\n",
      "1st quartile : 0.12931340238427505, 3rd quartile : 0.18103876333798508\n",
      "\n",
      "\n",
      "tested_rnn/test_rnn_019\n",
      "num_runs : 50\n",
      "    analysis_time : 53 sec.\n",
      "error_threshold = 0.5, num_runs : 50\n",
      "prediction_horizon : 0.19500461079548678, median : 0.18103876333798508\n",
      "ph_min : 0.09051938166899254, ph_max : 0.4138028876296802\n",
      "stddev : 0.0586256254197418, IQR : 0.06465670119213754\n",
      "1st quartile : 0.15517608286113008, 3rd quartile : 0.21983278405326762\n",
      "\n",
      "\n",
      "tested_rnn/test_rnn_020\n",
      "num_runs : 50\n",
      "    analysis_time : 54 sec.\n",
      "error_threshold = 0.5, num_runs : 50\n",
      "prediction_horizon : 0.15853823132312123, median : 0.11638206214584755\n",
      "ph_min : 0.03879402071528252, ph_max : 0.943987837405208\n",
      "stddev : 0.15936133771752145, IQR : 0.06465670119213754\n",
      "1st quartile : 0.09051938166899254, 3rd quartile : 0.15517608286113008\n",
      "\n",
      "\n",
      "tested_rnn/test_rnn_021\n",
      "num_runs : 50\n",
      "    analysis_time : 53 sec.\n",
      "error_threshold = 0.5, num_runs : 50\n",
      "prediction_horizon : 0.1898320747001158, median : 0.18103876333798508\n",
      "ph_min : 0.07758804143056504, ph_max : 0.29742082548383264\n",
      "stddev : 0.05097244982419633, IQR : 0.06465670119213754\n",
      "1st quartile : 0.15517608286113008, 3rd quartile : 0.21983278405326762\n",
      "\n",
      "\n",
      "tested_rnn/test_rnn_022\n",
      "num_runs : 50\n",
      "    analysis_time : 53 sec.\n",
      "error_threshold = 0.5, num_runs : 50\n",
      "prediction_horizon : 0.17095231795201163, median : 0.15517608286113008\n",
      "ph_min : 0.07758804143056504, ph_max : 0.4655282485833902\n",
      "stddev : 0.07411767744059063, IQR : 0.06465670119213754\n",
      "1st quartile : 0.12931340238427505, 3rd quartile : 0.1939701035764126\n",
      "\n",
      "\n"
     ]
    },
    {
     "name": "stdout",
     "output_type": "stream",
     "text": [
      "tested_rnn/test_rnn_023\n",
      "num_runs : 50\n",
      "    analysis_time : 52 sec.\n",
      "error_threshold = 0.5, num_runs : 50\n",
      "prediction_horizon : 0.21802239641988777, median : 0.2069014438148401\n",
      "ph_min : 0.12931340238427505, ph_max : 0.4138028876296802\n",
      "stddev : 0.05736678338331163, IQR : 0.06465670119213754\n",
      "1st quartile : 0.18103876333798508, 3rd quartile : 0.24569546453012261\n",
      "\n",
      "\n",
      "tested_rnn/test_rnn_024\n",
      "num_runs : 50\n",
      "    analysis_time : 53 sec.\n",
      "error_threshold = 0.5, num_runs : 50\n",
      "prediction_horizon : 0.2105222190815998, median : 0.2069014438148401\n",
      "ph_min : 0.10345072190742005, ph_max : 0.4784595888218177\n",
      "stddev : 0.0595426085334732, IQR : 0.051725360953710026\n",
      "1st quartile : 0.18103876333798508, 3rd quartile : 0.2327641242916951\n",
      "\n",
      "\n",
      "tested_rnn/test_rnn_025\n",
      "num_runs : 50\n",
      "    analysis_time : 53 sec.\n",
      "error_threshold = 0.5, num_runs : 50\n",
      "prediction_horizon : 0.15103805398483325, median : 0.14224474262270256\n",
      "ph_min : 0.09051938166899254, ph_max : 0.31035216572226015\n",
      "stddev : 0.037249443271806335, IQR : 0.03879402071528251\n",
      "1st quartile : 0.12931340238427505, 3rd quartile : 0.16810742309955756\n",
      "\n",
      "\n",
      "tested_rnn/test_rnn_026\n",
      "num_runs : 50\n",
      "    analysis_time : 53 sec.\n",
      "error_threshold = 0.5, num_runs : 50\n",
      "prediction_horizon : 0.14612414469423082, median : 0.12931340238427505\n",
      "ph_min : 0.06465670119213753, ph_max : 0.4655282485833902\n",
      "stddev : 0.07452088029284926, IQR : 0.051725360953710026\n",
      "1st quartile : 0.10345072190742005, 3rd quartile : 0.15517608286113008\n",
      "\n",
      "\n",
      "tested_rnn/test_rnn_027\n",
      "num_runs : 50\n",
      "    analysis_time : 53 sec.\n",
      "error_threshold = 0.5, num_runs : 50\n",
      "prediction_horizon : 0.16396939422326073, median : 0.11638206214584755\n",
      "ph_min : 0.03879402071528252, ph_max : 0.943987837405208\n",
      "stddev : 0.15445109631949652, IQR : 0.051725360953710026\n",
      "1st quartile : 0.10345072190742005, 3rd quartile : 0.15517608286113008\n",
      "\n",
      "\n",
      "tested_rnn/test_rnn_028\n",
      "num_runs : 50\n",
      "    analysis_time : 53 sec.\n",
      "error_threshold = 0.5, num_runs : 50\n",
      "prediction_horizon : 0.20043577369562635, median : 0.18103876333798508\n",
      "ph_min : 0.11638206214584755, ph_max : 0.4138028876296802\n",
      "stddev : 0.05530321653412675, IQR : 0.06465670119213754\n",
      "1st quartile : 0.16810742309955756, 3rd quartile : 0.2327641242916951\n",
      "\n",
      "\n",
      "tested_rnn/test_rnn_029\n",
      "num_runs : 50\n",
      "    analysis_time : 53 sec.\n",
      "error_threshold = 0.5, num_runs : 50\n",
      "prediction_horizon : 0.14457238386561952, median : 0.12931340238427505\n",
      "ph_min : 0.051725360953710026, ph_max : 0.43966556810653523\n",
      "stddev : 0.07359239249528093, IQR : 0.038794020715282526\n",
      "1st quartile : 0.11638206214584755, 3rd quartile : 0.15517608286113008\n",
      "\n",
      "\n",
      "tested_rnn/test_rnn_030\n",
      "num_runs : 50\n",
      "    analysis_time : 52 sec.\n",
      "error_threshold = 0.5, num_runs : 50\n",
      "prediction_horizon : 0.17922837570460523, median : 0.16810742309955756\n",
      "ph_min : 0.09051938166899254, ph_max : 0.43966556810653523\n",
      "stddev : 0.06329808491650478, IQR : 0.06465670119213754\n",
      "1st quartile : 0.14224474262270256, 3rd quartile : 0.2069014438148401\n",
      "\n",
      "\n",
      "tested_rnn/test_rnn_031\n",
      "num_runs : 50\n",
      "    analysis_time : 51 sec.\n",
      "error_threshold = 0.5, num_runs : 50\n",
      "prediction_horizon : 0.49863247959376467, median : 0.49139092906024523\n",
      "ph_min : 0.2327641242916951, ph_max : 0.9051938166899254\n",
      "stddev : 0.14976166946496794, IQR : 0.18103876333798496\n",
      "1st quartile : 0.3750088669143977, 3rd quartile : 0.5560476302523827\n",
      "\n",
      "\n",
      "tested_rnn/test_rnn_032\n",
      "num_runs : 50\n",
      "    analysis_time : 51 sec.\n",
      "error_threshold = 0.5, num_runs : 50\n",
      "prediction_horizon : 0.49061504864593963, median : 0.49139092906024523\n",
      "ph_min : 0.21983278405326762, ph_max : 0.9051938166899254\n",
      "stddev : 0.1512560023877004, IQR : 0.1681074230995575\n",
      "1st quartile : 0.3750088669143977, 3rd quartile : 0.5431162900139552\n",
      "\n",
      "\n",
      "tested_rnn/test_rnn_033\n",
      "num_runs : 50\n",
      "    analysis_time : 52 sec.\n",
      "error_threshold = 0.5, num_runs : 50\n",
      "prediction_horizon : 0.4445794773971376, median : 0.4267342278681077\n",
      "ph_min : 0.1939701035764126, ph_max : 1.1120952605047654\n",
      "stddev : 0.15969843950503312, IQR : 0.20690144381484005\n",
      "1st quartile : 0.31035216572226015, 3rd quartile : 0.5172536095371002\n",
      "\n",
      "\n",
      "tested_rnn/test_rnn_034\n",
      "num_runs : 50\n",
      "    analysis_time : 52 sec.\n",
      "error_threshold = 0.5, num_runs : 50\n",
      "prediction_horizon : 0.13267555084626623, median : 0.11638206214584755\n",
      "ph_min : 0.051725360953710026, ph_max : 0.6077729912060927\n",
      "stddev : 0.08246951465157512, IQR : 0.051725360953710026\n",
      "1st quartile : 0.09051938166899254, 3rd quartile : 0.14224474262270256\n",
      "\n",
      "\n",
      "tested_rnn/test_rnn_035\n",
      "num_runs : 50\n",
      "    analysis_time : 53 sec.\n",
      "error_threshold = 0.5, num_runs : 50\n",
      "prediction_horizon : 0.4738043063359838, median : 0.4525969083449627\n",
      "ph_min : 0.21983278405326762, ph_max : 0.8663997959746429\n",
      "stddev : 0.1386673866987028, IQR : 0.14224474262270248\n",
      "1st quartile : 0.3750088669143977, 3rd quartile : 0.5172536095371002\n",
      "\n",
      "\n",
      "tested_rnn/test_rnn_036\n",
      "num_runs : 50\n",
      "    analysis_time : 51 sec.\n",
      "error_threshold = 0.5, num_runs : 50\n",
      "prediction_horizon : 0.4782009620170492, median : 0.4655282485833902\n",
      "ph_min : 0.21983278405326762, ph_max : 0.9051938166899254\n",
      "stddev : 0.1535836068623079, IQR : 0.15517608286113005\n",
      "1st quartile : 0.3750088669143977, 3rd quartile : 0.5301849497755278\n",
      "\n",
      "\n",
      "tested_rnn/test_rnn_037\n",
      "num_runs : 50\n",
      "    analysis_time : 51 sec.\n",
      "error_threshold = 0.5, num_runs : 50\n",
      "prediction_horizon : 0.4983738527889961, median : 0.49139092906024523\n",
      "ph_min : 0.2327641242916951, ph_max : 0.8534684557362154\n",
      "stddev : 0.14832670024485944, IQR : 0.14224474262270254\n",
      "1st quartile : 0.4008715473912527, 3rd quartile : 0.5431162900139552\n",
      "\n",
      "\n",
      "tested_rnn/test_rnn_038\n",
      "num_runs : 50\n",
      "    analysis_time : 52 sec.\n",
      "error_threshold = 0.5, num_runs : 50\n",
      "prediction_horizon : 0.48492525894103156, median : 0.4655282485833902\n",
      "ph_min : 0.2327641242916951, ph_max : 0.814674435020933\n",
      "stddev : 0.1348646416988973, IQR : 0.11638206214584756\n",
      "1st quartile : 0.3879402071528252, 3rd quartile : 0.5043222692986727\n",
      "\n",
      "\n",
      "tested_rnn/test_rnn_039\n",
      "num_runs : 50\n",
      "    analysis_time : 52 sec.\n",
      "error_threshold = 0.5, num_runs : 50\n",
      "prediction_horizon : 0.4531141619544998, median : 0.4525969083449627\n",
      "ph_min : 0.2069014438148401, ph_max : 1.0345072190742004\n",
      "stddev : 0.15313589910228986, IQR : 0.18103876333798513\n",
      "1st quartile : 0.3232835059606876, 3rd quartile : 0.5043222692986727\n",
      "\n",
      "\n"
     ]
    }
   ],
   "source": [
    "x0 = []\n",
    "ph_mean = []\n",
    "ph_median = []\n",
    "ae_data_normalization_arr = normalization_constant_arr_aedata\n",
    "error_threshold = 0.5\n",
    "\n",
    "for dname in testrnn_dirlist:\n",
    "    analysis_time = time.time()\n",
    "\n",
    "    with open(dname+'/training_specific_params.txt', 'r') as f:\n",
    "        lines = f.readlines()\n",
    "    rnntrainspec_dict = eval(''.join(lines))\n",
    "\n",
    "    lambda_reg_i = rnntrainspec_dict[\"lambda_reg\"]\n",
    "    fRMS_i = rnntrainspec_dict[\"fRMS\"]\n",
    "    zoneout_rate_i = rnntrainspec_dict[\"zoneout_rate\"]\n",
    "    \n",
    "    x0_i = [fRMS_i, lambda_reg_i]\n",
    "    if vary_zoneout == True:\n",
    "        x0_i.append(zoneout_rate_i)\n",
    "    x0.append(x0_i)\n",
    "\n",
    "    rnn_load_file = dname + '/final_net/final_net_class_dict.txt'\n",
    "    rnn_wt_file = dname + '/final_net/final_net_gru_weights.h5'\n",
    "    \n",
    "    num_runs = AR_testing_data_rnn_input.shape[0]\n",
    "    \n",
    "    AR_rnn_net = AR_RNN_GRU(\n",
    "        load_file=rnn_load_file,\n",
    "        T_input=T_sample_input_AR,\n",
    "        T_output=T_sample_output_AR,\n",
    "        stddev=0.0,\n",
    "        batch_size=num_runs,\n",
    "        lambda_reg=lambda_reg_i,\n",
    "    )\n",
    "    AR_rnn_net.build(input_shape=tuple(AR_testing_data_rnn_input.shape[0:2]) + tuple(testing_data_rnn_input.shape[2:]))\n",
    "    AR_rnn_net.load_weights_from_file(rnn_wt_file)\n",
    "\n",
    "    AR_AERNN_net = AR_AERNN_GRU(\n",
    "        ae_net,\n",
    "        AR_rnn_net,\n",
    "        normalization_arr,\n",
    "        normalization_constant_arr_aedata,\n",
    "        covmat_lmda=0.0,\n",
    "        time_stddev_ogdata=time_stddev_ogdata,\n",
    "        time_mean_ogdata=time_mean_ogdata,\n",
    "        loss_weights=None,\n",
    "        clipnorm=None,\n",
    "        global_clipnorm=None\n",
    "    )\n",
    "\n",
    "    savefig_fname = 'pre_ARtraining-testingdata--combinedAERNN--ZEROoutsteps'\n",
    "    npsavedata_fname = '/prediction_horizons-testingdata--combinedAERNN--ZEROoutsteps'\n",
    "    plot_dir = '/plots'\n",
    "\n",
    "    sidx1 = dname[::-1].index('/')\n",
    "    sidx2 = dname[-sidx1-2::-1].index('/')\n",
    "    print(dname[-(sidx1+sidx2+1):])\n",
    "    print('num_runs :', num_runs)\n",
    "\n",
    "    prediction_horizon_arr = np.empty(shape=num_runs)\n",
    "    prediction = np.array(AR_AERNN_net(AR_testing_data_rnn_input, training=False))\n",
    "    prediction = invert_normalization(prediction, ae_data_normalization_arr)\n",
    "    if len(prediction.shape) == 4:\n",
    "        print(prediction.shape)\n",
    "        prediction = prediction[0]\n",
    "\n",
    "    data_in_og = AR_testing_data_rnn_input\n",
    "    data_out_og = AR_testing_data_rnn_output\n",
    "\n",
    "    energySpectrum_dataout = 0.0\n",
    "    energySpectrum_pred = 0.0\n",
    "\n",
    "    avg_time = 0.\n",
    "    for i in range(num_runs):\n",
    "        run_time = time.time()\n",
    "        lyap_time = lyapunov_time_arr[0]\n",
    "\n",
    "        data_out = data_out_og[i]\n",
    "        data_out = invert_normalization(data_out, ae_data_normalization_arr)\n",
    "\n",
    "        ### Error and prediction horizon\n",
    "        error = (data_out - prediction[i])**2\n",
    "        error = np.mean(np.divide(error, time_stddev_ogdata**2), axis=1)**0.5\n",
    "\n",
    "        predhor_idx = np.where(error >= error_threshold)[0]\n",
    "        if predhor_idx.shape[0] == 0:\n",
    "            predhor_idx = error.shape[0]\n",
    "        else:\n",
    "            predhor_idx = predhor_idx[0]\n",
    "\n",
    "        prediction_horizon_arr[i] = predhor_idx*dt_rnn/lyap_time\n",
    "        \n",
    "        run_time = time.time() - run_time\n",
    "        avg_time = (avg_time*i + run_time)/(i+1)\n",
    "        eta = avg_time * (num_runs-1 - i)\n",
    "        # print('    {} / {} -- run_time : {:.2f} s -- eta : {:.0f}h {:.0f}m {:.0f}s'.format(\n",
    "        #     i+1,\n",
    "        #     num_runs,\n",
    "        #     run_time,\n",
    "        #     float(eta // 3600),\n",
    "        #     float((eta%3600)//60),\n",
    "        #     float((eta%3600)%60),\n",
    "        # ))\n",
    "\n",
    "    median_idx = int(np.round(0.5*num_runs-1))\n",
    "    quartile_1_idx = int(np.round(0.25*num_runs-1))\n",
    "    quartile_3_idx = int(np.round(0.75*num_runs-1))\n",
    "\n",
    "    prediction_horizon_arr.sort()\n",
    "\n",
    "    median = prediction_horizon_arr[median_idx]\n",
    "    quartile_1 = prediction_horizon_arr[quartile_1_idx]\n",
    "    quartile_3 = prediction_horizon_arr[quartile_3_idx]\n",
    "    IQR = quartile_3 - quartile_1\n",
    "\n",
    "    prediction_horizon = np.mean(prediction_horizon_arr)\n",
    "    stddev_ph = np.std(prediction_horizon_arr)\n",
    "\n",
    "    analysis_time = time.time() - analysis_time\n",
    "    s = 'error_threshold = {}, num_runs : {}\\n'.format(error_threshold, num_runs)\n",
    "    s += 'prediction_horizon : {}, median : {}\\n'.format(prediction_horizon, median)\n",
    "    s += 'ph_min : {}, ph_max : {}\\n'.format(prediction_horizon_arr.min(), prediction_horizon_arr.max())\n",
    "    s += 'stddev : {}, IQR : {}\\n'.format(stddev_ph, IQR)\n",
    "    s += '1st quartile : {}, 3rd quartile : {}\\n\\n'.format(quartile_1, quartile_3)\n",
    "\n",
    "    print('    analysis_time : {:.0f} sec.\\n'.format(analysis_time)+s)\n",
    "    \n",
    "    ph_mean.append(prediction_horizon)\n",
    "    ph_median.append(median)\n",
    "    \n",
    "    plot_histogram_and_save(\n",
    "        prediction_horizon_arr, median,\n",
    "        save_dir=dname+'/plots',\n",
    "        savefig_fname=savefig_fname,\n",
    "    )\n",
    "\n",
    "    np.savez(\n",
    "        dname+npsavedata_fname,\n",
    "        prediction_horizon_arr=prediction_horizon_arr,\n",
    "        error_threshold=error_threshold,\n",
    "    )\n",
    "\n",
    "    with open(dname+npsavedata_fname+'--statistics.txt', 'w') as fl:\n",
    "        fl.write(s)"
   ]
  },
  {
   "cell_type": "code",
   "execution_count": 55,
   "metadata": {
    "colab": {
     "base_uri": "https://localhost:8080/"
    },
    "executionInfo": {
     "elapsed": 3631,
     "status": "ok",
     "timestamp": 1667868783230,
     "user": {
      "displayName": "Rohan Kaushik",
      "userId": "13918477614376051685"
     },
     "user_tz": -60
    },
    "id": "Py-Jg0QKneQk",
    "outputId": "1b768270-9013-4d53-8b5e-63e69776e3ac",
    "scrolled": false
   },
   "outputs": [
    {
     "data": {
      "image/png": "[encoded data removed]",
      "text/plain": [
       "<Figure size 640x480 with 1 Axes>"
      ]
     },
     "metadata": {},
     "output_type": "display_data"
    }
   ],
   "source": [
    "ph_mean = np.array(ph_mean)\n",
    "ph_median = np.array(ph_median)\n",
    "\n",
    "plt.plot(np.arange(0, n_pregp+1), ph_mean[0:n_pregp+1], color='C0', linestyle='--', marker='o', label='__nolegend__')\n",
    "plt.plot(np.arange(n_pregp, ph_mean.shape[0]), ph_mean[n_pregp:], color='C0', linestyle='-', marker='s', label='mean')\n",
    "\n",
    "plt.plot(np.arange(0, n_pregp+1), ph_median[0:n_pregp+1], color='C1', linestyle='--', marker='o', label='__nolegend__')\n",
    "plt.plot(np.arange(n_pregp, ph_median.shape[0]), ph_median[n_pregp:], color='C1', linestyle='-', marker='s', label='median')\n",
    "\n",
    "plt.xlabel('Iteration', fontsize=15)\n",
    "plt.ylabel('Prediction Horizon $[ LT ]$', fontsize=15)\n",
    "plt.grid(True)\n",
    "\n",
    "plt.legend(fontsize=12)\n",
    "\n",
    "# plt.show()\n",
    "plt.savefig(dir_name_rnn+'/plots/CORRECTED_PH.pdf', dpi=300, bbox_inches='tight')"
   ]
  },
  {
   "cell_type": "code",
   "execution_count": 56,
   "metadata": {},
   "outputs": [],
   "source": [
    "np.savez(\n",
    "    dir_name_rnn+'/corrected_ph',\n",
    "    ph_median=ph_median,\n",
    "    ph_mean=ph_mean,\n",
    "    num_runs=num_runs,\n",
    "    error_threshold=error_threshold,\n",
    ")\n",
    "\n",
    "write_dict = {\n",
    "    'ph_median':ph_median,\n",
    "    'ph_mean':ph_mean,\n",
    "    'num_runs':num_runs,\n",
    "    'error_threshold':error_threshold,\n",
    "}\n",
    "with open(dir_name_rnn+'/corrected_ph.txt', 'w') as f:\n",
    "    f.write(str(write_dict))"
   ]
  },
  {
   "cell_type": "code",
   "execution_count": null,
   "metadata": {
    "executionInfo": {
     "elapsed": 4,
     "status": "ok",
     "timestamp": 1667868783568,
     "user": {
      "displayName": "Rohan Kaushik",
      "userId": "13918477614376051685"
     },
     "user_tz": -60
    },
    "id": "7ASCopnIH6nl"
   },
   "outputs": [],
   "source": []
  },
  {
   "cell_type": "code",
   "execution_count": null,
   "metadata": {},
   "outputs": [],
   "source": []
  },
  {
   "cell_type": "code",
   "execution_count": null,
   "metadata": {},
   "outputs": [],
   "source": []
  },
  {
   "cell_type": "code",
   "execution_count": null,
   "metadata": {},
   "outputs": [],
   "source": [
    "training_data_rnn_input.dtype"
   ]
  },
  {
   "cell_type": "code",
   "execution_count": null,
   "metadata": {
    "colab": {
     "base_uri": "https://localhost:8080/"
    },
    "executionInfo": {
     "elapsed": 4769220,
     "status": "ok",
     "timestamp": 1667873552785,
     "user": {
      "displayName": "Rohan Kaushik",
      "userId": "13918477614376051685"
     },
     "user_tz": -60
    },
    "id": "6hh1pbKjCcO4",
    "outputId": "e594f4de-ec70-465e-eef7-bdef301361fa",
    "scrolled": true
   },
   "outputs": [],
   "source": [
    "def optim_func(\n",
    "        x, # [fRMS, lambda_reg, zoneout]\n",
    "        time_stddev=time_stddev,\n",
    "        og_vars=og_vars,\n",
    "        RNN_GRU=RNN_GRU,\n",
    "        AR_RNN_GRU=AR_RNN_GRU,\n",
    "        AR_AERNN_GRU=AR_AERNN_GRU,\n",
    "        ae_net=ae_net,\n",
    "        mytimecallback=mytimecallback,\n",
    "        SaveLosses=SaveLosses,\n",
    "        plot_losses=plot_losses,\n",
    "        dir_name_rnn=dir_name_rnn,\n",
    "        boundary_idx_arr=rnn_data_boundary_idx_arr,\n",
    "        lyapunov_time_arr=lyapunov_time_arr,\n",
    "        sim_data_dict=sim_data,\n",
    "        RNN_specific_data_dict=RNN_specific_data,\n",
    "        training_specific_params_dict=training_specific_params,\n",
    "        normalization_arr=normalization_arr,\n",
    "        training_data_rnn_input=training_data_rnn_input,\n",
    "        training_data_rnn_output=training_data_rnn_output,\n",
    "        testing_data_rnn_input=testing_data_rnn_input,\n",
    "        testing_data_rnn_output=testing_data_rnn_output,\n",
    "        val_data_rnn_input=val_data_rnn_input,\n",
    "        val_data_rnn_output=val_data_rnn_output,\n",
    "        AR_testing_data_rnn_input=AR_testing_data_rnn_input,\n",
    "        AR_testing_data_rnn_output=AR_testing_data_rnn_output,\n",
    "        return_params_arr=return_params_arr,\n",
    "        normalize_dataset=normalize_dataset,\n",
    "        dt_rnn=dt_rnn,\n",
    "        noise_type=noise_type,\n",
    "        ae_data_normalization_arr=normalization_constant_arr_aedata,\n",
    "        time_stddev_ogdata=time_stddev_ogdata,\n",
    "        time_mean_ogdata=time_mean_ogdata,\n",
    "        T_sample_input=T_sample_input_AR,\n",
    "        T_sample_output=T_sample_output_AR,\n",
    "        rnn_layers_units=rnn_layers_units,\n",
    "        stateful=stateful,\n",
    "        reg_name='L2',\n",
    "        dense_layer_act_func=dense_layer_act_func,\n",
    "        use_learnable_state=use_learnable_state,\n",
    "        use_weights_post_dense=use_weights_post_dense,\n",
    "        rnncell_dropout_rate=rnncell_dropout_rate,\n",
    "        denselayer_dropout_rate=denselayer_dropout_rate,\n",
    "        scalar_weights=scalar_weights,\n",
    "        prng_seed=prng_seed,\n",
    "        epochs=epochs,\n",
    "        learning_rate_list=learning_rate_list,\n",
    "        patience=patience,  # parameter for early stopping\n",
    "        min_delta=min_delta,  # parameter for early stopping\n",
    "        batch_size=batch_size,\n",
    "        zoneout=zoneout_x0,\n",
    "    ):\n",
    "    \n",
    "    compute_time = time.time()\n",
    "    \n",
    "    x = [elem for elem in np.array(x).flatten()]\n",
    "    if len(x) < 3:\n",
    "        x.append(zoneout)\n",
    "\n",
    "    median_PH = trainGRU_and_return_PH(\n",
    "        x, # [fRMS, lambda_reg, zoneout]\n",
    "        time_stddev,\n",
    "        og_vars,\n",
    "        RNN_GRU,\n",
    "        AR_RNN_GRU,\n",
    "        AR_AERNN_GRU,\n",
    "        ae_net,\n",
    "        mytimecallback,\n",
    "        SaveLosses,\n",
    "        plot_losses,\n",
    "        dir_name_rnn,\n",
    "        boundary_idx_arr,\n",
    "        lyapunov_time_arr,\n",
    "        sim_data_dict,\n",
    "        RNN_specific_data_dict,\n",
    "        training_specific_params_dict,\n",
    "        normalization_arr,\n",
    "        training_data_rnn_input,\n",
    "        training_data_rnn_output,\n",
    "        testing_data_rnn_input,\n",
    "        testing_data_rnn_output,\n",
    "        val_data_rnn_input,\n",
    "        val_data_rnn_output,\n",
    "        AR_testing_data_rnn_input,\n",
    "        AR_testing_data_rnn_output,\n",
    "        return_params_arr,\n",
    "        normalize_dataset,\n",
    "        dt_rnn,\n",
    "        noise_type,\n",
    "        ae_data_normalization_arr,\n",
    "        time_stddev_ogdata,\n",
    "        time_mean_ogdata,\n",
    "        T_sample_input=T_sample_input,\n",
    "        T_sample_output=T_sample_output,\n",
    "        rnn_layers_units=rnn_layers_units,\n",
    "        stateful=stateful,\n",
    "        reg_name=reg_name,\n",
    "        dense_layer_act_func=dense_layer_act_func,\n",
    "        use_learnable_state=use_learnable_state,\n",
    "        use_weights_post_dense=use_weights_post_dense,\n",
    "        rnncell_dropout_rate=rnncell_dropout_rate,\n",
    "        denselayer_dropout_rate=denselayer_dropout_rate,\n",
    "        scalar_weights=scalar_weights,\n",
    "        prng_seed=prng_seed,\n",
    "        epochs=epochs,\n",
    "        learning_rate_list=learning_rate_list,\n",
    "        patience=patience,  # parameter for early stopping\n",
    "        min_delta=min_delta,  # parameter for early stopping\n",
    "        batch_size=batch_size,\n",
    "        error_threshold=0.5,\n",
    "        xlabel_kwargs={'fontsize':15},\n",
    "        ylabel_kwargs={'fontsize':15},\n",
    "        legend_kwargs={'fontsize':12},\n",
    "    )\n",
    "    \n",
    "    compute_time = time.time() - compute_time\n",
    "    print('compute_time : {:.0f}h {:.0f}m {:.0f}s'.format(\n",
    "        float(compute_time // 3600),\n",
    "        float((compute_time%3600)//60),\n",
    "        float((compute_time%3600)%60),\n",
    "    ))\n",
    "    \n",
    "    return -median_PH"
   ]
  },
  {
   "cell_type": "code",
   "execution_count": null,
   "metadata": {},
   "outputs": [],
   "source": []
  },
  {
   "cell_type": "code",
   "execution_count": null,
   "metadata": {},
   "outputs": [],
   "source": [
    "x_bounds = [\n",
    "    fRMS_bounds, # fRMS\n",
    "    lambda_reg_bounds, # lambda_reg\n",
    "]\n",
    "if vary_zoneout == True:\n",
    "    x_bounds.append(zoneout_bounds)"
   ]
  },
  {
   "cell_type": "code",
   "execution_count": null,
   "metadata": {},
   "outputs": [],
   "source": [
    "dimensions = [\n",
    "    eval(elem[3])(*elem[0:3]) for elem in x_bounds\n",
    "]"
   ]
  },
  {
   "cell_type": "code",
   "execution_count": null,
   "metadata": {},
   "outputs": [],
   "source": [
    "x0_gp = np.array(x0)[0:n_pregp]\n",
    "print(x0_gp)"
   ]
  },
  {
   "cell_type": "code",
   "execution_count": null,
   "metadata": {},
   "outputs": [],
   "source": [
    "y0_gp = -ph_median[0:n_pregp]\n",
    "print(y0_gp)"
   ]
  },
  {
   "cell_type": "code",
   "execution_count": null,
   "metadata": {},
   "outputs": [],
   "source": [
    "acq_func = \"EI\"\n",
    "n_initial_points = 0\n",
    "# n_calls = n_initial_points + len(x0_gp) + 10\n",
    "n_calls = 10\n",
    "print('n_calls : {}'.format(n_calls))"
   ]
  },
  {
   "cell_type": "code",
   "execution_count": null,
   "metadata": {},
   "outputs": [],
   "source": [
    "optim_dict = {\n",
    "    'fRMS_bounds':x_bounds[0],\n",
    "    'lambda_reg_bounds':x_bounds[1],\n",
    "    'n_calls':n_calls,\n",
    "    'acq_func':acq_func,\n",
    "    'n_initial_points':n_initial_points,\n",
    "    'num_x0':len(x0_gp),\n",
    "    'random_state':prng_seed,\n",
    "    'vary_zoneout':vary_zoneout,\n",
    "}\n",
    "if vary_zoneout == True:\n",
    "    optim_dict['zoneout_bounds'] = x_bounds[2]\n",
    "with open(dir_name_rnn + '/optim_params-corrected.txt', 'w') as f:\n",
    "    f.write(str(optim_dict))"
   ]
  },
  {
   "cell_type": "code",
   "execution_count": null,
   "metadata": {
    "scrolled": true
   },
   "outputs": [],
   "source": [
    "res = gp_minimize(\n",
    "    optim_func,\n",
    "    dimensions,\n",
    "    x0=[[elem2 for elem2 in elem1] for elem1 in x0_gp],\n",
    "    y0=[elem1 for elem1 in y0_gp],\n",
    "    n_calls=n_calls,\n",
    "    n_initial_points=n_initial_points,\n",
    "    random_state=prng_seed,\n",
    "    acq_func=acq_func,\n",
    ")"
   ]
  },
  {
   "cell_type": "code",
   "execution_count": null,
   "metadata": {},
   "outputs": [],
   "source": [
    "# %pdb"
   ]
  },
  {
   "cell_type": "code",
   "execution_count": null,
   "metadata": {},
   "outputs": [],
   "source": [
    "testrnn_dirlist_new = []\n",
    "testrnn_dirlist_idx_new = []\n",
    "for dname in os.listdir(dir_name_rnn+'/tested_rnn'):\n",
    "    if os.path.isdir(os.path.join(dir_name_rnn+'/tested_rnn', dname)):\n",
    "        testrnn_dirlist_new.append(os.path.join(dir_name_rnn+'/tested_rnn', dname))\n",
    "        rnnidx = int(testrnn_dirlist_new[-1][-3:])\n",
    "        testrnn_dirlist_idx_new.append(rnnidx)\n",
    "\n",
    "sorted_idx = np.argsort(testrnn_dirlist_idx_new)\n",
    "testrnn_dirlist_idx_new = np.array(testrnn_dirlist_idx_new)[sorted_idx]\n",
    "testrnn_dirlist_new = np.array(testrnn_dirlist_new)[sorted_idx]"
   ]
  },
  {
   "cell_type": "code",
   "execution_count": null,
   "metadata": {},
   "outputs": [],
   "source": [
    "print(testrnn_dirlist_new)"
   ]
  },
  {
   "cell_type": "code",
   "execution_count": null,
   "metadata": {
    "scrolled": true
   },
   "outputs": [],
   "source": [
    "x0_new = [[elem2 for elem2 in elem1] for elem1 in x0]\n",
    "ph_mean_new = [elem1 for elem1 in ph_mean]\n",
    "ph_median_new = [elem1 for elem1 in ph_median]\n",
    "ae_data_normalization_arr = normalization_constant_arr_aedata\n",
    "error_threshold = 0.5\n",
    "\n",
    "for dname in testrnn_dirlist_new[testrnn_dirlist.shape[0]:]:\n",
    "    analysis_time = time.time()\n",
    "\n",
    "    with open(dname+'/training_specific_params.txt', 'r') as f:\n",
    "        lines = f.readlines()\n",
    "    rnntrainspec_dict = eval(''.join(lines))\n",
    "\n",
    "    lambda_reg_i = rnntrainspec_dict[\"lambda_reg\"]\n",
    "    fRMS_i = rnntrainspec_dict[\"fRMS\"]\n",
    "    zoneout_rate_i = rnntrainspec_dict[\"zoneout_rate\"]\n",
    "    \n",
    "    x0_i = [fRMS_i, lambda_reg_i]\n",
    "    if vary_zoneout == True:\n",
    "        x0_i.append(zoneout_rate_i)\n",
    "    x0_new.append(x0_i)\n",
    "\n",
    "    npsavedata_fname = '/prediction_horizons-testingdata--combinedAERNN--ZEROoutsteps.npz'\n",
    "    \n",
    "    with np.load(dname+npsavedata_fname, allow_pickle=True) as f:\n",
    "        prediction_horizon_arr = np.array(f['prediction_horizon_arr'])\n",
    "\n",
    "    if len(prediction_horizon_arr.shape) == 2:\n",
    "        prediction_horizon_arr = prediction_horizon_arr[0]\n",
    "    num_runs = prediction_horizon_arr.shape[0]\n",
    "    median_idx = int(np.round(0.5*num_runs-1))\n",
    "    quartile_1_idx = int(np.round(0.25*num_runs-1))\n",
    "    quartile_3_idx = int(np.round(0.75*num_runs-1))\n",
    "\n",
    "    prediction_horizon_arr.sort()\n",
    "\n",
    "    median = prediction_horizon_arr[median_idx]\n",
    "    quartile_1 = prediction_horizon_arr[quartile_1_idx]\n",
    "    quartile_3 = prediction_horizon_arr[quartile_3_idx]\n",
    "    IQR = quartile_3 - quartile_1\n",
    "\n",
    "    prediction_horizon = np.mean(prediction_horizon_arr)\n",
    "    stddev_ph = np.std(prediction_horizon_arr)\n",
    "\n",
    "    analysis_time = time.time() - analysis_time\n",
    "    s = 'error_threshold = {}, num_runs : {}\\n'.format(error_threshold, num_runs)\n",
    "    s += 'prediction_horizon : {}, median : {}\\n'.format(prediction_horizon, median)\n",
    "    s += 'ph_min : {}, ph_max : {}\\n'.format(prediction_horizon_arr.min(), prediction_horizon_arr.max())\n",
    "    s += 'stddev : {}, IQR : {}\\n'.format(stddev_ph, IQR)\n",
    "    s += '1st quartile : {}, 3rd quartile : {}\\n\\n'.format(quartile_1, quartile_3)\n",
    "\n",
    "    print('    analysis_time : {:.0f} sec.\\n'.format(analysis_time)+s)\n",
    "    \n",
    "    ph_mean_new.append(prediction_horizon)\n",
    "    ph_median_new.append(median)"
   ]
  },
  {
   "cell_type": "code",
   "execution_count": null,
   "metadata": {
    "colab": {
     "base_uri": "https://localhost:8080/"
    },
    "executionInfo": {
     "elapsed": 10543,
     "status": "ok",
     "timestamp": 1667873563321,
     "user": {
      "displayName": "Rohan Kaushik",
      "userId": "13918477614376051685"
     },
     "user_tz": -60
    },
    "id": "SO7iK4mbneQm",
    "outputId": "48110900-962a-49c1-c532-718999590884",
    "scrolled": false
   },
   "outputs": [],
   "source": [
    "ph_mean_new = np.array(ph_mean_new)\n",
    "ph_median_new = np.array(ph_median_new)\n",
    "\n",
    "plt.plot(np.arange(0, n_pregp+1), ph_mean_new[0:n_pregp+1], color='C0', linestyle='--', marker='o', label='__nolegend__')\n",
    "plt.plot(np.arange(n_pregp, ph_mean_new.shape[0]), ph_mean_new[n_pregp:], color='C0', linestyle='-', marker='s', label='mean')\n",
    "\n",
    "plt.plot(np.arange(0, n_pregp+1), ph_median_new[0:n_pregp+1], color='C1', linestyle='--', marker='o', label='__nolegend__')\n",
    "plt.plot(np.arange(n_pregp, ph_median_new.shape[0]), ph_median_new[n_pregp:], color='C1', linestyle='-', marker='s', label='median')\n",
    "\n",
    "plt.xlabel('Iteration', fontsize=15)\n",
    "plt.ylabel('Prediction Horizon $[ LT ]$', fontsize=15)\n",
    "plt.grid(True)\n",
    "\n",
    "plt.legend(fontsize=12)\n",
    "\n",
    "plt.show()\n",
    "# plt.savefig(dir_name_rnn+'/plots/CORRECTED_PH.pdf', dpi=300, bbox_inches='tight')"
   ]
  },
  {
   "cell_type": "code",
   "execution_count": null,
   "metadata": {
    "colab": {
     "base_uri": "https://localhost:8080/",
     "height": 279
    },
    "executionInfo": {
     "elapsed": 1226,
     "status": "ok",
     "timestamp": 1667873564544,
     "user": {
      "displayName": "Rohan Kaushik",
      "userId": "13918477614376051685"
     },
     "user_tz": -60
    },
    "id": "nDv5D8APneQm",
    "outputId": "ee911dc8-4d36-48af-8ad0-07cef0dbaf81"
   },
   "outputs": [],
   "source": [
    "to_plot = [\n",
    "    [np.array(x0_new)[:, 0], 'fRMS', 'fRMS', 'plt.semilogy'],\n",
    "    [np.array(x0_new)[:, 1], '$\\Lambda_{reg}$', 'lambda_reg', 'plt.semilogy']\n",
    "]\n",
    "\n",
    "for i in range(len(to_plot)):\n",
    "    eval(to_plot[i][3])(np.arange(0, n_pregp+1), to_plot[i][0][0:n_pregp+1], color='C0', linestyle='--', marker='o', label='__nolegend__')\n",
    "    eval(to_plot[i][3])(np.arange(n_pregp, to_plot[i][0].shape[0]), to_plot[i][0][n_pregp:], color='C0', linestyle='-', marker='s', label='mean')\n",
    "\n",
    "    plt.xlabel('Iteration', fontsize=15)\n",
    "    plt.ylabel(to_plot[i][1], fontsize=15)\n",
    "    plt.grid(True)\n",
    "\n",
    "    plt.legend(fontsize=12)\n",
    "\n",
    "    plt.show()\n",
    "    # plt.savefig(dir_name_rnn+'/plots/CORRECTED_PH.pdf', dpi=300, bbox_inches='tight')"
   ]
  },
  {
   "cell_type": "code",
   "execution_count": null,
   "metadata": {
    "colab": {
     "base_uri": "https://localhost:8080/",
     "height": 433
    },
    "executionInfo": {
     "elapsed": 11096,
     "status": "ok",
     "timestamp": 1667873575637,
     "user": {
      "displayName": "Rohan Kaushik",
      "userId": "13918477614376051685"
     },
     "user_tz": -60
    },
    "id": "dbLa0AwlDBWh",
    "outputId": "d3f93f58-9ce7-4994-8d68-29520477e02d"
   },
   "outputs": [],
   "source": [
    "res"
   ]
  },
  {
   "cell_type": "code",
   "execution_count": null,
   "metadata": {
    "colab": {
     "base_uri": "https://localhost:8080/"
    },
    "executionInfo": {
     "elapsed": 8,
     "status": "ok",
     "timestamp": 1667873575638,
     "user": {
      "displayName": "Rohan Kaushik",
      "userId": "13918477614376051685"
     },
     "user_tz": -60
    },
    "id": "MDopQ4JMhRPV",
    "outputId": "f6480bb7-5837-4a80-9333-f9acd175b27a"
   },
   "outputs": [],
   "source": [
    "optim_x = np.array(res.x)\n",
    "x_iters = np.array(res.x_iters)\n",
    "func_iters = np.array(res.func_vals)\n",
    "optim_func = res.fun\n",
    "\n",
    "optim_idx = np.where(x_iters[:, 0] == optim_x[0])[0]\n",
    "for i in range(optim_x.shape[0]-1):\n",
    "    i = i+1\n",
    "    optim_idx_i = np.where(x_iters[optim_idx, i] == optim_x[i])[0]\n",
    "    optim_idx = optim_idx[optim_idx_i]\n",
    "optim_idx = optim_idx[0]"
   ]
  },
  {
   "cell_type": "code",
   "execution_count": null,
   "metadata": {
    "executionInfo": {
     "elapsed": 9,
     "status": "ok",
     "timestamp": 1667873576097,
     "user": {
      "displayName": "Rohan Kaushik",
      "userId": "13918477614376051685"
     },
     "user_tz": -60
    },
    "id": "2_fAlJz2Vdev"
   },
   "outputs": [],
   "source": [
    "optim_idx"
   ]
  },
  {
   "cell_type": "code",
   "execution_count": null,
   "metadata": {
    "executionInfo": {
     "elapsed": 9,
     "status": "ok",
     "timestamp": 1667873576098,
     "user": {
      "displayName": "Rohan Kaushik",
      "userId": "13918477614376051685"
     },
     "user_tz": -60
    },
    "id": "s5BNteRC7COC",
    "scrolled": false
   },
   "outputs": [],
   "source": [
    "a = n_initial_points + len(x0)\n",
    "# sorted_idx = np.argsort(x_iters[a:, 0])\n",
    "\n",
    "xplot = np.arange(func_iters.shape[0])\n",
    "\n",
    "if a > 0:\n",
    "    plt.plot(\n",
    "        -func_iters[0:a+1],\n",
    "        linestyle='--',\n",
    "        color='C2',\n",
    "        marker='^',\n",
    "        label='Initial Points',\n",
    "    )\n",
    "    xplot = np.arange(a, func_iters.shape[0])\n",
    "plt.plot(\n",
    "    xplot,\n",
    "    -func_iters[a:],\n",
    "    linestyle='--',\n",
    "    marker='^',\n",
    "    label='GP Minimization',#'__nolegend__',\n",
    ")\n",
    "plt.plot([optim_idx], [-func_iters[optim_idx]], 's', label='Optimal Value')\n",
    "\n",
    "plt.xlabel('Iteration', fontsize=15)\n",
    "plt.ylabel('Median Prediction Horizon', fontsize=15)\n",
    "plt.grid(True, which='major', axis='x')\n",
    "plt.grid(True, which='both', axis='y')\n",
    "plt.legend(fontsize=12)\n",
    "\n",
    "plt.savefig(dir_name_rnn_plots+'/median_PH.pdf', bbox_inches='tight', dpi=300)\n",
    "plt.show()"
   ]
  },
  {
   "cell_type": "code",
   "execution_count": null,
   "metadata": {},
   "outputs": [],
   "source": [
    "from skopt.plots import plot_convergence\n",
    "plot_convergence(res)"
   ]
  },
  {
   "cell_type": "code",
   "execution_count": null,
   "metadata": {},
   "outputs": [],
   "source": [
    "optimized_vals_dict = {\n",
    "    'x_iters':x_iters,\n",
    "    'func_iters':func_iters,\n",
    "    'optim_x':optim_x,\n",
    "    'optim_idx':optim_idx,\n",
    "    'optim_fun':func_iters[optim_idx]\n",
    "}\n",
    "\n",
    "with open(dir_name_rnn+'/optimized_vals.txt', 'w') as f:\n",
    "    f.write(str(optimized_vals_dict))\n",
    "    \n",
    "np.savez(\n",
    "    dir_name_rnn+'/optimized_vals',\n",
    "    x_iters=x_iters,\n",
    "    func_iters=func_iters,\n",
    "    optim_x=optim_x,\n",
    "    optim_idx=optim_idx,\n",
    "    optim_fun=func_iters[optim_idx]\n",
    ")"
   ]
  },
  {
   "cell_type": "code",
   "execution_count": null,
   "metadata": {
    "scrolled": true
   },
   "outputs": [],
   "source": [
    "xoptim_names = [\n",
    "    [r'fRMS', 'fRMS', plt.semilogy],\n",
    "    [r'$\\Lambda_{reg}$', 'lambda_reg', plt.semilogy],\n",
    "]\n",
    "if vary_zoneout == True:\n",
    "    xoptim_names.append(\n",
    "        [r'$p^{zoneout}$', 'zoneout', plt.plot]\n",
    "    )\n",
    "\n",
    "for i in range(len(xoptim_names)):\n",
    "    a = n_initial_points + len(x0)\n",
    "    # sorted_idx = np.argsort(x_iters[a:, 0])\n",
    "\n",
    "    xplot = np.arange(x_iters.shape[0])\n",
    "    if a > 0:\n",
    "        xoptim_names[i][2](\n",
    "            x_iters[:, i][0:a+1],\n",
    "            linestyle='--',\n",
    "            color='C2',\n",
    "            marker='^',\n",
    "            label='Initial Points',\n",
    "        )\n",
    "        xplot = np.arange(a, x_iters.shape[0])\n",
    "    xoptim_names[i][2](\n",
    "        xplot,\n",
    "        x_iters[:, i][a:],\n",
    "        linestyle='--',\n",
    "        marker='^',\n",
    "        label='GP Minimization',#'__nolegend__',\n",
    "    )\n",
    "    xoptim_names[i][2]([optim_idx], [x_iters[optim_idx, i]], 's', label='Optimal Value')\n",
    "\n",
    "    plt.xlabel('Iteration', fontsize=15)\n",
    "    plt.ylabel(xoptim_names[i][0], fontsize=15)\n",
    "    plt.grid(True, which='major', axis='x')\n",
    "    plt.grid(True, which='both', axis='y')\n",
    "    plt.legend(fontsize=12)\n",
    "\n",
    "    plt.savefig(dir_name_rnn_plots+'/'+xoptim_names[i][1]+'.pdf', bbox_inches='tight', dpi=300)\n",
    "    plt.show()"
   ]
  },
  {
   "cell_type": "code",
   "execution_count": null,
   "metadata": {},
   "outputs": [],
   "source": [
    "dir_list = os.listdir(dir_name_rnn+'/tested_rnn')\n",
    "# dir_list"
   ]
  },
  {
   "cell_type": "code",
   "execution_count": null,
   "metadata": {},
   "outputs": [],
   "source": [
    "ph_mean_lst = []\n",
    "for dir_name in dir_list:\n",
    "    with np.load(dir_name_rnn+'/tested_rnn/'+dir_name+'/prediction_horizons-testingdata--combinedAERNN--ZEROoutsteps.npz') as f:\n",
    "        ph_mean = np.mean(f['prediction_horizon_arr'])\n",
    "        ph_mean_lst.append(ph_mean)\n",
    "ph_mean_lst = np.array(ph_mean_lst)"
   ]
  },
  {
   "cell_type": "code",
   "execution_count": null,
   "metadata": {},
   "outputs": [],
   "source": [
    "idx = np.where(ph_mean_lst == ph_mean_lst.max())[0]"
   ]
  },
  {
   "cell_type": "code",
   "execution_count": null,
   "metadata": {
    "scrolled": true
   },
   "outputs": [],
   "source": [
    "idx, dir_list[idx[0]]"
   ]
  },
  {
   "cell_type": "code",
   "execution_count": null,
   "metadata": {},
   "outputs": [],
   "source": []
  },
  {
   "cell_type": "code",
   "execution_count": null,
   "metadata": {},
   "outputs": [],
   "source": [
    "# convergence plot\n",
    "convergence_f = np.empty_like(func_iters)\n",
    "min_val = np.inf\n",
    "for i in range(func_iters.shape[0]):\n",
    "    if func_iters[i] < min_val:\n",
    "        min_val = func_iters[i]\n",
    "    convergence_f[i] = min_val"
   ]
  },
  {
   "cell_type": "code",
   "execution_count": null,
   "metadata": {},
   "outputs": [],
   "source": [
    "a = n_initial_points + len(x0)\n",
    "# sorted_idx = np.argsort(x_iters[a:, 0])\n",
    "\n",
    "xplot = np.arange(x_iters.shape[0])\n",
    "\n",
    "if a > 0:\n",
    "    plt.plot(\n",
    "        -convergence_f[0:a+1],\n",
    "        linestyle='--',\n",
    "        color='C2',\n",
    "        marker='^',\n",
    "        label='Initial Points',\n",
    "    )\n",
    "    xplot = np.arange(a, x_iters.shape[0])\n",
    "plt.plot(\n",
    "    xplot,\n",
    "    -convergence_f[a:],\n",
    "    linestyle='--',\n",
    "    marker='^',\n",
    "    label='GP Minimization',#'__nolegend__',\n",
    ")\n",
    "# plt.semilogy([optim_idx], [func_iters[optim_idx, 0]], 's', label='Optimal Value')\n",
    "\n",
    "plt.xlabel('Iteration', fontsize=15)\n",
    "plt.ylabel(\n",
    "#     r\"$$\\min_{0 \\leq j \\leq \\mathrm{present \\ iteration}} \\left( \\mathrm{Test \\ MSE} \\right)$$\",\n",
    "#     r\"$$\\min_{0 \\leq j \\leq \\mathrm{present \\atop iteration}} \\left( \\mathrm{Test \\ MSE} \\right)$$\",\n",
    "    r\"$$\\max_{0 \\leq j \\leq \\mathrm{present \\atop iteration}} \\left( \\mathrm{Median \\ PH} \\right)$$\",\n",
    "    fontsize=15,\n",
    ")\n",
    "plt.title('Convergence Plot', fontsize=18)\n",
    "plt.grid(True, which='major', axis='x')\n",
    "plt.grid(True, which='both', axis='y')\n",
    "plt.legend(fontsize=12)\n",
    "\n",
    "plt.savefig(dir_name_rnn_plots+'/convergence_plot.pdf', bbox_inches='tight', dpi=300)\n",
    "plt.show()"
   ]
  },
  {
   "cell_type": "markdown",
   "metadata": {},
   "source": [
    "### Prediction horizon computation"
   ]
  },
  {
   "cell_type": "code",
   "execution_count": null,
   "metadata": {},
   "outputs": [],
   "source": []
  },
  {
   "cell_type": "code",
   "execution_count": null,
   "metadata": {},
   "outputs": [],
   "source": []
  },
  {
   "cell_type": "code",
   "execution_count": null,
   "metadata": {},
   "outputs": [],
   "source": []
  }
 ],
 "metadata": {
  "accelerator": "GPU",
  "colab": {
   "collapsed_sections": [],
   "provenance": []
  },
  "gpuClass": "standard",
  "kernelspec": {
   "display_name": "Python 3 (ipykernel)",
   "language": "python",
   "name": "python3"
  },
  "language_info": {
   "codemirror_mode": {
    "name": "ipython",
    "version": 3
   },
   "file_extension": ".py",
   "mimetype": "text/x-python",
   "name": "python",
   "nbconvert_exporter": "python",
   "pygments_lexer": "ipython3",
   "version": "3.10.6"
  }
 },
 "nbformat": 4,
 "nbformat_minor": 1
}
