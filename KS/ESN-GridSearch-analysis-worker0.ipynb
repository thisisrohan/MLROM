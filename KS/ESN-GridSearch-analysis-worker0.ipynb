{
 "cells": [
  {
   "cell_type": "code",
   "execution_count": 1,
   "metadata": {
    "executionInfo": {
     "elapsed": 220,
     "status": "ok",
     "timestamp": 1667906071238,
     "user": {
      "displayName": "Rohan Kaushik",
      "userId": "13918477614376051685"
     },
     "user_tz": -60
    },
    "id": "4xhxMpe_r-Y5"
   },
   "outputs": [],
   "source": [
    "# enabling 3rd party widgets\n",
    "# from google.colab import output\n",
    "# output.enable_custom_widget_manager()\n",
    "# output.disable_custom_widget_manager()\n",
    "\n",
    "# interactive 3D plot\n",
    "# !pip install ipympl\n",
    "# %matplotlib widget"
   ]
  },
  {
   "cell_type": "code",
   "execution_count": 2,
   "metadata": {
    "executionInfo": {
     "elapsed": 8,
     "status": "ok",
     "timestamp": 1667906071667,
     "user": {
      "displayName": "Rohan Kaushik",
      "userId": "13918477614376051685"
     },
     "user_tz": -60
    },
    "id": "a5qPupCDsjSz"
   },
   "outputs": [],
   "source": [
    "import os\n",
    "import numpy as np\n",
    "import matplotlib.pyplot as plt\n",
    "from scipy import linalg\n",
    "\n",
    "import time as time\n",
    "\n",
    "import tensorflow as tf\n",
    "from tensorflow.keras import layers, losses\n",
    "from tensorflow.keras.models import Model\n",
    "from tensorflow.keras import backend as K\n",
    "from tensorflow.keras.regularizers import L2\n",
    "import h5py"
   ]
  },
  {
   "cell_type": "code",
   "execution_count": 3,
   "metadata": {
    "executionInfo": {
     "elapsed": 7,
     "status": "ok",
     "timestamp": 1667906071668,
     "user": {
      "displayName": "Rohan Kaushik",
      "userId": "13918477614376051685"
     },
     "user_tz": -60
    },
    "id": "BX1UEb-5kWTi"
   },
   "outputs": [],
   "source": [
    "colab_flag = False\n",
    "\n",
    "FTYPE = np.float32\n",
    "ITYPE = np.int32\n",
    "\n",
    "array = np.array\n",
    "float32 = np.float32\n",
    "int32 = np.int32\n",
    "float64 = np.float64\n",
    "int64 = np.int64"
   ]
  },
  {
   "cell_type": "code",
   "execution_count": 4,
   "metadata": {
    "executionInfo": {
     "elapsed": 8,
     "status": "ok",
     "timestamp": 1667906071670,
     "user": {
      "displayName": "Rohan Kaushik",
      "userId": "13918477614376051685"
     },
     "user_tz": -60
    },
    "id": "BiLIUmBPneQR"
   },
   "outputs": [],
   "source": [
    "worker_id = 0"
   ]
  },
  {
   "cell_type": "code",
   "execution_count": 5,
   "metadata": {
    "colab": {
     "base_uri": "https://localhost:8080/"
    },
    "executionInfo": {
     "elapsed": 1887,
     "status": "ok",
     "timestamp": 1667906073549,
     "user": {
      "displayName": "Rohan Kaushik",
      "userId": "13918477614376051685"
     },
     "user_tz": -60
    },
    "id": "fnTV6Anhni6O",
    "outputId": "31ee1b16-de16-45d7-a563-87d5bb05ccc0"
   },
   "outputs": [],
   "source": [
    "if colab_flag == True:\n",
    "    from google.colab import drive\n",
    "    drive.mount('/content/drive')\n",
    "    os.chdir('/content/drive/MyDrive/Github/MLROM/KS/')"
   ]
  },
  {
   "cell_type": "code",
   "execution_count": 6,
   "metadata": {
    "colab": {
     "base_uri": "https://localhost:8080/"
    },
    "executionInfo": {
     "elapsed": 24,
     "status": "ok",
     "timestamp": 1667906073550,
     "user": {
      "displayName": "Rohan Kaushik",
      "userId": "13918477614376051685"
     },
     "user_tz": -60
    },
    "id": "paDfPOrjnkAS",
    "outputId": "9bf6780f-ab1f-418b-f653-571a70d58813"
   },
   "outputs": [
    {
     "name": "stdout",
     "output_type": "stream",
     "text": [
      "/home/rkaushik/Documents/Thesis/MLROM/KS\n"
     ]
    }
   ],
   "source": [
    "print(os.getcwd())"
   ]
  },
  {
   "cell_type": "code",
   "execution_count": 7,
   "metadata": {
    "colab": {
     "base_uri": "https://localhost:8080/"
    },
    "executionInfo": {
     "elapsed": 19,
     "status": "ok",
     "timestamp": 1667906073551,
     "user": {
      "displayName": "Rohan Kaushik",
      "userId": "13918477614376051685"
     },
     "user_tz": -60
    },
    "id": "nGZQ6RzOiVcQ",
    "outputId": "501b4918-b2fd-4c4e-cd29-a87261391086"
   },
   "outputs": [
    {
     "name": "stdout",
     "output_type": "stream",
     "text": [
      "[PhysicalDevice(name='/physical_device:GPU:0', device_type='GPU'), PhysicalDevice(name='/physical_device:GPU:1', device_type='GPU')]\n",
      "[LogicalDevice(name='/device:GPU:0', device_type='GPU')]\n"
     ]
    },
    {
     "name": "stderr",
     "output_type": "stream",
     "text": [
      "2022-12-06 14:29:18.649298: I tensorflow/stream_executor/cuda/cuda_gpu_executor.cc:936] successful NUMA node read from SysFS had negative value (-1), but there must be at least one NUMA node, so returning NUMA node zero\n",
      "2022-12-06 14:29:18.649743: I tensorflow/stream_executor/cuda/cuda_gpu_executor.cc:936] successful NUMA node read from SysFS had negative value (-1), but there must be at least one NUMA node, so returning NUMA node zero\n",
      "2022-12-06 14:29:19.229199: I tensorflow/stream_executor/cuda/cuda_gpu_executor.cc:936] successful NUMA node read from SysFS had negative value (-1), but there must be at least one NUMA node, so returning NUMA node zero\n",
      "2022-12-06 14:29:19.229556: I tensorflow/stream_executor/cuda/cuda_gpu_executor.cc:936] successful NUMA node read from SysFS had negative value (-1), but there must be at least one NUMA node, so returning NUMA node zero\n",
      "2022-12-06 14:29:19.229896: I tensorflow/stream_executor/cuda/cuda_gpu_executor.cc:936] successful NUMA node read from SysFS had negative value (-1), but there must be at least one NUMA node, so returning NUMA node zero\n",
      "2022-12-06 14:29:19.230191: I tensorflow/stream_executor/cuda/cuda_gpu_executor.cc:936] successful NUMA node read from SysFS had negative value (-1), but there must be at least one NUMA node, so returning NUMA node zero\n",
      "2022-12-06 14:29:19.277606: I tensorflow/core/platform/cpu_feature_guard.cc:151] This TensorFlow binary is optimized with oneAPI Deep Neural Network Library (oneDNN) to use the following CPU instructions in performance-critical operations:  SSE4.1 SSE4.2 AVX AVX2 FMA\n",
      "To enable them in other operations, rebuild TensorFlow with the appropriate compiler flags.\n",
      "2022-12-06 14:29:19.284224: I tensorflow/stream_executor/cuda/cuda_gpu_executor.cc:936] successful NUMA node read from SysFS had negative value (-1), but there must be at least one NUMA node, so returning NUMA node zero\n",
      "2022-12-06 14:29:19.284637: I tensorflow/stream_executor/cuda/cuda_gpu_executor.cc:936] successful NUMA node read from SysFS had negative value (-1), but there must be at least one NUMA node, so returning NUMA node zero\n",
      "2022-12-06 14:29:19.284936: I tensorflow/stream_executor/cuda/cuda_gpu_executor.cc:936] successful NUMA node read from SysFS had negative value (-1), but there must be at least one NUMA node, so returning NUMA node zero\n",
      "2022-12-06 14:29:23.938962: I tensorflow/stream_executor/cuda/cuda_gpu_executor.cc:936] successful NUMA node read from SysFS had negative value (-1), but there must be at least one NUMA node, so returning NUMA node zero\n",
      "2022-12-06 14:29:23.939491: I tensorflow/stream_executor/cuda/cuda_gpu_executor.cc:936] successful NUMA node read from SysFS had negative value (-1), but there must be at least one NUMA node, so returning NUMA node zero\n",
      "2022-12-06 14:29:23.939912: I tensorflow/stream_executor/cuda/cuda_gpu_executor.cc:936] successful NUMA node read from SysFS had negative value (-1), but there must be at least one NUMA node, so returning NUMA node zero\n",
      "2022-12-06 14:29:23.945551: I tensorflow/core/common_runtime/gpu/gpu_device.cc:1525] Created device /job:localhost/replica:0/task:0/device:GPU:0 with 3359 MB memory:  -> device: 0, name: Quadro K2200, pci bus id: 0000:02:00.0, compute capability: 5.0\n"
     ]
    }
   ],
   "source": [
    "gpus = tf.config.list_physical_devices('GPU')\n",
    "print(gpus)\n",
    "\n",
    "if colab_flag == False:\n",
    "    if gpus:\n",
    "        gpu_to_use = 0\n",
    "        tf.config.set_visible_devices(gpus[gpu_to_use], 'GPU')\n",
    "        logical_devices = tf.config.list_logical_devices('GPU')\n",
    "        print(logical_devices)"
   ]
  },
  {
   "cell_type": "code",
   "execution_count": 8,
   "metadata": {
    "executionInfo": {
     "elapsed": 18,
     "status": "ok",
     "timestamp": 1667906073552,
     "user": {
      "displayName": "Rohan Kaushik",
      "userId": "13918477614376051685"
     },
     "user_tz": -60
    },
    "id": "P6K2YWlR6ZPD"
   },
   "outputs": [],
   "source": [
    "from tools.misc_tools import create_data_for_RNN\n",
    "from tools.ae_v5 import Autoencoder\n",
    "from tools.ESN_v3 import ESN"
   ]
  },
  {
   "cell_type": "code",
   "execution_count": null,
   "metadata": {
    "executionInfo": {
     "elapsed": 19,
     "status": "ok",
     "timestamp": 1667906073554,
     "user": {
      "displayName": "Rohan Kaushik",
      "userId": "13918477614376051685"
     },
     "user_tz": -60
    },
    "id": "_xtkwXE2tGTP"
   },
   "outputs": [],
   "source": []
  },
  {
   "cell_type": "code",
   "execution_count": null,
   "metadata": {
    "executionInfo": {
     "elapsed": 21,
     "status": "ok",
     "timestamp": 1667906073556,
     "user": {
      "displayName": "Rohan Kaushik",
      "userId": "13918477614376051685"
     },
     "user_tz": -60
    },
    "id": "8S1AHEkl48bn"
   },
   "outputs": [],
   "source": []
  },
  {
   "cell_type": "code",
   "execution_count": 9,
   "metadata": {
    "colab": {
     "base_uri": "https://localhost:8080/"
    },
    "executionInfo": {
     "elapsed": 22,
     "status": "ok",
     "timestamp": 1667906073558,
     "user": {
      "displayName": "Rohan Kaushik",
      "userId": "13918477614376051685"
     },
     "user_tz": -60
    },
    "id": "tc3zO9xL_tNl",
    "outputId": "f2104972-c74d-44d6-fe45-3f0b2355e3ec"
   },
   "outputs": [
    {
     "name": "stdout",
     "output_type": "stream",
     "text": [
      "[PhysicalDevice(name='/physical_device:CPU:0', device_type='CPU'), PhysicalDevice(name='/physical_device:GPU:0', device_type='GPU'), PhysicalDevice(name='/physical_device:GPU:1', device_type='GPU')]\n",
      "[LogicalDevice(name='/device:CPU:0', device_type='CPU'), LogicalDevice(name='/device:GPU:0', device_type='GPU')]\n",
      "2.8.1\n"
     ]
    }
   ],
   "source": [
    "# print(tf.test.gpu_device_name())\n",
    "print(tf.config.list_physical_devices())\n",
    "print(tf.config.list_logical_devices())\n",
    "print(tf.__version__)"
   ]
  },
  {
   "cell_type": "markdown",
   "metadata": {
    "id": "7UbdnOtc4_z9"
   },
   "source": [
    "# KS System"
   ]
  },
  {
   "cell_type": "code",
   "execution_count": 10,
   "metadata": {
    "executionInfo": {
     "elapsed": 18,
     "status": "ok",
     "timestamp": 1667906073559,
     "user": {
      "displayName": "Rohan Kaushik",
      "userId": "13918477614376051685"
     },
     "user_tz": -60
    },
    "id": "8aNkoXfyGq52"
   },
   "outputs": [],
   "source": [
    "gs_idx = '002'\n",
    "dir_name_gs_all = os.getcwd() + '/grid_search/gridsearch_' + gs_idx\n",
    "\n",
    "# worker_dir_list = os.listdir(dir_name_gs_all)\n",
    "# worker_dir_list = [dir_name_gs_all+'/'+dname for dname in worker_dir_list if os.path.isdir(dir_name_gs_all+'/'+dname)]\n",
    "\n",
    "worker_dir_list = [dir_name_gs_all+'/worker_{}'.format(worker_id)]\n",
    "\n",
    "ESN_dir_list = []\n",
    "for dname in worker_dir_list:\n",
    "    temp = os.listdir(dname)\n",
    "    temp = [dname+'/'+esndir for esndir in temp if os.path.isdir(dname+'/'+esndir)]\n",
    "    ESN_dir_list.extend(temp)\n",
    "\n",
    "analyse_only_if_not_already = False # This will check if the prediction horizons for the\n",
    "                                    # for the chosen data have already been computed, and\n",
    "                                    # and proceed only if they haven't. Setting it to `False`\n",
    "                                    # will cause it to do the computations anyway and overwrite\n",
    "                                    # any existing files."
   ]
  },
  {
   "cell_type": "code",
   "execution_count": 11,
   "metadata": {
    "colab": {
     "base_uri": "https://localhost:8080/"
    },
    "executionInfo": {
     "elapsed": 1294,
     "status": "ok",
     "timestamp": 1667906074836,
     "user": {
      "displayName": "Rohan Kaushik",
      "userId": "13918477614376051685"
     },
     "user_tz": -60
    },
    "id": "O7sl7i5H5Dqz",
    "outputId": "78b99085-67db-459e-adeb-4bee022c6599"
   },
   "outputs": [
    {
     "name": "stdout",
     "output_type": "stream",
     "text": [
      "dir_name_rnn :  /home/rkaushik/Documents/Thesis/MLROM/KS/grid_search/gridsearch_002/worker_0/ESN_030\n",
      " dir_name_ae :  /home/rkaushik/Documents/Thesis/MLROM/KS/saved_ae/ae_046\n",
      "data_dir_idx :  005\n",
      " use_ae_data :  False\n",
      "normalize_flag_ogdata: False\n"
     ]
    }
   ],
   "source": [
    "# setting up params (and saving, if applicable)\n",
    "\n",
    "# RNN directory\n",
    "dir_name_rnn = ESN_dir_list[0]\n",
    "\n",
    "# reading AE directory\n",
    "with open(dir_name_rnn + '/sim_data_AE_params.txt') as f:\n",
    "    lines = f.readlines()\n",
    "\n",
    "params_dict = eval(''.join(lines))\n",
    "\n",
    "dir_name_ae = params_dict['dir_name_ae']\n",
    "ae_idx = dir_name_ae[-3:]\n",
    "dir_name_ae = os.getcwd()+'/saved_ae/ae_'+ae_idx\n",
    "try:\n",
    "    use_ae_data = params_dict['use_ae_data']\n",
    "except:\n",
    "    print(\"'use_ae_data' not present in sim_data_AE_params, set to True.\")\n",
    "    use_ae_data = True\n",
    "\n",
    "# reading RNN paramaters\n",
    "with open(dir_name_rnn + '/RNN_specific_data.txt') as f:\n",
    "    lines = f.readlines()\n",
    "\n",
    "params_rnn_dict = eval(''.join(lines))\n",
    "\n",
    "\n",
    "\n",
    "dt_rnn = params_rnn_dict['dt_rnn']\n",
    "T_sample_input = params_rnn_dict['T_sample_input']\n",
    "T_sample_output = params_rnn_dict['T_sample_output']\n",
    "T_offset = params_rnn_dict['T_offset']\n",
    "return_params_arr = params_rnn_dict['return_params_arr']\n",
    "params = params_rnn_dict['params']\n",
    "delta_t = params_rnn_dict['delta_t']\n",
    "normalize_dataset = params_rnn_dict['normalize_dataset']\n",
    "num_input_tsteps = params_rnn_dict['num_input_tsteps']\n",
    "skip_intermediate = params_rnn_dict['skip_intermediate']\n",
    "normalization_type = params_rnn_dict['normalization_type']\n",
    "\n",
    "normalization_arr_rnn = None\n",
    "if normalize_dataset == True:\n",
    "    with np.load(dir_name_rnn+'/normalization_data.npz', allow_pickle=True) as f:\n",
    "        normalization_arr_rnn = f['normalization_arr'][0]\n",
    "    \n",
    "# reading simulation parameters\n",
    "with open(dir_name_ae + '/ae_data.txt') as f:\n",
    "    lines = f.readlines()\n",
    "params_dict = eval(''.join(lines))\n",
    "data_dir_idx = params_dict['data_dir_idx']\n",
    "normalizeforae_flag = params_dict['normalizeforae_flag']\n",
    "\n",
    "with np.load(dir_name_ae+'/normalization_data.npz', allow_pickle=True) as f:\n",
    "    normalization_constant_arr_aedata = f['normalization_constant_arr_aedata'][0]\n",
    "\n",
    "try:\n",
    "    ae_data_with_params = params_dict['ae_data_with_params']\n",
    "except:\n",
    "    print(\"'ae_data_with_params' not present in ae_data, set to 'True'.\")\n",
    "    ae_data_with_params = True\n",
    "\n",
    "print('dir_name_rnn : ', dir_name_rnn)\n",
    "print(' dir_name_ae : ', dir_name_ae)\n",
    "print('data_dir_idx : ', data_dir_idx)\n",
    "print(' use_ae_data : ', use_ae_data)\n",
    "\n",
    "# loading data\n",
    "dir_name_data = os.getcwd() + '/saved_data/data_' + data_dir_idx\n",
    "    \n",
    "with open(dir_name_data + '/sim_data_params.txt') as f:\n",
    "    lines = f.readlines()\n",
    "params_dict = eval(''.join(lines))\n",
    "params_mat = params_dict['params_mat']\n",
    "# init_state_mat = params_dict['init_state_mat']\n",
    "t0 = params_dict['t0']\n",
    "T = params_dict['T']\n",
    "delta_t = params_dict['delta_t']\n",
    "numpoints_xgrid = params_dict['numpoints_xgrid']\n",
    "length = params_dict['length']\n",
    "return_params_arr = params_dict['return_params_arr']\n",
    "normalize_flag_ogdata = params_dict['normalize_flag']\n",
    "print('normalize_flag_ogdata:', normalize_flag_ogdata)\n",
    "alldata_withparams_flag = params_dict['alldata_withparams_flag']\n",
    "\n",
    "xgrid = length*np.linspace(0, 1, numpoints_xgrid)\n",
    "\n",
    "with np.load(dir_name_data+'/data.npz', allow_pickle=True) as fl:\n",
    "    all_data = fl['all_data']\n",
    "    boundary_idx_arr = fl['boundary_idx_arr']\n",
    "    normalization_constant_arr_ogdata = fl['normalization_constant_arr'][0]\n",
    "    initial_t0 = fl['initial_t0']\n",
    "    init_state_mat = fl['init_state_mat']\n",
    "    lyapunov_spectrum_mat = fl['lyapunov_spectrum_mat']\n",
    "\n",
    "# training params\n",
    "with open(dir_name_rnn + '/training_specific_params.txt') as f:\n",
    "    lines = f.readlines()\n",
    "\n",
    "tparams_dict = eval(''.join(lines))\n",
    "\n",
    "# learning_rate_dict = tparams_dict['learning_rate_dict']\n",
    "epochs = tparams_dict['epochs']\n",
    "patience = tparams_dict['patience']\n",
    "min_delta = tparams_dict['min_delta']\n",
    "prng_seed = tparams_dict['prng_seed']\n",
    "train_split = tparams_dict['train_split']\n",
    "val_split = tparams_dict['val_split']\n",
    "batch_size = tparams_dict['batch_size']\n",
    "\n",
    "test_split = 1 - train_split - val_split\n",
    "\n",
    "# setting seed for PRNGs\n",
    "np.random.seed(prng_seed)\n",
    "tf.random.set_seed(prng_seed)"
   ]
  },
  {
   "cell_type": "code",
   "execution_count": 12,
   "metadata": {
    "colab": {
     "base_uri": "https://localhost:8080/"
    },
    "executionInfo": {
     "elapsed": 10,
     "status": "ok",
     "timestamp": 1667906074837,
     "user": {
      "displayName": "Rohan Kaushik",
      "userId": "13918477614376051685"
     },
     "user_tz": -60
    },
    "id": "39KFCJLe-znp",
    "outputId": "d4f2103c-7421-4bee-fc68-b88e2bdddc2b"
   },
   "outputs": [
    {
     "name": "stdout",
     "output_type": "stream",
     "text": [
      "Case : 1, lyapunov exponent : 0.06465670311438651, lyapunov time : 15.466300964355469s\n"
     ]
    }
   ],
   "source": [
    "lyapunov_time_arr = np.empty(shape=lyapunov_spectrum_mat.shape[0], dtype=FTYPE)\n",
    "for i in range(lyapunov_spectrum_mat.shape[0]):\n",
    "    lyapunov_time_arr[i] = 1/lyapunov_spectrum_mat[i, 0]\n",
    "    print('Case : {}, lyapunov exponent : {}, lyapunov time : {}s'.format(i+1, lyapunov_spectrum_mat[i, 0], lyapunov_time_arr[i]))"
   ]
  },
  {
   "cell_type": "code",
   "execution_count": 13,
   "metadata": {
    "executionInfo": {
     "elapsed": 7,
     "status": "ok",
     "timestamp": 1667906074838,
     "user": {
      "displayName": "Rohan Kaushik",
      "userId": "13918477614376051685"
     },
     "user_tz": -60
    },
    "id": "ySVDz_2U5FH5"
   },
   "outputs": [],
   "source": [
    "def plot(\n",
    "        boundary_idx_arr,\n",
    "        delta_t,\n",
    "        all_data,\n",
    "        xgrid,\n",
    "        xticks_snapto=20,\n",
    "        num_yticks=11,\n",
    "    ):\n",
    "\n",
    "    n = len(boundary_idx_arr)\n",
    "    # '''\n",
    "    num_cols = 1\n",
    "    num_rows = 1\n",
    "    factor = 1\n",
    "    # fig = plt.figure(figsize=(7.5*num_cols, 7.5*num_rows))\n",
    "\n",
    "    num_modes = xgrid.shape[0]\n",
    "\n",
    "    prev_idx = 0\n",
    "    for i in range(len(boundary_idx_arr)):\n",
    "        next_idx = boundary_idx_arr[i]\n",
    "        fig, ax = plt.subplots(figsize=(factor*7.5*num_cols, factor*5.0*num_rows))\n",
    "        N = next_idx - prev_idx\n",
    "        input_time = np.arange(0, N)*delta_t\n",
    "\n",
    "        im = ax.imshow(all_data[prev_idx:next_idx, 0:num_modes].transpose(), aspect='auto', origin='lower')\n",
    "        num_xticks = 1 + int((N*delta_t + 0.5*xticks_snapto) // xticks_snapto)\n",
    "        # xticks = np.linspace(0, N, num_xticks, dtype=np.int32)\n",
    "        xticks = np.arange(0, N, int((xticks_snapto+0.5*delta_t)//delta_t))\n",
    "        ax.set_xticks(ticks=xticks)\n",
    "        ax.set_xticklabels(np.round(xticks*delta_t, 1))\n",
    "        ax.tick_params(axis='x', rotation=270+45)\n",
    "\n",
    "        yticks = np.linspace(0, 1, num_yticks)*(len(xgrid)-1)\n",
    "        yticklabels = np.round(np.linspace(0, 1, yticks.shape[0])*xgrid[-1], 2)\n",
    "        ax.set_yticks(ticks=yticks)\n",
    "        ax.set_yticklabels(yticklabels)\n",
    "\n",
    "        ax.set_xlabel('Time')\n",
    "        ax.set_ylabel(r'$x$')\n",
    "        # ax.title.set_text(r'Latent States')\n",
    "\n",
    "        plt.colorbar(im)\n",
    "        plt.show()\n",
    "        print('')\n",
    "\n",
    "        prev_idx = next_idx\n",
    "\n",
    "    # '''"
   ]
  },
  {
   "cell_type": "code",
   "execution_count": null,
   "metadata": {
    "colab": {
     "base_uri": "https://localhost:8080/",
     "height": 370
    },
    "executionInfo": {
     "elapsed": 711,
     "status": "ok",
     "timestamp": 1667906075542,
     "user": {
      "displayName": "Rohan Kaushik",
      "userId": "13918477614376051685"
     },
     "user_tz": -60
    },
    "id": "bkQx9q_p5Gro",
    "outputId": "961f4485-7da8-4703-dc0b-7cc3f5d787a4"
   },
   "outputs": [],
   "source": []
  },
  {
   "cell_type": "code",
   "execution_count": 14,
   "metadata": {
    "executionInfo": {
     "elapsed": 8,
     "status": "ok",
     "timestamp": 1667906075543,
     "user": {
      "displayName": "Rohan Kaushik",
      "userId": "13918477614376051685"
     },
     "user_tz": -60
    },
    "id": "uDhfYHU45IS8"
   },
   "outputs": [],
   "source": [
    "# dealing with normalizing the data before feeding into autoencoder\n",
    "if normalizeforae_flag == True and use_ae_data == True:\n",
    "    for i in range(numpoints_xgrid):\n",
    "        all_data[:, i] -= normalization_constant_arr_aedata[0, i]\n",
    "        all_data[:, i] /= normalization_constant_arr_aedata[1, i]\n",
    "if ae_data_with_params == False:\n",
    "    all_data = all_data[:, 0:numpoints_xgrid]"
   ]
  },
  {
   "cell_type": "code",
   "execution_count": null,
   "metadata": {
    "colab": {
     "base_uri": "https://localhost:8080/",
     "height": 370
    },
    "executionInfo": {
     "elapsed": 1688,
     "status": "ok",
     "timestamp": 1667906077224,
     "user": {
      "displayName": "Rohan Kaushik",
      "userId": "13918477614376051685"
     },
     "user_tz": -60
    },
    "id": "-MJa7P5t5KiC",
    "outputId": "1b14e38f-7947-4356-8444-0bbbcac46d00",
    "scrolled": false
   },
   "outputs": [],
   "source": []
  },
  {
   "cell_type": "markdown",
   "metadata": {
    "id": "1v6KQEjR5LkK"
   },
   "source": [
    "# Autoencoder"
   ]
  },
  {
   "cell_type": "code",
   "execution_count": null,
   "metadata": {
    "executionInfo": {
     "elapsed": 17,
     "status": "ok",
     "timestamp": 1667906077226,
     "user": {
      "displayName": "Rohan Kaushik",
      "userId": "13918477614376051685"
     },
     "user_tz": -60
    },
    "id": "IjsRi02g5ORG"
   },
   "outputs": [],
   "source": []
  },
  {
   "cell_type": "code",
   "execution_count": 15,
   "metadata": {
    "executionInfo": {
     "elapsed": 18,
     "status": "ok",
     "timestamp": 1667906077228,
     "user": {
      "displayName": "Rohan Kaushik",
      "userId": "13918477614376051685"
     },
     "user_tz": -60
    },
    "id": "ZBTJl9PeneQb"
   },
   "outputs": [],
   "source": [
    "# load_file = dir_name_ae+dir_sep+'new_class_data'+dir_sep+'ae_'+ae_idx+'_class_dict.txt'\n",
    "# wt_file = dir_name_ae+dir_sep+'new_class_data'+dir_sep+'ae_'+ae_idx+'_ae_weights.h5'\n",
    "if use_ae_data == True:\n",
    "    load_file = dir_name_ae+'/final_net/final_net_class_dict.txt'\n",
    "    wt_file = dir_name_ae+'/final_net/final_net_ae_weights.h5'"
   ]
  },
  {
   "cell_type": "code",
   "execution_count": 16,
   "metadata": {
    "colab": {
     "base_uri": "https://localhost:8080/"
    },
    "executionInfo": {
     "elapsed": 18,
     "status": "ok",
     "timestamp": 1667906077229,
     "user": {
      "displayName": "Rohan Kaushik",
      "userId": "13918477614376051685"
     },
     "user_tz": -60
    },
    "id": "a3Pq-qorneQb",
    "outputId": "5f28fef9-0539-4c0b-f15b-560158a6d89e",
    "scrolled": false
   },
   "outputs": [],
   "source": [
    "if use_ae_data == True:\n",
    "    ae_net = Autoencoder(all_data.shape[1], load_file=load_file)\n",
    "    ae_net.load_weights_from_file(wt_file)"
   ]
  },
  {
   "cell_type": "code",
   "execution_count": null,
   "metadata": {
    "executionInfo": {
     "elapsed": 13,
     "status": "ok",
     "timestamp": 1667906077230,
     "user": {
      "displayName": "Rohan Kaushik",
      "userId": "13918477614376051685"
     },
     "user_tz": -60
    },
    "id": "wwt4brHcOaXi"
   },
   "outputs": [],
   "source": []
  },
  {
   "cell_type": "code",
   "execution_count": null,
   "metadata": {
    "executionInfo": {
     "elapsed": 13,
     "status": "ok",
     "timestamp": 1667906077231,
     "user": {
      "displayName": "Rohan Kaushik",
      "userId": "13918477614376051685"
     },
     "user_tz": -60
    },
    "id": "Zl6ZvgtNtA_u",
    "scrolled": true
   },
   "outputs": [],
   "source": []
  },
  {
   "cell_type": "code",
   "execution_count": null,
   "metadata": {
    "executionInfo": {
     "elapsed": 14,
     "status": "ok",
     "timestamp": 1667906077232,
     "user": {
      "displayName": "Rohan Kaushik",
      "userId": "13918477614376051685"
     },
     "user_tz": -60
    },
    "id": "lXpoaKRIneQc"
   },
   "outputs": [],
   "source": []
  },
  {
   "cell_type": "code",
   "execution_count": 17,
   "metadata": {
    "colab": {
     "base_uri": "https://localhost:8080/"
    },
    "executionInfo": {
     "elapsed": 493,
     "status": "ok",
     "timestamp": 1667906077711,
     "user": {
      "displayName": "Rohan Kaushik",
      "userId": "13918477614376051685"
     },
     "user_tz": -60
    },
    "id": "Q3a8HHyvneQc",
    "outputId": "142b028e-08db-4a9a-b193-ff9e688b3415",
    "scrolled": false
   },
   "outputs": [],
   "source": [
    "# create data\n",
    "if use_ae_data == True:\n",
    "    latent_states_all = ae_net.encoder_net.predict(all_data)\n",
    "    del(all_data)\n",
    "else:\n",
    "    latent_states_all = all_data[:, 0:xgrid.shape[0]]\n",
    "num_latent_states = latent_states_all.shape[1]\n",
    "\n",
    "time_stddev = np.std(latent_states_all, axis=0)"
   ]
  },
  {
   "cell_type": "code",
   "execution_count": 18,
   "metadata": {
    "colab": {
     "base_uri": "https://localhost:8080/",
     "height": 384
    },
    "executionInfo": {
     "elapsed": 20,
     "status": "ok",
     "timestamp": 1667906077713,
     "user": {
      "displayName": "Rohan Kaushik",
      "userId": "13918477614376051685"
     },
     "user_tz": -60
    },
    "id": "wjgPNitSrt5p",
    "outputId": "5ae58b39-4ab9-4a59-ac4f-19cbaff64029"
   },
   "outputs": [],
   "source": [
    "# plot_latent_states_KS(\n",
    "#     boundary_idx_arr,\n",
    "#     latent_states_all,\n",
    "#     delta_t,\n",
    "#     dir_name_ae,\n",
    "#     xticks_snapto=int(40*np.round((T//10)/40)),\n",
    "#     num_yticks=11,\n",
    "#     save_figs=False)"
   ]
  },
  {
   "cell_type": "code",
   "execution_count": 19,
   "metadata": {
    "executionInfo": {
     "elapsed": 20,
     "status": "ok",
     "timestamp": 1667906077714,
     "user": {
      "displayName": "Rohan Kaushik",
      "userId": "13918477614376051685"
     },
     "user_tz": -60
    },
    "id": "wnLnqg0Jrt5t"
   },
   "outputs": [],
   "source": [
    "# for i in range(ae_net.layers):\n",
    "#     tf.keras.utils.plot_model(\n",
    "#         ae_net.layers[i],\n",
    "#         to_file=dir_name_ae+'/plots/netlayer_{}.png'.format(i),\n",
    "#         show_shapes=True,\n",
    "#         dpi=300\n",
    "# )"
   ]
  },
  {
   "cell_type": "code",
   "execution_count": null,
   "metadata": {
    "executionInfo": {
     "elapsed": 20,
     "status": "ok",
     "timestamp": 1667906077715,
     "user": {
      "displayName": "Rohan Kaushik",
      "userId": "13918477614376051685"
     },
     "user_tz": -60
    },
    "id": "BOJE8vREtque"
   },
   "outputs": [],
   "source": []
  },
  {
   "cell_type": "code",
   "execution_count": null,
   "metadata": {
    "executionInfo": {
     "elapsed": 20,
     "status": "ok",
     "timestamp": 1667906077716,
     "user": {
      "displayName": "Rohan Kaushik",
      "userId": "13918477614376051685"
     },
     "user_tz": -60
    },
    "id": "fwjcsAxKneQe"
   },
   "outputs": [],
   "source": []
  },
  {
   "cell_type": "code",
   "execution_count": null,
   "metadata": {
    "executionInfo": {
     "elapsed": 20,
     "status": "ok",
     "timestamp": 1667906077716,
     "user": {
      "displayName": "Rohan Kaushik",
      "userId": "13918477614376051685"
     },
     "user_tz": -60
    },
    "id": "aFd7XgwVneQe"
   },
   "outputs": [],
   "source": []
  },
  {
   "cell_type": "markdown",
   "metadata": {
    "id": "8IAcFjRRn_IQ"
   },
   "source": [
    "# ESN"
   ]
  },
  {
   "cell_type": "code",
   "execution_count": 20,
   "metadata": {
    "executionInfo": {
     "elapsed": 20,
     "status": "ok",
     "timestamp": 1667906077717,
     "user": {
      "displayName": "Rohan Kaushik",
      "userId": "13918477614376051685"
     },
     "user_tz": -60
    },
    "id": "lPVqWNwjoAGP"
   },
   "outputs": [],
   "source": [
    "T_sample_input = np.mean(lyapunov_time_arr)#50.1*dt_rnn\n",
    "T_sample_output = 8*np.mean(lyapunov_time_arr)\n",
    "T_offset = T_sample_input"
   ]
  },
  {
   "cell_type": "code",
   "execution_count": 21,
   "metadata": {
    "executionInfo": {
     "elapsed": 20,
     "status": "ok",
     "timestamp": 1667906077717,
     "user": {
      "displayName": "Rohan Kaushik",
      "userId": "13918477614376051685"
     },
     "user_tz": -60
    },
    "id": "S21-VEUYrkk-"
   },
   "outputs": [],
   "source": [
    "skip_intermediate = 1/4"
   ]
  },
  {
   "cell_type": "code",
   "execution_count": null,
   "metadata": {
    "executionInfo": {
     "elapsed": 20,
     "status": "ok",
     "timestamp": 1667906077718,
     "user": {
      "displayName": "Rohan Kaushik",
      "userId": "13918477614376051685"
     },
     "user_tz": -60
    },
    "id": "oY8vMLOniVda"
   },
   "outputs": [],
   "source": []
  },
  {
   "cell_type": "code",
   "execution_count": null,
   "metadata": {
    "executionInfo": {
     "elapsed": 20,
     "status": "ok",
     "timestamp": 1667906077718,
     "user": {
      "displayName": "Rohan Kaushik",
      "userId": "13918477614376051685"
     },
     "user_tz": -60
    },
    "id": "EDFjIKHwiVdc"
   },
   "outputs": [],
   "source": []
  },
  {
   "cell_type": "code",
   "execution_count": null,
   "metadata": {
    "executionInfo": {
     "elapsed": 21,
     "status": "ok",
     "timestamp": 1667906077719,
     "user": {
      "displayName": "Rohan Kaushik",
      "userId": "13918477614376051685"
     },
     "user_tz": -60
    },
    "id": "UGnj8uQQ83-y"
   },
   "outputs": [],
   "source": []
  },
  {
   "cell_type": "code",
   "execution_count": 22,
   "metadata": {
    "executionInfo": {
     "elapsed": 21,
     "status": "ok",
     "timestamp": 1667906077720,
     "user": {
      "displayName": "Rohan Kaushik",
      "userId": "13918477614376051685"
     },
     "user_tz": -60
    },
    "id": "0t2_8mzI1fhX"
   },
   "outputs": [],
   "source": [
    "rnn_res_dict = create_data_for_RNN(\n",
    "    latent_states_all,\n",
    "    dt_rnn,\n",
    "    T_sample_input,\n",
    "    T_sample_output,\n",
    "    T_offset,\n",
    "    None,\n",
    "    boundary_idx_arr,\n",
    "    delta_t,\n",
    "    params=params,\n",
    "    return_numsamples=True,\n",
    "    normalize_dataset=normalize_dataset,\n",
    "    normalization_arr_external=normalization_arr_rnn,\n",
    "    return_OrgDataIdxArr=False,\n",
    "    normalization_type=normalization_type,\n",
    "    skip_intermediate=skip_intermediate,\n",
    ")\n",
    "    \n",
    "data_rnn_input = rnn_res_dict['data_rnn_input']\n",
    "data_rnn_output = rnn_res_dict['data_rnn_output']\n",
    "org_data_idx_arr_input = rnn_res_dict['org_data_idx_arr_input']\n",
    "org_data_idx_arr_output = rnn_res_dict['org_data_idx_arr_output']\n",
    "num_samples = rnn_res_dict['num_samples']\n",
    "normalization_arr = rnn_res_dict['normalization_arr']\n",
    "rnn_data_boundary_idx_arr = rnn_res_dict['rnn_data_boundary_idx_arr']"
   ]
  },
  {
   "cell_type": "code",
   "execution_count": 23,
   "metadata": {
    "executionInfo": {
     "elapsed": 21,
     "status": "ok",
     "timestamp": 1667906077720,
     "user": {
      "displayName": "Rohan Kaushik",
      "userId": "13918477614376051685"
     },
     "user_tz": -60
    },
    "id": "pIsWCXkbr7ws"
   },
   "outputs": [],
   "source": [
    "del(org_data_idx_arr_input)\n",
    "del(org_data_idx_arr_output)\n",
    "del(latent_states_all)"
   ]
  },
  {
   "cell_type": "code",
   "execution_count": 24,
   "metadata": {},
   "outputs": [],
   "source": [
    "data_to_consider = 'testing' # could be 'all', 'training', 'testing', 'val'"
   ]
  },
  {
   "cell_type": "code",
   "execution_count": 25,
   "metadata": {
    "executionInfo": {
     "elapsed": 22,
     "status": "ok",
     "timestamp": 1667906077721,
     "user": {
      "displayName": "Rohan Kaushik",
      "userId": "13918477614376051685"
     },
     "user_tz": -60
    },
    "id": "Hem_9PUqneQi"
   },
   "outputs": [],
   "source": [
    "if data_to_consider != 'all':\n",
    "    cum_samples = rnn_data_boundary_idx_arr[-1]\n",
    "    num_train = 0\n",
    "    num_val = 0\n",
    "    begin_idx = 0\n",
    "    for i in range(len(boundary_idx_arr)):\n",
    "        num_samples = rnn_data_boundary_idx_arr[i] - begin_idx\n",
    "        num_train += int( (1-test_split-val_split)*num_samples )\n",
    "        num_val += int(val_split*num_samples)\n",
    "        begin_idx = rnn_data_boundary_idx_arr[i]\n",
    "\n",
    "    # defining shapes\n",
    "    training_input_shape = [num_train]\n",
    "    training_input_shape.extend(data_rnn_input.shape[1:])\n",
    "\n",
    "    training_output_shape = [num_train]\n",
    "    training_output_shape.extend(data_rnn_output.shape[1:])\n",
    "\n",
    "    val_input_shape = [num_val]\n",
    "    val_input_shape.extend(data_rnn_input.shape[1:])\n",
    "\n",
    "    val_output_shape = [num_train]\n",
    "    val_output_shape.extend(data_rnn_output.shape[1:])\n",
    "\n",
    "    testing_input_shape = [cum_samples-num_train-num_val]\n",
    "    testing_input_shape.extend(data_rnn_input.shape[1:])\n",
    "\n",
    "    testing_output_shape = [cum_samples-num_train-num_val]\n",
    "    testing_output_shape.extend(data_rnn_output.shape[1:])\n",
    "\n",
    "    shape_to_use = eval(data_to_consider+'_input_shape')\n",
    "    rnn_data_idx = np.empty(shape=shape_to_use[0], dtype=np.int32)\n",
    "    \n",
    "    begin_idx = 0\n",
    "    training_data_rolling_count = 0\n",
    "    val_data_rolling_count = 0\n",
    "    testing_data_rolling_count = 0\n",
    "    for i in range(len(boundary_idx_arr)):\n",
    "        num_samples = rnn_data_boundary_idx_arr[i] - begin_idx\n",
    "        num_train = int( (1-test_split-val_split)*num_samples )\n",
    "        num_val = int(val_split*num_samples)\n",
    "        num_test = num_samples-num_train-num_val+1\n",
    "\n",
    "        if data_to_consider == 'training':\n",
    "            rnn_data_idx[training_data_rolling_count:training_data_rolling_count+num_train] = np.arange(begin_idx, begin_idx+num_train)\n",
    "        elif data_to_consider == 'val':\n",
    "            rnn_data_idx[val_data_rolling_count:val_data_rolling_count+num_val] = np.arange(begin_idx+num_train, begin_idx+num_train+num_val)\n",
    "        elif data_to_consider == 'testing':\n",
    "            rnn_data_idx[testing_data_rolling_count:testing_data_rolling_count+num_test] = np.arange(begin_idx+num_train+num_val, rnn_data_boundary_idx_arr[i])\n",
    "\n",
    "        training_data_rolling_count += num_train\n",
    "        val_data_rolling_count += num_val\n",
    "        testing_data_rolling_count += num_test\n",
    "\n",
    "        begin_idx = rnn_data_boundary_idx_arr[i]\n",
    "\n",
    "    # shuffling\n",
    "    np.random.shuffle(rnn_data_idx)\n",
    "    data_rnn_input = data_rnn_input[rnn_data_idx]\n",
    "    data_rnn_output = data_rnn_output[rnn_data_idx]\n",
    "    del(rnn_data_idx)"
   ]
  },
  {
   "cell_type": "code",
   "execution_count": 26,
   "metadata": {
    "executionInfo": {
     "elapsed": 22,
     "status": "ok",
     "timestamp": 1667906077722,
     "user": {
      "displayName": "Rohan Kaushik",
      "userId": "13918477614376051685"
     },
     "user_tz": -60
    },
    "id": "uskBAAXpneQi"
   },
   "outputs": [],
   "source": [
    "# del(data_rnn_input)\n",
    "# del(data_rnn_output)"
   ]
  },
  {
   "cell_type": "code",
   "execution_count": 27,
   "metadata": {
    "executionInfo": {
     "elapsed": 23,
     "status": "ok",
     "timestamp": 1667906077723,
     "user": {
      "displayName": "Rohan Kaushik",
      "userId": "13918477614376051685"
     },
     "user_tz": -60
    },
    "id": "-1uL-GomneQi"
   },
   "outputs": [
    {
     "name": "stdout",
     "output_type": "stream",
     "text": [
      " data_rnn_input.shape : (144, 77, 64)\n",
      "data_rnn_output.shape : (144, 619, 64)\n"
     ]
    }
   ],
   "source": [
    "print(' data_rnn_input.shape :', data_rnn_input.shape)\n",
    "print('data_rnn_output.shape :', data_rnn_output.shape)"
   ]
  },
  {
   "cell_type": "code",
   "execution_count": 28,
   "metadata": {
    "executionInfo": {
     "elapsed": 24,
     "status": "ok",
     "timestamp": 1667906077724,
     "user": {
      "displayName": "Rohan Kaushik",
      "userId": "13918477614376051685"
     },
     "user_tz": -60
    },
    "id": "4hx9ZaSpEMmv"
   },
   "outputs": [],
   "source": [
    "# idx = np.arange(data_rnn_input.shape[0])\n",
    "# np.random.shuffle(idx)\n",
    "# boundary = int(np.round(train_split*data_rnn_input.shape[0]))\n",
    "\n",
    "# training_data_rnn_input = data_rnn_input[idx[0:boundary]]\n",
    "# training_data_rnn_output = data_rnn_output[idx[0:boundary]]\n",
    "\n",
    "# testing_data_rnn_input = data_rnn_input[idx[boundary:]]\n",
    "# testing_data_rnn_output = data_rnn_output[idx[boundary:]]"
   ]
  },
  {
   "cell_type": "code",
   "execution_count": 29,
   "metadata": {
    "executionInfo": {
     "elapsed": 25,
     "status": "ok",
     "timestamp": 1667906077725,
     "user": {
      "displayName": "Rohan Kaushik",
      "userId": "13918477614376051685"
     },
     "user_tz": -60
    },
    "id": "EENXaWqcKW7j"
   },
   "outputs": [],
   "source": [
    "def rescale_data(data, normalization_arr):\n",
    "    '''\n",
    "    data - [num_batches x num_timesteps x num_states]\n",
    "    normalization_arr = [2 x num_states]\n",
    "    '''\n",
    "    new_data = data.copy()\n",
    "    shape = new_data.shape\n",
    "    for i in range(data.shape[-1]):\n",
    "        new_data[:, i] -= normalization_arr[0, i]\n",
    "        new_data[:, i] /= normalization_arr[1, i]\n",
    "\n",
    "    return new_data\n",
    "\n",
    "def norm_sq_time_average(data):\n",
    "    data_norm_sq = np.zeros(shape=data.shape[0])\n",
    "    for i in range(data.shape[1]):\n",
    "        data_norm_sq[:] += data[:, i]**2\n",
    "    # integrating using the trapezoidal rule\n",
    "    norm_sq_time_avg = np.sum(data_norm_sq) - 0.5*(data_norm_sq[0]+data_norm_sq[-1])\n",
    "    norm_sq_time_avg /= data_norm_sq.shape[0]\n",
    "    return norm_sq_time_avg\n",
    "\n",
    "def invert_normalization(data, normalization_arr):\n",
    "    new_data = data.copy()\n",
    "    shape = new_data.shape\n",
    "    for i in range(shape[-1]):\n",
    "        if len(shape) == 2:\n",
    "            new_data[:, i] *= normalization_arr[1, i]\n",
    "            new_data[:, i] += normalization_arr[0, i]\n",
    "        elif len(shape) == 3:\n",
    "            new_data[:, :, i] *= normalization_arr[1, i]\n",
    "            new_data[:, :, i] += normalization_arr[0, i]\n",
    "    return new_data"
   ]
  },
  {
   "cell_type": "code",
   "execution_count": 30,
   "metadata": {
    "executionInfo": {
     "elapsed": 25,
     "status": "ok",
     "timestamp": 1667906077726,
     "user": {
      "displayName": "Rohan Kaushik",
      "userId": "13918477614376051685"
     },
     "user_tz": -60
    },
    "id": "8isZN1tYBifp"
   },
   "outputs": [],
   "source": [
    "def plot_histogram_and_save(\n",
    "    prediction_horizon_arr,\n",
    "    save_dir,\n",
    "    savefig_fname='pre_ARtraining',\n",
    "    bin_width=0.05,\n",
    "    bin_begin=0.0):\n",
    "    \n",
    "    fig, ax = plt.subplots()\n",
    "\n",
    "    ph_mean = np.mean(prediction_horizon_arr)\n",
    "    ph_stddev = np.std(prediction_horizon_arr)\n",
    "    ph_max = np.max(prediction_horizon_arr)\n",
    "    ph_min = np.min(prediction_horizon_arr)\n",
    "    \n",
    "    bin_end = bin_width*np.round((np.max(prediction_horizon_arr)+0.5*bin_width)//bin_width)\n",
    "    nbins = int(np.round(bin_end/bin_width))\n",
    "\n",
    "    ax.hist(prediction_horizon_arr, bins=nbins, range = [bin_begin, bin_end], density=True)\n",
    "    ax.axvline(ph_mean, linewidth=0.9, linestyle='--', color='k')\n",
    "\n",
    "    ax.set_xlabel('Prediction Horizon (Lyapunov times)')\n",
    "    ax.set_ylabel('PDF')\n",
    "\n",
    "    ax.grid(True)\n",
    "    # ax.set_axisbelow(True)\n",
    "\n",
    "    ax.text(\n",
    "        0.01 + ax.transAxes.inverted().transform(ax.transData.transform([prediction_horizon, 0]))[0],\n",
    "        0.8,\n",
    "        'mean',\n",
    "        rotation=90,\n",
    "        verticalalignment='bottom',\n",
    "        horizontalalignment='left',\n",
    "        bbox=dict(facecolor=np.array([255,255,153])/255, alpha=1, boxstyle='square,pad=0.2'),\n",
    "        transform=ax.transAxes\n",
    "    )\n",
    "\n",
    "    text_xy = [0.95, 0.95]\n",
    "    ax.text(\n",
    "        text_xy[0],\n",
    "        text_xy[1],\n",
    "        'mean : {:.4f}\\nmax : {:.4f}\\nmin : {:.4f}\\nstddev : {:.4f}'.format(\n",
    "            ph_mean,\n",
    "            ph_max,\n",
    "            ph_min,\n",
    "            ph_stddev,\n",
    "        ),\n",
    "        transform=ax.transAxes,\n",
    "        bbox=dict(\n",
    "            boxstyle=\"round\",\n",
    "            ec=(0.6, 0.6, 1),\n",
    "            fc=(0.9, 0.9, 1),\n",
    "        ),\n",
    "        # bbox=dict(facecolor='C0', alpha=0.5, boxstyle='round,pad=0.2'),\n",
    "        horizontalalignment='right',\n",
    "        verticalalignment='top'\n",
    "    )\n",
    "\n",
    "    ax.set_title('nbins = {}'.format(nbins))\n",
    "    \n",
    "    if not os.path.isdir(save_dir):\n",
    "        os.mkdir(save_dir)\n",
    "\n",
    "    fig.savefig(save_dir+'/'+savefig_fname+'.png', dpi=300, bbox_inches='tight')\n",
    "    fig.clear()\n",
    "    plt.close()"
   ]
  },
  {
   "cell_type": "code",
   "execution_count": 31,
   "metadata": {
    "executionInfo": {
     "elapsed": 26,
     "status": "ok",
     "timestamp": 1667906077727,
     "user": {
      "displayName": "Rohan Kaushik",
      "userId": "13918477614376051685"
     },
     "user_tz": -60
    },
    "id": "x3KglJsgneQj",
    "scrolled": true
   },
   "outputs": [
    {
     "name": "stdout",
     "output_type": "stream",
     "text": [
      "num_runs : 100\n",
      "\n",
      "worker_0/ESN_030\n",
      "1 / 72\n",
      "prediction_horizon : 1.435766706672606, median : 1.3189967043196056\n",
      "ph_min : 0.6465670119213752, ph_max : 3.504393204613854\n",
      "stddev : 0.5514802126193981, IQR : 0.7112237131135128\n",
      "1st quantile : 1.0086445385973455, 3rd quantile : 1.7198682517108583\n",
      "analysis time : 93.60129809379578 s\n",
      "\n",
      "worker_0/ESN_002\n",
      "2 / 72\n",
      "prediction_horizon : 1.6698239649881441, median : 1.5517608286113007\n",
      "ph_min : 0.5819103107292377, ph_max : 4.409587021303779\n",
      "stddev : 0.6844763850015563, IQR : 0.8534684557362155\n",
      "1st quantile : 1.1638206214584754, 3rd quantile : 2.017289077194691\n",
      "analysis time : 85.37697339057922 s\n",
      "\n",
      "worker_0/ESN_044\n",
      "3 / 72\n",
      "prediction_horizon : 0.3981559659411829, median : 0.3879402071528252\n",
      "ph_min : 0.21983278405326762, ph_max : 0.6982923728750853\n",
      "stddev : 0.10128294243360843, IQR : 0.11638206214584756\n",
      "1st quantile : 0.3362148461991151, 3rd quantile : 0.4525969083449627\n",
      "analysis time : 82.89562153816223 s\n",
      "\n",
      "worker_0/ESN_029\n",
      "4 / 72\n",
      "prediction_horizon : 2.4115656410643456, median : 2.275915881963241\n",
      "ph_min : 0.9827818581204905, ph_max : 5.379437539185842\n",
      "stddev : 0.8626134383110291, IQR : 1.2026146421737582\n",
      "1st quantile : 1.758662272426141, 3rd quantile : 2.961276914599899\n",
      "analysis time : 86.09965419769287 s\n",
      "\n",
      "worker_0/ESN_041\n",
      "5 / 72\n",
      "prediction_horizon : 1.936597514106903, median : 1.8750443345719883\n",
      "ph_min : 0.6465670119213752, ph_max : 3.944058772720389\n",
      "stddev : 0.728999921888429, IQR : 1.0086445385973453\n",
      "1st quantile : 1.409516085988598, 3rd quantile : 2.4181606245859433\n",
      "analysis time : 85.73959279060364 s\n",
      "\n",
      "worker_0/ESN_007\n",
      "6 / 72\n",
      "prediction_horizon : 2.9404574568160307, median : 2.7026501098313487\n",
      "ph_min : 1.0862325800279105, ph_max : 6.517395480167464\n",
      "stddev : 1.0005045632468519, IQR : 1.1379579409816207\n",
      "1st quantile : 2.3405725831553785, 3rd quantile : 3.4785305241369993\n",
      "analysis time : 86.66714382171631 s\n",
      "\n",
      "worker_0/ESN_023\n",
      "7 / 72\n",
      "prediction_horizon : 1.2137355947788055, median : 1.1120952605047654\n",
      "ph_min : 0.5819103107292377, ph_max : 2.4181606245859433\n",
      "stddev : 0.45697980551690914, IQR : 0.6336356716829477\n",
      "1st quantile : 0.8276057752593604, 3rd quantile : 1.461241446942308\n",
      "analysis time : 81.0226309299469 s\n",
      "\n",
      "worker_0/ESN_045\n",
      "8 / 72\n",
      "prediction_horizon : 0.9186424105378898, median : 0.7888117545440779\n",
      "ph_min : 0.4267342278681077, ph_max : 2.301778562440096\n",
      "stddev : 0.37895190525495415, IQR : 0.4525969083449627\n",
      "1st quantile : 0.6465670119213752, 3rd quantile : 1.099163920266338\n",
      "analysis time : 81.71431350708008 s\n",
      "\n",
      "worker_0/ESN_047\n",
      "9 / 72\n",
      "prediction_horizon : 0.9871785138015557, median : 0.9310564971667804\n",
      "ph_min : 0.4784595888218177, ph_max : 2.3535039233938058\n",
      "stddev : 0.35254552358625496, IQR : 0.40087154739125275\n",
      "1st quantile : 0.7370863935903678, 3rd quantile : 1.1379579409816205\n",
      "analysis time : 86.88647961616516 s\n",
      "\n",
      "worker_0/ESN_055\n",
      "10 / 72\n",
      "prediction_horizon : 2.2240612076071464, median : 2.2371218612479584\n",
      "ph_min : 0.8663997959746429, ph_max : 4.04750949462781\n",
      "stddev : 0.7183461229821296, IQR : 1.060369899551055\n",
      "1st quantile : 1.629348870041866, 3rd quantile : 2.689718769592921\n",
      "analysis time : 88.59702706336975 s\n",
      "\n",
      "worker_0/ESN_071\n",
      "11 / 72\n",
      "prediction_horizon : 0.8339421319761897, median : 0.7370863935903678\n",
      "ph_min : 0.34914618643754264, ph_max : 2.2888472222016683\n",
      "stddev : 0.3311508700997524, IQR : 0.3750088669143977\n",
      "1st quantile : 0.6077729912060927, 3rd quantile : 0.9827818581204905\n",
      "analysis time : 96.2304220199585 s\n",
      "\n",
      "worker_0/ESN_054\n",
      "12 / 72\n",
      "prediction_horizon : 1.181407244182737, median : 1.0345072190742004\n",
      "ph_min : 0.5819103107292377, ph_max : 2.767306811023486\n",
      "stddev : 0.4662121015609977, IQR : 0.5172536095371002\n",
      "1st quantile : 0.8534684557362154, 3rd quantile : 1.3707220652733156\n",
      "analysis time : 93.78220820426941 s\n",
      "\n",
      "worker_0/ESN_057\n",
      "13 / 72\n",
      "prediction_horizon : 2.256648185007984, median : 2.146602479578966\n",
      "ph_min : 0.7370863935903678, ph_max : 4.603557124880192\n",
      "stddev : 0.8850564750530218, IQR : 1.0862325800279105\n",
      "1st quantile : 1.5905548493265833, 3rd quantile : 2.6767874293544938\n",
      "analysis time : 84.26678609848022 s\n",
      "\n",
      "worker_0/ESN_042\n",
      "14 / 72\n",
      "prediction_horizon : 0.3716467184524065, median : 0.34914618643754264\n",
      "ph_min : 0.1939701035764126, ph_max : 0.6853610326366578\n",
      "stddev : 0.10260054898357589, IQR : 0.11638206214584756\n",
      "1st quantile : 0.29742082548383264, 3rd quantile : 0.4138028876296802\n",
      "analysis time : 85.32978010177612 s\n",
      "\n",
      "worker_0/ESN_038\n",
      "15 / 72\n",
      "prediction_horizon : 0.7118702801254345, median : 0.6724296923982302\n",
      "ph_min : 0.34914618643754264, ph_max : 1.6164175298034382\n",
      "stddev : 0.2325655794613203, IQR : 0.29742082548383264\n",
      "1st quantile : 0.5431162900139552, 3rd quantile : 0.8405371154977879\n",
      "analysis time : 85.56665277481079 s\n",
      "\n",
      "worker_0/ESN_034\n",
      "16 / 72\n",
      "prediction_horizon : 0.7201463378780278, median : 0.6207043314445203\n",
      "ph_min : 0.31035216572226015, ph_max : 1.7457309321877132\n",
      "stddev : 0.29974330641929375, IQR : 0.33621484619911524\n",
      "1st quantile : 0.5172536095371002, 3rd quantile : 0.8534684557362154\n",
      "analysis time : 83.41184115409851 s\n",
      "\n",
      "worker_0/ESN_051\n",
      "17 / 72\n",
      "prediction_horizon : 2.1269468424165563, median : 2.043151757671546\n",
      "ph_min : 0.9051938166899254, ph_max : 4.241479598204222\n",
      "stddev : 0.6758242550382915, IQR : 0.82760577525936\n",
      "1st quantile : 1.6940055712340034, 3rd quantile : 2.5216113464933634\n",
      "analysis time : 80.90234994888306 s\n",
      "\n",
      "worker_0/ESN_010\n",
      "18 / 72\n",
      "prediction_horizon : 0.7845444122653968, median : 0.6853610326366578\n",
      "ph_min : 0.2715581450069776, ph_max : 1.9138383552872709\n",
      "stddev : 0.3402542789775402, IQR : 0.3750088669143977\n",
      "1st quantile : 0.5431162900139552, 3rd quantile : 0.918125156928353\n",
      "analysis time : 79.83884716033936 s\n",
      "\n",
      "worker_0/ESN_036\n",
      "19 / 72\n",
      "prediction_horizon : 0.7422589296857389, median : 0.6724296923982302\n",
      "ph_min : 0.3232835059606876, ph_max : 1.8750443345719883\n",
      "stddev : 0.26317739625949976, IQR : 0.3491461864375427\n",
      "1st quantile : 0.5689789704908103, 3rd quantile : 0.918125156928353\n",
      "analysis time : 79.83288979530334 s\n",
      "\n",
      "worker_0/ESN_031\n",
      "20 / 72\n",
      "prediction_horizon : 2.5265252557839655, median : 2.4181606245859433\n",
      "ph_min : 0.9569191776436354, ph_max : 5.896691148722942\n",
      "stddev : 0.8878846544481024, IQR : 1.0086445385973453\n",
      "1st quantile : 1.9138383552872709, 3rd quantile : 2.922482893884616\n",
      "analysis time : 85.70064163208008 s\n",
      "\n",
      "worker_0/ESN_058\n",
      "21 / 72\n",
      "prediction_horizon : 0.6517395480167463, median : 0.5689789704908103\n",
      "ph_min : 0.3232835059606876, ph_max : 1.5905548493265833\n",
      "stddev : 0.26319010369758256, IQR : 0.2974208254838327\n",
      "1st quantile : 0.4655282485833902, 3rd quantile : 0.7629490740672229\n",
      "analysis time : 85.6367564201355 s\n",
      "\n",
      "worker_0/ESN_008\n",
      "22 / 72\n",
      "prediction_horizon : 1.4281372159319334, median : 1.331928044558033\n",
      "ph_min : 0.5560476302523827, ph_max : 3.1940410388915943\n",
      "stddev : 0.5780679946675253, IQR : 0.8017430947825055\n",
      "1st quantile : 0.9569191776436354, 3rd quantile : 1.758662272426141\n",
      "analysis time : 84.9301872253418 s\n",
      "\n",
      "worker_0/ESN_039\n",
      "23 / 72\n",
      "prediction_horizon : 1.7543949301474595, median : 1.6681428907571483\n",
      "ph_min : 0.7241550533519403, ph_max : 3.7371573289055493\n",
      "stddev : 0.6554928255073502, IQR : 0.8276057752593602\n",
      "1st quantile : 1.2672713433658955, 3rd quantile : 2.0948771186252557\n",
      "analysis time : 87.63048529624939 s\n",
      "\n",
      "worker_0/ESN_006\n",
      "24 / 72\n",
      "prediction_horizon : 1.676418948509742, median : 1.6034861895650108\n",
      "ph_min : 0.6465670119213752, ph_max : 4.034578154389382\n",
      "stddev : 0.6207165083371359, IQR : 0.8405371154977881\n",
      "1st quantile : 1.1767519616969029, 3rd quantile : 2.017289077194691\n",
      "analysis time : 86.57772874832153 s\n",
      "\n",
      "worker_0/ESN_022\n",
      "25 / 72\n",
      "prediction_horizon : 0.3491461864375427, median : 0.3362148461991151\n",
      "ph_min : 0.16810742309955756, ph_max : 0.7758804143056504\n",
      "stddev : 0.10008222452404954, IQR : 0.11638206214584756\n",
      "1st quantile : 0.2844894852454051, 3rd quantile : 0.4008715473912527\n",
      "analysis time : 93.50998663902283 s\n",
      "\n",
      "worker_0/ESN_032\n",
      "26 / 72\n",
      "prediction_horizon : 1.430076916967698, median : 1.3060653640811781\n",
      "ph_min : 0.6336356716829478, ph_max : 3.013002275553609\n",
      "stddev : 0.5261199486576688, IQR : 0.7500177338287954\n",
      "1st quantile : 1.0345072190742004, 3rd quantile : 1.7845249529029958\n",
      "analysis time : 91.94519686698914 s\n",
      "\n",
      "worker_0/ESN_063\n",
      "27 / 72\n",
      "prediction_horizon : 1.4489566737158024, median : 1.3060653640811781\n",
      "ph_min : 0.6724296923982302, ph_max : 4.435449701780635\n",
      "stddev : 0.5822561213285521, IQR : 0.7629490740672229\n",
      "1st quantile : 1.0345072190742004, 3rd quantile : 1.7974562931414233\n",
      "analysis time : 83.0653326511383 s\n",
      "\n",
      "worker_0/ESN_011\n",
      "28 / 72\n"
     ]
    },
    {
     "name": "stdout",
     "output_type": "stream",
     "text": [
      "prediction_horizon : 2.1763445621273494, median : 2.043151757671546\n",
      "ph_min : 0.8534684557362154, ph_max : 4.331998979873214\n",
      "stddev : 0.8025258929964489, IQR : 1.0215758788357727\n",
      "1st quantile : 1.6034861895650108, 3rd quantile : 2.6250620684007835\n",
      "analysis time : 82.9085636138916 s\n",
      "\n",
      "worker_0/ESN_067\n",
      "29 / 72\n",
      "prediction_horizon : 0.8348473257928797, median : 0.7758804143056504\n",
      "ph_min : 0.3879402071528252, ph_max : 1.887975674810416\n",
      "stddev : 0.2859979824415593, IQR : 0.3491461864375427\n",
      "1st quantile : 0.6336356716829478, 3rd quantile : 0.9827818581204905\n",
      "analysis time : 80.84915781021118 s\n",
      "\n",
      "worker_0/ESN_059\n",
      "30 / 72\n",
      "prediction_horizon : 1.490207649076386, median : 1.4483101067038806\n",
      "ph_min : 0.6853610326366578, ph_max : 2.961276914599899\n",
      "stddev : 0.5297688388873661, IQR : 0.7758804143056504\n",
      "1st quantile : 1.0603698995510555, 3rd quantile : 1.836250313856706\n",
      "analysis time : 80.99679565429688 s\n",
      "\n",
      "worker_0/ESN_060\n",
      "31 / 72\n",
      "prediction_horizon : 0.6574293377216542, median : 0.6207043314445203\n",
      "ph_min : 0.29742082548383264, ph_max : 1.254340003127468\n",
      "stddev : 0.2106953071507738, IQR : 0.2715581450069776\n",
      "1st quantile : 0.5043222692986727, 3rd quantile : 0.7758804143056504\n",
      "analysis time : 79.5583221912384 s\n",
      "\n",
      "worker_0/ESN_019\n",
      "32 / 72\n",
      "prediction_horizon : 1.133949225507708, median : 1.0345072190742004\n",
      "ph_min : 0.6077729912060927, ph_max : 2.689718769592921\n",
      "stddev : 0.4098426873134191, IQR : 0.5301849497755277\n",
      "1st quantile : 0.8017430947825054, 3rd quantile : 1.331928044558033\n",
      "analysis time : 80.72451210021973 s\n",
      "\n",
      "worker_0/ESN_021\n",
      "33 / 72\n",
      "prediction_horizon : 1.0740771202037884, median : 0.943987837405208\n",
      "ph_min : 0.4008715473912527, ph_max : 3.8535393910513966\n",
      "stddev : 0.4929057127389603, IQR : 0.5560476302523827\n",
      "1st quantile : 0.7241550533519403, 3rd quantile : 1.280202683604323\n",
      "analysis time : 92.3103539943695 s\n",
      "\n",
      "worker_0/ESN_061\n",
      "34 / 72\n",
      "prediction_horizon : 1.4002055210169302, median : 1.2672713433658955\n",
      "ph_min : 0.5560476302523827, ph_max : 3.375079802229579\n",
      "stddev : 0.5633497375264148, IQR : 0.8146744350209328\n",
      "1st quantile : 0.9310564971667804, 3rd quantile : 1.7457309321877132\n",
      "analysis time : 90.26963090896606 s\n",
      "\n",
      "worker_0/ESN_064\n",
      "35 / 72\n",
      "prediction_horizon : 0.7635956410791442, median : 0.6982923728750853\n",
      "ph_min : 0.3362148461991151, ph_max : 1.5129668078960183\n",
      "stddev : 0.2660550583017103, IQR : 0.29742082548383264\n",
      "1st quantile : 0.5689789704908103, 3rd quantile : 0.8663997959746429\n",
      "analysis time : 90.9397349357605 s\n",
      "\n",
      "worker_0/ESN_018\n",
      "36 / 72\n",
      "prediction_horizon : 0.36725006277134115, median : 0.34914618643754264\n",
      "ph_min : 0.18103876333798508, ph_max : 0.9051938166899254\n",
      "stddev : 0.1007151355634165, IQR : 0.11638206214584756\n",
      "1st quantile : 0.29742082548383264, 3rd quantile : 0.4138028876296802\n",
      "analysis time : 96.74442195892334 s\n",
      "\n",
      "worker_0/ESN_065\n",
      "37 / 72\n",
      "prediction_horizon : 1.7078421052891204, median : 1.6164175298034382\n",
      "ph_min : 0.5819103107292377, ph_max : 4.900977950364024\n",
      "stddev : 0.6942052556705065, IQR : 0.9051938166899254\n",
      "1st quantile : 1.228477322650613, 3rd quantile : 2.1336711393405383\n",
      "analysis time : 96.27772831916809 s\n",
      "\n",
      "worker_0/ESN_000\n",
      "38 / 72\n",
      "prediction_horizon : 2.0528502628503666, median : 1.8491816540951334\n",
      "ph_min : 0.7370863935903678, ph_max : 4.435449701780635\n",
      "stddev : 0.8074860971457867, IQR : 0.9181251569283528\n",
      "1st quantile : 1.4741727871807355, 3rd quantile : 2.3922979441090884\n",
      "analysis time : 90.901296377182 s\n",
      "\n",
      "worker_0/ESN_013\n",
      "39 / 72\n",
      "prediction_horizon : 2.0972047598681725, median : 2.0302204174331187\n",
      "ph_min : 0.8276057752593604, ph_max : 3.9957841336740993\n",
      "stddev : 0.7198968514542183, IQR : 0.8922624764514977\n",
      "1st quantile : 1.6034861895650108, 3rd quantile : 2.4957486660165085\n",
      "analysis time : 87.3383526802063 s\n",
      "\n",
      "worker_0/ESN_012\n",
      "40 / 72\n",
      "prediction_horizon : 0.778466682353336, median : 0.7370863935903678\n",
      "ph_min : 0.3750088669143977, ph_max : 2.0043577369562633\n",
      "stddev : 0.27372931996224564, IQR : 0.36207752667597026\n",
      "1st quantile : 0.5819103107292377, 3rd quantile : 0.943987837405208\n",
      "analysis time : 85.12847208976746 s\n",
      "\n",
      "worker_0/ESN_017\n",
      "41 / 72\n",
      "prediction_horizon : 2.2788900902180793, median : 2.0560830979099736\n",
      "ph_min : 0.7370863935903678, ph_max : 5.172536095371002\n",
      "stddev : 0.9174963236337734, IQR : 0.9310564971667803\n",
      "1st quantile : 1.7069369114724309, 3rd quantile : 2.637993408639211\n",
      "analysis time : 87.12669801712036 s\n",
      "\n",
      "worker_0/ESN_028\n",
      "42 / 72\n",
      "prediction_horizon : 1.4066711911361438, median : 1.280202683604323\n",
      "ph_min : 0.6207043314445203, ph_max : 3.1940410388915943\n",
      "stddev : 0.575683109042718, IQR : 0.7500177338287954\n",
      "1st quantile : 0.9698505178820629, 3rd quantile : 1.7198682517108583\n",
      "analysis time : 85.37281489372253 s\n",
      "\n",
      "worker_0/ESN_062\n",
      "43 / 72\n",
      "prediction_horizon : 0.6335063582805636, median : 0.5689789704908103\n",
      "ph_min : 0.29742082548383264, ph_max : 1.836250313856706\n",
      "stddev : 0.23631114121201585, IQR : 0.2198327840532675\n",
      "1st quantile : 0.49139092906024523, 3rd quantile : 0.7112237131135127\n",
      "analysis time : 84.6334638595581 s\n",
      "\n",
      "worker_0/ESN_048\n",
      "44 / 72\n",
      "prediction_horizon : 1.7547828703546124, median : 1.6681428907571483\n",
      "ph_min : 0.814674435020933, ph_max : 3.7242259886671216\n",
      "stddev : 0.6359682561599368, IQR : 0.7758804143056504\n",
      "1st quantile : 1.3060653640811781, 3rd quantile : 2.0819457783868285\n",
      "analysis time : 84.83743691444397 s\n",
      "\n",
      "worker_0/ESN_003\n",
      "45 / 72\n",
      "prediction_horizon : 2.917827611398783, median : 2.8707575329309063\n",
      "ph_min : 1.1379579409816205, ph_max : 5.793240426815522\n",
      "stddev : 0.9939255908895146, IQR : 1.2802026836043234\n",
      "1st quantile : 2.172465160055821, 3rd quantile : 3.4526678436601443\n",
      "analysis time : 87.08586978912354 s\n",
      "\n",
      "worker_0/ESN_027\n",
      "46 / 72\n",
      "prediction_horizon : 2.5050592309881763, median : 2.379366603870661\n",
      "ph_min : 1.021575878835773, ph_max : 4.681145166310757\n",
      "stddev : 0.7878913541055398, IQR : 0.9310564971667801\n",
      "1st quantile : 2.017289077194691, 3rd quantile : 2.948345574361471\n",
      "analysis time : 89.50485491752625 s\n",
      "\n",
      "worker_0/ESN_043\n",
      "47 / 72\n",
      "prediction_horizon : 0.9761868745988923, median : 0.8663997959746429\n",
      "ph_min : 0.43966556810653523, ph_max : 2.6509247488776384\n",
      "stddev : 0.3918025164364568, IQR : 0.46552824858339015\n",
      "1st quantile : 0.6982923728750853, 3rd quantile : 1.1638206214584754\n",
      "analysis time : 90.38890504837036 s\n",
      "\n",
      "worker_0/ESN_068\n",
      "48 / 72\n",
      "prediction_horizon : 0.38431943188606554, median : 0.3750088669143977\n",
      "ph_min : 0.1939701035764126, ph_max : 0.7758804143056504\n",
      "stddev : 0.11022903794916127, IQR : 0.11638206214584756\n",
      "1st quantile : 0.31035216572226015, 3rd quantile : 0.4267342278681077\n",
      "analysis time : 89.31115078926086 s\n",
      "\n",
      "worker_0/ESN_004\n",
      "49 / 72\n",
      "prediction_horizon : 1.6089173524651499, median : 1.5129668078960183\n",
      "ph_min : 0.6853610326366578, ph_max : 3.8406080508129694\n",
      "stddev : 0.6385075749954204, IQR : 0.8922624764514979\n",
      "1st quantile : 1.1120952605047654, 3rd quantile : 2.0043577369562633\n",
      "analysis time : 88.18386745452881 s\n",
      "\n",
      "worker_0/ESN_037\n",
      "50 / 72\n",
      "prediction_horizon : 1.7012471217675225, median : 1.6552115505187208\n",
      "ph_min : 0.6594983521598028, ph_max : 3.918196092243534\n",
      "stddev : 0.650998448228079, IQR : 1.0603698995510553\n",
      "1st quantile : 1.099163920266338, 3rd quantile : 2.1595338198173932\n",
      "analysis time : 91.30055570602417 s\n",
      "\n",
      "worker_0/ESN_026\n",
      "51 / 72\n",
      "prediction_horizon : 1.398783073590703, median : 1.3189967043196056\n",
      "ph_min : 0.5431162900139552, ph_max : 3.1940410388915943\n",
      "stddev : 0.5319578528038393, IQR : 0.633635671682948\n",
      "1st quantile : 0.9957131983589179, 3rd quantile : 1.629348870041866\n",
      "analysis time : 88.71905016899109 s\n",
      "\n",
      "worker_0/ESN_053\n",
      "52 / 72\n",
      "prediction_horizon : 2.1145327557876654, median : 2.0948771186252557\n",
      "ph_min : 0.9310564971667804, ph_max : 4.04750949462781\n",
      "stddev : 0.7443387276512539, IQR : 0.9957131983589176\n",
      "1st quantile : 1.5258981481344458, 3rd quantile : 2.5216113464933634\n",
      "analysis time : 91.91280794143677 s\n",
      "\n",
      "worker_0/ESN_009\n",
      "53 / 72\n",
      "prediction_horizon : 2.94498342589948, median : 2.819032171977196\n",
      "ph_min : 0.8922624764514979, ph_max : 6.375150737544761\n",
      "stddev : 0.9470873687715371, IQR : 1.2672713433658958\n",
      "1st quantile : 2.275915881963241, 3rd quantile : 3.5431872253291368\n",
      "analysis time : 91.95597004890442 s\n",
      "\n",
      "worker_0/ESN_035\n",
      "54 / 72\n",
      "prediction_horizon : 1.7965510993247338, median : 1.758662272426141\n",
      "ph_min : 0.7758804143056504, ph_max : 3.801814030097687\n",
      "stddev : 0.6076003332893285, IQR : 0.866399795974643\n",
      "1st quantile : 1.3448593847964605, 3rd quantile : 2.2112591807711035\n",
      "analysis time : 92.21114540100098 s\n",
      "\n",
      "worker_0/ESN_069\n",
      "55 / 72\n"
     ]
    },
    {
     "name": "stdout",
     "output_type": "stream",
     "text": [
      "prediction_horizon : 0.7440693173191186, median : 0.6724296923982302\n",
      "ph_min : 0.31035216572226015, ph_max : 1.8103876333798508\n",
      "stddev : 0.2953469419369825, IQR : 0.3362148461991151\n",
      "1st quantile : 0.5301849497755278, 3rd quantile : 0.8663997959746429\n",
      "analysis time : 93.39391326904297 s\n",
      "\n",
      "worker_0/ESN_052\n",
      "56 / 72\n",
      "prediction_horizon : 1.1955024050426228, median : 1.0474385593126279\n",
      "ph_min : 0.5560476302523827, ph_max : 3.013002275553609\n",
      "stddev : 0.46866208154933553, IQR : 0.6336356716829477\n",
      "1st quantile : 0.814674435020933, 3rd quantile : 1.4483101067038806\n",
      "analysis time : 92.03469061851501 s\n",
      "\n",
      "worker_0/ESN_005\n",
      "57 / 72\n",
      "prediction_horizon : 2.8214891266224975, median : 2.7543754707850585\n",
      "ph_min : 1.0474385593126279, ph_max : 5.8708284682460885\n",
      "stddev : 0.925433593468144, IQR : 1.1379579409816207\n",
      "1st quantile : 2.1336711393405383, 3rd quantile : 3.271629080322159\n",
      "analysis time : 91.8772120475769 s\n",
      "\n",
      "worker_0/ESN_046\n",
      "58 / 72\n",
      "prediction_horizon : 0.3777244483644674, median : 0.36207752667597015\n",
      "ph_min : 0.16810742309955756, ph_max : 0.918125156928353\n",
      "stddev : 0.11907082313856035, IQR : 0.11638206214584756\n",
      "1st quantile : 0.31035216572226015, 3rd quantile : 0.4267342278681077\n",
      "analysis time : 90.50549483299255 s\n",
      "\n",
      "worker_0/ESN_049\n",
      "59 / 72\n",
      "prediction_horizon : 2.759030753270892, median : 2.6767874293544938\n",
      "ph_min : 0.9051938166899254, ph_max : 5.1854674356094295\n",
      "stddev : 0.8764902478156822, IQR : 1.1638206214584756\n",
      "1st quantile : 2.1336711393405383, 3rd quantile : 3.297491760799014\n",
      "analysis time : 89.08020853996277 s\n",
      "\n",
      "worker_0/ESN_066\n",
      "60 / 72\n",
      "prediction_horizon : 0.367638002978494, median : 0.3362148461991151\n",
      "ph_min : 0.18103876333798508, ph_max : 0.7629490740672229\n",
      "stddev : 0.11095745515109112, IQR : 0.10345072190742005\n",
      "1st quantile : 0.29742082548383264, 3rd quantile : 0.4008715473912527\n",
      "analysis time : 83.98398232460022 s\n",
      "\n",
      "worker_0/ESN_015\n",
      "61 / 72\n",
      "prediction_horizon : 2.164706355912765, median : 2.0948771186252557\n",
      "ph_min : 0.7888117545440779, ph_max : 4.797527228456604\n",
      "stddev : 0.7628153654432973, IQR : 0.9569191776436354\n",
      "1st quantile : 1.5905548493265833, 3rd quantile : 2.5474740269702187\n",
      "analysis time : 81.38309836387634 s\n",
      "\n",
      "worker_0/ESN_001\n",
      "62 / 72\n",
      "prediction_horizon : 3.1480054676427924, median : 3.038864956030464\n",
      "ph_min : 1.383653405511743, ph_max : 6.9570610482739985\n",
      "stddev : 0.931188172003806, IQR : 1.1379579409816207\n",
      "1st quantile : 2.4698859855396536, 3rd quantile : 3.6078439265212743\n",
      "analysis time : 81.12520670890808 s\n",
      "\n",
      "worker_0/ESN_020\n",
      "63 / 72\n",
      "prediction_horizon : 0.37927620919307875, median : 0.36207752667597015\n",
      "ph_min : 0.1939701035764126, ph_max : 0.6594983521598028\n",
      "stddev : 0.10319266226513842, IQR : 0.12931340238427508\n",
      "1st quantile : 0.31035216572226015, 3rd quantile : 0.43966556810653523\n",
      "analysis time : 80.34886240959167 s\n",
      "\n",
      "worker_0/ESN_014\n",
      "64 / 72\n",
      "prediction_horizon : 0.8195883443115354, median : 0.7500177338287954\n",
      "ph_min : 0.43966556810653523, ph_max : 1.7198682517108583\n",
      "stddev : 0.25986383259413787, IQR : 0.36207752667597015\n",
      "1st quantile : 0.6207043314445203, 3rd quantile : 0.9827818581204905\n",
      "analysis time : 84.60747408866882 s\n",
      "\n",
      "worker_0/ESN_040\n",
      "65 / 72\n",
      "prediction_horizon : 0.801613781380121, median : 0.7112237131135127\n",
      "ph_min : 0.34914618643754264, ph_max : 1.7069369114724309\n",
      "stddev : 0.2859931587256878, IQR : 0.3750088669143977\n",
      "1st quantile : 0.5819103107292377, 3rd quantile : 0.9569191776436354\n",
      "analysis time : 83.89920115470886 s\n",
      "\n",
      "worker_0/ESN_024\n",
      "66 / 72\n",
      "prediction_horizon : 1.893148210905787, median : 1.7457309321877132\n",
      "ph_min : 0.814674435020933, ph_max : 4.267342278681077\n",
      "stddev : 0.6643764715300164, IQR : 0.8276057752593604\n",
      "1st quantile : 1.4483101067038806, 3rd quantile : 2.275915881963241\n",
      "analysis time : 82.79782700538635 s\n",
      "\n",
      "worker_0/ESN_070\n",
      "67 / 72\n",
      "prediction_horizon : 0.366732809161804, median : 0.34914618643754264\n",
      "ph_min : 0.16810742309955756, ph_max : 0.7112237131135127\n",
      "stddev : 0.10342679616124462, IQR : 0.1422447426227026\n",
      "1st quantile : 0.2844894852454051, 3rd quantile : 0.4267342278681077\n",
      "analysis time : 83.64821219444275 s\n",
      "\n",
      "worker_0/ESN_033\n",
      "68 / 72\n",
      "prediction_horizon : 2.511007647497853, median : 2.4440233050627986\n",
      "ph_min : 0.8017430947825054, ph_max : 4.5776944444033365\n",
      "stddev : 0.829513736958073, IQR : 1.150889281220048\n",
      "1st quantile : 1.887975674810416, 3rd quantile : 3.038864956030464\n",
      "analysis time : 85.4028639793396 s\n",
      "\n",
      "worker_0/ESN_050\n",
      "69 / 72\n",
      "prediction_horizon : 1.1623981740322487, median : 0.9957131983589179\n",
      "ph_min : 0.49139092906024523, ph_max : 2.456954645301226\n",
      "stddev : 0.47470136295518744, IQR : 0.6594983521598027\n",
      "1st quantile : 0.8017430947825054, 3rd quantile : 1.461241446942308\n",
      "analysis time : 84.09321737289429 s\n",
      "\n",
      "worker_0/ESN_025\n",
      "70 / 72\n",
      "prediction_horizon : 3.0123557085416883, median : 2.8836888731693335\n",
      "ph_min : 1.4483101067038806, ph_max : 6.504464139929036\n",
      "stddev : 0.915280179861949, IQR : 1.215545982412186\n",
      "1st quantile : 2.3664352636322334, 3rd quantile : 3.5819812460444194\n",
      "analysis time : 84.6860818862915 s\n",
      "\n",
      "worker_0/ESN_016\n",
      "71 / 72\n",
      "prediction_horizon : 0.7513108678526382, median : 0.6982923728750853\n",
      "ph_min : 0.3232835059606876, ph_max : 1.7327995919492858\n",
      "stddev : 0.27775302729762796, IQR : 0.3103521657222602\n",
      "1st quantile : 0.5560476302523827, 3rd quantile : 0.8663997959746429\n",
      "analysis time : 84.19415736198425 s\n",
      "\n",
      "worker_0/ESN_056\n",
      "72 / 72\n",
      "prediction_horizon : 1.2675299701706642, median : 1.1896833019353306\n",
      "ph_min : 0.5560476302523827, ph_max : 2.7026501098313487\n",
      "stddev : 0.45246011103845, IQR : 0.5948416509676654\n",
      "1st quantile : 0.918125156928353, 3rd quantile : 1.5129668078960183\n",
      "analysis time : 84.98754906654358 s\n",
      "\n"
     ]
    }
   ],
   "source": [
    "data_in_og = data_rnn_input\n",
    "data_out_og = data_rnn_output\n",
    "\n",
    "num_runs = 100\n",
    "num_runs = np.min([num_runs, data_in_og.shape[0]])\n",
    "print('num_runs : {}\\n'.format(num_runs))\n",
    "error_threshold = 0.5\n",
    "\n",
    "# data_idx_arr = np.arange(data_in_og.shape[0])\n",
    "# np.random.shuffle(data_idx_arr)\n",
    "data_idx_arr = np.linspace(0, data_in_og.shape[0]-1, num_runs, dtype=np.int32)\n",
    "\n",
    "ph_mat = np.empty(shape=(len(ESN_dir_list), num_runs))\n",
    "\n",
    "savefig_fname = 'pre_ARtraining-'+data_to_consider+'data'\n",
    "npsavedata_fname = '/prediction_horizons-'+data_to_consider+'data'\n",
    "plot_dir = '/plots'\n",
    "\n",
    "median_idx = int(np.round(0.5*num_runs-1))\n",
    "quantile_1_idx = int(np.round(0.25*num_runs-1))\n",
    "quantile_3_idx = int(np.round(0.75*num_runs-1))\n",
    "\n",
    "\n",
    "for dname_idx in range(len(ESN_dir_list)):\n",
    "    analysis_time = time.time()\n",
    "    dir_name_rnn = ESN_dir_list[dname_idx]\n",
    "    \n",
    "    sidx1 = dir_name_rnn[::-1].index('/')\n",
    "    sidx2 = dir_name_rnn[-sidx1-2::-1].index('/')\n",
    "    print(dir_name_rnn[-(sidx1+sidx2+1):])\n",
    "    print('{} / {}'.format(dname_idx+1, len(ESN_dir_list)))\n",
    "    \n",
    "    if analyse_only_if_not_already == True:\n",
    "        # checking if prediction horizons have already been computed\n",
    "        check1 = os.path.exists(dir_name_rnn+plot_dir)\n",
    "        check2 = os.path.exists(dir_name_rnn+plot_dir+'/'+savefig_fname+'.png')\n",
    "        check3 = os.path.exists(dir_name_rnn+npsavedata_fname+'.npz')\n",
    "        if check1 and check2 and check3:\n",
    "            # skip this directory\n",
    "            print('prediction horizons have been computed, skipping this dir\\n')\n",
    "            with np.load(dir_name_rnn+npsavedata_fname+'.npz') as fl:\n",
    "                prediction_horizon_arr = fl['prediction_horizon_arr']\n",
    "            ph_mat[dname_idx, :] = prediction_horizon_arr\n",
    "            continue\n",
    "\n",
    "    # Initialize network\n",
    "    load_file = dir_name_rnn + '/final_net/final_net_class_dict.txt'\n",
    "    rnn_net = ESN(\n",
    "        load_file=load_file,\n",
    "        stddev=0.0,\n",
    "    )\n",
    "    rnn_net.build(input_shape=(1, 1, data_rnn_input.shape[-1]))\n",
    "\n",
    "    wt_file = dir_name_rnn+'/final_net/final_net_ESN_weights.hdf5'\n",
    "    rnn_net.load_weights_from_file(wt_file)\n",
    "\n",
    "    prediction_horizon_arr = np.empty(shape=num_runs)\n",
    "\n",
    "    for i in range(num_runs):\n",
    "        data_idx = data_idx_arr[i]\n",
    "\n",
    "        for j in range(len(rnn_data_boundary_idx_arr)):\n",
    "            if data_idx < rnn_data_boundary_idx_arr[j]:\n",
    "                case_idx = j\n",
    "                break\n",
    "        lyap_time = lyapunov_time_arr[j]\n",
    "\n",
    "        data_out = data_out_og[data_idx]\n",
    "        # data_out = rescale_data(data_out, normalization_arr)\n",
    "        data_out = invert_normalization(data_out, normalization_arr)\n",
    "\n",
    "        prediction_lst = []\n",
    "\n",
    "        for layer in rnn_net.ESN_layers:\n",
    "            layer.reset_states()\n",
    "\n",
    "        input_preds = np.array(rnn_net(data_in_og[data_idx:data_idx+1, :, :], training=False))[0]\n",
    "\n",
    "        prediction_lst.append(input_preds[-1])\n",
    "\n",
    "        for k in range(1, data_out.shape[-2]):\n",
    "            data_in = np.array([[prediction_lst[-1]]])\n",
    "            output = np.array(rnn_net(data_in, training=False))[0, 0]\n",
    "            prediction_lst.append(output)\n",
    "        prediction_lst = np.stack(prediction_lst)\n",
    "        prediction_lst = invert_normalization(prediction_lst, normalization_arr)\n",
    "            \n",
    "        ### Error and prediction horizon\n",
    "        # error = np.linalg.norm(data_out[:, :] - prediction[i, :, :], axis=1)\n",
    "        error = (data_out[:, :] - prediction_lst[:, :])**2\n",
    "        # error /= norm_sq_time_average(data_out)**0.5\n",
    "        error = np.mean(np.divide(error, time_stddev**2), axis=1)**0.5\n",
    "\n",
    "        predhor_idx = np.where(error >= error_threshold)[0]\n",
    "        if predhor_idx.shape[0] == 0:\n",
    "            predhor_idx = error.shape[0]\n",
    "        else:\n",
    "            predhor_idx = predhor_idx[0]\n",
    "\n",
    "        prediction_horizon_arr[i] = predhor_idx*dt_rnn/lyap_time\n",
    "\n",
    "    prediction_horizon_arr.sort()\n",
    "    ph_mat[dname_idx, :] = prediction_horizon_arr\n",
    "\n",
    "    prediction_horizon = np.mean(prediction_horizon_arr)\n",
    "    stddev_ph = np.std(prediction_horizon_arr)\n",
    "    \n",
    "    plot_histogram_and_save(\n",
    "        prediction_horizon_arr,\n",
    "        save_dir=dir_name_rnn+plot_dir,\n",
    "        savefig_fname=savefig_fname\n",
    "    )\n",
    "    \n",
    "    np.savez(\n",
    "        dir_name_rnn+npsavedata_fname,\n",
    "        prediction_horizon_arr=prediction_horizon_arr\n",
    "    )\n",
    "\n",
    "    median = prediction_horizon_arr[median_idx]\n",
    "    quantile_1 = prediction_horizon_arr[quantile_1_idx]\n",
    "    quantile_3 = prediction_horizon_arr[quantile_3_idx]\n",
    "    IQR = quantile_3 - quantile_1\n",
    "\n",
    "    s = 'prediction_horizon : {}, median : {}\\n'.format(prediction_horizon, median)\n",
    "    s += 'ph_min : {}, ph_max : {}\\n'.format(prediction_horizon_arr.min(), prediction_horizon_arr.max())\n",
    "    s += 'stddev : {}, IQR : {}\\n'.format(stddev_ph, IQR)\n",
    "    s += '1st quartile : {}, 3rd quartile : {}'.format(quantile_1, quantile_3)\n",
    "    # print('prediction_horizon : {}, median : {}'.format(prediction_horizon, median))\n",
    "    # print('ph_min : {}, ph_max : {}'.format(prediction_horizon_arr.min(), prediction_horizon_arr.max()))\n",
    "    # print('stddev : {}, IQR : {}'.format(stddev_ph, IQR))\n",
    "    # print('1st quantile : {}, 3rd quantile : {}'.format(quantile_1, quantile_3))\n",
    "    \n",
    "    with open(dir_name_rnn+npsavedata_fname+'-statistics.txt', 'w') as fl:\n",
    "        fl.write(s)\n",
    "    \n",
    "    print(s)\n",
    "    print('analysis time : {} s\\n'.format(time.time() - analysis_time))"
   ]
  },
  {
   "cell_type": "code",
   "execution_count": null,
   "metadata": {
    "executionInfo": {
     "elapsed": 26,
     "status": "ok",
     "timestamp": 1667906077727,
     "user": {
      "displayName": "Rohan Kaushik",
      "userId": "13918477614376051685"
     },
     "user_tz": -60
    },
    "id": "ixetsZHjCMKO"
   },
   "outputs": [],
   "source": []
  },
  {
   "cell_type": "code",
   "execution_count": null,
   "metadata": {
    "executionInfo": {
     "elapsed": 28,
     "status": "ok",
     "timestamp": 1667906077729,
     "user": {
      "displayName": "Rohan Kaushik",
      "userId": "13918477614376051685"
     },
     "user_tz": -60
    },
    "id": "_NSTtZuyneQk"
   },
   "outputs": [],
   "source": []
  },
  {
   "cell_type": "code",
   "execution_count": 32,
   "metadata": {
    "colab": {
     "base_uri": "https://localhost:8080/"
    },
    "executionInfo": {
     "elapsed": 48229,
     "status": "ok",
     "timestamp": 1667906125931,
     "user": {
      "displayName": "Rohan Kaushik",
      "userId": "13918477614376051685"
     },
     "user_tz": -60
    },
    "id": "Py-Jg0QKneQk",
    "outputId": "83b7ba88-cff4-4581-9532-8589fd5fb63c",
    "scrolled": false
   },
   "outputs": [],
   "source": [
    "np.savez(\n",
    "    worker_dir_list[0]+'/prediction_horizon_mat',\n",
    "    dir_list=[dname[-sidx1:] for dname in ESN_dir_list],\n",
    "    ph_mat=ph_mat\n",
    ")"
   ]
  },
  {
   "cell_type": "code",
   "execution_count": 33,
   "metadata": {
    "executionInfo": {
     "elapsed": 17,
     "status": "ok",
     "timestamp": 1667906125932,
     "user": {
      "displayName": "Rohan Kaushik",
      "userId": "13918477614376051685"
     },
     "user_tz": -60
    },
    "id": "7ASCopnIH6nl"
   },
   "outputs": [
    {
     "name": "stdout",
     "output_type": "stream",
     "text": [
      "max ph_mean : 3.1480054676427924\n",
      "/home/rkaushik/Documents/Thesis/MLROM/KS/grid_search/gridsearch_002/worker_0/ESN_001\n",
      "ESN_layers_units : [1000]\n",
      "omega_in : [0.6]\n",
      "sparsity : [0.996996996996997]\n",
      "degree_of_connectivity : [3]\n",
      "rho_res : [0.4]\n",
      "usebias_Win : [False]\n",
      "alpha : [0.75]\n",
      "usebias_Wout : True\n"
     ]
    }
   ],
   "source": [
    "ph_mean_arr = np.mean(ph_mat, axis=1)\n",
    "idx = np.where(np.max(ph_mean_arr) == ph_mean_arr)[0][0]\n",
    "ESN_dir = ESN_dir_list[idx]\n",
    "\n",
    "load_file = ESN_dir + '/final_net/final_net_class_dict.txt'\n",
    "with open(load_file, 'r') as f:\n",
    "    lines = f.readlines()\n",
    "load_dict = eval(lines[0])\n",
    "\n",
    "ESN_layers_units = load_dict['ESN_layers_units']\n",
    "omega_in = load_dict['omega_in']\n",
    "sparsity = load_dict['sparsity']\n",
    "rho_res = load_dict['rho_res']\n",
    "usebias_Win = load_dict['usebias_Win']\n",
    "alpha = load_dict['alpha']\n",
    "usebias_Wout = load_dict['usebias_Wout']\n",
    "degree_of_connectivity = [int(np.round((ESN_layers_units[i]-1)*(1-sparsity[i]))) for i in range(len(sparsity))]\n",
    "\n",
    "print('max ph_mean : {}'.format(ph_mean_arr[idx]))\n",
    "print(ESN_dir)\n",
    "\n",
    "print('ESN_layers_units : {}'.format(ESN_layers_units))\n",
    "print('omega_in : {}'.format(omega_in))\n",
    "print('sparsity : {}'.format(sparsity))\n",
    "print('degree_of_connectivity : {}'.format(degree_of_connectivity))\n",
    "print('rho_res : {}'.format(rho_res))\n",
    "print('usebias_Win : {}'.format(usebias_Win))\n",
    "print('alpha : {}'.format(alpha))\n",
    "print('usebias_Wout : {}'.format(usebias_Wout))"
   ]
  },
  {
   "cell_type": "code",
   "execution_count": null,
   "metadata": {
    "executionInfo": {
     "elapsed": 16,
     "status": "ok",
     "timestamp": 1667906125932,
     "user": {
      "displayName": "Rohan Kaushik",
      "userId": "13918477614376051685"
     },
     "user_tz": -60
    },
    "id": "6hh1pbKjCcO4",
    "scrolled": true
   },
   "outputs": [],
   "source": []
  },
  {
   "cell_type": "code",
   "execution_count": null,
   "metadata": {
    "executionInfo": {
     "elapsed": 17,
     "status": "ok",
     "timestamp": 1667906125933,
     "user": {
      "displayName": "Rohan Kaushik",
      "userId": "13918477614376051685"
     },
     "user_tz": -60
    },
    "id": "SO7iK4mbneQm"
   },
   "outputs": [],
   "source": []
  },
  {
   "cell_type": "code",
   "execution_count": null,
   "metadata": {
    "executionInfo": {
     "elapsed": 16,
     "status": "ok",
     "timestamp": 1667906125933,
     "user": {
      "displayName": "Rohan Kaushik",
      "userId": "13918477614376051685"
     },
     "user_tz": -60
    },
    "id": "tT_3gGMZNxPt"
   },
   "outputs": [],
   "source": []
  },
  {
   "cell_type": "code",
   "execution_count": null,
   "metadata": {
    "executionInfo": {
     "elapsed": 744,
     "status": "ok",
     "timestamp": 1667906126661,
     "user": {
      "displayName": "Rohan Kaushik",
      "userId": "13918477614376051685"
     },
     "user_tz": -60
    },
    "id": "oFUdwhnX3ft_"
   },
   "outputs": [],
   "source": []
  },
  {
   "cell_type": "code",
   "execution_count": null,
   "metadata": {
    "colab": {
     "base_uri": "https://localhost:8080/",
     "height": 279
    },
    "executionInfo": {
     "elapsed": 17,
     "status": "ok",
     "timestamp": 1667906126662,
     "user": {
      "displayName": "Rohan Kaushik",
      "userId": "13918477614376051685"
     },
     "user_tz": -60
    },
    "id": "nDv5D8APneQm",
    "outputId": "76247907-1242-409a-9b1c-35591e209974"
   },
   "outputs": [],
   "source": []
  },
  {
   "cell_type": "code",
   "execution_count": null,
   "metadata": {
    "executionInfo": {
     "elapsed": 16,
     "status": "ok",
     "timestamp": 1667906126663,
     "user": {
      "displayName": "Rohan Kaushik",
      "userId": "13918477614376051685"
     },
     "user_tz": -60
    },
    "id": "dbLa0AwlDBWh"
   },
   "outputs": [],
   "source": []
  },
  {
   "cell_type": "code",
   "execution_count": null,
   "metadata": {
    "executionInfo": {
     "elapsed": 17,
     "status": "ok",
     "timestamp": 1667906126664,
     "user": {
      "displayName": "Rohan Kaushik",
      "userId": "13918477614376051685"
     },
     "user_tz": -60
    },
    "id": "-ZGJPpKjh71R"
   },
   "outputs": [],
   "source": []
  },
  {
   "cell_type": "code",
   "execution_count": null,
   "metadata": {
    "executionInfo": {
     "elapsed": 17,
     "status": "ok",
     "timestamp": 1667906126665,
     "user": {
      "displayName": "Rohan Kaushik",
      "userId": "13918477614376051685"
     },
     "user_tz": -60
    },
    "id": "LwsoOfjAj4LF"
   },
   "outputs": [],
   "source": []
  },
  {
   "cell_type": "code",
   "execution_count": null,
   "metadata": {
    "colab": {
     "base_uri": "https://localhost:8080/",
     "height": 878
    },
    "executionInfo": {
     "elapsed": 22161,
     "status": "ok",
     "timestamp": 1667906148809,
     "user": {
      "displayName": "Rohan Kaushik",
      "userId": "13918477614376051685"
     },
     "user_tz": -60
    },
    "id": "m7QbGGhbIP3I",
    "outputId": "384d9ba0-08cd-48e7-80ce-172af8e0100e",
    "scrolled": false
   },
   "outputs": [],
   "source": []
  },
  {
   "cell_type": "code",
   "execution_count": null,
   "metadata": {
    "colab": {
     "base_uri": "https://localhost:8080/"
    },
    "executionInfo": {
     "elapsed": 11,
     "status": "ok",
     "timestamp": 1667906148811,
     "user": {
      "displayName": "Rohan Kaushik",
      "userId": "13918477614376051685"
     },
     "user_tz": -60
    },
    "id": "o1UcJu42j4LH",
    "outputId": "7c06ef5f-84bf-49f1-f58b-c0d5fd1f580e"
   },
   "outputs": [],
   "source": []
  },
  {
   "cell_type": "code",
   "execution_count": null,
   "metadata": {
    "colab": {
     "base_uri": "https://localhost:8080/"
    },
    "executionInfo": {
     "elapsed": 82855,
     "status": "ok",
     "timestamp": 1667906231658,
     "user": {
      "displayName": "Rohan Kaushik",
      "userId": "13918477614376051685"
     },
     "user_tz": -60
    },
    "id": "pN2CsGwlj4LJ",
    "outputId": "9e01a854-68b5-463b-fd64-7d034061f1b4"
   },
   "outputs": [],
   "source": []
  },
  {
   "cell_type": "code",
   "execution_count": null,
   "metadata": {},
   "outputs": [],
   "source": []
  },
  {
   "cell_type": "code",
   "execution_count": null,
   "metadata": {
    "colab": {
     "base_uri": "https://localhost:8080/"
    },
    "executionInfo": {
     "elapsed": 15,
     "status": "ok",
     "timestamp": 1667906231660,
     "user": {
      "displayName": "Rohan Kaushik",
      "userId": "13918477614376051685"
     },
     "user_tz": -60
    },
    "id": "edhcc14QBEM_",
    "outputId": "718cb390-22cc-4060-8841-2c84dd336a6a"
   },
   "outputs": [],
   "source": []
  },
  {
   "cell_type": "code",
   "execution_count": null,
   "metadata": {
    "colab": {
     "base_uri": "https://localhost:8080/"
    },
    "executionInfo": {
     "elapsed": 9,
     "status": "ok",
     "timestamp": 1667906231660,
     "user": {
      "displayName": "Rohan Kaushik",
      "userId": "13918477614376051685"
     },
     "user_tz": -60
    },
    "id": "ZCUg0_1-wWzv",
    "outputId": "8594ea06-84f4-4c09-eae9-5afb725db8cf"
   },
   "outputs": [],
   "source": []
  },
  {
   "cell_type": "code",
   "execution_count": null,
   "metadata": {
    "executionInfo": {
     "elapsed": 8,
     "status": "ok",
     "timestamp": 1667906231661,
     "user": {
      "displayName": "Rohan Kaushik",
      "userId": "13918477614376051685"
     },
     "user_tz": -60
    },
    "id": "hlSIsoKXwWzw"
   },
   "outputs": [],
   "source": []
  },
  {
   "cell_type": "code",
   "execution_count": null,
   "metadata": {},
   "outputs": [],
   "source": []
  },
  {
   "cell_type": "code",
   "execution_count": null,
   "metadata": {
    "executionInfo": {
     "elapsed": 831,
     "status": "ok",
     "timestamp": 1667906232484,
     "user": {
      "displayName": "Rohan Kaushik",
      "userId": "13918477614376051685"
     },
     "user_tz": -60
    },
    "id": "nqWYs0x4wWzx"
   },
   "outputs": [],
   "source": []
  },
  {
   "cell_type": "code",
   "execution_count": null,
   "metadata": {
    "executionInfo": {
     "elapsed": 12,
     "status": "ok",
     "timestamp": 1667906232485,
     "user": {
      "displayName": "Rohan Kaushik",
      "userId": "13918477614376051685"
     },
     "user_tz": -60
    },
    "id": "khbTRchlwWzy"
   },
   "outputs": [],
   "source": []
  },
  {
   "cell_type": "code",
   "execution_count": null,
   "metadata": {},
   "outputs": [],
   "source": []
  }
 ],
 "metadata": {
  "colab": {
   "collapsed_sections": [],
   "provenance": []
  },
  "gpuClass": "standard",
  "kernelspec": {
   "display_name": "Python 3 (ipykernel)",
   "language": "python",
   "name": "python3"
  },
  "language_info": {
   "codemirror_mode": {
    "name": "ipython",
    "version": 3
   },
   "file_extension": ".py",
   "mimetype": "text/x-python",
   "name": "python",
   "nbconvert_exporter": "python",
   "pygments_lexer": "ipython3",
   "version": "3.10.6"
  }
 },
 "nbformat": 4,
 "nbformat_minor": 1
}
