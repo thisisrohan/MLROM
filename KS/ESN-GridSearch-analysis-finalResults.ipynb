{
 "cells": [
  {
   "cell_type": "code",
   "execution_count": 1,
   "metadata": {
    "executionInfo": {
     "elapsed": 220,
     "status": "ok",
     "timestamp": 1667906071238,
     "user": {
      "displayName": "Rohan Kaushik",
      "userId": "13918477614376051685"
     },
     "user_tz": -60
    },
    "id": "4xhxMpe_r-Y5"
   },
   "outputs": [],
   "source": [
    "# enabling 3rd party widgets\n",
    "# from google.colab import output\n",
    "# output.enable_custom_widget_manager()\n",
    "# output.disable_custom_widget_manager()\n",
    "\n",
    "# interactive 3D plot\n",
    "# !pip install ipympl\n",
    "# %matplotlib widget"
   ]
  },
  {
   "cell_type": "code",
   "execution_count": 2,
   "metadata": {
    "executionInfo": {
     "elapsed": 8,
     "status": "ok",
     "timestamp": 1667906071667,
     "user": {
      "displayName": "Rohan Kaushik",
      "userId": "13918477614376051685"
     },
     "user_tz": -60
    },
    "id": "a5qPupCDsjSz"
   },
   "outputs": [],
   "source": [
    "import os\n",
    "import numpy as np\n",
    "import matplotlib.pyplot as plt\n",
    "from scipy import linalg\n",
    "\n",
    "import time as time\n",
    "\n",
    "import tensorflow as tf\n",
    "from tensorflow.keras import layers, losses\n",
    "from tensorflow.keras.models import Model\n",
    "from tensorflow.keras import backend as K\n",
    "from tensorflow.keras.regularizers import L2\n",
    "import h5py"
   ]
  },
  {
   "cell_type": "code",
   "execution_count": 3,
   "metadata": {
    "executionInfo": {
     "elapsed": 7,
     "status": "ok",
     "timestamp": 1667906071668,
     "user": {
      "displayName": "Rohan Kaushik",
      "userId": "13918477614376051685"
     },
     "user_tz": -60
    },
    "id": "BX1UEb-5kWTi"
   },
   "outputs": [],
   "source": [
    "colab_flag = False\n",
    "\n",
    "FTYPE = np.float32\n",
    "ITYPE = np.int32\n",
    "\n",
    "array = np.array\n",
    "float32 = np.float32\n",
    "int32 = np.int32\n",
    "float64 = np.float64\n",
    "int64 = np.int64"
   ]
  },
  {
   "cell_type": "code",
   "execution_count": 4,
   "metadata": {
    "executionInfo": {
     "elapsed": 8,
     "status": "ok",
     "timestamp": 1667906071670,
     "user": {
      "displayName": "Rohan Kaushik",
      "userId": "13918477614376051685"
     },
     "user_tz": -60
    },
    "id": "BiLIUmBPneQR"
   },
   "outputs": [],
   "source": [
    "worker_id = 0"
   ]
  },
  {
   "cell_type": "code",
   "execution_count": 5,
   "metadata": {
    "colab": {
     "base_uri": "https://localhost:8080/"
    },
    "executionInfo": {
     "elapsed": 1887,
     "status": "ok",
     "timestamp": 1667906073549,
     "user": {
      "displayName": "Rohan Kaushik",
      "userId": "13918477614376051685"
     },
     "user_tz": -60
    },
    "id": "fnTV6Anhni6O",
    "outputId": "31ee1b16-de16-45d7-a563-87d5bb05ccc0"
   },
   "outputs": [],
   "source": [
    "if colab_flag == True:\n",
    "    from google.colab import drive\n",
    "    drive.mount('/content/drive')\n",
    "    os.chdir('/content/drive/MyDrive/Github/MLROM/KS/')"
   ]
  },
  {
   "cell_type": "code",
   "execution_count": 6,
   "metadata": {
    "colab": {
     "base_uri": "https://localhost:8080/"
    },
    "executionInfo": {
     "elapsed": 24,
     "status": "ok",
     "timestamp": 1667906073550,
     "user": {
      "displayName": "Rohan Kaushik",
      "userId": "13918477614376051685"
     },
     "user_tz": -60
    },
    "id": "paDfPOrjnkAS",
    "outputId": "9bf6780f-ab1f-418b-f653-571a70d58813"
   },
   "outputs": [
    {
     "name": "stdout",
     "output_type": "stream",
     "text": [
      "/home/rkaushik/Documents/Thesis/MLROM/KS\n"
     ]
    }
   ],
   "source": [
    "print(os.getcwd())"
   ]
  },
  {
   "cell_type": "code",
   "execution_count": 7,
   "metadata": {
    "colab": {
     "base_uri": "https://localhost:8080/"
    },
    "executionInfo": {
     "elapsed": 19,
     "status": "ok",
     "timestamp": 1667906073551,
     "user": {
      "displayName": "Rohan Kaushik",
      "userId": "13918477614376051685"
     },
     "user_tz": -60
    },
    "id": "nGZQ6RzOiVcQ",
    "outputId": "501b4918-b2fd-4c4e-cd29-a87261391086"
   },
   "outputs": [
    {
     "name": "stdout",
     "output_type": "stream",
     "text": [
      "[PhysicalDevice(name='/physical_device:GPU:0', device_type='GPU'), PhysicalDevice(name='/physical_device:GPU:1', device_type='GPU')]\n",
      "[LogicalDevice(name='/device:GPU:0', device_type='GPU')]\n"
     ]
    },
    {
     "name": "stderr",
     "output_type": "stream",
     "text": [
      "2022-12-24 20:04:46.724459: I tensorflow/stream_executor/cuda/cuda_gpu_executor.cc:936] successful NUMA node read from SysFS had negative value (-1), but there must be at least one NUMA node, so returning NUMA node zero\n",
      "2022-12-24 20:04:46.725059: I tensorflow/stream_executor/cuda/cuda_gpu_executor.cc:936] successful NUMA node read from SysFS had negative value (-1), but there must be at least one NUMA node, so returning NUMA node zero\n",
      "2022-12-24 20:04:46.790025: I tensorflow/stream_executor/cuda/cuda_gpu_executor.cc:936] successful NUMA node read from SysFS had negative value (-1), but there must be at least one NUMA node, so returning NUMA node zero\n",
      "2022-12-24 20:04:46.790444: I tensorflow/stream_executor/cuda/cuda_gpu_executor.cc:936] successful NUMA node read from SysFS had negative value (-1), but there must be at least one NUMA node, so returning NUMA node zero\n",
      "2022-12-24 20:04:46.790808: I tensorflow/stream_executor/cuda/cuda_gpu_executor.cc:936] successful NUMA node read from SysFS had negative value (-1), but there must be at least one NUMA node, so returning NUMA node zero\n",
      "2022-12-24 20:04:46.791155: I tensorflow/stream_executor/cuda/cuda_gpu_executor.cc:936] successful NUMA node read from SysFS had negative value (-1), but there must be at least one NUMA node, so returning NUMA node zero\n",
      "2022-12-24 20:04:46.792492: I tensorflow/core/platform/cpu_feature_guard.cc:151] This TensorFlow binary is optimized with oneAPI Deep Neural Network Library (oneDNN) to use the following CPU instructions in performance-critical operations:  SSE4.1 SSE4.2 AVX AVX2 FMA\n",
      "To enable them in other operations, rebuild TensorFlow with the appropriate compiler flags.\n",
      "2022-12-24 20:04:46.793030: I tensorflow/stream_executor/cuda/cuda_gpu_executor.cc:936] successful NUMA node read from SysFS had negative value (-1), but there must be at least one NUMA node, so returning NUMA node zero\n",
      "2022-12-24 20:04:46.793388: I tensorflow/stream_executor/cuda/cuda_gpu_executor.cc:936] successful NUMA node read from SysFS had negative value (-1), but there must be at least one NUMA node, so returning NUMA node zero\n",
      "2022-12-24 20:04:46.793722: I tensorflow/stream_executor/cuda/cuda_gpu_executor.cc:936] successful NUMA node read from SysFS had negative value (-1), but there must be at least one NUMA node, so returning NUMA node zero\n",
      "2022-12-24 20:04:47.361148: I tensorflow/stream_executor/cuda/cuda_gpu_executor.cc:936] successful NUMA node read from SysFS had negative value (-1), but there must be at least one NUMA node, so returning NUMA node zero\n",
      "2022-12-24 20:04:47.361386: I tensorflow/stream_executor/cuda/cuda_gpu_executor.cc:936] successful NUMA node read from SysFS had negative value (-1), but there must be at least one NUMA node, so returning NUMA node zero\n",
      "2022-12-24 20:04:47.361590: I tensorflow/stream_executor/cuda/cuda_gpu_executor.cc:936] successful NUMA node read from SysFS had negative value (-1), but there must be at least one NUMA node, so returning NUMA node zero\n",
      "2022-12-24 20:04:47.361767: I tensorflow/core/common_runtime/gpu/gpu_device.cc:1525] Created device /job:localhost/replica:0/task:0/device:GPU:0 with 3359 MB memory:  -> device: 0, name: Quadro K2200, pci bus id: 0000:02:00.0, compute capability: 5.0\n"
     ]
    }
   ],
   "source": [
    "gpus = tf.config.list_physical_devices('GPU')\n",
    "print(gpus)\n",
    "\n",
    "if colab_flag == False:\n",
    "    if gpus:\n",
    "        gpu_to_use = worker_id\n",
    "        tf.config.set_visible_devices(gpus[gpu_to_use], 'GPU')\n",
    "        logical_devices = tf.config.list_logical_devices('GPU')\n",
    "        print(logical_devices)"
   ]
  },
  {
   "cell_type": "code",
   "execution_count": 8,
   "metadata": {
    "executionInfo": {
     "elapsed": 18,
     "status": "ok",
     "timestamp": 1667906073552,
     "user": {
      "displayName": "Rohan Kaushik",
      "userId": "13918477614376051685"
     },
     "user_tz": -60
    },
    "id": "P6K2YWlR6ZPD"
   },
   "outputs": [],
   "source": [
    "from tools.misc_tools import create_data_for_RNN\n",
    "from tools.ae_v5 import Autoencoder\n",
    "from tools.ESN_v3 import ESN"
   ]
  },
  {
   "cell_type": "code",
   "execution_count": null,
   "metadata": {
    "executionInfo": {
     "elapsed": 19,
     "status": "ok",
     "timestamp": 1667906073554,
     "user": {
      "displayName": "Rohan Kaushik",
      "userId": "13918477614376051685"
     },
     "user_tz": -60
    },
    "id": "_xtkwXE2tGTP"
   },
   "outputs": [],
   "source": []
  },
  {
   "cell_type": "code",
   "execution_count": null,
   "metadata": {
    "executionInfo": {
     "elapsed": 21,
     "status": "ok",
     "timestamp": 1667906073556,
     "user": {
      "displayName": "Rohan Kaushik",
      "userId": "13918477614376051685"
     },
     "user_tz": -60
    },
    "id": "8S1AHEkl48bn"
   },
   "outputs": [],
   "source": []
  },
  {
   "cell_type": "code",
   "execution_count": 9,
   "metadata": {
    "colab": {
     "base_uri": "https://localhost:8080/"
    },
    "executionInfo": {
     "elapsed": 22,
     "status": "ok",
     "timestamp": 1667906073558,
     "user": {
      "displayName": "Rohan Kaushik",
      "userId": "13918477614376051685"
     },
     "user_tz": -60
    },
    "id": "tc3zO9xL_tNl",
    "outputId": "f2104972-c74d-44d6-fe45-3f0b2355e3ec"
   },
   "outputs": [
    {
     "name": "stdout",
     "output_type": "stream",
     "text": [
      "[PhysicalDevice(name='/physical_device:CPU:0', device_type='CPU'), PhysicalDevice(name='/physical_device:GPU:0', device_type='GPU'), PhysicalDevice(name='/physical_device:GPU:1', device_type='GPU')]\n",
      "[LogicalDevice(name='/device:CPU:0', device_type='CPU'), LogicalDevice(name='/device:GPU:0', device_type='GPU')]\n",
      "2.8.1\n"
     ]
    }
   ],
   "source": [
    "# print(tf.test.gpu_device_name())\n",
    "print(tf.config.list_physical_devices())\n",
    "print(tf.config.list_logical_devices())\n",
    "print(tf.__version__)"
   ]
  },
  {
   "cell_type": "markdown",
   "metadata": {
    "id": "7UbdnOtc4_z9"
   },
   "source": [
    "# KS System"
   ]
  },
  {
   "cell_type": "code",
   "execution_count": 10,
   "metadata": {
    "executionInfo": {
     "elapsed": 18,
     "status": "ok",
     "timestamp": 1667906073559,
     "user": {
      "displayName": "Rohan Kaushik",
      "userId": "13918477614376051685"
     },
     "user_tz": -60
    },
    "id": "8aNkoXfyGq52"
   },
   "outputs": [],
   "source": [
    "gs_idx = '001'\n",
    "dir_name_gs_all = os.getcwd() + '/grid_search/gridsearch_' + gs_idx\n",
    "\n",
    "worker_dir_list = os.listdir(dir_name_gs_all)\n",
    "worker_dir_list = [dir_name_gs_all+'/'+dname for dname in worker_dir_list if os.path.isdir(dir_name_gs_all+'/'+dname)]\n",
    "\n",
    "# worker_dir_list = [dir_name_gs_all+'/worker_{}'.format(worker_id)]\n",
    "\n",
    "# ESN_dir_list = []\n",
    "# for dname in worker_dir_list:\n",
    "#     temp = os.listdir(dname)\n",
    "#     temp = [dname+'/'+esndir for esndir in temp if os.path.isdir(dname+'/'+esndir)]\n",
    "#     ESN_dir_list.extend(temp)"
   ]
  },
  {
   "cell_type": "code",
   "execution_count": 11,
   "metadata": {
    "colab": {
     "base_uri": "https://localhost:8080/"
    },
    "executionInfo": {
     "elapsed": 1294,
     "status": "ok",
     "timestamp": 1667906074836,
     "user": {
      "displayName": "Rohan Kaushik",
      "userId": "13918477614376051685"
     },
     "user_tz": -60
    },
    "id": "O7sl7i5H5Dqz",
    "outputId": "78b99085-67db-459e-adeb-4bee022c6599"
   },
   "outputs": [
    {
     "name": "stdout",
     "output_type": "stream",
     "text": [
      "['/home/rkaushik/Documents/Thesis/MLROM/KS/grid_search/gridsearch_001/worker_0']\n"
     ]
    }
   ],
   "source": [
    "print(worker_dir_list)"
   ]
  },
  {
   "cell_type": "code",
   "execution_count": null,
   "metadata": {
    "executionInfo": {
     "elapsed": 25,
     "status": "ok",
     "timestamp": 1667906077725,
     "user": {
      "displayName": "Rohan Kaushik",
      "userId": "13918477614376051685"
     },
     "user_tz": -60
    },
    "id": "EENXaWqcKW7j"
   },
   "outputs": [],
   "source": []
  },
  {
   "cell_type": "code",
   "execution_count": null,
   "metadata": {
    "executionInfo": {
     "elapsed": 25,
     "status": "ok",
     "timestamp": 1667906077726,
     "user": {
      "displayName": "Rohan Kaushik",
      "userId": "13918477614376051685"
     },
     "user_tz": -60
    },
    "id": "8isZN1tYBifp"
   },
   "outputs": [],
   "source": []
  },
  {
   "cell_type": "code",
   "execution_count": null,
   "metadata": {
    "executionInfo": {
     "elapsed": 26,
     "status": "ok",
     "timestamp": 1667906077727,
     "user": {
      "displayName": "Rohan Kaushik",
      "userId": "13918477614376051685"
     },
     "user_tz": -60
    },
    "id": "ixetsZHjCMKO"
   },
   "outputs": [],
   "source": []
  },
  {
   "cell_type": "code",
   "execution_count": null,
   "metadata": {
    "executionInfo": {
     "elapsed": 28,
     "status": "ok",
     "timestamp": 1667906077729,
     "user": {
      "displayName": "Rohan Kaushik",
      "userId": "13918477614376051685"
     },
     "user_tz": -60
    },
    "id": "_NSTtZuyneQk"
   },
   "outputs": [],
   "source": []
  },
  {
   "cell_type": "code",
   "execution_count": 12,
   "metadata": {
    "executionInfo": {
     "elapsed": 16,
     "status": "ok",
     "timestamp": 1667906125932,
     "user": {
      "displayName": "Rohan Kaushik",
      "userId": "13918477614376051685"
     },
     "user_tz": -60
    },
    "id": "6hh1pbKjCcO4",
    "scrolled": true
   },
   "outputs": [],
   "source": [
    "ph_mat_list = []\n",
    "ESN_dir_list = []\n",
    "ph_mat_shape1 = np.inf\n",
    "for i in range(len(worker_dir_list)):\n",
    "    worker_dir = worker_dir_list[i]\n",
    "    with np.load(worker_dir+'/prediction_horizon_mat.npz', allow_pickle=True) as f:\n",
    "        # print(list(f.keys()))\n",
    "        # print(f['ph_mat'])\n",
    "        thisworker_phmat = f['ph_mat']\n",
    "        thisworker_dirlist = f['dir_list']\n",
    "    # print(len(thisworker_phmat))\n",
    "    # print(np.array(thisworker_phmat).shape)\n",
    "    thisworker_phmat_shape1 = len(thisworker_phmat[0])\n",
    "    ph_mat_shape1 = int(np.min([ph_mat_shape1, thisworker_phmat_shape1]))\n",
    "    ph_mat_list.append(thisworker_phmat)\n",
    "    ESN_dir_list.extend([worker_dir+'/'+dname for dname in thisworker_dirlist])    \n",
    "    \n",
    "ph_mat = []\n",
    "for i in range(len(ph_mat_list)):\n",
    "    ph_mat.extend(list(np.array(ph_mat_list[i])[:, 0:ph_mat_shape1]))\n",
    "ph_mat = np.array(ph_mat)\n",
    "ph_mat = np.sort(ph_mat, axis=1)"
   ]
  },
  {
   "cell_type": "code",
   "execution_count": 13,
   "metadata": {
    "executionInfo": {
     "elapsed": 17,
     "status": "ok",
     "timestamp": 1667906125933,
     "user": {
      "displayName": "Rohan Kaushik",
      "userId": "13918477614376051685"
     },
     "user_tz": -60
    },
    "id": "SO7iK4mbneQm"
   },
   "outputs": [],
   "source": [
    "ph_mean_arr = np.mean(ph_mat, axis=1)\n",
    "ph_min_arr = np.min(ph_mat, axis=1)\n",
    "ph_max_arr = np.max(ph_mat, axis=1)\n",
    "ph_std_arr = np.std(ph_mat, axis=1)\n",
    "\n",
    "ph_median_idx = int(np.round(0.5*ph_mat.shape[1]))\n",
    "ph_median_arr = ph_mat[:, ph_median_idx]\n",
    "\n",
    "quartile1_idx = int(np.round(0.25*ph_mat.shape[1]))\n",
    "ph_quartile1_arr = ph_mat[:, quartile1_idx]\n",
    "\n",
    "quartile3_idx = int(np.round(0.75*ph_mat.shape[1]))\n",
    "ph_quartile3_arr = ph_mat[:, quartile3_idx]\n",
    "\n",
    "ph_IQR_arr = ph_quartile3_arr - ph_quartile1_arr"
   ]
  },
  {
   "cell_type": "code",
   "execution_count": 15,
   "metadata": {
    "executionInfo": {
     "elapsed": 16,
     "status": "ok",
     "timestamp": 1667906125933,
     "user": {
      "displayName": "Rohan Kaushik",
      "userId": "13918477614376051685"
     },
     "user_tz": -60
    },
    "id": "tT_3gGMZNxPt"
   },
   "outputs": [
    {
     "name": "stdout",
     "output_type": "stream",
     "text": [
      "max ph_mean : 1.4968026325979837\n",
      "ph_std : 0.5181527684780565\n",
      "/home/rkaushik/Documents/Thesis/MLROM/KS/grid_search/gridsearch_001/worker_0/ESN_003\n",
      "ESN_layers_units : [5000]\n",
      "omega_in : [1.0]\n",
      "sparsity : [0.9839967993598719]\n",
      "degree_of_connectivity : [80]\n",
      "rho_res : [0.6]\n",
      "usebias_Win : [False]\n",
      "alpha : [1.0]\n",
      "usebias_Wout : True\n"
     ]
    }
   ],
   "source": [
    "# searcharr = 0.5*((ph_mean_arr-ph_std_arr) + ph_min_arr)\n",
    "# searcharr = ph_mean_arr\n",
    "searcharr = ph_median_arr\n",
    "phmeanmax_idx = np.where(searcharr == np.max(searcharr))[0][0]\n",
    "\n",
    "ESN_dir = ESN_dir_list[phmeanmax_idx]\n",
    "\n",
    "load_file = ESN_dir + '/final_net/final_net_class_dict.txt'\n",
    "with open(load_file, 'r') as f:\n",
    "    lines = f.readlines()\n",
    "load_dict = eval(lines[0])\n",
    "\n",
    "ESN_layers_units = load_dict['ESN_layers_units']\n",
    "omega_in = load_dict['omega_in']\n",
    "sparsity = load_dict['sparsity']\n",
    "rho_res = load_dict['rho_res']\n",
    "usebias_Win = load_dict['usebias_Win']\n",
    "alpha = load_dict['alpha']\n",
    "usebias_Wout = load_dict['usebias_Wout']\n",
    "degree_of_connectivity = [int((ESN_layers_units[i]-1)*(1-sparsity[i])) for i in range(len(sparsity))]\n",
    "\n",
    "print('max ph_mean : {}\\nph_std : {}'.format(ph_mean_arr[phmeanmax_idx], ph_std_arr[phmeanmax_idx]))\n",
    "print(ESN_dir)\n",
    "\n",
    "print('ESN_layers_units : {}'.format(ESN_layers_units))\n",
    "print('omega_in : {}'.format(omega_in))\n",
    "print('sparsity : {}'.format(sparsity))\n",
    "print('degree_of_connectivity : {}'.format(degree_of_connectivity))\n",
    "print('rho_res : {}'.format(rho_res))\n",
    "print('usebias_Win : {}'.format(usebias_Win))\n",
    "print('alpha : {}'.format(alpha))\n",
    "print('usebias_Wout : {}'.format(usebias_Wout))"
   ]
  },
  {
   "cell_type": "code",
   "execution_count": 16,
   "metadata": {
    "executionInfo": {
     "elapsed": 744,
     "status": "ok",
     "timestamp": 1667906126661,
     "user": {
      "displayName": "Rohan Kaushik",
      "userId": "13918477614376051685"
     },
     "user_tz": -60
    },
    "id": "oFUdwhnX3ft_",
    "scrolled": false
   },
   "outputs": [
    {
     "name": "stdout",
     "output_type": "stream",
     "text": [
      "1 / 7\n",
      "prediction_horizon : 1.4968026325979837, median : 1.4871041274191632\n",
      "ph_min : 0.5948416509676653, ph_max : 3.258697740083732\n",
      "stddev : 0.5181527684780565, IQR : 0.5948416509676655\n",
      "1st quartile : 1.1767519616969029, 3rd quartile : 1.7715936126645684\n",
      "\n",
      "/home/rkaushik/Documents/Thesis/MLROM/KS/grid_search/gridsearch_001/worker_0/ESN_003\n",
      "test_loss : 1.395413242957129e-06\n",
      "ESN_layers_units : [5000]\n",
      "omega_in : [1.0]\n",
      "sparsity : [0.9839967993598719]\n",
      "degree_of_connectivity : [80]\n",
      "rho_res : [0.6]\n",
      "usebias_Win : [False]\n",
      "alpha : [1.0]\n",
      "usebias_Wout : True\n",
      "--------------------\n",
      "\n",
      "\n",
      "2 / 7\n",
      "prediction_horizon : 1.4780521892522638, median : 1.461241446942308\n",
      "ph_min : 0.6207043314445203, ph_max : 3.2328350596068764\n",
      "stddev : 0.48808401149646313, IQR : 0.5948416509676653\n",
      "1st quartile : 1.150889281220048, 3rd quartile : 1.7457309321877132\n",
      "\n",
      "/home/rkaushik/Documents/Thesis/MLROM/KS/grid_search/gridsearch_001/worker_0/ESN_000\n",
      "test_loss : 1.3075192721060727e-06\n",
      "ESN_layers_units : [5000]\n",
      "omega_in : [1.0]\n",
      "sparsity : [0.995999199839968]\n",
      "degree_of_connectivity : [20]\n",
      "rho_res : [0.6]\n",
      "usebias_Win : [False]\n",
      "alpha : [1.0]\n",
      "usebias_Wout : True\n",
      "--------------------\n",
      "\n",
      "\n",
      "3 / 7\n",
      "prediction_horizon : 1.4470169726800381, median : 1.4483101067038806\n",
      "ph_min : 0.6724296923982302, ph_max : 2.8319635122156237\n",
      "stddev : 0.48906971583421976, IQR : 0.607772991206093\n",
      "1st quartile : 1.0862325800279105, 3rd quartile : 1.6940055712340034\n",
      "\n",
      "/home/rkaushik/Documents/Thesis/MLROM/KS/grid_search/gridsearch_001/worker_0/ESN_005\n",
      "test_loss : 1.4479237804231963e-06\n",
      "ESN_layers_units : [5000]\n",
      "omega_in : [1.0]\n",
      "sparsity : [0.991998399679936]\n",
      "degree_of_connectivity : [40]\n",
      "rho_res : [0.7]\n",
      "usebias_Win : [False]\n",
      "alpha : [1.0]\n",
      "usebias_Wout : True\n",
      "--------------------\n",
      "\n",
      "\n",
      "4 / 7\n",
      "prediction_horizon : 1.4264561417009378, median : 1.409516085988598\n",
      "ph_min : 0.5431162900139552, ph_max : 3.530255885090709\n",
      "stddev : 0.5013148727296052, IQR : 0.6465670119213756\n",
      "1st quartile : 1.0474385593126279, 3rd quartile : 1.6940055712340034\n",
      "\n",
      "/home/rkaushik/Documents/Thesis/MLROM/KS/grid_search/gridsearch_001/worker_0/ESN_004\n",
      "test_loss : 1.4208623030463964e-06\n",
      "ESN_layers_units : [5000]\n",
      "omega_in : [1.0]\n",
      "sparsity : [0.995999199839968]\n",
      "degree_of_connectivity : [20]\n",
      "rho_res : [0.7]\n",
      "usebias_Win : [False]\n",
      "alpha : [1.0]\n",
      "usebias_Wout : True\n",
      "--------------------\n",
      "\n",
      "\n",
      "5 / 7\n",
      "prediction_horizon : 1.4446893314371212, median : 1.3707220652733156\n",
      "ph_min : 0.6336356716829478, ph_max : 2.793169491500341\n",
      "stddev : 0.4714039517309242, IQR : 0.7241550533519403\n",
      "1st quartile : 1.0862325800279105, 3rd quartile : 1.8103876333798508\n",
      "\n",
      "/home/rkaushik/Documents/Thesis/MLROM/KS/grid_search/gridsearch_001/worker_0/ESN_001\n",
      "test_loss : 1.3563269692378648e-06\n",
      "ESN_layers_units : [5000]\n",
      "omega_in : [1.0]\n",
      "sparsity : [0.991998399679936]\n",
      "degree_of_connectivity : [40]\n",
      "rho_res : [0.6]\n",
      "usebias_Win : [False]\n",
      "alpha : [1.0]\n",
      "usebias_Wout : True\n",
      "--------------------\n",
      "\n",
      "\n",
      "6 / 7\n",
      "prediction_horizon : 1.5045614367410403, median : 1.3707220652733156\n",
      "ph_min : 0.6853610326366578, ph_max : 3.788882689859259\n",
      "stddev : 0.5967091955261413, IQR : 0.8017430947825053\n",
      "1st quartile : 1.0603698995510555, 3rd quartile : 1.8621129943335608\n",
      "\n",
      "/home/rkaushik/Documents/Thesis/MLROM/KS/grid_search/gridsearch_001/worker_0/ESN_002\n",
      "test_loss : 1.4005306841093178e-06\n",
      "ESN_layers_units : [5000]\n",
      "omega_in : [1.0]\n",
      "sparsity : [0.987997599519904]\n",
      "degree_of_connectivity : [60]\n",
      "rho_res : [0.6]\n",
      "usebias_Win : [False]\n",
      "alpha : [1.0]\n",
      "usebias_Wout : True\n",
      "--------------------\n",
      "\n",
      "\n",
      "7 / 7\n",
      "prediction_horizon : 1.4254216344818638, median : 1.357790725034888\n",
      "ph_min : 0.5172536095371002, ph_max : 3.271629080322159\n",
      "stddev : 0.49516347567204855, IQR : 0.6724296923982302\n",
      "1st quartile : 1.073301239789483, 3rd quartile : 1.7457309321877132\n",
      "\n",
      "/home/rkaushik/Documents/Thesis/MLROM/KS/grid_search/gridsearch_001/worker_0/ESN_007\n",
      "test_loss : 1.4859081268184984e-06\n",
      "ESN_layers_units : [5000]\n",
      "omega_in : [1.0]\n",
      "sparsity : [0.9839967993598719]\n",
      "degree_of_connectivity : [80]\n",
      "rho_res : [0.7]\n",
      "usebias_Win : [False]\n",
      "alpha : [1.0]\n",
      "usebias_Wout : True\n",
      "--------------------\n",
      "\n",
      "\n"
     ]
    }
   ],
   "source": [
    "fac1 = 1.\n",
    "fac2 = 0.25\n",
    "# meancontained_idx = np.where(ph_mean_arr >= fac1*(ph_mean_arr[phmeanmax_idx]-fac2*ph_std_arr[phmeanmax_idx]))[0]\n",
    "meancontained_idx = np.where(searcharr >= fac1*(searcharr[phmeanmax_idx]-fac2*ph_IQR_arr[phmeanmax_idx]))[0]\n",
    "\n",
    "temp = searcharr[meancontained_idx]\n",
    "temp = np.argsort(temp)[::-1]\n",
    "\n",
    "for i in range(meancontained_idx.shape[0]):\n",
    "    print('{} / {}'.format(i+1, meancontained_idx.shape[0]))\n",
    "    d_idx = meancontained_idx[temp[i]]\n",
    "    ESN_dir = ESN_dir_list[d_idx]\n",
    "\n",
    "    load_file = ESN_dir + '/final_net/final_net_class_dict.txt'\n",
    "    with open(load_file, 'r') as f:\n",
    "        lines = f.readlines()\n",
    "    load_dict = eval(lines[0])\n",
    "\n",
    "    ESN_layers_units = load_dict['ESN_layers_units']\n",
    "    omega_in = load_dict['omega_in']\n",
    "    sparsity = load_dict['sparsity']\n",
    "    rho_res = load_dict['rho_res']\n",
    "    usebias_Win = load_dict['usebias_Win']\n",
    "    alpha = load_dict['alpha']\n",
    "    usebias_Wout = load_dict['usebias_Wout']\n",
    "    degree_of_connectivity = [int(np.round((ESN_layers_units[i]-1)*(1-sparsity[i]))) for i in range(len(sparsity))]\n",
    "\n",
    "    loss_file = ESN_dir + '/final_net/losses.txt'\n",
    "    with open(loss_file, 'r') as f:\n",
    "        lines = f.readlines()\n",
    "    loss_dict = eval(lines[0])\n",
    "    test_loss = loss_dict['test_loss']\n",
    "    \n",
    "    s = 'prediction_horizon : {}, median : {}\\n'.format(ph_mean_arr[d_idx], ph_median_arr[d_idx])\n",
    "    s += 'ph_min : {}, ph_max : {}\\n'.format(ph_mat[d_idx].min(), ph_mat[d_idx].max())\n",
    "    s += 'stddev : {}, IQR : {}\\n'.format(ph_std_arr[d_idx], ph_IQR_arr[d_idx])\n",
    "    s += '1st quartile : {}, 3rd quartile : {}'.format(ph_quartile1_arr[d_idx], ph_quartile3_arr[d_idx])\n",
    "\n",
    "    # print('ph_mean : {}\\nph_std : {}\\nph_min : {}\\nph_max : {}\\nsearcharr : {}\\n'.format(\n",
    "    #     ph_mean_arr[d_idx],\n",
    "    #     ph_std_arr[d_idx],\n",
    "    #     ph_mat[d_idx].min(),\n",
    "    #     ph_mat[d_idx].max(),\n",
    "    #     searcharr[d_idx]\n",
    "    # ))\n",
    "    print(s + '\\n')\n",
    "    print(ESN_dir)\n",
    "\n",
    "    print('test_loss : {}'.format(test_loss))\n",
    "    print('ESN_layers_units : {}'.format(ESN_layers_units))\n",
    "    print('omega_in : {}'.format(omega_in))\n",
    "    print('sparsity : {}'.format(sparsity))\n",
    "    print('degree_of_connectivity : {}'.format(degree_of_connectivity))\n",
    "    print('rho_res : {}'.format(rho_res))\n",
    "    print('usebias_Win : {}'.format(usebias_Win))\n",
    "    print('alpha : {}'.format(alpha))\n",
    "    print('usebias_Wout : {}'.format(usebias_Wout))\n",
    "    print('-'*20+'\\n\\n')"
   ]
  },
  {
   "cell_type": "code",
   "execution_count": 17,
   "metadata": {
    "colab": {
     "base_uri": "https://localhost:8080/",
     "height": 279
    },
    "executionInfo": {
     "elapsed": 17,
     "status": "ok",
     "timestamp": 1667906126662,
     "user": {
      "displayName": "Rohan Kaushik",
      "userId": "13918477614376051685"
     },
     "user_tz": -60
    },
    "id": "nDv5D8APneQm",
    "outputId": "76247907-1242-409a-9b1c-35591e209974"
   },
   "outputs": [],
   "source": [
    "def get_ESNs_with_specific_params(\n",
    "        ESN_dir_list,\n",
    "        alpha=None,\n",
    "        rho_res=None,\n",
    "        units=None,\n",
    "        omega_in=None,\n",
    "        deg=None):\n",
    "\n",
    "    selected_ESN_list = []\n",
    "    for i in range(len(ESN_dir_list)):\n",
    "        dname = ESN_dir_list[i]\n",
    "        load_file = dname + '/final_net/final_net_class_dict.txt'\n",
    "        with open(load_file, 'r') as f:\n",
    "            lines = f.readlines()\n",
    "        load_dict = eval(lines[0])\n",
    "\n",
    "        ESN_layers_units_thisESN = np.array(load_dict['ESN_layers_units'])\n",
    "        omega_in_thisESN = np.array(load_dict['omega_in'])\n",
    "        sparsity_thisESN = np.array(load_dict['sparsity'])\n",
    "        rho_res_thisESN = np.array(load_dict['rho_res'])\n",
    "        usebias_Win_thisESN = np.array(load_dict['usebias_Win'])\n",
    "        alpha_thisESN = np.array(load_dict['alpha'])\n",
    "        usebias_Wout_thisESN = np.array(load_dict['usebias_Wout'])\n",
    "        degree_of_connectivity_thisESN = np.array([int(np.round((ESN_layers_units_thisESN[i]-1)*(1-sparsity_thisESN[i]))) for i in range(len(sparsity_thisESN))])\n",
    "\n",
    "        alpha_pass = True\n",
    "        if type(alpha) != type(None):\n",
    "            alpha_pass = np.all(alpha == alpha_thisESN)\n",
    "            \n",
    "        rho_res_pass = True\n",
    "        if type(rho_res) != type(None):\n",
    "            rho_res_pass = np.all(rho_res == rho_res_thisESN)\n",
    "\n",
    "        units_pass = True\n",
    "        if type(units) != type(None):\n",
    "            units_pass = np.all(units == ESN_layers_units_thisESN)\n",
    "\n",
    "        omega_in_pass = True\n",
    "        if type(omega_in) != type(None):\n",
    "            omega_in_pass = np.all(omega_in == omega_in_thisESN)\n",
    "\n",
    "        deg_pass = True\n",
    "        if type(deg) != type(None):\n",
    "            deg_pass = np.all(deg == degree_of_connectivity_thisESN)\n",
    "\n",
    "        if alpha_pass and rho_res_pass and units_pass and omega_in_pass and deg_pass:\n",
    "            # print(degree_of_connectivity_thisESN)\n",
    "            selected_ESN_list.append((dname, i))\n",
    "        \n",
    "    return selected_ESN_list"
   ]
  },
  {
   "cell_type": "code",
   "execution_count": null,
   "metadata": {
    "executionInfo": {
     "elapsed": 16,
     "status": "ok",
     "timestamp": 1667906126663,
     "user": {
      "displayName": "Rohan Kaushik",
      "userId": "13918477614376051685"
     },
     "user_tz": -60
    },
    "id": "dbLa0AwlDBWh"
   },
   "outputs": [],
   "source": [
    "selected_ESN_list = get_ESNs_with_specific_params(ESN_dir_list, units=np.array([2000]))#, deg=np.array([3]))"
   ]
  },
  {
   "cell_type": "code",
   "execution_count": null,
   "metadata": {
    "executionInfo": {
     "elapsed": 17,
     "status": "ok",
     "timestamp": 1667906126664,
     "user": {
      "displayName": "Rohan Kaushik",
      "userId": "13918477614376051685"
     },
     "user_tz": -60
    },
    "id": "-ZGJPpKjh71R"
   },
   "outputs": [],
   "source": [
    "d_idx_arr = np.array([elem[1] for elem in selected_ESN_list])\n",
    "temp = ph_mean_arr[d_idx_arr]\n",
    "temp = np.argsort(temp)[::-1]\n",
    "temp2 = [selected_ESN_list[idx] for idx in temp]\n",
    "selected_ESN_list = temp2\n",
    "\n",
    "for i in range(len(selected_ESN_list)):\n",
    "    print('{} / {}'.format(i+1, len(selected_ESN_list)))\n",
    "    ESN_dir = selected_ESN_list[i][0]\n",
    "    d_idx = selected_ESN_list[i][1]\n",
    "\n",
    "    load_file = ESN_dir + '/final_net/final_net_class_dict.txt'\n",
    "    with open(load_file, 'r') as f:\n",
    "        lines = f.readlines()\n",
    "    load_dict = eval(lines[0])\n",
    "\n",
    "    ESN_layers_units = load_dict['ESN_layers_units']\n",
    "    omega_in = load_dict['omega_in']\n",
    "    sparsity = load_dict['sparsity']\n",
    "    rho_res = load_dict['rho_res']\n",
    "    usebias_Win = load_dict['usebias_Win']\n",
    "    alpha = load_dict['alpha']\n",
    "    usebias_Wout = load_dict['usebias_Wout']\n",
    "    degree_of_connectivity = [int(np.round((ESN_layers_units[i]-1)*(1-sparsity[i]))) for i in range(len(sparsity))]\n",
    "\n",
    "    loss_file = ESN_dir + '/final_net/losses.txt'\n",
    "    with open(loss_file, 'r') as f:\n",
    "        lines = f.readlines()\n",
    "    loss_dict = eval(lines[0])\n",
    "    test_loss = loss_dict['test_loss']\n",
    "    \n",
    "    print('ph_mean : {}\\nph_std : {}\\nph_min : {}\\nph_max : {}\\nsearcharr : {}\\n'.format(\n",
    "        ph_mean_arr[d_idx],\n",
    "        ph_std_arr[d_idx],\n",
    "        ph_mat[d_idx].min(),\n",
    "        ph_mat[d_idx].max(),\n",
    "        searcharr[d_idx]\n",
    "    ))\n",
    "    print(ESN_dir)\n",
    "\n",
    "    print('test_loss : {}'.format(test_loss))\n",
    "    print('ESN_layers_units : {}'.format(ESN_layers_units))\n",
    "    print('omega_in : {}'.format(omega_in))\n",
    "    print('sparsity : {}'.format(sparsity))\n",
    "    print('degree_of_connectivity : {}'.format(degree_of_connectivity))\n",
    "    print('rho_res : {}'.format(rho_res))\n",
    "    print('usebias_Win : {}'.format(usebias_Win))\n",
    "    print('alpha : {}'.format(alpha))\n",
    "    print('usebias_Wout : {}'.format(usebias_Wout))\n",
    "    print('-'*20+'\\n\\n')"
   ]
  },
  {
   "cell_type": "code",
   "execution_count": null,
   "metadata": {
    "executionInfo": {
     "elapsed": 17,
     "status": "ok",
     "timestamp": 1667906126665,
     "user": {
      "displayName": "Rohan Kaushik",
      "userId": "13918477614376051685"
     },
     "user_tz": -60
    },
    "id": "LwsoOfjAj4LF"
   },
   "outputs": [],
   "source": [
    "# def return_params(fname):\n",
    "#     with np.load(fname, allow_pickle=True) as fl:\n",
    "#         alpha = fl['alpha']\n",
    "#         deg = fl['deg_of_connectivity']\n",
    "#         omega_in = fl['omega_in']\n",
    "#         rho_res = fl['rho_res']\n",
    "#         res_size = fl['res_size']\n",
    "#     return_dict = {\n",
    "#         'alpha':list(alpha),\n",
    "#         'deg':list(deg),\n",
    "#         'omega_in':list(omega_in),\n",
    "#         'res_size':list(res_size),\n",
    "#         'rho_res':list(rho_res),\n",
    "#     }\n",
    "#     return return_dict"
   ]
  },
  {
   "cell_type": "code",
   "execution_count": null,
   "metadata": {
    "colab": {
     "base_uri": "https://localhost:8080/",
     "height": 878
    },
    "executionInfo": {
     "elapsed": 22161,
     "status": "ok",
     "timestamp": 1667906148809,
     "user": {
      "displayName": "Rohan Kaushik",
      "userId": "13918477614376051685"
     },
     "user_tz": -60
    },
    "id": "m7QbGGhbIP3I",
    "outputId": "384d9ba0-08cd-48e7-80ce-172af8e0100e",
    "scrolled": false
   },
   "outputs": [],
   "source": [
    "# dname = os.getcwd() + '/grid_search/gridsearch_000'\n",
    "# fname = dname+'/gridsearch_params.npz'\n",
    "# params = return_params(fname)"
   ]
  },
  {
   "cell_type": "code",
   "execution_count": null,
   "metadata": {
    "colab": {
     "base_uri": "https://localhost:8080/"
    },
    "executionInfo": {
     "elapsed": 11,
     "status": "ok",
     "timestamp": 1667906148811,
     "user": {
      "displayName": "Rohan Kaushik",
      "userId": "13918477614376051685"
     },
     "user_tz": -60
    },
    "id": "o1UcJu42j4LH",
    "outputId": "7c06ef5f-84bf-49f1-f58b-c0d5fd1f580e"
   },
   "outputs": [],
   "source": [
    "# params"
   ]
  },
  {
   "cell_type": "code",
   "execution_count": null,
   "metadata": {
    "colab": {
     "base_uri": "https://localhost:8080/"
    },
    "executionInfo": {
     "elapsed": 82855,
     "status": "ok",
     "timestamp": 1667906231658,
     "user": {
      "displayName": "Rohan Kaushik",
      "userId": "13918477614376051685"
     },
     "user_tz": -60
    },
    "id": "pN2CsGwlj4LJ",
    "outputId": "9e01a854-68b5-463b-fd64-7d034061f1b4"
   },
   "outputs": [],
   "source": []
  },
  {
   "cell_type": "code",
   "execution_count": null,
   "metadata": {},
   "outputs": [],
   "source": []
  },
  {
   "cell_type": "code",
   "execution_count": null,
   "metadata": {
    "colab": {
     "base_uri": "https://localhost:8080/"
    },
    "executionInfo": {
     "elapsed": 15,
     "status": "ok",
     "timestamp": 1667906231660,
     "user": {
      "displayName": "Rohan Kaushik",
      "userId": "13918477614376051685"
     },
     "user_tz": -60
    },
    "id": "edhcc14QBEM_",
    "outputId": "718cb390-22cc-4060-8841-2c84dd336a6a"
   },
   "outputs": [],
   "source": [
    "# with open(fname[0:-4]+'.txt', 'w') as fl:\n",
    "#     fl.write(str(params))"
   ]
  },
  {
   "cell_type": "code",
   "execution_count": null,
   "metadata": {
    "colab": {
     "base_uri": "https://localhost:8080/"
    },
    "executionInfo": {
     "elapsed": 9,
     "status": "ok",
     "timestamp": 1667906231660,
     "user": {
      "displayName": "Rohan Kaushik",
      "userId": "13918477614376051685"
     },
     "user_tz": -60
    },
    "id": "ZCUg0_1-wWzv",
    "outputId": "8594ea06-84f4-4c09-eae9-5afb725db8cf"
   },
   "outputs": [],
   "source": []
  },
  {
   "cell_type": "code",
   "execution_count": null,
   "metadata": {
    "executionInfo": {
     "elapsed": 8,
     "status": "ok",
     "timestamp": 1667906231661,
     "user": {
      "displayName": "Rohan Kaushik",
      "userId": "13918477614376051685"
     },
     "user_tz": -60
    },
    "id": "hlSIsoKXwWzw"
   },
   "outputs": [],
   "source": []
  },
  {
   "cell_type": "code",
   "execution_count": null,
   "metadata": {},
   "outputs": [],
   "source": []
  },
  {
   "cell_type": "code",
   "execution_count": null,
   "metadata": {
    "executionInfo": {
     "elapsed": 831,
     "status": "ok",
     "timestamp": 1667906232484,
     "user": {
      "displayName": "Rohan Kaushik",
      "userId": "13918477614376051685"
     },
     "user_tz": -60
    },
    "id": "nqWYs0x4wWzx"
   },
   "outputs": [],
   "source": []
  },
  {
   "cell_type": "code",
   "execution_count": null,
   "metadata": {
    "executionInfo": {
     "elapsed": 12,
     "status": "ok",
     "timestamp": 1667906232485,
     "user": {
      "displayName": "Rohan Kaushik",
      "userId": "13918477614376051685"
     },
     "user_tz": -60
    },
    "id": "khbTRchlwWzy"
   },
   "outputs": [],
   "source": []
  },
  {
   "cell_type": "code",
   "execution_count": null,
   "metadata": {},
   "outputs": [],
   "source": []
  }
 ],
 "metadata": {
  "colab": {
   "collapsed_sections": [],
   "provenance": []
  },
  "gpuClass": "standard",
  "kernelspec": {
   "display_name": "Python 3 (ipykernel)",
   "language": "python",
   "name": "python3"
  },
  "language_info": {
   "codemirror_mode": {
    "name": "ipython",
    "version": 3
   },
   "file_extension": ".py",
   "mimetype": "text/x-python",
   "name": "python",
   "nbconvert_exporter": "python",
   "pygments_lexer": "ipython3",
   "version": "3.10.6"
  }
 },
 "nbformat": 4,
 "nbformat_minor": 1
}
