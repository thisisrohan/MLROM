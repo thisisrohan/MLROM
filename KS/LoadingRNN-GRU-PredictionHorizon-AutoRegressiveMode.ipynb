{
 "cells": [
  {
   "cell_type": "code",
   "execution_count": null,
   "metadata": {
    "executionInfo": {
     "elapsed": 220,
     "status": "ok",
     "timestamp": 1667906071238,
     "user": {
      "displayName": "Rohan Kaushik",
      "userId": "13918477614376051685"
     },
     "user_tz": -60
    },
    "id": "4xhxMpe_r-Y5"
   },
   "outputs": [],
   "source": [
    "# enabling 3rd party widgets\n",
    "# from google.colab import output\n",
    "# output.enable_custom_widget_manager()\n",
    "# output.disable_custom_widget_manager()\n",
    "\n",
    "# interactive 3D plot\n",
    "# !pip install ipympl\n",
    "# %matplotlib widget"
   ]
  },
  {
   "cell_type": "code",
   "execution_count": null,
   "metadata": {
    "executionInfo": {
     "elapsed": 8,
     "status": "ok",
     "timestamp": 1667906071667,
     "user": {
      "displayName": "Rohan Kaushik",
      "userId": "13918477614376051685"
     },
     "user_tz": -60
    },
    "id": "a5qPupCDsjSz"
   },
   "outputs": [],
   "source": [
    "import os\n",
    "import math\n",
    "from collections import OrderedDict\n",
    "import numpy as np\n",
    "import matplotlib.pyplot as plt\n",
    "from scipy import linalg\n",
    "\n",
    "import time as time\n",
    "import platform as platform\n",
    "\n",
    "import tensorflow as tf\n",
    "from tensorflow.keras import layers, losses\n",
    "from tensorflow.keras.models import Model\n",
    "from tensorflow.keras import backend as K\n",
    "from tensorflow.keras.regularizers import L2\n",
    "import h5py"
   ]
  },
  {
   "cell_type": "code",
   "execution_count": null,
   "metadata": {
    "executionInfo": {
     "elapsed": 7,
     "status": "ok",
     "timestamp": 1667906071668,
     "user": {
      "displayName": "Rohan Kaushik",
      "userId": "13918477614376051685"
     },
     "user_tz": -60
    },
    "id": "BX1UEb-5kWTi"
   },
   "outputs": [],
   "source": [
    "colab_flag = False\n",
    "\n",
    "FTYPE = np.float32\n",
    "ITYPE = np.int32"
   ]
  },
  {
   "cell_type": "code",
   "execution_count": null,
   "metadata": {
    "executionInfo": {
     "elapsed": 8,
     "status": "ok",
     "timestamp": 1667906071670,
     "user": {
      "displayName": "Rohan Kaushik",
      "userId": "13918477614376051685"
     },
     "user_tz": -60
    },
    "id": "BiLIUmBPneQR"
   },
   "outputs": [],
   "source": [
    "current_sys = platform.system()\n",
    "\n",
    "if current_sys == 'Windows':\n",
    "    dir_sep = '\\\\'\n",
    "else:\n",
    "    dir_sep = '/'"
   ]
  },
  {
   "cell_type": "code",
   "execution_count": null,
   "metadata": {
    "colab": {
     "base_uri": "https://localhost:8080/"
    },
    "executionInfo": {
     "elapsed": 1887,
     "status": "ok",
     "timestamp": 1667906073549,
     "user": {
      "displayName": "Rohan Kaushik",
      "userId": "13918477614376051685"
     },
     "user_tz": -60
    },
    "id": "fnTV6Anhni6O",
    "outputId": "31ee1b16-de16-45d7-a563-87d5bb05ccc0"
   },
   "outputs": [],
   "source": [
    "if colab_flag == True:\n",
    "    from google.colab import drive\n",
    "    drive.mount('/content/drive')\n",
    "    os.chdir('/content/drive/MyDrive/Github/MLROM/KS/')"
   ]
  },
  {
   "cell_type": "code",
   "execution_count": null,
   "metadata": {
    "colab": {
     "base_uri": "https://localhost:8080/"
    },
    "executionInfo": {
     "elapsed": 24,
     "status": "ok",
     "timestamp": 1667906073550,
     "user": {
      "displayName": "Rohan Kaushik",
      "userId": "13918477614376051685"
     },
     "user_tz": -60
    },
    "id": "paDfPOrjnkAS",
    "outputId": "9bf6780f-ab1f-418b-f653-571a70d58813"
   },
   "outputs": [],
   "source": [
    "print(os.getcwd())"
   ]
  },
  {
   "cell_type": "code",
   "execution_count": null,
   "metadata": {
    "colab": {
     "base_uri": "https://localhost:8080/"
    },
    "executionInfo": {
     "elapsed": 19,
     "status": "ok",
     "timestamp": 1667906073551,
     "user": {
      "displayName": "Rohan Kaushik",
      "userId": "13918477614376051685"
     },
     "user_tz": -60
    },
    "id": "nGZQ6RzOiVcQ",
    "outputId": "501b4918-b2fd-4c4e-cd29-a87261391086"
   },
   "outputs": [],
   "source": [
    "gpus = tf.config.list_physical_devices('GPU')\n",
    "print(gpus)\n",
    "\n",
    "if colab_flag == False:\n",
    "    if gpus:\n",
    "        gpu_to_use = 0\n",
    "        tf.config.set_visible_devices(gpus[gpu_to_use], 'GPU')\n",
    "        logical_devices = tf.config.list_logical_devices('GPU')\n",
    "        print(logical_devices)"
   ]
  },
  {
   "cell_type": "code",
   "execution_count": null,
   "metadata": {
    "executionInfo": {
     "elapsed": 18,
     "status": "ok",
     "timestamp": 1667906073552,
     "user": {
      "displayName": "Rohan Kaushik",
      "userId": "13918477614376051685"
     },
     "user_tz": -60
    },
    "id": "P6K2YWlR6ZPD"
   },
   "outputs": [],
   "source": [
    "from tools.misc_tools import create_data_for_RNN, mytimecallback, SaveLosses, plot_losses, plot_reconstructed_data_KS, plot_latent_states_KS, readAndReturnLossHistories, sigmoidWarmupAndDecayLRSchedule\n",
    "from tools.ae_v5 import Autoencoder\n",
    "from tools.GRU_AR_v5 import AR_RNN_GRU as RNN_GRU"
   ]
  },
  {
   "cell_type": "code",
   "execution_count": null,
   "metadata": {
    "executionInfo": {
     "elapsed": 19,
     "status": "ok",
     "timestamp": 1667906073554,
     "user": {
      "displayName": "Rohan Kaushik",
      "userId": "13918477614376051685"
     },
     "user_tz": -60
    },
    "id": "_xtkwXE2tGTP"
   },
   "outputs": [],
   "source": []
  },
  {
   "cell_type": "code",
   "execution_count": null,
   "metadata": {
    "executionInfo": {
     "elapsed": 21,
     "status": "ok",
     "timestamp": 1667906073556,
     "user": {
      "displayName": "Rohan Kaushik",
      "userId": "13918477614376051685"
     },
     "user_tz": -60
    },
    "id": "8S1AHEkl48bn"
   },
   "outputs": [],
   "source": []
  },
  {
   "cell_type": "code",
   "execution_count": null,
   "metadata": {
    "colab": {
     "base_uri": "https://localhost:8080/"
    },
    "executionInfo": {
     "elapsed": 22,
     "status": "ok",
     "timestamp": 1667906073558,
     "user": {
      "displayName": "Rohan Kaushik",
      "userId": "13918477614376051685"
     },
     "user_tz": -60
    },
    "id": "tc3zO9xL_tNl",
    "outputId": "f2104972-c74d-44d6-fe45-3f0b2355e3ec"
   },
   "outputs": [],
   "source": [
    "# print(tf.test.gpu_device_name())\n",
    "print(tf.config.list_physical_devices())\n",
    "print(tf.config.list_logical_devices())\n",
    "print(tf.__version__)"
   ]
  },
  {
   "cell_type": "markdown",
   "metadata": {
    "id": "7UbdnOtc4_z9"
   },
   "source": [
    "# KS System"
   ]
  },
  {
   "cell_type": "code",
   "execution_count": null,
   "metadata": {
    "executionInfo": {
     "elapsed": 18,
     "status": "ok",
     "timestamp": 1667906073559,
     "user": {
      "displayName": "Rohan Kaushik",
      "userId": "13918477614376051685"
     },
     "user_tz": -60
    },
    "id": "8aNkoXfyGq52"
   },
   "outputs": [],
   "source": []
  },
  {
   "cell_type": "code",
   "execution_count": null,
   "metadata": {
    "colab": {
     "base_uri": "https://localhost:8080/"
    },
    "executionInfo": {
     "elapsed": 1294,
     "status": "ok",
     "timestamp": 1667906074836,
     "user": {
      "displayName": "Rohan Kaushik",
      "userId": "13918477614376051685"
     },
     "user_tz": -60
    },
    "id": "O7sl7i5H5Dqz",
    "outputId": "78b99085-67db-459e-adeb-4bee022c6599"
   },
   "outputs": [],
   "source": [
    "# setting up params (and saving, if applicable)\n",
    "from numpy import *\n",
    "\n",
    "# RNN directory\n",
    "dir_name_rnn = os.getcwd()+'/saved_rnn/rnn_014'\n",
    "\n",
    "# reading AE directory\n",
    "with open(dir_name_rnn + '/sim_data_AE_params.txt') as f:\n",
    "    lines = f.readlines()\n",
    "\n",
    "params_dict = eval(''.join(lines))\n",
    "\n",
    "dir_name_ae = params_dict['dir_name_ae']\n",
    "ae_idx = dir_name_ae[-3:]\n",
    "dir_name_ae = os.getcwd()+'/saved_ae/ae_'+ae_idx\n",
    "\n",
    "# reading RNN paramaters\n",
    "with open(dir_name_rnn + '/RNN_specific_data.txt') as f:\n",
    "    lines = f.readlines()\n",
    "\n",
    "params_rnn_dict = eval(''.join(lines))\n",
    "\n",
    "dt_rnn = params_rnn_dict['dt_rnn']\n",
    "T_sample_input = params_rnn_dict['T_sample_input']\n",
    "T_sample_output = params_rnn_dict['T_sample_output']\n",
    "T_offset = params_rnn_dict['T_offset']\n",
    "return_params_arr = params_rnn_dict['return_params_arr']\n",
    "params = params_rnn_dict['params']\n",
    "try:\n",
    "    normalize_dataset = params_rnn_dict['normalize_dataset']\n",
    "except:\n",
    "    print(\"'normalize_dataset' not present in RNN_specific_data, set to False.\")\n",
    "    normalize_dataset = False\n",
    "try:\n",
    "    use_ae_data = params_rnn_dict['use_ae_data']\n",
    "except:\n",
    "    print(\"'use_ae_data' not present in RNN_specific_data, set to True.\")\n",
    "    use_ae_data = True\n",
    "try:\n",
    "    normalization_type = params_rnn_dict['normalization_type']\n",
    "except:\n",
    "    print(\"'normalization_type' not present in RNN_specific_data, set to 'stddev'.\")\n",
    "    normalization_type = 'stddev'\n",
    "try:\n",
    "    dense_layer_act_func = params_rnn_dict['dense_layer_act_func']\n",
    "except:\n",
    "    print(\"'dense_layer_act_func' not present in RNN_specific_data, set to 'linear'.\")\n",
    "    dense_layer_act_func = 'linear'\n",
    "\n",
    "normalization_arr_rnn = None\n",
    "if normalize_dataset == True:\n",
    "    with open(dir_name_rnn + '/final_net/rnn_normalization.txt') as f:\n",
    "        lines = f.readlines()\n",
    "    normarr_rnn_dict = eval(''.join(lines))\n",
    "    normalization_arr_rnn = normarr_rnn_dict['normalization_arr']\n",
    "    \n",
    "# reading simulation parameters\n",
    "with open(dir_name_ae + dir_sep + 'ae_data.txt') as f:\n",
    "    lines = f.readlines()\n",
    "params_dict = eval(''.join(lines))\n",
    "data_dir_idx = params_dict['data_dir_idx']\n",
    "normalizeforae_flag = params_dict['normalizeforae_flag']\n",
    "normalization_constant_arr_aedata = params_dict['normalization_constant_arr_aedata']\n",
    "try:\n",
    "    ae_data_with_params = params_dict['ae_data_with_params']\n",
    "except:\n",
    "    print(\"'ae_data_with_params' not present in ae_data, set to 'True'.\")\n",
    "    ae_data_with_params = True\n",
    "\n",
    "print('dir_name_rnn:', dir_name_rnn)\n",
    "print('dir_name_ae:', dir_name_ae)\n",
    "print('data_dir_idx:', data_dir_idx)\n",
    "\n",
    "# loading data\n",
    "dir_name_data = os.getcwd() + dir_sep + 'saved_data' + dir_sep + 'data_' + data_dir_idx\n",
    "    \n",
    "with open(dir_name_data + dir_sep + 'sim_data_params.txt') as f:\n",
    "    lines = f.readlines()\n",
    "params_dict = eval(''.join(lines))\n",
    "params_mat = params_dict['params_mat']\n",
    "# init_state_mat = params_dict['init_state_mat']\n",
    "t0 = params_dict['t0']\n",
    "T = params_dict['T']\n",
    "delta_t = params_dict['delta_t']\n",
    "numpoints_xgrid = params_dict['numpoints_xgrid']\n",
    "length = params_dict['length']\n",
    "return_params_arr = params_dict['return_params_arr']\n",
    "normalize_flag_ogdata = params_dict['normalize_flag']\n",
    "print('normalize_flag_ogdata:', normalize_flag_ogdata)\n",
    "alldata_withparams_flag = params_dict['alldata_withparams_flag']\n",
    "\n",
    "xgrid = length*np.linspace(0, 1, numpoints_xgrid)\n",
    "\n",
    "fl = np.load(dir_name_data+dir_sep+'data.npz', allow_pickle=True)\n",
    "all_data = fl['all_data']\n",
    "boundary_idx_arr = fl['boundary_idx_arr']\n",
    "normalization_constant_arr_ogdata = fl['normalization_constant_arr'][0]\n",
    "initial_t0 = fl['initial_t0']\n",
    "init_state_mat = fl['init_state_mat']\n",
    "lyapunov_spectrum_mat = fl['lyapunov_spectrum_mat']\n",
    "\n",
    "# training params\n",
    "with open(dir_name_rnn + dir_sep + 'training_specific_params.txt') as f:\n",
    "    lines = f.readlines()\n",
    "\n",
    "tparams_dict = eval(''.join(lines))\n",
    "\n",
    "# learning_rate_dict = tparams_dict['learning_rate_dict']\n",
    "epochs = tparams_dict['epochs']\n",
    "patience = tparams_dict['patience']\n",
    "min_delta = tparams_dict['min_delta']\n",
    "prng_seed = tparams_dict['prng_seed']\n",
    "train_split = tparams_dict['train_split']\n",
    "val_split = tparams_dict['val_split']\n",
    "batch_size = tparams_dict['batch_size']\n",
    "\n",
    "test_split = 1 - train_split - val_split\n",
    "\n",
    "# setting seed for PRNGs\n",
    "np.random.seed(prng_seed)\n",
    "tf.random.set_seed(prng_seed)\n",
    "\n",
    "# set which data to use for plotting histogram\n",
    "data_to_consider = 'training' # could be 'all', 'testing', 'training', 'val'"
   ]
  },
  {
   "cell_type": "code",
   "execution_count": null,
   "metadata": {
    "colab": {
     "base_uri": "https://localhost:8080/"
    },
    "executionInfo": {
     "elapsed": 10,
     "status": "ok",
     "timestamp": 1667906074837,
     "user": {
      "displayName": "Rohan Kaushik",
      "userId": "13918477614376051685"
     },
     "user_tz": -60
    },
    "id": "39KFCJLe-znp",
    "outputId": "d4f2103c-7421-4bee-fc68-b88e2bdddc2b"
   },
   "outputs": [],
   "source": [
    "lyapunov_time_arr = np.empty(shape=lyapunov_spectrum_mat.shape[0], dtype=FTYPE)\n",
    "for i in range(lyapunov_spectrum_mat.shape[0]):\n",
    "    lyapunov_time_arr[i] = 1/lyapunov_spectrum_mat[i, 0]\n",
    "    print('Case : {}, lyapunov exponent : {}, lyapunov time : {}s'.format(i+1, lyapunov_spectrum_mat[i, 0], lyapunov_time_arr[i]))"
   ]
  },
  {
   "cell_type": "code",
   "execution_count": null,
   "metadata": {
    "executionInfo": {
     "elapsed": 7,
     "status": "ok",
     "timestamp": 1667906074838,
     "user": {
      "displayName": "Rohan Kaushik",
      "userId": "13918477614376051685"
     },
     "user_tz": -60
    },
    "id": "ySVDz_2U5FH5"
   },
   "outputs": [],
   "source": [
    "def plot(\n",
    "        boundary_idx_arr,\n",
    "        delta_t,\n",
    "        all_data,\n",
    "        xgrid,\n",
    "        xticks_snapto=20,\n",
    "        num_yticks=11,\n",
    "    ):\n",
    "\n",
    "    n = len(boundary_idx_arr)\n",
    "    # '''\n",
    "    num_cols = 1\n",
    "    num_rows = 1\n",
    "    factor = 1\n",
    "    # fig = plt.figure(figsize=(7.5*num_cols, 7.5*num_rows))\n",
    "\n",
    "    num_modes = xgrid.shape[0]\n",
    "\n",
    "    prev_idx = 0\n",
    "    for i in range(len(boundary_idx_arr)):\n",
    "        next_idx = boundary_idx_arr[i]\n",
    "        fig, ax = plt.subplots(figsize=(factor*7.5*num_cols, factor*5.0*num_rows))\n",
    "        N = next_idx - prev_idx\n",
    "        input_time = np.arange(0, N)*delta_t\n",
    "\n",
    "        im = ax.imshow(all_data[prev_idx:next_idx, 0:num_modes].transpose(), aspect='auto', origin='lower')\n",
    "        num_xticks = 1 + int((N*delta_t + 0.5*xticks_snapto) // xticks_snapto)\n",
    "        # xticks = np.linspace(0, N, num_xticks, dtype=np.int32)\n",
    "        xticks = np.arange(0, N, int((xticks_snapto+0.5*delta_t)//delta_t))\n",
    "        ax.set_xticks(ticks=xticks)\n",
    "        ax.set_xticklabels(np.round(xticks*delta_t, 1))\n",
    "        ax.tick_params(axis='x', rotation=270+45)\n",
    "\n",
    "        yticks = np.linspace(0, 1, num_yticks)*(len(xgrid)-1)\n",
    "        yticklabels = np.round(np.linspace(0, 1, yticks.shape[0])*xgrid[-1], 2)\n",
    "        ax.set_yticks(ticks=yticks)\n",
    "        ax.set_yticklabels(yticklabels)\n",
    "\n",
    "        ax.set_xlabel('Time')\n",
    "        ax.set_ylabel(r'$x$')\n",
    "        # ax.title.set_text(r'Latent States')\n",
    "\n",
    "        plt.colorbar(im)\n",
    "        plt.show()\n",
    "        print('')\n",
    "\n",
    "        prev_idx = next_idx\n",
    "\n",
    "    # '''"
   ]
  },
  {
   "cell_type": "code",
   "execution_count": null,
   "metadata": {
    "colab": {
     "base_uri": "https://localhost:8080/",
     "height": 370
    },
    "executionInfo": {
     "elapsed": 711,
     "status": "ok",
     "timestamp": 1667906075542,
     "user": {
      "displayName": "Rohan Kaushik",
      "userId": "13918477614376051685"
     },
     "user_tz": -60
    },
    "id": "bkQx9q_p5Gro",
    "outputId": "961f4485-7da8-4703-dc0b-7cc3f5d787a4"
   },
   "outputs": [],
   "source": [
    "plot(\n",
    "    boundary_idx_arr,\n",
    "    delta_t,\n",
    "    all_data,\n",
    "    xgrid,\n",
    "    xticks_snapto=int(40*np.round((T//10)/40))\n",
    ")"
   ]
  },
  {
   "cell_type": "code",
   "execution_count": null,
   "metadata": {
    "executionInfo": {
     "elapsed": 8,
     "status": "ok",
     "timestamp": 1667906075543,
     "user": {
      "displayName": "Rohan Kaushik",
      "userId": "13918477614376051685"
     },
     "user_tz": -60
    },
    "id": "uDhfYHU45IS8"
   },
   "outputs": [],
   "source": [
    "# dealing with normalizing the data before feeding into autoencoder\n",
    "if normalizeforae_flag == True and use_ae_data == True:\n",
    "    for i in range(numpoints_xgrid):\n",
    "        all_data[:, i] -= normalization_constant_arr_aedata[0, i]\n",
    "        all_data[:, i] /= normalization_constant_arr_aedata[1, i]\n",
    "if ae_data_with_params == False:\n",
    "    all_data = all_data[:, 0:numpoints_xgrid]"
   ]
  },
  {
   "cell_type": "code",
   "execution_count": null,
   "metadata": {
    "colab": {
     "base_uri": "https://localhost:8080/",
     "height": 370
    },
    "executionInfo": {
     "elapsed": 1688,
     "status": "ok",
     "timestamp": 1667906077224,
     "user": {
      "displayName": "Rohan Kaushik",
      "userId": "13918477614376051685"
     },
     "user_tz": -60
    },
    "id": "-MJa7P5t5KiC",
    "outputId": "1b14e38f-7947-4356-8444-0bbbcac46d00",
    "scrolled": false
   },
   "outputs": [],
   "source": [
    "plot(\n",
    "    boundary_idx_arr,\n",
    "    delta_t,\n",
    "    all_data,\n",
    "    xgrid,\n",
    "    xticks_snapto=int(40*np.round((T//10)/40))\n",
    ")"
   ]
  },
  {
   "cell_type": "markdown",
   "metadata": {
    "id": "1v6KQEjR5LkK"
   },
   "source": [
    "# Autoencoder"
   ]
  },
  {
   "cell_type": "code",
   "execution_count": null,
   "metadata": {
    "executionInfo": {
     "elapsed": 17,
     "status": "ok",
     "timestamp": 1667906077226,
     "user": {
      "displayName": "Rohan Kaushik",
      "userId": "13918477614376051685"
     },
     "user_tz": -60
    },
    "id": "IjsRi02g5ORG"
   },
   "outputs": [],
   "source": [
    "from tools.ae_v3 import Autoencoder"
   ]
  },
  {
   "cell_type": "code",
   "execution_count": null,
   "metadata": {
    "executionInfo": {
     "elapsed": 18,
     "status": "ok",
     "timestamp": 1667906077228,
     "user": {
      "displayName": "Rohan Kaushik",
      "userId": "13918477614376051685"
     },
     "user_tz": -60
    },
    "id": "ZBTJl9PeneQb"
   },
   "outputs": [],
   "source": [
    "# load_file = dir_name_ae+dir_sep+'new_class_data'+dir_sep+'ae_'+ae_idx+'_class_dict.txt'\n",
    "# wt_file = dir_name_ae+dir_sep+'new_class_data'+dir_sep+'ae_'+ae_idx+'_ae_weights.h5'\n",
    "if use_ae_data == True:\n",
    "    load_file = dir_name_ae+dir_sep+'final_net'+dir_sep+'final_net_class_dict.txt'\n",
    "    wt_file = dir_name_ae+dir_sep+'final_net'+dir_sep+'final_net_ae_weights.h5'"
   ]
  },
  {
   "cell_type": "code",
   "execution_count": null,
   "metadata": {
    "colab": {
     "base_uri": "https://localhost:8080/"
    },
    "executionInfo": {
     "elapsed": 18,
     "status": "ok",
     "timestamp": 1667906077229,
     "user": {
      "displayName": "Rohan Kaushik",
      "userId": "13918477614376051685"
     },
     "user_tz": -60
    },
    "id": "a3Pq-qorneQb",
    "outputId": "5f28fef9-0539-4c0b-f15b-560158a6d89e",
    "scrolled": false
   },
   "outputs": [],
   "source": [
    "if use_ae_data == True:\n",
    "    ae_net = Autoencoder(all_data.shape[1], load_file=load_file)\n",
    "    ae_net.load_weights_from_file(wt_file)"
   ]
  },
  {
   "cell_type": "code",
   "execution_count": null,
   "metadata": {
    "executionInfo": {
     "elapsed": 13,
     "status": "ok",
     "timestamp": 1667906077230,
     "user": {
      "displayName": "Rohan Kaushik",
      "userId": "13918477614376051685"
     },
     "user_tz": -60
    },
    "id": "wwt4brHcOaXi"
   },
   "outputs": [],
   "source": []
  },
  {
   "cell_type": "code",
   "execution_count": null,
   "metadata": {
    "executionInfo": {
     "elapsed": 13,
     "status": "ok",
     "timestamp": 1667906077231,
     "user": {
      "displayName": "Rohan Kaushik",
      "userId": "13918477614376051685"
     },
     "user_tz": -60
    },
    "id": "Zl6ZvgtNtA_u",
    "scrolled": true
   },
   "outputs": [],
   "source": []
  },
  {
   "cell_type": "code",
   "execution_count": null,
   "metadata": {
    "executionInfo": {
     "elapsed": 14,
     "status": "ok",
     "timestamp": 1667906077232,
     "user": {
      "displayName": "Rohan Kaushik",
      "userId": "13918477614376051685"
     },
     "user_tz": -60
    },
    "id": "lXpoaKRIneQc"
   },
   "outputs": [],
   "source": []
  },
  {
   "cell_type": "code",
   "execution_count": null,
   "metadata": {
    "colab": {
     "base_uri": "https://localhost:8080/"
    },
    "executionInfo": {
     "elapsed": 493,
     "status": "ok",
     "timestamp": 1667906077711,
     "user": {
      "displayName": "Rohan Kaushik",
      "userId": "13918477614376051685"
     },
     "user_tz": -60
    },
    "id": "Q3a8HHyvneQc",
    "outputId": "142b028e-08db-4a9a-b193-ff9e688b3415",
    "scrolled": false
   },
   "outputs": [],
   "source": [
    "# create data\n",
    "if use_ae_data == True:\n",
    "    latent_states_all = ae_net.encoder_net.predict(all_data)\n",
    "    del(all_data)\n",
    "else:\n",
    "    latent_states_all = all_data[:, 0:xgrid.shape[0]]\n",
    "num_latent_states = latent_states_all.shape[1]\n",
    "\n",
    "time_stddev = np.std(latent_states_all, axis=0)"
   ]
  },
  {
   "cell_type": "code",
   "execution_count": null,
   "metadata": {
    "colab": {
     "base_uri": "https://localhost:8080/",
     "height": 384
    },
    "executionInfo": {
     "elapsed": 20,
     "status": "ok",
     "timestamp": 1667906077713,
     "user": {
      "displayName": "Rohan Kaushik",
      "userId": "13918477614376051685"
     },
     "user_tz": -60
    },
    "id": "wjgPNitSrt5p",
    "outputId": "5ae58b39-4ab9-4a59-ac4f-19cbaff64029"
   },
   "outputs": [],
   "source": [
    "plot_latent_states_KS(\n",
    "    boundary_idx_arr,\n",
    "    latent_states_all,\n",
    "    delta_t,\n",
    "    dir_name_ae,\n",
    "    xticks_snapto=int(40*np.round((T//10)/40)),\n",
    "    num_yticks=11,\n",
    "    save_figs=False)"
   ]
  },
  {
   "cell_type": "code",
   "execution_count": null,
   "metadata": {
    "executionInfo": {
     "elapsed": 20,
     "status": "ok",
     "timestamp": 1667906077714,
     "user": {
      "displayName": "Rohan Kaushik",
      "userId": "13918477614376051685"
     },
     "user_tz": -60
    },
    "id": "wnLnqg0Jrt5t"
   },
   "outputs": [],
   "source": [
    "# for i in range(ae_net.layers):\n",
    "#     tf.keras.utils.plot_model(\n",
    "#         ae_net.layers[i],\n",
    "#         to_file=dir_name_ae+'/plots/netlayer_{}.png'.format(i),\n",
    "#         show_shapes=True,\n",
    "#         dpi=300\n",
    "# )"
   ]
  },
  {
   "cell_type": "code",
   "execution_count": null,
   "metadata": {
    "executionInfo": {
     "elapsed": 20,
     "status": "ok",
     "timestamp": 1667906077715,
     "user": {
      "displayName": "Rohan Kaushik",
      "userId": "13918477614376051685"
     },
     "user_tz": -60
    },
    "id": "BOJE8vREtque"
   },
   "outputs": [],
   "source": []
  },
  {
   "cell_type": "code",
   "execution_count": null,
   "metadata": {
    "executionInfo": {
     "elapsed": 20,
     "status": "ok",
     "timestamp": 1667906077716,
     "user": {
      "displayName": "Rohan Kaushik",
      "userId": "13918477614376051685"
     },
     "user_tz": -60
    },
    "id": "fwjcsAxKneQe"
   },
   "outputs": [],
   "source": []
  },
  {
   "cell_type": "code",
   "execution_count": null,
   "metadata": {
    "executionInfo": {
     "elapsed": 20,
     "status": "ok",
     "timestamp": 1667906077716,
     "user": {
      "displayName": "Rohan Kaushik",
      "userId": "13918477614376051685"
     },
     "user_tz": -60
    },
    "id": "aFd7XgwVneQe"
   },
   "outputs": [],
   "source": []
  },
  {
   "cell_type": "markdown",
   "metadata": {
    "id": "8IAcFjRRn_IQ"
   },
   "source": [
    "# GRU"
   ]
  },
  {
   "cell_type": "code",
   "execution_count": null,
   "metadata": {
    "executionInfo": {
     "elapsed": 20,
     "status": "ok",
     "timestamp": 1667906077717,
     "user": {
      "displayName": "Rohan Kaushik",
      "userId": "13918477614376051685"
     },
     "user_tz": -60
    },
    "id": "lPVqWNwjoAGP"
   },
   "outputs": [],
   "source": [
    "T_sample_input = np.mean(lyapunov_time_arr)#50.1*dt_rnn\n",
    "T_sample_output = 10*np.mean(lyapunov_time_arr)\n",
    "T_offset = T_sample_input"
   ]
  },
  {
   "cell_type": "code",
   "execution_count": null,
   "metadata": {
    "executionInfo": {
     "elapsed": 20,
     "status": "ok",
     "timestamp": 1667906077717,
     "user": {
      "displayName": "Rohan Kaushik",
      "userId": "13918477614376051685"
     },
     "user_tz": -60
    },
    "id": "S21-VEUYrkk-"
   },
   "outputs": [],
   "source": [
    "skip_intermediate = 1/2"
   ]
  },
  {
   "cell_type": "code",
   "execution_count": null,
   "metadata": {
    "executionInfo": {
     "elapsed": 20,
     "status": "ok",
     "timestamp": 1667906077718,
     "user": {
      "displayName": "Rohan Kaushik",
      "userId": "13918477614376051685"
     },
     "user_tz": -60
    },
    "id": "oY8vMLOniVda"
   },
   "outputs": [],
   "source": []
  },
  {
   "cell_type": "code",
   "execution_count": null,
   "metadata": {
    "executionInfo": {
     "elapsed": 20,
     "status": "ok",
     "timestamp": 1667906077718,
     "user": {
      "displayName": "Rohan Kaushik",
      "userId": "13918477614376051685"
     },
     "user_tz": -60
    },
    "id": "EDFjIKHwiVdc"
   },
   "outputs": [],
   "source": []
  },
  {
   "cell_type": "code",
   "execution_count": null,
   "metadata": {
    "executionInfo": {
     "elapsed": 21,
     "status": "ok",
     "timestamp": 1667906077719,
     "user": {
      "displayName": "Rohan Kaushik",
      "userId": "13918477614376051685"
     },
     "user_tz": -60
    },
    "id": "UGnj8uQQ83-y"
   },
   "outputs": [],
   "source": []
  },
  {
   "cell_type": "code",
   "execution_count": null,
   "metadata": {
    "executionInfo": {
     "elapsed": 21,
     "status": "ok",
     "timestamp": 1667906077720,
     "user": {
      "displayName": "Rohan Kaushik",
      "userId": "13918477614376051685"
     },
     "user_tz": -60
    },
    "id": "0t2_8mzI1fhX"
   },
   "outputs": [],
   "source": [
    "rnn_res_dict = create_data_for_RNN(\n",
    "    latent_states_all,\n",
    "    dt_rnn,\n",
    "    T_sample_input,\n",
    "    T_sample_output,\n",
    "    T_offset,\n",
    "    None,\n",
    "    boundary_idx_arr,\n",
    "    delta_t,\n",
    "    params=params,\n",
    "    return_numsamples=True,\n",
    "    normalize_dataset=normalize_dataset,\n",
    "    normalization_arr_external=normalization_arr_rnn,\n",
    "    return_OrgDataIdxArr=False,\n",
    "    normalization_type=normalization_type,\n",
    "    skip_intermediate=skip_intermediate,\n",
    ")\n",
    "    \n",
    "data_rnn_input = rnn_res_dict['data_rnn_input']\n",
    "data_rnn_output = rnn_res_dict['data_rnn_output']\n",
    "org_data_idx_arr_input = rnn_res_dict['org_data_idx_arr_input']\n",
    "org_data_idx_arr_output = rnn_res_dict['org_data_idx_arr_output']\n",
    "num_samples = rnn_res_dict['num_samples']\n",
    "normalization_arr = rnn_res_dict['normalization_arr']\n",
    "rnn_data_boundary_idx_arr = rnn_res_dict['rnn_data_boundary_idx_arr']"
   ]
  },
  {
   "cell_type": "code",
   "execution_count": null,
   "metadata": {
    "executionInfo": {
     "elapsed": 21,
     "status": "ok",
     "timestamp": 1667906077720,
     "user": {
      "displayName": "Rohan Kaushik",
      "userId": "13918477614376051685"
     },
     "user_tz": -60
    },
    "id": "pIsWCXkbr7ws"
   },
   "outputs": [],
   "source": [
    "del(org_data_idx_arr_input)\n",
    "del(org_data_idx_arr_output)\n",
    "del(latent_states_all)"
   ]
  },
  {
   "cell_type": "code",
   "execution_count": null,
   "metadata": {},
   "outputs": [],
   "source": []
  },
  {
   "cell_type": "code",
   "execution_count": null,
   "metadata": {
    "executionInfo": {
     "elapsed": 22,
     "status": "ok",
     "timestamp": 1667906077721,
     "user": {
      "displayName": "Rohan Kaushik",
      "userId": "13918477614376051685"
     },
     "user_tz": -60
    },
    "id": "Hem_9PUqneQi"
   },
   "outputs": [],
   "source": [
    "if data_to_consider != 'all':\n",
    "    cum_samples = rnn_data_boundary_idx_arr[-1]\n",
    "    num_train = 0\n",
    "    num_val = 0\n",
    "    begin_idx = 0\n",
    "    for i in range(len(boundary_idx_arr)):\n",
    "        num_samples = rnn_data_boundary_idx_arr[i] - begin_idx\n",
    "        num_train += int( (1-test_split-val_split)*num_samples )\n",
    "        num_val += int(val_split*num_samples)\n",
    "        begin_idx = rnn_data_boundary_idx_arr[i]\n",
    "\n",
    "    # defining shapes\n",
    "    training_input_shape = [num_train]\n",
    "    training_input_shape.extend(data_rnn_input.shape[1:])\n",
    "\n",
    "    training_output_shape = [num_train]\n",
    "    training_output_shape.extend(data_rnn_output.shape[1:])\n",
    "\n",
    "    val_input_shape = [num_val]\n",
    "    val_input_shape.extend(data_rnn_input.shape[1:])\n",
    "\n",
    "    val_output_shape = [num_train]\n",
    "    val_output_shape.extend(data_rnn_output.shape[1:])\n",
    "\n",
    "    testing_input_shape = [cum_samples-num_train-num_val]\n",
    "    testing_input_shape.extend(data_rnn_input.shape[1:])\n",
    "\n",
    "    testing_output_shape = [cum_samples-num_train-num_val]\n",
    "    testing_output_shape.extend(data_rnn_output.shape[1:])\n",
    "\n",
    "    shape_to_use = eval(data_to_consider+'_input_shape')\n",
    "    rnn_data_idx = np.empty(shape=shape_to_use[0], dtype=np.int32)\n",
    "    \n",
    "    begin_idx = 0\n",
    "    training_data_rolling_count = 0\n",
    "    val_data_rolling_count = 0\n",
    "    testing_data_rolling_count = 0\n",
    "    for i in range(len(boundary_idx_arr)):\n",
    "        num_samples = rnn_data_boundary_idx_arr[i] - begin_idx\n",
    "        num_train = int( (1-test_split-val_split)*num_samples )\n",
    "        num_val = int(val_split*num_samples)\n",
    "        num_test = num_samples-num_train-num_val+1\n",
    "\n",
    "        if data_to_consider == 'training':\n",
    "            rnn_data_idx[training_data_rolling_count:training_data_rolling_count+num_train] = np.arange(begin_idx, begin_idx+num_train)\n",
    "        elif data_to_consider == 'val':\n",
    "            rnn_data_idx[val_data_rolling_count:val_data_rolling_count+num_val] = np.arange(begin_idx+num_train, begin_idx+num_train+num_val)\n",
    "        elif data_to_consider == 'testing':\n",
    "            rnn_data_idx[testing_data_rolling_count:testing_data_rolling_count+num_test] = np.arange(begin_idx+num_train+num_val, rnn_data_boundary_idx_arr[i])\n",
    "\n",
    "        training_data_rolling_count += num_train\n",
    "        val_data_rolling_count += num_val\n",
    "        testing_data_rolling_count += num_test\n",
    "\n",
    "        begin_idx = rnn_data_boundary_idx_arr[i]\n",
    "\n",
    "    # shuffling\n",
    "    np.random.shuffle(rnn_data_idx)\n",
    "    data_rnn_input = data_rnn_input[rnn_data_idx]\n",
    "    data_rnn_output = data_rnn_output[rnn_data_idx]\n",
    "    del(rnn_data_idx)"
   ]
  },
  {
   "cell_type": "code",
   "execution_count": null,
   "metadata": {
    "executionInfo": {
     "elapsed": 22,
     "status": "ok",
     "timestamp": 1667906077722,
     "user": {
      "displayName": "Rohan Kaushik",
      "userId": "13918477614376051685"
     },
     "user_tz": -60
    },
    "id": "uskBAAXpneQi"
   },
   "outputs": [],
   "source": [
    "# del(data_rnn_input)\n",
    "# del(data_rnn_output)"
   ]
  },
  {
   "cell_type": "code",
   "execution_count": null,
   "metadata": {
    "executionInfo": {
     "elapsed": 23,
     "status": "ok",
     "timestamp": 1667906077723,
     "user": {
      "displayName": "Rohan Kaushik",
      "userId": "13918477614376051685"
     },
     "user_tz": -60
    },
    "id": "-1uL-GomneQi"
   },
   "outputs": [],
   "source": [
    "print(' data_rnn_input.shape :', data_rnn_input.shape)\n",
    "print('data_rnn_output.shape :', data_rnn_output.shape)"
   ]
  },
  {
   "cell_type": "code",
   "execution_count": null,
   "metadata": {
    "executionInfo": {
     "elapsed": 24,
     "status": "ok",
     "timestamp": 1667906077724,
     "user": {
      "displayName": "Rohan Kaushik",
      "userId": "13918477614376051685"
     },
     "user_tz": -60
    },
    "id": "4hx9ZaSpEMmv"
   },
   "outputs": [],
   "source": [
    "# idx = np.arange(data_rnn_input.shape[0])\n",
    "# np.random.shuffle(idx)\n",
    "# boundary = int(np.round(train_split*data_rnn_input.shape[0]))\n",
    "\n",
    "# training_data_rnn_input = data_rnn_input[idx[0:boundary]]\n",
    "# training_data_rnn_output = data_rnn_output[idx[0:boundary]]\n",
    "\n",
    "# testing_data_rnn_input = data_rnn_input[idx[boundary:]]\n",
    "# testing_data_rnn_output = data_rnn_output[idx[boundary:]]"
   ]
  },
  {
   "cell_type": "code",
   "execution_count": null,
   "metadata": {
    "executionInfo": {
     "elapsed": 25,
     "status": "ok",
     "timestamp": 1667906077725,
     "user": {
      "displayName": "Rohan Kaushik",
      "userId": "13918477614376051685"
     },
     "user_tz": -60
    },
    "id": "EENXaWqcKW7j"
   },
   "outputs": [],
   "source": []
  },
  {
   "cell_type": "code",
   "execution_count": null,
   "metadata": {
    "executionInfo": {
     "elapsed": 25,
     "status": "ok",
     "timestamp": 1667906077726,
     "user": {
      "displayName": "Rohan Kaushik",
      "userId": "13918477614376051685"
     },
     "user_tz": -60
    },
    "id": "8isZN1tYBifp"
   },
   "outputs": [],
   "source": []
  },
  {
   "cell_type": "code",
   "execution_count": null,
   "metadata": {
    "executionInfo": {
     "elapsed": 26,
     "status": "ok",
     "timestamp": 1667906077727,
     "user": {
      "displayName": "Rohan Kaushik",
      "userId": "13918477614376051685"
     },
     "user_tz": -60
    },
    "id": "x3KglJsgneQj"
   },
   "outputs": [],
   "source": []
  },
  {
   "cell_type": "code",
   "execution_count": null,
   "metadata": {
    "executionInfo": {
     "elapsed": 26,
     "status": "ok",
     "timestamp": 1667906077727,
     "user": {
      "displayName": "Rohan Kaushik",
      "userId": "13918477614376051685"
     },
     "user_tz": -60
    },
    "id": "ixetsZHjCMKO"
   },
   "outputs": [],
   "source": []
  },
  {
   "cell_type": "code",
   "execution_count": null,
   "metadata": {
    "executionInfo": {
     "elapsed": 28,
     "status": "ok",
     "timestamp": 1667906077729,
     "user": {
      "displayName": "Rohan Kaushik",
      "userId": "13918477614376051685"
     },
     "user_tz": -60
    },
    "id": "_NSTtZuyneQk"
   },
   "outputs": [],
   "source": []
  },
  {
   "cell_type": "code",
   "execution_count": null,
   "metadata": {
    "colab": {
     "base_uri": "https://localhost:8080/"
    },
    "executionInfo": {
     "elapsed": 48229,
     "status": "ok",
     "timestamp": 1667906125931,
     "user": {
      "displayName": "Rohan Kaushik",
      "userId": "13918477614376051685"
     },
     "user_tz": -60
    },
    "id": "Py-Jg0QKneQk",
    "outputId": "83b7ba88-cff4-4581-9532-8589fd5fb63c",
    "scrolled": false
   },
   "outputs": [],
   "source": [
    "# Initialize network\n",
    "load_file = dir_name_rnn + dir_sep + 'final_net' + dir_sep + 'final_net_class_dict.txt'\n",
    "rnn_net = RNN_GRU(\n",
    "    load_file=load_file,\n",
    "    T_input=T_sample_input,\n",
    "    T_output=T_sample_output,\n",
    "#     normalization_arr=normalization_arr,\n",
    "    stddev=0.0,\n",
    ")\n",
    "\n",
    "\n",
    "wt_file = dir_name_rnn+dir_sep+'final_net'+dir_sep+'final_net_gru_weights.h5'\n",
    "# wt_file = dir_name_rnn+dir_sep+'final_net'+dir_sep+'f2'#+dir_sep+'saved_model.pb'\n",
    "\n",
    "# this forces the model to initialize its kernel weights/biases\n",
    "# temp = rnn_net.predict(tf.ones(shape=[batch_size, int(T_sample_input//dt_rnn), rnn_net.data_dim]))\n",
    "# this loads just the kernel wieghts and biases of the model\n",
    "rnn_net.load_weights_from_file(wt_file)\n",
    "\n",
    "# rnn_net = tf.keras.models.load_model(wt_file)"
   ]
  },
  {
   "cell_type": "code",
   "execution_count": null,
   "metadata": {
    "executionInfo": {
     "elapsed": 17,
     "status": "ok",
     "timestamp": 1667906125932,
     "user": {
      "displayName": "Rohan Kaushik",
      "userId": "13918477614376051685"
     },
     "user_tz": -60
    },
    "id": "7ASCopnIH6nl"
   },
   "outputs": [],
   "source": [
    "with open(dir_name_rnn+'{ds}final_net{ds}losses.txt'.format(ds=dir_sep), 'r') as f:\n",
    "    lines = f.readlines()\n",
    "\n",
    "losses_dict = eval(''.join(lines))\n",
    "\n",
    "val_loss_hist = losses_dict['val_loss_hist']\n",
    "train_loss_hist = losses_dict['train_loss_hist']\n",
    "lr_change = losses_dict['lr_change']\n",
    "test_loss = losses_dict['test_loss']"
   ]
  },
  {
   "cell_type": "code",
   "execution_count": null,
   "metadata": {
    "executionInfo": {
     "elapsed": 16,
     "status": "ok",
     "timestamp": 1667906125932,
     "user": {
      "displayName": "Rohan Kaushik",
      "userId": "13918477614376051685"
     },
     "user_tz": -60
    },
    "id": "6hh1pbKjCcO4",
    "scrolled": true
   },
   "outputs": [],
   "source": [
    "# compiling the network\n",
    "rnn_net.compile(\n",
    "    optimizer=tf.keras.optimizers.Adam(learning_rate=0.001),\n",
    "    loss=losses.MeanSquaredError(),\n",
    "    run_eagerly=False\n",
    ")"
   ]
  },
  {
   "cell_type": "code",
   "execution_count": null,
   "metadata": {
    "executionInfo": {
     "elapsed": 17,
     "status": "ok",
     "timestamp": 1667906125933,
     "user": {
      "displayName": "Rohan Kaushik",
      "userId": "13918477614376051685"
     },
     "user_tz": -60
    },
    "id": "SO7iK4mbneQm"
   },
   "outputs": [],
   "source": []
  },
  {
   "cell_type": "code",
   "execution_count": null,
   "metadata": {
    "executionInfo": {
     "elapsed": 16,
     "status": "ok",
     "timestamp": 1667906125933,
     "user": {
      "displayName": "Rohan Kaushik",
      "userId": "13918477614376051685"
     },
     "user_tz": -60
    },
    "id": "tT_3gGMZNxPt"
   },
   "outputs": [],
   "source": []
  },
  {
   "cell_type": "code",
   "execution_count": null,
   "metadata": {
    "executionInfo": {
     "elapsed": 744,
     "status": "ok",
     "timestamp": 1667906126661,
     "user": {
      "displayName": "Rohan Kaushik",
      "userId": "13918477614376051685"
     },
     "user_tz": -60
    },
    "id": "oFUdwhnX3ft_"
   },
   "outputs": [],
   "source": [
    "# %pdb"
   ]
  },
  {
   "cell_type": "code",
   "execution_count": null,
   "metadata": {
    "colab": {
     "base_uri": "https://localhost:8080/",
     "height": 279
    },
    "executionInfo": {
     "elapsed": 17,
     "status": "ok",
     "timestamp": 1667906126662,
     "user": {
      "displayName": "Rohan Kaushik",
      "userId": "13918477614376051685"
     },
     "user_tz": -60
    },
    "id": "nDv5D8APneQm",
    "outputId": "76247907-1242-409a-9b1c-35591e209974"
   },
   "outputs": [],
   "source": [
    "# plotting losses\n",
    "\n",
    "# Visualize loss history\n",
    "fig, ax = plot_losses(\n",
    "    training_loss=train_loss_hist,\n",
    "    val_loss=val_loss_hist,\n",
    "    lr_change=lr_change,\n",
    "    learning_rate_list=None\n",
    ")\n",
    "\n",
    "# plt.savefig(dir_name_rnn+'{ds}plots{ds}loss_history.png'.format(ds=dir_sep), dpi=300, bbox_inches='tight')\n",
    "plt.show()\n"
   ]
  },
  {
   "cell_type": "code",
   "execution_count": null,
   "metadata": {
    "executionInfo": {
     "elapsed": 16,
     "status": "ok",
     "timestamp": 1667906126663,
     "user": {
      "displayName": "Rohan Kaushik",
      "userId": "13918477614376051685"
     },
     "user_tz": -60
    },
    "id": "dbLa0AwlDBWh"
   },
   "outputs": [],
   "source": []
  },
  {
   "cell_type": "code",
   "execution_count": null,
   "metadata": {
    "executionInfo": {
     "elapsed": 17,
     "status": "ok",
     "timestamp": 1667906126664,
     "user": {
      "displayName": "Rohan Kaushik",
      "userId": "13918477614376051685"
     },
     "user_tz": -60
    },
    "id": "-ZGJPpKjh71R"
   },
   "outputs": [],
   "source": []
  },
  {
   "cell_type": "code",
   "execution_count": null,
   "metadata": {
    "executionInfo": {
     "elapsed": 17,
     "status": "ok",
     "timestamp": 1667906126665,
     "user": {
      "displayName": "Rohan Kaushik",
      "userId": "13918477614376051685"
     },
     "user_tz": -60
    },
    "id": "LwsoOfjAj4LF"
   },
   "outputs": [],
   "source": [
    "def rescale_data(data, normalization_arr):\n",
    "    '''\n",
    "    data - [num_batches x num_timesteps x num_states]\n",
    "    normalization_arr = [2 x num_states]\n",
    "    '''\n",
    "    new_data = data.copy()\n",
    "    shape = new_data.shape\n",
    "    for i in range(data.shape[-1]):\n",
    "        new_data[:, i] -= normalization_arr[0, i]\n",
    "        new_data[:, i] /= normalization_arr[1, i]\n",
    "\n",
    "    return new_data\n",
    "\n",
    "def norm_sq_time_average(data):\n",
    "    data_norm_sq = np.zeros(shape=data.shape[0])\n",
    "    for i in range(data.shape[1]):\n",
    "        data_norm_sq[:] += data[:, i]**2\n",
    "    # integrating using the trapezoidal rule\n",
    "    norm_sq_time_avg = np.sum(data_norm_sq) - 0.5*(data_norm_sq[0]+data_norm_sq[-1])\n",
    "    norm_sq_time_avg /= data_norm_sq.shape[0]\n",
    "    return norm_sq_time_avg\n",
    "\n",
    "def invert_normalization(data, normalization_arr):\n",
    "    new_data = data.copy()\n",
    "    shape = new_data.shape\n",
    "    for i in range(shape[-1]):\n",
    "        if len(shape) == 2:\n",
    "            new_data[:, i] *= normalization_arr[1, i]\n",
    "            new_data[:, i] += normalization_arr[0, i]\n",
    "        elif len(shape) == 3:\n",
    "            new_data[:, :, i] *= normalization_arr[1, i]\n",
    "            new_data[:, :, i] += normalization_arr[0, i]\n",
    "    return new_data"
   ]
  },
  {
   "cell_type": "code",
   "execution_count": null,
   "metadata": {
    "colab": {
     "base_uri": "https://localhost:8080/",
     "height": 878
    },
    "executionInfo": {
     "elapsed": 22161,
     "status": "ok",
     "timestamp": 1667906148809,
     "user": {
      "displayName": "Rohan Kaushik",
      "userId": "13918477614376051685"
     },
     "user_tz": -60
    },
    "id": "m7QbGGhbIP3I",
    "outputId": "384d9ba0-08cd-48e7-80ce-172af8e0100e",
    "scrolled": false
   },
   "outputs": [],
   "source": [
    "data_in = data_rnn_input\n",
    "data_out = data_rnn_output\n",
    "\n",
    "data_idx = np.arange(data_in.shape[0])\n",
    "np.random.shuffle(data_idx)\n",
    "data_idx = data_idx[0]\n",
    "# data_idx = 0\n",
    "for i in range(len(rnn_data_boundary_idx_arr)):\n",
    "    if data_idx < rnn_data_boundary_idx_arr[i]:\n",
    "        case_idx = i\n",
    "        break\n",
    "lyap_time = lyapunov_time_arr[case_idx]\n",
    "\n",
    "print('case {}, data_idx : {}'.format(case_idx+1, data_idx))\n",
    "\n",
    "# data_in = data_in[data_idx]\n",
    "data_out = data_out[data_idx]\n",
    "# data_out = rescale_data(data_out, normalization_arr)\n",
    "data_out = invert_normalization(data_out, normalization_arr)\n",
    "\n",
    "prediction = rnn_net.predict(data_in[data_idx:data_idx+1, :, :])\n",
    "# prediction = rnn_net(data_in[data_idx:data_idx+1, :, :], training=False)\n",
    "# prediction = rnn_net.call(data_in[data_idx:data_idx+1, :, :], training=False)\n",
    "prediction = invert_normalization(prediction, normalization_arr)\n",
    "\n",
    "n = 1\n",
    "num_latent_states = data_out.shape[-1]\n",
    "N = data_out.shape[0]\n",
    "\n",
    "num_cols = 1\n",
    "num_rows = n*num_latent_states\n",
    "\n",
    "ax_ylabels = ['$x^*_{' +str(i)+'}$' for i in range(1, num_latent_states+1)]\n",
    "\n",
    "fig, ax = plt.subplots(num_latent_states, 1, sharex=True, figsize=(7.5*num_cols, 2.5*num_rows))\n",
    "if num_latent_states == 1:\n",
    "    ax = [ax]\n",
    "input_time = np.arange(0, N)*dt_rnn/lyap_time\n",
    "\n",
    "cmap = plt.get_cmap('jet')\n",
    "colors = [cmap(i) for i in np.linspace(0, 1, 2*n)]\n",
    "\n",
    "prev_idx = 0\n",
    "\n",
    "mpl_ax_artist_list = []\n",
    "for j in range(num_latent_states):\n",
    "    for i in range(n):\n",
    "        obj_in = ax[j].plot(input_time, data_out[:, j], linewidth=1, color=colors[2*i], label='Case {} - actual data'.format(i+1))\n",
    "        obj_out = ax[j].plot(input_time, prediction[0, :, j], linewidth=1, color=colors[2*i+1], label='Case {} - predicted data'.format(i+1))\n",
    "        mpl_ax_artist_list.append(obj_in[0])\n",
    "        mpl_ax_artist_list.append(obj_out[0])\n",
    "    ax[j].set_ylabel(ax_ylabels[j])\n",
    "    # if xlim is not None:\n",
    "    #     ax[j].set_xlim(xlim)\n",
    "    # if ylim is not None:\n",
    "    #     ax[j].set_ylim(ylim)\n",
    "    ax[j].grid(True)\n",
    "    ax[j].set_axisbelow(True)\n",
    "\n",
    "\n",
    "ax[-1].set_xlabel('Time$^+$')\n",
    "\n",
    "max_rows = 10\n",
    "max_rows = float(max_rows)\n",
    "ncols = int(np.ceil(len(boundary_idx_arr) / max_rows))\n",
    "ax[0].legend(\n",
    "    loc='best',\n",
    "    ncol=ncols,\n",
    ")\n",
    "ax[0].set_title(r'Latent States', size=12)\n",
    "plt.show()\n",
    "# plt.savefig('AR-GRU.png', dpi=300, bbox_inches='tight')\n",
    "print('')\n",
    "\n",
    "### Error and prediction horizon\n",
    "# error = np.linalg.norm(data_out[:, :] - prediction[0, :, :], axis=1)\n",
    "error = (data_out[:, :] - prediction[0, :, :])**2\n",
    "# error /= norm_sq_time_average(data_out)**0.5\n",
    "error = np.linalg.norm(np.divide(error, time_stddev**2), axis=1)**0.5\n",
    "\n",
    "# print(norm_sq_time_average(data_out)**0.5)\n",
    "\n",
    "fig2, ax2 = plt.subplots(1, 1, figsize=(7.5, 2.5))\n",
    "ax2.plot(input_time, error)\n",
    "ax2.grid(True)\n",
    "ax2.set_axisbelow(True)\n",
    "ax2.set_xlabel('Time$^+$')\n",
    "ax2.set_ylabel('Normalized Error')\n",
    "\n",
    "error_threshold = 0.5\n",
    "\n",
    "predhor_idx = np.where(error >= error_threshold)[0][0]\n",
    "ax2.plot(input_time[predhor_idx], error[predhor_idx], 'o', color='k')\n",
    "ax2.axhline(error[predhor_idx], linewidth=0.9, linestyle='--', color='k')\n",
    "ax2.axvline(input_time[predhor_idx], linewidth=0.9, linestyle='--', color='k')\n",
    "\n",
    "prediction_horizon = predhor_idx*dt_rnn/lyap_time\n",
    "print(prediction_horizon)\n",
    "\n",
    "\n",
    "\n",
    "plt.show()"
   ]
  },
  {
   "cell_type": "code",
   "execution_count": null,
   "metadata": {
    "colab": {
     "base_uri": "https://localhost:8080/"
    },
    "executionInfo": {
     "elapsed": 11,
     "status": "ok",
     "timestamp": 1667906148811,
     "user": {
      "displayName": "Rohan Kaushik",
      "userId": "13918477614376051685"
     },
     "user_tz": -60
    },
    "id": "o1UcJu42j4LH",
    "outputId": "7c06ef5f-84bf-49f1-f58b-c0d5fd1f580e"
   },
   "outputs": [],
   "source": [
    "data_in.shape"
   ]
  },
  {
   "cell_type": "code",
   "execution_count": null,
   "metadata": {
    "colab": {
     "base_uri": "https://localhost:8080/"
    },
    "executionInfo": {
     "elapsed": 82855,
     "status": "ok",
     "timestamp": 1667906231658,
     "user": {
      "displayName": "Rohan Kaushik",
      "userId": "13918477614376051685"
     },
     "user_tz": -60
    },
    "id": "pN2CsGwlj4LJ",
    "outputId": "9e01a854-68b5-463b-fd64-7d034061f1b4"
   },
   "outputs": [],
   "source": [
    "data_in_og = data_rnn_input\n",
    "data_out_og = data_rnn_output\n",
    "\n",
    "num_runs = 10000\n",
    "num_runs = np.min([10000, data_in_og.shape[0]])\n",
    "print('num_runs :', num_runs)\n",
    "error_threshold = 0.5\n",
    "\n",
    "# data_idx_arr = np.arange(data_in_og.shape[0])\n",
    "# np.random.shuffle(data_idx_arr)\n",
    "data_idx_arr = np.linspace(0, data_in_og.shape[0]-1, num_runs, dtype=np.int32)\n",
    "\n",
    "prediction_horizon_arr = np.empty(shape=num_runs)\n",
    "\n",
    "prediction = rnn_net.predict(data_in_og[data_idx_arr[0:num_runs], :, :])\n",
    "prediction = invert_normalization(prediction, normalization_arr)\n",
    "\n",
    "for i in range(num_runs):\n",
    "    data_idx = data_idx_arr[i]\n",
    "\n",
    "    for j in range(len(rnn_data_boundary_idx_arr)):\n",
    "        if data_idx < rnn_data_boundary_idx_arr[j]:\n",
    "            case_idx = j\n",
    "            break\n",
    "    lyap_time = lyapunov_time_arr[j]\n",
    "    \n",
    "    data_out = data_out_og[data_idx]\n",
    "#     data_out = rescale_data(data_out, normalization_arr)\n",
    "    data_out = invert_normalization(data_out, normalization_arr)\n",
    "\n",
    "    # prediction = rnn_net.predict(data_in_og[data_idx:data_idx+1, :, :])\n",
    "\n",
    "    ### Error and prediction horizon\n",
    "    # error = np.linalg.norm(data_out[:, :] - prediction[i, :, :], axis=1)\n",
    "    error = (data_out[:, :] - prediction[i, :, :])**2\n",
    "    # error /= norm_sq_time_average(data_out)**0.5\n",
    "    error = np.linalg.norm(np.divide(error, time_stddev**2), axis=1)**0.5\n",
    "\n",
    "    predhor_idx = np.where(error >= error_threshold)[0]\n",
    "    if predhor_idx.shape[0] == 0:\n",
    "        predhor_idx = error.shape[0]\n",
    "    else:\n",
    "        predhor_idx = predhor_idx[0]\n",
    "\n",
    "    prediction_horizon_arr[i] = predhor_idx*dt_rnn/lyap_time\n",
    "\n",
    "prediction_horizon = np.mean(prediction_horizon_arr)\n",
    "stddev_ph = np.std(prediction_horizon_arr)\n",
    "print(dir_name_rnn[-7:], prediction_horizon, stddev_ph)"
   ]
  },
  {
   "cell_type": "code",
   "execution_count": null,
   "metadata": {},
   "outputs": [],
   "source": []
  },
  {
   "cell_type": "code",
   "execution_count": null,
   "metadata": {
    "colab": {
     "base_uri": "https://localhost:8080/"
    },
    "executionInfo": {
     "elapsed": 15,
     "status": "ok",
     "timestamp": 1667906231660,
     "user": {
      "displayName": "Rohan Kaushik",
      "userId": "13918477614376051685"
     },
     "user_tz": -60
    },
    "id": "edhcc14QBEM_",
    "outputId": "718cb390-22cc-4060-8841-2c84dd336a6a"
   },
   "outputs": [],
   "source": [
    "np.min(prediction_horizon_arr)"
   ]
  },
  {
   "cell_type": "code",
   "execution_count": null,
   "metadata": {
    "colab": {
     "base_uri": "https://localhost:8080/"
    },
    "executionInfo": {
     "elapsed": 9,
     "status": "ok",
     "timestamp": 1667906231660,
     "user": {
      "displayName": "Rohan Kaushik",
      "userId": "13918477614376051685"
     },
     "user_tz": -60
    },
    "id": "ZCUg0_1-wWzv",
    "outputId": "8594ea06-84f4-4c09-eae9-5afb725db8cf"
   },
   "outputs": [],
   "source": [
    "np.max(prediction_horizon_arr)"
   ]
  },
  {
   "cell_type": "code",
   "execution_count": null,
   "metadata": {
    "executionInfo": {
     "elapsed": 8,
     "status": "ok",
     "timestamp": 1667906231661,
     "user": {
      "displayName": "Rohan Kaushik",
      "userId": "13918477614376051685"
     },
     "user_tz": -60
    },
    "id": "hlSIsoKXwWzw"
   },
   "outputs": [],
   "source": [
    "# savefig_fname = 'pre-ARtraining'+'_'+data_to_consider+'data'\n",
    "# savefig_fname = 'post-ARtraining'\n",
    "savefig_fname = None\n",
    "nbins = np.min([100, data_in.shape[0]//8])"
   ]
  },
  {
   "cell_type": "code",
   "execution_count": null,
   "metadata": {},
   "outputs": [],
   "source": [
    "if savefig_fname != None:\n",
    "    np.savez(\n",
    "        dir_name_rnn+dir_sep+'prediction_horizons-'+data_to_consider+'data',\n",
    "        prediction_horizon_arr=prediction_horizon_arr,\n",
    "        mean_ph=prediction_horizon,\n",
    "        min_ph=np.min(prediction_horizon_arr),\n",
    "        max_ph=np.max(prediction_horizon_arr),\n",
    "        stddev_ph=stddev_ph\n",
    "    )"
   ]
  },
  {
   "cell_type": "code",
   "execution_count": null,
   "metadata": {
    "executionInfo": {
     "elapsed": 831,
     "status": "ok",
     "timestamp": 1667906232484,
     "user": {
      "displayName": "Rohan Kaushik",
      "userId": "13918477614376051685"
     },
     "user_tz": -60
    },
    "id": "nqWYs0x4wWzx"
   },
   "outputs": [],
   "source": [
    "fig, ax = plt.subplots()\n",
    "\n",
    "bin_width = 0.05\n",
    "bin_begin = 0\n",
    "bin_end = bin_width*np.round((np.max(prediction_horizon_arr)+0.5*bin_width)//bin_width)\n",
    "nbins = int(np.round(bin_end/bin_width))\n",
    "\n",
    "ax.hist(prediction_horizon_arr, bins=nbins, range = [bin_begin, bin_end], density=True)\n",
    "ax.axvline(prediction_horizon, linewidth=0.9, linestyle='--', color='k')\n",
    "\n",
    "ax.set_xlabel('Prediction Horizon (Lyapunov times)')\n",
    "ax.set_ylabel('PDF')\n",
    "\n",
    "ax.grid(True)\n",
    "# ax.set_axisbelow(True)\n",
    "\n",
    "ax.text(\n",
    "    0.01 + ax.transAxes.inverted().transform(ax.transData.transform([prediction_horizon, 0]))[0],\n",
    "    0.8,\n",
    "    'mean',\n",
    "    rotation=90,\n",
    "    verticalalignment='bottom',\n",
    "    horizontalalignment='left',\n",
    "    bbox=dict(facecolor=np.array([255,255,153])/255, alpha=1, boxstyle='square,pad=0.2'),\n",
    "    transform=ax.transAxes\n",
    ")\n",
    "\n",
    "text_xy = [0.95, 0.95]\n",
    "ax.text(\n",
    "    text_xy[0],\n",
    "    text_xy[1],\n",
    "    'mean : {:.4f}\\nmax : {:.4f}\\nmin : {:.4f}\\nstddev : {:.4f}'.format(\n",
    "        prediction_horizon,\n",
    "        np.max(prediction_horizon_arr),\n",
    "        np.min(prediction_horizon_arr),\n",
    "        stddev_ph,\n",
    "    ),\n",
    "    transform=ax.transAxes,\n",
    "    bbox=dict(\n",
    "        boxstyle=\"round\",\n",
    "        ec=(0.6, 0.6, 1),\n",
    "        fc=(0.9, 0.9, 1),\n",
    "    ),\n",
    "    # bbox=dict(facecolor='C0', alpha=0.5, boxstyle='round,pad=0.2'),\n",
    "    horizontalalignment='right',\n",
    "    verticalalignment='top'\n",
    ")\n",
    "\n",
    "ax.set_title('nbins = {}'.format(nbins))\n",
    "\n",
    "if savefig_fname is not None:\n",
    "    fig.savefig(dir_name_rnn+dir_sep+'plots'+dir_sep+savefig_fname+'.png', dpi=300, bbox_inches='tight')\n",
    "    fig.clear()\n",
    "    plt.close()\n",
    "else:\n",
    "    plt.show()\n",
    "    print('')"
   ]
  },
  {
   "cell_type": "code",
   "execution_count": null,
   "metadata": {
    "executionInfo": {
     "elapsed": 12,
     "status": "ok",
     "timestamp": 1667906232485,
     "user": {
      "displayName": "Rohan Kaushik",
      "userId": "13918477614376051685"
     },
     "user_tz": -60
    },
    "id": "khbTRchlwWzy"
   },
   "outputs": [],
   "source": []
  },
  {
   "cell_type": "code",
   "execution_count": null,
   "metadata": {},
   "outputs": [],
   "source": []
  }
 ],
 "metadata": {
  "colab": {
   "collapsed_sections": [],
   "provenance": []
  },
  "gpuClass": "standard",
  "kernelspec": {
   "display_name": "Python 3 (ipykernel)",
   "language": "python",
   "name": "python3"
  },
  "language_info": {
   "codemirror_mode": {
    "name": "ipython",
    "version": 3
   },
   "file_extension": ".py",
   "mimetype": "text/x-python",
   "name": "python",
   "nbconvert_exporter": "python",
   "pygments_lexer": "ipython3",
   "version": "3.10.6"
  }
 },
 "nbformat": 4,
 "nbformat_minor": 1
}
